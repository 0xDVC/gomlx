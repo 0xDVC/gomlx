{
 "cells": [
  {
   "cell_type": "code",
   "execution_count": 1,
   "id": "aa60e348-627d-497f-bcae-648693b71d34",
   "metadata": {},
   "outputs": [
    {
     "name": "stdout",
     "output_type": "stream",
     "text": [
      "Changed directory to \"/home/janpf/work/inceptionv3\"\n"
     ]
    }
   ],
   "source": [
    "!*go mod edit -replace github.com/gomlx/gomlx=/opt/janpf/Projects/gomlx.gomlx\n",
    "%cd /home/janpf/work/inceptionv3"
   ]
  },
  {
   "cell_type": "code",
   "execution_count": 2,
   "id": "1728dd41-fda7-4a45-adac-689a3c8356a5",
   "metadata": {},
   "outputs": [],
   "source": [
    "import (\n",
    "    \"log\"\n",
    "    \"path\"\n",
    "\n",
    "    \"github.com/gomlx/gomlx/ml/data\"\n",
    "    \"github.com/gomlx/gomlx/models/inceptionv3\"\n",
    ")\n",
    "\n",
    "var (\n",
    "    flagDataDir = flag.String(\"data\", \"~/work/inceptionv3\", \"Directory to save and load downloaded and generated dataset files.\")\n",
    ")\n",
    "\n",
    "func AssertNoError(err error) {\n",
    "    if err != nil {\n",
    "        log.Fatalf(\"Error: %+v\\n\", err)\n",
    "    }\n",
    "}\n",
    "\n",
    "func MustNoError[T any](value T, err error) T {\n",
    "    AssertNoError(err)\n",
    "    return value\n",
    "}\n",
    "\n",
    "const (\n",
    "    BaselineImage = \"logo.png\"\n",
    ")\n",
    "\n",
    "%%\n",
    "err := inceptionv3.DownloadAndUnpackWeights(*flagDataDir)\n",
    "AssertNoError(err)"
   ]
  },
  {
   "cell_type": "code",
   "execution_count": 3,
   "id": "cc948e40-6484-4881-9464-d1e70bc3339b",
   "metadata": {},
   "outputs": [
    {
     "name": "stdout",
     "output_type": "stream",
     "text": [
      "conv2d_1/conv2d_1/kernel:0: shape (Float32)[3 3 3 32]\n"
     ]
    }
   ],
   "source": [
    "import (\n",
    "        \"github.com/gomlx/gomlx/models/inceptionv3\"\n",
    ")\n",
    "\n",
    "%%\n",
    "// name := \"batch_normalization_7/batch_normalization_7/beta:0\"\n",
    "name := \"conv2d_1/conv2d_1/kernel:0\"\n",
    "fPath := inceptionv3.PathToTensor(*flagDataDir, name)\n",
    "f, err := os.Open(fPath)\n",
    "AssertNoError(err)\n",
    "\n",
    "local, err := tensor.Load(f)\n",
    "AssertNoError(err)\n",
    "fmt.Printf(\"%s: shape %s\\n\", name, local.Shape())"
   ]
  },
  {
   "cell_type": "code",
   "execution_count": 12,
   "id": "92ae7d2c-6af0-49f5-b251-4b7f25c677fd",
   "metadata": {},
   "outputs": [
    {
     "data": {
      "image/png": "[encoded data removed]"
     },
     "metadata": {},
     "output_type": "display_data"
    },
    {
     "name": "stdout",
     "output_type": "stream",
     "text": [
      "Shape()=(Float32)[75 75 3], size=16875\n",
      "\t> min=0, max=255, mean=211.27140740740742\n"
     ]
    }
   ],
   "source": [
    "import (\n",
    "    \"image\"\n",
    "    _ \"image/png\"\n",
    "    \"os\"\n",
    "    \n",
    "    . \"github.com/gomlx/gomlx/graph\"\n",
    "    \"github.com/gomlx/gomlx/types/shapes\"\n",
    "    \"github.com/gomlx/gomlx/types/slices\"\n",
    "    \"github.com/gomlx/gomlx/types/tensor\"\n",
    "    \"github.com/janpfeifer/gonb/gonbui\"\n",
    "    timage \"github.com/gomlx/gomlx/types/tensor/image\"\n",
    ")\n",
    "\n",
    "func LoadImage(filePath string) (img image.Image, err error) {    \n",
    "    imgFile, err := os.Open(filePath)\n",
    "    if err != nil {\n",
    "        return\n",
    "    }\n",
    "    defer imgFile.Close()\n",
    "\n",
    "    img, _, err = image.Decode(imgFile)\n",
    "    return\n",
    "}\n",
    "\n",
    "func LoadLogo() (img image.Image, err error) {    \n",
    "    *flagDataDir = data.ReplaceTildeInDir(*flagDataDir)\n",
    "    logoPath := path.Join(*flagDataDir, BaselineImage)\n",
    "    return LoadImage(logoPath)\n",
    "}\n",
    "\n",
    "func Hist[T shapes.Number](filePath string, local *tensor.Local) {\n",
    "    f := MustNoError(os.Create(filePath))\n",
    "    defer f.Close()\n",
    "\n",
    "    \n",
    "    ref := local.AcquireData()\n",
    "    defer ref.Release()\n",
    "    \n",
    "    counts := make(map[T]int)\n",
    "    flat := ref.Flat().([]T)\n",
    "    for _, v := range flat {\n",
    "        counts[v] = counts[v] + 1\n",
    "    }\n",
    "    \n",
    "    keys := slices.SortedKeys(counts)\n",
    "    for _, key := range keys {\n",
    "        fmt.Fprintf(f, \"%.5f: %d\\n\", key, counts[key])\n",
    "    }\n",
    "}\n",
    "\n",
    "func PrintVariables(ctx *context.Context) {\n",
    "    fmt.Println(\"\\nVariables:\")\n",
    "    ctx.EnumerateVariables(func(v *context.Variable) {\n",
    "        fmt.Printf(\"\\t%s::%s: %s\\n\", v.Scope(), v.Name(), v.Shape())\n",
    "    })\n",
    "}\n",
    "\n",
    "var (\n",
    "    manager = BuildManager().MustDone()\n",
    "    takeStats = NewExec(manager, func(x *Node) (*Node, *Node, *Node) {\n",
    "        x = ConvertType(x, shapes.F64)\n",
    "        max := ReduceAllMax(x)\n",
    "        min := Neg(ReduceAllMax(Neg(x)))\n",
    "        mean := ReduceAllMean(x)\n",
    "        return min, max, mean\n",
    "    })\n",
    ")\n",
    "\n",
    "func Stats(local *tensor.Local) {\n",
    "    res := MustNoError(takeStats.Call(local))\n",
    "    fmt.Printf(\"Shape()=%v, size=%d\\n\", local.Shape(), local.Shape().Size())\n",
    "    fmt.Printf(\"\\t> min=%v, max=%v, mean=%g\\n\", res[0].Value(), res[1].Value(), res[2].Value())\n",
    "}\n",
    "\n",
    "%%\n",
    "img := MustNoError(LoadLogo())\n",
    "gonbui.DisplayImage(img)\n",
    "\n",
    "imgT := timage.ToTensor(shapes.F32).MaxValue(255.0).Single(img)\n",
    "Stats(imgT)\n",
    "Hist[float32](\"/tmp/logo_go.txt\", imgT)"
   ]
  },
  {
   "cell_type": "code",
   "execution_count": 36,
   "id": "ad255eac-639e-41de-8411-cbf6a5dc1948",
   "metadata": {},
   "outputs": [
    {
     "name": "stdout",
     "output_type": "stream",
     "text": [
      "Shape()=(Float32)[1 1 1 2048], size=2048\n",
      "\t> min=0, max=5.075867176055908, mean=0.29954095975335804\n"
     ]
    }
   ],
   "source": [
    "import (\n",
    "    \"image\"\n",
    "    _ \"image/png\"\n",
    "    \"os\"\n",
    "    \n",
    "    . \"github.com/gomlx/gomlx/graph\"\n",
    "    \"github.com/gomlx/gomlx/ml/context\"\n",
    "    \"github.com/gomlx/gomlx/types/shapes\"\n",
    "    \"github.com/gomlx/gomlx/types/slices\"\n",
    "    \"github.com/gomlx/gomlx/types/tensor\"\n",
    "    timage \"github.com/gomlx/gomlx/types/tensor/image\"\n",
    ")\n",
    "\n",
    "func ModelGraph(ctx *context.Context, img *Node) *Node {\n",
    "    if img.Rank() == 3 {\n",
    "        // Prepend the batch dimension.\n",
    "        img = ExpandDims(img, 0)\n",
    "    }\n",
    "    img = inceptionv3.PreprocessImage(img, 255.0)\n",
    "    logits := inceptionv3.ModelGraph(ctx.In(\"inceptionV3\"), *flagDataDir, img)\n",
    "    return logits\n",
    "}\n",
    "\n",
    "%%\n",
    "\n",
    "img := MustNoError(LoadLogo())\n",
    "imgT := timage.ToTensor(shapes.F32).MaxValue(255.0).Single(img)\n",
    "\n",
    "ctx := context.NewContext(manager)\n",
    "modelExec := context.NewExec(manager, ctx, ModelGraph)\n",
    "output := MustNoError(modelExec.Call(imgT))[0].Local()\n",
    "\n",
    "\n",
    "Stats(output)\n",
    "Hist[float32](\"output_go.txt\", output)\n",
    "// PrintVariables(ctx)"
   ]
  },
  {
   "cell_type": "code",
   "execution_count": 37,
   "id": "bce09891-388d-4226-958f-56ba394a4dce",
   "metadata": {},
   "outputs": [
    {
     "name": "stdout",
     "output_type": "stream",
     "text": [
      "627 output_go.txt\n",
      "0.00000: 1422\n",
      "0.00292: 1\n",
      "0.00431: 1\n",
      "5.01186: 1\n",
      "5.01694: 1\n",
      "5.07587: 1\n"
     ]
    }
   ],
   "source": [
    "!wc -l output_go.txt\n",
    "!head -n 3 output_go.txt\n",
    "!tail -n 3 output_go.txt"
   ]
  },
  {
   "cell_type": "code",
   "execution_count": 39,
   "id": "381caf15-685b-43e5-90d6-5b0710b0d72d",
   "metadata": {},
   "outputs": [
    {
     "name": "stdout",
     "output_type": "stream",
     "text": [
      "17c17\n",
      "< 0.01876: 1\n",
      "---\n",
      "> 0.01877: 1\n",
      "22c22\n",
      "< 0.02434: 1\n",
      "---\n",
      "> 0.02433: 1\n",
      "31c31\n",
      "< 0.03974: 1\n",
      "---\n",
      "> 0.03975: 1\n",
      "42c42\n",
      "< 0.05291: 1\n",
      "---\n",
      "> 0.05292: 1\n",
      "105c105\n",
      "< 0.13313: 1\n",
      "---\n",
      "> 0.13312: 1\n",
      "131c131\n",
      "< 0.19045: 1\n",
      "---\n",
      "> 0.19046: 1\n",
      "141c141\n",
      "< 0.20989: 1\n",
      "---\n",
      "> 0.20988: 1\n",
      "172c172\n",
      "< 0.26702: 1\n"
     ]
    }
   ],
   "source": [
    "!diff output_py.txt output_go.txt | head -n 30"
   ]
  }
 ],
 "metadata": {
  "kernelspec": {
   "display_name": "Go (gonb)",
   "language": "go",
   "name": "gonb"
  },
  "language_info": {
   "codemirror_mode": "",
   "file_extension": ".go",
   "mimetype": "",
   "name": "go",
   "nbconvert_exporter": "",
   "pygments_lexer": "",
   "version": "go1.20.4"
  }
 },
 "nbformat": 4,
 "nbformat_minor": 5
}
