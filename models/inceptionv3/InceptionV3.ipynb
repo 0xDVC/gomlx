{
 "cells": [
  {
   "cell_type": "code",
   "execution_count": 1,
   "id": "aa60e348-627d-497f-bcae-648693b71d34",
   "metadata": {},
   "outputs": [],
   "source": [
    "!*go mod edit -replace github.com/gomlx/gomlx=/opt/janpf/Projects/gomlx.gomlx"
   ]
  },
  {
   "cell_type": "code",
   "execution_count": 4,
   "id": "1728dd41-fda7-4a45-adac-689a3c8356a5",
   "metadata": {},
   "outputs": [],
   "source": [
    "import (\n",
    "    \"log\"\n",
    "    \"path\"\n",
    "\n",
    "    \"github.com/gomlx/gomlx/ml/data\"\n",
    "    \"github.com/gomlx/gomlx/models/inceptionv3\"\n",
    ")\n",
    "\n",
    "var (\n",
    "    flagDataDir = flag.String(\"data\", \"~/work/inceptionv3\", \"Directory to save and load downloaded and generated dataset files.\")\n",
    ")\n",
    "\n",
    "func AssertNoError(err error) {\n",
    "    if err != nil {\n",
    "        log.Fatalf(\"Error: %+v\\n\", err)\n",
    "    }\n",
    "}\n",
    "\n",
    "const (\n",
    "    BaselineImage = \"logo.png\"\n",
    ")\n",
    "\n",
    "%%\n",
    "err := inceptionv3.DownloadAndUnpackWeights(*flagDataDir)\n",
    "AssertNoError(err)"
   ]
  },
  {
   "cell_type": "code",
   "execution_count": 7,
   "id": "cc948e40-6484-4881-9464-d1e70bc3339b",
   "metadata": {},
   "outputs": [
    {
     "name": "stdout",
     "output_type": "stream",
     "text": [
      "batch_normalization_7/batch_normalization_7/beta:0: shape (Float32)[48], values=(Float32)[48]: [0.60545784 0.5561335 -0.3865367 1.0141947 1.8168011 -0.14041665 -0.20392203 0.49767718 -0.024301322 -0.62525994 1.250498 1.0262886 -0.21821642 -0.21507807 1.6200733 0.38839766 1.7593417 1.7387105 -0.0854155 1.7372131 1.6305265 -0.21300565 0.61412483 -0.32287326 0.9382342 0.8768287 0.8632834 0.15885311 0.04726633 0.2727267 -0.046138786 -0.20415373 -0.13442904 0.64326024 0.49279115 -0.053494237 -0.34507582 0.0011138958 0.8811501 1.7704751 0.49408326 0.22983034 0.2610325 -0.33718777 0.7270833 0.541416 -0.1553545 -0.23224317]\n"
     ]
    }
   ],
   "source": [
    "import (\n",
    "        \"github.com/gomlx/gomlx/models/inceptionv3\"\n",
    ")\n",
    "\n",
    "%%\n",
    "name := \"batch_normalization_7/batch_normalization_7/beta:0\"\n",
    "fPath := inceptionv3.PathToTensor(*flagDataDir, name)\n",
    "f, err := os.Open(fPath)\n",
    "AssertNoError(err)\n",
    "\n",
    "local, err := tensor.Load(f)\n",
    "AssertNoError(err)\n",
    "fmt.Printf(\"%s: shape %s, values=%s\\n\", name, local.Shape(), local)"
   ]
  },
  {
   "cell_type": "code",
   "execution_count": 15,
   "id": "92ae7d2c-6af0-49f5-b251-4b7f25c677fd",
   "metadata": {},
   "outputs": [
    {
     "data": {
      "image/png": "[encoded data removed]"
     },
     "metadata": {},
     "output_type": "display_data"
    }
   ],
   "source": [
    "import (\n",
    "    \"image\"\n",
    "    _ \"image/png\"\n",
    "    \n",
    "    \"github.com/janpfeifer/gonb/gonbui\"\n",
    ")\n",
    "\n",
    "func LoadImage(filePath string) (img image.Image, err error) {    \n",
    "    imgFile, err := os.Open(filePath)\n",
    "    if err != nil {\n",
    "        return\n",
    "    }\n",
    "    defer imgFile.Close()\n",
    "\n",
    "    img, _, err = image.Decode(imgFile)\n",
    "    return\n",
    "}\n",
    "\n",
    "func LoadLogo() (img image.Image, err error) {    \n",
    "    *flagDataDir = data.ReplaceTildeInDir(*flagDataDir)\n",
    "    logoPath := path.Join(*flagDataDir, BaselineImage)\n",
    "    return LoadImage(logoPath)\n",
    "}\n",
    "\n",
    "%%\n",
    "img, err := LoadLogo()\n",
    "AssertNoError(err)\n",
    "gonbui.DisplayImage(img)"
   ]
  },
  {
   "cell_type": "code",
   "execution_count": 28,
   "id": "ad255eac-639e-41de-8411-cbf6a5dc1948",
   "metadata": {},
   "outputs": [
    {
     "name": "stdout",
     "output_type": "stream",
     "text": [
      "imgT.Shape()=(Float32)[75 75 3]\n",
      "\tmax=1, min=0\n"
     ]
    },
    {
     "data": {
      "image/png": "[encoded data removed]"
     },
     "metadata": {},
     "output_type": "display_data"
    }
   ],
   "source": [
    "import (\n",
    "    \"github.com/gomlx/gomlx/types/shapes\"\n",
    "    . \"github.com/gomlx/gomlx/graph\"\n",
    "    timage \"github.com/gomlx/gomlx/types/tensor/image\"\n",
    ")\n",
    "%%\n",
    "manager := BuildManager().MustDone()\n",
    "img, err := LoadLogo()\n",
    "AssertNoError(err)\n",
    "\n",
    "imgT := timage.ToTensor(shapes.F32).Single(img)\n",
    "fmt.Printf(\"imgT.Shape()=%v\\n\", imgT.Shape())\n",
    "takeMax := NewExec(manager, func(x *Node) (*Node, *Node) {\n",
    "    return ReduceAllMax(x), Neg(ReduceAllMax(Neg(x)))\n",
    "})\n",
    "res, err := takeMax.Call(imgT)\n",
    "AssertNoError(err)\n",
    "fmt.Printf(\"\\tmax=%v, min=%v\\n\", res[0].Value(), res[1].Value())\n",
    "\n",
    "img2, err := timage.ToImage().Single(imgT)\n",
    "AssertNoError(err)\n",
    "gonbui.DisplayImage(img2)"
   ]
  }
 ],
 "metadata": {
  "kernelspec": {
   "display_name": "Go (gonb)",
   "language": "go",
   "name": "gonb"
  },
  "language_info": {
   "codemirror_mode": "",
   "file_extension": ".go",
   "mimetype": "",
   "name": "go",
   "nbconvert_exporter": "",
   "pygments_lexer": "",
   "version": "go1.20.4"
  }
 },
 "nbformat": 4,
 "nbformat_minor": 5
}
