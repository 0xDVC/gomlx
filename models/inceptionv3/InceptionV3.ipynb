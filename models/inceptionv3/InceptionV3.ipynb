{
 "cells": [
  {
   "cell_type": "code",
   "execution_count": 13,
   "id": "aa60e348-627d-497f-bcae-648693b71d34",
   "metadata": {},
   "outputs": [],
   "source": [
    "!*go mod edit -replace github.com/gomlx/gomlx=${HOME}/Projects/gomlx"
   ]
  },
  {
   "cell_type": "code",
   "execution_count": 20,
   "id": "1728dd41-fda7-4a45-adac-689a3c8356a5",
   "metadata": {},
   "outputs": [
    {
     "name": "stdout",
     "output_type": "stream",
     "text": [
      "https://storage.googleapis.com/tensorflow/keras-applications/inception_v3/inception_v3_weights_tf_dim_ordering_tf_kernels.h5 => /home/janpf/work/inceptionv3/weights.h5\n",
      "Downloading https://storage.googleapis.com/tensorflow/keras-applications/inception_v3/inception_v3_weights_tf_dim_ordering_tf_kernels.h5 ...\n",
      "91.7 MiB 100% [\u001b[32m=\u001b[0m\u001b[32m=\u001b[0m\u001b[32m=\u001b[0m\u001b[32m=\u001b[0m\u001b[32m=\u001b[0m\u001b[32m=\u001b[0m\u001b[32m=\u001b[0m\u001b[32m=\u001b[0m\u001b[32m=\u001b[0m\u001b[32m=\u001b[0m\u001b[32m=\u001b[0m\u001b[32m=\u001b[0m\u001b[32m=\u001b[0m\u001b[32m=\u001b[0m\u001b[32m=\u001b[0m\u001b[32m=\u001b[0m\u001b[32m=\u001b[0m\u001b[32m=\u001b[0m\u001b[32m=\u001b[0m\u001b[32m=\u001b[0m\u001b[32m=\u001b[0m\u001b[32m=\u001b[0m\u001b[32m=\u001b[0m\u001b[32m=\u001b[0m\u001b[32m=\u001b[0m\u001b[32m=\u001b[0m\u001b[32m=\u001b[0m\u001b[32m=\u001b[0m\u001b[32m=\u001b[0m\u001b[32m=\u001b[0m\u001b[32m=\u001b[0m\u001b[32m=\u001b[0m\u001b[32m=\u001b[0m\u001b[32m=\u001b[0m\u001b[32m=\u001b[0m\u001b[32m=\u001b[0m\u001b[32m=\u001b[0m\u001b[32m=\u001b[0m\u001b[32m=\u001b[0m\u001b[32m=\u001b[0m] \u001b[0m\n"
     ]
    }
   ],
   "source": [
    "import (\n",
    "    \"log\"\n",
    "    \"path\"\n",
    "\n",
    "    \"github.com/gomlx/gomlx/ml/data\"\n",
    "    \"github.com/gomlx/gomlx/models/inceptionv3\"\n",
    ")\n",
    "\n",
    "var (\n",
    "    flagDataDir = flag.String(\"data\", \"~/work/inceptionv3\", \"Directory to save and load downloaded and generated dataset files.\")\n",
    ")\n",
    "\n",
    "func AssertNoError(err error) {\n",
    "    if err != nil {\n",
    "        log.Fatalf(\"Error: %+v\\n\", err)\n",
    "    }\n",
    "}\n",
    "\n",
    "const WeightsH5Name = \"weights.h5\"\n",
    "\n",
    "func WeightsPath() string {\n",
    "    *flagDataDir = data.ReplaceTildeInDir(*flagDataDir)\n",
    "    return path.Join(*flagDataDir, WeightsH5Name)\n",
    "}\n",
    "\n",
    "%%\n",
    "weightsPath := WeightsPath()\n",
    "fmt.Printf(\"%s => %s\\n\", inceptionv3.WeightsURL, weightsPath)\n",
    "err := data.DownloadIfMissing(inceptionv3.WeightsURL, weightsPath, \"\")\n",
    "AssertNoError(err)\n"
   ]
  },
  {
   "cell_type": "code",
   "execution_count": 47,
   "id": "28ef6785-16dc-43dd-aca3-64cf188f3977",
   "metadata": {},
   "outputs": [
    {
     "name": "stdout",
     "output_type": "stream",
     "text": [
      "Shape (Float32)[48]: 192 bytes loaded\n"
     ]
    }
   ],
   "source": [
    "import (\n",
    "    \"fmt\"\n",
    "    \"github.com/gomlx/gomlx/ml/data/hdf5\"\n",
    ")\n",
    "\n",
    "%%\n",
    "weightsPath := WeightsPath()\n",
    "err := data.DownloadIfMissing(inceptionv3.WeightsURL, weightsPath, \"\")\n",
    "AssertNoError(err)\n",
    "contents, err := hdf5.ParseFile(weightsPath)\n",
    "AssertNoError(err)\n",
    "_ = contents\n",
    "// count := 0\n",
    "// for key, spec := range contents {\n",
    "//     fmt.Printf(\"\\t[%s]: %s\\n\", key, spec.Shape)\n",
    "//     count++\n",
    "//     if count > 5000 {\n",
    "//         break\n",
    "//     }\n",
    "// }\n",
    "h5ds := contents[\"/batch_normalization_7/batch_normalization_7/beta:0\"]\n",
    "loadedBytes, err := h5ds.Load()\n",
    "AssertNoError(err)\n",
    "fmt.Printf(\"Shape %s: %d bytes loaded\\n\", h5ds.Shape, len(loadedBytes)) \n"
   ]
  }
 ],
 "metadata": {
  "kernelspec": {
   "display_name": "Go (gonb)",
   "language": "go",
   "name": "gonb"
  },
  "language_info": {
   "codemirror_mode": "",
   "file_extension": ".go",
   "mimetype": "",
   "name": "go",
   "nbconvert_exporter": "",
   "pygments_lexer": "",
   "version": "go1.20.4"
  }
 },
 "nbformat": 4,
 "nbformat_minor": 5
}
