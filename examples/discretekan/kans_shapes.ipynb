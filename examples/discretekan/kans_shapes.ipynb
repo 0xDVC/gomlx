{
 "cells": [
  {
   "cell_type": "markdown",
   "id": "0a9b1e18-f4f9-45f9-a3d4-66a2813283db",
   "metadata": {},
   "source": [
    "# How KANs Learn ?\n",
    "\n",
    "This notebook extends the [\"How different machine learning models generalize?\"](https://ydf.readthedocs.io/en/latest/blog/2024/10/04/how-different-machine-learning-models-generalize/) blog post [4] to KANs (**Kolmogorov-Arnold Networks**) [1], demonstrating how they \"learn\", by creating a 2-D image with figures, and try to make KAN models (with various univariate functions) learn them, given the input x/y.\n",
    "\n",
    "The following KAN univariate functions are evaluated:\n",
    "\n",
    "1. B-Spline KAN: the univariate function used in the original KAN paper [1].\n",
    "2. GR-KAN (Group Rational KAN): Published in the KAT paper [2].\n",
    "3. PWL-KAN (Piecewise Linear KAN): A KAN that uses piecewise linear functions.\n",
    "4. PWC-KAN (Piecewise Constant KAN) or Discrete-KAN: A KAN that uses piecewise-constant functions (staircase functions), see demo in [3].\n",
    "\n",
    "* [1] ['Kolmogorov-Arnold Networks\" (arxiv.org/abs/2404.19756)](https://arxiv.org/abs/2404.19756)\n",
    "* [2] [\"KAT: A Knowledge Augmented Transformer for Vision-and-Language\" (arxiv.org/abs/2112.08614)](https://arxiv.org/abs/2112.08614)\n",
    "* [3] [Discrete-KAN](https://gomlx.github.io/gomlx/notebooks/discrete-kan.html)\n",
    "* [4] [\"How different machine learning models generalize?\"](https://ydf.readthedocs.io/en/latest/blog/2024/10/04/how-different-machine-learning-models-generalize/)\n",
    "\n",
    "This notebook was created using [GoNB](https://github.com/janpfeifer/gonb) a Go kernel for Jupyter notebooks, and [GoMLX](https://github.com/gomlx/gomlx), a machine learning framework for Go, using XLA as a backend."
   ]
  },
  {
   "cell_type": "markdown",
   "id": "a284b9a8-abf3-4a1f-97d7-0b53b0bb018f",
   "metadata": {},
   "source": [
    "## Imports and setup code\n",
    "\n",
    "Details, not needed for understanding, so kept hidden."
   ]
  },
  {
   "cell_type": "code",
   "execution_count": 1,
   "id": "6abdb185-67b2-4d91-aa6e-e9c32de73ad3",
   "metadata": {},
   "outputs": [
    {
     "data": {
      "text/markdown": [
       "**GoNB** version [v0.10.6](https://github.com/janpfeifer/gonb/releases/tag/v0.10.6) / Commit: [ea8453363f53fb5feaa2120776ab6bc868012698](https://github.com/janpfeifer/gonb/tree/ea8453363f53fb5feaa2120776ab6bc868012698)\n"
      ]
     },
     "metadata": {},
     "output_type": "display_data"
    },
    {
     "name": "stdout",
     "output_type": "stream",
     "text": [
      "\t- Added replace rule for module \"github.com/gomlx/gomlx\" to local directory \"/home/janpf/Projects/gomlx\".\n",
      "\t- Added replace rule for module \"github.com/janpfeifer/gonb\" to local directory \"/home/janpf/Projects/gonb\".\n",
      "\t- Added replace rule for module \"github.com/gomlx/gopjrt\" to local directory \"/home/janpf/Projects/gopjrt\".\n"
     ]
    }
   ],
   "source": [
    "%version\n",
    "!*rm -f go.work && go work init\n",
    "!*go work use . \"${HOME}/Projects/gonb\" \"${HOME}/Projects/gomlx\" \"${HOME}/Projects/gopjrt\"\n",
    "%goworkfix"
   ]
  },
  {
   "cell_type": "code",
   "execution_count": 10,
   "id": "03aef856-d032-4cd5-a9e0-481f9ee845cf",
   "metadata": {},
   "outputs": [],
   "source": [
    "import (\n",
    "    \"math\"\n",
    "    \n",
    "    . \"github.com/gomlx/gomlx/graph\"\n",
    "    \"github.com/gomlx/gomlx/backends\"\n",
    "    \"github.com/gomlx/gomlx/ml/context\"\n",
    "    \"github.com/gomlx/gomlx/ml/train\"\n",
    "    \"github.com/gomlx/gomlx/ml/train/losses\"\n",
    "    \"github.com/gomlx/gomlx/ml/train/optimizers\"\n",
    "    \"github.com/gomlx/gomlx/types/shapes\"\n",
    "    \"github.com/gomlx/gomlx/types/tensors\"\n",
    "    \"github.com/gomlx/gopjrt/dtypes\"\n",
    "    \"github.com/janpfeifer/gonb/gonbui\"\n",
    "    \"github.com/janpfeifer/gonb/cache\"\n",
    "\n",
    "    // Include XLA engine for the demo.\n",
    "    _ \"github.com/gomlx/gomlx/backends/xla\"\n",
    ")\n",
    "\n",
    "// Backend used everywhere. Default will use GPU if available, otherwise CPU.\n",
    "var Backend = backends.New()\n",
    "\n",
    "// Makes sure there is a valid reference to `graph` package imported inline.\n",
    "var _ = Add\n",
    "\n",
    "// Define how we want to fail in case of errors.\n",
    "func init_must() {\n",
    "    must.M = func(err error) {\n",
    "        if err != nil {\n",
    "            log.Fatal(\"Error:\\n%+v\\n\", err)\n",
    "        }\n",
    "    }\n",
    "}\n"
   ]
  },
  {
   "cell_type": "markdown",
   "id": "77998688-ded3-4d59-a133-2c404c7c1340",
   "metadata": {},
   "source": [
    "## Plotting Code\n",
    "\n",
    "We are plotting functions $f(x,y) \\text{ where } x, y \\in [-1, 1]$. The output of $f(x,y) \\in [0, 1]$ represents a degree of grayness 0.0 representing white and 1.0 representing black.\n",
    "\n",
    "The functions are given GoMLX functions, that take as input one array shaped `[batch_size, 2]` (`batch_size` pairs of $(x, y)$).\n"
   ]
  },
  {
   "cell_type": "code",
   "execution_count": 34,
   "id": "31b2b658-858d-42b1-b6a3-0e5196e78dad",
   "metadata": {},
   "outputs": [
    {
     "data": {
      "text/html": [
       "<img src=\"data:image/png;base64,iVBORw0KGgoAAAANSUhEUgAAAEAAAABACAAAAACPAi4CAAAA6ElEQVR4nKTMSY7FMAwDUSPo+584Rn9k9iDJJFX7en//ZdEetyX/JbD6V8DyXwDrPwaAPwSQPwKgPwCw3wfA3wXQ3wPg3wHw3waI3wSY3wKo3wC4fwbIfwLYfwTofwD4vweEvwOUvwWkvwG0/wPE/wXU/wHk/wb0/wIS/wlk/gNI/fuW/Pct+dckUEsOqCUH1JIDjj8DnH8CuH4duH8ZeH4VeH8R+H4NaH4JaH8F6H4B6H8eGH4aGH8WmH4SmH8OMH4KsH4GMH8CsH8ccH4Y8H4UcH8Q8H8MCH4IiH4ECH8AiP/yCwAA///zHNBOdnedtQAAAABJRU5ErkJggg==\"/>"
      ]
     },
     "metadata": {},
     "output_type": "display_data"
    }
   ],
   "source": [
    "// PlotFn is the function accepted by the plot functions.\n",
    "//\n",
    "// The function takes as an input shaped [batch_size, 2], with batch_size tuples of (x, y), and should return `[batch_size, 1]`\n",
    "// values from 0.0 to 1.0 \n",
    "//\n",
    "// The context holds the variables of the model (for learned functions), but can be ignored if the function doesn't use any variables.\n",
    "type PlotFn func (ctx *context.Context, xys *Node) *Node \n",
    "\n",
    "// PlotToImg returns the HTML `<img src=...>` of size \"size x size\", with the plotted function, that can be displayed or composed.\n",
    "//\n",
    "// The context can be nil, if the function doesn't use any variables.\n",
    "func PlotToImg(ctx *context.Context, fn PlotFn, size int) string {\n",
    "    if ctx == nil {\n",
    "        ctx = context.New()\n",
    "    }\n",
    "    ctx = ctx.Reuse()  // When plotting, we shouldn't be creating new variables. This way it will fail if function is not yet trained.\n",
    "    // Generate values for each pixel, shaped [size * size, 1]\n",
    "    values := context.ExecOnce(Backend, ctx, func (ctx *context.Context, g *Graph) *Node {\n",
    "        xys := imgXYs(g, size)\n",
    "        output := fn(ctx, xys)\n",
    "        return ClipScalar(output, 0.0, 1.0)  // Clip to the values allowed.\n",
    "    })\n",
    "\n",
    "    \n",
    "\timg := image.NewGray(image.Rect(0, 0, size, size))\n",
    "    tensors.ConstFlatData[float32](values, func (data []float32) {\n",
    "    \tfor i, v := range data {\n",
    "    \t\t// Convert float32 (0.0 - 1.0) to uint8 (0 - 255)\n",
    "    \t\tgrayValue := uint8((1.0 - v) * 255)  // Colors reversed, so black is 1.0, white is 0.0 (better for white backgrounds).\n",
    "    \t\ty := (i / size)\n",
    "    \t\tx := i % size\n",
    "    \t\timg.SetGray(x, y, color.Gray{Y: grayValue})\n",
    "    \t}\n",
    "    })\n",
    "    \n",
    "    imgSrc := must.M1(gonbui.EmbedImageAsPNGSrc(img))\n",
    "    return fmt.Sprintf(\"<img src=%q/>\", imgSrc)\n",
    "}\n",
    "\n",
    "// imgXYs creates all combination of (x, y) for an image of size (size x size), where $x,y \\in [0, 1]$.\n",
    "// The output is shaped [batchSize, 2], where batchSize = size * size.\n",
    "func imgXYs(g *Graph, size int) *Node {\n",
    "    xs := Iota(g, shapes.Make(dtypes.Float32, size, size, 1), 1) // -> 0, size-1\n",
    "    xs = AddScalar(DivScalar(xs, float64(size)/2.0), -1)  // -> -1.0, 1.0\n",
    "    ys := Iota(g, shapes.Make(dtypes.Float32, size, size, 1), 0)\n",
    "    ys = AddScalar(DivScalar(ys, float64(size)/2.0), -1)  // -> -1.0, 1.0\n",
    "    xys := Concatenate([]*Node{xs, ys}, -1)\n",
    "    xys = Reshape(xys, size*size, 2)  // Contract width and height axes into a \"batch_size\" axis.\n",
    "    return xys\n",
    "}\n",
    "\n",
    "// Plot displays an image generated from the given function.\n",
    "func Plot(ctx *context.Context, fn PlotFn, size int) {\n",
    "    gonbui.DisplayHTML(PlotToImg(ctx, fn, size))\n",
    "}\n",
    "\n",
    "%%\n",
    "// Small test of a gradient function on the x,y diagonal.\n",
    "Plot(nil, func (_ *context.Context, xys *Node) *Node {\n",
    "    value := ReduceAndKeep(xys, ReduceSum, -1)  // x+y -> -2.0 to 2.0\n",
    "    // -> -0.5 to 1.5, but values will be clipped.\n",
    "    return AddScalar(DivScalar(value, 2.0), 0.5)\n",
    "}, 64)\n"
   ]
  },
  {
   "cell_type": "markdown",
   "id": "c93ac9c3-7087-444e-bd43-6075e1819e68",
   "metadata": {},
   "source": [
    "## Ground-Truth Image\n",
    "\n",
    "This is the image we want the various machine learning functions to learn, based on [4].\n"
   ]
  },
  {
   "cell_type": "code",
   "execution_count": 35,
   "id": "ab2c65cf-c567-4fde-b362-b679f752e88d",
   "metadata": {},
   "outputs": [
    {
     "data": {
      "text/html": [
       "<img src=\"data:image/png;base64,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\"/>"
      ]
     },
     "metadata": {},
     "output_type": "display_data"
    }
   ],
   "source": [
    "func GroundTruth(_ *context.Context, xys *Node) *Node {\n",
    "    g := xys.Graph()\n",
    "    dtype := xys.DType()\n",
    "    \n",
    "    xs := Slice(xys, /*batch_size*/ AxisRange(), /* (x,y) */ AxisElem(0)) // xs -> [-1, 1]\n",
    "    xs = DivScalar(OnePlus(xs), 2)  // xs -> [0, 1]\n",
    "    ys := Slice(xys, /*batch_size*/ AxisRange(), /* (x,y) */ AxisElem(1)) // ys -> [-1, 1]\n",
    "    ys = DivScalar(OnePlus(ys), 2)  // ys -> [0, 1]\n",
    "    \n",
    "    eclipse := Sqrt(Add(\n",
    "        Square(DivScalar(AddScalar(xs, -0.4), 0.7)),\n",
    "        Square(DivScalar(AddScalar(ys, -0.3), 0.5)),\n",
    "    ))\n",
    "    eclipse = LessThan(eclipse, Scalar(g, dtype, 0.5))\n",
    "\n",
    "    w := 0.25\n",
    "    squareLength := Scalar(g, dtype, w)\n",
    "    squareLength2 := Scalar(g, dtype, w * math.Sqrt(2))\n",
    "\n",
    "    xs1 := AddScalar(xs, -0.10)\n",
    "    ys1 := AddScalar(ys, -0.65)\n",
    "    zero := ScalarZero(g, dtype)\n",
    "    square1 := And(\n",
    "        And(GreaterThan(xs1, zero), LessThan(xs1, squareLength)),\n",
    "        And(GreaterThan(ys1, zero), LessThan(ys1, squareLength)),\n",
    "    )\n",
    "\n",
    "    xs2, ys2 := AddScalar(xs, - 0.74), AddScalar(ys, -0.55)\n",
    "    xs2, ys2 = Add(xs2, ys2), Sub(ys2, xs2)\n",
    "    square2 := And(\n",
    "        And(GreaterThan(xs2, zero), LessThan(xs2, squareLength2)),\n",
    "        And(GreaterThan(ys2, zero), LessThan(ys2, squareLength2)),\n",
    "    )\n",
    "    \n",
    "    image := Or(Or(eclipse, square1), square2)\n",
    "    return ConvertDType(image, xys.DType())\n",
    "}\n",
    "\n",
    "%%\n",
    "Plot(nil, GroundTruth, 400)"
   ]
  },
  {
   "cell_type": "markdown",
   "id": "f41c6cab-3dbd-4d7d-ba91-e585a46a945a",
   "metadata": {},
   "source": [
    "## Machine Learning a function to mimic `GroundTruth`\n",
    "\n",
    "### Training and Validation Datasets\n",
    "\n",
    "To analyse how a machine learning model \"learns\" (or \"generalizes\") the ground-truth image in an interesting way, we will create a fixed dataset with a limited number of examples, and then train the model.\n",
    "\n",
    "Notice we generate the datset as a couple of fixed tensors, whose shapes are: \n",
    "\n",
    "* Input shape `[num_batches, batch_size, 2]`, with the $(x, y)$ of the data points. Notice `NumTrainingExamples = num_batches * batch_size`.\n",
    "* Labels shape `[num_batches, batch_size, 1]`. While the labels are defined in the range `[0.0, 1.0]`, our ground-truth only uses 0s and 1s, so it can be consider a boolean.\n"
   ]
  },
  {
   "cell_type": "code",
   "execution_count": 26,
   "id": "34741a64-0106-410b-bc53-eea8d4656d72",
   "metadata": {},
   "outputs": [
    {
     "name": "stdout",
     "output_type": "stream",
     "text": [
      "/trainXYs: shape=(Float32)[1 32000 2]\n",
      "\tSample values: [0.9253949 -0.7290534 0.40012693 0.011769533 0.24289417 -0.20978129 0.15292251 -0.09316999 0.96000326 -0.43578953]\n",
      "/trainLabels: shape=(Float32)[1 32000 1]\n",
      "\tSample values: [0 0 1 1 0 1 0 0 1 0]\n",
      "/validXYs: shape=(Float32)[32000 2]\n",
      "\tSample values: [-0.6587877 -0.9495033 0.28734863 0.8810971 0.63639426 0.5474998 0.8441943 -0.5901769 0.46686828 0.9806895]\n",
      "/validLabels: shape=(Float32)[32000 1]\n",
      "\tSample values: [0 0 1 0 0 1 1 0 1 0]\n"
     ]
    }
   ],
   "source": [
    "const (\n",
    "    TrainingDataSeed = 42\n",
    "    NumTrainingExamples = 32_000\n",
    "    NumValidationExamples = 16_000\n",
    ")\n",
    "\n",
    "// Upload training and validation data as a variables.\n",
    "func UploadTrainingData(ctx *context.Context) {\n",
    "    _ = context.ExecOnceN(Backend, ctx, func (ctx *context.Context, g *Graph) {\n",
    "        rng := Const(g, RngStateFromSeed(TrainingDataSeed))\n",
    "        var trainXYs, validXYs *Node\n",
    "        rng, trainXYs = RandomUniform(rng, shapes.Make(dtypes.Float32, NumTrainingExamples, 2))  // -> [0, 1]\n",
    "        rng, validXYs = RandomUniform(rng, shapes.Make(dtypes.Float32, NumTrainingExamples, 2))  // -> [0, 1]\n",
    "        trainXYs = AddScalar(MulScalar(trainXYs, 2), -1)  // -> [-1, 1]\n",
    "        validXYs = AddScalar(MulScalar(validXYs, 2), -1)  // -> [-1, 1]\n",
    "        trainLabels := GroundTruth(ctx, trainXYs)\n",
    "        validLabels := GroundTruth(ctx, validXYs)\n",
    "\n",
    "        // Break up into batches.\n",
    "        numBatches := context.GetParamOr(ctx, \"num_batches\", int(1))  // default to 1.\n",
    "        batchSize := NumTrainingExamples / numBatches\n",
    "        trainXYs = Reshape(trainXYs, numBatches, batchSize, 2)\n",
    "        trainLabels = Reshape(trainLabels, numBatches, batchSize, 1)\n",
    "\n",
    "        // Store data into (non-trainable) variables.\n",
    "        _ = ctx.VariableWithValueGraph(\"trainXYs\", trainXYs).SetTrainable(false)\n",
    "        _ = ctx.VariableWithValueGraph(\"trainLabels\", trainLabels).SetTrainable(false)\n",
    "        _ = ctx.VariableWithValueGraph(\"validXYs\", validXYs).SetTrainable(false)\n",
    "        _ = ctx.VariableWithValueGraph(\"validLabels\", validLabels).SetTrainable(false)\n",
    "    })\n",
    "}\n",
    "\n",
    "%%\n",
    "// Create a context, and check that variables with the training data were uploaded with the right shape.\n",
    "ctx := context.New()\n",
    "UploadTrainingData(ctx)\n",
    "for v := range ctx.IterVariables() {\n",
    "    fmt.Printf(\"%s: shape=%s\\n\", v.ScopeAndName(), v.Shape())\n",
    "    tensors.ConstFlatData(v.Value(), func (flat []float32) {\n",
    "        fmt.Printf(\"\\tSample values: %v\\n\", flat[:10])\n",
    "    })\n",
    "}"
   ]
  },
  {
   "cell_type": "markdown",
   "id": "e3839fbf-8580-487d-8e67-ba6224c5dba3",
   "metadata": {},
   "source": [
    "### Trivial Training Loop\n",
    "\n",
    "Below we create a training loop and a couple of loss functions that uses the training data we just created.\n",
    "\n",
    "It can be used by any model with may want to try to learn."
   ]
  },
  {
   "cell_type": "code",
   "execution_count": 55,
   "id": "3042a2bc-6d99-40eb-ab7c-8726cbe7484b",
   "metadata": {},
   "outputs": [],
   "source": [
    "// Train the given learnable fn for numSteps. The context (ctx) will store the learned weights.\n",
    "//\n",
    "// Use one of the losses defined here, since we take the labels as generated by the model function (as opposed to given by the dataset).\n",
    "func Train(ctx *context.Context, fn PlotFn, numSteps int, lossFn losses.LossFn) error {\n",
    "    // Upload training data, if not yet set.\n",
    "    v := ctx.InspectVariable(\"/\", \"trainXYs\")\n",
    "    if v == nil {\n",
    "        UploadTrainingData(ctx)\n",
    "    }\n",
    "    ds := data.NewConstantDataset()\n",
    "                       \n",
    "    // Our model function: it gets the batch from the fixed inputs, and call the LearnableFn provides. \n",
    "    // It also returns the labels for the batch.\n",
    "    modelFn := func(ctx *context.Context, spec any, inputs []*Node) []*Node {\n",
    "        g := inputs[0].Graph()\n",
    "        \n",
    "        // Get training data, which must exist already in the context.\n",
    "        trainXYs := ctx.InspectVariable(\"/\", \"trainXYs\").ValueGraph(g)\n",
    "        trainLabels := ctx.InspectVariable(\"/\", \"trainLabels\").ValueGraph(g)\n",
    "    \n",
    "        // Get the batch for this global step.\n",
    "        numBatches := trainXYs.Shape().Dim(0)\n",
    "        batchSize := trainXYs.Shape().Dim(1)\n",
    "        globalStep := optimizers.GetGlobalStepVar(ctx).ValueGraph(g)\n",
    "        batchIdx := ModScalar(globalStep, numBatches)\n",
    "        zeroIdx := ScalarZero(g, globalStep.DType())\n",
    "        batchXYs := DynamicSlice(trainXYs, []*Node{batchIdx, zeroIdx, zeroIdx}, []int{1, batchSize, 2})\n",
    "        batchXYs = Reshape(batchXYs, batchSize, 2)\n",
    "        batchLabels := DynamicSlice(trainLabels, []*Node{batchIdx, zeroIdx, zeroIdx}, []int{1, batchSize, 1})\n",
    "        batchLabels = Reshape(batchLabels, batchSize, 1)\n",
    "\n",
    "        // Prediction\n",
    "        logits := fn(ctx, batchXYs)\n",
    "        return []*Node{logits, batchLabels}\n",
    "    }\n",
    "\n",
    "    // The labels are actually provided by the modelFn, in logits[1].\n",
    "    fixedLossFn := func(labels, logits []*Node) *Node {\n",
    "        return lossFn(/* labels= */ []*Node{logits[1]}, /* logits= */ []*Node{logits[0]})\n",
    "    }\n",
    "    trainer := train.NewTrainer(Backend, ctx, modelFn, fixedLossFn, optimizers.FromContext(ctx), nil, nil)\n",
    "    loop := train.NewLoop(trainer)\n",
    "\tcommandline.AttachProgressBar(loop) // Attaches a progress bar to the loop.\n",
    "    metrics, err := loop.RunSteps(ds, numSteps)\n",
    "    if err != nil { \n",
    "        return err\n",
    "    }\n",
    "    fmt.Printf(\"Train: loss=%v\\n\", metrics[0])\n",
    "    fmt.Printf(\"\\tMedian training time: %s\\n\", loop.MedianTrainStepDuration())\n",
    "    return nil\n",
    "}\n",
    "\n",
    "// PlotLogits converts a logits function -- a function that learns -inf to +inf outputs -- to a 0 to 1 function used for plotting.\n",
    "func PlotLogitsFn(logitsFn PlotFn) PlotFn {\n",
    "    return func(ctx *context.Context, xys *Node) *Node {\n",
    "        logits := logitsFn(ctx, xys)\n",
    "        return Sigmoid(logits)\n",
    "    }\n",
    "}"
   ]
  },
  {
   "cell_type": "markdown",
   "id": "7bb54509-4733-42f2-8087-f64babf8ace7",
   "metadata": {},
   "source": [
    "### Accuracy of a Function\n",
    "\n",
    "Measured over the whole images uniformly at the given resolution."
   ]
  },
  {
   "cell_type": "code",
   "execution_count": 43,
   "id": "189b680a-72a2-4b3a-bc4f-d0a0a977ecaf",
   "metadata": {},
   "outputs": [
    {
     "name": "stdout",
     "output_type": "stream",
     "text": [
      "GroundTruth accuracy is 100.0%\n"
     ]
    }
   ],
   "source": [
    "// Accuracy returns the accuracy of the model over the whole image, measured at the given resolution.\n",
    "// It takes the model (fn) prediction as true if $fn(x,y) > 0.5$ or false otherwise.\n",
    "func Accuracy(ctx *context.Context, fn PlotFn, resolution int) float32 {\n",
    "    if ctx == nil {\n",
    "        ctx = context.New()\n",
    "    }\n",
    "    ctx = ctx.Reuse()  // When plotting, we shouldn't be creating new variables. This way it will fail if function is not yet trained.\n",
    "    \n",
    "    // Generate values for each pixel, shaped [size * size, 1]\n",
    "    accuracy := context.ExecOnce(Backend, ctx, func (ctx *context.Context, g *Graph) *Node {\n",
    "        xys := imgXYs(g, resolution)\n",
    "        dtype := xys.DType()\n",
    "        truth := GroundTruth(ctx, xys)\n",
    "        predicted := fn(ctx, xys)\n",
    "        predicted = GreaterThan(predicted, Scalar(g, dtype, 0.5))\n",
    "        predicted = ConvertDType(predicted, dtype)\n",
    "        accuracy := Equal(truth, predicted)\n",
    "        accuracy = ConvertDType(accuracy, dtype)\n",
    "        accuracy = ReduceAllMean(accuracy)\n",
    "        return accuracy\n",
    "    })\n",
    "    return tensors.ToScalar[float32](accuracy)\n",
    "}\n",
    "\n",
    "%%\n",
    "fmt.Printf(\"GroundTruth accuracy is %.1f%%\\n\", Accuracy(nil, GroundTruth, 400)*100.0)"
   ]
  },
  {
   "cell_type": "markdown",
   "id": "62771e58-e27a-4ec2-af13-411088e34345",
   "metadata": {},
   "source": [
    "### Demo Function\n",
    "\n",
    "This is a helper function that trains a given function, optionally prints its trainable variables, plots it and reports back its accuracy."
   ]
  },
  {
   "cell_type": "code",
   "execution_count": 52,
   "id": "29ea8a2d-0777-4e8a-99ed-1e68cf5d3d71",
   "metadata": {},
   "outputs": [],
   "source": [
    "var (\n",
    "    BaseNumSteps = 2500\n",
    ")\n",
    "\n",
    "func DemoFn(fn PlotFn, numBatches int, useCrossentropy bool) {\n",
    "    ctx := context.New()\n",
    "    ctx.SetParam(\"num_batches\", numBatches)\n",
    "    var loss losses.LossFn\n",
    "    if useCrossentropy {\n",
    "        loss = losses.BinaryCrossentropyLogits\n",
    "    } else {\n",
    "        loss = losses.MeanSquaredError\n",
    "    }\n",
    "    must.M(Train(ctx, fn, /*numSteps*/ BaseNumSteps * numBatches, loss))\n",
    "    fmt.Printf(\"Accuracy:\\t%.1f%%\\n\", Accuracy(ctx, fn, 400)*100.0)\n",
    "    \n",
    "    var numParams int\n",
    "    for v := range ctx.IterVariables() {\n",
    "        if v.Trainable {\n",
    "            numParams += v.Shape().Size()\n",
    "        }\n",
    "    }\n",
    "    fmt.Printf(\"# params:\\t%d\\n\", numParams)\n",
    "\n",
    "    if useCrossentropy {\n",
    "        Plot(ctx, PlotLogitsFn(fn), 400)\n",
    "    } else {\n",
    "        Plot(ctx, PlotFn(fn), 400)\n",
    "    }\n",
    "}"
   ]
  },
  {
   "cell_type": "markdown",
   "id": "d28aa036-3770-4fc0-950d-f424241958d7",
   "metadata": {},
   "source": [
    "### Feedforward Neural Network Baseline"
   ]
  },
  {
   "cell_type": "code",
   "execution_count": 56,
   "id": "37d93945-2c30-4d35-b90b-31feff960e9e",
   "metadata": {},
   "outputs": [
    {
     "name": "stdout",
     "output_type": "stream",
     "text": [
      "Training (25000 steps):  100%  (3813 steps/s) [step=24999] [loss+=0.007] [~loss+=0.010] [~loss=0.010]                \n",
      "Train: loss=(Float32): 0.0073438045\n",
      "\tMedian training time: 231.549µs\n",
      "Accuracy:\t99.6%\n",
      "# params:\t921\n"
     ]
    },
    {
     "data": {
      "text/html": [
       "<img src=\"data:image/png;base64,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\"/>"
      ]
     },
     "metadata": {},
     "output_type": "display_data"
    }
   ],
   "source": [
    "func FNN(ctx *context.Context, xys *Node) *Node {\n",
    "    return fnn.New(ctx.In(\"fnn\"), xys, /* ouputDim */1).NumHiddenLayers(3, 20).Done()\n",
    "}\n",
    "\n",
    "%%\n",
    "DemoFn(FNN, /* numBatches */ 10, /* useCrossentropy */ true)"
   ]
  },
  {
   "cell_type": "markdown",
   "id": "e2679dfa-295b-472c-b5b9-f80f3eed09ee",
   "metadata": {},
   "source": [
    "### BSpline-KAN"
   ]
  },
  {
   "cell_type": "code",
   "execution_count": 57,
   "id": "440e4a5a-2baa-418f-997d-d17d88a26c88",
   "metadata": {},
   "outputs": [
    {
     "name": "stdout",
     "output_type": "stream",
     "text": [
      "Training (25000 steps):  100%  (389 steps/s) [step=24999] [loss+=0.002] [~loss+=0.004] [~loss=0.004]        4]        \n",
      "Train: loss=(Float32): 0.002479372\n",
      "\tMedian training time: 2.483823ms\n",
      "Accuracy:\t99.6%\n",
      "# params:\t1560\n"
     ]
    },
    {
     "data": {
      "text/html": [
       "<img src=\"data:image/png;base64,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\"/>"
      ]
     },
     "metadata": {},
     "output_type": "display_data"
    }
   ],
   "source": [
    "func BSplineKAN(ctx *context.Context, xys *Node) *Node {\n",
    "    return kan.New(ctx.In(\"BSplineKan\"), xys, 1).\n",
    "        NumHiddenLayers(2, 10).\n",
    "        NumControlPoints(10).\n",
    "        UseResidual(true).\n",
    "        Done()\n",
    "}\n",
    "\n",
    "%%\n",
    "DemoFn(BSplineKAN, /* numBatches */ 10, /* useCrossentropy */ true)"
   ]
  },
  {
   "cell_type": "markdown",
   "id": "11a70643-603e-4cee-9dcc-bba97e394beb",
   "metadata": {},
   "source": [
    "### Rational Functions KAN (GR-KAN)"
   ]
  },
  {
   "cell_type": "code",
   "execution_count": 60,
   "id": "152063d2-1dca-4307-8ae1-fda373bee2c5",
   "metadata": {},
   "outputs": [
    {
     "name": "stdout",
     "output_type": "stream",
     "text": [
      "Training (25000 steps):  100%  (1956 steps/s) [step=24999] [loss+=0.004] [~loss+=0.006] [~loss=0.006]        ]        \n",
      "Train: loss=(Float32): 0.0039818697\n",
      "\tMedian training time: 452.684µs\n",
      "Accuracy:\t99.7%\n",
      "# params:\t1430\n"
     ]
    },
    {
     "data": {
      "text/html": [
       "<img src=\"data:image/png;base64,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\"/>"
      ]
     },
     "metadata": {},
     "output_type": "display_data"
    }
   ],
   "source": [
    "func GRKAN(ctx *context.Context, xys *Node) *Node {\n",
    "    return kan.New(ctx.In(\"GRKAN\"), xys, 1).\n",
    "        Rational().\n",
    "        NumHiddenLayers(2, 10).\n",
    "        UseResidual(true).\n",
    "        Done()\n",
    "}\n",
    "\n",
    "%%\n",
    "DemoFn(GRKAN, /* numBatches */ 10, /* useCrossentropy */ true)"
   ]
  },
  {
   "cell_type": "markdown",
   "id": "68880e1a-1140-4b9c-aa28-c1a15af30246",
   "metadata": {},
   "source": [
    "### Piecewise Linear KAN (PWL-KAN)"
   ]
  },
  {
   "cell_type": "code",
   "execution_count": 62,
   "id": "f4126556-7476-452c-92c9-0c8489ff7b55",
   "metadata": {},
   "outputs": [
    {
     "name": "stdout",
     "output_type": "stream",
     "text": [
      "Training (25000 steps):  100%  (1927 steps/s) [step=24999] [loss+=0.006] [~loss+=0.007] [~loss=0.007]        ]        \n",
      "Train: loss=(Float32): 0.0058569247\n",
      "\tMedian training time: 457.879µs\n",
      "Accuracy:\t99.7%\n",
      "# params:\t3170\n"
     ]
    },
    {
     "data": {
      "text/html": [
       "<img src=\"data:image/png;base64,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\"/>"
      ]
     },
     "metadata": {},
     "output_type": "display_data"
    }
   ],
   "source": [
    "func PWLKAN(ctx *context.Context, xys *Node) *Node {\n",
    "    ctx.SetParam(kan.ParamPWLSplitPointsTrainable, true)\n",
    "    return kan.New(ctx.In(\"PWL-KAN\"), xys, 1).\n",
    "        PiecewiseLinear().\n",
    "        NumHiddenLayers(2, 10).\n",
    "        UseResidual(true).\n",
    "        NumControlPoints(20).        \n",
    "        Done()\n",
    "}\n",
    "\n",
    "%%\n",
    "DemoFn(PWLKAN, /* numBatches */ 10, /* useCrossentropy */ true)"
   ]
  },
  {
   "cell_type": "markdown",
   "id": "1ad6d060-d41d-45f5-968c-b7f0dc3bc62d",
   "metadata": {},
   "source": [
    "### Piecewise Constant KAN (Discrete-KAN)"
   ]
  },
  {
   "cell_type": "code",
   "execution_count": 69,
   "id": "c8a6e6c7-3758-4bdc-9f71-ac2b416c5738",
   "metadata": {},
   "outputs": [
    {
     "name": "stdout",
     "output_type": "stream",
     "text": [
      "Training (100000 steps):  100%  (1767 steps/s) [step=99999] [loss+=0.005] [~loss+=0.004] [~loss=0.004]        ]         \n",
      "Train: loss=(Float32): 0.0046760365\n",
      "\tMedian training time: 506.637µs\n",
      "Accuracy:\t97.0%\n",
      "# params:\t2443\n"
     ]
    },
    {
     "data": {
      "text/html": [
       "<img src=\"data:image/png;base64,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\"/>"
      ]
     },
     "metadata": {},
     "output_type": "display_data"
    }
   ],
   "source": [
    "func DiscreteKAN(ctx *context.Context, xys *Node) *Node {\n",
    "    ctx.SetParam(kan.ParamDiscreteSoftnessScheduleMin, 1e-5)\n",
    "    return kan.New(ctx.In(\"DiscreteKAN\"), xys, 1).\n",
    "        Discrete().\n",
    "        NumHiddenLayers(3, 5).\n",
    "        UseResidual(true).\n",
    "        NumControlPoints(30).\n",
    "        DiscreteSoftness(0.2).\n",
    "        DiscreteSplitsTrainable(true).\n",
    "        DiscreteSoftnessScheduleType(kan.SoftnessScheduleExponential).\n",
    "        Done()\n",
    "}\n",
    "\n",
    "%%\n",
    "BaseNumSteps = 10_000\n",
    "DemoFn(DiscreteKAN, /* numBatches */ 10, /* useCrossentropy */ false)"
   ]
  }
 ],
 "metadata": {
  "kernelspec": {
   "display_name": "Go (gonb)",
   "language": "go",
   "name": "gonb"
  },
  "language_info": {
   "codemirror_mode": "",
   "file_extension": ".go",
   "mimetype": "",
   "name": "go",
   "nbconvert_exporter": "",
   "pygments_lexer": "",
   "version": "go1.23.2"
  }
 },
 "nbformat": 4,
 "nbformat_minor": 5
}
