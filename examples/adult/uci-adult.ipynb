{
 "cells": [
  {
   "cell_type": "markdown",
   "id": "546fa208-c19c-405b-81b1-cf99fcb4a830",
   "metadata": {
    "tags": []
   },
   "source": [
    "# UCI Adult Dataset or Census Income\n",
    "\n",
    "This is a very popular ML task, with tabular data. The objective is to predict whether income exceeds $50K/yr based on census data. \n",
    "Also known as \"Census Income\" dataset.\n",
    "\n",
    "The data is old and biased on different ways ... but it can be used opaquely for ML experimentation.\n",
    "\n"
   ]
  },
  {
   "cell_type": "markdown",
   "id": "2ab071e3-227f-4c77-b864-2b7e5a5ccbdf",
   "metadata": {},
   "source": [
    "## Environment Set Up\n",
    "\n",
    "Let's set up `go.mod` to use the local copy of GoMLX, so it can be developed jointly the dataset code with the model. That's often how data pre-processing and model code is developed together with experimentation.\n",
    "\n",
    "If you are not changing code, feel free to simply skip this cell. Or if you used a different directory for you projects, change it below.\n",
    "\n",
    "Notice the directory `${HOME}/Projects/gomlx` is where the GoMLX code is copied by default in [its Docker](https://hub.docker.com/repository/docker/janpfeifer/gomlx_jupyterlab/general)."
   ]
  },
  {
   "cell_type": "code",
   "execution_count": 1,
   "id": "9ba46cb6-059d-4387-876c-665f778f2447",
   "metadata": {
    "tags": []
   },
   "outputs": [],
   "source": [
    "!*go mod edit -replace github.com/gomlx/gomlx=\"${HOME}/Projects/gomlx\""
   ]
  },
  {
   "cell_type": "markdown",
   "id": "78cf991f-4fa5-4bae-8e49-ca67fb8dbd5b",
   "metadata": {},
   "source": [
    "## Data Preparation\n",
    "\n",
    "GoMLX provides [a simple `adult` library](https://pkg.go.dev/github.com/gomlx/gomlx/examples/adult) to facilitate downdoaling and preprocessing the data. Data is available in [UCI Machine Learning Repository](https://archive.ics.uci.edu/ml/datasets/Adult).\n",
    "\n",
    "After downloading the data and validating the checksum (both training and testing), it generates the quantiles for the continuous features, and the vocabularies for the categorical features. It saves all this info for faster restart later in a binary file. So this won't be necessary a second time.\n",
    "\n",
    "The quantiles are used to calibrate the values, using a piece-wise-lienar calibration, very good for these things. See [`layers.PieceWiseLinearCalibration` documentation](https://pkg.go.dev/github.com/gomlx/gomlx@v0.1.0/ml/layers#PieceWiseLinearCalibration).\n",
    "\n",
    "We create a flag `--data` to define the directory where to save the intermediary files: downloaded and preprocessed datasets.\n",
    "In this examle we set it to `~/work/uci-adult`. Verbosity can be contolled with the `--verbosity` flag. \n",
    "\n",
    "We set default in Go for these flags, but they can easily be reset for a new run by providing them after the `%%` Jupyter kernel meta-command -- in indicates that the subsequent lines should be put in to a `func main`.\n"
   ]
  },
  {
   "cell_type": "code",
   "execution_count": 2,
   "id": "9418be86-70bc-41ad-9e0a-3a5e6bf52b51",
   "metadata": {
    "tags": []
   },
   "outputs": [
    {
     "name": "stdout",
     "output_type": "stream",
     "text": [
      "\n",
      "Sample Categorical: (24.08% positive ratio, 23.86% weighted positive ratio)\n",
      "\tRow 0:\t[7 10 5 1 2 5 2 39]\n",
      "\tRow 1:\t[6 10 3 4 1 5 2 39]\n",
      "\tRow 2:\t[4 12 1 6 2 5 2 39]\n",
      "\t...\n",
      "\tRow 32558:\t[4 12 7 1 5 5 1 39]\n",
      "\tRow 32559:\t[4 12 5 1 4 5 2 39]\n",
      "\tRow 32560:\t[5 12 3 4 6 5 1 39]\n",
      "\n",
      "Sample Continuous:\n",
      "\tRow 0:\t[39 13 2174 0 40]\n",
      "\tRow 1:\t[50 13 0 0 13]\n",
      "\tRow 2:\t[38 9 0 0 40]\n",
      "\t...\n",
      "\tRow 32558:\t[58 9 0 0 40]\n",
      "\tRow 32559:\t[22 9 0 0 20]\n",
      "\tRow 32560:\t[52 9 15024 0 40]\n"
     ]
    }
   ],
   "source": [
    "import (\n",
    "    \"flag\"\n",
    "    \n",
    "    \"github.com/gomlx/gomlx/examples/adult\"\n",
    ")\n",
    "\n",
    "var (\n",
    "    flagDataDir       = flag.String(\"data\", \"~/work/uci-adult\", \"Directory to save and load downloaded and generated dataset files.\")\n",
    "    flagVerbosity     = flag.Int(\"verbosity\", 0, \"Level of verbosity, the higher the more verbose.\")\n",
    "    flagForceDownload = flag.Bool(\"force_download\", false, \"Force re-download of Adult dataset files.\")\n",
    "    flagNumQuantiles  = flag.Int(\"quantiles\", 100, \"Max number of quantiles to use for numeric features, used during piece-wise linear calibration. It will only use unique values, so if there are fewer variability, fewer quantiles are used.\")\n",
    ")\n",
    "\n",
    "%% --verbosity=2\n",
    "adult.LoadAndPreprocessData(*flagDataDir, *flagNumQuantiles, *flagForceDownload, *flagVerbosity)"
   ]
  },
  {
   "cell_type": "code",
   "execution_count": 3,
   "id": "fdab7255-2224-496a-9ec7-75927150f9d7",
   "metadata": {
    "tags": []
   },
   "outputs": [
    {
     "name": "stdout",
     "output_type": "stream",
     "text": [
      "total 7.0M\n",
      "-rw-r--r-- 1 janpf janpf 3.8M Mar 21 09:14 adult.data\n",
      "-rw-r--r-- 1 janpf janpf 1.3M Mar 21 09:14 adult_data-100_quantiles.bin\n",
      "-rw-r--r-- 1 janpf janpf 2.0M Mar 21 09:14 adult.test\n"
     ]
    }
   ],
   "source": [
    "!ls -lh ~/work/uci-adult"
   ]
  },
  {
   "cell_type": "markdown",
   "id": "028b783b-56f0-457c-b28e-7bb0dd7e94da",
   "metadata": {},
   "source": [
    "### Creating Datasets\n",
    "\n",
    "First we create the GoMLX's `Manager`: it's the object that manages the underlying XLA\n",
    "setup, connection and execution. It's needed to create tensors.\n",
    "\n",
    "With that we create the samplers of data that we will use to train and evaluate. They implement \n",
    "GoMLX's `train.Dataset` interface, which is what is used by our training loop to draw batches to\n",
    "train, or our eval loop to draw batches to evaluate.\n",
    "\n",
    "The inputs are 3 tensors: *categorical values*, *continuous values* and *weights*.\n",
    "\n",
    "In the cell below we define the `Manager` flags, `BuildSamplers` and printout some samples."
   ]
  },
  {
   "cell_type": "code",
   "execution_count": 4,
   "id": "f13f771b-7109-49d2-8db5-5f3d5a91d324",
   "metadata": {
    "tags": []
   },
   "outputs": [
    {
     "name": "stdout",
     "output_type": "stream",
     "text": [
      "Inputs of batch (size 128):\n",
      "\tcategorical:\n",
      "\t\tFeatures=[workclass education marital-status occupation relationship race sex native-country]\n",
      "\t\tValues: (Int64)[128 8]: (... too large, 1024 values ..., first 16 values: [4 12 3 12 1 5 2 39 4 16 1 1 2 3 1 39])\n",
      "\tcontinuous:\n",
      "\t\tFeatures=[age education-num capital-gain capital-loss hours-per-week]\n",
      "\t\tValues: (Float32)[128 5]: (... too large, 640 values ..., first 10 values: [52 9 0 0 14 29 10 0 0 40])\n",
      "\tweights: (Float32)[128 1]: (... too large, 128 values ..., first 5 values: [128272 234447 148409 142719 252752])\n",
      "\n",
      "Labels of batch:\n",
      "\t(Float32)[128 1]: (... too large, 128 values ..., first 10 values: [0 0 0 0 0 0 1 0 0 0])\n",
      "\n",
      "Labels distributions:\n",
      "\tTrain:\t24.08% positive\n",
      "\tTest:\t23.62% positive\n"
     ]
    }
   ],
   "source": [
    "import (\n",
    "    \"flag\"\n",
    "    \"fmt\"\n",
    "    \"io\"\n",
    "\n",
    "    . \"github.com/gomlx/gomlx/graph\"\n",
    "    \"github.com/gomlx/gomlx/examples/adult\"\n",
    "    \"github.com/gomlx/gomlx/ml/train\"\n",
    "    \"github.com/gomlx/gomlx/types/tensor\"\n",
    ")\n",
    "\n",
    "var (\n",
    "    flagBatchSize      = flag.Int(\"batch\", 128, \"BatchSampler size for training\")\n",
    ")\n",
    "\n",
    "// Global manager created an initialization, used everywhere.\n",
    "var manager = NewManager()\n",
    "\n",
    "// BuildDatasets returns 3 `train.Dataset`:\n",
    "// * trainingSampler is an endless random sampler used for training.\n",
    "// * trainingEvalSampler samples through exactly one epoch of the train dataset.\n",
    "// * testEvalSampler samples through exactly one epoch of the test dataset.\n",
    "func BuildDatasets(manager *Manager) (trainDS, trainEvalDS, testEvalDS train.Dataset) {\n",
    "    baseDS := adult.NewDataset(manager, adult.Data.Train, \"batched train\")\n",
    "    trainEvalDS = baseDS.Copy().BatchSize(*flagBatchSize, false)\n",
    "    testEvalDS = adult.NewDataset(manager, adult.Data.Test, \"test\").\n",
    "        BatchSize(*flagBatchSize, false)\n",
    "    // For training, we shuffle and loop indefinitely.\n",
    "    trainDS = baseDS.BatchSize(*flagBatchSize, true).Shuffle().Infinite(true)\n",
    "    return\n",
    "}\n",
    "\n",
    "// PositiveRatio finds out the the ratio of positive labels in the\n",
    "// training and testing data.\n",
    "//\n",
    "// We could do this easily with GoMLX computation model (just `ReduceAllSum`), but\n",
    "// this examples shows it's also ok to mix Go computations.\n",
    "func PositiveRatio(ds train.Dataset) float32 {\n",
    "    ds.Reset()  // Start from beginning.\n",
    "    var sum float32\n",
    "    var count float32\n",
    "    for {\n",
    "        _, _, labels, err := ds.Yield()\n",
    "        if err == io.EOF {\n",
    "            break;\n",
    "        }\n",
    "        if err != nil { panic(err) }\n",
    "        data := labels[0].Local().Flat().([]float32)\n",
    "        for _, value := range data {\n",
    "            sum += value\n",
    "        }\n",
    "        count += float32(len(data))\n",
    "    }\n",
    "    return sum/count\n",
    "}\n",
    "\n",
    "%%\n",
    "adult.LoadAndPreprocessData(*flagDataDir, *flagNumQuantiles, *flagForceDownload, *flagVerbosity)    \n",
    "trainingDS, trainingEvalDS, testEvalDS := BuildDatasets(manager)\n",
    "\n",
    "// Take one batch.\n",
    "_, inputs, labels, err := trainingDS.Yield()\n",
    "if err != nil { panic(err) }\n",
    "fmt.Printf(\"Inputs of batch (size %d):\\n\", *flagBatchSize)\n",
    "fmt.Printf(\"\\tcategorical:\\n\\t\\tFeatures=%v\\n\", adult.Data.VocabulariesFeatures)\n",
    "fmt.Printf(\"\\t\\tValues: %s\\n\", inputs[0].Local().StringN(16))\n",
    "fmt.Printf(\"\\tcontinuous:\\n\\t\\tFeatures=%v\\n\", adult.Data.QuantilesFeatures)\n",
    "fmt.Printf(\"\\t\\tValues: %s\\n\", inputs[1].Local().StringN(10))\n",
    "fmt.Printf(\"\\tweights: %s\\n\", inputs[2].Local().StringN(5))\n",
    "fmt.Printf(\"\\nLabels of batch:\\n\\t%s\\n\", labels[0].Local().StringN(10))\n",
    "fmt.Printf(\"\\nLabels distributions:\\n\\tTrain:\\t%.2f%% positive\\n\\tTest:\\t%.2f%% positive\\n\",\n",
    "           PositiveRatio(trainingEvalDS)*100.0, PositiveRatio(testEvalDS)*100.0)\n"
   ]
  },
  {
   "cell_type": "markdown",
   "id": "54efd046-bbd5-4f7d-94e0-9ed3c64512b1",
   "metadata": {},
   "source": [
    "## Model Definition\n",
    "\n",
    "Lots of hyper-parameter flags, but otherwise a straight forward FNN, using piece-wise linear calibration of the continuous features, and embeddings for the categorical features.\n",
    "\n",
    "> **Note**: building models is a constant checking that shapes are compatible. It's a bit annoying, in particular because shapes are known in runtime only -- no compile time check. GoMLX tries to help providing a stack trace of where errors happen so one can pin-point issues quickly. But often it involves lots of experimentation (more than ordinary Go code).\n",
    ">\n",
    "> Developing with a Noteboook (see [GoNB](https://github.com/janpfeifer/gonb)) or simply a unit test on your `ModelGraph` function are quick/convenient ways to develop models -- before actually training them. You can also use shape asserts in the middle of the \n",
    ">`ModelGraph`, as we do below."
   ]
  },
  {
   "cell_type": "code",
   "execution_count": 5,
   "id": "7040e63b-33f1-4ff9-a232-187196c5f9c1",
   "metadata": {
    "tags": []
   },
   "outputs": [
    {
     "name": "stdout",
     "output_type": "stream",
     "text": [
      "Logits shape for batch_size=128: (Float32)[128 1]\n"
     ]
    }
   ],
   "source": [
    "import (\n",
    "    \"fmt\"\n",
    "    \"io\"\n",
    "\n",
    "    . \"github.com/gomlx/gomlx/graph\"\n",
    "\n",
    "    \"github.com/gomlx/gomlx/ml/context\"\n",
    "    \"github.com/gomlx/gomlx/examples/adult\"\n",
    "    \"github.com/gomlx/gomlx/ml/train\"\n",
    "    \"github.com/gomlx/gomlx/ml/train/optimizers\"\n",
    "    \"github.com/gomlx/gomlx/types/shapes\"\n",
    ")\n",
    "\n",
    "var (\n",
    "    // ModelDType used for the model. Must match RawData Go types.\n",
    "    ModelDType = shapes.Float32\n",
    "    \n",
    "\n",
    "    // Model hyperparameters.\n",
    "    flagUseCategorical       = flag.Bool(\"use_categorical\", true, \"Use categorical features.\")\n",
    "    flagUseContinuous        = flag.Bool(\"use_continuous\", true, \"Use continuous features.\")\n",
    "    flagTrainableCalibration = flag.Bool(\"trainable_calibration\", true, \"Allow piece-wise linear calibration to adjust outputs.\")\n",
    "    flagEmbeddingDim    = flag.Int(\"embedding_dim\", 8, \"Default embedding dimension for categorical values.\")\n",
    "    flagNumHiddenLayers = flag.Int(\"hidden_layers\", 8, \"Number of hidden layers, stacked with residual connection.\")\n",
    "    flagNumNodes        = flag.Int(\"num_nodes\", 32, \"Number of nodes in hidden layers.\")\n",
    "    flagDropoutRate     = flag.Float64(\"dropout\", 0, \"Dropout rate\")\n",
    "    \n",
    "    // Training parameter, referenced here.\n",
    "    flagLearningRate  = flag.Float64(\"learning_rate\", 0.001, \"Initial learning rate.\")\n",
    "    flagNumSteps      = flag.Int(\"steps\", 5000, \"Number of gradient descent steps to perform\")\n",
    ")\n",
    "\n",
    "\n",
    "// ModelGraph outputs the logits (not the probabilities). The parameter inputs should contain 3 tensors:\n",
    "//\n",
    "// - categorical inputs, shaped  `(int64)[batch_size, len(VocabulariesFeatures)]`\n",
    "// - continuous inputs, shaped `(float32)[batch_size, len(Quantiles)]`\n",
    "// - weights: not currently used, but shaped `(float32)[batch_size, 1]`.\n",
    "func ModelGraph(ctx *context.Context, spec any, inputs []*Node) []*Node {\n",
    "    _ = spec // Not used, since the dataset is always the same.\n",
    "    g := inputs[0].Graph()\n",
    "    \n",
    "    // Use Cosine schedule of the learning rate.\n",
    "    optimizers.CosineAnnealingSchedule(ctx, g, ModelDType).\n",
    "        PeriodInSteps(*flagNumSteps/3).Done()\n",
    "    \n",
    "    categorical, continuous := inputs[0], inputs[1]\n",
    "    batchSize := categorical.Shape().Dimensions[0]\n",
    "    \n",
    "    var allEmbeddings []*Node\n",
    "\n",
    "    if *flagUseCategorical {\n",
    "        // Embedding of categorical values, each with its own vocabulary.\n",
    "        numCategorical := categorical.Shape().Dimensions[1]\n",
    "        for catIdx := 0; catIdx < numCategorical; catIdx++ {\n",
    "            // Take one column at a time of the categorical values.\n",
    "            split := Slice(categorical, AxisRange(), AxisRange(catIdx, catIdx+1))\n",
    "            // Embed it accordingly.\n",
    "            embedCtx := ctx.In(fmt.Sprintf(\"categorical_%d_%s\", catIdx, adult.Data.VocabulariesFeatures[catIdx]))\n",
    "            vocab := adult.Data.Vocabularies[catIdx]\n",
    "            vocabSize := len(vocab)\n",
    "            embedding := layers.Embedding(embedCtx, split, ModelDType, vocabSize, *flagEmbeddingDim)\n",
    "            embedding.AssertDims(batchSize, *flagEmbeddingDim) // 2-dim tensor, with batch size as the leading dimension.\n",
    "            allEmbeddings = append(allEmbeddings, embedding)\n",
    "        }\n",
    "    }\n",
    "\n",
    "    if *flagUseContinuous {\n",
    "        // Piecewise-linear calibration of the continuous values. Each feature has its own number of quantiles.\n",
    "        numContinuous := continuous.Shape().Dimensions[1]\n",
    "        for contIdx := 0; contIdx < numContinuous; contIdx++ {\n",
    "            // Take one column at a time of the continuous values.\n",
    "            split := Slice(continuous, AxisRange(), AxisRange(contIdx, contIdx+1))\n",
    "            featureName := adult.Data.QuantilesFeatures[contIdx]\n",
    "            calibrationCtx := ctx.In(fmt.Sprintf(\"continuous_%d_%s\", contIdx, featureName))\n",
    "            quantiles := adult.Data.Quantiles[contIdx]\n",
    "            layers.AssertQuantilesForPWLCalibrationValid(quantiles)\n",
    "            calibrated := layers.PieceWiseLinearCalibration(calibrationCtx, split, Const(g, quantiles), *flagTrainableCalibration)\n",
    "            calibrated.AssertDims(batchSize, 1) // 2-dim tensor, with batch size as the leading dimension.\n",
    "            allEmbeddings = append(allEmbeddings, calibrated)\n",
    "        }\n",
    "    }\n",
    "    layer := Concatenate(allEmbeddings, -1)\n",
    "    layer.AssertDims(batchSize, -1) // 2-dim tensor, with batch size as the leading dimension (-1 means it is not checked).\n",
    "    \n",
    "    layer = layers.DenseWithBias(ctx.In(fmt.Sprintf(\"DenseLayer_%d\", 0)), layer, *flagNumNodes)\n",
    "    for ii := 1; ii < *flagNumHiddenLayers; ii++ {\n",
    "        ctx := ctx.In(fmt.Sprintf(\"DenseLayer_%d\", ii))\n",
    "        // Add layer with residual connection.\n",
    "        tmp := Sigmoid(layer)\n",
    "        if *flagDropoutRate > 0 {\n",
    "            tmp = layers.Dropout(ctx, tmp, Scalar(g, ModelDType, *flagDropoutRate))\n",
    "        }\n",
    "        tmp = layers.DenseWithBias(ctx, tmp, *flagNumNodes)\n",
    "        layer = Add(layer, tmp)  // Residual connections\n",
    "    }\n",
    "    layer = Sigmoid(layer)\n",
    "    logits := layers.DenseWithBias(ctx.In(\"DenseFinal\"), layer, 1)\n",
    "    logits.AssertDims(batchSize, 1) // 2-dim tensor, with batch size as the leading dimension.\n",
    "    return []*Node{logits}\n",
    "}\n",
    "\n",
    "%%\n",
    "adult.LoadAndPreprocessData(*flagDataDir, *flagNumQuantiles, *flagForceDownload, *flagVerbosity)    \n",
    "\n",
    "// Let's just check that we get the right shape from the model function, wihtout any real data.\n",
    "graph := manager.NewGraph(\"test\")\n",
    "ctx := context.NewContext(manager)\n",
    "ctx.SetParam(optimizers.LearningRateKey, *flagLearningRate)\n",
    "\n",
    "// Create placeholder (parameters) graph nodes, just to test the graph building is working.\n",
    "inputs := []*Node{\n",
    "    // Categorical: shaped [batch_size, num_categorical]\n",
    "    graph.Parameter(\"categorical\", shapes.Make(shapes.Int64, *flagBatchSize, len(adult.Data.VocabulariesFeatures))),\n",
    "    // Continuous: shaped [batch_size, num_continuos]\n",
    "    graph.Parameter(\"continuous\", shapes.Make(shapes.Float32, *flagBatchSize, len(adult.Data.QuantilesFeatures))),\n",
    "    // Weights: shaped [batch_size, 1]\n",
    "    graph.Parameter(\"weights\", shapes.Make(shapes.Float32, *flagBatchSize, 1)),    \n",
    "}\n",
    "logits := ModelGraph(ctx, nil, inputs)\n",
    "fmt.Printf(\"Logits shape for batch_size=%d: %s\\n\", *flagBatchSize, logits[0].Shape())"
   ]
  },
  {
   "cell_type": "markdown",
   "id": "618e1c7a-ced1-4914-8530-0924e02f095c",
   "metadata": {},
   "source": [
    "## Training Loop\n",
    "\n",
    "We can create a training loop with only a `Manager`, a `Context` (for the model varibles) and the `ModelGraph` function.\n",
    "\n",
    "To make it more interesting we also add the following:\n",
    "\n",
    "* Accuracy metrics for training and testing.\n",
    "* Checkpoints -- so trained model can be saved, and reloaded.\n",
    "* A progress-bar that also shows training metrics.\n",
    "* We dynamically plot how the loss and accuracy evolve.\n",
    "\n",
    "First we define the corresponding flags and the `trainModel` function, and run it for very few steps to make sure\n",
    "it is working."
   ]
  },
  {
   "cell_type": "code",
   "execution_count": 6,
   "id": "daf39a7c-7cc8-43a5-ae79-026303f5f502",
   "metadata": {
    "tags": []
   },
   "outputs": [
    {
     "name": "stdout",
     "output_type": "stream",
     "text": [
      "Training (500 steps):  100% [\u001b[32m=\u001b[0m\u001b[32m=\u001b[0m\u001b[32m=\u001b[0m\u001b[32m=\u001b[0m\u001b[32m=\u001b[0m\u001b[32m=\u001b[0m\u001b[32m=\u001b[0m\u001b[32m=\u001b[0m\u001b[32m=\u001b[0m\u001b[32m=\u001b[0m\u001b[32m=\u001b[0m\u001b[32m=\u001b[0m\u001b[32m=\u001b[0m\u001b[32m=\u001b[0m\u001b[32m=\u001b[0m\u001b[32m=\u001b[0m\u001b[32m=\u001b[0m\u001b[32m=\u001b[0m\u001b[32m=\u001b[0m\u001b[32m=\u001b[0m\u001b[32m=\u001b[0m\u001b[32m=\u001b[0m\u001b[32m=\u001b[0m\u001b[32m=\u001b[0m\u001b[32m=\u001b[0m\u001b[32m=\u001b[0m\u001b[32m=\u001b[0m\u001b[32m=\u001b[0m\u001b[32m=\u001b[0m\u001b[32m=\u001b[0m\u001b[32m=\u001b[0m\u001b[32m=\u001b[0m\u001b[32m=\u001b[0m\u001b[32m=\u001b[0m\u001b[32m=\u001b[0m\u001b[32m=\u001b[0m\u001b[32m=\u001b[0m\u001b[32m=\u001b[0m\u001b[32m=\u001b[0m\u001b[32m=\u001b[0m] (164 steps/s)\u001b[0m [loss=0.366] [~loss=0.368] [~acc=83.67%]        \n",
      "\t[Step 500] median train step: 972 microseconds\n",
      "\n",
      "Results on batched train:\n",
      "\tMean Loss (#loss): 0.350\n",
      "\tMean Accuracy (#acc): 84.82%\n",
      "Results on test:\n",
      "\tMean Loss (#loss): 0.346\n",
      "\tMean Accuracy (#acc): 85.06%\n",
      "\n"
     ]
    }
   ],
   "source": [
    "import (\n",
    "    \"fmt\"\n",
    "    \"io\"\n",
    "    \"time\"\n",
    "\n",
    "    . \"github.com/gomlx/gomlx/graph\"\n",
    "\n",
    "    \"github.com/gomlx/gomlx/examples/adult\"\n",
    "    \"github.com/gomlx/gomlx/examples/notebook/gonb/margaid\"\n",
    "    \"github.com/gomlx/gomlx/ml/context\"\n",
    "    \"github.com/gomlx/gomlx/ml/train\"\n",
    "    \"github.com/gomlx/gomlx/types/shapes\"\n",
    "    \"github.com/gomlx/gomlx/types/slices\"\n",
    "    \"github.com/gomlx/gomlx/types/tensor\"\n",
    "    \"github.com/janpfeifer/gonb/gonbui\"\n",
    ")\n",
    "\n",
    "var (\n",
    "    flagOptimizer      = flag.String(\"optimizer\", \"adam\", \"Type of optimizer to use: 'sgd' or 'adam'\")\n",
    "    flagLearningRate   = flag.Float64(\"learning_rate\", 0.001, \"Initial learning rate.\")\n",
    "    flagCheckpoint     = flag.String(\"checkpoint\", \"\", \"Directory save and load checkpoints from. If left empty, no checkpoints are created.\")\n",
    "    flagCheckpointKeep = flag.Int(\"checkpoint_keep\", 10, \"Number of checkpoints to keep, if --checkpoint is set.\")\n",
    "    flagPlots          = flag.Bool(\"plots\", true, \"Plots during training: perform periodic evaluations, \"+\n",
    "                                   \"save results if --checkpoint is set and draw plots, if in a Jupyter notebook.\")\n",
    ")\n",
    "\n",
    "func trainModel() {\n",
    "    // Fixes directories.\n",
    "    *flagDataDir = data.ReplaceTildeInDir(*flagDataDir)\n",
    "    *flagCheckpoint = data.ReplaceTildeInDir(*flagCheckpoint)\n",
    "    if *flagCheckpoint != \"\" && !path.IsAbs(*flagCheckpoint) {\n",
    "        *flagCheckpoint = path.Join(*flagDataDir, *flagCheckpoint)\n",
    "    }\n",
    "\n",
    "    // Load data and create datasets.\n",
    "    adult.LoadAndPreprocessData(*flagDataDir, *flagNumQuantiles, *flagForceDownload, *flagVerbosity)    \n",
    "    trainDS, trainEvalDS, testEvalDS := BuildDatasets(manager)\n",
    "\n",
    "    // Context holds the variables and optionally hyperparameters for the model.\n",
    "    ctx := context.NewContext(manager)\n",
    "    ctx.SetParam(optimizers.LearningRateKey, *flagLearningRate)\n",
    "\n",
    "    // Metrics we are interested.\n",
    "    meanAccuracyMetric := metrics.NewMeanBinaryLogitsAccuracy(\"Mean Accuracy\", \"#acc\")\n",
    "    movingAccuracyMetric := metrics.NewMovingAverageBinaryLogitsAccuracy(\"Moving Average Accuracy\", \"~acc\", 0.01)\n",
    "\n",
    "    // Checkpoints saving.\n",
    "    var checkpoint *checkpoints.Handler\n",
    "    if *flagCheckpoint != \"\" {\n",
    "        var err error\n",
    "        checkpoint, err = checkpoints.Build(ctx).Dir(*flagCheckpoint).Keep(*flagCheckpointKeep).Done()\n",
    "        if err != nil { panic(err) }\n",
    "        fmt.Printf(\"Checkpointing model to %q\\n\", checkpoint.Dir())\n",
    "        globalStep := optimizers.GetGlobalStepVar(ctx).Value().Value().(int)\n",
    "        if globalStep != 0 {\n",
    "            fmt.Printf(\"Restarting training from global_step=%d\\n\", globalStep)\n",
    "        }\n",
    "    }\n",
    "\n",
    "    // Pick a known optimizer.\n",
    "    optimizerFn, found := optimizers.KnownOptimizers[*flagOptimizer]\n",
    "    if !found {\n",
    "        log.Fatalf(\"Unknown optimizer %q, please use one of %v\",\n",
    "            *flagOptimizer, slices.Keys(optimizers.KnownOptimizers))\n",
    "    }\n",
    "\n",
    "    // Create a train.Trainer: this object will orchestrate running the model, feeding\n",
    "    // results to the optimizer, evaluating the metrics, etc. (all happens in trainer.TrainStep)\n",
    "    trainer := train.NewTrainer(manager, ctx, ModelGraph, losses.BinaryCrossentropyLogits,\n",
    "        optimizerFn(),\n",
    "        []metrics.Interface{movingAccuracyMetric}, // trainMetrics\n",
    "        []metrics.Interface{meanAccuracyMetric})   // evalMetrics\n",
    "\n",
    "    // Use standard training loop.\n",
    "    loop := train.NewLoop(trainer)\n",
    "    loop.ReadGlobalStep(ctx)  // Make sure it restarts from previous global step, if one is set.\n",
    "    commandline.AttachProgressBar(loop) // Attaches a progress bar to the loop.\n",
    "\n",
    "    // Attach a checkpoint: checkpoint every 1 minute of training.\n",
    "    if checkpoint != nil {\n",
    "        period := time.Minute * 1\n",
    "        train.PeriodicCallback(loop, period, true, \"saving checkpoint\", 100,\n",
    "            func(loop *train.Loop, metrics []tensor.Tensor) error {\n",
    "                fmt.Printf(\"\\n[saving checkpoint@%d] [median train step (ms): %d]\\n\", loop.LoopStep, loop.MedianTrainStepDuration().Milliseconds())\n",
    "                return checkpoint.Save()\n",
    "            })\n",
    "    }\n",
    "\n",
    "\t// Attach a margaid plots: plot points at exponential steps.\n",
    "    // Points (metrics) are saved along the checkpoint directory (if one is given).\n",
    "\tif *flagPlots {\n",
    "\t\t_ = margaid.NewDefault(loop, checkpoint.Dir(), 100, 1.1, trainEvalDS, testEvalDS)\n",
    "\t}\n",
    "\n",
    "    // Run the given number of steps.\n",
    "    _, err := loop.RunSteps(trainDS, *flagNumSteps)\n",
    "    if err != nil { panic(err) }\n",
    "    fmt.Printf(\"\\t[Step %d] median train step: %d microseconds\\n\", loop.LoopStep, loop.MedianTrainStepDuration().Microseconds())\n",
    "\n",
    "    // Print a final evaluation on train and test datasets.\n",
    "    fmt.Println()\n",
    "    err = commandline.ReportEval(trainer, trainEvalDS, testEvalDS)\n",
    "    if err != nil { panic(err) }\n",
    "    fmt.Println()\n",
    "}\n",
    "\n",
    "// Notice command line flags are passed in the %% notebook command. We set --plot=false here to disable plotting\n",
    "// since this is only a quick test that our train() loop is working. See below the final run for a full training.\n",
    "%% --steps=500 --plots=false\n",
    "trainModel()"
   ]
  },
  {
   "cell_type": "markdown",
   "id": "6bb5db6b-3a2c-4f48-8264-f90b22a52ed0",
   "metadata": {},
   "source": [
    "## Final run\n",
    "\n",
    "With everything working, we can do our final run.\n",
    "\n",
    "> **Note** here is where someone might want to hyperparameter tune, trying out different hyperparameters."
   ]
  },
  {
   "cell_type": "code",
   "execution_count": 7,
   "id": "66939463-60d7-446f-b4f3-1d60abe7c17c",
   "metadata": {
    "tags": []
   },
   "outputs": [
    {
     "name": "stdout",
     "output_type": "stream",
     "text": [
      "Checkpointing model to \"/home/janpf/work/uci-adult/base_model\"\n"
     ]
    },
    {
     "data": {
      "text/html": [
       "<svg style=\"background-color:#f8f8f8\" preserveAspectRatio=\"xMidYMid meet\" xmlns=\"http://www.w3.org/2000/svg\" width=\"1024\" height=\"454\" viewbox=\"0 0 1024 400\"><defs><marker id=\"circle\" viewBox=\"0 0 10 10 \" refX=\"5\" refY=\"5\" markerUnits=\"userSpaceOnUse\" markerWidth=\"2%\" markerHeight=\"2%\"><circle fill=\"none\" stroke=\"black\" cx=\"5\" cy=\"5\" r=\"3\"/></marker><marker refX=\"5\" refY=\"5\" markerUnits=\"userSpaceOnUse\" markerWidth=\"2%\" markerHeight=\"2%\" id=\"filled-circle\" viewBox=\"0 0 10 10 \"><circle cx=\"5\" cy=\"5\" r=\"3\" fill=\"black\" stroke=\"none\"/></marker><marker viewBox=\"0 0 10 10 \" refX=\"5\" refY=\"5\" markerUnits=\"userSpaceOnUse\" markerWidth=\"2%\" markerHeight=\"2%\" id=\"square\"><rect x=\"2\" y=\"2\" width=\"6\" height=\"6\" fill=\"none\" stroke=\"black\"/></marker><marker markerUnits=\"userSpaceOnUse\" markerWidth=\"2%\" markerHeight=\"2%\" id=\"filled-square\" viewBox=\"0 0 10 10 \" refX=\"5\" refY=\"5\"><rect x=\"2\" y=\"2\" width=\"6\" height=\"6\" fill=\"black\" stroke=\"none\"/></marker></defs><g stroke-linejoin=\"round\" marker-mid=\"url(#square)\" stroke=\"hsl(90, 47%, 65%)\" transform=\"translate(70 330 )scale(1 -1 )\" fill=\"none\" marker-start=\"url(#square)\" stroke-width=\"2px\" stroke-linecap=\"round\" marker-end=\"url(#square)\"><path vector-effect=\"non-scaling-stroke\" d=\"M1.768000e+01,4.086397e+01 L1.786294e+02,4.086397e+01 L2.773355e+02,1.920496e+02 L3.506075e+02,1.952881e+02 L4.099543e+02,2.093354e+02 L4.607660e+02,2.184824e+02 L5.055983e+02,2.189768e+02 L5.461769e+02,2.322643e+02 L5.835664e+02,2.316108e+02 L6.184621e+02,2.364507e+02 L6.513380e+02,2.428440e+02 L6.825291e+02,2.461386e+02 L7.123676e+02,2.508251e+02 L7.410809e+02,2.509327e+02 L7.688274e+02,2.527064e+02 L7.957190e+02,2.538340e+02 L8.218897e+02,2.539951e+02 L8.474287e+02,2.548000e+02 L8.663200e+02,2.501257e+02 \"/></g><g marker-end=\"url(#square)\" marker-start=\"url(#square)\" fill=\"none\" marker-mid=\"url(#square)\" transform=\"translate(70 330 )scale(1 -1 )\" stroke-width=\"2px\" stroke-linejoin=\"round\" stroke=\"hsl(301, 88%, 65%)\" stroke-linecap=\"round\"><path vector-effect=\"non-scaling-stroke\" d=\"M1.768000e+01,5.004710e+01 L1.786294e+02,5.004710e+01 L2.773355e+02,1.951854e+02 L3.506075e+02,1.951854e+02 L4.099543e+02,2.107247e+02 L4.607660e+02,2.226050e+02 L5.055983e+02,2.223859e+02 L5.461769e+02,2.341760e+02 L5.835664e+02,2.297108e+02 L6.184621e+02,2.331969e+02 L6.513380e+02,2.422022e+02 L6.825291e+02,2.443641e+02 L7.123676e+02,2.473859e+02 L7.410809e+02,2.470623e+02 L7.688274e+02,2.464152e+02 L7.957190e+02,2.494329e+02 L8.218897e+02,2.483558e+02 L8.474287e+02,2.497558e+02 L8.663200e+02,2.504015e+02 \"/></g><g transform=\"translate(70 330 )scale(1 -1 )\" stroke=\"hsl(152, 76%, 65%)\" stroke-linecap=\"round\" stroke-width=\"2px\" stroke-linejoin=\"round\" marker-start=\"url(#square)\" marker-end=\"url(#square)\" fill=\"none\" marker-mid=\"url(#square)\"><path vector-effect=\"non-scaling-stroke\" d=\"M1.768000e+01,5.200000e+00 L1.786294e+02,2.369609e+01 L2.773355e+02,1.212364e+02 L3.506075e+02,1.727207e+02 L4.099543e+02,1.952107e+02 L4.607660e+02,2.028707e+02 L5.055983e+02,2.123551e+02 L5.461769e+02,2.279108e+02 L5.835664e+02,2.284631e+02 L6.184621e+02,2.384818e+02 L6.513380e+02,2.403978e+02 L6.825291e+02,2.421576e+02 L7.123676e+02,2.464986e+02 L7.410809e+02,2.461259e+02 L7.688274e+02,2.537981e+02 L7.957190e+02,2.506665e+02 L8.218897e+02,2.479435e+02 L8.474287e+02,2.514528e+02 L8.663200e+02,2.511415e+02 \"/></g><g stroke=\"black\" stroke-width=\"2px\" stroke-linejoin=\"round\" stroke-linecap=\"round\" transform=\"translate(70 330 )scale(1 -1 )\" fill=\"none\"><path vector-effect=\"non-scaling-stroke\" d=\"M1.768000e+01,0 L1.768000e+01,-6 M1.680453e+02,0 L1.680453e+02,-6 M2.560033e+02,0 L2.560033e+02,-6 M3.184106e+02,0 L3.184106e+02,-6 M3.668174e+02,0 L3.668174e+02,-6 M4.063686e+02,0 L4.063686e+02,-6 M4.398087e+02,0 L4.398087e+02,-6 M4.687758e+02,0 L4.687758e+02,-6 M4.943267e+02,0 L4.943267e+02,-6 M5.171826e+02,0 L5.171826e+02,-6 M5.378584e+02,0 L5.378584e+02,-6 M6.675479e+02,0 L6.675479e+02,-6 M7.555060e+02,0 L7.555060e+02,-6 M8.179132e+02,0 L8.179132e+02,-6 M8.663200e+02,0 L8.663200e+02,-6 \"/></g><g font-family=\"sans-serif\" font-style=\"normal\" dominant-baseline=\"hanging\" stroke-linejoin=\"round\" text-anchor=\"middle\" font-weight=\"normal\" fill=\"black\" transform=\"translate(70 330 )scale(1 1 )\" stroke-width=\"2px\" stroke=\"black\" stroke-linecap=\"round\" font-size=\"12px\"><text stroke=\"none\" vector-effect=\"non-scaling-stroke\" x=\"1.768000e+01\" y=\"10\" dominant-baseline=\"hanging\">100</text><text vector-effect=\"non-scaling-stroke\" x=\"1.680453e+02\" y=\"10\" dominant-baseline=\"hanging\" stroke=\"none\">200</text><text x=\"2.560033e+02\" y=\"10\" dominant-baseline=\"hanging\" stroke=\"none\" vector-effect=\"non-scaling-stroke\">300</text><text x=\"3.184106e+02\" y=\"10\" dominant-baseline=\"hanging\" stroke=\"none\" vector-effect=\"non-scaling-stroke\">400</text><text y=\"10\" dominant-baseline=\"hanging\" stroke=\"none\" vector-effect=\"non-scaling-stroke\" x=\"3.668174e+02\">500</text><text x=\"4.063686e+02\" y=\"10\" dominant-baseline=\"hanging\" stroke=\"none\" vector-effect=\"non-scaling-stroke\">600</text><text dominant-baseline=\"hanging\" stroke=\"none\" vector-effect=\"non-scaling-stroke\" x=\"4.398087e+02\" y=\"10\">700</text><text stroke=\"none\" vector-effect=\"non-scaling-stroke\" x=\"4.687758e+02\" y=\"10\" dominant-baseline=\"hanging\">800</text><text stroke=\"none\" vector-effect=\"non-scaling-stroke\" x=\"4.943267e+02\" y=\"10\" dominant-baseline=\"hanging\">900</text><text y=\"10\" dominant-baseline=\"hanging\" stroke=\"none\" vector-effect=\"non-scaling-stroke\" x=\"5.171826e+02\">1000</text><text vector-effect=\"non-scaling-stroke\" x=\"5.378584e+02\" y=\"10\" dominant-baseline=\"hanging\" stroke=\"none\">1100</text><text stroke=\"none\" vector-effect=\"non-scaling-stroke\" x=\"6.675479e+02\" y=\"10\" dominant-baseline=\"hanging\">2000</text><text stroke=\"none\" vector-effect=\"non-scaling-stroke\" x=\"7.555060e+02\" y=\"10\" dominant-baseline=\"hanging\">3000</text><text stroke=\"none\" vector-effect=\"non-scaling-stroke\" x=\"8.179132e+02\" y=\"10\" dominant-baseline=\"hanging\">4000</text><text y=\"10\" dominant-baseline=\"hanging\" stroke=\"none\" vector-effect=\"non-scaling-stroke\" x=\"8.663200e+02\">5000</text></g><g fill=\"black\" stroke=\"black\" stroke-linecap=\"round\" dominant-baseline=\"baseline\" stroke-width=\"2px\" font-family=\"sans-serif\" font-style=\"normal\" font-weight=\"bold\" stroke-linejoin=\"round\" text-anchor=\"middle\" font-size=\"12px\" transform=\"translate(70 330 )scale(1 1 )rotate(0 0 0 )\"><text stroke=\"none\" vector-effect=\"non-scaling-stroke\" x=\"442\" y=\"-6\" dominant-baseline=\"baseline\">Steps</text></g><g font-style=\"normal\" font-weight=\"bold\" text-anchor=\"middle\" font-family=\"sans-serif\" stroke=\"black\" stroke-linecap=\"round\" transform=\"translate(70 330 )scale(1 1 )rotate(-90 0 0 )\" font-size=\"12px\" fill=\"black\" dominant-baseline=\"hanging\" stroke-linejoin=\"round\" stroke-width=\"2px\"><text y=\"6\" dominant-baseline=\"hanging\" stroke=\"none\" vector-effect=\"non-scaling-stroke\" x=\"130\">accuracy</text></g><g stroke=\"black\" font-style=\"normal\" font-weight=\"bold\" dominant-baseline=\"hanging\" stroke-width=\"2px\" text-anchor=\"middle\" fill=\"none\" font-family=\"sans-serif\" font-size=\"12px\" stroke-linejoin=\"round\" stroke-linecap=\"round\"><rect vector-effect=\"non-scaling-stroke\" x=\"70\" y=\"70\" width=\"884\" height=\"260\"/><g dominant-baseline=\"middle\" fill=\"black\" font-size=\"18px\"><text vector-effect=\"non-scaling-stroke\" x=\"512\" y=\"35\" dominant-baseline=\"middle\" stroke=\"none\">accuracy metrics</text></g><g stroke=\"hsl(90, 47%, 65%)\" stroke-linecap=\"round\" font-family=\"sans-serif\" dominant-baseline=\"hanging\" stroke-width=\"1px\" font-style=\"normal\" fill=\"hsl(90, 47%, 65%)\" font-size=\"12px\" stroke-linejoin=\"round\" text-anchor=\"start\" font-weight=\"normal\"><rect width=\"12\" height=\"12\" vector-effect=\"non-scaling-stroke\" x=\"76\" y=\"366\"/><g fill=\"black\" stroke=\"black\"><text vector-effect=\"non-scaling-stroke\" x=\"92\" y=\"366\" dominant-baseline=\"hanging\" stroke=\"none\">Eval on batched train: Mean Accuracy</text></g><g stroke=\"hsl(301, 88%, 65%)\" font-family=\"sans-serif\" dominant-baseline=\"hanging\" stroke-width=\"1px\" text-anchor=\"start\" font-weight=\"normal\" fill=\"hsl(301, 88%, 65%)\" font-style=\"normal\" stroke-linejoin=\"round\" stroke-linecap=\"round\" font-size=\"12px\"><rect width=\"12\" height=\"12\" vector-effect=\"non-scaling-stroke\" x=\"76\" y=\"384\"/><g fill=\"black\" stroke=\"black\"><text vector-effect=\"non-scaling-stroke\" x=\"92\" y=\"384\" dominant-baseline=\"hanging\" stroke=\"none\">Eval on test: Mean Accuracy</text></g><g stroke-width=\"1px\" font-size=\"12px\" font-style=\"normal\" fill=\"hsl(152, 76%, 65%)\" dominant-baseline=\"hanging\" stroke=\"hsl(152, 76%, 65%)\" text-anchor=\"start\" stroke-linejoin=\"round\" stroke-linecap=\"round\" font-family=\"sans-serif\" font-weight=\"normal\"><rect vector-effect=\"non-scaling-stroke\" x=\"76\" y=\"402\" width=\"12\" height=\"12\"/><g stroke=\"black\" fill=\"black\"><text x=\"92\" y=\"402\" dominant-baseline=\"hanging\" stroke=\"none\" vector-effect=\"non-scaling-stroke\">Train: Moving Average Accuracy</text></g></g></g></g></g></svg>\n",
       "<svg height=\"454\" viewbox=\"0 0 1024 400\" style=\"background-color:#f8f8f8\" preserveAspectRatio=\"xMidYMid meet\" xmlns=\"http://www.w3.org/2000/svg\" width=\"1024\"><defs><marker markerWidth=\"2%\" markerHeight=\"2%\" id=\"circle\" viewBox=\"0 0 10 10 \" refX=\"5\" refY=\"5\" markerUnits=\"userSpaceOnUse\"><circle fill=\"none\" stroke=\"black\" cx=\"5\" cy=\"5\" r=\"3\"/></marker><marker markerHeight=\"2%\" id=\"filled-circle\" viewBox=\"0 0 10 10 \" refX=\"5\" refY=\"5\" markerUnits=\"userSpaceOnUse\" markerWidth=\"2%\"><circle r=\"3\" fill=\"black\" stroke=\"none\" cx=\"5\" cy=\"5\"/></marker><marker markerHeight=\"2%\" id=\"square\" viewBox=\"0 0 10 10 \" refX=\"5\" refY=\"5\" markerUnits=\"userSpaceOnUse\" markerWidth=\"2%\"><rect stroke=\"black\" x=\"2\" y=\"2\" width=\"6\" height=\"6\" fill=\"none\"/></marker><marker refX=\"5\" refY=\"5\" markerUnits=\"userSpaceOnUse\" markerWidth=\"2%\" markerHeight=\"2%\" id=\"filled-square\" viewBox=\"0 0 10 10 \"><rect width=\"6\" height=\"6\" fill=\"black\" stroke=\"none\" x=\"2\" y=\"2\"/></marker></defs><g stroke-linecap=\"round\" transform=\"translate(70 330 )scale(1 -1 )\" marker-mid=\"url(#square)\" marker-end=\"url(#square)\" fill=\"none\" stroke=\"hsl(90, 47%, 65%)\" stroke-width=\"2px\" stroke-linejoin=\"round\" marker-start=\"url(#square)\"><path vector-effect=\"non-scaling-stroke\" d=\"M1.768000e+01,2.428176e+02 L1.786294e+02,1.776274e+02 L2.773355e+02,1.198069e+02 L3.506075e+02,1.177676e+02 L4.099543e+02,7.914592e+01 L4.607660e+02,6.636471e+01 L5.055983e+02,6.549614e+01 L5.461769e+02,4.716994e+01 L5.835664e+02,4.125489e+01 L6.184621e+02,3.663626e+01 L6.513380e+02,2.842715e+01 L6.825291e+02,2.355371e+01 L7.123676e+02,1.708177e+01 L7.410809e+02,1.439746e+01 L7.688274e+02,1.334313e+01 L7.957190e+02,8.268593e+00 L8.218897e+02,7.259211e+00 L8.474287e+02,5.200000e+00 L8.663200e+02,7.486808e+00 \"/></g><g stroke-width=\"2px\" stroke-linejoin=\"round\" marker-start=\"url(#square)\" transform=\"translate(70 330 )scale(1 -1 )\" marker-end=\"url(#square)\" fill=\"none\" stroke=\"hsl(301, 88%, 65%)\" stroke-linecap=\"round\" marker-mid=\"url(#square)\"><path vector-effect=\"non-scaling-stroke\" d=\"M1.768000e+01,2.396109e+02 L1.786294e+02,1.747021e+02 L2.773355e+02,1.156310e+02 L3.506075e+02,1.136468e+02 L4.099543e+02,7.793149e+01 L4.607660e+02,6.613499e+01 L5.055983e+02,6.538937e+01 L5.461769e+02,4.887613e+01 L5.835664e+02,4.469845e+01 L6.184621e+02,4.046245e+01 L6.513380e+02,3.278064e+01 L6.825291e+02,2.807036e+01 L7.123676e+02,2.128843e+01 L7.410809e+02,1.961400e+01 L7.688274e+02,1.910098e+01 L7.957190e+02,1.466351e+01 L8.218897e+02,1.533366e+01 L8.474287e+02,1.273064e+01 L8.663200e+02,1.401793e+01 \"/></g><g marker-mid=\"url(#square)\" marker-end=\"url(#square)\" fill=\"none\" stroke-width=\"2px\" stroke-linejoin=\"round\" marker-start=\"url(#square)\" stroke=\"hsl(152, 76%, 65%)\" transform=\"translate(70 330 )scale(1 -1 )\" stroke-linecap=\"round\"><path vector-effect=\"non-scaling-stroke\" d=\"M1.768000e+01,2.548000e+02 L1.786294e+02,2.350517e+02 L2.773355e+02,1.663749e+02 L3.506075e+02,1.327093e+02 L4.099543e+02,1.007248e+02 L4.607660e+02,8.237725e+01 L5.055983e+02,7.130210e+01 L5.461769e+02,5.369341e+01 L5.835664e+02,4.771528e+01 L6.184621e+02,3.699518e+01 L6.513380e+02,3.229451e+01 L6.825291e+02,2.510633e+01 L7.123676e+02,2.089717e+01 L7.410809e+02,1.906601e+01 L7.688274e+02,1.309905e+01 L7.957190e+02,1.256155e+01 L8.218897e+02,1.067270e+01 L8.474287e+02,1.026248e+01 L8.663200e+02,1.145568e+01 \"/></g><g stroke-linecap=\"round\" stroke=\"black\" stroke-width=\"2px\" stroke-linejoin=\"round\" transform=\"translate(70 330 )scale(1 -1 )\" fill=\"none\"><path vector-effect=\"non-scaling-stroke\" d=\"M1.768000e+01,0 L1.768000e+01,-6 M1.680453e+02,0 L1.680453e+02,-6 M2.560033e+02,0 L2.560033e+02,-6 M3.184106e+02,0 L3.184106e+02,-6 M3.668174e+02,0 L3.668174e+02,-6 M4.063686e+02,0 L4.063686e+02,-6 M4.398087e+02,0 L4.398087e+02,-6 M4.687758e+02,0 L4.687758e+02,-6 M4.943267e+02,0 L4.943267e+02,-6 M5.171826e+02,0 L5.171826e+02,-6 M5.378584e+02,0 L5.378584e+02,-6 M6.675479e+02,0 L6.675479e+02,-6 M7.555060e+02,0 L7.555060e+02,-6 M8.179132e+02,0 L8.179132e+02,-6 M8.663200e+02,0 L8.663200e+02,-6 \"/></g><g stroke-linejoin=\"round\" stroke-linecap=\"round\" stroke-width=\"2px\" font-family=\"sans-serif\" font-size=\"12px\" font-weight=\"normal\" fill=\"black\" stroke=\"black\" text-anchor=\"middle\" font-style=\"normal\" transform=\"translate(70 330 )scale(1 1 )\" dominant-baseline=\"hanging\"><text dominant-baseline=\"hanging\" stroke=\"none\" vector-effect=\"non-scaling-stroke\" x=\"1.768000e+01\" y=\"10\">100</text><text stroke=\"none\" vector-effect=\"non-scaling-stroke\" x=\"1.680453e+02\" y=\"10\" dominant-baseline=\"hanging\">200</text><text stroke=\"none\" vector-effect=\"non-scaling-stroke\" x=\"2.560033e+02\" y=\"10\" dominant-baseline=\"hanging\">300</text><text dominant-baseline=\"hanging\" stroke=\"none\" vector-effect=\"non-scaling-stroke\" x=\"3.184106e+02\" y=\"10\">400</text><text x=\"3.668174e+02\" y=\"10\" dominant-baseline=\"hanging\" stroke=\"none\" vector-effect=\"non-scaling-stroke\">500</text><text y=\"10\" dominant-baseline=\"hanging\" stroke=\"none\" vector-effect=\"non-scaling-stroke\" x=\"4.063686e+02\">600</text><text dominant-baseline=\"hanging\" stroke=\"none\" vector-effect=\"non-scaling-stroke\" x=\"4.398087e+02\" y=\"10\">700</text><text x=\"4.687758e+02\" y=\"10\" dominant-baseline=\"hanging\" stroke=\"none\" vector-effect=\"non-scaling-stroke\">800</text><text y=\"10\" dominant-baseline=\"hanging\" stroke=\"none\" vector-effect=\"non-scaling-stroke\" x=\"4.943267e+02\">900</text><text vector-effect=\"non-scaling-stroke\" x=\"5.171826e+02\" y=\"10\" dominant-baseline=\"hanging\" stroke=\"none\">1000</text><text x=\"5.378584e+02\" y=\"10\" dominant-baseline=\"hanging\" stroke=\"none\" vector-effect=\"non-scaling-stroke\">1100</text><text dominant-baseline=\"hanging\" stroke=\"none\" vector-effect=\"non-scaling-stroke\" x=\"6.675479e+02\" y=\"10\">2000</text><text stroke=\"none\" vector-effect=\"non-scaling-stroke\" x=\"7.555060e+02\" y=\"10\" dominant-baseline=\"hanging\">3000</text><text stroke=\"none\" vector-effect=\"non-scaling-stroke\" x=\"8.179132e+02\" y=\"10\" dominant-baseline=\"hanging\">4000</text><text stroke=\"none\" vector-effect=\"non-scaling-stroke\" x=\"8.663200e+02\" y=\"10\" dominant-baseline=\"hanging\">5000</text></g><g fill=\"black\" stroke-linecap=\"round\" stroke-linejoin=\"round\" transform=\"translate(70 330 )scale(1 1 )rotate(0 0 0 )\" font-family=\"sans-serif\" font-size=\"12px\" font-weight=\"bold\" text-anchor=\"middle\" font-style=\"normal\" dominant-baseline=\"baseline\" stroke=\"black\" stroke-width=\"2px\"><text dominant-baseline=\"baseline\" stroke=\"none\" vector-effect=\"non-scaling-stroke\" x=\"442\" y=\"-6\">Steps</text></g><g stroke-linecap=\"round\" stroke-width=\"2px\" font-size=\"12px\" fill=\"black\" text-anchor=\"middle\" dominant-baseline=\"baseline\" font-style=\"normal\" stroke-linejoin=\"round\" transform=\"translate(70 330 )scale(1 -1 )\" font-family=\"sans-serif\" font-weight=\"bold\" stroke=\"black\"><path vector-effect=\"non-scaling-stroke\" d=\"M0,3.594331e+01 L-6,3.594331e+01 M0,1.338819e+02 L-6,1.338819e+02 M0,2.098489e+02 L-6,2.098489e+02 \"/></g><g font-style=\"normal\" transform=\"translate(70 330 )scale(1 1 )\" font-family=\"sans-serif\" font-size=\"12px\" fill=\"black\" stroke=\"black\" text-anchor=\"end\" stroke-linejoin=\"round\" font-weight=\"normal\" stroke-width=\"2px\" stroke-linecap=\"round\" dominant-baseline=\"middle\"><text stroke=\"none\" vector-effect=\"non-scaling-stroke\" x=\"-10\" y=\"-3.594331e+01\" dominant-baseline=\"middle\">0.300</text><text stroke=\"none\" vector-effect=\"non-scaling-stroke\" x=\"-10\" y=\"-1.338819e+02\" dominant-baseline=\"middle\">0.400</text><text dominant-baseline=\"middle\" stroke=\"none\" vector-effect=\"non-scaling-stroke\" x=\"-10\" y=\"-2.098489e+02\">0.500</text></g><g fill=\"black\" stroke-width=\"2px\" stroke-linejoin=\"round\" text-anchor=\"middle\" stroke-linecap=\"round\" dominant-baseline=\"hanging\" font-size=\"12px\" font-weight=\"bold\" font-family=\"sans-serif\" font-style=\"normal\" stroke=\"black\" transform=\"translate(70 330 )scale(1 1 )rotate(-90 0 0 )\"><text y=\"6\" dominant-baseline=\"hanging\" stroke=\"none\" vector-effect=\"non-scaling-stroke\" x=\"130\">loss</text></g><g font-weight=\"bold\" stroke-width=\"0.5px\" font-family=\"sans-serif\" stroke-linecap=\"round\" font-style=\"normal\" fill=\"black\" stroke=\"gray\" stroke-linejoin=\"round\" transform=\"translate(70 330 )scale(1 -1 )\" font-size=\"12px\" text-anchor=\"middle\" dominant-baseline=\"hanging\"><path vector-effect=\"non-scaling-stroke\" d=\"M0,3.594331e+01 L884,3.594331e+01 M0,1.338819e+02 L884,1.338819e+02 M0,2.098489e+02 L884,2.098489e+02 \"/></g><g fill=\"none\" stroke-width=\"2px\" stroke-linejoin=\"round\" font-family=\"sans-serif\" text-anchor=\"middle\" stroke-linecap=\"round\" font-style=\"normal\" dominant-baseline=\"hanging\" font-size=\"12px\" font-weight=\"bold\" stroke=\"black\"><rect y=\"70\" width=\"884\" height=\"260\" vector-effect=\"non-scaling-stroke\" x=\"70\"/><g fill=\"black\" font-size=\"18px\" dominant-baseline=\"middle\"><text x=\"512\" y=\"35\" dominant-baseline=\"middle\" stroke=\"none\" vector-effect=\"non-scaling-stroke\">loss metrics</text></g><g font-size=\"12px\" fill=\"hsl(90, 47%, 65%)\" stroke=\"hsl(90, 47%, 65%)\" dominant-baseline=\"hanging\" font-style=\"normal\" stroke-width=\"1px\" stroke-linejoin=\"round\" font-family=\"sans-serif\" text-anchor=\"start\" stroke-linecap=\"round\" font-weight=\"normal\"><rect vector-effect=\"non-scaling-stroke\" x=\"76\" y=\"366\" width=\"12\" height=\"12\"/><g fill=\"black\" stroke=\"black\"><text dominant-baseline=\"hanging\" stroke=\"none\" vector-effect=\"non-scaling-stroke\" x=\"92\" y=\"366\">Eval on batched train: Mean Loss</text></g><g font-size=\"12px\" font-weight=\"normal\" fill=\"hsl(301, 88%, 65%)\" stroke=\"hsl(301, 88%, 65%)\" stroke-width=\"1px\" font-style=\"normal\" stroke-linejoin=\"round\" font-family=\"sans-serif\" text-anchor=\"start\" stroke-linecap=\"round\" dominant-baseline=\"hanging\"><rect x=\"76\" y=\"384\" width=\"12\" height=\"12\" vector-effect=\"non-scaling-stroke\"/><g stroke=\"black\" fill=\"black\"><text vector-effect=\"non-scaling-stroke\" x=\"92\" y=\"384\" dominant-baseline=\"hanging\" stroke=\"none\">Eval on test: Mean Loss</text></g><g fill=\"hsl(152, 76%, 65%)\" dominant-baseline=\"hanging\" stroke-linecap=\"round\" font-family=\"sans-serif\" stroke-linejoin=\"round\" font-size=\"12px\" font-weight=\"normal\" text-anchor=\"start\" font-style=\"normal\" stroke=\"hsl(152, 76%, 65%)\" stroke-width=\"1px\"><rect width=\"12\" height=\"12\" vector-effect=\"non-scaling-stroke\" x=\"76\" y=\"402\"/><g fill=\"black\" stroke=\"black\"><text y=\"402\" dominant-baseline=\"hanging\" stroke=\"none\" vector-effect=\"non-scaling-stroke\" x=\"92\">Train: Moving Average Loss</text></g></g></g></g></g></svg>"
      ]
     },
     "metadata": {},
     "output_type": "display_data"
    },
    {
     "name": "stdout",
     "output_type": "stream",
     "text": [
      "Training (5000 steps):  100% [\u001b[32m=\u001b[0m\u001b[32m=\u001b[0m\u001b[32m=\u001b[0m\u001b[32m=\u001b[0m\u001b[32m=\u001b[0m\u001b[32m=\u001b[0m\u001b[32m=\u001b[0m\u001b[32m=\u001b[0m\u001b[32m=\u001b[0m\u001b[32m=\u001b[0m\u001b[32m=\u001b[0m\u001b[32m=\u001b[0m\u001b[32m=\u001b[0m\u001b[32m=\u001b[0m\u001b[32m=\u001b[0m\u001b[32m=\u001b[0m\u001b[32m=\u001b[0m\u001b[32m=\u001b[0m\u001b[32m=\u001b[0m\u001b[32m=\u001b[0m\u001b[32m=\u001b[0m\u001b[32m=\u001b[0m\u001b[32m=\u001b[0m\u001b[32m=\u001b[0m\u001b[32m=\u001b[0m\u001b[32m=\u001b[0m\u001b[32m=\u001b[0m\u001b[32m=\u001b[0m\u001b[32m=\u001b[0m\u001b[32m=\u001b[0m\u001b[32m=\u001b[0m\u001b[32m=\u001b[0m\u001b[32m=\u001b[0m\u001b[32m=\u001b[0m\u001b[32m=\u001b[0m\u001b[32m=\u001b[0m\u001b[32m=\u001b[0m\u001b[32m=\u001b[0m\u001b[32m=\u001b[0m\u001b[32m=\u001b[0m] (486 steps/s)\u001b[0m [loss=0.325] [~loss=0.279] [~acc=87.14%]        \n",
      "\n",
      "[saving checkpoint@5000] [median train step (ms): 0]\n",
      "\t[Step 5000] median train step: 925 microseconds\n",
      "\n",
      "Results on batched train:\n",
      "\tMean Loss (#loss): 0.276\n",
      "\tMean Accuracy (#acc): 87.08%\n",
      "Results on test:\n",
      "\tMean Loss (#loss): 0.281\n",
      "\tMean Accuracy (#acc): 87.10%\n",
      "\n"
     ]
    }
   ],
   "source": [
    "%% --steps=5000 --checkpoint base_model\n",
    "trainModel()"
   ]
  },
  {
   "cell_type": "markdown",
   "id": "c38d8a41-3e9c-4107-a507-c879ef27e3e3",
   "metadata": {},
   "source": [
    "Since the model training went well, and it doesn't seem to be yet terribly overfiting, \n",
    "let's train further, another 15k steps, for 20K steps in total.\t\tmg.WithRange()\n"
   ]
  },
  {
   "cell_type": "code",
   "execution_count": 8,
   "id": "95983f61-2a98-442d-bc5d-896006289a2b",
   "metadata": {
    "tags": []
   },
   "outputs": [
    {
     "name": "stdout",
     "output_type": "stream",
     "text": [
      "Checkpointing model to \"/home/janpf/work/uci-adult/base_model\"\n",
      "Restarting training from global_step=5000\n"
     ]
    },
    {
     "data": {
      "text/html": [
       "<svg viewbox=\"0 0 1024 400\" style=\"background-color:#f8f8f8\" preserveAspectRatio=\"xMidYMid meet\" xmlns=\"http://www.w3.org/2000/svg\" width=\"1024\" height=\"454\"><defs><marker markerUnits=\"userSpaceOnUse\" markerWidth=\"2%\" markerHeight=\"2%\" id=\"circle\" viewBox=\"0 0 10 10 \" refX=\"5\" refY=\"5\"><circle fill=\"none\" stroke=\"black\" cx=\"5\" cy=\"5\" r=\"3\"/></marker><marker viewBox=\"0 0 10 10 \" refX=\"5\" refY=\"5\" markerUnits=\"userSpaceOnUse\" markerWidth=\"2%\" markerHeight=\"2%\" id=\"filled-circle\"><circle cx=\"5\" cy=\"5\" r=\"3\" fill=\"black\" stroke=\"none\"/></marker><marker markerHeight=\"2%\" id=\"square\" viewBox=\"0 0 10 10 \" refX=\"5\" refY=\"5\" markerUnits=\"userSpaceOnUse\" markerWidth=\"2%\"><rect stroke=\"black\" x=\"2\" y=\"2\" width=\"6\" height=\"6\" fill=\"none\"/></marker><marker viewBox=\"0 0 10 10 \" refX=\"5\" refY=\"5\" markerUnits=\"userSpaceOnUse\" markerWidth=\"2%\" markerHeight=\"2%\" id=\"filled-square\"><rect stroke=\"none\" x=\"2\" y=\"2\" width=\"6\" height=\"6\" fill=\"black\"/></marker></defs><g marker-mid=\"url(#square)\" transform=\"translate(70 330 )scale(1 -1 )\" fill=\"none\" stroke-linecap=\"round\" stroke=\"hsl(90, 47%, 65%)\" marker-start=\"url(#square)\" marker-end=\"url(#square)\" stroke-linejoin=\"round\" stroke-width=\"2px\"><path vector-effect=\"non-scaling-stroke\" d=\"M1.768000e+01,4.016127e+01 L1.365173e+02,4.016127e+01 L2.093971e+02,1.883680e+02 L2.634977e+02,1.915428e+02 L3.073165e+02,2.053133e+02 L3.448334e+02,2.142800e+02 L3.779355e+02,2.147647e+02 L4.078967e+02,2.277904e+02 L4.355033e+02,2.271497e+02 L4.612687e+02,2.318942e+02 L4.855427e+02,2.381616e+02 L5.085726e+02,2.413913e+02 L5.306039e+02,2.459854e+02 L5.518045e+02,2.460909e+02 L5.722912e+02,2.478297e+02 L5.921466e+02,2.489351e+02 L6.114698e+02,2.490930e+02 L6.303266e+02,2.498820e+02 L6.442750e+02,2.452999e+02 L6.487916e+02,2.508283e+02 L6.669114e+02,2.506180e+02 L6.847383e+02,2.508283e+02 L7.023018e+02,2.516164e+02 L7.196363e+02,2.516690e+02 L7.367580e+02,2.497768e+02 L7.536877e+02,2.510385e+02 L7.704470e+02,2.498295e+02 L7.870558e+02,2.510385e+02 L8.035318e+02,2.516164e+02 L8.198887e+02,2.500398e+02 L8.361372e+02,2.521941e+02 L8.522929e+02,2.511961e+02 L8.663200e+02,2.506707e+02 \"/></g><g marker-start=\"url(#square)\" marker-mid=\"url(#square)\" marker-end=\"url(#square)\" fill=\"none\" stroke-width=\"2px\" stroke-linecap=\"round\" stroke=\"hsl(301, 88%, 65%)\" stroke-linejoin=\"round\" transform=\"translate(70 330 )scale(1 -1 )\"><path vector-effect=\"non-scaling-stroke\" d=\"M1.768000e+01,4.916346e+01 L1.365173e+02,4.916346e+01 L2.093971e+02,1.914421e+02 L2.634977e+02,1.914421e+02 L3.073165e+02,2.066752e+02 L3.448334e+02,2.183214e+02 L3.779355e+02,2.181066e+02 L4.078967e+02,2.296644e+02 L4.355033e+02,2.252872e+02 L4.612687e+02,2.287046e+02 L4.855427e+02,2.375324e+02 L5.085726e+02,2.396518e+02 L5.306039e+02,2.426140e+02 L5.518045e+02,2.422968e+02 L5.722912e+02,2.416624e+02 L5.921466e+02,2.446206e+02 L6.114698e+02,2.435648e+02 L6.303266e+02,2.449372e+02 L6.442750e+02,2.455702e+02 L6.487916e+02,2.470462e+02 L6.669114e+02,2.453592e+02 L6.847383e+02,2.462030e+02 L7.023018e+02,2.457812e+02 L7.196363e+02,2.459921e+02 L7.367580e+02,2.488364e+02 L7.536877e+02,2.479942e+02 L7.704470e+02,2.486259e+02 L7.870558e+02,2.453592e+02 L8.035318e+02,2.484154e+02 L8.198887e+02,2.475729e+02 L8.361372e+02,2.499937e+02 L8.522929e+02,2.464138e+02 L8.663200e+02,2.467300e+02 \"/></g><g stroke-linecap=\"round\" stroke=\"hsl(152, 76%, 65%)\" stroke-linejoin=\"round\" marker-start=\"url(#square)\" marker-mid=\"url(#square)\" marker-end=\"url(#square)\" stroke-width=\"2px\" transform=\"translate(70 330 )scale(1 -1 )\" fill=\"none\"><path vector-effect=\"non-scaling-stroke\" d=\"M1.768000e+01,5.200000e+00 L1.365173e+02,2.333165e+01 L2.093971e+02,1.189501e+02 L2.634977e+02,1.694199e+02 L3.073165e+02,1.914669e+02 L3.448334e+02,1.989760e+02 L3.779355e+02,2.082735e+02 L4.078967e+02,2.235227e+02 L4.355033e+02,2.240641e+02 L4.612687e+02,2.338853e+02 L4.855427e+02,2.357636e+02 L5.085726e+02,2.374887e+02 L5.306039e+02,2.417442e+02 L5.518045e+02,2.413788e+02 L5.722912e+02,2.488999e+02 L5.921466e+02,2.458300e+02 L6.114698e+02,2.431606e+02 L6.303266e+02,2.466008e+02 L6.442750e+02,2.462956e+02 L6.487916e+02,2.502235e+02 L6.669114e+02,2.516180e+02 L6.847383e+02,2.504728e+02 L7.023018e+02,2.489514e+02 L7.196363e+02,2.475906e+02 L7.367580e+02,2.483303e+02 L7.536877e+02,2.477751e+02 L7.704470e+02,2.466560e+02 L7.870558e+02,2.548000e+02 L8.035318e+02,2.539993e+02 L8.198887e+02,2.501543e+02 L8.361372e+02,2.521977e+02 L8.522929e+02,2.514394e+02 L8.663200e+02,2.461571e+02 \"/></g><g stroke=\"black\" stroke-width=\"2px\" stroke-linecap=\"round\" fill=\"none\" stroke-linejoin=\"round\" transform=\"translate(70 330 )scale(1 -1 )\"><path vector-effect=\"non-scaling-stroke\" d=\"M1.768000e+01,0 L1.768000e+01,-6 M1.287025e+02,0 L1.287025e+02,-6 M1.936465e+02,0 L1.936465e+02,-6 M2.397250e+02,0 L2.397250e+02,-6 M2.754663e+02,0 L2.754663e+02,-6 M3.046690e+02,0 L3.046690e+02,-6 M3.293596e+02,0 L3.293596e+02,-6 M3.507475e+02,0 L3.507475e+02,-6 M3.696130e+02,0 L3.696130e+02,-6 M3.864888e+02,0 L3.864888e+02,-6 M4.017547e+02,0 L4.017547e+02,-6 M4.975112e+02,0 L4.975112e+02,-6 M5.624552e+02,0 L5.624552e+02,-6 M6.085337e+02,0 L6.085337e+02,-6 M6.442750e+02,0 L6.442750e+02,-6 M6.734777e+02,0 L6.734777e+02,-6 M6.981683e+02,0 L6.981683e+02,-6 M7.195562e+02,0 L7.195562e+02,-6 M7.384217e+02,0 L7.384217e+02,-6 M7.552975e+02,0 L7.552975e+02,-6 M8.663200e+02,0 L8.663200e+02,-6 \"/></g><g fill=\"black\" stroke-linecap=\"round\" font-size=\"12px\" stroke-linejoin=\"round\" transform=\"translate(70 330 )scale(1 1 )\" font-family=\"sans-serif\" font-weight=\"normal\" stroke-width=\"2px\" text-anchor=\"middle\" dominant-baseline=\"hanging\" stroke=\"black\" font-style=\"normal\"><text stroke=\"none\" vector-effect=\"non-scaling-stroke\" x=\"1.768000e+01\" y=\"10\" dominant-baseline=\"hanging\">100</text><text stroke=\"none\" vector-effect=\"non-scaling-stroke\" x=\"1.287025e+02\" y=\"10\" dominant-baseline=\"hanging\">200</text><text dominant-baseline=\"hanging\" stroke=\"none\" vector-effect=\"non-scaling-stroke\" x=\"1.936465e+02\" y=\"10\">300</text><text dominant-baseline=\"hanging\" stroke=\"none\" vector-effect=\"non-scaling-stroke\" x=\"2.397250e+02\" y=\"10\">400</text><text vector-effect=\"non-scaling-stroke\" x=\"2.754663e+02\" y=\"10\" dominant-baseline=\"hanging\" stroke=\"none\">500</text><text y=\"10\" dominant-baseline=\"hanging\" stroke=\"none\" vector-effect=\"non-scaling-stroke\" x=\"3.046690e+02\">600</text><text stroke=\"none\" vector-effect=\"non-scaling-stroke\" x=\"3.293596e+02\" y=\"10\" dominant-baseline=\"hanging\">700</text><text stroke=\"none\" vector-effect=\"non-scaling-stroke\" x=\"3.507475e+02\" y=\"10\" dominant-baseline=\"hanging\">800</text><text stroke=\"none\" vector-effect=\"non-scaling-stroke\" x=\"3.696130e+02\" y=\"10\" dominant-baseline=\"hanging\">900</text><text vector-effect=\"non-scaling-stroke\" x=\"3.864888e+02\" y=\"10\" dominant-baseline=\"hanging\" stroke=\"none\">1000</text><text stroke=\"none\" vector-effect=\"non-scaling-stroke\" x=\"4.017547e+02\" y=\"10\" dominant-baseline=\"hanging\">1100</text><text dominant-baseline=\"hanging\" stroke=\"none\" vector-effect=\"non-scaling-stroke\" x=\"4.975112e+02\" y=\"10\">2000</text><text x=\"5.624552e+02\" y=\"10\" dominant-baseline=\"hanging\" stroke=\"none\" vector-effect=\"non-scaling-stroke\">3000</text><text dominant-baseline=\"hanging\" stroke=\"none\" vector-effect=\"non-scaling-stroke\" x=\"6.085337e+02\" y=\"10\">4000</text><text stroke=\"none\" vector-effect=\"non-scaling-stroke\" x=\"6.442750e+02\" y=\"10\" dominant-baseline=\"hanging\">5000</text><text stroke=\"none\" vector-effect=\"non-scaling-stroke\" x=\"6.734777e+02\" y=\"10\" dominant-baseline=\"hanging\">6000</text><text y=\"10\" dominant-baseline=\"hanging\" stroke=\"none\" vector-effect=\"non-scaling-stroke\" x=\"6.981683e+02\">7000</text><text y=\"10\" dominant-baseline=\"hanging\" stroke=\"none\" vector-effect=\"non-scaling-stroke\" x=\"7.195562e+02\">8000</text><text y=\"10\" dominant-baseline=\"hanging\" stroke=\"none\" vector-effect=\"non-scaling-stroke\" x=\"7.384217e+02\">9000</text><text stroke=\"none\" vector-effect=\"non-scaling-stroke\" x=\"7.552975e+02\" y=\"10\" dominant-baseline=\"hanging\">10000</text><text dominant-baseline=\"hanging\" stroke=\"none\" vector-effect=\"non-scaling-stroke\" x=\"8.663200e+02\" y=\"10\">20000</text></g><g fill=\"black\" transform=\"translate(70 330 )scale(1 1 )rotate(0 0 0 )\" font-family=\"sans-serif\" stroke-width=\"2px\" stroke-linecap=\"round\" font-size=\"12px\" text-anchor=\"middle\" font-weight=\"bold\" stroke-linejoin=\"round\" font-style=\"normal\" dominant-baseline=\"baseline\" stroke=\"black\"><text stroke=\"none\" vector-effect=\"non-scaling-stroke\" x=\"442\" y=\"-6\" dominant-baseline=\"baseline\">Steps</text></g><g font-family=\"sans-serif\" text-anchor=\"middle\" dominant-baseline=\"hanging\" stroke=\"black\" font-weight=\"bold\" fill=\"black\" stroke-linejoin=\"round\" transform=\"translate(70 330 )scale(1 1 )rotate(-90 0 0 )\" stroke-linecap=\"round\" font-size=\"12px\" font-style=\"normal\" stroke-width=\"2px\"><text vector-effect=\"non-scaling-stroke\" x=\"130\" y=\"6\" dominant-baseline=\"hanging\" stroke=\"none\">accuracy</text></g><g text-anchor=\"middle\" stroke-linejoin=\"round\" font-style=\"normal\" dominant-baseline=\"hanging\" stroke=\"black\" stroke-width=\"2px\" stroke-linecap=\"round\" font-size=\"12px\" font-weight=\"bold\" fill=\"none\" font-family=\"sans-serif\"><rect vector-effect=\"non-scaling-stroke\" x=\"70\" y=\"70\" width=\"884\" height=\"260\"/><g font-size=\"18px\" dominant-baseline=\"middle\" fill=\"black\"><text y=\"35\" dominant-baseline=\"middle\" stroke=\"none\" vector-effect=\"non-scaling-stroke\" x=\"512\">accuracy metrics</text></g><g dominant-baseline=\"hanging\" stroke=\"hsl(90, 47%, 65%)\" stroke-width=\"1px\" font-weight=\"normal\" text-anchor=\"start\" stroke-linecap=\"round\" font-size=\"12px\" font-style=\"normal\" fill=\"hsl(90, 47%, 65%)\" stroke-linejoin=\"round\" font-family=\"sans-serif\"><rect vector-effect=\"non-scaling-stroke\" x=\"76\" y=\"366\" width=\"12\" height=\"12\"/><g stroke=\"black\" fill=\"black\"><text x=\"92\" y=\"366\" dominant-baseline=\"hanging\" stroke=\"none\" vector-effect=\"non-scaling-stroke\">Eval on batched train: Mean Accuracy</text></g><g stroke=\"hsl(301, 88%, 65%)\" stroke-linecap=\"round\" font-size=\"12px\" text-anchor=\"start\" fill=\"hsl(301, 88%, 65%)\" stroke-linejoin=\"round\" font-weight=\"normal\" stroke-width=\"1px\" dominant-baseline=\"hanging\" font-family=\"sans-serif\" font-style=\"normal\"><rect vector-effect=\"non-scaling-stroke\" x=\"76\" y=\"384\" width=\"12\" height=\"12\"/><g fill=\"black\" stroke=\"black\"><text stroke=\"none\" vector-effect=\"non-scaling-stroke\" x=\"92\" y=\"384\" dominant-baseline=\"hanging\">Eval on test: Mean Accuracy</text></g><g stroke-linecap=\"round\" font-family=\"sans-serif\" font-weight=\"normal\" stroke-linejoin=\"round\" fill=\"hsl(152, 76%, 65%)\" font-size=\"12px\" text-anchor=\"start\" dominant-baseline=\"hanging\" stroke=\"hsl(152, 76%, 65%)\" stroke-width=\"1px\" font-style=\"normal\"><rect vector-effect=\"non-scaling-stroke\" x=\"76\" y=\"402\" width=\"12\" height=\"12\"/><g stroke=\"black\" fill=\"black\"><text y=\"402\" dominant-baseline=\"hanging\" stroke=\"none\" vector-effect=\"non-scaling-stroke\" x=\"92\">Train: Moving Average Accuracy</text></g></g></g></g></g></svg>\n",
       "<svg preserveAspectRatio=\"xMidYMid meet\" xmlns=\"http://www.w3.org/2000/svg\" width=\"1024\" height=\"454\" viewbox=\"0 0 1024 400\" style=\"background-color:#f8f8f8\"><defs><marker markerWidth=\"2%\" markerHeight=\"2%\" id=\"circle\" viewBox=\"0 0 10 10 \" refX=\"5\" refY=\"5\" markerUnits=\"userSpaceOnUse\"><circle r=\"3\" fill=\"none\" stroke=\"black\" cx=\"5\" cy=\"5\"/></marker><marker refY=\"5\" markerUnits=\"userSpaceOnUse\" markerWidth=\"2%\" markerHeight=\"2%\" id=\"filled-circle\" viewBox=\"0 0 10 10 \" refX=\"5\"><circle stroke=\"none\" cx=\"5\" cy=\"5\" r=\"3\" fill=\"black\"/></marker><marker markerUnits=\"userSpaceOnUse\" markerWidth=\"2%\" markerHeight=\"2%\" id=\"square\" viewBox=\"0 0 10 10 \" refX=\"5\" refY=\"5\"><rect fill=\"none\" stroke=\"black\" x=\"2\" y=\"2\" width=\"6\" height=\"6\"/></marker><marker refY=\"5\" markerUnits=\"userSpaceOnUse\" markerWidth=\"2%\" markerHeight=\"2%\" id=\"filled-square\" viewBox=\"0 0 10 10 \" refX=\"5\"><rect width=\"6\" height=\"6\" fill=\"black\" stroke=\"none\" x=\"2\" y=\"2\"/></marker></defs><g stroke-linejoin=\"round\" marker-start=\"url(#square)\" fill=\"none\" marker-mid=\"url(#square)\" stroke-linecap=\"round\" marker-end=\"url(#square)\" stroke=\"hsl(90, 47%, 65%)\" transform=\"translate(70 330 )scale(1 -1 )\" stroke-width=\"2px\"><path d=\"M1.768000e+01,2.432925e+02 L1.365173e+02,1.806863e+02 L2.093971e+02,1.251577e+02 L2.634977e+02,1.231993e+02 L3.073165e+02,8.610843e+01 L3.448334e+02,7.383383e+01 L3.779355e+02,7.299970e+01 L4.078967e+02,5.539990e+01 L4.355033e+02,4.971931e+01 L4.612687e+02,4.528375e+01 L4.855427e+02,3.740003e+01 L5.085726e+02,3.271976e+01 L5.306039e+02,2.650435e+01 L5.518045e+02,2.392645e+01 L5.722912e+02,2.291390e+01 L5.921466e+02,1.804051e+01 L6.114698e+02,1.707114e+01 L6.303266e+02,1.509355e+01 L6.442750e+02,1.728971e+01 L6.487916e+02,1.418854e+01 L6.669114e+02,1.348268e+01 L6.847383e+02,1.318307e+01 L7.023018e+02,1.321296e+01 L7.196363e+02,1.198135e+01 L7.367580e+02,1.183798e+01 L7.536877e+02,1.071022e+01 L7.704470e+02,1.093853e+01 L7.870558e+02,9.818453e+00 L8.035318e+02,8.822291e+00 L8.198887e+02,9.433439e+00 L8.361372e+02,7.915831e+00 L8.522929e+02,9.957909e+00 L8.663200e+02,8.174091e+00 \" vector-effect=\"non-scaling-stroke\"/></g><g stroke-width=\"2px\" stroke-linecap=\"round\" marker-start=\"url(#square)\" stroke=\"hsl(301, 88%, 65%)\" marker-mid=\"url(#square)\" transform=\"translate(70 330 )scale(1 -1 )\" fill=\"none\" marker-end=\"url(#square)\" stroke-linejoin=\"round\"><path vector-effect=\"non-scaling-stroke\" d=\"M1.768000e+01,2.402129e+02 L1.365173e+02,1.778770e+02 L2.093971e+02,1.211474e+02 L2.634977e+02,1.192417e+02 L3.073165e+02,8.494214e+01 L3.448334e+02,7.361322e+01 L3.779355e+02,7.289715e+01 L4.078967e+02,5.703846e+01 L4.355033e+02,5.302637e+01 L4.612687e+02,4.895828e+01 L4.855427e+02,4.158096e+01 L5.085726e+02,3.705739e+01 L5.306039e+02,3.054427e+01 L5.518045e+02,2.893621e+01 L5.722912e+02,2.844352e+01 L5.921466e+02,2.418194e+01 L6.114698e+02,2.482553e+01 L6.303266e+02,2.232569e+01 L6.442750e+02,2.356196e+01 L6.487916e+02,2.137102e+01 L6.669114e+02,2.136585e+01 L6.847383e+02,2.103216e+01 L7.023018e+02,2.089511e+01 L7.196363e+02,2.003168e+01 L7.367580e+02,2.030941e+01 L7.536877e+02,1.920117e+01 L7.704470e+02,2.042418e+01 L7.870558e+02,2.043285e+01 L8.035318e+02,1.970667e+01 L8.198887e+02,2.031301e+01 L8.361372e+02,1.924645e+01 L8.522929e+02,2.044523e+01 L8.663200e+02,1.990969e+01 \"/></g><g marker-end=\"url(#square)\" stroke-linecap=\"round\" stroke-width=\"2px\" marker-mid=\"url(#square)\" transform=\"translate(70 330 )scale(1 -1 )\" fill=\"none\" stroke=\"hsl(152, 76%, 65%)\" stroke-linejoin=\"round\" marker-start=\"url(#square)\"><path vector-effect=\"non-scaling-stroke\" d=\"M1.768000e+01,2.548000e+02 L1.365173e+02,2.358345e+02 L2.093971e+02,1.698799e+02 L2.634977e+02,1.375487e+02 L3.073165e+02,1.068319e+02 L3.448334e+02,8.921167e+01 L3.779355e+02,7.857552e+01 L4.078967e+02,6.166480e+01 L4.355033e+02,5.592363e+01 L4.612687e+02,4.562844e+01 L4.855427e+02,4.111410e+01 L5.085726e+02,3.421084e+01 L5.306039e+02,3.016852e+01 L5.518045e+02,2.840994e+01 L5.722912e+02,2.267950e+01 L5.921466e+02,2.216330e+01 L6.114698e+02,2.034933e+01 L6.303266e+02,1.995537e+01 L6.442750e+02,2.110127e+01 L6.487916e+02,1.779853e+01 L6.669114e+02,1.213514e+01 L6.847383e+02,1.623562e+01 L7.023018e+02,1.503891e+01 L7.196363e+02,1.480260e+01 L7.367580e+02,1.091077e+01 L7.536877e+02,1.623753e+01 L7.704470e+02,1.469071e+01 L7.870558e+02,5.867611e+00 L8.035318e+02,5.200000e+00 L8.198887e+02,9.311778e+00 L8.361372e+02,8.773077e+00 L8.522929e+02,7.316400e+00 L8.663200e+02,1.134669e+01 \"/></g><g stroke-linecap=\"round\" stroke-linejoin=\"round\" fill=\"none\" stroke=\"black\" transform=\"translate(70 330 )scale(1 -1 )\" stroke-width=\"2px\"><path vector-effect=\"non-scaling-stroke\" d=\"M1.768000e+01,0 L1.768000e+01,-6 M1.287025e+02,0 L1.287025e+02,-6 M1.936465e+02,0 L1.936465e+02,-6 M2.397250e+02,0 L2.397250e+02,-6 M2.754663e+02,0 L2.754663e+02,-6 M3.046690e+02,0 L3.046690e+02,-6 M3.293596e+02,0 L3.293596e+02,-6 M3.507475e+02,0 L3.507475e+02,-6 M3.696130e+02,0 L3.696130e+02,-6 M3.864888e+02,0 L3.864888e+02,-6 M4.017547e+02,0 L4.017547e+02,-6 M4.975112e+02,0 L4.975112e+02,-6 M5.624552e+02,0 L5.624552e+02,-6 M6.085337e+02,0 L6.085337e+02,-6 M6.442750e+02,0 L6.442750e+02,-6 M6.734777e+02,0 L6.734777e+02,-6 M6.981683e+02,0 L6.981683e+02,-6 M7.195562e+02,0 L7.195562e+02,-6 M7.384217e+02,0 L7.384217e+02,-6 M7.552975e+02,0 L7.552975e+02,-6 M8.663200e+02,0 L8.663200e+02,-6 \"/></g><g stroke-width=\"2px\" stroke-linejoin=\"round\" font-family=\"sans-serif\" font-style=\"normal\" fill=\"black\" transform=\"translate(70 330 )scale(1 1 )\" font-weight=\"normal\" stroke-linecap=\"round\" font-size=\"12px\" stroke=\"black\" text-anchor=\"middle\" dominant-baseline=\"hanging\"><text stroke=\"none\" vector-effect=\"non-scaling-stroke\" x=\"1.768000e+01\" y=\"10\" dominant-baseline=\"hanging\">100</text><text y=\"10\" dominant-baseline=\"hanging\" stroke=\"none\" vector-effect=\"non-scaling-stroke\" x=\"1.287025e+02\">200</text><text x=\"1.936465e+02\" y=\"10\" dominant-baseline=\"hanging\" stroke=\"none\" vector-effect=\"non-scaling-stroke\">300</text><text stroke=\"none\" vector-effect=\"non-scaling-stroke\" x=\"2.397250e+02\" y=\"10\" dominant-baseline=\"hanging\">400</text><text x=\"2.754663e+02\" y=\"10\" dominant-baseline=\"hanging\" stroke=\"none\" vector-effect=\"non-scaling-stroke\">500</text><text vector-effect=\"non-scaling-stroke\" x=\"3.046690e+02\" y=\"10\" dominant-baseline=\"hanging\" stroke=\"none\">600</text><text x=\"3.293596e+02\" y=\"10\" dominant-baseline=\"hanging\" stroke=\"none\" vector-effect=\"non-scaling-stroke\">700</text><text dominant-baseline=\"hanging\" stroke=\"none\" vector-effect=\"non-scaling-stroke\" x=\"3.507475e+02\" y=\"10\">800</text><text x=\"3.696130e+02\" y=\"10\" dominant-baseline=\"hanging\" stroke=\"none\" vector-effect=\"non-scaling-stroke\">900</text><text x=\"3.864888e+02\" y=\"10\" dominant-baseline=\"hanging\" stroke=\"none\" vector-effect=\"non-scaling-stroke\">1000</text><text vector-effect=\"non-scaling-stroke\" x=\"4.017547e+02\" y=\"10\" dominant-baseline=\"hanging\" stroke=\"none\">1100</text><text stroke=\"none\" vector-effect=\"non-scaling-stroke\" x=\"4.975112e+02\" y=\"10\" dominant-baseline=\"hanging\">2000</text><text vector-effect=\"non-scaling-stroke\" x=\"5.624552e+02\" y=\"10\" dominant-baseline=\"hanging\" stroke=\"none\">3000</text><text x=\"6.085337e+02\" y=\"10\" dominant-baseline=\"hanging\" stroke=\"none\" vector-effect=\"non-scaling-stroke\">4000</text><text stroke=\"none\" vector-effect=\"non-scaling-stroke\" x=\"6.442750e+02\" y=\"10\" dominant-baseline=\"hanging\">5000</text><text dominant-baseline=\"hanging\" stroke=\"none\" vector-effect=\"non-scaling-stroke\" x=\"6.734777e+02\" y=\"10\">6000</text><text x=\"6.981683e+02\" y=\"10\" dominant-baseline=\"hanging\" stroke=\"none\" vector-effect=\"non-scaling-stroke\">7000</text><text stroke=\"none\" vector-effect=\"non-scaling-stroke\" x=\"7.195562e+02\" y=\"10\" dominant-baseline=\"hanging\">8000</text><text y=\"10\" dominant-baseline=\"hanging\" stroke=\"none\" vector-effect=\"non-scaling-stroke\" x=\"7.384217e+02\">9000</text><text stroke=\"none\" vector-effect=\"non-scaling-stroke\" x=\"7.552975e+02\" y=\"10\" dominant-baseline=\"hanging\">10000</text><text stroke=\"none\" vector-effect=\"non-scaling-stroke\" x=\"8.663200e+02\" y=\"10\" dominant-baseline=\"hanging\">20000</text></g><g font-style=\"normal\" stroke-linecap=\"round\" text-anchor=\"middle\" stroke=\"black\" dominant-baseline=\"baseline\" fill=\"black\" transform=\"translate(70 330 )scale(1 1 )rotate(0 0 0 )\" font-weight=\"bold\" font-size=\"12px\" stroke-width=\"2px\" stroke-linejoin=\"round\" font-family=\"sans-serif\"><text x=\"442\" y=\"-6\" dominant-baseline=\"baseline\" stroke=\"none\" vector-effect=\"non-scaling-stroke\">Steps</text></g><g stroke=\"black\" stroke-linecap=\"round\" stroke-linejoin=\"round\" font-family=\"sans-serif\" font-weight=\"bold\" font-size=\"12px\" font-style=\"normal\" stroke-width=\"2px\" text-anchor=\"middle\" dominant-baseline=\"baseline\" fill=\"black\" transform=\"translate(70 330 )scale(1 -1 )\"><path vector-effect=\"non-scaling-stroke\" d=\"M0,4.461827e+01 L-6,4.461827e+01 M0,1.386748e+02 L-6,1.386748e+02 M0,2.116307e+02 L-6,2.116307e+02 \"/></g><g font-style=\"normal\" stroke-width=\"2px\" stroke-linecap=\"round\" font-family=\"sans-serif\" fill=\"black\" transform=\"translate(70 330 )scale(1 1 )\" font-weight=\"normal\" font-size=\"12px\" stroke-linejoin=\"round\" text-anchor=\"end\" dominant-baseline=\"middle\" stroke=\"black\"><text stroke=\"none\" vector-effect=\"non-scaling-stroke\" x=\"-10\" y=\"-4.461827e+01\" dominant-baseline=\"middle\">0.300</text><text stroke=\"none\" vector-effect=\"non-scaling-stroke\" x=\"-10\" y=\"-1.386748e+02\" dominant-baseline=\"middle\">0.400</text><text stroke=\"none\" vector-effect=\"non-scaling-stroke\" x=\"-10\" y=\"-2.116307e+02\" dominant-baseline=\"middle\">0.500</text></g><g font-size=\"12px\" font-style=\"normal\" stroke-width=\"2px\" stroke-linejoin=\"round\" stroke=\"black\" font-family=\"sans-serif\" stroke-linecap=\"round\" font-weight=\"bold\" text-anchor=\"middle\" dominant-baseline=\"hanging\" fill=\"black\" transform=\"translate(70 330 )scale(1 1 )rotate(-90 0 0 )\"><text stroke=\"none\" vector-effect=\"non-scaling-stroke\" x=\"130\" y=\"6\" dominant-baseline=\"hanging\">loss</text></g><g transform=\"translate(70 330 )scale(1 -1 )\" font-weight=\"bold\" fill=\"black\" stroke=\"gray\" font-family=\"sans-serif\" font-size=\"12px\" stroke-width=\"0.5px\" stroke-linecap=\"round\" stroke-linejoin=\"round\" font-style=\"normal\" text-anchor=\"middle\" dominant-baseline=\"hanging\"><path vector-effect=\"non-scaling-stroke\" d=\"M0,4.461827e+01 L884,4.461827e+01 M0,1.386748e+02 L884,1.386748e+02 M0,2.116307e+02 L884,2.116307e+02 \"/></g><g stroke-linecap=\"round\" stroke-linejoin=\"round\" font-style=\"normal\" fill=\"none\" font-weight=\"bold\" dominant-baseline=\"hanging\" stroke-width=\"2px\" font-size=\"12px\" stroke=\"black\" text-anchor=\"middle\" font-family=\"sans-serif\"><rect y=\"70\" width=\"884\" height=\"260\" vector-effect=\"non-scaling-stroke\" x=\"70\"/><g dominant-baseline=\"middle\" fill=\"black\" font-size=\"18px\"><text x=\"512\" y=\"35\" dominant-baseline=\"middle\" stroke=\"none\" vector-effect=\"non-scaling-stroke\">loss metrics</text></g><g stroke=\"hsl(90, 47%, 65%)\" stroke-width=\"1px\" stroke-linecap=\"round\" font-family=\"sans-serif\" fill=\"hsl(90, 47%, 65%)\" dominant-baseline=\"hanging\" font-weight=\"normal\" font-size=\"12px\" font-style=\"normal\" stroke-linejoin=\"round\" text-anchor=\"start\"><rect height=\"12\" vector-effect=\"non-scaling-stroke\" x=\"76\" y=\"366\" width=\"12\"/><g fill=\"black\" stroke=\"black\"><text x=\"92\" y=\"366\" dominant-baseline=\"hanging\" stroke=\"none\" vector-effect=\"non-scaling-stroke\">Eval on batched train: Mean Loss</text></g><g fill=\"hsl(301, 88%, 65%)\" stroke-linejoin=\"round\" font-family=\"sans-serif\" font-size=\"12px\" stroke-width=\"1px\" font-weight=\"normal\" text-anchor=\"start\" font-style=\"normal\" stroke-linecap=\"round\" dominant-baseline=\"hanging\" stroke=\"hsl(301, 88%, 65%)\"><rect width=\"12\" height=\"12\" vector-effect=\"non-scaling-stroke\" x=\"76\" y=\"384\"/><g fill=\"black\" stroke=\"black\"><text vector-effect=\"non-scaling-stroke\" x=\"92\" y=\"384\" dominant-baseline=\"hanging\" stroke=\"none\">Eval on test: Mean Loss</text></g><g stroke=\"hsl(152, 76%, 65%)\" stroke-linecap=\"round\" stroke-linejoin=\"round\" font-family=\"sans-serif\" font-size=\"12px\" font-style=\"normal\" stroke-width=\"1px\" font-weight=\"normal\" text-anchor=\"start\" dominant-baseline=\"hanging\" fill=\"hsl(152, 76%, 65%)\"><rect height=\"12\" vector-effect=\"non-scaling-stroke\" x=\"76\" y=\"402\" width=\"12\"/><g fill=\"black\" stroke=\"black\"><text x=\"92\" y=\"402\" dominant-baseline=\"hanging\" stroke=\"none\" vector-effect=\"non-scaling-stroke\">Train: Moving Average Loss</text></g></g></g></g></g></svg>"
      ]
     },
     "metadata": {},
     "output_type": "display_data"
    },
    {
     "name": "stdout",
     "output_type": "stream",
     "text": [
      "Training (15000 steps):  100% [\u001b[32m=\u001b[0m\u001b[32m=\u001b[0m\u001b[32m=\u001b[0m\u001b[32m=\u001b[0m\u001b[32m=\u001b[0m\u001b[32m=\u001b[0m\u001b[32m=\u001b[0m\u001b[32m=\u001b[0m\u001b[32m=\u001b[0m\u001b[32m=\u001b[0m\u001b[32m=\u001b[0m\u001b[32m=\u001b[0m\u001b[32m=\u001b[0m\u001b[32m=\u001b[0m\u001b[32m=\u001b[0m\u001b[32m=\u001b[0m\u001b[32m=\u001b[0m\u001b[32m=\u001b[0m\u001b[32m=\u001b[0m\u001b[32m=\u001b[0m\u001b[32m=\u001b[0m\u001b[32m=\u001b[0m\u001b[32m=\u001b[0m\u001b[32m=\u001b[0m\u001b[32m=\u001b[0m\u001b[32m=\u001b[0m\u001b[32m=\u001b[0m\u001b[32m=\u001b[0m\u001b[32m=\u001b[0m\u001b[32m=\u001b[0m\u001b[32m=\u001b[0m\u001b[32m=\u001b[0m\u001b[32m=\u001b[0m\u001b[32m=\u001b[0m\u001b[32m=\u001b[0m\u001b[32m=\u001b[0m\u001b[32m=\u001b[0m\u001b[32m=\u001b[0m\u001b[32m=\u001b[0m\u001b[32m=\u001b[0m] (769 steps/s)\u001b[0m [loss=0.255] [~loss=0.271] [~acc=87.13%]        \n",
      "\n",
      "[saving checkpoint@20000] [median train step (ms): 0]\n",
      "\t[Step 20000] median train step: 917 microseconds\n",
      "\n",
      "Results on batched train:\n",
      "\tMean Loss (#loss): 0.268\n",
      "\tMean Accuracy (#acc): 87.39%\n",
      "Results on test:\n",
      "\tMean Loss (#loss): 0.278\n",
      "\tMean Accuracy (#acc): 87.16%\n",
      "\n"
     ]
    }
   ],
   "source": [
    "%% --steps=15000 --checkpoint base_model\n",
    "trainModel()"
   ]
  }
 ],
 "metadata": {
  "kernelspec": {
   "display_name": "Go (gonb)",
   "language": "go",
   "name": "gonb"
  },
  "language_info": {
   "codemirror_mode": "",
   "file_extension": ".go",
   "mimetype": "",
   "name": "go",
   "nbconvert_exporter": "",
   "pygments_lexer": "",
   "version": "go1.20.5"
  }
 },
 "nbformat": 4,
 "nbformat_minor": 5
}
