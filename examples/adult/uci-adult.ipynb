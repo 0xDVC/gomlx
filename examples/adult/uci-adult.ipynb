{
 "cells": [
  {
   "cell_type": "markdown",
   "id": "546fa208-c19c-405b-81b1-cf99fcb4a830",
   "metadata": {
    "tags": []
   },
   "source": [
    "# UCI Adult Dataset or Census Income\n",
    "\n",
    "This is a very popular ML task, with tabular data. The objective is to predict whether income exceeds $50K/yr based on census data. \n",
    "Also known as \"Census Income\" dataset.\n",
    "\n",
    "The data is old and biased on different ways ... but it can be used opaquely for ML experimentation.\n",
    "\n"
   ]
  },
  {
   "cell_type": "markdown",
   "id": "2ab071e3-227f-4c77-b864-2b7e5a5ccbdf",
   "metadata": {},
   "source": [
    "## Environment Set Up\n",
    "\n",
    "Let's set up `go.mod` to use the local copy of GoMLX, so it can be developed jointly the dataset code with the model. That's often how data pre-processing and model code is developed together with experimentation.\n",
    "\n",
    "If you are not changing code, feel free to simply skip this cell. Or if you used a different directory for you projects, change it below.\n",
    "\n",
    "Notice the directory `${HOME}/Projects/gomlx` is where the GoMLX code is copied by default in [its Docker](https://hub.docker.com/repository/docker/janpfeifer/gomlx_jupyterlab/general)."
   ]
  },
  {
   "cell_type": "code",
   "execution_count": 1,
   "id": "9ba46cb6-059d-4387-876c-665f778f2447",
   "metadata": {
    "tags": []
   },
   "outputs": [],
   "source": [
    "!*go mod edit -replace github.com/gomlx/gomlx=\"${HOME}/Projects/gomlx\""
   ]
  },
  {
   "cell_type": "markdown",
   "id": "78cf991f-4fa5-4bae-8e49-ca67fb8dbd5b",
   "metadata": {},
   "source": [
    "## Data Preparation\n",
    "\n",
    "GoMLX provides [a simple `adult` library](https://pkg.go.dev/github.com/gomlx/gomlx/examples/adult) to facilitate downdoaling and preprocessing the data. Data is available in [UCI Machine Learning Repository](https://archive.ics.uci.edu/ml/datasets/Adult).\n",
    "\n",
    "After downloading the data and validating the checksum (both training and testing), it generates the quantiles for the continuous features, and the vocabularies for the categorical features. It saves all this info for faster restart later in a binary file. So this won't be necessary a second time.\n",
    "\n",
    "The quantiles are used to calibrate the values, using a piece-wise-lienar calibration, very good for these things. See [`layers.PieceWiseLinearCalibration` documentation](https://pkg.go.dev/github.com/gomlx/gomlx@v0.1.0/ml/layers#PieceWiseLinearCalibration).\n",
    "\n",
    "We create a flag `--data` to define the directory where to save the intermediary files: downloaded and preprocessed datasets.\n",
    "In this examle we set it to `~/work/uci-adult`. Verbosity can be contolled with the `--verbosity` flag. \n",
    "\n",
    "We set default in Go for these flags, but they can easily be reset for a new run by providing them after the `%%` Jupyter kernel meta-command -- in indicates that the subsequent lines should be put in to a `func main`.\n"
   ]
  },
  {
   "cell_type": "code",
   "execution_count": 2,
   "id": "9418be86-70bc-41ad-9e0a-3a5e6bf52b51",
   "metadata": {
    "tags": []
   },
   "outputs": [
    {
     "name": "stdout",
     "output_type": "stream",
     "text": [
      "\n",
      "Sample Categorical: (24.08% positive ratio, 23.86% weighted positive ratio)\n",
      "\tRow 0:\t[7 10 5 1 2 5 2 39]\n",
      "\tRow 1:\t[6 10 3 4 1 5 2 39]\n",
      "\tRow 2:\t[4 12 1 6 2 5 2 39]\n",
      "\t...\n",
      "\tRow 32558:\t[4 12 7 1 5 5 1 39]\n",
      "\tRow 32559:\t[4 12 5 1 4 5 2 39]\n",
      "\tRow 32560:\t[5 12 3 4 6 5 1 39]\n",
      "\n",
      "Sample Continuous:\n",
      "\tRow 0:\t[39 13 2174 0 40]\n",
      "\tRow 1:\t[50 13 0 0 13]\n",
      "\tRow 2:\t[38 9 0 0 40]\n",
      "\t...\n",
      "\tRow 32558:\t[58 9 0 0 40]\n",
      "\tRow 32559:\t[22 9 0 0 20]\n",
      "\tRow 32560:\t[52 9 15024 0 40]\n"
     ]
    }
   ],
   "source": [
    "import (\n",
    "    \"flag\"\n",
    "    \n",
    "    \"github.com/gomlx/gomlx/examples/adult\"\n",
    ")\n",
    "\n",
    "var (\n",
    "    flagDataDir       = flag.String(\"data\", \"~/work/uci-adult\", \"Directory to save and load downloaded and generated dataset files.\")\n",
    "    flagVerbosity     = flag.Int(\"verbosity\", 0, \"Level of verbosity, the higher the more verbose.\")\n",
    "    flagForceDownload = flag.Bool(\"force_download\", false, \"Force re-download of Adult dataset files.\")\n",
    "    flagNumQuantiles  = flag.Int(\"quantiles\", 100, \"Max number of quantiles to use for numeric features, used during piece-wise linear calibration. It will only use unique values, so if there are fewer variability, fewer quantiles are used.\")\n",
    ")\n",
    "\n",
    "%% --verbosity=2\n",
    "adult.LoadAndPreprocessData(*flagDataDir, *flagNumQuantiles, *flagForceDownload, *flagVerbosity)"
   ]
  },
  {
   "cell_type": "code",
   "execution_count": 3,
   "id": "fdab7255-2224-496a-9ec7-75927150f9d7",
   "metadata": {
    "tags": []
   },
   "outputs": [
    {
     "name": "stdout",
     "output_type": "stream",
     "text": [
      "total 7.0M\n",
      "-rw-r--r-- 1 janpf janpf 3.8M Mar 21 09:14 adult.data\n",
      "-rw-r--r-- 1 janpf janpf 1.3M Mar 21 09:14 adult_data-100_quantiles.bin\n",
      "-rw-r--r-- 1 janpf janpf 2.0M Mar 21 09:14 adult.test\n"
     ]
    }
   ],
   "source": [
    "!ls -lh ~/work/uci-adult"
   ]
  },
  {
   "cell_type": "markdown",
   "id": "028b783b-56f0-457c-b28e-7bb0dd7e94da",
   "metadata": {},
   "source": [
    "### Creating Datasets\n",
    "\n",
    "First we create the GoMLX's `Manager`: it's the object that manages the underlying XLA\n",
    "setup, connection and execution. It's needed to create tensors.\n",
    "\n",
    "With that we create the samplers of data that we will use to train and evaluate. They implement \n",
    "GoMLX's `train.Dataset` interface, which is what is used by our training loop to draw batches to\n",
    "train, or our eval loop to draw batches to evaluate.\n",
    "\n",
    "The inputs are 3 tensors: *categorical values*, *continuous values* and *weights*.\n",
    "\n",
    "In the cell below we define the `Manager` flags, `BuildSamplers` and printout some samples."
   ]
  },
  {
   "cell_type": "code",
   "execution_count": 4,
   "id": "f13f771b-7109-49d2-8db5-5f3d5a91d324",
   "metadata": {
    "tags": []
   },
   "outputs": [
    {
     "name": "stdout",
     "output_type": "stream",
     "text": [
      "Inputs of batch (size 128):\n",
      "\tcategorical:\n",
      "\t\tFeatures=[workclass education marital-status occupation relationship race sex native-country]\n",
      "\t\tValues: (Int64)[128 8]: (... too large, 1024 values ..., first 16 values: [7 1 3 14 1 5 2 39 4 16 5 13 2 5 1 39])\n",
      "\tcontinuous:\n",
      "\t\tFeatures=[age education-num capital-gain capital-loss hours-per-week]\n",
      "\t\tValues: (Float32)[128 5]: (... too large, 640 values ..., first 10 values: [53 6 0 0 40 27 10 0 0 30])\n",
      "\tweights: (Float32)[128 1]: (... too large, 128 values ..., first 5 values: [153486 188189 287927 407684 137088])\n",
      "\n",
      "Labels of batch:\n",
      "\t(Float32)[128 1]: (... too large, 128 values ..., first 10 values: [1 0 1 0 0 0 0 0 0 1])\n",
      "\n",
      "Labels distributions:\n",
      "\tTrain:\t24.08% positive\n",
      "\tTest:\t23.62% positive\n"
     ]
    }
   ],
   "source": [
    "import (\n",
    "    \"flag\"\n",
    "    \"fmt\"\n",
    "    \"io\"\n",
    "\n",
    "    . \"github.com/gomlx/gomlx/graph\"\n",
    "    \"github.com/gomlx/gomlx/examples/adult\"\n",
    "    \"github.com/gomlx/gomlx/ml/train\"\n",
    "    \"github.com/gomlx/gomlx/types/tensor\"\n",
    ")\n",
    "\n",
    "var (\n",
    "    flagBatchSize      = flag.Int(\"batch\", 128, \"BatchSampler size for training\")\n",
    ")\n",
    "\n",
    "// Global manager created an initialization, used everywhere.\n",
    "var manager = NewManager()\n",
    "\n",
    "// BuildDatasets returns 3 `train.Dataset`:\n",
    "// * trainingSampler is an endless random sampler used for training.\n",
    "// * trainingEvalSampler samples through exactly one epoch of the train dataset.\n",
    "// * testEvalSampler samples through exactly one epoch of the test dataset.\n",
    "func BuildDatasets(manager *Manager) (trainDS, trainEvalDS, testEvalDS train.Dataset) {\n",
    "    baseDS := adult.NewDataset(manager, adult.Data.Train, \"batched train\")\n",
    "    trainEvalDS = baseDS.Copy().BatchSize(*flagBatchSize, false)\n",
    "    testEvalDS = adult.NewDataset(manager, adult.Data.Test, \"test\").\n",
    "        BatchSize(*flagBatchSize, false)\n",
    "    // For training, we shuffle and loop indefinitely.\n",
    "    trainDS = baseDS.BatchSize(*flagBatchSize, true).Shuffle().Infinite(true)\n",
    "    return\n",
    "}\n",
    "\n",
    "// PositiveRatio finds out the the ratio of positive labels in the\n",
    "// training and testing data.\n",
    "//\n",
    "// We could do this easily with GoMLX computation model (just `ReduceAllSum`), but\n",
    "// this examples shows it's also ok to mix Go computations.\n",
    "func PositiveRatio(ds train.Dataset) float32 {\n",
    "    ds.Reset()  // Start from beginning.\n",
    "    var sum float32\n",
    "    var count float32\n",
    "    for {\n",
    "        _, _, labels, err := ds.Yield()\n",
    "        if err == io.EOF {\n",
    "            break;\n",
    "        }\n",
    "        if err != nil { panic(err) }\n",
    "        data := labels[0].Local().Flat().([]float32)\n",
    "        for _, value := range data {\n",
    "            sum += value\n",
    "        }\n",
    "        count += float32(len(data))\n",
    "    }\n",
    "    return sum/count\n",
    "}\n",
    "\n",
    "%%\n",
    "adult.LoadAndPreprocessData(*flagDataDir, *flagNumQuantiles, *flagForceDownload, *flagVerbosity)    \n",
    "trainingDS, trainingEvalDS, testEvalDS := BuildDatasets(manager)\n",
    "\n",
    "// Take one batch.\n",
    "_, inputs, labels, err := trainingDS.Yield()\n",
    "if err != nil { panic(err) }\n",
    "fmt.Printf(\"Inputs of batch (size %d):\\n\", *flagBatchSize)\n",
    "fmt.Printf(\"\\tcategorical:\\n\\t\\tFeatures=%v\\n\", adult.Data.VocabulariesFeatures)\n",
    "fmt.Printf(\"\\t\\tValues: %s\\n\", inputs[0].Local().StringN(16))\n",
    "fmt.Printf(\"\\tcontinuous:\\n\\t\\tFeatures=%v\\n\", adult.Data.QuantilesFeatures)\n",
    "fmt.Printf(\"\\t\\tValues: %s\\n\", inputs[1].Local().StringN(10))\n",
    "fmt.Printf(\"\\tweights: %s\\n\", inputs[2].Local().StringN(5))\n",
    "fmt.Printf(\"\\nLabels of batch:\\n\\t%s\\n\", labels[0].Local().StringN(10))\n",
    "fmt.Printf(\"\\nLabels distributions:\\n\\tTrain:\\t%.2f%% positive\\n\\tTest:\\t%.2f%% positive\\n\",\n",
    "           PositiveRatio(trainingEvalDS)*100.0, PositiveRatio(testEvalDS)*100.0)\n"
   ]
  },
  {
   "cell_type": "markdown",
   "id": "54efd046-bbd5-4f7d-94e0-9ed3c64512b1",
   "metadata": {},
   "source": [
    "## Model Definition\n",
    "\n",
    "Lots of hyper-parameter flags, but otherwise a straight forward FNN, using piece-wise linear calibration of the continuous features, and embeddings for the categorical features.\n",
    "\n",
    "> **Note**: building models is a constant checking that shapes are compatible. It's a bit annoying, in particular because shapes are known in runtime only -- no compile time check. GoMLX tries to help providing a stack trace of where errors happen so one can pin-point issues quickly. But often it involves lots of experimentation (more than ordinary Go code).\n",
    ">\n",
    "> Developing with a Noteboook (see [GoNB](https://github.com/janpfeifer/gonb)) or simply a unit test on your `ModelGraph` function are quick/convenient ways to develop models -- before actually training them. You can also use shape asserts in the middle of the \n",
    ">`ModelGraph`, as we do below."
   ]
  },
  {
   "cell_type": "code",
   "execution_count": 5,
   "id": "7040e63b-33f1-4ff9-a232-187196c5f9c1",
   "metadata": {
    "tags": []
   },
   "outputs": [
    {
     "name": "stdout",
     "output_type": "stream",
     "text": [
      "Logits shape for batch_size=128: (Float32)[128 1]\n"
     ]
    }
   ],
   "source": [
    "import (\n",
    "    \"fmt\"\n",
    "    \"io\"\n",
    "\n",
    "    . \"github.com/gomlx/gomlx/graph\"\n",
    "\n",
    "    \"github.com/gomlx/gomlx/ml/context\"\n",
    "    \"github.com/gomlx/gomlx/examples/adult\"\n",
    "    \"github.com/gomlx/gomlx/ml/train\"\n",
    "    \"github.com/gomlx/gomlx/ml/train/optimizers\"\n",
    "    \"github.com/gomlx/gomlx/types/shapes\"\n",
    ")\n",
    "\n",
    "var (\n",
    "    // ModelDType used for the model. Must match RawData Go types.\n",
    "    ModelDType = shapes.Float32\n",
    "    \n",
    "\n",
    "    // Model hyperparameters.\n",
    "    flagUseCategorical       = flag.Bool(\"use_categorical\", true, \"Use categorical features.\")\n",
    "    flagUseContinuous        = flag.Bool(\"use_continuous\", true, \"Use continuous features.\")\n",
    "    flagTrainableCalibration = flag.Bool(\"trainable_calibration\", true, \"Allow piece-wise linear calibration to adjust outputs.\")\n",
    "    flagEmbeddingDim    = flag.Int(\"embedding_dim\", 8, \"Default embedding dimension for categorical values.\")\n",
    "    flagNumHiddenLayers = flag.Int(\"hidden_layers\", 8, \"Number of hidden layers, stacked with residual connection.\")\n",
    "    flagNumNodes        = flag.Int(\"num_nodes\", 32, \"Number of nodes in hidden layers.\")\n",
    "    flagDropoutRate     = flag.Float64(\"dropout\", 0, \"Dropout rate\")\n",
    "    \n",
    "    // Training parameter, referenced here.\n",
    "    flagLearningRate  = flag.Float64(\"learning_rate\", 0.001, \"Initial learning rate.\")\n",
    "    flagNumSteps      = flag.Int(\"steps\", 5000, \"Number of gradient descent steps to perform\")\n",
    ")\n",
    "\n",
    "\n",
    "// ModelGraph outputs the logits (not the probabilities). The parameter inputs should contain 3 tensors:\n",
    "//\n",
    "// - categorical inputs, shaped  `(int64)[batch_size, len(VocabulariesFeatures)]`\n",
    "// - continuous inputs, shaped `(float32)[batch_size, len(Quantiles)]`\n",
    "// - weights: not currently used, but shaped `(float32)[batch_size, 1]`.\n",
    "func ModelGraph(ctx *context.Context, spec any, inputs []*Node) []*Node {\n",
    "    _ = spec // Not used, since the dataset is always the same.\n",
    "    g := inputs[0].Graph()\n",
    "    \n",
    "    // Use Cosine schedule of the learning rate.\n",
    "    optimizers.CosineAnnealingSchedule(ctx, g, ModelDType).\n",
    "        PeriodInSteps(*flagNumSteps/3).Done()\n",
    "    \n",
    "    categorical, continuous := inputs[0], inputs[1]\n",
    "    batchSize := categorical.Shape().Dimensions[0]\n",
    "    \n",
    "    var allEmbeddings []*Node\n",
    "\n",
    "    if *flagUseCategorical {\n",
    "        // Embedding of categorical values, each with its own vocabulary.\n",
    "        numCategorical := categorical.Shape().Dimensions[1]\n",
    "        for catIdx := 0; catIdx < numCategorical; catIdx++ {\n",
    "            // Take one column at a time of the categorical values.\n",
    "            split := Slice(categorical, AxisRange(), AxisRange(catIdx, catIdx+1))\n",
    "            // Embed it accordingly.\n",
    "            embedCtx := ctx.In(fmt.Sprintf(\"categorical_%d_%s\", catIdx, adult.Data.VocabulariesFeatures[catIdx]))\n",
    "            vocab := adult.Data.Vocabularies[catIdx]\n",
    "            vocabSize := len(vocab)\n",
    "            embedding := layers.Embedding(embedCtx, split, ModelDType, vocabSize, *flagEmbeddingDim)\n",
    "            embedding.AssertDims(batchSize, *flagEmbeddingDim) // 2-dim tensor, with batch size as the leading dimension.\n",
    "            allEmbeddings = append(allEmbeddings, embedding)\n",
    "        }\n",
    "    }\n",
    "\n",
    "    if *flagUseContinuous {\n",
    "        // Piecewise-linear calibration of the continuous values. Each feature has its own number of quantiles.\n",
    "        numContinuous := continuous.Shape().Dimensions[1]\n",
    "        for contIdx := 0; contIdx < numContinuous; contIdx++ {\n",
    "            // Take one column at a time of the continuous values.\n",
    "            split := Slice(continuous, AxisRange(), AxisRange(contIdx, contIdx+1))\n",
    "            featureName := adult.Data.QuantilesFeatures[contIdx]\n",
    "            calibrationCtx := ctx.In(fmt.Sprintf(\"continuous_%d_%s\", contIdx, featureName))\n",
    "            quantiles := adult.Data.Quantiles[contIdx]\n",
    "            layers.AssertQuantilesForPWLCalibrationValid(quantiles)\n",
    "            calibrated := layers.PieceWiseLinearCalibration(calibrationCtx, split, Const(g, quantiles), *flagTrainableCalibration)\n",
    "            calibrated.AssertDims(batchSize, 1) // 2-dim tensor, with batch size as the leading dimension.\n",
    "            allEmbeddings = append(allEmbeddings, calibrated)\n",
    "        }\n",
    "    }\n",
    "    layer := Concatenate(allEmbeddings, -1)\n",
    "    layer.AssertDims(batchSize, -1) // 2-dim tensor, with batch size as the leading dimension (-1 means it is not checked).\n",
    "    \n",
    "    layer = layers.DenseWithBias(ctx.In(fmt.Sprintf(\"DenseLayer_%d\", 0)), layer, *flagNumNodes)\n",
    "    for ii := 1; ii < *flagNumHiddenLayers; ii++ {\n",
    "        ctx := ctx.In(fmt.Sprintf(\"DenseLayer_%d\", ii))\n",
    "        // Add layer with residual connection.\n",
    "        tmp := Sigmoid(layer)\n",
    "        if *flagDropoutRate > 0 {\n",
    "            tmp = layers.Dropout(ctx, tmp, Scalar(g, ModelDType, *flagDropoutRate))\n",
    "        }\n",
    "        tmp = layers.DenseWithBias(ctx, tmp, *flagNumNodes)\n",
    "        layer = Add(layer, tmp)  // Residual connections\n",
    "    }\n",
    "    layer = Sigmoid(layer)\n",
    "    logits := layers.DenseWithBias(ctx.In(\"DenseFinal\"), layer, 1)\n",
    "    logits.AssertDims(batchSize, 1) // 2-dim tensor, with batch size as the leading dimension.\n",
    "    return []*Node{logits}\n",
    "}\n",
    "\n",
    "%%\n",
    "adult.LoadAndPreprocessData(*flagDataDir, *flagNumQuantiles, *flagForceDownload, *flagVerbosity)    \n",
    "\n",
    "// Let's just check that we get the right shape from the model function, wihtout any real data.\n",
    "graph := manager.NewGraph(\"test\")\n",
    "ctx := context.NewContext(manager)\n",
    "ctx.SetParam(optimizers.LearningRateKey, *flagLearningRate)\n",
    "\n",
    "// Create placeholder (parameters) graph nodes, just to test the graph building is working.\n",
    "inputs := []*Node{\n",
    "    // Categorical: shaped [batch_size, num_categorical]\n",
    "    graph.Parameter(\"categorical\", shapes.Make(shapes.Int64, *flagBatchSize, len(adult.Data.VocabulariesFeatures))),\n",
    "    // Continuous: shaped [batch_size, num_continuos]\n",
    "    graph.Parameter(\"continuous\", shapes.Make(shapes.Float32, *flagBatchSize, len(adult.Data.QuantilesFeatures))),\n",
    "    // Weights: shaped [batch_size, 1]\n",
    "    graph.Parameter(\"weights\", shapes.Make(shapes.Float32, *flagBatchSize, 1)),    \n",
    "}\n",
    "logits := ModelGraph(ctx, nil, inputs)\n",
    "fmt.Printf(\"Logits shape for batch_size=%d: %s\\n\", *flagBatchSize, logits[0].Shape())"
   ]
  },
  {
   "cell_type": "markdown",
   "id": "618e1c7a-ced1-4914-8530-0924e02f095c",
   "metadata": {},
   "source": [
    "## Training Loop\n",
    "\n",
    "We can create a training loop with only a `Manager`, a `Context` (for the model varibles) and the `ModelGraph` function.\n",
    "\n",
    "To make it more interesting we also add the following:\n",
    "\n",
    "* Accuracy metrics for training and testing.\n",
    "* Checkpoints -- so trained model can be saved, and reloaded.\n",
    "* A progress-bar that also shows training metrics.\n",
    "* We dynamically plot how the loss and accuracy evolve.\n",
    "\n",
    "First we define the corresponding flags and the `trainModel` function, and run it for very few steps to make sure\n",
    "it is working."
   ]
  },
  {
   "cell_type": "code",
   "execution_count": 6,
   "id": "daf39a7c-7cc8-43a5-ae79-026303f5f502",
   "metadata": {
    "tags": []
   },
   "outputs": [
    {
     "name": "stdout",
     "output_type": "stream",
     "text": [
      "Training (500 steps):  100% [\u001b[32m=\u001b[0m\u001b[32m=\u001b[0m\u001b[32m=\u001b[0m\u001b[32m=\u001b[0m\u001b[32m=\u001b[0m\u001b[32m=\u001b[0m\u001b[32m=\u001b[0m\u001b[32m=\u001b[0m\u001b[32m=\u001b[0m\u001b[32m=\u001b[0m\u001b[32m=\u001b[0m\u001b[32m=\u001b[0m\u001b[32m=\u001b[0m\u001b[32m=\u001b[0m\u001b[32m=\u001b[0m\u001b[32m=\u001b[0m\u001b[32m=\u001b[0m\u001b[32m=\u001b[0m\u001b[32m=\u001b[0m\u001b[32m=\u001b[0m\u001b[32m=\u001b[0m\u001b[32m=\u001b[0m\u001b[32m=\u001b[0m\u001b[32m=\u001b[0m\u001b[32m=\u001b[0m\u001b[32m=\u001b[0m\u001b[32m=\u001b[0m\u001b[32m=\u001b[0m\u001b[32m=\u001b[0m\u001b[32m=\u001b[0m\u001b[32m=\u001b[0m\u001b[32m=\u001b[0m\u001b[32m=\u001b[0m\u001b[32m=\u001b[0m\u001b[32m=\u001b[0m\u001b[32m=\u001b[0m\u001b[32m=\u001b[0m\u001b[32m=\u001b[0m\u001b[32m=\u001b[0m\u001b[32m=\u001b[0m] (164 steps/s)\u001b[0m [loss=0.326] [~loss=0.384] [~acc=82.62%]        \n",
      "\t[Step 500] median train step: 979 microseconds\n",
      "\n",
      "Results on batched train:\n",
      "\tMean Loss (#loss): 0.353\n",
      "\tMean Accuracy (#acc): 84.21%\n",
      "Results on test:\n",
      "\tMean Loss (#loss): 0.350\n",
      "\tMean Accuracy (#acc): 84.59%\n",
      "\n"
     ]
    }
   ],
   "source": [
    "import (\n",
    "    \"fmt\"\n",
    "    \"io\"\n",
    "    \"time\"\n",
    "\n",
    "    . \"github.com/gomlx/gomlx/graph\"\n",
    "\n",
    "    \"github.com/gomlx/gomlx/examples/adult\"\n",
    "    \"github.com/gomlx/gomlx/examples/notebook/gonb/margaid\"\n",
    "    \"github.com/gomlx/gomlx/ml/context\"\n",
    "    \"github.com/gomlx/gomlx/ml/train\"\n",
    "    \"github.com/gomlx/gomlx/types/shapes\"\n",
    "    \"github.com/gomlx/gomlx/types/slices\"\n",
    "    \"github.com/gomlx/gomlx/types/tensor\"\n",
    "    \"github.com/janpfeifer/gonb/gonbui\"\n",
    ")\n",
    "\n",
    "var (\n",
    "    flagOptimizer      = flag.String(\"optimizer\", \"adam\", \"Type of optimizer to use: 'sgd' or 'adam'\")\n",
    "    flagLearningRate   = flag.Float64(\"learning_rate\", 0.001, \"Initial learning rate.\")\n",
    "    flagCheckpoint     = flag.String(\"checkpoint\", \"\", \"Directory save and load checkpoints from. If left empty, no checkpoints are created.\")\n",
    "    flagCheckpointKeep = flag.Int(\"checkpoint_keep\", 10, \"Number of checkpoints to keep, if --checkpoint is set.\")\n",
    "    flagPlots          = flag.Bool(\"plots\", true, \"Plots during training: perform periodic evaluations, \"+\n",
    "                                   \"save results if --checkpoint is set and draw plots, if in a Jupyter notebook.\")\n",
    ")\n",
    "\n",
    "func trainModel() {\n",
    "    // Fixes directories.\n",
    "    *flagDataDir = data.ReplaceTildeInDir(*flagDataDir)\n",
    "    *flagCheckpoint = data.ReplaceTildeInDir(*flagCheckpoint)\n",
    "    if *flagCheckpoint != \"\" && !path.IsAbs(*flagCheckpoint) {\n",
    "        *flagCheckpoint = path.Join(*flagDataDir, *flagCheckpoint)\n",
    "    }\n",
    "\n",
    "    // Load data and create datasets.\n",
    "    adult.LoadAndPreprocessData(*flagDataDir, *flagNumQuantiles, *flagForceDownload, *flagVerbosity)    \n",
    "    trainDS, trainEvalDS, testEvalDS := BuildDatasets(manager)\n",
    "\n",
    "    // Context holds the variables and optionally hyperparameters for the model.\n",
    "    ctx := context.NewContext(manager)\n",
    "    ctx.SetParam(optimizers.LearningRateKey, *flagLearningRate)\n",
    "\n",
    "    // Metrics we are interested.\n",
    "    meanAccuracyMetric := metrics.NewMeanBinaryLogitsAccuracy(\"Mean Accuracy\", \"#acc\")\n",
    "    movingAccuracyMetric := metrics.NewMovingAverageBinaryLogitsAccuracy(\"Moving Average Accuracy\", \"~acc\", 0.01)\n",
    "\n",
    "    // Checkpoints saving.\n",
    "    var checkpoint *checkpoints.Handler\n",
    "    if *flagCheckpoint != \"\" {\n",
    "        var err error\n",
    "        checkpoint, err = checkpoints.Build(ctx).Dir(*flagCheckpoint).Keep(*flagCheckpointKeep).Done()\n",
    "        if err != nil { panic(err) }\n",
    "        fmt.Printf(\"Checkpointing model to %q\\n\", checkpoint.Dir())\n",
    "        globalStep := optimizers.GetGlobalStepVar(ctx).Value().Value().(int)\n",
    "        if globalStep != 0 {\n",
    "            fmt.Printf(\"Restarting training from global_step=%d\\n\", globalStep)\n",
    "        }\n",
    "    }\n",
    "\n",
    "    // Pick a known optimizer.\n",
    "    optimizerFn, found := optimizers.KnownOptimizers[*flagOptimizer]\n",
    "    if !found {\n",
    "        log.Fatalf(\"Unknown optimizer %q, please use one of %v\",\n",
    "            *flagOptimizer, slices.Keys(optimizers.KnownOptimizers))\n",
    "    }\n",
    "\n",
    "    // Create a train.Trainer: this object will orchestrate running the model, feeding\n",
    "    // results to the optimizer, evaluating the metrics, etc. (all happens in trainer.TrainStep)\n",
    "    trainer := train.NewTrainer(manager, ctx, ModelGraph, losses.BinaryCrossentropyLogits,\n",
    "        optimizerFn(),\n",
    "        []metrics.Interface{movingAccuracyMetric}, // trainMetrics\n",
    "        []metrics.Interface{meanAccuracyMetric})   // evalMetrics\n",
    "\n",
    "    // Use standard training loop.\n",
    "    loop := train.NewLoop(trainer)\n",
    "    loop.ReadGlobalStep(ctx)  // Make sure it restarts from previous global step, if one is set.\n",
    "    commandline.AttachProgressBar(loop) // Attaches a progress bar to the loop.\n",
    "\n",
    "    // Attach a checkpoint: checkpoint every 1 minute of training.\n",
    "    if checkpoint != nil {\n",
    "        period := time.Minute * 1\n",
    "        train.PeriodicCallback(loop, period, true, \"saving checkpoint\", 100,\n",
    "            func(loop *train.Loop, metrics []tensor.Tensor) error {\n",
    "                fmt.Printf(\"\\n[saving checkpoint@%d] [median train step (ms): %d]\\n\", loop.LoopStep, loop.MedianTrainStepDuration().Milliseconds())\n",
    "                return checkpoint.Save()\n",
    "            })\n",
    "    }\n",
    "\n",
    "    // Attach a margaid plots: plot points at exponential steps.\n",
    "    // Also points are saved, so training (with plots) can be restarted if --checkpoint is set.\n",
    "    var plots *margaid.Plots\n",
    "    if *flagPlots {\n",
    "        plots = margaid.New(1024, 400, trainEvalDS, testEvalDS).LogScaleX()\n",
    "        if checkpoint != nil {\n",
    "            // Save plot points.\n",
    "            _, err := plots.WithFile(path.Join(checkpoint.Dir(), \"training_plot_points.json\"))\n",
    "            if err != nil { panic(err) }\n",
    "        }\n",
    "        plots.DynamicUpdates()\n",
    "\n",
    "        // Only plot if (1) it's running in a notebook or if (B) it has a checkpoint directory, where those plot points\n",
    "        // will be saved.\n",
    "        if checkpoint != nil || gonbui.IsNotebook {\n",
    "            // Register plot points at exponential steps.\n",
    "            train.ExponentialCallback(loop, 100, 1.1, true,\n",
    "                \"Monitor\", 0, func(loop *train.Loop, metrics []tensor.Tensor) error {\n",
    "                    // Update plots with metrics.\n",
    "                    return plots.AddTrainAndEvalMetrics(loop, metrics)\n",
    "                })            \n",
    "        }\n",
    "    }\n",
    "\n",
    "    // Run the given number of steps.\n",
    "    _, err := loop.RunSteps(trainDS, *flagNumSteps)\n",
    "    if err != nil { panic(err) }\n",
    "    fmt.Printf(\"\\t[Step %d] median train step: %d microseconds\\n\", loop.LoopStep, loop.MedianTrainStepDuration().Microseconds())\n",
    "\n",
    "    // Print a final evaluation on train and test datasets.\n",
    "    fmt.Println()\n",
    "    err = commandline.ReportEval(trainer, trainEvalDS, testEvalDS)\n",
    "    if err != nil { panic(err) }\n",
    "    fmt.Println()\n",
    "}\n",
    "\n",
    "// Notice command line flags are passed in the %% notebook command. We set --plot=false here to disable plotting\n",
    "// since this is only a quick test that our train() loop is working. See below the final run for a full training.\n",
    "%% --steps=500 --plots=false\n",
    "trainModel()"
   ]
  },
  {
   "cell_type": "markdown",
   "id": "6bb5db6b-3a2c-4f48-8264-f90b22a52ed0",
   "metadata": {},
   "source": [
    "## Final run\n",
    "\n",
    "With everything working, we can do our final run.\n",
    "\n",
    "> **Note** here is where someone might want to hyperparameter tune, trying out different hyperparameters."
   ]
  },
  {
   "cell_type": "code",
   "execution_count": 7,
   "id": "66939463-60d7-446f-b4f3-1d60abe7c17c",
   "metadata": {
    "tags": []
   },
   "outputs": [
    {
     "name": "stdout",
     "output_type": "stream",
     "text": [
      "Checkpointing model to \"/home/janpf/work/uci-adult/base_model\"\n"
     ]
    },
    {
     "data": {
      "text/html": [
       "<svg style=\"background-color:#f8f8f8\" preserveAspectRatio=\"xMidYMid meet\" xmlns=\"http://www.w3.org/2000/svg\" width=\"1024\" height=\"454\" viewbox=\"0 0 1024 400\"><defs><marker refY=\"5\" markerUnits=\"userSpaceOnUse\" markerWidth=\"2%\" markerHeight=\"2%\" id=\"circle\" viewBox=\"0 0 10 10 \" refX=\"5\"><circle cx=\"5\" cy=\"5\" r=\"3\" fill=\"none\" stroke=\"black\"/></marker><marker markerUnits=\"userSpaceOnUse\" markerWidth=\"2%\" markerHeight=\"2%\" id=\"filled-circle\" viewBox=\"0 0 10 10 \" refX=\"5\" refY=\"5\"><circle fill=\"black\" stroke=\"none\" cx=\"5\" cy=\"5\" r=\"3\"/></marker><marker refY=\"5\" markerUnits=\"userSpaceOnUse\" markerWidth=\"2%\" markerHeight=\"2%\" id=\"square\" viewBox=\"0 0 10 10 \" refX=\"5\"><rect x=\"2\" y=\"2\" width=\"6\" height=\"6\" fill=\"none\" stroke=\"black\"/></marker><marker markerWidth=\"2%\" markerHeight=\"2%\" id=\"filled-square\" viewBox=\"0 0 10 10 \" refX=\"5\" refY=\"5\" markerUnits=\"userSpaceOnUse\"><rect stroke=\"none\" x=\"2\" y=\"2\" width=\"6\" height=\"6\" fill=\"black\"/></marker></defs><g stroke-width=\"2px\" marker-end=\"url(#square)\" fill=\"none\" stroke-linecap=\"round\" marker-start=\"url(#square)\" transform=\"translate(70 330 )scale(1 -1 )\" stroke-linejoin=\"round\" marker-mid=\"url(#square)\" stroke=\"hsl(90, 47%, 65%)\"><path vector-effect=\"non-scaling-stroke\" d=\"M1.768000e+01,2.358092e+01 L1.786294e+02,1.834770e+02 L2.773355e+02,1.892240e+02 L3.506075e+02,1.900605e+02 L4.099543e+02,2.082954e+02 L4.607660e+02,2.201249e+02 L5.055983e+02,2.165440e+02 L5.461769e+02,2.294807e+02 L5.835664e+02,2.349524e+02 L6.184621e+02,2.291309e+02 L6.513380e+02,2.394209e+02 L6.825291e+02,2.448016e+02 L7.123676e+02,2.491282e+02 L7.410809e+02,2.511432e+02 L7.688274e+02,2.512008e+02 L7.957190e+02,2.514884e+02 L8.218897e+02,2.535006e+02 L8.474287e+02,2.533282e+02 L8.663200e+02,2.467644e+02 \"/></g><g fill=\"none\" stroke-linejoin=\"round\" marker-mid=\"url(#square)\" transform=\"translate(70 330 )scale(1 -1 )\" stroke=\"hsl(301, 88%, 65%)\" stroke-width=\"2px\" stroke-linecap=\"round\" marker-start=\"url(#square)\" marker-end=\"url(#square)\"><path vector-effect=\"non-scaling-stroke\" d=\"M1.768000e+01,3.342055e+01 L1.786294e+02,1.867816e+02 L2.773355e+02,1.965673e+02 L3.506075e+02,1.979944e+02 L4.099543e+02,2.113727e+02 L4.607660e+02,2.223015e+02 L5.055983e+02,2.193708e+02 L5.461769e+02,2.301299e+02 L5.835664e+02,2.374569e+02 L6.184621e+02,2.230041e+02 L6.513380e+02,2.381531e+02 L6.825291e+02,2.416291e+02 L7.123676e+02,2.459061e+02 L7.410809e+02,2.444047e+02 L7.688274e+02,2.457908e+02 L7.957190e+02,2.491353e+02 L8.218897e+02,2.471755e+02 L8.474287e+02,2.485592e+02 L8.663200e+02,2.419764e+02 \"/></g><g stroke=\"hsl(152, 76%, 65%)\" stroke-linecap=\"round\" fill=\"none\" stroke-linejoin=\"round\" marker-start=\"url(#square)\" marker-mid=\"url(#square)\" marker-end=\"url(#square)\" stroke-width=\"2px\" transform=\"translate(70 330 )scale(1 -1 )\"><path vector-effect=\"non-scaling-stroke\" d=\"M1.768000e+01,5.200000e+00 L1.786294e+02,5.704861e+01 L2.773355e+02,1.561048e+02 L3.506075e+02,1.840368e+02 L4.099543e+02,2.004781e+02 L4.607660e+02,2.064867e+02 L5.055983e+02,2.100995e+02 L5.461769e+02,2.180968e+02 L5.835664e+02,2.287239e+02 L6.184621e+02,2.341960e+02 L6.513380e+02,2.400119e+02 L6.825291e+02,2.419244e+02 L7.123676e+02,2.522809e+02 L7.410809e+02,2.511078e+02 L7.688274e+02,2.506114e+02 L7.957190e+02,2.548000e+02 L8.218897e+02,2.513962e+02 L8.474287e+02,2.507940e+02 L8.663200e+02,2.513445e+02 \"/></g><g fill=\"none\" stroke-linecap=\"round\" stroke-linejoin=\"round\" stroke=\"black\" stroke-width=\"2px\" transform=\"translate(70 330 )scale(1 -1 )\"><path vector-effect=\"non-scaling-stroke\" d=\"M1.768000e+01,0 L1.768000e+01,-6 M1.680453e+02,0 L1.680453e+02,-6 M2.560033e+02,0 L2.560033e+02,-6 M3.184106e+02,0 L3.184106e+02,-6 M3.668174e+02,0 L3.668174e+02,-6 M4.063686e+02,0 L4.063686e+02,-6 M4.398087e+02,0 L4.398087e+02,-6 M4.687758e+02,0 L4.687758e+02,-6 M4.943267e+02,0 L4.943267e+02,-6 M5.171826e+02,0 L5.171826e+02,-6 M5.378584e+02,0 L5.378584e+02,-6 M6.675479e+02,0 L6.675479e+02,-6 M7.555060e+02,0 L7.555060e+02,-6 M8.179132e+02,0 L8.179132e+02,-6 M8.663200e+02,0 L8.663200e+02,-6 \"/></g><g stroke-linecap=\"round\" stroke-linejoin=\"round\" dominant-baseline=\"hanging\" stroke=\"black\" text-anchor=\"middle\" font-size=\"12px\" font-style=\"normal\" font-weight=\"normal\" fill=\"black\" transform=\"translate(70 330 )scale(1 1 )\" stroke-width=\"2px\" font-family=\"sans-serif\"><text stroke=\"none\" vector-effect=\"non-scaling-stroke\" x=\"1.768000e+01\" y=\"10\" dominant-baseline=\"hanging\">100</text><text y=\"10\" dominant-baseline=\"hanging\" stroke=\"none\" vector-effect=\"non-scaling-stroke\" x=\"1.680453e+02\">200</text><text stroke=\"none\" vector-effect=\"non-scaling-stroke\" x=\"2.560033e+02\" y=\"10\" dominant-baseline=\"hanging\">300</text><text dominant-baseline=\"hanging\" stroke=\"none\" vector-effect=\"non-scaling-stroke\" x=\"3.184106e+02\" y=\"10\">400</text><text stroke=\"none\" vector-effect=\"non-scaling-stroke\" x=\"3.668174e+02\" y=\"10\" dominant-baseline=\"hanging\">500</text><text stroke=\"none\" vector-effect=\"non-scaling-stroke\" x=\"4.063686e+02\" y=\"10\" dominant-baseline=\"hanging\">600</text><text vector-effect=\"non-scaling-stroke\" x=\"4.398087e+02\" y=\"10\" dominant-baseline=\"hanging\" stroke=\"none\">700</text><text stroke=\"none\" vector-effect=\"non-scaling-stroke\" x=\"4.687758e+02\" y=\"10\" dominant-baseline=\"hanging\">800</text><text vector-effect=\"non-scaling-stroke\" x=\"4.943267e+02\" y=\"10\" dominant-baseline=\"hanging\" stroke=\"none\">900</text><text vector-effect=\"non-scaling-stroke\" x=\"5.171826e+02\" y=\"10\" dominant-baseline=\"hanging\" stroke=\"none\">1000</text><text stroke=\"none\" vector-effect=\"non-scaling-stroke\" x=\"5.378584e+02\" y=\"10\" dominant-baseline=\"hanging\">1100</text><text x=\"6.675479e+02\" y=\"10\" dominant-baseline=\"hanging\" stroke=\"none\" vector-effect=\"non-scaling-stroke\">2000</text><text x=\"7.555060e+02\" y=\"10\" dominant-baseline=\"hanging\" stroke=\"none\" vector-effect=\"non-scaling-stroke\">3000</text><text stroke=\"none\" vector-effect=\"non-scaling-stroke\" x=\"8.179132e+02\" y=\"10\" dominant-baseline=\"hanging\">4000</text><text x=\"8.663200e+02\" y=\"10\" dominant-baseline=\"hanging\" stroke=\"none\" vector-effect=\"non-scaling-stroke\">5000</text></g><g stroke=\"black\" font-size=\"12px\" font-style=\"normal\" text-anchor=\"middle\" stroke-linecap=\"round\" stroke-linejoin=\"round\" stroke-width=\"2px\" font-family=\"sans-serif\" transform=\"translate(70 330 )scale(1 1 )rotate(0 0 0 )\" font-weight=\"bold\" fill=\"black\" dominant-baseline=\"baseline\"><text vector-effect=\"non-scaling-stroke\" x=\"442\" y=\"-6\" dominant-baseline=\"baseline\" stroke=\"none\">Steps</text></g><g stroke=\"black\" stroke-linecap=\"round\" stroke-linejoin=\"round\" font-size=\"12px\" dominant-baseline=\"hanging\" stroke-width=\"2px\" font-family=\"sans-serif\" transform=\"translate(70 330 )scale(1 1 )rotate(-90 0 0 )\" font-style=\"normal\" font-weight=\"bold\" text-anchor=\"middle\" fill=\"black\"><text vector-effect=\"non-scaling-stroke\" x=\"130\" y=\"6\" dominant-baseline=\"hanging\" stroke=\"none\">accuracy</text></g><g stroke=\"black\" font-family=\"sans-serif\" font-style=\"normal\" font-weight=\"bold\" stroke-linecap=\"round\" dominant-baseline=\"hanging\" stroke-width=\"2px\" font-size=\"12px\" text-anchor=\"middle\" fill=\"none\" stroke-linejoin=\"round\"><rect width=\"884\" height=\"260\" vector-effect=\"non-scaling-stroke\" x=\"70\" y=\"70\"/><g fill=\"black\" font-size=\"18px\" dominant-baseline=\"middle\"><text x=\"512\" y=\"35\" dominant-baseline=\"middle\" stroke=\"none\" vector-effect=\"non-scaling-stroke\">accuracy metrics</text></g><g dominant-baseline=\"hanging\" stroke=\"hsl(90, 47%, 65%)\" font-family=\"sans-serif\" text-anchor=\"start\" stroke-linejoin=\"round\" font-size=\"12px\" font-weight=\"normal\" stroke-width=\"1px\" fill=\"hsl(90, 47%, 65%)\" stroke-linecap=\"round\" font-style=\"normal\"><rect width=\"12\" height=\"12\" vector-effect=\"non-scaling-stroke\" x=\"76\" y=\"366\"/><g stroke=\"black\" fill=\"black\"><text x=\"92\" y=\"366\" dominant-baseline=\"hanging\" stroke=\"none\" vector-effect=\"non-scaling-stroke\">Eval on batched train: Mean Accuracy</text></g><g stroke-width=\"1px\" font-family=\"sans-serif\" text-anchor=\"start\" stroke-linejoin=\"round\" font-style=\"normal\" font-weight=\"normal\" stroke=\"hsl(301, 88%, 65%)\" fill=\"hsl(301, 88%, 65%)\" stroke-linecap=\"round\" font-size=\"12px\" dominant-baseline=\"hanging\"><rect width=\"12\" height=\"12\" vector-effect=\"non-scaling-stroke\" x=\"76\" y=\"384\"/><g stroke=\"black\" fill=\"black\"><text vector-effect=\"non-scaling-stroke\" x=\"92\" y=\"384\" dominant-baseline=\"hanging\" stroke=\"none\">Eval on test: Mean Accuracy</text></g><g stroke-linejoin=\"round\" stroke-width=\"1px\" font-family=\"sans-serif\" text-anchor=\"start\" fill=\"hsl(152, 76%, 65%)\" stroke-linecap=\"round\" dominant-baseline=\"hanging\" stroke=\"hsl(152, 76%, 65%)\" font-size=\"12px\" font-style=\"normal\" font-weight=\"normal\"><rect vector-effect=\"non-scaling-stroke\" x=\"76\" y=\"402\" width=\"12\" height=\"12\"/><g fill=\"black\" stroke=\"black\"><text dominant-baseline=\"hanging\" stroke=\"none\" vector-effect=\"non-scaling-stroke\" x=\"92\" y=\"402\">Train: Moving Average Accuracy</text></g></g></g></g></g></svg>\n",
       "<svg viewbox=\"0 0 1024 400\" style=\"background-color:#f8f8f8\" preserveAspectRatio=\"xMidYMid meet\" xmlns=\"http://www.w3.org/2000/svg\" width=\"1024\" height=\"454\"><defs><marker refY=\"5\" markerUnits=\"userSpaceOnUse\" markerWidth=\"2%\" markerHeight=\"2%\" id=\"circle\" viewBox=\"0 0 10 10 \" refX=\"5\"><circle cx=\"5\" cy=\"5\" r=\"3\" fill=\"none\" stroke=\"black\"/></marker><marker markerHeight=\"2%\" id=\"filled-circle\" viewBox=\"0 0 10 10 \" refX=\"5\" refY=\"5\" markerUnits=\"userSpaceOnUse\" markerWidth=\"2%\"><circle cx=\"5\" cy=\"5\" r=\"3\" fill=\"black\" stroke=\"none\"/></marker><marker id=\"square\" viewBox=\"0 0 10 10 \" refX=\"5\" refY=\"5\" markerUnits=\"userSpaceOnUse\" markerWidth=\"2%\" markerHeight=\"2%\"><rect height=\"6\" fill=\"none\" stroke=\"black\" x=\"2\" y=\"2\" width=\"6\"/></marker><marker refX=\"5\" refY=\"5\" markerUnits=\"userSpaceOnUse\" markerWidth=\"2%\" markerHeight=\"2%\" id=\"filled-square\" viewBox=\"0 0 10 10 \"><rect fill=\"black\" stroke=\"none\" x=\"2\" y=\"2\" width=\"6\" height=\"6\"/></marker></defs><g marker-start=\"url(#square)\" marker-mid=\"url(#square)\" stroke=\"hsl(90, 47%, 65%)\" stroke-linejoin=\"round\" marker-end=\"url(#square)\" transform=\"translate(70 330 )scale(1 -1 )\" stroke-width=\"2px\" stroke-linecap=\"round\" fill=\"none\"><path d=\"M1.768000e+01,2.408970e+02 L1.786294e+02,1.201857e+02 L2.773355e+02,9.811865e+01 L3.506075e+02,9.739397e+01 L4.099543e+02,7.294547e+01 L4.607660e+02,6.345511e+01 L5.055983e+02,6.103595e+01 L5.461769e+02,4.973975e+01 L5.835664e+02,3.913330e+01 L6.184621e+02,3.869877e+01 L6.513380e+02,3.334830e+01 L6.825291e+02,2.383558e+01 L7.123676e+02,1.609497e+01 L7.410809e+02,1.261026e+01 L7.688274e+02,9.979423e+00 L7.957190e+02,8.830906e+00 L8.218897e+02,7.806328e+00 L8.474287e+02,5.200000e+00 L8.663200e+02,1.321204e+01 \" vector-effect=\"non-scaling-stroke\"/></g><g marker-mid=\"url(#square)\" marker-end=\"url(#square)\" transform=\"translate(70 330 )scale(1 -1 )\" stroke-linecap=\"round\" fill=\"none\" stroke=\"hsl(301, 88%, 65%)\" stroke-linejoin=\"round\" stroke-width=\"2px\" marker-start=\"url(#square)\"><path vector-effect=\"non-scaling-stroke\" d=\"M1.768000e+01,2.379773e+02 L1.786294e+02,1.162952e+02 L2.773355e+02,9.522374e+01 L3.506075e+02,9.443979e+01 L4.099543e+02,7.244451e+01 L4.607660e+02,6.317149e+01 L5.055983e+02,6.117898e+01 L5.461769e+02,5.136407e+01 L5.835664e+02,4.172203e+01 L6.184621e+02,4.239250e+01 L6.513380e+02,3.762930e+01 L6.825291e+02,2.841665e+01 L7.123676e+02,2.227647e+01 L7.410809e+02,1.929320e+01 L7.688274e+02,1.686873e+01 L7.957190e+02,1.607728e+01 L8.218897e+02,1.613559e+01 L8.474287e+02,1.336792e+01 L8.663200e+02,2.185947e+01 \"/></g><g transform=\"translate(70 330 )scale(1 -1 )\" fill=\"none\" stroke=\"hsl(152, 76%, 65%)\" marker-mid=\"url(#square)\" marker-end=\"url(#square)\" stroke-linejoin=\"round\" stroke-width=\"2px\" stroke-linecap=\"round\" marker-start=\"url(#square)\"><path vector-effect=\"non-scaling-stroke\" d=\"M1.768000e+01,2.548000e+02 L1.786294e+02,2.051004e+02 L2.773355e+02,1.355381e+02 L3.506075e+02,1.056093e+02 L4.099543e+02,8.927128e+01 L4.607660e+02,7.141533e+01 L5.055983e+02,6.557491e+01 L5.461769e+02,5.718198e+01 L5.835664e+02,4.385997e+01 L6.184621e+02,4.004246e+01 L6.513380e+02,3.026534e+01 L6.825291e+02,2.716424e+01 L7.123676e+02,1.665257e+01 L7.410809e+02,1.489876e+01 L7.688274e+02,1.429090e+01 L7.957190e+02,8.776866e+00 L8.218897e+02,1.197651e+01 L8.474287e+02,6.622570e+00 L8.663200e+02,5.795555e+00 \"/></g><g fill=\"none\" stroke=\"black\" transform=\"translate(70 330 )scale(1 -1 )\" stroke-width=\"2px\" stroke-linecap=\"round\" stroke-linejoin=\"round\"><path vector-effect=\"non-scaling-stroke\" d=\"M1.768000e+01,0 L1.768000e+01,-6 M1.680453e+02,0 L1.680453e+02,-6 M2.560033e+02,0 L2.560033e+02,-6 M3.184106e+02,0 L3.184106e+02,-6 M3.668174e+02,0 L3.668174e+02,-6 M4.063686e+02,0 L4.063686e+02,-6 M4.398087e+02,0 L4.398087e+02,-6 M4.687758e+02,0 L4.687758e+02,-6 M4.943267e+02,0 L4.943267e+02,-6 M5.171826e+02,0 L5.171826e+02,-6 M5.378584e+02,0 L5.378584e+02,-6 M6.675479e+02,0 L6.675479e+02,-6 M7.555060e+02,0 L7.555060e+02,-6 M8.179132e+02,0 L8.179132e+02,-6 M8.663200e+02,0 L8.663200e+02,-6 \"/></g><g transform=\"translate(70 330 )scale(1 1 )\" font-weight=\"normal\" dominant-baseline=\"hanging\" fill=\"black\" font-family=\"sans-serif\" font-style=\"normal\" text-anchor=\"middle\" stroke-width=\"2px\" stroke-linecap=\"round\" stroke=\"black\" stroke-linejoin=\"round\" font-size=\"12px\"><text stroke=\"none\" vector-effect=\"non-scaling-stroke\" x=\"1.768000e+01\" y=\"10\" dominant-baseline=\"hanging\">100</text><text vector-effect=\"non-scaling-stroke\" x=\"1.680453e+02\" y=\"10\" dominant-baseline=\"hanging\" stroke=\"none\">200</text><text stroke=\"none\" vector-effect=\"non-scaling-stroke\" x=\"2.560033e+02\" y=\"10\" dominant-baseline=\"hanging\">300</text><text stroke=\"none\" vector-effect=\"non-scaling-stroke\" x=\"3.184106e+02\" y=\"10\" dominant-baseline=\"hanging\">400</text><text vector-effect=\"non-scaling-stroke\" x=\"3.668174e+02\" y=\"10\" dominant-baseline=\"hanging\" stroke=\"none\">500</text><text y=\"10\" dominant-baseline=\"hanging\" stroke=\"none\" vector-effect=\"non-scaling-stroke\" x=\"4.063686e+02\">600</text><text stroke=\"none\" vector-effect=\"non-scaling-stroke\" x=\"4.398087e+02\" y=\"10\" dominant-baseline=\"hanging\">700</text><text x=\"4.687758e+02\" y=\"10\" dominant-baseline=\"hanging\" stroke=\"none\" vector-effect=\"non-scaling-stroke\">800</text><text x=\"4.943267e+02\" y=\"10\" dominant-baseline=\"hanging\" stroke=\"none\" vector-effect=\"non-scaling-stroke\">900</text><text dominant-baseline=\"hanging\" stroke=\"none\" vector-effect=\"non-scaling-stroke\" x=\"5.171826e+02\" y=\"10\">1000</text><text stroke=\"none\" vector-effect=\"non-scaling-stroke\" x=\"5.378584e+02\" y=\"10\" dominant-baseline=\"hanging\">1100</text><text y=\"10\" dominant-baseline=\"hanging\" stroke=\"none\" vector-effect=\"non-scaling-stroke\" x=\"6.675479e+02\">2000</text><text dominant-baseline=\"hanging\" stroke=\"none\" vector-effect=\"non-scaling-stroke\" x=\"7.555060e+02\" y=\"10\">3000</text><text vector-effect=\"non-scaling-stroke\" x=\"8.179132e+02\" y=\"10\" dominant-baseline=\"hanging\" stroke=\"none\">4000</text><text x=\"8.663200e+02\" y=\"10\" dominant-baseline=\"hanging\" stroke=\"none\" vector-effect=\"non-scaling-stroke\">5000</text></g><g dominant-baseline=\"baseline\" stroke-linecap=\"round\" text-anchor=\"middle\" font-weight=\"bold\" font-size=\"12px\" font-style=\"normal\" fill=\"black\" stroke=\"black\" stroke-linejoin=\"round\" stroke-width=\"2px\" transform=\"translate(70 330 )scale(1 1 )rotate(0 0 0 )\" font-family=\"sans-serif\"><text stroke=\"none\" vector-effect=\"non-scaling-stroke\" x=\"442\" y=\"-6\" dominant-baseline=\"baseline\">Steps</text></g><g font-size=\"12px\" font-style=\"normal\" stroke=\"black\" stroke-linejoin=\"round\" font-weight=\"bold\" dominant-baseline=\"baseline\" stroke-width=\"2px\" stroke-linecap=\"round\" text-anchor=\"middle\" fill=\"black\" transform=\"translate(70 330 )scale(1 -1 )\" font-family=\"sans-serif\"><path vector-effect=\"non-scaling-stroke\" d=\"M0,3.645179e+01 L-6,3.645179e+01 M0,1.360241e+02 L-6,1.360241e+02 M0,2.132584e+02 L-6,2.132584e+02 \"/></g><g font-family=\"sans-serif\" fill=\"black\" font-style=\"normal\" stroke-width=\"2px\" stroke-linecap=\"round\" transform=\"translate(70 330 )scale(1 1 )\" dominant-baseline=\"middle\" stroke=\"black\" stroke-linejoin=\"round\" font-weight=\"normal\" font-size=\"12px\" text-anchor=\"end\"><text stroke=\"none\" vector-effect=\"non-scaling-stroke\" x=\"-10\" y=\"-3.645179e+01\" dominant-baseline=\"middle\">0.300</text><text x=\"-10\" y=\"-1.360241e+02\" dominant-baseline=\"middle\" stroke=\"none\" vector-effect=\"non-scaling-stroke\">0.400</text><text stroke=\"none\" vector-effect=\"non-scaling-stroke\" x=\"-10\" y=\"-2.132584e+02\" dominant-baseline=\"middle\">0.500</text></g><g transform=\"translate(70 330 )scale(1 1 )rotate(-90 0 0 )\" stroke=\"black\" stroke-linejoin=\"round\" font-family=\"sans-serif\" stroke-width=\"2px\" font-style=\"normal\" text-anchor=\"middle\" stroke-linecap=\"round\" font-weight=\"bold\" dominant-baseline=\"hanging\" fill=\"black\" font-size=\"12px\"><text stroke=\"none\" vector-effect=\"non-scaling-stroke\" x=\"130\" y=\"6\" dominant-baseline=\"hanging\">loss</text></g><g transform=\"translate(70 330 )scale(1 -1 )\" font-family=\"sans-serif\" fill=\"black\" font-weight=\"bold\" dominant-baseline=\"hanging\" stroke-width=\"0.5px\" stroke-linecap=\"round\" font-size=\"12px\" font-style=\"normal\" text-anchor=\"middle\" stroke=\"gray\" stroke-linejoin=\"round\"><path vector-effect=\"non-scaling-stroke\" d=\"M0,3.645179e+01 L884,3.645179e+01 M0,1.360241e+02 L884,1.360241e+02 M0,2.132584e+02 L884,2.132584e+02 \"/></g><g text-anchor=\"middle\" stroke-width=\"2px\" dominant-baseline=\"hanging\" stroke-linejoin=\"round\" font-family=\"sans-serif\" font-style=\"normal\" stroke-linecap=\"round\" font-weight=\"bold\" fill=\"none\" stroke=\"black\" font-size=\"12px\"><rect height=\"260\" vector-effect=\"non-scaling-stroke\" x=\"70\" y=\"70\" width=\"884\"/><g dominant-baseline=\"middle\" fill=\"black\" font-size=\"18px\"><text vector-effect=\"non-scaling-stroke\" x=\"512\" y=\"35\" dominant-baseline=\"middle\" stroke=\"none\">loss metrics</text></g><g font-size=\"12px\" stroke-linejoin=\"round\" font-weight=\"normal\" fill=\"hsl(90, 47%, 65%)\" stroke=\"hsl(90, 47%, 65%)\" font-family=\"sans-serif\" font-style=\"normal\" text-anchor=\"start\" stroke-width=\"1px\" stroke-linecap=\"round\" dominant-baseline=\"hanging\"><rect x=\"76\" y=\"366\" width=\"12\" height=\"12\" vector-effect=\"non-scaling-stroke\"/><g fill=\"black\" stroke=\"black\"><text vector-effect=\"non-scaling-stroke\" x=\"92\" y=\"366\" dominant-baseline=\"hanging\" stroke=\"none\">Eval on batched train: Mean Loss</text></g><g font-family=\"sans-serif\" font-size=\"12px\" font-style=\"normal\" stroke-linecap=\"round\" font-weight=\"normal\" dominant-baseline=\"hanging\" fill=\"hsl(301, 88%, 65%)\" text-anchor=\"start\" stroke-width=\"1px\" stroke=\"hsl(301, 88%, 65%)\" stroke-linejoin=\"round\"><rect y=\"384\" width=\"12\" height=\"12\" vector-effect=\"non-scaling-stroke\" x=\"76\"/><g fill=\"black\" stroke=\"black\"><text dominant-baseline=\"hanging\" stroke=\"none\" vector-effect=\"non-scaling-stroke\" x=\"92\" y=\"384\">Eval on test: Mean Loss</text></g><g font-style=\"normal\" text-anchor=\"start\" stroke-linecap=\"round\" fill=\"hsl(152, 76%, 65%)\" stroke-linejoin=\"round\" font-family=\"sans-serif\" font-size=\"12px\" font-weight=\"normal\" dominant-baseline=\"hanging\" stroke=\"hsl(152, 76%, 65%)\" stroke-width=\"1px\"><rect vector-effect=\"non-scaling-stroke\" x=\"76\" y=\"402\" width=\"12\" height=\"12\"/><g fill=\"black\" stroke=\"black\"><text vector-effect=\"non-scaling-stroke\" x=\"92\" y=\"402\" dominant-baseline=\"hanging\" stroke=\"none\">Train: Moving Average Loss</text></g></g></g></g></g></svg>"
      ]
     },
     "metadata": {},
     "output_type": "display_data"
    },
    {
     "name": "stdout",
     "output_type": "stream",
     "text": [
      "Training (5000 steps):  100% [\u001b[32m=\u001b[0m\u001b[32m=\u001b[0m\u001b[32m=\u001b[0m\u001b[32m=\u001b[0m\u001b[32m=\u001b[0m\u001b[32m=\u001b[0m\u001b[32m=\u001b[0m\u001b[32m=\u001b[0m\u001b[32m=\u001b[0m\u001b[32m=\u001b[0m\u001b[32m=\u001b[0m\u001b[32m=\u001b[0m\u001b[32m=\u001b[0m\u001b[32m=\u001b[0m\u001b[32m=\u001b[0m\u001b[32m=\u001b[0m\u001b[32m=\u001b[0m\u001b[32m=\u001b[0m\u001b[32m=\u001b[0m\u001b[32m=\u001b[0m\u001b[32m=\u001b[0m\u001b[32m=\u001b[0m\u001b[32m=\u001b[0m\u001b[32m=\u001b[0m\u001b[32m=\u001b[0m\u001b[32m=\u001b[0m\u001b[32m=\u001b[0m\u001b[32m=\u001b[0m\u001b[32m=\u001b[0m\u001b[32m=\u001b[0m\u001b[32m=\u001b[0m\u001b[32m=\u001b[0m\u001b[32m=\u001b[0m\u001b[32m=\u001b[0m\u001b[32m=\u001b[0m\u001b[32m=\u001b[0m\u001b[32m=\u001b[0m\u001b[32m=\u001b[0m\u001b[32m=\u001b[0m\u001b[32m=\u001b[0m] (490 steps/s)\u001b[0m [loss=0.290] [~loss=0.275] [~acc=87.27%]        \n",
      "\n",
      "[saving checkpoint@5000] [median train step (ms): 0]\n",
      "\t[Step 5000] median train step: 926 microseconds\n",
      "\n",
      "Results on batched train:\n",
      "\tMean Loss (#loss): 0.281\n",
      "\tMean Accuracy (#acc): 87.02%\n",
      "Results on test:\n",
      "\tMean Loss (#loss): 0.288\n",
      "\tMean Accuracy (#acc): 86.77%\n",
      "\n"
     ]
    }
   ],
   "source": [
    "%% --steps=5000 --checkpoint base_model\n",
    "trainModel()"
   ]
  },
  {
   "cell_type": "markdown",
   "id": "c38d8a41-3e9c-4107-a507-c879ef27e3e3",
   "metadata": {},
   "source": [
    "Since the model training went well, and it doesn't seem to be yet terribly overfiting, \n",
    "let's train further, another 15k steps, for 20K steps in total.\t\tmg.WithRange()\n"
   ]
  },
  {
   "cell_type": "code",
   "execution_count": 8,
   "id": "95983f61-2a98-442d-bc5d-896006289a2b",
   "metadata": {
    "tags": []
   },
   "outputs": [
    {
     "name": "stdout",
     "output_type": "stream",
     "text": [
      "Checkpointing model to \"/home/janpf/work/uci-adult/base_model\"\n",
      "Restarting training from global_step=5000\n"
     ]
    },
    {
     "data": {
      "text/html": [
       "<svg width=\"1024\" height=\"454\" viewbox=\"0 0 1024 400\" style=\"background-color:#f8f8f8\" preserveAspectRatio=\"xMidYMid meet\" xmlns=\"http://www.w3.org/2000/svg\"><defs><marker markerHeight=\"2%\" id=\"circle\" viewBox=\"0 0 10 10 \" refX=\"5\" refY=\"5\" markerUnits=\"userSpaceOnUse\" markerWidth=\"2%\"><circle cx=\"5\" cy=\"5\" r=\"3\" fill=\"none\" stroke=\"black\"/></marker><marker id=\"filled-circle\" viewBox=\"0 0 10 10 \" refX=\"5\" refY=\"5\" markerUnits=\"userSpaceOnUse\" markerWidth=\"2%\" markerHeight=\"2%\"><circle cx=\"5\" cy=\"5\" r=\"3\" fill=\"black\" stroke=\"none\"/></marker><marker markerHeight=\"2%\" id=\"square\" viewBox=\"0 0 10 10 \" refX=\"5\" refY=\"5\" markerUnits=\"userSpaceOnUse\" markerWidth=\"2%\"><rect height=\"6\" fill=\"none\" stroke=\"black\" x=\"2\" y=\"2\" width=\"6\"/></marker><marker refY=\"5\" markerUnits=\"userSpaceOnUse\" markerWidth=\"2%\" markerHeight=\"2%\" id=\"filled-square\" viewBox=\"0 0 10 10 \" refX=\"5\"><rect height=\"6\" fill=\"black\" stroke=\"none\" x=\"2\" y=\"2\" width=\"6\"/></marker></defs><g marker-mid=\"url(#square)\" transform=\"translate(70 330 )scale(1 -1 )\" stroke-linecap=\"round\" stroke-width=\"2px\" stroke-linejoin=\"round\" fill=\"none\" stroke=\"hsl(90, 47%, 65%)\" marker-start=\"url(#square)\" marker-end=\"url(#square)\"><path d=\"M1.768000e+01,2.313992e+01 L1.365173e+02,1.791997e+02 L2.093971e+02,1.848089e+02 L2.634977e+02,1.856253e+02 L3.073165e+02,2.034227e+02 L3.448334e+02,2.149684e+02 L3.779355e+02,2.114733e+02 L4.078967e+02,2.240997e+02 L4.355033e+02,2.294401e+02 L4.612687e+02,2.237583e+02 L4.855427e+02,2.338014e+02 L5.085726e+02,2.390530e+02 L5.306039e+02,2.432758e+02 L5.518045e+02,2.452424e+02 L5.722912e+02,2.452987e+02 L5.921466e+02,2.455794e+02 L6.114698e+02,2.475433e+02 L6.303266e+02,2.473751e+02 L6.442750e+02,2.409687e+02 L6.487916e+02,2.477676e+02 L6.669114e+02,2.487766e+02 L6.847383e+02,2.487205e+02 L7.023018e+02,2.474311e+02 L7.196363e+02,2.452424e+02 L7.367580e+02,2.472629e+02 L7.536877e+02,2.492248e+02 L7.704470e+02,2.491127e+02 L7.870558e+02,2.465336e+02 L8.035318e+02,2.482721e+02 L8.198887e+02,2.485524e+02 L8.361372e+02,2.481039e+02 L8.522929e+02,2.457478e+02 L8.663200e+02,2.470946e+02 \" vector-effect=\"non-scaling-stroke\"/></g><g transform=\"translate(70 330 )scale(1 -1 )\" stroke-linecap=\"round\" stroke=\"hsl(301, 88%, 65%)\" marker-start=\"url(#square)\" fill=\"none\" marker-mid=\"url(#square)\" stroke-width=\"2px\" stroke-linejoin=\"round\" marker-end=\"url(#square)\"><path vector-effect=\"non-scaling-stroke\" d=\"M1.768000e+01,3.274347e+01 L1.365173e+02,1.824250e+02 L2.093971e+02,1.919759e+02 L2.634977e+02,1.933688e+02 L3.073165e+02,2.064261e+02 L3.448334e+02,2.170927e+02 L3.779355e+02,2.142323e+02 L4.078967e+02,2.247333e+02 L4.355033e+02,2.318846e+02 L4.612687e+02,2.177784e+02 L4.855427e+02,2.325640e+02 L5.085726e+02,2.359566e+02 L5.306039e+02,2.401310e+02 L5.518045e+02,2.386656e+02 L5.722912e+02,2.400184e+02 L5.921466e+02,2.432827e+02 L6.114698e+02,2.413699e+02 L6.303266e+02,2.427204e+02 L6.442750e+02,2.362955e+02 L6.487916e+02,2.430579e+02 L6.669114e+02,2.439573e+02 L6.847383e+02,2.429454e+02 L7.023018e+02,2.409195e+02 L7.196363e+02,2.411447e+02 L7.367580e+02,2.449687e+02 L7.536877e+02,2.445193e+02 L7.704470e+02,2.439573e+02 L7.870558e+02,2.463161e+02 L8.035318e+02,2.449687e+02 L8.198887e+02,2.450810e+02 L8.361372e+02,2.455302e+02 L8.522929e+02,2.436201e+02 L8.663200e+02,2.441821e+02 \"/></g><g marker-end=\"url(#square)\" fill=\"none\" marker-mid=\"url(#square)\" stroke-linecap=\"round\" stroke=\"hsl(152, 76%, 65%)\" stroke-width=\"2px\" stroke-linejoin=\"round\" marker-start=\"url(#square)\" transform=\"translate(70 330 )scale(1 -1 )\"><path vector-effect=\"non-scaling-stroke\" d=\"M1.768000e+01,5.200000e+00 L1.365173e+02,5.580463e+01 L2.093971e+02,1.524842e+02 L2.634977e+02,1.797461e+02 L3.073165e+02,1.957929e+02 L3.448334e+02,2.016574e+02 L3.779355e+02,2.051834e+02 L4.078967e+02,2.129889e+02 L4.355033e+02,2.233610e+02 L4.612687e+02,2.287018e+02 L4.855427e+02,2.343782e+02 L5.085726e+02,2.362448e+02 L5.306039e+02,2.463529e+02 L5.518045e+02,2.452079e+02 L5.722912e+02,2.447234e+02 L5.921466e+02,2.488115e+02 L6.114698e+02,2.454894e+02 L6.303266e+02,2.449016e+02 L6.442750e+02,2.454389e+02 L6.487916e+02,2.416603e+02 L6.669114e+02,2.496888e+02 L6.847383e+02,2.471988e+02 L7.023018e+02,2.513812e+02 L7.196363e+02,2.471135e+02 L7.367580e+02,2.480603e+02 L7.536877e+02,2.502084e+02 L7.704470e+02,2.437076e+02 L7.870558e+02,2.458886e+02 L8.035318e+02,2.548000e+02 L8.198887e+02,2.530125e+02 L8.361372e+02,2.451103e+02 L8.522929e+02,2.474924e+02 L8.663200e+02,2.537227e+02 \"/></g><g stroke-linecap=\"round\" transform=\"translate(70 330 )scale(1 -1 )\" fill=\"none\" stroke=\"black\" stroke-width=\"2px\" stroke-linejoin=\"round\"><path vector-effect=\"non-scaling-stroke\" d=\"M1.768000e+01,0 L1.768000e+01,-6 M1.287025e+02,0 L1.287025e+02,-6 M1.936465e+02,0 L1.936465e+02,-6 M2.397250e+02,0 L2.397250e+02,-6 M2.754663e+02,0 L2.754663e+02,-6 M3.046690e+02,0 L3.046690e+02,-6 M3.293596e+02,0 L3.293596e+02,-6 M3.507475e+02,0 L3.507475e+02,-6 M3.696130e+02,0 L3.696130e+02,-6 M3.864888e+02,0 L3.864888e+02,-6 M4.017547e+02,0 L4.017547e+02,-6 M4.975112e+02,0 L4.975112e+02,-6 M5.624552e+02,0 L5.624552e+02,-6 M6.085337e+02,0 L6.085337e+02,-6 M6.442750e+02,0 L6.442750e+02,-6 M6.734777e+02,0 L6.734777e+02,-6 M6.981683e+02,0 L6.981683e+02,-6 M7.195562e+02,0 L7.195562e+02,-6 M7.384217e+02,0 L7.384217e+02,-6 M7.552975e+02,0 L7.552975e+02,-6 M8.663200e+02,0 L8.663200e+02,-6 \"/></g><g font-family=\"sans-serif\" font-size=\"12px\" text-anchor=\"middle\" stroke=\"black\" font-style=\"normal\" font-weight=\"normal\" stroke-width=\"2px\" stroke-linejoin=\"round\" stroke-linecap=\"round\" transform=\"translate(70 330 )scale(1 1 )\" dominant-baseline=\"hanging\" fill=\"black\"><text dominant-baseline=\"hanging\" stroke=\"none\" vector-effect=\"non-scaling-stroke\" x=\"1.768000e+01\" y=\"10\">100</text><text x=\"1.287025e+02\" y=\"10\" dominant-baseline=\"hanging\" stroke=\"none\" vector-effect=\"non-scaling-stroke\">200</text><text stroke=\"none\" vector-effect=\"non-scaling-stroke\" x=\"1.936465e+02\" y=\"10\" dominant-baseline=\"hanging\">300</text><text stroke=\"none\" vector-effect=\"non-scaling-stroke\" x=\"2.397250e+02\" y=\"10\" dominant-baseline=\"hanging\">400</text><text stroke=\"none\" vector-effect=\"non-scaling-stroke\" x=\"2.754663e+02\" y=\"10\" dominant-baseline=\"hanging\">500</text><text stroke=\"none\" vector-effect=\"non-scaling-stroke\" x=\"3.046690e+02\" y=\"10\" dominant-baseline=\"hanging\">600</text><text dominant-baseline=\"hanging\" stroke=\"none\" vector-effect=\"non-scaling-stroke\" x=\"3.293596e+02\" y=\"10\">700</text><text stroke=\"none\" vector-effect=\"non-scaling-stroke\" x=\"3.507475e+02\" y=\"10\" dominant-baseline=\"hanging\">800</text><text vector-effect=\"non-scaling-stroke\" x=\"3.696130e+02\" y=\"10\" dominant-baseline=\"hanging\" stroke=\"none\">900</text><text y=\"10\" dominant-baseline=\"hanging\" stroke=\"none\" vector-effect=\"non-scaling-stroke\" x=\"3.864888e+02\">1000</text><text vector-effect=\"non-scaling-stroke\" x=\"4.017547e+02\" y=\"10\" dominant-baseline=\"hanging\" stroke=\"none\">1100</text><text stroke=\"none\" vector-effect=\"non-scaling-stroke\" x=\"4.975112e+02\" y=\"10\" dominant-baseline=\"hanging\">2000</text><text vector-effect=\"non-scaling-stroke\" x=\"5.624552e+02\" y=\"10\" dominant-baseline=\"hanging\" stroke=\"none\">3000</text><text y=\"10\" dominant-baseline=\"hanging\" stroke=\"none\" vector-effect=\"non-scaling-stroke\" x=\"6.085337e+02\">4000</text><text vector-effect=\"non-scaling-stroke\" x=\"6.442750e+02\" y=\"10\" dominant-baseline=\"hanging\" stroke=\"none\">5000</text><text stroke=\"none\" vector-effect=\"non-scaling-stroke\" x=\"6.734777e+02\" y=\"10\" dominant-baseline=\"hanging\">6000</text><text x=\"6.981683e+02\" y=\"10\" dominant-baseline=\"hanging\" stroke=\"none\" vector-effect=\"non-scaling-stroke\">7000</text><text vector-effect=\"non-scaling-stroke\" x=\"7.195562e+02\" y=\"10\" dominant-baseline=\"hanging\" stroke=\"none\">8000</text><text stroke=\"none\" vector-effect=\"non-scaling-stroke\" x=\"7.384217e+02\" y=\"10\" dominant-baseline=\"hanging\">9000</text><text stroke=\"none\" vector-effect=\"non-scaling-stroke\" x=\"7.552975e+02\" y=\"10\" dominant-baseline=\"hanging\">10000</text><text x=\"8.663200e+02\" y=\"10\" dominant-baseline=\"hanging\" stroke=\"none\" vector-effect=\"non-scaling-stroke\">20000</text></g><g font-weight=\"bold\" font-size=\"12px\" dominant-baseline=\"baseline\" stroke-width=\"2px\" font-family=\"sans-serif\" stroke-linecap=\"round\" transform=\"translate(70 330 )scale(1 1 )rotate(0 0 0 )\" font-style=\"normal\" text-anchor=\"middle\" fill=\"black\" stroke=\"black\" stroke-linejoin=\"round\"><text stroke=\"none\" vector-effect=\"non-scaling-stroke\" x=\"442\" y=\"-6\" dominant-baseline=\"baseline\">Steps</text></g><g stroke-linecap=\"round\" stroke-linejoin=\"round\" font-size=\"12px\" text-anchor=\"middle\" stroke=\"black\" font-weight=\"bold\" font-style=\"normal\" font-family=\"sans-serif\" dominant-baseline=\"hanging\" fill=\"black\" stroke-width=\"2px\" transform=\"translate(70 330 )scale(1 1 )rotate(-90 0 0 )\"><text x=\"130\" y=\"6\" dominant-baseline=\"hanging\" stroke=\"none\" vector-effect=\"non-scaling-stroke\">accuracy</text></g><g stroke-linecap=\"round\" stroke-width=\"2px\" stroke-linejoin=\"round\" font-family=\"sans-serif\" dominant-baseline=\"hanging\" font-style=\"normal\" font-weight=\"bold\" fill=\"none\" stroke=\"black\" font-size=\"12px\" text-anchor=\"middle\"><rect x=\"70\" y=\"70\" width=\"884\" height=\"260\" vector-effect=\"non-scaling-stroke\"/><g dominant-baseline=\"middle\" fill=\"black\" font-size=\"18px\"><text stroke=\"none\" vector-effect=\"non-scaling-stroke\" x=\"512\" y=\"35\" dominant-baseline=\"middle\">accuracy metrics</text></g><g stroke-width=\"1px\" stroke-linejoin=\"round\" dominant-baseline=\"hanging\" stroke-linecap=\"round\" stroke=\"hsl(90, 47%, 65%)\" font-style=\"normal\" font-weight=\"normal\" font-family=\"sans-serif\" font-size=\"12px\" text-anchor=\"start\" fill=\"hsl(90, 47%, 65%)\"><rect x=\"76\" y=\"366\" width=\"12\" height=\"12\" vector-effect=\"non-scaling-stroke\"/><g fill=\"black\" stroke=\"black\"><text y=\"366\" dominant-baseline=\"hanging\" stroke=\"none\" vector-effect=\"non-scaling-stroke\" x=\"92\">Eval on batched train: Mean Accuracy</text></g><g stroke=\"hsl(301, 88%, 65%)\" stroke-width=\"1px\" stroke-linejoin=\"round\" font-family=\"sans-serif\" stroke-linecap=\"round\" fill=\"hsl(301, 88%, 65%)\" font-size=\"12px\" text-anchor=\"start\" dominant-baseline=\"hanging\" font-style=\"normal\" font-weight=\"normal\"><rect vector-effect=\"non-scaling-stroke\" x=\"76\" y=\"384\" width=\"12\" height=\"12\"/><g fill=\"black\" stroke=\"black\"><text dominant-baseline=\"hanging\" stroke=\"none\" vector-effect=\"non-scaling-stroke\" x=\"92\" y=\"384\">Eval on test: Mean Accuracy</text></g><g font-family=\"sans-serif\" text-anchor=\"start\" dominant-baseline=\"hanging\" fill=\"hsl(152, 76%, 65%)\" stroke-linecap=\"round\" font-style=\"normal\" stroke-linejoin=\"round\" font-size=\"12px\" stroke=\"hsl(152, 76%, 65%)\" stroke-width=\"1px\" font-weight=\"normal\"><rect vector-effect=\"non-scaling-stroke\" x=\"76\" y=\"402\" width=\"12\" height=\"12\"/><g stroke=\"black\" fill=\"black\"><text vector-effect=\"non-scaling-stroke\" x=\"92\" y=\"402\" dominant-baseline=\"hanging\" stroke=\"none\">Train: Moving Average Accuracy</text></g></g></g></g></g></svg>\n",
       "<svg height=\"454\" viewbox=\"0 0 1024 400\" style=\"background-color:#f8f8f8\" preserveAspectRatio=\"xMidYMid meet\" xmlns=\"http://www.w3.org/2000/svg\" width=\"1024\"><defs><marker viewBox=\"0 0 10 10 \" refX=\"5\" refY=\"5\" markerUnits=\"userSpaceOnUse\" markerWidth=\"2%\" markerHeight=\"2%\" id=\"circle\"><circle stroke=\"black\" cx=\"5\" cy=\"5\" r=\"3\" fill=\"none\"/></marker><marker refX=\"5\" refY=\"5\" markerUnits=\"userSpaceOnUse\" markerWidth=\"2%\" markerHeight=\"2%\" id=\"filled-circle\" viewBox=\"0 0 10 10 \"><circle stroke=\"none\" cx=\"5\" cy=\"5\" r=\"3\" fill=\"black\"/></marker><marker markerUnits=\"userSpaceOnUse\" markerWidth=\"2%\" markerHeight=\"2%\" id=\"square\" viewBox=\"0 0 10 10 \" refX=\"5\" refY=\"5\"><rect width=\"6\" height=\"6\" fill=\"none\" stroke=\"black\" x=\"2\" y=\"2\"/></marker><marker viewBox=\"0 0 10 10 \" refX=\"5\" refY=\"5\" markerUnits=\"userSpaceOnUse\" markerWidth=\"2%\" markerHeight=\"2%\" id=\"filled-square\"><rect height=\"6\" fill=\"black\" stroke=\"none\" x=\"2\" y=\"2\" width=\"6\"/></marker></defs><g stroke-linejoin=\"round\" fill=\"none\" marker-mid=\"url(#square)\" stroke=\"hsl(90, 47%, 65%)\" stroke-width=\"2px\" marker-end=\"url(#square)\" transform=\"translate(70 330 )scale(1 -1 )\" stroke-linecap=\"round\" marker-start=\"url(#square)\"><path vector-effect=\"non-scaling-stroke\" d=\"M1.768000e+01,2.416988e+02 L1.365173e+02,1.279491e+02 L2.093971e+02,1.071546e+02 L2.634977e+02,1.064717e+02 L3.073165e+02,8.343319e+01 L3.448334e+02,7.449014e+01 L3.779355e+02,7.221050e+01 L4.078967e+02,6.156576e+01 L4.355033e+02,5.157099e+01 L4.612687e+02,5.116152e+01 L4.855427e+02,4.611962e+01 L5.085726e+02,3.715551e+01 L5.306039e+02,2.986130e+01 L5.518045e+02,2.657756e+01 L5.722912e+02,2.409845e+01 L5.921466e+02,2.301616e+01 L6.114698e+02,2.205068e+01 L6.303266e+02,1.959466e+01 L6.442750e+02,2.714464e+01 L6.487916e+02,1.840634e+01 L6.669114e+02,1.767153e+01 L6.847383e+02,1.746939e+01 L7.023018e+02,1.954554e+01 L7.196363e+02,1.764528e+01 L7.367580e+02,1.513409e+01 L7.536877e+02,1.454969e+01 L7.704470e+02,1.445348e+01 L7.870558e+02,1.370876e+01 L8.035318e+02,1.350061e+01 L8.198887e+02,1.357452e+01 L8.361372e+02,1.240192e+01 L8.522929e+02,1.466427e+01 L8.663200e+02,1.348286e+01 \"/></g><g stroke=\"hsl(301, 88%, 65%)\" stroke-width=\"2px\" fill=\"none\" marker-mid=\"url(#square)\" marker-end=\"url(#square)\" transform=\"translate(70 330 )scale(1 -1 )\" stroke-linejoin=\"round\" stroke-linecap=\"round\" marker-start=\"url(#square)\"><path vector-effect=\"non-scaling-stroke\" d=\"M1.768000e+01,2.389475e+02 L1.365173e+02,1.242829e+02 L2.093971e+02,1.044266e+02 L2.634977e+02,1.036879e+02 L3.073165e+02,8.296112e+01 L3.448334e+02,7.422288e+01 L3.779355e+02,7.234528e+01 L4.078967e+02,6.309640e+01 L4.355033e+02,5.401043e+01 L4.612687e+02,5.464223e+01 L4.855427e+02,5.015373e+01 L5.085726e+02,4.147238e+01 L5.306039e+02,3.568631e+01 L5.518045e+02,3.287509e+01 L5.722912e+02,3.059044e+01 L5.921466e+02,2.984464e+01 L6.114698e+02,2.989958e+01 L6.303266e+02,2.729152e+01 L6.442750e+02,3.529336e+01 L6.487916e+02,2.657579e+01 L6.669114e+02,2.549785e+01 L6.847383e+02,2.554796e+01 L7.023018e+02,2.622484e+01 L7.196363e+02,2.579938e+01 L7.367580e+02,2.371309e+01 L7.536877e+02,2.350597e+01 L7.704470e+02,2.392600e+01 L7.870558e+02,2.393685e+01 L8.035318e+02,2.418322e+01 L8.198887e+02,2.434189e+01 L8.361372e+02,2.456592e+01 L8.522929e+02,2.708839e+01 L8.663200e+02,2.735798e+01 \"/></g><g stroke-width=\"2px\" marker-start=\"url(#square)\" marker-end=\"url(#square)\" fill=\"none\" stroke-linejoin=\"round\" stroke=\"hsl(152, 76%, 65%)\" stroke-linecap=\"round\" marker-mid=\"url(#square)\" transform=\"translate(70 330 )scale(1 -1 )\"><path vector-effect=\"non-scaling-stroke\" d=\"M1.768000e+01,2.548000e+02 L1.365173e+02,2.079666e+02 L2.093971e+02,1.424160e+02 L2.634977e+02,1.142133e+02 L3.073165e+02,9.881747e+01 L3.448334e+02,8.199129e+01 L3.779355e+02,7.648769e+01 L4.078967e+02,6.857879e+01 L4.355033e+02,5.602507e+01 L4.612687e+02,5.242772e+01 L4.855427e+02,4.321446e+01 L5.085726e+02,4.029220e+01 L5.306039e+02,3.038675e+01 L5.518045e+02,2.873408e+01 L5.722912e+02,2.816127e+01 L5.921466e+02,2.296524e+01 L6.114698e+02,2.598036e+01 L6.303266e+02,2.093519e+01 L6.442750e+02,2.015587e+01 L6.487916e+02,2.600269e+01 L6.669114e+02,1.835704e+01 L6.847383e+02,1.830752e+01 L7.023018e+02,1.882389e+01 L7.196363e+02,1.755768e+01 L7.367580e+02,1.873707e+01 L7.536877e+02,1.547383e+01 L7.704470e+02,1.810456e+01 L7.870558e+02,1.391726e+01 L8.035318e+02,5.200000e+00 L8.198887e+02,1.075283e+01 L8.361372e+02,1.536521e+01 L8.522929e+02,1.170089e+01 L8.663200e+02,5.755542e+00 \"/></g><g fill=\"none\" stroke-linecap=\"round\" transform=\"translate(70 330 )scale(1 -1 )\" stroke=\"black\" stroke-width=\"2px\" stroke-linejoin=\"round\"><path vector-effect=\"non-scaling-stroke\" d=\"M1.768000e+01,0 L1.768000e+01,-6 M1.287025e+02,0 L1.287025e+02,-6 M1.936465e+02,0 L1.936465e+02,-6 M2.397250e+02,0 L2.397250e+02,-6 M2.754663e+02,0 L2.754663e+02,-6 M3.046690e+02,0 L3.046690e+02,-6 M3.293596e+02,0 L3.293596e+02,-6 M3.507475e+02,0 L3.507475e+02,-6 M3.696130e+02,0 L3.696130e+02,-6 M3.864888e+02,0 L3.864888e+02,-6 M4.017547e+02,0 L4.017547e+02,-6 M4.975112e+02,0 L4.975112e+02,-6 M5.624552e+02,0 L5.624552e+02,-6 M6.085337e+02,0 L6.085337e+02,-6 M6.442750e+02,0 L6.442750e+02,-6 M6.734777e+02,0 L6.734777e+02,-6 M6.981683e+02,0 L6.981683e+02,-6 M7.195562e+02,0 L7.195562e+02,-6 M7.384217e+02,0 L7.384217e+02,-6 M7.552975e+02,0 L7.552975e+02,-6 M8.663200e+02,0 L8.663200e+02,-6 \"/></g><g font-weight=\"normal\" dominant-baseline=\"hanging\" stroke-width=\"2px\" transform=\"translate(70 330 )scale(1 1 )\" font-style=\"normal\" fill=\"black\" stroke-linecap=\"round\" stroke-linejoin=\"round\" font-size=\"12px\" text-anchor=\"middle\" stroke=\"black\" font-family=\"sans-serif\"><text vector-effect=\"non-scaling-stroke\" x=\"1.768000e+01\" y=\"10\" dominant-baseline=\"hanging\" stroke=\"none\">100</text><text stroke=\"none\" vector-effect=\"non-scaling-stroke\" x=\"1.287025e+02\" y=\"10\" dominant-baseline=\"hanging\">200</text><text stroke=\"none\" vector-effect=\"non-scaling-stroke\" x=\"1.936465e+02\" y=\"10\" dominant-baseline=\"hanging\">300</text><text stroke=\"none\" vector-effect=\"non-scaling-stroke\" x=\"2.397250e+02\" y=\"10\" dominant-baseline=\"hanging\">400</text><text vector-effect=\"non-scaling-stroke\" x=\"2.754663e+02\" y=\"10\" dominant-baseline=\"hanging\" stroke=\"none\">500</text><text dominant-baseline=\"hanging\" stroke=\"none\" vector-effect=\"non-scaling-stroke\" x=\"3.046690e+02\" y=\"10\">600</text><text stroke=\"none\" vector-effect=\"non-scaling-stroke\" x=\"3.293596e+02\" y=\"10\" dominant-baseline=\"hanging\">700</text><text dominant-baseline=\"hanging\" stroke=\"none\" vector-effect=\"non-scaling-stroke\" x=\"3.507475e+02\" y=\"10\">800</text><text vector-effect=\"non-scaling-stroke\" x=\"3.696130e+02\" y=\"10\" dominant-baseline=\"hanging\" stroke=\"none\">900</text><text vector-effect=\"non-scaling-stroke\" x=\"3.864888e+02\" y=\"10\" dominant-baseline=\"hanging\" stroke=\"none\">1000</text><text x=\"4.017547e+02\" y=\"10\" dominant-baseline=\"hanging\" stroke=\"none\" vector-effect=\"non-scaling-stroke\">1100</text><text vector-effect=\"non-scaling-stroke\" x=\"4.975112e+02\" y=\"10\" dominant-baseline=\"hanging\" stroke=\"none\">2000</text><text y=\"10\" dominant-baseline=\"hanging\" stroke=\"none\" vector-effect=\"non-scaling-stroke\" x=\"5.624552e+02\">3000</text><text y=\"10\" dominant-baseline=\"hanging\" stroke=\"none\" vector-effect=\"non-scaling-stroke\" x=\"6.085337e+02\">4000</text><text x=\"6.442750e+02\" y=\"10\" dominant-baseline=\"hanging\" stroke=\"none\" vector-effect=\"non-scaling-stroke\">5000</text><text x=\"6.734777e+02\" y=\"10\" dominant-baseline=\"hanging\" stroke=\"none\" vector-effect=\"non-scaling-stroke\">6000</text><text x=\"6.981683e+02\" y=\"10\" dominant-baseline=\"hanging\" stroke=\"none\" vector-effect=\"non-scaling-stroke\">7000</text><text dominant-baseline=\"hanging\" stroke=\"none\" vector-effect=\"non-scaling-stroke\" x=\"7.195562e+02\" y=\"10\">8000</text><text y=\"10\" dominant-baseline=\"hanging\" stroke=\"none\" vector-effect=\"non-scaling-stroke\" x=\"7.384217e+02\">9000</text><text dominant-baseline=\"hanging\" stroke=\"none\" vector-effect=\"non-scaling-stroke\" x=\"7.552975e+02\" y=\"10\">10000</text><text dominant-baseline=\"hanging\" stroke=\"none\" vector-effect=\"non-scaling-stroke\" x=\"8.663200e+02\" y=\"10\">20000</text></g><g font-family=\"sans-serif\" stroke=\"black\" font-size=\"12px\" font-weight=\"bold\" fill=\"black\" stroke-linecap=\"round\" stroke-width=\"2px\" stroke-linejoin=\"round\" text-anchor=\"middle\" dominant-baseline=\"baseline\" transform=\"translate(70 330 )scale(1 1 )rotate(0 0 0 )\" font-style=\"normal\"><text y=\"-6\" dominant-baseline=\"baseline\" stroke=\"none\" vector-effect=\"non-scaling-stroke\" x=\"442\">Steps</text></g><g transform=\"translate(70 330 )scale(1 -1 )\" font-family=\"sans-serif\" fill=\"black\" stroke-linecap=\"round\" stroke-linejoin=\"round\" font-weight=\"bold\" dominant-baseline=\"baseline\" stroke-width=\"2px\" font-style=\"normal\" font-size=\"12px\" text-anchor=\"middle\" stroke=\"black\"><path vector-effect=\"non-scaling-stroke\" d=\"M0,4.904413e+01 L-6,4.904413e+01 M0,1.428740e+02 L-6,1.428740e+02 M0,2.156541e+02 L-6,2.156541e+02 \"/></g><g dominant-baseline=\"middle\" stroke-width=\"2px\" font-style=\"normal\" fill=\"black\" stroke-linecap=\"round\" font-weight=\"normal\" text-anchor=\"end\" stroke=\"black\" stroke-linejoin=\"round\" font-family=\"sans-serif\" transform=\"translate(70 330 )scale(1 1 )\" font-size=\"12px\"><text y=\"-4.904413e+01\" dominant-baseline=\"middle\" stroke=\"none\" vector-effect=\"non-scaling-stroke\" x=\"-10\">0.300</text><text x=\"-10\" y=\"-1.428740e+02\" dominant-baseline=\"middle\" stroke=\"none\" vector-effect=\"non-scaling-stroke\">0.400</text><text dominant-baseline=\"middle\" stroke=\"none\" vector-effect=\"non-scaling-stroke\" x=\"-10\" y=\"-2.156541e+02\">0.500</text></g><g font-weight=\"bold\" dominant-baseline=\"hanging\" stroke=\"black\" stroke-linejoin=\"round\" fill=\"black\" stroke-linecap=\"round\" font-family=\"sans-serif\" text-anchor=\"middle\" stroke-width=\"2px\" font-size=\"12px\" font-style=\"normal\" transform=\"translate(70 330 )scale(1 1 )rotate(-90 0 0 )\"><text stroke=\"none\" vector-effect=\"non-scaling-stroke\" x=\"130\" y=\"6\" dominant-baseline=\"hanging\">loss</text></g><g fill=\"black\" transform=\"translate(70 330 )scale(1 -1 )\" font-weight=\"bold\" stroke-width=\"0.5px\" stroke-linejoin=\"round\" font-size=\"12px\" font-style=\"normal\" font-family=\"sans-serif\" text-anchor=\"middle\" dominant-baseline=\"hanging\" stroke=\"gray\" stroke-linecap=\"round\"><path d=\"M0,4.904413e+01 L884,4.904413e+01 M0,1.428740e+02 L884,1.428740e+02 M0,2.156541e+02 L884,2.156541e+02 \" vector-effect=\"non-scaling-stroke\"/></g><g stroke-linecap=\"round\" font-family=\"sans-serif\" fill=\"none\" dominant-baseline=\"hanging\" stroke=\"black\" font-style=\"normal\" stroke-width=\"2px\" stroke-linejoin=\"round\" font-size=\"12px\" font-weight=\"bold\" text-anchor=\"middle\"><rect vector-effect=\"non-scaling-stroke\" x=\"70\" y=\"70\" width=\"884\" height=\"260\"/><g dominant-baseline=\"middle\" font-size=\"18px\" fill=\"black\"><text dominant-baseline=\"middle\" stroke=\"none\" vector-effect=\"non-scaling-stroke\" x=\"512\" y=\"35\">loss metrics</text></g><g stroke-linecap=\"round\" font-style=\"normal\" dominant-baseline=\"hanging\" stroke-linejoin=\"round\" font-weight=\"normal\" text-anchor=\"start\" fill=\"hsl(90, 47%, 65%)\" font-family=\"sans-serif\" stroke=\"hsl(90, 47%, 65%)\" stroke-width=\"1px\" font-size=\"12px\"><rect height=\"12\" vector-effect=\"non-scaling-stroke\" x=\"76\" y=\"366\" width=\"12\"/><g fill=\"black\" stroke=\"black\"><text y=\"366\" dominant-baseline=\"hanging\" stroke=\"none\" vector-effect=\"non-scaling-stroke\" x=\"92\">Eval on batched train: Mean Loss</text></g><g stroke-linejoin=\"round\" font-weight=\"normal\" text-anchor=\"start\" dominant-baseline=\"hanging\" stroke-width=\"1px\" stroke=\"hsl(301, 88%, 65%)\" font-family=\"sans-serif\" font-style=\"normal\" fill=\"hsl(301, 88%, 65%)\" stroke-linecap=\"round\" font-size=\"12px\"><rect vector-effect=\"non-scaling-stroke\" x=\"76\" y=\"384\" width=\"12\" height=\"12\"/><g stroke=\"black\" fill=\"black\"><text x=\"92\" y=\"384\" dominant-baseline=\"hanging\" stroke=\"none\" vector-effect=\"non-scaling-stroke\">Eval on test: Mean Loss</text></g><g text-anchor=\"start\" dominant-baseline=\"hanging\" stroke=\"hsl(152, 76%, 65%)\" stroke-width=\"1px\" stroke-linejoin=\"round\" fill=\"hsl(152, 76%, 65%)\" font-size=\"12px\" font-weight=\"normal\" stroke-linecap=\"round\" font-family=\"sans-serif\" font-style=\"normal\"><rect vector-effect=\"non-scaling-stroke\" x=\"76\" y=\"402\" width=\"12\" height=\"12\"/><g stroke=\"black\" fill=\"black\"><text stroke=\"none\" vector-effect=\"non-scaling-stroke\" x=\"92\" y=\"402\" dominant-baseline=\"hanging\">Train: Moving Average Loss</text></g></g></g></g></g></svg>"
      ]
     },
     "metadata": {},
     "output_type": "display_data"
    },
    {
     "name": "stdout",
     "output_type": "stream",
     "text": [
      "Training (15000 steps):  100% [\u001b[32m=\u001b[0m\u001b[32m=\u001b[0m\u001b[32m=\u001b[0m\u001b[32m=\u001b[0m\u001b[32m=\u001b[0m\u001b[32m=\u001b[0m\u001b[32m=\u001b[0m\u001b[32m=\u001b[0m\u001b[32m=\u001b[0m\u001b[32m=\u001b[0m\u001b[32m=\u001b[0m\u001b[32m=\u001b[0m\u001b[32m=\u001b[0m\u001b[32m=\u001b[0m\u001b[32m=\u001b[0m\u001b[32m=\u001b[0m\u001b[32m=\u001b[0m\u001b[32m=\u001b[0m\u001b[32m=\u001b[0m\u001b[32m=\u001b[0m\u001b[32m=\u001b[0m\u001b[32m=\u001b[0m\u001b[32m=\u001b[0m\u001b[32m=\u001b[0m\u001b[32m=\u001b[0m\u001b[32m=\u001b[0m\u001b[32m=\u001b[0m\u001b[32m=\u001b[0m\u001b[32m=\u001b[0m\u001b[32m=\u001b[0m\u001b[32m=\u001b[0m\u001b[32m=\u001b[0m\u001b[32m=\u001b[0m\u001b[32m=\u001b[0m\u001b[32m=\u001b[0m\u001b[32m=\u001b[0m\u001b[32m=\u001b[0m\u001b[32m=\u001b[0m\u001b[32m=\u001b[0m\u001b[32m=\u001b[0m] (766 steps/s)\u001b[0m [loss=0.295] [~loss=0.263] [~acc=87.72%]        \n",
      "\n",
      "[saving checkpoint@20000] [median train step (ms): 0]\n",
      "\t[Step 20000] median train step: 933 microseconds\n",
      "\n",
      "Results on batched train:\n",
      "\tMean Loss (#loss): 0.269\n",
      "\tMean Accuracy (#acc): 87.36%\n",
      "Results on test:\n",
      "\tMean Loss (#loss): 0.281\n",
      "\tMean Accuracy (#acc): 87.20%\n",
      "\n"
     ]
    }
   ],
   "source": [
    "%% --steps=15000 --checkpoint base_model\n",
    "trainModel()"
   ]
  }
 ],
 "metadata": {
  "kernelspec": {
   "display_name": "Go (gonb)",
   "language": "go",
   "name": "gonb"
  },
  "language_info": {
   "codemirror_mode": "",
   "file_extension": ".go",
   "mimetype": "",
   "name": "go",
   "nbconvert_exporter": "",
   "pygments_lexer": "",
   "version": "go1.20.5"
  }
 },
 "nbformat": 4,
 "nbformat_minor": 5
}
