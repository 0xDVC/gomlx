{
 "cells": [
  {
   "cell_type": "markdown",
   "id": "546fa208-c19c-405b-81b1-cf99fcb4a830",
   "metadata": {
    "tags": []
   },
   "source": [
    "# UCI Adult Dataset or Census Income\n",
    "\n",
    "This is a very popular ML task, with tabular data. The objective is to predict whether income exceeds $50K/yr based on census data. \n",
    "Also known as \"Census Income\" dataset.\n",
    "\n",
    "The data is old and biased on different ways ... but it can be used opaquely for ML experimentation.\n",
    "\n"
   ]
  },
  {
   "cell_type": "markdown",
   "id": "2ab071e3-227f-4c77-b864-2b7e5a5ccbdf",
   "metadata": {},
   "source": [
    "## Environment Set Up\n",
    "\n",
    "Let's set up `go.mod` to use the local copy of GoMLX, so it can be developed jointly the dataset code with the model. That's often how data pre-processing and model code is developed together with experimentation.\n",
    "\n",
    "If you are not changing code, feel free to simply skip this cell. Or if you used a different directory for you projects, change it below.\n",
    "\n",
    "Notice the directory `${HOME}/Projects/gomlx` is where the GoMLX code is copied by default in [its Docker](https://hub.docker.com/repository/docker/janpfeifer/gomlx_jupyterlab/general)."
   ]
  },
  {
   "cell_type": "code",
   "execution_count": 1,
   "id": "9ba46cb6-059d-4387-876c-665f778f2447",
   "metadata": {
    "tags": []
   },
   "outputs": [],
   "source": [
    "!*go mod edit -replace github.com/gomlx/gomlx=\"${HOME}/Projects/gomlx\""
   ]
  },
  {
   "cell_type": "markdown",
   "id": "78cf991f-4fa5-4bae-8e49-ca67fb8dbd5b",
   "metadata": {},
   "source": [
    "## Data Preparation\n",
    "\n",
    "GoMLX provides [a simple `adult` library](https://pkg.go.dev/github.com/gomlx/gomlx/examples/adult) to facilitate downdoaling and preprocessing the data. Data is available in [UCI Machine Learning Repository](https://archive.ics.uci.edu/ml/datasets/Adult).\n",
    "\n",
    "After downloading the data and validating the checksum (both training and testing), it generates the quantiles for the continuous features, and the vocabularies for the categorical features. It saves all this info for faster restart later in a binary file. So this won't be necessary a second time.\n",
    "\n",
    "The quantiles are used to calibrate the values, using a piece-wise-lienar calibration, very good for these things. See [`layers.PieceWiseLinearCalibration` documentation](https://pkg.go.dev/github.com/gomlx/gomlx@v0.1.0/ml/layers#PieceWiseLinearCalibration).\n",
    "\n",
    "We create a flag `--data` to define the directory where to save the intermediary files: downloaded and preprocessed datasets.\n",
    "In this examle we set it to `~/work/uci-adult`. Verbosity can be contolled with the `--verbosity` flag. \n",
    "\n",
    "We set default in Go for these flags, but they can easily be reset for a new run by providing them after the `%%` Jupyter kernel meta-command -- in indicates that the subsequent lines should be put in to a `func main`.\n"
   ]
  },
  {
   "cell_type": "code",
   "execution_count": 2,
   "id": "9418be86-70bc-41ad-9e0a-3a5e6bf52b51",
   "metadata": {
    "tags": []
   },
   "outputs": [
    {
     "name": "stdout",
     "output_type": "stream",
     "text": [
      "\n",
      "Sample Categorical: (24.08% positive ratio, 23.86% weighted positive ratio)\n",
      "\tRow 0:\t[7 10 5 1 2 5 2 39]\n",
      "\tRow 1:\t[6 10 3 4 1 5 2 39]\n",
      "\tRow 2:\t[4 12 1 6 2 5 2 39]\n",
      "\t...\n",
      "\tRow 32558:\t[4 12 7 1 5 5 1 39]\n",
      "\tRow 32559:\t[4 12 5 1 4 5 2 39]\n",
      "\tRow 32560:\t[5 12 3 4 6 5 1 39]\n",
      "\n",
      "Sample Continuous:\n",
      "\tRow 0:\t[39 13 2174 0 40]\n",
      "\tRow 1:\t[50 13 0 0 13]\n",
      "\tRow 2:\t[38 9 0 0 40]\n",
      "\t...\n",
      "\tRow 32558:\t[58 9 0 0 40]\n",
      "\tRow 32559:\t[22 9 0 0 20]\n",
      "\tRow 32560:\t[52 9 15024 0 40]\n"
     ]
    }
   ],
   "source": [
    "import (\n",
    "    \"flag\"\n",
    "    \n",
    "    \"github.com/gomlx/gomlx/examples/adult\"\n",
    ")\n",
    "\n",
    "var (\n",
    "\tflagDataDir        = flag.String(\"data\", \"~/work/uci-adult\", \"Directory to save and load downloaded and generated dataset files.\")\n",
    "    flagVerbosity = flag.Int(\"verbosity\", 0, \"Level of verbosity, the higher the more verbose.\")\n",
    "    flagForceDownload  = flag.Bool(\"force_download\", false, \"Force re-download of Adult dataset files.\")\n",
    "    flagNumQuantiles    = flag.Int(\"quantiles\", 100, \"Max number of quantiles to use for numeric features, used during piece-wise linear calibration. It will only use unique values, so if there are fewer variability, fewer quantiles are used.\")\n",
    ")\n",
    "\n",
    "%% --verbosity=2\n",
    "adult.LoadAndPreprocessData(*flagDataDir, *flagNumQuantiles, *flagForceDownload, *flagVerbosity)"
   ]
  },
  {
   "cell_type": "code",
   "execution_count": 3,
   "id": "fdab7255-2224-496a-9ec7-75927150f9d7",
   "metadata": {
    "tags": []
   },
   "outputs": [
    {
     "name": "stdout",
     "output_type": "stream",
     "text": [
      "total 7.0M\n",
      "-rw-r--r-- 1 janpf janpf 3.8M Mar 21 09:14 adult.data\n",
      "-rw-r--r-- 1 janpf janpf 1.3M Mar 21 09:14 adult_data-100_quantiles.bin\n",
      "-rw-r--r-- 1 janpf janpf 2.0M Mar 21 09:14 adult.test\n"
     ]
    }
   ],
   "source": [
    "!ls -lh ~/work/uci-adult"
   ]
  },
  {
   "cell_type": "markdown",
   "id": "028b783b-56f0-457c-b28e-7bb0dd7e94da",
   "metadata": {},
   "source": [
    "### Creating Datasets\n",
    "\n",
    "First we create the GoMLX's `Manager`: it's the object that manages the underlying XLA\n",
    "setup, connection and execution. It's needed to create tensors.\n",
    "\n",
    "With that we create the samplers of data that we will use to train and evaluate. They implement \n",
    "GoMLX's `train.Dataset` interface, which is what is used by our training loop to draw batches to\n",
    "train, or our eval loop to draw batches to evaluate.\n",
    "\n",
    "The inputs are 3 tensors: *categorical values*, *continuous values* and *weights*.\n",
    "\n",
    "In the cell below we define the `Manager` flags, `BuildSamplers` and printout some samples."
   ]
  },
  {
   "cell_type": "code",
   "execution_count": 4,
   "id": "f13f771b-7109-49d2-8db5-5f3d5a91d324",
   "metadata": {
    "tags": []
   },
   "outputs": [
    {
     "name": "stdout",
     "output_type": "stream",
     "text": [
      "Inputs of batch (size 128):\n",
      "\tcategorical:\n",
      "\t\tFeatures=[workclass education marital-status occupation relationship race sex native-country]\n",
      "\t\tValues: (Int64)[128 8]: (... too large, 1024 values ..., first 16 values: [4 12 3 3 1 5 2 39 4 10 3 12 1 5 2 39])\n",
      "\tcontinuous:\n",
      "\t\tFeatures=[age education-num capital-gain capital-loss hours-per-week]\n",
      "\t\tValues: (Float32)[128 5]: (... too large, 640 values ..., first 10 values: [40 9 0 0 40 32 13 0 1977 45])\n",
      "\tweights: (Float32)[128 1]: (... too large, 128 values ..., first 5 values: [176286 195602 117849 226891 211334])\n",
      "\n",
      "Labels of batch:\n",
      "\t(Float32)[128 1]: (... too large, 128 values ..., first 10 values: [0 1 1 0 0 0 1 0 1 1])\n",
      "\n",
      "Labels distributions:\n",
      "\tTrain:\t24.08% positive\n",
      "\tTest:\t23.62% positive\n"
     ]
    }
   ],
   "source": [
    "import (\n",
    "    \"flag\"\n",
    "    \"fmt\"\n",
    "    \"io\"\n",
    "\n",
    "    . \"github.com/gomlx/gomlx/graph\"\n",
    "    \"github.com/gomlx/gomlx/examples/adult\"\n",
    "    \"github.com/gomlx/gomlx/ml/train\"\n",
    ")\n",
    "\n",
    "var (\n",
    "    flagNumThreads     = flag.Int(\"num_threads\", -1, \"Number of threads for XLA. Leave as -1 to use as many as there are cores.\")\n",
    "    flagNumReplicas    = flag.Int(\"num_replicas\", 1, \"Number of replicas for XLA. Leave as 1 for now.\")\n",
    "    flagPlatform       = flag.String(\"platform\", \"\", \"Platform to use, if empty uses the default one. Usually 'Host' \"+\n",
    "                                     \"(for CPU), 'CUDA' (for CPU) or 'TPU'\")\n",
    "    flagBatchSize      = flag.Int(\"batch\", 128, \"BatchSampler size for training\")\n",
    ")\n",
    "\n",
    "// BuildDatasets returns 3 `train.Dataset`:\n",
    "// * trainingSampler is an endless random sampler used for training.\n",
    "// * trainingEvalSampler samples through exactly one epoch of the train dataset.\n",
    "// * testEvalSampler samples through exactly one epoch of the test dataset.\n",
    "func BuildDatasets(manager *Manager) (trainingDS, trainingEvalDS, testEvalDS train.Dataset) {\n",
    "    trainingDS = adult.NewDataset(\"batched train\", adult.Data.Train, manager, *flagBatchSize)\n",
    "    trainingEvalDS = adult.NewDataset(\"train\", adult.Data.Train, manager, -1)\n",
    "    testEvalDS = adult.NewDataset(\"test\", adult.Data.Test, manager, -1)\n",
    "    return\n",
    "}\n",
    "\n",
    "// AssertNoError checks that err is nil, otherwise if `log.Fatal` with the error message.\n",
    "func AssertNoError(err error) {\n",
    "    if err != nil {\n",
    "        log.Fatalf(\"Failed: %+v\", err)\n",
    "    }\n",
    "}\n",
    "\n",
    "// PositiveRatio finds out the the ratio of positive labels in the\n",
    "// training and testing data.\n",
    "//\n",
    "// We could do this easily with GoMLX computation model (just `ReduceAllSum`), but\n",
    "// this examples shows it's also ok to mix Go computations.\n",
    "func PositiveRatio(ds train.Dataset) float32 {\n",
    "    ds.Reset()  // Start from beginning.\n",
    "    var sum float32\n",
    "    var count float32\n",
    "    for {\n",
    "        _, _, labels, err := ds.Yield()\n",
    "        if err == io.EOF {\n",
    "            break;\n",
    "        }\n",
    "        AssertNoError(err)\n",
    "        data := tensor.Data[float32](labels[0].Local())\n",
    "        for _, value := range data {\n",
    "            sum += value\n",
    "        }\n",
    "        count += float32(len(data))\n",
    "    }\n",
    "    return sum/count\n",
    "}\n",
    "\n",
    "%%\n",
    "adult.LoadAndPreprocessData(*flagDataDir, *flagNumQuantiles, *flagForceDownload, *flagVerbosity)    \n",
    "manager := BuildManager().NumThreads(*flagNumThreads).NumReplicas(*flagNumReplicas).Platform(*flagPlatform).MustDone()\n",
    "trainingDS, trainingEvalDS, testEvalDS := BuildDatasets(manager)\n",
    "\n",
    "// Take one batch.\n",
    "_, inputs, labels, err := trainingDS.Yield()\n",
    "AssertNoError(err)\n",
    "fmt.Printf(\"Inputs of batch (size %d):\\n\", *flagBatchSize)\n",
    "fmt.Printf(\"\\tcategorical:\\n\\t\\tFeatures=%v\\n\", adult.Data.VocabulariesFeatures)\n",
    "fmt.Printf(\"\\t\\tValues: %s\\n\", inputs[0].Local().StringN(16))\n",
    "fmt.Printf(\"\\tcontinuous:\\n\\t\\tFeatures=%v\\n\", adult.Data.QuantilesFeatures)\n",
    "fmt.Printf(\"\\t\\tValues: %s\\n\", inputs[1].Local().StringN(10))\n",
    "fmt.Printf(\"\\tweights: %s\\n\", inputs[2].Local().StringN(5))\n",
    "fmt.Printf(\"\\nLabels of batch:\\n\\t%s\\n\", labels[0].Local().StringN(10))\n",
    "\n",
    "fmt.Printf(\"\\nLabels distributions:\\n\\tTrain:\\t%.2f%% positive\\n\\tTest:\\t%.2f%% positive\\n\",\n",
    "           PositiveRatio(trainingEvalDS)*100.0, PositiveRatio(testEvalDS)*100.0)\n"
   ]
  },
  {
   "cell_type": "markdown",
   "id": "54efd046-bbd5-4f7d-94e0-9ed3c64512b1",
   "metadata": {},
   "source": [
    "## Model Definition\n",
    "\n",
    "Lots of hyper-parameter flags, but otherwise a straight forward FNN, using piece-wise linear calibration of the continuous features, and embeddings for the categorical features.\n",
    "\n",
    "> **Note**: building models is a constant checking that shapes are compatible. It's a bit annoying, in particular because shapes are known in runtime only -- no compile time check. GoMLX tries to help providing a stack trace of where errors happen so one can pin-point issues quickly. But often it involves lots of experimentation (more than ordinary Go code).\n",
    ">\n",
    "> Developing with a Noteboook (see [GoNB](https://github.com/janpfeifer/gonb)) or simply a unit test on your `ModelGraph` function are quick/convenient ways to develop models -- before actually training them."
   ]
  },
  {
   "cell_type": "code",
   "execution_count": 5,
   "id": "7040e63b-33f1-4ff9-a232-187196c5f9c1",
   "metadata": {
    "tags": []
   },
   "outputs": [
    {
     "name": "stdout",
     "output_type": "stream",
     "text": [
      "Logits shape for batch_size=128: (Float32)[128 1]\n"
     ]
    }
   ],
   "source": [
    "import (\n",
    "    \"fmt\"\n",
    "    \"io\"\n",
    "\n",
    "    . \"github.com/gomlx/gomlx/graph\"\n",
    "\n",
    "    \"github.com/gomlx/gomlx/ml/context\"\n",
    "    \"github.com/gomlx/gomlx/examples/adult\"\n",
    "    \"github.com/gomlx/gomlx/ml/train\"\n",
    "    \"github.com/gomlx/gomlx/ml/train/optimizers\"\n",
    "    \"github.com/gomlx/gomlx/types/shapes\"\n",
    ")\n",
    "\n",
    "var (\n",
    "    // ModelDType used for the model. Must match RawData Go types.\n",
    "    ModelDType = shapes.Float32\n",
    "    \n",
    "    // Model hyperparameters.\n",
    "    flagUseCategorical       = flag.Bool(\"use_categorical\", true, \"Use categorical features.\")\n",
    "    flagUseContinuous        = flag.Bool(\"use_continuous\", true, \"Use continuous features.\")\n",
    "    flagTrainableCalibration = flag.Bool(\"trainable_calibration\", true, \"Allow piece-wise linear calibration to adjust outputs.\")\n",
    "    flagEmbeddingDim    = flag.Int(\"embedding_dim\", 8, \"Default embedding dimension for categorical values.\")\n",
    "    flagNumHiddenLayers = flag.Int(\"hidden_layers\", 8, \"Number of hidden layers, stacked with residual connection.\")\n",
    "    flagNumNodes        = flag.Int(\"num_nodes\", 32, \"Number of nodes in hidden layers.\")\n",
    "    flagDropoutRate     = flag.Float64(\"dropout\", 0, \"Dropout rate\")\n",
    "    \n",
    "    // Training parameter, referenced here.\n",
    "    flagLearningRate    = flag.Float64(\"learning_rate\", 0.001, \"Initial learning rate.\")\n",
    "    flagNumSteps       = flag.Int(\"steps\", 5000, \"Number of gradient descent steps to perform\")\n",
    ")\n",
    "\n",
    "\n",
    "// ModelGraph outputs the logits (not the probabilities). The parameter inputs should contain 3 tensors:\n",
    "//\n",
    "// - categorical inputs, shaped  `(int64)[batch_size, len(VocabulariesFeatures)]`\n",
    "// - continuous inputs, shaped `(float32)[batch_size, len(Quantiles)]`\n",
    "// - weights: not currently used, but shaped `(float32)[batch_size, 1]`.\n",
    "func ModelGraph(ctx *context.Context, spec any, inputs []*Node) []*Node {\n",
    "    _ = spec // Not used, since the dataset is always the same.\n",
    "    g := inputs[0].Graph()\n",
    "    \n",
    "    // Use Cosine schedule of the learning rate.\n",
    "    optimizers.CosineAnnealingSchedule(ctx, g, ModelDType).\n",
    "        PeriodInSteps(*flagNumSteps/3).Done()\n",
    "    \n",
    "    categorical, continuous := inputs[0], inputs[1]\n",
    "    batchSize := categorical.Shape().Dimensions[0]\n",
    "    \n",
    "    var allEmbeddings []*Node\n",
    "    graph := categorical.Graph()\n",
    "\n",
    "    if *flagUseCategorical {\n",
    "        // Embedding of categorical values, each with its own vocabulary.\n",
    "        numCategorical := categorical.Shape().Dimensions[1]\n",
    "        for catIdx := 0; catIdx < numCategorical; catIdx++ {\n",
    "            // Take one column at a time of the categorical values.\n",
    "            split := Slice(categorical, AxisRange(), AxisRange(catIdx, catIdx+1))\n",
    "            // Embed it accordingly.\n",
    "            embedCtx := ctx.In(fmt.Sprintf(\"categorical_%d_%s\", catIdx, adult.Data.VocabulariesFeatures[catIdx]))\n",
    "            vocab := adult.Data.Vocabularies[catIdx]\n",
    "            vocabSize := len(vocab)\n",
    "            embedding := layers.Embedding(embedCtx, split, ModelDType, vocabSize, *flagEmbeddingDim)\n",
    "            if !embedding.AssertDims(batchSize, *flagEmbeddingDim) {  // 2-dim tensor, with batch size as the leading dimension.\n",
    "                return nil\n",
    "            }\n",
    "            allEmbeddings = append(allEmbeddings, embedding)\n",
    "        }\n",
    "    }\n",
    "\n",
    "    if *flagUseContinuous {\n",
    "        // Piecewise-linear calibration of the continuous values. Each feature has its own number of quantiles.\n",
    "        numContinuous := continuous.Shape().Dimensions[1]\n",
    "        for contIdx := 0; contIdx < numContinuous; contIdx++ {\n",
    "            // Take one column at a time of the continuous values.\n",
    "            split := Slice(continuous, AxisRange(), AxisRange(contIdx, contIdx+1))\n",
    "            featureName := adult.Data.QuantilesFeatures[contIdx]\n",
    "            calibrationCtx := ctx.In(fmt.Sprintf(\"continuous_%d_%s\", contIdx, featureName))\n",
    "            quantiles := adult.Data.Quantiles[contIdx]\n",
    "            if err := layers.ValidateQuantilesForPWLCalibration(quantiles); err != nil {\n",
    "                graph.SetError(errors.Wrapf(err, \"quantile for features %q invalid\", featureName))\n",
    "                return nil\n",
    "            }\n",
    "            calibrated := layers.PieceWiseLinearCalibration(calibrationCtx, split, Const(graph, quantiles), *flagTrainableCalibration)\n",
    "            if !calibrated.AssertDims(batchSize, 1) { // 2-dim tensor, with batch size as the leading dimension.\n",
    "                return nil\n",
    "            }\n",
    "            allEmbeddings = append(allEmbeddings, calibrated)\n",
    "        }\n",
    "    }\n",
    "\n",
    "    layer := Concatenate(allEmbeddings, -1)\n",
    "    if !layer.AssertDims(batchSize, -1) { // 2-dim tensor, with batch size as the leading dimension.\n",
    "        return nil\n",
    "    }\n",
    "    \n",
    "    layer = layers.DenseWithBias(ctx.In(fmt.Sprintf(\"DenseLayer_%d\", 0)), layer, *flagNumNodes)\n",
    "    for ii := 1; ii < *flagNumHiddenLayers; ii++ {\n",
    "        ctx := ctx.In(fmt.Sprintf(\"DenseLayer_%d\", ii))\n",
    "        // Add layer with residual connection.\n",
    "        tmp := Sigmoid(layer)\n",
    "        if *flagDropoutRate > 0 {\n",
    "            tmp = layers.Dropout(ctx, tmp, Const(graph, shapes.CastAsDType(*flagDropoutRate, ModelDType)))\n",
    "        }\n",
    "        tmp = layers.DenseWithBias(ctx, tmp, *flagNumNodes)\n",
    "        layer = Add(layer, tmp)  // Residual connections\n",
    "    }\n",
    "    layer = Sigmoid(layer)\n",
    "    logits := layers.DenseWithBias(ctx.In(\"DenseFinal\"), layer, 1)\n",
    "    if !logits.AssertDims(batchSize, 1) { // 2-dim tensor, with batch size as the leading dimension.\n",
    "        return nil\n",
    "    }\n",
    "    return []*Node{logits}\n",
    "}\n",
    "\n",
    "%% --platform=Host\n",
    "adult.LoadAndPreprocessData(*flagDataDir, *flagNumQuantiles, *flagForceDownload, *flagVerbosity)    \n",
    "manager := BuildManager().NumThreads(*flagNumThreads).NumReplicas(*flagNumReplicas).Platform(*flagPlatform).MustDone()\n",
    "\n",
    "// Let's just check that we get the right shape from the model function, wihtout any real data.\n",
    "graph := manager.NewGraph(\"test\")\n",
    "ctx := context.NewContext(manager)\n",
    "ctx.SetParam(optimizers.LearningRateKey, *flagLearningRate)\n",
    "\n",
    "inputs := []*Node{\n",
    "    // Categorical: shaped [batch_size, num_categorical]\n",
    "    graph.Parameter(\"categorical\", shapes.Make(shapes.Int64, *flagBatchSize, len(adult.Data.VocabulariesFeatures))),\n",
    "    // Continuous: shaped [batch_size, num_continuos]\n",
    "    graph.Parameter(\"continuous\", shapes.Make(shapes.Float32, *flagBatchSize, len(adult.Data.QuantilesFeatures))),\n",
    "    // Weights: shaped [batch_size, 1]\n",
    "    graph.Parameter(\"weights\", shapes.Make(shapes.Float32, *flagBatchSize, 1)),    \n",
    "}\n",
    "logits := ModelGraph(ctx, nil, inputs)\n",
    "AssertNoError(graph.Error())\n",
    "AssertNoError(ctx.Error())\n",
    "fmt.Printf(\"Logits shape for batch_size=%d: %s\\n\", *flagBatchSize, logits[0].Shape())"
   ]
  },
  {
   "cell_type": "markdown",
   "id": "618e1c7a-ced1-4914-8530-0924e02f095c",
   "metadata": {},
   "source": [
    "## Training Loop\n",
    "\n",
    "We can create a training loop with only a `Manager`, a `Context` (for the model varibles) and the `ModelGraph` function.\n",
    "\n",
    "To make it more interesting we also add the following:\n",
    "\n",
    "* Accuracy metrics for training and testing.\n",
    "* Checkpoints -- so trained model can be saved, and reloaded.\n",
    "* A progress-bar that also shows training metrics.\n",
    "* We dynamically plot how the loss and accuracy evolve.\n",
    "\n",
    "First we define the corresponding flags and the `trainModel` function, and run it for very few steps to make sure\n",
    "it is working."
   ]
  },
  {
   "cell_type": "code",
   "execution_count": 6,
   "id": "daf39a7c-7cc8-43a5-ae79-026303f5f502",
   "metadata": {
    "tags": []
   },
   "outputs": [
    {
     "name": "stdout",
     "output_type": "stream",
     "text": [
      "Training (500 steps):  100% [\u001b[32m=\u001b[0m\u001b[32m=\u001b[0m\u001b[32m=\u001b[0m\u001b[32m=\u001b[0m\u001b[32m=\u001b[0m\u001b[32m=\u001b[0m\u001b[32m=\u001b[0m\u001b[32m=\u001b[0m\u001b[32m=\u001b[0m\u001b[32m=\u001b[0m\u001b[32m=\u001b[0m\u001b[32m=\u001b[0m\u001b[32m=\u001b[0m\u001b[32m=\u001b[0m\u001b[32m=\u001b[0m\u001b[32m=\u001b[0m\u001b[32m=\u001b[0m\u001b[32m=\u001b[0m\u001b[32m=\u001b[0m\u001b[32m=\u001b[0m\u001b[32m=\u001b[0m\u001b[32m=\u001b[0m\u001b[32m=\u001b[0m\u001b[32m=\u001b[0m\u001b[32m=\u001b[0m\u001b[32m=\u001b[0m\u001b[32m=\u001b[0m\u001b[32m=\u001b[0m\u001b[32m=\u001b[0m\u001b[32m=\u001b[0m\u001b[32m=\u001b[0m\u001b[32m=\u001b[0m\u001b[32m=\u001b[0m\u001b[32m=\u001b[0m\u001b[32m=\u001b[0m\u001b[32m=\u001b[0m\u001b[32m=\u001b[0m\u001b[32m=\u001b[0m\u001b[32m=\u001b[0m\u001b[32m=\u001b[0m] (212 steps/s)\u001b[0m [loss=0.329] [~loss=0.359] [~acc=84.18%]        \n",
      "\n",
      "Results on train:\n",
      "\tMean Loss (#loss): 0.344\n",
      "\tMean Accuracy (#acc): 84.45%\n",
      "Results on test:\n",
      "\tMean Loss (#loss): 0.341\n",
      "\tMean Accuracy (#acc): 84.77%\n",
      "\n"
     ]
    }
   ],
   "source": [
    "import (\n",
    "    \"fmt\"\n",
    "    \"io\"\n",
    "    \"time\"\n",
    "\n",
    "    . \"github.com/gomlx/gomlx/graph\"\n",
    "\n",
    "    \"github.com/gomlx/gomlx/examples/adult\"\n",
    "    \"github.com/gomlx/gomlx/examples/notebook/gonb/margaid\"\n",
    "    \"github.com/gomlx/gomlx/ml/context\"\n",
    "    \"github.com/gomlx/gomlx/ml/train\"\n",
    "    \"github.com/gomlx/gomlx/types/shapes\"\n",
    "    \"github.com/gomlx/gomlx/types/slices\"\n",
    "    \"github.com/gomlx/gomlx/types/tensor\"\n",
    "    \"github.com/janpfeifer/gonb/gonbui\"\n",
    ")\n",
    "\n",
    "var (\n",
    "    flagOptimizer       = flag.String(\"optimizer\", \"adam\", \"Type of optimizer to use: 'sgd' or 'adam'\")\n",
    "    flagLearningRate    = flag.Float64(\"learning_rate\", 0.001, \"Initial learning rate.\")\n",
    "    flagCheckpoint     = flag.String(\"checkpoint\", \"\", \"Directory save and load checkpoints from. If left empty, no checkpoints are created.\")\n",
    "    flagCheckpointKeep = flag.Int(\"checkpoint_keep\", 10, \"Number of checkpoints to keep, if --checkpoint is set.\")\n",
    "    flagNumPlotPoints = flag.Int(\"plot_points\", 10, \"Number points to plot using Chart.JS.\")\n",
    ")\n",
    "\n",
    "func trainModel() {\n",
    "    manager := BuildManager().NumThreads(*flagNumThreads).NumReplicas(*flagNumReplicas).Platform(*flagPlatform).MustDone()\n",
    "    adult.LoadAndPreprocessData(*flagDataDir, *flagNumQuantiles, *flagForceDownload, *flagVerbosity)    \n",
    "    trainingDS, trainingEvalDS, testEvalDS := BuildDatasets(manager)\n",
    "\n",
    "    // Context holds the variables and optionally hyperparameters for the model.\n",
    "    ctx := context.NewContext(manager)\n",
    "    ctx.SetParam(optimizers.LearningRateKey, *flagLearningRate)\n",
    "\n",
    "    // Metrics we are interested.\n",
    "    meanAccuracyMetric := metrics.NewMeanBinaryLogitsAccuracy(\"Mean Accuracy\", \"#acc\")\n",
    "    movingAccuracyMetric := metrics.NewMovingAverageBinaryLogitsAccuracy(\"Moving Average Accuracy\", \"~acc\", 0.01)\n",
    "\n",
    "    // Checkpoints saving.\n",
    "    var checkpoint *checkpoints.Handler\n",
    "    if *flagCheckpoint != \"\" {\n",
    "        var err error\n",
    "        checkpoint, err = checkpoints.Build(ctx).Dir(*flagCheckpoint).Keep(*flagCheckpointKeep).Done()\n",
    "        AssertNoError(err)\n",
    "    }\n",
    "\n",
    "    // Pick a known optimizer.\n",
    "    optimizerFn, found := optimizers.KnownOptimizers[*flagOptimizer]\n",
    "    if !found {\n",
    "        log.Fatalf(\"Unknown optimizer %q, please use one of %v\",\n",
    "            *flagOptimizer, slices.Keys(optimizers.KnownOptimizers))\n",
    "    }\n",
    "\n",
    "    // Create a train.Trainer: this object will orchestrate running the model, feeding\n",
    "    // results to the optimizer, evaluating the metrics, etc. (all happens in trainer.TrainStep)\n",
    "    trainer := train.NewTrainer(manager, ctx, ModelGraph, losses.BinaryCrossentropyLogits,\n",
    "        optimizerFn(),\n",
    "        []metrics.Interface{movingAccuracyMetric}, // trainMetrics\n",
    "        []metrics.Interface{meanAccuracyMetric})   // evalMetrics\n",
    "    AssertNoError(ctx.Error())\n",
    "\n",
    "    // Use standard training loop.\n",
    "    loop := train.NewLoop(trainer)\n",
    "    commandline.AttachProgressBar(loop) // Attaches a progress bar to the loop.\n",
    "\n",
    "    // Attach a checkpoint.\n",
    "    if checkpoint != nil {\n",
    "        train.NTimesDuringLoop(loop, *flagNumPlotPoints, \"checkpointing\", 100, func(_ *train.Loop, _ []tensor.Tensor) error {\n",
    "            return checkpoint.Save()\n",
    "        })\n",
    "    }\n",
    "\n",
    "    // Attach a margaid plots.\n",
    "    if *flagNumPlotPoints > 0 {\n",
    "        margaid.New(1024, 400, testEvalDS).DynamicUpdates().Attach(loop, *flagNumPlotPoints)\n",
    "    }\n",
    "\n",
    "    // Run the given number of steps.\n",
    "    _, err := loop.RunSteps(trainingDS, *flagNumSteps)\n",
    "    AssertNoError(err)\n",
    "\n",
    "    // Print a final evaluation on train and test datasets.\n",
    "    fmt.Println()\n",
    "    err = commandline.ReportEval(trainer, trainingEvalDS, testEvalDS)\n",
    "    AssertNoError(err)\n",
    "    fmt.Println()\n",
    "}\n",
    "\n",
    "// Notice command line flags are passed in the %% notebook command. We set --plot_points=0 here to disable plotting\n",
    "// since this is only a quick test that our train() loop is working.\n",
    "%% --platform Host --steps=500 --plot_points=0\n",
    "trainModel()"
   ]
  },
  {
   "cell_type": "markdown",
   "id": "6bb5db6b-3a2c-4f48-8264-f90b22a52ed0",
   "metadata": {},
   "source": [
    "## Final run\n",
    "\n",
    "With everything working, we can do our final run.\n",
    "\n",
    "> **Note** here is where someone might want to hyperparameter tune, trying out different hyperparameters."
   ]
  },
  {
   "cell_type": "code",
   "execution_count": 7,
   "id": "66939463-60d7-446f-b4f3-1d60abe7c17c",
   "metadata": {
    "tags": []
   },
   "outputs": [
    {
     "data": {
      "text/html": []
     },
     "metadata": {},
     "output_type": "display_data"
    },
    {
     "name": "stdout",
     "output_type": "stream",
     "text": [
      "Training (5000 steps):  100% [\u001b[32m=\u001b[0m\u001b[32m=\u001b[0m\u001b[32m=\u001b[0m\u001b[32m=\u001b[0m\u001b[32m=\u001b[0m\u001b[32m=\u001b[0m\u001b[32m=\u001b[0m\u001b[32m=\u001b[0m\u001b[32m=\u001b[0m\u001b[32m=\u001b[0m\u001b[32m=\u001b[0m\u001b[32m=\u001b[0m\u001b[32m=\u001b[0m\u001b[32m=\u001b[0m\u001b[32m=\u001b[0m\u001b[32m=\u001b[0m\u001b[32m=\u001b[0m\u001b[32m=\u001b[0m\u001b[32m=\u001b[0m\u001b[32m=\u001b[0m\u001b[32m=\u001b[0m\u001b[32m=\u001b[0m\u001b[32m=\u001b[0m\u001b[32m=\u001b[0m\u001b[32m=\u001b[0m\u001b[32m=\u001b[0m\u001b[32m=\u001b[0m\u001b[32m=\u001b[0m\u001b[32m=\u001b[0m\u001b[32m=\u001b[0m\u001b[32m=\u001b[0m\u001b[32m=\u001b[0m\u001b[32m=\u001b[0m\u001b[32m=\u001b[0m\u001b[32m=\u001b[0m\u001b[32m=\u001b[0m\u001b[32m=\u001b[0m\u001b[32m=\u001b[0m\u001b[32m=\u001b[0m\u001b[32m=\u001b[0m] (534 steps/s)\u001b[0m [loss=0.272] [~loss=0.275] [~acc=87.16%]        \n"
     ]
    },
    {
     "data": {
      "text/html": [
       "<svg xmlns=\"http://www.w3.org/2000/svg\" width=\"1024\" height=\"436\" viewbox=\"0 0 1024 400\" style=\"background-color:#f8f8f8\" preserveAspectRatio=\"xMidYMid meet\"><defs><marker markerUnits=\"userSpaceOnUse\" markerWidth=\"2%\" markerHeight=\"2%\" id=\"circle\" viewBox=\"0 0 10 10 \" refX=\"5\" refY=\"5\"><circle cx=\"5\" cy=\"5\" r=\"3\" fill=\"none\" stroke=\"black\"/></marker><marker id=\"filled-circle\" viewBox=\"0 0 10 10 \" refX=\"5\" refY=\"5\" markerUnits=\"userSpaceOnUse\" markerWidth=\"2%\" markerHeight=\"2%\"><circle cy=\"5\" r=\"3\" fill=\"black\" stroke=\"none\" cx=\"5\"/></marker><marker refX=\"5\" refY=\"5\" markerUnits=\"userSpaceOnUse\" markerWidth=\"2%\" markerHeight=\"2%\" id=\"square\" viewBox=\"0 0 10 10 \"><rect y=\"2\" width=\"6\" height=\"6\" fill=\"none\" stroke=\"black\" x=\"2\"/></marker><marker markerWidth=\"2%\" markerHeight=\"2%\" id=\"filled-square\" viewBox=\"0 0 10 10 \" refX=\"5\" refY=\"5\" markerUnits=\"userSpaceOnUse\"><rect fill=\"black\" stroke=\"none\" x=\"2\" y=\"2\" width=\"6\" height=\"6\"/></marker></defs><g transform=\"translate(70 330 )scale(1 -1 )\" stroke-linejoin=\"round\" marker-start=\"url(#square)\" marker-mid=\"url(#square)\" stroke-linecap=\"round\" marker-end=\"url(#square)\" fill=\"none\" stroke=\"hsl(90, 47%, 65%)\" stroke-width=\"2px\"><path vector-effect=\"non-scaling-stroke\" d=\"M1.768000e+01,1.767497e+01 L3.448643e+01,1.767497e+01 L5.146263e+01,1.705031e+02 L6.843882e+01,2.040508e+02 L8.541502e+01,2.116344e+02 L1.023912e+02,2.203748e+02 L1.193674e+02,2.144622e+02 L1.363436e+02,2.205033e+02 L1.533198e+02,2.246165e+02 L1.702960e+02,2.284725e+02 L1.872722e+02,2.266730e+02 L2.042484e+02,2.259018e+02 L2.212246e+02,2.261588e+02 L2.382008e+02,2.304005e+02 L2.551770e+02,2.318144e+02 L2.721532e+02,2.316859e+02 L2.891294e+02,2.288581e+02 L3.061056e+02,2.219173e+02 L3.230818e+02,2.323285e+02 L3.400579e+02,2.322000e+02 L3.570341e+02,2.286011e+02 L3.740103e+02,2.360561e+02 L3.909865e+02,2.356705e+02 L4.079627e+02,2.402977e+02 L4.249389e+02,2.369559e+02 L4.419151e+02,2.366988e+02 L4.588913e+02,2.384982e+02 L4.758675e+02,2.410690e+02 L4.928437e+02,2.372130e+02 L5.098199e+02,2.387553e+02 L5.267961e+02,2.382411e+02 L5.437723e+02,2.392694e+02 L5.607485e+02,2.390124e+02 L5.777247e+02,2.399122e+02 L5.947009e+02,2.410690e+02 L6.116771e+02,2.361847e+02 L6.286533e+02,2.324571e+02 L6.456295e+02,2.366988e+02 L6.626057e+02,2.410690e+02 L6.795819e+02,2.399122e+02 L6.965580e+02,2.383697e+02 L7.135342e+02,2.401693e+02 L7.305104e+02,2.406833e+02 L7.474866e+02,2.422257e+02 L7.644628e+02,2.424828e+02 L7.814390e+02,2.413260e+02 L7.984152e+02,2.427399e+02 L8.153914e+02,2.433826e+02 L8.323676e+02,2.431256e+02 L8.493438e+02,2.428685e+02 L8.663200e+02,2.401693e+02 \"/></g><g marker-mid=\"url(#square)\" transform=\"translate(70 330 )scale(1 -1 )\" stroke-width=\"2px\" fill=\"none\" stroke-linejoin=\"round\" marker-start=\"url(#square)\" stroke=\"hsl(301, 88%, 65%)\" marker-end=\"url(#square)\" stroke-linecap=\"round\"><path vector-effect=\"non-scaling-stroke\" d=\"M1.768000e+01,5.200000e+00 L3.448643e+01,6.671356e+00 L5.146263e+01,8.802938e+01 L6.843882e+01,1.430502e+02 L8.541502e+01,1.826151e+02 L1.023912e+02,1.950671e+02 L1.193674e+02,2.085979e+02 L1.363436e+02,2.233088e+02 L1.533198e+02,2.216879e+02 L1.702960e+02,2.263471e+02 L1.872722e+02,2.287513e+02 L2.042484e+02,2.321677e+02 L2.212246e+02,2.294938e+02 L2.382008e+02,2.401910e+02 L2.551770e+02,2.307937e+02 L2.721532e+02,2.329790e+02 L2.891294e+02,2.333690e+02 L3.061056e+02,2.314750e+02 L3.230818e+02,2.286005e+02 L3.400579e+02,2.315869e+02 L3.570341e+02,2.377740e+02 L3.740103e+02,2.410738e+02 L3.909865e+02,2.391585e+02 L4.079627e+02,2.470370e+02 L4.249389e+02,2.342917e+02 L4.419151e+02,2.364177e+02 L4.588913e+02,2.403308e+02 L4.758675e+02,2.429526e+02 L4.928437e+02,2.508054e+02 L5.098199e+02,2.481919e+02 L5.267961e+02,2.469469e+02 L5.437723e+02,2.442216e+02 L5.607485e+02,2.548000e+02 L5.777247e+02,2.519782e+02 L5.947009e+02,2.424160e+02 L6.116771e+02,2.418044e+02 L6.286533e+02,2.484013e+02 L6.456295e+02,2.493218e+02 L6.626057e+02,2.477126e+02 L6.795819e+02,2.381452e+02 L6.965580e+02,2.341693e+02 L7.135342e+02,2.514586e+02 L7.305104e+02,2.469122e+02 L7.474866e+02,2.479500e+02 L7.644628e+02,2.506196e+02 L7.814390e+02,2.494058e+02 L7.984152e+02,2.486440e+02 L8.153914e+02,2.477544e+02 L8.323676e+02,2.411315e+02 L8.493438e+02,2.467522e+02 L8.663200e+02,2.432376e+02 \"/></g><g transform=\"translate(70 330 )scale(1 -1 )\" fill=\"none\" stroke=\"black\" stroke-width=\"2px\" stroke-linecap=\"round\" stroke-linejoin=\"round\"><path vector-effect=\"non-scaling-stroke\" d=\"M1.768000e+01,0 L1.768000e+01,-6 M6.860859e+01,0 L6.860859e+01,-6 M1.195372e+02,0 L1.195372e+02,-6 M1.704658e+02,0 L1.704658e+02,-6 M2.213943e+02,0 L2.213943e+02,-6 M2.723229e+02,0 L2.723229e+02,-6 M3.232515e+02,0 L3.232515e+02,-6 M3.741801e+02,0 L3.741801e+02,-6 M4.251087e+02,0 L4.251087e+02,-6 M4.760373e+02,0 L4.760373e+02,-6 M5.269659e+02,0 L5.269659e+02,-6 M5.778944e+02,0 L5.778944e+02,-6 M6.288230e+02,0 L6.288230e+02,-6 M6.797516e+02,0 L6.797516e+02,-6 M7.306802e+02,0 L7.306802e+02,-6 M7.816088e+02,0 L7.816088e+02,-6 M8.325374e+02,0 L8.325374e+02,-6 \"/></g><g stroke-linecap=\"round\" font-style=\"normal\" fill=\"black\" stroke=\"black\" stroke-linejoin=\"round\" font-size=\"12px\" text-anchor=\"middle\" font-family=\"sans-serif\" transform=\"translate(70 330 )scale(1 1 )\" font-weight=\"normal\" dominant-baseline=\"hanging\" stroke-width=\"2px\"><text stroke=\"none\" vector-effect=\"non-scaling-stroke\" x=\"1.768000e+01\" y=\"10\" dominant-baseline=\"hanging\">0</text><text stroke=\"none\" vector-effect=\"non-scaling-stroke\" x=\"6.860859e+01\" y=\"10\" dominant-baseline=\"hanging\">300</text><text dominant-baseline=\"hanging\" stroke=\"none\" vector-effect=\"non-scaling-stroke\" x=\"1.195372e+02\" y=\"10\">600</text><text stroke=\"none\" vector-effect=\"non-scaling-stroke\" x=\"1.704658e+02\" y=\"10\" dominant-baseline=\"hanging\">900</text><text x=\"2.213943e+02\" y=\"10\" dominant-baseline=\"hanging\" stroke=\"none\" vector-effect=\"non-scaling-stroke\">1200</text><text y=\"10\" dominant-baseline=\"hanging\" stroke=\"none\" vector-effect=\"non-scaling-stroke\" x=\"2.723229e+02\">1500</text><text x=\"3.232515e+02\" y=\"10\" dominant-baseline=\"hanging\" stroke=\"none\" vector-effect=\"non-scaling-stroke\">1800</text><text dominant-baseline=\"hanging\" stroke=\"none\" vector-effect=\"non-scaling-stroke\" x=\"3.741801e+02\" y=\"10\">2100</text><text stroke=\"none\" vector-effect=\"non-scaling-stroke\" x=\"4.251087e+02\" y=\"10\" dominant-baseline=\"hanging\">2400</text><text vector-effect=\"non-scaling-stroke\" x=\"4.760373e+02\" y=\"10\" dominant-baseline=\"hanging\" stroke=\"none\">2700</text><text dominant-baseline=\"hanging\" stroke=\"none\" vector-effect=\"non-scaling-stroke\" x=\"5.269659e+02\" y=\"10\">3000</text><text dominant-baseline=\"hanging\" stroke=\"none\" vector-effect=\"non-scaling-stroke\" x=\"5.778944e+02\" y=\"10\">3300</text><text y=\"10\" dominant-baseline=\"hanging\" stroke=\"none\" vector-effect=\"non-scaling-stroke\" x=\"6.288230e+02\">3600</text><text y=\"10\" dominant-baseline=\"hanging\" stroke=\"none\" vector-effect=\"non-scaling-stroke\" x=\"6.797516e+02\">3900</text><text y=\"10\" dominant-baseline=\"hanging\" stroke=\"none\" vector-effect=\"non-scaling-stroke\" x=\"7.306802e+02\">4200</text><text stroke=\"none\" vector-effect=\"non-scaling-stroke\" x=\"7.816088e+02\" y=\"10\" dominant-baseline=\"hanging\">4500</text><text y=\"10\" dominant-baseline=\"hanging\" stroke=\"none\" vector-effect=\"non-scaling-stroke\" x=\"8.325374e+02\">4800</text></g><g transform=\"translate(70 330 )scale(1 1 )rotate(0 0 0 )\" font-style=\"normal\" font-weight=\"bold\" stroke-width=\"2px\" font-size=\"12px\" text-anchor=\"middle\" fill=\"black\" stroke=\"black\" stroke-linejoin=\"round\" stroke-linecap=\"round\" font-family=\"sans-serif\" dominant-baseline=\"baseline\"><text x=\"442\" y=\"-6\" dominant-baseline=\"baseline\" stroke=\"none\" vector-effect=\"non-scaling-stroke\">Steps</text></g><g dominant-baseline=\"baseline\" stroke=\"black\" stroke-linejoin=\"round\" transform=\"translate(70 330 )scale(1 -1 )\" font-style=\"normal\" stroke-width=\"2px\" font-family=\"sans-serif\" font-size=\"12px\" fill=\"black\" font-weight=\"bold\" stroke-linecap=\"round\" text-anchor=\"middle\"><path d=\"M0,5.163134e+01 L-6,5.163134e+01 M0,1.144117e+02 L-6,1.144117e+02 M0,1.771921e+02 L-6,1.771921e+02 M0,2.399726e+02 L-6,2.399726e+02 \" vector-effect=\"non-scaling-stroke\"/></g><g fill=\"black\" font-size=\"12px\" text-anchor=\"end\" dominant-baseline=\"middle\" transform=\"translate(70 330 )scale(1 1 )\" font-style=\"normal\" font-weight=\"normal\" stroke-width=\"2px\" stroke-linecap=\"round\" stroke-linejoin=\"round\" stroke=\"black\" font-family=\"sans-serif\"><text stroke=\"none\" vector-effect=\"non-scaling-stroke\" x=\"-10\" y=\"-5.163134e+01\" dominant-baseline=\"middle\">0.780</text><text x=\"-10\" y=\"-1.144117e+02\" dominant-baseline=\"middle\" stroke=\"none\" vector-effect=\"non-scaling-stroke\">0.810</text><text dominant-baseline=\"middle\" stroke=\"none\" vector-effect=\"non-scaling-stroke\" x=\"-10\" y=\"-1.771921e+02\">0.840</text><text stroke=\"none\" vector-effect=\"non-scaling-stroke\" x=\"-10\" y=\"-2.399726e+02\" dominant-baseline=\"middle\">0.870</text></g><g stroke-linecap=\"round\" font-family=\"sans-serif\" dominant-baseline=\"hanging\" stroke=\"black\" stroke-linejoin=\"round\" transform=\"translate(70 330 )scale(1 1 )rotate(-90 0 0 )\" font-style=\"normal\" stroke-width=\"2px\" font-weight=\"bold\" text-anchor=\"middle\" fill=\"black\" font-size=\"12px\"><text x=\"130\" y=\"6\" dominant-baseline=\"hanging\" stroke=\"none\" vector-effect=\"non-scaling-stroke\">accuracy</text></g><g stroke=\"gray\" font-style=\"normal\" font-weight=\"bold\" stroke-width=\"0.5px\" font-size=\"12px\" text-anchor=\"middle\" fill=\"black\" stroke-linejoin=\"round\" transform=\"translate(70 330 )scale(1 -1 )\" stroke-linecap=\"round\" font-family=\"sans-serif\" dominant-baseline=\"hanging\"><path vector-effect=\"non-scaling-stroke\" d=\"M0,5.163134e+01 L884,5.163134e+01 M0,1.144117e+02 L884,1.144117e+02 M0,1.771921e+02 L884,1.771921e+02 M0,2.399726e+02 L884,2.399726e+02 \"/></g><g font-style=\"normal\" font-family=\"sans-serif\" dominant-baseline=\"hanging\" stroke-width=\"2px\" stroke-linecap=\"round\" stroke-linejoin=\"round\" font-weight=\"bold\" fill=\"none\" stroke=\"black\" font-size=\"12px\" text-anchor=\"middle\"><rect height=\"260\" vector-effect=\"non-scaling-stroke\" x=\"70\" y=\"70\" width=\"884\"/><g font-size=\"18px\" dominant-baseline=\"middle\" fill=\"black\"><text vector-effect=\"non-scaling-stroke\" x=\"512\" y=\"35\" dominant-baseline=\"middle\" stroke=\"none\">accuracy metrics</text></g><g font-style=\"normal\" font-size=\"12px\" stroke-linejoin=\"round\" font-weight=\"normal\" stroke-width=\"1px\" stroke-linecap=\"round\" font-family=\"sans-serif\" text-anchor=\"start\" fill=\"hsl(90, 47%, 65%)\" stroke=\"hsl(90, 47%, 65%)\" dominant-baseline=\"hanging\"><rect vector-effect=\"non-scaling-stroke\" x=\"76\" y=\"366\" width=\"12\" height=\"12\"/><g fill=\"black\" stroke=\"black\"><text stroke=\"none\" vector-effect=\"non-scaling-stroke\" x=\"92\" y=\"366\" dominant-baseline=\"hanging\">Eval on test: Mean Accuracy</text></g><g font-weight=\"normal\" fill=\"hsl(301, 88%, 65%)\" stroke-linecap=\"round\" font-family=\"sans-serif\" font-size=\"12px\" stroke-width=\"1px\" stroke=\"hsl(301, 88%, 65%)\" stroke-linejoin=\"round\" font-style=\"normal\" text-anchor=\"start\" dominant-baseline=\"hanging\"><rect vector-effect=\"non-scaling-stroke\" x=\"76\" y=\"384\" width=\"12\" height=\"12\"/><g stroke=\"black\" fill=\"black\"><text dominant-baseline=\"hanging\" stroke=\"none\" vector-effect=\"non-scaling-stroke\" x=\"92\" y=\"384\">Train: Moving Average Accuracy</text></g></g></g></g></svg>"
      ]
     },
     "metadata": {},
     "output_type": "display_data"
    },
    {
     "data": {
      "text/html": [
       "<svg viewbox=\"0 0 1024 400\" style=\"background-color:#f8f8f8\" preserveAspectRatio=\"xMidYMid meet\" xmlns=\"http://www.w3.org/2000/svg\" width=\"1024\" height=\"454\"><defs><marker viewBox=\"0 0 10 10 \" refX=\"5\" refY=\"5\" markerUnits=\"userSpaceOnUse\" markerWidth=\"2%\" markerHeight=\"2%\" id=\"circle\"><circle cx=\"5\" cy=\"5\" r=\"3\" fill=\"none\" stroke=\"black\"/></marker><marker viewBox=\"0 0 10 10 \" refX=\"5\" refY=\"5\" markerUnits=\"userSpaceOnUse\" markerWidth=\"2%\" markerHeight=\"2%\" id=\"filled-circle\"><circle cy=\"5\" r=\"3\" fill=\"black\" stroke=\"none\" cx=\"5\"/></marker><marker markerWidth=\"2%\" markerHeight=\"2%\" id=\"square\" viewBox=\"0 0 10 10 \" refX=\"5\" refY=\"5\" markerUnits=\"userSpaceOnUse\"><rect stroke=\"black\" x=\"2\" y=\"2\" width=\"6\" height=\"6\" fill=\"none\"/></marker><marker viewBox=\"0 0 10 10 \" refX=\"5\" refY=\"5\" markerUnits=\"userSpaceOnUse\" markerWidth=\"2%\" markerHeight=\"2%\" id=\"filled-square\"><rect fill=\"black\" stroke=\"none\" x=\"2\" y=\"2\" width=\"6\" height=\"6\"/></marker></defs><g stroke-linejoin=\"round\" stroke-linecap=\"round\" stroke=\"hsl(90, 47%, 65%)\" stroke-width=\"2px\" marker-start=\"url(#square)\" marker-mid=\"url(#square)\" transform=\"translate(70 330 )scale(1 -1 )\" marker-end=\"url(#square)\" fill=\"none\"><path vector-effect=\"non-scaling-stroke\" d=\"M1.768000e+01,2.463321e+02 L3.448643e+01,1.699435e+02 L5.146263e+01,9.189478e+01 L6.843882e+01,7.980093e+01 L8.541502e+01,7.210996e+01 L1.023912e+02,6.737348e+01 L1.193674e+02,6.636812e+01 L1.363436e+02,6.288716e+01 L1.533198e+02,6.161480e+01 L1.702960e+02,6.065033e+01 L1.872722e+02,6.023782e+01 L2.042484e+02,5.937321e+01 L2.212246e+02,5.906430e+01 L2.382008e+02,5.901170e+01 L2.551770e+02,5.837361e+01 L2.721532e+02,5.833562e+01 L2.891294e+02,5.827646e+01 L3.061056e+02,5.929194e+01 L3.230818e+02,5.651165e+01 L3.400579e+02,5.541484e+01 L3.570341e+02,5.643837e+01 L3.740103e+02,5.395024e+01 L3.909865e+02,5.344201e+01 L4.079627e+02,5.257554e+01 L4.249389e+02,5.289618e+01 L4.419151e+02,5.164314e+01 L4.588913e+02,5.164058e+01 L4.758675e+02,5.174318e+01 L4.928437e+02,5.111090e+01 L5.098199e+02,5.130203e+01 L5.267961e+02,5.110619e+01 L5.437723e+02,5.093730e+01 L5.607485e+02,5.100637e+01 L5.777247e+02,5.094750e+01 L5.947009e+02,5.067088e+01 L6.116771e+02,5.263430e+01 L6.286533e+02,5.235590e+01 L6.456295e+02,5.122006e+01 L6.626057e+02,5.182237e+01 L6.795819e+02,5.067714e+01 L6.965580e+02,5.017803e+01 L7.135342e+02,5.038894e+01 L7.305104e+02,4.955414e+01 L7.474866e+02,4.933075e+01 L7.644628e+02,4.910919e+01 L7.814390e+02,4.945586e+01 L7.984152e+02,4.886352e+01 L8.153914e+02,4.893173e+01 L8.323676e+02,4.884917e+01 L8.493438e+02,4.883436e+01 L8.663200e+02,4.924001e+01 \"/></g><g marker-start=\"url(#square)\" fill=\"none\" transform=\"translate(70 330 )scale(1 -1 )\" stroke-linecap=\"round\" stroke=\"hsl(301, 88%, 65%)\" stroke-width=\"2px\" marker-end=\"url(#square)\" stroke-linejoin=\"round\" marker-mid=\"url(#square)\"><path d=\"M1.768000e+01,2.548000e+02 L3.448643e+01,1.732995e+02 L5.146263e+01,1.118627e+02 L6.843882e+01,7.579493e+01 L8.541502e+01,7.116593e+01 L1.023912e+02,6.957453e+01 L1.193674e+02,7.611742e+01 L1.363436e+02,6.411278e+01 L1.533198e+02,5.807912e+01 L1.702960e+02,6.512402e+01 L1.872722e+02,8.007102e+01 L2.042484e+02,4.543254e+01 L2.212246e+02,4.432185e+01 L2.382008e+02,1.146711e+02 L2.551770e+02,7.316722e+01 L2.721532e+02,4.784945e+01 L2.891294e+02,1.501368e+01 L3.061056e+02,3.798552e+01 L3.230818e+02,8.013709e+01 L3.400579e+02,8.224213e+01 L3.570341e+02,2.650483e+01 L3.740103e+02,7.776226e+01 L3.909865e+02,4.542894e+01 L4.079627e+02,6.101642e+01 L4.249389e+02,4.023744e+01 L4.419151e+02,3.207311e+01 L4.588913e+02,6.335460e+01 L4.758675e+02,3.398456e+01 L4.928437e+02,4.399587e+01 L5.098199e+02,9.790899e+01 L5.267961e+02,9.579348e+01 L5.437723e+02,1.934850e+01 L5.607485e+02,5.200000e+00 L5.777247e+02,7.437200e+01 L5.947009e+02,3.917325e+01 L6.116771e+02,7.921244e+01 L6.286533e+02,5.109834e+01 L6.456295e+02,2.578946e+01 L6.626057e+02,7.006355e+01 L6.795819e+02,4.367974e+01 L6.965580e+02,4.909373e+01 L7.135342e+02,1.916551e+01 L7.305104e+02,6.069077e+01 L7.474866e+02,2.094567e+01 L7.644628e+02,3.188945e+01 L7.814390e+02,3.603375e+01 L7.984152e+02,6.421422e+01 L8.153914e+02,4.791768e+01 L8.323676e+02,5.693536e+01 L8.493438e+02,6.697593e+01 L8.663200e+02,4.456175e+01 \" vector-effect=\"non-scaling-stroke\"/></g><g marker-mid=\"url(#square)\" transform=\"translate(70 330 )scale(1 -1 )\" stroke=\"hsl(152, 76%, 65%)\" marker-start=\"url(#square)\" marker-end=\"url(#square)\" stroke-linejoin=\"round\" fill=\"none\" stroke-width=\"2px\" stroke-linecap=\"round\"><path d=\"M1.768000e+01,2.548000e+02 L3.448643e+01,1.946871e+02 L5.146263e+01,1.427512e+02 L6.843882e+01,1.096576e+02 L8.541502e+01,8.844352e+01 L1.023912e+02,7.718321e+01 L1.193674e+02,6.999019e+01 L1.363436e+02,6.178726e+01 L1.533198e+02,6.195042e+01 L1.702960e+02,5.991221e+01 L1.872722e+02,5.854065e+01 L2.042484e+02,5.876685e+01 L2.212246e+02,6.030547e+01 L2.382008e+02,5.566082e+01 L2.551770e+02,5.703296e+01 L2.721532e+02,5.439912e+01 L2.891294e+02,5.567934e+01 L3.061056e+02,5.589856e+01 L3.230818e+02,5.756533e+01 L3.400579e+02,5.652195e+01 L3.570341e+02,5.251066e+01 L3.740103e+02,5.019688e+01 L3.909865e+02,5.135565e+01 L4.079627e+02,4.817527e+01 L4.249389e+02,5.219222e+01 L4.419151e+02,5.097341e+01 L4.588913e+02,4.950423e+01 L4.758675e+02,4.830695e+01 L4.928437e+02,4.722500e+01 L5.098199e+02,4.760850e+01 L5.267961e+02,4.920556e+01 L5.437723e+02,4.812384e+01 L5.607485e+02,4.536316e+01 L5.777247e+02,4.656141e+01 L5.947009e+02,4.797621e+01 L6.116771e+02,5.024222e+01 L6.286533e+02,4.919326e+01 L6.456295e+02,4.699876e+01 L6.626057e+02,4.500623e+01 L6.795819e+02,4.812440e+01 L6.965580e+02,5.075999e+01 L7.135342e+02,4.606795e+01 L7.305104e+02,4.664515e+01 L7.474866e+02,4.584364e+01 L7.644628e+02,4.330280e+01 L7.814390e+02,4.445596e+01 L7.984152e+02,4.601447e+01 L8.153914e+02,4.548477e+01 L8.323676e+02,4.698430e+01 L8.493438e+02,4.557849e+01 L8.663200e+02,4.620336e+01 \" vector-effect=\"non-scaling-stroke\"/></g><g fill=\"none\" stroke=\"black\" stroke-width=\"2px\" stroke-linecap=\"round\" stroke-linejoin=\"round\" transform=\"translate(70 330 )scale(1 -1 )\"><path d=\"M1.768000e+01,0 L1.768000e+01,-6 M6.860859e+01,0 L6.860859e+01,-6 M1.195372e+02,0 L1.195372e+02,-6 M1.704658e+02,0 L1.704658e+02,-6 M2.213943e+02,0 L2.213943e+02,-6 M2.723229e+02,0 L2.723229e+02,-6 M3.232515e+02,0 L3.232515e+02,-6 M3.741801e+02,0 L3.741801e+02,-6 M4.251087e+02,0 L4.251087e+02,-6 M4.760373e+02,0 L4.760373e+02,-6 M5.269659e+02,0 L5.269659e+02,-6 M5.778944e+02,0 L5.778944e+02,-6 M6.288230e+02,0 L6.288230e+02,-6 M6.797516e+02,0 L6.797516e+02,-6 M7.306802e+02,0 L7.306802e+02,-6 M7.816088e+02,0 L7.816088e+02,-6 M8.325374e+02,0 L8.325374e+02,-6 \" vector-effect=\"non-scaling-stroke\"/></g><g text-anchor=\"middle\" dominant-baseline=\"hanging\" font-style=\"normal\" stroke-linecap=\"round\" stroke-linejoin=\"round\" transform=\"translate(70 330 )scale(1 1 )\" font-size=\"12px\" font-weight=\"normal\" fill=\"black\" stroke=\"black\" stroke-width=\"2px\" font-family=\"sans-serif\"><text vector-effect=\"non-scaling-stroke\" x=\"1.768000e+01\" y=\"10\" dominant-baseline=\"hanging\" stroke=\"none\">0</text><text vector-effect=\"non-scaling-stroke\" x=\"6.860859e+01\" y=\"10\" dominant-baseline=\"hanging\" stroke=\"none\">300</text><text x=\"1.195372e+02\" y=\"10\" dominant-baseline=\"hanging\" stroke=\"none\" vector-effect=\"non-scaling-stroke\">600</text><text vector-effect=\"non-scaling-stroke\" x=\"1.704658e+02\" y=\"10\" dominant-baseline=\"hanging\" stroke=\"none\">900</text><text y=\"10\" dominant-baseline=\"hanging\" stroke=\"none\" vector-effect=\"non-scaling-stroke\" x=\"2.213943e+02\">1200</text><text dominant-baseline=\"hanging\" stroke=\"none\" vector-effect=\"non-scaling-stroke\" x=\"2.723229e+02\" y=\"10\">1500</text><text y=\"10\" dominant-baseline=\"hanging\" stroke=\"none\" vector-effect=\"non-scaling-stroke\" x=\"3.232515e+02\">1800</text><text x=\"3.741801e+02\" y=\"10\" dominant-baseline=\"hanging\" stroke=\"none\" vector-effect=\"non-scaling-stroke\">2100</text><text x=\"4.251087e+02\" y=\"10\" dominant-baseline=\"hanging\" stroke=\"none\" vector-effect=\"non-scaling-stroke\">2400</text><text stroke=\"none\" vector-effect=\"non-scaling-stroke\" x=\"4.760373e+02\" y=\"10\" dominant-baseline=\"hanging\">2700</text><text stroke=\"none\" vector-effect=\"non-scaling-stroke\" x=\"5.269659e+02\" y=\"10\" dominant-baseline=\"hanging\">3000</text><text stroke=\"none\" vector-effect=\"non-scaling-stroke\" x=\"5.778944e+02\" y=\"10\" dominant-baseline=\"hanging\">3300</text><text dominant-baseline=\"hanging\" stroke=\"none\" vector-effect=\"non-scaling-stroke\" x=\"6.288230e+02\" y=\"10\">3600</text><text stroke=\"none\" vector-effect=\"non-scaling-stroke\" x=\"6.797516e+02\" y=\"10\" dominant-baseline=\"hanging\">3900</text><text vector-effect=\"non-scaling-stroke\" x=\"7.306802e+02\" y=\"10\" dominant-baseline=\"hanging\" stroke=\"none\">4200</text><text stroke=\"none\" vector-effect=\"non-scaling-stroke\" x=\"7.816088e+02\" y=\"10\" dominant-baseline=\"hanging\">4500</text><text x=\"8.325374e+02\" y=\"10\" dominant-baseline=\"hanging\" stroke=\"none\" vector-effect=\"non-scaling-stroke\">4800</text></g><g stroke-linecap=\"round\" stroke-linejoin=\"round\" transform=\"translate(70 330 )scale(1 1 )rotate(0 0 0 )\" font-style=\"normal\" font-size=\"12px\" text-anchor=\"middle\" font-family=\"sans-serif\" font-weight=\"bold\" dominant-baseline=\"baseline\" fill=\"black\" stroke=\"black\" stroke-width=\"2px\"><text x=\"442\" y=\"-6\" dominant-baseline=\"baseline\" stroke=\"none\" vector-effect=\"non-scaling-stroke\">Steps</text></g><g stroke-linejoin=\"round\" text-anchor=\"middle\" dominant-baseline=\"baseline\" stroke=\"black\" stroke-width=\"2px\" stroke-linecap=\"round\" font-style=\"normal\" fill=\"black\" font-family=\"sans-serif\" font-size=\"12px\" font-weight=\"bold\" transform=\"translate(70 330 )scale(1 -1 )\"><path d=\"M0,5.649769e+00 L-6,5.649769e+00 M0,5.961942e+01 L-6,5.961942e+01 M0,1.135891e+02 L-6,1.135891e+02 M0,1.675587e+02 L-6,1.675587e+02 M0,2.215284e+02 L-6,2.215284e+02 \" vector-effect=\"non-scaling-stroke\"/></g><g stroke-width=\"2px\" font-family=\"sans-serif\" font-size=\"12px\" font-weight=\"normal\" stroke-linejoin=\"round\" transform=\"translate(70 330 )scale(1 1 )\" dominant-baseline=\"middle\" fill=\"black\" stroke-linecap=\"round\" font-style=\"normal\" stroke=\"black\" text-anchor=\"end\"><text vector-effect=\"non-scaling-stroke\" x=\"-10\" y=\"-5.649769e+00\" dominant-baseline=\"middle\" stroke=\"none\">0.200</text><text vector-effect=\"non-scaling-stroke\" x=\"-10\" y=\"-5.961942e+01\" dominant-baseline=\"middle\" stroke=\"none\">0.300</text><text x=\"-10\" y=\"-1.135891e+02\" dominant-baseline=\"middle\" stroke=\"none\" vector-effect=\"non-scaling-stroke\">0.400</text><text dominant-baseline=\"middle\" stroke=\"none\" vector-effect=\"non-scaling-stroke\" x=\"-10\" y=\"-1.675587e+02\">0.500</text><text stroke=\"none\" vector-effect=\"non-scaling-stroke\" x=\"-10\" y=\"-2.215284e+02\" dominant-baseline=\"middle\">0.600</text></g><g transform=\"translate(70 330 )scale(1 1 )rotate(-90 0 0 )\" stroke-width=\"2px\" stroke=\"black\" font-family=\"sans-serif\" font-size=\"12px\" stroke-linecap=\"round\" stroke-linejoin=\"round\" font-style=\"normal\" dominant-baseline=\"hanging\" fill=\"black\" font-weight=\"bold\" text-anchor=\"middle\"><text x=\"130\" y=\"6\" dominant-baseline=\"hanging\" stroke=\"none\" vector-effect=\"non-scaling-stroke\">loss</text></g><g dominant-baseline=\"hanging\" stroke=\"gray\" font-family=\"sans-serif\" font-size=\"12px\" text-anchor=\"middle\" stroke-linecap=\"round\" transform=\"translate(70 330 )scale(1 -1 )\" fill=\"black\" stroke-width=\"0.5px\" font-weight=\"bold\" stroke-linejoin=\"round\" font-style=\"normal\"><path vector-effect=\"non-scaling-stroke\" d=\"M0,5.649769e+00 L884,5.649769e+00 M0,5.961942e+01 L884,5.961942e+01 M0,1.135891e+02 L884,1.135891e+02 M0,1.675587e+02 L884,1.675587e+02 M0,2.215284e+02 L884,2.215284e+02 \"/></g><g font-family=\"sans-serif\" font-weight=\"bold\" text-anchor=\"middle\" dominant-baseline=\"hanging\" stroke-width=\"2px\" stroke-linecap=\"round\" stroke-linejoin=\"round\" font-style=\"normal\" fill=\"none\" stroke=\"black\" font-size=\"12px\"><rect width=\"884\" height=\"260\" vector-effect=\"non-scaling-stroke\" x=\"70\" y=\"70\"/><g font-size=\"18px\" dominant-baseline=\"middle\" fill=\"black\"><text stroke=\"none\" vector-effect=\"non-scaling-stroke\" x=\"512\" y=\"35\" dominant-baseline=\"middle\">loss metrics</text></g><g stroke-linecap=\"round\" stroke-linejoin=\"round\" font-family=\"sans-serif\" font-size=\"12px\" font-weight=\"normal\" font-style=\"normal\" fill=\"hsl(90, 47%, 65%)\" stroke=\"hsl(90, 47%, 65%)\" stroke-width=\"1px\" text-anchor=\"start\" dominant-baseline=\"hanging\"><rect vector-effect=\"non-scaling-stroke\" x=\"76\" y=\"366\" width=\"12\" height=\"12\"/><g fill=\"black\" stroke=\"black\"><text dominant-baseline=\"hanging\" stroke=\"none\" vector-effect=\"non-scaling-stroke\" x=\"92\" y=\"366\">Eval on test: Mean Loss</text></g><g fill=\"hsl(301, 88%, 65%)\" stroke=\"hsl(301, 88%, 65%)\" font-family=\"sans-serif\" text-anchor=\"start\" stroke-linejoin=\"round\" font-style=\"normal\" dominant-baseline=\"hanging\" stroke-width=\"1px\" font-size=\"12px\" font-weight=\"normal\" stroke-linecap=\"round\"><rect height=\"12\" vector-effect=\"non-scaling-stroke\" x=\"76\" y=\"384\" width=\"12\"/><g fill=\"black\" stroke=\"black\"><text vector-effect=\"non-scaling-stroke\" x=\"92\" y=\"384\" dominant-baseline=\"hanging\" stroke=\"none\">Train: Batch Loss</text></g><g fill=\"hsl(152, 76%, 65%)\" stroke=\"hsl(152, 76%, 65%)\" font-size=\"12px\" stroke-linejoin=\"round\" font-style=\"normal\" text-anchor=\"start\" dominant-baseline=\"hanging\" stroke-linecap=\"round\" font-weight=\"normal\" stroke-width=\"1px\" font-family=\"sans-serif\"><rect y=\"402\" width=\"12\" height=\"12\" vector-effect=\"non-scaling-stroke\" x=\"76\"/><g fill=\"black\" stroke=\"black\"><text dominant-baseline=\"hanging\" stroke=\"none\" vector-effect=\"non-scaling-stroke\" x=\"92\" y=\"402\">Train: Moving Average Loss</text></g></g></g></g></g></svg>"
      ]
     },
     "metadata": {},
     "output_type": "display_data"
    },
    {
     "name": "stdout",
     "output_type": "stream",
     "text": [
      "\n",
      "Results on train:\n",
      "\tMean Loss (#loss): 0.274\n",
      "\tMean Accuracy (#acc): 87.32%\n",
      "Results on test:\n",
      "\tMean Loss (#loss): 0.281\n",
      "\tMean Accuracy (#acc): 87.01%\n",
      "\n"
     ]
    }
   ],
   "source": [
    "%% --platform Host --steps=5000 --plot_points=50 \n",
    "trainModel()"
   ]
  }
 ],
 "metadata": {
  "kernelspec": {
   "display_name": "Go (gonb)",
   "language": "go",
   "name": "gonb"
  },
  "language_info": {
   "codemirror_mode": "",
   "file_extension": ".go",
   "mimetype": "",
   "name": "go",
   "nbconvert_exporter": "",
   "pygments_lexer": "",
   "version": "go1.20.3"
  }
 },
 "nbformat": 4,
 "nbformat_minor": 5
}
