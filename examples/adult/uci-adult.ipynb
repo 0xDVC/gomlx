{
 "cells": [
  {
   "cell_type": "markdown",
   "id": "546fa208-c19c-405b-81b1-cf99fcb4a830",
   "metadata": {
    "tags": []
   },
   "source": [
    "# UCI Adult Dataset or Census Income\n",
    "\n",
    "This is a very popular ML task, with tabular data. The objective is to predict whether income exceeds $50K/yr based on census data. \n",
    "Also known as \"Census Income\" dataset.\n",
    "\n",
    "The data is old and biased on different ways ... but it can be used opaquely for ML experimentation.\n",
    "\n"
   ]
  },
  {
   "cell_type": "markdown",
   "id": "2ab071e3-227f-4c77-b864-2b7e5a5ccbdf",
   "metadata": {},
   "source": [
    "## Environment Set Up\n",
    "\n",
    "Let's set up `go.mod` to use the local copy of GoMLX, so it can be developed jointly the dataset code with the model. That's often how data pre-processing and model code is developed together with experimentation.\n",
    "\n",
    "If you are not changing code, feel free to simply skip this cell. Or if you used a different directory for you projects, change it below.\n",
    "\n",
    "Notice the directory `${HOME}/Projects/gomlx` is where the GoMLX code is copied by default in [its Docker](https://hub.docker.com/repository/docker/janpfeifer/gomlx_jupyterlab/general)."
   ]
  },
  {
   "cell_type": "code",
   "execution_count": 1,
   "id": "9ba46cb6-059d-4387-876c-665f778f2447",
   "metadata": {
    "tags": []
   },
   "outputs": [
    {
     "name": "stdout",
     "output_type": "stream",
     "text": [
      "\t- Added replace rule for module \"github.com/gomlx/gomlx\" to local directory \"/home/janpf/Projects/gomlx\".\n",
      "\t- Added replace rule for module \"github.com/janpfeifer/gonb\" to local directory \"/home/janpf/Projects/gonb\".\n",
      "\t- Added replace rule for module \"github.com/gomlx/gopjrt\" to local directory \"/home/janpf/Projects/gopjrt\".\n",
      "\t- Added replace rule for module \"github.com/gomlx/bsplines\" to local directory \"/home/janpf/Projects/bsplines\".\n"
     ]
    }
   ],
   "source": [
    "!*rm -f go.work && go work init && go work use . \"${HOME}/Projects/gomlx\" \"${HOME}/Projects/gonb\" \"${HOME}/Projects/gopjrt\" \"${HOME}/Projects/bsplines\"\n",
    "%goworkfix"
   ]
  },
  {
   "cell_type": "markdown",
   "id": "78cf991f-4fa5-4bae-8e49-ca67fb8dbd5b",
   "metadata": {},
   "source": [
    "## Data Preparation\n",
    "\n",
    "GoMLX provides [a simple `adult` library](https://pkg.go.dev/github.com/gomlx/gomlx/examples/adult) to facilitate downdoaling and preprocessing the data. Data is available in [UCI Machine Learning Repository](https://archive.ics.uci.edu/ml/datasets/Adult).\n",
    "\n",
    "After downloading the data and validating the checksum (both training and testing), it generates the quantiles for the continuous features, and the vocabularies for the categorical features. It saves all this info for faster restart later in a binary file. So this won't be necessary a second time.\n",
    "\n",
    "The quantiles are used to calibrate the values, using a piece-wise-lienar calibration, very good for these things. See [`layers.PieceWiseLinearCalibration` documentation](https://pkg.go.dev/github.com/gomlx/gomlx@v0.1.0/ml/layers#PieceWiseLinearCalibration).\n",
    "\n",
    "We create a flag `--data` to define the directory where to save the intermediary files: downloaded and preprocessed datasets.\n",
    "In this examle we set it to `~/work/uci-adult`. Verbosity can be contolled with the `--verbosity` flag. \n",
    "\n",
    "We set default in Go for these flags, but they can easily be reset for a new run by providing them after the `%%` Jupyter kernel meta-command -- in indicates that the subsequent lines should be put in to a `func main`.\n"
   ]
  },
  {
   "cell_type": "code",
   "execution_count": 2,
   "id": "9418be86-70bc-41ad-9e0a-3a5e6bf52b51",
   "metadata": {
    "tags": []
   },
   "outputs": [
    {
     "name": "stdout",
     "output_type": "stream",
     "text": [
      "\n",
      "Sample Categorical: (24.08% positive ratio, 23.86% weighted positive ratio)\n",
      "\tRow 0:\t[7 10 5 1 2 5 2 39]\n",
      "\tRow 1:\t[6 10 3 4 1 5 2 39]\n",
      "\tRow 2:\t[4 12 1 6 2 5 2 39]\n",
      "\t...\n",
      "\tRow 32558:\t[4 12 7 1 5 5 1 39]\n",
      "\tRow 32559:\t[4 12 5 1 4 5 2 39]\n",
      "\tRow 32560:\t[5 12 3 4 6 5 1 39]\n",
      "\n",
      "Sample Continuous:\n",
      "\tRow 0:\t[39 13 2174 0 40]\n",
      "\tRow 1:\t[50 13 0 0 13]\n",
      "\tRow 2:\t[38 9 0 0 40]\n",
      "\t...\n",
      "\tRow 32558:\t[58 9 0 0 40]\n",
      "\tRow 32559:\t[22 9 0 0 20]\n",
      "\tRow 32560:\t[52 9 15024 0 40]\n"
     ]
    }
   ],
   "source": [
    "import (\n",
    "    \"flag\"\n",
    "    \n",
    "    \"github.com/gomlx/gomlx/examples/adult\"\n",
    ")\n",
    "\n",
    "var (\n",
    "    flagDataDir       = flag.String(\"data\", \"~/work/uci-adult\", \"Directory to save and load downloaded and generated dataset files.\")\n",
    "    flagVerbosity     = flag.Int(\"verbosity\", 0, \"Level of verbosity, the higher the more verbose.\")\n",
    "    flagForceDownload = flag.Bool(\"force_download\", false, \"Force re-download of Adult dataset files.\")\n",
    "    flagNumQuantiles  = flag.Int(\"quantiles\", 100, \"Max number of quantiles to use for numeric features, used during piece-wise linear calibration. It will only use unique values, so if there are fewer variability, fewer quantiles are used.\")\n",
    ")\n",
    "\n",
    "%% --verbosity=2\n",
    "adult.LoadAndPreprocessData(*flagDataDir, *flagNumQuantiles, *flagForceDownload, *flagVerbosity)"
   ]
  },
  {
   "cell_type": "code",
   "execution_count": 3,
   "id": "fdab7255-2224-496a-9ec7-75927150f9d7",
   "metadata": {
    "tags": []
   },
   "outputs": [
    {
     "name": "stdout",
     "output_type": "stream",
     "text": [
      "total 7.0M\n",
      "-rw-r--r-- 1 janpf janpf 3.8M Jul 20 18:36 adult.data\n",
      "-rw-r--r-- 1 janpf janpf 1.3M Jul 20 18:36 adult_data-100_quantiles.bin\n",
      "-rw-r--r-- 1 janpf janpf 2.0M Jul 20 18:36 adult.test\n",
      "drwxr-x--- 2 janpf janpf 4.0K Jul 21 20:24 kan_baseline\n"
     ]
    }
   ],
   "source": [
    "!ls -lh ~/work/uci-adult"
   ]
  },
  {
   "cell_type": "markdown",
   "id": "2f1cd493-a81f-4c5f-9004-d21e95103f8e",
   "metadata": {},
   "source": [
    "## Hyperparameters\n",
    "\n",
    "This sets the the superset of hyperparameters with their default values that can be used by the model, by setting them in the context.\n",
    "\n",
    "See the [`demo/main.go`](https://github.com/gomlx/gomlx/blob/main/examples/adult/demo/main.go) file for how to add a flag to allow setting them from the command line."
   ]
  },
  {
   "cell_type": "code",
   "execution_count": 4,
   "id": "31d03e06-f375-4a68-8705-c9d3b6af81ab",
   "metadata": {},
   "outputs": [
    {
     "name": "stdout",
     "output_type": "stream",
     "text": [
      "batch_size=17\n",
      "fnn_num_hidden_layers=12\n"
     ]
    }
   ],
   "source": [
    "import (\n",
    "    \"github.com/gomlx/gomlx/ml/context\"\n",
    "    \"github.com/gomlx/gomlx/ml/layers\"\n",
    "    \"github.com/gomlx/gomlx/ml/layers/fnn\"\n",
    "    \"github.com/gomlx/gomlx/ml/layers/kan\"\n",
    "    \"github.com/gomlx/gomlx/ml/layers/regularizers\"\n",
    "    \"github.com/gomlx/gomlx/ml/train/commandline\"\n",
    "    \"github.com/gomlx/gomlx/ml/train/optimizers\"\n",
    "\t\"github.com/janpfeifer/must\"    \n",
    ")\n",
    "\n",
    "// settings is bound to a \"-set\" flag to be used to set context hyperparameters.\n",
    "var settings = commandline.CreateContextSettingsFlag(createDefaultContext(), \"set\")\n",
    "\n",
    "func createDefaultContext() *context.Context {\n",
    "\tctx := context.NewContext()\n",
    "\tctx.RngStateReset()\n",
    "\tctx.SetParams(map[string]any{\n",
    "\t\t\"checkpoint\":      \"\",\n",
    "\t\t\"num_checkpoints\": 3,\n",
    "\t\t\"train_steps\":     5000,\n",
    "\t\t\"batch_size\":      128,\n",
    "\t\t\"eval_batch_size\":      1000,\n",
    "\t\t\"plots\":           true,\n",
    "\n",
    "\t\toptimizers.ParamOptimizer:           \"adam\",\n",
    "\t\toptimizers.ParamLearningRate:        0.001,\n",
    "\t\toptimizers.ParamAdamEpsilon:         1e-7,\n",
    "\t\toptimizers.ParamAdamDType:           \"\",\n",
    "\t\toptimizers.ParamCosineScheduleSteps: 0,\n",
    "\t\tactivations.ParamActivation:         \"sigmoid\",\n",
    "\t\tlayers.ParamDropoutRate:             0.0,\n",
    "\t\tregularizers.ParamL2:                1e-5,\n",
    "\t\tregularizers.ParamL1:                1e-5,\n",
    "\n",
    "\t\t// FNN network parameters:\n",
    "\t\tfnn.ParamNumHiddenLayers: 1,\n",
    "\t\tfnn.ParamNumHiddenNodes:  4,\n",
    "\t\tfnn.ParamResidual:        true,\n",
    "\t\tfnn.ParamNormalization:   \"layer\",\n",
    "\n",
    "\t\t// KAN network parameters:\n",
    "\t\t\"kan\":                       false, // Enable kan\n",
    "\t\tkan.ParamNumControlPoints:   20,    // Number of control points\n",
    "\t\tkan.ParamNumHiddenNodes:     4,\n",
    "\t\tkan.ParamNumHiddenLayers:    1,\n",
    "\t\tkan.ParamBSplineDegree:      2,\n",
    "\t\tkan.ParamBSplineMagnitudeL1: 1e-5,\n",
    "\t\tkan.ParamBSplineMagnitudeL2: 0.0,\n",
    "\t\tkan.ParamDiscrete:           false,\n",
    "\t\tkan.ParamDiscreteSoftness:   0.1,\n",
    "\t})\n",
    "\treturn ctx\n",
    "}\n",
    "\n",
    "// contextFromSettings is the default context (createDefaultContext) changed by -set flag.\n",
    "func contextFromSettings() *context.Context {\n",
    "    ctx := createDefaultContext()\n",
    "    must.M(commandline.ParseContextSettings(ctx, *settings))\n",
    "    return ctx\n",
    "}\n",
    "\n",
    "// Let's test that we can set hyperparameters by setting it in the \"-set\" flag:\n",
    "%% -set=\"batch_size=17;fnn_num_hidden_layers=12\"\n",
    "ctx := contextFromSettings()\n",
    "fmt.Printf(\"batch_size=%d\\n\", context.GetParamOr(ctx, \"batch_size\", -1))\n",
    "fmt.Printf(\"fnn_num_hidden_layers=%d\\n\", context.GetParamOr(ctx, \"fnn_num_hidden_layers\", -1))"
   ]
  },
  {
   "cell_type": "markdown",
   "id": "028b783b-56f0-457c-b28e-7bb0dd7e94da",
   "metadata": {},
   "source": [
    "### Creating Datasets\n",
    "\n",
    "First we create the GoMLX's `backend`: it's the engine instance (XLA in this case) that \n",
    "compiles and executes our computation graph.\n",
    "\n",
    "It's needed to create tensors that will be fed to the accelearator (GPU or even CPU accelerated code)\n",
    "\n",
    "With that we create the samplers of data that we will use to train and evaluate. They implement \n",
    "GoMLX's `train.Dataset` interface, which is what is used by our training loop to draw batches to\n",
    "train, or our eval loop to draw batches to evaluate.\n",
    "\n",
    "The inputs are 3 tensors: *categorical values*, *continuous values* and *weights*.\n",
    "\n",
    "In the cell below we define `BuildDatasets` and printout some samples."
   ]
  },
  {
   "cell_type": "code",
   "execution_count": 5,
   "id": "f13f771b-7109-49d2-8db5-5f3d5a91d324",
   "metadata": {
    "tags": []
   },
   "outputs": [
    {
     "name": "stdout",
     "output_type": "stream",
     "text": [
      "Inputs of batch (size 128):\n",
      "\tcategorical:\n",
      "\t\tFeatures=[workclass education marital-status occupation relationship race sex native-country]\n",
      "\t\tValues: (Int64)[128 8]: (... too large, 1024 values ..., first 16 values: [2 13 5 10 2 5 1 39 4 16 3 3 1 5 2 39])\n",
      "\tcontinuous:\n",
      "\t\tFeatures=[age education-num capital-gain capital-loss hours-per-week]\n",
      "\t\tValues: (Float32)[128 5]: (... too large, 640 values ..., first 10 values: [40 14 0 0 40 53 10 0 0 40])\n",
      "\tweights: (Float32)[128 1]: (... too large, 128 values ..., first 5 values: [26929 240914 151977 557236 262425])\n",
      "\n",
      "Labels of batch:\n",
      "\t(Float32)[128 1]: (... too large, 128 values ..., first 10 values: [0 0 0 0 0 0 0 0 0 0])\n",
      "\n",
      "Labels distributions:\n",
      "\tTrain:\t24.08% positive\n",
      "\tTest:\t23.62% positive\n"
     ]
    }
   ],
   "source": [
    "import (\n",
    "    \"flag\"\n",
    "    \"fmt\"\n",
    "    \"io\"\n",
    "\n",
    "    \"github.com/gomlx/gomlx/backends\"\n",
    "    \"github.com/gomlx/gomlx/examples/adult\"\n",
    "    \"github.com/gomlx/gomlx/ml/train\"\n",
    "    \"github.com/gomlx/gomlx/types/tensors\"\n",
    "\n",
    "    _ \"github.com/gomlx/gomlx/backends/xla\"\n",
    ")\n",
    "\n",
    "// Global backend created an initialization, used everywhere.\n",
    "var backend = backends.New()\n",
    "\n",
    "// BuildDatasets returns 3 `train.Dataset`:\n",
    "// * trainingSampler is an endless random sampler used for training.\n",
    "// * trainingEvalSampler samples through exactly one epoch of the train dataset.\n",
    "// * testEvalSampler samples through exactly one epoch of the test dataset.\n",
    "func BuildDatasets(ctx *context.Context) (trainDS, trainEvalDS, testEvalDS train.Dataset) {\n",
    "\tbatchSize := context.GetParamOr(ctx, \"batch_size\", 128)\n",
    "\tevalBatchSize := context.GetParamOr(ctx, \"eval_batch_size\", 1000)\n",
    "    baseDS := adult.NewDataset(backend, adult.Data.Train, \"batched train\")\n",
    "    trainEvalDS = baseDS.Copy().BatchSize(evalBatchSize, false)\n",
    "    testEvalDS = adult.NewDataset(backend, adult.Data.Test, \"test\").\n",
    "        BatchSize(evalBatchSize, false)\n",
    "    // For training, we shuffle and loop indefinitely.\n",
    "    trainDS = baseDS.BatchSize(batchSize, true).Shuffle().Infinite(true)\n",
    "    return\n",
    "}\n",
    "\n",
    "// PositiveRatio finds out the the ratio of positive labels in the\n",
    "// training and testing data.\n",
    "//\n",
    "// We could do this easily with GoMLX computation model (just `ReduceAllSum`), but\n",
    "// this examples shows it's also ok to mix Go computations.\n",
    "func PositiveRatio(ds train.Dataset) float32 {\n",
    "    ds.Reset()  // Start from beginning.\n",
    "    var sum float32\n",
    "    var count float32\n",
    "    for {\n",
    "        _, _, labels, err := ds.Yield()\n",
    "        if err == io.EOF {\n",
    "            break;\n",
    "        }\n",
    "        if err != nil { panic(err) }\n",
    "        data := tensors.CopyFlatData[float32](labels[0])\n",
    "        for _, value := range data {\n",
    "            sum += value\n",
    "        }\n",
    "        count += float32(len(data))\n",
    "    }\n",
    "    return sum/count\n",
    "}\n",
    "\n",
    "%%\n",
    "adult.LoadAndPreprocessData(*flagDataDir, *flagNumQuantiles, *flagForceDownload, *flagVerbosity)    \n",
    "ctx := contextFromSettings()\n",
    "trainingDS, trainingEvalDS, testEvalDS := BuildDatasets(ctx)\n",
    "\n",
    "// Take one batch.\n",
    "_, inputs, labels, err := trainingDS.Yield()\n",
    "if err != nil { panic(err) }\n",
    "fmt.Printf(\"Inputs of batch (size %d):\\n\", context.GetParamOr(ctx, \"batch_size\", 0))\n",
    "fmt.Printf(\"\\tcategorical:\\n\\t\\tFeatures=%v\\n\", adult.Data.VocabulariesFeatures)\n",
    "fmt.Printf(\"\\t\\tValues: %s\\n\", inputs[0].StringN(16))\n",
    "fmt.Printf(\"\\tcontinuous:\\n\\t\\tFeatures=%v\\n\", adult.Data.QuantilesFeatures)\n",
    "fmt.Printf(\"\\t\\tValues: %s\\n\", inputs[1].StringN(10))\n",
    "fmt.Printf(\"\\tweights: %s\\n\", inputs[2].StringN(5))\n",
    "fmt.Printf(\"\\nLabels of batch:\\n\\t%s\\n\", labels[0].StringN(10))\n",
    "fmt.Printf(\"\\nLabels distributions:\\n\\tTrain:\\t%.2f%% positive\\n\\tTest:\\t%.2f%% positive\\n\",\n",
    "           PositiveRatio(trainingEvalDS)*100.0, PositiveRatio(testEvalDS)*100.0)\n"
   ]
  },
  {
   "cell_type": "markdown",
   "id": "54efd046-bbd5-4f7d-94e0-9ed3c64512b1",
   "metadata": {},
   "source": [
    "## Model Definition\n",
    "\n",
    "Lots of hyper-parameter flags, but otherwise a straight forward FNN, using piece-wise linear calibration of the continuous features, and embeddings for the categorical features.\n",
    "\n",
    "> **Note**: building models is a constant checking that shapes are compatible. It's a bit annoying, in particular because shapes are known in runtime only -- no compile time check. GoMLX tries to help providing a stack trace of where errors happen so one can pin-point issues quickly. But often it involves lots of experimentation (more than ordinary Go code).\n",
    ">\n",
    "> Developing with a Noteboook (see [GoNB](https://github.com/janpfeifer/gonb)) or simply a unit test on your\n",
    "> `ModelGraph` function are quick and convenient ways to develop models -- before actually training them.\n",
    "> You can also use shape asserts in the middle of the `ModelGraph`, as we do below."
   ]
  },
  {
   "cell_type": "code",
   "execution_count": 6,
   "id": "7040e63b-33f1-4ff9-a232-187196c5f9c1",
   "metadata": {
    "tags": []
   },
   "outputs": [
    {
     "name": "stdout",
     "output_type": "stream",
     "text": [
      "Logits shape for batch_size=128: (Float32)[128 1]\n"
     ]
    }
   ],
   "source": [
    "import (\n",
    "    \"fmt\"\n",
    "    \"io\"\n",
    "\n",
    "    . \"github.com/gomlx/gomlx/graph\"\n",
    "\n",
    "    \"github.com/gomlx/gomlx/ml/context\"\n",
    "    \"github.com/gomlx/gomlx/examples/adult\"\n",
    "    \"github.com/gomlx/gomlx/ml/train\"\n",
    "    \"github.com/gomlx/gomlx/ml/train/optimizers\"\n",
    "    \"github.com/gomlx/gomlx/types/shapes\"\n",
    "    \"github.com/gomlx/gopjrt/dtypes\"\n",
    ")\n",
    "\n",
    "var (\n",
    "    // ModelDType used for the model. Must match RawData Go types.\n",
    "    ModelDType = dtypes.Float32\n",
    "    \n",
    "\n",
    "    // Model hyperparameters.\n",
    "    flagUseCategorical       = flag.Bool(\"use_categorical\", true, \"Use categorical features.\")\n",
    "    flagUseContinuous        = flag.Bool(\"use_continuous\", true, \"Use continuous features.\")\n",
    "    flagTrainableCalibration = flag.Bool(\"trainable_calibration\", true, \"Allow piece-wise linear calibration to adjust outputs.\")\n",
    "    flagEmbeddingDim    = flag.Int(\"embedding_dim\", 8, \"Default embedding dimension for categorical values.\")\n",
    ")\n",
    "\n",
    "\n",
    "// ModelGraph outputs the logits (not the probabilities). The parameter inputs should contain 3 tensors:\n",
    "//\n",
    "// - categorical inputs, shaped  `(int64)[batch_size, len(VocabulariesFeatures)]`\n",
    "// - continuous inputs, shaped `(float32)[batch_size, len(Quantiles)]`\n",
    "// - weights: not currently used, but shaped `(float32)[batch_size, 1]`.\n",
    "func ModelGraph(ctx *context.Context, spec any, inputs []*Node) []*Node {\n",
    "\t_ = spec // Not used, since the dataset is always the same.\n",
    "\tg := inputs[0].Graph()\n",
    "\tdtype := inputs[1].DType() // From continuous features.\n",
    "\n",
    "\t// Use Cosine schedule of the learning rate, if hyperparameter is set to a value > 0.\n",
    "\toptimizers.CosineAnnealingSchedule(ctx, g, dtype).FromContext().Done()\n",
    "\n",
    "\tcategorical, continuous := inputs[0], inputs[1]\n",
    "\tbatchSize := categorical.Shape().Dimensions[0]\n",
    "\n",
    "\t// Feature preprocessing:\n",
    "\tvar allEmbeddings []*Node\n",
    "\tif *flagUseCategorical {\n",
    "\t\t// Embedding of categorical values, each with its own vocabulary.\n",
    "\t\tnumCategorical := categorical.Shape().Dimensions[1]\n",
    "\t\tfor catIdx := 0; catIdx < numCategorical; catIdx++ {\n",
    "\t\t\t// Take one column at a time of the categorical values.\n",
    "\t\t\tsplit := Slice(categorical, AxisRange(), AxisRange(catIdx, catIdx+1))\n",
    "\t\t\t// Embed it accordingly.\n",
    "\t\t\tembedCtx := ctx.In(fmt.Sprintf(\"categorical_%d_%s\", catIdx, adult.Data.VocabulariesFeatures[catIdx]))\n",
    "\t\t\tvocab := adult.Data.Vocabularies[catIdx]\n",
    "\t\t\tvocabSize := len(vocab)\n",
    "\t\t\tembedding := layers.Embedding(embedCtx, split, ModelDType, vocabSize, *flagEmbeddingDim)\n",
    "\t\t\tembedding.AssertDims(batchSize, *flagEmbeddingDim) // 2-dim tensor, with batch size as the leading dimension.\n",
    "\t\t\tallEmbeddings = append(allEmbeddings, embedding)\n",
    "\t\t}\n",
    "\t}\n",
    "\n",
    "\tif *flagUseContinuous {\n",
    "\t\t// Piecewise-linear calibration of the continuous values. Each feature has its own number of quantiles.\n",
    "\t\tnumContinuous := continuous.Shape().Dimensions[1]\n",
    "\t\tfor contIdx := 0; contIdx < numContinuous; contIdx++ {\n",
    "\t\t\t// Take one column at a time of the continuous values.\n",
    "\t\t\tsplit := Slice(continuous, AxisRange(), AxisRange(contIdx, contIdx+1))\n",
    "\t\t\tfeatureName := adult.Data.QuantilesFeatures[contIdx]\n",
    "\t\t\tcalibrationCtx := ctx.In(fmt.Sprintf(\"continuous_%d_%s\", contIdx, featureName))\n",
    "\t\t\tquantiles := adult.Data.Quantiles[contIdx]\n",
    "\t\t\tlayers.AssertQuantilesForPWLCalibrationValid(quantiles)\n",
    "\t\t\tcalibrated := layers.PieceWiseLinearCalibration(calibrationCtx, split, Const(g, quantiles),\n",
    "\t\t\t\t*flagTrainableCalibration)\n",
    "\t\t\tcalibrated.AssertDims(batchSize, 1) // 2-dim tensor, with batch size as the leading dimension.\n",
    "\t\t\tallEmbeddings = append(allEmbeddings, calibrated)\n",
    "\t\t}\n",
    "\t}\n",
    "\tlogits := Concatenate(allEmbeddings, -1)\n",
    "\tlogits.AssertDims(batchSize, -1) // 2-dim tensor, with batch size as the leading dimension (-1 means it is not checked).\n",
    "\n",
    "\t// Model itself is an FNN or a KAN.\n",
    "\tif context.GetParamOr(ctx, \"kan\", false) {\n",
    "\t\t// Use KAN, all configured by context hyperparameters. See createDefaultContext for defaults.\n",
    "\t\tlogits = kan.New(ctx.In(\"kan\"), logits, 1).Done()\n",
    "\t} else {\n",
    "\t\t// Normal FNN, all configured by context hyperparameters. See createDefaultContext for defaults.\n",
    "\t\tlogits = fnn.New(ctx.In(\"fnn\"), logits, 1).Done()\n",
    "\t}\n",
    "\tlogits.AssertDims(batchSize, 1) // 2-dim tensor, with batch size as the leading dimension.\n",
    "\treturn []*Node{logits}\n",
    "}\n",
    "\n",
    "%%\n",
    "adult.LoadAndPreprocessData(*flagDataDir, *flagNumQuantiles, *flagForceDownload, *flagVerbosity)    \n",
    "\n",
    "// Let's just check that we get the right shape from the model function, wihtout any real data.\n",
    "ctx := contextFromSettings()\n",
    "graph := NewGraph(backend, \"test\")\n",
    "batchSize := context.GetParamOr(ctx, \"batch_size\", 128)\n",
    "// Create placeholder (parameters) graph nodes, just to test the graph building is working.\n",
    "inputs := []*Node{\n",
    "    // Categorical: shaped [batch_size, num_categorical]\n",
    "    Parameter(graph, \"categorical\", shapes.Make(dtypes.Int64, batchSize, len(adult.Data.VocabulariesFeatures))),\n",
    "    // Continuous: shaped [batch_size, num_continuos]\n",
    "    Parameter(graph, \"continuous\", shapes.Make(dtypes.Float32, batchSize, len(adult.Data.QuantilesFeatures))),\n",
    "    // Weights: shaped [batch_size, 1]\n",
    "    Parameter(graph, \"weights\", shapes.Make(dtypes.Float32, batchSize, 1)),    \n",
    "}\n",
    "logits := ModelGraph(ctx, nil, inputs)\n",
    "fmt.Printf(\"Logits shape for batch_size=%d: %s\\n\", batchSize, logits[0].Shape())"
   ]
  },
  {
   "cell_type": "markdown",
   "id": "618e1c7a-ced1-4914-8530-0924e02f095c",
   "metadata": {},
   "source": [
    "## Training Loop\n",
    "\n",
    "We can create a training loop with only a `Manager`, a `Context` (for the model varibles) and the `ModelGraph` function.\n",
    "\n",
    "To make it more interesting we also add the following:\n",
    "\n",
    "* Accuracy metrics for training and testing.\n",
    "* Checkpoints -- so trained model can be saved, and reloaded.\n",
    "* A progress-bar that also shows training metrics.\n",
    "* We dynamically plot how the loss and accuracy evolve.\n",
    "\n",
    "First we define the corresponding flags and the `trainModel` function, and run it for very few steps to make sure\n",
    "it is working."
   ]
  },
  {
   "cell_type": "code",
   "execution_count": 7,
   "id": "daf39a7c-7cc8-43a5-ae79-026303f5f502",
   "metadata": {
    "tags": []
   },
   "outputs": [
    {
     "name": "stdout",
     "output_type": "stream",
     "text": [
      "Training (100 steps):  100% [\u001b[32m=\u001b[0m\u001b[32m=\u001b[0m\u001b[32m=\u001b[0m\u001b[32m=\u001b[0m\u001b[32m=\u001b[0m\u001b[32m=\u001b[0m\u001b[32m=\u001b[0m\u001b[32m=\u001b[0m\u001b[32m=\u001b[0m\u001b[32m=\u001b[0m\u001b[32m=\u001b[0m\u001b[32m=\u001b[0m\u001b[32m=\u001b[0m\u001b[32m=\u001b[0m\u001b[32m=\u001b[0m\u001b[32m=\u001b[0m\u001b[32m=\u001b[0m\u001b[32m=\u001b[0m\u001b[32m=\u001b[0m\u001b[32m=\u001b[0m\u001b[32m=\u001b[0m\u001b[32m=\u001b[0m\u001b[32m=\u001b[0m\u001b[32m=\u001b[0m\u001b[32m=\u001b[0m\u001b[32m=\u001b[0m\u001b[32m=\u001b[0m\u001b[32m=\u001b[0m\u001b[32m=\u001b[0m\u001b[32m=\u001b[0m\u001b[32m=\u001b[0m\u001b[32m=\u001b[0m\u001b[32m=\u001b[0m\u001b[32m=\u001b[0m\u001b[32m=\u001b[0m\u001b[32m=\u001b[0m\u001b[32m=\u001b[0m\u001b[32m=\u001b[0m\u001b[32m=\u001b[0m\u001b[32m=\u001b[0m] (87 steps/s)\u001b[0m [step=99] [loss+=0.536] [~loss+=0.628] [~loss=0.628] [~acc=76.05%]        \n",
      "\t[Step 100] median train step: 1899 microseconds\n",
      "\n",
      "Results on batched train:\n",
      "\tMean Loss+Regularization (#loss+): 0.542\n",
      "\tMean Loss (#loss): 0.542\n",
      "\tMean Accuracy (#acc): 82.22%\n",
      "Results on test:\n",
      "\tMean Loss+Regularization (#loss+): 0.540\n",
      "\tMean Loss (#loss): 0.540\n",
      "\tMean Accuracy (#acc): 82.31%\n"
     ]
    }
   ],
   "source": [
    "import (\n",
    "    \"fmt\"\n",
    "    \"time\"\n",
    "    \"github.com/gomlx/gomlx/examples/notebook/gonb/plotly\"\n",
    ")\n",
    "\n",
    "var (\n",
    "    flagCheckpoint     = flag.String(\"checkpoint\", \"\", \"Directory save and load checkpoints from. If left empty, no checkpoints are created.\")\n",
    "    flagCheckpointKeep = flag.Int(\"checkpoint_keep\", 10, \"Number of checkpoints to keep, if --checkpoint is set.\")\n",
    "    flagPlots          = flag.Bool(\"plots\", true, \"Plots during training: perform periodic evaluations, \"+\n",
    "                                   \"save results if --checkpoint is set and draw plots, if in a Jupyter notebook.\")\n",
    "    flagPlotType       = flag.String(\"plot_type\", \"plotly\", \"Type of plot to use, values are \\\"plotly\\\" or \\\"margaid\\\"\")\n",
    ")\n",
    "\n",
    "func trainModel(ctx *context.Context) {\n",
    "    // Fixes directories.\n",
    "    *flagDataDir = data.ReplaceTildeInDir(*flagDataDir)\n",
    "\tcheckpointPath := data.ReplaceTildeInDir(*flagCheckpoint)\n",
    "\tif checkpointPath != \"\" && !path.IsAbs(checkpointPath) {\n",
    "\t\tcheckpointPath = path.Join(*flagDataDir, checkpointPath)\n",
    "\t}\n",
    "\tif checkpointPath != \"\" {\n",
    "\t\tctx.SetParam(\"checkpoint\", checkpointPath)\n",
    "\t} else {\n",
    "\t\tcheckpointPath = context.GetParamOr(ctx, \"checkpoint\", \"\")\n",
    "\t}\n",
    "\n",
    "    // Load data and create datasets.\n",
    "    adult.LoadAndPreprocessData(*flagDataDir, *flagNumQuantiles, *flagForceDownload, *flagVerbosity)    \n",
    "    trainDS, trainEvalDS, testEvalDS := BuildDatasets(ctx)\n",
    "\n",
    "    // Checkpoints loading (and saving): notice hyperparameters will be overwritten by values read from checkpoint.\n",
    "    trainSteps := context.GetParamOr(ctx, \"train_steps\", 0)\n",
    "\tvar globalStep int\n",
    "\tvar checkpoint *checkpoints.Handler\n",
    "\tif checkpointPath != \"\" {\n",
    "\t\tnumCheckpointsToKeep := context.GetParamOr(ctx, \"num_checkpoints\", 5)\n",
    "\t\tif numCheckpointsToKeep < 1 {\n",
    "\t\t\t// Only limit the amount of checkpoints kept if >= 1.\n",
    "\t\t\tcheckpoint = must.M1(checkpoints.Build(ctx).Dir(checkpointPath).Done())\n",
    "\t\t} else {\n",
    "\t\t\tcheckpoint = must.M1(checkpoints.Build(ctx).Dir(checkpointPath).Keep(numCheckpointsToKeep).Done())\n",
    "\t\t}\n",
    "\t\tglobalStep = int(optimizers.GetGlobalStep(ctx))\n",
    "\t\tif globalStep != 0 {\n",
    "\t\t\tfmt.Printf(\"\\t- restarting training from global_step=%d\\n\", globalStep)\n",
    "\t\t\tctx = ctx.Reuse()\n",
    "\t\t}\n",
    "\t}\n",
    "\n",
    "\t// Metrics we are interested.\n",
    "\tmeanAccuracyMetric := metrics.NewMeanBinaryLogitsAccuracy(\"Mean Accuracy\", \"#acc\")\n",
    "\tmovingAccuracyMetric := metrics.NewMovingAverageBinaryLogitsAccuracy(\"Moving Average Accuracy\", \"~acc\", 0.01)\n",
    "\n",
    "\n",
    "\t// Create a train.Trainer: this object will orchestrate running the model, feeding\n",
    "\t// results to the optimizer, evaluating the metrics, etc. (all happens in trainer.TrainStep)\n",
    "\ttrainer := train.NewTrainer(backend, ctx, ModelGraph, losses.BinaryCrossentropyLogits,\n",
    "\t\toptimizers.FromContext(ctx),\n",
    "\t\t[]metrics.Interface{movingAccuracyMetric}, // trainMetrics\n",
    "\t\t[]metrics.Interface{meanAccuracyMetric})   // evalMetrics\n",
    "\n",
    "    // Use standard training loop.\n",
    "    loop := train.NewLoop(trainer)\n",
    "    commandline.AttachProgressBar(loop) // Attaches a progress bar to the loop.\n",
    "\n",
    "    // Attach a checkpoint saver: checkpoint every 1 minute of training.\n",
    "    if checkpoint != nil {\n",
    "        period := time.Minute * 1\n",
    "        train.PeriodicCallback(loop, period, true, \"saving checkpoint\", 100,\n",
    "            func(loop *train.Loop, metrics []*tensors.Tensor) error {\n",
    "                fmt.Printf(\"\\n[saving checkpoint@%d] [median train step (ms): %d]\\n\", loop.LoopStep, loop.MedianTrainStepDuration().Milliseconds())\n",
    "                return checkpoint.Save()\n",
    "            })\n",
    "    }\n",
    "\n",
    "\t// Attach plots (using plotly): plot points at exponential steps.\n",
    "    // Points (metrics) are saved along the checkpoint directory (if one is given).\n",
    "\tusePlots := context.GetParamOr(ctx, plotly.ParamPlots, false)\n",
    "\tif usePlots {\n",
    "\t\tplots := plotly.New().Dynamic().\n",
    "\t\t\tScheduleExponential(loop, 200, 1.2).\n",
    "\t\t\tWithDatasets(trainEvalDS, testEvalDS).\n",
    "            Dynamic()\n",
    "        if checkpoint != nil {\n",
    "            plots.WithCheckpoint(checkpoint.Dir())\n",
    "        }\n",
    "\t}\n",
    "\n",
    "\t// Train up to \"train_steps\".\n",
    "\tif globalStep < trainSteps {\n",
    "\t\t_ = must.M1(loop.RunSteps(trainDS, trainSteps-globalStep))\n",
    "\t\tfmt.Printf(\"\\t[Step %d] median train step: %d microseconds\\n\", loop.LoopStep, loop.MedianTrainStepDuration().Microseconds())\n",
    "\t\tfmt.Println()\n",
    "\t} else {\n",
    "\t\tfmt.Printf(\"\\t - target train_steps=%d already reached. To train further, set a number additional \"+\n",
    "\t\t\t\"to current global step.\\n\", trainSteps)\n",
    "\t}\n",
    "\n",
    "\t// Finally, print an evaluation on train and test datasets.\n",
    "\tmust.M(commandline.ReportEval(trainer, trainEvalDS, testEvalDS))\n",
    "}\n",
    "\n",
    "// Notice command line flags are passed in the %% notebook command. We set plots=false here to disable plotting\n",
    "// since this is only a quick test that our train() loop is working. See below the final run for a full training.\n",
    "%% -set=\"train_steps=100;plots=false\"\n",
    "trainModel(contextFromSettings())"
   ]
  },
  {
   "cell_type": "markdown",
   "id": "6bb5db6b-3a2c-4f48-8264-f90b22a52ed0",
   "metadata": {},
   "source": [
    "## Final run with 5K steps\n",
    "\n",
    "With everything working, we can do our final run.\n",
    "\n",
    "> **Note** here is where someone might want to hyperparameter tune, trying out different hyperparameters."
   ]
  },
  {
   "cell_type": "code",
   "execution_count": 8,
   "id": "a9d901d9-c503-4a94-8dec-a471a18bbbee",
   "metadata": {},
   "outputs": [],
   "source": [
    "// Remove previously trained model -- skip this cell, if you want to continue training.\n",
    "!rm -rf ~/work/uci-adult/base_model"
   ]
  },
  {
   "cell_type": "code",
   "execution_count": 9,
   "id": "66939463-60d7-446f-b4f3-1d60abe7c17c",
   "metadata": {
    "tags": []
   },
   "outputs": [
    {
     "data": {
      "text/html": [
       "(...collecting metrics, minimum 3 required to start plotting...)"
      ]
     },
     "metadata": {},
     "output_type": "display_data"
    },
    {
     "data": {
      "text/html": []
     },
     "metadata": {},
     "output_type": "display_data"
    },
    {
     "name": "stdout",
     "output_type": "stream",
     "text": [
      "Training (5000 steps):   14% [\u001b[32m=\u001b[0m\u001b[32m=\u001b[0m\u001b[32m=\u001b[0m\u001b[32m=\u001b[0m\u001b[32m>\u001b[0m...................................] (296 steps/s) [3s:14s]\u001b[0m [step=724] [loss+=0.331] [~loss+=0.325] [~loss=0.325] [~acc=85.84%]        "
     ]
    },
    {
     "data": {
      "text/html": []
     },
     "metadata": {},
     "output_type": "display_data"
    },
    {
     "name": "stdout",
     "output_type": "stream",
     "text": [
      "Training (5000 steps):  100% [\u001b[32m=\u001b[0m\u001b[32m=\u001b[0m\u001b[32m=\u001b[0m\u001b[32m=\u001b[0m\u001b[32m=\u001b[0m\u001b[32m=\u001b[0m\u001b[32m=\u001b[0m\u001b[32m=\u001b[0m\u001b[32m=\u001b[0m\u001b[32m=\u001b[0m\u001b[32m=\u001b[0m\u001b[32m=\u001b[0m\u001b[32m=\u001b[0m\u001b[32m=\u001b[0m\u001b[32m=\u001b[0m\u001b[32m=\u001b[0m\u001b[32m=\u001b[0m\u001b[32m=\u001b[0m\u001b[32m=\u001b[0m\u001b[32m=\u001b[0m\u001b[32m=\u001b[0m\u001b[32m=\u001b[0m\u001b[32m=\u001b[0m\u001b[32m=\u001b[0m\u001b[32m=\u001b[0m\u001b[32m=\u001b[0m\u001b[32m=\u001b[0m\u001b[32m=\u001b[0m\u001b[32m=\u001b[0m\u001b[32m=\u001b[0m\u001b[32m=\u001b[0m\u001b[32m=\u001b[0m\u001b[32m=\u001b[0m\u001b[32m=\u001b[0m\u001b[32m=\u001b[0m\u001b[32m=\u001b[0m\u001b[32m=\u001b[0m\u001b[32m=\u001b[0m\u001b[32m=\u001b[0m\u001b[32m=\u001b[0m] (453 steps/s)\u001b[0m [step=4999] [loss+=0.244] [~loss+=0.270] [~loss=0.270] [~acc=87.33%]        \n",
      "\n",
      "[saving checkpoint@5000] [median train step (ms): 1]\n"
     ]
    },
    {
     "data": {
      "text/html": [
       "<p><b>Metric: accuracy</b></p>\n"
      ]
     },
     "metadata": {},
     "output_type": "display_data"
    },
    {
     "data": {
      "text/html": [
       "<div id=\"4c56257e\"></div>"
      ]
     },
     "metadata": {},
     "output_type": "display_data"
    },
    {
     "data": {
      "text/html": [
       "<script charset=\"UTF-8\">\n",
       "(() => {\n",
       "\tconst src=\"https://cdn.plot.ly/plotly-2.29.1.min.js\";\n",
       "\tvar runJSFn = function(module) {\n",
       "\t\t\n",
       "\tif (!module) {\n",
       "\t\tmodule = window.Plotly;\n",
       "\t}\n",
       "\tlet data = JSON.parse('{\"data\":[{\"type\":\"scatter\",\"line\":{\"shape\":\"linear\"},\"mode\":\"lines+markers\",\"name\":\"Train: Moving Average Accuracy\",\"x\":[200,440,728,1074,1489,1987,2585,3303,4165,5000],\"y\":[0.7874082922935486,0.8426163792610168,0.857791006565094,0.8654744029045105,0.8695554733276367,0.8730016946792603,0.8734694123268127,0.8726642727851868,0.8723989725112915,0.8732985258102417]},{\"type\":\"scatter\",\"line\":{\"shape\":\"linear\"},\"mode\":\"lines+markers\",\"name\":\"Eval on batched train: Mean Accuracy\",\"x\":[200,440,728,1074,1489,1987,2585,3303,4165,5000],\"y\":[0.8418967723846436,0.8525843620300293,0.8595559000968933,0.8660053610801697,0.8720555305480957,0.8734375834465027,0.8738061189651489,0.874021053314209,0.8736218214035034,0.8746660351753235]},{\"type\":\"scatter\",\"line\":{\"shape\":\"linear\"},\"mode\":\"lines+markers\",\"name\":\"Eval on test: Mean Accuracy\",\"x\":[200,440,728,1074,1489,1987,2585,3303,4165,5000],\"y\":[0.8436827659606934,0.8547385931015015,0.8600208163261414,0.8614335060119629,0.8694182634353638,0.8699096441268921,0.8721207976341248,0.8717522621154785,0.871383786201477,0.8705852627754211]}],\"layout\":{\"legend\":{},\"title\":{\"text\":\"accuracy\"},\"xaxis\":{\"showgrid\":true,\"type\":\"log\"},\"yaxis\":{\"showgrid\":true,\"type\":\"log\"}}}');\n",
       "\tmodule.newPlot('4c56257e', data);\n",
       "\n",
       "\t}\n",
       "\t\n",
       "    if (typeof requirejs === \"function\") {\n",
       "        // Use RequireJS to load module.\n",
       "\t\tlet srcWithoutExtension = src.substring(0, src.lastIndexOf(\".js\"));\n",
       "        requirejs.config({\n",
       "            paths: {\n",
       "                'plotly': srcWithoutExtension\n",
       "            }\n",
       "        });\n",
       "        require(['plotly'], function(plotly) {\n",
       "            runJSFn(plotly)\n",
       "        });\n",
       "        return\n",
       "    }\n",
       "\n",
       "\tvar currentScripts = document.head.getElementsByTagName(\"script\");\n",
       "\tfor (const idx in currentScripts) {\n",
       "\t\tlet script = currentScripts[idx];\n",
       "\t\tif (script.src == src) {\n",
       "\t\t\trunJSFn(null);\n",
       "\t\t\treturn;\n",
       "\t\t}\n",
       "\t}\n",
       "\n",
       "\tvar script = document.createElement(\"script\");\n",
       "\n",
       "\tscript.charset = \"utf-8\";\n",
       "\t\n",
       "\tscript.src = src;\n",
       "\tscript.onload = script.onreadystatechange = function () { runJSFn(null); };\n",
       "\tdocument.head.appendChild(script);\t\n",
       "})();\n",
       "</script>"
      ]
     },
     "metadata": {},
     "output_type": "display_data"
    },
    {
     "data": {
      "text/html": [
       "<p><b>Metric: loss</b></p>\n"
      ]
     },
     "metadata": {},
     "output_type": "display_data"
    },
    {
     "data": {
      "text/html": [
       "<div id=\"038356c8\"></div>"
      ]
     },
     "metadata": {},
     "output_type": "display_data"
    },
    {
     "data": {
      "text/html": [
       "<script charset=\"UTF-8\">\n",
       "(() => {\n",
       "\tconst src=\"https://cdn.plot.ly/plotly-2.29.1.min.js\";\n",
       "\tvar runJSFn = function(module) {\n",
       "\t\t\n",
       "\tif (!module) {\n",
       "\t\tmodule = window.Plotly;\n",
       "\t}\n",
       "\tlet data = JSON.parse('{\"data\":[{\"type\":\"scatter\",\"line\":{\"shape\":\"linear\"},\"mode\":\"lines+markers\",\"name\":\"Train: Batch Loss+Regularization\",\"x\":[200,440,728,1074,1489,1987,2585,3303,4165,5000],\"y\":[0.42113396525382996,0.36832717061042786,0.252225399017334,0.26301082968711853,0.2555369734764099,0.27840107679367065,0.2839052677154541,0.27309146523475647,0.27913230657577515,0.24389903247356415]},{\"type\":\"scatter\",\"line\":{\"shape\":\"linear\"},\"mode\":\"lines+markers\",\"name\":\"Train: Moving Average Loss+Regularization\",\"x\":[200,440,728,1074,1489,1987,2585,3303,4165,5000],\"y\":[0.5428531765937805,0.3824126720428467,0.32592496275901794,0.2991558909416199,0.2868157625198364,0.2789943814277649,0.2771625220775604,0.27576467394828796,0.2729857861995697,0.27007877826690674]},{\"type\":\"scatter\",\"line\":{\"shape\":\"linear\"},\"mode\":\"lines+markers\",\"name\":\"Train: Moving Average Loss\",\"x\":[200,440,728,1074,1489,1987,2585,3303,4165,5000],\"y\":[0.5426512360572815,0.38212326169013977,0.32562533020973206,0.29886069893836975,0.28651949763298035,0.27868831157684326,0.27685022354125977,0.2754414677619934,0.27265381813049316,0.26974058151245117]},{\"type\":\"scatter\",\"line\":{\"shape\":\"linear\"},\"mode\":\"lines+markers\",\"name\":\"Eval on batched train: Mean Loss+Regularization\",\"x\":[200,440,728,1074,1489,1987,2585,3303,4165,5000],\"y\":[0.4379507303237915,0.34631600975990295,0.31440865993499756,0.29515787959098816,0.2828119099140167,0.2770327925682068,0.27512189745903015,0.2717907428741455,0.2710023820400238,0.27021288871765137]},{\"type\":\"scatter\",\"line\":{\"shape\":\"linear\"},\"mode\":\"lines+markers\",\"name\":\"Eval on batched train: Mean Loss\",\"x\":[200,440,728,1074,1489,1987,2585,3303,4165,5000],\"y\":[0.4376775324344635,0.3460167944431305,0.3141072988510132,0.29486361145973206,0.2825152575969696,0.27672553062438965,0.27480655908584595,0.27146807312965393,0.2706697881221771,0.2698724567890167]},{\"type\":\"scatter\",\"line\":{\"shape\":\"linear\"},\"mode\":\"lines+markers\",\"name\":\"Eval on test: Mean Loss+Regularization\",\"x\":[200,440,728,1074,1489,1987,2585,3303,4165,5000],\"y\":[0.43470481038093567,0.3443957567214966,0.3160542845726013,0.3008141815662384,0.2896974980831146,0.2850625216960907,0.2841043770313263,0.2805688977241516,0.2806321978569031,0.28140097856521606]},{\"type\":\"scatter\",\"line\":{\"shape\":\"linear\"},\"mode\":\"lines+markers\",\"name\":\"Eval on test: Mean Loss\",\"x\":[200,440,728,1074,1489,1987,2585,3303,4165,5000],\"y\":[0.43443161249160767,0.34409648180007935,0.3157529830932617,0.3005199432373047,0.2894008755683899,0.28475525975227356,0.2837890684604645,0.28024622797966003,0.28029966354370117,0.28106048703193665]}],\"layout\":{\"legend\":{},\"title\":{\"text\":\"loss\"},\"xaxis\":{\"showgrid\":true,\"type\":\"log\"},\"yaxis\":{\"showgrid\":true,\"type\":\"log\"}}}');\n",
       "\tmodule.newPlot('038356c8', data);\n",
       "\n",
       "\t}\n",
       "\t\n",
       "    if (typeof requirejs === \"function\") {\n",
       "        // Use RequireJS to load module.\n",
       "\t\tlet srcWithoutExtension = src.substring(0, src.lastIndexOf(\".js\"));\n",
       "        requirejs.config({\n",
       "            paths: {\n",
       "                'plotly': srcWithoutExtension\n",
       "            }\n",
       "        });\n",
       "        require(['plotly'], function(plotly) {\n",
       "            runJSFn(plotly)\n",
       "        });\n",
       "        return\n",
       "    }\n",
       "\n",
       "\tvar currentScripts = document.head.getElementsByTagName(\"script\");\n",
       "\tfor (const idx in currentScripts) {\n",
       "\t\tlet script = currentScripts[idx];\n",
       "\t\tif (script.src == src) {\n",
       "\t\t\trunJSFn(null);\n",
       "\t\t\treturn;\n",
       "\t\t}\n",
       "\t}\n",
       "\n",
       "\tvar script = document.createElement(\"script\");\n",
       "\n",
       "\tscript.charset = \"utf-8\";\n",
       "\t\n",
       "\tscript.src = src;\n",
       "\tscript.onload = script.onreadystatechange = function () { runJSFn(null); };\n",
       "\tdocument.head.appendChild(script);\t\n",
       "})();\n",
       "</script>"
      ]
     },
     "metadata": {},
     "output_type": "display_data"
    },
    {
     "name": "stdout",
     "output_type": "stream",
     "text": [
      "\t[Step 5000] median train step: 1686 microseconds\n",
      "\n",
      "Results on batched train:\n",
      "\tMean Loss+Regularization (#loss+): 0.270\n",
      "\tMean Loss (#loss): 0.270\n",
      "\tMean Accuracy (#acc): 87.47%\n",
      "Results on test:\n",
      "\tMean Loss+Regularization (#loss+): 0.281\n",
      "\tMean Loss (#loss): 0.281\n",
      "\tMean Accuracy (#acc): 87.06%\n"
     ]
    }
   ],
   "source": [
    "%% --checkpoint base_model -set=\"plots=true;train_steps=5000\"\n",
    "trainModel(contextFromSettings())"
   ]
  },
  {
   "cell_type": "markdown",
   "id": "c38d8a41-3e9c-4107-a507-c879ef27e3e3",
   "metadata": {},
   "source": [
    "## Extend training another 5K steps\n",
    "\n",
    "Since the model training went well, and it doesn't seem to be yet terribly overfiting, \n",
    "let's train further, another 5k steps, for 10K steps in total.\n",
    "\n",
    "Notice the plots continue from where it stopped. And this time we use [Plotly](https://plotly.com/javascript/) to plot the training results -- they don't display in Github since they depend on javascript.\n",
    "\n",
    "Unfortunately, it doesn't help (the accuracy on the test set doesn't improve), 5k steps was already enough."
   ]
  },
  {
   "cell_type": "code",
   "execution_count": 10,
   "id": "95983f61-2a98-442d-bc5d-896006289a2b",
   "metadata": {
    "tags": []
   },
   "outputs": [
    {
     "name": "stdout",
     "output_type": "stream",
     "text": [
      "train_steps=10000\n",
      "loading: \"checkpoint-n0000000-20240729-120437-step-00005000\"\n",
      "\t- restarting training from global_step=5000\n"
     ]
    },
    {
     "data": {
      "text/html": [
       "(...collecting metrics, minimum 3 required to start plotting...)"
      ]
     },
     "metadata": {},
     "output_type": "display_data"
    },
    {
     "data": {
      "text/html": []
     },
     "metadata": {},
     "output_type": "display_data"
    },
    {
     "name": "stdout",
     "output_type": "stream",
     "text": [
      "Training (5000 steps):    4% [\u001b[32m>\u001b[0m.......................................] (2 steps/s) [0s:43m35s]\u001b[0m [step=5199] [loss+=0.209] [~loss+=0.271] [~loss=0.271] [~acc=87.34%]        "
     ]
    },
    {
     "data": {
      "text/html": []
     },
     "metadata": {},
     "output_type": "display_data"
    },
    {
     "name": "stdout",
     "output_type": "stream",
     "text": [
      "Training (5000 steps):  100% [\u001b[32m=\u001b[0m\u001b[32m=\u001b[0m\u001b[32m=\u001b[0m\u001b[32m=\u001b[0m\u001b[32m=\u001b[0m\u001b[32m=\u001b[0m\u001b[32m=\u001b[0m\u001b[32m=\u001b[0m\u001b[32m=\u001b[0m\u001b[32m=\u001b[0m\u001b[32m=\u001b[0m\u001b[32m=\u001b[0m\u001b[32m=\u001b[0m\u001b[32m=\u001b[0m\u001b[32m=\u001b[0m\u001b[32m=\u001b[0m\u001b[32m=\u001b[0m\u001b[32m=\u001b[0m\u001b[32m=\u001b[0m\u001b[32m=\u001b[0m\u001b[32m=\u001b[0m\u001b[32m=\u001b[0m\u001b[32m=\u001b[0m\u001b[32m=\u001b[0m\u001b[32m=\u001b[0m\u001b[32m=\u001b[0m\u001b[32m=\u001b[0m\u001b[32m=\u001b[0m\u001b[32m=\u001b[0m\u001b[32m=\u001b[0m\u001b[32m=\u001b[0m\u001b[32m=\u001b[0m\u001b[32m=\u001b[0m\u001b[32m=\u001b[0m\u001b[32m=\u001b[0m\u001b[32m=\u001b[0m\u001b[32m=\u001b[0m\u001b[32m=\u001b[0m\u001b[32m=\u001b[0m\u001b[32m=\u001b[0m] (483 steps/s)\u001b[0m [step=9999] [loss+=0.260] [~loss+=0.269] [~loss=0.269] [~acc=87.59%]        \n",
      "\n",
      "[saving checkpoint@10000] [median train step (ms): 1]\n"
     ]
    },
    {
     "data": {
      "text/html": [
       "<p><b>Metric: accuracy</b></p>\n"
      ]
     },
     "metadata": {},
     "output_type": "display_data"
    },
    {
     "data": {
      "text/html": [
       "<div id=\"c0eeac89\"></div>"
      ]
     },
     "metadata": {},
     "output_type": "display_data"
    },
    {
     "data": {
      "text/html": [
       "<script charset=\"UTF-8\">\n",
       "(() => {\n",
       "\tconst src=\"https://cdn.plot.ly/plotly-2.29.1.min.js\";\n",
       "\tvar runJSFn = function(module) {\n",
       "\t\t\n",
       "\tif (!module) {\n",
       "\t\tmodule = window.Plotly;\n",
       "\t}\n",
       "\tlet data = JSON.parse('{\"data\":[{\"type\":\"scatter\",\"line\":{\"shape\":\"linear\"},\"mode\":\"lines+markers\",\"name\":\"Train: Moving Average Accuracy\",\"x\":[200,440,728,1074,1489,1987,2585,3303,4165,5000,5199,6440,7929,9716,10000],\"y\":[0.7874082922935486,0.8426163792610168,0.857791006565094,0.8654744029045105,0.8695554733276367,0.8730016946792603,0.8734694123268127,0.8726642727851868,0.8723989725112915,0.8732985258102417,0.8734074234962463,0.8744443655014038,0.8748952150344849,0.8725854158401489,0.8758950233459473]},{\"type\":\"scatter\",\"line\":{\"shape\":\"linear\"},\"mode\":\"lines+markers\",\"name\":\"Eval on batched train: Mean Accuracy\",\"x\":[200,440,728,1074,1489,1987,2585,3303,4165,5000,5199,6440,7929,9716,10000],\"y\":[0.8418967723846436,0.8525843620300293,0.8595559000968933,0.8660053610801697,0.8720555305480957,0.8734375834465027,0.8738061189651489,0.874021053314209,0.8736218214035034,0.8746660351753235,0.8741746544837952,0.8741746544837952,0.8747581839561462,0.8744510412216187,0.873928964138031]},{\"type\":\"scatter\",\"line\":{\"shape\":\"linear\"},\"mode\":\"lines+markers\",\"name\":\"Eval on test: Mean Accuracy\",\"x\":[200,440,728,1074,1489,1987,2585,3303,4165,5000,5199,6440,7929,9716,10000],\"y\":[0.8436827659606934,0.8547385931015015,0.8600208163261414,0.8614335060119629,0.8694182634353638,0.8699096441268921,0.8721207976341248,0.8717522621154785,0.871383786201477,0.8705852627754211,0.8708924055099487,0.871383786201477,0.8725507855415344,0.870339572429657,0.8702781796455383]}],\"layout\":{\"legend\":{},\"title\":{\"text\":\"accuracy\"},\"xaxis\":{\"showgrid\":true,\"type\":\"log\"},\"yaxis\":{\"showgrid\":true,\"type\":\"log\"}}}');\n",
       "\tmodule.newPlot('c0eeac89', data);\n",
       "\n",
       "\t}\n",
       "\t\n",
       "    if (typeof requirejs === \"function\") {\n",
       "        // Use RequireJS to load module.\n",
       "\t\tlet srcWithoutExtension = src.substring(0, src.lastIndexOf(\".js\"));\n",
       "        requirejs.config({\n",
       "            paths: {\n",
       "                'plotly': srcWithoutExtension\n",
       "            }\n",
       "        });\n",
       "        require(['plotly'], function(plotly) {\n",
       "            runJSFn(plotly)\n",
       "        });\n",
       "        return\n",
       "    }\n",
       "\n",
       "\tvar currentScripts = document.head.getElementsByTagName(\"script\");\n",
       "\tfor (const idx in currentScripts) {\n",
       "\t\tlet script = currentScripts[idx];\n",
       "\t\tif (script.src == src) {\n",
       "\t\t\trunJSFn(null);\n",
       "\t\t\treturn;\n",
       "\t\t}\n",
       "\t}\n",
       "\n",
       "\tvar script = document.createElement(\"script\");\n",
       "\n",
       "\tscript.charset = \"utf-8\";\n",
       "\t\n",
       "\tscript.src = src;\n",
       "\tscript.onload = script.onreadystatechange = function () { runJSFn(null); };\n",
       "\tdocument.head.appendChild(script);\t\n",
       "})();\n",
       "</script>"
      ]
     },
     "metadata": {},
     "output_type": "display_data"
    },
    {
     "data": {
      "text/html": [
       "<p><b>Metric: loss</b></p>\n"
      ]
     },
     "metadata": {},
     "output_type": "display_data"
    },
    {
     "data": {
      "text/html": [
       "<div id=\"6766e3ec\"></div>"
      ]
     },
     "metadata": {},
     "output_type": "display_data"
    },
    {
     "data": {
      "text/html": [
       "<script charset=\"UTF-8\">\n",
       "(() => {\n",
       "\tconst src=\"https://cdn.plot.ly/plotly-2.29.1.min.js\";\n",
       "\tvar runJSFn = function(module) {\n",
       "\t\t\n",
       "\tif (!module) {\n",
       "\t\tmodule = window.Plotly;\n",
       "\t}\n",
       "\tlet data = JSON.parse('{\"data\":[{\"type\":\"scatter\",\"line\":{\"shape\":\"linear\"},\"mode\":\"lines+markers\",\"name\":\"Train: Batch Loss+Regularization\",\"x\":[200,440,728,1074,1489,1987,2585,3303,4165,5000,5199,6440,7929,9716,10000],\"y\":[0.42113396525382996,0.36832717061042786,0.252225399017334,0.26301082968711853,0.2555369734764099,0.27840107679367065,0.2839052677154541,0.27309146523475647,0.27913230657577515,0.24389903247356415,0.20923100411891937,0.32753288745880127,0.23390081524848938,0.30744796991348267,0.2597227692604065]},{\"type\":\"scatter\",\"line\":{\"shape\":\"linear\"},\"mode\":\"lines+markers\",\"name\":\"Train: Moving Average Loss+Regularization\",\"x\":[200,440,728,1074,1489,1987,2585,3303,4165,5000,5199,6440,7929,9716,10000],\"y\":[0.5428531765937805,0.3824126720428467,0.32592496275901794,0.2991558909416199,0.2868157625198364,0.2789943814277649,0.2771625220775604,0.27576467394828796,0.2729857861995697,0.27007877826690674,0.27123862504959106,0.2691199779510498,0.26941487193107605,0.2721617519855499,0.26926952600479126]},{\"type\":\"scatter\",\"line\":{\"shape\":\"linear\"},\"mode\":\"lines+markers\",\"name\":\"Train: Moving Average Loss\",\"x\":[200,440,728,1074,1489,1987,2585,3303,4165,5000,5199,6440,7929,9716,10000],\"y\":[0.5426512360572815,0.38212326169013977,0.32562533020973206,0.29886069893836975,0.28651949763298035,0.27868831157684326,0.27685022354125977,0.2754414677619934,0.27265381813049316,0.26974058151245117,0.2708979547023773,0.2687701880931854,0.26905640959739685,0.271794855594635,0.2689014673233032]},{\"type\":\"scatter\",\"line\":{\"shape\":\"linear\"},\"mode\":\"lines+markers\",\"name\":\"Eval on batched train: Mean Loss+Regularization\",\"x\":[200,440,728,1074,1489,1987,2585,3303,4165,5000,5199,6440,7929,9716,10000],\"y\":[0.4379507303237915,0.34631600975990295,0.31440865993499756,0.29515787959098816,0.2828119099140167,0.2770327925682068,0.27512189745903015,0.2717907428741455,0.2710023820400238,0.27021288871765137,0.2697414755821228,0.26943325996398926,0.26836785674095154,0.26937976479530334,0.2688692510128021]},{\"type\":\"scatter\",\"line\":{\"shape\":\"linear\"},\"mode\":\"lines+markers\",\"name\":\"Eval on batched train: Mean Loss\",\"x\":[200,440,728,1074,1489,1987,2585,3303,4165,5000,5199,6440,7929,9716,10000],\"y\":[0.4376775324344635,0.3460167944431305,0.3141072988510132,0.29486361145973206,0.2825152575969696,0.27672553062438965,0.27480655908584595,0.27146807312965393,0.2706697881221771,0.2698724567890167,0.2694017291069031,0.2690836191177368,0.26800909638404846,0.2690134346485138,0.26850074529647827]},{\"type\":\"scatter\",\"line\":{\"shape\":\"linear\"},\"mode\":\"lines+markers\",\"name\":\"Eval on test: Mean Loss+Regularization\",\"x\":[200,440,728,1074,1489,1987,2585,3303,4165,5000,5199,6440,7929,9716,10000],\"y\":[0.43470481038093567,0.3443957567214966,0.3160542845726013,0.3008141815662384,0.2896974980831146,0.2850625216960907,0.2841043770313263,0.2805688977241516,0.2806321978569031,0.28140097856521606,0.28063639998435974,0.2803906202316284,0.2799118459224701,0.28101295232772827,0.28073838353157043]},{\"type\":\"scatter\",\"line\":{\"shape\":\"linear\"},\"mode\":\"lines+markers\",\"name\":\"Eval on test: Mean Loss\",\"x\":[200,440,728,1074,1489,1987,2585,3303,4165,5000,5199,6440,7929,9716,10000],\"y\":[0.43443161249160767,0.34409648180007935,0.3157529830932617,0.3005199432373047,0.2894008755683899,0.28475525975227356,0.2837890684604645,0.28024622797966003,0.28029966354370117,0.28106048703193665,0.28029665350914,0.280040979385376,0.2795531153678894,0.28064653277397156,0.28036999702453613]}],\"layout\":{\"legend\":{},\"title\":{\"text\":\"loss\"},\"xaxis\":{\"showgrid\":true,\"type\":\"log\"},\"yaxis\":{\"showgrid\":true,\"type\":\"log\"}}}');\n",
       "\tmodule.newPlot('6766e3ec', data);\n",
       "\n",
       "\t}\n",
       "\t\n",
       "    if (typeof requirejs === \"function\") {\n",
       "        // Use RequireJS to load module.\n",
       "\t\tlet srcWithoutExtension = src.substring(0, src.lastIndexOf(\".js\"));\n",
       "        requirejs.config({\n",
       "            paths: {\n",
       "                'plotly': srcWithoutExtension\n",
       "            }\n",
       "        });\n",
       "        require(['plotly'], function(plotly) {\n",
       "            runJSFn(plotly)\n",
       "        });\n",
       "        return\n",
       "    }\n",
       "\n",
       "\tvar currentScripts = document.head.getElementsByTagName(\"script\");\n",
       "\tfor (const idx in currentScripts) {\n",
       "\t\tlet script = currentScripts[idx];\n",
       "\t\tif (script.src == src) {\n",
       "\t\t\trunJSFn(null);\n",
       "\t\t\treturn;\n",
       "\t\t}\n",
       "\t}\n",
       "\n",
       "\tvar script = document.createElement(\"script\");\n",
       "\n",
       "\tscript.charset = \"utf-8\";\n",
       "\t\n",
       "\tscript.src = src;\n",
       "\tscript.onload = script.onreadystatechange = function () { runJSFn(null); };\n",
       "\tdocument.head.appendChild(script);\t\n",
       "})();\n",
       "</script>"
      ]
     },
     "metadata": {},
     "output_type": "display_data"
    },
    {
     "name": "stdout",
     "output_type": "stream",
     "text": [
      "\t[Step 10000] median train step: 1665 microseconds\n",
      "\n",
      "Results on batched train:\n",
      "\tMean Loss+Regularization (#loss+): 0.269\n",
      "\tMean Loss (#loss): 0.269\n",
      "\tMean Accuracy (#acc): 87.39%\n",
      "Results on test:\n",
      "\tMean Loss+Regularization (#loss+): 0.281\n",
      "\tMean Loss (#loss): 0.280\n",
      "\tMean Accuracy (#acc): 87.03%\n"
     ]
    }
   ],
   "source": [
    "%% --checkpoint base_model -set=\"plots=true;train_steps=10000\"\n",
    "ctx := contextFromSettings()\n",
    "fmt.Printf(\"train_steps=%d\\n\", context.GetParamOr(ctx, \"train_steps\", 0))\n",
    "trainModel(ctx)\n"
   ]
  },
  {
   "cell_type": "markdown",
   "id": "06427d06-00d5-4ee5-a408-ddb58621317f",
   "metadata": {},
   "source": [
    "## Using Kolmogorov-Arnold Networks (KAN)\n",
    "\n",
    "Since it's avaialable as a layer (see package `kan`), the model supports it by simply changing a hyperparameter.\n",
    "\n",
    "See description in https://arxiv.org/pdf/2404.19756"
   ]
  },
  {
   "cell_type": "code",
   "execution_count": 13,
   "id": "c5d50910-c351-4dda-98cb-5abae8a11ca8",
   "metadata": {},
   "outputs": [],
   "source": [
    "// Remove previously trained model -- skip this cell, if you want to continue training.\n",
    "!rm -rf ~/work/uci-adult/kan_model"
   ]
  },
  {
   "cell_type": "code",
   "execution_count": 14,
   "id": "7ce56c29-0678-4a4f-a028-7a86de57e915",
   "metadata": {},
   "outputs": [
    {
     "data": {
      "text/html": [
       "(...collecting metrics, minimum 3 required to start plotting...)"
      ]
     },
     "metadata": {},
     "output_type": "display_data"
    },
    {
     "data": {
      "text/html": []
     },
     "metadata": {},
     "output_type": "display_data"
    },
    {
     "name": "stdout",
     "output_type": "stream",
     "text": [
      "Training (5000 steps):   14% [\u001b[32m=\u001b[0m\u001b[32m=\u001b[0m\u001b[32m=\u001b[0m\u001b[32m=\u001b[0m\u001b[32m>\u001b[0m...................................] (249 steps/s) [4s:17s]\u001b[0m [step=724] [loss+=0.347] [~loss+=0.286] [~loss=0.283] [~acc=87.02%]        "
     ]
    },
    {
     "data": {
      "text/html": []
     },
     "metadata": {},
     "output_type": "display_data"
    },
    {
     "name": "stdout",
     "output_type": "stream",
     "text": [
      "Training (5000 steps):  100% [\u001b[32m=\u001b[0m\u001b[32m=\u001b[0m\u001b[32m=\u001b[0m\u001b[32m=\u001b[0m\u001b[32m=\u001b[0m\u001b[32m=\u001b[0m\u001b[32m=\u001b[0m\u001b[32m=\u001b[0m\u001b[32m=\u001b[0m\u001b[32m=\u001b[0m\u001b[32m=\u001b[0m\u001b[32m=\u001b[0m\u001b[32m=\u001b[0m\u001b[32m=\u001b[0m\u001b[32m=\u001b[0m\u001b[32m=\u001b[0m\u001b[32m=\u001b[0m\u001b[32m=\u001b[0m\u001b[32m=\u001b[0m\u001b[32m=\u001b[0m\u001b[32m=\u001b[0m\u001b[32m=\u001b[0m\u001b[32m=\u001b[0m\u001b[32m=\u001b[0m\u001b[32m=\u001b[0m\u001b[32m=\u001b[0m\u001b[32m=\u001b[0m\u001b[32m=\u001b[0m\u001b[32m=\u001b[0m\u001b[32m=\u001b[0m\u001b[32m=\u001b[0m\u001b[32m=\u001b[0m\u001b[32m=\u001b[0m\u001b[32m=\u001b[0m\u001b[32m=\u001b[0m\u001b[32m=\u001b[0m\u001b[32m=\u001b[0m\u001b[32m=\u001b[0m\u001b[32m=\u001b[0m\u001b[32m=\u001b[0m] (381 steps/s)\u001b[0m [step=4999] [loss+=0.263] [~loss+=0.268] [~loss=0.265] [~acc=87.79%]        \n",
      "\n",
      "[saving checkpoint@5000] [median train step (ms): 1]\n"
     ]
    },
    {
     "data": {
      "text/html": [
       "<p><b>Metric: accuracy</b></p>\n"
      ]
     },
     "metadata": {},
     "output_type": "display_data"
    },
    {
     "data": {
      "text/html": [
       "<div id=\"ca7fa042\"></div>"
      ]
     },
     "metadata": {},
     "output_type": "display_data"
    },
    {
     "data": {
      "text/html": [
       "<script charset=\"UTF-8\">\n",
       "(() => {\n",
       "\tconst src=\"https://cdn.plot.ly/plotly-2.29.1.min.js\";\n",
       "\tvar runJSFn = function(module) {\n",
       "\t\t\n",
       "\tif (!module) {\n",
       "\t\tmodule = window.Plotly;\n",
       "\t}\n",
       "\tlet data = JSON.parse('{\"data\":[{\"type\":\"scatter\",\"line\":{\"shape\":\"linear\"},\"mode\":\"lines+markers\",\"name\":\"Train: Moving Average Accuracy\",\"x\":[200,440,728,1074,1489,1987,2585,3303,4165,5000],\"y\":[0.8405987620353699,0.8631916642189026,0.8712633848190308,0.8730942010879517,0.869725227355957,0.8753353357315063,0.8704546689987183,0.873787522315979,0.8754577040672302,0.8778768181800842]},{\"type\":\"scatter\",\"line\":{\"shape\":\"linear\"},\"mode\":\"lines+markers\",\"name\":\"Eval on batched train: Mean Accuracy\",\"x\":[200,440,728,1074,1489,1987,2585,3303,4165,5000],\"y\":[0.8634870052337646,0.8702128529548645,0.8727926015853882,0.8734068274497986,0.8714413046836853,0.8672031164169312,0.8742053508758545,0.8744203448295593,0.8766930103302002,0.8754644989967346]},{\"type\":\"scatter\",\"line\":{\"shape\":\"linear\"},\"mode\":\"lines+markers\",\"name\":\"Eval on test: Mean Accuracy\",\"x\":[200,440,728,1074,1489,1987,2585,3303,4165,5000],\"y\":[0.8606350421905518,0.8705238699913025,0.8699710965156555,0.8702167272567749,0.86640864610672,0.8591609001159668,0.8738406300544739,0.8727964758872986,0.8686811923980713,0.8710152506828308]}],\"layout\":{\"legend\":{},\"title\":{\"text\":\"accuracy\"},\"xaxis\":{\"showgrid\":true,\"type\":\"log\"},\"yaxis\":{\"showgrid\":true,\"type\":\"log\"}}}');\n",
       "\tmodule.newPlot('ca7fa042', data);\n",
       "\n",
       "\t}\n",
       "\t\n",
       "    if (typeof requirejs === \"function\") {\n",
       "        // Use RequireJS to load module.\n",
       "\t\tlet srcWithoutExtension = src.substring(0, src.lastIndexOf(\".js\"));\n",
       "        requirejs.config({\n",
       "            paths: {\n",
       "                'plotly': srcWithoutExtension\n",
       "            }\n",
       "        });\n",
       "        require(['plotly'], function(plotly) {\n",
       "            runJSFn(plotly)\n",
       "        });\n",
       "        return\n",
       "    }\n",
       "\n",
       "\tvar currentScripts = document.head.getElementsByTagName(\"script\");\n",
       "\tfor (const idx in currentScripts) {\n",
       "\t\tlet script = currentScripts[idx];\n",
       "\t\tif (script.src == src) {\n",
       "\t\t\trunJSFn(null);\n",
       "\t\t\treturn;\n",
       "\t\t}\n",
       "\t}\n",
       "\n",
       "\tvar script = document.createElement(\"script\");\n",
       "\n",
       "\tscript.charset = \"utf-8\";\n",
       "\t\n",
       "\tscript.src = src;\n",
       "\tscript.onload = script.onreadystatechange = function () { runJSFn(null); };\n",
       "\tdocument.head.appendChild(script);\t\n",
       "})();\n",
       "</script>"
      ]
     },
     "metadata": {},
     "output_type": "display_data"
    },
    {
     "data": {
      "text/html": [
       "<p><b>Metric: loss</b></p>\n"
      ]
     },
     "metadata": {},
     "output_type": "display_data"
    },
    {
     "data": {
      "text/html": [
       "<div id=\"42c307fb\"></div>"
      ]
     },
     "metadata": {},
     "output_type": "display_data"
    },
    {
     "data": {
      "text/html": [
       "<script charset=\"UTF-8\">\n",
       "(() => {\n",
       "\tconst src=\"https://cdn.plot.ly/plotly-2.29.1.min.js\";\n",
       "\tvar runJSFn = function(module) {\n",
       "\t\t\n",
       "\tif (!module) {\n",
       "\t\tmodule = window.Plotly;\n",
       "\t}\n",
       "\tlet data = JSON.parse('{\"data\":[{\"type\":\"scatter\",\"line\":{\"shape\":\"linear\"},\"mode\":\"lines+markers\",\"name\":\"Train: Batch Loss+Regularization\",\"x\":[200,440,728,1074,1489,1987,2585,3303,4165,5000],\"y\":[0.2806485891342163,0.3531215488910675,0.2546955347061157,0.2650430500507355,0.3038308918476105,0.24028214812278748,0.25730326771736145,0.32335567474365234,0.26237615942955017,0.26296380162239075]},{\"type\":\"scatter\",\"line\":{\"shape\":\"linear\"},\"mode\":\"lines+markers\",\"name\":\"Train: Moving Average Loss+Regularization\",\"x\":[200,440,728,1074,1489,1987,2585,3303,4165,5000],\"y\":[0.34840455651283264,0.3037789463996887,0.28488975763320923,0.2812519967556,0.28016307950019836,0.27557650208473206,0.27680858969688416,0.2745830714702606,0.270990788936615,0.26830756664276123]},{\"type\":\"scatter\",\"line\":{\"shape\":\"linear\"},\"mode\":\"lines+markers\",\"name\":\"Train: Moving Average Loss\",\"x\":[200,440,728,1074,1489,1987,2585,3303,4165,5000],\"y\":[0.344898521900177,0.3001766502857208,0.2812275290489197,0.2775592803955078,0.2764398753643036,0.2718357443809509,0.27306413650512695,0.2708583176136017,0.26731470227241516,0.2646925151348114]},{\"type\":\"scatter\",\"line\":{\"shape\":\"linear\"},\"mode\":\"lines+markers\",\"name\":\"Eval on batched train: Mean Loss+Regularization\",\"x\":[200,440,728,1074,1489,1987,2585,3303,4165,5000],\"y\":[0.3024562895298004,0.28435418009757996,0.2781507968902588,0.2781412601470947,0.28084641695022583,0.28366023302078247,0.27125751972198486,0.270687460899353,0.2692621052265167,0.26791873574256897]},{\"type\":\"scatter\",\"line\":{\"shape\":\"linear\"},\"mode\":\"lines+markers\",\"name\":\"Eval on batched train: Mean Loss\",\"x\":[200,440,728,1074,1489,1987,2585,3303,4165,5000],\"y\":[0.29889437556266785,0.28072595596313477,0.27447786927223206,0.2744448482990265,0.2771247625350952,0.279918372631073,0.26751017570495605,0.26696863770484924,0.26559415459632874,0.2643176019191742]},{\"type\":\"scatter\",\"line\":{\"shape\":\"linear\"},\"mode\":\"lines+markers\",\"name\":\"Eval on test: Mean Loss+Regularization\",\"x\":[200,440,728,1074,1489,1987,2585,3303,4165,5000],\"y\":[0.3060847222805023,0.2896190285682678,0.2839473783969879,0.284656822681427,0.2880242168903351,0.29339954257011414,0.28327852487564087,0.283797025680542,0.2857917845249176,0.28335732221603394]},{\"type\":\"scatter\",\"line\":{\"shape\":\"linear\"},\"mode\":\"lines+markers\",\"name\":\"Eval on test: Mean Loss\",\"x\":[200,440,728,1074,1489,1987,2585,3303,4165,5000],\"y\":[0.30252280831336975,0.28599074482917786,0.2802743911743164,0.2809603810310364,0.2843025326728821,0.2896576523780823,0.2795311510562897,0.2800781726837158,0.2821238338947296,0.2797561585903168]}],\"layout\":{\"legend\":{},\"title\":{\"text\":\"loss\"},\"xaxis\":{\"showgrid\":true,\"type\":\"log\"},\"yaxis\":{\"showgrid\":true,\"type\":\"log\"}}}');\n",
       "\tmodule.newPlot('42c307fb', data);\n",
       "\n",
       "\t}\n",
       "\t\n",
       "    if (typeof requirejs === \"function\") {\n",
       "        // Use RequireJS to load module.\n",
       "\t\tlet srcWithoutExtension = src.substring(0, src.lastIndexOf(\".js\"));\n",
       "        requirejs.config({\n",
       "            paths: {\n",
       "                'plotly': srcWithoutExtension\n",
       "            }\n",
       "        });\n",
       "        require(['plotly'], function(plotly) {\n",
       "            runJSFn(plotly)\n",
       "        });\n",
       "        return\n",
       "    }\n",
       "\n",
       "\tvar currentScripts = document.head.getElementsByTagName(\"script\");\n",
       "\tfor (const idx in currentScripts) {\n",
       "\t\tlet script = currentScripts[idx];\n",
       "\t\tif (script.src == src) {\n",
       "\t\t\trunJSFn(null);\n",
       "\t\t\treturn;\n",
       "\t\t}\n",
       "\t}\n",
       "\n",
       "\tvar script = document.createElement(\"script\");\n",
       "\n",
       "\tscript.charset = \"utf-8\";\n",
       "\t\n",
       "\tscript.src = src;\n",
       "\tscript.onload = script.onreadystatechange = function () { runJSFn(null); };\n",
       "\tdocument.head.appendChild(script);\t\n",
       "})();\n",
       "</script>"
      ]
     },
     "metadata": {},
     "output_type": "display_data"
    },
    {
     "name": "stdout",
     "output_type": "stream",
     "text": [
      "\t[Step 5000] median train step: 1868 microseconds\n",
      "\n",
      "Results on batched train:\n",
      "\tMean Loss+Regularization (#loss+): 0.268\n",
      "\tMean Loss (#loss): 0.264\n",
      "\tMean Accuracy (#acc): 87.55%\n",
      "Results on test:\n",
      "\tMean Loss+Regularization (#loss+): 0.283\n",
      "\tMean Loss (#loss): 0.280\n",
      "\tMean Accuracy (#acc): 87.10%\n"
     ]
    }
   ],
   "source": [
    "%% --checkpoint kan_model -set=\"kan=true;activation=swish;plots=true;train_steps=5000\"\n",
    "trainModel(contextFromSettings())"
   ]
  }
 ],
 "metadata": {
  "kernelspec": {
   "display_name": "Go (gonb)",
   "language": "go",
   "name": "gonb"
  },
  "language_info": {
   "codemirror_mode": "",
   "file_extension": ".go",
   "mimetype": "",
   "name": "go",
   "nbconvert_exporter": "",
   "pygments_lexer": "",
   "version": "go1.22.4"
  }
 },
 "nbformat": 4,
 "nbformat_minor": 5
}
