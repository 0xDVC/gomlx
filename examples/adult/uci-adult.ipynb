{
 "cells": [
  {
   "cell_type": "markdown",
   "id": "546fa208-c19c-405b-81b1-cf99fcb4a830",
   "metadata": {
    "tags": []
   },
   "source": [
    "# UCI Adult Dataset or Census Income\n",
    "\n",
    "This is a very popular ML task, with tabular data. The objective is to predict whether income exceeds $50K/yr based on census data. \n",
    "Also known as \"Census Income\" dataset.\n",
    "\n",
    "The data is old and biased on different ways ... but it can be used opaquely for ML experimentation.\n",
    "\n"
   ]
  },
  {
   "cell_type": "markdown",
   "id": "2ab071e3-227f-4c77-b864-2b7e5a5ccbdf",
   "metadata": {},
   "source": [
    "## Environment Set Up\n",
    "\n",
    "Let's set up `go.mod` to use the local copy of GoMLX, so it can be developed jointly the dataset code with the model. That's often how data pre-processing and model code is developed together with experimentation.\n",
    "\n",
    "If you are not changing code, feel free to simply skip this cell. Or if you used a different directory for you projects, change it below.\n",
    "\n",
    "Notice the directory `${HOME}/Projects/gomlx` is where the GoMLX code is copied by default in [its Docker](https://hub.docker.com/repository/docker/janpfeifer/gomlx_jupyterlab/general)."
   ]
  },
  {
   "cell_type": "code",
   "execution_count": 1,
   "id": "9ba46cb6-059d-4387-876c-665f778f2447",
   "metadata": {
    "tags": []
   },
   "outputs": [],
   "source": [
    "!*go mod edit -replace github.com/gomlx/gomlx=\"${HOME}/Projects/gomlx\""
   ]
  },
  {
   "cell_type": "markdown",
   "id": "78cf991f-4fa5-4bae-8e49-ca67fb8dbd5b",
   "metadata": {},
   "source": [
    "## Data Preparation\n",
    "\n",
    "GoMLX provides [a simple `adult` library](https://pkg.go.dev/github.com/gomlx/gomlx/examples/adult) to facilitate downdoaling and preprocessing the data. Data is available in [UCI Machine Learning Repository](https://archive.ics.uci.edu/ml/datasets/Adult).\n",
    "\n",
    "After downloading the data and validating the checksum (both training and testing), it generates the quantiles for the continuous features, and the vocabularies for the categorical features. It saves all this info for faster restart later in a binary file. So this won't be necessary a second time.\n",
    "\n",
    "The quantiles are used to calibrate the values, using a piece-wise-lienar calibration, very good for these things. See [`layers.PieceWiseLinearCalibration` documentation](https://pkg.go.dev/github.com/gomlx/gomlx@v0.1.0/ml/layers#PieceWiseLinearCalibration).\n",
    "\n",
    "We create a flag `--data` to define the directory where to save the intermediary files: downloaded and preprocessed datasets.\n",
    "In this examle we set it to `~/work/uci-adult`. Verbosity can be contolled with the `--verbosity` flag. \n",
    "\n",
    "We set default in Go for these flags, but they can easily be reset for a new run by providing them after the `%%` Jupyter kernel meta-command -- in indicates that the subsequent lines should be put in to a `func main`.\n"
   ]
  },
  {
   "cell_type": "code",
   "execution_count": 2,
   "id": "9418be86-70bc-41ad-9e0a-3a5e6bf52b51",
   "metadata": {
    "tags": []
   },
   "outputs": [
    {
     "name": "stdout",
     "output_type": "stream",
     "text": [
      "\n",
      "Sample Categorical: (24.08% positive ratio, 23.86% weighted positive ratio)\n",
      "\tRow 0:\t[7 10 5 1 2 5 2 39]\n",
      "\tRow 1:\t[6 10 3 4 1 5 2 39]\n",
      "\tRow 2:\t[4 12 1 6 2 5 2 39]\n",
      "\t...\n",
      "\tRow 32558:\t[4 12 7 1 5 5 1 39]\n",
      "\tRow 32559:\t[4 12 5 1 4 5 2 39]\n",
      "\tRow 32560:\t[5 12 3 4 6 5 1 39]\n",
      "\n",
      "Sample Continuous:\n",
      "\tRow 0:\t[39 13 2174 0 40]\n",
      "\tRow 1:\t[50 13 0 0 13]\n",
      "\tRow 2:\t[38 9 0 0 40]\n",
      "\t...\n",
      "\tRow 32558:\t[58 9 0 0 40]\n",
      "\tRow 32559:\t[22 9 0 0 20]\n",
      "\tRow 32560:\t[52 9 15024 0 40]\n"
     ]
    }
   ],
   "source": [
    "import (\n",
    "    \"flag\"\n",
    "    \n",
    "    \"github.com/gomlx/gomlx/examples/adult\"\n",
    ")\n",
    "\n",
    "var (\n",
    "    flagDataDir       = flag.String(\"data\", \"~/work/uci-adult\", \"Directory to save and load downloaded and generated dataset files.\")\n",
    "    flagVerbosity     = flag.Int(\"verbosity\", 0, \"Level of verbosity, the higher the more verbose.\")\n",
    "    flagForceDownload = flag.Bool(\"force_download\", false, \"Force re-download of Adult dataset files.\")\n",
    "    flagNumQuantiles  = flag.Int(\"quantiles\", 100, \"Max number of quantiles to use for numeric features, used during piece-wise linear calibration. It will only use unique values, so if there are fewer variability, fewer quantiles are used.\")\n",
    ")\n",
    "\n",
    "%% --verbosity=2\n",
    "adult.LoadAndPreprocessData(*flagDataDir, *flagNumQuantiles, *flagForceDownload, *flagVerbosity)"
   ]
  },
  {
   "cell_type": "code",
   "execution_count": 3,
   "id": "fdab7255-2224-496a-9ec7-75927150f9d7",
   "metadata": {
    "tags": []
   },
   "outputs": [
    {
     "name": "stdout",
     "output_type": "stream",
     "text": [
      "total 7.0M\n",
      "-rw-r--r-- 1 janpf janpf 3.8M Mar 21  2023 adult.data\n",
      "-rw-r--r-- 1 janpf janpf 1.3M Mar 21  2023 adult_data-100_quantiles.bin\n",
      "-rw-r--r-- 1 janpf janpf 2.0M Mar 21  2023 adult.test\n",
      "drwxr-x--- 2 janpf janpf 4.0K Mar 27 09:26 base_model\n"
     ]
    }
   ],
   "source": [
    "!ls -lh ~/work/uci-adult"
   ]
  },
  {
   "cell_type": "markdown",
   "id": "028b783b-56f0-457c-b28e-7bb0dd7e94da",
   "metadata": {},
   "source": [
    "### Creating Datasets\n",
    "\n",
    "First we create the GoMLX's `Manager`: it's the object that manages the underlying XLA\n",
    "setup, connection and execution. It's needed to create tensors.\n",
    "\n",
    "With that we create the samplers of data that we will use to train and evaluate. They implement \n",
    "GoMLX's `train.Dataset` interface, which is what is used by our training loop to draw batches to\n",
    "train, or our eval loop to draw batches to evaluate.\n",
    "\n",
    "The inputs are 3 tensors: *categorical values*, *continuous values* and *weights*.\n",
    "\n",
    "In the cell below we define the `Manager` flags, `BuildSamplers` and printout some samples."
   ]
  },
  {
   "cell_type": "code",
   "execution_count": 4,
   "id": "f13f771b-7109-49d2-8db5-5f3d5a91d324",
   "metadata": {
    "tags": []
   },
   "outputs": [
    {
     "name": "stdout",
     "output_type": "stream",
     "text": [
      "Inputs of batch (size 128):\n",
      "\tcategorical:\n",
      "\t\tFeatures=[workclass education marital-status occupation relationship race sex native-country]\n",
      "\t\tValues: (Int64)[128 8]: (... too large, 1024 values ..., first 16 values: [4 16 4 10 2 5 2 39 6 9 3 5 1 5 2 39])\n",
      "\tcontinuous:\n",
      "\t\tFeatures=[age education-num capital-gain capital-loss hours-per-week]\n",
      "\t\tValues: (Float32)[128 5]: (... too large, 640 values ..., first 10 values: [42 10 0 0 40 64 11 0 0 30])\n",
      "\tweights: (Float32)[128 1]: (... too large, 128 values ..., first 5 values: [27444 30664 200783 226668 91666])\n",
      "\n",
      "Labels of batch:\n",
      "\t(Float32)[128 1]: (... too large, 128 values ..., first 10 values: [1 0 0 0 0 1 0 0 0 0])\n",
      "\n",
      "Labels distributions:\n",
      "\tTrain:\t24.08% positive\n",
      "\tTest:\t23.62% positive\n"
     ]
    }
   ],
   "source": [
    "import (\n",
    "    \"flag\"\n",
    "    \"fmt\"\n",
    "    \"io\"\n",
    "\n",
    "    . \"github.com/gomlx/gomlx/graph\"\n",
    "    \"github.com/gomlx/gomlx/examples/adult\"\n",
    "    \"github.com/gomlx/gomlx/ml/train\"\n",
    "    \"github.com/gomlx/gomlx/types/tensor\"\n",
    ")\n",
    "\n",
    "var (\n",
    "    flagBatchSize      = flag.Int(\"batch\", 128, \"BatchSampler size for training\")\n",
    ")\n",
    "\n",
    "// Global manager created an initialization, used everywhere.\n",
    "var manager = NewManager()\n",
    "\n",
    "// BuildDatasets returns 3 `train.Dataset`:\n",
    "// * trainingSampler is an endless random sampler used for training.\n",
    "// * trainingEvalSampler samples through exactly one epoch of the train dataset.\n",
    "// * testEvalSampler samples through exactly one epoch of the test dataset.\n",
    "func BuildDatasets(manager *Manager) (trainDS, trainEvalDS, testEvalDS train.Dataset) {\n",
    "    baseDS := adult.NewDataset(manager, adult.Data.Train, \"batched train\")\n",
    "    trainEvalDS = baseDS.Copy().BatchSize(*flagBatchSize, false)\n",
    "    testEvalDS = adult.NewDataset(manager, adult.Data.Test, \"test\").\n",
    "        BatchSize(*flagBatchSize, false)\n",
    "    // For training, we shuffle and loop indefinitely.\n",
    "    trainDS = baseDS.BatchSize(*flagBatchSize, true).Shuffle().Infinite(true)\n",
    "    return\n",
    "}\n",
    "\n",
    "// PositiveRatio finds out the the ratio of positive labels in the\n",
    "// training and testing data.\n",
    "//\n",
    "// We could do this easily with GoMLX computation model (just `ReduceAllSum`), but\n",
    "// this examples shows it's also ok to mix Go computations.\n",
    "func PositiveRatio(ds train.Dataset) float32 {\n",
    "    ds.Reset()  // Start from beginning.\n",
    "    var sum float32\n",
    "    var count float32\n",
    "    for {\n",
    "        _, _, labels, err := ds.Yield()\n",
    "        if err == io.EOF {\n",
    "            break;\n",
    "        }\n",
    "        if err != nil { panic(err) }\n",
    "        data := labels[0].Local().FlatCopy().([]float32)\n",
    "        for _, value := range data {\n",
    "            sum += value\n",
    "        }\n",
    "        count += float32(len(data))\n",
    "    }\n",
    "    return sum/count\n",
    "}\n",
    "\n",
    "%%\n",
    "adult.LoadAndPreprocessData(*flagDataDir, *flagNumQuantiles, *flagForceDownload, *flagVerbosity)    \n",
    "trainingDS, trainingEvalDS, testEvalDS := BuildDatasets(manager)\n",
    "\n",
    "// Take one batch.\n",
    "_, inputs, labels, err := trainingDS.Yield()\n",
    "if err != nil { panic(err) }\n",
    "fmt.Printf(\"Inputs of batch (size %d):\\n\", *flagBatchSize)\n",
    "fmt.Printf(\"\\tcategorical:\\n\\t\\tFeatures=%v\\n\", adult.Data.VocabulariesFeatures)\n",
    "fmt.Printf(\"\\t\\tValues: %s\\n\", inputs[0].Local().StringN(16))\n",
    "fmt.Printf(\"\\tcontinuous:\\n\\t\\tFeatures=%v\\n\", adult.Data.QuantilesFeatures)\n",
    "fmt.Printf(\"\\t\\tValues: %s\\n\", inputs[1].Local().StringN(10))\n",
    "fmt.Printf(\"\\tweights: %s\\n\", inputs[2].Local().StringN(5))\n",
    "fmt.Printf(\"\\nLabels of batch:\\n\\t%s\\n\", labels[0].Local().StringN(10))\n",
    "fmt.Printf(\"\\nLabels distributions:\\n\\tTrain:\\t%.2f%% positive\\n\\tTest:\\t%.2f%% positive\\n\",\n",
    "           PositiveRatio(trainingEvalDS)*100.0, PositiveRatio(testEvalDS)*100.0)\n"
   ]
  },
  {
   "cell_type": "markdown",
   "id": "54efd046-bbd5-4f7d-94e0-9ed3c64512b1",
   "metadata": {},
   "source": [
    "## Model Definition\n",
    "\n",
    "Lots of hyper-parameter flags, but otherwise a straight forward FNN, using piece-wise linear calibration of the continuous features, and embeddings for the categorical features.\n",
    "\n",
    "> **Note**: building models is a constant checking that shapes are compatible. It's a bit annoying, in particular because shapes are known in runtime only -- no compile time check. GoMLX tries to help providing a stack trace of where errors happen so one can pin-point issues quickly. But often it involves lots of experimentation (more than ordinary Go code).\n",
    ">\n",
    "> Developing with a Noteboook (see [GoNB](https://github.com/janpfeifer/gonb)) or simply a unit test on your `ModelGraph` function are quick/convenient ways to develop models -- before actually training them. You can also use shape asserts in the middle of the \n",
    ">`ModelGraph`, as we do below."
   ]
  },
  {
   "cell_type": "code",
   "execution_count": 5,
   "id": "7040e63b-33f1-4ff9-a232-187196c5f9c1",
   "metadata": {
    "tags": []
   },
   "outputs": [
    {
     "name": "stdout",
     "output_type": "stream",
     "text": [
      "Logits shape for batch_size=128: (Float32)[128 1]\n"
     ]
    }
   ],
   "source": [
    "import (\n",
    "    \"fmt\"\n",
    "    \"io\"\n",
    "\n",
    "    . \"github.com/gomlx/gomlx/graph\"\n",
    "\n",
    "    \"github.com/gomlx/gomlx/ml/context\"\n",
    "    \"github.com/gomlx/gomlx/examples/adult\"\n",
    "    \"github.com/gomlx/gomlx/ml/train\"\n",
    "    \"github.com/gomlx/gomlx/ml/train/optimizers\"\n",
    "    \"github.com/gomlx/gomlx/types/shapes\"\n",
    ")\n",
    "\n",
    "var (\n",
    "    // ModelDType used for the model. Must match RawData Go types.\n",
    "    ModelDType = shapes.Float32\n",
    "    \n",
    "\n",
    "    // Model hyperparameters.\n",
    "    flagUseCategorical       = flag.Bool(\"use_categorical\", true, \"Use categorical features.\")\n",
    "    flagUseContinuous        = flag.Bool(\"use_continuous\", true, \"Use continuous features.\")\n",
    "    flagTrainableCalibration = flag.Bool(\"trainable_calibration\", true, \"Allow piece-wise linear calibration to adjust outputs.\")\n",
    "    flagEmbeddingDim    = flag.Int(\"embedding_dim\", 8, \"Default embedding dimension for categorical values.\")\n",
    "    flagNumHiddenLayers = flag.Int(\"hidden_layers\", 8, \"Number of hidden layers, stacked with residual connection.\")\n",
    "    flagNumNodes        = flag.Int(\"num_nodes\", 32, \"Number of nodes in hidden layers.\")\n",
    "    flagDropoutRate     = flag.Float64(\"dropout\", 0, \"Dropout rate\")\n",
    "    \n",
    "    // Training parameter, referenced here.\n",
    "    flagLearningRate  = flag.Float64(\"learning_rate\", 0.001, \"Initial learning rate.\")\n",
    "    flagNumSteps      = flag.Int(\"steps\", 5000, \"Number of gradient descent steps to perform\")\n",
    ")\n",
    "\n",
    "\n",
    "// ModelGraph outputs the logits (not the probabilities). The parameter inputs should contain 3 tensors:\n",
    "//\n",
    "// - categorical inputs, shaped  `(int64)[batch_size, len(VocabulariesFeatures)]`\n",
    "// - continuous inputs, shaped `(float32)[batch_size, len(Quantiles)]`\n",
    "// - weights: not currently used, but shaped `(float32)[batch_size, 1]`.\n",
    "func ModelGraph(ctx *context.Context, spec any, inputs []*Node) []*Node {\n",
    "    _ = spec // Not used, since the dataset is always the same.\n",
    "    g := inputs[0].Graph()\n",
    "    \n",
    "    // Use Cosine schedule of the learning rate.\n",
    "    optimizers.CosineAnnealingSchedule(ctx, g, ModelDType).\n",
    "        PeriodInSteps(*flagNumSteps/3).Done()\n",
    "    \n",
    "    categorical, continuous := inputs[0], inputs[1]\n",
    "    batchSize := categorical.Shape().Dimensions[0]\n",
    "    \n",
    "    var allEmbeddings []*Node\n",
    "\n",
    "    if *flagUseCategorical {\n",
    "        // Embedding of categorical values, each with its own vocabulary.\n",
    "        numCategorical := categorical.Shape().Dimensions[1]\n",
    "        for catIdx := 0; catIdx < numCategorical; catIdx++ {\n",
    "            // Take one column at a time of the categorical values.\n",
    "            split := Slice(categorical, AxisRange(), AxisRange(catIdx, catIdx+1))\n",
    "            // Embed it accordingly.\n",
    "            embedCtx := ctx.In(fmt.Sprintf(\"categorical_%d_%s\", catIdx, adult.Data.VocabulariesFeatures[catIdx]))\n",
    "            vocab := adult.Data.Vocabularies[catIdx]\n",
    "            vocabSize := len(vocab)\n",
    "            embedding := layers.Embedding(embedCtx, split, ModelDType, vocabSize, *flagEmbeddingDim)\n",
    "            embedding.AssertDims(batchSize, *flagEmbeddingDim) // 2-dim tensor, with batch size as the leading dimension.\n",
    "            allEmbeddings = append(allEmbeddings, embedding)\n",
    "        }\n",
    "    }\n",
    "\n",
    "    if *flagUseContinuous {\n",
    "        // Piecewise-linear calibration of the continuous values. Each feature has its own number of quantiles.\n",
    "        numContinuous := continuous.Shape().Dimensions[1]\n",
    "        for contIdx := 0; contIdx < numContinuous; contIdx++ {\n",
    "            // Take one column at a time of the continuous values.\n",
    "            split := Slice(continuous, AxisRange(), AxisRange(contIdx, contIdx+1))\n",
    "            featureName := adult.Data.QuantilesFeatures[contIdx]\n",
    "            calibrationCtx := ctx.In(fmt.Sprintf(\"continuous_%d_%s\", contIdx, featureName))\n",
    "            quantiles := adult.Data.Quantiles[contIdx]\n",
    "            layers.AssertQuantilesForPWLCalibrationValid(quantiles)\n",
    "            calibrated := layers.PieceWiseLinearCalibration(calibrationCtx, split, Const(g, quantiles), *flagTrainableCalibration)\n",
    "            calibrated.AssertDims(batchSize, 1) // 2-dim tensor, with batch size as the leading dimension.\n",
    "            allEmbeddings = append(allEmbeddings, calibrated)\n",
    "        }\n",
    "    }\n",
    "    layer := Concatenate(allEmbeddings, -1)\n",
    "    layer.AssertDims(batchSize, -1) // 2-dim tensor, with batch size as the leading dimension (-1 means it is not checked).\n",
    "    \n",
    "    layer = layers.DenseWithBias(ctx.In(fmt.Sprintf(\"DenseLayer_%d\", 0)), layer, *flagNumNodes)\n",
    "    for ii := 1; ii < *flagNumHiddenLayers; ii++ {\n",
    "        ctx := ctx.In(fmt.Sprintf(\"DenseLayer_%d\", ii))\n",
    "        // Add layer with residual connection.\n",
    "        tmp := Sigmoid(layer)\n",
    "        if *flagDropoutRate > 0 {\n",
    "            tmp = layers.Dropout(ctx, tmp, Scalar(g, ModelDType, *flagDropoutRate))\n",
    "        }\n",
    "        tmp = layers.DenseWithBias(ctx, tmp, *flagNumNodes)\n",
    "        layer = Add(layer, tmp)  // Residual connections\n",
    "    }\n",
    "    layer = Sigmoid(layer)\n",
    "    logits := layers.DenseWithBias(ctx.In(\"DenseFinal\"), layer, 1)\n",
    "    logits.AssertDims(batchSize, 1) // 2-dim tensor, with batch size as the leading dimension.\n",
    "    return []*Node{logits}\n",
    "}\n",
    "\n",
    "%%\n",
    "adult.LoadAndPreprocessData(*flagDataDir, *flagNumQuantiles, *flagForceDownload, *flagVerbosity)    \n",
    "\n",
    "// Let's just check that we get the right shape from the model function, wihtout any real data.\n",
    "graph := NewGraph(manager, \"test\")\n",
    "ctx := context.NewContext(manager)\n",
    "ctx.SetParam(optimizers.LearningRateKey, *flagLearningRate)\n",
    "\n",
    "// Create placeholder (parameters) graph nodes, just to test the graph building is working.\n",
    "inputs := []*Node{\n",
    "    // Categorical: shaped [batch_size, num_categorical]\n",
    "    graph.Parameter(\"categorical\", shapes.Make(shapes.Int64, *flagBatchSize, len(adult.Data.VocabulariesFeatures))),\n",
    "    // Continuous: shaped [batch_size, num_continuos]\n",
    "    graph.Parameter(\"continuous\", shapes.Make(shapes.Float32, *flagBatchSize, len(adult.Data.QuantilesFeatures))),\n",
    "    // Weights: shaped [batch_size, 1]\n",
    "    graph.Parameter(\"weights\", shapes.Make(shapes.Float32, *flagBatchSize, 1)),    \n",
    "}\n",
    "logits := ModelGraph(ctx, nil, inputs)\n",
    "fmt.Printf(\"Logits shape for batch_size=%d: %s\\n\", *flagBatchSize, logits[0].Shape())"
   ]
  },
  {
   "cell_type": "markdown",
   "id": "618e1c7a-ced1-4914-8530-0924e02f095c",
   "metadata": {},
   "source": [
    "## Training Loop\n",
    "\n",
    "We can create a training loop with only a `Manager`, a `Context` (for the model varibles) and the `ModelGraph` function.\n",
    "\n",
    "To make it more interesting we also add the following:\n",
    "\n",
    "* Accuracy metrics for training and testing.\n",
    "* Checkpoints -- so trained model can be saved, and reloaded.\n",
    "* A progress-bar that also shows training metrics.\n",
    "* We dynamically plot how the loss and accuracy evolve.\n",
    "\n",
    "First we define the corresponding flags and the `trainModel` function, and run it for very few steps to make sure\n",
    "it is working."
   ]
  },
  {
   "cell_type": "code",
   "execution_count": 6,
   "id": "daf39a7c-7cc8-43a5-ae79-026303f5f502",
   "metadata": {
    "tags": []
   },
   "outputs": [
    {
     "name": "stdout",
     "output_type": "stream",
     "text": [
      "Training (500 steps):  100% [\u001b[32m=\u001b[0m\u001b[32m=\u001b[0m\u001b[32m=\u001b[0m\u001b[32m=\u001b[0m\u001b[32m=\u001b[0m\u001b[32m=\u001b[0m\u001b[32m=\u001b[0m\u001b[32m=\u001b[0m\u001b[32m=\u001b[0m\u001b[32m=\u001b[0m\u001b[32m=\u001b[0m\u001b[32m=\u001b[0m\u001b[32m=\u001b[0m\u001b[32m=\u001b[0m\u001b[32m=\u001b[0m\u001b[32m=\u001b[0m\u001b[32m=\u001b[0m\u001b[32m=\u001b[0m\u001b[32m=\u001b[0m\u001b[32m=\u001b[0m\u001b[32m=\u001b[0m\u001b[32m=\u001b[0m\u001b[32m=\u001b[0m\u001b[32m=\u001b[0m\u001b[32m=\u001b[0m\u001b[32m=\u001b[0m\u001b[32m=\u001b[0m\u001b[32m=\u001b[0m\u001b[32m=\u001b[0m\u001b[32m=\u001b[0m\u001b[32m=\u001b[0m\u001b[32m=\u001b[0m\u001b[32m=\u001b[0m\u001b[32m=\u001b[0m\u001b[32m=\u001b[0m\u001b[32m=\u001b[0m\u001b[32m=\u001b[0m\u001b[32m=\u001b[0m\u001b[32m=\u001b[0m\u001b[32m=\u001b[0m] (110 steps/s)\u001b[0m [step=499] [loss+=0.354] [~loss+=0.398] [~loss=0.398] [~acc=82.11%]        \n",
      "\t[Step 500] median train step: 967 microseconds\n",
      "\n",
      "Results on batched train:\n",
      "\tMean Loss+Regularization (#loss+): 0.361\n",
      "\tMean Loss (#loss): 0.361\n",
      "\tMean Accuracy (#acc): 84.17%\n",
      "Results on test:\n",
      "\tMean Loss+Regularization (#loss+): 0.358\n",
      "\tMean Loss (#loss): 0.358\n",
      "\tMean Accuracy (#acc): 84.15%\n",
      "\n"
     ]
    }
   ],
   "source": [
    "import (\n",
    "    \"fmt\"\n",
    "    \"io\"\n",
    "    \"time\"\n",
    "\n",
    "    . \"github.com/gomlx/gomlx/graph\"\n",
    "\n",
    "    \"github.com/gomlx/exceptions\"\n",
    "    \"github.com/gomlx/gomlx/examples/adult\"\n",
    "    \"github.com/gomlx/gomlx/examples/notebook/gonb/margaid\"\n",
    "    \"github.com/gomlx/gomlx/examples/notebook/gonb/plotly\"\n",
    "    \"github.com/gomlx/gomlx/ml/context\"\n",
    "    \"github.com/gomlx/gomlx/ml/train\"\n",
    "    \"github.com/gomlx/gomlx/types/shapes\"\n",
    "    \"github.com/gomlx/gomlx/types/slices\"\n",
    "    \"github.com/gomlx/gomlx/types/tensor\"\n",
    "    \"github.com/janpfeifer/gonb/gonbui\"\n",
    ")\n",
    "\n",
    "var (\n",
    "    flagOptimizer      = flag.String(\"optimizer\", \"adam\", \"Type of optimizer to use: 'sgd' or 'adam'\")\n",
    "    flagLearningRate   = flag.Float64(\"learning_rate\", 0.001, \"Initial learning rate.\")\n",
    "    flagCheckpoint     = flag.String(\"checkpoint\", \"\", \"Directory save and load checkpoints from. If left empty, no checkpoints are created.\")\n",
    "    flagCheckpointKeep = flag.Int(\"checkpoint_keep\", 10, \"Number of checkpoints to keep, if --checkpoint is set.\")\n",
    "    flagPlots          = flag.Bool(\"plots\", true, \"Plots during training: perform periodic evaluations, \"+\n",
    "                                   \"save results if --checkpoint is set and draw plots, if in a Jupyter notebook.\")\n",
    "    flagPlotType       = flag.String(\"plot_type\", \"plotly\", \"Type of plot to use, values are \\\"plotly\\\" or \\\"margaid\\\"\")\n",
    ")\n",
    "\n",
    "func trainModel() {\n",
    "    // Fixes directories.\n",
    "    *flagDataDir = data.ReplaceTildeInDir(*flagDataDir)\n",
    "    *flagCheckpoint = data.ReplaceTildeInDir(*flagCheckpoint)\n",
    "    if *flagCheckpoint != \"\" && !path.IsAbs(*flagCheckpoint) {\n",
    "        *flagCheckpoint = path.Join(*flagDataDir, *flagCheckpoint)\n",
    "    }\n",
    "\n",
    "    // Load data and create datasets.\n",
    "    adult.LoadAndPreprocessData(*flagDataDir, *flagNumQuantiles, *flagForceDownload, *flagVerbosity)    \n",
    "    trainDS, trainEvalDS, testEvalDS := BuildDatasets(manager)\n",
    "\n",
    "    // Context holds the variables and optionally hyperparameters for the model.\n",
    "    ctx := context.NewContext(manager)\n",
    "    ctx.SetParam(optimizers.LearningRateKey, *flagLearningRate)\n",
    "\n",
    "    // Metrics we are interested.\n",
    "    meanAccuracyMetric := metrics.NewMeanBinaryLogitsAccuracy(\"Mean Accuracy\", \"#acc\")\n",
    "    movingAccuracyMetric := metrics.NewMovingAverageBinaryLogitsAccuracy(\"Moving Average Accuracy\", \"~acc\", 0.01)\n",
    "\n",
    "    // Checkpoints saving.\n",
    "    var checkpoint *checkpoints.Handler\n",
    "    if *flagCheckpoint != \"\" {\n",
    "        var err error\n",
    "        checkpoint, err = checkpoints.Build(ctx).Dir(*flagCheckpoint).Keep(*flagCheckpointKeep).Done()\n",
    "        if err != nil { panic(err) }\n",
    "        fmt.Printf(\"Checkpointing model to %q\\n\", checkpoint.Dir())\n",
    "        globalStep := optimizers.GetGlobalStep(ctx)\n",
    "        if globalStep != 0 {\n",
    "            fmt.Printf(\"Restarting training from global_step=%d\\n\", globalStep)\n",
    "        }\n",
    "    }\n",
    "\n",
    "    // Pick a known optimizer.\n",
    "    optimizerFn, found := optimizers.KnownOptimizers[*flagOptimizer]\n",
    "    if !found {\n",
    "        log.Fatalf(\"Unknown optimizer %q, please use one of %v\",\n",
    "            *flagOptimizer, slices.Keys(optimizers.KnownOptimizers))\n",
    "    }\n",
    "\n",
    "    // Create a train.Trainer: this object will orchestrate running the model, feeding\n",
    "    // results to the optimizer, evaluating the metrics, etc. (all happens in trainer.TrainStep)\n",
    "    trainer := train.NewTrainer(manager, ctx, ModelGraph, losses.BinaryCrossentropyLogits,\n",
    "        optimizerFn(),\n",
    "        []metrics.Interface{movingAccuracyMetric}, // trainMetrics\n",
    "        []metrics.Interface{meanAccuracyMetric})   // evalMetrics\n",
    "\n",
    "    // Use standard training loop.\n",
    "    loop := train.NewLoop(trainer)\n",
    "    commandline.AttachProgressBar(loop) // Attaches a progress bar to the loop.\n",
    "\n",
    "    // Attach a checkpoint: checkpoint every 1 minute of training.\n",
    "    if checkpoint != nil {\n",
    "        period := time.Minute * 1\n",
    "        train.PeriodicCallback(loop, period, true, \"saving checkpoint\", 100,\n",
    "            func(loop *train.Loop, metrics []tensor.Tensor) error {\n",
    "                fmt.Printf(\"\\n[saving checkpoint@%d] [median train step (ms): %d]\\n\", loop.LoopStep, loop.MedianTrainStepDuration().Milliseconds())\n",
    "                return checkpoint.Save()\n",
    "            })\n",
    "    }\n",
    "\n",
    "\t// Attach a margaid plots: plot points at exponential steps.\n",
    "    // Points (metrics) are saved along the checkpoint directory (if one is given).\n",
    "\tif *flagPlots {\n",
    "        switch *flagPlotType {\n",
    "        case \"margaid\":\n",
    "    \t\t_ = margaid.NewDefault(loop, checkpoint.Dir(), 100, 1.1, trainEvalDS, testEvalDS)\n",
    "        case \"plotly\":\n",
    "            _ = plotly.New().\n",
    "                WithCheckpoint(checkpoint.Dir()).\n",
    "                Dynamic(trainEvalDS, testEvalDS).\n",
    "                ScheduleExponential(loop, 100, 1.1)\n",
    "        default:\n",
    "            exceptions.Panicf(\"Invalid --plot_type=%q, valid values are %q or %q\", *flagPlotType, \"margaid\", \"plotly\")\n",
    "        }\n",
    "\t}\n",
    "\n",
    "    // Run the given number of steps.\n",
    "    _, err := loop.RunSteps(trainDS, *flagNumSteps)\n",
    "    if err != nil { panic(err) }\n",
    "    fmt.Printf(\"\\t[Step %d] median train step: %d microseconds\\n\", loop.LoopStep, loop.MedianTrainStepDuration().Microseconds())\n",
    "\n",
    "    // Print a final evaluation on train and test datasets.\n",
    "    fmt.Println()\n",
    "    err = commandline.ReportEval(trainer, trainEvalDS, testEvalDS)\n",
    "    if err != nil { panic(err) }\n",
    "    fmt.Println()\n",
    "}\n",
    "\n",
    "// Notice command line flags are passed in the %% notebook command. We set --plot=false here to disable plotting\n",
    "// since this is only a quick test that our train() loop is working. See below the final run for a full training.\n",
    "%% --steps=500 --plots=false\n",
    "trainModel()"
   ]
  },
  {
   "cell_type": "markdown",
   "id": "6bb5db6b-3a2c-4f48-8264-f90b22a52ed0",
   "metadata": {},
   "source": [
    "## Final run with 5K steps\n",
    "\n",
    "With everything working, we can do our final run.\n",
    "\n",
    "> **Note** here is where someone might want to hyperparameter tune, trying out different hyperparameters."
   ]
  },
  {
   "cell_type": "code",
   "execution_count": 7,
   "id": "a9d901d9-c503-4a94-8dec-a471a18bbbee",
   "metadata": {},
   "outputs": [],
   "source": [
    "// Remove previously trained model -- skip this cell, if you want to continue training.\n",
    "!rm -rf ~/work/uci-adult/base_model"
   ]
  },
  {
   "cell_type": "code",
   "execution_count": 8,
   "id": "66939463-60d7-446f-b4f3-1d60abe7c17c",
   "metadata": {
    "tags": []
   },
   "outputs": [
    {
     "name": "stdout",
     "output_type": "stream",
     "text": [
      "Checkpointing model to \"/home/janpf/work/uci-adult/base_model\"\n"
     ]
    },
    {
     "data": {
      "text/html": []
     },
     "metadata": {},
     "output_type": "display_data"
    },
    {
     "name": "stdout",
     "output_type": "stream",
     "text": [
      "Training (5000 steps):  100% [\u001b[32m=\u001b[0m\u001b[32m=\u001b[0m\u001b[32m=\u001b[0m\u001b[32m=\u001b[0m\u001b[32m=\u001b[0m\u001b[32m=\u001b[0m\u001b[32m=\u001b[0m\u001b[32m=\u001b[0m\u001b[32m=\u001b[0m\u001b[32m=\u001b[0m\u001b[32m=\u001b[0m\u001b[32m=\u001b[0m\u001b[32m=\u001b[0m\u001b[32m=\u001b[0m\u001b[32m=\u001b[0m\u001b[32m=\u001b[0m\u001b[32m=\u001b[0m\u001b[32m=\u001b[0m\u001b[32m=\u001b[0m\u001b[32m=\u001b[0m\u001b[32m=\u001b[0m\u001b[32m=\u001b[0m\u001b[32m=\u001b[0m\u001b[32m=\u001b[0m\u001b[32m=\u001b[0m\u001b[32m=\u001b[0m\u001b[32m=\u001b[0m\u001b[32m=\u001b[0m\u001b[32m=\u001b[0m\u001b[32m=\u001b[0m\u001b[32m=\u001b[0m\u001b[32m=\u001b[0m\u001b[32m=\u001b[0m\u001b[32m=\u001b[0m\u001b[32m=\u001b[0m\u001b[32m=\u001b[0m\u001b[32m=\u001b[0m\u001b[32m=\u001b[0m\u001b[32m=\u001b[0m\u001b[32m=\u001b[0m] (374 steps/s)\u001b[0m [step=4999] [loss+=0.316] [~loss+=0.271] [~loss=0.271] [~acc=87.50%]        \n",
      "\n",
      "[saving checkpoint@5000] [median train step (ms): 0]\n"
     ]
    },
    {
     "data": {
      "text/html": [
       "<svg viewbox=\"0 0 1024 400\" style=\"background-color:#f8f8f8\" preserveAspectRatio=\"xMidYMid meet\" xmlns=\"http://www.w3.org/2000/svg\" width=\"1024\" height=\"454\"><defs><marker viewBox=\"0 0 10 10 \" refX=\"5\" refY=\"5\" markerUnits=\"userSpaceOnUse\" markerWidth=\"2%\" markerHeight=\"2%\" id=\"circle\"><circle cx=\"5\" cy=\"5\" r=\"3\" fill=\"none\" stroke=\"black\"/></marker><marker markerHeight=\"2%\" id=\"filled-circle\" viewBox=\"0 0 10 10 \" refX=\"5\" refY=\"5\" markerUnits=\"userSpaceOnUse\" markerWidth=\"2%\"><circle fill=\"black\" stroke=\"none\" cx=\"5\" cy=\"5\" r=\"3\"/></marker><marker id=\"square\" viewBox=\"0 0 10 10 \" refX=\"5\" refY=\"5\" markerUnits=\"userSpaceOnUse\" markerWidth=\"2%\" markerHeight=\"2%\"><rect x=\"2\" y=\"2\" width=\"6\" height=\"6\" fill=\"none\" stroke=\"black\"/></marker><marker id=\"filled-square\" viewBox=\"0 0 10 10 \" refX=\"5\" refY=\"5\" markerUnits=\"userSpaceOnUse\" markerWidth=\"2%\" markerHeight=\"2%\"><rect fill=\"black\" stroke=\"none\" x=\"2\" y=\"2\" width=\"6\" height=\"6\"/></marker></defs><g stroke-linejoin=\"round\" marker-mid=\"url(#square)\" fill=\"none\" stroke-width=\"2px\" stroke-linecap=\"round\" marker-start=\"url(#square)\" transform=\"translate(70 330 )scale(1 -1 )\" stroke=\"hsl(90, 47%, 65%)\" marker-end=\"url(#square)\"><path d=\"M1.768000e+01,5.269459e+01 L1.786294e+02,7.809856e+01 L2.773355e+02,1.976686e+02 L3.506075e+02,2.124072e+02 L4.099543e+02,2.199105e+02 L4.607660e+02,2.328804e+02 L5.055983e+02,2.371143e+02 L5.461769e+02,2.398477e+02 L5.835664e+02,2.408124e+02 L6.184621e+02,2.417235e+02 L6.513380e+02,2.460647e+02 L6.825291e+02,2.498164e+02 L7.123676e+02,2.497091e+02 L7.410809e+02,2.502987e+02 L7.688274e+02,2.516922e+02 L7.957190e+02,2.477262e+02 L8.218897e+02,2.511562e+02 L8.474287e+02,2.534608e+02 L8.663200e+02,2.535144e+02 \" vector-effect=\"non-scaling-stroke\"/></g><g fill=\"none\" stroke-linejoin=\"round\" stroke-width=\"2px\" stroke-linecap=\"round\" marker-start=\"url(#square)\" stroke=\"hsl(301, 88%, 65%)\" transform=\"translate(70 330 )scale(1 -1 )\" marker-mid=\"url(#square)\" marker-end=\"url(#square)\"><path vector-effect=\"non-scaling-stroke\" d=\"M1.768000e+01,6.069281e+01 L1.786294e+02,8.480968e+01 L2.773355e+02,1.979985e+02 L3.506075e+02,2.148267e+02 L4.099543e+02,2.206148e+02 L4.607660e+02,2.346562e+02 L5.055983e+02,2.347634e+02 L5.461769e+02,2.372287e+02 L5.835664e+02,2.392652e+02 L6.184621e+02,2.365855e+02 L6.513380e+02,2.400156e+02 L6.825291e+02,2.444101e+02 L7.123676e+02,2.438743e+02 L7.410809e+02,2.454820e+02 L7.688274e+02,2.461252e+02 L7.957190e+02,2.446245e+02 L8.218897e+02,2.445174e+02 L8.474287e+02,2.462323e+02 L8.663200e+02,2.471970e+02 \"/></g><g marker-mid=\"url(#square)\" marker-end=\"url(#square)\" stroke-linejoin=\"round\" transform=\"translate(70 330 )scale(1 -1 )\" stroke-width=\"2px\" stroke=\"hsl(152, 76%, 65%)\" stroke-linecap=\"round\" marker-start=\"url(#square)\" fill=\"none\"><path vector-effect=\"non-scaling-stroke\" d=\"M1.768000e+01,5.200000e+00 L1.786294e+02,3.390471e+01 L2.773355e+02,1.430322e+02 L3.506075e+02,1.855723e+02 L4.099543e+02,2.133324e+02 L4.607660e+02,2.288545e+02 L5.055983e+02,2.289694e+02 L5.461769e+02,2.412201e+02 L5.835664e+02,2.428975e+02 L6.184621e+02,2.414769e+02 L6.513380e+02,2.382513e+02 L6.825291e+02,2.451933e+02 L7.123676e+02,2.507021e+02 L7.410809e+02,2.536688e+02 L7.688274e+02,2.504940e+02 L7.957190e+02,2.483454e+02 L8.218897e+02,2.498220e+02 L8.474287e+02,2.478560e+02 L8.663200e+02,2.548000e+02 \"/></g><g fill=\"none\" stroke-width=\"2px\" stroke-linecap=\"round\" stroke=\"black\" stroke-linejoin=\"round\" transform=\"translate(70 330 )scale(1 -1 )\"><path d=\"M1.768000e+01,0 L1.768000e+01,-6 M1.680453e+02,0 L1.680453e+02,-6 M2.560033e+02,0 L2.560033e+02,-6 M3.184106e+02,0 L3.184106e+02,-6 M3.668174e+02,0 L3.668174e+02,-6 M4.063686e+02,0 L4.063686e+02,-6 M4.398087e+02,0 L4.398087e+02,-6 M4.687758e+02,0 L4.687758e+02,-6 M4.943267e+02,0 L4.943267e+02,-6 M5.171826e+02,0 L5.171826e+02,-6 M5.378584e+02,0 L5.378584e+02,-6 M6.675479e+02,0 L6.675479e+02,-6 M7.555060e+02,0 L7.555060e+02,-6 M8.179132e+02,0 L8.179132e+02,-6 M8.663200e+02,0 L8.663200e+02,-6 \" vector-effect=\"non-scaling-stroke\"/></g><g dominant-baseline=\"hanging\" stroke=\"black\" transform=\"translate(70 330 )scale(1 1 )\" font-size=\"12px\" font-style=\"normal\" stroke-width=\"2px\" stroke-linecap=\"round\" fill=\"black\" stroke-linejoin=\"round\" font-family=\"sans-serif\" font-weight=\"normal\" text-anchor=\"middle\"><text stroke=\"none\" vector-effect=\"non-scaling-stroke\" x=\"1.768000e+01\" y=\"10\" dominant-baseline=\"hanging\">100</text><text stroke=\"none\" vector-effect=\"non-scaling-stroke\" x=\"1.680453e+02\" y=\"10\" dominant-baseline=\"hanging\">200</text><text y=\"10\" dominant-baseline=\"hanging\" stroke=\"none\" vector-effect=\"non-scaling-stroke\" x=\"2.560033e+02\">300</text><text stroke=\"none\" vector-effect=\"non-scaling-stroke\" x=\"3.184106e+02\" y=\"10\" dominant-baseline=\"hanging\">400</text><text y=\"10\" dominant-baseline=\"hanging\" stroke=\"none\" vector-effect=\"non-scaling-stroke\" x=\"3.668174e+02\">500</text><text dominant-baseline=\"hanging\" stroke=\"none\" vector-effect=\"non-scaling-stroke\" x=\"4.063686e+02\" y=\"10\">600</text><text vector-effect=\"non-scaling-stroke\" x=\"4.398087e+02\" y=\"10\" dominant-baseline=\"hanging\" stroke=\"none\">700</text><text x=\"4.687758e+02\" y=\"10\" dominant-baseline=\"hanging\" stroke=\"none\" vector-effect=\"non-scaling-stroke\">800</text><text stroke=\"none\" vector-effect=\"non-scaling-stroke\" x=\"4.943267e+02\" y=\"10\" dominant-baseline=\"hanging\">900</text><text y=\"10\" dominant-baseline=\"hanging\" stroke=\"none\" vector-effect=\"non-scaling-stroke\" x=\"5.171826e+02\">1000</text><text x=\"5.378584e+02\" y=\"10\" dominant-baseline=\"hanging\" stroke=\"none\" vector-effect=\"non-scaling-stroke\">1100</text><text stroke=\"none\" vector-effect=\"non-scaling-stroke\" x=\"6.675479e+02\" y=\"10\" dominant-baseline=\"hanging\">2000</text><text stroke=\"none\" vector-effect=\"non-scaling-stroke\" x=\"7.555060e+02\" y=\"10\" dominant-baseline=\"hanging\">3000</text><text stroke=\"none\" vector-effect=\"non-scaling-stroke\" x=\"8.179132e+02\" y=\"10\" dominant-baseline=\"hanging\">4000</text><text x=\"8.663200e+02\" y=\"10\" dominant-baseline=\"hanging\" stroke=\"none\" vector-effect=\"non-scaling-stroke\">5000</text></g><g text-anchor=\"middle\" stroke=\"black\" font-family=\"sans-serif\" transform=\"translate(70 330 )scale(1 1 )rotate(0 0 0 )\" dominant-baseline=\"baseline\" fill=\"black\" font-weight=\"bold\" font-size=\"12px\" font-style=\"normal\" stroke-width=\"2px\" stroke-linecap=\"round\" stroke-linejoin=\"round\"><text x=\"442\" y=\"-6\" dominant-baseline=\"baseline\" stroke=\"none\" vector-effect=\"non-scaling-stroke\">Steps</text></g><g fill=\"black\" font-weight=\"bold\" text-anchor=\"middle\" stroke-width=\"2px\" stroke-linecap=\"round\" transform=\"translate(70 330 )scale(1 -1 )\" font-size=\"12px\" stroke-linejoin=\"round\" font-family=\"sans-serif\" stroke=\"black\" font-style=\"normal\" dominant-baseline=\"baseline\"><path vector-effect=\"non-scaling-stroke\" d=\"M0,1.239114e+02 L-6,1.239114e+02 \"/></g><g font-size=\"12px\" font-style=\"normal\" font-weight=\"normal\" dominant-baseline=\"middle\" font-family=\"sans-serif\" text-anchor=\"end\" fill=\"black\" stroke-width=\"2px\" stroke-linecap=\"round\" transform=\"translate(70 330 )scale(1 1 )\" stroke=\"black\" stroke-linejoin=\"round\"><text vector-effect=\"non-scaling-stroke\" x=\"-10\" y=\"-1.239114e+02\" dominant-baseline=\"middle\" stroke=\"none\">0.800</text></g><g font-family=\"sans-serif\" stroke-linecap=\"round\" transform=\"translate(70 330 )scale(1 1 )rotate(-90 0 0 )\" font-size=\"12px\" font-style=\"normal\" stroke=\"black\" stroke-linejoin=\"round\" font-weight=\"bold\" text-anchor=\"middle\" dominant-baseline=\"hanging\" fill=\"black\" stroke-width=\"2px\"><text stroke=\"none\" vector-effect=\"non-scaling-stroke\" x=\"130\" y=\"6\" dominant-baseline=\"hanging\">accuracy</text></g><g transform=\"translate(70 330 )scale(1 -1 )\" dominant-baseline=\"hanging\" fill=\"black\" stroke-width=\"0.5px\" font-family=\"sans-serif\" font-weight=\"bold\" stroke-linecap=\"round\" font-size=\"12px\" font-style=\"normal\" text-anchor=\"middle\" stroke=\"gray\" stroke-linejoin=\"round\"><path vector-effect=\"non-scaling-stroke\" d=\"M0,1.239114e+02 L884,1.239114e+02 \"/></g><g stroke-width=\"2px\" font-size=\"12px\" font-style=\"normal\" dominant-baseline=\"hanging\" fill=\"none\" stroke-linejoin=\"round\" font-family=\"sans-serif\" stroke-linecap=\"round\" font-weight=\"bold\" text-anchor=\"middle\" stroke=\"black\"><rect y=\"70\" width=\"884\" height=\"260\" vector-effect=\"non-scaling-stroke\" x=\"70\"/><g fill=\"black\" font-size=\"18px\" dominant-baseline=\"middle\"><text x=\"512\" y=\"35\" dominant-baseline=\"middle\" stroke=\"none\" vector-effect=\"non-scaling-stroke\">accuracy metrics</text></g><g text-anchor=\"start\" fill=\"hsl(90, 47%, 65%)\" stroke-width=\"1px\" stroke-linecap=\"round\" font-size=\"12px\" stroke=\"hsl(90, 47%, 65%)\" stroke-linejoin=\"round\" font-family=\"sans-serif\" font-weight=\"normal\" font-style=\"normal\" dominant-baseline=\"hanging\"><rect vector-effect=\"non-scaling-stroke\" x=\"76\" y=\"366\" width=\"12\" height=\"12\"/><g stroke=\"black\" fill=\"black\"><text x=\"92\" y=\"366\" dominant-baseline=\"hanging\" stroke=\"none\" vector-effect=\"non-scaling-stroke\">Eval on batched train: Mean Accuracy</text></g><g font-style=\"normal\" stroke-linecap=\"round\" stroke-linejoin=\"round\" font-weight=\"normal\" text-anchor=\"start\" dominant-baseline=\"hanging\" fill=\"hsl(301, 88%, 65%)\" stroke-width=\"1px\" font-size=\"12px\" stroke=\"hsl(301, 88%, 65%)\" font-family=\"sans-serif\"><rect vector-effect=\"non-scaling-stroke\" x=\"76\" y=\"384\" width=\"12\" height=\"12\"/><g fill=\"black\" stroke=\"black\"><text x=\"92\" y=\"384\" dominant-baseline=\"hanging\" stroke=\"none\" vector-effect=\"non-scaling-stroke\">Eval on test: Mean Accuracy</text></g><g stroke-width=\"1px\" font-style=\"normal\" fill=\"hsl(152, 76%, 65%)\" stroke-linecap=\"round\" font-size=\"12px\" dominant-baseline=\"hanging\" stroke=\"hsl(152, 76%, 65%)\" stroke-linejoin=\"round\" font-family=\"sans-serif\" font-weight=\"normal\" text-anchor=\"start\"><rect vector-effect=\"non-scaling-stroke\" x=\"76\" y=\"402\" width=\"12\" height=\"12\"/><g fill=\"black\" stroke=\"black\"><text vector-effect=\"non-scaling-stroke\" x=\"92\" y=\"402\" dominant-baseline=\"hanging\" stroke=\"none\">Train: Moving Average Accuracy</text></g></g></g></g></g></svg>"
      ]
     },
     "metadata": {},
     "output_type": "display_data"
    },
    {
     "data": {
      "text/html": [
       "<svg width=\"1024\" height=\"526\" viewbox=\"0 0 1024 400\" style=\"background-color:#f8f8f8\" preserveAspectRatio=\"xMidYMid meet\" xmlns=\"http://www.w3.org/2000/svg\"><defs><marker refY=\"5\" markerUnits=\"userSpaceOnUse\" markerWidth=\"2%\" markerHeight=\"2%\" id=\"circle\" viewBox=\"0 0 10 10 \" refX=\"5\"><circle stroke=\"black\" cx=\"5\" cy=\"5\" r=\"3\" fill=\"none\"/></marker><marker viewBox=\"0 0 10 10 \" refX=\"5\" refY=\"5\" markerUnits=\"userSpaceOnUse\" markerWidth=\"2%\" markerHeight=\"2%\" id=\"filled-circle\"><circle cx=\"5\" cy=\"5\" r=\"3\" fill=\"black\" stroke=\"none\"/></marker><marker viewBox=\"0 0 10 10 \" refX=\"5\" refY=\"5\" markerUnits=\"userSpaceOnUse\" markerWidth=\"2%\" markerHeight=\"2%\" id=\"square\"><rect height=\"6\" fill=\"none\" stroke=\"black\" x=\"2\" y=\"2\" width=\"6\"/></marker><marker refX=\"5\" refY=\"5\" markerUnits=\"userSpaceOnUse\" markerWidth=\"2%\" markerHeight=\"2%\" id=\"filled-square\" viewBox=\"0 0 10 10 \"><rect stroke=\"none\" x=\"2\" y=\"2\" width=\"6\" height=\"6\" fill=\"black\"/></marker></defs><g stroke-linejoin=\"round\" marker-end=\"url(#square)\" stroke-width=\"2px\" stroke-linecap=\"round\" transform=\"translate(70 330 )scale(1 -1 )\" fill=\"none\" stroke=\"hsl(90, 47%, 65%)\" marker-start=\"url(#square)\" marker-mid=\"url(#square)\"><path vector-effect=\"non-scaling-stroke\" d=\"M1.768000e+01,2.173981e+02 L1.786294e+02,1.427743e+02 L2.773355e+02,1.008626e+02 L3.506075e+02,8.803392e+01 L4.099543e+02,8.047022e+01 L4.607660e+02,7.315154e+01 L5.055983e+02,6.957453e+01 L5.461769e+02,6.703423e+01 L5.835664e+02,6.622627e+01 L6.184621e+02,6.588838e+01 L6.513380e+02,6.199182e+01 L6.825291e+02,5.928186e+01 L7.123676e+02,5.720164e+01 L7.410809e+02,5.666722e+01 L7.688274e+02,5.610163e+01 L7.957190e+02,5.749555e+01 L8.218897e+02,5.477244e+01 L8.474287e+02,5.363129e+01 L8.663200e+02,5.339662e+01 \"/></g><g fill=\"none\" stroke=\"hsl(301, 88%, 65%)\" stroke-width=\"2px\" marker-mid=\"url(#square)\" stroke-linecap=\"round\" transform=\"translate(70 330 )scale(1 -1 )\" stroke-linejoin=\"round\" marker-start=\"url(#square)\" marker-end=\"url(#square)\"><path vector-effect=\"non-scaling-stroke\" d=\"M1.768000e+01,2.173981e+02 L1.786294e+02,1.427743e+02 L2.773355e+02,1.008626e+02 L3.506075e+02,8.803392e+01 L4.099543e+02,8.047022e+01 L4.607660e+02,7.315154e+01 L5.055983e+02,6.957453e+01 L5.461769e+02,6.703423e+01 L5.835664e+02,6.622627e+01 L6.184621e+02,6.588838e+01 L6.513380e+02,6.199182e+01 L6.825291e+02,5.928186e+01 L7.123676e+02,5.720164e+01 L7.410809e+02,5.666722e+01 L7.688274e+02,5.610163e+01 L7.957190e+02,5.749555e+01 L8.218897e+02,5.477244e+01 L8.474287e+02,5.363129e+01 L8.663200e+02,5.339662e+01 \"/></g><g stroke-linecap=\"round\" transform=\"translate(70 330 )scale(1 -1 )\" stroke-linejoin=\"round\" fill=\"none\" stroke=\"hsl(152, 76%, 65%)\" stroke-width=\"2px\" marker-start=\"url(#square)\" marker-mid=\"url(#square)\" marker-end=\"url(#square)\"><path vector-effect=\"non-scaling-stroke\" d=\"M1.768000e+01,2.143451e+02 L1.786294e+02,1.401596e+02 L2.773355e+02,9.953547e+01 L3.506075e+02,8.746138e+01 L4.099543e+02,8.050218e+01 L4.607660e+02,7.391461e+01 L5.055983e+02,7.066176e+01 L5.461769e+02,6.848563e+01 L5.835664e+02,6.766134e+01 L6.184621e+02,6.743286e+01 L6.513380e+02,6.405628e+01 L6.825291e+02,6.169311e+01 L7.123676e+02,6.011637e+01 L7.410809e+02,5.983132e+01 L7.688274e+02,5.913590e+01 L7.957190e+02,6.071763e+01 L8.218897e+02,5.878253e+01 L8.474287e+02,5.757881e+01 L8.663200e+02,5.748660e+01 \"/></g><g stroke-linecap=\"round\" transform=\"translate(70 330 )scale(1 -1 )\" stroke-linejoin=\"round\" marker-start=\"url(#square)\" marker-mid=\"url(#square)\" stroke=\"hsl(3, 64%, 65%)\" marker-end=\"url(#square)\" stroke-width=\"2px\" fill=\"none\"><path vector-effect=\"non-scaling-stroke\" d=\"M1.768000e+01,2.143451e+02 L1.786294e+02,1.401596e+02 L2.773355e+02,9.953547e+01 L3.506075e+02,8.746138e+01 L4.099543e+02,8.050218e+01 L4.607660e+02,7.391461e+01 L5.055983e+02,7.066176e+01 L5.461769e+02,6.848563e+01 L5.835664e+02,6.766134e+01 L6.184621e+02,6.743286e+01 L6.513380e+02,6.405628e+01 L6.825291e+02,6.169311e+01 L7.123676e+02,6.011637e+01 L7.410809e+02,5.983132e+01 L7.688274e+02,5.913590e+01 L7.957190e+02,6.071763e+01 L8.218897e+02,5.878253e+01 L8.474287e+02,5.757881e+01 L8.663200e+02,5.748660e+01 \"/></g><g fill=\"none\" stroke-linecap=\"round\" stroke-width=\"2px\" transform=\"translate(70 330 )scale(1 -1 )\" stroke=\"hsl(214, 52%, 65%)\" marker-mid=\"url(#square)\" marker-end=\"url(#square)\" stroke-linejoin=\"round\" marker-start=\"url(#square)\"><path vector-effect=\"non-scaling-stroke\" d=\"M1.768000e+01,2.548000e+02 L1.786294e+02,1.767944e+02 L2.773355e+02,1.188838e+02 L3.506075e+02,1.104286e+02 L4.099543e+02,6.098051e+01 L4.607660e+02,6.938962e+01 L5.055983e+02,1.011498e+02 L5.461769e+02,9.953507e+01 L5.835664e+02,8.847110e+01 L6.184621e+02,4.612151e+01 L6.513380e+02,6.513624e+01 L6.825291e+02,6.072105e+01 L7.123676e+02,5.200000e+00 L7.410809e+02,4.038099e+01 L7.688274e+02,7.290954e+01 L7.957190e+02,1.162612e+02 L8.218897e+02,6.352012e+01 L8.474287e+02,3.426087e+01 L8.663200e+02,7.833943e+01 \"/></g><g marker-start=\"url(#square)\" marker-mid=\"url(#square)\" fill=\"none\" stroke-linecap=\"round\" stroke-width=\"2px\" stroke-linejoin=\"round\" stroke=\"hsl(65, 93%, 65%)\" transform=\"translate(70 330 )scale(1 -1 )\" marker-end=\"url(#square)\"><path d=\"M1.768000e+01,2.364401e+02 L1.786294e+02,2.058193e+02 L2.773355e+02,1.400191e+02 L3.506075e+02,1.068547e+02 L4.099543e+02,8.709453e+01 L4.607660e+02,7.696499e+01 L5.055983e+02,7.474215e+01 L5.461769e+02,6.571266e+01 L5.835664e+02,6.637280e+01 L6.184621e+02,6.483151e+01 L6.513380e+02,6.650695e+01 L6.825291e+02,6.091396e+01 L7.123676e+02,5.698611e+01 L7.410809e+02,5.656735e+01 L7.688274e+02,5.720067e+01 L7.957190e+02,5.741608e+01 L8.218897e+02,5.540629e+01 L8.474287e+02,5.618858e+01 L8.663200e+02,5.197031e+01 \" vector-effect=\"non-scaling-stroke\"/></g><g transform=\"translate(70 330 )scale(1 -1 )\" stroke-linecap=\"round\" marker-mid=\"url(#square)\" marker-end=\"url(#square)\" stroke-width=\"2px\" stroke-linejoin=\"round\" marker-start=\"url(#square)\" fill=\"none\" stroke=\"hsl(276, 81%, 65%)\"><path vector-effect=\"non-scaling-stroke\" d=\"M1.768000e+01,2.364401e+02 L1.786294e+02,2.058193e+02 L2.773355e+02,1.400191e+02 L3.506075e+02,1.068547e+02 L4.099543e+02,8.709453e+01 L4.607660e+02,7.696499e+01 L5.055983e+02,7.474215e+01 L5.461769e+02,6.571266e+01 L5.835664e+02,6.637280e+01 L6.184621e+02,6.483151e+01 L6.513380e+02,6.650695e+01 L6.825291e+02,6.091396e+01 L7.123676e+02,5.698611e+01 L7.410809e+02,5.656735e+01 L7.688274e+02,5.720067e+01 L7.957190e+02,5.741608e+01 L8.218897e+02,5.540629e+01 L8.474287e+02,5.618858e+01 L8.663200e+02,5.197031e+01 \"/></g><g stroke-linecap=\"round\" transform=\"translate(70 330 )scale(1 -1 )\" fill=\"none\" stroke=\"black\" stroke-width=\"2px\" stroke-linejoin=\"round\"><path vector-effect=\"non-scaling-stroke\" d=\"M1.768000e+01,0 L1.768000e+01,-6 M1.680453e+02,0 L1.680453e+02,-6 M2.560033e+02,0 L2.560033e+02,-6 M3.184106e+02,0 L3.184106e+02,-6 M3.668174e+02,0 L3.668174e+02,-6 M4.063686e+02,0 L4.063686e+02,-6 M4.398087e+02,0 L4.398087e+02,-6 M4.687758e+02,0 L4.687758e+02,-6 M4.943267e+02,0 L4.943267e+02,-6 M5.171826e+02,0 L5.171826e+02,-6 M5.378584e+02,0 L5.378584e+02,-6 M6.675479e+02,0 L6.675479e+02,-6 M7.555060e+02,0 L7.555060e+02,-6 M8.179132e+02,0 L8.179132e+02,-6 M8.663200e+02,0 L8.663200e+02,-6 \"/></g><g stroke-linejoin=\"round\" font-size=\"12px\" stroke-linecap=\"round\" transform=\"translate(70 330 )scale(1 1 )\" font-style=\"normal\" text-anchor=\"middle\" dominant-baseline=\"hanging\" fill=\"black\" stroke=\"black\" stroke-width=\"2px\" font-family=\"sans-serif\" font-weight=\"normal\"><text x=\"1.768000e+01\" y=\"10\" dominant-baseline=\"hanging\" stroke=\"none\" vector-effect=\"non-scaling-stroke\">100</text><text y=\"10\" dominant-baseline=\"hanging\" stroke=\"none\" vector-effect=\"non-scaling-stroke\" x=\"1.680453e+02\">200</text><text dominant-baseline=\"hanging\" stroke=\"none\" vector-effect=\"non-scaling-stroke\" x=\"2.560033e+02\" y=\"10\">300</text><text vector-effect=\"non-scaling-stroke\" x=\"3.184106e+02\" y=\"10\" dominant-baseline=\"hanging\" stroke=\"none\">400</text><text x=\"3.668174e+02\" y=\"10\" dominant-baseline=\"hanging\" stroke=\"none\" vector-effect=\"non-scaling-stroke\">500</text><text x=\"4.063686e+02\" y=\"10\" dominant-baseline=\"hanging\" stroke=\"none\" vector-effect=\"non-scaling-stroke\">600</text><text y=\"10\" dominant-baseline=\"hanging\" stroke=\"none\" vector-effect=\"non-scaling-stroke\" x=\"4.398087e+02\">700</text><text dominant-baseline=\"hanging\" stroke=\"none\" vector-effect=\"non-scaling-stroke\" x=\"4.687758e+02\" y=\"10\">800</text><text y=\"10\" dominant-baseline=\"hanging\" stroke=\"none\" vector-effect=\"non-scaling-stroke\" x=\"4.943267e+02\">900</text><text x=\"5.171826e+02\" y=\"10\" dominant-baseline=\"hanging\" stroke=\"none\" vector-effect=\"non-scaling-stroke\">1000</text><text stroke=\"none\" vector-effect=\"non-scaling-stroke\" x=\"5.378584e+02\" y=\"10\" dominant-baseline=\"hanging\">1100</text><text dominant-baseline=\"hanging\" stroke=\"none\" vector-effect=\"non-scaling-stroke\" x=\"6.675479e+02\" y=\"10\">2000</text><text x=\"7.555060e+02\" y=\"10\" dominant-baseline=\"hanging\" stroke=\"none\" vector-effect=\"non-scaling-stroke\">3000</text><text x=\"8.179132e+02\" y=\"10\" dominant-baseline=\"hanging\" stroke=\"none\" vector-effect=\"non-scaling-stroke\">4000</text><text y=\"10\" dominant-baseline=\"hanging\" stroke=\"none\" vector-effect=\"non-scaling-stroke\" x=\"8.663200e+02\">5000</text></g><g stroke-linecap=\"round\" font-weight=\"bold\" font-family=\"sans-serif\" transform=\"translate(70 330 )scale(1 1 )rotate(0 0 0 )\" text-anchor=\"middle\" fill=\"black\" stroke=\"black\" font-size=\"12px\" stroke-width=\"2px\" stroke-linejoin=\"round\" font-style=\"normal\" dominant-baseline=\"baseline\"><text y=\"-6\" dominant-baseline=\"baseline\" stroke=\"none\" vector-effect=\"non-scaling-stroke\" x=\"442\">Steps</text></g><g stroke-linejoin=\"round\" fill=\"black\" transform=\"translate(70 330 )scale(1 -1 )\" font-style=\"normal\" text-anchor=\"middle\" dominant-baseline=\"baseline\" stroke=\"black\" font-weight=\"bold\" stroke-width=\"2px\" font-family=\"sans-serif\" font-size=\"12px\" stroke-linecap=\"round\"><path vector-effect=\"non-scaling-stroke\" d=\"M0,9.941958e+00 L-6,9.941958e+00 M0,6.902299e+01 L-6,6.902299e+01 M0,1.281040e+02 L-6,1.281040e+02 M0,1.871850e+02 L-6,1.871850e+02 M0,2.462661e+02 L-6,2.462661e+02 \"/></g><g text-anchor=\"end\" dominant-baseline=\"middle\" stroke-width=\"2px\" stroke-linejoin=\"round\" font-family=\"sans-serif\" stroke=\"black\" transform=\"translate(70 330 )scale(1 1 )\" font-style=\"normal\" font-size=\"12px\" font-weight=\"normal\" fill=\"black\" stroke-linecap=\"round\"><text stroke=\"none\" vector-effect=\"non-scaling-stroke\" x=\"-10\" y=\"-9.941958e+00\" dominant-baseline=\"middle\">0.200</text><text dominant-baseline=\"middle\" stroke=\"none\" vector-effect=\"non-scaling-stroke\" x=\"-10\" y=\"-6.902299e+01\">0.300</text><text dominant-baseline=\"middle\" stroke=\"none\" vector-effect=\"non-scaling-stroke\" x=\"-10\" y=\"-1.281040e+02\">0.400</text><text y=\"-1.871850e+02\" dominant-baseline=\"middle\" stroke=\"none\" vector-effect=\"non-scaling-stroke\" x=\"-10\">0.500</text><text x=\"-10\" y=\"-2.462661e+02\" dominant-baseline=\"middle\" stroke=\"none\" vector-effect=\"non-scaling-stroke\">0.600</text></g><g dominant-baseline=\"hanging\" stroke=\"black\" stroke-linejoin=\"round\" font-family=\"sans-serif\" font-size=\"12px\" font-weight=\"bold\" text-anchor=\"middle\" fill=\"black\" stroke-linecap=\"round\" transform=\"translate(70 330 )scale(1 1 )rotate(-90 0 0 )\" stroke-width=\"2px\" font-style=\"normal\"><text stroke=\"none\" vector-effect=\"non-scaling-stroke\" x=\"130\" y=\"6\" dominant-baseline=\"hanging\">loss</text></g><g font-family=\"sans-serif\" font-size=\"12px\" dominant-baseline=\"hanging\" fill=\"black\" stroke=\"gray\" transform=\"translate(70 330 )scale(1 -1 )\" stroke-linejoin=\"round\" stroke-linecap=\"round\" font-style=\"normal\" text-anchor=\"middle\" stroke-width=\"0.5px\" font-weight=\"bold\"><path vector-effect=\"non-scaling-stroke\" d=\"M0,9.941958e+00 L884,9.941958e+00 M0,6.902299e+01 L884,6.902299e+01 M0,1.281040e+02 L884,1.281040e+02 M0,1.871850e+02 L884,1.871850e+02 M0,2.462661e+02 L884,2.462661e+02 \"/></g><g font-size=\"12px\" text-anchor=\"middle\" fill=\"none\" font-style=\"normal\" dominant-baseline=\"hanging\" stroke-linejoin=\"round\" font-family=\"sans-serif\" font-weight=\"bold\" stroke-width=\"2px\" stroke=\"black\" stroke-linecap=\"round\"><rect vector-effect=\"non-scaling-stroke\" x=\"70\" y=\"70\" width=\"884\" height=\"260\"/><g font-size=\"18px\" fill=\"black\" dominant-baseline=\"middle\"><text stroke=\"none\" vector-effect=\"non-scaling-stroke\" x=\"512\" y=\"35\" dominant-baseline=\"middle\">loss metrics</text></g><g font-weight=\"normal\" stroke-linecap=\"round\" font-style=\"normal\" text-anchor=\"start\" stroke-width=\"1px\" stroke-linejoin=\"round\" font-family=\"sans-serif\" font-size=\"12px\" dominant-baseline=\"hanging\" fill=\"hsl(90, 47%, 65%)\" stroke=\"hsl(90, 47%, 65%)\"><rect height=\"12\" vector-effect=\"non-scaling-stroke\" x=\"76\" y=\"366\" width=\"12\"/><g stroke=\"black\" fill=\"black\"><text stroke=\"none\" vector-effect=\"non-scaling-stroke\" x=\"92\" y=\"366\" dominant-baseline=\"hanging\">Eval on batched train: Mean Loss</text></g><g font-family=\"sans-serif\" font-weight=\"normal\" stroke-linecap=\"round\" font-style=\"normal\" text-anchor=\"start\" font-size=\"12px\" stroke-width=\"1px\" stroke-linejoin=\"round\" dominant-baseline=\"hanging\" fill=\"hsl(301, 88%, 65%)\" stroke=\"hsl(301, 88%, 65%)\"><rect width=\"12\" height=\"12\" vector-effect=\"non-scaling-stroke\" x=\"76\" y=\"384\"/><g fill=\"black\" stroke=\"black\"><text stroke=\"none\" vector-effect=\"non-scaling-stroke\" x=\"92\" y=\"384\" dominant-baseline=\"hanging\">Eval on batched train: Mean Loss+Regularization</text></g><g text-anchor=\"start\" dominant-baseline=\"hanging\" fill=\"hsl(152, 76%, 65%)\" stroke=\"hsl(152, 76%, 65%)\" stroke-linecap=\"round\" stroke-linejoin=\"round\" font-family=\"sans-serif\" font-size=\"12px\" font-style=\"normal\" font-weight=\"normal\" stroke-width=\"1px\"><rect height=\"12\" vector-effect=\"non-scaling-stroke\" x=\"76\" y=\"402\" width=\"12\"/><g fill=\"black\" stroke=\"black\"><text stroke=\"none\" vector-effect=\"non-scaling-stroke\" x=\"92\" y=\"402\" dominant-baseline=\"hanging\">Eval on test: Mean Loss</text></g><g font-family=\"sans-serif\" font-size=\"12px\" font-weight=\"normal\" font-style=\"normal\" dominant-baseline=\"hanging\" fill=\"hsl(3, 64%, 65%)\" stroke-linejoin=\"round\" stroke-width=\"1px\" stroke=\"hsl(3, 64%, 65%)\" stroke-linecap=\"round\" text-anchor=\"start\"><rect x=\"76\" y=\"420\" width=\"12\" height=\"12\" vector-effect=\"non-scaling-stroke\"/><g stroke=\"black\" fill=\"black\"><text dominant-baseline=\"hanging\" stroke=\"none\" vector-effect=\"non-scaling-stroke\" x=\"92\" y=\"420\">Eval on test: Mean Loss+Regularization</text></g><g dominant-baseline=\"hanging\" fill=\"hsl(214, 52%, 65%)\" stroke=\"hsl(214, 52%, 65%)\" stroke-linecap=\"round\" font-family=\"sans-serif\" font-size=\"12px\" text-anchor=\"start\" font-style=\"normal\" font-weight=\"normal\" stroke-width=\"1px\" stroke-linejoin=\"round\"><rect height=\"12\" vector-effect=\"non-scaling-stroke\" x=\"76\" y=\"438\" width=\"12\"/><g stroke=\"black\" fill=\"black\"><text dominant-baseline=\"hanging\" stroke=\"none\" vector-effect=\"non-scaling-stroke\" x=\"92\" y=\"438\">Train: Batch Loss+Regularization</text></g><g font-weight=\"normal\" stroke=\"hsl(65, 93%, 65%)\" font-style=\"normal\" text-anchor=\"start\" dominant-baseline=\"hanging\" font-family=\"sans-serif\" stroke-linejoin=\"round\" font-size=\"12px\" fill=\"hsl(65, 93%, 65%)\" stroke-linecap=\"round\" stroke-width=\"1px\"><rect y=\"456\" width=\"12\" height=\"12\" vector-effect=\"non-scaling-stroke\" x=\"76\"/><g stroke=\"black\" fill=\"black\"><text y=\"456\" dominant-baseline=\"hanging\" stroke=\"none\" vector-effect=\"non-scaling-stroke\" x=\"92\">Train: Moving Average Loss</text></g><g stroke=\"hsl(276, 81%, 65%)\" stroke-linecap=\"round\" font-style=\"normal\" stroke-width=\"1px\" font-family=\"sans-serif\" font-weight=\"normal\" text-anchor=\"start\" dominant-baseline=\"hanging\" font-size=\"12px\" fill=\"hsl(276, 81%, 65%)\" stroke-linejoin=\"round\"><rect width=\"12\" height=\"12\" vector-effect=\"non-scaling-stroke\" x=\"76\" y=\"474\"/><g stroke=\"black\" fill=\"black\"><text stroke=\"none\" vector-effect=\"non-scaling-stroke\" x=\"92\" y=\"474\" dominant-baseline=\"hanging\">Train: Moving Average Loss+Regularization</text></g></g></g></g></g></g></g></g></g></svg>"
      ]
     },
     "metadata": {},
     "output_type": "display_data"
    },
    {
     "name": "stdout",
     "output_type": "stream",
     "text": [
      "\t[Step 5000] median train step: 916 microseconds\n",
      "\n",
      "Results on batched train:\n",
      "\tMean Loss+Regularization (#loss+): 0.274\n",
      "\tMean Loss (#loss): 0.274\n",
      "\tMean Accuracy (#acc): 87.43%\n",
      "Results on test:\n",
      "\tMean Loss+Regularization (#loss+): 0.280\n",
      "\tMean Loss (#loss): 0.280\n",
      "\tMean Accuracy (#acc): 87.06%\n",
      "\n"
     ]
    }
   ],
   "source": [
    "%% --steps=5000 --checkpoint base_model --plot_type=margaid\n",
    "trainModel()"
   ]
  },
  {
   "cell_type": "markdown",
   "id": "c38d8a41-3e9c-4107-a507-c879ef27e3e3",
   "metadata": {},
   "source": [
    "## Extend training another 5K steps\n",
    "\n",
    "Since the model training went well, and it doesn't seem to be yet terribly overfiting, \n",
    "let's train further, another 5k steps, for 10K steps in total.\n",
    "\n",
    "Notice the plots continue from where it stopped. And this time we use [Plotly](https://plotly.com/javascript/) to plot the training results -- they don't display in Github since they depend on javascript.\n",
    "\n",
    "Unfortunately, it doesn't help (the accuracy on the test set doesn't improve), 5k steps was already enough."
   ]
  },
  {
   "cell_type": "code",
   "execution_count": 9,
   "id": "95983f61-2a98-442d-bc5d-896006289a2b",
   "metadata": {
    "tags": []
   },
   "outputs": [
    {
     "name": "stdout",
     "output_type": "stream",
     "text": [
      "loading: \"checkpoint-n0000000-20240418-155646-step-00005000\"\n",
      "Checkpointing model to \"/home/janpf/work/uci-adult/base_model\"\n",
      "Restarting training from global_step=5000\n"
     ]
    },
    {
     "data": {
      "text/html": []
     },
     "metadata": {},
     "output_type": "display_data"
    },
    {
     "data": {
      "text/html": []
     },
     "metadata": {},
     "output_type": "display_data"
    },
    {
     "name": "stdout",
     "output_type": "stream",
     "text": [
      "Training (5000 steps):  100% [\u001b[32m=\u001b[0m\u001b[32m=\u001b[0m\u001b[32m=\u001b[0m\u001b[32m=\u001b[0m\u001b[32m=\u001b[0m\u001b[32m=\u001b[0m\u001b[32m=\u001b[0m\u001b[32m=\u001b[0m\u001b[32m=\u001b[0m\u001b[32m=\u001b[0m\u001b[32m=\u001b[0m\u001b[32m=\u001b[0m\u001b[32m=\u001b[0m\u001b[32m=\u001b[0m\u001b[32m=\u001b[0m\u001b[32m=\u001b[0m\u001b[32m=\u001b[0m\u001b[32m=\u001b[0m\u001b[32m=\u001b[0m\u001b[32m=\u001b[0m\u001b[32m=\u001b[0m\u001b[32m=\u001b[0m\u001b[32m=\u001b[0m\u001b[32m=\u001b[0m\u001b[32m=\u001b[0m\u001b[32m=\u001b[0m\u001b[32m=\u001b[0m\u001b[32m=\u001b[0m\u001b[32m=\u001b[0m\u001b[32m=\u001b[0m\u001b[32m=\u001b[0m\u001b[32m=\u001b[0m\u001b[32m=\u001b[0m\u001b[32m=\u001b[0m\u001b[32m=\u001b[0m\u001b[32m=\u001b[0m\u001b[32m=\u001b[0m\u001b[32m=\u001b[0m\u001b[32m=\u001b[0m\u001b[32m=\u001b[0m] (439 steps/s)\u001b[0m [step=9999] [loss+=0.293] [~loss+=0.268] [~loss=0.268] [~acc=87.51%]        \n",
      "\n",
      "[saving checkpoint@10000] [median train step (ms): 0]\n"
     ]
    },
    {
     "data": {
      "text/html": [
       "<p><b>Metric: accuracy</b></p>\n"
      ]
     },
     "metadata": {},
     "output_type": "display_data"
    },
    {
     "data": {
      "text/html": [
       "<div id=\"5e369655\"></div>"
      ]
     },
     "metadata": {},
     "output_type": "display_data"
    },
    {
     "data": {
      "text/html": [
       "<script charset=\"UTF-8\">\n",
       "(() => {\n",
       "\tconst src=\"https://cdn.plot.ly/plotly-2.29.1.min.js\";\n",
       "\tvar runJSFn = function(module) {\n",
       "\t\t\n",
       "\tif (!module) {\n",
       "\t\tmodule = window.Plotly;\n",
       "\t}\n",
       "\tlet data = JSON.parse('{\"data\":[{\"type\":\"scatter\",\"line\":{\"shape\":\"linear\"},\"mode\":\"lines+markers\",\"name\":\"Train: Moving Average Accuracy\",\"x\":[100,210,331,464,610,771,948,1143,1358,1595,1856,2143,2459,2807,3190,3611,4074,4583,5000,5143,5759,6437,7183,8004,8907,9900,10000],\"y\":[0.7319744825363159,0.7484232187271118,0.8109568357467651,0.8353337049484253,0.8512411713600159,0.8601358532905579,0.8602016568183899,0.8672217130661011,0.8681829571723938,0.8673688769340515,0.8655205368995667,0.8694984912872314,0.8726552128791809,0.8743552565574646,0.8725360035896301,0.8713047504425049,0.8721508979797363,0.8710243105888367,0.875003457069397,0.8718843460083008,0.8727318644523621,0.8738215565681458,0.8712641596794128,0.8738411068916321,0.8721779584884644,0.8755931854248047,0.875115156173706]},{\"type\":\"scatter\",\"line\":{\"shape\":\"linear\"},\"mode\":\"lines+markers\",\"name\":\"Eval on batched train: Mean Accuracy\",\"x\":[100,210,331,464,610,771,948,1143,1358,1595,1856,2143,2459,2807,3190,3611,4074,4583,5000,5143,5759,6437,7183,8004,8907,9900,10000],\"y\":[0.7591904401779175,0.7737477421760559,0.8422653079032898,0.8507109880447388,0.8550106287002563,0.8624427914619446,0.8648689985275269,0.8664352893829346,0.8669881224632263,0.867510199546814,0.8699978590011597,0.8721476793289185,0.872086226940155,0.8724240660667419,0.8732225894927979,0.870949923992157,0.8729154467582703,0.8742360472679138,0.8742667436599731,0.8709806203842163,0.8746045827865601,0.8747274279594421,0.8726697564125061,0.8740825057029724,0.8717176914215088,0.8740518093109131,0.8744203448295593]},{\"type\":\"scatter\",\"line\":{\"shape\":\"linear\"},\"mode\":\"lines+markers\",\"name\":\"Eval on test: Mean Accuracy\",\"x\":[100,210,331,464,610,771,948,1143,1358,1595,1856,2143,2459,2807,3190,3611,4074,4583,5000,5143,5759,6437,7183,8004,8907,9900,10000],\"y\":[0.7637736797332764,0.7775934338569641,0.8424543142318726,0.8520974516868591,0.8554142117500305,0.8634604215621948,0.8635218143463135,0.864934504032135,0.8661015033721924,0.8645659685134888,0.866531491279602,0.8690497279167175,0.8687426447868347,0.8696639537811279,0.8700324892997742,0.8691725730895996,0.869111180305481,0.8700938820838928,0.8706467151641846,0.8653030395507812,0.871383786201477,0.8714451789855957,0.8713223338127136,0.8707081079483032,0.8671457171440125,0.8713223338127136,0.8707081079483032]}],\"layout\":{\"legend\":{},\"title\":{\"text\":\"accuracy\"},\"xaxis\":{\"showgrid\":true,\"type\":\"log\"},\"yaxis\":{\"showgrid\":true,\"type\":\"log\"}}}');\n",
       "\tmodule.newPlot('5e369655', data);\n",
       "\n",
       "\t}\n",
       "\t\n",
       "    if (typeof requirejs === \"function\") {\n",
       "        // Use RequireJS to load module.\n",
       "\t\tlet srcWithoutExtension = src.substring(0, src.lastIndexOf(\".js\"));\n",
       "        requirejs.config({\n",
       "            paths: {\n",
       "                'plotly': srcWithoutExtension\n",
       "            }\n",
       "        });\n",
       "        require(['plotly'], function(plotly) {\n",
       "            runJSFn(plotly)\n",
       "        });\n",
       "        return\n",
       "    }\n",
       "\n",
       "\tvar currentScripts = document.head.getElementsByTagName(\"script\");\n",
       "\tfor (const idx in currentScripts) {\n",
       "\t\tlet script = currentScripts[idx];\n",
       "\t\tif (script.src == src) {\n",
       "\t\t\trunJSFn(null);\n",
       "\t\t\treturn;\n",
       "\t\t}\n",
       "\t}\n",
       "\n",
       "\tvar script = document.createElement(\"script\");\n",
       "\n",
       "\tscript.charset = \"utf-8\";\n",
       "\t\n",
       "\tscript.src = src;\n",
       "\tscript.onload = script.onreadystatechange = function () { runJSFn(null); };\n",
       "\tdocument.head.appendChild(script);\t\n",
       "})();\n",
       "</script>"
      ]
     },
     "metadata": {},
     "output_type": "display_data"
    },
    {
     "data": {
      "text/html": [
       "<p><b>Metric: loss</b></p>\n"
      ]
     },
     "metadata": {},
     "output_type": "display_data"
    },
    {
     "data": {
      "text/html": [
       "<div id=\"b0aeb99a\"></div>"
      ]
     },
     "metadata": {},
     "output_type": "display_data"
    },
    {
     "data": {
      "text/html": [
       "<script charset=\"UTF-8\">\n",
       "(() => {\n",
       "\tconst src=\"https://cdn.plot.ly/plotly-2.29.1.min.js\";\n",
       "\tvar runJSFn = function(module) {\n",
       "\t\t\n",
       "\tif (!module) {\n",
       "\t\tmodule = window.Plotly;\n",
       "\t}\n",
       "\tlet data = JSON.parse('{\"data\":[{\"type\":\"scatter\",\"line\":{\"shape\":\"linear\"},\"mode\":\"lines+markers\",\"name\":\"Train: Batch Loss+Regularization\",\"x\":[100,210,331,464,610,771,948,1143,1358,1595,1856,2143,2459,2807,3190,3611,4074,4583,5000,5143,5759,6437,7183,8004,8907,9900,10000],\"y\":[0.6144444346427917,0.4824129045009613,0.38439399003982544,0.370082825422287,0.2863873839378357,0.30062055587768555,0.35437747836112976,0.35164445638656616,0.3329176902770996,0.26123717427253723,0.29342132806777954,0.2859482169151306,0.19197380542755127,0.2515208125114441,0.3065783381462097,0.3799549341201782,0.29068589210510254,0.24116195738315582,0.31576892733573914,0.2818413972854614,0.2371956706047058,0.29919153451919556,0.28072312474250793,0.27128592133522034,0.23677770793437958,0.22867386043071747,0.29328465461730957]},{\"type\":\"scatter\",\"line\":{\"shape\":\"linear\"},\"mode\":\"lines+markers\",\"name\":\"Train: Moving Average Loss+Regularization\",\"x\":[100,210,331,464,610,771,948,1143,1358,1595,1856,2143,2459,2807,3190,3611,4074,4583,5000,5143,5759,6437,7183,8004,8907,9900,10000],\"y\":[0.5833685994148254,0.5315402150154114,0.42016729712486267,0.364033579826355,0.3305877149105072,0.31344255805015564,0.30968019366264343,0.2943969666957855,0.295514315366745,0.2929055392742157,0.29574137926101685,0.2862747311592102,0.2796264886856079,0.27891770005226135,0.27998965978622437,0.28035426139831543,0.27695250511169434,0.27827659249305725,0.2711367905139923,0.27828845381736755,0.27493196725845337,0.27225106954574585,0.2727912962436676,0.2720308005809784,0.27585649490356445,0.26938021183013916,0.268451452255249]},{\"type\":\"scatter\",\"line\":{\"shape\":\"linear\"},\"mode\":\"lines+markers\",\"name\":\"Train: Moving Average Loss\",\"x\":[100,210,331,464,610,771,948,1143,1358,1595,1856,2143,2459,2807,3190,3611,4074,4583,5000,5143,5759,6437,7183,8004,8907,9900,10000],\"y\":[0.5833685994148254,0.5315402150154114,0.42016729712486267,0.364033579826355,0.3305877149105072,0.31344255805015564,0.30968019366264343,0.2943969666957855,0.295514315366745,0.2929055392742157,0.29574137926101685,0.2862747311592102,0.2796264886856079,0.27891770005226135,0.27998965978622437,0.28035426139831543,0.27695250511169434,0.27827659249305725,0.2711367905139923,0.27828845381736755,0.27493196725845337,0.27225106954574585,0.2727912962436676,0.2720308005809784,0.27585649490356445,0.26938021183013916,0.268451452255249]},{\"type\":\"scatter\",\"line\":{\"shape\":\"linear\"},\"mode\":\"lines+markers\",\"name\":\"Eval on batched train: Mean Loss+Regularization\",\"x\":[100,210,331,464,610,771,948,1143,1358,1595,1856,2143,2459,2807,3190,3611,4074,4583,5000,5143,5759,6437,7183,8004,8907,9900,10000],\"y\":[0.5511384010314941,0.4248307943344116,0.35389137268066406,0.3321777284145355,0.31937548518180847,0.3069879412651062,0.3009335398674011,0.29663383960723877,0.2952663004398346,0.2946943938732147,0.28809911012649536,0.28351226449012756,0.2799912989139557,0.27908673882484436,0.2781294286251068,0.2804887592792511,0.2758796513080597,0.27394816279411316,0.27355095744132996,0.28063884377479553,0.2729184627532959,0.2720143795013428,0.2738429307937622,0.27108970284461975,0.2757788896560669,0.27000775933265686,0.27001670002937317]},{\"type\":\"scatter\",\"line\":{\"shape\":\"linear\"},\"mode\":\"lines+markers\",\"name\":\"Eval on batched train: Mean Loss\",\"x\":[100,210,331,464,610,771,948,1143,1358,1595,1856,2143,2459,2807,3190,3611,4074,4583,5000,5143,5759,6437,7183,8004,8907,9900,10000],\"y\":[0.5511384010314941,0.4248307943344116,0.35389137268066406,0.3321777284145355,0.31937548518180847,0.3069879412651062,0.3009335398674011,0.29663383960723877,0.2952663004398346,0.2946943938732147,0.28809911012649536,0.28351226449012756,0.2799912989139557,0.27908673882484436,0.2781294286251068,0.2804887592792511,0.2758796513080597,0.27394816279411316,0.27355095744132996,0.28063884377479553,0.2729184627532959,0.2720143795013428,0.2738429307937622,0.27108970284461975,0.2757788896560669,0.27000775933265686,0.27001670002937317]},{\"type\":\"scatter\",\"line\":{\"shape\":\"linear\"},\"mode\":\"lines+markers\",\"name\":\"Eval on test: Mean Loss+Regularization\",\"x\":[100,210,331,464,610,771,948,1143,1358,1595,1856,2143,2459,2807,3190,3611,4074,4583,5000,5143,5759,6437,7183,8004,8907,9900,10000],\"y\":[0.5459708571434021,0.4204051196575165,0.3516451418399811,0.33120864629745483,0.31942957639694214,0.30827951431274414,0.30277377367019653,0.2990904748439789,0.2976952791213989,0.2973085641860962,0.29159340262413025,0.2875935137271881,0.2849247455596924,0.284442275762558,0.28326520323753357,0.2859424352645874,0.2826671004295349,0.2806296944618225,0.28047361969947815,0.2872236967086792,0.27902549505233765,0.2786025404930115,0.28107714653015137,0.27801263332366943,0.282991498708725,0.2778148055076599,0.27806392312049866]},{\"type\":\"scatter\",\"line\":{\"shape\":\"linear\"},\"mode\":\"lines+markers\",\"name\":\"Eval on test: Mean Loss\",\"x\":[100,210,331,464,610,771,948,1143,1358,1595,1856,2143,2459,2807,3190,3611,4074,4583,5000,5143,5759,6437,7183,8004,8907,9900,10000],\"y\":[0.5459708571434021,0.4204051196575165,0.3516451418399811,0.33120864629745483,0.31942957639694214,0.30827951431274414,0.30277377367019653,0.2990904748439789,0.2976952791213989,0.2973085641860962,0.29159340262413025,0.2875935137271881,0.2849247455596924,0.284442275762558,0.28326520323753357,0.2859424352645874,0.2826671004295349,0.2806296944618225,0.28047361969947815,0.2872236967086792,0.27902549505233765,0.2786025404930115,0.28107714653015137,0.27801263332366943,0.282991498708725,0.2778148055076599,0.27806392312049866]}],\"layout\":{\"legend\":{},\"title\":{\"text\":\"loss\"},\"xaxis\":{\"showgrid\":true,\"type\":\"log\"},\"yaxis\":{\"showgrid\":true,\"type\":\"log\"}}}');\n",
       "\tmodule.newPlot('b0aeb99a', data);\n",
       "\n",
       "\t}\n",
       "\t\n",
       "    if (typeof requirejs === \"function\") {\n",
       "        // Use RequireJS to load module.\n",
       "\t\tlet srcWithoutExtension = src.substring(0, src.lastIndexOf(\".js\"));\n",
       "        requirejs.config({\n",
       "            paths: {\n",
       "                'plotly': srcWithoutExtension\n",
       "            }\n",
       "        });\n",
       "        require(['plotly'], function(plotly) {\n",
       "            runJSFn(plotly)\n",
       "        });\n",
       "        return\n",
       "    }\n",
       "\n",
       "\tvar currentScripts = document.head.getElementsByTagName(\"script\");\n",
       "\tfor (const idx in currentScripts) {\n",
       "\t\tlet script = currentScripts[idx];\n",
       "\t\tif (script.src == src) {\n",
       "\t\t\trunJSFn(null);\n",
       "\t\t\treturn;\n",
       "\t\t}\n",
       "\t}\n",
       "\n",
       "\tvar script = document.createElement(\"script\");\n",
       "\n",
       "\tscript.charset = \"utf-8\";\n",
       "\t\n",
       "\tscript.src = src;\n",
       "\tscript.onload = script.onreadystatechange = function () { runJSFn(null); };\n",
       "\tdocument.head.appendChild(script);\t\n",
       "})();\n",
       "</script>"
      ]
     },
     "metadata": {},
     "output_type": "display_data"
    },
    {
     "name": "stdout",
     "output_type": "stream",
     "text": [
      "\t[Step 10000] median train step: 905 microseconds\n",
      "\n",
      "Results on batched train:\n",
      "\tMean Loss+Regularization (#loss+): 0.270\n",
      "\tMean Loss (#loss): 0.270\n",
      "\tMean Accuracy (#acc): 87.44%\n",
      "Results on test:\n",
      "\tMean Loss+Regularization (#loss+): 0.278\n",
      "\tMean Loss (#loss): 0.278\n",
      "\tMean Accuracy (#acc): 87.07%\n",
      "\n"
     ]
    }
   ],
   "source": [
    "import \"github.com/gomlx/exceptions\"\n",
    "\n",
    "%% --steps=5000 --checkpoint base_model --plot_type=plotly\n",
    "err := exceptions.TryCatch[error](func() { trainModel() })\n",
    "if err != nil {\n",
    "    fmt.Fprintf(os.Stderr, \"Error: %+v\", err)\n",
    "}"
   ]
  }
 ],
 "metadata": {
  "kernelspec": {
   "display_name": "Go (gonb)",
   "language": "go",
   "name": "gonb"
  },
  "language_info": {
   "codemirror_mode": "",
   "file_extension": ".go",
   "mimetype": "",
   "name": "go",
   "nbconvert_exporter": "",
   "pygments_lexer": "",
   "version": "go1.22.1"
  }
 },
 "nbformat": 4,
 "nbformat_minor": 5
}
