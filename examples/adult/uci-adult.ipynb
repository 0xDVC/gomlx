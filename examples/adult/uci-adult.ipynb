{
 "cells": [
  {
   "cell_type": "markdown",
   "id": "546fa208-c19c-405b-81b1-cf99fcb4a830",
   "metadata": {
    "tags": []
   },
   "source": [
    "# UCI Adult Dataset or Census Income\n",
    "\n",
    "This is a very popular ML task, with tabular data. The objective is to predict whether income exceeds $50K/yr based on census data. \n",
    "Also known as \"Census Income\" dataset.\n",
    "\n",
    "The data is old and biased on different ways ... but it can be used opaquely for ML experimentation.\n",
    "\n"
   ]
  },
  {
   "cell_type": "markdown",
   "id": "2ab071e3-227f-4c77-b864-2b7e5a5ccbdf",
   "metadata": {},
   "source": [
    "## Environment Set Up\n",
    "\n",
    "Let's set up `go.mod` to use the local copy of GoMLX, so it can be developed jointly the dataset code with the model. That's often how data pre-processing and model code is developed together with experimentation.\n",
    "\n",
    "If you are not changing code, feel free to simply skip this cell. Or if you used a different directory for you projects, change it below.\n",
    "\n",
    "Notice the directory `${HOME}/Projects/gomlx` is where the GoMLX code is copied by default in [its Docker](https://hub.docker.com/repository/docker/janpfeifer/gomlx_jupyterlab/general)."
   ]
  },
  {
   "cell_type": "code",
   "execution_count": 1,
   "id": "9ba46cb6-059d-4387-876c-665f778f2447",
   "metadata": {
    "tags": []
   },
   "outputs": [],
   "source": [
    "!*go mod edit -replace github.com/gomlx/gomlx=\"${HOME}/Projects/gomlx\"\n",
    "!*go mod edit -replace github.com/gomlx/gopjrt=\"${HOME}/Projects/gopjrt\""
   ]
  },
  {
   "cell_type": "markdown",
   "id": "78cf991f-4fa5-4bae-8e49-ca67fb8dbd5b",
   "metadata": {},
   "source": [
    "## Data Preparation\n",
    "\n",
    "GoMLX provides [a simple `adult` library](https://pkg.go.dev/github.com/gomlx/gomlx/examples/adult) to facilitate downdoaling and preprocessing the data. Data is available in [UCI Machine Learning Repository](https://archive.ics.uci.edu/ml/datasets/Adult).\n",
    "\n",
    "After downloading the data and validating the checksum (both training and testing), it generates the quantiles for the continuous features, and the vocabularies for the categorical features. It saves all this info for faster restart later in a binary file. So this won't be necessary a second time.\n",
    "\n",
    "The quantiles are used to calibrate the values, using a piece-wise-lienar calibration, very good for these things. See [`layers.PieceWiseLinearCalibration` documentation](https://pkg.go.dev/github.com/gomlx/gomlx@v0.1.0/ml/layers#PieceWiseLinearCalibration).\n",
    "\n",
    "We create a flag `--data` to define the directory where to save the intermediary files: downloaded and preprocessed datasets.\n",
    "In this examle we set it to `~/work/uci-adult`. Verbosity can be contolled with the `--verbosity` flag. \n",
    "\n",
    "We set default in Go for these flags, but they can easily be reset for a new run by providing them after the `%%` Jupyter kernel meta-command -- in indicates that the subsequent lines should be put in to a `func main`.\n"
   ]
  },
  {
   "cell_type": "code",
   "execution_count": 2,
   "id": "9418be86-70bc-41ad-9e0a-3a5e6bf52b51",
   "metadata": {
    "tags": []
   },
   "outputs": [
    {
     "name": "stdout",
     "output_type": "stream",
     "text": [
      "\n",
      "Sample Categorical: (24.08% positive ratio, 23.86% weighted positive ratio)\n",
      "\tRow 0:\t[7 10 5 1 2 5 2 39]\n",
      "\tRow 1:\t[6 10 3 4 1 5 2 39]\n",
      "\tRow 2:\t[4 12 1 6 2 5 2 39]\n",
      "\t...\n",
      "\tRow 32558:\t[4 12 7 1 5 5 1 39]\n",
      "\tRow 32559:\t[4 12 5 1 4 5 2 39]\n",
      "\tRow 32560:\t[5 12 3 4 6 5 1 39]\n",
      "\n",
      "Sample Continuous:\n",
      "\tRow 0:\t[39 13 2174 0 40]\n",
      "\tRow 1:\t[50 13 0 0 13]\n",
      "\tRow 2:\t[38 9 0 0 40]\n",
      "\t...\n",
      "\tRow 32558:\t[58 9 0 0 40]\n",
      "\tRow 32559:\t[22 9 0 0 20]\n",
      "\tRow 32560:\t[52 9 15024 0 40]\n"
     ]
    }
   ],
   "source": [
    "import (\n",
    "    \"flag\"\n",
    "    \n",
    "    \"github.com/gomlx/gomlx/examples/adult\"\n",
    ")\n",
    "\n",
    "var (\n",
    "    flagDataDir       = flag.String(\"data\", \"~/work/uci-adult\", \"Directory to save and load downloaded and generated dataset files.\")\n",
    "    flagVerbosity     = flag.Int(\"verbosity\", 0, \"Level of verbosity, the higher the more verbose.\")\n",
    "    flagForceDownload = flag.Bool(\"force_download\", false, \"Force re-download of Adult dataset files.\")\n",
    "    flagNumQuantiles  = flag.Int(\"quantiles\", 100, \"Max number of quantiles to use for numeric features, used during piece-wise linear calibration. It will only use unique values, so if there are fewer variability, fewer quantiles are used.\")\n",
    ")\n",
    "\n",
    "%% --verbosity=2\n",
    "adult.LoadAndPreprocessData(*flagDataDir, *flagNumQuantiles, *flagForceDownload, *flagVerbosity)"
   ]
  },
  {
   "cell_type": "code",
   "execution_count": 3,
   "id": "fdab7255-2224-496a-9ec7-75927150f9d7",
   "metadata": {
    "tags": []
   },
   "outputs": [
    {
     "name": "stdout",
     "output_type": "stream",
     "text": [
      "total 7.0M\n",
      "-rw-r--r-- 1 janpf janpf 3.8M Jul 20 18:36 adult.data\n",
      "-rw-r--r-- 1 janpf janpf 1.3M Jul 20 18:36 adult_data-100_quantiles.bin\n",
      "-rw-r--r-- 1 janpf janpf 2.0M Jul 20 18:36 adult.test\n"
     ]
    }
   ],
   "source": [
    "!ls -lh ~/work/uci-adult"
   ]
  },
  {
   "cell_type": "markdown",
   "id": "028b783b-56f0-457c-b28e-7bb0dd7e94da",
   "metadata": {},
   "source": [
    "### Creating Datasets\n",
    "\n",
    "First we create the GoMLX's `backend`: it's the engine instance (XLA in this case) that \n",
    "compiles and executes our computation graph.\n",
    "\n",
    "It's needed to create tensors that will be fed to the accelearator (GPU or even CPU accelerated code)\n",
    "\n",
    "With that we create the samplers of data that we will use to train and evaluate. They implement \n",
    "GoMLX's `train.Dataset` interface, which is what is used by our training loop to draw batches to\n",
    "train, or our eval loop to draw batches to evaluate.\n",
    "\n",
    "The inputs are 3 tensors: *categorical values*, *continuous values* and *weights*.\n",
    "\n",
    "In the cell below we define `BuildDatasets` and printout some samples."
   ]
  },
  {
   "cell_type": "code",
   "execution_count": 4,
   "id": "f13f771b-7109-49d2-8db5-5f3d5a91d324",
   "metadata": {
    "tags": []
   },
   "outputs": [
    {
     "name": "stdout",
     "output_type": "stream",
     "text": [
      "Inputs of batch (size 128):\n",
      "\tcategorical:\n",
      "\t\tFeatures=[workclass education marital-status occupation relationship race sex native-country]\n",
      "\t\tValues: (Int64)[128 8]: (... too large, 1024 values ..., first 16 values: [6 15 3 10 1 5 2 39 6 2 3 3 1 5 2 39])\n",
      "\tcontinuous:\n",
      "\t\tFeatures=[age education-num capital-gain capital-loss hours-per-week]\n",
      "\t\tValues: (Float32)[128 5]: (... too large, 640 values ..., first 10 values: [54 15 0 0 30 43 7 0 0 55])\n",
      "\tweights: (Float32)[128 1]: (... too large, 128 values ..., first 5 values: [83311 225165 208978 69927 198341])\n",
      "\n",
      "Labels of batch:\n",
      "\t(Float32)[128 1]: (... too large, 128 values ..., first 10 values: [1 0 0 0 1 0 0 0 1 0])\n",
      "\n",
      "Labels distributions:\n",
      "\tTrain:\t24.08% positive\n",
      "\tTest:\t23.62% positive\n"
     ]
    }
   ],
   "source": [
    "import (\n",
    "    \"flag\"\n",
    "    \"fmt\"\n",
    "    \"io\"\n",
    "\n",
    "    \"github.com/gomlx/gomlx/backends\"\n",
    "    \"github.com/gomlx/gomlx/examples/adult\"\n",
    "    \"github.com/gomlx/gomlx/ml/train\"\n",
    "    \"github.com/gomlx/gomlx/types/tensors\"\n",
    "\n",
    "    _ \"github.com/gomlx/gomlx/backends/xla\"\n",
    ")\n",
    "\n",
    "var (\n",
    "    flagBatchSize      = flag.Int(\"batch\", 128, \"BatchSampler size for training\")\n",
    ")\n",
    "\n",
    "// Global backend created an initialization, used everywhere.\n",
    "var backend = backends.New()\n",
    "\n",
    "// BuildDatasets returns 3 `train.Dataset`:\n",
    "// * trainingSampler is an endless random sampler used for training.\n",
    "// * trainingEvalSampler samples through exactly one epoch of the train dataset.\n",
    "// * testEvalSampler samples through exactly one epoch of the test dataset.\n",
    "func BuildDatasets(backend backends.Backend) (trainDS, trainEvalDS, testEvalDS train.Dataset) {\n",
    "    baseDS := adult.NewDataset(backend, adult.Data.Train, \"batched train\")\n",
    "    trainEvalDS = baseDS.Copy().BatchSize(*flagBatchSize, false)\n",
    "    testEvalDS = adult.NewDataset(backend, adult.Data.Test, \"test\").\n",
    "        BatchSize(*flagBatchSize, false)\n",
    "    // For training, we shuffle and loop indefinitely.\n",
    "    trainDS = baseDS.BatchSize(*flagBatchSize, true).Shuffle().Infinite(true)\n",
    "    return\n",
    "}\n",
    "\n",
    "// PositiveRatio finds out the the ratio of positive labels in the\n",
    "// training and testing data.\n",
    "//\n",
    "// We could do this easily with GoMLX computation model (just `ReduceAllSum`), but\n",
    "// this examples shows it's also ok to mix Go computations.\n",
    "func PositiveRatio(ds train.Dataset) float32 {\n",
    "    ds.Reset()  // Start from beginning.\n",
    "    var sum float32\n",
    "    var count float32\n",
    "    for {\n",
    "        _, _, labels, err := ds.Yield()\n",
    "        if err == io.EOF {\n",
    "            break;\n",
    "        }\n",
    "        if err != nil { panic(err) }\n",
    "        data := tensors.CopyFlatData[float32](labels[0])\n",
    "        for _, value := range data {\n",
    "            sum += value\n",
    "        }\n",
    "        count += float32(len(data))\n",
    "    }\n",
    "    return sum/count\n",
    "}\n",
    "\n",
    "%%\n",
    "adult.LoadAndPreprocessData(*flagDataDir, *flagNumQuantiles, *flagForceDownload, *flagVerbosity)    \n",
    "trainingDS, trainingEvalDS, testEvalDS := BuildDatasets(backend)\n",
    "\n",
    "// Take one batch.\n",
    "_, inputs, labels, err := trainingDS.Yield()\n",
    "if err != nil { panic(err) }\n",
    "fmt.Printf(\"Inputs of batch (size %d):\\n\", *flagBatchSize)\n",
    "fmt.Printf(\"\\tcategorical:\\n\\t\\tFeatures=%v\\n\", adult.Data.VocabulariesFeatures)\n",
    "fmt.Printf(\"\\t\\tValues: %s\\n\", inputs[0].StringN(16))\n",
    "fmt.Printf(\"\\tcontinuous:\\n\\t\\tFeatures=%v\\n\", adult.Data.QuantilesFeatures)\n",
    "fmt.Printf(\"\\t\\tValues: %s\\n\", inputs[1].StringN(10))\n",
    "fmt.Printf(\"\\tweights: %s\\n\", inputs[2].StringN(5))\n",
    "fmt.Printf(\"\\nLabels of batch:\\n\\t%s\\n\", labels[0].StringN(10))\n",
    "fmt.Printf(\"\\nLabels distributions:\\n\\tTrain:\\t%.2f%% positive\\n\\tTest:\\t%.2f%% positive\\n\",\n",
    "           PositiveRatio(trainingEvalDS)*100.0, PositiveRatio(testEvalDS)*100.0)\n"
   ]
  },
  {
   "cell_type": "markdown",
   "id": "54efd046-bbd5-4f7d-94e0-9ed3c64512b1",
   "metadata": {},
   "source": [
    "## Model Definition\n",
    "\n",
    "Lots of hyper-parameter flags, but otherwise a straight forward FNN, using piece-wise linear calibration of the continuous features, and embeddings for the categorical features.\n",
    "\n",
    "> **Note**: building models is a constant checking that shapes are compatible. It's a bit annoying, in particular because shapes are known in runtime only -- no compile time check. GoMLX tries to help providing a stack trace of where errors happen so one can pin-point issues quickly. But often it involves lots of experimentation (more than ordinary Go code).\n",
    ">\n",
    "> Developing with a Noteboook (see [GoNB](https://github.com/janpfeifer/gonb)) or simply a unit test on your `ModelGraph` function are quick/convenient ways to develop models -- before actually training them. You can also use shape asserts in the middle of the \n",
    ">`ModelGraph`, as we do below."
   ]
  },
  {
   "cell_type": "code",
   "execution_count": 5,
   "id": "7040e63b-33f1-4ff9-a232-187196c5f9c1",
   "metadata": {
    "tags": []
   },
   "outputs": [
    {
     "name": "stdout",
     "output_type": "stream",
     "text": [
      "Logits shape for batch_size=128: (Float32)[128 1]\n"
     ]
    }
   ],
   "source": [
    "import (\n",
    "    \"fmt\"\n",
    "    \"io\"\n",
    "\n",
    "    . \"github.com/gomlx/gomlx/graph\"\n",
    "\n",
    "    \"github.com/gomlx/gomlx/ml/context\"\n",
    "    \"github.com/gomlx/gomlx/examples/adult\"\n",
    "    \"github.com/gomlx/gomlx/ml/train\"\n",
    "    \"github.com/gomlx/gomlx/ml/train/optimizers\"\n",
    "    \"github.com/gomlx/gomlx/types/shapes\"\n",
    "    \"github.com/gomlx/gopjrt/dtypes\"\n",
    ")\n",
    "\n",
    "var (\n",
    "    // ModelDType used for the model. Must match RawData Go types.\n",
    "    ModelDType = dtypes.Float32\n",
    "    \n",
    "\n",
    "    // Model hyperparameters.\n",
    "    flagUseCategorical       = flag.Bool(\"use_categorical\", true, \"Use categorical features.\")\n",
    "    flagUseContinuous        = flag.Bool(\"use_continuous\", true, \"Use continuous features.\")\n",
    "    flagTrainableCalibration = flag.Bool(\"trainable_calibration\", true, \"Allow piece-wise linear calibration to adjust outputs.\")\n",
    "    flagEmbeddingDim    = flag.Int(\"embedding_dim\", 8, \"Default embedding dimension for categorical values.\")\n",
    "    flagNumHiddenLayers = flag.Int(\"hidden_layers\", 8, \"Number of hidden layers, stacked with residual connection.\")\n",
    "    flagNumNodes        = flag.Int(\"num_nodes\", 32, \"Number of nodes in hidden layers.\")\n",
    "    flagDropoutRate     = flag.Float64(\"dropout\", 0, \"Dropout rate\")\n",
    "    \n",
    "    // Training parameter, referenced here.\n",
    "    flagLearningRate  = flag.Float64(\"learning_rate\", 0.001, \"Initial learning rate.\")\n",
    "    flagNumSteps      = flag.Int(\"steps\", 5000, \"Number of gradient descent steps to perform\")\n",
    ")\n",
    "\n",
    "\n",
    "// ModelGraph outputs the logits (not the probabilities). The parameter inputs should contain 3 tensors:\n",
    "//\n",
    "// - categorical inputs, shaped  `(int64)[batch_size, len(VocabulariesFeatures)]`\n",
    "// - continuous inputs, shaped `(float32)[batch_size, len(Quantiles)]`\n",
    "// - weights: not currently used, but shaped `(float32)[batch_size, 1]`.\n",
    "func ModelGraph(ctx *context.Context, spec any, inputs []*Node) []*Node {\n",
    "    _ = spec // Not used, since the dataset is always the same.\n",
    "    g := inputs[0].Graph()\n",
    "    \n",
    "    // Use Cosine schedule of the learning rate.\n",
    "    optimizers.CosineAnnealingSchedule(ctx, g, ModelDType).\n",
    "        PeriodInSteps(*flagNumSteps/3).Done()\n",
    "    \n",
    "    categorical, continuous := inputs[0], inputs[1]\n",
    "    batchSize := categorical.Shape().Dimensions[0]\n",
    "    \n",
    "    var allEmbeddings []*Node\n",
    "\n",
    "    if *flagUseCategorical {\n",
    "        // Embedding of categorical values, each with its own vocabulary.\n",
    "        numCategorical := categorical.Shape().Dimensions[1]\n",
    "        for catIdx := 0; catIdx < numCategorical; catIdx++ {\n",
    "            // Take one column at a time of the categorical values.\n",
    "            split := Slice(categorical, AxisRange(), AxisRange(catIdx, catIdx+1))\n",
    "            // Embed it accordingly.\n",
    "            embedCtx := ctx.In(fmt.Sprintf(\"categorical_%d_%s\", catIdx, adult.Data.VocabulariesFeatures[catIdx]))\n",
    "            vocab := adult.Data.Vocabularies[catIdx]\n",
    "            vocabSize := len(vocab)\n",
    "            embedding := layers.Embedding(embedCtx, split, ModelDType, vocabSize, *flagEmbeddingDim)\n",
    "            embedding.AssertDims(batchSize, *flagEmbeddingDim) // 2-dim tensor, with batch size as the leading dimension.\n",
    "            allEmbeddings = append(allEmbeddings, embedding)\n",
    "        }\n",
    "    }\n",
    "\n",
    "    if *flagUseContinuous {\n",
    "        // Piecewise-linear calibration of the continuous values. Each feature has its own number of quantiles.\n",
    "        numContinuous := continuous.Shape().Dimensions[1]\n",
    "        for contIdx := 0; contIdx < numContinuous; contIdx++ {\n",
    "            // Take one column at a time of the continuous values.\n",
    "            split := Slice(continuous, AxisRange(), AxisRange(contIdx, contIdx+1))\n",
    "            featureName := adult.Data.QuantilesFeatures[contIdx]\n",
    "            calibrationCtx := ctx.In(fmt.Sprintf(\"continuous_%d_%s\", contIdx, featureName))\n",
    "            quantiles := adult.Data.Quantiles[contIdx]\n",
    "            layers.AssertQuantilesForPWLCalibrationValid(quantiles)\n",
    "            calibrated := layers.PieceWiseLinearCalibration(calibrationCtx, split, Const(g, quantiles), *flagTrainableCalibration)\n",
    "            calibrated.AssertDims(batchSize, 1) // 2-dim tensor, with batch size as the leading dimension.\n",
    "            allEmbeddings = append(allEmbeddings, calibrated)\n",
    "        }\n",
    "    }\n",
    "    layer := Concatenate(allEmbeddings, -1)\n",
    "    layer.AssertDims(batchSize, -1) // 2-dim tensor, with batch size as the leading dimension (-1 means it is not checked).\n",
    "    \n",
    "    layer = layers.DenseWithBias(ctx.In(fmt.Sprintf(\"DenseLayer_%d\", 0)), layer, *flagNumNodes)\n",
    "    for ii := 1; ii < *flagNumHiddenLayers; ii++ {\n",
    "        ctx := ctx.In(fmt.Sprintf(\"DenseLayer_%d\", ii))\n",
    "        // Add layer with residual connection.\n",
    "        tmp := Sigmoid(layer)\n",
    "        if *flagDropoutRate > 0 {\n",
    "            tmp = layers.Dropout(ctx, tmp, Scalar(g, ModelDType, *flagDropoutRate))\n",
    "        }\n",
    "        tmp = layers.DenseWithBias(ctx, tmp, *flagNumNodes)\n",
    "        layer = Add(layer, tmp)  // Residual connections\n",
    "    }\n",
    "    layer = Sigmoid(layer)\n",
    "    logits := layers.DenseWithBias(ctx.In(\"DenseFinal\"), layer, 1)\n",
    "    logits.AssertDims(batchSize, 1) // 2-dim tensor, with batch size as the leading dimension.\n",
    "    return []*Node{logits}\n",
    "}\n",
    "\n",
    "%%\n",
    "adult.LoadAndPreprocessData(*flagDataDir, *flagNumQuantiles, *flagForceDownload, *flagVerbosity)    \n",
    "\n",
    "// Let's just check that we get the right shape from the model function, wihtout any real data.\n",
    "graph := NewGraph(backend, \"test\")\n",
    "ctx := context.NewContext()\n",
    "ctx.SetParam(optimizers.LearningRateKey, *flagLearningRate)\n",
    "\n",
    "// Create placeholder (parameters) graph nodes, just to test the graph building is working.\n",
    "inputs := []*Node{\n",
    "    // Categorical: shaped [batch_size, num_categorical]\n",
    "    Parameter(graph, \"categorical\", shapes.Make(dtypes.Int64, *flagBatchSize, len(adult.Data.VocabulariesFeatures))),\n",
    "    // Continuous: shaped [batch_size, num_continuos]\n",
    "    Parameter(graph, \"continuous\", shapes.Make(dtypes.Float32, *flagBatchSize, len(adult.Data.QuantilesFeatures))),\n",
    "    // Weights: shaped [batch_size, 1]\n",
    "    Parameter(graph, \"weights\", shapes.Make(dtypes.Float32, *flagBatchSize, 1)),    \n",
    "}\n",
    "logits := ModelGraph(ctx, nil, inputs)\n",
    "fmt.Printf(\"Logits shape for batch_size=%d: %s\\n\", *flagBatchSize, logits[0].Shape())"
   ]
  },
  {
   "cell_type": "markdown",
   "id": "618e1c7a-ced1-4914-8530-0924e02f095c",
   "metadata": {},
   "source": [
    "## Training Loop\n",
    "\n",
    "We can create a training loop with only a `Manager`, a `Context` (for the model varibles) and the `ModelGraph` function.\n",
    "\n",
    "To make it more interesting we also add the following:\n",
    "\n",
    "* Accuracy metrics for training and testing.\n",
    "* Checkpoints -- so trained model can be saved, and reloaded.\n",
    "* A progress-bar that also shows training metrics.\n",
    "* We dynamically plot how the loss and accuracy evolve.\n",
    "\n",
    "First we define the corresponding flags and the `trainModel` function, and run it for very few steps to make sure\n",
    "it is working."
   ]
  },
  {
   "cell_type": "code",
   "execution_count": 17,
   "id": "daf39a7c-7cc8-43a5-ae79-026303f5f502",
   "metadata": {
    "tags": []
   },
   "outputs": [
    {
     "name": "stdout",
     "output_type": "stream",
     "text": [
      "Training (500 steps):  100% [\u001b[32m=\u001b[0m\u001b[32m=\u001b[0m\u001b[32m=\u001b[0m\u001b[32m=\u001b[0m\u001b[32m=\u001b[0m\u001b[32m=\u001b[0m\u001b[32m=\u001b[0m\u001b[32m=\u001b[0m\u001b[32m=\u001b[0m\u001b[32m=\u001b[0m\u001b[32m=\u001b[0m\u001b[32m=\u001b[0m\u001b[32m=\u001b[0m\u001b[32m=\u001b[0m\u001b[32m=\u001b[0m\u001b[32m=\u001b[0m\u001b[32m=\u001b[0m\u001b[32m=\u001b[0m\u001b[32m=\u001b[0m\u001b[32m=\u001b[0m\u001b[32m=\u001b[0m\u001b[32m=\u001b[0m\u001b[32m=\u001b[0m\u001b[32m=\u001b[0m\u001b[32m=\u001b[0m\u001b[32m=\u001b[0m\u001b[32m=\u001b[0m\u001b[32m=\u001b[0m\u001b[32m=\u001b[0m\u001b[32m=\u001b[0m\u001b[32m=\u001b[0m\u001b[32m=\u001b[0m\u001b[32m=\u001b[0m\u001b[32m=\u001b[0m\u001b[32m=\u001b[0m\u001b[32m=\u001b[0m\u001b[32m=\u001b[0m\u001b[32m=\u001b[0m\u001b[32m=\u001b[0m\u001b[32m=\u001b[0m] (156 steps/s)\u001b[0m [step=499] [loss+=0.342] [~loss+=0.381] [~loss=0.381] [~acc=82.92%]        \n",
      "\t[Step 500] median train step: 2702 microseconds\n",
      "\n",
      "Results on batched train:\n",
      "\tMean Loss+Regularization (#loss+): 0.360\n",
      "\tMean Loss (#loss): 0.360\n",
      "\tMean Accuracy (#acc): 83.85%\n",
      "Results on test:\n",
      "\tMean Loss+Regularization (#loss+): 0.356\n",
      "\tMean Loss (#loss): 0.356\n",
      "\tMean Accuracy (#acc): 83.88%\n",
      "\n"
     ]
    }
   ],
   "source": [
    "import (\n",
    "    \"fmt\"\n",
    "    \"io\"\n",
    "    \"time\"\n",
    "\n",
    "    . \"github.com/gomlx/gomlx/graph\"\n",
    "\n",
    "    \"github.com/gomlx/exceptions\"\n",
    "    \"github.com/gomlx/gomlx/examples/adult\"\n",
    "    \"github.com/gomlx/gomlx/examples/notebook/gonb/margaid\"\n",
    "    \"github.com/gomlx/gomlx/examples/notebook/gonb/plotly\"\n",
    "    \"github.com/gomlx/gomlx/ml/context\"\n",
    "    \"github.com/gomlx/gomlx/ml/train\"\n",
    "    \"github.com/gomlx/gomlx/types/shapes\"\n",
    "    \"github.com/gomlx/gomlx/types/xslices\"\n",
    "    \"github.com/gomlx/gomlx/types/tensors\"\n",
    "    \n",
    "    \"github.com/gomlx/gopjrt/dtypes\"\n",
    "\n",
    "    \"github.com/janpfeifer/gonb/gonbui\"\n",
    ")\n",
    "\n",
    "var (\n",
    "    flagOptimizer      = flag.String(\"optimizer\", \"adam\", \"Type of optimizer to use: 'sgd' or 'adam'\")\n",
    "    flagLearningRate   = flag.Float64(\"learning_rate\", 0.001, \"Initial learning rate.\")\n",
    "    flagCheckpoint     = flag.String(\"checkpoint\", \"\", \"Directory save and load checkpoints from. If left empty, no checkpoints are created.\")\n",
    "    flagCheckpointKeep = flag.Int(\"checkpoint_keep\", 10, \"Number of checkpoints to keep, if --checkpoint is set.\")\n",
    "    flagPlots          = flag.Bool(\"plots\", true, \"Plots during training: perform periodic evaluations, \"+\n",
    "                                   \"save results if --checkpoint is set and draw plots, if in a Jupyter notebook.\")\n",
    "    flagPlotType       = flag.String(\"plot_type\", \"plotly\", \"Type of plot to use, values are \\\"plotly\\\" or \\\"margaid\\\"\")\n",
    ")\n",
    "\n",
    "func trainModel() {\n",
    "    // Fixes directories.\n",
    "    *flagDataDir = data.ReplaceTildeInDir(*flagDataDir)\n",
    "    *flagCheckpoint = data.ReplaceTildeInDir(*flagCheckpoint)\n",
    "    if *flagCheckpoint != \"\" && !path.IsAbs(*flagCheckpoint) {\n",
    "        *flagCheckpoint = path.Join(*flagDataDir, *flagCheckpoint)\n",
    "    }\n",
    "\n",
    "    // Load data and create datasets.\n",
    "    adult.LoadAndPreprocessData(*flagDataDir, *flagNumQuantiles, *flagForceDownload, *flagVerbosity)    \n",
    "    trainDS, trainEvalDS, testEvalDS := BuildDatasets(backend)\n",
    "\n",
    "    // Context holds the variables and optionally hyperparameters for the model.\n",
    "    ctx := context.NewContext()\n",
    "    ctx.SetParam(optimizers.LearningRateKey, *flagLearningRate)\n",
    "\n",
    "    // Metrics we are interested.\n",
    "    meanAccuracyMetric := metrics.NewMeanBinaryLogitsAccuracy(\"Mean Accuracy\", \"#acc\")\n",
    "    movingAccuracyMetric := metrics.NewMovingAverageBinaryLogitsAccuracy(\"Moving Average Accuracy\", \"~acc\", 0.01)\n",
    "\n",
    "    // Checkpoints saving.\n",
    "    var checkpoint *checkpoints.Handler\n",
    "    if *flagCheckpoint != \"\" {\n",
    "        var err error\n",
    "        checkpoint, err = checkpoints.Build(ctx).Dir(*flagCheckpoint).Keep(*flagCheckpointKeep).Done()\n",
    "        if err != nil { panic(err) }\n",
    "        fmt.Printf(\"Checkpointing model to %q\\n\", checkpoint.Dir())\n",
    "        globalStep := optimizers.GetGlobalStep(ctx)\n",
    "        if globalStep != 0 {\n",
    "            fmt.Printf(\"Restarting training from global_step=%d\\n\", globalStep)\n",
    "            ctx = ctx.Reuse()  // We want to reuse the weights: this disable an error of recreating variables.\n",
    "        }\n",
    "    }\n",
    "\n",
    "    // Pick a known optimizer.\n",
    "    optimizerFn, found := optimizers.KnownOptimizers[*flagOptimizer]\n",
    "    if !found {\n",
    "        log.Fatalf(\"Unknown optimizer %q, please use one of %v\",\n",
    "            *flagOptimizer, xslices.Keys(optimizers.KnownOptimizers))\n",
    "    }\n",
    "\n",
    "    // Create a train.Trainer: this object will orchestrate running the model, feeding\n",
    "    // results to the optimizer, evaluating the metrics, etc. (all happens in trainer.TrainStep)\n",
    "    trainer := train.NewTrainer(backend, ctx, ModelGraph, losses.BinaryCrossentropyLogits,\n",
    "        optimizerFn(ctx),\n",
    "        []metrics.Interface{movingAccuracyMetric}, // trainMetrics\n",
    "        []metrics.Interface{meanAccuracyMetric})   // evalMetrics\n",
    "\n",
    "    // Use standard training loop.\n",
    "    loop := train.NewLoop(trainer)\n",
    "    commandline.AttachProgressBar(loop) // Attaches a progress bar to the loop.\n",
    "\n",
    "    // Attach a checkpoint: checkpoint every 1 minute of training.\n",
    "    if checkpoint != nil {\n",
    "        period := time.Minute * 1\n",
    "        train.PeriodicCallback(loop, period, true, \"saving checkpoint\", 100,\n",
    "            func(loop *train.Loop, metrics []*tensors.Tensor) error {\n",
    "                fmt.Printf(\"\\n[saving checkpoint@%d] [median train step (ms): %d]\\n\", loop.LoopStep, loop.MedianTrainStepDuration().Milliseconds())\n",
    "                return checkpoint.Save()\n",
    "            })\n",
    "    }\n",
    "\n",
    "\t// Attach a margaid plots: plot points at exponential steps.\n",
    "    // Points (metrics) are saved along the checkpoint directory (if one is given).\n",
    "\tif *flagPlots {\n",
    "        switch *flagPlotType {\n",
    "        case \"margaid\":\n",
    "    \t\t_ = margaid.NewDefault(loop, checkpoint.Dir(), 100, 1.1, trainEvalDS, testEvalDS)\n",
    "        case \"plotly\":\n",
    "            _ = plotly.New().\n",
    "                WithCheckpoint(checkpoint.Dir()).\n",
    "                WithDatasets(trainEvalDS, testEvalDS).\n",
    "                Dynamic().\n",
    "                ScheduleExponential(loop, 100, 1.1)\n",
    "        default:\n",
    "            exceptions.Panicf(\"Invalid --plot_type=%q, valid values are %q or %q\", *flagPlotType, \"margaid\", \"plotly\")\n",
    "        }\n",
    "\t}\n",
    "\n",
    "    // Run the given number of steps.\n",
    "    _, err := loop.RunSteps(trainDS, *flagNumSteps)\n",
    "    if err != nil { panic(err) }\n",
    "    fmt.Printf(\"\\t[Step %d] median train step: %d microseconds\\n\", loop.LoopStep, loop.MedianTrainStepDuration().Microseconds())\n",
    "\n",
    "    // Print a final evaluation on train and test datasets.\n",
    "    fmt.Println()\n",
    "    err = commandline.ReportEval(trainer, trainEvalDS, testEvalDS)\n",
    "    if err != nil { panic(err) }\n",
    "    fmt.Println()\n",
    "}\n",
    "\n",
    "// Notice command line flags are passed in the %% notebook command. We set --plot=false here to disable plotting\n",
    "// since this is only a quick test that our train() loop is working. See below the final run for a full training.\n",
    "%% --steps=500 --plots=false\n",
    "trainModel()"
   ]
  },
  {
   "cell_type": "markdown",
   "id": "6bb5db6b-3a2c-4f48-8264-f90b22a52ed0",
   "metadata": {},
   "source": [
    "## Final run with 5K steps\n",
    "\n",
    "With everything working, we can do our final run.\n",
    "\n",
    "> **Note** here is where someone might want to hyperparameter tune, trying out different hyperparameters."
   ]
  },
  {
   "cell_type": "code",
   "execution_count": 14,
   "id": "a9d901d9-c503-4a94-8dec-a471a18bbbee",
   "metadata": {},
   "outputs": [],
   "source": [
    "// Remove previously trained model -- skip this cell, if you want to continue training.\n",
    "!rm -rf ~/work/uci-adult/base_model"
   ]
  },
  {
   "cell_type": "code",
   "execution_count": 15,
   "id": "66939463-60d7-446f-b4f3-1d60abe7c17c",
   "metadata": {
    "tags": []
   },
   "outputs": [
    {
     "name": "stdout",
     "output_type": "stream",
     "text": [
      "Checkpointing model to \"/home/janpf/work/uci-adult/base_model\"\n"
     ]
    },
    {
     "data": {
      "text/html": []
     },
     "metadata": {},
     "output_type": "display_data"
    },
    {
     "name": "stdout",
     "output_type": "stream",
     "text": [
      "Training (5000 steps):  100% [\u001b[32m=\u001b[0m\u001b[32m=\u001b[0m\u001b[32m=\u001b[0m\u001b[32m=\u001b[0m\u001b[32m=\u001b[0m\u001b[32m=\u001b[0m\u001b[32m=\u001b[0m\u001b[32m=\u001b[0m\u001b[32m=\u001b[0m\u001b[32m=\u001b[0m\u001b[32m=\u001b[0m\u001b[32m=\u001b[0m\u001b[32m=\u001b[0m\u001b[32m=\u001b[0m\u001b[32m=\u001b[0m\u001b[32m=\u001b[0m\u001b[32m=\u001b[0m\u001b[32m=\u001b[0m\u001b[32m=\u001b[0m\u001b[32m=\u001b[0m\u001b[32m=\u001b[0m\u001b[32m=\u001b[0m\u001b[32m=\u001b[0m\u001b[32m=\u001b[0m\u001b[32m=\u001b[0m\u001b[32m=\u001b[0m\u001b[32m=\u001b[0m\u001b[32m=\u001b[0m\u001b[32m=\u001b[0m\u001b[32m=\u001b[0m\u001b[32m=\u001b[0m\u001b[32m=\u001b[0m\u001b[32m=\u001b[0m\u001b[32m=\u001b[0m\u001b[32m=\u001b[0m\u001b[32m=\u001b[0m\u001b[32m=\u001b[0m\u001b[32m=\u001b[0m\u001b[32m=\u001b[0m\u001b[32m=\u001b[0m] (265 steps/s)\u001b[0m [step=4999] [loss+=0.290] [~loss+=0.276] [~loss=0.276] [~acc=87.44%]        \n",
      "\n",
      "[saving checkpoint@5000] [median train step (ms): 2]\n"
     ]
    },
    {
     "data": {
      "text/html": [
       "<svg height=\"454\" viewbox=\"0 0 1024 400\" style=\"background-color:#f8f8f8\" preserveAspectRatio=\"xMidYMid meet\" xmlns=\"http://www.w3.org/2000/svg\" width=\"1024\"><defs><marker id=\"circle\" viewBox=\"0 0 10 10 \" refX=\"5\" refY=\"5\" markerUnits=\"userSpaceOnUse\" markerWidth=\"2%\" markerHeight=\"2%\"><circle fill=\"none\" stroke=\"black\" cx=\"5\" cy=\"5\" r=\"3\"/></marker><marker viewBox=\"0 0 10 10 \" refX=\"5\" refY=\"5\" markerUnits=\"userSpaceOnUse\" markerWidth=\"2%\" markerHeight=\"2%\" id=\"filled-circle\"><circle cx=\"5\" cy=\"5\" r=\"3\" fill=\"black\" stroke=\"none\"/></marker><marker markerUnits=\"userSpaceOnUse\" markerWidth=\"2%\" markerHeight=\"2%\" id=\"square\" viewBox=\"0 0 10 10 \" refX=\"5\" refY=\"5\"><rect x=\"2\" y=\"2\" width=\"6\" height=\"6\" fill=\"none\" stroke=\"black\"/></marker><marker refX=\"5\" refY=\"5\" markerUnits=\"userSpaceOnUse\" markerWidth=\"2%\" markerHeight=\"2%\" id=\"filled-square\" viewBox=\"0 0 10 10 \"><rect x=\"2\" y=\"2\" width=\"6\" height=\"6\" fill=\"black\" stroke=\"none\"/></marker></defs><g stroke=\"hsl(90, 47%, 65%)\" stroke-linejoin=\"round\" marker-end=\"url(#square)\" transform=\"translate(70 330 )scale(1 -1 )\" stroke-width=\"2px\" stroke-linecap=\"round\" marker-mid=\"url(#square)\" marker-start=\"url(#square)\" fill=\"none\"><path vector-effect=\"non-scaling-stroke\" d=\"M1.768000e+01,2.779171e+01 L1.786294e+02,1.736855e+02 L2.773355e+02,1.947583e+02 L3.506075e+02,2.200219e+02 L4.099543e+02,2.246315e+02 L4.607660e+02,2.317556e+02 L5.055983e+02,2.346292e+02 L5.461769e+02,2.382211e+02 L5.835664e+02,2.398973e+02 L6.184621e+02,2.395980e+02 L6.513380e+02,2.407954e+02 L6.825291e+02,2.460037e+02 L7.123676e+02,2.475004e+02 L7.410809e+02,2.497754e+02 L7.688274e+02,2.505536e+02 L7.957190e+02,2.507930e+02 L8.218897e+02,2.515114e+02 L8.474287e+02,2.498950e+02 L8.663200e+02,2.515713e+02 \"/></g><g stroke=\"hsl(301, 88%, 65%)\" marker-start=\"url(#square)\" fill=\"none\" stroke-width=\"2px\" marker-end=\"url(#square)\" stroke-linejoin=\"round\" marker-mid=\"url(#square)\" stroke-linecap=\"round\" transform=\"translate(70 330 )scale(1 -1 )\"><path vector-effect=\"non-scaling-stroke\" d=\"M1.768000e+01,3.672582e+01 L1.786294e+02,1.811184e+02 L2.773355e+02,1.988382e+02 L3.506075e+02,2.229037e+02 L4.099543e+02,2.246996e+02 L4.607660e+02,2.324820e+02 L5.055983e+02,2.340385e+02 L5.461769e+02,2.360738e+02 L5.835664e+02,2.343976e+02 L6.184621e+02,2.336792e+02 L6.513380e+02,2.348765e+02 L6.825291e+02,2.421800e+02 L7.123676e+02,2.411024e+02 L7.410809e+02,2.442153e+02 L7.688274e+02,2.436167e+02 L7.957190e+02,2.434971e+02 L8.218897e+02,2.470889e+02 L8.474287e+02,2.462508e+02 L8.663200e+02,2.439759e+02 \"/></g><g stroke-linejoin=\"round\" marker-start=\"url(#square)\" transform=\"translate(70 330 )scale(1 -1 )\" stroke-width=\"2px\" stroke=\"hsl(152, 76%, 65%)\" marker-end=\"url(#square)\" fill=\"none\" stroke-linecap=\"round\" marker-mid=\"url(#square)\"><path vector-effect=\"non-scaling-stroke\" d=\"M1.768000e+01,5.200000e+00 L1.786294e+02,6.576348e+01 L2.773355e+02,1.511776e+02 L3.506075e+02,1.954834e+02 L4.099543e+02,2.135821e+02 L4.607660e+02,2.289678e+02 L5.055983e+02,2.307680e+02 L5.461769e+02,2.338796e+02 L5.835664e+02,2.416503e+02 L6.184621e+02,2.354186e+02 L6.513380e+02,2.329700e+02 L6.825291e+02,2.429123e+02 L7.123676e+02,2.474664e+02 L7.410809e+02,2.464665e+02 L7.688274e+02,2.500963e+02 L7.957190e+02,2.548000e+02 L8.218897e+02,2.504338e+02 L8.474287e+02,2.489217e+02 L8.663200e+02,2.524245e+02 \"/></g><g fill=\"none\" stroke-width=\"2px\" stroke-linecap=\"round\" stroke=\"black\" stroke-linejoin=\"round\" transform=\"translate(70 330 )scale(1 -1 )\"><path d=\"M1.768000e+01,0 L1.768000e+01,-6 M1.680453e+02,0 L1.680453e+02,-6 M2.560033e+02,0 L2.560033e+02,-6 M3.184106e+02,0 L3.184106e+02,-6 M3.668174e+02,0 L3.668174e+02,-6 M4.063686e+02,0 L4.063686e+02,-6 M4.398087e+02,0 L4.398087e+02,-6 M4.687758e+02,0 L4.687758e+02,-6 M4.943267e+02,0 L4.943267e+02,-6 M5.171826e+02,0 L5.171826e+02,-6 M5.378584e+02,0 L5.378584e+02,-6 M6.675479e+02,0 L6.675479e+02,-6 M7.555060e+02,0 L7.555060e+02,-6 M8.179132e+02,0 L8.179132e+02,-6 M8.663200e+02,0 L8.663200e+02,-6 \" vector-effect=\"non-scaling-stroke\"/></g><g stroke-width=\"2px\" stroke-linecap=\"round\" transform=\"translate(70 330 )scale(1 1 )\" dominant-baseline=\"hanging\" fill=\"black\" font-size=\"12px\" font-weight=\"normal\" text-anchor=\"middle\" stroke=\"black\" stroke-linejoin=\"round\" font-family=\"sans-serif\" font-style=\"normal\"><text vector-effect=\"non-scaling-stroke\" x=\"1.768000e+01\" y=\"10\" dominant-baseline=\"hanging\" stroke=\"none\">100</text><text dominant-baseline=\"hanging\" stroke=\"none\" vector-effect=\"non-scaling-stroke\" x=\"1.680453e+02\" y=\"10\">200</text><text x=\"2.560033e+02\" y=\"10\" dominant-baseline=\"hanging\" stroke=\"none\" vector-effect=\"non-scaling-stroke\">300</text><text stroke=\"none\" vector-effect=\"non-scaling-stroke\" x=\"3.184106e+02\" y=\"10\" dominant-baseline=\"hanging\">400</text><text vector-effect=\"non-scaling-stroke\" x=\"3.668174e+02\" y=\"10\" dominant-baseline=\"hanging\" stroke=\"none\">500</text><text y=\"10\" dominant-baseline=\"hanging\" stroke=\"none\" vector-effect=\"non-scaling-stroke\" x=\"4.063686e+02\">600</text><text stroke=\"none\" vector-effect=\"non-scaling-stroke\" x=\"4.398087e+02\" y=\"10\" dominant-baseline=\"hanging\">700</text><text y=\"10\" dominant-baseline=\"hanging\" stroke=\"none\" vector-effect=\"non-scaling-stroke\" x=\"4.687758e+02\">800</text><text vector-effect=\"non-scaling-stroke\" x=\"4.943267e+02\" y=\"10\" dominant-baseline=\"hanging\" stroke=\"none\">900</text><text x=\"5.171826e+02\" y=\"10\" dominant-baseline=\"hanging\" stroke=\"none\" vector-effect=\"non-scaling-stroke\">1000</text><text x=\"5.378584e+02\" y=\"10\" dominant-baseline=\"hanging\" stroke=\"none\" vector-effect=\"non-scaling-stroke\">1100</text><text dominant-baseline=\"hanging\" stroke=\"none\" vector-effect=\"non-scaling-stroke\" x=\"6.675479e+02\" y=\"10\">2000</text><text y=\"10\" dominant-baseline=\"hanging\" stroke=\"none\" vector-effect=\"non-scaling-stroke\" x=\"7.555060e+02\">3000</text><text stroke=\"none\" vector-effect=\"non-scaling-stroke\" x=\"8.179132e+02\" y=\"10\" dominant-baseline=\"hanging\">4000</text><text dominant-baseline=\"hanging\" stroke=\"none\" vector-effect=\"non-scaling-stroke\" x=\"8.663200e+02\" y=\"10\">5000</text></g><g font-family=\"sans-serif\" font-style=\"normal\" dominant-baseline=\"baseline\" fill=\"black\" stroke-width=\"2px\" font-size=\"12px\" font-weight=\"bold\" stroke=\"black\" stroke-linejoin=\"round\" transform=\"translate(70 330 )scale(1 1 )rotate(0 0 0 )\" stroke-linecap=\"round\" text-anchor=\"middle\"><text dominant-baseline=\"baseline\" stroke=\"none\" vector-effect=\"non-scaling-stroke\" x=\"442\" y=\"-6\">Steps</text></g><g font-family=\"sans-serif\" font-style=\"normal\" stroke=\"black\" font-size=\"12px\" font-weight=\"bold\" text-anchor=\"middle\" stroke-width=\"2px\" stroke-linejoin=\"round\" stroke-linecap=\"round\" fill=\"black\" transform=\"translate(70 330 )scale(1 -1 )\" dominant-baseline=\"baseline\"><path d=\"M0,1.073418e+02 L-6,1.073418e+02 \" vector-effect=\"non-scaling-stroke\"/></g><g stroke-linecap=\"round\" font-size=\"12px\" font-weight=\"normal\" stroke-linejoin=\"round\" font-family=\"sans-serif\" dominant-baseline=\"middle\" fill=\"black\" text-anchor=\"end\" stroke=\"black\" transform=\"translate(70 330 )scale(1 1 )\" font-style=\"normal\" stroke-width=\"2px\"><text vector-effect=\"non-scaling-stroke\" x=\"-10\" y=\"-1.073418e+02\" dominant-baseline=\"middle\" stroke=\"none\">0.800</text></g><g font-style=\"normal\" dominant-baseline=\"hanging\" fill=\"black\" stroke-width=\"2px\" stroke-linecap=\"round\" font-weight=\"bold\" text-anchor=\"middle\" stroke=\"black\" font-size=\"12px\" stroke-linejoin=\"round\" transform=\"translate(70 330 )scale(1 1 )rotate(-90 0 0 )\" font-family=\"sans-serif\"><text x=\"130\" y=\"6\" dominant-baseline=\"hanging\" stroke=\"none\" vector-effect=\"non-scaling-stroke\">accuracy</text></g><g stroke-linejoin=\"round\" transform=\"translate(70 330 )scale(1 -1 )\" font-style=\"normal\" dominant-baseline=\"hanging\" stroke-linecap=\"round\" font-size=\"12px\" font-weight=\"bold\" text-anchor=\"middle\" fill=\"black\" font-family=\"sans-serif\" stroke=\"gray\" stroke-width=\"0.5px\"><path vector-effect=\"non-scaling-stroke\" d=\"M0,1.073418e+02 L884,1.073418e+02 \"/></g><g font-style=\"normal\" stroke=\"black\" stroke-width=\"2px\" text-anchor=\"middle\" fill=\"none\" stroke-linecap=\"round\" font-size=\"12px\" dominant-baseline=\"hanging\" stroke-linejoin=\"round\" font-family=\"sans-serif\" font-weight=\"bold\"><rect y=\"70\" width=\"884\" height=\"260\" vector-effect=\"non-scaling-stroke\" x=\"70\"/><g dominant-baseline=\"middle\" fill=\"black\" font-size=\"18px\"><text y=\"35\" dominant-baseline=\"middle\" stroke=\"none\" vector-effect=\"non-scaling-stroke\" x=\"512\">accuracy metrics</text></g><g font-weight=\"normal\" text-anchor=\"start\" stroke-linejoin=\"round\" font-family=\"sans-serif\" stroke-linecap=\"round\" stroke-width=\"1px\" font-size=\"12px\" fill=\"hsl(90, 47%, 65%)\" font-style=\"normal\" dominant-baseline=\"hanging\" stroke=\"hsl(90, 47%, 65%)\"><rect height=\"12\" vector-effect=\"non-scaling-stroke\" x=\"76\" y=\"366\" width=\"12\"/><g fill=\"black\" stroke=\"black\"><text dominant-baseline=\"hanging\" stroke=\"none\" vector-effect=\"non-scaling-stroke\" x=\"92\" y=\"366\">Eval on batched train: Mean Accuracy</text></g><g stroke-linejoin=\"round\" fill=\"hsl(301, 88%, 65%)\" stroke-linecap=\"round\" stroke-width=\"1px\" font-size=\"12px\" font-weight=\"normal\" text-anchor=\"start\" stroke=\"hsl(301, 88%, 65%)\" font-family=\"sans-serif\" font-style=\"normal\" dominant-baseline=\"hanging\"><rect x=\"76\" y=\"384\" width=\"12\" height=\"12\" vector-effect=\"non-scaling-stroke\"/><g fill=\"black\" stroke=\"black\"><text dominant-baseline=\"hanging\" stroke=\"none\" vector-effect=\"non-scaling-stroke\" x=\"92\" y=\"384\">Eval on test: Mean Accuracy</text></g><g font-style=\"normal\" stroke-linecap=\"round\" stroke-linejoin=\"round\" font-family=\"sans-serif\" fill=\"hsl(152, 76%, 65%)\" stroke-width=\"1px\" font-size=\"12px\" font-weight=\"normal\" text-anchor=\"start\" stroke=\"hsl(152, 76%, 65%)\" dominant-baseline=\"hanging\"><rect y=\"402\" width=\"12\" height=\"12\" vector-effect=\"non-scaling-stroke\" x=\"76\"/><g fill=\"black\" stroke=\"black\"><text y=\"402\" dominant-baseline=\"hanging\" stroke=\"none\" vector-effect=\"non-scaling-stroke\" x=\"92\">Train: Moving Average Accuracy</text></g></g></g></g></g></svg>"
      ]
     },
     "metadata": {},
     "output_type": "display_data"
    },
    {
     "data": {
      "text/html": [
       "<svg preserveAspectRatio=\"xMidYMid meet\" xmlns=\"http://www.w3.org/2000/svg\" width=\"1024\" height=\"526\" viewbox=\"0 0 1024 400\" style=\"background-color:#f8f8f8\"><defs><marker markerHeight=\"2%\" id=\"circle\" viewBox=\"0 0 10 10 \" refX=\"5\" refY=\"5\" markerUnits=\"userSpaceOnUse\" markerWidth=\"2%\"><circle cx=\"5\" cy=\"5\" r=\"3\" fill=\"none\" stroke=\"black\"/></marker><marker refY=\"5\" markerUnits=\"userSpaceOnUse\" markerWidth=\"2%\" markerHeight=\"2%\" id=\"filled-circle\" viewBox=\"0 0 10 10 \" refX=\"5\"><circle cy=\"5\" r=\"3\" fill=\"black\" stroke=\"none\" cx=\"5\"/></marker><marker markerUnits=\"userSpaceOnUse\" markerWidth=\"2%\" markerHeight=\"2%\" id=\"square\" viewBox=\"0 0 10 10 \" refX=\"5\" refY=\"5\"><rect fill=\"none\" stroke=\"black\" x=\"2\" y=\"2\" width=\"6\" height=\"6\"/></marker><marker viewBox=\"0 0 10 10 \" refX=\"5\" refY=\"5\" markerUnits=\"userSpaceOnUse\" markerWidth=\"2%\" markerHeight=\"2%\" id=\"filled-square\"><rect x=\"2\" y=\"2\" width=\"6\" height=\"6\" fill=\"black\" stroke=\"none\"/></marker></defs><g transform=\"translate(70 330 )scale(1 -1 )\" stroke=\"hsl(90, 47%, 65%)\" marker-start=\"url(#square)\" stroke-linecap=\"round\" stroke-linejoin=\"round\" fill=\"none\" marker-end=\"url(#square)\" marker-mid=\"url(#square)\" stroke-width=\"2px\"><path vector-effect=\"non-scaling-stroke\" d=\"M1.768000e+01,2.351467e+02 L1.786294e+02,1.182252e+02 L2.773355e+02,9.637579e+01 L3.506075e+02,8.309037e+01 L4.099543e+02,7.073468e+01 L4.607660e+02,6.838995e+01 L5.055983e+02,6.212552e+01 L5.461769e+02,6.019375e+01 L5.835664e+02,5.906284e+01 L6.184621e+02,5.886591e+01 L6.513380e+02,5.561965e+01 L6.825291e+02,5.117472e+01 L7.123676e+02,4.942841e+01 L7.410809e+02,4.825295e+01 L7.688274e+02,4.744062e+01 L7.957190e+02,4.622467e+01 L8.218897e+02,4.500750e+01 L8.474287e+02,4.479084e+01 L8.663200e+02,4.455989e+01 \"/></g><g marker-start=\"url(#square)\" fill=\"none\" stroke=\"hsl(301, 88%, 65%)\" marker-mid=\"url(#square)\" marker-end=\"url(#square)\" transform=\"translate(70 330 )scale(1 -1 )\" stroke-width=\"2px\" stroke-linecap=\"round\" stroke-linejoin=\"round\"><path vector-effect=\"non-scaling-stroke\" d=\"M1.768000e+01,2.351467e+02 L1.786294e+02,1.182252e+02 L2.773355e+02,9.637579e+01 L3.506075e+02,8.309037e+01 L4.099543e+02,7.073468e+01 L4.607660e+02,6.838995e+01 L5.055983e+02,6.212552e+01 L5.461769e+02,6.019375e+01 L5.835664e+02,5.906284e+01 L6.184621e+02,5.886591e+01 L6.513380e+02,5.561965e+01 L6.825291e+02,5.117472e+01 L7.123676e+02,4.942841e+01 L7.410809e+02,4.825295e+01 L7.688274e+02,4.744062e+01 L7.957190e+02,4.622467e+01 L8.218897e+02,4.500750e+01 L8.474287e+02,4.479084e+01 L8.663200e+02,4.455989e+01 \"/></g><g marker-end=\"url(#square)\" transform=\"translate(70 330 )scale(1 -1 )\" stroke-linecap=\"round\" fill=\"none\" marker-start=\"url(#square)\" marker-mid=\"url(#square)\" stroke=\"hsl(152, 76%, 65%)\" stroke-width=\"2px\" stroke-linejoin=\"round\"><path vector-effect=\"non-scaling-stroke\" d=\"M1.768000e+01,2.315571e+02 L1.786294e+02,1.147564e+02 L2.773355e+02,9.438851e+01 L3.506075e+02,8.208785e+01 L4.099543e+02,7.140095e+01 L4.607660e+02,6.953599e+01 L5.055983e+02,6.396033e+01 L5.461769e+02,6.229673e+01 L5.835664e+02,6.142900e+01 L6.184621e+02,6.124849e+01 L6.513380e+02,5.849977e+01 L6.825291e+02,5.459593e+01 L7.123676e+02,5.347681e+01 L7.410809e+02,5.195070e+01 L7.688274e+02,5.144799e+01 L7.957190e+02,5.063715e+01 L8.218897e+02,4.953986e+01 L8.474287e+02,4.927012e+01 L8.663200e+02,4.912065e+01 \"/></g><g marker-end=\"url(#square)\" fill=\"none\" stroke=\"hsl(3, 64%, 65%)\" stroke-linecap=\"round\" stroke-width=\"2px\" transform=\"translate(70 330 )scale(1 -1 )\" stroke-linejoin=\"round\" marker-start=\"url(#square)\" marker-mid=\"url(#square)\"><path vector-effect=\"non-scaling-stroke\" d=\"M1.768000e+01,2.315571e+02 L1.786294e+02,1.147564e+02 L2.773355e+02,9.438851e+01 L3.506075e+02,8.208785e+01 L4.099543e+02,7.140095e+01 L4.607660e+02,6.953599e+01 L5.055983e+02,6.396033e+01 L5.461769e+02,6.229673e+01 L5.835664e+02,6.142900e+01 L6.184621e+02,6.124849e+01 L6.513380e+02,5.849977e+01 L6.825291e+02,5.459593e+01 L7.123676e+02,5.347681e+01 L7.410809e+02,5.195070e+01 L7.688274e+02,5.144799e+01 L7.957190e+02,5.063715e+01 L8.218897e+02,4.953986e+01 L8.474287e+02,4.927012e+01 L8.663200e+02,4.912065e+01 \"/></g><g stroke-linecap=\"round\" stroke-linejoin=\"round\" marker-start=\"url(#square)\" stroke=\"hsl(214, 52%, 65%)\" transform=\"translate(70 330 )scale(1 -1 )\" marker-mid=\"url(#square)\" fill=\"none\" marker-end=\"url(#square)\" stroke-width=\"2px\"><path vector-effect=\"non-scaling-stroke\" d=\"M1.768000e+01,2.548000e+02 L1.786294e+02,1.261454e+02 L2.773355e+02,7.144166e+01 L3.506075e+02,6.327769e+01 L4.099543e+02,4.529771e+01 L4.607660e+02,4.082528e+01 L5.055983e+02,8.079238e+01 L5.461769e+02,6.141148e+01 L5.835664e+02,3.197397e+01 L6.184621e+02,7.479610e+01 L6.513380e+02,9.006882e+01 L6.825291e+02,7.009784e+01 L7.123676e+02,5.200000e+00 L7.410809e+02,3.993106e+01 L7.688274e+02,5.689659e+01 L7.957190e+02,8.242153e+01 L8.218897e+02,1.738447e+01 L8.474287e+02,6.519888e+01 L8.663200e+02,5.560523e+01 \"/></g><g stroke=\"hsl(65, 93%, 65%)\" marker-end=\"url(#square)\" stroke-linecap=\"round\" stroke-linejoin=\"round\" marker-mid=\"url(#square)\" fill=\"none\" transform=\"translate(70 330 )scale(1 -1 )\" stroke-width=\"2px\" marker-start=\"url(#square)\"><path vector-effect=\"non-scaling-stroke\" d=\"M1.768000e+01,2.521573e+02 L1.786294e+02,1.895399e+02 L2.773355e+02,1.299379e+02 L3.506075e+02,9.590755e+01 L4.099543e+02,8.098375e+01 L4.607660e+02,7.031765e+01 L5.055983e+02,6.468286e+01 L5.461769e+02,6.257354e+01 L5.835664e+02,5.717294e+01 L6.184621e+02,6.192841e+01 L6.513380e+02,6.015646e+01 L6.825291e+02,5.411678e+01 L7.123676e+02,4.895012e+01 L7.410809e+02,4.973329e+01 L7.688274e+02,4.638323e+01 L7.957190e+02,4.619955e+01 L8.218897e+02,4.437274e+01 L8.474287e+02,4.514237e+01 L8.663200e+02,4.571857e+01 \"/></g><g stroke-linecap=\"round\" stroke-linejoin=\"round\" fill=\"none\" stroke=\"hsl(276, 81%, 65%)\" marker-end=\"url(#square)\" transform=\"translate(70 330 )scale(1 -1 )\" stroke-width=\"2px\" marker-start=\"url(#square)\" marker-mid=\"url(#square)\"><path d=\"M1.768000e+01,2.521573e+02 L1.786294e+02,1.895399e+02 L2.773355e+02,1.299379e+02 L3.506075e+02,9.590755e+01 L4.099543e+02,8.098375e+01 L4.607660e+02,7.031765e+01 L5.055983e+02,6.468286e+01 L5.461769e+02,6.257354e+01 L5.835664e+02,5.717294e+01 L6.184621e+02,6.192841e+01 L6.513380e+02,6.015646e+01 L6.825291e+02,5.411678e+01 L7.123676e+02,4.895012e+01 L7.410809e+02,4.973329e+01 L7.688274e+02,4.638323e+01 L7.957190e+02,4.619955e+01 L8.218897e+02,4.437274e+01 L8.474287e+02,4.514237e+01 L8.663200e+02,4.571857e+01 \" vector-effect=\"non-scaling-stroke\"/></g><g transform=\"translate(70 330 )scale(1 -1 )\" stroke-width=\"2px\" stroke-linecap=\"round\" stroke-linejoin=\"round\" fill=\"none\" stroke=\"black\"><path vector-effect=\"non-scaling-stroke\" d=\"M1.768000e+01,0 L1.768000e+01,-6 M1.680453e+02,0 L1.680453e+02,-6 M2.560033e+02,0 L2.560033e+02,-6 M3.184106e+02,0 L3.184106e+02,-6 M3.668174e+02,0 L3.668174e+02,-6 M4.063686e+02,0 L4.063686e+02,-6 M4.398087e+02,0 L4.398087e+02,-6 M4.687758e+02,0 L4.687758e+02,-6 M4.943267e+02,0 L4.943267e+02,-6 M5.171826e+02,0 L5.171826e+02,-6 M5.378584e+02,0 L5.378584e+02,-6 M6.675479e+02,0 L6.675479e+02,-6 M7.555060e+02,0 L7.555060e+02,-6 M8.179132e+02,0 L8.179132e+02,-6 M8.663200e+02,0 L8.663200e+02,-6 \"/></g><g transform=\"translate(70 330 )scale(1 1 )\" dominant-baseline=\"hanging\" stroke-linecap=\"round\" stroke-linejoin=\"round\" font-weight=\"normal\" text-anchor=\"middle\" fill=\"black\" stroke=\"black\" font-size=\"12px\" font-style=\"normal\" stroke-width=\"2px\" font-family=\"sans-serif\"><text y=\"10\" dominant-baseline=\"hanging\" stroke=\"none\" vector-effect=\"non-scaling-stroke\" x=\"1.768000e+01\">100</text><text vector-effect=\"non-scaling-stroke\" x=\"1.680453e+02\" y=\"10\" dominant-baseline=\"hanging\" stroke=\"none\">200</text><text stroke=\"none\" vector-effect=\"non-scaling-stroke\" x=\"2.560033e+02\" y=\"10\" dominant-baseline=\"hanging\">300</text><text stroke=\"none\" vector-effect=\"non-scaling-stroke\" x=\"3.184106e+02\" y=\"10\" dominant-baseline=\"hanging\">400</text><text stroke=\"none\" vector-effect=\"non-scaling-stroke\" x=\"3.668174e+02\" y=\"10\" dominant-baseline=\"hanging\">500</text><text stroke=\"none\" vector-effect=\"non-scaling-stroke\" x=\"4.063686e+02\" y=\"10\" dominant-baseline=\"hanging\">600</text><text dominant-baseline=\"hanging\" stroke=\"none\" vector-effect=\"non-scaling-stroke\" x=\"4.398087e+02\" y=\"10\">700</text><text dominant-baseline=\"hanging\" stroke=\"none\" vector-effect=\"non-scaling-stroke\" x=\"4.687758e+02\" y=\"10\">800</text><text stroke=\"none\" vector-effect=\"non-scaling-stroke\" x=\"4.943267e+02\" y=\"10\" dominant-baseline=\"hanging\">900</text><text stroke=\"none\" vector-effect=\"non-scaling-stroke\" x=\"5.171826e+02\" y=\"10\" dominant-baseline=\"hanging\">1000</text><text x=\"5.378584e+02\" y=\"10\" dominant-baseline=\"hanging\" stroke=\"none\" vector-effect=\"non-scaling-stroke\">1100</text><text x=\"6.675479e+02\" y=\"10\" dominant-baseline=\"hanging\" stroke=\"none\" vector-effect=\"non-scaling-stroke\">2000</text><text x=\"7.555060e+02\" y=\"10\" dominant-baseline=\"hanging\" stroke=\"none\" vector-effect=\"non-scaling-stroke\">3000</text><text y=\"10\" dominant-baseline=\"hanging\" stroke=\"none\" vector-effect=\"non-scaling-stroke\" x=\"8.179132e+02\">4000</text><text y=\"10\" dominant-baseline=\"hanging\" stroke=\"none\" vector-effect=\"non-scaling-stroke\" x=\"8.663200e+02\">5000</text></g><g dominant-baseline=\"baseline\" stroke=\"black\" font-size=\"12px\" font-style=\"normal\" font-weight=\"bold\" text-anchor=\"middle\" stroke-width=\"2px\" stroke-linecap=\"round\" transform=\"translate(70 330 )scale(1 1 )rotate(0 0 0 )\" fill=\"black\" stroke-linejoin=\"round\" font-family=\"sans-serif\"><text dominant-baseline=\"baseline\" stroke=\"none\" vector-effect=\"non-scaling-stroke\" x=\"442\" y=\"-6\">Steps</text></g><g font-weight=\"bold\" text-anchor=\"middle\" fill=\"black\" transform=\"translate(70 330 )scale(1 -1 )\" stroke-width=\"2px\" stroke-linecap=\"round\" stroke-linejoin=\"round\" font-family=\"sans-serif\" font-style=\"normal\" stroke=\"black\" font-size=\"12px\" dominant-baseline=\"baseline\"><path vector-effect=\"non-scaling-stroke\" d=\"M0,6.277268e+01 L-6,6.277268e+01 M0,1.325026e+02 L-6,1.325026e+02 M0,2.022325e+02 L-6,2.022325e+02 \"/></g><g font-weight=\"normal\" text-anchor=\"end\" stroke=\"black\" font-size=\"12px\" stroke-width=\"2px\" stroke-linecap=\"round\" fill=\"black\" transform=\"translate(70 330 )scale(1 1 )\" font-style=\"normal\" dominant-baseline=\"middle\" stroke-linejoin=\"round\" font-family=\"sans-serif\"><text x=\"-10\" y=\"-6.277268e+01\" dominant-baseline=\"middle\" stroke=\"none\" vector-effect=\"non-scaling-stroke\">0.300</text><text y=\"-1.325026e+02\" dominant-baseline=\"middle\" stroke=\"none\" vector-effect=\"non-scaling-stroke\" x=\"-10\">0.400</text><text y=\"-2.022325e+02\" dominant-baseline=\"middle\" stroke=\"none\" vector-effect=\"non-scaling-stroke\" x=\"-10\">0.500</text></g><g stroke=\"black\" transform=\"translate(70 330 )scale(1 1 )rotate(-90 0 0 )\" font-style=\"normal\" stroke-width=\"2px\" stroke-linejoin=\"round\" font-family=\"sans-serif\" text-anchor=\"middle\" fill=\"black\" dominant-baseline=\"hanging\" stroke-linecap=\"round\" font-weight=\"bold\" font-size=\"12px\"><text stroke=\"none\" vector-effect=\"non-scaling-stroke\" x=\"130\" y=\"6\" dominant-baseline=\"hanging\">loss</text></g><g stroke=\"gray\" text-anchor=\"middle\" stroke-width=\"0.5px\" stroke-linecap=\"round\" fill=\"black\" transform=\"translate(70 330 )scale(1 -1 )\" font-size=\"12px\" font-style=\"normal\" stroke-linejoin=\"round\" font-family=\"sans-serif\" font-weight=\"bold\" dominant-baseline=\"hanging\"><path vector-effect=\"non-scaling-stroke\" d=\"M0,6.277268e+01 L884,6.277268e+01 M0,1.325026e+02 L884,1.325026e+02 M0,2.022325e+02 L884,2.022325e+02 \"/></g><g font-weight=\"bold\" font-style=\"normal\" dominant-baseline=\"hanging\" stroke-width=\"2px\" stroke-linecap=\"round\" stroke-linejoin=\"round\" font-family=\"sans-serif\" text-anchor=\"middle\" fill=\"none\" stroke=\"black\" font-size=\"12px\"><rect vector-effect=\"non-scaling-stroke\" x=\"70\" y=\"70\" width=\"884\" height=\"260\"/><g font-size=\"18px\" dominant-baseline=\"middle\" fill=\"black\"><text vector-effect=\"non-scaling-stroke\" x=\"512\" y=\"35\" dominant-baseline=\"middle\" stroke=\"none\">loss metrics</text></g><g font-style=\"normal\" dominant-baseline=\"hanging\" stroke-width=\"1px\" stroke-linejoin=\"round\" stroke=\"hsl(90, 47%, 65%)\" font-size=\"12px\" fill=\"hsl(90, 47%, 65%)\" stroke-linecap=\"round\" font-family=\"sans-serif\" font-weight=\"normal\" text-anchor=\"start\"><rect vector-effect=\"non-scaling-stroke\" x=\"76\" y=\"366\" width=\"12\" height=\"12\"/><g stroke=\"black\" fill=\"black\"><text y=\"366\" dominant-baseline=\"hanging\" stroke=\"none\" vector-effect=\"non-scaling-stroke\" x=\"92\">Eval on batched train: Mean Loss</text></g><g stroke-linecap=\"round\" font-family=\"sans-serif\" stroke=\"hsl(301, 88%, 65%)\" stroke-width=\"1px\" font-weight=\"normal\" text-anchor=\"start\" fill=\"hsl(301, 88%, 65%)\" font-size=\"12px\" font-style=\"normal\" dominant-baseline=\"hanging\" stroke-linejoin=\"round\"><rect vector-effect=\"non-scaling-stroke\" x=\"76\" y=\"384\" width=\"12\" height=\"12\"/><g fill=\"black\" stroke=\"black\"><text stroke=\"none\" vector-effect=\"non-scaling-stroke\" x=\"92\" y=\"384\" dominant-baseline=\"hanging\">Eval on batched train: Mean Loss+Regularization</text></g><g fill=\"hsl(152, 76%, 65%)\" font-size=\"12px\" dominant-baseline=\"hanging\" stroke-width=\"1px\" font-weight=\"normal\" text-anchor=\"start\" stroke=\"hsl(152, 76%, 65%)\" font-style=\"normal\" stroke-linecap=\"round\" stroke-linejoin=\"round\" font-family=\"sans-serif\"><rect vector-effect=\"non-scaling-stroke\" x=\"76\" y=\"402\" width=\"12\" height=\"12\"/><g stroke=\"black\" fill=\"black\"><text stroke=\"none\" vector-effect=\"non-scaling-stroke\" x=\"92\" y=\"402\" dominant-baseline=\"hanging\">Eval on test: Mean Loss</text></g><g stroke-linejoin=\"round\" stroke=\"hsl(3, 64%, 65%)\" font-size=\"12px\" font-style=\"normal\" dominant-baseline=\"hanging\" stroke-width=\"1px\" stroke-linecap=\"round\" font-family=\"sans-serif\" fill=\"hsl(3, 64%, 65%)\" text-anchor=\"start\" font-weight=\"normal\"><rect vector-effect=\"non-scaling-stroke\" x=\"76\" y=\"420\" width=\"12\" height=\"12\"/><g stroke=\"black\" fill=\"black\"><text x=\"92\" y=\"420\" dominant-baseline=\"hanging\" stroke=\"none\" vector-effect=\"non-scaling-stroke\">Eval on test: Mean Loss+Regularization</text></g><g stroke-linejoin=\"round\" font-family=\"sans-serif\" font-size=\"12px\" font-style=\"normal\" font-weight=\"normal\" text-anchor=\"start\" stroke-width=\"1px\" stroke-linecap=\"round\" dominant-baseline=\"hanging\" fill=\"hsl(214, 52%, 65%)\" stroke=\"hsl(214, 52%, 65%)\"><rect vector-effect=\"non-scaling-stroke\" x=\"76\" y=\"438\" width=\"12\" height=\"12\"/><g stroke=\"black\" fill=\"black\"><text y=\"438\" dominant-baseline=\"hanging\" stroke=\"none\" vector-effect=\"non-scaling-stroke\" x=\"92\">Train: Batch Loss+Regularization</text></g><g stroke-width=\"1px\" font-size=\"12px\" stroke=\"hsl(65, 93%, 65%)\" stroke-linejoin=\"round\" font-family=\"sans-serif\" font-weight=\"normal\" dominant-baseline=\"hanging\" fill=\"hsl(65, 93%, 65%)\" text-anchor=\"start\" stroke-linecap=\"round\" font-style=\"normal\"><rect x=\"76\" y=\"456\" width=\"12\" height=\"12\" vector-effect=\"non-scaling-stroke\"/><g fill=\"black\" stroke=\"black\"><text dominant-baseline=\"hanging\" stroke=\"none\" vector-effect=\"non-scaling-stroke\" x=\"92\" y=\"456\">Train: Moving Average Loss</text></g><g stroke-linejoin=\"round\" font-family=\"sans-serif\" font-weight=\"normal\" stroke-width=\"1px\" stroke-linecap=\"round\" dominant-baseline=\"hanging\" stroke=\"hsl(276, 81%, 65%)\" fill=\"hsl(276, 81%, 65%)\" text-anchor=\"start\" font-size=\"12px\" font-style=\"normal\"><rect x=\"76\" y=\"474\" width=\"12\" height=\"12\" vector-effect=\"non-scaling-stroke\"/><g fill=\"black\" stroke=\"black\"><text y=\"474\" dominant-baseline=\"hanging\" stroke=\"none\" vector-effect=\"non-scaling-stroke\" x=\"92\">Train: Moving Average Loss+Regularization</text></g></g></g></g></g></g></g></g></g></svg>"
      ]
     },
     "metadata": {},
     "output_type": "display_data"
    },
    {
     "name": "stdout",
     "output_type": "stream",
     "text": [
      "\t[Step 5000] median train step: 2576 microseconds\n",
      "\n",
      "Results on batched train:\n",
      "\tMean Loss+Regularization (#loss+): 0.274\n",
      "\tMean Loss (#loss): 0.274\n",
      "\tMean Accuracy (#acc): 87.40%\n",
      "Results on test:\n",
      "\tMean Loss+Regularization (#loss+): 0.280\n",
      "\tMean Loss (#loss): 0.280\n",
      "\tMean Accuracy (#acc): 87.01%\n",
      "\n"
     ]
    }
   ],
   "source": [
    "%% --steps=5000 --checkpoint base_model --plot_type=margaid\n",
    "trainModel()"
   ]
  },
  {
   "cell_type": "markdown",
   "id": "c38d8a41-3e9c-4107-a507-c879ef27e3e3",
   "metadata": {},
   "source": [
    "## Extend training another 5K steps\n",
    "\n",
    "Since the model training went well, and it doesn't seem to be yet terribly overfiting, \n",
    "let's train further, another 5k steps, for 10K steps in total.\n",
    "\n",
    "Notice the plots continue from where it stopped. And this time we use [Plotly](https://plotly.com/javascript/) to plot the training results -- they don't display in Github since they depend on javascript.\n",
    "\n",
    "Unfortunately, it doesn't help (the accuracy on the test set doesn't improve), 5k steps was already enough."
   ]
  },
  {
   "cell_type": "code",
   "execution_count": 18,
   "id": "95983f61-2a98-442d-bc5d-896006289a2b",
   "metadata": {
    "tags": []
   },
   "outputs": [
    {
     "name": "stdout",
     "output_type": "stream",
     "text": [
      "loading: \"checkpoint-n0000000-20240720-190301-step-00005000\"\n",
      "Checkpointing model to \"/home/janpf/work/uci-adult/base_model\"\n",
      "Restarting training from global_step=5000\n"
     ]
    },
    {
     "data": {
      "text/html": []
     },
     "metadata": {},
     "output_type": "display_data"
    },
    {
     "data": {
      "text/html": []
     },
     "metadata": {},
     "output_type": "display_data"
    },
    {
     "name": "stdout",
     "output_type": "stream",
     "text": [
      "Training (5000 steps):  100% [\u001b[32m=\u001b[0m\u001b[32m=\u001b[0m\u001b[32m=\u001b[0m\u001b[32m=\u001b[0m\u001b[32m=\u001b[0m\u001b[32m=\u001b[0m\u001b[32m=\u001b[0m\u001b[32m=\u001b[0m\u001b[32m=\u001b[0m\u001b[32m=\u001b[0m\u001b[32m=\u001b[0m\u001b[32m=\u001b[0m\u001b[32m=\u001b[0m\u001b[32m=\u001b[0m\u001b[32m=\u001b[0m\u001b[32m=\u001b[0m\u001b[32m=\u001b[0m\u001b[32m=\u001b[0m\u001b[32m=\u001b[0m\u001b[32m=\u001b[0m\u001b[32m=\u001b[0m\u001b[32m=\u001b[0m\u001b[32m=\u001b[0m\u001b[32m=\u001b[0m\u001b[32m=\u001b[0m\u001b[32m=\u001b[0m\u001b[32m=\u001b[0m\u001b[32m=\u001b[0m\u001b[32m=\u001b[0m\u001b[32m=\u001b[0m\u001b[32m=\u001b[0m\u001b[32m=\u001b[0m\u001b[32m=\u001b[0m\u001b[32m=\u001b[0m\u001b[32m=\u001b[0m\u001b[32m=\u001b[0m\u001b[32m=\u001b[0m\u001b[32m=\u001b[0m\u001b[32m=\u001b[0m\u001b[32m=\u001b[0m] (296 steps/s)\u001b[0m [step=9999] [loss+=0.305] [~loss+=0.268] [~loss=0.268] [~acc=87.56%]        \n",
      "\n",
      "[saving checkpoint@10000] [median train step (ms): 2]\n"
     ]
    },
    {
     "data": {
      "text/html": [
       "<p><b>Metric: accuracy</b></p>\n"
      ]
     },
     "metadata": {},
     "output_type": "display_data"
    },
    {
     "data": {
      "text/html": [
       "<div id=\"f43e9395\"></div>"
      ]
     },
     "metadata": {},
     "output_type": "display_data"
    },
    {
     "data": {
      "text/html": [
       "<script charset=\"UTF-8\">\n",
       "(() => {\n",
       "\tconst src=\"https://cdn.plot.ly/plotly-2.29.1.min.js\";\n",
       "\tvar runJSFn = function(module) {\n",
       "\t\t\n",
       "\tif (!module) {\n",
       "\t\tmodule = window.Plotly;\n",
       "\t}\n",
       "\tlet data = JSON.parse('{\"data\":[{\"type\":\"scatter\",\"line\":{\"shape\":\"linear\"},\"mode\":\"lines+markers\",\"name\":\"Train: Moving Average Accuracy\",\"x\":[100,210,331,464,610,771,948,1143,1358,1595,1856,2143,2459,2807,3190,3611,4074,4583,5000,5143,5759,6437,7183,8004,8907,9900,10000],\"y\":[0.747600793838501,0.7786701321601868,0.8224879503250122,0.8452170491218567,0.8545017242431641,0.8623946905136108,0.8633182048797607,0.8649144768714905,0.8689008355140686,0.8657039403915405,0.864447832107544,0.8695482611656189,0.8718845248222351,0.8713715672492981,0.8732336759567261,0.875646710395813,0.8734068274497986,0.8726311326026917,0.8744280934333801,0.8743388652801514,0.8743903636932373,0.874049961566925,0.870550274848938,0.8730689287185669,0.8739299774169922,0.8756914734840393,0.8755643963813782]},{\"type\":\"scatter\",\"line\":{\"shape\":\"linear\"},\"mode\":\"lines+markers\",\"name\":\"Eval on batched train: Mean Accuracy\",\"x\":[100,210,331,464,610,771,948,1143,1358,1595,1856,2143,2459,2807,3190,3611,4074,4583,5000,5143,5759,6437,7183,8004,8907,9900,10000],\"y\":[0.7591904401779175,0.8340346217155457,0.8448450565338135,0.8578053712844849,0.8601701259613037,0.8638248443603516,0.8652989864349365,0.8671416640281677,0.8680015802383423,0.8678480386734009,0.8684622645378113,0.8711341619491577,0.8719019889831543,0.8730690479278564,0.873468279838562,0.8735911250114441,0.8739596605300903,0.8731304407119751,0.8739903569221497,0.8735604286193848,0.8734068274497986,0.8738982081413269,0.8722398281097412,0.8739903569221497,0.8729462027549744,0.8742974996566772,0.8734068274497986]},{\"type\":\"scatter\",\"line\":{\"shape\":\"linear\"},\"mode\":\"lines+markers\",\"name\":\"Eval on test: Mean Accuracy\",\"x\":[100,210,331,464,610,771,948,1143,1358,1595,1856,2143,2459,2807,3190,3611,4074,4583,5000,5143,5759,6437,7183,8004,8907,9900,10000],\"y\":[0.7637736797332764,0.8378477096557617,0.8469380736351013,0.8592837452888489,0.8602050542831421,0.8641974925994873,0.8649959564208984,0.8660401105880737,0.8651801943778992,0.8648116588592529,0.8654258847236633,0.8691725730895996,0.8686197996139526,0.8702167272567749,0.8699096441268921,0.8698482513427734,0.8716908693313599,0.871260941028595,0.8700938820838928,0.8707695603370667,0.8723664879798889,0.8715680241584778,0.8708309531211853,0.8727964758872986,0.8718137145042419,0.873042106628418,0.8702781796455383]}],\"layout\":{\"legend\":{},\"title\":{\"text\":\"accuracy\"},\"xaxis\":{\"showgrid\":true,\"type\":\"log\"},\"yaxis\":{\"showgrid\":true,\"type\":\"log\"}}}');\n",
       "\tmodule.newPlot('f43e9395', data);\n",
       "\n",
       "\t}\n",
       "\t\n",
       "    if (typeof requirejs === \"function\") {\n",
       "        // Use RequireJS to load module.\n",
       "\t\tlet srcWithoutExtension = src.substring(0, src.lastIndexOf(\".js\"));\n",
       "        requirejs.config({\n",
       "            paths: {\n",
       "                'plotly': srcWithoutExtension\n",
       "            }\n",
       "        });\n",
       "        require(['plotly'], function(plotly) {\n",
       "            runJSFn(plotly)\n",
       "        });\n",
       "        return\n",
       "    }\n",
       "\n",
       "\tvar currentScripts = document.head.getElementsByTagName(\"script\");\n",
       "\tfor (const idx in currentScripts) {\n",
       "\t\tlet script = currentScripts[idx];\n",
       "\t\tif (script.src == src) {\n",
       "\t\t\trunJSFn(null);\n",
       "\t\t\treturn;\n",
       "\t\t}\n",
       "\t}\n",
       "\n",
       "\tvar script = document.createElement(\"script\");\n",
       "\n",
       "\tscript.charset = \"utf-8\";\n",
       "\t\n",
       "\tscript.src = src;\n",
       "\tscript.onload = script.onreadystatechange = function () { runJSFn(null); };\n",
       "\tdocument.head.appendChild(script);\t\n",
       "})();\n",
       "</script>"
      ]
     },
     "metadata": {},
     "output_type": "display_data"
    },
    {
     "data": {
      "text/html": [
       "<p><b>Metric: loss</b></p>\n"
      ]
     },
     "metadata": {},
     "output_type": "display_data"
    },
    {
     "data": {
      "text/html": [
       "<div id=\"155fdd56\"></div>"
      ]
     },
     "metadata": {},
     "output_type": "display_data"
    },
    {
     "data": {
      "text/html": [
       "<script charset=\"UTF-8\">\n",
       "(() => {\n",
       "\tconst src=\"https://cdn.plot.ly/plotly-2.29.1.min.js\";\n",
       "\tvar runJSFn = function(module) {\n",
       "\t\t\n",
       "\tif (!module) {\n",
       "\t\tmodule = window.Plotly;\n",
       "\t}\n",
       "\tlet data = JSON.parse('{\"data\":[{\"type\":\"scatter\",\"line\":{\"shape\":\"linear\"},\"mode\":\"lines+markers\",\"name\":\"Train: Batch Loss+Regularization\",\"x\":[100,210,331,464,610,771,948,1143,1358,1595,1856,2143,2459,2807,3190,3611,4074,4583,5000,5143,5759,6437,7183,8004,8907,9900,10000],\"y\":[0.5753873586654663,0.3908831775188446,0.3124322295188904,0.30072423815727234,0.27493906021118164,0.2685251235961914,0.32584214210510254,0.29804790019989014,0.25583142042160034,0.3172428607940674,0.3391455411911011,0.31050506234169006,0.21743473410606384,0.2672427296638489,0.29157307744026184,0.3281785249710083,0.2349085509777069,0.3034794330596924,0.28972113132476807,0.2247077375650406,0.39074933528900146,0.2142309844493866,0.25478845834732056,0.3277837634086609,0.25388413667678833,0.28431302309036255,0.3046301007270813]},{\"type\":\"scatter\",\"line\":{\"shape\":\"linear\"},\"mode\":\"lines+markers\",\"name\":\"Train: Moving Average Loss+Regularization\",\"x\":[100,210,331,464,610,771,948,1143,1358,1595,1856,2143,2459,2807,3190,3611,4074,4583,5000,5143,5759,6437,7183,8004,8907,9900,10000],\"y\":[0.5715973973274231,0.4817974865436554,0.39632195234298706,0.3475188910961151,0.3261165916919708,0.3108202815055847,0.3027394115924835,0.29971441626548767,0.2919693887233734,0.29878923296928406,0.29624807834625244,0.2875865399837494,0.2801769971847534,0.2813001573085785,0.2764958143234253,0.27623239159584045,0.2736125588417053,0.2747162878513336,0.27554261684417725,0.27356529235839844,0.27489814162254333,0.27262893319129944,0.27715080976486206,0.2713528275489807,0.27079686522483826,0.2678966224193573,0.26839882135391235]},{\"type\":\"scatter\",\"line\":{\"shape\":\"linear\"},\"mode\":\"lines+markers\",\"name\":\"Train: Moving Average Loss\",\"x\":[100,210,331,464,610,771,948,1143,1358,1595,1856,2143,2459,2807,3190,3611,4074,4583,5000,5143,5759,6437,7183,8004,8907,9900,10000],\"y\":[0.5715973973274231,0.4817974865436554,0.39632195234298706,0.3475188910961151,0.3261165916919708,0.3108202815055847,0.3027394115924835,0.29971441626548767,0.2919693887233734,0.29878923296928406,0.29624807834625244,0.2875865399837494,0.2801769971847534,0.2813001573085785,0.2764958143234253,0.27623239159584045,0.2736125588417053,0.2747162878513336,0.27554261684417725,0.27356529235839844,0.27489814162254333,0.27262893319129944,0.27715080976486206,0.2713528275489807,0.27079686522483826,0.2678966224193573,0.26839882135391235]},{\"type\":\"scatter\",\"line\":{\"shape\":\"linear\"},\"mode\":\"lines+markers\",\"name\":\"Eval on batched train: Mean Loss+Regularization\",\"x\":[100,210,331,464,610,771,948,1143,1358,1595,1856,2143,2459,2807,3190,3611,4074,4583,5000,5143,5759,6437,7183,8004,8907,9900,10000],\"y\":[0.547202467918396,0.37952473759651184,0.34819039702415466,0.3291377127170563,0.311418354511261,0.3080557584762573,0.29907190799713135,0.29630154371261597,0.2946797013282776,0.2943972945213318,0.2897418141365051,0.2833673059940338,0.2808629274368286,0.279177188873291,0.278012216091156,0.2762684226036072,0.2745228707790375,0.27421215176582336,0.2738809585571289,0.2734130024909973,0.2722778916358948,0.2715269923210144,0.2725188732147217,0.2702290117740631,0.2712462842464447,0.2693309783935547,0.2711188495159149]},{\"type\":\"scatter\",\"line\":{\"shape\":\"linear\"},\"mode\":\"lines+markers\",\"name\":\"Eval on batched train: Mean Loss\",\"x\":[100,210,331,464,610,771,948,1143,1358,1595,1856,2143,2459,2807,3190,3611,4074,4583,5000,5143,5759,6437,7183,8004,8907,9900,10000],\"y\":[0.547202467918396,0.37952473759651184,0.34819039702415466,0.3291377127170563,0.311418354511261,0.3080557584762573,0.29907190799713135,0.29630154371261597,0.2946797013282776,0.2943972945213318,0.2897418141365051,0.2833673059940338,0.2808629274368286,0.279177188873291,0.278012216091156,0.2762684226036072,0.2745228707790375,0.27421215176582336,0.2738809585571289,0.2734130024909973,0.2722778916358948,0.2715269923210144,0.2725188732147217,0.2702290117740631,0.2712462842464447,0.2693309783935547,0.2711188495159149]},{\"type\":\"scatter\",\"line\":{\"shape\":\"linear\"},\"mode\":\"lines+markers\",\"name\":\"Eval on test: Mean Loss+Regularization\",\"x\":[100,210,331,464,610,771,948,1143,1358,1595,1856,2143,2459,2807,3190,3611,4074,4583,5000,5143,5759,6437,7183,8004,8907,9900,10000],\"y\":[0.5420546531677246,0.3745501935482025,0.34534043073654175,0.3276999890804291,0.3123738467693329,0.30969929695129395,0.30170321464538574,0.29931744933128357,0.29807302355766296,0.29781416058540344,0.293872207403183,0.2882736921310425,0.2866687476634979,0.28448015451431274,0.283759206533432,0.2825963795185089,0.2810227572917938,0.28063592314720154,0.28042155504226685,0.2802774906158447,0.27888303995132446,0.2787083089351654,0.2792825698852539,0.27766817808151245,0.2787661552429199,0.2772946357727051,0.2789336144924164]},{\"type\":\"scatter\",\"line\":{\"shape\":\"linear\"},\"mode\":\"lines+markers\",\"name\":\"Eval on test: Mean Loss\",\"x\":[100,210,331,464,610,771,948,1143,1358,1595,1856,2143,2459,2807,3190,3611,4074,4583,5000,5143,5759,6437,7183,8004,8907,9900,10000],\"y\":[0.5420546531677246,0.3745501935482025,0.34534043073654175,0.3276999890804291,0.3123738467693329,0.30969929695129395,0.30170321464538574,0.29931744933128357,0.29807302355766296,0.29781416058540344,0.293872207403183,0.2882736921310425,0.2866687476634979,0.28448015451431274,0.283759206533432,0.2825963795185089,0.2810227572917938,0.28063592314720154,0.28042155504226685,0.2802774906158447,0.27888303995132446,0.2787083089351654,0.2792825698852539,0.27766817808151245,0.2787661552429199,0.2772946357727051,0.2789336144924164]}],\"layout\":{\"legend\":{},\"title\":{\"text\":\"loss\"},\"xaxis\":{\"showgrid\":true,\"type\":\"log\"},\"yaxis\":{\"showgrid\":true,\"type\":\"log\"}}}');\n",
       "\tmodule.newPlot('155fdd56', data);\n",
       "\n",
       "\t}\n",
       "\t\n",
       "    if (typeof requirejs === \"function\") {\n",
       "        // Use RequireJS to load module.\n",
       "\t\tlet srcWithoutExtension = src.substring(0, src.lastIndexOf(\".js\"));\n",
       "        requirejs.config({\n",
       "            paths: {\n",
       "                'plotly': srcWithoutExtension\n",
       "            }\n",
       "        });\n",
       "        require(['plotly'], function(plotly) {\n",
       "            runJSFn(plotly)\n",
       "        });\n",
       "        return\n",
       "    }\n",
       "\n",
       "\tvar currentScripts = document.head.getElementsByTagName(\"script\");\n",
       "\tfor (const idx in currentScripts) {\n",
       "\t\tlet script = currentScripts[idx];\n",
       "\t\tif (script.src == src) {\n",
       "\t\t\trunJSFn(null);\n",
       "\t\t\treturn;\n",
       "\t\t}\n",
       "\t}\n",
       "\n",
       "\tvar script = document.createElement(\"script\");\n",
       "\n",
       "\tscript.charset = \"utf-8\";\n",
       "\t\n",
       "\tscript.src = src;\n",
       "\tscript.onload = script.onreadystatechange = function () { runJSFn(null); };\n",
       "\tdocument.head.appendChild(script);\t\n",
       "})();\n",
       "</script>"
      ]
     },
     "metadata": {},
     "output_type": "display_data"
    },
    {
     "name": "stdout",
     "output_type": "stream",
     "text": [
      "\t[Step 10000] median train step: 2666 microseconds\n",
      "\n",
      "Results on batched train:\n",
      "\tMean Loss+Regularization (#loss+): 0.271\n",
      "\tMean Loss (#loss): 0.271\n",
      "\tMean Accuracy (#acc): 87.34%\n",
      "Results on test:\n",
      "\tMean Loss+Regularization (#loss+): 0.279\n",
      "\tMean Loss (#loss): 0.279\n",
      "\tMean Accuracy (#acc): 87.03%\n",
      "\n"
     ]
    }
   ],
   "source": [
    "import \"github.com/gomlx/exceptions\"\n",
    "\n",
    "%% --steps=5000 --checkpoint base_model --plot_type=plotly\n",
    "err := exceptions.TryCatch[error](func() { trainModel() })\n",
    "if err != nil {\n",
    "    fmt.Fprintf(os.Stderr, \"Error: %+v\", err)\n",
    "}"
   ]
  },
  {
   "cell_type": "code",
   "execution_count": null,
   "id": "087484f7-41d0-4197-bc3a-f5ba860470eb",
   "metadata": {},
   "outputs": [],
   "source": []
  }
 ],
 "metadata": {
  "kernelspec": {
   "display_name": "Go (gonb)",
   "language": "go",
   "name": "gonb"
  },
  "language_info": {
   "codemirror_mode": "",
   "file_extension": ".go",
   "mimetype": "",
   "name": "go",
   "nbconvert_exporter": "",
   "pygments_lexer": "",
   "version": "go1.22.4"
  }
 },
 "nbformat": 4,
 "nbformat_minor": 5
}
