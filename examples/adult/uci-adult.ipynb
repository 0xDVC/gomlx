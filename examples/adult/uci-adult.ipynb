{
 "cells": [
  {
   "cell_type": "markdown",
   "id": "546fa208-c19c-405b-81b1-cf99fcb4a830",
   "metadata": {
    "tags": []
   },
   "source": [
    "# UCI Adult Dataset or Census Income\n",
    "\n",
    "This is a very popular ML task, with tabular data. The objective is to predict whether income exceeds $50K/yr based on census data. \n",
    "Also known as \"Census Income\" dataset.\n",
    "\n",
    "The data is old and biased on different ways ... but it can be used opaquely for ML experimentation.\n",
    "\n"
   ]
  },
  {
   "cell_type": "markdown",
   "id": "2ab071e3-227f-4c77-b864-2b7e5a5ccbdf",
   "metadata": {},
   "source": [
    "## Environment Set Up\n",
    "\n",
    "Let's set up `go.mod` to use the local copy of GoMLX, so it can be developed jointly the dataset code with the model. That's often how data pre-processing and model code is developed together with experimentation.\n",
    "\n",
    "If you are not changing code, feel free to simply skip this cell. Or if you used a different directory for you projects, change it below.\n",
    "\n",
    "Notice the directory `${HOME}/Projects/gomlx` is where the GoMLX code is copied by default in [its Docker](https://hub.docker.com/repository/docker/janpfeifer/gomlx_jupyterlab/general)."
   ]
  },
  {
   "cell_type": "code",
   "execution_count": 1,
   "id": "9ba46cb6-059d-4387-876c-665f778f2447",
   "metadata": {
    "tags": []
   },
   "outputs": [],
   "source": [
    "!*go mod edit -replace github.com/gomlx/gomlx=\"${HOME}/Projects/gomlx\"\n",
    "!*go mod edit -replace github.com/janpfeifer/gonb=\"${HOME}/Projects/gonb\""
   ]
  },
  {
   "cell_type": "markdown",
   "id": "78cf991f-4fa5-4bae-8e49-ca67fb8dbd5b",
   "metadata": {},
   "source": [
    "## Data Preparation\n",
    "\n",
    "GoMLX provides [a simple `adult` library](https://pkg.go.dev/github.com/gomlx/gomlx/examples/adult) to facilitate downdoaling and preprocessing the data. Data is available in [UCI Machine Learning Repository](https://archive.ics.uci.edu/ml/datasets/Adult).\n",
    "\n",
    "After downloading the data and validating the checksum (both training and testing), it generates the quantiles for the continuous features, and the vocabularies for the categorical features. It saves all this info for faster restart later in a binary file. So this won't be necessary a second time.\n",
    "\n",
    "The quantiles are used to calibrate the values, using a piece-wise-lienar calibration, very good for these things. See [`layers.PieceWiseLinearCalibration` documentation](https://pkg.go.dev/github.com/gomlx/gomlx@v0.1.0/ml/layers#PieceWiseLinearCalibration).\n",
    "\n",
    "We create a flag `--data` to define the directory where to save the intermediary files: downloaded and preprocessed datasets.\n",
    "In this examle we set it to `~/work/uci-adult`. Verbosity can be contolled with the `--verbosity` flag. \n",
    "\n",
    "We set default in Go for these flags, but they can easily be reset for a new run by providing them after the `%%` Jupyter kernel meta-command -- in indicates that the subsequent lines should be put in to a `func main`.\n"
   ]
  },
  {
   "cell_type": "code",
   "execution_count": 2,
   "id": "9418be86-70bc-41ad-9e0a-3a5e6bf52b51",
   "metadata": {
    "tags": []
   },
   "outputs": [
    {
     "name": "stdout",
     "output_type": "stream",
     "text": [
      "\n",
      "Sample Categorical: (24.08% positive ratio, 23.86% weighted positive ratio)\n",
      "\tRow 0:\t[7 10 5 1 2 5 2 39]\n",
      "\tRow 1:\t[6 10 3 4 1 5 2 39]\n",
      "\tRow 2:\t[4 12 1 6 2 5 2 39]\n",
      "\t...\n",
      "\tRow 32558:\t[4 12 7 1 5 5 1 39]\n",
      "\tRow 32559:\t[4 12 5 1 4 5 2 39]\n",
      "\tRow 32560:\t[5 12 3 4 6 5 1 39]\n",
      "\n",
      "Sample Continuous:\n",
      "\tRow 0:\t[39 13 2174 0 40]\n",
      "\tRow 1:\t[50 13 0 0 13]\n",
      "\tRow 2:\t[38 9 0 0 40]\n",
      "\t...\n",
      "\tRow 32558:\t[58 9 0 0 40]\n",
      "\tRow 32559:\t[22 9 0 0 20]\n",
      "\tRow 32560:\t[52 9 15024 0 40]\n"
     ]
    }
   ],
   "source": [
    "import (\n",
    "    \"flag\"\n",
    "    \n",
    "    \"github.com/gomlx/gomlx/examples/adult\"\n",
    ")\n",
    "\n",
    "var (\n",
    "    flagDataDir       = flag.String(\"data\", \"~/work/uci-adult\", \"Directory to save and load downloaded and generated dataset files.\")\n",
    "    flagVerbosity     = flag.Int(\"verbosity\", 0, \"Level of verbosity, the higher the more verbose.\")\n",
    "    flagForceDownload = flag.Bool(\"force_download\", false, \"Force re-download of Adult dataset files.\")\n",
    "    flagNumQuantiles  = flag.Int(\"quantiles\", 100, \"Max number of quantiles to use for numeric features, used during piece-wise linear calibration. It will only use unique values, so if there are fewer variability, fewer quantiles are used.\")\n",
    ")\n",
    "\n",
    "%% --verbosity=2\n",
    "adult.LoadAndPreprocessData(*flagDataDir, *flagNumQuantiles, *flagForceDownload, *flagVerbosity)"
   ]
  },
  {
   "cell_type": "code",
   "execution_count": 3,
   "id": "fdab7255-2224-496a-9ec7-75927150f9d7",
   "metadata": {
    "tags": []
   },
   "outputs": [
    {
     "name": "stdout",
     "output_type": "stream",
     "text": [
      "total 7.0M\n",
      "-rw-r--r-- 1 janpf janpf 3.8M Mar 21  2023 adult.data\n",
      "-rw-r--r-- 1 janpf janpf 1.3M Mar 21  2023 adult_data-100_quantiles.bin\n",
      "-rw-r--r-- 1 janpf janpf 2.0M Mar 21  2023 adult.test\n",
      "drwxr-x--- 2 janpf janpf 4.0K Mar 27 09:19 base_model\n"
     ]
    }
   ],
   "source": [
    "!ls -lh ~/work/uci-adult"
   ]
  },
  {
   "cell_type": "markdown",
   "id": "028b783b-56f0-457c-b28e-7bb0dd7e94da",
   "metadata": {},
   "source": [
    "### Creating Datasets\n",
    "\n",
    "First we create the GoMLX's `Manager`: it's the object that manages the underlying XLA\n",
    "setup, connection and execution. It's needed to create tensors.\n",
    "\n",
    "With that we create the samplers of data that we will use to train and evaluate. They implement \n",
    "GoMLX's `train.Dataset` interface, which is what is used by our training loop to draw batches to\n",
    "train, or our eval loop to draw batches to evaluate.\n",
    "\n",
    "The inputs are 3 tensors: *categorical values*, *continuous values* and *weights*.\n",
    "\n",
    "In the cell below we define the `Manager` flags, `BuildSamplers` and printout some samples."
   ]
  },
  {
   "cell_type": "code",
   "execution_count": 4,
   "id": "f13f771b-7109-49d2-8db5-5f3d5a91d324",
   "metadata": {
    "tags": []
   },
   "outputs": [
    {
     "name": "stdout",
     "output_type": "stream",
     "text": [
      "Inputs of batch (size 128):\n",
      "\tcategorical:\n",
      "\t\tFeatures=[workclass education marital-status occupation relationship race sex native-country]\n",
      "\t\tValues: (Int64)[128 8]: (... too large, 1024 values ..., first 16 values: [1 16 3 13 1 5 2 13 2 16 5 11 2 5 2 39])\n",
      "\tcontinuous:\n",
      "\t\tFeatures=[age education-num capital-gain capital-loss hours-per-week]\n",
      "\t\tValues: (Float32)[128 5]: (... too large, 640 values ..., first 10 values: [45 10 7688 0 40 34 10 0 0 50])\n",
      "\tweights: (Float32)[128 1]: (... too large, 128 values ..., first 5 values: [352094 177675 183885 49715 244803])\n",
      "\n",
      "Labels of batch:\n",
      "\t(Float32)[128 1]: (... too large, 128 values ..., first 10 values: [1 1 0 0 0 0 0 0 0 1])\n",
      "\n",
      "Labels distributions:\n",
      "\tTrain:\t24.08% positive\n",
      "\tTest:\t23.62% positive\n"
     ]
    }
   ],
   "source": [
    "import (\n",
    "    \"flag\"\n",
    "    \"fmt\"\n",
    "    \"io\"\n",
    "\n",
    "    . \"github.com/gomlx/gomlx/graph\"\n",
    "    \"github.com/gomlx/gomlx/examples/adult\"\n",
    "    \"github.com/gomlx/gomlx/ml/train\"\n",
    "    \"github.com/gomlx/gomlx/types/tensor\"\n",
    ")\n",
    "\n",
    "var (\n",
    "    flagBatchSize      = flag.Int(\"batch\", 128, \"BatchSampler size for training\")\n",
    ")\n",
    "\n",
    "// Global manager created an initialization, used everywhere.\n",
    "var manager = NewManager()\n",
    "\n",
    "// BuildDatasets returns 3 `train.Dataset`:\n",
    "// * trainingSampler is an endless random sampler used for training.\n",
    "// * trainingEvalSampler samples through exactly one epoch of the train dataset.\n",
    "// * testEvalSampler samples through exactly one epoch of the test dataset.\n",
    "func BuildDatasets(manager *Manager) (trainDS, trainEvalDS, testEvalDS train.Dataset) {\n",
    "    baseDS := adult.NewDataset(manager, adult.Data.Train, \"batched train\")\n",
    "    trainEvalDS = baseDS.Copy().BatchSize(*flagBatchSize, false)\n",
    "    testEvalDS = adult.NewDataset(manager, adult.Data.Test, \"test\").\n",
    "        BatchSize(*flagBatchSize, false)\n",
    "    // For training, we shuffle and loop indefinitely.\n",
    "    trainDS = baseDS.BatchSize(*flagBatchSize, true).Shuffle().Infinite(true)\n",
    "    return\n",
    "}\n",
    "\n",
    "// PositiveRatio finds out the the ratio of positive labels in the\n",
    "// training and testing data.\n",
    "//\n",
    "// We could do this easily with GoMLX computation model (just `ReduceAllSum`), but\n",
    "// this examples shows it's also ok to mix Go computations.\n",
    "func PositiveRatio(ds train.Dataset) float32 {\n",
    "    ds.Reset()  // Start from beginning.\n",
    "    var sum float32\n",
    "    var count float32\n",
    "    for {\n",
    "        _, _, labels, err := ds.Yield()\n",
    "        if err == io.EOF {\n",
    "            break;\n",
    "        }\n",
    "        if err != nil { panic(err) }\n",
    "        data := labels[0].Local().FlatCopy().([]float32)\n",
    "        for _, value := range data {\n",
    "            sum += value\n",
    "        }\n",
    "        count += float32(len(data))\n",
    "    }\n",
    "    return sum/count\n",
    "}\n",
    "\n",
    "%%\n",
    "adult.LoadAndPreprocessData(*flagDataDir, *flagNumQuantiles, *flagForceDownload, *flagVerbosity)    \n",
    "trainingDS, trainingEvalDS, testEvalDS := BuildDatasets(manager)\n",
    "\n",
    "// Take one batch.\n",
    "_, inputs, labels, err := trainingDS.Yield()\n",
    "if err != nil { panic(err) }\n",
    "fmt.Printf(\"Inputs of batch (size %d):\\n\", *flagBatchSize)\n",
    "fmt.Printf(\"\\tcategorical:\\n\\t\\tFeatures=%v\\n\", adult.Data.VocabulariesFeatures)\n",
    "fmt.Printf(\"\\t\\tValues: %s\\n\", inputs[0].Local().StringN(16))\n",
    "fmt.Printf(\"\\tcontinuous:\\n\\t\\tFeatures=%v\\n\", adult.Data.QuantilesFeatures)\n",
    "fmt.Printf(\"\\t\\tValues: %s\\n\", inputs[1].Local().StringN(10))\n",
    "fmt.Printf(\"\\tweights: %s\\n\", inputs[2].Local().StringN(5))\n",
    "fmt.Printf(\"\\nLabels of batch:\\n\\t%s\\n\", labels[0].Local().StringN(10))\n",
    "fmt.Printf(\"\\nLabels distributions:\\n\\tTrain:\\t%.2f%% positive\\n\\tTest:\\t%.2f%% positive\\n\",\n",
    "           PositiveRatio(trainingEvalDS)*100.0, PositiveRatio(testEvalDS)*100.0)\n"
   ]
  },
  {
   "cell_type": "markdown",
   "id": "54efd046-bbd5-4f7d-94e0-9ed3c64512b1",
   "metadata": {},
   "source": [
    "## Model Definition\n",
    "\n",
    "Lots of hyper-parameter flags, but otherwise a straight forward FNN, using piece-wise linear calibration of the continuous features, and embeddings for the categorical features.\n",
    "\n",
    "> **Note**: building models is a constant checking that shapes are compatible. It's a bit annoying, in particular because shapes are known in runtime only -- no compile time check. GoMLX tries to help providing a stack trace of where errors happen so one can pin-point issues quickly. But often it involves lots of experimentation (more than ordinary Go code).\n",
    ">\n",
    "> Developing with a Noteboook (see [GoNB](https://github.com/janpfeifer/gonb)) or simply a unit test on your `ModelGraph` function are quick/convenient ways to develop models -- before actually training them. You can also use shape asserts in the middle of the \n",
    ">`ModelGraph`, as we do below."
   ]
  },
  {
   "cell_type": "code",
   "execution_count": 5,
   "id": "7040e63b-33f1-4ff9-a232-187196c5f9c1",
   "metadata": {
    "tags": []
   },
   "outputs": [
    {
     "name": "stdout",
     "output_type": "stream",
     "text": [
      "Logits shape for batch_size=128: (Float32)[128 1]\n"
     ]
    }
   ],
   "source": [
    "import (\n",
    "    \"fmt\"\n",
    "    \"io\"\n",
    "\n",
    "    . \"github.com/gomlx/gomlx/graph\"\n",
    "\n",
    "    \"github.com/gomlx/gomlx/ml/context\"\n",
    "    \"github.com/gomlx/gomlx/examples/adult\"\n",
    "    \"github.com/gomlx/gomlx/ml/train\"\n",
    "    \"github.com/gomlx/gomlx/ml/train/optimizers\"\n",
    "    \"github.com/gomlx/gomlx/types/shapes\"\n",
    ")\n",
    "\n",
    "var (\n",
    "    // ModelDType used for the model. Must match RawData Go types.\n",
    "    ModelDType = shapes.Float32\n",
    "    \n",
    "\n",
    "    // Model hyperparameters.\n",
    "    flagUseCategorical       = flag.Bool(\"use_categorical\", true, \"Use categorical features.\")\n",
    "    flagUseContinuous        = flag.Bool(\"use_continuous\", true, \"Use continuous features.\")\n",
    "    flagTrainableCalibration = flag.Bool(\"trainable_calibration\", true, \"Allow piece-wise linear calibration to adjust outputs.\")\n",
    "    flagEmbeddingDim    = flag.Int(\"embedding_dim\", 8, \"Default embedding dimension for categorical values.\")\n",
    "    flagNumHiddenLayers = flag.Int(\"hidden_layers\", 8, \"Number of hidden layers, stacked with residual connection.\")\n",
    "    flagNumNodes        = flag.Int(\"num_nodes\", 32, \"Number of nodes in hidden layers.\")\n",
    "    flagDropoutRate     = flag.Float64(\"dropout\", 0, \"Dropout rate\")\n",
    "    \n",
    "    // Training parameter, referenced here.\n",
    "    flagLearningRate  = flag.Float64(\"learning_rate\", 0.001, \"Initial learning rate.\")\n",
    "    flagNumSteps      = flag.Int(\"steps\", 5000, \"Number of gradient descent steps to perform\")\n",
    ")\n",
    "\n",
    "\n",
    "// ModelGraph outputs the logits (not the probabilities). The parameter inputs should contain 3 tensors:\n",
    "//\n",
    "// - categorical inputs, shaped  `(int64)[batch_size, len(VocabulariesFeatures)]`\n",
    "// - continuous inputs, shaped `(float32)[batch_size, len(Quantiles)]`\n",
    "// - weights: not currently used, but shaped `(float32)[batch_size, 1]`.\n",
    "func ModelGraph(ctx *context.Context, spec any, inputs []*Node) []*Node {\n",
    "    _ = spec // Not used, since the dataset is always the same.\n",
    "    g := inputs[0].Graph()\n",
    "    \n",
    "    // Use Cosine schedule of the learning rate.\n",
    "    optimizers.CosineAnnealingSchedule(ctx, g, ModelDType).\n",
    "        PeriodInSteps(*flagNumSteps/3).Done()\n",
    "    \n",
    "    categorical, continuous := inputs[0], inputs[1]\n",
    "    batchSize := categorical.Shape().Dimensions[0]\n",
    "    \n",
    "    var allEmbeddings []*Node\n",
    "\n",
    "    if *flagUseCategorical {\n",
    "        // Embedding of categorical values, each with its own vocabulary.\n",
    "        numCategorical := categorical.Shape().Dimensions[1]\n",
    "        for catIdx := 0; catIdx < numCategorical; catIdx++ {\n",
    "            // Take one column at a time of the categorical values.\n",
    "            split := Slice(categorical, AxisRange(), AxisRange(catIdx, catIdx+1))\n",
    "            // Embed it accordingly.\n",
    "            embedCtx := ctx.In(fmt.Sprintf(\"categorical_%d_%s\", catIdx, adult.Data.VocabulariesFeatures[catIdx]))\n",
    "            vocab := adult.Data.Vocabularies[catIdx]\n",
    "            vocabSize := len(vocab)\n",
    "            embedding := layers.Embedding(embedCtx, split, ModelDType, vocabSize, *flagEmbeddingDim)\n",
    "            embedding.AssertDims(batchSize, *flagEmbeddingDim) // 2-dim tensor, with batch size as the leading dimension.\n",
    "            allEmbeddings = append(allEmbeddings, embedding)\n",
    "        }\n",
    "    }\n",
    "\n",
    "    if *flagUseContinuous {\n",
    "        // Piecewise-linear calibration of the continuous values. Each feature has its own number of quantiles.\n",
    "        numContinuous := continuous.Shape().Dimensions[1]\n",
    "        for contIdx := 0; contIdx < numContinuous; contIdx++ {\n",
    "            // Take one column at a time of the continuous values.\n",
    "            split := Slice(continuous, AxisRange(), AxisRange(contIdx, contIdx+1))\n",
    "            featureName := adult.Data.QuantilesFeatures[contIdx]\n",
    "            calibrationCtx := ctx.In(fmt.Sprintf(\"continuous_%d_%s\", contIdx, featureName))\n",
    "            quantiles := adult.Data.Quantiles[contIdx]\n",
    "            layers.AssertQuantilesForPWLCalibrationValid(quantiles)\n",
    "            calibrated := layers.PieceWiseLinearCalibration(calibrationCtx, split, Const(g, quantiles), *flagTrainableCalibration)\n",
    "            calibrated.AssertDims(batchSize, 1) // 2-dim tensor, with batch size as the leading dimension.\n",
    "            allEmbeddings = append(allEmbeddings, calibrated)\n",
    "        }\n",
    "    }\n",
    "    layer := Concatenate(allEmbeddings, -1)\n",
    "    layer.AssertDims(batchSize, -1) // 2-dim tensor, with batch size as the leading dimension (-1 means it is not checked).\n",
    "    \n",
    "    layer = layers.DenseWithBias(ctx.In(fmt.Sprintf(\"DenseLayer_%d\", 0)), layer, *flagNumNodes)\n",
    "    for ii := 1; ii < *flagNumHiddenLayers; ii++ {\n",
    "        ctx := ctx.In(fmt.Sprintf(\"DenseLayer_%d\", ii))\n",
    "        // Add layer with residual connection.\n",
    "        tmp := Sigmoid(layer)\n",
    "        if *flagDropoutRate > 0 {\n",
    "            tmp = layers.Dropout(ctx, tmp, Scalar(g, ModelDType, *flagDropoutRate))\n",
    "        }\n",
    "        tmp = layers.DenseWithBias(ctx, tmp, *flagNumNodes)\n",
    "        layer = Add(layer, tmp)  // Residual connections\n",
    "    }\n",
    "    layer = Sigmoid(layer)\n",
    "    logits := layers.DenseWithBias(ctx.In(\"DenseFinal\"), layer, 1)\n",
    "    logits.AssertDims(batchSize, 1) // 2-dim tensor, with batch size as the leading dimension.\n",
    "    return []*Node{logits}\n",
    "}\n",
    "\n",
    "%%\n",
    "adult.LoadAndPreprocessData(*flagDataDir, *flagNumQuantiles, *flagForceDownload, *flagVerbosity)    \n",
    "\n",
    "// Let's just check that we get the right shape from the model function, wihtout any real data.\n",
    "graph := manager.NewGraph(\"test\")\n",
    "ctx := context.NewContext(manager)\n",
    "ctx.SetParam(optimizers.LearningRateKey, *flagLearningRate)\n",
    "\n",
    "// Create placeholder (parameters) graph nodes, just to test the graph building is working.\n",
    "inputs := []*Node{\n",
    "    // Categorical: shaped [batch_size, num_categorical]\n",
    "    graph.Parameter(\"categorical\", shapes.Make(shapes.Int64, *flagBatchSize, len(adult.Data.VocabulariesFeatures))),\n",
    "    // Continuous: shaped [batch_size, num_continuos]\n",
    "    graph.Parameter(\"continuous\", shapes.Make(shapes.Float32, *flagBatchSize, len(adult.Data.QuantilesFeatures))),\n",
    "    // Weights: shaped [batch_size, 1]\n",
    "    graph.Parameter(\"weights\", shapes.Make(shapes.Float32, *flagBatchSize, 1)),    \n",
    "}\n",
    "logits := ModelGraph(ctx, nil, inputs)\n",
    "fmt.Printf(\"Logits shape for batch_size=%d: %s\\n\", *flagBatchSize, logits[0].Shape())"
   ]
  },
  {
   "cell_type": "markdown",
   "id": "618e1c7a-ced1-4914-8530-0924e02f095c",
   "metadata": {},
   "source": [
    "## Training Loop\n",
    "\n",
    "We can create a training loop with only a `Manager`, a `Context` (for the model varibles) and the `ModelGraph` function.\n",
    "\n",
    "To make it more interesting we also add the following:\n",
    "\n",
    "* Accuracy metrics for training and testing.\n",
    "* Checkpoints -- so trained model can be saved, and reloaded.\n",
    "* A progress-bar that also shows training metrics.\n",
    "* We dynamically plot how the loss and accuracy evolve.\n",
    "\n",
    "First we define the corresponding flags and the `trainModel` function, and run it for very few steps to make sure\n",
    "it is working."
   ]
  },
  {
   "cell_type": "code",
   "execution_count": 6,
   "id": "daf39a7c-7cc8-43a5-ae79-026303f5f502",
   "metadata": {
    "tags": []
   },
   "outputs": [
    {
     "name": "stdout",
     "output_type": "stream",
     "text": [
      "Training (500 steps):  100% [\u001b[32m=\u001b[0m\u001b[32m=\u001b[0m\u001b[32m=\u001b[0m\u001b[32m=\u001b[0m\u001b[32m=\u001b[0m\u001b[32m=\u001b[0m\u001b[32m=\u001b[0m\u001b[32m=\u001b[0m\u001b[32m=\u001b[0m\u001b[32m=\u001b[0m\u001b[32m=\u001b[0m\u001b[32m=\u001b[0m\u001b[32m=\u001b[0m\u001b[32m=\u001b[0m\u001b[32m=\u001b[0m\u001b[32m=\u001b[0m\u001b[32m=\u001b[0m\u001b[32m=\u001b[0m\u001b[32m=\u001b[0m\u001b[32m=\u001b[0m\u001b[32m=\u001b[0m\u001b[32m=\u001b[0m\u001b[32m=\u001b[0m\u001b[32m=\u001b[0m\u001b[32m=\u001b[0m\u001b[32m=\u001b[0m\u001b[32m=\u001b[0m\u001b[32m=\u001b[0m\u001b[32m=\u001b[0m\u001b[32m=\u001b[0m\u001b[32m=\u001b[0m\u001b[32m=\u001b[0m\u001b[32m=\u001b[0m\u001b[32m=\u001b[0m\u001b[32m=\u001b[0m\u001b[32m=\u001b[0m\u001b[32m=\u001b[0m\u001b[32m=\u001b[0m\u001b[32m=\u001b[0m\u001b[32m=\u001b[0m] (232 steps/s)\u001b[0m [step=499] [loss+=0.381] [~loss+=0.385] [~loss=0.385] [~acc=82.32%]        \n",
      "\t[Step 500] median train step: 941 microseconds\n",
      "\n",
      "Results on batched train:\n",
      "\tMean Loss+Regularization (#loss+): 0.356\n",
      "\tMean Loss (#loss): 0.356\n",
      "\tMean Accuracy (#acc): 84.62%\n",
      "Results on test:\n",
      "\tMean Loss+Regularization (#loss+): 0.351\n",
      "\tMean Loss (#loss): 0.351\n",
      "\tMean Accuracy (#acc): 84.88%\n",
      "\n"
     ]
    }
   ],
   "source": [
    "import (\n",
    "    \"fmt\"\n",
    "    \"io\"\n",
    "    \"time\"\n",
    "\n",
    "    . \"github.com/gomlx/gomlx/graph\"\n",
    "\n",
    "    \"github.com/gomlx/exceptions\"\n",
    "    \"github.com/gomlx/gomlx/examples/adult\"\n",
    "    \"github.com/gomlx/gomlx/examples/notebook/gonb/margaid\"\n",
    "    \"github.com/gomlx/gomlx/examples/notebook/gonb/plotly\"\n",
    "    \"github.com/gomlx/gomlx/ml/context\"\n",
    "    \"github.com/gomlx/gomlx/ml/train\"\n",
    "    \"github.com/gomlx/gomlx/types/shapes\"\n",
    "    \"github.com/gomlx/gomlx/types/slices\"\n",
    "    \"github.com/gomlx/gomlx/types/tensor\"\n",
    "    \"github.com/janpfeifer/gonb/gonbui\"\n",
    ")\n",
    "\n",
    "var (\n",
    "    flagOptimizer      = flag.String(\"optimizer\", \"adam\", \"Type of optimizer to use: 'sgd' or 'adam'\")\n",
    "    flagLearningRate   = flag.Float64(\"learning_rate\", 0.001, \"Initial learning rate.\")\n",
    "    flagCheckpoint     = flag.String(\"checkpoint\", \"\", \"Directory save and load checkpoints from. If left empty, no checkpoints are created.\")\n",
    "    flagCheckpointKeep = flag.Int(\"checkpoint_keep\", 10, \"Number of checkpoints to keep, if --checkpoint is set.\")\n",
    "    flagPlots          = flag.Bool(\"plots\", true, \"Plots during training: perform periodic evaluations, \"+\n",
    "                                   \"save results if --checkpoint is set and draw plots, if in a Jupyter notebook.\")\n",
    "    flagPlotType       = flag.String(\"plot_type\", \"plotly\", \"Type of plot to use, values are \\\"plotly\\\" or \\\"margaid\\\"\")\n",
    ")\n",
    "\n",
    "func trainModel() {\n",
    "    // Fixes directories.\n",
    "    *flagDataDir = data.ReplaceTildeInDir(*flagDataDir)\n",
    "    *flagCheckpoint = data.ReplaceTildeInDir(*flagCheckpoint)\n",
    "    if *flagCheckpoint != \"\" && !path.IsAbs(*flagCheckpoint) {\n",
    "        *flagCheckpoint = path.Join(*flagDataDir, *flagCheckpoint)\n",
    "    }\n",
    "\n",
    "    // Load data and create datasets.\n",
    "    adult.LoadAndPreprocessData(*flagDataDir, *flagNumQuantiles, *flagForceDownload, *flagVerbosity)    \n",
    "    trainDS, trainEvalDS, testEvalDS := BuildDatasets(manager)\n",
    "\n",
    "    // Context holds the variables and optionally hyperparameters for the model.\n",
    "    ctx := context.NewContext(manager)\n",
    "    ctx.SetParam(optimizers.LearningRateKey, *flagLearningRate)\n",
    "\n",
    "    // Metrics we are interested.\n",
    "    meanAccuracyMetric := metrics.NewMeanBinaryLogitsAccuracy(\"Mean Accuracy\", \"#acc\")\n",
    "    movingAccuracyMetric := metrics.NewMovingAverageBinaryLogitsAccuracy(\"Moving Average Accuracy\", \"~acc\", 0.01)\n",
    "\n",
    "    // Checkpoints saving.\n",
    "    var checkpoint *checkpoints.Handler\n",
    "    if *flagCheckpoint != \"\" {\n",
    "        var err error\n",
    "        checkpoint, err = checkpoints.Build(ctx).Dir(*flagCheckpoint).Keep(*flagCheckpointKeep).Done()\n",
    "        if err != nil { panic(err) }\n",
    "        fmt.Printf(\"Checkpointing model to %q\\n\", checkpoint.Dir())\n",
    "        globalStep := optimizers.GetGlobalStep(ctx)\n",
    "        if globalStep != 0 {\n",
    "            fmt.Printf(\"Restarting training from global_step=%d\\n\", globalStep)\n",
    "        }\n",
    "    }\n",
    "\n",
    "    // Pick a known optimizer.\n",
    "    optimizerFn, found := optimizers.KnownOptimizers[*flagOptimizer]\n",
    "    if !found {\n",
    "        log.Fatalf(\"Unknown optimizer %q, please use one of %v\",\n",
    "            *flagOptimizer, slices.Keys(optimizers.KnownOptimizers))\n",
    "    }\n",
    "\n",
    "    // Create a train.Trainer: this object will orchestrate running the model, feeding\n",
    "    // results to the optimizer, evaluating the metrics, etc. (all happens in trainer.TrainStep)\n",
    "    trainer := train.NewTrainer(manager, ctx, ModelGraph, losses.BinaryCrossentropyLogits,\n",
    "        optimizerFn(),\n",
    "        []metrics.Interface{movingAccuracyMetric}, // trainMetrics\n",
    "        []metrics.Interface{meanAccuracyMetric})   // evalMetrics\n",
    "\n",
    "    // Use standard training loop.\n",
    "    loop := train.NewLoop(trainer)\n",
    "    commandline.AttachProgressBar(loop) // Attaches a progress bar to the loop.\n",
    "\n",
    "    // Attach a checkpoint: checkpoint every 1 minute of training.\n",
    "    if checkpoint != nil {\n",
    "        period := time.Minute * 1\n",
    "        train.PeriodicCallback(loop, period, true, \"saving checkpoint\", 100,\n",
    "            func(loop *train.Loop, metrics []tensor.Tensor) error {\n",
    "                fmt.Printf(\"\\n[saving checkpoint@%d] [median train step (ms): %d]\\n\", loop.LoopStep, loop.MedianTrainStepDuration().Milliseconds())\n",
    "                return checkpoint.Save()\n",
    "            })\n",
    "    }\n",
    "\n",
    "\t// Attach a margaid plots: plot points at exponential steps.\n",
    "    // Points (metrics) are saved along the checkpoint directory (if one is given).\n",
    "\tif *flagPlots {\n",
    "        switch *flagPlotType {\n",
    "        case \"margaid\":\n",
    "    \t\t_ = margaid.NewDefault(loop, checkpoint.Dir(), 100, 1.1, trainEvalDS, testEvalDS)\n",
    "        case \"plotly\":\n",
    "            _ = plotly.New().\n",
    "                WithCheckpoint(checkpoint.Dir()).\n",
    "                Dynamic(trainEvalDS, testEvalDS).\n",
    "                ScheduleExponential(loop, 100, 1.1)\n",
    "        default:\n",
    "            exceptions.Panicf(\"Invalid --plot_type=%q, valid values are %q or %q\", *flagPlotType, \"margaid\", \"plotly\")\n",
    "        }\n",
    "\t}\n",
    "\n",
    "    // Run the given number of steps.\n",
    "    _, err := loop.RunSteps(trainDS, *flagNumSteps)\n",
    "    if err != nil { panic(err) }\n",
    "    fmt.Printf(\"\\t[Step %d] median train step: %d microseconds\\n\", loop.LoopStep, loop.MedianTrainStepDuration().Microseconds())\n",
    "\n",
    "    // Print a final evaluation on train and test datasets.\n",
    "    fmt.Println()\n",
    "    err = commandline.ReportEval(trainer, trainEvalDS, testEvalDS)\n",
    "    if err != nil { panic(err) }\n",
    "    fmt.Println()\n",
    "}\n",
    "\n",
    "// Notice command line flags are passed in the %% notebook command. We set --plot=false here to disable plotting\n",
    "// since this is only a quick test that our train() loop is working. See below the final run for a full training.\n",
    "%% --steps=500 --plots=false\n",
    "trainModel()"
   ]
  },
  {
   "cell_type": "markdown",
   "id": "6bb5db6b-3a2c-4f48-8264-f90b22a52ed0",
   "metadata": {},
   "source": [
    "## Final run with 5K steps\n",
    "\n",
    "With everything working, we can do our final run.\n",
    "\n",
    "> **Note** here is where someone might want to hyperparameter tune, trying out different hyperparameters."
   ]
  },
  {
   "cell_type": "code",
   "execution_count": 7,
   "id": "a9d901d9-c503-4a94-8dec-a471a18bbbee",
   "metadata": {},
   "outputs": [],
   "source": [
    "// Remove previously trained model -- skip this cell, if you want to continue training.\n",
    "!rm -rf ~/work/uci-adult/base_model"
   ]
  },
  {
   "cell_type": "code",
   "execution_count": 8,
   "id": "66939463-60d7-446f-b4f3-1d60abe7c17c",
   "metadata": {
    "tags": []
   },
   "outputs": [
    {
     "name": "stdout",
     "output_type": "stream",
     "text": [
      "Checkpointing model to \"/home/janpf/work/uci-adult/base_model\"\n"
     ]
    },
    {
     "data": {
      "text/html": []
     },
     "metadata": {},
     "output_type": "display_data"
    },
    {
     "name": "stdout",
     "output_type": "stream",
     "text": [
      "Training (5000 steps):  100% [\u001b[32m=\u001b[0m\u001b[32m=\u001b[0m\u001b[32m=\u001b[0m\u001b[32m=\u001b[0m\u001b[32m=\u001b[0m\u001b[32m=\u001b[0m\u001b[32m=\u001b[0m\u001b[32m=\u001b[0m\u001b[32m=\u001b[0m\u001b[32m=\u001b[0m\u001b[32m=\u001b[0m\u001b[32m=\u001b[0m\u001b[32m=\u001b[0m\u001b[32m=\u001b[0m\u001b[32m=\u001b[0m\u001b[32m=\u001b[0m\u001b[32m=\u001b[0m\u001b[32m=\u001b[0m\u001b[32m=\u001b[0m\u001b[32m=\u001b[0m\u001b[32m=\u001b[0m\u001b[32m=\u001b[0m\u001b[32m=\u001b[0m\u001b[32m=\u001b[0m\u001b[32m=\u001b[0m\u001b[32m=\u001b[0m\u001b[32m=\u001b[0m\u001b[32m=\u001b[0m\u001b[32m=\u001b[0m\u001b[32m=\u001b[0m\u001b[32m=\u001b[0m\u001b[32m=\u001b[0m\u001b[32m=\u001b[0m\u001b[32m=\u001b[0m\u001b[32m=\u001b[0m\u001b[32m=\u001b[0m\u001b[32m=\u001b[0m\u001b[32m=\u001b[0m\u001b[32m=\u001b[0m\u001b[32m=\u001b[0m] (556 steps/s)\u001b[0m [step=4999] [loss+=0.312] [~loss+=0.275] [~loss=0.275] [~acc=87.35%]        \n",
      "\n",
      "[saving checkpoint@5000] [median train step (ms): 0]\n"
     ]
    },
    {
     "data": {
      "text/html": [
       "<svg width=\"1024\" height=\"454\" viewbox=\"0 0 1024 400\" style=\"background-color:#f8f8f8\" preserveAspectRatio=\"xMidYMid meet\" xmlns=\"http://www.w3.org/2000/svg\"><defs><marker refX=\"5\" refY=\"5\" markerUnits=\"userSpaceOnUse\" markerWidth=\"2%\" markerHeight=\"2%\" id=\"circle\" viewBox=\"0 0 10 10 \"><circle r=\"3\" fill=\"none\" stroke=\"black\" cx=\"5\" cy=\"5\"/></marker><marker id=\"filled-circle\" viewBox=\"0 0 10 10 \" refX=\"5\" refY=\"5\" markerUnits=\"userSpaceOnUse\" markerWidth=\"2%\" markerHeight=\"2%\"><circle r=\"3\" fill=\"black\" stroke=\"none\" cx=\"5\" cy=\"5\"/></marker><marker markerWidth=\"2%\" markerHeight=\"2%\" id=\"square\" viewBox=\"0 0 10 10 \" refX=\"5\" refY=\"5\" markerUnits=\"userSpaceOnUse\"><rect stroke=\"black\" x=\"2\" y=\"2\" width=\"6\" height=\"6\" fill=\"none\"/></marker><marker markerWidth=\"2%\" markerHeight=\"2%\" id=\"filled-square\" viewBox=\"0 0 10 10 \" refX=\"5\" refY=\"5\" markerUnits=\"userSpaceOnUse\"><rect x=\"2\" y=\"2\" width=\"6\" height=\"6\" fill=\"black\" stroke=\"none\"/></marker></defs><g stroke-linejoin=\"round\" marker-start=\"url(#square)\" transform=\"translate(70 330 )scale(1 -1 )\" fill=\"none\" stroke-width=\"2px\" stroke-linecap=\"round\" marker-end=\"url(#square)\" stroke=\"hsl(90, 47%, 65%)\" marker-mid=\"url(#square)\"><path d=\"M1.768000e+01,7.126093e+00 L1.786294e+02,9.849241e+01 L2.773355e+02,1.809417e+02 L3.506075e+02,1.895356e+02 L4.099543e+02,2.169971e+02 L4.607660e+02,2.232648e+02 L5.055983e+02,2.297910e+02 L5.461769e+02,2.321817e+02 L5.835664e+02,2.344433e+02 L6.184621e+02,2.353480e+02 L6.513380e+02,2.405817e+02 L6.825291e+02,2.426494e+02 L7.123676e+02,2.442003e+02 L7.410809e+02,2.465910e+02 L7.688274e+02,2.471079e+02 L7.957190e+02,2.477541e+02 L8.218897e+02,2.487233e+02 L8.474287e+02,2.483356e+02 L8.663200e+02,2.487880e+02 \" vector-effect=\"non-scaling-stroke\"/></g><g fill=\"none\" stroke-width=\"2px\" stroke-linecap=\"round\" transform=\"translate(70 330 )scale(1 -1 )\" marker-mid=\"url(#square)\" stroke=\"hsl(301, 88%, 65%)\" stroke-linejoin=\"round\" marker-start=\"url(#square)\" marker-end=\"url(#square)\"><path vector-effect=\"non-scaling-stroke\" d=\"M1.768000e+01,1.676897e+01 L1.786294e+02,1.008957e+02 L2.773355e+02,1.874777e+02 L3.506075e+02,1.951022e+02 L4.099543e+02,2.248244e+02 L4.607660e+02,2.228859e+02 L5.055983e+02,2.272797e+02 L5.461769e+02,2.310273e+02 L5.835664e+02,2.292180e+02 L6.184621e+02,2.301226e+02 L6.513380e+02,2.332241e+02 L6.825291e+02,2.403315e+02 L7.123676e+02,2.411069e+02 L7.410809e+02,2.411069e+02 L7.688274e+02,2.418823e+02 L7.957190e+02,2.387808e+02 L8.218897e+02,2.431746e+02 L8.474287e+02,2.429161e+02 L8.663200e+02,2.426577e+02 \"/></g><g marker-end=\"url(#square)\" stroke-width=\"2px\" stroke-linecap=\"round\" transform=\"translate(70 330 )scale(1 -1 )\" stroke=\"hsl(152, 76%, 65%)\" stroke-linejoin=\"round\" marker-start=\"url(#square)\" fill=\"none\" marker-mid=\"url(#square)\"><path d=\"M1.768000e+01,5.200000e+00 L1.786294e+02,1.033320e+01 L2.773355e+02,1.112663e+02 L3.506075e+02,1.776517e+02 L4.099543e+02,2.007983e+02 L4.607660e+02,2.190231e+02 L5.055983e+02,2.250507e+02 L5.461769e+02,2.360292e+02 L5.835664e+02,2.300388e+02 L6.184621e+02,2.281329e+02 L6.513380e+02,2.372470e+02 L6.825291e+02,2.377006e+02 L7.123676e+02,2.446105e+02 L7.410809e+02,2.420054e+02 L7.688274e+02,2.548000e+02 L7.957190e+02,2.445352e+02 L8.218897e+02,2.466942e+02 L8.474287e+02,2.421587e+02 L8.663200e+02,2.477297e+02 \" vector-effect=\"non-scaling-stroke\"/></g><g stroke-width=\"2px\" stroke-linecap=\"round\" transform=\"translate(70 330 )scale(1 -1 )\" stroke=\"black\" stroke-linejoin=\"round\" fill=\"none\"><path vector-effect=\"non-scaling-stroke\" d=\"M1.768000e+01,0 L1.768000e+01,-6 M1.680453e+02,0 L1.680453e+02,-6 M2.560033e+02,0 L2.560033e+02,-6 M3.184106e+02,0 L3.184106e+02,-6 M3.668174e+02,0 L3.668174e+02,-6 M4.063686e+02,0 L4.063686e+02,-6 M4.398087e+02,0 L4.398087e+02,-6 M4.687758e+02,0 L4.687758e+02,-6 M4.943267e+02,0 L4.943267e+02,-6 M5.171826e+02,0 L5.171826e+02,-6 M5.378584e+02,0 L5.378584e+02,-6 M6.675479e+02,0 L6.675479e+02,-6 M7.555060e+02,0 L7.555060e+02,-6 M8.179132e+02,0 L8.179132e+02,-6 M8.663200e+02,0 L8.663200e+02,-6 \"/></g><g font-family=\"sans-serif\" stroke-linejoin=\"round\" font-weight=\"normal\" stroke-width=\"2px\" transform=\"translate(70 330 )scale(1 1 )\" text-anchor=\"middle\" stroke=\"black\" font-size=\"12px\" font-style=\"normal\" dominant-baseline=\"hanging\" fill=\"black\" stroke-linecap=\"round\"><text y=\"10\" dominant-baseline=\"hanging\" stroke=\"none\" vector-effect=\"non-scaling-stroke\" x=\"1.768000e+01\">100</text><text stroke=\"none\" vector-effect=\"non-scaling-stroke\" x=\"1.680453e+02\" y=\"10\" dominant-baseline=\"hanging\">200</text><text x=\"2.560033e+02\" y=\"10\" dominant-baseline=\"hanging\" stroke=\"none\" vector-effect=\"non-scaling-stroke\">300</text><text dominant-baseline=\"hanging\" stroke=\"none\" vector-effect=\"non-scaling-stroke\" x=\"3.184106e+02\" y=\"10\">400</text><text stroke=\"none\" vector-effect=\"non-scaling-stroke\" x=\"3.668174e+02\" y=\"10\" dominant-baseline=\"hanging\">500</text><text x=\"4.063686e+02\" y=\"10\" dominant-baseline=\"hanging\" stroke=\"none\" vector-effect=\"non-scaling-stroke\">600</text><text stroke=\"none\" vector-effect=\"non-scaling-stroke\" x=\"4.398087e+02\" y=\"10\" dominant-baseline=\"hanging\">700</text><text vector-effect=\"non-scaling-stroke\" x=\"4.687758e+02\" y=\"10\" dominant-baseline=\"hanging\" stroke=\"none\">800</text><text x=\"4.943267e+02\" y=\"10\" dominant-baseline=\"hanging\" stroke=\"none\" vector-effect=\"non-scaling-stroke\">900</text><text stroke=\"none\" vector-effect=\"non-scaling-stroke\" x=\"5.171826e+02\" y=\"10\" dominant-baseline=\"hanging\">1000</text><text x=\"5.378584e+02\" y=\"10\" dominant-baseline=\"hanging\" stroke=\"none\" vector-effect=\"non-scaling-stroke\">1100</text><text stroke=\"none\" vector-effect=\"non-scaling-stroke\" x=\"6.675479e+02\" y=\"10\" dominant-baseline=\"hanging\">2000</text><text stroke=\"none\" vector-effect=\"non-scaling-stroke\" x=\"7.555060e+02\" y=\"10\" dominant-baseline=\"hanging\">3000</text><text stroke=\"none\" vector-effect=\"non-scaling-stroke\" x=\"8.179132e+02\" y=\"10\" dominant-baseline=\"hanging\">4000</text><text stroke=\"none\" vector-effect=\"non-scaling-stroke\" x=\"8.663200e+02\" y=\"10\" dominant-baseline=\"hanging\">5000</text></g><g font-family=\"sans-serif\" text-anchor=\"middle\" stroke-width=\"2px\" font-weight=\"bold\" dominant-baseline=\"baseline\" transform=\"translate(70 330 )scale(1 1 )rotate(0 0 0 )\" stroke-linejoin=\"round\" stroke-linecap=\"round\" fill=\"black\" font-size=\"12px\" font-style=\"normal\" stroke=\"black\"><text stroke=\"none\" vector-effect=\"non-scaling-stroke\" x=\"442\" y=\"-6\" dominant-baseline=\"baseline\">Steps</text></g><g stroke-linecap=\"round\" transform=\"translate(70 330 )scale(1 -1 )\" dominant-baseline=\"baseline\" stroke=\"black\" stroke-linejoin=\"round\" font-family=\"sans-serif\" text-anchor=\"middle\" fill=\"black\" stroke-width=\"2px\" font-weight=\"bold\" font-size=\"12px\" font-style=\"normal\"><path vector-effect=\"non-scaling-stroke\" d=\"M0,5.090824e+01 L-6,5.090824e+01 M0,1.140266e+02 L-6,1.140266e+02 M0,1.771449e+02 L-6,1.771449e+02 M0,2.402632e+02 L-6,2.402632e+02 \"/></g><g font-family=\"sans-serif\" text-anchor=\"end\" stroke-linejoin=\"round\" font-size=\"12px\" stroke-width=\"2px\" stroke-linecap=\"round\" fill=\"black\" transform=\"translate(70 330 )scale(1 1 )\" stroke=\"black\" font-style=\"normal\" font-weight=\"normal\" dominant-baseline=\"middle\"><text x=\"-10\" y=\"-5.090824e+01\" dominant-baseline=\"middle\" stroke=\"none\" vector-effect=\"non-scaling-stroke\">0.780</text><text stroke=\"none\" vector-effect=\"non-scaling-stroke\" x=\"-10\" y=\"-1.140266e+02\" dominant-baseline=\"middle\">0.810</text><text stroke=\"none\" vector-effect=\"non-scaling-stroke\" x=\"-10\" y=\"-1.771449e+02\" dominant-baseline=\"middle\">0.840</text><text dominant-baseline=\"middle\" stroke=\"none\" vector-effect=\"non-scaling-stroke\" x=\"-10\" y=\"-2.402632e+02\">0.870</text></g><g transform=\"translate(70 330 )scale(1 1 )rotate(-90 0 0 )\" font-family=\"sans-serif\" stroke=\"black\" stroke-linejoin=\"round\" font-size=\"12px\" font-style=\"normal\" stroke-width=\"2px\" stroke-linecap=\"round\" dominant-baseline=\"hanging\" font-weight=\"bold\" fill=\"black\" text-anchor=\"middle\"><text x=\"130\" y=\"6\" dominant-baseline=\"hanging\" stroke=\"none\" vector-effect=\"non-scaling-stroke\">accuracy</text></g><g stroke-linecap=\"round\" transform=\"translate(70 330 )scale(1 -1 )\" font-family=\"sans-serif\" text-anchor=\"middle\" fill=\"black\" font-size=\"12px\" font-style=\"normal\" stroke-width=\"0.5px\" stroke-linejoin=\"round\" font-weight=\"bold\" dominant-baseline=\"hanging\" stroke=\"gray\"><path vector-effect=\"non-scaling-stroke\" d=\"M0,5.090824e+01 L884,5.090824e+01 M0,1.140266e+02 L884,1.140266e+02 M0,1.771449e+02 L884,1.771449e+02 M0,2.402632e+02 L884,2.402632e+02 \"/></g><g font-size=\"12px\" font-style=\"normal\" font-weight=\"bold\" fill=\"none\" stroke-width=\"2px\" stroke-linecap=\"round\" text-anchor=\"middle\" stroke-linejoin=\"round\" dominant-baseline=\"hanging\" font-family=\"sans-serif\" stroke=\"black\"><rect vector-effect=\"non-scaling-stroke\" x=\"70\" y=\"70\" width=\"884\" height=\"260\"/><g font-size=\"18px\" fill=\"black\" dominant-baseline=\"middle\"><text y=\"35\" dominant-baseline=\"middle\" stroke=\"none\" vector-effect=\"non-scaling-stroke\" x=\"512\">accuracy metrics</text></g><g stroke-linejoin=\"round\" font-weight=\"normal\" dominant-baseline=\"hanging\" stroke-width=\"1px\" text-anchor=\"start\" fill=\"hsl(90, 47%, 65%)\" font-size=\"12px\" font-style=\"normal\" stroke=\"hsl(90, 47%, 65%)\" stroke-linecap=\"round\" font-family=\"sans-serif\"><rect height=\"12\" vector-effect=\"non-scaling-stroke\" x=\"76\" y=\"366\" width=\"12\"/><g stroke=\"black\" fill=\"black\"><text stroke=\"none\" vector-effect=\"non-scaling-stroke\" x=\"92\" y=\"366\" dominant-baseline=\"hanging\">Eval on batched train: Mean Accuracy</text></g><g fill=\"hsl(301, 88%, 65%)\" stroke-linejoin=\"round\" font-style=\"normal\" dominant-baseline=\"hanging\" stroke=\"hsl(301, 88%, 65%)\" stroke-linecap=\"round\" font-size=\"12px\" font-weight=\"normal\" stroke-width=\"1px\" font-family=\"sans-serif\" text-anchor=\"start\"><rect width=\"12\" height=\"12\" vector-effect=\"non-scaling-stroke\" x=\"76\" y=\"384\"/><g stroke=\"black\" fill=\"black\"><text dominant-baseline=\"hanging\" stroke=\"none\" vector-effect=\"non-scaling-stroke\" x=\"92\" y=\"384\">Eval on test: Mean Accuracy</text></g><g stroke-linecap=\"round\" stroke-linejoin=\"round\" font-size=\"12px\" font-style=\"normal\" dominant-baseline=\"hanging\" font-weight=\"normal\" fill=\"hsl(152, 76%, 65%)\" stroke-width=\"1px\" font-family=\"sans-serif\" text-anchor=\"start\" stroke=\"hsl(152, 76%, 65%)\"><rect y=\"402\" width=\"12\" height=\"12\" vector-effect=\"non-scaling-stroke\" x=\"76\"/><g fill=\"black\" stroke=\"black\"><text vector-effect=\"non-scaling-stroke\" x=\"92\" y=\"402\" dominant-baseline=\"hanging\" stroke=\"none\">Train: Moving Average Accuracy</text></g></g></g></g></g></svg>"
      ]
     },
     "metadata": {},
     "output_type": "display_data"
    },
    {
     "data": {
      "text/html": [
       "<svg style=\"background-color:#f8f8f8\" preserveAspectRatio=\"xMidYMid meet\" xmlns=\"http://www.w3.org/2000/svg\" width=\"1024\" height=\"526\" viewbox=\"0 0 1024 400\"><defs><marker refY=\"5\" markerUnits=\"userSpaceOnUse\" markerWidth=\"2%\" markerHeight=\"2%\" id=\"circle\" viewBox=\"0 0 10 10 \" refX=\"5\"><circle cx=\"5\" cy=\"5\" r=\"3\" fill=\"none\" stroke=\"black\"/></marker><marker refX=\"5\" refY=\"5\" markerUnits=\"userSpaceOnUse\" markerWidth=\"2%\" markerHeight=\"2%\" id=\"filled-circle\" viewBox=\"0 0 10 10 \"><circle cx=\"5\" cy=\"5\" r=\"3\" fill=\"black\" stroke=\"none\"/></marker><marker viewBox=\"0 0 10 10 \" refX=\"5\" refY=\"5\" markerUnits=\"userSpaceOnUse\" markerWidth=\"2%\" markerHeight=\"2%\" id=\"square\"><rect fill=\"none\" stroke=\"black\" x=\"2\" y=\"2\" width=\"6\" height=\"6\"/></marker><marker markerUnits=\"userSpaceOnUse\" markerWidth=\"2%\" markerHeight=\"2%\" id=\"filled-square\" viewBox=\"0 0 10 10 \" refX=\"5\" refY=\"5\"><rect y=\"2\" width=\"6\" height=\"6\" fill=\"black\" stroke=\"none\" x=\"2\"/></marker></defs><g marker-end=\"url(#square)\" fill=\"none\" stroke-width=\"2px\" stroke-linecap=\"round\" marker-mid=\"url(#square)\" transform=\"translate(70 330 )scale(1 -1 )\" stroke=\"hsl(90, 47%, 65%)\" marker-start=\"url(#square)\" stroke-linejoin=\"round\"><path vector-effect=\"non-scaling-stroke\" d=\"M1.768000e+01,2.418534e+02 L1.786294e+02,1.395344e+02 L2.773355e+02,1.057086e+02 L3.506075e+02,9.246962e+01 L4.099543e+02,8.442056e+01 L4.607660e+02,7.464314e+01 L5.055983e+02,7.064484e+01 L5.461769e+02,6.779967e+01 L5.835664e+02,6.656536e+01 L6.184621e+02,6.628843e+01 L6.513380e+02,6.304396e+01 L6.825291e+02,5.999627e+01 L7.123676e+02,5.721193e+01 L7.410809e+02,5.562878e+01 L7.688274e+02,5.535546e+01 L7.957190e+02,5.507832e+01 L8.218897e+02,5.334106e+01 L8.474287e+02,5.235734e+01 L8.663200e+02,5.227699e+01 \"/></g><g marker-start=\"url(#square)\" stroke-width=\"2px\" stroke-linecap=\"round\" stroke=\"hsl(301, 88%, 65%)\" marker-mid=\"url(#square)\" marker-end=\"url(#square)\" transform=\"translate(70 330 )scale(1 -1 )\" fill=\"none\" stroke-linejoin=\"round\"><path vector-effect=\"non-scaling-stroke\" d=\"M1.768000e+01,2.418534e+02 L1.786294e+02,1.395344e+02 L2.773355e+02,1.057086e+02 L3.506075e+02,9.246962e+01 L4.099543e+02,8.442056e+01 L4.607660e+02,7.464314e+01 L5.055983e+02,7.064484e+01 L5.461769e+02,6.779967e+01 L5.835664e+02,6.656536e+01 L6.184621e+02,6.628843e+01 L6.513380e+02,6.304396e+01 L6.825291e+02,5.999627e+01 L7.123676e+02,5.721193e+01 L7.410809e+02,5.562878e+01 L7.688274e+02,5.535546e+01 L7.957190e+02,5.507832e+01 L8.218897e+02,5.334106e+01 L8.474287e+02,5.235734e+01 L8.663200e+02,5.227699e+01 \"/></g><g marker-start=\"url(#square)\" marker-end=\"url(#square)\" transform=\"translate(70 330 )scale(1 -1 )\" fill=\"none\" stroke-linejoin=\"round\" marker-mid=\"url(#square)\" stroke=\"hsl(152, 76%, 65%)\" stroke-width=\"2px\" stroke-linecap=\"round\"><path vector-effect=\"non-scaling-stroke\" d=\"M1.768000e+01,2.384138e+02 L1.786294e+02,1.356703e+02 L2.773355e+02,1.033171e+02 L3.506075e+02,9.179751e+01 L4.099543e+02,8.381769e+01 L4.607660e+02,7.536443e+01 L5.055983e+02,7.149062e+01 L5.461769e+02,6.912856e+01 L5.835664e+02,6.812973e+01 L6.184621e+02,6.787513e+01 L6.513380e+02,6.519328e+01 L6.825291e+02,6.262114e+01 L7.123676e+02,6.032726e+01 L7.410809e+02,5.900879e+01 L7.688274e+02,5.888926e+01 L7.957190e+02,5.894080e+01 L8.218897e+02,5.681909e+01 L8.474287e+02,5.654553e+01 L8.663200e+02,5.660183e+01 \"/></g><g stroke=\"hsl(3, 64%, 65%)\" marker-start=\"url(#square)\" marker-end=\"url(#square)\" transform=\"translate(70 330 )scale(1 -1 )\" stroke-width=\"2px\" stroke-linejoin=\"round\" fill=\"none\" stroke-linecap=\"round\" marker-mid=\"url(#square)\"><path d=\"M1.768000e+01,2.384138e+02 L1.786294e+02,1.356703e+02 L2.773355e+02,1.033171e+02 L3.506075e+02,9.179751e+01 L4.099543e+02,8.381769e+01 L4.607660e+02,7.536443e+01 L5.055983e+02,7.149062e+01 L5.461769e+02,6.912856e+01 L5.835664e+02,6.812973e+01 L6.184621e+02,6.787513e+01 L6.513380e+02,6.519328e+01 L6.825291e+02,6.262114e+01 L7.123676e+02,6.032726e+01 L7.410809e+02,5.900879e+01 L7.688274e+02,5.888926e+01 L7.957190e+02,5.894080e+01 L8.218897e+02,5.681909e+01 L8.474287e+02,5.654553e+01 L8.663200e+02,5.660183e+01 \" vector-effect=\"non-scaling-stroke\"/></g><g marker-start=\"url(#square)\" stroke=\"hsl(214, 52%, 65%)\" transform=\"translate(70 330 )scale(1 -1 )\" fill=\"none\" marker-end=\"url(#square)\" stroke-width=\"2px\" stroke-linecap=\"round\" stroke-linejoin=\"round\" marker-mid=\"url(#square)\"><path vector-effect=\"non-scaling-stroke\" d=\"M1.768000e+01,2.548000e+02 L1.786294e+02,1.543018e+02 L2.773355e+02,1.264097e+02 L3.506075e+02,5.159880e+01 L4.099543e+02,3.982160e+01 L4.607660e+02,4.148186e+01 L5.055983e+02,2.903388e+01 L5.461769e+02,3.710912e+01 L5.835664e+02,1.068750e+02 L6.184621e+02,7.120638e+01 L6.513380e+02,2.838743e+01 L6.825291e+02,5.217036e+01 L7.123676e+02,4.429246e+01 L7.410809e+02,5.954782e+01 L7.688274e+02,4.791828e+01 L7.957190e+02,2.927629e+01 L8.218897e+02,5.200000e+00 L8.474287e+02,6.738146e+01 L8.663200e+02,7.869231e+01 \"/></g><g marker-end=\"url(#square)\" stroke-width=\"2px\" stroke-linejoin=\"round\" transform=\"translate(70 330 )scale(1 -1 )\" stroke=\"hsl(65, 93%, 65%)\" marker-start=\"url(#square)\" marker-mid=\"url(#square)\" fill=\"none\" stroke-linecap=\"round\"><path vector-effect=\"non-scaling-stroke\" d=\"M1.768000e+01,2.532811e+02 L1.786294e+02,2.146771e+02 L2.773355e+02,1.487542e+02 L3.506075e+02,1.074810e+02 L4.099543e+02,8.961989e+01 L4.607660e+02,7.901743e+01 L5.055983e+02,7.496490e+01 L5.461769e+02,6.804037e+01 L5.835664e+02,6.765901e+01 L6.184621e+02,6.928315e+01 L6.513380e+02,6.324720e+01 L6.825291e+02,6.034108e+01 L7.123676e+02,5.638534e+01 L7.410809e+02,5.806587e+01 L7.688274e+02,5.396384e+01 L7.957190e+02,5.612700e+01 L8.218897e+02,5.428149e+01 L8.474287e+02,5.409211e+01 L8.663200e+02,5.324523e+01 \"/></g><g marker-start=\"url(#square)\" fill=\"none\" stroke-linejoin=\"round\" transform=\"translate(70 330 )scale(1 -1 )\" stroke=\"hsl(276, 81%, 65%)\" stroke-width=\"2px\" stroke-linecap=\"round\" marker-mid=\"url(#square)\" marker-end=\"url(#square)\"><path vector-effect=\"non-scaling-stroke\" d=\"M1.768000e+01,2.532811e+02 L1.786294e+02,2.146771e+02 L2.773355e+02,1.487542e+02 L3.506075e+02,1.074810e+02 L4.099543e+02,8.961989e+01 L4.607660e+02,7.901743e+01 L5.055983e+02,7.496490e+01 L5.461769e+02,6.804037e+01 L5.835664e+02,6.765901e+01 L6.184621e+02,6.928315e+01 L6.513380e+02,6.324720e+01 L6.825291e+02,6.034108e+01 L7.123676e+02,5.638534e+01 L7.410809e+02,5.806587e+01 L7.688274e+02,5.396384e+01 L7.957190e+02,5.612700e+01 L8.218897e+02,5.428149e+01 L8.474287e+02,5.409211e+01 L8.663200e+02,5.324523e+01 \"/></g><g stroke-width=\"2px\" stroke-linecap=\"round\" stroke-linejoin=\"round\" transform=\"translate(70 330 )scale(1 -1 )\" stroke=\"black\" fill=\"none\"><path vector-effect=\"non-scaling-stroke\" d=\"M1.768000e+01,0 L1.768000e+01,-6 M1.680453e+02,0 L1.680453e+02,-6 M2.560033e+02,0 L2.560033e+02,-6 M3.184106e+02,0 L3.184106e+02,-6 M3.668174e+02,0 L3.668174e+02,-6 M4.063686e+02,0 L4.063686e+02,-6 M4.398087e+02,0 L4.398087e+02,-6 M4.687758e+02,0 L4.687758e+02,-6 M4.943267e+02,0 L4.943267e+02,-6 M5.171826e+02,0 L5.171826e+02,-6 M5.378584e+02,0 L5.378584e+02,-6 M6.675479e+02,0 L6.675479e+02,-6 M7.555060e+02,0 L7.555060e+02,-6 M8.179132e+02,0 L8.179132e+02,-6 M8.663200e+02,0 L8.663200e+02,-6 \"/></g><g stroke-linecap=\"round\" stroke-linejoin=\"round\" font-family=\"sans-serif\" stroke-width=\"2px\" transform=\"translate(70 330 )scale(1 1 )\" stroke=\"black\" font-weight=\"normal\" text-anchor=\"middle\" font-size=\"12px\" font-style=\"normal\" fill=\"black\" dominant-baseline=\"hanging\"><text x=\"1.768000e+01\" y=\"10\" dominant-baseline=\"hanging\" stroke=\"none\" vector-effect=\"non-scaling-stroke\">100</text><text dominant-baseline=\"hanging\" stroke=\"none\" vector-effect=\"non-scaling-stroke\" x=\"1.680453e+02\" y=\"10\">200</text><text vector-effect=\"non-scaling-stroke\" x=\"2.560033e+02\" y=\"10\" dominant-baseline=\"hanging\" stroke=\"none\">300</text><text x=\"3.184106e+02\" y=\"10\" dominant-baseline=\"hanging\" stroke=\"none\" vector-effect=\"non-scaling-stroke\">400</text><text dominant-baseline=\"hanging\" stroke=\"none\" vector-effect=\"non-scaling-stroke\" x=\"3.668174e+02\" y=\"10\">500</text><text y=\"10\" dominant-baseline=\"hanging\" stroke=\"none\" vector-effect=\"non-scaling-stroke\" x=\"4.063686e+02\">600</text><text vector-effect=\"non-scaling-stroke\" x=\"4.398087e+02\" y=\"10\" dominant-baseline=\"hanging\" stroke=\"none\">700</text><text x=\"4.687758e+02\" y=\"10\" dominant-baseline=\"hanging\" stroke=\"none\" vector-effect=\"non-scaling-stroke\">800</text><text vector-effect=\"non-scaling-stroke\" x=\"4.943267e+02\" y=\"10\" dominant-baseline=\"hanging\" stroke=\"none\">900</text><text vector-effect=\"non-scaling-stroke\" x=\"5.171826e+02\" y=\"10\" dominant-baseline=\"hanging\" stroke=\"none\">1000</text><text dominant-baseline=\"hanging\" stroke=\"none\" vector-effect=\"non-scaling-stroke\" x=\"5.378584e+02\" y=\"10\">1100</text><text stroke=\"none\" vector-effect=\"non-scaling-stroke\" x=\"6.675479e+02\" y=\"10\" dominant-baseline=\"hanging\">2000</text><text y=\"10\" dominant-baseline=\"hanging\" stroke=\"none\" vector-effect=\"non-scaling-stroke\" x=\"7.555060e+02\">3000</text><text stroke=\"none\" vector-effect=\"non-scaling-stroke\" x=\"8.179132e+02\" y=\"10\" dominant-baseline=\"hanging\">4000</text><text stroke=\"none\" vector-effect=\"non-scaling-stroke\" x=\"8.663200e+02\" y=\"10\" dominant-baseline=\"hanging\">5000</text></g><g font-style=\"normal\" stroke-width=\"2px\" stroke-linecap=\"round\" stroke-linejoin=\"round\" font-family=\"sans-serif\" font-size=\"12px\" font-weight=\"bold\" fill=\"black\" transform=\"translate(70 330 )scale(1 1 )rotate(0 0 0 )\" stroke=\"black\" text-anchor=\"middle\" dominant-baseline=\"baseline\"><text vector-effect=\"non-scaling-stroke\" x=\"442\" y=\"-6\" dominant-baseline=\"baseline\" stroke=\"none\">Steps</text></g><g font-size=\"12px\" stroke=\"black\" dominant-baseline=\"baseline\" font-style=\"normal\" transform=\"translate(70 330 )scale(1 -1 )\" stroke-linecap=\"round\" stroke-linejoin=\"round\" font-family=\"sans-serif\" font-weight=\"bold\" text-anchor=\"middle\" fill=\"black\" stroke-width=\"2px\"><path vector-effect=\"non-scaling-stroke\" d=\"M0,7.028321e+01 L-6,7.028321e+01 M0,1.387752e+02 L-6,1.387752e+02 M0,2.072671e+02 L-6,2.072671e+02 \"/></g><g dominant-baseline=\"middle\" transform=\"translate(70 330 )scale(1 1 )\" font-family=\"sans-serif\" font-size=\"12px\" font-style=\"normal\" stroke=\"black\" font-weight=\"normal\" text-anchor=\"end\" stroke-linejoin=\"round\" fill=\"black\" stroke-width=\"2px\" stroke-linecap=\"round\"><text vector-effect=\"non-scaling-stroke\" x=\"-10\" y=\"-7.028321e+01\" dominant-baseline=\"middle\" stroke=\"none\">0.300</text><text y=\"-1.387752e+02\" dominant-baseline=\"middle\" stroke=\"none\" vector-effect=\"non-scaling-stroke\" x=\"-10\">0.400</text><text vector-effect=\"non-scaling-stroke\" x=\"-10\" y=\"-2.072671e+02\" dominant-baseline=\"middle\" stroke=\"none\">0.500</text></g><g text-anchor=\"middle\" transform=\"translate(70 330 )scale(1 1 )rotate(-90 0 0 )\" font-family=\"sans-serif\" font-size=\"12px\" stroke-width=\"2px\" stroke=\"black\" font-weight=\"bold\" stroke-linejoin=\"round\" font-style=\"normal\" fill=\"black\" stroke-linecap=\"round\" dominant-baseline=\"hanging\"><text dominant-baseline=\"hanging\" stroke=\"none\" vector-effect=\"non-scaling-stroke\" x=\"130\" y=\"6\">loss</text></g><g font-style=\"normal\" fill=\"black\" font-weight=\"bold\" text-anchor=\"middle\" dominant-baseline=\"hanging\" stroke=\"gray\" stroke-linecap=\"round\" font-size=\"12px\" transform=\"translate(70 330 )scale(1 -1 )\" font-family=\"sans-serif\" stroke-width=\"0.5px\" stroke-linejoin=\"round\"><path d=\"M0,7.028321e+01 L884,7.028321e+01 M0,1.387752e+02 L884,1.387752e+02 M0,2.072671e+02 L884,2.072671e+02 \" vector-effect=\"non-scaling-stroke\"/></g><g stroke-linecap=\"round\" font-weight=\"bold\" text-anchor=\"middle\" dominant-baseline=\"hanging\" font-size=\"12px\" font-style=\"normal\" stroke-width=\"2px\" stroke=\"black\" font-family=\"sans-serif\" fill=\"none\" stroke-linejoin=\"round\"><rect vector-effect=\"non-scaling-stroke\" x=\"70\" y=\"70\" width=\"884\" height=\"260\"/><g font-size=\"18px\" fill=\"black\" dominant-baseline=\"middle\"><text stroke=\"none\" vector-effect=\"non-scaling-stroke\" x=\"512\" y=\"35\" dominant-baseline=\"middle\">loss metrics</text></g><g text-anchor=\"start\" stroke-linecap=\"round\" font-style=\"normal\" stroke-width=\"1px\" dominant-baseline=\"hanging\" stroke=\"hsl(90, 47%, 65%)\" font-weight=\"normal\" stroke-linejoin=\"round\" font-family=\"sans-serif\" font-size=\"12px\" fill=\"hsl(90, 47%, 65%)\"><rect x=\"76\" y=\"366\" width=\"12\" height=\"12\" vector-effect=\"non-scaling-stroke\"/><g stroke=\"black\" fill=\"black\"><text dominant-baseline=\"hanging\" stroke=\"none\" vector-effect=\"non-scaling-stroke\" x=\"92\" y=\"366\">Eval on batched train: Mean Loss</text></g><g stroke-linejoin=\"round\" dominant-baseline=\"hanging\" font-size=\"12px\" fill=\"hsl(301, 88%, 65%)\" stroke-width=\"1px\" stroke-linecap=\"round\" text-anchor=\"start\" font-style=\"normal\" font-family=\"sans-serif\" stroke=\"hsl(301, 88%, 65%)\" font-weight=\"normal\"><rect height=\"12\" vector-effect=\"non-scaling-stroke\" x=\"76\" y=\"384\" width=\"12\"/><g fill=\"black\" stroke=\"black\"><text stroke=\"none\" vector-effect=\"non-scaling-stroke\" x=\"92\" y=\"384\" dominant-baseline=\"hanging\">Eval on batched train: Mean Loss+Regularization</text></g><g font-style=\"normal\" stroke-width=\"1px\" stroke-linecap=\"round\" stroke=\"hsl(152, 76%, 65%)\" font-weight=\"normal\" dominant-baseline=\"hanging\" font-family=\"sans-serif\" font-size=\"12px\" fill=\"hsl(152, 76%, 65%)\" stroke-linejoin=\"round\" text-anchor=\"start\"><rect vector-effect=\"non-scaling-stroke\" x=\"76\" y=\"402\" width=\"12\" height=\"12\"/><g stroke=\"black\" fill=\"black\"><text x=\"92\" y=\"402\" dominant-baseline=\"hanging\" stroke=\"none\" vector-effect=\"non-scaling-stroke\">Eval on test: Mean Loss</text></g><g stroke-linejoin=\"round\" text-anchor=\"start\" stroke=\"hsl(3, 64%, 65%)\" dominant-baseline=\"hanging\" stroke-width=\"1px\" stroke-linecap=\"round\" font-family=\"sans-serif\" font-size=\"12px\" font-style=\"normal\" fill=\"hsl(3, 64%, 65%)\" font-weight=\"normal\"><rect height=\"12\" vector-effect=\"non-scaling-stroke\" x=\"76\" y=\"420\" width=\"12\"/><g stroke=\"black\" fill=\"black\"><text vector-effect=\"non-scaling-stroke\" x=\"92\" y=\"420\" dominant-baseline=\"hanging\" stroke=\"none\">Eval on test: Mean Loss+Regularization</text></g><g font-style=\"normal\" stroke-linejoin=\"round\" font-weight=\"normal\" text-anchor=\"start\" font-family=\"sans-serif\" font-size=\"12px\" stroke-linecap=\"round\" stroke=\"hsl(214, 52%, 65%)\" dominant-baseline=\"hanging\" fill=\"hsl(214, 52%, 65%)\" stroke-width=\"1px\"><rect vector-effect=\"non-scaling-stroke\" x=\"76\" y=\"438\" width=\"12\" height=\"12\"/><g fill=\"black\" stroke=\"black\"><text dominant-baseline=\"hanging\" stroke=\"none\" vector-effect=\"non-scaling-stroke\" x=\"92\" y=\"438\">Train: Batch Loss+Regularization</text></g><g dominant-baseline=\"hanging\" fill=\"hsl(65, 93%, 65%)\" stroke-linejoin=\"round\" font-family=\"sans-serif\" font-style=\"normal\" stroke=\"hsl(65, 93%, 65%)\" font-weight=\"normal\" text-anchor=\"start\" stroke-width=\"1px\" stroke-linecap=\"round\" font-size=\"12px\"><rect y=\"456\" width=\"12\" height=\"12\" vector-effect=\"non-scaling-stroke\" x=\"76\"/><g stroke=\"black\" fill=\"black\"><text y=\"456\" dominant-baseline=\"hanging\" stroke=\"none\" vector-effect=\"non-scaling-stroke\" x=\"92\">Train: Moving Average Loss</text></g><g font-family=\"sans-serif\" font-weight=\"normal\" text-anchor=\"start\" font-size=\"12px\" fill=\"hsl(276, 81%, 65%)\" stroke-linejoin=\"round\" stroke=\"hsl(276, 81%, 65%)\" dominant-baseline=\"hanging\" font-style=\"normal\" stroke-width=\"1px\" stroke-linecap=\"round\"><rect y=\"474\" width=\"12\" height=\"12\" vector-effect=\"non-scaling-stroke\" x=\"76\"/><g fill=\"black\" stroke=\"black\"><text dominant-baseline=\"hanging\" stroke=\"none\" vector-effect=\"non-scaling-stroke\" x=\"92\" y=\"474\">Train: Moving Average Loss+Regularization</text></g></g></g></g></g></g></g></g></g></svg>"
      ]
     },
     "metadata": {},
     "output_type": "display_data"
    },
    {
     "name": "stdout",
     "output_type": "stream",
     "text": [
      "\t[Step 5000] median train step: 903 microseconds\n",
      "\n",
      "Results on batched train:\n",
      "\tMean Loss+Regularization (#loss+): 0.274\n",
      "\tMean Loss (#loss): 0.274\n",
      "\tMean Accuracy (#acc): 87.41%\n",
      "Results on test:\n",
      "\tMean Loss+Regularization (#loss+): 0.280\n",
      "\tMean Loss (#loss): 0.280\n",
      "\tMean Accuracy (#acc): 87.11%\n",
      "\n"
     ]
    }
   ],
   "source": [
    "%% --steps=5000 --checkpoint base_model --plot_type=margaid\n",
    "trainModel()"
   ]
  },
  {
   "cell_type": "markdown",
   "id": "c38d8a41-3e9c-4107-a507-c879ef27e3e3",
   "metadata": {},
   "source": [
    "## Extend training another 5K steps\n",
    "\n",
    "Since the model training went well, and it doesn't seem to be yet terribly overfiting, \n",
    "let's train further, another 5k steps, for 10K steps in total.\n",
    "\n",
    "Notice the plots continue from where it stopped. And this time we use [Plotly](https://plotly.com/javascript/) to plot the training results -- they don't display in Github since they depend on javascript.\n",
    "\n",
    "Unfortunately, it doesn't help (the accuracy on the test set doesn't improve), 5k steps was already enough."
   ]
  },
  {
   "cell_type": "code",
   "execution_count": 9,
   "id": "95983f61-2a98-442d-bc5d-896006289a2b",
   "metadata": {
    "tags": []
   },
   "outputs": [
    {
     "name": "stdout",
     "output_type": "stream",
     "text": [
      "loading: \"checkpoint-n0000000-20240327-092556-step-00005000\"\n",
      "Checkpointing model to \"/home/janpf/work/uci-adult/base_model\"\n",
      "Restarting training from global_step=5000\n"
     ]
    },
    {
     "data": {
      "text/html": []
     },
     "metadata": {},
     "output_type": "display_data"
    },
    {
     "data": {
      "text/html": []
     },
     "metadata": {},
     "output_type": "display_data"
    },
    {
     "name": "stdout",
     "output_type": "stream",
     "text": [
      "Training (5000 steps):  100% [\u001b[32m=\u001b[0m\u001b[32m=\u001b[0m\u001b[32m=\u001b[0m\u001b[32m=\u001b[0m\u001b[32m=\u001b[0m\u001b[32m=\u001b[0m\u001b[32m=\u001b[0m\u001b[32m=\u001b[0m\u001b[32m=\u001b[0m\u001b[32m=\u001b[0m\u001b[32m=\u001b[0m\u001b[32m=\u001b[0m\u001b[32m=\u001b[0m\u001b[32m=\u001b[0m\u001b[32m=\u001b[0m\u001b[32m=\u001b[0m\u001b[32m=\u001b[0m\u001b[32m=\u001b[0m\u001b[32m=\u001b[0m\u001b[32m=\u001b[0m\u001b[32m=\u001b[0m\u001b[32m=\u001b[0m\u001b[32m=\u001b[0m\u001b[32m=\u001b[0m\u001b[32m=\u001b[0m\u001b[32m=\u001b[0m\u001b[32m=\u001b[0m\u001b[32m=\u001b[0m\u001b[32m=\u001b[0m\u001b[32m=\u001b[0m\u001b[32m=\u001b[0m\u001b[32m=\u001b[0m\u001b[32m=\u001b[0m\u001b[32m=\u001b[0m\u001b[32m=\u001b[0m\u001b[32m=\u001b[0m\u001b[32m=\u001b[0m\u001b[32m=\u001b[0m\u001b[32m=\u001b[0m\u001b[32m=\u001b[0m] (673 steps/s)\u001b[0m [step=9999] [loss+=0.230] [~loss+=0.269] [~loss=0.269] [~acc=87.65%]        \n",
      "\n",
      "[saving checkpoint@10000] [median train step (ms): 0]\n"
     ]
    },
    {
     "data": {
      "text/html": [
       "<p><b>Metric: accuracy</b></p>\n"
      ]
     },
     "metadata": {},
     "output_type": "display_data"
    },
    {
     "data": {
      "text/html": [
       "<div id=\"ec9abe11\"></div>"
      ]
     },
     "metadata": {},
     "output_type": "display_data"
    },
    {
     "data": {
      "text/html": [
       "<script charset=\"UTF-8\">\n",
       "(() => {\n",
       "\tconst src=\"https://cdn.plot.ly/plotly-2.29.1.min.js\";\n",
       "\tvar runJSFn = function(module) {\n",
       "\t\t\n",
       "\tif (!module) {\n",
       "\t\tmodule = window.Plotly;\n",
       "\t}\n",
       "\tlet data = JSON.parse('{\"data\":[{\"type\":\"scatter\",\"line\":{\"shape\":\"linear\"},\"mode\":\"lines+markers\",\"name\":\"Train: Moving Average Accuracy\",\"x\":[100,210,331,464,610,771,948,1143,1358,1595,1856,2143,2459,2807,3190,3611,4074,4583,5000,5143,5759,6437,7183,8004,8907,9900,10000],\"y\":[0.7582749724388123,0.7607147693634033,0.8086880445480347,0.8402408957481384,0.8512424230575562,0.8599046468734741,0.8627695441246033,0.8679875731468201,0.8651403784751892,0.8642345070838928,0.8685663938522339,0.8687819838523865,0.8720662593841553,0.8708280920982361,0.8769093155860901,0.87203049659729,0.8730566501617432,0.8709009289741516,0.8735488057136536,0.8725177645683289,0.8740598559379578,0.8766617774963379,0.8744488954544067,0.8744322657585144,0.8752582669258118,0.874493420124054,0.8764593005180359]},{\"type\":\"scatter\",\"line\":{\"shape\":\"linear\"},\"mode\":\"lines+markers\",\"name\":\"Eval on batched train: Mean Accuracy\",\"x\":[100,210,331,464,610,771,948,1143,1358,1595,1856,2143,2459,2807,3190,3611,4074,4583,5000,5143,5759,6437,7183,8004,8907,9900,10000],\"y\":[0.7591904401779175,0.8026166558265686,0.8418046236038208,0.8458892703056335,0.8589416742324829,0.8619207143783569,0.865022599697113,0.8661589026451111,0.8672338128089905,0.8676638007164001,0.8701514005661011,0.8711341619491577,0.871871292591095,0.873007595539093,0.8732532858848572,0.8735604286193848,0.874021053314209,0.8738368153572083,0.8740518093109131,0.8736218214035034,0.874481737613678,0.8747888803482056,0.8742053508758545,0.8745124936103821,0.8723626732826233,0.8745124936103821,0.8745124936103821]},{\"type\":\"scatter\",\"line\":{\"shape\":\"linear\"},\"mode\":\"lines+markers\",\"name\":\"Eval on test: Mean Accuracy\",\"x\":[100,210,331,464,610,771,948,1143,1358,1595,1856,2143,2459,2807,3190,3611,4074,4583,5000,5143,5759,6437,7183,8004,8907,9900,10000],\"y\":[0.7637736797332764,0.8037589192390442,0.8449111580848694,0.8485350608825684,0.8626619577407837,0.8617405891418457,0.8638289570808411,0.8656101822853088,0.8647502660751343,0.8651801943778992,0.8666543364524841,0.8700324892997742,0.8704010248184204,0.8704010248184204,0.8707695603370667,0.8692954182624817,0.871383786201477,0.871260941028595,0.8711380958557129,0.86978679895401,0.8720594048500061,0.871936559677124,0.8722436428070068,0.8718751072883606,0.8718751072883606,0.8724279403686523,0.872489333152771]}],\"layout\":{\"legend\":{},\"title\":{\"text\":\"accuracy\"},\"xaxis\":{\"showgrid\":true,\"type\":\"log\"},\"yaxis\":{\"showgrid\":true,\"type\":\"log\"}}}');\n",
       "\tmodule.newPlot('ec9abe11', data);\n",
       "\n",
       "\t}\n",
       "\t\n",
       "    if (typeof requirejs === \"function\") {\n",
       "        // Use RequireJS to load module.\n",
       "        requirejs.config({\n",
       "            paths: {\n",
       "                'plotly': 'https://cdn.plot.ly/plotly-2.29.1.min'\n",
       "            }\n",
       "        });\n",
       "        require(['plotly'], function(plotly) {\n",
       "            runJSFn(plotly)\n",
       "        });\n",
       "        return\n",
       "    }\n",
       "\n",
       "\tvar currentScripts = document.head.getElementsByTagName(\"script\");\n",
       "\tfor (const idx in currentScripts) {\n",
       "\t\tlet script = currentScripts[idx];\n",
       "\t\tif (script.src == src) {\n",
       "\t\t\trunJSFn(null);\n",
       "\t\t\treturn;\n",
       "\t\t}\n",
       "\t}\n",
       "\n",
       "\tvar script = document.createElement(\"script\");\n",
       "\n",
       "\tscript.charset = \"utf-8\";\n",
       "\t\n",
       "\tscript.src = src;\n",
       "\tscript.onload = script.onreadystatechange = function () { runJSFn(null); };\n",
       "\tdocument.head.appendChild(script);\t\n",
       "})();\n",
       "</script>"
      ]
     },
     "metadata": {},
     "output_type": "display_data"
    },
    {
     "data": {
      "text/html": [
       "<p><b>Metric: loss</b></p>\n"
      ]
     },
     "metadata": {},
     "output_type": "display_data"
    },
    {
     "data": {
      "text/html": [
       "<div id=\"e0d255ab\"></div>"
      ]
     },
     "metadata": {},
     "output_type": "display_data"
    },
    {
     "data": {
      "text/html": [
       "<script charset=\"UTF-8\">\n",
       "(() => {\n",
       "\tconst src=\"https://cdn.plot.ly/plotly-2.29.1.min.js\";\n",
       "\tvar runJSFn = function(module) {\n",
       "\t\t\n",
       "\tif (!module) {\n",
       "\t\tmodule = window.Plotly;\n",
       "\t}\n",
       "\tlet data = JSON.parse('{\"data\":[{\"type\":\"scatter\",\"line\":{\"shape\":\"linear\"},\"mode\":\"lines+markers\",\"name\":\"Train: Batch Loss+Regularization\",\"x\":[100,210,331,464,610,771,948,1143,1358,1595,1856,2143,2459,2807,3190,3611,4074,4583,5000,5143,5759,6437,7183,8004,8907,9900,10000],\"y\":[0.5693992376327515,0.4226692318916321,0.3819460868835449,0.2727202773094177,0.25552526116371155,0.2579492926597595,0.2397749125957489,0.25156497955322266,0.35342490673065186,0.30134785175323486,0.23883108794689178,0.2735547721385956,0.26205283403396606,0.28432604670524597,0.2673466205596924,0.24012884497642517,0.20497684180736542,0.29576337337493896,0.31227749586105347,0.29737281799316406,0.25692427158355713,0.28234490752220154,0.18317535519599915,0.2103220820426941,0.1972063034772873,0.25021663308143616,0.22953158617019653]},{\"type\":\"scatter\",\"line\":{\"shape\":\"linear\"},\"mode\":\"lines+markers\",\"name\":\"Train: Moving Average Loss+Regularization\",\"x\":[100,210,331,464,610,771,948,1143,1358,1595,1856,2143,2459,2807,3190,3611,4074,4583,5000,5143,5759,6437,7183,8004,8907,9900,10000],\"y\":[0.5671816468238831,0.5108187198638916,0.4145696759223938,0.3543097674846649,0.3282320499420166,0.3127521872520447,0.3068353831768036,0.29672539234161377,0.29616859555244446,0.2985398769378662,0.28972724080085754,0.2854842245578766,0.27970874309539795,0.2821623682975769,0.27617329359054565,0.2793315649032593,0.27663707733154297,0.27636057138442993,0.27512410283088684,0.27334728837013245,0.27448636293411255,0.26986485719680786,0.26960670948028564,0.2692830264568329,0.26750069856643677,0.26876938343048096,0.26880142092704773]},{\"type\":\"scatter\",\"line\":{\"shape\":\"linear\"},\"mode\":\"lines+markers\",\"name\":\"Train: Moving Average Loss\",\"x\":[100,210,331,464,610,771,948,1143,1358,1595,1856,2143,2459,2807,3190,3611,4074,4583,5000,5143,5759,6437,7183,8004,8907,9900,10000],\"y\":[0.5671816468238831,0.5108187198638916,0.4145696759223938,0.3543097674846649,0.3282320499420166,0.3127521872520447,0.3068353831768036,0.29672539234161377,0.29616859555244446,0.2985398769378662,0.28972724080085754,0.2854842245578766,0.27970874309539795,0.2821623682975769,0.27617329359054565,0.2793315649032593,0.27663707733154297,0.27636057138442993,0.27512410283088684,0.27334728837013245,0.27448636293411255,0.26986485719680786,0.26960670948028564,0.2692830264568329,0.26750069856643677,0.26876938343048096,0.26880142092704773]},{\"type\":\"scatter\",\"line\":{\"shape\":\"linear\"},\"mode\":\"lines+markers\",\"name\":\"Eval on batched train: Mean Loss+Regularization\",\"x\":[100,210,331,464,610,771,948,1143,1358,1595,1856,2143,2459,2807,3190,3611,4074,4583,5000,5143,5759,6437,7183,8004,8907,9900,10000],\"y\":[0.5504968762397766,0.4011084735393524,0.35172197222709656,0.33239272236824036,0.32064089179039,0.30636560916900635,0.30052798986434937,0.29637396335601807,0.2945718467235565,0.29416751861572266,0.28943049907684326,0.28498080372810364,0.28091558814048767,0.2786041498184204,0.27820509672164917,0.27780047059059143,0.27526402473449707,0.27382776141166687,0.2737104594707489,0.2741265594959259,0.2723887264728546,0.27202630043029785,0.2715526223182678,0.2708965837955475,0.2722551226615906,0.27017924189567566,0.27029499411582947]},{\"type\":\"scatter\",\"line\":{\"shape\":\"linear\"},\"mode\":\"lines+markers\",\"name\":\"Eval on batched train: Mean Loss\",\"x\":[100,210,331,464,610,771,948,1143,1358,1595,1856,2143,2459,2807,3190,3611,4074,4583,5000,5143,5759,6437,7183,8004,8907,9900,10000],\"y\":[0.5504968762397766,0.4011084735393524,0.35172197222709656,0.33239272236824036,0.32064089179039,0.30636560916900635,0.30052798986434937,0.29637396335601807,0.2945718467235565,0.29416751861572266,0.28943049907684326,0.28498080372810364,0.28091558814048767,0.2786041498184204,0.27820509672164917,0.27780047059059143,0.27526402473449707,0.27382776141166687,0.2737104594707489,0.2741265594959259,0.2723887264728546,0.27202630043029785,0.2715526223182678,0.2708965837955475,0.2722551226615906,0.27017924189567566,0.27029499411582947]},{\"type\":\"scatter\",\"line\":{\"shape\":\"linear\"},\"mode\":\"lines+markers\",\"name\":\"Eval on test: Mean Loss+Regularization\",\"x\":[100,210,331,464,610,771,948,1143,1358,1595,1856,2143,2459,2807,3190,3611,4074,4583,5000,5143,5759,6437,7183,8004,8907,9900,10000],\"y\":[0.5454749464988708,0.3954668641090393,0.3482303321361542,0.3314114212989807,0.31976068019866943,0.30741870403289795,0.3017628490924835,0.2983141839504242,0.2968558669090271,0.2964841425418854,0.292568564414978,0.28881317377090454,0.2854640483856201,0.2835390567779541,0.28336453437805176,0.2834397852420807,0.2803420424461365,0.2799426317214966,0.28002482652664185,0.2800993025302887,0.2792922556400299,0.279235303401947,0.2779555916786194,0.2784881293773651,0.27930358052253723,0.27764561772346497,0.27797940373420715]},{\"type\":\"scatter\",\"line\":{\"shape\":\"linear\"},\"mode\":\"lines+markers\",\"name\":\"Eval on test: Mean Loss\",\"x\":[100,210,331,464,610,771,948,1143,1358,1595,1856,2143,2459,2807,3190,3611,4074,4583,5000,5143,5759,6437,7183,8004,8907,9900,10000],\"y\":[0.5454749464988708,0.3954668641090393,0.3482303321361542,0.3314114212989807,0.31976068019866943,0.30741870403289795,0.3017628490924835,0.2983141839504242,0.2968558669090271,0.2964841425418854,0.292568564414978,0.28881317377090454,0.2854640483856201,0.2835390567779541,0.28336453437805176,0.2834397852420807,0.2803420424461365,0.2799426317214966,0.28002482652664185,0.2800993025302887,0.2792922556400299,0.279235303401947,0.2779555916786194,0.2784881293773651,0.27930358052253723,0.27764561772346497,0.27797940373420715]}],\"layout\":{\"legend\":{},\"title\":{\"text\":\"loss\"},\"xaxis\":{\"showgrid\":true,\"type\":\"log\"},\"yaxis\":{\"showgrid\":true,\"type\":\"log\"}}}');\n",
       "\tmodule.newPlot('e0d255ab', data);\n",
       "\n",
       "\t}\n",
       "\t\n",
       "    if (typeof requirejs === \"function\") {\n",
       "        // Use RequireJS to load module.\n",
       "        requirejs.config({\n",
       "            paths: {\n",
       "                'plotly': 'https://cdn.plot.ly/plotly-2.29.1.min'\n",
       "            }\n",
       "        });\n",
       "        require(['plotly'], function(plotly) {\n",
       "            runJSFn(plotly)\n",
       "        });\n",
       "        return\n",
       "    }\n",
       "\n",
       "\tvar currentScripts = document.head.getElementsByTagName(\"script\");\n",
       "\tfor (const idx in currentScripts) {\n",
       "\t\tlet script = currentScripts[idx];\n",
       "\t\tif (script.src == src) {\n",
       "\t\t\trunJSFn(null);\n",
       "\t\t\treturn;\n",
       "\t\t}\n",
       "\t}\n",
       "\n",
       "\tvar script = document.createElement(\"script\");\n",
       "\n",
       "\tscript.charset = \"utf-8\";\n",
       "\t\n",
       "\tscript.src = src;\n",
       "\tscript.onload = script.onreadystatechange = function () { runJSFn(null); };\n",
       "\tdocument.head.appendChild(script);\t\n",
       "})();\n",
       "</script>"
      ]
     },
     "metadata": {},
     "output_type": "display_data"
    },
    {
     "name": "stdout",
     "output_type": "stream",
     "text": [
      "\t[Step 10000] median train step: 906 microseconds\n",
      "\n",
      "Results on batched train:\n",
      "\tMean Loss+Regularization (#loss+): 0.270\n",
      "\tMean Loss (#loss): 0.270\n",
      "\tMean Accuracy (#acc): 87.45%\n",
      "Results on test:\n",
      "\tMean Loss+Regularization (#loss+): 0.278\n",
      "\tMean Loss (#loss): 0.278\n",
      "\tMean Accuracy (#acc): 87.25%\n",
      "\n"
     ]
    }
   ],
   "source": [
    "import \"github.com/gomlx/exceptions\"\n",
    "\n",
    "%% --steps=5000 --checkpoint base_model --plot_type=plotly\n",
    "err := exceptions.TryCatch[error](func() { trainModel() })\n",
    "if err != nil {\n",
    "    fmt.Fprintf(os.Stderr, \"Error: %+v\", err)\n",
    "}"
   ]
  }
 ],
 "metadata": {
  "kernelspec": {
   "display_name": "Go (gonb)",
   "language": "go",
   "name": "gonb"
  },
  "language_info": {
   "codemirror_mode": "",
   "file_extension": ".go",
   "mimetype": "",
   "name": "go",
   "nbconvert_exporter": "",
   "pygments_lexer": "",
   "version": "go1.22.1"
  }
 },
 "nbformat": 4,
 "nbformat_minor": 5
}
