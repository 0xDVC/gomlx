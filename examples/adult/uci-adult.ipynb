{
 "cells": [
  {
   "cell_type": "markdown",
   "id": "546fa208-c19c-405b-81b1-cf99fcb4a830",
   "metadata": {
    "tags": []
   },
   "source": [
    "# UCI Adult Dataset or Census Income\n",
    "\n",
    "This is a very popular ML task, with tabular data. The objective is to predict whether income exceeds $50K/yr based on census data. \n",
    "Also known as \"Census Income\" dataset.\n",
    "\n",
    "The data is old and biased on different ways ... but it can be used opaquely for ML experimentation.\n",
    "\n",
    "The source code of this example in one piece can be seen in the demo under [.../examples/adult/demo/](https://github.com/gomlx/gomlx/tree/main/examples/adult/demo).\n"
   ]
  },
  {
   "cell_type": "markdown",
   "id": "2ab071e3-227f-4c77-b864-2b7e5a5ccbdf",
   "metadata": {},
   "source": [
    "## Environment Set Up\n",
    "\n",
    "Let's set up `go.mod` to use the local copy of GoMLX, so it can be developed jointly the dataset code with the model. That's often how data pre-processing and model code is developed together with experimentation.\n",
    "\n",
    "If you are not changing code, feel free to simply skip this cell. Or if you used a different directory for you projects, change it below.\n",
    "\n",
    "Notice the directory `${HOME}/Projects/gomlx` is where the GoMLX code is copied by default in [its Docker](https://hub.docker.com/repository/docker/janpfeifer/gomlx_jupyterlab/general)."
   ]
  },
  {
   "cell_type": "code",
   "execution_count": 1,
   "id": "9ba46cb6-059d-4387-876c-665f778f2447",
   "metadata": {
    "tags": []
   },
   "outputs": [
    {
     "name": "stdout",
     "output_type": "stream",
     "text": [
      "\t- Added replace rule for module \"github.com/janpfeifer/gonb\" to local directory \"/home/janpf/Projects/gonb\".\n",
      "\t- Added replace rule for module \"github.com/gomlx/gopjrt\" to local directory \"/home/janpf/Projects/gopjrt\".\n",
      "\t- Added replace rule for module \"github.com/gomlx/bsplines\" to local directory \"/home/janpf/Projects/bsplines\".\n",
      "\t- Added replace rule for module \"github.com/gomlx/gomlx\" to local directory \"/home/janpf/Projects/gomlx\".\n"
     ]
    }
   ],
   "source": [
    "!*rm -f go.work && go work init && go work use . \"${HOME}/Projects/gomlx\" \"${HOME}/Projects/gonb\" \"${HOME}/Projects/gopjrt\" \"${HOME}/Projects/bsplines\"\n",
    "%goworkfix"
   ]
  },
  {
   "cell_type": "markdown",
   "id": "78cf991f-4fa5-4bae-8e49-ca67fb8dbd5b",
   "metadata": {},
   "source": [
    "## Data Preparation\n",
    "\n",
    "GoMLX provides [a simple `adult` library](https://pkg.go.dev/github.com/gomlx/gomlx/examples/adult) to facilitate downdoaling and preprocessing the data. Data is available in [UCI Machine Learning Repository](https://archive.ics.uci.edu/ml/datasets/Adult).\n",
    "\n",
    "After downloading the data and validating the checksum (both training and testing), it generates the quantiles for the continuous features, and the vocabularies for the categorical features. It saves all this info for faster restart later in a binary file. So this won't be necessary a second time.\n",
    "\n",
    "The quantiles are used to calibrate the values, using a piece-wise-lienar calibration, very good for these things. See [`layers.PieceWiseLinearCalibration` documentation](https://pkg.go.dev/github.com/gomlx/gomlx@v0.1.0/ml/layers#PieceWiseLinearCalibration).\n",
    "\n",
    "We create a flag `--data` to define the directory where to save the intermediary files: downloaded and preprocessed datasets.\n",
    "In this examle we set it to `~/work/uci-adult`. Verbosity can be contolled with the `--verbosity` flag. \n",
    "\n",
    "We set default in Go for these flags, but they can easily be reset for a new run by providing them after the `%%` Jupyter kernel meta-command -- in indicates that the subsequent lines should be put in to a `func main`.\n"
   ]
  },
  {
   "cell_type": "code",
   "execution_count": 2,
   "id": "9418be86-70bc-41ad-9e0a-3a5e6bf52b51",
   "metadata": {
    "tags": []
   },
   "outputs": [
    {
     "name": "stdout",
     "output_type": "stream",
     "text": [
      "\n",
      "Sample Categorical: (24.08% positive ratio, 23.86% weighted positive ratio)\n",
      "\tRow 0:\t[7 10 5 1 2 5 2 39]\n",
      "\tRow 1:\t[6 10 3 4 1 5 2 39]\n",
      "\tRow 2:\t[4 12 1 6 2 5 2 39]\n",
      "\t...\n",
      "\tRow 32558:\t[4 12 7 1 5 5 1 39]\n",
      "\tRow 32559:\t[4 12 5 1 4 5 2 39]\n",
      "\tRow 32560:\t[5 12 3 4 6 5 1 39]\n",
      "\n",
      "Sample Continuous:\n",
      "\tRow 0:\t[39 13 2174 0 40]\n",
      "\tRow 1:\t[50 13 0 0 13]\n",
      "\tRow 2:\t[38 9 0 0 40]\n",
      "\t...\n",
      "\tRow 32558:\t[58 9 0 0 40]\n",
      "\tRow 32559:\t[22 9 0 0 20]\n",
      "\tRow 32560:\t[52 9 15024 0 40]\n"
     ]
    }
   ],
   "source": [
    "import (\n",
    "    \"flag\"\n",
    "    \n",
    "    \"github.com/gomlx/gomlx/examples/adult\"\n",
    ")\n",
    "\n",
    "var (\n",
    "    flagDataDir       = flag.String(\"data\", \"~/work/uci-adult\", \"Directory to save and load downloaded and generated dataset files.\")\n",
    "    flagVerbosity     = flag.Int(\"verbosity\", 0, \"Level of verbosity, the higher the more verbose.\")\n",
    "    flagForceDownload = flag.Bool(\"force_download\", false, \"Force re-download of Adult dataset files.\")\n",
    "    flagNumQuantiles  = flag.Int(\"quantiles\", 100, \"Max number of quantiles to use for numeric features, used during piece-wise linear calibration. It will only use unique values, so if there are fewer variability, fewer quantiles are used.\")\n",
    ")\n",
    "\n",
    "%% --verbosity=2\n",
    "adult.LoadAndPreprocessData(*flagDataDir, *flagNumQuantiles, *flagForceDownload, *flagVerbosity)"
   ]
  },
  {
   "cell_type": "code",
   "execution_count": 3,
   "id": "fdab7255-2224-496a-9ec7-75927150f9d7",
   "metadata": {
    "tags": []
   },
   "outputs": [
    {
     "name": "stdout",
     "output_type": "stream",
     "text": [
      "total 7.0M\n",
      "-rw-r--r-- 1 janpf janpf 3.8M Jul 20 18:36 adult.data\n",
      "-rw-r--r-- 1 janpf janpf 1.3M Jul 20 18:36 adult_data-100_quantiles.bin\n",
      "-rw-r--r-- 1 janpf janpf 2.0M Jul 20 18:36 adult.test\n",
      "drwxr-x--- 2 janpf janpf 4.0K Aug  2 12:59 base_model\n",
      "drwxr-x--- 2 janpf janpf 4.0K Aug  2 10:47 fnn\n",
      "drwxr-x--- 2 janpf janpf 4.0K Jul 21 20:24 kan_baseline\n",
      "drwxr-x--- 2 janpf janpf 4.0K Aug  2 12:59 kan_model\n"
     ]
    }
   ],
   "source": [
    "!ls -lh ~/work/uci-adult"
   ]
  },
  {
   "cell_type": "markdown",
   "id": "2f1cd493-a81f-4c5f-9004-d21e95103f8e",
   "metadata": {},
   "source": [
    "## Hyperparameters\n",
    "\n",
    "This sets the the superset of hyperparameters with their default values that can be used by the model, by setting them in the context.\n",
    "\n",
    "See the [`demo/main.go`](https://github.com/gomlx/gomlx/blob/main/examples/adult/demo/main.go) file for how to add a flag to allow setting them from the command line."
   ]
  },
  {
   "cell_type": "code",
   "execution_count": 4,
   "id": "31d03e06-f375-4a68-8705-c9d3b6af81ab",
   "metadata": {},
   "outputs": [
    {
     "name": "stdout",
     "output_type": "stream",
     "text": [
      "batch_size=17\n",
      "fnn_num_hidden_layers=12\n"
     ]
    }
   ],
   "source": [
    "import (\n",
    "    \"github.com/gomlx/gomlx/ml/context\"\n",
    "    \"github.com/gomlx/gomlx/ml/layers\"\n",
    "    \"github.com/gomlx/gomlx/ml/layers/fnn\"\n",
    "    \"github.com/gomlx/gomlx/ml/layers/kan\"\n",
    "    \"github.com/gomlx/gomlx/ml/layers/regularizers\"\n",
    "    \"github.com/gomlx/gomlx/ml/train/commandline\"\n",
    "    \"github.com/gomlx/gomlx/ml/train/optimizers\"\n",
    "\t\"github.com/janpfeifer/must\"    \n",
    ")\n",
    "\n",
    "// settings is bound to a \"-set\" flag to be used to set context hyperparameters.\n",
    "var settings = commandline.CreateContextSettingsFlag(createDefaultContext(), \"set\")\n",
    "\n",
    "func createDefaultContext() *context.Context {\n",
    "\tctx := context.NewContext()\n",
    "\tctx.RngStateReset()\n",
    "\tctx.SetParams(map[string]any{\n",
    "\t\t\"train_steps\":     5000,\n",
    "\t\t\"batch_size\":      128,\n",
    "\t\t\"eval_batch_size\":      1000,\n",
    "\t\t\"plots\":           true,\n",
    "\n",
    "\t\toptimizers.ParamOptimizer:           \"adam\",\n",
    "\t\toptimizers.ParamLearningRate:        0.001,\n",
    "\t\toptimizers.ParamAdamEpsilon:         1e-7,\n",
    "\t\toptimizers.ParamAdamDType:           \"\",\n",
    "\t\toptimizers.ParamCosineScheduleSteps: 0,\n",
    "\t\tactivations.ParamActivation:         \"sigmoid\",\n",
    "\t\tlayers.ParamDropoutRate:             0.0,\n",
    "\t\tregularizers.ParamL2:                1e-5,\n",
    "\t\tregularizers.ParamL1:                1e-5,\n",
    "\n",
    "\t\t// FNN network parameters:\n",
    "\t\tfnn.ParamNumHiddenLayers: 1,\n",
    "\t\tfnn.ParamNumHiddenNodes:  4,\n",
    "\t\tfnn.ParamResidual:        true,\n",
    "\t\tfnn.ParamNormalization:   \"layer\",\n",
    "\n",
    "\t\t// KAN network parameters:\n",
    "\t\t\"kan\":                       false, // Enable kan\n",
    "\t\tkan.ParamNumControlPoints:   20,    // Number of control points\n",
    "\t\tkan.ParamNumHiddenNodes:     4,\n",
    "\t\tkan.ParamNumHiddenLayers:    1,\n",
    "\t\tkan.ParamBSplineDegree:      2,\n",
    "\t\tkan.ParamBSplineMagnitudeL1: 1e-5,\n",
    "\t\tkan.ParamBSplineMagnitudeL2: 0.0,\n",
    "\t\tkan.ParamDiscrete:           false,\n",
    "\t\tkan.ParamDiscreteSoftness:   0.1,\n",
    "\t})\n",
    "\treturn ctx\n",
    "}\n",
    "\n",
    "// contextFromSettings is the default context (createDefaultContext) changed by -set flag.\n",
    "func contextFromSettings() *context.Context {\n",
    "    ctx := createDefaultContext()\n",
    "    must.M(commandline.ParseContextSettings(ctx, *settings))\n",
    "    return ctx\n",
    "}\n",
    "\n",
    "// Let's test that we can set hyperparameters by setting it in the \"-set\" flag:\n",
    "%% -set=\"batch_size=17;fnn_num_hidden_layers=12\"\n",
    "ctx := contextFromSettings()\n",
    "fmt.Printf(\"batch_size=%d\\n\", context.GetParamOr(ctx, \"batch_size\", -1))\n",
    "fmt.Printf(\"fnn_num_hidden_layers=%d\\n\", context.GetParamOr(ctx, \"fnn_num_hidden_layers\", -1))"
   ]
  },
  {
   "cell_type": "markdown",
   "id": "028b783b-56f0-457c-b28e-7bb0dd7e94da",
   "metadata": {},
   "source": [
    "### Creating Datasets\n",
    "\n",
    "First we create the GoMLX's `backend`: it's the engine instance (XLA in this case) that \n",
    "compiles and executes our computation graph.\n",
    "\n",
    "It's needed to create tensors that will be fed to the accelearator (GPU or even CPU accelerated code)\n",
    "\n",
    "With that we create the samplers of data that we will use to train and evaluate. They implement \n",
    "GoMLX's `train.Dataset` interface, which is what is used by our training loop to draw batches to\n",
    "train, or our eval loop to draw batches to evaluate.\n",
    "\n",
    "The inputs are 3 tensors: *categorical values*, *continuous values* and *weights*.\n",
    "\n",
    "In the cell below we define `BuildDatasets` and printout some samples."
   ]
  },
  {
   "cell_type": "code",
   "execution_count": 5,
   "id": "f13f771b-7109-49d2-8db5-5f3d5a91d324",
   "metadata": {
    "tags": []
   },
   "outputs": [
    {
     "name": "stdout",
     "output_type": "stream",
     "text": [
      "Inputs of batch (size 128):\n",
      "\tcategorical:\n",
      "\t\tFeatures=[workclass education marital-status occupation relationship race sex native-country]\n",
      "\t\tValues: (Int64)[128 8]: (... too large, 1024 values ..., first 16 values: [4 12 6 10 5 1 1 39 4 10 1 10 2 5 1 39])\n",
      "\tcontinuous:\n",
      "\t\tFeatures=[age education-num capital-gain capital-loss hours-per-week]\n",
      "\t\tValues: (Float32)[128 5]: (... too large, 640 values ..., first 10 values: [37 9 0 0 40 49 13 0 0 50])\n",
      "\tweights: (Float32)[128 1]: (... too large, 128 values ..., first 5 values: [25864 98010 65466 320451 223004])\n",
      "\n",
      "Labels of batch:\n",
      "\t(Float32)[128 1]: (... too large, 128 values ..., first 10 values: [0 0 0 0 0 0 0 0 0 0])\n",
      "\n",
      "Labels distributions:\n",
      "\tTrain:\t24.08% positive\n",
      "\tTest:\t23.62% positive\n"
     ]
    }
   ],
   "source": [
    "import (\n",
    "    \"flag\"\n",
    "    \"fmt\"\n",
    "    \"io\"\n",
    "\n",
    "    \"github.com/gomlx/gomlx/backends\"\n",
    "    \"github.com/gomlx/gomlx/examples/adult\"\n",
    "    \"github.com/gomlx/gomlx/ml/train\"\n",
    "    \"github.com/gomlx/gomlx/types/tensors\"\n",
    "\n",
    "    _ \"github.com/gomlx/gomlx/backends/xla\"\n",
    ")\n",
    "\n",
    "// Global backend created an initialization, used everywhere.\n",
    "var backend = backends.New()\n",
    "\n",
    "// BuildDatasets returns 3 `train.Dataset`:\n",
    "// * trainingSampler is an endless random sampler used for training.\n",
    "// * trainingEvalSampler samples through exactly one epoch of the train dataset.\n",
    "// * testEvalSampler samples through exactly one epoch of the test dataset.\n",
    "func BuildDatasets(ctx *context.Context) (trainDS, trainEvalDS, testEvalDS train.Dataset) {\n",
    "\tbatchSize := context.GetParamOr(ctx, \"batch_size\", 128)\n",
    "\tevalBatchSize := context.GetParamOr(ctx, \"eval_batch_size\", 1000)\n",
    "    baseDS := adult.NewDataset(backend, adult.Data.Train, \"batched train\")\n",
    "    trainEvalDS = baseDS.Copy().BatchSize(evalBatchSize, false)\n",
    "    testEvalDS = adult.NewDataset(backend, adult.Data.Test, \"test\").\n",
    "        BatchSize(evalBatchSize, false)\n",
    "    // For training, we shuffle and loop indefinitely.\n",
    "    trainDS = baseDS.BatchSize(batchSize, true).Shuffle().Infinite(true)\n",
    "    return\n",
    "}\n",
    "\n",
    "// PositiveRatio finds out the the ratio of positive labels in the\n",
    "// training and testing data.\n",
    "//\n",
    "// We could do this easily with GoMLX computation model (just `ReduceAllSum`), but\n",
    "// this examples shows it's also ok to mix Go computations.\n",
    "func PositiveRatio(ds train.Dataset) float32 {\n",
    "    ds.Reset()  // Start from beginning.\n",
    "    var sum float32\n",
    "    var count float32\n",
    "    for {\n",
    "        _, _, labels, err := ds.Yield()\n",
    "        if err == io.EOF {\n",
    "            break;\n",
    "        }\n",
    "        if err != nil { panic(err) }\n",
    "        data := tensors.CopyFlatData[float32](labels[0])\n",
    "        for _, value := range data {\n",
    "            sum += value\n",
    "        }\n",
    "        count += float32(len(data))\n",
    "    }\n",
    "    return sum/count\n",
    "}\n",
    "\n",
    "%%\n",
    "adult.LoadAndPreprocessData(*flagDataDir, *flagNumQuantiles, *flagForceDownload, *flagVerbosity)    \n",
    "ctx := contextFromSettings()\n",
    "trainingDS, trainingEvalDS, testEvalDS := BuildDatasets(ctx)\n",
    "\n",
    "// Take one batch.\n",
    "_, inputs, labels, err := trainingDS.Yield()\n",
    "if err != nil { panic(err) }\n",
    "fmt.Printf(\"Inputs of batch (size %d):\\n\", context.GetParamOr(ctx, \"batch_size\", 0))\n",
    "fmt.Printf(\"\\tcategorical:\\n\\t\\tFeatures=%v\\n\", adult.Data.VocabulariesFeatures)\n",
    "fmt.Printf(\"\\t\\tValues: %s\\n\", inputs[0].StringN(16))\n",
    "fmt.Printf(\"\\tcontinuous:\\n\\t\\tFeatures=%v\\n\", adult.Data.QuantilesFeatures)\n",
    "fmt.Printf(\"\\t\\tValues: %s\\n\", inputs[1].StringN(10))\n",
    "fmt.Printf(\"\\tweights: %s\\n\", inputs[2].StringN(5))\n",
    "fmt.Printf(\"\\nLabels of batch:\\n\\t%s\\n\", labels[0].StringN(10))\n",
    "fmt.Printf(\"\\nLabels distributions:\\n\\tTrain:\\t%.2f%% positive\\n\\tTest:\\t%.2f%% positive\\n\",\n",
    "           PositiveRatio(trainingEvalDS)*100.0, PositiveRatio(testEvalDS)*100.0)\n"
   ]
  },
  {
   "cell_type": "markdown",
   "id": "54efd046-bbd5-4f7d-94e0-9ed3c64512b1",
   "metadata": {},
   "source": [
    "## Model Definition\n",
    "\n",
    "Lots of hyper-parameter flags, but otherwise a straight forward FNN, using piece-wise linear calibration of the continuous features, and embeddings for the categorical features.\n",
    "\n",
    "> **Note**: building models is a constant checking that shapes are compatible. It's a bit annoying, in particular because shapes are known in runtime only -- no compile time check. GoMLX tries to help providing a stack trace of where errors happen so one can pin-point issues quickly. But often it involves lots of experimentation (more than ordinary Go code).\n",
    ">\n",
    "> Developing with a Noteboook (see [GoNB](https://github.com/janpfeifer/gonb)) or simply a unit test on your\n",
    "> `ModelGraph` function are quick and convenient ways to develop models -- before actually training them.\n",
    "> You can also use shape asserts in the middle of the `ModelGraph`, as we do below."
   ]
  },
  {
   "cell_type": "code",
   "execution_count": 6,
   "id": "7040e63b-33f1-4ff9-a232-187196c5f9c1",
   "metadata": {
    "tags": []
   },
   "outputs": [
    {
     "name": "stdout",
     "output_type": "stream",
     "text": [
      "Logits shape for batch_size=128: (Float32)[128 1]\n"
     ]
    }
   ],
   "source": [
    "import (\n",
    "    \"fmt\"\n",
    "    \"io\"\n",
    "\n",
    "    . \"github.com/gomlx/gomlx/graph\"\n",
    "\n",
    "    \"github.com/gomlx/gomlx/ml/context\"\n",
    "    \"github.com/gomlx/gomlx/examples/adult\"\n",
    "    \"github.com/gomlx/gomlx/ml/train\"\n",
    "    \"github.com/gomlx/gomlx/ml/train/optimizers\"\n",
    "    \"github.com/gomlx/gomlx/types/shapes\"\n",
    "    \"github.com/gomlx/gopjrt/dtypes\"\n",
    ")\n",
    "\n",
    "var (\n",
    "    // ModelDType used for the model. Must match RawData Go types.\n",
    "    ModelDType = dtypes.Float32\n",
    "    \n",
    "\n",
    "    // Model hyperparameters.\n",
    "    flagUseCategorical       = flag.Bool(\"use_categorical\", true, \"Use categorical features.\")\n",
    "    flagUseContinuous        = flag.Bool(\"use_continuous\", true, \"Use continuous features.\")\n",
    "    flagTrainableCalibration = flag.Bool(\"trainable_calibration\", true, \"Allow piece-wise linear calibration to adjust outputs.\")\n",
    "    flagEmbeddingDim    = flag.Int(\"embedding_dim\", 8, \"Default embedding dimension for categorical values.\")\n",
    ")\n",
    "\n",
    "\n",
    "// ModelGraph outputs the logits (not the probabilities). The parameter inputs should contain 3 tensors:\n",
    "//\n",
    "// - categorical inputs, shaped  `(int64)[batch_size, len(VocabulariesFeatures)]`\n",
    "// - continuous inputs, shaped `(float32)[batch_size, len(Quantiles)]`\n",
    "// - weights: not currently used, but shaped `(float32)[batch_size, 1]`.\n",
    "func ModelGraph(ctx *context.Context, spec any, inputs []*Node) []*Node {\n",
    "\t_ = spec // Not used, since the dataset is always the same.\n",
    "\tg := inputs[0].Graph()\n",
    "\tdtype := inputs[1].DType() // From continuous features.\n",
    "\n",
    "\t// Use Cosine schedule of the learning rate, if hyperparameter is set to a value > 0.\n",
    "\toptimizers.CosineAnnealingSchedule(ctx, g, dtype).FromContext().Done()\n",
    "\n",
    "\tcategorical, continuous := inputs[0], inputs[1]\n",
    "\tbatchSize := categorical.Shape().Dimensions[0]\n",
    "\n",
    "\t// Feature preprocessing:\n",
    "\tvar allEmbeddings []*Node\n",
    "\tif *flagUseCategorical {\n",
    "\t\t// Embedding of categorical values, each with its own vocabulary.\n",
    "\t\tnumCategorical := categorical.Shape().Dimensions[1]\n",
    "\t\tfor catIdx := 0; catIdx < numCategorical; catIdx++ {\n",
    "\t\t\t// Take one column at a time of the categorical values.\n",
    "\t\t\tsplit := Slice(categorical, AxisRange(), AxisRange(catIdx, catIdx+1))\n",
    "\t\t\t// Embed it accordingly.\n",
    "\t\t\tembedCtx := ctx.In(fmt.Sprintf(\"categorical_%d_%s\", catIdx, adult.Data.VocabulariesFeatures[catIdx]))\n",
    "\t\t\tvocab := adult.Data.Vocabularies[catIdx]\n",
    "\t\t\tvocabSize := len(vocab)\n",
    "\t\t\tembedding := layers.Embedding(embedCtx, split, ModelDType, vocabSize, *flagEmbeddingDim)\n",
    "\t\t\tembedding.AssertDims(batchSize, *flagEmbeddingDim) // 2-dim tensor, with batch size as the leading dimension.\n",
    "\t\t\tallEmbeddings = append(allEmbeddings, embedding)\n",
    "\t\t}\n",
    "\t}\n",
    "\n",
    "\tif *flagUseContinuous {\n",
    "\t\t// Piecewise-linear calibration of the continuous values. Each feature has its own number of quantiles.\n",
    "\t\tnumContinuous := continuous.Shape().Dimensions[1]\n",
    "\t\tfor contIdx := 0; contIdx < numContinuous; contIdx++ {\n",
    "\t\t\t// Take one column at a time of the continuous values.\n",
    "\t\t\tsplit := Slice(continuous, AxisRange(), AxisRange(contIdx, contIdx+1))\n",
    "\t\t\tfeatureName := adult.Data.QuantilesFeatures[contIdx]\n",
    "\t\t\tcalibrationCtx := ctx.In(fmt.Sprintf(\"continuous_%d_%s\", contIdx, featureName))\n",
    "\t\t\tquantiles := adult.Data.Quantiles[contIdx]\n",
    "\t\t\tlayers.AssertQuantilesForPWLCalibrationValid(quantiles)\n",
    "\t\t\tcalibrated := layers.PieceWiseLinearCalibration(calibrationCtx, split, Const(g, quantiles),\n",
    "\t\t\t\t*flagTrainableCalibration)\n",
    "\t\t\tcalibrated.AssertDims(batchSize, 1) // 2-dim tensor, with batch size as the leading dimension.\n",
    "\t\t\tallEmbeddings = append(allEmbeddings, calibrated)\n",
    "\t\t}\n",
    "\t}\n",
    "\tlogits := Concatenate(allEmbeddings, -1)\n",
    "\tlogits.AssertDims(batchSize, -1) // 2-dim tensor, with batch size as the leading dimension (-1 means it is not checked).\n",
    "\n",
    "\t// Model itself is an FNN or a KAN.\n",
    "\tif context.GetParamOr(ctx, \"kan\", false) {\n",
    "\t\t// Use KAN, all configured by context hyperparameters. See createDefaultContext for defaults.\n",
    "\t\tlogits = kan.New(ctx.In(\"kan\"), logits, 1).Done()\n",
    "\t} else {\n",
    "\t\t// Normal FNN, all configured by context hyperparameters. See createDefaultContext for defaults.\n",
    "\t\tlogits = fnn.New(ctx.In(\"fnn\"), logits, 1).Done()\n",
    "\t}\n",
    "\tlogits.AssertDims(batchSize, 1) // 2-dim tensor, with batch size as the leading dimension.\n",
    "\treturn []*Node{logits}\n",
    "}\n",
    "\n",
    "%%\n",
    "adult.LoadAndPreprocessData(*flagDataDir, *flagNumQuantiles, *flagForceDownload, *flagVerbosity)    \n",
    "\n",
    "// Let's just check that we get the right shape from the model function, wihtout any real data.\n",
    "ctx := contextFromSettings()\n",
    "graph := NewGraph(backend, \"test\")\n",
    "batchSize := context.GetParamOr(ctx, \"batch_size\", 128)\n",
    "// Create placeholder (parameters) graph nodes, just to test the graph building is working.\n",
    "inputs := []*Node{\n",
    "    // Categorical: shaped [batch_size, num_categorical]\n",
    "    Parameter(graph, \"categorical\", shapes.Make(dtypes.Int64, batchSize, len(adult.Data.VocabulariesFeatures))),\n",
    "    // Continuous: shaped [batch_size, num_continuos]\n",
    "    Parameter(graph, \"continuous\", shapes.Make(dtypes.Float32, batchSize, len(adult.Data.QuantilesFeatures))),\n",
    "    // Weights: shaped [batch_size, 1]\n",
    "    Parameter(graph, \"weights\", shapes.Make(dtypes.Float32, batchSize, 1)),    \n",
    "}\n",
    "logits := ModelGraph(ctx, nil, inputs)\n",
    "fmt.Printf(\"Logits shape for batch_size=%d: %s\\n\", batchSize, logits[0].Shape())"
   ]
  },
  {
   "cell_type": "markdown",
   "id": "618e1c7a-ced1-4914-8530-0924e02f095c",
   "metadata": {},
   "source": [
    "## Training Loop\n",
    "\n",
    "We can create a training loop with only a `Manager`, a `Context` (for the model varibles) and the `ModelGraph` function.\n",
    "\n",
    "To make it more interesting we also add the following:\n",
    "\n",
    "* Accuracy metrics for training and testing.\n",
    "* Checkpoints -- so trained model can be saved, and reloaded.\n",
    "* A progress-bar that also shows training metrics.\n",
    "* We dynamically plot how the loss and accuracy evolve.\n",
    "\n",
    "First we define the corresponding flags and the `trainModel` function, and run it for very few steps to make sure\n",
    "it is working."
   ]
  },
  {
   "cell_type": "code",
   "execution_count": 7,
   "id": "daf39a7c-7cc8-43a5-ae79-026303f5f502",
   "metadata": {
    "tags": []
   },
   "outputs": [
    {
     "name": "stdout",
     "output_type": "stream",
     "text": [
      "Training (100 steps):  100% [\u001b[32m=\u001b[0m\u001b[32m=\u001b[0m\u001b[32m=\u001b[0m\u001b[32m=\u001b[0m\u001b[32m=\u001b[0m\u001b[32m=\u001b[0m\u001b[32m=\u001b[0m\u001b[32m=\u001b[0m\u001b[32m=\u001b[0m\u001b[32m=\u001b[0m\u001b[32m=\u001b[0m\u001b[32m=\u001b[0m\u001b[32m=\u001b[0m\u001b[32m=\u001b[0m\u001b[32m=\u001b[0m\u001b[32m=\u001b[0m\u001b[32m=\u001b[0m\u001b[32m=\u001b[0m\u001b[32m=\u001b[0m\u001b[32m=\u001b[0m\u001b[32m=\u001b[0m\u001b[32m=\u001b[0m\u001b[32m=\u001b[0m\u001b[32m=\u001b[0m\u001b[32m=\u001b[0m\u001b[32m=\u001b[0m\u001b[32m=\u001b[0m\u001b[32m=\u001b[0m\u001b[32m=\u001b[0m\u001b[32m=\u001b[0m\u001b[32m=\u001b[0m\u001b[32m=\u001b[0m\u001b[32m=\u001b[0m\u001b[32m=\u001b[0m\u001b[32m=\u001b[0m\u001b[32m=\u001b[0m\u001b[32m=\u001b[0m\u001b[32m=\u001b[0m\u001b[32m=\u001b[0m\u001b[32m=\u001b[0m] (80 steps/s)\u001b[0m [step=99] [loss+=0.565] [~loss+=0.632] [~loss=0.632] [~acc=74.45%]         \n",
      "\t[Step 100] median train step: 1652 microseconds\n",
      "\n",
      "Results on batched train:\n",
      "\tMean Loss+Regularization (#loss+): 0.572\n",
      "\tMean Loss (#loss): 0.572\n",
      "\tMean Accuracy (#acc): 75.93%\n",
      "Results on test:\n",
      "\tMean Loss+Regularization (#loss+): 0.570\n",
      "\tMean Loss (#loss): 0.570\n",
      "\tMean Accuracy (#acc): 76.39%\n"
     ]
    }
   ],
   "source": [
    "import (\n",
    "    \"fmt\"\n",
    "    \"time\"\n",
    "    \"github.com/gomlx/gomlx/examples/notebook/gonb/plotly\"\n",
    ")\n",
    "\n",
    "var (\n",
    "    flagCheckpoint     = flag.String(\"checkpoint\", \"\", \"Directory save and load checkpoints from. If left empty, no checkpoints are created.\")\n",
    "    flagCheckpointKeep = flag.Int(\"checkpoint_keep\", 10, \"Number of checkpoints to keep, if --checkpoint is set.\")\n",
    "    flagPlots          = flag.Bool(\"plots\", true, \"Plots during training: perform periodic evaluations, \"+\n",
    "                                   \"save results if --checkpoint is set and draw plots, if in a Jupyter notebook.\")\n",
    "    flagPlotType       = flag.String(\"plot_type\", \"plotly\", \"Type of plot to use, values are \\\"plotly\\\" or \\\"margaid\\\"\")\n",
    ")\n",
    "\n",
    "func trainModel(ctx *context.Context) {\n",
    "    // Fixes directories.\n",
    "    *flagDataDir = data.ReplaceTildeInDir(*flagDataDir)\n",
    "\tcheckpointPath := data.ReplaceTildeInDir(*flagCheckpoint)\n",
    "\tif checkpointPath != \"\" && !path.IsAbs(checkpointPath) {\n",
    "\t\tcheckpointPath = path.Join(*flagDataDir, checkpointPath)\n",
    "\t}\n",
    "\tif checkpointPath != \"\" {\n",
    "\t\tctx.SetParam(\"checkpoint\", checkpointPath)\n",
    "\t} else {\n",
    "\t\tcheckpointPath = context.GetParamOr(ctx, \"checkpoint\", \"\")\n",
    "\t}\n",
    "\n",
    "    // Load data and create datasets.\n",
    "    adult.LoadAndPreprocessData(*flagDataDir, *flagNumQuantiles, *flagForceDownload, *flagVerbosity)    \n",
    "    trainDS, trainEvalDS, testEvalDS := BuildDatasets(ctx)\n",
    "\n",
    "    // Checkpoints loading (and saving): notice hyperparameters will be overwritten by values read from checkpoint.\n",
    "    trainSteps := context.GetParamOr(ctx, \"train_steps\", 0)\n",
    "\tvar globalStep int\n",
    "\tvar checkpoint *checkpoints.Handler\n",
    "\tif checkpointPath != \"\" {\n",
    "\t\tnumCheckpointsToKeep := context.GetParamOr(ctx, \"num_checkpoints\", 5)\n",
    "\t\tif numCheckpointsToKeep < 1 {\n",
    "\t\t\t// Only limit the amount of checkpoints kept if >= 1.\n",
    "\t\t\tcheckpoint = must.M1(checkpoints.Build(ctx).Dir(checkpointPath).Done())\n",
    "\t\t} else {\n",
    "\t\t\tcheckpoint = must.M1(checkpoints.Build(ctx).Dir(checkpointPath).Keep(numCheckpointsToKeep).Done())\n",
    "\t\t}\n",
    "\t\tglobalStep = int(optimizers.GetGlobalStep(ctx))\n",
    "\t\tif globalStep != 0 {\n",
    "\t\t\tfmt.Printf(\"\\t- restarting training from global_step=%d\\n\", globalStep)\n",
    "\t\t\tctx = ctx.Reuse()\n",
    "\t\t}\n",
    "\t}\n",
    "\n",
    "\t// Metrics we are interested.\n",
    "\tmeanAccuracyMetric := metrics.NewMeanBinaryLogitsAccuracy(\"Mean Accuracy\", \"#acc\")\n",
    "\tmovingAccuracyMetric := metrics.NewMovingAverageBinaryLogitsAccuracy(\"Moving Average Accuracy\", \"~acc\", 0.01)\n",
    "\n",
    "\n",
    "\t// Create a train.Trainer: this object will orchestrate running the model, feeding\n",
    "\t// results to the optimizer, evaluating the metrics, etc. (all happens in trainer.TrainStep)\n",
    "\ttrainer := train.NewTrainer(backend, ctx, ModelGraph, losses.BinaryCrossentropyLogits,\n",
    "\t\toptimizers.FromContext(ctx),\n",
    "\t\t[]metrics.Interface{movingAccuracyMetric}, // trainMetrics\n",
    "\t\t[]metrics.Interface{meanAccuracyMetric})   // evalMetrics\n",
    "\n",
    "    // Use standard training loop.\n",
    "    loop := train.NewLoop(trainer)\n",
    "    commandline.AttachProgressBar(loop) // Attaches a progress bar to the loop.\n",
    "\n",
    "    // Attach a checkpoint saver: checkpoint every 1 minute of training.\n",
    "    if checkpoint != nil {\n",
    "        period := time.Minute * 1\n",
    "        train.PeriodicCallback(loop, period, true, \"saving checkpoint\", 100,\n",
    "            func(loop *train.Loop, metrics []*tensors.Tensor) error {\n",
    "                fmt.Printf(\"\\n[saving checkpoint@%d] [median train step (ms): %d]\\n\", loop.LoopStep, loop.MedianTrainStepDuration().Milliseconds())\n",
    "                return checkpoint.Save()\n",
    "            })\n",
    "    }\n",
    "\n",
    "\t// Attach plots (using plotly): plot points at exponential steps.\n",
    "    // Points (metrics) are loaded and saved from/to the checkpoint (if it is not nil).\n",
    "\tusePlots := context.GetParamOr(ctx, plotly.ParamPlots, false)\n",
    "\tif usePlots {\n",
    "\t\t_ = plotly.New().\n",
    "            WithCheckpoint(checkpoint).\n",
    "\t\t\tScheduleExponential(loop, 200, 1.2).\n",
    "\t\t\tWithDatasets(trainEvalDS, testEvalDS).\n",
    "            Dynamic()\n",
    "\t}\n",
    "\n",
    "\t// Train up to \"train_steps\".\n",
    "\tif globalStep < trainSteps {\n",
    "\t\t_ = must.M1(loop.RunSteps(trainDS, trainSteps-globalStep))\n",
    "\t\tfmt.Printf(\"\\t[Step %d] median train step: %d microseconds\\n\", loop.LoopStep, loop.MedianTrainStepDuration().Microseconds())\n",
    "\t\tfmt.Println()\n",
    "\t} else {\n",
    "\t\tfmt.Printf(\"\\t - target train_steps=%d already reached. To train further, set a number additional \"+\n",
    "\t\t\t\"to current global step.\\n\", trainSteps)\n",
    "\t}\n",
    "\n",
    "\t// Finally, print an evaluation on train and test datasets.\n",
    "\tmust.M(commandline.ReportEval(trainer, trainEvalDS, testEvalDS))\n",
    "}\n",
    "\n",
    "// Notice command line flags are passed in the %% notebook command. We set plots=false here to disable plotting\n",
    "// since this is only a quick test that our train() loop is working. See below the final run for a full training.\n",
    "%% -set=\"train_steps=100;plots=false\"\n",
    "trainModel(contextFromSettings())"
   ]
  },
  {
   "cell_type": "markdown",
   "id": "6bb5db6b-3a2c-4f48-8264-f90b22a52ed0",
   "metadata": {},
   "source": [
    "## Final run with 5K steps\n",
    "\n",
    "With everything working, we can do our final run.\n",
    "\n",
    "> **Note** here is where someone might want to hyperparameter tune, trying out different hyperparameters."
   ]
  },
  {
   "cell_type": "code",
   "execution_count": 8,
   "id": "a9d901d9-c503-4a94-8dec-a471a18bbbee",
   "metadata": {},
   "outputs": [],
   "source": [
    "// Remove previously trained model -- skip this cell, if you want to continue training.\n",
    "!rm -rf ~/work/uci-adult/base_model"
   ]
  },
  {
   "cell_type": "code",
   "execution_count": 9,
   "id": "66939463-60d7-446f-b4f3-1d60abe7c17c",
   "metadata": {
    "tags": []
   },
   "outputs": [
    {
     "data": {
      "text/html": []
     },
     "metadata": {},
     "output_type": "display_data"
    },
    {
     "name": "stdout",
     "output_type": "stream",
     "text": [
      "Training (5000 steps):   14% [\u001b[32m=\u001b[0m\u001b[32m=\u001b[0m\u001b[32m=\u001b[0m\u001b[32m=\u001b[0m\u001b[32m>\u001b[0m...................................] (257 steps/s) [2s:16s]\u001b[0m [step=724] [loss+=0.347] [~loss+=0.320] [~loss=0.320] [~acc=85.96%]        "
     ]
    },
    {
     "data": {
      "text/html": []
     },
     "metadata": {},
     "output_type": "display_data"
    },
    {
     "name": "stdout",
     "output_type": "stream",
     "text": [
      "Training (5000 steps):  100% [\u001b[32m=\u001b[0m\u001b[32m=\u001b[0m\u001b[32m=\u001b[0m\u001b[32m=\u001b[0m\u001b[32m=\u001b[0m\u001b[32m=\u001b[0m\u001b[32m=\u001b[0m\u001b[32m=\u001b[0m\u001b[32m=\u001b[0m\u001b[32m=\u001b[0m\u001b[32m=\u001b[0m\u001b[32m=\u001b[0m\u001b[32m=\u001b[0m\u001b[32m=\u001b[0m\u001b[32m=\u001b[0m\u001b[32m=\u001b[0m\u001b[32m=\u001b[0m\u001b[32m=\u001b[0m\u001b[32m=\u001b[0m\u001b[32m=\u001b[0m\u001b[32m=\u001b[0m\u001b[32m=\u001b[0m\u001b[32m=\u001b[0m\u001b[32m=\u001b[0m\u001b[32m=\u001b[0m\u001b[32m=\u001b[0m\u001b[32m=\u001b[0m\u001b[32m=\u001b[0m\u001b[32m=\u001b[0m\u001b[32m=\u001b[0m\u001b[32m=\u001b[0m\u001b[32m=\u001b[0m\u001b[32m=\u001b[0m\u001b[32m=\u001b[0m\u001b[32m=\u001b[0m\u001b[32m=\u001b[0m\u001b[32m=\u001b[0m\u001b[32m=\u001b[0m\u001b[32m=\u001b[0m\u001b[32m=\u001b[0m] (487 steps/s)\u001b[0m [step=4999] [loss+=0.174] [~loss+=0.269] [~loss=0.269] [~acc=87.59%]        \n",
      "\n",
      "[saving checkpoint@5000] [median train step (ms): 1]\n"
     ]
    },
    {
     "data": {
      "text/html": [
       "<p><b>Metric: accuracy</b></p>\n"
      ]
     },
     "metadata": {},
     "output_type": "display_data"
    },
    {
     "data": {
      "text/html": [
       "<div id=\"9bc4cd21\"></div>"
      ]
     },
     "metadata": {},
     "output_type": "display_data"
    },
    {
     "data": {
      "text/html": [
       "<script charset=\"UTF-8\">\n",
       "(() => {\n",
       "\tconst src=\"https://cdn.plot.ly/plotly-2.29.1.min.js\";\n",
       "\tvar runJSFn = function(module) {\n",
       "\t\t\n",
       "\tif (!module) {\n",
       "\t\tmodule = window.Plotly;\n",
       "\t}\n",
       "\tlet data = JSON.parse('{\"data\":[{\"type\":\"scatter\",\"line\":{\"shape\":\"linear\"},\"mode\":\"lines+markers\",\"name\":\"Train: Moving Average Accuracy\",\"x\":[200,440,728,1074,1489,1987,2585,3303,4165,5000],\"y\":[0.79742032289505,0.8480488061904907,0.8600007891654968,0.867789626121521,0.86802738904953,0.8674853444099426,0.8757627010345459,0.872442901134491,0.876616358757019,0.8759357333183289]},{\"type\":\"scatter\",\"line\":{\"shape\":\"linear\"},\"mode\":\"lines+markers\",\"name\":\"Eval on batched train: Mean Accuracy\",\"x\":[200,440,728,1074,1489,1987,2585,3303,4165,5000],\"y\":[0.8396854996681213,0.8553484082221985,0.8628113269805908,0.8695986270904541,0.8681551814079285,0.8733454346656799,0.8751574158668518,0.8707349300384521,0.8736832737922668,0.8734068274497986]},{\"type\":\"scatter\",\"line\":{\"shape\":\"linear\"},\"mode\":\"lines+markers\",\"name\":\"Eval on test: Mean Accuracy\",\"x\":[200,440,728,1074,1489,1987,2585,3303,4165,5000],\"y\":[0.8426386117935181,0.8553528189659119,0.8636446595191956,0.8670228719711304,0.8632147312164307,0.8713223338127136,0.8718137145042419,0.8662243485450745,0.8699096441268921,0.8718751072883606]}],\"layout\":{\"legend\":{},\"title\":{\"text\":\"accuracy\"},\"xaxis\":{\"showgrid\":true,\"type\":\"log\"},\"yaxis\":{\"showgrid\":true,\"type\":\"log\"}}}');\n",
       "\tmodule.newPlot('9bc4cd21', data);\n",
       "\n",
       "\t}\n",
       "\t\n",
       "    if (typeof requirejs === \"function\") {\n",
       "        // Use RequireJS to load module.\n",
       "\t\tlet srcWithoutExtension = src.substring(0, src.lastIndexOf(\".js\"));\n",
       "        requirejs.config({\n",
       "            paths: {\n",
       "                'plotly': srcWithoutExtension\n",
       "            }\n",
       "        });\n",
       "        require(['plotly'], function(plotly) {\n",
       "            runJSFn(plotly)\n",
       "        });\n",
       "        return\n",
       "    }\n",
       "\n",
       "\tvar currentScripts = document.head.getElementsByTagName(\"script\");\n",
       "\tfor (const idx in currentScripts) {\n",
       "\t\tlet script = currentScripts[idx];\n",
       "\t\tif (script.src == src) {\n",
       "\t\t\trunJSFn(null);\n",
       "\t\t\treturn;\n",
       "\t\t}\n",
       "\t}\n",
       "\n",
       "\tvar script = document.createElement(\"script\");\n",
       "\n",
       "\tscript.charset = \"utf-8\";\n",
       "\t\n",
       "\tscript.src = src;\n",
       "\tscript.onload = script.onreadystatechange = function () { runJSFn(null); };\n",
       "\tdocument.head.appendChild(script);\t\n",
       "})();\n",
       "</script>"
      ]
     },
     "metadata": {},
     "output_type": "display_data"
    },
    {
     "data": {
      "text/html": [
       "<p><b>Metric: loss</b></p>\n"
      ]
     },
     "metadata": {},
     "output_type": "display_data"
    },
    {
     "data": {
      "text/html": [
       "<div id=\"d504ab3b\"></div>"
      ]
     },
     "metadata": {},
     "output_type": "display_data"
    },
    {
     "data": {
      "text/html": [
       "<script charset=\"UTF-8\">\n",
       "(() => {\n",
       "\tconst src=\"https://cdn.plot.ly/plotly-2.29.1.min.js\";\n",
       "\tvar runJSFn = function(module) {\n",
       "\t\t\n",
       "\tif (!module) {\n",
       "\t\tmodule = window.Plotly;\n",
       "\t}\n",
       "\tlet data = JSON.parse('{\"data\":[{\"type\":\"scatter\",\"line\":{\"shape\":\"linear\"},\"mode\":\"lines+markers\",\"name\":\"Train: Batch Loss+Regularization\",\"x\":[200,440,728,1074,1489,1987,2585,3303,4165,5000],\"y\":[0.40613141655921936,0.31863850355148315,0.33315834403038025,0.274858295917511,0.2775038480758667,0.3672237992286682,0.28914642333984375,0.2608291506767273,0.26313596963882446,0.1736120730638504]},{\"type\":\"scatter\",\"line\":{\"shape\":\"linear\"},\"mode\":\"lines+markers\",\"name\":\"Train: Moving Average Loss+Regularization\",\"x\":[200,440,728,1074,1489,1987,2585,3303,4165,5000],\"y\":[0.5298148989677429,0.37090110778808594,0.31868255138397217,0.2960769832134247,0.28554216027259827,0.28437530994415283,0.27153268456459045,0.27707216143608093,0.26969823241233826,0.2694123685359955]},{\"type\":\"scatter\",\"line\":{\"shape\":\"linear\"},\"mode\":\"lines+markers\",\"name\":\"Train: Moving Average Loss\",\"x\":[200,440,728,1074,1489,1987,2585,3303,4165,5000],\"y\":[0.5296037793159485,0.37062394618988037,0.31841394305229187,0.29581788182258606,0.2852839529514313,0.28411340713500977,0.27126631140708923,0.27680087089538574,0.2694209814071655,0.26912832260131836]},{\"type\":\"scatter\",\"line\":{\"shape\":\"linear\"},\"mode\":\"lines+markers\",\"name\":\"Eval on batched train: Mean Loss+Regularization\",\"x\":[200,440,728,1074,1489,1987,2585,3303,4165,5000],\"y\":[0.42384302616119385,0.33895212411880493,0.30717968940734863,0.2904236614704132,0.2863101363182068,0.2771502733230591,0.2739831805229187,0.27692535519599915,0.2715953588485718,0.27179768681526184]},{\"type\":\"scatter\",\"line\":{\"shape\":\"linear\"},\"mode\":\"lines+markers\",\"name\":\"Eval on batched train: Mean Loss\",\"x\":[200,440,728,1074,1489,1987,2585,3303,4165,5000],\"y\":[0.42356371879577637,0.33867472410202026,0.30691298842430115,0.29016369581222534,0.28605183959007263,0.27688825130462646,0.273715615272522,0.2766554355621338,0.27131620049476624,0.27151069045066833]},{\"type\":\"scatter\",\"line\":{\"shape\":\"linear\"},\"mode\":\"lines+markers\",\"name\":\"Eval on test: Mean Loss+Regularization\",\"x\":[200,440,728,1074,1489,1987,2585,3303,4165,5000],\"y\":[0.4206213653087616,0.3372052013874054,0.3107515275478363,0.29649317264556885,0.29332736134529114,0.2848365306854248,0.2823268175125122,0.2852063477039337,0.28056395053863525,0.2816283106803894]},{\"type\":\"scatter\",\"line\":{\"shape\":\"linear\"},\"mode\":\"lines+markers\",\"name\":\"Eval on test: Mean Loss\",\"x\":[200,440,728,1074,1489,1987,2585,3303,4165,5000],\"y\":[0.4203420877456665,0.3369278609752655,0.3104848265647888,0.29623323678970337,0.2930689752101898,0.2845744788646698,0.28205931186676025,0.28493645787239075,0.2802848517894745,0.2813413143157959]}],\"layout\":{\"legend\":{},\"title\":{\"text\":\"loss\"},\"xaxis\":{\"showgrid\":true,\"type\":\"log\"},\"yaxis\":{\"showgrid\":true,\"type\":\"log\"}}}');\n",
       "\tmodule.newPlot('d504ab3b', data);\n",
       "\n",
       "\t}\n",
       "\t\n",
       "    if (typeof requirejs === \"function\") {\n",
       "        // Use RequireJS to load module.\n",
       "\t\tlet srcWithoutExtension = src.substring(0, src.lastIndexOf(\".js\"));\n",
       "        requirejs.config({\n",
       "            paths: {\n",
       "                'plotly': srcWithoutExtension\n",
       "            }\n",
       "        });\n",
       "        require(['plotly'], function(plotly) {\n",
       "            runJSFn(plotly)\n",
       "        });\n",
       "        return\n",
       "    }\n",
       "\n",
       "\tvar currentScripts = document.head.getElementsByTagName(\"script\");\n",
       "\tfor (const idx in currentScripts) {\n",
       "\t\tlet script = currentScripts[idx];\n",
       "\t\tif (script.src == src) {\n",
       "\t\t\trunJSFn(null);\n",
       "\t\t\treturn;\n",
       "\t\t}\n",
       "\t}\n",
       "\n",
       "\tvar script = document.createElement(\"script\");\n",
       "\n",
       "\tscript.charset = \"utf-8\";\n",
       "\t\n",
       "\tscript.src = src;\n",
       "\tscript.onload = script.onreadystatechange = function () { runJSFn(null); };\n",
       "\tdocument.head.appendChild(script);\t\n",
       "})();\n",
       "</script>"
      ]
     },
     "metadata": {},
     "output_type": "display_data"
    },
    {
     "name": "stdout",
     "output_type": "stream",
     "text": [
      "\t[Step 5000] median train step: 1581 microseconds\n",
      "\n",
      "Results on batched train:\n",
      "\tMean Loss+Regularization (#loss+): 0.272\n",
      "\tMean Loss (#loss): 0.272\n",
      "\tMean Accuracy (#acc): 87.34%\n",
      "Results on test:\n",
      "\tMean Loss+Regularization (#loss+): 0.282\n",
      "\tMean Loss (#loss): 0.281\n",
      "\tMean Accuracy (#acc): 87.19%\n"
     ]
    }
   ],
   "source": [
    "%% --checkpoint base_model -set=\"plots=true;train_steps=5000\"\n",
    "trainModel(contextFromSettings())"
   ]
  },
  {
   "cell_type": "markdown",
   "id": "c38d8a41-3e9c-4107-a507-c879ef27e3e3",
   "metadata": {},
   "source": [
    "## Extend training another 5K steps\n",
    "\n",
    "Since the model training went well, and it doesn't seem to be yet terribly overfiting, \n",
    "let's train further, another 5k steps, for 10K steps in total.\n",
    "\n",
    "Notice the plots continue from where it stopped. And this time we use [Plotly](https://plotly.com/javascript/) to plot the training results -- they don't display in Github since they depend on javascript.\n",
    "\n",
    "Unfortunately, it doesn't help (the accuracy on the test set doesn't improve), 5k steps was already enough."
   ]
  },
  {
   "cell_type": "code",
   "execution_count": 10,
   "id": "95983f61-2a98-442d-bc5d-896006289a2b",
   "metadata": {
    "tags": []
   },
   "outputs": [
    {
     "name": "stdout",
     "output_type": "stream",
     "text": [
      "train_steps=10000\n",
      "\t- restarting training from global_step=5000\n"
     ]
    },
    {
     "data": {
      "text/html": []
     },
     "metadata": {},
     "output_type": "display_data"
    },
    {
     "data": {
      "text/html": []
     },
     "metadata": {},
     "output_type": "display_data"
    },
    {
     "name": "stdout",
     "output_type": "stream",
     "text": [
      "Training (5000 steps):  100% [\u001b[32m=\u001b[0m\u001b[32m=\u001b[0m\u001b[32m=\u001b[0m\u001b[32m=\u001b[0m\u001b[32m=\u001b[0m\u001b[32m=\u001b[0m\u001b[32m=\u001b[0m\u001b[32m=\u001b[0m\u001b[32m=\u001b[0m\u001b[32m=\u001b[0m\u001b[32m=\u001b[0m\u001b[32m=\u001b[0m\u001b[32m=\u001b[0m\u001b[32m=\u001b[0m\u001b[32m=\u001b[0m\u001b[32m=\u001b[0m\u001b[32m=\u001b[0m\u001b[32m=\u001b[0m\u001b[32m=\u001b[0m\u001b[32m=\u001b[0m\u001b[32m=\u001b[0m\u001b[32m=\u001b[0m\u001b[32m=\u001b[0m\u001b[32m=\u001b[0m\u001b[32m=\u001b[0m\u001b[32m=\u001b[0m\u001b[32m=\u001b[0m\u001b[32m=\u001b[0m\u001b[32m=\u001b[0m\u001b[32m=\u001b[0m\u001b[32m=\u001b[0m\u001b[32m=\u001b[0m\u001b[32m=\u001b[0m\u001b[32m=\u001b[0m\u001b[32m=\u001b[0m\u001b[32m=\u001b[0m\u001b[32m=\u001b[0m\u001b[32m=\u001b[0m\u001b[32m=\u001b[0m\u001b[32m=\u001b[0m] (518 steps/s)\u001b[0m [step=9999] [loss+=0.268] [~loss+=0.268] [~loss=0.268] [~acc=87.31%]        \n",
      "\n",
      "[saving checkpoint@10000] [median train step (ms): 1]\n"
     ]
    },
    {
     "data": {
      "text/html": [
       "<p><b>Metric: accuracy</b></p>\n"
      ]
     },
     "metadata": {},
     "output_type": "display_data"
    },
    {
     "data": {
      "text/html": [
       "<div id=\"8f3068a4\"></div>"
      ]
     },
     "metadata": {},
     "output_type": "display_data"
    },
    {
     "data": {
      "text/html": [
       "<script charset=\"UTF-8\">\n",
       "(() => {\n",
       "\tconst src=\"https://cdn.plot.ly/plotly-2.29.1.min.js\";\n",
       "\tvar runJSFn = function(module) {\n",
       "\t\t\n",
       "\tif (!module) {\n",
       "\t\tmodule = window.Plotly;\n",
       "\t}\n",
       "\tlet data = JSON.parse('{\"data\":[{\"type\":\"scatter\",\"line\":{\"shape\":\"linear\"},\"mode\":\"lines+markers\",\"name\":\"Train: Moving Average Accuracy\",\"x\":[200,440,728,1074,1489,1987,2585,3303,4165,5000,5199,6440,7929,9716,10000],\"y\":[0.79742032289505,0.8480488061904907,0.8600007891654968,0.867789626121521,0.86802738904953,0.8674853444099426,0.8757627010345459,0.872442901134491,0.876616358757019,0.8759357333183289,0.8732091784477234,0.8731598854064941,0.8724443316459656,0.8759616017341614,0.8731194138526917]},{\"type\":\"scatter\",\"line\":{\"shape\":\"linear\"},\"mode\":\"lines+markers\",\"name\":\"Eval on batched train: Mean Accuracy\",\"x\":[200,440,728,1074,1489,1987,2585,3303,4165,5000,5199,6440,7929,9716,10000],\"y\":[0.8396854996681213,0.8553484082221985,0.8628113269805908,0.8695986270904541,0.8681551814079285,0.8733454346656799,0.8751574158668518,0.8707349300384521,0.8736832737922668,0.8734068274497986,0.8748502731323242,0.8734068274497986,0.8746045827865601,0.8750038743019104,0.8742974996566772]},{\"type\":\"scatter\",\"line\":{\"shape\":\"linear\"},\"mode\":\"lines+markers\",\"name\":\"Eval on test: Mean Accuracy\",\"x\":[200,440,728,1074,1489,1987,2585,3303,4165,5000,5199,6440,7929,9716,10000],\"y\":[0.8426386117935181,0.8553528189659119,0.8636446595191956,0.8670228719711304,0.8632147312164307,0.8713223338127136,0.8718137145042419,0.8662243485450745,0.8699096441268921,0.8718751072883606,0.8723664879798889,0.8684355616569519,0.8727964758872986,0.8720594048500061,0.8715680241584778]}],\"layout\":{\"legend\":{},\"title\":{\"text\":\"accuracy\"},\"xaxis\":{\"showgrid\":true,\"type\":\"log\"},\"yaxis\":{\"showgrid\":true,\"type\":\"log\"}}}');\n",
       "\tmodule.newPlot('8f3068a4', data);\n",
       "\n",
       "\t}\n",
       "\t\n",
       "    if (typeof requirejs === \"function\") {\n",
       "        // Use RequireJS to load module.\n",
       "\t\tlet srcWithoutExtension = src.substring(0, src.lastIndexOf(\".js\"));\n",
       "        requirejs.config({\n",
       "            paths: {\n",
       "                'plotly': srcWithoutExtension\n",
       "            }\n",
       "        });\n",
       "        require(['plotly'], function(plotly) {\n",
       "            runJSFn(plotly)\n",
       "        });\n",
       "        return\n",
       "    }\n",
       "\n",
       "\tvar currentScripts = document.head.getElementsByTagName(\"script\");\n",
       "\tfor (const idx in currentScripts) {\n",
       "\t\tlet script = currentScripts[idx];\n",
       "\t\tif (script.src == src) {\n",
       "\t\t\trunJSFn(null);\n",
       "\t\t\treturn;\n",
       "\t\t}\n",
       "\t}\n",
       "\n",
       "\tvar script = document.createElement(\"script\");\n",
       "\n",
       "\tscript.charset = \"utf-8\";\n",
       "\t\n",
       "\tscript.src = src;\n",
       "\tscript.onload = script.onreadystatechange = function () { runJSFn(null); };\n",
       "\tdocument.head.appendChild(script);\t\n",
       "})();\n",
       "</script>"
      ]
     },
     "metadata": {},
     "output_type": "display_data"
    },
    {
     "data": {
      "text/html": [
       "<p><b>Metric: loss</b></p>\n"
      ]
     },
     "metadata": {},
     "output_type": "display_data"
    },
    {
     "data": {
      "text/html": [
       "<div id=\"16d73943\"></div>"
      ]
     },
     "metadata": {},
     "output_type": "display_data"
    },
    {
     "data": {
      "text/html": [
       "<script charset=\"UTF-8\">\n",
       "(() => {\n",
       "\tconst src=\"https://cdn.plot.ly/plotly-2.29.1.min.js\";\n",
       "\tvar runJSFn = function(module) {\n",
       "\t\t\n",
       "\tif (!module) {\n",
       "\t\tmodule = window.Plotly;\n",
       "\t}\n",
       "\tlet data = JSON.parse('{\"data\":[{\"type\":\"scatter\",\"line\":{\"shape\":\"linear\"},\"mode\":\"lines+markers\",\"name\":\"Train: Batch Loss+Regularization\",\"x\":[200,440,728,1074,1489,1987,2585,3303,4165,5000,5199,6440,7929,9716,10000],\"y\":[0.40613141655921936,0.31863850355148315,0.33315834403038025,0.274858295917511,0.2775038480758667,0.3672237992286682,0.28914642333984375,0.2608291506767273,0.26313596963882446,0.1736120730638504,0.2883206307888031,0.29920023679733276,0.24347317218780518,0.28037989139556885,0.2677115499973297]},{\"type\":\"scatter\",\"line\":{\"shape\":\"linear\"},\"mode\":\"lines+markers\",\"name\":\"Train: Moving Average Loss+Regularization\",\"x\":[200,440,728,1074,1489,1987,2585,3303,4165,5000,5199,6440,7929,9716,10000],\"y\":[0.5298148989677429,0.37090110778808594,0.31868255138397217,0.2960769832134247,0.28554216027259827,0.28437530994415283,0.27153268456459045,0.27707216143608093,0.26969823241233826,0.2694123685359955,0.272215873003006,0.2716979384422302,0.26972219347953796,0.2672950327396393,0.26818573474884033]},{\"type\":\"scatter\",\"line\":{\"shape\":\"linear\"},\"mode\":\"lines+markers\",\"name\":\"Train: Moving Average Loss\",\"x\":[200,440,728,1074,1489,1987,2585,3303,4165,5000,5199,6440,7929,9716,10000],\"y\":[0.5296037793159485,0.37062394618988037,0.31841394305229187,0.29581788182258606,0.2852839529514313,0.28411340713500977,0.27126631140708923,0.27680087089538574,0.2694209814071655,0.26912832260131836,0.27193009853363037,0.2714029848575592,0.2694181799888611,0.26697906851768494,0.26786941289901733]},{\"type\":\"scatter\",\"line\":{\"shape\":\"linear\"},\"mode\":\"lines+markers\",\"name\":\"Eval on batched train: Mean Loss+Regularization\",\"x\":[200,440,728,1074,1489,1987,2585,3303,4165,5000,5199,6440,7929,9716,10000],\"y\":[0.42384302616119385,0.33895212411880493,0.30717968940734863,0.2904236614704132,0.2863101363182068,0.2771502733230591,0.2739831805229187,0.27692535519599915,0.2715953588485718,0.27179768681526184,0.26950106024742126,0.27074816823005676,0.2691703140735626,0.26890796422958374,0.2683268189430237]},{\"type\":\"scatter\",\"line\":{\"shape\":\"linear\"},\"mode\":\"lines+markers\",\"name\":\"Eval on batched train: Mean Loss\",\"x\":[200,440,728,1074,1489,1987,2585,3303,4165,5000,5199,6440,7929,9716,10000],\"y\":[0.42356371879577637,0.33867472410202026,0.30691298842430115,0.29016369581222534,0.28605183959007263,0.27688825130462646,0.273715615272522,0.2766554355621338,0.27131620049476624,0.27151069045066833,0.26921409368515015,0.2704513669013977,0.26886633038520813,0.26859161257743835,0.2680094242095947]},{\"type\":\"scatter\",\"line\":{\"shape\":\"linear\"},\"mode\":\"lines+markers\",\"name\":\"Eval on test: Mean Loss+Regularization\",\"x\":[200,440,728,1074,1489,1987,2585,3303,4165,5000,5199,6440,7929,9716,10000],\"y\":[0.4206213653087616,0.3372052013874054,0.3107515275478363,0.29649317264556885,0.29332736134529114,0.2848365306854248,0.2823268175125122,0.2852063477039337,0.28056395053863525,0.2816283106803894,0.279314786195755,0.2817439138889313,0.2797914445400238,0.28081852197647095,0.2796515226364136]},{\"type\":\"scatter\",\"line\":{\"shape\":\"linear\"},\"mode\":\"lines+markers\",\"name\":\"Eval on test: Mean Loss\",\"x\":[200,440,728,1074,1489,1987,2585,3303,4165,5000,5199,6440,7929,9716,10000],\"y\":[0.4203420877456665,0.3369278609752655,0.3104848265647888,0.29623323678970337,0.2930689752101898,0.2845744788646698,0.28205931186676025,0.28493645787239075,0.2802848517894745,0.2813413143157959,0.27902787923812866,0.2814471125602722,0.2794874906539917,0.28050222992897034,0.2793341279029846]}],\"layout\":{\"legend\":{},\"title\":{\"text\":\"loss\"},\"xaxis\":{\"showgrid\":true,\"type\":\"log\"},\"yaxis\":{\"showgrid\":true,\"type\":\"log\"}}}');\n",
       "\tmodule.newPlot('16d73943', data);\n",
       "\n",
       "\t}\n",
       "\t\n",
       "    if (typeof requirejs === \"function\") {\n",
       "        // Use RequireJS to load module.\n",
       "\t\tlet srcWithoutExtension = src.substring(0, src.lastIndexOf(\".js\"));\n",
       "        requirejs.config({\n",
       "            paths: {\n",
       "                'plotly': srcWithoutExtension\n",
       "            }\n",
       "        });\n",
       "        require(['plotly'], function(plotly) {\n",
       "            runJSFn(plotly)\n",
       "        });\n",
       "        return\n",
       "    }\n",
       "\n",
       "\tvar currentScripts = document.head.getElementsByTagName(\"script\");\n",
       "\tfor (const idx in currentScripts) {\n",
       "\t\tlet script = currentScripts[idx];\n",
       "\t\tif (script.src == src) {\n",
       "\t\t\trunJSFn(null);\n",
       "\t\t\treturn;\n",
       "\t\t}\n",
       "\t}\n",
       "\n",
       "\tvar script = document.createElement(\"script\");\n",
       "\n",
       "\tscript.charset = \"utf-8\";\n",
       "\t\n",
       "\tscript.src = src;\n",
       "\tscript.onload = script.onreadystatechange = function () { runJSFn(null); };\n",
       "\tdocument.head.appendChild(script);\t\n",
       "})();\n",
       "</script>"
      ]
     },
     "metadata": {},
     "output_type": "display_data"
    },
    {
     "name": "stdout",
     "output_type": "stream",
     "text": [
      "\t[Step 10000] median train step: 1552 microseconds\n",
      "\n",
      "Results on batched train:\n",
      "\tMean Loss+Regularization (#loss+): 0.268\n",
      "\tMean Loss (#loss): 0.268\n",
      "\tMean Accuracy (#acc): 87.43%\n",
      "Results on test:\n",
      "\tMean Loss+Regularization (#loss+): 0.280\n",
      "\tMean Loss (#loss): 0.279\n",
      "\tMean Accuracy (#acc): 87.16%\n"
     ]
    }
   ],
   "source": [
    "%% --checkpoint base_model -set=\"plots=true;train_steps=10000\"\n",
    "ctx := contextFromSettings()\n",
    "fmt.Printf(\"train_steps=%d\\n\", context.GetParamOr(ctx, \"train_steps\", 0))\n",
    "trainModel(ctx)\n"
   ]
  },
  {
   "cell_type": "markdown",
   "id": "06427d06-00d5-4ee5-a408-ddb58621317f",
   "metadata": {},
   "source": [
    "## Using Kolmogorov-Arnold Networks (KAN)\n",
    "\n",
    "Since it's avaialable as a layer (see package `kan`), the model supports it by simply changing a hyperparameter.\n",
    "\n",
    "See description in https://arxiv.org/pdf/2404.19756"
   ]
  },
  {
   "cell_type": "code",
   "execution_count": 11,
   "id": "c5d50910-c351-4dda-98cb-5abae8a11ca8",
   "metadata": {},
   "outputs": [],
   "source": [
    "// Remove previously trained model -- skip this cell, if you want to continue training.\n",
    "!rm -rf ~/work/uci-adult/kan_model"
   ]
  },
  {
   "cell_type": "code",
   "execution_count": 12,
   "id": "7ce56c29-0678-4a4f-a028-7a86de57e915",
   "metadata": {},
   "outputs": [
    {
     "data": {
      "text/html": []
     },
     "metadata": {},
     "output_type": "display_data"
    },
    {
     "name": "stdout",
     "output_type": "stream",
     "text": [
      "Training (5000 steps):   14% [\u001b[32m=\u001b[0m\u001b[32m=\u001b[0m\u001b[32m=\u001b[0m\u001b[32m=\u001b[0m\u001b[32m>\u001b[0m...................................] (220 steps/s) [4s:19s]\u001b[0m [step=724] [loss+=0.373] [~loss+=0.290] [~loss=0.287] [~acc=86.79%]        "
     ]
    },
    {
     "data": {
      "text/html": []
     },
     "metadata": {},
     "output_type": "display_data"
    },
    {
     "name": "stdout",
     "output_type": "stream",
     "text": [
      "Training (5000 steps):  100% [\u001b[32m=\u001b[0m\u001b[32m=\u001b[0m\u001b[32m=\u001b[0m\u001b[32m=\u001b[0m\u001b[32m=\u001b[0m\u001b[32m=\u001b[0m\u001b[32m=\u001b[0m\u001b[32m=\u001b[0m\u001b[32m=\u001b[0m\u001b[32m=\u001b[0m\u001b[32m=\u001b[0m\u001b[32m=\u001b[0m\u001b[32m=\u001b[0m\u001b[32m=\u001b[0m\u001b[32m=\u001b[0m\u001b[32m=\u001b[0m\u001b[32m=\u001b[0m\u001b[32m=\u001b[0m\u001b[32m=\u001b[0m\u001b[32m=\u001b[0m\u001b[32m=\u001b[0m\u001b[32m=\u001b[0m\u001b[32m=\u001b[0m\u001b[32m=\u001b[0m\u001b[32m=\u001b[0m\u001b[32m=\u001b[0m\u001b[32m=\u001b[0m\u001b[32m=\u001b[0m\u001b[32m=\u001b[0m\u001b[32m=\u001b[0m\u001b[32m=\u001b[0m\u001b[32m=\u001b[0m\u001b[32m=\u001b[0m\u001b[32m=\u001b[0m\u001b[32m=\u001b[0m\u001b[32m=\u001b[0m\u001b[32m=\u001b[0m\u001b[32m=\u001b[0m\u001b[32m=\u001b[0m\u001b[32m=\u001b[0m] (407 steps/s)\u001b[0m [step=4999] [loss+=0.262] [~loss+=0.272] [~loss=0.269] [~acc=87.34%]        \n",
      "\n",
      "[saving checkpoint@5000] [median train step (ms): 1]\n"
     ]
    },
    {
     "data": {
      "text/html": [
       "<p><b>Metric: accuracy</b></p>\n"
      ]
     },
     "metadata": {},
     "output_type": "display_data"
    },
    {
     "data": {
      "text/html": [
       "<div id=\"b6915754\"></div>"
      ]
     },
     "metadata": {},
     "output_type": "display_data"
    },
    {
     "data": {
      "text/html": [
       "<script charset=\"UTF-8\">\n",
       "(() => {\n",
       "\tconst src=\"https://cdn.plot.ly/plotly-2.29.1.min.js\";\n",
       "\tvar runJSFn = function(module) {\n",
       "\t\t\n",
       "\tif (!module) {\n",
       "\t\tmodule = window.Plotly;\n",
       "\t}\n",
       "\tlet data = JSON.parse('{\"data\":[{\"type\":\"scatter\",\"line\":{\"shape\":\"linear\"},\"mode\":\"lines+markers\",\"name\":\"Train: Moving Average Accuracy\",\"x\":[200,440,728,1074,1489,1987,2585,3303,4165,5000],\"y\":[0.8391783237457275,0.8662722706794739,0.8686350584030151,0.869591236114502,0.8716350197792053,0.8714936375617981,0.8696949481964111,0.8729804158210754,0.877238929271698,0.8734132647514343]},{\"type\":\"scatter\",\"line\":{\"shape\":\"linear\"},\"mode\":\"lines+markers\",\"name\":\"Eval on batched train: Mean Accuracy\",\"x\":[200,440,728,1074,1489,1987,2585,3303,4165,5000],\"y\":[0.8605079650878906,0.8671109676361084,0.8723933696746826,0.8710113167762756,0.8738368153572083,0.8715334534645081,0.8745124936103821,0.875065267086029,0.8733147382736206,0.8765701651573181]},{\"type\":\"scatter\",\"line\":{\"shape\":\"linear\"},\"mode\":\"lines+markers\",\"name\":\"Eval on test: Mean Accuracy\",\"x\":[200,440,728,1074,1489,1987,2585,3303,4165,5000],\"y\":[0.8585467338562012,0.8658558130264282,0.8684355616569519,0.8678827285766602,0.8694797158241272,0.8681284189224243,0.868558406829834,0.8720594048500061,0.8675756454467773,0.872489333152771]}],\"layout\":{\"legend\":{},\"title\":{\"text\":\"accuracy\"},\"xaxis\":{\"showgrid\":true,\"type\":\"log\"},\"yaxis\":{\"showgrid\":true,\"type\":\"log\"}}}');\n",
       "\tmodule.newPlot('b6915754', data);\n",
       "\n",
       "\t}\n",
       "\t\n",
       "    if (typeof requirejs === \"function\") {\n",
       "        // Use RequireJS to load module.\n",
       "\t\tlet srcWithoutExtension = src.substring(0, src.lastIndexOf(\".js\"));\n",
       "        requirejs.config({\n",
       "            paths: {\n",
       "                'plotly': srcWithoutExtension\n",
       "            }\n",
       "        });\n",
       "        require(['plotly'], function(plotly) {\n",
       "            runJSFn(plotly)\n",
       "        });\n",
       "        return\n",
       "    }\n",
       "\n",
       "\tvar currentScripts = document.head.getElementsByTagName(\"script\");\n",
       "\tfor (const idx in currentScripts) {\n",
       "\t\tlet script = currentScripts[idx];\n",
       "\t\tif (script.src == src) {\n",
       "\t\t\trunJSFn(null);\n",
       "\t\t\treturn;\n",
       "\t\t}\n",
       "\t}\n",
       "\n",
       "\tvar script = document.createElement(\"script\");\n",
       "\n",
       "\tscript.charset = \"utf-8\";\n",
       "\t\n",
       "\tscript.src = src;\n",
       "\tscript.onload = script.onreadystatechange = function () { runJSFn(null); };\n",
       "\tdocument.head.appendChild(script);\t\n",
       "})();\n",
       "</script>"
      ]
     },
     "metadata": {},
     "output_type": "display_data"
    },
    {
     "data": {
      "text/html": [
       "<p><b>Metric: loss</b></p>\n"
      ]
     },
     "metadata": {},
     "output_type": "display_data"
    },
    {
     "data": {
      "text/html": [
       "<div id=\"72cddaa3\"></div>"
      ]
     },
     "metadata": {},
     "output_type": "display_data"
    },
    {
     "data": {
      "text/html": [
       "<script charset=\"UTF-8\">\n",
       "(() => {\n",
       "\tconst src=\"https://cdn.plot.ly/plotly-2.29.1.min.js\";\n",
       "\tvar runJSFn = function(module) {\n",
       "\t\t\n",
       "\tif (!module) {\n",
       "\t\tmodule = window.Plotly;\n",
       "\t}\n",
       "\tlet data = JSON.parse('{\"data\":[{\"type\":\"scatter\",\"line\":{\"shape\":\"linear\"},\"mode\":\"lines+markers\",\"name\":\"Train: Batch Loss+Regularization\",\"x\":[200,440,728,1074,1489,1987,2585,3303,4165,5000],\"y\":[0.313633531332016,0.32536861300468445,0.23780132830142975,0.23306913673877716,0.2096318155527115,0.21829934418201447,0.21450087428092957,0.23851421475410461,0.30215856432914734,0.26181092858314514]},{\"type\":\"scatter\",\"line\":{\"shape\":\"linear\"},\"mode\":\"lines+markers\",\"name\":\"Train: Moving Average Loss+Regularization\",\"x\":[200,440,728,1074,1489,1987,2585,3303,4165,5000],\"y\":[0.34939587116241455,0.2972661256790161,0.2896273732185364,0.28382301330566406,0.28109174966812134,0.2780018150806427,0.2774908244609833,0.27401435375213623,0.26915591955184937,0.2720126211643219]},{\"type\":\"scatter\",\"line\":{\"shape\":\"linear\"},\"mode\":\"lines+markers\",\"name\":\"Train: Moving Average Loss\",\"x\":[200,440,728,1074,1489,1987,2585,3303,4165,5000],\"y\":[0.34590065479278564,0.293707937002182,0.28604331612586975,0.2802446484565735,0.2775375545024872,0.2744649648666382,0.2739971876144409,0.2705777585506439,0.26580390334129333,0.2687166631221771]},{\"type\":\"scatter\",\"line\":{\"shape\":\"linear\"},\"mode\":\"lines+markers\",\"name\":\"Eval on batched train: Mean Loss+Regularization\",\"x\":[200,440,728,1074,1489,1987,2585,3303,4165,5000],\"y\":[0.30745238065719604,0.28918448090553284,0.2801932394504547,0.27836206555366516,0.2754546105861664,0.2765279710292816,0.2729872167110443,0.2708030641078949,0.2734456956386566,0.2683008313179016]},{\"type\":\"scatter\",\"line\":{\"shape\":\"linear\"},\"mode\":\"lines+markers\",\"name\":\"Eval on batched train: Mean Loss\",\"x\":[200,440,728,1074,1489,1987,2585,3303,4165,5000],\"y\":[0.3039158582687378,0.2856104373931885,0.2766062021255493,0.27478453516960144,0.27190372347831726,0.27299848198890686,0.26949310302734375,0.26737287640571594,0.27009814977645874,0.265014111995697]},{\"type\":\"scatter\",\"line\":{\"shape\":\"linear\"},\"mode\":\"lines+markers\",\"name\":\"Eval on test: Mean Loss+Regularization\",\"x\":[200,440,728,1074,1489,1987,2585,3303,4165,5000],\"y\":[0.31105950474739075,0.29416826367378235,0.2858960032463074,0.2853161096572876,0.28413164615631104,0.28469765186309814,0.2825593054294586,0.281816303730011,0.2859887182712555,0.2814752459526062]},{\"type\":\"scatter\",\"line\":{\"shape\":\"linear\"},\"mode\":\"lines+markers\",\"name\":\"Eval on test: Mean Loss\",\"x\":[200,440,728,1074,1489,1987,2585,3303,4165,5000],\"y\":[0.3075230121612549,0.2905942499637604,0.28230905532836914,0.28173860907554626,0.2805807888507843,0.2811681628227234,0.27906522154808044,0.27838611602783203,0.28264114260673523,0.278188556432724]}],\"layout\":{\"legend\":{},\"title\":{\"text\":\"loss\"},\"xaxis\":{\"showgrid\":true,\"type\":\"log\"},\"yaxis\":{\"showgrid\":true,\"type\":\"log\"}}}');\n",
       "\tmodule.newPlot('72cddaa3', data);\n",
       "\n",
       "\t}\n",
       "\t\n",
       "    if (typeof requirejs === \"function\") {\n",
       "        // Use RequireJS to load module.\n",
       "\t\tlet srcWithoutExtension = src.substring(0, src.lastIndexOf(\".js\"));\n",
       "        requirejs.config({\n",
       "            paths: {\n",
       "                'plotly': srcWithoutExtension\n",
       "            }\n",
       "        });\n",
       "        require(['plotly'], function(plotly) {\n",
       "            runJSFn(plotly)\n",
       "        });\n",
       "        return\n",
       "    }\n",
       "\n",
       "\tvar currentScripts = document.head.getElementsByTagName(\"script\");\n",
       "\tfor (const idx in currentScripts) {\n",
       "\t\tlet script = currentScripts[idx];\n",
       "\t\tif (script.src == src) {\n",
       "\t\t\trunJSFn(null);\n",
       "\t\t\treturn;\n",
       "\t\t}\n",
       "\t}\n",
       "\n",
       "\tvar script = document.createElement(\"script\");\n",
       "\n",
       "\tscript.charset = \"utf-8\";\n",
       "\t\n",
       "\tscript.src = src;\n",
       "\tscript.onload = script.onreadystatechange = function () { runJSFn(null); };\n",
       "\tdocument.head.appendChild(script);\t\n",
       "})();\n",
       "</script>"
      ]
     },
     "metadata": {},
     "output_type": "display_data"
    },
    {
     "name": "stdout",
     "output_type": "stream",
     "text": [
      "\t[Step 5000] median train step: 1754 microseconds\n",
      "\n",
      "Results on batched train:\n",
      "\tMean Loss+Regularization (#loss+): 0.268\n",
      "\tMean Loss (#loss): 0.265\n",
      "\tMean Accuracy (#acc): 87.66%\n",
      "Results on test:\n",
      "\tMean Loss+Regularization (#loss+): 0.281\n",
      "\tMean Loss (#loss): 0.278\n",
      "\tMean Accuracy (#acc): 87.25%\n"
     ]
    }
   ],
   "source": [
    "%% --checkpoint kan_model -set=\"kan=true;activation=swish;plots=true;train_steps=5000\"\n",
    "trainModel(contextFromSettings())"
   ]
  }
 ],
 "metadata": {
  "kernelspec": {
   "display_name": "Go (gonb)",
   "language": "go",
   "name": "gonb"
  },
  "language_info": {
   "codemirror_mode": "",
   "file_extension": ".go",
   "mimetype": "",
   "name": "go",
   "nbconvert_exporter": "",
   "pygments_lexer": "",
   "version": "go1.22.4"
  }
 },
 "nbformat": 4,
 "nbformat_minor": 5
}
