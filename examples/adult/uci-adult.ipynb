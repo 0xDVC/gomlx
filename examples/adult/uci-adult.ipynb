{
 "cells": [
  {
   "cell_type": "markdown",
   "id": "546fa208-c19c-405b-81b1-cf99fcb4a830",
   "metadata": {
    "tags": []
   },
   "source": [
    "# UCI Adult Dataset or Census Income\n",
    "\n",
    "This is a very popular ML task, with tabular data. The objective is to predict whether income exceeds $50K/yr based on census data. \n",
    "Also known as \"Census Income\" dataset.\n",
    "\n",
    "The data is old and biased on different ways ... but it can be used opaquely for ML experimentation.\n",
    "\n"
   ]
  },
  {
   "cell_type": "markdown",
   "id": "2ab071e3-227f-4c77-b864-2b7e5a5ccbdf",
   "metadata": {},
   "source": [
    "## Environment Set Up\n",
    "\n",
    "Let's set up `go.mod` to use the local copy of GoMLX, so it can be developed jointly the dataset code with the model. That's often how data pre-processing and model code is developed together with experimentation.\n",
    "\n",
    "If you are not changing code, feel free to simply skip this cell. Or if you used a different directory for you projects, change it below.\n",
    "\n",
    "Notice the directory `${HOME}/Projects/gomlx` is where the GoMLX code is copied by default in [its Docker](https://hub.docker.com/repository/docker/janpfeifer/gomlx_jupyterlab/general)."
   ]
  },
  {
   "cell_type": "code",
   "execution_count": 1,
   "id": "9ba46cb6-059d-4387-876c-665f778f2447",
   "metadata": {
    "tags": []
   },
   "outputs": [],
   "source": [
    "!*go mod edit -replace github.com/gomlx/gomlx=\"${HOME}/Projects/gomlx\""
   ]
  },
  {
   "cell_type": "markdown",
   "id": "78cf991f-4fa5-4bae-8e49-ca67fb8dbd5b",
   "metadata": {},
   "source": [
    "## Data Preparation\n",
    "\n",
    "GoMLX provides [a simple `adult` library](https://pkg.go.dev/github.com/gomlx/gomlx/examples/adult) to facilitate downdoaling and preprocessing the data. Data is available in [UCI Machine Learning Repository](https://archive.ics.uci.edu/ml/datasets/Adult).\n",
    "\n",
    "After downloading the data and validating the checksum (both training and testing), it generates the quantiles for the continuous features, and the vocabularies for the categorical features. It saves all this info for faster restart later in a binary file. So this won't be necessary a second time.\n",
    "\n",
    "The quantiles are used to calibrate the values, using a piece-wise-lienar calibration, very good for these things. See [`layers.PieceWiseLinearCalibration` documentation](https://pkg.go.dev/github.com/gomlx/gomlx@v0.1.0/ml/layers#PieceWiseLinearCalibration).\n",
    "\n",
    "We create a flag `--data` to define the directory where to save the intermediary files: downloaded and preprocessed datasets.\n",
    "In this examle we set it to `~/work/uci-adult`. Verbosity can be contolled with the `--verbosity` flag. \n",
    "\n",
    "We set default in Go for these flags, but they can easily be reset for a new run by providing them after the `%%` Jupyter kernel meta-command -- in indicates that the subsequent lines should be put in to a `func main`.\n"
   ]
  },
  {
   "cell_type": "code",
   "execution_count": 2,
   "id": "9418be86-70bc-41ad-9e0a-3a5e6bf52b51",
   "metadata": {
    "tags": []
   },
   "outputs": [
    {
     "name": "stdout",
     "output_type": "stream",
     "text": [
      "\n",
      "Sample Categorical: (24.08% positive ratio, 23.86% weighted positive ratio)\n",
      "\tRow 0:\t[7 10 5 1 2 5 2 39]\n",
      "\tRow 1:\t[6 10 3 4 1 5 2 39]\n",
      "\tRow 2:\t[4 12 1 6 2 5 2 39]\n",
      "\t...\n",
      "\tRow 32558:\t[4 12 7 1 5 5 1 39]\n",
      "\tRow 32559:\t[4 12 5 1 4 5 2 39]\n",
      "\tRow 32560:\t[5 12 3 4 6 5 1 39]\n",
      "\n",
      "Sample Continuous:\n",
      "\tRow 0:\t[39 13 2174 0 40]\n",
      "\tRow 1:\t[50 13 0 0 13]\n",
      "\tRow 2:\t[38 9 0 0 40]\n",
      "\t...\n",
      "\tRow 32558:\t[58 9 0 0 40]\n",
      "\tRow 32559:\t[22 9 0 0 20]\n",
      "\tRow 32560:\t[52 9 15024 0 40]\n"
     ]
    }
   ],
   "source": [
    "import (\n",
    "    \"flag\"\n",
    "    \n",
    "    \"github.com/gomlx/gomlx/examples/adult\"\n",
    ")\n",
    "\n",
    "var (\n",
    "    flagDataDir       = flag.String(\"data\", \"~/work/uci-adult\", \"Directory to save and load downloaded and generated dataset files.\")\n",
    "    flagVerbosity     = flag.Int(\"verbosity\", 0, \"Level of verbosity, the higher the more verbose.\")\n",
    "    flagForceDownload = flag.Bool(\"force_download\", false, \"Force re-download of Adult dataset files.\")\n",
    "    flagNumQuantiles  = flag.Int(\"quantiles\", 100, \"Max number of quantiles to use for numeric features, used during piece-wise linear calibration. It will only use unique values, so if there are fewer variability, fewer quantiles are used.\")\n",
    ")\n",
    "\n",
    "%% --verbosity=2\n",
    "adult.LoadAndPreprocessData(*flagDataDir, *flagNumQuantiles, *flagForceDownload, *flagVerbosity)"
   ]
  },
  {
   "cell_type": "code",
   "execution_count": 3,
   "id": "fdab7255-2224-496a-9ec7-75927150f9d7",
   "metadata": {
    "tags": []
   },
   "outputs": [
    {
     "name": "stdout",
     "output_type": "stream",
     "text": [
      "total 7.0M\n",
      "-rw-r--r-- 1 janpf janpf 3.8M Mar 21  2023 adult.data\n",
      "-rw-r--r-- 1 janpf janpf 1.3M Mar 21  2023 adult_data-100_quantiles.bin\n",
      "-rw-r--r-- 1 janpf janpf 2.0M Mar 21  2023 adult.test\n"
     ]
    }
   ],
   "source": [
    "!ls -lh ~/work/uci-adult"
   ]
  },
  {
   "cell_type": "markdown",
   "id": "028b783b-56f0-457c-b28e-7bb0dd7e94da",
   "metadata": {},
   "source": [
    "### Creating Datasets\n",
    "\n",
    "First we create the GoMLX's `Manager`: it's the object that manages the underlying XLA\n",
    "setup, connection and execution. It's needed to create tensors.\n",
    "\n",
    "With that we create the samplers of data that we will use to train and evaluate. They implement \n",
    "GoMLX's `train.Dataset` interface, which is what is used by our training loop to draw batches to\n",
    "train, or our eval loop to draw batches to evaluate.\n",
    "\n",
    "The inputs are 3 tensors: *categorical values*, *continuous values* and *weights*.\n",
    "\n",
    "In the cell below we define the `Manager` flags, `BuildSamplers` and printout some samples."
   ]
  },
  {
   "cell_type": "code",
   "execution_count": 4,
   "id": "f13f771b-7109-49d2-8db5-5f3d5a91d324",
   "metadata": {
    "tags": []
   },
   "outputs": [
    {
     "name": "stdout",
     "output_type": "stream",
     "text": [
      "Inputs of batch (size 128):\n",
      "\tcategorical:\n",
      "\t\tFeatures=[workclass education marital-status occupation relationship race sex native-country]\n",
      "\t\tValues: (Int64)[128 8]: (... too large, 1024 values ..., first 16 values: [4 16 1 6 2 5 2 39 2 16 3 6 1 3 2 39])\n",
      "\tcontinuous:\n",
      "\t\tFeatures=[age education-num capital-gain capital-loss hours-per-week]\n",
      "\t\tValues: (Float32)[128 5]: (... too large, 640 values ..., first 10 values: [46 10 0 0 45 57 10 7298 0 40])\n",
      "\tweights: (Float32)[128 1]: (... too large, 128 values ..., first 5 values: [95636 189824 131699 145636 183611])\n",
      "\n",
      "Labels of batch:\n",
      "\t(Float32)[128 1]: (... too large, 128 values ..., first 10 values: [0 1 0 1 0 0 1 1 0 0])\n",
      "\n",
      "Labels distributions:\n",
      "\tTrain:\t24.08% positive\n",
      "\tTest:\t23.62% positive\n"
     ]
    }
   ],
   "source": [
    "import (\n",
    "    \"flag\"\n",
    "    \"fmt\"\n",
    "    \"io\"\n",
    "\n",
    "    . \"github.com/gomlx/gomlx/graph\"\n",
    "    \"github.com/gomlx/gomlx/examples/adult\"\n",
    "    \"github.com/gomlx/gomlx/ml/train\"\n",
    "    \"github.com/gomlx/gomlx/types/tensor\"\n",
    ")\n",
    "\n",
    "var (\n",
    "    flagBatchSize      = flag.Int(\"batch\", 128, \"BatchSampler size for training\")\n",
    ")\n",
    "\n",
    "// Global manager created an initialization, used everywhere.\n",
    "var manager = NewManager()\n",
    "\n",
    "// BuildDatasets returns 3 `train.Dataset`:\n",
    "// * trainingSampler is an endless random sampler used for training.\n",
    "// * trainingEvalSampler samples through exactly one epoch of the train dataset.\n",
    "// * testEvalSampler samples through exactly one epoch of the test dataset.\n",
    "func BuildDatasets(manager *Manager) (trainDS, trainEvalDS, testEvalDS train.Dataset) {\n",
    "    baseDS := adult.NewDataset(manager, adult.Data.Train, \"batched train\")\n",
    "    trainEvalDS = baseDS.Copy().BatchSize(*flagBatchSize, false)\n",
    "    testEvalDS = adult.NewDataset(manager, adult.Data.Test, \"test\").\n",
    "        BatchSize(*flagBatchSize, false)\n",
    "    // For training, we shuffle and loop indefinitely.\n",
    "    trainDS = baseDS.BatchSize(*flagBatchSize, true).Shuffle().Infinite(true)\n",
    "    return\n",
    "}\n",
    "\n",
    "// PositiveRatio finds out the the ratio of positive labels in the\n",
    "// training and testing data.\n",
    "//\n",
    "// We could do this easily with GoMLX computation model (just `ReduceAllSum`), but\n",
    "// this examples shows it's also ok to mix Go computations.\n",
    "func PositiveRatio(ds train.Dataset) float32 {\n",
    "    ds.Reset()  // Start from beginning.\n",
    "    var sum float32\n",
    "    var count float32\n",
    "    for {\n",
    "        _, _, labels, err := ds.Yield()\n",
    "        if err == io.EOF {\n",
    "            break;\n",
    "        }\n",
    "        if err != nil { panic(err) }\n",
    "        data := labels[0].Local().Flat().([]float32)\n",
    "        for _, value := range data {\n",
    "            sum += value\n",
    "        }\n",
    "        count += float32(len(data))\n",
    "    }\n",
    "    return sum/count\n",
    "}\n",
    "\n",
    "%%\n",
    "adult.LoadAndPreprocessData(*flagDataDir, *flagNumQuantiles, *flagForceDownload, *flagVerbosity)    \n",
    "trainingDS, trainingEvalDS, testEvalDS := BuildDatasets(manager)\n",
    "\n",
    "// Take one batch.\n",
    "_, inputs, labels, err := trainingDS.Yield()\n",
    "if err != nil { panic(err) }\n",
    "fmt.Printf(\"Inputs of batch (size %d):\\n\", *flagBatchSize)\n",
    "fmt.Printf(\"\\tcategorical:\\n\\t\\tFeatures=%v\\n\", adult.Data.VocabulariesFeatures)\n",
    "fmt.Printf(\"\\t\\tValues: %s\\n\", inputs[0].Local().StringN(16))\n",
    "fmt.Printf(\"\\tcontinuous:\\n\\t\\tFeatures=%v\\n\", adult.Data.QuantilesFeatures)\n",
    "fmt.Printf(\"\\t\\tValues: %s\\n\", inputs[1].Local().StringN(10))\n",
    "fmt.Printf(\"\\tweights: %s\\n\", inputs[2].Local().StringN(5))\n",
    "fmt.Printf(\"\\nLabels of batch:\\n\\t%s\\n\", labels[0].Local().StringN(10))\n",
    "fmt.Printf(\"\\nLabels distributions:\\n\\tTrain:\\t%.2f%% positive\\n\\tTest:\\t%.2f%% positive\\n\",\n",
    "           PositiveRatio(trainingEvalDS)*100.0, PositiveRatio(testEvalDS)*100.0)\n"
   ]
  },
  {
   "cell_type": "markdown",
   "id": "54efd046-bbd5-4f7d-94e0-9ed3c64512b1",
   "metadata": {},
   "source": [
    "## Model Definition\n",
    "\n",
    "Lots of hyper-parameter flags, but otherwise a straight forward FNN, using piece-wise linear calibration of the continuous features, and embeddings for the categorical features.\n",
    "\n",
    "> **Note**: building models is a constant checking that shapes are compatible. It's a bit annoying, in particular because shapes are known in runtime only -- no compile time check. GoMLX tries to help providing a stack trace of where errors happen so one can pin-point issues quickly. But often it involves lots of experimentation (more than ordinary Go code).\n",
    ">\n",
    "> Developing with a Noteboook (see [GoNB](https://github.com/janpfeifer/gonb)) or simply a unit test on your `ModelGraph` function are quick/convenient ways to develop models -- before actually training them. You can also use shape asserts in the middle of the \n",
    ">`ModelGraph`, as we do below."
   ]
  },
  {
   "cell_type": "code",
   "execution_count": 5,
   "id": "7040e63b-33f1-4ff9-a232-187196c5f9c1",
   "metadata": {
    "tags": []
   },
   "outputs": [
    {
     "name": "stdout",
     "output_type": "stream",
     "text": [
      "Logits shape for batch_size=128: (Float32)[128 1]\n"
     ]
    }
   ],
   "source": [
    "import (\n",
    "    \"fmt\"\n",
    "    \"io\"\n",
    "\n",
    "    . \"github.com/gomlx/gomlx/graph\"\n",
    "\n",
    "    \"github.com/gomlx/gomlx/ml/context\"\n",
    "    \"github.com/gomlx/gomlx/examples/adult\"\n",
    "    \"github.com/gomlx/gomlx/ml/train\"\n",
    "    \"github.com/gomlx/gomlx/ml/train/optimizers\"\n",
    "    \"github.com/gomlx/gomlx/types/shapes\"\n",
    ")\n",
    "\n",
    "var (\n",
    "    // ModelDType used for the model. Must match RawData Go types.\n",
    "    ModelDType = shapes.Float32\n",
    "    \n",
    "\n",
    "    // Model hyperparameters.\n",
    "    flagUseCategorical       = flag.Bool(\"use_categorical\", true, \"Use categorical features.\")\n",
    "    flagUseContinuous        = flag.Bool(\"use_continuous\", true, \"Use continuous features.\")\n",
    "    flagTrainableCalibration = flag.Bool(\"trainable_calibration\", true, \"Allow piece-wise linear calibration to adjust outputs.\")\n",
    "    flagEmbeddingDim    = flag.Int(\"embedding_dim\", 8, \"Default embedding dimension for categorical values.\")\n",
    "    flagNumHiddenLayers = flag.Int(\"hidden_layers\", 8, \"Number of hidden layers, stacked with residual connection.\")\n",
    "    flagNumNodes        = flag.Int(\"num_nodes\", 32, \"Number of nodes in hidden layers.\")\n",
    "    flagDropoutRate     = flag.Float64(\"dropout\", 0, \"Dropout rate\")\n",
    "    \n",
    "    // Training parameter, referenced here.\n",
    "    flagLearningRate  = flag.Float64(\"learning_rate\", 0.001, \"Initial learning rate.\")\n",
    "    flagNumSteps      = flag.Int(\"steps\", 5000, \"Number of gradient descent steps to perform\")\n",
    ")\n",
    "\n",
    "\n",
    "// ModelGraph outputs the logits (not the probabilities). The parameter inputs should contain 3 tensors:\n",
    "//\n",
    "// - categorical inputs, shaped  `(int64)[batch_size, len(VocabulariesFeatures)]`\n",
    "// - continuous inputs, shaped `(float32)[batch_size, len(Quantiles)]`\n",
    "// - weights: not currently used, but shaped `(float32)[batch_size, 1]`.\n",
    "func ModelGraph(ctx *context.Context, spec any, inputs []*Node) []*Node {\n",
    "    _ = spec // Not used, since the dataset is always the same.\n",
    "    g := inputs[0].Graph()\n",
    "    \n",
    "    // Use Cosine schedule of the learning rate.\n",
    "    optimizers.CosineAnnealingSchedule(ctx, g, ModelDType).\n",
    "        PeriodInSteps(*flagNumSteps/3).Done()\n",
    "    \n",
    "    categorical, continuous := inputs[0], inputs[1]\n",
    "    batchSize := categorical.Shape().Dimensions[0]\n",
    "    \n",
    "    var allEmbeddings []*Node\n",
    "\n",
    "    if *flagUseCategorical {\n",
    "        // Embedding of categorical values, each with its own vocabulary.\n",
    "        numCategorical := categorical.Shape().Dimensions[1]\n",
    "        for catIdx := 0; catIdx < numCategorical; catIdx++ {\n",
    "            // Take one column at a time of the categorical values.\n",
    "            split := Slice(categorical, AxisRange(), AxisRange(catIdx, catIdx+1))\n",
    "            // Embed it accordingly.\n",
    "            embedCtx := ctx.In(fmt.Sprintf(\"categorical_%d_%s\", catIdx, adult.Data.VocabulariesFeatures[catIdx]))\n",
    "            vocab := adult.Data.Vocabularies[catIdx]\n",
    "            vocabSize := len(vocab)\n",
    "            embedding := layers.Embedding(embedCtx, split, ModelDType, vocabSize, *flagEmbeddingDim)\n",
    "            embedding.AssertDims(batchSize, *flagEmbeddingDim) // 2-dim tensor, with batch size as the leading dimension.\n",
    "            allEmbeddings = append(allEmbeddings, embedding)\n",
    "        }\n",
    "    }\n",
    "\n",
    "    if *flagUseContinuous {\n",
    "        // Piecewise-linear calibration of the continuous values. Each feature has its own number of quantiles.\n",
    "        numContinuous := continuous.Shape().Dimensions[1]\n",
    "        for contIdx := 0; contIdx < numContinuous; contIdx++ {\n",
    "            // Take one column at a time of the continuous values.\n",
    "            split := Slice(continuous, AxisRange(), AxisRange(contIdx, contIdx+1))\n",
    "            featureName := adult.Data.QuantilesFeatures[contIdx]\n",
    "            calibrationCtx := ctx.In(fmt.Sprintf(\"continuous_%d_%s\", contIdx, featureName))\n",
    "            quantiles := adult.Data.Quantiles[contIdx]\n",
    "            layers.AssertQuantilesForPWLCalibrationValid(quantiles)\n",
    "            calibrated := layers.PieceWiseLinearCalibration(calibrationCtx, split, Const(g, quantiles), *flagTrainableCalibration)\n",
    "            calibrated.AssertDims(batchSize, 1) // 2-dim tensor, with batch size as the leading dimension.\n",
    "            allEmbeddings = append(allEmbeddings, calibrated)\n",
    "        }\n",
    "    }\n",
    "    layer := Concatenate(allEmbeddings, -1)\n",
    "    layer.AssertDims(batchSize, -1) // 2-dim tensor, with batch size as the leading dimension (-1 means it is not checked).\n",
    "    \n",
    "    layer = layers.DenseWithBias(ctx.In(fmt.Sprintf(\"DenseLayer_%d\", 0)), layer, *flagNumNodes)\n",
    "    for ii := 1; ii < *flagNumHiddenLayers; ii++ {\n",
    "        ctx := ctx.In(fmt.Sprintf(\"DenseLayer_%d\", ii))\n",
    "        // Add layer with residual connection.\n",
    "        tmp := Sigmoid(layer)\n",
    "        if *flagDropoutRate > 0 {\n",
    "            tmp = layers.Dropout(ctx, tmp, Scalar(g, ModelDType, *flagDropoutRate))\n",
    "        }\n",
    "        tmp = layers.DenseWithBias(ctx, tmp, *flagNumNodes)\n",
    "        layer = Add(layer, tmp)  // Residual connections\n",
    "    }\n",
    "    layer = Sigmoid(layer)\n",
    "    logits := layers.DenseWithBias(ctx.In(\"DenseFinal\"), layer, 1)\n",
    "    logits.AssertDims(batchSize, 1) // 2-dim tensor, with batch size as the leading dimension.\n",
    "    return []*Node{logits}\n",
    "}\n",
    "\n",
    "%%\n",
    "adult.LoadAndPreprocessData(*flagDataDir, *flagNumQuantiles, *flagForceDownload, *flagVerbosity)    \n",
    "\n",
    "// Let's just check that we get the right shape from the model function, wihtout any real data.\n",
    "graph := manager.NewGraph(\"test\")\n",
    "ctx := context.NewContext(manager)\n",
    "ctx.SetParam(optimizers.LearningRateKey, *flagLearningRate)\n",
    "\n",
    "// Create placeholder (parameters) graph nodes, just to test the graph building is working.\n",
    "inputs := []*Node{\n",
    "    // Categorical: shaped [batch_size, num_categorical]\n",
    "    graph.Parameter(\"categorical\", shapes.Make(shapes.Int64, *flagBatchSize, len(adult.Data.VocabulariesFeatures))),\n",
    "    // Continuous: shaped [batch_size, num_continuos]\n",
    "    graph.Parameter(\"continuous\", shapes.Make(shapes.Float32, *flagBatchSize, len(adult.Data.QuantilesFeatures))),\n",
    "    // Weights: shaped [batch_size, 1]\n",
    "    graph.Parameter(\"weights\", shapes.Make(shapes.Float32, *flagBatchSize, 1)),    \n",
    "}\n",
    "logits := ModelGraph(ctx, nil, inputs)\n",
    "fmt.Printf(\"Logits shape for batch_size=%d: %s\\n\", *flagBatchSize, logits[0].Shape())"
   ]
  },
  {
   "cell_type": "markdown",
   "id": "618e1c7a-ced1-4914-8530-0924e02f095c",
   "metadata": {},
   "source": [
    "## Training Loop\n",
    "\n",
    "We can create a training loop with only a `Manager`, a `Context` (for the model varibles) and the `ModelGraph` function.\n",
    "\n",
    "To make it more interesting we also add the following:\n",
    "\n",
    "* Accuracy metrics for training and testing.\n",
    "* Checkpoints -- so trained model can be saved, and reloaded.\n",
    "* A progress-bar that also shows training metrics.\n",
    "* We dynamically plot how the loss and accuracy evolve.\n",
    "\n",
    "First we define the corresponding flags and the `trainModel` function, and run it for very few steps to make sure\n",
    "it is working."
   ]
  },
  {
   "cell_type": "code",
   "execution_count": 6,
   "id": "daf39a7c-7cc8-43a5-ae79-026303f5f502",
   "metadata": {
    "tags": []
   },
   "outputs": [
    {
     "name": "stdout",
     "output_type": "stream",
     "text": [
      "Training (500 steps):  100% [\u001b[32m=\u001b[0m\u001b[32m=\u001b[0m\u001b[32m=\u001b[0m\u001b[32m=\u001b[0m\u001b[32m=\u001b[0m\u001b[32m=\u001b[0m\u001b[32m=\u001b[0m\u001b[32m=\u001b[0m\u001b[32m=\u001b[0m\u001b[32m=\u001b[0m\u001b[32m=\u001b[0m\u001b[32m=\u001b[0m\u001b[32m=\u001b[0m\u001b[32m=\u001b[0m\u001b[32m=\u001b[0m\u001b[32m=\u001b[0m\u001b[32m=\u001b[0m\u001b[32m=\u001b[0m\u001b[32m=\u001b[0m\u001b[32m=\u001b[0m\u001b[32m=\u001b[0m\u001b[32m=\u001b[0m\u001b[32m=\u001b[0m\u001b[32m=\u001b[0m\u001b[32m=\u001b[0m\u001b[32m=\u001b[0m\u001b[32m=\u001b[0m\u001b[32m=\u001b[0m\u001b[32m=\u001b[0m\u001b[32m=\u001b[0m\u001b[32m=\u001b[0m\u001b[32m=\u001b[0m\u001b[32m=\u001b[0m\u001b[32m=\u001b[0m\u001b[32m=\u001b[0m\u001b[32m=\u001b[0m\u001b[32m=\u001b[0m\u001b[32m=\u001b[0m\u001b[32m=\u001b[0m\u001b[32m=\u001b[0m] (222 steps/s)\u001b[0m [loss=0.361] [~loss=0.355] [~acc=84.23%]        \n",
      "\t[Step 500] median train step: 969 microseconds\n",
      "\n",
      "Results on batched train:\n",
      "\tMean Loss (#loss): 0.335\n",
      "\tMean Accuracy (#acc): 84.94%\n",
      "Results on test:\n",
      "\tMean Loss (#loss): 0.332\n",
      "\tMean Accuracy (#acc): 85.39%\n",
      "\n"
     ]
    }
   ],
   "source": [
    "import (\n",
    "    \"fmt\"\n",
    "    \"io\"\n",
    "    \"time\"\n",
    "\n",
    "    . \"github.com/gomlx/gomlx/graph\"\n",
    "\n",
    "    \"github.com/gomlx/gomlx/examples/adult\"\n",
    "    \"github.com/gomlx/gomlx/examples/notebook/gonb/margaid\"\n",
    "    \"github.com/gomlx/gomlx/ml/context\"\n",
    "    \"github.com/gomlx/gomlx/ml/train\"\n",
    "    \"github.com/gomlx/gomlx/types/shapes\"\n",
    "    \"github.com/gomlx/gomlx/types/slices\"\n",
    "    \"github.com/gomlx/gomlx/types/tensor\"\n",
    "    \"github.com/janpfeifer/gonb/gonbui\"\n",
    ")\n",
    "\n",
    "var (\n",
    "    flagOptimizer      = flag.String(\"optimizer\", \"adam\", \"Type of optimizer to use: 'sgd' or 'adam'\")\n",
    "    flagLearningRate   = flag.Float64(\"learning_rate\", 0.001, \"Initial learning rate.\")\n",
    "    flagCheckpoint     = flag.String(\"checkpoint\", \"\", \"Directory save and load checkpoints from. If left empty, no checkpoints are created.\")\n",
    "    flagCheckpointKeep = flag.Int(\"checkpoint_keep\", 10, \"Number of checkpoints to keep, if --checkpoint is set.\")\n",
    "    flagPlots          = flag.Bool(\"plots\", true, \"Plots during training: perform periodic evaluations, \"+\n",
    "                                   \"save results if --checkpoint is set and draw plots, if in a Jupyter notebook.\")\n",
    ")\n",
    "\n",
    "func trainModel() {\n",
    "    // Fixes directories.\n",
    "    *flagDataDir = data.ReplaceTildeInDir(*flagDataDir)\n",
    "    *flagCheckpoint = data.ReplaceTildeInDir(*flagCheckpoint)\n",
    "    if *flagCheckpoint != \"\" && !path.IsAbs(*flagCheckpoint) {\n",
    "        *flagCheckpoint = path.Join(*flagDataDir, *flagCheckpoint)\n",
    "    }\n",
    "\n",
    "    // Load data and create datasets.\n",
    "    adult.LoadAndPreprocessData(*flagDataDir, *flagNumQuantiles, *flagForceDownload, *flagVerbosity)    \n",
    "    trainDS, trainEvalDS, testEvalDS := BuildDatasets(manager)\n",
    "\n",
    "    // Context holds the variables and optionally hyperparameters for the model.\n",
    "    ctx := context.NewContext(manager)\n",
    "    ctx.SetParam(optimizers.LearningRateKey, *flagLearningRate)\n",
    "\n",
    "    // Metrics we are interested.\n",
    "    meanAccuracyMetric := metrics.NewMeanBinaryLogitsAccuracy(\"Mean Accuracy\", \"#acc\")\n",
    "    movingAccuracyMetric := metrics.NewMovingAverageBinaryLogitsAccuracy(\"Moving Average Accuracy\", \"~acc\", 0.01)\n",
    "\n",
    "    // Checkpoints saving.\n",
    "    var checkpoint *checkpoints.Handler\n",
    "    if *flagCheckpoint != \"\" {\n",
    "        var err error\n",
    "        checkpoint, err = checkpoints.Build(ctx).Dir(*flagCheckpoint).Keep(*flagCheckpointKeep).Done()\n",
    "        if err != nil { panic(err) }\n",
    "        fmt.Printf(\"Checkpointing model to %q\\n\", checkpoint.Dir())\n",
    "        globalStep := optimizers.GetGlobalStepVar(ctx).Value().Value().(int)\n",
    "        if globalStep != 0 {\n",
    "            fmt.Printf(\"Restarting training from global_step=%d\\n\", globalStep)\n",
    "        }\n",
    "    }\n",
    "\n",
    "    // Pick a known optimizer.\n",
    "    optimizerFn, found := optimizers.KnownOptimizers[*flagOptimizer]\n",
    "    if !found {\n",
    "        log.Fatalf(\"Unknown optimizer %q, please use one of %v\",\n",
    "            *flagOptimizer, slices.Keys(optimizers.KnownOptimizers))\n",
    "    }\n",
    "\n",
    "    // Create a train.Trainer: this object will orchestrate running the model, feeding\n",
    "    // results to the optimizer, evaluating the metrics, etc. (all happens in trainer.TrainStep)\n",
    "    trainer := train.NewTrainer(manager, ctx, ModelGraph, losses.BinaryCrossentropyLogits,\n",
    "        optimizerFn(),\n",
    "        []metrics.Interface{movingAccuracyMetric}, // trainMetrics\n",
    "        []metrics.Interface{meanAccuracyMetric})   // evalMetrics\n",
    "\n",
    "    // Use standard training loop.\n",
    "    loop := train.NewLoop(trainer)\n",
    "    loop.ReadGlobalStep(ctx)  // Make sure it restarts from previous global step, if one is set.\n",
    "    commandline.AttachProgressBar(loop) // Attaches a progress bar to the loop.\n",
    "\n",
    "    // Attach a checkpoint: checkpoint every 1 minute of training.\n",
    "    if checkpoint != nil {\n",
    "        period := time.Minute * 1\n",
    "        train.PeriodicCallback(loop, period, true, \"saving checkpoint\", 100,\n",
    "            func(loop *train.Loop, metrics []tensor.Tensor) error {\n",
    "                fmt.Printf(\"\\n[saving checkpoint@%d] [median train step (ms): %d]\\n\", loop.LoopStep, loop.MedianTrainStepDuration().Milliseconds())\n",
    "                return checkpoint.Save()\n",
    "            })\n",
    "    }\n",
    "\n",
    "\t// Attach a margaid plots: plot points at exponential steps.\n",
    "    // Points (metrics) are saved along the checkpoint directory (if one is given).\n",
    "\tif *flagPlots {\n",
    "\t\t_ = margaid.NewDefault(loop, checkpoint.Dir(), 100, 1.1, trainEvalDS, testEvalDS)\n",
    "\t}\n",
    "\n",
    "    // Run the given number of steps.\n",
    "    _, err := loop.RunSteps(trainDS, *flagNumSteps)\n",
    "    if err != nil { panic(err) }\n",
    "    fmt.Printf(\"\\t[Step %d] median train step: %d microseconds\\n\", loop.LoopStep, loop.MedianTrainStepDuration().Microseconds())\n",
    "\n",
    "    // Print a final evaluation on train and test datasets.\n",
    "    fmt.Println()\n",
    "    err = commandline.ReportEval(trainer, trainEvalDS, testEvalDS)\n",
    "    if err != nil { panic(err) }\n",
    "    fmt.Println()\n",
    "}\n",
    "\n",
    "// Notice command line flags are passed in the %% notebook command. We set --plot=false here to disable plotting\n",
    "// since this is only a quick test that our train() loop is working. See below the final run for a full training.\n",
    "%% --steps=500 --plots=false\n",
    "trainModel()"
   ]
  },
  {
   "cell_type": "markdown",
   "id": "6bb5db6b-3a2c-4f48-8264-f90b22a52ed0",
   "metadata": {},
   "source": [
    "## Final run\n",
    "\n",
    "With everything working, we can do our final run.\n",
    "\n",
    "> **Note** here is where someone might want to hyperparameter tune, trying out different hyperparameters."
   ]
  },
  {
   "cell_type": "code",
   "execution_count": 7,
   "id": "66939463-60d7-446f-b4f3-1d60abe7c17c",
   "metadata": {
    "tags": []
   },
   "outputs": [
    {
     "name": "stdout",
     "output_type": "stream",
     "text": [
      "Checkpointing model to \"/home/janpf/work/uci-adult/base_model\"\n"
     ]
    },
    {
     "data": {
      "text/html": [
       "<svg preserveAspectRatio=\"xMidYMid meet\" xmlns=\"http://www.w3.org/2000/svg\" width=\"1024\" height=\"454\" viewbox=\"0 0 1024 400\" style=\"background-color:#f8f8f8\"><defs><marker markerWidth=\"2%\" markerHeight=\"2%\" id=\"circle\" viewBox=\"0 0 10 10 \" refX=\"5\" refY=\"5\" markerUnits=\"userSpaceOnUse\"><circle fill=\"none\" stroke=\"black\" cx=\"5\" cy=\"5\" r=\"3\"/></marker><marker viewBox=\"0 0 10 10 \" refX=\"5\" refY=\"5\" markerUnits=\"userSpaceOnUse\" markerWidth=\"2%\" markerHeight=\"2%\" id=\"filled-circle\"><circle r=\"3\" fill=\"black\" stroke=\"none\" cx=\"5\" cy=\"5\"/></marker><marker markerHeight=\"2%\" id=\"square\" viewBox=\"0 0 10 10 \" refX=\"5\" refY=\"5\" markerUnits=\"userSpaceOnUse\" markerWidth=\"2%\"><rect fill=\"none\" stroke=\"black\" x=\"2\" y=\"2\" width=\"6\" height=\"6\"/></marker><marker markerHeight=\"2%\" id=\"filled-square\" viewBox=\"0 0 10 10 \" refX=\"5\" refY=\"5\" markerUnits=\"userSpaceOnUse\" markerWidth=\"2%\"><rect width=\"6\" height=\"6\" fill=\"black\" stroke=\"none\" x=\"2\" y=\"2\"/></marker></defs><g transform=\"translate(70 330 )scale(1 -1 )\" stroke=\"hsl(90, 47%, 65%)\" stroke-width=\"2px\" stroke-linecap=\"round\" marker-start=\"url(#square)\" fill=\"none\" stroke-linejoin=\"round\" marker-mid=\"url(#square)\" marker-end=\"url(#square)\"><path vector-effect=\"non-scaling-stroke\" d=\"M1.768000e+01,5.200000e+00 L1.786294e+02,1.773722e+02 L2.773355e+02,1.820703e+02 L3.506075e+02,1.875247e+02 L4.099543e+02,2.034064e+02 L4.607660e+02,2.177608e+02 L5.055983e+02,2.163747e+02 L5.461769e+02,2.278711e+02 L5.835664e+02,2.293107e+02 L6.184621e+02,2.282467e+02 L6.513380e+02,2.411580e+02 L6.825291e+02,2.416551e+02 L7.123676e+02,2.476092e+02 L7.410809e+02,2.481045e+02 L7.688274e+02,2.485996e+02 L7.957190e+02,2.507023e+02 L8.218897e+02,2.513821e+02 L8.474287e+02,2.512585e+02 L8.663200e+02,2.515674e+02 \"/></g><g stroke=\"hsl(301, 88%, 65%)\" stroke-linejoin=\"round\" fill=\"none\" stroke-linecap=\"round\" transform=\"translate(70 330 )scale(1 -1 )\" marker-mid=\"url(#square)\" marker-end=\"url(#square)\" marker-start=\"url(#square)\" stroke-width=\"2px\"><path vector-effect=\"non-scaling-stroke\" d=\"M1.768000e+01,1.577524e+01 L1.786294e+02,1.821446e+02 L2.773355e+02,1.856115e+02 L3.506075e+02,1.875346e+02 L4.099543e+02,2.099433e+02 L4.607660e+02,2.255613e+02 L5.055983e+02,2.224237e+02 L5.461769e+02,2.248088e+02 L5.835664e+02,2.251850e+02 L6.184621e+02,2.268149e+02 L6.513380e+02,2.348160e+02 L6.825291e+02,2.363122e+02 L7.123676e+02,2.419115e+02 L7.410809e+02,2.400471e+02 L7.688274e+02,2.435259e+02 L7.957190e+02,2.420358e+02 L8.218897e+02,2.415388e+02 L8.474287e+02,2.456346e+02 L8.663200e+02,2.466261e+02 \"/></g><g fill=\"none\" stroke-linejoin=\"round\" stroke-linecap=\"round\" transform=\"translate(70 330 )scale(1 -1 )\" marker-start=\"url(#square)\" marker-end=\"url(#square)\" stroke=\"hsl(152, 76%, 65%)\" marker-mid=\"url(#square)\" stroke-width=\"2px\"><path vector-effect=\"non-scaling-stroke\" d=\"M1.768000e+01,1.023961e+01 L1.786294e+02,7.144908e+01 L2.773355e+02,1.446360e+02 L3.506075e+02,1.768571e+02 L4.099543e+02,1.873226e+02 L4.607660e+02,2.103928e+02 L5.055983e+02,2.154856e+02 L5.461769e+02,2.214677e+02 L5.835664e+02,2.254908e+02 L6.184621e+02,2.224125e+02 L6.513380e+02,2.327127e+02 L6.825291e+02,2.414716e+02 L7.123676e+02,2.485437e+02 L7.410809e+02,2.439835e+02 L7.688274e+02,2.528627e+02 L7.957190e+02,2.548000e+02 L8.218897e+02,2.519954e+02 L8.474287e+02,2.517635e+02 L8.663200e+02,2.489635e+02 \"/></g><g fill=\"none\" stroke=\"black\" stroke-linejoin=\"round\" stroke-width=\"2px\" stroke-linecap=\"round\" transform=\"translate(70 330 )scale(1 -1 )\"><path vector-effect=\"non-scaling-stroke\" d=\"M1.768000e+01,0 L1.768000e+01,-6 M1.680453e+02,0 L1.680453e+02,-6 M2.560033e+02,0 L2.560033e+02,-6 M3.184106e+02,0 L3.184106e+02,-6 M3.668174e+02,0 L3.668174e+02,-6 M4.063686e+02,0 L4.063686e+02,-6 M4.398087e+02,0 L4.398087e+02,-6 M4.687758e+02,0 L4.687758e+02,-6 M4.943267e+02,0 L4.943267e+02,-6 M5.171826e+02,0 L5.171826e+02,-6 M5.378584e+02,0 L5.378584e+02,-6 M6.675479e+02,0 L6.675479e+02,-6 M7.555060e+02,0 L7.555060e+02,-6 M8.179132e+02,0 L8.179132e+02,-6 M8.663200e+02,0 L8.663200e+02,-6 \"/></g><g stroke-width=\"2px\" stroke-linecap=\"round\" dominant-baseline=\"hanging\" text-anchor=\"middle\" fill=\"black\" stroke-linejoin=\"round\" transform=\"translate(70 330 )scale(1 1 )\" font-weight=\"normal\" stroke=\"black\" font-family=\"sans-serif\" font-size=\"12px\" font-style=\"normal\"><text y=\"10\" dominant-baseline=\"hanging\" stroke=\"none\" vector-effect=\"non-scaling-stroke\" x=\"1.768000e+01\">100</text><text x=\"1.680453e+02\" y=\"10\" dominant-baseline=\"hanging\" stroke=\"none\" vector-effect=\"non-scaling-stroke\">200</text><text vector-effect=\"non-scaling-stroke\" x=\"2.560033e+02\" y=\"10\" dominant-baseline=\"hanging\" stroke=\"none\">300</text><text stroke=\"none\" vector-effect=\"non-scaling-stroke\" x=\"3.184106e+02\" y=\"10\" dominant-baseline=\"hanging\">400</text><text dominant-baseline=\"hanging\" stroke=\"none\" vector-effect=\"non-scaling-stroke\" x=\"3.668174e+02\" y=\"10\">500</text><text vector-effect=\"non-scaling-stroke\" x=\"4.063686e+02\" y=\"10\" dominant-baseline=\"hanging\" stroke=\"none\">600</text><text stroke=\"none\" vector-effect=\"non-scaling-stroke\" x=\"4.398087e+02\" y=\"10\" dominant-baseline=\"hanging\">700</text><text stroke=\"none\" vector-effect=\"non-scaling-stroke\" x=\"4.687758e+02\" y=\"10\" dominant-baseline=\"hanging\">800</text><text stroke=\"none\" vector-effect=\"non-scaling-stroke\" x=\"4.943267e+02\" y=\"10\" dominant-baseline=\"hanging\">900</text><text y=\"10\" dominant-baseline=\"hanging\" stroke=\"none\" vector-effect=\"non-scaling-stroke\" x=\"5.171826e+02\">1000</text><text stroke=\"none\" vector-effect=\"non-scaling-stroke\" x=\"5.378584e+02\" y=\"10\" dominant-baseline=\"hanging\">1100</text><text y=\"10\" dominant-baseline=\"hanging\" stroke=\"none\" vector-effect=\"non-scaling-stroke\" x=\"6.675479e+02\">2000</text><text stroke=\"none\" vector-effect=\"non-scaling-stroke\" x=\"7.555060e+02\" y=\"10\" dominant-baseline=\"hanging\">3000</text><text stroke=\"none\" vector-effect=\"non-scaling-stroke\" x=\"8.179132e+02\" y=\"10\" dominant-baseline=\"hanging\">4000</text><text dominant-baseline=\"hanging\" stroke=\"none\" vector-effect=\"non-scaling-stroke\" x=\"8.663200e+02\" y=\"10\">5000</text></g><g font-style=\"normal\" stroke-width=\"2px\" transform=\"translate(70 330 )scale(1 1 )rotate(0 0 0 )\" font-weight=\"bold\" text-anchor=\"middle\" stroke=\"black\" font-family=\"sans-serif\" stroke-linecap=\"round\" dominant-baseline=\"baseline\" fill=\"black\" stroke-linejoin=\"round\" font-size=\"12px\"><text stroke=\"none\" vector-effect=\"non-scaling-stroke\" x=\"442\" y=\"-6\" dominant-baseline=\"baseline\">Steps</text></g><g stroke=\"black\" font-family=\"sans-serif\" font-size=\"12px\" font-style=\"normal\" stroke-linecap=\"round\" transform=\"translate(70 330 )scale(1 1 )rotate(-90 0 0 )\" text-anchor=\"middle\" fill=\"black\" stroke-linejoin=\"round\" font-weight=\"bold\" stroke-width=\"2px\" dominant-baseline=\"hanging\"><text y=\"6\" dominant-baseline=\"hanging\" stroke=\"none\" vector-effect=\"non-scaling-stroke\" x=\"130\">accuracy</text></g><g font-size=\"12px\" stroke-width=\"2px\" stroke-linecap=\"round\" dominant-baseline=\"hanging\" font-weight=\"bold\" text-anchor=\"middle\" font-family=\"sans-serif\" fill=\"none\" stroke=\"black\" stroke-linejoin=\"round\" font-style=\"normal\"><rect x=\"70\" y=\"70\" width=\"884\" height=\"260\" vector-effect=\"non-scaling-stroke\"/><g font-size=\"18px\" dominant-baseline=\"middle\" fill=\"black\"><text dominant-baseline=\"middle\" stroke=\"none\" vector-effect=\"non-scaling-stroke\" x=\"512\" y=\"35\">accuracy metrics</text></g><g font-style=\"normal\" stroke-linecap=\"round\" dominant-baseline=\"hanging\" fill=\"hsl(90, 47%, 65%)\" stroke-linejoin=\"round\" font-family=\"sans-serif\" stroke-width=\"1px\" text-anchor=\"start\" stroke=\"hsl(90, 47%, 65%)\" font-size=\"12px\" font-weight=\"normal\"><rect height=\"12\" vector-effect=\"non-scaling-stroke\" x=\"76\" y=\"366\" width=\"12\"/><g fill=\"black\" stroke=\"black\"><text stroke=\"none\" vector-effect=\"non-scaling-stroke\" x=\"92\" y=\"366\" dominant-baseline=\"hanging\">Eval on batched train: Mean Accuracy</text></g><g stroke-linecap=\"round\" dominant-baseline=\"hanging\" font-size=\"12px\" fill=\"hsl(301, 88%, 65%)\" stroke=\"hsl(301, 88%, 65%)\" stroke-linejoin=\"round\" font-family=\"sans-serif\" stroke-width=\"1px\" font-style=\"normal\" font-weight=\"normal\" text-anchor=\"start\"><rect vector-effect=\"non-scaling-stroke\" x=\"76\" y=\"384\" width=\"12\" height=\"12\"/><g fill=\"black\" stroke=\"black\"><text x=\"92\" y=\"384\" dominant-baseline=\"hanging\" stroke=\"none\" vector-effect=\"non-scaling-stroke\">Eval on test: Mean Accuracy</text></g><g stroke-linecap=\"round\" font-family=\"sans-serif\" font-size=\"12px\" font-weight=\"normal\" text-anchor=\"start\" font-style=\"normal\" stroke-width=\"1px\" dominant-baseline=\"hanging\" fill=\"hsl(152, 76%, 65%)\" stroke=\"hsl(152, 76%, 65%)\" stroke-linejoin=\"round\"><rect y=\"402\" width=\"12\" height=\"12\" vector-effect=\"non-scaling-stroke\" x=\"76\"/><g fill=\"black\" stroke=\"black\"><text stroke=\"none\" vector-effect=\"non-scaling-stroke\" x=\"92\" y=\"402\" dominant-baseline=\"hanging\">Train: Moving Average Accuracy</text></g></g></g></g></g></svg>\n",
       "<svg preserveAspectRatio=\"xMidYMid meet\" xmlns=\"http://www.w3.org/2000/svg\" width=\"1024\" height=\"454\" viewbox=\"0 0 1024 400\" style=\"background-color:#f8f8f8\"><defs><marker markerWidth=\"2%\" markerHeight=\"2%\" id=\"circle\" viewBox=\"0 0 10 10 \" refX=\"5\" refY=\"5\" markerUnits=\"userSpaceOnUse\"><circle cx=\"5\" cy=\"5\" r=\"3\" fill=\"none\" stroke=\"black\"/></marker><marker markerHeight=\"2%\" id=\"filled-circle\" viewBox=\"0 0 10 10 \" refX=\"5\" refY=\"5\" markerUnits=\"userSpaceOnUse\" markerWidth=\"2%\"><circle cy=\"5\" r=\"3\" fill=\"black\" stroke=\"none\" cx=\"5\"/></marker><marker id=\"square\" viewBox=\"0 0 10 10 \" refX=\"5\" refY=\"5\" markerUnits=\"userSpaceOnUse\" markerWidth=\"2%\" markerHeight=\"2%\"><rect y=\"2\" width=\"6\" height=\"6\" fill=\"none\" stroke=\"black\" x=\"2\"/></marker><marker viewBox=\"0 0 10 10 \" refX=\"5\" refY=\"5\" markerUnits=\"userSpaceOnUse\" markerWidth=\"2%\" markerHeight=\"2%\" id=\"filled-square\"><rect width=\"6\" height=\"6\" fill=\"black\" stroke=\"none\" x=\"2\" y=\"2\"/></marker></defs><g marker-mid=\"url(#square)\" stroke-linejoin=\"round\" marker-start=\"url(#square)\" stroke-linecap=\"round\" transform=\"translate(70 330 )scale(1 -1 )\" stroke=\"hsl(90, 47%, 65%)\" stroke-width=\"2px\" fill=\"none\" marker-end=\"url(#square)\"><path vector-effect=\"non-scaling-stroke\" d=\"M1.768000e+01,2.423925e+02 L1.786294e+02,1.163159e+02 L2.773355e+02,9.887047e+01 L3.506075e+02,9.762552e+01 L4.099543e+02,7.348230e+01 L4.607660e+02,6.566380e+01 L5.055983e+02,6.177034e+01 L5.461769e+02,4.598196e+01 L5.835664e+02,4.040949e+01 L6.184621e+02,4.513456e+01 L6.513380e+02,2.895540e+01 L6.825291e+02,2.670956e+01 L7.123676e+02,1.870224e+01 L7.410809e+02,1.583927e+01 L7.688274e+02,1.342706e+01 L7.957190e+02,1.021259e+01 L8.218897e+02,8.709888e+00 L8.474287e+02,6.939253e+00 L8.663200e+02,6.655716e+00 \"/></g><g marker-start=\"url(#square)\" fill=\"none\" marker-end=\"url(#square)\" marker-mid=\"url(#square)\" transform=\"translate(70 330 )scale(1 -1 )\" stroke=\"hsl(301, 88%, 65%)\" stroke-width=\"2px\" stroke-linecap=\"round\" stroke-linejoin=\"round\"><path d=\"M1.768000e+01,2.392298e+02 L1.786294e+02,1.127300e+02 L2.773355e+02,9.597501e+01 L3.506075e+02,9.458531e+01 L4.099543e+02,7.157609e+01 L4.607660e+02,6.458728e+01 L5.055983e+02,6.124397e+01 L5.461769e+02,4.746153e+01 L5.835664e+02,4.324131e+01 L6.184621e+02,4.697563e+01 L6.513380e+02,3.286192e+01 L6.825291e+02,3.115683e+01 L7.123676e+02,2.494945e+01 L7.410809e+02,2.219259e+01 L7.688274e+02,1.994224e+01 L7.957190e+02,1.832330e+01 L8.218897e+02,1.581310e+01 L8.474287e+02,1.382731e+01 L8.663200e+02,1.408597e+01 \" vector-effect=\"non-scaling-stroke\"/></g><g fill=\"none\" marker-end=\"url(#square)\" marker-mid=\"url(#square)\" stroke-linejoin=\"round\" transform=\"translate(70 330 )scale(1 -1 )\" stroke=\"hsl(152, 76%, 65%)\" stroke-width=\"2px\" stroke-linecap=\"round\" marker-start=\"url(#square)\"><path d=\"M1.768000e+01,2.548000e+02 L1.786294e+02,1.982090e+02 L2.773355e+02,1.355767e+02 L3.506075e+02,1.092731e+02 L4.099543e+02,9.736144e+01 L4.607660e+02,6.939015e+01 L5.055983e+02,6.194208e+01 L5.461769e+02,5.116578e+01 L5.835664e+02,4.462053e+01 L6.184621e+02,4.473407e+01 L6.513380e+02,3.452844e+01 L6.825291e+02,2.733961e+01 L7.123676e+02,2.111710e+01 L7.410809e+02,1.970286e+01 L7.688274e+02,1.330292e+01 L7.957190e+02,8.204604e+00 L8.218897e+02,9.619829e+00 L8.474287e+02,5.200000e+00 L8.663200e+02,1.160506e+01 \" vector-effect=\"non-scaling-stroke\"/></g><g stroke-width=\"2px\" stroke-linecap=\"round\" stroke-linejoin=\"round\" transform=\"translate(70 330 )scale(1 -1 )\" fill=\"none\" stroke=\"black\"><path d=\"M1.768000e+01,0 L1.768000e+01,-6 M1.680453e+02,0 L1.680453e+02,-6 M2.560033e+02,0 L2.560033e+02,-6 M3.184106e+02,0 L3.184106e+02,-6 M3.668174e+02,0 L3.668174e+02,-6 M4.063686e+02,0 L4.063686e+02,-6 M4.398087e+02,0 L4.398087e+02,-6 M4.687758e+02,0 L4.687758e+02,-6 M4.943267e+02,0 L4.943267e+02,-6 M5.171826e+02,0 L5.171826e+02,-6 M5.378584e+02,0 L5.378584e+02,-6 M6.675479e+02,0 L6.675479e+02,-6 M7.555060e+02,0 L7.555060e+02,-6 M8.179132e+02,0 L8.179132e+02,-6 M8.663200e+02,0 L8.663200e+02,-6 \" vector-effect=\"non-scaling-stroke\"/></g><g font-weight=\"normal\" font-family=\"sans-serif\" stroke=\"black\" stroke-linecap=\"round\" dominant-baseline=\"hanging\" fill=\"black\" font-style=\"normal\" stroke-linejoin=\"round\" transform=\"translate(70 330 )scale(1 1 )\" font-size=\"12px\" text-anchor=\"middle\" stroke-width=\"2px\"><text dominant-baseline=\"hanging\" stroke=\"none\" vector-effect=\"non-scaling-stroke\" x=\"1.768000e+01\" y=\"10\">100</text><text vector-effect=\"non-scaling-stroke\" x=\"1.680453e+02\" y=\"10\" dominant-baseline=\"hanging\" stroke=\"none\">200</text><text dominant-baseline=\"hanging\" stroke=\"none\" vector-effect=\"non-scaling-stroke\" x=\"2.560033e+02\" y=\"10\">300</text><text stroke=\"none\" vector-effect=\"non-scaling-stroke\" x=\"3.184106e+02\" y=\"10\" dominant-baseline=\"hanging\">400</text><text vector-effect=\"non-scaling-stroke\" x=\"3.668174e+02\" y=\"10\" dominant-baseline=\"hanging\" stroke=\"none\">500</text><text x=\"4.063686e+02\" y=\"10\" dominant-baseline=\"hanging\" stroke=\"none\" vector-effect=\"non-scaling-stroke\">600</text><text dominant-baseline=\"hanging\" stroke=\"none\" vector-effect=\"non-scaling-stroke\" x=\"4.398087e+02\" y=\"10\">700</text><text x=\"4.687758e+02\" y=\"10\" dominant-baseline=\"hanging\" stroke=\"none\" vector-effect=\"non-scaling-stroke\">800</text><text y=\"10\" dominant-baseline=\"hanging\" stroke=\"none\" vector-effect=\"non-scaling-stroke\" x=\"4.943267e+02\">900</text><text x=\"5.171826e+02\" y=\"10\" dominant-baseline=\"hanging\" stroke=\"none\" vector-effect=\"non-scaling-stroke\">1000</text><text dominant-baseline=\"hanging\" stroke=\"none\" vector-effect=\"non-scaling-stroke\" x=\"5.378584e+02\" y=\"10\">1100</text><text dominant-baseline=\"hanging\" stroke=\"none\" vector-effect=\"non-scaling-stroke\" x=\"6.675479e+02\" y=\"10\">2000</text><text stroke=\"none\" vector-effect=\"non-scaling-stroke\" x=\"7.555060e+02\" y=\"10\" dominant-baseline=\"hanging\">3000</text><text stroke=\"none\" vector-effect=\"non-scaling-stroke\" x=\"8.179132e+02\" y=\"10\" dominant-baseline=\"hanging\">4000</text><text dominant-baseline=\"hanging\" stroke=\"none\" vector-effect=\"non-scaling-stroke\" x=\"8.663200e+02\" y=\"10\">5000</text></g><g stroke-linecap=\"round\" fill=\"black\" stroke-linejoin=\"round\" transform=\"translate(70 330 )scale(1 1 )rotate(0 0 0 )\" font-family=\"sans-serif\" font-size=\"12px\" text-anchor=\"middle\" dominant-baseline=\"baseline\" stroke=\"black\" stroke-width=\"2px\" font-style=\"normal\" font-weight=\"bold\"><text vector-effect=\"non-scaling-stroke\" x=\"442\" y=\"-6\" dominant-baseline=\"baseline\" stroke=\"none\">Steps</text></g><g stroke-linejoin=\"round\" font-weight=\"bold\" transform=\"translate(70 330 )scale(1 -1 )\" font-size=\"12px\" text-anchor=\"middle\" stroke-width=\"2px\" stroke-linecap=\"round\" fill=\"black\" font-style=\"normal\" font-family=\"sans-serif\" stroke=\"black\" dominant-baseline=\"baseline\"><path d=\"M0,3.845258e+01 L-6,3.845258e+01 M0,1.404435e+02 L-6,1.404435e+02 M0,2.195538e+02 L-6,2.195538e+02 \" vector-effect=\"non-scaling-stroke\"/></g><g fill=\"black\" text-anchor=\"end\" stroke=\"black\" stroke-width=\"2px\" stroke-linecap=\"round\" transform=\"translate(70 330 )scale(1 1 )\" font-family=\"sans-serif\" font-size=\"12px\" stroke-linejoin=\"round\" dominant-baseline=\"middle\" font-style=\"normal\" font-weight=\"normal\"><text x=\"-10\" y=\"-3.845258e+01\" dominant-baseline=\"middle\" stroke=\"none\" vector-effect=\"non-scaling-stroke\">0.300</text><text x=\"-10\" y=\"-1.404435e+02\" dominant-baseline=\"middle\" stroke=\"none\" vector-effect=\"non-scaling-stroke\">0.400</text><text y=\"-2.195538e+02\" dominant-baseline=\"middle\" stroke=\"none\" vector-effect=\"non-scaling-stroke\" x=\"-10\">0.500</text></g><g stroke-linecap=\"round\" transform=\"translate(70 330 )scale(1 1 )rotate(-90 0 0 )\" font-family=\"sans-serif\" font-size=\"12px\" text-anchor=\"middle\" font-style=\"normal\" stroke=\"black\" stroke-width=\"2px\" stroke-linejoin=\"round\" dominant-baseline=\"hanging\" fill=\"black\" font-weight=\"bold\"><text dominant-baseline=\"hanging\" stroke=\"none\" vector-effect=\"non-scaling-stroke\" x=\"130\" y=\"6\">loss</text></g><g stroke-linecap=\"round\" transform=\"translate(70 330 )scale(1 -1 )\" font-family=\"sans-serif\" font-size=\"12px\" text-anchor=\"middle\" fill=\"black\" font-style=\"normal\" stroke=\"gray\" stroke-linejoin=\"round\" dominant-baseline=\"hanging\" font-weight=\"bold\" stroke-width=\"0.5px\"><path vector-effect=\"non-scaling-stroke\" d=\"M0,3.845258e+01 L884,3.845258e+01 M0,1.404435e+02 L884,1.404435e+02 M0,2.195538e+02 L884,2.195538e+02 \"/></g><g stroke-linejoin=\"round\" font-family=\"sans-serif\" stroke=\"black\" stroke-width=\"2px\" stroke-linecap=\"round\" fill=\"none\" font-weight=\"bold\" font-size=\"12px\" text-anchor=\"middle\" dominant-baseline=\"hanging\" font-style=\"normal\"><rect vector-effect=\"non-scaling-stroke\" x=\"70\" y=\"70\" width=\"884\" height=\"260\"/><g font-size=\"18px\" dominant-baseline=\"middle\" fill=\"black\"><text dominant-baseline=\"middle\" stroke=\"none\" vector-effect=\"non-scaling-stroke\" x=\"512\" y=\"35\">loss metrics</text></g><g stroke=\"hsl(90, 47%, 65%)\" stroke-width=\"1px\" stroke-linecap=\"round\" stroke-linejoin=\"round\" font-family=\"sans-serif\" font-size=\"12px\" text-anchor=\"start\" dominant-baseline=\"hanging\" font-style=\"normal\" font-weight=\"normal\" fill=\"hsl(90, 47%, 65%)\"><rect width=\"12\" height=\"12\" vector-effect=\"non-scaling-stroke\" x=\"76\" y=\"366\"/><g stroke=\"black\" fill=\"black\"><text dominant-baseline=\"hanging\" stroke=\"none\" vector-effect=\"non-scaling-stroke\" x=\"92\" y=\"366\">Eval on batched train: Mean Loss</text></g><g stroke-linecap=\"round\" stroke-linejoin=\"round\" font-family=\"sans-serif\" dominant-baseline=\"hanging\" font-style=\"normal\" fill=\"hsl(301, 88%, 65%)\" font-size=\"12px\" text-anchor=\"start\" stroke=\"hsl(301, 88%, 65%)\" font-weight=\"normal\" stroke-width=\"1px\"><rect x=\"76\" y=\"384\" width=\"12\" height=\"12\" vector-effect=\"non-scaling-stroke\"/><g fill=\"black\" stroke=\"black\"><text dominant-baseline=\"hanging\" stroke=\"none\" vector-effect=\"non-scaling-stroke\" x=\"92\" y=\"384\">Eval on test: Mean Loss</text></g><g stroke-linejoin=\"round\" font-family=\"sans-serif\" dominant-baseline=\"hanging\" fill=\"hsl(152, 76%, 65%)\" font-weight=\"normal\" text-anchor=\"start\" stroke-linecap=\"round\" stroke-width=\"1px\" font-style=\"normal\" font-size=\"12px\" stroke=\"hsl(152, 76%, 65%)\"><rect height=\"12\" vector-effect=\"non-scaling-stroke\" x=\"76\" y=\"402\" width=\"12\"/><g fill=\"black\" stroke=\"black\"><text dominant-baseline=\"hanging\" stroke=\"none\" vector-effect=\"non-scaling-stroke\" x=\"92\" y=\"402\">Train: Moving Average Loss</text></g></g></g></g></g></svg>"
      ]
     },
     "metadata": {},
     "output_type": "display_data"
    },
    {
     "name": "stdout",
     "output_type": "stream",
     "text": [
      "Training (5000 steps):  100% [\u001b[32m=\u001b[0m\u001b[32m=\u001b[0m\u001b[32m=\u001b[0m\u001b[32m=\u001b[0m\u001b[32m=\u001b[0m\u001b[32m=\u001b[0m\u001b[32m=\u001b[0m\u001b[32m=\u001b[0m\u001b[32m=\u001b[0m\u001b[32m=\u001b[0m\u001b[32m=\u001b[0m\u001b[32m=\u001b[0m\u001b[32m=\u001b[0m\u001b[32m=\u001b[0m\u001b[32m=\u001b[0m\u001b[32m=\u001b[0m\u001b[32m=\u001b[0m\u001b[32m=\u001b[0m\u001b[32m=\u001b[0m\u001b[32m=\u001b[0m\u001b[32m=\u001b[0m\u001b[32m=\u001b[0m\u001b[32m=\u001b[0m\u001b[32m=\u001b[0m\u001b[32m=\u001b[0m\u001b[32m=\u001b[0m\u001b[32m=\u001b[0m\u001b[32m=\u001b[0m\u001b[32m=\u001b[0m\u001b[32m=\u001b[0m\u001b[32m=\u001b[0m\u001b[32m=\u001b[0m\u001b[32m=\u001b[0m\u001b[32m=\u001b[0m\u001b[32m=\u001b[0m\u001b[32m=\u001b[0m\u001b[32m=\u001b[0m\u001b[32m=\u001b[0m\u001b[32m=\u001b[0m\u001b[32m=\u001b[0m] (541 steps/s)\u001b[0m [loss=0.299] [~loss=0.278] [~acc=87.22%]        \n",
      "\n",
      "[saving checkpoint@5000] [median train step (ms): 0]\n",
      "\t[Step 5000] median train step: 895 microseconds\n",
      "\n",
      "Results on batched train:\n",
      "\tMean Loss (#loss): 0.274\n",
      "\tMean Accuracy (#acc): 87.35%\n",
      "Results on test:\n",
      "\tMean Loss (#loss): 0.280\n",
      "\tMean Accuracy (#acc): 87.10%\n",
      "\n"
     ]
    }
   ],
   "source": [
    "%% --steps=5000 --checkpoint base_model\n",
    "trainModel()"
   ]
  },
  {
   "cell_type": "markdown",
   "id": "c38d8a41-3e9c-4107-a507-c879ef27e3e3",
   "metadata": {},
   "source": [
    "Since the model training went well, and it doesn't seem to be yet terribly overfiting, \n",
    "let's train further, another 15k steps, for 20K steps in total.\t\tmg.WithRange()\n"
   ]
  },
  {
   "cell_type": "code",
   "execution_count": 8,
   "id": "95983f61-2a98-442d-bc5d-896006289a2b",
   "metadata": {
    "tags": []
   },
   "outputs": [
    {
     "name": "stdout",
     "output_type": "stream",
     "text": [
      "Checkpointing model to \"/home/janpf/work/uci-adult/base_model\"\n",
      "Restarting training from global_step=5000\n"
     ]
    },
    {
     "data": {
      "text/html": [
       "<svg height=\"454\" viewbox=\"0 0 1024 400\" style=\"background-color:#f8f8f8\" preserveAspectRatio=\"xMidYMid meet\" xmlns=\"http://www.w3.org/2000/svg\" width=\"1024\"><defs><marker markerWidth=\"2%\" markerHeight=\"2%\" id=\"circle\" viewBox=\"0 0 10 10 \" refX=\"5\" refY=\"5\" markerUnits=\"userSpaceOnUse\"><circle r=\"3\" fill=\"none\" stroke=\"black\" cx=\"5\" cy=\"5\"/></marker><marker markerWidth=\"2%\" markerHeight=\"2%\" id=\"filled-circle\" viewBox=\"0 0 10 10 \" refX=\"5\" refY=\"5\" markerUnits=\"userSpaceOnUse\"><circle r=\"3\" fill=\"black\" stroke=\"none\" cx=\"5\" cy=\"5\"/></marker><marker markerUnits=\"userSpaceOnUse\" markerWidth=\"2%\" markerHeight=\"2%\" id=\"square\" viewBox=\"0 0 10 10 \" refX=\"5\" refY=\"5\"><rect fill=\"none\" stroke=\"black\" x=\"2\" y=\"2\" width=\"6\" height=\"6\"/></marker><marker markerWidth=\"2%\" markerHeight=\"2%\" id=\"filled-square\" viewBox=\"0 0 10 10 \" refX=\"5\" refY=\"5\" markerUnits=\"userSpaceOnUse\"><rect fill=\"black\" stroke=\"none\" x=\"2\" y=\"2\" width=\"6\" height=\"6\"/></marker></defs><g fill=\"none\" stroke-linecap=\"round\" transform=\"translate(70 330 )scale(1 -1 )\" marker-mid=\"url(#square)\" marker-end=\"url(#square)\" stroke=\"hsl(90, 47%, 65%)\" stroke-width=\"2px\" stroke-linejoin=\"round\" marker-start=\"url(#square)\"><path vector-effect=\"non-scaling-stroke\" d=\"M1.768000e+01,5.200000e+00 L1.365173e+02,1.732712e+02 L2.093971e+02,1.778574e+02 L2.634977e+02,1.831818e+02 L3.073165e+02,1.986853e+02 L3.448334e+02,2.126978e+02 L3.779355e+02,2.113447e+02 L4.078967e+02,2.225673e+02 L4.355033e+02,2.239726e+02 L4.612687e+02,2.229339e+02 L4.855427e+02,2.355377e+02 L5.085726e+02,2.360229e+02 L5.306039e+02,2.418353e+02 L5.518045e+02,2.423187e+02 L5.722912e+02,2.428021e+02 L5.921466e+02,2.448546e+02 L6.114698e+02,2.455182e+02 L6.303266e+02,2.453977e+02 L6.442750e+02,2.456992e+02 L6.487916e+02,2.444323e+02 L6.669114e+02,2.480495e+02 L6.847383e+02,2.473267e+02 L7.023018e+02,2.453977e+02 L7.196363e+02,2.469049e+02 L7.367580e+02,2.478086e+02 L7.536877e+02,2.472663e+02 L7.704470e+02,2.463021e+02 L7.870558e+02,2.473869e+02 L8.035318e+02,2.473267e+02 L8.198887e+02,2.446133e+02 L8.361372e+02,2.469049e+02 L8.522929e+02,2.470253e+02 L8.663200e+02,2.482302e+02 \"/></g><g stroke-linecap=\"round\" transform=\"translate(70 330 )scale(1 -1 )\" fill=\"none\" stroke=\"hsl(301, 88%, 65%)\" marker-end=\"url(#square)\" stroke-width=\"2px\" stroke-linejoin=\"round\" marker-start=\"url(#square)\" marker-mid=\"url(#square)\"><path vector-effect=\"non-scaling-stroke\" d=\"M1.768000e+01,1.552334e+01 L1.365173e+02,1.779299e+02 L2.093971e+02,1.813143e+02 L2.634977e+02,1.831916e+02 L3.073165e+02,2.050665e+02 L3.448334e+02,2.203125e+02 L3.779355e+02,2.172496e+02 L4.078967e+02,2.195779e+02 L4.355033e+02,2.199452e+02 L4.612687e+02,2.215362e+02 L4.855427e+02,2.293468e+02 L5.085726e+02,2.308073e+02 L5.306039e+02,2.362733e+02 L5.518045e+02,2.344532e+02 L5.722912e+02,2.378492e+02 L5.921466e+02,2.363946e+02 L6.114698e+02,2.359095e+02 L6.303266e+02,2.399077e+02 L6.442750e+02,2.408756e+02 L6.487916e+02,2.367583e+02 L6.669114e+02,2.408756e+02 L6.847383e+02,2.430512e+02 L7.023018e+02,2.405126e+02 L7.196363e+02,2.425679e+02 L7.367580e+02,2.424471e+02 L7.536877e+02,2.430512e+02 L7.704470e+02,2.431720e+02 L7.870558e+02,2.436551e+02 L8.035318e+02,2.429304e+02 L8.198887e+02,2.420845e+02 L8.361372e+02,2.432928e+02 L8.522929e+02,2.436551e+02 L8.663200e+02,2.449829e+02 \"/></g><g stroke-linecap=\"round\" stroke-linejoin=\"round\" marker-end=\"url(#square)\" transform=\"translate(70 330 )scale(1 -1 )\" marker-start=\"url(#square)\" stroke-width=\"2px\" fill=\"none\" stroke=\"hsl(152, 76%, 65%)\" marker-mid=\"url(#square)\"><path vector-effect=\"non-scaling-stroke\" d=\"M1.768000e+01,1.011957e+01 L1.365173e+02,6.987109e+01 L2.093971e+02,1.413147e+02 L2.634977e+02,1.727684e+02 L3.073165e+02,1.829846e+02 L3.448334e+02,2.055052e+02 L3.779355e+02,2.104768e+02 L4.078967e+02,2.163164e+02 L4.355033e+02,2.202436e+02 L4.612687e+02,2.172387e+02 L4.855427e+02,2.272935e+02 L5.085726e+02,2.358438e+02 L5.306039e+02,2.427474e+02 L5.518045e+02,2.382959e+02 L5.722912e+02,2.469636e+02 L5.921466e+02,2.488548e+02 L6.114698e+02,2.461170e+02 L6.303266e+02,2.458905e+02 L6.442750e+02,2.431573e+02 L6.487916e+02,2.440188e+02 L6.669114e+02,2.477011e+02 L6.847383e+02,2.485549e+02 L7.023018e+02,2.423895e+02 L7.196363e+02,2.484727e+02 L7.367580e+02,2.507933e+02 L7.536877e+02,2.505281e+02 L7.704470e+02,2.407781e+02 L7.870558e+02,2.522756e+02 L8.035318e+02,2.548000e+02 L8.198887e+02,2.478122e+02 L8.361372e+02,2.452469e+02 L8.522929e+02,2.513817e+02 L8.663200e+02,2.428521e+02 \"/></g><g fill=\"none\" stroke=\"black\" stroke-width=\"2px\" stroke-linecap=\"round\" stroke-linejoin=\"round\" transform=\"translate(70 330 )scale(1 -1 )\"><path vector-effect=\"non-scaling-stroke\" d=\"M1.768000e+01,0 L1.768000e+01,-6 M1.287025e+02,0 L1.287025e+02,-6 M1.936465e+02,0 L1.936465e+02,-6 M2.397250e+02,0 L2.397250e+02,-6 M2.754663e+02,0 L2.754663e+02,-6 M3.046690e+02,0 L3.046690e+02,-6 M3.293596e+02,0 L3.293596e+02,-6 M3.507475e+02,0 L3.507475e+02,-6 M3.696130e+02,0 L3.696130e+02,-6 M3.864888e+02,0 L3.864888e+02,-6 M4.017547e+02,0 L4.017547e+02,-6 M4.975112e+02,0 L4.975112e+02,-6 M5.624552e+02,0 L5.624552e+02,-6 M6.085337e+02,0 L6.085337e+02,-6 M6.442750e+02,0 L6.442750e+02,-6 M6.734777e+02,0 L6.734777e+02,-6 M6.981683e+02,0 L6.981683e+02,-6 M7.195562e+02,0 L7.195562e+02,-6 M7.384217e+02,0 L7.384217e+02,-6 M7.552975e+02,0 L7.552975e+02,-6 M8.663200e+02,0 L8.663200e+02,-6 \"/></g><g stroke-width=\"2px\" stroke-linecap=\"round\" font-family=\"sans-serif\" font-weight=\"normal\" text-anchor=\"middle\" dominant-baseline=\"hanging\" stroke-linejoin=\"round\" font-size=\"12px\" font-style=\"normal\" fill=\"black\" stroke=\"black\" transform=\"translate(70 330 )scale(1 1 )\"><text stroke=\"none\" vector-effect=\"non-scaling-stroke\" x=\"1.768000e+01\" y=\"10\" dominant-baseline=\"hanging\">100</text><text vector-effect=\"non-scaling-stroke\" x=\"1.287025e+02\" y=\"10\" dominant-baseline=\"hanging\" stroke=\"none\">200</text><text dominant-baseline=\"hanging\" stroke=\"none\" vector-effect=\"non-scaling-stroke\" x=\"1.936465e+02\" y=\"10\">300</text><text dominant-baseline=\"hanging\" stroke=\"none\" vector-effect=\"non-scaling-stroke\" x=\"2.397250e+02\" y=\"10\">400</text><text dominant-baseline=\"hanging\" stroke=\"none\" vector-effect=\"non-scaling-stroke\" x=\"2.754663e+02\" y=\"10\">500</text><text stroke=\"none\" vector-effect=\"non-scaling-stroke\" x=\"3.046690e+02\" y=\"10\" dominant-baseline=\"hanging\">600</text><text dominant-baseline=\"hanging\" stroke=\"none\" vector-effect=\"non-scaling-stroke\" x=\"3.293596e+02\" y=\"10\">700</text><text stroke=\"none\" vector-effect=\"non-scaling-stroke\" x=\"3.507475e+02\" y=\"10\" dominant-baseline=\"hanging\">800</text><text y=\"10\" dominant-baseline=\"hanging\" stroke=\"none\" vector-effect=\"non-scaling-stroke\" x=\"3.696130e+02\">900</text><text dominant-baseline=\"hanging\" stroke=\"none\" vector-effect=\"non-scaling-stroke\" x=\"3.864888e+02\" y=\"10\">1000</text><text dominant-baseline=\"hanging\" stroke=\"none\" vector-effect=\"non-scaling-stroke\" x=\"4.017547e+02\" y=\"10\">1100</text><text x=\"4.975112e+02\" y=\"10\" dominant-baseline=\"hanging\" stroke=\"none\" vector-effect=\"non-scaling-stroke\">2000</text><text x=\"5.624552e+02\" y=\"10\" dominant-baseline=\"hanging\" stroke=\"none\" vector-effect=\"non-scaling-stroke\">3000</text><text x=\"6.085337e+02\" y=\"10\" dominant-baseline=\"hanging\" stroke=\"none\" vector-effect=\"non-scaling-stroke\">4000</text><text stroke=\"none\" vector-effect=\"non-scaling-stroke\" x=\"6.442750e+02\" y=\"10\" dominant-baseline=\"hanging\">5000</text><text stroke=\"none\" vector-effect=\"non-scaling-stroke\" x=\"6.734777e+02\" y=\"10\" dominant-baseline=\"hanging\">6000</text><text stroke=\"none\" vector-effect=\"non-scaling-stroke\" x=\"6.981683e+02\" y=\"10\" dominant-baseline=\"hanging\">7000</text><text x=\"7.195562e+02\" y=\"10\" dominant-baseline=\"hanging\" stroke=\"none\" vector-effect=\"non-scaling-stroke\">8000</text><text x=\"7.384217e+02\" y=\"10\" dominant-baseline=\"hanging\" stroke=\"none\" vector-effect=\"non-scaling-stroke\">9000</text><text y=\"10\" dominant-baseline=\"hanging\" stroke=\"none\" vector-effect=\"non-scaling-stroke\" x=\"7.552975e+02\">10000</text><text stroke=\"none\" vector-effect=\"non-scaling-stroke\" x=\"8.663200e+02\" y=\"10\" dominant-baseline=\"hanging\">20000</text></g><g fill=\"black\" stroke=\"black\" dominant-baseline=\"baseline\" transform=\"translate(70 330 )scale(1 1 )rotate(0 0 0 )\" font-weight=\"bold\" text-anchor=\"middle\" font-family=\"sans-serif\" font-style=\"normal\" stroke-width=\"2px\" stroke-linecap=\"round\" stroke-linejoin=\"round\" font-size=\"12px\"><text dominant-baseline=\"baseline\" stroke=\"none\" vector-effect=\"non-scaling-stroke\" x=\"442\" y=\"-6\">Steps</text></g><g text-anchor=\"middle\" dominant-baseline=\"hanging\" stroke-width=\"2px\" stroke-linejoin=\"round\" transform=\"translate(70 330 )scale(1 1 )rotate(-90 0 0 )\" font-weight=\"bold\" fill=\"black\" stroke=\"black\" stroke-linecap=\"round\" font-family=\"sans-serif\" font-size=\"12px\" font-style=\"normal\"><text vector-effect=\"non-scaling-stroke\" x=\"130\" y=\"6\" dominant-baseline=\"hanging\" stroke=\"none\">accuracy</text></g><g stroke-width=\"2px\" font-family=\"sans-serif\" font-style=\"normal\" fill=\"none\" stroke=\"black\" text-anchor=\"middle\" dominant-baseline=\"hanging\" stroke-linecap=\"round\" font-size=\"12px\" stroke-linejoin=\"round\" font-weight=\"bold\"><rect y=\"70\" width=\"884\" height=\"260\" vector-effect=\"non-scaling-stroke\" x=\"70\"/><g fill=\"black\" font-size=\"18px\" dominant-baseline=\"middle\"><text y=\"35\" dominant-baseline=\"middle\" stroke=\"none\" vector-effect=\"non-scaling-stroke\" x=\"512\">accuracy metrics</text></g><g stroke-width=\"1px\" stroke-linecap=\"round\" text-anchor=\"start\" fill=\"hsl(90, 47%, 65%)\" dominant-baseline=\"hanging\" stroke=\"hsl(90, 47%, 65%)\" font-family=\"sans-serif\" font-size=\"12px\" font-style=\"normal\" stroke-linejoin=\"round\" font-weight=\"normal\"><rect height=\"12\" vector-effect=\"non-scaling-stroke\" x=\"76\" y=\"366\" width=\"12\"/><g fill=\"black\" stroke=\"black\"><text stroke=\"none\" vector-effect=\"non-scaling-stroke\" x=\"92\" y=\"366\" dominant-baseline=\"hanging\">Eval on batched train: Mean Accuracy</text></g><g fill=\"hsl(301, 88%, 65%)\" stroke-linecap=\"round\" font-family=\"sans-serif\" font-size=\"12px\" font-weight=\"normal\" dominant-baseline=\"hanging\" stroke=\"hsl(301, 88%, 65%)\" stroke-width=\"1px\" font-style=\"normal\" stroke-linejoin=\"round\" text-anchor=\"start\"><rect y=\"384\" width=\"12\" height=\"12\" vector-effect=\"non-scaling-stroke\" x=\"76\"/><g fill=\"black\" stroke=\"black\"><text dominant-baseline=\"hanging\" stroke=\"none\" vector-effect=\"non-scaling-stroke\" x=\"92\" y=\"384\">Eval on test: Mean Accuracy</text></g><g font-size=\"12px\" stroke=\"hsl(152, 76%, 65%)\" stroke-width=\"1px\" font-weight=\"normal\" text-anchor=\"start\" font-family=\"sans-serif\" font-style=\"normal\" fill=\"hsl(152, 76%, 65%)\" stroke-linecap=\"round\" dominant-baseline=\"hanging\" stroke-linejoin=\"round\"><rect x=\"76\" y=\"402\" width=\"12\" height=\"12\" vector-effect=\"non-scaling-stroke\"/><g fill=\"black\" stroke=\"black\"><text stroke=\"none\" vector-effect=\"non-scaling-stroke\" x=\"92\" y=\"402\" dominant-baseline=\"hanging\">Train: Moving Average Accuracy</text></g></g></g></g></g></svg>\n",
       "<svg width=\"1024\" height=\"454\" viewbox=\"0 0 1024 400\" style=\"background-color:#f8f8f8\" preserveAspectRatio=\"xMidYMid meet\" xmlns=\"http://www.w3.org/2000/svg\"><defs><marker refY=\"5\" markerUnits=\"userSpaceOnUse\" markerWidth=\"2%\" markerHeight=\"2%\" id=\"circle\" viewBox=\"0 0 10 10 \" refX=\"5\"><circle fill=\"none\" stroke=\"black\" cx=\"5\" cy=\"5\" r=\"3\"/></marker><marker refX=\"5\" refY=\"5\" markerUnits=\"userSpaceOnUse\" markerWidth=\"2%\" markerHeight=\"2%\" id=\"filled-circle\" viewBox=\"0 0 10 10 \"><circle cx=\"5\" cy=\"5\" r=\"3\" fill=\"black\" stroke=\"none\"/></marker><marker markerHeight=\"2%\" id=\"square\" viewBox=\"0 0 10 10 \" refX=\"5\" refY=\"5\" markerUnits=\"userSpaceOnUse\" markerWidth=\"2%\"><rect fill=\"none\" stroke=\"black\" x=\"2\" y=\"2\" width=\"6\" height=\"6\"/></marker><marker refY=\"5\" markerUnits=\"userSpaceOnUse\" markerWidth=\"2%\" markerHeight=\"2%\" id=\"filled-square\" viewBox=\"0 0 10 10 \" refX=\"5\"><rect y=\"2\" width=\"6\" height=\"6\" fill=\"black\" stroke=\"none\" x=\"2\"/></marker></defs><g stroke-linejoin=\"round\" marker-end=\"url(#square)\" fill=\"none\" stroke=\"hsl(90, 47%, 65%)\" stroke-linecap=\"round\" marker-start=\"url(#square)\" marker-mid=\"url(#square)\" transform=\"translate(70 330 )scale(1 -1 )\" stroke-width=\"2px\"><path vector-effect=\"non-scaling-stroke\" d=\"M1.768000e+01,2.429792e+02 L1.365173e+02,1.228638e+02 L2.093971e+02,1.062432e+02 L2.634977e+02,1.050571e+02 L3.073165e+02,8.205545e+01 L3.448334e+02,7.460663e+01 L3.779355e+02,7.089727e+01 L4.078967e+02,5.585540e+01 L4.355033e+02,5.054640e+01 L4.612687e+02,5.504806e+01 L4.855427e+02,3.963389e+01 L5.085726e+02,3.749424e+01 L5.306039e+02,2.986553e+01 L5.518045e+02,2.713792e+01 L5.722912e+02,2.483978e+01 L5.921466e+02,2.177729e+01 L6.114698e+02,2.034564e+01 L6.303266e+02,1.865873e+01 L6.442750e+02,1.838860e+01 L6.487916e+02,1.980552e+01 L6.669114e+02,1.683907e+01 L6.847383e+02,1.644990e+01 L7.023018e+02,1.614216e+01 L7.196363e+02,1.469762e+01 L7.367580e+02,1.358559e+01 L7.536877e+02,1.333696e+01 L7.704470e+02,1.366677e+01 L7.870558e+02,1.273684e+01 L8.035318e+02,1.212175e+01 L8.198887e+02,1.326908e+01 L8.361372e+02,1.102025e+01 L8.522929e+02,1.215921e+01 L8.663200e+02,1.071195e+01 \"/></g><g fill=\"none\" stroke=\"hsl(301, 88%, 65%)\" stroke-width=\"2px\" stroke-linecap=\"round\" marker-end=\"url(#square)\" marker-mid=\"url(#square)\" transform=\"translate(70 330 )scale(1 -1 )\" marker-start=\"url(#square)\" stroke-linejoin=\"round\"><path d=\"M1.768000e+01,2.399660e+02 L1.365173e+02,1.194474e+02 L2.093971e+02,1.034847e+02 L2.634977e+02,1.021607e+02 L3.073165e+02,8.023938e+01 L3.448334e+02,7.358101e+01 L3.779355e+02,7.039578e+01 L4.078967e+02,5.726501e+01 L4.355033e+02,5.324434e+01 L4.612687e+02,5.680208e+01 L4.855427e+02,4.335571e+01 L5.085726e+02,4.173124e+01 L5.306039e+02,3.581736e+01 L5.518045e+02,3.319085e+01 L5.722912e+02,3.104690e+01 L5.921466e+02,2.950451e+01 L6.114698e+02,2.711300e+01 L6.303266e+02,2.522110e+01 L6.442750e+02,2.546753e+01 L6.487916e+02,2.765157e+01 L6.669114e+02,2.471848e+01 L6.847383e+02,2.451000e+01 L7.023018e+02,2.407674e+01 L7.196363e+02,2.356063e+01 L7.367580e+02,2.311514e+01 L7.536877e+02,2.297765e+01 L7.704470e+02,2.260100e+01 L7.870558e+02,2.229040e+01 L8.035318e+02,2.268102e+01 L8.198887e+02,2.406667e+01 L8.361372e+02,2.299120e+01 L8.522929e+02,2.346750e+01 L8.663200e+02,2.263906e+01 \" vector-effect=\"non-scaling-stroke\"/></g><g stroke-linejoin=\"round\" fill=\"none\" stroke-width=\"2px\" stroke-linecap=\"round\" marker-start=\"url(#square)\" marker-end=\"url(#square)\" stroke=\"hsl(152, 76%, 65%)\" marker-mid=\"url(#square)\" transform=\"translate(70 330 )scale(1 -1 )\"><path d=\"M1.768000e+01,2.548000e+02 L1.365173e+02,2.008848e+02 L2.093971e+02,1.412139e+02 L2.634977e+02,1.161540e+02 L3.073165e+02,1.048055e+02 L3.448334e+02,7.815679e+01 L3.779355e+02,7.106088e+01 L4.078967e+02,6.079411e+01 L4.355033e+02,5.455834e+01 L4.612687e+02,5.466652e+01 L4.855427e+02,4.494343e+01 L5.085726e+02,3.809450e+01 L5.306039e+02,3.216621e+01 L5.518045e+02,3.081884e+01 L5.722912e+02,2.472151e+01 L5.921466e+02,1.986425e+01 L6.114698e+02,2.121256e+01 L6.303266e+02,1.700171e+01 L6.442750e+02,2.310392e+01 L6.487916e+02,2.132737e+01 L6.669114e+02,1.713377e+01 L6.847383e+02,1.288393e+01 L7.023018e+02,1.951136e+01 L7.196363e+02,1.412742e+01 L7.367580e+02,1.297946e+01 L7.536877e+02,1.247038e+01 L7.704470e+02,2.011330e+01 L7.870558e+02,9.054403e+00 L8.035318e+02,5.200000e+00 L8.198887e+02,1.326010e+01 L8.361372e+02,1.271583e+01 L8.522929e+02,6.707798e+00 L8.663200e+02,1.405686e+01 \" vector-effect=\"non-scaling-stroke\"/></g><g stroke-linejoin=\"round\" fill=\"none\" stroke=\"black\" stroke-width=\"2px\" stroke-linecap=\"round\" transform=\"translate(70 330 )scale(1 -1 )\"><path d=\"M1.768000e+01,0 L1.768000e+01,-6 M1.287025e+02,0 L1.287025e+02,-6 M1.936465e+02,0 L1.936465e+02,-6 M2.397250e+02,0 L2.397250e+02,-6 M2.754663e+02,0 L2.754663e+02,-6 M3.046690e+02,0 L3.046690e+02,-6 M3.293596e+02,0 L3.293596e+02,-6 M3.507475e+02,0 L3.507475e+02,-6 M3.696130e+02,0 L3.696130e+02,-6 M3.864888e+02,0 L3.864888e+02,-6 M4.017547e+02,0 L4.017547e+02,-6 M4.975112e+02,0 L4.975112e+02,-6 M5.624552e+02,0 L5.624552e+02,-6 M6.085337e+02,0 L6.085337e+02,-6 M6.442750e+02,0 L6.442750e+02,-6 M6.734777e+02,0 L6.734777e+02,-6 M6.981683e+02,0 L6.981683e+02,-6 M7.195562e+02,0 L7.195562e+02,-6 M7.384217e+02,0 L7.384217e+02,-6 M7.552975e+02,0 L7.552975e+02,-6 M8.663200e+02,0 L8.663200e+02,-6 \" vector-effect=\"non-scaling-stroke\"/></g><g font-family=\"sans-serif\" font-size=\"12px\" font-weight=\"normal\" fill=\"black\" stroke-linecap=\"round\" text-anchor=\"middle\" stroke-linejoin=\"round\" font-style=\"normal\" stroke=\"black\" stroke-width=\"2px\" transform=\"translate(70 330 )scale(1 1 )\" dominant-baseline=\"hanging\"><text x=\"1.768000e+01\" y=\"10\" dominant-baseline=\"hanging\" stroke=\"none\" vector-effect=\"non-scaling-stroke\">100</text><text vector-effect=\"non-scaling-stroke\" x=\"1.287025e+02\" y=\"10\" dominant-baseline=\"hanging\" stroke=\"none\">200</text><text stroke=\"none\" vector-effect=\"non-scaling-stroke\" x=\"1.936465e+02\" y=\"10\" dominant-baseline=\"hanging\">300</text><text stroke=\"none\" vector-effect=\"non-scaling-stroke\" x=\"2.397250e+02\" y=\"10\" dominant-baseline=\"hanging\">400</text><text stroke=\"none\" vector-effect=\"non-scaling-stroke\" x=\"2.754663e+02\" y=\"10\" dominant-baseline=\"hanging\">500</text><text dominant-baseline=\"hanging\" stroke=\"none\" vector-effect=\"non-scaling-stroke\" x=\"3.046690e+02\" y=\"10\">600</text><text y=\"10\" dominant-baseline=\"hanging\" stroke=\"none\" vector-effect=\"non-scaling-stroke\" x=\"3.293596e+02\">700</text><text dominant-baseline=\"hanging\" stroke=\"none\" vector-effect=\"non-scaling-stroke\" x=\"3.507475e+02\" y=\"10\">800</text><text stroke=\"none\" vector-effect=\"non-scaling-stroke\" x=\"3.696130e+02\" y=\"10\" dominant-baseline=\"hanging\">900</text><text x=\"3.864888e+02\" y=\"10\" dominant-baseline=\"hanging\" stroke=\"none\" vector-effect=\"non-scaling-stroke\">1000</text><text y=\"10\" dominant-baseline=\"hanging\" stroke=\"none\" vector-effect=\"non-scaling-stroke\" x=\"4.017547e+02\">1100</text><text stroke=\"none\" vector-effect=\"non-scaling-stroke\" x=\"4.975112e+02\" y=\"10\" dominant-baseline=\"hanging\">2000</text><text stroke=\"none\" vector-effect=\"non-scaling-stroke\" x=\"5.624552e+02\" y=\"10\" dominant-baseline=\"hanging\">3000</text><text stroke=\"none\" vector-effect=\"non-scaling-stroke\" x=\"6.085337e+02\" y=\"10\" dominant-baseline=\"hanging\">4000</text><text y=\"10\" dominant-baseline=\"hanging\" stroke=\"none\" vector-effect=\"non-scaling-stroke\" x=\"6.442750e+02\">5000</text><text x=\"6.734777e+02\" y=\"10\" dominant-baseline=\"hanging\" stroke=\"none\" vector-effect=\"non-scaling-stroke\">6000</text><text stroke=\"none\" vector-effect=\"non-scaling-stroke\" x=\"6.981683e+02\" y=\"10\" dominant-baseline=\"hanging\">7000</text><text y=\"10\" dominant-baseline=\"hanging\" stroke=\"none\" vector-effect=\"non-scaling-stroke\" x=\"7.195562e+02\">8000</text><text stroke=\"none\" vector-effect=\"non-scaling-stroke\" x=\"7.384217e+02\" y=\"10\" dominant-baseline=\"hanging\">9000</text><text stroke=\"none\" vector-effect=\"non-scaling-stroke\" x=\"7.552975e+02\" y=\"10\" dominant-baseline=\"hanging\">10000</text><text stroke=\"none\" vector-effect=\"non-scaling-stroke\" x=\"8.663200e+02\" y=\"10\" dominant-baseline=\"hanging\">20000</text></g><g stroke=\"black\" stroke-width=\"2px\" text-anchor=\"middle\" dominant-baseline=\"baseline\" fill=\"black\" font-family=\"sans-serif\" font-style=\"normal\" stroke-linejoin=\"round\" stroke-linecap=\"round\" transform=\"translate(70 330 )scale(1 1 )rotate(0 0 0 )\" font-size=\"12px\" font-weight=\"bold\"><text y=\"-6\" dominant-baseline=\"baseline\" stroke=\"none\" vector-effect=\"non-scaling-stroke\" x=\"442\">Steps</text></g><g font-weight=\"bold\" stroke-linejoin=\"round\" stroke=\"black\" transform=\"translate(70 330 )scale(1 -1 )\" fill=\"black\" font-size=\"12px\" font-family=\"sans-serif\" font-style=\"normal\" stroke-width=\"2px\" stroke-linecap=\"round\" text-anchor=\"middle\" dominant-baseline=\"baseline\"><path vector-effect=\"non-scaling-stroke\" d=\"M0,4.868203e+01 L-6,4.868203e+01 M0,1.458506e+02 L-6,1.458506e+02 M0,2.212203e+02 L-6,2.212203e+02 \"/></g><g stroke-linejoin=\"round\" fill=\"black\" stroke-width=\"2px\" stroke-linecap=\"round\" transform=\"translate(70 330 )scale(1 1 )\" text-anchor=\"end\" dominant-baseline=\"middle\" font-family=\"sans-serif\" font-size=\"12px\" font-style=\"normal\" font-weight=\"normal\" stroke=\"black\"><text stroke=\"none\" vector-effect=\"non-scaling-stroke\" x=\"-10\" y=\"-4.868203e+01\" dominant-baseline=\"middle\">0.300</text><text stroke=\"none\" vector-effect=\"non-scaling-stroke\" x=\"-10\" y=\"-1.458506e+02\" dominant-baseline=\"middle\">0.400</text><text stroke=\"none\" vector-effect=\"non-scaling-stroke\" x=\"-10\" y=\"-2.212203e+02\" dominant-baseline=\"middle\">0.500</text></g><g fill=\"black\" stroke=\"black\" stroke-width=\"2px\" stroke-linecap=\"round\" font-size=\"12px\" font-style=\"normal\" transform=\"translate(70 330 )scale(1 1 )rotate(-90 0 0 )\" text-anchor=\"middle\" dominant-baseline=\"hanging\" font-weight=\"bold\" stroke-linejoin=\"round\" font-family=\"sans-serif\"><text vector-effect=\"non-scaling-stroke\" x=\"130\" y=\"6\" dominant-baseline=\"hanging\" stroke=\"none\">loss</text></g><g stroke-width=\"0.5px\" stroke-linecap=\"round\" dominant-baseline=\"hanging\" fill=\"black\" font-style=\"normal\" font-weight=\"bold\" stroke-linejoin=\"round\" font-family=\"sans-serif\" stroke=\"gray\" font-size=\"12px\" transform=\"translate(70 330 )scale(1 -1 )\" text-anchor=\"middle\"><path vector-effect=\"non-scaling-stroke\" d=\"M0,4.868203e+01 L884,4.868203e+01 M0,1.458506e+02 L884,1.458506e+02 M0,2.212203e+02 L884,2.212203e+02 \"/></g><g font-size=\"12px\" text-anchor=\"middle\" fill=\"none\" stroke=\"black\" stroke-width=\"2px\" font-weight=\"bold\" stroke-linejoin=\"round\" dominant-baseline=\"hanging\" stroke-linecap=\"round\" font-family=\"sans-serif\" font-style=\"normal\"><rect vector-effect=\"non-scaling-stroke\" x=\"70\" y=\"70\" width=\"884\" height=\"260\"/><g font-size=\"18px\" fill=\"black\" dominant-baseline=\"middle\"><text y=\"35\" dominant-baseline=\"middle\" stroke=\"none\" vector-effect=\"non-scaling-stroke\" x=\"512\">loss metrics</text></g><g stroke-width=\"1px\" font-style=\"normal\" font-weight=\"normal\" stroke-linejoin=\"round\" font-size=\"12px\" stroke-linecap=\"round\" dominant-baseline=\"hanging\" font-family=\"sans-serif\" text-anchor=\"start\" fill=\"hsl(90, 47%, 65%)\" stroke=\"hsl(90, 47%, 65%)\"><rect y=\"366\" width=\"12\" height=\"12\" vector-effect=\"non-scaling-stroke\" x=\"76\"/><g fill=\"black\" stroke=\"black\"><text dominant-baseline=\"hanging\" stroke=\"none\" vector-effect=\"non-scaling-stroke\" x=\"92\" y=\"366\">Eval on batched train: Mean Loss</text></g><g stroke-linejoin=\"round\" fill=\"hsl(301, 88%, 65%)\" stroke=\"hsl(301, 88%, 65%)\" text-anchor=\"start\" dominant-baseline=\"hanging\" font-size=\"12px\" font-style=\"normal\" font-weight=\"normal\" font-family=\"sans-serif\" stroke-width=\"1px\" stroke-linecap=\"round\"><rect vector-effect=\"non-scaling-stroke\" x=\"76\" y=\"384\" width=\"12\" height=\"12\"/><g stroke=\"black\" fill=\"black\"><text vector-effect=\"non-scaling-stroke\" x=\"92\" y=\"384\" dominant-baseline=\"hanging\" stroke=\"none\">Eval on test: Mean Loss</text></g><g font-weight=\"normal\" fill=\"hsl(152, 76%, 65%)\" stroke-linejoin=\"round\" font-family=\"sans-serif\" font-size=\"12px\" font-style=\"normal\" stroke-linecap=\"round\" text-anchor=\"start\" dominant-baseline=\"hanging\" stroke=\"hsl(152, 76%, 65%)\" stroke-width=\"1px\"><rect x=\"76\" y=\"402\" width=\"12\" height=\"12\" vector-effect=\"non-scaling-stroke\"/><g fill=\"black\" stroke=\"black\"><text dominant-baseline=\"hanging\" stroke=\"none\" vector-effect=\"non-scaling-stroke\" x=\"92\" y=\"402\">Train: Moving Average Loss</text></g></g></g></g></g></svg>"
      ]
     },
     "metadata": {},
     "output_type": "display_data"
    },
    {
     "name": "stdout",
     "output_type": "stream",
     "text": [
      "Training (15000 steps):  100% [\u001b[32m=\u001b[0m\u001b[32m=\u001b[0m\u001b[32m=\u001b[0m\u001b[32m=\u001b[0m\u001b[32m=\u001b[0m\u001b[32m=\u001b[0m\u001b[32m=\u001b[0m\u001b[32m=\u001b[0m\u001b[32m=\u001b[0m\u001b[32m=\u001b[0m\u001b[32m=\u001b[0m\u001b[32m=\u001b[0m\u001b[32m=\u001b[0m\u001b[32m=\u001b[0m\u001b[32m=\u001b[0m\u001b[32m=\u001b[0m\u001b[32m=\u001b[0m\u001b[32m=\u001b[0m\u001b[32m=\u001b[0m\u001b[32m=\u001b[0m\u001b[32m=\u001b[0m\u001b[32m=\u001b[0m\u001b[32m=\u001b[0m\u001b[32m=\u001b[0m\u001b[32m=\u001b[0m\u001b[32m=\u001b[0m\u001b[32m=\u001b[0m\u001b[32m=\u001b[0m\u001b[32m=\u001b[0m\u001b[32m=\u001b[0m\u001b[32m=\u001b[0m\u001b[32m=\u001b[0m\u001b[32m=\u001b[0m\u001b[32m=\u001b[0m\u001b[32m=\u001b[0m\u001b[32m=\u001b[0m\u001b[32m=\u001b[0m\u001b[32m=\u001b[0m\u001b[32m=\u001b[0m\u001b[32m=\u001b[0m] (823 steps/s)\u001b[0m [loss=0.250] [~loss=0.271] [~acc=87.20%]        \n",
      "\n",
      "[saving checkpoint@20000] [median train step (ms): 0]\n",
      "\t[Step 20000] median train step: 888 microseconds\n",
      "\n",
      "Results on batched train:\n",
      "\tMean Loss (#loss): 0.268\n",
      "\tMean Accuracy (#acc): 87.48%\n",
      "Results on test:\n",
      "\tMean Loss (#loss): 0.278\n",
      "\tMean Accuracy (#acc): 87.31%\n",
      "\n"
     ]
    }
   ],
   "source": [
    "%% --steps=15000 --checkpoint base_model\n",
    "trainModel()"
   ]
  }
 ],
 "metadata": {
  "kernelspec": {
   "display_name": "Go (gonb)",
   "language": "go",
   "name": "gonb"
  },
  "language_info": {
   "codemirror_mode": "",
   "file_extension": ".go",
   "mimetype": "",
   "name": "go",
   "nbconvert_exporter": "",
   "pygments_lexer": "",
   "version": "go1.21.2"
  }
 },
 "nbformat": 4,
 "nbformat_minor": 5
}
