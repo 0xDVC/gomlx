{
 "cells": [
  {
   "cell_type": "markdown",
   "id": "f431da81-4d94-4fd1-8a51-952ef824cb46",
   "metadata": {},
   "source": [
    "# Cifar Library and Demo\n",
    "\n",
    "[This is a library](https://pkg.go.dev/github.com/gomlx/gomlx/examples/cifar) to download and parse the Cifar datasets (Cifar-10 and Cifar-100), and a very small demo of a FNN (Feedforward Neural Network) with GoMLX. FNNs are notoriously bad for images, but it's only a demo. Look for the Resnet50 model for a more serious image classification model (old but still good -- best results as of the time of this writing is with ViT model).\n",
    "\n",
    "The CIFAR-10 and CIFAR-100 are labeled subsets of the 80 million tiny images dataset. They were collected by Alex Krizhevsky, Vinod Nair, and Geoffrey Hinton. See more details in [its homepage here](https://www.cs.toronto.edu/~kriz/cifar.html).\n",
    "\n",
    "This notebook serves as documentation and example for the [github.com/gomlx/gomlx/examples/cifar](https://github.com/gomlx/gomlx/examples/cifar) library."
   ]
  },
  {
   "cell_type": "markdown",
   "id": "bd398a51-c10a-4d05-91f7-f978856a8d8b",
   "metadata": {},
   "source": [
    "## Environment Set Up\n",
    "\n",
    "Let's set up `go.mod` to use the local copy of GoMLX, so it can be developed jointly the dataset code with the model. That's often how data pre-processing and model code is developed together with experimentation.\n",
    "\n",
    "If you are not changing code, feel free to simply skip this cell. Or if you used a different directory for you projects, change it below.\n",
    "\n",
    "Notice the directory `${HOME}/Projects/gomlx` is where the GoMLX code is copied by default in [its Docker](https://hub.docker.com/repository/docker/janpfeifer/gomlx_jupyterlab/general)."
   ]
  },
  {
   "cell_type": "code",
   "execution_count": 1,
   "id": "22abc207-e8b0-44ef-840d-fee3550cffca",
   "metadata": {
    "tags": []
   },
   "outputs": [],
   "source": [
    "!*go mod edit -replace github.com/gomlx/gomlx=\"${HOME}/Projects/gomlx\""
   ]
  },
  {
   "cell_type": "markdown",
   "id": "443e9e56-ef12-4d04-b7bb-99478fa2b662",
   "metadata": {},
   "source": [
    "## Data Preparation\n",
    "\n",
    "### Downloading data files\n",
    "\n",
    "To download, uncompress and untar to the local directory, simply do the following. Notice if it's already downloaded in the given `--data` directory, it returns immediately."
   ]
  },
  {
   "cell_type": "code",
   "execution_count": 2,
   "id": "a61fdd1a-74a0-46f2-9cfc-f79bfa37e298",
   "metadata": {
    "tags": []
   },
   "outputs": [],
   "source": [
    "import (\n",
    "    \"github.com/gomlx/gomlx/examples/cifar\"\n",
    "    \"github.com/gomlx/gomlx/ml/data\"\n",
    ")\n",
    "\n",
    "var flagDataDir = flag.String(\"data\", \"~/work/cifar\", \"Directory to cache downloaded and generated dataset files.\")\n",
    "\n",
    "func AssertNoError(err error) {\n",
    "    if err != nil { panic(err) }\n",
    "}\n",
    "\n",
    "func AssertDownloaded() {\n",
    "    *flagDataDir = data.ReplaceTildeInDir(*flagDataDir)\n",
    "    if !data.FileExists(*flagDataDir) {\n",
    "        AssertNoError(os.MkdirAll(*flagDataDir, 0777))\n",
    "    }\n",
    "\n",
    "    AssertNoError(cifar.DownloadCifar10(*flagDataDir))\n",
    "    AssertNoError(cifar.DownloadCifar100(*flagDataDir))\n",
    "}\n",
    "\n",
    "%%\n",
    "AssertDownloaded()"
   ]
  },
  {
   "cell_type": "code",
   "execution_count": 3,
   "id": "345076ef-e2a3-4405-b47d-801c9ec62b91",
   "metadata": {
    "tags": []
   },
   "outputs": [
    {
     "name": "stdout",
     "output_type": "stream",
     "text": [
      "total 323M\n",
      "drwxr-x--- 2 janpf users 4.0K Nov 26 12:54 base_cnn_model\n",
      "drwxr-x--- 2 janpf users 4.0K Nov 26 12:53 base_fnn_model\n",
      "drwxr-xr-x 2 janpf janpf 4.0K Feb 20  2010 cifar-100-binary\n",
      "-rw-r--r-- 1 janpf janpf 161M Jul  6  2023 cifar-100-binary.tar.gz\n",
      "drwxr-xr-x 2 janpf janpf 4.0K Jun  4  2009 cifar-10-batches-bin\n",
      "-rw-r--r-- 1 janpf janpf 163M Jul  6  2023 cifar-10-binary.tar.gz\n"
     ]
    }
   ],
   "source": [
    "!ls -lh ~/work/cifar/"
   ]
  },
  {
   "cell_type": "markdown",
   "id": "93d4ae39-915c-478c-887f-b1c8c080865b",
   "metadata": {},
   "source": [
    "### Sample some images\n",
    "\n",
    "The `cifar.NewDataset` creates a `data.InMemoryDataset` that can be used both for training, evaluation, or just to sample a few examples, which we do below:"
   ]
  },
  {
   "cell_type": "code",
   "execution_count": 4,
   "id": "0dabc63a-b918-4065-9b23-0c5a22446458",
   "metadata": {
    "tags": []
   },
   "outputs": [
    {
     "data": {
      "text/html": [
       "<p>Samples Cifar-10</p>\n"
      ]
     },
     "metadata": {},
     "output_type": "display_data"
    },
    {
     "data": {
      "text/html": [
       "<table><tr>\n",
       "<td><figure style=\"padding:4px;text-align: center;\"><img width=\"64\" height=\"64\" src=\"data:image/png;base64,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\"><figcaption style=\"text-align: center;\">truck ([9])</figcaption></figure></td>\n",
       "<td><figure style=\"padding:4px;text-align: center;\"><img width=\"64\" height=\"64\" src=\"data:image/png;base64,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\"><figcaption style=\"text-align: center;\">truck ([9])</figcaption></figure></td>\n",
       "<td><figure style=\"padding:4px;text-align: center;\"><img width=\"64\" height=\"64\" src=\"data:image/png;base64,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\"><figcaption style=\"text-align: center;\">horse ([7])</figcaption></figure></td>\n",
       "<td><figure style=\"padding:4px;text-align: center;\"><img width=\"64\" height=\"64\" src=\"data:image/png;base64,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\"><figcaption style=\"text-align: center;\">automobile ([1])</figcaption></figure></td>\n",
       "<td><figure style=\"padding:4px;text-align: center;\"><img width=\"64\" height=\"64\" src=\"data:image/png;base64,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\"><figcaption style=\"text-align: center;\">truck ([9])</figcaption></figure></td>\n",
       "<td><figure style=\"padding:4px;text-align: center;\"><img width=\"64\" height=\"64\" src=\"data:image/png;base64,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\"><figcaption style=\"text-align: center;\">ship ([8])</figcaption></figure></td>\n",
       "<td><figure style=\"padding:4px;text-align: center;\"><img width=\"64\" height=\"64\" src=\"data:image/png;base64,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\"><figcaption style=\"text-align: center;\">ship ([8])</figcaption></figure></td>\n",
       "<td><figure style=\"padding:4px;text-align: center;\"><img width=\"64\" height=\"64\" src=\"data:image/png;base64,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\"><figcaption style=\"text-align: center;\">dog ([5])</figcaption></figure></td>\n",
       "</tr></table>\n"
      ]
     },
     "metadata": {},
     "output_type": "display_data"
    },
    {
     "data": {
      "text/html": [
       "<p>Samples Cifar-100</p>\n"
      ]
     },
     "metadata": {},
     "output_type": "display_data"
    },
    {
     "data": {
      "text/html": [
       "<table><tr>\n",
       "<td><figure style=\"padding:4px;text-align: center;\"><img width=\"64\" height=\"64\" src=\"data:image/png;base64,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\"><figcaption style=\"text-align: center;\">camel ([15])</figcaption></figure></td>\n",
       "<td><figure style=\"padding:4px;text-align: center;\"><img width=\"64\" height=\"64\" src=\"data:image/png;base64,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\"><figcaption style=\"text-align: center;\">raccoon ([66])</figcaption></figure></td>\n",
       "<td><figure style=\"padding:4px;text-align: center;\"><img width=\"64\" height=\"64\" src=\"data:image/png;base64,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\"><figcaption style=\"text-align: center;\">hamster ([36])</figcaption></figure></td>\n",
       "<td><figure style=\"padding:4px;text-align: center;\"><img width=\"64\" height=\"64\" src=\"data:image/png;base64,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\"><figcaption style=\"text-align: center;\">tractor ([89])</figcaption></figure></td>\n",
       "<td><figure style=\"padding:4px;text-align: center;\"><img width=\"64\" height=\"64\" src=\"data:image/png;base64,iVBORw0KGgoAAAANSUhEUgAAACAAAAAgCAIAAAD8GO2jAAAGhElEQVR4nKxWy29dV9Vfaz/OOfvcc1++N37k2rGT2nG/vGWlST+BYIKoCiEdZMCsM8QMiREMgRkw5A9gBANEkRhUCkgZtIIUVNKkUqGJmjTOsw12Yl/b9zz3Xgudc+3Uxk4CEkvnXJ17zt7rt9fztxQzwxdC1S0E/M9EAUCJgchDKHZJlm4U6Enha6GlFAKwXFl+JALnisJRTjLy0ZMSQCK+CAA3lzChyBevvHvpnUvZy612J/JlaHToayUFAlpr08zGWbqeWhUnrx3Vp868CtK82IKhIJAEkfeX1q/98YNC6o4NgJViIUCCECiIyRFZC6mzQbr+Up6cOHYE6wZLB2zp2CXbvS0BwG+OjkXCS5aTOCkKygrOqt+04LwA6xgtSesSCw8eZ8naaungTf+9yAKuLhE1o0h33NJ6nucokVggCXS4FSQGR0CkcDHm5Qd3pvYfZNYSgHHvWKjtfxBAmHoQ+h1auR33LRWMIIC5Ul7qZ0GUUuEc5YvrG6t3Pp0+81WuND8r0tsAkAFIhu1o7OBEcGOwtvrkSd+jlKSHKCQCSCllmVKiyotMhrduLo5ffdfsm9GeL02gozajRi4Q9FPAHRYAEwi/fuiVufbN09wfhAcKqq+wb5kQhAUGztExufJ+PEjeuz1oXf5TYC5rzknqg4fm950973xfEewBgKUfJQNEh880p65NfPJeI742OzNxbTX8zSderiMlCAQCoAASCFma+AsL///mBUSH5JY/ev/KL396duJIa+5kVbBidxaVIUAivzOjT77x24cjb92Plj57+FL897oBGZnACO0HnvIQ0BU2idO1LBdB6EVtv9EV9e69R4llJcqD0p5BxqcVa+o1DBu3Bvmfb34+nj1KcaIvs4wKpzyHjOwEQhoPqMjYOZYAQq0/ui9Noz62n8EySNwziyqU0iYHjqyjdJ1svGxl3tYm8KVsKIlYAFAZgzwtQhN5Wg87V7yybBphEEXETpCsimpPgEqcs9ZapTwum49yLnA5MFgHTgMqISRipzWSkP7bP+63m6bdipaWYxHtQ6kZiBGebcEwMlISoPYMZlr5fnfyIPpBTfsi9PzA95TyytdeItWvL34QBKYdeZCOetNfvnzt08PTY91WyLxZebsBGAC7gTo10y2CenfxgZQ4d2RO+cZHyKXShEqAkEKI8kEDFs5fWs2Rujm4j//w4Xi78e2vnTh6aF+Z9CDwCz5gKruW4LV/Lr/94+8/uX3joaVuumwbzYv+63Ly1IERTaYBpYMBCKuTOCLKHWd5njjHSV7YvJ/FU3X9k++cmz/cA4fbK7nMXgkyWXly/epVWnvk4lh36mMj5isblx48vHuvf8wfPSJ9R5bAsrUuK4osz9I8yfLEpTmlg6zoY7xCAh9f+BLAFCJvAyibTRkdm8Y13x8/d2Fq4czk5IwBPPqX3w1uvPPzxfzuQJtauJFuZPkgz2ObxzKL9WBNJet++thLNjouGc82ji8cP3moKUqC4X9vdmXCxWvRRPf8937Q2j87fF/rHbj8o/fPdt1nG/fuPljysoEXrzbthrH9EN14FEyNNrrdXnNkdHx6cvn61cHqqtQ+ld3N7XBR5VfgIjdGK+0zMFkrFEpjPu+LYOXWsfXF8Tu3RwLVHGkHfjY9O/t/X3+jd+x4tzdpWqPSD1RQ++uvfvHR229JFQyVbucDHJYxIhhjhPKqZ4EgBaMmmz66s/DyicnXLnTnj03NH79y8fe9hVdf+dab2zS4qvm40CiskpQR1S4PAQNJY4TnV125QpWcaZj/xvnXf/gz3RhhL1QA1z/8OGz1qkmgQBAlKzCjACHICzyUgisG2AkwZFd2wtMs1NO6EIhe4DWmpoPupCOWZB3DwjfPBbWmg5Kvq8Ntnk8IqAAqltvFaNV6tsIPJPJWYBBRhUr7UGy9kRKw05vl4SAFCqsyoqoBofBQAm/V184RqzqEikbqvVm5OX1VeyUKrYctUg6jJDa/yW1kyVUIPVNDJEGFqNB3EA6gcgD7j5yemDsqyyza7OCIQiiJFSQ/i37LsaDUWOuMkTJEJIEYxHYXlXtlGeGQTbhlD1a9T2it91S7U0oLgtGZzvxppwIJeze7Mou44sanoqTkMGDKn6sdy+EMuDs9t6/3XfZMWVV7panAnU4oT6UCWatD9jwA3NoLSpfXU+v/A8NBSNVstvJ4AM8ZgJ6194UrkAlRmMk5F3UA3H+pH/4VAAD//+CY9amkXJkZAAAAAElFTkSuQmCC\"><figcaption style=\"text-align: center;\">chair ([20])</figcaption></figure></td>\n",
       "<td><figure style=\"padding:4px;text-align: center;\"><img width=\"64\" height=\"64\" src=\"data:image/png;base64,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\"><figcaption style=\"text-align: center;\">turtle ([93])</figcaption></figure></td>\n",
       "<td><figure style=\"padding:4px;text-align: center;\"><img width=\"64\" height=\"64\" src=\"data:image/png;base64,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\"><figcaption style=\"text-align: center;\">shark ([73])</figcaption></figure></td>\n",
       "<td><figure style=\"padding:4px;text-align: center;\"><img width=\"64\" height=\"64\" src=\"data:image/png;base64,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\"><figcaption style=\"text-align: center;\">raccoon ([66])</figcaption></figure></td>\n",
       "</tr></table>\n"
      ]
     },
     "metadata": {},
     "output_type": "display_data"
    }
   ],
   "source": [
    "import (\n",
    "    \"strings\"\n",
    "    . \"github.com/gomlx/gomlx/graph\"\n",
    "    \"github.com/gomlx/gomlx/examples/cifar\"\n",
    "    \"github.com/gomlx/gomlx/types/shapes\"\n",
    "    timage \"github.com/gomlx/gomlx/types/tensor/image\"\n",
    "    \"github.com/janpfeifer/gonb/gonbui\"\n",
    ")\n",
    "\n",
    "var (\n",
    "    // Model DType, used everywhere.\n",
    "    DType = shapes.F32\n",
    "    \n",
    "    // Global manager, also used for all graphs.\n",
    "    manager = NewManager()\n",
    ")\n",
    "\n",
    "// sampleToNotebook generates a sample of Cifar-10 and Cifar-100 in a GoNB Jupyter Notebook.\n",
    "func sampleToNotebook() {\n",
    "    // Load data into tensors.\n",
    "    ds10 := cifar.NewDataset(manager, \"Samples Cifar-10\", *flagDataDir, cifar.C10, DType, cifar.Train).Shuffle()\n",
    "    ds100 := cifar.NewDataset(manager, \"Samples Cifar-100\", *flagDataDir, cifar.C100, DType, cifar.Train).Shuffle()\n",
    "    sampleImages(ds10, 8, cifar.C10Labels)\n",
    "    sampleImages(ds100, 8, cifar.C100FineLabels)\n",
    "}\n",
    "\n",
    "// sampleTable generates and outputs one html table of samples, sampling rows x cols from the images/labels provided.\n",
    "func sampleImages(ds train.Dataset, numImages int, labelNames []string) {\n",
    "    gonbui.DisplayHTML(fmt.Sprintf(\"<p>%s</p>\\n\", ds.Name()))\n",
    "    \n",
    "    parts := make([]string, 0, numImages+5) // Leave last part empty.\n",
    "    parts = append(parts, \"<table><tr>\")\n",
    "    for ii := 0; ii < numImages; ii++ {\n",
    "        _, inputs, labels, err := ds.Yield()\n",
    "        AssertNoError(err)\n",
    "        imgTensor := inputs[0]\n",
    "        img, err := timage.ToImage().Single(imgTensor)\n",
    "        AssertNoError(err)\n",
    "        label := labels[0].Local().Value().([]int64)\n",
    "        labelStr := labelNames[label[0]]\n",
    "    \n",
    "        imgSrc, err := gonbui.EmbedImageAsPNGSrc(img)\n",
    "        AssertNoError(err)\n",
    "        size := imgTensor.Shape().Dimensions[0]\n",
    "        parts = append(\n",
    "            parts, \n",
    "            fmt.Sprintf(`<td><figure style=\"padding:4px;text-align: center;\"><img width=\"%d\" height=\"%d\" src=\"%s\">` + \n",
    "                        `<figcaption style=\"text-align: center;\">%s (%d)</figcaption></figure></td>`, \n",
    "                        size*2, size*2, imgSrc, labelStr, label),\n",
    "        )\n",
    "    }\n",
    "    parts = append(parts, \"</tr></table>\", \"\")\n",
    "    gonbui.DisplayHTML(strings.Join(parts, \"\\n\"))\n",
    "}\n",
    "\n",
    "%%\n",
    "AssertDownloaded()\n",
    "sampleToNotebook()"
   ]
  },
  {
   "cell_type": "markdown",
   "id": "7fa8c06c-ede0-4cd1-80bd-9331422e3a63",
   "metadata": {},
   "source": [
    "## Training on Cifar-10\n",
    "\n",
    "### Models Support\n",
    "\n",
    "1. `CreateDatasets` creates 3 datasets: one for training, and two for evaluation: of the training dataset and of the validation dataset.\n",
    "1. `normalizeImage` and `normalizeFeatures`: they normalize `x` according to the hyperparameter given in `flagNormalization` flag.\n"
   ]
  },
  {
   "cell_type": "code",
   "execution_count": 5,
   "id": "c8d3c19e-af0c-4fef-a76c-dabb375972d0",
   "metadata": {
    "tags": []
   },
   "outputs": [],
   "source": [
    "import (\n",
    "    \"flags\"\n",
    "    \n",
    "    . \"github.com/gomlx/gomlx/graph\"\n",
    "    . \"github.com/gomlx/gomlx/types/exceptions\"\n",
    "    \"github.com/gomlx/gomlx/examples/cifar\"\n",
    "    \"github.com/gomlx/gomlx/ml/context\"\n",
    ")\n",
    "\n",
    "var (\n",
    "    // BatchSize for training.\n",
    "    flagBatchSize        = flag.Int(\"batch\", 50, \"Batch size for training\")\n",
    "\n",
    "    // EvalBatchSize can be larger than training, more efficient.\n",
    "    EvalBatchSize = 2000\n",
    "\n",
    "    // Model hyper-parameters.\n",
    "    flagL2Regularization = flag.Float64(\"l2_reg\", 0, \"L2 regularization on kernels. It doesn't interact well with --batch_norm.\")\n",
    "    flagNormalization    = flag.String(\"norm\", \"layer\", \"Type of normalization to use. Valid values are \\\"none\\\", \\\"batch\\\", \\\"layer\\\".\")\n",
    "\n",
    "    // Model hyperparameters:\n",
    "    flagNumHiddenLayers = flag.Int(\"hidden_layers\", 8, \"Number of hidden layers, stacked with residual connection.\")\n",
    "    flagNumNodes        = flag.Int(\"num_nodes\", 128, \"Number of nodes in hidden layers.\")\n",
    "    flagDropoutRate     = flag.Float64(\"dropout\", 0, \"Dropout rate\")\n",
    ")\n",
    "\n",
    "func CreateDatasets() (trainDS, trainEvalDS, validationEvalDS train.Dataset) {\n",
    "    baseTrain := cifar.NewDataset(manager, \"Training\", *flagDataDir, cifar.C10, DType, cifar.Train)\n",
    "    baseTest := cifar.NewDataset(manager, \"Validation\", *flagDataDir, cifar.C10, DType, cifar.Test)\n",
    "    trainDS = baseTrain.Copy().BatchSize(*flagBatchSize, true).Shuffle().Infinite(true)\n",
    "    trainEvalDS = baseTrain.BatchSize(EvalBatchSize, false)\n",
    "    validationEvalDS = baseTest.BatchSize(EvalBatchSize, false)\n",
    "    return\n",
    "}\n",
    "\n",
    "func normalizeImage(ctx *context.Context, x *Node) *Node {\n",
    "    x.AssertRank(4)  // [batch_size, width, height, depth]\n",
    "    switch *flagNormalization {\n",
    "    case \"layer\":\n",
    "        return layers.LayerNormalization(ctx, x, 1, 2).ScaleNormalization(false).Done()\n",
    "    case \"batch\":\n",
    "        return layers.BatchNormalization(ctx, x, -1).Done()\n",
    "    case \"none\":\n",
    "        return x\n",
    "    }\n",
    "    Panicf(\"invalid normalization selected %q -- valid values are batch, layer, none\", *flagNormalization)\n",
    "    return nil\n",
    "}\n",
    "\n",
    "func normalizeFeatures(ctx *context.Context, x *Node) *Node {\n",
    "    x.AssertRank(2)  // [batch_size, embedding_dim]\n",
    "    switch *flagNormalization {\n",
    "    case \"layer\":\n",
    "        return layers.LayerNormalization(ctx, x, -1).Done()\n",
    "    case \"batch\":\n",
    "        return layers.BatchNormalization(ctx, x, -1).Done()\n",
    "    case \"none\":\n",
    "        return x\n",
    "    }\n",
    "    Panicf(\"invalid normalization selected %q -- valid values are batch, layer, none\", *flagNormalization)\n",
    "    return nil\n",
    "}"
   ]
  },
  {
   "cell_type": "markdown",
   "id": "f771ca6f-5912-4406-9f2a-a838fd7cd065",
   "metadata": {},
   "source": [
    "### Simple FNN model\n",
    "\n",
    "A trivial model, that can easily get to ~45% accuracy (a random model would do 10%), but hardly much more than that.\n",
    "\n",
    "Later we are going to define a CNN model to compare, and we just set a placeholder model here for now.\n",
    "\n",
    "> **Note**: \n",
    ">\n",
    "> * Cifar datasets yields (`Dataset.Yield()`) only the indices to the images of the batch as a `Tensor`. But it provides a `GatherImagesGraph` method that gathers the images from a static variable that holds the whole dataset (~1Gb in memory, stored as float32). We access it through the `getBatchedImatges()` defined above. \n"
   ]
  },
  {
   "cell_type": "code",
   "execution_count": 6,
   "id": "0ac4e4da-2c3b-431c-9e54-00e31045785f",
   "metadata": {
    "tags": []
   },
   "outputs": [
    {
     "name": "stdout",
     "output_type": "stream",
     "text": [
      "Logits shape for batch_size=50: (Float32)[50 10]\n"
     ]
    }
   ],
   "source": [
    "import (\n",
    "    \"flags\"\n",
    "    \n",
    "    . \"github.com/gomlx/gomlx/graph\"\n",
    "    \"github.com/gomlx/gomlx/examples/cifar\"\n",
    "    \"github.com/gomlx/gomlx/ml/context\"\n",
    "    \"github.com/gomlx/gomlx/ml/train/optimizers\"\n",
    "    \"github.com/gomlx/gomlx/types/shapes\"\n",
    ")\n",
    "\n",
    "func FNNModelGraph(ctx *context.Context, spec any, inputs []*Node) []*Node {\n",
    "    g := inputs[0].Graph()\n",
    "    batchedImages := inputs[0]\n",
    "    batchSize := batchedImages.Shape().Dimensions[0]\n",
    "    logits := Reshape(batchedImages, batchSize, -1)\n",
    "    {\n",
    "        ctx := ctx.In(\"Dense_0\")\n",
    "        logits = layers.DenseWithBias(ctx, logits, *flagNumNodes)\n",
    "        logits = normalizeFeatures(ctx, logits)\n",
    "    }\n",
    "    for ii := 1; ii < *flagNumHiddenLayers; ii++ {\n",
    "        ctx := ctx.In(fmt.Sprintf(\"Dense_%d\", ii))\n",
    "        // Add layer with residual connection.\n",
    "        tmp := Sigmoid(logits)\n",
    "        if *flagDropoutRate > 0 {\n",
    "            tmp = layers.Dropout(ctx, tmp, Const(g, shapes.CastAsDType(*flagDropoutRate, tmp.DType())))\n",
    "        }\n",
    "        tmp = layers.DenseWithBias(ctx, tmp, *flagNumNodes)\n",
    "        tmp = normalizeFeatures(ctx, tmp)\n",
    "        logits = Add(logits, tmp)\n",
    "    }\n",
    "    logits = Sigmoid(logits)\n",
    "    logits = layers.DenseWithBias(ctx.In(\"denseFinal\"), logits, len(cifar.C10Labels))\n",
    "    return []*Node{logits}\n",
    "}\n",
    "\n",
    "// Only a placeholder for now.\n",
    "func CNNModelGraph(ctx *context.Context, spec any, inputs []*Node) []*Node {\n",
    "    return nil   \n",
    "}\n",
    "\n",
    "%%\n",
    "// Let's test that the logits are coming out with the right shape: we want [batch_size, 10], since there are 10 classes.\n",
    "AssertDownloaded()\n",
    "ctx := context.NewContext(manager)\n",
    "g := manager.NewGraph(\"placeholder\")\n",
    "logits := FNNModelGraph(ctx, nil, []*Node{g.Parameter(\"images\", shapes.Make(DType, *flagBatchSize, cifar.Height, cifar.Width, cifar.Depth))})\n",
    "fmt.Printf(\"Logits shape for batch_size=%d: %s\\n\", *flagBatchSize, logits[0].Shape())\n"
   ]
  },
  {
   "cell_type": "markdown",
   "id": "aef7d6ee-ca2b-40c7-ac3d-4242ecd8ed1b",
   "metadata": {},
   "source": [
    "### Training Loop\n",
    "\n",
    "With a model function defined, let's create our training loop, with the usual bells and whistles: accuracy metrics, progress-bar, plot of metrics, checkpoints."
   ]
  },
  {
   "cell_type": "code",
   "execution_count": 7,
   "id": "d72336ef-d96d-4d98-a3a6-5df912be5f24",
   "metadata": {
    "tags": []
   },
   "outputs": [
    {
     "name": "stdout",
     "output_type": "stream",
     "text": [
      "Platform: CUDA\n",
      "Training (500 steps):  100% [\u001b[32m=\u001b[0m\u001b[32m=\u001b[0m\u001b[32m=\u001b[0m\u001b[32m=\u001b[0m\u001b[32m=\u001b[0m\u001b[32m=\u001b[0m\u001b[32m=\u001b[0m\u001b[32m=\u001b[0m\u001b[32m=\u001b[0m\u001b[32m=\u001b[0m\u001b[32m=\u001b[0m\u001b[32m=\u001b[0m\u001b[32m=\u001b[0m\u001b[32m=\u001b[0m\u001b[32m=\u001b[0m\u001b[32m=\u001b[0m\u001b[32m=\u001b[0m\u001b[32m=\u001b[0m\u001b[32m=\u001b[0m\u001b[32m=\u001b[0m\u001b[32m=\u001b[0m\u001b[32m=\u001b[0m\u001b[32m=\u001b[0m\u001b[32m=\u001b[0m\u001b[32m=\u001b[0m\u001b[32m=\u001b[0m\u001b[32m=\u001b[0m\u001b[32m=\u001b[0m\u001b[32m=\u001b[0m\u001b[32m=\u001b[0m\u001b[32m=\u001b[0m\u001b[32m=\u001b[0m\u001b[32m=\u001b[0m\u001b[32m=\u001b[0m\u001b[32m=\u001b[0m\u001b[32m=\u001b[0m\u001b[32m=\u001b[0m\u001b[32m=\u001b[0m\u001b[32m=\u001b[0m\u001b[32m=\u001b[0m] (93 steps/s)\u001b[0m [step=499] [loss+=1.922] [~loss+=1.945] [~loss=1.945] [~acc=32.33%]        \n",
      "\t[Step 500] median train step: 1501 microseconds\n",
      "\n",
      "Results on Training:\n",
      "\tMean Loss+Regularization (#loss+): 1.951\n",
      "\tMean Loss (#loss): 1.951\n",
      "\tMean Accuracy (#acc): 31.56%\n",
      "Results on Validation:\n",
      "\tMean Loss+Regularization (#loss+): 1.956\n",
      "\tMean Loss (#loss): 1.956\n",
      "\tMean Accuracy (#acc): 31.26%\n",
      "\n"
     ]
    }
   ],
   "source": [
    "import (\n",
    "    \"flags\"\n",
    "    \n",
    "    \"github.com/gomlx/gomlx/examples/cifar\"\n",
    "    \"github.com/gomlx/gomlx/ml/context\"\n",
    "    \"github.com/gomlx/gomlx/ml/train\"\n",
    "    \"github.com/gomlx/gomlx/types/slices\"\n",
    ")\n",
    "\n",
    "var (\n",
    "    // Training flags:\n",
    "    flagModel            = flag.String(\"model\", \"fnn\", \"Model type: fnn or cnn.\")\n",
    "    flagNumSteps         = flag.Int(\"steps\", 2000, \"Number of gradient descent steps to perform\")\n",
    "    flagOptimizer        = flag.String(\"optimizer\", \"adamw\", fmt.Sprintf(\"Optimizer, options: %v\", slices.Keys(optimizers.KnownOptimizers)))\n",
    "    flagLearningRate     = flag.Float64(\"learning_rate\", 0.0001, \"Initial learning rate.\")\n",
    "    flagCheckpoint       = flag.String(\"checkpoint\", \"\", \"Directory save and load checkpoints from. If left empty, no checkpoints are created.\")\n",
    "    flagCheckpointKeep   = flag.Int(\"checkpoint_keep\", 10, \"Number of checkpoints to keep, if --checkpoint is set.\")\n",
    "    \n",
    "    // Training UI:\n",
    "    flagUseProgressBar = flag.Bool(\"bar\", true, \"If to display a progress bar during training\")\n",
    "    flagPlots          = flag.Bool(\"plots\", true, \"Plots during training: perform periodic evaluations, \"+\n",
    "                                   \"save results if --checkpoint is set and draw plots, if in a Jupyter notebook.\")\n",
    ")\n",
    "\n",
    "func trainModel() {\n",
    "    // Make sure data is downloaded.\n",
    "    AssertDownloaded()\n",
    "\n",
    "    // Manager handles creation of ML computation graphs, accelerator resources, etc.\n",
    "    fmt.Printf(\"Platform: %s\\n\", manager.Platform())\n",
    "\n",
    "    // Create datasets used for training and evaluation.\n",
    "    trainDS, evalOnTrainDS, evalOnTestDS := CreateDatasets()\n",
    "\n",
    "    // Create closure for model graph building function, that uses statically the dataset\n",
    "    // used for its `cifar.Dataset.GatherImageGraph`, to convert image indices to the actual images.\n",
    "    // This is the signature of model function that the train.Trainer accepts.\n",
    "    modelFn := FNNModelGraph\n",
    "    if *flagModel == \"cnn\" {\n",
    "        modelFn = CNNModelGraph\n",
    "    }\n",
    "\n",
    "    // Metrics we are interested.\n",
    "    meanAccuracyMetric := metrics.NewSparseCategoricalAccuracy(\"Mean Accuracy\", \"#acc\")\n",
    "    movingAccuracyMetric := metrics.NewMovingAverageSparseCategoricalAccuracy(\"Moving Average Accuracy\", \"~acc\", 0.01)\n",
    "\n",
    "    // Context holds the variables and hyperparameters for the model.\n",
    "    ctx := context.NewContext(manager)\n",
    "    ctx.SetParam(optimizers.LearningRateKey, *flagLearningRate)\n",
    "    ctx.SetParam(layers.L2RegularizationKey, *flagL2Regularization)\n",
    "\n",
    "    // Checkpoints saving.\n",
    "    var checkpoint *checkpoints.Handler\n",
    "    if *flagCheckpoint != \"\" {\n",
    "        var err error\n",
    "        checkpoint, err = checkpoints.Build(ctx).DirFromBase(*flagCheckpoint, *flagDataDir).Keep(*flagCheckpointKeep).Done()\n",
    "        if err != nil { panic(err) }\n",
    "        fmt.Printf(\"Checkpointing model to %q\\n\", checkpoint.Dir())\n",
    "        globalStep := optimizers.GetGlobalStep(ctx)\n",
    "        if globalStep != 0 {\n",
    "            fmt.Printf(\"Restarting training from global_step=%d\\n\", globalStep)\n",
    "        }\n",
    "    }\n",
    "    \n",
    "    // Create a train.Trainer: this object will orchestrate running the model, feeding\n",
    "    // results to the optimizer, evaluating the metrics, etc. (all happens in trainer.TrainStep)\n",
    "    trainer := train.NewTrainer(manager, ctx, modelFn,\n",
    "        losses.SparseCategoricalCrossEntropyLogits,\n",
    "        optimizers.MustOptimizerByName(*flagOptimizer),\n",
    "        []metrics.Interface{movingAccuracyMetric}, // trainMetrics\n",
    "        []metrics.Interface{meanAccuracyMetric})   // evalMetrics\n",
    "\n",
    "    // Use standard training loop.\n",
    "    loop := train.NewLoop(trainer)\n",
    "    commandline.AttachProgressBar(loop) // Attaches a progress bar to the loop.\n",
    "\n",
    "    // Attach a checkpoint: checkpoint every 1 minute of training.\n",
    "    if checkpoint != nil {\n",
    "        period := time.Minute * 1\n",
    "        train.PeriodicCallback(loop, period, true, \"saving checkpoint\", 100,\n",
    "            func(loop *train.Loop, metrics []tensor.Tensor) error {\n",
    "                fmt.Printf(\"\\n[saving checkpoint@%d] [median train step (ms): %d]\\n\", loop.LoopStep, loop.MedianTrainStepDuration().Milliseconds())\n",
    "                return checkpoint.Save()\n",
    "            })\n",
    "    }\n",
    "\n",
    "    // Attach a margaid plots: plot points at exponential steps, that are saved along the checkpoint directory (if one is given).\n",
    "    if *flagPlots {\n",
    "        _ = margaid.NewDefault(loop, checkpoint.Dir(), 100, 1.1, evalOnTrainDS, evalOnTestDS)\n",
    "    }\n",
    "\n",
    "    // Run the given number of steps.\n",
    "    _, err := loop.RunSteps(trainDS, *flagNumSteps)\n",
    "    AssertNoError(err)\n",
    "    fmt.Printf(\"\\t[Step %d] median train step: %d microseconds\\n\", loop.LoopStep, loop.MedianTrainStepDuration().Microseconds())\n",
    "\n",
    "    // Finally print an evaluation on train and test datasets.\n",
    "    fmt.Println()\n",
    "    err = commandline.ReportEval(trainer, evalOnTrainDS, evalOnTestDS)\n",
    "    AssertNoError(err)\n",
    "    fmt.Println()\n",
    "}\n",
    "\n",
    "%% --model=fnn --steps=500 --plots=false\n",
    "trainModel()"
   ]
  },
  {
   "cell_type": "markdown",
   "id": "300a8419-5679-42ba-9149-51c17c7c427d",
   "metadata": {},
   "source": [
    "### FNN Model Training\n",
    "\n",
    "Let's train the FNN for real this time."
   ]
  },
  {
   "cell_type": "code",
   "execution_count": 8,
   "id": "4de9b879-4790-4aac-ace7-3c8a348ac961",
   "metadata": {},
   "outputs": [],
   "source": [
    "// Remove a previously trained model. Skip this if you want to continue training a previous model.\n",
    "!rm -rf ~/work/cifar/base_fnn_model  "
   ]
  },
  {
   "cell_type": "code",
   "execution_count": 9,
   "id": "cf876f49-e737-4dfa-aa05-48aad3d7a128",
   "metadata": {
    "tags": []
   },
   "outputs": [
    {
     "name": "stdout",
     "output_type": "stream",
     "text": [
      "Platform: CUDA\n",
      "Checkpointing model to \"/home/janpf/work/cifar/base_fnn_model\"\n"
     ]
    },
    {
     "data": {
      "text/html": []
     },
     "metadata": {},
     "output_type": "display_data"
    },
    {
     "name": "stdout",
     "output_type": "stream",
     "text": [
      "Training (10000 steps):  100% [\u001b[32m=\u001b[0m\u001b[32m=\u001b[0m\u001b[32m=\u001b[0m\u001b[32m=\u001b[0m\u001b[32m=\u001b[0m\u001b[32m=\u001b[0m\u001b[32m=\u001b[0m\u001b[32m=\u001b[0m\u001b[32m=\u001b[0m\u001b[32m=\u001b[0m\u001b[32m=\u001b[0m\u001b[32m=\u001b[0m\u001b[32m=\u001b[0m\u001b[32m=\u001b[0m\u001b[32m=\u001b[0m\u001b[32m=\u001b[0m\u001b[32m=\u001b[0m\u001b[32m=\u001b[0m\u001b[32m=\u001b[0m\u001b[32m=\u001b[0m\u001b[32m=\u001b[0m\u001b[32m=\u001b[0m\u001b[32m=\u001b[0m\u001b[32m=\u001b[0m\u001b[32m=\u001b[0m\u001b[32m=\u001b[0m\u001b[32m=\u001b[0m\u001b[32m=\u001b[0m\u001b[32m=\u001b[0m\u001b[32m=\u001b[0m\u001b[32m=\u001b[0m\u001b[32m=\u001b[0m\u001b[32m=\u001b[0m\u001b[32m=\u001b[0m\u001b[32m=\u001b[0m\u001b[32m=\u001b[0m\u001b[32m=\u001b[0m\u001b[32m=\u001b[0m\u001b[32m=\u001b[0m\u001b[32m=\u001b[0m] (456 steps/s)\u001b[0m [step=9999] [loss+=1.651] [~loss+=1.420] [~loss=1.420] [~acc=49.35%]        \n",
      "\n",
      "[saving checkpoint@10000] [median train step (ms): 1]\n"
     ]
    },
    {
     "data": {
      "text/html": [
       "<svg style=\"background-color:#f8f8f8\" preserveAspectRatio=\"xMidYMid meet\" xmlns=\"http://www.w3.org/2000/svg\" width=\"1024\" height=\"454\" viewbox=\"0 0 1024 400\"><defs><marker refX=\"5\" refY=\"5\" markerUnits=\"userSpaceOnUse\" markerWidth=\"2%\" markerHeight=\"2%\" id=\"circle\" viewBox=\"0 0 10 10 \"><circle cx=\"5\" cy=\"5\" r=\"3\" fill=\"none\" stroke=\"black\"/></marker><marker viewBox=\"0 0 10 10 \" refX=\"5\" refY=\"5\" markerUnits=\"userSpaceOnUse\" markerWidth=\"2%\" markerHeight=\"2%\" id=\"filled-circle\"><circle cx=\"5\" cy=\"5\" r=\"3\" fill=\"black\" stroke=\"none\"/></marker><marker id=\"square\" viewBox=\"0 0 10 10 \" refX=\"5\" refY=\"5\" markerUnits=\"userSpaceOnUse\" markerWidth=\"2%\" markerHeight=\"2%\"><rect stroke=\"black\" x=\"2\" y=\"2\" width=\"6\" height=\"6\" fill=\"none\"/></marker><marker markerUnits=\"userSpaceOnUse\" markerWidth=\"2%\" markerHeight=\"2%\" id=\"filled-square\" viewBox=\"0 0 10 10 \" refX=\"5\" refY=\"5\"><rect stroke=\"none\" x=\"2\" y=\"2\" width=\"6\" height=\"6\" fill=\"black\"/></marker></defs><g stroke-width=\"2px\" marker-mid=\"url(#square)\" marker-end=\"url(#square)\" stroke-linejoin=\"round\" stroke-linecap=\"round\" stroke=\"hsl(90, 47%, 65%)\" transform=\"translate(70 330 )scale(1 -1 )\" fill=\"none\" marker-start=\"url(#square)\"><path vector-effect=\"non-scaling-stroke\" d=\"M1.768000e+01,7.387845e+01 L1.544041e+02,1.099992e+02 L2.382534e+02,1.180212e+02 L3.004969e+02,1.349613e+02 L3.509112e+02,1.354817e+02 L3.940749e+02,1.345855e+02 L4.321593e+02,1.490974e+02 L4.666302e+02,1.553560e+02 L4.983920e+02,1.735392e+02 L5.280354e+02,1.801303e+02 L5.559630e+02,1.833824e+02 L5.824593e+02,1.816769e+02 L6.078067e+02,1.950469e+02 L6.321982e+02,1.969837e+02 L6.557685e+02,2.027798e+02 L6.786125e+02,2.111632e+02 L7.008441e+02,2.113655e+02 L7.225391e+02,2.177542e+02 L7.437834e+02,2.203270e+02 L7.646305e+02,2.281033e+02 L7.851406e+02,2.166123e+02 L8.053477e+02,2.427308e+02 L8.252913e+02,2.340295e+02 L8.449900e+02,2.357062e+02 L8.644679e+02,2.544097e+02 L8.663200e+02,2.548000e+02 \"/></g><g stroke-linejoin=\"round\" marker-mid=\"url(#square)\" marker-end=\"url(#square)\" transform=\"translate(70 330 )scale(1 -1 )\" fill=\"none\" stroke=\"hsl(301, 88%, 65%)\" stroke-linecap=\"round\" stroke-width=\"2px\" marker-start=\"url(#square)\"><path d=\"M1.768000e+01,7.383510e+01 L1.544041e+02,1.069349e+02 L2.382534e+02,1.141620e+02 L3.004969e+02,1.285437e+02 L3.509112e+02,1.321573e+02 L3.940749e+02,1.306396e+02 L4.321593e+02,1.457441e+02 L4.666302e+02,1.532602e+02 L4.983920e+02,1.741463e+02 L5.280354e+02,1.807229e+02 L5.559630e+02,1.803616e+02 L5.824593e+02,1.812288e+02 L6.078067e+02,1.912021e+02 L6.321982e+02,1.922862e+02 L6.557685e+02,1.972006e+02 L6.786125e+02,2.118714e+02 L7.008441e+02,2.052226e+02 L7.225391e+02,2.093420e+02 L7.437834e+02,2.063066e+02 L7.646305e+02,2.192430e+02 L7.851406e+02,2.058730e+02 L8.053477e+02,2.335525e+02 L8.252913e+02,2.252414e+02 L8.449900e+02,2.243742e+02 L8.644679e+02,2.371660e+02 L8.663200e+02,2.370938e+02 \" vector-effect=\"non-scaling-stroke\"/></g><g marker-mid=\"url(#square)\" stroke=\"hsl(152, 76%, 65%)\" stroke-width=\"2px\" stroke-linecap=\"round\" stroke-linejoin=\"round\" marker-start=\"url(#square)\" marker-end=\"url(#square)\" transform=\"translate(70 330 )scale(1 -1 )\" fill=\"none\"><path vector-effect=\"non-scaling-stroke\" d=\"M1.768000e+01,5.200000e+00 L1.544041e+02,5.682323e+01 L2.382534e+02,9.657474e+01 L3.004969e+02,1.244988e+02 L3.509112e+02,1.325734e+02 L3.940749e+02,1.349225e+02 L4.321593e+02,1.496397e+02 L4.666302e+02,1.507624e+02 L4.983920e+02,1.596753e+02 L5.280354e+02,1.648388e+02 L5.559630e+02,1.724882e+02 L5.824593e+02,1.874559e+02 L6.078067e+02,1.799567e+02 L6.321982e+02,1.917893e+02 L6.557685e+02,1.983885e+02 L6.786125e+02,1.994807e+02 L7.008441e+02,2.102162e+02 L7.225391e+02,2.127782e+02 L7.437834e+02,2.200769e+02 L7.646305e+02,2.143541e+02 L7.851406e+02,2.285082e+02 L8.053477e+02,2.274945e+02 L8.252913e+02,2.349681e+02 L8.449900e+02,2.456290e+02 L8.644679e+02,2.465752e+02 L8.663200e+02,2.482452e+02 \"/></g><g stroke=\"black\" stroke-width=\"2px\" transform=\"translate(70 330 )scale(1 -1 )\" stroke-linecap=\"round\" stroke-linejoin=\"round\" fill=\"none\"><path vector-effect=\"non-scaling-stroke\" d=\"M1.768000e+01,0 L1.768000e+01,-6 M1.454130e+02,0 L1.454130e+02,-6 M2.201321e+02,0 L2.201321e+02,-6 M2.731461e+02,0 L2.731461e+02,-6 M3.142670e+02,0 L3.142670e+02,-6 M3.478651e+02,0 L3.478651e+02,-6 M3.762720e+02,0 L3.762720e+02,-6 M4.008791e+02,0 L4.008791e+02,-6 M4.225842e+02,0 L4.225842e+02,-6 M442,0 L442,-6 M4.595637e+02,0 L4.595637e+02,-6 M5.697330e+02,0 L5.697330e+02,-6 M6.444521e+02,0 L6.444521e+02,-6 M6.974661e+02,0 L6.974661e+02,-6 M7.385870e+02,0 L7.385870e+02,-6 M7.721851e+02,0 L7.721851e+02,-6 M8.005920e+02,0 L8.005920e+02,-6 M8.251991e+02,0 L8.251991e+02,-6 M8.469042e+02,0 L8.469042e+02,-6 M8.663200e+02,0 L8.663200e+02,-6 \"/></g><g font-size=\"12px\" stroke-width=\"2px\" dominant-baseline=\"hanging\" stroke-linecap=\"round\" stroke-linejoin=\"round\" font-family=\"sans-serif\" font-style=\"normal\" font-weight=\"normal\" fill=\"black\" stroke=\"black\" transform=\"translate(70 330 )scale(1 1 )\" text-anchor=\"middle\"><text dominant-baseline=\"hanging\" stroke=\"none\" vector-effect=\"non-scaling-stroke\" x=\"1.768000e+01\" y=\"10\">100</text><text x=\"1.454130e+02\" y=\"10\" dominant-baseline=\"hanging\" stroke=\"none\" vector-effect=\"non-scaling-stroke\">200</text><text y=\"10\" dominant-baseline=\"hanging\" stroke=\"none\" vector-effect=\"non-scaling-stroke\" x=\"2.201321e+02\">300</text><text x=\"2.731461e+02\" y=\"10\" dominant-baseline=\"hanging\" stroke=\"none\" vector-effect=\"non-scaling-stroke\">400</text><text dominant-baseline=\"hanging\" stroke=\"none\" vector-effect=\"non-scaling-stroke\" x=\"3.142670e+02\" y=\"10\">500</text><text y=\"10\" dominant-baseline=\"hanging\" stroke=\"none\" vector-effect=\"non-scaling-stroke\" x=\"3.478651e+02\">600</text><text stroke=\"none\" vector-effect=\"non-scaling-stroke\" x=\"3.762720e+02\" y=\"10\" dominant-baseline=\"hanging\">700</text><text vector-effect=\"non-scaling-stroke\" x=\"4.008791e+02\" y=\"10\" dominant-baseline=\"hanging\" stroke=\"none\">800</text><text y=\"10\" dominant-baseline=\"hanging\" stroke=\"none\" vector-effect=\"non-scaling-stroke\" x=\"4.225842e+02\">900</text><text stroke=\"none\" vector-effect=\"non-scaling-stroke\" x=\"442\" y=\"10\" dominant-baseline=\"hanging\">1000</text><text stroke=\"none\" vector-effect=\"non-scaling-stroke\" x=\"4.595637e+02\" y=\"10\" dominant-baseline=\"hanging\">1100</text><text y=\"10\" dominant-baseline=\"hanging\" stroke=\"none\" vector-effect=\"non-scaling-stroke\" x=\"5.697330e+02\">2000</text><text stroke=\"none\" vector-effect=\"non-scaling-stroke\" x=\"6.444521e+02\" y=\"10\" dominant-baseline=\"hanging\">3000</text><text vector-effect=\"non-scaling-stroke\" x=\"6.974661e+02\" y=\"10\" dominant-baseline=\"hanging\" stroke=\"none\">4000</text><text vector-effect=\"non-scaling-stroke\" x=\"7.385870e+02\" y=\"10\" dominant-baseline=\"hanging\" stroke=\"none\">5000</text><text dominant-baseline=\"hanging\" stroke=\"none\" vector-effect=\"non-scaling-stroke\" x=\"7.721851e+02\" y=\"10\">6000</text><text x=\"8.005920e+02\" y=\"10\" dominant-baseline=\"hanging\" stroke=\"none\" vector-effect=\"non-scaling-stroke\">7000</text><text stroke=\"none\" vector-effect=\"non-scaling-stroke\" x=\"8.251991e+02\" y=\"10\" dominant-baseline=\"hanging\">8000</text><text stroke=\"none\" vector-effect=\"non-scaling-stroke\" x=\"8.469042e+02\" y=\"10\" dominant-baseline=\"hanging\">9000</text><text dominant-baseline=\"hanging\" stroke=\"none\" vector-effect=\"non-scaling-stroke\" x=\"8.663200e+02\" y=\"10\">10000</text></g><g dominant-baseline=\"baseline\" stroke-width=\"2px\" transform=\"translate(70 330 )scale(1 1 )rotate(0 0 0 )\" font-weight=\"bold\" font-size=\"12px\" font-style=\"normal\" fill=\"black\" stroke=\"black\" font-family=\"sans-serif\" text-anchor=\"middle\" stroke-linecap=\"round\" stroke-linejoin=\"round\"><text x=\"442\" y=\"-6\" dominant-baseline=\"baseline\" stroke=\"none\" vector-effect=\"non-scaling-stroke\">Steps</text></g><g transform=\"translate(70 330 )scale(1 -1 )\" font-style=\"normal\" font-weight=\"bold\" fill=\"black\" stroke=\"black\" font-size=\"12px\" stroke-width=\"2px\" text-anchor=\"middle\" dominant-baseline=\"baseline\" stroke-linecap=\"round\" stroke-linejoin=\"round\" font-family=\"sans-serif\"><path vector-effect=\"non-scaling-stroke\" d=\"M0,3.610998e+01 L-6,3.610998e+01 M0,1.083803e+02 L-6,1.083803e+02 M0,1.806506e+02 L-6,1.806506e+02 M0,2.529210e+02 L-6,2.529210e+02 \"/></g><g stroke-width=\"2px\" transform=\"translate(70 330 )scale(1 1 )\" font-size=\"12px\" font-weight=\"normal\" fill=\"black\" stroke-linejoin=\"round\" dominant-baseline=\"middle\" stroke-linecap=\"round\" stroke=\"black\" font-style=\"normal\" font-family=\"sans-serif\" text-anchor=\"end\"><text vector-effect=\"non-scaling-stroke\" x=\"-10\" y=\"-3.610998e+01\" dominant-baseline=\"middle\" stroke=\"none\">0.200</text><text dominant-baseline=\"middle\" stroke=\"none\" vector-effect=\"non-scaling-stroke\" x=\"-10\" y=\"-1.083803e+02\">0.300</text><text stroke=\"none\" vector-effect=\"non-scaling-stroke\" x=\"-10\" y=\"-1.806506e+02\" dominant-baseline=\"middle\">0.400</text><text y=\"-2.529210e+02\" dominant-baseline=\"middle\" stroke=\"none\" vector-effect=\"non-scaling-stroke\" x=\"-10\">0.500</text></g><g stroke-linecap=\"round\" stroke-linejoin=\"round\" font-family=\"sans-serif\" fill=\"black\" stroke=\"black\" stroke-width=\"2px\" transform=\"translate(70 330 )scale(1 1 )rotate(-90 0 0 )\" font-size=\"12px\" font-weight=\"bold\" text-anchor=\"middle\" dominant-baseline=\"hanging\" font-style=\"normal\"><text stroke=\"none\" vector-effect=\"non-scaling-stroke\" x=\"130\" y=\"6\" dominant-baseline=\"hanging\">accuracy</text></g><g text-anchor=\"middle\" fill=\"black\" transform=\"translate(70 330 )scale(1 -1 )\" font-size=\"12px\" font-weight=\"bold\" stroke-linecap=\"round\" stroke-linejoin=\"round\" font-family=\"sans-serif\" dominant-baseline=\"hanging\" stroke=\"gray\" stroke-width=\"0.5px\" font-style=\"normal\"><path vector-effect=\"non-scaling-stroke\" d=\"M0,3.610998e+01 L884,3.610998e+01 M0,1.083803e+02 L884,1.083803e+02 M0,1.806506e+02 L884,1.806506e+02 M0,2.529210e+02 L884,2.529210e+02 \"/></g><g fill=\"none\" stroke=\"black\" dominant-baseline=\"hanging\" stroke-linecap=\"round\" font-weight=\"bold\" font-style=\"normal\" stroke-width=\"2px\" stroke-linejoin=\"round\" font-family=\"sans-serif\" text-anchor=\"middle\" font-size=\"12px\"><rect y=\"70\" width=\"884\" height=\"260\" vector-effect=\"non-scaling-stroke\" x=\"70\"/><g dominant-baseline=\"middle\" font-size=\"18px\" fill=\"black\"><text y=\"35\" dominant-baseline=\"middle\" stroke=\"none\" vector-effect=\"non-scaling-stroke\" x=\"512\">accuracy metrics</text></g><g font-weight=\"normal\" stroke=\"hsl(90, 47%, 65%)\" font-family=\"sans-serif\" stroke-linecap=\"round\" stroke-linejoin=\"round\" text-anchor=\"start\" font-size=\"12px\" font-style=\"normal\" fill=\"hsl(90, 47%, 65%)\" stroke-width=\"1px\" dominant-baseline=\"hanging\"><rect height=\"12\" vector-effect=\"non-scaling-stroke\" x=\"76\" y=\"366\" width=\"12\"/><g fill=\"black\" stroke=\"black\"><text stroke=\"none\" vector-effect=\"non-scaling-stroke\" x=\"92\" y=\"366\" dominant-baseline=\"hanging\">Eval on Training: Mean Accuracy</text></g><g font-weight=\"normal\" fill=\"hsl(301, 88%, 65%)\" stroke=\"hsl(301, 88%, 65%)\" stroke-width=\"1px\" font-size=\"12px\" font-style=\"normal\" stroke-linecap=\"round\" font-family=\"sans-serif\" dominant-baseline=\"hanging\" stroke-linejoin=\"round\" text-anchor=\"start\"><rect x=\"76\" y=\"384\" width=\"12\" height=\"12\" vector-effect=\"non-scaling-stroke\"/><g fill=\"black\" stroke=\"black\"><text vector-effect=\"non-scaling-stroke\" x=\"92\" y=\"384\" dominant-baseline=\"hanging\" stroke=\"none\">Eval on Validation: Mean Accuracy</text></g><g font-family=\"sans-serif\" text-anchor=\"start\" dominant-baseline=\"hanging\" font-size=\"12px\" font-style=\"normal\" font-weight=\"normal\" fill=\"hsl(152, 76%, 65%)\" stroke=\"hsl(152, 76%, 65%)\" stroke-linecap=\"round\" stroke-linejoin=\"round\" stroke-width=\"1px\"><rect vector-effect=\"non-scaling-stroke\" x=\"76\" y=\"402\" width=\"12\" height=\"12\"/><g fill=\"black\" stroke=\"black\"><text stroke=\"none\" vector-effect=\"non-scaling-stroke\" x=\"92\" y=\"402\" dominant-baseline=\"hanging\">Train: Moving Average Accuracy</text></g></g></g></g></g></svg>"
      ]
     },
     "metadata": {},
     "output_type": "display_data"
    },
    {
     "data": {
      "text/html": [
       "<svg style=\"background-color:#f8f8f8\" preserveAspectRatio=\"xMidYMid meet\" xmlns=\"http://www.w3.org/2000/svg\" width=\"1024\" height=\"526\" viewbox=\"0 0 1024 400\"><defs><marker refY=\"5\" markerUnits=\"userSpaceOnUse\" markerWidth=\"2%\" markerHeight=\"2%\" id=\"circle\" viewBox=\"0 0 10 10 \" refX=\"5\"><circle r=\"3\" fill=\"none\" stroke=\"black\" cx=\"5\" cy=\"5\"/></marker><marker markerUnits=\"userSpaceOnUse\" markerWidth=\"2%\" markerHeight=\"2%\" id=\"filled-circle\" viewBox=\"0 0 10 10 \" refX=\"5\" refY=\"5\"><circle cx=\"5\" cy=\"5\" r=\"3\" fill=\"black\" stroke=\"none\"/></marker><marker id=\"square\" viewBox=\"0 0 10 10 \" refX=\"5\" refY=\"5\" markerUnits=\"userSpaceOnUse\" markerWidth=\"2%\" markerHeight=\"2%\"><rect height=\"6\" fill=\"none\" stroke=\"black\" x=\"2\" y=\"2\" width=\"6\"/></marker><marker refY=\"5\" markerUnits=\"userSpaceOnUse\" markerWidth=\"2%\" markerHeight=\"2%\" id=\"filled-square\" viewBox=\"0 0 10 10 \" refX=\"5\"><rect y=\"2\" width=\"6\" height=\"6\" fill=\"black\" stroke=\"none\" x=\"2\"/></marker></defs><g stroke-width=\"2px\" marker-end=\"url(#square)\" transform=\"translate(70 330 )scale(1 -1 )\" fill=\"none\" marker-mid=\"url(#square)\" marker-start=\"url(#square)\" stroke=\"hsl(90, 47%, 65%)\" stroke-linecap=\"round\" stroke-linejoin=\"round\"><path d=\"M1.768000e+01,2.304090e+02 L1.544041e+02,1.959077e+02 L2.382534e+02,1.814594e+02 L3.004969e+02,1.691915e+02 L3.509112e+02,1.601089e+02 L3.940749e+02,1.545932e+02 L4.321593e+02,1.403367e+02 L4.666302e+02,1.394398e+02 L4.983920e+02,1.206098e+02 L5.280354e+02,1.128611e+02 L5.559630e+02,1.085333e+02 L5.824593e+02,1.052030e+02 L6.078067e+02,9.379760e+01 L6.321982e+02,9.230287e+01 L6.557685e+02,8.225858e+01 L6.786125e+02,7.436329e+01 L7.008441e+02,7.495405e+01 L7.225391e+02,6.696139e+01 L7.437834e+02,6.307195e+01 L7.646305e+02,5.686478e+01 L7.851406e+02,6.703260e+01 L8.053477e+02,4.218234e+01 L8.252913e+02,5.729467e+01 L8.449900e+02,5.115272e+01 L8.644679e+02,2.948538e+01 L8.663200e+02,2.887560e+01 \" vector-effect=\"non-scaling-stroke\"/></g><g fill=\"none\" transform=\"translate(70 330 )scale(1 -1 )\" stroke=\"hsl(301, 88%, 65%)\" stroke-linecap=\"round\" stroke-linejoin=\"round\" marker-mid=\"url(#square)\" stroke-width=\"2px\" marker-start=\"url(#square)\" marker-end=\"url(#square)\"><path vector-effect=\"non-scaling-stroke\" d=\"M1.768000e+01,2.304090e+02 L1.544041e+02,1.959077e+02 L2.382534e+02,1.814594e+02 L3.004969e+02,1.691915e+02 L3.509112e+02,1.601089e+02 L3.940749e+02,1.545932e+02 L4.321593e+02,1.403367e+02 L4.666302e+02,1.394398e+02 L4.983920e+02,1.206098e+02 L5.280354e+02,1.128611e+02 L5.559630e+02,1.085333e+02 L5.824593e+02,1.052030e+02 L6.078067e+02,9.379760e+01 L6.321982e+02,9.230287e+01 L6.557685e+02,8.225858e+01 L6.786125e+02,7.436329e+01 L7.008441e+02,7.495405e+01 L7.225391e+02,6.696139e+01 L7.437834e+02,6.307195e+01 L7.646305e+02,5.686478e+01 L7.851406e+02,6.703260e+01 L8.053477e+02,4.218234e+01 L8.252913e+02,5.729467e+01 L8.449900e+02,5.115272e+01 L8.644679e+02,2.948538e+01 L8.663200e+02,2.887560e+01 \"/></g><g fill=\"none\" stroke=\"hsl(152, 76%, 65%)\" stroke-linecap=\"round\" stroke-width=\"2px\" marker-start=\"url(#square)\" stroke-linejoin=\"round\" marker-mid=\"url(#square)\" marker-end=\"url(#square)\" transform=\"translate(70 330 )scale(1 -1 )\"><path vector-effect=\"non-scaling-stroke\" d=\"M1.768000e+01,2.307255e+02 L1.544041e+02,1.968169e+02 L2.382534e+02,1.824421e+02 L3.004969e+02,1.703076e+02 L3.509112e+02,1.608759e+02 L3.940749e+02,1.554499e+02 L4.321593e+02,1.410131e+02 L4.666302e+02,1.396692e+02 L4.983920e+02,1.214635e+02 L5.280354e+02,1.133669e+02 L5.559630e+02,1.100811e+02 L5.824593e+02,1.065647e+02 L6.078067e+02,9.597701e+01 L6.321982e+02,9.510459e+01 L6.557685e+02,8.486922e+01 L6.786125e+02,7.661196e+01 L7.008441e+02,7.888782e+01 L7.225391e+02,7.302597e+01 L7.437834e+02,7.156318e+01 L7.646305e+02,6.386061e+01 L7.851406e+02,7.640647e+01 L8.053477e+02,5.300683e+01 L8.252913e+02,6.829582e+01 L8.449900e+02,6.298322e+01 L8.644679e+02,4.527457e+01 L8.663200e+02,4.517543e+01 \"/></g><g fill=\"none\" marker-mid=\"url(#square)\" transform=\"translate(70 330 )scale(1 -1 )\" stroke=\"hsl(3, 64%, 65%)\" stroke-linecap=\"round\" stroke-linejoin=\"round\" stroke-width=\"2px\" marker-start=\"url(#square)\" marker-end=\"url(#square)\"><path vector-effect=\"non-scaling-stroke\" d=\"M1.768000e+01,2.307255e+02 L1.544041e+02,1.968169e+02 L2.382534e+02,1.824421e+02 L3.004969e+02,1.703076e+02 L3.509112e+02,1.608759e+02 L3.940749e+02,1.554499e+02 L4.321593e+02,1.410131e+02 L4.666302e+02,1.396692e+02 L4.983920e+02,1.214635e+02 L5.280354e+02,1.133669e+02 L5.559630e+02,1.100811e+02 L5.824593e+02,1.065647e+02 L6.078067e+02,9.597701e+01 L6.321982e+02,9.510459e+01 L6.557685e+02,8.486922e+01 L6.786125e+02,7.661196e+01 L7.008441e+02,7.888782e+01 L7.225391e+02,7.302597e+01 L7.437834e+02,7.156318e+01 L7.646305e+02,6.386061e+01 L7.851406e+02,7.640647e+01 L8.053477e+02,5.300683e+01 L8.252913e+02,6.829582e+01 L8.449900e+02,6.298322e+01 L8.644679e+02,4.527457e+01 L8.663200e+02,4.517543e+01 \"/></g><g stroke-linejoin=\"round\" stroke=\"hsl(214, 52%, 65%)\" stroke-linecap=\"round\" transform=\"translate(70 330 )scale(1 -1 )\" stroke-width=\"2px\" marker-end=\"url(#square)\" marker-mid=\"url(#square)\" fill=\"none\" marker-start=\"url(#square)\"><path vector-effect=\"non-scaling-stroke\" d=\"M1.768000e+01,2.358337e+02 L1.544041e+02,2.222805e+02 L2.382534e+02,1.719926e+02 L3.004969e+02,1.397377e+02 L3.509112e+02,1.454144e+02 L3.940749e+02,1.369832e+02 L4.321593e+02,1.281177e+02 L4.666302e+02,1.334230e+02 L4.983920e+02,1.556437e+02 L5.280354e+02,1.584402e+02 L5.559630e+02,9.897208e+01 L5.824593e+02,7.237573e+01 L6.078067e+02,1.074786e+02 L6.321982e+02,9.904515e+01 L6.557685e+02,1.080472e+02 L6.786125e+02,2.877072e+01 L7.008441e+02,6.349267e+01 L7.225391e+02,9.700794e+01 L7.437834e+02,8.886616e+01 L7.646305e+02,6.369881e+01 L7.851406e+02,7.618541e+01 L8.053477e+02,5.200000e+00 L8.252913e+02,1.961925e+02 L8.449900e+02,6.380823e+01 L8.644679e+02,9.431596e+01 L8.663200e+02,9.603602e+01 \"/></g><g marker-mid=\"url(#square)\" fill=\"none\" marker-end=\"url(#square)\" stroke-width=\"2px\" marker-start=\"url(#square)\" stroke-linejoin=\"round\" stroke=\"hsl(65, 93%, 65%)\" transform=\"translate(70 330 )scale(1 -1 )\" stroke-linecap=\"round\"><path vector-effect=\"non-scaling-stroke\" d=\"M1.768000e+01,2.548000e+02 L1.544041e+02,2.255285e+02 L2.382534e+02,1.989861e+02 L3.004969e+02,1.785751e+02 L3.509112e+02,1.685487e+02 L3.940749e+02,1.625508e+02 L4.321593e+02,1.457982e+02 L4.666302e+02,1.414670e+02 L4.983920e+02,1.318529e+02 L5.280354e+02,1.258797e+02 L5.559630e+02,1.160005e+02 L5.824593e+02,1.047192e+02 L6.078067e+02,1.063996e+02 L6.321982e+02,9.751473e+01 L6.557685e+02,8.758800e+01 L6.786125e+02,8.832108e+01 L7.008441e+02,7.831347e+01 L7.225391e+02,7.218481e+01 L7.437834e+02,6.332783e+01 L7.646305e+02,6.676903e+01 L7.851406e+02,5.558957e+01 L8.053477e+02,5.442776e+01 L8.252913e+02,5.178400e+01 L8.449900e+02,3.984616e+01 L8.644679e+02,3.499788e+01 L8.663200e+02,3.415720e+01 \"/></g><g marker-start=\"url(#square)\" marker-end=\"url(#square)\" stroke-linejoin=\"round\" fill=\"none\" transform=\"translate(70 330 )scale(1 -1 )\" stroke-width=\"2px\" stroke=\"hsl(276, 81%, 65%)\" stroke-linecap=\"round\" marker-mid=\"url(#square)\"><path vector-effect=\"non-scaling-stroke\" d=\"M1.768000e+01,2.548000e+02 L1.544041e+02,2.255285e+02 L2.382534e+02,1.989861e+02 L3.004969e+02,1.785751e+02 L3.509112e+02,1.685487e+02 L3.940749e+02,1.625508e+02 L4.321593e+02,1.457982e+02 L4.666302e+02,1.414670e+02 L4.983920e+02,1.318529e+02 L5.280354e+02,1.258797e+02 L5.559630e+02,1.160005e+02 L5.824593e+02,1.047192e+02 L6.078067e+02,1.063996e+02 L6.321982e+02,9.751473e+01 L6.557685e+02,8.758800e+01 L6.786125e+02,8.832108e+01 L7.008441e+02,7.831347e+01 L7.225391e+02,7.218481e+01 L7.437834e+02,6.332783e+01 L7.646305e+02,6.676903e+01 L7.851406e+02,5.558957e+01 L8.053477e+02,5.442776e+01 L8.252913e+02,5.178400e+01 L8.449900e+02,3.984616e+01 L8.644679e+02,3.499788e+01 L8.663200e+02,3.415720e+01 \"/></g><g fill=\"none\" stroke=\"black\" stroke-linecap=\"round\" stroke-linejoin=\"round\" stroke-width=\"2px\" transform=\"translate(70 330 )scale(1 -1 )\"><path vector-effect=\"non-scaling-stroke\" d=\"M1.768000e+01,0 L1.768000e+01,-6 M1.454130e+02,0 L1.454130e+02,-6 M2.201321e+02,0 L2.201321e+02,-6 M2.731461e+02,0 L2.731461e+02,-6 M3.142670e+02,0 L3.142670e+02,-6 M3.478651e+02,0 L3.478651e+02,-6 M3.762720e+02,0 L3.762720e+02,-6 M4.008791e+02,0 L4.008791e+02,-6 M4.225842e+02,0 L4.225842e+02,-6 M442,0 L442,-6 M4.595637e+02,0 L4.595637e+02,-6 M5.697330e+02,0 L5.697330e+02,-6 M6.444521e+02,0 L6.444521e+02,-6 M6.974661e+02,0 L6.974661e+02,-6 M7.385870e+02,0 L7.385870e+02,-6 M7.721851e+02,0 L7.721851e+02,-6 M8.005920e+02,0 L8.005920e+02,-6 M8.251991e+02,0 L8.251991e+02,-6 M8.469042e+02,0 L8.469042e+02,-6 M8.663200e+02,0 L8.663200e+02,-6 \"/></g><g font-size=\"12px\" font-weight=\"normal\" fill=\"black\" stroke=\"black\" transform=\"translate(70 330 )scale(1 1 )\" font-style=\"normal\" text-anchor=\"middle\" stroke-linejoin=\"round\" font-family=\"sans-serif\" stroke-width=\"2px\" dominant-baseline=\"hanging\" stroke-linecap=\"round\"><text y=\"10\" dominant-baseline=\"hanging\" stroke=\"none\" vector-effect=\"non-scaling-stroke\" x=\"1.768000e+01\">100</text><text y=\"10\" dominant-baseline=\"hanging\" stroke=\"none\" vector-effect=\"non-scaling-stroke\" x=\"1.454130e+02\">200</text><text x=\"2.201321e+02\" y=\"10\" dominant-baseline=\"hanging\" stroke=\"none\" vector-effect=\"non-scaling-stroke\">300</text><text x=\"2.731461e+02\" y=\"10\" dominant-baseline=\"hanging\" stroke=\"none\" vector-effect=\"non-scaling-stroke\">400</text><text x=\"3.142670e+02\" y=\"10\" dominant-baseline=\"hanging\" stroke=\"none\" vector-effect=\"non-scaling-stroke\">500</text><text y=\"10\" dominant-baseline=\"hanging\" stroke=\"none\" vector-effect=\"non-scaling-stroke\" x=\"3.478651e+02\">600</text><text vector-effect=\"non-scaling-stroke\" x=\"3.762720e+02\" y=\"10\" dominant-baseline=\"hanging\" stroke=\"none\">700</text><text dominant-baseline=\"hanging\" stroke=\"none\" vector-effect=\"non-scaling-stroke\" x=\"4.008791e+02\" y=\"10\">800</text><text stroke=\"none\" vector-effect=\"non-scaling-stroke\" x=\"4.225842e+02\" y=\"10\" dominant-baseline=\"hanging\">900</text><text dominant-baseline=\"hanging\" stroke=\"none\" vector-effect=\"non-scaling-stroke\" x=\"442\" y=\"10\">1000</text><text x=\"4.595637e+02\" y=\"10\" dominant-baseline=\"hanging\" stroke=\"none\" vector-effect=\"non-scaling-stroke\">1100</text><text x=\"5.697330e+02\" y=\"10\" dominant-baseline=\"hanging\" stroke=\"none\" vector-effect=\"non-scaling-stroke\">2000</text><text x=\"6.444521e+02\" y=\"10\" dominant-baseline=\"hanging\" stroke=\"none\" vector-effect=\"non-scaling-stroke\">3000</text><text stroke=\"none\" vector-effect=\"non-scaling-stroke\" x=\"6.974661e+02\" y=\"10\" dominant-baseline=\"hanging\">4000</text><text x=\"7.385870e+02\" y=\"10\" dominant-baseline=\"hanging\" stroke=\"none\" vector-effect=\"non-scaling-stroke\">5000</text><text dominant-baseline=\"hanging\" stroke=\"none\" vector-effect=\"non-scaling-stroke\" x=\"7.721851e+02\" y=\"10\">6000</text><text x=\"8.005920e+02\" y=\"10\" dominant-baseline=\"hanging\" stroke=\"none\" vector-effect=\"non-scaling-stroke\">7000</text><text dominant-baseline=\"hanging\" stroke=\"none\" vector-effect=\"non-scaling-stroke\" x=\"8.251991e+02\" y=\"10\">8000</text><text x=\"8.469042e+02\" y=\"10\" dominant-baseline=\"hanging\" stroke=\"none\" vector-effect=\"non-scaling-stroke\">9000</text><text vector-effect=\"non-scaling-stroke\" x=\"8.663200e+02\" y=\"10\" dominant-baseline=\"hanging\" stroke=\"none\">10000</text></g><g dominant-baseline=\"baseline\" stroke=\"black\" font-style=\"normal\" text-anchor=\"middle\" transform=\"translate(70 330 )scale(1 1 )rotate(0 0 0 )\" stroke-linecap=\"round\" stroke-linejoin=\"round\" font-weight=\"bold\" fill=\"black\" stroke-width=\"2px\" font-family=\"sans-serif\" font-size=\"12px\"><text x=\"442\" y=\"-6\" dominant-baseline=\"baseline\" stroke=\"none\" vector-effect=\"non-scaling-stroke\">Steps</text></g><g stroke-width=\"2px\" stroke-linecap=\"round\" font-size=\"12px\" dominant-baseline=\"baseline\" fill=\"black\" transform=\"translate(70 330 )scale(1 -1 )\" font-style=\"normal\" stroke-linejoin=\"round\" font-family=\"sans-serif\" font-weight=\"bold\" text-anchor=\"middle\" stroke=\"black\"><path d=\"M0,2.870471e+01 L-6,2.870471e+01 M0,8.244747e+01 L-6,8.244747e+01 M0,1.361902e+02 L-6,1.361902e+02 M0,1.899330e+02 L-6,1.899330e+02 M0,2.436758e+02 L-6,2.436758e+02 \" vector-effect=\"non-scaling-stroke\"/></g><g stroke-linejoin=\"round\" font-size=\"12px\" stroke-linecap=\"round\" text-anchor=\"end\" transform=\"translate(70 330 )scale(1 1 )\" stroke-width=\"2px\" font-style=\"normal\" font-family=\"sans-serif\" font-weight=\"normal\" dominant-baseline=\"middle\" fill=\"black\" stroke=\"black\"><text stroke=\"none\" vector-effect=\"non-scaling-stroke\" x=\"-10\" y=\"-2.870471e+01\" dominant-baseline=\"middle\">1.400</text><text y=\"-8.244747e+01\" dominant-baseline=\"middle\" stroke=\"none\" vector-effect=\"non-scaling-stroke\" x=\"-10\">1.600</text><text stroke=\"none\" vector-effect=\"non-scaling-stroke\" x=\"-10\" y=\"-1.361902e+02\" dominant-baseline=\"middle\">1.800</text><text stroke=\"none\" vector-effect=\"non-scaling-stroke\" x=\"-10\" y=\"-1.899330e+02\" dominant-baseline=\"middle\">2.000</text><text x=\"-10\" y=\"-2.436758e+02\" dominant-baseline=\"middle\" stroke=\"none\" vector-effect=\"non-scaling-stroke\">2.200</text></g><g dominant-baseline=\"hanging\" font-style=\"normal\" stroke=\"black\" stroke-linejoin=\"round\" font-family=\"sans-serif\" font-size=\"12px\" font-weight=\"bold\" stroke-width=\"2px\" transform=\"translate(70 330 )scale(1 1 )rotate(-90 0 0 )\" text-anchor=\"middle\" fill=\"black\" stroke-linecap=\"round\"><text vector-effect=\"non-scaling-stroke\" x=\"130\" y=\"6\" dominant-baseline=\"hanging\" stroke=\"none\">loss</text></g><g text-anchor=\"middle\" fill=\"black\" stroke=\"gray\" stroke-linecap=\"round\" stroke-linejoin=\"round\" font-family=\"sans-serif\" transform=\"translate(70 330 )scale(1 -1 )\" font-style=\"normal\" font-weight=\"bold\" dominant-baseline=\"hanging\" font-size=\"12px\" stroke-width=\"0.5px\"><path vector-effect=\"non-scaling-stroke\" d=\"M0,2.870471e+01 L884,2.870471e+01 M0,8.244747e+01 L884,8.244747e+01 M0,1.361902e+02 L884,1.361902e+02 M0,1.899330e+02 L884,1.899330e+02 M0,2.436758e+02 L884,2.436758e+02 \"/></g><g font-size=\"12px\" font-weight=\"bold\" dominant-baseline=\"hanging\" stroke-width=\"2px\" font-style=\"normal\" stroke=\"black\" font-family=\"sans-serif\" text-anchor=\"middle\" fill=\"none\" stroke-linecap=\"round\" stroke-linejoin=\"round\"><rect y=\"70\" width=\"884\" height=\"260\" vector-effect=\"non-scaling-stroke\" x=\"70\"/><g fill=\"black\" font-size=\"18px\" dominant-baseline=\"middle\"><text vector-effect=\"non-scaling-stroke\" x=\"512\" y=\"35\" dominant-baseline=\"middle\" stroke=\"none\">loss metrics</text></g><g font-style=\"normal\" text-anchor=\"start\" font-family=\"sans-serif\" font-weight=\"normal\" stroke=\"hsl(90, 47%, 65%)\" stroke-width=\"1px\" stroke-linecap=\"round\" stroke-linejoin=\"round\" font-size=\"12px\" dominant-baseline=\"hanging\" fill=\"hsl(90, 47%, 65%)\"><rect vector-effect=\"non-scaling-stroke\" x=\"76\" y=\"366\" width=\"12\" height=\"12\"/><g fill=\"black\" stroke=\"black\"><text vector-effect=\"non-scaling-stroke\" x=\"92\" y=\"366\" dominant-baseline=\"hanging\" stroke=\"none\">Eval on Training: Mean Loss</text></g><g fill=\"hsl(301, 88%, 65%)\" stroke=\"hsl(301, 88%, 65%)\" stroke-linecap=\"round\" stroke-linejoin=\"round\" font-family=\"sans-serif\" font-size=\"12px\" font-style=\"normal\" dominant-baseline=\"hanging\" text-anchor=\"start\" stroke-width=\"1px\" font-weight=\"normal\"><rect height=\"12\" vector-effect=\"non-scaling-stroke\" x=\"76\" y=\"384\" width=\"12\"/><g fill=\"black\" stroke=\"black\"><text stroke=\"none\" vector-effect=\"non-scaling-stroke\" x=\"92\" y=\"384\" dominant-baseline=\"hanging\">Eval on Training: Mean Loss+Regularization</text></g><g stroke-linecap=\"round\" stroke-linejoin=\"round\" font-family=\"sans-serif\" font-size=\"12px\" dominant-baseline=\"hanging\" fill=\"hsl(152, 76%, 65%)\" text-anchor=\"start\" stroke-width=\"1px\" stroke=\"hsl(152, 76%, 65%)\" font-weight=\"normal\" font-style=\"normal\"><rect height=\"12\" vector-effect=\"non-scaling-stroke\" x=\"76\" y=\"402\" width=\"12\"/><g fill=\"black\" stroke=\"black\"><text dominant-baseline=\"hanging\" stroke=\"none\" vector-effect=\"non-scaling-stroke\" x=\"92\" y=\"402\">Eval on Validation: Mean Loss</text></g><g text-anchor=\"start\" stroke-width=\"1px\" font-size=\"12px\" fill=\"hsl(3, 64%, 65%)\" stroke=\"hsl(3, 64%, 65%)\" dominant-baseline=\"hanging\" font-style=\"normal\" stroke-linecap=\"round\" stroke-linejoin=\"round\" font-family=\"sans-serif\" font-weight=\"normal\"><rect height=\"12\" vector-effect=\"non-scaling-stroke\" x=\"76\" y=\"420\" width=\"12\"/><g fill=\"black\" stroke=\"black\"><text x=\"92\" y=\"420\" dominant-baseline=\"hanging\" stroke=\"none\" vector-effect=\"non-scaling-stroke\">Eval on Validation: Mean Loss+Regularization</text></g><g dominant-baseline=\"hanging\" font-style=\"normal\" text-anchor=\"start\" fill=\"hsl(214, 52%, 65%)\" stroke-linecap=\"round\" font-family=\"sans-serif\" font-size=\"12px\" font-weight=\"normal\" stroke-width=\"1px\" stroke=\"hsl(214, 52%, 65%)\" stroke-linejoin=\"round\"><rect x=\"76\" y=\"438\" width=\"12\" height=\"12\" vector-effect=\"non-scaling-stroke\"/><g fill=\"black\" stroke=\"black\"><text vector-effect=\"non-scaling-stroke\" x=\"92\" y=\"438\" dominant-baseline=\"hanging\" stroke=\"none\">Train: Batch Loss+Regularization</text></g><g font-size=\"12px\" fill=\"hsl(65, 93%, 65%)\" stroke=\"hsl(65, 93%, 65%)\" text-anchor=\"start\" stroke-width=\"1px\" font-family=\"sans-serif\" dominant-baseline=\"hanging\" stroke-linecap=\"round\" font-style=\"normal\" stroke-linejoin=\"round\" font-weight=\"normal\"><rect y=\"456\" width=\"12\" height=\"12\" vector-effect=\"non-scaling-stroke\" x=\"76\"/><g stroke=\"black\" fill=\"black\"><text x=\"92\" y=\"456\" dominant-baseline=\"hanging\" stroke=\"none\" vector-effect=\"non-scaling-stroke\">Train: Moving Average Loss</text></g><g font-style=\"normal\" text-anchor=\"start\" stroke-linecap=\"round\" font-family=\"sans-serif\" fill=\"hsl(276, 81%, 65%)\" stroke-width=\"1px\" stroke=\"hsl(276, 81%, 65%)\" stroke-linejoin=\"round\" font-size=\"12px\" font-weight=\"normal\" dominant-baseline=\"hanging\"><rect x=\"76\" y=\"474\" width=\"12\" height=\"12\" vector-effect=\"non-scaling-stroke\"/><g stroke=\"black\" fill=\"black\"><text y=\"474\" dominant-baseline=\"hanging\" stroke=\"none\" vector-effect=\"non-scaling-stroke\" x=\"92\">Train: Moving Average Loss+Regularization</text></g></g></g></g></g></g></g></g></g></svg>"
      ]
     },
     "metadata": {},
     "output_type": "display_data"
    },
    {
     "name": "stdout",
     "output_type": "stream",
     "text": [
      "\t[Step 10000] median train step: 1363 microseconds\n",
      "\n",
      "Results on Training:\n",
      "\tMean Loss+Regularization (#loss+): 1.401\n",
      "\tMean Loss (#loss): 1.401\n",
      "\tMean Accuracy (#acc): 50.26%\n",
      "Results on Validation:\n",
      "\tMean Loss+Regularization (#loss+): 1.461\n",
      "\tMean Loss (#loss): 1.461\n",
      "\tMean Accuracy (#acc): 47.81%\n",
      "\n"
     ]
    }
   ],
   "source": [
    "%% --model=fnn --steps=10000 --norm=layer --checkpoint=base_fnn_model\n",
    "trainModel()"
   ]
  },
  {
   "cell_type": "markdown",
   "id": "942fdb36-4fbe-4ccf-9958-c8b67b036ada",
   "metadata": {},
   "source": [
    "### CNN model for Cifar-10\n",
    "\n",
    "Let's now properly define our CNN model to compare:"
   ]
  },
  {
   "cell_type": "code",
   "execution_count": 10,
   "id": "e27dc442-c3aa-4ec5-98e9-e5321b474785",
   "metadata": {
    "tags": []
   },
   "outputs": [
    {
     "name": "stdout",
     "output_type": "stream",
     "text": [
      "Logits shape for batch_size=50: (Float32)[50 10]\n"
     ]
    }
   ],
   "source": [
    "import (\n",
    "    . \"github.com/gomlx/gomlx/graph\"\n",
    "    \"github.com/gomlx/gomlx/examples/cifar\"\n",
    "    \"github.com/gomlx/gomlx/ml/context\"\n",
    "    \"github.com/gomlx/gomlx/types/shapes\"\n",
    ")\n",
    "\n",
    "func CNNModelGraph(ctx *context.Context, spec any, inputs []*Node) []*Node {\n",
    "    g := inputs[0].Graph()\n",
    "    batchedImages := inputs[0]\n",
    "    batchSize := batchedImages.Shape().Dimensions[0]\n",
    "    logits := batchedImages\n",
    "    {\n",
    "        ctx := ctx.In(\"conv_0\")\n",
    "        logits = layers.Convolution(ctx, logits).Filters(32).KernelSize(3).Done()\n",
    "        logits = normalizeImage(ctx, logits)\n",
    "        logits = layers.Relu(logits)\n",
    "        logits = MaxPool(logits).Window(2).Done()\n",
    "    }\n",
    "    {\n",
    "        ctx := ctx.In(\"conv_1\")\n",
    "        logits = layers.Convolution(ctx, logits).Filters(64).KernelSize(3).Done()\n",
    "        logits = normalizeImage(ctx, logits)\n",
    "        logits = layers.Relu(logits)\n",
    "        logits = MaxPool(logits).Window(2).Done()\n",
    "    }\n",
    "    {\n",
    "        ctx := ctx.In(\"conv_2\")\n",
    "        logits = layers.Convolution(ctx, logits).Filters(64).KernelSize(3).Done()\n",
    "        logits = normalizeImage(ctx, logits)\n",
    "        logits = Reshape(logits, batchSize, -1)\n",
    "        logits = layers.Relu(logits)\n",
    "    }\n",
    "    {\n",
    "        ctx := ctx.In(\"dense_0\")\n",
    "        logits = layers.DenseWithBias(ctx, logits, *flagNumNodes)\n",
    "        logits = normalizeFeatures(ctx, logits)\n",
    "    }\n",
    "    for ii := 1; ii < *flagNumHiddenLayers; ii++ {\n",
    "        ctx := ctx.In(fmt.Sprintf(\"dense_%d\", ii))\n",
    "        // Add layer with residual connection.\n",
    "        tmp := layers.Relu(logits)\n",
    "        if *flagDropoutRate > 0 {\n",
    "            tmp = layers.Dropout(ctx, tmp, Const(g, shapes.CastAsDType(*flagDropoutRate, tmp.DType())))\n",
    "        }\n",
    "        tmp = layers.DenseWithBias(ctx, tmp, *flagNumNodes)\n",
    "        tmp = normalizeFeatures(ctx, tmp)\n",
    "        logits = Add(logits, tmp)\n",
    "    }\n",
    "    logits = layers.Relu(logits)\n",
    "    logits = layers.DenseWithBias(ctx.In(\"denseFinal\"), logits, len(cifar.C10Labels))\n",
    "    return []*Node{logits}\n",
    "}\n",
    "\n",
    "%%\n",
    "// Let's test that the logits are coming out with the right shape: we want [batch_size, 10], since there are 10 classes.\n",
    "AssertDownloaded()\n",
    "g := manager.NewGraph(\"test\")\n",
    "ctx := context.NewContext(manager)\n",
    "logits := CNNModelGraph(ctx, nil, []*Node{g.Parameter(\"images\", shapes.Make(DType, *flagBatchSize, cifar.Height, cifar.Width, cifar.Depth))})\n",
    "fmt.Printf(\"Logits shape for batch_size=%d: %s\\n\", *flagBatchSize, logits[0].Shape())\n"
   ]
  },
  {
   "cell_type": "markdown",
   "id": "6e3b2b04-8ca7-49d6-921d-3527c9169da9",
   "metadata": {},
   "source": [
    "### Training the CNN model\n",
    "\n",
    "CNNs have a much better inductive bias for machine learning on images, and it can easily achieve > 80% accuracy in training data, but only > 65% on test data, due to overfitting.\n",
    "\n",
    "Likely it would benefit from pre-training the model on a larger unlabeled datasets -- see the \"Dogs vs Cats\" example to see transfer learning in action for an image model."
   ]
  },
  {
   "cell_type": "code",
   "execution_count": 11,
   "id": "6af158e6-b9f9-423a-8ef9-3b54366d35ef",
   "metadata": {},
   "outputs": [],
   "source": [
    "!rm -rf ~/work/cifar/base_cnn_model"
   ]
  },
  {
   "cell_type": "code",
   "execution_count": 12,
   "id": "b2739281-6e70-4bd4-90e5-ed493678b8ce",
   "metadata": {
    "tags": []
   },
   "outputs": [
    {
     "name": "stdout",
     "output_type": "stream",
     "text": [
      "Platform: CUDA\n",
      "Checkpointing model to \"/home/janpf/work/cifar/base_cnn_model\"\n"
     ]
    },
    {
     "data": {
      "text/html": []
     },
     "metadata": {},
     "output_type": "display_data"
    },
    {
     "name": "stdout",
     "output_type": "stream",
     "text": [
      "Training (20000 steps):  100% [\u001b[32m=\u001b[0m\u001b[32m=\u001b[0m\u001b[32m=\u001b[0m\u001b[32m=\u001b[0m\u001b[32m=\u001b[0m\u001b[32m=\u001b[0m\u001b[32m=\u001b[0m\u001b[32m=\u001b[0m\u001b[32m=\u001b[0m\u001b[32m=\u001b[0m\u001b[32m=\u001b[0m\u001b[32m=\u001b[0m\u001b[32m=\u001b[0m\u001b[32m=\u001b[0m\u001b[32m=\u001b[0m\u001b[32m=\u001b[0m\u001b[32m=\u001b[0m\u001b[32m=\u001b[0m\u001b[32m=\u001b[0m\u001b[32m=\u001b[0m\u001b[32m=\u001b[0m\u001b[32m=\u001b[0m\u001b[32m=\u001b[0m\u001b[32m=\u001b[0m\u001b[32m=\u001b[0m\u001b[32m=\u001b[0m\u001b[32m=\u001b[0m\u001b[32m=\u001b[0m\u001b[32m=\u001b[0m\u001b[32m=\u001b[0m\u001b[32m=\u001b[0m\u001b[32m=\u001b[0m\u001b[32m=\u001b[0m\u001b[32m=\u001b[0m\u001b[32m=\u001b[0m\u001b[32m=\u001b[0m\u001b[32m=\u001b[0m\u001b[32m=\u001b[0m\u001b[32m=\u001b[0m\u001b[32m=\u001b[0m] (442 steps/s)\u001b[0m [step=19999] [loss+=1.092] [~loss+=1.153] [~loss=0.514] [~acc=84.44%]        \n",
      "\n",
      "[saving checkpoint@20000] [median train step (ms): 1]\n"
     ]
    },
    {
     "data": {
      "text/html": [
       "<svg height=\"454\" viewbox=\"0 0 1024 400\" style=\"background-color:#f8f8f8\" preserveAspectRatio=\"xMidYMid meet\" xmlns=\"http://www.w3.org/2000/svg\" width=\"1024\"><defs><marker markerUnits=\"userSpaceOnUse\" markerWidth=\"2%\" markerHeight=\"2%\" id=\"circle\" viewBox=\"0 0 10 10 \" refX=\"5\" refY=\"5\"><circle cx=\"5\" cy=\"5\" r=\"3\" fill=\"none\" stroke=\"black\"/></marker><marker id=\"filled-circle\" viewBox=\"0 0 10 10 \" refX=\"5\" refY=\"5\" markerUnits=\"userSpaceOnUse\" markerWidth=\"2%\" markerHeight=\"2%\"><circle cx=\"5\" cy=\"5\" r=\"3\" fill=\"black\" stroke=\"none\"/></marker><marker refX=\"5\" refY=\"5\" markerUnits=\"userSpaceOnUse\" markerWidth=\"2%\" markerHeight=\"2%\" id=\"square\" viewBox=\"0 0 10 10 \"><rect stroke=\"black\" x=\"2\" y=\"2\" width=\"6\" height=\"6\" fill=\"none\"/></marker><marker markerWidth=\"2%\" markerHeight=\"2%\" id=\"filled-square\" viewBox=\"0 0 10 10 \" refX=\"5\" refY=\"5\" markerUnits=\"userSpaceOnUse\"><rect width=\"6\" height=\"6\" fill=\"black\" stroke=\"none\" x=\"2\" y=\"2\"/></marker></defs><g transform=\"translate(70 330 )scale(1 -1 )\" marker-mid=\"url(#square)\" marker-end=\"url(#square)\" stroke=\"hsl(90, 47%, 65%)\" stroke-width=\"2px\" marker-start=\"url(#square)\" stroke-linecap=\"round\" stroke-linejoin=\"round\" fill=\"none\"><path vector-effect=\"non-scaling-stroke\" d=\"M1.768000e+01,3.002273e+01 L1.365173e+02,6.144737e+01 L2.093971e+02,8.781294e+01 L2.634977e+02,1.019200e+02 L3.073165e+02,1.064521e+02 L3.448334e+02,1.266478e+02 L3.779355e+02,1.154108e+02 L4.078967e+02,1.522756e+02 L4.355033e+02,1.553565e+02 L4.612687e+02,1.621425e+02 L4.855427e+02,1.696419e+02 L5.085726e+02,1.550970e+02 L5.306039e+02,1.881189e+02 L5.518045e+02,1.569780e+02 L5.722912e+02,1.932185e+02 L5.921466e+02,2.051041e+02 L6.114698e+02,2.013341e+02 L6.303266e+02,2.013665e+02 L6.487916e+02,2.051284e+02 L6.669114e+02,2.063202e+02 L6.847383e+02,2.141115e+02 L7.023018e+02,2.297184e+02 L7.196363e+02,2.311616e+02 L7.367580e+02,2.312264e+02 L7.536877e+02,2.308535e+02 L7.704470e+02,2.230541e+02 L7.870558e+02,2.296130e+02 L8.035318e+02,2.454308e+02 L8.198887e+02,2.429336e+02 L8.361372e+02,2.335938e+02 L8.522929e+02,2.464685e+02 L8.663200e+02,2.477738e+02 \"/></g><g stroke=\"hsl(301, 88%, 65%)\" stroke-linecap=\"round\" stroke-linejoin=\"round\" marker-start=\"url(#square)\" marker-end=\"url(#square)\" fill=\"none\" transform=\"translate(70 330 )scale(1 -1 )\" marker-mid=\"url(#square)\" stroke-width=\"2px\"><path vector-effect=\"non-scaling-stroke\" d=\"M1.768000e+01,2.917145e+01 L1.365173e+02,6.415529e+01 L2.093971e+02,8.880207e+01 L2.634977e+02,9.877429e+01 L3.073165e+02,1.024227e+02 L3.448334e+02,1.231373e+02 L3.779355e+02,1.117057e+02 L4.078967e+02,1.462842e+02 L4.355033e+02,1.482300e+02 L4.612687e+02,1.535404e+02 L4.855427e+02,1.575131e+02 L5.085726e+02,1.445817e+02 L5.306039e+02,1.722687e+02 L5.518045e+02,1.448654e+02 L5.722912e+02,1.767684e+02 L5.921466e+02,1.841462e+02 L6.114698e+02,1.797682e+02 L6.303266e+02,1.790385e+02 L6.487916e+02,1.806195e+02 L6.669114e+02,1.779035e+02 L6.847383e+02,1.857272e+02 L7.023018e+02,1.937131e+02 L7.196363e+02,1.983749e+02 L7.367580e+02,1.941995e+02 L7.536877e+02,1.940374e+02 L7.704470e+02,1.894972e+02 L7.870558e+02,1.928212e+02 L8.035318e+02,1.991451e+02 L8.198887e+02,1.997126e+02 L8.361372e+02,1.907944e+02 L8.522929e+02,1.976047e+02 L8.663200e+02,1.978479e+02 \"/></g><g stroke-linecap=\"round\" stroke-linejoin=\"round\" transform=\"translate(70 330 )scale(1 -1 )\" fill=\"none\" stroke=\"hsl(152, 76%, 65%)\" marker-start=\"url(#square)\" marker-mid=\"url(#square)\" stroke-width=\"2px\" marker-end=\"url(#square)\"><path vector-effect=\"non-scaling-stroke\" d=\"M1.768000e+01,5.200000e+00 L1.365173e+02,3.996985e+01 L2.093971e+02,6.874168e+01 L2.634977e+02,9.619653e+01 L3.073165e+02,1.104635e+02 L3.448334e+02,1.227648e+02 L3.779355e+02,1.352849e+02 L4.078967e+02,1.477076e+02 L4.355033e+02,1.563308e+02 L4.612687e+02,1.599806e+02 L4.855427e+02,1.681071e+02 L5.085726e+02,1.796745e+02 L5.306039e+02,1.821981e+02 L5.518045e+02,1.840846e+02 L5.722912e+02,1.970421e+02 L5.921466e+02,1.947971e+02 L6.114698e+02,2.037009e+02 L6.303266e+02,2.064893e+02 L6.487916e+02,2.152849e+02 L6.669114e+02,2.125345e+02 L6.847383e+02,2.223370e+02 L7.023018e+02,2.282653e+02 L7.196363e+02,2.237710e+02 L7.367580e+02,2.263170e+02 L7.536877e+02,2.273619e+02 L7.704470e+02,2.311600e+02 L7.870558e+02,2.431985e+02 L8.035318e+02,2.434744e+02 L8.198887e+02,2.402022e+02 L8.361372e+02,2.470064e+02 L8.522929e+02,2.548000e+02 L8.663200e+02,2.486641e+02 \"/></g><g stroke=\"black\" stroke-width=\"2px\" fill=\"none\" stroke-linejoin=\"round\" transform=\"translate(70 330 )scale(1 -1 )\" stroke-linecap=\"round\"><path vector-effect=\"non-scaling-stroke\" d=\"M1.768000e+01,0 L1.768000e+01,-6 M1.287025e+02,0 L1.287025e+02,-6 M1.936465e+02,0 L1.936465e+02,-6 M2.397250e+02,0 L2.397250e+02,-6 M2.754663e+02,0 L2.754663e+02,-6 M3.046690e+02,0 L3.046690e+02,-6 M3.293596e+02,0 L3.293596e+02,-6 M3.507475e+02,0 L3.507475e+02,-6 M3.696130e+02,0 L3.696130e+02,-6 M3.864888e+02,0 L3.864888e+02,-6 M4.017547e+02,0 L4.017547e+02,-6 M4.975112e+02,0 L4.975112e+02,-6 M5.624552e+02,0 L5.624552e+02,-6 M6.085337e+02,0 L6.085337e+02,-6 M6.442750e+02,0 L6.442750e+02,-6 M6.734777e+02,0 L6.734777e+02,-6 M6.981683e+02,0 L6.981683e+02,-6 M7.195562e+02,0 L7.195562e+02,-6 M7.384217e+02,0 L7.384217e+02,-6 M7.552975e+02,0 L7.552975e+02,-6 M8.663200e+02,0 L8.663200e+02,-6 \"/></g><g stroke-linejoin=\"round\" dominant-baseline=\"hanging\" font-family=\"sans-serif\" font-size=\"12px\" font-weight=\"normal\" stroke-linecap=\"round\" text-anchor=\"middle\" fill=\"black\" stroke=\"black\" stroke-width=\"2px\" font-style=\"normal\" transform=\"translate(70 330 )scale(1 1 )\"><text y=\"10\" dominant-baseline=\"hanging\" stroke=\"none\" vector-effect=\"non-scaling-stroke\" x=\"1.768000e+01\">100</text><text vector-effect=\"non-scaling-stroke\" x=\"1.287025e+02\" y=\"10\" dominant-baseline=\"hanging\" stroke=\"none\">200</text><text y=\"10\" dominant-baseline=\"hanging\" stroke=\"none\" vector-effect=\"non-scaling-stroke\" x=\"1.936465e+02\">300</text><text stroke=\"none\" vector-effect=\"non-scaling-stroke\" x=\"2.397250e+02\" y=\"10\" dominant-baseline=\"hanging\">400</text><text dominant-baseline=\"hanging\" stroke=\"none\" vector-effect=\"non-scaling-stroke\" x=\"2.754663e+02\" y=\"10\">500</text><text y=\"10\" dominant-baseline=\"hanging\" stroke=\"none\" vector-effect=\"non-scaling-stroke\" x=\"3.046690e+02\">600</text><text vector-effect=\"non-scaling-stroke\" x=\"3.293596e+02\" y=\"10\" dominant-baseline=\"hanging\" stroke=\"none\">700</text><text dominant-baseline=\"hanging\" stroke=\"none\" vector-effect=\"non-scaling-stroke\" x=\"3.507475e+02\" y=\"10\">800</text><text stroke=\"none\" vector-effect=\"non-scaling-stroke\" x=\"3.696130e+02\" y=\"10\" dominant-baseline=\"hanging\">900</text><text vector-effect=\"non-scaling-stroke\" x=\"3.864888e+02\" y=\"10\" dominant-baseline=\"hanging\" stroke=\"none\">1000</text><text vector-effect=\"non-scaling-stroke\" x=\"4.017547e+02\" y=\"10\" dominant-baseline=\"hanging\" stroke=\"none\">1100</text><text vector-effect=\"non-scaling-stroke\" x=\"4.975112e+02\" y=\"10\" dominant-baseline=\"hanging\" stroke=\"none\">2000</text><text y=\"10\" dominant-baseline=\"hanging\" stroke=\"none\" vector-effect=\"non-scaling-stroke\" x=\"5.624552e+02\">3000</text><text stroke=\"none\" vector-effect=\"non-scaling-stroke\" x=\"6.085337e+02\" y=\"10\" dominant-baseline=\"hanging\">4000</text><text vector-effect=\"non-scaling-stroke\" x=\"6.442750e+02\" y=\"10\" dominant-baseline=\"hanging\" stroke=\"none\">5000</text><text vector-effect=\"non-scaling-stroke\" x=\"6.734777e+02\" y=\"10\" dominant-baseline=\"hanging\" stroke=\"none\">6000</text><text dominant-baseline=\"hanging\" stroke=\"none\" vector-effect=\"non-scaling-stroke\" x=\"6.981683e+02\" y=\"10\">7000</text><text vector-effect=\"non-scaling-stroke\" x=\"7.195562e+02\" y=\"10\" dominant-baseline=\"hanging\" stroke=\"none\">8000</text><text dominant-baseline=\"hanging\" stroke=\"none\" vector-effect=\"non-scaling-stroke\" x=\"7.384217e+02\" y=\"10\">9000</text><text stroke=\"none\" vector-effect=\"non-scaling-stroke\" x=\"7.552975e+02\" y=\"10\" dominant-baseline=\"hanging\">10000</text><text stroke=\"none\" vector-effect=\"non-scaling-stroke\" x=\"8.663200e+02\" y=\"10\" dominant-baseline=\"hanging\">20000</text></g><g fill=\"black\" font-family=\"sans-serif\" stroke-linejoin=\"round\" text-anchor=\"middle\" font-weight=\"bold\" stroke=\"black\" stroke-width=\"2px\" font-size=\"12px\" font-style=\"normal\" stroke-linecap=\"round\" transform=\"translate(70 330 )scale(1 1 )rotate(0 0 0 )\" dominant-baseline=\"baseline\"><text dominant-baseline=\"baseline\" stroke=\"none\" vector-effect=\"non-scaling-stroke\" x=\"442\" y=\"-6\">Steps</text></g><g transform=\"translate(70 330 )scale(1 -1 )\" text-anchor=\"middle\" fill=\"black\" font-family=\"sans-serif\" font-style=\"normal\" font-weight=\"bold\" stroke-linecap=\"round\" stroke-linejoin=\"round\" stroke=\"black\" stroke-width=\"2px\" font-size=\"12px\" dominant-baseline=\"baseline\"><path vector-effect=\"non-scaling-stroke\" d=\"M0,6.853333e+01 L-6,6.853333e+01 M0,1.496083e+02 L-6,1.496083e+02 M0,2.306832e+02 L-6,2.306832e+02 \"/></g><g font-size=\"12px\" stroke-linejoin=\"round\" font-weight=\"normal\" dominant-baseline=\"middle\" font-family=\"sans-serif\" fill=\"black\" stroke=\"black\" stroke-width=\"2px\" stroke-linecap=\"round\" transform=\"translate(70 330 )scale(1 1 )\" text-anchor=\"end\" font-style=\"normal\"><text y=\"-6.853333e+01\" dominant-baseline=\"middle\" stroke=\"none\" vector-effect=\"non-scaling-stroke\" x=\"-10\">0.400</text><text dominant-baseline=\"middle\" stroke=\"none\" vector-effect=\"non-scaling-stroke\" x=\"-10\" y=\"-1.496083e+02\">0.600</text><text stroke=\"none\" vector-effect=\"non-scaling-stroke\" x=\"-10\" y=\"-2.306832e+02\" dominant-baseline=\"middle\">0.800</text></g><g font-family=\"sans-serif\" font-style=\"normal\" font-weight=\"bold\" stroke-linecap=\"round\" stroke-linejoin=\"round\" transform=\"translate(70 330 )scale(1 1 )rotate(-90 0 0 )\" text-anchor=\"middle\" stroke=\"black\" stroke-width=\"2px\" font-size=\"12px\" dominant-baseline=\"hanging\" fill=\"black\"><text y=\"6\" dominant-baseline=\"hanging\" stroke=\"none\" vector-effect=\"non-scaling-stroke\" x=\"130\">accuracy</text></g><g font-size=\"12px\" dominant-baseline=\"hanging\" fill=\"black\" transform=\"translate(70 330 )scale(1 -1 )\" text-anchor=\"middle\" stroke-linejoin=\"round\" font-family=\"sans-serif\" stroke=\"gray\" stroke-linecap=\"round\" stroke-width=\"0.5px\" font-style=\"normal\" font-weight=\"bold\"><path vector-effect=\"non-scaling-stroke\" d=\"M0,6.853333e+01 L884,6.853333e+01 M0,1.496083e+02 L884,1.496083e+02 M0,2.306832e+02 L884,2.306832e+02 \"/></g><g font-size=\"12px\" font-weight=\"bold\" dominant-baseline=\"hanging\" fill=\"none\" stroke=\"black\" stroke-linecap=\"round\" stroke-linejoin=\"round\" stroke-width=\"2px\" font-family=\"sans-serif\" font-style=\"normal\" text-anchor=\"middle\"><rect vector-effect=\"non-scaling-stroke\" x=\"70\" y=\"70\" width=\"884\" height=\"260\"/><g dominant-baseline=\"middle\" fill=\"black\" font-size=\"18px\"><text vector-effect=\"non-scaling-stroke\" x=\"512\" y=\"35\" dominant-baseline=\"middle\" stroke=\"none\">accuracy metrics</text></g><g stroke-linecap=\"round\" stroke-linejoin=\"round\" text-anchor=\"start\" font-style=\"normal\" stroke=\"hsl(90, 47%, 65%)\" font-weight=\"normal\" dominant-baseline=\"hanging\" fill=\"hsl(90, 47%, 65%)\" stroke-width=\"1px\" font-family=\"sans-serif\" font-size=\"12px\"><rect x=\"76\" y=\"366\" width=\"12\" height=\"12\" vector-effect=\"non-scaling-stroke\"/><g fill=\"black\" stroke=\"black\"><text dominant-baseline=\"hanging\" stroke=\"none\" vector-effect=\"non-scaling-stroke\" x=\"92\" y=\"366\">Eval on Training: Mean Accuracy</text></g><g stroke=\"hsl(301, 88%, 65%)\" text-anchor=\"start\" fill=\"hsl(301, 88%, 65%)\" dominant-baseline=\"hanging\" stroke-width=\"1px\" font-family=\"sans-serif\" font-size=\"12px\" font-style=\"normal\" stroke-linecap=\"round\" stroke-linejoin=\"round\" font-weight=\"normal\"><rect vector-effect=\"non-scaling-stroke\" x=\"76\" y=\"384\" width=\"12\" height=\"12\"/><g stroke=\"black\" fill=\"black\"><text vector-effect=\"non-scaling-stroke\" x=\"92\" y=\"384\" dominant-baseline=\"hanging\" stroke=\"none\">Eval on Validation: Mean Accuracy</text></g><g font-family=\"sans-serif\" font-size=\"12px\" stroke-linejoin=\"round\" font-weight=\"normal\" fill=\"hsl(152, 76%, 65%)\" stroke=\"hsl(152, 76%, 65%)\" stroke-linecap=\"round\" text-anchor=\"start\" font-style=\"normal\" dominant-baseline=\"hanging\" stroke-width=\"1px\"><rect width=\"12\" height=\"12\" vector-effect=\"non-scaling-stroke\" x=\"76\" y=\"402\"/><g fill=\"black\" stroke=\"black\"><text y=\"402\" dominant-baseline=\"hanging\" stroke=\"none\" vector-effect=\"non-scaling-stroke\" x=\"92\">Train: Moving Average Accuracy</text></g></g></g></g></g></svg>"
      ]
     },
     "metadata": {},
     "output_type": "display_data"
    },
    {
     "data": {
      "text/html": [
       "<svg preserveAspectRatio=\"xMidYMid meet\" xmlns=\"http://www.w3.org/2000/svg\" width=\"1024\" height=\"526\" viewbox=\"0 0 1024 400\" style=\"background-color:#f8f8f8\"><defs><marker id=\"circle\" viewBox=\"0 0 10 10 \" refX=\"5\" refY=\"5\" markerUnits=\"userSpaceOnUse\" markerWidth=\"2%\" markerHeight=\"2%\"><circle cx=\"5\" cy=\"5\" r=\"3\" fill=\"none\" stroke=\"black\"/></marker><marker markerHeight=\"2%\" id=\"filled-circle\" viewBox=\"0 0 10 10 \" refX=\"5\" refY=\"5\" markerUnits=\"userSpaceOnUse\" markerWidth=\"2%\"><circle cx=\"5\" cy=\"5\" r=\"3\" fill=\"black\" stroke=\"none\"/></marker><marker refX=\"5\" refY=\"5\" markerUnits=\"userSpaceOnUse\" markerWidth=\"2%\" markerHeight=\"2%\" id=\"square\" viewBox=\"0 0 10 10 \"><rect x=\"2\" y=\"2\" width=\"6\" height=\"6\" fill=\"none\" stroke=\"black\"/></marker><marker viewBox=\"0 0 10 10 \" refX=\"5\" refY=\"5\" markerUnits=\"userSpaceOnUse\" markerWidth=\"2%\" markerHeight=\"2%\" id=\"filled-square\"><rect y=\"2\" width=\"6\" height=\"6\" fill=\"black\" stroke=\"none\" x=\"2\"/></marker></defs><g stroke-linejoin=\"round\" transform=\"translate(70 330 )scale(1 -1 )\" marker-mid=\"url(#square)\" marker-end=\"url(#square)\" stroke-width=\"2px\" fill=\"none\" stroke=\"hsl(90, 47%, 65%)\" stroke-linecap=\"round\" marker-start=\"url(#square)\"><path vector-effect=\"non-scaling-stroke\" d=\"M1.768000e+01,5.465935e+01 L1.365173e+02,4.805482e+01 L2.093971e+02,4.257573e+01 L2.634977e+02,3.950600e+01 L3.073165e+02,3.748144e+01 L3.448334e+02,3.393377e+01 L3.779355e+02,3.422958e+01 L4.078967e+02,2.758512e+01 L4.355033e+02,2.661437e+01 L4.612687e+02,2.490413e+01 L4.855427e+02,2.296282e+01 L5.085726e+02,2.557700e+01 L5.306039e+02,1.961538e+01 L5.518045e+02,2.538724e+01 L5.722912e+02,1.807583e+01 L5.921466e+02,1.560433e+01 L6.114698e+02,1.635396e+01 L6.303266e+02,1.619170e+01 L6.487916e+02,1.518164e+01 L6.669114e+02,1.542304e+01 L6.847383e+02,1.371020e+01 L7.023018e+02,1.070650e+01 L7.196363e+02,1.036869e+01 L7.367580e+02,1.028936e+01 L7.536877e+02,1.052948e+01 L7.704470e+02,1.210891e+01 L7.870558e+02,1.050825e+01 L8.035318e+02,7.795303e+00 L8.198887e+02,7.420092e+00 L8.361372e+02,9.386968e+00 L8.522929e+02,6.960541e+00 L8.663200e+02,6.573494e+00 \"/></g><g marker-mid=\"url(#square)\" marker-end=\"url(#square)\" stroke-width=\"2px\" marker-start=\"url(#square)\" stroke-linecap=\"round\" stroke-linejoin=\"round\" transform=\"translate(70 330 )scale(1 -1 )\" fill=\"none\" stroke=\"hsl(301, 88%, 65%)\"><path d=\"M1.768000e+01,2.459055e+02 L1.365173e+02,2.320109e+02 L2.093971e+02,2.189160e+02 L2.634977e+02,2.081458e+02 L3.073165e+02,1.984885e+02 L3.448334e+02,1.874235e+02 L3.779355e+02,1.803145e+02 L4.078967e+02,1.663530e+02 L4.355033e+02,1.581558e+02 L4.612687e+02,1.492585e+02 L4.855427e+02,1.401502e+02 L5.085726e+02,1.356157e+02 L5.306039e+02,1.224989e+02 L5.518045e+02,1.210741e+02 L5.722912e+02,1.065776e+02 L5.921466e+02,9.692187e+01 L6.114698e+02,9.050334e+01 L6.303266e+02,8.336028e+01 L6.487916e+02,7.554158e+01 L6.669114e+02,6.925073e+01 L6.847383e+02,6.144418e+01 L7.023018e+02,5.282926e+01 L7.196363e+02,4.753073e+01 L7.367580e+02,4.343107e+01 L7.536877e+02,4.050222e+01 L7.704470e+02,3.969515e+01 L7.870558e+02,3.643713e+01 L8.035318e+02,3.240014e+01 L8.198887e+02,3.087673e+01 L8.361372e+02,3.208371e+01 L8.522929e+02,2.900581e+01 L8.663200e+02,2.806608e+01 \" vector-effect=\"non-scaling-stroke\"/></g><g stroke-linejoin=\"round\" fill=\"none\" marker-start=\"url(#square)\" stroke-width=\"2px\" transform=\"translate(70 330 )scale(1 -1 )\" stroke-linecap=\"round\" marker-mid=\"url(#square)\" marker-end=\"url(#square)\" stroke=\"hsl(152, 76%, 65%)\"><path vector-effect=\"non-scaling-stroke\" d=\"M1.768000e+01,5.455536e+01 L1.365173e+02,4.783066e+01 L2.093971e+02,4.253156e+01 L2.634977e+02,3.971247e+01 L3.073165e+02,3.799180e+01 L3.448334e+02,3.448150e+01 L3.779355e+02,3.516535e+01 L4.078967e+02,2.875249e+01 L4.355033e+02,2.821952e+01 L4.612687e+02,2.679207e+01 L4.855427e+02,2.537826e+01 L5.085726e+02,2.836415e+01 L5.306039e+02,2.266681e+01 L5.518045e+02,2.853799e+01 L5.722912e+02,2.187794e+01 L5.921466e+02,2.007057e+01 L6.114698e+02,2.089888e+01 L6.303266e+02,2.122557e+01 L6.487916e+02,2.057772e+01 L6.669114e+02,2.121714e+01 L6.847383e+02,1.956658e+01 L7.023018e+02,1.740935e+01 L7.196363e+02,1.698343e+01 L7.367580e+02,1.771341e+01 L7.536877e+02,1.800773e+01 L7.704470e+02,1.951892e+01 L7.870558e+02,1.882362e+01 L8.035318e+02,1.717893e+01 L8.198887e+02,1.675702e+01 L8.361372e+02,1.917949e+01 L8.522929e+02,1.773454e+01 L8.663200e+02,1.741397e+01 \"/></g><g stroke=\"hsl(3, 64%, 65%)\" stroke-linecap=\"round\" fill=\"none\" marker-start=\"url(#square)\" marker-end=\"url(#square)\" transform=\"translate(70 330 )scale(1 -1 )\" stroke-width=\"2px\" marker-mid=\"url(#square)\" stroke-linejoin=\"round\"><path vector-effect=\"non-scaling-stroke\" d=\"M1.768000e+01,2.458015e+02 L1.365173e+02,2.317867e+02 L2.093971e+02,2.188719e+02 L2.634977e+02,2.083523e+02 L3.073165e+02,1.989988e+02 L3.448334e+02,1.879713e+02 L3.779355e+02,1.812502e+02 L4.078967e+02,1.675204e+02 L4.355033e+02,1.597609e+02 L4.612687e+02,1.511465e+02 L4.855427e+02,1.425657e+02 L5.085726e+02,1.384028e+02 L5.306039e+02,1.255504e+02 L5.518045e+02,1.242249e+02 L5.722912e+02,1.103797e+02 L5.921466e+02,1.013881e+02 L6.114698e+02,9.504828e+01 L6.303266e+02,8.839415e+01 L6.487916e+02,8.093766e+01 L6.669114e+02,7.504482e+01 L6.847383e+02,6.730056e+01 L7.023018e+02,5.953212e+01 L7.196363e+02,5.414546e+01 L7.367580e+02,5.085512e+01 L7.536877e+02,4.798047e+01 L7.704470e+02,4.710515e+01 L7.870558e+02,4.475250e+01 L8.035318e+02,4.178377e+01 L8.198887e+02,4.021366e+01 L8.361372e+02,4.187623e+01 L8.522929e+02,3.977980e+01 L8.663200e+02,3.890656e+01 \"/></g><g marker-end=\"url(#square)\" fill=\"none\" stroke-width=\"2px\" transform=\"translate(70 330 )scale(1 -1 )\" marker-start=\"url(#square)\" marker-mid=\"url(#square)\" stroke-linejoin=\"round\" stroke=\"hsl(214, 52%, 65%)\" stroke-linecap=\"round\"><path vector-effect=\"non-scaling-stroke\" d=\"M1.768000e+01,2.453281e+02 L1.365173e+02,2.278215e+02 L2.093971e+02,2.205609e+02 L2.634977e+02,2.065006e+02 L3.073165e+02,1.990373e+02 L3.448334e+02,1.867049e+02 L3.779355e+02,1.875858e+02 L4.078967e+02,1.608225e+02 L4.355033e+02,1.584915e+02 L4.612687e+02,1.502639e+02 L4.855427e+02,1.390520e+02 L5.085726e+02,1.241458e+02 L5.306039e+02,1.217333e+02 L5.518045e+02,1.195525e+02 L5.722912e+02,1.129233e+02 L5.921466e+02,9.990787e+01 L6.114698e+02,8.905517e+01 L6.303266e+02,7.772726e+01 L6.487916e+02,7.685484e+01 L6.669114e+02,6.199394e+01 L6.847383e+02,6.243047e+01 L7.023018e+02,5.846834e+01 L7.196363e+02,4.265650e+01 L7.367580e+02,4.355214e+01 L7.536877e+02,3.759085e+01 L7.704470e+02,3.830988e+01 L7.870558e+02,3.138723e+01 L8.035318e+02,3.076490e+01 L8.198887e+02,3.324679e+01 L8.361372e+02,3.210040e+01 L8.522929e+02,2.506708e+01 L8.663200e+02,2.597546e+01 \"/></g><g stroke=\"hsl(65, 93%, 65%)\" transform=\"translate(70 330 )scale(1 -1 )\" marker-start=\"url(#square)\" marker-mid=\"url(#square)\" marker-end=\"url(#square)\" stroke-width=\"2px\" stroke-linejoin=\"round\" fill=\"none\" stroke-linecap=\"round\"><path d=\"M1.768000e+01,6.019331e+01 L1.365173e+02,5.308226e+01 L2.093971e+02,4.636107e+01 L2.634977e+02,4.064673e+01 L3.073165e+02,3.740392e+01 L3.448334e+02,3.420084e+01 L3.779355e+02,3.135728e+01 L4.078967e+02,2.848562e+01 L4.355033e+02,2.649081e+01 L4.612687e+02,2.506865e+01 L4.855427e+02,2.353323e+01 L5.085726e+02,2.127840e+01 L5.306039e+02,2.028058e+01 L5.518045e+02,2.010825e+01 L5.722912e+02,1.722136e+01 L5.921466e+02,1.736163e+01 L6.114698e+02,1.575675e+01 L6.303266e+02,1.528048e+01 L6.487916e+02,1.330786e+01 L6.669114e+02,1.370614e+01 L6.847383e+02,1.223156e+01 L7.023018e+02,1.117418e+01 L7.196363e+02,1.195497e+01 L7.367580e+02,1.136461e+01 L7.536877e+02,1.129044e+01 L7.704470e+02,1.092981e+01 L7.870558e+02,8.044945e+00 L8.035318e+02,8.041882e+00 L8.198887e+02,8.256395e+00 L8.361372e+02,6.895045e+00 L8.522929e+02,5.200000e+00 L8.663200e+02,6.459712e+00 \" vector-effect=\"non-scaling-stroke\"/></g><g transform=\"translate(70 330 )scale(1 -1 )\" marker-start=\"url(#square)\" marker-mid=\"url(#square)\" marker-end=\"url(#square)\" fill=\"none\" stroke-width=\"2px\" stroke-linecap=\"round\" stroke-linejoin=\"round\" stroke=\"hsl(276, 81%, 65%)\"><path vector-effect=\"non-scaling-stroke\" d=\"M1.768000e+01,2.548000e+02 L1.365173e+02,2.425742e+02 L2.093971e+02,2.287402e+02 L2.634977e+02,2.150961e+02 L3.073165e+02,2.037206e+02 L3.448334e+02,1.924335e+02 L3.779355e+02,1.816686e+02 L4.078967e+02,1.710202e+02 L4.355033e+02,1.613897e+02 L4.612687e+02,1.524340e+02 L4.855427e+02,1.434405e+02 L5.085726e+02,1.337676e+02 L5.306039e+02,1.253955e+02 L5.518045e+02,1.178239e+02 L5.722912e+02,1.075446e+02 L5.921466e+02,1.003479e+02 L6.114698e+02,9.139439e+01 L6.303266e+02,8.378322e+01 L6.487916e+02,7.481673e+01 L6.669114e+02,6.854929e+01 L6.847383e+02,6.080936e+01 L7.023018e+02,5.396810e+01 L7.196363e+02,4.966986e+01 L7.367580e+02,4.491575e+01 L7.536877e+02,4.156027e+01 L7.704470e+02,3.872790e+01 L7.870558e+02,3.405887e+01 L8.035318e+02,3.272993e+01 L8.198887e+02,3.181304e+01 L8.361372e+02,2.965205e+01 L8.522929e+02,2.724985e+01 L8.663200e+02,2.801097e+01 \"/></g><g stroke-linejoin=\"round\" transform=\"translate(70 330 )scale(1 -1 )\" stroke=\"black\" stroke-linecap=\"round\" fill=\"none\" stroke-width=\"2px\"><path vector-effect=\"non-scaling-stroke\" d=\"M1.768000e+01,0 L1.768000e+01,-6 M1.287025e+02,0 L1.287025e+02,-6 M1.936465e+02,0 L1.936465e+02,-6 M2.397250e+02,0 L2.397250e+02,-6 M2.754663e+02,0 L2.754663e+02,-6 M3.046690e+02,0 L3.046690e+02,-6 M3.293596e+02,0 L3.293596e+02,-6 M3.507475e+02,0 L3.507475e+02,-6 M3.696130e+02,0 L3.696130e+02,-6 M3.864888e+02,0 L3.864888e+02,-6 M4.017547e+02,0 L4.017547e+02,-6 M4.975112e+02,0 L4.975112e+02,-6 M5.624552e+02,0 L5.624552e+02,-6 M6.085337e+02,0 L6.085337e+02,-6 M6.442750e+02,0 L6.442750e+02,-6 M6.734777e+02,0 L6.734777e+02,-6 M6.981683e+02,0 L6.981683e+02,-6 M7.195562e+02,0 L7.195562e+02,-6 M7.384217e+02,0 L7.384217e+02,-6 M7.552975e+02,0 L7.552975e+02,-6 M8.663200e+02,0 L8.663200e+02,-6 \"/></g><g stroke-width=\"2px\" dominant-baseline=\"hanging\" stroke-linecap=\"round\" font-weight=\"normal\" font-family=\"sans-serif\" font-size=\"12px\" font-style=\"normal\" fill=\"black\" transform=\"translate(70 330 )scale(1 1 )\" text-anchor=\"middle\" stroke-linejoin=\"round\" stroke=\"black\"><text vector-effect=\"non-scaling-stroke\" x=\"1.768000e+01\" y=\"10\" dominant-baseline=\"hanging\" stroke=\"none\">100</text><text stroke=\"none\" vector-effect=\"non-scaling-stroke\" x=\"1.287025e+02\" y=\"10\" dominant-baseline=\"hanging\">200</text><text dominant-baseline=\"hanging\" stroke=\"none\" vector-effect=\"non-scaling-stroke\" x=\"1.936465e+02\" y=\"10\">300</text><text vector-effect=\"non-scaling-stroke\" x=\"2.397250e+02\" y=\"10\" dominant-baseline=\"hanging\" stroke=\"none\">400</text><text x=\"2.754663e+02\" y=\"10\" dominant-baseline=\"hanging\" stroke=\"none\" vector-effect=\"non-scaling-stroke\">500</text><text y=\"10\" dominant-baseline=\"hanging\" stroke=\"none\" vector-effect=\"non-scaling-stroke\" x=\"3.046690e+02\">600</text><text vector-effect=\"non-scaling-stroke\" x=\"3.293596e+02\" y=\"10\" dominant-baseline=\"hanging\" stroke=\"none\">700</text><text dominant-baseline=\"hanging\" stroke=\"none\" vector-effect=\"non-scaling-stroke\" x=\"3.507475e+02\" y=\"10\">800</text><text stroke=\"none\" vector-effect=\"non-scaling-stroke\" x=\"3.696130e+02\" y=\"10\" dominant-baseline=\"hanging\">900</text><text vector-effect=\"non-scaling-stroke\" x=\"3.864888e+02\" y=\"10\" dominant-baseline=\"hanging\" stroke=\"none\">1000</text><text x=\"4.017547e+02\" y=\"10\" dominant-baseline=\"hanging\" stroke=\"none\" vector-effect=\"non-scaling-stroke\">1100</text><text stroke=\"none\" vector-effect=\"non-scaling-stroke\" x=\"4.975112e+02\" y=\"10\" dominant-baseline=\"hanging\">2000</text><text vector-effect=\"non-scaling-stroke\" x=\"5.624552e+02\" y=\"10\" dominant-baseline=\"hanging\" stroke=\"none\">3000</text><text stroke=\"none\" vector-effect=\"non-scaling-stroke\" x=\"6.085337e+02\" y=\"10\" dominant-baseline=\"hanging\">4000</text><text x=\"6.442750e+02\" y=\"10\" dominant-baseline=\"hanging\" stroke=\"none\" vector-effect=\"non-scaling-stroke\">5000</text><text x=\"6.734777e+02\" y=\"10\" dominant-baseline=\"hanging\" stroke=\"none\" vector-effect=\"non-scaling-stroke\">6000</text><text x=\"6.981683e+02\" y=\"10\" dominant-baseline=\"hanging\" stroke=\"none\" vector-effect=\"non-scaling-stroke\">7000</text><text stroke=\"none\" vector-effect=\"non-scaling-stroke\" x=\"7.195562e+02\" y=\"10\" dominant-baseline=\"hanging\">8000</text><text dominant-baseline=\"hanging\" stroke=\"none\" vector-effect=\"non-scaling-stroke\" x=\"7.384217e+02\" y=\"10\">9000</text><text y=\"10\" dominant-baseline=\"hanging\" stroke=\"none\" vector-effect=\"non-scaling-stroke\" x=\"7.552975e+02\">10000</text><text x=\"8.663200e+02\" y=\"10\" dominant-baseline=\"hanging\" stroke=\"none\" vector-effect=\"non-scaling-stroke\">20000</text></g><g stroke-linejoin=\"round\" transform=\"translate(70 330 )scale(1 1 )rotate(0 0 0 )\" font-family=\"sans-serif\" font-size=\"12px\" dominant-baseline=\"baseline\" font-weight=\"bold\" font-style=\"normal\" stroke-width=\"2px\" fill=\"black\" stroke=\"black\" stroke-linecap=\"round\" text-anchor=\"middle\"><text vector-effect=\"non-scaling-stroke\" x=\"442\" y=\"-6\" dominant-baseline=\"baseline\" stroke=\"none\">Steps</text></g><g stroke=\"black\" font-size=\"12px\" font-style=\"normal\" stroke-width=\"2px\" stroke-linejoin=\"round\" dominant-baseline=\"baseline\" font-weight=\"bold\" font-family=\"sans-serif\" text-anchor=\"middle\" fill=\"black\" transform=\"translate(70 330 )scale(1 -1 )\" stroke-linecap=\"round\"><path vector-effect=\"non-scaling-stroke\" d=\"M0,5.660709e+01 L-6,5.660709e+01 M0,1.240945e+02 L-6,1.240945e+02 M0,1.915819e+02 L-6,1.915819e+02 \"/></g><g stroke-linecap=\"round\" font-weight=\"normal\" font-size=\"12px\" fill=\"black\" transform=\"translate(70 330 )scale(1 1 )\" stroke-linejoin=\"round\" dominant-baseline=\"middle\" stroke=\"black\" font-family=\"sans-serif\" font-style=\"normal\" text-anchor=\"end\" stroke-width=\"2px\"><text dominant-baseline=\"middle\" stroke=\"none\" vector-effect=\"non-scaling-stroke\" x=\"-10\" y=\"-5.660709e+01\">2.000</text><text y=\"-1.240945e+02\" dominant-baseline=\"middle\" stroke=\"none\" vector-effect=\"non-scaling-stroke\" x=\"-10\">4.000</text><text x=\"-10\" y=\"-1.915819e+02\" dominant-baseline=\"middle\" stroke=\"none\" vector-effect=\"non-scaling-stroke\">6.000</text></g><g text-anchor=\"middle\" fill=\"black\" font-weight=\"bold\" transform=\"translate(70 330 )scale(1 1 )rotate(-90 0 0 )\" font-size=\"12px\" font-style=\"normal\" stroke-width=\"2px\" stroke-linejoin=\"round\" dominant-baseline=\"hanging\" stroke=\"black\" stroke-linecap=\"round\" font-family=\"sans-serif\"><text stroke=\"none\" vector-effect=\"non-scaling-stroke\" x=\"130\" y=\"6\" dominant-baseline=\"hanging\">loss</text></g><g stroke-linejoin=\"round\" transform=\"translate(70 330 )scale(1 -1 )\" font-family=\"sans-serif\" font-style=\"normal\" dominant-baseline=\"hanging\" stroke=\"gray\" fill=\"black\" stroke-width=\"0.5px\" font-weight=\"bold\" stroke-linecap=\"round\" text-anchor=\"middle\" font-size=\"12px\"><path vector-effect=\"non-scaling-stroke\" d=\"M0,5.660709e+01 L884,5.660709e+01 M0,1.240945e+02 L884,1.240945e+02 M0,1.915819e+02 L884,1.915819e+02 \"/></g><g stroke-width=\"2px\" stroke-linejoin=\"round\" stroke-linecap=\"round\" font-weight=\"bold\" font-family=\"sans-serif\" text-anchor=\"middle\" dominant-baseline=\"hanging\" stroke=\"black\" font-size=\"12px\" font-style=\"normal\" fill=\"none\"><rect x=\"70\" y=\"70\" width=\"884\" height=\"260\" vector-effect=\"non-scaling-stroke\"/><g fill=\"black\" font-size=\"18px\" dominant-baseline=\"middle\"><text vector-effect=\"non-scaling-stroke\" x=\"512\" y=\"35\" dominant-baseline=\"middle\" stroke=\"none\">loss metrics</text></g><g font-size=\"12px\" dominant-baseline=\"hanging\" font-weight=\"normal\" text-anchor=\"start\" stroke-linejoin=\"round\" fill=\"hsl(90, 47%, 65%)\" stroke-width=\"1px\" font-family=\"sans-serif\" stroke=\"hsl(90, 47%, 65%)\" stroke-linecap=\"round\" font-style=\"normal\"><rect vector-effect=\"non-scaling-stroke\" x=\"76\" y=\"366\" width=\"12\" height=\"12\"/><g stroke=\"black\" fill=\"black\"><text vector-effect=\"non-scaling-stroke\" x=\"92\" y=\"366\" dominant-baseline=\"hanging\" stroke=\"none\">Eval on Training: Mean Loss</text></g><g text-anchor=\"start\" stroke-width=\"1px\" stroke-linejoin=\"round\" font-weight=\"normal\" font-style=\"normal\" fill=\"hsl(301, 88%, 65%)\" font-family=\"sans-serif\" font-size=\"12px\" dominant-baseline=\"hanging\" stroke=\"hsl(301, 88%, 65%)\" stroke-linecap=\"round\"><rect vector-effect=\"non-scaling-stroke\" x=\"76\" y=\"384\" width=\"12\" height=\"12\"/><g stroke=\"black\" fill=\"black\"><text y=\"384\" dominant-baseline=\"hanging\" stroke=\"none\" vector-effect=\"non-scaling-stroke\" x=\"92\">Eval on Training: Mean Loss+Regularization</text></g><g font-family=\"sans-serif\" text-anchor=\"start\" fill=\"hsl(152, 76%, 65%)\" stroke-width=\"1px\" dominant-baseline=\"hanging\" stroke=\"hsl(152, 76%, 65%)\" stroke-linecap=\"round\" font-weight=\"normal\" font-style=\"normal\" stroke-linejoin=\"round\" font-size=\"12px\"><rect vector-effect=\"non-scaling-stroke\" x=\"76\" y=\"402\" width=\"12\" height=\"12\"/><g stroke=\"black\" fill=\"black\"><text dominant-baseline=\"hanging\" stroke=\"none\" vector-effect=\"non-scaling-stroke\" x=\"92\" y=\"402\">Eval on Validation: Mean Loss</text></g><g fill=\"hsl(3, 64%, 65%)\" dominant-baseline=\"hanging\" font-weight=\"normal\" font-family=\"sans-serif\" font-size=\"12px\" text-anchor=\"start\" font-style=\"normal\" stroke-linecap=\"round\" stroke=\"hsl(3, 64%, 65%)\" stroke-width=\"1px\" stroke-linejoin=\"round\"><rect y=\"420\" width=\"12\" height=\"12\" vector-effect=\"non-scaling-stroke\" x=\"76\"/><g fill=\"black\" stroke=\"black\"><text x=\"92\" y=\"420\" dominant-baseline=\"hanging\" stroke=\"none\" vector-effect=\"non-scaling-stroke\">Eval on Validation: Mean Loss+Regularization</text></g><g fill=\"hsl(214, 52%, 65%)\" font-family=\"sans-serif\" stroke=\"hsl(214, 52%, 65%)\" stroke-linecap=\"round\" font-weight=\"normal\" text-anchor=\"start\" stroke-width=\"1px\" stroke-linejoin=\"round\" font-size=\"12px\" font-style=\"normal\" dominant-baseline=\"hanging\"><rect width=\"12\" height=\"12\" vector-effect=\"non-scaling-stroke\" x=\"76\" y=\"438\"/><g stroke=\"black\" fill=\"black\"><text vector-effect=\"non-scaling-stroke\" x=\"92\" y=\"438\" dominant-baseline=\"hanging\" stroke=\"none\">Train: Batch Loss+Regularization</text></g><g stroke=\"hsl(65, 93%, 65%)\" stroke-linecap=\"round\" text-anchor=\"start\" stroke-width=\"1px\" font-size=\"12px\" font-style=\"normal\" font-weight=\"normal\" fill=\"hsl(65, 93%, 65%)\" stroke-linejoin=\"round\" font-family=\"sans-serif\" dominant-baseline=\"hanging\"><rect height=\"12\" vector-effect=\"non-scaling-stroke\" x=\"76\" y=\"456\" width=\"12\"/><g stroke=\"black\" fill=\"black\"><text stroke=\"none\" vector-effect=\"non-scaling-stroke\" x=\"92\" y=\"456\" dominant-baseline=\"hanging\">Train: Moving Average Loss</text></g><g font-family=\"sans-serif\" font-size=\"12px\" font-style=\"normal\" stroke=\"hsl(276, 81%, 65%)\" text-anchor=\"start\" fill=\"hsl(276, 81%, 65%)\" stroke-width=\"1px\" stroke-linejoin=\"round\" dominant-baseline=\"hanging\" stroke-linecap=\"round\" font-weight=\"normal\"><rect vector-effect=\"non-scaling-stroke\" x=\"76\" y=\"474\" width=\"12\" height=\"12\"/><g stroke=\"black\" fill=\"black\"><text y=\"474\" dominant-baseline=\"hanging\" stroke=\"none\" vector-effect=\"non-scaling-stroke\" x=\"92\">Train: Moving Average Loss+Regularization</text></g></g></g></g></g></g></g></g></g></svg>"
      ]
     },
     "metadata": {},
     "output_type": "display_data"
    },
    {
     "name": "stdout",
     "output_type": "stream",
     "text": [
      "\t[Step 20000] median train step: 1438 microseconds\n",
      "\n",
      "Results on Training:\n",
      "\tMean Loss+Regularization (#loss+): 1.154\n",
      "\tMean Loss (#loss): 0.517\n",
      "\tMean Accuracy (#acc): 84.22%\n",
      "Results on Validation:\n",
      "\tMean Loss+Regularization (#loss+): 1.475\n",
      "\tMean Loss (#loss): 0.839\n",
      "\tMean Accuracy (#acc): 71.90%\n",
      "\n"
     ]
    }
   ],
   "source": [
    "%% --model=cnn --steps=20000 --batch=50 --hidden_layers=2 --l2_reg=0.01 --dropout=0.1 --norm=batch --checkpoint=base_cnn_model\n",
    "trainModel()"
   ]
  }
 ],
 "metadata": {
  "kernelspec": {
   "display_name": "Go (gonb)",
   "language": "go",
   "name": "gonb"
  },
  "language_info": {
   "codemirror_mode": "",
   "file_extension": ".go",
   "mimetype": "",
   "name": "go",
   "nbconvert_exporter": "",
   "pygments_lexer": "",
   "version": "go1.22.1"
  }
 },
 "nbformat": 4,
 "nbformat_minor": 5
}
