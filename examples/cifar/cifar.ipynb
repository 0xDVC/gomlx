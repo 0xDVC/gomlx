{
 "cells": [
  {
   "cell_type": "markdown",
   "id": "f431da81-4d94-4fd1-8a51-952ef824cb46",
   "metadata": {},
   "source": [
    "# Cifar Library and Demo\n",
    "\n",
    "[This is a library](https://pkg.go.dev/github.com/gomlx/gomlx/examples/cifar) to download and parse the Cifar datasets (Cifar-10 and Cifar-100), and a very small demo of a FNN (Feedforward Neural Network) with GoMLX. FNNs are notoriously bad for images, but it's only a demo. Look for the Resnet50 model for a more serious image classification model (old but still good -- best results as of the time of this writing is with ViT model).\n",
    "\n",
    "The CIFAR-10 and CIFAR-100 are labeled subsets of the 80 million tiny images dataset. They were collected by Alex Krizhevsky, Vinod Nair, and Geoffrey Hinton. See more details in [its homepage here](https://www.cs.toronto.edu/~kriz/cifar.html).\n",
    "\n",
    "This notebook serves as documentation and example for the [github.com/gomlx/gomlx/examples/cifar](https://github.com/gomlx/gomlx/examples/cifar) library, and the demo code in one piece can be seen in [.../examples/cifar/demo/](https://github.com/gomlx/gomlx/tree/main/examples/cifar/demo)"
   ]
  },
  {
   "cell_type": "markdown",
   "id": "bd398a51-c10a-4d05-91f7-f978856a8d8b",
   "metadata": {},
   "source": [
    "## Environment Set Up\n",
    "\n",
    "Let's set up `go.mod` to use the local copy of GoMLX, so it can be developed jointly the dataset code with the model. That's often how data pre-processing and model code is developed together with experimentation.\n",
    "\n",
    "If you are not changing code, feel free to simply skip this cell. Or if you used a different directory for you projects, change it below.\n",
    "\n",
    "Notice the directory `${HOME}/Projects/gomlx` is where the GoMLX code is copied by default in [its Docker](https://hub.docker.com/repository/docker/janpfeifer/gomlx_jupyterlab/general)."
   ]
  },
  {
   "cell_type": "code",
   "execution_count": 1,
   "id": "22abc207-e8b0-44ef-840d-fee3550cffca",
   "metadata": {
    "tags": []
   },
   "outputs": [
    {
     "name": "stdout",
     "output_type": "stream",
     "text": [
      "\t- Added replace rule for module \"github.com/gomlx/gomlx\" to local directory \"/home/janpf/Projects/gomlx\".\n"
     ]
    }
   ],
   "source": [
    "!*rm -f go.work && go work init && go work use . \"${HOME}/Projects/gomlx\"\n",
    "%goworkfix"
   ]
  },
  {
   "cell_type": "markdown",
   "id": "443e9e56-ef12-4d04-b7bb-99478fa2b662",
   "metadata": {},
   "source": [
    "## Data Preparation\n",
    "\n",
    "### Downloading data files\n",
    "\n",
    "To download, uncompress and untar to the local directory, simply do the following. Notice if it's already downloaded in the given `--data` directory, it returns immediately."
   ]
  },
  {
   "cell_type": "code",
   "execution_count": 2,
   "id": "a61fdd1a-74a0-46f2-9cfc-f79bfa37e298",
   "metadata": {
    "tags": []
   },
   "outputs": [],
   "source": [
    "import (\n",
    "    \"github.com/gomlx/gomlx/examples/cifar\"\n",
    "    \"github.com/gomlx/gomlx/ml/data\"\n",
    "    \"github.com/janpfeifer/must\"\n",
    ")\n",
    "\n",
    "var flagDataDir = flag.String(\"data\", \"~/work/cifar\", \"Directory to cache downloaded and generated dataset files.\")\n",
    "\n",
    "func AssertDownloaded() {\n",
    "    *flagDataDir = data.ReplaceTildeInDir(*flagDataDir)\n",
    "    if !data.FileExists(*flagDataDir) {\n",
    "        must.M(os.MkdirAll(*flagDataDir, 0777))\n",
    "    }\n",
    "\n",
    "    must.M(cifar.DownloadCifar10(*flagDataDir))\n",
    "    must.M(cifar.DownloadCifar100(*flagDataDir))\n",
    "}\n",
    "\n",
    "%%\n",
    "AssertDownloaded()"
   ]
  },
  {
   "cell_type": "code",
   "execution_count": 3,
   "id": "345076ef-e2a3-4405-b47d-801c9ec62b91",
   "metadata": {
    "tags": []
   },
   "outputs": [
    {
     "name": "stdout",
     "output_type": "stream",
     "text": [
      "total 48K\n",
      "-rw-r--r-- 1 janpf janpf  358 Aug  2 10:32 a\n",
      "-rw-r--r-- 1 janpf janpf 3.7K Aug  2 10:25 b\n",
      "drwxr-x--- 2 janpf janpf 4.0K Aug  2 12:31 base_cnn_model\n",
      "drwxr-x--- 2 janpf janpf 4.0K Aug  2 12:10 base_fnn_model\n",
      "drwxr-x--- 2 janpf janpf 4.0K Aug  2 12:15 base_kan_model\n",
      "drwxr-xr-x 2 janpf janpf 4.0K Feb 20  2010 cifar-100-binary\n",
      "drwxr-xr-x 2 janpf janpf 4.0K Jun  4  2009 cifar-10-batches-bin\n",
      "drwxr-x--- 2 janpf janpf 4.0K Aug  2 09:51 cnn\n",
      "drwxr-x--- 2 janpf janpf 4.0K Aug  1 17:28 cnn_layer\n",
      "drwxr-x--- 2 janpf janpf 4.0K Jul 31 19:19 cnn_nonorm\n",
      "drwxr-x--- 2 janpf janpf 4.0K Jul 31 08:28 fnn_batchnorm_0\n",
      "drwxr-x--- 2 janpf janpf 4.0K Aug  1 14:24 fnn_layer\n"
     ]
    }
   ],
   "source": [
    "!ls -lh ~/work/cifar/"
   ]
  },
  {
   "cell_type": "markdown",
   "id": "93d4ae39-915c-478c-887f-b1c8c080865b",
   "metadata": {},
   "source": [
    "### Sample some images\n",
    "\n",
    "The `cifar.NewDataset` creates a `data.InMemoryDataset` that can be used both for training, evaluation, or just to sample a few examples, which we do below:"
   ]
  },
  {
   "cell_type": "code",
   "execution_count": 4,
   "id": "0dabc63a-b918-4065-9b23-0c5a22446458",
   "metadata": {
    "tags": []
   },
   "outputs": [
    {
     "data": {
      "text/html": [
       "<p>Samples Cifar-10</p>\n"
      ]
     },
     "metadata": {},
     "output_type": "display_data"
    },
    {
     "data": {
      "text/html": [
       "<table><tr>\n",
       "<td><figure style=\"padding:4px;text-align: center;\"><img width=\"64\" height=\"64\" src=\"data:image/png;base64,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\"><figcaption style=\"text-align: center;\">deer ([4])</figcaption></figure></td>\n",
       "<td><figure style=\"padding:4px;text-align: center;\"><img width=\"64\" height=\"64\" src=\"data:image/png;base64,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\"><figcaption style=\"text-align: center;\">dog ([5])</figcaption></figure></td>\n",
       "<td><figure style=\"padding:4px;text-align: center;\"><img width=\"64\" height=\"64\" src=\"data:image/png;base64,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\"><figcaption style=\"text-align: center;\">deer ([4])</figcaption></figure></td>\n",
       "<td><figure style=\"padding:4px;text-align: center;\"><img width=\"64\" height=\"64\" src=\"data:image/png;base64,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\"><figcaption style=\"text-align: center;\">automobile ([1])</figcaption></figure></td>\n",
       "<td><figure style=\"padding:4px;text-align: center;\"><img width=\"64\" height=\"64\" src=\"data:image/png;base64,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\"><figcaption style=\"text-align: center;\">cat ([3])</figcaption></figure></td>\n",
       "<td><figure style=\"padding:4px;text-align: center;\"><img width=\"64\" height=\"64\" src=\"data:image/png;base64,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\"><figcaption style=\"text-align: center;\">airplane ([0])</figcaption></figure></td>\n",
       "<td><figure style=\"padding:4px;text-align: center;\"><img width=\"64\" height=\"64\" src=\"data:image/png;base64,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\"><figcaption style=\"text-align: center;\">frog ([6])</figcaption></figure></td>\n",
       "<td><figure style=\"padding:4px;text-align: center;\"><img width=\"64\" height=\"64\" src=\"data:image/png;base64,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\"><figcaption style=\"text-align: center;\">cat ([3])</figcaption></figure></td>\n",
       "</tr></table>\n"
      ]
     },
     "metadata": {},
     "output_type": "display_data"
    },
    {
     "data": {
      "text/html": [
       "<p>Samples Cifar-100</p>\n"
      ]
     },
     "metadata": {},
     "output_type": "display_data"
    },
    {
     "data": {
      "text/html": [
       "<table><tr>\n",
       "<td><figure style=\"padding:4px;text-align: center;\"><img width=\"64\" height=\"64\" src=\"data:image/png;base64,iVBORw0KGgoAAAANSUhEUgAAACAAAAAgCAIAAAD8GO2jAAAKTUlEQVR4nBTVWZPcxmEAYADdaDSAAeY+dmb2EEntLilSFJfSxqIsyrFlxVKiqOKyH1xO5T2/JP8hr3lx8pBK3lzlKouxJTsyKUva5Z7Zg7NzYAYzg2NwNIBGN1L+A9/rB//ln/8Rx9b2jz4iQA/92Pcdz4t0tfH7r/6AFFgxqidHB7hc/asP/prEnobAzlavhAvHcy+vpyIQ6iaWk8TyyGQ2ngztREKNTstyPEYygzPdMMDDvfus1hsvw+XM4ZKSFnJWyEvPPzw8KvJ0/9HuRrNmzyZlU+GF5AXhcmGJYtFpdzKuGOVKt9cnqQBEjoFy/+HuG7u3saYlSRL6gYQQrtVg/9Yjx5kGrqUqSNG16c0oTlOklYDEXr9zu9Xq/vbwpN1dEzkr6wUoCk1T1ZJ5PU98UV1vd1C1ymgljI7qLdXUVZIk1ZK5udGXChFC4S/O/pu3sMQqRiWMApoQA8tYxcOR3Wqad+++fnx8oem40eiIAnIcT+v07txqz2wnoAgbHa2yFhHk+bmAShZ6M4HVmBdffPm82zI7TVPgBQkz8OF7e6ahmU0po2hqLSomRkiRETZUZOpqo1mVJM557qX5nAHbzVY+SUXdoXC5EgQRFlgVJKVdK7uryFqASGjVmt3Z9QGJw9lsUQAkhaw0nK+W0ySKPMPUEFZlKG5vtvd2txolWeSpHwYrmhLG506c5DkBslozZZ6nUZQlxFk4ACrbtxs4txRMc7pQqhXcvvX184OciUAUYRCEt27d6VWEdpIAACSRSwBwmhUFsyPy7MWpS9JSuZ7neU5hGEJHIFkwcvwoY5IspEa53a637HkwmXpcFlfujCzR2Vf/mxdif2M9JTHUzCYtd0+vD5pV9fbW2qvhhGSst9bIk9WLi2s7gTkTiO0LeZxnGYnIRbhCUEoyxplwUy5tbd9jLBhpKi0I8cMiZxffPTt++VxRlIOD7yCQoG1f09BO0qhs3vn3//jvo/Pzydxt1Ruf/e2PdQD4clw15LKOsCxpiq7jtiRJcZplaa6Vyt07j+qbd3kanR4fyNxMEvf8m89vri9kBOM4HtyM3nn8GKqA+sG802q///2349D58k/PW80qAPBqMGw1jV98+qhWqrNUSLMUQCQURRDHAOm7b+1hrQUhLBI7S4vKO/d+/ezZH3/3pS6jTqszGE4kUfIDMrUX4NOPnqqyCiXRmlqHx2e6hipmieV0d3fn4d7+F1++yLIiy1KXDrjEaSoWMnjw/Z+U1+8zxgtiO34aUXj83cE3355gw0B6OQ7dNEtESUlTChgDv/j5Z4ah5ryY2h7WTA3rQBA2eo0nTz68s/vo1cUJSVIZgMAhiwS27/6wee992Ny8nLnn5+c0SVuN8uDqLMpZCdFVJN7b/3Gt1ak1uq/t7PmrZey5MFhFGkZCXvQ7zbXN7am9GF8dNM0aQEhGsFExfZcKCn78d/+0vvNQ4EWrVgU005cBKCmRhJ+PokTu4ibhy0VvXSPTl858SSVVU9Fb73508d3vIJSEwc0oJuz+w/uL2Q1P00IQU+51er2U0rmzVCTx/vd+dHvvg4UXvlbR6hqYWU4uRP1Oh6TBVC45eeLanqS1KpgEjmVbI8v2TNOsNjsq1mGtVlFUJYyzkKQ5Y3Ec6FjCij4YXElQ8SN6/+He+u7j68v/CwnZrD9YOP7MmtAEpNyPIp/mEl+NA9cnaWLdXDKem4Z+dTnIk2AxvkhzAXJB4IzrikJoEvi+QLNmdwNU1p99/ts0jnSzcuutp9fj4MVX31ZMvNlZH1+dCyzV663D86vlwo79xdKeyLJSwsVyMfG8tFJB3bbqekGYFwXncDlbKFopKwRW5CxPIZSThG422j/92S+/+J9fv/HWE5ILk+s/myAyu7vTjE+CcGGvwMi3p0MSujeXx1FEBEmWOCEkK4o0CmnOeMEZoxwgCF8eH1aba2a52amZKfAtx6MCevvhPSCAjGM/pfl8mBJy690P9LU7s+vz0fAqy3IVYSimLI9UDbOcRHE4seYICmZJXi49SmkUMwj5BhZgd2vXCVZH33x7Z70vMzKfuT/45GdVs2KNRokoLiOSxllt+4HP1ME3L7zp5SpOYYGowARJJFmx8CIWrSjNJJFihKOYSpJIaYZEccNUNlEB9/ffPT07S0kym88X07GM/vKRtVjdzJyjaabV+0obzhe+kF/aw8v5cJSkOcKyzTVVTIGsI2z63qK+ttHd0mJvMh6MwyDKc17SNcnUFooMrdG1Y4/qhtZr1KXXN7kI5rPx4fn5q1AC9duSIk1fnV0e/AZgvdpYE0QWepMszWKG1zd6JQO3+70H33tSqXcQ4IvZpH5xcvjij5PhAMtQwaVOfw38/Yfv1ap1BZuioF6+spBSns2XLmzGoN2tgOf/9a9f/eZXKgaCAFarVNUABKKuKb1O1dDEJHbTlJqGak2tJA5gOqn1H1dbWyAcVk1crRhYBlCUtfnSOTk67nQ3ylVDEIsP/+HnXnnz7Gr67defTyeH3dubitaQUUnGJYFHCEkAl4xSKXBdmuTLRYBlpsqyCaha6yRmLx4Ouv217Y1eEBDGGfjppx/TNKmVy9VmLS/E+s5def3e3A8De6wA0uh2NcQ5XQmJGy2uVLkQOMOalhdSGCWrhVWSmSqlCGa2PTVbu6LWEwVRhGXCQMLQ1dUN6DTaEGmg3ivK/Xc+/sQlTFRLYs4IWRF3mYVLJFHI82q7gXXkTUYkzWVkMEpNNZ+Pb1bufDxajq/G7W4rz6g3TzVJynnmrohtDaJwBn7w/tuPnv5w7dGTcRi5YTy9PJVk0fFmyfhETGaRZydhaLSaRRrn4QrJShQxiIQkXM1HVuT5rUp7NJ7ef2NnMRzxy6+TPNSBSyfHnDgsI7fubEOaiQAAbzVDfDU//MPLL/608cY9hDlLEl7wVUSMRhtKogAxbmpTy1ZQHjjzxA0Wc7uiiFu9+t47v9Swdn58UFIeMCbRIquvdV6vtWJCavW6+NnfPC3Vmqpp+s4CQLZcOGYJN9a6crXBBZjTrOAUY1RQdv31UcoKQeZ5RDCAMkambgSEZow1TPPuzo6YJ2NrFMSxLCu6acZx4roOVDX99Pi0Wit7K6dsomoFqTiJ3VdiYIkiYALMGZv7gWfZWZxBs0XzXEeo3et3+/3BYNhoNrbW66G3iNPQdebW0qkZhixQnqW1SjmjDCaZtP/2u6/d3vbD8ODPvz8/HbI8oTnLKFOw0qxXdawYuhkxLQPKm6/vijSrlMuFwIbDay4U1Wop8pJqubm+2X81ACRMDaPUXFuTFeX0/BJJBaSMT2ZWp/9aTEJZwZ/85OOzsxNrdLO5tWlW6wjBRqMiA7Szm2S04HlOMlnTtEalrCvazWTur2IZFk/3P3jyeOfffvWfBUCCCGWgxCsiA1Ap1cD77+1XzLI9nYXBEiKmlVTHDa9ejWVZVVRNlBTOJMZ5uVyleZZm2cr3sSJBiUuiqMqiUPB2WczTbHI9Grw8MpodIBTXJydls7p774GULf8/AAD//zVwGh3JcJAgAAAAAElFTkSuQmCC\"><figcaption style=\"text-align: center;\">crocodile ([27])</figcaption></figure></td>\n",
       "<td><figure style=\"padding:4px;text-align: center;\"><img width=\"64\" height=\"64\" src=\"data:image/png;base64,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\"><figcaption style=\"text-align: center;\">mushroom ([51])</figcaption></figure></td>\n",
       "<td><figure style=\"padding:4px;text-align: center;\"><img width=\"64\" height=\"64\" src=\"data:image/png;base64,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\"><figcaption style=\"text-align: center;\">baby ([2])</figcaption></figure></td>\n",
       "<td><figure style=\"padding:4px;text-align: center;\"><img width=\"64\" height=\"64\" src=\"data:image/png;base64,iVBORw0KGgoAAAANSUhEUgAAACAAAAAgCAIAAAD8GO2jAAAHp0lEQVR4nERWS5PcRo4GkMgkWe+HWpKtlWw5vGHvff/T/oi97S/c25wmZhy2FFKru7qriq98AJjIas9MklEHRiUBfC8m/8///W9aN6freTw9b9dHXG1sxebMq+7AfaB1V/wfv/0+Xp8dl64M1xZ+e32Yl1s0B44MoKABgBfbUuhQH2WYCVfqyTgR0Jvvvm+Xy0JUgs+LEJd+ID3HceqHkM1S+fr16+PTU1HxzI6bIRq4RoGFXGQaO58bdqSdxB93y193rxYZRs1PmAcoGZT/3j+dLF4D2qvNhdEgTSlSintoQtJpvo7TOJfkAgcfHs+ne8gYOgFUUzHkggu1o9HH/eGX/f7y5dwpCUE2AUUS4M9UBtXSBSHwRgxWHDbO+YzWT1Iw5Sxg5BkBPn39etkv77xvBcEEDe6M3oT2w3Lx0353vf86nM/k2TsVAQJEANZl57IDMFMBMURjdp6BJqUoUuzaX82REeWYnr89ZCju4bIHz2BtR0dId0E+bPbldP52/21q29EsALGRRycEDGpBHQIAsPdEzo0ue0sekUH7YZim2a+WAHZ5Pi8E5f58+f+/rF3nEaPLD64cf/zpwvzH00NZdw8NjAKN8bIO4KIDJrOMamYOEYgS2Zjidsqd+WJ2idnUGjOM8fH+viRrDHeTHdbswZJit98D8qcvj/26fez815LFiACLgVhOxVhBJ8tFxQFOKUbTbPlQHBsm1QiGAC2izvP12l/ntOzWjWP2brlavN6tUsDekFfLcRm+aBzUSBDACoCaiAqLqIoC1osI0YCBAzuJUlkxqY8Iv51OD6cn14TFYcurLmxXzWoBgYkJNotTcF8sZjA0MDNVhcqqISATITMbARsSEIMyhcbMJIqKWiGCXMq3x0fw4fX3717d3W13627RoSfuGuqaU4u/63wmRaDa52291KjEIhJRFW3lAdQcOgDSWr+YGIhziI52x1fvf/jx+OqubQN7AkLuAi8XTwxfyngJloC4oBOrjd/WSw1W1aKliJCaY2/MWoRvvRiBc0gK3aL7+J8/N03XeM8OnQNm17Veu3Av/RUB0DkFNEBEs1qEKtxoZpxzzlpJZqA6mCmateyJoiHmnIbLdbM/rFcb9m3H3DgMTSW58e7ZyaOWGcELuuoiQAImttt6maDaWhDqL4GAqBYCa6pvLeb5dH6+f/gWYwSTRcOr1m/bsAq+8ewXzWB5sJIJiplWekHBFFXRsvyzb0VUAjMyQEMgsMqBWU7x+fxsSLvDkZlAiyddNG4VAhIWhxH0Oo1o4ogERAxMK7k3gm+EQlUmW0XFECt8DomRam5UBZdpmtq2PWx27NxtXkN2xtR4XzsoqTVaJJ1KRu9nAMGXKf5dgAAJzQjAITnEANQAOYUyJwL0XNF0t9B/2UPsFKtqNRdWOIbFG2g2SZsklLOZ1CZuunzxgYFxfQu6YuoMPFBj1BGRKiE5xyWnUkodFrEOWjtCzVI1BpbHic49S+5eHdDDY5rk9od/SchUKyZM5AAdUMvhuN4uQxvIsXPBe0RIOWutVzc4gIXzHuqWOcZPnz89ffpcns7vD8ePr7/bh9bqHH/q5zbK7Qar/nOIi6ZpiMscN+t1E5rgvffBVKUUNRNVyNKACxVOjJK/PHy7Pp1lminlJbm3611D7jZoBajWICQjUKqG9lQle395ijn5tgHE4LhtGiRKpeSSU06XYRhSUgI0dczShOc4F3JGbrj2KPp+tf9hvQs3zdoNJDJXtRkMlz5kB6c4CMDj5XwZ++pt98JqTlJSKX3OFy3ZGWhpm/bDf/26fP++eX3n1utcU4Z+Ob797+9/erfec2XbFCoHyFqR3a3WOWe5AXLt+ynFIvICZanP6ko5x1Lto6KIuDke3v78cf/uu6Sy6Lq3h7u3h1cNuo/v/mO7WNb+EMmJeYVtu9ivNppy6wMhZik32VcQPXtCKrcSNbhucFUazc7Xy0TK2+VlGlKMHfu+709Pp9b542rjFBwgA0BA1xDHGHMpJaZxiEshjzXBairC7YOnVkRSSjHFwkCubuzHcSbBRTOdziIwDEO8Dovlcrhe8xSZKN4ijrRkJJolX/v+81//dlS3P77VnFRLcP4l1nPJ4zhKKuRgE44QqgfJOXQ2xRkcxZzO42CoKY4UfO3VNKlwRkWwfhrmgoK222z3wC/KMSneebwJTkT6ub8WTXned2F/aNTU1ebKOI4eSE2fpl5EukUXBOaSElhBqJ9MArjGeYrSte3m7ZsDspvLfD6r1JwiYsAqSjTohyk9psfd+v3+AEZmlZLz9VpPI0hShADiKFjPatkIUIFdgaJWmDv0ZZLkZA6uYVc8lZJFm+AdIQbm6/kypYwOn87nlDN2DYBmUylpUHGOq/kFLFlYdjWUc9Uz1SOgKnu/WiyZSAGyinJ9pZjmUpAwNCGEZpqmmJOaXfq+HwY1LdUcKZWcRWKK6Wb4l9tq5t/S1AAMauDEFOtjBK0p7nzXUOPTLVsc1avrFqFp0LlhGi99X1TE/oxmuoVOLXk7iYzznFMyNVLlWl5lKqI4ixRAjWUuxO1ymRddOfXVWOxVdLvdTlOaSxLNwzSGlOYYa5Vbiy/ZWd/qVPLtu2PKKv8IAAD//5r5vncZDlxWAAAAAElFTkSuQmCC\"><figcaption style=\"text-align: center;\">dolphin ([30])</figcaption></figure></td>\n",
       "<td><figure style=\"padding:4px;text-align: center;\"><img width=\"64\" height=\"64\" src=\"data:image/png;base64,iVBORw0KGgoAAAANSUhEUgAAACAAAAAgCAIAAAD8GO2jAAAFUUlEQVR4nJRWTW8cxxGtj/6YXe6SMsm1LNKKDecDgeMgCXzJ1Yf8Zd+Tgw+GhQBJnAC24MCSQEmkKVLcj5nu6aoKelYSEnJXVOZAzHCnq/q9eu/1ODOD266Lny6fnTxdXi1iCPuzw4PZYTOJt65aX3itwfoREeu92vOnp4/+/ePZs9PVfG6KRG48mezPDg/vzg5n+9PdHWaC4d36d1h17XLXns2slLJardquvTi9ePboZDlftIvl5fmLxXKRi7gYZh/cXSw+fHl5GONItI+N/+jjn412mo0I3LXqRHR2evbgwYO2bYM5yPL4x0f/+se3J48fd7nNko0wjsf3jo/+8Pkf79//RUotouxOJ6PJERjADQz/22B4gYq9fHaWc9/N23/+7duHD79DlZ0Y9pog5MlF14xPT86/fPLlvdnRbP+Ob/j4+P2jj45uVt9AEQDsTHeWi8Vfv/7m7OS0pP7D2SGD5bQqOYMRiHIvR7t3lPDpk4ff//3FZ7//7OBgAlAA+CYE+u8HRBOQyXvTL/70hQcNIPfvHuwihNwFKB5Nu85LwXZeLk7L5fNpo9MxfvrpJ7/81Sdq5fYZAKiCIuHx/XvTGE6WVx0qpOId9FhWbbda5ZQ4eq6YRDKYphR99GEstdRtKsJhzoaoplbK/OJ8ZNIYrRZJGuxSzmba9yE0bVoReRLWZGQRIFwjYzNFYMzgCRwRY3CkApIu++VlvyLnGSkge2MHoU2oxM6hKUgPFfbG8jfaIgINjiGg6rYQfDHJKs57zw7MAvvoGzNUA3asg2/eEgcbVLR+l5CYyQ+XqqbUAUDfl+i561oi6vueAZhI1WB7gy3IENkxIqaUEDGEkFJe2xAQ+tw75xCxlMLMb/b0rg1w2L5z3gxEBJGIuM+9qRKhFFEzxw4BB3LeaGdzF3e9du2JjOzjyNgrOCYmhZEncySlq0FITOYMTQKjANSBmYFiNdpbG9jrLpV/doiERIhMZOjQCAaG6mwAkIG0Bq6IiqniFh1t+K8NcU21NDjnBpZRVQENQEQz1G0LIjCzqppqVdGWOWxQ0Ru2VM15B3W5Oef39qcTmLSrrutyTj05xz4gdLX6ppjbiuA1WXVXWPOpnkrBu67rFoulqsVYo5+IKiIzMa3nzabTZquKzCp0IwakiMy9OLDU9fOXaTFPhAGAq4dFClqGNwRtoGkzRab2ekc4Ho2sS1VMAMxeh7FWHxCa6eD9rfy8xcmGNSqoaZrD9w52m0ZRuqurYfj15xgjOTQRohbWVA7qe1cEiOSYqcaA5pyJqEi/JpqZB/dh34uYrp38/yGASkWNB0SYz69CKQGpy20q4pjX4eGdU5HFcmFa5bbe1Ts1GPhRJAuNJyum3A86zbq2h4kUUDcIgJwSghj2Wo9C3Ijl+oGzHtiQpFQ9qtbXtKS+SL1hB0ha04TEVLR6ZThqt4j0xoHzalLtfFG6VKsAdrlk0V6sGEmNC2/IalQMwHtkv7xqu2XaJiV3nSCEtOq++vNffvjue+9jM57ykKzMMYkk0fF0FGLsc2b249ik5ers7OKn52d7h3vVDzeQbGisRS7Ozi/OLx2yiVRTqNQgMq3Sr1PIRBB88BinzTQt2ic/PKpfLbfLdGgXXNyJ0+Pjj2e7My11nYowOyAsKsOnh2HNVu+oUUcJ9Juvvv7t57/bPzq4pcGrw4PQPB8cfcBuChiRaNQ0atanPL+6apoYYxyNxqY5pbkQnF688HsjwSG/1p7bimANw7uf/+bXO7vTO+/fHe3uhRAmk8lAXSkpD9VHznH9TJYeCHPJPsbxeDRwdJ2l/wQAAP//+iEDvyJwtBgAAAAASUVORK5CYII=\"><figcaption style=\"text-align: center;\">wardrobe ([94])</figcaption></figure></td>\n",
       "<td><figure style=\"padding:4px;text-align: center;\"><img width=\"64\" height=\"64\" src=\"data:image/png;base64,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\"><figcaption style=\"text-align: center;\">crab ([26])</figcaption></figure></td>\n",
       "<td><figure style=\"padding:4px;text-align: center;\"><img width=\"64\" height=\"64\" src=\"data:image/png;base64,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\"><figcaption style=\"text-align: center;\">table ([84])</figcaption></figure></td>\n",
       "<td><figure style=\"padding:4px;text-align: center;\"><img width=\"64\" height=\"64\" src=\"data:image/png;base64,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\"><figcaption style=\"text-align: center;\">poppy ([62])</figcaption></figure></td>\n",
       "</tr></table>\n"
      ]
     },
     "metadata": {},
     "output_type": "display_data"
    }
   ],
   "source": [
    "import (\n",
    "    \"strings\"\n",
    "    \"github.com/gomlx/gopjrt/dtypes\"\n",
    "    \"github.com/gomlx/gomlx/backends\"\n",
    "    \"github.com/gomlx/gomlx/examples/cifar\"\n",
    "    \"github.com/gomlx/gomlx/types/shapes\"\n",
    "    \"github.com/gomlx/gomlx/types/tensors/images\"\n",
    "    \"github.com/janpfeifer/gonb/gonbui\"\n",
    "\n",
    "    _ \"github.com/gomlx/gomlx/backends/xla\"\n",
    ")\n",
    "\n",
    "var (\n",
    "    // Model DType, used everywhere.\n",
    "    DType = dtypes.Float32\n",
    ")\n",
    "\n",
    "// sampleToNotebook generates a sample of Cifar-10 and Cifar-100 in a GoNB Jupyter Notebook.\n",
    "func sampleToNotebook() {\n",
    "    // Load data into tensors.\n",
    "    backend := backends.New()\n",
    "    ds10 := cifar.NewDataset(backend, \"Samples Cifar-10\", *flagDataDir, cifar.C10, DType, cifar.Train).Shuffle()\n",
    "    ds100 := cifar.NewDataset(backend, \"Samples Cifar-100\", *flagDataDir, cifar.C100, DType, cifar.Train).Shuffle()\n",
    "    sampleImages(ds10, 8, cifar.C10Labels)\n",
    "    sampleImages(ds100, 8, cifar.C100FineLabels)\n",
    "}\n",
    "\n",
    "// sampleTable generates and outputs one html table of samples, sampling rows x cols from the images/labels provided.\n",
    "func sampleImages(ds train.Dataset, numImages int, labelNames []string) {\n",
    "    gonbui.DisplayHTML(fmt.Sprintf(\"<p>%s</p>\\n\", ds.Name()))\n",
    "    \n",
    "    parts := make([]string, 0, numImages+5) // Leave last part empty.\n",
    "    parts = append(parts, \"<table><tr>\")\n",
    "    for ii := 0; ii < numImages; ii++ {\n",
    "        _, inputs, labels := must.M3(ds.Yield())\n",
    "        imgTensor := inputs[0]\n",
    "        img := images.ToImage().Single(imgTensor)\n",
    "        label := labels[0].Value().([]int64)\n",
    "        labelStr := labelNames[label[0]]\n",
    "    \n",
    "        imgSrc := must.M1(gonbui.EmbedImageAsPNGSrc(img))\n",
    "        size := imgTensor.Shape().Dimensions[0]\n",
    "        parts = append(\n",
    "            parts, \n",
    "            fmt.Sprintf(`<td><figure style=\"padding:4px;text-align: center;\"><img width=\"%d\" height=\"%d\" src=\"%s\">` + \n",
    "                        `<figcaption style=\"text-align: center;\">%s (%d)</figcaption></figure></td>`, \n",
    "                        size*2, size*2, imgSrc, labelStr, label),\n",
    "        )\n",
    "    }\n",
    "    parts = append(parts, \"</tr></table>\", \"\")\n",
    "    gonbui.DisplayHTML(strings.Join(parts, \"\\n\"))\n",
    "}\n",
    "\n",
    "%%\n",
    "AssertDownloaded()\n",
    "sampleToNotebook()"
   ]
  },
  {
   "cell_type": "markdown",
   "id": "7fa8c06c-ede0-4cd1-80bd-9331422e3a63",
   "metadata": {},
   "source": [
    "## Training on Cifar-10\n",
    "\n",
    "### Models Support\n",
    "\n",
    "1. `flagModel` defines the model type, out of `validModels` options.\n",
    "1. `createDefaultContex` creates a context and set the default values for the CIFAR models. \n",
    "1. `contextFromSettings` uses `createDefaultContext` and incorporate changes passed by the `-set` flag.\n"
   ]
  },
  {
   "cell_type": "code",
   "execution_count": 10,
   "id": "c8d3c19e-af0c-4fef-a76c-dabb375972d0",
   "metadata": {
    "tags": []
   },
   "outputs": [
    {
     "name": "stdout",
     "output_type": "stream",
     "text": [
      "Model types: [\"fnn\" \"kan\" \"cnn\"]\n",
      "Parameters set (-set): [\"batch_size\" \"fnn_num_hidden_layers\"]\n",
      "Context hyperparameters:\n",
      "\t\"activation\": (string) swish\n",
      "\t\"adam_dtype\": (string) \n",
      "\t\"adam_epsilon\": (float64) 1e-07\n",
      "\t\"batch_size\": (int) 17\n",
      "\t\"checkpoint\": (string) \n",
      "\t\"cosine_schedule_steps\": (int) 0\n",
      "\t\"dropout_rate\": (float64) 0\n",
      "\t\"eval_batch_size\": (int) 200\n",
      "\t\"fnn_dropout_rate\": (float64) -1\n",
      "\t\"fnn_normalization\": (string) \n",
      "\t\"fnn_num_hidden_layers\": (int) 12\n",
      "\t\"fnn_num_hidden_nodes\": (int) 128\n",
      "\t\"fnn_residual\": (bool) true\n",
      "\t\"kan_bspline_degree\": (int) 2\n",
      "\t\"kan_bspline_magnitude_l1\": (float64) 1e-05\n",
      "\t\"kan_bspline_magnitude_l2\": (float64) 0\n",
      "\t\"kan_discrete\": (bool) false\n",
      "\t\"kan_discrete_softness\": (float64) 0.1\n",
      "\t\"kan_num_hidden_layers\": (int) 4\n",
      "\t\"kan_num_hidden_nodes\": (int) 64\n",
      "\t\"kan_num_points\": (int) 10\n",
      "\t\"l1_regularization\": (float64) 1e-05\n",
      "\t\"l2_regularization\": (float64) 1e-05\n",
      "\t\"learning_rate\": (float64) 0.0001\n",
      "\t\"model\": (string) fnn\n",
      "\t\"normalization\": (string) none\n",
      "\t\"num_checkpoints\": (int) 3\n",
      "\t\"optimizer\": (string) adamw\n",
      "\t\"plots\": (bool) true\n",
      "\t\"train_steps\": (int) 3000\n"
     ]
    }
   ],
   "source": [
    "import (\n",
    "    \"flags\"\n",
    "    \n",
    "    \"github.com/gomlx/gomlx/ml/layers\"\n",
    "    \"github.com/gomlx/gomlx/ml/layers/fnn\"\n",
    "    \"github.com/gomlx/gomlx/ml/layers/kan\"\n",
    "    \"github.com/gomlx/gomlx/ml/layers/regularizers\"\n",
    "    \"github.com/gomlx/gomlx/ml/train/commandline\"\n",
    "    \"github.com/gomlx/gomlx/ml/train/optimizers\"\n",
    "    \"github.com/gomlx/gomlx/examples/cifar\"\n",
    "    \"github.com/gomlx/gomlx/ml/context\"\n",
    ")\n",
    "\n",
    "var (\n",
    "    // ValidModels is the list of model types supported.\n",
    "    ValidModels = []string{\"fnn\", \"kan\", \"cnn\"}\n",
    "\tflagEval      = flag.Bool(\"eval\", true, \"Whether to evaluate the model on the validation data in the end.\")\n",
    "\tflagVerbosity = flag.Int(\"verbosity\", 1, \"Level of verbosity, the higher the more verbose.\")\n",
    ")\n",
    "\n",
    "// settings is bound to a \"-set\" flag to be used to set context hyperparameters.\n",
    "var settings = commandline.CreateContextSettingsFlag(createDefaultContext(), \"set\")\n",
    "\n",
    "// createDefaultContext sets the context with default hyperparameters\n",
    "func createDefaultContext() *context.Context {\n",
    "\tctx := context.New()\n",
    "\tctx.RngStateReset()\n",
    "\tctx.SetParams(map[string]any{\n",
    "        // Model type to use: valid values are fnn, kan and cnn.\n",
    "\t\t\"model\":           cifar.C10ValidModels[0],\n",
    "\t\t\"checkpoint\":      \"\",\n",
    "\t\t\"num_checkpoints\": 3,\n",
    "\t\t\"train_steps\":     3000,\n",
    "\n",
    "\t\t// batch_size for training.\n",
    "\t\t\"batch_size\": 64,\n",
    "\n",
    "\t\t// eval_batch_size can be larger than training, it's more efficient.\n",
    "\t\t\"eval_batch_size\": 200,\n",
    "\n",
    "\t\t// \"plots\" trigger generating intermediary eval data for plotting, and if running in GoNB, to actually\n",
    "\t\t// draw the plot with Plotly.\n",
    "\t\tplotly.ParamPlots: true,\n",
    "\n",
    "\t\t// If \"normalization\" is set, it overrides \"fnn_normalization\" and \"cnn_normalization\".\n",
    "\t\tlayers.ParamNormalization: \"none\",\n",
    "\n",
    "\t\toptimizers.ParamOptimizer:           \"adamw\",\n",
    "\t\toptimizers.ParamLearningRate:        1e-4,\n",
    "\t\toptimizers.ParamAdamEpsilon:         1e-7,\n",
    "\t\toptimizers.ParamAdamDType:           \"\",\n",
    "\t\toptimizers.ParamCosineScheduleSteps: 0,\n",
    "\t\tactivations.ParamActivation:         \"swish\",\n",
    "\t\tlayers.ParamDropoutRate:             0.0,\n",
    "\t\tregularizers.ParamL2:                1e-5,\n",
    "\t\tregularizers.ParamL1:                1e-5,\n",
    "\n",
    "\t\t// FNN network parameters:\n",
    "\t\tfnn.ParamNumHiddenLayers: 8,\n",
    "\t\tfnn.ParamNumHiddenNodes:  128,\n",
    "\t\tfnn.ParamResidual:        true,\n",
    "\t\tfnn.ParamNormalization:   \"\",   // Set to none for no normalization, otherwise it falls back to layers.ParamNormalization.\n",
    "\t\tfnn.ParamDropoutRate:     -1.0, // Set to 0.0 for no dropout, otherwise it falls back to layers.ParamDropoutRate.\n",
    "\n",
    "\t\t// KAN network parameters:\n",
    "\t\tkan.ParamNumControlPoints:   10, // Number of control points\n",
    "\t\tkan.ParamNumHiddenNodes:     64,\n",
    "\t\tkan.ParamNumHiddenLayers:    4,\n",
    "\t\tkan.ParamBSplineDegree:      2,\n",
    "\t\tkan.ParamBSplineMagnitudeL1: 1e-5,\n",
    "\t\tkan.ParamBSplineMagnitudeL2: 0.0,\n",
    "\t\tkan.ParamDiscrete:           false,\n",
    "\t\tkan.ParamDiscreteSoftness:   0.1,\n",
    "\t})\n",
    "\treturn ctx\n",
    "}\n",
    "\n",
    "// ContextFromSettings is the default context (createDefaultContext) changed by -set flag.\n",
    "func ContextFromSettings() (ctx *context.Context, paramsSet []string) {\n",
    "    ctx = createDefaultContext()\n",
    "    paramsSet = must.M1(commandline.ParseContextSettings(ctx, *settings))\n",
    "    return\n",
    "}\n",
    "\n",
    "// Let's test that we can set hyperparameters by setting it in the \"-set\" flag:\n",
    "%% -set=\"batch_size=17;fnn_num_hidden_layers=12\"\n",
    "fmt.Printf(\"Model types: %q\\n\", cifar.C10ValidModels)\n",
    "ctx, parametersSet := ContextFromSettings()\n",
    "fmt.Printf(\"Parameters set (-set): %q\\n\", parametersSet)\n",
    "fmt.Println(commandline.SprintContextSettings(ctx))"
   ]
  },
  {
   "cell_type": "markdown",
   "id": "f771ca6f-5912-4406-9f2a-a838fd7cd065",
   "metadata": {},
   "source": [
    "### Simple FNN model\n",
    "\n",
    "A trivial model, that can easily get to ~50% accuracy (a random model would do 10%), but hardly much more than that.\n",
    "\n",
    "Later we are going to define a CNN model to compare, and we just set a placeholder model here for now.\n",
    "\n",
    "> **Note**: \n",
    ">\n",
    "> * The code is here just to exemplify. We are actually using the same code from the [`cifar`](https://github.com/gomlx/gomlx/tree/main/examples/cifar) package."
   ]
  },
  {
   "cell_type": "code",
   "execution_count": 12,
   "id": "0ac4e4da-2c3b-431c-9e54-00e31045785f",
   "metadata": {
    "tags": []
   },
   "outputs": [
    {
     "name": "stdout",
     "output_type": "stream",
     "text": [
      "Logits shape for batch_size=7: (Float32)[7 10]\n"
     ]
    }
   ],
   "source": [
    "import (\n",
    "    \"flags\"    \n",
    "    . \"github.com/gomlx/gomlx/graph\"\n",
    "    \"github.com/gomlx/gomlx/examples/cifar\"\n",
    "    \"github.com/gomlx/gomlx/ml/context\"\n",
    "    \"github.com/gomlx/gomlx/ml/train/optimizers\"\n",
    "    \"github.com/gomlx/gomlx/types/shapes\"\n",
    ")\n",
    "\n",
    "var _ = NewGraph  // Make sure the graph package is in use.\n",
    "\n",
    "// C10PlainModelGraph implements train.ModelFn, and returns the logit Node, given the input image.\n",
    "// It's a basic FNN (Feedforward Neural Network), so no convolutions. It is meant only as an example.\n",
    "func C10PlainModelGraph(ctx *context.Context, spec any, inputs []*graph.Node) []*graph.Node {\n",
    "    _ = spec  // Not needed, the input type is always the same.\n",
    "\tctx = ctx.In(\"model\")\n",
    "\tbatchedImages := inputs[0]\n",
    "\tbatchSize := batchedImages.Shape().Dimensions[0]\n",
    "\tlogits := graph.Reshape(batchedImages, batchSize, -1)\n",
    "\tnumClasses := len(cifar.C10Labels)\n",
    "\tmodelType := context.GetParamOr(ctx, \"model\", cifar.C10ValidModels[0])\n",
    "\tif modelType == \"kan\" {\n",
    "\t\t// Configuration of the KAN layer(s) use the context hyperparameters.\n",
    "\t\tlogits = kan.New(ctx, logits, numClasses).Done()\n",
    "\t} else {\n",
    "\t\t// Configuration of the FNN layer(s) use the context hyperparameters.\n",
    "\t\tlogits = fnn.New(ctx, logits, numClasses).Done()\n",
    "\t}\n",
    "\tlogits.AssertDims(batchSize, numClasses)\n",
    "\treturn []*graph.Node{logits}\n",
    "}\n",
    "\n",
    "%% -set=\"batch_size=7\"\n",
    "// Let's test that the logits are coming out with the right shape: we want [batch_size, 10], since there are 10 classes.\n",
    "AssertDownloaded()\n",
    "ctx, _ := ContextFromSettings()\n",
    "g := NewGraph(backends.New(), \"placeholder\")\n",
    "batchSize := context.GetParamOr(ctx, \"batch_size\", int(100))\n",
    "logits := C10PlainModelGraph(ctx, nil, []*Node{Parameter(g, \"images\", shapes.Make(DType, batchSize, cifar.Height, cifar.Width, cifar.Depth))})\n",
    "fmt.Printf(\"Logits shape for batch_size=%d: %s\\n\", batchSize, logits[0].Shape())"
   ]
  },
  {
   "cell_type": "markdown",
   "id": "aef7d6ee-ca2b-40c7-ac3d-4242ecd8ed1b",
   "metadata": {},
   "source": [
    "### Training Loop\n",
    "\n",
    "With a model function defined, we use the training loop create for the Cifar10.\n",
    "\n",
    "The trainer is provided in the [`cifar` package](https://github.com/gomlx/gomlx/tree/main/examples/cifar). It is straight forward (and almost the same for every different project) and does the following for us:\n",
    "\n",
    "- If a checkpoing is given (--checkpoint) and it has previously saved model, it loads hyperparmeters and trained variables.\n",
    "- Create trainer: with selected model function (see [Simple FNN model](#Simple-FNN-model) and [CNN model for Cifar10](#CNN-model-for-Cifar10) sections), optimizer, loss and metrics.\n",
    "- Create a `train.Loop` and attach to it a progressbar, a periodic checkpoint saver and a plotter (`--set=\"plots=true\"`).\n",
    "- Train the selected number of train steps.\n",
    "- Report results.\n",
    "\n",
    "Below we train 50 steps with the default settings just to check things are working."
   ]
  },
  {
   "cell_type": "code",
   "execution_count": 14,
   "id": "d72336ef-d96d-4d98-a3a6-5df912be5f24",
   "metadata": {
    "tags": []
   },
   "outputs": [
    {
     "name": "stdout",
     "output_type": "stream",
     "text": [
      "Backend \"xla\":\txla:cuda - PJRT \"cuda\" plugin (/usr/local/lib/gomlx/pjrt/pjrt_c_api_cuda_plugin.so) v0.54\n",
      "Model: fnn\n",
      "Training (50 steps):  100% [\u001b[32m=\u001b[0m\u001b[32m=\u001b[0m\u001b[32m=\u001b[0m\u001b[32m=\u001b[0m\u001b[32m=\u001b[0m\u001b[32m=\u001b[0m\u001b[32m=\u001b[0m\u001b[32m=\u001b[0m\u001b[32m=\u001b[0m\u001b[32m=\u001b[0m\u001b[32m=\u001b[0m\u001b[32m=\u001b[0m\u001b[32m=\u001b[0m\u001b[32m=\u001b[0m\u001b[32m=\u001b[0m\u001b[32m=\u001b[0m\u001b[32m=\u001b[0m\u001b[32m=\u001b[0m\u001b[32m=\u001b[0m\u001b[32m=\u001b[0m\u001b[32m=\u001b[0m\u001b[32m=\u001b[0m\u001b[32m=\u001b[0m\u001b[32m=\u001b[0m\u001b[32m=\u001b[0m\u001b[32m=\u001b[0m\u001b[32m=\u001b[0m\u001b[32m=\u001b[0m\u001b[32m=\u001b[0m\u001b[32m=\u001b[0m\u001b[32m=\u001b[0m\u001b[32m=\u001b[0m\u001b[32m=\u001b[0m\u001b[32m=\u001b[0m\u001b[32m=\u001b[0m\u001b[32m=\u001b[0m\u001b[32m=\u001b[0m\u001b[32m=\u001b[0m\u001b[32m=\u001b[0m\u001b[32m=\u001b[0m] (31 steps/s)\u001b[0m [step=49] [loss+=2.207] [~loss+=2.348] [~loss=2.217] [~acc=17.16%]         \n",
      "\t[Step 50] median train step: 836 microseconds\n",
      "\n",
      "Results on Validation:\n",
      "\tMean Loss+Regularization (#loss+): 2.244\n",
      "\tMean Loss (#loss): 2.112\n",
      "\tMean Accuracy (#acc): 23.40%\n",
      "Results on Training:\n",
      "\tMean Loss+Regularization (#loss+): 2.243\n",
      "\tMean Loss (#loss): 2.112\n",
      "\tMean Accuracy (#acc): 23.56%\n"
     ]
    }
   ],
   "source": [
    "var flagCheckpoint = flag.String(\"checkpoint\", \"\", \"Directory save and load checkpoints from. If left empty, no checkpoints are created.\")\n",
    "\n",
    "// trainModel with hyperparameters configured with `-set=...`.\n",
    "func trainModel() {\n",
    "    ctx, paramsSet := ContextFromSettings()\n",
    "    cifar.TrainCifar10Model(ctx, *flagDataDir, *flagCheckpoint, *flagEval, *flagVerbosity, paramsSet)\n",
    "}\n",
    "\n",
    "// Train 50 steps, only to test things are working. No plots.\n",
    "%% --set=\"train_steps=50;plots=false\"\n",
    "trainModel()"
   ]
  },
  {
   "cell_type": "markdown",
   "id": "300a8419-5679-42ba-9149-51c17c7c427d",
   "metadata": {},
   "source": [
    "### FNN Model Training\n",
    "\n",
    "Let's train the FNN for real this time."
   ]
  },
  {
   "cell_type": "code",
   "execution_count": 15,
   "id": "4de9b879-4790-4aac-ace7-3c8a348ac961",
   "metadata": {},
   "outputs": [],
   "source": [
    "// Remove a previously trained model. Skip this if you want to continue training a previous model.\n",
    "!rm -rf ~/work/cifar/base_fnn_model  "
   ]
  },
  {
   "cell_type": "code",
   "execution_count": 16,
   "id": "cf876f49-e737-4dfa-aa05-48aad3d7a128",
   "metadata": {
    "tags": []
   },
   "outputs": [
    {
     "name": "stdout",
     "output_type": "stream",
     "text": [
      "Backend \"xla\":\txla:cuda - PJRT \"cuda\" plugin (/usr/local/lib/gomlx/pjrt/pjrt_c_api_cuda_plugin.so) v0.54\n",
      "Checkpointing model to \"/home/janpf/work/cifar/base_fnn_model\"\n",
      "Model: fnn\n"
     ]
    },
    {
     "data": {
      "text/html": []
     },
     "metadata": {},
     "output_type": "display_data"
    },
    {
     "name": "stdout",
     "output_type": "stream",
     "text": [
      "Training (10000 steps):    7% [\u001b[32m=\u001b[0m\u001b[32m>\u001b[0m......................................] (473 steps/s) [2s:19s]\u001b[0m [step=719] [loss+=1.786] [~loss+=1.918] [~loss=1.788] [~acc=36.50%]        "
     ]
    },
    {
     "data": {
      "text/html": []
     },
     "metadata": {},
     "output_type": "display_data"
    },
    {
     "name": "stdout",
     "output_type": "stream",
     "text": [
      "Training (10000 steps):  100% [\u001b[32m=\u001b[0m\u001b[32m=\u001b[0m\u001b[32m=\u001b[0m\u001b[32m=\u001b[0m\u001b[32m=\u001b[0m\u001b[32m=\u001b[0m\u001b[32m=\u001b[0m\u001b[32m=\u001b[0m\u001b[32m=\u001b[0m\u001b[32m=\u001b[0m\u001b[32m=\u001b[0m\u001b[32m=\u001b[0m\u001b[32m=\u001b[0m\u001b[32m=\u001b[0m\u001b[32m=\u001b[0m\u001b[32m=\u001b[0m\u001b[32m=\u001b[0m\u001b[32m=\u001b[0m\u001b[32m=\u001b[0m\u001b[32m=\u001b[0m\u001b[32m=\u001b[0m\u001b[32m=\u001b[0m\u001b[32m=\u001b[0m\u001b[32m=\u001b[0m\u001b[32m=\u001b[0m\u001b[32m=\u001b[0m\u001b[32m=\u001b[0m\u001b[32m=\u001b[0m\u001b[32m=\u001b[0m\u001b[32m=\u001b[0m\u001b[32m=\u001b[0m\u001b[32m=\u001b[0m\u001b[32m=\u001b[0m\u001b[32m=\u001b[0m\u001b[32m=\u001b[0m\u001b[32m=\u001b[0m\u001b[32m=\u001b[0m\u001b[32m=\u001b[0m\u001b[32m=\u001b[0m\u001b[32m=\u001b[0m] (917 steps/s)\u001b[0m [step=9999] [loss+=1.480] [~loss+=1.427] [~loss=1.299] [~acc=53.71%]         \n"
     ]
    },
    {
     "data": {
      "text/html": [
       "<p><b>Metric: accuracy</b></p>\n"
      ]
     },
     "metadata": {},
     "output_type": "display_data"
    },
    {
     "data": {
      "text/html": [
       "<div id=\"3c77363d\"></div>"
      ]
     },
     "metadata": {},
     "output_type": "display_data"
    },
    {
     "data": {
      "text/html": [
       "<script charset=\"UTF-8\">\n",
       "(() => {\n",
       "\tconst src=\"https://cdn.plot.ly/plotly-2.29.1.min.js\";\n",
       "\tvar runJSFn = function(module) {\n",
       "\t\t\n",
       "\tif (!module) {\n",
       "\t\tmodule = window.Plotly;\n",
       "\t}\n",
       "\tlet data = JSON.parse('{\"data\":[{\"type\":\"scatter\",\"line\":{\"shape\":\"linear\"},\"mode\":\"lines+markers\",\"name\":\"Train: Moving Average Accuracy\",\"x\":[200,440,728,1074,1489,1987,2585,3303,4165,5199,6440,7929,9716,10000],\"y\":[0.2818499207496643,0.3293132185935974,0.36859703063964844,0.391838937997818,0.4136028587818146,0.4266512393951416,0.44145190715789795,0.4637405574321747,0.47560957074165344,0.4921737015247345,0.5025885105133057,0.5294041633605957,0.5449215173721313,0.5370837450027466]},{\"type\":\"scatter\",\"line\":{\"shape\":\"linear\"},\"mode\":\"lines+markers\",\"name\":\"Eval on Training: Mean Accuracy\",\"x\":[200,440,728,1074,1489,1987,2585,3303,4165,5199,6440,7929,9716,10000],\"y\":[0.3213599920272827,0.3453799784183502,0.3688199818134308,0.402539998292923,0.4357199966907501,0.4400399923324585,0.456419974565506,0.4639599919319153,0.4790399968624115,0.48853999376296997,0.49695998430252075,0.5206199884414673,0.534500002861023,0.5496199727058411]},{\"type\":\"scatter\",\"line\":{\"shape\":\"linear\"},\"mode\":\"lines+markers\",\"name\":\"Eval on Validation: Mean Accuracy\",\"x\":[200,440,728,1074,1489,1987,2585,3303,4165,5199,6440,7929,9716,10000],\"y\":[0.3239000141620636,0.34320002794265747,0.37060001492500305,0.40400001406669617,0.4345000088214874,0.43640002608299255,0.44940000772476196,0.4545000195503235,0.46380001306533813,0.47200003266334534,0.4741000235080719,0.4953000247478485,0.5006000399589539,0.5130000114440918]}],\"layout\":{\"legend\":{},\"title\":{\"text\":\"accuracy\"},\"xaxis\":{\"showgrid\":true,\"type\":\"log\"},\"yaxis\":{\"showgrid\":true,\"type\":\"log\"}}}');\n",
       "\tmodule.newPlot('3c77363d', data);\n",
       "\n",
       "\t}\n",
       "\t\n",
       "    if (typeof requirejs === \"function\") {\n",
       "        // Use RequireJS to load module.\n",
       "\t\tlet srcWithoutExtension = src.substring(0, src.lastIndexOf(\".js\"));\n",
       "        requirejs.config({\n",
       "            paths: {\n",
       "                'plotly': srcWithoutExtension\n",
       "            }\n",
       "        });\n",
       "        require(['plotly'], function(plotly) {\n",
       "            runJSFn(plotly)\n",
       "        });\n",
       "        return\n",
       "    }\n",
       "\n",
       "\tvar currentScripts = document.head.getElementsByTagName(\"script\");\n",
       "\tfor (const idx in currentScripts) {\n",
       "\t\tlet script = currentScripts[idx];\n",
       "\t\tif (script.src == src) {\n",
       "\t\t\trunJSFn(null);\n",
       "\t\t\treturn;\n",
       "\t\t}\n",
       "\t}\n",
       "\n",
       "\tvar script = document.createElement(\"script\");\n",
       "\n",
       "\tscript.charset = \"utf-8\";\n",
       "\t\n",
       "\tscript.src = src;\n",
       "\tscript.onload = script.onreadystatechange = function () { runJSFn(null); };\n",
       "\tdocument.head.appendChild(script);\t\n",
       "})();\n",
       "</script>"
      ]
     },
     "metadata": {},
     "output_type": "display_data"
    },
    {
     "data": {
      "text/html": [
       "<p><b>Metric: loss</b></p>\n"
      ]
     },
     "metadata": {},
     "output_type": "display_data"
    },
    {
     "data": {
      "text/html": [
       "<div id=\"1d8ecc55\"></div>"
      ]
     },
     "metadata": {},
     "output_type": "display_data"
    },
    {
     "data": {
      "text/html": [
       "<script charset=\"UTF-8\">\n",
       "(() => {\n",
       "\tconst src=\"https://cdn.plot.ly/plotly-2.29.1.min.js\";\n",
       "\tvar runJSFn = function(module) {\n",
       "\t\t\n",
       "\tif (!module) {\n",
       "\t\tmodule = window.Plotly;\n",
       "\t}\n",
       "\tlet data = JSON.parse('{\"data\":[{\"type\":\"scatter\",\"line\":{\"shape\":\"linear\"},\"mode\":\"lines+markers\",\"name\":\"Train: Batch Loss+Regularization\",\"x\":[200,440,728,1074,1489,1987,2585,3303,4165,5199,6440,7929,9716,10000],\"y\":[1.9536669254302979,2.2418980598449707,1.9960942268371582,1.8158888816833496,1.5749789476394653,1.7953269481658936,1.8133363723754883,1.7916077375411987,1.5042328834533691,1.4135030508041382,1.5284721851348877,1.3952741622924805,1.399922251701355,1.4797977209091187]},{\"type\":\"scatter\",\"line\":{\"shape\":\"linear\"},\"mode\":\"lines+markers\",\"name\":\"Train: Moving Average Loss+Regularization\",\"x\":[200,440,728,1074,1489,1987,2585,3303,4165,5199,6440,7929,9716,10000],\"y\":[2.141721487045288,2.017352342605591,1.9160960912704468,1.8320170640945435,1.7878546714782715,1.736892819404602,1.7020416259765625,1.6312665939331055,1.587218999862671,1.551424503326416,1.5142275094985962,1.4480375051498413,1.409915566444397,1.4272526502609253]},{\"type\":\"scatter\",\"line\":{\"shape\":\"linear\"},\"mode\":\"lines+markers\",\"name\":\"Train: Moving Average Loss\",\"x\":[200,440,728,1074,1489,1987,2585,3303,4165,5199,6440,7929,9716,10000],\"y\":[2.0106430053710938,1.886865258216858,1.786112904548645,1.7023898363113403,1.6585015058517456,1.6077699661254883,1.57318913936615,1.5026880502700806,1.4588760137557983,1.423301339149475,1.3862372636795044,1.3201812505722046,1.2820507287979126,1.2993849515914917]},{\"type\":\"scatter\",\"line\":{\"shape\":\"linear\"},\"mode\":\"lines+markers\",\"name\":\"Eval on Training: Mean Loss+Regularization\",\"x\":[200,440,728,1074,1489,1987,2585,3303,4165,5199,6440,7929,9716,10000],\"y\":[2.0422310829162598,1.968492031097412,1.9087222814559937,1.8264580965042114,1.7352454662322998,1.7129087448120117,1.6588222980499268,1.6426255702972412,1.5913161039352417,1.575993299484253,1.521225929260254,1.4666699171066284,1.417260766029358,1.393428921699524]},{\"type\":\"scatter\",\"line\":{\"shape\":\"linear\"},\"mode\":\"lines+markers\",\"name\":\"Eval on Training: Mean Loss\",\"x\":[200,440,728,1074,1489,1987,2585,3303,4165,5199,6440,7929,9716,10000],\"y\":[1.9113960266113281,1.8382272720336914,1.778880000114441,1.696912407875061,1.6059454679489136,1.5838242769241333,1.5300155878067017,1.514074444770813,1.46298086643219,1.4478821754455566,1.3932390213012695,1.33881413936615,1.2893747091293335,1.2655611038208008]},{\"type\":\"scatter\",\"line\":{\"shape\":\"linear\"},\"mode\":\"lines+markers\",\"name\":\"Eval on Validation: Mean Loss+Regularization\",\"x\":[200,440,728,1074,1489,1987,2585,3303,4165,5199,6440,7929,9716,10000],\"y\":[2.0450568199157715,1.971006155014038,1.9069997072219849,1.8249844312667847,1.7422093152999878,1.7273766994476318,1.6778600215911865,1.6665350198745728,1.6300363540649414,1.6249034404754639,1.5761994123458862,1.547921061515808,1.5181270837783813,1.491601824760437]},{\"type\":\"scatter\",\"line\":{\"shape\":\"linear\"},\"mode\":\"lines+markers\",\"name\":\"Eval on Validation: Mean Loss\",\"x\":[200,440,728,1074,1489,1987,2585,3303,4165,5199,6440,7929,9716,10000],\"y\":[1.9142227172851562,1.8407424688339233,1.7771575450897217,1.6954381465911865,1.6129093170166016,1.5982931852340698,1.5490531921386719,1.5379842519760132,1.5017012357711792,1.4967937469482422,1.4482126235961914,1.4200658798217773,1.3902405500411987,1.3637343645095825]}],\"layout\":{\"legend\":{},\"title\":{\"text\":\"loss\"},\"xaxis\":{\"showgrid\":true,\"type\":\"log\"},\"yaxis\":{\"showgrid\":true,\"type\":\"log\"}}}');\n",
       "\tmodule.newPlot('1d8ecc55', data);\n",
       "\n",
       "\t}\n",
       "\t\n",
       "    if (typeof requirejs === \"function\") {\n",
       "        // Use RequireJS to load module.\n",
       "\t\tlet srcWithoutExtension = src.substring(0, src.lastIndexOf(\".js\"));\n",
       "        requirejs.config({\n",
       "            paths: {\n",
       "                'plotly': srcWithoutExtension\n",
       "            }\n",
       "        });\n",
       "        require(['plotly'], function(plotly) {\n",
       "            runJSFn(plotly)\n",
       "        });\n",
       "        return\n",
       "    }\n",
       "\n",
       "\tvar currentScripts = document.head.getElementsByTagName(\"script\");\n",
       "\tfor (const idx in currentScripts) {\n",
       "\t\tlet script = currentScripts[idx];\n",
       "\t\tif (script.src == src) {\n",
       "\t\t\trunJSFn(null);\n",
       "\t\t\treturn;\n",
       "\t\t}\n",
       "\t}\n",
       "\n",
       "\tvar script = document.createElement(\"script\");\n",
       "\n",
       "\tscript.charset = \"utf-8\";\n",
       "\t\n",
       "\tscript.src = src;\n",
       "\tscript.onload = script.onreadystatechange = function () { runJSFn(null); };\n",
       "\tdocument.head.appendChild(script);\t\n",
       "})();\n",
       "</script>"
      ]
     },
     "metadata": {},
     "output_type": "display_data"
    },
    {
     "name": "stdout",
     "output_type": "stream",
     "text": [
      "\t[Step 10000] median train step: 770 microseconds\n",
      "\n",
      "Results on Validation:\n",
      "\tMean Loss+Regularization (#loss+): 1.492\n",
      "\tMean Loss (#loss): 1.364\n",
      "\tMean Accuracy (#acc): 51.30%\n",
      "Results on Training:\n",
      "\tMean Loss+Regularization (#loss+): 1.393\n",
      "\tMean Loss (#loss): 1.266\n",
      "\tMean Accuracy (#acc): 54.96%\n"
     ]
    }
   ],
   "source": [
    "%% --checkpoint=base_fnn_model --set=\"model=fnn;train_steps=10000;plots=true\"\n",
    "trainModel()"
   ]
  },
  {
   "cell_type": "markdown",
   "id": "97b25f95-c474-4e04-8f7c-f1fb61efce96",
   "metadata": {},
   "source": [
    "### Kolmogorov-Arnold Networks (KAN) Model\n",
    "\n",
    "A more recent alternative to FNN models. See description in https://arxiv.org/pdf/2404.19756\n",
    "\n",
    "While it matches FNNs on the training data, it's overfitting a lot. But it saw very little hyperparameter tunning (in particular regularizations), so it is\n",
    "possible it would match FNNs."
   ]
  },
  {
   "cell_type": "code",
   "execution_count": 17,
   "id": "4c1c1c1f-24a8-4354-8109-0a10aaf48341",
   "metadata": {},
   "outputs": [],
   "source": [
    "// Remove a previously trained model. Skip this if you want to continue training a previous model.\n",
    "!rm -rf ~/work/cifar/base_kan_model  "
   ]
  },
  {
   "cell_type": "code",
   "execution_count": 18,
   "id": "f2f9be60-a420-4dd5-93e6-f7104d112f25",
   "metadata": {},
   "outputs": [
    {
     "name": "stdout",
     "output_type": "stream",
     "text": [
      "Backend \"xla\":\txla:cuda - PJRT \"cuda\" plugin (/usr/local/lib/gomlx/pjrt/pjrt_c_api_cuda_plugin.so) v0.54\n",
      "Checkpointing model to \"/home/janpf/work/cifar/base_kan_model\"\n",
      "Model: kan\n"
     ]
    },
    {
     "data": {
      "text/html": []
     },
     "metadata": {},
     "output_type": "display_data"
    },
    {
     "name": "stdout",
     "output_type": "stream",
     "text": [
      "Training (10000 steps):    7% [\u001b[32m=\u001b[0m\u001b[32m>\u001b[0m......................................] (157 steps/s) [7s:58s]\u001b[0m [step=719] [loss+=4.227] [~loss+=4.145] [~loss=1.827] [~acc=34.80%]          "
     ]
    },
    {
     "data": {
      "text/html": []
     },
     "metadata": {},
     "output_type": "display_data"
    },
    {
     "name": "stdout",
     "output_type": "stream",
     "text": [
      "Training (10000 steps):  100% [\u001b[32m=\u001b[0m\u001b[32m=\u001b[0m\u001b[32m=\u001b[0m\u001b[32m=\u001b[0m\u001b[32m=\u001b[0m\u001b[32m=\u001b[0m\u001b[32m=\u001b[0m\u001b[32m=\u001b[0m\u001b[32m=\u001b[0m\u001b[32m=\u001b[0m\u001b[32m=\u001b[0m\u001b[32m=\u001b[0m\u001b[32m=\u001b[0m\u001b[32m=\u001b[0m\u001b[32m=\u001b[0m\u001b[32m=\u001b[0m\u001b[32m=\u001b[0m\u001b[32m=\u001b[0m\u001b[32m=\u001b[0m\u001b[32m=\u001b[0m\u001b[32m=\u001b[0m\u001b[32m=\u001b[0m\u001b[32m=\u001b[0m\u001b[32m=\u001b[0m\u001b[32m=\u001b[0m\u001b[32m=\u001b[0m\u001b[32m=\u001b[0m\u001b[32m=\u001b[0m\u001b[32m=\u001b[0m\u001b[32m=\u001b[0m\u001b[32m=\u001b[0m\u001b[32m=\u001b[0m\u001b[32m=\u001b[0m\u001b[32m=\u001b[0m\u001b[32m=\u001b[0m\u001b[32m=\u001b[0m\u001b[32m=\u001b[0m\u001b[32m=\u001b[0m\u001b[32m=\u001b[0m\u001b[32m=\u001b[0m] (185 steps/s)\u001b[0m [step=9999] [loss+=2.896] [~loss+=2.815] [~loss=0.566] [~acc=80.02%]        \n"
     ]
    },
    {
     "data": {
      "text/html": [
       "<p><b>Metric: accuracy</b></p>\n"
      ]
     },
     "metadata": {},
     "output_type": "display_data"
    },
    {
     "data": {
      "text/html": [
       "<div id=\"6f8e2a33\"></div>"
      ]
     },
     "metadata": {},
     "output_type": "display_data"
    },
    {
     "data": {
      "text/html": [
       "<script charset=\"UTF-8\">\n",
       "(() => {\n",
       "\tconst src=\"https://cdn.plot.ly/plotly-2.29.1.min.js\";\n",
       "\tvar runJSFn = function(module) {\n",
       "\t\t\n",
       "\tif (!module) {\n",
       "\t\tmodule = window.Plotly;\n",
       "\t}\n",
       "\tlet data = JSON.parse('{\"data\":[{\"type\":\"scatter\",\"line\":{\"shape\":\"linear\"},\"mode\":\"lines+markers\",\"name\":\"Train: Moving Average Accuracy\",\"x\":[200,440,728,1074,1489,1987,2585,3303,4165,5199,6440,7929,9716,10000],\"y\":[0.23111286759376526,0.3004300594329834,0.34971603751182556,0.390195369720459,0.41097062826156616,0.45628514885902405,0.4951014518737793,0.5275015234947205,0.5722925662994385,0.602306604385376,0.687579870223999,0.7652626633644104,0.8099474310874939,0.800234317779541]},{\"type\":\"scatter\",\"line\":{\"shape\":\"linear\"},\"mode\":\"lines+markers\",\"name\":\"Eval on Training: Mean Accuracy\",\"x\":[200,440,728,1074,1489,1987,2585,3303,4165,5199,6440,7929,9716,10000],\"y\":[0.2668599784374237,0.33959999680519104,0.37411999702453613,0.4165799915790558,0.45923998951911926,0.48399999737739563,0.5281999707221985,0.5646199584007263,0.6097999811172485,0.62882000207901,0.7076599597930908,0.8008599877357483,0.8563199639320374,0.8377799987792969]},{\"type\":\"scatter\",\"line\":{\"shape\":\"linear\"},\"mode\":\"lines+markers\",\"name\":\"Eval on Validation: Mean Accuracy\",\"x\":[200,440,728,1074,1489,1987,2585,3303,4165,5199,6440,7929,9716,10000],\"y\":[0.26330000162124634,0.32920002937316895,0.3622000217437744,0.38580000400543213,0.4222000241279602,0.43070003390312195,0.4537000358104706,0.45910000801086426,0.4707000255584717,0.44680002331733704,0.4635000228881836,0.4702000319957733,0.47530001401901245,0.46140003204345703]}],\"layout\":{\"legend\":{},\"title\":{\"text\":\"accuracy\"},\"xaxis\":{\"showgrid\":true,\"type\":\"log\"},\"yaxis\":{\"showgrid\":true,\"type\":\"log\"}}}');\n",
       "\tmodule.newPlot('6f8e2a33', data);\n",
       "\n",
       "\t}\n",
       "\t\n",
       "    if (typeof requirejs === \"function\") {\n",
       "        // Use RequireJS to load module.\n",
       "\t\tlet srcWithoutExtension = src.substring(0, src.lastIndexOf(\".js\"));\n",
       "        requirejs.config({\n",
       "            paths: {\n",
       "                'plotly': srcWithoutExtension\n",
       "            }\n",
       "        });\n",
       "        require(['plotly'], function(plotly) {\n",
       "            runJSFn(plotly)\n",
       "        });\n",
       "        return\n",
       "    }\n",
       "\n",
       "\tvar currentScripts = document.head.getElementsByTagName(\"script\");\n",
       "\tfor (const idx in currentScripts) {\n",
       "\t\tlet script = currentScripts[idx];\n",
       "\t\tif (script.src == src) {\n",
       "\t\t\trunJSFn(null);\n",
       "\t\t\treturn;\n",
       "\t\t}\n",
       "\t}\n",
       "\n",
       "\tvar script = document.createElement(\"script\");\n",
       "\n",
       "\tscript.charset = \"utf-8\";\n",
       "\t\n",
       "\tscript.src = src;\n",
       "\tscript.onload = script.onreadystatechange = function () { runJSFn(null); };\n",
       "\tdocument.head.appendChild(script);\t\n",
       "})();\n",
       "</script>"
      ]
     },
     "metadata": {},
     "output_type": "display_data"
    },
    {
     "data": {
      "text/html": [
       "<p><b>Metric: loss</b></p>\n"
      ]
     },
     "metadata": {},
     "output_type": "display_data"
    },
    {
     "data": {
      "text/html": [
       "<div id=\"6616a64d\"></div>"
      ]
     },
     "metadata": {},
     "output_type": "display_data"
    },
    {
     "data": {
      "text/html": [
       "<script charset=\"UTF-8\">\n",
       "(() => {\n",
       "\tconst src=\"https://cdn.plot.ly/plotly-2.29.1.min.js\";\n",
       "\tvar runJSFn = function(module) {\n",
       "\t\t\n",
       "\tif (!module) {\n",
       "\t\tmodule = window.Plotly;\n",
       "\t}\n",
       "\tlet data = JSON.parse('{\"data\":[{\"type\":\"scatter\",\"line\":{\"shape\":\"linear\"},\"mode\":\"lines+markers\",\"name\":\"Train: Batch Loss+Regularization\",\"x\":[200,440,728,1074,1489,1987,2585,3303,4165,5199,6440,7929,9716,10000],\"y\":[4.254897594451904,4.131899833679199,4.107555389404297,4.072333812713623,3.9672353267669678,3.8178954124450684,3.6536881923675537,3.797375202178955,3.5023350715637207,3.332033395767212,3.2527990341186523,2.618274450302124,2.7595772743225098,2.896080732345581]},{\"type\":\"scatter\",\"line\":{\"shape\":\"linear\"},\"mode\":\"lines+markers\",\"name\":\"Train: Moving Average Loss+Regularization\",\"x\":[200,440,728,1074,1489,1987,2585,3303,4165,5199,6440,7929,9716,10000],\"y\":[4.617265701293945,4.297636032104492,4.140475273132324,4.008260250091553,3.95613431930542,3.8264195919036865,3.715780735015869,3.611609697341919,3.4761717319488525,3.3859994411468506,3.146934986114502,2.916591167449951,2.7804250717163086,2.8154542446136475]},{\"type\":\"scatter\",\"line\":{\"shape\":\"linear\"},\"mode\":\"lines+markers\",\"name\":\"Train: Moving Average Loss\",\"x\":[200,440,728,1074,1489,1987,2585,3303,4165,5199,6440,7929,9716,10000],\"y\":[2.296025037765503,1.9774560928344727,1.8219105005264282,1.6918898820877075,1.64283287525177,1.5171713829040527,1.4118448495864868,1.314272165298462,1.1867557764053345,1.1056687831878662,0.8763510584831238,0.6557881236076355,0.5295666456222534,0.5660496354103088]},{\"type\":\"scatter\",\"line\":{\"shape\":\"linear\"},\"mode\":\"lines+markers\",\"name\":\"Eval on Training: Mean Loss+Regularization\",\"x\":[200,440,728,1074,1489,1987,2585,3303,4165,5199,6440,7929,9716,10000],\"y\":[4.347322463989258,4.194392204284668,4.032601833343506,3.934429883956909,3.807452440261841,3.7322328090667725,3.6247615814208984,3.497429370880127,3.379443407058716,3.3086230754852295,3.075333595275879,2.813371181488037,2.6685264110565186,2.7117717266082764]},{\"type\":\"scatter\",\"line\":{\"shape\":\"linear\"},\"mode\":\"lines+markers\",\"name\":\"Eval on Training: Mean Loss\",\"x\":[200,440,728,1074,1489,1987,2585,3303,4165,5199,6440,7929,9716,10000],\"y\":[2.026439666748047,1.8747282028198242,1.714658498764038,1.6187469959259033,1.4949413537979126,1.4238513708114624,1.3217111825942993,1.2009921073913574,1.0909044742584229,1.0291208028793335,0.8054066300392151,0.5531441569328308,0.41816914081573486,0.46286338567733765]},{\"type\":\"scatter\",\"line\":{\"shape\":\"linear\"},\"mode\":\"lines+markers\",\"name\":\"Eval on Validation: Mean Loss+Regularization\",\"x\":[200,440,728,1074,1489,1987,2585,3303,4165,5199,6440,7929,9716,10000],\"y\":[4.370882034301758,4.234957218170166,4.089541912078857,4.0307745933532715,3.9253599643707275,3.8963463306427,3.891918182373047,3.861395835876465,3.8775744438171387,3.9811551570892334,4.069669246673584,4.29923152923584,4.376523494720459,4.42246675491333]},{\"type\":\"scatter\",\"line\":{\"shape\":\"linear\"},\"mode\":\"lines+markers\",\"name\":\"Eval on Validation: Mean Loss\",\"x\":[200,440,728,1074,1489,1987,2585,3303,4165,5199,6440,7929,9716,10000],\"y\":[2.049999237060547,1.915290117263794,1.7715998888015747,1.7150905132293701,1.6128482818603516,1.5879650115966797,1.5888673067092896,1.5649598836898804,1.589033603668213,1.701653003692627,1.7997422218322754,2.0390048027038574,2.1261661052703857,2.1735572814941406]}],\"layout\":{\"legend\":{},\"title\":{\"text\":\"loss\"},\"xaxis\":{\"showgrid\":true,\"type\":\"log\"},\"yaxis\":{\"showgrid\":true,\"type\":\"log\"}}}');\n",
       "\tmodule.newPlot('6616a64d', data);\n",
       "\n",
       "\t}\n",
       "\t\n",
       "    if (typeof requirejs === \"function\") {\n",
       "        // Use RequireJS to load module.\n",
       "\t\tlet srcWithoutExtension = src.substring(0, src.lastIndexOf(\".js\"));\n",
       "        requirejs.config({\n",
       "            paths: {\n",
       "                'plotly': srcWithoutExtension\n",
       "            }\n",
       "        });\n",
       "        require(['plotly'], function(plotly) {\n",
       "            runJSFn(plotly)\n",
       "        });\n",
       "        return\n",
       "    }\n",
       "\n",
       "\tvar currentScripts = document.head.getElementsByTagName(\"script\");\n",
       "\tfor (const idx in currentScripts) {\n",
       "\t\tlet script = currentScripts[idx];\n",
       "\t\tif (script.src == src) {\n",
       "\t\t\trunJSFn(null);\n",
       "\t\t\treturn;\n",
       "\t\t}\n",
       "\t}\n",
       "\n",
       "\tvar script = document.createElement(\"script\");\n",
       "\n",
       "\tscript.charset = \"utf-8\";\n",
       "\t\n",
       "\tscript.src = src;\n",
       "\tscript.onload = script.onreadystatechange = function () { runJSFn(null); };\n",
       "\tdocument.head.appendChild(script);\t\n",
       "})();\n",
       "</script>"
      ]
     },
     "metadata": {},
     "output_type": "display_data"
    },
    {
     "name": "stdout",
     "output_type": "stream",
     "text": [
      "\t[Step 10000] median train step: 4034 microseconds\n",
      "\n",
      "Results on Validation:\n",
      "\tMean Loss+Regularization (#loss+): 4.422\n",
      "\tMean Loss (#loss): 2.174\n",
      "\tMean Accuracy (#acc): 46.14%\n",
      "Results on Training:\n",
      "\tMean Loss+Regularization (#loss+): 2.712\n",
      "\tMean Loss (#loss): 0.463\n",
      "\tMean Accuracy (#acc): 83.78%\n"
     ]
    }
   ],
   "source": [
    "%% --checkpoint=base_kan_model --set=\"model=kan;train_steps=10000;plots=true\"\n",
    "trainModel()"
   ]
  },
  {
   "cell_type": "markdown",
   "id": "942fdb36-4fbe-4ccf-9958-c8b67b036ada",
   "metadata": {},
   "source": [
    "### CNN model for Cifar-10\n",
    "\n",
    "Let's now properly define a CNN model to compare.\n",
    "\n",
    "The model was built following a [Keras model in Kaggle (thanks @ektasharm)](https://www.kaggle.com/code/ektasharma/simple-cifar10-cnn-keras-code-with-88-accuracy),\n",
    "which provided hardcoded values for all layers of the model -- so it doesn't make use of the hyperparamters set in the context. It achieves \\~86% on the validation set, after 80,000 steps of batch size 64 (\\~100 epochs).\n",
    "\n",
    "Notice that since it uses batch normalization, the training process will, at the end, update the moving averages of mean and variance: this improves the running estimate the model keeps during training. This [interesting blog post](https://www.mindee.com/blog/batch-normalization) explains about it. "
   ]
  },
  {
   "cell_type": "code",
   "execution_count": 20,
   "id": "e27dc442-c3aa-4ec5-98e9-e5321b474785",
   "metadata": {
    "tags": []
   },
   "outputs": [
    {
     "name": "stdout",
     "output_type": "stream",
     "text": [
      "Logits shape for batch_size=11: (Float32)[11 10]\n"
     ]
    }
   ],
   "source": [
    "// ConvolutionModelGraph implements train.ModelFn and returns the logit Node, given the input image.\n",
    "// It's a straight forward CNN (Convolution Neural Network) model.\n",
    "//\n",
    "// This is modeled after the Keras example in Kaggle:\n",
    "// https://www.kaggle.com/code/ektasharma/simple-cifar10-cnn-keras-code-with-88-accuracy\n",
    "// (Thanks @ektasharma)\n",
    "func ConvolutionModelGraph(ctx *context.Context, spec any, inputs []*Node) []*Node {\n",
    "\tctx = ctx.In(\"model\")\n",
    "\tbatchedImages := inputs[0]\n",
    "\tg := batchedImages.Graph()\n",
    "\tdtype := batchedImages.DType()\n",
    "\tbatchSize := batchedImages.Shape().Dimensions[0]\n",
    "\tlogits := batchedImages\n",
    "\n",
    "\tlayerIdx := 0\n",
    "\tnextCtx := func(name string) *context.Context {\n",
    "\t\tnewCtx := ctx.Inf(\"%03d_%s\", layerIdx, name)\n",
    "\t\tlayerIdx++\n",
    "\t\treturn newCtx\n",
    "\t}\n",
    "\n",
    "\tlogits = layers.Convolution(nextCtx(\"conv\"), logits).Filters(32).KernelSize(3).PadSame().Done()\n",
    "\tlogits.AssertDims(batchSize, 32, 32, 32)\n",
    "\tlogits = activations.Relu(logits)\n",
    "\tlogits = batchnorm.New(nextCtx(\"batchnorm\"), logits, -1).Done()\n",
    "\tlogits = layers.Convolution(nextCtx(\"conv\"), logits).Filters(32).KernelSize(3).PadSame().Done()\n",
    "\tlogits = activations.Relu(logits)\n",
    "\tlogits = batchnorm.New(nextCtx(\"batchnorm\"), logits, -1).Done()\n",
    "\tlogits = MaxPool(logits).Window(2).Done()\n",
    "\tlogits = layers.DropoutNormalize(nextCtx(\"dropout\"), logits, Scalar(g, dtype, 0.3), true)\n",
    "\tlogits.AssertDims(batchSize, 16, 16, 32)\n",
    "\n",
    "\tlogits = layers.Convolution(nextCtx(\"conv\"), logits).Filters(64).KernelSize(3).PadSame().Done()\n",
    "\tlogits.AssertDims(batchSize, 16, 16, 64)\n",
    "\tlogits = activations.Relu(logits)\n",
    "\tlogits = batchnorm.New(nextCtx(\"batchnorm\"), logits, -1).Done()\n",
    "\tlogits = layers.Convolution(nextCtx(\"conv\"), logits).Filters(64).KernelSize(3).PadSame().Done()\n",
    "\tlogits.AssertDims(batchSize, 16, 16, 64)\n",
    "\tlogits = activations.Relu(logits)\n",
    "\tlogits = batchnorm.New(nextCtx(\"batchnorm\"), logits, -1).Done()\n",
    "\tlogits = MaxPool(logits).Window(2).Done()\n",
    "\tlogits = layers.DropoutNormalize(nextCtx(\"dropout\"), logits, Scalar(g, dtype, 0.5), true)\n",
    "\tlogits.AssertDims(batchSize, 8, 8, 64)\n",
    "\n",
    "\tlogits = layers.Convolution(nextCtx(\"conv\"), logits).Filters(128).KernelSize(3).PadSame().Done()\n",
    "\tlogits.AssertDims(batchSize, 8, 8, 128)\n",
    "\tlogits = activations.Relu(logits)\n",
    "\tlogits = batchnorm.New(nextCtx(\"batchnorm\"), logits, -1).Done()\n",
    "\tlogits = layers.Convolution(nextCtx(\"conv\"), logits).Filters(128).KernelSize(3).PadSame().Done()\n",
    "\tlogits.AssertDims(batchSize, 8, 8, 128)\n",
    "\tlogits = activations.Relu(logits)\n",
    "\tlogits = batchnorm.New(nextCtx(\"batchnorm\"), logits, -1).Done()\n",
    "\tlogits = MaxPool(logits).Window(2).Done()\n",
    "\tlogits = layers.DropoutNormalize(nextCtx(\"dropout\"), logits, Scalar(g, dtype, 0.5), true)\n",
    "\tlogits.AssertDims(batchSize, 4, 4, 128)\n",
    "\n",
    "\t// Flatten logits, and we can use the usual FNN/KAN.\n",
    "\tlogits = Reshape(logits, batchSize, -1)\n",
    "\tlogits = layers.Dense(nextCtx(\"dense\"), logits, true, 128)\n",
    "\tlogits = activations.Relu(logits)\n",
    "\tlogits = batchnorm.New(nextCtx(\"batchnorm\"), logits, -1).Done()\n",
    "\tlogits = layers.DropoutNormalize(nextCtx(\"dropout\"), logits, Scalar(g, dtype, 0.5), true)\n",
    "\tnumClasses := len(cifar.C10Labels)\n",
    "\tlogits = layers.Dense(nextCtx(\"dense\"), logits, true, numClasses)\n",
    "\treturn []*Node{logits}\n",
    "}\n",
    "\n",
    "%% -set=\"batch_size=11\"\n",
    "// Let's test that the logits are coming out with the right shape: we want [batch_size, 10], since there are 10 classes.\n",
    "AssertDownloaded()\n",
    "ctx, _ := ContextFromSettings()\n",
    "g := NewGraph(backends.New(), \"placeholder\")\n",
    "batchSize := context.GetParamOr(ctx, \"batch_size\", int(100))\n",
    "logits := ConvolutionModelGraph(ctx, nil, []*Node{Parameter(g, \"images\", shapes.Make(DType, batchSize, cifar.Height, cifar.Width, cifar.Depth))})\n",
    "fmt.Printf(\"Logits shape for batch_size=%d: %s\\n\", batchSize, logits[0].Shape())\n"
   ]
  },
  {
   "cell_type": "markdown",
   "id": "6e3b2b04-8ca7-49d6-921d-3527c9169da9",
   "metadata": {},
   "source": [
    "### Training the CNN model\n",
    "\n",
    "CNNs have a much better inductive bias for machine learning on images, and it can easily achieve > 80% accuracy in training data, and some less on validation data, due to overfitting.\n",
    "\n",
    "Likely it would benefit from pre-training the model on a larger unlabeled datasets -- see the \"Dogs vs Cats\" example to see transfer learning in action for an image model."
   ]
  },
  {
   "cell_type": "code",
   "execution_count": 21,
   "id": "6af158e6-b9f9-423a-8ef9-3b54366d35ef",
   "metadata": {},
   "outputs": [],
   "source": [
    "!rm -rf ~/work/cifar/base_cnn_model"
   ]
  },
  {
   "cell_type": "code",
   "execution_count": 23,
   "id": "b2739281-6e70-4bd4-90e5-ed493678b8ce",
   "metadata": {
    "tags": []
   },
   "outputs": [
    {
     "name": "stdout",
     "output_type": "stream",
     "text": [
      "Backend \"xla\":\txla:cuda - PJRT \"cuda\" plugin (/usr/local/lib/gomlx/pjrt/pjrt_c_api_cuda_plugin.so) v0.54\n",
      "Checkpointing model to \"/home/janpf/work/cifar/base_cnn_model\"\n",
      "Model: cnn\n"
     ]
    },
    {
     "data": {
      "text/html": []
     },
     "metadata": {},
     "output_type": "display_data"
    },
    {
     "name": "stdout",
     "output_type": "stream",
     "text": [
      "Training (80000 steps):    0% [........................................] (143 steps/s) [7s:9m13s] [step=719] [loss+=1.807] [~loss+=1.831] [~loss=1.831] [~acc=32.52%]            "
     ]
    },
    {
     "data": {
      "text/html": []
     },
     "metadata": {},
     "output_type": "display_data"
    },
    {
     "name": "stdout",
     "output_type": "stream",
     "text": [
      "Training (80000 steps):  100% [\u001b[32m=\u001b[0m\u001b[32m=\u001b[0m\u001b[32m=\u001b[0m\u001b[32m=\u001b[0m\u001b[32m=\u001b[0m\u001b[32m=\u001b[0m\u001b[32m=\u001b[0m\u001b[32m=\u001b[0m\u001b[32m=\u001b[0m\u001b[32m=\u001b[0m\u001b[32m=\u001b[0m\u001b[32m=\u001b[0m\u001b[32m=\u001b[0m\u001b[32m=\u001b[0m\u001b[32m=\u001b[0m\u001b[32m=\u001b[0m\u001b[32m=\u001b[0m\u001b[32m=\u001b[0m\u001b[32m=\u001b[0m\u001b[32m=\u001b[0m\u001b[32m=\u001b[0m\u001b[32m=\u001b[0m\u001b[32m=\u001b[0m\u001b[32m=\u001b[0m\u001b[32m=\u001b[0m\u001b[32m=\u001b[0m\u001b[32m=\u001b[0m\u001b[32m=\u001b[0m\u001b[32m=\u001b[0m\u001b[32m=\u001b[0m\u001b[32m=\u001b[0m\u001b[32m=\u001b[0m\u001b[32m=\u001b[0m\u001b[32m=\u001b[0m\u001b[32m=\u001b[0m\u001b[32m=\u001b[0m\u001b[32m=\u001b[0m\u001b[32m=\u001b[0m\u001b[32m=\u001b[0m\u001b[32m=\u001b[0m] (235 steps/s)\u001b[0m [step=79999] [loss+=0.744] [~loss+=0.698] [~loss=0.698] [~acc=75.77%]          \n"
     ]
    },
    {
     "data": {
      "text/html": [
       "<p><b>Metric: accuracy</b></p>\n"
      ]
     },
     "metadata": {},
     "output_type": "display_data"
    },
    {
     "data": {
      "text/html": [
       "<div id=\"e3331c95\"></div>"
      ]
     },
     "metadata": {},
     "output_type": "display_data"
    },
    {
     "data": {
      "text/html": [
       "<script charset=\"UTF-8\">\n",
       "(() => {\n",
       "\tconst src=\"https://cdn.plot.ly/plotly-2.29.1.min.js\";\n",
       "\tvar runJSFn = function(module) {\n",
       "\t\t\n",
       "\tif (!module) {\n",
       "\t\tmodule = window.Plotly;\n",
       "\t}\n",
       "\tlet data = JSON.parse('{\"data\":[{\"type\":\"scatter\",\"line\":{\"shape\":\"linear\"},\"mode\":\"lines+markers\",\"name\":\"Train: Moving Average Accuracy\",\"x\":[200,440,728,1074,1489,1987,2585,3303,4165,5199,6440,7929,9716,11860,14433,17521,21227,25674,31010,37413,45097,54318,65383,78661,80000],\"y\":[0.10703253000974655,0.23720769584178925,0.32701465487480164,0.369699090719223,0.41280046105384827,0.44541341066360474,0.48030146956443787,0.5108742117881775,0.5421896576881409,0.5738586187362671,0.5981295108795166,0.615837812423706,0.635786771774292,0.6503139734268188,0.6700745224952698,0.6864486932754517,0.7004736661911011,0.7068225741386414,0.7237948775291443,0.7301790714263916,0.7361120581626892,0.7531018853187561,0.7569786310195923,0.7637852430343628,0.757728099822998]},{\"type\":\"scatter\",\"line\":{\"shape\":\"linear\"},\"mode\":\"lines+markers\",\"name\":\"Eval on Training: Mean Accuracy\",\"x\":[200,440,728,1074,1489,1987,2585,3303,4165,5199,6440,7929,9716,11860,14433,17521,21227,25674,31010,37413,45097,54318,65383,78661,80000],\"y\":[0.16817998886108398,0.3067399859428406,0.3551599979400635,0.42851999402046204,0.47317999601364136,0.5094799995422363,0.5420599579811096,0.5792199969291687,0.6164399981498718,0.6453399658203125,0.6628400087356567,0.6923800110816956,0.7000399827957153,0.7194399833679199,0.7259199619293213,0.7563599944114685,0.7712999582290649,0.7769599556922913,0.7879999876022339,0.8131200075149536,0.8268199563026428,0.823479950428009,0.8359599709510803,0.8457599878311157,0.8267999887466431]},{\"type\":\"scatter\",\"line\":{\"shape\":\"linear\"},\"mode\":\"lines+markers\",\"name\":\"Eval on Validation: Mean Accuracy\",\"x\":[200,440,728,1074,1489,1987,2585,3303,4165,5199,6440,7929,9716,11860,14433,17521,21227,25674,31010,37413,45097,54318,65383,78661,80000],\"y\":[0.1615000069141388,0.3132000267505646,0.3566000163555145,0.4310000240802765,0.4741000235080719,0.5003000497817993,0.5388000011444092,0.5653000473976135,0.600100040435791,0.6304000020027161,0.6412000060081482,0.674500048160553,0.6838000416755676,0.6927000284194946,0.7071000337600708,0.7309000492095947,0.7427000403404236,0.7414000630378723,0.7511000633239746,0.773300051689148,0.7790000438690186,0.7720000147819519,0.7856000661849976,0.7902000546455383,0.7746000289916992]}],\"layout\":{\"legend\":{},\"title\":{\"text\":\"accuracy\"},\"xaxis\":{\"showgrid\":true,\"type\":\"log\"},\"yaxis\":{\"showgrid\":true,\"type\":\"log\"}}}');\n",
       "\tmodule.newPlot('e3331c95', data);\n",
       "\n",
       "\t}\n",
       "\t\n",
       "    if (typeof requirejs === \"function\") {\n",
       "        // Use RequireJS to load module.\n",
       "\t\tlet srcWithoutExtension = src.substring(0, src.lastIndexOf(\".js\"));\n",
       "        requirejs.config({\n",
       "            paths: {\n",
       "                'plotly': srcWithoutExtension\n",
       "            }\n",
       "        });\n",
       "        require(['plotly'], function(plotly) {\n",
       "            runJSFn(plotly)\n",
       "        });\n",
       "        return\n",
       "    }\n",
       "\n",
       "\tvar currentScripts = document.head.getElementsByTagName(\"script\");\n",
       "\tfor (const idx in currentScripts) {\n",
       "\t\tlet script = currentScripts[idx];\n",
       "\t\tif (script.src == src) {\n",
       "\t\t\trunJSFn(null);\n",
       "\t\t\treturn;\n",
       "\t\t}\n",
       "\t}\n",
       "\n",
       "\tvar script = document.createElement(\"script\");\n",
       "\n",
       "\tscript.charset = \"utf-8\";\n",
       "\t\n",
       "\tscript.src = src;\n",
       "\tscript.onload = script.onreadystatechange = function () { runJSFn(null); };\n",
       "\tdocument.head.appendChild(script);\t\n",
       "})();\n",
       "</script>"
      ]
     },
     "metadata": {},
     "output_type": "display_data"
    },
    {
     "data": {
      "text/html": [
       "<p><b>Metric: loss</b></p>\n"
      ]
     },
     "metadata": {},
     "output_type": "display_data"
    },
    {
     "data": {
      "text/html": [
       "<div id=\"5ce82bcb\"></div>"
      ]
     },
     "metadata": {},
     "output_type": "display_data"
    },
    {
     "data": {
      "text/html": [
       "<script charset=\"UTF-8\">\n",
       "(() => {\n",
       "\tconst src=\"https://cdn.plot.ly/plotly-2.29.1.min.js\";\n",
       "\tvar runJSFn = function(module) {\n",
       "\t\t\n",
       "\tif (!module) {\n",
       "\t\tmodule = window.Plotly;\n",
       "\t}\n",
       "\tlet data = JSON.parse('{\"data\":[{\"type\":\"scatter\",\"line\":{\"shape\":\"linear\"},\"mode\":\"lines+markers\",\"name\":\"Train: Batch Loss+Regularization\",\"x\":[200,440,728,1074,1489,1987,2585,3303,4165,5199,6440,7929,9716,11860,14433,17521,21227,25674,31010,37413,45097,54318,65383,78661,80000],\"y\":[2.3014066219329834,1.9036847352981567,1.9631801843643188,1.5771375894546509,1.5288972854614258,1.5031111240386963,1.2984387874603271,1.3477959632873535,1.1667295694351196,1.3395535945892334,1.1021294593811035,1.0169733762741089,0.9740267992019653,0.989680290222168,0.9509724378585815,1.0760692358016968,0.6690921187400818,1.0370031595230103,0.7226698994636536,0.5803691744804382,0.734225869178772,0.6463976502418518,0.8126871585845947,0.5051707029342651,0.7439892292022705]},{\"type\":\"scatter\",\"line\":{\"shape\":\"linear\"},\"mode\":\"lines+markers\",\"name\":\"Train: Moving Average Loss+Regularization\",\"x\":[200,440,728,1074,1489,1987,2585,3303,4165,5199,6440,7929,9716,11860,14433,17521,21227,25674,31010,37413,45097,54318,65383,78661,80000],\"y\":[2.3015053272247314,2.039658784866333,1.8269331455230713,1.6786539554595947,1.5843536853790283,1.4993937015533447,1.4199248552322388,1.3549220561981201,1.2630494832992554,1.1992390155792236,1.1374045610427856,1.081528902053833,1.036596417427063,0.9893725514411926,0.9408195614814758,0.9009993076324463,0.8759282231330872,0.8367586731910706,0.7888435125350952,0.7760610580444336,0.7599400877952576,0.7166474461555481,0.7245866656303406,0.693466067314148,0.6979253888130188]},{\"type\":\"scatter\",\"line\":{\"shape\":\"linear\"},\"mode\":\"lines+markers\",\"name\":\"Train: Moving Average Loss\",\"x\":[200,440,728,1074,1489,1987,2585,3303,4165,5199,6440,7929,9716,11860,14433,17521,21227,25674,31010,37413,45097,54318,65383,78661,80000],\"y\":[2.3015053272247314,2.039658784866333,1.8269331455230713,1.6786539554595947,1.5843536853790283,1.4993937015533447,1.4199248552322388,1.3549220561981201,1.2630494832992554,1.1992390155792236,1.1374045610427856,1.081528902053833,1.036596417427063,0.9893725514411926,0.9408195614814758,0.9009993076324463,0.8759282231330872,0.8367586731910706,0.7888435125350952,0.7760610580444336,0.7599400877952576,0.7166474461555481,0.7245866656303406,0.693466067314148,0.6979253888130188]},{\"type\":\"scatter\",\"line\":{\"shape\":\"linear\"},\"mode\":\"lines+markers\",\"name\":\"Eval on Training: Mean Loss+Regularization\",\"x\":[200,440,728,1074,1489,1987,2585,3303,4165,5199,6440,7929,9716,11860,14433,17521,21227,25674,31010,37413,45097,54318,65383,78661,80000],\"y\":[2.2169418334960938,1.9000831842422485,1.7103286981582642,1.5454667806625366,1.4247424602508545,1.3341623544692993,1.2622368335723877,1.1625162363052368,1.0681548118591309,0.9962203502655029,0.9442974925041199,0.8612666726112366,0.8370037078857422,0.7842887043952942,0.7565553784370422,0.6824106574058533,0.6481746435165405,0.622794508934021,0.5973759293556213,0.5310542583465576,0.4913558065891266,0.49796080589294434,0.4680405855178833,0.4376026391983032,0.48943662643432617]},{\"type\":\"scatter\",\"line\":{\"shape\":\"linear\"},\"mode\":\"lines+markers\",\"name\":\"Eval on Training: Mean Loss\",\"x\":[200,440,728,1074,1489,1987,2585,3303,4165,5199,6440,7929,9716,11860,14433,17521,21227,25674,31010,37413,45097,54318,65383,78661,80000],\"y\":[2.2169418334960938,1.9000831842422485,1.7103286981582642,1.5454667806625366,1.4247424602508545,1.3341623544692993,1.2622368335723877,1.1625162363052368,1.0681548118591309,0.9962203502655029,0.9442974925041199,0.8612666726112366,0.8370037078857422,0.7842887043952942,0.7565553784370422,0.6824106574058533,0.6481746435165405,0.622794508934021,0.5973759293556213,0.5310542583465576,0.4913558065891266,0.49796080589294434,0.4680405855178833,0.4376026391983032,0.48943662643432617]},{\"type\":\"scatter\",\"line\":{\"shape\":\"linear\"},\"mode\":\"lines+markers\",\"name\":\"Eval on Validation: Mean Loss+Regularization\",\"x\":[200,440,728,1074,1489,1987,2585,3303,4165,5199,6440,7929,9716,11860,14433,17521,21227,25674,31010,37413,45097,54318,65383,78661,80000],\"y\":[2.2145893573760986,1.8915081024169922,1.7070600986480713,1.5383042097091675,1.4236538410186768,1.343726634979248,1.2731997966766357,1.1858420372009277,1.0992796421051025,1.0323586463928223,0.9905261397361755,0.9173675179481506,0.898215651512146,0.8632177114486694,0.8464425206184387,0.7680752277374268,0.7407447695732117,0.7465048432350159,0.7174530029296875,0.6630232930183411,0.6361109018325806,0.6721930503845215,0.6419858932495117,0.6172010898590088,0.6709842681884766]},{\"type\":\"scatter\",\"line\":{\"shape\":\"linear\"},\"mode\":\"lines+markers\",\"name\":\"Eval on Validation: Mean Loss\",\"x\":[200,440,728,1074,1489,1987,2585,3303,4165,5199,6440,7929,9716,11860,14433,17521,21227,25674,31010,37413,45097,54318,65383,78661,80000],\"y\":[2.2145893573760986,1.8915081024169922,1.7070600986480713,1.5383042097091675,1.4236538410186768,1.343726634979248,1.2731997966766357,1.1858420372009277,1.0992796421051025,1.0323586463928223,0.9905261397361755,0.9173675179481506,0.898215651512146,0.8632177114486694,0.8464425206184387,0.7680752277374268,0.7407447695732117,0.7465048432350159,0.7174530029296875,0.6630232930183411,0.6361109018325806,0.6721930503845215,0.6419858932495117,0.6172010898590088,0.6709842681884766]}],\"layout\":{\"legend\":{},\"title\":{\"text\":\"loss\"},\"xaxis\":{\"showgrid\":true,\"type\":\"log\"},\"yaxis\":{\"showgrid\":true,\"type\":\"log\"}}}');\n",
       "\tmodule.newPlot('5ce82bcb', data);\n",
       "\n",
       "\t}\n",
       "\t\n",
       "    if (typeof requirejs === \"function\") {\n",
       "        // Use RequireJS to load module.\n",
       "\t\tlet srcWithoutExtension = src.substring(0, src.lastIndexOf(\".js\"));\n",
       "        requirejs.config({\n",
       "            paths: {\n",
       "                'plotly': srcWithoutExtension\n",
       "            }\n",
       "        });\n",
       "        require(['plotly'], function(plotly) {\n",
       "            runJSFn(plotly)\n",
       "        });\n",
       "        return\n",
       "    }\n",
       "\n",
       "\tvar currentScripts = document.head.getElementsByTagName(\"script\");\n",
       "\tfor (const idx in currentScripts) {\n",
       "\t\tlet script = currentScripts[idx];\n",
       "\t\tif (script.src == src) {\n",
       "\t\t\trunJSFn(null);\n",
       "\t\t\treturn;\n",
       "\t\t}\n",
       "\t}\n",
       "\n",
       "\tvar script = document.createElement(\"script\");\n",
       "\n",
       "\tscript.charset = \"utf-8\";\n",
       "\t\n",
       "\tscript.src = src;\n",
       "\tscript.onload = script.onreadystatechange = function () { runJSFn(null); };\n",
       "\tdocument.head.appendChild(script);\t\n",
       "})();\n",
       "</script>"
      ]
     },
     "metadata": {},
     "output_type": "display_data"
    },
    {
     "name": "stdout",
     "output_type": "stream",
     "text": [
      "\t[Step 80000] median train step: 3800 microseconds\n",
      "\n",
      "Results on Validation:\n",
      "\tMean Loss+Regularization (#loss+): 0.671\n",
      "\tMean Loss (#loss): 0.671\n",
      "\tMean Accuracy (#acc): 77.46%\n",
      "Results on Training:\n",
      "\tMean Loss+Regularization (#loss+): 0.489\n",
      "\tMean Loss (#loss): 0.489\n",
      "\tMean Accuracy (#acc): 82.68%\n"
     ]
    }
   ],
   "source": [
    "%% --checkpoint=base_cnn_model --set=\"model=cnn;learning_rate=1e-3;l2_regularization=0;l1_regularization=0;train_steps=80000\"\n",
    "trainModel()"
   ]
  }
 ],
 "metadata": {
  "kernelspec": {
   "display_name": "Go (gonb)",
   "language": "go",
   "name": "gonb"
  },
  "language_info": {
   "codemirror_mode": "",
   "file_extension": ".go",
   "mimetype": "",
   "name": "go",
   "nbconvert_exporter": "",
   "pygments_lexer": "",
   "version": "go1.23.0"
  }
 },
 "nbformat": 4,
 "nbformat_minor": 5
}
