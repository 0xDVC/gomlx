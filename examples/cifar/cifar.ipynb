{
 "cells": [
  {
   "cell_type": "markdown",
   "id": "f431da81-4d94-4fd1-8a51-952ef824cb46",
   "metadata": {},
   "source": [
    "# Cifar Library and Demo\n",
    "\n",
    "[This is a library](https://pkg.go.dev/github.com/gomlx/gomlx/examples/cifar) to download and parse the Cifar datasets (Cifar-10 and Cifar-100), and a very small demo of a FNN (Feedforward Neural Network) with GoMLX. FNNs are notoriously bad for images, but it's only a demo. Look for the Resnet50 model for a more serious image classification model (old but still good -- best results as of the time of this writing is with ViT model).\n",
    "\n",
    "The CIFAR-10 and CIFAR-100 are labeled subsets of the 80 million tiny images dataset. They were collected by Alex Krizhevsky, Vinod Nair, and Geoffrey Hinton. See more details in [its homepage here](https://www.cs.toronto.edu/~kriz/cifar.html).\n",
    "\n",
    "This notebook serves as documentation and example for the [github.com/gomlx/gomlx/examples/cifar](https://github.com/gomlx/gomlx/examples/cifar) library."
   ]
  },
  {
   "cell_type": "markdown",
   "id": "bd398a51-c10a-4d05-91f7-f978856a8d8b",
   "metadata": {},
   "source": [
    "## Environment Set Up\n",
    "\n",
    "Let's set up `go.mod` to use the local copy of GoMLX, so it can be developed jointly the dataset code with the model. That's often how data pre-processing and model code is developed together with experimentation.\n",
    "\n",
    "If you are not changing code, feel free to simply skip this cell. Or if you used a different directory for you projects, change it below.\n",
    "\n",
    "Notice the directory `${HOME}/Projects/gomlx` is where the GoMLX code is copied by default in [its Docker](https://hub.docker.com/repository/docker/janpfeifer/gomlx_jupyterlab/general)."
   ]
  },
  {
   "cell_type": "code",
   "execution_count": 1,
   "id": "22abc207-e8b0-44ef-840d-fee3550cffca",
   "metadata": {
    "tags": []
   },
   "outputs": [],
   "source": [
    "!*go mod edit -replace github.com/gomlx/gomlx=\"${HOME}/Projects/gomlx\""
   ]
  },
  {
   "cell_type": "markdown",
   "id": "443e9e56-ef12-4d04-b7bb-99478fa2b662",
   "metadata": {},
   "source": [
    "## Data Preparation\n",
    "\n",
    "### Downloading data files\n",
    "\n",
    "To download, uncompress and untar to the local directory, simply do the following. Notice if it's already downloaded in the given `--data` directory, it returns immediately."
   ]
  },
  {
   "cell_type": "code",
   "execution_count": 2,
   "id": "a61fdd1a-74a0-46f2-9cfc-f79bfa37e298",
   "metadata": {
    "tags": []
   },
   "outputs": [],
   "source": [
    "import (\n",
    "    \"github.com/gomlx/gomlx/examples/cifar\"\n",
    "    \"github.com/gomlx/gomlx/ml/data\"\n",
    ")\n",
    "\n",
    "var flagDataDir = flag.String(\"data\", \"~/work/cifar\", \"Directory to cache downloaded and generated dataset files.\")\n",
    "\n",
    "func AssertNoError(err error) {\n",
    "    if err != nil {\n",
    "        log.Fatalf(\"Failed: %+v\", err)\n",
    "    }\n",
    "}\n",
    "\n",
    "func AssertDownloaded() {\n",
    "    *flagDataDir = data.ReplaceTildeInDir(*flagDataDir)\n",
    "    if !data.FileExists(*flagDataDir) {\n",
    "        AssertNoError(os.MkdirAll(*flagDataDir, 0777))\n",
    "    }\n",
    "\n",
    "    AssertNoError(cifar.DownloadCifar10(*flagDataDir))\n",
    "    AssertNoError(cifar.DownloadCifar100(*flagDataDir))\n",
    "}\n",
    "\n",
    "%%\n",
    "AssertDownloaded()"
   ]
  },
  {
   "cell_type": "code",
   "execution_count": 3,
   "id": "345076ef-e2a3-4405-b47d-801c9ec62b91",
   "metadata": {
    "tags": []
   },
   "outputs": [
    {
     "name": "stdout",
     "output_type": "stream",
     "text": [
      "total 323M\n",
      "drwxr-xr-x 2 janpf janpf 4.0K Feb 20  2010 cifar-100-binary\n",
      "-rw-r--r-- 1 janpf janpf 161M Mar 16 07:57 cifar-100-binary.tar.gz\n",
      "drwxr-xr-x 2 janpf janpf 4.0K Jun  4  2009 cifar-10-batches-bin\n",
      "-rw-r--r-- 1 janpf janpf 163M Mar 16 07:57 cifar-10-binary.tar.gz\n"
     ]
    }
   ],
   "source": [
    "!ls -lh ~/work/cifar/"
   ]
  },
  {
   "cell_type": "markdown",
   "id": "93d4ae39-915c-478c-887f-b1c8c080865b",
   "metadata": {},
   "source": [
    "### Sample some images\n",
    "\n",
    "The `cifar.LoadCifar10` and `cifar.LoadCifar100` funcitons load the whole dataset into a `tensor.Tensor`. Here we sample and display a few of each, to check things are working.\n"
   ]
  },
  {
   "cell_type": "code",
   "execution_count": 5,
   "id": "0dabc63a-b918-4065-9b23-0c5a22446458",
   "metadata": {
    "tags": []
   },
   "outputs": [
    {
     "data": {
      "text/html": [
       "<h3>Samples from Cifar-10</h3><table><tr>\n",
       "\t<td><figure style=\"padding:4px;text-align: center;\"><img width=\"128\" height=\"128\" src=\"data:image/png;base64,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\"><figcaption style=\"text-align: center;\">Example 40447: horse (7)</figcaption></figure></td>\n",
       "\t<td><figure style=\"padding:4px;text-align: center;\"><img width=\"128\" height=\"128\" src=\"data:image/png;base64,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\"><figcaption style=\"text-align: center;\">Example 20934: frog (6)</figcaption></figure></td>\n",
       "\t<td><figure style=\"padding:4px;text-align: center;\"><img width=\"128\" height=\"128\" src=\"data:image/png;base64,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\"><figcaption style=\"text-align: center;\">Example 39567: truck (9)</figcaption></figure></td>\n",
       "\t<td><figure style=\"padding:4px;text-align: center;\"><img width=\"128\" height=\"128\" src=\"data:image/png;base64,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\"><figcaption style=\"text-align: center;\">Example 1219: bird (2)</figcaption></figure></td>\n",
       "</tr><tr>\n",
       "\t<td><figure style=\"padding:4px;text-align: center;\"><img width=\"128\" height=\"128\" src=\"data:image/png;base64,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\"><figcaption style=\"text-align: center;\">Example 53997: bird (2)</figcaption></figure></td>\n",
       "\t<td><figure style=\"padding:4px;text-align: center;\"><img width=\"128\" height=\"128\" src=\"data:image/png;base64,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\"><figcaption style=\"text-align: center;\">Example 40612: airplane (0)</figcaption></figure></td>\n",
       "\t<td><figure style=\"padding:4px;text-align: center;\"><img width=\"128\" height=\"128\" src=\"data:image/png;base64,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\"><figcaption style=\"text-align: center;\">Example 39539: dog (5)</figcaption></figure></td>\n",
       "\t<td><figure style=\"padding:4px;text-align: center;\"><img width=\"128\" height=\"128\" src=\"data:image/png;base64,iVBORw0KGgoAAAANSUhEUgAAACAAAAAgCAIAAAD8GO2jAAAIr0lEQVR4nCyW25IkyVGGPSI8IiMzq7Kq+jQ9sz0zgp09mFizNQQskowL3oB7XoWX4wa4EHAhcRLMoF71zkxPV1fXKQ9xcnesFt1mmnmE++f//wf+7d/9zZm/bvTsp1/8xS+++/lhv7n7/t1w2LXtUpR6/+l90fy4eYg0XV09e/Xqs8PxiYhQqq5anHcLKfTw4eMYyuL86n778OLFzV///BdTHudNZwVBA/ZjlqH35ytms1lvKcbOL2prtXHz2dnNZ58zC1FSBgrH47Q3tRZRNc4ulhddMxt2+6PPm8P6X/7+H+fL1XL5/D//591m2r589ZOvXn6x3e6wjLQ6W13UZ4f7++N8dnG2ICnbww6MinFqm0VjfOOMFvZVc+V8bpe+mhmsQAMTFYtXzy6ubq7rBv/hn3711qup//j94e7f7/71w1fffFo/Yk7s3fztb2+fX17hT/9ks9/f33/s+54ken84Pydpu1hUGI9oDCggpvmsIHpjUZQ+psIMFcvPvv3WGv/r3/zmOLNa8+/e//f6eKeMwTnO1+/X03b6yz//bv30eP/pbhgOAEoBt3XDJQ1Dj9aIcM6llGLQqWnM1OvTeQaxaps2p5izOIM5xo8fNhfPl0D7zWFsKkTF6rDfX58/Tzm9e/dhGLYC5H2zWnbee6YcSQAcKKGSWYRTLrlngJhTmOLl5VXlMOdktB7HfpyG48hNU1XW74a9FsHpOISDvLh8fnv7v7v9RmlerRbeV13XAUg/9MY6MFIKlfJjC4W1QoNmnMZhGJUWbcBok3NYrz8KU2HpD71dmjgVgwq16JJDSnETx2E4zOdtjKkUmqYpguz326ab5ZIADICEcPosohVAoUKUt7tHa/V8vigpb57WMU6RpD/i+eoCGIcxo7XWmJhLCtNQStK6U0qFEA5HU6FhYeswxGC0TTmLyDSFnCnlxJSVYl9fxjj2/SDEw9CnmIaQrdIX+cyK2U8jMhVfWwVUSowpjFO/PzzNutnnP3nDqKxzYQpa25y5ZO7HoRTqh2EKQ107rQSNziXe3t4pscMwDtNEZKdQaIpzg7uksKRSoS2Ucs5UaBjGh/XDvJ/ffPbSGBEoISVjrNHu/wmknEKcmCmXPG+bnHNK6XDsNw/bksI4HEE3Ijz0o+/M1OcfNzBFJkfEh0N/OPT7w2EI09PukboGDYK24zQiFmNMDHGcBmOAAZTWxBxTYpYY0na7FYopTiSsZov9YVzM52UC7ObmuJlCGFPK0xTHcRzGMe3y73+4/frLNyHGXEwpJCJGqRhjKUGg+KbByk0pTusRtQXQIvz4uHbWikKjzTSlRaY3b1a46tzufnM8TiEq4jKMgSCL5re3t925m/mVkC0nqjHFqEQbVFMcphh9TEaBFqi9JSqnWZVknSjw3jcsDDR+9fUKtSk5BS11iGkKo20MokXWA2VcpZJ7hHY8DAJSctrvxrqt9/2euZxdrBaLhRW7/rR5WH86xiHb7M+cGpVSmjiidkIBs40K9eX5M2NT5PDtn129++3u/m5z80V39boOPcV9T9PQb1PoUz9N2+ExczGWTYoOJE31YRsOx3DIT3/0s+s/fv3s+3/eDOOhtsbZWgGhcjKfz9HWmQ83X69uvlzcvY3Wupefd6aJzqmq02YO6kPizdjMAmioG391fTk7mxmo7v9tZIJU+OJm/vV3N86o+ZULvzttjdNVrQC9db7CT0/HQ9j86TeX++HAQTWdX15hopCztk7X53yz6p7nBQgYq7XVCpCA4jjWrT/q6Cr38nXr20JKL68X8Yk5kEpkwxla1TjkXHZnr/35Vfv2VzsgWV03s/MOURAtSxHNxmis4Q8OAQRcGEi0q9va18nLcHbtFSenG2XCMIxdNdsdp81/vMdjzLlYg+nVl8swlqcfRrT28kWbhFOfEQtTsaYSTUoVrRQziwIgLaoY8NZ774NTML+wRrNlNWvwxfXz/mnfh9E61EXL024rNC1XyMJEAiovz7yzChWgURYASoLMirQCjQadddZi5Wxjq8q4/X5fNarylShdoJxdnP/yr37Zzqo0Hc+6Vg/T+PDpY9sqRLY1zxYeIC7PXVOZ1rtTlcZ777z3aCoQZZQBVgIgTJpgt356fFxbT8ZizjLlkTX4xrczh8bEkdCwrpy+upqdBNmE7kz3D9p6AclWmcg5EQNISXzydhAWzsQaFUtRUzxuQwiTb+uY40nvQEVIa/X8xeXaPKLX6ABnc9e2ThXHIVQNoPGx52pxctcIIEbzKdQAtFZgmFgxqKI1VgJ6nAbl1OzMlBxOPaHNhda7zYvPvqjq+d32vYYCptJg4HSFonx3IrF/DKlQPv1TwkyFtBaNpAwrxZXFU/YXAqUUop97NwMqwSgGMKc0pZQKFsAISVNigw5qk3Ail+oFopf90wjaqcqSImOU905rIM6FAkkizgyROAozKt3UtqoQ0WmtFIhWqqpdzHmMQ7sQtMr7prDnsfQ8kQwGjY472DwMykWD2tvKaA0nrqcZG3DlVFY5i2pARaWyKALCRoCEQag0XaVkZibnW6Xf//6hMGUdCjNnrdgYxnGd+02BjEAmRUmBSwImA1xpVVvsSrHTJMC2a+daqZxECJmMASQi69A3rZ/NtGVMIqZAJrK+0Up82zw0T3IQveuqpTKeORUpzKjjiWwJHGcNhTQKQ2U6UEcEtHkVw94aAm3gZN2n8E3lyDbjq28upz6kHNVYnPOh5Ms3zbPX82nM43Hq6pkWQ0RNu9xPey6JMrNBj91+u7t7vF91Lwik4pZlJJYclVXIDObErISQsLoc7cpE5VGTwTpJ9hfKmWyDBu1CmESJaNA0aqM0oDVGgTsxIRIMtmVD5Tg+ac+RUsmCrB7WTzW7/himKqP4SBkoKq0BdBTkIkRQoPVowZ1mPRYohcYf5QunFyowFN0uNbRc1JN3cSpHChMbaede5fRft7/O+3dn17K8qv4vAAD//6zJJU8F2/7OAAAAAElFTkSuQmCC\"><figcaption style=\"text-align: center;\">Example 13333: horse (7)</figcaption></figure></td>\n",
       "</tr></table>\n"
      ]
     },
     "metadata": {},
     "output_type": "display_data"
    },
    {
     "data": {
      "text/html": [
       "<h3>Samples from Cifar-100</h3><table><tr>\n",
       "\t<td><figure style=\"padding:4px;text-align: center;\"><img width=\"128\" height=\"128\" src=\"data:image/png;base64,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\"><figcaption style=\"text-align: center;\">Example 38612: beaver (4)</figcaption></figure></td>\n",
       "\t<td><figure style=\"padding:4px;text-align: center;\"><img width=\"128\" height=\"128\" src=\"data:image/png;base64,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\"><figcaption style=\"text-align: center;\">Example 21603: bed (5)</figcaption></figure></td>\n",
       "\t<td><figure style=\"padding:4px;text-align: center;\"><img width=\"128\" height=\"128\" src=\"data:image/png;base64,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\"><figcaption style=\"text-align: center;\">Example 21013: skyscraper (76)</figcaption></figure></td>\n",
       "\t<td><figure style=\"padding:4px;text-align: center;\"><img width=\"128\" height=\"128\" src=\"data:image/png;base64,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\"><figcaption style=\"text-align: center;\">Example 29138: flatfish (32)</figcaption></figure></td>\n",
       "</tr><tr>\n",
       "\t<td><figure style=\"padding:4px;text-align: center;\"><img width=\"128\" height=\"128\" src=\"data:image/png;base64,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\"><figcaption style=\"text-align: center;\">Example 24000: girl (35)</figcaption></figure></td>\n",
       "\t<td><figure style=\"padding:4px;text-align: center;\"><img width=\"128\" height=\"128\" src=\"data:image/png;base64,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\"><figcaption style=\"text-align: center;\">Example 45743: table (84)</figcaption></figure></td>\n",
       "\t<td><figure style=\"padding:4px;text-align: center;\"><img width=\"128\" height=\"128\" src=\"data:image/png;base64,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\"><figcaption style=\"text-align: center;\">Example 11907: woman (98)</figcaption></figure></td>\n",
       "\t<td><figure style=\"padding:4px;text-align: center;\"><img width=\"128\" height=\"128\" src=\"data:image/png;base64,iVBORw0KGgoAAAANSUhEUgAAACAAAAAgCAIAAAD8GO2jAAAHzElEQVR4nDRWWW8jx7U+W1X1QlIitVz4xXNxLy5wHQRObP+XvOU5vzOAk4cAToIEiGfGE48tja0ZbWSTzd5qOUE1PQWBkrqbp7rOt5xPfvf7P6SUQFUBQSGlpHklICAiQsL8Qaoa56UhpqQACoD5wfwHEBL/8qgSAyIgEAACgKgqEeW6EVRRlSD/RkQA4gSgKamfVFMulu+AGEJAH/yxbadpIiLOP1yXVVUXLEiY6+TdAQQ/rlw3X8r75bL5MAkBYoyfXF+lFJumyXVj6Pv+cFrNPoXgXFHXVeEKiEFY60WxWW+63o/jhIhirdWU0i9t0BSTgjKoE768vDTWTuN4tVn/fHe3323btn3e7Q7tIcbETIuivLy+Ol+vl8ulEQOgTBiTF+bHx7sQYl1XAgBIxLnhQVXZCTGfL1efXF85556en7bd+Oc/fX1zczNOo/c+aCrK4vLqarNeb1Zny6om5vxiIaaQfIiuMO2hefXy1eR9VVXiTIaBmUXsYlFVVeWKQoj6rn/7w/dvvnvTtu3+0B6PLRFVZblan5+tz8+WS2ssI4UYIfgQfAzREFycrzbXl29/uuuHLoTk/SSFNSfoysJaYsvy/OH+7c3t3f19s2t2TaMpGqK6rs9Wq8VyWS2XiOgHr1Ny1ikl0EiQXCEX6+WL66se4Dj2McUMK4Acjy0zH9rWMu122+vr69evX314eAyAIQREZJbLzfry4oKYx3H042TEkKIhxrnpVqwTWiyrs0WpoIfDcbtrTrDmDbquSyn1fb/P9Oj04aE5tMhsiUWEiM7Pzj652DS7JsY4U54LMc5YZ4yxbC07w3XhREgQLq4uH/vp/fv7zNv5CLLbNYiwWCxCiv00bfeHCEicoTZEq9VqfX6uMXbHzhip60VZutKZ0trSOutEDObqBIT6+a9/Zcryj9/8/XA4EuEsQZDFonbWAsLQTpOPfTeIcQAqwmdnZ5eXl0LkD+1/XV2llKq6Kguuq6K0bt7AMpMVmobjV7/94rPP/v/rv37zw+1t8IlPYkWUEGI/7EMIT8+7BMhizCy0zeb8YrPJJFaoq/p8tbLWirC1YX22WFYLKyamrMrm+fH//vd/vvjN59tm9/L1d+9+fk8kjMpEeYMfb39S0KIoxFiFLAcRWS3r1bKO3odxyhI0Fomcs8u6XFSyPl+eLWpGmHw8tMfNev3ll1+h0Jt3ty/f3PiAVVX+YgyqwsbwrAIRSSkx82KxcNb0fY9JrRgrkv2LNIYhBUIVSCpEQtmmMIUXLz692Kzvnx7++e3Lu/uttRXMzqWzb0pd17MO0DnHzDSfaxgH0mhYmLkoirpia7i0UjgjhlV1mmYFCTlDF5t1iOHbV6//9epN2w1ErDGLABFzPzJhiXKVuvbeT1N2qEwxzL0qnCvLYrGQVW5OQaDM1kg2GFUwhsuyIJG3N7d/+ds/fnx3HzMonPkzG37GYJqm9XpdVdU0TcMwqKoxWdvEeQ8AyDYwaXIWkhojMNs+AHjvkcRW1b9v3/3w7u7l9zf9pCROU3bq7HBAuffr9VpEjsfjNE0hBIBs00yAKoYlxNh3QScY2q5xpi6LepGl4AmtocFL58PN+8e7x+1hiGLLlBhiYqJECfJUUGGk/thlm4whxmCMaEIFCiH7viAGSMmnGDgGM3Rd27ausDH4qqzMonrat7c/P+4Ogw8oxkBCYGRFxTygpmmUsc/2Mk/KQJgIgUnz3lFjitNEznCAkO2hLBwLQowh7tv+/nnfpbDvJz9BDMxkECNiAkZNGMeY+wwo49CHEE5jbx7CoDHNACBz5qatXFmWy0VtMj2yhaWZdsduuH28J1MYKej0BcyfIQbv/TgMxhjvvcQUMIOSMM/cjAzOFCEEYa6rcrWonZMw+aDTOI55/Gl62u63zT4ENZxnagyjWJtAT0DG2YZjJisKM8aYVJOIscZkfwJFgMLZ1aKqnCVQzeiEBBpy+ZgA9l3XDiOymXMCxOjDmK+faKIKzB/li6jMCIBGxMxiLooCQKvCFHlchxSSmBKt9Smy6hRj0xy6YWRrravmkycRCjGxGJyZo5QM5fspJWFCBRQRhtxCay1mKbBqHMdOEAxnUzbCBnVsmoen58PhiGIYyZjM+mHoRVhQ0pyEmNlVlRCB5gOJYJZlYVxhjMwwA8B6s6pqAyc/ARiJU9Ttbvvw8Nh2AbkgIgUch4GITG5sPscc1dAYEcakEQnZkRhjmLIHWedmPF1RlKuzqiiy+pp9M/kQ49Qej/cf7ru+T5qpoiFlwsxgWmtj1JOPLZdLBPAxBsjjj4llvdmcIthyuVguFzHGbhy7hz7GMQ8DRB/Sbv+0axo/TXpCcDayGGMm94ykmVeOHVUVQshJMGFKymzk0/9+kVIahiHGeOj67XY7TlO2ydKWZZli2u/b3b5NGShrJVPs5IPe+1Pecc7Nsyhbbwhh9nzJ2GtmrLz/8MEVDhS2u6Yfhr7vCamsHCfYNofj8RhjygXZnFIszVHXGFNVVU7NH1fOmfOUZ+aYGZt1F2OQoioBYN803TBEVTY2Z2GkkCACsXGSpxmd1C4sc25Np+Z8jOJ6Yv2pbzFG76MPWTwxxmy/h8NhGCcgij5kC0SMSYdpHpY5SZ/SMswwYg7nc63Ty54OMZMKZjmGFFMI0Uec/wv/CQAA//98fgpUy2dJxgAAAABJRU5ErkJggg==\"><figcaption style=\"text-align: center;\">Example 37212: whale (95)</figcaption></figure></td>\n",
       "</tr></table>\n"
      ]
     },
     "metadata": {},
     "output_type": "display_data"
    }
   ],
   "source": [
    "import (\n",
    "    \"github.com/gomlx/gomlx/examples/cifar\"\n",
    "    \"github.com/gomlx/gomlx/types/shapes\"\n",
    "\n",
    "    \"github.com/janpfeifer/gonb/gonbui\"\n",
    ")\n",
    "\n",
    "// sampleToNotebook generates a sample of Cifar-10 and Cifar-100 in a GoNB Jupyter Notebook.\n",
    "func sampleToNotebook(rows, cols int) {\n",
    "    dtype := shapes.Float32\n",
    "    \n",
    "    // Load data into tensors.\n",
    "    images10, labels10, err := cifar.LoadCifar10(*flagDataDir, dtype)\n",
    "    AssertNoError(err)\n",
    "    images100, labels100, err := cifar.LoadCifar100(*flagDataDir, dtype)\n",
    "    AssertNoError(err)\n",
    "    \n",
    "    sampleTable(\"Samples from Cifar-10\", images10.Local(), labels10.Local(), cifar.C10Labels[:], rows, cols)\n",
    "    sampleTable(\"Samples from Cifar-100\", images100.Local(), labels100.Local(), cifar.C100FineLabels[:], rows, cols)\n",
    "}\n",
    "\n",
    "// sampleTable generates and outputs one html table of samples, sampling rows x cols from the images/labels provided.\n",
    "func sampleTable(title string, images, labels *tensor.Local, labelsText []string, rows, cols int) {\n",
    "    htmlRows := make([]string, 0, rows)\n",
    "    for row := 0; row < rows; row++ {\n",
    "        cells := make([]string, 0, cols)\n",
    "        for col := 0; col < cols; col++ {\n",
    "            cells = append(cells, sampleOneImage(images, labels, labelsText))\n",
    "        }\n",
    "        htmlRows = append(htmlRows, fmt.Sprintf(\"<tr>\\n\\t<td>%s</td>\\n</tr>\", strings.Join(cells, \"</td>\\n\\t<td>\")))\n",
    "    }\n",
    "    htmlTable := fmt.Sprintf(\"<h3>%s</h3><table>%s</table>\\n\", title, strings.Join(htmlRows, \"\"))\n",
    "    gonbui.DisplayHTML(htmlTable)\n",
    "}\n",
    "\n",
    "// sampleOneImage one image from tensor and returns an HTML rendered image with label\n",
    "func sampleOneImage(images, labels *tensor.Local, labelsText []string) string {\n",
    "    exampleNum := rand.Intn(images.Shape().Dimensions[0])\n",
    "    labelsData := labels.Flat().([]int)\n",
    "    label := labelsData[exampleNum]\n",
    "    labelStr := labelsText[label]\n",
    "    img := cifar.ConvertToGoImage(images, exampleNum)\n",
    "    imgSrc, err := gonbui.EmbedImageAsPNGSrc(img)\n",
    "    AssertNoError(err)\n",
    "    return fmt.Sprintf(`<figure style=\"padding:4px;text-align: center;\"><img width=\"128\" height=\"128\" src=\"%s\"><figcaption style=\"text-align: center;\">Example %d: %s (%d)</figcaption></figure>`, imgSrc, exampleNum, labelStr, label)\n",
    "}\n",
    "\n",
    "%%\n",
    "AssertDownloaded()\n",
    "rows, cols := 2, 4\n",
    "sampleToNotebook(rows, cols)"
   ]
  },
  {
   "cell_type": "markdown",
   "id": "7fa8c06c-ede0-4cd1-80bd-9331422e3a63",
   "metadata": {},
   "source": [
    "## Training on Cifar-10\n",
    "\n",
    "### Models Support\n",
    "\n",
    "In this cell we define 3 functions we are going to use for the modeling:\n",
    "\n",
    "1. `getBatchedImages`: this will take the `cifar.Dataset` yielded `spec`, and convert the image indices that are given as input, and convert them to the actual batch of images. The whole Cifar-10 dataset is configured as a variable -- so it can be stored in the accelerator memory for faster access. This function will call the `Dataset.GatherImagesGraph` to retrieve it.\n",
    "1. `normalizeImage` and `normalizeFeatures`: they normalize `x` according to the hyperparameter given in `flagNormalization` flag.\n"
   ]
  },
  {
   "cell_type": "code",
   "execution_count": 6,
   "id": "c8d3c19e-af0c-4fef-a76c-dabb375972d0",
   "metadata": {
    "tags": []
   },
   "outputs": [],
   "source": [
    "import (\n",
    "    \"flags\"\n",
    "    \n",
    "    . \"github.com/gomlx/gomlx/graph\"\n",
    "    \"github.com/gomlx/gomlx/examples/cifar\"\n",
    "    \"github.com/gomlx/gomlx/ml/context\"\n",
    ")\n",
    "\n",
    "var (\n",
    "    // ML Manager creation:\n",
    "    flagNumThreads  = flag.Int(\"num_threads\", -1, \"Number of threads. Leave as -1 to use as many as there are cores.\")\n",
    "    flagNumReplicas = flag.Int(\"num_replicas\", 1, \"Number of replicas.\")\n",
    "    flagPlatform    = flag.String(\"platform\", \"\", \"Platform to use, if empty uses the default one.\")\n",
    "\n",
    "    // Model hyper-parameters.\n",
    "    flagL2Regularization = flag.Float64(\"l2_reg\", 0, \"L2 regularization on kernels. It doesn't interact well with --batch_norm.\")\n",
    "    flagNormalization    = flag.String(\"norm\", \"layer\", \"Type of normalization to use. Valid values are \\\"none\\\", \\\"batch\\\", \\\"layer\\\".\")\n",
    "\n",
    "    // Model hyperparameters:\n",
    "    flagNumHiddenLayers = flag.Int(\"hidden_layers\", 8, \"Number of hidden layers, stacked with residual connection.\")\n",
    "    flagNumNodes        = flag.Int(\"num_nodes\", 128, \"Number of nodes in hidden layers.\")\n",
    "    flagDropoutRate     = flag.Float64(\"dropout\", 0, \"Dropout rate\")\n",
    ")\n",
    "\n",
    "func getBatchedImages(ctx *context.Context, spec any, inputs []*Node) (batchedImages *Node) {\n",
    "    g := inputs[0].Graph()\n",
    "    if !g.Ok() {\n",
    "        return nil\n",
    "    }\n",
    "\n",
    "    if spec != nil {\n",
    "        // spec should hold the dataset that converts the image indices to the actual\n",
    "        // images, by gathering from a large variable that holds all the images.\n",
    "        dataset, ok := spec.(*cifar.Dataset)\n",
    "        if !ok {\n",
    "            g.SetErrorf(\"spec given to FNNModelGraph is not a *cifarDataset, instead got %T\", spec)\n",
    "            return nil\n",
    "        }\n",
    "        // We assume that batchedImages passed is actually a list of indices, and we need to gather\n",
    "        // the actual images.\n",
    "        batchedImages = dataset.GatherImagesGraph(ctx, inputs[0])\n",
    "    } else {\n",
    "        // If a spec was not given, we assume the raw images are being fed for inference.\n",
    "        batchedImages = inputs[0]\n",
    "    }\n",
    "    if !batchedImages.Ok() {\n",
    "        g.SetErrorf(\"failed to load batch of images\")\n",
    "        return nil\n",
    "    }\n",
    "    return\n",
    "}\n",
    "\n",
    "func normalizeImage(ctx *context.Context, x *Node) *Node {\n",
    "    x.AssertRank(4)  // [batch_size, width, height, depth]\n",
    "    switch *flagNormalization {\n",
    "    case \"layer\":\n",
    "        return layers.LayerNormalization(ctx, x, 1, 2).ScaleNormalization(false).Done()\n",
    "    case \"batch\":\n",
    "        return layers.BatchNormalization(ctx, x, -1).Done()\n",
    "    case \"none\":\n",
    "        return x\n",
    "    }\n",
    "    g := x.Graph()\n",
    "    g.SetErrorf(\"invalid normalization selected %q -- valid values are batch, layer, none\", *flagNormalization)\n",
    "    return g.InvalidNode()\n",
    "}\n",
    "\n",
    "func normalizeFeatures(ctx *context.Context, x *Node) *Node {\n",
    "    x.AssertRank(2)  // [batch_size, embedding_dim]\n",
    "    switch *flagNormalization {\n",
    "    case \"layer\":\n",
    "        return layers.LayerNormalization(ctx, x, -1).Done()\n",
    "    case \"batch\":\n",
    "        return layers.BatchNormalization(ctx, x, -1).Done()\n",
    "    case \"none\":\n",
    "        return x\n",
    "    }\n",
    "    g := x.Graph()\n",
    "    g.SetErrorf(\"invalid normalization selected %q -- valid values are batch, layer, none\", *flagNormalization)\n",
    "    return g.InvalidNode()\n",
    "}"
   ]
  },
  {
   "cell_type": "markdown",
   "id": "f771ca6f-5912-4406-9f2a-a838fd7cd065",
   "metadata": {},
   "source": [
    "### Simple FNN model\n",
    "\n",
    "A trivial model, that can easily get to ~45% accuracy (a random model would do 10%), but hardly much more than that.\n",
    "\n",
    "Later we are going to define a CNN model to compare, and we just set a placeholder model here for now.\n",
    "\n",
    "> **Note**: \n",
    ">\n",
    "> * Cifar datasets yields (`Dataset.Yield()`) only the indices to the images of the batch as a `Tensor`. But it provides a `GatherImagesGraph` method that gathers the images from a static variable that holds the whole dataset (~1Gb in memory, stored as float32). We access it through the `getBatchedImatges()` defined above. \n"
   ]
  },
  {
   "cell_type": "code",
   "execution_count": 7,
   "id": "0ac4e4da-2c3b-431c-9e54-00e31045785f",
   "metadata": {
    "tags": []
   },
   "outputs": [
    {
     "name": "stdout",
     "output_type": "stream",
     "text": [
      "Logits shape for batch_size=3: (Float32)[3 10]\n"
     ]
    }
   ],
   "source": [
    "import (\n",
    "    \"flags\"\n",
    "    \n",
    "    . \"github.com/gomlx/gomlx/graph\"\n",
    "    \"github.com/gomlx/gomlx/examples/cifar\"\n",
    "    \"github.com/gomlx/gomlx/ml/context\"\n",
    "    \"github.com/gomlx/gomlx/ml/train/optimizers\"\n",
    "    \"github.com/gomlx/gomlx/types/shapes\"\n",
    ")\n",
    "\n",
    "var DType = shapes.Float32\n",
    "\n",
    "func FNNModelGraph(ctx *context.Context, spec any, inputs []*Node) []*Node {\n",
    "    g := inputs[0].Graph()\n",
    "    if !g.Ok() {\n",
    "        return nil\n",
    "    }\n",
    "    batchedImages := getBatchedImages(ctx, spec, inputs)\n",
    "    if !g.Ok() {\n",
    "        return nil\n",
    "    }\n",
    "    batchSize := batchedImages.Shape().Dimensions[0]\n",
    "    logits := Reshape(batchedImages, batchSize, -1)\n",
    "    {\n",
    "        ctx := ctx.In(\"Dense_0\")\n",
    "        logits = layers.DenseWithBias(ctx, logits, *flagNumNodes)\n",
    "        logits = normalizeFeatures(ctx, logits)\n",
    "    }\n",
    "    for ii := 1; ii < *flagNumHiddenLayers; ii++ {\n",
    "        ctx := ctx.In(fmt.Sprintf(\"Dense_%d\", ii))\n",
    "        // Add layer with residual connection.\n",
    "        tmp := Sigmoid(logits)\n",
    "        if *flagDropoutRate > 0 {\n",
    "            tmp = layers.Dropout(ctx, tmp, Const(g, shapes.CastAsDType(*flagDropoutRate, tmp.DType())))\n",
    "        }\n",
    "        tmp = layers.DenseWithBias(ctx, tmp, *flagNumNodes)\n",
    "        tmp = normalizeFeatures(ctx, tmp)\n",
    "        logits = Add(logits, tmp)\n",
    "    }\n",
    "    logits = Sigmoid(logits)\n",
    "    logits = layers.DenseWithBias(ctx.In(\"denseFinal\"), logits, len(cifar.C10Labels))\n",
    "    return []*Node{logits}\n",
    "}\n",
    "\n",
    "// Only a placeholder for now.\n",
    "func CNNModelGraph(ctx *context.Context, spec any, inputs []*Node) []*Node {\n",
    "    return nil   \n",
    "}\n",
    "\n",
    "%% --platform=Host\n",
    "\n",
    "// Let's test that the logits are coming out with the right shape: we want [batch_size, 10], since there are 10 classes.\n",
    "AssertDownloaded()\n",
    "manager := BuildManager().NumThreads(*flagNumThreads).NumReplicas(*flagNumReplicas).Platform(*flagPlatform).MustDone()\n",
    "trainDS, err := cifar.NewDataset(\"Cifar-10 Batched Train\", *flagDataDir, cifar.C10, DType, cifar.Train, 3, false) // loops forever.\n",
    "AssertNoError(err)\n",
    "\n",
    "graph := manager.NewGraph(\"test\")\n",
    "ctx := context.NewContext(manager)\n",
    "logits := FNNModelGraph(ctx, trainDS, []*Node{graph.Parameter(\"images\", shapes.Make(shapes.Int64, /*Batch Size*/ 3, 1))})\n",
    "AssertNoError(graph.Error())\n",
    "AssertNoError(ctx.Error())\n",
    "fmt.Printf(\"Logits shape for batch_size=%d: %s\\n\", 3, logits[0].Shape())\n"
   ]
  },
  {
   "cell_type": "markdown",
   "id": "aef7d6ee-ca2b-40c7-ac3d-4242ecd8ed1b",
   "metadata": {},
   "source": [
    "### Training Loop\n",
    "\n",
    "With a model function defined, let's create our training loop, with the usual bells and whistles: accuracy metrics, progress-bar, plot of metrics, checkpoints."
   ]
  },
  {
   "cell_type": "code",
   "execution_count": 8,
   "id": "d72336ef-d96d-4d98-a3a6-5df912be5f24",
   "metadata": {
    "tags": []
   },
   "outputs": [
    {
     "name": "stdout",
     "output_type": "stream",
     "text": [
      "Platform: CUDA\n",
      "Training (500 steps):  100% [\u001b[32m=\u001b[0m\u001b[32m=\u001b[0m\u001b[32m=\u001b[0m\u001b[32m=\u001b[0m\u001b[32m=\u001b[0m\u001b[32m=\u001b[0m\u001b[32m=\u001b[0m\u001b[32m=\u001b[0m\u001b[32m=\u001b[0m\u001b[32m=\u001b[0m\u001b[32m=\u001b[0m\u001b[32m=\u001b[0m\u001b[32m=\u001b[0m\u001b[32m=\u001b[0m\u001b[32m=\u001b[0m\u001b[32m=\u001b[0m\u001b[32m=\u001b[0m\u001b[32m=\u001b[0m\u001b[32m=\u001b[0m\u001b[32m=\u001b[0m\u001b[32m=\u001b[0m\u001b[32m=\u001b[0m\u001b[32m=\u001b[0m\u001b[32m=\u001b[0m\u001b[32m=\u001b[0m\u001b[32m=\u001b[0m\u001b[32m=\u001b[0m\u001b[32m=\u001b[0m\u001b[32m=\u001b[0m\u001b[32m=\u001b[0m\u001b[32m=\u001b[0m\u001b[32m=\u001b[0m\u001b[32m=\u001b[0m\u001b[32m=\u001b[0m\u001b[32m=\u001b[0m\u001b[32m=\u001b[0m\u001b[32m=\u001b[0m\u001b[32m=\u001b[0m\u001b[32m=\u001b[0m\u001b[32m=\u001b[0m] (118 steps/s)\u001b[0m [loss=1.810] [~loss=1.931] [~acc=32.47%]        \n",
      "\n",
      "Results on Cifar-10 Eval On Train:\n",
      "\tMean Loss (#loss): 1.881\n",
      "\tMean Accuracy (#acc): 34.15%\n",
      "Results on Cifar-10 Eval On Test:\n",
      "\tMean Loss (#loss): 1.882\n",
      "\tMean Accuracy (#acc): 34.06%\n",
      "\n"
     ]
    }
   ],
   "source": [
    "import (\n",
    "    \"flags\"\n",
    "    \n",
    "    \"github.com/gomlx/gomlx/examples/cifar\"\n",
    "    \"github.com/gomlx/gomlx/ml/context\"\n",
    "    \"github.com/gomlx/gomlx/ml/train\"\n",
    "    \"github.com/gomlx/gomlx/types/slices\"\n",
    ")\n",
    "\n",
    "var (\n",
    "    // Training flags:\n",
    "    flagModel            = flag.String(\"model\", \"fnn\", \"Model type: fnn or cnn.\")\n",
    "    flagNumSteps         = flag.Int(\"steps\", 2000, \"Number of gradient descent steps to perform\")\n",
    "    flagBatchSize        = flag.Int(\"batch\", 50, \"Batch size for training\")\n",
    "    flagOptimizer        = flag.String(\"optimizer\", \"adamw\", fmt.Sprintf(\"Optimizer, options: %v\", slices.Keys(optimizers.KnownOptimizers)))\n",
    "    flagLearningRate     = flag.Float64(\"learning_rate\", 0.0001, \"Initial learning rate.\")\n",
    "    flagCheckpoint       = flag.String(\"checkpoint\", \"\", \"Directory save and load checkpoints from. If left empty, no checkpoints are created.\")\n",
    "    flagCheckpointKeep   = flag.Int(\"checkpoint_keep\", 10, \"Number of checkpoints to keep, if --checkpoint is set.\")\n",
    "    \n",
    "    // Training UI:\n",
    "    flagUseProgressBar = flag.Bool(\"bar\", true, \"If to display a progress bar during training\")\n",
    "    flagNumPlotPoints  = flag.Int(\"plot_points\", 50, \"Number points to plot.\")\n",
    ")\n",
    "\n",
    "var (\n",
    "    // DType used for the model.\n",
    "    DType = shapes.Float32\n",
    "    \n",
    "    // EvalBatchSize can be larger than training, more efficient.\n",
    "    EvalBatchSize = 2000\n",
    ")\n",
    "\n",
    "\n",
    "func trainModel() {\n",
    "    // Make sure data is downloaded.\n",
    "    AssertDownloaded()\n",
    "\n",
    "    // Manager handles creation of ML computation graphs, accelerator resources, etc.\n",
    "    manager := BuildManager().NumThreads(*flagNumThreads).NumReplicas(*flagNumReplicas).Platform(*flagPlatform).MustDone()\n",
    "    fmt.Printf(\"Platform: %s\\n\", manager.Platform())\n",
    "\n",
    "    // Create datasets used for training and evaluation.\n",
    "    trainDS, err := cifar.NewDataset(\"Cifar-10 Batched Train\", *flagDataDir, cifar.C10, DType, cifar.Train, *flagBatchSize, false) // loops forever.\n",
    "    AssertNoError(err)\n",
    "    evalOnTestDS, err := cifar.NewDataset(\"Cifar-10 Eval On Test\", *flagDataDir, cifar.C10, DType, cifar.Test, EvalBatchSize, true) // 1 epoch.\n",
    "    AssertNoError(err)\n",
    "    evalOnTrainDS, err := cifar.NewDataset(\"Cifar-10 Eval On Train\", *flagDataDir, cifar.C10, DType, cifar.Train, EvalBatchSize, true) // 1 epoch.\n",
    "    AssertNoError(err)\n",
    "\n",
    "    // Create closure for model graph building function, that uses statically the dataset\n",
    "    // used for its `cifar.Dataset.GatherImageGraph`, to convert image indices to the actual images.\n",
    "    // This is the signature of model function that the train.Trainer accepts.\n",
    "    modelFn := FNNModelGraph\n",
    "    if *flagModel == \"cnn\" {\n",
    "        modelFn = CNNModelGraph\n",
    "    }\n",
    "\n",
    "    // Metrics we are interested.\n",
    "    meanAccuracyMetric := metrics.NewSparseCategoricalAccuracy(\"Mean Accuracy\", \"#acc\")\n",
    "    movingAccuracyMetric := metrics.NewMovingAverageSparseCategoricalAccuracy(\"Moving Average Accuracy\", \"~acc\", 0.01)\n",
    "\n",
    "    // Context holds the variables and hyperparameters for the model.\n",
    "    ctx := context.NewContext(manager)\n",
    "    ctx.SetParam(optimizers.LearningRateKey, *flagLearningRate)\n",
    "    ctx.SetParam(layers.L2RegularizationKey, *flagL2Regularization)\n",
    "\n",
    "    // Checkpoints saving.\n",
    "    var checkpoint *checkpoints.Handler\n",
    "    if *flagCheckpoint != \"\" {\n",
    "        checkpointPath := data.ReplaceTildeInDir(*flagCheckpoint)\n",
    "        if !path.IsAbs(checkpointPath) {\n",
    "            checkpointPath = path.Join(*flagDataDir, checkpointPath)\n",
    "        }\n",
    "        var err error\n",
    "        checkpoint, err = checkpoints.Build(ctx).Dir(checkpointPath).Keep(*flagCheckpointKeep).Done()\n",
    "        AssertNoError(err)\n",
    "    }\n",
    "\n",
    "    // Create a train.Trainer: this object will orchestrate running the model, feeding\n",
    "    // results to the optimizer, evaluating the metrics, etc. (all happens in trainer.TrainStep)\n",
    "    trainer := train.NewTrainer(manager, ctx, modelFn,\n",
    "        losses.SparseCategoricalCrossEntropyLogits,\n",
    "        optimizers.MustOptimizerByName(*flagOptimizer),\n",
    "        []metrics.Interface{movingAccuracyMetric}, // trainMetrics\n",
    "        []metrics.Interface{meanAccuracyMetric})   // evalMetrics\n",
    "\n",
    "    // Use standard training loop.\n",
    "    loop := train.NewLoop(trainer)\n",
    "    if *flagUseProgressBar {\n",
    "        commandline.AttachProgressBar(loop) // Attaches a progress bar to the loop.\n",
    "    }\n",
    "\n",
    "    // Attach a checkpoint.\n",
    "    if checkpoint != nil {\n",
    "        train.NTimesDuringLoop(loop, *flagCheckpointKeep, \"checkpointing\", 100, func(_ *train.Loop, _ []tensor.Tensor) error {\n",
    "            return checkpoint.Save()\n",
    "        })\n",
    "    }\n",
    "\n",
    "    // Attach a margaid plots.\n",
    "    if *flagNumPlotPoints > 0 {\n",
    "        margaid.New(1024, 400, evalOnTrainDS, evalOnTestDS).DynamicUpdates().Attach(loop, *flagNumPlotPoints)\n",
    "    }\n",
    "\n",
    "    // Loop for given number of steps.\n",
    "    _, err = loop.RunSteps(trainDS, *flagNumSteps)\n",
    "    AssertNoError(err)\n",
    "\n",
    "    // Finally print an evaluation on train and test datasets.\n",
    "    fmt.Println()\n",
    "    err = commandline.ReportEval(trainer, evalOnTrainDS, evalOnTestDS)\n",
    "    AssertNoError(err)\n",
    "    fmt.Println()\n",
    "\n",
    "    // Release memory -- not really needed since we are exiting, just for the example.\n",
    "    cifar.ResetCache()\n",
    "}\n",
    "\n",
    "%% --model=fnn --steps=500 --plot_points=0\n",
    "trainModel()"
   ]
  },
  {
   "cell_type": "markdown",
   "id": "300a8419-5679-42ba-9149-51c17c7c427d",
   "metadata": {},
   "source": [
    "### FNN Model Training\n",
    "\n",
    "Let's train the FNN for real this time."
   ]
  },
  {
   "cell_type": "code",
   "execution_count": 9,
   "id": "cf876f49-e737-4dfa-aa05-48aad3d7a128",
   "metadata": {
    "tags": []
   },
   "outputs": [
    {
     "name": "stdout",
     "output_type": "stream",
     "text": [
      "Platform: CUDA\n"
     ]
    },
    {
     "data": {
      "text/html": []
     },
     "metadata": {},
     "output_type": "display_data"
    },
    {
     "name": "stdout",
     "output_type": "stream",
     "text": [
      "Training (10000 steps):  100% [\u001b[32m=\u001b[0m\u001b[32m=\u001b[0m\u001b[32m=\u001b[0m\u001b[32m=\u001b[0m\u001b[32m=\u001b[0m\u001b[32m=\u001b[0m\u001b[32m=\u001b[0m\u001b[32m=\u001b[0m\u001b[32m=\u001b[0m\u001b[32m=\u001b[0m\u001b[32m=\u001b[0m\u001b[32m=\u001b[0m\u001b[32m=\u001b[0m\u001b[32m=\u001b[0m\u001b[32m=\u001b[0m\u001b[32m=\u001b[0m\u001b[32m=\u001b[0m\u001b[32m=\u001b[0m\u001b[32m=\u001b[0m\u001b[32m=\u001b[0m\u001b[32m=\u001b[0m\u001b[32m=\u001b[0m\u001b[32m=\u001b[0m\u001b[32m=\u001b[0m\u001b[32m=\u001b[0m\u001b[32m=\u001b[0m\u001b[32m=\u001b[0m\u001b[32m=\u001b[0m\u001b[32m=\u001b[0m\u001b[32m=\u001b[0m\u001b[32m=\u001b[0m\u001b[32m=\u001b[0m\u001b[32m=\u001b[0m\u001b[32m=\u001b[0m\u001b[32m=\u001b[0m\u001b[32m=\u001b[0m\u001b[32m=\u001b[0m\u001b[32m=\u001b[0m\u001b[32m=\u001b[0m\u001b[32m=\u001b[0m] (533 steps/s)\u001b[0m [loss=1.371] [~loss=1.411] [~acc=49.68%]        \n"
     ]
    },
    {
     "data": {
      "text/html": [
       "<svg width=\"1024\" height=\"454\" viewbox=\"0 0 1024 400\" style=\"background-color:#f8f8f8\" preserveAspectRatio=\"xMidYMid meet\" xmlns=\"http://www.w3.org/2000/svg\"><defs><marker refX=\"5\" refY=\"5\" markerUnits=\"userSpaceOnUse\" markerWidth=\"2%\" markerHeight=\"2%\" id=\"circle\" viewBox=\"0 0 10 10 \"><circle cx=\"5\" cy=\"5\" r=\"3\" fill=\"none\" stroke=\"black\"/></marker><marker viewBox=\"0 0 10 10 \" refX=\"5\" refY=\"5\" markerUnits=\"userSpaceOnUse\" markerWidth=\"2%\" markerHeight=\"2%\" id=\"filled-circle\"><circle stroke=\"none\" cx=\"5\" cy=\"5\" r=\"3\" fill=\"black\"/></marker><marker viewBox=\"0 0 10 10 \" refX=\"5\" refY=\"5\" markerUnits=\"userSpaceOnUse\" markerWidth=\"2%\" markerHeight=\"2%\" id=\"square\"><rect fill=\"none\" stroke=\"black\" x=\"2\" y=\"2\" width=\"6\" height=\"6\"/></marker><marker id=\"filled-square\" viewBox=\"0 0 10 10 \" refX=\"5\" refY=\"5\" markerUnits=\"userSpaceOnUse\" markerWidth=\"2%\" markerHeight=\"2%\"><rect height=\"6\" fill=\"black\" stroke=\"none\" x=\"2\" y=\"2\" width=\"6\"/></marker></defs><g marker-start=\"url(#square)\" fill=\"none\" stroke=\"hsl(90, 47%, 65%)\" marker-end=\"url(#square)\" stroke-linecap=\"round\" stroke-width=\"2px\" stroke-linejoin=\"round\" marker-mid=\"url(#square)\" transform=\"translate(70 330 )scale(1 -1 )\"><path vector-effect=\"non-scaling-stroke\" d=\"M1.768000e+01,5.274191e+00 L3.456962e+01,1.241585e+02 L5.154412e+01,1.349774e+02 L6.851862e+01,1.557497e+02 L8.549312e+01,1.644666e+02 L1.024676e+02,1.682996e+02 L1.194421e+02,1.836315e+02 L1.364166e+02,1.809113e+02 L1.533911e+02,1.800458e+02 L1.703656e+02,1.875263e+02 L1.873401e+02,1.969851e+02 L2.043146e+02,1.989016e+02 L2.212891e+02,1.980979e+02 L2.382636e+02,1.958105e+02 L2.552381e+02,2.034765e+02 L2.722126e+02,2.053930e+02 L2.891871e+02,2.083604e+02 L3.061616e+02,2.097823e+02 L3.231361e+02,2.129353e+02 L3.401106e+02,2.055166e+02 L3.570851e+02,2.175101e+02 L3.740596e+02,2.107097e+02 L3.910341e+02,2.146045e+02 L4.080086e+02,2.170774e+02 L4.249831e+02,2.160264e+02 L4.419576e+02,2.131207e+02 L4.589321e+02,2.233214e+02 L4.759066e+02,2.327184e+02 L4.928811e+02,2.231978e+02 L5.098556e+02,2.195503e+02 L5.268301e+02,2.218377e+02 L5.438045e+02,2.265362e+02 L5.607790e+02,2.257325e+02 L5.777535e+02,2.304310e+02 L5.947280e+02,2.280817e+02 L6.117025e+02,2.246815e+02 L6.286770e+02,2.254852e+02 L6.456515e+02,2.382824e+02 L6.626260e+02,2.346349e+02 L6.796005e+02,2.278963e+02 L6.965750e+02,2.366132e+02 L7.135495e+02,2.350058e+02 L7.305240e+02,2.347586e+02 L7.474985e+02,2.310492e+02 L7.644730e+02,2.350677e+02 L7.814475e+02,2.293182e+02 L7.984220e+02,2.278344e+02 L8.153965e+02,2.321620e+02 L8.323710e+02,2.393952e+02 L8.493455e+02,2.351913e+02 L8.663200e+02,2.379733e+02 \"/></g><g stroke-linecap=\"round\" stroke=\"hsl(301, 88%, 65%)\" marker-start=\"url(#square)\" transform=\"translate(70 330 )scale(1 -1 )\" stroke-linejoin=\"round\" marker-end=\"url(#square)\" fill=\"none\" marker-mid=\"url(#square)\" stroke-width=\"2px\"><path vector-effect=\"non-scaling-stroke\" d=\"M1.768000e+01,5.200000e+00 L3.456962e+01,1.233548e+02 L5.154412e+01,1.378335e+02 L6.851862e+01,1.553169e+02 L8.549312e+01,1.674588e+02 L1.024676e+02,1.702284e+02 L1.194421e+02,1.806269e+02 L1.364166e+02,1.811215e+02 L1.533911e+02,1.824816e+02 L1.703656e+02,1.866361e+02 L1.873401e+02,1.972819e+02 L2.043146e+02,2.004348e+02 L2.212891e+02,1.977270e+02 L2.382636e+02,1.968367e+02 L2.552381e+02,2.072229e+02 L2.722126e+02,2.073836e+02 L2.891871e+02,2.115010e+02 L3.061616e+02,2.122305e+02 L3.231361e+02,2.167435e+02 L3.401106e+02,2.083357e+02 L3.570851e+02,2.221839e+02 L3.740596e+02,2.151238e+02 L3.910341e+02,2.177574e+02 L4.080086e+02,2.210216e+02 L4.249831e+02,2.188455e+02 L4.419576e+02,2.181654e+02 L4.589321e+02,2.306659e+02 L4.759066e+02,2.366626e+02 L4.928811e+02,2.276366e+02 L5.098556e+02,2.228268e+02 L5.268301e+02,2.331388e+02 L5.438045e+02,2.315561e+02 L5.607790e+02,2.362546e+02 L5.777535e+02,2.392839e+02 L5.947280e+02,2.411757e+02 L6.117025e+02,2.361433e+02 L6.286770e+02,2.378620e+02 L6.456515e+02,2.513022e+02 L6.626260e+02,2.461462e+02 L6.796005e+02,2.389995e+02 L6.965750e+02,2.505108e+02 L7.135495e+02,2.490642e+02 L7.305240e+02,2.480998e+02 L7.474985e+02,2.484707e+02 L7.644730e+02,2.504737e+02 L7.814475e+02,2.386657e+02 L7.984220e+02,2.440071e+02 L8.153965e+02,2.460225e+02 L8.323710e+02,2.540347e+02 L8.493455e+02,2.514753e+02 L8.663200e+02,2.493362e+02 \"/></g><g stroke=\"hsl(152, 76%, 65%)\" marker-end=\"url(#square)\" stroke-linejoin=\"round\" marker-start=\"url(#square)\" fill=\"none\" stroke-linecap=\"round\" stroke-width=\"2px\" marker-mid=\"url(#square)\" transform=\"translate(70 330 )scale(1 -1 )\"><path d=\"M1.768000e+01,5.336005e+00 L3.456962e+01,8.522585e+01 L5.154412e+01,1.267172e+02 L6.851862e+01,1.542273e+02 L8.549312e+01,1.598081e+02 L1.024676e+02,1.682292e+02 L1.194421e+02,1.766459e+02 L1.364166e+02,1.837184e+02 L1.533911e+02,1.876559e+02 L1.703656e+02,1.888286e+02 L1.873401e+02,1.884436e+02 L2.043146e+02,1.975473e+02 L2.212891e+02,1.955950e+02 L2.382636e+02,2.009673e+02 L2.552381e+02,1.981516e+02 L2.722126e+02,2.031375e+02 L2.891871e+02,2.070744e+02 L3.061616e+02,2.097607e+02 L3.231361e+02,2.156443e+02 L3.401106e+02,2.125886e+02 L3.570851e+02,2.178322e+02 L3.740596e+02,2.218565e+02 L3.910341e+02,2.195489e+02 L4.080086e+02,2.235457e+02 L4.249831e+02,2.236010e+02 L4.419576e+02,2.263298e+02 L4.589321e+02,2.296961e+02 L4.759066e+02,2.274394e+02 L4.928811e+02,2.301046e+02 L5.098556e+02,2.283600e+02 L5.268301e+02,2.330136e+02 L5.438045e+02,2.324566e+02 L5.607790e+02,2.338624e+02 L5.777535e+02,2.360190e+02 L5.947280e+02,2.416765e+02 L6.117025e+02,2.370032e+02 L6.286770e+02,2.442827e+02 L6.456515e+02,2.397359e+02 L6.626260e+02,2.399701e+02 L6.796005e+02,2.439039e+02 L6.965750e+02,2.431271e+02 L7.135495e+02,2.402628e+02 L7.305240e+02,2.443518e+02 L7.474985e+02,2.439970e+02 L7.644730e+02,2.482982e+02 L7.814475e+02,2.479146e+02 L7.984220e+02,2.449957e+02 L8.153965e+02,2.514086e+02 L8.323710e+02,2.548000e+02 L8.493455e+02,2.462786e+02 L8.663200e+02,2.506215e+02 \" vector-effect=\"non-scaling-stroke\"/></g><g stroke=\"black\" stroke-linecap=\"round\" stroke-width=\"2px\" stroke-linejoin=\"round\" transform=\"translate(70 330 )scale(1 -1 )\" fill=\"none\"><path vector-effect=\"non-scaling-stroke\" d=\"M1.768000e+01,0 L1.768000e+01,-6 M1.025525e+02,0 L1.025525e+02,-6 M1.874250e+02,0 L1.874250e+02,-6 M2.722975e+02,0 L2.722975e+02,-6 M3.571699e+02,0 L3.571699e+02,-6 M4.420424e+02,0 L4.420424e+02,-6 M5.269149e+02,0 L5.269149e+02,-6 M6.117874e+02,0 L6.117874e+02,-6 M6.966599e+02,0 L6.966599e+02,-6 M7.815324e+02,0 L7.815324e+02,-6 \"/></g><g font-size=\"12px\" stroke=\"black\" stroke-linecap=\"round\" font-family=\"sans-serif\" text-anchor=\"middle\" stroke-width=\"2px\" stroke-linejoin=\"round\" transform=\"translate(70 330 )scale(1 1 )\" dominant-baseline=\"hanging\" fill=\"black\" font-style=\"normal\" font-weight=\"normal\"><text vector-effect=\"non-scaling-stroke\" x=\"1.768000e+01\" y=\"10\" dominant-baseline=\"hanging\" stroke=\"none\">0</text><text y=\"10\" dominant-baseline=\"hanging\" stroke=\"none\" vector-effect=\"non-scaling-stroke\" x=\"1.025525e+02\">1000</text><text y=\"10\" dominant-baseline=\"hanging\" stroke=\"none\" vector-effect=\"non-scaling-stroke\" x=\"1.874250e+02\">2000</text><text stroke=\"none\" vector-effect=\"non-scaling-stroke\" x=\"2.722975e+02\" y=\"10\" dominant-baseline=\"hanging\">3000</text><text stroke=\"none\" vector-effect=\"non-scaling-stroke\" x=\"3.571699e+02\" y=\"10\" dominant-baseline=\"hanging\">4000</text><text vector-effect=\"non-scaling-stroke\" x=\"4.420424e+02\" y=\"10\" dominant-baseline=\"hanging\" stroke=\"none\">5000</text><text x=\"5.269149e+02\" y=\"10\" dominant-baseline=\"hanging\" stroke=\"none\" vector-effect=\"non-scaling-stroke\">6000</text><text stroke=\"none\" vector-effect=\"non-scaling-stroke\" x=\"6.117874e+02\" y=\"10\" dominant-baseline=\"hanging\">7000</text><text vector-effect=\"non-scaling-stroke\" x=\"6.966599e+02\" y=\"10\" dominant-baseline=\"hanging\" stroke=\"none\">8000</text><text stroke=\"none\" vector-effect=\"non-scaling-stroke\" x=\"7.815324e+02\" y=\"10\" dominant-baseline=\"hanging\">9000</text></g><g dominant-baseline=\"baseline\" fill=\"black\" transform=\"translate(70 330 )scale(1 1 )rotate(0 0 0 )\" font-size=\"12px\" font-style=\"normal\" font-weight=\"bold\" text-anchor=\"middle\" font-family=\"sans-serif\" stroke-linecap=\"round\" stroke-linejoin=\"round\" stroke-width=\"2px\" stroke=\"black\"><text dominant-baseline=\"baseline\" stroke=\"none\" vector-effect=\"non-scaling-stroke\" x=\"442\" y=\"-6\">Steps</text></g><g stroke-width=\"2px\" stroke-linejoin=\"round\" fill=\"black\" stroke=\"black\" stroke-linecap=\"round\" font-style=\"normal\" text-anchor=\"middle\" transform=\"translate(70 330 )scale(1 -1 )\" font-size=\"12px\" dominant-baseline=\"baseline\" font-family=\"sans-serif\" font-weight=\"bold\"><path vector-effect=\"non-scaling-stroke\" d=\"M0,5.336009e+00 L-6,5.336009e+00 M0,6.715830e+01 L-6,6.715830e+01 M0,1.289806e+02 L-6,1.289806e+02 M0,1.908029e+02 L-6,1.908029e+02 M0,2.526252e+02 L-6,2.526252e+02 \"/></g><g font-family=\"sans-serif\" text-anchor=\"end\" stroke-width=\"2px\" font-style=\"normal\" font-weight=\"normal\" fill=\"black\" stroke=\"black\" stroke-linejoin=\"round\" transform=\"translate(70 330 )scale(1 1 )\" font-size=\"12px\" stroke-linecap=\"round\" dominant-baseline=\"middle\"><text dominant-baseline=\"middle\" stroke=\"none\" vector-effect=\"non-scaling-stroke\" x=\"-10\" y=\"-5.336009e+00\">0.100</text><text vector-effect=\"non-scaling-stroke\" x=\"-10\" y=\"-6.715830e+01\" dominant-baseline=\"middle\" stroke=\"none\">0.200</text><text stroke=\"none\" vector-effect=\"non-scaling-stroke\" x=\"-10\" y=\"-1.289806e+02\" dominant-baseline=\"middle\">0.300</text><text x=\"-10\" y=\"-1.908029e+02\" dominant-baseline=\"middle\" stroke=\"none\" vector-effect=\"non-scaling-stroke\">0.400</text><text dominant-baseline=\"middle\" stroke=\"none\" vector-effect=\"non-scaling-stroke\" x=\"-10\" y=\"-2.526252e+02\">0.500</text></g><g fill=\"black\" stroke-linecap=\"round\" font-family=\"sans-serif\" dominant-baseline=\"hanging\" font-style=\"normal\" font-weight=\"bold\" text-anchor=\"middle\" stroke-width=\"2px\" stroke-linejoin=\"round\" transform=\"translate(70 330 )scale(1 1 )rotate(-90 0 0 )\" font-size=\"12px\" stroke=\"black\"><text stroke=\"none\" vector-effect=\"non-scaling-stroke\" x=\"130\" y=\"6\" dominant-baseline=\"hanging\">accuracy</text></g><g font-style=\"normal\" stroke-linecap=\"round\" dominant-baseline=\"hanging\" fill=\"black\" transform=\"translate(70 330 )scale(1 -1 )\" font-size=\"12px\" text-anchor=\"middle\" stroke-width=\"0.5px\" stroke=\"gray\" font-family=\"sans-serif\" stroke-linejoin=\"round\" font-weight=\"bold\"><path vector-effect=\"non-scaling-stroke\" d=\"M0,5.336009e+00 L884,5.336009e+00 M0,6.715830e+01 L884,6.715830e+01 M0,1.289806e+02 L884,1.289806e+02 M0,1.908029e+02 L884,1.908029e+02 M0,2.526252e+02 L884,2.526252e+02 \"/></g><g stroke-linecap=\"round\" font-family=\"sans-serif\" text-anchor=\"middle\" stroke-linejoin=\"round\" fill=\"none\" stroke=\"black\" dominant-baseline=\"hanging\" stroke-width=\"2px\" font-size=\"12px\" font-style=\"normal\" font-weight=\"bold\"><rect vector-effect=\"non-scaling-stroke\" x=\"70\" y=\"70\" width=\"884\" height=\"260\"/><g font-size=\"18px\" fill=\"black\" dominant-baseline=\"middle\"><text y=\"35\" dominant-baseline=\"middle\" stroke=\"none\" vector-effect=\"non-scaling-stroke\" x=\"512\">accuracy metrics</text></g><g text-anchor=\"start\" stroke-linecap=\"round\" fill=\"hsl(90, 47%, 65%)\" font-style=\"normal\" font-weight=\"normal\" stroke-width=\"1px\" stroke=\"hsl(90, 47%, 65%)\" font-family=\"sans-serif\" dominant-baseline=\"hanging\" stroke-linejoin=\"round\" font-size=\"12px\"><rect vector-effect=\"non-scaling-stroke\" x=\"76\" y=\"366\" width=\"12\" height=\"12\"/><g stroke=\"black\" fill=\"black\"><text y=\"366\" dominant-baseline=\"hanging\" stroke=\"none\" vector-effect=\"non-scaling-stroke\" x=\"92\">Eval on Cifar-10 Eval On Test: Mean Accuracy</text></g><g dominant-baseline=\"hanging\" stroke=\"hsl(301, 88%, 65%)\" stroke-linecap=\"round\" font-family=\"sans-serif\" font-weight=\"normal\" text-anchor=\"start\" stroke-width=\"1px\" stroke-linejoin=\"round\" fill=\"hsl(301, 88%, 65%)\" font-size=\"12px\" font-style=\"normal\"><rect y=\"384\" width=\"12\" height=\"12\" vector-effect=\"non-scaling-stroke\" x=\"76\"/><g fill=\"black\" stroke=\"black\"><text x=\"92\" y=\"384\" dominant-baseline=\"hanging\" stroke=\"none\" vector-effect=\"non-scaling-stroke\">Eval on Cifar-10 Eval On Train: Mean Accuracy</text></g><g font-weight=\"normal\" text-anchor=\"start\" font-size=\"12px\" fill=\"hsl(152, 76%, 65%)\" font-style=\"normal\" stroke-linejoin=\"round\" dominant-baseline=\"hanging\" stroke=\"hsl(152, 76%, 65%)\" stroke-linecap=\"round\" font-family=\"sans-serif\" stroke-width=\"1px\"><rect x=\"76\" y=\"402\" width=\"12\" height=\"12\" vector-effect=\"non-scaling-stroke\"/><g stroke=\"black\" fill=\"black\"><text stroke=\"none\" vector-effect=\"non-scaling-stroke\" x=\"92\" y=\"402\" dominant-baseline=\"hanging\">Train: Moving Average Accuracy</text></g></g></g></g></g></svg>"
      ]
     },
     "metadata": {},
     "output_type": "display_data"
    },
    {
     "name": "stdout",
     "output_type": "stream",
     "text": [
      "\n",
      "Results on Cifar-10 Eval On Train:\n"
     ]
    },
    {
     "data": {
      "text/html": [
       "<svg height=\"454\" viewbox=\"0 0 1024 400\" style=\"background-color:#f8f8f8\" preserveAspectRatio=\"xMidYMid meet\" xmlns=\"http://www.w3.org/2000/svg\" width=\"1024\"><defs><marker id=\"circle\" viewBox=\"0 0 10 10 \" refX=\"5\" refY=\"5\" markerUnits=\"userSpaceOnUse\" markerWidth=\"2%\" markerHeight=\"2%\"><circle cy=\"5\" r=\"3\" fill=\"none\" stroke=\"black\" cx=\"5\"/></marker><marker refX=\"5\" refY=\"5\" markerUnits=\"userSpaceOnUse\" markerWidth=\"2%\" markerHeight=\"2%\" id=\"filled-circle\" viewBox=\"0 0 10 10 \"><circle fill=\"black\" stroke=\"none\" cx=\"5\" cy=\"5\" r=\"3\"/></marker><marker id=\"square\" viewBox=\"0 0 10 10 \" refX=\"5\" refY=\"5\" markerUnits=\"userSpaceOnUse\" markerWidth=\"2%\" markerHeight=\"2%\"><rect height=\"6\" fill=\"none\" stroke=\"black\" x=\"2\" y=\"2\" width=\"6\"/></marker><marker refY=\"5\" markerUnits=\"userSpaceOnUse\" markerWidth=\"2%\" markerHeight=\"2%\" id=\"filled-square\" viewBox=\"0 0 10 10 \" refX=\"5\"><rect height=\"6\" fill=\"black\" stroke=\"none\" x=\"2\" y=\"2\" width=\"6\"/></marker></defs><g stroke=\"hsl(90, 47%, 65%)\" stroke-width=\"2px\" marker-end=\"url(#square)\" transform=\"translate(70 330 )scale(1 -1 )\" stroke-linecap=\"round\" stroke-linejoin=\"round\" marker-mid=\"url(#square)\" fill=\"none\" marker-start=\"url(#square)\"><path vector-effect=\"non-scaling-stroke\" d=\"M1.768000e+01,2.358784e+02 L3.456962e+01,1.568764e+02 L5.154412e+01,1.348087e+02 L6.851862e+01,1.164744e+02 L8.549312e+01,1.071330e+02 L1.024676e+02,1.029505e+02 L1.194421e+02,8.906548e+01 L1.364166e+02,8.804960e+01 L1.533911e+02,8.739564e+01 L1.703656e+02,8.152268e+01 L1.873401e+02,7.281342e+01 L2.043146e+02,7.052212e+01 L2.212891e+02,6.798164e+01 L2.382636e+02,7.382694e+01 L2.552381e+02,6.291751e+01 L2.722126e+02,6.259966e+01 L2.891871e+02,5.677955e+01 L3.061616e+02,5.707083e+01 L3.231361e+02,5.216675e+01 L3.401106e+02,6.337325e+01 L3.570851e+02,4.797765e+01 L3.740596e+02,5.529178e+01 L3.910341e+02,5.189343e+01 L4.080086e+02,4.741912e+01 L4.249831e+02,5.065753e+01 L4.419576e+02,4.824274e+01 L4.589321e+02,4.052429e+01 L4.759066e+02,3.496757e+01 L4.928811e+02,4.180103e+01 L5.098556e+02,4.902989e+01 L5.268301e+02,4.120332e+01 L5.438045e+02,3.831586e+01 L5.607790e+02,3.554199e+01 L5.777535e+02,3.270160e+01 L5.947280e+02,3.050955e+01 L6.117025e+02,3.630309e+01 L6.286770e+02,3.699597e+01 L6.456515e+02,2.484178e+01 L6.626260e+02,2.943426e+01 L6.796005e+02,3.348040e+01 L6.965750e+02,2.508157e+01 L7.135495e+02,2.651401e+01 L7.305240e+02,2.531329e+01 L7.474985e+02,2.822424e+01 L7.644730e+02,2.423561e+01 L7.814475e+02,3.829381e+01 L7.984220e+02,2.917898e+01 L8.153965e+02,3.132529e+01 L8.323710e+02,2.239941e+01 L8.493455e+02,2.708815e+01 L8.663200e+02,2.410806e+01 \"/></g><g fill=\"none\" stroke-linecap=\"round\" stroke=\"hsl(301, 88%, 65%)\" transform=\"translate(70 330 )scale(1 -1 )\" marker-mid=\"url(#square)\" stroke-width=\"2px\" marker-end=\"url(#square)\" stroke-linejoin=\"round\" marker-start=\"url(#square)\"><path vector-effect=\"non-scaling-stroke\" d=\"M1.768000e+01,2.359781e+02 L3.456962e+01,1.567215e+02 L5.154412e+01,1.344930e+02 L6.851862e+01,1.156098e+02 L8.549312e+01,1.068621e+02 L1.024676e+02,1.025362e+02 L1.194421e+02,8.891767e+01 L1.364166e+02,8.777150e+01 L1.533911e+02,8.611688e+01 L1.703656e+02,8.074313e+01 L1.873401e+02,7.205707e+01 L2.043146e+02,6.920565e+01 L2.212891e+02,6.712437e+01 L2.382636e+02,7.190565e+01 L2.552381e+02,6.014574e+01 L2.722126e+02,5.973949e+01 L2.891871e+02,5.471324e+01 L3.061616e+02,5.411227e+01 L3.231361e+02,4.828986e+01 L3.401106e+02,5.885444e+01 L3.570851e+02,4.340769e+01 L3.740596e+02,5.011875e+01 L3.910341e+02,4.666527e+01 L4.080086e+02,4.170065e+01 L4.249831e+02,4.616754e+01 L4.419576e+02,4.223941e+01 L4.589321e+02,3.284875e+01 L4.759066e+02,2.789959e+01 L4.928811e+02,3.534107e+01 L5.098556e+02,4.133723e+01 L5.268301e+02,3.271850e+01 L5.438045e+02,3.015839e+01 L5.607790e+02,2.590496e+01 L5.777535e+02,2.348795e+01 L5.947280e+02,2.097042e+01 L6.117025e+02,2.609981e+01 L6.286770e+02,2.583089e+01 L6.456515e+02,1.262645e+01 L6.626260e+02,1.699408e+01 L6.796005e+02,2.159461e+01 L6.965750e+02,1.248969e+01 L7.135495e+02,1.289842e+01 L7.305240e+02,1.119018e+01 L7.474985e+02,1.243563e+01 L7.644730e+02,9.519413e+00 L7.814475e+02,2.519959e+01 L7.984220e+02,1.309888e+01 L8.153965e+02,1.531681e+01 L8.323710e+02,6.685555e+00 L8.493455e+02,1.166140e+01 L8.663200e+02,8.780018e+00 \"/></g><g stroke-linecap=\"round\" marker-end=\"url(#square)\" transform=\"translate(70 330 )scale(1 -1 )\" marker-start=\"url(#square)\" fill=\"none\" stroke-width=\"2px\" stroke-linejoin=\"round\" marker-mid=\"url(#square)\" stroke=\"hsl(152, 76%, 65%)\"><path vector-effect=\"non-scaling-stroke\" d=\"M1.768000e+01,2.548000e+02 L3.456962e+01,1.834670e+02 L5.154412e+01,1.470351e+02 L6.851862e+01,1.223991e+02 L8.549312e+01,1.121248e+02 L1.024676e+02,1.030600e+02 L1.194421e+02,9.620876e+01 L1.364166e+02,8.679626e+01 L1.533911e+02,8.149876e+01 L1.703656e+02,7.826970e+01 L1.873401e+02,7.721150e+01 L2.043146e+02,6.977794e+01 L2.212891e+02,7.012726e+01 L2.382636e+02,6.514168e+01 L2.552381e+02,6.401610e+01 L2.722126e+02,6.459115e+01 L2.891871e+02,5.728261e+01 L3.061616e+02,5.583477e+01 L3.231361e+02,5.304322e+01 L3.401106e+02,5.061274e+01 L3.570851e+02,4.565797e+01 L3.740596e+02,4.472004e+01 L3.910341e+02,4.661875e+01 L4.080086e+02,3.801044e+01 L4.249831e+02,4.098380e+01 L4.419576e+02,3.908050e+01 L4.589321e+02,3.531053e+01 L4.759066e+02,3.728771e+01 L4.928811e+02,3.252917e+01 L5.098556e+02,3.211146e+01 L5.268301e+02,3.237189e+01 L5.438045e+02,2.907898e+01 L5.607790e+02,2.837882e+01 L5.777535e+02,2.464298e+01 L5.947280e+02,2.108908e+01 L6.117025e+02,2.290909e+01 L6.286770e+02,1.687726e+01 L6.456515e+02,2.560720e+01 L6.626260e+02,2.185743e+01 L6.796005e+02,1.863954e+01 L6.965750e+02,1.978055e+01 L7.135495e+02,1.718251e+01 L7.305240e+02,1.450974e+01 L7.474985e+02,1.773120e+01 L7.644730e+02,1.350295e+01 L7.814475e+02,1.298121e+01 L7.984220e+02,1.443950e+01 L8.153965e+02,1.423791e+01 L8.323710e+02,5.200000e+00 L8.493455e+02,1.103879e+01 L8.663200e+02,9.089927e+00 \"/></g><g transform=\"translate(70 330 )scale(1 -1 )\" stroke=\"black\" stroke-width=\"2px\" stroke-linejoin=\"round\" fill=\"none\" stroke-linecap=\"round\"><path vector-effect=\"non-scaling-stroke\" d=\"M1.768000e+01,0 L1.768000e+01,-6 M1.025525e+02,0 L1.025525e+02,-6 M1.874250e+02,0 L1.874250e+02,-6 M2.722975e+02,0 L2.722975e+02,-6 M3.571699e+02,0 L3.571699e+02,-6 M4.420424e+02,0 L4.420424e+02,-6 M5.269149e+02,0 L5.269149e+02,-6 M6.117874e+02,0 L6.117874e+02,-6 M6.966599e+02,0 L6.966599e+02,-6 M7.815324e+02,0 L7.815324e+02,-6 \"/></g><g stroke-linejoin=\"round\" font-family=\"sans-serif\" font-style=\"normal\" transform=\"translate(70 330 )scale(1 1 )\" font-size=\"12px\" text-anchor=\"middle\" stroke-width=\"2px\" font-weight=\"normal\" fill=\"black\" stroke-linecap=\"round\" dominant-baseline=\"hanging\" stroke=\"black\"><text dominant-baseline=\"hanging\" stroke=\"none\" vector-effect=\"non-scaling-stroke\" x=\"1.768000e+01\" y=\"10\">0</text><text stroke=\"none\" vector-effect=\"non-scaling-stroke\" x=\"1.025525e+02\" y=\"10\" dominant-baseline=\"hanging\">1000</text><text stroke=\"none\" vector-effect=\"non-scaling-stroke\" x=\"1.874250e+02\" y=\"10\" dominant-baseline=\"hanging\">2000</text><text x=\"2.722975e+02\" y=\"10\" dominant-baseline=\"hanging\" stroke=\"none\" vector-effect=\"non-scaling-stroke\">3000</text><text vector-effect=\"non-scaling-stroke\" x=\"3.571699e+02\" y=\"10\" dominant-baseline=\"hanging\" stroke=\"none\">4000</text><text x=\"4.420424e+02\" y=\"10\" dominant-baseline=\"hanging\" stroke=\"none\" vector-effect=\"non-scaling-stroke\">5000</text><text y=\"10\" dominant-baseline=\"hanging\" stroke=\"none\" vector-effect=\"non-scaling-stroke\" x=\"5.269149e+02\">6000</text><text y=\"10\" dominant-baseline=\"hanging\" stroke=\"none\" vector-effect=\"non-scaling-stroke\" x=\"6.117874e+02\">7000</text><text vector-effect=\"non-scaling-stroke\" x=\"6.966599e+02\" y=\"10\" dominant-baseline=\"hanging\" stroke=\"none\">8000</text><text vector-effect=\"non-scaling-stroke\" x=\"7.815324e+02\" y=\"10\" dominant-baseline=\"hanging\" stroke=\"none\">9000</text></g><g stroke=\"black\" stroke-width=\"2px\" stroke-linejoin=\"round\" font-size=\"12px\" text-anchor=\"middle\" dominant-baseline=\"baseline\" font-style=\"normal\" font-weight=\"bold\" fill=\"black\" transform=\"translate(70 330 )scale(1 1 )rotate(0 0 0 )\" font-family=\"sans-serif\" stroke-linecap=\"round\"><text dominant-baseline=\"baseline\" stroke=\"none\" vector-effect=\"non-scaling-stroke\" x=\"442\" y=\"-6\">Steps</text></g><g font-family=\"sans-serif\" font-weight=\"bold\" fill=\"black\" dominant-baseline=\"baseline\" stroke=\"black\" stroke-linejoin=\"round\" stroke-width=\"2px\" font-style=\"normal\" stroke-linecap=\"round\" transform=\"translate(70 330 )scale(1 -1 )\" font-size=\"12px\" text-anchor=\"middle\"><path vector-effect=\"non-scaling-stroke\" d=\"M0,3.049861e+01 L-6,3.049861e+01 M0,1.029407e+02 L-6,1.029407e+02 M0,1.753829e+02 L-6,1.753829e+02 M0,2.478250e+02 L-6,2.478250e+02 \"/></g><g text-anchor=\"end\" dominant-baseline=\"middle\" stroke-width=\"2px\" stroke-linejoin=\"round\" font-style=\"normal\" transform=\"translate(70 330 )scale(1 1 )\" font-size=\"12px\" fill=\"black\" font-family=\"sans-serif\" font-weight=\"normal\" stroke=\"black\" stroke-linecap=\"round\"><text x=\"-10\" y=\"-3.049861e+01\" dominant-baseline=\"middle\" stroke=\"none\" vector-effect=\"non-scaling-stroke\">1.500</text><text dominant-baseline=\"middle\" stroke=\"none\" vector-effect=\"non-scaling-stroke\" x=\"-10\" y=\"-1.029407e+02\">1.800</text><text stroke=\"none\" vector-effect=\"non-scaling-stroke\" x=\"-10\" y=\"-1.753829e+02\" dominant-baseline=\"middle\">2.100</text><text vector-effect=\"non-scaling-stroke\" x=\"-10\" y=\"-2.478250e+02\" dominant-baseline=\"middle\" stroke=\"none\">2.400</text></g><g dominant-baseline=\"hanging\" stroke-linejoin=\"round\" font-style=\"normal\" stroke-linecap=\"round\" stroke=\"black\" transform=\"translate(70 330 )scale(1 1 )rotate(-90 0 0 )\" font-size=\"12px\" text-anchor=\"middle\" fill=\"black\" stroke-width=\"2px\" font-family=\"sans-serif\" font-weight=\"bold\"><text x=\"130\" y=\"6\" dominant-baseline=\"hanging\" stroke=\"none\" vector-effect=\"non-scaling-stroke\">loss</text></g><g font-size=\"12px\" text-anchor=\"middle\" stroke-width=\"0.5px\" stroke-linejoin=\"round\" transform=\"translate(70 330 )scale(1 -1 )\" stroke=\"gray\" stroke-linecap=\"round\" dominant-baseline=\"hanging\" fill=\"black\" font-family=\"sans-serif\" font-style=\"normal\" font-weight=\"bold\"><path vector-effect=\"non-scaling-stroke\" d=\"M0,3.049861e+01 L884,3.049861e+01 M0,1.029407e+02 L884,1.029407e+02 M0,1.753829e+02 L884,1.753829e+02 M0,2.478250e+02 L884,2.478250e+02 \"/></g><g stroke-width=\"2px\" stroke-linejoin=\"round\" font-family=\"sans-serif\" dominant-baseline=\"hanging\" stroke-linecap=\"round\" text-anchor=\"middle\" font-weight=\"bold\" stroke=\"black\" font-style=\"normal\" fill=\"none\" font-size=\"12px\"><rect vector-effect=\"non-scaling-stroke\" x=\"70\" y=\"70\" width=\"884\" height=\"260\"/><g dominant-baseline=\"middle\" fill=\"black\" font-size=\"18px\"><text x=\"512\" y=\"35\" dominant-baseline=\"middle\" stroke=\"none\" vector-effect=\"non-scaling-stroke\">loss metrics</text></g><g font-style=\"normal\" stroke=\"hsl(90, 47%, 65%)\" text-anchor=\"start\" fill=\"hsl(90, 47%, 65%)\" font-size=\"12px\" font-weight=\"normal\" stroke-width=\"1px\" stroke-linejoin=\"round\" font-family=\"sans-serif\" dominant-baseline=\"hanging\" stroke-linecap=\"round\"><rect x=\"76\" y=\"366\" width=\"12\" height=\"12\" vector-effect=\"non-scaling-stroke\"/><g fill=\"black\" stroke=\"black\"><text x=\"92\" y=\"366\" dominant-baseline=\"hanging\" stroke=\"none\" vector-effect=\"non-scaling-stroke\">Eval on Cifar-10 Eval On Test: Mean Loss</text></g><g text-anchor=\"start\" dominant-baseline=\"hanging\" stroke=\"hsl(301, 88%, 65%)\" stroke-width=\"1px\" font-family=\"sans-serif\" font-style=\"normal\" font-weight=\"normal\" stroke-linejoin=\"round\" fill=\"hsl(301, 88%, 65%)\" stroke-linecap=\"round\" font-size=\"12px\"><rect height=\"12\" vector-effect=\"non-scaling-stroke\" x=\"76\" y=\"384\" width=\"12\"/><g stroke=\"black\" fill=\"black\"><text stroke=\"none\" vector-effect=\"non-scaling-stroke\" x=\"92\" y=\"384\" dominant-baseline=\"hanging\">Eval on Cifar-10 Eval On Train: Mean Loss</text></g><g stroke-linecap=\"round\" dominant-baseline=\"hanging\" stroke=\"hsl(152, 76%, 65%)\" stroke-linejoin=\"round\" font-family=\"sans-serif\" font-style=\"normal\" font-weight=\"normal\" fill=\"hsl(152, 76%, 65%)\" font-size=\"12px\" text-anchor=\"start\" stroke-width=\"1px\"><rect vector-effect=\"non-scaling-stroke\" x=\"76\" y=\"402\" width=\"12\" height=\"12\"/><g stroke=\"black\" fill=\"black\"><text dominant-baseline=\"hanging\" stroke=\"none\" vector-effect=\"non-scaling-stroke\" x=\"92\" y=\"402\">Train: Moving Average Loss</text></g></g></g></g></g></svg>"
      ]
     },
     "metadata": {},
     "output_type": "display_data"
    },
    {
     "name": "stdout",
     "output_type": "stream",
     "text": [
      "\tMean Loss (#loss): 1.410\n",
      "\tMean Accuracy (#acc): 49.47%\n",
      "Results on Cifar-10 Eval On Test:\n",
      "\tMean Loss (#loss): 1.474\n",
      "\tMean Accuracy (#acc): 47.63%\n",
      "\n"
     ]
    }
   ],
   "source": [
    "%% --model=fnn --steps=10000 --norm=layer\n",
    "trainModel()"
   ]
  },
  {
   "cell_type": "markdown",
   "id": "942fdb36-4fbe-4ccf-9958-c8b67b036ada",
   "metadata": {},
   "source": [
    "### CNN model for Cifar-10\n",
    "\n",
    "Let's now properly define our CNN model to compare:"
   ]
  },
  {
   "cell_type": "code",
   "execution_count": 10,
   "id": "e27dc442-c3aa-4ec5-98e9-e5321b474785",
   "metadata": {
    "tags": []
   },
   "outputs": [
    {
     "name": "stdout",
     "output_type": "stream",
     "text": [
      "Logits shape for batch_size=3: (Float32)[3 10]\n"
     ]
    }
   ],
   "source": [
    "import (\n",
    "    . \"github.com/gomlx/gomlx/graph\"\n",
    "    \"github.com/gomlx/gomlx/examples/cifar\"\n",
    "    \"github.com/gomlx/gomlx/ml/context\"\n",
    "    \"github.com/gomlx/gomlx/types/shapes\"\n",
    ")\n",
    "\n",
    "func CNNModelGraph(ctx *context.Context, spec any, inputs []*Node) []*Node {\n",
    "    g := inputs[0].Graph()\n",
    "    if !g.Ok() {\n",
    "        return nil\n",
    "    }\n",
    "    batchedImages := getBatchedImages(ctx, spec, inputs)\n",
    "    if !g.Ok() {\n",
    "        return nil\n",
    "    }\n",
    "    batchSize := batchedImages.Shape().Dimensions[0]\n",
    "    logits := batchedImages\n",
    "    {\n",
    "        ctx := ctx.In(\"conv_0\")\n",
    "        logits = layers.Convolution(ctx, logits).Filters(32).KernelSize(3).Done()\n",
    "        logits = normalizeImage(ctx, logits)\n",
    "        logits = layers.Relu(logits)\n",
    "        logits = MaxPool(logits).Window(2).Done()\n",
    "    }\n",
    "    {\n",
    "        ctx := ctx.In(\"conv_1\")\n",
    "        logits = layers.Convolution(ctx, logits).Filters(64).KernelSize(3).Done()\n",
    "        logits = normalizeImage(ctx, logits)\n",
    "        logits = layers.Relu(logits)\n",
    "        logits = MaxPool(logits).Window(2).Done()\n",
    "    }\n",
    "    {\n",
    "        ctx := ctx.In(\"conv_2\")\n",
    "        logits = layers.Convolution(ctx, logits).Filters(64).KernelSize(3).Done()\n",
    "        logits = normalizeImage(ctx, logits)\n",
    "        logits = Reshape(logits, batchSize, -1)\n",
    "        logits = layers.Relu(logits)\n",
    "    }\n",
    "    {\n",
    "        ctx := ctx.In(\"dense_0\")\n",
    "        logits = layers.DenseWithBias(ctx, logits, *flagNumNodes)\n",
    "        logits = normalizeFeatures(ctx, logits)\n",
    "    }\n",
    "    for ii := 1; ii < *flagNumHiddenLayers; ii++ {\n",
    "        ctx := ctx.In(fmt.Sprintf(\"dense_%d\", ii))\n",
    "        // Add layer with residual connection.\n",
    "        tmp := layers.Relu(logits)\n",
    "        if *flagDropoutRate > 0 {\n",
    "            tmp = layers.Dropout(ctx, tmp, Const(g, shapes.CastAsDType(*flagDropoutRate, tmp.DType())))\n",
    "        }\n",
    "        tmp = layers.DenseWithBias(ctx, tmp, *flagNumNodes)\n",
    "        tmp = normalizeFeatures(ctx, tmp)\n",
    "        logits = Add(logits, tmp)\n",
    "    }\n",
    "    logits = layers.Relu(logits)\n",
    "    logits = layers.DenseWithBias(ctx.In(\"denseFinal\"), logits, len(cifar.C10Labels))\n",
    "    return []*Node{logits}\n",
    "}\n",
    "\n",
    "%% --platform=Host\n",
    "// Let's test that the logits are coming out with the right shape: we want [batch_size, 10], since there are 10 classes.\n",
    "AssertDownloaded()\n",
    "manager := BuildManager().NumThreads(*flagNumThreads).NumReplicas(*flagNumReplicas).Platform(*flagPlatform).MustDone()\n",
    "trainDS, err := cifar.NewDataset(\"Cifar-10 Batched Train\", *flagDataDir, cifar.C10, DType, cifar.Train, *flagBatchSize, false) // loops forever.\n",
    "AssertNoError(err)\n",
    "\n",
    "graph := manager.NewGraph(\"test\")\n",
    "ctx := context.NewContext(manager)\n",
    "ctx.SetParam(optimizers.LearningRateKey, *flagLearningRate)\n",
    "logits := CNNModelGraph(ctx, trainDS, []*Node{graph.Parameter(\"images\", shapes.Make(shapes.Int64, /*Batch Size*/ 3, 1))})\n",
    "AssertNoError(graph.Error())\n",
    "AssertNoError(ctx.Error())\n",
    "fmt.Printf(\"Logits shape for batch_size=%d: %s\\n\", 3, logits[0].Shape())"
   ]
  },
  {
   "cell_type": "markdown",
   "id": "6e3b2b04-8ca7-49d6-921d-3527c9169da9",
   "metadata": {},
   "source": [
    "### Training the CNN model\n",
    "\n",
    "CNNs have a much better inductive bias for machine learning on images, and it can easily achieve > 80% accuracy in training data, but only > 65% on test data, due to overfitting.\n",
    "\n",
    "Likely it would benefit from pre-training the model on a larger unlabeled datasets."
   ]
  },
  {
   "cell_type": "code",
   "execution_count": 11,
   "id": "b2739281-6e70-4bd4-90e5-ed493678b8ce",
   "metadata": {
    "tags": []
   },
   "outputs": [
    {
     "name": "stdout",
     "output_type": "stream",
     "text": [
      "Platform: CUDA\n"
     ]
    },
    {
     "data": {
      "text/html": []
     },
     "metadata": {},
     "output_type": "display_data"
    },
    {
     "name": "stdout",
     "output_type": "stream",
     "text": [
      "Training (20000 steps):  100% [\u001b[32m=\u001b[0m\u001b[32m=\u001b[0m\u001b[32m=\u001b[0m\u001b[32m=\u001b[0m\u001b[32m=\u001b[0m\u001b[32m=\u001b[0m\u001b[32m=\u001b[0m\u001b[32m=\u001b[0m\u001b[32m=\u001b[0m\u001b[32m=\u001b[0m\u001b[32m=\u001b[0m\u001b[32m=\u001b[0m\u001b[32m=\u001b[0m\u001b[32m=\u001b[0m\u001b[32m=\u001b[0m\u001b[32m=\u001b[0m\u001b[32m=\u001b[0m\u001b[32m=\u001b[0m\u001b[32m=\u001b[0m\u001b[32m=\u001b[0m\u001b[32m=\u001b[0m\u001b[32m=\u001b[0m\u001b[32m=\u001b[0m\u001b[32m=\u001b[0m\u001b[32m=\u001b[0m\u001b[32m=\u001b[0m\u001b[32m=\u001b[0m\u001b[32m=\u001b[0m\u001b[32m=\u001b[0m\u001b[32m=\u001b[0m\u001b[32m=\u001b[0m\u001b[32m=\u001b[0m\u001b[32m=\u001b[0m\u001b[32m=\u001b[0m\u001b[32m=\u001b[0m\u001b[32m=\u001b[0m\u001b[32m=\u001b[0m\u001b[32m=\u001b[0m\u001b[32m=\u001b[0m\u001b[32m=\u001b[0m] (413 steps/s)\u001b[0m [loss=1.088] [~loss=1.202] [~acc=85.84%]        \n"
     ]
    },
    {
     "data": {
      "text/html": [
       "<svg preserveAspectRatio=\"xMidYMid meet\" xmlns=\"http://www.w3.org/2000/svg\" width=\"1024\" height=\"454\" viewbox=\"0 0 1024 400\" style=\"background-color:#f8f8f8\"><defs><marker id=\"circle\" viewBox=\"0 0 10 10 \" refX=\"5\" refY=\"5\" markerUnits=\"userSpaceOnUse\" markerWidth=\"2%\" markerHeight=\"2%\"><circle r=\"3\" fill=\"none\" stroke=\"black\" cx=\"5\" cy=\"5\"/></marker><marker markerHeight=\"2%\" id=\"filled-circle\" viewBox=\"0 0 10 10 \" refX=\"5\" refY=\"5\" markerUnits=\"userSpaceOnUse\" markerWidth=\"2%\"><circle cx=\"5\" cy=\"5\" r=\"3\" fill=\"black\" stroke=\"none\"/></marker><marker id=\"square\" viewBox=\"0 0 10 10 \" refX=\"5\" refY=\"5\" markerUnits=\"userSpaceOnUse\" markerWidth=\"2%\" markerHeight=\"2%\"><rect x=\"2\" y=\"2\" width=\"6\" height=\"6\" fill=\"none\" stroke=\"black\"/></marker><marker markerHeight=\"2%\" id=\"filled-square\" viewBox=\"0 0 10 10 \" refX=\"5\" refY=\"5\" markerUnits=\"userSpaceOnUse\" markerWidth=\"2%\"><rect x=\"2\" y=\"2\" width=\"6\" height=\"6\" fill=\"black\" stroke=\"none\"/></marker></defs><g stroke=\"hsl(90, 47%, 65%)\" marker-start=\"url(#square)\" stroke-linecap=\"round\" stroke-linejoin=\"round\" fill=\"none\" transform=\"translate(70 330 )scale(1 -1 )\" marker-end=\"url(#square)\" stroke-width=\"2px\" marker-mid=\"url(#square)\"><path vector-effect=\"non-scaling-stroke\" d=\"M1.768000e+01,5.385397e+00 L3.461121e+01,1.106296e+02 L5.158486e+01,1.305926e+02 L6.855851e+01,1.468146e+02 L8.553216e+01,1.573423e+02 L1.025058e+02,1.706510e+02 L1.194795e+02,1.723394e+02 L1.364531e+02,1.765108e+02 L1.534268e+02,1.776033e+02 L1.704004e+02,1.817746e+02 L1.873741e+02,1.857473e+02 L2.043477e+02,1.899849e+02 L2.213214e+02,1.733326e+02 L2.382950e+02,1.895215e+02 L2.552686e+02,1.964737e+02 L2.722423e+02,1.903491e+02 L2.892159e+02,1.935273e+02 L3.061896e+02,1.978973e+02 L3.231632e+02,1.905808e+02 L3.401369e+02,1.953150e+02 L3.571105e+02,1.867074e+02 L3.740842e+02,2.004133e+02 L3.910578e+02,1.918720e+02 L4.080315e+02,1.938583e+02 L4.250051e+02,1.978973e+02 L4.419788e+02,1.950502e+02 L4.589524e+02,1.848866e+02 L4.759261e+02,2.073656e+02 L4.928997e+02,1.992877e+02 L5.098734e+02,1.988574e+02 L5.268470e+02,1.968048e+02 L5.438207e+02,1.939908e+02 L5.607943e+02,1.983939e+02 L5.777680e+02,1.999168e+02 L5.947416e+02,1.923686e+02 L6.117153e+02,2.070015e+02 L6.286889e+02,2.029625e+02 L6.456626e+02,2.024659e+02 L6.626362e+02,1.940901e+02 L6.796099e+02,2.036909e+02 L6.965835e+02,2.069021e+02 L7.135572e+02,1.985263e+02 L7.305308e+02,1.957454e+02 L7.475045e+02,1.928983e+02 L7.644781e+02,2.046509e+02 L7.814518e+02,1.882634e+02 L7.984254e+02,2.023666e+02 L8.153991e+02,1.972683e+02 L8.323727e+02,1.989236e+02 L8.493464e+02,1.954805e+02 L8.663200e+02,2.080939e+02 \"/></g><g fill=\"none\" stroke-width=\"2px\" stroke-linecap=\"round\" stroke-linejoin=\"round\" marker-start=\"url(#square)\" marker-mid=\"url(#square)\" marker-end=\"url(#square)\" transform=\"translate(70 330 )scale(1 -1 )\" stroke=\"hsl(301, 88%, 65%)\"><path d=\"M1.768000e+01,5.200000e+00 L3.461121e+01,1.132847e+02 L5.158486e+01,1.350685e+02 L6.855851e+01,1.503834e+02 L8.553216e+01,1.632551e+02 L1.025058e+02,1.791592e+02 L1.194795e+02,1.859327e+02 L1.364531e+02,1.895214e+02 L1.534268e+02,1.900048e+02 L1.704004e+02,1.958844e+02 L1.873741e+02,2.036577e+02 L2.043477e+02,2.097029e+02 L2.213214e+02,1.867736e+02 L2.382950e+02,2.098618e+02 L2.552686e+02,2.194692e+02 L2.722423e+02,2.105438e+02 L2.892159e+02,2.190057e+02 L3.061896e+02,2.247728e+02 L3.231632e+02,2.146887e+02 L3.401369e+02,2.230447e+02 L3.571105e+02,2.129672e+02 L3.740842e+02,2.291693e+02 L3.910578e+02,2.199393e+02 L4.080315e+02,2.193169e+02 L4.250051e+02,2.246470e+02 L4.419788e+02,2.230645e+02 L4.589524e+02,2.103783e+02 L4.759261e+02,2.404518e+02 L4.928997e+02,2.324666e+02 L5.098734e+02,2.263685e+02 L5.268470e+02,2.257130e+02 L5.438207e+02,2.261036e+02 L5.607943e+02,2.339564e+02 L5.777680e+02,2.332413e+02 L5.947416e+02,2.234419e+02 L6.117153e+02,2.441796e+02 L6.286889e+02,2.418754e+02 L6.456626e+02,2.403989e+02 L6.626362e+02,2.300896e+02 L6.796099e+02,2.437161e+02 L6.965835e+02,2.500062e+02 L7.135572e+02,2.369095e+02 L7.305308e+02,2.302287e+02 L7.475045e+02,2.318774e+02 L7.644781e+02,2.454906e+02 L7.814518e+02,2.261831e+02 L7.984254e+02,2.431334e+02 L8.153991e+02,2.419284e+02 L8.323727e+02,2.458746e+02 L8.493464e+02,2.370154e+02 L8.663200e+02,2.548000e+02 \" vector-effect=\"non-scaling-stroke\"/></g><g fill=\"none\" stroke-width=\"2px\" stroke-linecap=\"round\" marker-start=\"url(#square)\" stroke-linejoin=\"round\" transform=\"translate(70 330 )scale(1 -1 )\" stroke=\"hsl(152, 76%, 65%)\" marker-mid=\"url(#square)\" marker-end=\"url(#square)\"><path d=\"M1.768000e+01,1.684010e+01 L3.461121e+01,9.995141e+01 L5.158486e+01,1.270056e+02 L6.855851e+01,1.508557e+02 L8.553216e+01,1.631986e+02 L1.025058e+02,1.716898e+02 L1.194795e+02,1.818341e+02 L1.364531e+02,1.861272e+02 L1.534268e+02,1.921256e+02 L1.704004e+02,1.971919e+02 L1.873741e+02,2.056993e+02 L2.043477e+02,2.055950e+02 L2.213214e+02,2.109663e+02 L2.382950e+02,2.138820e+02 L2.552686e+02,2.170789e+02 L2.722423e+02,2.181942e+02 L2.892159e+02,2.218634e+02 L3.061896e+02,2.212858e+02 L3.231632e+02,2.232767e+02 L3.401369e+02,2.260383e+02 L3.571105e+02,2.274561e+02 L3.740842e+02,2.295966e+02 L3.910578e+02,2.283188e+02 L4.080315e+02,2.332323e+02 L4.250051e+02,2.324939e+02 L4.419788e+02,2.346936e+02 L4.589524e+02,2.337275e+02 L4.759261e+02,2.348665e+02 L4.928997e+02,2.366257e+02 L5.098734e+02,2.378539e+02 L5.268470e+02,2.376043e+02 L5.438207e+02,2.388867e+02 L5.607943e+02,2.382252e+02 L5.777680e+02,2.415189e+02 L5.947416e+02,2.444428e+02 L6.117153e+02,2.430113e+02 L6.286889e+02,2.442815e+02 L6.456626e+02,2.441656e+02 L6.626362e+02,2.476430e+02 L6.796099e+02,2.480587e+02 L6.965835e+02,2.463530e+02 L7.135572e+02,2.482318e+02 L7.305308e+02,2.495021e+02 L7.475045e+02,2.522151e+02 L7.644781e+02,2.509219e+02 L7.814518e+02,2.519004e+02 L7.984254e+02,2.503298e+02 L8.153991e+02,2.534273e+02 L8.323727e+02,2.532945e+02 L8.493464e+02,2.520573e+02 L8.663200e+02,2.546683e+02 \" vector-effect=\"non-scaling-stroke\"/></g><g transform=\"translate(70 330 )scale(1 -1 )\" fill=\"none\" stroke-width=\"2px\" stroke-linecap=\"round\" stroke-linejoin=\"round\" stroke=\"black\"><path vector-effect=\"non-scaling-stroke\" d=\"M1.768000e+01,0 L1.768000e+01,-6 M1.025482e+02,0 L1.025482e+02,-6 M1.874165e+02,0 L1.874165e+02,-6 M2.722847e+02,0 L2.722847e+02,-6 M3.571530e+02,0 L3.571530e+02,-6 M4.420212e+02,0 L4.420212e+02,-6 M5.268895e+02,0 L5.268895e+02,-6 M6.117577e+02,0 L6.117577e+02,-6 M6.966259e+02,0 L6.966259e+02,-6 M7.814942e+02,0 L7.814942e+02,-6 \"/></g><g fill=\"black\" stroke-linecap=\"round\" stroke-linejoin=\"round\" font-family=\"sans-serif\" stroke=\"black\" font-size=\"12px\" font-weight=\"normal\" text-anchor=\"middle\" stroke-width=\"2px\" font-style=\"normal\" dominant-baseline=\"hanging\" transform=\"translate(70 330 )scale(1 1 )\"><text y=\"10\" dominant-baseline=\"hanging\" stroke=\"none\" vector-effect=\"non-scaling-stroke\" x=\"1.768000e+01\">0</text><text vector-effect=\"non-scaling-stroke\" x=\"1.025482e+02\" y=\"10\" dominant-baseline=\"hanging\" stroke=\"none\">2000</text><text vector-effect=\"non-scaling-stroke\" x=\"1.874165e+02\" y=\"10\" dominant-baseline=\"hanging\" stroke=\"none\">4000</text><text vector-effect=\"non-scaling-stroke\" x=\"2.722847e+02\" y=\"10\" dominant-baseline=\"hanging\" stroke=\"none\">6000</text><text vector-effect=\"non-scaling-stroke\" x=\"3.571530e+02\" y=\"10\" dominant-baseline=\"hanging\" stroke=\"none\">8000</text><text stroke=\"none\" vector-effect=\"non-scaling-stroke\" x=\"4.420212e+02\" y=\"10\" dominant-baseline=\"hanging\">10000</text><text vector-effect=\"non-scaling-stroke\" x=\"5.268895e+02\" y=\"10\" dominant-baseline=\"hanging\" stroke=\"none\">12000</text><text dominant-baseline=\"hanging\" stroke=\"none\" vector-effect=\"non-scaling-stroke\" x=\"6.117577e+02\" y=\"10\">14000</text><text stroke=\"none\" vector-effect=\"non-scaling-stroke\" x=\"6.966259e+02\" y=\"10\" dominant-baseline=\"hanging\">16000</text><text x=\"7.814942e+02\" y=\"10\" dominant-baseline=\"hanging\" stroke=\"none\" vector-effect=\"non-scaling-stroke\">18000</text></g><g text-anchor=\"middle\" fill=\"black\" stroke-linecap=\"round\" dominant-baseline=\"baseline\" font-weight=\"bold\" font-style=\"normal\" stroke-width=\"2px\" stroke-linejoin=\"round\" stroke=\"black\" transform=\"translate(70 330 )scale(1 1 )rotate(0 0 0 )\" font-size=\"12px\" font-family=\"sans-serif\"><text stroke=\"none\" vector-effect=\"non-scaling-stroke\" x=\"442\" y=\"-6\" dominant-baseline=\"baseline\">Steps</text></g><g stroke-width=\"2px\" font-family=\"sans-serif\" font-weight=\"bold\" font-size=\"12px\" stroke=\"black\" transform=\"translate(70 330 )scale(1 -1 )\" fill=\"black\" stroke-linecap=\"round\" stroke-linejoin=\"round\" font-style=\"normal\" text-anchor=\"middle\" dominant-baseline=\"baseline\"><path vector-effect=\"non-scaling-stroke\" d=\"M0,3.670375e+01 L-6,3.670375e+01 M0,1.029159e+02 L-6,1.029159e+02 M0,1.691281e+02 L-6,1.691281e+02 M0,2.353403e+02 L-6,2.353403e+02 \"/></g><g font-family=\"sans-serif\" font-style=\"normal\" font-weight=\"normal\" stroke-linecap=\"round\" text-anchor=\"end\" fill=\"black\" stroke-width=\"2px\" dominant-baseline=\"middle\" stroke=\"black\" transform=\"translate(70 330 )scale(1 1 )\" font-size=\"12px\" stroke-linejoin=\"round\"><text stroke=\"none\" vector-effect=\"non-scaling-stroke\" x=\"-10\" y=\"-3.670375e+01\" dominant-baseline=\"middle\">0.200</text><text stroke=\"none\" vector-effect=\"non-scaling-stroke\" x=\"-10\" y=\"-1.029159e+02\" dominant-baseline=\"middle\">0.400</text><text stroke=\"none\" vector-effect=\"non-scaling-stroke\" x=\"-10\" y=\"-1.691281e+02\" dominant-baseline=\"middle\">0.600</text><text x=\"-10\" y=\"-2.353403e+02\" dominant-baseline=\"middle\" stroke=\"none\" vector-effect=\"non-scaling-stroke\">0.800</text></g><g dominant-baseline=\"hanging\" stroke-linecap=\"round\" stroke-linejoin=\"round\" font-style=\"normal\" font-weight=\"bold\" stroke=\"black\" transform=\"translate(70 330 )scale(1 1 )rotate(-90 0 0 )\" font-size=\"12px\" text-anchor=\"middle\" fill=\"black\" stroke-width=\"2px\" font-family=\"sans-serif\"><text vector-effect=\"non-scaling-stroke\" x=\"130\" y=\"6\" dominant-baseline=\"hanging\" stroke=\"none\">accuracy</text></g><g stroke=\"gray\" text-anchor=\"middle\" font-weight=\"bold\" dominant-baseline=\"hanging\" stroke-linejoin=\"round\" font-family=\"sans-serif\" font-style=\"normal\" transform=\"translate(70 330 )scale(1 -1 )\" font-size=\"12px\" fill=\"black\" stroke-width=\"0.5px\" stroke-linecap=\"round\"><path vector-effect=\"non-scaling-stroke\" d=\"M0,3.670375e+01 L884,3.670375e+01 M0,1.029159e+02 L884,1.029159e+02 M0,1.691281e+02 L884,1.691281e+02 M0,2.353403e+02 L884,2.353403e+02 \"/></g><g stroke-width=\"2px\" dominant-baseline=\"hanging\" font-size=\"12px\" stroke=\"black\" stroke-linecap=\"round\" font-family=\"sans-serif\" font-weight=\"bold\" text-anchor=\"middle\" fill=\"none\" stroke-linejoin=\"round\" font-style=\"normal\"><rect vector-effect=\"non-scaling-stroke\" x=\"70\" y=\"70\" width=\"884\" height=\"260\"/><g font-size=\"18px\" fill=\"black\" dominant-baseline=\"middle\"><text vector-effect=\"non-scaling-stroke\" x=\"512\" y=\"35\" dominant-baseline=\"middle\" stroke=\"none\">accuracy metrics</text></g><g text-anchor=\"start\" fill=\"hsl(90, 47%, 65%)\" stroke-linecap=\"round\" stroke-linejoin=\"round\" font-family=\"sans-serif\" font-weight=\"normal\" dominant-baseline=\"hanging\" font-size=\"12px\" stroke-width=\"1px\" font-style=\"normal\" stroke=\"hsl(90, 47%, 65%)\"><rect x=\"76\" y=\"366\" width=\"12\" height=\"12\" vector-effect=\"non-scaling-stroke\"/><g fill=\"black\" stroke=\"black\"><text vector-effect=\"non-scaling-stroke\" x=\"92\" y=\"366\" dominant-baseline=\"hanging\" stroke=\"none\">Eval on Cifar-10 Eval On Test: Mean Accuracy</text></g><g font-style=\"normal\" dominant-baseline=\"hanging\" stroke=\"hsl(301, 88%, 65%)\" font-size=\"12px\" font-weight=\"normal\" text-anchor=\"start\" font-family=\"sans-serif\" stroke-linejoin=\"round\" fill=\"hsl(301, 88%, 65%)\" stroke-width=\"1px\" stroke-linecap=\"round\"><rect y=\"384\" width=\"12\" height=\"12\" vector-effect=\"non-scaling-stroke\" x=\"76\"/><g stroke=\"black\" fill=\"black\"><text stroke=\"none\" vector-effect=\"non-scaling-stroke\" x=\"92\" y=\"384\" dominant-baseline=\"hanging\">Eval on Cifar-10 Eval On Train: Mean Accuracy</text></g><g text-anchor=\"start\" stroke-linejoin=\"round\" font-style=\"normal\" stroke=\"hsl(152, 76%, 65%)\" font-weight=\"normal\" stroke-width=\"1px\" stroke-linecap=\"round\" font-family=\"sans-serif\" dominant-baseline=\"hanging\" font-size=\"12px\" fill=\"hsl(152, 76%, 65%)\"><rect vector-effect=\"non-scaling-stroke\" x=\"76\" y=\"402\" width=\"12\" height=\"12\"/><g fill=\"black\" stroke=\"black\"><text vector-effect=\"non-scaling-stroke\" x=\"92\" y=\"402\" dominant-baseline=\"hanging\" stroke=\"none\">Train: Moving Average Accuracy</text></g></g></g></g></g></svg>"
      ]
     },
     "metadata": {},
     "output_type": "display_data"
    },
    {
     "name": "stdout",
     "output_type": "stream",
     "text": [
      "\n",
      "Results on Cifar-10 Eval On Train:\n"
     ]
    },
    {
     "data": {
      "text/html": [
       "<svg style=\"background-color:#f8f8f8\" preserveAspectRatio=\"xMidYMid meet\" xmlns=\"http://www.w3.org/2000/svg\" width=\"1024\" height=\"454\" viewbox=\"0 0 1024 400\"><defs><marker viewBox=\"0 0 10 10 \" refX=\"5\" refY=\"5\" markerUnits=\"userSpaceOnUse\" markerWidth=\"2%\" markerHeight=\"2%\" id=\"circle\"><circle fill=\"none\" stroke=\"black\" cx=\"5\" cy=\"5\" r=\"3\"/></marker><marker refX=\"5\" refY=\"5\" markerUnits=\"userSpaceOnUse\" markerWidth=\"2%\" markerHeight=\"2%\" id=\"filled-circle\" viewBox=\"0 0 10 10 \"><circle cx=\"5\" cy=\"5\" r=\"3\" fill=\"black\" stroke=\"none\"/></marker><marker markerHeight=\"2%\" id=\"square\" viewBox=\"0 0 10 10 \" refX=\"5\" refY=\"5\" markerUnits=\"userSpaceOnUse\" markerWidth=\"2%\"><rect stroke=\"black\" x=\"2\" y=\"2\" width=\"6\" height=\"6\" fill=\"none\"/></marker><marker markerHeight=\"2%\" id=\"filled-square\" viewBox=\"0 0 10 10 \" refX=\"5\" refY=\"5\" markerUnits=\"userSpaceOnUse\" markerWidth=\"2%\"><rect y=\"2\" width=\"6\" height=\"6\" fill=\"black\" stroke=\"none\" x=\"2\"/></marker></defs><g stroke-linejoin=\"round\" marker-mid=\"url(#square)\" transform=\"translate(70 330 )scale(1 -1 )\" stroke-linecap=\"round\" stroke=\"hsl(90, 47%, 65%)\" stroke-width=\"2px\" marker-start=\"url(#square)\" fill=\"none\" marker-end=\"url(#square)\"><path vector-effect=\"non-scaling-stroke\" d=\"M1.768000e+01,2.548000e+02 L3.461121e+01,1.969990e+02 L5.158486e+01,1.620276e+02 L6.855851e+01,1.357384e+02 L8.553216e+01,1.166397e+02 L1.025058e+02,1.011426e+02 L1.194795e+02,8.987759e+01 L1.364531e+02,8.068217e+01 L1.534268e+02,7.276014e+01 L1.704004e+02,6.616872e+01 L1.873741e+02,5.992773e+01 L2.043477e+02,5.449580e+01 L2.213214e+02,5.318743e+01 L2.382950e+02,4.672076e+01 L2.552686e+02,4.223213e+01 L2.722423e+02,4.004548e+01 L2.892159e+02,3.673314e+01 L3.061896e+02,3.369202e+01 L3.231632e+02,3.296739e+01 L3.401369e+02,3.004765e+01 L3.571105e+02,2.953100e+01 L3.740842e+02,2.610257e+01 L3.910578e+02,2.568816e+01 L4.080315e+02,2.461379e+01 L4.250051e+02,2.274042e+01 L4.419788e+02,2.200657e+01 L4.589524e+02,2.328930e+01 L4.759261e+02,1.894249e+01 L4.928997e+02,1.915455e+01 L5.098734e+02,1.910074e+01 L5.268470e+02,1.877906e+01 L5.438207e+02,1.881972e+01 L5.607943e+02,1.733353e+01 L5.777680e+02,1.716345e+01 L5.947416e+02,1.780126e+01 L6.117153e+02,1.521100e+01 L6.286889e+02,1.544735e+01 L6.456626e+02,1.510637e+01 L6.626362e+02,1.636739e+01 L6.796099e+02,1.444286e+01 L6.965835e+02,1.363175e+01 L7.135572e+02,1.486716e+01 L7.305308e+02,1.585211e+01 L7.475045e+02,1.579661e+01 L7.644781e+02,1.360901e+01 L7.814518e+02,1.609285e+01 L7.984254e+02,1.346974e+01 L8.153991e+02,1.418332e+01 L8.323727e+02,1.369617e+01 L8.493464e+02,1.458417e+01 L8.663200e+02,1.242770e+01 \"/></g><g transform=\"translate(70 330 )scale(1 -1 )\" fill=\"none\" stroke-width=\"2px\" marker-end=\"url(#square)\" stroke-linecap=\"round\" marker-start=\"url(#square)\" marker-mid=\"url(#square)\" stroke=\"hsl(301, 88%, 65%)\" stroke-linejoin=\"round\"><path vector-effect=\"non-scaling-stroke\" d=\"M1.768000e+01,2.547899e+02 L3.461121e+01,1.968710e+02 L5.158486e+01,1.616126e+02 L6.855851e+01,1.351274e+02 L8.553216e+01,1.157653e+02 L1.025058e+02,9.986389e+01 L1.194795e+02,8.822202e+01 L1.364531e+02,7.873194e+01 L1.534268e+02,7.068002e+01 L1.704004e+02,6.386425e+01 L1.873741e+02,5.728279e+01 L2.043477e+02,5.161939e+01 L2.213214e+02,5.062263e+01 L2.382950e+02,4.346195e+01 L2.552686e+02,3.873418e+01 L2.722423e+02,3.655144e+01 L2.892159e+02,3.280902e+01 L3.061896e+02,2.971074e+01 L3.231632e+02,2.903733e+01 L3.401369e+02,2.602924e+01 L3.571105e+02,2.542262e+01 L3.740842e+02,2.196105e+01 L3.910578e+02,2.130459e+01 L4.080315e+02,2.038509e+01 L4.250051e+02,1.852532e+01 L4.419788e+02,1.752116e+01 L4.589524e+02,1.868565e+01 L4.759261e+02,1.410517e+01 L4.928997e+02,1.431842e+01 L5.098734e+02,1.442939e+01 L5.268470e+02,1.390534e+01 L5.438207e+02,1.360943e+01 L5.607943e+02,1.194620e+01 L5.777680e+02,1.193026e+01 L5.947416e+02,1.248671e+01 L6.117153e+02,9.651166e+00 L6.286889e+02,9.693923e+00 L6.456626e+02,9.311794e+00 L6.626362e+02,1.055987e+01 L6.796099e+02,8.565432e+00 L6.965835e+02,7.438638e+00 L7.135572e+02,8.618280e+00 L7.305308e+02,9.634679e+00 L7.475045e+02,9.119128e+00 L7.644781e+02,7.211228e+00 L7.814518e+02,9.454221e+00 L7.984254e+02,6.946632e+00 L8.153991e+02,7.335614e+00 L8.323727e+02,6.573820e+00 L8.493464e+02,7.562719e+00 L8.663200e+02,5.484094e+00 \"/></g><g stroke-linecap=\"round\" stroke-linejoin=\"round\" marker-start=\"url(#square)\" transform=\"translate(70 330 )scale(1 -1 )\" marker-end=\"url(#square)\" stroke-width=\"2px\" marker-mid=\"url(#square)\" fill=\"none\" stroke=\"hsl(152, 76%, 65%)\"><path vector-effect=\"non-scaling-stroke\" d=\"M1.768000e+01,2.533670e+02 L3.461121e+01,2.080761e+02 L5.158486e+01,1.696159e+02 L6.855851e+01,1.408944e+02 L8.553216e+01,1.197488e+02 L1.025058e+02,1.037703e+02 L1.194795e+02,9.123961e+01 L1.364531e+02,8.096960e+01 L1.534268e+02,7.241772e+01 L1.704004e+02,6.521195e+01 L1.873741e+02,5.827947e+01 L2.043477e+02,5.312463e+01 L2.213214e+02,4.810338e+01 L2.382950e+02,4.391007e+01 L2.552686e+02,3.970565e+01 L2.722423e+02,3.663065e+01 L2.892159e+02,3.344201e+01 L3.061896e+02,3.077149e+01 L3.231632e+02,2.825771e+01 L3.401369e+02,2.583808e+01 L3.571105e+02,2.412490e+01 L3.740842e+02,2.207898e+01 L3.910578e+02,2.075490e+01 L4.080315e+02,1.888685e+01 L4.250051e+02,1.793185e+01 L4.419788e+02,1.675874e+01 L4.589524e+02,1.566583e+01 L4.759261e+02,1.490764e+01 L4.928997e+02,1.408589e+01 L5.098734e+02,1.328486e+01 L5.268470e+02,1.285808e+01 L5.438207e+02,1.207617e+01 L5.607943e+02,1.162971e+01 L5.777680e+02,1.092516e+01 L5.947416e+02,1.015481e+01 L6.117153e+02,9.753102e+00 L6.286889e+02,9.475494e+00 L6.456626e+02,9.057222e+00 L6.626362e+02,8.555362e+00 L6.796099e+02,8.111090e+00 L6.965835e+02,8.064366e+00 L7.135572e+02,7.670332e+00 L7.305308e+02,7.196140e+00 L7.475045e+02,6.751868e+00 L7.644781e+02,6.862799e+00 L7.814518e+02,6.374939e+00 L7.984254e+02,6.159135e+00 L8.153991e+02,5.959276e+00 L8.323727e+02,5.782496e+00 L8.493464e+02,5.645553e+00 L8.663200e+02,5.200000e+00 \"/></g><g stroke-width=\"2px\" stroke-linejoin=\"round\" transform=\"translate(70 330 )scale(1 -1 )\" stroke-linecap=\"round\" fill=\"none\" stroke=\"black\"><path d=\"M1.768000e+01,0 L1.768000e+01,-6 M1.025482e+02,0 L1.025482e+02,-6 M1.874165e+02,0 L1.874165e+02,-6 M2.722847e+02,0 L2.722847e+02,-6 M3.571530e+02,0 L3.571530e+02,-6 M4.420212e+02,0 L4.420212e+02,-6 M5.268895e+02,0 L5.268895e+02,-6 M6.117577e+02,0 L6.117577e+02,-6 M6.966259e+02,0 L6.966259e+02,-6 M7.814942e+02,0 L7.814942e+02,-6 \" vector-effect=\"non-scaling-stroke\"/></g><g stroke=\"black\" stroke-linejoin=\"round\" transform=\"translate(70 330 )scale(1 1 )\" font-style=\"normal\" dominant-baseline=\"hanging\" text-anchor=\"middle\" stroke-linecap=\"round\" stroke-width=\"2px\" fill=\"black\" font-family=\"sans-serif\" font-size=\"12px\" font-weight=\"normal\"><text y=\"10\" dominant-baseline=\"hanging\" stroke=\"none\" vector-effect=\"non-scaling-stroke\" x=\"1.768000e+01\">0</text><text stroke=\"none\" vector-effect=\"non-scaling-stroke\" x=\"1.025482e+02\" y=\"10\" dominant-baseline=\"hanging\">2000</text><text y=\"10\" dominant-baseline=\"hanging\" stroke=\"none\" vector-effect=\"non-scaling-stroke\" x=\"1.874165e+02\">4000</text><text stroke=\"none\" vector-effect=\"non-scaling-stroke\" x=\"2.722847e+02\" y=\"10\" dominant-baseline=\"hanging\">6000</text><text stroke=\"none\" vector-effect=\"non-scaling-stroke\" x=\"3.571530e+02\" y=\"10\" dominant-baseline=\"hanging\">8000</text><text dominant-baseline=\"hanging\" stroke=\"none\" vector-effect=\"non-scaling-stroke\" x=\"4.420212e+02\" y=\"10\">10000</text><text stroke=\"none\" vector-effect=\"non-scaling-stroke\" x=\"5.268895e+02\" y=\"10\" dominant-baseline=\"hanging\">12000</text><text x=\"6.117577e+02\" y=\"10\" dominant-baseline=\"hanging\" stroke=\"none\" vector-effect=\"non-scaling-stroke\">14000</text><text y=\"10\" dominant-baseline=\"hanging\" stroke=\"none\" vector-effect=\"non-scaling-stroke\" x=\"6.966259e+02\">16000</text><text vector-effect=\"non-scaling-stroke\" x=\"7.814942e+02\" y=\"10\" dominant-baseline=\"hanging\" stroke=\"none\">18000</text></g><g font-family=\"sans-serif\" transform=\"translate(70 330 )scale(1 1 )rotate(0 0 0 )\" fill=\"black\" stroke=\"black\" stroke-linecap=\"round\" font-size=\"12px\" font-style=\"normal\" font-weight=\"bold\" text-anchor=\"middle\" dominant-baseline=\"baseline\" stroke-width=\"2px\" stroke-linejoin=\"round\"><text x=\"442\" y=\"-6\" dominant-baseline=\"baseline\" stroke=\"none\" vector-effect=\"non-scaling-stroke\">Steps</text></g><g dominant-baseline=\"baseline\" stroke-linecap=\"round\" font-style=\"normal\" transform=\"translate(70 330 )scale(1 -1 )\" stroke=\"black\" font-weight=\"bold\" text-anchor=\"middle\" font-size=\"12px\" fill=\"black\" stroke-width=\"2px\" stroke-linejoin=\"round\" font-family=\"sans-serif\"><path vector-effect=\"non-scaling-stroke\" d=\"M0,4.172312e+01 L-6,4.172312e+01 M0,1.026697e+02 L-6,1.026697e+02 M0,1.636164e+02 L-6,1.636164e+02 M0,2.245630e+02 L-6,2.245630e+02 \"/></g><g stroke=\"black\" stroke-linejoin=\"round\" font-weight=\"normal\" stroke-linecap=\"round\" font-size=\"12px\" font-style=\"normal\" fill=\"black\" text-anchor=\"end\" dominant-baseline=\"middle\" font-family=\"sans-serif\" transform=\"translate(70 330 )scale(1 1 )\" stroke-width=\"2px\"><text vector-effect=\"non-scaling-stroke\" x=\"-10\" y=\"-4.172312e+01\" dominant-baseline=\"middle\" stroke=\"none\">3.000</text><text dominant-baseline=\"middle\" stroke=\"none\" vector-effect=\"non-scaling-stroke\" x=\"-10\" y=\"-1.026697e+02\">6.000</text><text stroke=\"none\" vector-effect=\"non-scaling-stroke\" x=\"-10\" y=\"-1.636164e+02\" dominant-baseline=\"middle\">9.000</text><text stroke=\"none\" vector-effect=\"non-scaling-stroke\" x=\"-10\" y=\"-2.245630e+02\" dominant-baseline=\"middle\">12.000</text></g><g font-family=\"sans-serif\" font-size=\"12px\" font-style=\"normal\" font-weight=\"bold\" fill=\"black\" text-anchor=\"middle\" dominant-baseline=\"hanging\" stroke-linecap=\"round\" transform=\"translate(70 330 )scale(1 1 )rotate(-90 0 0 )\" stroke=\"black\" stroke-width=\"2px\" stroke-linejoin=\"round\"><text vector-effect=\"non-scaling-stroke\" x=\"130\" y=\"6\" dominant-baseline=\"hanging\" stroke=\"none\">loss</text></g><g transform=\"translate(70 330 )scale(1 -1 )\" text-anchor=\"middle\" dominant-baseline=\"hanging\" font-size=\"12px\" font-style=\"normal\" fill=\"black\" stroke-width=\"0.5px\" stroke-linejoin=\"round\" stroke-linecap=\"round\" font-family=\"sans-serif\" font-weight=\"bold\" stroke=\"gray\"><path vector-effect=\"non-scaling-stroke\" d=\"M0,4.172312e+01 L884,4.172312e+01 M0,1.026697e+02 L884,1.026697e+02 M0,1.636164e+02 L884,1.636164e+02 M0,2.245630e+02 L884,2.245630e+02 \"/></g><g font-family=\"sans-serif\" dominant-baseline=\"hanging\" stroke-width=\"2px\" fill=\"none\" font-size=\"12px\" font-style=\"normal\" font-weight=\"bold\" text-anchor=\"middle\" stroke-linecap=\"round\" stroke=\"black\" stroke-linejoin=\"round\"><rect vector-effect=\"non-scaling-stroke\" x=\"70\" y=\"70\" width=\"884\" height=\"260\"/><g fill=\"black\" font-size=\"18px\" dominant-baseline=\"middle\"><text stroke=\"none\" vector-effect=\"non-scaling-stroke\" x=\"512\" y=\"35\" dominant-baseline=\"middle\">loss metrics</text></g><g stroke-linecap=\"round\" stroke=\"hsl(90, 47%, 65%)\" stroke-linejoin=\"round\" font-family=\"sans-serif\" font-style=\"normal\" font-weight=\"normal\" text-anchor=\"start\" dominant-baseline=\"hanging\" font-size=\"12px\" stroke-width=\"1px\" fill=\"hsl(90, 47%, 65%)\"><rect x=\"76\" y=\"366\" width=\"12\" height=\"12\" vector-effect=\"non-scaling-stroke\"/><g fill=\"black\" stroke=\"black\"><text stroke=\"none\" vector-effect=\"non-scaling-stroke\" x=\"92\" y=\"366\" dominant-baseline=\"hanging\">Eval on Cifar-10 Eval On Test: Mean Loss</text></g><g fill=\"hsl(301, 88%, 65%)\" stroke=\"hsl(301, 88%, 65%)\" dominant-baseline=\"hanging\" stroke-linecap=\"round\" font-family=\"sans-serif\" stroke-linejoin=\"round\" font-size=\"12px\" font-style=\"normal\" font-weight=\"normal\" text-anchor=\"start\" stroke-width=\"1px\"><rect height=\"12\" vector-effect=\"non-scaling-stroke\" x=\"76\" y=\"384\" width=\"12\"/><g stroke=\"black\" fill=\"black\"><text dominant-baseline=\"hanging\" stroke=\"none\" vector-effect=\"non-scaling-stroke\" x=\"92\" y=\"384\">Eval on Cifar-10 Eval On Train: Mean Loss</text></g><g dominant-baseline=\"hanging\" stroke-linecap=\"round\" stroke-width=\"1px\" font-style=\"normal\" font-weight=\"normal\" text-anchor=\"start\" font-family=\"sans-serif\" font-size=\"12px\" stroke-linejoin=\"round\" fill=\"hsl(152, 76%, 65%)\" stroke=\"hsl(152, 76%, 65%)\"><rect y=\"402\" width=\"12\" height=\"12\" vector-effect=\"non-scaling-stroke\" x=\"76\"/><g stroke=\"black\" fill=\"black\"><text vector-effect=\"non-scaling-stroke\" x=\"92\" y=\"402\" dominant-baseline=\"hanging\" stroke=\"none\">Train: Moving Average Loss</text></g></g></g></g></g></svg>"
      ]
     },
     "metadata": {},
     "output_type": "display_data"
    },
    {
     "name": "stdout",
     "output_type": "stream",
     "text": [
      "\tMean Loss (#loss): 1.216\n",
      "\tMean Accuracy (#acc): 85.88%\n",
      "Results on Cifar-10 Eval On Test:\n",
      "\tMean Loss (#loss): 1.558\n",
      "\tMean Accuracy (#acc): 71.77%\n",
      "\n"
     ]
    }
   ],
   "source": [
    "%% --model=cnn --steps=20000 --batch=50 --hidden_layers=2 --l2_reg=0.01 --dropout=0.1 --norm=batch\n",
    "trainModel()"
   ]
  }
 ],
 "metadata": {
  "kernelspec": {
   "display_name": "Go (gonb)",
   "language": "go",
   "name": "gonb"
  },
  "language_info": {
   "codemirror_mode": "",
   "file_extension": ".go",
   "mimetype": "",
   "name": "go",
   "nbconvert_exporter": "",
   "pygments_lexer": "",
   "version": "go1.20.4"
  }
 },
 "nbformat": 4,
 "nbformat_minor": 5
}
