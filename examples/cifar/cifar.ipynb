{
 "cells": [
  {
   "cell_type": "markdown",
   "id": "f431da81-4d94-4fd1-8a51-952ef824cb46",
   "metadata": {},
   "source": [
    "# Cifar Library and Demo\n",
    "\n",
    "[This is a library](https://pkg.go.dev/github.com/gomlx/gomlx/examples/cifar) to download and parse the Cifar datasets (Cifar-10 and Cifar-100), and a very small demo of a FNN (Feedforward Neural Network) with GoMLX. FNNs are notoriously bad for images, but it's only a demo. Look for the Resnet50 model for a more serious image classification model (old but still good -- best results as of the time of this writing is with ViT model).\n",
    "\n",
    "The CIFAR-10 and CIFAR-100 are labeled subsets of the 80 million tiny images dataset. They were collected by Alex Krizhevsky, Vinod Nair, and Geoffrey Hinton. See more details in [its homepage here](https://www.cs.toronto.edu/~kriz/cifar.html).\n",
    "\n",
    "This notebook serves as documentation and example for the [github.com/gomlx/gomlx/examples/cifar](https://github.com/gomlx/gomlx/examples/cifar) library."
   ]
  },
  {
   "cell_type": "markdown",
   "id": "bd398a51-c10a-4d05-91f7-f978856a8d8b",
   "metadata": {},
   "source": [
    "## Environment Set Up\n",
    "\n",
    "Let's set up `go.mod` to use the local copy of GoMLX, so it can be developed jointly the dataset code with the model. That's often how data pre-processing and model code is developed together with experimentation.\n",
    "\n",
    "If you are not changing code, feel free to simply skip this cell. Or if you used a different directory for you projects, change it below.\n",
    "\n",
    "Notice the directory `${HOME}/Projects/gomlx` is where the GoMLX code is copied by default in [its Docker](https://hub.docker.com/repository/docker/janpfeifer/gomlx_jupyterlab/general)."
   ]
  },
  {
   "cell_type": "code",
   "execution_count": 1,
   "id": "22abc207-e8b0-44ef-840d-fee3550cffca",
   "metadata": {
    "tags": []
   },
   "outputs": [],
   "source": [
    "!*go mod edit -replace github.com/gomlx/gomlx=\"${HOME}/Projects/gomlx\""
   ]
  },
  {
   "cell_type": "markdown",
   "id": "443e9e56-ef12-4d04-b7bb-99478fa2b662",
   "metadata": {},
   "source": [
    "## Data Preparation\n",
    "\n",
    "### Downloading data files\n",
    "\n",
    "To download, uncompress and untar to the local directory, simply do the following. Notice if it's already downloaded in the given `--data` directory, it returns immediately."
   ]
  },
  {
   "cell_type": "code",
   "execution_count": 2,
   "id": "a61fdd1a-74a0-46f2-9cfc-f79bfa37e298",
   "metadata": {
    "tags": []
   },
   "outputs": [],
   "source": [
    "import (\n",
    "    \"github.com/gomlx/gomlx/examples/cifar\"\n",
    "    \"github.com/gomlx/gomlx/ml/data\"\n",
    ")\n",
    "\n",
    "var flagDataDir = flag.String(\"data\", \"~/work/cifar\", \"Directory to cache downloaded and generated dataset files.\")\n",
    "\n",
    "func AssertNoError(err error) {\n",
    "    if err != nil { panic(err) }\n",
    "}\n",
    "\n",
    "func AssertDownloaded() {\n",
    "    *flagDataDir = data.ReplaceTildeInDir(*flagDataDir)\n",
    "    if !data.FileExists(*flagDataDir) {\n",
    "        AssertNoError(os.MkdirAll(*flagDataDir, 0777))\n",
    "    }\n",
    "\n",
    "    AssertNoError(cifar.DownloadCifar10(*flagDataDir))\n",
    "    AssertNoError(cifar.DownloadCifar100(*flagDataDir))\n",
    "}\n",
    "\n",
    "%%\n",
    "AssertDownloaded()"
   ]
  },
  {
   "cell_type": "code",
   "execution_count": 3,
   "id": "345076ef-e2a3-4405-b47d-801c9ec62b91",
   "metadata": {
    "tags": []
   },
   "outputs": [
    {
     "name": "stdout",
     "output_type": "stream",
     "text": [
      "total 323M\n",
      "drwxr-xr-x 2 janpf janpf 4.0K Feb 20  2010 cifar-100-binary\n",
      "-rw-r--r-- 1 janpf janpf 161M Jul  6 16:33 cifar-100-binary.tar.gz\n",
      "drwxr-xr-x 2 janpf janpf 4.0K Jun  4  2009 cifar-10-batches-bin\n",
      "-rw-r--r-- 1 janpf janpf 163M Jul  6 16:33 cifar-10-binary.tar.gz\n"
     ]
    }
   ],
   "source": [
    "!ls -lh ~/work/cifar/"
   ]
  },
  {
   "cell_type": "markdown",
   "id": "93d4ae39-915c-478c-887f-b1c8c080865b",
   "metadata": {},
   "source": [
    "### Sample some images\n",
    "\n",
    "The `cifar.NewDataset` creates a `data.InMemoryDataset` that can be used both for training, evaluation, or just to sample a few examples, which we do below:"
   ]
  },
  {
   "cell_type": "code",
   "execution_count": 4,
   "id": "0dabc63a-b918-4065-9b23-0c5a22446458",
   "metadata": {
    "tags": []
   },
   "outputs": [
    {
     "data": {
      "text/html": [
       "<p>Samples Cifar-10</p>\n"
      ]
     },
     "metadata": {},
     "output_type": "display_data"
    },
    {
     "data": {
      "text/html": [
       "<table><tr>\n",
       "<td><figure style=\"padding:4px;text-align: center;\"><img width=\"64\" height=\"64\" src=\"data:image/png;base64,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\"><figcaption style=\"text-align: center;\">dog ([5])</figcaption></figure></td>\n",
       "<td><figure style=\"padding:4px;text-align: center;\"><img width=\"64\" height=\"64\" src=\"data:image/png;base64,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\"><figcaption style=\"text-align: center;\">deer ([4])</figcaption></figure></td>\n",
       "<td><figure style=\"padding:4px;text-align: center;\"><img width=\"64\" height=\"64\" src=\"data:image/png;base64,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\"><figcaption style=\"text-align: center;\">automobile ([1])</figcaption></figure></td>\n",
       "<td><figure style=\"padding:4px;text-align: center;\"><img width=\"64\" height=\"64\" src=\"data:image/png;base64,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\"><figcaption style=\"text-align: center;\">horse ([7])</figcaption></figure></td>\n",
       "<td><figure style=\"padding:4px;text-align: center;\"><img width=\"64\" height=\"64\" src=\"data:image/png;base64,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\"><figcaption style=\"text-align: center;\">cat ([3])</figcaption></figure></td>\n",
       "<td><figure style=\"padding:4px;text-align: center;\"><img width=\"64\" height=\"64\" src=\"data:image/png;base64,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\"><figcaption style=\"text-align: center;\">cat ([3])</figcaption></figure></td>\n",
       "<td><figure style=\"padding:4px;text-align: center;\"><img width=\"64\" height=\"64\" src=\"data:image/png;base64,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\"><figcaption style=\"text-align: center;\">cat ([3])</figcaption></figure></td>\n",
       "<td><figure style=\"padding:4px;text-align: center;\"><img width=\"64\" height=\"64\" src=\"data:image/png;base64,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\"><figcaption style=\"text-align: center;\">dog ([5])</figcaption></figure></td>\n",
       "</tr></table>\n"
      ]
     },
     "metadata": {},
     "output_type": "display_data"
    },
    {
     "data": {
      "text/html": [
       "<p>Samples Cifar-100</p>\n"
      ]
     },
     "metadata": {},
     "output_type": "display_data"
    },
    {
     "data": {
      "text/html": [
       "<table><tr>\n",
       "<td><figure style=\"padding:4px;text-align: center;\"><img width=\"64\" height=\"64\" src=\"data:image/png;base64,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\"><figcaption style=\"text-align: center;\">seal ([72])</figcaption></figure></td>\n",
       "<td><figure style=\"padding:4px;text-align: center;\"><img width=\"64\" height=\"64\" src=\"data:image/png;base64,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\"><figcaption style=\"text-align: center;\">pine_tree ([59])</figcaption></figure></td>\n",
       "<td><figure style=\"padding:4px;text-align: center;\"><img width=\"64\" height=\"64\" src=\"data:image/png;base64,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\"><figcaption style=\"text-align: center;\">leopard ([42])</figcaption></figure></td>\n",
       "<td><figure style=\"padding:4px;text-align: center;\"><img width=\"64\" height=\"64\" src=\"data:image/png;base64,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\"><figcaption style=\"text-align: center;\">beaver ([4])</figcaption></figure></td>\n",
       "<td><figure style=\"padding:4px;text-align: center;\"><img width=\"64\" height=\"64\" src=\"data:image/png;base64,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\"><figcaption style=\"text-align: center;\">apple ([0])</figcaption></figure></td>\n",
       "<td><figure style=\"padding:4px;text-align: center;\"><img width=\"64\" height=\"64\" src=\"data:image/png;base64,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\"><figcaption style=\"text-align: center;\">orchid ([54])</figcaption></figure></td>\n",
       "<td><figure style=\"padding:4px;text-align: center;\"><img width=\"64\" height=\"64\" src=\"data:image/png;base64,iVBORw0KGgoAAAANSUhEUgAAACAAAAAgCAIAAAD8GO2jAAAJvklEQVR4nBzVWY8kyUEA4Djzzqysyurq+5zZ7pmd2R5bu8DysCshS+sHJAT8A34XvCGEkHgHnkBCCMsYj/fy2HN013TXlXXkfURkZEQg8xO+p4/8zV//ORdahfb5y8ixjbOz0/vd+vsP65/d3jw5G3/7YZNm/HG70qDpU0GltZ7tpIlGzyLQcgeDvO/KVmhp/OUXP7u2x0XJNaHbfCc6vs0LxwkIABoiNJ4Ek3CoGOp63rPi0CE5b+7iot3VyccsXmUaMZNangmIYSItVNPwpsu1glRhSqTnKg2IBlEY3S9WZVlZphEMgrJoiZKqh4iYVlvpVjdN1goFLg/d/chPKw1bWGUtq+ur62cvPntuW2aVdrOHH2qyNBwlarNX0vRMN5yEltvJXmtuUjIaDiCkdbqWSpCuh/IPDNoymesCNWbF5fEedS3y/m6ZpxUAwovs6xeff3pzCzFPtqnlyc7sV5t5NrWpgV3PHrne0DZgixSSiKpD7/h+dq8UpMQgrdCW4wBl7HaswkqWfV3xFWEAZ5WuhxOoqWPQyeHxPsYwr9ZA6/HRZdmns1k10OPIC3Je1esGhLppG+I4hmULXnddK7peAUB60FuDsGNgEW/IwOzqlhUsdfxwAsaH4RCgltST/dsnhxdMlNvth4l76XuXnvbQ0+dJ9UNVZ0wvCaS8aeuiwoI3TBkUjqJoe38veoVMx0aEVGWNNNYMIk0Gga80Molxvn8prINc4uPofOjuUcNESBuaO5AcOpefHv+Jd7Af13fRfnJ1RYDkUsm+FxAAiJBhmQji0AkJtmnVMaKJadplWXsT5/aLVxD0GEgMzLioKgby+GM1OU1ZVtftrJ7OWukaA8+KxsdX0WZvNGZH7incoF6poe+LDjZlSQEnBJmWRcKDkaRemRZSybKsD59G18+eadCl6d2Hx/fv3+5ejq+G+eY//vWfsoDoLvXtIMl+B4Q8Ds8vT37qeQe83UEURsH+MqkQpp5nQCawkASCVrTo+ic3k6Oh4cNeizDCx2c2xA3rsqyuN7vmanx8u3+c3D8+/vB6dzdtclG2PYZKsGpdbB/T2eMuaQtv37/EhCKMKKEGwK5tVYyHXoAgIOEwmm9zDSWA7Juff/nk+XCRvVumTHTANfe+fvJi/u3rbVUM/ShvcN/2bd8bgQKg5bgsYGb7h6HlYYz/9823CkIp2DprBq7fa8AZE70kedaqnpkaXT6//ebP/gqjWsgfITFVj0N7NGIrDJd7Z+gXc6kVlZwT2SDhHJ0cwL2gRPL5y69OWFMlGwNSw3Obpt7lqeu5GijGWkgNEmcFIW7TxDfXt7631wv3YNiPAjevuVaib7qD/QPcFd/PFgsO24YbELdJD3t6e/NyyhuD8jG1pXY7pXshTUxc13McAxE5GITLPENVy9cbvs2aHgolBdQYE6OTGQaCaDU4/xT4B9Ib2bZVFcXAAJGLuawe7h7qrHQsx1DMQx3xTGGRVkpE7eOj464T1CSEEiU1fvbTV8V8K0nfOW0pGgbhw/rj+8cfMbZcyx2bnMdvRLpsauPo7PBqRPNaZVy2TTO+CHIirRb6Qq6SZJNVQiCpNAQgywoJdVY0xLDws89e8qKKToaVbt7NZ7lijaibJsnr9H57/7C6iyty8cmLT25vHWL89+s3d0nFW9X1bPLUf5/OA2aMiF11/S5vBEOO65ZVmRel0KqquWU7SEjtTvz94wFVtGtEslsL0Y1HZ9si+Z9f//Jf/vOXv3lIE/giPP0iLeu3yyIpm7IsKsHfpbMi3UQGIRoiKG3bMSlVCG2zHFGgtUKElE2NgO68EBITdY3oG5Estk1a2SQgxOk7BADNiyQrFhjqwA9Mg0rWlVXJHfh+sxkT6oD2YfqmzDMFVDg0EOwAAIHng46fTvZMitB4YI+GKF6u6qwDHWAlL9OGt31Vtr0AmuCqbdqmwIRgii3DBL2WWOmx6SH389H5w++nmzhezJdeMEIGrfPK87xBOCx528hmV2zIs0/27UBuXk8xJ9IEuu/LtvuwmqdNBQ2tIAaQlE3TI7I/GX164sXxhp7u4WP3whwaLdltmUkN23agJmmRMt5LqH713W+k1F0cN4yTp9cHvRCnUd7VSakUwXg48GzXfupdmoaaPaYetk49u5x9Gy/vgBB7Q3/V67GyL2nEslYCmXNpEVrkm+127VpOnuVJkkBAFnE9GO2R8figSLKjSVjKTqWMImpheHNw+keffDbdPPz9P//jl/vnTyLz7/72H97MF6zRvmNf24Owtl/eXMTy3doxGBkhSssi6QTTUnDWKo0Hg7BYVhoYxDGDxypm0EJ2gAuJgGZVMzDtyA9Z13x2cfXV0xfQNFPhJo3ZdW3N889fXP3pT2+9vQMkU66N7x63vewNatu2rKsWQuS6oesHcAEU50QIScje9fUruLibr/+96bhmxZvpd8Tsd0n86uzi0N9/WD9yUbqeRTku8/Tf/utXaVFMoohg0x9O8uxt1/XD4SHGpmkRasOG9azrZN+3TUMQCG7OL4PB/sCLHnd3rOm07h6204xlQ2CE5CDW23fv79qq9Swr6/q9KAp9F1qRYR8cHZ2keX58cLZMtgpo13IB4KZtQ9jG8UwjrAgmw+DMNlwD4+Ph+MvbP64bsani+er3rO19fy8c7u+KNePtFz/53B0E76cfB459cXbElEqzDlBb6d2T01NqOxhRAyIJZbF75EwpwV3fNwcBvHuc2jQgiEitWtHmTTtN3j6ufmvo0VWw/2R8vPj4zjDNtuvvp4+6hycnh5aN65atMgYQEV1VJAXXOMsyqGGSbe6mb5UkCFNMqBWEpO+ZJpbWkCDsU88LAymWPjyPRjeBQoj3Ryfn8XJebOMoCBzLV7oDGre74vLk/N3HqRLKdtzZ7HEdr4EGm+0my1v4/6k5lnk+HBGDOoxXlqEotDEhUkvTMI6i09AfoYaVVaKV7pvu5OAIYuvXP/4wW8xvnlxdHp4CimnHbcNaN/U2jtertWGYgyDE1EAAPru4skw7Go6IbTtVWTNeSikNw5Ra+e4e1FjWtWi71SqWnUC9bMvGHZGqybZJ8eoGm1Qu1rMPi2Up2Xy53qw2aZISYgzC0LAtqdRDvEAQx3lKXMvW0uVMAAC0kkpKBOy+yHbLjxD+AWb67sfdh2FgF/nOoYZj2lArrfVuF8/iVVHXyTblXPC288ZDg1qsbiilWVkiBLlg+Ouvv1otl1Lq7Ta5u/8wDMe+583vfrtars8uLv0gRBjFi/nhZMQ79jBbTucLiPHhZA/13S9ef/+7D9OTaO8vvvl5K0Ve5F3Huq5t21pLoaUs8vz/AgAA///6USfg88WYHwAAAABJRU5ErkJggg==\"><figcaption style=\"text-align: center;\">squirrel ([80])</figcaption></figure></td>\n",
       "<td><figure style=\"padding:4px;text-align: center;\"><img width=\"64\" height=\"64\" src=\"data:image/png;base64,iVBORw0KGgoAAAANSUhEUgAAACAAAAAgCAIAAAD8GO2jAAAJtUlEQVR4nBxW2Y+k1129+7d/VV/t1dVd3T3dPXvaY00iZ1AUyQYJQWQZiQgQSIhnHvizkJAQCB5sIoitACGxcZQZY3vGcc9MT69V1bV/691R+f2ne+45955zfqTWqGFGhVbUIQgjzRXPuUVIG265afUaH/z5e//w9z9ngRsEKgngkx8+vHv/9qeffnZ5Mfvy+cV7Pzr+q5++9/Evnn70H7+5c3iU1Oj3jntPn53klolK/PZXrzFzGGUMImihUUpZbYwGEGJgNTKyUfe2h/XR5Zggmy7XlBK3yWqtaDFbvTm5KWaSSnU0bEvNsetfTmYswNouaqFjkG53E2AYJpRgRhHGUglgLTAQGKsV8F3qE9Bq1Lca7t0Q7DXjbqsjDDQu73Qa3aT/xf++0Jm81Um6EXIR73bbo2lxenEexwgDI422Vm8Ndom1VinlMg9qhBBSWgkhEWKh7zsGV2tx+mLUI6DddFqNcKtTn9L0xf+9aniN2ST1Db43HAzDqCxvLi4v0uuplCAIG0ArnlcAaM/T2PVc8x2aBdAYa5UxUhNCBefZOlsu1qPp+nRczhbr2MV3hu1uu7mel88+f3X+ZsEI7EXkqJ8kLiYYTufZdFmWwrjMS+pOxavXp9eY+gxDoKpCG2ABBsogAK1SVVkpo1ngKGCzSuZcK6lNkfqQXryZf/7bVxpSAMygFR8f7rTbUbcb39rfmq346fmKC31wEPf6XYwJ0VpDCBilChKpDDAGAmCkCAl2Q7/eqc/mK1kVlbYvzmcY07WafHFyLiy0aDOpNVQQuKGXNN2tKElhffLPnwioX76aYZq5XoAxxRCYKAy0AWVRGm0MsATY7XadELzKcyGV1Vhbo4FttLrTRX51s9QQIWxCDIft6Pj+VhLjzfMZc/fB8TzNXl9clRKfnc1FpZExFkJkrEUAMkwggmBzd69SYjRdrJaZkhZi6Pg4jFwDNPM95nkIQQbhdsPfH9SgLRUvynW2ns5DDL7/vbu8KrDjVVLN5zmmDoHAAmuVVABCbTTAECBbSSm1hYgYBZRRzU446DUiRgwAo8lUS534zgfv/uCd453p6CVWVc0PGfOjuFnvbr0aTSd5qhWsckVcl1KIreFSCiEBRMBiY6yjFbHIUIpUpRgGvNDcN4yZ8WzlOXjY9B2EOzW/FYejC6ss+I68LESabO23W+1vP/kfzTEBDqlFbhz4+ToTYiPXhgxAwFAINESQUAIM1FIobS9H88jFddf903d/dH+7ns+X/YR41O73u4GjCbIQWWUkc5ngMl1xD0fCaNTvuPfu1jFSScNNWqi/5dVjCEFpNHcIDYPIYuIFgbF2ox5CQMlyPjt7/sxVs8F2a5XnLiVVVi3mKXU8uDEroBgT5BgDioKT43sJIrqZ4NlKMIweHO2Op5PJfE2gQxGCjpuXeTNJlllR8pwwdrMsfvarrwehqfvo35/f8KLcraFhz+v1y6jfDwhRQjgEI0REWWEMiQ/pclU9fnR8ObroteKDnb629dk6t8r73ZevL+eZ58LxzdQSAhGK6mEQBLOL0XkKLjO4fnOVEDB81Gk3GxUXQmoIYZmvjeIAmmYrtgZgD4DT03XJDee6TMXvnr+uSr1YZpigbhL7AYtbdYRdyhjnlRabBMkynpeAKxxg+0c/Pvq7v32/lzAI9M7R7SjprDL+4c/++3yyGO51arUGORuXFqHZ62sICK+ENvrrc8WVcOhorxvVGx43AAGJrQwoKdLSGiUUMAZgIB7t+X/5Jz88eLj78vPZrYMDFvpCGYe4vUatG7PtbS/w9zF1McIEWiC14cpAhAwAELIih6s5l4pcXs+X6yLLKiWtUpYhH0odU/Ngx7nV8x7cGqyvzyiGnZ2BtAI7tN3rSV2OqhQB78GdIUKuZyAym1MBwsgoG/ouxQYhICwy2I+SjlQYQAdiRpgjNiM6YKjmOYeHO1ClF99+gz06TtPJdClNlYulIZmfsMnlwscpZoEjpQIYS6uVtg5x+t3k4cP98Wy05lWleKfbXK5yISWh2CIrAYda1zAt1/Kg7xzu+W6z8eV1/o8ffv7rz14sy1xA/tlXz89vpr0o3u3XCEakBApRbI3GFhBMhaii0K3Xo0wxafTNbG6hxQQCpBG0oaWRh3/v/o6qVgEykNT/7enFv3zy7XKm6hG8sS8WWF7N80bsPz7q1PwGbvSaSikEILCQMQczMl3NsrLCgK1LrrCVWQqFppRABAgjMSOPh1sPe+HBDure3v+nj05e3eSFdq6uFPFQrcYkEXsP7hoAXNcWXGLqUpdQpK2ohIWwVFwRChDp1GpclrnMQ8QoptZorbSWimr1/rsPE9+kFfjX/zr94tmb9z94Mtj1r6+vLABQbzaSqN2RRs/nc64kZmTTYhhACMHmsyurILFW1Sh0GJRabje7UmteZZELB63orYN2EopVkX38m/FkvPrpT3aFEqN5tXsQbw8aLnMXa7FY53m5btQSrQhutRJeVcBs4CFCACFjNbLG0aIRM2NEzfUcAg6GyY/fufXBHz76yR/fq9cb35ysSwIxgfsDdzznufF3bvl+CDv9rZtFmlUlwqzMeJrJTbcgvCGgtLUWxAHzkFaVqLtBv+H5EUKi7IT4ydvDJ48Hd4/828eDg3t39w924rr+9s2cc3zv8f360CWMvzyZnl1nncFOVlad9nA6Xi3TlAjLfS8ABuiCh7633UkYkmkpi0UGlRkMEtaxkdXbTdwIUwdbY6Ahi9vH8WRK7z/yfS/uHyZPX3yjCrxO3RevR7sgni+NlOPD/cGzr77Aj985VBoaiKsir0UuoTAv0r1hr9OIPIeMRlPquvNZ1m0629um2Ww1m21LbSVCZe3N9UWr3XBckC7R6ctFUHOdmK7SgrFGYYp7d4L5OCeewxazq41REV6n5Ww2q8e+tbTd2VJl9eyrNydvVhQgkefDvZ2odppkhpIetLysKgNqN/OKuc0n339QZv/5enSRF1pbXFYT6gfzpXnr8R083EuKXEqlrIGCK2BhVUnO+eTmyhoJMBbWHN3bJYRmaU5p2us5QVir9OL8kn/8y5NCmumkgAYdP7pdGjWZ2fkihbisKrtcyM7Aw3/2F78vuMUYpVkhpUIIUcKGw37oi6SO3nr79s6t/ts/GPo159Nfn2qFWq1oPFmfXc8WmTdbw6geu27w4Uc/39ndu/Pw4S9++XSVVZTQ8fUq5Tpuhviv/+YPIGKj8SYzlTYbO1igpdjf6viO9gNUr9Uc11pabe8eAuiN59KNWtOZW1k/iP3FfOpFpJJ4uQa7+/tfn7w8u5gUK6SkxjGNos7/BwAA//9E3KDxMIJKoAAAAABJRU5ErkJggg==\"><figcaption style=\"text-align: center;\">possum ([64])</figcaption></figure></td>\n",
       "</tr></table>\n"
      ]
     },
     "metadata": {},
     "output_type": "display_data"
    }
   ],
   "source": [
    "import (\n",
    "    \"strings\"\n",
    "    . \"github.com/gomlx/gomlx/graph\"\n",
    "    \"github.com/gomlx/gomlx/examples/cifar\"\n",
    "    \"github.com/gomlx/gomlx/types/shapes\"\n",
    "    timage \"github.com/gomlx/gomlx/types/tensor/image\"\n",
    "    \"github.com/janpfeifer/gonb/gonbui\"\n",
    ")\n",
    "\n",
    "var (\n",
    "    // Model DType, used everywhere.\n",
    "    DType = shapes.F32\n",
    "    \n",
    "    // Global manager, also used for all graphs.\n",
    "    manager = NewManager()\n",
    ")\n",
    "\n",
    "// sampleToNotebook generates a sample of Cifar-10 and Cifar-100 in a GoNB Jupyter Notebook.\n",
    "func sampleToNotebook() {\n",
    "    // Load data into tensors.\n",
    "    ds10 := cifar.NewDataset(manager, \"Samples Cifar-10\", *flagDataDir, cifar.C10, DType, cifar.Train).Shuffle()\n",
    "    ds100 := cifar.NewDataset(manager, \"Samples Cifar-100\", *flagDataDir, cifar.C100, DType, cifar.Train).Shuffle()\n",
    "    sampleImages(ds10, 8, cifar.C10Labels)\n",
    "    sampleImages(ds100, 8, cifar.C100FineLabels)\n",
    "}\n",
    "\n",
    "// sampleTable generates and outputs one html table of samples, sampling rows x cols from the images/labels provided.\n",
    "func sampleImages(ds train.Dataset, numImages int, labelNames []string) {\n",
    "    gonbui.DisplayHTML(fmt.Sprintf(\"<p>%s</p>\\n\", ds.Name()))\n",
    "    \n",
    "    parts := make([]string, 0, numImages+5) // Leave last part empty.\n",
    "    parts = append(parts, \"<table><tr>\")\n",
    "    for ii := 0; ii < numImages; ii++ {\n",
    "        _, inputs, labels, err := ds.Yield()\n",
    "        AssertNoError(err)\n",
    "        imgTensor := inputs[0]\n",
    "        img, err := timage.ToImage().Single(imgTensor)\n",
    "        AssertNoError(err)\n",
    "        label := labels[0].Local().Value().([]int)\n",
    "        labelStr := labelNames[label[0]]\n",
    "    \n",
    "        imgSrc, err := gonbui.EmbedImageAsPNGSrc(img)\n",
    "        AssertNoError(err)\n",
    "        size := imgTensor.Shape().Dimensions[0]\n",
    "        parts = append(\n",
    "            parts, \n",
    "            fmt.Sprintf(`<td><figure style=\"padding:4px;text-align: center;\"><img width=\"%d\" height=\"%d\" src=\"%s\">` + \n",
    "                        `<figcaption style=\"text-align: center;\">%s (%d)</figcaption></figure></td>`, \n",
    "                        size*2, size*2, imgSrc, labelStr, label),\n",
    "        )\n",
    "    }\n",
    "    parts = append(parts, \"</tr></table>\", \"\")\n",
    "    gonbui.DisplayHTML(strings.Join(parts, \"\\n\"))\n",
    "}\n",
    "\n",
    "%%\n",
    "AssertDownloaded()\n",
    "sampleToNotebook()"
   ]
  },
  {
   "cell_type": "markdown",
   "id": "7fa8c06c-ede0-4cd1-80bd-9331422e3a63",
   "metadata": {},
   "source": [
    "## Training on Cifar-10\n",
    "\n",
    "### Models Support\n",
    "\n",
    "1. `CreateDatasets` creates 3 datasets: one for training, and two for evaluation: of the training dataset and of the validation dataset.\n",
    "1. `normalizeImage` and `normalizeFeatures`: they normalize `x` according to the hyperparameter given in `flagNormalization` flag.\n"
   ]
  },
  {
   "cell_type": "code",
   "execution_count": 5,
   "id": "c8d3c19e-af0c-4fef-a76c-dabb375972d0",
   "metadata": {
    "tags": []
   },
   "outputs": [],
   "source": [
    "import (\n",
    "    \"flags\"\n",
    "    \n",
    "    . \"github.com/gomlx/gomlx/graph\"\n",
    "    . \"github.com/gomlx/gomlx/types/exceptions\"\n",
    "    \"github.com/gomlx/gomlx/examples/cifar\"\n",
    "    \"github.com/gomlx/gomlx/ml/context\"\n",
    ")\n",
    "\n",
    "var (\n",
    "    // BatchSize for training.\n",
    "    flagBatchSize        = flag.Int(\"batch\", 50, \"Batch size for training\")\n",
    "\n",
    "    // EvalBatchSize can be larger than training, more efficient.\n",
    "    EvalBatchSize = 2000\n",
    "\n",
    "    // Model hyper-parameters.\n",
    "    flagL2Regularization = flag.Float64(\"l2_reg\", 0, \"L2 regularization on kernels. It doesn't interact well with --batch_norm.\")\n",
    "    flagNormalization    = flag.String(\"norm\", \"layer\", \"Type of normalization to use. Valid values are \\\"none\\\", \\\"batch\\\", \\\"layer\\\".\")\n",
    "\n",
    "    // Model hyperparameters:\n",
    "    flagNumHiddenLayers = flag.Int(\"hidden_layers\", 8, \"Number of hidden layers, stacked with residual connection.\")\n",
    "    flagNumNodes        = flag.Int(\"num_nodes\", 128, \"Number of nodes in hidden layers.\")\n",
    "    flagDropoutRate     = flag.Float64(\"dropout\", 0, \"Dropout rate\")\n",
    ")\n",
    "\n",
    "func CreateDatasets() (trainDS, trainEvalDS, validationEvalDS train.Dataset) {\n",
    "    baseTrain := cifar.NewDataset(manager, \"Training\", *flagDataDir, cifar.C10, DType, cifar.Train)\n",
    "    baseTest := cifar.NewDataset(manager, \"Validation\", *flagDataDir, cifar.C10, DType, cifar.Test)\n",
    "    trainDS = baseTrain.Copy().BatchSize(*flagBatchSize, true).Shuffle().Infinite(true)\n",
    "    trainEvalDS = baseTrain.BatchSize(EvalBatchSize, false)\n",
    "    validationEvalDS = baseTest.BatchSize(EvalBatchSize, false)\n",
    "    return\n",
    "}\n",
    "\n",
    "func normalizeImage(ctx *context.Context, x *Node) *Node {\n",
    "    x.AssertRank(4)  // [batch_size, width, height, depth]\n",
    "    switch *flagNormalization {\n",
    "    case \"layer\":\n",
    "        return layers.LayerNormalization(ctx, x, 1, 2).ScaleNormalization(false).Done()\n",
    "    case \"batch\":\n",
    "        return layers.BatchNormalization(ctx, x, -1).Done()\n",
    "    case \"none\":\n",
    "        return x\n",
    "    }\n",
    "    Panicf(\"invalid normalization selected %q -- valid values are batch, layer, none\", *flagNormalization)\n",
    "    return nil\n",
    "}\n",
    "\n",
    "func normalizeFeatures(ctx *context.Context, x *Node) *Node {\n",
    "    x.AssertRank(2)  // [batch_size, embedding_dim]\n",
    "    switch *flagNormalization {\n",
    "    case \"layer\":\n",
    "        return layers.LayerNormalization(ctx, x, -1).Done()\n",
    "    case \"batch\":\n",
    "        return layers.BatchNormalization(ctx, x, -1).Done()\n",
    "    case \"none\":\n",
    "        return x\n",
    "    }\n",
    "    Panicf(\"invalid normalization selected %q -- valid values are batch, layer, none\", *flagNormalization)\n",
    "    return nil\n",
    "}"
   ]
  },
  {
   "cell_type": "markdown",
   "id": "f771ca6f-5912-4406-9f2a-a838fd7cd065",
   "metadata": {},
   "source": [
    "### Simple FNN model\n",
    "\n",
    "A trivial model, that can easily get to ~45% accuracy (a random model would do 10%), but hardly much more than that.\n",
    "\n",
    "Later we are going to define a CNN model to compare, and we just set a placeholder model here for now.\n",
    "\n",
    "> **Note**: \n",
    ">\n",
    "> * Cifar datasets yields (`Dataset.Yield()`) only the indices to the images of the batch as a `Tensor`. But it provides a `GatherImagesGraph` method that gathers the images from a static variable that holds the whole dataset (~1Gb in memory, stored as float32). We access it through the `getBatchedImatges()` defined above. \n"
   ]
  },
  {
   "cell_type": "code",
   "execution_count": 6,
   "id": "0ac4e4da-2c3b-431c-9e54-00e31045785f",
   "metadata": {
    "tags": []
   },
   "outputs": [
    {
     "name": "stdout",
     "output_type": "stream",
     "text": [
      "Logits shape for batch_size=50: (Float32)[50 10]\n"
     ]
    }
   ],
   "source": [
    "import (\n",
    "    \"flags\"\n",
    "    \n",
    "    . \"github.com/gomlx/gomlx/graph\"\n",
    "    \"github.com/gomlx/gomlx/examples/cifar\"\n",
    "    \"github.com/gomlx/gomlx/ml/context\"\n",
    "    \"github.com/gomlx/gomlx/ml/train/optimizers\"\n",
    "    \"github.com/gomlx/gomlx/types/shapes\"\n",
    ")\n",
    "\n",
    "func FNNModelGraph(ctx *context.Context, spec any, inputs []*Node) []*Node {\n",
    "    g := inputs[0].Graph()\n",
    "    batchedImages := inputs[0]\n",
    "    batchSize := batchedImages.Shape().Dimensions[0]\n",
    "    logits := Reshape(batchedImages, batchSize, -1)\n",
    "    {\n",
    "        ctx := ctx.In(\"Dense_0\")\n",
    "        logits = layers.DenseWithBias(ctx, logits, *flagNumNodes)\n",
    "        logits = normalizeFeatures(ctx, logits)\n",
    "    }\n",
    "    for ii := 1; ii < *flagNumHiddenLayers; ii++ {\n",
    "        ctx := ctx.In(fmt.Sprintf(\"Dense_%d\", ii))\n",
    "        // Add layer with residual connection.\n",
    "        tmp := Sigmoid(logits)\n",
    "        if *flagDropoutRate > 0 {\n",
    "            tmp = layers.Dropout(ctx, tmp, Const(g, shapes.CastAsDType(*flagDropoutRate, tmp.DType())))\n",
    "        }\n",
    "        tmp = layers.DenseWithBias(ctx, tmp, *flagNumNodes)\n",
    "        tmp = normalizeFeatures(ctx, tmp)\n",
    "        logits = Add(logits, tmp)\n",
    "    }\n",
    "    logits = Sigmoid(logits)\n",
    "    logits = layers.DenseWithBias(ctx.In(\"denseFinal\"), logits, len(cifar.C10Labels))\n",
    "    return []*Node{logits}\n",
    "}\n",
    "\n",
    "// Only a placeholder for now.\n",
    "func CNNModelGraph(ctx *context.Context, spec any, inputs []*Node) []*Node {\n",
    "    return nil   \n",
    "}\n",
    "\n",
    "%%\n",
    "// Let's test that the logits are coming out with the right shape: we want [batch_size, 10], since there are 10 classes.\n",
    "AssertDownloaded()\n",
    "ctx := context.NewContext(manager)\n",
    "g := manager.NewGraph(\"placeholder\")\n",
    "logits := FNNModelGraph(ctx, nil, []*Node{g.Parameter(\"images\", shapes.Make(DType, *flagBatchSize, cifar.Height, cifar.Width, cifar.Depth))})\n",
    "fmt.Printf(\"Logits shape for batch_size=%d: %s\\n\", *flagBatchSize, logits[0].Shape())\n"
   ]
  },
  {
   "cell_type": "markdown",
   "id": "aef7d6ee-ca2b-40c7-ac3d-4242ecd8ed1b",
   "metadata": {},
   "source": [
    "### Training Loop\n",
    "\n",
    "With a model function defined, let's create our training loop, with the usual bells and whistles: accuracy metrics, progress-bar, plot of metrics, checkpoints."
   ]
  },
  {
   "cell_type": "code",
   "execution_count": 7,
   "id": "d72336ef-d96d-4d98-a3a6-5df912be5f24",
   "metadata": {
    "tags": []
   },
   "outputs": [
    {
     "name": "stdout",
     "output_type": "stream",
     "text": [
      "Platform: CUDA\n",
      "Training (500 steps):  100% [\u001b[32m=\u001b[0m\u001b[32m=\u001b[0m\u001b[32m=\u001b[0m\u001b[32m=\u001b[0m\u001b[32m=\u001b[0m\u001b[32m=\u001b[0m\u001b[32m=\u001b[0m\u001b[32m=\u001b[0m\u001b[32m=\u001b[0m\u001b[32m=\u001b[0m\u001b[32m=\u001b[0m\u001b[32m=\u001b[0m\u001b[32m=\u001b[0m\u001b[32m=\u001b[0m\u001b[32m=\u001b[0m\u001b[32m=\u001b[0m\u001b[32m=\u001b[0m\u001b[32m=\u001b[0m\u001b[32m=\u001b[0m\u001b[32m=\u001b[0m\u001b[32m=\u001b[0m\u001b[32m=\u001b[0m\u001b[32m=\u001b[0m\u001b[32m=\u001b[0m\u001b[32m=\u001b[0m\u001b[32m=\u001b[0m\u001b[32m=\u001b[0m\u001b[32m=\u001b[0m\u001b[32m=\u001b[0m\u001b[32m=\u001b[0m\u001b[32m=\u001b[0m\u001b[32m=\u001b[0m\u001b[32m=\u001b[0m\u001b[32m=\u001b[0m\u001b[32m=\u001b[0m\u001b[32m=\u001b[0m\u001b[32m=\u001b[0m\u001b[32m=\u001b[0m\u001b[32m=\u001b[0m\u001b[32m=\u001b[0m] (125 steps/s)\u001b[0m [loss=1.807] [~loss=1.917] [~acc=31.81%]        \n",
      "\t[Step 500] median train step: 1483 microseconds\n",
      "\n",
      "Results on Training:\n",
      "\tMean Loss (#loss): 1.874\n",
      "\tMean Accuracy (#acc): 33.94%\n",
      "Results on Validation:\n",
      "\tMean Loss (#loss): 1.877\n",
      "\tMean Accuracy (#acc): 33.36%\n",
      "\n"
     ]
    }
   ],
   "source": [
    "import (\n",
    "    \"flags\"\n",
    "    \n",
    "    \"github.com/gomlx/gomlx/examples/cifar\"\n",
    "    \"github.com/gomlx/gomlx/ml/context\"\n",
    "    \"github.com/gomlx/gomlx/ml/train\"\n",
    "    \"github.com/gomlx/gomlx/types/slices\"\n",
    ")\n",
    "\n",
    "var (\n",
    "    // Training flags:\n",
    "    flagModel            = flag.String(\"model\", \"fnn\", \"Model type: fnn or cnn.\")\n",
    "    flagNumSteps         = flag.Int(\"steps\", 2000, \"Number of gradient descent steps to perform\")\n",
    "    flagOptimizer        = flag.String(\"optimizer\", \"adamw\", fmt.Sprintf(\"Optimizer, options: %v\", slices.Keys(optimizers.KnownOptimizers)))\n",
    "    flagLearningRate     = flag.Float64(\"learning_rate\", 0.0001, \"Initial learning rate.\")\n",
    "    flagCheckpoint       = flag.String(\"checkpoint\", \"\", \"Directory save and load checkpoints from. If left empty, no checkpoints are created.\")\n",
    "    flagCheckpointKeep   = flag.Int(\"checkpoint_keep\", 10, \"Number of checkpoints to keep, if --checkpoint is set.\")\n",
    "    \n",
    "    // Training UI:\n",
    "    flagUseProgressBar = flag.Bool(\"bar\", true, \"If to display a progress bar during training\")\n",
    "    flagPlots          = flag.Bool(\"plots\", true, \"Plots during training: perform periodic evaluations, \"+\n",
    "                                   \"save results if --checkpoint is set and draw plots, if in a Jupyter notebook.\")\n",
    ")\n",
    "\n",
    "func trainModel() {\n",
    "    // Make sure data is downloaded.\n",
    "    AssertDownloaded()\n",
    "\n",
    "    // Manager handles creation of ML computation graphs, accelerator resources, etc.\n",
    "    fmt.Printf(\"Platform: %s\\n\", manager.Platform())\n",
    "\n",
    "    // Create datasets used for training and evaluation.\n",
    "    trainDS, evalOnTrainDS, evalOnTestDS := CreateDatasets()\n",
    "\n",
    "    // Create closure for model graph building function, that uses statically the dataset\n",
    "    // used for its `cifar.Dataset.GatherImageGraph`, to convert image indices to the actual images.\n",
    "    // This is the signature of model function that the train.Trainer accepts.\n",
    "    modelFn := FNNModelGraph\n",
    "    if *flagModel == \"cnn\" {\n",
    "        modelFn = CNNModelGraph\n",
    "    }\n",
    "\n",
    "    // Metrics we are interested.\n",
    "    meanAccuracyMetric := metrics.NewSparseCategoricalAccuracy(\"Mean Accuracy\", \"#acc\")\n",
    "    movingAccuracyMetric := metrics.NewMovingAverageSparseCategoricalAccuracy(\"Moving Average Accuracy\", \"~acc\", 0.01)\n",
    "\n",
    "    // Context holds the variables and hyperparameters for the model.\n",
    "    ctx := context.NewContext(manager)\n",
    "    ctx.SetParam(optimizers.LearningRateKey, *flagLearningRate)\n",
    "    ctx.SetParam(layers.L2RegularizationKey, *flagL2Regularization)\n",
    "\n",
    "    // Checkpoints saving.\n",
    "    var checkpoint *checkpoints.Handler\n",
    "    if *flagCheckpoint != \"\" {\n",
    "        var err error\n",
    "        checkpoint, err = checkpoints.Build(ctx).DirFromBase(*flagCheckpoint, *flagDataDir).Keep(*flagCheckpointKeep).Done()\n",
    "        if err != nil { panic(err) }\n",
    "        fmt.Printf(\"Checkpointing model to %q\\n\", checkpoint.Dir())\n",
    "        globalStep := optimizers.GetGlobalStepVar(ctx).Value().Value().(int)\n",
    "        if globalStep != 0 {\n",
    "            fmt.Printf(\"Restarting training from global_step=%d\\n\", globalStep)\n",
    "        }\n",
    "    }\n",
    "    \n",
    "    // Create a train.Trainer: this object will orchestrate running the model, feeding\n",
    "    // results to the optimizer, evaluating the metrics, etc. (all happens in trainer.TrainStep)\n",
    "    trainer := train.NewTrainer(manager, ctx, modelFn,\n",
    "        losses.SparseCategoricalCrossEntropyLogits,\n",
    "        optimizers.MustOptimizerByName(*flagOptimizer),\n",
    "        []metrics.Interface{movingAccuracyMetric}, // trainMetrics\n",
    "        []metrics.Interface{meanAccuracyMetric})   // evalMetrics\n",
    "\n",
    "    // Use standard training loop.\n",
    "    loop := train.NewLoop(trainer)\n",
    "    loop.ReadGlobalStep(ctx)  // Make sure it restarts from previous global step, if one is set.\n",
    "    commandline.AttachProgressBar(loop) // Attaches a progress bar to the loop.\n",
    "\n",
    "    // Attach a checkpoint: checkpoint every 1 minute of training.\n",
    "    if checkpoint != nil {\n",
    "        period := time.Minute * 1\n",
    "        train.PeriodicCallback(loop, period, true, \"saving checkpoint\", 100,\n",
    "            func(loop *train.Loop, metrics []tensor.Tensor) error {\n",
    "                fmt.Printf(\"\\n[saving checkpoint@%d] [median train step (ms): %d]\\n\", loop.LoopStep, loop.MedianTrainStepDuration().Milliseconds())\n",
    "                return checkpoint.Save()\n",
    "            })\n",
    "    }\n",
    "\n",
    "    // Attach a margaid plots: plot points at exponential steps, that are saved along the checkpoint directory (if one is given).\n",
    "    if *flagPlots {\n",
    "        _ = margaid.NewDefault(loop, checkpoint.Dir(), 100, 1.1, evalOnTrainDS, evalOnTestDS)\n",
    "    }\n",
    "\n",
    "    // Run the given number of steps.\n",
    "    _, err := loop.RunSteps(trainDS, *flagNumSteps)\n",
    "    AssertNoError(err)\n",
    "    fmt.Printf(\"\\t[Step %d] median train step: %d microseconds\\n\", loop.LoopStep, loop.MedianTrainStepDuration().Microseconds())\n",
    "\n",
    "    // Finally print an evaluation on train and test datasets.\n",
    "    fmt.Println()\n",
    "    err = commandline.ReportEval(trainer, evalOnTrainDS, evalOnTestDS)\n",
    "    AssertNoError(err)\n",
    "    fmt.Println()\n",
    "}\n",
    "\n",
    "%% --model=fnn --steps=500 --plots=false\n",
    "trainModel()"
   ]
  },
  {
   "cell_type": "markdown",
   "id": "300a8419-5679-42ba-9149-51c17c7c427d",
   "metadata": {},
   "source": [
    "### FNN Model Training\n",
    "\n",
    "Let's train the FNN for real this time."
   ]
  },
  {
   "cell_type": "code",
   "execution_count": 8,
   "id": "cf876f49-e737-4dfa-aa05-48aad3d7a128",
   "metadata": {
    "tags": []
   },
   "outputs": [
    {
     "name": "stdout",
     "output_type": "stream",
     "text": [
      "Platform: CUDA\n",
      "Checkpointing model to \"/home/janpf/work/cifar/base_fnn_model\"\n"
     ]
    },
    {
     "data": {
      "text/html": [
       "<svg viewbox=\"0 0 1024 400\" style=\"background-color:#f8f8f8\" preserveAspectRatio=\"xMidYMid meet\" xmlns=\"http://www.w3.org/2000/svg\" width=\"1024\" height=\"454\"><defs><marker id=\"circle\" viewBox=\"0 0 10 10 \" refX=\"5\" refY=\"5\" markerUnits=\"userSpaceOnUse\" markerWidth=\"2%\" markerHeight=\"2%\"><circle cx=\"5\" cy=\"5\" r=\"3\" fill=\"none\" stroke=\"black\"/></marker><marker markerHeight=\"2%\" id=\"filled-circle\" viewBox=\"0 0 10 10 \" refX=\"5\" refY=\"5\" markerUnits=\"userSpaceOnUse\" markerWidth=\"2%\"><circle cx=\"5\" cy=\"5\" r=\"3\" fill=\"black\" stroke=\"none\"/></marker><marker refX=\"5\" refY=\"5\" markerUnits=\"userSpaceOnUse\" markerWidth=\"2%\" markerHeight=\"2%\" id=\"square\" viewBox=\"0 0 10 10 \"><rect stroke=\"black\" x=\"2\" y=\"2\" width=\"6\" height=\"6\" fill=\"none\"/></marker><marker markerWidth=\"2%\" markerHeight=\"2%\" id=\"filled-square\" viewBox=\"0 0 10 10 \" refX=\"5\" refY=\"5\" markerUnits=\"userSpaceOnUse\"><rect width=\"6\" height=\"6\" fill=\"black\" stroke=\"none\" x=\"2\" y=\"2\"/></marker></defs><g stroke=\"hsl(90, 47%, 65%)\" marker-start=\"url(#square)\" transform=\"translate(70 330 )scale(1 -1 )\" stroke-linecap=\"round\" stroke-linejoin=\"round\" fill=\"none\" marker-mid=\"url(#square)\" marker-end=\"url(#square)\" stroke-width=\"2px\"><path d=\"M1.768000e+01,7.519222e+01 L1.544041e+02,1.391050e+02 L2.382534e+02,1.436419e+02 L3.004969e+02,1.621375e+02 L3.509112e+02,1.696037e+02 L3.940749e+02,1.806309e+02 L4.321593e+02,1.874941e+02 L4.666302e+02,1.851831e+02 L4.983920e+02,1.956880e+02 L5.280354e+02,1.982351e+02 L5.559630e+02,1.982462e+02 L5.824593e+02,2.025823e+02 L6.078067e+02,2.129601e+02 L6.321982e+02,1.991951e+02 L6.557685e+02,2.123800e+02 L6.786125e+02,2.218900e+02 L7.008441e+02,2.240352e+02 L7.225391e+02,2.303099e+02 L7.437834e+02,2.321476e+02 L7.646305e+02,2.359641e+02 L7.851406e+02,2.398347e+02 L8.053477e+02,2.332448e+02 L8.252913e+02,2.459575e+02 L8.449900e+02,2.496931e+02 L8.644679e+02,2.498594e+02 L8.663200e+02,2.548000e+02 \" vector-effect=\"non-scaling-stroke\"/></g><g stroke-linecap=\"round\" stroke-linejoin=\"round\" stroke=\"hsl(301, 88%, 65%)\" stroke-width=\"2px\" marker-mid=\"url(#square)\" marker-end=\"url(#square)\" transform=\"translate(70 330 )scale(1 -1 )\" fill=\"none\" marker-start=\"url(#square)\"><path vector-effect=\"non-scaling-stroke\" d=\"M1.768000e+01,8.004629e+01 L1.544041e+02,1.378288e+02 L2.382534e+02,1.403595e+02 L3.004969e+02,1.613284e+02 L3.509112e+02,1.706088e+02 L3.940749e+02,1.801753e+02 L4.321593e+02,1.862132e+02 L4.666302e+02,1.848073e+02 L4.983920e+02,1.978699e+02 L5.280354e+02,1.988646e+02 L5.559630e+02,1.982573e+02 L5.824593e+02,2.053835e+02 L6.078067e+02,2.096248e+02 L6.321982e+02,1.986439e+02 L6.557685e+02,2.104634e+02 L6.786125e+02,2.208346e+02 L7.008441e+02,2.207846e+02 L7.225391e+02,2.266949e+02 L7.437834e+02,2.285821e+02 L7.646305e+02,2.311688e+02 L7.851406e+02,2.322139e+02 L8.053477e+02,2.298792e+02 L8.252913e+02,2.361597e+02 L8.449900e+02,2.407212e+02 L8.644679e+02,2.364854e+02 L8.663200e+02,2.421757e+02 \"/></g><g stroke-width=\"2px\" stroke-linecap=\"round\" stroke-linejoin=\"round\" marker-mid=\"url(#square)\" fill=\"none\" stroke=\"hsl(152, 76%, 65%)\" transform=\"translate(70 330 )scale(1 -1 )\" marker-start=\"url(#square)\" marker-end=\"url(#square)\"><path vector-effect=\"non-scaling-stroke\" d=\"M1.768000e+01,5.200000e+00 L1.544041e+02,9.155947e+01 L2.382534e+02,1.306445e+02 L3.004969e+02,1.488742e+02 L3.509112e+02,1.619013e+02 L3.940749e+02,1.657711e+02 L4.321593e+02,1.711187e+02 L4.666302e+02,1.886323e+02 L4.983920e+02,1.873530e+02 L5.280354e+02,1.876200e+02 L5.559630e+02,1.963621e+02 L5.824593e+02,2.012075e+02 L6.078067e+02,2.060016e+02 L6.321982e+02,2.074668e+02 L6.557685e+02,2.146362e+02 L6.786125e+02,2.171217e+02 L7.008441e+02,2.194061e+02 L7.225391e+02,2.285262e+02 L7.437834e+02,2.310455e+02 L7.646305e+02,2.310927e+02 L7.851406e+02,2.322073e+02 L8.053477e+02,2.385083e+02 L8.252913e+02,2.371384e+02 L8.449900e+02,2.447609e+02 L8.644679e+02,2.480105e+02 L8.663200e+02,2.510943e+02 \"/></g><g stroke-linejoin=\"round\" transform=\"translate(70 330 )scale(1 -1 )\" stroke-linecap=\"round\" stroke=\"black\" stroke-width=\"2px\" fill=\"none\"><path vector-effect=\"non-scaling-stroke\" d=\"M1.768000e+01,0 L1.768000e+01,-6 M1.454130e+02,0 L1.454130e+02,-6 M2.201321e+02,0 L2.201321e+02,-6 M2.731461e+02,0 L2.731461e+02,-6 M3.142670e+02,0 L3.142670e+02,-6 M3.478651e+02,0 L3.478651e+02,-6 M3.762720e+02,0 L3.762720e+02,-6 M4.008791e+02,0 L4.008791e+02,-6 M4.225842e+02,0 L4.225842e+02,-6 M442,0 L442,-6 M4.595637e+02,0 L4.595637e+02,-6 M5.697330e+02,0 L5.697330e+02,-6 M6.444521e+02,0 L6.444521e+02,-6 M6.974661e+02,0 L6.974661e+02,-6 M7.385870e+02,0 L7.385870e+02,-6 M7.721851e+02,0 L7.721851e+02,-6 M8.005920e+02,0 L8.005920e+02,-6 M8.251991e+02,0 L8.251991e+02,-6 M8.469042e+02,0 L8.469042e+02,-6 M8.663200e+02,0 L8.663200e+02,-6 \"/></g><g stroke-width=\"2px\" font-style=\"normal\" dominant-baseline=\"hanging\" stroke-linecap=\"round\" stroke-linejoin=\"round\" font-family=\"sans-serif\" stroke=\"black\" fill=\"black\" text-anchor=\"middle\" transform=\"translate(70 330 )scale(1 1 )\" font-size=\"12px\" font-weight=\"normal\"><text x=\"1.768000e+01\" y=\"10\" dominant-baseline=\"hanging\" stroke=\"none\" vector-effect=\"non-scaling-stroke\">100</text><text vector-effect=\"non-scaling-stroke\" x=\"1.454130e+02\" y=\"10\" dominant-baseline=\"hanging\" stroke=\"none\">200</text><text stroke=\"none\" vector-effect=\"non-scaling-stroke\" x=\"2.201321e+02\" y=\"10\" dominant-baseline=\"hanging\">300</text><text stroke=\"none\" vector-effect=\"non-scaling-stroke\" x=\"2.731461e+02\" y=\"10\" dominant-baseline=\"hanging\">400</text><text stroke=\"none\" vector-effect=\"non-scaling-stroke\" x=\"3.142670e+02\" y=\"10\" dominant-baseline=\"hanging\">500</text><text stroke=\"none\" vector-effect=\"non-scaling-stroke\" x=\"3.478651e+02\" y=\"10\" dominant-baseline=\"hanging\">600</text><text dominant-baseline=\"hanging\" stroke=\"none\" vector-effect=\"non-scaling-stroke\" x=\"3.762720e+02\" y=\"10\">700</text><text vector-effect=\"non-scaling-stroke\" x=\"4.008791e+02\" y=\"10\" dominant-baseline=\"hanging\" stroke=\"none\">800</text><text dominant-baseline=\"hanging\" stroke=\"none\" vector-effect=\"non-scaling-stroke\" x=\"4.225842e+02\" y=\"10\">900</text><text stroke=\"none\" vector-effect=\"non-scaling-stroke\" x=\"442\" y=\"10\" dominant-baseline=\"hanging\">1000</text><text dominant-baseline=\"hanging\" stroke=\"none\" vector-effect=\"non-scaling-stroke\" x=\"4.595637e+02\" y=\"10\">1100</text><text stroke=\"none\" vector-effect=\"non-scaling-stroke\" x=\"5.697330e+02\" y=\"10\" dominant-baseline=\"hanging\">2000</text><text stroke=\"none\" vector-effect=\"non-scaling-stroke\" x=\"6.444521e+02\" y=\"10\" dominant-baseline=\"hanging\">3000</text><text dominant-baseline=\"hanging\" stroke=\"none\" vector-effect=\"non-scaling-stroke\" x=\"6.974661e+02\" y=\"10\">4000</text><text dominant-baseline=\"hanging\" stroke=\"none\" vector-effect=\"non-scaling-stroke\" x=\"7.385870e+02\" y=\"10\">5000</text><text vector-effect=\"non-scaling-stroke\" x=\"7.721851e+02\" y=\"10\" dominant-baseline=\"hanging\" stroke=\"none\">6000</text><text vector-effect=\"non-scaling-stroke\" x=\"8.005920e+02\" y=\"10\" dominant-baseline=\"hanging\" stroke=\"none\">7000</text><text y=\"10\" dominant-baseline=\"hanging\" stroke=\"none\" vector-effect=\"non-scaling-stroke\" x=\"8.251991e+02\">8000</text><text y=\"10\" dominant-baseline=\"hanging\" stroke=\"none\" vector-effect=\"non-scaling-stroke\" x=\"8.469042e+02\">9000</text><text x=\"8.663200e+02\" y=\"10\" dominant-baseline=\"hanging\" stroke=\"none\" vector-effect=\"non-scaling-stroke\">10000</text></g><g dominant-baseline=\"baseline\" fill=\"black\" stroke=\"black\" font-family=\"sans-serif\" font-weight=\"bold\" stroke-linecap=\"round\" transform=\"translate(70 330 )scale(1 1 )rotate(0 0 0 )\" font-style=\"normal\" stroke-width=\"2px\" font-size=\"12px\" text-anchor=\"middle\" stroke-linejoin=\"round\"><text x=\"442\" y=\"-6\" dominant-baseline=\"baseline\" stroke=\"none\" vector-effect=\"non-scaling-stroke\">Steps</text></g><g font-weight=\"bold\" text-anchor=\"middle\" stroke-linejoin=\"round\" dominant-baseline=\"baseline\" transform=\"translate(70 330 )scale(1 -1 )\" font-family=\"sans-serif\" stroke=\"black\" font-size=\"12px\" stroke-linecap=\"round\" stroke-width=\"2px\" font-style=\"normal\" fill=\"black\"><path d=\"M0,4.608949e+01 L-6,4.608949e+01 M0,1.354894e+02 L-6,1.354894e+02 M0,1.989197e+02 L-6,1.989197e+02 M0,2.481200e+02 L-6,2.481200e+02 \" vector-effect=\"non-scaling-stroke\"/></g><g transform=\"translate(70 330 )scale(1 1 )\" font-style=\"normal\" dominant-baseline=\"middle\" fill=\"black\" stroke=\"black\" stroke-width=\"2px\" font-family=\"sans-serif\" text-anchor=\"end\" font-size=\"12px\" font-weight=\"normal\" stroke-linecap=\"round\" stroke-linejoin=\"round\"><text vector-effect=\"non-scaling-stroke\" x=\"-10\" y=\"-4.608949e+01\" dominant-baseline=\"middle\" stroke=\"none\">0.200</text><text y=\"-1.354894e+02\" dominant-baseline=\"middle\" stroke=\"none\" vector-effect=\"non-scaling-stroke\" x=\"-10\">0.300</text><text stroke=\"none\" vector-effect=\"non-scaling-stroke\" x=\"-10\" y=\"-1.989197e+02\" dominant-baseline=\"middle\">0.400</text><text stroke=\"none\" vector-effect=\"non-scaling-stroke\" x=\"-10\" y=\"-2.481200e+02\" dominant-baseline=\"middle\">0.500</text></g><g font-weight=\"bold\" fill=\"black\" stroke=\"black\" dominant-baseline=\"hanging\" text-anchor=\"middle\" stroke-linecap=\"round\" stroke-linejoin=\"round\" font-size=\"12px\" transform=\"translate(70 330 )scale(1 1 )rotate(-90 0 0 )\" font-family=\"sans-serif\" stroke-width=\"2px\" font-style=\"normal\"><text vector-effect=\"non-scaling-stroke\" x=\"130\" y=\"6\" dominant-baseline=\"hanging\" stroke=\"none\">accuracy</text></g><g font-family=\"sans-serif\" font-size=\"12px\" font-weight=\"bold\" stroke-linecap=\"round\" stroke-linejoin=\"round\" transform=\"translate(70 330 )scale(1 -1 )\" font-style=\"normal\" dominant-baseline=\"hanging\" fill=\"black\" stroke=\"gray\" stroke-width=\"0.5px\" text-anchor=\"middle\"><path vector-effect=\"non-scaling-stroke\" d=\"M0,4.608949e+01 L884,4.608949e+01 M0,1.354894e+02 L884,1.354894e+02 M0,1.989197e+02 L884,1.989197e+02 M0,2.481200e+02 L884,2.481200e+02 \"/></g><g dominant-baseline=\"hanging\" fill=\"none\" stroke-width=\"2px\" font-family=\"sans-serif\" font-size=\"12px\" font-weight=\"bold\" text-anchor=\"middle\" stroke=\"black\" font-style=\"normal\" stroke-linecap=\"round\" stroke-linejoin=\"round\"><rect x=\"70\" y=\"70\" width=\"884\" height=\"260\" vector-effect=\"non-scaling-stroke\"/><g dominant-baseline=\"middle\" fill=\"black\" font-size=\"18px\"><text stroke=\"none\" vector-effect=\"non-scaling-stroke\" x=\"512\" y=\"35\" dominant-baseline=\"middle\">accuracy metrics</text></g><g dominant-baseline=\"hanging\" fill=\"hsl(90, 47%, 65%)\" font-family=\"sans-serif\" font-size=\"12px\" text-anchor=\"start\" stroke=\"hsl(90, 47%, 65%)\" stroke-width=\"1px\" font-style=\"normal\" stroke-linecap=\"round\" stroke-linejoin=\"round\" font-weight=\"normal\"><rect x=\"76\" y=\"366\" width=\"12\" height=\"12\" vector-effect=\"non-scaling-stroke\"/><g fill=\"black\" stroke=\"black\"><text dominant-baseline=\"hanging\" stroke=\"none\" vector-effect=\"non-scaling-stroke\" x=\"92\" y=\"366\">Eval on Training: Mean Accuracy</text></g><g font-size=\"12px\" font-weight=\"normal\" text-anchor=\"start\" stroke-linecap=\"round\" dominant-baseline=\"hanging\" font-family=\"sans-serif\" stroke-linejoin=\"round\" stroke-width=\"1px\" font-style=\"normal\" fill=\"hsl(301, 88%, 65%)\" stroke=\"hsl(301, 88%, 65%)\"><rect width=\"12\" height=\"12\" vector-effect=\"non-scaling-stroke\" x=\"76\" y=\"384\"/><g fill=\"black\" stroke=\"black\"><text stroke=\"none\" vector-effect=\"non-scaling-stroke\" x=\"92\" y=\"384\" dominant-baseline=\"hanging\">Eval on Validation: Mean Accuracy</text></g><g fill=\"hsl(152, 76%, 65%)\" stroke-width=\"1px\" font-style=\"normal\" text-anchor=\"start\" stroke-linecap=\"round\" font-family=\"sans-serif\" stroke=\"hsl(152, 76%, 65%)\" dominant-baseline=\"hanging\" font-weight=\"normal\" stroke-linejoin=\"round\" font-size=\"12px\"><rect vector-effect=\"non-scaling-stroke\" x=\"76\" y=\"402\" width=\"12\" height=\"12\"/><g fill=\"black\" stroke=\"black\"><text stroke=\"none\" vector-effect=\"non-scaling-stroke\" x=\"92\" y=\"402\" dominant-baseline=\"hanging\">Train: Moving Average Accuracy</text></g></g></g></g></g></svg>\n",
       "<svg width=\"1024\" height=\"454\" viewbox=\"0 0 1024 400\" style=\"background-color:#f8f8f8\" preserveAspectRatio=\"xMidYMid meet\" xmlns=\"http://www.w3.org/2000/svg\"><defs><marker viewBox=\"0 0 10 10 \" refX=\"5\" refY=\"5\" markerUnits=\"userSpaceOnUse\" markerWidth=\"2%\" markerHeight=\"2%\" id=\"circle\"><circle r=\"3\" fill=\"none\" stroke=\"black\" cx=\"5\" cy=\"5\"/></marker><marker refY=\"5\" markerUnits=\"userSpaceOnUse\" markerWidth=\"2%\" markerHeight=\"2%\" id=\"filled-circle\" viewBox=\"0 0 10 10 \" refX=\"5\"><circle fill=\"black\" stroke=\"none\" cx=\"5\" cy=\"5\" r=\"3\"/></marker><marker viewBox=\"0 0 10 10 \" refX=\"5\" refY=\"5\" markerUnits=\"userSpaceOnUse\" markerWidth=\"2%\" markerHeight=\"2%\" id=\"square\"><rect x=\"2\" y=\"2\" width=\"6\" height=\"6\" fill=\"none\" stroke=\"black\"/></marker><marker refY=\"5\" markerUnits=\"userSpaceOnUse\" markerWidth=\"2%\" markerHeight=\"2%\" id=\"filled-square\" viewBox=\"0 0 10 10 \" refX=\"5\"><rect height=\"6\" fill=\"black\" stroke=\"none\" x=\"2\" y=\"2\" width=\"6\"/></marker></defs><g stroke-linejoin=\"round\" marker-start=\"url(#square)\" marker-mid=\"url(#square)\" fill=\"none\" stroke-linecap=\"round\" transform=\"translate(70 330 )scale(1 -1 )\" stroke=\"hsl(90, 47%, 65%)\" marker-end=\"url(#square)\" stroke-width=\"2px\"><path vector-effect=\"non-scaling-stroke\" d=\"M1.768000e+01,2.344471e+02 L1.544041e+02,1.960229e+02 L2.382534e+02,1.796707e+02 L3.004969e+02,1.677916e+02 L3.509112e+02,1.539592e+02 L3.940749e+02,1.416025e+02 L4.321593e+02,1.320753e+02 L4.666302e+02,1.321972e+02 L4.983920e+02,1.188188e+02 L5.280354e+02,1.167803e+02 L5.559630e+02,1.112863e+02 L5.824593e+02,1.029126e+02 L6.078067e+02,9.335732e+01 L6.321982e+02,1.045350e+02 L6.557685e+02,8.753118e+01 L6.786125e+02,7.171878e+01 L7.008441e+02,6.606697e+01 L7.225391e+02,5.775817e+01 L7.437834e+02,5.214413e+01 L7.646305e+02,4.475312e+01 L7.851406e+02,3.895227e+01 L8.053477e+02,4.564241e+01 L8.252913e+02,2.661158e+01 L8.449900e+02,1.349110e+01 L8.644679e+02,1.236637e+01 L8.663200e+02,5.200000e+00 \"/></g><g stroke-width=\"2px\" marker-end=\"url(#square)\" fill=\"none\" marker-mid=\"url(#square)\" marker-start=\"url(#square)\" stroke=\"hsl(301, 88%, 65%)\" transform=\"translate(70 330 )scale(1 -1 )\" stroke-linecap=\"round\" stroke-linejoin=\"round\"><path vector-effect=\"non-scaling-stroke\" d=\"M1.768000e+01,2.346678e+02 L1.544041e+02,1.965901e+02 L2.382534e+02,1.800734e+02 L3.004969e+02,1.680654e+02 L3.509112e+02,1.547454e+02 L3.940749e+02,1.422883e+02 L4.321593e+02,1.323123e+02 L4.666302e+02,1.323509e+02 L4.983920e+02,1.201842e+02 L5.280354e+02,1.174012e+02 L5.559630e+02,1.122022e+02 L5.824593e+02,1.054875e+02 L6.078067e+02,9.628030e+01 L6.321982e+02,1.077337e+02 L6.557685e+02,9.073762e+01 L6.786125e+02,7.677410e+01 L7.008441e+02,7.329719e+01 L7.225391e+02,6.628933e+01 L7.437834e+02,6.183786e+01 L7.646305e+02,5.595774e+01 L7.851406e+02,5.260077e+01 L8.053477e+02,5.877310e+01 L8.252913e+02,4.618161e+01 L8.449900e+02,3.731310e+01 L8.644679e+02,3.686584e+01 L8.663200e+02,3.261346e+01 \"/></g><g stroke-linejoin=\"round\" stroke-width=\"2px\" marker-start=\"url(#square)\" marker-mid=\"url(#square)\" stroke=\"hsl(152, 76%, 65%)\" marker-end=\"url(#square)\" transform=\"translate(70 330 )scale(1 -1 )\" fill=\"none\" stroke-linecap=\"round\"><path vector-effect=\"non-scaling-stroke\" d=\"M1.768000e+01,2.548000e+02 L1.544041e+02,2.254426e+02 L2.382534e+02,1.966437e+02 L3.004969e+02,1.792455e+02 L3.509112e+02,1.635349e+02 L3.940749e+02,1.530826e+02 L4.321593e+02,1.459854e+02 L4.666302e+02,1.299096e+02 L4.983920e+02,1.285568e+02 L5.280354e+02,1.248146e+02 L5.559630e+02,1.142589e+02 L5.824593e+02,1.075619e+02 L6.078067e+02,1.006296e+02 L6.321982e+02,9.301976e+01 L6.557685e+02,8.667496e+01 L6.786125e+02,8.113796e+01 L7.008441e+02,7.631277e+01 L7.225391e+02,6.274668e+01 L7.437834e+02,5.714297e+01 L7.646305e+02,4.987490e+01 L7.851406e+02,4.954411e+01 L8.053477e+02,3.770124e+01 L8.252913e+02,4.176549e+01 L8.449900e+02,2.622796e+01 L8.644679e+02,2.150198e+01 L8.663200e+02,1.872754e+01 \"/></g><g stroke-linecap=\"round\" stroke-linejoin=\"round\" fill=\"none\" stroke-width=\"2px\" transform=\"translate(70 330 )scale(1 -1 )\" stroke=\"black\"><path vector-effect=\"non-scaling-stroke\" d=\"M1.768000e+01,0 L1.768000e+01,-6 M1.454130e+02,0 L1.454130e+02,-6 M2.201321e+02,0 L2.201321e+02,-6 M2.731461e+02,0 L2.731461e+02,-6 M3.142670e+02,0 L3.142670e+02,-6 M3.478651e+02,0 L3.478651e+02,-6 M3.762720e+02,0 L3.762720e+02,-6 M4.008791e+02,0 L4.008791e+02,-6 M4.225842e+02,0 L4.225842e+02,-6 M442,0 L442,-6 M4.595637e+02,0 L4.595637e+02,-6 M5.697330e+02,0 L5.697330e+02,-6 M6.444521e+02,0 L6.444521e+02,-6 M6.974661e+02,0 L6.974661e+02,-6 M7.385870e+02,0 L7.385870e+02,-6 M7.721851e+02,0 L7.721851e+02,-6 M8.005920e+02,0 L8.005920e+02,-6 M8.251991e+02,0 L8.251991e+02,-6 M8.469042e+02,0 L8.469042e+02,-6 M8.663200e+02,0 L8.663200e+02,-6 \"/></g><g font-weight=\"normal\" fill=\"black\" stroke-linecap=\"round\" stroke-linejoin=\"round\" font-size=\"12px\" transform=\"translate(70 330 )scale(1 1 )\" font-style=\"normal\" dominant-baseline=\"hanging\" font-family=\"sans-serif\" text-anchor=\"middle\" stroke=\"black\" stroke-width=\"2px\"><text y=\"10\" dominant-baseline=\"hanging\" stroke=\"none\" vector-effect=\"non-scaling-stroke\" x=\"1.768000e+01\">100</text><text stroke=\"none\" vector-effect=\"non-scaling-stroke\" x=\"1.454130e+02\" y=\"10\" dominant-baseline=\"hanging\">200</text><text x=\"2.201321e+02\" y=\"10\" dominant-baseline=\"hanging\" stroke=\"none\" vector-effect=\"non-scaling-stroke\">300</text><text vector-effect=\"non-scaling-stroke\" x=\"2.731461e+02\" y=\"10\" dominant-baseline=\"hanging\" stroke=\"none\">400</text><text vector-effect=\"non-scaling-stroke\" x=\"3.142670e+02\" y=\"10\" dominant-baseline=\"hanging\" stroke=\"none\">500</text><text stroke=\"none\" vector-effect=\"non-scaling-stroke\" x=\"3.478651e+02\" y=\"10\" dominant-baseline=\"hanging\">600</text><text y=\"10\" dominant-baseline=\"hanging\" stroke=\"none\" vector-effect=\"non-scaling-stroke\" x=\"3.762720e+02\">700</text><text stroke=\"none\" vector-effect=\"non-scaling-stroke\" x=\"4.008791e+02\" y=\"10\" dominant-baseline=\"hanging\">800</text><text x=\"4.225842e+02\" y=\"10\" dominant-baseline=\"hanging\" stroke=\"none\" vector-effect=\"non-scaling-stroke\">900</text><text y=\"10\" dominant-baseline=\"hanging\" stroke=\"none\" vector-effect=\"non-scaling-stroke\" x=\"442\">1000</text><text y=\"10\" dominant-baseline=\"hanging\" stroke=\"none\" vector-effect=\"non-scaling-stroke\" x=\"4.595637e+02\">1100</text><text x=\"5.697330e+02\" y=\"10\" dominant-baseline=\"hanging\" stroke=\"none\" vector-effect=\"non-scaling-stroke\">2000</text><text dominant-baseline=\"hanging\" stroke=\"none\" vector-effect=\"non-scaling-stroke\" x=\"6.444521e+02\" y=\"10\">3000</text><text y=\"10\" dominant-baseline=\"hanging\" stroke=\"none\" vector-effect=\"non-scaling-stroke\" x=\"6.974661e+02\">4000</text><text dominant-baseline=\"hanging\" stroke=\"none\" vector-effect=\"non-scaling-stroke\" x=\"7.385870e+02\" y=\"10\">5000</text><text y=\"10\" dominant-baseline=\"hanging\" stroke=\"none\" vector-effect=\"non-scaling-stroke\" x=\"7.721851e+02\">6000</text><text x=\"8.005920e+02\" y=\"10\" dominant-baseline=\"hanging\" stroke=\"none\" vector-effect=\"non-scaling-stroke\">7000</text><text y=\"10\" dominant-baseline=\"hanging\" stroke=\"none\" vector-effect=\"non-scaling-stroke\" x=\"8.251991e+02\">8000</text><text y=\"10\" dominant-baseline=\"hanging\" stroke=\"none\" vector-effect=\"non-scaling-stroke\" x=\"8.469042e+02\">9000</text><text vector-effect=\"non-scaling-stroke\" x=\"8.663200e+02\" y=\"10\" dominant-baseline=\"hanging\" stroke=\"none\">10000</text></g><g fill=\"black\" font-family=\"sans-serif\" font-size=\"12px\" text-anchor=\"middle\" font-style=\"normal\" font-weight=\"bold\" dominant-baseline=\"baseline\" stroke-linecap=\"round\" stroke-linejoin=\"round\" stroke=\"black\" stroke-width=\"2px\" transform=\"translate(70 330 )scale(1 1 )rotate(0 0 0 )\"><text stroke=\"none\" vector-effect=\"non-scaling-stroke\" x=\"442\" y=\"-6\" dominant-baseline=\"baseline\">Steps</text></g><g font-style=\"normal\" font-weight=\"bold\" text-anchor=\"middle\" stroke=\"black\" dominant-baseline=\"baseline\" fill=\"black\" stroke-width=\"2px\" transform=\"translate(70 330 )scale(1 -1 )\" stroke-linecap=\"round\" stroke-linejoin=\"round\" font-family=\"sans-serif\" font-size=\"12px\"><path vector-effect=\"non-scaling-stroke\" d=\"M0,1.951201e+02 L-6,1.951201e+02 \"/></g><g font-weight=\"normal\" text-anchor=\"end\" stroke-width=\"2px\" transform=\"translate(70 330 )scale(1 1 )\" dominant-baseline=\"middle\" stroke-linejoin=\"round\" stroke=\"black\" font-style=\"normal\" font-size=\"12px\" fill=\"black\" stroke-linecap=\"round\" font-family=\"sans-serif\"><text dominant-baseline=\"middle\" stroke=\"none\" vector-effect=\"non-scaling-stroke\" x=\"-10\" y=\"-1.951201e+02\">2.000</text></g><g font-weight=\"bold\" text-anchor=\"middle\" font-size=\"12px\" dominant-baseline=\"hanging\" fill=\"black\" stroke-linejoin=\"round\" font-family=\"sans-serif\" stroke=\"black\" stroke-width=\"2px\" transform=\"translate(70 330 )scale(1 1 )rotate(-90 0 0 )\" font-style=\"normal\" stroke-linecap=\"round\"><text vector-effect=\"non-scaling-stroke\" x=\"130\" y=\"6\" dominant-baseline=\"hanging\" stroke=\"none\">loss</text></g><g stroke=\"gray\" stroke-width=\"0.5px\" transform=\"translate(70 330 )scale(1 -1 )\" dominant-baseline=\"hanging\" fill=\"black\" stroke-linecap=\"round\" font-weight=\"bold\" text-anchor=\"middle\" stroke-linejoin=\"round\" font-family=\"sans-serif\" font-style=\"normal\" font-size=\"12px\"><path d=\"M0,1.951201e+02 L884,1.951201e+02 \" vector-effect=\"non-scaling-stroke\"/></g><g stroke=\"black\" stroke-width=\"2px\" font-style=\"normal\" font-weight=\"bold\" dominant-baseline=\"hanging\" fill=\"none\" stroke-linecap=\"round\" text-anchor=\"middle\" stroke-linejoin=\"round\" font-family=\"sans-serif\" font-size=\"12px\"><rect width=\"884\" height=\"260\" vector-effect=\"non-scaling-stroke\" x=\"70\" y=\"70\"/><g font-size=\"18px\" dominant-baseline=\"middle\" fill=\"black\"><text vector-effect=\"non-scaling-stroke\" x=\"512\" y=\"35\" dominant-baseline=\"middle\" stroke=\"none\">loss metrics</text></g><g stroke-linejoin=\"round\" font-family=\"sans-serif\" font-size=\"12px\" dominant-baseline=\"hanging\" stroke=\"hsl(90, 47%, 65%)\" font-weight=\"normal\" text-anchor=\"start\" stroke-linecap=\"round\" stroke-width=\"1px\" font-style=\"normal\" fill=\"hsl(90, 47%, 65%)\"><rect width=\"12\" height=\"12\" vector-effect=\"non-scaling-stroke\" x=\"76\" y=\"366\"/><g stroke=\"black\" fill=\"black\"><text y=\"366\" dominant-baseline=\"hanging\" stroke=\"none\" vector-effect=\"non-scaling-stroke\" x=\"92\">Eval on Training: Mean Loss</text></g><g font-style=\"normal\" dominant-baseline=\"hanging\" text-anchor=\"start\" stroke=\"hsl(301, 88%, 65%)\" stroke-linejoin=\"round\" font-family=\"sans-serif\" font-weight=\"normal\" stroke-width=\"1px\" font-size=\"12px\" fill=\"hsl(301, 88%, 65%)\" stroke-linecap=\"round\"><rect vector-effect=\"non-scaling-stroke\" x=\"76\" y=\"384\" width=\"12\" height=\"12\"/><g stroke=\"black\" fill=\"black\"><text x=\"92\" y=\"384\" dominant-baseline=\"hanging\" stroke=\"none\" vector-effect=\"non-scaling-stroke\">Eval on Validation: Mean Loss</text></g><g fill=\"hsl(152, 76%, 65%)\" stroke-linecap=\"round\" stroke-linejoin=\"round\" font-family=\"sans-serif\" font-size=\"12px\" dominant-baseline=\"hanging\" stroke=\"hsl(152, 76%, 65%)\" font-style=\"normal\" text-anchor=\"start\" stroke-width=\"1px\" font-weight=\"normal\"><rect y=\"402\" width=\"12\" height=\"12\" vector-effect=\"non-scaling-stroke\" x=\"76\"/><g stroke=\"black\" fill=\"black\"><text y=\"402\" dominant-baseline=\"hanging\" stroke=\"none\" vector-effect=\"non-scaling-stroke\" x=\"92\">Train: Moving Average Loss</text></g></g></g></g></g></svg>"
      ]
     },
     "metadata": {},
     "output_type": "display_data"
    },
    {
     "name": "stdout",
     "output_type": "stream",
     "text": [
      "Training (10000 steps):  100% [\u001b[32m=\u001b[0m\u001b[32m=\u001b[0m\u001b[32m=\u001b[0m\u001b[32m=\u001b[0m\u001b[32m=\u001b[0m\u001b[32m=\u001b[0m\u001b[32m=\u001b[0m\u001b[32m=\u001b[0m\u001b[32m=\u001b[0m\u001b[32m=\u001b[0m\u001b[32m=\u001b[0m\u001b[32m=\u001b[0m\u001b[32m=\u001b[0m\u001b[32m=\u001b[0m\u001b[32m=\u001b[0m\u001b[32m=\u001b[0m\u001b[32m=\u001b[0m\u001b[32m=\u001b[0m\u001b[32m=\u001b[0m\u001b[32m=\u001b[0m\u001b[32m=\u001b[0m\u001b[32m=\u001b[0m\u001b[32m=\u001b[0m\u001b[32m=\u001b[0m\u001b[32m=\u001b[0m\u001b[32m=\u001b[0m\u001b[32m=\u001b[0m\u001b[32m=\u001b[0m\u001b[32m=\u001b[0m\u001b[32m=\u001b[0m\u001b[32m=\u001b[0m\u001b[32m=\u001b[0m\u001b[32m=\u001b[0m\u001b[32m=\u001b[0m\u001b[32m=\u001b[0m\u001b[32m=\u001b[0m\u001b[32m=\u001b[0m\u001b[32m=\u001b[0m\u001b[32m=\u001b[0m\u001b[32m=\u001b[0m] (502 steps/s)\u001b[0m [loss=1.196] [~loss=1.406] [~acc=50.68%]        \n",
      "\n",
      "[saving checkpoint@10000] [median train step (ms): 1]\n",
      "\t[Step 10000] median train step: 1340 microseconds\n",
      "\n",
      "Results on Training:\n",
      "\tMean Loss (#loss): 1.369\n",
      "\tMean Accuracy (#acc): 51.54%\n",
      "Results on Validation:\n",
      "\tMean Loss (#loss): 1.446\n",
      "\tMean Accuracy (#acc): 48.67%\n",
      "\n"
     ]
    }
   ],
   "source": [
    "%% --model=fnn --steps=10000 --norm=layer --checkpoint=base_fnn_model\n",
    "trainModel()"
   ]
  },
  {
   "cell_type": "markdown",
   "id": "942fdb36-4fbe-4ccf-9958-c8b67b036ada",
   "metadata": {},
   "source": [
    "### CNN model for Cifar-10\n",
    "\n",
    "Let's now properly define our CNN model to compare:"
   ]
  },
  {
   "cell_type": "code",
   "execution_count": 9,
   "id": "e27dc442-c3aa-4ec5-98e9-e5321b474785",
   "metadata": {
    "tags": []
   },
   "outputs": [
    {
     "name": "stdout",
     "output_type": "stream",
     "text": [
      "Logits shape for batch_size=50: (Float32)[50 10]\n"
     ]
    }
   ],
   "source": [
    "import (\n",
    "    . \"github.com/gomlx/gomlx/graph\"\n",
    "    \"github.com/gomlx/gomlx/examples/cifar\"\n",
    "    \"github.com/gomlx/gomlx/ml/context\"\n",
    "    \"github.com/gomlx/gomlx/types/shapes\"\n",
    ")\n",
    "\n",
    "func CNNModelGraph(ctx *context.Context, spec any, inputs []*Node) []*Node {\n",
    "    g := inputs[0].Graph()\n",
    "    batchedImages := inputs[0]\n",
    "    batchSize := batchedImages.Shape().Dimensions[0]\n",
    "    logits := batchedImages\n",
    "    {\n",
    "        ctx := ctx.In(\"conv_0\")\n",
    "        logits = layers.Convolution(ctx, logits).Filters(32).KernelSize(3).Done()\n",
    "        logits = normalizeImage(ctx, logits)\n",
    "        logits = layers.Relu(logits)\n",
    "        logits = MaxPool(logits).Window(2).Done()\n",
    "    }\n",
    "    {\n",
    "        ctx := ctx.In(\"conv_1\")\n",
    "        logits = layers.Convolution(ctx, logits).Filters(64).KernelSize(3).Done()\n",
    "        logits = normalizeImage(ctx, logits)\n",
    "        logits = layers.Relu(logits)\n",
    "        logits = MaxPool(logits).Window(2).Done()\n",
    "    }\n",
    "    {\n",
    "        ctx := ctx.In(\"conv_2\")\n",
    "        logits = layers.Convolution(ctx, logits).Filters(64).KernelSize(3).Done()\n",
    "        logits = normalizeImage(ctx, logits)\n",
    "        logits = Reshape(logits, batchSize, -1)\n",
    "        logits = layers.Relu(logits)\n",
    "    }\n",
    "    {\n",
    "        ctx := ctx.In(\"dense_0\")\n",
    "        logits = layers.DenseWithBias(ctx, logits, *flagNumNodes)\n",
    "        logits = normalizeFeatures(ctx, logits)\n",
    "    }\n",
    "    for ii := 1; ii < *flagNumHiddenLayers; ii++ {\n",
    "        ctx := ctx.In(fmt.Sprintf(\"dense_%d\", ii))\n",
    "        // Add layer with residual connection.\n",
    "        tmp := layers.Relu(logits)\n",
    "        if *flagDropoutRate > 0 {\n",
    "            tmp = layers.Dropout(ctx, tmp, Const(g, shapes.CastAsDType(*flagDropoutRate, tmp.DType())))\n",
    "        }\n",
    "        tmp = layers.DenseWithBias(ctx, tmp, *flagNumNodes)\n",
    "        tmp = normalizeFeatures(ctx, tmp)\n",
    "        logits = Add(logits, tmp)\n",
    "    }\n",
    "    logits = layers.Relu(logits)\n",
    "    logits = layers.DenseWithBias(ctx.In(\"denseFinal\"), logits, len(cifar.C10Labels))\n",
    "    return []*Node{logits}\n",
    "}\n",
    "\n",
    "%%\n",
    "// Let's test that the logits are coming out with the right shape: we want [batch_size, 10], since there are 10 classes.\n",
    "AssertDownloaded()\n",
    "g := manager.NewGraph(\"test\")\n",
    "ctx := context.NewContext(manager)\n",
    "logits := CNNModelGraph(ctx, nil, []*Node{g.Parameter(\"images\", shapes.Make(DType, *flagBatchSize, cifar.Height, cifar.Width, cifar.Depth))})\n",
    "fmt.Printf(\"Logits shape for batch_size=%d: %s\\n\", *flagBatchSize, logits[0].Shape())\n"
   ]
  },
  {
   "cell_type": "markdown",
   "id": "6e3b2b04-8ca7-49d6-921d-3527c9169da9",
   "metadata": {},
   "source": [
    "### Training the CNN model\n",
    "\n",
    "CNNs have a much better inductive bias for machine learning on images, and it can easily achieve > 80% accuracy in training data, but only > 65% on test data, due to overfitting.\n",
    "\n",
    "Likely it would benefit from pre-training the model on a larger unlabeled datasets."
   ]
  },
  {
   "cell_type": "code",
   "execution_count": 10,
   "id": "b2739281-6e70-4bd4-90e5-ed493678b8ce",
   "metadata": {
    "tags": []
   },
   "outputs": [
    {
     "name": "stdout",
     "output_type": "stream",
     "text": [
      "Platform: CUDA\n",
      "Checkpointing model to \"/home/janpf/work/cifar/base_cnn_model\"\n"
     ]
    },
    {
     "data": {
      "text/html": [
       "<svg preserveAspectRatio=\"xMidYMid meet\" xmlns=\"http://www.w3.org/2000/svg\" width=\"1024\" height=\"454\" viewbox=\"0 0 1024 400\" style=\"background-color:#f8f8f8\"><defs><marker markerHeight=\"2%\" id=\"circle\" viewBox=\"0 0 10 10 \" refX=\"5\" refY=\"5\" markerUnits=\"userSpaceOnUse\" markerWidth=\"2%\"><circle r=\"3\" fill=\"none\" stroke=\"black\" cx=\"5\" cy=\"5\"/></marker><marker refY=\"5\" markerUnits=\"userSpaceOnUse\" markerWidth=\"2%\" markerHeight=\"2%\" id=\"filled-circle\" viewBox=\"0 0 10 10 \" refX=\"5\"><circle fill=\"black\" stroke=\"none\" cx=\"5\" cy=\"5\" r=\"3\"/></marker><marker refX=\"5\" refY=\"5\" markerUnits=\"userSpaceOnUse\" markerWidth=\"2%\" markerHeight=\"2%\" id=\"square\" viewBox=\"0 0 10 10 \"><rect x=\"2\" y=\"2\" width=\"6\" height=\"6\" fill=\"none\" stroke=\"black\"/></marker><marker markerHeight=\"2%\" id=\"filled-square\" viewBox=\"0 0 10 10 \" refX=\"5\" refY=\"5\" markerUnits=\"userSpaceOnUse\" markerWidth=\"2%\"><rect width=\"6\" height=\"6\" fill=\"black\" stroke=\"none\" x=\"2\" y=\"2\"/></marker></defs><g stroke-linejoin=\"round\" stroke=\"hsl(90, 47%, 65%)\" stroke-linecap=\"round\" transform=\"translate(70 330 )scale(1 -1 )\" fill=\"none\" marker-start=\"url(#square)\" marker-mid=\"url(#square)\" marker-end=\"url(#square)\" stroke-width=\"2px\"><path vector-effect=\"non-scaling-stroke\" d=\"M1.768000e+01,6.539115e+01 L1.365173e+02,9.935664e+01 L2.093971e+02,1.291401e+02 L2.634977e+02,1.451035e+02 L3.073165e+02,1.492663e+02 L3.448334e+02,1.579654e+02 L3.779355e+02,1.715077e+02 L4.078967e+02,1.772601e+02 L4.355033e+02,1.844733e+02 L4.612687e+02,1.937151e+02 L4.855427e+02,1.917950e+02 L5.085726e+02,1.802391e+02 L5.306039e+02,2.051149e+02 L5.518045e+02,2.140901e+02 L5.722912e+02,2.107496e+02 L5.921466e+02,2.196381e+02 L6.114698e+02,2.220451e+02 L6.303266e+02,2.282559e+02 L6.487916e+02,2.272505e+02 L6.669114e+02,2.361829e+02 L6.847383e+02,2.342127e+02 L7.023018e+02,2.273541e+02 L7.196363e+02,2.383648e+02 L7.367580e+02,2.296788e+02 L7.536877e+02,2.356678e+02 L7.704470e+02,2.434115e+02 L7.870558e+02,2.446886e+02 L8.035318e+02,2.398682e+02 L8.198887e+02,2.480425e+02 L8.361372e+02,2.542014e+02 L8.522929e+02,2.548000e+02 L8.663200e+02,2.450116e+02 \"/></g><g stroke-linejoin=\"round\" marker-start=\"url(#square)\" marker-end=\"url(#square)\" stroke-width=\"2px\" transform=\"translate(70 330 )scale(1 -1 )\" marker-mid=\"url(#square)\" fill=\"none\" stroke=\"hsl(301, 88%, 65%)\" stroke-linecap=\"round\"><path vector-effect=\"non-scaling-stroke\" d=\"M1.768000e+01,6.142140e+01 L1.365173e+02,9.567221e+01 L2.093971e+02,1.247934e+02 L2.634977e+02,1.402497e+02 L3.073165e+02,1.445081e+02 L3.448334e+02,1.541706e+02 L3.779355e+02,1.675110e+02 L4.078967e+02,1.739388e+02 L4.355033e+02,1.789813e+02 L4.612687e+02,1.888177e+02 L4.855427e+02,1.864710e+02 L5.085726e+02,1.735199e+02 L5.306039e+02,1.978671e+02 L5.518045e+02,2.042654e+02 L5.722912e+02,1.991494e+02 L5.921466e+02,2.086031e+02 L6.114698e+02,2.092850e+02 L6.303266e+02,2.138304e+02 L6.487916e+02,2.127566e+02 L6.669114e+02,2.197908e+02 L6.847383e+02,2.168115e+02 L7.023018e+02,2.086820e+02 L7.196363e+02,2.209437e+02 L7.367580e+02,2.095465e+02 L7.536877e+02,2.168867e+02 L7.704470e+02,2.228400e+02 L7.870558e+02,2.225254e+02 L8.035318e+02,2.164103e+02 L8.198887e+02,2.230333e+02 L8.361372e+02,2.275612e+02 L8.522929e+02,2.258594e+02 L8.663200e+02,2.187787e+02 \"/></g><g stroke-linejoin=\"round\" marker-start=\"url(#square)\" marker-mid=\"url(#square)\" transform=\"translate(70 330 )scale(1 -1 )\" stroke-linecap=\"round\" marker-end=\"url(#square)\" fill=\"none\" stroke=\"hsl(152, 76%, 65%)\" stroke-width=\"2px\"><path vector-effect=\"non-scaling-stroke\" d=\"M1.768000e+01,5.200000e+00 L1.365173e+02,6.858698e+01 L2.093971e+02,1.057746e+02 L2.634977e+02,1.253988e+02 L3.073165e+02,1.401471e+02 L3.448334e+02,1.531416e+02 L3.779355e+02,1.602232e+02 L4.078967e+02,1.731757e+02 L4.355033e+02,1.806304e+02 L4.612687e+02,1.840676e+02 L4.855427e+02,1.878693e+02 L5.085726e+02,2.004443e+02 L5.306039e+02,2.026816e+02 L5.518045e+02,2.058849e+02 L5.722912e+02,2.129175e+02 L5.921466e+02,2.137944e+02 L6.114698e+02,2.187884e+02 L6.303266e+02,2.215603e+02 L6.487916e+02,2.272393e+02 L6.669114e+02,2.284743e+02 L6.847383e+02,2.319300e+02 L7.023018e+02,2.352290e+02 L7.196363e+02,2.336688e+02 L7.367580e+02,2.357520e+02 L7.536877e+02,2.384456e+02 L7.704470e+02,2.397074e+02 L7.870558e+02,2.447757e+02 L8.035318e+02,2.450876e+02 L8.198887e+02,2.450898e+02 L8.361372e+02,2.496652e+02 L8.522929e+02,2.528122e+02 L8.663200e+02,2.499298e+02 \"/></g><g transform=\"translate(70 330 )scale(1 -1 )\" fill=\"none\" stroke=\"black\" stroke-width=\"2px\" stroke-linecap=\"round\" stroke-linejoin=\"round\"><path vector-effect=\"non-scaling-stroke\" d=\"M1.768000e+01,0 L1.768000e+01,-6 M1.287025e+02,0 L1.287025e+02,-6 M1.936465e+02,0 L1.936465e+02,-6 M2.397250e+02,0 L2.397250e+02,-6 M2.754663e+02,0 L2.754663e+02,-6 M3.046690e+02,0 L3.046690e+02,-6 M3.293596e+02,0 L3.293596e+02,-6 M3.507475e+02,0 L3.507475e+02,-6 M3.696130e+02,0 L3.696130e+02,-6 M3.864888e+02,0 L3.864888e+02,-6 M4.017547e+02,0 L4.017547e+02,-6 M4.975112e+02,0 L4.975112e+02,-6 M5.624552e+02,0 L5.624552e+02,-6 M6.085337e+02,0 L6.085337e+02,-6 M6.442750e+02,0 L6.442750e+02,-6 M6.734777e+02,0 L6.734777e+02,-6 M6.981683e+02,0 L6.981683e+02,-6 M7.195562e+02,0 L7.195562e+02,-6 M7.384217e+02,0 L7.384217e+02,-6 M7.552975e+02,0 L7.552975e+02,-6 M8.663200e+02,0 L8.663200e+02,-6 \"/></g><g font-weight=\"normal\" stroke-linejoin=\"round\" font-size=\"12px\" stroke=\"black\" stroke-width=\"2px\" font-style=\"normal\" dominant-baseline=\"hanging\" font-family=\"sans-serif\" text-anchor=\"middle\" fill=\"black\" stroke-linecap=\"round\" transform=\"translate(70 330 )scale(1 1 )\"><text dominant-baseline=\"hanging\" stroke=\"none\" vector-effect=\"non-scaling-stroke\" x=\"1.768000e+01\" y=\"10\">100</text><text y=\"10\" dominant-baseline=\"hanging\" stroke=\"none\" vector-effect=\"non-scaling-stroke\" x=\"1.287025e+02\">200</text><text dominant-baseline=\"hanging\" stroke=\"none\" vector-effect=\"non-scaling-stroke\" x=\"1.936465e+02\" y=\"10\">300</text><text y=\"10\" dominant-baseline=\"hanging\" stroke=\"none\" vector-effect=\"non-scaling-stroke\" x=\"2.397250e+02\">400</text><text dominant-baseline=\"hanging\" stroke=\"none\" vector-effect=\"non-scaling-stroke\" x=\"2.754663e+02\" y=\"10\">500</text><text dominant-baseline=\"hanging\" stroke=\"none\" vector-effect=\"non-scaling-stroke\" x=\"3.046690e+02\" y=\"10\">600</text><text x=\"3.293596e+02\" y=\"10\" dominant-baseline=\"hanging\" stroke=\"none\" vector-effect=\"non-scaling-stroke\">700</text><text stroke=\"none\" vector-effect=\"non-scaling-stroke\" x=\"3.507475e+02\" y=\"10\" dominant-baseline=\"hanging\">800</text><text y=\"10\" dominant-baseline=\"hanging\" stroke=\"none\" vector-effect=\"non-scaling-stroke\" x=\"3.696130e+02\">900</text><text y=\"10\" dominant-baseline=\"hanging\" stroke=\"none\" vector-effect=\"non-scaling-stroke\" x=\"3.864888e+02\">1000</text><text vector-effect=\"non-scaling-stroke\" x=\"4.017547e+02\" y=\"10\" dominant-baseline=\"hanging\" stroke=\"none\">1100</text><text x=\"4.975112e+02\" y=\"10\" dominant-baseline=\"hanging\" stroke=\"none\" vector-effect=\"non-scaling-stroke\">2000</text><text y=\"10\" dominant-baseline=\"hanging\" stroke=\"none\" vector-effect=\"non-scaling-stroke\" x=\"5.624552e+02\">3000</text><text y=\"10\" dominant-baseline=\"hanging\" stroke=\"none\" vector-effect=\"non-scaling-stroke\" x=\"6.085337e+02\">4000</text><text x=\"6.442750e+02\" y=\"10\" dominant-baseline=\"hanging\" stroke=\"none\" vector-effect=\"non-scaling-stroke\">5000</text><text vector-effect=\"non-scaling-stroke\" x=\"6.734777e+02\" y=\"10\" dominant-baseline=\"hanging\" stroke=\"none\">6000</text><text x=\"6.981683e+02\" y=\"10\" dominant-baseline=\"hanging\" stroke=\"none\" vector-effect=\"non-scaling-stroke\">7000</text><text stroke=\"none\" vector-effect=\"non-scaling-stroke\" x=\"7.195562e+02\" y=\"10\" dominant-baseline=\"hanging\">8000</text><text vector-effect=\"non-scaling-stroke\" x=\"7.384217e+02\" y=\"10\" dominant-baseline=\"hanging\" stroke=\"none\">9000</text><text stroke=\"none\" vector-effect=\"non-scaling-stroke\" x=\"7.552975e+02\" y=\"10\" dominant-baseline=\"hanging\">10000</text><text y=\"10\" dominant-baseline=\"hanging\" stroke=\"none\" vector-effect=\"non-scaling-stroke\" x=\"8.663200e+02\">20000</text></g><g fill=\"black\" stroke=\"black\" stroke-width=\"2px\" dominant-baseline=\"baseline\" stroke-linejoin=\"round\" transform=\"translate(70 330 )scale(1 1 )rotate(0 0 0 )\" text-anchor=\"middle\" font-weight=\"bold\" font-family=\"sans-serif\" font-size=\"12px\" stroke-linecap=\"round\" font-style=\"normal\"><text y=\"-6\" dominant-baseline=\"baseline\" stroke=\"none\" vector-effect=\"non-scaling-stroke\" x=\"442\">Steps</text></g><g dominant-baseline=\"baseline\" stroke-linejoin=\"round\" font-family=\"sans-serif\" font-weight=\"bold\" fill=\"black\" transform=\"translate(70 330 )scale(1 -1 )\" font-style=\"normal\" font-size=\"12px\" text-anchor=\"middle\" stroke=\"black\" stroke-width=\"2px\" stroke-linecap=\"round\"><path vector-effect=\"non-scaling-stroke\" d=\"M0,7.057569e+00 L-6,7.057569e+00 M0,7.635441e+01 L-6,7.635441e+01 M0,1.255213e+02 L-6,1.255213e+02 M0,1.636581e+02 L-6,1.636581e+02 M0,1.948181e+02 L-6,1.948181e+02 M0,2.211636e+02 L-6,2.211636e+02 M0,2.439850e+02 L-6,2.439850e+02 \"/></g><g text-anchor=\"end\" stroke=\"black\" stroke-width=\"2px\" stroke-linecap=\"round\" font-style=\"normal\" font-weight=\"normal\" font-family=\"sans-serif\" font-size=\"12px\" fill=\"black\" transform=\"translate(70 330 )scale(1 1 )\" dominant-baseline=\"middle\" stroke-linejoin=\"round\"><text stroke=\"none\" vector-effect=\"non-scaling-stroke\" x=\"-10\" y=\"-7.057569e+00\" dominant-baseline=\"middle\">0.200</text><text x=\"-10\" y=\"-7.635441e+01\" dominant-baseline=\"middle\" stroke=\"none\" vector-effect=\"non-scaling-stroke\">0.300</text><text stroke=\"none\" vector-effect=\"non-scaling-stroke\" x=\"-10\" y=\"-1.255213e+02\" dominant-baseline=\"middle\">0.400</text><text x=\"-10\" y=\"-1.636581e+02\" dominant-baseline=\"middle\" stroke=\"none\" vector-effect=\"non-scaling-stroke\">0.500</text><text stroke=\"none\" vector-effect=\"non-scaling-stroke\" x=\"-10\" y=\"-1.948181e+02\" dominant-baseline=\"middle\">0.600</text><text stroke=\"none\" vector-effect=\"non-scaling-stroke\" x=\"-10\" y=\"-2.211636e+02\" dominant-baseline=\"middle\">0.700</text><text stroke=\"none\" vector-effect=\"non-scaling-stroke\" x=\"-10\" y=\"-2.439850e+02\" dominant-baseline=\"middle\">0.800</text></g><g stroke-linecap=\"round\" font-size=\"12px\" font-style=\"normal\" font-weight=\"bold\" text-anchor=\"middle\" fill=\"black\" stroke-width=\"2px\" transform=\"translate(70 330 )scale(1 1 )rotate(-90 0 0 )\" stroke=\"black\" dominant-baseline=\"hanging\" stroke-linejoin=\"round\" font-family=\"sans-serif\"><text stroke=\"none\" vector-effect=\"non-scaling-stroke\" x=\"130\" y=\"6\" dominant-baseline=\"hanging\">accuracy</text></g><g font-family=\"sans-serif\" font-weight=\"bold\" stroke=\"gray\" stroke-linecap=\"round\" dominant-baseline=\"hanging\" stroke-linejoin=\"round\" font-size=\"12px\" font-style=\"normal\" text-anchor=\"middle\" fill=\"black\" stroke-width=\"0.5px\" transform=\"translate(70 330 )scale(1 -1 )\"><path d=\"M0,7.057569e+00 L884,7.057569e+00 M0,7.635441e+01 L884,7.635441e+01 M0,1.255213e+02 L884,1.255213e+02 M0,1.636581e+02 L884,1.636581e+02 M0,1.948181e+02 L884,1.948181e+02 M0,2.211636e+02 L884,2.211636e+02 M0,2.439850e+02 L884,2.439850e+02 \" vector-effect=\"non-scaling-stroke\"/></g><g font-family=\"sans-serif\" text-anchor=\"middle\" stroke=\"black\" font-weight=\"bold\" stroke-linecap=\"round\" font-style=\"normal\" dominant-baseline=\"hanging\" stroke-linejoin=\"round\" font-size=\"12px\" fill=\"none\" stroke-width=\"2px\"><rect vector-effect=\"non-scaling-stroke\" x=\"70\" y=\"70\" width=\"884\" height=\"260\"/><g fill=\"black\" dominant-baseline=\"middle\" font-size=\"18px\"><text y=\"35\" dominant-baseline=\"middle\" stroke=\"none\" vector-effect=\"non-scaling-stroke\" x=\"512\">accuracy metrics</text></g><g stroke=\"hsl(90, 47%, 65%)\" stroke-width=\"1px\" stroke-linecap=\"round\" dominant-baseline=\"hanging\" font-family=\"sans-serif\" font-size=\"12px\" font-weight=\"normal\" font-style=\"normal\" stroke-linejoin=\"round\" text-anchor=\"start\" fill=\"hsl(90, 47%, 65%)\"><rect y=\"366\" width=\"12\" height=\"12\" vector-effect=\"non-scaling-stroke\" x=\"76\"/><g fill=\"black\" stroke=\"black\"><text stroke=\"none\" vector-effect=\"non-scaling-stroke\" x=\"92\" y=\"366\" dominant-baseline=\"hanging\">Eval on Training: Mean Accuracy</text></g><g stroke-linejoin=\"round\" font-size=\"12px\" fill=\"hsl(301, 88%, 65%)\" dominant-baseline=\"hanging\" stroke-linecap=\"round\" font-family=\"sans-serif\" font-style=\"normal\" font-weight=\"normal\" text-anchor=\"start\" stroke=\"hsl(301, 88%, 65%)\" stroke-width=\"1px\"><rect vector-effect=\"non-scaling-stroke\" x=\"76\" y=\"384\" width=\"12\" height=\"12\"/><g stroke=\"black\" fill=\"black\"><text stroke=\"none\" vector-effect=\"non-scaling-stroke\" x=\"92\" y=\"384\" dominant-baseline=\"hanging\">Eval on Validation: Mean Accuracy</text></g><g font-size=\"12px\" font-weight=\"normal\" text-anchor=\"start\" dominant-baseline=\"hanging\" stroke-linejoin=\"round\" font-family=\"sans-serif\" stroke-width=\"1px\" stroke-linecap=\"round\" font-style=\"normal\" fill=\"hsl(152, 76%, 65%)\" stroke=\"hsl(152, 76%, 65%)\"><rect vector-effect=\"non-scaling-stroke\" x=\"76\" y=\"402\" width=\"12\" height=\"12\"/><g fill=\"black\" stroke=\"black\"><text stroke=\"none\" vector-effect=\"non-scaling-stroke\" x=\"92\" y=\"402\" dominant-baseline=\"hanging\">Train: Moving Average Accuracy</text></g></g></g></g></g></svg>\n",
       "<svg width=\"1024\" height=\"454\" viewbox=\"0 0 1024 400\" style=\"background-color:#f8f8f8\" preserveAspectRatio=\"xMidYMid meet\" xmlns=\"http://www.w3.org/2000/svg\"><defs><marker markerUnits=\"userSpaceOnUse\" markerWidth=\"2%\" markerHeight=\"2%\" id=\"circle\" viewBox=\"0 0 10 10 \" refX=\"5\" refY=\"5\"><circle cx=\"5\" cy=\"5\" r=\"3\" fill=\"none\" stroke=\"black\"/></marker><marker markerHeight=\"2%\" id=\"filled-circle\" viewBox=\"0 0 10 10 \" refX=\"5\" refY=\"5\" markerUnits=\"userSpaceOnUse\" markerWidth=\"2%\"><circle fill=\"black\" stroke=\"none\" cx=\"5\" cy=\"5\" r=\"3\"/></marker><marker markerHeight=\"2%\" id=\"square\" viewBox=\"0 0 10 10 \" refX=\"5\" refY=\"5\" markerUnits=\"userSpaceOnUse\" markerWidth=\"2%\"><rect stroke=\"black\" x=\"2\" y=\"2\" width=\"6\" height=\"6\" fill=\"none\"/></marker><marker viewBox=\"0 0 10 10 \" refX=\"5\" refY=\"5\" markerUnits=\"userSpaceOnUse\" markerWidth=\"2%\" markerHeight=\"2%\" id=\"filled-square\"><rect x=\"2\" y=\"2\" width=\"6\" height=\"6\" fill=\"black\" stroke=\"none\"/></marker></defs><g marker-end=\"url(#square)\" stroke-linejoin=\"round\" stroke-linecap=\"round\" transform=\"translate(70 330 )scale(1 -1 )\" fill=\"none\" stroke-width=\"2px\" stroke=\"hsl(90, 47%, 65%)\" marker-start=\"url(#square)\" marker-mid=\"url(#square)\"><path vector-effect=\"non-scaling-stroke\" d=\"M1.768000e+01,2.510431e+02 L1.365173e+02,2.447459e+02 L2.093971e+02,2.377499e+02 L2.634977e+02,2.309131e+02 L3.073165e+02,2.241611e+02 L3.448334e+02,2.165327e+02 L3.779355e+02,2.086742e+02 L4.078967e+02,2.006184e+02 L4.355033e+02,1.923985e+02 L4.612687e+02,1.836081e+02 L4.855427e+02,1.761831e+02 L5.085726e+02,1.706295e+02 L5.306039e+02,1.588316e+02 L5.518045e+02,1.491753e+02 L5.722912e+02,1.415771e+02 L5.921466e+02,1.314100e+02 L6.114698e+02,1.223025e+02 L6.303266e+02,1.119511e+02 L6.487916e+02,1.025770e+02 L6.669114e+02,9.043479e+01 L6.847383e+02,8.117823e+01 L7.023018e+02,7.510098e+01 L7.196363e+02,6.072870e+01 L7.367580e+02,5.608977e+01 L7.536877e+02,4.613994e+01 L7.704470e+02,3.460282e+01 L7.870558e+02,2.913206e+01 L8.035318e+02,2.716720e+01 L8.198887e+02,1.676626e+01 L8.361372e+02,8.708148e+00 L8.522929e+02,5.200000e+00 L8.663200e+02,1.016796e+01 \"/></g><g marker-end=\"url(#square)\" stroke-linejoin=\"round\" marker-start=\"url(#square)\" fill=\"none\" stroke-width=\"2px\" stroke=\"hsl(301, 88%, 65%)\" stroke-linecap=\"round\" marker-mid=\"url(#square)\" transform=\"translate(70 330 )scale(1 -1 )\"><path d=\"M1.768000e+01,2.511347e+02 L1.365173e+02,2.448041e+02 L2.093971e+02,2.378224e+02 L2.634977e+02,2.310542e+02 L3.073165e+02,2.242950e+02 L3.448334e+02,2.167539e+02 L3.779355e+02,2.089988e+02 L4.078967e+02,2.010717e+02 L4.355033e+02,1.929831e+02 L4.612687e+02,1.843039e+02 L4.855427e+02,1.770140e+02 L5.085726e+02,1.716950e+02 L5.306039e+02,1.601906e+02 L5.518045e+02,1.509626e+02 L5.722912e+02,1.438219e+02 L5.921466e+02,1.341419e+02 L6.114698e+02,1.256213e+02 L6.303266e+02,1.162455e+02 L6.487916e+02,1.075937e+02 L6.669114e+02,9.654074e+01 L6.847383e+02,8.823698e+01 L7.023018e+02,8.321504e+01 L7.196363e+02,6.981277e+01 L7.367580e+02,6.619275e+01 L7.536877e+02,5.737485e+01 L7.704470e+02,4.749523e+01 L7.870558e+02,4.431287e+01 L8.035318e+02,4.391763e+01 L8.198887e+02,3.577239e+01 L8.361372e+02,2.990761e+01 L8.522929e+02,2.906770e+01 L8.663200e+02,3.406117e+01 \" vector-effect=\"non-scaling-stroke\"/></g><g marker-end=\"url(#square)\" fill=\"none\" marker-start=\"url(#square)\" stroke-linejoin=\"round\" transform=\"translate(70 330 )scale(1 -1 )\" stroke=\"hsl(152, 76%, 65%)\" stroke-width=\"2px\" stroke-linecap=\"round\" marker-mid=\"url(#square)\"><path vector-effect=\"non-scaling-stroke\" d=\"M1.768000e+01,2.548000e+02 L1.365173e+02,2.496395e+02 L2.093971e+02,2.432807e+02 L2.634977e+02,2.362842e+02 L3.073165e+02,2.289425e+02 L3.448334e+02,2.211652e+02 L3.779355e+02,2.133494e+02 L4.078967e+02,2.046175e+02 L4.355033e+02,1.962150e+02 L4.612687e+02,1.879770e+02 L4.855427e+02,1.795334e+02 L5.085726e+02,1.699776e+02 L5.306039e+02,1.615395e+02 L5.518045e+02,1.533362e+02 L5.722912e+02,1.431586e+02 L5.921466e+02,1.343303e+02 L6.114698e+02,1.245018e+02 L6.303266e+02,1.152946e+02 L6.487916e+02,1.043562e+02 L6.669114e+02,9.442286e+01 L6.847383e+02,8.368393e+01 L7.023018e+02,7.267317e+01 L7.196363e+02,6.439800e+01 L7.367580e+02,5.454307e+01 L7.536877e+02,4.605522e+01 L7.704470e+02,3.856854e+01 L7.870558e+02,2.892382e+01 L8.035318e+02,2.475133e+01 L8.198887e+02,2.030392e+01 L8.361372e+02,1.341457e+01 L8.522929e+02,6.630620e+00 L8.663200e+02,7.376788e+00 \"/></g><g stroke-linejoin=\"round\" stroke-linecap=\"round\" transform=\"translate(70 330 )scale(1 -1 )\" fill=\"none\" stroke-width=\"2px\" stroke=\"black\"><path d=\"M1.768000e+01,0 L1.768000e+01,-6 M1.287025e+02,0 L1.287025e+02,-6 M1.936465e+02,0 L1.936465e+02,-6 M2.397250e+02,0 L2.397250e+02,-6 M2.754663e+02,0 L2.754663e+02,-6 M3.046690e+02,0 L3.046690e+02,-6 M3.293596e+02,0 L3.293596e+02,-6 M3.507475e+02,0 L3.507475e+02,-6 M3.696130e+02,0 L3.696130e+02,-6 M3.864888e+02,0 L3.864888e+02,-6 M4.017547e+02,0 L4.017547e+02,-6 M4.975112e+02,0 L4.975112e+02,-6 M5.624552e+02,0 L5.624552e+02,-6 M6.085337e+02,0 L6.085337e+02,-6 M6.442750e+02,0 L6.442750e+02,-6 M6.734777e+02,0 L6.734777e+02,-6 M6.981683e+02,0 L6.981683e+02,-6 M7.195562e+02,0 L7.195562e+02,-6 M7.384217e+02,0 L7.384217e+02,-6 M7.552975e+02,0 L7.552975e+02,-6 M8.663200e+02,0 L8.663200e+02,-6 \" vector-effect=\"non-scaling-stroke\"/></g><g font-family=\"sans-serif\" font-weight=\"normal\" dominant-baseline=\"hanging\" fill=\"black\" stroke-linecap=\"round\" transform=\"translate(70 330 )scale(1 1 )\" font-style=\"normal\" text-anchor=\"middle\" stroke=\"black\" stroke-linejoin=\"round\" font-size=\"12px\" stroke-width=\"2px\"><text y=\"10\" dominant-baseline=\"hanging\" stroke=\"none\" vector-effect=\"non-scaling-stroke\" x=\"1.768000e+01\">100</text><text vector-effect=\"non-scaling-stroke\" x=\"1.287025e+02\" y=\"10\" dominant-baseline=\"hanging\" stroke=\"none\">200</text><text x=\"1.936465e+02\" y=\"10\" dominant-baseline=\"hanging\" stroke=\"none\" vector-effect=\"non-scaling-stroke\">300</text><text vector-effect=\"non-scaling-stroke\" x=\"2.397250e+02\" y=\"10\" dominant-baseline=\"hanging\" stroke=\"none\">400</text><text vector-effect=\"non-scaling-stroke\" x=\"2.754663e+02\" y=\"10\" dominant-baseline=\"hanging\" stroke=\"none\">500</text><text stroke=\"none\" vector-effect=\"non-scaling-stroke\" x=\"3.046690e+02\" y=\"10\" dominant-baseline=\"hanging\">600</text><text stroke=\"none\" vector-effect=\"non-scaling-stroke\" x=\"3.293596e+02\" y=\"10\" dominant-baseline=\"hanging\">700</text><text stroke=\"none\" vector-effect=\"non-scaling-stroke\" x=\"3.507475e+02\" y=\"10\" dominant-baseline=\"hanging\">800</text><text stroke=\"none\" vector-effect=\"non-scaling-stroke\" x=\"3.696130e+02\" y=\"10\" dominant-baseline=\"hanging\">900</text><text y=\"10\" dominant-baseline=\"hanging\" stroke=\"none\" vector-effect=\"non-scaling-stroke\" x=\"3.864888e+02\">1000</text><text y=\"10\" dominant-baseline=\"hanging\" stroke=\"none\" vector-effect=\"non-scaling-stroke\" x=\"4.017547e+02\">1100</text><text stroke=\"none\" vector-effect=\"non-scaling-stroke\" x=\"4.975112e+02\" y=\"10\" dominant-baseline=\"hanging\">2000</text><text x=\"5.624552e+02\" y=\"10\" dominant-baseline=\"hanging\" stroke=\"none\" vector-effect=\"non-scaling-stroke\">3000</text><text vector-effect=\"non-scaling-stroke\" x=\"6.085337e+02\" y=\"10\" dominant-baseline=\"hanging\" stroke=\"none\">4000</text><text y=\"10\" dominant-baseline=\"hanging\" stroke=\"none\" vector-effect=\"non-scaling-stroke\" x=\"6.442750e+02\">5000</text><text stroke=\"none\" vector-effect=\"non-scaling-stroke\" x=\"6.734777e+02\" y=\"10\" dominant-baseline=\"hanging\">6000</text><text x=\"6.981683e+02\" y=\"10\" dominant-baseline=\"hanging\" stroke=\"none\" vector-effect=\"non-scaling-stroke\">7000</text><text x=\"7.195562e+02\" y=\"10\" dominant-baseline=\"hanging\" stroke=\"none\" vector-effect=\"non-scaling-stroke\">8000</text><text x=\"7.384217e+02\" y=\"10\" dominant-baseline=\"hanging\" stroke=\"none\" vector-effect=\"non-scaling-stroke\">9000</text><text x=\"7.552975e+02\" y=\"10\" dominant-baseline=\"hanging\" stroke=\"none\" vector-effect=\"non-scaling-stroke\">10000</text><text stroke=\"none\" vector-effect=\"non-scaling-stroke\" x=\"8.663200e+02\" y=\"10\" dominant-baseline=\"hanging\">20000</text></g><g font-size=\"12px\" font-weight=\"bold\" stroke-width=\"2px\" stroke-linecap=\"round\" transform=\"translate(70 330 )scale(1 1 )rotate(0 0 0 )\" font-style=\"normal\" dominant-baseline=\"baseline\" stroke-linejoin=\"round\" font-family=\"sans-serif\" text-anchor=\"middle\" fill=\"black\" stroke=\"black\"><text stroke=\"none\" vector-effect=\"non-scaling-stroke\" x=\"442\" y=\"-6\" dominant-baseline=\"baseline\">Steps</text></g><g stroke=\"black\" stroke-linecap=\"round\" transform=\"translate(70 330 )scale(1 -1 )\" text-anchor=\"middle\" fill=\"black\" font-family=\"sans-serif\" font-weight=\"bold\" dominant-baseline=\"baseline\" font-style=\"normal\" stroke-width=\"2px\" font-size=\"12px\" stroke-linejoin=\"round\"><path vector-effect=\"non-scaling-stroke\" d=\"M0,5.683320e+01 L-6,5.683320e+01 M0,9.981518e+01 L-6,9.981518e+01 M0,1.303114e+02 L-6,1.303114e+02 M0,1.539661e+02 L-6,1.539661e+02 M0,1.732934e+02 L-6,1.732934e+02 M0,1.896344e+02 L-6,1.896344e+02 M0,2.037896e+02 L-6,2.037896e+02 M0,2.162754e+02 L-6,2.162754e+02 M0,2.274443e+02 L-6,2.274443e+02 \"/></g><g font-size=\"12px\" stroke-width=\"2px\" font-style=\"normal\" stroke=\"black\" stroke-linejoin=\"round\" font-family=\"sans-serif\" font-weight=\"normal\" dominant-baseline=\"middle\" fill=\"black\" stroke-linecap=\"round\" transform=\"translate(70 330 )scale(1 1 )\" text-anchor=\"end\"><text x=\"-10\" y=\"-5.683320e+01\" dominant-baseline=\"middle\" stroke=\"none\" vector-effect=\"non-scaling-stroke\">2.000</text><text dominant-baseline=\"middle\" stroke=\"none\" vector-effect=\"non-scaling-stroke\" x=\"-10\" y=\"-9.981518e+01\">3.000</text><text vector-effect=\"non-scaling-stroke\" x=\"-10\" y=\"-1.303114e+02\" dominant-baseline=\"middle\" stroke=\"none\">4.000</text><text vector-effect=\"non-scaling-stroke\" x=\"-10\" y=\"-1.539661e+02\" dominant-baseline=\"middle\" stroke=\"none\">5.000</text><text x=\"-10\" y=\"-1.732934e+02\" dominant-baseline=\"middle\" stroke=\"none\" vector-effect=\"non-scaling-stroke\">6.000</text><text x=\"-10\" y=\"-1.896344e+02\" dominant-baseline=\"middle\" stroke=\"none\" vector-effect=\"non-scaling-stroke\">7.000</text><text dominant-baseline=\"middle\" stroke=\"none\" vector-effect=\"non-scaling-stroke\" x=\"-10\" y=\"-2.037896e+02\">8.000</text><text y=\"-2.162754e+02\" dominant-baseline=\"middle\" stroke=\"none\" vector-effect=\"non-scaling-stroke\" x=\"-10\">9.000</text></g><g font-weight=\"bold\" dominant-baseline=\"hanging\" stroke=\"black\" stroke-width=\"2px\" stroke-linecap=\"round\" font-family=\"sans-serif\" font-size=\"12px\" transform=\"translate(70 330 )scale(1 1 )rotate(-90 0 0 )\" font-style=\"normal\" text-anchor=\"middle\" fill=\"black\" stroke-linejoin=\"round\"><text y=\"6\" dominant-baseline=\"hanging\" stroke=\"none\" vector-effect=\"non-scaling-stroke\" x=\"130\">loss</text></g><g font-family=\"sans-serif\" font-size=\"12px\" stroke-width=\"0.5px\" stroke-linecap=\"round\" transform=\"translate(70 330 )scale(1 -1 )\" text-anchor=\"middle\" stroke=\"gray\" font-weight=\"bold\" dominant-baseline=\"hanging\" fill=\"black\" font-style=\"normal\" stroke-linejoin=\"round\"><path d=\"M0,5.683320e+01 L884,5.683320e+01 M0,9.981518e+01 L884,9.981518e+01 M0,1.303114e+02 L884,1.303114e+02 M0,1.539661e+02 L884,1.539661e+02 M0,1.732934e+02 L884,1.732934e+02 M0,1.896344e+02 L884,1.896344e+02 M0,2.037896e+02 L884,2.037896e+02 M0,2.162754e+02 L884,2.162754e+02 M0,2.274443e+02 L884,2.274443e+02 \" vector-effect=\"non-scaling-stroke\"/></g><g font-weight=\"bold\" font-style=\"normal\" text-anchor=\"middle\" stroke-width=\"2px\" stroke=\"black\" stroke-linejoin=\"round\" font-family=\"sans-serif\" font-size=\"12px\" fill=\"none\" stroke-linecap=\"round\" dominant-baseline=\"hanging\"><rect y=\"70\" width=\"884\" height=\"260\" vector-effect=\"non-scaling-stroke\" x=\"70\"/><g dominant-baseline=\"middle\" fill=\"black\" font-size=\"18px\"><text stroke=\"none\" vector-effect=\"non-scaling-stroke\" x=\"512\" y=\"35\" dominant-baseline=\"middle\">loss metrics</text></g><g dominant-baseline=\"hanging\" stroke=\"hsl(90, 47%, 65%)\" stroke-linejoin=\"round\" font-family=\"sans-serif\" fill=\"hsl(90, 47%, 65%)\" stroke-linecap=\"round\" font-size=\"12px\" font-style=\"normal\" text-anchor=\"start\" stroke-width=\"1px\" font-weight=\"normal\"><rect x=\"76\" y=\"366\" width=\"12\" height=\"12\" vector-effect=\"non-scaling-stroke\"/><g fill=\"black\" stroke=\"black\"><text vector-effect=\"non-scaling-stroke\" x=\"92\" y=\"366\" dominant-baseline=\"hanging\" stroke=\"none\">Eval on Training: Mean Loss</text></g><g fill=\"hsl(301, 88%, 65%)\" stroke-linecap=\"round\" stroke=\"hsl(301, 88%, 65%)\" dominant-baseline=\"hanging\" font-size=\"12px\" font-weight=\"normal\" stroke-width=\"1px\" font-style=\"normal\" text-anchor=\"start\" stroke-linejoin=\"round\" font-family=\"sans-serif\"><rect y=\"384\" width=\"12\" height=\"12\" vector-effect=\"non-scaling-stroke\" x=\"76\"/><g stroke=\"black\" fill=\"black\"><text vector-effect=\"non-scaling-stroke\" x=\"92\" y=\"384\" dominant-baseline=\"hanging\" stroke=\"none\">Eval on Validation: Mean Loss</text></g><g fill=\"hsl(152, 76%, 65%)\" stroke-width=\"1px\" dominant-baseline=\"hanging\" stroke=\"hsl(152, 76%, 65%)\" stroke-linejoin=\"round\" font-family=\"sans-serif\" font-style=\"normal\" text-anchor=\"start\" stroke-linecap=\"round\" font-size=\"12px\" font-weight=\"normal\"><rect width=\"12\" height=\"12\" vector-effect=\"non-scaling-stroke\" x=\"76\" y=\"402\"/><g stroke=\"black\" fill=\"black\"><text x=\"92\" y=\"402\" dominant-baseline=\"hanging\" stroke=\"none\" vector-effect=\"non-scaling-stroke\">Train: Moving Average Loss</text></g></g></g></g></g></svg>"
      ]
     },
     "metadata": {},
     "output_type": "display_data"
    },
    {
     "name": "stdout",
     "output_type": "stream",
     "text": [
      "Training (20000 steps):  100% [\u001b[32m=\u001b[0m\u001b[32m=\u001b[0m\u001b[32m=\u001b[0m\u001b[32m=\u001b[0m\u001b[32m=\u001b[0m\u001b[32m=\u001b[0m\u001b[32m=\u001b[0m\u001b[32m=\u001b[0m\u001b[32m=\u001b[0m\u001b[32m=\u001b[0m\u001b[32m=\u001b[0m\u001b[32m=\u001b[0m\u001b[32m=\u001b[0m\u001b[32m=\u001b[0m\u001b[32m=\u001b[0m\u001b[32m=\u001b[0m\u001b[32m=\u001b[0m\u001b[32m=\u001b[0m\u001b[32m=\u001b[0m\u001b[32m=\u001b[0m\u001b[32m=\u001b[0m\u001b[32m=\u001b[0m\u001b[32m=\u001b[0m\u001b[32m=\u001b[0m\u001b[32m=\u001b[0m\u001b[32m=\u001b[0m\u001b[32m=\u001b[0m\u001b[32m=\u001b[0m\u001b[32m=\u001b[0m\u001b[32m=\u001b[0m\u001b[32m=\u001b[0m\u001b[32m=\u001b[0m\u001b[32m=\u001b[0m\u001b[32m=\u001b[0m\u001b[32m=\u001b[0m\u001b[32m=\u001b[0m\u001b[32m=\u001b[0m\u001b[32m=\u001b[0m\u001b[32m=\u001b[0m\u001b[32m=\u001b[0m] (440 steps/s)\u001b[0m [loss=1.343] [~loss=1.254] [~acc=82.83%]        \n",
      "\n",
      "[saving checkpoint@20000] [median train step (ms): 1]\n",
      "\t[Step 20000] median train step: 1524 microseconds\n",
      "\n",
      "Results on Training:\n",
      "\tMean Loss (#loss): 1.288\n",
      "\tMean Accuracy (#acc): 80.48%\n",
      "Results on Validation:\n",
      "\tMean Loss (#loss): 1.613\n",
      "\tMean Accuracy (#acc): 69.03%\n",
      "\n"
     ]
    }
   ],
   "source": [
    "%% --model=cnn --steps=20000 --batch=50 --hidden_layers=2 --l2_reg=0.01 --dropout=0.1 --norm=batch --checkpoint=base_cnn_model\n",
    "trainModel()"
   ]
  }
 ],
 "metadata": {
  "kernelspec": {
   "display_name": "Go (gonb)",
   "language": "go",
   "name": "gonb"
  },
  "language_info": {
   "codemirror_mode": "",
   "file_extension": ".go",
   "mimetype": "",
   "name": "go",
   "nbconvert_exporter": "",
   "pygments_lexer": "",
   "version": "go1.20.5"
  }
 },
 "nbformat": 4,
 "nbformat_minor": 5
}
