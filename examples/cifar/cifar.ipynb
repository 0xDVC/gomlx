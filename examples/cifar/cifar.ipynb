{
 "cells": [
  {
   "cell_type": "markdown",
   "id": "f431da81-4d94-4fd1-8a51-952ef824cb46",
   "metadata": {},
   "source": [
    "# Cifar Library and Demo\n",
    "\n",
    "[This is a library](https://pkg.go.dev/github.com/gomlx/gomlx/examples/cifar) to download and parse the Cifar datasets (Cifar-10 and Cifar-100), and a very small demo of a FNN (Feedforward Neural Network) with GoMLX. FNNs are notoriously bad for images, but it's only a demo. Look for the Resnet50 model for a more serious image classification model (old but still good -- best results as of the time of this writing is with ViT model).\n",
    "\n",
    "The CIFAR-10 and CIFAR-100 are labeled subsets of the 80 million tiny images dataset. They were collected by Alex Krizhevsky, Vinod Nair, and Geoffrey Hinton. See more details in [its homepage here](https://www.cs.toronto.edu/~kriz/cifar.html).\n",
    "\n",
    "This notebook serves as documentation and example for the [github.com/gomlx/gomlx/examples/cifar](https://github.com/gomlx/gomlx/examples/cifar) library."
   ]
  },
  {
   "cell_type": "markdown",
   "id": "bd398a51-c10a-4d05-91f7-f978856a8d8b",
   "metadata": {},
   "source": [
    "## Environment Set Up\n",
    "\n",
    "Let's set up `go.mod` to use the local copy of GoMLX, so it can be developed jointly the dataset code with the model. That's often how data pre-processing and model code is developed together with experimentation.\n",
    "\n",
    "If you are not changing code, feel free to simply skip this cell. Or if you used a different directory for you projects, change it below.\n",
    "\n",
    "Notice the directory `${HOME}/Projects/gomlx` is where the GoMLX code is copied by default in [its Docker](https://hub.docker.com/repository/docker/janpfeifer/gomlx_jupyterlab/general)."
   ]
  },
  {
   "cell_type": "code",
   "execution_count": 1,
   "id": "22abc207-e8b0-44ef-840d-fee3550cffca",
   "metadata": {
    "tags": []
   },
   "outputs": [],
   "source": [
    "!*go mod edit -replace github.com/gomlx/gomlx=\"${HOME}/Projects/gomlx\""
   ]
  },
  {
   "cell_type": "markdown",
   "id": "443e9e56-ef12-4d04-b7bb-99478fa2b662",
   "metadata": {},
   "source": [
    "## Data Preparation\n",
    "\n",
    "### Downloading data files\n",
    "\n",
    "To download, uncompress and untar to the local directory, simply do the following. Notice if it's already downloaded in the given `--data` directory, it returns immediately."
   ]
  },
  {
   "cell_type": "code",
   "execution_count": 2,
   "id": "a61fdd1a-74a0-46f2-9cfc-f79bfa37e298",
   "metadata": {
    "tags": []
   },
   "outputs": [],
   "source": [
    "import (\n",
    "    \"github.com/gomlx/gomlx/examples/cifar\"\n",
    "    \"github.com/gomlx/gomlx/ml/data\"\n",
    ")\n",
    "\n",
    "var flagDataDir = flag.String(\"data\", \"~/work/cifar\", \"Directory to cache downloaded and generated dataset files.\")\n",
    "\n",
    "func AssertNoError(err error) {\n",
    "    if err != nil {\n",
    "        log.Fatalf(\"Failed: %+v\", err)\n",
    "    }\n",
    "}\n",
    "\n",
    "func AssertDownloaded() {\n",
    "    *flagDataDir = data.ReplaceTildeInDir(*flagDataDir)\n",
    "    if !data.FileExists(*flagDataDir) {\n",
    "        AssertNoError(os.MkdirAll(*flagDataDir, 0777))\n",
    "    }\n",
    "\n",
    "    AssertNoError(cifar.DownloadCifar10(*flagDataDir))\n",
    "    AssertNoError(cifar.DownloadCifar100(*flagDataDir))\n",
    "}\n",
    "\n",
    "%%\n",
    "AssertDownloaded()"
   ]
  },
  {
   "cell_type": "code",
   "execution_count": 3,
   "id": "345076ef-e2a3-4405-b47d-801c9ec62b91",
   "metadata": {
    "tags": []
   },
   "outputs": [
    {
     "name": "stdout",
     "output_type": "stream",
     "text": [
      "total 323M\n",
      "drwxr-xr-x 2 janpf janpf 4.0K Feb 20  2010 cifar-100-binary\n",
      "-rw-r--r-- 1 janpf janpf 161M Mar 16 07:57 cifar-100-binary.tar.gz\n",
      "drwxr-xr-x 2 janpf janpf 4.0K Jun  4  2009 cifar-10-batches-bin\n",
      "-rw-r--r-- 1 janpf janpf 163M Mar 16 07:57 cifar-10-binary.tar.gz\n"
     ]
    }
   ],
   "source": [
    "!ls -lh ~/work/cifar/"
   ]
  },
  {
   "cell_type": "markdown",
   "id": "93d4ae39-915c-478c-887f-b1c8c080865b",
   "metadata": {},
   "source": [
    "### Sample some images\n",
    "\n",
    "The `cifar.LoadCifar10` and `cifar.LoadCifar100` funcitons load the whole dataset into a `tensor.Tensor`. Here we sample and display a few of each, to check things are working.\n"
   ]
  },
  {
   "cell_type": "code",
   "execution_count": 4,
   "id": "0dabc63a-b918-4065-9b23-0c5a22446458",
   "metadata": {
    "tags": []
   },
   "outputs": [
    {
     "data": {
      "text/html": [
       "<h3>Samples from Cifar-10</h3><table><tr>\n",
       "\t<td><figure style=\"padding:4px;text-align: center;\"><img width=\"128\" height=\"128\" src=\"data:image/png;base64,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\"><figcaption style=\"text-align: center;\">Example 10707: deer (4)</figcaption></figure></td>\n",
       "\t<td><figure style=\"padding:4px;text-align: center;\"><img width=\"128\" height=\"128\" src=\"data:image/png;base64,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\"><figcaption style=\"text-align: center;\">Example 23381: horse (7)</figcaption></figure></td>\n",
       "\t<td><figure style=\"padding:4px;text-align: center;\"><img width=\"128\" height=\"128\" src=\"data:image/png;base64,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\"><figcaption style=\"text-align: center;\">Example 52904: horse (7)</figcaption></figure></td>\n",
       "\t<td><figure style=\"padding:4px;text-align: center;\"><img width=\"128\" height=\"128\" src=\"data:image/png;base64,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\"><figcaption style=\"text-align: center;\">Example 2873: ship (8)</figcaption></figure></td>\n",
       "</tr><tr>\n",
       "\t<td><figure style=\"padding:4px;text-align: center;\"><img width=\"128\" height=\"128\" src=\"data:image/png;base64,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\"><figcaption style=\"text-align: center;\">Example 32686: cat (3)</figcaption></figure></td>\n",
       "\t<td><figure style=\"padding:4px;text-align: center;\"><img width=\"128\" height=\"128\" src=\"data:image/png;base64,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\"><figcaption style=\"text-align: center;\">Example 25511: frog (6)</figcaption></figure></td>\n",
       "\t<td><figure style=\"padding:4px;text-align: center;\"><img width=\"128\" height=\"128\" src=\"data:image/png;base64,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\"><figcaption style=\"text-align: center;\">Example 34525: truck (9)</figcaption></figure></td>\n",
       "\t<td><figure style=\"padding:4px;text-align: center;\"><img width=\"128\" height=\"128\" src=\"data:image/png;base64,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\"><figcaption style=\"text-align: center;\">Example 46185: deer (4)</figcaption></figure></td>\n",
       "</tr></table>\n"
      ]
     },
     "metadata": {},
     "output_type": "display_data"
    },
    {
     "data": {
      "text/html": [
       "<h3>Samples from Cifar-100</h3><table><tr>\n",
       "\t<td><figure style=\"padding:4px;text-align: center;\"><img width=\"128\" height=\"128\" src=\"data:image/png;base64,iVBORw0KGgoAAAANSUhEUgAAACAAAAAgCAIAAAD8GO2jAAAI9klEQVR4nBzVR46da0LG8TeHL5zv5Aq2y6bb1xbdCCY9ZMYUiQFiSeyCJbARBgiE0NWlZde1q1zxhC+/OaDbe/g9z5/8+7/9K3KgO36FZdx9+P1yebO/+FiVTde9/MeXn7++PgIARaJI5eF0mn13sq8hthRoF3m1vfnw+fPYTzkAay0VGXmYI0gsOmeBRcALMum5pA2Ru4O67358uUFwsd8veDMa3bbnYWwtTISTRla5RuasKQIlFiUXmBWa5GHuBONO6fHpZbnf1nKptJ6mGQUHAxJFif/ln/+Bcj6quTO9B5YxHFzisOifDtm7Tx8/KDdOQWGAovHd0CKQds2yoIxxNlnbTQ66DG0uiBx7JUBBEwM555hARhBi/E//+Pc6jLREiHKMEEoxaVjS1aJZWDNHEl/nY7QuDd71ThalNibYmCLgpQCY2gkIJHfry0o2QUdkMc0UZJAFiRgZ68jVzcWPp68uulLWIFCjzinatj0ZtL17fT7C80y9eTr7YwqRvPl0U1Tix7dfrU/MZwxwnbkdI72qnY+YChwJAcxEq5NPFKrRIgc1rUiwFhpLIyxZTUiWVYyzY565MPOY0OucT4ZnYtX44d2WVXhGcVEtlkDkOXjtZhdSIcBKWgyMTyr60+kJJpOyR4/fH3VvsoYEcJBojgwjVghWMmi1ssqlNgiPcEycUkHw548/7fdX2qSp95VYAghBSPrYuXasqwpgrL3zOcyDijquFksUZ1CCaiHXFxc3ZbXhrE4e96c+hikzmFx++vmHOvdlJSEGlRRXl28oqQSq+zYoC10IMMQioe72oX86g4wSAspMGPL+rEGCBCPilAkBrC8uitrP/dmrOWh7nF/LZe2OFraqoPTDX3+8bbv1bvVyeB7HcVNvWMbjbI0xq8WKUxaMC+2UsqSMzP0kOHt79TZEhxJOEXiL/FP7EoGnDEtBccpeBe386XSUIV5d7khT5JLubi6/PXwTkl3v9xCAfpwwxrIqD/05IGCVnSeVMaICS4F/+t37d5fvSKYBY7zBJclO6d50M4u+715byL5rhZUFUW1vLiYct/ulFPSXL49SUKiSVlZyvl1zrW036wxA0BkSCnPimBCSA4yRADSb7rU/cZcbgnarhUBy6LuTOd6Bl9uXL+SoVxcrsqmHoS1wJNFyArwfEfV1I7lgECHrU8owoQwZTjmYaQjKr9d7FWMfDAnBCi6V1c/taZ0Rie7s+mc2n51GpxOY4rAgr2d1Po8NBZSjuhbfH++Xe/FX6wVBxdPjGHgaDicbDaEIYGJBWl3sdxdXxnvKBYEgYQx0sA/33zfnbgX5gOZv5jAf+/KoMFkMmdw9HgIGYFT/+V//fWw7Z7BxsVqQoizw6INV1apaiape8BRJ8ACi9PT8CDgpl2uybOquGxCnLsXI0YDtoT+cDydwp5dzfE3nTX3FCmKte3o5Pj4MiEjCG2M4FTsdE+IYoFwUguCYfNbK9t3ggtrupZpMp06EU7rbrBKUb+utWFe/PP/8/XTnH4blYWF1a68oaRzE2idPmPz46fPl5ebu6VHWJRFcTeOyqYejuv/63aiRkpqxylq12cndtlIAmZhIxcWiWT0MXjTr2/bb/zx+nY5T1UKg7Ymk8noLYAohEIwE5zf7y0LkrmG4qY79ycwzJqzrj7qPkixwLJJFCdnIYT9HXmLJKSmLIoX82qlp6B/GX7u2R2eEJjAJu/27P+7ev7HHgZGaFxTh3L/ch4JCSjvlh/aUneV1pdxMcM0wQQhOwUQ5j1DbXkhFm82GaBRjiFQK057nU8uzSAKaBl794cP133wap7HaiBoW0VtZ8Oisy8wnSBAuZc2rDaB4uZr6Kc/9QRairESqRCQmGmg9QhtJ/vfuoS72kRRnPViIV7t3rGbIo9XNtQY4ZNosGmBc8pFilAj8zVC9xoKAxBmSoxp88MvdWhTOec1KnCQhZZlAo8cQPCR9qFNk43DolF4t3lzWlwKRUQ3aKBZZQSmi+HDuWIxQpWHq6HbbkBh9ByGJGYeoMgq8KiBtxtcxB1syvliUyrPkHEKAALp7OncQ6g+X76/KN29pk2x3iPbXc4+cCxAcx1a7GSr1rNVyvxI1M3EMThFU+xgy0EwQayPh1WKzw5g0yyw4gQWdh1cIEzkd/s/btK6qprxIsICkrJJjfK1ict5ZbzFMJ6WSHhtBFoumrPjoem3nQuBBnSGAlaxsSFwsEEExD5zDGKIsAIDeGE+G872AAsI4nU4TDX7SGwExxR5UEUcE47osHKiDOrzdV6eunw+zyXYabFUCiClMiEASUfTWMVEA5KUgxiilhpw95wL/8U+f3u82f/rbn6IL50PvQwicts5DUWFRJyx8ZoRxkMKsB4fMYFr02yZqNUeYCYhAdwYBZv7yeTEFIYSUVQx+nhVEhHBLL4tttunrz3++exr5sn6HP4lF5fQTwSwnjCDhkFEsb+/+vHtfIUhAxmVR63kCGZZF/fL4sthtlTY2GMqJVhyADACyxobckiu5Odx2X748//Lr0YWwIkB6z4227gyIrMv10A+Ti8uifH/9+848JyyUAcH1zttCyuyzmZR8w3o4A+gwrjLIIdrj8RBjkpygT2/eAyfGuaDFFSb85mJ/XZXHr9/6+5M96uHHMDyO2Ds/aewJ9Niq9Fv/fIxJh6Aefzz0fY8RgCB6PwMYcg4hGGtNSklrTWYz8Q3Xtx1K5mpX/uHz75hctnPEMZyHA8aeixWErGvVrEa4jgCNjGwxINbHsR9CjNVaRJSDBRAUmNAAnBknnPi5Pcc+o9PQmexCMN5qyamZ5sPzsZYNBtRbb4xhTOZMM6CyqKWorHEpQAKl03AeohDF5fVlTGEaNYEcQGDsrJVRnXdTQpGhQ9vd3n6HkGDMX4/d/Y9HlsD1cqt1KOoGYpxAnietjAaYBIej5lMfgkHJCQo3IAkIkbPO2RBjUKrvh9M0qdPzgBxlmZNj37f9RAnKGc4+zDFOVhdig2lBmOQYhRS9NrPRSFISeMXWfecttZvFNUwNYVrPR0B1ihDA7OOEWUKYQxgA+E3B/wcAAP//8Xclr4dj9JoAAAAASUVORK5CYII=\"><figcaption style=\"text-align: center;\">Example 35310: worm (99)</figcaption></figure></td>\n",
       "\t<td><figure style=\"padding:4px;text-align: center;\"><img width=\"128\" height=\"128\" src=\"data:image/png;base64,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\"><figcaption style=\"text-align: center;\">Example 49198: bus (13)</figcaption></figure></td>\n",
       "\t<td><figure style=\"padding:4px;text-align: center;\"><img width=\"128\" height=\"128\" src=\"data:image/png;base64,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\"><figcaption style=\"text-align: center;\">Example 762: cattle (19)</figcaption></figure></td>\n",
       "\t<td><figure style=\"padding:4px;text-align: center;\"><img width=\"128\" height=\"128\" src=\"data:image/png;base64,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\"><figcaption style=\"text-align: center;\">Example 19115: leopard (42)</figcaption></figure></td>\n",
       "</tr><tr>\n",
       "\t<td><figure style=\"padding:4px;text-align: center;\"><img width=\"128\" height=\"128\" src=\"data:image/png;base64,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\"><figcaption style=\"text-align: center;\">Example 688: couch (25)</figcaption></figure></td>\n",
       "\t<td><figure style=\"padding:4px;text-align: center;\"><img width=\"128\" height=\"128\" src=\"data:image/png;base64,iVBORw0KGgoAAAANSUhEUgAAACAAAAAgCAIAAAD8GO2jAAAFnklEQVR4nExWW3IruQ0FQHa3ZM/4TupO1cxHtpBl5DM7zmc+spE8pipxcmNbUpN4pA7Q0jVLtlpdJAEcHByg/+0ffxeRqOVBhGczq/9EEUG18CZCzc1MVc2siTBFuOOou6ru0263yUytdXefc/TWWhkgIvcQbu7OzGaWD1KHywYzi8jnZ6GAQTNPO8Lcu6zrama3226u/X4RE5GpGfkjAhYhJlVTU2Z2LHji9xXhCvO4Qd2tYonQXMzUe+vMXO7DHWlwBVA5BUkTizD3YCImEmZi8ngg5tjn4XmGyCnUNRJVabRwj/AuIol1Ri0sgZ+4iIGYhjlF2syYgnGlAxX4HW6U+GQQ+W25G5vnnDBwuVyWZRGRDJkqpSzs5upmCAT+mwI3CSanQtWQ1Tljzkw43A6SIAqfExteX1+B0j9/++2XX39Z15WO+x0uwmE4Y0SWSfZwdSWHgSKchg3HR93VEn+iTsR5toILj37azgjcYD/zN/O4H4ZI/HAXcWshUJStQFwCOeqO6xIEh2tEvK5nndo3WWi6m2be/CiITBkFN4DOZEzmYqgRJT+IkFkR5zDBZvjDYeZK4KL7+NCh2t9vb9SitXYnBxiexih5iL11QkClIDJm3MfsVaAkTmTpUfrXzAPc1hjUon8b33beRQSlwMmjT0uIH1U652RxtX1OnXNM/I2b70OHTh1jMFYzPTZfrxcO7n/565/HGGMfxKDHzz9/vd1ul8tl3/fT6fT0dC61uF4vb/97YzLdr/s+DDVpw8Y1LtMGgJkThcQ9NFCYRIbQg//4pz8UNVMwbN16VKlEEJM0/K+yQp1R1uCBYiFqub0S7KwJFQUzqyJJneNDcFFhFICXj0+C5jBDwsENpYxK4ECha/PgaI7T8CY1ilvQnWbexCO6Lh9AmkMkOITpyDbTYSacxJct1pX7D/1pjc5qKvqfeP+vfXDxIkmelQAH8QWtQdF0i4mg4RlACU8kSvxwkimkUxOzk9CX05eXdu7Eu8yx07/f3wwsvuuSg3Mpy3CLsuy7TCIhh+yyQcosNRhhQt+icRIXWs+DKba2rr07ib65DbJUXFytDhy4oal4CMgMPvdneRpjn+GD3SSoUfC9xYBYYWpBo6nIxqRuNJXY3G9ve+xBvXDMYszVREiDZ3Rqmyz9x+VlWfttjNeP992HxUSqWkNuWWhEqPcuT8vTT9tLzLjo3gZcP/H2A52ut1FiH4SGwSLrsvYm53V7Pj0/L1t//9f1919//Wn73Uv/uvucc4e+JCWEpW0gxbJsq/SNehjvrKxg0Zftx/O6WnH8gBSp69KWtvS2NO6NuZ/7M92g/mfZzv2JFq8GmWVZHMonjyXABKUQdyZeqa/CKVmJagR0IIKN2IVmBJly9Jf1i2kEKWoqVYyPCsAhAetRVoIewRHUK0Fgm4SBm+AjSxVmGAqYs3qCjBBQBukHK/FKpEkT/KIoRoG8klnJ9JRW++ENtufAkIOBRA0D2dZA+Q737pMJE5fqucGFJq0UYum9SfEVfGkdjRbal9VSXf3R20s2DjMgZsDN1lqBXg/Zwapxof1Svn9MN8fLvHpZljpy6PH3eSDv8OifxfkxDrl770tmGWfQYhIIuEmkquVW3fUYzfi+7mYc6kr3uarOYKQ4/MXWmmsSw0jBZXN7XFHQf5/97mb8mI/wHqSQ+7xWQVSwFaZBJaUlfzyFrHL2iPgx9H0fAD/ZQ1kkpjiOEk8lDkMdoco6hGWqUq9t3sCluhQbqi1XhBA6rknVE8nIe7nnuIf2A1xymkV+zamFazaWImWWd2A24HBPJrPd9Rkms0f5MeOCBklWF0sVr5DrojviVPMaZVYtDyRPgUwxuFJadDlGt8enMCTuUiTLYdlNzR1Kd8/HIyV3ymfB5qrxFqc+ceQxFxekwfz/AAAA//+LN/DUBllvQAAAAABJRU5ErkJggg==\"><figcaption style=\"text-align: center;\">Example 29132: plain (60)</figcaption></figure></td>\n",
       "\t<td><figure style=\"padding:4px;text-align: center;\"><img width=\"128\" height=\"128\" src=\"data:image/png;base64,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\"><figcaption style=\"text-align: center;\">Example 33101: telephone (86)</figcaption></figure></td>\n",
       "\t<td><figure style=\"padding:4px;text-align: center;\"><img width=\"128\" height=\"128\" src=\"data:image/png;base64,iVBORw0KGgoAAAANSUhEUgAAACAAAAAgCAIAAAD8GO2jAAAFRElEQVR4nGRWy3IVNxPubkkzcy5gg+H/E2AXKi+SSuUR8gbZ5i2zzCJsU6lAKFLYYLCNL3Mkdae6W3NxIg7HmjOS+vb19yn+/NOPP3z/HXV9zrmUMo7j7e3d69d/XV58GYaeQkBCBAT96BARtFErIyJzFWEMgaUNZgHQ71oLAEQkjDFSjMwMALXWFONmswHBEIIACui/ebgBEUBkACEK9gMhgZ+OCGoShQiZmXSzbhDbqzbsTHvWuXmOiwFEf9CXbN4iBd/c3uK8RieRiEIMQkCE9gF9i201kj1ICwP1oMVMCIFRg/awiEgjE3ZbIsTMMaboq2cvibC5YJFNc2h/WHwW1HFLt1ZCh9dm7YFGkFIKIRRLKvnZVlZoq2WVFrUiAT0f+qPZIiIAyDlrxm1+z0CMIQTiqu98heXRoSNuZi7vKr9qe/JV4aDpYp4jnsEWU9IyIAtNZ5EZcYc9FoA1ihhwypf5YpCtvnHCqrgNEYkxRqskwKr0ZkmmKO8Z8J9kWj9HMZdhndIQQkwxkSZE/yuiQlB38N8nzlkKIShA59oIVEssEZVSFlA46pljn5KB0YurBqZSLxlb5/Q+5IS5zuAhIoesL/byNpjq6VbZ9VhqC/d6Z2pmBTyXSiF4NpON2T+yHtIUteOIUO4l0b5pzRBz6TycFFI0jum2ey9DrbXYqLXmfMi5xGEYyHLEmibCuRua89pXZK1MUfEWYwKupdZ+u0XAMt7e3lwVAUIaD4dSshtQxCriOHZ9Z10FDtYWHWp2DQZamISCGCCEFFMRyLXw3c3VON7kjLWW8fpweb3d7tjZTkQPtEYKyqNkaCcSI0LHQ0ppt9tvtr2mreRyc32bbw6HMZdaIJZaSIqwhJJD1zsHKzOHgBaldoZBqEUA6IQLc30AMOdDucq1ZK45jdfX56fXEKDf1VI7hAqwx/ztCZ0yntMJHsput1Pusm6o3NShMsfjoyNDGGqDWqcQ0Tjmj58+910iY9nrsXy5vEKiHilQPDo+gcPd40Qvnu0uzurl+Y12jzK3Hl0rtyEslalLnWZsoTmtrrtQNWmUYtfvj+jRV3elCh8eHD+CmrvUSf/wwy39/uffr179Zms51zqfLo5ikeiAtWYUooly7XkYhqFLMYR+2KRuOAvp/PICry6O+gTb/Zuzi19+ffP29OPm+GS726sgTio1d4+oZJrMAImRD049Qi4MgFQNbzHEx0/+n/ptwlqR370//Xxx+cf7TxXoxcljsr6bWc6JymkqqogRgYklrixYRTRKmjSk77ruyRPh+uH9u7dnn4D5+YvnXz97vt/tlOp9UZMKMKyKGQgmlbxE0HRtbjVt5uaYpg6p3z4cdg83w5C67n9PnyoorWmmhl8oVhsT0Tlg5p8lReuJB6/JBHnwYP/y5Tc2n11ufjnXNm5T7EDMpW5UjKpzJIK33XQDcF5bWE4Lgohd6lT+HCGmOu1UCt6qjQ2Zo4j7NasumGACORtaauwIwVb24MrlMtnwTSSLdqDD1Kk+phhXV5o2AlEMlGIMFJtHBLVkCrHrh/9SurbOhKKZd92MFnli5mVPSnG32xo8gn1UhPNhJNWPbibsJvvgVybTN8OPXx6aJpORcXMelrvGdrPt+2HWZBFOqcfpVrKWUt+uVuwvC89vNXYBoz1DaUMy3JOwSWTAxSfnPI4j38dli2L6XqkhqKIZthiAHT+EtO5nBBJDBKJ6k20Yz1Pz3qDB7boEAcKSOqkRQKozoDJVoysDmD567HZHF6NMvVHHGHRXLdM56MTmUGw8ZzezUso/AQAA//8JbKJRusta4QAAAABJRU5ErkJggg==\"><figcaption style=\"text-align: center;\">Example 50430: spider (79)</figcaption></figure></td>\n",
       "</tr></table>\n"
      ]
     },
     "metadata": {},
     "output_type": "display_data"
    }
   ],
   "source": [
    "import (\n",
    "    \"github.com/gomlx/gomlx/examples/cifar\"\n",
    "    \"github.com/gomlx/gomlx/types/shapes\"\n",
    "\n",
    "    \"github.com/janpfeifer/gonb/gonbui\"\n",
    ")\n",
    "\n",
    "// sampleToNotebook generates a sample of Cifar-10 and Cifar-100 in a GoNB Jupyter Notebook.\n",
    "func sampleToNotebook(rows, cols int) {\n",
    "    dtype := shapes.Float32\n",
    "    \n",
    "    // Load data into tensors.\n",
    "    images10, labels10, err := cifar.LoadCifar10(*flagDataDir, dtype)\n",
    "    AssertNoError(err)\n",
    "    images100, labels100, err := cifar.LoadCifar100(*flagDataDir, dtype)\n",
    "    AssertNoError(err)\n",
    "    \n",
    "    sampleTable(\"Samples from Cifar-10\", images10.Local(), labels10.Local(), cifar.C10Labels[:], rows, cols)\n",
    "    sampleTable(\"Samples from Cifar-100\", images100.Local(), labels100.Local(), cifar.C100FineLabels[:], rows, cols)\n",
    "}\n",
    "\n",
    "// sampleTable generates and outputs one html table of samples, sampling rows x cols from the images/labels provided.\n",
    "func sampleTable(title string, images, labels *tensor.Local, labelsText []string, rows, cols int) {\n",
    "    htmlRows := make([]string, 0, rows)\n",
    "    for row := 0; row < rows; row++ {\n",
    "        cells := make([]string, 0, cols)\n",
    "        for col := 0; col < cols; col++ {\n",
    "            cells = append(cells, sampleOneImage(images, labels, labelsText))\n",
    "        }\n",
    "        htmlRows = append(htmlRows, fmt.Sprintf(\"<tr>\\n\\t<td>%s</td>\\n</tr>\", strings.Join(cells, \"</td>\\n\\t<td>\")))\n",
    "    }\n",
    "    htmlTable := fmt.Sprintf(\"<h3>%s</h3><table>%s</table>\\n\", title, strings.Join(htmlRows, \"\"))\n",
    "    gonbui.DisplayHTML(htmlTable)\n",
    "}\n",
    "\n",
    "// sampleOneImage one image from tensor and returns an HTML rendered image with label\n",
    "func sampleOneImage(images, labels *tensor.Local, labelsText []string) string {\n",
    "    exampleNum := rand.Intn(images.Shape().Dimensions[0])\n",
    "    labelsData := tensor.Data[int](labels)\n",
    "    label := labelsData[exampleNum]\n",
    "    labelStr := labelsText[label]\n",
    "    img := cifar.ConvertToGoImage(images, exampleNum)\n",
    "    imgSrc, err := gonbui.EmbedImageAsPNGSrc(img)\n",
    "    AssertNoError(err)\n",
    "    return fmt.Sprintf(`<figure style=\"padding:4px;text-align: center;\"><img width=\"128\" height=\"128\" src=\"%s\"><figcaption style=\"text-align: center;\">Example %d: %s (%d)</figcaption></figure>`, imgSrc, exampleNum, labelStr, label)\n",
    "}\n",
    "\n",
    "%%\n",
    "AssertDownloaded()\n",
    "rows, cols := 2, 4\n",
    "sampleToNotebook(rows, cols)"
   ]
  },
  {
   "cell_type": "markdown",
   "id": "7fa8c06c-ede0-4cd1-80bd-9331422e3a63",
   "metadata": {},
   "source": [
    "## Training on Cifar-10\n",
    "\n",
    "### Models Support\n",
    "\n",
    "In this cell we define 3 functions we are going to use for the modeling:\n",
    "\n",
    "1. `getBatchedImages`: this will take the `cifar.Dataset` yielded `spec`, and convert the image indices that are given as input, and convert them to the actual batch of images. The whole Cifar-10 dataset is configured as a variable -- so it can be stored in the accelerator memory for faster access. This function will call the `Dataset.GatherImagesGraph` to retrieve it.\n",
    "1. `normalizeImage` and `normalizeFeatures`: they normalize `x` according to the hyperparameter given in `flagNormalization` flag.\n"
   ]
  },
  {
   "cell_type": "code",
   "execution_count": 5,
   "id": "c8d3c19e-af0c-4fef-a76c-dabb375972d0",
   "metadata": {
    "tags": []
   },
   "outputs": [],
   "source": [
    "import (\n",
    "    \"flags\"\n",
    "    \n",
    "    . \"github.com/gomlx/gomlx/graph\"\n",
    "    \"github.com/gomlx/gomlx/examples/cifar\"\n",
    "    \"github.com/gomlx/gomlx/ml/context\"\n",
    ")\n",
    "\n",
    "var (\n",
    "    // ML Manager creation:\n",
    "    flagNumThreads  = flag.Int(\"num_threads\", -1, \"Number of threads. Leave as -1 to use as many as there are cores.\")\n",
    "    flagNumReplicas = flag.Int(\"num_replicas\", 1, \"Number of replicas.\")\n",
    "    flagPlatform    = flag.String(\"platform\", \"\", \"Platform to use, if empty uses the default one.\")\n",
    "\n",
    "    // Model hyper-parameters.\n",
    "    flagL2Regularization = flag.Float64(\"l2_reg\", 0, \"L2 regularization on kernels. It doesn't interact well with --batch_norm.\")\n",
    "    flagNormalization    = flag.String(\"norm\", \"layer\", \"Type of normalization to use. Valid values are \\\"none\\\", \\\"batch\\\", \\\"layer\\\".\")\n",
    "\n",
    "    // Model hyperparameters:\n",
    "    flagNumHiddenLayers = flag.Int(\"hidden_layers\", 8, \"Number of hidden layers, stacked with residual connection.\")\n",
    "    flagNumNodes        = flag.Int(\"num_nodes\", 128, \"Number of nodes in hidden layers.\")\n",
    "    flagDropoutRate     = flag.Float64(\"dropout\", 0, \"Dropout rate\")\n",
    ")\n",
    "\n",
    "func getBatchedImages(ctx *context.Context, spec any, inputs []*Node) (batchedImages *Node) {\n",
    "    g := inputs[0].Graph()\n",
    "    if !g.Ok() {\n",
    "        return nil\n",
    "    }\n",
    "\n",
    "    if spec != nil {\n",
    "        // spec should hold the dataset that converts the image indices to the actual\n",
    "        // images, by gathering from a large variable that holds all the images.\n",
    "        dataset, ok := spec.(*cifar.Dataset)\n",
    "        if !ok {\n",
    "            g.SetErrorf(\"spec given to FNNModelGraph is not a *cifarDataset, instead got %T\", spec)\n",
    "            return nil\n",
    "        }\n",
    "        // We assume that batchedImages passed is actually a list of indices, and we need to gather\n",
    "        // the actual images.\n",
    "        batchedImages = dataset.GatherImagesGraph(ctx, inputs[0])\n",
    "    } else {\n",
    "        // If a spec was not given, we assume the raw images are being fed for inference.\n",
    "        batchedImages = inputs[0]\n",
    "    }\n",
    "    if !batchedImages.Ok() {\n",
    "        g.SetErrorf(\"failed to load batch of images\")\n",
    "        return nil\n",
    "    }\n",
    "    return\n",
    "}\n",
    "\n",
    "func normalizeImage(ctx *context.Context, x *Node) *Node {\n",
    "    x.AssertRank(4)  // [batch_size, width, height, depth]\n",
    "    switch *flagNormalization {\n",
    "    case \"layer\":\n",
    "        return layers.LayerNormalization(ctx, x, 1, 2).ScaleNormalization(false).Done()\n",
    "    case \"batch\":\n",
    "        return layers.BatchNormalization(ctx, x, -1).Done()\n",
    "    case \"none\":\n",
    "        return x\n",
    "    }\n",
    "    g := x.Graph()\n",
    "    g.SetErrorf(\"invalid normalization selected %q -- valid values are batch, layer, none\", *flagNormalization)\n",
    "    return g.InvalidNode()\n",
    "}\n",
    "\n",
    "func normalizeFeatures(ctx *context.Context, x *Node) *Node {\n",
    "    x.AssertRank(2)  // [batch_size, embedding_dim]\n",
    "    switch *flagNormalization {\n",
    "    case \"layer\":\n",
    "        return layers.LayerNormalization(ctx, x, -1).Done()\n",
    "    case \"batch\":\n",
    "        return layers.BatchNormalization(ctx, x, -1).Done()\n",
    "    case \"none\":\n",
    "        return x\n",
    "    }\n",
    "    g := x.Graph()\n",
    "    g.SetErrorf(\"invalid normalization selected %q -- valid values are batch, layer, none\", *flagNormalization)\n",
    "    return g.InvalidNode()\n",
    "}"
   ]
  },
  {
   "cell_type": "markdown",
   "id": "f771ca6f-5912-4406-9f2a-a838fd7cd065",
   "metadata": {},
   "source": [
    "### Simple FNN model\n",
    "\n",
    "A trivial model, that can easily get to ~45% accuracy (a random model would do 10%), but hardly much more than that.\n",
    "\n",
    "Later we are going to define a CNN model to compare, and we just set a placeholder model here for now.\n",
    "\n",
    "> **Note**: \n",
    ">\n",
    "> * Cifar datasets yields (`Dataset.Yield()`) only the indices to the images of the batch as a `Tensor`. But it provides a `GatherImagesGraph` method that gathers the images from a static variable that holds the whole dataset (~1Gb in memory, stored as float32). We access it through the `getBatchedImatges()` defined above. \n"
   ]
  },
  {
   "cell_type": "code",
   "execution_count": 6,
   "id": "0ac4e4da-2c3b-431c-9e54-00e31045785f",
   "metadata": {
    "tags": []
   },
   "outputs": [
    {
     "name": "stdout",
     "output_type": "stream",
     "text": [
      "Logits shape for batch_size=3: (Float32)[3 10]\n"
     ]
    }
   ],
   "source": [
    "import (\n",
    "    \"flags\"\n",
    "    \n",
    "    . \"github.com/gomlx/gomlx/graph\"\n",
    "    \"github.com/gomlx/gomlx/examples/cifar\"\n",
    "    \"github.com/gomlx/gomlx/ml/context\"\n",
    "    \"github.com/gomlx/gomlx/ml/train/optimizers\"\n",
    "    \"github.com/gomlx/gomlx/types/shapes\"\n",
    ")\n",
    "\n",
    "var DType = shapes.Float32\n",
    "\n",
    "func FNNModelGraph(ctx *context.Context, spec any, inputs []*Node) []*Node {\n",
    "    g := inputs[0].Graph()\n",
    "    if !g.Ok() {\n",
    "        return nil\n",
    "    }\n",
    "    batchedImages := getBatchedImages(ctx, spec, inputs)\n",
    "    if !g.Ok() {\n",
    "        return nil\n",
    "    }\n",
    "    batchSize := batchedImages.Shape().Dimensions[0]\n",
    "    logits := Reshape(batchedImages, batchSize, -1)\n",
    "    {\n",
    "        ctx := ctx.In(\"Dense_0\")\n",
    "        logits = layers.DenseWithBias(ctx, logits, *flagNumNodes)\n",
    "        logits = normalizeFeatures(ctx, logits)\n",
    "    }\n",
    "    for ii := 1; ii < *flagNumHiddenLayers; ii++ {\n",
    "        ctx := ctx.In(fmt.Sprintf(\"Dense_%d\", ii))\n",
    "        // Add layer with residual connection.\n",
    "        tmp := Sigmoid(logits)\n",
    "        if *flagDropoutRate > 0 {\n",
    "            tmp = layers.Dropout(ctx, tmp, Const(g, shapes.CastAsDType(*flagDropoutRate, tmp.DType())))\n",
    "        }\n",
    "        tmp = layers.DenseWithBias(ctx, tmp, *flagNumNodes)\n",
    "        tmp = normalizeFeatures(ctx, tmp)\n",
    "        logits = Add(logits, tmp)\n",
    "    }\n",
    "    logits = Sigmoid(logits)\n",
    "    logits = layers.DenseWithBias(ctx.In(\"denseFinal\"), logits, len(cifar.C10Labels))\n",
    "    return []*Node{logits}\n",
    "}\n",
    "\n",
    "// Only a placeholder for now.\n",
    "func CNNModelGraph(ctx *context.Context, spec any, inputs []*Node) []*Node {\n",
    "    return nil   \n",
    "}\n",
    "\n",
    "%% --platform=Host\n",
    "\n",
    "// Let's test that the logits are coming out with the right shape: we want [batch_size, 10], since there are 10 classes.\n",
    "AssertDownloaded()\n",
    "manager := BuildManager().NumThreads(*flagNumThreads).NumReplicas(*flagNumReplicas).Platform(*flagPlatform).MustDone()\n",
    "trainDS, err := cifar.NewDataset(\"Cifar-10 Batched Train\", *flagDataDir, cifar.C10, DType, cifar.Train, 3, false) // loops forever.\n",
    "AssertNoError(err)\n",
    "\n",
    "graph := manager.NewGraph(\"test\")\n",
    "ctx := context.NewContext(manager)\n",
    "logits := FNNModelGraph(ctx, trainDS, []*Node{graph.Parameter(\"images\", shapes.Make(shapes.Int64, /*Batch Size*/ 3, 1))})\n",
    "AssertNoError(graph.Error())\n",
    "AssertNoError(ctx.Error())\n",
    "fmt.Printf(\"Logits shape for batch_size=%d: %s\\n\", 3, logits[0].Shape())\n"
   ]
  },
  {
   "cell_type": "markdown",
   "id": "aef7d6ee-ca2b-40c7-ac3d-4242ecd8ed1b",
   "metadata": {},
   "source": [
    "### Training Loop\n",
    "\n",
    "With a model function defined, let's create our training loop, with the usual bells and whistles: accuracy metrics, progress-bar, plot of metrics, checkpoints."
   ]
  },
  {
   "cell_type": "code",
   "execution_count": 7,
   "id": "d72336ef-d96d-4d98-a3a6-5df912be5f24",
   "metadata": {
    "tags": []
   },
   "outputs": [
    {
     "name": "stdout",
     "output_type": "stream",
     "text": [
      "Platform: CUDA\n",
      "Training (500 steps):  100% [\u001b[32m=\u001b[0m\u001b[32m=\u001b[0m\u001b[32m=\u001b[0m\u001b[32m=\u001b[0m\u001b[32m=\u001b[0m\u001b[32m=\u001b[0m\u001b[32m=\u001b[0m\u001b[32m=\u001b[0m\u001b[32m=\u001b[0m\u001b[32m=\u001b[0m\u001b[32m=\u001b[0m\u001b[32m=\u001b[0m\u001b[32m=\u001b[0m\u001b[32m=\u001b[0m\u001b[32m=\u001b[0m\u001b[32m=\u001b[0m\u001b[32m=\u001b[0m\u001b[32m=\u001b[0m\u001b[32m=\u001b[0m\u001b[32m=\u001b[0m\u001b[32m=\u001b[0m\u001b[32m=\u001b[0m\u001b[32m=\u001b[0m\u001b[32m=\u001b[0m\u001b[32m=\u001b[0m\u001b[32m=\u001b[0m\u001b[32m=\u001b[0m\u001b[32m=\u001b[0m\u001b[32m=\u001b[0m\u001b[32m=\u001b[0m\u001b[32m=\u001b[0m\u001b[32m=\u001b[0m\u001b[32m=\u001b[0m\u001b[32m=\u001b[0m\u001b[32m=\u001b[0m\u001b[32m=\u001b[0m\u001b[32m=\u001b[0m\u001b[32m=\u001b[0m\u001b[32m=\u001b[0m\u001b[32m=\u001b[0m] (113 steps/s)\u001b[0m [loss=1.870] [~loss=1.939] [~acc=31.78%]        \n",
      "\n",
      "Results on Cifar-10 Eval On Train:\n",
      "\tMean Loss (#loss): 1.887\n",
      "\tMean Accuracy (#acc): 32.76%\n",
      "Results on Cifar-10 Eval On Test:\n",
      "\tMean Loss (#loss): 1.889\n",
      "\tMean Accuracy (#acc): 32.88%\n",
      "\n"
     ]
    }
   ],
   "source": [
    "import (\n",
    "    \"flags\"\n",
    "    \n",
    "    \"github.com/gomlx/gomlx/examples/cifar\"\n",
    "    \"github.com/gomlx/gomlx/ml/context\"\n",
    "    \"github.com/gomlx/gomlx/ml/train\"\n",
    "    \"github.com/gomlx/gomlx/types/slices\"\n",
    ")\n",
    "\n",
    "var (\n",
    "    // Training flags:\n",
    "    flagModel            = flag.String(\"model\", \"fnn\", \"Model type: fnn or cnn.\")\n",
    "    flagNumSteps         = flag.Int(\"steps\", 2000, \"Number of gradient descent steps to perform\")\n",
    "    flagBatchSize        = flag.Int(\"batch\", 50, \"Batch size for training\")\n",
    "    flagOptimizer        = flag.String(\"optimizer\", \"adamw\", fmt.Sprintf(\"Optimizer, options: %v\", slices.Keys(optimizers.KnownOptimizers)))\n",
    "    flagLearningRate     = flag.Float64(\"learning_rate\", 0.0001, \"Initial learning rate.\")\n",
    "    flagCheckpoint       = flag.String(\"checkpoint\", \"\", \"Directory save and load checkpoints from. If left empty, no checkpoints are created.\")\n",
    "    flagCheckpointKeep   = flag.Int(\"checkpoint_keep\", 10, \"Number of checkpoints to keep, if --checkpoint is set.\")\n",
    "    \n",
    "    // Training UI:\n",
    "    flagUseProgressBar = flag.Bool(\"bar\", true, \"If to display a progress bar during training\")\n",
    "    flagNumPlotPoints  = flag.Int(\"plot_points\", 50, \"Number points to plot.\")\n",
    ")\n",
    "\n",
    "var (\n",
    "    // DType used for the model.\n",
    "    DType = shapes.Float32\n",
    "    \n",
    "    // EvalBatchSize can be larger than training, more efficient.\n",
    "    EvalBatchSize = 2000\n",
    ")\n",
    "\n",
    "\n",
    "func trainModel() {\n",
    "    // Make sure data is downloaded.\n",
    "    AssertDownloaded()\n",
    "\n",
    "    // Manager handles creation of ML computation graphs, accelerator resources, etc.\n",
    "    manager := BuildManager().NumThreads(*flagNumThreads).NumReplicas(*flagNumReplicas).Platform(*flagPlatform).MustDone()\n",
    "    fmt.Printf(\"Platform: %s\\n\", manager.Platform())\n",
    "\n",
    "    // Create datasets used for training and evaluation.\n",
    "    trainDS, err := cifar.NewDataset(\"Cifar-10 Batched Train\", *flagDataDir, cifar.C10, DType, cifar.Train, *flagBatchSize, false) // loops forever.\n",
    "    AssertNoError(err)\n",
    "    evalOnTestDS, err := cifar.NewDataset(\"Cifar-10 Eval On Test\", *flagDataDir, cifar.C10, DType, cifar.Test, EvalBatchSize, true) // 1 epoch.\n",
    "    AssertNoError(err)\n",
    "    evalOnTrainDS, err := cifar.NewDataset(\"Cifar-10 Eval On Train\", *flagDataDir, cifar.C10, DType, cifar.Train, EvalBatchSize, true) // 1 epoch.\n",
    "    AssertNoError(err)\n",
    "\n",
    "    // Create closure for model graph building function, that uses statically the dataset\n",
    "    // used for its `cifar.Dataset.GatherImageGraph`, to convert image indices to the actual images.\n",
    "    // This is the signature of model function that the train.Trainer accepts.\n",
    "    modelFn := FNNModelGraph\n",
    "    if *flagModel == \"cnn\" {\n",
    "        modelFn = CNNModelGraph\n",
    "    }\n",
    "\n",
    "    // Metrics we are interested.\n",
    "    meanAccuracyMetric := metrics.NewSparseCategoricalAccuracy(\"Mean Accuracy\", \"#acc\")\n",
    "    movingAccuracyMetric := metrics.NewMovingAverageSparseCategoricalAccuracy(\"Moving Average Accuracy\", \"~acc\", 0.01)\n",
    "\n",
    "    // Context holds the variables and hyperparameters for the model.\n",
    "    ctx := context.NewContext(manager)\n",
    "    ctx.SetParam(optimizers.LearningRateKey, *flagLearningRate)\n",
    "    ctx.SetParam(layers.L2RegularizationKey, *flagL2Regularization)\n",
    "\n",
    "    // Checkpoints saving.\n",
    "    var checkpoint *checkpoints.Handler\n",
    "    if *flagCheckpoint != \"\" {\n",
    "        checkpointPath := data.ReplaceTildeInDir(*flagCheckpoint)\n",
    "        if !path.IsAbs(checkpointPath) {\n",
    "            checkpointPath = path.Join(*flagDataDir, checkpointPath)\n",
    "        }\n",
    "        var err error\n",
    "        checkpoint, err = checkpoints.Build(ctx).Dir(checkpointPath).Keep(*flagCheckpointKeep).Done()\n",
    "        AssertNoError(err)\n",
    "    }\n",
    "\n",
    "    // Create a train.Trainer: this object will orchestrate running the model, feeding\n",
    "    // results to the optimizer, evaluating the metrics, etc. (all happens in trainer.TrainStep)\n",
    "    trainer := train.NewTrainer(manager, ctx, modelFn,\n",
    "        losses.SparseCategoricalCrossEntropyLogits,\n",
    "        optimizers.MustOptimizerByName(*flagOptimizer),\n",
    "        []metrics.Interface{movingAccuracyMetric}, // trainMetrics\n",
    "        []metrics.Interface{meanAccuracyMetric})   // evalMetrics\n",
    "\n",
    "    // Use standard training loop.\n",
    "    loop := train.NewLoop(trainer)\n",
    "    if *flagUseProgressBar {\n",
    "        commandline.AttachProgressBar(loop) // Attaches a progress bar to the loop.\n",
    "    }\n",
    "\n",
    "    // Attach a checkpoint.\n",
    "    if checkpoint != nil {\n",
    "        train.NTimesDuringLoop(loop, *flagCheckpointKeep, \"checkpointing\", 100, func(_ *train.Loop, _ []tensor.Tensor) error {\n",
    "            return checkpoint.Save()\n",
    "        })\n",
    "    }\n",
    "\n",
    "    // Attach a margaid plots.\n",
    "    if *flagNumPlotPoints > 0 {\n",
    "        margaid.New(1024, 400, evalOnTrainDS, evalOnTestDS).DynamicUpdates().Attach(loop, *flagNumPlotPoints)\n",
    "    }\n",
    "\n",
    "    // Loop for given number of steps.\n",
    "    _, err = loop.RunSteps(trainDS, *flagNumSteps)\n",
    "    AssertNoError(err)\n",
    "\n",
    "    // Finally print an evaluation on train and test datasets.\n",
    "    fmt.Println()\n",
    "    err = commandline.ReportEval(trainer, evalOnTrainDS, evalOnTestDS)\n",
    "    AssertNoError(err)\n",
    "    fmt.Println()\n",
    "\n",
    "    // Release memory -- not really needed since we are exiting, just for the example.\n",
    "    cifar.ResetCache()\n",
    "}\n",
    "\n",
    "%% --model=fnn --steps=500 --plot_points=0\n",
    "trainModel()"
   ]
  },
  {
   "cell_type": "markdown",
   "id": "300a8419-5679-42ba-9149-51c17c7c427d",
   "metadata": {},
   "source": [
    "### FNN Model Training\n",
    "\n",
    "Let's train the FNN for real this time."
   ]
  },
  {
   "cell_type": "code",
   "execution_count": 8,
   "id": "cf876f49-e737-4dfa-aa05-48aad3d7a128",
   "metadata": {
    "tags": []
   },
   "outputs": [
    {
     "name": "stdout",
     "output_type": "stream",
     "text": [
      "Platform: CUDA\n"
     ]
    },
    {
     "data": {
      "text/html": []
     },
     "metadata": {},
     "output_type": "display_data"
    },
    {
     "name": "stdout",
     "output_type": "stream",
     "text": [
      "Training (10000 steps):  100% [\u001b[32m=\u001b[0m\u001b[32m=\u001b[0m\u001b[32m=\u001b[0m\u001b[32m=\u001b[0m\u001b[32m=\u001b[0m\u001b[32m=\u001b[0m\u001b[32m=\u001b[0m\u001b[32m=\u001b[0m\u001b[32m=\u001b[0m\u001b[32m=\u001b[0m\u001b[32m=\u001b[0m\u001b[32m=\u001b[0m\u001b[32m=\u001b[0m\u001b[32m=\u001b[0m\u001b[32m=\u001b[0m\u001b[32m=\u001b[0m\u001b[32m=\u001b[0m\u001b[32m=\u001b[0m\u001b[32m=\u001b[0m\u001b[32m=\u001b[0m\u001b[32m=\u001b[0m\u001b[32m=\u001b[0m\u001b[32m=\u001b[0m\u001b[32m=\u001b[0m\u001b[32m=\u001b[0m\u001b[32m=\u001b[0m\u001b[32m=\u001b[0m\u001b[32m=\u001b[0m\u001b[32m=\u001b[0m\u001b[32m=\u001b[0m\u001b[32m=\u001b[0m\u001b[32m=\u001b[0m\u001b[32m=\u001b[0m\u001b[32m=\u001b[0m\u001b[32m=\u001b[0m\u001b[32m=\u001b[0m\u001b[32m=\u001b[0m\u001b[32m=\u001b[0m\u001b[32m=\u001b[0m\u001b[32m=\u001b[0m] (505 steps/s)\u001b[0m [loss=1.123] [~loss=1.398] [~acc=50.52%]        \n"
     ]
    },
    {
     "data": {
      "text/html": [
       "<svg style=\"background-color:#f8f8f8\" preserveAspectRatio=\"xMidYMid meet\" xmlns=\"http://www.w3.org/2000/svg\" width=\"1024\" height=\"454\" viewbox=\"0 0 1024 400\"><defs><marker refY=\"5\" markerUnits=\"userSpaceOnUse\" markerWidth=\"2%\" markerHeight=\"2%\" id=\"circle\" viewBox=\"0 0 10 10 \" refX=\"5\"><circle cx=\"5\" cy=\"5\" r=\"3\" fill=\"none\" stroke=\"black\"/></marker><marker markerWidth=\"2%\" markerHeight=\"2%\" id=\"filled-circle\" viewBox=\"0 0 10 10 \" refX=\"5\" refY=\"5\" markerUnits=\"userSpaceOnUse\"><circle fill=\"black\" stroke=\"none\" cx=\"5\" cy=\"5\" r=\"3\"/></marker><marker markerHeight=\"2%\" id=\"square\" viewBox=\"0 0 10 10 \" refX=\"5\" refY=\"5\" markerUnits=\"userSpaceOnUse\" markerWidth=\"2%\"><rect width=\"6\" height=\"6\" fill=\"none\" stroke=\"black\" x=\"2\" y=\"2\"/></marker><marker markerWidth=\"2%\" markerHeight=\"2%\" id=\"filled-square\" viewBox=\"0 0 10 10 \" refX=\"5\" refY=\"5\" markerUnits=\"userSpaceOnUse\"><rect height=\"6\" fill=\"black\" stroke=\"none\" x=\"2\" y=\"2\" width=\"6\"/></marker></defs><g stroke-linejoin=\"round\" marker-end=\"url(#square)\" transform=\"translate(70 330 )scale(1 -1 )\" fill=\"none\" stroke-linecap=\"round\" marker-start=\"url(#square)\" stroke=\"hsl(90, 47%, 65%)\" marker-mid=\"url(#square)\" stroke-width=\"2px\"><path d=\"M1.768000e+01,5.297277e+00 L3.456962e+01,1.231180e+02 L5.154412e+01,1.480440e+02 L6.851862e+01,1.541235e+02 L8.549312e+01,1.671336e+02 L1.024676e+02,1.668904e+02 L1.194421e+02,1.763745e+02 L1.364166e+02,1.838522e+02 L1.533911e+02,1.782591e+02 L1.703656e+02,1.912084e+02 L1.873401e+02,1.909653e+02 L2.043146e+02,1.893846e+02 L2.212891e+02,1.945522e+02 L2.382636e+02,2.050697e+02 L2.552381e+02,2.000237e+02 L2.722126e+02,1.960112e+02 L2.891871e+02,2.075623e+02 L3.061616e+02,2.095685e+02 L3.231361e+02,2.052521e+02 L3.401106e+02,2.108452e+02 L3.570851e+02,2.171679e+02 L3.740596e+02,2.124259e+02 L3.910341e+02,2.149793e+02 L4.080086e+02,2.221531e+02 L4.249831e+02,2.045225e+02 L4.419576e+02,2.193565e+02 L4.589321e+02,2.226395e+02 L4.759066e+02,2.236730e+02 L4.928811e+02,2.212412e+02 L5.098556e+02,2.242201e+02 L5.268301e+02,2.209372e+02 L5.438045e+02,2.211804e+02 L5.607790e+02,2.229434e+02 L5.777535e+02,2.306644e+02 L5.947280e+02,2.255576e+02 L6.117025e+02,2.318195e+02 L6.286770e+02,2.342513e+02 L6.456515e+02,2.285366e+02 L6.626260e+02,2.257400e+02 L6.796005e+02,2.299957e+02 L6.965750e+02,2.288406e+02 L7.135495e+02,2.359536e+02 L7.305240e+02,2.290229e+02 L7.474985e+02,2.365007e+02 L7.644730e+02,2.334610e+02 L7.814475e+02,2.322451e+02 L7.984220e+02,2.301173e+02 L8.153965e+02,2.372911e+02 L8.323710e+02,2.369263e+02 L8.493455e+02,2.323059e+02 L8.663200e+02,2.371087e+02 \" vector-effect=\"non-scaling-stroke\"/></g><g marker-start=\"url(#square)\" fill=\"none\" marker-end=\"url(#square)\" transform=\"translate(70 330 )scale(1 -1 )\" stroke-linecap=\"round\" marker-mid=\"url(#square)\" stroke-width=\"2px\" stroke=\"hsl(301, 88%, 65%)\" stroke-linejoin=\"round\"><path vector-effect=\"non-scaling-stroke\" d=\"M1.768000e+01,5.200000e+00 L3.456962e+01,1.218413e+02 L5.154412e+01,1.502326e+02 L6.851862e+01,1.533818e+02 L8.549312e+01,1.664649e+02 L1.024676e+02,1.689453e+02 L1.194421e+02,1.742831e+02 L1.364166e+02,1.835361e+02 L1.533911e+02,1.775174e+02 L1.703656e+02,1.885091e+02 L1.873401e+02,1.902357e+02 L2.043146e+02,1.900168e+02 L2.212891e+02,1.985281e+02 L2.382636e+02,2.065044e+02 L2.552381e+02,2.026379e+02 L2.722126e+02,1.967286e+02 L2.891871e+02,2.089241e+02 L3.061616e+02,2.126569e+02 L3.231361e+02,2.116477e+02 L3.401106e+02,2.159398e+02 L3.570851e+02,2.225665e+02 L3.740596e+02,2.174962e+02 L3.910341e+02,2.196240e+02 L4.080086e+02,2.240499e+02 L4.249831e+02,2.067719e+02 L4.419576e+02,2.245606e+02 L4.589321e+02,2.257035e+02 L4.759066e+02,2.298497e+02 L4.928811e+02,2.279772e+02 L5.098556e+02,2.309562e+02 L5.268301e+02,2.329989e+02 L5.438045e+02,2.296917e+02 L5.607790e+02,2.292296e+02 L5.777535e+02,2.401727e+02 L5.947280e+02,2.362818e+02 L6.117025e+02,2.409995e+02 L6.286770e+02,2.440150e+02 L6.456515e+02,2.377774e+02 L6.626260e+02,2.353091e+02 L6.796005e+02,2.394675e+02 L6.965750e+02,2.394918e+02 L7.135495e+02,2.464833e+02 L7.305240e+02,2.432003e+02 L7.474985e+02,2.459604e+02 L7.644730e+02,2.475897e+02 L7.814475e+02,2.460212e+02 L7.984220e+02,2.453889e+02 L8.153965e+02,2.492798e+02 L8.323710e+02,2.548000e+02 L8.493455e+02,2.488056e+02 L8.663200e+02,2.491947e+02 \"/></g><g stroke-width=\"2px\" stroke-linecap=\"round\" stroke=\"hsl(152, 76%, 65%)\" marker-start=\"url(#square)\" marker-end=\"url(#square)\" marker-mid=\"url(#square)\" fill=\"none\" stroke-linejoin=\"round\" transform=\"translate(70 330 )scale(1 -1 )\"><path vector-effect=\"non-scaling-stroke\" d=\"M1.768000e+01,2.991925e+01 L3.456962e+01,8.413510e+01 L5.154412e+01,1.303297e+02 L6.851862e+01,1.543479e+02 L8.549312e+01,1.634338e+02 L1.024676e+02,1.670581e+02 L1.194421e+02,1.680457e+02 L1.364166e+02,1.758234e+02 L1.533911e+02,1.839335e+02 L1.703656e+02,1.853979e+02 L1.873401e+02,1.878619e+02 L2.043146e+02,1.886348e+02 L2.212891e+02,1.951356e+02 L2.382636e+02,1.998093e+02 L2.552381e+02,2.080525e+02 L2.722126e+02,2.014683e+02 L2.891871e+02,2.101824e+02 L3.061616e+02,2.112961e+02 L3.231361e+02,2.064203e+02 L3.401106e+02,2.179207e+02 L3.570851e+02,2.121212e+02 L3.740596e+02,2.125668e+02 L3.910341e+02,2.120082e+02 L4.080086e+02,2.186164e+02 L4.249831e+02,2.202116e+02 L4.419576e+02,2.276048e+02 L4.589321e+02,2.278214e+02 L4.759066e+02,2.287050e+02 L4.928811e+02,2.270698e+02 L5.098556e+02,2.211180e+02 L5.268301e+02,2.307548e+02 L5.438045e+02,2.338527e+02 L5.607790e+02,2.337653e+02 L5.777535e+02,2.335780e+02 L5.947280e+02,2.358015e+02 L6.117025e+02,2.378611e+02 L6.286770e+02,2.397555e+02 L6.456515e+02,2.354357e+02 L6.626260e+02,2.381241e+02 L6.796005e+02,2.369195e+02 L6.965750e+02,2.395927e+02 L7.135495e+02,2.453636e+02 L7.305240e+02,2.484372e+02 L7.474985e+02,2.399570e+02 L7.644730e+02,2.450826e+02 L7.814475e+02,2.438010e+02 L7.984220e+02,2.412878e+02 L8.153965e+02,2.476688e+02 L8.323710e+02,2.462161e+02 L8.493455e+02,2.403925e+02 L8.663200e+02,2.519154e+02 \"/></g><g transform=\"translate(70 330 )scale(1 -1 )\" stroke-width=\"2px\" stroke-linecap=\"round\" fill=\"none\" stroke=\"black\" stroke-linejoin=\"round\"><path vector-effect=\"non-scaling-stroke\" d=\"M1.768000e+01,0 L1.768000e+01,-6 M1.025525e+02,0 L1.025525e+02,-6 M1.874250e+02,0 L1.874250e+02,-6 M2.722975e+02,0 L2.722975e+02,-6 M3.571699e+02,0 L3.571699e+02,-6 M4.420424e+02,0 L4.420424e+02,-6 M5.269149e+02,0 L5.269149e+02,-6 M6.117874e+02,0 L6.117874e+02,-6 M6.966599e+02,0 L6.966599e+02,-6 M7.815324e+02,0 L7.815324e+02,-6 \"/></g><g transform=\"translate(70 330 )scale(1 1 )\" font-weight=\"normal\" text-anchor=\"middle\" stroke-width=\"2px\" stroke-linecap=\"round\" font-size=\"12px\" stroke=\"black\" dominant-baseline=\"hanging\" font-family=\"sans-serif\" font-style=\"normal\" fill=\"black\" stroke-linejoin=\"round\"><text dominant-baseline=\"hanging\" stroke=\"none\" vector-effect=\"non-scaling-stroke\" x=\"1.768000e+01\" y=\"10\">0</text><text y=\"10\" dominant-baseline=\"hanging\" stroke=\"none\" vector-effect=\"non-scaling-stroke\" x=\"1.025525e+02\">1000</text><text stroke=\"none\" vector-effect=\"non-scaling-stroke\" x=\"1.874250e+02\" y=\"10\" dominant-baseline=\"hanging\">2000</text><text vector-effect=\"non-scaling-stroke\" x=\"2.722975e+02\" y=\"10\" dominant-baseline=\"hanging\" stroke=\"none\">3000</text><text dominant-baseline=\"hanging\" stroke=\"none\" vector-effect=\"non-scaling-stroke\" x=\"3.571699e+02\" y=\"10\">4000</text><text dominant-baseline=\"hanging\" stroke=\"none\" vector-effect=\"non-scaling-stroke\" x=\"4.420424e+02\" y=\"10\">5000</text><text x=\"5.269149e+02\" y=\"10\" dominant-baseline=\"hanging\" stroke=\"none\" vector-effect=\"non-scaling-stroke\">6000</text><text stroke=\"none\" vector-effect=\"non-scaling-stroke\" x=\"6.117874e+02\" y=\"10\" dominant-baseline=\"hanging\">7000</text><text x=\"6.966599e+02\" y=\"10\" dominant-baseline=\"hanging\" stroke=\"none\" vector-effect=\"non-scaling-stroke\">8000</text><text stroke=\"none\" vector-effect=\"non-scaling-stroke\" x=\"7.815324e+02\" y=\"10\" dominant-baseline=\"hanging\">9000</text></g><g font-size=\"12px\" stroke=\"black\" stroke-linejoin=\"round\" transform=\"translate(70 330 )scale(1 1 )rotate(0 0 0 )\" font-weight=\"bold\" text-anchor=\"middle\" font-family=\"sans-serif\" fill=\"black\" dominant-baseline=\"baseline\" stroke-width=\"2px\" stroke-linecap=\"round\" font-style=\"normal\"><text stroke=\"none\" vector-effect=\"non-scaling-stroke\" x=\"442\" y=\"-6\" dominant-baseline=\"baseline\">Steps</text></g><g transform=\"translate(70 330 )scale(1 -1 )\" font-style=\"normal\" text-anchor=\"middle\" dominant-baseline=\"baseline\" font-family=\"sans-serif\" stroke-width=\"2px\" stroke-linecap=\"round\" font-size=\"12px\" fill=\"black\" stroke=\"black\" stroke-linejoin=\"round\" font-weight=\"bold\"><path vector-effect=\"non-scaling-stroke\" d=\"M0,5.601248e+00 L-6,5.601248e+00 M0,6.639626e+01 L-6,6.639626e+01 M0,1.271913e+02 L-6,1.271913e+02 M0,1.879863e+02 L-6,1.879863e+02 M0,2.487813e+02 L-6,2.487813e+02 \"/></g><g transform=\"translate(70 330 )scale(1 1 )\" stroke-width=\"2px\" font-style=\"normal\" font-weight=\"normal\" fill=\"black\" stroke=\"black\" stroke-linejoin=\"round\" text-anchor=\"end\" dominant-baseline=\"middle\" font-size=\"12px\" stroke-linecap=\"round\" font-family=\"sans-serif\"><text vector-effect=\"non-scaling-stroke\" x=\"-10\" y=\"-5.601248e+00\" dominant-baseline=\"middle\" stroke=\"none\">0.100</text><text stroke=\"none\" vector-effect=\"non-scaling-stroke\" x=\"-10\" y=\"-6.639626e+01\" dominant-baseline=\"middle\">0.200</text><text y=\"-1.271913e+02\" dominant-baseline=\"middle\" stroke=\"none\" vector-effect=\"non-scaling-stroke\" x=\"-10\">0.300</text><text stroke=\"none\" vector-effect=\"non-scaling-stroke\" x=\"-10\" y=\"-1.879863e+02\" dominant-baseline=\"middle\">0.400</text><text stroke=\"none\" vector-effect=\"non-scaling-stroke\" x=\"-10\" y=\"-2.487813e+02\" dominant-baseline=\"middle\">0.500</text></g><g stroke-linejoin=\"round\" dominant-baseline=\"hanging\" stroke-width=\"2px\" stroke-linecap=\"round\" transform=\"translate(70 330 )scale(1 1 )rotate(-90 0 0 )\" fill=\"black\" stroke=\"black\" font-style=\"normal\" font-weight=\"bold\" text-anchor=\"middle\" font-family=\"sans-serif\" font-size=\"12px\"><text stroke=\"none\" vector-effect=\"non-scaling-stroke\" x=\"130\" y=\"6\" dominant-baseline=\"hanging\">accuracy</text></g><g font-size=\"12px\" text-anchor=\"middle\" dominant-baseline=\"hanging\" stroke-width=\"0.5px\" stroke-linecap=\"round\" font-style=\"normal\" stroke=\"gray\" stroke-linejoin=\"round\" font-weight=\"bold\" font-family=\"sans-serif\" fill=\"black\" transform=\"translate(70 330 )scale(1 -1 )\"><path vector-effect=\"non-scaling-stroke\" d=\"M0,5.601248e+00 L884,5.601248e+00 M0,6.639626e+01 L884,6.639626e+01 M0,1.271913e+02 L884,1.271913e+02 M0,1.879863e+02 L884,1.879863e+02 M0,2.487813e+02 L884,2.487813e+02 \"/></g><g text-anchor=\"middle\" font-style=\"normal\" font-size=\"12px\" stroke-linejoin=\"round\" font-family=\"sans-serif\" fill=\"none\" stroke=\"black\" font-weight=\"bold\" dominant-baseline=\"hanging\" stroke-width=\"2px\" stroke-linecap=\"round\"><rect vector-effect=\"non-scaling-stroke\" x=\"70\" y=\"70\" width=\"884\" height=\"260\"/><g fill=\"black\" font-size=\"18px\" dominant-baseline=\"middle\"><text stroke=\"none\" vector-effect=\"non-scaling-stroke\" x=\"512\" y=\"35\" dominant-baseline=\"middle\">accuracy metrics</text></g><g font-size=\"12px\" font-style=\"normal\" text-anchor=\"start\" dominant-baseline=\"hanging\" stroke-width=\"1px\" stroke-linejoin=\"round\" fill=\"hsl(90, 47%, 65%)\" stroke=\"hsl(90, 47%, 65%)\" font-family=\"sans-serif\" font-weight=\"normal\" stroke-linecap=\"round\"><rect height=\"12\" vector-effect=\"non-scaling-stroke\" x=\"76\" y=\"366\" width=\"12\"/><g stroke=\"black\" fill=\"black\"><text dominant-baseline=\"hanging\" stroke=\"none\" vector-effect=\"non-scaling-stroke\" x=\"92\" y=\"366\">Eval on Cifar-10 Eval On Test: Mean Accuracy</text></g><g dominant-baseline=\"hanging\" stroke=\"hsl(301, 88%, 65%)\" font-size=\"12px\" stroke-width=\"1px\" font-style=\"normal\" font-weight=\"normal\" text-anchor=\"start\" fill=\"hsl(301, 88%, 65%)\" stroke-linejoin=\"round\" stroke-linecap=\"round\" font-family=\"sans-serif\"><rect width=\"12\" height=\"12\" vector-effect=\"non-scaling-stroke\" x=\"76\" y=\"384\"/><g fill=\"black\" stroke=\"black\"><text y=\"384\" dominant-baseline=\"hanging\" stroke=\"none\" vector-effect=\"non-scaling-stroke\" x=\"92\">Eval on Cifar-10 Eval On Train: Mean Accuracy</text></g><g font-size=\"12px\" stroke=\"hsl(152, 76%, 65%)\" stroke-linecap=\"round\" stroke-linejoin=\"round\" font-weight=\"normal\" text-anchor=\"start\" dominant-baseline=\"hanging\" stroke-width=\"1px\" fill=\"hsl(152, 76%, 65%)\" font-family=\"sans-serif\" font-style=\"normal\"><rect x=\"76\" y=\"402\" width=\"12\" height=\"12\" vector-effect=\"non-scaling-stroke\"/><g fill=\"black\" stroke=\"black\"><text x=\"92\" y=\"402\" dominant-baseline=\"hanging\" stroke=\"none\" vector-effect=\"non-scaling-stroke\">Train: Moving Average Accuracy</text></g></g></g></g></g></svg>"
      ]
     },
     "metadata": {},
     "output_type": "display_data"
    },
    {
     "name": "stdout",
     "output_type": "stream",
     "text": [
      "\n",
      "Results on Cifar-10 Eval On Train:\n"
     ]
    },
    {
     "data": {
      "text/html": [
       "<svg preserveAspectRatio=\"xMidYMid meet\" xmlns=\"http://www.w3.org/2000/svg\" width=\"1024\" height=\"472\" viewbox=\"0 0 1024 400\" style=\"background-color:#f8f8f8\"><defs><marker refX=\"5\" refY=\"5\" markerUnits=\"userSpaceOnUse\" markerWidth=\"2%\" markerHeight=\"2%\" id=\"circle\" viewBox=\"0 0 10 10 \"><circle cy=\"5\" r=\"3\" fill=\"none\" stroke=\"black\" cx=\"5\"/></marker><marker refY=\"5\" markerUnits=\"userSpaceOnUse\" markerWidth=\"2%\" markerHeight=\"2%\" id=\"filled-circle\" viewBox=\"0 0 10 10 \" refX=\"5\"><circle cx=\"5\" cy=\"5\" r=\"3\" fill=\"black\" stroke=\"none\"/></marker><marker id=\"square\" viewBox=\"0 0 10 10 \" refX=\"5\" refY=\"5\" markerUnits=\"userSpaceOnUse\" markerWidth=\"2%\" markerHeight=\"2%\"><rect x=\"2\" y=\"2\" width=\"6\" height=\"6\" fill=\"none\" stroke=\"black\"/></marker><marker markerHeight=\"2%\" id=\"filled-square\" viewBox=\"0 0 10 10 \" refX=\"5\" refY=\"5\" markerUnits=\"userSpaceOnUse\" markerWidth=\"2%\"><rect y=\"2\" width=\"6\" height=\"6\" fill=\"black\" stroke=\"none\" x=\"2\"/></marker></defs><g stroke-width=\"2px\" stroke=\"hsl(90, 47%, 65%)\" transform=\"translate(70 330 )scale(1 -1 )\" fill=\"none\" stroke-linejoin=\"round\" marker-start=\"url(#square)\" marker-mid=\"url(#square)\" stroke-linecap=\"round\" marker-end=\"url(#square)\"><path vector-effect=\"non-scaling-stroke\" d=\"M1.768000e+01,2.547264e+02 L3.456962e+01,1.863854e+02 L5.154412e+01,1.648464e+02 L6.851862e+01,1.536158e+02 L8.549312e+01,1.440319e+02 L1.024676e+02,1.425721e+02 L1.194421e+02,1.353534e+02 L1.364166e+02,1.271555e+02 L1.533911e+02,1.285837e+02 L1.703656e+02,1.202914e+02 L1.873401e+02,1.196553e+02 L2.043146e+02,1.199406e+02 L2.212891e+02,1.132467e+02 L2.382636e+02,1.068473e+02 L2.552381e+02,1.081133e+02 L2.722126e+02,1.140381e+02 L2.891871e+02,1.027861e+02 L3.061616e+02,1.003256e+02 L3.231361e+02,1.006774e+02 L3.401106e+02,9.946890e+01 L3.570851e+02,9.349867e+01 L3.740596e+02,9.710334e+01 L3.910341e+02,9.543952e+01 L4.080086e+02,9.175091e+01 L4.249831e+02,1.042011e+02 L4.419576e+02,9.089284e+01 L4.589321e+02,9.041611e+01 L4.759066e+02,8.794947e+01 L4.928811e+02,8.969579e+01 L5.098556e+02,8.499572e+01 L5.268301e+02,8.538689e+01 L5.438045e+02,8.747649e+01 L5.607790e+02,8.767063e+01 L5.777535e+02,8.164946e+01 L5.947280e+02,8.197456e+01 L6.117025e+02,7.900789e+01 L6.286770e+02,7.649582e+01 L6.456515e+02,8.158004e+01 L6.626260e+02,8.363432e+01 L6.796005e+02,8.100870e+01 L6.965750e+02,8.287220e+01 L7.135495e+02,7.608873e+01 L7.305240e+02,7.940152e+01 L7.474985e+02,7.636585e+01 L7.644730e+02,7.640232e+01 L7.814475e+02,7.731840e+01 L7.984220e+02,7.929989e+01 L8.153965e+02,7.515599e+01 L8.323710e+02,7.152226e+01 L8.493455e+02,7.648951e+01 L8.663200e+02,7.561163e+01 \"/></g><g fill=\"none\" stroke=\"hsl(301, 88%, 65%)\" marker-end=\"url(#square)\" stroke-width=\"2px\" stroke-linejoin=\"round\" marker-start=\"url(#square)\" marker-mid=\"url(#square)\" transform=\"translate(70 330 )scale(1 -1 )\" stroke-linecap=\"round\"><path d=\"M1.768000e+01,2.548000e+02 L3.456962e+01,1.864591e+02 L5.154412e+01,1.643583e+02 L6.851862e+01,1.535138e+02 L8.549312e+01,1.439132e+02 L1.024676e+02,1.423561e+02 L1.194421e+02,1.346131e+02 L1.364166e+02,1.268265e+02 L1.533911e+02,1.284906e+02 L1.703656e+02,1.198587e+02 L1.873401e+02,1.188664e+02 L2.043146e+02,1.195218e+02 L2.212891e+02,1.124581e+02 L2.382636e+02,1.057807e+02 L2.552381e+02,1.072765e+02 L2.722126e+02,1.124480e+02 L2.891871e+02,1.008516e+02 L3.061616e+02,9.742319e+01 L3.231361e+02,9.749729e+01 L3.401106e+02,9.578419e+01 L3.570851e+02,8.976533e+01 L3.740596e+02,9.263348e+01 L3.910341e+02,9.194322e+01 L4.080086e+02,8.724474e+01 L4.249831e+02,1.009995e+02 L4.419576e+02,8.611326e+01 L4.589321e+02,8.532390e+01 L4.759066e+02,8.157010e+01 L4.928811e+02,8.383017e+01 L5.098556e+02,7.926368e+01 L5.268301e+02,7.807767e+01 L5.438045e+02,8.027415e+01 L5.607790e+02,8.066795e+01 L5.777535e+02,7.336278e+01 L5.947280e+02,7.348964e+01 L6.117025e+02,7.028888e+01 L6.286770e+02,6.825687e+01 L6.456515e+02,7.204858e+01 L6.626260e+02,7.407496e+01 L6.796005e+02,7.112762e+01 L6.965750e+02,7.281587e+01 L7.135495e+02,6.551527e+01 L7.305240e+02,6.915453e+01 L7.474985e+02,6.526311e+01 L7.644730e+02,6.338186e+01 L7.814475e+02,6.507647e+01 L7.984220e+02,6.558164e+01 L8.153965e+02,6.252844e+01 L8.323710e+02,5.823686e+01 L8.493455e+02,6.339997e+01 L8.663200e+02,6.198294e+01 \" vector-effect=\"non-scaling-stroke\"/></g><g fill=\"none\" stroke-width=\"2px\" stroke-linejoin=\"round\" marker-mid=\"url(#square)\" stroke=\"hsl(152, 76%, 65%)\" marker-end=\"url(#square)\" marker-start=\"url(#square)\" transform=\"translate(70 330 )scale(1 -1 )\" stroke-linecap=\"round\"><path vector-effect=\"non-scaling-stroke\" d=\"M1.768000e+01,2.442881e+02 L3.456962e+01,1.706899e+02 L5.154412e+01,1.466290e+02 L6.851862e+01,1.623976e+02 L8.549312e+01,1.224727e+02 L1.024676e+02,1.651190e+02 L1.194421e+02,1.344169e+02 L1.364166e+02,1.343763e+02 L1.533911e+02,1.653676e+02 L1.703656e+02,1.038758e+02 L1.873401e+02,8.564204e+01 L2.043146e+02,8.976745e+01 L2.212891e+02,1.242176e+02 L2.382636e+02,1.059918e+02 L2.552381e+02,1.014598e+02 L2.722126e+02,5.274165e+01 L2.891871e+02,6.089731e+01 L3.061616e+02,1.019990e+02 L3.231361e+02,1.013124e+02 L3.401106e+02,1.154248e+02 L3.570851e+02,1.109828e+02 L3.740596e+02,1.295233e+02 L3.910341e+02,1.076414e+02 L4.080086e+02,1.099339e+02 L4.249831e+02,1.124808e+02 L4.419576e+02,1.133094e+02 L4.589321e+02,8.478821e+01 L4.759066e+02,1.225363e+02 L4.928811e+02,9.528375e+01 L5.098556e+02,6.305734e+01 L5.268301e+02,4.158501e+01 L5.438045e+02,8.850111e+01 L5.607790e+02,7.383932e+01 L5.777535e+02,9.681688e+01 L5.947280e+02,8.917837e+01 L6.117025e+02,7.345069e+01 L6.286770e+02,5.618054e+01 L6.456515e+02,1.314992e+02 L6.626260e+02,1.151482e+02 L6.796005e+02,1.973517e+01 L6.965750e+02,9.113918e+01 L7.135495e+02,6.428774e+01 L7.305240e+02,6.523271e+01 L7.474985e+02,3.369506e+01 L7.644730e+02,5.527276e+01 L7.814475e+02,9.969314e+01 L7.984220e+02,7.152698e+01 L8.153965e+02,3.826793e+01 L8.323710e+02,8.195333e+01 L8.493455e+02,6.344746e+01 L8.663200e+02,5.200000e+00 \"/></g><g stroke-width=\"2px\" marker-start=\"url(#square)\" transform=\"translate(70 330 )scale(1 -1 )\" fill=\"none\" stroke=\"hsl(3, 64%, 65%)\" stroke-linecap=\"round\" stroke-linejoin=\"round\" marker-mid=\"url(#square)\" marker-end=\"url(#square)\"><path d=\"M1.768000e+01,2.442881e+02 L3.456962e+01,2.086879e+02 L5.154412e+01,1.761285e+02 L6.851862e+01,1.571906e+02 L8.549312e+01,1.478073e+02 L1.024676e+02,1.427252e+02 L1.194421e+02,1.382421e+02 L1.364166e+02,1.317059e+02 L1.533911e+02,1.249873e+02 L1.703656e+02,1.231921e+02 L1.873401e+02,1.202493e+02 L2.043146e+02,1.177950e+02 L2.212891e+02,1.145688e+02 L2.382636e+02,1.124875e+02 L2.552381e+02,1.048043e+02 L2.722126e+02,1.099341e+02 L2.891871e+02,1.035285e+02 L3.061616e+02,1.003387e+02 L3.231361e+02,1.007817e+02 L3.401106e+02,9.474792e+01 L3.570851e+02,9.585191e+01 L3.740596e+02,9.432790e+01 L3.910341e+02,9.410133e+01 L4.080086e+02,9.266013e+01 L4.249831e+02,9.034567e+01 L4.419576e+02,8.563973e+01 L4.589321e+02,8.355834e+01 L4.759066e+02,8.297071e+01 L4.928811e+02,8.278932e+01 L5.098556e+02,8.836554e+01 L5.268301e+02,8.154648e+01 L5.438045e+02,8.002924e+01 L5.607790e+02,7.904327e+01 L5.777535e+02,7.644984e+01 L5.947280e+02,7.468101e+01 L6.117025e+02,7.464592e+01 L6.286770e+02,7.406644e+01 L6.456515e+02,7.549103e+01 L6.626260e+02,6.924235e+01 L6.796005e+02,7.248341e+01 L6.965750e+02,7.022482e+01 L7.135495e+02,6.637430e+01 L7.305240e+02,6.687164e+01 L7.474985e+02,6.912302e+01 L7.644730e+02,6.912931e+01 L7.814475e+02,6.698141e+01 L7.984220e+02,6.651312e+01 L8.153965e+02,6.426913e+01 L8.323710e+02,6.412669e+01 L8.493455e+02,6.748156e+01 L8.663200e+02,6.076058e+01 \" vector-effect=\"non-scaling-stroke\"/></g><g stroke-linecap=\"round\" fill=\"none\" stroke-width=\"2px\" stroke-linejoin=\"round\" transform=\"translate(70 330 )scale(1 -1 )\" stroke=\"black\"><path d=\"M1.768000e+01,0 L1.768000e+01,-6 M1.025525e+02,0 L1.025525e+02,-6 M1.874250e+02,0 L1.874250e+02,-6 M2.722975e+02,0 L2.722975e+02,-6 M3.571699e+02,0 L3.571699e+02,-6 M4.420424e+02,0 L4.420424e+02,-6 M5.269149e+02,0 L5.269149e+02,-6 M6.117874e+02,0 L6.117874e+02,-6 M6.966599e+02,0 L6.966599e+02,-6 M7.815324e+02,0 L7.815324e+02,-6 \" vector-effect=\"non-scaling-stroke\"/></g><g stroke-width=\"2px\" stroke-linejoin=\"round\" font-style=\"normal\" stroke=\"black\" stroke-linecap=\"round\" font-size=\"12px\" dominant-baseline=\"hanging\" fill=\"black\" text-anchor=\"middle\" font-family=\"sans-serif\" font-weight=\"normal\" transform=\"translate(70 330 )scale(1 1 )\"><text y=\"10\" dominant-baseline=\"hanging\" stroke=\"none\" vector-effect=\"non-scaling-stroke\" x=\"1.768000e+01\">0</text><text dominant-baseline=\"hanging\" stroke=\"none\" vector-effect=\"non-scaling-stroke\" x=\"1.025525e+02\" y=\"10\">1000</text><text dominant-baseline=\"hanging\" stroke=\"none\" vector-effect=\"non-scaling-stroke\" x=\"1.874250e+02\" y=\"10\">2000</text><text y=\"10\" dominant-baseline=\"hanging\" stroke=\"none\" vector-effect=\"non-scaling-stroke\" x=\"2.722975e+02\">3000</text><text x=\"3.571699e+02\" y=\"10\" dominant-baseline=\"hanging\" stroke=\"none\" vector-effect=\"non-scaling-stroke\">4000</text><text y=\"10\" dominant-baseline=\"hanging\" stroke=\"none\" vector-effect=\"non-scaling-stroke\" x=\"4.420424e+02\">5000</text><text x=\"5.269149e+02\" y=\"10\" dominant-baseline=\"hanging\" stroke=\"none\" vector-effect=\"non-scaling-stroke\">6000</text><text x=\"6.117874e+02\" y=\"10\" dominant-baseline=\"hanging\" stroke=\"none\" vector-effect=\"non-scaling-stroke\">7000</text><text x=\"6.966599e+02\" y=\"10\" dominant-baseline=\"hanging\" stroke=\"none\" vector-effect=\"non-scaling-stroke\">8000</text><text stroke=\"none\" vector-effect=\"non-scaling-stroke\" x=\"7.815324e+02\" y=\"10\" dominant-baseline=\"hanging\">9000</text></g><g font-weight=\"bold\" transform=\"translate(70 330 )scale(1 1 )rotate(0 0 0 )\" fill=\"black\" font-family=\"sans-serif\" font-size=\"12px\" stroke-linecap=\"round\" stroke-linejoin=\"round\" font-style=\"normal\" text-anchor=\"middle\" stroke-width=\"2px\" dominant-baseline=\"baseline\" stroke=\"black\"><text stroke=\"none\" vector-effect=\"non-scaling-stroke\" x=\"442\" y=\"-6\" dominant-baseline=\"baseline\">Steps</text></g><g stroke-linejoin=\"round\" transform=\"translate(70 330 )scale(1 -1 )\" dominant-baseline=\"baseline\" stroke=\"black\" stroke-linecap=\"round\" font-family=\"sans-serif\" text-anchor=\"middle\" fill=\"black\" font-size=\"12px\" font-weight=\"bold\" stroke-width=\"2px\" font-style=\"normal\"><path vector-effect=\"non-scaling-stroke\" d=\"M0,2.075471e+01 L-6,2.075471e+01 M0,8.133527e+01 L-6,8.133527e+01 M0,1.419158e+02 L-6,1.419158e+02 M0,2.024964e+02 L-6,2.024964e+02 \"/></g><g text-anchor=\"end\" fill=\"black\" font-family=\"sans-serif\" font-weight=\"normal\" dominant-baseline=\"middle\" stroke=\"black\" stroke-linecap=\"round\" stroke-linejoin=\"round\" transform=\"translate(70 330 )scale(1 1 )\" font-style=\"normal\" font-size=\"12px\" stroke-width=\"2px\"><text x=\"-10\" y=\"-2.075471e+01\" dominant-baseline=\"middle\" stroke=\"none\" vector-effect=\"non-scaling-stroke\">1.200</text><text vector-effect=\"non-scaling-stroke\" x=\"-10\" y=\"-8.133527e+01\" dominant-baseline=\"middle\" stroke=\"none\">1.500</text><text x=\"-10\" y=\"-1.419158e+02\" dominant-baseline=\"middle\" stroke=\"none\" vector-effect=\"non-scaling-stroke\">1.800</text><text stroke=\"none\" vector-effect=\"non-scaling-stroke\" x=\"-10\" y=\"-2.024964e+02\" dominant-baseline=\"middle\">2.100</text></g><g stroke=\"black\" font-size=\"12px\" transform=\"translate(70 330 )scale(1 1 )rotate(-90 0 0 )\" stroke-width=\"2px\" stroke-linejoin=\"round\" font-style=\"normal\" stroke-linecap=\"round\" font-family=\"sans-serif\" font-weight=\"bold\" dominant-baseline=\"hanging\" fill=\"black\" text-anchor=\"middle\"><text vector-effect=\"non-scaling-stroke\" x=\"130\" y=\"6\" dominant-baseline=\"hanging\" stroke=\"none\">loss</text></g><g stroke-width=\"0.5px\" transform=\"translate(70 330 )scale(1 -1 )\" stroke-linecap=\"round\" font-family=\"sans-serif\" font-size=\"12px\" font-weight=\"bold\" dominant-baseline=\"hanging\" stroke=\"gray\" font-style=\"normal\" text-anchor=\"middle\" stroke-linejoin=\"round\" fill=\"black\"><path vector-effect=\"non-scaling-stroke\" d=\"M0,2.075471e+01 L884,2.075471e+01 M0,8.133527e+01 L884,8.133527e+01 M0,1.419158e+02 L884,1.419158e+02 M0,2.024964e+02 L884,2.024964e+02 \"/></g><g text-anchor=\"middle\" stroke-linejoin=\"round\" stroke-linecap=\"round\" font-size=\"12px\" font-style=\"normal\" fill=\"none\" stroke-width=\"2px\" font-weight=\"bold\" dominant-baseline=\"hanging\" stroke=\"black\" font-family=\"sans-serif\"><rect y=\"70\" width=\"884\" height=\"260\" vector-effect=\"non-scaling-stroke\" x=\"70\"/><g dominant-baseline=\"middle\" font-size=\"18px\" fill=\"black\"><text stroke=\"none\" vector-effect=\"non-scaling-stroke\" x=\"512\" y=\"35\" dominant-baseline=\"middle\">loss metrics</text></g><g font-family=\"sans-serif\" font-size=\"12px\" font-weight=\"normal\" fill=\"hsl(90, 47%, 65%)\" font-style=\"normal\" text-anchor=\"start\" stroke-linecap=\"round\" dominant-baseline=\"hanging\" stroke=\"hsl(90, 47%, 65%)\" stroke-width=\"1px\" stroke-linejoin=\"round\"><rect width=\"12\" height=\"12\" vector-effect=\"non-scaling-stroke\" x=\"76\" y=\"366\"/><g fill=\"black\" stroke=\"black\"><text vector-effect=\"non-scaling-stroke\" x=\"92\" y=\"366\" dominant-baseline=\"hanging\" stroke=\"none\">Eval on Cifar-10 Eval On Test: Mean Loss</text></g><g stroke=\"hsl(301, 88%, 65%)\" stroke-linecap=\"round\" font-size=\"12px\" font-weight=\"normal\" fill=\"hsl(301, 88%, 65%)\" text-anchor=\"start\" font-family=\"sans-serif\" dominant-baseline=\"hanging\" stroke-width=\"1px\" stroke-linejoin=\"round\" font-style=\"normal\"><rect y=\"384\" width=\"12\" height=\"12\" vector-effect=\"non-scaling-stroke\" x=\"76\"/><g stroke=\"black\" fill=\"black\"><text vector-effect=\"non-scaling-stroke\" x=\"92\" y=\"384\" dominant-baseline=\"hanging\" stroke=\"none\">Eval on Cifar-10 Eval On Train: Mean Loss</text></g><g font-style=\"normal\" stroke-linecap=\"round\" font-family=\"sans-serif\" font-weight=\"normal\" fill=\"hsl(152, 76%, 65%)\" stroke-linejoin=\"round\" stroke=\"hsl(152, 76%, 65%)\" font-size=\"12px\" dominant-baseline=\"hanging\" stroke-width=\"1px\" text-anchor=\"start\"><rect x=\"76\" y=\"402\" width=\"12\" height=\"12\" vector-effect=\"non-scaling-stroke\"/><g stroke=\"black\" fill=\"black\"><text x=\"92\" y=\"402\" dominant-baseline=\"hanging\" stroke=\"none\" vector-effect=\"non-scaling-stroke\">Train: Batch Loss</text></g><g stroke-linecap=\"round\" stroke-linejoin=\"round\" font-size=\"12px\" font-weight=\"normal\" stroke=\"hsl(3, 64%, 65%)\" text-anchor=\"start\" fill=\"hsl(3, 64%, 65%)\" stroke-width=\"1px\" font-family=\"sans-serif\" dominant-baseline=\"hanging\" font-style=\"normal\"><rect height=\"12\" vector-effect=\"non-scaling-stroke\" x=\"76\" y=\"420\" width=\"12\"/><g stroke=\"black\" fill=\"black\"><text stroke=\"none\" vector-effect=\"non-scaling-stroke\" x=\"92\" y=\"420\" dominant-baseline=\"hanging\">Train: Moving Average Loss</text></g></g></g></g></g></g></svg>"
      ]
     },
     "metadata": {},
     "output_type": "display_data"
    },
    {
     "name": "stdout",
     "output_type": "stream",
     "text": [
      "\tMean Loss (#loss): 1.404\n",
      "\tMean Accuracy (#acc): 50.07%\n",
      "Results on Cifar-10 Eval On Test:\n",
      "\tMean Loss (#loss): 1.472\n",
      "\tMean Accuracy (#acc): 48.08%\n",
      "\n"
     ]
    }
   ],
   "source": [
    "%% --model=fnn --steps=10000 --norm=layer\n",
    "trainModel()"
   ]
  },
  {
   "cell_type": "markdown",
   "id": "942fdb36-4fbe-4ccf-9958-c8b67b036ada",
   "metadata": {},
   "source": [
    "### CNN model for Cifar-10\n",
    "\n",
    "Let's now properly define our CNN model to compare:"
   ]
  },
  {
   "cell_type": "code",
   "execution_count": 9,
   "id": "e27dc442-c3aa-4ec5-98e9-e5321b474785",
   "metadata": {
    "tags": []
   },
   "outputs": [
    {
     "name": "stdout",
     "output_type": "stream",
     "text": [
      "Logits shape for batch_size=3: (Float32)[3 10]\n"
     ]
    }
   ],
   "source": [
    "import (\n",
    "    . \"github.com/gomlx/gomlx/graph\"\n",
    "    \"github.com/gomlx/gomlx/examples/cifar\"\n",
    "    \"github.com/gomlx/gomlx/ml/context\"\n",
    "    \"github.com/gomlx/gomlx/types/shapes\"\n",
    ")\n",
    "\n",
    "func CNNModelGraph(ctx *context.Context, spec any, inputs []*Node) []*Node {\n",
    "    g := inputs[0].Graph()\n",
    "    if !g.Ok() {\n",
    "        return nil\n",
    "    }\n",
    "    batchedImages := getBatchedImages(ctx, spec, inputs)\n",
    "    if !g.Ok() {\n",
    "        return nil\n",
    "    }\n",
    "    batchSize := batchedImages.Shape().Dimensions[0]\n",
    "    logits := batchedImages\n",
    "    {\n",
    "        ctx := ctx.In(\"conv_0\")\n",
    "        logits = layers.Convolution(ctx, logits).Filters(32).KernelSize(3).Done()\n",
    "        logits = normalizeImage(ctx, logits)\n",
    "        logits = layers.Relu(logits)\n",
    "        logits = MaxPool(logits).Window(2).Done()\n",
    "    }\n",
    "    {\n",
    "        ctx := ctx.In(\"conv_1\")\n",
    "        logits = layers.Convolution(ctx, logits).Filters(64).KernelSize(3).Done()\n",
    "        logits = normalizeImage(ctx, logits)\n",
    "        logits = layers.Relu(logits)\n",
    "        logits = MaxPool(logits).Window(2).Done()\n",
    "    }\n",
    "    {\n",
    "        ctx := ctx.In(\"conv_2\")\n",
    "        logits = layers.Convolution(ctx, logits).Filters(64).KernelSize(3).Done()\n",
    "        logits = normalizeImage(ctx, logits)\n",
    "        logits = Reshape(logits, batchSize, -1)\n",
    "        logits = layers.Relu(logits)\n",
    "    }\n",
    "    {\n",
    "        ctx := ctx.In(\"dense_0\")\n",
    "        logits = layers.DenseWithBias(ctx, logits, *flagNumNodes)\n",
    "        logits = normalizeFeatures(ctx, logits)\n",
    "    }\n",
    "    for ii := 1; ii < *flagNumHiddenLayers; ii++ {\n",
    "        ctx := ctx.In(fmt.Sprintf(\"dense_%d\", ii))\n",
    "        // Add layer with residual connection.\n",
    "        tmp := layers.Relu(logits)\n",
    "        if *flagDropoutRate > 0 {\n",
    "            tmp = layers.Dropout(ctx, tmp, Const(g, shapes.CastAsDType(*flagDropoutRate, tmp.DType())))\n",
    "        }\n",
    "        tmp = layers.DenseWithBias(ctx, tmp, *flagNumNodes)\n",
    "        tmp = normalizeFeatures(ctx, tmp)\n",
    "        logits = Add(logits, tmp)\n",
    "    }\n",
    "    logits = layers.Relu(logits)\n",
    "    logits = layers.DenseWithBias(ctx.In(\"denseFinal\"), logits, len(cifar.C10Labels))\n",
    "    return []*Node{logits}\n",
    "}\n",
    "\n",
    "%% --platform=Host\n",
    "// Let's test that the logits are coming out with the right shape: we want [batch_size, 10], since there are 10 classes.\n",
    "AssertDownloaded()\n",
    "manager := BuildManager().NumThreads(*flagNumThreads).NumReplicas(*flagNumReplicas).Platform(*flagPlatform).MustDone()\n",
    "trainDS, err := cifar.NewDataset(\"Cifar-10 Batched Train\", *flagDataDir, cifar.C10, DType, cifar.Train, *flagBatchSize, false) // loops forever.\n",
    "AssertNoError(err)\n",
    "\n",
    "graph := manager.NewGraph(\"test\")\n",
    "ctx := context.NewContext(manager)\n",
    "ctx.SetParam(optimizers.LearningRateKey, *flagLearningRate)\n",
    "logits := CNNModelGraph(ctx, trainDS, []*Node{graph.Parameter(\"images\", shapes.Make(shapes.Int64, /*Batch Size*/ 3, 1))})\n",
    "AssertNoError(graph.Error())\n",
    "AssertNoError(ctx.Error())\n",
    "fmt.Printf(\"Logits shape for batch_size=%d: %s\\n\", 3, logits[0].Shape())"
   ]
  },
  {
   "cell_type": "markdown",
   "id": "6e3b2b04-8ca7-49d6-921d-3527c9169da9",
   "metadata": {},
   "source": [
    "### Training the CNN model\n",
    "\n",
    "CNNs have a much better inductive bias for machine learning on images, and it can easily achieve > 80% accuracy in training data, but only > 65% on test data, due to overfitting.\n",
    "\n",
    "Likely it would benefit from pre-training the model on a larger unlabeled datasets."
   ]
  },
  {
   "cell_type": "code",
   "execution_count": 10,
   "id": "b2739281-6e70-4bd4-90e5-ed493678b8ce",
   "metadata": {
    "tags": []
   },
   "outputs": [
    {
     "name": "stdout",
     "output_type": "stream",
     "text": [
      "Platform: CUDA\n"
     ]
    },
    {
     "data": {
      "text/html": []
     },
     "metadata": {},
     "output_type": "display_data"
    },
    {
     "name": "stdout",
     "output_type": "stream",
     "text": [
      "Training (20000 steps):  100% [\u001b[32m=\u001b[0m\u001b[32m=\u001b[0m\u001b[32m=\u001b[0m\u001b[32m=\u001b[0m\u001b[32m=\u001b[0m\u001b[32m=\u001b[0m\u001b[32m=\u001b[0m\u001b[32m=\u001b[0m\u001b[32m=\u001b[0m\u001b[32m=\u001b[0m\u001b[32m=\u001b[0m\u001b[32m=\u001b[0m\u001b[32m=\u001b[0m\u001b[32m=\u001b[0m\u001b[32m=\u001b[0m\u001b[32m=\u001b[0m\u001b[32m=\u001b[0m\u001b[32m=\u001b[0m\u001b[32m=\u001b[0m\u001b[32m=\u001b[0m\u001b[32m=\u001b[0m\u001b[32m=\u001b[0m\u001b[32m=\u001b[0m\u001b[32m=\u001b[0m\u001b[32m=\u001b[0m\u001b[32m=\u001b[0m\u001b[32m=\u001b[0m\u001b[32m=\u001b[0m\u001b[32m=\u001b[0m\u001b[32m=\u001b[0m\u001b[32m=\u001b[0m\u001b[32m=\u001b[0m\u001b[32m=\u001b[0m\u001b[32m=\u001b[0m\u001b[32m=\u001b[0m\u001b[32m=\u001b[0m\u001b[32m=\u001b[0m\u001b[32m=\u001b[0m\u001b[32m=\u001b[0m\u001b[32m=\u001b[0m] (316 steps/s)\u001b[0m [loss=1.069] [~loss=1.201] [~acc=85.49%]         \n"
     ]
    },
    {
     "data": {
      "text/html": [
       "<svg xmlns=\"http://www.w3.org/2000/svg\" width=\"1024\" height=\"454\" viewbox=\"0 0 1024 400\" style=\"background-color:#f8f8f8\" preserveAspectRatio=\"xMidYMid meet\"><defs><marker id=\"circle\" viewBox=\"0 0 10 10 \" refX=\"5\" refY=\"5\" markerUnits=\"userSpaceOnUse\" markerWidth=\"2%\" markerHeight=\"2%\"><circle r=\"3\" fill=\"none\" stroke=\"black\" cx=\"5\" cy=\"5\"/></marker><marker markerUnits=\"userSpaceOnUse\" markerWidth=\"2%\" markerHeight=\"2%\" id=\"filled-circle\" viewBox=\"0 0 10 10 \" refX=\"5\" refY=\"5\"><circle stroke=\"none\" cx=\"5\" cy=\"5\" r=\"3\" fill=\"black\"/></marker><marker viewBox=\"0 0 10 10 \" refX=\"5\" refY=\"5\" markerUnits=\"userSpaceOnUse\" markerWidth=\"2%\" markerHeight=\"2%\" id=\"square\"><rect y=\"2\" width=\"6\" height=\"6\" fill=\"none\" stroke=\"black\" x=\"2\"/></marker><marker markerWidth=\"2%\" markerHeight=\"2%\" id=\"filled-square\" viewBox=\"0 0 10 10 \" refX=\"5\" refY=\"5\" markerUnits=\"userSpaceOnUse\"><rect y=\"2\" width=\"6\" height=\"6\" fill=\"black\" stroke=\"none\" x=\"2\"/></marker></defs><g marker-end=\"url(#square)\" transform=\"translate(70 330 )scale(1 -1 )\" fill=\"none\" stroke-linecap=\"round\" marker-start=\"url(#square)\" stroke-width=\"2px\" stroke-linejoin=\"round\" marker-mid=\"url(#square)\" stroke=\"hsl(90, 47%, 65%)\"><path d=\"M1.768000e+01,6.727272e+00 L3.461121e+01,1.051699e+02 L5.158486e+01,1.322623e+02 L6.855851e+01,1.478671e+02 L8.553216e+01,1.349849e+02 L1.025058e+02,1.650655e+02 L1.194795e+02,1.725358e+02 L1.364531e+02,1.795745e+02 L1.534268e+02,1.763208e+02 L1.704004e+02,1.770512e+02 L1.873741e+02,1.854512e+02 L2.043477e+02,1.903651e+02 L2.213214e+02,1.934528e+02 L2.382950e+02,1.948141e+02 L2.552686e+02,1.879745e+02 L2.722423e+02,1.928552e+02 L2.892159e+02,1.884726e+02 L3.061896e+02,1.929880e+02 L3.231632e+02,1.976362e+02 L3.401369e+02,1.979018e+02 L3.571105e+02,1.863809e+02 L3.740842e+02,1.968726e+02 L3.910578e+02,1.997611e+02 L4.080315e+02,1.999935e+02 L4.250051e+02,1.952125e+02 L4.419788e+02,1.996615e+02 L4.589524e+02,1.902323e+02 L4.759261e+02,2.013880e+02 L4.928997e+02,1.990971e+02 L5.098734e+02,2.007572e+02 L5.268470e+02,1.972710e+02 L5.438207e+02,2.003919e+02 L5.607943e+02,1.962417e+02 L5.777680e+02,1.920251e+02 L5.947416e+02,1.968394e+02 L6.117153e+02,2.074971e+02 L6.286889e+02,1.962417e+02 L6.456626e+02,2.034133e+02 L6.626362e+02,2.008900e+02 L6.796099e+02,1.999603e+02 L6.965835e+02,2.004583e+02 L7.135572e+02,2.078623e+02 L7.305308e+02,2.047745e+02 L7.475045e+02,2.067998e+02 L7.644781e+02,2.046749e+02 L7.814518e+02,2.068662e+02 L7.984254e+02,1.979018e+02 L8.153991e+02,2.014212e+02 L8.323727e+02,2.022180e+02 L8.493464e+02,2.075303e+02 L8.663200e+02,2.033137e+02 \" vector-effect=\"non-scaling-stroke\"/></g><g marker-mid=\"url(#square)\" transform=\"translate(70 330 )scale(1 -1 )\" fill=\"none\" stroke-width=\"2px\" marker-start=\"url(#square)\" marker-end=\"url(#square)\" stroke=\"hsl(301, 88%, 65%)\" stroke-linecap=\"round\" stroke-linejoin=\"round\"><path vector-effect=\"non-scaling-stroke\" d=\"M1.768000e+01,5.200000e+00 L3.461121e+01,1.086361e+02 L5.158486e+01,1.366914e+02 L6.855851e+01,1.544410e+02 L8.553216e+01,1.414127e+02 L1.025058e+02,1.752384e+02 L1.194795e+02,1.828416e+02 L1.364531e+02,1.942364e+02 L1.534268e+02,1.900662e+02 L1.704004e+02,1.921181e+02 L1.873741e+02,2.028621e+02 L2.043477e+02,2.112223e+02 L2.213214e+02,2.143764e+02 L2.382950e+02,2.140046e+02 L2.552686e+02,2.097548e+02 L2.722423e+02,2.136858e+02 L2.892159e+02,2.111758e+02 L3.061896e+02,2.184403e+02 L3.231632e+02,2.236264e+02 L3.401369e+02,2.244298e+02 L3.571105e+02,2.092634e+02 L3.740842e+02,2.241377e+02 L3.910578e+02,2.262758e+02 L4.080315e+02,2.308842e+02 L4.250051e+02,2.240248e+02 L4.419788e+02,2.337794e+02 L4.589524e+02,2.162224e+02 L4.759261e+02,2.310237e+02 L4.928997e+02,2.256185e+02 L5.098734e+02,2.313158e+02 L5.268470e+02,2.297089e+02 L5.438207e+02,2.324248e+02 L5.607943e+02,2.277301e+02 L5.777680e+02,2.220925e+02 L5.947416e+02,2.286531e+02 L6.117153e+02,2.425380e+02 L6.286889e+02,2.313026e+02 L6.456626e+02,2.377171e+02 L6.626362e+02,2.357980e+02 L6.796099e+02,2.319002e+02 L6.965835e+02,2.377237e+02 L7.135572e+02,2.473920e+02 L7.305308e+02,2.446629e+02 L7.475045e+02,2.474319e+02 L7.644781e+02,2.453866e+02 L7.814518e+02,2.475315e+02 L7.984254e+02,2.370531e+02 L8.153991e+02,2.424052e+02 L8.323727e+02,2.413294e+02 L8.493464e+02,2.527375e+02 L8.663200e+02,2.426243e+02 \"/></g><g marker-start=\"url(#square)\" stroke-linecap=\"round\" marker-mid=\"url(#square)\" stroke-linejoin=\"round\" stroke=\"hsl(152, 76%, 65%)\" stroke-width=\"2px\" marker-end=\"url(#square)\" transform=\"translate(70 330 )scale(1 -1 )\" fill=\"none\"><path d=\"M1.768000e+01,2.943713e+01 L3.461121e+01,9.738302e+01 L5.158486e+01,1.289067e+02 L6.855851e+01,1.492518e+02 L8.553216e+01,1.644032e+02 L1.025058e+02,1.763609e+02 L1.194795e+02,1.806786e+02 L1.364531e+02,1.888546e+02 L1.534268e+02,1.952723e+02 L1.704004e+02,1.972393e+02 L1.873741e+02,2.037403e+02 L2.043477e+02,2.089792e+02 L2.213214e+02,2.110342e+02 L2.382950e+02,2.142320e+02 L2.552686e+02,2.137833e+02 L2.722423e+02,2.203575e+02 L2.892159e+02,2.210534e+02 L3.061896e+02,2.218664e+02 L3.231632e+02,2.272291e+02 L3.401369e+02,2.262837e+02 L3.571105e+02,2.292981e+02 L3.740842e+02,2.305807e+02 L3.910578e+02,2.332022e+02 L4.080315e+02,2.314053e+02 L4.250051e+02,2.332761e+02 L4.419788e+02,2.336621e+02 L4.589524e+02,2.346274e+02 L4.759261e+02,2.385431e+02 L4.928997e+02,2.357377e+02 L5.098734e+02,2.361611e+02 L5.268470e+02,2.404113e+02 L5.438207e+02,2.408761e+02 L5.607943e+02,2.419441e+02 L5.777680e+02,2.420939e+02 L5.947416e+02,2.443493e+02 L6.117153e+02,2.425521e+02 L6.286889e+02,2.466041e+02 L6.456626e+02,2.463842e+02 L6.626362e+02,2.467066e+02 L6.796099e+02,2.457753e+02 L6.965835e+02,2.463663e+02 L7.135572e+02,2.475690e+02 L7.305308e+02,2.483378e+02 L7.475045e+02,2.492112e+02 L7.644781e+02,2.474519e+02 L7.814518e+02,2.504957e+02 L7.984254e+02,2.532153e+02 L8.153991e+02,2.548000e+02 L8.323727e+02,2.517380e+02 L8.493464e+02,2.540366e+02 L8.663200e+02,2.535191e+02 \" vector-effect=\"non-scaling-stroke\"/></g><g transform=\"translate(70 330 )scale(1 -1 )\" stroke=\"black\" stroke-width=\"2px\" fill=\"none\" stroke-linecap=\"round\" stroke-linejoin=\"round\"><path vector-effect=\"non-scaling-stroke\" d=\"M1.768000e+01,0 L1.768000e+01,-6 M1.025482e+02,0 L1.025482e+02,-6 M1.874165e+02,0 L1.874165e+02,-6 M2.722847e+02,0 L2.722847e+02,-6 M3.571530e+02,0 L3.571530e+02,-6 M4.420212e+02,0 L4.420212e+02,-6 M5.268895e+02,0 L5.268895e+02,-6 M6.117577e+02,0 L6.117577e+02,-6 M6.966259e+02,0 L6.966259e+02,-6 M7.814942e+02,0 L7.814942e+02,-6 \"/></g><g font-size=\"12px\" fill=\"black\" stroke-linejoin=\"round\" transform=\"translate(70 330 )scale(1 1 )\" font-family=\"sans-serif\" stroke=\"black\" font-style=\"normal\" stroke-linecap=\"round\" stroke-width=\"2px\" font-weight=\"normal\" text-anchor=\"middle\" dominant-baseline=\"hanging\"><text stroke=\"none\" vector-effect=\"non-scaling-stroke\" x=\"1.768000e+01\" y=\"10\" dominant-baseline=\"hanging\">0</text><text dominant-baseline=\"hanging\" stroke=\"none\" vector-effect=\"non-scaling-stroke\" x=\"1.025482e+02\" y=\"10\">2000</text><text stroke=\"none\" vector-effect=\"non-scaling-stroke\" x=\"1.874165e+02\" y=\"10\" dominant-baseline=\"hanging\">4000</text><text x=\"2.722847e+02\" y=\"10\" dominant-baseline=\"hanging\" stroke=\"none\" vector-effect=\"non-scaling-stroke\">6000</text><text vector-effect=\"non-scaling-stroke\" x=\"3.571530e+02\" y=\"10\" dominant-baseline=\"hanging\" stroke=\"none\">8000</text><text stroke=\"none\" vector-effect=\"non-scaling-stroke\" x=\"4.420212e+02\" y=\"10\" dominant-baseline=\"hanging\">10000</text><text vector-effect=\"non-scaling-stroke\" x=\"5.268895e+02\" y=\"10\" dominant-baseline=\"hanging\" stroke=\"none\">12000</text><text stroke=\"none\" vector-effect=\"non-scaling-stroke\" x=\"6.117577e+02\" y=\"10\" dominant-baseline=\"hanging\">14000</text><text x=\"6.966259e+02\" y=\"10\" dominant-baseline=\"hanging\" stroke=\"none\" vector-effect=\"non-scaling-stroke\">16000</text><text dominant-baseline=\"hanging\" stroke=\"none\" vector-effect=\"non-scaling-stroke\" x=\"7.814942e+02\" y=\"10\">18000</text></g><g dominant-baseline=\"baseline\" stroke-width=\"2px\" transform=\"translate(70 330 )scale(1 1 )rotate(0 0 0 )\" fill=\"black\" stroke-linejoin=\"round\" stroke-linecap=\"round\" text-anchor=\"middle\" stroke=\"black\" font-weight=\"bold\" font-family=\"sans-serif\" font-size=\"12px\" font-style=\"normal\"><text dominant-baseline=\"baseline\" stroke=\"none\" vector-effect=\"non-scaling-stroke\" x=\"442\" y=\"-6\">Steps</text></g><g stroke=\"black\" stroke-width=\"2px\" font-weight=\"bold\" font-size=\"12px\" font-style=\"normal\" stroke-linejoin=\"round\" text-anchor=\"middle\" dominant-baseline=\"baseline\" transform=\"translate(70 330 )scale(1 -1 )\" font-family=\"sans-serif\" fill=\"black\" stroke-linecap=\"round\"><path vector-effect=\"non-scaling-stroke\" d=\"M0,3.607744e+01 L-6,3.607744e+01 M0,1.024805e+02 L-6,1.024805e+02 M0,1.688836e+02 L-6,1.688836e+02 M0,2.352868e+02 L-6,2.352868e+02 \"/></g><g dominant-baseline=\"middle\" stroke-width=\"2px\" stroke-linejoin=\"round\" font-size=\"12px\" font-style=\"normal\" fill=\"black\" text-anchor=\"end\" stroke=\"black\" transform=\"translate(70 330 )scale(1 1 )\" font-family=\"sans-serif\" stroke-linecap=\"round\" font-weight=\"normal\"><text dominant-baseline=\"middle\" stroke=\"none\" vector-effect=\"non-scaling-stroke\" x=\"-10\" y=\"-3.607744e+01\">0.200</text><text x=\"-10\" y=\"-1.024805e+02\" dominant-baseline=\"middle\" stroke=\"none\" vector-effect=\"non-scaling-stroke\">0.400</text><text vector-effect=\"non-scaling-stroke\" x=\"-10\" y=\"-1.688836e+02\" dominant-baseline=\"middle\" stroke=\"none\">0.600</text><text x=\"-10\" y=\"-2.352868e+02\" dominant-baseline=\"middle\" stroke=\"none\" vector-effect=\"non-scaling-stroke\">0.800</text></g><g font-weight=\"bold\" dominant-baseline=\"hanging\" font-size=\"12px\" font-style=\"normal\" stroke-linejoin=\"round\" font-family=\"sans-serif\" stroke=\"black\" stroke-width=\"2px\" text-anchor=\"middle\" fill=\"black\" stroke-linecap=\"round\" transform=\"translate(70 330 )scale(1 1 )rotate(-90 0 0 )\"><text vector-effect=\"non-scaling-stroke\" x=\"130\" y=\"6\" dominant-baseline=\"hanging\" stroke=\"none\">accuracy</text></g><g font-size=\"12px\" fill=\"black\" dominant-baseline=\"hanging\" font-family=\"sans-serif\" transform=\"translate(70 330 )scale(1 -1 )\" font-style=\"normal\" stroke-linecap=\"round\" font-weight=\"bold\" text-anchor=\"middle\" stroke=\"gray\" stroke-width=\"0.5px\" stroke-linejoin=\"round\"><path vector-effect=\"non-scaling-stroke\" d=\"M0,3.607744e+01 L884,3.607744e+01 M0,1.024805e+02 L884,1.024805e+02 M0,1.688836e+02 L884,1.688836e+02 M0,2.352868e+02 L884,2.352868e+02 \"/></g><g stroke-linejoin=\"round\" font-family=\"sans-serif\" stroke=\"black\" font-weight=\"bold\" text-anchor=\"middle\" dominant-baseline=\"hanging\" fill=\"none\" stroke-linecap=\"round\" font-size=\"12px\" font-style=\"normal\" stroke-width=\"2px\"><rect vector-effect=\"non-scaling-stroke\" x=\"70\" y=\"70\" width=\"884\" height=\"260\"/><g font-size=\"18px\" fill=\"black\" dominant-baseline=\"middle\"><text stroke=\"none\" vector-effect=\"non-scaling-stroke\" x=\"512\" y=\"35\" dominant-baseline=\"middle\">accuracy metrics</text></g><g stroke-width=\"1px\" font-weight=\"normal\" stroke-linecap=\"round\" font-family=\"sans-serif\" font-size=\"12px\" text-anchor=\"start\" dominant-baseline=\"hanging\" stroke=\"hsl(90, 47%, 65%)\" stroke-linejoin=\"round\" font-style=\"normal\" fill=\"hsl(90, 47%, 65%)\"><rect height=\"12\" vector-effect=\"non-scaling-stroke\" x=\"76\" y=\"366\" width=\"12\"/><g stroke=\"black\" fill=\"black\"><text stroke=\"none\" vector-effect=\"non-scaling-stroke\" x=\"92\" y=\"366\" dominant-baseline=\"hanging\">Eval on Cifar-10 Eval On Test: Mean Accuracy</text></g><g stroke-linejoin=\"round\" font-family=\"sans-serif\" stroke=\"hsl(301, 88%, 65%)\" dominant-baseline=\"hanging\" font-size=\"12px\" font-style=\"normal\" fill=\"hsl(301, 88%, 65%)\" stroke-width=\"1px\" font-weight=\"normal\" text-anchor=\"start\" stroke-linecap=\"round\"><rect vector-effect=\"non-scaling-stroke\" x=\"76\" y=\"384\" width=\"12\" height=\"12\"/><g stroke=\"black\" fill=\"black\"><text vector-effect=\"non-scaling-stroke\" x=\"92\" y=\"384\" dominant-baseline=\"hanging\" stroke=\"none\">Eval on Cifar-10 Eval On Train: Mean Accuracy</text></g><g font-family=\"sans-serif\" stroke-width=\"1px\" text-anchor=\"start\" stroke-linecap=\"round\" stroke-linejoin=\"round\" font-style=\"normal\" fill=\"hsl(152, 76%, 65%)\" font-weight=\"normal\" dominant-baseline=\"hanging\" stroke=\"hsl(152, 76%, 65%)\" font-size=\"12px\"><rect height=\"12\" vector-effect=\"non-scaling-stroke\" x=\"76\" y=\"402\" width=\"12\"/><g fill=\"black\" stroke=\"black\"><text stroke=\"none\" vector-effect=\"non-scaling-stroke\" x=\"92\" y=\"402\" dominant-baseline=\"hanging\">Train: Moving Average Accuracy</text></g></g></g></g></g></svg>"
      ]
     },
     "metadata": {},
     "output_type": "display_data"
    },
    {
     "name": "stdout",
     "output_type": "stream",
     "text": [
      "\n",
      "Results on Cifar-10 Eval On Train:\n"
     ]
    },
    {
     "data": {
      "text/html": [
       "<svg style=\"background-color:#f8f8f8\" preserveAspectRatio=\"xMidYMid meet\" xmlns=\"http://www.w3.org/2000/svg\" width=\"1024\" height=\"472\" viewbox=\"0 0 1024 400\"><defs><marker refY=\"5\" markerUnits=\"userSpaceOnUse\" markerWidth=\"2%\" markerHeight=\"2%\" id=\"circle\" viewBox=\"0 0 10 10 \" refX=\"5\"><circle fill=\"none\" stroke=\"black\" cx=\"5\" cy=\"5\" r=\"3\"/></marker><marker markerUnits=\"userSpaceOnUse\" markerWidth=\"2%\" markerHeight=\"2%\" id=\"filled-circle\" viewBox=\"0 0 10 10 \" refX=\"5\" refY=\"5\"><circle cy=\"5\" r=\"3\" fill=\"black\" stroke=\"none\" cx=\"5\"/></marker><marker id=\"square\" viewBox=\"0 0 10 10 \" refX=\"5\" refY=\"5\" markerUnits=\"userSpaceOnUse\" markerWidth=\"2%\" markerHeight=\"2%\"><rect x=\"2\" y=\"2\" width=\"6\" height=\"6\" fill=\"none\" stroke=\"black\"/></marker><marker markerWidth=\"2%\" markerHeight=\"2%\" id=\"filled-square\" viewBox=\"0 0 10 10 \" refX=\"5\" refY=\"5\" markerUnits=\"userSpaceOnUse\"><rect y=\"2\" width=\"6\" height=\"6\" fill=\"black\" stroke=\"none\" x=\"2\"/></marker></defs><g stroke-linecap=\"round\" marker-mid=\"url(#square)\" fill=\"none\" marker-start=\"url(#square)\" marker-end=\"url(#square)\" transform=\"translate(70 330 )scale(1 -1 )\" stroke=\"hsl(90, 47%, 65%)\" stroke-linejoin=\"round\" stroke-width=\"2px\"><path d=\"M1.768000e+01,2.547970e+02 L3.461121e+01,1.983402e+02 L5.158486e+01,1.625060e+02 L6.855851e+01,1.368849e+02 L8.553216e+01,1.204682e+02 L1.025058e+02,1.034568e+02 L1.194795e+02,9.170518e+01 L1.364531e+02,8.193811e+01 L1.534268e+02,7.537600e+01 L1.704004e+02,6.920554e+01 L1.873741e+02,6.239481e+01 L2.043477e+02,5.666910e+01 L2.213214e+02,5.205190e+01 L2.382950e+02,4.847924e+01 L2.552686e+02,4.606861e+01 L2.722423e+02,4.220067e+01 L2.892159e+02,3.987212e+01 L3.061896e+02,3.683472e+01 L3.231632e+02,3.405833e+01 L3.401369e+02,3.211565e+01 L3.571105e+02,3.221655e+01 L3.740842e+02,2.915262e+01 L3.910578e+02,2.719344e+01 L4.080315e+02,2.584572e+01 L4.250051e+02,2.565801e+01 L4.419788e+02,2.369304e+01 L4.589524e+02,2.489898e+01 L4.759261e+02,2.241712e+01 L4.928997e+02,2.255785e+01 L5.098734e+02,2.129913e+01 L5.268470e+02,2.116209e+01 L5.438207e+02,2.008013e+01 L5.607943e+02,2.030932e+01 L5.777680e+02,2.068379e+01 L5.947416e+02,1.950986e+01 L6.117153e+02,1.755778e+01 L6.286889e+02,1.877521e+01 L6.456626e+02,1.783867e+01 L6.626362e+02,1.788205e+01 L6.796099e+02,1.826404e+01 L6.965835e+02,1.747784e+01 L7.135572e+02,1.588049e+01 L7.305308e+02,1.621347e+01 L7.475045e+02,1.570660e+01 L7.644781e+02,1.616048e+01 L7.814518e+02,1.556415e+01 L7.984254e+02,1.697145e+01 L8.153991e+02,1.650668e+01 L8.323727e+02,1.628201e+01 L8.493464e+02,1.478161e+01 L8.663200e+02,1.583468e+01 \" vector-effect=\"non-scaling-stroke\"/></g><g stroke-width=\"2px\" transform=\"translate(70 330 )scale(1 -1 )\" fill=\"none\" stroke=\"hsl(301, 88%, 65%)\" marker-mid=\"url(#square)\" marker-start=\"url(#square)\" marker-end=\"url(#square)\" stroke-linecap=\"round\" stroke-linejoin=\"round\"><path vector-effect=\"non-scaling-stroke\" d=\"M1.768000e+01,2.548000e+02 L3.461121e+01,1.980730e+02 L5.158486e+01,1.621080e+02 L6.855851e+01,1.362055e+02 L8.553216e+01,1.196495e+02 L1.025058e+02,1.021152e+02 L1.194795e+02,9.015810e+01 L1.364531e+02,8.002821e+01 L1.534268e+02,7.325641e+01 L1.704004e+02,6.666453e+01 L1.873741e+02,5.969796e+01 L2.043477e+02,5.375946e+01 L2.213214e+02,4.903812e+01 L2.382950e+02,4.528775e+01 L2.552686e+02,4.249661e+01 L2.722423e+02,3.855960e+01 L2.892159e+02,3.624399e+01 L3.061896e+02,3.291803e+01 L3.231632e+02,3.023399e+01 L3.401369e+02,2.800078e+01 L3.571105e+02,2.824890e+01 L3.740842e+02,2.500831e+01 L3.910578e+02,2.315938e+01 L4.080315e+02,2.151597e+01 L4.250051e+02,2.124214e+01 L4.419788e+02,1.910583e+01 L4.589524e+02,2.034411e+01 L4.759261e+02,1.791401e+01 L4.928997e+02,1.822971e+01 L5.098734e+02,1.660839e+01 L5.268470e+02,1.633539e+01 L5.438207e+02,1.523960e+01 L5.607943e+02,1.537718e+01 L5.777680e+02,1.558913e+01 L5.947416e+02,1.454309e+01 L6.117153e+02,1.230748e+01 L6.286889e+02,1.333575e+01 L6.456626e+02,1.247221e+01 L6.626362e+02,1.248063e+01 L6.796099e+02,1.268977e+01 L6.965835e+02,1.177855e+01 L7.135572e+02,1.010675e+01 L7.305308e+02,1.027240e+01 L7.475045e+02,9.681724e+00 L7.644781e+02,1.022139e+01 L7.814518e+02,9.463343e+00 L7.984254e+02,1.064850e+01 L8.153991e+02,9.740884e+00 L8.323727e+02,9.937713e+00 L8.493464e+02,8.180555e+00 L8.663200e+02,9.211516e+00 \"/></g><g stroke-linejoin=\"round\" transform=\"translate(70 330 )scale(1 -1 )\" stroke-linecap=\"round\" marker-end=\"url(#square)\" stroke=\"hsl(152, 76%, 65%)\" stroke-width=\"2px\" marker-start=\"url(#square)\" marker-mid=\"url(#square)\" fill=\"none\"><path vector-effect=\"non-scaling-stroke\" d=\"M1.768000e+01,2.525671e+02 L3.461121e+01,1.981131e+02 L5.158486e+01,1.600861e+02 L6.855851e+01,1.393504e+02 L8.553216e+01,1.164425e+02 L1.025058e+02,1.032617e+02 L1.194795e+02,9.221899e+01 L1.364531e+02,7.672102e+01 L1.534268e+02,7.233174e+01 L1.704004e+02,6.435329e+01 L1.873741e+02,5.695494e+01 L2.043477e+02,5.607957e+01 L2.213214e+02,4.975983e+01 L2.382950e+02,4.528465e+01 L2.552686e+02,3.743304e+01 L2.722423e+02,3.837253e+01 L2.892159e+02,3.638219e+01 L3.061896e+02,2.953345e+01 L3.231632e+02,2.898926e+01 L3.401369e+02,2.473794e+01 L3.571105e+02,2.544417e+01 L3.740842e+02,2.210416e+01 L3.910578e+02,2.208217e+01 L4.080315e+02,2.068884e+01 L4.250051e+02,1.736752e+01 L4.419788e+02,2.223177e+01 L4.589524e+02,1.593978e+01 L4.759261e+02,1.875630e+01 L4.928997e+02,1.462986e+01 L5.098734e+02,1.305694e+01 L5.268470e+02,1.276665e+01 L5.438207e+02,1.015463e+01 L5.607943e+02,1.055712e+01 L5.777680e+02,1.148763e+01 L5.947416e+02,1.465454e+01 L6.117153e+02,1.721128e+01 L6.286889e+02,1.795699e+01 L6.456626e+02,1.246030e+01 L6.626362e+02,1.601057e+01 L6.796099e+02,1.269620e+01 L6.965835e+02,9.981580e+00 L7.135572e+02,1.313630e+01 L7.305308e+02,7.654539e+00 L7.475045e+02,9.437546e+00 L7.644781e+02,1.096516e+01 L7.814518e+02,1.082547e+01 L7.984254e+02,6.527687e+00 L8.153991e+02,5.715050e+00 L8.323727e+02,8.534188e+00 L8.493464e+02,7.884030e+00 L8.663200e+02,5.200000e+00 \"/></g><g marker-start=\"url(#square)\" fill=\"none\" transform=\"translate(70 330 )scale(1 -1 )\" stroke=\"hsl(3, 64%, 65%)\" stroke-linecap=\"round\" stroke-linejoin=\"round\" marker-mid=\"url(#square)\" stroke-width=\"2px\" marker-end=\"url(#square)\"><path vector-effect=\"non-scaling-stroke\" d=\"M1.768000e+01,2.525671e+02 L3.461121e+01,2.087208e+02 L5.158486e+01,1.701746e+02 L6.855851e+01,1.421375e+02 L8.553216e+01,1.211168e+02 L1.025058e+02,1.051876e+02 L1.194795e+02,9.283246e+01 L1.364531e+02,8.262890e+01 L1.534268e+02,7.431033e+01 L1.704004e+02,6.712003e+01 L1.873741e+02,6.060056e+01 L2.043477e+02,5.513604e+01 L2.213214e+02,5.047821e+01 L2.382950e+02,4.620630e+01 L2.552686e+02,4.255980e+01 L2.722423e+02,3.868149e+01 L2.892159e+02,3.607021e+01 L3.061896e+02,3.305321e+01 L3.231632e+02,3.044123e+01 L3.401369e+02,2.838584e+01 L3.571105e+02,2.632095e+01 L3.740842e+02,2.454375e+01 L3.910578e+02,2.281972e+01 L4.080315e+02,2.170384e+01 L4.250051e+02,2.053729e+01 L4.419788e+02,1.935372e+01 L4.589524e+02,1.840529e+01 L4.759261e+02,1.725776e+01 L4.928997e+02,1.679135e+01 L5.098734e+02,1.624187e+01 L5.268470e+02,1.512014e+01 L5.438207e+02,1.466283e+01 L5.607943e+02,1.405010e+01 L5.777680e+02,1.342534e+01 L5.947416e+02,1.282846e+01 L6.117153e+02,1.276316e+01 L6.286889e+02,1.181633e+01 L6.456626e+02,1.167762e+01 L6.626362e+02,1.128322e+01 L6.796099e+02,1.113329e+01 L6.965835e+02,1.050294e+01 L7.135572e+02,1.026150e+01 L7.305308e+02,9.950167e+00 L7.475045e+02,9.797013e+00 L7.644781e+02,9.605232e+00 L7.814518e+02,9.194608e+00 L7.984254e+02,8.671019e+00 L8.153991e+02,8.414054e+00 L8.323727e+02,8.459093e+00 L8.493464e+02,8.008272e+00 L8.663200e+02,7.854179e+00 \"/></g><g transform=\"translate(70 330 )scale(1 -1 )\" fill=\"none\" stroke-linecap=\"round\" stroke-linejoin=\"round\" stroke=\"black\" stroke-width=\"2px\"><path vector-effect=\"non-scaling-stroke\" d=\"M1.768000e+01,0 L1.768000e+01,-6 M1.025482e+02,0 L1.025482e+02,-6 M1.874165e+02,0 L1.874165e+02,-6 M2.722847e+02,0 L2.722847e+02,-6 M3.571530e+02,0 L3.571530e+02,-6 M4.420212e+02,0 L4.420212e+02,-6 M5.268895e+02,0 L5.268895e+02,-6 M6.117577e+02,0 L6.117577e+02,-6 M6.966259e+02,0 L6.966259e+02,-6 M7.814942e+02,0 L7.814942e+02,-6 \"/></g><g font-family=\"sans-serif\" font-weight=\"normal\" stroke=\"black\" stroke-linecap=\"round\" stroke-linejoin=\"round\" font-size=\"12px\" transform=\"translate(70 330 )scale(1 1 )\" stroke-width=\"2px\" font-style=\"normal\" text-anchor=\"middle\" dominant-baseline=\"hanging\" fill=\"black\"><text stroke=\"none\" vector-effect=\"non-scaling-stroke\" x=\"1.768000e+01\" y=\"10\" dominant-baseline=\"hanging\">0</text><text stroke=\"none\" vector-effect=\"non-scaling-stroke\" x=\"1.025482e+02\" y=\"10\" dominant-baseline=\"hanging\">2000</text><text stroke=\"none\" vector-effect=\"non-scaling-stroke\" x=\"1.874165e+02\" y=\"10\" dominant-baseline=\"hanging\">4000</text><text stroke=\"none\" vector-effect=\"non-scaling-stroke\" x=\"2.722847e+02\" y=\"10\" dominant-baseline=\"hanging\">6000</text><text stroke=\"none\" vector-effect=\"non-scaling-stroke\" x=\"3.571530e+02\" y=\"10\" dominant-baseline=\"hanging\">8000</text><text stroke=\"none\" vector-effect=\"non-scaling-stroke\" x=\"4.420212e+02\" y=\"10\" dominant-baseline=\"hanging\">10000</text><text stroke=\"none\" vector-effect=\"non-scaling-stroke\" x=\"5.268895e+02\" y=\"10\" dominant-baseline=\"hanging\">12000</text><text y=\"10\" dominant-baseline=\"hanging\" stroke=\"none\" vector-effect=\"non-scaling-stroke\" x=\"6.117577e+02\">14000</text><text x=\"6.966259e+02\" y=\"10\" dominant-baseline=\"hanging\" stroke=\"none\" vector-effect=\"non-scaling-stroke\">16000</text><text stroke=\"none\" vector-effect=\"non-scaling-stroke\" x=\"7.814942e+02\" y=\"10\" dominant-baseline=\"hanging\">18000</text></g><g fill=\"black\" stroke-linejoin=\"round\" font-style=\"normal\" font-family=\"sans-serif\" stroke-width=\"2px\" transform=\"translate(70 330 )scale(1 1 )rotate(0 0 0 )\" font-weight=\"bold\" stroke-linecap=\"round\" font-size=\"12px\" text-anchor=\"middle\" dominant-baseline=\"baseline\" stroke=\"black\"><text y=\"-6\" dominant-baseline=\"baseline\" stroke=\"none\" vector-effect=\"non-scaling-stroke\" x=\"442\">Steps</text></g><g font-weight=\"bold\" transform=\"translate(70 330 )scale(1 -1 )\" font-size=\"12px\" text-anchor=\"middle\" dominant-baseline=\"baseline\" fill=\"black\" stroke-linecap=\"round\" font-style=\"normal\" stroke-linejoin=\"round\" font-family=\"sans-serif\" stroke=\"black\" stroke-width=\"2px\"><path vector-effect=\"non-scaling-stroke\" d=\"M0,4.401726e+01 L-6,4.401726e+01 M0,1.043125e+02 L-6,1.043125e+02 M0,1.646077e+02 L-6,1.646077e+02 M0,2.249029e+02 L-6,2.249029e+02 \"/></g><g font-weight=\"normal\" stroke=\"black\" stroke-width=\"2px\" font-size=\"12px\" font-style=\"normal\" text-anchor=\"end\" stroke-linecap=\"round\" font-family=\"sans-serif\" transform=\"translate(70 330 )scale(1 1 )\" dominant-baseline=\"middle\" fill=\"black\" stroke-linejoin=\"round\"><text x=\"-10\" y=\"-4.401726e+01\" dominant-baseline=\"middle\" stroke=\"none\" vector-effect=\"non-scaling-stroke\">3.000</text><text y=\"-1.043125e+02\" dominant-baseline=\"middle\" stroke=\"none\" vector-effect=\"non-scaling-stroke\" x=\"-10\">6.000</text><text y=\"-1.646077e+02\" dominant-baseline=\"middle\" stroke=\"none\" vector-effect=\"non-scaling-stroke\" x=\"-10\">9.000</text><text stroke=\"none\" vector-effect=\"non-scaling-stroke\" x=\"-10\" y=\"-2.249029e+02\" dominant-baseline=\"middle\">12.000</text></g><g stroke-linejoin=\"round\" font-size=\"12px\" font-style=\"normal\" text-anchor=\"middle\" fill=\"black\" stroke-linecap=\"round\" transform=\"translate(70 330 )scale(1 1 )rotate(-90 0 0 )\" dominant-baseline=\"hanging\" font-family=\"sans-serif\" font-weight=\"bold\" stroke=\"black\" stroke-width=\"2px\"><text dominant-baseline=\"hanging\" stroke=\"none\" vector-effect=\"non-scaling-stroke\" x=\"130\" y=\"6\">loss</text></g><g font-style=\"normal\" stroke=\"gray\" transform=\"translate(70 330 )scale(1 -1 )\" font-family=\"sans-serif\" font-weight=\"bold\" fill=\"black\" stroke-linejoin=\"round\" font-size=\"12px\" stroke-width=\"0.5px\" text-anchor=\"middle\" dominant-baseline=\"hanging\" stroke-linecap=\"round\"><path vector-effect=\"non-scaling-stroke\" d=\"M0,4.401726e+01 L884,4.401726e+01 M0,1.043125e+02 L884,1.043125e+02 M0,1.646077e+02 L884,1.646077e+02 M0,2.249029e+02 L884,2.249029e+02 \"/></g><g stroke=\"black\" stroke-width=\"2px\" text-anchor=\"middle\" dominant-baseline=\"hanging\" fill=\"none\" stroke-linecap=\"round\" font-size=\"12px\" font-weight=\"bold\" font-style=\"normal\" stroke-linejoin=\"round\" font-family=\"sans-serif\"><rect vector-effect=\"non-scaling-stroke\" x=\"70\" y=\"70\" width=\"884\" height=\"260\"/><g fill=\"black\" font-size=\"18px\" dominant-baseline=\"middle\"><text x=\"512\" y=\"35\" dominant-baseline=\"middle\" stroke=\"none\" vector-effect=\"non-scaling-stroke\">loss metrics</text></g><g font-size=\"12px\" font-style=\"normal\" stroke-width=\"1px\" stroke-linecap=\"round\" fill=\"hsl(90, 47%, 65%)\" stroke-linejoin=\"round\" text-anchor=\"start\" stroke=\"hsl(90, 47%, 65%)\" font-family=\"sans-serif\" font-weight=\"normal\" dominant-baseline=\"hanging\"><rect vector-effect=\"non-scaling-stroke\" x=\"76\" y=\"366\" width=\"12\" height=\"12\"/><g stroke=\"black\" fill=\"black\"><text x=\"92\" y=\"366\" dominant-baseline=\"hanging\" stroke=\"none\" vector-effect=\"non-scaling-stroke\">Eval on Cifar-10 Eval On Test: Mean Loss</text></g><g dominant-baseline=\"hanging\" font-size=\"12px\" font-style=\"normal\" text-anchor=\"start\" stroke-linejoin=\"round\" font-weight=\"normal\" stroke=\"hsl(301, 88%, 65%)\" stroke-width=\"1px\" font-family=\"sans-serif\" fill=\"hsl(301, 88%, 65%)\" stroke-linecap=\"round\"><rect vector-effect=\"non-scaling-stroke\" x=\"76\" y=\"384\" width=\"12\" height=\"12\"/><g fill=\"black\" stroke=\"black\"><text y=\"384\" dominant-baseline=\"hanging\" stroke=\"none\" vector-effect=\"non-scaling-stroke\" x=\"92\">Eval on Cifar-10 Eval On Train: Mean Loss</text></g><g font-style=\"normal\" dominant-baseline=\"hanging\" font-weight=\"normal\" stroke-linejoin=\"round\" font-size=\"12px\" text-anchor=\"start\" fill=\"hsl(152, 76%, 65%)\" stroke-linecap=\"round\" font-family=\"sans-serif\" stroke=\"hsl(152, 76%, 65%)\" stroke-width=\"1px\"><rect height=\"12\" vector-effect=\"non-scaling-stroke\" x=\"76\" y=\"402\" width=\"12\"/><g fill=\"black\" stroke=\"black\"><text x=\"92\" y=\"402\" dominant-baseline=\"hanging\" stroke=\"none\" vector-effect=\"non-scaling-stroke\">Train: Batch Loss</text></g><g stroke-linecap=\"round\" stroke-linejoin=\"round\" font-size=\"12px\" font-style=\"normal\" font-family=\"sans-serif\" text-anchor=\"start\" dominant-baseline=\"hanging\" fill=\"hsl(3, 64%, 65%)\" stroke=\"hsl(3, 64%, 65%)\" stroke-width=\"1px\" font-weight=\"normal\"><rect vector-effect=\"non-scaling-stroke\" x=\"76\" y=\"420\" width=\"12\" height=\"12\"/><g fill=\"black\" stroke=\"black\"><text x=\"92\" y=\"420\" dominant-baseline=\"hanging\" stroke=\"none\" vector-effect=\"non-scaling-stroke\">Train: Moving Average Loss</text></g></g></g></g></g></g></svg>"
      ]
     },
     "metadata": {},
     "output_type": "display_data"
    },
    {
     "name": "stdout",
     "output_type": "stream",
     "text": [
      "\tMean Loss (#loss): 1.268\n",
      "\tMean Accuracy (#acc): 82.21%\n",
      "Results on Cifar-10 Eval On Test:\n",
      "\tMean Loss (#loss): 1.598\n",
      "\tMean Accuracy (#acc): 70.37%\n",
      "\n"
     ]
    }
   ],
   "source": [
    "%% --model=cnn --steps=20000 --batch=50 --hidden_layers=2 --l2_reg=0.01 --dropout=0.1 --norm=batch\n",
    "trainModel()"
   ]
  }
 ],
 "metadata": {
  "kernelspec": {
   "display_name": "Go (gonb)",
   "language": "go",
   "name": "gonb"
  },
  "language_info": {
   "codemirror_mode": "",
   "file_extension": ".go",
   "mimetype": "",
   "name": "go",
   "nbconvert_exporter": "",
   "pygments_lexer": "",
   "version": "go1.20.3"
  }
 },
 "nbformat": 4,
 "nbformat_minor": 5
}
