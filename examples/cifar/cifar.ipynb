{
 "cells": [
  {
   "cell_type": "markdown",
   "id": "f431da81-4d94-4fd1-8a51-952ef824cb46",
   "metadata": {},
   "source": [
    "# Cifar Library and Demo\n",
    "\n",
    "[This is a library](https://pkg.go.dev/github.com/gomlx/gomlx/examples/cifar) to download and parse the Cifar datasets (Cifar-10 and Cifar-100), and a very small demo of a FNN (Feedforward Neural Network) with GoMLX. FNNs are notoriously bad for images, but it's only a demo. Look for the Resnet50 model for a more serious image classification model (old but still good -- best results as of the time of this writing is with ViT model).\n",
    "\n",
    "The CIFAR-10 and CIFAR-100 are labeled subsets of the 80 million tiny images dataset. They were collected by Alex Krizhevsky, Vinod Nair, and Geoffrey Hinton. See more details in [its homepage here](https://www.cs.toronto.edu/~kriz/cifar.html).\n",
    "\n",
    "This notebook serves as documentation and example for the [github.com/gomlx/gomlx/examples/cifar](https://github.com/gomlx/gomlx/examples/cifar) library."
   ]
  },
  {
   "cell_type": "markdown",
   "id": "bd398a51-c10a-4d05-91f7-f978856a8d8b",
   "metadata": {},
   "source": [
    "## Environment Set Up\n",
    "\n",
    "Let's set up `go.mod` to use the local copy of GoMLX, so it can be developed jointly the dataset code with the model. That's often how data pre-processing and model code is developed together with experimentation.\n",
    "\n",
    "If you are not changing code, feel free to simply skip this cell. Or if you used a different directory for you projects, change it below.\n",
    "\n",
    "Notice the directory `${HOME}/Projects/gomlx` is where the GoMLX code is copied by default in [its Docker](https://hub.docker.com/repository/docker/janpfeifer/gomlx_jupyterlab/general)."
   ]
  },
  {
   "cell_type": "code",
   "execution_count": 1,
   "id": "22abc207-e8b0-44ef-840d-fee3550cffca",
   "metadata": {
    "tags": []
   },
   "outputs": [
    {
     "name": "stdout",
     "output_type": "stream",
     "text": [
      "\t- Added replace rule for module \"github.com/gomlx/bsplines\" to local directory \"/home/janpf/Projects/bsplines\".\n",
      "\t- Added replace rule for module \"github.com/gomlx/gomlx\" to local directory \"/home/janpf/Projects/gomlx\".\n",
      "\t- Added replace rule for module \"github.com/janpfeifer/gonb\" to local directory \"/home/janpf/Projects/gonb\".\n",
      "\t- Added replace rule for module \"github.com/gomlx/gopjrt\" to local directory \"/home/janpf/Projects/gopjrt\".\n"
     ]
    }
   ],
   "source": [
    "!*rm -f go.work && go work init && go work use . \"${HOME}/Projects/gomlx\" \"${HOME}/Projects/gonb\" \"${HOME}/Projects/gopjrt\" \"${HOME}/Projects/bsplines\"\n",
    "%goworkfix"
   ]
  },
  {
   "cell_type": "markdown",
   "id": "443e9e56-ef12-4d04-b7bb-99478fa2b662",
   "metadata": {},
   "source": [
    "## Data Preparation\n",
    "\n",
    "### Downloading data files\n",
    "\n",
    "To download, uncompress and untar to the local directory, simply do the following. Notice if it's already downloaded in the given `--data` directory, it returns immediately."
   ]
  },
  {
   "cell_type": "code",
   "execution_count": 2,
   "id": "a61fdd1a-74a0-46f2-9cfc-f79bfa37e298",
   "metadata": {
    "tags": []
   },
   "outputs": [],
   "source": [
    "import (\n",
    "    \"github.com/gomlx/gomlx/examples/cifar\"\n",
    "    \"github.com/gomlx/gomlx/ml/data\"\n",
    "    \"github.com/janpfeifer/must\"\n",
    ")\n",
    "\n",
    "var flagDataDir = flag.String(\"data\", \"~/work/cifar\", \"Directory to cache downloaded and generated dataset files.\")\n",
    "\n",
    "func AssertDownloaded() {\n",
    "    *flagDataDir = data.ReplaceTildeInDir(*flagDataDir)\n",
    "    if !data.FileExists(*flagDataDir) {\n",
    "        must.M(os.MkdirAll(*flagDataDir, 0777))\n",
    "    }\n",
    "\n",
    "    must.M(cifar.DownloadCifar10(*flagDataDir))\n",
    "    must.M(cifar.DownloadCifar100(*flagDataDir))\n",
    "}\n",
    "\n",
    "%%\n",
    "AssertDownloaded()"
   ]
  },
  {
   "cell_type": "code",
   "execution_count": 3,
   "id": "345076ef-e2a3-4405-b47d-801c9ec62b91",
   "metadata": {
    "tags": []
   },
   "outputs": [
    {
     "name": "stdout",
     "output_type": "stream",
     "text": [
      "total 323M\n",
      "drwxr-x--- 2 janpf janpf 4.0K Jul 30 10:04 base_cnn_model\n",
      "drwxr-x--- 2 janpf janpf 4.0K Jul 30 09:49 base_fnn_model\n",
      "drwxr-x--- 2 janpf janpf 4.0K Jul 30 09:57 base_kan_model\n",
      "drwxr-xr-x 2 janpf janpf 4.0K Feb 20  2010 cifar-100-binary\n",
      "-rw-r--r-- 1 janpf janpf 161M Jul  6  2023 cifar-100-binary.tar.gz\n",
      "drwxr-xr-x 2 janpf janpf 4.0K Jun  4  2009 cifar-10-batches-bin\n",
      "-rw-r--r-- 1 janpf janpf 163M Jul  6  2023 cifar-10-binary.tar.gz\n"
     ]
    }
   ],
   "source": [
    "!ls -lh ~/work/cifar/"
   ]
  },
  {
   "cell_type": "markdown",
   "id": "93d4ae39-915c-478c-887f-b1c8c080865b",
   "metadata": {},
   "source": [
    "### Sample some images\n",
    "\n",
    "The `cifar.NewDataset` creates a `data.InMemoryDataset` that can be used both for training, evaluation, or just to sample a few examples, which we do below:"
   ]
  },
  {
   "cell_type": "code",
   "execution_count": 4,
   "id": "0dabc63a-b918-4065-9b23-0c5a22446458",
   "metadata": {
    "tags": []
   },
   "outputs": [
    {
     "data": {
      "text/html": [
       "<p>Samples Cifar-10</p>\n"
      ]
     },
     "metadata": {},
     "output_type": "display_data"
    },
    {
     "data": {
      "text/html": [
       "<table><tr>\n",
       "<td><figure style=\"padding:4px;text-align: center;\"><img width=\"64\" height=\"64\" src=\"data:image/png;base64,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\"><figcaption style=\"text-align: center;\">deer ([4])</figcaption></figure></td>\n",
       "<td><figure style=\"padding:4px;text-align: center;\"><img width=\"64\" height=\"64\" src=\"data:image/png;base64,iVBORw0KGgoAAAANSUhEUgAAACAAAAAgCAIAAAD8GO2jAAAJQElEQVR4nERWWY9dR7VetapqD2eee3B7nhN3bnztXF2kKAoIHgh+CkFCSECERCIkQuAP8ANAvPAGSOQBCZRBgISEIHkhJI7tpJPIidvdPqe73U63e/IZ99lz7apCtR2gpLO1t86qVbW++r5vFfslIaLVGVx5bo1SIZIoCkWWEqVSlQHRFuDx48dOnD3TqbUbxWql3mjUG81KxbEYoAaANI7Hsdq7v9XbuL26snow9ZrF6oXzixpgMB7d299hCjQUXOoWQQqZaql1KkSmklgkCFitd0qFar3YPD1/fG52ttJplF2baSCgCSMAmkKxjfTk0ZknLp/3p8Hdvd3tzc9QsYkXAAAQwiJOeLVCHBdjIIiEUk2IRkI4A+CKO797/Y8o/9zhzsKpo+f/d/Gpy5e+cPlSs9mcRlGWJSoNfckoAmZpFMbtmU6nM5P6YnPj3s7BbqFQYAOraFOeiBQRAZFxzi2baoqEOLXm5oORanX0yF9dv7s23ntn9eZrv//DC89/95krV26tr4fTYdHGD1fWO53OoyeOX7t6LUBtW/Z8tX3p8YtpmrhOAe9hcUdBmMYEtJQKAJRSRDPGiuCUt8MkLhYz2wLXwUbVaTX8RAaZ/Mf7S+MUUl4INNmb+FvDyYEX2pXGKBJ+Rhqd2fu79w8dmquUyjitt/n8AlqWzSybW5wyipQCK5Xq/YkvmBVriERKSwW309KUWeXqqfMXYkVu9u72p1G1PVOfmwe3tD+ZXrj0xKFjJ1sz8///5JP98eDwkcOdVhvHFFinoy2LIi04Bcd2ik7BsuxyuRRMPYcSSytMUqrBZhZXWCwUKuWiH/r/vPruu++9h0il1iPfPxj0ASEMfCXl2sZ6s91SUrbrLTyY9Nd27ytqAYBWCjUpl0qz87NaC6YzWyROmsjxVIaJv3uQPBjNdRoOJ8F07PuTyXiUpfFG785HSx9sbHS9yWDtzm2mBFIyOz/nT712vckeTMYLShNKWaY6tXqtVj167Mj8kYWMkq39g83Ptj+9+UnPi+6ub3gb9wBwv+gUC87lxy7QQqFeKhUsHk/Go53tBzLyh4PN1du3b9x4+83jF//n0fMnTtUulFgItutUTh9eOL6wcOzIkc5M23UdixLKaLaISZaNpuON9fWPP/5keaXbXe1V6lVKrU61/MNvfeP6+0tc09Nzc97Ozon2zGy5/PUvfyUTojUzc+LE0ZPHjjcbRcLs9k9+/PKLL35/ptniFJWWiEAJECRSg0KiKQEKGiDwRbe7dqfXe3zxkWAyajVqy93embPntFZaykalUnBd13Fsx6aUKAAEiIKUvPTyT3/00g9mO20koKTiHAkCEoKImoAyktWZUloDEkRGwijlSIKJxxl1ymWKSNCIWmtQUhJCgIDSQIgiGrQE+rVnnrU5RqGnpEQkjmsTYiROzCKAxg40ReQUqXlXnFOL0oLrWJwjam8ydjjXoLWSE29s27aZZ1bRiPkCWcZuXL/6/vWr3bU1kaUACpHYTpFyoiH3HBNNTHaQaKCS1BCOUIIAMhNpwTFJCQBnnDFGESGfaIKA0pMnHvG84QdLN26vrHy6fGvpw6XbK8vLq93J1K/XqsWCDVpprZXKzITcpQA0EkpMlWBxnhdrHogUNIljgYhmAaWV0DRNtB9Ox5NREEb9wWjr/vZqt3fQH97d3Dx35tTCoY4BDAypjFlpsy+DIKCBUZsK808ztNR7uwerK71yuezYNiiQmUbHtaM0catVZjvAWCpVIgS1rXK1mu9DgTk8cevmJ7duLmdCa5MR83XMOyGoNTHupYhSsL21qxTxvVBlGjRVQrEn/u/y1t4OtfmwP0TE4bAvpZBK99bWhuOh1iqOgtde/9PPf/YL1yn/9pVXLjx23rQD+Pyn9ecVaQ1JLBr1FgANgygTUsTR4MGIDfbv12sVyfjhI8c4ZUEwDaMwTrMHe3v7uwdJmOzu7P/q179Z7a4h4deu3VhcXMzhMPTVyowsywAIAsmSrFapHvSHSRxnUk88/972NhusrQyEwGqzUm+32+1Go9FuzyDjtXLFn4T3N3aF1Ls7g3qt6XnTjfV1EQqDdialzIRIUiFEJhUBognVyC2LEG27dpSIDAAYZY81q7uCrIz9be/e7vaW4ziM80q9Pttu97rdTqnUmZstFktnzpy9fuN6v98fPDhIkkQIEcVRGHhBHEujK8otp1VrFItFxmiWqfHIU0q22zPs0VrZicnSxlbKLdu1ecFFrT7bWNtcXfHPnV08d1ruw/z8oWajVa81gsDvbXQ9z5tOp2EYpGkSp2m5bC4DvCDDODkyf4jZHClXSgNgseia5QroKJH6ZkfEGw9dx0XGXMcUCwzv9Lr1Wr3VarVb7VSI7Z17SQ6MUlKBUlrtHez37m4ePn3uwrlHStUqgBqP/Uq5alkWImUjTUIlgQEqQzyRZCJJcrLDdDwqlQrDwajVmqnVauVyeTqdLq8sB0EwzMdoMB6MJsPxJJP6uee/d/Hxi+VKOQp93/fbrU61WpVSsr+urCUAYZYoo9NckfBQNhCG0d/ffItS/sWnvtRuz7RanTff+tvSRzfiOBZpYpAHogxdkTL+9jvv1oqVF779HSnTYsEMSlFrhZ8OJ93hSBguU4IU//M02jdOrRW4rvv0008TQvwgmEz8JMkMdsiNB1ILkRPkURj7fjD1fct2Gq06ZUQaAqdMEBu0AMMpcy6fbx5yP89tALSeTv1+f7i8fDuPQGOwRsoqDzYVcGpf+eqVbz77rOO4tVpVZTLPoJM0YqfPnJFKUskIasqpxS3HcSzbUpmMokhJnRsNefXVVxHZyWOnpNYP0xNCGOeOU4hiQ9vpeBoF0UipJAkmk1EaJ5xzz/PIG2/8pVgql+wSs6jl2JbFmbl8MdBgJKpBK4mUSClFKtI0zVSuMiW1yk+MUj8MPW+qFMy0miKNucUm3ihNU0657TgkTbPcZnVuKcbX9UMg8sMmCEqCcXhj0qCkidI6908NpmPkLQIIoHFFA6rUkIECpbUk2vRAM0z23Ir/jepDgE13Mc9M5H+rh2H435PSRsXm+kwIkWaTioDIMmHah0xjIaRi1NxCc1PMw/IbMSjDvrzv5TmVVGkqpOnYHICoh0MamgglTcYsU+ZLxmkSJ0kk0kxkSRiHSfqvAAAA//8XG2dHvN1n9AAAAABJRU5ErkJggg==\"><figcaption style=\"text-align: center;\">automobile ([1])</figcaption></figure></td>\n",
       "<td><figure style=\"padding:4px;text-align: center;\"><img width=\"64\" height=\"64\" src=\"data:image/png;base64,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\"><figcaption style=\"text-align: center;\">frog ([6])</figcaption></figure></td>\n",
       "<td><figure style=\"padding:4px;text-align: center;\"><img width=\"64\" height=\"64\" src=\"data:image/png;base64,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\"><figcaption style=\"text-align: center;\">cat ([3])</figcaption></figure></td>\n",
       "<td><figure style=\"padding:4px;text-align: center;\"><img width=\"64\" height=\"64\" src=\"data:image/png;base64,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\"><figcaption style=\"text-align: center;\">frog ([6])</figcaption></figure></td>\n",
       "<td><figure style=\"padding:4px;text-align: center;\"><img width=\"64\" height=\"64\" src=\"data:image/png;base64,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\"><figcaption style=\"text-align: center;\">frog ([6])</figcaption></figure></td>\n",
       "<td><figure style=\"padding:4px;text-align: center;\"><img width=\"64\" height=\"64\" src=\"data:image/png;base64,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\"><figcaption style=\"text-align: center;\">horse ([7])</figcaption></figure></td>\n",
       "<td><figure style=\"padding:4px;text-align: center;\"><img width=\"64\" height=\"64\" src=\"data:image/png;base64,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\"><figcaption style=\"text-align: center;\">bird ([2])</figcaption></figure></td>\n",
       "</tr></table>\n"
      ]
     },
     "metadata": {},
     "output_type": "display_data"
    },
    {
     "data": {
      "text/html": [
       "<p>Samples Cifar-100</p>\n"
      ]
     },
     "metadata": {},
     "output_type": "display_data"
    },
    {
     "data": {
      "text/html": [
       "<table><tr>\n",
       "<td><figure style=\"padding:4px;text-align: center;\"><img width=\"64\" height=\"64\" src=\"data:image/png;base64,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\"><figcaption style=\"text-align: center;\">chair ([20])</figcaption></figure></td>\n",
       "<td><figure style=\"padding:4px;text-align: center;\"><img width=\"64\" height=\"64\" src=\"data:image/png;base64,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\"><figcaption style=\"text-align: center;\">seal ([72])</figcaption></figure></td>\n",
       "<td><figure style=\"padding:4px;text-align: center;\"><img width=\"64\" height=\"64\" src=\"data:image/png;base64,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\"><figcaption style=\"text-align: center;\">orange ([53])</figcaption></figure></td>\n",
       "<td><figure style=\"padding:4px;text-align: center;\"><img width=\"64\" height=\"64\" src=\"data:image/png;base64,iVBORw0KGgoAAAANSUhEUgAAACAAAAAgCAIAAAD8GO2jAAAKDklEQVR4nByUy48bV3bG76uqWFVksfhuspvsbvZD3S3LUssTDxJPpHHgGBkEyCZIgPwZWWabPybALIIAAQbZBJlMxjEsK7JkSZb6xW4230WyyHo/b90b0Hd3D87inO/3nY/MI44BwIBHGWMAEgBFDIkAIgqCiFGGGAcZ2HRQDrIMMAYAB5wDDgBnNEkZQ2IKNnWegYwDyjadlG8qLAMkSgFkmSQiCBFLs4jzlEJIkR/RNE4gjSEERM4zJnCGOOSAAcwhozRJ3KXRD8Ko1XkokkK6mYNBACEACEAMAASbRzAEjGWccpEgjCEDgLIsS+mwdz0d9U1jqBXkg9PH27tnHOfAz8sgCp21cXX5InZmGeUCZK29c4ikFHDIOYQQcbCZBAIEIckRABHGCBCWIQwBRgwTe7Uwbn9cLaZXl+8LmjIxBl9+pejNDhQ5BtAwjMn9tTm7krIQQdK/eokFsbZzSnIK5TBOOWcMcwgBRJsNAMMECgKCFKRhKEARMpj5zmpy6zirWjkPMBrd9b7/n9/VO8cPP/8VIrn55GY9v8giz/L8XE5w1ivLiR5+Eu4enklameINI8QQR5DxDVSQZiwDgKdZ77aPALUtczbscZ74gRunqSBJZb349vVLeHHXOXysl8XVcmaZ09XC9By3qKsUYHN0SRMBEHnrSBFyCtiYAzIGIQIk45AxQDc/4f1l7+byTV4BLHZlgtS8Gln2yrJFMQ5T5jirP/zXfz/78lleVYduDDmMIl/jSpxQz/M+3FzlWweV3a4feIWizgBgPwMhDMAMQAghBxsYnHPPtiXCB4Y5X6warfZqbQ76l4JSlvPVH1584/tmJS9hIMRhdHTYtV2vfzf8eH1bbe0eGHff/d5NofjF879U8hra+AltJAIb7IAg+PD0OFxNPrweyDncux3OjFWaKRcfBpPxTKuB5nYu8lfGYrBda6iIFVQMIfd9//5+yDnAIFrev4/WZS9T944eHT/IY4Q4B2QDG27UikJvtRinscMhG4xnNM0QFPp3Q1kp1JogSuF0NMU4KVU1QqpR4O+1u67rTxdeo9mRZdJuFZot7ae79dQP9ifG6ckRwSgIQoQRQJAjyAlGs8no3dsfDHO+cjxRFM+fnnR2m48fP+4ediUBB77reX4aJa5jy/mcmCPv3l2++6mXUFbRC51mBXK2XPsc5ZaGMRn20ng5N64I3pwbwggtTVPAWJZysSSrjTLLor1uXdXClQlDP4pCt14vJmk4my4Xs2VeRrVaqVQuF80gjUKCuJxTbu5moe3R0Jz3r6+rgLPt1WqONnA5z2hmLqdhuO7sbBUUOYp8Vc3N58abH19OZ7eT8V17p7rXaRKIsySLoyROwfXtOKX8r77+ur3dCgMnDMO7e2O1smjoIBoIAPIkxTzbRAXEyHXc0bAXhUtRyMqlfJwGskquLu4AR7v72s7OZwjBVy/fswTquhZFYRSz1297KItbzb1Wc0uAuShJmSDLBaHZrIe+GXgLzkQEHIIRiAL/9uptTqS27ZqzhSgQXS9ykNVrpVrj2Fyv5ubaWXvT6YJDiWAgyxJIsqLeSDz75f+9Ov/8wXarOpks0iRoNmqT0Y3jLU8+qdg2i0ILkU3YJaP7j/2bS2Pm9QdzQRBcy3ccv92p0jge31tv3vSMqbe3dyLJiucEge8Dnrmek3KGcyoRMSGs1ah2d2vOYhj5zrNnf3784JhRnkYcAQAkSapWqjfXg4uLnijiSq1YKGrTyfrjh+Hr11e93hAjTBAoqBJgvFSpAIBpSh17AUR6+uhJEpA0SePEms8njPPDg9Ozk3NjskgSAkCZMAAEQlrb26KYMwxD15rL5bx/P53O1mEYuG4YhPGTXxzXywVZVq/ugoQKYUIrZe3Rowdb7fqnpwexvRDQPEkShIhlrZRC/P2LVxlYPf/182ptDyEAMMbValUr5rsHneZ24+52OB4ZbuCvbQ9hsdlqplG2224HjpvFnDGk5jXLsmzLqBekwLhuaFFOJDMjdOzId0NjPvvjN3/o96aOHQMk4V/9xW8wIbPxPcwivai47jpLYRAwvVKtVhtB5EdhCjK8VW8Nx0vHSxvNel5VWUaTJCxIqFmSEQg/XA7ffZwOxwtMcts724JIZFV5+vRxparjfOMIAbTbrAxv3rPEAxAbU8uyHEFS9VIFIZaEWaNWwoKYAuiGbr2q61oRYymKs3pdJ4SvrXgw9VIo+xEtlUuVUslam3pFK+RlwCJ88Mk5DSyR2YvZcLlY2SsnjuBgMuNQqNe3aJbWao3uYas/6C8XpiTmBCK5TigQ0XEsc2V/vOgHCfRTsLPXLZfLo9FoOBoCznS9OJlOJlMD7+wfaAqa9t/LEoEMRG5IRIUCXK5uqWrBNBcPjs70SuHHNz/m81p3r3t0fJJXtVarVSqr9/2RUqjltPL2bvft27eT8TAMg/F4lKaJRMjg7p5ghIulPMFcIFSWYVVTG3qJAjiazy071gq6LItHx49Sivb3D0M/MCbjy6vLjGVh5GCBHh5sHz04uRlMMspCz0GYqaqa0bSx1VByqq7mfv3Lc/JnTx98+92rqFmWBKDlFMagG/peEMZxZtmWuZ6dnoW7u93e9YUsK37ozc3FYNLf2Wmen5+Z83lC0ZdfPv/40yUHaL5YMs7rW3XO0f7h6VdfPO22dPLVs9PIWd7dD2cTgQUg8v2VGypSjiCwNPuOv2Zo1buev3jxw9q2EkDbe+3ZbAIguO8v+rcDTKa/xFpnd1fT8kkaDkfDMMmOT47+/h/+9snBVkHM8N/89eeCIMqyDGLgzkyVYAlBmia1RmmrWXbsZSEvCUjwPX8wvOeQlvVSGocZZXHE0pTKijSbTSqV0m++fn563HHsNWew22kf7qqePTQW96SmH9rmaD4ahH50fvZpt90cjyZx7/aLz/60WC5N7meVfOPh2el+Z18QoO2ajjM9P99jHF9cDUtSwVqvXc/97n9/36rmzk66jz85+f7lu7evXwPoQQK8wCHn5129Irr+ghCpWdYrilYtlda2+9mTJ4Vi6Xf5//iTJ7/Y3qlcXNy0m/VqWdJL+4Wi+vr95Wg81IutIEitlR3Yzm//5bdqXnH9MKGciOIfv3WQnCsURfju1T9DjCFUQYCkGOaotJ5F//nNS6FcBlj413/79512G4p4trA4hmpeKhYLHOFvv/9hNLUURRcJiUMP8QyADBLU3m129tuiCNvbJVGV9/ZqxPJZXpIVSQKUUi+bm0t7bNdzyt392LTWHV0DQTAauoswoIhjhIIkJqLsB1RVsZLLlJwglIv5gnzQ3Tk6qH/66X6xKFAaqbIEEJBEAf7jP/2dKsoihGnMAieiXpAncjEvSRJgWbbVqIdhcjWemKEXZTRNUyIIhEgQgLwmbjWKmqYKAi7qhc7utqIgwH3OYpHkKAVJkmZZ9v8BAAD//3fG4i2SOdxCAAAAAElFTkSuQmCC\"><figcaption style=\"text-align: center;\">pine_tree ([59])</figcaption></figure></td>\n",
       "<td><figure style=\"padding:4px;text-align: center;\"><img width=\"64\" height=\"64\" src=\"data:image/png;base64,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\"><figcaption style=\"text-align: center;\">squirrel ([80])</figcaption></figure></td>\n",
       "<td><figure style=\"padding:4px;text-align: center;\"><img width=\"64\" height=\"64\" src=\"data:image/png;base64,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\"><figcaption style=\"text-align: center;\">skyscraper ([76])</figcaption></figure></td>\n",
       "<td><figure style=\"padding:4px;text-align: center;\"><img width=\"64\" height=\"64\" src=\"data:image/png;base64,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\"><figcaption style=\"text-align: center;\">snake ([78])</figcaption></figure></td>\n",
       "<td><figure style=\"padding:4px;text-align: center;\"><img width=\"64\" height=\"64\" src=\"data:image/png;base64,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\"><figcaption style=\"text-align: center;\">lion ([43])</figcaption></figure></td>\n",
       "</tr></table>\n"
      ]
     },
     "metadata": {},
     "output_type": "display_data"
    }
   ],
   "source": [
    "import (\n",
    "    \"strings\"\n",
    "    \"github.com/gomlx/gopjrt/dtypes\"\n",
    "    \"github.com/gomlx/gomlx/backends\"\n",
    "    \"github.com/gomlx/gomlx/examples/cifar\"\n",
    "    \"github.com/gomlx/gomlx/types/shapes\"\n",
    "    \"github.com/gomlx/gomlx/types/tensors/images\"\n",
    "    \"github.com/janpfeifer/gonb/gonbui\"\n",
    "\n",
    "    _ \"github.com/gomlx/gomlx/backends/xla\"\n",
    ")\n",
    "\n",
    "var (\n",
    "    // Model DType, used everywhere.\n",
    "    DType = dtypes.Float32\n",
    "    \n",
    "    // Global manager, also used for all graphs.\n",
    "    backend = backends.New()\n",
    ")\n",
    "\n",
    "// sampleToNotebook generates a sample of Cifar-10 and Cifar-100 in a GoNB Jupyter Notebook.\n",
    "func sampleToNotebook() {\n",
    "    // Load data into tensors.\n",
    "    ds10 := cifar.NewDataset(backend, \"Samples Cifar-10\", *flagDataDir, cifar.C10, DType, cifar.Train).Shuffle()\n",
    "    ds100 := cifar.NewDataset(backend, \"Samples Cifar-100\", *flagDataDir, cifar.C100, DType, cifar.Train).Shuffle()\n",
    "    sampleImages(ds10, 8, cifar.C10Labels)\n",
    "    sampleImages(ds100, 8, cifar.C100FineLabels)\n",
    "}\n",
    "\n",
    "// sampleTable generates and outputs one html table of samples, sampling rows x cols from the images/labels provided.\n",
    "func sampleImages(ds train.Dataset, numImages int, labelNames []string) {\n",
    "    gonbui.DisplayHTML(fmt.Sprintf(\"<p>%s</p>\\n\", ds.Name()))\n",
    "    \n",
    "    parts := make([]string, 0, numImages+5) // Leave last part empty.\n",
    "    parts = append(parts, \"<table><tr>\")\n",
    "    for ii := 0; ii < numImages; ii++ {\n",
    "        _, inputs, labels := must.M3(ds.Yield())\n",
    "        imgTensor := inputs[0]\n",
    "        img := images.ToImage().Single(imgTensor)\n",
    "        label := labels[0].Value().([]int64)\n",
    "        labelStr := labelNames[label[0]]\n",
    "    \n",
    "        imgSrc := must.M1(gonbui.EmbedImageAsPNGSrc(img))\n",
    "        size := imgTensor.Shape().Dimensions[0]\n",
    "        parts = append(\n",
    "            parts, \n",
    "            fmt.Sprintf(`<td><figure style=\"padding:4px;text-align: center;\"><img width=\"%d\" height=\"%d\" src=\"%s\">` + \n",
    "                        `<figcaption style=\"text-align: center;\">%s (%d)</figcaption></figure></td>`, \n",
    "                        size*2, size*2, imgSrc, labelStr, label),\n",
    "        )\n",
    "    }\n",
    "    parts = append(parts, \"</tr></table>\", \"\")\n",
    "    gonbui.DisplayHTML(strings.Join(parts, \"\\n\"))\n",
    "}\n",
    "\n",
    "%%\n",
    "AssertDownloaded()\n",
    "sampleToNotebook()"
   ]
  },
  {
   "cell_type": "markdown",
   "id": "7fa8c06c-ede0-4cd1-80bd-9331422e3a63",
   "metadata": {},
   "source": [
    "## Training on Cifar-10\n",
    "\n",
    "### Models Support\n",
    "\n",
    "1. `flagModel` defines the model type, out of `validModels` options.\n",
    "1. `createDefaultContex` creates a context and set the default values for the CIFAR models. \n",
    "2. `contextFromSettings` uses `createDefaultContext` and incorporate changes passed by the `-set` flag.\n",
    "1. `CreateDatasets` creates 3 datasets: one for training, and two for evaluation: of the training dataset and of the validation dataset.\n"
   ]
  },
  {
   "cell_type": "code",
   "execution_count": 5,
   "id": "c8d3c19e-af0c-4fef-a76c-dabb375972d0",
   "metadata": {
    "tags": []
   },
   "outputs": [
    {
     "name": "stdout",
     "output_type": "stream",
     "text": [
      "batch_size=17\n",
      "fnn_num_hidden_layers=12\n"
     ]
    }
   ],
   "source": [
    "import (\n",
    "    \"flags\"\n",
    "    \n",
    "    \"github.com/gomlx/gomlx/ml/layers\"\n",
    "    \"github.com/gomlx/gomlx/ml/layers/fnn\"\n",
    "    \"github.com/gomlx/gomlx/ml/layers/kan\"\n",
    "    \"github.com/gomlx/gomlx/ml/layers/regularizers\"\n",
    "    \"github.com/gomlx/gomlx/ml/train/commandline\"\n",
    "    \"github.com/gomlx/gomlx/ml/train/optimizers\"\n",
    "    \"github.com/gomlx/gomlx/examples/cifar\"\n",
    "    \"github.com/gomlx/gomlx/ml/context\"\n",
    ")\n",
    "\n",
    "var (\n",
    "\tvalidModels   = []string{\"fnn\", \"kan\", \"cnn\", \"cnn-kan\"}\n",
    "\tflagModel     = flag.String(\"model\", validModels[0], fmt.Sprintf(\"Valid model types: %v\", validModels))\n",
    "\tflagEval      = flag.Bool(\"eval\", true, \"Whether to evaluate the model on the validation data in the end.\")\n",
    "\tflagVerbosity = flag.Int(\"verbosity\", 1, \"Level of verbosity, the higher the more verbose.\")\n",
    ")\n",
    "\n",
    "// settings is bound to a \"-set\" flag to be used to set context hyperparameters.\n",
    "var settings = commandline.CreateContextSettingsFlag(createDefaultContext(), \"set\")\n",
    "\n",
    "// createDefaultContext sets the context with default hyperparameters\n",
    "func createDefaultContext() *context.Context {\n",
    "\tctx := context.NewContext()\n",
    "\tctx.RngStateReset()\n",
    "\tctx.SetParams(map[string]any{\n",
    "\t\t\"checkpoint\":      \"\",\n",
    "\t\t\"num_checkpoints\": 3,\n",
    "\t\t\"train_steps\":     3000,\n",
    "\n",
    "\t\t// batch_size for training.\n",
    "\t\t\"batch_size\": 50,\n",
    "\n",
    "\t\t// eval_batch_size can be larger than training, it's more efficient.\n",
    "\t\t\"eval_batch_size\": 200,\n",
    "\t\t\"plots\":           true,\n",
    "\n",
    "\t\toptimizers.ParamOptimizer:           \"adamw\",\n",
    "\t\toptimizers.ParamLearningRate:        1e-4,\n",
    "\t\toptimizers.ParamAdamEpsilon:         1e-7,\n",
    "\t\toptimizers.ParamAdamDType:           \"\",\n",
    "\t\toptimizers.ParamCosineScheduleSteps: 0,\n",
    "\t\tactivations.ParamActivation:         \"swish\",\n",
    "\t\tlayers.ParamDropoutRate:             0.0,\n",
    "\t\tregularizers.ParamL2:                1e-5,\n",
    "\t\tregularizers.ParamL1:                1e-5,\n",
    "\n",
    "\t\t// FNN network parameters:\n",
    "\t\tfnn.ParamNumHiddenLayers: 8,\n",
    "\t\tfnn.ParamNumHiddenNodes:  128,\n",
    "\t\tfnn.ParamResidual:        true,\n",
    "\t\tfnn.ParamNormalization:   \"none\",\n",
    "\n",
    "\t\t// KAN network parameters:\n",
    "\t\tkan.ParamNumControlPoints:   10, // Number of control points\n",
    "\t\tkan.ParamNumHiddenNodes:     64,\n",
    "\t\tkan.ParamNumHiddenLayers:    4,\n",
    "\t\tkan.ParamBSplineDegree:      2,\n",
    "\t\tkan.ParamBSplineMagnitudeL1: 1e-5,\n",
    "\t\tkan.ParamBSplineMagnitudeL2: 0.0,\n",
    "\t\tkan.ParamDiscrete:           false,\n",
    "\t\tkan.ParamDiscreteSoftness:   0.1,\n",
    "\n",
    "\t\t// CNN\n",
    "\t\t\"cnn_normalization\": \"layer\",\n",
    "\t})\n",
    "\treturn ctx\n",
    "}\n",
    "\n",
    "// CreateDatasets: train, train for evaluation and validation for evaluation.\n",
    "func CreateDatasets(backend backends.Backend, dataDir string, batchSize, evalBatchSize int) (trainDS, trainEvalDS, validationEvalDS train.Dataset) {\n",
    "\tbaseTrain := cifar.NewDataset(backend, \"Training\", dataDir, cifar.C10, DType, cifar.Train)\n",
    "\tbaseTest := cifar.NewDataset(backend, \"Validation\", dataDir, cifar.C10, DType, cifar.Test)\n",
    "\ttrainDS = baseTrain.Copy().BatchSize(batchSize, true).Shuffle().Infinite(true)\n",
    "\ttrainEvalDS = baseTrain.BatchSize(evalBatchSize, false)\n",
    "\tvalidationEvalDS = baseTest.BatchSize(evalBatchSize, false)\n",
    "\treturn\n",
    "}\n",
    "\n",
    "// ContextFromSettings is the default context (createDefaultContext) changed by -set flag.\n",
    "func ContextFromSettings() *context.Context {\n",
    "    ctx := createDefaultContext()\n",
    "    must.M(commandline.ParseContextSettings(ctx, *settings))\n",
    "    return ctx\n",
    "}\n",
    "\n",
    "// Let's test that we can set hyperparameters by setting it in the \"-set\" flag:\n",
    "%% -set=\"batch_size=17;fnn_num_hidden_layers=12\"\n",
    "ctx := ContextFromSettings()\n",
    "fmt.Printf(\"batch_size=%d\\n\", context.GetParamOr(ctx, \"batch_size\", -1))\n",
    "fmt.Printf(\"fnn_num_hidden_layers=%d\\n\", context.GetParamOr(ctx, \"fnn_num_hidden_layers\", -1))"
   ]
  },
  {
   "cell_type": "markdown",
   "id": "f771ca6f-5912-4406-9f2a-a838fd7cd065",
   "metadata": {},
   "source": [
    "### Simple FNN model\n",
    "\n",
    "A trivial model, that can easily get to ~50% accuracy (a random model would do 10%), but hardly much more than that.\n",
    "\n",
    "Later we are going to define a CNN model to compare, and we just set a placeholder model here for now.\n",
    "\n",
    "> **Note**: \n",
    ">\n",
    "> * Cifar datasets yields (`Dataset.Yield()`) only the indices to the images of the batch as a `Tensor`. But it provides a `GatherImagesGraph` method that gathers the images from a static variable that holds the whole dataset (~1Gb in memory, stored as float32). We access it through the `getBatchedImatges()` defined above. \n"
   ]
  },
  {
   "cell_type": "code",
   "execution_count": 6,
   "id": "0ac4e4da-2c3b-431c-9e54-00e31045785f",
   "metadata": {
    "tags": []
   },
   "outputs": [
    {
     "name": "stdout",
     "output_type": "stream",
     "text": [
      "Logits shape for batch_size=7: (Float32)[7 10]\n"
     ]
    }
   ],
   "source": [
    "import (\n",
    "    \"flags\"\n",
    "    \n",
    "    . \"github.com/gomlx/gomlx/graph\"\n",
    "    \"github.com/gomlx/gomlx/examples/cifar\"\n",
    "    \"github.com/gomlx/gomlx/ml/context\"\n",
    "    \"github.com/gomlx/gomlx/ml/train/optimizers\"\n",
    "    \"github.com/gomlx/gomlx/types/shapes\"\n",
    ")\n",
    "\n",
    "func PlainModelGraph(ctx *context.Context, spec any, inputs []*Node) []*Node {\n",
    "\tctx = ctx.In(\"model\")\n",
    "\tbatchedImages := inputs[0]\n",
    "\tbatchSize := batchedImages.Shape().Dimensions[0]\n",
    "\tlogits := Reshape(batchedImages, batchSize, -1)\n",
    "\tnumClasses := len(cifar.C10Labels)\n",
    "\tif *flagModel == \"kan\" {\n",
    "\t\t// Configuration of the KAN layer(s) use the context hyperparameters.\n",
    "\t\tlogits = kan.New(ctx, logits, numClasses).Done()\n",
    "\t} else {\n",
    "\t\t// Configuration of the FNN layer(s) use the context hyperparameters.\n",
    "\t\tlogits = fnn.New(ctx, logits, numClasses).Done()\n",
    "\t}\n",
    "\tlogits.AssertDims(batchSize, numClasses)\n",
    "\treturn []*Node{logits}\n",
    "}\n",
    "\n",
    "// Only a placeholder for now.\n",
    "func ConvolutionModelGraph(ctx *context.Context, spec any, inputs []*Node) []*Node {\n",
    "    return nil   \n",
    "}\n",
    "\n",
    "%% -set=\"batch_size=7\"\n",
    "// Let's test that the logits are coming out with the right shape: we want [batch_size, 10], since there are 10 classes.\n",
    "AssertDownloaded()\n",
    "ctx := ContextFromSettings()\n",
    "g := NewGraph(backend, \"placeholder\")\n",
    "batchSize := context.GetParamOr(ctx, \"batch_size\", int(100))\n",
    "logits := PlainModelGraph(ctx, nil, []*Node{Parameter(g, \"images\", shapes.Make(DType, batchSize, cifar.Height, cifar.Width, cifar.Depth))})\n",
    "fmt.Printf(\"Logits shape for batch_size=%d: %s\\n\", batchSize, logits[0].Shape())\n"
   ]
  },
  {
   "cell_type": "markdown",
   "id": "aef7d6ee-ca2b-40c7-ac3d-4242ecd8ed1b",
   "metadata": {},
   "source": [
    "### Training Loop\n",
    "\n",
    "With a model function defined, let's create our training loop, with the usual bells and whistles: accuracy metrics, progress-bar, plot of metrics, checkpoints."
   ]
  },
  {
   "cell_type": "code",
   "execution_count": 7,
   "id": "d72336ef-d96d-4d98-a3a6-5df912be5f24",
   "metadata": {
    "tags": []
   },
   "outputs": [
    {
     "name": "stdout",
     "output_type": "stream",
     "text": [
      "Backend \"xla\":\txla:cuda - PJRT \"cuda\" plugin (/usr/local/lib/gomlx/pjrt/pjrt_c_api_cuda_plugin.so) v0.54\n",
      "Model: fnn\n",
      "Training (50 steps):  100% [\u001b[32m=\u001b[0m\u001b[32m=\u001b[0m\u001b[32m=\u001b[0m\u001b[32m=\u001b[0m\u001b[32m=\u001b[0m\u001b[32m=\u001b[0m\u001b[32m=\u001b[0m\u001b[32m=\u001b[0m\u001b[32m=\u001b[0m\u001b[32m=\u001b[0m\u001b[32m=\u001b[0m\u001b[32m=\u001b[0m\u001b[32m=\u001b[0m\u001b[32m=\u001b[0m\u001b[32m=\u001b[0m\u001b[32m=\u001b[0m\u001b[32m=\u001b[0m\u001b[32m=\u001b[0m\u001b[32m=\u001b[0m\u001b[32m=\u001b[0m\u001b[32m=\u001b[0m\u001b[32m=\u001b[0m\u001b[32m=\u001b[0m\u001b[32m=\u001b[0m\u001b[32m=\u001b[0m\u001b[32m=\u001b[0m\u001b[32m=\u001b[0m\u001b[32m=\u001b[0m\u001b[32m=\u001b[0m\u001b[32m=\u001b[0m\u001b[32m=\u001b[0m\u001b[32m=\u001b[0m\u001b[32m=\u001b[0m\u001b[32m=\u001b[0m\u001b[32m=\u001b[0m\u001b[32m=\u001b[0m\u001b[32m=\u001b[0m\u001b[32m=\u001b[0m\u001b[32m=\u001b[0m\u001b[32m=\u001b[0m] (28 steps/s)\u001b[0m [step=49] [loss+=2.283] [~loss+=2.359] [~loss=2.227] [~acc=17.36%]         \n",
      "\t[Step 50] median train step: 3801 microseconds\n",
      "Model size: 510,218 elements, 2.0 MB bytes\n",
      "\n",
      "Results on Validation:\n",
      "\tMean Loss+Regularization (#loss+): 2.279\n",
      "\tMean Loss (#loss): 2.147\n",
      "\tMean Accuracy (#acc): 24.40%\n",
      "Results on Training:\n",
      "\tMean Loss+Regularization (#loss+): 2.277\n",
      "\tMean Loss (#loss): 2.146\n",
      "\tMean Accuracy (#acc): 24.02%\n"
     ]
    }
   ],
   "source": [
    "import (\n",
    "    . \"github.com/gomlx/exceptions\"\n",
    "    \"github.com/gomlx/gomlx/ml/train\"\n",
    "    \"github.com/gomlx/gomlx/examples/notebook/gonb/plotly\"\n",
    ")\n",
    "\n",
    "var (\n",
    "    flagCheckpoint       = flag.String(\"checkpoint\", \"\", \"Directory save and load checkpoints from. If left empty, no checkpoints are created.\")\n",
    "    flagCheckpointKeep   = flag.Int(\"checkpoint_keep\", 10, \"Number of checkpoints to keep, if --checkpoint is set.\")    \n",
    ")\n",
    "\n",
    "// trainModel with hyperparameters given in ctx.\n",
    "// If ctx == nil, it creates a new default context and parses settings from `-set` flag\n",
    "func trainModel(ctx *context.Context) {\n",
    "    if ctx == nil {\n",
    "        ctx = ContextFromSettings()\n",
    "    }\n",
    "    // Make sure data is downloaded.\n",
    "    AssertDownloaded()\n",
    "\n",
    "\tif *flagVerbosity >= 1 {\n",
    "\t\tfmt.Printf(\"Backend %q:\\t%s\\n\", backend.Name(), backend.Description())\n",
    "\t}\n",
    "\n",
    "\t// Create datasets used for training and evaluation.\n",
    "\tbatchSize := context.GetParamOr(ctx, \"batch_size\", int(0))\n",
    "\tif batchSize <= 0 {\n",
    "\t\tPanicf(\"Batch size must be > 0 (maybe it was not set?): %d\", batchSize)\n",
    "\t}\n",
    "\tevalBatchSize := context.GetParamOr(ctx, \"eval_batch_size\", int(0))\n",
    "\tif evalBatchSize <= 0 {\n",
    "\t\tevalBatchSize = batchSize\n",
    "\t}\n",
    "\ttrainDS, evalOnTrainDS, evalOnTestDS := CreateDatasets(backend, *flagDataDir, batchSize, evalBatchSize)\n",
    "\n",
    "\t// Create closure for model graph building function, that uses statically the dataset\n",
    "\t// used for its Dataset.GatherImage, to convert image indices to the actual images.\n",
    "\t// This is the signature of model function that the train.Trainer accepts.\n",
    "\tmodelFn := PlainModelGraph\n",
    "\tif slices.Index(validModels, *flagModel) == -1 {\n",
    "\t\tPanicf(\"Flag --model must take one value from %v, got %q\", validModels, *flagModel)\n",
    "\t}\n",
    "\tif strings.HasPrefix(*flagModel, \"cnn\") {\n",
    "\t\tmodelFn = ConvolutionModelGraph\n",
    "\t}\n",
    "\tfmt.Printf(\"Model: %s\\n\", *flagModel)\n",
    "\n",
    "\t// Metrics we are interested.\n",
    "\tmeanAccuracyMetric := metrics.NewSparseCategoricalAccuracy(\"Mean Accuracy\", \"#acc\")\n",
    "\tmovingAccuracyMetric := metrics.NewMovingAverageSparseCategoricalAccuracy(\"Moving Average Accuracy\", \"~acc\", 0.01)\n",
    "\n",
    "    // Read hyperparameters from context that we don't want overwritten by loading fo the context from a checkpoint.\n",
    "\tnumTrainSteps := context.GetParamOr(ctx, \"train_steps\", 0)\n",
    "\tusePlots := context.GetParamOr(ctx, plotly.ParamPlots, false)\n",
    "\t\n",
    "\t// Checkpoints saving.\n",
    "\tvar globalStep int\n",
    "\tvar checkpoint *checkpoints.Handler\n",
    "\tif *flagCheckpoint != \"\" {\n",
    "\t\tcheckpointPath := data.ReplaceTildeInDir(*flagCheckpoint)\n",
    "\t\tcheckpoint = must.M1(checkpoints.Build(ctx).\n",
    "\t\t\tDirFromBase(checkpointPath, *flagDataDir).Keep(*flagCheckpointKeep).Done())\n",
    "\t\tfmt.Printf(\"Checkpointing model to %q\\n\", checkpoint.Dir())\n",
    "\t\tglobalStep = int(optimizers.GetGlobalStep(ctx))\n",
    "\t\tif globalStep != 0 {\n",
    "\t\t\tfmt.Printf(\"Restarting training from global_step=%d\\n\", globalStep)\n",
    "\t\t\tctx = ctx.Reuse()\n",
    "\t\t}\n",
    "\t}\n",
    "\n",
    "\t// Create a train.Trainer: this object will orchestrate running the model, feeding\n",
    "\t// results to the optimizer, evaluating the metrics, etc. (all happens in trainer.TrainStep)\n",
    "\ttrainer := train.NewTrainer(backend, ctx, modelFn,\n",
    "\t\tlosses.SparseCategoricalCrossEntropyLogits,\n",
    "\t\toptimizers.FromContext(ctx),\n",
    "\t\t[]metrics.Interface{movingAccuracyMetric}, // trainMetrics\n",
    "\t\t[]metrics.Interface{meanAccuracyMetric}) // evalMetrics\n",
    "\n",
    "\t// Use standard training loop.\n",
    "\tloop := train.NewLoop(trainer)\n",
    "\tif *flagVerbosity >= 0 {\n",
    "\t\tcommandline.AttachProgressBar(loop) // Attaches a progress bar to the loop.\n",
    "\t}\n",
    "\n",
    "\t// Attach a checkpoint: checkpoint every 1 minute of training.\n",
    "\tif checkpoint != nil {\n",
    "\t\tperiod := time.Minute * 1\n",
    "\t\ttrain.PeriodicCallback(loop, period, true, \"saving checkpoint\", 100,\n",
    "\t\t\tfunc(loop *train.Loop, metrics []*tensors.Tensor) error {\n",
    "\t\t\t\t// fmt.Printf(\"\\n[saving checkpoint@%d] [median train step (ms): %d]\\n\", loop.LoopStep, loop.MedianTrainStepDuration().Milliseconds())\n",
    "\t\t\t\treturn checkpoint.Save()\n",
    "\t\t\t})\n",
    "\t}\n",
    "\n",
    "\t// Attach Plotly plots: plot points at exponential steps.\n",
    "\t// The points generated are saved along the checkpoint directory (if one is given).\n",
    "\tif usePlots {\n",
    "\t\t_ = plotly.New().Dynamic().\n",
    "\t\t\tScheduleExponential(loop, 200, 1.2).\n",
    "\t\t\tWithDatasets(evalOnTrainDS, evalOnTestDS)\n",
    "\t}\n",
    "\n",
    "\t// Loop for given number of steps.\n",
    "\tif globalStep < numTrainSteps {\n",
    "\t\t_ = must.M1(loop.RunSteps(trainDS, numTrainSteps-globalStep))\n",
    "\t\tif *flagVerbosity >= 1 {\n",
    "\t\t\tfmt.Printf(\"\\t[Step %d] median train step: %d microseconds\\n\",\n",
    "\t\t\t\tloop.LoopStep, loop.MedianTrainStepDuration().Microseconds())\n",
    "\t\t}\n",
    "\t} else {\n",
    "\t\tfmt.Printf(\"\\t - target train_steps=%d already reached. To train further, set a number additional \"+\n",
    "\t\t\t\"to current global step.\\n\", numTrainSteps)\n",
    "\t}\n",
    "\n",
    "\tif *flagVerbosity >= 1 {\n",
    "\t\tvar modelSize int\n",
    "\t\tvar modelMemory uintptr\n",
    "\t\tif *flagVerbosity >= 2 {\n",
    "\t\t\tfmt.Println(\"Variables:\")\n",
    "\t\t}\n",
    "\t\tctx.EnumerateVariables(func(v *context.Variable) {\n",
    "\t\t\tif !strings.HasPrefix(v.Scope(), \"/model/\") {\n",
    "\t\t\t\treturn\n",
    "\t\t\t}\n",
    "\t\t\tshape := v.Shape()\n",
    "\t\t\tif *flagVerbosity >= 2 {\n",
    "\t\t\t\tfmt.Printf(\"\\t%s : %s - %s, %s elements, %s bytes\\n\", v.Scope(), v.Name(),\n",
    "\t\t\t\t\tshape, humanize.Comma(int64(shape.Size())), humanize.Bytes(uint64(shape.Memory())))\n",
    "\t\t\t}\n",
    "\t\t\tmodelSize += shape.Size()\n",
    "\t\t\tmodelMemory += shape.Memory()\n",
    "\t\t})\n",
    "\t\tfmt.Printf(\"Model size: %s elements, %s bytes\\n\",\n",
    "\t\t\thumanize.Comma(int64(modelSize)), humanize.Bytes(uint64(modelMemory)))\n",
    "\t}\n",
    "\n",
    "\t// Finally, print an evaluation on train and test datasets.\n",
    "\tif *flagEval {\n",
    "\t\tif *flagVerbosity >= 1 {\n",
    "\t\t\tfmt.Println()\n",
    "\t\t}\n",
    "\t\tmust.M(commandline.ReportEval(trainer, evalOnTestDS, evalOnTrainDS))\n",
    "\t}\n",
    "}\n",
    "\n",
    "%% --model=fnn --set=\"train_steps=50;plots=false\"\n",
    "trainModel(nil)"
   ]
  },
  {
   "cell_type": "markdown",
   "id": "300a8419-5679-42ba-9149-51c17c7c427d",
   "metadata": {},
   "source": [
    "### FNN Model Training\n",
    "\n",
    "Let's train the FNN for real this time."
   ]
  },
  {
   "cell_type": "code",
   "execution_count": 8,
   "id": "4de9b879-4790-4aac-ace7-3c8a348ac961",
   "metadata": {},
   "outputs": [],
   "source": [
    "// Remove a previously trained model. Skip this if you want to continue training a previous model.\n",
    "!rm -rf ~/work/cifar/base_fnn_model  "
   ]
  },
  {
   "cell_type": "code",
   "execution_count": 9,
   "id": "cf876f49-e737-4dfa-aa05-48aad3d7a128",
   "metadata": {
    "tags": []
   },
   "outputs": [
    {
     "name": "stdout",
     "output_type": "stream",
     "text": [
      "Backend \"xla\":\txla:cuda - PJRT \"cuda\" plugin (/usr/local/lib/gomlx/pjrt/pjrt_c_api_cuda_plugin.so) v0.54\n",
      "Model: fnn\n",
      "Checkpointing model to \"/home/janpf/work/cifar/base_fnn_model\"\n"
     ]
    },
    {
     "data": {
      "text/html": []
     },
     "metadata": {},
     "output_type": "display_data"
    },
    {
     "name": "stdout",
     "output_type": "stream",
     "text": [
      "Training (10000 steps):    7% [\u001b[32m=\u001b[0m\u001b[32m>\u001b[0m......................................] (151 steps/s) [6s:1m1s]\u001b[0m [step=719] [loss+=2.001] [~loss+=1.938] [~loss=1.809] [~acc=35.59%]         "
     ]
    },
    {
     "data": {
      "text/html": []
     },
     "metadata": {},
     "output_type": "display_data"
    },
    {
     "name": "stdout",
     "output_type": "stream",
     "text": [
      "Training (10000 steps):  100% [\u001b[32m=\u001b[0m\u001b[32m=\u001b[0m\u001b[32m=\u001b[0m\u001b[32m=\u001b[0m\u001b[32m=\u001b[0m\u001b[32m=\u001b[0m\u001b[32m=\u001b[0m\u001b[32m=\u001b[0m\u001b[32m=\u001b[0m\u001b[32m=\u001b[0m\u001b[32m=\u001b[0m\u001b[32m=\u001b[0m\u001b[32m=\u001b[0m\u001b[32m=\u001b[0m\u001b[32m=\u001b[0m\u001b[32m=\u001b[0m\u001b[32m=\u001b[0m\u001b[32m=\u001b[0m\u001b[32m=\u001b[0m\u001b[32m=\u001b[0m\u001b[32m=\u001b[0m\u001b[32m=\u001b[0m\u001b[32m=\u001b[0m\u001b[32m=\u001b[0m\u001b[32m=\u001b[0m\u001b[32m=\u001b[0m\u001b[32m=\u001b[0m\u001b[32m=\u001b[0m\u001b[32m=\u001b[0m\u001b[32m=\u001b[0m\u001b[32m=\u001b[0m\u001b[32m=\u001b[0m\u001b[32m=\u001b[0m\u001b[32m=\u001b[0m\u001b[32m=\u001b[0m\u001b[32m=\u001b[0m\u001b[32m=\u001b[0m\u001b[32m=\u001b[0m\u001b[32m=\u001b[0m\u001b[32m=\u001b[0m] (190 steps/s)\u001b[0m [step=9999] [loss+=1.485] [~loss+=1.459] [~loss=1.335] [~acc=52.75%]        \n",
      "\n",
      "[saving checkpoint@10000] [median train step (ms): 4]\n"
     ]
    },
    {
     "data": {
      "text/html": [
       "<p><b>Metric: accuracy</b></p>\n"
      ]
     },
     "metadata": {},
     "output_type": "display_data"
    },
    {
     "data": {
      "text/html": [
       "<div id=\"02a7455e\"></div>"
      ]
     },
     "metadata": {},
     "output_type": "display_data"
    },
    {
     "data": {
      "text/html": [
       "<script charset=\"UTF-8\">\n",
       "(() => {\n",
       "\tconst src=\"https://cdn.plot.ly/plotly-2.29.1.min.js\";\n",
       "\tvar runJSFn = function(module) {\n",
       "\t\t\n",
       "\tif (!module) {\n",
       "\t\tmodule = window.Plotly;\n",
       "\t}\n",
       "\tlet data = JSON.parse('{\"data\":[{\"type\":\"scatter\",\"line\":{\"shape\":\"linear\"},\"mode\":\"lines+markers\",\"name\":\"Train: Moving Average Accuracy\",\"x\":[200,440,728,1074,1489,1987,2585,3303,4165,5199,6440,7929,9716,10000],\"y\":[0.25903844833374023,0.33110126852989197,0.3603426218032837,0.3952716886997223,0.39923757314682007,0.4293763041496277,0.447035014629364,0.4515385627746582,0.4710701107978821,0.4851619601249695,0.4983404278755188,0.5040075778961182,0.522214412689209,0.5275061726570129]},{\"type\":\"scatter\",\"line\":{\"shape\":\"linear\"},\"mode\":\"lines+markers\",\"name\":\"Eval on Training: Mean Accuracy\",\"x\":[200,440,728,1074,1489,1987,2585,3303,4165,5199,6440,7929,9716,10000],\"y\":[0.29736000299453735,0.3550399839878082,0.37022000551223755,0.4029799997806549,0.40577998757362366,0.4410399794578552,0.4515799880027771,0.47061997652053833,0.4751399755477905,0.4934999942779541,0.5045799612998962,0.4986400008201599,0.519540011882782,0.5322399735450745]},{\"type\":\"scatter\",\"line\":{\"shape\":\"linear\"},\"mode\":\"lines+markers\",\"name\":\"Eval on Validation: Mean Accuracy\",\"x\":[200,440,728,1074,1489,1987,2585,3303,4165,5199,6440,7929,9716,10000],\"y\":[0.2946000099182129,0.3525000214576721,0.3725000321865082,0.406900018453598,0.4130000174045563,0.4394000172615051,0.44620001316070557,0.4677000343799591,0.46080002188682556,0.48730000853538513,0.4871000349521637,0.4727000296115875,0.4935000240802765,0.503000020980835]}],\"layout\":{\"legend\":{},\"title\":{\"text\":\"accuracy\"},\"xaxis\":{\"showgrid\":true,\"type\":\"log\"},\"yaxis\":{\"showgrid\":true,\"type\":\"log\"}}}');\n",
       "\tmodule.newPlot('02a7455e', data);\n",
       "\n",
       "\t}\n",
       "\t\n",
       "    if (typeof requirejs === \"function\") {\n",
       "        // Use RequireJS to load module.\n",
       "\t\tlet srcWithoutExtension = src.substring(0, src.lastIndexOf(\".js\"));\n",
       "        requirejs.config({\n",
       "            paths: {\n",
       "                'plotly': srcWithoutExtension\n",
       "            }\n",
       "        });\n",
       "        require(['plotly'], function(plotly) {\n",
       "            runJSFn(plotly)\n",
       "        });\n",
       "        return\n",
       "    }\n",
       "\n",
       "\tvar currentScripts = document.head.getElementsByTagName(\"script\");\n",
       "\tfor (const idx in currentScripts) {\n",
       "\t\tlet script = currentScripts[idx];\n",
       "\t\tif (script.src == src) {\n",
       "\t\t\trunJSFn(null);\n",
       "\t\t\treturn;\n",
       "\t\t}\n",
       "\t}\n",
       "\n",
       "\tvar script = document.createElement(\"script\");\n",
       "\n",
       "\tscript.charset = \"utf-8\";\n",
       "\t\n",
       "\tscript.src = src;\n",
       "\tscript.onload = script.onreadystatechange = function () { runJSFn(null); };\n",
       "\tdocument.head.appendChild(script);\t\n",
       "})();\n",
       "</script>"
      ]
     },
     "metadata": {},
     "output_type": "display_data"
    },
    {
     "data": {
      "text/html": [
       "<p><b>Metric: loss</b></p>\n"
      ]
     },
     "metadata": {},
     "output_type": "display_data"
    },
    {
     "data": {
      "text/html": [
       "<div id=\"6a7c1548\"></div>"
      ]
     },
     "metadata": {},
     "output_type": "display_data"
    },
    {
     "data": {
      "text/html": [
       "<script charset=\"UTF-8\">\n",
       "(() => {\n",
       "\tconst src=\"https://cdn.plot.ly/plotly-2.29.1.min.js\";\n",
       "\tvar runJSFn = function(module) {\n",
       "\t\t\n",
       "\tif (!module) {\n",
       "\t\tmodule = window.Plotly;\n",
       "\t}\n",
       "\tlet data = JSON.parse('{\"data\":[{\"type\":\"scatter\",\"line\":{\"shape\":\"linear\"},\"mode\":\"lines+markers\",\"name\":\"Train: Batch Loss+Regularization\",\"x\":[200,440,728,1074,1489,1987,2585,3303,4165,5199,6440,7929,9716,10000],\"y\":[2.082019567489624,1.9756627082824707,1.5637248754501343,1.5726312398910522,1.8739653825759888,1.4853087663650513,1.6629528999328613,1.5529670715332031,1.3670508861541748,1.5168951749801636,1.8091559410095215,1.7585171461105347,1.708962321281433,1.4854023456573486]},{\"type\":\"scatter\",\"line\":{\"shape\":\"linear\"},\"mode\":\"lines+markers\",\"name\":\"Train: Moving Average Loss+Regularization\",\"x\":[200,440,728,1074,1489,1987,2585,3303,4165,5199,6440,7929,9716,10000],\"y\":[2.1687254905700684,2.0119736194610596,1.9284371137619019,1.841349720954895,1.7941863536834717,1.7345672845840454,1.6912696361541748,1.653073787689209,1.6178085803985596,1.5740076303482056,1.539370059967041,1.5063167810440063,1.4701546430587769,1.4590705633163452]},{\"type\":\"scatter\",\"line\":{\"shape\":\"linear\"},\"mode\":\"lines+markers\",\"name\":\"Train: Moving Average Loss\",\"x\":[200,440,728,1074,1489,1987,2585,3303,4165,5199,6440,7929,9716,10000],\"y\":[2.0378503799438477,1.8819735050201416,1.799265742301941,1.7128212451934814,1.6661490201950073,1.6069912910461426,1.5641162395477295,1.5263901948928833,1.4916067123413086,1.448249101638794,1.4140501022338867,1.3814233541488647,1.3455742597579956,1.334578275680542]},{\"type\":\"scatter\",\"line\":{\"shape\":\"linear\"},\"mode\":\"lines+markers\",\"name\":\"Eval on Training: Mean Loss+Regularization\",\"x\":[200,440,728,1074,1489,1987,2585,3303,4165,5199,6440,7929,9716,10000],\"y\":[2.081550121307373,1.9562151432037354,1.9079267978668213,1.8160755634307861,1.776419758796692,1.7104381322860718,1.6723781824111938,1.625689148902893,1.5925179719924927,1.5461915731430054,1.516115427017212,1.5244585275650024,1.455089807510376,1.424394130706787]},{\"type\":\"scatter\",\"line\":{\"shape\":\"linear\"},\"mode\":\"lines+markers\",\"name\":\"Eval on Training: Mean Loss\",\"x\":[200,440,728,1074,1489,1987,2585,3303,4165,5199,6440,7929,9716,10000],\"y\":[1.9510071277618408,1.826560616493225,1.7789852619171143,1.6876671314239502,1.6484968662261963,1.5829365253448486,1.5452860593795776,1.4990653991699219,1.4663490056991577,1.420480489730835,1.39082670211792,1.3995999097824097,1.3305277824401855,1.2999411821365356]},{\"type\":\"scatter\",\"line\":{\"shape\":\"linear\"},\"mode\":\"lines+markers\",\"name\":\"Eval on Validation: Mean Loss+Regularization\",\"x\":[200,440,728,1074,1489,1987,2585,3303,4165,5199,6440,7929,9716,10000],\"y\":[2.0802855491638184,1.955713152885437,1.907537579536438,1.8159202337265015,1.7741135358810425,1.715684413909912,1.6832537651062012,1.6432605981826782,1.6198867559432983,1.5829893350601196,1.5703353881835938,1.5881708860397339,1.537434697151184,1.511246681213379]},{\"type\":\"scatter\",\"line\":{\"shape\":\"linear\"},\"mode\":\"lines+markers\",\"name\":\"Eval on Validation: Mean Loss\",\"x\":[200,440,728,1074,1489,1987,2585,3303,4165,5199,6440,7929,9716,10000],\"y\":[1.9497435092926025,1.8260586261749268,1.7785967588424683,1.6875115633010864,1.646191120147705,1.5881820917129517,1.5561612844467163,1.5166362524032593,1.4937173128128052,1.457277774810791,1.445046305656433,1.4633121490478516,1.4128727912902832,1.3867944478988647]}],\"layout\":{\"legend\":{},\"title\":{\"text\":\"loss\"},\"xaxis\":{\"showgrid\":true,\"type\":\"log\"},\"yaxis\":{\"showgrid\":true,\"type\":\"log\"}}}');\n",
       "\tmodule.newPlot('6a7c1548', data);\n",
       "\n",
       "\t}\n",
       "\t\n",
       "    if (typeof requirejs === \"function\") {\n",
       "        // Use RequireJS to load module.\n",
       "\t\tlet srcWithoutExtension = src.substring(0, src.lastIndexOf(\".js\"));\n",
       "        requirejs.config({\n",
       "            paths: {\n",
       "                'plotly': srcWithoutExtension\n",
       "            }\n",
       "        });\n",
       "        require(['plotly'], function(plotly) {\n",
       "            runJSFn(plotly)\n",
       "        });\n",
       "        return\n",
       "    }\n",
       "\n",
       "\tvar currentScripts = document.head.getElementsByTagName(\"script\");\n",
       "\tfor (const idx in currentScripts) {\n",
       "\t\tlet script = currentScripts[idx];\n",
       "\t\tif (script.src == src) {\n",
       "\t\t\trunJSFn(null);\n",
       "\t\t\treturn;\n",
       "\t\t}\n",
       "\t}\n",
       "\n",
       "\tvar script = document.createElement(\"script\");\n",
       "\n",
       "\tscript.charset = \"utf-8\";\n",
       "\t\n",
       "\tscript.src = src;\n",
       "\tscript.onload = script.onreadystatechange = function () { runJSFn(null); };\n",
       "\tdocument.head.appendChild(script);\t\n",
       "})();\n",
       "</script>"
      ]
     },
     "metadata": {},
     "output_type": "display_data"
    },
    {
     "name": "stdout",
     "output_type": "stream",
     "text": [
      "\t[Step 10000] median train step: 4126 microseconds\n",
      "Model size: 510,218 elements, 2.0 MB bytes\n",
      "\n",
      "Results on Validation:\n",
      "\tMean Loss+Regularization (#loss+): 1.511\n",
      "\tMean Loss (#loss): 1.387\n",
      "\tMean Accuracy (#acc): 50.30%\n",
      "Results on Training:\n",
      "\tMean Loss+Regularization (#loss+): 1.424\n",
      "\tMean Loss (#loss): 1.300\n",
      "\tMean Accuracy (#acc): 53.22%\n"
     ]
    }
   ],
   "source": [
    "%% --model=fnn --checkpoint=base_fnn_model --set=\"train_steps=10000;plots=true\"\n",
    "trainModel(ContextFromSettings())"
   ]
  },
  {
   "cell_type": "markdown",
   "id": "97b25f95-c474-4e04-8f7c-f1fb61efce96",
   "metadata": {},
   "source": [
    "### Kolmogorov-Arnold Networks (KAN) Model\n",
    "\n",
    "A more recent alternative to FNN models. See description in https://arxiv.org/pdf/2404.19756\n",
    "\n",
    "While it matches FNNs on the training data, it's overfitting a lot. But it saw very little hyperparameter tunning (in particular regularizations), so it is\n",
    "possible it would match FNNs."
   ]
  },
  {
   "cell_type": "code",
   "execution_count": 10,
   "id": "4c1c1c1f-24a8-4354-8109-0a10aaf48341",
   "metadata": {},
   "outputs": [],
   "source": [
    "// Remove a previously trained model. Skip this if you want to continue training a previous model.\n",
    "!rm -rf ~/work/cifar/base_kan_model  "
   ]
  },
  {
   "cell_type": "code",
   "execution_count": 11,
   "id": "f2f9be60-a420-4dd5-93e6-f7104d112f25",
   "metadata": {},
   "outputs": [
    {
     "name": "stdout",
     "output_type": "stream",
     "text": [
      "Backend \"xla\":\txla:cuda - PJRT \"cuda\" plugin (/usr/local/lib/gomlx/pjrt/pjrt_c_api_cuda_plugin.so) v0.54\n",
      "Model: kan\n",
      "Checkpointing model to \"/home/janpf/work/cifar/base_kan_model\"\n"
     ]
    },
    {
     "data": {
      "text/html": []
     },
     "metadata": {},
     "output_type": "display_data"
    },
    {
     "name": "stdout",
     "output_type": "stream",
     "text": [
      "Training (10000 steps):    7% [\u001b[32m=\u001b[0m\u001b[32m>\u001b[0m......................................] (43 steps/s) [22s:3m33s]\u001b[0m [step=719] [loss+=4.317] [~loss+=4.208] [~loss=1.890] [~acc=33.32%]        "
     ]
    },
    {
     "data": {
      "text/html": []
     },
     "metadata": {},
     "output_type": "display_data"
    },
    {
     "name": "stdout",
     "output_type": "stream",
     "text": [
      "Training (10000 steps):   22% [\u001b[32m=\u001b[0m\u001b[32m=\u001b[0m\u001b[32m=\u001b[0m\u001b[32m=\u001b[0m\u001b[32m=\u001b[0m\u001b[32m=\u001b[0m\u001b[32m=\u001b[0m\u001b[32m=\u001b[0m\u001b[32m>\u001b[0m...............................] (41 steps/s) [1m2s:3m8s]\u001b[0m [step=2254] [loss+=3.801] [~loss+=3.848] [~loss=1.541] [~acc=44.65%]        \n",
      "[saving checkpoint@2254] [median train step (ms): 24]\n",
      "Training (10000 steps):   47% [\u001b[32m=\u001b[0m\u001b[32m=\u001b[0m\u001b[32m=\u001b[0m\u001b[32m=\u001b[0m\u001b[32m=\u001b[0m\u001b[32m=\u001b[0m\u001b[32m=\u001b[0m\u001b[32m=\u001b[0m\u001b[32m=\u001b[0m\u001b[32m=\u001b[0m\u001b[32m=\u001b[0m\u001b[32m=\u001b[0m\u001b[32m=\u001b[0m\u001b[32m=\u001b[0m\u001b[32m=\u001b[0m\u001b[32m=\u001b[0m\u001b[32m=\u001b[0m\u001b[32m=\u001b[0m\u001b[32m>\u001b[0m.....................] (41 steps/s) [2m2s:2m8s]\u001b[0m [step=4749] [loss+=3.691] [~loss+=3.628] [~loss=1.344] [~acc=51.73%]        \n",
      "[saving checkpoint@4749] [median train step (ms): 24]\n",
      "Training (10000 steps):   72% [\u001b[32m=\u001b[0m\u001b[32m=\u001b[0m\u001b[32m=\u001b[0m\u001b[32m=\u001b[0m\u001b[32m=\u001b[0m\u001b[32m=\u001b[0m\u001b[32m=\u001b[0m\u001b[32m=\u001b[0m\u001b[32m=\u001b[0m\u001b[32m=\u001b[0m\u001b[32m=\u001b[0m\u001b[32m=\u001b[0m\u001b[32m=\u001b[0m\u001b[32m=\u001b[0m\u001b[32m=\u001b[0m\u001b[32m=\u001b[0m\u001b[32m=\u001b[0m\u001b[32m=\u001b[0m\u001b[32m=\u001b[0m\u001b[32m=\u001b[0m\u001b[32m=\u001b[0m\u001b[32m=\u001b[0m\u001b[32m=\u001b[0m\u001b[32m=\u001b[0m\u001b[32m=\u001b[0m\u001b[32m=\u001b[0m\u001b[32m=\u001b[0m\u001b[32m>\u001b[0m............] (41 steps/s) [3m2s:1m8s]\u001b[0m [step=7199] [loss+=3.251] [~loss+=3.222] [~loss=0.962] [~acc=65.67%]          \n",
      "[saving checkpoint@7201] [median train step (ms): 24]\n",
      "Training (10000 steps):   97% [\u001b[32m=\u001b[0m\u001b[32m=\u001b[0m\u001b[32m=\u001b[0m\u001b[32m=\u001b[0m\u001b[32m=\u001b[0m\u001b[32m=\u001b[0m\u001b[32m=\u001b[0m\u001b[32m=\u001b[0m\u001b[32m=\u001b[0m\u001b[32m=\u001b[0m\u001b[32m=\u001b[0m\u001b[32m=\u001b[0m\u001b[32m=\u001b[0m\u001b[32m=\u001b[0m\u001b[32m=\u001b[0m\u001b[32m=\u001b[0m\u001b[32m=\u001b[0m\u001b[32m=\u001b[0m\u001b[32m=\u001b[0m\u001b[32m=\u001b[0m\u001b[32m=\u001b[0m\u001b[32m=\u001b[0m\u001b[32m=\u001b[0m\u001b[32m=\u001b[0m\u001b[32m=\u001b[0m\u001b[32m=\u001b[0m\u001b[32m=\u001b[0m\u001b[32m=\u001b[0m\u001b[32m=\u001b[0m\u001b[32m=\u001b[0m\u001b[32m=\u001b[0m\u001b[32m=\u001b[0m\u001b[32m=\u001b[0m\u001b[32m=\u001b[0m\u001b[32m=\u001b[0m\u001b[32m=\u001b[0m\u001b[32m=\u001b[0m\u001b[32m>\u001b[0m..] (41 steps/s) [4m2s:6s]\u001b[0m [step=9729] [loss+=2.758] [~loss+=3.050] [~loss=0.810] [~acc=71.30%]          \n",
      "[saving checkpoint@9731] [median train step (ms): 24]\n",
      "Training (10000 steps):  100% [\u001b[32m=\u001b[0m\u001b[32m=\u001b[0m\u001b[32m=\u001b[0m\u001b[32m=\u001b[0m\u001b[32m=\u001b[0m\u001b[32m=\u001b[0m\u001b[32m=\u001b[0m\u001b[32m=\u001b[0m\u001b[32m=\u001b[0m\u001b[32m=\u001b[0m\u001b[32m=\u001b[0m\u001b[32m=\u001b[0m\u001b[32m=\u001b[0m\u001b[32m=\u001b[0m\u001b[32m=\u001b[0m\u001b[32m=\u001b[0m\u001b[32m=\u001b[0m\u001b[32m=\u001b[0m\u001b[32m=\u001b[0m\u001b[32m=\u001b[0m\u001b[32m=\u001b[0m\u001b[32m=\u001b[0m\u001b[32m=\u001b[0m\u001b[32m=\u001b[0m\u001b[32m=\u001b[0m\u001b[32m=\u001b[0m\u001b[32m=\u001b[0m\u001b[32m=\u001b[0m\u001b[32m=\u001b[0m\u001b[32m=\u001b[0m\u001b[32m=\u001b[0m\u001b[32m=\u001b[0m\u001b[32m=\u001b[0m\u001b[32m=\u001b[0m\u001b[32m=\u001b[0m\u001b[32m=\u001b[0m\u001b[32m=\u001b[0m\u001b[32m=\u001b[0m\u001b[32m=\u001b[0m\u001b[32m=\u001b[0m] (40 steps/s)\u001b[0m [step=9999] [loss+=3.024] [~loss+=3.059] [~loss=0.820] [~acc=70.28%]         \n",
      "\n",
      "[saving checkpoint@10000] [median train step (ms): 24]\n"
     ]
    },
    {
     "data": {
      "text/html": [
       "<p><b>Metric: accuracy</b></p>\n"
      ]
     },
     "metadata": {},
     "output_type": "display_data"
    },
    {
     "data": {
      "text/html": [
       "<div id=\"2f3bf3fb\"></div>"
      ]
     },
     "metadata": {},
     "output_type": "display_data"
    },
    {
     "data": {
      "text/html": [
       "<script charset=\"UTF-8\">\n",
       "(() => {\n",
       "\tconst src=\"https://cdn.plot.ly/plotly-2.29.1.min.js\";\n",
       "\tvar runJSFn = function(module) {\n",
       "\t\t\n",
       "\tif (!module) {\n",
       "\t\tmodule = window.Plotly;\n",
       "\t}\n",
       "\tlet data = JSON.parse('{\"data\":[{\"type\":\"scatter\",\"line\":{\"shape\":\"linear\"},\"mode\":\"lines+markers\",\"name\":\"Train: Moving Average Accuracy\",\"x\":[200,440,728,1074,1489,1987,2585,3303,4165,5199,6440,7929,9716,10000],\"y\":[0.21791920065879822,0.28170424699783325,0.3342130184173584,0.37606489658355713,0.4101197123527527,0.4007975459098816,0.4538380205631256,0.48585787415504456,0.5325579047203064,0.5725468993186951,0.6130103468894958,0.6291442513465881,0.7109900116920471,0.7027748227119446]},{\"type\":\"scatter\",\"line\":{\"shape\":\"linear\"},\"mode\":\"lines+markers\",\"name\":\"Eval on Training: Mean Accuracy\",\"x\":[200,440,728,1074,1489,1987,2585,3303,4165,5199,6440,7929,9716,10000],\"y\":[0.2639800012111664,0.31817999482154846,0.370419979095459,0.39611998200416565,0.4276599884033203,0.4495599865913391,0.4803600013256073,0.5313999652862549,0.5418800115585327,0.6026600003242493,0.6319000124931335,0.6681599617004395,0.7638799548149109,0.752519965171814]},{\"type\":\"scatter\",\"line\":{\"shape\":\"linear\"},\"mode\":\"lines+markers\",\"name\":\"Eval on Validation: Mean Accuracy\",\"x\":[200,440,728,1074,1489,1987,2585,3303,4165,5199,6440,7929,9716,10000],\"y\":[0.2531000077724457,0.3062000274658203,0.34960001707077026,0.3767000138759613,0.39420002698898315,0.4205000102519989,0.42600002884864807,0.45660001039505005,0.4439000189304352,0.46140003204345703,0.46410003304481506,0.4418000280857086,0.46880000829696655,0.4652000367641449]}],\"layout\":{\"legend\":{},\"title\":{\"text\":\"accuracy\"},\"xaxis\":{\"showgrid\":true,\"type\":\"log\"},\"yaxis\":{\"showgrid\":true,\"type\":\"log\"}}}');\n",
       "\tmodule.newPlot('2f3bf3fb', data);\n",
       "\n",
       "\t}\n",
       "\t\n",
       "    if (typeof requirejs === \"function\") {\n",
       "        // Use RequireJS to load module.\n",
       "\t\tlet srcWithoutExtension = src.substring(0, src.lastIndexOf(\".js\"));\n",
       "        requirejs.config({\n",
       "            paths: {\n",
       "                'plotly': srcWithoutExtension\n",
       "            }\n",
       "        });\n",
       "        require(['plotly'], function(plotly) {\n",
       "            runJSFn(plotly)\n",
       "        });\n",
       "        return\n",
       "    }\n",
       "\n",
       "\tvar currentScripts = document.head.getElementsByTagName(\"script\");\n",
       "\tfor (const idx in currentScripts) {\n",
       "\t\tlet script = currentScripts[idx];\n",
       "\t\tif (script.src == src) {\n",
       "\t\t\trunJSFn(null);\n",
       "\t\t\treturn;\n",
       "\t\t}\n",
       "\t}\n",
       "\n",
       "\tvar script = document.createElement(\"script\");\n",
       "\n",
       "\tscript.charset = \"utf-8\";\n",
       "\t\n",
       "\tscript.src = src;\n",
       "\tscript.onload = script.onreadystatechange = function () { runJSFn(null); };\n",
       "\tdocument.head.appendChild(script);\t\n",
       "})();\n",
       "</script>"
      ]
     },
     "metadata": {},
     "output_type": "display_data"
    },
    {
     "data": {
      "text/html": [
       "<p><b>Metric: loss</b></p>\n"
      ]
     },
     "metadata": {},
     "output_type": "display_data"
    },
    {
     "data": {
      "text/html": [
       "<div id=\"501f4faa\"></div>"
      ]
     },
     "metadata": {},
     "output_type": "display_data"
    },
    {
     "data": {
      "text/html": [
       "<script charset=\"UTF-8\">\n",
       "(() => {\n",
       "\tconst src=\"https://cdn.plot.ly/plotly-2.29.1.min.js\";\n",
       "\tvar runJSFn = function(module) {\n",
       "\t\t\n",
       "\tif (!module) {\n",
       "\t\tmodule = window.Plotly;\n",
       "\t}\n",
       "\tlet data = JSON.parse('{\"data\":[{\"type\":\"scatter\",\"line\":{\"shape\":\"linear\"},\"mode\":\"lines+markers\",\"name\":\"Train: Batch Loss+Regularization\",\"x\":[200,440,728,1074,1489,1987,2585,3303,4165,5199,6440,7929,9716,10000],\"y\":[4.0865092277526855,4.153526782989502,3.9464943408966064,4.276294231414795,4.062788963317871,4.0930256843566895,3.5465264320373535,3.779292583465576,3.4239187240600586,3.200320243835449,3.2695209980010986,3.389674663543701,2.846020460128784,3.024430513381958]},{\"type\":\"scatter\",\"line\":{\"shape\":\"linear\"},\"mode\":\"lines+markers\",\"name\":\"Train: Moving Average Loss+Regularization\",\"x\":[200,440,728,1074,1489,1987,2585,3303,4165,5199,6440,7929,9716,10000],\"y\":[4.737371921539307,4.379135608673096,4.207275390625,4.066784381866455,3.9821102619171143,3.970203161239624,3.836932420730591,3.726156711578369,3.5888078212738037,3.4657092094421387,3.3614373207092285,3.295837879180908,3.0483639240264893,3.0592041015625]},{\"type\":\"scatter\",\"line\":{\"shape\":\"linear\"},\"mode\":\"lines+markers\",\"name\":\"Train: Moving Average Loss\",\"x\":[200,440,728,1074,1489,1987,2585,3303,4165,5199,6440,7929,9716,10000],\"y\":[2.41597318649292,2.0588252544403076,1.8885743618011475,1.7503255605697632,1.6685949563980103,1.660749912261963,1.5326154232025146,1.4286143779754639,1.2997938394546509,1.1869786977767944,1.0944432020187378,1.0417466163635254,0.8076112866401672,0.8204824328422546]},{\"type\":\"scatter\",\"line\":{\"shape\":\"linear\"},\"mode\":\"lines+markers\",\"name\":\"Eval on Training: Mean Loss+Regularization\",\"x\":[200,440,728,1074,1489,1987,2585,3303,4165,5199,6440,7929,9716,10000],\"y\":[4.387016296386719,4.278502941131592,4.080207824707031,3.9866745471954346,3.9128007888793945,3.825136661529541,3.7344393730163574,3.6004486083984375,3.568060874938965,3.392141580581665,3.291146993637085,3.161856174468994,2.9079337120056152,2.934260845184326]},{\"type\":\"scatter\",\"line\":{\"shape\":\"linear\"},\"mode\":\"lines+markers\",\"name\":\"Eval on Training: Mean Loss\",\"x\":[200,440,728,1074,1489,1987,2585,3303,4165,5199,6440,7929,9716,10000],\"y\":[2.0659847259521484,1.9587059020996094,1.7621101140975952,1.6708778142929077,1.6000325679779053,1.5165448188781738,1.4310431480407715,1.303871750831604,1.2800052165985107,1.1143560409545898,1.0250322818756104,0.9086746573448181,0.6679079532623291,0.696259617805481]},{\"type\":\"scatter\",\"line\":{\"shape\":\"linear\"},\"mode\":\"lines+markers\",\"name\":\"Eval on Validation: Mean Loss+Regularization\",\"x\":[200,440,728,1074,1489,1987,2585,3303,4165,5199,6440,7929,9716,10000],\"y\":[4.41226053237915,4.308008193969727,4.122521877288818,4.068572998046875,4.025251865386963,3.9525487422943115,3.90618896484375,3.855353355407715,3.9199135303497314,3.8816864490509033,3.940969228744507,3.9914236068725586,4.076307773590088,4.194981575012207]},{\"type\":\"scatter\",\"line\":{\"shape\":\"linear\"},\"mode\":\"lines+markers\",\"name\":\"Eval on Validation: Mean Loss\",\"x\":[200,440,728,1074,1489,1987,2585,3303,4165,5199,6440,7929,9716,10000],\"y\":[2.0912294387817383,1.9882102012634277,1.8044239282608032,1.752776026725769,1.7124823331832886,1.643955945968628,1.6027936935424805,1.558775544166565,1.6318566799163818,1.6038992404937744,1.6748541593551636,1.73824143409729,1.8362815380096436,1.9569802284240723]}],\"layout\":{\"legend\":{},\"title\":{\"text\":\"loss\"},\"xaxis\":{\"showgrid\":true,\"type\":\"log\"},\"yaxis\":{\"showgrid\":true,\"type\":\"log\"}}}');\n",
       "\tmodule.newPlot('501f4faa', data);\n",
       "\n",
       "\t}\n",
       "\t\n",
       "    if (typeof requirejs === \"function\") {\n",
       "        // Use RequireJS to load module.\n",
       "\t\tlet srcWithoutExtension = src.substring(0, src.lastIndexOf(\".js\"));\n",
       "        requirejs.config({\n",
       "            paths: {\n",
       "                'plotly': srcWithoutExtension\n",
       "            }\n",
       "        });\n",
       "        require(['plotly'], function(plotly) {\n",
       "            runJSFn(plotly)\n",
       "        });\n",
       "        return\n",
       "    }\n",
       "\n",
       "\tvar currentScripts = document.head.getElementsByTagName(\"script\");\n",
       "\tfor (const idx in currentScripts) {\n",
       "\t\tlet script = currentScripts[idx];\n",
       "\t\tif (script.src == src) {\n",
       "\t\t\trunJSFn(null);\n",
       "\t\t\treturn;\n",
       "\t\t}\n",
       "\t}\n",
       "\n",
       "\tvar script = document.createElement(\"script\");\n",
       "\n",
       "\tscript.charset = \"utf-8\";\n",
       "\t\n",
       "\tscript.src = src;\n",
       "\tscript.onload = script.onreadystatechange = function () { runJSFn(null); };\n",
       "\tdocument.head.appendChild(script);\t\n",
       "})();\n",
       "</script>"
      ]
     },
     "metadata": {},
     "output_type": "display_data"
    },
    {
     "name": "stdout",
     "output_type": "stream",
     "text": [
      "\t[Step 10000] median train step: 24375 microseconds\n",
      "Model size: 2,514,432 elements, 10 MB bytes\n",
      "\n",
      "Results on Validation:\n",
      "\tMean Loss+Regularization (#loss+): 4.195\n",
      "\tMean Loss (#loss): 1.957\n",
      "\tMean Accuracy (#acc): 46.52%\n",
      "Results on Training:\n",
      "\tMean Loss+Regularization (#loss+): 2.934\n",
      "\tMean Loss (#loss): 0.696\n",
      "\tMean Accuracy (#acc): 75.25%\n"
     ]
    }
   ],
   "source": [
    "%% --model=kan --checkpoint=base_kan_model --set=\"train_steps=10000;plots=true\"\n",
    "trainModel(ContextFromSettings())"
   ]
  },
  {
   "cell_type": "markdown",
   "id": "942fdb36-4fbe-4ccf-9958-c8b67b036ada",
   "metadata": {},
   "source": [
    "### CNN model for Cifar-10\n",
    "\n",
    "Let's now properly define our CNN model to compare:"
   ]
  },
  {
   "cell_type": "code",
   "execution_count": 12,
   "id": "e27dc442-c3aa-4ec5-98e9-e5321b474785",
   "metadata": {
    "tags": []
   },
   "outputs": [
    {
     "name": "stdout",
     "output_type": "stream",
     "text": [
      "Logits shape for batch_size=11: (Float32)[11 10]\n"
     ]
    }
   ],
   "source": [
    "// normalizeImage to be used in between convolutions.\n",
    "func normalizeImage(ctx *context.Context, x *Node) *Node {\n",
    "\tx.AssertRank(4) // [batch_size, width, height, depth]\n",
    "\tnormalizationType := context.GetParamOr(ctx, \"cnn_normalization\", \"none\")\n",
    "\tswitch normalizationType {\n",
    "\tcase \"layer\":\n",
    "\t\treturn layers.LayerNormalization(ctx, x, 1, 2).ScaleNormalization(false).Done()\n",
    "\tcase \"batch\":\n",
    "\t\treturn layers.BatchNormalization(ctx, x, -1).Done()\n",
    "\tcase \"none\", \"\":\n",
    "\t\treturn x\n",
    "\t}\n",
    "\tPanicf(\"invalid normalization type selected %q (hyperparameter %q) -- valid values are batch, layer, none\", normalizationType, layers.ParamNormalization)\n",
    "\treturn nil\n",
    "}\n",
    "\n",
    "func ConvolutionModelGraph(ctx *context.Context, spec any, inputs []*Node) []*Node {\n",
    "\tctx = ctx.In(\"model\")\n",
    "\tbatchedImages := inputs[0]\n",
    "\tbatchSize := batchedImages.Shape().Dimensions[0]\n",
    "\tlogits := batchedImages\n",
    "\t{\n",
    "\t\tctx := ctx.In(\"conv_0\")\n",
    "\t\tlogits = layers.Convolution(ctx, logits).Filters(32).KernelSize(3).Done()\n",
    "\t\tlogits = normalizeImage(ctx, logits)\n",
    "\t\tlogits = activations.Relu(logits)\n",
    "\t\tlogits = MaxPool(logits).Window(2).Done()\n",
    "\t}\n",
    "\t{\n",
    "\t\tctx := ctx.In(\"conv_1\")\n",
    "\t\tlogits = layers.Convolution(ctx, logits).Filters(64).KernelSize(3).Done()\n",
    "\t\tlogits = normalizeImage(ctx, logits)\n",
    "\t\tlogits = activations.Relu(logits)\n",
    "\t\tlogits = MaxPool(logits).Window(2).Done()\n",
    "\t}\n",
    "\t{\n",
    "\t\tctx := ctx.In(\"conv_2\")\n",
    "\t\tlogits = layers.Convolution(ctx, logits).Filters(64).KernelSize(3).Done()\n",
    "\t\tlogits = normalizeImage(ctx, logits)\n",
    "\t\tlogits = Reshape(logits, batchSize, -1)\n",
    "\t\tlogits = activations.Relu(logits)\n",
    "\t}\n",
    "\n",
    "\t// Here logits are flat, and we can use the usual FNN/KAN.\n",
    "\tnumClasses := len(cifar.C10Labels)\n",
    "\tif *flagModel == \"cnn-kan\" {\n",
    "\t\t// Configuration of the KAN layer(s) use the context hyperparameters.\n",
    "\t\tlogits = kan.New(ctx, logits, numClasses).Done()\n",
    "\t} else {\n",
    "\t\t// Configuration of the FNN layer(s) use the context hyperparameters.\n",
    "\t\tlogits = fnn.New(ctx, logits, numClasses).Done()\n",
    "\t}\n",
    "\treturn []*Node{logits}\n",
    "}\n",
    "\n",
    "%% --set=\"batch_size=11\"\n",
    "// Let's test that the logits are coming out with the right shape: we want [batch_size, 10], since there are 10 classes.\n",
    "AssertDownloaded()\n",
    "g := NewGraph(backend, \"test\")\n",
    "ctx := ContextFromSettings()\n",
    "batchSize := context.GetParamOr(ctx, \"batch_size\", int(100))\n",
    "logits := ConvolutionModelGraph(ctx, nil, []*Node{Parameter(g, \"images\", shapes.Make(DType, batchSize, cifar.Height, cifar.Width, cifar.Depth))})\n",
    "fmt.Printf(\"Logits shape for batch_size=%d: %s\\n\", batchSize, logits[0].Shape())\n"
   ]
  },
  {
   "cell_type": "markdown",
   "id": "6e3b2b04-8ca7-49d6-921d-3527c9169da9",
   "metadata": {},
   "source": [
    "### Training the CNN model\n",
    "\n",
    "CNNs have a much better inductive bias for machine learning on images, and it can easily achieve > 80% accuracy in training data, but only > 65% on test data, due to overfitting.\n",
    "\n",
    "Likely it would benefit from pre-training the model on a larger unlabeled datasets -- see the \"Dogs vs Cats\" example to see transfer learning in action for an image model."
   ]
  },
  {
   "cell_type": "code",
   "execution_count": 15,
   "id": "6af158e6-b9f9-423a-8ef9-3b54366d35ef",
   "metadata": {},
   "outputs": [],
   "source": [
    "!rm -rf ~/work/cifar/base_cnn_model"
   ]
  },
  {
   "cell_type": "code",
   "execution_count": 16,
   "id": "b2739281-6e70-4bd4-90e5-ed493678b8ce",
   "metadata": {
    "tags": []
   },
   "outputs": [
    {
     "name": "stdout",
     "output_type": "stream",
     "text": [
      "Backend \"xla\":\txla:cuda - PJRT \"cuda\" plugin (/usr/local/lib/gomlx/pjrt/pjrt_c_api_cuda_plugin.so) v0.54\n",
      "Model: cnn\n",
      "Checkpointing model to \"/home/janpf/work/cifar/base_cnn_model\"\n"
     ]
    },
    {
     "data": {
      "text/html": []
     },
     "metadata": {},
     "output_type": "display_data"
    },
    {
     "name": "stdout",
     "output_type": "stream",
     "text": [
      "Training (20000 steps):    3% [\u001b[32m>\u001b[0m.......................................] (154 steps/s) [7s:2m5s]\u001b[0m [step=719] [loss+=2.157] [~loss+=1.959] [~loss=1.910] [~acc=30.93%]         "
     ]
    },
    {
     "data": {
      "text/html": []
     },
     "metadata": {},
     "output_type": "display_data"
    },
    {
     "name": "stdout",
     "output_type": "stream",
     "text": [
      "Training (20000 steps):   59% [\u001b[32m=\u001b[0m\u001b[32m=\u001b[0m\u001b[32m=\u001b[0m\u001b[32m=\u001b[0m\u001b[32m=\u001b[0m\u001b[32m=\u001b[0m\u001b[32m=\u001b[0m\u001b[32m=\u001b[0m\u001b[32m=\u001b[0m\u001b[32m=\u001b[0m\u001b[32m=\u001b[0m\u001b[32m=\u001b[0m\u001b[32m=\u001b[0m\u001b[32m=\u001b[0m\u001b[32m=\u001b[0m\u001b[32m=\u001b[0m\u001b[32m=\u001b[0m\u001b[32m=\u001b[0m\u001b[32m=\u001b[0m\u001b[32m=\u001b[0m\u001b[32m=\u001b[0m\u001b[32m=\u001b[0m\u001b[32m>\u001b[0m.................] (219 steps/s) [1m2s:37s]\u001b[0m [step=11859] [loss+=1.203] [~loss+=1.128] [~loss=1.074] [~acc=62.38%]        \n",
      "[saving checkpoint@11860] [median train step (ms): 4]\n",
      "Training (20000 steps):  100% [\u001b[32m=\u001b[0m\u001b[32m=\u001b[0m\u001b[32m=\u001b[0m\u001b[32m=\u001b[0m\u001b[32m=\u001b[0m\u001b[32m=\u001b[0m\u001b[32m=\u001b[0m\u001b[32m=\u001b[0m\u001b[32m=\u001b[0m\u001b[32m=\u001b[0m\u001b[32m=\u001b[0m\u001b[32m=\u001b[0m\u001b[32m=\u001b[0m\u001b[32m=\u001b[0m\u001b[32m=\u001b[0m\u001b[32m=\u001b[0m\u001b[32m=\u001b[0m\u001b[32m=\u001b[0m\u001b[32m=\u001b[0m\u001b[32m=\u001b[0m\u001b[32m=\u001b[0m\u001b[32m=\u001b[0m\u001b[32m=\u001b[0m\u001b[32m=\u001b[0m\u001b[32m=\u001b[0m\u001b[32m=\u001b[0m\u001b[32m=\u001b[0m\u001b[32m=\u001b[0m\u001b[32m=\u001b[0m\u001b[32m=\u001b[0m\u001b[32m=\u001b[0m\u001b[32m=\u001b[0m\u001b[32m=\u001b[0m\u001b[32m=\u001b[0m\u001b[32m=\u001b[0m\u001b[32m=\u001b[0m\u001b[32m=\u001b[0m\u001b[32m=\u001b[0m\u001b[32m=\u001b[0m\u001b[32m=\u001b[0m] (201 steps/s)\u001b[0m [step=19999] [loss+=0.762] [~loss+=0.791] [~loss=0.733] [~acc=74.46%]          \n",
      "\n",
      "[saving checkpoint@20000] [median train step (ms): 4]\n"
     ]
    },
    {
     "data": {
      "text/html": [
       "<p><b>Metric: accuracy</b></p>\n"
      ]
     },
     "metadata": {},
     "output_type": "display_data"
    },
    {
     "data": {
      "text/html": [
       "<div id=\"54e376e7\"></div>"
      ]
     },
     "metadata": {},
     "output_type": "display_data"
    },
    {
     "data": {
      "text/html": [
       "<script charset=\"UTF-8\">\n",
       "(() => {\n",
       "\tconst src=\"https://cdn.plot.ly/plotly-2.29.1.min.js\";\n",
       "\tvar runJSFn = function(module) {\n",
       "\t\t\n",
       "\tif (!module) {\n",
       "\t\tmodule = window.Plotly;\n",
       "\t}\n",
       "\tlet data = JSON.parse('{\"data\":[{\"type\":\"scatter\",\"line\":{\"shape\":\"linear\"},\"mode\":\"lines+markers\",\"name\":\"Train: Moving Average Accuracy\",\"x\":[200,440,728,1074,1489,1987,2585,3303,4165,5199,6440,7929,9716,11860,14433,17521,20000],\"y\":[0.1464461386203766,0.23869463801383972,0.313244104385376,0.36371123790740967,0.3863016366958618,0.4035572409629822,0.44332411885261536,0.44922375679016113,0.4768514037132263,0.49897992610931396,0.5303822159767151,0.5502317547798157,0.5793178677558899,0.6241282820701599,0.6631794571876526,0.7125134468078613,0.744566023349762]},{\"type\":\"scatter\",\"line\":{\"shape\":\"linear\"},\"mode\":\"lines+markers\",\"name\":\"Eval on Training: Mean Accuracy\",\"x\":[200,440,728,1074,1489,1987,2585,3303,4165,5199,6440,7929,9716,11860,14433,17521,20000],\"y\":[0.19863998889923096,0.27715998888015747,0.34265998005867004,0.37171998620033264,0.3988199830055237,0.41947999596595764,0.4393799901008606,0.4596799910068512,0.4840399920940399,0.510919988155365,0.5412999987602234,0.5699599981307983,0.5975199937820435,0.6422399878501892,0.6833399534225464,0.7379599809646606,0.7818599939346313]},{\"type\":\"scatter\",\"line\":{\"shape\":\"linear\"},\"mode\":\"lines+markers\",\"name\":\"Eval on Validation: Mean Accuracy\",\"x\":[200,440,728,1074,1489,1987,2585,3303,4165,5199,6440,7929,9716,11860,14433,17521,20000],\"y\":[0.20200000703334808,0.2710000276565552,0.34060001373291016,0.36970001459121704,0.38530001044273376,0.4083000123500824,0.42240002751350403,0.44290003180503845,0.45810002088546753,0.4832000136375427,0.5004000067710876,0.5242000222206116,0.5304000377655029,0.5551000237464905,0.560200035572052,0.560699999332428,0.5630000233650208]}],\"layout\":{\"legend\":{},\"title\":{\"text\":\"accuracy\"},\"xaxis\":{\"showgrid\":true,\"type\":\"log\"},\"yaxis\":{\"showgrid\":true,\"type\":\"log\"}}}');\n",
       "\tmodule.newPlot('54e376e7', data);\n",
       "\n",
       "\t}\n",
       "\t\n",
       "    if (typeof requirejs === \"function\") {\n",
       "        // Use RequireJS to load module.\n",
       "\t\tlet srcWithoutExtension = src.substring(0, src.lastIndexOf(\".js\"));\n",
       "        requirejs.config({\n",
       "            paths: {\n",
       "                'plotly': srcWithoutExtension\n",
       "            }\n",
       "        });\n",
       "        require(['plotly'], function(plotly) {\n",
       "            runJSFn(plotly)\n",
       "        });\n",
       "        return\n",
       "    }\n",
       "\n",
       "\tvar currentScripts = document.head.getElementsByTagName(\"script\");\n",
       "\tfor (const idx in currentScripts) {\n",
       "\t\tlet script = currentScripts[idx];\n",
       "\t\tif (script.src == src) {\n",
       "\t\t\trunJSFn(null);\n",
       "\t\t\treturn;\n",
       "\t\t}\n",
       "\t}\n",
       "\n",
       "\tvar script = document.createElement(\"script\");\n",
       "\n",
       "\tscript.charset = \"utf-8\";\n",
       "\t\n",
       "\tscript.src = src;\n",
       "\tscript.onload = script.onreadystatechange = function () { runJSFn(null); };\n",
       "\tdocument.head.appendChild(script);\t\n",
       "})();\n",
       "</script>"
      ]
     },
     "metadata": {},
     "output_type": "display_data"
    },
    {
     "data": {
      "text/html": [
       "<p><b>Metric: loss</b></p>\n"
      ]
     },
     "metadata": {},
     "output_type": "display_data"
    },
    {
     "data": {
      "text/html": [
       "<div id=\"31af46fb\"></div>"
      ]
     },
     "metadata": {},
     "output_type": "display_data"
    },
    {
     "data": {
      "text/html": [
       "<script charset=\"UTF-8\">\n",
       "(() => {\n",
       "\tconst src=\"https://cdn.plot.ly/plotly-2.29.1.min.js\";\n",
       "\tvar runJSFn = function(module) {\n",
       "\t\t\n",
       "\tif (!module) {\n",
       "\t\tmodule = window.Plotly;\n",
       "\t}\n",
       "\tlet data = JSON.parse('{\"data\":[{\"type\":\"scatter\",\"line\":{\"shape\":\"linear\"},\"mode\":\"lines+markers\",\"name\":\"Train: Batch Loss+Regularization\",\"x\":[200,440,728,1074,1489,1987,2585,3303,4165,5199,6440,7929,9716,11860,14433,17521,20000],\"y\":[2.168835163116455,2.0346310138702393,1.863694667816162,1.7961422204971313,1.7118674516677856,1.56840181350708,1.3116461038589478,1.7373056411743164,1.4330450296401978,1.284213662147522,1.2321183681488037,1.6094144582748413,1.238737940788269,1.0236486196517944,1.0912636518478394,0.9950045347213745,0.7624549865722656]},{\"type\":\"scatter\",\"line\":{\"shape\":\"linear\"},\"mode\":\"lines+markers\",\"name\":\"Train: Moving Average Loss+Regularization\",\"x\":[200,440,728,1074,1489,1987,2585,3303,4165,5199,6440,7929,9716,11860,14433,17521,20000],\"y\":[2.2786755561828613,2.1056182384490967,1.9520448446273804,1.847657322883606,1.7809770107269287,1.7105809450149536,1.6309092044830322,1.5972630977630615,1.5208775997161865,1.4517959356307983,1.3864762783050537,1.3301639556884766,1.24680757522583,1.1272703409194946,1.0078904628753662,0.8757051229476929,0.7912732362747192]},{\"type\":\"scatter\",\"line\":{\"shape\":\"linear\"},\"mode\":\"lines+markers\",\"name\":\"Train: Moving Average Loss\",\"x\":[200,440,728,1074,1489,1987,2585,3303,4165,5199,6440,7929,9716,11860,14433,17521,20000],\"y\":[2.2267515659332275,2.056574583053589,1.9030349254608154,1.798263669013977,1.73123300075531,1.660617709159851,1.5806201696395874,1.546630620956421,1.4698342084884644,1.4003020524978638,1.334463119506836,1.2776459455490112,1.1934772729873657,1.073026180267334,0.9523653984069824,0.8186739683151245,0.7330639362335205]},{\"type\":\"scatter\",\"line\":{\"shape\":\"linear\"},\"mode\":\"lines+markers\",\"name\":\"Eval on Training: Mean Loss+Regularization\",\"x\":[200,440,728,1074,1489,1987,2585,3303,4165,5199,6440,7929,9716,11860,14433,17521,20000],\"y\":[2.1823549270629883,2.034771680831909,1.905946969985962,1.8174952268600464,1.7487413883209229,1.6845885515213013,1.6237610578536987,1.5667285919189453,1.5063560009002686,1.431159496307373,1.3552852869033813,1.2705940008163452,1.1961177587509155,1.0701624155044556,0.9492384791374207,0.8080787062644958,0.6946401596069336]},{\"type\":\"scatter\",\"line\":{\"shape\":\"linear\"},\"mode\":\"lines+markers\",\"name\":\"Eval on Training: Mean Loss\",\"x\":[200,440,728,1074,1489,1987,2585,3303,4165,5199,6440,7929,9716,11860,14433,17521,20000],\"y\":[2.1334097385406494,1.9859617948532104,1.8568567037582397,1.7679980993270874,1.698915719985962,1.6345983743667603,1.5734082460403442,1.5160627365112305,1.4552724361419678,1.3795746564865112,1.3032432794570923,1.2180509567260742,1.1427578926086426,1.0159233808517456,0.8936640620231628,0.7509886622428894,0.6364142894744873]},{\"type\":\"scatter\",\"line\":{\"shape\":\"linear\"},\"mode\":\"lines+markers\",\"name\":\"Eval on Validation: Mean Loss+Regularization\",\"x\":[200,440,728,1074,1489,1987,2585,3303,4165,5199,6440,7929,9716,11860,14433,17521,20000],\"y\":[2.1880173683166504,2.0494368076324463,1.9208570718765259,1.8348720073699951,1.7694450616836548,1.7123461961746216,1.658911943435669,1.6131588220596313,1.5736652612686157,1.5226174592971802,1.4633961915969849,1.414763331413269,1.397783875465393,1.3481500148773193,1.3622376918792725,1.4295077323913574,1.5095704793930054]},{\"type\":\"scatter\",\"line\":{\"shape\":\"linear\"},\"mode\":\"lines+markers\",\"name\":\"Eval on Validation: Mean Loss\",\"x\":[200,440,728,1074,1489,1987,2585,3303,4165,5199,6440,7929,9716,11860,14433,17521,20000],\"y\":[2.1390724182128906,2.000627040863037,1.8717669248580933,1.7853748798370361,1.7196192741394043,1.6623561382293701,1.6085593700408936,1.5624929666519165,1.5225814580917358,1.471032977104187,1.4113540649414062,1.3622198104858398,1.3444240093231201,1.2939112186431885,1.3066627979278564,1.372417688369751,1.4513450860977173]}],\"layout\":{\"legend\":{},\"title\":{\"text\":\"loss\"},\"xaxis\":{\"showgrid\":true,\"type\":\"log\"},\"yaxis\":{\"showgrid\":true,\"type\":\"log\"}}}');\n",
       "\tmodule.newPlot('31af46fb', data);\n",
       "\n",
       "\t}\n",
       "\t\n",
       "    if (typeof requirejs === \"function\") {\n",
       "        // Use RequireJS to load module.\n",
       "\t\tlet srcWithoutExtension = src.substring(0, src.lastIndexOf(\".js\"));\n",
       "        requirejs.config({\n",
       "            paths: {\n",
       "                'plotly': srcWithoutExtension\n",
       "            }\n",
       "        });\n",
       "        require(['plotly'], function(plotly) {\n",
       "            runJSFn(plotly)\n",
       "        });\n",
       "        return\n",
       "    }\n",
       "\n",
       "\tvar currentScripts = document.head.getElementsByTagName(\"script\");\n",
       "\tfor (const idx in currentScripts) {\n",
       "\t\tlet script = currentScripts[idx];\n",
       "\t\tif (script.src == src) {\n",
       "\t\t\trunJSFn(null);\n",
       "\t\t\treturn;\n",
       "\t\t}\n",
       "\t}\n",
       "\n",
       "\tvar script = document.createElement(\"script\");\n",
       "\n",
       "\tscript.charset = \"utf-8\";\n",
       "\t\n",
       "\tscript.src = src;\n",
       "\tscript.onload = script.onreadystatechange = function () { runJSFn(null); };\n",
       "\tdocument.head.appendChild(script);\t\n",
       "})();\n",
       "</script>"
      ]
     },
     "metadata": {},
     "output_type": "display_data"
    },
    {
     "name": "stdout",
     "output_type": "stream",
     "text": [
      "\t[Step 20000] median train step: 4244 microseconds\n",
      "Model size: 306,564 elements, 1.2 MB bytes\n",
      "\n",
      "Results on Validation:\n",
      "\tMean Loss+Regularization (#loss+): 1.510\n",
      "\tMean Loss (#loss): 1.451\n",
      "\tMean Accuracy (#acc): 56.30%\n",
      "Results on Training:\n",
      "\tMean Loss+Regularization (#loss+): 0.695\n",
      "\tMean Loss (#loss): 0.636\n",
      "\tMean Accuracy (#acc): 78.19%\n"
     ]
    }
   ],
   "source": [
    "%% --model=cnn --checkpoint=base_cnn_model --set=\"train_steps=20000\"\n",
    "trainModel(nil)"
   ]
  }
 ],
 "metadata": {
  "kernelspec": {
   "display_name": "Go (gonb)",
   "language": "go",
   "name": "gonb"
  },
  "language_info": {
   "codemirror_mode": "",
   "file_extension": ".go",
   "mimetype": "",
   "name": "go",
   "nbconvert_exporter": "",
   "pygments_lexer": "",
   "version": "go1.22.4"
  }
 },
 "nbformat": 4,
 "nbformat_minor": 5
}
