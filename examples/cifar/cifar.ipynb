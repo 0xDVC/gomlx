{
 "cells": [
  {
   "cell_type": "markdown",
   "id": "f431da81-4d94-4fd1-8a51-952ef824cb46",
   "metadata": {},
   "source": [
    "# Cifar Library and Demo\n",
    "\n",
    "[This is a library](https://pkg.go.dev/github.com/gomlx/gomlx/examples/cifar) to download and parse the Cifar datasets (Cifar-10 and Cifar-100), and a very small demo of a FNN (Feedforward Neural Network) with GoMLX. FNNs are notoriously bad for images, but it's only a demo. Look for the Resnet50 model for a more serious image classification model (old but still good -- best results as of the time of this writing is with ViT model).\n",
    "\n",
    "The CIFAR-10 and CIFAR-100 are labeled subsets of the 80 million tiny images dataset. They were collected by Alex Krizhevsky, Vinod Nair, and Geoffrey Hinton. See more details in [its homepage here](https://www.cs.toronto.edu/~kriz/cifar.html).\n",
    "\n",
    "This notebook serves as documentation and example for the [github.com/gomlx/gomlx/examples/cifar](https://github.com/gomlx/gomlx/examples/cifar) library."
   ]
  },
  {
   "cell_type": "markdown",
   "id": "bd398a51-c10a-4d05-91f7-f978856a8d8b",
   "metadata": {},
   "source": [
    "## Environment Set Up\n",
    "\n",
    "Let's set up `go.mod` to use the local copy of GoMLX, so it can be developed jointly the dataset code with the model. That's often how data pre-processing and model code is developed together with experimentation.\n",
    "\n",
    "If you are not changing code, feel free to simply skip this cell. Or if you used a different directory for you projects, change it below.\n",
    "\n",
    "Notice the directory `${HOME}/Projects/gomlx` is where the GoMLX code is copied by default in [its Docker](https://hub.docker.com/repository/docker/janpfeifer/gomlx_jupyterlab/general)."
   ]
  },
  {
   "cell_type": "code",
   "execution_count": 1,
   "id": "22abc207-e8b0-44ef-840d-fee3550cffca",
   "metadata": {
    "tags": []
   },
   "outputs": [],
   "source": [
    "!*go mod edit -replace github.com/gomlx/gomlx=\"${HOME}/Projects/gomlx\""
   ]
  },
  {
   "cell_type": "markdown",
   "id": "443e9e56-ef12-4d04-b7bb-99478fa2b662",
   "metadata": {},
   "source": [
    "## Data Preparation\n",
    "\n",
    "### Downloading data files\n",
    "\n",
    "To download, uncompress and untar to the local directory, simply do the following. Notice if it's already downloaded in the given `--data` directory, it returns immediately."
   ]
  },
  {
   "cell_type": "code",
   "execution_count": 2,
   "id": "a61fdd1a-74a0-46f2-9cfc-f79bfa37e298",
   "metadata": {
    "tags": []
   },
   "outputs": [],
   "source": [
    "import (\n",
    "    \"github.com/gomlx/gomlx/examples/cifar\"\n",
    "    \"github.com/gomlx/gomlx/ml/data\"\n",
    ")\n",
    "\n",
    "var flagDataDir = flag.String(\"data\", \"~/work/cifar\", \"Directory to cache downloaded and generated dataset files.\")\n",
    "\n",
    "func AssertNoError(err error) {\n",
    "    if err != nil { panic(err) }\n",
    "}\n",
    "\n",
    "func AssertDownloaded() {\n",
    "    *flagDataDir = data.ReplaceTildeInDir(*flagDataDir)\n",
    "    if !data.FileExists(*flagDataDir) {\n",
    "        AssertNoError(os.MkdirAll(*flagDataDir, 0777))\n",
    "    }\n",
    "\n",
    "    AssertNoError(cifar.DownloadCifar10(*flagDataDir))\n",
    "    AssertNoError(cifar.DownloadCifar100(*flagDataDir))\n",
    "}\n",
    "\n",
    "%%\n",
    "AssertDownloaded()"
   ]
  },
  {
   "cell_type": "code",
   "execution_count": 3,
   "id": "345076ef-e2a3-4405-b47d-801c9ec62b91",
   "metadata": {
    "tags": []
   },
   "outputs": [
    {
     "name": "stdout",
     "output_type": "stream",
     "text": [
      "total 323M\n",
      "drwxr-xr-x 2 janpf janpf 4.0K Feb 20  2010 cifar-100-binary\n",
      "-rw-r--r-- 1 janpf janpf 161M Jul  6 16:33 cifar-100-binary.tar.gz\n",
      "drwxr-xr-x 2 janpf janpf 4.0K Jun  4  2009 cifar-10-batches-bin\n",
      "-rw-r--r-- 1 janpf janpf 163M Jul  6 16:33 cifar-10-binary.tar.gz\n"
     ]
    }
   ],
   "source": [
    "!ls -lh ~/work/cifar/"
   ]
  },
  {
   "cell_type": "markdown",
   "id": "93d4ae39-915c-478c-887f-b1c8c080865b",
   "metadata": {},
   "source": [
    "### Sample some images\n",
    "\n",
    "The `cifar.NewDataset` creates a `data.InMemoryDataset` that can be used both for training, evaluation, or just to sample a few examples, which we do below:"
   ]
  },
  {
   "cell_type": "code",
   "execution_count": 4,
   "id": "0dabc63a-b918-4065-9b23-0c5a22446458",
   "metadata": {
    "tags": []
   },
   "outputs": [
    {
     "data": {
      "text/html": [
       "<p>Samples Cifar-10</p>\n"
      ]
     },
     "metadata": {},
     "output_type": "display_data"
    },
    {
     "data": {
      "text/html": [
       "<table><tr>\n",
       "<td><figure style=\"padding:4px;text-align: center;\"><img width=\"64\" height=\"64\" src=\"data:image/png;base64,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\"><figcaption style=\"text-align: center;\">automobile ([1])</figcaption></figure></td>\n",
       "<td><figure style=\"padding:4px;text-align: center;\"><img width=\"64\" height=\"64\" src=\"data:image/png;base64,iVBORw0KGgoAAAANSUhEUgAAACAAAAAgCAIAAAD8GO2jAAAK3klEQVR4nBzTWY8bh2HA8bnvGQ6H9/Dmau9Tu9pdaW0rlq3WMZDERYGiAYo+9CVBH4oA/RQFCqRAkYc+FzAKNKjRoI3cxHIcSbYi2SvtzT14LbnLe8gZzpBzD6dI/p/g//JDfvHpf529+mZ5ofCbJ0+SkQT5pwzTFOKJ//7icwtyF+ZmQFOHPROjUZYiOBRzICoUFSma6OoqLgQui0XEMQAAjCRz55dHbcvHUAwxB/PLd1ttHaFpPBwSbNuOxeOimMRxHMMwBEGlwTASCIw9nYBhHwBdy2FDAcBxdF2DKd93TRwOkoCbDCR0pn91fhyLCb3K5VRVkCkB2W6AIKNCcvbODKSO5WAwMBlPABDcPzhAcBwliGBYaLebhj6maXIw6GEoIvA8SzOFXG5pcYGjkG7rVlM13zQvv/22W6riU3hnfasQCc9EY4VQpCAIhAva4ymOcfDWOzu5hCgPBjCMVqqVeqNB0VQylbJd+7pz46PAUB7ksumwEMQZUhtruVSSwhHHmcIIfl0qKp3qsD9cu3t3ZWVlPBzgEIKhJI9hES5ICNl0YQHCMBjHMZplJ4YOQuD+/j6CIt1eb6SPhVjIcG1r6hiuFYrHddep3jYuamUfnDI0cXl+4hiD7Y38u++sISjQbnWkztDV7RgbGN7cSO3eUJInuopgEOR5fiAiaBenD/bea9fb6BQ5P7u47FwVcrFyTUUpUlOVkWpr9vSq2+qpvflcSroZRTju8Yfv9TpyLBi4LDdOe1IyGlHHVuX4FPdtNpN52ylrbyz43u4WjlCSMjw8OdpY2eg2mhROTP3pdbtMQla7M4JxioQdEHZsYNrrylJLOz4qa4NpOhzBYUhR9HqtIktyLlOIxtPPfv8iKbAfffTBEITHBB6NBRAERUEQVEZKIMCxLC2EeJalKJ5TTZGn/HgshrDBtEiQDOL7GO3jpXLPcqYONjnyz0nUZSgacvU7+WxhdvHT//hffaT96Kd/c93vVZrttYfv9zsNBEURlmFQFKUZBoRAQQiyLIOT+P2NLRK1fWroQRiP+c3moF45r5cqiTCWmV26Oqk+fLjyzt58oyrBPtuTjX/5+S/qt/KPHt9nQuGXv33KiinfMqTbG8QwzGar5XkeBIHdbksU47fNhuW5hVyyP+7tvz4w1DHjubINZhPRHzx+5GNee6gV8qHNzbzUu/3qq0NBiJerdVnVlxYKK+urnz35LcRQ/tQ8efWs1Wz+cd+2LBInIuGQIg8iNMfzgdFk3OnJ3zx7pk29xaSYD+IKgOaT2d5QefHdkTSSf/aTv5ubX6pcgOrILZYuPdean8//9Y8/UYbKm5OL0EzKnrQdc4wCABJkuNxC7vDowBmoFOiBGBxieNj3R7bOB0O0aYeFSKXT1Cz3olKTx4akTO/cWWo0h//6b/+ZiQq643gwqKpuprBwb3f35//8T6VK/fXl9fbuxmxhhrdt+JNPfoihSLPRIHwoFqRLV0XXRjVVYYNcgOV6zZuJ6ZRv1GZXjaVjuULetnxD1d5+94eRqjz68ENpOLoslYQw9+cffyjLo19/9dXFTccECBCBSRyisT+adJ4+fVrI5ieu8vbw8Oj4aG83IiuyalmOo+6+u1yvjyPiekeRpX5ZlkqAAwo4tLS5yATZWDKlWW48Hvnx336f4d3fPP1do28RwYRtWO1qJYzp6ZVlBATB589fiH+VmEwm6ljL5NLu1M3lskeHBzBhLqxuimm6eDFqnhflQX99aYaA4aVMJJ+L7J9fFS+vFE37h5/9lGBH//Pk89evurqBO46B2fpcPnx/Zi4VEhAQAHRdv7q6Wl9e4dht33c///Wr73/0aCYfHumjL3//1jLR82KDZig0EszfKajyUBr2s1nhew/3Ko0uzxGRCNEdDJutSbPbR0AadZ0wjW0vzs2ksygGIyAMZbPZoBCUFaVeLava0Ae8kTZcXc0+f3m4v3819YHZQkoURdNxa40aRmArS3PbD3bfHB1TGPBwb82yJ52W3mrqNMsauh5PBTMhDuUxB4MEhkekkTKaaBhN/t+TJ5hjMjySSAr125JnUyDs31tfMCyDIhFZavOhaDwaKdeqQvLBycXJew/Whpqp6P4vP/2MZiJT3cvFxItaMRwlNzZzmVyQ5WAKxREKQVgMf/3sBYMhqWQMQYFme9iXdALMxsVw/aa3ubkxnYK3N91INMYEeJbmTNu9Ll/l41Emknr+xXPbo+qXtZ40ZPjwnUwhIYRT0RThkwE6DKEEkhfFfCo5GWm+p4Ow3bhuTxRL5MMMRuhjXYxHw6FItyNhCLy7s2O701Ao2rgp35ldJejQ1EMvTkvm2GjUK7lcgmGwH378MeGb6ZhI0QEYIyW9i8ABXPUMOsIqnXH3upuKC9F5IsBBHUl2dHJzc41h6W5L2rq7lUokjs4u3ny7v7d3r5AOJZPRz371Ze38ikO8vZXk9t6OrBiFNIUARCGbcTz4ql4T4gE4mo/6wNSHgImqWfLY8xzHN1P5oCSNMAw2rMny8lI6UyAJ5sXz5wiMvn71WtdGubxYu6n97svnpWI5wpF/9nhnee0OH+BOikfpbIYLhEASE9IhZaLChUz8/Oi0kEwXRFGTZU2bwoTQHVgw5MdiHM0zBE6VLqqVcuPrr78BQHh2dn5lcRanwPOrk9PjC6mnMaHo0vaqg0BCIn/33h6KBhA04GNE3xq1TAWOhUNKbwTDIIkCE33sTqdiOud5fi7DJLJpH808+2LfMozCwtzC4jLLcEGO91yj3W6/enlwdnpZmMt98Bd/GUnnKZIDHYfnyHbn1gE8hGYlbeICNkIRNEUwJMMOZVWb6EyATKeFbtvURnrjzbUHTcOxmG/fEIgb4PmbRp8LsBDKHJwUq9Xu1s7O44/eW1rfQWDi4u13itLUe5XofK6jdxEgFCT51ukJ/I9//5PhcJjJpEgIwXBCTKRbzXa3M5C6an+ozi3ObW9nAG/4y3//1Xg0MC1rdmERRNHjs+LZxeXDR++atn52cviHl8+siXx3eR6DoIrUkSCfpEIJNqxoTWhlaXFuebZaq52fXVAUg+FkrdYgSGppfX5lLWtNhl8/fwt4+NpidjxSeJ4+OHhdr9c7ne7C4kwsGq7UaifVUwszxeWMSSI37a6mTiAUG400BCNcjoRDAbouNV99+9YcaelM0jT1yUR79MH7uRmx16+fHVcdA/M8zzAmIEIV5ubrt7dzM3OqLD363vba6nK/P4AI+MHDXRiB67VmWkwnU6nGdRP1qZCYfnN9DBEsFUyEPMSPp0SOI3q99vrGcn4me3Z2e3MtJ2NxEPSHqt1V0aPLVruvzuTnDl69YnEgGiCqxaOMEP7B/Q/CEDWq98KogGJU6fRCLtZ5mARxArRgJBwOv3z6FoXhre0NDiUHraN7m3x5pBx3O6vp2ZTAH1xeRqNxnhW7vodkxIPX3xGG3NcUisXvrq/5EDtotcOx0Nbi7nhktJWOS7NwxC12a+x4NYDE4J2ttUQ0iaKQD9jlUsNwQCpM5t5/YKMA0peiHI1xFIYQngtEtlaz79y7LZXWC2L5th2JRCLhkI1Sw5GcuzPnAYhqmi7q4OG4y7PnzYppwUEqDPkgQDL0/b37CENojBvYSDKLEYtyTc9xYKTS7ZZuGjbkezxc7F5d643C3kxz0Mpm0giK6LrhTD2AJYr1quoYOEdPJgZB0Cwf0I3x6fEhF+T/PwAA///phKqa2slNXAAAAABJRU5ErkJggg==\"><figcaption style=\"text-align: center;\">frog ([6])</figcaption></figure></td>\n",
       "<td><figure style=\"padding:4px;text-align: center;\"><img width=\"64\" height=\"64\" src=\"data:image/png;base64,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\"><figcaption style=\"text-align: center;\">horse ([7])</figcaption></figure></td>\n",
       "<td><figure style=\"padding:4px;text-align: center;\"><img width=\"64\" height=\"64\" src=\"data:image/png;base64,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\"><figcaption style=\"text-align: center;\">truck ([9])</figcaption></figure></td>\n",
       "<td><figure style=\"padding:4px;text-align: center;\"><img width=\"64\" height=\"64\" src=\"data:image/png;base64,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\"><figcaption style=\"text-align: center;\">frog ([6])</figcaption></figure></td>\n",
       "<td><figure style=\"padding:4px;text-align: center;\"><img width=\"64\" height=\"64\" src=\"data:image/png;base64,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\"><figcaption style=\"text-align: center;\">airplane ([0])</figcaption></figure></td>\n",
       "<td><figure style=\"padding:4px;text-align: center;\"><img width=\"64\" height=\"64\" src=\"data:image/png;base64,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\"><figcaption style=\"text-align: center;\">automobile ([1])</figcaption></figure></td>\n",
       "<td><figure style=\"padding:4px;text-align: center;\"><img width=\"64\" height=\"64\" src=\"data:image/png;base64,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\"><figcaption style=\"text-align: center;\">automobile ([1])</figcaption></figure></td>\n",
       "</tr></table>\n"
      ]
     },
     "metadata": {},
     "output_type": "display_data"
    },
    {
     "data": {
      "text/html": [
       "<p>Samples Cifar-100</p>\n"
      ]
     },
     "metadata": {},
     "output_type": "display_data"
    },
    {
     "data": {
      "text/html": [
       "<table><tr>\n",
       "<td><figure style=\"padding:4px;text-align: center;\"><img width=\"64\" height=\"64\" src=\"data:image/png;base64,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\"><figcaption style=\"text-align: center;\">orchid ([54])</figcaption></figure></td>\n",
       "<td><figure style=\"padding:4px;text-align: center;\"><img width=\"64\" height=\"64\" src=\"data:image/png;base64,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\"><figcaption style=\"text-align: center;\">camel ([15])</figcaption></figure></td>\n",
       "<td><figure style=\"padding:4px;text-align: center;\"><img width=\"64\" height=\"64\" src=\"data:image/png;base64,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\"><figcaption style=\"text-align: center;\">wolf ([97])</figcaption></figure></td>\n",
       "<td><figure style=\"padding:4px;text-align: center;\"><img width=\"64\" height=\"64\" src=\"data:image/png;base64,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\"><figcaption style=\"text-align: center;\">oak_tree ([52])</figcaption></figure></td>\n",
       "<td><figure style=\"padding:4px;text-align: center;\"><img width=\"64\" height=\"64\" src=\"data:image/png;base64,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\"><figcaption style=\"text-align: center;\">poppy ([62])</figcaption></figure></td>\n",
       "<td><figure style=\"padding:4px;text-align: center;\"><img width=\"64\" height=\"64\" src=\"data:image/png;base64,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\"><figcaption style=\"text-align: center;\">palm_tree ([56])</figcaption></figure></td>\n",
       "<td><figure style=\"padding:4px;text-align: center;\"><img width=\"64\" height=\"64\" src=\"data:image/png;base64,iVBORw0KGgoAAAANSUhEUgAAACAAAAAgCAIAAAD8GO2jAAAJO0lEQVR4nCxWWY+dZ1KuerdvOfvWfXo7SdsOceJgMonIDGg0V4A0gzQCoblBXMOv4Afwf7iYCyREYBSJSXA2O+22J17a7e4++znf+q6FTkPdV9VTz1Pv+5T453/5p712czGf55Wez7bPf3gVHK9rU9flvXuTslgvFxmXnWavnXT5n/380+Ggs1xfSmVHoz5D9v23XxZZ+su//vvT97Gsn37x+e/ni+3f/t1fzOZXFy+Kvd6f8p/89M7+KOGqPLnTiRNczzcQAIh8qPb2W55YZVinOxKRTBr84cP7x0cHzZYytrDWL+fFZrU1VfWH598rUQ96XQqMCJJ48Pjbyxc/zk9P7/Kf/OxkOX/DmGOCTefLLKtrDcZDQPPnv/jU+Oj6WnuflGWwBgb9fWsdMmdsQYGtlvrqOmdCDHrNbFtoLW8WxXxjHn+3XS87aXO8rq75J589eHsx8zaZzcJi5ZhqaxO70OSqIaJ0ufFXV0W2dnWJ+Ub/8P3rr7+6uLy8ATRHk8HRyYC4SJuqrOdJ0pwus20Zbmbi7XSd9kTcZo/Pn/K7f/RuZYIhATwujCu0qbVnqBS2Ll5srq+WrtK+LIOuvKvLMq+rYrXIZ9PSeZ40U4Z1r9eaTbfrdZXnBcfIOYWSv7p8dTObkeNiC1AEtlplclsC58hjqVIh4u20KDYlWRM712jEsVTEWGBQaJMVenWlf/+7H2fTTXsUVIzbjc6z6vjkYFPULy/eGAQbfOxFq98Q11nmNQhiAQICDwE9Q25dbQxncOfw+Gd//Cd3jycCmUcSUZJrd/7jy3/7z8+n09lbUdRBOFFLnhQGX18tu/123G6sZrMAZCpi2gurC69F0m71hkmpq7ysvbXSKUTYH43/5pe//umHD5n14MlDCMgB1Onhvaos//XffxsMsaBMVQbunQ65yxoNxdErRtZ4X1pnuDjotguNJhiPIjAN6JRKSTvO2cH48N2TU/CYb3IlOHG03midgcSDvUG7ERdFtl4YxyrE2nsbSF+7erfkAJ2kGci1ZCxiJSsqXVUuFiVpryiSiOg5AR92OpL0d4/+4+bNy9PTyeHkne+enl1Nb/bHk0aqup32ZnkVMGm2WlJCnmVVwfO1D8wxRgkXUiGoSkRJQ9S6wWPJ+aZYG+u1LvY7B71OdzLoJwKsziA4ZxwG6XdYmdua8cnonf1RYRdxJ6m5RsVlK+UqJU/GZ3HE01Q2U0XBCg7quH80HA6TOP7id1+4Slflppuwh/feOep1x/1DeO/Tam/b7Qyk6r03EXcO8kYjhYgdj4Zp/4PzerqoahmlcSPd1Blj2EzTu3ffKbO14CFWLdagRC+KGCJk0f7xO3/1q1+Nj0bX05cQqnunJ2QdOYdgEavt9o33GyFBSC6l+PDDB61mN5utKK+3i+VisTAQLGKStFfz7XKR5ZkuSyPu3Tl8fh4ePfraR7bf6w+6vf5oOL1+88PF2SfVZ0rUy9UZ97Ty80LXDrgLorK9Zn+EUuZ1HaME8GVV1FrzOEEJKLn2xtjqYO8IA/B/+MffCDHo9oac58Xq5vzbZ5t8yxtqU+WrbHn/dOzLYvp21Wnst5ujrKi2Zd7stmoqHz37b5eWHglJWFt7Z9MojhQPWAse+p3OqDsc98fidPLxR++Pk1jm1dX5s28W89nZ2eOnT574yj35+smj/bufvv9xGrNyG7IMeDI5GCni21V5sa6mK3KqoVIqKqMPD/vOMhf8B/dPycY656akWXnDf/2bv7Qur83i7PyruMmPJuPVYvri6TNd2KrwzaT38MHHnEtPhFKqZuJYvVnPlEgr11lXg+HRIG4VSWo4Vsxb9JagRJLZ1pamtqwSRTk/f/7ldPa2KDfHx8ccEE3Ra6bTsg5KBsYQ7ba4Xq3ntXG1D9aFjuoddN/zR3u+NW9NOpUdbFdnzx5/CQ5bca/a4JuL2f7xXZCJE1IAbUYj3mgNv/lm9dX/PPYOOSZbjELDD/eHR8eTJIplS9nM1OWaB9Ft7rcbe9uyuF68Hu5Bt3vAk8/OcjccOKPy4FkzihqpEQDD4diKjri8fA1Sr7L6+cVytdLtdk+IphXh/oOTk97B+dOXSuNRG8DqumKbsr56+2q2eX45X4Gqf/6LD9jmbcLovfGxtNoO69qUr978KJlnAZbTKq+DWGTsyYvn09U2z0UapW2l3n/39JOP7k9Grc9/+1/nZy9e/+Ga6RX52hGUztuAhBHj+OD+kQi+ePu8mF6oND3pNlg8ICYZNK/yBW+LYrPazC7FKlsUuowUGx/1T/dOJv2D48FJj+PFk7PLl5ecKxY1LZA1VaCAkgnGAUEy2+s26mIddJBxkuXMAiOhkkb/dHR6eHS/ZO5GXvWjI1FletAYTvbHdzuHwpLV1m/WL17dbMtsXVaAgAgoEyFUIAseIEhPJlWQJrwus4qR9ACAZVWrKDZZJqObKOq3k/745F4hnNCl/+j0/qQ3dNuqyksUcl3Pq3pTWV8ZABQIKLj0gWNggXkABAPNJFYSAqEndNoiIuecAZGrPGXOrk1xxaOtiZU42B+O4obfFBSCaiTOUq0LQnI+WIOMRYAMiRggEA9AxAE5a7cbjDtyAMCJAhEAADkiIukxcAciq/OpYj2BxrlKC0JkjII3RjtrGCfnfPDAudhl3kYgQsRAgXNIm4rAUwiELOwMBhCx1rVgAjgWRRklUaR9gykx7gxAW2QSBGhbOW+cN4ycrq33sOt6Cy+EnVMhIABEMZcqBNIMeCBwziGiUsoaEzhJkBSQEXOVDZVjMXJTVuQcA/LehWC9d96FXYPdyLvS1toQAiISAAWKYxlFLHgTQvDOhduw1nIu/A4HU1EsuQzWB+2YMDUFHdASGR4CWIBgKQRn0XkP5IIzwVnBEG/vQkY+5j5miIERht1qBRd2WIALGQgQAiAFJO+NqTY7SyTw2tXa1RQYBKBwy9huQ4P3xjsrpaBbBXdqkk0ihd57T8gJKDDEW3XB2B1XRJ4AnPeMkbWVcN5ba+lWQMZ37hGC21EPPpBzuuQcAdiu3i41EGkhm8bWQI4hg/97Kbt08LuizBgTKfH/ynnPOGPWmrqqaMeoBwwMA4BD3E0YyHPOnLe3V4n3zgCYOOYhmN0/C8AZMkQhRKQiwbnWtXM7wYhICI4I/xsAAP//DeRDrrZtgLwAAAAASUVORK5CYII=\"><figcaption style=\"text-align: center;\">man ([46])</figcaption></figure></td>\n",
       "<td><figure style=\"padding:4px;text-align: center;\"><img width=\"64\" height=\"64\" src=\"data:image/png;base64,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\"><figcaption style=\"text-align: center;\">orange ([53])</figcaption></figure></td>\n",
       "</tr></table>\n"
      ]
     },
     "metadata": {},
     "output_type": "display_data"
    }
   ],
   "source": [
    "import (\n",
    "    \"strings\"\n",
    "    . \"github.com/gomlx/gomlx/graph\"\n",
    "    \"github.com/gomlx/gomlx/examples/cifar\"\n",
    "    \"github.com/gomlx/gomlx/types/shapes\"\n",
    "    timage \"github.com/gomlx/gomlx/types/tensor/image\"\n",
    "    \"github.com/janpfeifer/gonb/gonbui\"\n",
    ")\n",
    "\n",
    "var (\n",
    "    // Model DType, used everywhere.\n",
    "    DType = shapes.F32\n",
    "    \n",
    "    // Global manager, also used for all graphs.\n",
    "    manager = NewManager()\n",
    ")\n",
    "\n",
    "// sampleToNotebook generates a sample of Cifar-10 and Cifar-100 in a GoNB Jupyter Notebook.\n",
    "func sampleToNotebook() {\n",
    "    // Load data into tensors.\n",
    "    ds10 := cifar.NewDataset(manager, \"Samples Cifar-10\", *flagDataDir, cifar.C10, DType, cifar.Train).Shuffle()\n",
    "    ds100 := cifar.NewDataset(manager, \"Samples Cifar-100\", *flagDataDir, cifar.C100, DType, cifar.Train).Shuffle()\n",
    "    sampleImages(ds10, 8, cifar.C10Labels)\n",
    "    sampleImages(ds100, 8, cifar.C100FineLabels)\n",
    "}\n",
    "\n",
    "// sampleTable generates and outputs one html table of samples, sampling rows x cols from the images/labels provided.\n",
    "func sampleImages(ds train.Dataset, numImages int, labelNames []string) {\n",
    "    gonbui.DisplayHTML(fmt.Sprintf(\"<p>%s</p>\\n\", ds.Name()))\n",
    "    \n",
    "    parts := make([]string, 0, numImages+5) // Leave last part empty.\n",
    "    parts = append(parts, \"<table><tr>\")\n",
    "    for ii := 0; ii < numImages; ii++ {\n",
    "        _, inputs, labels, err := ds.Yield()\n",
    "        AssertNoError(err)\n",
    "        imgTensor := inputs[0]\n",
    "        img, err := timage.ToImage().Single(imgTensor)\n",
    "        AssertNoError(err)\n",
    "        label := labels[0].Local().Value().([]int)\n",
    "        labelStr := labelNames[label[0]]\n",
    "    \n",
    "        imgSrc, err := gonbui.EmbedImageAsPNGSrc(img)\n",
    "        AssertNoError(err)\n",
    "        size := imgTensor.Shape().Dimensions[0]\n",
    "        parts = append(\n",
    "            parts, \n",
    "            fmt.Sprintf(`<td><figure style=\"padding:4px;text-align: center;\"><img width=\"%d\" height=\"%d\" src=\"%s\">` + \n",
    "                        `<figcaption style=\"text-align: center;\">%s (%d)</figcaption></figure></td>`, \n",
    "                        size*2, size*2, imgSrc, labelStr, label),\n",
    "        )\n",
    "    }\n",
    "    parts = append(parts, \"</tr></table>\", \"\")\n",
    "    gonbui.DisplayHTML(strings.Join(parts, \"\\n\"))\n",
    "}\n",
    "\n",
    "%%\n",
    "AssertDownloaded()\n",
    "sampleToNotebook()"
   ]
  },
  {
   "cell_type": "markdown",
   "id": "7fa8c06c-ede0-4cd1-80bd-9331422e3a63",
   "metadata": {},
   "source": [
    "## Training on Cifar-10\n",
    "\n",
    "### Models Support\n",
    "\n",
    "1. `CreateDatasets` creates 3 datasets: one for training, and two for evaluation: of the training dataset and of the validation dataset.\n",
    "1. `normalizeImage` and `normalizeFeatures`: they normalize `x` according to the hyperparameter given in `flagNormalization` flag.\n"
   ]
  },
  {
   "cell_type": "code",
   "execution_count": 5,
   "id": "c8d3c19e-af0c-4fef-a76c-dabb375972d0",
   "metadata": {
    "tags": []
   },
   "outputs": [],
   "source": [
    "import (\n",
    "    \"flags\"\n",
    "    \n",
    "    . \"github.com/gomlx/gomlx/graph\"\n",
    "    . \"github.com/gomlx/gomlx/types/exceptions\"\n",
    "    \"github.com/gomlx/gomlx/examples/cifar\"\n",
    "    \"github.com/gomlx/gomlx/ml/context\"\n",
    ")\n",
    "\n",
    "var (\n",
    "    // BatchSize for training.\n",
    "    flagBatchSize        = flag.Int(\"batch\", 50, \"Batch size for training\")\n",
    "\n",
    "    // EvalBatchSize can be larger than training, more efficient.\n",
    "    EvalBatchSize = 2000\n",
    "\n",
    "    // Model hyper-parameters.\n",
    "    flagL2Regularization = flag.Float64(\"l2_reg\", 0, \"L2 regularization on kernels. It doesn't interact well with --batch_norm.\")\n",
    "    flagNormalization    = flag.String(\"norm\", \"layer\", \"Type of normalization to use. Valid values are \\\"none\\\", \\\"batch\\\", \\\"layer\\\".\")\n",
    "\n",
    "    // Model hyperparameters:\n",
    "    flagNumHiddenLayers = flag.Int(\"hidden_layers\", 8, \"Number of hidden layers, stacked with residual connection.\")\n",
    "    flagNumNodes        = flag.Int(\"num_nodes\", 128, \"Number of nodes in hidden layers.\")\n",
    "    flagDropoutRate     = flag.Float64(\"dropout\", 0, \"Dropout rate\")\n",
    ")\n",
    "\n",
    "func CreateDatasets() (trainDS, trainEvalDS, validationEvalDS train.Dataset) {\n",
    "    baseTrain := cifar.NewDataset(manager, \"Training\", *flagDataDir, cifar.C10, DType, cifar.Train)\n",
    "    baseTest := cifar.NewDataset(manager, \"Validation\", *flagDataDir, cifar.C10, DType, cifar.Test)\n",
    "    trainDS = baseTrain.Copy().BatchSize(*flagBatchSize, true).Shuffle().Infinite(true)\n",
    "    trainEvalDS = baseTrain.BatchSize(EvalBatchSize, false)\n",
    "    validationEvalDS = baseTest.BatchSize(EvalBatchSize, false)\n",
    "    return\n",
    "}\n",
    "\n",
    "func normalizeImage(ctx *context.Context, x *Node) *Node {\n",
    "    x.AssertRank(4)  // [batch_size, width, height, depth]\n",
    "    switch *flagNormalization {\n",
    "    case \"layer\":\n",
    "        return layers.LayerNormalization(ctx, x, 1, 2).ScaleNormalization(false).Done()\n",
    "    case \"batch\":\n",
    "        return layers.BatchNormalization(ctx, x, -1).Done()\n",
    "    case \"none\":\n",
    "        return x\n",
    "    }\n",
    "    Panicf(\"invalid normalization selected %q -- valid values are batch, layer, none\", *flagNormalization)\n",
    "    return nil\n",
    "}\n",
    "\n",
    "func normalizeFeatures(ctx *context.Context, x *Node) *Node {\n",
    "    x.AssertRank(2)  // [batch_size, embedding_dim]\n",
    "    switch *flagNormalization {\n",
    "    case \"layer\":\n",
    "        return layers.LayerNormalization(ctx, x, -1).Done()\n",
    "    case \"batch\":\n",
    "        return layers.BatchNormalization(ctx, x, -1).Done()\n",
    "    case \"none\":\n",
    "        return x\n",
    "    }\n",
    "    Panicf(\"invalid normalization selected %q -- valid values are batch, layer, none\", *flagNormalization)\n",
    "    return nil\n",
    "}"
   ]
  },
  {
   "cell_type": "markdown",
   "id": "f771ca6f-5912-4406-9f2a-a838fd7cd065",
   "metadata": {},
   "source": [
    "### Simple FNN model\n",
    "\n",
    "A trivial model, that can easily get to ~45% accuracy (a random model would do 10%), but hardly much more than that.\n",
    "\n",
    "Later we are going to define a CNN model to compare, and we just set a placeholder model here for now.\n",
    "\n",
    "> **Note**: \n",
    ">\n",
    "> * Cifar datasets yields (`Dataset.Yield()`) only the indices to the images of the batch as a `Tensor`. But it provides a `GatherImagesGraph` method that gathers the images from a static variable that holds the whole dataset (~1Gb in memory, stored as float32). We access it through the `getBatchedImatges()` defined above. \n"
   ]
  },
  {
   "cell_type": "code",
   "execution_count": 6,
   "id": "0ac4e4da-2c3b-431c-9e54-00e31045785f",
   "metadata": {
    "tags": []
   },
   "outputs": [
    {
     "name": "stdout",
     "output_type": "stream",
     "text": [
      "Logits shape for batch_size=50: (Float32)[50 10]\n"
     ]
    }
   ],
   "source": [
    "import (\n",
    "    \"flags\"\n",
    "    \n",
    "    . \"github.com/gomlx/gomlx/graph\"\n",
    "    \"github.com/gomlx/gomlx/examples/cifar\"\n",
    "    \"github.com/gomlx/gomlx/ml/context\"\n",
    "    \"github.com/gomlx/gomlx/ml/train/optimizers\"\n",
    "    \"github.com/gomlx/gomlx/types/shapes\"\n",
    ")\n",
    "\n",
    "func FNNModelGraph(ctx *context.Context, spec any, inputs []*Node) []*Node {\n",
    "    g := inputs[0].Graph()\n",
    "    batchedImages := inputs[0]\n",
    "    batchSize := batchedImages.Shape().Dimensions[0]\n",
    "    logits := Reshape(batchedImages, batchSize, -1)\n",
    "    {\n",
    "        ctx := ctx.In(\"Dense_0\")\n",
    "        logits = layers.DenseWithBias(ctx, logits, *flagNumNodes)\n",
    "        logits = normalizeFeatures(ctx, logits)\n",
    "    }\n",
    "    for ii := 1; ii < *flagNumHiddenLayers; ii++ {\n",
    "        ctx := ctx.In(fmt.Sprintf(\"Dense_%d\", ii))\n",
    "        // Add layer with residual connection.\n",
    "        tmp := Sigmoid(logits)\n",
    "        if *flagDropoutRate > 0 {\n",
    "            tmp = layers.Dropout(ctx, tmp, Const(g, shapes.CastAsDType(*flagDropoutRate, tmp.DType())))\n",
    "        }\n",
    "        tmp = layers.DenseWithBias(ctx, tmp, *flagNumNodes)\n",
    "        tmp = normalizeFeatures(ctx, tmp)\n",
    "        logits = Add(logits, tmp)\n",
    "    }\n",
    "    logits = Sigmoid(logits)\n",
    "    logits = layers.DenseWithBias(ctx.In(\"denseFinal\"), logits, len(cifar.C10Labels))\n",
    "    return []*Node{logits}\n",
    "}\n",
    "\n",
    "// Only a placeholder for now.\n",
    "func CNNModelGraph(ctx *context.Context, spec any, inputs []*Node) []*Node {\n",
    "    return nil   \n",
    "}\n",
    "\n",
    "%%\n",
    "// Let's test that the logits are coming out with the right shape: we want [batch_size, 10], since there are 10 classes.\n",
    "AssertDownloaded()\n",
    "ctx := context.NewContext(manager)\n",
    "g := manager.NewGraph(\"placeholder\")\n",
    "logits := FNNModelGraph(ctx, nil, []*Node{g.Parameter(\"images\", shapes.Make(DType, *flagBatchSize, cifar.Height, cifar.Width, cifar.Depth))})\n",
    "fmt.Printf(\"Logits shape for batch_size=%d: %s\\n\", *flagBatchSize, logits[0].Shape())\n"
   ]
  },
  {
   "cell_type": "markdown",
   "id": "aef7d6ee-ca2b-40c7-ac3d-4242ecd8ed1b",
   "metadata": {},
   "source": [
    "### Training Loop\n",
    "\n",
    "With a model function defined, let's create our training loop, with the usual bells and whistles: accuracy metrics, progress-bar, plot of metrics, checkpoints."
   ]
  },
  {
   "cell_type": "code",
   "execution_count": 7,
   "id": "d72336ef-d96d-4d98-a3a6-5df912be5f24",
   "metadata": {
    "tags": []
   },
   "outputs": [
    {
     "name": "stdout",
     "output_type": "stream",
     "text": [
      "Platform: CUDA\n",
      "Training (500 steps):  100% [\u001b[32m=\u001b[0m\u001b[32m=\u001b[0m\u001b[32m=\u001b[0m\u001b[32m=\u001b[0m\u001b[32m=\u001b[0m\u001b[32m=\u001b[0m\u001b[32m=\u001b[0m\u001b[32m=\u001b[0m\u001b[32m=\u001b[0m\u001b[32m=\u001b[0m\u001b[32m=\u001b[0m\u001b[32m=\u001b[0m\u001b[32m=\u001b[0m\u001b[32m=\u001b[0m\u001b[32m=\u001b[0m\u001b[32m=\u001b[0m\u001b[32m=\u001b[0m\u001b[32m=\u001b[0m\u001b[32m=\u001b[0m\u001b[32m=\u001b[0m\u001b[32m=\u001b[0m\u001b[32m=\u001b[0m\u001b[32m=\u001b[0m\u001b[32m=\u001b[0m\u001b[32m=\u001b[0m\u001b[32m=\u001b[0m\u001b[32m=\u001b[0m\u001b[32m=\u001b[0m\u001b[32m=\u001b[0m\u001b[32m=\u001b[0m\u001b[32m=\u001b[0m\u001b[32m=\u001b[0m\u001b[32m=\u001b[0m\u001b[32m=\u001b[0m\u001b[32m=\u001b[0m\u001b[32m=\u001b[0m\u001b[32m=\u001b[0m\u001b[32m=\u001b[0m\u001b[32m=\u001b[0m\u001b[32m=\u001b[0m] (113 steps/s)\u001b[0m [loss=1.925] [~loss=1.931] [~acc=32.34%]        \n",
      "\t[Step 500] median train step: 1557 microseconds\n",
      "\n",
      "Results on Training:\n",
      "\tMean Loss (#loss): 1.884\n",
      "\tMean Accuracy (#acc): 32.45%\n",
      "Results on Validation:\n",
      "\tMean Loss (#loss): 1.889\n",
      "\tMean Accuracy (#acc): 32.34%\n",
      "\n"
     ]
    }
   ],
   "source": [
    "import (\n",
    "    \"flags\"\n",
    "    \n",
    "    \"github.com/gomlx/gomlx/examples/cifar\"\n",
    "    \"github.com/gomlx/gomlx/ml/context\"\n",
    "    \"github.com/gomlx/gomlx/ml/train\"\n",
    "    \"github.com/gomlx/gomlx/types/slices\"\n",
    ")\n",
    "\n",
    "var (\n",
    "    // Training flags:\n",
    "    flagModel            = flag.String(\"model\", \"fnn\", \"Model type: fnn or cnn.\")\n",
    "    flagNumSteps         = flag.Int(\"steps\", 2000, \"Number of gradient descent steps to perform\")\n",
    "    flagOptimizer        = flag.String(\"optimizer\", \"adamw\", fmt.Sprintf(\"Optimizer, options: %v\", slices.Keys(optimizers.KnownOptimizers)))\n",
    "    flagLearningRate     = flag.Float64(\"learning_rate\", 0.0001, \"Initial learning rate.\")\n",
    "    flagCheckpoint       = flag.String(\"checkpoint\", \"\", \"Directory save and load checkpoints from. If left empty, no checkpoints are created.\")\n",
    "    flagCheckpointKeep   = flag.Int(\"checkpoint_keep\", 10, \"Number of checkpoints to keep, if --checkpoint is set.\")\n",
    "    \n",
    "    // Training UI:\n",
    "    flagUseProgressBar = flag.Bool(\"bar\", true, \"If to display a progress bar during training\")\n",
    "    flagPlots          = flag.Bool(\"plots\", true, \"Plots during training: perform periodic evaluations, \"+\n",
    "                                   \"save results if --checkpoint is set and draw plots, if in a Jupyter notebook.\")\n",
    ")\n",
    "\n",
    "func trainModel() {\n",
    "    // Fixes directories.\n",
    "    *flagDataDir = data.ReplaceTildeInDir(*flagDataDir)\n",
    "    *flagCheckpoint = data.ReplaceTildeInDir(*flagCheckpoint)\n",
    "    if *flagCheckpoint != \"\" && !path.IsAbs(*flagCheckpoint) {\n",
    "        *flagCheckpoint = path.Join(*flagDataDir, *flagCheckpoint)\n",
    "    }\n",
    "\n",
    "    // Make sure data is downloaded.\n",
    "    AssertDownloaded()\n",
    "\n",
    "    // Manager handles creation of ML computation graphs, accelerator resources, etc.\n",
    "    fmt.Printf(\"Platform: %s\\n\", manager.Platform())\n",
    "\n",
    "    // Create datasets used for training and evaluation.\n",
    "    trainDS, evalOnTrainDS, evalOnTestDS := CreateDatasets()\n",
    "\n",
    "    // Create closure for model graph building function, that uses statically the dataset\n",
    "    // used for its `cifar.Dataset.GatherImageGraph`, to convert image indices to the actual images.\n",
    "    // This is the signature of model function that the train.Trainer accepts.\n",
    "    modelFn := FNNModelGraph\n",
    "    if *flagModel == \"cnn\" {\n",
    "        modelFn = CNNModelGraph\n",
    "    }\n",
    "\n",
    "    // Metrics we are interested.\n",
    "    meanAccuracyMetric := metrics.NewSparseCategoricalAccuracy(\"Mean Accuracy\", \"#acc\")\n",
    "    movingAccuracyMetric := metrics.NewMovingAverageSparseCategoricalAccuracy(\"Moving Average Accuracy\", \"~acc\", 0.01)\n",
    "\n",
    "    // Context holds the variables and hyperparameters for the model.\n",
    "    ctx := context.NewContext(manager)\n",
    "    ctx.SetParam(optimizers.LearningRateKey, *flagLearningRate)\n",
    "    ctx.SetParam(layers.L2RegularizationKey, *flagL2Regularization)\n",
    "\n",
    "    // Checkpoints saving.\n",
    "    var checkpoint *checkpoints.Handler\n",
    "    if *flagCheckpoint != \"\" {\n",
    "        var err error\n",
    "        checkpoint, err = checkpoints.Build(ctx).Dir(*flagCheckpoint).Keep(*flagCheckpointKeep).Done()\n",
    "        if err != nil { panic(err) }\n",
    "        fmt.Printf(\"Checkpointing model to %q\\n\", checkpoint.Dir())\n",
    "        globalStep := optimizers.GetGlobalStepVar(ctx).Value().Value().(int)\n",
    "        if globalStep != 0 {\n",
    "            fmt.Printf(\"Restarting training from global_step=%d\\n\", globalStep)\n",
    "        }\n",
    "    }\n",
    "    \n",
    "    // Create a train.Trainer: this object will orchestrate running the model, feeding\n",
    "    // results to the optimizer, evaluating the metrics, etc. (all happens in trainer.TrainStep)\n",
    "    trainer := train.NewTrainer(manager, ctx, modelFn,\n",
    "        losses.SparseCategoricalCrossEntropyLogits,\n",
    "        optimizers.MustOptimizerByName(*flagOptimizer),\n",
    "        []metrics.Interface{movingAccuracyMetric}, // trainMetrics\n",
    "        []metrics.Interface{meanAccuracyMetric})   // evalMetrics\n",
    "\n",
    "    // Use standard training loop.\n",
    "    loop := train.NewLoop(trainer)\n",
    "    loop.ReadGlobalStep(ctx)  // Make sure it restarts from previous global step, if one is set.\n",
    "    commandline.AttachProgressBar(loop) // Attaches a progress bar to the loop.\n",
    "\n",
    "    // Attach a checkpoint: checkpoint every 1 minute of training.\n",
    "    if checkpoint != nil {\n",
    "        period := time.Minute * 1\n",
    "        train.PeriodicCallback(loop, period, true, \"saving checkpoint\", 100,\n",
    "            func(loop *train.Loop, metrics []tensor.Tensor) error {\n",
    "                fmt.Printf(\"\\n[saving checkpoint@%d] [median train step (ms): %d]\\n\", loop.LoopStep, loop.MedianTrainStepDuration().Milliseconds())\n",
    "                return checkpoint.Save()\n",
    "            })\n",
    "    }\n",
    "\n",
    "    // Attach a margaid plots: plot points at exponential steps.\n",
    "    // Also points are saved, so training (with plots) can be restarted if --checkpoint is set.\n",
    "    var plots *margaid.Plots\n",
    "    if *flagPlots {\n",
    "        plots = margaid.New(1024, 400, evalOnTrainDS, evalOnTestDS).LogScaleX()\n",
    "        if checkpoint != nil {\n",
    "            // Save plot points.\n",
    "            _, err := plots.WithFile(path.Join(checkpoint.Dir(), \"training_plot_points.json\"))\n",
    "            if err != nil { panic(err) }\n",
    "        }\n",
    "        plots.DynamicUpdates()\n",
    "\n",
    "        // Only plot if (1) it's running in a notebook or if (B) it has a checkpoint directory, where those plot points\n",
    "        // will be saved.\n",
    "        if checkpoint != nil || gonbui.IsNotebook {\n",
    "            // Register plot points at exponential steps.\n",
    "            train.ExponentialCallback(loop, 100, 1.1, true,\n",
    "                \"Monitor\", 0, func(loop *train.Loop, metrics []tensor.Tensor) error {\n",
    "                    // Update plots with metrics.\n",
    "                    return plots.AddTrainAndEvalMetrics(loop, metrics)\n",
    "                })            \n",
    "        }\n",
    "    }\n",
    "\n",
    "    // Run the given number of steps.\n",
    "    _, err := loop.RunSteps(trainDS, *flagNumSteps)\n",
    "    AssertNoError(err)\n",
    "    fmt.Printf(\"\\t[Step %d] median train step: %d microseconds\\n\", loop.LoopStep, loop.MedianTrainStepDuration().Microseconds())\n",
    "\n",
    "    // Finally print an evaluation on train and test datasets.\n",
    "    fmt.Println()\n",
    "    err = commandline.ReportEval(trainer, evalOnTrainDS, evalOnTestDS)\n",
    "    AssertNoError(err)\n",
    "    fmt.Println()\n",
    "}\n",
    "\n",
    "%% --model=fnn --steps=500 --plots=false\n",
    "trainModel()"
   ]
  },
  {
   "cell_type": "markdown",
   "id": "300a8419-5679-42ba-9149-51c17c7c427d",
   "metadata": {},
   "source": [
    "### FNN Model Training\n",
    "\n",
    "Let's train the FNN for real this time."
   ]
  },
  {
   "cell_type": "code",
   "execution_count": 8,
   "id": "cf876f49-e737-4dfa-aa05-48aad3d7a128",
   "metadata": {
    "tags": []
   },
   "outputs": [
    {
     "name": "stdout",
     "output_type": "stream",
     "text": [
      "Platform: CUDA\n",
      "Checkpointing model to \"/home/janpf/work/cifar/base_fnn_model\"\n"
     ]
    },
    {
     "data": {
      "text/html": [
       "<svg preserveAspectRatio=\"xMidYMid meet\" xmlns=\"http://www.w3.org/2000/svg\" width=\"1024\" height=\"454\" viewbox=\"0 0 1024 400\" style=\"background-color:#f8f8f8\"><defs><marker id=\"circle\" viewBox=\"0 0 10 10 \" refX=\"5\" refY=\"5\" markerUnits=\"userSpaceOnUse\" markerWidth=\"2%\" markerHeight=\"2%\"><circle r=\"3\" fill=\"none\" stroke=\"black\" cx=\"5\" cy=\"5\"/></marker><marker markerWidth=\"2%\" markerHeight=\"2%\" id=\"filled-circle\" viewBox=\"0 0 10 10 \" refX=\"5\" refY=\"5\" markerUnits=\"userSpaceOnUse\"><circle cx=\"5\" cy=\"5\" r=\"3\" fill=\"black\" stroke=\"none\"/></marker><marker markerHeight=\"2%\" id=\"square\" viewBox=\"0 0 10 10 \" refX=\"5\" refY=\"5\" markerUnits=\"userSpaceOnUse\" markerWidth=\"2%\"><rect height=\"6\" fill=\"none\" stroke=\"black\" x=\"2\" y=\"2\" width=\"6\"/></marker><marker markerWidth=\"2%\" markerHeight=\"2%\" id=\"filled-square\" viewBox=\"0 0 10 10 \" refX=\"5\" refY=\"5\" markerUnits=\"userSpaceOnUse\"><rect y=\"2\" width=\"6\" height=\"6\" fill=\"black\" stroke=\"none\" x=\"2\"/></marker></defs><g marker-end=\"url(#square)\" marker-mid=\"url(#square)\" transform=\"translate(70 330 )scale(1 -1 )\" stroke-width=\"2px\" stroke-linejoin=\"round\" marker-start=\"url(#square)\" fill=\"none\" stroke=\"hsl(90, 47%, 65%)\" stroke-linecap=\"round\"><path vector-effect=\"non-scaling-stroke\" d=\"M1.768000e+01,8.577569e+01 L1.544041e+02,1.288888e+02 L2.382534e+02,1.345801e+02 L3.004969e+02,1.532468e+02 L3.509112e+02,1.590307e+02 L3.940749e+02,1.633864e+02 L4.321593e+02,1.780216e+02 L4.666302e+02,1.834889e+02 L4.983920e+02,1.843123e+02 L5.280354e+02,1.914155e+02 L5.559630e+02,2.026214e+02 L5.824593e+02,1.898756e+02 L6.078067e+02,2.024924e+02 L6.321982e+02,2.101922e+02 L6.557685e+02,2.160625e+02 L6.786125e+02,2.069206e+02 L7.008441e+02,2.204906e+02 L7.225391e+02,2.307751e+02 L7.437834e+02,2.284792e+02 L7.646305e+02,2.340808e+02 L7.851406e+02,2.389307e+02 L8.053477e+02,2.409398e+02 L8.252913e+02,2.396962e+02 L8.449900e+02,2.458123e+02 L8.644679e+02,2.496638e+02 L8.663200e+02,2.548000e+02 \"/></g><g stroke-linejoin=\"round\" marker-end=\"url(#square)\" stroke=\"hsl(301, 88%, 65%)\" transform=\"translate(70 330 )scale(1 -1 )\" stroke-width=\"2px\" marker-mid=\"url(#square)\" stroke-linecap=\"round\" marker-start=\"url(#square)\" fill=\"none\"><path vector-effect=\"non-scaling-stroke\" d=\"M1.768000e+01,9.524812e+01 L1.544041e+02,1.289843e+02 L2.382534e+02,1.309639e+02 L3.004969e+02,1.472031e+02 L3.509112e+02,1.616563e+02 L3.940749e+02,1.615174e+02 L4.321593e+02,1.793291e+02 L4.666302e+02,1.860765e+02 L4.983920e+02,1.818974e+02 L5.280354e+02,1.909854e+02 L5.559630e+02,1.995063e+02 L5.824593e+02,1.930677e+02 L6.078067e+02,1.987927e+02 L6.321982e+02,2.107596e+02 L6.557685e+02,2.094525e+02 L6.786125e+02,2.073923e+02 L7.008441e+02,2.125665e+02 L7.225391e+02,2.239927e+02 L7.437834e+02,2.221074e+02 L7.646305e+02,2.259698e+02 L7.851406e+02,2.281419e+02 L8.053477e+02,2.316499e+02 L8.252913e+02,2.313379e+02 L8.449900e+02,2.327391e+02 L8.644679e+02,2.373520e+02 L8.663200e+02,2.417787e+02 \"/></g><g stroke-linecap=\"round\" fill=\"none\" marker-mid=\"url(#square)\" transform=\"translate(70 330 )scale(1 -1 )\" stroke-width=\"2px\" stroke-linejoin=\"round\" marker-start=\"url(#square)\" marker-end=\"url(#square)\" stroke=\"hsl(152, 76%, 65%)\"><path d=\"M1.768000e+01,5.200000e+00 L1.544041e+02,8.411879e+01 L2.382534e+02,1.181760e+02 L3.004969e+02,1.379355e+02 L3.509112e+02,1.506437e+02 L3.940749e+02,1.610401e+02 L4.321593e+02,1.702229e+02 L4.666302e+02,1.727337e+02 L4.983920e+02,1.833175e+02 L5.280354e+02,1.887291e+02 L5.559630e+02,1.935817e+02 L5.824593e+02,1.980271e+02 L6.078067e+02,2.013490e+02 L6.321982e+02,2.064953e+02 L6.557685e+02,2.086942e+02 L6.786125e+02,2.157872e+02 L7.008441e+02,2.219276e+02 L7.225391e+02,2.225400e+02 L7.437834e+02,2.265101e+02 L7.646305e+02,2.305629e+02 L7.851406e+02,2.342524e+02 L8.053477e+02,2.426802e+02 L8.252913e+02,2.430178e+02 L8.449900e+02,2.459376e+02 L8.644679e+02,2.476790e+02 L8.663200e+02,2.493299e+02 \" vector-effect=\"non-scaling-stroke\"/></g><g fill=\"none\" stroke=\"black\" stroke-linecap=\"round\" stroke-linejoin=\"round\" stroke-width=\"2px\" transform=\"translate(70 330 )scale(1 -1 )\"><path vector-effect=\"non-scaling-stroke\" d=\"M1.768000e+01,0 L1.768000e+01,-6 M1.454130e+02,0 L1.454130e+02,-6 M2.201321e+02,0 L2.201321e+02,-6 M2.731461e+02,0 L2.731461e+02,-6 M3.142670e+02,0 L3.142670e+02,-6 M3.478651e+02,0 L3.478651e+02,-6 M3.762720e+02,0 L3.762720e+02,-6 M4.008791e+02,0 L4.008791e+02,-6 M4.225842e+02,0 L4.225842e+02,-6 M442,0 L442,-6 M4.595637e+02,0 L4.595637e+02,-6 M5.697330e+02,0 L5.697330e+02,-6 M6.444521e+02,0 L6.444521e+02,-6 M6.974661e+02,0 L6.974661e+02,-6 M7.385870e+02,0 L7.385870e+02,-6 M7.721851e+02,0 L7.721851e+02,-6 M8.005920e+02,0 L8.005920e+02,-6 M8.251991e+02,0 L8.251991e+02,-6 M8.469042e+02,0 L8.469042e+02,-6 M8.663200e+02,0 L8.663200e+02,-6 \"/></g><g font-size=\"12px\" stroke-linecap=\"round\" font-style=\"normal\" fill=\"black\" stroke=\"black\" stroke-linejoin=\"round\" stroke-width=\"2px\" transform=\"translate(70 330 )scale(1 1 )\" font-family=\"sans-serif\" text-anchor=\"middle\" dominant-baseline=\"hanging\" font-weight=\"normal\"><text x=\"1.768000e+01\" y=\"10\" dominant-baseline=\"hanging\" stroke=\"none\" vector-effect=\"non-scaling-stroke\">100</text><text x=\"1.454130e+02\" y=\"10\" dominant-baseline=\"hanging\" stroke=\"none\" vector-effect=\"non-scaling-stroke\">200</text><text dominant-baseline=\"hanging\" stroke=\"none\" vector-effect=\"non-scaling-stroke\" x=\"2.201321e+02\" y=\"10\">300</text><text y=\"10\" dominant-baseline=\"hanging\" stroke=\"none\" vector-effect=\"non-scaling-stroke\" x=\"2.731461e+02\">400</text><text x=\"3.142670e+02\" y=\"10\" dominant-baseline=\"hanging\" stroke=\"none\" vector-effect=\"non-scaling-stroke\">500</text><text stroke=\"none\" vector-effect=\"non-scaling-stroke\" x=\"3.478651e+02\" y=\"10\" dominant-baseline=\"hanging\">600</text><text x=\"3.762720e+02\" y=\"10\" dominant-baseline=\"hanging\" stroke=\"none\" vector-effect=\"non-scaling-stroke\">700</text><text stroke=\"none\" vector-effect=\"non-scaling-stroke\" x=\"4.008791e+02\" y=\"10\" dominant-baseline=\"hanging\">800</text><text stroke=\"none\" vector-effect=\"non-scaling-stroke\" x=\"4.225842e+02\" y=\"10\" dominant-baseline=\"hanging\">900</text><text dominant-baseline=\"hanging\" stroke=\"none\" vector-effect=\"non-scaling-stroke\" x=\"442\" y=\"10\">1000</text><text y=\"10\" dominant-baseline=\"hanging\" stroke=\"none\" vector-effect=\"non-scaling-stroke\" x=\"4.595637e+02\">1100</text><text vector-effect=\"non-scaling-stroke\" x=\"5.697330e+02\" y=\"10\" dominant-baseline=\"hanging\" stroke=\"none\">2000</text><text y=\"10\" dominant-baseline=\"hanging\" stroke=\"none\" vector-effect=\"non-scaling-stroke\" x=\"6.444521e+02\">3000</text><text y=\"10\" dominant-baseline=\"hanging\" stroke=\"none\" vector-effect=\"non-scaling-stroke\" x=\"6.974661e+02\">4000</text><text stroke=\"none\" vector-effect=\"non-scaling-stroke\" x=\"7.385870e+02\" y=\"10\" dominant-baseline=\"hanging\">5000</text><text stroke=\"none\" vector-effect=\"non-scaling-stroke\" x=\"7.721851e+02\" y=\"10\" dominant-baseline=\"hanging\">6000</text><text stroke=\"none\" vector-effect=\"non-scaling-stroke\" x=\"8.005920e+02\" y=\"10\" dominant-baseline=\"hanging\">7000</text><text dominant-baseline=\"hanging\" stroke=\"none\" vector-effect=\"non-scaling-stroke\" x=\"8.251991e+02\" y=\"10\">8000</text><text x=\"8.469042e+02\" y=\"10\" dominant-baseline=\"hanging\" stroke=\"none\" vector-effect=\"non-scaling-stroke\">9000</text><text dominant-baseline=\"hanging\" stroke=\"none\" vector-effect=\"non-scaling-stroke\" x=\"8.663200e+02\" y=\"10\">10000</text></g><g stroke=\"black\" stroke-linecap=\"round\" stroke-linejoin=\"round\" font-style=\"normal\" stroke-width=\"2px\" transform=\"translate(70 330 )scale(1 1 )rotate(0 0 0 )\" font-family=\"sans-serif\" text-anchor=\"middle\" fill=\"black\" font-weight=\"bold\" font-size=\"12px\" dominant-baseline=\"baseline\"><text stroke=\"none\" vector-effect=\"non-scaling-stroke\" x=\"442\" y=\"-6\" dominant-baseline=\"baseline\">Steps</text></g><g stroke-width=\"2px\" transform=\"translate(70 330 )scale(1 -1 )\" font-family=\"sans-serif\" dominant-baseline=\"baseline\" stroke-linecap=\"round\" font-style=\"normal\" font-size=\"12px\" text-anchor=\"middle\" fill=\"black\" stroke=\"black\" stroke-linejoin=\"round\" font-weight=\"bold\"><path vector-effect=\"non-scaling-stroke\" d=\"M0,2.800227e+01 L-6,2.800227e+01 M0,1.259438e+02 L-6,1.259438e+02 M0,1.954344e+02 L-6,1.954344e+02 M0,2.493355e+02 L-6,2.493355e+02 \"/></g><g stroke-linejoin=\"round\" font-style=\"normal\" font-weight=\"normal\" font-size=\"12px\" text-anchor=\"end\" dominant-baseline=\"middle\" fill=\"black\" stroke=\"black\" stroke-width=\"2px\" transform=\"translate(70 330 )scale(1 1 )\" font-family=\"sans-serif\" stroke-linecap=\"round\"><text y=\"-2.800227e+01\" dominant-baseline=\"middle\" stroke=\"none\" vector-effect=\"non-scaling-stroke\" x=\"-10\">0.200</text><text dominant-baseline=\"middle\" stroke=\"none\" vector-effect=\"non-scaling-stroke\" x=\"-10\" y=\"-1.259438e+02\">0.300</text><text x=\"-10\" y=\"-1.954344e+02\" dominant-baseline=\"middle\" stroke=\"none\" vector-effect=\"non-scaling-stroke\">0.400</text><text stroke=\"none\" vector-effect=\"non-scaling-stroke\" x=\"-10\" y=\"-2.493355e+02\" dominant-baseline=\"middle\">0.500</text></g><g font-weight=\"bold\" stroke-linejoin=\"round\" font-style=\"normal\" dominant-baseline=\"hanging\" stroke-width=\"2px\" transform=\"translate(70 330 )scale(1 1 )rotate(-90 0 0 )\" font-size=\"12px\" stroke-linecap=\"round\" font-family=\"sans-serif\" text-anchor=\"middle\" fill=\"black\" stroke=\"black\"><text stroke=\"none\" vector-effect=\"non-scaling-stroke\" x=\"130\" y=\"6\" dominant-baseline=\"hanging\">accuracy</text></g><g font-style=\"normal\" stroke-width=\"0.5px\" font-family=\"sans-serif\" font-size=\"12px\" text-anchor=\"middle\" dominant-baseline=\"hanging\" stroke-linecap=\"round\" transform=\"translate(70 330 )scale(1 -1 )\" fill=\"black\" stroke=\"gray\" stroke-linejoin=\"round\" font-weight=\"bold\"><path d=\"M0,2.800227e+01 L884,2.800227e+01 M0,1.259438e+02 L884,1.259438e+02 M0,1.954344e+02 L884,1.954344e+02 M0,2.493355e+02 L884,2.493355e+02 \" vector-effect=\"non-scaling-stroke\"/></g><g font-weight=\"bold\" stroke=\"black\" dominant-baseline=\"hanging\" stroke-width=\"2px\" stroke-linecap=\"round\" font-style=\"normal\" fill=\"none\" font-family=\"sans-serif\" font-size=\"12px\" text-anchor=\"middle\" stroke-linejoin=\"round\"><rect width=\"884\" height=\"260\" vector-effect=\"non-scaling-stroke\" x=\"70\" y=\"70\"/><g font-size=\"18px\" dominant-baseline=\"middle\" fill=\"black\"><text x=\"512\" y=\"35\" dominant-baseline=\"middle\" stroke=\"none\" vector-effect=\"non-scaling-stroke\">accuracy metrics</text></g><g dominant-baseline=\"hanging\" fill=\"hsl(90, 47%, 65%)\" stroke=\"hsl(90, 47%, 65%)\" stroke-linejoin=\"round\" font-style=\"normal\" stroke-width=\"1px\" font-family=\"sans-serif\" font-size=\"12px\" text-anchor=\"start\" font-weight=\"normal\" stroke-linecap=\"round\"><rect x=\"76\" y=\"366\" width=\"12\" height=\"12\" vector-effect=\"non-scaling-stroke\"/><g fill=\"black\" stroke=\"black\"><text stroke=\"none\" vector-effect=\"non-scaling-stroke\" x=\"92\" y=\"366\" dominant-baseline=\"hanging\">Eval on Training: Mean Accuracy</text></g><g stroke=\"hsl(301, 88%, 65%)\" dominant-baseline=\"hanging\" stroke-linecap=\"round\" font-weight=\"normal\" stroke-width=\"1px\" stroke-linejoin=\"round\" font-style=\"normal\" fill=\"hsl(301, 88%, 65%)\" font-family=\"sans-serif\" font-size=\"12px\" text-anchor=\"start\"><rect y=\"384\" width=\"12\" height=\"12\" vector-effect=\"non-scaling-stroke\" x=\"76\"/><g stroke=\"black\" fill=\"black\"><text stroke=\"none\" vector-effect=\"non-scaling-stroke\" x=\"92\" y=\"384\" dominant-baseline=\"hanging\">Eval on Validation: Mean Accuracy</text></g><g stroke-width=\"1px\" font-size=\"12px\" text-anchor=\"start\" dominant-baseline=\"hanging\" font-style=\"normal\" font-weight=\"normal\" font-family=\"sans-serif\" fill=\"hsl(152, 76%, 65%)\" stroke=\"hsl(152, 76%, 65%)\" stroke-linecap=\"round\" stroke-linejoin=\"round\"><rect height=\"12\" vector-effect=\"non-scaling-stroke\" x=\"76\" y=\"402\" width=\"12\"/><g stroke=\"black\" fill=\"black\"><text dominant-baseline=\"hanging\" stroke=\"none\" vector-effect=\"non-scaling-stroke\" x=\"92\" y=\"402\">Train: Moving Average Accuracy</text></g></g></g></g></g></svg>\n",
       "<svg xmlns=\"http://www.w3.org/2000/svg\" width=\"1024\" height=\"454\" viewbox=\"0 0 1024 400\" style=\"background-color:#f8f8f8\" preserveAspectRatio=\"xMidYMid meet\"><defs><marker id=\"circle\" viewBox=\"0 0 10 10 \" refX=\"5\" refY=\"5\" markerUnits=\"userSpaceOnUse\" markerWidth=\"2%\" markerHeight=\"2%\"><circle fill=\"none\" stroke=\"black\" cx=\"5\" cy=\"5\" r=\"3\"/></marker><marker markerWidth=\"2%\" markerHeight=\"2%\" id=\"filled-circle\" viewBox=\"0 0 10 10 \" refX=\"5\" refY=\"5\" markerUnits=\"userSpaceOnUse\"><circle stroke=\"none\" cx=\"5\" cy=\"5\" r=\"3\" fill=\"black\"/></marker><marker viewBox=\"0 0 10 10 \" refX=\"5\" refY=\"5\" markerUnits=\"userSpaceOnUse\" markerWidth=\"2%\" markerHeight=\"2%\" id=\"square\"><rect width=\"6\" height=\"6\" fill=\"none\" stroke=\"black\" x=\"2\" y=\"2\"/></marker><marker markerWidth=\"2%\" markerHeight=\"2%\" id=\"filled-square\" viewBox=\"0 0 10 10 \" refX=\"5\" refY=\"5\" markerUnits=\"userSpaceOnUse\"><rect fill=\"black\" stroke=\"none\" x=\"2\" y=\"2\" width=\"6\" height=\"6\"/></marker></defs><g stroke=\"hsl(90, 47%, 65%)\" stroke-linecap=\"round\" marker-start=\"url(#square)\" marker-end=\"url(#square)\" fill=\"none\" marker-mid=\"url(#square)\" stroke-linejoin=\"round\" transform=\"translate(70 330 )scale(1 -1 )\" stroke-width=\"2px\"><path vector-effect=\"non-scaling-stroke\" d=\"M1.768000e+01,2.305281e+02 L1.544041e+02,2.008215e+02 L2.382534e+02,1.831120e+02 L3.004969e+02,1.712752e+02 L3.509112e+02,1.602626e+02 L3.940749e+02,1.504734e+02 L4.321593e+02,1.392966e+02 L4.666302e+02,1.309230e+02 L4.983920e+02,1.296214e+02 L5.280354e+02,1.160042e+02 L5.559630e+02,1.063115e+02 L5.824593e+02,1.186570e+02 L6.078067e+02,1.012977e+02 L6.321982e+02,8.882432e+01 L6.557685e+02,8.009571e+01 L6.786125e+02,8.607934e+01 L7.008441e+02,7.288008e+01 L7.225391e+02,5.632746e+01 L7.437834e+02,5.481588e+01 L7.646305e+02,4.834670e+01 L7.851406e+02,3.742562e+01 L8.053477e+02,3.160307e+01 L8.252913e+02,3.165786e+01 L8.449900e+02,2.070620e+01 L8.644679e+02,1.713039e+01 L8.663200e+02,5.200000e+00 \"/></g><g marker-mid=\"url(#square)\" marker-end=\"url(#square)\" stroke=\"hsl(301, 88%, 65%)\" stroke-linecap=\"round\" marker-start=\"url(#square)\" stroke-width=\"2px\" stroke-linejoin=\"round\" transform=\"translate(70 330 )scale(1 -1 )\" fill=\"none\"><path vector-effect=\"non-scaling-stroke\" d=\"M1.768000e+01,2.307613e+02 L1.544041e+02,2.013026e+02 L2.382534e+02,1.836004e+02 L3.004969e+02,1.726481e+02 L3.509112e+02,1.608654e+02 L3.940749e+02,1.515277e+02 L4.321593e+02,1.400831e+02 L4.666302e+02,1.319958e+02 L4.983920e+02,1.309855e+02 L5.280354e+02,1.164812e+02 L5.559630e+02,1.081187e+02 L5.824593e+02,1.193459e+02 L6.078067e+02,1.045850e+02 L6.321982e+02,9.024168e+01 L6.557685e+02,8.432108e+01 L6.786125e+02,8.952005e+01 L7.008441e+02,7.843054e+01 L7.225391e+02,6.471623e+01 L7.437834e+02,6.406057e+01 L7.646305e+02,6.133307e+01 L7.851406e+02,5.260021e+01 L8.053477e+02,4.840919e+01 L8.252913e+02,4.890836e+01 L8.449900e+02,4.343678e+01 L8.644679e+02,4.063606e+01 L8.663200e+02,3.158125e+01 \"/></g><g marker-mid=\"url(#square)\" fill=\"none\" marker-start=\"url(#square)\" marker-end=\"url(#square)\" stroke=\"hsl(152, 76%, 65%)\" stroke-width=\"2px\" stroke-linecap=\"round\" stroke-linejoin=\"round\" transform=\"translate(70 330 )scale(1 -1 )\"><path vector-effect=\"non-scaling-stroke\" d=\"M1.768000e+01,2.548000e+02 L1.544041e+02,2.261632e+02 L2.382534e+02,2.009705e+02 L3.004969e+02,1.841093e+02 L3.509112e+02,1.701866e+02 L3.940749e+02,1.578471e+02 L4.321593e+02,1.467969e+02 L4.666302e+02,1.414683e+02 L4.983920e+02,1.303259e+02 L5.280354e+02,1.218480e+02 L5.559630e+02,1.190278e+02 L5.824593e+02,1.101469e+02 L6.078067e+02,1.024140e+02 L6.321982e+02,9.362010e+01 L6.557685e+02,9.180590e+01 L6.786125e+02,8.053441e+01 L7.008441e+02,7.122143e+01 L7.225391e+02,6.872568e+01 L7.437834e+02,5.988165e+01 L7.646305e+02,4.965199e+01 L7.851406e+02,4.683135e+01 L8.053477e+02,3.281590e+01 L8.252913e+02,3.261951e+01 L8.449900e+02,2.504791e+01 L8.644679e+02,2.215227e+01 L8.663200e+02,1.905483e+01 \"/></g><g stroke=\"black\" stroke-width=\"2px\" stroke-linecap=\"round\" fill=\"none\" transform=\"translate(70 330 )scale(1 -1 )\" stroke-linejoin=\"round\"><path vector-effect=\"non-scaling-stroke\" d=\"M1.768000e+01,0 L1.768000e+01,-6 M1.454130e+02,0 L1.454130e+02,-6 M2.201321e+02,0 L2.201321e+02,-6 M2.731461e+02,0 L2.731461e+02,-6 M3.142670e+02,0 L3.142670e+02,-6 M3.478651e+02,0 L3.478651e+02,-6 M3.762720e+02,0 L3.762720e+02,-6 M4.008791e+02,0 L4.008791e+02,-6 M4.225842e+02,0 L4.225842e+02,-6 M442,0 L442,-6 M4.595637e+02,0 L4.595637e+02,-6 M5.697330e+02,0 L5.697330e+02,-6 M6.444521e+02,0 L6.444521e+02,-6 M6.974661e+02,0 L6.974661e+02,-6 M7.385870e+02,0 L7.385870e+02,-6 M7.721851e+02,0 L7.721851e+02,-6 M8.005920e+02,0 L8.005920e+02,-6 M8.251991e+02,0 L8.251991e+02,-6 M8.469042e+02,0 L8.469042e+02,-6 M8.663200e+02,0 L8.663200e+02,-6 \"/></g><g dominant-baseline=\"hanging\" fill=\"black\" stroke=\"black\" font-family=\"sans-serif\" font-style=\"normal\" font-weight=\"normal\" text-anchor=\"middle\" stroke-width=\"2px\" stroke-linecap=\"round\" stroke-linejoin=\"round\" transform=\"translate(70 330 )scale(1 1 )\" font-size=\"12px\"><text dominant-baseline=\"hanging\" stroke=\"none\" vector-effect=\"non-scaling-stroke\" x=\"1.768000e+01\" y=\"10\">100</text><text vector-effect=\"non-scaling-stroke\" x=\"1.454130e+02\" y=\"10\" dominant-baseline=\"hanging\" stroke=\"none\">200</text><text vector-effect=\"non-scaling-stroke\" x=\"2.201321e+02\" y=\"10\" dominant-baseline=\"hanging\" stroke=\"none\">300</text><text vector-effect=\"non-scaling-stroke\" x=\"2.731461e+02\" y=\"10\" dominant-baseline=\"hanging\" stroke=\"none\">400</text><text stroke=\"none\" vector-effect=\"non-scaling-stroke\" x=\"3.142670e+02\" y=\"10\" dominant-baseline=\"hanging\">500</text><text dominant-baseline=\"hanging\" stroke=\"none\" vector-effect=\"non-scaling-stroke\" x=\"3.478651e+02\" y=\"10\">600</text><text stroke=\"none\" vector-effect=\"non-scaling-stroke\" x=\"3.762720e+02\" y=\"10\" dominant-baseline=\"hanging\">700</text><text dominant-baseline=\"hanging\" stroke=\"none\" vector-effect=\"non-scaling-stroke\" x=\"4.008791e+02\" y=\"10\">800</text><text stroke=\"none\" vector-effect=\"non-scaling-stroke\" x=\"4.225842e+02\" y=\"10\" dominant-baseline=\"hanging\">900</text><text vector-effect=\"non-scaling-stroke\" x=\"442\" y=\"10\" dominant-baseline=\"hanging\" stroke=\"none\">1000</text><text vector-effect=\"non-scaling-stroke\" x=\"4.595637e+02\" y=\"10\" dominant-baseline=\"hanging\" stroke=\"none\">1100</text><text dominant-baseline=\"hanging\" stroke=\"none\" vector-effect=\"non-scaling-stroke\" x=\"5.697330e+02\" y=\"10\">2000</text><text x=\"6.444521e+02\" y=\"10\" dominant-baseline=\"hanging\" stroke=\"none\" vector-effect=\"non-scaling-stroke\">3000</text><text stroke=\"none\" vector-effect=\"non-scaling-stroke\" x=\"6.974661e+02\" y=\"10\" dominant-baseline=\"hanging\">4000</text><text dominant-baseline=\"hanging\" stroke=\"none\" vector-effect=\"non-scaling-stroke\" x=\"7.385870e+02\" y=\"10\">5000</text><text stroke=\"none\" vector-effect=\"non-scaling-stroke\" x=\"7.721851e+02\" y=\"10\" dominant-baseline=\"hanging\">6000</text><text stroke=\"none\" vector-effect=\"non-scaling-stroke\" x=\"8.005920e+02\" y=\"10\" dominant-baseline=\"hanging\">7000</text><text vector-effect=\"non-scaling-stroke\" x=\"8.251991e+02\" y=\"10\" dominant-baseline=\"hanging\" stroke=\"none\">8000</text><text dominant-baseline=\"hanging\" stroke=\"none\" vector-effect=\"non-scaling-stroke\" x=\"8.469042e+02\" y=\"10\">9000</text><text stroke=\"none\" vector-effect=\"non-scaling-stroke\" x=\"8.663200e+02\" y=\"10\" dominant-baseline=\"hanging\">10000</text></g><g text-anchor=\"middle\" fill=\"black\" stroke=\"black\" stroke-linejoin=\"round\" font-family=\"sans-serif\" font-style=\"normal\" stroke-width=\"2px\" dominant-baseline=\"baseline\" transform=\"translate(70 330 )scale(1 1 )rotate(0 0 0 )\" font-size=\"12px\" stroke-linecap=\"round\" font-weight=\"bold\"><text stroke=\"none\" vector-effect=\"non-scaling-stroke\" x=\"442\" y=\"-6\" dominant-baseline=\"baseline\">Steps</text></g><g stroke-linejoin=\"round\" stroke-width=\"2px\" stroke-linecap=\"round\" font-family=\"sans-serif\" fill=\"black\" dominant-baseline=\"baseline\" font-size=\"12px\" font-style=\"normal\" font-weight=\"bold\" text-anchor=\"middle\" stroke=\"black\" transform=\"translate(70 330 )scale(1 -1 )\"><path vector-effect=\"non-scaling-stroke\" d=\"M0,1.977115e+02 L-6,1.977115e+02 \"/></g><g transform=\"translate(70 330 )scale(1 1 )\" stroke-linecap=\"round\" text-anchor=\"end\" fill=\"black\" stroke-width=\"2px\" stroke-linejoin=\"round\" font-family=\"sans-serif\" font-style=\"normal\" font-weight=\"normal\" stroke=\"black\" dominant-baseline=\"middle\" font-size=\"12px\"><text stroke=\"none\" vector-effect=\"non-scaling-stroke\" x=\"-10\" y=\"-1.977115e+02\" dominant-baseline=\"middle\">2.000</text></g><g font-size=\"12px\" fill=\"black\" stroke-width=\"2px\" stroke-linecap=\"round\" dominant-baseline=\"hanging\" font-family=\"sans-serif\" stroke-linejoin=\"round\" transform=\"translate(70 330 )scale(1 1 )rotate(-90 0 0 )\" font-style=\"normal\" font-weight=\"bold\" text-anchor=\"middle\" stroke=\"black\"><text stroke=\"none\" vector-effect=\"non-scaling-stroke\" x=\"130\" y=\"6\" dominant-baseline=\"hanging\">loss</text></g><g stroke-width=\"0.5px\" stroke-linecap=\"round\" font-family=\"sans-serif\" font-style=\"normal\" dominant-baseline=\"hanging\" fill=\"black\" text-anchor=\"middle\" stroke=\"gray\" stroke-linejoin=\"round\" transform=\"translate(70 330 )scale(1 -1 )\" font-size=\"12px\" font-weight=\"bold\"><path vector-effect=\"non-scaling-stroke\" d=\"M0,1.977115e+02 L884,1.977115e+02 \"/></g><g dominant-baseline=\"hanging\" text-anchor=\"middle\" stroke=\"black\" stroke-width=\"2px\" stroke-linecap=\"round\" font-weight=\"bold\" fill=\"none\" stroke-linejoin=\"round\" font-size=\"12px\" font-family=\"sans-serif\" font-style=\"normal\"><rect y=\"70\" width=\"884\" height=\"260\" vector-effect=\"non-scaling-stroke\" x=\"70\"/><g fill=\"black\" dominant-baseline=\"middle\" font-size=\"18px\"><text dominant-baseline=\"middle\" stroke=\"none\" vector-effect=\"non-scaling-stroke\" x=\"512\" y=\"35\">loss metrics</text></g><g font-style=\"normal\" text-anchor=\"start\" fill=\"hsl(90, 47%, 65%)\" dominant-baseline=\"hanging\" stroke-linejoin=\"round\" stroke-width=\"1px\" font-family=\"sans-serif\" font-weight=\"normal\" font-size=\"12px\" stroke=\"hsl(90, 47%, 65%)\" stroke-linecap=\"round\"><rect vector-effect=\"non-scaling-stroke\" x=\"76\" y=\"366\" width=\"12\" height=\"12\"/><g fill=\"black\" stroke=\"black\"><text x=\"92\" y=\"366\" dominant-baseline=\"hanging\" stroke=\"none\" vector-effect=\"non-scaling-stroke\">Eval on Training: Mean Loss</text></g><g stroke-linecap=\"round\" font-family=\"sans-serif\" fill=\"hsl(301, 88%, 65%)\" dominant-baseline=\"hanging\" font-size=\"12px\" font-style=\"normal\" font-weight=\"normal\" text-anchor=\"start\" stroke=\"hsl(301, 88%, 65%)\" stroke-width=\"1px\" stroke-linejoin=\"round\"><rect width=\"12\" height=\"12\" vector-effect=\"non-scaling-stroke\" x=\"76\" y=\"384\"/><g fill=\"black\" stroke=\"black\"><text vector-effect=\"non-scaling-stroke\" x=\"92\" y=\"384\" dominant-baseline=\"hanging\" stroke=\"none\">Eval on Validation: Mean Loss</text></g><g font-style=\"normal\" font-weight=\"normal\" fill=\"hsl(152, 76%, 65%)\" stroke=\"hsl(152, 76%, 65%)\" stroke-linecap=\"round\" font-family=\"sans-serif\" text-anchor=\"start\" stroke-width=\"1px\" dominant-baseline=\"hanging\" stroke-linejoin=\"round\" font-size=\"12px\"><rect y=\"402\" width=\"12\" height=\"12\" vector-effect=\"non-scaling-stroke\" x=\"76\"/><g stroke=\"black\" fill=\"black\"><text vector-effect=\"non-scaling-stroke\" x=\"92\" y=\"402\" dominant-baseline=\"hanging\" stroke=\"none\">Train: Moving Average Loss</text></g></g></g></g></g></svg>"
      ]
     },
     "metadata": {},
     "output_type": "display_data"
    },
    {
     "name": "stdout",
     "output_type": "stream",
     "text": [
      "Training (10000 steps):  100% [\u001b[32m=\u001b[0m\u001b[32m=\u001b[0m\u001b[32m=\u001b[0m\u001b[32m=\u001b[0m\u001b[32m=\u001b[0m\u001b[32m=\u001b[0m\u001b[32m=\u001b[0m\u001b[32m=\u001b[0m\u001b[32m=\u001b[0m\u001b[32m=\u001b[0m\u001b[32m=\u001b[0m\u001b[32m=\u001b[0m\u001b[32m=\u001b[0m\u001b[32m=\u001b[0m\u001b[32m=\u001b[0m\u001b[32m=\u001b[0m\u001b[32m=\u001b[0m\u001b[32m=\u001b[0m\u001b[32m=\u001b[0m\u001b[32m=\u001b[0m\u001b[32m=\u001b[0m\u001b[32m=\u001b[0m\u001b[32m=\u001b[0m\u001b[32m=\u001b[0m\u001b[32m=\u001b[0m\u001b[32m=\u001b[0m\u001b[32m=\u001b[0m\u001b[32m=\u001b[0m\u001b[32m=\u001b[0m\u001b[32m=\u001b[0m\u001b[32m=\u001b[0m\u001b[32m=\u001b[0m\u001b[32m=\u001b[0m\u001b[32m=\u001b[0m\u001b[32m=\u001b[0m\u001b[32m=\u001b[0m\u001b[32m=\u001b[0m\u001b[32m=\u001b[0m\u001b[32m=\u001b[0m\u001b[32m=\u001b[0m] (469 steps/s)\u001b[0m [loss=1.245] [~loss=1.412] [~acc=50.00%]        \n",
      "\n",
      "[saving checkpoint@10000] [median train step (ms): 1]\n",
      "\t[Step 10000] median train step: 1413 microseconds\n",
      "\n",
      "Results on Training:\n",
      "\tMean Loss (#loss): 1.374\n",
      "\tMean Accuracy (#acc): 51.14%\n",
      "Results on Validation:\n",
      "\tMean Loss (#loss): 1.447\n",
      "\tMean Accuracy (#acc): 48.46%\n",
      "\n"
     ]
    }
   ],
   "source": [
    "%% --model=fnn --steps=10000 --norm=layer --checkpoint=base_fnn_model\n",
    "trainModel()"
   ]
  },
  {
   "cell_type": "markdown",
   "id": "942fdb36-4fbe-4ccf-9958-c8b67b036ada",
   "metadata": {},
   "source": [
    "### CNN model for Cifar-10\n",
    "\n",
    "Let's now properly define our CNN model to compare:"
   ]
  },
  {
   "cell_type": "code",
   "execution_count": 9,
   "id": "e27dc442-c3aa-4ec5-98e9-e5321b474785",
   "metadata": {
    "tags": []
   },
   "outputs": [
    {
     "name": "stdout",
     "output_type": "stream",
     "text": [
      "Logits shape for batch_size=50: (Float32)[50 10]\n"
     ]
    }
   ],
   "source": [
    "import (\n",
    "    . \"github.com/gomlx/gomlx/graph\"\n",
    "    \"github.com/gomlx/gomlx/examples/cifar\"\n",
    "    \"github.com/gomlx/gomlx/ml/context\"\n",
    "    \"github.com/gomlx/gomlx/types/shapes\"\n",
    ")\n",
    "\n",
    "func CNNModelGraph(ctx *context.Context, spec any, inputs []*Node) []*Node {\n",
    "    g := inputs[0].Graph()\n",
    "    batchedImages := inputs[0]\n",
    "    batchSize := batchedImages.Shape().Dimensions[0]\n",
    "    logits := batchedImages\n",
    "    {\n",
    "        ctx := ctx.In(\"conv_0\")\n",
    "        logits = layers.Convolution(ctx, logits).Filters(32).KernelSize(3).Done()\n",
    "        logits = normalizeImage(ctx, logits)\n",
    "        logits = layers.Relu(logits)\n",
    "        logits = MaxPool(logits).Window(2).Done()\n",
    "    }\n",
    "    {\n",
    "        ctx := ctx.In(\"conv_1\")\n",
    "        logits = layers.Convolution(ctx, logits).Filters(64).KernelSize(3).Done()\n",
    "        logits = normalizeImage(ctx, logits)\n",
    "        logits = layers.Relu(logits)\n",
    "        logits = MaxPool(logits).Window(2).Done()\n",
    "    }\n",
    "    {\n",
    "        ctx := ctx.In(\"conv_2\")\n",
    "        logits = layers.Convolution(ctx, logits).Filters(64).KernelSize(3).Done()\n",
    "        logits = normalizeImage(ctx, logits)\n",
    "        logits = Reshape(logits, batchSize, -1)\n",
    "        logits = layers.Relu(logits)\n",
    "    }\n",
    "    {\n",
    "        ctx := ctx.In(\"dense_0\")\n",
    "        logits = layers.DenseWithBias(ctx, logits, *flagNumNodes)\n",
    "        logits = normalizeFeatures(ctx, logits)\n",
    "    }\n",
    "    for ii := 1; ii < *flagNumHiddenLayers; ii++ {\n",
    "        ctx := ctx.In(fmt.Sprintf(\"dense_%d\", ii))\n",
    "        // Add layer with residual connection.\n",
    "        tmp := layers.Relu(logits)\n",
    "        if *flagDropoutRate > 0 {\n",
    "            tmp = layers.Dropout(ctx, tmp, Const(g, shapes.CastAsDType(*flagDropoutRate, tmp.DType())))\n",
    "        }\n",
    "        tmp = layers.DenseWithBias(ctx, tmp, *flagNumNodes)\n",
    "        tmp = normalizeFeatures(ctx, tmp)\n",
    "        logits = Add(logits, tmp)\n",
    "    }\n",
    "    logits = layers.Relu(logits)\n",
    "    logits = layers.DenseWithBias(ctx.In(\"denseFinal\"), logits, len(cifar.C10Labels))\n",
    "    return []*Node{logits}\n",
    "}\n",
    "\n",
    "%%\n",
    "// Let's test that the logits are coming out with the right shape: we want [batch_size, 10], since there are 10 classes.\n",
    "AssertDownloaded()\n",
    "g := manager.NewGraph(\"test\")\n",
    "ctx := context.NewContext(manager)\n",
    "logits := CNNModelGraph(ctx, nil, []*Node{g.Parameter(\"images\", shapes.Make(DType, *flagBatchSize, cifar.Height, cifar.Width, cifar.Depth))})\n",
    "fmt.Printf(\"Logits shape for batch_size=%d: %s\\n\", *flagBatchSize, logits[0].Shape())\n"
   ]
  },
  {
   "cell_type": "markdown",
   "id": "6e3b2b04-8ca7-49d6-921d-3527c9169da9",
   "metadata": {},
   "source": [
    "### Training the CNN model\n",
    "\n",
    "CNNs have a much better inductive bias for machine learning on images, and it can easily achieve > 80% accuracy in training data, but only > 65% on test data, due to overfitting.\n",
    "\n",
    "Likely it would benefit from pre-training the model on a larger unlabeled datasets."
   ]
  },
  {
   "cell_type": "code",
   "execution_count": 10,
   "id": "b2739281-6e70-4bd4-90e5-ed493678b8ce",
   "metadata": {
    "tags": []
   },
   "outputs": [
    {
     "name": "stdout",
     "output_type": "stream",
     "text": [
      "Platform: CUDA\n"
     ]
    },
    {
     "data": {
      "text/html": [
       "<svg xmlns=\"http://www.w3.org/2000/svg\" width=\"1024\" height=\"454\" viewbox=\"0 0 1024 400\" style=\"background-color:#f8f8f8\" preserveAspectRatio=\"xMidYMid meet\"><defs><marker viewBox=\"0 0 10 10 \" refX=\"5\" refY=\"5\" markerUnits=\"userSpaceOnUse\" markerWidth=\"2%\" markerHeight=\"2%\" id=\"circle\"><circle cx=\"5\" cy=\"5\" r=\"3\" fill=\"none\" stroke=\"black\"/></marker><marker markerWidth=\"2%\" markerHeight=\"2%\" id=\"filled-circle\" viewBox=\"0 0 10 10 \" refX=\"5\" refY=\"5\" markerUnits=\"userSpaceOnUse\"><circle stroke=\"none\" cx=\"5\" cy=\"5\" r=\"3\" fill=\"black\"/></marker><marker markerHeight=\"2%\" id=\"square\" viewBox=\"0 0 10 10 \" refX=\"5\" refY=\"5\" markerUnits=\"userSpaceOnUse\" markerWidth=\"2%\"><rect y=\"2\" width=\"6\" height=\"6\" fill=\"none\" stroke=\"black\" x=\"2\"/></marker><marker markerWidth=\"2%\" markerHeight=\"2%\" id=\"filled-square\" viewBox=\"0 0 10 10 \" refX=\"5\" refY=\"5\" markerUnits=\"userSpaceOnUse\"><rect y=\"2\" width=\"6\" height=\"6\" fill=\"black\" stroke=\"none\" x=\"2\"/></marker></defs><g stroke=\"hsl(90, 47%, 65%)\" stroke-linecap=\"round\" stroke-linejoin=\"round\" stroke-width=\"2px\" marker-mid=\"url(#square)\" marker-end=\"url(#square)\" marker-start=\"url(#square)\" transform=\"translate(70 330 )scale(1 -1 )\" fill=\"none\"><path d=\"M1.768000e+01,6.393803e+01 L1.365173e+02,1.038092e+02 L2.093971e+02,1.271080e+02 L2.634977e+02,1.421788e+02 L3.073165e+02,1.554225e+02 L3.448334e+02,1.618484e+02 L3.779355e+02,1.678677e+02 L4.078967e+02,1.791950e+02 L4.355033e+02,1.844186e+02 L4.612687e+02,1.870918e+02 L4.855427e+02,1.957931e+02 L5.085726e+02,2.000917e+02 L5.306039e+02,2.026271e+02 L5.518045e+02,2.110196e+02 L5.722912e+02,2.156067e+02 L5.921466e+02,2.209367e+02 L6.114698e+02,2.198624e+02 L6.303266e+02,2.270414e+02 L6.487916e+02,2.309387e+02 L6.669114e+02,2.313470e+02 L6.847383e+02,2.304225e+02 L7.023018e+02,2.364281e+02 L7.196363e+02,2.370632e+02 L7.367580e+02,2.404173e+02 L7.536877e+02,2.407360e+02 L7.704470e+02,2.408408e+02 L7.870558e+02,2.445838e+02 L8.035318e+02,2.386023e+02 L8.198887e+02,2.495893e+02 L8.361372e+02,2.494144e+02 L8.522929e+02,2.548000e+02 L8.663200e+02,2.373585e+02 \" vector-effect=\"non-scaling-stroke\"/></g><g transform=\"translate(70 330 )scale(1 -1 )\" marker-start=\"url(#square)\" stroke-width=\"2px\" marker-mid=\"url(#square)\" marker-end=\"url(#square)\" stroke-linejoin=\"round\" fill=\"none\" stroke=\"hsl(301, 88%, 65%)\" stroke-linecap=\"round\"><path d=\"M1.768000e+01,6.324806e+01 L1.365173e+02,1.025199e+02 L2.093971e+02,1.230203e+02 L2.634977e+02,1.377428e+02 L3.073165e+02,1.495082e+02 L3.448334e+02,1.578355e+02 L3.779355e+02,1.636199e+02 L4.078967e+02,1.727105e+02 L4.355033e+02,1.778570e+02 L4.612687e+02,1.795580e+02 L4.855427e+02,1.881572e+02 L5.085726e+02,1.914541e+02 L5.306039e+02,1.950180e+02 L5.518045e+02,2.010510e+02 L5.722912e+02,2.060762e+02 L5.921466e+02,2.084569e+02 L6.114698e+02,2.072836e+02 L6.303266e+02,2.129706e+02 L6.487916e+02,2.154264e+02 L6.669114e+02,2.154021e+02 L6.847383e+02,2.134647e+02 L7.023018e+02,2.192107e+02 L7.196363e+02,2.200427e+02 L7.367580e+02,2.214596e+02 L7.536877e+02,2.221635e+02 L7.704470e+02,2.189722e+02 L7.870558e+02,2.230742e+02 L8.035318e+02,2.164714e+02 L8.198887e+02,2.249499e+02 L8.361372e+02,2.229577e+02 L8.522929e+02,2.271005e+02 L8.663200e+02,2.119283e+02 \" vector-effect=\"non-scaling-stroke\"/></g><g fill=\"none\" stroke=\"hsl(152, 76%, 65%)\" stroke-linecap=\"round\" stroke-width=\"2px\" marker-mid=\"url(#square)\" stroke-linejoin=\"round\" marker-start=\"url(#square)\" marker-end=\"url(#square)\" transform=\"translate(70 330 )scale(1 -1 )\"><path vector-effect=\"non-scaling-stroke\" d=\"M1.768000e+01,5.200000e+00 L1.365173e+02,6.621632e+01 L2.093971e+02,9.811254e+01 L2.634977e+02,1.227973e+02 L3.073165e+02,1.363671e+02 L3.448334e+02,1.534627e+02 L3.779355e+02,1.631553e+02 L4.078967e+02,1.754688e+02 L4.355033e+02,1.781018e+02 L4.612687e+02,1.848834e+02 L4.855427e+02,1.893155e+02 L5.085726e+02,1.982075e+02 L5.306039e+02,2.018936e+02 L5.518045e+02,2.070459e+02 L5.722912e+02,2.120974e+02 L5.921466e+02,2.141262e+02 L6.114698e+02,2.199704e+02 L6.303266e+02,2.211692e+02 L6.487916e+02,2.255837e+02 L6.669114e+02,2.264220e+02 L6.847383e+02,2.306812e+02 L7.023018e+02,2.351812e+02 L7.196363e+02,2.338492e+02 L7.367580e+02,2.342705e+02 L7.536877e+02,2.359781e+02 L7.704470e+02,2.391261e+02 L7.870558e+02,2.458399e+02 L8.035318e+02,2.437635e+02 L8.198887e+02,2.425319e+02 L8.361372e+02,2.485964e+02 L8.522929e+02,2.527105e+02 L8.663200e+02,2.486917e+02 \"/></g><g fill=\"none\" transform=\"translate(70 330 )scale(1 -1 )\" stroke-width=\"2px\" stroke=\"black\" stroke-linecap=\"round\" stroke-linejoin=\"round\"><path vector-effect=\"non-scaling-stroke\" d=\"M1.768000e+01,0 L1.768000e+01,-6 M1.287025e+02,0 L1.287025e+02,-6 M1.936465e+02,0 L1.936465e+02,-6 M2.397250e+02,0 L2.397250e+02,-6 M2.754663e+02,0 L2.754663e+02,-6 M3.046690e+02,0 L3.046690e+02,-6 M3.293596e+02,0 L3.293596e+02,-6 M3.507475e+02,0 L3.507475e+02,-6 M3.696130e+02,0 L3.696130e+02,-6 M3.864888e+02,0 L3.864888e+02,-6 M4.017547e+02,0 L4.017547e+02,-6 M4.975112e+02,0 L4.975112e+02,-6 M5.624552e+02,0 L5.624552e+02,-6 M6.085337e+02,0 L6.085337e+02,-6 M6.442750e+02,0 L6.442750e+02,-6 M6.734777e+02,0 L6.734777e+02,-6 M6.981683e+02,0 L6.981683e+02,-6 M7.195562e+02,0 L7.195562e+02,-6 M7.384217e+02,0 L7.384217e+02,-6 M7.552975e+02,0 L7.552975e+02,-6 M8.663200e+02,0 L8.663200e+02,-6 \"/></g><g stroke-linejoin=\"round\" fill=\"black\" stroke-width=\"2px\" transform=\"translate(70 330 )scale(1 1 )\" dominant-baseline=\"hanging\" text-anchor=\"middle\" font-family=\"sans-serif\" font-size=\"12px\" font-style=\"normal\" font-weight=\"normal\" stroke=\"black\" stroke-linecap=\"round\"><text vector-effect=\"non-scaling-stroke\" x=\"1.768000e+01\" y=\"10\" dominant-baseline=\"hanging\" stroke=\"none\">100</text><text vector-effect=\"non-scaling-stroke\" x=\"1.287025e+02\" y=\"10\" dominant-baseline=\"hanging\" stroke=\"none\">200</text><text x=\"1.936465e+02\" y=\"10\" dominant-baseline=\"hanging\" stroke=\"none\" vector-effect=\"non-scaling-stroke\">300</text><text y=\"10\" dominant-baseline=\"hanging\" stroke=\"none\" vector-effect=\"non-scaling-stroke\" x=\"2.397250e+02\">400</text><text x=\"2.754663e+02\" y=\"10\" dominant-baseline=\"hanging\" stroke=\"none\" vector-effect=\"non-scaling-stroke\">500</text><text x=\"3.046690e+02\" y=\"10\" dominant-baseline=\"hanging\" stroke=\"none\" vector-effect=\"non-scaling-stroke\">600</text><text x=\"3.293596e+02\" y=\"10\" dominant-baseline=\"hanging\" stroke=\"none\" vector-effect=\"non-scaling-stroke\">700</text><text x=\"3.507475e+02\" y=\"10\" dominant-baseline=\"hanging\" stroke=\"none\" vector-effect=\"non-scaling-stroke\">800</text><text vector-effect=\"non-scaling-stroke\" x=\"3.696130e+02\" y=\"10\" dominant-baseline=\"hanging\" stroke=\"none\">900</text><text stroke=\"none\" vector-effect=\"non-scaling-stroke\" x=\"3.864888e+02\" y=\"10\" dominant-baseline=\"hanging\">1000</text><text stroke=\"none\" vector-effect=\"non-scaling-stroke\" x=\"4.017547e+02\" y=\"10\" dominant-baseline=\"hanging\">1100</text><text y=\"10\" dominant-baseline=\"hanging\" stroke=\"none\" vector-effect=\"non-scaling-stroke\" x=\"4.975112e+02\">2000</text><text x=\"5.624552e+02\" y=\"10\" dominant-baseline=\"hanging\" stroke=\"none\" vector-effect=\"non-scaling-stroke\">3000</text><text y=\"10\" dominant-baseline=\"hanging\" stroke=\"none\" vector-effect=\"non-scaling-stroke\" x=\"6.085337e+02\">4000</text><text y=\"10\" dominant-baseline=\"hanging\" stroke=\"none\" vector-effect=\"non-scaling-stroke\" x=\"6.442750e+02\">5000</text><text stroke=\"none\" vector-effect=\"non-scaling-stroke\" x=\"6.734777e+02\" y=\"10\" dominant-baseline=\"hanging\">6000</text><text stroke=\"none\" vector-effect=\"non-scaling-stroke\" x=\"6.981683e+02\" y=\"10\" dominant-baseline=\"hanging\">7000</text><text vector-effect=\"non-scaling-stroke\" x=\"7.195562e+02\" y=\"10\" dominant-baseline=\"hanging\" stroke=\"none\">8000</text><text vector-effect=\"non-scaling-stroke\" x=\"7.384217e+02\" y=\"10\" dominant-baseline=\"hanging\" stroke=\"none\">9000</text><text x=\"7.552975e+02\" y=\"10\" dominant-baseline=\"hanging\" stroke=\"none\" vector-effect=\"non-scaling-stroke\">10000</text><text y=\"10\" dominant-baseline=\"hanging\" stroke=\"none\" vector-effect=\"non-scaling-stroke\" x=\"8.663200e+02\">20000</text></g><g stroke=\"black\" font-family=\"sans-serif\" font-size=\"12px\" font-style=\"normal\" font-weight=\"bold\" fill=\"black\" dominant-baseline=\"baseline\" stroke-width=\"2px\" text-anchor=\"middle\" stroke-linecap=\"round\" stroke-linejoin=\"round\" transform=\"translate(70 330 )scale(1 1 )rotate(0 0 0 )\"><text stroke=\"none\" vector-effect=\"non-scaling-stroke\" x=\"442\" y=\"-6\" dominant-baseline=\"baseline\">Steps</text></g><g text-anchor=\"middle\" stroke-linecap=\"round\" stroke-linejoin=\"round\" font-weight=\"bold\" fill=\"black\" stroke=\"black\" stroke-width=\"2px\" transform=\"translate(70 330 )scale(1 -1 )\" font-family=\"sans-serif\" font-size=\"12px\" font-style=\"normal\" dominant-baseline=\"baseline\"><path vector-effect=\"non-scaling-stroke\" d=\"M0,9.893773e+00 L-6,9.893773e+00 M0,7.759429e+01 L-6,7.759429e+01 M0,1.256286e+02 L-6,1.256286e+02 M0,1.628868e+02 L-6,1.628868e+02 M0,1.933291e+02 L-6,1.933291e+02 M0,2.190676e+02 L-6,2.190676e+02 M0,2.413634e+02 L-6,2.413634e+02 \"/></g><g fill=\"black\" font-size=\"12px\" text-anchor=\"end\" font-family=\"sans-serif\" font-style=\"normal\" font-weight=\"normal\" dominant-baseline=\"middle\" stroke-width=\"2px\" stroke=\"black\" stroke-linecap=\"round\" stroke-linejoin=\"round\" transform=\"translate(70 330 )scale(1 1 )\"><text vector-effect=\"non-scaling-stroke\" x=\"-10\" y=\"-9.893773e+00\" dominant-baseline=\"middle\" stroke=\"none\">0.200</text><text stroke=\"none\" vector-effect=\"non-scaling-stroke\" x=\"-10\" y=\"-7.759429e+01\" dominant-baseline=\"middle\">0.300</text><text stroke=\"none\" vector-effect=\"non-scaling-stroke\" x=\"-10\" y=\"-1.256286e+02\" dominant-baseline=\"middle\">0.400</text><text dominant-baseline=\"middle\" stroke=\"none\" vector-effect=\"non-scaling-stroke\" x=\"-10\" y=\"-1.628868e+02\">0.500</text><text stroke=\"none\" vector-effect=\"non-scaling-stroke\" x=\"-10\" y=\"-1.933291e+02\" dominant-baseline=\"middle\">0.600</text><text y=\"-2.190676e+02\" dominant-baseline=\"middle\" stroke=\"none\" vector-effect=\"non-scaling-stroke\" x=\"-10\">0.700</text><text x=\"-10\" y=\"-2.413634e+02\" dominant-baseline=\"middle\" stroke=\"none\" vector-effect=\"non-scaling-stroke\">0.800</text></g><g stroke-linecap=\"round\" stroke-linejoin=\"round\" stroke-width=\"2px\" text-anchor=\"middle\" fill=\"black\" stroke=\"black\" font-size=\"12px\" font-style=\"normal\" dominant-baseline=\"hanging\" transform=\"translate(70 330 )scale(1 1 )rotate(-90 0 0 )\" font-weight=\"bold\" font-family=\"sans-serif\"><text stroke=\"none\" vector-effect=\"non-scaling-stroke\" x=\"130\" y=\"6\" dominant-baseline=\"hanging\">accuracy</text></g><g stroke-linecap=\"round\" font-size=\"12px\" font-family=\"sans-serif\" font-style=\"normal\" font-weight=\"bold\" fill=\"black\" dominant-baseline=\"hanging\" transform=\"translate(70 330 )scale(1 -1 )\" stroke=\"gray\" stroke-linejoin=\"round\" text-anchor=\"middle\" stroke-width=\"0.5px\"><path vector-effect=\"non-scaling-stroke\" d=\"M0,9.893773e+00 L884,9.893773e+00 M0,7.759429e+01 L884,7.759429e+01 M0,1.256286e+02 L884,1.256286e+02 M0,1.628868e+02 L884,1.628868e+02 M0,1.933291e+02 L884,1.933291e+02 M0,2.190676e+02 L884,2.190676e+02 M0,2.413634e+02 L884,2.413634e+02 \"/></g><g fill=\"none\" stroke=\"black\" stroke-linecap=\"round\" stroke-linejoin=\"round\" font-style=\"normal\" font-weight=\"bold\" dominant-baseline=\"hanging\" stroke-width=\"2px\" text-anchor=\"middle\" font-family=\"sans-serif\" font-size=\"12px\"><rect y=\"70\" width=\"884\" height=\"260\" vector-effect=\"non-scaling-stroke\" x=\"70\"/><g fill=\"black\" dominant-baseline=\"middle\" font-size=\"18px\"><text stroke=\"none\" vector-effect=\"non-scaling-stroke\" x=\"512\" y=\"35\" dominant-baseline=\"middle\">accuracy metrics</text></g><g font-style=\"normal\" stroke-width=\"1px\" stroke=\"hsl(90, 47%, 65%)\" stroke-linecap=\"round\" stroke-linejoin=\"round\" dominant-baseline=\"hanging\" font-family=\"sans-serif\" font-size=\"12px\" font-weight=\"normal\" fill=\"hsl(90, 47%, 65%)\" text-anchor=\"start\"><rect x=\"76\" y=\"366\" width=\"12\" height=\"12\" vector-effect=\"non-scaling-stroke\"/><g fill=\"black\" stroke=\"black\"><text y=\"366\" dominant-baseline=\"hanging\" stroke=\"none\" vector-effect=\"non-scaling-stroke\" x=\"92\">Eval on Training: Mean Accuracy</text></g><g stroke-width=\"1px\" font-family=\"sans-serif\" font-style=\"normal\" font-weight=\"normal\" fill=\"hsl(301, 88%, 65%)\" stroke=\"hsl(301, 88%, 65%)\" dominant-baseline=\"hanging\" text-anchor=\"start\" stroke-linejoin=\"round\" font-size=\"12px\" stroke-linecap=\"round\"><rect vector-effect=\"non-scaling-stroke\" x=\"76\" y=\"384\" width=\"12\" height=\"12\"/><g stroke=\"black\" fill=\"black\"><text stroke=\"none\" vector-effect=\"non-scaling-stroke\" x=\"92\" y=\"384\" dominant-baseline=\"hanging\">Eval on Validation: Mean Accuracy</text></g><g font-style=\"normal\" dominant-baseline=\"hanging\" stroke-width=\"1px\" text-anchor=\"start\" fill=\"hsl(152, 76%, 65%)\" stroke=\"hsl(152, 76%, 65%)\" stroke-linecap=\"round\" font-size=\"12px\" stroke-linejoin=\"round\" font-family=\"sans-serif\" font-weight=\"normal\"><rect vector-effect=\"non-scaling-stroke\" x=\"76\" y=\"402\" width=\"12\" height=\"12\"/><g fill=\"black\" stroke=\"black\"><text y=\"402\" dominant-baseline=\"hanging\" stroke=\"none\" vector-effect=\"non-scaling-stroke\" x=\"92\">Train: Moving Average Accuracy</text></g></g></g></g></g></svg>\n",
       "<svg xmlns=\"http://www.w3.org/2000/svg\" width=\"1024\" height=\"454\" viewbox=\"0 0 1024 400\" style=\"background-color:#f8f8f8\" preserveAspectRatio=\"xMidYMid meet\"><defs><marker refY=\"5\" markerUnits=\"userSpaceOnUse\" markerWidth=\"2%\" markerHeight=\"2%\" id=\"circle\" viewBox=\"0 0 10 10 \" refX=\"5\"><circle r=\"3\" fill=\"none\" stroke=\"black\" cx=\"5\" cy=\"5\"/></marker><marker markerUnits=\"userSpaceOnUse\" markerWidth=\"2%\" markerHeight=\"2%\" id=\"filled-circle\" viewBox=\"0 0 10 10 \" refX=\"5\" refY=\"5\"><circle cx=\"5\" cy=\"5\" r=\"3\" fill=\"black\" stroke=\"none\"/></marker><marker viewBox=\"0 0 10 10 \" refX=\"5\" refY=\"5\" markerUnits=\"userSpaceOnUse\" markerWidth=\"2%\" markerHeight=\"2%\" id=\"square\"><rect x=\"2\" y=\"2\" width=\"6\" height=\"6\" fill=\"none\" stroke=\"black\"/></marker><marker viewBox=\"0 0 10 10 \" refX=\"5\" refY=\"5\" markerUnits=\"userSpaceOnUse\" markerWidth=\"2%\" markerHeight=\"2%\" id=\"filled-square\"><rect x=\"2\" y=\"2\" width=\"6\" height=\"6\" fill=\"black\" stroke=\"none\"/></marker></defs><g marker-end=\"url(#square)\" transform=\"translate(70 330 )scale(1 -1 )\" stroke-linecap=\"round\" stroke-linejoin=\"round\" marker-mid=\"url(#square)\" marker-start=\"url(#square)\" fill=\"none\" stroke=\"hsl(90, 47%, 65%)\" stroke-width=\"2px\"><path vector-effect=\"non-scaling-stroke\" d=\"M1.768000e+01,2.511128e+02 L1.365173e+02,2.447973e+02 L2.093971e+02,2.384002e+02 L2.634977e+02,2.316552e+02 L3.073165e+02,2.244445e+02 L3.448334e+02,2.173163e+02 L3.779355e+02,2.098808e+02 L4.078967e+02,2.017088e+02 L4.355033e+02,1.935159e+02 L4.612687e+02,1.856849e+02 L4.855427e+02,1.771216e+02 L5.085726e+02,1.686908e+02 L5.306039e+02,1.602741e+02 L5.518045e+02,1.506858e+02 L5.722912e+02,1.415793e+02 L5.921466e+02,1.320129e+02 L6.114698e+02,1.241886e+02 L6.303266e+02,1.126210e+02 L6.487916e+02,1.027929e+02 L6.669114e+02,9.332074e+01 L6.847383e+02,8.425012e+01 L7.023018e+02,7.186110e+01 L7.196363e+02,6.276457e+01 L7.367580e+02,5.174627e+01 L7.536877e+02,4.480385e+01 L7.704470e+02,3.805451e+01 L7.870558e+02,2.970174e+01 L8.035318e+02,2.893053e+01 L8.198887e+02,1.698729e+01 L8.361372e+02,1.362136e+01 L8.522929e+02,5.200000e+00 L8.663200e+02,1.768050e+01 \"/></g><g fill=\"none\" stroke=\"hsl(301, 88%, 65%)\" stroke-width=\"2px\" stroke-linecap=\"round\" stroke-linejoin=\"round\" marker-start=\"url(#square)\" marker-mid=\"url(#square)\" marker-end=\"url(#square)\" transform=\"translate(70 330 )scale(1 -1 )\"><path vector-effect=\"non-scaling-stroke\" d=\"M1.768000e+01,2.511272e+02 L1.365173e+02,2.448164e+02 L2.093971e+02,2.384243e+02 L2.634977e+02,2.317121e+02 L3.073165e+02,2.245936e+02 L3.448334e+02,2.175664e+02 L3.779355e+02,2.102006e+02 L4.078967e+02,2.021408e+02 L4.355033e+02,1.941179e+02 L4.612687e+02,1.864240e+02 L4.855427e+02,1.781628e+02 L5.085726e+02,1.699908e+02 L5.306039e+02,1.617244e+02 L5.518045e+02,1.527055e+02 L5.722912e+02,1.438416e+02 L5.921466e+02,1.349719e+02 L6.114698e+02,1.276592e+02 L6.303266e+02,1.170158e+02 L6.487916e+02,1.080059e+02 L6.669114e+02,9.903671e+01 L6.847383e+02,9.107576e+01 L7.023018e+02,8.007941e+01 L7.196363e+02,7.174747e+01 L7.367580e+02,6.255008e+01 L7.536877e+02,5.594677e+01 L7.704470e+02,5.145780e+01 L7.870558e+02,4.471477e+01 L8.035318e+02,4.528676e+01 L8.198887e+02,3.580912e+01 L8.361372e+02,3.516457e+01 L8.522929e+02,2.988960e+01 L8.663200e+02,4.140871e+01 \"/></g><g stroke-linecap=\"round\" stroke-linejoin=\"round\" marker-mid=\"url(#square)\" transform=\"translate(70 330 )scale(1 -1 )\" fill=\"none\" stroke=\"hsl(152, 76%, 65%)\" stroke-width=\"2px\" marker-start=\"url(#square)\" marker-end=\"url(#square)\"><path vector-effect=\"non-scaling-stroke\" d=\"M1.768000e+01,2.548000e+02 L1.365173e+02,2.499011e+02 L2.093971e+02,2.438194e+02 L2.634977e+02,2.370211e+02 L3.073165e+02,2.297702e+02 L3.448334e+02,2.220695e+02 L3.779355e+02,2.142086e+02 L4.078967e+02,2.058492e+02 L4.355033e+02,1.977059e+02 L4.612687e+02,1.891981e+02 L4.855427e+02,1.806462e+02 L5.085726e+02,1.714878e+02 L5.306039e+02,1.628331e+02 L5.518045e+02,1.539536e+02 L5.722912e+02,1.445088e+02 L5.921466e+02,1.355456e+02 L6.114698e+02,1.257879e+02 L6.303266e+02,1.163759e+02 L6.487916e+02,1.060552e+02 L6.669114e+02,9.614807e+01 L6.847383e+02,8.524069e+01 L7.023018e+02,7.380598e+01 L7.196363e+02,6.536132e+01 L7.367580e+02,5.613085e+01 L7.536877e+02,4.801747e+01 L7.704470e+02,3.993128e+01 L7.870558e+02,3.035355e+01 L8.035318e+02,2.630082e+01 L8.198887e+02,2.314077e+01 L8.361372e+02,1.546094e+01 L8.522929e+02,8.589293e+00 L8.663200e+02,9.177619e+00 \"/></g><g transform=\"translate(70 330 )scale(1 -1 )\" fill=\"none\" stroke=\"black\" stroke-width=\"2px\" stroke-linecap=\"round\" stroke-linejoin=\"round\"><path vector-effect=\"non-scaling-stroke\" d=\"M1.768000e+01,0 L1.768000e+01,-6 M1.287025e+02,0 L1.287025e+02,-6 M1.936465e+02,0 L1.936465e+02,-6 M2.397250e+02,0 L2.397250e+02,-6 M2.754663e+02,0 L2.754663e+02,-6 M3.046690e+02,0 L3.046690e+02,-6 M3.293596e+02,0 L3.293596e+02,-6 M3.507475e+02,0 L3.507475e+02,-6 M3.696130e+02,0 L3.696130e+02,-6 M3.864888e+02,0 L3.864888e+02,-6 M4.017547e+02,0 L4.017547e+02,-6 M4.975112e+02,0 L4.975112e+02,-6 M5.624552e+02,0 L5.624552e+02,-6 M6.085337e+02,0 L6.085337e+02,-6 M6.442750e+02,0 L6.442750e+02,-6 M6.734777e+02,0 L6.734777e+02,-6 M6.981683e+02,0 L6.981683e+02,-6 M7.195562e+02,0 L7.195562e+02,-6 M7.384217e+02,0 L7.384217e+02,-6 M7.552975e+02,0 L7.552975e+02,-6 M8.663200e+02,0 L8.663200e+02,-6 \"/></g><g transform=\"translate(70 330 )scale(1 1 )\" font-weight=\"normal\" font-size=\"12px\" fill=\"black\" stroke-width=\"2px\" stroke-linecap=\"round\" stroke-linejoin=\"round\" font-style=\"normal\" stroke=\"black\" dominant-baseline=\"hanging\" font-family=\"sans-serif\" text-anchor=\"middle\"><text dominant-baseline=\"hanging\" stroke=\"none\" vector-effect=\"non-scaling-stroke\" x=\"1.768000e+01\" y=\"10\">100</text><text x=\"1.287025e+02\" y=\"10\" dominant-baseline=\"hanging\" stroke=\"none\" vector-effect=\"non-scaling-stroke\">200</text><text x=\"1.936465e+02\" y=\"10\" dominant-baseline=\"hanging\" stroke=\"none\" vector-effect=\"non-scaling-stroke\">300</text><text x=\"2.397250e+02\" y=\"10\" dominant-baseline=\"hanging\" stroke=\"none\" vector-effect=\"non-scaling-stroke\">400</text><text stroke=\"none\" vector-effect=\"non-scaling-stroke\" x=\"2.754663e+02\" y=\"10\" dominant-baseline=\"hanging\">500</text><text vector-effect=\"non-scaling-stroke\" x=\"3.046690e+02\" y=\"10\" dominant-baseline=\"hanging\" stroke=\"none\">600</text><text vector-effect=\"non-scaling-stroke\" x=\"3.293596e+02\" y=\"10\" dominant-baseline=\"hanging\" stroke=\"none\">700</text><text stroke=\"none\" vector-effect=\"non-scaling-stroke\" x=\"3.507475e+02\" y=\"10\" dominant-baseline=\"hanging\">800</text><text x=\"3.696130e+02\" y=\"10\" dominant-baseline=\"hanging\" stroke=\"none\" vector-effect=\"non-scaling-stroke\">900</text><text dominant-baseline=\"hanging\" stroke=\"none\" vector-effect=\"non-scaling-stroke\" x=\"3.864888e+02\" y=\"10\">1000</text><text stroke=\"none\" vector-effect=\"non-scaling-stroke\" x=\"4.017547e+02\" y=\"10\" dominant-baseline=\"hanging\">1100</text><text x=\"4.975112e+02\" y=\"10\" dominant-baseline=\"hanging\" stroke=\"none\" vector-effect=\"non-scaling-stroke\">2000</text><text stroke=\"none\" vector-effect=\"non-scaling-stroke\" x=\"5.624552e+02\" y=\"10\" dominant-baseline=\"hanging\">3000</text><text stroke=\"none\" vector-effect=\"non-scaling-stroke\" x=\"6.085337e+02\" y=\"10\" dominant-baseline=\"hanging\">4000</text><text x=\"6.442750e+02\" y=\"10\" dominant-baseline=\"hanging\" stroke=\"none\" vector-effect=\"non-scaling-stroke\">5000</text><text x=\"6.734777e+02\" y=\"10\" dominant-baseline=\"hanging\" stroke=\"none\" vector-effect=\"non-scaling-stroke\">6000</text><text y=\"10\" dominant-baseline=\"hanging\" stroke=\"none\" vector-effect=\"non-scaling-stroke\" x=\"6.981683e+02\">7000</text><text stroke=\"none\" vector-effect=\"non-scaling-stroke\" x=\"7.195562e+02\" y=\"10\" dominant-baseline=\"hanging\">8000</text><text vector-effect=\"non-scaling-stroke\" x=\"7.384217e+02\" y=\"10\" dominant-baseline=\"hanging\" stroke=\"none\">9000</text><text stroke=\"none\" vector-effect=\"non-scaling-stroke\" x=\"7.552975e+02\" y=\"10\" dominant-baseline=\"hanging\">10000</text><text x=\"8.663200e+02\" y=\"10\" dominant-baseline=\"hanging\" stroke=\"none\" vector-effect=\"non-scaling-stroke\">20000</text></g><g stroke-linecap=\"round\" transform=\"translate(70 330 )scale(1 1 )rotate(0 0 0 )\" font-size=\"12px\" font-style=\"normal\" font-weight=\"bold\" text-anchor=\"middle\" fill=\"black\" stroke=\"black\" dominant-baseline=\"baseline\" font-family=\"sans-serif\" stroke-width=\"2px\" stroke-linejoin=\"round\"><text y=\"-6\" dominant-baseline=\"baseline\" stroke=\"none\" vector-effect=\"non-scaling-stroke\" x=\"442\">Steps</text></g><g font-size=\"12px\" font-style=\"normal\" font-weight=\"bold\" text-anchor=\"middle\" stroke-linejoin=\"round\" stroke=\"black\" stroke-width=\"2px\" stroke-linecap=\"round\" transform=\"translate(70 330 )scale(1 -1 )\" dominant-baseline=\"baseline\" font-family=\"sans-serif\" fill=\"black\"><path vector-effect=\"non-scaling-stroke\" d=\"M0,6.028004e+01 L-6,6.028004e+01 M0,1.025160e+02 L-6,1.025160e+02 M0,1.324828e+02 L-6,1.324828e+02 M0,1.557269e+02 L-6,1.557269e+02 M0,1.747187e+02 L-6,1.747187e+02 M0,1.907761e+02 L-6,1.907761e+02 M0,2.046856e+02 L-6,2.046856e+02 M0,2.169546e+02 L-6,2.169546e+02 M0,2.279297e+02 L-6,2.279297e+02 \"/></g><g stroke=\"black\" dominant-baseline=\"middle\" text-anchor=\"end\" stroke-linecap=\"round\" transform=\"translate(70 330 )scale(1 1 )\" font-size=\"12px\" font-style=\"normal\" fill=\"black\" font-family=\"sans-serif\" font-weight=\"normal\" stroke-width=\"2px\" stroke-linejoin=\"round\"><text y=\"-6.028004e+01\" dominant-baseline=\"middle\" stroke=\"none\" vector-effect=\"non-scaling-stroke\" x=\"-10\">2.000</text><text stroke=\"none\" vector-effect=\"non-scaling-stroke\" x=\"-10\" y=\"-1.025160e+02\" dominant-baseline=\"middle\">3.000</text><text stroke=\"none\" vector-effect=\"non-scaling-stroke\" x=\"-10\" y=\"-1.324828e+02\" dominant-baseline=\"middle\">4.000</text><text vector-effect=\"non-scaling-stroke\" x=\"-10\" y=\"-1.557269e+02\" dominant-baseline=\"middle\" stroke=\"none\">5.000</text><text y=\"-1.747187e+02\" dominant-baseline=\"middle\" stroke=\"none\" vector-effect=\"non-scaling-stroke\" x=\"-10\">6.000</text><text y=\"-1.907761e+02\" dominant-baseline=\"middle\" stroke=\"none\" vector-effect=\"non-scaling-stroke\" x=\"-10\">7.000</text><text vector-effect=\"non-scaling-stroke\" x=\"-10\" y=\"-2.046856e+02\" dominant-baseline=\"middle\" stroke=\"none\">8.000</text><text dominant-baseline=\"middle\" stroke=\"none\" vector-effect=\"non-scaling-stroke\" x=\"-10\" y=\"-2.169546e+02\">9.000</text></g><g stroke-width=\"2px\" stroke-linecap=\"round\" dominant-baseline=\"hanging\" font-weight=\"bold\" text-anchor=\"middle\" font-style=\"normal\" fill=\"black\" stroke=\"black\" font-family=\"sans-serif\" stroke-linejoin=\"round\" transform=\"translate(70 330 )scale(1 1 )rotate(-90 0 0 )\" font-size=\"12px\"><text stroke=\"none\" vector-effect=\"non-scaling-stroke\" x=\"130\" y=\"6\" dominant-baseline=\"hanging\">loss</text></g><g stroke-linejoin=\"round\" transform=\"translate(70 330 )scale(1 -1 )\" stroke-width=\"0.5px\" stroke-linecap=\"round\" font-weight=\"bold\" text-anchor=\"middle\" font-size=\"12px\" font-style=\"normal\" fill=\"black\" stroke=\"gray\" dominant-baseline=\"hanging\" font-family=\"sans-serif\"><path d=\"M0,6.028004e+01 L884,6.028004e+01 M0,1.025160e+02 L884,1.025160e+02 M0,1.324828e+02 L884,1.324828e+02 M0,1.557269e+02 L884,1.557269e+02 M0,1.747187e+02 L884,1.747187e+02 M0,1.907761e+02 L884,1.907761e+02 M0,2.046856e+02 L884,2.046856e+02 M0,2.169546e+02 L884,2.169546e+02 M0,2.279297e+02 L884,2.279297e+02 \" vector-effect=\"non-scaling-stroke\"/></g><g stroke=\"black\" font-family=\"sans-serif\" font-weight=\"bold\" text-anchor=\"middle\" stroke-linecap=\"round\" font-size=\"12px\" font-style=\"normal\" fill=\"none\" stroke-linejoin=\"round\" stroke-width=\"2px\" dominant-baseline=\"hanging\"><rect width=\"884\" height=\"260\" vector-effect=\"non-scaling-stroke\" x=\"70\" y=\"70\"/><g font-size=\"18px\" fill=\"black\" dominant-baseline=\"middle\"><text x=\"512\" y=\"35\" dominant-baseline=\"middle\" stroke=\"none\" vector-effect=\"non-scaling-stroke\">loss metrics</text></g><g stroke-width=\"1px\" font-family=\"sans-serif\" text-anchor=\"start\" stroke-linejoin=\"round\" font-size=\"12px\" font-style=\"normal\" fill=\"hsl(90, 47%, 65%)\" stroke=\"hsl(90, 47%, 65%)\" stroke-linecap=\"round\" dominant-baseline=\"hanging\" font-weight=\"normal\"><rect vector-effect=\"non-scaling-stroke\" x=\"76\" y=\"366\" width=\"12\" height=\"12\"/><g stroke=\"black\" fill=\"black\"><text y=\"366\" dominant-baseline=\"hanging\" stroke=\"none\" vector-effect=\"non-scaling-stroke\" x=\"92\">Eval on Training: Mean Loss</text></g><g font-style=\"normal\" fill=\"hsl(301, 88%, 65%)\" stroke=\"hsl(301, 88%, 65%)\" stroke-linejoin=\"round\" font-family=\"sans-serif\" font-weight=\"normal\" stroke-linecap=\"round\" font-size=\"12px\" dominant-baseline=\"hanging\" text-anchor=\"start\" stroke-width=\"1px\"><rect vector-effect=\"non-scaling-stroke\" x=\"76\" y=\"384\" width=\"12\" height=\"12\"/><g stroke=\"black\" fill=\"black\"><text dominant-baseline=\"hanging\" stroke=\"none\" vector-effect=\"non-scaling-stroke\" x=\"92\" y=\"384\">Eval on Validation: Mean Loss</text></g><g font-weight=\"normal\" text-anchor=\"start\" stroke-width=\"1px\" stroke-linejoin=\"round\" dominant-baseline=\"hanging\" font-style=\"normal\" fill=\"hsl(152, 76%, 65%)\" font-family=\"sans-serif\" stroke=\"hsl(152, 76%, 65%)\" stroke-linecap=\"round\" font-size=\"12px\"><rect y=\"402\" width=\"12\" height=\"12\" vector-effect=\"non-scaling-stroke\" x=\"76\"/><g stroke=\"black\" fill=\"black\"><text dominant-baseline=\"hanging\" stroke=\"none\" vector-effect=\"non-scaling-stroke\" x=\"92\" y=\"402\">Train: Moving Average Loss</text></g></g></g></g></g></svg>"
      ]
     },
     "metadata": {},
     "output_type": "display_data"
    },
    {
     "name": "stdout",
     "output_type": "stream",
     "text": [
      "Training (20000 steps):  100% [\u001b[32m=\u001b[0m\u001b[32m=\u001b[0m\u001b[32m=\u001b[0m\u001b[32m=\u001b[0m\u001b[32m=\u001b[0m\u001b[32m=\u001b[0m\u001b[32m=\u001b[0m\u001b[32m=\u001b[0m\u001b[32m=\u001b[0m\u001b[32m=\u001b[0m\u001b[32m=\u001b[0m\u001b[32m=\u001b[0m\u001b[32m=\u001b[0m\u001b[32m=\u001b[0m\u001b[32m=\u001b[0m\u001b[32m=\u001b[0m\u001b[32m=\u001b[0m\u001b[32m=\u001b[0m\u001b[32m=\u001b[0m\u001b[32m=\u001b[0m\u001b[32m=\u001b[0m\u001b[32m=\u001b[0m\u001b[32m=\u001b[0m\u001b[32m=\u001b[0m\u001b[32m=\u001b[0m\u001b[32m=\u001b[0m\u001b[32m=\u001b[0m\u001b[32m=\u001b[0m\u001b[32m=\u001b[0m\u001b[32m=\u001b[0m\u001b[32m=\u001b[0m\u001b[32m=\u001b[0m\u001b[32m=\u001b[0m\u001b[32m=\u001b[0m\u001b[32m=\u001b[0m\u001b[32m=\u001b[0m\u001b[32m=\u001b[0m\u001b[32m=\u001b[0m\u001b[32m=\u001b[0m\u001b[32m=\u001b[0m] (413 steps/s)\u001b[0m [loss=1.168] [~loss=1.225] [~acc=83.59%]        \n",
      "\t[Step 20000] median train step: 1592 microseconds\n",
      "\n",
      "Results on Training:\n",
      "\tMean Loss (#loss): 1.329\n",
      "\tMean Accuracy (#acc): 78.10%\n",
      "Results on Validation:\n",
      "\tMean Loss (#loss): 1.669\n",
      "\tMean Accuracy (#acc): 67.07%\n",
      "\n"
     ]
    }
   ],
   "source": [
    "%% --model=cnn --steps=20000 --batch=50 --hidden_layers=2 --l2_reg=0.01 --dropout=0.1 --norm=batch\n",
    "trainModel()"
   ]
  }
 ],
 "metadata": {
  "kernelspec": {
   "display_name": "Go (gonb)",
   "language": "go",
   "name": "gonb"
  },
  "language_info": {
   "codemirror_mode": "",
   "file_extension": ".go",
   "mimetype": "",
   "name": "go",
   "nbconvert_exporter": "",
   "pygments_lexer": "",
   "version": "go1.20.5"
  }
 },
 "nbformat": 4,
 "nbformat_minor": 5
}
