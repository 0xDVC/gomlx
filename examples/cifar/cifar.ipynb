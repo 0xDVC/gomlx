{
 "cells": [
  {
   "cell_type": "markdown",
   "id": "f431da81-4d94-4fd1-8a51-952ef824cb46",
   "metadata": {},
   "source": [
    "# Cifar Library and Demo\n",
    "\n",
    "[This is a library](https://pkg.go.dev/github.com/gomlx/gomlx/examples/cifar) to download and parse the Cifar datasets (Cifar-10 and Cifar-100), and a very small demo of a FNN (Feedforward Neural Network) with GoMLX. FNNs are notoriously bad for images, but it's only a demo. Look for the Resnet50 model for a more serious image classification model (old but still good -- best results as of the time of this writing is with ViT model).\n",
    "\n",
    "The CIFAR-10 and CIFAR-100 are labeled subsets of the 80 million tiny images dataset. They were collected by Alex Krizhevsky, Vinod Nair, and Geoffrey Hinton. See more details in [its homepage here](https://www.cs.toronto.edu/~kriz/cifar.html).\n",
    "\n",
    "This notebook serves as documentation and example for the [github.com/gomlx/gomlx/examples/cifar](https://github.com/gomlx/gomlx/examples/cifar) library, and the demo code in one piece can be seen in [.../examples/cifar/demo/](https://github.com/gomlx/gomlx/tree/main/examples/cifar/demo)"
   ]
  },
  {
   "cell_type": "markdown",
   "id": "bd398a51-c10a-4d05-91f7-f978856a8d8b",
   "metadata": {},
   "source": [
    "## Environment Set Up\n",
    "\n",
    "Let's set up `go.mod` to use the local copy of GoMLX, so it can be developed jointly the dataset code with the model. That's often how data pre-processing and model code is developed together with experimentation.\n",
    "\n",
    "If you are not changing code, feel free to simply skip this cell. Or if you used a different directory for you projects, change it below.\n",
    "\n",
    "Notice the directory `${HOME}/Projects/gomlx` is where the GoMLX code is copied by default in [its Docker](https://hub.docker.com/repository/docker/janpfeifer/gomlx_jupyterlab/general)."
   ]
  },
  {
   "cell_type": "code",
   "execution_count": 1,
   "id": "22abc207-e8b0-44ef-840d-fee3550cffca",
   "metadata": {
    "tags": []
   },
   "outputs": [
    {
     "name": "stdout",
     "output_type": "stream",
     "text": [
      "\t- Added replace rule for module \"github.com/gomlx/bsplines\" to local directory \"/home/janpf/Projects/bsplines\".\n",
      "\t- Added replace rule for module \"github.com/gomlx/gomlx\" to local directory \"/home/janpf/Projects/gomlx\".\n",
      "\t- Added replace rule for module \"github.com/janpfeifer/gonb\" to local directory \"/home/janpf/Projects/gonb\".\n",
      "\t- Added replace rule for module \"github.com/gomlx/gopjrt\" to local directory \"/home/janpf/Projects/gopjrt\".\n"
     ]
    }
   ],
   "source": [
    "!*rm -f go.work && go work init && go work use . \"${HOME}/Projects/gomlx\" \"${HOME}/Projects/gonb\" \"${HOME}/Projects/gopjrt\" \"${HOME}/Projects/bsplines\"\n",
    "%goworkfix"
   ]
  },
  {
   "cell_type": "markdown",
   "id": "443e9e56-ef12-4d04-b7bb-99478fa2b662",
   "metadata": {},
   "source": [
    "## Data Preparation\n",
    "\n",
    "### Downloading data files\n",
    "\n",
    "To download, uncompress and untar to the local directory, simply do the following. Notice if it's already downloaded in the given `--data` directory, it returns immediately."
   ]
  },
  {
   "cell_type": "code",
   "execution_count": 2,
   "id": "a61fdd1a-74a0-46f2-9cfc-f79bfa37e298",
   "metadata": {
    "tags": []
   },
   "outputs": [],
   "source": [
    "import (\n",
    "    \"github.com/gomlx/gomlx/examples/cifar\"\n",
    "    \"github.com/gomlx/gomlx/ml/data\"\n",
    "    \"github.com/janpfeifer/must\"\n",
    ")\n",
    "\n",
    "var flagDataDir = flag.String(\"data\", \"~/work/cifar\", \"Directory to cache downloaded and generated dataset files.\")\n",
    "\n",
    "func AssertDownloaded() {\n",
    "    *flagDataDir = data.ReplaceTildeInDir(*flagDataDir)\n",
    "    if !data.FileExists(*flagDataDir) {\n",
    "        must.M(os.MkdirAll(*flagDataDir, 0777))\n",
    "    }\n",
    "\n",
    "    must.M(cifar.DownloadCifar10(*flagDataDir))\n",
    "    must.M(cifar.DownloadCifar100(*flagDataDir))\n",
    "}\n",
    "\n",
    "%%\n",
    "AssertDownloaded()"
   ]
  },
  {
   "cell_type": "code",
   "execution_count": 3,
   "id": "345076ef-e2a3-4405-b47d-801c9ec62b91",
   "metadata": {
    "tags": []
   },
   "outputs": [
    {
     "name": "stdout",
     "output_type": "stream",
     "text": [
      "total 44K\n",
      "-rw-r--r-- 1 janpf janpf  358 Aug  2 10:32 a\n",
      "-rw-r--r-- 1 janpf janpf 3.7K Aug  2 10:25 b\n",
      "drwxr-x--- 2 janpf janpf 4.0K Aug  2 12:08 base_cnn_model\n",
      "drwxr-x--- 2 janpf janpf 4.0K Aug  2 12:07 base_fnn_model\n",
      "drwxr-xr-x 2 janpf janpf 4.0K Feb 20  2010 cifar-100-binary\n",
      "drwxr-xr-x 2 janpf janpf 4.0K Jun  4  2009 cifar-10-batches-bin\n",
      "drwxr-x--- 2 janpf janpf 4.0K Aug  2 09:51 cnn\n",
      "drwxr-x--- 2 janpf janpf 4.0K Aug  1 17:28 cnn_layer\n",
      "drwxr-x--- 2 janpf janpf 4.0K Jul 31 19:19 cnn_nonorm\n",
      "drwxr-x--- 2 janpf janpf 4.0K Jul 31 08:28 fnn_batchnorm_0\n",
      "drwxr-x--- 2 janpf janpf 4.0K Aug  1 14:24 fnn_layer\n"
     ]
    }
   ],
   "source": [
    "!ls -lh ~/work/cifar/"
   ]
  },
  {
   "cell_type": "markdown",
   "id": "93d4ae39-915c-478c-887f-b1c8c080865b",
   "metadata": {},
   "source": [
    "### Sample some images\n",
    "\n",
    "The `cifar.NewDataset` creates a `data.InMemoryDataset` that can be used both for training, evaluation, or just to sample a few examples, which we do below:"
   ]
  },
  {
   "cell_type": "code",
   "execution_count": 4,
   "id": "0dabc63a-b918-4065-9b23-0c5a22446458",
   "metadata": {
    "tags": []
   },
   "outputs": [
    {
     "data": {
      "text/html": [
       "<p>Samples Cifar-10</p>\n"
      ]
     },
     "metadata": {},
     "output_type": "display_data"
    },
    {
     "data": {
      "text/html": [
       "<table><tr>\n",
       "<td><figure style=\"padding:4px;text-align: center;\"><img width=\"64\" height=\"64\" src=\"data:image/png;base64,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\"><figcaption style=\"text-align: center;\">automobile ([1])</figcaption></figure></td>\n",
       "<td><figure style=\"padding:4px;text-align: center;\"><img width=\"64\" height=\"64\" src=\"data:image/png;base64,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\"><figcaption style=\"text-align: center;\">ship ([8])</figcaption></figure></td>\n",
       "<td><figure style=\"padding:4px;text-align: center;\"><img width=\"64\" height=\"64\" src=\"data:image/png;base64,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\"><figcaption style=\"text-align: center;\">truck ([9])</figcaption></figure></td>\n",
       "<td><figure style=\"padding:4px;text-align: center;\"><img width=\"64\" height=\"64\" src=\"data:image/png;base64,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\"><figcaption style=\"text-align: center;\">truck ([9])</figcaption></figure></td>\n",
       "<td><figure style=\"padding:4px;text-align: center;\"><img width=\"64\" height=\"64\" src=\"data:image/png;base64,iVBORw0KGgoAAAANSUhEUgAAACAAAAAgCAIAAAD8GO2jAAAJI0lEQVR4nIyWya9lx13Ha64z3+nde/sN93V32n72e68T8BDJtux2EDG4g1gEUIRgg1ASeYGEZLNk4f8hbFlAgJUFCmIBQUKgRErc6YRYHRMP6fYb+o13OPeee6aqU1U/dJ/FBimGoyOdI5X0/epb9dO3PswBmEYDgg/+83v/df/HVdCNBsOXnnmBMMQY4zQUEjFCGaUIAUIOMAJEMMIEEMLo/3yYQ3Axndx794f37/1gcZFOFYStVoQD6tsgiFvxZhSLKAw6ccRWFrCyWelShP8f8gjhR8fH3/6bvz2/uKBCUMeWqsHI7N8cPR5/wnnQjq8/uXNjMOztP/VktxWDtQivDDCmgNhVpiuVX27GZrO5AdYdXM+1ctqoekKhzIp0PE2L4kKyIivmv/GbrzqEtXYIIUIpAYupQxgAYQzwGeorA8pFEK5lBWpcYXRWKeNz3TSNbkitIPS9lQyCNMumaU6pSNpxLIlPESC4Wlp9PitBVWnC4ihpR23iqqyoaoKNEDEjURjI3d3bZXXprPno4cEkrbRlUav9wu3rN9dbCBzC9H826ZcnyKtSG8JYwpnHw0CyiJKSi5Bg0egqL/J0dmka/eDBw+/++33qd3c+/1wcehv9gNGrMwD8aYr/PVJ45QwIkcUys45gwNg6pXPiKo7BWKWLKbXlIjt3ugBjTk8uP/748Ox0nJby4dwdzxbGYePAIjDOOdeAc6vXWrAOWYfAAdjGWZanldOVNhelLhaLI5Wf9QYtii0lRXstwdR4PscEGQNVbYWC04vlR4dFh9TP7lARchn4guGQO49agg04wJggwMRRWAUAdnLw6ODwBCE3GV8I5jqx3Ln1DKJYPbW9s7OfQ4RVESZxEIVR0nPYz/Pi/KL5t9PTh78Y0zBo9Tb6PTns8EEiYh9JwblgnFKJqTXGOmD3H/wgUyaM/Nky3Xvq6S8++9Te/v5iOY/adGPrVol7AjUyRJTTotLGKJGnFouliQ+mmZlW6MgIYdqB7krRS1azkrSDKPITn9W1qpVmaQn9rd1W3ONi0Rr029dGshNyp7Nj3S7RuK4l1kIwX8ogDE3QAdJgjpPkGsd0/2bXFLbWi8RzKq3TFC6ni6pRTDBCkDaurBsWhNdVnaRGUt62iBiHuOc7yLKsbgy2mCrrVKUYBkYQ4iwIAyKJiLxmiWKJk9CnLHhi1NLLUltdKHs6nlbaTGaF78eX+ZyV2dgWOQJwtup3n3R66GqQzN/b38OSUYOJQarSqigbVaDIUOo7wEVVNEs1uxz3NtdcY+slwbpmpEx8j623gfBumCZrm46csaY8AUYJdtNpymAkCQVtBcYobj+aVWeLse+Wmqii1AAUI0QBU+sajZzDk2n6ufUEQC2WiphVfwBxyhHGwRfWqtzWJWPYSc6llOlsbKxpHK6cNYDSkj6eI4IktZnBxjFOuIfBUVwLpLnsAmpXTXN4XkjRZEtAliBMMTXKAiKVxxo1n+V5xRqtVF1J6Wnj0qU+PFOONw6heZHHgQyaopxclF4DsJC8MC63qMSskV6AuYc0Pp6lDFfUNZFMGJEO4wYxi4ATAOJY4DHPk/PF3DlLCS8re35ZWlpZAtLTt7rk4fv3Lo4eIR8ro1tecTw7zToxhoq5wlpuTLNcTl2zxE0j8VhQ4XfWqdciTIILANcANesP1sqq4Jxdi0IJlSpP8qXDXNDGnS0mjz/5ebbU2dFMNYvES6RrTFao8fH04kRb5nR68MG7Tb2gzkFTAjW9zd2tm08DwDwtG50h0Awhd3l5IaWQ1CfmcHJ+jv1VvXgWCbck3Du7rCbHR84te+vXt6/tOj86e3Dv9Oh9x71u5E8+eSCojiSzRqeVggZxk6fj48Vi3unEurIsyzLPE74fCMqFAIdKZOrleDxZNtKj/f7G8eHDerHgFOrD41vJRuJvnB7/or74MEdeuLG1NWx323i9H5e5evDhZSyjBEPSwpcq2xrEdS1ob9AtikIIDthhxowBwYWq9LKoEBcBZ1Ck/WFHMJlmC+bjVm/g42LY9hxJgAZeQHuDeOv6kHCaFRDEvUGX9fwSNXWvGzBOiORif3fXl3KeLrY2R0mUjC8WBMt2txf5PkN20I36be/GjUG77Vf5nEMW+CpIYONamxOXLWZgga/6DTc6TycHWk2reoFhVdhJWxJPytHmVr+3RhGKfO5JDLYi2K2uHskoRoRxZC1Gaq0Xm1rZfNwKYXgt9kWZSIVUAUotp/N0PM/m8/n0rKmLTqdDGVfabl+/we688sp3vvOPZVmqur7/ox8BAq2VsboxdSv0eSQ3tzdubN/88U/v+54QJLf17HP7Tw8Hvbr4man0VDeHByfHx0d5UWW5DcPAmqbX3To7yR14w+GI3L37le3t7fF4XBTl4eHh0eHRZDIty8IYk2VzY+ond26tb21vbI4YxbHPEh8FnBez5VriSQ5lqc7OUxkO4u6mF7VL1VgHnU6/N9jOC2gMp3/xrW/t7e75fnA5HmdZZq1jjEdxJASPAhGHfGtr84OPDqLQn6ezuqxCD/fb7cALtKniZPDEzq/sfeFXv/nGn3zt9/9wfWPz3Xs/9AVZ63ZfvHNXW7J3+zbj3Nvd3X/rrZt7e/tvvvVm09i61vN0eedLL6XjE9MsqrIgCBhjgDBhom7gbDxeGwzzc/38i79+97f/oLG21elyxofD9XY3Hp9+cmu0/muv3X3p1df9YEVniFLWbndee+21z9/+wve//z3n3Gh0/et//Mbfv/Ptn97/j7qqXvzi8z957yeASHew4ayal9V7H/xMGf7E7jNrw6ExdoVFDg37/a/+zu82qhQUB36nRQSgir799tsIIefA973RaKuqqtFo9I2vf/P11+8+evjRz99/ry7z9HLy+PTxrZ29b7zxpx9+fDBNT7WpN7dvf/Vrf0SFwCt0AXIFMJgT4UdcBPiK+RC27IosCSEIAL/88p3nnnveWhcEged5d1790nf/9Z+Urc6Xc4Xoiy9/+ZU7XwYs/uWf/yEK5Vd+6/d67ZYFIISiKzGMkMBkBUgYkSs2QkhiAHDOXRnCpxD46T/CYG39zjt/91d//ZdKV88+88Kfvfnng8Fm0yhrDUJICE4p/5S3PgMd/zsAAP//lkZJosgDXRsAAAAASUVORK5CYII=\"><figcaption style=\"text-align: center;\">truck ([9])</figcaption></figure></td>\n",
       "<td><figure style=\"padding:4px;text-align: center;\"><img width=\"64\" height=\"64\" src=\"data:image/png;base64,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\"><figcaption style=\"text-align: center;\">airplane ([0])</figcaption></figure></td>\n",
       "<td><figure style=\"padding:4px;text-align: center;\"><img width=\"64\" height=\"64\" src=\"data:image/png;base64,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\"><figcaption style=\"text-align: center;\">ship ([8])</figcaption></figure></td>\n",
       "<td><figure style=\"padding:4px;text-align: center;\"><img width=\"64\" height=\"64\" src=\"data:image/png;base64,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\"><figcaption style=\"text-align: center;\">bird ([2])</figcaption></figure></td>\n",
       "</tr></table>\n"
      ]
     },
     "metadata": {},
     "output_type": "display_data"
    },
    {
     "data": {
      "text/html": [
       "<p>Samples Cifar-100</p>\n"
      ]
     },
     "metadata": {},
     "output_type": "display_data"
    },
    {
     "data": {
      "text/html": [
       "<table><tr>\n",
       "<td><figure style=\"padding:4px;text-align: center;\"><img width=\"64\" height=\"64\" src=\"data:image/png;base64,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\"><figcaption style=\"text-align: center;\">leopard ([42])</figcaption></figure></td>\n",
       "<td><figure style=\"padding:4px;text-align: center;\"><img width=\"64\" height=\"64\" src=\"data:image/png;base64,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\"><figcaption style=\"text-align: center;\">bowl ([10])</figcaption></figure></td>\n",
       "<td><figure style=\"padding:4px;text-align: center;\"><img width=\"64\" height=\"64\" src=\"data:image/png;base64,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\"><figcaption style=\"text-align: center;\">sea ([71])</figcaption></figure></td>\n",
       "<td><figure style=\"padding:4px;text-align: center;\"><img width=\"64\" height=\"64\" src=\"data:image/png;base64,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\"><figcaption style=\"text-align: center;\">ray ([67])</figcaption></figure></td>\n",
       "<td><figure style=\"padding:4px;text-align: center;\"><img width=\"64\" height=\"64\" src=\"data:image/png;base64,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\"><figcaption style=\"text-align: center;\">sweet_pepper ([83])</figcaption></figure></td>\n",
       "<td><figure style=\"padding:4px;text-align: center;\"><img width=\"64\" height=\"64\" src=\"data:image/png;base64,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\"><figcaption style=\"text-align: center;\">chimpanzee ([21])</figcaption></figure></td>\n",
       "<td><figure style=\"padding:4px;text-align: center;\"><img width=\"64\" height=\"64\" src=\"data:image/png;base64,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\"><figcaption style=\"text-align: center;\">tractor ([89])</figcaption></figure></td>\n",
       "<td><figure style=\"padding:4px;text-align: center;\"><img width=\"64\" height=\"64\" src=\"data:image/png;base64,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\"><figcaption style=\"text-align: center;\">tiger ([88])</figcaption></figure></td>\n",
       "</tr></table>\n"
      ]
     },
     "metadata": {},
     "output_type": "display_data"
    }
   ],
   "source": [
    "import (\n",
    "    \"strings\"\n",
    "    \"github.com/gomlx/gopjrt/dtypes\"\n",
    "    \"github.com/gomlx/gomlx/backends\"\n",
    "    \"github.com/gomlx/gomlx/examples/cifar\"\n",
    "    \"github.com/gomlx/gomlx/types/shapes\"\n",
    "    \"github.com/gomlx/gomlx/types/tensors/images\"\n",
    "    \"github.com/janpfeifer/gonb/gonbui\"\n",
    "\n",
    "    _ \"github.com/gomlx/gomlx/backends/xla\"\n",
    ")\n",
    "\n",
    "var (\n",
    "    // Model DType, used everywhere.\n",
    "    DType = dtypes.Float32\n",
    ")\n",
    "\n",
    "// sampleToNotebook generates a sample of Cifar-10 and Cifar-100 in a GoNB Jupyter Notebook.\n",
    "func sampleToNotebook() {\n",
    "    // Load data into tensors.\n",
    "    backend := backends.New()\n",
    "    ds10 := cifar.NewDataset(backend, \"Samples Cifar-10\", *flagDataDir, cifar.C10, DType, cifar.Train).Shuffle()\n",
    "    ds100 := cifar.NewDataset(backend, \"Samples Cifar-100\", *flagDataDir, cifar.C100, DType, cifar.Train).Shuffle()\n",
    "    sampleImages(ds10, 8, cifar.C10Labels)\n",
    "    sampleImages(ds100, 8, cifar.C100FineLabels)\n",
    "}\n",
    "\n",
    "// sampleTable generates and outputs one html table of samples, sampling rows x cols from the images/labels provided.\n",
    "func sampleImages(ds train.Dataset, numImages int, labelNames []string) {\n",
    "    gonbui.DisplayHTML(fmt.Sprintf(\"<p>%s</p>\\n\", ds.Name()))\n",
    "    \n",
    "    parts := make([]string, 0, numImages+5) // Leave last part empty.\n",
    "    parts = append(parts, \"<table><tr>\")\n",
    "    for ii := 0; ii < numImages; ii++ {\n",
    "        _, inputs, labels := must.M3(ds.Yield())\n",
    "        imgTensor := inputs[0]\n",
    "        img := images.ToImage().Single(imgTensor)\n",
    "        label := labels[0].Value().([]int64)\n",
    "        labelStr := labelNames[label[0]]\n",
    "    \n",
    "        imgSrc := must.M1(gonbui.EmbedImageAsPNGSrc(img))\n",
    "        size := imgTensor.Shape().Dimensions[0]\n",
    "        parts = append(\n",
    "            parts, \n",
    "            fmt.Sprintf(`<td><figure style=\"padding:4px;text-align: center;\"><img width=\"%d\" height=\"%d\" src=\"%s\">` + \n",
    "                        `<figcaption style=\"text-align: center;\">%s (%d)</figcaption></figure></td>`, \n",
    "                        size*2, size*2, imgSrc, labelStr, label),\n",
    "        )\n",
    "    }\n",
    "    parts = append(parts, \"</tr></table>\", \"\")\n",
    "    gonbui.DisplayHTML(strings.Join(parts, \"\\n\"))\n",
    "}\n",
    "\n",
    "%%\n",
    "AssertDownloaded()\n",
    "sampleToNotebook()"
   ]
  },
  {
   "cell_type": "markdown",
   "id": "7fa8c06c-ede0-4cd1-80bd-9331422e3a63",
   "metadata": {},
   "source": [
    "## Training on Cifar-10\n",
    "\n",
    "### Models Support\n",
    "\n",
    "1. `flagModel` defines the model type, out of `validModels` options.\n",
    "1. `createDefaultContex` creates a context and set the default values for the CIFAR models. \n",
    "1. `contextFromSettings` uses `createDefaultContext` and incorporate changes passed by the `-set` flag.\n"
   ]
  },
  {
   "cell_type": "code",
   "execution_count": 5,
   "id": "c8d3c19e-af0c-4fef-a76c-dabb375972d0",
   "metadata": {
    "tags": []
   },
   "outputs": [
    {
     "name": "stdout",
     "output_type": "stream",
     "text": [
      "Model types: [\"fnn\" \"kan\" \"cnn\"]\n",
      "Context hyperparameters:\n",
      "\t\"activation\": (string) swish\n",
      "\t\"adam_dtype\": (string) \n",
      "\t\"adam_epsilon\": (float64) 1e-07\n",
      "\t\"batch_size\": (int) 17\n",
      "\t\"checkpoint\": (string) \n",
      "\t\"cosine_schedule_steps\": (int) 0\n",
      "\t\"dropout_rate\": (float64) 0\n",
      "\t\"eval_batch_size\": (int) 200\n",
      "\t\"fnn_dropout_rate\": (float64) -1\n",
      "\t\"fnn_normalization\": (string) \n",
      "\t\"fnn_num_hidden_layers\": (int) 12\n",
      "\t\"fnn_num_hidden_nodes\": (int) 128\n",
      "\t\"fnn_residual\": (bool) true\n",
      "\t\"kan_bspline_degree\": (int) 2\n",
      "\t\"kan_bspline_magnitude_l1\": (float64) 1e-05\n",
      "\t\"kan_bspline_magnitude_l2\": (float64) 0\n",
      "\t\"kan_discrete\": (bool) false\n",
      "\t\"kan_discrete_softness\": (float64) 0.1\n",
      "\t\"kan_num_hidden_layers\": (int) 4\n",
      "\t\"kan_num_hidden_nodes\": (int) 64\n",
      "\t\"kan_num_points\": (int) 10\n",
      "\t\"l1_regularization\": (float64) 1e-05\n",
      "\t\"l2_regularization\": (float64) 1e-05\n",
      "\t\"learning_rate\": (float64) 0.0001\n",
      "\t\"model\": (string) fnn\n",
      "\t\"normalization\": (string) none\n",
      "\t\"num_checkpoints\": (int) 3\n",
      "\t\"optimizer\": (string) adamw\n",
      "\t\"plots\": (bool) true\n",
      "\t\"train_steps\": (int) 3000\n"
     ]
    }
   ],
   "source": [
    "import (\n",
    "    \"flags\"\n",
    "    \n",
    "    \"github.com/gomlx/gomlx/ml/layers\"\n",
    "    \"github.com/gomlx/gomlx/ml/layers/fnn\"\n",
    "    \"github.com/gomlx/gomlx/ml/layers/kan\"\n",
    "    \"github.com/gomlx/gomlx/ml/layers/regularizers\"\n",
    "    \"github.com/gomlx/gomlx/ml/train/commandline\"\n",
    "    \"github.com/gomlx/gomlx/ml/train/optimizers\"\n",
    "    \"github.com/gomlx/gomlx/examples/cifar\"\n",
    "    \"github.com/gomlx/gomlx/ml/context\"\n",
    ")\n",
    "\n",
    "var (\n",
    "    // ValidModels is the list of model types supported.\n",
    "    ValidModels = []string{\"fnn\", \"kan\", \"cnn\"}\n",
    "\tflagEval      = flag.Bool(\"eval\", true, \"Whether to evaluate the model on the validation data in the end.\")\n",
    "\tflagVerbosity = flag.Int(\"verbosity\", 1, \"Level of verbosity, the higher the more verbose.\")\n",
    ")\n",
    "\n",
    "// settings is bound to a \"-set\" flag to be used to set context hyperparameters.\n",
    "var settings = commandline.CreateContextSettingsFlag(createDefaultContext(), \"set\")\n",
    "\n",
    "// createDefaultContext sets the context with default hyperparameters\n",
    "func createDefaultContext() *context.Context {\n",
    "\tctx := context.New()\n",
    "\tctx.RngStateReset()\n",
    "\tctx.SetParams(map[string]any{\n",
    "        // Model type to use: valid values are fnn, kan and cnn.\n",
    "\t\t\"model\":           cifar.C10ValidModels[0],\n",
    "\t\t\"checkpoint\":      \"\",\n",
    "\t\t\"num_checkpoints\": 3,\n",
    "\t\t\"train_steps\":     3000,\n",
    "\n",
    "\t\t// batch_size for training.\n",
    "\t\t\"batch_size\": 64,\n",
    "\n",
    "\t\t// eval_batch_size can be larger than training, it's more efficient.\n",
    "\t\t\"eval_batch_size\": 200,\n",
    "\n",
    "\t\t// \"plots\" trigger generating intermediary eval data for plotting, and if running in GoNB, to actually\n",
    "\t\t// draw the plot with Plotly.\n",
    "\t\tplotly.ParamPlots: true,\n",
    "\n",
    "\t\t// If \"normalization\" is set, it overrides \"fnn_normalization\" and \"cnn_normalization\".\n",
    "\t\tlayers.ParamNormalization: \"none\",\n",
    "\n",
    "\t\toptimizers.ParamOptimizer:           \"adamw\",\n",
    "\t\toptimizers.ParamLearningRate:        1e-4,\n",
    "\t\toptimizers.ParamAdamEpsilon:         1e-7,\n",
    "\t\toptimizers.ParamAdamDType:           \"\",\n",
    "\t\toptimizers.ParamCosineScheduleSteps: 0,\n",
    "\t\tactivations.ParamActivation:         \"swish\",\n",
    "\t\tlayers.ParamDropoutRate:             0.0,\n",
    "\t\tregularizers.ParamL2:                1e-5,\n",
    "\t\tregularizers.ParamL1:                1e-5,\n",
    "\n",
    "\t\t// FNN network parameters:\n",
    "\t\tfnn.ParamNumHiddenLayers: 8,\n",
    "\t\tfnn.ParamNumHiddenNodes:  128,\n",
    "\t\tfnn.ParamResidual:        true,\n",
    "\t\tfnn.ParamNormalization:   \"\",   // Set to none for no normalization, otherwise it falls back to layers.ParamNormalization.\n",
    "\t\tfnn.ParamDropoutRate:     -1.0, // Set to 0.0 for no dropout, otherwise it falls back to layers.ParamDropoutRate.\n",
    "\n",
    "\t\t// KAN network parameters:\n",
    "\t\tkan.ParamNumControlPoints:   10, // Number of control points\n",
    "\t\tkan.ParamNumHiddenNodes:     64,\n",
    "\t\tkan.ParamNumHiddenLayers:    4,\n",
    "\t\tkan.ParamBSplineDegree:      2,\n",
    "\t\tkan.ParamBSplineMagnitudeL1: 1e-5,\n",
    "\t\tkan.ParamBSplineMagnitudeL2: 0.0,\n",
    "\t\tkan.ParamDiscrete:           false,\n",
    "\t\tkan.ParamDiscreteSoftness:   0.1,\n",
    "\t})\n",
    "\treturn ctx\n",
    "}\n",
    "\n",
    "// ContextFromSettings is the default context (createDefaultContext) changed by -set flag.\n",
    "func ContextFromSettings() *context.Context {\n",
    "    ctx := createDefaultContext()\n",
    "    must.M(commandline.ParseContextSettings(ctx, *settings))\n",
    "    return ctx\n",
    "}\n",
    "\n",
    "// Let's test that we can set hyperparameters by setting it in the \"-set\" flag:\n",
    "%% -set=\"batch_size=17;fnn_num_hidden_layers=12\"\n",
    "fmt.Printf(\"Model types: %q\\n\", cifar.C10ValidModels)\n",
    "ctx := ContextFromSettings()\n",
    "fmt.Println(commandline.SprintContextSettings(ctx))"
   ]
  },
  {
   "cell_type": "markdown",
   "id": "f771ca6f-5912-4406-9f2a-a838fd7cd065",
   "metadata": {},
   "source": [
    "### Simple FNN model\n",
    "\n",
    "A trivial model, that can easily get to ~50% accuracy (a random model would do 10%), but hardly much more than that.\n",
    "\n",
    "Later we are going to define a CNN model to compare, and we just set a placeholder model here for now.\n",
    "\n",
    "> **Note**: \n",
    ">\n",
    "> * The code is here just to exemplify. We are actually using the same code from the [`cifar`](https://github.com/gomlx/gomlx/tree/main/examples/cifar) package."
   ]
  },
  {
   "cell_type": "code",
   "execution_count": 6,
   "id": "0ac4e4da-2c3b-431c-9e54-00e31045785f",
   "metadata": {
    "tags": []
   },
   "outputs": [
    {
     "name": "stdout",
     "output_type": "stream",
     "text": [
      "Logits shape for batch_size=7: (Float32)[7 10]\n"
     ]
    }
   ],
   "source": [
    "import (\n",
    "    \"flags\"    \n",
    "    . \"github.com/gomlx/gomlx/graph\"\n",
    "    \"github.com/gomlx/gomlx/examples/cifar\"\n",
    "    \"github.com/gomlx/gomlx/ml/context\"\n",
    "    \"github.com/gomlx/gomlx/ml/train/optimizers\"\n",
    "    \"github.com/gomlx/gomlx/types/shapes\"\n",
    ")\n",
    "\n",
    "var _ = NewGraph  // Make sure the graph package is in use.\n",
    "\n",
    "// C10PlainModelGraph implements train.ModelFn, and returns the logit Node, given the input image.\n",
    "// It's a basic FNN (Feedforward Neural Network), so no convolutions. It is meant only as an example.\n",
    "func C10PlainModelGraph(ctx *context.Context, spec any, inputs []*graph.Node) []*graph.Node {\n",
    "\tctx = ctx.In(\"model\")\n",
    "\tbatchedImages := inputs[0]\n",
    "\tbatchSize := batchedImages.Shape().Dimensions[0]\n",
    "\tlogits := graph.Reshape(batchedImages, batchSize, -1)\n",
    "\tnumClasses := len(cifar.C10Labels)\n",
    "\tmodelType := context.GetParamOr(ctx, \"model\", cifar.C10ValidModels[0])\n",
    "\tif modelType == \"kan\" {\n",
    "\t\t// Configuration of the KAN layer(s) use the context hyperparameters.\n",
    "\t\tlogits = kan.New(ctx, logits, numClasses).Done()\n",
    "\t} else {\n",
    "\t\t// Configuration of the FNN layer(s) use the context hyperparameters.\n",
    "\t\tlogits = fnn.New(ctx, logits, numClasses).Done()\n",
    "\t}\n",
    "\tlogits.AssertDims(batchSize, numClasses)\n",
    "\treturn []*graph.Node{logits}\n",
    "}\n",
    "\n",
    "%% -set=\"batch_size=7\"\n",
    "// Let's test that the logits are coming out with the right shape: we want [batch_size, 10], since there are 10 classes.\n",
    "AssertDownloaded()\n",
    "ctx := ContextFromSettings()\n",
    "g := NewGraph(backends.New(), \"placeholder\")\n",
    "batchSize := context.GetParamOr(ctx, \"batch_size\", int(100))\n",
    "logits := C10PlainModelGraph(ctx, nil, []*Node{Parameter(g, \"images\", shapes.Make(DType, batchSize, cifar.Height, cifar.Width, cifar.Depth))})\n",
    "fmt.Printf(\"Logits shape for batch_size=%d: %s\\n\", batchSize, logits[0].Shape())"
   ]
  },
  {
   "cell_type": "markdown",
   "id": "aef7d6ee-ca2b-40c7-ac3d-4242ecd8ed1b",
   "metadata": {},
   "source": [
    "### Training Loop\n",
    "\n",
    "With a model function defined, we use the training loop create for the Cifar10.\n",
    "\n",
    "The trainer is provided in the [`cifar` package](https://github.com/gomlx/gomlx/tree/main/examples/cifar). It is straight forward (and almost the same for every different project) and does the following for us:\n",
    "\n",
    "- If a checkpoing is given (--checkpoint) and it has previously saved model, it loads hyperparmeters and trained variables.\n",
    "- Create trainer: with selected model function (see [Simple FNN model](#Simple-FNN-model) and [CNN model for Cifar10](#CNN-model-for-Cifar10) sections), optimizer, loss and metrics.\n",
    "- Create a `train.Loop` and attach to it a progressbar, a periodic checkpoint saver and a plotter (`--set=\"plots=true\"`).\n",
    "- Train the selected number of train steps.\n",
    "- Report results.\n",
    "\n",
    "Below we train 50 steps with the default settings just to check things are working."
   ]
  },
  {
   "cell_type": "code",
   "execution_count": 7,
   "id": "d72336ef-d96d-4d98-a3a6-5df912be5f24",
   "metadata": {
    "tags": []
   },
   "outputs": [
    {
     "name": "stdout",
     "output_type": "stream",
     "text": [
      "Backend \"xla\":\txla:cuda - PJRT \"cuda\" plugin (/usr/local/lib/gomlx/pjrt/pjrt_c_api_cuda_plugin.so) v0.54\n",
      "Model: fnn\n",
      "Training (50 steps):  100% [\u001b[32m=\u001b[0m\u001b[32m=\u001b[0m\u001b[32m=\u001b[0m\u001b[32m=\u001b[0m\u001b[32m=\u001b[0m\u001b[32m=\u001b[0m\u001b[32m=\u001b[0m\u001b[32m=\u001b[0m\u001b[32m=\u001b[0m\u001b[32m=\u001b[0m\u001b[32m=\u001b[0m\u001b[32m=\u001b[0m\u001b[32m=\u001b[0m\u001b[32m=\u001b[0m\u001b[32m=\u001b[0m\u001b[32m=\u001b[0m\u001b[32m=\u001b[0m\u001b[32m=\u001b[0m\u001b[32m=\u001b[0m\u001b[32m=\u001b[0m\u001b[32m=\u001b[0m\u001b[32m=\u001b[0m\u001b[32m=\u001b[0m\u001b[32m=\u001b[0m\u001b[32m=\u001b[0m\u001b[32m=\u001b[0m\u001b[32m=\u001b[0m\u001b[32m=\u001b[0m\u001b[32m=\u001b[0m\u001b[32m=\u001b[0m\u001b[32m=\u001b[0m\u001b[32m=\u001b[0m\u001b[32m=\u001b[0m\u001b[32m=\u001b[0m\u001b[32m=\u001b[0m\u001b[32m=\u001b[0m\u001b[32m=\u001b[0m\u001b[32m=\u001b[0m\u001b[32m=\u001b[0m\u001b[32m=\u001b[0m] (28 steps/s)\u001b[0m [step=49] [loss+=2.264] [~loss+=2.348] [~loss=2.216] [~acc=17.84%]         \n",
      "\t[Step 50] median train step: 4638 microseconds\n",
      "\n",
      "Results on Validation:\n",
      "\tMean Loss+Regularization (#loss+): 2.246\n",
      "\tMean Loss (#loss): 2.115\n",
      "\tMean Accuracy (#acc): 16.89%\n",
      "Results on Training:\n",
      "\tMean Loss+Regularization (#loss+): 2.246\n",
      "\tMean Loss (#loss): 2.115\n",
      "\tMean Accuracy (#acc): 17.24%\n"
     ]
    }
   ],
   "source": [
    "var flagCheckpoint = flag.String(\"checkpoint\", \"\", \"Directory save and load checkpoints from. If left empty, no checkpoints are created.\")\n",
    "\n",
    "// trainModel with hyperparameters configured with `--set`.\n",
    "func trainModel() {\n",
    "    cifar.TrainCifar10Model(ContextFromSettings(), *flagDataDir, *flagCheckpoint, *flagEval, *flagVerbosity)\n",
    "}\n",
    "\n",
    "%% --set=\"train_steps=50;plots=false\"\n",
    "trainModel()"
   ]
  },
  {
   "cell_type": "markdown",
   "id": "300a8419-5679-42ba-9149-51c17c7c427d",
   "metadata": {},
   "source": [
    "### FNN Model Training\n",
    "\n",
    "Let's train the FNN for real this time."
   ]
  },
  {
   "cell_type": "code",
   "execution_count": 8,
   "id": "4de9b879-4790-4aac-ace7-3c8a348ac961",
   "metadata": {},
   "outputs": [],
   "source": [
    "// Remove a previously trained model. Skip this if you want to continue training a previous model.\n",
    "!rm -rf ~/work/cifar/base_fnn_model  "
   ]
  },
  {
   "cell_type": "code",
   "execution_count": 9,
   "id": "cf876f49-e737-4dfa-aa05-48aad3d7a128",
   "metadata": {
    "tags": []
   },
   "outputs": [
    {
     "name": "stdout",
     "output_type": "stream",
     "text": [
      "Backend \"xla\":\txla:cuda - PJRT \"cuda\" plugin (/usr/local/lib/gomlx/pjrt/pjrt_c_api_cuda_plugin.so) v0.54\n",
      "Checkpointing model to \"/home/janpf/work/cifar/base_fnn_model\"\n",
      "Model: fnn\n"
     ]
    },
    {
     "data": {
      "text/html": []
     },
     "metadata": {},
     "output_type": "display_data"
    },
    {
     "name": "stdout",
     "output_type": "stream",
     "text": [
      "Training (10000 steps):    7% [\u001b[32m=\u001b[0m\u001b[32m>\u001b[0m......................................] (152 steps/s) [6s:1m0s]\u001b[0m [step=719] [loss+=2.041] [~loss+=1.903] [~loss=1.774] [~acc=36.87%]         "
     ]
    },
    {
     "data": {
      "text/html": []
     },
     "metadata": {},
     "output_type": "display_data"
    },
    {
     "name": "stdout",
     "output_type": "stream",
     "text": [
      "Training (10000 steps):  100% [\u001b[32m=\u001b[0m\u001b[32m=\u001b[0m\u001b[32m=\u001b[0m\u001b[32m=\u001b[0m\u001b[32m=\u001b[0m\u001b[32m=\u001b[0m\u001b[32m=\u001b[0m\u001b[32m=\u001b[0m\u001b[32m=\u001b[0m\u001b[32m=\u001b[0m\u001b[32m=\u001b[0m\u001b[32m=\u001b[0m\u001b[32m=\u001b[0m\u001b[32m=\u001b[0m\u001b[32m=\u001b[0m\u001b[32m=\u001b[0m\u001b[32m=\u001b[0m\u001b[32m=\u001b[0m\u001b[32m=\u001b[0m\u001b[32m=\u001b[0m\u001b[32m=\u001b[0m\u001b[32m=\u001b[0m\u001b[32m=\u001b[0m\u001b[32m=\u001b[0m\u001b[32m=\u001b[0m\u001b[32m=\u001b[0m\u001b[32m=\u001b[0m\u001b[32m=\u001b[0m\u001b[32m=\u001b[0m\u001b[32m=\u001b[0m\u001b[32m=\u001b[0m\u001b[32m=\u001b[0m\u001b[32m=\u001b[0m\u001b[32m=\u001b[0m\u001b[32m=\u001b[0m\u001b[32m=\u001b[0m\u001b[32m=\u001b[0m\u001b[32m=\u001b[0m\u001b[32m=\u001b[0m\u001b[32m=\u001b[0m] (189 steps/s)\u001b[0m [step=9999] [loss+=1.545] [~loss+=1.419] [~loss=1.293] [~acc=53.86%]        \n"
     ]
    },
    {
     "data": {
      "text/html": [
       "<p><b>Metric: accuracy</b></p>\n"
      ]
     },
     "metadata": {},
     "output_type": "display_data"
    },
    {
     "data": {
      "text/html": [
       "<div id=\"b2c644cc\"></div>"
      ]
     },
     "metadata": {},
     "output_type": "display_data"
    },
    {
     "data": {
      "text/html": [
       "<script charset=\"UTF-8\">\n",
       "(() => {\n",
       "\tconst src=\"https://cdn.plot.ly/plotly-2.29.1.min.js\";\n",
       "\tvar runJSFn = function(module) {\n",
       "\t\t\n",
       "\tif (!module) {\n",
       "\t\tmodule = window.Plotly;\n",
       "\t}\n",
       "\tlet data = JSON.parse('{\"data\":[{\"type\":\"scatter\",\"line\":{\"shape\":\"linear\"},\"mode\":\"lines+markers\",\"name\":\"Train: Moving Average Accuracy\",\"x\":[200,440,728,1074,1489,1987,2585,3303,4165,5199,6440,7929,9716,10000],\"y\":[0.27133500576019287,0.3366508483886719,0.37284043431282043,0.4012888967990875,0.4172634482383728,0.4313826560974121,0.44716817140579224,0.46828898787498474,0.48472338914871216,0.4923439025878906,0.5056688189506531,0.5209529995918274,0.5422592163085938,0.5385597944259644]},{\"type\":\"scatter\",\"line\":{\"shape\":\"linear\"},\"mode\":\"lines+markers\",\"name\":\"Eval on Training: Mean Accuracy\",\"x\":[200,440,728,1074,1489,1987,2585,3303,4165,5199,6440,7929,9716,10000],\"y\":[0.3056199848651886,0.35547998547554016,0.37643998861312866,0.4095599949359894,0.41725999116897583,0.42965999245643616,0.4596000015735626,0.47085997462272644,0.4934599995613098,0.48857998847961426,0.5185399651527405,0.520799994468689,0.5387600064277649,0.5507400035858154]},{\"type\":\"scatter\",\"line\":{\"shape\":\"linear\"},\"mode\":\"lines+markers\",\"name\":\"Eval on Validation: Mean Accuracy\",\"x\":[200,440,728,1074,1489,1987,2585,3303,4165,5199,6440,7929,9716,10000],\"y\":[0.30480000376701355,0.3539000153541565,0.3710000216960907,0.40880000591278076,0.4183000326156616,0.4288000166416168,0.45340001583099365,0.46650001406669617,0.4856000244617462,0.4797000288963318,0.497700035572052,0.4961000382900238,0.5093000531196594,0.5121000409126282]}],\"layout\":{\"legend\":{},\"title\":{\"text\":\"accuracy\"},\"xaxis\":{\"showgrid\":true,\"type\":\"log\"},\"yaxis\":{\"showgrid\":true,\"type\":\"log\"}}}');\n",
       "\tmodule.newPlot('b2c644cc', data);\n",
       "\n",
       "\t}\n",
       "\t\n",
       "    if (typeof requirejs === \"function\") {\n",
       "        // Use RequireJS to load module.\n",
       "\t\tlet srcWithoutExtension = src.substring(0, src.lastIndexOf(\".js\"));\n",
       "        requirejs.config({\n",
       "            paths: {\n",
       "                'plotly': srcWithoutExtension\n",
       "            }\n",
       "        });\n",
       "        require(['plotly'], function(plotly) {\n",
       "            runJSFn(plotly)\n",
       "        });\n",
       "        return\n",
       "    }\n",
       "\n",
       "\tvar currentScripts = document.head.getElementsByTagName(\"script\");\n",
       "\tfor (const idx in currentScripts) {\n",
       "\t\tlet script = currentScripts[idx];\n",
       "\t\tif (script.src == src) {\n",
       "\t\t\trunJSFn(null);\n",
       "\t\t\treturn;\n",
       "\t\t}\n",
       "\t}\n",
       "\n",
       "\tvar script = document.createElement(\"script\");\n",
       "\n",
       "\tscript.charset = \"utf-8\";\n",
       "\t\n",
       "\tscript.src = src;\n",
       "\tscript.onload = script.onreadystatechange = function () { runJSFn(null); };\n",
       "\tdocument.head.appendChild(script);\t\n",
       "})();\n",
       "</script>"
      ]
     },
     "metadata": {},
     "output_type": "display_data"
    },
    {
     "data": {
      "text/html": [
       "<p><b>Metric: loss</b></p>\n"
      ]
     },
     "metadata": {},
     "output_type": "display_data"
    },
    {
     "data": {
      "text/html": [
       "<div id=\"10c832c3\"></div>"
      ]
     },
     "metadata": {},
     "output_type": "display_data"
    },
    {
     "data": {
      "text/html": [
       "<script charset=\"UTF-8\">\n",
       "(() => {\n",
       "\tconst src=\"https://cdn.plot.ly/plotly-2.29.1.min.js\";\n",
       "\tvar runJSFn = function(module) {\n",
       "\t\t\n",
       "\tif (!module) {\n",
       "\t\tmodule = window.Plotly;\n",
       "\t}\n",
       "\tlet data = JSON.parse('{\"data\":[{\"type\":\"scatter\",\"line\":{\"shape\":\"linear\"},\"mode\":\"lines+markers\",\"name\":\"Train: Batch Loss+Regularization\",\"x\":[200,440,728,1074,1489,1987,2585,3303,4165,5199,6440,7929,9716,10000],\"y\":[2.0242464542388916,1.776081919670105,1.821299433708191,1.773114562034607,1.9923293590545654,1.7386549711227417,1.5763095617294312,1.5687803030014038,1.3491430282592773,1.8438310623168945,1.6049997806549072,1.3697987794876099,1.5336415767669678,1.5450773239135742]},{\"type\":\"scatter\",\"line\":{\"shape\":\"linear\"},\"mode\":\"lines+markers\",\"name\":\"Train: Moving Average Loss+Regularization\",\"x\":[200,440,728,1074,1489,1987,2585,3303,4165,5199,6440,7929,9716,10000],\"y\":[2.150233745574951,1.999268889427185,1.891397476196289,1.8258687257766724,1.7713853120803833,1.7247847318649292,1.6732643842697144,1.6301295757293701,1.5788050889968872,1.5566978454589844,1.5085490942001343,1.4664932489395142,1.4212653636932373,1.4192701578140259]},{\"type\":\"scatter\",\"line\":{\"shape\":\"linear\"},\"mode\":\"lines+markers\",\"name\":\"Train: Moving Average Loss\",\"x\":[200,440,728,1074,1489,1987,2585,3303,4165,5199,6440,7929,9716,10000],\"y\":[2.0195157527923584,1.86929452419281,1.7620127201080322,1.6968886852264404,1.6427323818206787,1.596449613571167,1.5452812910079956,1.502498984336853,1.4515036344528198,1.4297746419906616,1.3819530010223389,1.340192198753357,1.2951126098632812,1.2931290864944458]},{\"type\":\"scatter\",\"line\":{\"shape\":\"linear\"},\"mode\":\"lines+markers\",\"name\":\"Eval on Training: Mean Loss+Regularization\",\"x\":[200,440,728,1074,1489,1987,2585,3303,4165,5199,6440,7929,9716,10000],\"y\":[2.064403533935547,1.9475826025009155,1.8701374530792236,1.7976943254470825,1.7752327919006348,1.7228219509124756,1.6576130390167236,1.6189844608306885,1.5611716508865356,1.561898112297058,1.482362151145935,1.4588782787322998,1.4182860851287842,1.3882824182510376]},{\"type\":\"scatter\",\"line\":{\"shape\":\"linear\"},\"mode\":\"lines+markers\",\"name\":\"Eval on Training: Mean Loss\",\"x\":[200,440,728,1074,1489,1987,2585,3303,4165,5199,6440,7929,9716,10000],\"y\":[1.9339922666549683,1.8178746700286865,1.740900993347168,1.6687939167022705,1.6466399431228638,1.5945699214935303,1.5296740531921387,1.4913982152938843,1.433889627456665,1.4349982738494873,1.3557820320129395,1.332580804824829,1.2921231985092163,1.2621588706970215]},{\"type\":\"scatter\",\"line\":{\"shape\":\"linear\"},\"mode\":\"lines+markers\",\"name\":\"Eval on Validation: Mean Loss+Regularization\",\"x\":[200,440,728,1074,1489,1987,2585,3303,4165,5199,6440,7929,9716,10000],\"y\":[2.0647084712982178,1.9485653638839722,1.8712700605392456,1.7957655191421509,1.776546597480774,1.7304034233093262,1.6690024137496948,1.6402266025543213,1.5937888622283936,1.6050260066986084,1.5442662239074707,1.5313771963119507,1.5102100372314453,1.4864528179168701]},{\"type\":\"scatter\",\"line\":{\"shape\":\"linear\"},\"mode\":\"lines+markers\",\"name\":\"Eval on Validation: Mean Loss\",\"x\":[200,440,728,1074,1489,1987,2585,3303,4165,5199,6440,7929,9716,10000],\"y\":[1.9342975616455078,1.8188573122024536,1.7420332431793213,1.6668660640716553,1.647953748703003,1.6021513938903809,1.541062593460083,1.512641429901123,1.4665054082870483,1.4781244993209839,1.417685866355896,1.4050800800323486,1.3840473890304565,1.360329508781433]}],\"layout\":{\"legend\":{},\"title\":{\"text\":\"loss\"},\"xaxis\":{\"showgrid\":true,\"type\":\"log\"},\"yaxis\":{\"showgrid\":true,\"type\":\"log\"}}}');\n",
       "\tmodule.newPlot('10c832c3', data);\n",
       "\n",
       "\t}\n",
       "\t\n",
       "    if (typeof requirejs === \"function\") {\n",
       "        // Use RequireJS to load module.\n",
       "\t\tlet srcWithoutExtension = src.substring(0, src.lastIndexOf(\".js\"));\n",
       "        requirejs.config({\n",
       "            paths: {\n",
       "                'plotly': srcWithoutExtension\n",
       "            }\n",
       "        });\n",
       "        require(['plotly'], function(plotly) {\n",
       "            runJSFn(plotly)\n",
       "        });\n",
       "        return\n",
       "    }\n",
       "\n",
       "\tvar currentScripts = document.head.getElementsByTagName(\"script\");\n",
       "\tfor (const idx in currentScripts) {\n",
       "\t\tlet script = currentScripts[idx];\n",
       "\t\tif (script.src == src) {\n",
       "\t\t\trunJSFn(null);\n",
       "\t\t\treturn;\n",
       "\t\t}\n",
       "\t}\n",
       "\n",
       "\tvar script = document.createElement(\"script\");\n",
       "\n",
       "\tscript.charset = \"utf-8\";\n",
       "\t\n",
       "\tscript.src = src;\n",
       "\tscript.onload = script.onreadystatechange = function () { runJSFn(null); };\n",
       "\tdocument.head.appendChild(script);\t\n",
       "})();\n",
       "</script>"
      ]
     },
     "metadata": {},
     "output_type": "display_data"
    },
    {
     "name": "stdout",
     "output_type": "stream",
     "text": [
      "\t[Step 10000] median train step: 4085 microseconds\n",
      "\n",
      "Results on Validation:\n",
      "\tMean Loss+Regularization (#loss+): 1.486\n",
      "\tMean Loss (#loss): 1.360\n",
      "\tMean Accuracy (#acc): 51.21%\n",
      "Results on Training:\n",
      "\tMean Loss+Regularization (#loss+): 1.388\n",
      "\tMean Loss (#loss): 1.262\n",
      "\tMean Accuracy (#acc): 55.07%\n"
     ]
    }
   ],
   "source": [
    "%% --checkpoint=base_fnn_model --set=\"model=fnn;train_steps=10000;plots=true\"\n",
    "trainModel()"
   ]
  },
  {
   "cell_type": "markdown",
   "id": "97b25f95-c474-4e04-8f7c-f1fb61efce96",
   "metadata": {},
   "source": [
    "### Kolmogorov-Arnold Networks (KAN) Model\n",
    "\n",
    "A more recent alternative to FNN models. See description in https://arxiv.org/pdf/2404.19756\n",
    "\n",
    "While it matches FNNs on the training data, it's overfitting a lot. But it saw very little hyperparameter tunning (in particular regularizations), so it is\n",
    "possible it would match FNNs."
   ]
  },
  {
   "cell_type": "code",
   "execution_count": 10,
   "id": "4c1c1c1f-24a8-4354-8109-0a10aaf48341",
   "metadata": {},
   "outputs": [],
   "source": [
    "// Remove a previously trained model. Skip this if you want to continue training a previous model.\n",
    "!rm -rf ~/work/cifar/base_kan_model  "
   ]
  },
  {
   "cell_type": "code",
   "execution_count": 11,
   "id": "f2f9be60-a420-4dd5-93e6-f7104d112f25",
   "metadata": {},
   "outputs": [
    {
     "name": "stdout",
     "output_type": "stream",
     "text": [
      "Backend \"xla\":\txla:cuda - PJRT \"cuda\" plugin (/usr/local/lib/gomlx/pjrt/pjrt_c_api_cuda_plugin.so) v0.54\n",
      "Checkpointing model to \"/home/janpf/work/cifar/base_kan_model\"\n",
      "Model: kan\n"
     ]
    },
    {
     "data": {
      "text/html": []
     },
     "metadata": {},
     "output_type": "display_data"
    },
    {
     "name": "stdout",
     "output_type": "stream",
     "text": [
      "Training (10000 steps):    7% [\u001b[32m=\u001b[0m\u001b[32m>\u001b[0m......................................] (41 steps/s) [22s:3m46s]\u001b[0m [step=719] [loss+=4.002] [~loss+=4.152] [~loss=1.834] [~acc=34.48%]        "
     ]
    },
    {
     "data": {
      "text/html": []
     },
     "metadata": {},
     "output_type": "display_data"
    },
    {
     "name": "stdout",
     "output_type": "stream",
     "text": [
      "Training (10000 steps):  100% [\u001b[32m=\u001b[0m\u001b[32m=\u001b[0m\u001b[32m=\u001b[0m\u001b[32m=\u001b[0m\u001b[32m=\u001b[0m\u001b[32m=\u001b[0m\u001b[32m=\u001b[0m\u001b[32m=\u001b[0m\u001b[32m=\u001b[0m\u001b[32m=\u001b[0m\u001b[32m=\u001b[0m\u001b[32m=\u001b[0m\u001b[32m=\u001b[0m\u001b[32m=\u001b[0m\u001b[32m=\u001b[0m\u001b[32m=\u001b[0m\u001b[32m=\u001b[0m\u001b[32m=\u001b[0m\u001b[32m=\u001b[0m\u001b[32m=\u001b[0m\u001b[32m=\u001b[0m\u001b[32m=\u001b[0m\u001b[32m=\u001b[0m\u001b[32m=\u001b[0m\u001b[32m=\u001b[0m\u001b[32m=\u001b[0m\u001b[32m=\u001b[0m\u001b[32m=\u001b[0m\u001b[32m=\u001b[0m\u001b[32m=\u001b[0m\u001b[32m=\u001b[0m\u001b[32m=\u001b[0m\u001b[32m=\u001b[0m\u001b[32m=\u001b[0m\u001b[32m=\u001b[0m\u001b[32m=\u001b[0m\u001b[32m=\u001b[0m\u001b[32m=\u001b[0m\u001b[32m=\u001b[0m\u001b[32m=\u001b[0m] (41 steps/s)\u001b[0m [step=9999] [loss+=2.631] [~loss+=2.783] [~loss=0.546] [~acc=80.58%]          \n"
     ]
    },
    {
     "data": {
      "text/html": [
       "<p><b>Metric: accuracy</b></p>\n"
      ]
     },
     "metadata": {},
     "output_type": "display_data"
    },
    {
     "data": {
      "text/html": [
       "<div id=\"731c11a6\"></div>"
      ]
     },
     "metadata": {},
     "output_type": "display_data"
    },
    {
     "data": {
      "text/html": [
       "<script charset=\"UTF-8\">\n",
       "(() => {\n",
       "\tconst src=\"https://cdn.plot.ly/plotly-2.29.1.min.js\";\n",
       "\tvar runJSFn = function(module) {\n",
       "\t\t\n",
       "\tif (!module) {\n",
       "\t\tmodule = window.Plotly;\n",
       "\t}\n",
       "\tlet data = JSON.parse('{\"data\":[{\"type\":\"scatter\",\"line\":{\"shape\":\"linear\"},\"mode\":\"lines+markers\",\"name\":\"Train: Moving Average Accuracy\",\"x\":[200,440,728,1074,1489,1987,2585,3303,4165,5199,6440,7929,9716,10000],\"y\":[0.24543994665145874,0.30932149291038513,0.34567898511886597,0.4029262661933899,0.41539427638053894,0.45339250564575195,0.5030155777931213,0.536223292350769,0.5778079628944397,0.605562686920166,0.7083957195281982,0.758125364780426,0.8141975402832031,0.8057889938354492]},{\"type\":\"scatter\",\"line\":{\"shape\":\"linear\"},\"mode\":\"lines+markers\",\"name\":\"Eval on Training: Mean Accuracy\",\"x\":[200,440,728,1074,1489,1987,2585,3303,4165,5199,6440,7929,9716,10000],\"y\":[0.2988399863243103,0.33181998133659363,0.381740003824234,0.4193999767303467,0.4524199962615967,0.4894999861717224,0.5246999859809875,0.5704999566078186,0.6157199740409851,0.6547600030899048,0.7031199932098389,0.7929799556732178,0.8279799818992615,0.8213199973106384]},{\"type\":\"scatter\",\"line\":{\"shape\":\"linear\"},\"mode\":\"lines+markers\",\"name\":\"Eval on Validation: Mean Accuracy\",\"x\":[200,440,728,1074,1489,1987,2585,3303,4165,5199,6440,7929,9716,10000],\"y\":[0.29500001668930054,0.31790000200271606,0.36880001425743103,0.3945000171661377,0.4077000319957733,0.4303000271320343,0.4375000298023224,0.45600003004074097,0.45990002155303955,0.46070003509521484,0.4531000256538391,0.4678000211715698,0.45260003209114075,0.4504000246524811]}],\"layout\":{\"legend\":{},\"title\":{\"text\":\"accuracy\"},\"xaxis\":{\"showgrid\":true,\"type\":\"log\"},\"yaxis\":{\"showgrid\":true,\"type\":\"log\"}}}');\n",
       "\tmodule.newPlot('731c11a6', data);\n",
       "\n",
       "\t}\n",
       "\t\n",
       "    if (typeof requirejs === \"function\") {\n",
       "        // Use RequireJS to load module.\n",
       "\t\tlet srcWithoutExtension = src.substring(0, src.lastIndexOf(\".js\"));\n",
       "        requirejs.config({\n",
       "            paths: {\n",
       "                'plotly': srcWithoutExtension\n",
       "            }\n",
       "        });\n",
       "        require(['plotly'], function(plotly) {\n",
       "            runJSFn(plotly)\n",
       "        });\n",
       "        return\n",
       "    }\n",
       "\n",
       "\tvar currentScripts = document.head.getElementsByTagName(\"script\");\n",
       "\tfor (const idx in currentScripts) {\n",
       "\t\tlet script = currentScripts[idx];\n",
       "\t\tif (script.src == src) {\n",
       "\t\t\trunJSFn(null);\n",
       "\t\t\treturn;\n",
       "\t\t}\n",
       "\t}\n",
       "\n",
       "\tvar script = document.createElement(\"script\");\n",
       "\n",
       "\tscript.charset = \"utf-8\";\n",
       "\t\n",
       "\tscript.src = src;\n",
       "\tscript.onload = script.onreadystatechange = function () { runJSFn(null); };\n",
       "\tdocument.head.appendChild(script);\t\n",
       "})();\n",
       "</script>"
      ]
     },
     "metadata": {},
     "output_type": "display_data"
    },
    {
     "data": {
      "text/html": [
       "<p><b>Metric: loss</b></p>\n"
      ]
     },
     "metadata": {},
     "output_type": "display_data"
    },
    {
     "data": {
      "text/html": [
       "<div id=\"38f8b75b\"></div>"
      ]
     },
     "metadata": {},
     "output_type": "display_data"
    },
    {
     "data": {
      "text/html": [
       "<script charset=\"UTF-8\">\n",
       "(() => {\n",
       "\tconst src=\"https://cdn.plot.ly/plotly-2.29.1.min.js\";\n",
       "\tvar runJSFn = function(module) {\n",
       "\t\t\n",
       "\tif (!module) {\n",
       "\t\tmodule = window.Plotly;\n",
       "\t}\n",
       "\tlet data = JSON.parse('{\"data\":[{\"type\":\"scatter\",\"line\":{\"shape\":\"linear\"},\"mode\":\"lines+markers\",\"name\":\"Train: Batch Loss+Regularization\",\"x\":[200,440,728,1074,1489,1987,2585,3303,4165,5199,6440,7929,9716,10000],\"y\":[4.263376235961914,4.260740756988525,4.160032272338867,3.7614643573760986,4.077299118041992,3.803341865539551,3.8118896484375,3.7306199073791504,3.5099353790283203,3.4978713989257812,3.1306052207946777,2.723414421081543,2.85490083694458,2.6306562423706055]},{\"type\":\"scatter\",\"line\":{\"shape\":\"linear\"},\"mode\":\"lines+markers\",\"name\":\"Train: Moving Average Loss+Regularization\",\"x\":[200,440,728,1074,1489,1987,2585,3303,4165,5199,6440,7929,9716,10000],\"y\":[4.5415215492248535,4.270939826965332,4.145534038543701,3.9902472496032715,3.939410924911499,3.831869602203369,3.6824660301208496,3.5785610675811768,3.450153112411499,3.373629570007324,3.0810434818267822,2.9184741973876953,2.756918430328369,2.78344464302063]},{\"type\":\"scatter\",\"line\":{\"shape\":\"linear\"},\"mode\":\"lines+markers\",\"name\":\"Train: Moving Average Loss\",\"x\":[200,440,728,1074,1489,1987,2585,3303,4165,5199,6440,7929,9716,10000],\"y\":[2.220323324203491,1.9511525630950928,1.8277937173843384,1.6752253770828247,1.628100872039795,1.5252846479415894,1.3818875551223755,1.2855157852172852,1.1660655736923218,1.0997614860534668,0.8182231187820435,0.6671202182769775,0.5175319314002991,0.5458000302314758]},{\"type\":\"scatter\",\"line\":{\"shape\":\"linear\"},\"mode\":\"lines+markers\",\"name\":\"Eval on Training: Mean Loss+Regularization\",\"x\":[200,440,728,1074,1489,1987,2585,3303,4165,5199,6440,7929,9716,10000],\"y\":[4.311853408813477,4.179163455963135,4.0464253425598145,3.9350666999816895,3.8259849548339844,3.743391513824463,3.6256306171417236,3.4776480197906494,3.357943296432495,3.2336432933807373,3.097762107849121,2.822091579437256,2.7277262210845947,2.7464497089385986]},{\"type\":\"scatter\",\"line\":{\"shape\":\"linear\"},\"mode\":\"lines+markers\",\"name\":\"Eval on Training: Mean Loss\",\"x\":[200,440,728,1074,1489,1987,2585,3303,4165,5199,6440,7929,9716,10000],\"y\":[1.9911284446716309,1.8600168228149414,1.729454517364502,1.6208598613739014,1.5156246423721313,1.437788724899292,1.326047658920288,1.1856162548065186,1.07485032081604,0.9606836438179016,0.8357346653938293,0.5714690685272217,0.4889726936817169,0.5094156265258789]},{\"type\":\"scatter\",\"line\":{\"shape\":\"linear\"},\"mode\":\"lines+markers\",\"name\":\"Eval on Validation: Mean Loss+Regularization\",\"x\":[200,440,728,1074,1489,1987,2585,3303,4165,5199,6440,7929,9716,10000],\"y\":[4.345460414886475,4.2256646156311035,4.104582786560059,4.0284037590026855,3.961808681488037,3.922031879425049,3.9231536388397217,3.905790090560913,3.9043052196502686,3.916581153869629,4.177613735198975,4.299835205078125,4.615528583526611,4.601576328277588]},{\"type\":\"scatter\",\"line\":{\"shape\":\"linear\"},\"mode\":\"lines+markers\",\"name\":\"Eval on Validation: Mean Loss\",\"x\":[200,440,728,1074,1489,1987,2585,3303,4165,5199,6440,7929,9716,10000],\"y\":[2.024735689163208,1.9065191745758057,1.7876112461090088,1.7141984701156616,1.6514506340026855,1.6164308786392212,1.6235719919204712,1.6137580871582031,1.6212137937545776,1.643619418144226,1.9155865907669067,2.0492119789123535,2.3767759799957275,2.3645427227020264]}],\"layout\":{\"legend\":{},\"title\":{\"text\":\"loss\"},\"xaxis\":{\"showgrid\":true,\"type\":\"log\"},\"yaxis\":{\"showgrid\":true,\"type\":\"log\"}}}');\n",
       "\tmodule.newPlot('38f8b75b', data);\n",
       "\n",
       "\t}\n",
       "\t\n",
       "    if (typeof requirejs === \"function\") {\n",
       "        // Use RequireJS to load module.\n",
       "\t\tlet srcWithoutExtension = src.substring(0, src.lastIndexOf(\".js\"));\n",
       "        requirejs.config({\n",
       "            paths: {\n",
       "                'plotly': srcWithoutExtension\n",
       "            }\n",
       "        });\n",
       "        require(['plotly'], function(plotly) {\n",
       "            runJSFn(plotly)\n",
       "        });\n",
       "        return\n",
       "    }\n",
       "\n",
       "\tvar currentScripts = document.head.getElementsByTagName(\"script\");\n",
       "\tfor (const idx in currentScripts) {\n",
       "\t\tlet script = currentScripts[idx];\n",
       "\t\tif (script.src == src) {\n",
       "\t\t\trunJSFn(null);\n",
       "\t\t\treturn;\n",
       "\t\t}\n",
       "\t}\n",
       "\n",
       "\tvar script = document.createElement(\"script\");\n",
       "\n",
       "\tscript.charset = \"utf-8\";\n",
       "\t\n",
       "\tscript.src = src;\n",
       "\tscript.onload = script.onreadystatechange = function () { runJSFn(null); };\n",
       "\tdocument.head.appendChild(script);\t\n",
       "})();\n",
       "</script>"
      ]
     },
     "metadata": {},
     "output_type": "display_data"
    },
    {
     "name": "stdout",
     "output_type": "stream",
     "text": [
      "\t[Step 10000] median train step: 24353 microseconds\n",
      "\n",
      "Results on Validation:\n",
      "\tMean Loss+Regularization (#loss+): 4.602\n",
      "\tMean Loss (#loss): 2.365\n",
      "\tMean Accuracy (#acc): 45.04%\n",
      "Results on Training:\n",
      "\tMean Loss+Regularization (#loss+): 2.746\n",
      "\tMean Loss (#loss): 0.509\n",
      "\tMean Accuracy (#acc): 82.13%\n"
     ]
    }
   ],
   "source": [
    "%% --checkpoint=base_kan_model --set=\"model=kan;train_steps=10000;plots=true\"\n",
    "trainModel()"
   ]
  },
  {
   "cell_type": "markdown",
   "id": "942fdb36-4fbe-4ccf-9958-c8b67b036ada",
   "metadata": {},
   "source": [
    "### CNN model for Cifar-10\n",
    "\n",
    "Let's now properly define a CNN model to compare.\n",
    "\n",
    "The model was built following a [Keras model in Kaggle (thanks @ektasharm)](https://www.kaggle.com/code/ektasharma/simple-cifar10-cnn-keras-code-with-88-accuracy),\n",
    "which provided hardcoded values for all layers of the model -- so it doesn't make use of the hyperparamters set in the context. It achieves \\~86% on the validation set, after 80,000 steps of batch size 64 (\\~100 epochs).\n",
    "\n",
    "Notice that since it uses batch normalization, the training process will, at the end, update the moving averages of mean and variance: this improves the running estimate the model keeps during training. This [interesting blog post](https://www.mindee.com/blog/batch-normalization) explains about it. "
   ]
  },
  {
   "cell_type": "code",
   "execution_count": 12,
   "id": "e27dc442-c3aa-4ec5-98e9-e5321b474785",
   "metadata": {
    "tags": []
   },
   "outputs": [
    {
     "name": "stdout",
     "output_type": "stream",
     "text": [
      "Logits shape for batch_size=11: (Float32)[11 10]\n"
     ]
    }
   ],
   "source": [
    "// ConvolutionModelGraph implements train.ModelFn and returns the logit Node, given the input image.\n",
    "// It's a straight forward CNN (Convolution Neural Network) model.\n",
    "//\n",
    "// This is modeled after the Keras example in Kaggle:\n",
    "// https://www.kaggle.com/code/ektasharma/simple-cifar10-cnn-keras-code-with-88-accuracy\n",
    "// (Thanks @ektasharma)\n",
    "func ConvolutionModelGraph(ctx *context.Context, spec any, inputs []*Node) []*Node {\n",
    "\tctx = ctx.In(\"model\")\n",
    "\tbatchedImages := inputs[0]\n",
    "\tg := batchedImages.Graph()\n",
    "\tdtype := batchedImages.DType()\n",
    "\tbatchSize := batchedImages.Shape().Dimensions[0]\n",
    "\tlogits := batchedImages\n",
    "\n",
    "\tlayerIdx := 0\n",
    "\tnextCtx := func(name string) *context.Context {\n",
    "\t\tnewCtx := ctx.Inf(\"%03d_%s\", layerIdx, name)\n",
    "\t\tlayerIdx++\n",
    "\t\treturn newCtx\n",
    "\t}\n",
    "\n",
    "\tlogits = layers.Convolution(nextCtx(\"conv\"), logits).Filters(32).KernelSize(3).PadSame().Done()\n",
    "\tlogits.AssertDims(batchSize, 32, 32, 32)\n",
    "\tlogits = activations.Relu(logits)\n",
    "\tlogits = batchnorm.New(nextCtx(\"batchnorm\"), logits, -1).Done()\n",
    "\tlogits = layers.Convolution(nextCtx(\"conv\"), logits).Filters(32).KernelSize(3).PadSame().Done()\n",
    "\tlogits = activations.Relu(logits)\n",
    "\tlogits = batchnorm.New(nextCtx(\"batchnorm\"), logits, -1).Done()\n",
    "\tlogits = MaxPool(logits).Window(2).Done()\n",
    "\tlogits = layers.DropoutNormalize(nextCtx(\"dropout\"), logits, Scalar(g, dtype, 0.3), true)\n",
    "\tlogits.AssertDims(batchSize, 16, 16, 32)\n",
    "\n",
    "\tlogits = layers.Convolution(nextCtx(\"conv\"), logits).Filters(64).KernelSize(3).PadSame().Done()\n",
    "\tlogits.AssertDims(batchSize, 16, 16, 64)\n",
    "\tlogits = activations.Relu(logits)\n",
    "\tlogits = batchnorm.New(nextCtx(\"batchnorm\"), logits, -1).Done()\n",
    "\tlogits = layers.Convolution(nextCtx(\"conv\"), logits).Filters(64).KernelSize(3).PadSame().Done()\n",
    "\tlogits.AssertDims(batchSize, 16, 16, 64)\n",
    "\tlogits = activations.Relu(logits)\n",
    "\tlogits = batchnorm.New(nextCtx(\"batchnorm\"), logits, -1).Done()\n",
    "\tlogits = MaxPool(logits).Window(2).Done()\n",
    "\tlogits = layers.DropoutNormalize(nextCtx(\"dropout\"), logits, Scalar(g, dtype, 0.5), true)\n",
    "\tlogits.AssertDims(batchSize, 8, 8, 64)\n",
    "\n",
    "\tlogits = layers.Convolution(nextCtx(\"conv\"), logits).Filters(128).KernelSize(3).PadSame().Done()\n",
    "\tlogits.AssertDims(batchSize, 8, 8, 128)\n",
    "\tlogits = activations.Relu(logits)\n",
    "\tlogits = batchnorm.New(nextCtx(\"batchnorm\"), logits, -1).Done()\n",
    "\tlogits = layers.Convolution(nextCtx(\"conv\"), logits).Filters(128).KernelSize(3).PadSame().Done()\n",
    "\tlogits.AssertDims(batchSize, 8, 8, 128)\n",
    "\tlogits = activations.Relu(logits)\n",
    "\tlogits = batchnorm.New(nextCtx(\"batchnorm\"), logits, -1).Done()\n",
    "\tlogits = MaxPool(logits).Window(2).Done()\n",
    "\tlogits = layers.DropoutNormalize(nextCtx(\"dropout\"), logits, Scalar(g, dtype, 0.5), true)\n",
    "\tlogits.AssertDims(batchSize, 4, 4, 128)\n",
    "\n",
    "\t// Flatten logits, and we can use the usual FNN/KAN.\n",
    "\tlogits = Reshape(logits, batchSize, -1)\n",
    "\tlogits = layers.Dense(nextCtx(\"dense\"), logits, true, 128)\n",
    "\tlogits = activations.Relu(logits)\n",
    "\tlogits = batchnorm.New(nextCtx(\"batchnorm\"), logits, -1).Done()\n",
    "\tlogits = layers.DropoutNormalize(nextCtx(\"dropout\"), logits, Scalar(g, dtype, 0.5), true)\n",
    "\tnumClasses := len(cifar.C10Labels)\n",
    "\tlogits = layers.Dense(nextCtx(\"dense\"), logits, true, numClasses)\n",
    "\treturn []*Node{logits}\n",
    "}\n",
    "\n",
    "%% -set=\"batch_size=11\"\n",
    "// Let's test that the logits are coming out with the right shape: we want [batch_size, 10], since there are 10 classes.\n",
    "AssertDownloaded()\n",
    "ctx := ContextFromSettings()\n",
    "g := NewGraph(backends.New(), \"placeholder\")\n",
    "batchSize := context.GetParamOr(ctx, \"batch_size\", int(100))\n",
    "logits := ConvolutionModelGraph(ctx, nil, []*Node{Parameter(g, \"images\", shapes.Make(DType, batchSize, cifar.Height, cifar.Width, cifar.Depth))})\n",
    "fmt.Printf(\"Logits shape for batch_size=%d: %s\\n\", batchSize, logits[0].Shape())\n"
   ]
  },
  {
   "cell_type": "markdown",
   "id": "6e3b2b04-8ca7-49d6-921d-3527c9169da9",
   "metadata": {},
   "source": [
    "### Training the CNN model\n",
    "\n",
    "CNNs have a much better inductive bias for machine learning on images, and it can easily achieve > 80% accuracy in training data, but only > 65% on test data, due to overfitting.\n",
    "\n",
    "Likely it would benefit from pre-training the model on a larger unlabeled datasets -- see the \"Dogs vs Cats\" example to see transfer learning in action for an image model."
   ]
  },
  {
   "cell_type": "code",
   "execution_count": 13,
   "id": "6af158e6-b9f9-423a-8ef9-3b54366d35ef",
   "metadata": {},
   "outputs": [],
   "source": [
    "!rm -rf ~/work/cifar/base_cnn_model"
   ]
  },
  {
   "cell_type": "code",
   "execution_count": 14,
   "id": "b2739281-6e70-4bd4-90e5-ed493678b8ce",
   "metadata": {
    "tags": []
   },
   "outputs": [
    {
     "name": "stdout",
     "output_type": "stream",
     "text": [
      "Backend \"xla\":\txla:cuda - PJRT \"cuda\" plugin (/usr/local/lib/gomlx/pjrt/pjrt_c_api_cuda_plugin.so) v0.54\n",
      "Checkpointing model to \"/home/janpf/work/cifar/base_cnn_model\"\n",
      "Model: cnn\n"
     ]
    },
    {
     "data": {
      "text/html": []
     },
     "metadata": {},
     "output_type": "display_data"
    },
    {
     "name": "stdout",
     "output_type": "stream",
     "text": [
      "Training (80000 steps):    0% [........................................] (60 steps/s) [19s:22m7s] [step=719] [loss+=0.937] [~loss+=1.205] [~loss=1.205] [~acc=57.31%]          "
     ]
    },
    {
     "data": {
      "text/html": []
     },
     "metadata": {},
     "output_type": "display_data"
    },
    {
     "name": "stdout",
     "output_type": "stream",
     "text": [
      "Training (80000 steps):  100% [\u001b[32m=\u001b[0m\u001b[32m=\u001b[0m\u001b[32m=\u001b[0m\u001b[32m=\u001b[0m\u001b[32m=\u001b[0m\u001b[32m=\u001b[0m\u001b[32m=\u001b[0m\u001b[32m=\u001b[0m\u001b[32m=\u001b[0m\u001b[32m=\u001b[0m\u001b[32m=\u001b[0m\u001b[32m=\u001b[0m\u001b[32m=\u001b[0m\u001b[32m=\u001b[0m\u001b[32m=\u001b[0m\u001b[32m=\u001b[0m\u001b[32m=\u001b[0m\u001b[32m=\u001b[0m\u001b[32m=\u001b[0m\u001b[32m=\u001b[0m\u001b[32m=\u001b[0m\u001b[32m=\u001b[0m\u001b[32m=\u001b[0m\u001b[32m=\u001b[0m\u001b[32m=\u001b[0m\u001b[32m=\u001b[0m\u001b[32m=\u001b[0m\u001b[32m=\u001b[0m\u001b[32m=\u001b[0m\u001b[32m=\u001b[0m\u001b[32m=\u001b[0m\u001b[32m=\u001b[0m\u001b[32m=\u001b[0m\u001b[32m=\u001b[0m\u001b[32m=\u001b[0m\u001b[32m=\u001b[0m\u001b[32m=\u001b[0m\u001b[32m=\u001b[0m\u001b[32m=\u001b[0m\u001b[32m=\u001b[0m] (81 steps/s)\u001b[0m [step=79999] [loss+=0.629] [~loss+=0.389] [~loss=0.389] [~acc=86.48%]            \n"
     ]
    },
    {
     "data": {
      "text/html": [
       "<p><b>Metric: accuracy</b></p>\n"
      ]
     },
     "metadata": {},
     "output_type": "display_data"
    },
    {
     "data": {
      "text/html": [
       "<div id=\"2e80e780\"></div>"
      ]
     },
     "metadata": {},
     "output_type": "display_data"
    },
    {
     "data": {
      "text/html": [
       "<script charset=\"UTF-8\">\n",
       "(() => {\n",
       "\tconst src=\"https://cdn.plot.ly/plotly-2.29.1.min.js\";\n",
       "\tvar runJSFn = function(module) {\n",
       "\t\t\n",
       "\tif (!module) {\n",
       "\t\tmodule = window.Plotly;\n",
       "\t}\n",
       "\tlet data = JSON.parse('{\"data\":[{\"type\":\"scatter\",\"line\":{\"shape\":\"linear\"},\"mode\":\"lines+markers\",\"name\":\"Train: Moving Average Accuracy\",\"x\":[200,440,728,1074,1489,1987,2585,3303,4165,5199,6440,7929,9716,11860,14433,17521,21227,25674,31010,37413,45097,54318,65383,78661,80000],\"y\":[0.3704560101032257,0.5043811202049255,0.5756385922431946,0.617984414100647,0.6463564038276672,0.6759336590766907,0.70493483543396,0.7187573313713074,0.7250611782073975,0.7410538196563721,0.759086012840271,0.7674804329872131,0.7821939587593079,0.8020808100700378,0.8055412769317627,0.8144986033439636,0.8227214217185974,0.8254544138908386,0.8371647000312805,0.8396066427230835,0.844768762588501,0.854629635810852,0.8604165315628052,0.8603321313858032,0.8648070693016052]},{\"type\":\"scatter\",\"line\":{\"shape\":\"linear\"},\"mode\":\"lines+markers\",\"name\":\"Eval on Training: Mean Accuracy\",\"x\":[200,440,728,1074,1489,1987,2585,3303,4165,5199,6440,7929,9716,11860,14433,17521,21227,25674,31010,37413,45097,54318,65383,78661,80000],\"y\":[0.5004000067710876,0.5978999733924866,0.6499199867248535,0.6905999779701233,0.7160999774932861,0.7473599910736084,0.7684400081634521,0.7845199704170227,0.7961999773979187,0.8158999681472778,0.8370199799537659,0.844980001449585,0.8578000068664551,0.8730599880218506,0.882379949092865,0.8921599984169006,0.8995599746704102,0.9109799861907959,0.9183799624443054,0.9254199862480164,0.9320600032806396,0.9421799778938293,0.9431399703025818,0.9526199698448181,0.9525599479675293]},{\"type\":\"scatter\",\"line\":{\"shape\":\"linear\"},\"mode\":\"lines+markers\",\"name\":\"Eval on Validation: Mean Accuracy\",\"x\":[200,440,728,1074,1489,1987,2585,3303,4165,5199,6440,7929,9716,11860,14433,17521,21227,25674,31010,37413,45097,54318,65383,78661,80000],\"y\":[0.5006000399589539,0.5868000388145447,0.6428000330924988,0.6814000606536865,0.7094000577926636,0.7278000116348267,0.7479000091552734,0.7661000490188599,0.7776000499725342,0.7882000207901001,0.79830002784729,0.8051000237464905,0.813200056552887,0.8260000348091125,0.829300045967102,0.8352000117301941,0.8370000123977661,0.8448000550270081,0.8500000238418579,0.8507000207901001,0.8529000282287598,0.85670006275177,0.858500063419342,0.8559000492095947,0.8565000295639038]}],\"layout\":{\"legend\":{},\"title\":{\"text\":\"accuracy\"},\"xaxis\":{\"showgrid\":true,\"type\":\"log\"},\"yaxis\":{\"showgrid\":true,\"type\":\"log\"}}}');\n",
       "\tmodule.newPlot('2e80e780', data);\n",
       "\n",
       "\t}\n",
       "\t\n",
       "    if (typeof requirejs === \"function\") {\n",
       "        // Use RequireJS to load module.\n",
       "\t\tlet srcWithoutExtension = src.substring(0, src.lastIndexOf(\".js\"));\n",
       "        requirejs.config({\n",
       "            paths: {\n",
       "                'plotly': srcWithoutExtension\n",
       "            }\n",
       "        });\n",
       "        require(['plotly'], function(plotly) {\n",
       "            runJSFn(plotly)\n",
       "        });\n",
       "        return\n",
       "    }\n",
       "\n",
       "\tvar currentScripts = document.head.getElementsByTagName(\"script\");\n",
       "\tfor (const idx in currentScripts) {\n",
       "\t\tlet script = currentScripts[idx];\n",
       "\t\tif (script.src == src) {\n",
       "\t\t\trunJSFn(null);\n",
       "\t\t\treturn;\n",
       "\t\t}\n",
       "\t}\n",
       "\n",
       "\tvar script = document.createElement(\"script\");\n",
       "\n",
       "\tscript.charset = \"utf-8\";\n",
       "\t\n",
       "\tscript.src = src;\n",
       "\tscript.onload = script.onreadystatechange = function () { runJSFn(null); };\n",
       "\tdocument.head.appendChild(script);\t\n",
       "})();\n",
       "</script>"
      ]
     },
     "metadata": {},
     "output_type": "display_data"
    },
    {
     "data": {
      "text/html": [
       "<p><b>Metric: loss</b></p>\n"
      ]
     },
     "metadata": {},
     "output_type": "display_data"
    },
    {
     "data": {
      "text/html": [
       "<div id=\"3a9b719e\"></div>"
      ]
     },
     "metadata": {},
     "output_type": "display_data"
    },
    {
     "data": {
      "text/html": [
       "<script charset=\"UTF-8\">\n",
       "(() => {\n",
       "\tconst src=\"https://cdn.plot.ly/plotly-2.29.1.min.js\";\n",
       "\tvar runJSFn = function(module) {\n",
       "\t\t\n",
       "\tif (!module) {\n",
       "\t\tmodule = window.Plotly;\n",
       "\t}\n",
       "\tlet data = JSON.parse('{\"data\":[{\"type\":\"scatter\",\"line\":{\"shape\":\"linear\"},\"mode\":\"lines+markers\",\"name\":\"Train: Batch Loss+Regularization\",\"x\":[200,440,728,1074,1489,1987,2585,3303,4165,5199,6440,7929,9716,11860,14433,17521,21227,25674,31010,37413,45097,54318,65383,78661,80000],\"y\":[1.6531782150268555,1.0340969562530518,1.0473228693008423,0.9410595297813416,1.106107234954834,1.1086218357086182,1.015012502670288,0.5592697262763977,0.675094723701477,0.643477201461792,0.4815402030944824,0.5818819403648376,0.599953830242157,0.5572760105133057,0.6230361461639404,0.4375718832015991,0.556752622127533,0.34343552589416504,0.3959222435951233,0.3428066372871399,0.45791834592819214,0.2820262312889099,0.41366636753082275,0.3801875710487366,0.628852367401123]},{\"type\":\"scatter\",\"line\":{\"shape\":\"linear\"},\"mode\":\"lines+markers\",\"name\":\"Train: Moving Average Loss+Regularization\",\"x\":[200,440,728,1074,1489,1987,2585,3303,4165,5199,6440,7929,9716,11860,14433,17521,21227,25674,31010,37413,45097,54318,65383,78661,80000],\"y\":[1.7040101289749146,1.3664487600326538,1.1982094049453735,1.0708063840866089,1.0004007816314697,0.9184224605560303,0.8425769209861755,0.7966286540031433,0.7797658443450928,0.7401018142700195,0.6975207924842834,0.6626812815666199,0.6302468180656433,0.5778523087501526,0.5663858652114868,0.5466814041137695,0.5139095783233643,0.5081973671913147,0.47837215662002563,0.4649450480937958,0.4561533033847809,0.43066105246543884,0.41766631603240967,0.40025854110717773,0.3886201083660126]},{\"type\":\"scatter\",\"line\":{\"shape\":\"linear\"},\"mode\":\"lines+markers\",\"name\":\"Train: Moving Average Loss\",\"x\":[200,440,728,1074,1489,1987,2585,3303,4165,5199,6440,7929,9716,11860,14433,17521,21227,25674,31010,37413,45097,54318,65383,78661,80000],\"y\":[1.7040101289749146,1.3664487600326538,1.1982094049453735,1.0708063840866089,1.0004007816314697,0.9184224605560303,0.8425769209861755,0.7966286540031433,0.7797658443450928,0.7401018142700195,0.6975207924842834,0.6626812815666199,0.6302468180656433,0.5778523087501526,0.5663858652114868,0.5466814041137695,0.5139095783233643,0.5081973671913147,0.47837215662002563,0.4649450480937958,0.4561533033847809,0.43066105246543884,0.41766631603240967,0.40025854110717773,0.3886201083660126]},{\"type\":\"scatter\",\"line\":{\"shape\":\"linear\"},\"mode\":\"lines+markers\",\"name\":\"Eval on Training: Mean Loss+Regularization\",\"x\":[200,440,728,1074,1489,1987,2585,3303,4165,5199,6440,7929,9716,11860,14433,17521,21227,25674,31010,37413,45097,54318,65383,78661,80000],\"y\":[1.3678637742996216,1.1140633821487427,0.9796543717384338,0.8746337890625,0.7985051870346069,0.7166950106620789,0.659222424030304,0.6149136424064636,0.5803283452987671,0.5270817279815674,0.47763189673423767,0.4488324820995331,0.4200214445590973,0.3705911636352539,0.3455055356025696,0.32129332423210144,0.2996484339237213,0.269183486700058,0.24626699090003967,0.22920677065849304,0.20937538146972656,0.18479223549365997,0.176971435546875,0.15387436747550964,0.15374930202960968]},{\"type\":\"scatter\",\"line\":{\"shape\":\"linear\"},\"mode\":\"lines+markers\",\"name\":\"Eval on Training: Mean Loss\",\"x\":[200,440,728,1074,1489,1987,2585,3303,4165,5199,6440,7929,9716,11860,14433,17521,21227,25674,31010,37413,45097,54318,65383,78661,80000],\"y\":[1.3678637742996216,1.1140633821487427,0.9796543717384338,0.8746337890625,0.7985051870346069,0.7166950106620789,0.659222424030304,0.6149136424064636,0.5803283452987671,0.5270817279815674,0.47763189673423767,0.4488324820995331,0.4200214445590973,0.3705911636352539,0.3455055356025696,0.32129332423210144,0.2996484339237213,0.269183486700058,0.24626699090003967,0.22920677065849304,0.20937538146972656,0.18479223549365997,0.176971435546875,0.15387436747550964,0.15374930202960968]},{\"type\":\"scatter\",\"line\":{\"shape\":\"linear\"},\"mode\":\"lines+markers\",\"name\":\"Eval on Validation: Mean Loss+Regularization\",\"x\":[200,440,728,1074,1489,1987,2585,3303,4165,5199,6440,7929,9716,11860,14433,17521,21227,25674,31010,37413,45097,54318,65383,78661,80000],\"y\":[1.367958426475525,1.130001187324524,1.003279685974121,0.9054416418075562,0.8294702768325806,0.772187352180481,0.7217618227005005,0.6786237955093384,0.6510607600212097,0.6098900437355042,0.5745580792427063,0.5534389615058899,0.5420477986335754,0.5049588680267334,0.48970943689346313,0.48288577795028687,0.4710167348384857,0.4524443447589874,0.44134587049484253,0.43611323833465576,0.4297620952129364,0.42019855976104736,0.42041242122650146,0.41916754841804504,0.4169628620147705]},{\"type\":\"scatter\",\"line\":{\"shape\":\"linear\"},\"mode\":\"lines+markers\",\"name\":\"Eval on Validation: Mean Loss\",\"x\":[200,440,728,1074,1489,1987,2585,3303,4165,5199,6440,7929,9716,11860,14433,17521,21227,25674,31010,37413,45097,54318,65383,78661,80000],\"y\":[1.367958426475525,1.130001187324524,1.003279685974121,0.9054416418075562,0.8294702768325806,0.772187352180481,0.7217618227005005,0.6786237955093384,0.6510607600212097,0.6098900437355042,0.5745580792427063,0.5534389615058899,0.5420477986335754,0.5049588680267334,0.48970943689346313,0.48288577795028687,0.4710167348384857,0.4524443447589874,0.44134587049484253,0.43611323833465576,0.4297620952129364,0.42019855976104736,0.42041242122650146,0.41916754841804504,0.4169628620147705]}],\"layout\":{\"legend\":{},\"title\":{\"text\":\"loss\"},\"xaxis\":{\"showgrid\":true,\"type\":\"log\"},\"yaxis\":{\"showgrid\":true,\"type\":\"log\"}}}');\n",
       "\tmodule.newPlot('3a9b719e', data);\n",
       "\n",
       "\t}\n",
       "\t\n",
       "    if (typeof requirejs === \"function\") {\n",
       "        // Use RequireJS to load module.\n",
       "\t\tlet srcWithoutExtension = src.substring(0, src.lastIndexOf(\".js\"));\n",
       "        requirejs.config({\n",
       "            paths: {\n",
       "                'plotly': srcWithoutExtension\n",
       "            }\n",
       "        });\n",
       "        require(['plotly'], function(plotly) {\n",
       "            runJSFn(plotly)\n",
       "        });\n",
       "        return\n",
       "    }\n",
       "\n",
       "\tvar currentScripts = document.head.getElementsByTagName(\"script\");\n",
       "\tfor (const idx in currentScripts) {\n",
       "\t\tlet script = currentScripts[idx];\n",
       "\t\tif (script.src == src) {\n",
       "\t\t\trunJSFn(null);\n",
       "\t\t\treturn;\n",
       "\t\t}\n",
       "\t}\n",
       "\n",
       "\tvar script = document.createElement(\"script\");\n",
       "\n",
       "\tscript.charset = \"utf-8\";\n",
       "\t\n",
       "\tscript.src = src;\n",
       "\tscript.onload = script.onreadystatechange = function () { runJSFn(null); };\n",
       "\tdocument.head.appendChild(script);\t\n",
       "})();\n",
       "</script>"
      ]
     },
     "metadata": {},
     "output_type": "display_data"
    },
    {
     "name": "stdout",
     "output_type": "stream",
     "text": [
      "\t[Step 80000] median train step: 10991 microseconds\n",
      "\tUpdated batch normalization mean/variances averages.\n",
      "\n",
      "Results on Validation:\n",
      "\tMean Loss+Regularization (#loss+): 0.417\n",
      "\tMean Loss (#loss): 0.417\n",
      "\tMean Accuracy (#acc): 85.65%\n",
      "Results on Training:\n",
      "\tMean Loss+Regularization (#loss+): 0.154\n",
      "\tMean Loss (#loss): 0.154\n",
      "\tMean Accuracy (#acc): 95.26%\n"
     ]
    }
   ],
   "source": [
    "%% --checkpoint=base_cnn_model --set=\"model=cnn;learning_rate=1e-3;l2_regularization=0;l1_regularization=0;train_steps=80000\"\n",
    "cifar.TrainCifar10Model(ContextFromSettings(), *flagDataDir, *flagCheckpoint, *flagEval, *flagVerbosity)"
   ]
  }
 ],
 "metadata": {
  "kernelspec": {
   "display_name": "Go (gonb)",
   "language": "go",
   "name": "gonb"
  },
  "language_info": {
   "codemirror_mode": "",
   "file_extension": ".go",
   "mimetype": "",
   "name": "go",
   "nbconvert_exporter": "",
   "pygments_lexer": "",
   "version": "go1.22.4"
  }
 },
 "nbformat": 4,
 "nbformat_minor": 5
}
