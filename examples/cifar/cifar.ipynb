{
 "cells": [
  {
   "cell_type": "markdown",
   "id": "f431da81-4d94-4fd1-8a51-952ef824cb46",
   "metadata": {},
   "source": [
    "# Cifar Library and Demo\n",
    "\n",
    "[This is a library](https://pkg.go.dev/github.com/gomlx/gomlx/examples/cifar) to download and parse the Cifar datasets (Cifar-10 and Cifar-100), and a very small demo of a FNN (Feedforward Neural Network) with GoMLX. FNNs are notoriously bad for images, but it's only a demo. Look for the Resnet50 model for a more serious image classification model (old but still good -- best results as of the time of this writing is with ViT model).\n",
    "\n",
    "The CIFAR-10 and CIFAR-100 are labeled subsets of the 80 million tiny images dataset. They were collected by Alex Krizhevsky, Vinod Nair, and Geoffrey Hinton. See more details in [its homepage here](https://www.cs.toronto.edu/~kriz/cifar.html).\n",
    "\n",
    "This notebook serves as documentation and example for the [github.com/gomlx/gomlx/examples/cifar](https://github.com/gomlx/gomlx/examples/cifar) library."
   ]
  },
  {
   "cell_type": "markdown",
   "id": "bd398a51-c10a-4d05-91f7-f978856a8d8b",
   "metadata": {},
   "source": [
    "## Environment Set Up\n",
    "\n",
    "Let's set up `go.mod` to use the local copy of GoMLX, so it can be developed jointly the dataset code with the model. That's often how data pre-processing and model code is developed together with experimentation.\n",
    "\n",
    "If you are not changing code, feel free to simply skip this cell. Or if you used a different directory for you projects, change it below.\n",
    "\n",
    "Notice the directory `${HOME}/Projects/gomlx` is where the GoMLX code is copied by default in [its Docker](https://hub.docker.com/repository/docker/janpfeifer/gomlx_jupyterlab/general)."
   ]
  },
  {
   "cell_type": "code",
   "execution_count": 2,
   "id": "22abc207-e8b0-44ef-840d-fee3550cffca",
   "metadata": {
    "tags": []
   },
   "outputs": [],
   "source": [
    "!*go mod edit -replace github.com/gomlx/gomlx=\"${HOME}/Projects/gomlx\""
   ]
  },
  {
   "cell_type": "markdown",
   "id": "443e9e56-ef12-4d04-b7bb-99478fa2b662",
   "metadata": {},
   "source": [
    "## Data Preparation\n",
    "\n",
    "### Downloading data files\n",
    "\n",
    "To download, uncompress and untar to the local directory, simply do the following. Notice if it's already downloaded in the given `--data` directory, it returns immediately."
   ]
  },
  {
   "cell_type": "code",
   "execution_count": 3,
   "id": "a61fdd1a-74a0-46f2-9cfc-f79bfa37e298",
   "metadata": {
    "tags": []
   },
   "outputs": [],
   "source": [
    "import (\n",
    "    \"github.com/gomlx/gomlx/examples/cifar\"\n",
    "    \"github.com/gomlx/gomlx/ml/data\"\n",
    ")\n",
    "\n",
    "var flagDataDir = flag.String(\"data\", \"~/work/cifar\", \"Directory to cache downloaded and generated dataset files.\")\n",
    "\n",
    "func AssertNoError(err error) {\n",
    "    if err != nil {\n",
    "        log.Fatalf(\"Failed: %+v\", err)\n",
    "    }\n",
    "}\n",
    "\n",
    "func AssertDownloaded() {\n",
    "    *flagDataDir = data.ReplaceTildeInDir(*flagDataDir)\n",
    "    if !data.FileExists(*flagDataDir) {\n",
    "        AssertNoError(os.MkdirAll(*flagDataDir, 0777))\n",
    "    }\n",
    "\n",
    "    AssertNoError(cifar.DownloadCifar10(*flagDataDir))\n",
    "    AssertNoError(cifar.DownloadCifar100(*flagDataDir))\n",
    "}\n",
    "\n",
    "%%\n",
    "AssertDownloaded()"
   ]
  },
  {
   "cell_type": "code",
   "execution_count": 4,
   "id": "345076ef-e2a3-4405-b47d-801c9ec62b91",
   "metadata": {
    "tags": []
   },
   "outputs": [
    {
     "name": "stdout",
     "output_type": "stream",
     "text": [
      "total 323M\n",
      "drwxr-xr-x 2 janpf janpf 4.0K Feb 20  2010 cifar-100-binary\n",
      "-rw-r--r-- 1 janpf janpf 161M Mar 16 07:57 cifar-100-binary.tar.gz\n",
      "drwxr-xr-x 2 janpf janpf 4.0K Jun  4  2009 cifar-10-batches-bin\n",
      "-rw-r--r-- 1 janpf janpf 163M Mar 16 07:57 cifar-10-binary.tar.gz\n"
     ]
    }
   ],
   "source": [
    "!ls -lh ~/work/cifar/"
   ]
  },
  {
   "cell_type": "markdown",
   "id": "93d4ae39-915c-478c-887f-b1c8c080865b",
   "metadata": {},
   "source": [
    "### Sample some images\n",
    "\n",
    "The `cifar.LoadCifar10` and `cifar.LoadCifar100` funcitons load the whole dataset into a `tensor.Tensor`. Here we sample and display a few of each, to check things are working.\n"
   ]
  },
  {
   "cell_type": "code",
   "execution_count": 6,
   "id": "0dabc63a-b918-4065-9b23-0c5a22446458",
   "metadata": {
    "tags": []
   },
   "outputs": [
    {
     "data": {
      "text/html": [
       "<h3>Samples from Cifar-10</h3><table><tr>\n",
       "\t<td><figure style=\"padding:4px;text-align: center;\"><img width=\"128\" height=\"128\" src=\"data:image/png;base64,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\"><figcaption style=\"text-align: center;\">Example 25789: airplane (0)</figcaption></figure></td>\n",
       "\t<td><figure style=\"padding:4px;text-align: center;\"><img width=\"128\" height=\"128\" src=\"data:image/png;base64,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\"><figcaption style=\"text-align: center;\">Example 45396: deer (4)</figcaption></figure></td>\n",
       "\t<td><figure style=\"padding:4px;text-align: center;\"><img width=\"128\" height=\"128\" src=\"data:image/png;base64,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\"><figcaption style=\"text-align: center;\">Example 10838: deer (4)</figcaption></figure></td>\n",
       "\t<td><figure style=\"padding:4px;text-align: center;\"><img width=\"128\" height=\"128\" src=\"data:image/png;base64,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\"><figcaption style=\"text-align: center;\">Example 50864: airplane (0)</figcaption></figure></td>\n",
       "</tr><tr>\n",
       "\t<td><figure style=\"padding:4px;text-align: center;\"><img width=\"128\" height=\"128\" src=\"data:image/png;base64,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\"><figcaption style=\"text-align: center;\">Example 30785: truck (9)</figcaption></figure></td>\n",
       "\t<td><figure style=\"padding:4px;text-align: center;\"><img width=\"128\" height=\"128\" src=\"data:image/png;base64,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\"><figcaption style=\"text-align: center;\">Example 19457: automobile (1)</figcaption></figure></td>\n",
       "\t<td><figure style=\"padding:4px;text-align: center;\"><img width=\"128\" height=\"128\" src=\"data:image/png;base64,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\"><figcaption style=\"text-align: center;\">Example 9446: bird (2)</figcaption></figure></td>\n",
       "\t<td><figure style=\"padding:4px;text-align: center;\"><img width=\"128\" height=\"128\" src=\"data:image/png;base64,iVBORw0KGgoAAAANSUhEUgAAACAAAAAgCAIAAAD8GO2jAAAJgUlEQVR4nByWSW9cV37F7/zum1/NRRYlURQpM63Qsh03kCCQErW7AS+SZT5NPkX2QT5AdgGyyKoTBB0gbbgjxFLbGiipOBbJIuu9V2++Y6O8vYs//vecc+/5kX/5p38kBGlly7JFCNWNcB3qe6wTEmIguo5ToAHOC5O1UCs5iuBkQKtadZrnpS7KutM4bxAEJvEhACavFADYQgggRJgQpYFSoqwNQpAzTKgDLELIhIErtCKg2t0Jr1cqrwDFghOoRDqIhkA1t0tVtY7UqJNGaetyRCguayQsABZwhhAiAEJitVkXXdEYzglFUGmDkHEJ1kar5m7cZ4iy88tFUSKhlkp6V1cXBw+Sz3Yn+Xpxk2khcSeNBVZrlFdQWcgYh9YCoLU2BgBitGGM9ihABFNGyqzqpF4V0EXNwzEO/eTNm095mra6Mrhw8cjn9Hg+v7f11ZP92Jj8eIlaZaCBP+8NrdEQAKW1BZpSBhFCDqeuyzyfcYZdjkfDEECkujLhrRdGrS5vbk+rusyKLBjy4cyEIfFde/zh/8sGHu33H0+syzFBCALKMPYcRjAG1loDLIRGG/x3v3nWtFoqSxDCCFqIiK2HrN59MEnz9Y/vvqOUD+7tIg7Gk8HekwcYcZfwrru6W66CoDfu+x5BtaatRpvJxiIICKUYE4wRYz+bLJWS0nDqSqHqVnJdTHcmFzeNlMdVq2Ovd39v+OWj3SjiqsYfXv7UVWo63ebkosiPITvoe+pejBpJMIAWaoAIsDAOiZBGGUsghNwhhFiEDQQA63UUumlLs/zV9U32aP/IIXRxfRNNB52FVZZBCifbM4+pDyeryK1K8Xpv/69nsL1dlxa5WkMeYNEphk3PdxZ3Df6Hv3/BCG5qYY1tm5aawk22P7z/w589Ho6nn6/TOhr082K1vEjfvTyLAru92/dBr86kknhnthf4om6bdcNDRwhNpQTGgqLWjbRJyOtGI4ysFAoiaCzSbYXdfppnn+1uXV0FSeQTzIEG93bi2UN/8pD6Qy3bpawWcRgcfDadTAKEH5/M8yRx+8lAixoRyyjxXB4FjuiM1Bp/+83zVd7ktayaDnT57oPxbJiMt4+kKNv1DaV9j+msW0xmvfu/SCCxpx8zqLmUTLQl1Cn1+jt7T3e2tut2LWWDqL89HfQjGjnQWJVXCmWVVAZWjW7KbNDDUejTcAZwF/JmebmUnTRifXm5Wt7eprfdq/89s6AKhuPtR0e+O16ep1gsJ319fXMNGXlwP5gOSeA6nNG6FVerWhlI7tKCMwqM3Jl6O7v9UmBTzZmtzz+ciAYN9hNKRaQc6HTp9XWRF7P7cbt4nzWxEHQ+r26Wx4ckoY4Xx4mQ7PTq3KAgz9uLlb4tNEaQCI11oweDuFOpVI4bqCxLG81/9yoDAA/vFVqWs72IBsYS+fzw8evv7lafzva3kzR3G2/0xRf3D/Z2Ly7OinyxvMnPL9dOiA/2HsX9ne9/eFdUFf71i+fDQa8/6H+an66zU2swgvzho93O4DTNODSEiM6u3n24c4Mw9J1y3cUDklAbevyXX3159ORRka3OL5Z//OlaANeL/LsVgohAKzXAndT4m799ESXB7U1KHRbGnrX+bID3dpKjJwex7/iedX3d4vz0wrphGETxj9+d3z8IbWnr0ozHs5NPFyfziyB0Bz1/WbIg9OsWlo3thErzuu0EfvL5122nqrKJk9BhToCafoSXN2ngBslgevzp/TqtvCna+4vH053QC4kbeISY6/fF4lLU2lwt5XA6RlY7Pju5Vk27iXvRaghxUbUQAiIkqmojWsXzNebWjyuHhQvh/du//yemrOrq9Go5BnYniHu9BFM4HLk//Nfb9kxhPtKABYNhfzq+eP9HJehq3WhL+v0Q1DaJE2BMUeaIEOIyGAcOZ8R1JKH48jzbP/y8JL3TqzQM/KatKQpevbx8+/rcYcH847Xy/PtP987O0lWF3p9e//7773+c3/z3768vV6KWlmI4GoSz2dihiCCAIFDGbJwdjcYWIC9gDw8fN5V4+uWXkEdZCU4uM2j4V18fElRT0gohejgchdsv39afzorbHLz6aD5lcUf7nhcAC602DjTrYt2KDmNEODYBJx53MQCLNV3fLb6gk+GONdos8zIv4HzF08vueesufE6Yu3+wHZ3KdYr9XhQGfi0B0hxjBIAlmHSiE9IO4rAWKg5d1QL87a+ej/vB1tZICF01uuywkGqdrbtW3N6tFqdz3/Mp0788GAfDwV0O+5M4IfHr97duEo2Hk1oACwCjxBqjtQGQYoym27O8aKt1BoxBDrGbBgXEWDCIna3pkDiJ1DiK4u3pVifUs7962NsOX777iDGvawmBmZ9cVcX50eHIWpiEzih2PEYpcTyKPGqrVp2dX5fZuhGw6ixiDi+EXSxXy9u7uhEYgiTklLtN202nE8hcqMlf/mLrdHH+5t1i/+nA8+M3H64ol0jZ5apa3q2EENpIhK3jew7nDOM0vcVQW4ikgcgJxk1r87zknBS10GZjfNNKAlHA3P5w9B+//V1+ZyYPZ29fn8FiSNVYtWowHJ5fd3nVSoPzyjYSWICV0FJqpTWEpGqFtVpbi6pWrItCKdt0gFLCKK5qwQgECDLGDg8e3+T1d68+DfwJaMT6owa3VudVVwWLzCoDEMR40/PUGNh0CkPrOpsDCDEAkBCCf/03z7VRWaWFAv2A2U1vw2GSaGtbqRyHF2X16u3xw+3pYBM1Gflemq4Xa3pVYAA3zmGC2IYrgNIAAEsJZBRJpaVUnDuIE5PEvjFGW6sMxJRx1zHWaqnuVuumaZ8cHtad+ed//W0NsEe61cnrWqrjhbaIa4AQJlqbtuugtb5LKWMA03WjW6GMsVpK/OzZM2wMQaBqdOg7gUul1lIDSoAxFgI86PUhAt//8OPrd2eA6CxN/2+OSHQfoc10ghHcyORUTUcI9Fyvk7oVGyEAxMoA/O03L/qhZwBqpY48UrcCACSVAXATYgBhFLrj8XjUj97Pz/7nDx/mKzrafdrv9TAhxsLNEmjzYI2F8meNpLYIEUqRtVBbhH/zqxfGGACh51DPoVJpzp2i6qS0w74/SDzuUGPR0Wd7W9tbiMcPHv35eDi21nLuGgu0sRsytRYju+E5bbUFmw/IgA2DQYSPPv8aQ+s5NA5cRgijUEottPU9RjFsW+kw3AhpDZpORqPpA4Q9u4FQSAl26CYSBkKtDYLYGG3M5kptJ4zZkIoF4E8BAAD//49TqXAQ48YBAAAAAElFTkSuQmCC\"><figcaption style=\"text-align: center;\">Example 22885: frog (6)</figcaption></figure></td>\n",
       "</tr></table>\n"
      ]
     },
     "metadata": {},
     "output_type": "display_data"
    },
    {
     "data": {
      "text/html": [
       "<h3>Samples from Cifar-100</h3><table><tr>\n",
       "\t<td><figure style=\"padding:4px;text-align: center;\"><img width=\"128\" height=\"128\" src=\"data:image/png;base64,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\"><figcaption style=\"text-align: center;\">Example 820: otter (55)</figcaption></figure></td>\n",
       "\t<td><figure style=\"padding:4px;text-align: center;\"><img width=\"128\" height=\"128\" src=\"data:image/png;base64,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\"><figcaption style=\"text-align: center;\">Example 19301: cloud (23)</figcaption></figure></td>\n",
       "\t<td><figure style=\"padding:4px;text-align: center;\"><img width=\"128\" height=\"128\" src=\"data:image/png;base64,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\"><figcaption style=\"text-align: center;\">Example 35541: worm (99)</figcaption></figure></td>\n",
       "\t<td><figure style=\"padding:4px;text-align: center;\"><img width=\"128\" height=\"128\" src=\"data:image/png;base64,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\"><figcaption style=\"text-align: center;\">Example 48904: forest (33)</figcaption></figure></td>\n",
       "</tr><tr>\n",
       "\t<td><figure style=\"padding:4px;text-align: center;\"><img width=\"128\" height=\"128\" src=\"data:image/png;base64,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\"><figcaption style=\"text-align: center;\">Example 24815: boy (11)</figcaption></figure></td>\n",
       "\t<td><figure style=\"padding:4px;text-align: center;\"><img width=\"128\" height=\"128\" src=\"data:image/png;base64,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\"><figcaption style=\"text-align: center;\">Example 40322: squirrel (80)</figcaption></figure></td>\n",
       "\t<td><figure style=\"padding:4px;text-align: center;\"><img width=\"128\" height=\"128\" src=\"data:image/png;base64,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\"><figcaption style=\"text-align: center;\">Example 53532: tractor (89)</figcaption></figure></td>\n",
       "\t<td><figure style=\"padding:4px;text-align: center;\"><img width=\"128\" height=\"128\" src=\"data:image/png;base64,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\"><figcaption style=\"text-align: center;\">Example 5682: road (68)</figcaption></figure></td>\n",
       "</tr></table>\n"
      ]
     },
     "metadata": {},
     "output_type": "display_data"
    }
   ],
   "source": [
    "import (\n",
    "    \"github.com/gomlx/gomlx/examples/cifar\"\n",
    "    \"github.com/gomlx/gomlx/types/shapes\"\n",
    "\n",
    "    \"github.com/janpfeifer/gonb/gonbui\"\n",
    ")\n",
    "\n",
    "// sampleToNotebook generates a sample of Cifar-10 and Cifar-100 in a GoNB Jupyter Notebook.\n",
    "func sampleToNotebook(rows, cols int) {\n",
    "    dtype := shapes.Float32\n",
    "    \n",
    "    // Load data into tensors.\n",
    "    images10, labels10, err := cifar.LoadCifar10(*flagDataDir, dtype)\n",
    "    AssertNoError(err)\n",
    "    images100, labels100, err := cifar.LoadCifar100(*flagDataDir, dtype)\n",
    "    AssertNoError(err)\n",
    "    \n",
    "    sampleTable(\"Samples from Cifar-10\", images10.Local(), labels10.Local(), cifar.C10Labels[:], rows, cols)\n",
    "    sampleTable(\"Samples from Cifar-100\", images100.Local(), labels100.Local(), cifar.C100FineLabels[:], rows, cols)\n",
    "}\n",
    "\n",
    "// sampleTable generates and outputs one html table of samples, sampling rows x cols from the images/labels provided.\n",
    "func sampleTable(title string, images, labels *tensor.Local, labelsText []string, rows, cols int) {\n",
    "    htmlRows := make([]string, 0, rows)\n",
    "    for row := 0; row < rows; row++ {\n",
    "        cells := make([]string, 0, cols)\n",
    "        for col := 0; col < cols; col++ {\n",
    "            cells = append(cells, sampleOneImage(images, labels, labelsText))\n",
    "        }\n",
    "        htmlRows = append(htmlRows, fmt.Sprintf(\"<tr>\\n\\t<td>%s</td>\\n</tr>\", strings.Join(cells, \"</td>\\n\\t<td>\")))\n",
    "    }\n",
    "    htmlTable := fmt.Sprintf(\"<h3>%s</h3><table>%s</table>\\n\", title, strings.Join(htmlRows, \"\"))\n",
    "    gonbui.DisplayHTML(htmlTable)\n",
    "}\n",
    "\n",
    "// sampleOneImage one image from tensor and returns an HTML rendered image with label\n",
    "func sampleOneImage(images, labels *tensor.Local, labelsText []string) string {\n",
    "    exampleNum := rand.Intn(images.Shape().Dimensions[0])\n",
    "    labelsData := tensor.Data[int](labels)\n",
    "    label := labelsData[exampleNum]\n",
    "    labelStr := labelsText[label]\n",
    "    img := cifar.ConvertToGoImage(images, exampleNum)\n",
    "    imgSrc, err := gonbui.EmbedImageAsPNGSrc(img)\n",
    "    AssertNoError(err)\n",
    "    return fmt.Sprintf(`<figure style=\"padding:4px;text-align: center;\"><img width=\"128\" height=\"128\" src=\"%s\"><figcaption style=\"text-align: center;\">Example %d: %s (%d)</figcaption></figure>`, imgSrc, exampleNum, labelStr, label)\n",
    "}\n",
    "\n",
    "%%\n",
    "AssertDownloaded()\n",
    "rows, cols := 2, 4\n",
    "sampleToNotebook(rows, cols)"
   ]
  },
  {
   "cell_type": "markdown",
   "id": "7fa8c06c-ede0-4cd1-80bd-9331422e3a63",
   "metadata": {},
   "source": [
    "## Training on Cifar-10\n",
    "\n",
    "### Models Support\n",
    "\n",
    "In this cell we define 3 functions we are going to use for the modeling:\n",
    "\n",
    "1. `getBatchedImages`: this will take the `cifar.Dataset` yielded `spec`, and convert the image indices that are given as input, and convert them to the actual batch of images. The whole Cifar-10 dataset is configured as a variable -- so it can be stored in the accelerator memory for faster access. This function will call the `Dataset.GatherImagesGraph` to retrieve it.\n",
    "1. `normalizeImage` and `normalizeFeatures`: they normalize `x` according to the hyperparameter given in `flagNormalization` flag.\n"
   ]
  },
  {
   "cell_type": "code",
   "execution_count": 7,
   "id": "c8d3c19e-af0c-4fef-a76c-dabb375972d0",
   "metadata": {
    "tags": []
   },
   "outputs": [],
   "source": [
    "import (\n",
    "    \"flags\"\n",
    "    \n",
    "    . \"github.com/gomlx/gomlx/graph\"\n",
    "    \"github.com/gomlx/gomlx/examples/cifar\"\n",
    "    \"github.com/gomlx/gomlx/ml/context\"\n",
    ")\n",
    "\n",
    "var (\n",
    "    // ML Manager creation:\n",
    "    flagNumThreads  = flag.Int(\"num_threads\", -1, \"Number of threads. Leave as -1 to use as many as there are cores.\")\n",
    "    flagNumReplicas = flag.Int(\"num_replicas\", 1, \"Number of replicas.\")\n",
    "    flagPlatform    = flag.String(\"platform\", \"\", \"Platform to use, if empty uses the default one.\")\n",
    "\n",
    "    // Model hyper-parameters.\n",
    "    flagL2Regularization = flag.Float64(\"l2_reg\", 0, \"L2 regularization on kernels. It doesn't interact well with --batch_norm.\")\n",
    "    flagNormalization    = flag.String(\"norm\", \"layer\", \"Type of normalization to use. Valid values are \\\"none\\\", \\\"batch\\\", \\\"layer\\\".\")\n",
    "\n",
    "    // Model hyperparameters:\n",
    "    flagNumHiddenLayers = flag.Int(\"hidden_layers\", 8, \"Number of hidden layers, stacked with residual connection.\")\n",
    "    flagNumNodes        = flag.Int(\"num_nodes\", 128, \"Number of nodes in hidden layers.\")\n",
    "    flagDropoutRate     = flag.Float64(\"dropout\", 0, \"Dropout rate\")\n",
    ")\n",
    "\n",
    "func getBatchedImages(ctx *context.Context, spec any, inputs []*Node) (batchedImages *Node) {\n",
    "    g := inputs[0].Graph()\n",
    "    if !g.Ok() {\n",
    "        return nil\n",
    "    }\n",
    "\n",
    "    if spec != nil {\n",
    "        // spec should hold the dataset that converts the image indices to the actual\n",
    "        // images, by gathering from a large variable that holds all the images.\n",
    "        dataset, ok := spec.(*cifar.Dataset)\n",
    "        if !ok {\n",
    "            g.SetErrorf(\"spec given to FNNModelGraph is not a *cifarDataset, instead got %T\", spec)\n",
    "            return nil\n",
    "        }\n",
    "        // We assume that batchedImages passed is actually a list of indices, and we need to gather\n",
    "        // the actual images.\n",
    "        batchedImages = dataset.GatherImagesGraph(ctx, inputs[0])\n",
    "    } else {\n",
    "        // If a spec was not given, we assume the raw images are being fed for inference.\n",
    "        batchedImages = inputs[0]\n",
    "    }\n",
    "    if !batchedImages.Ok() {\n",
    "        g.SetErrorf(\"failed to load batch of images\")\n",
    "        return nil\n",
    "    }\n",
    "    return\n",
    "}\n",
    "\n",
    "func normalizeImage(ctx *context.Context, x *Node) *Node {\n",
    "    x.AssertRank(4)  // [batch_size, width, height, depth]\n",
    "    switch *flagNormalization {\n",
    "    case \"layer\":\n",
    "        return layers.LayerNormalization(ctx, x, 1, 2).ScaleNormalization(false).Done()\n",
    "    case \"batch\":\n",
    "        return layers.BatchNormalization(ctx, x, -1).Done()\n",
    "    case \"none\":\n",
    "        return x\n",
    "    }\n",
    "    g := x.Graph()\n",
    "    g.SetErrorf(\"invalid normalization selected %q -- valid values are batch, layer, none\", *flagNormalization)\n",
    "    return g.InvalidNode()\n",
    "}\n",
    "\n",
    "func normalizeFeatures(ctx *context.Context, x *Node) *Node {\n",
    "    x.AssertRank(2)  // [batch_size, embedding_dim]\n",
    "    switch *flagNormalization {\n",
    "    case \"layer\":\n",
    "        return layers.LayerNormalization(ctx, x, -1).Done()\n",
    "    case \"batch\":\n",
    "        return layers.BatchNormalization(ctx, x, -1).Done()\n",
    "    case \"none\":\n",
    "        return x\n",
    "    }\n",
    "    g := x.Graph()\n",
    "    g.SetErrorf(\"invalid normalization selected %q -- valid values are batch, layer, none\", *flagNormalization)\n",
    "    return g.InvalidNode()\n",
    "}"
   ]
  },
  {
   "cell_type": "markdown",
   "id": "f771ca6f-5912-4406-9f2a-a838fd7cd065",
   "metadata": {},
   "source": [
    "### Simple FNN model\n",
    "\n",
    "A trivial model, that can easily get to ~45% accuracy (a random model would do 10%), but hardly much more than that.\n",
    "\n",
    "Later we are going to define a CNN model to compare, and we just set a placeholder model here for now.\n",
    "\n",
    "> **Note**: \n",
    ">\n",
    "> * Cifar datasets yields (`Dataset.Yield()`) only the indices to the images of the batch as a `Tensor`. But it provides a `GatherImagesGraph` method that gathers the images from a static variable that holds the whole dataset (~1Gb in memory, stored as float32). We access it through the `getBatchedImatges()` defined above. \n"
   ]
  },
  {
   "cell_type": "code",
   "execution_count": 8,
   "id": "0ac4e4da-2c3b-431c-9e54-00e31045785f",
   "metadata": {
    "tags": []
   },
   "outputs": [
    {
     "name": "stdout",
     "output_type": "stream",
     "text": [
      "Logits shape for batch_size=3: (Float32)[3 10]\n"
     ]
    }
   ],
   "source": [
    "import (\n",
    "    \"flags\"\n",
    "    \n",
    "    . \"github.com/gomlx/gomlx/graph\"\n",
    "    \"github.com/gomlx/gomlx/examples/cifar\"\n",
    "    \"github.com/gomlx/gomlx/ml/context\"\n",
    "    \"github.com/gomlx/gomlx/ml/train/optimizers\"\n",
    "    \"github.com/gomlx/gomlx/types/shapes\"\n",
    ")\n",
    "\n",
    "var DType = shapes.Float32\n",
    "\n",
    "func FNNModelGraph(ctx *context.Context, spec any, inputs []*Node) []*Node {\n",
    "    g := inputs[0].Graph()\n",
    "    if !g.Ok() {\n",
    "        return nil\n",
    "    }\n",
    "    batchedImages := getBatchedImages(ctx, spec, inputs)\n",
    "    if !g.Ok() {\n",
    "        return nil\n",
    "    }\n",
    "    batchSize := batchedImages.Shape().Dimensions[0]\n",
    "    logits := Reshape(batchedImages, batchSize, -1)\n",
    "    {\n",
    "        ctx := ctx.In(\"Dense_0\")\n",
    "        logits = layers.DenseWithBias(ctx, logits, *flagNumNodes)\n",
    "        logits = normalizeFeatures(ctx, logits)\n",
    "    }\n",
    "    for ii := 1; ii < *flagNumHiddenLayers; ii++ {\n",
    "        ctx := ctx.In(fmt.Sprintf(\"Dense_%d\", ii))\n",
    "        // Add layer with residual connection.\n",
    "        tmp := Sigmoid(logits)\n",
    "        if *flagDropoutRate > 0 {\n",
    "            tmp = layers.Dropout(ctx, tmp, Const(g, shapes.CastAsDType(*flagDropoutRate, tmp.DType())))\n",
    "        }\n",
    "        tmp = layers.DenseWithBias(ctx, tmp, *flagNumNodes)\n",
    "        tmp = normalizeFeatures(ctx, tmp)\n",
    "        logits = Add(logits, tmp)\n",
    "    }\n",
    "    logits = Sigmoid(logits)\n",
    "    logits = layers.DenseWithBias(ctx.In(\"denseFinal\"), logits, len(cifar.C10Labels))\n",
    "    return []*Node{logits}\n",
    "}\n",
    "\n",
    "// Only a placeholder for now.\n",
    "func CNNModelGraph(ctx *context.Context, spec any, inputs []*Node) []*Node {\n",
    "    return nil   \n",
    "}\n",
    "\n",
    "%% --platform=Host\n",
    "\n",
    "// Let's test that the logits are coming out with the right shape: we want [batch_size, 10], since there are 10 classes.\n",
    "AssertDownloaded()\n",
    "manager := BuildManager().NumThreads(*flagNumThreads).NumReplicas(*flagNumReplicas).Platform(*flagPlatform).MustDone()\n",
    "trainDS, err := cifar.NewDataset(\"Cifar-10 Batched Train\", *flagDataDir, cifar.C10, DType, cifar.Train, 3, false) // loops forever.\n",
    "AssertNoError(err)\n",
    "\n",
    "graph := manager.NewGraph(\"test\")\n",
    "ctx := context.NewContext(manager)\n",
    "logits := FNNModelGraph(ctx, trainDS, []*Node{graph.Parameter(\"images\", shapes.Make(shapes.Int64, /*Batch Size*/ 3, 1))})\n",
    "AssertNoError(graph.Error())\n",
    "AssertNoError(ctx.Error())\n",
    "fmt.Printf(\"Logits shape for batch_size=%d: %s\\n\", 3, logits[0].Shape())\n"
   ]
  },
  {
   "cell_type": "markdown",
   "id": "aef7d6ee-ca2b-40c7-ac3d-4242ecd8ed1b",
   "metadata": {},
   "source": [
    "### Training Loop\n",
    "\n",
    "With a model function defined, let's create our training loop, with the usual bells and whistles: accuracy metrics, progress-bar, plot of metrics, checkpoints."
   ]
  },
  {
   "cell_type": "code",
   "execution_count": 9,
   "id": "d72336ef-d96d-4d98-a3a6-5df912be5f24",
   "metadata": {
    "tags": []
   },
   "outputs": [
    {
     "name": "stdout",
     "output_type": "stream",
     "text": [
      "Platform: CUDA\n",
      "Training (500 steps):  100% [\u001b[32m=\u001b[0m\u001b[32m=\u001b[0m\u001b[32m=\u001b[0m\u001b[32m=\u001b[0m\u001b[32m=\u001b[0m\u001b[32m=\u001b[0m\u001b[32m=\u001b[0m\u001b[32m=\u001b[0m\u001b[32m=\u001b[0m\u001b[32m=\u001b[0m\u001b[32m=\u001b[0m\u001b[32m=\u001b[0m\u001b[32m=\u001b[0m\u001b[32m=\u001b[0m\u001b[32m=\u001b[0m\u001b[32m=\u001b[0m\u001b[32m=\u001b[0m\u001b[32m=\u001b[0m\u001b[32m=\u001b[0m\u001b[32m=\u001b[0m\u001b[32m=\u001b[0m\u001b[32m=\u001b[0m\u001b[32m=\u001b[0m\u001b[32m=\u001b[0m\u001b[32m=\u001b[0m\u001b[32m=\u001b[0m\u001b[32m=\u001b[0m\u001b[32m=\u001b[0m\u001b[32m=\u001b[0m\u001b[32m=\u001b[0m\u001b[32m=\u001b[0m\u001b[32m=\u001b[0m\u001b[32m=\u001b[0m\u001b[32m=\u001b[0m\u001b[32m=\u001b[0m\u001b[32m=\u001b[0m\u001b[32m=\u001b[0m\u001b[32m=\u001b[0m\u001b[32m=\u001b[0m\u001b[32m=\u001b[0m] (100 steps/s)\u001b[0m [loss=2.058] [~loss=1.934] [~acc=31.40%]        \n",
      "\n",
      "Results on Cifar-10 Eval On Train:\n",
      "\tMean Loss (#loss): 1.907\n",
      "\tMean Accuracy (#acc): 33.26%\n",
      "Results on Cifar-10 Eval On Test:\n",
      "\tMean Loss (#loss): 1.907\n",
      "\tMean Accuracy (#acc): 33.25%\n",
      "\n"
     ]
    }
   ],
   "source": [
    "import (\n",
    "    \"flags\"\n",
    "    \n",
    "    \"github.com/gomlx/gomlx/examples/cifar\"\n",
    "    \"github.com/gomlx/gomlx/ml/context\"\n",
    "    \"github.com/gomlx/gomlx/ml/train\"\n",
    "    \"github.com/gomlx/gomlx/types/slices\"\n",
    ")\n",
    "\n",
    "var (\n",
    "    // Training flags:\n",
    "    flagModel            = flag.String(\"model\", \"fnn\", \"Model type: fnn or cnn.\")\n",
    "    flagNumSteps         = flag.Int(\"steps\", 2000, \"Number of gradient descent steps to perform\")\n",
    "    flagBatchSize        = flag.Int(\"batch\", 50, \"Batch size for training\")\n",
    "    flagOptimizer        = flag.String(\"optimizer\", \"adamw\", fmt.Sprintf(\"Optimizer, options: %v\", slices.Keys(optimizers.KnownOptimizers)))\n",
    "    flagLearningRate     = flag.Float64(\"learning_rate\", 0.0001, \"Initial learning rate.\")\n",
    "    flagCheckpoint       = flag.String(\"checkpoint\", \"\", \"Directory save and load checkpoints from. If left empty, no checkpoints are created.\")\n",
    "    flagCheckpointKeep   = flag.Int(\"checkpoint_keep\", 10, \"Number of checkpoints to keep, if --checkpoint is set.\")\n",
    "    \n",
    "    // Training UI:\n",
    "    flagUseProgressBar = flag.Bool(\"bar\", true, \"If to display a progress bar during training\")\n",
    "    flagNumPlotPoints  = flag.Int(\"plot_points\", 50, \"Number points to plot.\")\n",
    ")\n",
    "\n",
    "var (\n",
    "    // DType used for the model.\n",
    "    DType = shapes.Float32\n",
    "    \n",
    "    // EvalBatchSize can be larger than training, more efficient.\n",
    "    EvalBatchSize = 2000\n",
    ")\n",
    "\n",
    "\n",
    "func trainModel() {\n",
    "    // Make sure data is downloaded.\n",
    "    AssertDownloaded()\n",
    "\n",
    "    // Manager handles creation of ML computation graphs, accelerator resources, etc.\n",
    "    manager := BuildManager().NumThreads(*flagNumThreads).NumReplicas(*flagNumReplicas).Platform(*flagPlatform).MustDone()\n",
    "    fmt.Printf(\"Platform: %s\\n\", manager.Platform())\n",
    "\n",
    "    // Create datasets used for training and evaluation.\n",
    "    trainDS, err := cifar.NewDataset(\"Cifar-10 Batched Train\", *flagDataDir, cifar.C10, DType, cifar.Train, *flagBatchSize, false) // loops forever.\n",
    "    AssertNoError(err)\n",
    "    evalOnTestDS, err := cifar.NewDataset(\"Cifar-10 Eval On Test\", *flagDataDir, cifar.C10, DType, cifar.Test, EvalBatchSize, true) // 1 epoch.\n",
    "    AssertNoError(err)\n",
    "    evalOnTrainDS, err := cifar.NewDataset(\"Cifar-10 Eval On Train\", *flagDataDir, cifar.C10, DType, cifar.Train, EvalBatchSize, true) // 1 epoch.\n",
    "    AssertNoError(err)\n",
    "\n",
    "    // Create closure for model graph building function, that uses statically the dataset\n",
    "    // used for its `cifar.Dataset.GatherImageGraph`, to convert image indices to the actual images.\n",
    "    // This is the signature of model function that the train.Trainer accepts.\n",
    "    modelFn := FNNModelGraph\n",
    "    if *flagModel == \"cnn\" {\n",
    "        modelFn = CNNModelGraph\n",
    "    }\n",
    "\n",
    "    // Metrics we are interested.\n",
    "    meanAccuracyMetric := metrics.NewSparseCategoricalAccuracy(\"Mean Accuracy\", \"#acc\")\n",
    "    movingAccuracyMetric := metrics.NewMovingAverageSparseCategoricalAccuracy(\"Moving Average Accuracy\", \"~acc\", 0.01)\n",
    "\n",
    "    // Context holds the variables and hyperparameters for the model.\n",
    "    ctx := context.NewContext(manager)\n",
    "    ctx.SetParam(optimizers.LearningRateKey, *flagLearningRate)\n",
    "    ctx.SetParam(layers.L2RegularizationKey, *flagL2Regularization)\n",
    "\n",
    "    // Checkpoints saving.\n",
    "    var checkpoint *checkpoints.Handler\n",
    "    if *flagCheckpoint != \"\" {\n",
    "        checkpointPath := data.ReplaceTildeInDir(*flagCheckpoint)\n",
    "        if !path.IsAbs(checkpointPath) {\n",
    "            checkpointPath = path.Join(*flagDataDir, checkpointPath)\n",
    "        }\n",
    "        var err error\n",
    "        checkpoint, err = checkpoints.Build(ctx).Dir(checkpointPath).Keep(*flagCheckpointKeep).Done()\n",
    "        AssertNoError(err)\n",
    "    }\n",
    "\n",
    "    // Create a train.Trainer: this object will orchestrate running the model, feeding\n",
    "    // results to the optimizer, evaluating the metrics, etc. (all happens in trainer.TrainStep)\n",
    "    trainer := train.NewTrainer(manager, ctx, modelFn,\n",
    "        losses.SparseCategoricalCrossEntropyLogits,\n",
    "        optimizers.MustOptimizerByName(*flagOptimizer),\n",
    "        []metrics.Interface{movingAccuracyMetric}, // trainMetrics\n",
    "        []metrics.Interface{meanAccuracyMetric})   // evalMetrics\n",
    "\n",
    "    // Use standard training loop.\n",
    "    loop := train.NewLoop(trainer)\n",
    "    if *flagUseProgressBar {\n",
    "        commandline.AttachProgressBar(loop) // Attaches a progress bar to the loop.\n",
    "    }\n",
    "\n",
    "    // Attach a checkpoint.\n",
    "    if checkpoint != nil {\n",
    "        train.NTimesDuringLoop(loop, *flagCheckpointKeep, \"checkpointing\", 100, func(_ *train.Loop, _ []tensor.Tensor) error {\n",
    "            return checkpoint.Save()\n",
    "        })\n",
    "    }\n",
    "\n",
    "    // Attach a margaid plots.\n",
    "    if *flagNumPlotPoints > 0 {\n",
    "        margaid.New(1024, 400, evalOnTrainDS, evalOnTestDS).DynamicUpdates().Attach(loop, *flagNumPlotPoints)\n",
    "    }\n",
    "\n",
    "    // Loop for given number of steps.\n",
    "    _, err = loop.RunSteps(trainDS, *flagNumSteps)\n",
    "    AssertNoError(err)\n",
    "\n",
    "    // Finally print an evaluation on train and test datasets.\n",
    "    fmt.Println()\n",
    "    err = commandline.ReportEval(trainer, evalOnTrainDS, evalOnTestDS)\n",
    "    AssertNoError(err)\n",
    "    fmt.Println()\n",
    "\n",
    "    // Release memory -- not really needed since we are exiting, just for the example.\n",
    "    cifar.ResetCache()\n",
    "}\n",
    "\n",
    "%% --model=fnn --steps=500 --plot_points=0\n",
    "trainModel()"
   ]
  },
  {
   "cell_type": "markdown",
   "id": "300a8419-5679-42ba-9149-51c17c7c427d",
   "metadata": {},
   "source": [
    "### FNN Model Training\n",
    "\n",
    "Let's train the FNN for real this time."
   ]
  },
  {
   "cell_type": "code",
   "execution_count": 10,
   "id": "cf876f49-e737-4dfa-aa05-48aad3d7a128",
   "metadata": {
    "tags": []
   },
   "outputs": [
    {
     "name": "stdout",
     "output_type": "stream",
     "text": [
      "Platform: CUDA\n"
     ]
    },
    {
     "data": {
      "text/html": []
     },
     "metadata": {},
     "output_type": "display_data"
    },
    {
     "name": "stdout",
     "output_type": "stream",
     "text": [
      "Training (10000 steps):  100% [\u001b[32m=\u001b[0m\u001b[32m=\u001b[0m\u001b[32m=\u001b[0m\u001b[32m=\u001b[0m\u001b[32m=\u001b[0m\u001b[32m=\u001b[0m\u001b[32m=\u001b[0m\u001b[32m=\u001b[0m\u001b[32m=\u001b[0m\u001b[32m=\u001b[0m\u001b[32m=\u001b[0m\u001b[32m=\u001b[0m\u001b[32m=\u001b[0m\u001b[32m=\u001b[0m\u001b[32m=\u001b[0m\u001b[32m=\u001b[0m\u001b[32m=\u001b[0m\u001b[32m=\u001b[0m\u001b[32m=\u001b[0m\u001b[32m=\u001b[0m\u001b[32m=\u001b[0m\u001b[32m=\u001b[0m\u001b[32m=\u001b[0m\u001b[32m=\u001b[0m\u001b[32m=\u001b[0m\u001b[32m=\u001b[0m\u001b[32m=\u001b[0m\u001b[32m=\u001b[0m\u001b[32m=\u001b[0m\u001b[32m=\u001b[0m\u001b[32m=\u001b[0m\u001b[32m=\u001b[0m\u001b[32m=\u001b[0m\u001b[32m=\u001b[0m\u001b[32m=\u001b[0m\u001b[32m=\u001b[0m\u001b[32m=\u001b[0m\u001b[32m=\u001b[0m\u001b[32m=\u001b[0m\u001b[32m=\u001b[0m] (499 steps/s)\u001b[0m [loss=1.649] [~loss=1.404] [~acc=50.06%]        \n"
     ]
    },
    {
     "data": {
      "text/html": [
       "<svg preserveAspectRatio=\"xMidYMid meet\" xmlns=\"http://www.w3.org/2000/svg\" width=\"1024\" height=\"454\" viewbox=\"0 0 1024 400\" style=\"background-color:#f8f8f8\"><defs><marker id=\"circle\" viewBox=\"0 0 10 10 \" refX=\"5\" refY=\"5\" markerUnits=\"userSpaceOnUse\" markerWidth=\"2%\" markerHeight=\"2%\"><circle r=\"3\" fill=\"none\" stroke=\"black\" cx=\"5\" cy=\"5\"/></marker><marker markerHeight=\"2%\" id=\"filled-circle\" viewBox=\"0 0 10 10 \" refX=\"5\" refY=\"5\" markerUnits=\"userSpaceOnUse\" markerWidth=\"2%\"><circle fill=\"black\" stroke=\"none\" cx=\"5\" cy=\"5\" r=\"3\"/></marker><marker markerWidth=\"2%\" markerHeight=\"2%\" id=\"square\" viewBox=\"0 0 10 10 \" refX=\"5\" refY=\"5\" markerUnits=\"userSpaceOnUse\"><rect height=\"6\" fill=\"none\" stroke=\"black\" x=\"2\" y=\"2\" width=\"6\"/></marker><marker refY=\"5\" markerUnits=\"userSpaceOnUse\" markerWidth=\"2%\" markerHeight=\"2%\" id=\"filled-square\" viewBox=\"0 0 10 10 \" refX=\"5\"><rect x=\"2\" y=\"2\" width=\"6\" height=\"6\" fill=\"black\" stroke=\"none\"/></marker></defs><g stroke-linecap=\"round\" stroke-linejoin=\"round\" marker-start=\"url(#square)\" fill=\"none\" stroke=\"hsl(90, 47%, 65%)\" transform=\"translate(70 330 )scale(1 -1 )\" marker-mid=\"url(#square)\" stroke-width=\"2px\" marker-end=\"url(#square)\"><path vector-effect=\"non-scaling-stroke\" d=\"M1.768000e+01,5.334238e+00 L3.456962e+01,1.246795e+02 L5.154412e+01,1.463398e+02 L6.851862e+01,1.581767e+02 L8.549312e+01,1.636681e+02 L1.024676e+02,1.648274e+02 L1.194421e+02,1.776405e+02 L1.364166e+02,1.858165e+02 L1.533911e+02,1.773354e+02 L1.703656e+02,1.899045e+02 L1.873401e+02,1.948467e+02 L2.043146e+02,1.950908e+02 L2.212891e+02,1.941755e+02 L2.382636e+02,1.925281e+02 L2.552381e+02,2.005821e+02 L2.722126e+02,2.028397e+02 L2.891871e+02,2.052803e+02 L3.061616e+02,1.995449e+02 L3.231361e+02,2.061955e+02 L3.401106e+02,2.082700e+02 L3.570851e+02,2.137613e+02 L3.740596e+02,2.140054e+02 L3.910341e+02,2.127241e+02 L4.080086e+02,2.210221e+02 L4.249831e+02,2.196798e+02 L4.419576e+02,2.179714e+02 L4.589321e+02,2.205950e+02 L4.759066e+02,2.165680e+02 L4.928811e+02,2.259643e+02 L5.098556e+02,2.240729e+02 L5.268301e+02,2.207171e+02 L5.438045e+02,2.173002e+02 L5.607790e+02,2.266965e+02 L5.777535e+02,2.203510e+02 L5.947280e+02,2.267575e+02 L6.117025e+02,2.249271e+02 L6.286770e+02,2.294422e+02 L6.456515e+02,2.309066e+02 L6.626260e+02,2.303574e+02 L6.796005e+02,2.298083e+02 L6.965750e+02,2.345675e+02 L7.135495e+02,2.310896e+02 L7.305240e+02,2.328590e+02 L7.474985e+02,2.199239e+02 L7.644730e+02,2.397537e+02 L7.814475e+02,2.312116e+02 L7.984220e+02,2.354217e+02 L8.153965e+02,2.417672e+02 L8.323710e+02,2.342624e+02 L8.493455e+02,2.355437e+02 L8.663200e+02,2.337743e+02 \"/></g><g stroke-width=\"2px\" marker-end=\"url(#square)\" stroke-linecap=\"round\" marker-start=\"url(#square)\" transform=\"translate(70 330 )scale(1 -1 )\" fill=\"none\" stroke=\"hsl(301, 88%, 65%)\" stroke-linejoin=\"round\" marker-mid=\"url(#square)\"><path vector-effect=\"non-scaling-stroke\" d=\"M1.768000e+01,5.200000e+00 L3.456962e+01,1.217264e+02 L5.154412e+01,1.438016e+02 L6.851862e+01,1.572005e+02 L8.549312e+01,1.632043e+02 L1.024676e+02,1.675364e+02 L1.194421e+02,1.763836e+02 L1.364166e+02,1.827535e+02 L1.533911e+02,1.737843e+02 L1.703656e+02,1.878178e+02 L1.873401e+02,1.932115e+02 L2.043146e+02,1.970432e+02 L2.212891e+02,1.974337e+02 L2.382636e+02,1.946270e+02 L2.552381e+02,2.019854e+02 L2.722126e+02,2.036573e+02 L2.891871e+02,2.074280e+02 L3.061616e+02,2.019366e+02 L3.231361e+02,2.089900e+02 L3.401106e+02,2.141884e+02 L3.570851e+02,2.186547e+02 L3.740596e+02,2.176907e+02 L3.910341e+02,2.197896e+02 L4.080086e+02,2.262816e+02 L4.249831e+02,2.265623e+02 L4.419576e+02,2.251223e+02 L4.589321e+02,2.267941e+02 L4.759066e+02,2.224987e+02 L4.928811e+02,2.319560e+02 L5.098556e+02,2.298571e+02 L5.268301e+02,2.308577e+02 L5.438045e+02,2.254884e+02 L5.607790e+02,2.367030e+02 L5.777535e+02,2.308455e+02 L5.947280e+02,2.371301e+02 L6.117025e+02,2.375450e+02 L6.286770e+02,2.367396e+02 L6.456515e+02,2.413401e+02 L6.626260e+02,2.413645e+02 L6.796005e+02,2.438417e+02 L6.965750e+02,2.462091e+02 L7.135495e+02,2.455989e+02 L7.305240e+02,2.463311e+02 L7.474985e+02,2.315655e+02 L7.644730e+02,2.513831e+02 L7.814475e+02,2.471853e+02 L7.984220e+02,2.510537e+02 L8.153965e+02,2.548000e+02 L8.323710e+02,2.499066e+02 L8.493455e+02,2.487107e+02 L8.663200e+02,2.462457e+02 \"/></g><g stroke-width=\"2px\" stroke-linejoin=\"round\" marker-start=\"url(#square)\" marker-mid=\"url(#square)\" fill=\"none\" stroke=\"hsl(152, 76%, 65%)\" marker-end=\"url(#square)\" stroke-linecap=\"round\" transform=\"translate(70 330 )scale(1 -1 )\"><path d=\"M1.768000e+01,1.747621e+01 L3.456962e+01,9.251696e+01 L5.154412e+01,1.324369e+02 L6.851862e+01,1.465925e+02 L8.549312e+01,1.520327e+02 L1.024676e+02,1.620528e+02 L1.194421e+02,1.739560e+02 L1.364166e+02,1.768560e+02 L1.533911e+02,1.781083e+02 L1.703656e+02,1.903197e+02 L1.873401e+02,1.848931e+02 L2.043146e+02,1.933361e+02 L2.212891e+02,1.949344e+02 L2.382636e+02,2.020442e+02 L2.552381e+02,2.055182e+02 L2.722126e+02,1.931626e+02 L2.891871e+02,2.093518e+02 L3.061616e+02,2.066754e+02 L3.231361e+02,2.115768e+02 L3.401106e+02,2.139687e+02 L3.570851e+02,2.081980e+02 L3.740596e+02,2.159419e+02 L3.910341e+02,2.166123e+02 L4.080086e+02,2.115211e+02 L4.249831e+02,2.178243e+02 L4.419576e+02,2.125883e+02 L4.589321e+02,2.212618e+02 L4.759066e+02,2.239542e+02 L4.928811e+02,2.230833e+02 L5.098556e+02,2.284884e+02 L5.268301e+02,2.362296e+02 L5.438045e+02,2.281000e+02 L5.607790e+02,2.299147e+02 L5.777535e+02,2.359677e+02 L5.947280e+02,2.358159e+02 L6.117025e+02,2.390376e+02 L6.286770e+02,2.337464e+02 L6.456515e+02,2.403578e+02 L6.626260e+02,2.356440e+02 L6.796005e+02,2.397805e+02 L6.965750e+02,2.397182e+02 L7.135495e+02,2.476300e+02 L7.305240e+02,2.419797e+02 L7.474985e+02,2.408903e+02 L7.644730e+02,2.407078e+02 L7.814475e+02,2.390035e+02 L7.984220e+02,2.419717e+02 L8.153965e+02,2.501910e+02 L8.323710e+02,2.504525e+02 L8.493455e+02,2.527441e+02 L8.663200e+02,2.496809e+02 \" vector-effect=\"non-scaling-stroke\"/></g><g fill=\"none\" stroke=\"black\" stroke-width=\"2px\" stroke-linecap=\"round\" stroke-linejoin=\"round\" transform=\"translate(70 330 )scale(1 -1 )\"><path vector-effect=\"non-scaling-stroke\" d=\"M1.768000e+01,0 L1.768000e+01,-6 M1.025525e+02,0 L1.025525e+02,-6 M1.874250e+02,0 L1.874250e+02,-6 M2.722975e+02,0 L2.722975e+02,-6 M3.571699e+02,0 L3.571699e+02,-6 M4.420424e+02,0 L4.420424e+02,-6 M5.269149e+02,0 L5.269149e+02,-6 M6.117874e+02,0 L6.117874e+02,-6 M6.966599e+02,0 L6.966599e+02,-6 M7.815324e+02,0 L7.815324e+02,-6 \"/></g><g stroke=\"black\" font-weight=\"normal\" text-anchor=\"middle\" stroke-linejoin=\"round\" font-size=\"12px\" font-style=\"normal\" dominant-baseline=\"hanging\" fill=\"black\" stroke-width=\"2px\" transform=\"translate(70 330 )scale(1 1 )\" stroke-linecap=\"round\" font-family=\"sans-serif\"><text dominant-baseline=\"hanging\" stroke=\"none\" vector-effect=\"non-scaling-stroke\" x=\"1.768000e+01\" y=\"10\">0</text><text stroke=\"none\" vector-effect=\"non-scaling-stroke\" x=\"1.025525e+02\" y=\"10\" dominant-baseline=\"hanging\">1000</text><text dominant-baseline=\"hanging\" stroke=\"none\" vector-effect=\"non-scaling-stroke\" x=\"1.874250e+02\" y=\"10\">2000</text><text y=\"10\" dominant-baseline=\"hanging\" stroke=\"none\" vector-effect=\"non-scaling-stroke\" x=\"2.722975e+02\">3000</text><text stroke=\"none\" vector-effect=\"non-scaling-stroke\" x=\"3.571699e+02\" y=\"10\" dominant-baseline=\"hanging\">4000</text><text stroke=\"none\" vector-effect=\"non-scaling-stroke\" x=\"4.420424e+02\" y=\"10\" dominant-baseline=\"hanging\">5000</text><text y=\"10\" dominant-baseline=\"hanging\" stroke=\"none\" vector-effect=\"non-scaling-stroke\" x=\"5.269149e+02\">6000</text><text stroke=\"none\" vector-effect=\"non-scaling-stroke\" x=\"6.117874e+02\" y=\"10\" dominant-baseline=\"hanging\">7000</text><text stroke=\"none\" vector-effect=\"non-scaling-stroke\" x=\"6.966599e+02\" y=\"10\" dominant-baseline=\"hanging\">8000</text><text y=\"10\" dominant-baseline=\"hanging\" stroke=\"none\" vector-effect=\"non-scaling-stroke\" x=\"7.815324e+02\">9000</text></g><g text-anchor=\"middle\" stroke-linecap=\"round\" stroke-linejoin=\"round\" font-size=\"12px\" font-style=\"normal\" dominant-baseline=\"baseline\" font-family=\"sans-serif\" stroke-width=\"2px\" transform=\"translate(70 330 )scale(1 1 )rotate(0 0 0 )\" font-weight=\"bold\" fill=\"black\" stroke=\"black\"><text x=\"442\" y=\"-6\" dominant-baseline=\"baseline\" stroke=\"none\" vector-effect=\"non-scaling-stroke\">Steps</text></g><g transform=\"translate(70 330 )scale(1 -1 )\" font-family=\"sans-serif\" fill=\"black\" stroke=\"black\" font-style=\"normal\" stroke-linejoin=\"round\" stroke-width=\"2px\" text-anchor=\"middle\" dominant-baseline=\"baseline\" font-size=\"12px\" stroke-linecap=\"round\" font-weight=\"bold\"><path vector-effect=\"non-scaling-stroke\" d=\"M0,5.273221e+00 L-6,5.273221e+00 M0,6.628818e+01 L-6,6.628818e+01 M0,1.273031e+02 L-6,1.273031e+02 M0,1.883181e+02 L-6,1.883181e+02 M0,2.493331e+02 L-6,2.493331e+02 \"/></g><g stroke-linecap=\"round\" font-weight=\"normal\" stroke-width=\"2px\" transform=\"translate(70 330 )scale(1 1 )\" stroke=\"black\" stroke-linejoin=\"round\" font-size=\"12px\" font-style=\"normal\" font-family=\"sans-serif\" text-anchor=\"end\" dominant-baseline=\"middle\" fill=\"black\"><text stroke=\"none\" vector-effect=\"non-scaling-stroke\" x=\"-10\" y=\"-5.273221e+00\" dominant-baseline=\"middle\">0.100</text><text dominant-baseline=\"middle\" stroke=\"none\" vector-effect=\"non-scaling-stroke\" x=\"-10\" y=\"-6.628818e+01\">0.200</text><text stroke=\"none\" vector-effect=\"non-scaling-stroke\" x=\"-10\" y=\"-1.273031e+02\" dominant-baseline=\"middle\">0.300</text><text stroke=\"none\" vector-effect=\"non-scaling-stroke\" x=\"-10\" y=\"-1.883181e+02\" dominant-baseline=\"middle\">0.400</text><text stroke=\"none\" vector-effect=\"non-scaling-stroke\" x=\"-10\" y=\"-2.493331e+02\" dominant-baseline=\"middle\">0.500</text></g><g dominant-baseline=\"hanging\" fill=\"black\" stroke=\"black\" font-family=\"sans-serif\" stroke-linecap=\"round\" font-size=\"12px\" stroke-width=\"2px\" transform=\"translate(70 330 )scale(1 1 )rotate(-90 0 0 )\" font-weight=\"bold\" text-anchor=\"middle\" stroke-linejoin=\"round\" font-style=\"normal\"><text vector-effect=\"non-scaling-stroke\" x=\"130\" y=\"6\" dominant-baseline=\"hanging\" stroke=\"none\">accuracy</text></g><g text-anchor=\"middle\" dominant-baseline=\"hanging\" stroke=\"gray\" font-family=\"sans-serif\" font-weight=\"bold\" stroke-linecap=\"round\" stroke-linejoin=\"round\" font-size=\"12px\" font-style=\"normal\" fill=\"black\" stroke-width=\"0.5px\" transform=\"translate(70 330 )scale(1 -1 )\"><path vector-effect=\"non-scaling-stroke\" d=\"M0,5.273221e+00 L884,5.273221e+00 M0,6.628818e+01 L884,6.628818e+01 M0,1.273031e+02 L884,1.273031e+02 M0,1.883181e+02 L884,1.883181e+02 M0,2.493331e+02 L884,2.493331e+02 \"/></g><g stroke-linecap=\"round\" font-size=\"12px\" fill=\"none\" stroke-width=\"2px\" stroke-linejoin=\"round\" font-style=\"normal\" dominant-baseline=\"hanging\" stroke=\"black\" font-family=\"sans-serif\" font-weight=\"bold\" text-anchor=\"middle\"><rect vector-effect=\"non-scaling-stroke\" x=\"70\" y=\"70\" width=\"884\" height=\"260\"/><g font-size=\"18px\" dominant-baseline=\"middle\" fill=\"black\"><text y=\"35\" dominant-baseline=\"middle\" stroke=\"none\" vector-effect=\"non-scaling-stroke\" x=\"512\">accuracy metrics</text></g><g font-weight=\"normal\" stroke=\"hsl(90, 47%, 65%)\" stroke-width=\"1px\" font-size=\"12px\" stroke-linecap=\"round\" stroke-linejoin=\"round\" font-family=\"sans-serif\" text-anchor=\"start\" dominant-baseline=\"hanging\" fill=\"hsl(90, 47%, 65%)\" font-style=\"normal\"><rect height=\"12\" vector-effect=\"non-scaling-stroke\" x=\"76\" y=\"366\" width=\"12\"/><g fill=\"black\" stroke=\"black\"><text stroke=\"none\" vector-effect=\"non-scaling-stroke\" x=\"92\" y=\"366\" dominant-baseline=\"hanging\">Eval on Cifar-10 Eval On Test: Mean Accuracy</text></g><g font-family=\"sans-serif\" stroke-width=\"1px\" stroke-linecap=\"round\" stroke-linejoin=\"round\" font-style=\"normal\" dominant-baseline=\"hanging\" fill=\"hsl(301, 88%, 65%)\" stroke=\"hsl(301, 88%, 65%)\" font-size=\"12px\" font-weight=\"normal\" text-anchor=\"start\"><rect vector-effect=\"non-scaling-stroke\" x=\"76\" y=\"384\" width=\"12\" height=\"12\"/><g stroke=\"black\" fill=\"black\"><text vector-effect=\"non-scaling-stroke\" x=\"92\" y=\"384\" dominant-baseline=\"hanging\" stroke=\"none\">Eval on Cifar-10 Eval On Train: Mean Accuracy</text></g><g fill=\"hsl(152, 76%, 65%)\" font-size=\"12px\" font-style=\"normal\" text-anchor=\"start\" dominant-baseline=\"hanging\" stroke=\"hsl(152, 76%, 65%)\" stroke-width=\"1px\" font-family=\"sans-serif\" font-weight=\"normal\" stroke-linecap=\"round\" stroke-linejoin=\"round\"><rect height=\"12\" vector-effect=\"non-scaling-stroke\" x=\"76\" y=\"402\" width=\"12\"/><g fill=\"black\" stroke=\"black\"><text y=\"402\" dominant-baseline=\"hanging\" stroke=\"none\" vector-effect=\"non-scaling-stroke\" x=\"92\">Train: Moving Average Accuracy</text></g></g></g></g></g></svg>"
      ]
     },
     "metadata": {},
     "output_type": "display_data"
    },
    {
     "name": "stdout",
     "output_type": "stream",
     "text": [
      "\n",
      "Results on Cifar-10 Eval On Train:\n"
     ]
    },
    {
     "data": {
      "text/html": [
       "<svg preserveAspectRatio=\"xMidYMid meet\" xmlns=\"http://www.w3.org/2000/svg\" width=\"1024\" height=\"472\" viewbox=\"0 0 1024 400\" style=\"background-color:#f8f8f8\"><defs><marker viewBox=\"0 0 10 10 \" refX=\"5\" refY=\"5\" markerUnits=\"userSpaceOnUse\" markerWidth=\"2%\" markerHeight=\"2%\" id=\"circle\"><circle cx=\"5\" cy=\"5\" r=\"3\" fill=\"none\" stroke=\"black\"/></marker><marker markerHeight=\"2%\" id=\"filled-circle\" viewBox=\"0 0 10 10 \" refX=\"5\" refY=\"5\" markerUnits=\"userSpaceOnUse\" markerWidth=\"2%\"><circle cx=\"5\" cy=\"5\" r=\"3\" fill=\"black\" stroke=\"none\"/></marker><marker refX=\"5\" refY=\"5\" markerUnits=\"userSpaceOnUse\" markerWidth=\"2%\" markerHeight=\"2%\" id=\"square\" viewBox=\"0 0 10 10 \"><rect x=\"2\" y=\"2\" width=\"6\" height=\"6\" fill=\"none\" stroke=\"black\"/></marker><marker id=\"filled-square\" viewBox=\"0 0 10 10 \" refX=\"5\" refY=\"5\" markerUnits=\"userSpaceOnUse\" markerWidth=\"2%\" markerHeight=\"2%\"><rect x=\"2\" y=\"2\" width=\"6\" height=\"6\" fill=\"black\" stroke=\"none\"/></marker></defs><g marker-start=\"url(#square)\" marker-end=\"url(#square)\" transform=\"translate(70 330 )scale(1 -1 )\" stroke-linejoin=\"round\" stroke-width=\"2px\" marker-mid=\"url(#square)\" stroke-linecap=\"round\" fill=\"none\" stroke=\"hsl(90, 47%, 65%)\"><path vector-effect=\"non-scaling-stroke\" d=\"M1.768000e+01,2.546931e+02 L3.456962e+01,1.843830e+02 L5.154412e+01,1.611981e+02 L6.851862e+01,1.500304e+02 L8.549312e+01,1.418832e+02 L1.024676e+02,1.370555e+02 L1.194421e+02,1.276249e+02 L1.364166e+02,1.237893e+02 L1.533911e+02,1.307531e+02 L1.703656e+02,1.158471e+02 L1.873401e+02,1.129429e+02 L2.043146e+02,1.095010e+02 L2.212891e+02,1.071889e+02 L2.382636e+02,1.121350e+02 L2.552381e+02,1.039930e+02 L2.722126e+02,1.030790e+02 L2.891871e+02,9.764533e+01 L3.061616e+02,1.019646e+02 L3.231361e+02,9.554825e+01 L3.401106e+02,9.494476e+01 L3.570851e+02,9.106808e+01 L3.740596e+02,9.030730e+01 L3.910341e+02,8.803993e+01 L4.080086e+02,8.404134e+01 L4.249831e+02,8.385262e+01 L4.419576e+02,8.403131e+01 L4.589321e+02,8.331934e+01 L4.759066e+02,8.484511e+01 L4.928811e+02,7.884697e+01 L5.098556e+02,8.259938e+01 L5.268301e+02,7.941964e+01 L5.438045e+02,8.240830e+01 L5.607790e+02,7.744646e+01 L5.777535e+02,8.150302e+01 L5.947280e+02,7.542366e+01 L6.117025e+02,7.540212e+01 L6.286770e+02,7.466087e+01 L6.456515e+02,7.194981e+01 L6.626260e+02,7.230194e+01 L6.796005e+02,7.233983e+01 L6.965750e+02,6.936961e+01 L7.135495e+02,7.079259e+01 L7.305240e+02,6.982854e+01 L7.474985e+02,8.004583e+01 L7.644730e+02,6.493241e+01 L7.814475e+02,6.950089e+01 L7.984220e+02,6.681373e+01 L8.153965e+02,6.274711e+01 L8.323710e+02,6.752514e+01 L8.493455e+02,6.969030e+01 L8.663200e+02,7.108193e+01 \"/></g><g fill=\"none\" marker-end=\"url(#square)\" stroke-linejoin=\"round\" marker-start=\"url(#square)\" marker-mid=\"url(#square)\" transform=\"translate(70 330 )scale(1 -1 )\" stroke-linecap=\"round\" stroke=\"hsl(301, 88%, 65%)\" stroke-width=\"2px\"><path d=\"M1.768000e+01,2.548000e+02 L3.456962e+01,1.845759e+02 L5.154412e+01,1.608492e+02 L6.851862e+01,1.497133e+02 L8.549312e+01,1.415461e+02 L1.024676e+02,1.365408e+02 L1.194421e+02,1.275429e+02 L1.364166e+02,1.234738e+02 L1.533911e+02,1.303590e+02 L1.703656e+02,1.156176e+02 L1.873401e+02,1.117519e+02 L2.043146e+02,1.086260e+02 L2.212891e+02,1.056096e+02 L2.382636e+02,1.098351e+02 L2.552381e+02,1.020596e+02 L2.722126e+02,1.007697e+02 L2.891871e+02,9.557924e+01 L3.061616e+02,1.000745e+02 L3.231361e+02,9.211617e+01 L3.401106e+02,9.140182e+01 L3.570851e+02,8.764513e+01 L3.740596e+02,8.646489e+01 L3.910341e+02,8.445059e+01 L4.080086e+02,7.913093e+01 L4.249831e+02,7.847748e+01 L4.419576e+02,7.849797e+01 L4.589321e+02,7.765250e+01 L4.759066e+02,7.886589e+01 L4.928811e+02,7.289674e+01 L5.098556e+02,7.566974e+01 L5.268301e+02,7.264244e+01 L5.438045e+02,7.546097e+01 L5.607790e+02,6.915981e+01 L5.777535e+02,7.350109e+01 L5.947280e+02,6.707721e+01 L6.117025e+02,6.709827e+01 L6.286770e+02,6.589754e+01 L6.456515e+02,6.238047e+01 L6.626260e+02,6.215262e+01 L6.796005e+02,6.181670e+01 L6.965750e+02,5.758477e+01 L7.135495e+02,5.832834e+01 L7.305240e+02,5.678100e+01 L7.474985e+02,6.870893e+01 L7.644730e+02,5.168608e+01 L7.814475e+02,5.679065e+01 L7.984220e+02,5.266876e+01 L8.153965e+02,4.917112e+01 L8.323710e+02,5.342404e+01 L8.493455e+02,5.492743e+01 L8.663200e+02,5.708530e+01 \" vector-effect=\"non-scaling-stroke\"/></g><g marker-start=\"url(#square)\" fill=\"none\" marker-mid=\"url(#square)\" stroke-linecap=\"round\" stroke-linejoin=\"round\" stroke-width=\"2px\" transform=\"translate(70 330 )scale(1 -1 )\" marker-end=\"url(#square)\" stroke=\"hsl(152, 76%, 65%)\"><path d=\"M1.768000e+01,2.527291e+02 L3.456962e+01,1.940070e+02 L5.154412e+01,1.624862e+02 L6.851862e+01,1.194790e+02 L8.549312e+01,1.607007e+02 L1.024676e+02,1.047267e+02 L1.194421e+02,8.637671e+01 L1.364166e+02,1.065630e+02 L1.533911e+02,1.609089e+02 L1.703656e+02,1.435651e+02 L1.873401e+02,1.351134e+02 L2.043146e+02,1.157702e+02 L2.212891e+02,1.210660e+02 L2.382636e+02,1.061217e+02 L2.552381e+02,1.284541e+02 L2.722126e+02,1.456315e+02 L2.891871e+02,1.021098e+02 L3.061616e+02,1.114462e+02 L3.231361e+02,1.180365e+02 L3.401106e+02,4.350835e+01 L3.570851e+02,9.903596e+01 L3.740596e+02,6.884661e+01 L3.910341e+02,1.282711e+02 L4.080086e+02,9.175212e+01 L4.249831e+02,8.772022e+01 L4.419576e+02,5.146685e+01 L4.589321e+02,8.097394e+01 L4.759066e+02,4.365232e+01 L4.928811e+02,7.101464e+01 L5.098556e+02,1.020066e+02 L5.268301e+02,5.523223e+01 L5.438045e+02,1.288845e+02 L5.607790e+02,3.069593e+01 L5.777535e+02,9.160823e+01 L5.947280e+02,1.495418e+02 L6.117025e+02,7.144128e+01 L6.286770e+02,2.052552e+01 L6.456515e+02,7.608573e+01 L6.626260e+02,5.200000e+00 L6.796005e+02,3.625656e+01 L6.965750e+02,6.487861e+01 L7.135495e+02,4.479910e+01 L7.305240e+02,4.162431e+01 L7.474985e+02,3.772009e+01 L7.644730e+02,6.776720e+01 L7.814475e+02,5.910003e+01 L7.984220e+02,5.474261e+01 L8.153965e+02,9.243666e+00 L8.323710e+02,5.402288e+00 L8.493455e+02,4.060747e+01 L8.663200e+02,1.056949e+02 \" vector-effect=\"non-scaling-stroke\"/></g><g stroke-linecap=\"round\" marker-start=\"url(#square)\" marker-end=\"url(#square)\" fill=\"none\" stroke=\"hsl(3, 64%, 65%)\" stroke-width=\"2px\" marker-mid=\"url(#square)\" stroke-linejoin=\"round\" transform=\"translate(70 330 )scale(1 -1 )\"><path vector-effect=\"non-scaling-stroke\" d=\"M1.768000e+01,2.527291e+02 L3.456962e+01,2.076449e+02 L5.154412e+01,1.755645e+02 L6.851862e+01,1.576237e+02 L8.549312e+01,1.484092e+02 L1.024676e+02,1.404187e+02 L1.194421e+02,1.302200e+02 L1.364166e+02,1.280439e+02 L1.533911e+02,1.228994e+02 L1.703656e+02,1.151747e+02 L1.873401e+02,1.176928e+02 L2.043146e+02,1.116793e+02 L2.212891e+02,1.101543e+02 L2.382636e+02,1.054865e+02 L2.552381e+02,1.026050e+02 L2.722126e+02,1.054281e+02 L2.891871e+02,9.689639e+01 L3.061616e+02,9.815722e+01 L3.231361e+02,9.331838e+01 L3.401106e+02,9.000106e+01 L3.570851e+02,9.586057e+01 L3.740596e+02,8.862980e+01 L3.910341e+02,8.567085e+01 L4.080086e+02,8.804654e+01 L4.249831e+02,8.401715e+01 L4.419576e+02,8.288872e+01 L4.589321e+02,8.138472e+01 L4.759066e+02,8.153357e+01 L4.928811e+02,8.147598e+01 L5.098556e+02,7.901233e+01 L5.268301e+02,7.208721e+01 L5.438045e+02,7.462866e+01 L5.607790e+02,7.258374e+01 L5.777535e+02,7.031056e+01 L5.947280e+02,7.210984e+01 L6.117025e+02,6.514835e+01 L6.286770e+02,7.018364e+01 L6.456515e+02,6.308050e+01 L6.626260e+02,6.531024e+01 L6.796005e+02,6.371046e+01 L6.965750e+02,6.299523e+01 L7.135495e+02,5.991717e+01 L7.305240e+02,5.685006e+01 L7.474985e+02,6.118281e+01 L7.644730e+02,5.957534e+01 L7.814475e+02,6.064176e+01 L7.984220e+02,5.984156e+01 L8.153965e+02,5.306536e+01 L8.323710e+02,5.511164e+01 L8.493455e+02,5.453894e+01 L8.663200e+02,5.402788e+01 \"/></g><g stroke-linecap=\"round\" stroke-linejoin=\"round\" stroke-width=\"2px\" transform=\"translate(70 330 )scale(1 -1 )\" fill=\"none\" stroke=\"black\"><path vector-effect=\"non-scaling-stroke\" d=\"M1.768000e+01,0 L1.768000e+01,-6 M1.025525e+02,0 L1.025525e+02,-6 M1.874250e+02,0 L1.874250e+02,-6 M2.722975e+02,0 L2.722975e+02,-6 M3.571699e+02,0 L3.571699e+02,-6 M4.420424e+02,0 L4.420424e+02,-6 M5.269149e+02,0 L5.269149e+02,-6 M6.117874e+02,0 L6.117874e+02,-6 M6.966599e+02,0 L6.966599e+02,-6 M7.815324e+02,0 L7.815324e+02,-6 \"/></g><g stroke-linejoin=\"round\" font-size=\"12px\" font-family=\"sans-serif\" stroke=\"black\" stroke-width=\"2px\" font-weight=\"normal\" stroke-linecap=\"round\" font-style=\"normal\" text-anchor=\"middle\" dominant-baseline=\"hanging\" fill=\"black\" transform=\"translate(70 330 )scale(1 1 )\"><text stroke=\"none\" vector-effect=\"non-scaling-stroke\" x=\"1.768000e+01\" y=\"10\" dominant-baseline=\"hanging\">0</text><text x=\"1.025525e+02\" y=\"10\" dominant-baseline=\"hanging\" stroke=\"none\" vector-effect=\"non-scaling-stroke\">1000</text><text dominant-baseline=\"hanging\" stroke=\"none\" vector-effect=\"non-scaling-stroke\" x=\"1.874250e+02\" y=\"10\">2000</text><text dominant-baseline=\"hanging\" stroke=\"none\" vector-effect=\"non-scaling-stroke\" x=\"2.722975e+02\" y=\"10\">3000</text><text stroke=\"none\" vector-effect=\"non-scaling-stroke\" x=\"3.571699e+02\" y=\"10\" dominant-baseline=\"hanging\">4000</text><text x=\"4.420424e+02\" y=\"10\" dominant-baseline=\"hanging\" stroke=\"none\" vector-effect=\"non-scaling-stroke\">5000</text><text x=\"5.269149e+02\" y=\"10\" dominant-baseline=\"hanging\" stroke=\"none\" vector-effect=\"non-scaling-stroke\">6000</text><text stroke=\"none\" vector-effect=\"non-scaling-stroke\" x=\"6.117874e+02\" y=\"10\" dominant-baseline=\"hanging\">7000</text><text dominant-baseline=\"hanging\" stroke=\"none\" vector-effect=\"non-scaling-stroke\" x=\"6.966599e+02\" y=\"10\">8000</text><text vector-effect=\"non-scaling-stroke\" x=\"7.815324e+02\" y=\"10\" dominant-baseline=\"hanging\" stroke=\"none\">9000</text></g><g font-family=\"sans-serif\" font-size=\"12px\" font-style=\"normal\" dominant-baseline=\"baseline\" stroke=\"black\" stroke-width=\"2px\" text-anchor=\"middle\" stroke-linecap=\"round\" stroke-linejoin=\"round\" font-weight=\"bold\" fill=\"black\" transform=\"translate(70 330 )scale(1 1 )rotate(0 0 0 )\"><text vector-effect=\"non-scaling-stroke\" x=\"442\" y=\"-6\" dominant-baseline=\"baseline\" stroke=\"none\">Steps</text></g><g font-size=\"12px\" font-style=\"normal\" stroke-width=\"2px\" text-anchor=\"middle\" font-family=\"sans-serif\" dominant-baseline=\"baseline\" fill=\"black\" stroke-linejoin=\"round\" font-weight=\"bold\" stroke-linecap=\"round\" stroke=\"black\" transform=\"translate(70 330 )scale(1 -1 )\"><path d=\"M0,1.097955e+01 L-6,1.097955e+01 M0,7.424206e+01 L-6,7.424206e+01 M0,1.375046e+02 L-6,1.375046e+02 M0,2.007671e+02 L-6,2.007671e+02 \" vector-effect=\"non-scaling-stroke\"/></g><g font-style=\"normal\" fill=\"black\" stroke=\"black\" stroke-width=\"2px\" transform=\"translate(70 330 )scale(1 1 )\" text-anchor=\"end\" stroke-linecap=\"round\" font-size=\"12px\" font-weight=\"normal\" font-family=\"sans-serif\" dominant-baseline=\"middle\" stroke-linejoin=\"round\"><text stroke=\"none\" vector-effect=\"non-scaling-stroke\" x=\"-10\" y=\"-1.097955e+01\" dominant-baseline=\"middle\">1.200</text><text y=\"-7.424206e+01\" dominant-baseline=\"middle\" stroke=\"none\" vector-effect=\"non-scaling-stroke\" x=\"-10\">1.500</text><text y=\"-1.375046e+02\" dominant-baseline=\"middle\" stroke=\"none\" vector-effect=\"non-scaling-stroke\" x=\"-10\">1.800</text><text x=\"-10\" y=\"-2.007671e+02\" dominant-baseline=\"middle\" stroke=\"none\" vector-effect=\"non-scaling-stroke\">2.100</text></g><g stroke=\"black\" stroke-width=\"2px\" font-family=\"sans-serif\" stroke-linecap=\"round\" stroke-linejoin=\"round\" font-size=\"12px\" font-style=\"normal\" font-weight=\"bold\" fill=\"black\" transform=\"translate(70 330 )scale(1 1 )rotate(-90 0 0 )\" text-anchor=\"middle\" dominant-baseline=\"hanging\"><text y=\"6\" dominant-baseline=\"hanging\" stroke=\"none\" vector-effect=\"non-scaling-stroke\" x=\"130\">loss</text></g><g text-anchor=\"middle\" stroke-width=\"0.5px\" font-family=\"sans-serif\" stroke-linecap=\"round\" stroke-linejoin=\"round\" font-size=\"12px\" font-weight=\"bold\" dominant-baseline=\"hanging\" fill=\"black\" stroke=\"gray\" transform=\"translate(70 330 )scale(1 -1 )\" font-style=\"normal\"><path vector-effect=\"non-scaling-stroke\" d=\"M0,1.097955e+01 L884,1.097955e+01 M0,7.424206e+01 L884,7.424206e+01 M0,1.375046e+02 L884,1.375046e+02 M0,2.007671e+02 L884,2.007671e+02 \"/></g><g font-style=\"normal\" font-family=\"sans-serif\" dominant-baseline=\"hanging\" fill=\"none\" font-weight=\"bold\" stroke-linecap=\"round\" stroke-linejoin=\"round\" font-size=\"12px\" stroke-width=\"2px\" text-anchor=\"middle\" stroke=\"black\"><rect vector-effect=\"non-scaling-stroke\" x=\"70\" y=\"70\" width=\"884\" height=\"260\"/><g dominant-baseline=\"middle\" fill=\"black\" font-size=\"18px\"><text stroke=\"none\" vector-effect=\"non-scaling-stroke\" x=\"512\" y=\"35\" dominant-baseline=\"middle\">loss metrics</text></g><g font-size=\"12px\" stroke=\"hsl(90, 47%, 65%)\" font-family=\"sans-serif\" stroke-linecap=\"round\" stroke-linejoin=\"round\" fill=\"hsl(90, 47%, 65%)\" stroke-width=\"1px\" text-anchor=\"start\" dominant-baseline=\"hanging\" font-style=\"normal\" font-weight=\"normal\"><rect height=\"12\" vector-effect=\"non-scaling-stroke\" x=\"76\" y=\"366\" width=\"12\"/><g stroke=\"black\" fill=\"black\"><text dominant-baseline=\"hanging\" stroke=\"none\" vector-effect=\"non-scaling-stroke\" x=\"92\" y=\"366\">Eval on Cifar-10 Eval On Test: Mean Loss</text></g><g dominant-baseline=\"hanging\" fill=\"hsl(301, 88%, 65%)\" font-weight=\"normal\" stroke-linejoin=\"round\" font-style=\"normal\" font-family=\"sans-serif\" text-anchor=\"start\" stroke=\"hsl(301, 88%, 65%)\" stroke-width=\"1px\" stroke-linecap=\"round\" font-size=\"12px\"><rect width=\"12\" height=\"12\" vector-effect=\"non-scaling-stroke\" x=\"76\" y=\"384\"/><g fill=\"black\" stroke=\"black\"><text dominant-baseline=\"hanging\" stroke=\"none\" vector-effect=\"non-scaling-stroke\" x=\"92\" y=\"384\">Eval on Cifar-10 Eval On Train: Mean Loss</text></g><g font-style=\"normal\" font-weight=\"normal\" fill=\"hsl(152, 76%, 65%)\" stroke-width=\"1px\" font-family=\"sans-serif\" text-anchor=\"start\" font-size=\"12px\" dominant-baseline=\"hanging\" stroke=\"hsl(152, 76%, 65%)\" stroke-linecap=\"round\" stroke-linejoin=\"round\"><rect vector-effect=\"non-scaling-stroke\" x=\"76\" y=\"402\" width=\"12\" height=\"12\"/><g fill=\"black\" stroke=\"black\"><text dominant-baseline=\"hanging\" stroke=\"none\" vector-effect=\"non-scaling-stroke\" x=\"92\" y=\"402\">Train: Batch Loss</text></g><g fill=\"hsl(3, 64%, 65%)\" stroke=\"hsl(3, 64%, 65%)\" stroke-width=\"1px\" stroke-linecap=\"round\" dominant-baseline=\"hanging\" font-style=\"normal\" font-weight=\"normal\" font-family=\"sans-serif\" text-anchor=\"start\" stroke-linejoin=\"round\" font-size=\"12px\"><rect height=\"12\" vector-effect=\"non-scaling-stroke\" x=\"76\" y=\"420\" width=\"12\"/><g fill=\"black\" stroke=\"black\"><text x=\"92\" y=\"420\" dominant-baseline=\"hanging\" stroke=\"none\" vector-effect=\"non-scaling-stroke\">Train: Moving Average Loss</text></g></g></g></g></g></g></svg>"
      ]
     },
     "metadata": {},
     "output_type": "display_data"
    },
    {
     "name": "stdout",
     "output_type": "stream",
     "text": [
      "\tMean Loss (#loss): 1.419\n",
      "\tMean Accuracy (#acc): 49.49%\n",
      "Results on Cifar-10 Eval On Test:\n",
      "\tMean Loss (#loss): 1.485\n",
      "\tMean Accuracy (#acc): 47.45%\n",
      "\n"
     ]
    }
   ],
   "source": [
    "%% --model=fnn --steps=10000 --norm=layer\n",
    "trainModel()"
   ]
  },
  {
   "cell_type": "markdown",
   "id": "942fdb36-4fbe-4ccf-9958-c8b67b036ada",
   "metadata": {},
   "source": [
    "### CNN model for Cifar-10\n",
    "\n",
    "Let's now properly define our CNN model to compare:"
   ]
  },
  {
   "cell_type": "code",
   "execution_count": 11,
   "id": "e27dc442-c3aa-4ec5-98e9-e5321b474785",
   "metadata": {
    "tags": []
   },
   "outputs": [
    {
     "name": "stdout",
     "output_type": "stream",
     "text": [
      "Logits shape for batch_size=3: (Float32)[3 10]\n"
     ]
    }
   ],
   "source": [
    "import (\n",
    "    . \"github.com/gomlx/gomlx/graph\"\n",
    "    \"github.com/gomlx/gomlx/examples/cifar\"\n",
    "    \"github.com/gomlx/gomlx/ml/context\"\n",
    "    \"github.com/gomlx/gomlx/types/shapes\"\n",
    ")\n",
    "\n",
    "func CNNModelGraph(ctx *context.Context, spec any, inputs []*Node) []*Node {\n",
    "    g := inputs[0].Graph()\n",
    "    if !g.Ok() {\n",
    "        return nil\n",
    "    }\n",
    "    batchedImages := getBatchedImages(ctx, spec, inputs)\n",
    "    if !g.Ok() {\n",
    "        return nil\n",
    "    }\n",
    "    batchSize := batchedImages.Shape().Dimensions[0]\n",
    "    logits := batchedImages\n",
    "    {\n",
    "        ctx := ctx.In(\"conv_0\")\n",
    "        logits = layers.Convolution(ctx, logits).Filters(32).KernelSize(3).Done()\n",
    "        logits = normalizeImage(ctx, logits)\n",
    "        logits = layers.Relu(logits)\n",
    "        logits = MaxPool(logits).Window(2).Done()\n",
    "    }\n",
    "    {\n",
    "        ctx := ctx.In(\"conv_1\")\n",
    "        logits = layers.Convolution(ctx, logits).Filters(64).KernelSize(3).Done()\n",
    "        logits = normalizeImage(ctx, logits)\n",
    "        logits = layers.Relu(logits)\n",
    "        logits = MaxPool(logits).Window(2).Done()\n",
    "    }\n",
    "    {\n",
    "        ctx := ctx.In(\"conv_2\")\n",
    "        logits = layers.Convolution(ctx, logits).Filters(64).KernelSize(3).Done()\n",
    "        logits = normalizeImage(ctx, logits)\n",
    "        logits = Reshape(logits, batchSize, -1)\n",
    "        logits = layers.Relu(logits)\n",
    "    }\n",
    "    {\n",
    "        ctx := ctx.In(\"dense_0\")\n",
    "        logits = layers.DenseWithBias(ctx, logits, *flagNumNodes)\n",
    "        logits = normalizeFeatures(ctx, logits)\n",
    "    }\n",
    "    for ii := 1; ii < *flagNumHiddenLayers; ii++ {\n",
    "        ctx := ctx.In(fmt.Sprintf(\"dense_%d\", ii))\n",
    "        // Add layer with residual connection.\n",
    "        tmp := layers.Relu(logits)\n",
    "        if *flagDropoutRate > 0 {\n",
    "            tmp = layers.Dropout(ctx, tmp, Const(g, shapes.CastAsDType(*flagDropoutRate, tmp.DType())))\n",
    "        }\n",
    "        tmp = layers.DenseWithBias(ctx, tmp, *flagNumNodes)\n",
    "        tmp = normalizeFeatures(ctx, tmp)\n",
    "        logits = Add(logits, tmp)\n",
    "    }\n",
    "    logits = layers.Relu(logits)\n",
    "    logits = layers.DenseWithBias(ctx.In(\"denseFinal\"), logits, len(cifar.C10Labels))\n",
    "    return []*Node{logits}\n",
    "}\n",
    "\n",
    "%% --platform=Host\n",
    "// Let's test that the logits are coming out with the right shape: we want [batch_size, 10], since there are 10 classes.\n",
    "AssertDownloaded()\n",
    "manager := BuildManager().NumThreads(*flagNumThreads).NumReplicas(*flagNumReplicas).Platform(*flagPlatform).MustDone()\n",
    "trainDS, err := cifar.NewDataset(\"Cifar-10 Batched Train\", *flagDataDir, cifar.C10, DType, cifar.Train, *flagBatchSize, false) // loops forever.\n",
    "AssertNoError(err)\n",
    "\n",
    "graph := manager.NewGraph(\"test\")\n",
    "ctx := context.NewContext(manager)\n",
    "ctx.SetParam(optimizers.LearningRateKey, *flagLearningRate)\n",
    "logits := CNNModelGraph(ctx, trainDS, []*Node{graph.Parameter(\"images\", shapes.Make(shapes.Int64, /*Batch Size*/ 3, 1))})\n",
    "AssertNoError(graph.Error())\n",
    "AssertNoError(ctx.Error())\n",
    "fmt.Printf(\"Logits shape for batch_size=%d: %s\\n\", 3, logits[0].Shape())"
   ]
  },
  {
   "cell_type": "markdown",
   "id": "6e3b2b04-8ca7-49d6-921d-3527c9169da9",
   "metadata": {},
   "source": [
    "### Training the CNN model\n",
    "\n",
    "CNNs have a much better inductive bias for machine learning on images, and it can easily achieve > 80% accuracy in training data, but only > 65% on test data, due to overfitting.\n",
    "\n",
    "Likely it would benefit from pre-training the model on a larger unlabeled datasets."
   ]
  },
  {
   "cell_type": "code",
   "execution_count": 12,
   "id": "b2739281-6e70-4bd4-90e5-ed493678b8ce",
   "metadata": {
    "tags": []
   },
   "outputs": [
    {
     "name": "stdout",
     "output_type": "stream",
     "text": [
      "Platform: CUDA\n"
     ]
    },
    {
     "data": {
      "text/html": []
     },
     "metadata": {},
     "output_type": "display_data"
    },
    {
     "name": "stdout",
     "output_type": "stream",
     "text": [
      "Training (20000 steps):  100% [\u001b[32m=\u001b[0m\u001b[32m=\u001b[0m\u001b[32m=\u001b[0m\u001b[32m=\u001b[0m\u001b[32m=\u001b[0m\u001b[32m=\u001b[0m\u001b[32m=\u001b[0m\u001b[32m=\u001b[0m\u001b[32m=\u001b[0m\u001b[32m=\u001b[0m\u001b[32m=\u001b[0m\u001b[32m=\u001b[0m\u001b[32m=\u001b[0m\u001b[32m=\u001b[0m\u001b[32m=\u001b[0m\u001b[32m=\u001b[0m\u001b[32m=\u001b[0m\u001b[32m=\u001b[0m\u001b[32m=\u001b[0m\u001b[32m=\u001b[0m\u001b[32m=\u001b[0m\u001b[32m=\u001b[0m\u001b[32m=\u001b[0m\u001b[32m=\u001b[0m\u001b[32m=\u001b[0m\u001b[32m=\u001b[0m\u001b[32m=\u001b[0m\u001b[32m=\u001b[0m\u001b[32m=\u001b[0m\u001b[32m=\u001b[0m\u001b[32m=\u001b[0m\u001b[32m=\u001b[0m\u001b[32m=\u001b[0m\u001b[32m=\u001b[0m\u001b[32m=\u001b[0m\u001b[32m=\u001b[0m\u001b[32m=\u001b[0m\u001b[32m=\u001b[0m\u001b[32m=\u001b[0m\u001b[32m=\u001b[0m] (436 steps/s)\u001b[0m [loss=1.108] [~loss=1.202] [~acc=85.73%]        \n"
     ]
    },
    {
     "data": {
      "text/html": [
       "<svg style=\"background-color:#f8f8f8\" preserveAspectRatio=\"xMidYMid meet\" xmlns=\"http://www.w3.org/2000/svg\" width=\"1024\" height=\"454\" viewbox=\"0 0 1024 400\"><defs><marker markerHeight=\"2%\" id=\"circle\" viewBox=\"0 0 10 10 \" refX=\"5\" refY=\"5\" markerUnits=\"userSpaceOnUse\" markerWidth=\"2%\"><circle cx=\"5\" cy=\"5\" r=\"3\" fill=\"none\" stroke=\"black\"/></marker><marker refX=\"5\" refY=\"5\" markerUnits=\"userSpaceOnUse\" markerWidth=\"2%\" markerHeight=\"2%\" id=\"filled-circle\" viewBox=\"0 0 10 10 \"><circle fill=\"black\" stroke=\"none\" cx=\"5\" cy=\"5\" r=\"3\"/></marker><marker refY=\"5\" markerUnits=\"userSpaceOnUse\" markerWidth=\"2%\" markerHeight=\"2%\" id=\"square\" viewBox=\"0 0 10 10 \" refX=\"5\"><rect stroke=\"black\" x=\"2\" y=\"2\" width=\"6\" height=\"6\" fill=\"none\"/></marker><marker markerUnits=\"userSpaceOnUse\" markerWidth=\"2%\" markerHeight=\"2%\" id=\"filled-square\" viewBox=\"0 0 10 10 \" refX=\"5\" refY=\"5\"><rect height=\"6\" fill=\"black\" stroke=\"none\" x=\"2\" y=\"2\" width=\"6\"/></marker></defs><g stroke-linecap=\"round\" stroke-linejoin=\"round\" marker-start=\"url(#square)\" transform=\"translate(70 330 )scale(1 -1 )\" fill=\"none\" stroke-width=\"2px\" marker-mid=\"url(#square)\" marker-end=\"url(#square)\" stroke=\"hsl(90, 47%, 65%)\"><path vector-effect=\"non-scaling-stroke\" d=\"M1.768000e+01,5.782451e+00 L3.461121e+01,1.091009e+02 L5.158486e+01,1.259125e+02 L6.855851e+01,1.433859e+02 L8.553216e+01,1.502032e+02 L1.025058e+02,1.668824e+02 L1.194795e+02,1.711515e+02 L1.364531e+02,1.790278e+02 L1.534268e+02,1.856797e+02 L1.704004e+02,1.749904e+02 L1.873741e+02,1.849516e+02 L2.043477e+02,1.874005e+02 L2.213214e+02,1.866725e+02 L2.382950e+02,1.839919e+02 L2.552686e+02,1.927948e+02 L2.722423e+02,1.954092e+02 L2.892159e+02,1.977258e+02 L3.061896e+02,1.975272e+02 L3.231632e+02,1.948135e+02 L3.401369e+02,1.993142e+02 L3.571105e+02,1.968322e+02 L3.740842e+02,2.049071e+02 L3.910578e+02,1.852825e+02 L4.080315e+02,1.911070e+02 L4.250051e+02,2.008696e+02 L4.419788e+02,2.039805e+02 L4.589524e+02,1.974941e+02 L4.759261e+02,2.023920e+02 L4.928997e+02,1.942509e+02 L5.098734e+02,2.042783e+02 L5.268470e+02,2.018294e+02 L5.438207e+02,2.055359e+02 L5.607943e+02,2.022596e+02 L5.777680e+02,1.908754e+02 L5.947416e+02,2.014653e+02 L6.117153e+02,2.038812e+02 L6.286889e+02,2.038812e+02 L6.456626e+02,2.059992e+02 L6.626362e+02,2.084150e+02 L6.796099e+02,2.104999e+02 L6.965835e+02,2.044107e+02 L7.135572e+02,2.045100e+02 L7.305308e+02,2.067603e+02 L7.475045e+02,2.092755e+02 L7.644781e+02,2.033848e+02 L7.814518e+02,2.032524e+02 L7.984254e+02,1.966998e+02 L8.153991e+02,2.080179e+02 L8.323727e+02,2.083819e+02 L8.493464e+02,2.044769e+02 L8.663200e+02,2.035171e+02 \"/></g><g stroke-width=\"2px\" stroke-linecap=\"round\" marker-start=\"url(#square)\" stroke=\"hsl(301, 88%, 65%)\" transform=\"translate(70 330 )scale(1 -1 )\" stroke-linejoin=\"round\" marker-mid=\"url(#square)\" marker-end=\"url(#square)\" fill=\"none\"><path vector-effect=\"non-scaling-stroke\" d=\"M1.768000e+01,5.200000e+00 L3.461121e+01,1.112189e+02 L5.158486e+01,1.297844e+02 L6.855851e+01,1.487934e+02 L8.553216e+01,1.569676e+02 L1.025058e+02,1.764266e+02 L1.194795e+02,1.816091e+02 L1.364531e+02,1.915240e+02 L1.534268e+02,1.995327e+02 L1.704004e+02,1.906437e+02 L1.873741e+02,2.025706e+02 L2.043477e+02,2.054895e+02 L2.213214e+02,2.053770e+02 L2.382950e+02,2.044107e+02 L2.552686e+02,2.158214e+02 L2.722423e+02,2.196007e+02 L2.892159e+02,2.228174e+02 L3.061896e+02,2.231417e+02 L3.231632e+02,2.218510e+02 L3.401369e+02,2.258620e+02 L3.571105e+02,2.252200e+02 L3.740842e+02,2.335794e+02 L3.910578e+02,2.126576e+02 L4.080315e+02,2.183497e+02 L4.250051e+02,2.311173e+02 L4.419788e+02,2.366307e+02 L4.589524e+02,2.291713e+02 L4.759261e+02,2.340096e+02 L4.928997e+02,2.241213e+02 L5.098734e+02,2.376566e+02 L5.268470e+02,2.338971e+02 L5.438207e+02,2.397349e+02 L5.607943e+02,2.359886e+02 L5.777680e+02,2.220628e+02 L5.947416e+02,2.344663e+02 L6.117153e+02,2.409328e+02 L6.286889e+02,2.374845e+02 L6.456626e+02,2.422897e+02 L6.626362e+02,2.472008e+02 L6.796099e+02,2.502586e+02 L6.965835e+02,2.423294e+02 L7.135572e+02,2.436531e+02 L7.305308e+02,2.436002e+02 L7.475045e+02,2.506558e+02 L7.644781e+02,2.435869e+02 L7.814518e+02,2.438054e+02 L7.984254e+02,2.362600e+02 L8.153991e+02,2.507815e+02 L8.323727e+02,2.522906e+02 L8.493464e+02,2.468632e+02 L8.663200e+02,2.468698e+02 \"/></g><g marker-start=\"url(#square)\" marker-end=\"url(#square)\" fill=\"none\" stroke=\"hsl(152, 76%, 65%)\" stroke-width=\"2px\" marker-mid=\"url(#square)\" transform=\"translate(70 330 )scale(1 -1 )\" stroke-linecap=\"round\" stroke-linejoin=\"round\"><path vector-effect=\"non-scaling-stroke\" d=\"M1.768000e+01,1.077959e+01 L3.461121e+01,1.021608e+02 L5.158486e+01,1.299108e+02 L6.855851e+01,1.500790e+02 L8.553216e+01,1.663797e+02 L1.025058e+02,1.735946e+02 L1.194795e+02,1.802525e+02 L1.364531e+02,1.854637e+02 L1.534268e+02,1.959182e+02 L1.704004e+02,1.952791e+02 L1.873741e+02,2.032329e+02 L2.043477e+02,2.079534e+02 L2.213214e+02,2.102158e+02 L2.382950e+02,2.157069e+02 L2.552686e+02,2.177472e+02 L2.722423e+02,2.185787e+02 L2.892159e+02,2.204274e+02 L3.061896e+02,2.247833e+02 L3.231632e+02,2.249612e+02 L3.401369e+02,2.298318e+02 L3.571105e+02,2.282572e+02 L3.740842e+02,2.304541e+02 L3.910578e+02,2.314956e+02 L4.080315e+02,2.337405e+02 L4.250051e+02,2.334808e+02 L4.419788e+02,2.366479e+02 L4.589524e+02,2.337537e+02 L4.759261e+02,2.352476e+02 L4.928997e+02,2.376992e+02 L5.098734e+02,2.380909e+02 L5.268470e+02,2.420830e+02 L5.438207e+02,2.394279e+02 L5.607943e+02,2.406598e+02 L5.777680e+02,2.434795e+02 L5.947416e+02,2.415339e+02 L6.117153e+02,2.438213e+02 L6.286889e+02,2.442511e+02 L6.456626e+02,2.446183e+02 L6.626362e+02,2.447559e+02 L6.796099e+02,2.454866e+02 L6.965835e+02,2.478782e+02 L7.135572e+02,2.482943e+02 L7.305308e+02,2.503773e+02 L7.475045e+02,2.531575e+02 L7.644781e+02,2.491472e+02 L7.814518e+02,2.513487e+02 L7.984254e+02,2.514720e+02 L8.153991e+02,2.548000e+02 L8.323727e+02,2.545158e+02 L8.493464e+02,2.533749e+02 L8.663200e+02,2.547633e+02 \"/></g><g transform=\"translate(70 330 )scale(1 -1 )\" fill=\"none\" stroke=\"black\" stroke-width=\"2px\" stroke-linecap=\"round\" stroke-linejoin=\"round\"><path vector-effect=\"non-scaling-stroke\" d=\"M1.768000e+01,0 L1.768000e+01,-6 M1.025482e+02,0 L1.025482e+02,-6 M1.874165e+02,0 L1.874165e+02,-6 M2.722847e+02,0 L2.722847e+02,-6 M3.571530e+02,0 L3.571530e+02,-6 M4.420212e+02,0 L4.420212e+02,-6 M5.268895e+02,0 L5.268895e+02,-6 M6.117577e+02,0 L6.117577e+02,-6 M6.966259e+02,0 L6.966259e+02,-6 M7.814942e+02,0 L7.814942e+02,-6 \"/></g><g font-style=\"normal\" text-anchor=\"middle\" stroke=\"black\" stroke-linejoin=\"round\" font-family=\"sans-serif\" dominant-baseline=\"hanging\" fill=\"black\" font-weight=\"normal\" font-size=\"12px\" stroke-width=\"2px\" stroke-linecap=\"round\" transform=\"translate(70 330 )scale(1 1 )\"><text vector-effect=\"non-scaling-stroke\" x=\"1.768000e+01\" y=\"10\" dominant-baseline=\"hanging\" stroke=\"none\">0</text><text stroke=\"none\" vector-effect=\"non-scaling-stroke\" x=\"1.025482e+02\" y=\"10\" dominant-baseline=\"hanging\">2000</text><text x=\"1.874165e+02\" y=\"10\" dominant-baseline=\"hanging\" stroke=\"none\" vector-effect=\"non-scaling-stroke\">4000</text><text y=\"10\" dominant-baseline=\"hanging\" stroke=\"none\" vector-effect=\"non-scaling-stroke\" x=\"2.722847e+02\">6000</text><text y=\"10\" dominant-baseline=\"hanging\" stroke=\"none\" vector-effect=\"non-scaling-stroke\" x=\"3.571530e+02\">8000</text><text dominant-baseline=\"hanging\" stroke=\"none\" vector-effect=\"non-scaling-stroke\" x=\"4.420212e+02\" y=\"10\">10000</text><text stroke=\"none\" vector-effect=\"non-scaling-stroke\" x=\"5.268895e+02\" y=\"10\" dominant-baseline=\"hanging\">12000</text><text stroke=\"none\" vector-effect=\"non-scaling-stroke\" x=\"6.117577e+02\" y=\"10\" dominant-baseline=\"hanging\">14000</text><text stroke=\"none\" vector-effect=\"non-scaling-stroke\" x=\"6.966259e+02\" y=\"10\" dominant-baseline=\"hanging\">16000</text><text x=\"7.814942e+02\" y=\"10\" dominant-baseline=\"hanging\" stroke=\"none\" vector-effect=\"non-scaling-stroke\">18000</text></g><g font-size=\"12px\" stroke-linejoin=\"round\" transform=\"translate(70 330 )scale(1 1 )rotate(0 0 0 )\" font-family=\"sans-serif\" fill=\"black\" stroke=\"black\" font-weight=\"bold\" text-anchor=\"middle\" font-style=\"normal\" stroke-width=\"2px\" stroke-linecap=\"round\" dominant-baseline=\"baseline\"><text y=\"-6\" dominant-baseline=\"baseline\" stroke=\"none\" vector-effect=\"non-scaling-stroke\" x=\"442\">Steps</text></g><g font-size=\"12px\" font-style=\"normal\" text-anchor=\"middle\" font-family=\"sans-serif\" dominant-baseline=\"baseline\" fill=\"black\" stroke-linecap=\"round\" stroke-linejoin=\"round\" transform=\"translate(70 330 )scale(1 -1 )\" font-weight=\"bold\" stroke=\"black\" stroke-width=\"2px\"><path vector-effect=\"non-scaling-stroke\" d=\"M0,3.725453e+01 L-6,3.725453e+01 M0,1.034419e+02 L-6,1.034419e+02 M0,1.696292e+02 L-6,1.696292e+02 M0,2.358166e+02 L-6,2.358166e+02 \"/></g><g font-weight=\"normal\" text-anchor=\"end\" fill=\"black\" stroke-linecap=\"round\" stroke-linejoin=\"round\" font-style=\"normal\" font-family=\"sans-serif\" font-size=\"12px\" dominant-baseline=\"middle\" stroke=\"black\" stroke-width=\"2px\" transform=\"translate(70 330 )scale(1 1 )\"><text vector-effect=\"non-scaling-stroke\" x=\"-10\" y=\"-3.725453e+01\" dominant-baseline=\"middle\" stroke=\"none\">0.200</text><text vector-effect=\"non-scaling-stroke\" x=\"-10\" y=\"-1.034419e+02\" dominant-baseline=\"middle\" stroke=\"none\">0.400</text><text vector-effect=\"non-scaling-stroke\" x=\"-10\" y=\"-1.696292e+02\" dominant-baseline=\"middle\" stroke=\"none\">0.600</text><text stroke=\"none\" vector-effect=\"non-scaling-stroke\" x=\"-10\" y=\"-2.358166e+02\" dominant-baseline=\"middle\">0.800</text></g><g stroke-linejoin=\"round\" transform=\"translate(70 330 )scale(1 1 )rotate(-90 0 0 )\" dominant-baseline=\"hanging\" stroke=\"black\" stroke-linecap=\"round\" font-size=\"12px\" font-style=\"normal\" font-weight=\"bold\" text-anchor=\"middle\" fill=\"black\" stroke-width=\"2px\" font-family=\"sans-serif\"><text stroke=\"none\" vector-effect=\"non-scaling-stroke\" x=\"130\" y=\"6\" dominant-baseline=\"hanging\">accuracy</text></g><g fill=\"black\" stroke=\"gray\" stroke-width=\"0.5px\" stroke-linecap=\"round\" stroke-linejoin=\"round\" font-family=\"sans-serif\" font-size=\"12px\" font-style=\"normal\" dominant-baseline=\"hanging\" transform=\"translate(70 330 )scale(1 -1 )\" font-weight=\"bold\" text-anchor=\"middle\"><path vector-effect=\"non-scaling-stroke\" d=\"M0,3.725453e+01 L884,3.725453e+01 M0,1.034419e+02 L884,1.034419e+02 M0,1.696292e+02 L884,1.696292e+02 M0,2.358166e+02 L884,2.358166e+02 \"/></g><g font-weight=\"bold\" stroke=\"black\" stroke-linecap=\"round\" stroke-linejoin=\"round\" fill=\"none\" font-style=\"normal\" text-anchor=\"middle\" font-size=\"12px\" stroke-width=\"2px\" font-family=\"sans-serif\" dominant-baseline=\"hanging\"><rect width=\"884\" height=\"260\" vector-effect=\"non-scaling-stroke\" x=\"70\" y=\"70\"/><g dominant-baseline=\"middle\" fill=\"black\" font-size=\"18px\"><text x=\"512\" y=\"35\" dominant-baseline=\"middle\" stroke=\"none\" vector-effect=\"non-scaling-stroke\">accuracy metrics</text></g><g font-size=\"12px\" font-weight=\"normal\" text-anchor=\"start\" font-family=\"sans-serif\" dominant-baseline=\"hanging\" stroke-linecap=\"round\" stroke-linejoin=\"round\" font-style=\"normal\" fill=\"hsl(90, 47%, 65%)\" stroke=\"hsl(90, 47%, 65%)\" stroke-width=\"1px\"><rect width=\"12\" height=\"12\" vector-effect=\"non-scaling-stroke\" x=\"76\" y=\"366\"/><g stroke=\"black\" fill=\"black\"><text stroke=\"none\" vector-effect=\"non-scaling-stroke\" x=\"92\" y=\"366\" dominant-baseline=\"hanging\">Eval on Cifar-10 Eval On Test: Mean Accuracy</text></g><g text-anchor=\"start\" stroke=\"hsl(301, 88%, 65%)\" stroke-linecap=\"round\" font-family=\"sans-serif\" dominant-baseline=\"hanging\" fill=\"hsl(301, 88%, 65%)\" font-style=\"normal\" font-weight=\"normal\" font-size=\"12px\" stroke-width=\"1px\" stroke-linejoin=\"round\"><rect vector-effect=\"non-scaling-stroke\" x=\"76\" y=\"384\" width=\"12\" height=\"12\"/><g fill=\"black\" stroke=\"black\"><text y=\"384\" dominant-baseline=\"hanging\" stroke=\"none\" vector-effect=\"non-scaling-stroke\" x=\"92\">Eval on Cifar-10 Eval On Train: Mean Accuracy</text></g><g stroke-width=\"1px\" font-style=\"normal\" font-weight=\"normal\" stroke-linejoin=\"round\" font-family=\"sans-serif\" dominant-baseline=\"hanging\" fill=\"hsl(152, 76%, 65%)\" stroke-linecap=\"round\" stroke=\"hsl(152, 76%, 65%)\" text-anchor=\"start\" font-size=\"12px\"><rect y=\"402\" width=\"12\" height=\"12\" vector-effect=\"non-scaling-stroke\" x=\"76\"/><g fill=\"black\" stroke=\"black\"><text vector-effect=\"non-scaling-stroke\" x=\"92\" y=\"402\" dominant-baseline=\"hanging\" stroke=\"none\">Train: Moving Average Accuracy</text></g></g></g></g></g></svg>"
      ]
     },
     "metadata": {},
     "output_type": "display_data"
    },
    {
     "name": "stdout",
     "output_type": "stream",
     "text": [
      "\n",
      "Results on Cifar-10 Eval On Train:\n"
     ]
    },
    {
     "data": {
      "text/html": [
       "<svg style=\"background-color:#f8f8f8\" preserveAspectRatio=\"xMidYMid meet\" xmlns=\"http://www.w3.org/2000/svg\" width=\"1024\" height=\"472\" viewbox=\"0 0 1024 400\"><defs><marker id=\"circle\" viewBox=\"0 0 10 10 \" refX=\"5\" refY=\"5\" markerUnits=\"userSpaceOnUse\" markerWidth=\"2%\" markerHeight=\"2%\"><circle stroke=\"black\" cx=\"5\" cy=\"5\" r=\"3\" fill=\"none\"/></marker><marker markerHeight=\"2%\" id=\"filled-circle\" viewBox=\"0 0 10 10 \" refX=\"5\" refY=\"5\" markerUnits=\"userSpaceOnUse\" markerWidth=\"2%\"><circle cx=\"5\" cy=\"5\" r=\"3\" fill=\"black\" stroke=\"none\"/></marker><marker markerHeight=\"2%\" id=\"square\" viewBox=\"0 0 10 10 \" refX=\"5\" refY=\"5\" markerUnits=\"userSpaceOnUse\" markerWidth=\"2%\"><rect x=\"2\" y=\"2\" width=\"6\" height=\"6\" fill=\"none\" stroke=\"black\"/></marker><marker viewBox=\"0 0 10 10 \" refX=\"5\" refY=\"5\" markerUnits=\"userSpaceOnUse\" markerWidth=\"2%\" markerHeight=\"2%\" id=\"filled-square\"><rect stroke=\"none\" x=\"2\" y=\"2\" width=\"6\" height=\"6\" fill=\"black\"/></marker></defs><g stroke=\"hsl(90, 47%, 65%)\" marker-end=\"url(#square)\" fill=\"none\" stroke-width=\"2px\" stroke-linejoin=\"round\" marker-start=\"url(#square)\" transform=\"translate(70 330 )scale(1 -1 )\" stroke-linecap=\"round\" marker-mid=\"url(#square)\"><path vector-effect=\"non-scaling-stroke\" d=\"M1.768000e+01,2.547666e+02 L3.461121e+01,1.974914e+02 L5.158486e+01,1.628443e+02 L6.855851e+01,1.369863e+02 L8.553216e+01,1.183100e+02 L1.025058e+02,1.027208e+02 L1.194795e+02,9.109196e+01 L1.364531e+02,8.133835e+01 L1.534268e+02,7.328902e+01 L1.704004e+02,6.848776e+01 L1.873741e+02,6.153473e+01 L2.043477e+02,5.665859e+01 L2.213214e+02,5.261758e+01 L2.382950e+02,4.914094e+01 L2.552686e+02,4.440817e+01 L2.722423e+02,4.116733e+01 L2.892159e+02,3.805112e+01 L3.061896e+02,3.575625e+01 L3.231632e+02,3.386061e+01 L3.401369e+02,3.134138e+01 L3.571105e+02,2.981112e+01 L3.740842e+02,2.711962e+01 L3.910578e+02,2.873429e+01 L4.080315e+02,2.713247e+01 L4.250051e+02,2.381379e+01 L4.419788e+02,2.251501e+01 L4.589524e+02,2.257406e+01 L4.759261e+02,2.125744e+01 L4.928997e+02,2.196109e+01 L5.098734e+02,1.988343e+01 L5.268470e+02,1.988347e+01 L5.438207e+02,1.874816e+01 L5.607943e+02,1.870525e+01 L5.777680e+02,2.007093e+01 L5.947416e+02,1.801532e+01 L6.117153e+02,1.730438e+01 L6.286889e+02,1.721571e+01 L6.456626e+02,1.658527e+01 L6.626362e+02,1.575893e+01 L6.796099e+02,1.527670e+01 L6.965835e+02,1.606760e+01 L7.135572e+02,1.582944e+01 L7.305308e+02,1.545254e+01 L7.475045e+02,1.482682e+01 L7.644781e+02,1.555764e+01 L7.814518e+02,1.547055e+01 L7.984254e+02,1.647321e+01 L8.153991e+02,1.450671e+01 L8.323727e+02,1.408300e+01 L8.493464e+02,1.499689e+01 L8.663200e+02,1.479701e+01 \"/></g><g stroke-width=\"2px\" marker-end=\"url(#square)\" transform=\"translate(70 330 )scale(1 -1 )\" stroke=\"hsl(301, 88%, 65%)\" fill=\"none\" stroke-linejoin=\"round\" marker-mid=\"url(#square)\" marker-start=\"url(#square)\" stroke-linecap=\"round\"><path vector-effect=\"non-scaling-stroke\" d=\"M1.768000e+01,2.548000e+02 L3.461121e+01,1.972860e+02 L5.158486e+01,1.624606e+02 L6.855851e+01,1.364075e+02 L8.553216e+01,1.174230e+02 L1.025058e+02,1.014812e+02 L1.194795e+02,8.959219e+01 L1.364531e+02,7.950752e+01 L1.534268e+02,7.118041e+01 L1.704004e+02,6.615192e+01 L1.873741e+02,5.874126e+01 L2.043477e+02,5.372573e+01 L2.213214e+02,4.947516e+01 L2.382950e+02,4.579372e+01 L2.552686e+02,4.087583e+01 L2.722423e+02,3.744612e+01 L2.892159e+02,3.434207e+01 L3.061896e+02,3.181592e+01 L3.231632e+02,2.986771e+01 L3.401369e+02,2.740032e+01 L3.571105e+02,2.565892e+01 L3.740842e+02,2.293517e+01 L3.910578e+02,2.452030e+01 L4.080315e+02,2.283491e+01 L4.250051e+02,1.958297e+01 L4.419788e+02,1.805400e+01 L4.589524e+02,1.815984e+01 L4.759261e+02,1.668654e+01 L4.928997e+02,1.740214e+01 L5.098734e+02,1.514250e+01 L5.268470e+02,1.510566e+01 L5.438207e+02,1.366830e+01 L5.607943e+02,1.375882e+01 L5.777680e+02,1.517941e+01 L5.947416e+02,1.296980e+01 L6.117153e+02,1.191756e+01 L6.286889e+02,1.196476e+01 L6.456626e+02,1.115712e+01 L6.626362e+02,1.027330e+01 L6.796099e+02,9.544751e+00 L6.965835e+02,1.040829e+01 L7.135572e+02,9.979688e+00 L7.305308e+02,9.724246e+00 L7.475045e+02,8.703127e+00 L7.644781e+02,9.376144e+00 L7.814518e+02,9.146841e+00 L7.984254e+02,9.822588e+00 L8.153991e+02,7.937540e+00 L8.323727e+02,7.513405e+00 L8.493464e+02,8.222918e+00 L8.663200e+02,7.969063e+00 \"/></g><g marker-mid=\"url(#square)\" transform=\"translate(70 330 )scale(1 -1 )\" stroke=\"hsl(152, 76%, 65%)\" marker-start=\"url(#square)\" marker-end=\"url(#square)\" stroke-linejoin=\"round\" fill=\"none\" stroke-width=\"2px\" stroke-linecap=\"round\"><path vector-effect=\"non-scaling-stroke\" d=\"M1.768000e+01,2.540512e+02 L3.461121e+01,1.957063e+02 L5.158486e+01,1.635943e+02 L6.855851e+01,1.329314e+02 L8.553216e+01,1.171871e+02 L1.025058e+02,9.707036e+01 L1.194795e+02,8.597528e+01 L1.364531e+02,7.940010e+01 L1.534268e+02,7.326089e+01 L1.704004e+02,6.358477e+01 L1.873741e+02,5.645638e+01 L2.043477e+02,5.685158e+01 L2.213214e+02,4.978958e+01 L2.382950e+02,4.609490e+01 L2.552686e+02,4.083126e+01 L2.722423e+02,3.683841e+01 L2.892159e+02,3.632976e+01 L3.061896e+02,3.021928e+01 L3.231632e+02,2.950966e+01 L3.401369e+02,2.461433e+01 L3.571105e+02,2.249599e+01 L3.740842e+02,2.377814e+01 L3.910578e+02,1.847016e+01 L4.080315e+02,2.177741e+01 L4.250051e+02,2.030428e+01 L4.419788e+02,1.686512e+01 L4.589524e+02,1.656543e+01 L4.759261e+02,1.754827e+01 L4.928997e+02,1.561275e+01 L5.098734e+02,1.563734e+01 L5.268470e+02,1.393024e+01 L5.438207e+02,1.245080e+01 L5.607943e+02,1.145443e+01 L5.777680e+02,1.058669e+01 L5.947416e+02,1.531024e+01 L6.117153e+02,1.225094e+01 L6.286889e+02,1.049237e+01 L6.456626e+02,1.106358e+01 L6.626362e+02,1.042375e+01 L6.796099e+02,8.595366e+00 L6.965835e+02,9.967917e+00 L7.135572e+02,1.399199e+01 L7.305308e+02,7.871864e+00 L7.475045e+02,8.535828e+00 L7.644781e+02,7.853418e+00 L7.814518e+02,7.010221e+00 L7.984254e+02,9.240649e+00 L8.153991e+02,8.937451e+00 L8.323727e+02,7.156832e+00 L8.493464e+02,8.170650e+00 L8.663200e+02,5.200000e+00 \"/></g><g marker-end=\"url(#square)\" stroke-width=\"2px\" marker-mid=\"url(#square)\" marker-start=\"url(#square)\" transform=\"translate(70 330 )scale(1 -1 )\" fill=\"none\" stroke-linecap=\"round\" stroke-linejoin=\"round\" stroke=\"hsl(3, 64%, 65%)\"><path vector-effect=\"non-scaling-stroke\" d=\"M1.768000e+01,2.540512e+02 L3.461121e+01,2.079626e+02 L5.158486e+01,1.698224e+02 L6.855851e+01,1.416192e+02 L8.553216e+01,1.200979e+02 L1.025058e+02,1.047825e+02 L1.194795e+02,9.220707e+01 L1.364531e+02,8.241504e+01 L1.534268e+02,7.330272e+01 L1.704004e+02,6.666794e+01 L1.873741e+02,5.999018e+01 L2.043477e+02,5.452529e+01 L2.213214e+02,4.967880e+01 L2.382950e+02,4.531390e+01 L2.552686e+02,4.133684e+01 L2.722423e+02,3.820245e+01 L2.892159e+02,3.520047e+01 L3.061896e+02,3.196854e+01 L3.231632e+02,2.987842e+01 L3.401369e+02,2.739604e+01 L3.571105e+02,2.575224e+01 L3.740842e+02,2.386393e+01 L3.910578e+02,2.242672e+01 L4.080315e+02,2.088050e+01 L4.250051e+02,1.964667e+01 L4.419788e+02,1.838990e+01 L4.589524e+02,1.797030e+01 L4.759261e+02,1.683790e+01 L4.928997e+02,1.592149e+01 L5.098734e+02,1.516071e+01 L5.268470e+02,1.420112e+01 L5.438207e+02,1.376577e+01 L5.607943e+02,1.327170e+01 L5.777680e+02,1.239080e+01 L5.947416e+02,1.234231e+01 L6.117153e+02,1.179447e+01 L6.286889e+02,1.138262e+01 L6.456626e+02,1.097618e+01 L6.626362e+02,1.067370e+01 L6.796099e+02,1.020850e+01 L6.965835e+02,9.959547e+00 L7.135572e+02,9.562038e+00 L7.305308e+02,9.044081e+00 L7.475045e+02,8.518075e+00 L7.644781e+02,8.702858e+00 L7.814518e+02,8.261352e+00 L7.984254e+02,8.238659e+00 L8.153991e+02,7.579405e+00 L8.323727e+02,7.422761e+00 L8.493464e+02,7.381687e+00 L8.663200e+02,7.101115e+00 \"/></g><g fill=\"none\" stroke-width=\"2px\" stroke-linecap=\"round\" stroke-linejoin=\"round\" stroke=\"black\" transform=\"translate(70 330 )scale(1 -1 )\"><path vector-effect=\"non-scaling-stroke\" d=\"M1.768000e+01,0 L1.768000e+01,-6 M1.025482e+02,0 L1.025482e+02,-6 M1.874165e+02,0 L1.874165e+02,-6 M2.722847e+02,0 L2.722847e+02,-6 M3.571530e+02,0 L3.571530e+02,-6 M4.420212e+02,0 L4.420212e+02,-6 M5.268895e+02,0 L5.268895e+02,-6 M6.117577e+02,0 L6.117577e+02,-6 M6.966259e+02,0 L6.966259e+02,-6 M7.814942e+02,0 L7.814942e+02,-6 \"/></g><g stroke-linecap=\"round\" font-style=\"normal\" dominant-baseline=\"hanging\" transform=\"translate(70 330 )scale(1 1 )\" font-family=\"sans-serif\" stroke=\"black\" stroke-linejoin=\"round\" font-size=\"12px\" font-weight=\"normal\" text-anchor=\"middle\" fill=\"black\" stroke-width=\"2px\"><text y=\"10\" dominant-baseline=\"hanging\" stroke=\"none\" vector-effect=\"non-scaling-stroke\" x=\"1.768000e+01\">0</text><text stroke=\"none\" vector-effect=\"non-scaling-stroke\" x=\"1.025482e+02\" y=\"10\" dominant-baseline=\"hanging\">2000</text><text vector-effect=\"non-scaling-stroke\" x=\"1.874165e+02\" y=\"10\" dominant-baseline=\"hanging\" stroke=\"none\">4000</text><text stroke=\"none\" vector-effect=\"non-scaling-stroke\" x=\"2.722847e+02\" y=\"10\" dominant-baseline=\"hanging\">6000</text><text x=\"3.571530e+02\" y=\"10\" dominant-baseline=\"hanging\" stroke=\"none\" vector-effect=\"non-scaling-stroke\">8000</text><text stroke=\"none\" vector-effect=\"non-scaling-stroke\" x=\"4.420212e+02\" y=\"10\" dominant-baseline=\"hanging\">10000</text><text stroke=\"none\" vector-effect=\"non-scaling-stroke\" x=\"5.268895e+02\" y=\"10\" dominant-baseline=\"hanging\">12000</text><text stroke=\"none\" vector-effect=\"non-scaling-stroke\" x=\"6.117577e+02\" y=\"10\" dominant-baseline=\"hanging\">14000</text><text dominant-baseline=\"hanging\" stroke=\"none\" vector-effect=\"non-scaling-stroke\" x=\"6.966259e+02\" y=\"10\">16000</text><text stroke=\"none\" vector-effect=\"non-scaling-stroke\" x=\"7.814942e+02\" y=\"10\" dominant-baseline=\"hanging\">18000</text></g><g stroke-linejoin=\"round\" font-size=\"12px\" text-anchor=\"middle\" stroke-width=\"2px\" font-family=\"sans-serif\" dominant-baseline=\"baseline\" stroke=\"black\" transform=\"translate(70 330 )scale(1 1 )rotate(0 0 0 )\" font-style=\"normal\" stroke-linecap=\"round\" font-weight=\"bold\" fill=\"black\"><text stroke=\"none\" vector-effect=\"non-scaling-stroke\" x=\"442\" y=\"-6\" dominant-baseline=\"baseline\">Steps</text></g><g fill=\"black\" stroke-width=\"2px\" stroke-linecap=\"round\" dominant-baseline=\"baseline\" stroke=\"black\" transform=\"translate(70 330 )scale(1 -1 )\" font-family=\"sans-serif\" font-weight=\"bold\" font-style=\"normal\" text-anchor=\"middle\" stroke-linejoin=\"round\" font-size=\"12px\"><path vector-effect=\"non-scaling-stroke\" d=\"M0,4.329738e+01 L-6,4.329738e+01 M0,1.037022e+02 L-6,1.037022e+02 M0,1.641071e+02 L-6,1.641071e+02 M0,2.245119e+02 L-6,2.245119e+02 \"/></g><g fill=\"black\" stroke-width=\"2px\" stroke=\"black\" font-family=\"sans-serif\" font-style=\"normal\" dominant-baseline=\"middle\" stroke-linecap=\"round\" stroke-linejoin=\"round\" font-size=\"12px\" font-weight=\"normal\" transform=\"translate(70 330 )scale(1 1 )\" text-anchor=\"end\"><text vector-effect=\"non-scaling-stroke\" x=\"-10\" y=\"-4.329738e+01\" dominant-baseline=\"middle\" stroke=\"none\">3.000</text><text dominant-baseline=\"middle\" stroke=\"none\" vector-effect=\"non-scaling-stroke\" x=\"-10\" y=\"-1.037022e+02\">6.000</text><text stroke=\"none\" vector-effect=\"non-scaling-stroke\" x=\"-10\" y=\"-1.641071e+02\" dominant-baseline=\"middle\">9.000</text><text x=\"-10\" y=\"-2.245119e+02\" dominant-baseline=\"middle\" stroke=\"none\" vector-effect=\"non-scaling-stroke\">12.000</text></g><g stroke=\"black\" font-weight=\"bold\" text-anchor=\"middle\" stroke-linecap=\"round\" fill=\"black\" stroke-width=\"2px\" stroke-linejoin=\"round\" dominant-baseline=\"hanging\" transform=\"translate(70 330 )scale(1 1 )rotate(-90 0 0 )\" font-family=\"sans-serif\" font-style=\"normal\" font-size=\"12px\"><text stroke=\"none\" vector-effect=\"non-scaling-stroke\" x=\"130\" y=\"6\" dominant-baseline=\"hanging\">loss</text></g><g stroke-linejoin=\"round\" font-weight=\"bold\" fill=\"black\" font-family=\"sans-serif\" font-style=\"normal\" stroke=\"gray\" transform=\"translate(70 330 )scale(1 -1 )\" stroke-width=\"0.5px\" dominant-baseline=\"hanging\" stroke-linecap=\"round\" font-size=\"12px\" text-anchor=\"middle\"><path vector-effect=\"non-scaling-stroke\" d=\"M0,4.329738e+01 L884,4.329738e+01 M0,1.037022e+02 L884,1.037022e+02 M0,1.641071e+02 L884,1.641071e+02 M0,2.245119e+02 L884,2.245119e+02 \"/></g><g font-weight=\"bold\" stroke=\"black\" font-family=\"sans-serif\" font-style=\"normal\" dominant-baseline=\"hanging\" stroke-width=\"2px\" stroke-linejoin=\"round\" text-anchor=\"middle\" fill=\"none\" stroke-linecap=\"round\" font-size=\"12px\"><rect width=\"884\" height=\"260\" vector-effect=\"non-scaling-stroke\" x=\"70\" y=\"70\"/><g font-size=\"18px\" fill=\"black\" dominant-baseline=\"middle\"><text x=\"512\" y=\"35\" dominant-baseline=\"middle\" stroke=\"none\" vector-effect=\"non-scaling-stroke\">loss metrics</text></g><g font-style=\"normal\" stroke-width=\"1px\" stroke-linecap=\"round\" font-weight=\"normal\" font-family=\"sans-serif\" dominant-baseline=\"hanging\" text-anchor=\"start\" fill=\"hsl(90, 47%, 65%)\" stroke-linejoin=\"round\" font-size=\"12px\" stroke=\"hsl(90, 47%, 65%)\"><rect vector-effect=\"non-scaling-stroke\" x=\"76\" y=\"366\" width=\"12\" height=\"12\"/><g fill=\"black\" stroke=\"black\"><text vector-effect=\"non-scaling-stroke\" x=\"92\" y=\"366\" dominant-baseline=\"hanging\" stroke=\"none\">Eval on Cifar-10 Eval On Test: Mean Loss</text></g><g text-anchor=\"start\" stroke=\"hsl(301, 88%, 65%)\" font-family=\"sans-serif\" font-style=\"normal\" dominant-baseline=\"hanging\" fill=\"hsl(301, 88%, 65%)\" stroke-width=\"1px\" font-size=\"12px\" font-weight=\"normal\" stroke-linecap=\"round\" stroke-linejoin=\"round\"><rect vector-effect=\"non-scaling-stroke\" x=\"76\" y=\"384\" width=\"12\" height=\"12\"/><g fill=\"black\" stroke=\"black\"><text dominant-baseline=\"hanging\" stroke=\"none\" vector-effect=\"non-scaling-stroke\" x=\"92\" y=\"384\">Eval on Cifar-10 Eval On Train: Mean Loss</text></g><g stroke-linejoin=\"round\" dominant-baseline=\"hanging\" stroke=\"hsl(152, 76%, 65%)\" fill=\"hsl(152, 76%, 65%)\" stroke-width=\"1px\" stroke-linecap=\"round\" font-family=\"sans-serif\" font-style=\"normal\" font-size=\"12px\" font-weight=\"normal\" text-anchor=\"start\"><rect x=\"76\" y=\"402\" width=\"12\" height=\"12\" vector-effect=\"non-scaling-stroke\"/><g stroke=\"black\" fill=\"black\"><text stroke=\"none\" vector-effect=\"non-scaling-stroke\" x=\"92\" y=\"402\" dominant-baseline=\"hanging\">Train: Batch Loss</text></g><g stroke-linecap=\"round\" stroke=\"hsl(3, 64%, 65%)\" stroke-linejoin=\"round\" font-size=\"12px\" font-weight=\"normal\" text-anchor=\"start\" fill=\"hsl(3, 64%, 65%)\" font-style=\"normal\" dominant-baseline=\"hanging\" font-family=\"sans-serif\" stroke-width=\"1px\"><rect y=\"420\" width=\"12\" height=\"12\" vector-effect=\"non-scaling-stroke\" x=\"76\"/><g fill=\"black\" stroke=\"black\"><text vector-effect=\"non-scaling-stroke\" x=\"92\" y=\"420\" dominant-baseline=\"hanging\" stroke=\"none\">Train: Moving Average Loss</text></g></g></g></g></g></g></svg>"
      ]
     },
     "metadata": {},
     "output_type": "display_data"
    },
    {
     "name": "stdout",
     "output_type": "stream",
     "text": [
      "\tMean Loss (#loss): 1.245\n",
      "\tMean Accuracy (#acc): 83.34%\n",
      "Results on Cifar-10 Eval On Test:\n",
      "\tMean Loss (#loss): 1.585\n",
      "\tMean Accuracy (#acc): 70.24%\n",
      "\n"
     ]
    }
   ],
   "source": [
    "%% --model=cnn --steps=20000 --batch=50 --hidden_layers=2 --l2_reg=0.01 --dropout=0.1 --norm=batch\n",
    "trainModel()"
   ]
  }
 ],
 "metadata": {
  "kernelspec": {
   "display_name": "Go (gonb)",
   "language": "go",
   "name": "gonb"
  },
  "language_info": {
   "codemirror_mode": "",
   "file_extension": ".go",
   "mimetype": "",
   "name": "go",
   "nbconvert_exporter": "",
   "pygments_lexer": "",
   "version": "go1.20.1"
  }
 },
 "nbformat": 4,
 "nbformat_minor": 5
}
