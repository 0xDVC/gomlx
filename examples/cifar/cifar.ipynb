{
 "cells": [
  {
   "cell_type": "markdown",
   "id": "f431da81-4d94-4fd1-8a51-952ef824cb46",
   "metadata": {},
   "source": [
    "# Cifar Library and Demo\n",
    "\n",
    "[This is a library](https://pkg.go.dev/github.com/gomlx/gomlx/examples/cifar) to download and parse the Cifar datasets (Cifar-10 and Cifar-100), and a very small demo of a FNN (Feedforward Neural Network) with GoMLX. FNNs are notoriously bad for images, but it's only a demo. Look for the Resnet50 model for a more serious image classification model (old but still good -- best results as of the time of this writing is with ViT model).\n",
    "\n",
    "The CIFAR-10 and CIFAR-100 are labeled subsets of the 80 million tiny images dataset. They were collected by Alex Krizhevsky, Vinod Nair, and Geoffrey Hinton. See more details in [its homepage here](https://www.cs.toronto.edu/~kriz/cifar.html).\n",
    "\n",
    "This notebook serves as documentation and example for the [github.com/gomlx/gomlx/examples/cifar](https://github.com/gomlx/gomlx/examples/cifar) library, and the demo code in one piece can be seen in [.../examples/cifar/demo/](https://github.com/gomlx/gomlx/tree/main/examples/cifar/demo)"
   ]
  },
  {
   "cell_type": "markdown",
   "id": "bd398a51-c10a-4d05-91f7-f978856a8d8b",
   "metadata": {},
   "source": [
    "## Environment Set Up\n",
    "\n",
    "Let's set up `go.mod` to use the local copy of GoMLX, so it can be developed jointly the dataset code with the model. That's often how data pre-processing and model code is developed together with experimentation.\n",
    "\n",
    "If you are not changing code, feel free to simply skip this cell. Or if you used a different directory for you projects, change it below.\n",
    "\n",
    "Notice the directory `${HOME}/Projects/gomlx` is where the GoMLX code is copied by default in [its Docker](https://hub.docker.com/repository/docker/janpfeifer/gomlx_jupyterlab/general)."
   ]
  },
  {
   "cell_type": "code",
   "execution_count": 1,
   "id": "22abc207-e8b0-44ef-840d-fee3550cffca",
   "metadata": {
    "tags": []
   },
   "outputs": [
    {
     "name": "stdout",
     "output_type": "stream",
     "text": [
      "\t- Added replace rule for module \"github.com/gomlx/gomlx\" to local directory \"/home/janpf/Projects/gomlx\".\n"
     ]
    }
   ],
   "source": [
    "!*rm -f go.work && go work init && go work use . \"${HOME}/Projects/gomlx\"\n",
    "%goworkfix"
   ]
  },
  {
   "cell_type": "markdown",
   "id": "443e9e56-ef12-4d04-b7bb-99478fa2b662",
   "metadata": {},
   "source": [
    "## Data Preparation\n",
    "\n",
    "### Downloading data files\n",
    "\n",
    "To download, uncompress and untar to the local directory, simply do the following. Notice if it's already downloaded in the given `--data` directory, it returns immediately."
   ]
  },
  {
   "cell_type": "code",
   "execution_count": 2,
   "id": "a61fdd1a-74a0-46f2-9cfc-f79bfa37e298",
   "metadata": {
    "tags": []
   },
   "outputs": [],
   "source": [
    "import (\n",
    "    \"github.com/gomlx/gomlx/examples/cifar\"\n",
    "    \"github.com/gomlx/gomlx/ml/data\"\n",
    "    \"github.com/janpfeifer/must\"\n",
    ")\n",
    "\n",
    "var flagDataDir = flag.String(\"data\", \"~/work/cifar\", \"Directory to cache downloaded and generated dataset files.\")\n",
    "\n",
    "func AssertDownloaded() {\n",
    "    *flagDataDir = data.ReplaceTildeInDir(*flagDataDir)\n",
    "    if !data.FileExists(*flagDataDir) {\n",
    "        must.M(os.MkdirAll(*flagDataDir, 0777))\n",
    "    }\n",
    "\n",
    "    must.M(cifar.DownloadCifar10(*flagDataDir))\n",
    "    must.M(cifar.DownloadCifar100(*flagDataDir))\n",
    "}\n",
    "\n",
    "%%\n",
    "AssertDownloaded()"
   ]
  },
  {
   "cell_type": "code",
   "execution_count": 3,
   "id": "345076ef-e2a3-4405-b47d-801c9ec62b91",
   "metadata": {
    "tags": []
   },
   "outputs": [
    {
     "name": "stdout",
     "output_type": "stream",
     "text": [
      "total 52K\n",
      "-rw-r--r-- 1 janpf janpf  358 Aug  2 10:32 a\n",
      "-rw-r--r-- 1 janpf janpf 3.7K Aug  2 10:25 b\n",
      "drwxr-x--- 2 janpf janpf 4.0K Nov 12 17:04 base_cnn_model\n",
      "drwxr-x--- 2 janpf janpf 4.0K Nov 12 17:06 base_fnn_model\n",
      "drwxr-x--- 2 janpf janpf 4.0K Nov 12 16:56 base_kan_model\n",
      "drwxr-xr-x 2 janpf janpf 4.0K Feb 20  2010 cifar-100-binary\n",
      "drwxr-xr-x 2 janpf janpf 4.0K Jun  4  2009 cifar-10-batches-bin\n",
      "drwxr-x--- 2 janpf janpf 4.0K Aug  2 09:51 cnn\n",
      "drwxr-x--- 2 janpf janpf 4.0K Aug  1 17:28 cnn_layer\n",
      "drwxr-x--- 2 janpf janpf 4.0K Jul 31 19:19 cnn_nonorm\n",
      "drwxr-x--- 2 janpf janpf 4.0K Jul 31 08:28 fnn_batchnorm_0\n",
      "drwxr-x--- 2 janpf janpf 4.0K Aug  1 14:24 fnn_layer\n",
      "drwxr-x--- 2 janpf janpf 4.0K Nov 12 16:41 r001\n"
     ]
    }
   ],
   "source": [
    "!ls -lh ~/work/cifar/"
   ]
  },
  {
   "cell_type": "markdown",
   "id": "93d4ae39-915c-478c-887f-b1c8c080865b",
   "metadata": {},
   "source": [
    "### Sample some images\n",
    "\n",
    "The `cifar.NewDataset` creates a `data.InMemoryDataset` that can be used both for training, evaluation, or just to sample a few examples, which we do below:"
   ]
  },
  {
   "cell_type": "code",
   "execution_count": 4,
   "id": "0dabc63a-b918-4065-9b23-0c5a22446458",
   "metadata": {
    "tags": []
   },
   "outputs": [
    {
     "data": {
      "text/html": [
       "<p>Samples Cifar-10</p>\n"
      ]
     },
     "metadata": {},
     "output_type": "display_data"
    },
    {
     "data": {
      "text/html": [
       "<table><tr>\n",
       "<td><figure style=\"padding:4px;text-align: center;\"><img width=\"64\" height=\"64\" src=\"data:image/png;base64,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\"><figcaption style=\"text-align: center;\">dog ([5])</figcaption></figure></td>\n",
       "<td><figure style=\"padding:4px;text-align: center;\"><img width=\"64\" height=\"64\" src=\"data:image/png;base64,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\"><figcaption style=\"text-align: center;\">truck ([9])</figcaption></figure></td>\n",
       "<td><figure style=\"padding:4px;text-align: center;\"><img width=\"64\" height=\"64\" src=\"data:image/png;base64,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\"><figcaption style=\"text-align: center;\">deer ([4])</figcaption></figure></td>\n",
       "<td><figure style=\"padding:4px;text-align: center;\"><img width=\"64\" height=\"64\" src=\"data:image/png;base64,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\"><figcaption style=\"text-align: center;\">automobile ([1])</figcaption></figure></td>\n",
       "<td><figure style=\"padding:4px;text-align: center;\"><img width=\"64\" height=\"64\" src=\"data:image/png;base64,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\"><figcaption style=\"text-align: center;\">ship ([8])</figcaption></figure></td>\n",
       "<td><figure style=\"padding:4px;text-align: center;\"><img width=\"64\" height=\"64\" src=\"data:image/png;base64,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\"><figcaption style=\"text-align: center;\">cat ([3])</figcaption></figure></td>\n",
       "<td><figure style=\"padding:4px;text-align: center;\"><img width=\"64\" height=\"64\" src=\"data:image/png;base64,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\"><figcaption style=\"text-align: center;\">ship ([8])</figcaption></figure></td>\n",
       "<td><figure style=\"padding:4px;text-align: center;\"><img width=\"64\" height=\"64\" src=\"data:image/png;base64,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\"><figcaption style=\"text-align: center;\">dog ([5])</figcaption></figure></td>\n",
       "</tr></table>\n"
      ]
     },
     "metadata": {},
     "output_type": "display_data"
    },
    {
     "data": {
      "text/html": [
       "<p>Samples Cifar-100</p>\n"
      ]
     },
     "metadata": {},
     "output_type": "display_data"
    },
    {
     "data": {
      "text/html": [
       "<table><tr>\n",
       "<td><figure style=\"padding:4px;text-align: center;\"><img width=\"64\" height=\"64\" src=\"data:image/png;base64,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\"><figcaption style=\"text-align: center;\">train ([90])</figcaption></figure></td>\n",
       "<td><figure style=\"padding:4px;text-align: center;\"><img width=\"64\" height=\"64\" src=\"data:image/png;base64,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\"><figcaption style=\"text-align: center;\">table ([84])</figcaption></figure></td>\n",
       "<td><figure style=\"padding:4px;text-align: center;\"><img width=\"64\" height=\"64\" src=\"data:image/png;base64,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\"><figcaption style=\"text-align: center;\">cockroach ([24])</figcaption></figure></td>\n",
       "<td><figure style=\"padding:4px;text-align: center;\"><img width=\"64\" height=\"64\" src=\"data:image/png;base64,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\"><figcaption style=\"text-align: center;\">squirrel ([80])</figcaption></figure></td>\n",
       "<td><figure style=\"padding:4px;text-align: center;\"><img width=\"64\" height=\"64\" src=\"data:image/png;base64,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\"><figcaption style=\"text-align: center;\">cup ([28])</figcaption></figure></td>\n",
       "<td><figure style=\"padding:4px;text-align: center;\"><img width=\"64\" height=\"64\" src=\"data:image/png;base64,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\"><figcaption style=\"text-align: center;\">turtle ([93])</figcaption></figure></td>\n",
       "<td><figure style=\"padding:4px;text-align: center;\"><img width=\"64\" height=\"64\" src=\"data:image/png;base64,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\"><figcaption style=\"text-align: center;\">streetcar ([81])</figcaption></figure></td>\n",
       "<td><figure style=\"padding:4px;text-align: center;\"><img width=\"64\" height=\"64\" src=\"data:image/png;base64,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\"><figcaption style=\"text-align: center;\">tractor ([89])</figcaption></figure></td>\n",
       "</tr></table>\n"
      ]
     },
     "metadata": {},
     "output_type": "display_data"
    }
   ],
   "source": [
    "import (\n",
    "    \"strings\"\n",
    "    \"github.com/gomlx/gopjrt/dtypes\"\n",
    "    \"github.com/gomlx/gomlx/backends\"\n",
    "    \"github.com/gomlx/gomlx/examples/cifar\"\n",
    "    \"github.com/gomlx/gomlx/types/shapes\"\n",
    "    \"github.com/gomlx/gomlx/types/tensors/images\"\n",
    "    \"github.com/janpfeifer/gonb/gonbui\"\n",
    "\n",
    "    _ \"github.com/gomlx/gomlx/backends/xla\"\n",
    ")\n",
    "\n",
    "var (\n",
    "    // Model DType, used everywhere.\n",
    "    DType = dtypes.Float32\n",
    ")\n",
    "\n",
    "// sampleToNotebook generates a sample of Cifar-10 and Cifar-100 in a GoNB Jupyter Notebook.\n",
    "func sampleToNotebook() {\n",
    "    // Load data into tensors.\n",
    "    backend := backends.New()\n",
    "    ds10 := cifar.NewDataset(backend, \"Samples Cifar-10\", *flagDataDir, cifar.C10, DType, cifar.Train).Shuffle()\n",
    "    ds100 := cifar.NewDataset(backend, \"Samples Cifar-100\", *flagDataDir, cifar.C100, DType, cifar.Train).Shuffle()\n",
    "    sampleImages(ds10, 8, cifar.C10Labels)\n",
    "    sampleImages(ds100, 8, cifar.C100FineLabels)\n",
    "}\n",
    "\n",
    "// sampleTable generates and outputs one html table of samples, sampling rows x cols from the images/labels provided.\n",
    "func sampleImages(ds train.Dataset, numImages int, labelNames []string) {\n",
    "    gonbui.DisplayHTML(fmt.Sprintf(\"<p>%s</p>\\n\", ds.Name()))\n",
    "    \n",
    "    parts := make([]string, 0, numImages+5) // Leave last part empty.\n",
    "    parts = append(parts, \"<table><tr>\")\n",
    "    for ii := 0; ii < numImages; ii++ {\n",
    "        _, inputs, labels := must.M3(ds.Yield())\n",
    "        imgTensor := inputs[0]\n",
    "        img := images.ToImage().Single(imgTensor)\n",
    "        label := labels[0].Value().([]int64)\n",
    "        labelStr := labelNames[label[0]]\n",
    "    \n",
    "        imgSrc := must.M1(gonbui.EmbedImageAsPNGSrc(img))\n",
    "        size := imgTensor.Shape().Dimensions[0]\n",
    "        parts = append(\n",
    "            parts, \n",
    "            fmt.Sprintf(`<td><figure style=\"padding:4px;text-align: center;\"><img width=\"%d\" height=\"%d\" src=\"%s\">` + \n",
    "                        `<figcaption style=\"text-align: center;\">%s (%d)</figcaption></figure></td>`, \n",
    "                        size*2, size*2, imgSrc, labelStr, label),\n",
    "        )\n",
    "    }\n",
    "    parts = append(parts, \"</tr></table>\", \"\")\n",
    "    gonbui.DisplayHTML(strings.Join(parts, \"\\n\"))\n",
    "}\n",
    "\n",
    "%%\n",
    "AssertDownloaded()\n",
    "sampleToNotebook()"
   ]
  },
  {
   "cell_type": "markdown",
   "id": "7fa8c06c-ede0-4cd1-80bd-9331422e3a63",
   "metadata": {},
   "source": [
    "## Training on Cifar-10\n",
    "\n",
    "### Models Support\n",
    "\n",
    "1. `flagModel` defines the model type, out of `validModels` options.\n",
    "1. `createDefaultContex` creates a context and set the default values for the CIFAR models. \n",
    "1. `contextFromSettings` uses `createDefaultContext` and incorporate changes passed by the `-set` flag.\n"
   ]
  },
  {
   "cell_type": "code",
   "execution_count": 5,
   "id": "c8d3c19e-af0c-4fef-a76c-dabb375972d0",
   "metadata": {
    "tags": []
   },
   "outputs": [
    {
     "name": "stdout",
     "output_type": "stream",
     "text": [
      "Model types: [\"fnn\" \"kan\" \"cnn\"]\n",
      "Parameters set (-set): [\"batch_size\" \"fnn_num_hidden_layers\"]\n",
      "\t\"/activation\": (string) swish\n",
      "\t\"/adam_dtype\": (string) \n",
      "\t\"/adam_epsilon\": (float64) 1e-07\n",
      "\t\"/batch_size\": (int) 17\n",
      "\t\"/checkpoint\": (string) \n",
      "\t\"/dropout_rate\": (float64) 0\n",
      "\t\"/eval_batch_size\": (int) 200\n",
      "\t\"/fnn_dropout_rate\": (float64) -1\n",
      "\t\"/fnn_normalization\": (string) \n",
      "\t\"/fnn_num_hidden_layers\": (int) 12\n",
      "\t\"/fnn_num_hidden_nodes\": (int) 128\n",
      "\t\"/fnn_residual\": (bool) true\n",
      "\t\"/kan_bspline_degree\": (int) 2\n",
      "\t\"/kan_bspline_magnitude_l1\": (float64) 1e-05\n",
      "\t\"/kan_bspline_magnitude_l2\": (float64) 0\n",
      "\t\"/kan_discrete\": (bool) false\n",
      "\t\"/kan_discrete_softness\": (float64) 0.1\n",
      "\t\"/kan_num_hidden_layers\": (int) 4\n",
      "\t\"/kan_num_hidden_nodes\": (int) 64\n",
      "\t\"/kan_num_points\": (int) 10\n",
      "\t\"/kan_residual\": (bool) true\n",
      "\t\"/l1_regularization\": (float64) 1e-05\n",
      "\t\"/l2_regularization\": (float64) 1e-05\n",
      "\t\"/learning_rate\": (float64) 0.0001\n",
      "\t\"/model\": (string) fnn\n",
      "\t\"/normalization\": (string) none\n",
      "\t\"/num_checkpoints\": (int) 3\n",
      "\t\"/optimizer\": (string) adamw\n",
      "\t\"/plots\": (bool) true\n",
      "\t\"/train_steps\": (int) 3000\n"
     ]
    }
   ],
   "source": [
    "import (\n",
    "    \"flags\"\n",
    "    \n",
    "    \"github.com/gomlx/gomlx/ml/layers\"\n",
    "    \"github.com/gomlx/gomlx/ml/layers/fnn\"\n",
    "    \"github.com/gomlx/gomlx/ml/layers/kan\"\n",
    "    \"github.com/gomlx/gomlx/ml/layers/regularizers\"\n",
    "    \"github.com/gomlx/gomlx/ui/commandline\"\n",
    "    \"github.com/gomlx/gomlx/ml/train/optimizers\"\n",
    "    \"github.com/gomlx/gomlx/examples/cifar\"\n",
    "    \"github.com/gomlx/gomlx/ml/context\"\n",
    ")\n",
    "\n",
    "var (\n",
    "    // ValidModels is the list of model types supported.\n",
    "    ValidModels = []string{\"fnn\", \"kan\", \"cnn\"}\n",
    "\tflagEval      = flag.Bool(\"eval\", true, \"Whether to evaluate the model on the validation data in the end.\")\n",
    "\tflagVerbosity = flag.Int(\"verbosity\", 1, \"Level of verbosity, the higher the more verbose.\")\n",
    ")\n",
    "\n",
    "// settings is bound to a \"-set\" flag to be used to set context hyperparameters.\n",
    "var settings = commandline.CreateContextSettingsFlag(createDefaultContext(), \"set\")\n",
    "\n",
    "// createDefaultContext sets the context with default hyperparameters\n",
    "func createDefaultContext() *context.Context {\n",
    "\tctx := context.New()\n",
    "\tctx.RngStateReset()\n",
    "\tctx.SetParams(map[string]any{\n",
    "        // Model type to use: valid values are fnn, kan and cnn.\n",
    "\t\t\"model\":           cifar.C10ValidModels[0],\n",
    "\t\t\"checkpoint\":      \"\",\n",
    "\t\t\"num_checkpoints\": 3,\n",
    "\t\t\"train_steps\":     3000,\n",
    "\n",
    "\t\t// batch_size for training.\n",
    "\t\t\"batch_size\": 64,\n",
    "\n",
    "\t\t// eval_batch_size can be larger than training, it's more efficient.\n",
    "\t\t\"eval_batch_size\": 200,\n",
    "\n",
    "\t\t// \"plots\" trigger generating intermediary eval data for plotting, and if running in GoNB, to actually\n",
    "\t\t// draw the plot with Plotly.\n",
    "\t\tplotly.ParamPlots: true,\n",
    "\n",
    "\t\t// If \"normalization\" is set, it overrides \"fnn_normalization\" and \"cnn_normalization\".\n",
    "\t\tlayers.ParamNormalization: \"none\",\n",
    "\n",
    "\t\toptimizers.ParamOptimizer:           \"adamw\",\n",
    "\t\toptimizers.ParamLearningRate:        1e-4,\n",
    "\t\toptimizers.ParamAdamEpsilon:         1e-7,\n",
    "\t\toptimizers.ParamAdamDType:           \"\",\n",
    "\t\tactivations.ParamActivation:         \"swish\",\n",
    "\t\tlayers.ParamDropoutRate:             0.0,\n",
    "\t\tregularizers.ParamL2:                1e-5,\n",
    "\t\tregularizers.ParamL1:                1e-5,\n",
    "\n",
    "\t\t// FNN network parameters:\n",
    "\t\tfnn.ParamNumHiddenLayers: 8,\n",
    "\t\tfnn.ParamNumHiddenNodes:  128,\n",
    "\t\tfnn.ParamResidual:        true,\n",
    "\t\tfnn.ParamNormalization:   \"\",   // Set to none for no normalization, otherwise it falls back to layers.ParamNormalization.\n",
    "\t\tfnn.ParamDropoutRate:     -1.0, // Set to 0.0 for no dropout, otherwise it falls back to layers.ParamDropoutRate.\n",
    "\n",
    "\t\t// KAN network parameters:\n",
    "\t\tkan.ParamNumControlPoints:   10, // Number of control points\n",
    "\t\tkan.ParamNumHiddenNodes:     64,\n",
    "\t\tkan.ParamNumHiddenLayers:    4,\n",
    "\t\tkan.ParamBSplineDegree:      2,\n",
    "\t\tkan.ParamBSplineMagnitudeL1: 1e-5,\n",
    "\t\tkan.ParamBSplineMagnitudeL2: 0.0,\n",
    "\t\tkan.ParamDiscrete:           false,\n",
    "\t\tkan.ParamDiscreteSoftness:   0.1,\n",
    "        kan.ParamResidual:           true,\n",
    "\t})\n",
    "\treturn ctx\n",
    "}\n",
    "\n",
    "// ContextFromSettings is the default context (createDefaultContext) changed by -set flag.\n",
    "func ContextFromSettings() (ctx *context.Context, paramsSet []string) {\n",
    "    ctx = createDefaultContext()\n",
    "    paramsSet = must.M1(commandline.ParseContextSettings(ctx, *settings))\n",
    "    return\n",
    "}\n",
    "\n",
    "// Let's test that we can set hyperparameters by setting it in the \"-set\" flag:\n",
    "%% -set=\"batch_size=17;fnn_num_hidden_layers=12\"\n",
    "fmt.Printf(\"Model types: %q\\n\", cifar.C10ValidModels)\n",
    "ctx, parametersSet := ContextFromSettings()\n",
    "fmt.Printf(\"Parameters set (-set): %q\\n\", parametersSet)\n",
    "fmt.Println(commandline.SprintContextSettings(ctx))"
   ]
  },
  {
   "cell_type": "markdown",
   "id": "f771ca6f-5912-4406-9f2a-a838fd7cd065",
   "metadata": {},
   "source": [
    "### Simple FNN model\n",
    "\n",
    "A trivial model, that can easily get to ~50% accuracy (a random model would do 10%), but hardly much more than that.\n",
    "\n",
    "Later we are going to define a CNN model to compare, and we just set a placeholder model here for now.\n",
    "\n",
    "> **Note**: \n",
    ">\n",
    "> * The code is here just to exemplify. We are actually using the same code from the [`cifar`](https://github.com/gomlx/gomlx/tree/main/examples/cifar) package."
   ]
  },
  {
   "cell_type": "code",
   "execution_count": 6,
   "id": "0ac4e4da-2c3b-431c-9e54-00e31045785f",
   "metadata": {
    "tags": []
   },
   "outputs": [
    {
     "name": "stdout",
     "output_type": "stream",
     "text": [
      "Logits shape for batch_size=7: (Float32)[7 10]\n"
     ]
    }
   ],
   "source": [
    "import (\n",
    "    \"flags\"    \n",
    "    . \"github.com/gomlx/gomlx/graph\"\n",
    "    \"github.com/gomlx/gomlx/examples/cifar\"\n",
    "    \"github.com/gomlx/gomlx/ml/context\"\n",
    "    \"github.com/gomlx/gomlx/ml/train/optimizers\"\n",
    "    \"github.com/gomlx/gomlx/types/shapes\"\n",
    ")\n",
    "\n",
    "var _ = NewGraph  // Make sure the graph package is in use.\n",
    "\n",
    "// C10PlainModelGraph implements train.ModelFn, and returns the logit Node, given the input image.\n",
    "// It's a basic FNN (Feedforward Neural Network), so no convolutions. It is meant only as an example.\n",
    "func C10PlainModelGraph(ctx *context.Context, spec any, inputs []*graph.Node) []*graph.Node {\n",
    "    _ = spec  // Not needed, the input type is always the same.\n",
    "\tctx = ctx.In(\"model\")\n",
    "\tbatchedImages := inputs[0]\n",
    "\tbatchSize := batchedImages.Shape().Dimensions[0]\n",
    "\tlogits := graph.Reshape(batchedImages, batchSize, -1)\n",
    "\tnumClasses := len(cifar.C10Labels)\n",
    "\tmodelType := context.GetParamOr(ctx, \"model\", cifar.C10ValidModels[0])\n",
    "\tif modelType == \"kan\" {\n",
    "\t\t// Configuration of the KAN layer(s) use the context hyperparameters.\n",
    "\t\tlogits = kan.New(ctx, logits, numClasses).Done()\n",
    "\t} else {\n",
    "\t\t// Configuration of the FNN layer(s) use the context hyperparameters.\n",
    "\t\tlogits = fnn.New(ctx, logits, numClasses).Done()\n",
    "\t}\n",
    "\tlogits.AssertDims(batchSize, numClasses)\n",
    "\treturn []*graph.Node{logits}\n",
    "}\n",
    "\n",
    "%% -set=\"batch_size=7\"\n",
    "// Let's test that the logits are coming out with the right shape: we want [batch_size, 10], since there are 10 classes.\n",
    "AssertDownloaded()\n",
    "ctx, _ := ContextFromSettings()\n",
    "g := NewGraph(backends.New(), \"placeholder\")\n",
    "batchSize := context.GetParamOr(ctx, \"batch_size\", int(100))\n",
    "logits := C10PlainModelGraph(ctx, nil, []*Node{Parameter(g, \"images\", shapes.Make(DType, batchSize, cifar.Height, cifar.Width, cifar.Depth))})\n",
    "fmt.Printf(\"Logits shape for batch_size=%d: %s\\n\", batchSize, logits[0].Shape())"
   ]
  },
  {
   "cell_type": "markdown",
   "id": "aef7d6ee-ca2b-40c7-ac3d-4242ecd8ed1b",
   "metadata": {},
   "source": [
    "### Training Loop\n",
    "\n",
    "With a model function defined, we use the training loop create for the Cifar10.\n",
    "\n",
    "The trainer is provided in the [`cifar` package](https://github.com/gomlx/gomlx/tree/main/examples/cifar). It is straight forward (and almost the same for every different project) and does the following for us:\n",
    "\n",
    "- If a checkpoing is given (--checkpoint) and it has previously saved model, it loads hyperparmeters and trained variables.\n",
    "- Create trainer: with selected model function (see [Simple FNN model](#Simple-FNN-model) and [CNN model for Cifar10](#CNN-model-for-Cifar10) sections), optimizer, loss and metrics.\n",
    "- Create a `train.Loop` and attach to it a progressbar, a periodic checkpoint saver and a plotter (`--set=\"plots=true\"`).\n",
    "- Train the selected number of train steps.\n",
    "- Report results.\n",
    "\n",
    "Below we train 50 steps with the default settings just to check things are working."
   ]
  },
  {
   "cell_type": "code",
   "execution_count": 7,
   "id": "d72336ef-d96d-4d98-a3a6-5df912be5f24",
   "metadata": {
    "tags": []
   },
   "outputs": [
    {
     "name": "stdout",
     "output_type": "stream",
     "text": [
      "Backend \"xla\":\txla:cuda - PJRT \"cuda\" plugin (/usr/local/lib/gomlx/pjrt/pjrt_c_api_cuda_plugin.so) v0.55\n",
      "Training (50 steps):  100% [========================================] (1250 steps/s) [step=49] [loss+=2.230] [~loss+=2.361] [~loss=2.229] [~acc=18.09%]                 \n",
      "\t[Step 50] median train step: 773 microseconds\n",
      "\n",
      "Results on Validation:\n",
      "\tMean Loss+Regularization (#loss+): 2.271\n",
      "\tMean Loss (#loss): 2.139\n",
      "\tMean Accuracy (#acc): 24.39%\n",
      "Results on Training:\n",
      "\tMean Loss+Regularization (#loss+): 2.269\n",
      "\tMean Loss (#loss): 2.138\n",
      "\tMean Accuracy (#acc): 24.14%\n"
     ]
    }
   ],
   "source": [
    "var flagCheckpoint = flag.String(\"checkpoint\", \"\", \"Directory save and load checkpoints from. If left empty, no checkpoints are created.\")\n",
    "\n",
    "// trainModel with hyperparameters configured with `-set=...`.\n",
    "func trainModel() {\n",
    "    ctx, paramsSet := ContextFromSettings()\n",
    "    cifar.TrainCifar10Model(ctx, *flagDataDir, *flagCheckpoint, *flagEval, *flagVerbosity, paramsSet)\n",
    "}\n",
    "\n",
    "// Train 50 steps, only to test things are working. No plots.\n",
    "%% --set=\"train_steps=50;plots=false\"\n",
    "trainModel()"
   ]
  },
  {
   "cell_type": "markdown",
   "id": "300a8419-5679-42ba-9149-51c17c7c427d",
   "metadata": {},
   "source": [
    "### FNN Model Training\n",
    "\n",
    "Let's train the FNN for real this time. \n",
    "\n",
    "* **Note**: The FNN model quickly overfits to the data."
   ]
  },
  {
   "cell_type": "code",
   "execution_count": 8,
   "id": "4de9b879-4790-4aac-ace7-3c8a348ac961",
   "metadata": {},
   "outputs": [],
   "source": [
    "// Remove a previously trained model. Skip this if you want to continue training a previous model.\n",
    "!rm -rf ~/work/cifar/base_fnn_model  "
   ]
  },
  {
   "cell_type": "code",
   "execution_count": 9,
   "id": "cf876f49-e737-4dfa-aa05-48aad3d7a128",
   "metadata": {
    "tags": []
   },
   "outputs": [
    {
     "name": "stdout",
     "output_type": "stream",
     "text": [
      "Backend \"xla\":\txla:cuda - PJRT \"cuda\" plugin (/usr/local/lib/gomlx/pjrt/pjrt_c_api_cuda_plugin.so) v0.55\n",
      "Checkpointing model to \"/home/janpf/work/cifar/base_fnn_model\"\n"
     ]
    },
    {
     "data": {
      "text/html": []
     },
     "metadata": {},
     "output_type": "display_data"
    },
    {
     "name": "stdout",
     "output_type": "stream",
     "text": [
      "Training (50000 steps):    1% [........................................] (455 steps/s) [0s:1m48s] [step=699] [loss+=1.824] [~loss+=1.928] [~loss=1.798] [~acc=36.38%]        "
     ]
    },
    {
     "data": {
      "text/html": []
     },
     "metadata": {},
     "output_type": "display_data"
    },
    {
     "name": "stdout",
     "output_type": "stream",
     "text": [
      "Training (50000 steps):  100% [========================================] (1191 steps/s) [step=49999] [loss+=0.960] [~loss+=0.913] [~loss=0.770] [~acc=72.39%]        ]         \n"
     ]
    },
    {
     "data": {
      "text/html": [
       "<p><b>Metric: accuracy</b></p>\n"
      ]
     },
     "metadata": {},
     "output_type": "display_data"
    },
    {
     "data": {
      "text/html": [
       "<div id=\"51c73613\"></div>"
      ]
     },
     "metadata": {},
     "output_type": "display_data"
    },
    {
     "data": {
      "text/html": [
       "<script charset=\"UTF-8\">\n",
       "(() => {\n",
       "\tconst src=\"https://cdn.plot.ly/plotly-2.29.1.min.js\";\n",
       "\tvar runJSFn = function(module) {\n",
       "\t\t\n",
       "\tif (!module) {\n",
       "\t\tmodule = window.Plotly;\n",
       "\t}\n",
       "\tlet data = JSON.parse('{\"data\":[{\"type\":\"scatter\",\"line\":{\"shape\":\"linear\"},\"mode\":\"lines+markers\",\"name\":\"Train: Moving Average Accuracy\",\"x\":[200,440,728,1074,1489,1987,2585,3303,4165,5199,6440,7929,9716,11860,14433,17521,21227,25674,31010,37413,45097,50000],\"y\":[0.2714850604534149,0.3403302729129791,0.36488547921180725,0.391966849565506,0.4097689986228943,0.43009185791015625,0.44423922896385193,0.4594665467739105,0.48137155175209045,0.49221286177635193,0.5030218958854675,0.5259373784065247,0.5410497188568115,0.5596245527267456,0.5764326453208923,0.5818668603897095,0.6101195216178894,0.6312134265899658,0.6477205157279968,0.679169237613678,0.7007421851158142,0.7238793969154358]},{\"type\":\"scatter\",\"line\":{\"shape\":\"linear\"},\"mode\":\"lines+markers\",\"name\":\"Eval on Training: Mean Accuracy\",\"x\":[200,440,728,1074,1489,1987,2585,3303,4165,5199,6440,7929,9716,11860,14433,17521,21227,25674,31010,37413,45097,50000],\"y\":[0.3278599977493286,0.35311999917030334,0.37411999702453613,0.396619975566864,0.43004000186920166,0.4393799901008606,0.4476799964904785,0.47123998403549194,0.48357999324798584,0.49691998958587646,0.5172799825668335,0.5349599719047546,0.5451200008392334,0.5601400136947632,0.5718599557876587,0.5799199938774109,0.6157799959182739,0.6416000127792358,0.660319983959198,0.6985200047492981,0.7146999835968018,0.7489999532699585]},{\"type\":\"scatter\",\"line\":{\"shape\":\"linear\"},\"mode\":\"lines+markers\",\"name\":\"Eval on Validation: Mean Accuracy\",\"x\":[200,440,728,1074,1489,1987,2585,3303,4165,5199,6440,7929,9716,11860,14433,17521,21227,25674,31010,37413,45097,50000],\"y\":[0.32820001244544983,0.3538000285625458,0.37210002541542053,0.3996000289916992,0.4296000301837921,0.4406000077724457,0.44300001859664917,0.4621000289916992,0.4725000262260437,0.48580002784729004,0.4967000186443329,0.503000020980835,0.5127000212669373,0.5182999968528748,0.5235000252723694,0.5225000381469727,0.5382000207901001,0.5443000197410583,0.5437000393867493,0.546500027179718,0.5368000268936157,0.5470000505447388]}],\"layout\":{\"legend\":{},\"title\":{\"text\":\"accuracy\"},\"xaxis\":{\"showgrid\":true,\"type\":\"log\"},\"yaxis\":{\"showgrid\":true,\"type\":\"log\"}}}');\n",
       "\tmodule.newPlot('51c73613', data);\n",
       "\n",
       "\t}\n",
       "\t\n",
       "    if (typeof requirejs === \"function\") {\n",
       "        // Use RequireJS to load module.\n",
       "\t\tlet srcWithoutExtension = src.substring(0, src.lastIndexOf(\".js\"));\n",
       "        requirejs.config({\n",
       "            paths: {\n",
       "                'plotly': srcWithoutExtension\n",
       "            }\n",
       "        });\n",
       "        require(['plotly'], function(plotly) {\n",
       "            runJSFn(plotly)\n",
       "        });\n",
       "        return\n",
       "    }\n",
       "\n",
       "\tvar currentScripts = document.head.getElementsByTagName(\"script\");\n",
       "\tfor (const idx in currentScripts) {\n",
       "\t\tlet script = currentScripts[idx];\n",
       "\t\tif (script.src == src) {\n",
       "\t\t\trunJSFn(null);\n",
       "\t\t\treturn;\n",
       "\t\t}\n",
       "\t}\n",
       "\n",
       "\tvar script = document.createElement(\"script\");\n",
       "\n",
       "\tscript.charset = \"utf-8\";\n",
       "\t\n",
       "\tscript.src = src;\n",
       "\tscript.onload = script.onreadystatechange = function () { runJSFn(null); };\n",
       "\tdocument.head.appendChild(script);\t\n",
       "})();\n",
       "</script>"
      ]
     },
     "metadata": {},
     "output_type": "display_data"
    },
    {
     "data": {
      "text/html": [
       "<p><b>Metric: loss</b></p>\n"
      ]
     },
     "metadata": {},
     "output_type": "display_data"
    },
    {
     "data": {
      "text/html": [
       "<div id=\"190fb907\"></div>"
      ]
     },
     "metadata": {},
     "output_type": "display_data"
    },
    {
     "data": {
      "text/html": [
       "<script charset=\"UTF-8\">\n",
       "(() => {\n",
       "\tconst src=\"https://cdn.plot.ly/plotly-2.29.1.min.js\";\n",
       "\tvar runJSFn = function(module) {\n",
       "\t\t\n",
       "\tif (!module) {\n",
       "\t\tmodule = window.Plotly;\n",
       "\t}\n",
       "\tlet data = JSON.parse('{\"data\":[{\"type\":\"scatter\",\"line\":{\"shape\":\"linear\"},\"mode\":\"lines+markers\",\"name\":\"Train: Batch Loss+Regularization\",\"x\":[200,440,728,1074,1489,1987,2585,3303,4165,5199,6440,7929,9716,11860,14433,17521,21227,25674,31010,37413,45097,50000],\"y\":[1.8935874700546265,1.9799929857254028,1.8169447183609009,1.8014296293258667,1.6476459503173828,1.8334463834762573,1.4794402122497559,1.6018873453140259,1.4686529636383057,1.6837209463119507,1.6799627542495728,1.4955250024795532,1.4032244682312012,1.3432800769805908,1.36419677734375,1.2622182369232178,1.0284216403961182,1.1137340068817139,1.0707876682281494,0.900443971157074,0.8095295429229736,0.9601638317108154]},{\"type\":\"scatter\",\"line\":{\"shape\":\"linear\"},\"mode\":\"lines+markers\",\"name\":\"Train: Moving Average Loss+Regularization\",\"x\":[200,440,728,1074,1489,1987,2585,3303,4165,5199,6440,7929,9716,11860,14433,17521,21227,25674,31010,37413,45097,50000],\"y\":[2.144378185272217,1.9912117719650269,1.9153960943222046,1.834925651550293,1.783806562423706,1.7255295515060425,1.6967971324920654,1.6331894397735596,1.5885634422302246,1.5554444789886475,1.4995321035385132,1.454331874847412,1.4076423645019531,1.3678946495056152,1.3155537843704224,1.286909580230713,1.2307497262954712,1.1653132438659668,1.1142990589141846,1.032544732093811,0.9738726019859314,0.9126109480857849]},{\"type\":\"scatter\",\"line\":{\"shape\":\"linear\"},\"mode\":\"lines+markers\",\"name\":\"Train: Moving Average Loss\",\"x\":[200,440,728,1074,1489,1987,2585,3303,4165,5199,6440,7929,9716,11860,14433,17521,21227,25674,31010,37413,45097,50000],\"y\":[2.013209819793701,1.8608391284942627,1.785705804824829,1.7057636976242065,1.6552159786224365,1.597514271736145,1.5693813562393188,1.506352424621582,1.4622888565063477,1.4297128915786743,1.3742737770080566,1.329429268836975,1.2829900979995728,1.2434426546096802,1.1909632682800293,1.1618173122406006,1.10466730594635,1.0374646186828613,0.983754575252533,0.8982648253440857,0.8345898985862732,0.7700300812721252]},{\"type\":\"scatter\",\"line\":{\"shape\":\"linear\"},\"mode\":\"lines+markers\",\"name\":\"Eval on Training: Mean Loss+Regularization\",\"x\":[200,440,728,1074,1489,1987,2585,3303,4165,5199,6440,7929,9716,11860,14433,17521,21227,25674,31010,37413,45097,50000],\"y\":[2.036815643310547,1.9489115476608276,1.8888307809829712,1.8207942247390747,1.7404335737228394,1.7169232368469238,1.6881331205368042,1.615800380706787,1.5745582580566406,1.5442622900009155,1.4874123334884644,1.4321585893630981,1.3996964693069458,1.3559832572937012,1.3098833560943604,1.291705846786499,1.206948161125183,1.1370093822479248,1.0860369205474854,0.9865549802780151,0.9401424527168274,0.8569372296333313]},{\"type\":\"scatter\",\"line\":{\"shape\":\"linear\"},\"mode\":\"lines+markers\",\"name\":\"Eval on Training: Mean Loss\",\"x\":[200,440,728,1074,1489,1987,2585,3303,4165,5199,6440,7929,9716,11860,14433,17521,21227,25674,31010,37413,45097,50000],\"y\":[1.9059691429138184,1.8188296556472778,1.7593166828155518,1.6917675733566284,1.6119766235351562,1.5889979600906372,1.5608091354370117,1.4890451431274414,1.4483240842819214,1.4185810089111328,1.3621782064437866,1.3072680234909058,1.2750484943389893,1.2315220832824707,1.1852818727493286,1.1665772199630737,1.0808278322219849,1.0091361999511719,0.9554409980773926,0.852213978767395,0.8007673025131226,0.7143071889877319]},{\"type\":\"scatter\",\"line\":{\"shape\":\"linear\"},\"mode\":\"lines+markers\",\"name\":\"Eval on Validation: Mean Loss+Regularization\",\"x\":[200,440,728,1074,1489,1987,2585,3303,4165,5199,6440,7929,9716,11860,14433,17521,21227,25674,31010,37413,45097,50000],\"y\":[2.0377979278564453,1.9518440961837769,1.890817642211914,1.8218696117401123,1.7458155155181885,1.7271082401275635,1.7036221027374268,1.6446043252944946,1.614038109779358,1.5886664390563965,1.5496799945831299,1.5137110948562622,1.494275689125061,1.4808961153030396,1.4633444547653198,1.4796812534332275,1.4384011030197144,1.4333876371383667,1.4484535455703735,1.4715276956558228,1.5556341409683228,1.5967540740966797]},{\"type\":\"scatter\",\"line\":{\"shape\":\"linear\"},\"mode\":\"lines+markers\",\"name\":\"Eval on Validation: Mean Loss\",\"x\":[200,440,728,1074,1489,1987,2585,3303,4165,5199,6440,7929,9716,11860,14433,17521,21227,25674,31010,37413,45097,50000],\"y\":[1.9069513082504272,1.8217624425888062,1.761303186416626,1.692841649055481,1.6173582077026367,1.5991841554641724,1.5762981176376343,1.5178492069244385,1.4878029823303223,1.462984561920166,1.4244461059570312,1.388821005821228,1.3696273565292358,1.3564355373382568,1.338742733001709,1.3545523881912231,1.3122817277908325,1.3055146932601929,1.3178563117980957,1.3371872901916504,1.4162589311599731,1.4541243314743042]}],\"layout\":{\"legend\":{},\"title\":{\"text\":\"loss\"},\"xaxis\":{\"showgrid\":true,\"type\":\"log\"},\"yaxis\":{\"showgrid\":true,\"type\":\"log\"}}}');\n",
       "\tmodule.newPlot('190fb907', data);\n",
       "\n",
       "\t}\n",
       "\t\n",
       "    if (typeof requirejs === \"function\") {\n",
       "        // Use RequireJS to load module.\n",
       "\t\tlet srcWithoutExtension = src.substring(0, src.lastIndexOf(\".js\"));\n",
       "        requirejs.config({\n",
       "            paths: {\n",
       "                'plotly': srcWithoutExtension\n",
       "            }\n",
       "        });\n",
       "        require(['plotly'], function(plotly) {\n",
       "            runJSFn(plotly)\n",
       "        });\n",
       "        return\n",
       "    }\n",
       "\n",
       "\tvar currentScripts = document.head.getElementsByTagName(\"script\");\n",
       "\tfor (const idx in currentScripts) {\n",
       "\t\tlet script = currentScripts[idx];\n",
       "\t\tif (script.src == src) {\n",
       "\t\t\trunJSFn(null);\n",
       "\t\t\treturn;\n",
       "\t\t}\n",
       "\t}\n",
       "\n",
       "\tvar script = document.createElement(\"script\");\n",
       "\n",
       "\tscript.charset = \"utf-8\";\n",
       "\t\n",
       "\tscript.src = src;\n",
       "\tscript.onload = script.onreadystatechange = function () { runJSFn(null); };\n",
       "\tdocument.head.appendChild(script);\t\n",
       "})();\n",
       "</script>"
      ]
     },
     "metadata": {},
     "output_type": "display_data"
    },
    {
     "name": "stdout",
     "output_type": "stream",
     "text": [
      "\t[Step 50000] median train step: 718 microseconds\n",
      "\n",
      "Results on Validation:\n",
      "\tMean Loss+Regularization (#loss+): 1.597\n",
      "\tMean Loss (#loss): 1.454\n",
      "\tMean Accuracy (#acc): 54.70%\n",
      "Results on Training:\n",
      "\tMean Loss+Regularization (#loss+): 0.857\n",
      "\tMean Loss (#loss): 0.714\n",
      "\tMean Accuracy (#acc): 74.90%\n"
     ]
    }
   ],
   "source": [
    "%% --checkpoint=base_fnn_model --set=\"model=fnn;train_steps=50_000;plots=true\"\n",
    "trainModel()"
   ]
  },
  {
   "cell_type": "markdown",
   "id": "942fdb36-4fbe-4ccf-9958-c8b67b036ada",
   "metadata": {},
   "source": [
    "### CNN model for Cifar-10\n",
    "\n",
    "Let's now properly define a CNN model to compare.\n",
    "\n",
    "The model was built following a [Keras model in Kaggle (thanks @ektasharm)](https://www.kaggle.com/code/ektasharma/simple-cifar10-cnn-keras-code-with-88-accuracy),\n",
    "which provided hardcoded values for all layers of the model -- so it doesn't make use of the hyperparamters set in the context. It achieves \\~86% on the validation set, after 80,000 steps of batch size 64 (\\~100 epochs).\n",
    "\n",
    "Notice that since it uses batch normalization, the training process will, at the end, update the moving averages of mean and variance: this improves the running estimate the model keeps during training. This [interesting blog post](https://www.mindee.com/blog/batch-normalization) explains about it. "
   ]
  },
  {
   "cell_type": "code",
   "execution_count": 10,
   "id": "e27dc442-c3aa-4ec5-98e9-e5321b474785",
   "metadata": {
    "tags": []
   },
   "outputs": [
    {
     "name": "stdout",
     "output_type": "stream",
     "text": [
      "Logits shape for batch_size=11: (Float32)[11 10]\n"
     ]
    }
   ],
   "source": [
    "// ConvolutionModelGraph implements train.ModelFn and returns the logit Node, given the input image.\n",
    "// It's a straight forward CNN (Convolution Neural Network) model.\n",
    "//\n",
    "// This is modeled after the Keras example in Kaggle:\n",
    "// https://www.kaggle.com/code/ektasharma/simple-cifar10-cnn-keras-code-with-88-accuracy\n",
    "// (Thanks @ektasharma)\n",
    "func ConvolutionModelGraph(ctx *context.Context, spec any, inputs []*Node) []*Node {\n",
    "\tctx = ctx.In(\"model\")\n",
    "\tbatchedImages := inputs[0]\n",
    "\tg := batchedImages.Graph()\n",
    "\tdtype := batchedImages.DType()\n",
    "\tbatchSize := batchedImages.Shape().Dimensions[0]\n",
    "\tlogits := batchedImages\n",
    "\n",
    "\tlayerIdx := 0\n",
    "\tnextCtx := func(name string) *context.Context {\n",
    "\t\tnewCtx := ctx.Inf(\"%03d_%s\", layerIdx, name)\n",
    "\t\tlayerIdx++\n",
    "\t\treturn newCtx\n",
    "\t}\n",
    "\n",
    "\tlogits = layers.Convolution(nextCtx(\"conv\"), logits).Filters(32).KernelSize(3).PadSame().Done()\n",
    "\tlogits.AssertDims(batchSize, 32, 32, 32)\n",
    "\tlogits = activations.Relu(logits)\n",
    "\tlogits = batchnorm.New(nextCtx(\"batchnorm\"), logits, -1).Done()\n",
    "\tlogits = layers.Convolution(nextCtx(\"conv\"), logits).Filters(32).KernelSize(3).PadSame().Done()\n",
    "\tlogits = activations.Relu(logits)\n",
    "\tlogits = batchnorm.New(nextCtx(\"batchnorm\"), logits, -1).Done()\n",
    "\tlogits = MaxPool(logits).Window(2).Done()\n",
    "\tlogits = layers.DropoutNormalize(nextCtx(\"dropout\"), logits, Scalar(g, dtype, 0.3), true)\n",
    "\tlogits.AssertDims(batchSize, 16, 16, 32)\n",
    "\n",
    "\tlogits = layers.Convolution(nextCtx(\"conv\"), logits).Filters(64).KernelSize(3).PadSame().Done()\n",
    "\tlogits.AssertDims(batchSize, 16, 16, 64)\n",
    "\tlogits = activations.Relu(logits)\n",
    "\tlogits = batchnorm.New(nextCtx(\"batchnorm\"), logits, -1).Done()\n",
    "\tlogits = layers.Convolution(nextCtx(\"conv\"), logits).Filters(64).KernelSize(3).PadSame().Done()\n",
    "\tlogits.AssertDims(batchSize, 16, 16, 64)\n",
    "\tlogits = activations.Relu(logits)\n",
    "\tlogits = batchnorm.New(nextCtx(\"batchnorm\"), logits, -1).Done()\n",
    "\tlogits = MaxPool(logits).Window(2).Done()\n",
    "\tlogits = layers.DropoutNormalize(nextCtx(\"dropout\"), logits, Scalar(g, dtype, 0.5), true)\n",
    "\tlogits.AssertDims(batchSize, 8, 8, 64)\n",
    "\n",
    "\tlogits = layers.Convolution(nextCtx(\"conv\"), logits).Filters(128).KernelSize(3).PadSame().Done()\n",
    "\tlogits.AssertDims(batchSize, 8, 8, 128)\n",
    "\tlogits = activations.Relu(logits)\n",
    "\tlogits = batchnorm.New(nextCtx(\"batchnorm\"), logits, -1).Done()\n",
    "\tlogits = layers.Convolution(nextCtx(\"conv\"), logits).Filters(128).KernelSize(3).PadSame().Done()\n",
    "\tlogits.AssertDims(batchSize, 8, 8, 128)\n",
    "\tlogits = activations.Relu(logits)\n",
    "\tlogits = batchnorm.New(nextCtx(\"batchnorm\"), logits, -1).Done()\n",
    "\tlogits = MaxPool(logits).Window(2).Done()\n",
    "\tlogits = layers.DropoutNormalize(nextCtx(\"dropout\"), logits, Scalar(g, dtype, 0.5), true)\n",
    "\tlogits.AssertDims(batchSize, 4, 4, 128)\n",
    "\n",
    "\t// Flatten logits, and we can use the usual FNN/KAN.\n",
    "\tlogits = Reshape(logits, batchSize, -1)\n",
    "\tlogits = layers.Dense(nextCtx(\"dense\"), logits, true, 128)\n",
    "\tlogits = activations.Relu(logits)\n",
    "\tlogits = batchnorm.New(nextCtx(\"batchnorm\"), logits, -1).Done()\n",
    "\tlogits = layers.DropoutNormalize(nextCtx(\"dropout\"), logits, Scalar(g, dtype, 0.5), true)\n",
    "\tnumClasses := len(cifar.C10Labels)\n",
    "\tlogits = layers.Dense(nextCtx(\"dense\"), logits, true, numClasses)\n",
    "\treturn []*Node{logits}\n",
    "}\n",
    "\n",
    "%% -set=\"batch_size=11\"\n",
    "// Let's test that the logits are coming out with the right shape: we want [batch_size, 10], since there are 10 classes.\n",
    "AssertDownloaded()\n",
    "ctx, _ := ContextFromSettings()\n",
    "g := NewGraph(backends.New(), \"placeholder\")\n",
    "batchSize := context.GetParamOr(ctx, \"batch_size\", int(100))\n",
    "logits := ConvolutionModelGraph(ctx, nil, []*Node{Parameter(g, \"images\", shapes.Make(DType, batchSize, cifar.Height, cifar.Width, cifar.Depth))})\n",
    "fmt.Printf(\"Logits shape for batch_size=%d: %s\\n\", batchSize, logits[0].Shape())\n"
   ]
  },
  {
   "cell_type": "markdown",
   "id": "6e3b2b04-8ca7-49d6-921d-3527c9169da9",
   "metadata": {},
   "source": [
    "### Training the CNN model\n",
    "\n",
    "CNNs have a much better inductive bias for machine learning on images, and it can easily achieve > 80% accuracy in training data, and some less on validation data, due to overfitting.\n",
    "\n",
    "Likely it would benefit from pre-training the model on a larger unlabeled datasets -- see the \"Dogs vs Cats\" example to see transfer learning in action for an image model."
   ]
  },
  {
   "cell_type": "code",
   "execution_count": 11,
   "id": "6af158e6-b9f9-423a-8ef9-3b54366d35ef",
   "metadata": {},
   "outputs": [],
   "source": [
    "!rm -rf ~/work/cifar/base_cnn_model"
   ]
  },
  {
   "cell_type": "code",
   "execution_count": 12,
   "id": "b2739281-6e70-4bd4-90e5-ed493678b8ce",
   "metadata": {
    "tags": []
   },
   "outputs": [
    {
     "name": "stdout",
     "output_type": "stream",
     "text": [
      "Backend \"xla\":\txla:cuda - PJRT \"cuda\" plugin (/usr/local/lib/gomlx/pjrt/pjrt_c_api_cuda_plugin.so) v0.55\n",
      "Checkpointing model to \"/home/janpf/work/cifar/base_cnn_model\"\n"
     ]
    },
    {
     "data": {
      "text/html": []
     },
     "metadata": {},
     "output_type": "display_data"
    },
    {
     "name": "stdout",
     "output_type": "stream",
     "text": [
      "Training (80000 steps):    0% [........................................] (175 steps/s) [4s:7m32s] [step=719] [loss+=1.832] [~loss+=1.745] [~loss=1.745] [~acc=35.49%]        "
     ]
    },
    {
     "data": {
      "text/html": []
     },
     "metadata": {},
     "output_type": "display_data"
    },
    {
     "name": "stdout",
     "output_type": "stream",
     "text": [
      "Training (80000 steps):  100% [========================================] (240 steps/s) [step=79999] [loss+=0.870] [~loss+=0.641] [~loss=0.641] [~acc=78.02%]        4%]           \n"
     ]
    },
    {
     "data": {
      "text/html": [
       "<p><b>Metric: accuracy</b></p>\n"
      ]
     },
     "metadata": {},
     "output_type": "display_data"
    },
    {
     "data": {
      "text/html": [
       "<div id=\"cbf18c81\"></div>"
      ]
     },
     "metadata": {},
     "output_type": "display_data"
    },
    {
     "data": {
      "text/html": [
       "<script charset=\"UTF-8\">\n",
       "(() => {\n",
       "\tconst src=\"https://cdn.plot.ly/plotly-2.29.1.min.js\";\n",
       "\tvar runJSFn = function(module) {\n",
       "\t\t\n",
       "\tif (!module) {\n",
       "\t\tmodule = window.Plotly;\n",
       "\t}\n",
       "\tlet data = JSON.parse('{\"data\":[{\"type\":\"scatter\",\"line\":{\"shape\":\"linear\"},\"mode\":\"lines+markers\",\"name\":\"Train: Moving Average Accuracy\",\"x\":[200,440,728,1074,1489,1987,2585,3303,4165,5199,6440,7929,9716,11860,14433,17521,21227,25674,31010,37413,45097,54318,65383,78661,80000],\"y\":[0.13718588650226593,0.2768512964248657,0.3561778962612152,0.40719735622406006,0.44728896021842957,0.46942752599716187,0.512141764163971,0.5459250807762146,0.5740087628364563,0.5966060161590576,0.6371544003486633,0.6651802062988281,0.6769130229949951,0.6984148621559143,0.7055391073226929,0.7178502678871155,0.7287341356277466,0.7382861971855164,0.7497828006744385,0.7516309022903442,0.763613224029541,0.7620330452919006,0.7663221955299377,0.7770527601242065,0.7802161574363708]},{\"type\":\"scatter\",\"line\":{\"shape\":\"linear\"},\"mode\":\"lines+markers\",\"name\":\"Eval on Training: Mean Accuracy\",\"x\":[200,440,728,1074,1489,1987,2585,3303,4165,5199,6440,7929,9716,11860,14433,17521,21227,25674,31010,37413,45097,54318,65383,78661,80000],\"y\":[0.2387399971485138,0.342960000038147,0.40487998723983765,0.4518999755382538,0.5004799962043762,0.5338999629020691,0.5702999830245972,0.6010800004005432,0.6129999756813049,0.6774199604988098,0.6961399912834167,0.7177199721336365,0.7518799901008606,0.7573800086975098,0.7713399529457092,0.7886399626731873,0.7974599599838257,0.8128399848937988,0.8115400075912476,0.8252999782562256,0.8403599858283997,0.8451199531555176,0.8584399819374084,0.8542799949645996,0.8718799948692322]},{\"type\":\"scatter\",\"line\":{\"shape\":\"linear\"},\"mode\":\"lines+markers\",\"name\":\"Eval on Validation: Mean Accuracy\",\"x\":[200,440,728,1074,1489,1987,2585,3303,4165,5199,6440,7929,9716,11860,14433,17521,21227,25674,31010,37413,45097,54318,65383,78661,80000],\"y\":[0.2485000044107437,0.3433000147342682,0.40400001406669617,0.4507000148296356,0.4945000112056732,0.525700032711029,0.5559000372886658,0.5958000421524048,0.5992000102996826,0.6680000424385071,0.6794000267982483,0.6995000243186951,0.7323000431060791,0.7290000319480896,0.744100034236908,0.7512000203132629,0.759600043296814,0.7708000540733337,0.7647000551223755,0.7744000554084778,0.789400041103363,0.7892000079154968,0.7988000512123108,0.7986000180244446,0.8074000477790833]}],\"layout\":{\"legend\":{},\"title\":{\"text\":\"accuracy\"},\"xaxis\":{\"showgrid\":true,\"type\":\"log\"},\"yaxis\":{\"showgrid\":true,\"type\":\"log\"}}}');\n",
       "\tmodule.newPlot('cbf18c81', data);\n",
       "\n",
       "\t}\n",
       "\t\n",
       "    if (typeof requirejs === \"function\") {\n",
       "        // Use RequireJS to load module.\n",
       "\t\tlet srcWithoutExtension = src.substring(0, src.lastIndexOf(\".js\"));\n",
       "        requirejs.config({\n",
       "            paths: {\n",
       "                'plotly': srcWithoutExtension\n",
       "            }\n",
       "        });\n",
       "        require(['plotly'], function(plotly) {\n",
       "            runJSFn(plotly)\n",
       "        });\n",
       "        return\n",
       "    }\n",
       "\n",
       "\tvar currentScripts = document.head.getElementsByTagName(\"script\");\n",
       "\tfor (const idx in currentScripts) {\n",
       "\t\tlet script = currentScripts[idx];\n",
       "\t\tif (script.src == src) {\n",
       "\t\t\trunJSFn(null);\n",
       "\t\t\treturn;\n",
       "\t\t}\n",
       "\t}\n",
       "\n",
       "\tvar script = document.createElement(\"script\");\n",
       "\n",
       "\tscript.charset = \"utf-8\";\n",
       "\t\n",
       "\tscript.src = src;\n",
       "\tscript.onload = script.onreadystatechange = function () { runJSFn(null); };\n",
       "\tdocument.head.appendChild(script);\t\n",
       "})();\n",
       "</script>"
      ]
     },
     "metadata": {},
     "output_type": "display_data"
    },
    {
     "data": {
      "text/html": [
       "<p><b>Metric: loss</b></p>\n"
      ]
     },
     "metadata": {},
     "output_type": "display_data"
    },
    {
     "data": {
      "text/html": [
       "<div id=\"43b9da16\"></div>"
      ]
     },
     "metadata": {},
     "output_type": "display_data"
    },
    {
     "data": {
      "text/html": [
       "<script charset=\"UTF-8\">\n",
       "(() => {\n",
       "\tconst src=\"https://cdn.plot.ly/plotly-2.29.1.min.js\";\n",
       "\tvar runJSFn = function(module) {\n",
       "\t\t\n",
       "\tif (!module) {\n",
       "\t\tmodule = window.Plotly;\n",
       "\t}\n",
       "\tlet data = JSON.parse('{\"data\":[{\"type\":\"scatter\",\"line\":{\"shape\":\"linear\"},\"mode\":\"lines+markers\",\"name\":\"Train: Batch Loss+Regularization\",\"x\":[200,440,728,1074,1489,1987,2585,3303,4165,5199,6440,7929,9716,11860,14433,17521,21227,25674,31010,37413,45097,54318,65383,78661,80000],\"y\":[2.058699131011963,1.6770808696746826,1.5729856491088867,1.9055945873260498,1.7583130598068237,1.3939934968948364,1.1550581455230713,1.2450971603393555,1.3773961067199707,1.1954326629638672,0.7838404178619385,0.7291576862335205,0.8839046359062195,0.9323529005050659,0.950271725654602,0.6528267860412598,1.009403109550476,0.8015301823616028,0.7809960842132568,0.7970243692398071,0.5219723582267761,0.6933130621910095,0.8614876866340637,0.3990509510040283,0.8700321912765503]},{\"type\":\"scatter\",\"line\":{\"shape\":\"linear\"},\"mode\":\"lines+markers\",\"name\":\"Train: Moving Average Loss+Regularization\",\"x\":[200,440,728,1074,1489,1987,2585,3303,4165,5199,6440,7929,9716,11860,14433,17521,21227,25674,31010,37413,45097,54318,65383,78661,80000],\"y\":[2.2438278198242188,1.9279333353042603,1.7342973947525024,1.5998857021331787,1.5077712535858154,1.4436535835266113,1.3481138944625854,1.2594407796859741,1.1868793964385986,1.1168619394302368,1.0337984561920166,0.9703160524368286,0.9227675795555115,0.865811824798584,0.851713240146637,0.8182564377784729,0.7746145129203796,0.7572530508041382,0.7237240076065063,0.717458963394165,0.6886153817176819,0.6824399828910828,0.6858847141265869,0.6549420952796936,0.6411043405532837]},{\"type\":\"scatter\",\"line\":{\"shape\":\"linear\"},\"mode\":\"lines+markers\",\"name\":\"Train: Moving Average Loss\",\"x\":[200,440,728,1074,1489,1987,2585,3303,4165,5199,6440,7929,9716,11860,14433,17521,21227,25674,31010,37413,45097,54318,65383,78661,80000],\"y\":[2.2438278198242188,1.9279333353042603,1.7342973947525024,1.5998857021331787,1.5077712535858154,1.4436535835266113,1.3481138944625854,1.2594407796859741,1.1868793964385986,1.1168619394302368,1.0337984561920166,0.9703160524368286,0.9227675795555115,0.865811824798584,0.851713240146637,0.8182564377784729,0.7746145129203796,0.7572530508041382,0.7237240076065063,0.717458963394165,0.6886153817176819,0.6824399828910828,0.6858847141265869,0.6549420952796936,0.6411043405532837]},{\"type\":\"scatter\",\"line\":{\"shape\":\"linear\"},\"mode\":\"lines+markers\",\"name\":\"Eval on Training: Mean Loss+Regularization\",\"x\":[200,440,728,1074,1489,1987,2585,3303,4165,5199,6440,7929,9716,11860,14433,17521,21227,25674,31010,37413,45097,54318,65383,78661,80000],\"y\":[2.0511231422424316,1.7395601272583008,1.582843542098999,1.476256012916565,1.356823205947876,1.2747608423233032,1.200927734375,1.0991820096969604,1.0804351568222046,0.9065806269645691,0.8483859300613403,0.7854312062263489,0.6862310171127319,0.6906232833862305,0.6439277529716492,0.5989573001861572,0.5730541944503784,0.5253905057907104,0.530426561832428,0.49712589383125305,0.44901636242866516,0.43736732006073,0.4093810021877289,0.4133985936641693,0.3691536486148834]},{\"type\":\"scatter\",\"line\":{\"shape\":\"linear\"},\"mode\":\"lines+markers\",\"name\":\"Eval on Training: Mean Loss\",\"x\":[200,440,728,1074,1489,1987,2585,3303,4165,5199,6440,7929,9716,11860,14433,17521,21227,25674,31010,37413,45097,54318,65383,78661,80000],\"y\":[2.0511231422424316,1.7395601272583008,1.582843542098999,1.476256012916565,1.356823205947876,1.2747608423233032,1.200927734375,1.0991820096969604,1.0804351568222046,0.9065806269645691,0.8483859300613403,0.7854312062263489,0.6862310171127319,0.6906232833862305,0.6439277529716492,0.5989573001861572,0.5730541944503784,0.5253905057907104,0.530426561832428,0.49712589383125305,0.44901636242866516,0.43736732006073,0.4093810021877289,0.4133985936641693,0.3691536486148834]},{\"type\":\"scatter\",\"line\":{\"shape\":\"linear\"},\"mode\":\"lines+markers\",\"name\":\"Eval on Validation: Mean Loss+Regularization\",\"x\":[200,440,728,1074,1489,1987,2585,3303,4165,5199,6440,7929,9716,11860,14433,17521,21227,25674,31010,37413,45097,54318,65383,78661,80000],\"y\":[2.0432724952697754,1.7287815809249878,1.5805065631866455,1.4830225706100464,1.3658745288848877,1.2956045866012573,1.2225064039230347,1.1265021562576294,1.1165803670883179,0.961378276348114,0.9092155694961548,0.8573684096336365,0.7702005505561829,0.784195601940155,0.7479364275932312,0.7115015983581543,0.6966419219970703,0.6653781533241272,0.6882487535476685,0.6532460451126099,0.6302598118782043,0.6219624876976013,0.6035091876983643,0.6066839694976807,0.583836019039154]},{\"type\":\"scatter\",\"line\":{\"shape\":\"linear\"},\"mode\":\"lines+markers\",\"name\":\"Eval on Validation: Mean Loss\",\"x\":[200,440,728,1074,1489,1987,2585,3303,4165,5199,6440,7929,9716,11860,14433,17521,21227,25674,31010,37413,45097,54318,65383,78661,80000],\"y\":[2.0432724952697754,1.7287815809249878,1.5805065631866455,1.4830225706100464,1.3658745288848877,1.2956045866012573,1.2225064039230347,1.1265021562576294,1.1165803670883179,0.961378276348114,0.9092155694961548,0.8573684096336365,0.7702005505561829,0.784195601940155,0.7479364275932312,0.7115015983581543,0.6966419219970703,0.6653781533241272,0.6882487535476685,0.6532460451126099,0.6302598118782043,0.6219624876976013,0.6035091876983643,0.6066839694976807,0.583836019039154]}],\"layout\":{\"legend\":{},\"title\":{\"text\":\"loss\"},\"xaxis\":{\"showgrid\":true,\"type\":\"log\"},\"yaxis\":{\"showgrid\":true,\"type\":\"log\"}}}');\n",
       "\tmodule.newPlot('43b9da16', data);\n",
       "\n",
       "\t}\n",
       "\t\n",
       "    if (typeof requirejs === \"function\") {\n",
       "        // Use RequireJS to load module.\n",
       "\t\tlet srcWithoutExtension = src.substring(0, src.lastIndexOf(\".js\"));\n",
       "        requirejs.config({\n",
       "            paths: {\n",
       "                'plotly': srcWithoutExtension\n",
       "            }\n",
       "        });\n",
       "        require(['plotly'], function(plotly) {\n",
       "            runJSFn(plotly)\n",
       "        });\n",
       "        return\n",
       "    }\n",
       "\n",
       "\tvar currentScripts = document.head.getElementsByTagName(\"script\");\n",
       "\tfor (const idx in currentScripts) {\n",
       "\t\tlet script = currentScripts[idx];\n",
       "\t\tif (script.src == src) {\n",
       "\t\t\trunJSFn(null);\n",
       "\t\t\treturn;\n",
       "\t\t}\n",
       "\t}\n",
       "\n",
       "\tvar script = document.createElement(\"script\");\n",
       "\n",
       "\tscript.charset = \"utf-8\";\n",
       "\t\n",
       "\tscript.src = src;\n",
       "\tscript.onload = script.onreadystatechange = function () { runJSFn(null); };\n",
       "\tdocument.head.appendChild(script);\t\n",
       "})();\n",
       "</script>"
      ]
     },
     "metadata": {},
     "output_type": "display_data"
    },
    {
     "name": "stdout",
     "output_type": "stream",
     "text": [
      "\t[Step 80000] median train step: 3742 microseconds\n",
      "\n",
      "Results on Validation:\n",
      "\tMean Loss+Regularization (#loss+): 0.584\n",
      "\tMean Loss (#loss): 0.584\n",
      "\tMean Accuracy (#acc): 80.74%\n",
      "Results on Training:\n",
      "\tMean Loss+Regularization (#loss+): 0.369\n",
      "\tMean Loss (#loss): 0.369\n",
      "\tMean Accuracy (#acc): 87.19%\n"
     ]
    }
   ],
   "source": [
    "%% --checkpoint=base_cnn_model --set=\"model=cnn;learning_rate=1e-3;l2_regularization=0;l1_regularization=0;train_steps=80000\"\n",
    "trainModel()"
   ]
  },
  {
   "cell_type": "markdown",
   "id": "924fd269-625f-4f16-852c-9796f6b34630",
   "metadata": {},
   "source": [
    "## Inference\n",
    "\n",
    "Inference, or serving the model, is done by using the same code as used to train the model.\n",
    "That is, currently the way to save the model is to export the Go model creation function, along with the checkpoint with learned weights.\n",
    "\n",
    "We created a small library `cifar/classifier` that takes an image as input, convert it to a tensor and calls the trained model\n"
   ]
  },
  {
   "cell_type": "code",
   "execution_count": 13,
   "id": "f6db808a-dde2-4676-b1f4-f4b651c405f4",
   "metadata": {},
   "outputs": [
    {
     "data": {
      "text/html": [
       "<p>Image: (32 x 32)</p>"
      ]
     },
     "metadata": {},
     "output_type": "display_data"
    },
    {
     "data": {
      "image/png": "[encoded data removed]"
     },
     "metadata": {},
     "output_type": "display_data"
    },
    {
     "data": {
      "text/html": [
       "<p>Class: <b>horse (7)</b></p>"
      ]
     },
     "metadata": {},
     "output_type": "display_data"
    }
   ],
   "source": [
    "import (\n",
    "    \"encoding/base64\"\n",
    "    \"image/png\"\n",
    "    \n",
    "    \"github.com/gomlx/gomlx/examples/cifar/classifier\"\n",
    "    // We also must import then engine that will execute the model.\n",
    "    // Currently only XLA is supported.\n",
    "    _ \"github.com/gomlx/gomlx/backends/xla\"\n",
    ")\n",
    "\n",
    "%%\n",
    "// Decode and print PNG image.\n",
    "imgBase64 := bytes.NewBufferString(\n",
    "    \"iVBORw0KGgoAAAANSUhEUgAAACAAAAAgCAIAAAD8GO2jAAAI5UlEQVR4nCxWSZMc1dV988upMmvo6uqWWvrUgFDwGWEMAZhwEAZ7YXvrrX+CN1765+GVg43DCwIhbAdCotVTVeX88o33OarxWWfcOPnuGS77458+Q4xWy0U1r7wF75CZIEaOEUUIDcNQ1zWlNIBnjAYIR0dHi9VKTZr5iAMYBEJKjpCx02azmi/mVrtJaWttjLGc5WyVPAwYUc1FWFo3OuMRIt4CISgEO01T13Xeey54VVVlXiUsGXZtbxSO2Acvi9wo58dJqR7jQCjBETvnxnFUatrvt+ze8SOPgAkZMFijjI7WGIxpWeYyyX3wp6enXdcpbTCi3gTlh7Efsipbnhw5FLU1hUwV4DxPEMa73Y5i2rUDAHDO0zRjxTw/TMWx67px1M55732aJsYq65AQAgAwxk3TqVFvqoVHlAG8tb7nGL1otlab0werfC26vhGCpFnS1v00TTHGIs+r+Zw5ZExQ+6692e66znjviiIDIEoF57yU0vsAENNE1tt9GHTGkv9/6+2TxfHXL//VDQ1F5NWLl6v1ilJKCBFCIjTEiBjn5XzBOCdmckM/9Z1q26FpGoyJ9zBNpm0H52A+X3KeVOX8yfnDk9W8HdX8wfkHX/z+P5fbq6axMWDOt7vm6nKbJrM0LTHiQqSE8ojZvu2ud3vGuXDWq1FBgKIoZrNZCMFab61zzl9dXRNCnPOJkKcPz4NY/fKLP3zy+e+e/fMfTT/gFCOHY8RdNxjtACBCZIzneaGN2W13CCHW32FUIwAImXjvrbV3+0kRQtbasiwRQsoBYunx2fGgyYvXzRSinkxCeKCwXK5RjJeXN3mRZJls+65rO8EYBrRarch2ux3GASEUY0QIOXcg4r03+gBKKQAYY6xz2tim7V+8uLq57SxCRrv2tnHa+RDrup2UybNZ2w510xymeZCUIetYjHD3JtYYmxclQhhhhCKCGKdpAgCtdZ7nszIbVJhUNKO22iXFzFrnxyEC3e46PaknTx5vNqfW2n1XV/OKuIC073c7+vS9pz4AIgRjioE7G4zWd/SnEBzGiDGWSJ6nSSJTpT0iPMuzJCFGjRSR4EPbDYQy66wQsppXMYLTJjpPIDKC6Re/+e3q6LgoyxiIVbFv+6Ht1DCg6DECKXmepcH7u5cjL1/92PZ7jIMU+e3tHkFs673RBlHmnEsSWVYlAdTtmuAsZ0xKwYw2Zhh7ddDo0I6jGkMwjBFKCKOcYu7twZMR0/2ujtqCMeryqmWcU7IfBmsdwXgaRylZs9+1y/J0vTbjkCVilsk8TVj0h8QZ+8EZbf0Qo8UkMk6dA8Z5kc8PciIkUjpNbc6kHVWom5rhPE8XVdnvbiilpeSr1YJitLu+miUcYVBqEBQQOPr+06eT1sZo66zzh6AIHsVI8qzcbO4vl2uCGaUiIIIxAeNU01qtgEQEQRz+lKVSSEE5p3kmrZmGoevapqn3nGHOKBv7wXsPHhgmgifWxBABxwRFMQ6aURXv9Cvy9PTk/qWDtqmbtvENkpzYg9igH3pGQAoavJvUMIxBCi45JQQRghiR0gfoxskHiIitlqdt21tjtzdbNYyJkPTgZEcJdoTM8kwfLfuhmYYGryrOBCMoOQzzlCEpudYMvMMEECYBRxM8sQhdbbej0s5BkhTL5TocXKa8NUZNzXan+sFpjazptrcMoaPFIhUSeevN5K1eVLN79zZpLiY9dn0XABjjANH64AFjJpkZVfSO4sAoWVV5V98EZ4TgEMIwdgHc5vgYIeTDwRllWXIuAnhKKcYYIjjns0LM0CzLMn8HSuSkpjxPpJilScmCtlWaQsJWq2VRyLa+KQoJmEUUrFHD0GIMaZomqdjttk27n81m3tsqz7xzwzBmARWzo7IsASBJkhijFKm1Xggxn8+rcsaIhypL15t7y0X546sLisysSPvpwCWAizF0XTOOfV6kITgAb8xkjd4s5oSQpm4Q5ofgskoIwRhPEqmUgkOBCwBr3UTPVieUACPBWbXf3gBCiPB+0sPQoxhmZRERaDMJwU5PT4TkxugQfJ5lj99+ks/Kru+l5HW7k1IeAt7am9vX1zcX1ukAVqmeea9PVuuEQd/U2mqgiXa2GYaA/HozJ4RhErWZ8jJbHi+MMUmRQADwcFnfzBdL0bBtty3nM0cRZoCJK2a5dwaCF+yQpPTs3oYSoNHXTV0rjXliPLSjWi7K9apKk1SNkxrV6f2TYpYTSmMEhOKuri9eXxCKN5u1sdrYgy4IBs5JdAGFKIVMZJImKauOl5PXHBFeljISQqgzapYmp+t1Kgmj4ofvX2VptqzmyEPCeVrN67qOzj16cHa0WHCC33njzZffv8wR3SyP8iyJER0aUErOOaGUHW+OIvhU8izJqm6ajDXu8vH9B5vjlRCEUYmBfPfdv9948H/r9YoQIqV89uxZSunHn3xSzmbGmkzmD49Ov33+za8+/DjNJMKE/CRiAIQR++C9pygiQinngrP0xQ8/YEQ+//VnAD7EkMjs/Xd/8eWXf9vfbD96/+eUsn29d2r69KMP33v3Z9aarusikOLRo+fPv7m4uDg/f5im+U91K4TgnNO//uXP82qxXh1V1XK9Ptnebpfz6s3zc++sPHwiBePHR+tn33w9tF2WpV/9/SvB2aeffoQjaD3dbRIhQrWZur6hjNX7elJ6HIbt7c4YyyLCnDGEMYlYj8N6udA6ubi4MEYLISnVAA0h5PHbbzVte7PbdePw7vk7r68ujdGMHXomIpSm+f2zY4AgBItAnAdt7Diqvh/Zt8+/i3fAmNT7drFYtm3b9/2dJw8NhTEehgFhRBm9eH3x4OEDLuT1zbUxuqrmVVUyxjFGhHBKJaVM8JySO/cZjzFhXdcZY0IIMaLXF9fX1zdFUQghQggBwkEwMVprXfBZli2XyyRJtJ44EwRTSph3gWCGCfYu6EkbY+dzRDBTSmGMhBSMMfa/jUd8dnYWQqCUpmn604Hkvc/zXEoJKBZFcTiQlOIHylQIPJ9XhJAYo1JKa51lWTnLrLHWqjzPGWPe+/8GAAD//7swHNFia9prAAAAAElFTkSuQmCC\")\n",
    "imgPNG := must.M1(io.ReadAll(base64.NewDecoder(base64.StdEncoding, imgBase64)))\n",
    "img := must.M1(png.Decode(bytes.NewBuffer(imgPNG)))\n",
    "size := img.Bounds()\n",
    "gonbui.DisplayHTML(fmt.Sprintf(\"<p>Image: (%d x %d)</p>\", size.Dx(), size.Dy()))\n",
    "gonbui.DisplayPNG(imgPNG)\n",
    "\n",
    "// Classify:\n",
    "c10Classifier := must.M1(classifier.New(\"~/work/cifar/base_fnn_model\"))\n",
    "classID := must.M1(c10Classifier.Classify(img))\n",
    "className := cifar.C10Labels[classID]\n",
    "gonbui.DisplayHTML(fmt.Sprintf(\"<p>Class: <b>%s (%d)</b></p>\", className, classID))"
   ]
  },
  {
   "cell_type": "markdown",
   "id": "df79459f-9aca-4f52-b244-0b6109a69b9d",
   "metadata": {},
   "source": [
    "### Generate a random image as base64"
   ]
  },
  {
   "cell_type": "code",
   "execution_count": 14,
   "id": "898eaefe-5934-473e-a47c-6f01bfb81df0",
   "metadata": {},
   "outputs": [
    {
     "name": "stdout",
     "output_type": "stream",
     "text": [
      "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\n",
      "\n"
     ]
    },
    {
     "data": {
      "text/html": [
       "<img width=\"64\" height=\"64\" src=\"data:image/png;base64,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\"/>"
      ]
     },
     "metadata": {},
     "output_type": "display_data"
    }
   ],
   "source": [
    "// \n",
    "%%\n",
    "backend := backends.New()\n",
    "ds := cifar.NewDataset(backend, \"Samples Cifar-10\", *flagDataDir, cifar.C10, DType, cifar.Train).Shuffle()\n",
    "_, inputs, _ := must.M3(ds.Yield())\n",
    "imgTensor := inputs[0]\n",
    "img := images.ToImage().Single(imgTensor)\n",
    "imgSrc := must.M1(gonbui.EmbedImageAsPNGSrc(img))\n",
    "imgBase64 := imgSrc[22:]  // Strip the preamble for a <img> src tag.\n",
    "fmt.Printf(\"%s\\n\\n\", imgBase64)\n",
    "size := imgTensor.Shape().Dimensions[0]\n",
    "gonbui.DisplayHTML(fmt.Sprintf(`<img width=\"%d\" height=\"%d\" src=\"%s\"/>`, size*2, size*2, imgSrc))"
   ]
  }
 ],
 "metadata": {
  "kernelspec": {
   "display_name": "Go (gonb)",
   "language": "go",
   "name": "gonb"
  },
  "language_info": {
   "codemirror_mode": "",
   "file_extension": ".go",
   "mimetype": "",
   "name": "go",
   "nbconvert_exporter": "",
   "pygments_lexer": "",
   "version": "go1.23.2"
  }
 },
 "nbformat": 4,
 "nbformat_minor": 5
}
