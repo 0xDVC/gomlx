{
 "cells": [
  {
   "cell_type": "markdown",
   "id": "89c9afa4-399c-4a64-ac27-dd1aeecbc8f3",
   "metadata": {},
   "source": [
    "# Fast-Fourier-Transformation Example\n",
    "\n",
    "## Machine-Learned Inverse FFT\n",
    "\n",
    "Let's start with a sinusoidal curve: that's the input (`x`) that we want to learn, given its FFT (`y`).\n",
    "The goal is to do an `InverseRealFFT` by gradient descent.\n",
    "\n",
    "For this problem the input (`x`) is real (`float32`) and label (`y`), the FFT, is complex (`complex64`)."
   ]
  },
  {
   "cell_type": "code",
   "execution_count": 1,
   "id": "2a73f9ca-19a5-44e8-96c1-c488ecf356c0",
   "metadata": {},
   "outputs": [
    {
     "name": "stdout",
     "output_type": "stream",
     "text": [
      "\t- Added replace rule for module \"github.com/gomlx/gopjrt\" to local directory \"/home/janpf/Projects/gopjrt\".\n",
      "\t- Added replace rule for module \"github.com/gomlx/bsplines\" to local directory \"/home/janpf/Projects/bsplines\".\n",
      "\t- Added replace rule for module \"github.com/gomlx/gomlx\" to local directory \"/home/janpf/Projects/gomlx\".\n",
      "\t- Added replace rule for module \"github.com/janpfeifer/gonb\" to local directory \"/home/janpf/Projects/gonb\".\n"
     ]
    }
   ],
   "source": [
    "!*rm -f go.work && go work init && go work use . \"${HOME}/Projects/gomlx\" \"${HOME}/Projects/gonb\" \"${HOME}/Projects/gopjrt\" \"${HOME}/Projects/bsplines\"\n",
    "%goworkfix"
   ]
  },
  {
   "cell_type": "code",
   "execution_count": 2,
   "id": "e34bf9b0-a4ed-4afe-a52d-deccd7bd4620",
   "metadata": {},
   "outputs": [
    {
     "name": "stdout",
     "output_type": "stream",
     "text": [
      "x: shape=(Float32)[1 100]\n",
      "y: shape=(Complex64)[1 51]\n"
     ]
    },
    {
     "data": {
      "text/html": [
       "<svg preserveAspectRatio=\"xMidYMid meet\" xmlns=\"http://www.w3.org/2000/svg\" width=\"1024\" height=\"320\" viewbox=\"0 0 1024 320\" style=\"background-color:#f8f8f8\"><defs><marker refY=\"5\" markerUnits=\"userSpaceOnUse\" markerWidth=\"2%\" markerHeight=\"2%\" id=\"circle\" viewBox=\"0 0 10 10 \" refX=\"5\"><circle fill=\"none\" stroke=\"black\" cx=\"5\" cy=\"5\" r=\"3\"/></marker><marker markerWidth=\"2%\" markerHeight=\"2%\" id=\"filled-circle\" viewBox=\"0 0 10 10 \" refX=\"5\" refY=\"5\" markerUnits=\"userSpaceOnUse\"><circle fill=\"black\" stroke=\"none\" cx=\"5\" cy=\"5\" r=\"3\"/></marker><marker markerUnits=\"userSpaceOnUse\" markerWidth=\"2%\" markerHeight=\"2%\" id=\"square\" viewBox=\"0 0 10 10 \" refX=\"5\" refY=\"5\"><rect x=\"2\" y=\"2\" width=\"6\" height=\"6\" fill=\"none\" stroke=\"black\"/></marker><marker refY=\"5\" markerUnits=\"userSpaceOnUse\" markerWidth=\"2%\" markerHeight=\"2%\" id=\"filled-square\" viewBox=\"0 0 10 10 \" refX=\"5\"><rect fill=\"black\" stroke=\"none\" x=\"2\" y=\"2\" width=\"6\" height=\"6\"/></marker></defs><g stroke-width=\"2px\" stroke-linecap=\"round\" stroke=\"hsl(90, 47%, 65%)\" marker-start=\"url(#square)\" marker-end=\"url(#square)\" fill=\"none\" stroke-linejoin=\"round\" transform=\"translate(70 250 )scale(1 -1 )\" marker-mid=\"url(#square)\"><path vector-effect=\"non-scaling-stroke\" d=\"M1.768000e+01,9.000000e+01 L2.625212e+01,1.008502e+02 L3.482424e+01,1.115293e+02 L4.339636e+01,1.218689e+02 L5.196848e+01,1.317058e+02 L6.054061e+01,1.408851e+02 L6.911273e+01,1.492618e+02 L7.768485e+01,1.567040e+02 L8.625697e+01,1.630942e+02 L9.482909e+01,1.683316e+02 L1.034012e+02,1.723338e+02 L1.119733e+02,1.750374e+02 L1.205455e+02,1.764000e+02 L1.291176e+02,1.764000e+02 L1.376897e+02,1.750374e+02 L1.462618e+02,1.723337e+02 L1.548339e+02,1.683316e+02 L1.634061e+02,1.630942e+02 L1.719782e+02,1.567040e+02 L1.805503e+02,1.492618e+02 L1.891224e+02,1.408851e+02 L1.976945e+02,1.317058e+02 L2.062667e+02,1.218688e+02 L2.148388e+02,1.115293e+02 L2.234109e+02,1.008502e+02 L2.319830e+02,9.000000e+01 L2.405552e+02,7.914979e+01 L2.491273e+02,6.847070e+01 L2.576994e+02,5.813114e+01 L2.662715e+02,4.829417e+01 L2.748436e+02,3.911494e+01 L2.834158e+02,3.073819e+01 L2.919879e+02,2.329603e+01 L3.005600e+02,1.690582e+01 L3.091321e+02,1.166837e+01 L3.177042e+02,7.666243e+00 L3.262764e+02,4.962576e+00 L3.348485e+02,3.600005e+00 L3.434206e+02,3.600005e+00 L3.519927e+02,4.962587e+00 L3.605648e+02,7.666258e+00 L3.691370e+02,1.166838e+01 L3.777091e+02,1.690585e+01 L3.862812e+02,2.329605e+01 L3.948533e+02,3.073821e+01 L4.034255e+02,3.911497e+01 L4.119976e+02,4.829422e+01 L4.205697e+02,5.813120e+01 L4.291418e+02,6.847076e+01 L4.377139e+02,7.914981e+01 L4.462861e+02,9.000002e+01 L4.548582e+02,1.008502e+02 L4.634303e+02,1.115293e+02 L4.720024e+02,1.218689e+02 L4.805745e+02,1.317058e+02 L4.891467e+02,1.408851e+02 L4.977188e+02,1.492618e+02 L5.062909e+02,1.567040e+02 L5.148630e+02,1.630942e+02 L5.234352e+02,1.683316e+02 L5.320073e+02,1.723338e+02 L5.405794e+02,1.750374e+02 L5.491515e+02,1.764000e+02 L5.577236e+02,1.764000e+02 L5.662958e+02,1.750374e+02 L5.748679e+02,1.723337e+02 L5.834400e+02,1.683316e+02 L5.920121e+02,1.630941e+02 L6.005842e+02,1.567039e+02 L6.091564e+02,1.492618e+02 L6.177285e+02,1.408850e+02 L6.263006e+02,1.317058e+02 L6.348727e+02,1.218688e+02 L6.434448e+02,1.115292e+02 L6.520170e+02,1.008501e+02 L6.605891e+02,9.000000e+01 L6.691612e+02,7.914979e+01 L6.777333e+02,6.847070e+01 L6.863055e+02,5.813114e+01 L6.948776e+02,4.829417e+01 L7.034497e+02,3.911493e+01 L7.120218e+02,3.073817e+01 L7.205939e+02,2.329602e+01 L7.291661e+02,1.690582e+01 L7.377382e+02,1.166836e+01 L7.463103e+02,7.666243e+00 L7.548824e+02,4.962576e+00 L7.634545e+02,3.600000e+00 L7.720267e+02,3.600010e+00 L7.805988e+02,4.962597e+00 L7.891709e+02,7.666274e+00 L7.977430e+02,1.166841e+01 L8.063152e+02,1.690588e+01 L8.148873e+02,2.329609e+01 L8.234594e+02,3.073825e+01 L8.320315e+02,3.911502e+01 L8.406036e+02,4.829427e+01 L8.491758e+02,5.813117e+01 L8.577479e+02,6.847074e+01 L8.663200e+02,7.914983e+01 \"/></g><g stroke=\"black\" fill=\"none\" stroke-width=\"2px\" stroke-linecap=\"round\" stroke-linejoin=\"round\" transform=\"translate(70 250 )scale(1 -1 )\"><path vector-effect=\"non-scaling-stroke\" d=\"M1.768000e+01,0 L1.768000e+01,-6 M1.034012e+02,0 L1.034012e+02,-6 M1.891224e+02,0 L1.891224e+02,-6 M2.748436e+02,0 L2.748436e+02,-6 M3.605648e+02,0 L3.605648e+02,-6 M4.462861e+02,0 L4.462861e+02,-6 M5.320073e+02,0 L5.320073e+02,-6 M6.177285e+02,0 L6.177285e+02,-6 M7.034497e+02,0 L7.034497e+02,-6 M7.891709e+02,0 L7.891709e+02,-6 \"/></g><g stroke=\"black\" font-weight=\"normal\" font-style=\"normal\" stroke-linejoin=\"round\" transform=\"translate(70 250 )scale(1 1 )\" font-family=\"sans-serif\" font-size=\"12px\" fill=\"black\" stroke-width=\"2px\" stroke-linecap=\"round\" text-anchor=\"middle\" dominant-baseline=\"hanging\"><text dominant-baseline=\"hanging\" stroke=\"none\" vector-effect=\"non-scaling-stroke\" x=\"1.768000e+01\" y=\"10\">0</text><text y=\"10\" dominant-baseline=\"hanging\" stroke=\"none\" vector-effect=\"non-scaling-stroke\" x=\"1.034012e+02\">10</text><text vector-effect=\"non-scaling-stroke\" x=\"1.891224e+02\" y=\"10\" dominant-baseline=\"hanging\" stroke=\"none\">20</text><text vector-effect=\"non-scaling-stroke\" x=\"2.748436e+02\" y=\"10\" dominant-baseline=\"hanging\" stroke=\"none\">30</text><text dominant-baseline=\"hanging\" stroke=\"none\" vector-effect=\"non-scaling-stroke\" x=\"3.605648e+02\" y=\"10\">40</text><text y=\"10\" dominant-baseline=\"hanging\" stroke=\"none\" vector-effect=\"non-scaling-stroke\" x=\"4.462861e+02\">50</text><text y=\"10\" dominant-baseline=\"hanging\" stroke=\"none\" vector-effect=\"non-scaling-stroke\" x=\"5.320073e+02\">60</text><text x=\"6.177285e+02\" y=\"10\" dominant-baseline=\"hanging\" stroke=\"none\" vector-effect=\"non-scaling-stroke\">70</text><text stroke=\"none\" vector-effect=\"non-scaling-stroke\" x=\"7.034497e+02\" y=\"10\" dominant-baseline=\"hanging\">80</text><text stroke=\"none\" vector-effect=\"non-scaling-stroke\" x=\"7.891709e+02\" y=\"10\" dominant-baseline=\"hanging\">90</text></g><g dominant-baseline=\"baseline\" stroke=\"black\" font-weight=\"bold\" stroke-width=\"2px\" stroke-linecap=\"round\" fill=\"black\" stroke-linejoin=\"round\" text-anchor=\"middle\" transform=\"translate(70 250 )scale(1 1 )rotate(0 0 0 )\" font-family=\"sans-serif\" font-size=\"12px\" font-style=\"normal\"><text stroke=\"none\" vector-effect=\"non-scaling-stroke\" x=\"442\" y=\"-6\" dominant-baseline=\"baseline\">Steps</text></g><g stroke-width=\"2px\" stroke-linecap=\"round\" stroke-linejoin=\"round\" dominant-baseline=\"baseline\" stroke=\"black\" font-family=\"sans-serif\" font-style=\"normal\" transform=\"translate(70 250 )scale(1 -1 )\" text-anchor=\"middle\" font-weight=\"bold\" font-size=\"12px\" fill=\"black\"><path vector-effect=\"non-scaling-stroke\" d=\"M0,9.000000e+01 L-6,9.000000e+01 \"/></g><g dominant-baseline=\"middle\" font-weight=\"normal\" stroke-linejoin=\"round\" transform=\"translate(70 250 )scale(1 1 )\" font-style=\"normal\" text-anchor=\"end\" stroke-linecap=\"round\" stroke=\"black\" font-family=\"sans-serif\" font-size=\"12px\" fill=\"black\" stroke-width=\"2px\"><text y=\"-9.000000e+01\" dominant-baseline=\"middle\" stroke=\"none\" vector-effect=\"non-scaling-stroke\" x=\"-10\">-0.000</text></g><g font-weight=\"normal\" font-size=\"12px\" stroke-width=\"0.5px\" stroke-linecap=\"round\" stroke-linejoin=\"round\" dominant-baseline=\"middle\" stroke=\"gray\" transform=\"translate(70 250 )scale(1 -1 )\" font-family=\"sans-serif\" font-style=\"normal\" fill=\"black\" text-anchor=\"end\"><path vector-effect=\"non-scaling-stroke\" d=\"M0,9.000000e+01 L884,9.000000e+01 \"/></g><g font-style=\"normal\" stroke-linecap=\"round\" stroke-linejoin=\"round\" font-family=\"sans-serif\" font-size=\"12px\" text-anchor=\"end\" stroke=\"black\" font-weight=\"normal\" fill=\"none\" stroke-width=\"2px\" dominant-baseline=\"middle\"><rect y=\"70\" width=\"884\" height=\"180\" vector-effect=\"non-scaling-stroke\" x=\"70\"/></g></svg>"
      ]
     },
     "metadata": {},
     "output_type": "display_data"
    }
   ],
   "source": [
    "import (\n",
    "    \"github.com/gomlx/gopjrt/dtypes\"\n",
    "    . \"github.com/gomlx/gomlx/graph\"\n",
    "    . \"github.com/gomlx/exceptions\"\n",
    "    \"github.com/gomlx/gomlx/types/tensors\"\n",
    "    \"github.com/gomlx/gomlx/types/xslices\"\n",
    "    mg \"github.com/gomlx/gomlx/examples/notebook/gonb/margaid\"\n",
    "    \"github.com/janpfeifer/gonb/gonbui\"\n",
    "\n",
    "    _ \"github.com/gomlx/gomlx/backends/xla\"\n",
    ")\n",
    "\n",
    "// manager always created at initialization.\n",
    "var backend = backends.New()\n",
    "\n",
    "const (\n",
    "    NumPoints = 100\n",
    "    Frequency = 2.0  // Number of curves in samples.\n",
    "    RealDType = dtypes.Float32\n",
    "    ComplexDType = dtypes.Complex64\n",
    ")\n",
    "\n",
    "// CalculateXY returns (x, y) of our problem, where y is a sinusoidal curve and x is its FFT.\n",
    "func CalculateXY() (x, y *tensors.Tensor) {\n",
    "    e := NewExec(backend, func (g *Graph) (x, y *Node) {\n",
    "        x = Iota(g, shapes.Make(RealDType, 1, NumPoints), 1)\n",
    "        x = MulScalar(x, 2.0*math.Pi*Frequency/float64(NumPoints))\n",
    "        x = Sin(x)\n",
    "        y = RealFFT(x)\n",
    "        return\n",
    "    })\n",
    "    res := e.Call()\n",
    "    return res[0], res[1]\n",
    "}\n",
    "\n",
    "func Plot(displayId string, width, height int, coordinates []*tensors.Tensor, names []string) {\n",
    "    plts := mg.New(width, height)\n",
    "    for ii, t := range coordinates {\n",
    "        var values []float64\n",
    "        switch t.DType() {\n",
    "        case dtypes.Float64:\n",
    "            values = tensors.CopyFlatData[float64](t)\n",
    "        case dtypes.Float32:\n",
    "            values32 := tensors.CopyFlatData[float32](t)\n",
    "            values = xslices.Map(values32, func (v float32) float64 { return float64(v) })\n",
    "        default:\n",
    "            Panicf(\"only float32 and float64 tensor dtypes are accepted by Plot, got t.shape=%s\", t.Shape())\n",
    "        }\n",
    "        var name string\n",
    "        if len(names) > ii {\n",
    "            name = names[ii]\n",
    "        }\n",
    "        plts.AddValues(name, \"\", values)\n",
    "    }\n",
    "    if displayId == \"\" {\n",
    "        plts.Plot()\n",
    "    } else {\n",
    "        gonbui.UpdateHTML(displayId, plts.PlotToHTML())\n",
    "    }\n",
    "}\n",
    "\n",
    "%%\n",
    "x, y := CalculateXY()\n",
    "fmt.Printf(\"x: shape=%s\\n\", x.Shape())\n",
    "fmt.Printf(\"y: shape=%s\\n\", y.Shape())\n",
    "Plot(\"\", 1024, 320, []*tensors.Tensor{x}, nil)"
   ]
  },
  {
   "cell_type": "markdown",
   "id": "749d6fbd-c7ad-4bec-80d4-8a2dd1dd1531",
   "metadata": {},
   "source": [
    "### Train the model\n",
    "\n",
    "If you run it, you'll see the plot of the \"learnedX\" adjusting towards \"x\", the original sinusoidal curve."
   ]
  },
  {
   "cell_type": "code",
   "execution_count": 3,
   "id": "555b0279-e565-4857-a422-6ed214305408",
   "metadata": {},
   "outputs": [
    {
     "data": {
      "text/html": [
       "<svg style=\"background-color:#f8f8f8\" preserveAspectRatio=\"xMidYMid meet\" xmlns=\"http://www.w3.org/2000/svg\" width=\"1024\" height=\"356\" viewbox=\"0 0 1024 320\"><defs><marker refY=\"5\" markerUnits=\"userSpaceOnUse\" markerWidth=\"2%\" markerHeight=\"2%\" id=\"circle\" viewBox=\"0 0 10 10 \" refX=\"5\"><circle r=\"3\" fill=\"none\" stroke=\"black\" cx=\"5\" cy=\"5\"/></marker><marker markerUnits=\"userSpaceOnUse\" markerWidth=\"2%\" markerHeight=\"2%\" id=\"filled-circle\" viewBox=\"0 0 10 10 \" refX=\"5\" refY=\"5\"><circle r=\"3\" fill=\"black\" stroke=\"none\" cx=\"5\" cy=\"5\"/></marker><marker markerUnits=\"userSpaceOnUse\" markerWidth=\"2%\" markerHeight=\"2%\" id=\"square\" viewBox=\"0 0 10 10 \" refX=\"5\" refY=\"5\"><rect fill=\"none\" stroke=\"black\" x=\"2\" y=\"2\" width=\"6\" height=\"6\"/></marker><marker markerHeight=\"2%\" id=\"filled-square\" viewBox=\"0 0 10 10 \" refX=\"5\" refY=\"5\" markerUnits=\"userSpaceOnUse\" markerWidth=\"2%\"><rect width=\"6\" height=\"6\" fill=\"black\" stroke=\"none\" x=\"2\" y=\"2\"/></marker></defs><g transform=\"translate(70 250 )scale(1 -1 )\" fill=\"none\" marker-mid=\"url(#square)\" stroke-width=\"2px\" stroke=\"hsl(90, 47%, 65%)\" stroke-linejoin=\"round\" stroke-linecap=\"round\" marker-start=\"url(#square)\" marker-end=\"url(#square)\"><path d=\"M1.768000e+01,9.003973e+01 L2.625212e+01,1.007774e+02 L3.482424e+01,1.113329e+02 L4.339636e+01,1.218686e+02 L5.196848e+01,1.318697e+02 L6.054061e+01,1.409547e+02 L6.911273e+01,1.490743e+02 L7.768485e+01,1.566976e+02 L8.625697e+01,1.630826e+02 L9.482909e+01,1.681951e+02 L1.034012e+02,1.722370e+02 L1.119733e+02,1.749911e+02 L1.205455e+02,1.764000e+02 L1.291176e+02,1.762785e+02 L1.376897e+02,1.749713e+02 L1.462618e+02,1.722315e+02 L1.548339e+02,1.683660e+02 L1.634061e+02,1.629640e+02 L1.719782e+02,1.565021e+02 L1.805503e+02,1.490800e+02 L1.891224e+02,1.407384e+02 L1.976945e+02,1.316728e+02 L2.062667e+02,1.219132e+02 L2.148388e+02,1.116656e+02 L2.234109e+02,1.008524e+02 L2.319830e+02,9.013195e+01 L2.405552e+02,7.901159e+01 L2.491273e+02,6.850724e+01 L2.576994e+02,5.808809e+01 L2.662715e+02,4.834155e+01 L2.748436e+02,3.919371e+01 L2.834158e+02,3.087033e+01 L2.919879e+02,2.350143e+01 L3.005600e+02,1.687009e+01 L3.091321e+02,1.178053e+01 L3.177042e+02,7.756390e+00 L3.262764e+02,5.024062e+00 L3.348485e+02,3.682328e+00 L3.434206e+02,3.600000e+00 L3.519927e+02,5.145405e+00 L3.605648e+02,7.668120e+00 L3.691370e+02,1.156942e+01 L3.777091e+02,1.693080e+01 L3.862812e+02,2.337065e+01 L3.948533e+02,3.063590e+01 L4.034255e+02,3.908229e+01 L4.119976e+02,4.829166e+01 L4.205697e+02,5.818210e+01 L4.291418e+02,6.842960e+01 L4.377139e+02,7.913362e+01 L4.462861e+02,8.989946e+01 L4.548582e+02,1.008114e+02 L4.634303e+02,1.116454e+02 L4.720024e+02,1.218586e+02 L4.805745e+02,1.315813e+02 L4.891467e+02,1.407325e+02 L4.977188e+02,1.492809e+02 L5.062909e+02,1.565397e+02 L5.148630e+02,1.630028e+02 L5.234352e+02,1.683297e+02 L5.320073e+02,1.721108e+02 L5.405794e+02,1.749980e+02 L5.491515e+02,1.760798e+02 L5.577236e+02,1.761431e+02 L5.662958e+02,1.748558e+02 L5.748679e+02,1.722664e+02 L5.834400e+02,1.682697e+02 L5.920121e+02,1.630117e+02 L6.005842e+02,1.566751e+02 L6.091564e+02,1.492188e+02 L6.177285e+02,1.407488e+02 L6.263006e+02,1.315805e+02 L6.348727e+02,1.217873e+02 L6.434448e+02,1.115822e+02 L6.520170e+02,1.008246e+02 L6.605891e+02,9.001865e+01 L6.691612e+02,7.924044e+01 L6.777333e+02,6.870245e+01 L6.863055e+02,5.800080e+01 L6.948776e+02,4.844113e+01 L7.034497e+02,3.913588e+01 L7.120218e+02,3.072489e+01 L7.205939e+02,2.324781e+01 L7.291661e+02,1.701950e+01 L7.377382e+02,1.167872e+01 L7.463103e+02,7.868342e+00 L7.548824e+02,5.050373e+00 L7.634545e+02,3.755698e+00 L7.720267e+02,3.636118e+00 L7.805988e+02,4.936977e+00 L7.891709e+02,7.867043e+00 L7.977430e+02,1.181740e+01 L8.063152e+02,1.710487e+01 L8.148873e+02,2.337972e+01 L8.234594e+02,3.074414e+01 L8.320315e+02,3.898150e+01 L8.406036e+02,4.832985e+01 L8.491758e+02,5.814425e+01 L8.577479e+02,6.854107e+01 L8.663200e+02,7.943693e+01 \" vector-effect=\"non-scaling-stroke\"/></g><g stroke-width=\"2px\" marker-start=\"url(#square)\" stroke-linejoin=\"round\" stroke=\"hsl(301, 88%, 65%)\" marker-mid=\"url(#square)\" fill=\"none\" stroke-linecap=\"round\" marker-end=\"url(#square)\" transform=\"translate(70 250 )scale(1 -1 )\"><path vector-effect=\"non-scaling-stroke\" d=\"M1.768000e+01,8.999788e+01 L2.625212e+01,1.008351e+02 L3.482424e+01,1.115014e+02 L4.339636e+01,1.218286e+02 L5.196848e+01,1.316539e+02 L6.054061e+01,1.408221e+02 L6.911273e+01,1.491889e+02 L7.768485e+01,1.566221e+02 L8.625697e+01,1.630047e+02 L9.482909e+01,1.682359e+02 L1.034012e+02,1.722332e+02 L1.119733e+02,1.749337e+02 L1.205455e+02,1.762946e+02 L1.291176e+02,1.762946e+02 L1.376897e+02,1.749337e+02 L1.462618e+02,1.722332e+02 L1.548339e+02,1.682359e+02 L1.634061e+02,1.630047e+02 L1.719782e+02,1.566221e+02 L1.805503e+02,1.491889e+02 L1.891224e+02,1.408221e+02 L1.976945e+02,1.316538e+02 L2.062667e+02,1.218286e+02 L2.148388e+02,1.115014e+02 L2.234109e+02,1.008351e+02 L2.319830e+02,8.999787e+01 L2.405552e+02,7.916063e+01 L2.491273e+02,6.849431e+01 L2.576994e+02,5.816710e+01 L2.662715e+02,4.834189e+01 L2.748436e+02,3.917363e+01 L2.834158e+02,3.080689e+01 L2.919879e+02,2.337362e+01 L3.005600e+02,1.699105e+01 L3.091321e+02,1.175985e+01 L3.177042e+02,7.762513e+00 L3.262764e+02,5.062077e+00 L3.348485e+02,3.701134e+00 L3.434206e+02,3.701134e+00 L3.519927e+02,5.062087e+00 L3.605648e+02,7.762528e+00 L3.691370e+02,1.175987e+01 L3.777091e+02,1.699108e+01 L3.862812e+02,2.337364e+01 L3.948533e+02,3.080691e+01 L4.034255e+02,3.917366e+01 L4.119976e+02,4.834194e+01 L4.205697e+02,5.816716e+01 L4.291418e+02,6.849437e+01 L4.377139e+02,7.916066e+01 L4.462861e+02,8.999790e+01 L4.548582e+02,1.008351e+02 L4.634303e+02,1.115015e+02 L4.720024e+02,1.218287e+02 L4.805745e+02,1.316539e+02 L4.891467e+02,1.408222e+02 L4.977188e+02,1.491889e+02 L5.062909e+02,1.566222e+02 L5.148630e+02,1.630047e+02 L5.234352e+02,1.682359e+02 L5.320073e+02,1.722332e+02 L5.405794e+02,1.749337e+02 L5.491515e+02,1.762946e+02 L5.577236e+02,1.762946e+02 L5.662958e+02,1.749337e+02 L5.748679e+02,1.722332e+02 L5.834400e+02,1.682359e+02 L5.920121e+02,1.630047e+02 L6.005842e+02,1.566221e+02 L6.091564e+02,1.491888e+02 L6.177285e+02,1.408221e+02 L6.263006e+02,1.316538e+02 L6.348727e+02,1.218286e+02 L6.434448e+02,1.115014e+02 L6.520170e+02,1.008350e+02 L6.605891e+02,8.999788e+01 L6.691612e+02,7.916064e+01 L6.777333e+02,6.849431e+01 L6.863055e+02,5.816710e+01 L6.948776e+02,4.834189e+01 L7.034497e+02,3.917362e+01 L7.120218e+02,3.080687e+01 L7.205939e+02,2.337361e+01 L7.291661e+02,1.699104e+01 L7.377382e+02,1.175984e+01 L7.463103e+02,7.762513e+00 L7.548824e+02,5.062077e+00 L7.634545e+02,3.701129e+00 L7.720267e+02,3.701139e+00 L7.805988e+02,5.062098e+00 L7.891709e+02,7.762543e+00 L7.977430e+02,1.175990e+01 L8.063152e+02,1.699111e+01 L8.148873e+02,2.337368e+01 L8.234594e+02,3.080695e+01 L8.320315e+02,3.917371e+01 L8.406036e+02,4.834199e+01 L8.491758e+02,5.816714e+01 L8.577479e+02,6.849434e+01 L8.663200e+02,7.916067e+01 \"/></g><g stroke=\"black\" stroke-width=\"2px\" stroke-linecap=\"round\" transform=\"translate(70 250 )scale(1 -1 )\" fill=\"none\" stroke-linejoin=\"round\"><path vector-effect=\"non-scaling-stroke\" d=\"M1.768000e+01,0 L1.768000e+01,-6 M1.034012e+02,0 L1.034012e+02,-6 M1.891224e+02,0 L1.891224e+02,-6 M2.748436e+02,0 L2.748436e+02,-6 M3.605648e+02,0 L3.605648e+02,-6 M4.462861e+02,0 L4.462861e+02,-6 M5.320073e+02,0 L5.320073e+02,-6 M6.177285e+02,0 L6.177285e+02,-6 M7.034497e+02,0 L7.034497e+02,-6 M7.891709e+02,0 L7.891709e+02,-6 \"/></g><g stroke-linejoin=\"round\" text-anchor=\"middle\" stroke-width=\"2px\" stroke-linecap=\"round\" transform=\"translate(70 250 )scale(1 1 )\" font-family=\"sans-serif\" font-size=\"12px\" stroke=\"black\" font-style=\"normal\" font-weight=\"normal\" fill=\"black\" dominant-baseline=\"hanging\"><text dominant-baseline=\"hanging\" stroke=\"none\" vector-effect=\"non-scaling-stroke\" x=\"1.768000e+01\" y=\"10\">0</text><text vector-effect=\"non-scaling-stroke\" x=\"1.034012e+02\" y=\"10\" dominant-baseline=\"hanging\" stroke=\"none\">10</text><text x=\"1.891224e+02\" y=\"10\" dominant-baseline=\"hanging\" stroke=\"none\" vector-effect=\"non-scaling-stroke\">20</text><text stroke=\"none\" vector-effect=\"non-scaling-stroke\" x=\"2.748436e+02\" y=\"10\" dominant-baseline=\"hanging\">30</text><text x=\"3.605648e+02\" y=\"10\" dominant-baseline=\"hanging\" stroke=\"none\" vector-effect=\"non-scaling-stroke\">40</text><text stroke=\"none\" vector-effect=\"non-scaling-stroke\" x=\"4.462861e+02\" y=\"10\" dominant-baseline=\"hanging\">50</text><text stroke=\"none\" vector-effect=\"non-scaling-stroke\" x=\"5.320073e+02\" y=\"10\" dominant-baseline=\"hanging\">60</text><text stroke=\"none\" vector-effect=\"non-scaling-stroke\" x=\"6.177285e+02\" y=\"10\" dominant-baseline=\"hanging\">70</text><text y=\"10\" dominant-baseline=\"hanging\" stroke=\"none\" vector-effect=\"non-scaling-stroke\" x=\"7.034497e+02\">80</text><text stroke=\"none\" vector-effect=\"non-scaling-stroke\" x=\"7.891709e+02\" y=\"10\" dominant-baseline=\"hanging\">90</text></g><g fill=\"black\" stroke-linejoin=\"round\" font-style=\"normal\" stroke=\"black\" transform=\"translate(70 250 )scale(1 1 )rotate(0 0 0 )\" font-weight=\"bold\" text-anchor=\"middle\" font-size=\"12px\" dominant-baseline=\"baseline\" stroke-width=\"2px\" stroke-linecap=\"round\" font-family=\"sans-serif\"><text dominant-baseline=\"baseline\" stroke=\"none\" vector-effect=\"non-scaling-stroke\" x=\"442\" y=\"-6\">Steps</text></g><g font-style=\"normal\" dominant-baseline=\"baseline\" transform=\"translate(70 250 )scale(1 -1 )\" font-weight=\"bold\" text-anchor=\"middle\" font-size=\"12px\" stroke=\"black\" stroke-linejoin=\"round\" fill=\"black\" stroke-width=\"2px\" stroke-linecap=\"round\" font-family=\"sans-serif\"><path vector-effect=\"non-scaling-stroke\" d=\"M0,8.999788e+01 L-6,8.999788e+01 \"/></g><g transform=\"translate(70 250 )scale(1 1 )\" font-size=\"12px\" font-weight=\"normal\" stroke-linejoin=\"round\" font-style=\"normal\" fill=\"black\" stroke-width=\"2px\" stroke-linecap=\"round\" dominant-baseline=\"middle\" text-anchor=\"end\" font-family=\"sans-serif\" stroke=\"black\"><text stroke=\"none\" vector-effect=\"non-scaling-stroke\" x=\"-10\" y=\"-8.999788e+01\" dominant-baseline=\"middle\">-0.000</text></g><g stroke-linecap=\"round\" font-family=\"sans-serif\" font-size=\"12px\" fill=\"black\" stroke-width=\"0.5px\" dominant-baseline=\"middle\" transform=\"translate(70 250 )scale(1 -1 )\" font-weight=\"normal\" text-anchor=\"end\" font-style=\"normal\" stroke=\"gray\" stroke-linejoin=\"round\"><path vector-effect=\"non-scaling-stroke\" d=\"M0,8.999788e+01 L884,8.999788e+01 \"/></g><g stroke-width=\"2px\" dominant-baseline=\"middle\" stroke=\"black\" stroke-linejoin=\"round\" font-style=\"normal\" font-size=\"12px\" text-anchor=\"end\" fill=\"none\" stroke-linecap=\"round\" font-family=\"sans-serif\" font-weight=\"normal\"><rect y=\"70\" width=\"884\" height=\"180\" vector-effect=\"non-scaling-stroke\" x=\"70\"/><g stroke-width=\"1px\" stroke=\"hsl(90, 47%, 65%)\" dominant-baseline=\"hanging\" text-anchor=\"start\" fill=\"hsl(90, 47%, 65%)\"><rect width=\"12\" height=\"12\" vector-effect=\"non-scaling-stroke\" x=\"76\" y=\"286\"/><g font-style=\"normal\" font-size=\"12px\" font-weight=\"normal\" fill=\"black\" stroke-linecap=\"round\" font-family=\"sans-serif\" stroke=\"black\" stroke-linejoin=\"round\"><text y=\"286\" dominant-baseline=\"hanging\" stroke=\"none\" vector-effect=\"non-scaling-stroke\" x=\"92\">Learned</text><g dominant-baseline=\"hanging\" fill=\"hsl(301, 88%, 65%)\" stroke-width=\"1px\" text-anchor=\"start\" stroke=\"hsl(301, 88%, 65%)\"><rect width=\"12\" height=\"12\" vector-effect=\"non-scaling-stroke\" x=\"76\" y=\"304\"/><g stroke-linejoin=\"round\" stroke-linecap=\"round\" font-family=\"sans-serif\" font-size=\"12px\" font-weight=\"normal\" fill=\"black\" font-style=\"normal\" stroke=\"black\"><text vector-effect=\"non-scaling-stroke\" x=\"92\" y=\"304\" dominant-baseline=\"hanging\" stroke=\"none\">Truth</text></g></g></g></g></g></svg>"
      ]
     },
     "metadata": {},
     "output_type": "display_data"
    },
    {
     "name": "stdout",
     "output_type": "stream",
     "text": [
      "Training (800 steps):  100% [\u001b[32m=\u001b[0m\u001b[32m=\u001b[0m\u001b[32m=\u001b[0m\u001b[32m=\u001b[0m\u001b[32m=\u001b[0m\u001b[32m=\u001b[0m\u001b[32m=\u001b[0m\u001b[32m=\u001b[0m\u001b[32m=\u001b[0m\u001b[32m=\u001b[0m\u001b[32m=\u001b[0m\u001b[32m=\u001b[0m\u001b[32m=\u001b[0m\u001b[32m=\u001b[0m\u001b[32m=\u001b[0m\u001b[32m=\u001b[0m\u001b[32m=\u001b[0m\u001b[32m=\u001b[0m\u001b[32m=\u001b[0m\u001b[32m=\u001b[0m\u001b[32m=\u001b[0m\u001b[32m=\u001b[0m\u001b[32m=\u001b[0m\u001b[32m=\u001b[0m\u001b[32m=\u001b[0m\u001b[32m=\u001b[0m\u001b[32m=\u001b[0m\u001b[32m=\u001b[0m\u001b[32m=\u001b[0m\u001b[32m=\u001b[0m\u001b[32m=\u001b[0m\u001b[32m=\u001b[0m\u001b[32m=\u001b[0m\u001b[32m=\u001b[0m\u001b[32m=\u001b[0m\u001b[32m=\u001b[0m\u001b[32m=\u001b[0m\u001b[32m=\u001b[0m\u001b[32m=\u001b[0m\u001b[32m=\u001b[0m] (1474 steps/s)\u001b[0m [step=799] [loss+=0.009] [~loss+=0.022] [~loss=0.022]        \n"
     ]
    }
   ],
   "source": [
    "import (\n",
    "    . \"github.com/gomlx/gomlx/graph\"\n",
    "    \"github.com/gomlx/gomlx/ml/context\"\n",
    "    \"github.com/gomlx/gomlx/ml/data\"\n",
    "    \"github.com/gomlx/gomlx/ml/train\"\n",
    ")\n",
    "\n",
    "var (\n",
    "\tflagNumSteps     = flag.Int(\"steps\", 1000, \"Number of gradient descent steps to perform\")\n",
    "\tflagLearningRate = flag.Float64(\"learning_rate\", 0.1, \"Initial learning rate.\")\n",
    ")\n",
    "\n",
    "func TrainInverseRealFFT() {\n",
    "    x, y := CalculateXY()\n",
    "    ctx := context.New()\n",
    "\tctx.SetParam(optimizers.LearningRateKey, *flagLearningRate)\n",
    "\n",
    "    modelFn := func(ctx *context.Context, spec any, inputs []*Node) []*Node {\n",
    "        g := inputs[0].Graph()\n",
    "        learnedXVar := ctx.VariableWithShape(\"learnedX\", x.Shape())\n",
    "        predictedY := RealFFT(learnedXVar.ValueGraph(g))\n",
    "        return []*Node{predictedY}\n",
    "    }\n",
    "\n",
    "    dataset, err := data.InMemoryFromData(backend, \"dataset\", []any{x}, []any{y})\n",
    "    if err != nil {\n",
    "        panic(err)\n",
    "    }\n",
    "    dataset.BatchSize(1, false).Infinite(true)\n",
    "\n",
    "    opt := optimizers.Adam().Done()\n",
    "    trainer := train.NewTrainer(\n",
    "        backend, ctx, modelFn,\n",
    "        losses.MeanAbsoluteError,\n",
    "        opt,\n",
    "        nil, nil) // trainMetrics, evalMetrics\n",
    "\n",
    "\tloop := train.NewLoop(trainer)\n",
    "\tcommandline.AttachProgressBar(loop) // Attaches a progress bar to the loop.\n",
    "\n",
    "    // Plot learnedX\n",
    "    displayId := gonbui.UniqueID()\n",
    "    gonbui.UpdateHTML(displayId, \"\")\n",
    "    train.EveryNSteps(loop, 10, \"plot\", 0, func(loop *train.Loop, metrics []*tensors.Tensor) error {\n",
    "        learnedXVar := ctx.InspectVariable(context.RootScope, \"learnedX\")\n",
    "        learnedX := learnedXVar.Value()\n",
    "        Plot(displayId, 1024, 320, []*tensors.Tensor{x, learnedX}, []string{\"Truth\", \"Learned\"})\n",
    "        return nil\n",
    "    })\n",
    "    \n",
    "\t// Loop for given number of steps.\n",
    "\t_, err = loop.RunSteps(dataset, *flagNumSteps)\n",
    "\tif err != nil {\n",
    "\t\tpanic(err)\n",
    "\t}\n",
    "\n",
    "}\n",
    "\n",
    "%% --steps=800 --learning_rate=0.01\n",
    "TrainInverseRealFFT()"
   ]
  }
 ],
 "metadata": {
  "kernelspec": {
   "display_name": "Go (gonb)",
   "language": "go",
   "name": "gonb"
  },
  "language_info": {
   "codemirror_mode": "",
   "file_extension": ".go",
   "mimetype": "",
   "name": "go",
   "nbconvert_exporter": "",
   "pygments_lexer": "",
   "version": "go1.22.4"
  }
 },
 "nbformat": 4,
 "nbformat_minor": 5
}
