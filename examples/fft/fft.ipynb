{
 "cells": [
  {
   "cell_type": "markdown",
   "id": "89c9afa4-399c-4a64-ac27-dd1aeecbc8f3",
   "metadata": {},
   "source": [
    "# Fast-Fourier-Transformation Example\n",
    "\n",
    "## Machine-Learned Inverse FFT\n",
    "\n",
    "Let's start with a sinusoidal curve: that's the input (`x`) that we want to learn, given its FFT (`y`).\n",
    "The goal is to do an `InverseRealFFT` by gradient descent.\n",
    "\n",
    "For this problem the input (`x`) is real (`float32`) and label (`y`), the FFT, is complex (`complex64`)."
   ]
  },
  {
   "cell_type": "code",
   "execution_count": 1,
   "id": "2a73f9ca-19a5-44e8-96c1-c488ecf356c0",
   "metadata": {},
   "outputs": [
    {
     "name": "stdout",
     "output_type": "stream",
     "text": [
      "\t- added replace rule for module \"github.com/gomlx/gomlx\" to local directory \"/opt/janpf/Projects/gomlx.gomlx\"."
     ]
    }
   ],
   "source": [
    "!*rm -f go.work && go work init\n",
    "!*go work use . \"/opt/janpf/Projects/gomlx.gomlx\"\n",
    "%goworkfix"
   ]
  },
  {
   "cell_type": "code",
   "execution_count": 96,
   "id": "e34bf9b0-a4ed-4afe-a52d-deccd7bd4620",
   "metadata": {},
   "outputs": [
    {
     "name": "stderr",
     "output_type": "stream",
     "text": [
      "2023-08-06 08:34:18.050942: E external/xla/xla/stream_executor/stream_executor_internal.h:124] SetPriority unimplemented for this stream.\n"
     ]
    },
    {
     "name": "stdout",
     "output_type": "stream",
     "text": [
      "x: shape=(Float32)[1 100]\n",
      "y: shape=(Complex64)[1 51]\n"
     ]
    },
    {
     "data": {
      "text/html": [
       "<svg height=\"320\" viewbox=\"0 0 1024 320\" style=\"background-color:#f8f8f8\" preserveAspectRatio=\"xMidYMid meet\" xmlns=\"http://www.w3.org/2000/svg\" width=\"1024\"><defs><marker markerWidth=\"2%\" markerHeight=\"2%\" id=\"circle\" viewBox=\"0 0 10 10 \" refX=\"5\" refY=\"5\" markerUnits=\"userSpaceOnUse\"><circle stroke=\"black\" cx=\"5\" cy=\"5\" r=\"3\" fill=\"none\"/></marker><marker markerUnits=\"userSpaceOnUse\" markerWidth=\"2%\" markerHeight=\"2%\" id=\"filled-circle\" viewBox=\"0 0 10 10 \" refX=\"5\" refY=\"5\"><circle r=\"3\" fill=\"black\" stroke=\"none\" cx=\"5\" cy=\"5\"/></marker><marker viewBox=\"0 0 10 10 \" refX=\"5\" refY=\"5\" markerUnits=\"userSpaceOnUse\" markerWidth=\"2%\" markerHeight=\"2%\" id=\"square\"><rect x=\"2\" y=\"2\" width=\"6\" height=\"6\" fill=\"none\" stroke=\"black\"/></marker><marker refX=\"5\" refY=\"5\" markerUnits=\"userSpaceOnUse\" markerWidth=\"2%\" markerHeight=\"2%\" id=\"filled-square\" viewBox=\"0 0 10 10 \"><rect y=\"2\" width=\"6\" height=\"6\" fill=\"black\" stroke=\"none\" x=\"2\"/></marker></defs><g stroke-linecap=\"round\" marker-end=\"url(#square)\" stroke=\"hsl(90, 47%, 65%)\" marker-mid=\"url(#square)\" fill=\"none\" stroke-linejoin=\"round\" transform=\"translate(70 250 )scale(1 -1 )\" stroke-width=\"2px\" marker-start=\"url(#square)\"><path vector-effect=\"non-scaling-stroke\" d=\"M1.768000e+01,9.000000e+01 L2.625212e+01,1.008502e+02 L3.482424e+01,1.115293e+02 L4.339636e+01,1.218689e+02 L5.196848e+01,1.317058e+02 L6.054061e+01,1.408851e+02 L6.911273e+01,1.492618e+02 L7.768485e+01,1.567040e+02 L8.625697e+01,1.630942e+02 L9.482909e+01,1.683316e+02 L1.034012e+02,1.723338e+02 L1.119733e+02,1.750374e+02 L1.205455e+02,1.764000e+02 L1.291176e+02,1.764000e+02 L1.376897e+02,1.750374e+02 L1.462618e+02,1.723337e+02 L1.548339e+02,1.683316e+02 L1.634061e+02,1.630942e+02 L1.719782e+02,1.567040e+02 L1.805503e+02,1.492618e+02 L1.891224e+02,1.408851e+02 L1.976945e+02,1.317058e+02 L2.062667e+02,1.218688e+02 L2.148388e+02,1.115293e+02 L2.234109e+02,1.008502e+02 L2.319830e+02,9.000000e+01 L2.405552e+02,7.914979e+01 L2.491273e+02,6.847070e+01 L2.576994e+02,5.813114e+01 L2.662715e+02,4.829417e+01 L2.748436e+02,3.911494e+01 L2.834158e+02,3.073818e+01 L2.919879e+02,2.329603e+01 L3.005600e+02,1.690583e+01 L3.091321e+02,1.166837e+01 L3.177042e+02,7.666248e+00 L3.262764e+02,4.962576e+00 L3.348485e+02,3.600005e+00 L3.434206e+02,3.600005e+00 L3.519927e+02,4.962587e+00 L3.605648e+02,7.666258e+00 L3.691370e+02,1.166838e+01 L3.777091e+02,1.690585e+01 L3.862812e+02,2.329605e+01 L3.948533e+02,3.073822e+01 L4.034255e+02,3.911497e+01 L4.119976e+02,4.829422e+01 L4.205697e+02,5.813120e+01 L4.291418e+02,6.847076e+01 L4.377139e+02,7.914981e+01 L4.462861e+02,9.000002e+01 L4.548582e+02,1.008502e+02 L4.634303e+02,1.115293e+02 L4.720024e+02,1.218689e+02 L4.805745e+02,1.317058e+02 L4.891467e+02,1.408851e+02 L4.977188e+02,1.492618e+02 L5.062909e+02,1.567040e+02 L5.148630e+02,1.630942e+02 L5.234352e+02,1.683316e+02 L5.320073e+02,1.723338e+02 L5.405794e+02,1.750374e+02 L5.491515e+02,1.764000e+02 L5.577236e+02,1.764000e+02 L5.662958e+02,1.750374e+02 L5.748679e+02,1.723337e+02 L5.834400e+02,1.683316e+02 L5.920121e+02,1.630941e+02 L6.005842e+02,1.567039e+02 L6.091564e+02,1.492618e+02 L6.177285e+02,1.408850e+02 L6.263006e+02,1.317058e+02 L6.348727e+02,1.218688e+02 L6.434448e+02,1.115292e+02 L6.520170e+02,1.008501e+02 L6.605891e+02,9.000000e+01 L6.691612e+02,7.914979e+01 L6.777333e+02,6.847070e+01 L6.863055e+02,5.813114e+01 L6.948776e+02,4.829417e+01 L7.034497e+02,3.911493e+01 L7.120218e+02,3.073817e+01 L7.205939e+02,2.329602e+01 L7.291661e+02,1.690582e+01 L7.377382e+02,1.166836e+01 L7.463103e+02,7.666243e+00 L7.548824e+02,4.962576e+00 L7.634545e+02,3.600000e+00 L7.720267e+02,3.600010e+00 L7.805988e+02,4.962597e+00 L7.891709e+02,7.666279e+00 L7.977430e+02,1.166841e+01 L8.063152e+02,1.690588e+01 L8.148873e+02,2.329609e+01 L8.234594e+02,3.073825e+01 L8.320315e+02,3.911502e+01 L8.406036e+02,4.829427e+01 L8.491758e+02,5.813117e+01 L8.577479e+02,6.847073e+01 L8.663200e+02,7.914983e+01 \"/></g><g fill=\"none\" stroke-linecap=\"round\" stroke-linejoin=\"round\" transform=\"translate(70 250 )scale(1 -1 )\" stroke=\"black\" stroke-width=\"2px\"><path vector-effect=\"non-scaling-stroke\" d=\"M1.768000e+01,0 L1.768000e+01,-6 M1.034012e+02,0 L1.034012e+02,-6 M1.891224e+02,0 L1.891224e+02,-6 M2.748436e+02,0 L2.748436e+02,-6 M3.605648e+02,0 L3.605648e+02,-6 M4.462861e+02,0 L4.462861e+02,-6 M5.320073e+02,0 L5.320073e+02,-6 M6.177285e+02,0 L6.177285e+02,-6 M7.034497e+02,0 L7.034497e+02,-6 M7.891709e+02,0 L7.891709e+02,-6 \"/></g><g stroke=\"black\" stroke-width=\"2px\" font-size=\"12px\" font-style=\"normal\" dominant-baseline=\"hanging\" fill=\"black\" stroke-linecap=\"round\" stroke-linejoin=\"round\" text-anchor=\"middle\" transform=\"translate(70 250 )scale(1 1 )\" font-family=\"sans-serif\" font-weight=\"normal\"><text vector-effect=\"non-scaling-stroke\" x=\"1.768000e+01\" y=\"10\" dominant-baseline=\"hanging\" stroke=\"none\">0</text><text stroke=\"none\" vector-effect=\"non-scaling-stroke\" x=\"1.034012e+02\" y=\"10\" dominant-baseline=\"hanging\">10</text><text x=\"1.891224e+02\" y=\"10\" dominant-baseline=\"hanging\" stroke=\"none\" vector-effect=\"non-scaling-stroke\">20</text><text stroke=\"none\" vector-effect=\"non-scaling-stroke\" x=\"2.748436e+02\" y=\"10\" dominant-baseline=\"hanging\">30</text><text vector-effect=\"non-scaling-stroke\" x=\"3.605648e+02\" y=\"10\" dominant-baseline=\"hanging\" stroke=\"none\">40</text><text vector-effect=\"non-scaling-stroke\" x=\"4.462861e+02\" y=\"10\" dominant-baseline=\"hanging\" stroke=\"none\">50</text><text dominant-baseline=\"hanging\" stroke=\"none\" vector-effect=\"non-scaling-stroke\" x=\"5.320073e+02\" y=\"10\">60</text><text x=\"6.177285e+02\" y=\"10\" dominant-baseline=\"hanging\" stroke=\"none\" vector-effect=\"non-scaling-stroke\">70</text><text vector-effect=\"non-scaling-stroke\" x=\"7.034497e+02\" y=\"10\" dominant-baseline=\"hanging\" stroke=\"none\">80</text><text dominant-baseline=\"hanging\" stroke=\"none\" vector-effect=\"non-scaling-stroke\" x=\"7.891709e+02\" y=\"10\">90</text></g><g stroke-linejoin=\"round\" transform=\"translate(70 250 )scale(1 1 )rotate(0 0 0 )\" text-anchor=\"middle\" font-size=\"12px\" font-weight=\"bold\" dominant-baseline=\"baseline\" fill=\"black\" stroke-linecap=\"round\" font-family=\"sans-serif\" font-style=\"normal\" stroke=\"black\" stroke-width=\"2px\"><text x=\"442\" y=\"-6\" dominant-baseline=\"baseline\" stroke=\"none\" vector-effect=\"non-scaling-stroke\">Steps</text></g><g stroke-linejoin=\"round\" transform=\"translate(70 250 )scale(1 -1 )\" font-family=\"sans-serif\" font-style=\"normal\" font-weight=\"bold\" dominant-baseline=\"baseline\" fill=\"black\" stroke-linecap=\"round\" text-anchor=\"middle\" stroke=\"black\" stroke-width=\"2px\" font-size=\"12px\"><path vector-effect=\"non-scaling-stroke\" d=\"M0,9.000000e+01 L-6,9.000000e+01 \"/></g><g stroke-linejoin=\"round\" transform=\"translate(70 250 )scale(1 1 )\" dominant-baseline=\"middle\" font-size=\"12px\" font-weight=\"normal\" stroke=\"black\" font-family=\"sans-serif\" font-style=\"normal\" text-anchor=\"end\" fill=\"black\" stroke-linecap=\"round\" stroke-width=\"2px\"><text dominant-baseline=\"middle\" stroke=\"none\" vector-effect=\"non-scaling-stroke\" x=\"-10\" y=\"-9.000000e+01\">-0.000</text></g><g text-anchor=\"end\" dominant-baseline=\"middle\" font-size=\"12px\" stroke=\"gray\" stroke-linejoin=\"round\" transform=\"translate(70 250 )scale(1 -1 )\" font-style=\"normal\" fill=\"black\" stroke-width=\"0.5px\" font-weight=\"normal\" stroke-linecap=\"round\" font-family=\"sans-serif\"><path d=\"M0,9.000000e+01 L884,9.000000e+01 \" vector-effect=\"non-scaling-stroke\"/></g><g font-style=\"normal\" stroke=\"black\" dominant-baseline=\"middle\" stroke-linecap=\"round\" font-family=\"sans-serif\" stroke-linejoin=\"round\" text-anchor=\"end\" stroke-width=\"2px\" font-size=\"12px\" font-weight=\"normal\" fill=\"none\"><rect vector-effect=\"non-scaling-stroke\" x=\"70\" y=\"70\" width=\"884\" height=\"180\"/></g></svg>"
      ]
     },
     "metadata": {},
     "output_type": "display_data"
    }
   ],
   "source": [
    "import (\n",
    "    . \"github.com/gomlx/gomlx/graph\"\n",
    "    . \"github.com/gomlx/gomlx/types/exceptions\"\n",
    "    mg \"github.com/gomlx/gomlx/examples/notebook/gonb/margaid\"\n",
    "    \"github.com/janpfeifer/gonb/gonbui\"\n",
    ")\n",
    "\n",
    "// manager always created at initialization.\n",
    "var manager = NewManager()\n",
    "\n",
    "const (\n",
    "    NumPoints = 100\n",
    "    Frequency = 2.0  // Number of curves in samples.\n",
    "    RealDType = shapes.Float32\n",
    "    ComplexDType = shapes.Complex64\n",
    ")\n",
    "\n",
    "// CalculateXY returns (x, y) of our problem, where y is a sinusoidal curve and x is its FFT.\n",
    "func CalculateXY() (x, y tensor.Tensor) {\n",
    "    e := NewExec(manager, func (g *Graph) (x, y *Node) {\n",
    "        x = Iota(g, shapes.Make(RealDType, 1, NumPoints), 1)\n",
    "        x = MulScalar(x, 2.0*math.Pi*Frequency/float64(NumPoints))\n",
    "        x = Sin(x)\n",
    "        y = RealFFT(x)\n",
    "        return\n",
    "    })\n",
    "    res := e.Call()\n",
    "    return res[0], res[1]\n",
    "}\n",
    "\n",
    "func Plot(displayId string, width, height int, tensors []tensor.Tensor, names []string) {\n",
    "    plts := mg.New(width, height)\n",
    "    for ii, t := range tensors {\n",
    "        var values []float64\n",
    "        switch t.DType() {\n",
    "        case shapes.F64:\n",
    "            values = t.Local().Flat().([]float64)\n",
    "        case shapes.F32:\n",
    "            values32 := t.Local().Flat().([]float32)\n",
    "            values = slices.Map(values32, func (v float32) float64 { return float64(v) })\n",
    "        default:\n",
    "            Panicf(\"only float32 and float64 tensor dtypes are accepted by Plot, got t.shape=%s\", t.Shape())\n",
    "        }\n",
    "        var name string\n",
    "        if len(names) > ii {\n",
    "            name = names[ii]\n",
    "        }\n",
    "        plts.AddValues(name, \"\", values)\n",
    "    }\n",
    "    if displayId == \"\" {\n",
    "        plts.Plot()\n",
    "    } else {\n",
    "        gonbui.UpdateHTML(displayId, plts.PlotToHTML())\n",
    "    }\n",
    "}\n",
    "\n",
    "%%\n",
    "x, y := CalculateXY()\n",
    "fmt.Printf(\"x: shape=%s\\n\", x.Shape())\n",
    "fmt.Printf(\"y: shape=%s\\n\", y.Shape())\n",
    "Plot(\"\", 1024, 320, []tensor.Tensor{x}, nil)"
   ]
  },
  {
   "cell_type": "code",
   "execution_count": 94,
   "id": "25865ca2-7fce-4e35-bc26-b965202fc53b",
   "metadata": {},
   "outputs": [
    {
     "name": "stdout",
     "output_type": "stream",
     "text": [
      ". removed func TrainInverseRealFFT\n"
     ]
    }
   ],
   "source": [
    "%rm TrainInverseRealFFT"
   ]
  },
  {
   "cell_type": "markdown",
   "id": "749d6fbd-c7ad-4bec-80d4-8a2dd1dd1531",
   "metadata": {},
   "source": [
    "### Train the model\n",
    "\n",
    "If you run it, you'll see the plot of the \"learnedX\" adjusting towards \"x\", the original sinusoidal curve."
   ]
  },
  {
   "cell_type": "code",
   "execution_count": 102,
   "id": "555b0279-e565-4857-a422-6ed214305408",
   "metadata": {},
   "outputs": [
    {
     "name": "stdout",
     "output_type": "stream",
     "text": [
      "Set: GOMLX_PLATFORM=\"Host\"\n",
      "Host\n"
     ]
    },
    {
     "name": "stderr",
     "output_type": "stream",
     "text": [
      "2023-08-06 08:35:22.174327: E external/xla/xla/stream_executor/stream_executor_internal.h:124] SetPriority unimplemented for this stream.\n"
     ]
    },
    {
     "data": {
      "text/html": [
       "<svg viewbox=\"0 0 1024 320\" style=\"background-color:#f8f8f8\" preserveAspectRatio=\"xMidYMid meet\" xmlns=\"http://www.w3.org/2000/svg\" width=\"1024\" height=\"356\"><defs><marker viewBox=\"0 0 10 10 \" refX=\"5\" refY=\"5\" markerUnits=\"userSpaceOnUse\" markerWidth=\"2%\" markerHeight=\"2%\" id=\"circle\"><circle cx=\"5\" cy=\"5\" r=\"3\" fill=\"none\" stroke=\"black\"/></marker><marker refY=\"5\" markerUnits=\"userSpaceOnUse\" markerWidth=\"2%\" markerHeight=\"2%\" id=\"filled-circle\" viewBox=\"0 0 10 10 \" refX=\"5\"><circle cx=\"5\" cy=\"5\" r=\"3\" fill=\"black\" stroke=\"none\"/></marker><marker markerHeight=\"2%\" id=\"square\" viewBox=\"0 0 10 10 \" refX=\"5\" refY=\"5\" markerUnits=\"userSpaceOnUse\" markerWidth=\"2%\"><rect x=\"2\" y=\"2\" width=\"6\" height=\"6\" fill=\"none\" stroke=\"black\"/></marker><marker id=\"filled-square\" viewBox=\"0 0 10 10 \" refX=\"5\" refY=\"5\" markerUnits=\"userSpaceOnUse\" markerWidth=\"2%\" markerHeight=\"2%\"><rect y=\"2\" width=\"6\" height=\"6\" fill=\"black\" stroke=\"none\" x=\"2\"/></marker></defs><g fill=\"none\" transform=\"translate(70 250 )scale(1 -1 )\" stroke-linejoin=\"round\" marker-start=\"url(#square)\" stroke-linecap=\"round\" marker-end=\"url(#square)\" marker-mid=\"url(#square)\" stroke=\"hsl(90, 47%, 65%)\" stroke-width=\"2px\"><path d=\"M1.768000e+01,9.012742e+01 L2.625212e+01,1.009180e+02 L3.482424e+01,1.113981e+02 L4.339636e+01,1.218871e+02 L5.196848e+01,1.318544e+02 L6.054061e+01,1.407770e+02 L6.911273e+01,1.492746e+02 L7.768485e+01,1.565977e+02 L8.625697e+01,1.630971e+02 L9.482909e+01,1.683642e+02 L1.034012e+02,1.723738e+02 L1.119733e+02,1.750614e+02 L1.205455e+02,1.763312e+02 L1.291176e+02,1.761303e+02 L1.376897e+02,1.750551e+02 L1.462618e+02,1.722370e+02 L1.548339e+02,1.681478e+02 L1.634061e+02,1.630449e+02 L1.719782e+02,1.567695e+02 L1.805503e+02,1.492322e+02 L1.891224e+02,1.409072e+02 L1.976945e+02,1.314373e+02 L2.062667e+02,1.220871e+02 L2.148388e+02,1.115531e+02 L2.234109e+02,1.007969e+02 L2.319830e+02,8.999129e+01 L2.405552e+02,7.913501e+01 L2.491273e+02,6.842474e+01 L2.576994e+02,5.830899e+01 L2.662715e+02,4.822449e+01 L2.748436e+02,3.935787e+01 L2.834158e+02,3.085467e+01 L2.919879e+02,2.335746e+01 L3.005600e+02,1.701825e+01 L3.091321e+02,1.176951e+01 L3.177042e+02,7.834065e+00 L3.262764e+02,4.963066e+00 L3.348485e+02,3.614895e+00 L3.434206e+02,3.622637e+00 L3.519927e+02,5.038140e+00 L3.605648e+02,7.656080e+00 L3.691370e+02,1.171206e+01 L3.777091e+02,1.704944e+01 L3.862812e+02,2.319636e+01 L3.948533e+02,3.075384e+01 L4.034255e+02,3.905623e+01 L4.119976e+02,4.816741e+01 L4.205697e+02,5.822208e+01 L4.291418e+02,6.849189e+01 L4.377139e+02,7.922755e+01 L4.462861e+02,9.004555e+01 L4.548582e+02,1.008800e+02 L4.634303e+02,1.115854e+02 L4.720024e+02,1.219468e+02 L4.805745e+02,1.315970e+02 L4.891467e+02,1.409199e+02 L4.977188e+02,1.491984e+02 L5.062909e+02,1.565174e+02 L5.148630e+02,1.629883e+02 L5.234352e+02,1.682686e+02 L5.320073e+02,1.723329e+02 L5.405794e+02,1.749010e+02 L5.491515e+02,1.762947e+02 L5.577236e+02,1.764000e+02 L5.662958e+02,1.748395e+02 L5.748679e+02,1.722570e+02 L5.834400e+02,1.683607e+02 L5.920121e+02,1.630210e+02 L6.005842e+02,1.566048e+02 L6.091564e+02,1.493871e+02 L6.177285e+02,1.408594e+02 L6.263006e+02,1.317605e+02 L6.348727e+02,1.219776e+02 L6.434448e+02,1.115959e+02 L6.520170e+02,1.008373e+02 L6.605891e+02,9.007193e+01 L6.691612e+02,7.928400e+01 L6.777333e+02,6.841009e+01 L6.863055e+02,5.823279e+01 L6.948776e+02,4.816879e+01 L7.034497e+02,3.916604e+01 L7.120218e+02,3.071724e+01 L7.205939e+02,2.332306e+01 L7.291661e+02,1.684131e+01 L7.377382e+02,1.171524e+01 L7.463103e+02,7.599114e+00 L7.548824e+02,5.051179e+00 L7.634545e+02,3.634804e+00 L7.720267e+02,3.691945e+00 L7.805988e+02,5.095715e+00 L7.891709e+02,7.838908e+00 L7.977430e+02,1.158638e+01 L8.063152e+02,1.696177e+01 L8.148873e+02,2.341827e+01 L8.234594e+02,3.073383e+01 L8.320315e+02,3.899619e+01 L8.406036e+02,4.828864e+01 L8.491758e+02,5.820244e+01 L8.577479e+02,6.853594e+01 L8.663200e+02,7.907687e+01 \" vector-effect=\"non-scaling-stroke\"/></g><g marker-mid=\"url(#square)\" transform=\"translate(70 250 )scale(1 -1 )\" stroke=\"hsl(301, 88%, 65%)\" stroke-width=\"2px\" stroke-linejoin=\"round\" fill=\"none\" stroke-linecap=\"round\" marker-end=\"url(#square)\" marker-start=\"url(#square)\"><path vector-effect=\"non-scaling-stroke\" d=\"M1.768000e+01,8.996006e+01 L2.625212e+01,1.008052e+02 L3.482424e+01,1.114794e+02 L4.339636e+01,1.218142e+02 L5.196848e+01,1.316466e+02 L6.054061e+01,1.408216e+02 L6.911273e+01,1.491945e+02 L7.768485e+01,1.566332e+02 L8.625697e+01,1.630204e+02 L9.482909e+01,1.682555e+02 L1.034012e+02,1.722557e+02 L1.119733e+02,1.749582e+02 L1.205455e+02,1.763201e+02 L1.291176e+02,1.763201e+02 L1.376897e+02,1.749582e+02 L1.462618e+02,1.722557e+02 L1.548339e+02,1.682555e+02 L1.634061e+02,1.630204e+02 L1.719782e+02,1.566332e+02 L1.805503e+02,1.491945e+02 L1.891224e+02,1.408216e+02 L1.976945e+02,1.316466e+02 L2.062667e+02,1.218142e+02 L2.148388e+02,1.114794e+02 L2.234109e+02,1.008052e+02 L2.319830e+02,8.996005e+01 L2.405552e+02,7.911486e+01 L2.491273e+02,6.844071e+01 L2.576994e+02,5.810593e+01 L2.662715e+02,4.827351e+01 L2.748436e+02,3.909852e+01 L2.834158e+02,3.072564e+01 L2.919879e+02,2.328692e+01 L3.005600e+02,1.689968e+01 L3.091321e+02,1.166464e+01 L3.177042e+02,7.664368e+00 L3.262764e+02,4.961946e+00 L3.348485e+02,3.600005e+00 L3.434206e+02,3.600005e+00 L3.519927e+02,4.961957e+00 L3.605648e+02,7.664378e+00 L3.691370e+02,1.166465e+01 L3.777091e+02,1.689970e+01 L3.862812e+02,2.328695e+01 L3.948533e+02,3.072567e+01 L4.034255e+02,3.909856e+01 L4.119976e+02,4.827356e+01 L4.205697e+02,5.810599e+01 L4.291418e+02,6.844077e+01 L4.377139e+02,7.911488e+01 L4.462861e+02,8.996007e+01 L4.548582e+02,1.008053e+02 L4.634303e+02,1.114794e+02 L4.720024e+02,1.218142e+02 L4.805745e+02,1.316466e+02 L4.891467e+02,1.408216e+02 L4.977188e+02,1.491945e+02 L5.062909e+02,1.566332e+02 L5.148630e+02,1.630205e+02 L5.234352e+02,1.682555e+02 L5.320073e+02,1.722558e+02 L5.405794e+02,1.749582e+02 L5.491515e+02,1.763201e+02 L5.577236e+02,1.763201e+02 L5.662958e+02,1.749582e+02 L5.748679e+02,1.722557e+02 L5.834400e+02,1.682555e+02 L5.920121e+02,1.630204e+02 L6.005842e+02,1.566332e+02 L6.091564e+02,1.491944e+02 L6.177285e+02,1.408215e+02 L6.263006e+02,1.316465e+02 L6.348727e+02,1.218141e+02 L6.434448e+02,1.114793e+02 L6.520170e+02,1.008052e+02 L6.605891e+02,8.996006e+01 L6.691612e+02,7.911487e+01 L6.777333e+02,6.844071e+01 L6.863055e+02,5.810593e+01 L6.948776e+02,4.827351e+01 L7.034497e+02,3.909851e+01 L7.120218e+02,3.072563e+01 L7.205939e+02,2.328691e+01 L7.291661e+02,1.689967e+01 L7.377382e+02,1.166463e+01 L7.463103e+02,7.664363e+00 L7.548824e+02,4.961946e+00 L7.634545e+02,3.600000e+00 L7.720267e+02,3.600010e+00 L7.805988e+02,4.961967e+00 L7.891709e+02,7.664399e+00 L7.977430e+02,1.166468e+01 L8.063152e+02,1.689973e+01 L8.148873e+02,2.328698e+01 L8.234594e+02,3.072571e+01 L8.320315e+02,3.909860e+01 L8.406036e+02,4.827361e+01 L8.491758e+02,5.810596e+01 L8.577479e+02,6.844074e+01 L8.663200e+02,7.911490e+01 \"/></g><g fill=\"none\" stroke-linecap=\"round\" stroke=\"black\" stroke-width=\"2px\" stroke-linejoin=\"round\" transform=\"translate(70 250 )scale(1 -1 )\"><path vector-effect=\"non-scaling-stroke\" d=\"M1.768000e+01,0 L1.768000e+01,-6 M1.034012e+02,0 L1.034012e+02,-6 M1.891224e+02,0 L1.891224e+02,-6 M2.748436e+02,0 L2.748436e+02,-6 M3.605648e+02,0 L3.605648e+02,-6 M4.462861e+02,0 L4.462861e+02,-6 M5.320073e+02,0 L5.320073e+02,-6 M6.177285e+02,0 L6.177285e+02,-6 M7.034497e+02,0 L7.034497e+02,-6 M7.891709e+02,0 L7.891709e+02,-6 \"/></g><g font-size=\"12px\" text-anchor=\"middle\" fill=\"black\" font-style=\"normal\" font-weight=\"normal\" dominant-baseline=\"hanging\" stroke-width=\"2px\" stroke-linejoin=\"round\" stroke-linecap=\"round\" font-family=\"sans-serif\" transform=\"translate(70 250 )scale(1 1 )\" stroke=\"black\"><text y=\"10\" dominant-baseline=\"hanging\" stroke=\"none\" vector-effect=\"non-scaling-stroke\" x=\"1.768000e+01\">0</text><text vector-effect=\"non-scaling-stroke\" x=\"1.034012e+02\" y=\"10\" dominant-baseline=\"hanging\" stroke=\"none\">10</text><text y=\"10\" dominant-baseline=\"hanging\" stroke=\"none\" vector-effect=\"non-scaling-stroke\" x=\"1.891224e+02\">20</text><text y=\"10\" dominant-baseline=\"hanging\" stroke=\"none\" vector-effect=\"non-scaling-stroke\" x=\"2.748436e+02\">30</text><text vector-effect=\"non-scaling-stroke\" x=\"3.605648e+02\" y=\"10\" dominant-baseline=\"hanging\" stroke=\"none\">40</text><text x=\"4.462861e+02\" y=\"10\" dominant-baseline=\"hanging\" stroke=\"none\" vector-effect=\"non-scaling-stroke\">50</text><text x=\"5.320073e+02\" y=\"10\" dominant-baseline=\"hanging\" stroke=\"none\" vector-effect=\"non-scaling-stroke\">60</text><text vector-effect=\"non-scaling-stroke\" x=\"6.177285e+02\" y=\"10\" dominant-baseline=\"hanging\" stroke=\"none\">70</text><text y=\"10\" dominant-baseline=\"hanging\" stroke=\"none\" vector-effect=\"non-scaling-stroke\" x=\"7.034497e+02\">80</text><text y=\"10\" dominant-baseline=\"hanging\" stroke=\"none\" vector-effect=\"non-scaling-stroke\" x=\"7.891709e+02\">90</text></g><g font-style=\"normal\" stroke-linecap=\"round\" font-size=\"12px\" stroke=\"black\" transform=\"translate(70 250 )scale(1 1 )rotate(0 0 0 )\" stroke-linejoin=\"round\" font-weight=\"bold\" dominant-baseline=\"baseline\" fill=\"black\" font-family=\"sans-serif\" text-anchor=\"middle\" stroke-width=\"2px\"><text dominant-baseline=\"baseline\" stroke=\"none\" vector-effect=\"non-scaling-stroke\" x=\"442\" y=\"-6\">Steps</text></g><g dominant-baseline=\"baseline\" transform=\"translate(70 250 )scale(1 -1 )\" fill=\"black\" stroke-linecap=\"round\" text-anchor=\"middle\" font-family=\"sans-serif\" font-size=\"12px\" font-weight=\"bold\" stroke=\"black\" stroke-width=\"2px\" stroke-linejoin=\"round\" font-style=\"normal\"><path vector-effect=\"non-scaling-stroke\" d=\"M0,8.996006e+01 L-6,8.996006e+01 \"/></g><g font-style=\"normal\" font-weight=\"normal\" stroke-linecap=\"round\" font-size=\"12px\" text-anchor=\"end\" fill=\"black\" font-family=\"sans-serif\" dominant-baseline=\"middle\" stroke=\"black\" stroke-width=\"2px\" stroke-linejoin=\"round\" transform=\"translate(70 250 )scale(1 1 )\"><text x=\"-10\" y=\"-8.996006e+01\" dominant-baseline=\"middle\" stroke=\"none\" vector-effect=\"non-scaling-stroke\">-0.000</text></g><g font-style=\"normal\" fill=\"black\" font-family=\"sans-serif\" font-size=\"12px\" text-anchor=\"end\" dominant-baseline=\"middle\" stroke-linecap=\"round\" stroke=\"gray\" stroke-width=\"0.5px\" stroke-linejoin=\"round\" transform=\"translate(70 250 )scale(1 -1 )\" font-weight=\"normal\"><path vector-effect=\"non-scaling-stroke\" d=\"M0,8.996006e+01 L884,8.996006e+01 \"/></g><g fill=\"none\" font-style=\"normal\" font-weight=\"normal\" stroke=\"black\" text-anchor=\"end\" font-family=\"sans-serif\" font-size=\"12px\" stroke-width=\"2px\" stroke-linejoin=\"round\" dominant-baseline=\"middle\" stroke-linecap=\"round\"><rect width=\"884\" height=\"180\" vector-effect=\"non-scaling-stroke\" x=\"70\" y=\"70\"/><g text-anchor=\"start\" stroke=\"hsl(90, 47%, 65%)\" stroke-width=\"1px\" dominant-baseline=\"hanging\" fill=\"hsl(90, 47%, 65%)\"><rect y=\"286\" width=\"12\" height=\"12\" vector-effect=\"non-scaling-stroke\" x=\"76\"/><g font-style=\"normal\" font-weight=\"normal\" stroke=\"black\" stroke-linejoin=\"round\" fill=\"black\" stroke-linecap=\"round\" font-family=\"sans-serif\" font-size=\"12px\"><text y=\"286\" dominant-baseline=\"hanging\" stroke=\"none\" vector-effect=\"non-scaling-stroke\" x=\"92\">Learned</text><g text-anchor=\"start\" fill=\"hsl(301, 88%, 65%)\" dominant-baseline=\"hanging\" stroke=\"hsl(301, 88%, 65%)\" stroke-width=\"1px\"><rect vector-effect=\"non-scaling-stroke\" x=\"76\" y=\"304\" width=\"12\" height=\"12\"/><g stroke-linejoin=\"round\" font-style=\"normal\" font-weight=\"normal\" fill=\"black\" stroke-linecap=\"round\" font-family=\"sans-serif\" font-size=\"12px\" stroke=\"black\"><text vector-effect=\"non-scaling-stroke\" x=\"92\" y=\"304\" dominant-baseline=\"hanging\" stroke=\"none\">Truth</text></g></g></g></g></g></svg>"
      ]
     },
     "metadata": {},
     "output_type": "display_data"
    },
    {
     "name": "stdout",
     "output_type": "stream",
     "text": [
      "Training (800 steps):  100% [\u001b[32m=\u001b[0m\u001b[32m=\u001b[0m\u001b[32m=\u001b[0m\u001b[32m=\u001b[0m\u001b[32m=\u001b[0m\u001b[32m=\u001b[0m\u001b[32m=\u001b[0m\u001b[32m=\u001b[0m\u001b[32m=\u001b[0m\u001b[32m=\u001b[0m\u001b[32m=\u001b[0m\u001b[32m=\u001b[0m\u001b[32m=\u001b[0m\u001b[32m=\u001b[0m\u001b[32m=\u001b[0m\u001b[32m=\u001b[0m\u001b[32m=\u001b[0m\u001b[32m=\u001b[0m\u001b[32m=\u001b[0m\u001b[32m=\u001b[0m\u001b[32m=\u001b[0m\u001b[32m=\u001b[0m\u001b[32m=\u001b[0m\u001b[32m=\u001b[0m\u001b[32m=\u001b[0m\u001b[32m=\u001b[0m\u001b[32m=\u001b[0m\u001b[32m=\u001b[0m\u001b[32m=\u001b[0m\u001b[32m=\u001b[0m\u001b[32m=\u001b[0m\u001b[32m=\u001b[0m\u001b[32m=\u001b[0m\u001b[32m=\u001b[0m\u001b[32m=\u001b[0m\u001b[32m=\u001b[0m\u001b[32m=\u001b[0m\u001b[32m=\u001b[0m\u001b[32m=\u001b[0m\u001b[32m=\u001b[0m] (3799 steps/s)\u001b[0m [loss=0.011] [~loss=0.023]        \n"
     ]
    }
   ],
   "source": [
    "import (\n",
    "    . \"github.com/gomlx/gomlx/graph\"\n",
    "    \"github.com/gomlx/gomlx/ml/context\"\n",
    "    \"github.com/gomlx/gomlx/ml/data\"\n",
    "    \"github.com/gomlx/gomlx/ml/train\"\n",
    ")\n",
    "\n",
    "var (\n",
    "\tflagNumSteps     = flag.Int(\"steps\", 1000, \"Number of gradient descent steps to perform\")\n",
    "\tflagLearningRate = flag.Float64(\"learning_rate\", 0.1, \"Initial learning rate.\")\n",
    ")\n",
    "\n",
    "func TrainInverseRealFFT() {\n",
    "    x, y := CalculateXY()\n",
    "    ctx := context.NewContext(manager)\n",
    "\tctx.SetParam(optimizers.LearningRateKey, *flagLearningRate)\n",
    "\n",
    "    modelFn := func(ctx *context.Context, spec any, inputs []*Node) []*Node {\n",
    "        g := inputs[0].Graph()\n",
    "        learnedXVar := ctx.VariableWithShape(\"learnedX\", x.Shape())\n",
    "        predictedY := RealFFT(learnedXVar.ValueGraph(g))\n",
    "        return []*Node{predictedY}\n",
    "    }\n",
    "\n",
    "    dataset, err := data.InMemoryFromData(manager, \"dataset\", []any{x}, []any{y})\n",
    "    if err != nil {\n",
    "        panic(err)\n",
    "    }\n",
    "    dataset.BatchSize(1, false).Infinite(true)\n",
    "\n",
    "    opt := optimizers.Adam().Done()\n",
    "    trainer := train.NewTrainer(\n",
    "        manager, ctx, modelFn,\n",
    "        losses.MeanAbsoluteError,\n",
    "        opt,\n",
    "        nil, nil) // trainMetrics, evalMetrics\n",
    "\n",
    "\tloop := train.NewLoop(trainer)\n",
    "\tcommandline.AttachProgressBar(loop) // Attaches a progress bar to the loop.\n",
    "\n",
    "    // Plot learnedX\n",
    "    displayId := gonbui.UniqueID()\n",
    "    gonbui.UpdateHTML(displayId, \"\")\n",
    "    train.EveryNSteps(loop, 10, \"plot\", 0, func(loop *train.Loop, metrics []tensor.Tensor) error {\n",
    "        learnedXVar := ctx.InspectVariable(context.RootScope, \"learnedX\")\n",
    "        learnedX := learnedXVar.Value()\n",
    "        Plot(displayId, 1024, 320, []tensor.Tensor{x, learnedX}, []string{\"Truth\", \"Learned\"})\n",
    "        return nil\n",
    "    })\n",
    "    \n",
    "\t// Loop for given number of steps.\n",
    "\t_, err = loop.RunSteps(dataset, *flagNumSteps)\n",
    "\tif err != nil {\n",
    "\t\tpanic(err)\n",
    "\t}\n",
    "\n",
    "}\n",
    "\n",
    "%% --steps=800 --learning_rate=0.01\n",
    "%env GOMLX_PLATFORM Host\n",
    "fmt.Println(manager.Platform())\n",
    "TrainInverseRealFFT()"
   ]
  }
 ],
 "metadata": {
  "kernelspec": {
   "display_name": "Go (gonb)",
   "language": "go",
   "name": "gonb"
  },
  "language_info": {
   "codemirror_mode": "",
   "file_extension": ".go",
   "mimetype": "",
   "name": "go",
   "nbconvert_exporter": "",
   "pygments_lexer": "",
   "version": "go1.20.5"
  }
 },
 "nbformat": 4,
 "nbformat_minor": 5
}
