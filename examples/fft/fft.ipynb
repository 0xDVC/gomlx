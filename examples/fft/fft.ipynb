{
 "cells": [
  {
   "cell_type": "markdown",
   "id": "89c9afa4-399c-4a64-ac27-dd1aeecbc8f3",
   "metadata": {},
   "source": [
    "# Fast-Fourier-Transformation Example\n",
    "\n",
    "## Machine-Learned Inverse FFT\n",
    "\n",
    "Let's start with a sinusoidal curve: that's the input (`x`) that we want to learn, given its FFT (`y`).\n",
    "The goal is to do an `InverseRealFFT` by gradient descent.\n",
    "\n",
    "For this problem the input (`x`) is real (`float32`) and label (`y`), the FFT, is complex (`complex64`)."
   ]
  },
  {
   "cell_type": "code",
   "execution_count": 107,
   "id": "2a73f9ca-19a5-44e8-96c1-c488ecf356c0",
   "metadata": {},
   "outputs": [
    {
     "name": "stdout",
     "output_type": "stream",
     "text": [
      "\t- replace rule for module \"github.com/gomlx/gomlx\" to local directory \"/opt/janpf/Projects/gomlx.gomlx\" already exists."
     ]
    }
   ],
   "source": [
    "!*rm -f go.work && go work init\n",
    "!*go work use . \"/opt/janpf/Projects/gomlx.gomlx\"\n",
    "%goworkfix"
   ]
  },
  {
   "cell_type": "code",
   "execution_count": 108,
   "id": "e34bf9b0-a4ed-4afe-a52d-deccd7bd4620",
   "metadata": {},
   "outputs": [
    {
     "name": "stdout",
     "output_type": "stream",
     "text": [
      "x: shape=(Float32)[1 100]\n",
      "y: shape=(Complex64)[1 51]\n"
     ]
    },
    {
     "data": {
      "text/html": [
       "<svg width=\"1024\" height=\"320\" viewbox=\"0 0 1024 320\" style=\"background-color:#f8f8f8\" preserveAspectRatio=\"xMidYMid meet\" xmlns=\"http://www.w3.org/2000/svg\"><defs><marker markerHeight=\"2%\" id=\"circle\" viewBox=\"0 0 10 10 \" refX=\"5\" refY=\"5\" markerUnits=\"userSpaceOnUse\" markerWidth=\"2%\"><circle stroke=\"black\" cx=\"5\" cy=\"5\" r=\"3\" fill=\"none\"/></marker><marker viewBox=\"0 0 10 10 \" refX=\"5\" refY=\"5\" markerUnits=\"userSpaceOnUse\" markerWidth=\"2%\" markerHeight=\"2%\" id=\"filled-circle\"><circle fill=\"black\" stroke=\"none\" cx=\"5\" cy=\"5\" r=\"3\"/></marker><marker markerUnits=\"userSpaceOnUse\" markerWidth=\"2%\" markerHeight=\"2%\" id=\"square\" viewBox=\"0 0 10 10 \" refX=\"5\" refY=\"5\"><rect height=\"6\" fill=\"none\" stroke=\"black\" x=\"2\" y=\"2\" width=\"6\"/></marker><marker refY=\"5\" markerUnits=\"userSpaceOnUse\" markerWidth=\"2%\" markerHeight=\"2%\" id=\"filled-square\" viewBox=\"0 0 10 10 \" refX=\"5\"><rect x=\"2\" y=\"2\" width=\"6\" height=\"6\" fill=\"black\" stroke=\"none\"/></marker></defs><g marker-start=\"url(#square)\" transform=\"translate(70 250 )scale(1 -1 )\" stroke=\"hsl(90, 47%, 65%)\" stroke-linejoin=\"round\" fill=\"none\" marker-end=\"url(#square)\" stroke-linecap=\"round\" marker-mid=\"url(#square)\" stroke-width=\"2px\"><path d=\"M1.768000e+01,9.000000e+01 L2.625212e+01,1.008502e+02 L3.482424e+01,1.115293e+02 L4.339636e+01,1.218689e+02 L5.196848e+01,1.317058e+02 L6.054061e+01,1.408851e+02 L6.911273e+01,1.492618e+02 L7.768485e+01,1.567040e+02 L8.625697e+01,1.630942e+02 L9.482909e+01,1.683316e+02 L1.034012e+02,1.723338e+02 L1.119733e+02,1.750374e+02 L1.205455e+02,1.764000e+02 L1.291176e+02,1.764000e+02 L1.376897e+02,1.750374e+02 L1.462618e+02,1.723337e+02 L1.548339e+02,1.683316e+02 L1.634061e+02,1.630942e+02 L1.719782e+02,1.567040e+02 L1.805503e+02,1.492618e+02 L1.891224e+02,1.408851e+02 L1.976945e+02,1.317058e+02 L2.062667e+02,1.218688e+02 L2.148388e+02,1.115293e+02 L2.234109e+02,1.008502e+02 L2.319830e+02,9.000000e+01 L2.405552e+02,7.914979e+01 L2.491273e+02,6.847070e+01 L2.576994e+02,5.813114e+01 L2.662715e+02,4.829417e+01 L2.748436e+02,3.911494e+01 L2.834158e+02,3.073819e+01 L2.919879e+02,2.329603e+01 L3.005600e+02,1.690582e+01 L3.091321e+02,1.166837e+01 L3.177042e+02,7.666243e+00 L3.262764e+02,4.962576e+00 L3.348485e+02,3.600005e+00 L3.434206e+02,3.600005e+00 L3.519927e+02,4.962587e+00 L3.605648e+02,7.666258e+00 L3.691370e+02,1.166838e+01 L3.777091e+02,1.690585e+01 L3.862812e+02,2.329605e+01 L3.948533e+02,3.073821e+01 L4.034255e+02,3.911497e+01 L4.119976e+02,4.829422e+01 L4.205697e+02,5.813120e+01 L4.291418e+02,6.847076e+01 L4.377139e+02,7.914981e+01 L4.462861e+02,9.000002e+01 L4.548582e+02,1.008502e+02 L4.634303e+02,1.115293e+02 L4.720024e+02,1.218689e+02 L4.805745e+02,1.317058e+02 L4.891467e+02,1.408851e+02 L4.977188e+02,1.492618e+02 L5.062909e+02,1.567040e+02 L5.148630e+02,1.630942e+02 L5.234352e+02,1.683316e+02 L5.320073e+02,1.723338e+02 L5.405794e+02,1.750374e+02 L5.491515e+02,1.764000e+02 L5.577236e+02,1.764000e+02 L5.662958e+02,1.750374e+02 L5.748679e+02,1.723337e+02 L5.834400e+02,1.683316e+02 L5.920121e+02,1.630941e+02 L6.005842e+02,1.567039e+02 L6.091564e+02,1.492618e+02 L6.177285e+02,1.408850e+02 L6.263006e+02,1.317058e+02 L6.348727e+02,1.218688e+02 L6.434448e+02,1.115292e+02 L6.520170e+02,1.008501e+02 L6.605891e+02,9.000000e+01 L6.691612e+02,7.914979e+01 L6.777333e+02,6.847070e+01 L6.863055e+02,5.813114e+01 L6.948776e+02,4.829417e+01 L7.034497e+02,3.911493e+01 L7.120218e+02,3.073817e+01 L7.205939e+02,2.329602e+01 L7.291661e+02,1.690582e+01 L7.377382e+02,1.166836e+01 L7.463103e+02,7.666243e+00 L7.548824e+02,4.962576e+00 L7.634545e+02,3.600000e+00 L7.720267e+02,3.600010e+00 L7.805988e+02,4.962597e+00 L7.891709e+02,7.666274e+00 L7.977430e+02,1.166841e+01 L8.063152e+02,1.690588e+01 L8.148873e+02,2.329609e+01 L8.234594e+02,3.073825e+01 L8.320315e+02,3.911502e+01 L8.406036e+02,4.829427e+01 L8.491758e+02,5.813117e+01 L8.577479e+02,6.847074e+01 L8.663200e+02,7.914983e+01 \" vector-effect=\"non-scaling-stroke\"/></g><g stroke-linecap=\"round\" stroke=\"black\" stroke-linejoin=\"round\" transform=\"translate(70 250 )scale(1 -1 )\" fill=\"none\" stroke-width=\"2px\"><path vector-effect=\"non-scaling-stroke\" d=\"M1.768000e+01,0 L1.768000e+01,-6 M1.034012e+02,0 L1.034012e+02,-6 M1.891224e+02,0 L1.891224e+02,-6 M2.748436e+02,0 L2.748436e+02,-6 M3.605648e+02,0 L3.605648e+02,-6 M4.462861e+02,0 L4.462861e+02,-6 M5.320073e+02,0 L5.320073e+02,-6 M6.177285e+02,0 L6.177285e+02,-6 M7.034497e+02,0 L7.034497e+02,-6 M7.891709e+02,0 L7.891709e+02,-6 \"/></g><g stroke-linecap=\"round\" font-weight=\"normal\" text-anchor=\"middle\" stroke-width=\"2px\" transform=\"translate(70 250 )scale(1 1 )\" font-size=\"12px\" stroke=\"black\" stroke-linejoin=\"round\" font-style=\"normal\" dominant-baseline=\"hanging\" font-family=\"sans-serif\" fill=\"black\"><text x=\"1.768000e+01\" y=\"10\" dominant-baseline=\"hanging\" stroke=\"none\" vector-effect=\"non-scaling-stroke\">0</text><text dominant-baseline=\"hanging\" stroke=\"none\" vector-effect=\"non-scaling-stroke\" x=\"1.034012e+02\" y=\"10\">10</text><text y=\"10\" dominant-baseline=\"hanging\" stroke=\"none\" vector-effect=\"non-scaling-stroke\" x=\"1.891224e+02\">20</text><text stroke=\"none\" vector-effect=\"non-scaling-stroke\" x=\"2.748436e+02\" y=\"10\" dominant-baseline=\"hanging\">30</text><text stroke=\"none\" vector-effect=\"non-scaling-stroke\" x=\"3.605648e+02\" y=\"10\" dominant-baseline=\"hanging\">40</text><text stroke=\"none\" vector-effect=\"non-scaling-stroke\" x=\"4.462861e+02\" y=\"10\" dominant-baseline=\"hanging\">50</text><text dominant-baseline=\"hanging\" stroke=\"none\" vector-effect=\"non-scaling-stroke\" x=\"5.320073e+02\" y=\"10\">60</text><text dominant-baseline=\"hanging\" stroke=\"none\" vector-effect=\"non-scaling-stroke\" x=\"6.177285e+02\" y=\"10\">70</text><text vector-effect=\"non-scaling-stroke\" x=\"7.034497e+02\" y=\"10\" dominant-baseline=\"hanging\" stroke=\"none\">80</text><text x=\"7.891709e+02\" y=\"10\" dominant-baseline=\"hanging\" stroke=\"none\" vector-effect=\"non-scaling-stroke\">90</text></g><g dominant-baseline=\"baseline\" stroke=\"black\" stroke-linejoin=\"round\" font-weight=\"bold\" stroke-linecap=\"round\" font-family=\"sans-serif\" font-style=\"normal\" transform=\"translate(70 250 )scale(1 1 )rotate(0 0 0 )\" font-size=\"12px\" text-anchor=\"middle\" fill=\"black\" stroke-width=\"2px\"><text y=\"-6\" dominant-baseline=\"baseline\" stroke=\"none\" vector-effect=\"non-scaling-stroke\" x=\"442\">Steps</text></g><g stroke-linecap=\"round\" text-anchor=\"middle\" transform=\"translate(70 250 )scale(1 -1 )\" fill=\"black\" stroke-linejoin=\"round\" font-size=\"12px\" font-style=\"normal\" dominant-baseline=\"baseline\" stroke-width=\"2px\" font-family=\"sans-serif\" font-weight=\"bold\" stroke=\"black\"><path vector-effect=\"non-scaling-stroke\" d=\"M0,9.000000e+01 L-6,9.000000e+01 \"/></g><g stroke-linejoin=\"round\" transform=\"translate(70 250 )scale(1 1 )\" font-size=\"12px\" text-anchor=\"end\" fill=\"black\" font-style=\"normal\" dominant-baseline=\"middle\" stroke=\"black\" stroke-width=\"2px\" stroke-linecap=\"round\" font-family=\"sans-serif\" font-weight=\"normal\"><text stroke=\"none\" vector-effect=\"non-scaling-stroke\" x=\"-10\" y=\"-9.000000e+01\" dominant-baseline=\"middle\">-0.000</text></g><g font-weight=\"normal\" stroke-width=\"0.5px\" font-size=\"12px\" dominant-baseline=\"middle\" stroke-linejoin=\"round\" font-family=\"sans-serif\" text-anchor=\"end\" fill=\"black\" stroke-linecap=\"round\" font-style=\"normal\" stroke=\"gray\" transform=\"translate(70 250 )scale(1 -1 )\"><path vector-effect=\"non-scaling-stroke\" d=\"M0,9.000000e+01 L884,9.000000e+01 \"/></g><g font-family=\"sans-serif\" fill=\"none\" stroke-width=\"2px\" font-style=\"normal\" dominant-baseline=\"middle\" stroke=\"black\" stroke-linecap=\"round\" font-weight=\"normal\" text-anchor=\"end\" font-size=\"12px\" stroke-linejoin=\"round\"><rect width=\"884\" height=\"180\" vector-effect=\"non-scaling-stroke\" x=\"70\" y=\"70\"/></g></svg>"
      ]
     },
     "metadata": {},
     "output_type": "display_data"
    }
   ],
   "source": [
    "import (\n",
    "    . \"github.com/gomlx/gomlx/graph\"\n",
    "    . \"github.com/gomlx/gomlx/types/exceptions\"\n",
    "    mg \"github.com/gomlx/gomlx/examples/notebook/gonb/margaid\"\n",
    "    \"github.com/janpfeifer/gonb/gonbui\"\n",
    ")\n",
    "\n",
    "// manager always created at initialization.\n",
    "var manager = NewManager()\n",
    "\n",
    "const (\n",
    "    NumPoints = 100\n",
    "    Frequency = 2.0  // Number of curves in samples.\n",
    "    RealDType = shapes.Float32\n",
    "    ComplexDType = shapes.Complex64\n",
    ")\n",
    "\n",
    "// CalculateXY returns (x, y) of our problem, where y is a sinusoidal curve and x is its FFT.\n",
    "func CalculateXY() (x, y tensor.Tensor) {\n",
    "    e := NewExec(manager, func (g *Graph) (x, y *Node) {\n",
    "        x = Iota(g, shapes.Make(RealDType, 1, NumPoints), 1)\n",
    "        x = MulScalar(x, 2.0*math.Pi*Frequency/float64(NumPoints))\n",
    "        x = Sin(x)\n",
    "        y = RealFFT(x)\n",
    "        return\n",
    "    })\n",
    "    res := e.Call()\n",
    "    return res[0], res[1]\n",
    "}\n",
    "\n",
    "func Plot(displayId string, width, height int, tensors []tensor.Tensor, names []string) {\n",
    "    plts := mg.New(width, height)\n",
    "    for ii, t := range tensors {\n",
    "        var values []float64\n",
    "        switch t.DType() {\n",
    "        case shapes.F64:\n",
    "            values = t.Local().Flat().([]float64)\n",
    "        case shapes.F32:\n",
    "            values32 := t.Local().Flat().([]float32)\n",
    "            values = slices.Map(values32, func (v float32) float64 { return float64(v) })\n",
    "        default:\n",
    "            Panicf(\"only float32 and float64 tensor dtypes are accepted by Plot, got t.shape=%s\", t.Shape())\n",
    "        }\n",
    "        var name string\n",
    "        if len(names) > ii {\n",
    "            name = names[ii]\n",
    "        }\n",
    "        plts.AddValues(name, \"\", values)\n",
    "    }\n",
    "    if displayId == \"\" {\n",
    "        plts.Plot()\n",
    "    } else {\n",
    "        gonbui.UpdateHTML(displayId, plts.PlotToHTML())\n",
    "    }\n",
    "}\n",
    "\n",
    "%%\n",
    "x, y := CalculateXY()\n",
    "fmt.Printf(\"x: shape=%s\\n\", x.Shape())\n",
    "fmt.Printf(\"y: shape=%s\\n\", y.Shape())\n",
    "Plot(\"\", 1024, 320, []tensor.Tensor{x}, nil)"
   ]
  },
  {
   "cell_type": "markdown",
   "id": "749d6fbd-c7ad-4bec-80d4-8a2dd1dd1531",
   "metadata": {},
   "source": [
    "### Train the model\n",
    "\n",
    "If you run it, you'll see the plot of the \"learnedX\" adjusting towards \"x\", the original sinusoidal curve."
   ]
  },
  {
   "cell_type": "code",
   "execution_count": 109,
   "id": "555b0279-e565-4857-a422-6ed214305408",
   "metadata": {},
   "outputs": [
    {
     "data": {
      "text/html": [
       "<svg preserveAspectRatio=\"xMidYMid meet\" xmlns=\"http://www.w3.org/2000/svg\" width=\"1024\" height=\"356\" viewbox=\"0 0 1024 320\" style=\"background-color:#f8f8f8\"><defs><marker markerUnits=\"userSpaceOnUse\" markerWidth=\"2%\" markerHeight=\"2%\" id=\"circle\" viewBox=\"0 0 10 10 \" refX=\"5\" refY=\"5\"><circle r=\"3\" fill=\"none\" stroke=\"black\" cx=\"5\" cy=\"5\"/></marker><marker markerUnits=\"userSpaceOnUse\" markerWidth=\"2%\" markerHeight=\"2%\" id=\"filled-circle\" viewBox=\"0 0 10 10 \" refX=\"5\" refY=\"5\"><circle cx=\"5\" cy=\"5\" r=\"3\" fill=\"black\" stroke=\"none\"/></marker><marker markerWidth=\"2%\" markerHeight=\"2%\" id=\"square\" viewBox=\"0 0 10 10 \" refX=\"5\" refY=\"5\" markerUnits=\"userSpaceOnUse\"><rect y=\"2\" width=\"6\" height=\"6\" fill=\"none\" stroke=\"black\" x=\"2\"/></marker><marker refX=\"5\" refY=\"5\" markerUnits=\"userSpaceOnUse\" markerWidth=\"2%\" markerHeight=\"2%\" id=\"filled-square\" viewBox=\"0 0 10 10 \"><rect x=\"2\" y=\"2\" width=\"6\" height=\"6\" fill=\"black\" stroke=\"none\"/></marker></defs><g stroke=\"hsl(90, 47%, 65%)\" marker-end=\"url(#square)\" stroke-linecap=\"round\" marker-mid=\"url(#square)\" stroke-linejoin=\"round\" marker-start=\"url(#square)\" fill=\"none\" stroke-width=\"2px\" transform=\"translate(70 250 )scale(1 -1 )\"><path vector-effect=\"non-scaling-stroke\" d=\"M1.768000e+01,9.016914e+01 L2.625212e+01,1.007077e+02 L3.482424e+01,1.115757e+02 L4.339636e+01,1.218117e+02 L5.196848e+01,1.316897e+02 L6.054061e+01,1.408043e+02 L6.911273e+01,1.489045e+02 L7.768485e+01,1.568308e+02 L8.625697e+01,1.631035e+02 L9.482909e+01,1.684126e+02 L1.034012e+02,1.724241e+02 L1.119733e+02,1.750946e+02 L1.205455e+02,1.764000e+02 L1.291176e+02,1.763025e+02 L1.376897e+02,1.750560e+02 L1.462618e+02,1.722467e+02 L1.548339e+02,1.682469e+02 L1.634061e+02,1.629991e+02 L1.719782e+02,1.568411e+02 L1.805503e+02,1.492077e+02 L1.891224e+02,1.410331e+02 L1.976945e+02,1.317082e+02 L2.062667e+02,1.218134e+02 L2.148388e+02,1.115970e+02 L2.234109e+02,1.010434e+02 L2.319830e+02,9.004410e+01 L2.405552e+02,7.940878e+01 L2.491273e+02,6.846318e+01 L2.576994e+02,5.843212e+01 L2.662715e+02,4.851428e+01 L2.748436e+02,3.908952e+01 L2.834158e+02,3.086936e+01 L2.919879e+02,2.337457e+01 L3.005600e+02,1.731933e+01 L3.091321e+02,1.178644e+01 L3.177042e+02,7.787579e+00 L3.262764e+02,5.140532e+00 L3.348485e+02,3.600000e+00 L3.434206e+02,3.738432e+00 L3.519927e+02,5.159821e+00 L3.605648e+02,7.750841e+00 L3.691370e+02,1.169218e+01 L3.777091e+02,1.703224e+01 L3.862812e+02,2.351445e+01 L3.948533e+02,3.079439e+01 L4.034255e+02,3.931417e+01 L4.119976e+02,4.828580e+01 L4.205697e+02,5.817850e+01 L4.291418e+02,6.857130e+01 L4.377139e+02,7.906193e+01 L4.462861e+02,9.000758e+01 L4.548582e+02,1.008846e+02 L4.634303e+02,1.115249e+02 L4.720024e+02,1.219192e+02 L4.805745e+02,1.317692e+02 L4.891467e+02,1.409085e+02 L4.977188e+02,1.493848e+02 L5.062909e+02,1.566439e+02 L5.148630e+02,1.629448e+02 L5.234352e+02,1.683694e+02 L5.320073e+02,1.722265e+02 L5.405794e+02,1.749733e+02 L5.491515e+02,1.763081e+02 L5.577236e+02,1.762839e+02 L5.662958e+02,1.749087e+02 L5.748679e+02,1.722697e+02 L5.834400e+02,1.683443e+02 L5.920121e+02,1.631835e+02 L6.005842e+02,1.566595e+02 L6.091564e+02,1.493221e+02 L6.177285e+02,1.407883e+02 L6.263006e+02,1.316416e+02 L6.348727e+02,1.219466e+02 L6.434448e+02,1.114403e+02 L6.520170e+02,1.008267e+02 L6.605891e+02,9.014785e+01 L6.691612e+02,7.914490e+01 L6.777333e+02,6.860475e+01 L6.863055e+02,5.831276e+01 L6.948776e+02,4.839694e+01 L7.034497e+02,3.922776e+01 L7.120218e+02,3.063289e+01 L7.205939e+02,2.340942e+01 L7.291661e+02,1.707832e+01 L7.377382e+02,1.164207e+01 L7.463103e+02,8.044993e+00 L7.548824e+02,5.049952e+00 L7.634545e+02,3.785979e+00 L7.720267e+02,3.784747e+00 L7.805988e+02,5.068308e+00 L7.891709e+02,7.859700e+00 L7.977430e+02,1.170030e+01 L8.063152e+02,1.700407e+01 L8.148873e+02,2.347607e+01 L8.234594e+02,3.093529e+01 L8.320315e+02,3.922137e+01 L8.406036e+02,4.826365e+01 L8.491758e+02,5.825385e+01 L8.577479e+02,6.860266e+01 L8.663200e+02,7.932022e+01 \"/></g><g fill=\"none\" stroke-linecap=\"round\" marker-end=\"url(#square)\" transform=\"translate(70 250 )scale(1 -1 )\" stroke-width=\"2px\" marker-mid=\"url(#square)\" stroke=\"hsl(301, 88%, 65%)\" stroke-linejoin=\"round\" marker-start=\"url(#square)\"><path d=\"M1.768000e+01,9.005272e+01 L2.625212e+01,1.008919e+02 L3.482424e+01,1.115601e+02 L4.339636e+01,1.218892e+02 L5.196848e+01,1.317162e+02 L6.054061e+01,1.408861e+02 L6.911273e+01,1.492543e+02 L7.768485e+01,1.566889e+02 L8.625697e+01,1.630726e+02 L9.482909e+01,1.683048e+02 L1.034012e+02,1.723028e+02 L1.119733e+02,1.750037e+02 L1.205455e+02,1.763649e+02 L1.291176e+02,1.763649e+02 L1.376897e+02,1.750037e+02 L1.462618e+02,1.723028e+02 L1.548339e+02,1.683048e+02 L1.634061e+02,1.630726e+02 L1.719782e+02,1.566889e+02 L1.805503e+02,1.492543e+02 L1.891224e+02,1.408861e+02 L1.976945e+02,1.317162e+02 L2.062667e+02,1.218892e+02 L2.148388e+02,1.115601e+02 L2.234109e+02,1.008919e+02 L2.319830e+02,9.005271e+01 L2.405552e+02,7.921353e+01 L2.491273e+02,6.854529e+01 L2.576994e+02,5.821623e+01 L2.662715e+02,4.838926e+01 L2.748436e+02,3.921936e+01 L2.834158e+02,3.085111e+01 L2.919879e+02,2.341651e+01 L3.005600e+02,1.703280e+01 L3.091321e+02,1.180066e+01 L3.177042e+02,7.802605e+00 L3.262764e+02,5.101686e+00 L3.348485e+02,3.740499e+00 L3.434206e+02,3.740499e+00 L3.519927e+02,5.101696e+00 L3.605648e+02,7.802621e+00 L3.691370e+02,1.180068e+01 L3.777091e+02,1.703282e+01 L3.862812e+02,2.341653e+01 L3.948533e+02,3.085114e+01 L4.034255e+02,3.921939e+01 L4.119976e+02,4.838931e+01 L4.205697e+02,5.821629e+01 L4.291418e+02,6.854535e+01 L4.377139e+02,7.921355e+01 L4.462861e+02,9.005273e+01 L4.548582e+02,1.008919e+02 L4.634303e+02,1.115602e+02 L4.720024e+02,1.218892e+02 L4.805745e+02,1.317162e+02 L4.891467e+02,1.408861e+02 L4.977188e+02,1.492544e+02 L5.062909e+02,1.566890e+02 L5.148630e+02,1.630727e+02 L5.234352e+02,1.683048e+02 L5.320073e+02,1.723028e+02 L5.405794e+02,1.750037e+02 L5.491515e+02,1.763649e+02 L5.577236e+02,1.763649e+02 L5.662958e+02,1.750037e+02 L5.748679e+02,1.723028e+02 L5.834400e+02,1.683047e+02 L5.920121e+02,1.630726e+02 L6.005842e+02,1.566889e+02 L6.091564e+02,1.492543e+02 L6.177285e+02,1.408860e+02 L6.263006e+02,1.317161e+02 L6.348727e+02,1.218891e+02 L6.434448e+02,1.115601e+02 L6.520170e+02,1.008918e+02 L6.605891e+02,9.005272e+01 L6.691612e+02,7.921353e+01 L6.777333e+02,6.854529e+01 L6.863055e+02,5.821623e+01 L6.948776e+02,4.838926e+01 L7.034497e+02,3.921934e+01 L7.120218e+02,3.085109e+01 L7.205939e+02,2.341650e+01 L7.291661e+02,1.703279e+01 L7.377382e+02,1.180065e+01 L7.463103e+02,7.802605e+00 L7.548824e+02,5.101686e+00 L7.634545e+02,3.740494e+00 L7.720267e+02,3.740504e+00 L7.805988e+02,5.101706e+00 L7.891709e+02,7.802636e+00 L7.977430e+02,1.180070e+01 L8.063152e+02,1.703285e+01 L8.148873e+02,2.341657e+01 L8.234594e+02,3.085118e+01 L8.320315e+02,3.921943e+01 L8.406036e+02,4.838936e+01 L8.491758e+02,5.821627e+01 L8.577479e+02,6.854532e+01 L8.663200e+02,7.921356e+01 \" vector-effect=\"non-scaling-stroke\"/></g><g stroke-width=\"2px\" stroke-linecap=\"round\" stroke=\"black\" stroke-linejoin=\"round\" transform=\"translate(70 250 )scale(1 -1 )\" fill=\"none\"><path vector-effect=\"non-scaling-stroke\" d=\"M1.768000e+01,0 L1.768000e+01,-6 M1.034012e+02,0 L1.034012e+02,-6 M1.891224e+02,0 L1.891224e+02,-6 M2.748436e+02,0 L2.748436e+02,-6 M3.605648e+02,0 L3.605648e+02,-6 M4.462861e+02,0 L4.462861e+02,-6 M5.320073e+02,0 L5.320073e+02,-6 M6.177285e+02,0 L6.177285e+02,-6 M7.034497e+02,0 L7.034497e+02,-6 M7.891709e+02,0 L7.891709e+02,-6 \"/></g><g stroke=\"black\" stroke-linejoin=\"round\" font-weight=\"normal\" stroke-width=\"2px\" stroke-linecap=\"round\" transform=\"translate(70 250 )scale(1 1 )\" font-style=\"normal\" font-family=\"sans-serif\" font-size=\"12px\" text-anchor=\"middle\" dominant-baseline=\"hanging\" fill=\"black\"><text dominant-baseline=\"hanging\" stroke=\"none\" vector-effect=\"non-scaling-stroke\" x=\"1.768000e+01\" y=\"10\">0</text><text x=\"1.034012e+02\" y=\"10\" dominant-baseline=\"hanging\" stroke=\"none\" vector-effect=\"non-scaling-stroke\">10</text><text vector-effect=\"non-scaling-stroke\" x=\"1.891224e+02\" y=\"10\" dominant-baseline=\"hanging\" stroke=\"none\">20</text><text x=\"2.748436e+02\" y=\"10\" dominant-baseline=\"hanging\" stroke=\"none\" vector-effect=\"non-scaling-stroke\">30</text><text stroke=\"none\" vector-effect=\"non-scaling-stroke\" x=\"3.605648e+02\" y=\"10\" dominant-baseline=\"hanging\">40</text><text stroke=\"none\" vector-effect=\"non-scaling-stroke\" x=\"4.462861e+02\" y=\"10\" dominant-baseline=\"hanging\">50</text><text dominant-baseline=\"hanging\" stroke=\"none\" vector-effect=\"non-scaling-stroke\" x=\"5.320073e+02\" y=\"10\">60</text><text x=\"6.177285e+02\" y=\"10\" dominant-baseline=\"hanging\" stroke=\"none\" vector-effect=\"non-scaling-stroke\">70</text><text stroke=\"none\" vector-effect=\"non-scaling-stroke\" x=\"7.034497e+02\" y=\"10\" dominant-baseline=\"hanging\">80</text><text vector-effect=\"non-scaling-stroke\" x=\"7.891709e+02\" y=\"10\" dominant-baseline=\"hanging\" stroke=\"none\">90</text></g><g font-style=\"normal\" stroke-width=\"2px\" stroke-linecap=\"round\" stroke=\"black\" stroke-linejoin=\"round\" font-family=\"sans-serif\" font-size=\"12px\" text-anchor=\"middle\" dominant-baseline=\"baseline\" fill=\"black\" transform=\"translate(70 250 )scale(1 1 )rotate(0 0 0 )\" font-weight=\"bold\"><text stroke=\"none\" vector-effect=\"non-scaling-stroke\" x=\"442\" y=\"-6\" dominant-baseline=\"baseline\">Steps</text></g><g stroke-linecap=\"round\" stroke=\"black\" stroke-linejoin=\"round\" font-family=\"sans-serif\" transform=\"translate(70 250 )scale(1 -1 )\" font-style=\"normal\" dominant-baseline=\"baseline\" font-size=\"12px\" font-weight=\"bold\" text-anchor=\"middle\" fill=\"black\" stroke-width=\"2px\"><path d=\"M0,9.005272e+01 L-6,9.005272e+01 \" vector-effect=\"non-scaling-stroke\"/></g><g stroke-linejoin=\"round\" stroke=\"black\" text-anchor=\"end\" dominant-baseline=\"middle\" font-style=\"normal\" fill=\"black\" font-family=\"sans-serif\" font-size=\"12px\" font-weight=\"normal\" stroke-width=\"2px\" stroke-linecap=\"round\" transform=\"translate(70 250 )scale(1 1 )\"><text x=\"-10\" y=\"-9.005272e+01\" dominant-baseline=\"middle\" stroke=\"none\" vector-effect=\"non-scaling-stroke\">-0.000</text></g><g stroke=\"gray\" stroke-linejoin=\"round\" transform=\"translate(70 250 )scale(1 -1 )\" font-style=\"normal\" fill=\"black\" stroke-width=\"0.5px\" font-size=\"12px\" font-weight=\"normal\" stroke-linecap=\"round\" dominant-baseline=\"middle\" font-family=\"sans-serif\" text-anchor=\"end\"><path vector-effect=\"non-scaling-stroke\" d=\"M0,9.005272e+01 L884,9.005272e+01 \"/></g><g font-weight=\"normal\" fill=\"none\" font-style=\"normal\" text-anchor=\"end\" stroke=\"black\" stroke-linejoin=\"round\" font-family=\"sans-serif\" font-size=\"12px\" dominant-baseline=\"middle\" stroke-width=\"2px\" stroke-linecap=\"round\"><rect width=\"884\" height=\"180\" vector-effect=\"non-scaling-stroke\" x=\"70\" y=\"70\"/><g dominant-baseline=\"hanging\" fill=\"hsl(90, 47%, 65%)\" stroke-width=\"1px\" stroke=\"hsl(90, 47%, 65%)\" text-anchor=\"start\"><rect x=\"76\" y=\"286\" width=\"12\" height=\"12\" vector-effect=\"non-scaling-stroke\"/><g fill=\"black\" stroke-linejoin=\"round\" font-family=\"sans-serif\" font-size=\"12px\" font-weight=\"normal\" stroke=\"black\" stroke-linecap=\"round\" font-style=\"normal\"><text y=\"286\" dominant-baseline=\"hanging\" stroke=\"none\" vector-effect=\"non-scaling-stroke\" x=\"92\">Learned</text><g text-anchor=\"start\" dominant-baseline=\"hanging\" fill=\"hsl(301, 88%, 65%)\" stroke-width=\"1px\" stroke=\"hsl(301, 88%, 65%)\"><rect vector-effect=\"non-scaling-stroke\" x=\"76\" y=\"304\" width=\"12\" height=\"12\"/><g stroke-linecap=\"round\" font-style=\"normal\" stroke=\"black\" stroke-linejoin=\"round\" font-family=\"sans-serif\" font-size=\"12px\" font-weight=\"normal\" fill=\"black\"><text dominant-baseline=\"hanging\" stroke=\"none\" vector-effect=\"non-scaling-stroke\" x=\"92\" y=\"304\">Truth</text></g></g></g></g></g></svg>"
      ]
     },
     "metadata": {},
     "output_type": "display_data"
    },
    {
     "name": "stdout",
     "output_type": "stream",
     "text": [
      "Training (800 steps):  100% [\u001b[32m=\u001b[0m\u001b[32m=\u001b[0m\u001b[32m=\u001b[0m\u001b[32m=\u001b[0m\u001b[32m=\u001b[0m\u001b[32m=\u001b[0m\u001b[32m=\u001b[0m\u001b[32m=\u001b[0m\u001b[32m=\u001b[0m\u001b[32m=\u001b[0m\u001b[32m=\u001b[0m\u001b[32m=\u001b[0m\u001b[32m=\u001b[0m\u001b[32m=\u001b[0m\u001b[32m=\u001b[0m\u001b[32m=\u001b[0m\u001b[32m=\u001b[0m\u001b[32m=\u001b[0m\u001b[32m=\u001b[0m\u001b[32m=\u001b[0m\u001b[32m=\u001b[0m\u001b[32m=\u001b[0m\u001b[32m=\u001b[0m\u001b[32m=\u001b[0m\u001b[32m=\u001b[0m\u001b[32m=\u001b[0m\u001b[32m=\u001b[0m\u001b[32m=\u001b[0m\u001b[32m=\u001b[0m\u001b[32m=\u001b[0m\u001b[32m=\u001b[0m\u001b[32m=\u001b[0m\u001b[32m=\u001b[0m\u001b[32m=\u001b[0m\u001b[32m=\u001b[0m\u001b[32m=\u001b[0m\u001b[32m=\u001b[0m\u001b[32m=\u001b[0m\u001b[32m=\u001b[0m\u001b[32m=\u001b[0m] (1932 steps/s)\u001b[0m [loss=0.010] [~loss=0.022]        \n"
     ]
    }
   ],
   "source": [
    "import (\n",
    "    . \"github.com/gomlx/gomlx/graph\"\n",
    "    \"github.com/gomlx/gomlx/ml/context\"\n",
    "    \"github.com/gomlx/gomlx/ml/data\"\n",
    "    \"github.com/gomlx/gomlx/ml/train\"\n",
    ")\n",
    "\n",
    "var (\n",
    "\tflagNumSteps     = flag.Int(\"steps\", 1000, \"Number of gradient descent steps to perform\")\n",
    "\tflagLearningRate = flag.Float64(\"learning_rate\", 0.1, \"Initial learning rate.\")\n",
    ")\n",
    "\n",
    "func TrainInverseRealFFT() {\n",
    "    x, y := CalculateXY()\n",
    "    ctx := context.NewContext(manager)\n",
    "\tctx.SetParam(optimizers.LearningRateKey, *flagLearningRate)\n",
    "\n",
    "    modelFn := func(ctx *context.Context, spec any, inputs []*Node) []*Node {\n",
    "        g := inputs[0].Graph()\n",
    "        learnedXVar := ctx.VariableWithShape(\"learnedX\", x.Shape())\n",
    "        predictedY := RealFFT(learnedXVar.ValueGraph(g))\n",
    "        return []*Node{predictedY}\n",
    "    }\n",
    "\n",
    "    dataset, err := data.InMemoryFromData(manager, \"dataset\", []any{x}, []any{y})\n",
    "    if err != nil {\n",
    "        panic(err)\n",
    "    }\n",
    "    dataset.BatchSize(1, false).Infinite(true)\n",
    "\n",
    "    opt := optimizers.Adam().Done()\n",
    "    trainer := train.NewTrainer(\n",
    "        manager, ctx, modelFn,\n",
    "        losses.MeanAbsoluteError,\n",
    "        opt,\n",
    "        nil, nil) // trainMetrics, evalMetrics\n",
    "\n",
    "\tloop := train.NewLoop(trainer)\n",
    "\tcommandline.AttachProgressBar(loop) // Attaches a progress bar to the loop.\n",
    "\n",
    "    // Plot learnedX\n",
    "    displayId := gonbui.UniqueID()\n",
    "    gonbui.UpdateHTML(displayId, \"\")\n",
    "    train.EveryNSteps(loop, 10, \"plot\", 0, func(loop *train.Loop, metrics []tensor.Tensor) error {\n",
    "        learnedXVar := ctx.InspectVariable(context.RootScope, \"learnedX\")\n",
    "        learnedX := learnedXVar.Value()\n",
    "        Plot(displayId, 1024, 320, []tensor.Tensor{x, learnedX}, []string{\"Truth\", \"Learned\"})\n",
    "        return nil\n",
    "    })\n",
    "    \n",
    "\t// Loop for given number of steps.\n",
    "\t_, err = loop.RunSteps(dataset, *flagNumSteps)\n",
    "\tif err != nil {\n",
    "\t\tpanic(err)\n",
    "\t}\n",
    "\n",
    "}\n",
    "\n",
    "%% --steps=800 --learning_rate=0.01\n",
    "TrainInverseRealFFT()"
   ]
  }
 ],
 "metadata": {
  "kernelspec": {
   "display_name": "Go (gonb)",
   "language": "go",
   "name": "gonb"
  },
  "language_info": {
   "codemirror_mode": "",
   "file_extension": ".go",
   "mimetype": "",
   "name": "go",
   "nbconvert_exporter": "",
   "pygments_lexer": "",
   "version": "go1.20.5"
  }
 },
 "nbformat": 4,
 "nbformat_minor": 5
}
