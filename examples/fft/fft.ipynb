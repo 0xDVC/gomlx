{
 "cells": [
  {
   "cell_type": "markdown",
   "id": "89c9afa4-399c-4a64-ac27-dd1aeecbc8f3",
   "metadata": {},
   "source": [
    "# Fast-Fourier-Transformation Example\n",
    "\n",
    "## Machine-Learned Inverse FFT\n",
    "\n",
    "Let's start with a sinusoidal curve: that's the input (`x`) that we want to learn, given its FFT (`y`).\n",
    "The goal is to do an `InverseRealFFT` by gradient descent.\n",
    "\n",
    "For this problem the input (`x`) is real (`float32`) and label (`y`), the FFT, is complex (`complex64`)."
   ]
  },
  {
   "cell_type": "code",
   "execution_count": 1,
   "id": "2a73f9ca-19a5-44e8-96c1-c488ecf356c0",
   "metadata": {},
   "outputs": [
    {
     "name": "stdout",
     "output_type": "stream",
     "text": [
      "\t- added replace rule for module \"github.com/gomlx/gomlx\" to local directory \"/opt/janpf/Projects/gomlx.gomlx\"."
     ]
    }
   ],
   "source": [
    "!*rm -f go.work && go work init\n",
    "!*go work use . \"/opt/janpf/Projects/gomlx.gomlx\"\n",
    "%goworkfix"
   ]
  },
  {
   "cell_type": "code",
   "execution_count": 78,
   "id": "e34bf9b0-a4ed-4afe-a52d-deccd7bd4620",
   "metadata": {},
   "outputs": [
    {
     "name": "stdout",
     "output_type": "stream",
     "text": [
      "x: shape=(Float32)[1 100]\n",
      "y: shape=(Complex64)[1 51]\n"
     ]
    },
    {
     "data": {
      "text/html": [
       "<svg viewbox=\"0 0 1024 320\" style=\"background-color:#f8f8f8\" preserveAspectRatio=\"xMidYMid meet\" xmlns=\"http://www.w3.org/2000/svg\" width=\"1024\" height=\"338\"><defs><marker refY=\"5\" markerUnits=\"userSpaceOnUse\" markerWidth=\"2%\" markerHeight=\"2%\" id=\"circle\" viewBox=\"0 0 10 10 \" refX=\"5\"><circle cx=\"5\" cy=\"5\" r=\"3\" fill=\"none\" stroke=\"black\"/></marker><marker refX=\"5\" refY=\"5\" markerUnits=\"userSpaceOnUse\" markerWidth=\"2%\" markerHeight=\"2%\" id=\"filled-circle\" viewBox=\"0 0 10 10 \"><circle cx=\"5\" cy=\"5\" r=\"3\" fill=\"black\" stroke=\"none\"/></marker><marker markerUnits=\"userSpaceOnUse\" markerWidth=\"2%\" markerHeight=\"2%\" id=\"square\" viewBox=\"0 0 10 10 \" refX=\"5\" refY=\"5\"><rect y=\"2\" width=\"6\" height=\"6\" fill=\"none\" stroke=\"black\" x=\"2\"/></marker><marker viewBox=\"0 0 10 10 \" refX=\"5\" refY=\"5\" markerUnits=\"userSpaceOnUse\" markerWidth=\"2%\" markerHeight=\"2%\" id=\"filled-square\"><rect fill=\"black\" stroke=\"none\" x=\"2\" y=\"2\" width=\"6\" height=\"6\"/></marker></defs><g stroke-linecap=\"round\" stroke-linejoin=\"round\" stroke-width=\"2px\" fill=\"none\" stroke=\"hsl(90, 47%, 65%)\" marker-end=\"url(#square)\" transform=\"translate(70 250 )scale(1 -1 )\" marker-start=\"url(#square)\" marker-mid=\"url(#square)\"><path vector-effect=\"non-scaling-stroke\" d=\"M1.768000e+01,9.000000e+01 L2.625212e+01,1.008502e+02 L3.482424e+01,1.115293e+02 L4.339636e+01,1.218689e+02 L5.196848e+01,1.317058e+02 L6.054061e+01,1.408851e+02 L6.911273e+01,1.492618e+02 L7.768485e+01,1.567040e+02 L8.625697e+01,1.630942e+02 L9.482909e+01,1.683316e+02 L1.034012e+02,1.723338e+02 L1.119733e+02,1.750374e+02 L1.205455e+02,1.764000e+02 L1.291176e+02,1.764000e+02 L1.376897e+02,1.750374e+02 L1.462618e+02,1.723337e+02 L1.548339e+02,1.683316e+02 L1.634061e+02,1.630942e+02 L1.719782e+02,1.567040e+02 L1.805503e+02,1.492618e+02 L1.891224e+02,1.408851e+02 L1.976945e+02,1.317058e+02 L2.062667e+02,1.218688e+02 L2.148388e+02,1.115293e+02 L2.234109e+02,1.008502e+02 L2.319830e+02,9.000000e+01 L2.405552e+02,7.914979e+01 L2.491273e+02,6.847070e+01 L2.576994e+02,5.813114e+01 L2.662715e+02,4.829417e+01 L2.748436e+02,3.911494e+01 L2.834158e+02,3.073819e+01 L2.919879e+02,2.329603e+01 L3.005600e+02,1.690582e+01 L3.091321e+02,1.166837e+01 L3.177042e+02,7.666243e+00 L3.262764e+02,4.962576e+00 L3.348485e+02,3.600005e+00 L3.434206e+02,3.600005e+00 L3.519927e+02,4.962587e+00 L3.605648e+02,7.666258e+00 L3.691370e+02,1.166838e+01 L3.777091e+02,1.690585e+01 L3.862812e+02,2.329605e+01 L3.948533e+02,3.073821e+01 L4.034255e+02,3.911497e+01 L4.119976e+02,4.829422e+01 L4.205697e+02,5.813120e+01 L4.291418e+02,6.847076e+01 L4.377139e+02,7.914981e+01 L4.462861e+02,9.000002e+01 L4.548582e+02,1.008502e+02 L4.634303e+02,1.115293e+02 L4.720024e+02,1.218689e+02 L4.805745e+02,1.317058e+02 L4.891467e+02,1.408851e+02 L4.977188e+02,1.492618e+02 L5.062909e+02,1.567040e+02 L5.148630e+02,1.630942e+02 L5.234352e+02,1.683316e+02 L5.320073e+02,1.723338e+02 L5.405794e+02,1.750374e+02 L5.491515e+02,1.764000e+02 L5.577236e+02,1.764000e+02 L5.662958e+02,1.750374e+02 L5.748679e+02,1.723337e+02 L5.834400e+02,1.683316e+02 L5.920121e+02,1.630941e+02 L6.005842e+02,1.567039e+02 L6.091564e+02,1.492618e+02 L6.177285e+02,1.408850e+02 L6.263006e+02,1.317058e+02 L6.348727e+02,1.218688e+02 L6.434448e+02,1.115292e+02 L6.520170e+02,1.008501e+02 L6.605891e+02,9.000000e+01 L6.691612e+02,7.914979e+01 L6.777333e+02,6.847070e+01 L6.863055e+02,5.813114e+01 L6.948776e+02,4.829417e+01 L7.034497e+02,3.911493e+01 L7.120218e+02,3.073817e+01 L7.205939e+02,2.329602e+01 L7.291661e+02,1.690582e+01 L7.377382e+02,1.166836e+01 L7.463103e+02,7.666243e+00 L7.548824e+02,4.962576e+00 L7.634545e+02,3.600000e+00 L7.720267e+02,3.600010e+00 L7.805988e+02,4.962597e+00 L7.891709e+02,7.666274e+00 L7.977430e+02,1.166841e+01 L8.063152e+02,1.690588e+01 L8.148873e+02,2.329609e+01 L8.234594e+02,3.073825e+01 L8.320315e+02,3.911502e+01 L8.406036e+02,4.829427e+01 L8.491758e+02,5.813117e+01 L8.577479e+02,6.847074e+01 L8.663200e+02,7.914983e+01 \"/></g><g stroke=\"black\" stroke-linecap=\"round\" stroke-linejoin=\"round\" stroke-width=\"2px\" transform=\"translate(70 250 )scale(1 -1 )\" fill=\"none\"><path vector-effect=\"non-scaling-stroke\" d=\"M1.768000e+01,0 L1.768000e+01,-6 M1.034012e+02,0 L1.034012e+02,-6 M1.891224e+02,0 L1.891224e+02,-6 M2.748436e+02,0 L2.748436e+02,-6 M3.605648e+02,0 L3.605648e+02,-6 M4.462861e+02,0 L4.462861e+02,-6 M5.320073e+02,0 L5.320073e+02,-6 M6.177285e+02,0 L6.177285e+02,-6 M7.034497e+02,0 L7.034497e+02,-6 M7.891709e+02,0 L7.891709e+02,-6 \"/></g><g transform=\"translate(70 250 )scale(1 1 )\" font-size=\"12px\" dominant-baseline=\"hanging\" text-anchor=\"middle\" stroke=\"black\" stroke-linejoin=\"round\" stroke-width=\"2px\" font-weight=\"normal\" fill=\"black\" stroke-linecap=\"round\" font-family=\"sans-serif\" font-style=\"normal\"><text stroke=\"none\" vector-effect=\"non-scaling-stroke\" x=\"1.768000e+01\" y=\"10\" dominant-baseline=\"hanging\">0</text><text vector-effect=\"non-scaling-stroke\" x=\"1.034012e+02\" y=\"10\" dominant-baseline=\"hanging\" stroke=\"none\">10</text><text stroke=\"none\" vector-effect=\"non-scaling-stroke\" x=\"1.891224e+02\" y=\"10\" dominant-baseline=\"hanging\">20</text><text dominant-baseline=\"hanging\" stroke=\"none\" vector-effect=\"non-scaling-stroke\" x=\"2.748436e+02\" y=\"10\">30</text><text y=\"10\" dominant-baseline=\"hanging\" stroke=\"none\" vector-effect=\"non-scaling-stroke\" x=\"3.605648e+02\">40</text><text y=\"10\" dominant-baseline=\"hanging\" stroke=\"none\" vector-effect=\"non-scaling-stroke\" x=\"4.462861e+02\">50</text><text y=\"10\" dominant-baseline=\"hanging\" stroke=\"none\" vector-effect=\"non-scaling-stroke\" x=\"5.320073e+02\">60</text><text dominant-baseline=\"hanging\" stroke=\"none\" vector-effect=\"non-scaling-stroke\" x=\"6.177285e+02\" y=\"10\">70</text><text vector-effect=\"non-scaling-stroke\" x=\"7.034497e+02\" y=\"10\" dominant-baseline=\"hanging\" stroke=\"none\">80</text><text dominant-baseline=\"hanging\" stroke=\"none\" vector-effect=\"non-scaling-stroke\" x=\"7.891709e+02\" y=\"10\">90</text></g><g text-anchor=\"middle\" fill=\"black\" stroke=\"black\" dominant-baseline=\"baseline\" stroke-linecap=\"round\" stroke-linejoin=\"round\" font-family=\"sans-serif\" font-style=\"normal\" font-size=\"12px\" font-weight=\"bold\" stroke-width=\"2px\" transform=\"translate(70 250 )scale(1 1 )rotate(0 0 0 )\"><text x=\"442\" y=\"-6\" dominant-baseline=\"baseline\" stroke=\"none\" vector-effect=\"non-scaling-stroke\">Steps</text></g><g fill=\"black\" stroke-linecap=\"round\" font-family=\"sans-serif\" font-style=\"normal\" stroke-width=\"2px\" transform=\"translate(70 250 )scale(1 -1 )\" font-weight=\"bold\" dominant-baseline=\"baseline\" text-anchor=\"middle\" font-size=\"12px\" stroke=\"black\" stroke-linejoin=\"round\"><path d=\"M0,9.000000e+01 L-6,9.000000e+01 \" vector-effect=\"non-scaling-stroke\"/></g><g stroke-linecap=\"round\" stroke-linejoin=\"round\" font-family=\"sans-serif\" stroke-width=\"2px\" transform=\"translate(70 250 )scale(1 1 )\" font-size=\"12px\" dominant-baseline=\"middle\" fill=\"black\" text-anchor=\"end\" stroke=\"black\" font-weight=\"normal\" font-style=\"normal\"><text vector-effect=\"non-scaling-stroke\" x=\"-10\" y=\"-9.000000e+01\" dominant-baseline=\"middle\" stroke=\"none\">-0.000</text></g><g font-family=\"sans-serif\" font-style=\"normal\" text-anchor=\"end\" stroke-width=\"0.5px\" fill=\"black\" stroke-linejoin=\"round\" transform=\"translate(70 250 )scale(1 -1 )\" font-size=\"12px\" font-weight=\"normal\" dominant-baseline=\"middle\" stroke=\"gray\" stroke-linecap=\"round\"><path vector-effect=\"non-scaling-stroke\" d=\"M0,9.000000e+01 L884,9.000000e+01 \"/></g><g dominant-baseline=\"middle\" fill=\"none\" stroke=\"black\" stroke-linecap=\"round\" stroke-linejoin=\"round\" font-family=\"sans-serif\" font-size=\"12px\" font-style=\"normal\" text-anchor=\"end\" stroke-width=\"2px\" font-weight=\"normal\"><rect x=\"70\" y=\"70\" width=\"884\" height=\"180\" vector-effect=\"non-scaling-stroke\"/><g stroke-width=\"1px\" stroke=\"hsl(90, 47%, 65%)\" text-anchor=\"start\" fill=\"hsl(90, 47%, 65%)\" dominant-baseline=\"hanging\"><rect vector-effect=\"non-scaling-stroke\" x=\"76\" y=\"286\" width=\"12\" height=\"12\"/><g stroke=\"black\" stroke-linecap=\"round\" stroke-linejoin=\"round\" font-family=\"sans-serif\" font-style=\"normal\" fill=\"black\" font-size=\"12px\" font-weight=\"normal\"><text dominant-baseline=\"hanging\" stroke=\"none\" vector-effect=\"non-scaling-stroke\" x=\"92\" y=\"286\">#0</text></g></g></g></svg>"
      ]
     },
     "metadata": {},
     "output_type": "display_data"
    }
   ],
   "source": [
    "import (\n",
    "    . \"github.com/gomlx/gomlx/graph\"\n",
    "    . \"github.com/gomlx/gomlx/types/exceptions\"\n",
    "    mg \"github.com/gomlx/gomlx/examples/notebook/gonb/margaid\"\n",
    "    \"github.com/janpfeifer/gonb/gonbui\"\n",
    ")\n",
    "\n",
    "// manager always created at initialization.\n",
    "var manager = NewManager()\n",
    "\n",
    "const (\n",
    "    NumPoints = 100\n",
    "    Frequency = 2.0  // Number of curves in samples.\n",
    "    RealDType = shapes.Float32\n",
    "    ComplexDType = shapes.Complex64\n",
    ")\n",
    "\n",
    "// CalculateXY returns (x, y) of our problem, where y is a sinusoidal curve and x is its FFT.\n",
    "func CalculateXY() (x, y tensor.Tensor) {\n",
    "    e := NewExec(manager, func (g *Graph) (x, y *Node) {\n",
    "        x = Iota(g, shapes.Make(RealDType, 1, NumPoints), 1)\n",
    "        x = MulScalar(x, 2.0*math.Pi*Frequency/float64(NumPoints))\n",
    "        x = Sin(x)\n",
    "        y = RealFFT(x)\n",
    "        return\n",
    "    })\n",
    "    res := e.Call()\n",
    "    return res[0], res[1]\n",
    "}\n",
    "\n",
    "func Plot(displayId string, width, height int, tensors ...tensor.Tensor) {\n",
    "    plts := mg.New(width, height)\n",
    "    for ii, t := range tensors {\n",
    "        var values []float64\n",
    "        switch t.DType() {\n",
    "        case shapes.F64:\n",
    "            values = t.Local().Flat().([]float64)\n",
    "        case shapes.F32:\n",
    "            values32 := t.Local().Flat().([]float32)\n",
    "            values = slices.Map(values32, func (v float32) float64 { return float64(v) })\n",
    "        default:\n",
    "            Panicf(\"only float32 and float64 tensor dtypes are accepted by Plot, got t.shape=%s\", t.Shape())\n",
    "        }\n",
    "        var name string\n",
    "        if len(tensors) > 0 {\n",
    "            name = fmt.Sprintf(\"#%d\", ii)\n",
    "        }\n",
    "        plts.AddValues(name, \"\", values)\n",
    "    }\n",
    "    if displayId == \"\" {\n",
    "        plts.Plot()\n",
    "    } else {\n",
    "        gonbui.UpdateHTML(displayId, plts.PlotToHTML())\n",
    "    }\n",
    "}\n",
    "\n",
    "%%\n",
    "x, y := CalculateXY()\n",
    "fmt.Printf(\"x: shape=%s\\n\", x.Shape())\n",
    "fmt.Printf(\"y: shape=%s\\n\", y.Shape())\n",
    "Plot(\"\", 1024, 320, x)"
   ]
  },
  {
   "cell_type": "code",
   "execution_count": 77,
   "id": "25865ca2-7fce-4e35-bc26-b965202fc53b",
   "metadata": {},
   "outputs": [
    {
     "name": "stdout",
     "output_type": "stream",
     "text": [
      ". removed func TrainInverseRealFFT\n"
     ]
    }
   ],
   "source": [
    "%rm TrainInverseRealFFT"
   ]
  },
  {
   "cell_type": "markdown",
   "id": "749d6fbd-c7ad-4bec-80d4-8a2dd1dd1531",
   "metadata": {},
   "source": [
    "### Train the model\n",
    "\n",
    "If you run it, you'll see the plot of the \"learnedX\" adjusting towards \"x\", the original sinusoidal curve."
   ]
  },
  {
   "cell_type": "code",
   "execution_count": 89,
   "id": "555b0279-e565-4857-a422-6ed214305408",
   "metadata": {},
   "outputs": [
    {
     "name": "stdout",
     "output_type": "stream",
     "text": [
      "Set: GOMLX_PLATFORM=\"Host\"\n",
      "Host\n"
     ]
    },
    {
     "name": "stderr",
     "output_type": "stream",
     "text": [
      "2023-08-05 10:55:47.041657: E external/xla/xla/stream_executor/stream_executor_internal.h:124] SetPriority unimplemented for this stream.\n"
     ]
    },
    {
     "data": {
      "text/html": [
       "<svg preserveAspectRatio=\"xMidYMid meet\" xmlns=\"http://www.w3.org/2000/svg\" width=\"1024\" height=\"356\" viewbox=\"0 0 1024 320\" style=\"background-color:#f8f8f8\"><defs><marker viewBox=\"0 0 10 10 \" refX=\"5\" refY=\"5\" markerUnits=\"userSpaceOnUse\" markerWidth=\"2%\" markerHeight=\"2%\" id=\"circle\"><circle fill=\"none\" stroke=\"black\" cx=\"5\" cy=\"5\" r=\"3\"/></marker><marker id=\"filled-circle\" viewBox=\"0 0 10 10 \" refX=\"5\" refY=\"5\" markerUnits=\"userSpaceOnUse\" markerWidth=\"2%\" markerHeight=\"2%\"><circle cy=\"5\" r=\"3\" fill=\"black\" stroke=\"none\" cx=\"5\"/></marker><marker id=\"square\" viewBox=\"0 0 10 10 \" refX=\"5\" refY=\"5\" markerUnits=\"userSpaceOnUse\" markerWidth=\"2%\" markerHeight=\"2%\"><rect height=\"6\" fill=\"none\" stroke=\"black\" x=\"2\" y=\"2\" width=\"6\"/></marker><marker id=\"filled-square\" viewBox=\"0 0 10 10 \" refX=\"5\" refY=\"5\" markerUnits=\"userSpaceOnUse\" markerWidth=\"2%\" markerHeight=\"2%\"><rect x=\"2\" y=\"2\" width=\"6\" height=\"6\" fill=\"black\" stroke=\"none\"/></marker></defs><g transform=\"translate(70 250 )scale(1 -1 )\" stroke=\"hsl(90, 47%, 65%)\" stroke-width=\"2px\" marker-start=\"url(#square)\" marker-end=\"url(#square)\" marker-mid=\"url(#square)\" fill=\"none\" stroke-linecap=\"round\" stroke-linejoin=\"round\"><path d=\"M1.768000e+01,9.000392e+01 L2.625212e+01,1.008424e+02 L3.482424e+01,1.115099e+02 L4.339636e+01,1.218383e+02 L5.196848e+01,1.316646e+02 L6.054061e+01,1.408339e+02 L6.911273e+01,1.492016e+02 L7.768485e+01,1.566357e+02 L8.625697e+01,1.630189e+02 L9.482909e+01,1.682507e+02 L1.034012e+02,1.722485e+02 L1.119733e+02,1.749493e+02 L1.205455e+02,1.763104e+02 L1.291176e+02,1.763104e+02 L1.376897e+02,1.749493e+02 L1.462618e+02,1.722485e+02 L1.548339e+02,1.682507e+02 L1.634061e+02,1.630189e+02 L1.719782e+02,1.566357e+02 L1.805503e+02,1.492016e+02 L1.891224e+02,1.408339e+02 L1.976945e+02,1.316646e+02 L2.062667e+02,1.218382e+02 L2.148388e+02,1.115099e+02 L2.234109e+02,1.008424e+02 L2.319830e+02,9.000391e+01 L2.405552e+02,7.916545e+01 L2.491273e+02,6.849793e+01 L2.576994e+02,5.816956e+01 L2.662715e+02,4.834324e+01 L2.748436e+02,3.917395e+01 L2.834158e+02,3.080626e+01 L2.919879e+02,2.337217e+01 L3.005600e+02,1.698889e+01 L3.091321e+02,1.175710e+01 L3.177042e+02,7.759311e+00 L3.262764e+02,5.058566e+00 L3.348485e+02,3.697470e+00 L3.434206e+02,3.697470e+00 L3.519927e+02,5.058577e+00 L3.605648e+02,7.759321e+00 L3.691370e+02,1.175711e+01 L3.777091e+02,1.698891e+01 L3.862812e+02,2.337219e+01 L3.948533e+02,3.080630e+01 L4.034255e+02,3.917399e+01 L4.119976e+02,4.834330e+01 L4.205697e+02,5.816962e+01 L4.291418e+02,6.849799e+01 L4.377139e+02,7.916548e+01 L4.462861e+02,9.000394e+01 L4.548582e+02,1.008424e+02 L4.634303e+02,1.115099e+02 L4.720024e+02,1.218383e+02 L4.805745e+02,1.316646e+02 L4.891467e+02,1.408339e+02 L4.977188e+02,1.492016e+02 L5.062909e+02,1.566357e+02 L5.148630e+02,1.630190e+02 L5.234352e+02,1.682507e+02 L5.320073e+02,1.722485e+02 L5.405794e+02,1.749493e+02 L5.491515e+02,1.763104e+02 L5.577236e+02,1.763104e+02 L5.662958e+02,1.749493e+02 L5.748679e+02,1.722485e+02 L5.834400e+02,1.682507e+02 L5.920121e+02,1.630189e+02 L6.005842e+02,1.566356e+02 L6.091564e+02,1.492015e+02 L6.177285e+02,1.408338e+02 L6.263006e+02,1.316645e+02 L6.348727e+02,1.218382e+02 L6.434448e+02,1.115098e+02 L6.520170e+02,1.008423e+02 L6.605891e+02,9.000392e+01 L6.691612e+02,7.916546e+01 L6.777333e+02,6.849793e+01 L6.863055e+02,5.816956e+01 L6.948776e+02,4.834324e+01 L7.034497e+02,3.917394e+01 L7.120218e+02,3.080625e+01 L7.205939e+02,2.337216e+01 L7.291661e+02,1.698888e+01 L7.377382e+02,1.175709e+01 L7.463103e+02,7.759305e+00 L7.548824e+02,5.058566e+00 L7.634545e+02,3.697465e+00 L7.720267e+02,3.697476e+00 L7.805988e+02,5.058587e+00 L7.891709e+02,7.759342e+00 L7.977430e+02,1.175714e+01 L8.063152e+02,1.698894e+01 L8.148873e+02,2.337223e+01 L8.234594e+02,3.080634e+01 L8.320315e+02,3.917403e+01 L8.406036e+02,4.834335e+01 L8.491758e+02,5.816960e+01 L8.577479e+02,6.849796e+01 L8.663200e+02,7.916549e+01 \" vector-effect=\"non-scaling-stroke\"/></g><g stroke=\"hsl(301, 88%, 65%)\" marker-mid=\"url(#square)\" marker-end=\"url(#square)\" fill=\"none\" stroke-linecap=\"round\" marker-start=\"url(#square)\" stroke-width=\"2px\" stroke-linejoin=\"round\" transform=\"translate(70 250 )scale(1 -1 )\"><path d=\"M1.768000e+01,9.004325e+01 L2.625212e+01,1.007718e+02 L3.482424e+01,1.114816e+02 L4.339636e+01,1.217399e+02 L5.196848e+01,1.316801e+02 L6.054061e+01,1.407556e+02 L6.911273e+01,1.492350e+02 L7.768485e+01,1.566847e+02 L8.625697e+01,1.630623e+02 L9.482909e+01,1.681586e+02 L1.034012e+02,1.722993e+02 L1.119733e+02,1.749371e+02 L1.205455e+02,1.764000e+02 L1.291176e+02,1.762123e+02 L1.376897e+02,1.749303e+02 L1.462618e+02,1.722425e+02 L1.548339e+02,1.684117e+02 L1.634061e+02,1.630637e+02 L1.719782e+02,1.567383e+02 L1.805503e+02,1.492422e+02 L1.891224e+02,1.406948e+02 L1.976945e+02,1.317919e+02 L2.062667e+02,1.218485e+02 L2.148388e+02,1.115783e+02 L2.234109e+02,1.006641e+02 L2.319830e+02,8.989466e+01 L2.405552e+02,7.920999e+01 L2.491273e+02,6.842556e+01 L2.576994e+02,5.829832e+01 L2.662715e+02,4.827718e+01 L2.748436e+02,3.928394e+01 L2.834158e+02,3.081727e+01 L2.919879e+02,2.325405e+01 L3.005600e+02,1.689106e+01 L3.091321e+02,1.187508e+01 L3.177042e+02,7.682004e+00 L3.262764e+02,5.041546e+00 L3.348485e+02,3.765787e+00 L3.434206e+02,3.802131e+00 L3.519927e+02,5.189814e+00 L3.605648e+02,7.783938e+00 L3.691370e+02,1.164692e+01 L3.777091e+02,1.711683e+01 L3.862812e+02,2.339704e+01 L3.948533e+02,3.075969e+01 L4.034255e+02,3.905345e+01 L4.119976e+02,4.832605e+01 L4.205697e+02,5.817427e+01 L4.291418e+02,6.868203e+01 L4.377139e+02,7.911097e+01 L4.462861e+02,9.014422e+01 L4.548582e+02,1.008256e+02 L4.634303e+02,1.115470e+02 L4.720024e+02,1.217145e+02 L4.805745e+02,1.316317e+02 L4.891467e+02,1.408395e+02 L4.977188e+02,1.492205e+02 L5.062909e+02,1.566396e+02 L5.148630e+02,1.630680e+02 L5.234352e+02,1.683211e+02 L5.320073e+02,1.723494e+02 L5.405794e+02,1.750411e+02 L5.491515e+02,1.762464e+02 L5.577236e+02,1.762933e+02 L5.662958e+02,1.748790e+02 L5.748679e+02,1.721454e+02 L5.834400e+02,1.681481e+02 L5.920121e+02,1.630297e+02 L6.005842e+02,1.565052e+02 L6.091564e+02,1.491653e+02 L6.177285e+02,1.410267e+02 L6.263006e+02,1.316665e+02 L6.348727e+02,1.219285e+02 L6.434448e+02,1.113500e+02 L6.520170e+02,1.010172e+02 L6.605891e+02,8.996249e+01 L6.691612e+02,7.909812e+01 L6.777333e+02,6.841411e+01 L6.863055e+02,5.816136e+01 L6.948776e+02,4.827947e+01 L7.034497e+02,3.901332e+01 L7.120218e+02,3.068229e+01 L7.205939e+02,2.333645e+01 L7.291661e+02,1.690997e+01 L7.377382e+02,1.178132e+01 L7.463103e+02,7.825932e+00 L7.548824e+02,5.082199e+00 L7.634545e+02,3.600000e+00 L7.720267e+02,3.692424e+00 L7.805988e+02,4.982379e+00 L7.891709e+02,7.794299e+00 L7.977430e+02,1.195000e+01 L8.063152e+02,1.727057e+01 L8.148873e+02,2.336880e+01 L8.234594e+02,3.096678e+01 L8.320315e+02,3.920142e+01 L8.406036e+02,4.854332e+01 L8.491758e+02,5.814452e+01 L8.577479e+02,6.858300e+01 L8.663200e+02,7.943750e+01 \" vector-effect=\"non-scaling-stroke\"/></g><g stroke-width=\"2px\" stroke-linejoin=\"round\" fill=\"none\" stroke-linecap=\"round\" transform=\"translate(70 250 )scale(1 -1 )\" stroke=\"black\"><path vector-effect=\"non-scaling-stroke\" d=\"M1.768000e+01,0 L1.768000e+01,-6 M1.034012e+02,0 L1.034012e+02,-6 M1.891224e+02,0 L1.891224e+02,-6 M2.748436e+02,0 L2.748436e+02,-6 M3.605648e+02,0 L3.605648e+02,-6 M4.462861e+02,0 L4.462861e+02,-6 M5.320073e+02,0 L5.320073e+02,-6 M6.177285e+02,0 L6.177285e+02,-6 M7.034497e+02,0 L7.034497e+02,-6 M7.891709e+02,0 L7.891709e+02,-6 \"/></g><g stroke-linecap=\"round\" dominant-baseline=\"hanging\" stroke-width=\"2px\" stroke-linejoin=\"round\" transform=\"translate(70 250 )scale(1 1 )\" fill=\"black\" font-style=\"normal\" font-weight=\"normal\" text-anchor=\"middle\" stroke=\"black\" font-family=\"sans-serif\" font-size=\"12px\"><text dominant-baseline=\"hanging\" stroke=\"none\" vector-effect=\"non-scaling-stroke\" x=\"1.768000e+01\" y=\"10\">0</text><text stroke=\"none\" vector-effect=\"non-scaling-stroke\" x=\"1.034012e+02\" y=\"10\" dominant-baseline=\"hanging\">10</text><text y=\"10\" dominant-baseline=\"hanging\" stroke=\"none\" vector-effect=\"non-scaling-stroke\" x=\"1.891224e+02\">20</text><text y=\"10\" dominant-baseline=\"hanging\" stroke=\"none\" vector-effect=\"non-scaling-stroke\" x=\"2.748436e+02\">30</text><text vector-effect=\"non-scaling-stroke\" x=\"3.605648e+02\" y=\"10\" dominant-baseline=\"hanging\" stroke=\"none\">40</text><text stroke=\"none\" vector-effect=\"non-scaling-stroke\" x=\"4.462861e+02\" y=\"10\" dominant-baseline=\"hanging\">50</text><text dominant-baseline=\"hanging\" stroke=\"none\" vector-effect=\"non-scaling-stroke\" x=\"5.320073e+02\" y=\"10\">60</text><text stroke=\"none\" vector-effect=\"non-scaling-stroke\" x=\"6.177285e+02\" y=\"10\" dominant-baseline=\"hanging\">70</text><text x=\"7.034497e+02\" y=\"10\" dominant-baseline=\"hanging\" stroke=\"none\" vector-effect=\"non-scaling-stroke\">80</text><text stroke=\"none\" vector-effect=\"non-scaling-stroke\" x=\"7.891709e+02\" y=\"10\" dominant-baseline=\"hanging\">90</text></g><g font-family=\"sans-serif\" font-size=\"12px\" stroke-width=\"2px\" transform=\"translate(70 250 )scale(1 1 )rotate(0 0 0 )\" dominant-baseline=\"baseline\" fill=\"black\" stroke-linecap=\"round\" font-weight=\"bold\" text-anchor=\"middle\" font-style=\"normal\" stroke=\"black\" stroke-linejoin=\"round\"><text stroke=\"none\" vector-effect=\"non-scaling-stroke\" x=\"442\" y=\"-6\" dominant-baseline=\"baseline\">Steps</text></g><g stroke-linecap=\"round\" font-style=\"normal\" font-weight=\"bold\" stroke-width=\"2px\" transform=\"translate(70 250 )scale(1 -1 )\" font-family=\"sans-serif\" fill=\"black\" text-anchor=\"middle\" dominant-baseline=\"baseline\" stroke=\"black\" stroke-linejoin=\"round\" font-size=\"12px\"><path vector-effect=\"non-scaling-stroke\" d=\"M0,9.000392e+01 L-6,9.000392e+01 \"/></g><g stroke-linejoin=\"round\" transform=\"translate(70 250 )scale(1 1 )\" font-style=\"normal\" text-anchor=\"end\" dominant-baseline=\"middle\" stroke-width=\"2px\" font-family=\"sans-serif\" font-size=\"12px\" fill=\"black\" stroke-linecap=\"round\" font-weight=\"normal\" stroke=\"black\"><text y=\"-9.000392e+01\" dominant-baseline=\"middle\" stroke=\"none\" vector-effect=\"non-scaling-stroke\" x=\"-10\">-0.000</text></g><g fill=\"black\" font-family=\"sans-serif\" stroke-width=\"0.5px\" font-weight=\"normal\" text-anchor=\"end\" dominant-baseline=\"middle\" font-style=\"normal\" transform=\"translate(70 250 )scale(1 -1 )\" font-size=\"12px\" stroke=\"gray\" stroke-linejoin=\"round\" stroke-linecap=\"round\"><path d=\"M0,9.000392e+01 L884,9.000392e+01 \" vector-effect=\"non-scaling-stroke\"/></g><g stroke-linecap=\"round\" font-style=\"normal\" font-weight=\"normal\" text-anchor=\"end\" dominant-baseline=\"middle\" stroke=\"black\" font-size=\"12px\" font-family=\"sans-serif\" fill=\"none\" stroke-width=\"2px\" stroke-linejoin=\"round\"><rect vector-effect=\"non-scaling-stroke\" x=\"70\" y=\"70\" width=\"884\" height=\"180\"/><g fill=\"hsl(90, 47%, 65%)\" text-anchor=\"start\" dominant-baseline=\"hanging\" stroke=\"hsl(90, 47%, 65%)\" stroke-width=\"1px\"><rect y=\"286\" width=\"12\" height=\"12\" vector-effect=\"non-scaling-stroke\" x=\"76\"/><g font-weight=\"normal\" stroke=\"black\" stroke-linejoin=\"round\" font-family=\"sans-serif\" font-size=\"12px\" fill=\"black\" stroke-linecap=\"round\" font-style=\"normal\"><text stroke=\"none\" vector-effect=\"non-scaling-stroke\" x=\"92\" y=\"286\" dominant-baseline=\"hanging\">#0</text><g dominant-baseline=\"hanging\" stroke=\"hsl(301, 88%, 65%)\" stroke-width=\"1px\" fill=\"hsl(301, 88%, 65%)\" text-anchor=\"start\"><rect width=\"12\" height=\"12\" vector-effect=\"non-scaling-stroke\" x=\"76\" y=\"304\"/><g font-weight=\"normal\" stroke=\"black\" stroke-linejoin=\"round\" font-family=\"sans-serif\" font-size=\"12px\" fill=\"black\" stroke-linecap=\"round\" font-style=\"normal\"><text y=\"304\" dominant-baseline=\"hanging\" stroke=\"none\" vector-effect=\"non-scaling-stroke\" x=\"92\">#1</text></g></g></g></g></g></svg>"
      ]
     },
     "metadata": {},
     "output_type": "display_data"
    },
    {
     "name": "stdout",
     "output_type": "stream",
     "text": [
      "Training (1000 steps):  100% [\u001b[32m=\u001b[0m\u001b[32m=\u001b[0m\u001b[32m=\u001b[0m\u001b[32m=\u001b[0m\u001b[32m=\u001b[0m\u001b[32m=\u001b[0m\u001b[32m=\u001b[0m\u001b[32m=\u001b[0m\u001b[32m=\u001b[0m\u001b[32m=\u001b[0m\u001b[32m=\u001b[0m\u001b[32m=\u001b[0m\u001b[32m=\u001b[0m\u001b[32m=\u001b[0m\u001b[32m=\u001b[0m\u001b[32m=\u001b[0m\u001b[32m=\u001b[0m\u001b[32m=\u001b[0m\u001b[32m=\u001b[0m\u001b[32m=\u001b[0m\u001b[32m=\u001b[0m\u001b[32m=\u001b[0m\u001b[32m=\u001b[0m\u001b[32m=\u001b[0m\u001b[32m=\u001b[0m\u001b[32m=\u001b[0m\u001b[32m=\u001b[0m\u001b[32m=\u001b[0m\u001b[32m=\u001b[0m\u001b[32m=\u001b[0m\u001b[32m=\u001b[0m\u001b[32m=\u001b[0m\u001b[32m=\u001b[0m\u001b[32m=\u001b[0m\u001b[32m=\u001b[0m\u001b[32m=\u001b[0m\u001b[32m=\u001b[0m\u001b[32m=\u001b[0m\u001b[32m=\u001b[0m\u001b[32m=\u001b[0m] (4336 steps/s)\u001b[0m [loss=0.012] [~loss=0.012]        \n"
     ]
    }
   ],
   "source": [
    "import (\n",
    "    . \"github.com/gomlx/gomlx/graph\"\n",
    "    \"github.com/gomlx/gomlx/ml/context\"\n",
    "    \"github.com/gomlx/gomlx/ml/data\"\n",
    "    \"github.com/gomlx/gomlx/ml/train\"\n",
    ")\n",
    "\n",
    "var (\n",
    "\tflagNumSteps     = flag.Int(\"steps\", 1000, \"Number of gradient descent steps to perform\")\n",
    "\tflagLearningRate = flag.Float64(\"learning_rate\", 0.1, \"Initial learning rate.\")\n",
    ")\n",
    "\n",
    "func TrainInverseRealFFT() {\n",
    "    x, y := CalculateXY()\n",
    "    ctx := context.NewContext(manager)\n",
    "\tctx.SetParam(optimizers.LearningRateKey, *flagLearningRate)\n",
    "\n",
    "    modelFn := func(ctx *context.Context, spec any, inputs []*Node) []*Node {\n",
    "        g := inputs[0].Graph()\n",
    "        learnedXVar := ctx.VariableWithShape(\"learnedX\", x.Shape())\n",
    "        predictedY := RealFFT(learnedXVar.ValueGraph(g))\n",
    "        return []*Node{predictedY}\n",
    "    }\n",
    "\n",
    "    dataset, err := data.InMemoryFromData(manager, \"dataset\", []any{x}, []any{y})\n",
    "    if err != nil {\n",
    "        panic(err)\n",
    "    }\n",
    "    dataset.BatchSize(1, false).Infinite(true)\n",
    "\n",
    "    opt := optimizers.Adam().Done()\n",
    "    trainer := train.NewTrainer(\n",
    "        manager, ctx, modelFn,\n",
    "        losses.MeanAbsoluteError,\n",
    "        opt,\n",
    "        nil, nil) // trainMetrics, evalMetrics\n",
    "\n",
    "\tloop := train.NewLoop(trainer)\n",
    "\tcommandline.AttachProgressBar(loop) // Attaches a progress bar to the loop.\n",
    "\n",
    "    // Plot learnedX\n",
    "    displayId := gonbui.UniqueID()\n",
    "    gonbui.UpdateHTML(displayId, \"\")\n",
    "    train.EveryNSteps(loop, 10, \"plot\", 0, func(loop *train.Loop, metrics []tensor.Tensor) error {\n",
    "        learnedXVar := ctx.InspectVariable(context.RootScope, \"learnedX\")\n",
    "        learnedX := learnedXVar.Value()\n",
    "        Plot(displayId, 1024, 320, x, learnedX)\n",
    "        return nil\n",
    "    })\n",
    "    \n",
    "\t// Loop for given number of steps.\n",
    "\t_, err = loop.RunSteps(dataset, *flagNumSteps)\n",
    "\tif err != nil {\n",
    "\t\tpanic(err)\n",
    "\t}\n",
    "\n",
    "}\n",
    "\n",
    "%% --steps=1000 --learning_rate=0.01\n",
    "%env GOMLX_PLATFORM Host\n",
    "fmt.Println(manager.Platform())\n",
    "TrainInverseRealFFT()"
   ]
  }
 ],
 "metadata": {
  "kernelspec": {
   "display_name": "Go (gonb)",
   "language": "go",
   "name": "gonb"
  },
  "language_info": {
   "codemirror_mode": "",
   "file_extension": ".go",
   "mimetype": "",
   "name": "go",
   "nbconvert_exporter": "",
   "pygments_lexer": "",
   "version": "go1.20.5"
  }
 },
 "nbformat": 4,
 "nbformat_minor": 5
}
