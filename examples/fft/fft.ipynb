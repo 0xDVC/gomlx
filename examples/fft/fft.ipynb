{
 "cells": [
  {
   "cell_type": "markdown",
   "id": "89c9afa4-399c-4a64-ac27-dd1aeecbc8f3",
   "metadata": {},
   "source": [
    "# Fast-Fourier-Transformation Example\n",
    "\n",
    "## Machine-Learned Inverse FFT\n",
    "\n",
    "Let's start with a sinusoidal curve: that's the input (`x`) that we want to learn, given its FFT (`y`).\n",
    "The goal is to do an `InverseRealFFT` by gradient descent.\n",
    "\n",
    "For this problem the input (`x`) is real (`float32`) and label (`y`), the FFT, is complex (`complex64`)."
   ]
  },
  {
   "cell_type": "code",
   "execution_count": 1,
   "id": "2a73f9ca-19a5-44e8-96c1-c488ecf356c0",
   "metadata": {},
   "outputs": [
    {
     "name": "stdout",
     "output_type": "stream",
     "text": [
      "\t- Added replace rule for module \"github.com/gomlx/gomlx\" to local directory \"/home/janpf/Projects/gomlx\".\n"
     ]
    }
   ],
   "source": [
    "!*go work init && go work use . ~/Projects/gomlx\n",
    "%goworkfix"
   ]
  },
  {
   "cell_type": "code",
   "execution_count": 2,
   "id": "e34bf9b0-a4ed-4afe-a52d-deccd7bd4620",
   "metadata": {},
   "outputs": [
    {
     "name": "stdout",
     "output_type": "stream",
     "text": [
      "x: shape=(Float32)[1 100]\n",
      "y: shape=(Complex64)[1 51]\n"
     ]
    },
    {
     "data": {
      "text/html": [
       "<svg viewbox=\"0 0 1024 320\" style=\"background-color:#f8f8f8\" preserveAspectRatio=\"xMidYMid meet\" xmlns=\"http://www.w3.org/2000/svg\" width=\"1024\" height=\"320\"><defs><marker markerWidth=\"2%\" markerHeight=\"2%\" id=\"circle\" viewBox=\"0 0 10 10 \" refX=\"5\" refY=\"5\" markerUnits=\"userSpaceOnUse\"><circle cx=\"5\" cy=\"5\" r=\"3\" fill=\"none\" stroke=\"black\"/></marker><marker markerHeight=\"2%\" id=\"filled-circle\" viewBox=\"0 0 10 10 \" refX=\"5\" refY=\"5\" markerUnits=\"userSpaceOnUse\" markerWidth=\"2%\"><circle cx=\"5\" cy=\"5\" r=\"3\" fill=\"black\" stroke=\"none\"/></marker><marker refX=\"5\" refY=\"5\" markerUnits=\"userSpaceOnUse\" markerWidth=\"2%\" markerHeight=\"2%\" id=\"square\" viewBox=\"0 0 10 10 \"><rect fill=\"none\" stroke=\"black\" x=\"2\" y=\"2\" width=\"6\" height=\"6\"/></marker><marker refY=\"5\" markerUnits=\"userSpaceOnUse\" markerWidth=\"2%\" markerHeight=\"2%\" id=\"filled-square\" viewBox=\"0 0 10 10 \" refX=\"5\"><rect stroke=\"none\" x=\"2\" y=\"2\" width=\"6\" height=\"6\" fill=\"black\"/></marker></defs><g stroke-linejoin=\"round\" stroke-width=\"2px\" marker-mid=\"url(#square)\" fill=\"none\" stroke=\"hsl(90, 47%, 65%)\" stroke-linecap=\"round\" marker-end=\"url(#square)\" marker-start=\"url(#square)\" transform=\"translate(70 250 )scale(1 -1 )\"><path vector-effect=\"non-scaling-stroke\" d=\"M1.768000e+01,9.000000e+01 L2.625212e+01,1.008502e+02 L3.482424e+01,1.115293e+02 L4.339636e+01,1.218689e+02 L5.196848e+01,1.317058e+02 L6.054061e+01,1.408851e+02 L6.911273e+01,1.492618e+02 L7.768485e+01,1.567040e+02 L8.625697e+01,1.630942e+02 L9.482909e+01,1.683316e+02 L1.034012e+02,1.723338e+02 L1.119733e+02,1.750374e+02 L1.205455e+02,1.764000e+02 L1.291176e+02,1.764000e+02 L1.376897e+02,1.750374e+02 L1.462618e+02,1.723337e+02 L1.548339e+02,1.683316e+02 L1.634061e+02,1.630942e+02 L1.719782e+02,1.567040e+02 L1.805503e+02,1.492618e+02 L1.891224e+02,1.408851e+02 L1.976945e+02,1.317058e+02 L2.062667e+02,1.218688e+02 L2.148388e+02,1.115293e+02 L2.234109e+02,1.008502e+02 L2.319830e+02,9.000000e+01 L2.405552e+02,7.914979e+01 L2.491273e+02,6.847070e+01 L2.576994e+02,5.813114e+01 L2.662715e+02,4.829417e+01 L2.748436e+02,3.911494e+01 L2.834158e+02,3.073819e+01 L2.919879e+02,2.329603e+01 L3.005600e+02,1.690582e+01 L3.091321e+02,1.166837e+01 L3.177042e+02,7.666243e+00 L3.262764e+02,4.962576e+00 L3.348485e+02,3.600005e+00 L3.434206e+02,3.600005e+00 L3.519927e+02,4.962587e+00 L3.605648e+02,7.666258e+00 L3.691370e+02,1.166838e+01 L3.777091e+02,1.690585e+01 L3.862812e+02,2.329605e+01 L3.948533e+02,3.073821e+01 L4.034255e+02,3.911497e+01 L4.119976e+02,4.829422e+01 L4.205697e+02,5.813120e+01 L4.291418e+02,6.847076e+01 L4.377139e+02,7.914981e+01 L4.462861e+02,9.000002e+01 L4.548582e+02,1.008502e+02 L4.634303e+02,1.115293e+02 L4.720024e+02,1.218689e+02 L4.805745e+02,1.317058e+02 L4.891467e+02,1.408851e+02 L4.977188e+02,1.492618e+02 L5.062909e+02,1.567040e+02 L5.148630e+02,1.630942e+02 L5.234352e+02,1.683316e+02 L5.320073e+02,1.723338e+02 L5.405794e+02,1.750374e+02 L5.491515e+02,1.764000e+02 L5.577236e+02,1.764000e+02 L5.662958e+02,1.750374e+02 L5.748679e+02,1.723337e+02 L5.834400e+02,1.683316e+02 L5.920121e+02,1.630941e+02 L6.005842e+02,1.567039e+02 L6.091564e+02,1.492618e+02 L6.177285e+02,1.408850e+02 L6.263006e+02,1.317058e+02 L6.348727e+02,1.218688e+02 L6.434448e+02,1.115292e+02 L6.520170e+02,1.008501e+02 L6.605891e+02,9.000000e+01 L6.691612e+02,7.914979e+01 L6.777333e+02,6.847070e+01 L6.863055e+02,5.813114e+01 L6.948776e+02,4.829417e+01 L7.034497e+02,3.911493e+01 L7.120218e+02,3.073817e+01 L7.205939e+02,2.329602e+01 L7.291661e+02,1.690582e+01 L7.377382e+02,1.166836e+01 L7.463103e+02,7.666243e+00 L7.548824e+02,4.962576e+00 L7.634545e+02,3.600000e+00 L7.720267e+02,3.600010e+00 L7.805988e+02,4.962597e+00 L7.891709e+02,7.666274e+00 L7.977430e+02,1.166841e+01 L8.063152e+02,1.690588e+01 L8.148873e+02,2.329609e+01 L8.234594e+02,3.073825e+01 L8.320315e+02,3.911502e+01 L8.406036e+02,4.829427e+01 L8.491758e+02,5.813117e+01 L8.577479e+02,6.847074e+01 L8.663200e+02,7.914983e+01 \"/></g><g transform=\"translate(70 250 )scale(1 -1 )\" stroke-width=\"2px\" stroke-linecap=\"round\" fill=\"none\" stroke=\"black\" stroke-linejoin=\"round\"><path vector-effect=\"non-scaling-stroke\" d=\"M1.768000e+01,0 L1.768000e+01,-6 M1.034012e+02,0 L1.034012e+02,-6 M1.891224e+02,0 L1.891224e+02,-6 M2.748436e+02,0 L2.748436e+02,-6 M3.605648e+02,0 L3.605648e+02,-6 M4.462861e+02,0 L4.462861e+02,-6 M5.320073e+02,0 L5.320073e+02,-6 M6.177285e+02,0 L6.177285e+02,-6 M7.034497e+02,0 L7.034497e+02,-6 M7.891709e+02,0 L7.891709e+02,-6 \"/></g><g transform=\"translate(70 250 )scale(1 1 )\" stroke=\"black\" font-style=\"normal\" dominant-baseline=\"hanging\" font-size=\"12px\" stroke-width=\"2px\" stroke-linecap=\"round\" font-family=\"sans-serif\" font-weight=\"normal\" fill=\"black\" stroke-linejoin=\"round\" text-anchor=\"middle\"><text vector-effect=\"non-scaling-stroke\" x=\"1.768000e+01\" y=\"10\" dominant-baseline=\"hanging\" stroke=\"none\">0</text><text x=\"1.034012e+02\" y=\"10\" dominant-baseline=\"hanging\" stroke=\"none\" vector-effect=\"non-scaling-stroke\">10</text><text stroke=\"none\" vector-effect=\"non-scaling-stroke\" x=\"1.891224e+02\" y=\"10\" dominant-baseline=\"hanging\">20</text><text x=\"2.748436e+02\" y=\"10\" dominant-baseline=\"hanging\" stroke=\"none\" vector-effect=\"non-scaling-stroke\">30</text><text stroke=\"none\" vector-effect=\"non-scaling-stroke\" x=\"3.605648e+02\" y=\"10\" dominant-baseline=\"hanging\">40</text><text stroke=\"none\" vector-effect=\"non-scaling-stroke\" x=\"4.462861e+02\" y=\"10\" dominant-baseline=\"hanging\">50</text><text vector-effect=\"non-scaling-stroke\" x=\"5.320073e+02\" y=\"10\" dominant-baseline=\"hanging\" stroke=\"none\">60</text><text stroke=\"none\" vector-effect=\"non-scaling-stroke\" x=\"6.177285e+02\" y=\"10\" dominant-baseline=\"hanging\">70</text><text stroke=\"none\" vector-effect=\"non-scaling-stroke\" x=\"7.034497e+02\" y=\"10\" dominant-baseline=\"hanging\">80</text><text x=\"7.891709e+02\" y=\"10\" dominant-baseline=\"hanging\" stroke=\"none\" vector-effect=\"non-scaling-stroke\">90</text></g><g font-size=\"12px\" font-style=\"normal\" dominant-baseline=\"baseline\" stroke=\"black\" stroke-linejoin=\"round\" font-weight=\"bold\" stroke-width=\"2px\" stroke-linecap=\"round\" fill=\"black\" transform=\"translate(70 250 )scale(1 1 )rotate(0 0 0 )\" font-family=\"sans-serif\" text-anchor=\"middle\"><text stroke=\"none\" vector-effect=\"non-scaling-stroke\" x=\"442\" y=\"-6\" dominant-baseline=\"baseline\">Steps</text></g><g transform=\"translate(70 250 )scale(1 -1 )\" stroke-width=\"2px\" font-size=\"12px\" dominant-baseline=\"baseline\" stroke-linecap=\"round\" font-style=\"normal\" text-anchor=\"middle\" fill=\"black\" stroke=\"black\" stroke-linejoin=\"round\" font-family=\"sans-serif\" font-weight=\"bold\"><path vector-effect=\"non-scaling-stroke\" d=\"M0,9.000000e+01 L-6,9.000000e+01 \"/></g><g transform=\"translate(70 250 )scale(1 1 )\" text-anchor=\"end\" stroke-width=\"2px\" stroke-linecap=\"round\" font-size=\"12px\" fill=\"black\" stroke=\"black\" stroke-linejoin=\"round\" font-style=\"normal\" dominant-baseline=\"middle\" font-family=\"sans-serif\" font-weight=\"normal\"><text dominant-baseline=\"middle\" stroke=\"none\" vector-effect=\"non-scaling-stroke\" x=\"-10\" y=\"-9.000000e+01\">-0.000</text></g><g text-anchor=\"end\" font-weight=\"normal\" fill=\"black\" stroke=\"gray\" transform=\"translate(70 250 )scale(1 -1 )\" dominant-baseline=\"middle\" font-style=\"normal\" stroke-linejoin=\"round\" font-family=\"sans-serif\" stroke-width=\"0.5px\" stroke-linecap=\"round\" font-size=\"12px\"><path vector-effect=\"non-scaling-stroke\" d=\"M0,9.000000e+01 L884,9.000000e+01 \"/></g><g font-weight=\"normal\" stroke-linecap=\"round\" text-anchor=\"end\" dominant-baseline=\"middle\" fill=\"none\" stroke=\"black\" stroke-width=\"2px\" font-size=\"12px\" font-style=\"normal\" stroke-linejoin=\"round\" font-family=\"sans-serif\"><rect y=\"70\" width=\"884\" height=\"180\" vector-effect=\"non-scaling-stroke\" x=\"70\"/></g></svg>"
      ]
     },
     "metadata": {},
     "output_type": "display_data"
    }
   ],
   "source": [
    "import (\n",
    "    . \"github.com/gomlx/gomlx/graph\"\n",
    "    . \"github.com/gomlx/gomlx/types/exceptions\"\n",
    "    mg \"github.com/gomlx/gomlx/examples/notebook/gonb/margaid\"\n",
    "    \"github.com/janpfeifer/gonb/gonbui\"\n",
    ")\n",
    "\n",
    "// manager always created at initialization.\n",
    "var manager = NewManager()\n",
    "\n",
    "const (\n",
    "    NumPoints = 100\n",
    "    Frequency = 2.0  // Number of curves in samples.\n",
    "    RealDType = shapes.Float32\n",
    "    ComplexDType = shapes.Complex64\n",
    ")\n",
    "\n",
    "// CalculateXY returns (x, y) of our problem, where y is a sinusoidal curve and x is its FFT.\n",
    "func CalculateXY() (x, y tensor.Tensor) {\n",
    "    e := NewExec(manager, func (g *Graph) (x, y *Node) {\n",
    "        x = Iota(g, shapes.Make(RealDType, 1, NumPoints), 1)\n",
    "        x = MulScalar(x, 2.0*math.Pi*Frequency/float64(NumPoints))\n",
    "        x = Sin(x)\n",
    "        y = RealFFT(x)\n",
    "        return\n",
    "    })\n",
    "    res := e.Call()\n",
    "    return res[0], res[1]\n",
    "}\n",
    "\n",
    "func Plot(displayId string, width, height int, tensors []tensor.Tensor, names []string) {\n",
    "    plts := mg.New(width, height)\n",
    "    for ii, t := range tensors {\n",
    "        var values []float64\n",
    "        switch t.DType() {\n",
    "        case shapes.F64:\n",
    "            values = t.Local().FlatCopy().([]float64)\n",
    "        case shapes.F32:\n",
    "            values32 := t.Local().FlatCopy().([]float32)\n",
    "            values = slices.Map(values32, func (v float32) float64 { return float64(v) })\n",
    "        default:\n",
    "            Panicf(\"only float32 and float64 tensor dtypes are accepted by Plot, got t.shape=%s\", t.Shape())\n",
    "        }\n",
    "        var name string\n",
    "        if len(names) > ii {\n",
    "            name = names[ii]\n",
    "        }\n",
    "        plts.AddValues(name, \"\", values)\n",
    "    }\n",
    "    if displayId == \"\" {\n",
    "        plts.Plot()\n",
    "    } else {\n",
    "        gonbui.UpdateHTML(displayId, plts.PlotToHTML())\n",
    "    }\n",
    "}\n",
    "\n",
    "%%\n",
    "x, y := CalculateXY()\n",
    "fmt.Printf(\"x: shape=%s\\n\", x.Shape())\n",
    "fmt.Printf(\"y: shape=%s\\n\", y.Shape())\n",
    "Plot(\"\", 1024, 320, []tensor.Tensor{x}, nil)"
   ]
  },
  {
   "cell_type": "markdown",
   "id": "749d6fbd-c7ad-4bec-80d4-8a2dd1dd1531",
   "metadata": {},
   "source": [
    "### Train the model\n",
    "\n",
    "If you run it, you'll see the plot of the \"learnedX\" adjusting towards \"x\", the original sinusoidal curve."
   ]
  },
  {
   "cell_type": "code",
   "execution_count": 3,
   "id": "555b0279-e565-4857-a422-6ed214305408",
   "metadata": {},
   "outputs": [
    {
     "data": {
      "text/html": [
       "<svg height=\"356\" viewbox=\"0 0 1024 320\" style=\"background-color:#f8f8f8\" preserveAspectRatio=\"xMidYMid meet\" xmlns=\"http://www.w3.org/2000/svg\" width=\"1024\"><defs><marker id=\"circle\" viewBox=\"0 0 10 10 \" refX=\"5\" refY=\"5\" markerUnits=\"userSpaceOnUse\" markerWidth=\"2%\" markerHeight=\"2%\"><circle cx=\"5\" cy=\"5\" r=\"3\" fill=\"none\" stroke=\"black\"/></marker><marker id=\"filled-circle\" viewBox=\"0 0 10 10 \" refX=\"5\" refY=\"5\" markerUnits=\"userSpaceOnUse\" markerWidth=\"2%\" markerHeight=\"2%\"><circle cy=\"5\" r=\"3\" fill=\"black\" stroke=\"none\" cx=\"5\"/></marker><marker markerUnits=\"userSpaceOnUse\" markerWidth=\"2%\" markerHeight=\"2%\" id=\"square\" viewBox=\"0 0 10 10 \" refX=\"5\" refY=\"5\"><rect height=\"6\" fill=\"none\" stroke=\"black\" x=\"2\" y=\"2\" width=\"6\"/></marker><marker id=\"filled-square\" viewBox=\"0 0 10 10 \" refX=\"5\" refY=\"5\" markerUnits=\"userSpaceOnUse\" markerWidth=\"2%\" markerHeight=\"2%\"><rect x=\"2\" y=\"2\" width=\"6\" height=\"6\" fill=\"black\" stroke=\"none\"/></marker></defs><g marker-end=\"url(#square)\" marker-mid=\"url(#square)\" stroke-linecap=\"round\" marker-start=\"url(#square)\" stroke-linejoin=\"round\" fill=\"none\" transform=\"translate(70 250 )scale(1 -1 )\" stroke=\"hsl(90, 47%, 65%)\" stroke-width=\"2px\"><path vector-effect=\"non-scaling-stroke\" d=\"M1.768000e+01,9.014392e+01 L2.625212e+01,1.009551e+02 L3.482424e+01,1.113147e+02 L4.339636e+01,1.219780e+02 L5.196848e+01,1.317951e+02 L6.054061e+01,1.408760e+02 L6.911273e+01,1.491023e+02 L7.768485e+01,1.568557e+02 L8.625697e+01,1.633477e+02 L9.482909e+01,1.681627e+02 L1.034012e+02,1.722935e+02 L1.119733e+02,1.750282e+02 L1.205455e+02,1.763519e+02 L1.291176e+02,1.763074e+02 L1.376897e+02,1.749636e+02 L1.462618e+02,1.723345e+02 L1.548339e+02,1.685354e+02 L1.634061e+02,1.633232e+02 L1.719782e+02,1.566440e+02 L1.805503e+02,1.492961e+02 L1.891224e+02,1.410064e+02 L1.976945e+02,1.315882e+02 L2.062667e+02,1.218002e+02 L2.148388e+02,1.116526e+02 L2.234109e+02,1.008447e+02 L2.319830e+02,8.988463e+01 L2.405552e+02,7.926755e+01 L2.491273e+02,6.854523e+01 L2.576994e+02,5.837382e+01 L2.662715e+02,4.838669e+01 L2.748436e+02,3.929303e+01 L2.834158e+02,3.089591e+01 L2.919879e+02,2.335309e+01 L3.005600e+02,1.704107e+01 L3.091321e+02,1.182494e+01 L3.177042e+02,7.631086e+00 L3.262764e+02,5.187734e+00 L3.348485e+02,3.787302e+00 L3.434206e+02,3.646895e+00 L3.519927e+02,5.095960e+00 L3.605648e+02,7.864459e+00 L3.691370e+02,1.171005e+01 L3.777091e+02,1.687997e+01 L3.862812e+02,2.340626e+01 L3.948533e+02,3.087411e+01 L4.034255e+02,3.929566e+01 L4.119976e+02,4.843417e+01 L4.205697e+02,5.829803e+01 L4.291418e+02,6.853891e+01 L4.377139e+02,7.911767e+01 L4.462861e+02,8.997682e+01 L4.548582e+02,1.010304e+02 L4.634303e+02,1.114712e+02 L4.720024e+02,1.219068e+02 L4.805745e+02,1.319792e+02 L4.891467e+02,1.409377e+02 L4.977188e+02,1.493261e+02 L5.062909e+02,1.570125e+02 L5.148630e+02,1.630661e+02 L5.234352e+02,1.684191e+02 L5.320073e+02,1.724856e+02 L5.405794e+02,1.748743e+02 L5.491515e+02,1.762694e+02 L5.577236e+02,1.764000e+02 L5.662958e+02,1.748262e+02 L5.748679e+02,1.723993e+02 L5.834400e+02,1.682832e+02 L5.920121e+02,1.631212e+02 L6.005842e+02,1.566639e+02 L6.091564e+02,1.493775e+02 L6.177285e+02,1.410119e+02 L6.263006e+02,1.316804e+02 L6.348727e+02,1.221327e+02 L6.434448e+02,1.115893e+02 L6.520170e+02,1.010974e+02 L6.605891e+02,9.007631e+01 L6.691612e+02,7.928084e+01 L6.777333e+02,6.862716e+01 L6.863055e+02,5.816281e+01 L6.948776e+02,4.863404e+01 L7.034497e+02,3.904383e+01 L7.120218e+02,3.081038e+01 L7.205939e+02,2.331146e+01 L7.291661e+02,1.703219e+01 L7.377382e+02,1.170455e+01 L7.463103e+02,7.829129e+00 L7.548824e+02,5.215155e+00 L7.634545e+02,3.783605e+00 L7.720267e+02,3.600000e+00 L7.805988e+02,5.004155e+00 L7.891709e+02,7.884403e+00 L7.977430e+02,1.180278e+01 L8.063152e+02,1.707950e+01 L8.148873e+02,2.344671e+01 L8.234594e+02,3.065893e+01 L8.320315e+02,3.935604e+01 L8.406036e+02,4.825134e+01 L8.491758e+02,5.823911e+01 L8.577479e+02,6.858218e+01 L8.663200e+02,7.927074e+01 \"/></g><g fill=\"none\" stroke=\"hsl(301, 88%, 65%)\" stroke-width=\"2px\" marker-end=\"url(#square)\" marker-mid=\"url(#square)\" stroke-linecap=\"round\" stroke-linejoin=\"round\" marker-start=\"url(#square)\" transform=\"translate(70 250 )scale(1 -1 )\"><path vector-effect=\"non-scaling-stroke\" d=\"M1.768000e+01,9.005352e+01 L2.625212e+01,1.008956e+02 L3.482424e+01,1.115667e+02 L4.339636e+01,1.218985e+02 L5.196848e+01,1.317281e+02 L6.054061e+01,1.409004e+02 L6.911273e+01,1.492709e+02 L7.768485e+01,1.567075e+02 L8.625697e+01,1.630929e+02 L9.482909e+01,1.683264e+02 L1.034012e+02,1.723255e+02 L1.119733e+02,1.750272e+02 L1.205455e+02,1.763887e+02 L1.291176e+02,1.763887e+02 L1.376897e+02,1.750272e+02 L1.462618e+02,1.723255e+02 L1.548339e+02,1.683264e+02 L1.634061e+02,1.630929e+02 L1.719782e+02,1.567075e+02 L1.805503e+02,1.492709e+02 L1.891224e+02,1.409004e+02 L1.976945e+02,1.317280e+02 L2.062667e+02,1.218985e+02 L2.148388e+02,1.115666e+02 L2.234109e+02,1.008956e+02 L2.319830e+02,9.005351e+01 L2.405552e+02,7.921144e+01 L2.491273e+02,6.854036e+01 L2.576994e+02,5.820855e+01 L2.662715e+02,4.837896e+01 L2.748436e+02,3.920662e+01 L2.834158e+02,3.083614e+01 L2.919879e+02,2.339956e+01 L3.005600e+02,1.701415e+01 L3.091321e+02,1.178062e+01 L3.177042e+02,7.781501e+00 L3.262764e+02,5.079863e+00 L3.348485e+02,3.718313e+00 L3.434206e+02,3.718313e+00 L3.519927e+02,5.079873e+00 L3.605648e+02,7.781517e+00 L3.691370e+02,1.178064e+01 L3.777091e+02,1.701418e+01 L3.862812e+02,2.339959e+01 L3.948533e+02,3.083617e+01 L4.034255e+02,3.920665e+01 L4.119976e+02,4.837901e+01 L4.205697e+02,5.820861e+01 L4.291418e+02,6.854042e+01 L4.377139e+02,7.921147e+01 L4.462861e+02,9.005353e+01 L4.548582e+02,1.008956e+02 L4.634303e+02,1.115667e+02 L4.720024e+02,1.218985e+02 L4.805745e+02,1.317281e+02 L4.891467e+02,1.409004e+02 L4.977188e+02,1.492709e+02 L5.062909e+02,1.567075e+02 L5.148630e+02,1.630929e+02 L5.234352e+02,1.683264e+02 L5.320073e+02,1.723255e+02 L5.405794e+02,1.750272e+02 L5.491515e+02,1.763887e+02 L5.577236e+02,1.763887e+02 L5.662958e+02,1.750272e+02 L5.748679e+02,1.723255e+02 L5.834400e+02,1.683264e+02 L5.920121e+02,1.630928e+02 L6.005842e+02,1.567074e+02 L6.091564e+02,1.492708e+02 L6.177285e+02,1.409004e+02 L6.263006e+02,1.317280e+02 L6.348727e+02,1.218984e+02 L6.434448e+02,1.115666e+02 L6.520170e+02,1.008955e+02 L6.605891e+02,9.005352e+01 L6.691612e+02,7.921145e+01 L6.777333e+02,6.854036e+01 L6.863055e+02,5.820856e+01 L6.948776e+02,4.837897e+01 L7.034497e+02,3.920660e+01 L7.120218e+02,3.083613e+01 L7.205939e+02,2.339955e+01 L7.291661e+02,1.701415e+01 L7.377382e+02,1.178061e+01 L7.463103e+02,7.781501e+00 L7.548824e+02,5.079863e+00 L7.634545e+02,3.718308e+00 L7.720267e+02,3.718318e+00 L7.805988e+02,5.079883e+00 L7.891709e+02,7.781532e+00 L7.977430e+02,1.178067e+01 L8.063152e+02,1.701421e+01 L8.148873e+02,2.339963e+01 L8.234594e+02,3.083621e+01 L8.320315e+02,3.920670e+01 L8.406036e+02,4.837907e+01 L8.491758e+02,5.820859e+01 L8.577479e+02,6.854040e+01 L8.663200e+02,7.921148e+01 \"/></g><g stroke=\"black\" stroke-width=\"2px\" stroke-linecap=\"round\" transform=\"translate(70 250 )scale(1 -1 )\" stroke-linejoin=\"round\" fill=\"none\"><path vector-effect=\"non-scaling-stroke\" d=\"M1.768000e+01,0 L1.768000e+01,-6 M1.034012e+02,0 L1.034012e+02,-6 M1.891224e+02,0 L1.891224e+02,-6 M2.748436e+02,0 L2.748436e+02,-6 M3.605648e+02,0 L3.605648e+02,-6 M4.462861e+02,0 L4.462861e+02,-6 M5.320073e+02,0 L5.320073e+02,-6 M6.177285e+02,0 L6.177285e+02,-6 M7.034497e+02,0 L7.034497e+02,-6 M7.891709e+02,0 L7.891709e+02,-6 \"/></g><g stroke-linejoin=\"round\" font-family=\"sans-serif\" font-size=\"12px\" font-style=\"normal\" text-anchor=\"middle\" dominant-baseline=\"hanging\" stroke=\"black\" stroke-width=\"2px\" transform=\"translate(70 250 )scale(1 1 )\" font-weight=\"normal\" fill=\"black\" stroke-linecap=\"round\"><text stroke=\"none\" vector-effect=\"non-scaling-stroke\" x=\"1.768000e+01\" y=\"10\" dominant-baseline=\"hanging\">0</text><text vector-effect=\"non-scaling-stroke\" x=\"1.034012e+02\" y=\"10\" dominant-baseline=\"hanging\" stroke=\"none\">10</text><text x=\"1.891224e+02\" y=\"10\" dominant-baseline=\"hanging\" stroke=\"none\" vector-effect=\"non-scaling-stroke\">20</text><text stroke=\"none\" vector-effect=\"non-scaling-stroke\" x=\"2.748436e+02\" y=\"10\" dominant-baseline=\"hanging\">30</text><text vector-effect=\"non-scaling-stroke\" x=\"3.605648e+02\" y=\"10\" dominant-baseline=\"hanging\" stroke=\"none\">40</text><text stroke=\"none\" vector-effect=\"non-scaling-stroke\" x=\"4.462861e+02\" y=\"10\" dominant-baseline=\"hanging\">50</text><text vector-effect=\"non-scaling-stroke\" x=\"5.320073e+02\" y=\"10\" dominant-baseline=\"hanging\" stroke=\"none\">60</text><text dominant-baseline=\"hanging\" stroke=\"none\" vector-effect=\"non-scaling-stroke\" x=\"6.177285e+02\" y=\"10\">70</text><text stroke=\"none\" vector-effect=\"non-scaling-stroke\" x=\"7.034497e+02\" y=\"10\" dominant-baseline=\"hanging\">80</text><text vector-effect=\"non-scaling-stroke\" x=\"7.891709e+02\" y=\"10\" dominant-baseline=\"hanging\" stroke=\"none\">90</text></g><g font-weight=\"bold\" dominant-baseline=\"baseline\" stroke-linejoin=\"round\" font-size=\"12px\" font-style=\"normal\" stroke=\"black\" text-anchor=\"middle\" transform=\"translate(70 250 )scale(1 1 )rotate(0 0 0 )\" stroke-linecap=\"round\" font-family=\"sans-serif\" fill=\"black\" stroke-width=\"2px\"><text dominant-baseline=\"baseline\" stroke=\"none\" vector-effect=\"non-scaling-stroke\" x=\"442\" y=\"-6\">Steps</text></g><g transform=\"translate(70 250 )scale(1 -1 )\" dominant-baseline=\"baseline\" fill=\"black\" font-family=\"sans-serif\" font-size=\"12px\" font-style=\"normal\" font-weight=\"bold\" stroke=\"black\" stroke-width=\"2px\" stroke-linecap=\"round\" stroke-linejoin=\"round\" text-anchor=\"middle\"><path vector-effect=\"non-scaling-stroke\" d=\"M0,9.005352e+01 L-6,9.005352e+01 \"/></g><g text-anchor=\"end\" font-family=\"sans-serif\" font-size=\"12px\" fill=\"black\" stroke=\"black\" stroke-width=\"2px\" stroke-linecap=\"round\" stroke-linejoin=\"round\" transform=\"translate(70 250 )scale(1 1 )\" font-weight=\"normal\" dominant-baseline=\"middle\" font-style=\"normal\"><text x=\"-10\" y=\"-9.005352e+01\" dominant-baseline=\"middle\" stroke=\"none\" vector-effect=\"non-scaling-stroke\">-0.000</text></g><g font-weight=\"normal\" font-size=\"12px\" stroke=\"gray\" stroke-width=\"0.5px\" font-family=\"sans-serif\" text-anchor=\"end\" transform=\"translate(70 250 )scale(1 -1 )\" dominant-baseline=\"middle\" font-style=\"normal\" fill=\"black\" stroke-linecap=\"round\" stroke-linejoin=\"round\"><path vector-effect=\"non-scaling-stroke\" d=\"M0,9.005352e+01 L884,9.005352e+01 \"/></g><g fill=\"none\" stroke-linecap=\"round\" font-style=\"normal\" stroke=\"black\" stroke-width=\"2px\" font-weight=\"normal\" dominant-baseline=\"middle\" stroke-linejoin=\"round\" font-family=\"sans-serif\" font-size=\"12px\" text-anchor=\"end\"><rect width=\"884\" height=\"180\" vector-effect=\"non-scaling-stroke\" x=\"70\" y=\"70\"/><g text-anchor=\"start\" dominant-baseline=\"hanging\" stroke-width=\"1px\" fill=\"hsl(90, 47%, 65%)\" stroke=\"hsl(90, 47%, 65%)\"><rect x=\"76\" y=\"286\" width=\"12\" height=\"12\" vector-effect=\"non-scaling-stroke\"/><g stroke=\"black\" font-weight=\"normal\" stroke-linecap=\"round\" stroke-linejoin=\"round\" font-family=\"sans-serif\" font-size=\"12px\" font-style=\"normal\" fill=\"black\"><text x=\"92\" y=\"286\" dominant-baseline=\"hanging\" stroke=\"none\" vector-effect=\"non-scaling-stroke\">Learned</text><g fill=\"hsl(301, 88%, 65%)\" stroke=\"hsl(301, 88%, 65%)\" stroke-width=\"1px\" text-anchor=\"start\" dominant-baseline=\"hanging\"><rect x=\"76\" y=\"304\" width=\"12\" height=\"12\" vector-effect=\"non-scaling-stroke\"/><g stroke-linejoin=\"round\" font-family=\"sans-serif\" font-size=\"12px\" font-style=\"normal\" fill=\"black\" stroke=\"black\" font-weight=\"normal\" stroke-linecap=\"round\"><text y=\"304\" dominant-baseline=\"hanging\" stroke=\"none\" vector-effect=\"non-scaling-stroke\" x=\"92\">Truth</text></g></g></g></g></g></svg>"
      ]
     },
     "metadata": {},
     "output_type": "display_data"
    },
    {
     "name": "stdout",
     "output_type": "stream",
     "text": [
      "Training (800 steps):  100% [\u001b[32m=\u001b[0m\u001b[32m=\u001b[0m\u001b[32m=\u001b[0m\u001b[32m=\u001b[0m\u001b[32m=\u001b[0m\u001b[32m=\u001b[0m\u001b[32m=\u001b[0m\u001b[32m=\u001b[0m\u001b[32m=\u001b[0m\u001b[32m=\u001b[0m\u001b[32m=\u001b[0m\u001b[32m=\u001b[0m\u001b[32m=\u001b[0m\u001b[32m=\u001b[0m\u001b[32m=\u001b[0m\u001b[32m=\u001b[0m\u001b[32m=\u001b[0m\u001b[32m=\u001b[0m\u001b[32m=\u001b[0m\u001b[32m=\u001b[0m\u001b[32m=\u001b[0m\u001b[32m=\u001b[0m\u001b[32m=\u001b[0m\u001b[32m=\u001b[0m\u001b[32m=\u001b[0m\u001b[32m=\u001b[0m\u001b[32m=\u001b[0m\u001b[32m=\u001b[0m\u001b[32m=\u001b[0m\u001b[32m=\u001b[0m\u001b[32m=\u001b[0m\u001b[32m=\u001b[0m\u001b[32m=\u001b[0m\u001b[32m=\u001b[0m\u001b[32m=\u001b[0m\u001b[32m=\u001b[0m\u001b[32m=\u001b[0m\u001b[32m=\u001b[0m\u001b[32m=\u001b[0m\u001b[32m=\u001b[0m] (1670 steps/s)\u001b[0m [step=799] [loss+=0.011] [~loss+=0.022] [~loss=0.022]        \n"
     ]
    }
   ],
   "source": [
    "import (\n",
    "    . \"github.com/gomlx/gomlx/graph\"\n",
    "    \"github.com/gomlx/gomlx/ml/context\"\n",
    "    \"github.com/gomlx/gomlx/ml/data\"\n",
    "    \"github.com/gomlx/gomlx/ml/train\"\n",
    ")\n",
    "\n",
    "var (\n",
    "\tflagNumSteps     = flag.Int(\"steps\", 1000, \"Number of gradient descent steps to perform\")\n",
    "\tflagLearningRate = flag.Float64(\"learning_rate\", 0.1, \"Initial learning rate.\")\n",
    ")\n",
    "\n",
    "func TrainInverseRealFFT() {\n",
    "    x, y := CalculateXY()\n",
    "    ctx := context.NewContext(manager)\n",
    "\tctx.SetParam(optimizers.LearningRateKey, *flagLearningRate)\n",
    "\n",
    "    modelFn := func(ctx *context.Context, spec any, inputs []*Node) []*Node {\n",
    "        g := inputs[0].Graph()\n",
    "        learnedXVar := ctx.VariableWithShape(\"learnedX\", x.Shape())\n",
    "        predictedY := RealFFT(learnedXVar.ValueGraph(g))\n",
    "        return []*Node{predictedY}\n",
    "    }\n",
    "\n",
    "    dataset, err := data.InMemoryFromData(manager, \"dataset\", []any{x}, []any{y})\n",
    "    if err != nil {\n",
    "        panic(err)\n",
    "    }\n",
    "    dataset.BatchSize(1, false).Infinite(true)\n",
    "\n",
    "    opt := optimizers.Adam().Done()\n",
    "    trainer := train.NewTrainer(\n",
    "        manager, ctx, modelFn,\n",
    "        losses.MeanAbsoluteError,\n",
    "        opt,\n",
    "        nil, nil) // trainMetrics, evalMetrics\n",
    "\n",
    "\tloop := train.NewLoop(trainer)\n",
    "\tcommandline.AttachProgressBar(loop) // Attaches a progress bar to the loop.\n",
    "\n",
    "    // Plot learnedX\n",
    "    displayId := gonbui.UniqueID()\n",
    "    gonbui.UpdateHTML(displayId, \"\")\n",
    "    train.EveryNSteps(loop, 10, \"plot\", 0, func(loop *train.Loop, metrics []tensor.Tensor) error {\n",
    "        learnedXVar := ctx.InspectVariable(context.RootScope, \"learnedX\")\n",
    "        learnedX := learnedXVar.Value()\n",
    "        Plot(displayId, 1024, 320, []tensor.Tensor{x, learnedX}, []string{\"Truth\", \"Learned\"})\n",
    "        return nil\n",
    "    })\n",
    "    \n",
    "\t// Loop for given number of steps.\n",
    "\t_, err = loop.RunSteps(dataset, *flagNumSteps)\n",
    "\tif err != nil {\n",
    "\t\tpanic(err)\n",
    "\t}\n",
    "\n",
    "}\n",
    "\n",
    "%% --steps=800 --learning_rate=0.01\n",
    "TrainInverseRealFFT()"
   ]
  }
 ],
 "metadata": {
  "kernelspec": {
   "display_name": "Go (gonb)",
   "language": "go",
   "name": "gonb"
  },
  "language_info": {
   "codemirror_mode": "",
   "file_extension": ".go",
   "mimetype": "",
   "name": "go",
   "nbconvert_exporter": "",
   "pygments_lexer": "",
   "version": "go1.22.1"
  }
 },
 "nbformat": 4,
 "nbformat_minor": 5
}
