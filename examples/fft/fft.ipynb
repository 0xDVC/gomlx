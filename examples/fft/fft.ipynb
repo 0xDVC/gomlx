{
 "cells": [
  {
   "cell_type": "markdown",
   "id": "89c9afa4-399c-4a64-ac27-dd1aeecbc8f3",
   "metadata": {},
   "source": [
    "# Fast-Fourier-Transformation Example\n",
    "\n",
    "## Machine-Learned Inverse FFT\n",
    "\n",
    "Let's start with a sinusoidal curve: that's the input (`x`) that we want to learn, given its FFT (`y`).\n",
    "The goal is to do an `InverseRealFFT` by gradient descent.\n",
    "\n",
    "For this problem the input (`x`) is real (`float32`) and label (`y`), the FFT, is complex (`complex64`)."
   ]
  },
  {
   "cell_type": "code",
   "execution_count": 1,
   "id": "2a73f9ca-19a5-44e8-96c1-c488ecf356c0",
   "metadata": {},
   "outputs": [
    {
     "name": "stdout",
     "output_type": "stream",
     "text": [
      "\t- Added replace rule for module \"github.com/gomlx/gomlx\" to local directory \"/home/janpf/Projects/gomlx\".\n"
     ]
    }
   ],
   "source": [
    "!*rm -f go.work && go work init && go work use . \"${HOME}/Projects/gomlx\"\n",
    "%goworkfix"
   ]
  },
  {
   "cell_type": "code",
   "execution_count": 2,
   "id": "e34bf9b0-a4ed-4afe-a52d-deccd7bd4620",
   "metadata": {},
   "outputs": [
    {
     "name": "stdout",
     "output_type": "stream",
     "text": [
      "x: shape=(Float32)[1 100]\n",
      "y: shape=(Complex64)[1 51]\n"
     ]
    },
    {
     "data": {
      "text/html": [
       "<svg viewbox=\"0 0 1024 320\" style=\"background-color:#f8f8f8\" preserveAspectRatio=\"xMidYMid meet\" xmlns=\"http://www.w3.org/2000/svg\" width=\"1024\" height=\"320\"><defs><marker markerHeight=\"2%\" id=\"circle\" viewBox=\"0 0 10 10 \" refX=\"5\" refY=\"5\" markerUnits=\"userSpaceOnUse\" markerWidth=\"2%\"><circle cx=\"5\" cy=\"5\" r=\"3\" fill=\"none\" stroke=\"black\"/></marker><marker id=\"filled-circle\" viewBox=\"0 0 10 10 \" refX=\"5\" refY=\"5\" markerUnits=\"userSpaceOnUse\" markerWidth=\"2%\" markerHeight=\"2%\"><circle cy=\"5\" r=\"3\" fill=\"black\" stroke=\"none\" cx=\"5\"/></marker><marker refX=\"5\" refY=\"5\" markerUnits=\"userSpaceOnUse\" markerWidth=\"2%\" markerHeight=\"2%\" id=\"square\" viewBox=\"0 0 10 10 \"><rect x=\"2\" y=\"2\" width=\"6\" height=\"6\" fill=\"none\" stroke=\"black\"/></marker><marker viewBox=\"0 0 10 10 \" refX=\"5\" refY=\"5\" markerUnits=\"userSpaceOnUse\" markerWidth=\"2%\" markerHeight=\"2%\" id=\"filled-square\"><rect x=\"2\" y=\"2\" width=\"6\" height=\"6\" fill=\"black\" stroke=\"none\"/></marker></defs><g marker-end=\"url(#square)\" stroke=\"hsl(90, 47%, 65%)\" stroke-width=\"2px\" stroke-linejoin=\"round\" marker-start=\"url(#square)\" fill=\"none\" stroke-linecap=\"round\" marker-mid=\"url(#square)\" transform=\"translate(70 250 )scale(1 -1 )\"><path vector-effect=\"non-scaling-stroke\" d=\"M1.768000e+01,9.000000e+01 L2.625212e+01,1.008502e+02 L3.482424e+01,1.115293e+02 L4.339636e+01,1.218689e+02 L5.196848e+01,1.317058e+02 L6.054061e+01,1.408851e+02 L6.911273e+01,1.492618e+02 L7.768485e+01,1.567040e+02 L8.625697e+01,1.630942e+02 L9.482909e+01,1.683316e+02 L1.034012e+02,1.723338e+02 L1.119733e+02,1.750374e+02 L1.205455e+02,1.764000e+02 L1.291176e+02,1.764000e+02 L1.376897e+02,1.750374e+02 L1.462618e+02,1.723337e+02 L1.548339e+02,1.683316e+02 L1.634061e+02,1.630942e+02 L1.719782e+02,1.567040e+02 L1.805503e+02,1.492618e+02 L1.891224e+02,1.408851e+02 L1.976945e+02,1.317058e+02 L2.062667e+02,1.218688e+02 L2.148388e+02,1.115293e+02 L2.234109e+02,1.008502e+02 L2.319830e+02,9.000000e+01 L2.405552e+02,7.914979e+01 L2.491273e+02,6.847070e+01 L2.576994e+02,5.813114e+01 L2.662715e+02,4.829417e+01 L2.748436e+02,3.911494e+01 L2.834158e+02,3.073819e+01 L2.919879e+02,2.329603e+01 L3.005600e+02,1.690582e+01 L3.091321e+02,1.166837e+01 L3.177042e+02,7.666243e+00 L3.262764e+02,4.962576e+00 L3.348485e+02,3.600005e+00 L3.434206e+02,3.600005e+00 L3.519927e+02,4.962587e+00 L3.605648e+02,7.666258e+00 L3.691370e+02,1.166838e+01 L3.777091e+02,1.690585e+01 L3.862812e+02,2.329605e+01 L3.948533e+02,3.073821e+01 L4.034255e+02,3.911497e+01 L4.119976e+02,4.829422e+01 L4.205697e+02,5.813120e+01 L4.291418e+02,6.847076e+01 L4.377139e+02,7.914981e+01 L4.462861e+02,9.000002e+01 L4.548582e+02,1.008502e+02 L4.634303e+02,1.115293e+02 L4.720024e+02,1.218689e+02 L4.805745e+02,1.317058e+02 L4.891467e+02,1.408851e+02 L4.977188e+02,1.492618e+02 L5.062909e+02,1.567040e+02 L5.148630e+02,1.630942e+02 L5.234352e+02,1.683316e+02 L5.320073e+02,1.723338e+02 L5.405794e+02,1.750374e+02 L5.491515e+02,1.764000e+02 L5.577236e+02,1.764000e+02 L5.662958e+02,1.750374e+02 L5.748679e+02,1.723337e+02 L5.834400e+02,1.683316e+02 L5.920121e+02,1.630941e+02 L6.005842e+02,1.567039e+02 L6.091564e+02,1.492618e+02 L6.177285e+02,1.408850e+02 L6.263006e+02,1.317058e+02 L6.348727e+02,1.218688e+02 L6.434448e+02,1.115292e+02 L6.520170e+02,1.008501e+02 L6.605891e+02,9.000000e+01 L6.691612e+02,7.914979e+01 L6.777333e+02,6.847070e+01 L6.863055e+02,5.813114e+01 L6.948776e+02,4.829417e+01 L7.034497e+02,3.911493e+01 L7.120218e+02,3.073817e+01 L7.205939e+02,2.329602e+01 L7.291661e+02,1.690582e+01 L7.377382e+02,1.166836e+01 L7.463103e+02,7.666243e+00 L7.548824e+02,4.962576e+00 L7.634545e+02,3.600000e+00 L7.720267e+02,3.600010e+00 L7.805988e+02,4.962597e+00 L7.891709e+02,7.666274e+00 L7.977430e+02,1.166841e+01 L8.063152e+02,1.690588e+01 L8.148873e+02,2.329609e+01 L8.234594e+02,3.073825e+01 L8.320315e+02,3.911502e+01 L8.406036e+02,4.829427e+01 L8.491758e+02,5.813117e+01 L8.577479e+02,6.847074e+01 L8.663200e+02,7.914983e+01 \"/></g><g stroke=\"black\" stroke-linecap=\"round\" transform=\"translate(70 250 )scale(1 -1 )\" stroke-width=\"2px\" stroke-linejoin=\"round\" fill=\"none\"><path vector-effect=\"non-scaling-stroke\" d=\"M1.768000e+01,0 L1.768000e+01,-6 M1.034012e+02,0 L1.034012e+02,-6 M1.891224e+02,0 L1.891224e+02,-6 M2.748436e+02,0 L2.748436e+02,-6 M3.605648e+02,0 L3.605648e+02,-6 M4.462861e+02,0 L4.462861e+02,-6 M5.320073e+02,0 L5.320073e+02,-6 M6.177285e+02,0 L6.177285e+02,-6 M7.034497e+02,0 L7.034497e+02,-6 M7.891709e+02,0 L7.891709e+02,-6 \"/></g><g text-anchor=\"middle\" stroke=\"black\" font-size=\"12px\" stroke-linejoin=\"round\" font-family=\"sans-serif\" font-style=\"normal\" font-weight=\"normal\" fill=\"black\" dominant-baseline=\"hanging\" stroke-width=\"2px\" stroke-linecap=\"round\" transform=\"translate(70 250 )scale(1 1 )\"><text y=\"10\" dominant-baseline=\"hanging\" stroke=\"none\" vector-effect=\"non-scaling-stroke\" x=\"1.768000e+01\">0</text><text stroke=\"none\" vector-effect=\"non-scaling-stroke\" x=\"1.034012e+02\" y=\"10\" dominant-baseline=\"hanging\">10</text><text vector-effect=\"non-scaling-stroke\" x=\"1.891224e+02\" y=\"10\" dominant-baseline=\"hanging\" stroke=\"none\">20</text><text stroke=\"none\" vector-effect=\"non-scaling-stroke\" x=\"2.748436e+02\" y=\"10\" dominant-baseline=\"hanging\">30</text><text vector-effect=\"non-scaling-stroke\" x=\"3.605648e+02\" y=\"10\" dominant-baseline=\"hanging\" stroke=\"none\">40</text><text x=\"4.462861e+02\" y=\"10\" dominant-baseline=\"hanging\" stroke=\"none\" vector-effect=\"non-scaling-stroke\">50</text><text vector-effect=\"non-scaling-stroke\" x=\"5.320073e+02\" y=\"10\" dominant-baseline=\"hanging\" stroke=\"none\">60</text><text dominant-baseline=\"hanging\" stroke=\"none\" vector-effect=\"non-scaling-stroke\" x=\"6.177285e+02\" y=\"10\">70</text><text vector-effect=\"non-scaling-stroke\" x=\"7.034497e+02\" y=\"10\" dominant-baseline=\"hanging\" stroke=\"none\">80</text><text dominant-baseline=\"hanging\" stroke=\"none\" vector-effect=\"non-scaling-stroke\" x=\"7.891709e+02\" y=\"10\">90</text></g><g font-family=\"sans-serif\" font-style=\"normal\" font-weight=\"bold\" stroke=\"black\" dominant-baseline=\"baseline\" stroke-linecap=\"round\" transform=\"translate(70 250 )scale(1 1 )rotate(0 0 0 )\" stroke-width=\"2px\" stroke-linejoin=\"round\" font-size=\"12px\" text-anchor=\"middle\" fill=\"black\"><text stroke=\"none\" vector-effect=\"non-scaling-stroke\" x=\"442\" y=\"-6\" dominant-baseline=\"baseline\">Steps</text></g><g font-style=\"normal\" font-weight=\"bold\" stroke-linejoin=\"round\" font-size=\"12px\" font-family=\"sans-serif\" fill=\"black\" stroke=\"black\" stroke-linecap=\"round\" transform=\"translate(70 250 )scale(1 -1 )\" dominant-baseline=\"baseline\" stroke-width=\"2px\" text-anchor=\"middle\"><path vector-effect=\"non-scaling-stroke\" d=\"M0,9.000000e+01 L-6,9.000000e+01 \"/></g><g fill=\"black\" font-size=\"12px\" stroke-width=\"2px\" font-family=\"sans-serif\" font-style=\"normal\" text-anchor=\"end\" dominant-baseline=\"middle\" stroke-linejoin=\"round\" stroke-linecap=\"round\" transform=\"translate(70 250 )scale(1 1 )\" font-weight=\"normal\" stroke=\"black\"><text stroke=\"none\" vector-effect=\"non-scaling-stroke\" x=\"-10\" y=\"-9.000000e+01\" dominant-baseline=\"middle\">-0.000</text></g><g transform=\"translate(70 250 )scale(1 -1 )\" font-weight=\"normal\" font-style=\"normal\" text-anchor=\"end\" fill=\"black\" font-size=\"12px\" stroke-width=\"0.5px\" stroke-linejoin=\"round\" stroke-linecap=\"round\" font-family=\"sans-serif\" stroke=\"gray\" dominant-baseline=\"middle\"><path d=\"M0,9.000000e+01 L884,9.000000e+01 \" vector-effect=\"non-scaling-stroke\"/></g><g stroke-linejoin=\"round\" font-size=\"12px\" fill=\"none\" stroke=\"black\" dominant-baseline=\"middle\" stroke-width=\"2px\" font-style=\"normal\" font-weight=\"normal\" text-anchor=\"end\" stroke-linecap=\"round\" font-family=\"sans-serif\"><rect x=\"70\" y=\"70\" width=\"884\" height=\"180\" vector-effect=\"non-scaling-stroke\"/></g></svg>"
      ]
     },
     "metadata": {},
     "output_type": "display_data"
    }
   ],
   "source": [
    "import (\n",
    "    \"github.com/gomlx/gopjrt/dtypes\"\n",
    "    . \"github.com/gomlx/gomlx/graph\"\n",
    "    . \"github.com/gomlx/exceptions\"\n",
    "    \"github.com/gomlx/gomlx/types/tensors\"\n",
    "    \"github.com/gomlx/gomlx/types/xslices\"\n",
    "    mg \"github.com/gomlx/gomlx/examples/notebook/gonb/margaid\"\n",
    "    \"github.com/janpfeifer/gonb/gonbui\"\n",
    "\n",
    "    _ \"github.com/gomlx/gomlx/backends/xla\"\n",
    ")\n",
    "\n",
    "// manager always created at initialization.\n",
    "var backend = backends.New()\n",
    "\n",
    "const (\n",
    "    NumPoints = 100\n",
    "    Frequency = 2.0  // Number of curves in samples.\n",
    "    RealDType = dtypes.Float32\n",
    "    ComplexDType = dtypes.Complex64\n",
    ")\n",
    "\n",
    "// CalculateXY returns (x, y) of our problem, where y is a sinusoidal curve and x is its FFT.\n",
    "func CalculateXY() (x, y *tensors.Tensor) {\n",
    "    e := NewExec(backend, func (g *Graph) (x, y *Node) {\n",
    "        x = Iota(g, shapes.Make(RealDType, 1, NumPoints), 1)\n",
    "        x = MulScalar(x, 2.0*math.Pi*Frequency/float64(NumPoints))\n",
    "        x = Sin(x)\n",
    "        y = RealFFT(x)\n",
    "        return\n",
    "    })\n",
    "    res := e.Call()\n",
    "    return res[0], res[1]\n",
    "}\n",
    "\n",
    "func Plot(displayId string, width, height int, coordinates []*tensors.Tensor, names []string) {\n",
    "    plts := mg.New(width, height)\n",
    "    for ii, t := range coordinates {\n",
    "        var values []float64\n",
    "        switch t.DType() {\n",
    "        case dtypes.Float64:\n",
    "            values = tensors.CopyFlatData[float64](t)\n",
    "        case dtypes.Float32:\n",
    "            values32 := tensors.CopyFlatData[float32](t)\n",
    "            values = xslices.Map(values32, func (v float32) float64 { return float64(v) })\n",
    "        default:\n",
    "            Panicf(\"only float32 and float64 tensor dtypes are accepted by Plot, got t.shape=%s\", t.Shape())\n",
    "        }\n",
    "        var name string\n",
    "        if len(names) > ii {\n",
    "            name = names[ii]\n",
    "        }\n",
    "        plts.AddValues(name, \"\", values)\n",
    "    }\n",
    "    if displayId == \"\" {\n",
    "        plts.Plot()\n",
    "    } else {\n",
    "        gonbui.UpdateHTML(displayId, plts.PlotToHTML())\n",
    "    }\n",
    "}\n",
    "\n",
    "%%\n",
    "x, y := CalculateXY()\n",
    "fmt.Printf(\"x: shape=%s\\n\", x.Shape())\n",
    "fmt.Printf(\"y: shape=%s\\n\", y.Shape())\n",
    "Plot(\"\", 1024, 320, []*tensors.Tensor{x}, nil)"
   ]
  },
  {
   "cell_type": "markdown",
   "id": "749d6fbd-c7ad-4bec-80d4-8a2dd1dd1531",
   "metadata": {},
   "source": [
    "### Train the model\n",
    "\n",
    "If you run it, you'll see the plot of the \"learnedX\" adjusting towards \"x\", the original sinusoidal curve."
   ]
  },
  {
   "cell_type": "code",
   "execution_count": 3,
   "id": "555b0279-e565-4857-a422-6ed214305408",
   "metadata": {},
   "outputs": [
    {
     "data": {
      "text/html": [
       "<svg height=\"356\" viewbox=\"0 0 1024 320\" style=\"background-color:#f8f8f8\" preserveAspectRatio=\"xMidYMid meet\" xmlns=\"http://www.w3.org/2000/svg\" width=\"1024\"><defs><marker markerWidth=\"2%\" markerHeight=\"2%\" id=\"circle\" viewBox=\"0 0 10 10 \" refX=\"5\" refY=\"5\" markerUnits=\"userSpaceOnUse\"><circle cy=\"5\" r=\"3\" fill=\"none\" stroke=\"black\" cx=\"5\"/></marker><marker viewBox=\"0 0 10 10 \" refX=\"5\" refY=\"5\" markerUnits=\"userSpaceOnUse\" markerWidth=\"2%\" markerHeight=\"2%\" id=\"filled-circle\"><circle fill=\"black\" stroke=\"none\" cx=\"5\" cy=\"5\" r=\"3\"/></marker><marker markerHeight=\"2%\" id=\"square\" viewBox=\"0 0 10 10 \" refX=\"5\" refY=\"5\" markerUnits=\"userSpaceOnUse\" markerWidth=\"2%\"><rect y=\"2\" width=\"6\" height=\"6\" fill=\"none\" stroke=\"black\" x=\"2\"/></marker><marker markerUnits=\"userSpaceOnUse\" markerWidth=\"2%\" markerHeight=\"2%\" id=\"filled-square\" viewBox=\"0 0 10 10 \" refX=\"5\" refY=\"5\"><rect stroke=\"none\" x=\"2\" y=\"2\" width=\"6\" height=\"6\" fill=\"black\"/></marker></defs><g marker-end=\"url(#square)\" fill=\"none\" marker-start=\"url(#square)\" marker-mid=\"url(#square)\" stroke-linejoin=\"round\" stroke=\"hsl(90, 47%, 65%)\" stroke-width=\"2px\" stroke-linecap=\"round\" transform=\"translate(70 250 )scale(1 -1 )\"><path vector-effect=\"non-scaling-stroke\" d=\"M1.768000e+01,8.999408e+01 L2.625212e+01,1.006324e+02 L3.482424e+01,1.114429e+02 L4.339636e+01,1.217591e+02 L5.196848e+01,1.317401e+02 L6.054061e+01,1.408296e+02 L6.911273e+01,1.490676e+02 L7.768485e+01,1.564052e+02 L8.625697e+01,1.628939e+02 L9.482909e+01,1.681826e+02 L1.034012e+02,1.720601e+02 L1.119733e+02,1.747557e+02 L1.205455e+02,1.763104e+02 L1.291176e+02,1.761916e+02 L1.376897e+02,1.749306e+02 L1.462618e+02,1.721935e+02 L1.548339e+02,1.682005e+02 L1.634061e+02,1.629267e+02 L1.719782e+02,1.565232e+02 L1.805503e+02,1.491594e+02 L1.891224e+02,1.407652e+02 L1.976945e+02,1.316201e+02 L2.062667e+02,1.220323e+02 L2.148388e+02,1.115560e+02 L2.234109e+02,1.010858e+02 L2.319830e+02,9.010221e+01 L2.405552e+02,7.914996e+01 L2.491273e+02,6.843484e+01 L2.576994e+02,5.819714e+01 L2.662715e+02,4.845352e+01 L2.748436e+02,3.906075e+01 L2.834158e+02,3.066705e+01 L2.919879e+02,2.356296e+01 L3.005600e+02,1.698352e+01 L3.091321e+02,1.179975e+01 L3.177042e+02,7.549653e+00 L3.262764e+02,5.289318e+00 L3.348485e+02,3.770771e+00 L3.434206e+02,3.600000e+00 L3.519927e+02,5.283869e+00 L3.605648e+02,7.768969e+00 L3.691370e+02,1.186453e+01 L3.777091e+02,1.725516e+01 L3.862812e+02,2.343759e+01 L3.948533e+02,3.095035e+01 L4.034255e+02,3.917177e+01 L4.119976e+02,4.847085e+01 L4.205697e+02,5.826066e+01 L4.291418e+02,6.847814e+01 L4.377139e+02,7.914791e+01 L4.462861e+02,8.992999e+01 L4.548582e+02,1.006934e+02 L4.634303e+02,1.113845e+02 L4.720024e+02,1.217935e+02 L4.805745e+02,1.315418e+02 L4.891467e+02,1.405904e+02 L4.977188e+02,1.489791e+02 L5.062909e+02,1.565298e+02 L5.148630e+02,1.628629e+02 L5.234352e+02,1.681056e+02 L5.320073e+02,1.719722e+02 L5.405794e+02,1.747173e+02 L5.491515e+02,1.764000e+02 L5.577236e+02,1.761338e+02 L5.662958e+02,1.748204e+02 L5.748679e+02,1.722865e+02 L5.834400e+02,1.683800e+02 L5.920121e+02,1.630900e+02 L6.005842e+02,1.563718e+02 L6.091564e+02,1.490798e+02 L6.177285e+02,1.407051e+02 L6.263006e+02,1.315206e+02 L6.348727e+02,1.219027e+02 L6.434448e+02,1.114152e+02 L6.520170e+02,1.010800e+02 L6.605891e+02,8.987170e+01 L6.691612e+02,7.927377e+01 L6.777333e+02,6.838987e+01 L6.863055e+02,5.808632e+01 L6.948776e+02,4.848491e+01 L7.034497e+02,3.898492e+01 L7.120218e+02,3.051974e+01 L7.205939e+02,2.360547e+01 L7.291661e+02,1.693577e+01 L7.377382e+02,1.184585e+01 L7.463103e+02,7.797864e+00 L7.548824e+02,5.130147e+00 L7.634545e+02,3.700341e+00 L7.720267e+02,3.734804e+00 L7.805988e+02,4.980813e+00 L7.891709e+02,7.677853e+00 L7.977430e+02,1.173978e+01 L8.063152e+02,1.713445e+01 L8.148873e+02,2.342989e+01 L8.234594e+02,3.067704e+01 L8.320315e+02,3.932203e+01 L8.406036e+02,4.844448e+01 L8.491758e+02,5.809368e+01 L8.577479e+02,6.860087e+01 L8.663200e+02,7.930597e+01 \"/></g><g fill=\"none\" marker-mid=\"url(#square)\" stroke=\"hsl(301, 88%, 65%)\" stroke-linecap=\"round\" stroke-linejoin=\"round\" marker-end=\"url(#square)\" transform=\"translate(70 250 )scale(1 -1 )\" marker-start=\"url(#square)\" stroke-width=\"2px\"><path d=\"M1.768000e+01,8.998663e+01 L2.625212e+01,1.008172e+02 L3.482424e+01,1.114770e+02 L4.339636e+01,1.217978e+02 L5.196848e+01,1.316170e+02 L6.054061e+01,1.407796e+02 L6.911273e+01,1.491413e+02 L7.768485e+01,1.565700e+02 L8.625697e+01,1.629486e+02 L9.482909e+01,1.681766e+02 L1.034012e+02,1.721715e+02 L1.119733e+02,1.748702e+02 L1.205455e+02,1.762304e+02 L1.291176e+02,1.762304e+02 L1.376897e+02,1.748702e+02 L1.462618e+02,1.721715e+02 L1.548339e+02,1.681766e+02 L1.634061e+02,1.629486e+02 L1.719782e+02,1.565699e+02 L1.805503e+02,1.491413e+02 L1.891224e+02,1.407796e+02 L1.976945e+02,1.316170e+02 L2.062667e+02,1.217978e+02 L2.148388e+02,1.114770e+02 L2.234109e+02,1.008172e+02 L2.319830e+02,8.998662e+01 L2.405552e+02,7.915604e+01 L2.491273e+02,6.849626e+01 L2.576994e+02,5.817540e+01 L2.662715e+02,4.835622e+01 L2.748436e+02,3.919360e+01 L2.834158e+02,3.083199e+01 L2.919879e+02,2.340329e+01 L3.005600e+02,1.702465e+01 L3.091321e+02,1.179666e+01 L3.177042e+02,7.801779e+00 L3.262764e+02,5.103002e+00 L3.348485e+02,3.742896e+00 L3.434206e+02,3.742896e+00 L3.519927e+02,5.103013e+00 L3.605648e+02,7.801794e+00 L3.691370e+02,1.179668e+01 L3.777091e+02,1.702467e+01 L3.862812e+02,2.340332e+01 L3.948533e+02,3.083202e+01 L4.034255e+02,3.919363e+01 L4.119976e+02,4.835628e+01 L4.205697e+02,5.817546e+01 L4.291418e+02,6.849632e+01 L4.377139e+02,7.915606e+01 L4.462861e+02,8.998664e+01 L4.548582e+02,1.008172e+02 L4.634303e+02,1.114770e+02 L4.720024e+02,1.217979e+02 L4.805745e+02,1.316170e+02 L4.891467e+02,1.407797e+02 L4.977188e+02,1.491413e+02 L5.062909e+02,1.565700e+02 L5.148630e+02,1.629486e+02 L5.234352e+02,1.681766e+02 L5.320073e+02,1.721715e+02 L5.405794e+02,1.748702e+02 L5.491515e+02,1.762304e+02 L5.577236e+02,1.762304e+02 L5.662958e+02,1.748702e+02 L5.748679e+02,1.721714e+02 L5.834400e+02,1.681766e+02 L5.920121e+02,1.629486e+02 L6.005842e+02,1.565699e+02 L6.091564e+02,1.491412e+02 L6.177285e+02,1.407796e+02 L6.263006e+02,1.316170e+02 L6.348727e+02,1.217978e+02 L6.434448e+02,1.114769e+02 L6.520170e+02,1.008171e+02 L6.605891e+02,8.998662e+01 L6.691612e+02,7.915604e+01 L6.777333e+02,6.849627e+01 L6.863055e+02,5.817540e+01 L6.948776e+02,4.835623e+01 L7.034497e+02,3.919358e+01 L7.120218e+02,3.083198e+01 L7.205939e+02,2.340328e+01 L7.291661e+02,1.702464e+01 L7.377382e+02,1.179665e+01 L7.463103e+02,7.801779e+00 L7.548824e+02,5.103002e+00 L7.634545e+02,3.742890e+00 L7.720267e+02,3.742901e+00 L7.805988e+02,5.103023e+00 L7.891709e+02,7.801810e+00 L7.977430e+02,1.179671e+01 L8.063152e+02,1.702470e+01 L8.148873e+02,2.340335e+01 L8.234594e+02,3.083206e+01 L8.320315e+02,3.919368e+01 L8.406036e+02,4.835633e+01 L8.491758e+02,5.817544e+01 L8.577479e+02,6.849630e+01 L8.663200e+02,7.915607e+01 \" vector-effect=\"non-scaling-stroke\"/></g><g stroke-linejoin=\"round\" transform=\"translate(70 250 )scale(1 -1 )\" fill=\"none\" stroke=\"black\" stroke-width=\"2px\" stroke-linecap=\"round\"><path vector-effect=\"non-scaling-stroke\" d=\"M1.768000e+01,0 L1.768000e+01,-6 M1.034012e+02,0 L1.034012e+02,-6 M1.891224e+02,0 L1.891224e+02,-6 M2.748436e+02,0 L2.748436e+02,-6 M3.605648e+02,0 L3.605648e+02,-6 M4.462861e+02,0 L4.462861e+02,-6 M5.320073e+02,0 L5.320073e+02,-6 M6.177285e+02,0 L6.177285e+02,-6 M7.034497e+02,0 L7.034497e+02,-6 M7.891709e+02,0 L7.891709e+02,-6 \"/></g><g stroke-linejoin=\"round\" font-family=\"sans-serif\" fill=\"black\" font-weight=\"normal\" stroke=\"black\" stroke-width=\"2px\" stroke-linecap=\"round\" font-style=\"normal\" transform=\"translate(70 250 )scale(1 1 )\" font-size=\"12px\" text-anchor=\"middle\" dominant-baseline=\"hanging\"><text stroke=\"none\" vector-effect=\"non-scaling-stroke\" x=\"1.768000e+01\" y=\"10\" dominant-baseline=\"hanging\">0</text><text dominant-baseline=\"hanging\" stroke=\"none\" vector-effect=\"non-scaling-stroke\" x=\"1.034012e+02\" y=\"10\">10</text><text dominant-baseline=\"hanging\" stroke=\"none\" vector-effect=\"non-scaling-stroke\" x=\"1.891224e+02\" y=\"10\">20</text><text stroke=\"none\" vector-effect=\"non-scaling-stroke\" x=\"2.748436e+02\" y=\"10\" dominant-baseline=\"hanging\">30</text><text x=\"3.605648e+02\" y=\"10\" dominant-baseline=\"hanging\" stroke=\"none\" vector-effect=\"non-scaling-stroke\">40</text><text x=\"4.462861e+02\" y=\"10\" dominant-baseline=\"hanging\" stroke=\"none\" vector-effect=\"non-scaling-stroke\">50</text><text x=\"5.320073e+02\" y=\"10\" dominant-baseline=\"hanging\" stroke=\"none\" vector-effect=\"non-scaling-stroke\">60</text><text dominant-baseline=\"hanging\" stroke=\"none\" vector-effect=\"non-scaling-stroke\" x=\"6.177285e+02\" y=\"10\">70</text><text vector-effect=\"non-scaling-stroke\" x=\"7.034497e+02\" y=\"10\" dominant-baseline=\"hanging\" stroke=\"none\">80</text><text x=\"7.891709e+02\" y=\"10\" dominant-baseline=\"hanging\" stroke=\"none\" vector-effect=\"non-scaling-stroke\">90</text></g><g stroke=\"black\" stroke-linecap=\"round\" font-family=\"sans-serif\" font-style=\"normal\" text-anchor=\"middle\" dominant-baseline=\"baseline\" fill=\"black\" stroke-width=\"2px\" stroke-linejoin=\"round\" transform=\"translate(70 250 )scale(1 1 )rotate(0 0 0 )\" font-size=\"12px\" font-weight=\"bold\"><text vector-effect=\"non-scaling-stroke\" x=\"442\" y=\"-6\" dominant-baseline=\"baseline\" stroke=\"none\">Steps</text></g><g stroke-width=\"2px\" stroke-linecap=\"round\" stroke-linejoin=\"round\" fill=\"black\" dominant-baseline=\"baseline\" font-weight=\"bold\" font-style=\"normal\" stroke=\"black\" transform=\"translate(70 250 )scale(1 -1 )\" font-family=\"sans-serif\" font-size=\"12px\" text-anchor=\"middle\"><path vector-effect=\"non-scaling-stroke\" d=\"M0,8.998663e+01 L-6,8.998663e+01 \"/></g><g fill=\"black\" font-family=\"sans-serif\" font-style=\"normal\" stroke=\"black\" stroke-width=\"2px\" stroke-linecap=\"round\" font-weight=\"normal\" font-size=\"12px\" stroke-linejoin=\"round\" transform=\"translate(70 250 )scale(1 1 )\" text-anchor=\"end\" dominant-baseline=\"middle\"><text vector-effect=\"non-scaling-stroke\" x=\"-10\" y=\"-8.998663e+01\" dominant-baseline=\"middle\" stroke=\"none\">-0.000</text></g><g font-weight=\"normal\" stroke-linejoin=\"round\" stroke=\"gray\" stroke-width=\"0.5px\" dominant-baseline=\"middle\" fill=\"black\" stroke-linecap=\"round\" transform=\"translate(70 250 )scale(1 -1 )\" font-family=\"sans-serif\" font-size=\"12px\" font-style=\"normal\" text-anchor=\"end\"><path vector-effect=\"non-scaling-stroke\" d=\"M0,8.998663e+01 L884,8.998663e+01 \"/></g><g fill=\"none\" font-weight=\"normal\" stroke-linejoin=\"round\" font-size=\"12px\" font-style=\"normal\" stroke=\"black\" text-anchor=\"end\" font-family=\"sans-serif\" stroke-width=\"2px\" stroke-linecap=\"round\" dominant-baseline=\"middle\"><rect y=\"70\" width=\"884\" height=\"180\" vector-effect=\"non-scaling-stroke\" x=\"70\"/><g text-anchor=\"start\" dominant-baseline=\"hanging\" fill=\"hsl(90, 47%, 65%)\" stroke=\"hsl(90, 47%, 65%)\" stroke-width=\"1px\"><rect x=\"76\" y=\"286\" width=\"12\" height=\"12\" vector-effect=\"non-scaling-stroke\"/><g font-weight=\"normal\" font-style=\"normal\" stroke=\"black\" stroke-linecap=\"round\" stroke-linejoin=\"round\" font-family=\"sans-serif\" font-size=\"12px\" fill=\"black\"><text y=\"286\" dominant-baseline=\"hanging\" stroke=\"none\" vector-effect=\"non-scaling-stroke\" x=\"92\">Learned</text><g fill=\"hsl(301, 88%, 65%)\" stroke=\"hsl(301, 88%, 65%)\" stroke-width=\"1px\" text-anchor=\"start\" dominant-baseline=\"hanging\"><rect y=\"304\" width=\"12\" height=\"12\" vector-effect=\"non-scaling-stroke\" x=\"76\"/><g font-family=\"sans-serif\" font-size=\"12px\" font-style=\"normal\" stroke=\"black\" stroke-linecap=\"round\" stroke-linejoin=\"round\" fill=\"black\" font-weight=\"normal\"><text vector-effect=\"non-scaling-stroke\" x=\"92\" y=\"304\" dominant-baseline=\"hanging\" stroke=\"none\">Truth</text></g></g></g></g></g></svg>"
      ]
     },
     "metadata": {},
     "output_type": "display_data"
    },
    {
     "name": "stdout",
     "output_type": "stream",
     "text": [
      "Training (800 steps):  100% [\u001b[32m=\u001b[0m\u001b[32m=\u001b[0m\u001b[32m=\u001b[0m\u001b[32m=\u001b[0m\u001b[32m=\u001b[0m\u001b[32m=\u001b[0m\u001b[32m=\u001b[0m\u001b[32m=\u001b[0m\u001b[32m=\u001b[0m\u001b[32m=\u001b[0m\u001b[32m=\u001b[0m\u001b[32m=\u001b[0m\u001b[32m=\u001b[0m\u001b[32m=\u001b[0m\u001b[32m=\u001b[0m\u001b[32m=\u001b[0m\u001b[32m=\u001b[0m\u001b[32m=\u001b[0m\u001b[32m=\u001b[0m\u001b[32m=\u001b[0m\u001b[32m=\u001b[0m\u001b[32m=\u001b[0m\u001b[32m=\u001b[0m\u001b[32m=\u001b[0m\u001b[32m=\u001b[0m\u001b[32m=\u001b[0m\u001b[32m=\u001b[0m\u001b[32m=\u001b[0m\u001b[32m=\u001b[0m\u001b[32m=\u001b[0m\u001b[32m=\u001b[0m\u001b[32m=\u001b[0m\u001b[32m=\u001b[0m\u001b[32m=\u001b[0m\u001b[32m=\u001b[0m\u001b[32m=\u001b[0m\u001b[32m=\u001b[0m\u001b[32m=\u001b[0m\u001b[32m=\u001b[0m\u001b[32m=\u001b[0m] (1817 steps/s)\u001b[0m [step=799] [loss+=0.012] [~loss+=0.022] [~loss=0.022]        \n"
     ]
    }
   ],
   "source": [
    "import (\n",
    "    . \"github.com/gomlx/gomlx/graph\"\n",
    "    \"github.com/gomlx/gomlx/ml/context\"\n",
    "    \"github.com/gomlx/gomlx/ml/data\"\n",
    "    \"github.com/gomlx/gomlx/ml/train\"\n",
    ")\n",
    "\n",
    "var (\n",
    "\tflagNumSteps     = flag.Int(\"steps\", 1000, \"Number of gradient descent steps to perform\")\n",
    "\tflagLearningRate = flag.Float64(\"learning_rate\", 0.1, \"Initial learning rate.\")\n",
    ")\n",
    "\n",
    "func TrainInverseRealFFT() {\n",
    "    x, y := CalculateXY()\n",
    "    ctx := context.New()\n",
    "\tctx.SetParam(optimizers.LearningRateKey, *flagLearningRate)\n",
    "\n",
    "    modelFn := func(ctx *context.Context, spec any, inputs []*Node) []*Node {\n",
    "        g := inputs[0].Graph()\n",
    "        learnedXVar := ctx.VariableWithShape(\"learnedX\", x.Shape())\n",
    "        predictedY := RealFFT(learnedXVar.ValueGraph(g))\n",
    "        return []*Node{predictedY}\n",
    "    }\n",
    "\n",
    "    dataset, err := data.InMemoryFromData(backend, \"dataset\", []any{x}, []any{y})\n",
    "    if err != nil {\n",
    "        panic(err)\n",
    "    }\n",
    "    dataset.BatchSize(1, false).Infinite(true)\n",
    "\n",
    "    opt := optimizers.Adam().Done()\n",
    "    trainer := train.NewTrainer(\n",
    "        backend, ctx, modelFn,\n",
    "        losses.MeanAbsoluteError,\n",
    "        opt,\n",
    "        nil, nil) // trainMetrics, evalMetrics\n",
    "\n",
    "\tloop := train.NewLoop(trainer)\n",
    "\tcommandline.AttachProgressBar(loop) // Attaches a progress bar to the loop.\n",
    "\n",
    "    // Plot learnedX\n",
    "    displayId := gonbui.UniqueID()\n",
    "    gonbui.UpdateHTML(displayId, \"\")\n",
    "    train.EveryNSteps(loop, 10, \"plot\", 0, func(loop *train.Loop, metrics []*tensors.Tensor) error {\n",
    "        learnedXVar := ctx.InspectVariable(context.RootScope, \"learnedX\")\n",
    "        learnedX := learnedXVar.Value()\n",
    "        Plot(displayId, 1024, 320, []*tensors.Tensor{x, learnedX}, []string{\"Truth\", \"Learned\"})\n",
    "        return nil\n",
    "    })\n",
    "    \n",
    "\t// Loop for given number of steps.\n",
    "\t_, err = loop.RunSteps(dataset, *flagNumSteps)\n",
    "\tif err != nil {\n",
    "\t\tpanic(err)\n",
    "\t}\n",
    "\n",
    "}\n",
    "\n",
    "%% --steps=800 --learning_rate=0.01\n",
    "TrainInverseRealFFT()"
   ]
  }
 ],
 "metadata": {
  "kernelspec": {
   "display_name": "Go (gonb)",
   "language": "go",
   "name": "gonb"
  },
  "language_info": {
   "codemirror_mode": "",
   "file_extension": ".go",
   "mimetype": "",
   "name": "go",
   "nbconvert_exporter": "",
   "pygments_lexer": "",
   "version": "go1.23.0"
  }
 },
 "nbformat": 4,
 "nbformat_minor": 5
}
