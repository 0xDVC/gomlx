{
 "cells": [
  {
   "cell_type": "code",
   "execution_count": 31,
   "id": "b357050e-2756-465f-9e81-c83c49b6a84b",
   "metadata": {},
   "outputs": [],
   "source": [
    "!*go mod edit --replace github.com/gomlx/gomlx=${HOME}/Projects/gomlx"
   ]
  },
  {
   "cell_type": "code",
   "execution_count": 35,
   "id": "fb544cc2-b70b-4975-acda-fd39ccfb0f94",
   "metadata": {},
   "outputs": [
    {
     "name": "stdout",
     "output_type": "stream",
     "text": [
      "(UInt8)[736389 1]: (... too large, 736389 values ..., first 500 values: [15 12 12 10 11 11 14 13 12 10 12 14 13 13 13 10 11 10 13 13 12 12 10 15 12 13 11 10 15 10 11 14 14 15 14 10 13 14 13 15 12 10 12 11 11 16 14 12 11 11 11 12 15 15 10 10 13 12 11 15 11 13 13 10 10 13 11 13 11 12 15 17 17 11 14 13 14 15 11 13 10 15 14 11 14 14 12 12 15 12 11 11 10 10 11 13 13 10 13 13 13 15 13 12 12 13 14 15 11 10 14 14 15 11 13 15 12 13 10 14 11 15 16 16 13 14 14 14 12 14 11 12 14 10 10 13 15 14 12 11 10 11 13 10 17 11 13 13 12 15 15 15 10 11 10 14 11 13 10 15 13 13 13 12 16 14 16 14 14 10 13 15 15 12 14 14 13 10 10 16 10 14 12 13 15 15 14 10 10 11 15 15 12 14 11 13 11 13 12 13 12 11 11 13 10 12 11 12 12 15 11 12 12 14 13 12 14 10 11 10 12 11 11 15 13 13 13 13 11 13 13 12 10 13 15 11 13 13 13 12 15 12 15 10 12 11 13 15 14 10 10 10 10 10 10 14 13 11 13 14 10 14 10 12 13 10 10 11 13 13 14 11 10 13 13 17 16 15 15 11 10 14 15 13 14 15 14 14 13 15 12 13 12 12 15 11 11 13 16 15 12 10 10 13 14 14 15 15 14 11 10 13 13 10 15 12 11 10 12 16 13 12 13 10 14 12 14 10 13 13 16 13 18 11 10 14 17 13 12 15 12 16 16 10 10 15 10 16 12 12 13 11 11 14 11 13 12 13 14 19 15 12 14 11 12 13 11 15 16 14 11 13 13 12 15 15 15 11 15 12 10 13 10 11 10 13 16 13 16 12 16 11 11 14 15 15 11 10 11 11 10 12 12 16 12 12 12 10 15 14 13 19 17 12 13 10 10 15 12 14 13 17 15 13 11 17 13 11 16 15 11 11 11 11 13 13 15 12 13 14 13 13 10 11 10 10 14 14 15 14 10 10 13 12 14 13 13 13 10 12 11 17 11 11 14 10 12 12 14 14 12 13 10 15 10 15 10 15 15 16 15 15 12 11 11 13 14 14 13 12 13 13 12 15 10 14 12 15 14 11])\n"
     ]
    }
   ],
   "source": [
    "import (\n",
    "    \"flag\"\n",
    "\n",
    "    // . \"github.com/gomlx/gomlx/graph\"\n",
    "    // \"github.com/gomlx/gomlx/types/shapes\"\n",
    "    mag \"github.com/gomlx/gomlx/examples/ogbnmag\"\n",
    "    \"github.com/janpfeifer/must\"\n",
    ")\n",
    "\n",
    "var (\n",
    "    flagDataDir   = flag.String(\"data\", \"~/work/ogbnmag\", \"Directory to cache downloaded and generated dataset files.\")\n",
    ")\n",
    "\n",
    "%%\n",
    "start := time.Now()\n",
    "must.M(mag.Download(*flagDataDir))\n",
    "fmt.Printf(\"Elapsed: %\\n\", mag.PapersYears)\n"
   ]
  }
 ],
 "metadata": {
  "kernelspec": {
   "display_name": "Go (gonb)",
   "language": "go",
   "name": "gonb"
  },
  "language_info": {
   "codemirror_mode": "",
   "file_extension": ".go",
   "mimetype": "",
   "name": "go",
   "nbconvert_exporter": "",
   "pygments_lexer": "",
   "version": "go1.21.6"
  }
 },
 "nbformat": 4,
 "nbformat_minor": 5
}
