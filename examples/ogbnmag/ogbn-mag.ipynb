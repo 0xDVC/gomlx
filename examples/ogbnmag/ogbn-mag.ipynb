{
 "cells": [
  {
   "cell_type": "code",
   "execution_count": 31,
   "id": "b357050e-2756-465f-9e81-c83c49b6a84b",
   "metadata": {},
   "outputs": [],
   "source": [
    "!*go mod edit --replace github.com/gomlx/gomlx=${HOME}/Projects/gomlx"
   ]
  },
  {
   "cell_type": "markdown",
   "id": "598ddc21-be30-4883-ad85-e0f9199ef0d7",
   "metadata": {},
   "source": [
    "## Downloading Dataset\n",
    "\n",
    "The method `mag.Download()` will download the dataset to the data directory, if not yet downloaded.\n",
    "It then converts the dataset to tensors, which are then available for use.\n",
    "\n",
    "The tensor is then saved for faster access. After saved, the next call to `mag.Download()` will take 1/2s."
   ]
  },
  {
   "cell_type": "code",
   "execution_count": 46,
   "id": "fb544cc2-b70b-4975-acda-fd39ccfb0f94",
   "metadata": {},
   "outputs": [
    {
     "name": "stdout",
     "output_type": "stream",
     "text": [
      "Elapsed: 487.422136ms\n"
     ]
    }
   ],
   "source": [
    "import (\n",
    "    \"flag\"\n",
    "\n",
    "    // . \"github.com/gomlx/gomlx/graph\"\n",
    "    // \"github.com/gomlx/gomlx/types/shapes\"\n",
    "    mag \"github.com/gomlx/gomlx/examples/ogbnmag\"\n",
    "    \"github.com/janpfeifer/must\"\n",
    ")\n",
    "\n",
    "var (\n",
    "    flagDataDir   = flag.String(\"data\", \"~/work/ogbnmag\", \"Directory to cache downloaded and generated dataset files.\")\n",
    ")\n",
    "\n",
    "%%\n",
    "start := time.Now()\n",
    "must.M(mag.Download(*flagDataDir))\n",
    "fmt.Printf(\"Elapsed: %s\\n\", time.Since(start))"
   ]
  },
  {
   "cell_type": "markdown",
   "id": "13ed15ef-e36f-4bf8-a360-ff5bbc047b90",
   "metadata": {},
   "source": [
    "## FNN model, No Graph\n",
    "\n",
    "The first model will only use the paper features, and no relations. It serves as a baseline."
   ]
  }
 ],
 "metadata": {
  "kernelspec": {
   "display_name": "Go (gonb)",
   "language": "go",
   "name": "gonb"
  },
  "language_info": {
   "codemirror_mode": "",
   "file_extension": ".go",
   "mimetype": "",
   "name": "go",
   "nbconvert_exporter": "",
   "pygments_lexer": "",
   "version": "go1.21.6"
  }
 },
 "nbformat": 4,
 "nbformat_minor": 5
}
