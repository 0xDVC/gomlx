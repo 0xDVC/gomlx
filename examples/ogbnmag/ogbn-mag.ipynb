{
 "cells": [
  {
   "cell_type": "markdown",
   "id": "5c7bc97f-89b4-4275-baf0-825ebda0bae7",
   "metadata": {},
   "source": [
    "# Open Graph Benchmark (OGB) Node Prediction for Micrososoft Academic Graph (OGBN-MAG)\n",
    "\n",
    "The [Open Graph Benchmark (OGB)](https://ogb.stanford.edu/) is a collection of realistic, large-scale, and diverse benchmark datasets for machine learning on graphs.\n",
    "\n",
    "This notebook demonstrate a [Graph Neural Network ([GNN])](https://en.wikipedia.org/wiki/Graph_neural_network) based on [TF-GNN](https://github.com/tensorflow/gnn) [OGBNMAG tutorial](https://colab.research.google.com/github/tensorflow/gnn/blob/master/examples/notebooks/ogbn_mag_e2e.ipynb), but using GoMLX.\n",
    "\n",
    "The task [OGBN-MAG is described here](https://ogb.stanford.edu/docs/nodeprop/#ogbn-mag). This demo comes with a library that does the downloading, parsing and converting of the data to tensors for fast use.\n",
    "\n",
    "The model is experimental, but it includes a basic GNN library that can be used for different projects.\n",
    "\n",
    "**EXPERIMENTAL**, it has been used only for OGBN-MAG still.\n",
    "\n",
    "See also [OGBN-MAG Leaderboard](https://ogb.stanford.edu/docs/leader_nodeprop/#ogbn-papers100M) -- take with a grain of salt because different models use different tricks that may be considered leaking, or using extra data from the outside (so more data), and in some cases are very overfit to the task. But still, it's a fun dataset to work with.\n",
    "\n",
    "See the subdirectory `demo` for a command line of the trainer (that can be run on the cloud somewhere) and it will save datapoints that can be plotted in the notebook later.\n"
   ]
  },
  {
   "cell_type": "code",
   "execution_count": 1,
   "id": "b357050e-2756-465f-9e81-c83c49b6a84b",
   "metadata": {},
   "outputs": [
    {
     "name": "stdout",
     "output_type": "stream",
     "text": [
      "\t- Added replace rule for module \"github.com/gomlx/gomlx\" to local directory \"/home/janpf/Projects/gomlx\".\n",
      "\t- Added replace rule for module \"github.com/janpfeifer/gonb\" to local directory \"/home/janpf/Projects/gonb\".\n"
     ]
    }
   ],
   "source": [
    "!*rm -f go.work && go work init && go work use . \"${HOME}/Projects/gomlx\" \"${HOME}/Projects/gonb\"\n",
    "%goworkfix"
   ]
  },
  {
   "cell_type": "markdown",
   "id": "598ddc21-be30-4883-ad85-e0f9199ef0d7",
   "metadata": {},
   "source": [
    "## Downloading Dataset\n",
    "\n",
    "The method `mag.Download()` will download the dataset to the data directory, if not yet downloaded.\n",
    "It then converts the dataset to tensors, which are then available for use.\n",
    "\n",
    "The tensor is then saved for faster access. After saved, the next call to `mag.Download()` will take 1/2s."
   ]
  },
  {
   "cell_type": "code",
   "execution_count": 2,
   "id": "fb544cc2-b70b-4975-acda-fd39ccfb0f94",
   "metadata": {},
   "outputs": [
    {
     "name": "stdout",
     "output_type": "stream",
     "text": [
      "Elapsed: 580.565455ms\n"
     ]
    }
   ],
   "source": [
    "import (\n",
    "    \"flag\"\n",
    "    mag \"github.com/gomlx/gomlx/examples/ogbnmag\"\n",
    "    \"github.com/janpfeifer/must\"\n",
    "    . \"github.com/gomlx/gomlx/graph\"\n",
    "\t\"github.com/gomlx/gomlx/ml/context\"\n",
    ")\n",
    "\n",
    "var (\n",
    "    flagDataDir   = flag.String(\"data\", \"~/work/ogbnmag\", \"Directory to cache downloaded and generated dataset files.\")\n",
    "    \n",
    "    manager = NewManager()\n",
    ")\n",
    "\n",
    "%%\n",
    "start := time.Now()\n",
    "must.M(mag.Download(*flagDataDir))\n",
    "fmt.Printf(\"Elapsed: %s\\n\", time.Since(start))"
   ]
  },
  {
   "cell_type": "markdown",
   "id": "13ed15ef-e36f-4bf8-a360-ff5bbc047b90",
   "metadata": {},
   "source": [
    "## FNN model, No Graph\n",
    "\n",
    "The first model will only use the paper features, and no relations. It serves as a baseline.\n",
    "\n",
    "In a quick experiment, without much hyperparameter tuning, we got 27.27% on test accuracy, which is inline with the corresponding results in [the leaderboard](https://ogb.stanford.edu/docs/leader_nodeprop/#ogbn-mag) (the Multi Layer Perceptron MLP entry in the bottom)."
   ]
  },
  {
   "cell_type": "code",
   "execution_count": 4,
   "id": "f99dda4b-4bc6-493d-a02c-a936e510828a",
   "metadata": {},
   "outputs": [],
   "source": [
    "func config() (ctx *context.Context) {\n",
    "    ctx = context.NewContext(manager)\n",
    "    ctx.RngStateReset()\n",
    "    ctx.SetParams(map[string]any{\n",
    "        \"train_steps\": 1_000_000, \n",
    "        \"batch_size\": 128,\n",
    "        \"optimizer\": \"adamw\", \n",
    "        optimizers.LearningRateKey: 0.0001,\n",
    "        layers.L2RegularizationKey: 1e-4,\n",
    "        \"normalization\": \"layer\",\n",
    "        \"dropout\": 0.1,\n",
    "        \"hidden_layers\": 2,\n",
    "        \"num_nodes\": 256,\n",
    "        \"plots\": true,\n",
    "    })\n",
    "    return\n",
    "}"
   ]
  },
  {
   "cell_type": "code",
   "execution_count": 6,
   "id": "f2bc12d5-dd9b-47a0-a6eb-0e97ebbb6511",
   "metadata": {},
   "outputs": [
    {
     "data": {
      "text/html": []
     },
     "metadata": {},
     "output_type": "display_data"
    },
    {
     "name": "stdout",
     "output_type": "stream",
     "text": [
      "> papers features input shape: (Float32)[128 129]\n",
      "Training (1000000 steps):  100% [\u001b[32m=\u001b[0m\u001b[32m=\u001b[0m\u001b[32m=\u001b[0m\u001b[32m=\u001b[0m\u001b[32m=\u001b[0m\u001b[32m=\u001b[0m\u001b[32m=\u001b[0m\u001b[32m=\u001b[0m\u001b[32m=\u001b[0m\u001b[32m=\u001b[0m\u001b[32m=\u001b[0m\u001b[32m=\u001b[0m\u001b[32m=\u001b[0m\u001b[32m=\u001b[0m\u001b[32m=\u001b[0m\u001b[32m=\u001b[0m\u001b[32m=\u001b[0m\u001b[32m=\u001b[0m\u001b[32m=\u001b[0m\u001b[32m=\u001b[0m\u001b[32m=\u001b[0m\u001b[32m=\u001b[0m\u001b[32m=\u001b[0m\u001b[32m=\u001b[0m\u001b[32m=\u001b[0m\u001b[32m=\u001b[0m\u001b[32m=\u001b[0m\u001b[32m=\u001b[0m\u001b[32m=\u001b[0m\u001b[32m=\u001b[0m\u001b[32m=\u001b[0m\u001b[32m=\u001b[0m\u001b[32m=\u001b[0m\u001b[32m=\u001b[0m\u001b[32m=\u001b[0m\u001b[32m=\u001b[0m\u001b[32m=\u001b[0m\u001b[32m=\u001b[0m\u001b[32m=\u001b[0m\u001b[32m=\u001b[0m] (2052 steps/s)\u001b[0m [loss=2.793] [~loss=3.078] [~acc=28.30%]           \n"
     ]
    },
    {
     "data": {
      "text/html": [
       "<svg height=\"472\" viewbox=\"0 0 1024 400\" style=\"background-color:#f8f8f8\" preserveAspectRatio=\"xMidYMid meet\" xmlns=\"http://www.w3.org/2000/svg\" width=\"1024\"><defs><marker markerWidth=\"2%\" markerHeight=\"2%\" id=\"circle\" viewBox=\"0 0 10 10 \" refX=\"5\" refY=\"5\" markerUnits=\"userSpaceOnUse\"><circle r=\"3\" fill=\"none\" stroke=\"black\" cx=\"5\" cy=\"5\"/></marker><marker refY=\"5\" markerUnits=\"userSpaceOnUse\" markerWidth=\"2%\" markerHeight=\"2%\" id=\"filled-circle\" viewBox=\"0 0 10 10 \" refX=\"5\"><circle cx=\"5\" cy=\"5\" r=\"3\" fill=\"black\" stroke=\"none\"/></marker><marker markerWidth=\"2%\" markerHeight=\"2%\" id=\"square\" viewBox=\"0 0 10 10 \" refX=\"5\" refY=\"5\" markerUnits=\"userSpaceOnUse\"><rect y=\"2\" width=\"6\" height=\"6\" fill=\"none\" stroke=\"black\" x=\"2\"/></marker><marker refX=\"5\" refY=\"5\" markerUnits=\"userSpaceOnUse\" markerWidth=\"2%\" markerHeight=\"2%\" id=\"filled-square\" viewBox=\"0 0 10 10 \"><rect fill=\"black\" stroke=\"none\" x=\"2\" y=\"2\" width=\"6\" height=\"6\"/></marker></defs><g fill=\"none\" stroke-width=\"2px\" transform=\"translate(70 330 )scale(1 -1 )\" stroke-linejoin=\"round\" marker-start=\"url(#square)\" marker-mid=\"url(#square)\" marker-end=\"url(#square)\" stroke=\"hsl(90, 47%, 65%)\" stroke-linecap=\"round\"><path vector-effect=\"non-scaling-stroke\" d=\"M1.768000e+01,4.642021e+01 L8.604205e+01,2.461840e+01 L1.279667e+02,4.339416e+01 L1.590885e+02,7.031880e+01 L1.842956e+02,7.441706e+01 L2.058775e+02,9.362171e+01 L2.249197e+02,1.185210e+02 L2.421551e+02,1.350571e+02 L2.580360e+02,1.416572e+02 L2.728577e+02,1.554292e+02 L2.868215e+02,1.685818e+02 L3.000697e+02,1.643644e+02 L3.127433e+02,1.745624e+02 L3.249391e+02,1.709169e+02 L3.367242e+02,1.821633e+02 L3.481462e+02,1.730137e+02 L3.592621e+02,1.843315e+02 L3.701096e+02,1.883345e+02 L3.807317e+02,1.956971e+02 L3.911552e+02,1.921945e+02 L4.014103e+02,2.001766e+02 L4.115139e+02,2.034647e+02 L4.214856e+02,1.985801e+02 L4.313350e+02,2.094691e+02 L4.410740e+02,2.093262e+02 L4.507148e+02,1.984848e+02 L4.602692e+02,2.057283e+02 L4.697471e+02,2.177610e+02 L4.791566e+02,2.228123e+02 L4.885037e+02,2.072532e+02 L4.977974e+02,2.206202e+02 L5.070430e+02,2.240275e+02 L5.162428e+02,2.218592e+02 L5.254041e+02,2.143537e+02 L5.345295e+02,2.088973e+02 L5.436214e+02,2.125190e+02 L5.526839e+02,2.137580e+02 L5.617192e+02,2.267914e+02 L5.707319e+02,2.197624e+02 L5.797236e+02,2.239798e+02 L5.886968e+02,2.285308e+02 L5.976522e+02,2.124237e+02 L6.065921e+02,2.238607e+02 L6.155178e+02,2.251712e+02 L6.244301e+02,2.185949e+02 L6.333308e+02,2.258383e+02 L6.422211e+02,2.360840e+02 L6.511014e+02,2.178324e+02 L6.599729e+02,2.266723e+02 L6.688363e+02,2.273156e+02 L6.776927e+02,2.255763e+02 L6.865421e+02,2.308182e+02 L6.953852e+02,2.309612e+02 L7.042229e+02,2.357504e+02 L7.130556e+02,2.355122e+02 L7.218836e+02,2.256716e+02 L7.307073e+02,2.356313e+02 L7.395271e+02,2.384667e+02 L7.483437e+02,2.358219e+02 L7.571570e+02,2.334392e+02 L7.659676e+02,2.361079e+02 L7.747756e+02,2.333677e+02 L7.835814e+02,2.408256e+02 L7.923849e+02,2.381331e+02 L8.011865e+02,2.429224e+02 L8.099864e+02,2.345114e+02 L8.187845e+02,2.349880e+02 L8.275813e+02,2.367750e+02 L8.363766e+02,2.459246e+02 L8.451708e+02,2.370133e+02 L8.539638e+02,2.372515e+02 L8.627558e+02,2.315569e+02 L8.663200e+02,2.438040e+02 \"/></g><g stroke=\"hsl(301, 88%, 65%)\" stroke-width=\"2px\" stroke-linecap=\"round\" marker-start=\"url(#square)\" marker-mid=\"url(#square)\" marker-end=\"url(#square)\" fill=\"none\" transform=\"translate(70 330 )scale(1 -1 )\" stroke-linejoin=\"round\"><path vector-effect=\"non-scaling-stroke\" d=\"M1.768000e+01,3.459487e+01 L8.604205e+01,6.310184e+01 L1.279667e+02,7.803943e+01 L1.590885e+02,9.598168e+01 L1.842956e+02,1.014593e+02 L2.058775e+02,1.128113e+02 L2.249197e+02,1.206078e+02 L2.421551e+02,1.248632e+02 L2.580360e+02,1.323614e+02 L2.728577e+02,1.375977e+02 L2.868215e+02,1.460070e+02 L3.000697e+02,1.515639e+02 L3.127433e+02,1.556352e+02 L3.249391e+02,1.629572e+02 L3.367242e+02,1.665237e+02 L3.481462e+02,1.698093e+02 L3.592621e+02,1.743663e+02 L3.701096e+02,1.784059e+02 L3.807317e+02,1.802804e+02 L3.911552e+02,1.827264e+02 L4.014103e+02,1.891499e+02 L4.115139e+02,1.898563e+02 L4.214856e+02,1.932577e+02 L4.313350e+02,1.945720e+02 L4.410740e+02,1.978592e+02 L4.507148e+02,1.977671e+02 L4.602692e+02,2.013511e+02 L4.697471e+02,2.023939e+02 L4.791566e+02,2.050446e+02 L4.885037e+02,2.077080e+02 L4.977974e+02,2.081795e+02 L5.070430e+02,2.101445e+02 L5.162428e+02,2.121254e+02 L5.254041e+02,2.135364e+02 L5.345295e+02,2.135904e+02 L5.436214e+02,2.156030e+02 L5.526839e+02,2.180204e+02 L5.617192e+02,2.186727e+02 L5.707319e+02,2.205457e+02 L5.797236e+02,2.218441e+02 L5.886968e+02,2.226837e+02 L5.976522e+02,2.233123e+02 L6.065921e+02,2.249995e+02 L6.155178e+02,2.262296e+02 L6.244301e+02,2.272502e+02 L6.333308e+02,2.290216e+02 L6.422211e+02,2.297629e+02 L6.511014e+02,2.303168e+02 L6.599729e+02,2.323247e+02 L6.688363e+02,2.336342e+02 L6.776927e+02,2.353357e+02 L6.865421e+02,2.352389e+02 L6.953852e+02,2.371737e+02 L7.042229e+02,2.383372e+02 L7.130556e+02,2.385895e+02 L7.218836e+02,2.387102e+02 L7.307073e+02,2.407609e+02 L7.395271e+02,2.416815e+02 L7.483437e+02,2.422370e+02 L7.571570e+02,2.435354e+02 L7.659676e+02,2.436782e+02 L7.747756e+02,2.449338e+02 L7.835814e+02,2.469559e+02 L7.923849e+02,2.468654e+02 L8.011865e+02,2.477924e+02 L8.099864e+02,2.481844e+02 L8.187845e+02,2.499288e+02 L8.275813e+02,2.495669e+02 L8.363766e+02,2.504891e+02 L8.451708e+02,2.513351e+02 L8.539638e+02,2.521494e+02 L8.627558e+02,2.520923e+02 L8.663200e+02,2.524843e+02 \"/></g><g marker-start=\"url(#square)\" marker-end=\"url(#square)\" stroke-width=\"2px\" stroke-linecap=\"round\" fill=\"none\" marker-mid=\"url(#square)\" stroke=\"hsl(152, 76%, 65%)\" stroke-linejoin=\"round\" transform=\"translate(70 330 )scale(1 -1 )\"><path vector-effect=\"non-scaling-stroke\" d=\"M1.768000e+01,3.580298e+01 L8.604205e+01,2.642299e+01 L1.279667e+02,3.714298e+01 L1.590885e+02,5.003470e+01 L1.842956e+02,5.373125e+01 L2.058775e+02,7.318434e+01 L2.249197e+02,9.719651e+01 L2.421551e+02,1.108583e+02 L2.580360e+02,1.222714e+02 L2.728577e+02,1.327296e+02 L2.868215e+02,1.466225e+02 L3.000697e+02,1.430183e+02 L3.127433e+02,1.523675e+02 L3.249391e+02,1.538615e+02 L3.367242e+02,1.644429e+02 L3.481462e+02,1.545700e+02 L3.592621e+02,1.682011e+02 L3.701096e+02,1.716974e+02 L3.807317e+02,1.822788e+02 L3.911552e+02,1.803689e+02 L4.014103e+02,1.859137e+02 L4.115139e+02,1.878852e+02 L4.214856e+02,1.829565e+02 L4.313350e+02,1.927523e+02 L4.410740e+02,1.937843e+02 L4.507148e+02,1.853130e+02 L4.602692e+02,1.916280e+02 L4.697471e+02,2.003765e+02 L4.791566e+02,2.052898e+02 L4.885037e+02,1.959252e+02 L4.977974e+02,2.042732e+02 L5.070430e+02,2.081084e+02 L5.162428e+02,2.072305e+02 L5.254041e+02,2.029024e+02 L5.345295e+02,2.001916e+02 L5.436214e+02,2.002070e+02 L5.526839e+02,2.029024e+02 L5.617192e+02,2.128677e+02 L5.707319e+02,2.082470e+02 L5.797236e+02,2.112659e+02 L5.886968e+02,2.135454e+02 L5.976522e+02,2.028254e+02 L6.065921e+02,2.123132e+02 L6.155178e+02,2.149624e+02 L6.244301e+02,2.061215e+02 L6.333308e+02,2.151011e+02 L6.422211e+02,2.249893e+02 L6.511014e+02,2.098951e+02 L6.599729e+02,2.147160e+02 L6.688363e+02,2.195523e+02 L6.776927e+02,2.146698e+02 L6.865421e+02,2.199220e+02 L6.953852e+02,2.214006e+02 L7.042229e+02,2.234183e+02 L7.130556e+02,2.267144e+02 L7.218836e+02,2.170880e+02 L7.307073e+02,2.247429e+02 L7.395271e+02,2.275461e+02 L7.483437e+02,2.255746e+02 L7.571570e+02,2.249893e+02 L7.659676e+02,2.272535e+02 L7.747756e+02,2.239574e+02 L7.835814e+02,2.315045e+02 L7.923849e+02,2.282546e+02 L8.011865e+02,2.333836e+02 L8.099864e+02,2.254360e+02 L8.187845e+02,2.258518e+02 L8.275813e+02,2.281006e+02 L8.363766e+02,2.354013e+02 L8.451708e+02,2.281622e+02 L8.539638e+02,2.304263e+02 L8.627558e+02,2.238650e+02 L8.663200e+02,2.346003e+02 \"/></g><g marker-mid=\"url(#square)\" stroke-width=\"2px\" stroke-linejoin=\"round\" marker-start=\"url(#square)\" fill=\"none\" transform=\"translate(70 330 )scale(1 -1 )\" marker-end=\"url(#square)\" stroke=\"hsl(3, 64%, 65%)\" stroke-linecap=\"round\"><path vector-effect=\"non-scaling-stroke\" d=\"M1.768000e+01,5.200000e+00 L8.604205e+01,3.838849e+01 L1.279667e+02,6.080001e+01 L1.590885e+02,8.367747e+01 L1.842956e+02,9.492789e+01 L2.058775e+02,1.052721e+02 L2.249197e+02,1.180145e+02 L2.421551e+02,1.230898e+02 L2.580360e+02,1.287203e+02 L2.728577e+02,1.340635e+02 L2.868215e+02,1.477499e+02 L3.000697e+02,1.490760e+02 L3.127433e+02,1.561265e+02 L3.249391e+02,1.600313e+02 L3.367242e+02,1.663487e+02 L3.481462e+02,1.727745e+02 L3.592621e+02,1.767462e+02 L3.701096e+02,1.784191e+02 L3.807317e+02,1.772332e+02 L3.911552e+02,1.815951e+02 L4.014103e+02,1.855351e+02 L4.115139e+02,1.873479e+02 L4.214856e+02,1.919944e+02 L4.313350e+02,1.913205e+02 L4.410740e+02,1.941512e+02 L4.507148e+02,1.931322e+02 L4.602692e+02,2.022366e+02 L4.697471e+02,2.007078e+02 L4.791566e+02,2.046918e+02 L4.885037e+02,2.077709e+02 L4.977974e+02,2.093417e+02 L5.070430e+02,2.089939e+02 L5.162428e+02,2.102897e+02 L5.254041e+02,2.147209e+02 L5.345295e+02,2.212229e+02 L5.436214e+02,2.138131e+02 L5.526839e+02,2.203242e+02 L5.617192e+02,2.184933e+02 L5.707319e+02,2.201078e+02 L5.797236e+02,2.180638e+02 L5.886968e+02,2.242621e+02 L5.976522e+02,2.278144e+02 L6.065921e+02,2.242127e+02 L6.155178e+02,2.271707e+02 L6.244301e+02,2.287875e+02 L6.333308e+02,2.274278e+02 L6.422211e+02,2.298579e+02 L6.511014e+02,2.320447e+02 L6.599729e+02,2.297571e+02 L6.688363e+02,2.319590e+02 L6.776927e+02,2.369973e+02 L6.865421e+02,2.341152e+02 L6.953852e+02,2.368144e+02 L7.042229e+02,2.361942e+02 L7.130556e+02,2.352828e+02 L7.218836e+02,2.411386e+02 L7.307073e+02,2.384819e+02 L7.395271e+02,2.380734e+02 L7.483437e+02,2.477547e+02 L7.571570e+02,2.445915e+02 L7.659676e+02,2.441731e+02 L7.747756e+02,2.486595e+02 L7.835814e+02,2.451553e+02 L7.923849e+02,2.483953e+02 L8.011865e+02,2.446662e+02 L8.099864e+02,2.460193e+02 L8.187845e+02,2.466727e+02 L8.275813e+02,2.527465e+02 L8.363766e+02,2.502623e+02 L8.451708e+02,2.490425e+02 L8.539638e+02,2.507104e+02 L8.627558e+02,2.538232e+02 L8.663200e+02,2.548000e+02 \"/></g><g stroke=\"black\" transform=\"translate(70 330 )scale(1 -1 )\" fill=\"none\" stroke-width=\"2px\" stroke-linecap=\"round\" stroke-linejoin=\"round\"><path vector-effect=\"non-scaling-stroke\" d=\"M1.768000e+01,0 L1.768000e+01,-6 M8.154652e+01,0 L8.154652e+01,-6 M1.189060e+02,0 L1.189060e+02,-6 M1.454130e+02,0 L1.454130e+02,-6 M1.659735e+02,0 L1.659735e+02,-6 M1.827726e+02,0 L1.827726e+02,-6 M1.969760e+02,0 L1.969760e+02,-6 M2.092796e+02,0 L2.092796e+02,-6 M2.201321e+02,0 L2.201321e+02,-6 M2.298400e+02,0 L2.298400e+02,-6 M2.386219e+02,0 L2.386219e+02,-6 M2.937065e+02,0 L2.937065e+02,-6 M3.310660e+02,0 L3.310660e+02,-6 M3.575730e+02,0 L3.575730e+02,-6 M3.781335e+02,0 L3.781335e+02,-6 M3.949326e+02,0 L3.949326e+02,-6 M4.091360e+02,0 L4.091360e+02,-6 M4.214396e+02,0 L4.214396e+02,-6 M4.322921e+02,0 L4.322921e+02,-6 M442,0 L442,-6 M5.058665e+02,0 L5.058665e+02,-6 M5.432260e+02,0 L5.432260e+02,-6 M5.697330e+02,0 L5.697330e+02,-6 M5.902935e+02,0 L5.902935e+02,-6 M6.070926e+02,0 L6.070926e+02,-6 M6.212960e+02,0 L6.212960e+02,-6 M6.335996e+02,0 L6.335996e+02,-6 M6.444521e+02,0 L6.444521e+02,-6 M6.541600e+02,0 L6.541600e+02,-6 M7.180265e+02,0 L7.180265e+02,-6 M7.553860e+02,0 L7.553860e+02,-6 M7.818930e+02,0 L7.818930e+02,-6 M8.024535e+02,0 L8.024535e+02,-6 M8.192526e+02,0 L8.192526e+02,-6 M8.334560e+02,0 L8.334560e+02,-6 M8.457596e+02,0 L8.457596e+02,-6 M8.566121e+02,0 L8.566121e+02,-6 M8.663200e+02,0 L8.663200e+02,-6 \"/></g><g font-family=\"sans-serif\" font-size=\"12px\" text-anchor=\"middle\" stroke=\"black\" fill=\"black\" transform=\"translate(70 330 )scale(1 1 )\" font-style=\"normal\" stroke-linejoin=\"round\" font-weight=\"normal\" stroke-width=\"2px\" stroke-linecap=\"round\" dominant-baseline=\"hanging\"><text y=\"10\" dominant-baseline=\"hanging\" stroke=\"none\" vector-effect=\"non-scaling-stroke\" x=\"1.768000e+01\">100</text><text stroke=\"none\" vector-effect=\"non-scaling-stroke\" x=\"8.154652e+01\" y=\"10\" dominant-baseline=\"hanging\">200</text><text y=\"10\" dominant-baseline=\"hanging\" stroke=\"none\" vector-effect=\"non-scaling-stroke\" x=\"1.189060e+02\">300</text><text x=\"1.454130e+02\" y=\"10\" dominant-baseline=\"hanging\" stroke=\"none\" vector-effect=\"non-scaling-stroke\">400</text><text stroke=\"none\" vector-effect=\"non-scaling-stroke\" x=\"1.659735e+02\" y=\"10\" dominant-baseline=\"hanging\">500</text><text stroke=\"none\" vector-effect=\"non-scaling-stroke\" x=\"1.827726e+02\" y=\"10\" dominant-baseline=\"hanging\">600</text><text dominant-baseline=\"hanging\" stroke=\"none\" vector-effect=\"non-scaling-stroke\" x=\"1.969760e+02\" y=\"10\">700</text><text vector-effect=\"non-scaling-stroke\" x=\"2.092796e+02\" y=\"10\" dominant-baseline=\"hanging\" stroke=\"none\">800</text><text vector-effect=\"non-scaling-stroke\" x=\"2.298400e+02\" y=\"10\" dominant-baseline=\"hanging\" stroke=\"none\">1000</text><text x=\"2.937065e+02\" y=\"10\" dominant-baseline=\"hanging\" stroke=\"none\" vector-effect=\"non-scaling-stroke\">2000</text><text dominant-baseline=\"hanging\" stroke=\"none\" vector-effect=\"non-scaling-stroke\" x=\"3.310660e+02\" y=\"10\">3000</text><text x=\"3.575730e+02\" y=\"10\" dominant-baseline=\"hanging\" stroke=\"none\" vector-effect=\"non-scaling-stroke\">4000</text><text y=\"10\" dominant-baseline=\"hanging\" stroke=\"none\" vector-effect=\"non-scaling-stroke\" x=\"3.781335e+02\">5000</text><text stroke=\"none\" vector-effect=\"non-scaling-stroke\" x=\"3.949326e+02\" y=\"10\" dominant-baseline=\"hanging\">6000</text><text x=\"4.091360e+02\" y=\"10\" dominant-baseline=\"hanging\" stroke=\"none\" vector-effect=\"non-scaling-stroke\">7000</text><text vector-effect=\"non-scaling-stroke\" x=\"4.214396e+02\" y=\"10\" dominant-baseline=\"hanging\" stroke=\"none\">8000</text><text y=\"10\" dominant-baseline=\"hanging\" stroke=\"none\" vector-effect=\"non-scaling-stroke\" x=\"442\">10000</text><text dominant-baseline=\"hanging\" stroke=\"none\" vector-effect=\"non-scaling-stroke\" x=\"5.058665e+02\" y=\"10\">20000</text><text x=\"5.432260e+02\" y=\"10\" dominant-baseline=\"hanging\" stroke=\"none\" vector-effect=\"non-scaling-stroke\">30000</text><text y=\"10\" dominant-baseline=\"hanging\" stroke=\"none\" vector-effect=\"non-scaling-stroke\" x=\"5.697330e+02\">40000</text><text vector-effect=\"non-scaling-stroke\" x=\"5.902935e+02\" y=\"10\" dominant-baseline=\"hanging\" stroke=\"none\">50000</text><text stroke=\"none\" vector-effect=\"non-scaling-stroke\" x=\"6.070926e+02\" y=\"10\" dominant-baseline=\"hanging\">60000</text><text vector-effect=\"non-scaling-stroke\" x=\"6.212960e+02\" y=\"10\" dominant-baseline=\"hanging\" stroke=\"none\">70000</text><text stroke=\"none\" vector-effect=\"non-scaling-stroke\" x=\"6.335996e+02\" y=\"10\" dominant-baseline=\"hanging\">80000</text><text y=\"10\" dominant-baseline=\"hanging\" stroke=\"none\" vector-effect=\"non-scaling-stroke\" x=\"6.541600e+02\">100000</text><text stroke=\"none\" vector-effect=\"non-scaling-stroke\" x=\"7.180265e+02\" y=\"10\" dominant-baseline=\"hanging\">200000</text><text stroke=\"none\" vector-effect=\"non-scaling-stroke\" x=\"7.553860e+02\" y=\"10\" dominant-baseline=\"hanging\">300000</text><text vector-effect=\"non-scaling-stroke\" x=\"7.818930e+02\" y=\"10\" dominant-baseline=\"hanging\" stroke=\"none\">400000</text><text x=\"8.024535e+02\" y=\"10\" dominant-baseline=\"hanging\" stroke=\"none\" vector-effect=\"non-scaling-stroke\">500000</text><text stroke=\"none\" vector-effect=\"non-scaling-stroke\" x=\"8.192526e+02\" y=\"10\" dominant-baseline=\"hanging\">600000</text><text vector-effect=\"non-scaling-stroke\" x=\"8.334560e+02\" y=\"10\" dominant-baseline=\"hanging\" stroke=\"none\">700000</text><text stroke=\"none\" vector-effect=\"non-scaling-stroke\" x=\"8.457596e+02\" y=\"10\" dominant-baseline=\"hanging\">800000</text><text dominant-baseline=\"hanging\" stroke=\"none\" vector-effect=\"non-scaling-stroke\" x=\"8.663200e+02\" y=\"10\">1000000</text></g><g font-weight=\"bold\" text-anchor=\"middle\" stroke=\"black\" transform=\"translate(70 330 )scale(1 1 )rotate(0 0 0 )\" fill=\"black\" stroke-width=\"2px\" font-family=\"sans-serif\" font-size=\"12px\" dominant-baseline=\"baseline\" font-style=\"normal\" stroke-linecap=\"round\" stroke-linejoin=\"round\"><text vector-effect=\"non-scaling-stroke\" x=\"442\" y=\"-6\" dominant-baseline=\"baseline\" stroke=\"none\">Steps</text></g><g dominant-baseline=\"baseline\" fill=\"black\" transform=\"translate(70 330 )scale(1 -1 )\" font-size=\"12px\" font-weight=\"bold\" text-anchor=\"middle\" stroke-width=\"2px\" stroke-linejoin=\"round\" font-style=\"normal\" stroke=\"black\" stroke-linecap=\"round\" font-family=\"sans-serif\"><path vector-effect=\"non-scaling-stroke\" d=\"M0,7.188900e+01 L-6,7.188900e+01 M0,1.718175e+02 L-6,1.718175e+02 \"/></g><g stroke=\"black\" stroke-width=\"2px\" stroke-linejoin=\"round\" font-family=\"sans-serif\" font-weight=\"normal\" text-anchor=\"end\" fill=\"black\" stroke-linecap=\"round\" font-size=\"12px\" dominant-baseline=\"middle\" transform=\"translate(70 330 )scale(1 1 )\" font-style=\"normal\"><text vector-effect=\"non-scaling-stroke\" x=\"-10\" y=\"-7.188900e+01\" dominant-baseline=\"middle\" stroke=\"none\">0.100</text><text stroke=\"none\" vector-effect=\"non-scaling-stroke\" x=\"-10\" y=\"-1.718175e+02\" dominant-baseline=\"middle\">0.200</text></g><g stroke-linejoin=\"round\" font-family=\"sans-serif\" font-size=\"12px\" font-weight=\"bold\" fill=\"black\" stroke-width=\"2px\" stroke=\"black\" stroke-linecap=\"round\" text-anchor=\"middle\" dominant-baseline=\"hanging\" transform=\"translate(70 330 )scale(1 1 )rotate(-90 0 0 )\" font-style=\"normal\"><text x=\"130\" y=\"6\" dominant-baseline=\"hanging\" stroke=\"none\" vector-effect=\"non-scaling-stroke\">accuracy</text></g><g stroke-width=\"0.5px\" fill=\"black\" transform=\"translate(70 330 )scale(1 -1 )\" font-style=\"normal\" stroke-linejoin=\"round\" font-size=\"12px\" text-anchor=\"middle\" stroke=\"gray\" font-family=\"sans-serif\" font-weight=\"bold\" stroke-linecap=\"round\" dominant-baseline=\"hanging\"><path d=\"M0,7.188900e+01 L884,7.188900e+01 M0,1.718175e+02 L884,1.718175e+02 \" vector-effect=\"non-scaling-stroke\"/></g><g stroke-linejoin=\"round\" font-family=\"sans-serif\" font-size=\"12px\" font-weight=\"bold\" text-anchor=\"middle\" stroke=\"black\" stroke-linecap=\"round\" dominant-baseline=\"hanging\" fill=\"none\" font-style=\"normal\" stroke-width=\"2px\"><rect y=\"70\" width=\"884\" height=\"260\" vector-effect=\"non-scaling-stroke\" x=\"70\"/><g fill=\"black\" font-size=\"18px\" dominant-baseline=\"middle\"><text x=\"512\" y=\"35\" dominant-baseline=\"middle\" stroke=\"none\" vector-effect=\"non-scaling-stroke\">accuracy metrics</text></g><g dominant-baseline=\"hanging\" fill=\"hsl(90, 47%, 65%)\" stroke=\"hsl(90, 47%, 65%)\" stroke-width=\"1px\" font-family=\"sans-serif\" font-weight=\"normal\" text-anchor=\"start\" font-style=\"normal\" stroke-linecap=\"round\" stroke-linejoin=\"round\" font-size=\"12px\"><rect vector-effect=\"non-scaling-stroke\" x=\"76\" y=\"366\" width=\"12\" height=\"12\"/><g stroke=\"black\" fill=\"black\"><text dominant-baseline=\"hanging\" stroke=\"none\" vector-effect=\"non-scaling-stroke\" x=\"92\" y=\"366\">Eval on seeds_test: Mean Accuracy</text></g><g fill=\"hsl(301, 88%, 65%)\" stroke-linejoin=\"round\" font-size=\"12px\" dominant-baseline=\"hanging\" stroke=\"hsl(301, 88%, 65%)\" font-style=\"normal\" stroke-width=\"1px\" stroke-linecap=\"round\" font-family=\"sans-serif\" font-weight=\"normal\" text-anchor=\"start\"><rect vector-effect=\"non-scaling-stroke\" x=\"76\" y=\"384\" width=\"12\" height=\"12\"/><g fill=\"black\" stroke=\"black\"><text vector-effect=\"non-scaling-stroke\" x=\"92\" y=\"384\" dominant-baseline=\"hanging\" stroke=\"none\">Eval on seeds_train: Mean Accuracy</text></g><g stroke-linecap=\"round\" stroke-linejoin=\"round\" font-family=\"sans-serif\" font-size=\"12px\" font-weight=\"normal\" dominant-baseline=\"hanging\" stroke=\"hsl(152, 76%, 65%)\" stroke-width=\"1px\" text-anchor=\"start\" fill=\"hsl(152, 76%, 65%)\" font-style=\"normal\"><rect width=\"12\" height=\"12\" vector-effect=\"non-scaling-stroke\" x=\"76\" y=\"402\"/><g fill=\"black\" stroke=\"black\"><text vector-effect=\"non-scaling-stroke\" x=\"92\" y=\"402\" dominant-baseline=\"hanging\" stroke=\"none\">Eval on seeds_valid: Mean Accuracy</text></g><g font-weight=\"normal\" text-anchor=\"start\" font-family=\"sans-serif\" font-size=\"12px\" dominant-baseline=\"hanging\" stroke=\"hsl(3, 64%, 65%)\" stroke-width=\"1px\" stroke-linecap=\"round\" stroke-linejoin=\"round\" fill=\"hsl(3, 64%, 65%)\" font-style=\"normal\"><rect width=\"12\" height=\"12\" vector-effect=\"non-scaling-stroke\" x=\"76\" y=\"420\"/><g fill=\"black\" stroke=\"black\"><text y=\"420\" dominant-baseline=\"hanging\" stroke=\"none\" vector-effect=\"non-scaling-stroke\" x=\"92\">Train: Moving Average Accuracy</text></g></g></g></g></g></g></svg>"
      ]
     },
     "metadata": {},
     "output_type": "display_data"
    },
    {
     "data": {
      "text/html": [
       "<svg xmlns=\"http://www.w3.org/2000/svg\" width=\"1024\" height=\"454\" viewbox=\"0 0 1024 400\" style=\"background-color:#f8f8f8\" preserveAspectRatio=\"xMidYMid meet\"><defs><marker id=\"circle\" viewBox=\"0 0 10 10 \" refX=\"5\" refY=\"5\" markerUnits=\"userSpaceOnUse\" markerWidth=\"2%\" markerHeight=\"2%\"><circle cx=\"5\" cy=\"5\" r=\"3\" fill=\"none\" stroke=\"black\"/></marker><marker markerHeight=\"2%\" id=\"filled-circle\" viewBox=\"0 0 10 10 \" refX=\"5\" refY=\"5\" markerUnits=\"userSpaceOnUse\" markerWidth=\"2%\"><circle cy=\"5\" r=\"3\" fill=\"black\" stroke=\"none\" cx=\"5\"/></marker><marker refX=\"5\" refY=\"5\" markerUnits=\"userSpaceOnUse\" markerWidth=\"2%\" markerHeight=\"2%\" id=\"square\" viewBox=\"0 0 10 10 \"><rect y=\"2\" width=\"6\" height=\"6\" fill=\"none\" stroke=\"black\" x=\"2\"/></marker><marker viewBox=\"0 0 10 10 \" refX=\"5\" refY=\"5\" markerUnits=\"userSpaceOnUse\" markerWidth=\"2%\" markerHeight=\"2%\" id=\"filled-square\"><rect x=\"2\" y=\"2\" width=\"6\" height=\"6\" fill=\"black\" stroke=\"none\"/></marker></defs><g transform=\"translate(70 330 )scale(1 -1 )\" marker-end=\"url(#square)\" fill=\"none\" stroke-width=\"2px\" stroke-linecap=\"round\" stroke-linejoin=\"round\" marker-start=\"url(#square)\" marker-mid=\"url(#square)\" stroke=\"hsl(90, 47%, 65%)\"><path d=\"M1.768000e+01,2.471893e+02 L8.604205e+01,2.138338e+02 L1.279667e+02,1.967233e+02 L1.590885e+02,1.755666e+02 L1.842956e+02,1.555239e+02 L2.058775e+02,1.375292e+02 L2.249197e+02,1.215023e+02 L2.421551e+02,1.107117e+02 L2.580360e+02,9.945654e+01 L2.728577e+02,9.112112e+01 L2.868215e+02,8.174477e+01 L3.000697e+02,7.715769e+01 L3.127433e+02,7.264858e+01 L3.249391e+02,6.781227e+01 L3.367242e+02,6.351467e+01 L3.481462e+02,6.513197e+01 L3.592621e+02,5.645136e+01 L3.701096e+02,5.501699e+01 L3.807317e+02,5.059189e+01 L3.911552e+02,4.788816e+01 L4.014103e+02,4.747247e+01 L4.115139e+02,4.323816e+01 L4.214856e+02,4.175481e+01 L4.313350e+02,3.794835e+01 L4.410740e+02,3.620850e+01 L4.507148e+02,3.568142e+01 L4.602692e+02,3.489394e+01 L4.697471e+02,2.980806e+01 L4.791566e+02,2.845564e+01 L4.885037e+02,2.996045e+01 L4.977974e+02,2.758061e+01 L5.070430e+02,2.442668e+01 L5.162428e+02,2.411016e+01 L5.254041e+02,2.557521e+01 L5.345295e+02,2.409235e+01 L5.436214e+02,2.376144e+01 L5.526839e+02,2.260846e+01 L5.617192e+02,1.892723e+01 L5.707319e+02,1.911039e+01 L5.797236e+02,1.861303e+01 L5.886968e+02,1.816060e+01 L5.976522e+02,1.840698e+01 L6.065921e+02,1.678321e+01 L6.155178e+02,1.576176e+01 L6.244301e+02,1.692495e+01 L6.333308e+02,1.540866e+01 L6.422211e+02,1.279581e+01 L6.511014e+02,1.610782e+01 L6.599729e+02,1.406931e+01 L6.688363e+02,1.330928e+01 L6.776927e+02,1.403999e+01 L6.865421e+02,1.387263e+01 L6.953852e+02,1.321742e+01 L7.042229e+02,1.187967e+01 L7.130556e+02,9.740832e+00 L7.218836e+02,1.292048e+01 L7.307073e+02,1.159137e+01 L7.395271e+02,9.676964e+00 L7.483437e+02,1.267576e+01 L7.571570e+02,1.126766e+01 L7.659676e+02,1.041291e+01 L7.747756e+02,1.084019e+01 L7.835814e+02,1.002294e+01 L7.923849e+02,1.190406e+01 L8.011865e+02,8.559848e+00 L8.099864e+02,1.066062e+01 L8.187845e+02,1.142621e+01 L8.275813e+02,9.740398e+00 L8.363766e+02,9.824061e+00 L8.451708e+02,9.768421e+00 L8.539638e+02,1.090919e+01 L8.627558e+02,1.154322e+01 L8.663200e+02,8.757371e+00 \" vector-effect=\"non-scaling-stroke\"/></g><g fill=\"none\" stroke-linecap=\"round\" marker-mid=\"url(#square)\" marker-end=\"url(#square)\" transform=\"translate(70 330 )scale(1 -1 )\" stroke-width=\"2px\" stroke-linejoin=\"round\" marker-start=\"url(#square)\" stroke=\"hsl(301, 88%, 65%)\"><path vector-effect=\"non-scaling-stroke\" d=\"M1.768000e+01,2.507164e+02 L8.604205e+01,2.222679e+02 L1.279667e+02,2.074635e+02 L1.590885e+02,1.892033e+02 L1.842956e+02,1.710122e+02 L2.058775e+02,1.546667e+02 L2.249197e+02,1.399427e+02 L2.421551e+02,1.272186e+02 L2.580360e+02,1.161804e+02 L2.728577e+02,1.067309e+02 L2.868215e+02,9.869594e+01 L3.000697e+02,9.169229e+01 L3.127433e+02,8.561225e+01 L3.249391e+02,7.967401e+01 L3.367242e+02,7.530824e+01 L3.481462e+02,7.116764e+01 L3.592621e+02,6.691199e+01 L3.701096e+02,6.338275e+01 L3.807317e+02,5.999705e+01 L3.911552e+02,5.722928e+01 L4.014103e+02,5.414340e+01 L4.115139e+02,5.154301e+01 L4.214856e+02,4.846362e+01 L4.313350e+02,4.615061e+01 L4.410740e+02,4.374663e+01 L4.507148e+02,4.180144e+01 L4.602692e+02,3.950532e+01 L4.697471e+02,3.774124e+01 L4.791566e+02,3.567653e+01 L4.885037e+02,3.394415e+01 L4.977974e+02,3.238433e+01 L5.070430e+02,3.073251e+01 L5.162428e+02,2.950235e+01 L5.254041e+02,2.803988e+01 L5.345295e+02,2.696244e+01 L5.436214e+02,2.570268e+01 L5.526839e+02,2.438342e+01 L5.617192e+02,2.349525e+01 L5.707319e+02,2.222555e+01 L5.797236e+02,2.123247e+01 L5.886968e+02,2.045457e+01 L5.976522e+02,1.948113e+01 L6.065921e+02,1.853162e+01 L6.155178e+02,1.760553e+01 L6.244301e+02,1.681297e+01 L6.333308e+02,1.626097e+01 L6.422211e+02,1.526453e+01 L6.511014e+02,1.501348e+01 L6.599729e+02,1.392143e+01 L6.688363e+02,1.339992e+01 L6.776927e+02,1.280627e+01 L6.865421e+02,1.211152e+01 L6.953852e+02,1.157032e+01 L7.042229e+02,1.092431e+01 L7.130556e+02,1.072641e+01 L7.218836e+02,1.026321e+01 L7.307073e+02,9.959726e+00 L7.395271e+02,9.400204e+00 L7.483437e+02,8.962009e+00 L7.571570e+02,8.507820e+00 L7.659676e+02,8.203253e+00 L7.747756e+02,7.874464e+00 L7.835814e+02,7.495195e+00 L7.923849e+02,7.358715e+00 L8.011865e+02,6.993403e+00 L8.099864e+02,6.743716e+00 L8.187845e+02,6.302398e+00 L8.275813e+02,6.273424e+00 L8.363766e+02,5.976053e+00 L8.451708e+02,5.742550e+00 L8.539638e+02,5.510296e+00 L8.627558e+02,5.213958e+00 L8.663200e+02,5.200000e+00 \"/></g><g stroke-width=\"2px\" transform=\"translate(70 330 )scale(1 -1 )\" stroke=\"hsl(152, 76%, 65%)\" marker-end=\"url(#square)\" stroke-linecap=\"round\" stroke-linejoin=\"round\" marker-start=\"url(#square)\" marker-mid=\"url(#square)\" fill=\"none\"><path vector-effect=\"non-scaling-stroke\" d=\"M1.768000e+01,2.548000e+02 L8.604205e+01,2.278872e+02 L1.279667e+02,2.124185e+02 L1.590885e+02,1.935937e+02 L1.842956e+02,1.747873e+02 L2.058775e+02,1.564685e+02 L2.249197e+02,1.403798e+02 L2.421551e+02,1.287791e+02 L2.580360e+02,1.166648e+02 L2.728577e+02,1.074489e+02 L2.868215e+02,9.701243e+01 L3.000697e+02,9.254972e+01 L3.127433e+02,8.711083e+01 L3.249391e+02,8.167835e+01 L3.367242e+02,7.676800e+01 L3.481462e+02,7.759689e+01 L3.592621e+02,6.952688e+01 L3.701096e+02,6.732183e+01 L3.807317e+02,6.160838e+01 L3.911552e+02,5.888384e+01 L4.014103e+02,5.762753e+01 L4.115139e+02,5.432419e+01 L4.214856e+02,5.272625e+01 L4.313350e+02,4.808514e+01 L4.410740e+02,4.737224e+01 L4.507148e+02,4.612310e+01 L4.602692e+02,4.535566e+01 L4.697471e+02,4.054208e+01 L4.791566e+02,3.880942e+01 L4.885037e+02,3.981059e+01 L4.977974e+02,3.743936e+01 L5.070430e+02,3.456607e+01 L5.162428e+02,3.378969e+01 L5.254041e+02,3.476617e+01 L5.345295e+02,3.337569e+01 L5.436214e+02,3.283789e+01 L5.526839e+02,3.142596e+01 L5.617192e+02,2.831811e+01 L5.707319e+02,2.859340e+01 L5.797236e+02,2.754336e+01 L5.886968e+02,2.718272e+01 L5.976522e+02,2.745087e+01 L6.065921e+02,2.616194e+01 L6.155178e+02,2.496355e+01 L6.244301e+02,2.598951e+01 L6.333308e+02,2.351352e+01 L6.422211e+02,2.146565e+01 L6.511014e+02,2.501884e+01 L6.599729e+02,2.321257e+01 L6.688363e+02,2.153905e+01 L6.776927e+02,2.268590e+01 L6.865421e+02,2.252954e+01 L6.953852e+02,2.138975e+01 L7.042229e+02,2.044993e+01 L7.130556e+02,1.825450e+01 L7.218836e+02,2.116508e+01 L7.307073e+02,1.966511e+01 L7.395271e+02,1.807631e+01 L7.483437e+02,2.024638e+01 L7.571570e+02,1.931402e+01 L7.659676e+02,1.861987e+01 L7.747756e+02,1.898317e+01 L7.835814e+02,1.793128e+01 L7.923849e+02,1.912378e+01 L8.011865e+02,1.632364e+01 L8.099864e+02,1.861995e+01 L8.187845e+02,1.956664e+01 L8.275813e+02,1.821548e+01 L8.363766e+02,1.745469e+01 L8.451708e+02,1.781468e+01 L8.539638e+02,1.802170e+01 L8.627558e+02,1.955201e+01 L8.663200e+02,1.693774e+01 \"/></g><g stroke-width=\"2px\" stroke-linecap=\"round\" stroke-linejoin=\"round\" stroke=\"black\" transform=\"translate(70 330 )scale(1 -1 )\" fill=\"none\"><path vector-effect=\"non-scaling-stroke\" d=\"M1.768000e+01,0 L1.768000e+01,-6 M8.154652e+01,0 L8.154652e+01,-6 M1.189060e+02,0 L1.189060e+02,-6 M1.454130e+02,0 L1.454130e+02,-6 M1.659735e+02,0 L1.659735e+02,-6 M1.827726e+02,0 L1.827726e+02,-6 M1.969760e+02,0 L1.969760e+02,-6 M2.092796e+02,0 L2.092796e+02,-6 M2.201321e+02,0 L2.201321e+02,-6 M2.298400e+02,0 L2.298400e+02,-6 M2.386219e+02,0 L2.386219e+02,-6 M2.937065e+02,0 L2.937065e+02,-6 M3.310660e+02,0 L3.310660e+02,-6 M3.575730e+02,0 L3.575730e+02,-6 M3.781335e+02,0 L3.781335e+02,-6 M3.949326e+02,0 L3.949326e+02,-6 M4.091360e+02,0 L4.091360e+02,-6 M4.214396e+02,0 L4.214396e+02,-6 M4.322921e+02,0 L4.322921e+02,-6 M442,0 L442,-6 M5.058665e+02,0 L5.058665e+02,-6 M5.432260e+02,0 L5.432260e+02,-6 M5.697330e+02,0 L5.697330e+02,-6 M5.902935e+02,0 L5.902935e+02,-6 M6.070926e+02,0 L6.070926e+02,-6 M6.212960e+02,0 L6.212960e+02,-6 M6.335996e+02,0 L6.335996e+02,-6 M6.444521e+02,0 L6.444521e+02,-6 M6.541600e+02,0 L6.541600e+02,-6 M7.180265e+02,0 L7.180265e+02,-6 M7.553860e+02,0 L7.553860e+02,-6 M7.818930e+02,0 L7.818930e+02,-6 M8.024535e+02,0 L8.024535e+02,-6 M8.192526e+02,0 L8.192526e+02,-6 M8.334560e+02,0 L8.334560e+02,-6 M8.457596e+02,0 L8.457596e+02,-6 M8.566121e+02,0 L8.566121e+02,-6 M8.663200e+02,0 L8.663200e+02,-6 \"/></g><g font-weight=\"normal\" stroke-width=\"2px\" text-anchor=\"middle\" stroke=\"black\" font-family=\"sans-serif\" stroke-linejoin=\"round\" fill=\"black\" stroke-linecap=\"round\" dominant-baseline=\"hanging\" transform=\"translate(70 330 )scale(1 1 )\" font-size=\"12px\" font-style=\"normal\"><text y=\"10\" dominant-baseline=\"hanging\" stroke=\"none\" vector-effect=\"non-scaling-stroke\" x=\"1.768000e+01\">100</text><text vector-effect=\"non-scaling-stroke\" x=\"8.154652e+01\" y=\"10\" dominant-baseline=\"hanging\" stroke=\"none\">200</text><text vector-effect=\"non-scaling-stroke\" x=\"1.189060e+02\" y=\"10\" dominant-baseline=\"hanging\" stroke=\"none\">300</text><text x=\"1.454130e+02\" y=\"10\" dominant-baseline=\"hanging\" stroke=\"none\" vector-effect=\"non-scaling-stroke\">400</text><text x=\"1.659735e+02\" y=\"10\" dominant-baseline=\"hanging\" stroke=\"none\" vector-effect=\"non-scaling-stroke\">500</text><text y=\"10\" dominant-baseline=\"hanging\" stroke=\"none\" vector-effect=\"non-scaling-stroke\" x=\"1.827726e+02\">600</text><text stroke=\"none\" vector-effect=\"non-scaling-stroke\" x=\"1.969760e+02\" y=\"10\" dominant-baseline=\"hanging\">700</text><text stroke=\"none\" vector-effect=\"non-scaling-stroke\" x=\"2.092796e+02\" y=\"10\" dominant-baseline=\"hanging\">800</text><text x=\"2.298400e+02\" y=\"10\" dominant-baseline=\"hanging\" stroke=\"none\" vector-effect=\"non-scaling-stroke\">1000</text><text y=\"10\" dominant-baseline=\"hanging\" stroke=\"none\" vector-effect=\"non-scaling-stroke\" x=\"2.937065e+02\">2000</text><text vector-effect=\"non-scaling-stroke\" x=\"3.310660e+02\" y=\"10\" dominant-baseline=\"hanging\" stroke=\"none\">3000</text><text stroke=\"none\" vector-effect=\"non-scaling-stroke\" x=\"3.575730e+02\" y=\"10\" dominant-baseline=\"hanging\">4000</text><text stroke=\"none\" vector-effect=\"non-scaling-stroke\" x=\"3.781335e+02\" y=\"10\" dominant-baseline=\"hanging\">5000</text><text x=\"3.949326e+02\" y=\"10\" dominant-baseline=\"hanging\" stroke=\"none\" vector-effect=\"non-scaling-stroke\">6000</text><text y=\"10\" dominant-baseline=\"hanging\" stroke=\"none\" vector-effect=\"non-scaling-stroke\" x=\"4.091360e+02\">7000</text><text stroke=\"none\" vector-effect=\"non-scaling-stroke\" x=\"4.214396e+02\" y=\"10\" dominant-baseline=\"hanging\">8000</text><text stroke=\"none\" vector-effect=\"non-scaling-stroke\" x=\"442\" y=\"10\" dominant-baseline=\"hanging\">10000</text><text x=\"5.058665e+02\" y=\"10\" dominant-baseline=\"hanging\" stroke=\"none\" vector-effect=\"non-scaling-stroke\">20000</text><text stroke=\"none\" vector-effect=\"non-scaling-stroke\" x=\"5.432260e+02\" y=\"10\" dominant-baseline=\"hanging\">30000</text><text x=\"5.697330e+02\" y=\"10\" dominant-baseline=\"hanging\" stroke=\"none\" vector-effect=\"non-scaling-stroke\">40000</text><text y=\"10\" dominant-baseline=\"hanging\" stroke=\"none\" vector-effect=\"non-scaling-stroke\" x=\"5.902935e+02\">50000</text><text y=\"10\" dominant-baseline=\"hanging\" stroke=\"none\" vector-effect=\"non-scaling-stroke\" x=\"6.070926e+02\">60000</text><text stroke=\"none\" vector-effect=\"non-scaling-stroke\" x=\"6.212960e+02\" y=\"10\" dominant-baseline=\"hanging\">70000</text><text vector-effect=\"non-scaling-stroke\" x=\"6.335996e+02\" y=\"10\" dominant-baseline=\"hanging\" stroke=\"none\">80000</text><text stroke=\"none\" vector-effect=\"non-scaling-stroke\" x=\"6.541600e+02\" y=\"10\" dominant-baseline=\"hanging\">100000</text><text stroke=\"none\" vector-effect=\"non-scaling-stroke\" x=\"7.180265e+02\" y=\"10\" dominant-baseline=\"hanging\">200000</text><text dominant-baseline=\"hanging\" stroke=\"none\" vector-effect=\"non-scaling-stroke\" x=\"7.553860e+02\" y=\"10\">300000</text><text stroke=\"none\" vector-effect=\"non-scaling-stroke\" x=\"7.818930e+02\" y=\"10\" dominant-baseline=\"hanging\">400000</text><text x=\"8.024535e+02\" y=\"10\" dominant-baseline=\"hanging\" stroke=\"none\" vector-effect=\"non-scaling-stroke\">500000</text><text x=\"8.192526e+02\" y=\"10\" dominant-baseline=\"hanging\" stroke=\"none\" vector-effect=\"non-scaling-stroke\">600000</text><text vector-effect=\"non-scaling-stroke\" x=\"8.334560e+02\" y=\"10\" dominant-baseline=\"hanging\" stroke=\"none\">700000</text><text vector-effect=\"non-scaling-stroke\" x=\"8.457596e+02\" y=\"10\" dominant-baseline=\"hanging\" stroke=\"none\">800000</text><text vector-effect=\"non-scaling-stroke\" x=\"8.663200e+02\" y=\"10\" dominant-baseline=\"hanging\" stroke=\"none\">1000000</text></g><g stroke-linejoin=\"round\" font-size=\"12px\" font-style=\"normal\" font-weight=\"bold\" stroke=\"black\" font-family=\"sans-serif\" stroke-width=\"2px\" stroke-linecap=\"round\" text-anchor=\"middle\" dominant-baseline=\"baseline\" fill=\"black\" transform=\"translate(70 330 )scale(1 1 )rotate(0 0 0 )\"><text vector-effect=\"non-scaling-stroke\" x=\"442\" y=\"-6\" dominant-baseline=\"baseline\" stroke=\"none\">Steps</text></g><g stroke-linejoin=\"round\" font-size=\"12px\" font-family=\"sans-serif\" text-anchor=\"middle\" fill=\"black\" stroke-width=\"2px\" stroke-linecap=\"round\" font-style=\"normal\" font-weight=\"bold\" stroke=\"black\" transform=\"translate(70 330 )scale(1 -1 )\" dominant-baseline=\"baseline\"><path vector-effect=\"non-scaling-stroke\" d=\"M0,1.096843e+02 L-6,1.096843e+02 M0,2.235792e+02 L-6,2.235792e+02 \"/></g><g dominant-baseline=\"middle\" font-size=\"12px\" font-style=\"normal\" font-weight=\"normal\" stroke-linecap=\"round\" stroke-width=\"2px\" text-anchor=\"end\" stroke=\"black\" transform=\"translate(70 330 )scale(1 1 )\" font-family=\"sans-serif\" stroke-linejoin=\"round\" fill=\"black\"><text stroke=\"none\" vector-effect=\"non-scaling-stroke\" x=\"-10\" y=\"-1.096843e+02\" dominant-baseline=\"middle\">4.000</text><text x=\"-10\" y=\"-2.235792e+02\" dominant-baseline=\"middle\" stroke=\"none\" vector-effect=\"non-scaling-stroke\">5.000</text></g><g stroke-width=\"2px\" stroke-linejoin=\"round\" font-size=\"12px\" font-weight=\"bold\" dominant-baseline=\"hanging\" fill=\"black\" stroke-linecap=\"round\" font-style=\"normal\" stroke=\"black\" transform=\"translate(70 330 )scale(1 1 )rotate(-90 0 0 )\" font-family=\"sans-serif\" text-anchor=\"middle\"><text stroke=\"none\" vector-effect=\"non-scaling-stroke\" x=\"130\" y=\"6\" dominant-baseline=\"hanging\">eval-loss</text></g><g transform=\"translate(70 330 )scale(1 -1 )\" text-anchor=\"middle\" font-style=\"normal\" fill=\"black\" stroke-linejoin=\"round\" stroke-linecap=\"round\" dominant-baseline=\"hanging\" stroke=\"gray\" font-family=\"sans-serif\" font-size=\"12px\" font-weight=\"bold\" stroke-width=\"0.5px\"><path d=\"M0,1.096843e+02 L884,1.096843e+02 M0,2.235792e+02 L884,2.235792e+02 \" vector-effect=\"non-scaling-stroke\"/></g><g stroke=\"black\" stroke-width=\"2px\" stroke-linejoin=\"round\" fill=\"none\" font-family=\"sans-serif\" text-anchor=\"middle\" stroke-linecap=\"round\" font-size=\"12px\" font-style=\"normal\" font-weight=\"bold\" dominant-baseline=\"hanging\"><rect width=\"884\" height=\"260\" vector-effect=\"non-scaling-stroke\" x=\"70\" y=\"70\"/><g dominant-baseline=\"middle\" font-size=\"18px\" fill=\"black\"><text dominant-baseline=\"middle\" stroke=\"none\" vector-effect=\"non-scaling-stroke\" x=\"512\" y=\"35\">eval-loss metrics</text></g><g font-weight=\"normal\" text-anchor=\"start\" dominant-baseline=\"hanging\" stroke=\"hsl(90, 47%, 65%)\" stroke-width=\"1px\" stroke-linecap=\"round\" stroke-linejoin=\"round\" font-size=\"12px\" fill=\"hsl(90, 47%, 65%)\" font-family=\"sans-serif\" font-style=\"normal\"><rect width=\"12\" height=\"12\" vector-effect=\"non-scaling-stroke\" x=\"76\" y=\"366\"/><g stroke=\"black\" fill=\"black\"><text vector-effect=\"non-scaling-stroke\" x=\"92\" y=\"366\" dominant-baseline=\"hanging\" stroke=\"none\">Eval on seeds_test: Mean Loss</text></g><g stroke-width=\"1px\" font-size=\"12px\" font-family=\"sans-serif\" dominant-baseline=\"hanging\" font-weight=\"normal\" fill=\"hsl(301, 88%, 65%)\" font-style=\"normal\" stroke=\"hsl(301, 88%, 65%)\" text-anchor=\"start\" stroke-linecap=\"round\" stroke-linejoin=\"round\"><rect y=\"384\" width=\"12\" height=\"12\" vector-effect=\"non-scaling-stroke\" x=\"76\"/><g stroke=\"black\" fill=\"black\"><text stroke=\"none\" vector-effect=\"non-scaling-stroke\" x=\"92\" y=\"384\" dominant-baseline=\"hanging\">Eval on seeds_train: Mean Loss</text></g><g font-size=\"12px\" font-style=\"normal\" fill=\"hsl(152, 76%, 65%)\" font-family=\"sans-serif\" text-anchor=\"start\" stroke-linecap=\"round\" font-weight=\"normal\" stroke-width=\"1px\" dominant-baseline=\"hanging\" stroke=\"hsl(152, 76%, 65%)\" stroke-linejoin=\"round\"><rect vector-effect=\"non-scaling-stroke\" x=\"76\" y=\"402\" width=\"12\" height=\"12\"/><g stroke=\"black\" fill=\"black\"><text x=\"92\" y=\"402\" dominant-baseline=\"hanging\" stroke=\"none\" vector-effect=\"non-scaling-stroke\">Eval on seeds_valid: Mean Loss</text></g></g></g></g></g></svg>"
      ]
     },
     "metadata": {},
     "output_type": "display_data"
    },
    {
     "data": {
      "text/html": [
       "<svg viewbox=\"0 0 1024 400\" style=\"background-color:#f8f8f8\" preserveAspectRatio=\"xMidYMid meet\" xmlns=\"http://www.w3.org/2000/svg\" width=\"1024\" height=\"418\"><defs><marker refY=\"5\" markerUnits=\"userSpaceOnUse\" markerWidth=\"2%\" markerHeight=\"2%\" id=\"circle\" viewBox=\"0 0 10 10 \" refX=\"5\"><circle r=\"3\" fill=\"none\" stroke=\"black\" cx=\"5\" cy=\"5\"/></marker><marker id=\"filled-circle\" viewBox=\"0 0 10 10 \" refX=\"5\" refY=\"5\" markerUnits=\"userSpaceOnUse\" markerWidth=\"2%\" markerHeight=\"2%\"><circle stroke=\"none\" cx=\"5\" cy=\"5\" r=\"3\" fill=\"black\"/></marker><marker viewBox=\"0 0 10 10 \" refX=\"5\" refY=\"5\" markerUnits=\"userSpaceOnUse\" markerWidth=\"2%\" markerHeight=\"2%\" id=\"square\"><rect height=\"6\" fill=\"none\" stroke=\"black\" x=\"2\" y=\"2\" width=\"6\"/></marker><marker markerWidth=\"2%\" markerHeight=\"2%\" id=\"filled-square\" viewBox=\"0 0 10 10 \" refX=\"5\" refY=\"5\" markerUnits=\"userSpaceOnUse\"><rect stroke=\"none\" x=\"2\" y=\"2\" width=\"6\" height=\"6\" fill=\"black\"/></marker></defs><g fill=\"none\" stroke-linecap=\"round\" stroke-linejoin=\"round\" stroke=\"hsl(90, 47%, 65%)\" marker-start=\"url(#square)\" marker-end=\"url(#square)\" transform=\"translate(70 330 )scale(1 -1 )\" marker-mid=\"url(#square)\" stroke-width=\"2px\"><path vector-effect=\"non-scaling-stroke\" d=\"M1.768000e+01,2.548000e+02 L8.604205e+01,2.165992e+02 L1.279667e+02,1.930165e+02 L1.590885e+02,1.750276e+02 L1.842956e+02,1.559756e+02 L2.058775e+02,1.425977e+02 L2.249197e+02,1.285271e+02 L2.421551e+02,1.166869e+02 L2.580360e+02,1.044894e+02 L2.728577e+02,9.608524e+01 L2.868215e+02,8.538934e+01 L3.000697e+02,8.203044e+01 L3.127433e+02,7.529248e+01 L3.249391e+02,7.173424e+01 L3.367242e+02,6.563624e+01 L3.481462e+02,6.140053e+01 L3.592621e+02,5.829147e+01 L3.701096e+02,5.545259e+01 L3.807317e+02,5.369662e+01 L3.911552e+02,5.071524e+01 L4.014103e+02,4.742105e+01 L4.115139e+02,4.685687e+01 L4.214856e+02,4.399400e+01 L4.313350e+02,4.380308e+01 L4.410740e+02,3.937225e+01 L4.507148e+02,3.875468e+01 L4.602692e+02,3.549824e+01 L4.697471e+02,3.397336e+01 L4.791566e+02,3.217121e+01 L4.885037e+02,3.158926e+01 L4.977974e+02,2.708378e+01 L5.070430e+02,2.839203e+01 L5.162428e+02,2.709628e+01 L5.254041e+02,2.498603e+01 L5.345295e+02,2.420268e+01 L5.436214e+02,2.475445e+01 L5.526839e+02,2.151766e+01 L5.617192e+02,2.070694e+01 L5.707319e+02,1.811688e+01 L5.797236e+02,1.907704e+01 L5.886968e+02,1.920607e+01 L5.976522e+02,1.730337e+01 L6.065921e+02,1.661154e+01 L6.155178e+02,1.702512e+01 L6.244301e+02,1.588820e+01 L6.333308e+02,1.547385e+01 L6.422211e+02,1.490165e+01 L6.511014e+02,1.427546e+01 L6.599729e+02,1.321109e+01 L6.688363e+02,1.547975e+01 L6.776927e+02,1.124671e+01 L6.865421e+02,1.299568e+01 L6.953852e+02,1.091305e+01 L7.042229e+02,1.017335e+01 L7.130556e+02,1.108588e+01 L7.218836e+02,9.718072e+00 L7.307073e+02,1.139137e+01 L7.395271e+02,1.006325e+01 L7.483437e+02,7.832119e+00 L7.571570e+02,8.878879e+00 L7.659676e+02,8.939918e+00 L7.747756e+02,6.057936e+00 L7.835814e+02,7.546156e+00 L7.923849e+02,7.097069e+00 L8.011865e+02,9.233878e+00 L8.099864e+02,8.495800e+00 L8.187845e+02,7.565801e+00 L8.275813e+02,6.946981e+00 L8.363766e+02,6.196607e+00 L8.451708e+02,6.051141e+00 L8.539638e+02,5.637855e+00 L8.627558e+02,7.302141e+00 L8.663200e+02,5.200000e+00 \"/></g><g fill=\"none\" stroke=\"black\" transform=\"translate(70 330 )scale(1 -1 )\" stroke-width=\"2px\" stroke-linecap=\"round\" stroke-linejoin=\"round\"><path d=\"M1.768000e+01,0 L1.768000e+01,-6 M8.154652e+01,0 L8.154652e+01,-6 M1.189060e+02,0 L1.189060e+02,-6 M1.454130e+02,0 L1.454130e+02,-6 M1.659735e+02,0 L1.659735e+02,-6 M1.827726e+02,0 L1.827726e+02,-6 M1.969760e+02,0 L1.969760e+02,-6 M2.092796e+02,0 L2.092796e+02,-6 M2.201321e+02,0 L2.201321e+02,-6 M2.298400e+02,0 L2.298400e+02,-6 M2.386219e+02,0 L2.386219e+02,-6 M2.937065e+02,0 L2.937065e+02,-6 M3.310660e+02,0 L3.310660e+02,-6 M3.575730e+02,0 L3.575730e+02,-6 M3.781335e+02,0 L3.781335e+02,-6 M3.949326e+02,0 L3.949326e+02,-6 M4.091360e+02,0 L4.091360e+02,-6 M4.214396e+02,0 L4.214396e+02,-6 M4.322921e+02,0 L4.322921e+02,-6 M442,0 L442,-6 M5.058665e+02,0 L5.058665e+02,-6 M5.432260e+02,0 L5.432260e+02,-6 M5.697330e+02,0 L5.697330e+02,-6 M5.902935e+02,0 L5.902935e+02,-6 M6.070926e+02,0 L6.070926e+02,-6 M6.212960e+02,0 L6.212960e+02,-6 M6.335996e+02,0 L6.335996e+02,-6 M6.444521e+02,0 L6.444521e+02,-6 M6.541600e+02,0 L6.541600e+02,-6 M7.180265e+02,0 L7.180265e+02,-6 M7.553860e+02,0 L7.553860e+02,-6 M7.818930e+02,0 L7.818930e+02,-6 M8.024535e+02,0 L8.024535e+02,-6 M8.192526e+02,0 L8.192526e+02,-6 M8.334560e+02,0 L8.334560e+02,-6 M8.457596e+02,0 L8.457596e+02,-6 M8.566121e+02,0 L8.566121e+02,-6 M8.663200e+02,0 L8.663200e+02,-6 \" vector-effect=\"non-scaling-stroke\"/></g><g stroke-linejoin=\"round\" font-weight=\"normal\" stroke=\"black\" font-size=\"12px\" dominant-baseline=\"hanging\" stroke-width=\"2px\" font-family=\"sans-serif\" font-style=\"normal\" fill=\"black\" transform=\"translate(70 330 )scale(1 1 )\" text-anchor=\"middle\" stroke-linecap=\"round\"><text y=\"10\" dominant-baseline=\"hanging\" stroke=\"none\" vector-effect=\"non-scaling-stroke\" x=\"1.768000e+01\">100</text><text x=\"8.154652e+01\" y=\"10\" dominant-baseline=\"hanging\" stroke=\"none\" vector-effect=\"non-scaling-stroke\">200</text><text vector-effect=\"non-scaling-stroke\" x=\"1.189060e+02\" y=\"10\" dominant-baseline=\"hanging\" stroke=\"none\">300</text><text x=\"1.454130e+02\" y=\"10\" dominant-baseline=\"hanging\" stroke=\"none\" vector-effect=\"non-scaling-stroke\">400</text><text dominant-baseline=\"hanging\" stroke=\"none\" vector-effect=\"non-scaling-stroke\" x=\"1.659735e+02\" y=\"10\">500</text><text stroke=\"none\" vector-effect=\"non-scaling-stroke\" x=\"1.827726e+02\" y=\"10\" dominant-baseline=\"hanging\">600</text><text vector-effect=\"non-scaling-stroke\" x=\"1.969760e+02\" y=\"10\" dominant-baseline=\"hanging\" stroke=\"none\">700</text><text stroke=\"none\" vector-effect=\"non-scaling-stroke\" x=\"2.092796e+02\" y=\"10\" dominant-baseline=\"hanging\">800</text><text y=\"10\" dominant-baseline=\"hanging\" stroke=\"none\" vector-effect=\"non-scaling-stroke\" x=\"2.298400e+02\">1000</text><text vector-effect=\"non-scaling-stroke\" x=\"2.937065e+02\" y=\"10\" dominant-baseline=\"hanging\" stroke=\"none\">2000</text><text stroke=\"none\" vector-effect=\"non-scaling-stroke\" x=\"3.310660e+02\" y=\"10\" dominant-baseline=\"hanging\">3000</text><text vector-effect=\"non-scaling-stroke\" x=\"3.575730e+02\" y=\"10\" dominant-baseline=\"hanging\" stroke=\"none\">4000</text><text stroke=\"none\" vector-effect=\"non-scaling-stroke\" x=\"3.781335e+02\" y=\"10\" dominant-baseline=\"hanging\">5000</text><text stroke=\"none\" vector-effect=\"non-scaling-stroke\" x=\"3.949326e+02\" y=\"10\" dominant-baseline=\"hanging\">6000</text><text vector-effect=\"non-scaling-stroke\" x=\"4.091360e+02\" y=\"10\" dominant-baseline=\"hanging\" stroke=\"none\">7000</text><text stroke=\"none\" vector-effect=\"non-scaling-stroke\" x=\"4.214396e+02\" y=\"10\" dominant-baseline=\"hanging\">8000</text><text dominant-baseline=\"hanging\" stroke=\"none\" vector-effect=\"non-scaling-stroke\" x=\"442\" y=\"10\">10000</text><text y=\"10\" dominant-baseline=\"hanging\" stroke=\"none\" vector-effect=\"non-scaling-stroke\" x=\"5.058665e+02\">20000</text><text vector-effect=\"non-scaling-stroke\" x=\"5.432260e+02\" y=\"10\" dominant-baseline=\"hanging\" stroke=\"none\">30000</text><text x=\"5.697330e+02\" y=\"10\" dominant-baseline=\"hanging\" stroke=\"none\" vector-effect=\"non-scaling-stroke\">40000</text><text x=\"5.902935e+02\" y=\"10\" dominant-baseline=\"hanging\" stroke=\"none\" vector-effect=\"non-scaling-stroke\">50000</text><text y=\"10\" dominant-baseline=\"hanging\" stroke=\"none\" vector-effect=\"non-scaling-stroke\" x=\"6.070926e+02\">60000</text><text dominant-baseline=\"hanging\" stroke=\"none\" vector-effect=\"non-scaling-stroke\" x=\"6.212960e+02\" y=\"10\">70000</text><text stroke=\"none\" vector-effect=\"non-scaling-stroke\" x=\"6.335996e+02\" y=\"10\" dominant-baseline=\"hanging\">80000</text><text vector-effect=\"non-scaling-stroke\" x=\"6.541600e+02\" y=\"10\" dominant-baseline=\"hanging\" stroke=\"none\">100000</text><text stroke=\"none\" vector-effect=\"non-scaling-stroke\" x=\"7.180265e+02\" y=\"10\" dominant-baseline=\"hanging\">200000</text><text dominant-baseline=\"hanging\" stroke=\"none\" vector-effect=\"non-scaling-stroke\" x=\"7.553860e+02\" y=\"10\">300000</text><text stroke=\"none\" vector-effect=\"non-scaling-stroke\" x=\"7.818930e+02\" y=\"10\" dominant-baseline=\"hanging\">400000</text><text dominant-baseline=\"hanging\" stroke=\"none\" vector-effect=\"non-scaling-stroke\" x=\"8.024535e+02\" y=\"10\">500000</text><text stroke=\"none\" vector-effect=\"non-scaling-stroke\" x=\"8.192526e+02\" y=\"10\" dominant-baseline=\"hanging\">600000</text><text stroke=\"none\" vector-effect=\"non-scaling-stroke\" x=\"8.334560e+02\" y=\"10\" dominant-baseline=\"hanging\">700000</text><text dominant-baseline=\"hanging\" stroke=\"none\" vector-effect=\"non-scaling-stroke\" x=\"8.457596e+02\" y=\"10\">800000</text><text dominant-baseline=\"hanging\" stroke=\"none\" vector-effect=\"non-scaling-stroke\" x=\"8.663200e+02\" y=\"10\">1000000</text></g><g font-style=\"normal\" stroke-width=\"2px\" font-family=\"sans-serif\" fill=\"black\" stroke=\"black\" transform=\"translate(70 330 )scale(1 1 )rotate(0 0 0 )\" font-weight=\"bold\" dominant-baseline=\"baseline\" stroke-linecap=\"round\" stroke-linejoin=\"round\" text-anchor=\"middle\" font-size=\"12px\"><text dominant-baseline=\"baseline\" stroke=\"none\" vector-effect=\"non-scaling-stroke\" x=\"442\" y=\"-6\">Steps</text></g><g fill=\"black\" font-size=\"12px\" stroke-width=\"2px\" font-style=\"normal\" stroke-linejoin=\"round\" font-family=\"sans-serif\" font-weight=\"bold\" dominant-baseline=\"baseline\" stroke=\"black\" transform=\"translate(70 330 )scale(1 -1 )\" text-anchor=\"middle\" stroke-linecap=\"round\"><path vector-effect=\"non-scaling-stroke\" d=\"M0,9.458833e+01 L-6,9.458833e+01 M0,1.915266e+02 L-6,1.915266e+02 \"/></g><g font-family=\"sans-serif\" font-weight=\"normal\" dominant-baseline=\"middle\" stroke-width=\"2px\" stroke=\"black\" text-anchor=\"end\" stroke-linecap=\"round\" stroke-linejoin=\"round\" font-style=\"normal\" transform=\"translate(70 330 )scale(1 1 )\" font-size=\"12px\" fill=\"black\"><text dominant-baseline=\"middle\" stroke=\"none\" vector-effect=\"non-scaling-stroke\" x=\"-10\" y=\"-9.458833e+01\">4.000</text><text vector-effect=\"non-scaling-stroke\" x=\"-10\" y=\"-1.915266e+02\" dominant-baseline=\"middle\" stroke=\"none\">5.000</text></g><g font-family=\"sans-serif\" font-style=\"normal\" text-anchor=\"middle\" stroke-linecap=\"round\" stroke-linejoin=\"round\" font-size=\"12px\" dominant-baseline=\"hanging\" stroke-width=\"2px\" font-weight=\"bold\" fill=\"black\" stroke=\"black\" transform=\"translate(70 330 )scale(1 1 )rotate(-90 0 0 )\"><text vector-effect=\"non-scaling-stroke\" x=\"130\" y=\"6\" dominant-baseline=\"hanging\" stroke=\"none\">loss</text></g><g dominant-baseline=\"hanging\" stroke-width=\"0.5px\" stroke-linejoin=\"round\" stroke=\"gray\" transform=\"translate(70 330 )scale(1 -1 )\" font-size=\"12px\" text-anchor=\"middle\" font-weight=\"bold\" font-family=\"sans-serif\" fill=\"black\" stroke-linecap=\"round\" font-style=\"normal\"><path vector-effect=\"non-scaling-stroke\" d=\"M0,9.458833e+01 L884,9.458833e+01 M0,1.915266e+02 L884,1.915266e+02 \"/></g><g font-weight=\"bold\" dominant-baseline=\"hanging\" stroke-width=\"2px\" fill=\"none\" font-family=\"sans-serif\" font-style=\"normal\" stroke-linecap=\"round\" font-size=\"12px\" text-anchor=\"middle\" stroke=\"black\" stroke-linejoin=\"round\"><rect x=\"70\" y=\"70\" width=\"884\" height=\"260\" vector-effect=\"non-scaling-stroke\"/><g dominant-baseline=\"middle\" fill=\"black\" font-size=\"18px\"><text y=\"35\" dominant-baseline=\"middle\" stroke=\"none\" vector-effect=\"non-scaling-stroke\" x=\"512\">loss metrics</text></g><g text-anchor=\"start\" font-weight=\"normal\" font-size=\"12px\" font-family=\"sans-serif\" font-style=\"normal\" dominant-baseline=\"hanging\" stroke-width=\"1px\" stroke=\"hsl(90, 47%, 65%)\" fill=\"hsl(90, 47%, 65%)\" stroke-linecap=\"round\" stroke-linejoin=\"round\"><rect height=\"12\" vector-effect=\"non-scaling-stroke\" x=\"76\" y=\"366\" width=\"12\"/><g fill=\"black\" stroke=\"black\"><text dominant-baseline=\"hanging\" stroke=\"none\" vector-effect=\"non-scaling-stroke\" x=\"92\" y=\"366\">Train: Moving Average Loss</text></g></g></g></svg>"
      ]
     },
     "metadata": {},
     "output_type": "display_data"
    },
    {
     "name": "stdout",
     "output_type": "stream",
     "text": [
      "\t[Step 1000000] median train step: 407 microseconds\n",
      "\n",
      "Results on seeds_train:\n",
      "\tMean Loss (#loss): 3.083\n",
      "\tMean Accuracy (#acc): 28.07%\n",
      "Results on seeds_valid:\n",
      "\tMean Loss (#loss): 3.186\n",
      "\tMean Accuracy (#acc): 26.28%\n",
      "Results on seeds_test:\n",
      "\tMean Loss (#loss): 3.114\n",
      "\tMean Accuracy (#acc): 27.20%\n",
      "\n"
     ]
    }
   ],
   "source": [
    "import \"github.com/gomlx/gomlx/examples/ogbnmag/fnn\"\n",
    "\n",
    "%%\n",
    "must.M(mag.Download(*flagDataDir))\n",
    "ctx := config()\n",
    "ctx.SetParam(\"checkpoint\", path.Join(*flagDataDir, \"fnn-baseline\"))\n",
    "ctx.SetParam(\"num_checkpoints\", 10)\n",
    "err := fnn.Train(ctx)\n",
    "if  err != nil {\n",
    "    fmt.Printf(\"%+v\\n\", err)\n",
    "}\n"
   ]
  },
  {
   "cell_type": "markdown",
   "id": "8906d875-13ed-4ebd-af77-33fbec8c66ed",
   "metadata": {},
   "source": [
    "## GNN (Graph Neural Networks)\n",
    "\n",
    "To use GNNs we need first graphs to run the model on. The issue is, generally the graphs in real life are too large (social networks, relational datases, etc.), including OGNB-MAG.\n",
    "\n",
    "So instead we use sampled sub-graphs to train. For inference we can also use sampled subgraphs, but later we show a work around where we can do inference, a layer of nodes at a time, where we don't need sampling.\n",
    "\n",
    "### Sampling Sub-Graphs\n",
    "\n",
    "We follow the same sampling strategy used in [TensorFlow GNN](https://github.com/tensorflow/gnn) library, describe it its [OGBN-MAG notebook](https://github.com/tensorflow/gnn/blob/main/examples/notebooks/ogbn_mag_e2e.ipynb).\n",
    "\n",
    "The `magSampler` variable loads the definition of the data graph: its node and edge sets. The `magStrategy` defines how to sample from those nodes and edges. See it's specification in [gomlx/examples/ogbnmag/sampling.go](https://github.com/gomlx/gomlx/blob/main/examples/ogbnmag/sampling.go), it's only some 20 lines long.\n",
    "\n",
    "The print out of the sampler and the strategy we are using:"
   ]
  },
  {
   "cell_type": "code",
   "execution_count": 4,
   "id": "e343e5fd-27a4-494f-a7d4-babc14dec453",
   "metadata": {},
   "outputs": [
    {
     "name": "stdout",
     "output_type": "stream",
     "text": [
      "Sampler: 4 node types, 8 edge types, Frozen\n",
      "\tNodeType \"papers\": 736,389 items\n",
      "\tNodeType \"authors\": 1,134,649 items\n",
      "\tNodeType \"institutions\": 8,740 items\n",
      "\tNodeType \"fields_of_study\": 59,965 items\n",
      "\tEdgeType \"citedBy\": [\"papers\"]->[\"papers\"], 5,416,271 edges\n",
      "\tEdgeType \"affiliatedWith\": [\"authors\"]->[\"institutions\"], 1,043,998 edges\n",
      "\tEdgeType \"affiliations\": [\"institutions\"]->[\"authors\"], 1,043,998 edges\n",
      "\tEdgeType \"hasTopic\": [\"papers\"]->[\"fields_of_study\"], 7,505,078 edges\n",
      "\tEdgeType \"topicHasPapers\": [\"fields_of_study\"]->[\"papers\"], 7,505,078 edges\n",
      "\tEdgeType \"writes\": [\"authors\"]->[\"papers\"], 7,145,660 edges\n",
      "\tEdgeType \"writtenBy\": [\"papers\"]->[\"authors\"], 7,145,660 edges\n",
      "\tEdgeType \"cites\": [\"papers\"]->[\"papers\"], 5,416,271 edges\n",
      "\n",
      "Sampling strategy: (13 Rules)\n",
      "> Rule \"seeds\": type=Node, nodeType=\"papers\", Shape=(Int32)[128] (size=128), NodeSet.size=629571\n",
      "  > Rule \"citations\": type=Edge, nodeType=\"papers\", Shape=(Int32)[128 8] (size=1024), SourceRule=\"seeds\", EdgeType=\"cites\"\n",
      "    > Rule \"citationsAuthors\": type=Edge, nodeType=\"authors\", Shape=(Int32)[128 8 8] (size=8192), SourceRule=\"citations\", EdgeType=\"writtenBy\"\n",
      "      > Rule \"papersByCitationAuthors\": type=Edge, nodeType=\"papers\", Shape=(Int32)[128 8 8 8] (size=65536), SourceRule=\"citationsAuthors\", EdgeType=\"writes\"\n",
      "        > Rule \"papersByCitationAuthorsTopics\": type=Edge, nodeType=\"fields_of_study\", Shape=(Int32)[128 8 8 8 8] (size=524288), SourceRule=\"papersByCitationAuthors\", EdgeType=\"hasTopic\"\n",
      "      > Rule \"citationAuthorsInstitutions\": type=Edge, nodeType=\"institutions\", Shape=(Int32)[128 8 8 8] (size=65536), SourceRule=\"citationsAuthors\", EdgeType=\"affiliatedWith\"\n",
      "    > Rule \"citationsTopics\": type=Edge, nodeType=\"fields_of_study\", Shape=(Int32)[128 8 8] (size=8192), SourceRule=\"citations\", EdgeType=\"hasTopic\"\n",
      "  > Rule \"seedsBase\": type=Edge, nodeType=\"papers\", Shape=(Int32)[128 1] (size=128), SourceRule=\"seeds\", EdgeType=Identity\n",
      "    > Rule \"seedsAuthors\": type=Edge, nodeType=\"authors\", Shape=(Int32)[128 1 8] (size=1024), SourceRule=\"seedsBase\", EdgeType=\"writtenBy\"\n",
      "      > Rule \"papersByAuthors\": type=Edge, nodeType=\"papers\", Shape=(Int32)[128 1 8 8] (size=8192), SourceRule=\"seedsAuthors\", EdgeType=\"writes\"\n",
      "        > Rule \"papersByAuthorsTopics\": type=Edge, nodeType=\"fields_of_study\", Shape=(Int32)[128 1 8 8 8] (size=65536), SourceRule=\"papersByAuthors\", EdgeType=\"hasTopic\"\n",
      "      > Rule \"authorsInstitutions\": type=Edge, nodeType=\"institutions\", Shape=(Int32)[128 1 8 8] (size=8192), SourceRule=\"seedsAuthors\", EdgeType=\"affiliatedWith\"\n",
      "    > Rule \"seedsTopics\": type=Edge, nodeType=\"fields_of_study\", Shape=(Int32)[128 1 8] (size=1024), SourceRule=\"seedsBase\", EdgeType=\"hasTopic\"\n"
     ]
    }
   ],
   "source": [
    "%%\n",
    "must.M(mag.Download(*flagDataDir))\n",
    "magSampler := must.M1(mag.NewSampler(*flagDataDir))\n",
    "magStrategy := mag.NewSamplerStrategy(magSampler, mag.BatchSize, mag.TrainSplit)\n",
    "fmt.Printf(\"%s\\n\", magSampler)\n",
    "fmt.Printf(\"\\n%s\\n\", magStrategy)"
   ]
  },
  {
   "cell_type": "markdown",
   "id": "9e6e73ab-9617-4ec0-a398-627d6befddb1",
   "metadata": {},
   "source": [
    "### Training Model\n",
    "\n",
    "We use the vanilla GNN trainer and model defined in the `gnn` package."
   ]
  },
  {
   "cell_type": "code",
   "execution_count": 74,
   "id": "99743b12-d5b4-40c4-be48-25749b384c95",
   "metadata": {},
   "outputs": [],
   "source": [
    "import (\n",
    "    \"github.com/gomlx/gomlx/examples/ogbnmag/gnn\"\n",
    ")\n",
    "\n",
    "func configGnn(baseDir string) *context.Context {\n",
    "    must.M(mag.Download(baseDir))\n",
    "    ctx := context.NewContext(manager)\n",
    "    ctx.RngStateReset()\n",
    "    \n",
    "    stepsPerEpoch := mag.TrainSplit.Shape().Size() / mag.BatchSize + 1\n",
    "    numEpochs := 10  // Taken from TF-GNN OGBN-MAG notebook.\n",
    "    numTrainSteps := numEpochs * stepsPerEpoch\n",
    "    \n",
    "    ctx.SetParams(map[string]any{\n",
    "        \"train_steps\": numTrainSteps,\n",
    "        \n",
    "        optimizers.ParamOptimizer: \"adam\", \n",
    "        optimizers.ParamLearningRate: 0.001,\n",
    "        optimizers.ParamCosineScheduleSteps:  numTrainSteps,\n",
    "        \n",
    "        layers.ParamL2Regularization: 1e-5,\n",
    "        layers.ParamDropoutRate: 0.2,\n",
    "\n",
    "        mag.ParamEmbedDropoutRate: 0.0,\n",
    "        \n",
    "        gnn.ParamEdgeDropoutRate: 0.0,\n",
    "        gnn.ParamNumGraphUpdates: 2,\n",
    "        gnn.ParamReadoutHiddenLayers: 2,\n",
    "        gnn.ParamPoolingType: \"mean|sum\",\n",
    "        gnn.ParamUsePathToRootStates: false,\n",
    "        \n",
    "        \"plots\": true,\n",
    "    })\n",
    "    return ctx\n",
    "}\n",
    "\n",
    "%%\n",
    "mag.BatchSize = 128  // Default is 128.\n",
    "ctx := configGnn(*flagDataDir)\n",
    "// ctx.SetParam(\"checkpoint\", path.Join(*flagDataDir, \"gnn-small_batch\"))\n",
    "// ctx.SetParam(\"checkpoint\", path.Join(*flagDataDir, \"gnn-use_path_to_root\"))\n",
    "ctx.SetParam(\"checkpoint\", path.Join(*flagDataDir, \"gnn-reg_2\"))\n",
    "ctx.SetParam(\"num_checkpoints\", 3)\n",
    "ctx.SetParams(map[string]any{\n",
    "    // \"train_steps\": 100,\n",
    "    // \"plots\": false,\n",
    "    // gnn.ParamEdgeDropoutRate: 0.1,\n",
    "    // mag.ParamEmbedDropoutRate: 0.1,\n",
    "    gnn.ParamNumGraphUpdates: 2,\n",
    "    // gnn.ParamUsePathToRootStates: true,\n",
    "    // gnn.ParamReadoutHiddenLayers: 2,\n",
    "    layers.ParamDropoutRate: 0.25,\n",
    "    layers.ParamL2Regularization: 3e-4,\n",
    "})\n",
    "\n",
    "// err := gnn.Train(ctx, *flagDataDir)\n",
    "// if  err != nil {\n",
    "//     fmt.Printf(\"%+v\\n\", err)\n",
    "// }"
   ]
  },
  {
   "cell_type": "code",
   "execution_count": 14,
   "id": "ee7239da-bb04-4cb6-b41c-662ed80436b5",
   "metadata": {},
   "outputs": [
    {
     "name": "stdout",
     "output_type": "stream",
     "text": [
      "loading: \"checkpoint-n0000171-20240229-012409-step-00049190\"\n",
      "Model in \"/home/janpf/work/ogbnmag/gnn-baseline_5\" trained for 49190 steps.\n",
      "Results on train:\n",
      "\tMean Loss+Regularization (#loss+): 1.542\n",
      "\tMean Loss (#loss): 1.457\n",
      "\tMean Accuracy (#acc): 57.49%\n",
      "\telapsed 1m37.457905276s (train)\n",
      "Results on valid:\n",
      "\tMean Loss+Regularization (#loss+): 1.927\n",
      "\tMean Loss (#loss): 1.841\n",
      "\tMean Accuracy (#acc): 48.60%\n",
      "\telapsed 11.140775268s (valid)\n",
      "Results on test:\n",
      "\tMean Loss+Regularization (#loss+): 1.922\n",
      "\tMean Loss (#loss): 1.837\n",
      "\tMean Accuracy (#acc): 48.10%\n",
      "\telapsed 7.647081029s (test)\n"
     ]
    }
   ],
   "source": [
    "%%\n",
    "ctx := configGnn(*flagDataDir)\n",
    "ctx.SetParam(\"checkpoint\", path.Join(*flagDataDir, \"gnn-baseline_5\"))\n",
    "\n",
    "_, trainEvalDS, validEvalDS, testEvalDS := must.M4(gnn.MakeDatasets(*flagDataDir))\n",
    "_, _, _ = trainEvalDS, validEvalDS, testEvalDS\n",
    "must.M(gnn.Eval(ctx, *flagDataDir, trainEvalDS, validEvalDS, testEvalDS))"
   ]
  },
  {
   "cell_type": "code",
   "execution_count": 122,
   "id": "abfe4a9b-0c47-4f01-a69b-88daf0029b3b",
   "metadata": {},
   "outputs": [
    {
     "name": "stdout",
     "output_type": "stream",
     "text": [
      "loading: \"checkpoint-n0000142-20240305-235708-step-00049190\"\n",
      "Model in \"/home/janpf/work/ogbnmag/gnn-baseline_17\" trained for 49190 steps.\n",
      "Results on valid:\n",
      "\tMean Loss+Regularization (#loss+): 1.920\n",
      "\tMean Loss (#loss): 1.834\n",
      "\tMean Accuracy (#acc): 48.64%\n",
      "\telapsed 9.335698266s (valid)\n",
      "Results on test:\n",
      "\tMean Loss+Regularization (#loss+): 1.917\n",
      "\tMean Loss (#loss): 1.830\n",
      "\tMean Accuracy (#acc): 48.38%\n",
      "\telapsed 5.863748141s (test)\n"
     ]
    }
   ],
   "source": [
    "%%\n",
    "ctx := configGnn(*flagDataDir)\n",
    "ctx.SetParam(\"checkpoint\", path.Join(*flagDataDir, \"gnn-baseline_17\"))\n",
    "\n",
    "_, trainEvalDS, validEvalDS, testEvalDS := must.M4(mag.MakeDatasets(*flagDataDir))\n",
    "_, _, _ = trainEvalDS, validEvalDS, testEvalDS\n",
    "must.M(mag.Eval(ctx, *flagDataDir, validEvalDS, testEvalDS))"
   ]
  },
  {
   "cell_type": "code",
   "execution_count": 7,
   "id": "22fcf866-2682-4296-bf5b-4cc896db3bc2",
   "metadata": {
    "scrolled": true
   },
   "outputs": [
    {
     "data": {
      "text/html": [
       "<p><b>Metric: accuracy</b></p>\n"
      ]
     },
     "metadata": {},
     "output_type": "display_data"
    },
    {
     "data": {
      "text/html": [
       "<div id=\"a327da6a\"></div>"
      ]
     },
     "metadata": {},
     "output_type": "display_data"
    },
    {
     "data": {
      "text/html": [
       "<script charset=\"UTF-8\">\n",
       "(() => {\n",
       "\tconst src=\"https://cdn.plot.ly/plotly-2.29.1.min.js\";\n",
       "\tvar runJSFn = function(module) {\n",
       "\t\t\n",
       "\tif (!module) {\n",
       "\t\tmodule = window.Plotly;\n",
       "\t}\n",
       "\tlet data = JSON.parse('{\"data\":[{\"type\":\"scatter\",\"line\":{\"shape\":\"linear\"},\"mode\":\"lines+markers\",\"name\":\"(81) train:#acc\",\"x\":[200,440,728,1074,1489,1987,2585,3303,4165,4918,5199,6440,7929,9716,9837,11860,14433,14756,17521,19675,21227,24594,25674,29513,31010,34432,37413,39351,44270,45097,49189,49190],\"y\":[0.14023835278308563,0.22449255127698067,0.2655363731811027,0.29292962985906273,0.3255216647526649,0.3434322737229002,0.36635582007430456,0.38735265760335214,0.4004361700268913,0.40937717906320337,0.42101367439097415,0.43278041714119614,0.4516249954333983,0.46329484680838223,0.4642049903823397,0.4772599119082677,0.49074528528156475,0.4952038769257161,0.5047961230742839,0.5100012548227285,0.5178065698705944,0.526537912324424,0.5282978409107154,0.5393688718190641,0.5402933108418272,0.54806526984248,0.5517534956343287,0.5534737146406045,0.5571190540860363,0.5570428116924064,0.5571937080964657,0.5571937080964657]},{\"type\":\"scatter\",\"line\":{\"shape\":\"linear\"},\"mode\":\"lines+markers\",\"name\":\"(81) valid:#acc\",\"x\":[200,440,728,1074,1489,1987,2585,3303,4165,4918,5199,6440,7929,9716,9837,11860,14433,14756,17521,19675,21227,24594,25674,29513,31010,34432,37413,39351,44270,45097,49189,49190],\"y\":[0.09358960526518596,0.2007737480540699,0.25573760384716165,0.2845604895266573,0.32975230814285056,0.33781346814839935,0.3614420690824458,0.36282926678894556,0.3823887544505926,0.393409269563341,0.4010234436412399,0.40557036945698915,0.42249418147628665,0.426655774595786,0.43024707532483547,0.4317884061098352,0.4480340325837328,0.4476024599639329,0.44342545353658347,0.4554324203517317,0.4547542348063318,0.46423341913408034,0.45555572681453166,0.4620755560350807,0.46489619137163024,0.4679171997102298,0.46782471986312985,0.46554355030133016,0.47013671604062945,0.4705991152761294,0.46965890349727957,0.46965890349727957]},{\"type\":\"scatter\",\"line\":{\"shape\":\"linear\"},\"mode\":\"lines+markers\",\"name\":\"(81) test:#acc\",\"x\":[200,440,728,1074,1489,1987,2585,3303,4165,4918,5199,6440,7929,9716,9837,11860,14433,14756,17521,19675,21227,24594,25674,29513,31010,34432,37413,39351,44270,45097,49189,49190],\"y\":[0.12308352607358305,0.2140012875843487,0.2641217005651065,0.2912563485061637,0.3395407615822981,0.34531104699682874,0.3660316173490069,0.36522091609241997,0.3814587853787644,0.39612294046114593,0.40172631679343807,0.4052552516750519,0.4204916664679654,0.42254226376403825,0.42599966618183555,0.43179379575097165,0.44943847015904054,0.4407115095734281,0.43770714609313527,0.4540165478432962,0.45005841817878345,0.46116979422494575,0.4514175349912969,0.4603590929683588,0.4607644435966523,0.4622427811821932,0.46550943036314646,0.4606929111328358,0.46734543026776987,0.46796537828751283,0.4674646510407974,0.4674646510407974]},{\"type\":\"scatter\",\"line\":{\"shape\":\"linear\"},\"mode\":\"lines+markers\",\"name\":\"(81) train:~acc\",\"x\":[200,440,728,1074,1489,1987,2585,3303,4165,4918,5199,6440,7929,9716,9837,11860,14433,14756,17521,19675,21227,24594,25674,29513,31010,34432,37413,39351,44270,45097,49189,49190],\"y\":[0.0923939049243927,0.1741478145122528,0.23376131057739258,0.269742488861084,0.2897125780582428,0.30884259939193726,0.3290688693523407,0.340726763010025,0.3556983768939972,0.3661079704761505,0.3787955641746521,0.38522276282310486,0.3956083655357361,0.4125228524208069,0.4080027937889099,0.4265553653240204,0.43158382177352905,0.43741121888160706,0.4420183300971985,0.4537088871002197,0.4612806737422943,0.4724980294704437,0.48075345158576965,0.4767076075077057,0.48481473326683044,0.48722338676452637,0.4992702007293701,0.4959866404533386,0.5002992749214172,0.5071849226951599,0.4996989667415619,0.4996989667415619]},{\"type\":\"scatter\",\"line\":{\"shape\":\"linear\"},\"mode\":\"lines+markers\",\"name\":\"(82) train:#acc\",\"x\":[200,440,728,1074,1489,1987,2585,3303,4165,4918,5199,6440,7929,9716,9837,11860,14433,14756,17521,19675,21227,24594,25674,29513,31010,34432,37413,39351,44270,45097,49189,49190],\"y\":[0.1822685606547951,0.25599654367815544,0.28944948226649575,0.31455229036915616,0.34870094079936975,0.36860655906958867,0.38850264704060383,0.40389725702105084,0.4332045154557627,0.4418818528807712,0.4471838760044538,0.4630184681314737,0.4741720949662548,0.4895190534506831,0.49146958802104923,0.5053965319241197,0.5141548768923601,0.5178065698705944,0.5278260911001301,0.5378837335264808,0.5438687614264317,0.5510418999604493,0.5577559957494865,0.5674641938716999,0.5712445458891848,0.5775678994108687,0.5818136477061364,0.5827380867288995,0.5877827917740811,0.587922569495736,0.588737410077656,0.588737410077656]},{\"type\":\"scatter\",\"line\":{\"shape\":\"linear\"},\"mode\":\"lines+markers\",\"name\":\"(82) valid:#acc\",\"x\":[200,440,728,1074,1489,1987,2585,3303,4165,4918,5199,6440,7929,9716,9837,11860,14433,14756,17521,19675,21227,24594,25674,29513,31010,34432,37413,39351,44270,45097,49189,49190],\"y\":[0.15276129410132708,0.2910649054393563,0.30011251714730497,0.32112085574685184,0.32036560366220196,0.3508222999737974,0.373449035897594,0.3840996316219424,0.41504955378473773,0.4092079101095886,0.41888746743938715,0.4293685167773856,0.44230028206353367,0.45436890211008185,0.440142418964534,0.4513478937714823,0.4572203640623314,0.4586383883845312,0.47286487153007906,0.47166263351777926,0.4672852540883799,0.4841474128762774,0.4720942061375792,0.4819433098537277,0.48120347107692785,0.4886943386920267,0.49260931888592613,0.49091385502242635,0.4939965165924259,0.49185406680127625,0.49354953066477597,0.49354953066477597]},{\"type\":\"scatter\",\"line\":{\"shape\":\"linear\"},\"mode\":\"lines+markers\",\"name\":\"(82) test:#acc\",\"x\":[200,440,728,1074,1489,1987,2585,3303,4165,4918,5199,6440,7929,9716,9837,11860,14433,14756,17521,19675,21227,24594,25674,29513,31010,34432,37413,39351,44270,45097,49189,49190],\"y\":[0.17172560146879992,0.3113569708385989,0.31352678890769925,0.3209184768354038,0.31989317818736734,0.35079520255609337,0.37428169484250934,0.3763084479839767,0.41140704356327046,0.4009394596914566,0.41212236820143544,0.4237583156489187,0.4326283411621641,0.4454564963399223,0.4349173800042919,0.4465056391425642,0.4541119244617182,0.45249052194854433,0.4693483392546317,0.4634111447578626,0.46429337847826607,0.48141348148501395,0.47099358592241114,0.4746894298862634,0.47461789742244687,0.4821526502777844,0.4871360785903336,0.48475166312978374,0.4869214811988841,0.48484703974820575,0.48592002670545315,0.48592002670545315]},{\"type\":\"scatter\",\"line\":{\"shape\":\"linear\"},\"mode\":\"lines+markers\",\"name\":\"(82) train:~acc\",\"x\":[200,440,728,1074,1489,1987,2585,3303,4165,4918,5199,6440,7929,9716,9837,11860,14433,14756,17521,19675,21227,24594,25674,29513,31010,34432,37413,39351,44270,45097,49189,49190],\"y\":[0.12776021659374237,0.21088115870952606,0.2548511326313019,0.28552547097206116,0.3151654005050659,0.334867000579834,0.34420934319496155,0.36771607398986816,0.3882007896900177,0.3943401277065277,0.4103657603263855,0.41614168882369995,0.4300278425216675,0.43826156854629517,0.4382134675979614,0.4523680806159973,0.4559232294559479,0.46090227365493774,0.4741823673248291,0.4776058495044708,0.4874690771102905,0.4930162727832794,0.5011693239212036,0.5104051828384399,0.5119450092315674,0.5162369608879089,0.530666172504425,0.5322320461273193,0.5366436839103699,0.5359376668930054,0.5436166524887085,0.5436166524887085]}],\"layout\":{\"legend\":{},\"title\":{\"text\":\"accuracy\"},\"xaxis\":{\"showgrid\":true,\"type\":\"log\"},\"yaxis\":{\"showgrid\":true,\"type\":\"log\"}}}');\n",
       "\tmodule.newPlot('a327da6a', data);\n",
       "\n",
       "\t}\n",
       "\t\n",
       "    if (typeof requirejs === \"function\") {\n",
       "        // Use RequireJS to load module.\n",
       "\t\tlet srcWithoutExtension = src.substring(0, src.lastIndexOf(\".js\"));\n",
       "        requirejs.config({\n",
       "            paths: {\n",
       "                'plotly': srcWithoutExtension\n",
       "            }\n",
       "        });\n",
       "        require(['plotly'], function(plotly) {\n",
       "            runJSFn(plotly)\n",
       "        });\n",
       "        return\n",
       "    }\n",
       "\n",
       "\tvar currentScripts = document.head.getElementsByTagName(\"script\");\n",
       "\tfor (const idx in currentScripts) {\n",
       "\t\tlet script = currentScripts[idx];\n",
       "\t\tif (script.src == src) {\n",
       "\t\t\trunJSFn(null);\n",
       "\t\t\treturn;\n",
       "\t\t}\n",
       "\t}\n",
       "\n",
       "\tvar script = document.createElement(\"script\");\n",
       "\n",
       "\tscript.charset = \"utf-8\";\n",
       "\t\n",
       "\tscript.src = src;\n",
       "\tscript.onload = script.onreadystatechange = function () { runJSFn(null); };\n",
       "\tdocument.head.appendChild(script);\t\n",
       "})();\n",
       "</script>"
      ]
     },
     "metadata": {},
     "output_type": "display_data"
    },
    {
     "data": {
      "text/html": [
       "<p><b>Metric: loss</b></p>\n"
      ]
     },
     "metadata": {},
     "output_type": "display_data"
    },
    {
     "data": {
      "text/html": [
       "<div id=\"23dd27d6\"></div>"
      ]
     },
     "metadata": {},
     "output_type": "display_data"
    },
    {
     "data": {
      "text/html": [
       "<script charset=\"UTF-8\">\n",
       "(() => {\n",
       "\tconst src=\"https://cdn.plot.ly/plotly-2.29.1.min.js\";\n",
       "\tvar runJSFn = function(module) {\n",
       "\t\t\n",
       "\tif (!module) {\n",
       "\t\tmodule = window.Plotly;\n",
       "\t}\n",
       "\tlet data = JSON.parse('{\"data\":[{\"type\":\"scatter\",\"line\":{\"shape\":\"linear\"},\"mode\":\"lines+markers\",\"name\":\"(81) train:~loss\",\"x\":[200,440,728,1074,1489,1987,2585,3303,4165,4918,5199,6440,7929,9716,9837,11860,14433,14756,17521,19675,21227,24594,25674,29513,31010,34432,37413,39351,44270,45097,49189,49190],\"y\":[4.9117231369018555,3.9613046646118164,3.3920164108276367,3.084035873413086,2.880213975906372,2.7372663021087646,2.6221933364868164,2.541952133178711,2.4857726097106934,2.422252893447876,2.3696935176849365,2.3284120559692383,2.287005662918091,2.2090892791748047,2.222545862197876,2.1377522945404053,2.1233115196228027,2.0876996517181396,2.059360980987549,2.003631830215454,1.9763233661651611,1.9307252168655396,1.9058812856674194,1.9060614109039307,1.8773444890975952,1.8470205068588257,1.8261984586715698,1.8252078294754028,1.7880278825759888,1.8007527589797974,1.7778609991073608,1.7778609991073608]},{\"type\":\"scatter\",\"line\":{\"shape\":\"linear\"},\"mode\":\"lines+markers\",\"name\":\"(82) train:~loss\",\"x\":[200,440,728,1074,1489,1987,2585,3303,4165,4918,5199,6440,7929,9716,9837,11860,14433,14756,17521,19675,21227,24594,25674,29513,31010,34432,37413,39351,44270,45097,49189,49190],\"y\":[4.474365234375,3.5718984603881836,3.1486268043518066,2.8984782695770264,2.714951276779175,2.599757671356201,2.5068233013153076,2.420628309249878,2.3306710720062256,2.2848548889160156,2.220475196838379,2.1747941970825195,2.1210761070251465,2.087707757949829,2.079582452774048,2.015742063522339,1.980765700340271,1.959712266921997,1.915971279144287,1.8850421905517578,1.8437047004699707,1.814437985420227,1.788384199142456,1.741392970085144,1.7304532527923584,1.7099418640136719,1.6598256826400757,1.6511164903640747,1.6311211585998535,1.6248159408569336,1.5999643802642822,1.5999643802642822]}],\"layout\":{\"legend\":{},\"title\":{\"text\":\"loss\"},\"xaxis\":{\"showgrid\":true,\"type\":\"log\"},\"yaxis\":{\"showgrid\":true,\"type\":\"log\"}}}');\n",
       "\tmodule.newPlot('23dd27d6', data);\n",
       "\n",
       "\t}\n",
       "\t\n",
       "    if (typeof requirejs === \"function\") {\n",
       "        // Use RequireJS to load module.\n",
       "\t\tlet srcWithoutExtension = src.substring(0, src.lastIndexOf(\".js\"));\n",
       "        requirejs.config({\n",
       "            paths: {\n",
       "                'plotly': srcWithoutExtension\n",
       "            }\n",
       "        });\n",
       "        require(['plotly'], function(plotly) {\n",
       "            runJSFn(plotly)\n",
       "        });\n",
       "        return\n",
       "    }\n",
       "\n",
       "\tvar currentScripts = document.head.getElementsByTagName(\"script\");\n",
       "\tfor (const idx in currentScripts) {\n",
       "\t\tlet script = currentScripts[idx];\n",
       "\t\tif (script.src == src) {\n",
       "\t\t\trunJSFn(null);\n",
       "\t\t\treturn;\n",
       "\t\t}\n",
       "\t}\n",
       "\n",
       "\tvar script = document.createElement(\"script\");\n",
       "\n",
       "\tscript.charset = \"utf-8\";\n",
       "\t\n",
       "\tscript.src = src;\n",
       "\tscript.onload = script.onreadystatechange = function () { runJSFn(null); };\n",
       "\tdocument.head.appendChild(script);\t\n",
       "})();\n",
       "</script>"
      ]
     },
     "metadata": {},
     "output_type": "display_data"
    }
   ],
   "source": [
    "import (\n",
    "    stdplots \"github.com/gomlx/gomlx/examples/notebook/gonb/plots\"\n",
    "    \"github.com/gomlx/gomlx/examples/notebook/gonb/plotly\"\n",
    ")\n",
    "\n",
    "func filterPoints(pt *stdplots.Point) bool {\n",
    "    // Remove substrings\n",
    "    for _, s := range []string{\"Eval on \"} {\n",
    "        pt.MetricName = strings.Replace(pt.MetricName, s, \"\", -1)\n",
    "    }\n",
    "    // Replace substrings\n",
    "    for _, pair := range [][2]string{\n",
    "        {\"Accuracy\", \"acc\"}, {\"Loss+Regularization\", \"loss+\"}, {\"Loss\", \"loss\"}, {\" Mean \", \"#\"}, {\" Moving Average \", \"~\"}, \n",
    "        {\"Train\", \"train\"}, {\"Validation\", \"valid\"}, {\"Test\", \"test\"}, {\": layer-wise eval\", \":#acc\"}} {\n",
    "        pt.MetricName = strings.Replace(pt.MetricName, pair[0], pair[1], -1)\n",
    "    }\n",
    "    for _, exclude := range []string{ \"Batch\", \"Train:~loss\", \"Train:~acc\", \"loss+\" } {\n",
    "        if strings.Index(pt.MetricName, exclude) != -1 { return false }\n",
    "    }\n",
    "    return true\n",
    "}\n",
    "\n",
    "func plotVersions(versions ...int) {\n",
    "    plots := plotly.New()\n",
    "    for _, version := range versions {\n",
    "        // checkpoint := fmt.Sprintf(\"gnn-baseline_%d\", version)\n",
    "        checkpoint := fmt.Sprintf(\"small_%d\", version)\n",
    "        prefix := fmt.Sprintf(\"(%d) \", version)\n",
    "        must.M(plots.LoadCheckpointData(path.Join(*flagDataDir, checkpoint),\n",
    "            func (pt *stdplots.Point) bool {\n",
    "                if !filterPoints(pt) { return false }\n",
    "                pt.MetricName = prefix+pt.MetricName\n",
    "                return true\n",
    "            }))\n",
    "    }\n",
    "    plots.Plot()\n",
    "}\n",
    "\n",
    "%%\n",
    "plotVersions(81, 82)"
   ]
  }
 ],
 "metadata": {
  "kernelspec": {
   "display_name": "Go (gonb)",
   "language": "go",
   "name": "gonb"
  },
  "language_info": {
   "codemirror_mode": "",
   "file_extension": ".go",
   "mimetype": "",
   "name": "go",
   "nbconvert_exporter": "",
   "pygments_lexer": "",
   "version": "go1.22.1"
  }
 },
 "nbformat": 4,
 "nbformat_minor": 5
}
