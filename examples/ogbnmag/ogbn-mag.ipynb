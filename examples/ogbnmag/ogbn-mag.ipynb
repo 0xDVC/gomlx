{
 "cells": [
  {
   "cell_type": "markdown",
   "id": "5c7bc97f-89b4-4275-baf0-825ebda0bae7",
   "metadata": {},
   "source": [
    "# Open Graph Benchmark (OGB) Node Prediction for Micrososoft Academic Graph (OGBN-MAG)\n",
    "\n",
    "The [Open Graph Benchmark (OGB)](https://ogb.stanford.edu/) is a collection of realistic, large-scale, and diverse benchmark datasets for machine learning on graphs.\n",
    "\n",
    "This notebook demonstrate a [Graph Neural Network ([GNN])](https://en.wikipedia.org/wiki/Graph_neural_network) based on [TF-GNN](https://github.com/tensorflow/gnn) [OGBNMAG tutorial](https://colab.research.google.com/github/tensorflow/gnn/blob/master/examples/notebooks/ogbn_mag_e2e.ipynb), but using GoMLX.\n",
    "\n",
    "The task [OGBN-MAG is described here](https://ogb.stanford.edu/docs/nodeprop/#ogbn-mag). This demo comes with a library that does the downloading, parsing and converting of the data to tensors for fast use.\n",
    "\n",
    "The model is experimental, but it includes a basic GNN library that can be used for different projects.\n",
    "\n",
    "**EXPERIMENTAL**, it has been used only for OGBN-MAG still.\n",
    "\n",
    "See also [OGBN-MAG Leaderboard](https://ogb.stanford.edu/docs/leader_nodeprop/#ogbn-papers100M) -- take with a grain of salt because different models use different tricks that may be considered leaking, or using extra data from the outside (so more data), and in some cases are very overfit to the task. But still, it's a fun dataset to work with.\n",
    "\n",
    "See the subdirectory `demo` for a command line of the trainer (that can be run on the cloud somewhere) and it will save datapoints that can be plotted in the notebook later.\n"
   ]
  },
  {
   "cell_type": "code",
   "execution_count": 1,
   "id": "b357050e-2756-465f-9e81-c83c49b6a84b",
   "metadata": {},
   "outputs": [
    {
     "name": "stdout",
     "output_type": "stream",
     "text": [
      "\t- Added replace rule for module \"github.com/gomlx/gomlx\" to local directory \"/home/janpf/Projects/gomlx\".\n",
      "\t- Added replace rule for module \"github.com/janpfeifer/gonb\" to local directory \"/home/janpf/Projects/gonb\".\n"
     ]
    }
   ],
   "source": [
    "!*rm -f go.work && go work init && go work use . \"${HOME}/Projects/gomlx\" \"${HOME}/Projects/gonb\"\n",
    "%goworkfix"
   ]
  },
  {
   "cell_type": "markdown",
   "id": "598ddc21-be30-4883-ad85-e0f9199ef0d7",
   "metadata": {},
   "source": [
    "## Downloading Dataset\n",
    "\n",
    "The method `mag.Download()` will download the dataset to the data directory, if not yet downloaded.\n",
    "It then converts the dataset to tensors, which are then available for use.\n",
    "\n",
    "The tensor is then saved for faster access. After saved, the next call to `mag.Download()` will take 1/2s."
   ]
  },
  {
   "cell_type": "code",
   "execution_count": 2,
   "id": "fb544cc2-b70b-4975-acda-fd39ccfb0f94",
   "metadata": {},
   "outputs": [
    {
     "name": "stdout",
     "output_type": "stream",
     "text": [
      "Elapsed: 956.452815ms\n",
      "\n",
      "Sampler: 4 node types, 8 edge types, Frozen\n",
      "\tNodeType \"institutions\": 8,740 items\n",
      "\tNodeType \"fields_of_study\": 59,965 items\n",
      "\tNodeType \"papers\": 736,389 items\n",
      "\tNodeType \"authors\": 1,134,649 items\n",
      "\tEdgeType \"writtenBy\": [\"papers\"]->[\"authors\"], 7,145,660 edges\n",
      "\tEdgeType \"cites\": [\"papers\"]->[\"papers\"], 5,416,271 edges\n",
      "\tEdgeType \"citedBy\": [\"papers\"]->[\"papers\"], 5,416,271 edges\n",
      "\tEdgeType \"affiliatedWith\": [\"authors\"]->[\"institutions\"], 1,043,998 edges\n",
      "\tEdgeType \"affiliations\": [\"institutions\"]->[\"authors\"], 1,043,998 edges\n",
      "\tEdgeType \"hasTopic\": [\"papers\"]->[\"fields_of_study\"], 7,505,078 edges\n",
      "\tEdgeType \"topicHasPapers\": [\"fields_of_study\"]->[\"papers\"], 7,505,078 edges\n",
      "\tEdgeType \"writes\": [\"authors\"]->[\"papers\"], 7,145,660 edges\n",
      "\n",
      "Sampling strategy: (13 Rules)\n",
      "> Rule \"seeds\": type=Node, nodeType=\"papers\", Shape=(Int32)[16] (size=16), NodeSet.size=629571\n",
      "  > Rule \"citations\": type=Edge, nodeType=\"papers\", Shape=(Int32)[16 8] (size=128), SourceRule=\"seeds\", EdgeType=\"cites\"\n",
      "    > Rule \"citationsAuthors\": type=Edge, nodeType=\"authors\", Shape=(Int32)[16 8 8] (size=1024), SourceRule=\"citations\", EdgeType=\"writtenBy\"\n",
      "      > Rule \"papersByCitationAuthors\": type=Edge, nodeType=\"papers\", Shape=(Int32)[16 8 8 8] (size=8192), SourceRule=\"citationsAuthors\", EdgeType=\"writes\"\n",
      "        > Rule \"papersByCitationAuthorsTopics\": type=Edge, nodeType=\"fields_of_study\", Shape=(Int32)[16 8 8 8 8] (size=65536), SourceRule=\"papersByCitationAuthors\", EdgeType=\"hasTopic\"\n",
      "      > Rule \"citationAuthorsInstitutions\": type=Edge, nodeType=\"institutions\", Shape=(Int32)[16 8 8 8] (size=8192), SourceRule=\"citationsAuthors\", EdgeType=\"affiliatedWith\"\n",
      "    > Rule \"citationsTopics\": type=Edge, nodeType=\"fields_of_study\", Shape=(Int32)[16 8 8] (size=1024), SourceRule=\"citations\", EdgeType=\"hasTopic\"\n",
      "  > Rule \"seedsBase\": type=Edge, nodeType=\"papers\", Shape=(Int32)[16 1] (size=16), SourceRule=\"seeds\", EdgeType=Identity\n",
      "    > Rule \"seedsAuthors\": type=Edge, nodeType=\"authors\", Shape=(Int32)[16 1 8] (size=128), SourceRule=\"seedsBase\", EdgeType=\"writtenBy\"\n",
      "      > Rule \"papersByAuthors\": type=Edge, nodeType=\"papers\", Shape=(Int32)[16 1 8 8] (size=1024), SourceRule=\"seedsAuthors\", EdgeType=\"writes\"\n",
      "        > Rule \"papersByAuthorsTopics\": type=Edge, nodeType=\"fields_of_study\", Shape=(Int32)[16 1 8 8 8] (size=8192), SourceRule=\"papersByAuthors\", EdgeType=\"hasTopic\"\n",
      "      > Rule \"authorsInstitutions\": type=Edge, nodeType=\"institutions\", Shape=(Int32)[16 1 8 8] (size=1024), SourceRule=\"seedsAuthors\", EdgeType=\"affiliatedWith\"\n",
      "    > Rule \"seedsTopics\": type=Edge, nodeType=\"fields_of_study\", Shape=(Int32)[16 1 8] (size=128), SourceRule=\"seedsBase\", EdgeType=\"hasTopic\"\n"
     ]
    }
   ],
   "source": [
    "import (\n",
    "    \"flag\"\n",
    "    mag \"github.com/gomlx/gomlx/examples/ogbnmag\"\n",
    "    \"github.com/janpfeifer/must\"\n",
    "    . \"github.com/gomlx/gomlx/graph\"\n",
    "\t\"github.com/gomlx/gomlx/ml/context\"\n",
    ")\n",
    "\n",
    "var (\n",
    "    flagDataDir   = flag.String(\"data\", \"~/work/ogbnmag\", \"Directory to cache downloaded and generated dataset files.\")\n",
    "    \n",
    "    manager = NewManager()\n",
    ")\n",
    "\n",
    "%%\n",
    "start := time.Now()\n",
    "must.M(mag.Download(*flagDataDir))\n",
    "magSampler := must.M1(mag.NewSampler(*flagDataDir))\n",
    "magStrategy := mag.MagStrategy(magSampler, mag.BatchSize, mag.TrainSplit)\n",
    "\n",
    "\n",
    "fmt.Printf(\"Elapsed: %s\\n\", time.Since(start))\n",
    "fmt.Printf(\"\\n%s\\n\", magSampler)\n",
    "fmt.Printf(\"\\n%s\\n\", magStrategy)"
   ]
  },
  {
   "cell_type": "markdown",
   "id": "13ed15ef-e36f-4bf8-a360-ff5bbc047b90",
   "metadata": {},
   "source": [
    "## FNN model, No Graph\n",
    "\n",
    "The first model will only use the paper features, and no relations. It serves as a baseline.\n",
    "\n",
    "In a quick experiment, without much hyperparameter tuning, we got 27.27% on test accuracy, which is inline with the corresponding results in [the leaderboard](https://ogb.stanford.edu/docs/leader_nodeprop/#ogbn-mag) (the Multi Layer Perceptron MLP entry in the bottom)."
   ]
  },
  {
   "cell_type": "code",
   "execution_count": 4,
   "id": "f99dda4b-4bc6-493d-a02c-a936e510828a",
   "metadata": {},
   "outputs": [],
   "source": [
    "func config() (ctx *context.Context) {\n",
    "    ctx = context.NewContext(manager)\n",
    "    ctx.RngStateReset()\n",
    "    ctx.SetParams(map[string]any{\n",
    "        \"train_steps\": 1_000_000, \n",
    "        \"batch_size\": 128,\n",
    "        \"optimizer\": \"adamw\", \n",
    "        optimizers.LearningRateKey: 0.0001,\n",
    "        layers.L2RegularizationKey: 1e-4,\n",
    "        \"normalization\": \"layer\",\n",
    "        \"dropout\": 0.1,\n",
    "        \"hidden_layers\": 2,\n",
    "        \"num_nodes\": 256,\n",
    "        \"plots\": true,\n",
    "    })\n",
    "    return\n",
    "}"
   ]
  },
  {
   "cell_type": "code",
   "execution_count": 6,
   "id": "f2bc12d5-dd9b-47a0-a6eb-0e97ebbb6511",
   "metadata": {},
   "outputs": [
    {
     "data": {
      "text/html": []
     },
     "metadata": {},
     "output_type": "display_data"
    },
    {
     "name": "stdout",
     "output_type": "stream",
     "text": [
      "> papers features input shape: (Float32)[128 129]\n",
      "Training (1000000 steps):  100% [\u001b[32m=\u001b[0m\u001b[32m=\u001b[0m\u001b[32m=\u001b[0m\u001b[32m=\u001b[0m\u001b[32m=\u001b[0m\u001b[32m=\u001b[0m\u001b[32m=\u001b[0m\u001b[32m=\u001b[0m\u001b[32m=\u001b[0m\u001b[32m=\u001b[0m\u001b[32m=\u001b[0m\u001b[32m=\u001b[0m\u001b[32m=\u001b[0m\u001b[32m=\u001b[0m\u001b[32m=\u001b[0m\u001b[32m=\u001b[0m\u001b[32m=\u001b[0m\u001b[32m=\u001b[0m\u001b[32m=\u001b[0m\u001b[32m=\u001b[0m\u001b[32m=\u001b[0m\u001b[32m=\u001b[0m\u001b[32m=\u001b[0m\u001b[32m=\u001b[0m\u001b[32m=\u001b[0m\u001b[32m=\u001b[0m\u001b[32m=\u001b[0m\u001b[32m=\u001b[0m\u001b[32m=\u001b[0m\u001b[32m=\u001b[0m\u001b[32m=\u001b[0m\u001b[32m=\u001b[0m\u001b[32m=\u001b[0m\u001b[32m=\u001b[0m\u001b[32m=\u001b[0m\u001b[32m=\u001b[0m\u001b[32m=\u001b[0m\u001b[32m=\u001b[0m\u001b[32m=\u001b[0m\u001b[32m=\u001b[0m] (2052 steps/s)\u001b[0m [loss=2.793] [~loss=3.078] [~acc=28.30%]           \n"
     ]
    },
    {
     "data": {
      "text/html": [
       "<svg height=\"472\" viewbox=\"0 0 1024 400\" style=\"background-color:#f8f8f8\" preserveAspectRatio=\"xMidYMid meet\" xmlns=\"http://www.w3.org/2000/svg\" width=\"1024\"><defs><marker markerWidth=\"2%\" markerHeight=\"2%\" id=\"circle\" viewBox=\"0 0 10 10 \" refX=\"5\" refY=\"5\" markerUnits=\"userSpaceOnUse\"><circle r=\"3\" fill=\"none\" stroke=\"black\" cx=\"5\" cy=\"5\"/></marker><marker refY=\"5\" markerUnits=\"userSpaceOnUse\" markerWidth=\"2%\" markerHeight=\"2%\" id=\"filled-circle\" viewBox=\"0 0 10 10 \" refX=\"5\"><circle cx=\"5\" cy=\"5\" r=\"3\" fill=\"black\" stroke=\"none\"/></marker><marker markerWidth=\"2%\" markerHeight=\"2%\" id=\"square\" viewBox=\"0 0 10 10 \" refX=\"5\" refY=\"5\" markerUnits=\"userSpaceOnUse\"><rect y=\"2\" width=\"6\" height=\"6\" fill=\"none\" stroke=\"black\" x=\"2\"/></marker><marker refX=\"5\" refY=\"5\" markerUnits=\"userSpaceOnUse\" markerWidth=\"2%\" markerHeight=\"2%\" id=\"filled-square\" viewBox=\"0 0 10 10 \"><rect fill=\"black\" stroke=\"none\" x=\"2\" y=\"2\" width=\"6\" height=\"6\"/></marker></defs><g fill=\"none\" stroke-width=\"2px\" transform=\"translate(70 330 )scale(1 -1 )\" stroke-linejoin=\"round\" marker-start=\"url(#square)\" marker-mid=\"url(#square)\" marker-end=\"url(#square)\" stroke=\"hsl(90, 47%, 65%)\" stroke-linecap=\"round\"><path vector-effect=\"non-scaling-stroke\" d=\"M1.768000e+01,4.642021e+01 L8.604205e+01,2.461840e+01 L1.279667e+02,4.339416e+01 L1.590885e+02,7.031880e+01 L1.842956e+02,7.441706e+01 L2.058775e+02,9.362171e+01 L2.249197e+02,1.185210e+02 L2.421551e+02,1.350571e+02 L2.580360e+02,1.416572e+02 L2.728577e+02,1.554292e+02 L2.868215e+02,1.685818e+02 L3.000697e+02,1.643644e+02 L3.127433e+02,1.745624e+02 L3.249391e+02,1.709169e+02 L3.367242e+02,1.821633e+02 L3.481462e+02,1.730137e+02 L3.592621e+02,1.843315e+02 L3.701096e+02,1.883345e+02 L3.807317e+02,1.956971e+02 L3.911552e+02,1.921945e+02 L4.014103e+02,2.001766e+02 L4.115139e+02,2.034647e+02 L4.214856e+02,1.985801e+02 L4.313350e+02,2.094691e+02 L4.410740e+02,2.093262e+02 L4.507148e+02,1.984848e+02 L4.602692e+02,2.057283e+02 L4.697471e+02,2.177610e+02 L4.791566e+02,2.228123e+02 L4.885037e+02,2.072532e+02 L4.977974e+02,2.206202e+02 L5.070430e+02,2.240275e+02 L5.162428e+02,2.218592e+02 L5.254041e+02,2.143537e+02 L5.345295e+02,2.088973e+02 L5.436214e+02,2.125190e+02 L5.526839e+02,2.137580e+02 L5.617192e+02,2.267914e+02 L5.707319e+02,2.197624e+02 L5.797236e+02,2.239798e+02 L5.886968e+02,2.285308e+02 L5.976522e+02,2.124237e+02 L6.065921e+02,2.238607e+02 L6.155178e+02,2.251712e+02 L6.244301e+02,2.185949e+02 L6.333308e+02,2.258383e+02 L6.422211e+02,2.360840e+02 L6.511014e+02,2.178324e+02 L6.599729e+02,2.266723e+02 L6.688363e+02,2.273156e+02 L6.776927e+02,2.255763e+02 L6.865421e+02,2.308182e+02 L6.953852e+02,2.309612e+02 L7.042229e+02,2.357504e+02 L7.130556e+02,2.355122e+02 L7.218836e+02,2.256716e+02 L7.307073e+02,2.356313e+02 L7.395271e+02,2.384667e+02 L7.483437e+02,2.358219e+02 L7.571570e+02,2.334392e+02 L7.659676e+02,2.361079e+02 L7.747756e+02,2.333677e+02 L7.835814e+02,2.408256e+02 L7.923849e+02,2.381331e+02 L8.011865e+02,2.429224e+02 L8.099864e+02,2.345114e+02 L8.187845e+02,2.349880e+02 L8.275813e+02,2.367750e+02 L8.363766e+02,2.459246e+02 L8.451708e+02,2.370133e+02 L8.539638e+02,2.372515e+02 L8.627558e+02,2.315569e+02 L8.663200e+02,2.438040e+02 \"/></g><g stroke=\"hsl(301, 88%, 65%)\" stroke-width=\"2px\" stroke-linecap=\"round\" marker-start=\"url(#square)\" marker-mid=\"url(#square)\" marker-end=\"url(#square)\" fill=\"none\" transform=\"translate(70 330 )scale(1 -1 )\" stroke-linejoin=\"round\"><path vector-effect=\"non-scaling-stroke\" d=\"M1.768000e+01,3.459487e+01 L8.604205e+01,6.310184e+01 L1.279667e+02,7.803943e+01 L1.590885e+02,9.598168e+01 L1.842956e+02,1.014593e+02 L2.058775e+02,1.128113e+02 L2.249197e+02,1.206078e+02 L2.421551e+02,1.248632e+02 L2.580360e+02,1.323614e+02 L2.728577e+02,1.375977e+02 L2.868215e+02,1.460070e+02 L3.000697e+02,1.515639e+02 L3.127433e+02,1.556352e+02 L3.249391e+02,1.629572e+02 L3.367242e+02,1.665237e+02 L3.481462e+02,1.698093e+02 L3.592621e+02,1.743663e+02 L3.701096e+02,1.784059e+02 L3.807317e+02,1.802804e+02 L3.911552e+02,1.827264e+02 L4.014103e+02,1.891499e+02 L4.115139e+02,1.898563e+02 L4.214856e+02,1.932577e+02 L4.313350e+02,1.945720e+02 L4.410740e+02,1.978592e+02 L4.507148e+02,1.977671e+02 L4.602692e+02,2.013511e+02 L4.697471e+02,2.023939e+02 L4.791566e+02,2.050446e+02 L4.885037e+02,2.077080e+02 L4.977974e+02,2.081795e+02 L5.070430e+02,2.101445e+02 L5.162428e+02,2.121254e+02 L5.254041e+02,2.135364e+02 L5.345295e+02,2.135904e+02 L5.436214e+02,2.156030e+02 L5.526839e+02,2.180204e+02 L5.617192e+02,2.186727e+02 L5.707319e+02,2.205457e+02 L5.797236e+02,2.218441e+02 L5.886968e+02,2.226837e+02 L5.976522e+02,2.233123e+02 L6.065921e+02,2.249995e+02 L6.155178e+02,2.262296e+02 L6.244301e+02,2.272502e+02 L6.333308e+02,2.290216e+02 L6.422211e+02,2.297629e+02 L6.511014e+02,2.303168e+02 L6.599729e+02,2.323247e+02 L6.688363e+02,2.336342e+02 L6.776927e+02,2.353357e+02 L6.865421e+02,2.352389e+02 L6.953852e+02,2.371737e+02 L7.042229e+02,2.383372e+02 L7.130556e+02,2.385895e+02 L7.218836e+02,2.387102e+02 L7.307073e+02,2.407609e+02 L7.395271e+02,2.416815e+02 L7.483437e+02,2.422370e+02 L7.571570e+02,2.435354e+02 L7.659676e+02,2.436782e+02 L7.747756e+02,2.449338e+02 L7.835814e+02,2.469559e+02 L7.923849e+02,2.468654e+02 L8.011865e+02,2.477924e+02 L8.099864e+02,2.481844e+02 L8.187845e+02,2.499288e+02 L8.275813e+02,2.495669e+02 L8.363766e+02,2.504891e+02 L8.451708e+02,2.513351e+02 L8.539638e+02,2.521494e+02 L8.627558e+02,2.520923e+02 L8.663200e+02,2.524843e+02 \"/></g><g marker-start=\"url(#square)\" marker-end=\"url(#square)\" stroke-width=\"2px\" stroke-linecap=\"round\" fill=\"none\" marker-mid=\"url(#square)\" stroke=\"hsl(152, 76%, 65%)\" stroke-linejoin=\"round\" transform=\"translate(70 330 )scale(1 -1 )\"><path vector-effect=\"non-scaling-stroke\" d=\"M1.768000e+01,3.580298e+01 L8.604205e+01,2.642299e+01 L1.279667e+02,3.714298e+01 L1.590885e+02,5.003470e+01 L1.842956e+02,5.373125e+01 L2.058775e+02,7.318434e+01 L2.249197e+02,9.719651e+01 L2.421551e+02,1.108583e+02 L2.580360e+02,1.222714e+02 L2.728577e+02,1.327296e+02 L2.868215e+02,1.466225e+02 L3.000697e+02,1.430183e+02 L3.127433e+02,1.523675e+02 L3.249391e+02,1.538615e+02 L3.367242e+02,1.644429e+02 L3.481462e+02,1.545700e+02 L3.592621e+02,1.682011e+02 L3.701096e+02,1.716974e+02 L3.807317e+02,1.822788e+02 L3.911552e+02,1.803689e+02 L4.014103e+02,1.859137e+02 L4.115139e+02,1.878852e+02 L4.214856e+02,1.829565e+02 L4.313350e+02,1.927523e+02 L4.410740e+02,1.937843e+02 L4.507148e+02,1.853130e+02 L4.602692e+02,1.916280e+02 L4.697471e+02,2.003765e+02 L4.791566e+02,2.052898e+02 L4.885037e+02,1.959252e+02 L4.977974e+02,2.042732e+02 L5.070430e+02,2.081084e+02 L5.162428e+02,2.072305e+02 L5.254041e+02,2.029024e+02 L5.345295e+02,2.001916e+02 L5.436214e+02,2.002070e+02 L5.526839e+02,2.029024e+02 L5.617192e+02,2.128677e+02 L5.707319e+02,2.082470e+02 L5.797236e+02,2.112659e+02 L5.886968e+02,2.135454e+02 L5.976522e+02,2.028254e+02 L6.065921e+02,2.123132e+02 L6.155178e+02,2.149624e+02 L6.244301e+02,2.061215e+02 L6.333308e+02,2.151011e+02 L6.422211e+02,2.249893e+02 L6.511014e+02,2.098951e+02 L6.599729e+02,2.147160e+02 L6.688363e+02,2.195523e+02 L6.776927e+02,2.146698e+02 L6.865421e+02,2.199220e+02 L6.953852e+02,2.214006e+02 L7.042229e+02,2.234183e+02 L7.130556e+02,2.267144e+02 L7.218836e+02,2.170880e+02 L7.307073e+02,2.247429e+02 L7.395271e+02,2.275461e+02 L7.483437e+02,2.255746e+02 L7.571570e+02,2.249893e+02 L7.659676e+02,2.272535e+02 L7.747756e+02,2.239574e+02 L7.835814e+02,2.315045e+02 L7.923849e+02,2.282546e+02 L8.011865e+02,2.333836e+02 L8.099864e+02,2.254360e+02 L8.187845e+02,2.258518e+02 L8.275813e+02,2.281006e+02 L8.363766e+02,2.354013e+02 L8.451708e+02,2.281622e+02 L8.539638e+02,2.304263e+02 L8.627558e+02,2.238650e+02 L8.663200e+02,2.346003e+02 \"/></g><g marker-mid=\"url(#square)\" stroke-width=\"2px\" stroke-linejoin=\"round\" marker-start=\"url(#square)\" fill=\"none\" transform=\"translate(70 330 )scale(1 -1 )\" marker-end=\"url(#square)\" stroke=\"hsl(3, 64%, 65%)\" stroke-linecap=\"round\"><path vector-effect=\"non-scaling-stroke\" d=\"M1.768000e+01,5.200000e+00 L8.604205e+01,3.838849e+01 L1.279667e+02,6.080001e+01 L1.590885e+02,8.367747e+01 L1.842956e+02,9.492789e+01 L2.058775e+02,1.052721e+02 L2.249197e+02,1.180145e+02 L2.421551e+02,1.230898e+02 L2.580360e+02,1.287203e+02 L2.728577e+02,1.340635e+02 L2.868215e+02,1.477499e+02 L3.000697e+02,1.490760e+02 L3.127433e+02,1.561265e+02 L3.249391e+02,1.600313e+02 L3.367242e+02,1.663487e+02 L3.481462e+02,1.727745e+02 L3.592621e+02,1.767462e+02 L3.701096e+02,1.784191e+02 L3.807317e+02,1.772332e+02 L3.911552e+02,1.815951e+02 L4.014103e+02,1.855351e+02 L4.115139e+02,1.873479e+02 L4.214856e+02,1.919944e+02 L4.313350e+02,1.913205e+02 L4.410740e+02,1.941512e+02 L4.507148e+02,1.931322e+02 L4.602692e+02,2.022366e+02 L4.697471e+02,2.007078e+02 L4.791566e+02,2.046918e+02 L4.885037e+02,2.077709e+02 L4.977974e+02,2.093417e+02 L5.070430e+02,2.089939e+02 L5.162428e+02,2.102897e+02 L5.254041e+02,2.147209e+02 L5.345295e+02,2.212229e+02 L5.436214e+02,2.138131e+02 L5.526839e+02,2.203242e+02 L5.617192e+02,2.184933e+02 L5.707319e+02,2.201078e+02 L5.797236e+02,2.180638e+02 L5.886968e+02,2.242621e+02 L5.976522e+02,2.278144e+02 L6.065921e+02,2.242127e+02 L6.155178e+02,2.271707e+02 L6.244301e+02,2.287875e+02 L6.333308e+02,2.274278e+02 L6.422211e+02,2.298579e+02 L6.511014e+02,2.320447e+02 L6.599729e+02,2.297571e+02 L6.688363e+02,2.319590e+02 L6.776927e+02,2.369973e+02 L6.865421e+02,2.341152e+02 L6.953852e+02,2.368144e+02 L7.042229e+02,2.361942e+02 L7.130556e+02,2.352828e+02 L7.218836e+02,2.411386e+02 L7.307073e+02,2.384819e+02 L7.395271e+02,2.380734e+02 L7.483437e+02,2.477547e+02 L7.571570e+02,2.445915e+02 L7.659676e+02,2.441731e+02 L7.747756e+02,2.486595e+02 L7.835814e+02,2.451553e+02 L7.923849e+02,2.483953e+02 L8.011865e+02,2.446662e+02 L8.099864e+02,2.460193e+02 L8.187845e+02,2.466727e+02 L8.275813e+02,2.527465e+02 L8.363766e+02,2.502623e+02 L8.451708e+02,2.490425e+02 L8.539638e+02,2.507104e+02 L8.627558e+02,2.538232e+02 L8.663200e+02,2.548000e+02 \"/></g><g stroke=\"black\" transform=\"translate(70 330 )scale(1 -1 )\" fill=\"none\" stroke-width=\"2px\" stroke-linecap=\"round\" stroke-linejoin=\"round\"><path vector-effect=\"non-scaling-stroke\" d=\"M1.768000e+01,0 L1.768000e+01,-6 M8.154652e+01,0 L8.154652e+01,-6 M1.189060e+02,0 L1.189060e+02,-6 M1.454130e+02,0 L1.454130e+02,-6 M1.659735e+02,0 L1.659735e+02,-6 M1.827726e+02,0 L1.827726e+02,-6 M1.969760e+02,0 L1.969760e+02,-6 M2.092796e+02,0 L2.092796e+02,-6 M2.201321e+02,0 L2.201321e+02,-6 M2.298400e+02,0 L2.298400e+02,-6 M2.386219e+02,0 L2.386219e+02,-6 M2.937065e+02,0 L2.937065e+02,-6 M3.310660e+02,0 L3.310660e+02,-6 M3.575730e+02,0 L3.575730e+02,-6 M3.781335e+02,0 L3.781335e+02,-6 M3.949326e+02,0 L3.949326e+02,-6 M4.091360e+02,0 L4.091360e+02,-6 M4.214396e+02,0 L4.214396e+02,-6 M4.322921e+02,0 L4.322921e+02,-6 M442,0 L442,-6 M5.058665e+02,0 L5.058665e+02,-6 M5.432260e+02,0 L5.432260e+02,-6 M5.697330e+02,0 L5.697330e+02,-6 M5.902935e+02,0 L5.902935e+02,-6 M6.070926e+02,0 L6.070926e+02,-6 M6.212960e+02,0 L6.212960e+02,-6 M6.335996e+02,0 L6.335996e+02,-6 M6.444521e+02,0 L6.444521e+02,-6 M6.541600e+02,0 L6.541600e+02,-6 M7.180265e+02,0 L7.180265e+02,-6 M7.553860e+02,0 L7.553860e+02,-6 M7.818930e+02,0 L7.818930e+02,-6 M8.024535e+02,0 L8.024535e+02,-6 M8.192526e+02,0 L8.192526e+02,-6 M8.334560e+02,0 L8.334560e+02,-6 M8.457596e+02,0 L8.457596e+02,-6 M8.566121e+02,0 L8.566121e+02,-6 M8.663200e+02,0 L8.663200e+02,-6 \"/></g><g font-family=\"sans-serif\" font-size=\"12px\" text-anchor=\"middle\" stroke=\"black\" fill=\"black\" transform=\"translate(70 330 )scale(1 1 )\" font-style=\"normal\" stroke-linejoin=\"round\" font-weight=\"normal\" stroke-width=\"2px\" stroke-linecap=\"round\" dominant-baseline=\"hanging\"><text y=\"10\" dominant-baseline=\"hanging\" stroke=\"none\" vector-effect=\"non-scaling-stroke\" x=\"1.768000e+01\">100</text><text stroke=\"none\" vector-effect=\"non-scaling-stroke\" x=\"8.154652e+01\" y=\"10\" dominant-baseline=\"hanging\">200</text><text y=\"10\" dominant-baseline=\"hanging\" stroke=\"none\" vector-effect=\"non-scaling-stroke\" x=\"1.189060e+02\">300</text><text x=\"1.454130e+02\" y=\"10\" dominant-baseline=\"hanging\" stroke=\"none\" vector-effect=\"non-scaling-stroke\">400</text><text stroke=\"none\" vector-effect=\"non-scaling-stroke\" x=\"1.659735e+02\" y=\"10\" dominant-baseline=\"hanging\">500</text><text stroke=\"none\" vector-effect=\"non-scaling-stroke\" x=\"1.827726e+02\" y=\"10\" dominant-baseline=\"hanging\">600</text><text dominant-baseline=\"hanging\" stroke=\"none\" vector-effect=\"non-scaling-stroke\" x=\"1.969760e+02\" y=\"10\">700</text><text vector-effect=\"non-scaling-stroke\" x=\"2.092796e+02\" y=\"10\" dominant-baseline=\"hanging\" stroke=\"none\">800</text><text vector-effect=\"non-scaling-stroke\" x=\"2.298400e+02\" y=\"10\" dominant-baseline=\"hanging\" stroke=\"none\">1000</text><text x=\"2.937065e+02\" y=\"10\" dominant-baseline=\"hanging\" stroke=\"none\" vector-effect=\"non-scaling-stroke\">2000</text><text dominant-baseline=\"hanging\" stroke=\"none\" vector-effect=\"non-scaling-stroke\" x=\"3.310660e+02\" y=\"10\">3000</text><text x=\"3.575730e+02\" y=\"10\" dominant-baseline=\"hanging\" stroke=\"none\" vector-effect=\"non-scaling-stroke\">4000</text><text y=\"10\" dominant-baseline=\"hanging\" stroke=\"none\" vector-effect=\"non-scaling-stroke\" x=\"3.781335e+02\">5000</text><text stroke=\"none\" vector-effect=\"non-scaling-stroke\" x=\"3.949326e+02\" y=\"10\" dominant-baseline=\"hanging\">6000</text><text x=\"4.091360e+02\" y=\"10\" dominant-baseline=\"hanging\" stroke=\"none\" vector-effect=\"non-scaling-stroke\">7000</text><text vector-effect=\"non-scaling-stroke\" x=\"4.214396e+02\" y=\"10\" dominant-baseline=\"hanging\" stroke=\"none\">8000</text><text y=\"10\" dominant-baseline=\"hanging\" stroke=\"none\" vector-effect=\"non-scaling-stroke\" x=\"442\">10000</text><text dominant-baseline=\"hanging\" stroke=\"none\" vector-effect=\"non-scaling-stroke\" x=\"5.058665e+02\" y=\"10\">20000</text><text x=\"5.432260e+02\" y=\"10\" dominant-baseline=\"hanging\" stroke=\"none\" vector-effect=\"non-scaling-stroke\">30000</text><text y=\"10\" dominant-baseline=\"hanging\" stroke=\"none\" vector-effect=\"non-scaling-stroke\" x=\"5.697330e+02\">40000</text><text vector-effect=\"non-scaling-stroke\" x=\"5.902935e+02\" y=\"10\" dominant-baseline=\"hanging\" stroke=\"none\">50000</text><text stroke=\"none\" vector-effect=\"non-scaling-stroke\" x=\"6.070926e+02\" y=\"10\" dominant-baseline=\"hanging\">60000</text><text vector-effect=\"non-scaling-stroke\" x=\"6.212960e+02\" y=\"10\" dominant-baseline=\"hanging\" stroke=\"none\">70000</text><text stroke=\"none\" vector-effect=\"non-scaling-stroke\" x=\"6.335996e+02\" y=\"10\" dominant-baseline=\"hanging\">80000</text><text y=\"10\" dominant-baseline=\"hanging\" stroke=\"none\" vector-effect=\"non-scaling-stroke\" x=\"6.541600e+02\">100000</text><text stroke=\"none\" vector-effect=\"non-scaling-stroke\" x=\"7.180265e+02\" y=\"10\" dominant-baseline=\"hanging\">200000</text><text stroke=\"none\" vector-effect=\"non-scaling-stroke\" x=\"7.553860e+02\" y=\"10\" dominant-baseline=\"hanging\">300000</text><text vector-effect=\"non-scaling-stroke\" x=\"7.818930e+02\" y=\"10\" dominant-baseline=\"hanging\" stroke=\"none\">400000</text><text x=\"8.024535e+02\" y=\"10\" dominant-baseline=\"hanging\" stroke=\"none\" vector-effect=\"non-scaling-stroke\">500000</text><text stroke=\"none\" vector-effect=\"non-scaling-stroke\" x=\"8.192526e+02\" y=\"10\" dominant-baseline=\"hanging\">600000</text><text vector-effect=\"non-scaling-stroke\" x=\"8.334560e+02\" y=\"10\" dominant-baseline=\"hanging\" stroke=\"none\">700000</text><text stroke=\"none\" vector-effect=\"non-scaling-stroke\" x=\"8.457596e+02\" y=\"10\" dominant-baseline=\"hanging\">800000</text><text dominant-baseline=\"hanging\" stroke=\"none\" vector-effect=\"non-scaling-stroke\" x=\"8.663200e+02\" y=\"10\">1000000</text></g><g font-weight=\"bold\" text-anchor=\"middle\" stroke=\"black\" transform=\"translate(70 330 )scale(1 1 )rotate(0 0 0 )\" fill=\"black\" stroke-width=\"2px\" font-family=\"sans-serif\" font-size=\"12px\" dominant-baseline=\"baseline\" font-style=\"normal\" stroke-linecap=\"round\" stroke-linejoin=\"round\"><text vector-effect=\"non-scaling-stroke\" x=\"442\" y=\"-6\" dominant-baseline=\"baseline\" stroke=\"none\">Steps</text></g><g dominant-baseline=\"baseline\" fill=\"black\" transform=\"translate(70 330 )scale(1 -1 )\" font-size=\"12px\" font-weight=\"bold\" text-anchor=\"middle\" stroke-width=\"2px\" stroke-linejoin=\"round\" font-style=\"normal\" stroke=\"black\" stroke-linecap=\"round\" font-family=\"sans-serif\"><path vector-effect=\"non-scaling-stroke\" d=\"M0,7.188900e+01 L-6,7.188900e+01 M0,1.718175e+02 L-6,1.718175e+02 \"/></g><g stroke=\"black\" stroke-width=\"2px\" stroke-linejoin=\"round\" font-family=\"sans-serif\" font-weight=\"normal\" text-anchor=\"end\" fill=\"black\" stroke-linecap=\"round\" font-size=\"12px\" dominant-baseline=\"middle\" transform=\"translate(70 330 )scale(1 1 )\" font-style=\"normal\"><text vector-effect=\"non-scaling-stroke\" x=\"-10\" y=\"-7.188900e+01\" dominant-baseline=\"middle\" stroke=\"none\">0.100</text><text stroke=\"none\" vector-effect=\"non-scaling-stroke\" x=\"-10\" y=\"-1.718175e+02\" dominant-baseline=\"middle\">0.200</text></g><g stroke-linejoin=\"round\" font-family=\"sans-serif\" font-size=\"12px\" font-weight=\"bold\" fill=\"black\" stroke-width=\"2px\" stroke=\"black\" stroke-linecap=\"round\" text-anchor=\"middle\" dominant-baseline=\"hanging\" transform=\"translate(70 330 )scale(1 1 )rotate(-90 0 0 )\" font-style=\"normal\"><text x=\"130\" y=\"6\" dominant-baseline=\"hanging\" stroke=\"none\" vector-effect=\"non-scaling-stroke\">accuracy</text></g><g stroke-width=\"0.5px\" fill=\"black\" transform=\"translate(70 330 )scale(1 -1 )\" font-style=\"normal\" stroke-linejoin=\"round\" font-size=\"12px\" text-anchor=\"middle\" stroke=\"gray\" font-family=\"sans-serif\" font-weight=\"bold\" stroke-linecap=\"round\" dominant-baseline=\"hanging\"><path d=\"M0,7.188900e+01 L884,7.188900e+01 M0,1.718175e+02 L884,1.718175e+02 \" vector-effect=\"non-scaling-stroke\"/></g><g stroke-linejoin=\"round\" font-family=\"sans-serif\" font-size=\"12px\" font-weight=\"bold\" text-anchor=\"middle\" stroke=\"black\" stroke-linecap=\"round\" dominant-baseline=\"hanging\" fill=\"none\" font-style=\"normal\" stroke-width=\"2px\"><rect y=\"70\" width=\"884\" height=\"260\" vector-effect=\"non-scaling-stroke\" x=\"70\"/><g fill=\"black\" font-size=\"18px\" dominant-baseline=\"middle\"><text x=\"512\" y=\"35\" dominant-baseline=\"middle\" stroke=\"none\" vector-effect=\"non-scaling-stroke\">accuracy metrics</text></g><g dominant-baseline=\"hanging\" fill=\"hsl(90, 47%, 65%)\" stroke=\"hsl(90, 47%, 65%)\" stroke-width=\"1px\" font-family=\"sans-serif\" font-weight=\"normal\" text-anchor=\"start\" font-style=\"normal\" stroke-linecap=\"round\" stroke-linejoin=\"round\" font-size=\"12px\"><rect vector-effect=\"non-scaling-stroke\" x=\"76\" y=\"366\" width=\"12\" height=\"12\"/><g stroke=\"black\" fill=\"black\"><text dominant-baseline=\"hanging\" stroke=\"none\" vector-effect=\"non-scaling-stroke\" x=\"92\" y=\"366\">Eval on seeds_test: Mean Accuracy</text></g><g fill=\"hsl(301, 88%, 65%)\" stroke-linejoin=\"round\" font-size=\"12px\" dominant-baseline=\"hanging\" stroke=\"hsl(301, 88%, 65%)\" font-style=\"normal\" stroke-width=\"1px\" stroke-linecap=\"round\" font-family=\"sans-serif\" font-weight=\"normal\" text-anchor=\"start\"><rect vector-effect=\"non-scaling-stroke\" x=\"76\" y=\"384\" width=\"12\" height=\"12\"/><g fill=\"black\" stroke=\"black\"><text vector-effect=\"non-scaling-stroke\" x=\"92\" y=\"384\" dominant-baseline=\"hanging\" stroke=\"none\">Eval on seeds_train: Mean Accuracy</text></g><g stroke-linecap=\"round\" stroke-linejoin=\"round\" font-family=\"sans-serif\" font-size=\"12px\" font-weight=\"normal\" dominant-baseline=\"hanging\" stroke=\"hsl(152, 76%, 65%)\" stroke-width=\"1px\" text-anchor=\"start\" fill=\"hsl(152, 76%, 65%)\" font-style=\"normal\"><rect width=\"12\" height=\"12\" vector-effect=\"non-scaling-stroke\" x=\"76\" y=\"402\"/><g fill=\"black\" stroke=\"black\"><text vector-effect=\"non-scaling-stroke\" x=\"92\" y=\"402\" dominant-baseline=\"hanging\" stroke=\"none\">Eval on seeds_valid: Mean Accuracy</text></g><g font-weight=\"normal\" text-anchor=\"start\" font-family=\"sans-serif\" font-size=\"12px\" dominant-baseline=\"hanging\" stroke=\"hsl(3, 64%, 65%)\" stroke-width=\"1px\" stroke-linecap=\"round\" stroke-linejoin=\"round\" fill=\"hsl(3, 64%, 65%)\" font-style=\"normal\"><rect width=\"12\" height=\"12\" vector-effect=\"non-scaling-stroke\" x=\"76\" y=\"420\"/><g fill=\"black\" stroke=\"black\"><text y=\"420\" dominant-baseline=\"hanging\" stroke=\"none\" vector-effect=\"non-scaling-stroke\" x=\"92\">Train: Moving Average Accuracy</text></g></g></g></g></g></g></svg>"
      ]
     },
     "metadata": {},
     "output_type": "display_data"
    },
    {
     "data": {
      "text/html": [
       "<svg xmlns=\"http://www.w3.org/2000/svg\" width=\"1024\" height=\"454\" viewbox=\"0 0 1024 400\" style=\"background-color:#f8f8f8\" preserveAspectRatio=\"xMidYMid meet\"><defs><marker id=\"circle\" viewBox=\"0 0 10 10 \" refX=\"5\" refY=\"5\" markerUnits=\"userSpaceOnUse\" markerWidth=\"2%\" markerHeight=\"2%\"><circle cx=\"5\" cy=\"5\" r=\"3\" fill=\"none\" stroke=\"black\"/></marker><marker markerHeight=\"2%\" id=\"filled-circle\" viewBox=\"0 0 10 10 \" refX=\"5\" refY=\"5\" markerUnits=\"userSpaceOnUse\" markerWidth=\"2%\"><circle cy=\"5\" r=\"3\" fill=\"black\" stroke=\"none\" cx=\"5\"/></marker><marker refX=\"5\" refY=\"5\" markerUnits=\"userSpaceOnUse\" markerWidth=\"2%\" markerHeight=\"2%\" id=\"square\" viewBox=\"0 0 10 10 \"><rect y=\"2\" width=\"6\" height=\"6\" fill=\"none\" stroke=\"black\" x=\"2\"/></marker><marker viewBox=\"0 0 10 10 \" refX=\"5\" refY=\"5\" markerUnits=\"userSpaceOnUse\" markerWidth=\"2%\" markerHeight=\"2%\" id=\"filled-square\"><rect x=\"2\" y=\"2\" width=\"6\" height=\"6\" fill=\"black\" stroke=\"none\"/></marker></defs><g transform=\"translate(70 330 )scale(1 -1 )\" marker-end=\"url(#square)\" fill=\"none\" stroke-width=\"2px\" stroke-linecap=\"round\" stroke-linejoin=\"round\" marker-start=\"url(#square)\" marker-mid=\"url(#square)\" stroke=\"hsl(90, 47%, 65%)\"><path d=\"M1.768000e+01,2.471893e+02 L8.604205e+01,2.138338e+02 L1.279667e+02,1.967233e+02 L1.590885e+02,1.755666e+02 L1.842956e+02,1.555239e+02 L2.058775e+02,1.375292e+02 L2.249197e+02,1.215023e+02 L2.421551e+02,1.107117e+02 L2.580360e+02,9.945654e+01 L2.728577e+02,9.112112e+01 L2.868215e+02,8.174477e+01 L3.000697e+02,7.715769e+01 L3.127433e+02,7.264858e+01 L3.249391e+02,6.781227e+01 L3.367242e+02,6.351467e+01 L3.481462e+02,6.513197e+01 L3.592621e+02,5.645136e+01 L3.701096e+02,5.501699e+01 L3.807317e+02,5.059189e+01 L3.911552e+02,4.788816e+01 L4.014103e+02,4.747247e+01 L4.115139e+02,4.323816e+01 L4.214856e+02,4.175481e+01 L4.313350e+02,3.794835e+01 L4.410740e+02,3.620850e+01 L4.507148e+02,3.568142e+01 L4.602692e+02,3.489394e+01 L4.697471e+02,2.980806e+01 L4.791566e+02,2.845564e+01 L4.885037e+02,2.996045e+01 L4.977974e+02,2.758061e+01 L5.070430e+02,2.442668e+01 L5.162428e+02,2.411016e+01 L5.254041e+02,2.557521e+01 L5.345295e+02,2.409235e+01 L5.436214e+02,2.376144e+01 L5.526839e+02,2.260846e+01 L5.617192e+02,1.892723e+01 L5.707319e+02,1.911039e+01 L5.797236e+02,1.861303e+01 L5.886968e+02,1.816060e+01 L5.976522e+02,1.840698e+01 L6.065921e+02,1.678321e+01 L6.155178e+02,1.576176e+01 L6.244301e+02,1.692495e+01 L6.333308e+02,1.540866e+01 L6.422211e+02,1.279581e+01 L6.511014e+02,1.610782e+01 L6.599729e+02,1.406931e+01 L6.688363e+02,1.330928e+01 L6.776927e+02,1.403999e+01 L6.865421e+02,1.387263e+01 L6.953852e+02,1.321742e+01 L7.042229e+02,1.187967e+01 L7.130556e+02,9.740832e+00 L7.218836e+02,1.292048e+01 L7.307073e+02,1.159137e+01 L7.395271e+02,9.676964e+00 L7.483437e+02,1.267576e+01 L7.571570e+02,1.126766e+01 L7.659676e+02,1.041291e+01 L7.747756e+02,1.084019e+01 L7.835814e+02,1.002294e+01 L7.923849e+02,1.190406e+01 L8.011865e+02,8.559848e+00 L8.099864e+02,1.066062e+01 L8.187845e+02,1.142621e+01 L8.275813e+02,9.740398e+00 L8.363766e+02,9.824061e+00 L8.451708e+02,9.768421e+00 L8.539638e+02,1.090919e+01 L8.627558e+02,1.154322e+01 L8.663200e+02,8.757371e+00 \" vector-effect=\"non-scaling-stroke\"/></g><g fill=\"none\" stroke-linecap=\"round\" marker-mid=\"url(#square)\" marker-end=\"url(#square)\" transform=\"translate(70 330 )scale(1 -1 )\" stroke-width=\"2px\" stroke-linejoin=\"round\" marker-start=\"url(#square)\" stroke=\"hsl(301, 88%, 65%)\"><path vector-effect=\"non-scaling-stroke\" d=\"M1.768000e+01,2.507164e+02 L8.604205e+01,2.222679e+02 L1.279667e+02,2.074635e+02 L1.590885e+02,1.892033e+02 L1.842956e+02,1.710122e+02 L2.058775e+02,1.546667e+02 L2.249197e+02,1.399427e+02 L2.421551e+02,1.272186e+02 L2.580360e+02,1.161804e+02 L2.728577e+02,1.067309e+02 L2.868215e+02,9.869594e+01 L3.000697e+02,9.169229e+01 L3.127433e+02,8.561225e+01 L3.249391e+02,7.967401e+01 L3.367242e+02,7.530824e+01 L3.481462e+02,7.116764e+01 L3.592621e+02,6.691199e+01 L3.701096e+02,6.338275e+01 L3.807317e+02,5.999705e+01 L3.911552e+02,5.722928e+01 L4.014103e+02,5.414340e+01 L4.115139e+02,5.154301e+01 L4.214856e+02,4.846362e+01 L4.313350e+02,4.615061e+01 L4.410740e+02,4.374663e+01 L4.507148e+02,4.180144e+01 L4.602692e+02,3.950532e+01 L4.697471e+02,3.774124e+01 L4.791566e+02,3.567653e+01 L4.885037e+02,3.394415e+01 L4.977974e+02,3.238433e+01 L5.070430e+02,3.073251e+01 L5.162428e+02,2.950235e+01 L5.254041e+02,2.803988e+01 L5.345295e+02,2.696244e+01 L5.436214e+02,2.570268e+01 L5.526839e+02,2.438342e+01 L5.617192e+02,2.349525e+01 L5.707319e+02,2.222555e+01 L5.797236e+02,2.123247e+01 L5.886968e+02,2.045457e+01 L5.976522e+02,1.948113e+01 L6.065921e+02,1.853162e+01 L6.155178e+02,1.760553e+01 L6.244301e+02,1.681297e+01 L6.333308e+02,1.626097e+01 L6.422211e+02,1.526453e+01 L6.511014e+02,1.501348e+01 L6.599729e+02,1.392143e+01 L6.688363e+02,1.339992e+01 L6.776927e+02,1.280627e+01 L6.865421e+02,1.211152e+01 L6.953852e+02,1.157032e+01 L7.042229e+02,1.092431e+01 L7.130556e+02,1.072641e+01 L7.218836e+02,1.026321e+01 L7.307073e+02,9.959726e+00 L7.395271e+02,9.400204e+00 L7.483437e+02,8.962009e+00 L7.571570e+02,8.507820e+00 L7.659676e+02,8.203253e+00 L7.747756e+02,7.874464e+00 L7.835814e+02,7.495195e+00 L7.923849e+02,7.358715e+00 L8.011865e+02,6.993403e+00 L8.099864e+02,6.743716e+00 L8.187845e+02,6.302398e+00 L8.275813e+02,6.273424e+00 L8.363766e+02,5.976053e+00 L8.451708e+02,5.742550e+00 L8.539638e+02,5.510296e+00 L8.627558e+02,5.213958e+00 L8.663200e+02,5.200000e+00 \"/></g><g stroke-width=\"2px\" transform=\"translate(70 330 )scale(1 -1 )\" stroke=\"hsl(152, 76%, 65%)\" marker-end=\"url(#square)\" stroke-linecap=\"round\" stroke-linejoin=\"round\" marker-start=\"url(#square)\" marker-mid=\"url(#square)\" fill=\"none\"><path vector-effect=\"non-scaling-stroke\" d=\"M1.768000e+01,2.548000e+02 L8.604205e+01,2.278872e+02 L1.279667e+02,2.124185e+02 L1.590885e+02,1.935937e+02 L1.842956e+02,1.747873e+02 L2.058775e+02,1.564685e+02 L2.249197e+02,1.403798e+02 L2.421551e+02,1.287791e+02 L2.580360e+02,1.166648e+02 L2.728577e+02,1.074489e+02 L2.868215e+02,9.701243e+01 L3.000697e+02,9.254972e+01 L3.127433e+02,8.711083e+01 L3.249391e+02,8.167835e+01 L3.367242e+02,7.676800e+01 L3.481462e+02,7.759689e+01 L3.592621e+02,6.952688e+01 L3.701096e+02,6.732183e+01 L3.807317e+02,6.160838e+01 L3.911552e+02,5.888384e+01 L4.014103e+02,5.762753e+01 L4.115139e+02,5.432419e+01 L4.214856e+02,5.272625e+01 L4.313350e+02,4.808514e+01 L4.410740e+02,4.737224e+01 L4.507148e+02,4.612310e+01 L4.602692e+02,4.535566e+01 L4.697471e+02,4.054208e+01 L4.791566e+02,3.880942e+01 L4.885037e+02,3.981059e+01 L4.977974e+02,3.743936e+01 L5.070430e+02,3.456607e+01 L5.162428e+02,3.378969e+01 L5.254041e+02,3.476617e+01 L5.345295e+02,3.337569e+01 L5.436214e+02,3.283789e+01 L5.526839e+02,3.142596e+01 L5.617192e+02,2.831811e+01 L5.707319e+02,2.859340e+01 L5.797236e+02,2.754336e+01 L5.886968e+02,2.718272e+01 L5.976522e+02,2.745087e+01 L6.065921e+02,2.616194e+01 L6.155178e+02,2.496355e+01 L6.244301e+02,2.598951e+01 L6.333308e+02,2.351352e+01 L6.422211e+02,2.146565e+01 L6.511014e+02,2.501884e+01 L6.599729e+02,2.321257e+01 L6.688363e+02,2.153905e+01 L6.776927e+02,2.268590e+01 L6.865421e+02,2.252954e+01 L6.953852e+02,2.138975e+01 L7.042229e+02,2.044993e+01 L7.130556e+02,1.825450e+01 L7.218836e+02,2.116508e+01 L7.307073e+02,1.966511e+01 L7.395271e+02,1.807631e+01 L7.483437e+02,2.024638e+01 L7.571570e+02,1.931402e+01 L7.659676e+02,1.861987e+01 L7.747756e+02,1.898317e+01 L7.835814e+02,1.793128e+01 L7.923849e+02,1.912378e+01 L8.011865e+02,1.632364e+01 L8.099864e+02,1.861995e+01 L8.187845e+02,1.956664e+01 L8.275813e+02,1.821548e+01 L8.363766e+02,1.745469e+01 L8.451708e+02,1.781468e+01 L8.539638e+02,1.802170e+01 L8.627558e+02,1.955201e+01 L8.663200e+02,1.693774e+01 \"/></g><g stroke-width=\"2px\" stroke-linecap=\"round\" stroke-linejoin=\"round\" stroke=\"black\" transform=\"translate(70 330 )scale(1 -1 )\" fill=\"none\"><path vector-effect=\"non-scaling-stroke\" d=\"M1.768000e+01,0 L1.768000e+01,-6 M8.154652e+01,0 L8.154652e+01,-6 M1.189060e+02,0 L1.189060e+02,-6 M1.454130e+02,0 L1.454130e+02,-6 M1.659735e+02,0 L1.659735e+02,-6 M1.827726e+02,0 L1.827726e+02,-6 M1.969760e+02,0 L1.969760e+02,-6 M2.092796e+02,0 L2.092796e+02,-6 M2.201321e+02,0 L2.201321e+02,-6 M2.298400e+02,0 L2.298400e+02,-6 M2.386219e+02,0 L2.386219e+02,-6 M2.937065e+02,0 L2.937065e+02,-6 M3.310660e+02,0 L3.310660e+02,-6 M3.575730e+02,0 L3.575730e+02,-6 M3.781335e+02,0 L3.781335e+02,-6 M3.949326e+02,0 L3.949326e+02,-6 M4.091360e+02,0 L4.091360e+02,-6 M4.214396e+02,0 L4.214396e+02,-6 M4.322921e+02,0 L4.322921e+02,-6 M442,0 L442,-6 M5.058665e+02,0 L5.058665e+02,-6 M5.432260e+02,0 L5.432260e+02,-6 M5.697330e+02,0 L5.697330e+02,-6 M5.902935e+02,0 L5.902935e+02,-6 M6.070926e+02,0 L6.070926e+02,-6 M6.212960e+02,0 L6.212960e+02,-6 M6.335996e+02,0 L6.335996e+02,-6 M6.444521e+02,0 L6.444521e+02,-6 M6.541600e+02,0 L6.541600e+02,-6 M7.180265e+02,0 L7.180265e+02,-6 M7.553860e+02,0 L7.553860e+02,-6 M7.818930e+02,0 L7.818930e+02,-6 M8.024535e+02,0 L8.024535e+02,-6 M8.192526e+02,0 L8.192526e+02,-6 M8.334560e+02,0 L8.334560e+02,-6 M8.457596e+02,0 L8.457596e+02,-6 M8.566121e+02,0 L8.566121e+02,-6 M8.663200e+02,0 L8.663200e+02,-6 \"/></g><g font-weight=\"normal\" stroke-width=\"2px\" text-anchor=\"middle\" stroke=\"black\" font-family=\"sans-serif\" stroke-linejoin=\"round\" fill=\"black\" stroke-linecap=\"round\" dominant-baseline=\"hanging\" transform=\"translate(70 330 )scale(1 1 )\" font-size=\"12px\" font-style=\"normal\"><text y=\"10\" dominant-baseline=\"hanging\" stroke=\"none\" vector-effect=\"non-scaling-stroke\" x=\"1.768000e+01\">100</text><text vector-effect=\"non-scaling-stroke\" x=\"8.154652e+01\" y=\"10\" dominant-baseline=\"hanging\" stroke=\"none\">200</text><text vector-effect=\"non-scaling-stroke\" x=\"1.189060e+02\" y=\"10\" dominant-baseline=\"hanging\" stroke=\"none\">300</text><text x=\"1.454130e+02\" y=\"10\" dominant-baseline=\"hanging\" stroke=\"none\" vector-effect=\"non-scaling-stroke\">400</text><text x=\"1.659735e+02\" y=\"10\" dominant-baseline=\"hanging\" stroke=\"none\" vector-effect=\"non-scaling-stroke\">500</text><text y=\"10\" dominant-baseline=\"hanging\" stroke=\"none\" vector-effect=\"non-scaling-stroke\" x=\"1.827726e+02\">600</text><text stroke=\"none\" vector-effect=\"non-scaling-stroke\" x=\"1.969760e+02\" y=\"10\" dominant-baseline=\"hanging\">700</text><text stroke=\"none\" vector-effect=\"non-scaling-stroke\" x=\"2.092796e+02\" y=\"10\" dominant-baseline=\"hanging\">800</text><text x=\"2.298400e+02\" y=\"10\" dominant-baseline=\"hanging\" stroke=\"none\" vector-effect=\"non-scaling-stroke\">1000</text><text y=\"10\" dominant-baseline=\"hanging\" stroke=\"none\" vector-effect=\"non-scaling-stroke\" x=\"2.937065e+02\">2000</text><text vector-effect=\"non-scaling-stroke\" x=\"3.310660e+02\" y=\"10\" dominant-baseline=\"hanging\" stroke=\"none\">3000</text><text stroke=\"none\" vector-effect=\"non-scaling-stroke\" x=\"3.575730e+02\" y=\"10\" dominant-baseline=\"hanging\">4000</text><text stroke=\"none\" vector-effect=\"non-scaling-stroke\" x=\"3.781335e+02\" y=\"10\" dominant-baseline=\"hanging\">5000</text><text x=\"3.949326e+02\" y=\"10\" dominant-baseline=\"hanging\" stroke=\"none\" vector-effect=\"non-scaling-stroke\">6000</text><text y=\"10\" dominant-baseline=\"hanging\" stroke=\"none\" vector-effect=\"non-scaling-stroke\" x=\"4.091360e+02\">7000</text><text stroke=\"none\" vector-effect=\"non-scaling-stroke\" x=\"4.214396e+02\" y=\"10\" dominant-baseline=\"hanging\">8000</text><text stroke=\"none\" vector-effect=\"non-scaling-stroke\" x=\"442\" y=\"10\" dominant-baseline=\"hanging\">10000</text><text x=\"5.058665e+02\" y=\"10\" dominant-baseline=\"hanging\" stroke=\"none\" vector-effect=\"non-scaling-stroke\">20000</text><text stroke=\"none\" vector-effect=\"non-scaling-stroke\" x=\"5.432260e+02\" y=\"10\" dominant-baseline=\"hanging\">30000</text><text x=\"5.697330e+02\" y=\"10\" dominant-baseline=\"hanging\" stroke=\"none\" vector-effect=\"non-scaling-stroke\">40000</text><text y=\"10\" dominant-baseline=\"hanging\" stroke=\"none\" vector-effect=\"non-scaling-stroke\" x=\"5.902935e+02\">50000</text><text y=\"10\" dominant-baseline=\"hanging\" stroke=\"none\" vector-effect=\"non-scaling-stroke\" x=\"6.070926e+02\">60000</text><text stroke=\"none\" vector-effect=\"non-scaling-stroke\" x=\"6.212960e+02\" y=\"10\" dominant-baseline=\"hanging\">70000</text><text vector-effect=\"non-scaling-stroke\" x=\"6.335996e+02\" y=\"10\" dominant-baseline=\"hanging\" stroke=\"none\">80000</text><text stroke=\"none\" vector-effect=\"non-scaling-stroke\" x=\"6.541600e+02\" y=\"10\" dominant-baseline=\"hanging\">100000</text><text stroke=\"none\" vector-effect=\"non-scaling-stroke\" x=\"7.180265e+02\" y=\"10\" dominant-baseline=\"hanging\">200000</text><text dominant-baseline=\"hanging\" stroke=\"none\" vector-effect=\"non-scaling-stroke\" x=\"7.553860e+02\" y=\"10\">300000</text><text stroke=\"none\" vector-effect=\"non-scaling-stroke\" x=\"7.818930e+02\" y=\"10\" dominant-baseline=\"hanging\">400000</text><text x=\"8.024535e+02\" y=\"10\" dominant-baseline=\"hanging\" stroke=\"none\" vector-effect=\"non-scaling-stroke\">500000</text><text x=\"8.192526e+02\" y=\"10\" dominant-baseline=\"hanging\" stroke=\"none\" vector-effect=\"non-scaling-stroke\">600000</text><text vector-effect=\"non-scaling-stroke\" x=\"8.334560e+02\" y=\"10\" dominant-baseline=\"hanging\" stroke=\"none\">700000</text><text vector-effect=\"non-scaling-stroke\" x=\"8.457596e+02\" y=\"10\" dominant-baseline=\"hanging\" stroke=\"none\">800000</text><text vector-effect=\"non-scaling-stroke\" x=\"8.663200e+02\" y=\"10\" dominant-baseline=\"hanging\" stroke=\"none\">1000000</text></g><g stroke-linejoin=\"round\" font-size=\"12px\" font-style=\"normal\" font-weight=\"bold\" stroke=\"black\" font-family=\"sans-serif\" stroke-width=\"2px\" stroke-linecap=\"round\" text-anchor=\"middle\" dominant-baseline=\"baseline\" fill=\"black\" transform=\"translate(70 330 )scale(1 1 )rotate(0 0 0 )\"><text vector-effect=\"non-scaling-stroke\" x=\"442\" y=\"-6\" dominant-baseline=\"baseline\" stroke=\"none\">Steps</text></g><g stroke-linejoin=\"round\" font-size=\"12px\" font-family=\"sans-serif\" text-anchor=\"middle\" fill=\"black\" stroke-width=\"2px\" stroke-linecap=\"round\" font-style=\"normal\" font-weight=\"bold\" stroke=\"black\" transform=\"translate(70 330 )scale(1 -1 )\" dominant-baseline=\"baseline\"><path vector-effect=\"non-scaling-stroke\" d=\"M0,1.096843e+02 L-6,1.096843e+02 M0,2.235792e+02 L-6,2.235792e+02 \"/></g><g dominant-baseline=\"middle\" font-size=\"12px\" font-style=\"normal\" font-weight=\"normal\" stroke-linecap=\"round\" stroke-width=\"2px\" text-anchor=\"end\" stroke=\"black\" transform=\"translate(70 330 )scale(1 1 )\" font-family=\"sans-serif\" stroke-linejoin=\"round\" fill=\"black\"><text stroke=\"none\" vector-effect=\"non-scaling-stroke\" x=\"-10\" y=\"-1.096843e+02\" dominant-baseline=\"middle\">4.000</text><text x=\"-10\" y=\"-2.235792e+02\" dominant-baseline=\"middle\" stroke=\"none\" vector-effect=\"non-scaling-stroke\">5.000</text></g><g stroke-width=\"2px\" stroke-linejoin=\"round\" font-size=\"12px\" font-weight=\"bold\" dominant-baseline=\"hanging\" fill=\"black\" stroke-linecap=\"round\" font-style=\"normal\" stroke=\"black\" transform=\"translate(70 330 )scale(1 1 )rotate(-90 0 0 )\" font-family=\"sans-serif\" text-anchor=\"middle\"><text stroke=\"none\" vector-effect=\"non-scaling-stroke\" x=\"130\" y=\"6\" dominant-baseline=\"hanging\">eval-loss</text></g><g transform=\"translate(70 330 )scale(1 -1 )\" text-anchor=\"middle\" font-style=\"normal\" fill=\"black\" stroke-linejoin=\"round\" stroke-linecap=\"round\" dominant-baseline=\"hanging\" stroke=\"gray\" font-family=\"sans-serif\" font-size=\"12px\" font-weight=\"bold\" stroke-width=\"0.5px\"><path d=\"M0,1.096843e+02 L884,1.096843e+02 M0,2.235792e+02 L884,2.235792e+02 \" vector-effect=\"non-scaling-stroke\"/></g><g stroke=\"black\" stroke-width=\"2px\" stroke-linejoin=\"round\" fill=\"none\" font-family=\"sans-serif\" text-anchor=\"middle\" stroke-linecap=\"round\" font-size=\"12px\" font-style=\"normal\" font-weight=\"bold\" dominant-baseline=\"hanging\"><rect width=\"884\" height=\"260\" vector-effect=\"non-scaling-stroke\" x=\"70\" y=\"70\"/><g dominant-baseline=\"middle\" font-size=\"18px\" fill=\"black\"><text dominant-baseline=\"middle\" stroke=\"none\" vector-effect=\"non-scaling-stroke\" x=\"512\" y=\"35\">eval-loss metrics</text></g><g font-weight=\"normal\" text-anchor=\"start\" dominant-baseline=\"hanging\" stroke=\"hsl(90, 47%, 65%)\" stroke-width=\"1px\" stroke-linecap=\"round\" stroke-linejoin=\"round\" font-size=\"12px\" fill=\"hsl(90, 47%, 65%)\" font-family=\"sans-serif\" font-style=\"normal\"><rect width=\"12\" height=\"12\" vector-effect=\"non-scaling-stroke\" x=\"76\" y=\"366\"/><g stroke=\"black\" fill=\"black\"><text vector-effect=\"non-scaling-stroke\" x=\"92\" y=\"366\" dominant-baseline=\"hanging\" stroke=\"none\">Eval on seeds_test: Mean Loss</text></g><g stroke-width=\"1px\" font-size=\"12px\" font-family=\"sans-serif\" dominant-baseline=\"hanging\" font-weight=\"normal\" fill=\"hsl(301, 88%, 65%)\" font-style=\"normal\" stroke=\"hsl(301, 88%, 65%)\" text-anchor=\"start\" stroke-linecap=\"round\" stroke-linejoin=\"round\"><rect y=\"384\" width=\"12\" height=\"12\" vector-effect=\"non-scaling-stroke\" x=\"76\"/><g stroke=\"black\" fill=\"black\"><text stroke=\"none\" vector-effect=\"non-scaling-stroke\" x=\"92\" y=\"384\" dominant-baseline=\"hanging\">Eval on seeds_train: Mean Loss</text></g><g font-size=\"12px\" font-style=\"normal\" fill=\"hsl(152, 76%, 65%)\" font-family=\"sans-serif\" text-anchor=\"start\" stroke-linecap=\"round\" font-weight=\"normal\" stroke-width=\"1px\" dominant-baseline=\"hanging\" stroke=\"hsl(152, 76%, 65%)\" stroke-linejoin=\"round\"><rect vector-effect=\"non-scaling-stroke\" x=\"76\" y=\"402\" width=\"12\" height=\"12\"/><g stroke=\"black\" fill=\"black\"><text x=\"92\" y=\"402\" dominant-baseline=\"hanging\" stroke=\"none\" vector-effect=\"non-scaling-stroke\">Eval on seeds_valid: Mean Loss</text></g></g></g></g></g></svg>"
      ]
     },
     "metadata": {},
     "output_type": "display_data"
    },
    {
     "data": {
      "text/html": [
       "<svg viewbox=\"0 0 1024 400\" style=\"background-color:#f8f8f8\" preserveAspectRatio=\"xMidYMid meet\" xmlns=\"http://www.w3.org/2000/svg\" width=\"1024\" height=\"418\"><defs><marker refY=\"5\" markerUnits=\"userSpaceOnUse\" markerWidth=\"2%\" markerHeight=\"2%\" id=\"circle\" viewBox=\"0 0 10 10 \" refX=\"5\"><circle r=\"3\" fill=\"none\" stroke=\"black\" cx=\"5\" cy=\"5\"/></marker><marker id=\"filled-circle\" viewBox=\"0 0 10 10 \" refX=\"5\" refY=\"5\" markerUnits=\"userSpaceOnUse\" markerWidth=\"2%\" markerHeight=\"2%\"><circle stroke=\"none\" cx=\"5\" cy=\"5\" r=\"3\" fill=\"black\"/></marker><marker viewBox=\"0 0 10 10 \" refX=\"5\" refY=\"5\" markerUnits=\"userSpaceOnUse\" markerWidth=\"2%\" markerHeight=\"2%\" id=\"square\"><rect height=\"6\" fill=\"none\" stroke=\"black\" x=\"2\" y=\"2\" width=\"6\"/></marker><marker markerWidth=\"2%\" markerHeight=\"2%\" id=\"filled-square\" viewBox=\"0 0 10 10 \" refX=\"5\" refY=\"5\" markerUnits=\"userSpaceOnUse\"><rect stroke=\"none\" x=\"2\" y=\"2\" width=\"6\" height=\"6\" fill=\"black\"/></marker></defs><g fill=\"none\" stroke-linecap=\"round\" stroke-linejoin=\"round\" stroke=\"hsl(90, 47%, 65%)\" marker-start=\"url(#square)\" marker-end=\"url(#square)\" transform=\"translate(70 330 )scale(1 -1 )\" marker-mid=\"url(#square)\" stroke-width=\"2px\"><path vector-effect=\"non-scaling-stroke\" d=\"M1.768000e+01,2.548000e+02 L8.604205e+01,2.165992e+02 L1.279667e+02,1.930165e+02 L1.590885e+02,1.750276e+02 L1.842956e+02,1.559756e+02 L2.058775e+02,1.425977e+02 L2.249197e+02,1.285271e+02 L2.421551e+02,1.166869e+02 L2.580360e+02,1.044894e+02 L2.728577e+02,9.608524e+01 L2.868215e+02,8.538934e+01 L3.000697e+02,8.203044e+01 L3.127433e+02,7.529248e+01 L3.249391e+02,7.173424e+01 L3.367242e+02,6.563624e+01 L3.481462e+02,6.140053e+01 L3.592621e+02,5.829147e+01 L3.701096e+02,5.545259e+01 L3.807317e+02,5.369662e+01 L3.911552e+02,5.071524e+01 L4.014103e+02,4.742105e+01 L4.115139e+02,4.685687e+01 L4.214856e+02,4.399400e+01 L4.313350e+02,4.380308e+01 L4.410740e+02,3.937225e+01 L4.507148e+02,3.875468e+01 L4.602692e+02,3.549824e+01 L4.697471e+02,3.397336e+01 L4.791566e+02,3.217121e+01 L4.885037e+02,3.158926e+01 L4.977974e+02,2.708378e+01 L5.070430e+02,2.839203e+01 L5.162428e+02,2.709628e+01 L5.254041e+02,2.498603e+01 L5.345295e+02,2.420268e+01 L5.436214e+02,2.475445e+01 L5.526839e+02,2.151766e+01 L5.617192e+02,2.070694e+01 L5.707319e+02,1.811688e+01 L5.797236e+02,1.907704e+01 L5.886968e+02,1.920607e+01 L5.976522e+02,1.730337e+01 L6.065921e+02,1.661154e+01 L6.155178e+02,1.702512e+01 L6.244301e+02,1.588820e+01 L6.333308e+02,1.547385e+01 L6.422211e+02,1.490165e+01 L6.511014e+02,1.427546e+01 L6.599729e+02,1.321109e+01 L6.688363e+02,1.547975e+01 L6.776927e+02,1.124671e+01 L6.865421e+02,1.299568e+01 L6.953852e+02,1.091305e+01 L7.042229e+02,1.017335e+01 L7.130556e+02,1.108588e+01 L7.218836e+02,9.718072e+00 L7.307073e+02,1.139137e+01 L7.395271e+02,1.006325e+01 L7.483437e+02,7.832119e+00 L7.571570e+02,8.878879e+00 L7.659676e+02,8.939918e+00 L7.747756e+02,6.057936e+00 L7.835814e+02,7.546156e+00 L7.923849e+02,7.097069e+00 L8.011865e+02,9.233878e+00 L8.099864e+02,8.495800e+00 L8.187845e+02,7.565801e+00 L8.275813e+02,6.946981e+00 L8.363766e+02,6.196607e+00 L8.451708e+02,6.051141e+00 L8.539638e+02,5.637855e+00 L8.627558e+02,7.302141e+00 L8.663200e+02,5.200000e+00 \"/></g><g fill=\"none\" stroke=\"black\" transform=\"translate(70 330 )scale(1 -1 )\" stroke-width=\"2px\" stroke-linecap=\"round\" stroke-linejoin=\"round\"><path d=\"M1.768000e+01,0 L1.768000e+01,-6 M8.154652e+01,0 L8.154652e+01,-6 M1.189060e+02,0 L1.189060e+02,-6 M1.454130e+02,0 L1.454130e+02,-6 M1.659735e+02,0 L1.659735e+02,-6 M1.827726e+02,0 L1.827726e+02,-6 M1.969760e+02,0 L1.969760e+02,-6 M2.092796e+02,0 L2.092796e+02,-6 M2.201321e+02,0 L2.201321e+02,-6 M2.298400e+02,0 L2.298400e+02,-6 M2.386219e+02,0 L2.386219e+02,-6 M2.937065e+02,0 L2.937065e+02,-6 M3.310660e+02,0 L3.310660e+02,-6 M3.575730e+02,0 L3.575730e+02,-6 M3.781335e+02,0 L3.781335e+02,-6 M3.949326e+02,0 L3.949326e+02,-6 M4.091360e+02,0 L4.091360e+02,-6 M4.214396e+02,0 L4.214396e+02,-6 M4.322921e+02,0 L4.322921e+02,-6 M442,0 L442,-6 M5.058665e+02,0 L5.058665e+02,-6 M5.432260e+02,0 L5.432260e+02,-6 M5.697330e+02,0 L5.697330e+02,-6 M5.902935e+02,0 L5.902935e+02,-6 M6.070926e+02,0 L6.070926e+02,-6 M6.212960e+02,0 L6.212960e+02,-6 M6.335996e+02,0 L6.335996e+02,-6 M6.444521e+02,0 L6.444521e+02,-6 M6.541600e+02,0 L6.541600e+02,-6 M7.180265e+02,0 L7.180265e+02,-6 M7.553860e+02,0 L7.553860e+02,-6 M7.818930e+02,0 L7.818930e+02,-6 M8.024535e+02,0 L8.024535e+02,-6 M8.192526e+02,0 L8.192526e+02,-6 M8.334560e+02,0 L8.334560e+02,-6 M8.457596e+02,0 L8.457596e+02,-6 M8.566121e+02,0 L8.566121e+02,-6 M8.663200e+02,0 L8.663200e+02,-6 \" vector-effect=\"non-scaling-stroke\"/></g><g stroke-linejoin=\"round\" font-weight=\"normal\" stroke=\"black\" font-size=\"12px\" dominant-baseline=\"hanging\" stroke-width=\"2px\" font-family=\"sans-serif\" font-style=\"normal\" fill=\"black\" transform=\"translate(70 330 )scale(1 1 )\" text-anchor=\"middle\" stroke-linecap=\"round\"><text y=\"10\" dominant-baseline=\"hanging\" stroke=\"none\" vector-effect=\"non-scaling-stroke\" x=\"1.768000e+01\">100</text><text x=\"8.154652e+01\" y=\"10\" dominant-baseline=\"hanging\" stroke=\"none\" vector-effect=\"non-scaling-stroke\">200</text><text vector-effect=\"non-scaling-stroke\" x=\"1.189060e+02\" y=\"10\" dominant-baseline=\"hanging\" stroke=\"none\">300</text><text x=\"1.454130e+02\" y=\"10\" dominant-baseline=\"hanging\" stroke=\"none\" vector-effect=\"non-scaling-stroke\">400</text><text dominant-baseline=\"hanging\" stroke=\"none\" vector-effect=\"non-scaling-stroke\" x=\"1.659735e+02\" y=\"10\">500</text><text stroke=\"none\" vector-effect=\"non-scaling-stroke\" x=\"1.827726e+02\" y=\"10\" dominant-baseline=\"hanging\">600</text><text vector-effect=\"non-scaling-stroke\" x=\"1.969760e+02\" y=\"10\" dominant-baseline=\"hanging\" stroke=\"none\">700</text><text stroke=\"none\" vector-effect=\"non-scaling-stroke\" x=\"2.092796e+02\" y=\"10\" dominant-baseline=\"hanging\">800</text><text y=\"10\" dominant-baseline=\"hanging\" stroke=\"none\" vector-effect=\"non-scaling-stroke\" x=\"2.298400e+02\">1000</text><text vector-effect=\"non-scaling-stroke\" x=\"2.937065e+02\" y=\"10\" dominant-baseline=\"hanging\" stroke=\"none\">2000</text><text stroke=\"none\" vector-effect=\"non-scaling-stroke\" x=\"3.310660e+02\" y=\"10\" dominant-baseline=\"hanging\">3000</text><text vector-effect=\"non-scaling-stroke\" x=\"3.575730e+02\" y=\"10\" dominant-baseline=\"hanging\" stroke=\"none\">4000</text><text stroke=\"none\" vector-effect=\"non-scaling-stroke\" x=\"3.781335e+02\" y=\"10\" dominant-baseline=\"hanging\">5000</text><text stroke=\"none\" vector-effect=\"non-scaling-stroke\" x=\"3.949326e+02\" y=\"10\" dominant-baseline=\"hanging\">6000</text><text vector-effect=\"non-scaling-stroke\" x=\"4.091360e+02\" y=\"10\" dominant-baseline=\"hanging\" stroke=\"none\">7000</text><text stroke=\"none\" vector-effect=\"non-scaling-stroke\" x=\"4.214396e+02\" y=\"10\" dominant-baseline=\"hanging\">8000</text><text dominant-baseline=\"hanging\" stroke=\"none\" vector-effect=\"non-scaling-stroke\" x=\"442\" y=\"10\">10000</text><text y=\"10\" dominant-baseline=\"hanging\" stroke=\"none\" vector-effect=\"non-scaling-stroke\" x=\"5.058665e+02\">20000</text><text vector-effect=\"non-scaling-stroke\" x=\"5.432260e+02\" y=\"10\" dominant-baseline=\"hanging\" stroke=\"none\">30000</text><text x=\"5.697330e+02\" y=\"10\" dominant-baseline=\"hanging\" stroke=\"none\" vector-effect=\"non-scaling-stroke\">40000</text><text x=\"5.902935e+02\" y=\"10\" dominant-baseline=\"hanging\" stroke=\"none\" vector-effect=\"non-scaling-stroke\">50000</text><text y=\"10\" dominant-baseline=\"hanging\" stroke=\"none\" vector-effect=\"non-scaling-stroke\" x=\"6.070926e+02\">60000</text><text dominant-baseline=\"hanging\" stroke=\"none\" vector-effect=\"non-scaling-stroke\" x=\"6.212960e+02\" y=\"10\">70000</text><text stroke=\"none\" vector-effect=\"non-scaling-stroke\" x=\"6.335996e+02\" y=\"10\" dominant-baseline=\"hanging\">80000</text><text vector-effect=\"non-scaling-stroke\" x=\"6.541600e+02\" y=\"10\" dominant-baseline=\"hanging\" stroke=\"none\">100000</text><text stroke=\"none\" vector-effect=\"non-scaling-stroke\" x=\"7.180265e+02\" y=\"10\" dominant-baseline=\"hanging\">200000</text><text dominant-baseline=\"hanging\" stroke=\"none\" vector-effect=\"non-scaling-stroke\" x=\"7.553860e+02\" y=\"10\">300000</text><text stroke=\"none\" vector-effect=\"non-scaling-stroke\" x=\"7.818930e+02\" y=\"10\" dominant-baseline=\"hanging\">400000</text><text dominant-baseline=\"hanging\" stroke=\"none\" vector-effect=\"non-scaling-stroke\" x=\"8.024535e+02\" y=\"10\">500000</text><text stroke=\"none\" vector-effect=\"non-scaling-stroke\" x=\"8.192526e+02\" y=\"10\" dominant-baseline=\"hanging\">600000</text><text stroke=\"none\" vector-effect=\"non-scaling-stroke\" x=\"8.334560e+02\" y=\"10\" dominant-baseline=\"hanging\">700000</text><text dominant-baseline=\"hanging\" stroke=\"none\" vector-effect=\"non-scaling-stroke\" x=\"8.457596e+02\" y=\"10\">800000</text><text dominant-baseline=\"hanging\" stroke=\"none\" vector-effect=\"non-scaling-stroke\" x=\"8.663200e+02\" y=\"10\">1000000</text></g><g font-style=\"normal\" stroke-width=\"2px\" font-family=\"sans-serif\" fill=\"black\" stroke=\"black\" transform=\"translate(70 330 )scale(1 1 )rotate(0 0 0 )\" font-weight=\"bold\" dominant-baseline=\"baseline\" stroke-linecap=\"round\" stroke-linejoin=\"round\" text-anchor=\"middle\" font-size=\"12px\"><text dominant-baseline=\"baseline\" stroke=\"none\" vector-effect=\"non-scaling-stroke\" x=\"442\" y=\"-6\">Steps</text></g><g fill=\"black\" font-size=\"12px\" stroke-width=\"2px\" font-style=\"normal\" stroke-linejoin=\"round\" font-family=\"sans-serif\" font-weight=\"bold\" dominant-baseline=\"baseline\" stroke=\"black\" transform=\"translate(70 330 )scale(1 -1 )\" text-anchor=\"middle\" stroke-linecap=\"round\"><path vector-effect=\"non-scaling-stroke\" d=\"M0,9.458833e+01 L-6,9.458833e+01 M0,1.915266e+02 L-6,1.915266e+02 \"/></g><g font-family=\"sans-serif\" font-weight=\"normal\" dominant-baseline=\"middle\" stroke-width=\"2px\" stroke=\"black\" text-anchor=\"end\" stroke-linecap=\"round\" stroke-linejoin=\"round\" font-style=\"normal\" transform=\"translate(70 330 )scale(1 1 )\" font-size=\"12px\" fill=\"black\"><text dominant-baseline=\"middle\" stroke=\"none\" vector-effect=\"non-scaling-stroke\" x=\"-10\" y=\"-9.458833e+01\">4.000</text><text vector-effect=\"non-scaling-stroke\" x=\"-10\" y=\"-1.915266e+02\" dominant-baseline=\"middle\" stroke=\"none\">5.000</text></g><g font-family=\"sans-serif\" font-style=\"normal\" text-anchor=\"middle\" stroke-linecap=\"round\" stroke-linejoin=\"round\" font-size=\"12px\" dominant-baseline=\"hanging\" stroke-width=\"2px\" font-weight=\"bold\" fill=\"black\" stroke=\"black\" transform=\"translate(70 330 )scale(1 1 )rotate(-90 0 0 )\"><text vector-effect=\"non-scaling-stroke\" x=\"130\" y=\"6\" dominant-baseline=\"hanging\" stroke=\"none\">loss</text></g><g dominant-baseline=\"hanging\" stroke-width=\"0.5px\" stroke-linejoin=\"round\" stroke=\"gray\" transform=\"translate(70 330 )scale(1 -1 )\" font-size=\"12px\" text-anchor=\"middle\" font-weight=\"bold\" font-family=\"sans-serif\" fill=\"black\" stroke-linecap=\"round\" font-style=\"normal\"><path vector-effect=\"non-scaling-stroke\" d=\"M0,9.458833e+01 L884,9.458833e+01 M0,1.915266e+02 L884,1.915266e+02 \"/></g><g font-weight=\"bold\" dominant-baseline=\"hanging\" stroke-width=\"2px\" fill=\"none\" font-family=\"sans-serif\" font-style=\"normal\" stroke-linecap=\"round\" font-size=\"12px\" text-anchor=\"middle\" stroke=\"black\" stroke-linejoin=\"round\"><rect x=\"70\" y=\"70\" width=\"884\" height=\"260\" vector-effect=\"non-scaling-stroke\"/><g dominant-baseline=\"middle\" fill=\"black\" font-size=\"18px\"><text y=\"35\" dominant-baseline=\"middle\" stroke=\"none\" vector-effect=\"non-scaling-stroke\" x=\"512\">loss metrics</text></g><g text-anchor=\"start\" font-weight=\"normal\" font-size=\"12px\" font-family=\"sans-serif\" font-style=\"normal\" dominant-baseline=\"hanging\" stroke-width=\"1px\" stroke=\"hsl(90, 47%, 65%)\" fill=\"hsl(90, 47%, 65%)\" stroke-linecap=\"round\" stroke-linejoin=\"round\"><rect height=\"12\" vector-effect=\"non-scaling-stroke\" x=\"76\" y=\"366\" width=\"12\"/><g fill=\"black\" stroke=\"black\"><text dominant-baseline=\"hanging\" stroke=\"none\" vector-effect=\"non-scaling-stroke\" x=\"92\" y=\"366\">Train: Moving Average Loss</text></g></g></g></svg>"
      ]
     },
     "metadata": {},
     "output_type": "display_data"
    },
    {
     "name": "stdout",
     "output_type": "stream",
     "text": [
      "\t[Step 1000000] median train step: 407 microseconds\n",
      "\n",
      "Results on seeds_train:\n",
      "\tMean Loss (#loss): 3.083\n",
      "\tMean Accuracy (#acc): 28.07%\n",
      "Results on seeds_valid:\n",
      "\tMean Loss (#loss): 3.186\n",
      "\tMean Accuracy (#acc): 26.28%\n",
      "Results on seeds_test:\n",
      "\tMean Loss (#loss): 3.114\n",
      "\tMean Accuracy (#acc): 27.20%\n",
      "\n"
     ]
    }
   ],
   "source": [
    "import \"github.com/gomlx/gomlx/examples/ogbnmag/fnn\"\n",
    "\n",
    "%%\n",
    "must.M(mag.Download(*flagDataDir))\n",
    "ctx := config()\n",
    "ctx.SetParam(\"checkpoint\", path.Join(*flagDataDir, \"fnn-baseline\"))\n",
    "ctx.SetParam(\"num_checkpoints\", 10)\n",
    "err := fnn.Train(ctx)\n",
    "if  err != nil {\n",
    "    fmt.Printf(\"%+v\\n\", err)\n",
    "}\n"
   ]
  },
  {
   "cell_type": "markdown",
   "id": "8906d875-13ed-4ebd-af77-33fbec8c66ed",
   "metadata": {},
   "source": [
    "## GNN (Graph Neural Networks)\n",
    "\n",
    "To use GNNs we need first graphs to run the model on. The issue is, generally the graphs in real life are too large (social networks, relational datases, etc.), including OGNB-MAG.\n",
    "\n",
    "So instead we use sampled sub-graphs to train. For inference we can also use sampled subgraphs, but later we show a work around where we can do inference, a node type at a time, where we don't need sampling.\n",
    "\n",
    "### Sampling Sub-Graphs\n",
    "\n",
    "We follow the same sampling strategy used in [TensorFlow GNN](https://github.com/tensorflow/gnn) library, describe it its [OGBN-MAG notebook](https://github.com/tensorflow/gnn/blob/main/examples/notebooks/ogbn_mag_e2e.ipynb)."
   ]
  },
  {
   "cell_type": "code",
   "execution_count": 4,
   "id": "e343e5fd-27a4-494f-a7d4-babc14dec453",
   "metadata": {},
   "outputs": [],
   "source": [
    "import \"github.com/gomlx/gomlx/examples/ogbnmag/sampler\"\n",
    "\n",
    "%%\n",
    "\n",
    "strategy := mag.MagStrategy\n",
    "\n",
    "// MagStrategy takes a sampler created by [ogbnmag.NewSampler], a desired batch size, and the set of\n",
    "// seed ids to sample from ([ogbnmag.TrainSplit], [ogbnmag.ValidSplit] or [ogbnmag.TestSplit]) and\n",
    "// returns a sampling strategy, that can be used to create datasets.\n",
    "func MagStrategy(magSampler *sampler.Sampler, batchSize int, seedIdsCandidates tensor.Tensor) *sampler.Strategy {\n",
    "\tstrategy := magSampler.NewStrategy()\n",
    "\tvar seeds *sampler.Rule\n",
    "\tif seedIdsCandidates == nil {\n",
    "\t\tseeds = strategy.Nodes(\"seeds\", \"papers\", batchSize)\n",
    "\t} else {\n",
    "\t\tseedIdsData := seedIdsCandidates.Local().FlatCopy().([]int32)\n",
    "\t\tseeds = strategy.NodesFromSet(\"seeds\", \"papers\", batchSize, seedIdsData)\n",
    "\t}\n",
    "\tcitations := seeds.FromEdges(\"citations\", \"cites\", 8)\n",
    "\n",
    "\t// Authors\n",
    "\tseedsAuthors := seeds.FromEdges(\"seedsAuthors\", \"writtenBy\", 8)\n",
    "\tcitationsAuthors := citations.FromEdges(\"citationsAuthors\", \"writtenBy\", 8)\n",
    "\n",
    "\t// Co-authored papers\n",
    "\tcoauthoredPapers := seedsAuthors.FromEdges(\"coauthoredPapers\", \"writes\", 8)\n",
    "\tcoauthoredFromCitations := citationsAuthors.FromEdges(\"coauthoredFromCitations\", \"writes\", 8)\n",
    "\n",
    "\t// Affiliations\n",
    "\t_ = seedsAuthors.FromEdges(\"authorsInstitutions\", \"affiliatedWith\", 8)\n",
    "\t_ = citationsAuthors.FromEdges(\"citationAuthorsInstitutions\", \"affiliatedWith\", 8)\n",
    "\n",
    "\t// Topics\n",
    "\t_ = seeds.FromEdges(\"seedsTopics\", \"hasTopic\", 8)\n",
    "\t_ = coauthoredPapers.FromEdges(\"coauthoredTopics\", \"hasTopic\", 8)\n",
    "\t_ = citations.FromEdges(\"citationsTopics\", \"hasTopic\", 8)\n",
    "\t_ = coauthoredFromCitations.FromEdges(\"coauthoredFromCitationsTopics\", \"hasTopic\", 8)\n",
    "\n",
    "\treturn strategy\n",
    "}\n"
   ]
  },
  {
   "cell_type": "markdown",
   "id": "d497782d-5016-4690-8b24-d367818076f3",
   "metadata": {},
   "source": [
    "### Benchmarking Sampling\n",
    "\n",
    "Let's get some benchmarking on the sampler, to make sure it's not slowing training:\n",
    "\n",
    "1. Benchmark sequential the sampling of one sub-graph: `BenchmarkSequentialMagSampler`\n",
    "2. Benchmark parallel sampling of one sub-graph: `BenchmarkParallelMagSampler`\n",
    "3. Benchmark parallel sampling of one epoch (using parallel sampler): `BenchmarkOneEpochMagSampler`"
   ]
  },
  {
   "cell_type": "markdown",
   "id": "9e6e73ab-9617-4ec0-a398-627d6befddb1",
   "metadata": {},
   "source": [
    "### Training Model\n",
    "\n",
    "We use the vanilla GNN trainer and model defined in the `gnn` package."
   ]
  },
  {
   "cell_type": "code",
   "execution_count": 74,
   "id": "99743b12-d5b4-40c4-be48-25749b384c95",
   "metadata": {},
   "outputs": [],
   "source": [
    "import (\n",
    "    \"github.com/gomlx/gomlx/examples/ogbnmag/gnn\"\n",
    ")\n",
    "\n",
    "func configGnn(baseDir string) *context.Context {\n",
    "    must.M(mag.Download(baseDir))\n",
    "    ctx := context.NewContext(manager)\n",
    "    ctx.RngStateReset()\n",
    "    \n",
    "    stepsPerEpoch := mag.TrainSplit.Shape().Size() / mag.BatchSize + 1\n",
    "    numEpochs := 10  // Taken from TF-GNN OGBN-MAG notebook.\n",
    "    numTrainSteps := numEpochs * stepsPerEpoch\n",
    "    \n",
    "    ctx.SetParams(map[string]any{\n",
    "        \"train_steps\": numTrainSteps,\n",
    "        \n",
    "        optimizers.ParamOptimizer: \"adam\", \n",
    "        optimizers.ParamLearningRate: 0.001,\n",
    "        optimizers.ParamCosineScheduleSteps:  numTrainSteps,\n",
    "        \n",
    "        layers.ParamL2Regularization: 1e-5,\n",
    "        layers.ParamDropoutRate: 0.2,\n",
    "\n",
    "        mag.ParamEmbedDropoutRate: 0.0,\n",
    "        \n",
    "        gnn.ParamEdgeDropoutRate: 0.0,\n",
    "        gnn.ParamNumGraphUpdates: 2,\n",
    "        gnn.ParamReadoutHiddenLayers: 2,\n",
    "        gnn.ParamPoolingType: \"mean|sum\",\n",
    "        gnn.ParamUsePathToRootStates: false,\n",
    "        \n",
    "        \"plots\": true,\n",
    "    })\n",
    "    return ctx\n",
    "}\n",
    "\n",
    "%%\n",
    "mag.BatchSize = 128  // Default is 128.\n",
    "ctx := configGnn(*flagDataDir)\n",
    "// ctx.SetParam(\"checkpoint\", path.Join(*flagDataDir, \"gnn-small_batch\"))\n",
    "// ctx.SetParam(\"checkpoint\", path.Join(*flagDataDir, \"gnn-use_path_to_root\"))\n",
    "ctx.SetParam(\"checkpoint\", path.Join(*flagDataDir, \"gnn-reg_2\"))\n",
    "ctx.SetParam(\"num_checkpoints\", 3)\n",
    "ctx.SetParams(map[string]any{\n",
    "    // \"train_steps\": 100,\n",
    "    // \"plots\": false,\n",
    "    // gnn.ParamEdgeDropoutRate: 0.1,\n",
    "    // mag.ParamEmbedDropoutRate: 0.1,\n",
    "    gnn.ParamNumGraphUpdates: 2,\n",
    "    // gnn.ParamUsePathToRootStates: true,\n",
    "    // gnn.ParamReadoutHiddenLayers: 2,\n",
    "    layers.ParamDropoutRate: 0.25,\n",
    "    layers.ParamL2Regularization: 3e-4,\n",
    "})\n",
    "\n",
    "// err := gnn.Train(ctx, *flagDataDir)\n",
    "// if  err != nil {\n",
    "//     fmt.Printf(\"%+v\\n\", err)\n",
    "// }"
   ]
  },
  {
   "cell_type": "code",
   "execution_count": 14,
   "id": "ee7239da-bb04-4cb6-b41c-662ed80436b5",
   "metadata": {},
   "outputs": [
    {
     "name": "stdout",
     "output_type": "stream",
     "text": [
      "loading: \"checkpoint-n0000171-20240229-012409-step-00049190\"\n",
      "Model in \"/home/janpf/work/ogbnmag/gnn-baseline_5\" trained for 49190 steps.\n",
      "Results on train:\n",
      "\tMean Loss+Regularization (#loss+): 1.542\n",
      "\tMean Loss (#loss): 1.457\n",
      "\tMean Accuracy (#acc): 57.49%\n",
      "\telapsed 1m37.457905276s (train)\n",
      "Results on valid:\n",
      "\tMean Loss+Regularization (#loss+): 1.927\n",
      "\tMean Loss (#loss): 1.841\n",
      "\tMean Accuracy (#acc): 48.60%\n",
      "\telapsed 11.140775268s (valid)\n",
      "Results on test:\n",
      "\tMean Loss+Regularization (#loss+): 1.922\n",
      "\tMean Loss (#loss): 1.837\n",
      "\tMean Accuracy (#acc): 48.10%\n",
      "\telapsed 7.647081029s (test)\n"
     ]
    }
   ],
   "source": [
    "%%\n",
    "ctx := configGnn(*flagDataDir)\n",
    "ctx.SetParam(\"checkpoint\", path.Join(*flagDataDir, \"gnn-baseline_5\"))\n",
    "\n",
    "_, trainEvalDS, validEvalDS, testEvalDS := must.M4(gnn.MakeDatasets(*flagDataDir))\n",
    "_, _, _ = trainEvalDS, validEvalDS, testEvalDS\n",
    "must.M(gnn.Eval(ctx, *flagDataDir, trainEvalDS, validEvalDS, testEvalDS))"
   ]
  },
  {
   "cell_type": "code",
   "execution_count": 122,
   "id": "abfe4a9b-0c47-4f01-a69b-88daf0029b3b",
   "metadata": {},
   "outputs": [
    {
     "name": "stdout",
     "output_type": "stream",
     "text": [
      "loading: \"checkpoint-n0000142-20240305-235708-step-00049190\"\n",
      "Model in \"/home/janpf/work/ogbnmag/gnn-baseline_17\" trained for 49190 steps.\n",
      "Results on valid:\n",
      "\tMean Loss+Regularization (#loss+): 1.920\n",
      "\tMean Loss (#loss): 1.834\n",
      "\tMean Accuracy (#acc): 48.64%\n",
      "\telapsed 9.335698266s (valid)\n",
      "Results on test:\n",
      "\tMean Loss+Regularization (#loss+): 1.917\n",
      "\tMean Loss (#loss): 1.830\n",
      "\tMean Accuracy (#acc): 48.38%\n",
      "\telapsed 5.863748141s (test)\n"
     ]
    }
   ],
   "source": [
    "%%\n",
    "ctx := configGnn(*flagDataDir)\n",
    "ctx.SetParam(\"checkpoint\", path.Join(*flagDataDir, \"gnn-baseline_17\"))\n",
    "\n",
    "_, trainEvalDS, validEvalDS, testEvalDS := must.M4(mag.MakeDatasets(*flagDataDir))\n",
    "_, _, _ = trainEvalDS, validEvalDS, testEvalDS\n",
    "must.M(mag.Eval(ctx, *flagDataDir, validEvalDS, testEvalDS))"
   ]
  },
  {
   "cell_type": "code",
   "execution_count": 4,
   "id": "7d34e1bc-1f7e-4a2c-b15d-74a23acd07d2",
   "metadata": {},
   "outputs": [
    {
     "name": "stdout",
     "output_type": "stream",
     "text": [
      "╭───────┬───────────────┬───────────────┬───────────────┬───────────────┬────────────────┬────────────────┬────────────────┬────────────────╮\n",
      "│ Step  │ (A)train:#acc │ (A)valid:#acc │ (B)train:#acc │ (B)valid:#acc │ (A)train:#loss │ (A)valid:#loss │ (B)train:#loss │ (B)valid:#loss │\n",
      "├───────┼───────────────┼───────────────┼───────────────┼───────────────┼────────────────┼────────────────┼────────────────┼────────────────┤\n",
      "│ 200   │ 0.180916      │ 0.171514      │ 0.166444      │ 0.122666      │ 3.773040       │ 3.754423       │ 3.932029       │ 4.029837       │\n",
      "│ 440   │ 0.247725      │ 0.240095      │ 0.228974      │ 0.250166      │ 3.233717       │ 3.228036       │ 3.304488       │ 3.325431       │\n",
      "│ 728   │ 0.279135      │ 0.266171      │ 0.276081      │ 0.279186      │ 2.960663       │ 2.991662       │ 2.985939       │ 3.023475       │\n",
      "│ 1074  │ 0.305296      │ 0.280638      │ 0.302901      │ 0.301041      │ 2.745518       │ 2.798317       │ 2.795963       │ 2.841690       │\n",
      "│ 1489  │ 0.333413      │ 0.321668      │ 0.329183      │ 0.308941      │ 2.570994       │ 2.599325       │ 2.578164       │ 2.648967       │\n",
      "│ 1987  │ 0.351274      │ 0.364356      │ 0.361632      │ 0.352966      │ 2.442858       │ 2.464871       │ 2.413039       │ 2.450382       │\n",
      "│ 2585  │ 0.373780      │ 0.375787      │ 0.379056      │ 0.383079      │ 2.342255       │ 2.358288       │ 2.309998       │ 2.355932       │\n",
      "│ 3303  │ 0.395888      │ 0.388510      │ 0.393836      │ 0.381917      │ 2.251031       │ 2.297292       │ 2.234293       │ 2.311403       │\n",
      "│ 4165  │ 0.416830      │ 0.402710      │ 0.411786      │ 0.378493      │ 2.155437       │ 2.216805       │ 2.157163       │ 2.322482       │\n",
      "│ 4918  │ 0.427669      │ 0.418439      │ 0.420364      │ 0.406671      │ 2.103018       │ 2.163267       │ 2.118950       │ 2.212325       │\n",
      "│ 5199  │ 0.431569      │ 0.407500      │ 0.433030      │ 0.411506      │ 2.089684       │ 2.166234       │ 2.075284       │ 2.188980       │\n",
      "│ 6440  │ 0.441816      │ 0.429148      │ 0.452808      │ 0.414094      │ 2.034967       │ 2.106810       │ 1.982350       │ 2.138489       │\n",
      "│ 7929  │ 0.453167      │ 0.421537      │ 0.462693      │ 0.431115      │ 1.972102       │ 2.081811       │ 1.939919       │ 2.076329       │\n",
      "│ 9716  │ 0.468312      │ 0.443272      │ 0.471816      │ 0.445811      │ 1.908569       │ 2.014878       │ 1.890079       │ 2.017094       │\n",
      "│ 9837  │ 0.465096      │ 0.426930      │               │               │ 1.915486       │ 2.058605       │                │                │\n",
      "│ 11860 │ 0.474923      │ 0.444019      │ 0.485296      │ 0.447069      │ 1.878259       │ 2.014814       │ 1.822391       │ 1.994979       │\n",
      "│ 14433 │ 0.487700      │ 0.448934      │               │               │ 1.813430       │ 1.979457       │                │                │\n",
      "│ 14756 │ 0.491034      │ 0.457326      │               │               │ 1.805488       │ 1.941791       │                │                │\n",
      "│ 17521 │ 0.499759      │ 0.458051      │               │               │ 1.765765       │ 1.942372       │                │                │\n",
      "│ 19675 │ 0.503833      │ 0.467533      │               │               │ 1.739850       │ 1.909047       │                │                │\n",
      "│ 21227 │ 0.509549      │ 0.468856      │               │               │ 1.722304       │ 1.906313       │                │                │\n",
      "│ 24594 │ 0.521019      │ 0.471386      │               │               │ 1.669209       │ 1.884887       │                │                │\n",
      "│ 25674 │ 0.526639      │ 0.470824      │               │               │ 1.651130       │ 1.872197       │                │                │\n",
      "│ 29513 │ 0.534404      │ 0.474971      │               │               │ 1.612231       │ 1.863144       │                │                │\n",
      "│ 31010 │ 0.540376      │ 0.478601      │               │               │ 1.592565       │ 1.854338       │                │                │\n",
      "│ 34432 │ 0.545188      │ 0.480930      │               │               │ 1.568194       │ 1.834641       │                │                │\n",
      "│ 37413 │ 0.550598      │ 0.483950      │               │               │ 1.544511       │ 1.831433       │                │                │\n",
      "│ 39351 │ 0.552669      │ 0.487288      │               │               │ 1.536351       │ 1.818012       │                │                │\n",
      "│ 44270 │ 0.557120      │ 0.488586      │               │               │ 1.520181       │ 1.814982       │                │                │\n",
      "│ 45097 │ 0.557849      │ 0.488498      │               │               │ 1.517491       │ 1.811634       │                │                │\n",
      "│ 49189 │ 0.557853      │ 0.488084      │               │               │ 1.517035       │ 1.816056       │                │                │\n",
      "│ 49190 │ 0.557829      │ 0.488555      │               │               │ 1.517604       │ 1.814667       │                │                │\n",
      "╰───────┴───────────────┴───────────────┴───────────────┴───────────────┴────────────────┴────────────────┴────────────────┴────────────────╯\n"
     ]
    }
   ],
   "source": [
    "import (\n",
    "    \"github.com/gomlx/gomlx/examples/notebook/gonb/plots\"\n",
    "    \"github.com/janpfeifer/gonb/gonbui/plotly\"\n",
    "    grob \"github.com/MetalBlueberry/go-plotly/graph_objects\"\n",
    ")\n",
    "\n",
    "func renamePoint(p *plots.Point) {\n",
    "    p.MetricName = strings.Replace(p.MetricName, \"Eval on \", \"\", -1)\n",
    "    \n",
    "    p.MetricName = strings.Replace(p.MetricName, \"Accuracy\", \"acc\", -1)\n",
    "    p.MetricName = strings.Replace(p.MetricName, \"Loss+Regularization\", \"loss+\", -1)\n",
    "    p.MetricName = strings.Replace(p.MetricName, \"Loss\", \"loss\", -1)\n",
    "    \n",
    "    p.MetricName = strings.Replace(p.MetricName, \" Mean \", \"#\", -1)\n",
    "    p.MetricName = strings.Replace(p.MetricName, \" Moving Average \", \"~\", -1)\n",
    "}\n",
    "\n",
    "func FilterPoints(points plots.Points) {\n",
    "    points.Map(renamePoint)\n",
    "    batchSize := float64(4919)\n",
    "    _ = batchSize\n",
    "    points.Filter(func (p plots.Point) bool {\n",
    "        return strings.Index(p.MetricName, \"Batch\") < 0 &&\n",
    "            // strings.Index(p.MetricName, \"~\") < 0 &&\n",
    "            strings.Index(p.MetricName, \"Train:~loss\") < 0 &&\n",
    "            strings.Index(p.MetricName, \"Train:~acc\") < 0 &&\n",
    "            strings.Index(p.MetricName, \"loss+\") < 0 &&\n",
    "            // math.Abs(math.Round(p.Step / batchSize)*batchSize - p.Step) < 10 &&\n",
    "            true\n",
    "    })\n",
    "}\n",
    "\n",
    "%%\n",
    "checkpoints := []string{\"gnn-baseline_24\", \"gnn-baseline_26\"}\n",
    "prefixes := []string{\"(A)\", \"(B)\"}\n",
    "\n",
    "var merged plots.Points\n",
    "for ii, checkpoint := range checkpoints {\n",
    "    pts := plots.NewPoints(must.M1(plots.LoadPointsFromCheckpoint(path.Join(*flagDataDir, checkpoint))))\n",
    "    FilterPoints(pts)\n",
    "    pts.Map(func(p *plots.Point) {\n",
    "       p.MetricName = prefixes[ii] + p.MetricName \n",
    "    })\n",
    "    \n",
    "    if merged == nil {\n",
    "        merged = pts\n",
    "    } else {\n",
    "        merged.Add(pts)\n",
    "    }\n",
    "}\n",
    "\n",
    "fmt.Printf(\"%s\\n\", merged)"
   ]
  },
  {
   "cell_type": "code",
   "execution_count": 6,
   "id": "22fcf866-2682-4296-bf5b-4cc896db3bc2",
   "metadata": {},
   "outputs": [
    {
     "data": {
      "text/html": [
       "<p><b>Metric: accuracy</b></p>\n"
      ]
     },
     "metadata": {},
     "output_type": "display_data"
    },
    {
     "data": {
      "text/html": [
       "<div id=\"35dc8dc0\"></div>"
      ]
     },
     "metadata": {},
     "output_type": "display_data"
    },
    {
     "data": {
      "text/html": [
       "<script charset=\"UTF-8\">\n",
       "(() => {\n",
       "\tconst src=\"https://cdn.plot.ly/plotly-2.29.1.min.js\";\n",
       "\tvar runJSFn = function(module) {\n",
       "\t\t\n",
       "\tif (!module) {\n",
       "\t\tmodule = window.Plotly;\n",
       "\t}\n",
       "\tlet data = JSON.parse('{\"data\":[{\"type\":\"scatter\",\"line\":{\"shape\":\"linear\"},\"mode\":\"lines+markers\",\"name\":\"(26) train:#acc\",\"x\":[200,440,728,1074,1489,1987,2585,3303,4165,4918,5199,6440,7929,9716,9837,11860,14433,14756,17521,19675,21227,24594,25674,29513,31010,34432,37413,39351,44270,45097,49189,49190],\"y\":[0.10219665616750717,0.15885761380195618,0.21233603358268738,0.2537849545478821,0.2774544656276703,0.30632269382476807,0.33431321382522583,0.3558204472064972,0.37021270394325256,0.38455310463905334,0.38730376958847046,0.40234285593032837,0.4154217839241028,0.43173447251319885,0.4334718585014343,0.44458627700805664,0.4549987316131592,0.4538966417312622,0.46290507912635803,0.47097790241241455,0.4755758047103882,0.4834323823451996,0.486042857170105,0.4933459758758545,0.49485018849372864,0.4989841878414154,0.5030757784843445,0.5043177604675293,0.5068346261978149,0.5071399211883545,0.5078575015068054,0.5077939629554749]},{\"type\":\"scatter\",\"line\":{\"shape\":\"linear\"},\"mode\":\"lines+markers\",\"name\":\"(26) valid:#acc\",\"x\":[200,440,728,1074,1489,1987,2585,3303,4165,4918,5199,6440,7929,9716,9837,11860,14433,14756,17521,19675,21227,24594,25674,29513,31010,34432,37413,39351,44270,45097,49189,49190],\"y\":[0.07613581418991089,0.14264334738254547,0.17961253225803375,0.2425936907529831,0.27388522028923035,0.2880071699619293,0.33032214641571045,0.3404567241668701,0.35488924384117126,0.36981844902038574,0.38629207015037537,0.3805728852748871,0.39056169986724854,0.39484187960624695,0.4160058796405792,0.42130666971206665,0.39317768812179565,0.4230763912200928,0.41883283853530884,0.4195358455181122,0.426746129989624,0.42877310514450073,0.43132391571998596,0.43281739950180054,0.43654876947402954,0.44372716546058655,0.44568413496017456,0.44344744086265564,0.4403323829174042,0.44272321462631226,0.4446185529232025,0.44376158714294434]},{\"type\":\"scatter\",\"line\":{\"shape\":\"linear\"},\"mode\":\"lines+markers\",\"name\":\"(28) train:#acc\",\"x\":[200,440,728,1074,1489,1987,2585,3303,4165,4918,5199,6440,7929,9716,9837,11860,14433,14756,17521,19675,21227,24594,25674,29513,31010,34432,37413,39351,44270,45097,49189,49190],\"y\":[0.08998821675777435,0.1611393243074417,0.20730194449424744,0.2421572208404541,0.26336976885795593,0.2885291874408722,0.3089458644390106,0.328255295753479,0.3449772000312805,0.3583627939224243,0.36536702513694763,0.3766353726387024,0.3960881531238556,0.40775686502456665,0.40278252959251404,0.4194512665271759,0.4300408959388733,0.4313371181488037,0.4418273866176605,0.4466632902622223,0.4490028917789459,0.45868271589279175,0.4624074101448059,0.46827155351638794,0.4691934585571289,0.4753643274307251,0.4785035252571106,0.48050209879875183,0.48187243938446045,0.48246124386787415,0.48320987820625305,0.48297613859176636]},{\"type\":\"scatter\",\"line\":{\"shape\":\"linear\"},\"mode\":\"lines+markers\",\"name\":\"(28) valid:#acc\",\"x\":[200,440,728,1074,1489,1987,2585,3303,4165,4918,5199,6440,7929,9716,9837,11860,14433,14756,17521,19675,21227,24594,25674,29513,31010,34432,37413,39351,44270,45097,49189,49190],\"y\":[0.054360296577215195,0.13404497504234314,0.2322138249874115,0.2539657652378082,0.26447248458862305,0.3030264973640442,0.3140665888786316,0.3249763548374176,0.3369232714176178,0.3578360378742218,0.347093403339386,0.3633204698562622,0.37929752469062805,0.37845125794410706,0.3856296241283417,0.39529237151145935,0.39858755469322205,0.4031747877597809,0.41115084290504456,0.41340893507003784,0.41706326603889465,0.42581212520599365,0.4246019124984741,0.4283309578895569,0.42741942405700684,0.42894259095191956,0.43347999453544617,0.4345124065876007,0.43580445647239685,0.43414855003356934,0.4355756640434265,0.435930073261261]},{\"type\":\"scatter\",\"line\":{\"shape\":\"linear\"},\"mode\":\"lines+markers\",\"name\":\"(62) train:#acc\",\"x\":[200,440,728,1074,1489,1987,2585,3303,4165,4918,5199,6440,7929,9716,9837,11860,14433,14756,17521,19675,21227,24594,25674,29513,31010,34432,37413,39351,44270,45097,49189,49190],\"y\":[0.09487015753984451,0.1657532900571823,0.20120587944984436,0.2346089482307434,0.2642606198787689,0.28192850947380066,0.30577707290649414,0.32471588253974915,0.3418075144290924,0.34934985637664795,0.3569953143596649,0.36508631706237793,0.3864074647426605,0.3962450921535492,0.4016023278236389,0.40840673446655273,0.4223344922065735,0.4227156639099121,0.43200233578681946,0.43954628705978394,0.4417040944099426,0.45031389594078064,0.452251672744751,0.46110665798187256,0.46310707926750183,0.4683040678501129,0.4726240336894989,0.47259214520454407,0.47641339898109436,0.47608160972595215,0.47663751244544983,0.47688987851142883]},{\"type\":\"scatter\",\"line\":{\"shape\":\"linear\"},\"mode\":\"lines+markers\",\"name\":\"(62) valid:#acc\",\"x\":[200,440,728,1074,1489,1987,2585,3303,4165,4918,5199,6440,7929,9716,9837,11860,14433,14756,17521,19675,21227,24594,25674,29513,31010,34432,37413,39351,44270,45097,49189,49190],\"y\":[0.05962304770946503,0.15838800370693207,0.19044636189937592,0.20327521860599518,0.2570938467979431,0.27199459075927734,0.2958398163318634,0.31983205676078796,0.3343261778354645,0.33393025398254395,0.35718756914138794,0.3363899290561676,0.37607699632644653,0.3707631528377533,0.3827562928199768,0.38381481170654297,0.39130136370658875,0.3927569091320038,0.39513587951660156,0.4022490084171295,0.4048531651496887,0.4179735481739044,0.41185495257377625,0.4169778823852539,0.4248473346233368,0.42986243963241577,0.43112003803253174,0.4325768053531647,0.4357961118221283,0.43402528762817383,0.4357297420501709,0.43418174982070923]},{\"type\":\"scatter\",\"line\":{\"shape\":\"linear\"},\"mode\":\"lines+markers\",\"name\":\"(70) train:#acc\",\"x\":[200,440,728,1074,1489,1987],\"y\":[0.09326171875,0.09130859375,0.0936279296875,0.0950927734375,0.093505859375,0.0950927734375]},{\"type\":\"scatter\",\"line\":{\"shape\":\"linear\"},\"mode\":\"lines+markers\",\"name\":\"(70) valid:#acc\",\"x\":[200,440,728,1074,1489],\"y\":[0.012420654296875,0.012847900390625,0.0128173828125,0.012847900390625,0.013031005859375]}],\"layout\":{\"legend\":{},\"title\":{\"text\":\"accuracy\"},\"xaxis\":{\"showgrid\":true,\"type\":\"log\"},\"yaxis\":{\"showgrid\":true,\"type\":\"log\"}}}');\n",
       "\tmodule.newPlot('35dc8dc0', data);\n",
       "\n",
       "\t}\n",
       "\t\n",
       "    if (typeof requirejs === \"function\") {\n",
       "        // Use RequireJS to load module.\n",
       "\t\tlet srcWithoutExtension = src.substring(0, src.lastIndexOf(\".js\"));\n",
       "        requirejs.config({\n",
       "            paths: {\n",
       "                'plotly': srcWithoutExtension\n",
       "            }\n",
       "        });\n",
       "        require(['plotly'], function(plotly) {\n",
       "            runJSFn(plotly)\n",
       "        });\n",
       "        return\n",
       "    }\n",
       "\n",
       "\tvar currentScripts = document.head.getElementsByTagName(\"script\");\n",
       "\tfor (const idx in currentScripts) {\n",
       "\t\tlet script = currentScripts[idx];\n",
       "\t\tif (script.src == src) {\n",
       "\t\t\trunJSFn(null);\n",
       "\t\t\treturn;\n",
       "\t\t}\n",
       "\t}\n",
       "\n",
       "\tvar script = document.createElement(\"script\");\n",
       "\n",
       "\tscript.charset = \"utf-8\";\n",
       "\t\n",
       "\tscript.src = src;\n",
       "\tscript.onload = script.onreadystatechange = function () { runJSFn(null); };\n",
       "\tdocument.head.appendChild(script);\t\n",
       "})();\n",
       "</script>"
      ]
     },
     "metadata": {},
     "output_type": "display_data"
    },
    {
     "data": {
      "text/html": [
       "<p><b>Metric: loss</b></p>\n"
      ]
     },
     "metadata": {},
     "output_type": "display_data"
    },
    {
     "data": {
      "text/html": [
       "<div id=\"4f77ec6f\"></div>"
      ]
     },
     "metadata": {},
     "output_type": "display_data"
    },
    {
     "data": {
      "text/html": [
       "<script charset=\"UTF-8\">\n",
       "(() => {\n",
       "\tconst src=\"https://cdn.plot.ly/plotly-2.29.1.min.js\";\n",
       "\tvar runJSFn = function(module) {\n",
       "\t\t\n",
       "\tif (!module) {\n",
       "\t\tmodule = window.Plotly;\n",
       "\t}\n",
       "\tlet data = JSON.parse('{\"data\":[{\"type\":\"scatter\",\"line\":{\"shape\":\"linear\"},\"mode\":\"lines+markers\",\"name\":\"(26) train:#loss\",\"x\":[200,440,728,1074,1489,1987,2585,3303,4165,4918,5199,6440,7929,9716,9837,11860,14433,14756,17521,19675,21227,24594,25674,29513,31010,34432,37413,39351,44270,45097,49189,49190],\"y\":[4.713696002960205,3.955221176147461,3.4671919345855713,3.1732890605926514,2.9593722820281982,2.766836643218994,2.601292133331299,2.480053186416626,2.400376558303833,2.3219168186187744,2.298652172088623,2.232933759689331,2.173421859741211,2.105095863342285,2.0886857509613037,2.037712574005127,1.9944177865982056,1.9891387224197388,1.951344609260559,1.9175909757614136,1.9006072282791138,1.8672879934310913,1.85395085811615,1.8244353532791138,1.8125157356262207,1.7947535514831543,1.781639575958252,1.7741806507110596,1.764391541481018,1.763758659362793,1.7612007856369019,1.7611984014511108]},{\"type\":\"scatter\",\"line\":{\"shape\":\"linear\"},\"mode\":\"lines+markers\",\"name\":\"(26) valid:#loss\",\"x\":[200,440,728,1074,1489,1987,2585,3303,4165,4918,5199,6440,7929,9716,9837,11860,14433,14756,17521,19675,21227,24594,25674,29513,31010,34432,37413,39351,44270,45097,49189,49190],\"y\":[4.767096519470215,3.9502861499786377,3.5343432426452637,3.2252745628356934,2.993469476699829,2.825345516204834,2.6431846618652344,2.565838575363159,2.4811911582946777,2.3937642574310303,2.359250068664551,2.3687825202941895,2.288625478744507,2.246518850326538,2.1977810859680176,2.1728458404541016,2.2065787315368652,2.1437971591949463,2.1496036052703857,2.1326191425323486,2.1080265045166016,2.1055450439453125,2.0832107067108154,2.083876609802246,2.0627691745758057,2.043903112411499,2.0301547050476074,2.034879446029663,2.0376574993133545,2.0376062393188477,2.0344340801239014,2.0311877727508545]},{\"type\":\"scatter\",\"line\":{\"shape\":\"linear\"},\"mode\":\"lines+markers\",\"name\":\"(28) train:#loss\",\"x\":[200,440,728,1074,1489,1987,2585,3303,4165,4918,5199,6440,7929,9716,9837,11860,14433,14756,17521,19675,21227,24594,25674,29513,31010,34432,37413,39351,44270,45097,49189,49190],\"y\":[4.749053955078125,3.9761619567871094,3.490201473236084,3.2336039543151855,3.040177583694458,2.8574278354644775,2.719291925430298,2.6026017665863037,2.502228021621704,2.432267427444458,2.4066078662872314,2.354313611984253,2.275810718536377,2.2066001892089844,2.2162439823150635,2.1571571826934814,2.1055521965026855,2.098012924194336,2.0504612922668457,2.0323376655578613,2.0212655067443848,1.9782633781433105,1.9605761766433716,1.9320210218429565,1.9305148124694824,1.9033737182617188,1.8902740478515625,1.8821446895599365,1.8761475086212158,1.873600959777832,1.8720651865005493,1.871398687362671]},{\"type\":\"scatter\",\"line\":{\"shape\":\"linear\"},\"mode\":\"lines+markers\",\"name\":\"(28) valid:#loss\",\"x\":[200,440,728,1074,1489,1987,2585,3303,4165,4918,5199,6440,7929,9716,9837,11860,14433,14756,17521,19675,21227,24594,25674,29513,31010,34432,37413,39351,44270,45097,49189,49190],\"y\":[4.81075382232666,3.955275297164917,3.4542276859283447,3.2225775718688965,3.039616584777832,2.849473476409912,2.725024461746216,2.6110949516296387,2.5222456455230713,2.451167106628418,2.457784414291382,2.4021506309509277,2.3394651412963867,2.306767463684082,2.2960124015808105,2.251098394393921,2.2286298274993896,2.217707872390747,2.182994842529297,2.1743993759155273,2.159079074859619,2.136042356491089,2.127901792526245,2.1035778522491455,2.109424352645874,2.094660997390747,2.082273483276367,2.07816481590271,2.0707311630249023,2.0721611976623535,2.0717592239379883,2.0720412731170654]},{\"type\":\"scatter\",\"line\":{\"shape\":\"linear\"},\"mode\":\"lines+markers\",\"name\":\"(62) train:#loss\",\"x\":[200,440,728,1074,1489,1987,2585,3303,4165,4918,5199,6440,7929,9716,9837,11860,14433,14756,17521,19675,21227,24594,25674,29513,31010,34432,37413,39351,44270,45097,49189,49190],\"y\":[4.640432357788086,3.927823066711426,3.4930853843688965,3.2529842853546143,3.0362496376037598,2.885684013366699,2.737062931060791,2.6177051067352295,2.509780168533325,2.4513518810272217,2.4280569553375244,2.3752167224884033,2.3005032539367676,2.250343084335327,2.24204683303833,2.190028190612793,2.1363565921783447,2.1289899349212646,2.091637134552002,2.0564639568328857,2.0417418479919434,2.0044217109680176,2.001380443572998,1.9625701904296875,1.9534043073654175,1.9294910430908203,1.911555290222168,1.9087872505187988,1.8971538543701172,1.8963563442230225,1.89578115940094,1.8953475952148438]},{\"type\":\"scatter\",\"line\":{\"shape\":\"linear\"},\"mode\":\"lines+markers\",\"name\":\"(62) valid:#loss\",\"x\":[200,440,728,1074,1489,1987,2585,3303,4165,4918,5199,6440,7929,9716,9837,11860,14433,14756,17521,19675,21227,24594,25674,29513,31010,34432,37413,39351,44270,45097,49189,49190],\"y\":[4.700151443481445,3.8970224857330322,3.4647164344787598,3.301844596862793,3.037510633468628,2.8805577754974365,2.7407212257385254,2.617645025253296,2.529327869415283,2.488762378692627,2.425687789916992,2.4437668323516846,2.3578426837921143,2.3323349952697754,2.316837787628174,2.270789861679077,2.243593454360962,2.241381883621216,2.233832359313965,2.192840814590454,2.18564510345459,2.133545398712158,2.152172088623047,2.133981943130493,2.1126837730407715,2.0912065505981445,2.08099627494812,2.083071708679199,2.0714213848114014,2.073306083679199,2.073007345199585,2.0717926025390625]}],\"layout\":{\"legend\":{},\"title\":{\"text\":\"loss\"},\"xaxis\":{\"showgrid\":true,\"type\":\"log\"},\"yaxis\":{\"showgrid\":true,\"type\":\"log\"}}}');\n",
       "\tmodule.newPlot('4f77ec6f', data);\n",
       "\n",
       "\t}\n",
       "\t\n",
       "    if (typeof requirejs === \"function\") {\n",
       "        // Use RequireJS to load module.\n",
       "\t\tlet srcWithoutExtension = src.substring(0, src.lastIndexOf(\".js\"));\n",
       "        requirejs.config({\n",
       "            paths: {\n",
       "                'plotly': srcWithoutExtension\n",
       "            }\n",
       "        });\n",
       "        require(['plotly'], function(plotly) {\n",
       "            runJSFn(plotly)\n",
       "        });\n",
       "        return\n",
       "    }\n",
       "\n",
       "\tvar currentScripts = document.head.getElementsByTagName(\"script\");\n",
       "\tfor (const idx in currentScripts) {\n",
       "\t\tlet script = currentScripts[idx];\n",
       "\t\tif (script.src == src) {\n",
       "\t\t\trunJSFn(null);\n",
       "\t\t\treturn;\n",
       "\t\t}\n",
       "\t}\n",
       "\n",
       "\tvar script = document.createElement(\"script\");\n",
       "\n",
       "\tscript.charset = \"utf-8\";\n",
       "\t\n",
       "\tscript.src = src;\n",
       "\tscript.onload = script.onreadystatechange = function () { runJSFn(null); };\n",
       "\tdocument.head.appendChild(script);\t\n",
       "})();\n",
       "</script>"
      ]
     },
     "metadata": {},
     "output_type": "display_data"
    }
   ],
   "source": [
    "import (\n",
    "    stdplots \"github.com/gomlx/gomlx/examples/notebook/gonb/plots\"\n",
    "    \"github.com/gomlx/gomlx/examples/notebook/gonb/plotly\"\n",
    ")\n",
    "%%\n",
    "versions := []int{26, 28, 62, 70}\n",
    "\n",
    "plots := plotly.New()\n",
    "for _, version := range versions {\n",
    "    // checkpoint := fmt.Sprintf(\"gnn-baseline_%d\", version)\n",
    "    checkpoint := fmt.Sprintf(\"small_%d\", version)\n",
    "    prefix := fmt.Sprintf(\"(%d) \", version)\n",
    "    must.M(plots.LoadCheckpointData(path.Join(*flagDataDir, checkpoint), \n",
    "        func (pt *stdplots.Point) bool {\n",
    "            renamePoint(pt)\n",
    "            pt.MetricName = prefix+pt.MetricName\n",
    "            return strings.Index(pt.MetricName, \"Batch\") < 0 &&\n",
    "                // strings.Index(pt.MetricName, \"~\") < 0 &&\n",
    "                strings.Index(pt.MetricName, \"Train:~loss\") < 0 &&\n",
    "                strings.Index(pt.MetricName, \"Train:~acc\") < 0 &&\n",
    "                strings.Index(pt.MetricName, \"loss+\") < 0 &&\n",
    "                // math.Abs(math.Round(pt.Step / batchSize)*batchSize - pt.Step) < 10 &&\n",
    "                true\n",
    "        }))\n",
    "}\n",
    "\n",
    "// plots.Dynamic()\n",
    "// plots.DynamicPlot(false)\n",
    "plots.Plot()"
   ]
  },
  {
   "cell_type": "markdown",
   "id": "b3be00bc-f688-44a1-907d-a4481270ed7a",
   "metadata": {},
   "source": [
    "### Layer-wise Inference Experiments"
   ]
  },
  {
   "cell_type": "code",
   "execution_count": 35,
   "id": "d7970388-f219-49e4-8eee-2bd3b64fc542",
   "metadata": {},
   "outputs": [
    {
     "name": "stdout",
     "output_type": "stream",
     "text": [
      "Sampling strategy: (12 Rules)\n",
      "> Rule \"seeds\": type=Node, nodeType=\"papers\", Shape=(Int32)[128] (size=128)\n",
      "  > Rule \"citations\": type=Edge, nodeType=\"papers\", Shape=(Int32)[128 8] (size=1024), SourceRule=\"seeds\", EdgeType=\"cites\"\n",
      "    > Rule \"citationsAuthors\": type=Edge, nodeType=\"authors\", Shape=(Int32)[128 8 8] (size=8192), SourceRule=\"citations\", EdgeType=\"writtenBy\"\n",
      "      > Rule \"papersByCitationAuthors\": type=Edge, nodeType=\"papers\", Shape=(Int32)[128 8 8 8] (size=65536), SourceRule=\"citationsAuthors\", EdgeType=\"writes\"\n",
      "        > Rule \"papersByCitationAuthorsTopics\": type=Edge, nodeType=\"fields_of_study\", Shape=(Int32)[128 8 8 8 8] (size=524288), SourceRule=\"papersByCitationAuthors\", EdgeType=\"hasTopic\"\n",
      "      > Rule \"citationAuthorsInstitutions\": type=Edge, nodeType=\"institutions\", Shape=(Int32)[128 8 8 8] (size=65536), SourceRule=\"citationsAuthors\", EdgeType=\"affiliatedWith\"\n",
      "    > Rule \"citationsTopics\": type=Edge, nodeType=\"fields_of_study\", Shape=(Int32)[128 8 8] (size=8192), SourceRule=\"citations\", EdgeType=\"hasTopic\"\n",
      "  > Rule \"seedsAuthors\": type=Edge, nodeType=\"authors\", Shape=(Int32)[128 8] (size=1024), SourceRule=\"seeds\", EdgeType=\"writtenBy\"\n",
      "    > Rule \"papersByAuthors\": type=Edge, nodeType=\"papers\", Shape=(Int32)[128 8 8] (size=8192), SourceRule=\"seedsAuthors\", EdgeType=\"writes\"\n",
      "      > Rule \"papersByAuthorsTopics\": type=Edge, nodeType=\"fields_of_study\", Shape=(Int32)[128 8 8 8] (size=65536), SourceRule=\"papersByAuthors\", EdgeType=\"hasTopic\"\n",
      "    > Rule \"authorsInstitutions\": type=Edge, nodeType=\"institutions\", Shape=(Int32)[128 8 8] (size=8192), SourceRule=\"seedsAuthors\", EdgeType=\"affiliatedWith\"\n",
      "  > Rule \"seedsTopics\": type=Edge, nodeType=\"fields_of_study\", Shape=(Int32)[128 8] (size=1024), SourceRule=\"seeds\", EdgeType=\"hasTopic\"\n",
      "\n",
      "\n",
      "loading: \"checkpoint-n0000142-20240305-235708-step-00049190\"\n",
      "sourceState: (Float32)[59965 32]\n",
      "Done.\n"
     ]
    }
   ],
   "source": [
    "import (\n",
    "    mldata \"github.com/gomlx/gomlx/ml/data\"\n",
    "    \"github.com/gomlx/gomlx/ml/context/checkpoints\"\n",
    ")\n",
    "\n",
    "func loadCtx(checkpointName string) (ctx *context.Context) {\n",
    "    ctx = context.NewContext(manager)\n",
    "\tmag.UploadOgbnMagVariables(ctx)\n",
    "\n",
    "    // Exclude from saving all the variables created by the `mag` package -- specially the frozen papers embeddings,\n",
    "    // which take most space.\n",
    "    var varsToExclude []*context.Variable\n",
    "    ctx.InAbsPath(mag.OgbnMagVariablesScope).EnumerateVariablesInScope(func(v *context.Variable) {\n",
    "        varsToExclude = append(varsToExclude, v)\n",
    "    })\n",
    "    _ = must.M1(checkpoints.\n",
    "                Build(ctx).\n",
    "                DirFromBase(checkpointName, *flagDataDir).\n",
    "                ExcludeVarsFromSaving(varsToExclude...).\n",
    "                Done())\n",
    "    return ctx\n",
    "}\n",
    "\n",
    "%%\n",
    "must.M(mag.Download(*flagDataDir))\n",
    "magSampler := must.M1(mag.NewSampler(*flagDataDir))\n",
    "magStrategy := mag.MagStrategy(magSampler, mag.BatchSize, nil)\n",
    "fmt.Printf(\"%s\\n\\n\\n\", magStrategy)\n",
    "ctx := loadCtx(\"gnn-baseline_17\")\n",
    "\n",
    "ctxEmbed := ctx.In(\"embeddings\")\n",
    "sourceState := ctxEmbed.In(\"fields_of_study\").InspectVariableInScope(\"embeddings\").Value()\n",
    "fmt.Printf(\"sourceState: %s\\n\", sourceState.Shape())\n",
    "rule := magStrategy.Rules[\"papersByCitationAuthorsTopics\"]\n",
    "\n",
    "\n",
    "_, _, _, _ = ctx, magSampler, magStrategy, rule\n",
    "fmt.Println(\"Done.\")"
   ]
  }
 ],
 "metadata": {
  "kernelspec": {
   "display_name": "Go (gonb)",
   "language": "go",
   "name": "gonb"
  },
  "language_info": {
   "codemirror_mode": "",
   "file_extension": ".go",
   "mimetype": "",
   "name": "go",
   "nbconvert_exporter": "",
   "pygments_lexer": "",
   "version": "go1.22.1"
  }
 },
 "nbformat": 4,
 "nbformat_minor": 5
}
