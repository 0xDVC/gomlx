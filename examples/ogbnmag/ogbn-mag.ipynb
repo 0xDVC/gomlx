{
 "cells": [
  {
   "cell_type": "markdown",
   "id": "5c7bc97f-89b4-4275-baf0-825ebda0bae7",
   "metadata": {},
   "source": [
    "# Open Graph Benchmark (OGB) Node Prediction for Micrososoft Academic Graph (OGBN-MAG)\n",
    "\n",
    "The [Open Graph Benchmark (OGB)](https://ogb.stanford.edu/) is a collection of realistic, large-scale, and diverse benchmark datasets for machine learning on graphs.\n",
    "\n",
    "This notebook demonstrate a [Graph Neural Network ([GNN])](https://en.wikipedia.org/wiki/Graph_neural_network) based on [TF-GNN](https://github.com/tensorflow/gnn) [OGBNMAG tutorial](https://colab.research.google.com/github/tensorflow/gnn/blob/master/examples/notebooks/ogbn_mag_e2e.ipynb), but using GoMLX.\n",
    "\n",
    "The task [OGBN-MAG is described here](https://ogb.stanford.edu/docs/nodeprop/#ogbn-mag). This demo comes with a library that does the downloading, parsing and converting of the data to tensors for fast use.\n",
    "\n",
    "The model is experimental, but it includes a basic GNN library that can be used for different projects.\n",
    "\n",
    "**EXPERIMENTAL**, it has been used only for OGBN-MAG still.\n",
    "\n",
    "See also [OGBN-MAG Leaderboard](https://ogb.stanford.edu/docs/leader_nodeprop/#ogbn-papers100M) -- take with a grain of salt because different models use different tricks that may be considered leaking, or using extra data from the outside (so more data), and in some cases are very overfit to the task. But still, it's a fun dataset to work with.\n",
    "\n",
    "See the subdirectory `demo` for a command line of the trainer (that can be run on the cloud somewhere) and it will save datapoints that can be plotted in the notebook later.\n"
   ]
  },
  {
   "cell_type": "code",
   "execution_count": 1,
   "id": "b357050e-2756-465f-9e81-c83c49b6a84b",
   "metadata": {},
   "outputs": [
    {
     "name": "stdout",
     "output_type": "stream",
     "text": [
      "\t- Added replace rule for module \"github.com/gomlx/gopjrt\" to local directory \"/home/janpf/Projects/gopjrt\".\n",
      "\t- Added replace rule for module \"github.com/gomlx/gomlx\" to local directory \"/home/janpf/Projects/gomlx\".\n",
      "\t- Added replace rule for module \"github.com/janpfeifer/gonb\" to local directory \"/home/janpf/Projects/gonb\".\n"
     ]
    }
   ],
   "source": [
    "!*rm -f go.work && go work init && go work use . \"${HOME}/Projects/gomlx\" \"${HOME}/Projects/gonb\" \"${HOME}/Projects/gopjrt\"\n",
    "%goworkfix"
   ]
  },
  {
   "cell_type": "markdown",
   "id": "598ddc21-be30-4883-ad85-e0f9199ef0d7",
   "metadata": {},
   "source": [
    "## Downloading Dataset\n",
    "\n",
    "The method `mag.Download()` will download the dataset to the data directory, if not yet downloaded.\n",
    "It then converts the dataset to tensors, which are then available for use.\n",
    "\n",
    "The tensor is then saved for faster access. After saved, the next call to `mag.Download()` will take 1/2s."
   ]
  },
  {
   "cell_type": "code",
   "execution_count": 9,
   "id": "fb544cc2-b70b-4975-acda-fd39ccfb0f94",
   "metadata": {},
   "outputs": [
    {
     "name": "stdout",
     "output_type": "stream",
     "text": [
      "Elapsed: 2.191164384s\n"
     ]
    }
   ],
   "source": [
    "import (\n",
    "    \"flag\"\n",
    "    mag \"github.com/gomlx/gomlx/examples/ogbnmag\"\n",
    "    \"github.com/janpfeifer/must\"\n",
    "\t\"github.com/gomlx/gomlx/backends\"\n",
    "\n",
    "    _ \"github.com/gomlx/gomlx/backends/xla\"\n",
    ")\n",
    "\n",
    "var (\n",
    "    flagDataDir   = flag.String(\"data\", \"~/work/ogbnmag\", \"Directory to cache downloaded and generated dataset files.\")\n",
    "    backend = backends.New()\n",
    ")\n",
    "\n",
    "%%\n",
    "start := time.Now()\n",
    "must.M(mag.Download(*flagDataDir))\n",
    "fmt.Printf(\"Elapsed: %s\\n\", time.Since(start))"
   ]
  },
  {
   "cell_type": "markdown",
   "id": "13ed15ef-e36f-4bf8-a360-ff5bbc047b90",
   "metadata": {},
   "source": [
    "## FNN model, No Graph\n",
    "\n",
    "The first model will only use the paper features, and no relations. It serves as a baseline.\n",
    "\n",
    "In a quick experiment, without much hyperparameter tuning, we got 27.27% on test accuracy, which is inline with the corresponding results in [the leaderboard](https://ogb.stanford.edu/docs/leader_nodeprop/#ogbn-mag) (the Multi Layer Perceptron MLP entry in the bottom)."
   ]
  },
  {
   "cell_type": "code",
   "execution_count": 20,
   "id": "f99dda4b-4bc6-493d-a02c-a936e510828a",
   "metadata": {},
   "outputs": [],
   "source": [
    "import (\n",
    "\t\"github.com/gomlx/gomlx/ml/context\"\n",
    "    . \"github.com/gomlx/gomlx/graph\"\n",
    ")\n",
    "func config() (ctx *context.Context) {\n",
    "    ctx = context.NewContext()\n",
    "    ctx.RngStateReset()\n",
    "    ctx.SetParams(map[string]any{\n",
    "        \"train_steps\": 400_000, \n",
    "        \"batch_size\": 128,\n",
    "        \"optimizer\": \"adamw\", \n",
    "        optimizers.LearningRateKey: 0.0001,\n",
    "        layers.L2RegularizationKey: 1e-4,\n",
    "        \"normalization\": \"layer\",\n",
    "        \"dropout\": 0.1,\n",
    "        \"hidden_layers\": 2,\n",
    "        \"num_nodes\": 256,\n",
    "        \"plots\": true,\n",
    "    })\n",
    "    return\n",
    "}"
   ]
  },
  {
   "cell_type": "code",
   "execution_count": 12,
   "id": "096498da-5cf8-48d0-ac96-1a8d6c2b4fa0",
   "metadata": {},
   "outputs": [
    {
     "name": "stdout",
     "output_type": "stream",
     "text": [
      "Set: GOMLX_BACKEND=\"xla:cpu\"\n"
     ]
    }
   ],
   "source": [
    "%env GOMLX_BACKEND=xla:cpu"
   ]
  },
  {
   "cell_type": "code",
   "execution_count": null,
   "id": "f2bc12d5-dd9b-47a0-a6eb-0e97ebbb6511",
   "metadata": {},
   "outputs": [
    {
     "name": "stdout",
     "output_type": "stream",
     "text": [
      "loading: \"checkpoint-n0000149-20240721-191922-step-00410512\"\n",
      "loading: \"checkpoint-n0000147-20240721-191721-step-00404871\"\n",
      "loading: \"checkpoint-n0000148-20240721-191821-step-00407634\"\n",
      "> restarting training from global_step=410512\n",
      "\n",
      "Results on seeds_train:\n"
     ]
    },
    {
     "data": {
      "text/html": [
       "<svg preserveAspectRatio=\"xMidYMid meet\" xmlns=\"http://www.w3.org/2000/svg\" width=\"1024\" height=\"472\" viewbox=\"0 0 1024 400\" style=\"background-color:#f8f8f8\"><defs><marker markerWidth=\"2%\" markerHeight=\"2%\" id=\"circle\" viewBox=\"0 0 10 10 \" refX=\"5\" refY=\"5\" markerUnits=\"userSpaceOnUse\"><circle r=\"3\" fill=\"none\" stroke=\"black\" cx=\"5\" cy=\"5\"/></marker><marker refX=\"5\" refY=\"5\" markerUnits=\"userSpaceOnUse\" markerWidth=\"2%\" markerHeight=\"2%\" id=\"filled-circle\" viewBox=\"0 0 10 10 \"><circle cy=\"5\" r=\"3\" fill=\"black\" stroke=\"none\" cx=\"5\"/></marker><marker markerWidth=\"2%\" markerHeight=\"2%\" id=\"square\" viewBox=\"0 0 10 10 \" refX=\"5\" refY=\"5\" markerUnits=\"userSpaceOnUse\"><rect x=\"2\" y=\"2\" width=\"6\" height=\"6\" fill=\"none\" stroke=\"black\"/></marker><marker id=\"filled-square\" viewBox=\"0 0 10 10 \" refX=\"5\" refY=\"5\" markerUnits=\"userSpaceOnUse\" markerWidth=\"2%\" markerHeight=\"2%\"><rect x=\"2\" y=\"2\" width=\"6\" height=\"6\" fill=\"black\" stroke=\"none\"/></marker></defs><g transform=\"translate(70 330 )scale(1 -1 )\" stroke-linecap=\"round\" marker-end=\"url(#square)\" stroke-linejoin=\"round\" marker-mid=\"url(#square)\" fill=\"none\" marker-start=\"url(#square)\" stroke=\"hsl(90, 47%, 65%)\" stroke-width=\"2px\"><path vector-effect=\"non-scaling-stroke\" d=\"M1.768000e+01,5.200000e+00 L9.342704e+01,5.451585e+00 L1.398807e+02,3.573320e+01 L1.743645e+02,3.589330e+01 L2.022947e+02,5.718649e+01 L2.262080e+02,8.003493e+01 L2.473073e+02,8.769682e+01 L2.664046e+02,1.204028e+02 L2.840011e+02,1.433198e+02 L3.004240e+02,1.451495e+02 L3.158963e+02,1.505014e+02 L3.305756e+02,1.503185e+02 L3.446184e+02,1.604505e+02 L3.581316e+02,1.532689e+02 L3.711899e+02,1.692102e+02 L3.838458e+02,1.659167e+02 L3.961624e+02,1.727095e+02 L4.081817e+02,1.758886e+02 L4.199514e+02,1.819495e+02 L4.315009e+02,1.924932e+02 L4.428638e+02,1.793193e+02 L4.540588e+02,1.881934e+02 L4.651079e+02,1.930192e+02 L4.760213e+02,1.966786e+02 L4.868123e+02,2.073366e+02 L4.974946e+02,2.004981e+02 L5.080811e+02,1.994232e+02 L5.185829e+02,2.140379e+02 L5.290089e+02,2.082972e+02 L5.393657e+02,2.123226e+02 L5.496634e+02,2.080228e+02 L5.599078e+02,2.144039e+02 L5.701014e+02,2.189095e+02 L5.802524e+02,2.172628e+02 L5.903636e+02,2.198244e+02 L6.004377e+02,2.190696e+02 L6.104792e+02,2.179261e+02 L6.204905e+02,2.233237e+02 L6.304769e+02,2.186808e+02 L6.404399e+02,2.296362e+02 L6.503824e+02,2.236896e+02 L6.603053e+02,2.155703e+02 L6.702110e+02,2.289958e+02 L6.801008e+02,2.285612e+02 L6.899760e+02,2.377555e+02 L6.998382e+02,2.337073e+02 L7.096889e+02,2.214482e+02 L7.195285e+02,2.362460e+02 L7.293583e+02,2.408889e+02 L7.391793e+02,2.364976e+02 L7.489924e+02,2.337530e+02 L7.587978e+02,2.429473e+02 L7.685962e+02,2.392421e+02 L7.783886e+02,2.350109e+02 L7.881755e+02,2.420782e+02 L7.979572e+02,2.444797e+02 L8.077340e+02,2.413005e+02 L8.175067e+02,2.391964e+02 L8.272757e+02,2.463322e+02 L8.370411e+02,2.512724e+02 L8.468035e+02,2.432446e+02 L8.565630e+02,2.483906e+02 L8.663200e+02,2.395394e+02 \"/></g><g marker-start=\"url(#square)\" marker-end=\"url(#square)\" transform=\"translate(70 330 )scale(1 -1 )\" stroke-width=\"2px\" stroke-linejoin=\"round\" marker-mid=\"url(#square)\" fill=\"none\" stroke-linecap=\"round\" stroke=\"hsl(301, 88%, 65%)\"><path vector-effect=\"non-scaling-stroke\" d=\"M1.768000e+01,3.525736e+01 L9.342704e+01,3.567482e+01 L1.398807e+02,7.480942e+01 L1.743645e+02,7.503033e+01 L2.022947e+02,9.050226e+01 L2.262080e+02,1.047675e+02 L2.473073e+02,1.114667e+02 L2.664046e+02,1.249564e+02 L2.840011e+02,1.313555e+02 L3.004240e+02,1.370384e+02 L3.158963e+02,1.413791e+02 L3.305756e+02,1.445618e+02 L3.446184e+02,1.483647e+02 L3.581316e+02,1.511422e+02 L3.711899e+02,1.549359e+02 L3.838458e+02,1.600596e+02 L3.961624e+02,1.645374e+02 L4.081817e+02,1.691661e+02 L4.199514e+02,1.726947e+02 L4.315009e+02,1.764259e+02 L4.428638e+02,1.792125e+02 L4.540588e+02,1.837833e+02 L4.651079e+02,1.874673e+02 L4.760213e+02,1.898212e+02 L4.868123e+02,1.915870e+02 L4.974946e+02,1.954173e+02 L5.080811e+02,1.968601e+02 L5.185829e+02,2.006919e+02 L5.290089e+02,2.031159e+02 L5.393657e+02,2.065775e+02 L5.496634e+02,2.080447e+02 L5.599078e+02,2.105053e+02 L5.701014e+02,2.124798e+02 L5.802524e+02,2.135067e+02 L5.903636e+02,2.159475e+02 L6.004377e+02,2.170536e+02 L6.104792e+02,2.192552e+02 L6.204905e+02,2.209540e+02 L6.304769e+02,2.219763e+02 L6.404399e+02,2.236522e+02 L6.503824e+02,2.256100e+02 L6.603053e+02,2.264769e+02 L6.702110e+02,2.289147e+02 L6.801008e+02,2.304215e+02 L6.899760e+02,2.311711e+02 L6.998382e+02,2.322452e+02 L7.096889e+02,2.335722e+02 L7.195285e+02,2.352786e+02 L7.293583e+02,2.358759e+02 L7.391793e+02,2.381247e+02 L7.489924e+02,2.388210e+02 L7.587978e+02,2.407361e+02 L7.685962e+02,2.420113e+02 L7.783886e+02,2.430245e+02 L7.881755e+02,2.450874e+02 L7.979572e+02,2.461250e+02 L8.077340e+02,2.473103e+02 L8.175067e+02,2.490320e+02 L8.272757e+02,2.502630e+02 L8.370411e+02,2.511132e+02 L8.468035e+02,2.520578e+02 L8.565630e+02,2.529201e+02 L8.663200e+02,2.526794e+02 \"/></g><g stroke-linejoin=\"round\" transform=\"translate(70 330 )scale(1 -1 )\" fill=\"none\" marker-start=\"url(#square)\" marker-end=\"url(#square)\" stroke=\"hsl(152, 76%, 65%)\" stroke-width=\"2px\" marker-mid=\"url(#square)\" stroke-linecap=\"round\"><path vector-effect=\"non-scaling-stroke\" d=\"M1.768000e+01,1.356403e+01 L9.342704e+01,1.391886e+01 L1.398807e+02,4.252676e+01 L1.743645e+02,4.264503e+01 L2.022947e+02,4.860316e+01 L2.262080e+02,6.468864e+01 L2.473073e+02,7.287921e+01 L2.664046e+02,1.000530e+02 L2.840011e+02,1.239299e+02 L3.004240e+02,1.254231e+02 L3.158963e+02,1.310117e+02 L3.305756e+02,1.323422e+02 L3.446184e+02,1.443029e+02 L3.581316e+02,1.376203e+02 L3.711899e+02,1.504975e+02 L3.838458e+02,1.483242e+02 L3.961624e+02,1.574906e+02 L4.081817e+02,1.592204e+02 L4.199514e+02,1.652968e+02 L4.315009e+02,1.754980e+02 L4.428638e+02,1.672631e+02 L4.540588e+02,1.761633e+02 L4.651079e+02,1.792237e+02 L4.760213e+02,1.799038e+02 L4.868123e+02,1.911104e+02 L4.974946e+02,1.883901e+02 L5.080811e+02,1.895876e+02 L5.185829e+02,2.023614e+02 L5.290089e+02,1.990644e+02 L5.393657e+02,2.037363e+02 L5.496634e+02,1.948952e+02 L5.599078e+02,2.023762e+02 L5.701014e+02,2.052591e+02 L5.802524e+02,2.081569e+02 L5.903636e+02,2.074029e+02 L6.004377e+02,2.089109e+02 L6.104792e+02,2.058505e+02 L6.204905e+02,2.138637e+02 L6.304769e+02,2.087778e+02 L6.404399e+02,2.174267e+02 L6.503824e+02,2.147360e+02 L6.603053e+02,2.093840e+02 L6.702110e+02,2.173232e+02 L6.801008e+02,2.183729e+02 L6.899760e+02,2.273914e+02 L6.998382e+02,2.236953e+02 L7.096889e+02,2.151056e+02 L7.195285e+02,2.256469e+02 L7.293583e+02,2.310728e+02 L7.391793e+02,2.288255e+02 L7.489924e+02,2.270070e+02 L7.587978e+02,2.317972e+02 L7.685962e+02,2.295648e+02 L7.783886e+02,2.259130e+02 L7.881755e+02,2.315754e+02 L7.979572e+02,2.353898e+02 L8.077340e+02,2.343106e+02 L8.175067e+02,2.309101e+02 L8.272757e+02,2.376666e+02 L8.370411e+02,2.391598e+02 L8.468035e+02,2.342662e+02 L8.565630e+02,2.396182e+02 L8.663200e+02,2.306884e+02 \"/></g><g stroke-linecap=\"round\" stroke-width=\"2px\" marker-end=\"url(#square)\" stroke=\"hsl(3, 64%, 65%)\" stroke-linejoin=\"round\" fill=\"none\" marker-start=\"url(#square)\" marker-mid=\"url(#square)\" transform=\"translate(70 330 )scale(1 -1 )\"><path vector-effect=\"non-scaling-stroke\" d=\"M1.768000e+01,2.781642e+01 L9.342704e+01,3.457707e+01 L1.398807e+02,6.218174e+01 L1.743645e+02,7.145120e+01 L2.022947e+02,8.079434e+01 L2.262080e+02,9.238203e+01 L2.473073e+02,1.086563e+02 L2.664046e+02,1.221509e+02 L2.840011e+02,1.264438e+02 L3.004240e+02,1.329250e+02 L3.158963e+02,1.371203e+02 L3.305756e+02,1.461883e+02 L3.446184e+02,1.478554e+02 L3.581316e+02,1.529673e+02 L3.711899e+02,1.566554e+02 L3.838458e+02,1.591957e+02 L3.961624e+02,1.598806e+02 L4.081817e+02,1.637664e+02 L4.199514e+02,1.686828e+02 L4.315009e+02,1.761938e+02 L4.428638e+02,1.823924e+02 L4.540588e+02,1.822513e+02 L4.651079e+02,1.891691e+02 L4.760213e+02,1.920721e+02 L4.868123e+02,1.934587e+02 L4.974946e+02,1.961770e+02 L5.080811e+02,1.968794e+02 L5.185829e+02,1.961337e+02 L5.290089e+02,2.022514e+02 L5.393657e+02,2.110900e+02 L5.496634e+02,2.086667e+02 L5.599078e+02,2.101651e+02 L5.701014e+02,2.098653e+02 L5.802524e+02,2.141134e+02 L5.903636e+02,2.151169e+02 L6.004377e+02,2.141741e+02 L6.104792e+02,2.173888e+02 L6.204905e+02,2.217940e+02 L6.304769e+02,2.206260e+02 L6.404399e+02,2.279140e+02 L6.503824e+02,2.277323e+02 L6.603053e+02,2.265859e+02 L6.702110e+02,2.275737e+02 L6.801008e+02,2.296866e+02 L6.899760e+02,2.324911e+02 L6.998382e+02,2.340262e+02 L7.096889e+02,2.325604e+02 L7.195285e+02,2.350844e+02 L7.293583e+02,2.406767e+02 L7.391793e+02,2.392272e+02 L7.489924e+02,2.393336e+02 L7.587978e+02,2.347501e+02 L7.685962e+02,2.447843e+02 L7.783886e+02,2.452171e+02 L7.881755e+02,2.473995e+02 L7.979572e+02,2.450752e+02 L8.077340e+02,2.455520e+02 L8.175067e+02,2.484262e+02 L8.272757e+02,2.509222e+02 L8.370411e+02,2.544933e+02 L8.468035e+02,2.511844e+02 L8.565630e+02,2.518298e+02 L8.663200e+02,2.548000e+02 \"/></g><g stroke-linejoin=\"round\" transform=\"translate(70 330 )scale(1 -1 )\" fill=\"none\" stroke-linecap=\"round\" stroke=\"black\" stroke-width=\"2px\"><path d=\"M1.768000e+01,0 L1.768000e+01,-6 M8.844588e+01,0 L8.844588e+01,-6 M1.298413e+02,0 L1.298413e+02,-6 M1.592118e+02,0 L1.592118e+02,-6 M1.819933e+02,0 L1.819933e+02,-6 M2.006072e+02,0 L2.006072e+02,-6 M2.163449e+02,0 L2.163449e+02,-6 M2.299776e+02,0 L2.299776e+02,-6 M2.420025e+02,0 L2.420025e+02,-6 M2.527592e+02,0 L2.527592e+02,-6 M2.624897e+02,0 L2.624897e+02,-6 M3.235251e+02,0 L3.235251e+02,-6 M3.649204e+02,0 L3.649204e+02,-6 M3.942909e+02,0 L3.942909e+02,-6 M4.170725e+02,0 L4.170725e+02,-6 M4.356863e+02,0 L4.356863e+02,-6 M4.514241e+02,0 L4.514241e+02,-6 M4.650568e+02,0 L4.650568e+02,-6 M4.770817e+02,0 L4.770817e+02,-6 M4.878383e+02,0 L4.878383e+02,-6 M5.586042e+02,0 L5.586042e+02,-6 M5.999996e+02,0 L5.999996e+02,-6 M6.293701e+02,0 L6.293701e+02,-6 M6.521516e+02,0 L6.521516e+02,-6 M6.707655e+02,0 L6.707655e+02,-6 M6.865033e+02,0 L6.865033e+02,-6 M7.001360e+02,0 L7.001360e+02,-6 M7.121609e+02,0 L7.121609e+02,-6 M7.229175e+02,0 L7.229175e+02,-6 M7.936834e+02,0 L7.936834e+02,-6 M8.350788e+02,0 L8.350788e+02,-6 M8.644493e+02,0 L8.644493e+02,-6 \" vector-effect=\"non-scaling-stroke\"/></g><g stroke-linecap=\"round\" font-family=\"sans-serif\" font-weight=\"normal\" stroke-width=\"2px\" stroke-linejoin=\"round\" transform=\"translate(70 330 )scale(1 1 )\" dominant-baseline=\"hanging\" stroke=\"black\" fill=\"black\" font-size=\"12px\" font-style=\"normal\" text-anchor=\"middle\"><text x=\"1.768000e+01\" y=\"10\" dominant-baseline=\"hanging\" stroke=\"none\" vector-effect=\"non-scaling-stroke\">100</text><text stroke=\"none\" vector-effect=\"non-scaling-stroke\" x=\"8.844588e+01\" y=\"10\" dominant-baseline=\"hanging\">200</text><text x=\"1.298413e+02\" y=\"10\" dominant-baseline=\"hanging\" stroke=\"none\" vector-effect=\"non-scaling-stroke\">300</text><text stroke=\"none\" vector-effect=\"non-scaling-stroke\" x=\"1.592118e+02\" y=\"10\" dominant-baseline=\"hanging\">400</text><text stroke=\"none\" vector-effect=\"non-scaling-stroke\" x=\"1.819933e+02\" y=\"10\" dominant-baseline=\"hanging\">500</text><text x=\"2.006072e+02\" y=\"10\" dominant-baseline=\"hanging\" stroke=\"none\" vector-effect=\"non-scaling-stroke\">600</text><text stroke=\"none\" vector-effect=\"non-scaling-stroke\" x=\"2.163449e+02\" y=\"10\" dominant-baseline=\"hanging\">700</text><text x=\"2.299776e+02\" y=\"10\" dominant-baseline=\"hanging\" stroke=\"none\" vector-effect=\"non-scaling-stroke\">800</text><text stroke=\"none\" vector-effect=\"non-scaling-stroke\" x=\"2.420025e+02\" y=\"10\" dominant-baseline=\"hanging\">900</text><text stroke=\"none\" vector-effect=\"non-scaling-stroke\" x=\"2.624897e+02\" y=\"10\" dominant-baseline=\"hanging\">1100</text><text y=\"10\" dominant-baseline=\"hanging\" stroke=\"none\" vector-effect=\"non-scaling-stroke\" x=\"3.235251e+02\">2000</text><text dominant-baseline=\"hanging\" stroke=\"none\" vector-effect=\"non-scaling-stroke\" x=\"3.649204e+02\" y=\"10\">3000</text><text dominant-baseline=\"hanging\" stroke=\"none\" vector-effect=\"non-scaling-stroke\" x=\"3.942909e+02\" y=\"10\">4000</text><text stroke=\"none\" vector-effect=\"non-scaling-stroke\" x=\"4.170725e+02\" y=\"10\" dominant-baseline=\"hanging\">5000</text><text x=\"4.356863e+02\" y=\"10\" dominant-baseline=\"hanging\" stroke=\"none\" vector-effect=\"non-scaling-stroke\">6000</text><text dominant-baseline=\"hanging\" stroke=\"none\" vector-effect=\"non-scaling-stroke\" x=\"4.514241e+02\" y=\"10\">7000</text><text dominant-baseline=\"hanging\" stroke=\"none\" vector-effect=\"non-scaling-stroke\" x=\"4.650568e+02\" y=\"10\">8000</text><text y=\"10\" dominant-baseline=\"hanging\" stroke=\"none\" vector-effect=\"non-scaling-stroke\" x=\"4.770817e+02\">9000</text><text stroke=\"none\" vector-effect=\"non-scaling-stroke\" x=\"5.586042e+02\" y=\"10\" dominant-baseline=\"hanging\">20000</text><text x=\"5.999996e+02\" y=\"10\" dominant-baseline=\"hanging\" stroke=\"none\" vector-effect=\"non-scaling-stroke\">30000</text><text y=\"10\" dominant-baseline=\"hanging\" stroke=\"none\" vector-effect=\"non-scaling-stroke\" x=\"6.293701e+02\">40000</text><text y=\"10\" dominant-baseline=\"hanging\" stroke=\"none\" vector-effect=\"non-scaling-stroke\" x=\"6.521516e+02\">50000</text><text vector-effect=\"non-scaling-stroke\" x=\"6.707655e+02\" y=\"10\" dominant-baseline=\"hanging\" stroke=\"none\">60000</text><text stroke=\"none\" vector-effect=\"non-scaling-stroke\" x=\"6.865033e+02\" y=\"10\" dominant-baseline=\"hanging\">70000</text><text stroke=\"none\" vector-effect=\"non-scaling-stroke\" x=\"7.001360e+02\" y=\"10\" dominant-baseline=\"hanging\">80000</text><text vector-effect=\"non-scaling-stroke\" x=\"7.121609e+02\" y=\"10\" dominant-baseline=\"hanging\" stroke=\"none\">90000</text><text y=\"10\" dominant-baseline=\"hanging\" stroke=\"none\" vector-effect=\"non-scaling-stroke\" x=\"7.936834e+02\">200000</text><text vector-effect=\"non-scaling-stroke\" x=\"8.350788e+02\" y=\"10\" dominant-baseline=\"hanging\" stroke=\"none\">300000</text><text y=\"10\" dominant-baseline=\"hanging\" stroke=\"none\" vector-effect=\"non-scaling-stroke\" x=\"8.644493e+02\">400000</text></g><g stroke-linejoin=\"round\" transform=\"translate(70 330 )scale(1 1 )rotate(0 0 0 )\" font-size=\"12px\" text-anchor=\"middle\" stroke=\"black\" stroke-linecap=\"round\" font-style=\"normal\" dominant-baseline=\"baseline\" stroke-width=\"2px\" font-family=\"sans-serif\" font-weight=\"bold\" fill=\"black\"><text stroke=\"none\" vector-effect=\"non-scaling-stroke\" x=\"442\" y=\"-6\" dominant-baseline=\"baseline\">Steps</text></g><g stroke-linecap=\"round\" font-family=\"sans-serif\" font-style=\"normal\" stroke-width=\"2px\" stroke-linejoin=\"round\" fill=\"black\" font-weight=\"bold\" font-size=\"12px\" text-anchor=\"middle\" dominant-baseline=\"baseline\" stroke=\"black\" transform=\"translate(70 330 )scale(1 -1 )\"><path vector-effect=\"non-scaling-stroke\" d=\"M0,8.760305e+01 L-6,8.760305e+01 M0,1.835230e+02 L-6,1.835230e+02 \"/></g><g font-family=\"sans-serif\" font-weight=\"normal\" dominant-baseline=\"middle\" stroke=\"black\" font-size=\"12px\" font-style=\"normal\" text-anchor=\"end\" fill=\"black\" stroke-linecap=\"round\" stroke-width=\"2px\" stroke-linejoin=\"round\" transform=\"translate(70 330 )scale(1 1 )\"><text stroke=\"none\" vector-effect=\"non-scaling-stroke\" x=\"-10\" y=\"-8.760305e+01\" dominant-baseline=\"middle\">0.100</text><text x=\"-10\" y=\"-1.835230e+02\" dominant-baseline=\"middle\" stroke=\"none\" vector-effect=\"non-scaling-stroke\">0.200</text></g><g stroke-linecap=\"round\" dominant-baseline=\"hanging\" stroke-width=\"2px\" transform=\"translate(70 330 )scale(1 1 )rotate(-90 0 0 )\" font-style=\"normal\" fill=\"black\" font-family=\"sans-serif\" font-weight=\"bold\" text-anchor=\"middle\" stroke=\"black\" stroke-linejoin=\"round\" font-size=\"12px\"><text stroke=\"none\" vector-effect=\"non-scaling-stroke\" x=\"130\" y=\"6\" dominant-baseline=\"hanging\">accuracy</text></g><g font-size=\"12px\" font-style=\"normal\" fill=\"black\" font-family=\"sans-serif\" font-weight=\"bold\" text-anchor=\"middle\" dominant-baseline=\"hanging\" stroke=\"gray\" stroke-width=\"0.5px\" stroke-linejoin=\"round\" stroke-linecap=\"round\" transform=\"translate(70 330 )scale(1 -1 )\"><path vector-effect=\"non-scaling-stroke\" d=\"M0,8.760305e+01 L884,8.760305e+01 M0,1.835230e+02 L884,1.835230e+02 \"/></g><g stroke-linecap=\"round\" fill=\"none\" stroke-width=\"2px\" stroke-linejoin=\"round\" font-style=\"normal\" dominant-baseline=\"hanging\" font-family=\"sans-serif\" font-weight=\"bold\" font-size=\"12px\" text-anchor=\"middle\" stroke=\"black\"><rect x=\"70\" y=\"70\" width=\"884\" height=\"260\" vector-effect=\"non-scaling-stroke\"/><g fill=\"black\" font-size=\"18px\" dominant-baseline=\"middle\"><text stroke=\"none\" vector-effect=\"non-scaling-stroke\" x=\"512\" y=\"35\" dominant-baseline=\"middle\">accuracy metrics</text></g><g font-weight=\"normal\" fill=\"hsl(90, 47%, 65%)\" stroke-linejoin=\"round\" font-size=\"12px\" font-style=\"normal\" text-anchor=\"start\" font-family=\"sans-serif\" dominant-baseline=\"hanging\" stroke=\"hsl(90, 47%, 65%)\" stroke-width=\"1px\" stroke-linecap=\"round\"><rect y=\"366\" width=\"12\" height=\"12\" vector-effect=\"non-scaling-stroke\" x=\"76\"/><g fill=\"black\" stroke=\"black\"><text stroke=\"none\" vector-effect=\"non-scaling-stroke\" x=\"92\" y=\"366\" dominant-baseline=\"hanging\">Eval on seeds_test: Mean Accuracy</text></g><g font-weight=\"normal\" stroke-linecap=\"round\" font-family=\"sans-serif\" font-size=\"12px\" text-anchor=\"start\" stroke-width=\"1px\" fill=\"hsl(301, 88%, 65%)\" font-style=\"normal\" dominant-baseline=\"hanging\" stroke=\"hsl(301, 88%, 65%)\" stroke-linejoin=\"round\"><rect x=\"76\" y=\"384\" width=\"12\" height=\"12\" vector-effect=\"non-scaling-stroke\"/><g stroke=\"black\" fill=\"black\"><text x=\"92\" y=\"384\" dominant-baseline=\"hanging\" stroke=\"none\" vector-effect=\"non-scaling-stroke\">Eval on seeds_train: Mean Accuracy</text></g><g fill=\"hsl(152, 76%, 65%)\" stroke-linecap=\"round\" font-family=\"sans-serif\" stroke-width=\"1px\" stroke-linejoin=\"round\" font-style=\"normal\" text-anchor=\"start\" stroke=\"hsl(152, 76%, 65%)\" font-size=\"12px\" dominant-baseline=\"hanging\" font-weight=\"normal\"><rect vector-effect=\"non-scaling-stroke\" x=\"76\" y=\"402\" width=\"12\" height=\"12\"/><g fill=\"black\" stroke=\"black\"><text stroke=\"none\" vector-effect=\"non-scaling-stroke\" x=\"92\" y=\"402\" dominant-baseline=\"hanging\">Eval on seeds_valid: Mean Accuracy</text></g><g stroke-linejoin=\"round\" font-style=\"normal\" text-anchor=\"start\" dominant-baseline=\"hanging\" stroke=\"hsl(3, 64%, 65%)\" font-weight=\"normal\" fill=\"hsl(3, 64%, 65%)\" stroke-width=\"1px\" stroke-linecap=\"round\" font-family=\"sans-serif\" font-size=\"12px\"><rect vector-effect=\"non-scaling-stroke\" x=\"76\" y=\"420\" width=\"12\" height=\"12\"/><g stroke=\"black\" fill=\"black\"><text dominant-baseline=\"hanging\" stroke=\"none\" vector-effect=\"non-scaling-stroke\" x=\"92\" y=\"420\">Train: Moving Average Accuracy</text></g></g></g></g></g></g></svg>\n",
       "<svg style=\"background-color:#f8f8f8\" preserveAspectRatio=\"xMidYMid meet\" xmlns=\"http://www.w3.org/2000/svg\" width=\"1024\" height=\"562\" viewbox=\"0 0 1024 400\"><defs><marker refY=\"5\" markerUnits=\"userSpaceOnUse\" markerWidth=\"2%\" markerHeight=\"2%\" id=\"circle\" viewBox=\"0 0 10 10 \" refX=\"5\"><circle r=\"3\" fill=\"none\" stroke=\"black\" cx=\"5\" cy=\"5\"/></marker><marker id=\"filled-circle\" viewBox=\"0 0 10 10 \" refX=\"5\" refY=\"5\" markerUnits=\"userSpaceOnUse\" markerWidth=\"2%\" markerHeight=\"2%\"><circle cy=\"5\" r=\"3\" fill=\"black\" stroke=\"none\" cx=\"5\"/></marker><marker markerHeight=\"2%\" id=\"square\" viewBox=\"0 0 10 10 \" refX=\"5\" refY=\"5\" markerUnits=\"userSpaceOnUse\" markerWidth=\"2%\"><rect stroke=\"black\" x=\"2\" y=\"2\" width=\"6\" height=\"6\" fill=\"none\"/></marker><marker refY=\"5\" markerUnits=\"userSpaceOnUse\" markerWidth=\"2%\" markerHeight=\"2%\" id=\"filled-square\" viewBox=\"0 0 10 10 \" refX=\"5\"><rect width=\"6\" height=\"6\" fill=\"black\" stroke=\"none\" x=\"2\" y=\"2\"/></marker></defs><g stroke-linecap=\"round\" marker-mid=\"url(#square)\" fill=\"none\" stroke=\"hsl(90, 47%, 65%)\" stroke-linejoin=\"round\" marker-end=\"url(#square)\" transform=\"translate(70 330 )scale(1 -1 )\" stroke-width=\"2px\" marker-start=\"url(#square)\"><path d=\"M1.768000e+01,2.026817e+02 L9.342704e+01,1.879787e+02 L1.398807e+02,1.850576e+02 L1.743645e+02,1.756548e+02 L2.022947e+02,1.589021e+02 L2.262080e+02,1.416146e+02 L2.473073e+02,1.299392e+02 L2.664046e+02,1.127166e+02 L2.840011e+02,9.968331e+01 L3.004240e+02,9.022581e+01 L3.158963e+02,8.466088e+01 L3.305756e+02,7.903089e+01 L3.446184e+02,7.537766e+01 L3.581316e+02,7.160912e+01 L3.711899e+02,6.862755e+01 L3.838458e+02,6.723004e+01 L3.961624e+02,6.335671e+01 L4.081817e+02,6.128560e+01 L4.199514e+02,5.963673e+01 L4.315009e+02,5.491217e+01 L4.428638e+02,5.539059e+01 L4.540588e+02,5.259772e+01 L4.651079e+02,5.078376e+01 L4.760213e+02,4.981410e+01 L4.868123e+02,4.640170e+01 L4.974946e+02,4.592163e+01 L5.080811e+02,4.237729e+01 L5.185829e+02,4.085138e+01 L5.290089e+02,3.867782e+01 L5.393657e+02,3.627600e+01 L5.496634e+02,3.515626e+01 L5.599078e+02,3.363638e+01 L5.701014e+02,3.110467e+01 L5.802524e+02,3.048858e+01 L5.903636e+02,2.908446e+01 L6.004377e+02,2.813171e+01 L6.104792e+02,2.696057e+01 L6.204905e+02,2.527818e+01 L6.304769e+02,2.534981e+01 L6.404399e+02,2.352462e+01 L6.503824e+02,2.415417e+01 L6.603053e+02,2.346063e+01 L6.702110e+02,2.032233e+01 L6.801008e+02,1.991603e+01 L6.899760e+02,1.771314e+01 L6.998382e+02,1.897028e+01 L7.096889e+02,1.901836e+01 L7.195285e+02,1.706250e+01 L7.293583e+02,1.489117e+01 L7.391793e+02,1.532492e+01 L7.489924e+02,1.478234e+01 L7.587978e+02,1.390831e+01 L7.685962e+02,1.256233e+01 L7.783886e+02,1.357823e+01 L7.881755e+02,1.180789e+01 L7.979572e+02,1.106638e+01 L8.077340e+02,9.801213e+00 L8.175067e+02,1.191047e+01 L8.272757e+02,1.040830e+01 L8.370411e+02,9.492922e+00 L8.468035e+02,9.223241e+00 L8.565630e+02,8.389851e+00 L8.663200e+02,1.050520e+01 \" vector-effect=\"non-scaling-stroke\"/></g><g stroke-width=\"2px\" marker-end=\"url(#square)\" fill=\"none\" marker-mid=\"url(#square)\" stroke-linejoin=\"round\" marker-start=\"url(#square)\" transform=\"translate(70 330 )scale(1 -1 )\" stroke=\"hsl(301, 88%, 65%)\" stroke-linecap=\"round\"><path d=\"M1.768000e+01,2.042048e+02 L9.342704e+01,1.895594e+02 L1.398807e+02,1.866759e+02 L1.743645e+02,1.773671e+02 L2.022947e+02,1.607730e+02 L2.262080e+02,1.436708e+02 L2.473073e+02,1.321991e+02 L2.664046e+02,1.152166e+02 L2.840011e+02,1.024345e+02 L3.004240e+02,9.321893e+01 L3.158963e+02,8.787609e+01 L3.305756e+02,8.245233e+01 L3.446184e+02,7.898584e+01 L3.581316e+02,7.539203e+01 L3.711899e+02,7.257097e+01 L3.838458e+02,7.133800e+01 L3.961624e+02,6.763454e+01 L4.081817e+02,6.573383e+01 L4.199514e+02,6.426660e+01 L4.315009e+02,5.973628e+01 L4.428638e+02,6.039644e+01 L4.540588e+02,5.779377e+01 L4.651079e+02,5.615361e+01 L4.760213e+02,5.535968e+01 L4.868123e+02,5.214531e+01 L4.974946e+02,5.187938e+01 L5.080811e+02,4.854530e+01 L5.185829e+02,4.725133e+01 L5.290089e+02,4.531742e+01 L5.393657e+02,4.316778e+01 L5.496634e+02,4.230133e+01 L5.599078e+02,4.103027e+01 L5.701014e+02,3.871706e+01 L5.802524e+02,3.832164e+01 L5.903636e+02,3.713662e+01 L6.004377e+02,3.641913e+01 L6.104792e+02,3.547940e+01 L6.204905e+02,3.404233e+01 L6.304769e+02,3.436411e+01 L6.404399e+02,3.278580e+01 L6.503824e+02,3.366805e+01 L6.603053e+02,3.324011e+01 L6.702110e+02,3.036352e+01 L6.801008e+02,3.022337e+01 L6.899760e+02,2.828472e+01 L6.998382e+02,2.981184e+01 L7.096889e+02,3.011987e+01 L7.195285e+02,2.844596e+01 L7.293583e+02,2.656140e+01 L7.391793e+02,2.729834e+01 L7.489924e+02,2.707395e+01 L7.587978e+02,2.651561e+01 L7.685962e+02,2.550058e+01 L7.783886e+02,2.683557e+01 L7.881755e+02,2.538924e+01 L7.979572e+02,2.496727e+01 L8.077340e+02,2.402271e+01 L8.175067e+02,2.643096e+01 L8.272757e+02,2.523036e+01 L8.370411e+02,2.458975e+01 L8.468035e+02,2.460783e+01 L8.565630e+02,2.404853e+01 L8.663200e+02,2.640950e+01 \" vector-effect=\"non-scaling-stroke\"/></g><g fill=\"none\" stroke-linejoin=\"round\" marker-start=\"url(#square)\" marker-end=\"url(#square)\" stroke-linecap=\"round\" marker-mid=\"url(#square)\" stroke=\"hsl(152, 76%, 65%)\" stroke-width=\"2px\" transform=\"translate(70 330 )scale(1 -1 )\"><path vector-effect=\"non-scaling-stroke\" d=\"M1.768000e+01,2.064054e+02 L9.342704e+01,1.944961e+02 L1.398807e+02,1.904188e+02 L1.743645e+02,1.808871e+02 L2.022947e+02,1.662767e+02 L2.262080e+02,1.528641e+02 L2.473073e+02,1.403325e+02 L2.664046e+02,1.268153e+02 L2.840011e+02,1.152491e+02 L3.004240e+02,1.055458e+02 L3.158963e+02,9.787501e+01 L3.305756e+02,9.197781e+01 L3.446184e+02,8.743871e+01 L3.581316e+02,8.357938e+01 L3.711899e+02,8.050213e+01 L3.838458e+02,7.718697e+01 L3.961624e+02,7.373073e+01 L4.081817e+02,7.048224e+01 L4.199514e+02,6.730709e+01 L4.315009e+02,6.420996e+01 L4.428638e+02,6.166476e+01 L4.540588e+02,5.923462e+01 L4.651079e+02,5.691668e+01 L4.760213e+02,5.487607e+01 L4.868123e+02,5.249050e+01 L4.974946e+02,5.024657e+01 L5.080811e+02,4.822901e+01 L5.185829e+02,4.589657e+01 L5.290089e+02,4.358166e+01 L5.393657e+02,4.129039e+01 L5.496634e+02,3.914443e+01 L5.599078e+02,3.733643e+01 L5.701014e+02,3.566165e+01 L5.802524e+02,3.426727e+01 L5.903636e+02,3.267346e+01 L6.004377e+02,3.142278e+01 L6.104792e+02,2.994070e+01 L6.204905e+02,2.865330e+01 L6.304769e+02,2.743385e+01 L6.404399e+02,2.637652e+01 L6.503824e+02,2.497583e+01 L6.603053e+02,2.385138e+01 L6.702110e+02,2.285482e+01 L6.801008e+02,2.170995e+01 L6.899760e+02,2.083943e+01 L6.998382e+02,1.975452e+01 L7.096889e+02,1.887205e+01 L7.195285e+02,1.806101e+01 L7.293583e+02,1.719755e+01 L7.391793e+02,1.616899e+01 L7.489924e+02,1.534837e+01 L7.587978e+02,1.446735e+01 L7.685962e+02,1.358200e+01 L7.783886e+02,1.281480e+01 L7.881755e+02,1.196801e+01 L7.979572e+02,1.114505e+01 L8.077340e+02,1.051275e+01 L8.175067e+02,9.737738e+00 L8.272757e+02,9.097700e+00 L8.370411e+02,8.442205e+00 L8.468035e+02,7.859116e+00 L8.565630e+02,7.382057e+00 L8.663200e+02,7.141967e+00 \"/></g><g marker-mid=\"url(#square)\" stroke-linejoin=\"round\" marker-end=\"url(#square)\" stroke-linecap=\"round\" fill=\"none\" stroke=\"hsl(3, 64%, 65%)\" stroke-width=\"2px\" marker-start=\"url(#square)\" transform=\"translate(70 330 )scale(1 -1 )\"><path vector-effect=\"non-scaling-stroke\" d=\"M1.768000e+01,2.079281e+02 L9.342704e+01,1.960765e+02 L1.398807e+02,1.920368e+02 L1.743645e+02,1.825995e+02 L2.022947e+02,1.681482e+02 L2.262080e+02,1.549202e+02 L2.473073e+02,1.425923e+02 L2.664046e+02,1.293150e+02 L2.840011e+02,1.180002e+02 L3.004240e+02,1.085387e+02 L3.158963e+02,1.010903e+02 L3.305756e+02,9.539951e+01 L3.446184e+02,9.104702e+01 L3.581316e+02,8.736216e+01 L3.711899e+02,8.444583e+01 L3.838458e+02,8.129506e+01 L3.961624e+02,7.800866e+01 L4.081817e+02,7.493060e+01 L4.199514e+02,7.193672e+01 L4.315009e+02,6.903437e+01 L4.428638e+02,6.667061e+01 L4.540588e+02,6.443041e+01 L4.651079e+02,6.228622e+01 L4.760213e+02,6.042169e+01 L4.868123e+02,5.823443e+01 L4.974946e+02,5.620434e+01 L5.080811e+02,5.439713e+01 L5.185829e+02,5.229639e+01 L5.290089e+02,5.022149e+01 L5.393657e+02,4.818214e+01 L5.496634e+02,4.628934e+01 L5.599078e+02,4.473043e+01 L5.701014e+02,4.327409e+01 L5.802524e+02,4.210011e+01 L5.903636e+02,4.072592e+01 L6.004377e+02,3.971041e+01 L6.104792e+02,3.845971e+01 L6.204905e+02,3.741723e+01 L6.304769e+02,3.644802e+01 L6.404399e+02,3.563776e+01 L6.503824e+02,3.448984e+01 L6.603053e+02,3.363063e+01 L6.702110e+02,3.289625e+01 L6.801008e+02,3.201733e+01 L6.899760e+02,3.141105e+01 L6.998382e+02,3.059622e+01 L7.096889e+02,2.997376e+01 L7.195285e+02,2.944454e+01 L7.293583e+02,2.886772e+01 L7.391793e+02,2.814242e+01 L7.489924e+02,2.763982e+01 L7.587978e+02,2.707451e+01 L7.685962e+02,2.652043e+01 L7.783886e+02,2.607203e+01 L7.881755e+02,2.554938e+01 L7.979572e+02,2.504591e+01 L8.077340e+02,2.473422e+01 L8.175067e+02,2.425831e+01 L8.272757e+02,2.391982e+01 L8.370411e+02,2.353917e+01 L8.468035e+02,2.324377e+01 L8.565630e+02,2.304080e+01 L8.663200e+02,2.304622e+01 \"/></g><g stroke-width=\"2px\" stroke-linecap=\"round\" marker-mid=\"url(#square)\" marker-end=\"url(#square)\" transform=\"translate(70 330 )scale(1 -1 )\" fill=\"none\" stroke=\"hsl(214, 52%, 65%)\" stroke-linejoin=\"round\" marker-start=\"url(#square)\"><path d=\"M1.768000e+01,2.111175e+02 L9.342704e+01,1.980218e+02 L1.398807e+02,1.955863e+02 L1.743645e+02,1.873785e+02 L2.022947e+02,1.725796e+02 L2.262080e+02,1.564777e+02 L2.473073e+02,1.441049e+02 L2.664046e+02,1.273277e+02 L2.840011e+02,1.140985e+02 L3.004240e+02,1.041552e+02 L3.158963e+02,9.822543e+01 L3.305756e+02,9.192834e+01 L3.446184e+02,8.730580e+01 L3.581316e+02,8.341937e+01 L3.711899e+02,8.037286e+01 L3.838458e+02,7.857275e+01 L3.961624e+02,7.378441e+01 L4.081817e+02,7.180789e+01 L4.199514e+02,6.940623e+01 L4.315009e+02,6.487378e+01 L4.428638e+02,6.489069e+01 L4.540588e+02,6.168239e+01 L4.651079e+02,5.995443e+01 L4.760213e+02,5.884336e+01 L4.868123e+02,5.514155e+01 L4.974946e+02,5.417234e+01 L5.080811e+02,5.036168e+01 L5.185829e+02,4.890516e+01 L5.290089e+02,4.655906e+01 L5.393657e+02,4.420275e+01 L5.496634e+02,4.302363e+01 L5.599078e+02,4.159285e+01 L5.701014e+02,3.932711e+01 L5.802524e+02,3.769721e+01 L5.903636e+02,3.695220e+01 L6.004377e+02,3.594588e+01 L6.104792e+02,3.448123e+01 L6.204905e+02,3.292051e+01 L6.304769e+02,3.298001e+01 L6.404399e+02,3.173699e+01 L6.503824e+02,3.100111e+01 L6.603053e+02,3.045275e+01 L6.702110e+02,2.809100e+01 L6.801008e+02,2.717989e+01 L6.899760e+02,2.486269e+01 L6.998382e+02,2.581360e+01 L7.096889e+02,2.535000e+01 L7.195285e+02,2.421994e+01 L7.293583e+02,2.204326e+01 L7.391793e+02,2.184542e+01 L7.489924e+02,2.162625e+01 L7.587978e+02,2.070844e+01 L7.685962e+02,1.977631e+01 L7.783886e+02,2.059199e+01 L7.881755e+02,1.915060e+01 L7.979572e+02,1.781945e+01 L8.077340e+02,1.635181e+01 L8.175067e+02,1.851646e+01 L8.272757e+02,1.688824e+01 L8.370411e+02,1.606892e+01 L8.468035e+02,1.607855e+01 L8.565630e+02,1.497246e+01 L8.663200e+02,1.669706e+01 \" vector-effect=\"non-scaling-stroke\"/></g><g marker-mid=\"url(#square)\" stroke=\"hsl(65, 93%, 65%)\" marker-start=\"url(#square)\" marker-end=\"url(#square)\" transform=\"translate(70 330 )scale(1 -1 )\" stroke-linecap=\"round\" fill=\"none\" stroke-width=\"2px\" stroke-linejoin=\"round\"><path d=\"M1.768000e+01,2.126406e+02 L9.342704e+01,1.996024e+02 L1.398807e+02,1.972044e+02 L1.743645e+02,1.890908e+02 L2.022947e+02,1.744505e+02 L2.262080e+02,1.585338e+02 L2.473073e+02,1.463650e+02 L2.664046e+02,1.298276e+02 L2.840011e+02,1.168497e+02 L3.004240e+02,1.071482e+02 L3.158963e+02,1.014407e+02 L3.305756e+02,9.534976e+01 L3.446184e+02,9.091404e+01 L3.581316e+02,8.720228e+01 L3.711899e+02,8.431623e+01 L3.838458e+02,8.268080e+01 L3.961624e+02,7.806222e+01 L4.081817e+02,7.625607e+01 L4.199514e+02,7.403606e+01 L4.315009e+02,6.969787e+01 L4.428638e+02,6.989655e+01 L4.540588e+02,6.687844e+01 L4.651079e+02,6.532432e+01 L4.760213e+02,6.438900e+01 L4.868123e+02,6.088520e+01 L4.974946e+02,6.013009e+01 L5.080811e+02,5.652967e+01 L5.185829e+02,5.530498e+01 L5.290089e+02,5.319880e+01 L5.393657e+02,5.109453e+01 L5.496634e+02,5.016874e+01 L5.599078e+02,4.898676e+01 L5.701014e+02,4.693955e+01 L5.802524e+02,4.553031e+01 L5.903636e+02,4.500443e+01 L6.004377e+02,4.423332e+01 L6.104792e+02,4.300009e+01 L6.204905e+02,4.168464e+01 L6.304769e+02,4.199429e+01 L6.404399e+02,4.099816e+01 L6.503824e+02,4.051510e+01 L6.603053e+02,4.023230e+01 L6.702110e+02,3.813219e+01 L6.801008e+02,3.748736e+01 L6.899760e+02,3.543425e+01 L6.998382e+02,3.665510e+01 L7.096889e+02,3.645149e+01 L7.195285e+02,3.560338e+01 L7.293583e+02,3.371360e+01 L7.391793e+02,3.381887e+01 L7.489924e+02,3.391774e+01 L7.587978e+02,3.331584e+01 L7.685962e+02,3.271458e+01 L7.783886e+02,3.384926e+01 L7.881755e+02,3.273192e+01 L7.979572e+02,3.172042e+01 L8.077340e+02,3.057326e+01 L8.175067e+02,3.303692e+01 L8.272757e+02,3.171028e+01 L8.370411e+02,3.116586e+01 L8.468035e+02,3.146325e+01 L8.565630e+02,3.063114e+01 L8.663200e+02,3.260144e+01 \" vector-effect=\"non-scaling-stroke\"/></g><g stroke-linecap=\"round\" marker-mid=\"url(#square)\" marker-end=\"url(#square)\" stroke-width=\"2px\" stroke-linejoin=\"round\" transform=\"translate(70 330 )scale(1 -1 )\" fill=\"none\" stroke=\"hsl(276, 81%, 65%)\" marker-start=\"url(#square)\"><path vector-effect=\"non-scaling-stroke\" d=\"M1.768000e+01,2.040313e+02 L9.342704e+01,1.732117e+02 L1.398807e+02,1.913719e+02 L1.743645e+02,1.818824e+02 L2.022947e+02,1.668513e+02 L2.262080e+02,1.665818e+02 L2.473073e+02,1.488758e+02 L2.664046e+02,1.178210e+02 L2.840011e+02,1.011795e+02 L3.004240e+02,1.088323e+02 L3.158963e+02,1.296287e+02 L3.305756e+02,8.968047e+01 L3.446184e+02,8.336032e+01 L3.581316e+02,1.117085e+02 L3.711899e+02,9.701099e+01 L3.838458e+02,9.501561e+01 L3.961624e+02,8.770301e+01 L4.081817e+02,6.714235e+01 L4.199514e+02,9.878393e+01 L4.315009e+02,6.618546e+01 L4.428638e+02,4.841664e+01 L4.540588e+02,8.806778e+01 L4.651079e+02,5.428362e+01 L4.760213e+02,5.414559e+01 L4.868123e+02,4.838230e+01 L4.974946e+02,8.509725e+01 L5.080811e+02,6.677070e+01 L5.185829e+02,5.235527e+01 L5.290089e+02,3.924725e+01 L5.393657e+02,3.851002e+01 L5.496634e+02,4.993086e+01 L5.599078e+02,2.993428e+01 L5.701014e+02,3.516222e+01 L5.802524e+02,4.255624e+01 L5.903636e+02,5.231210e+01 L6.004377e+02,3.176003e+01 L6.104792e+02,2.891821e+01 L6.204905e+02,2.357017e+01 L6.304769e+02,6.799402e+01 L6.404399e+02,4.761375e+01 L6.503824e+02,3.012338e+01 L6.603053e+02,3.718583e+01 L6.702110e+02,5.950072e+01 L6.801008e+02,2.243512e+01 L6.899760e+02,3.703332e+01 L6.998382e+02,3.454690e+01 L7.096889e+02,1.929233e+01 L7.195285e+02,1.822707e+01 L7.293583e+02,3.656938e+01 L7.391793e+02,2.496805e+01 L7.489924e+02,1.442621e+01 L7.587978e+02,4.376205e+01 L7.685962e+02,1.756815e+01 L7.783886e+02,6.488380e+00 L7.881755e+02,5.200000e+00 L7.979572e+02,3.996143e+01 L8.077340e+02,3.587512e+01 L8.175067e+02,1.439124e+01 L8.272757e+02,3.080329e+01 L8.370411e+02,4.945537e+01 L8.468035e+02,1.552256e+01 L8.565630e+02,3.003346e+01 L8.663200e+02,1.779415e+01 \"/></g><g marker-end=\"url(#square)\" transform=\"translate(70 330 )scale(1 -1 )\" marker-mid=\"url(#square)\" stroke=\"hsl(127, 69%, 65%)\" stroke-width=\"2px\" marker-start=\"url(#square)\" stroke-linejoin=\"round\" fill=\"none\" stroke-linecap=\"round\"><path vector-effect=\"non-scaling-stroke\" d=\"M1.768000e+01,2.533596e+02 L9.342704e+01,2.152415e+02 L1.398807e+02,1.984947e+02 L1.743645e+02,1.881793e+02 L2.022947e+02,1.746480e+02 L2.262080e+02,1.613211e+02 L2.473073e+02,1.466773e+02 L2.664046e+02,1.330004e+02 L2.840011e+02,1.209867e+02 L3.004240e+02,1.095917e+02 L3.158963e+02,1.018169e+02 L3.305756e+02,9.243139e+01 L3.446184e+02,8.851448e+01 L3.581316e+02,8.363275e+01 L3.711899e+02,8.084287e+01 L3.838458e+02,7.746201e+01 L3.961624e+02,7.562770e+01 L4.081817e+02,7.363136e+01 L4.199514e+02,6.811817e+01 L4.315009e+02,6.317242e+01 L4.428638e+02,6.174953e+01 L4.540588e+02,5.919659e+01 L4.651079e+02,5.690662e+01 L4.760213e+02,5.504100e+01 L4.868123e+02,5.322375e+01 L4.974946e+02,4.945593e+01 L5.080811e+02,5.006746e+01 L5.185829e+02,4.672818e+01 L5.290089e+02,4.495034e+01 L5.393657e+02,4.148693e+01 L5.496634e+02,4.018326e+01 L5.599078e+02,3.597814e+01 L5.701014e+02,3.738629e+01 L5.802524e+02,3.488589e+01 L5.903636e+02,3.475944e+01 L6.004377e+02,3.283869e+01 L6.104792e+02,3.134298e+01 L6.204905e+02,2.982979e+01 L6.304769e+02,2.713514e+01 L6.404399e+02,2.609676e+01 L6.503824e+02,2.640629e+01 L6.603053e+02,2.378151e+01 L6.702110e+02,2.246480e+01 L6.801008e+02,2.193155e+01 L6.899760e+02,2.027199e+01 L6.998382e+02,1.898868e+01 L7.096889e+02,1.974156e+01 L7.195285e+02,1.793374e+01 L7.293583e+02,1.687131e+01 L7.391793e+02,1.698619e+01 L7.489924e+02,1.513293e+01 L7.587978e+02,1.585923e+01 L7.685962e+02,1.292789e+01 L7.783886e+02,1.303674e+01 L7.881755e+02,1.199892e+01 L7.979572e+02,1.178953e+01 L8.077340e+02,1.010957e+01 L8.175067e+02,9.480956e+00 L8.272757e+02,7.860720e+00 L8.370411e+02,8.520530e+00 L8.468035e+02,7.895579e+00 L8.565630e+02,8.009522e+00 L8.663200e+02,7.783696e+00 \"/></g><g marker-mid=\"url(#square)\" marker-start=\"url(#square)\" marker-end=\"url(#square)\" stroke=\"hsl(338, 57%, 65%)\" stroke-linecap=\"round\" transform=\"translate(70 330 )scale(1 -1 )\" fill=\"none\" stroke-width=\"2px\" stroke-linejoin=\"round\"><path vector-effect=\"non-scaling-stroke\" d=\"M1.768000e+01,2.548000e+02 L9.342704e+01,2.167699e+02 L1.398807e+02,2.000736e+02 L1.743645e+02,1.898244e+02 L2.022947e+02,1.764183e+02 L2.262080e+02,1.632665e+02 L2.473073e+02,1.488212e+02 L2.664046e+02,1.353780e+02 L2.840011e+02,1.236231e+02 L3.004240e+02,1.124826e+02 L3.158963e+02,1.049502e+02 L3.305756e+02,9.577969e+01 L3.446184e+02,9.206598e+01 L3.581316e+02,8.736929e+01 L3.711899e+02,8.474631e+01 L3.838458e+02,8.153010e+01 L3.961624e+02,7.986603e+01 L4.081817e+02,7.804681e+01 L4.199514e+02,7.271477e+01 L4.315009e+02,6.796499e+01 L4.428638e+02,6.673198e+01 L4.540588e+02,6.436795e+01 L4.651079e+02,6.225611e+01 L4.760213e+02,6.056533e+01 L4.868123e+02,5.895060e+01 L4.974946e+02,5.539426e+01 L5.080811e+02,5.621900e+01 L5.185829e+02,5.311111e+01 L5.290089e+02,5.157430e+01 L5.393657e+02,4.835793e+01 L5.496634e+02,4.731445e+01 L5.599078e+02,4.335755e+01 L5.701014e+02,4.498945e+01 L5.802524e+02,4.270973e+01 L5.903636e+02,4.280470e+01 L6.004377e+02,4.111989e+01 L6.104792e+02,3.985676e+01 L6.204905e+02,3.858805e+01 L6.304769e+02,3.614244e+01 L6.404399e+02,3.535072e+01 L6.503824e+02,3.591564e+01 L6.603053e+02,3.355543e+01 L6.702110e+02,3.250228e+01 L6.801008e+02,3.223431e+01 L6.899760e+02,3.083906e+01 L6.998382e+02,2.982758e+01 L7.096889e+02,3.084114e+01 L7.195285e+02,2.931133e+01 L7.293583e+02,2.853736e+01 L7.391793e+02,2.895844e+01 L7.489924e+02,2.741848e+01 L7.587978e+02,2.846413e+01 L7.685962e+02,2.586281e+01 L7.783886e+02,2.629150e+01 L7.881755e+02,2.558040e+01 L7.979572e+02,2.568801e+01 L8.077340e+02,2.432775e+01 L8.175067e+02,2.399832e+01 L8.272757e+02,2.268200e+01 L8.370411e+02,2.361582e+01 L8.468035e+02,2.327781e+01 L8.565630e+02,2.366935e+01 L8.663200e+02,2.368578e+01 \"/></g><g transform=\"translate(70 330 )scale(1 -1 )\" fill=\"none\" stroke-linecap=\"round\" stroke=\"black\" stroke-width=\"2px\" stroke-linejoin=\"round\"><path vector-effect=\"non-scaling-stroke\" d=\"M1.768000e+01,0 L1.768000e+01,-6 M8.844588e+01,0 L8.844588e+01,-6 M1.298413e+02,0 L1.298413e+02,-6 M1.592118e+02,0 L1.592118e+02,-6 M1.819933e+02,0 L1.819933e+02,-6 M2.006072e+02,0 L2.006072e+02,-6 M2.163449e+02,0 L2.163449e+02,-6 M2.299776e+02,0 L2.299776e+02,-6 M2.420025e+02,0 L2.420025e+02,-6 M2.527592e+02,0 L2.527592e+02,-6 M2.624897e+02,0 L2.624897e+02,-6 M3.235251e+02,0 L3.235251e+02,-6 M3.649204e+02,0 L3.649204e+02,-6 M3.942909e+02,0 L3.942909e+02,-6 M4.170725e+02,0 L4.170725e+02,-6 M4.356863e+02,0 L4.356863e+02,-6 M4.514241e+02,0 L4.514241e+02,-6 M4.650568e+02,0 L4.650568e+02,-6 M4.770817e+02,0 L4.770817e+02,-6 M4.878383e+02,0 L4.878383e+02,-6 M5.586042e+02,0 L5.586042e+02,-6 M5.999996e+02,0 L5.999996e+02,-6 M6.293701e+02,0 L6.293701e+02,-6 M6.521516e+02,0 L6.521516e+02,-6 M6.707655e+02,0 L6.707655e+02,-6 M6.865033e+02,0 L6.865033e+02,-6 M7.001360e+02,0 L7.001360e+02,-6 M7.121609e+02,0 L7.121609e+02,-6 M7.229175e+02,0 L7.229175e+02,-6 M7.936834e+02,0 L7.936834e+02,-6 M8.350788e+02,0 L8.350788e+02,-6 M8.644493e+02,0 L8.644493e+02,-6 \"/></g><g dominant-baseline=\"hanging\" stroke-width=\"2px\" font-weight=\"normal\" fill=\"black\" text-anchor=\"middle\" font-family=\"sans-serif\" stroke=\"black\" stroke-linejoin=\"round\" transform=\"translate(70 330 )scale(1 1 )\" font-size=\"12px\" font-style=\"normal\" stroke-linecap=\"round\"><text dominant-baseline=\"hanging\" stroke=\"none\" vector-effect=\"non-scaling-stroke\" x=\"1.768000e+01\" y=\"10\">100</text><text stroke=\"none\" vector-effect=\"non-scaling-stroke\" x=\"8.844588e+01\" y=\"10\" dominant-baseline=\"hanging\">200</text><text y=\"10\" dominant-baseline=\"hanging\" stroke=\"none\" vector-effect=\"non-scaling-stroke\" x=\"1.298413e+02\">300</text><text y=\"10\" dominant-baseline=\"hanging\" stroke=\"none\" vector-effect=\"non-scaling-stroke\" x=\"1.592118e+02\">400</text><text stroke=\"none\" vector-effect=\"non-scaling-stroke\" x=\"1.819933e+02\" y=\"10\" dominant-baseline=\"hanging\">500</text><text dominant-baseline=\"hanging\" stroke=\"none\" vector-effect=\"non-scaling-stroke\" x=\"2.006072e+02\" y=\"10\">600</text><text dominant-baseline=\"hanging\" stroke=\"none\" vector-effect=\"non-scaling-stroke\" x=\"2.163449e+02\" y=\"10\">700</text><text dominant-baseline=\"hanging\" stroke=\"none\" vector-effect=\"non-scaling-stroke\" x=\"2.299776e+02\" y=\"10\">800</text><text x=\"2.420025e+02\" y=\"10\" dominant-baseline=\"hanging\" stroke=\"none\" vector-effect=\"non-scaling-stroke\">900</text><text dominant-baseline=\"hanging\" stroke=\"none\" vector-effect=\"non-scaling-stroke\" x=\"2.624897e+02\" y=\"10\">1100</text><text dominant-baseline=\"hanging\" stroke=\"none\" vector-effect=\"non-scaling-stroke\" x=\"3.235251e+02\" y=\"10\">2000</text><text y=\"10\" dominant-baseline=\"hanging\" stroke=\"none\" vector-effect=\"non-scaling-stroke\" x=\"3.649204e+02\">3000</text><text vector-effect=\"non-scaling-stroke\" x=\"3.942909e+02\" y=\"10\" dominant-baseline=\"hanging\" stroke=\"none\">4000</text><text y=\"10\" dominant-baseline=\"hanging\" stroke=\"none\" vector-effect=\"non-scaling-stroke\" x=\"4.170725e+02\">5000</text><text dominant-baseline=\"hanging\" stroke=\"none\" vector-effect=\"non-scaling-stroke\" x=\"4.356863e+02\" y=\"10\">6000</text><text y=\"10\" dominant-baseline=\"hanging\" stroke=\"none\" vector-effect=\"non-scaling-stroke\" x=\"4.514241e+02\">7000</text><text dominant-baseline=\"hanging\" stroke=\"none\" vector-effect=\"non-scaling-stroke\" x=\"4.650568e+02\" y=\"10\">8000</text><text stroke=\"none\" vector-effect=\"non-scaling-stroke\" x=\"4.770817e+02\" y=\"10\" dominant-baseline=\"hanging\">9000</text><text y=\"10\" dominant-baseline=\"hanging\" stroke=\"none\" vector-effect=\"non-scaling-stroke\" x=\"5.586042e+02\">20000</text><text vector-effect=\"non-scaling-stroke\" x=\"5.999996e+02\" y=\"10\" dominant-baseline=\"hanging\" stroke=\"none\">30000</text><text dominant-baseline=\"hanging\" stroke=\"none\" vector-effect=\"non-scaling-stroke\" x=\"6.293701e+02\" y=\"10\">40000</text><text x=\"6.521516e+02\" y=\"10\" dominant-baseline=\"hanging\" stroke=\"none\" vector-effect=\"non-scaling-stroke\">50000</text><text stroke=\"none\" vector-effect=\"non-scaling-stroke\" x=\"6.707655e+02\" y=\"10\" dominant-baseline=\"hanging\">60000</text><text y=\"10\" dominant-baseline=\"hanging\" stroke=\"none\" vector-effect=\"non-scaling-stroke\" x=\"6.865033e+02\">70000</text><text stroke=\"none\" vector-effect=\"non-scaling-stroke\" x=\"7.001360e+02\" y=\"10\" dominant-baseline=\"hanging\">80000</text><text stroke=\"none\" vector-effect=\"non-scaling-stroke\" x=\"7.121609e+02\" y=\"10\" dominant-baseline=\"hanging\">90000</text><text y=\"10\" dominant-baseline=\"hanging\" stroke=\"none\" vector-effect=\"non-scaling-stroke\" x=\"7.936834e+02\">200000</text><text stroke=\"none\" vector-effect=\"non-scaling-stroke\" x=\"8.350788e+02\" y=\"10\" dominant-baseline=\"hanging\">300000</text><text y=\"10\" dominant-baseline=\"hanging\" stroke=\"none\" vector-effect=\"non-scaling-stroke\" x=\"8.644493e+02\">400000</text></g><g dominant-baseline=\"baseline\" stroke=\"black\" stroke-width=\"2px\" font-style=\"normal\" font-weight=\"bold\" text-anchor=\"middle\" font-family=\"sans-serif\" fill=\"black\" stroke-linejoin=\"round\" transform=\"translate(70 330 )scale(1 1 )rotate(0 0 0 )\" font-size=\"12px\" stroke-linecap=\"round\"><text y=\"-6\" dominant-baseline=\"baseline\" stroke=\"none\" vector-effect=\"non-scaling-stroke\" x=\"442\">Steps</text></g><g text-anchor=\"middle\" dominant-baseline=\"baseline\" stroke=\"black\" stroke-width=\"2px\" stroke-linejoin=\"round\" font-weight=\"bold\" fill=\"black\" font-family=\"sans-serif\" stroke-linecap=\"round\" transform=\"translate(70 330 )scale(1 -1 )\" font-size=\"12px\" font-style=\"normal\"><path vector-effect=\"non-scaling-stroke\" d=\"M0,1.323339e+01 L-6,1.323339e+01 M0,1.041599e+02 L-6,1.041599e+02 M0,1.950865e+02 L-6,1.950865e+02 \"/></g><g font-style=\"normal\" font-weight=\"normal\" stroke-linecap=\"round\" font-family=\"sans-serif\" stroke=\"black\" stroke-linejoin=\"round\" transform=\"translate(70 330 )scale(1 1 )\" font-size=\"12px\" text-anchor=\"end\" dominant-baseline=\"middle\" fill=\"black\" stroke-width=\"2px\"><text dominant-baseline=\"middle\" stroke=\"none\" vector-effect=\"non-scaling-stroke\" x=\"-10\" y=\"-1.323339e+01\">3.000</text><text vector-effect=\"non-scaling-stroke\" x=\"-10\" y=\"-1.041599e+02\" dominant-baseline=\"middle\" stroke=\"none\">4.000</text><text dominant-baseline=\"middle\" stroke=\"none\" vector-effect=\"non-scaling-stroke\" x=\"-10\" y=\"-1.950865e+02\">5.000</text></g><g text-anchor=\"middle\" stroke-linecap=\"round\" dominant-baseline=\"hanging\" fill=\"black\" stroke-width=\"2px\" stroke-linejoin=\"round\" font-weight=\"bold\" stroke=\"black\" font-family=\"sans-serif\" transform=\"translate(70 330 )scale(1 1 )rotate(-90 0 0 )\" font-size=\"12px\" font-style=\"normal\"><text stroke=\"none\" vector-effect=\"non-scaling-stroke\" x=\"130\" y=\"6\" dominant-baseline=\"hanging\">loss</text></g><g stroke=\"gray\" transform=\"translate(70 330 )scale(1 -1 )\" font-style=\"normal\" dominant-baseline=\"hanging\" font-family=\"sans-serif\" font-weight=\"bold\" fill=\"black\" stroke-width=\"0.5px\" stroke-linejoin=\"round\" font-size=\"12px\" text-anchor=\"middle\" stroke-linecap=\"round\"><path vector-effect=\"non-scaling-stroke\" d=\"M0,1.323339e+01 L884,1.323339e+01 M0,1.041599e+02 L884,1.041599e+02 M0,1.950865e+02 L884,1.950865e+02 \"/></g><g stroke=\"black\" stroke-width=\"2px\" font-size=\"12px\" font-style=\"normal\" stroke-linecap=\"round\" fill=\"none\" font-weight=\"bold\" text-anchor=\"middle\" font-family=\"sans-serif\" dominant-baseline=\"hanging\" stroke-linejoin=\"round\"><rect y=\"70\" width=\"884\" height=\"260\" vector-effect=\"non-scaling-stroke\" x=\"70\"/><g font-size=\"18px\" fill=\"black\" dominant-baseline=\"middle\"><text stroke=\"none\" vector-effect=\"non-scaling-stroke\" x=\"512\" y=\"35\" dominant-baseline=\"middle\">loss metrics</text></g><g stroke-linecap=\"round\" font-family=\"sans-serif\" font-style=\"normal\" font-weight=\"normal\" fill=\"hsl(90, 47%, 65%)\" stroke=\"hsl(90, 47%, 65%)\" text-anchor=\"start\" stroke-width=\"1px\" stroke-linejoin=\"round\" font-size=\"12px\" dominant-baseline=\"hanging\"><rect x=\"76\" y=\"366\" width=\"12\" height=\"12\" vector-effect=\"non-scaling-stroke\"/><g fill=\"black\" stroke=\"black\"><text y=\"366\" dominant-baseline=\"hanging\" stroke=\"none\" vector-effect=\"non-scaling-stroke\" x=\"92\">Eval on seeds_test: Mean Loss</text></g><g text-anchor=\"start\" stroke-linecap=\"round\" fill=\"hsl(301, 88%, 65%)\" stroke=\"hsl(301, 88%, 65%)\" stroke-linejoin=\"round\" font-style=\"normal\" font-weight=\"normal\" stroke-width=\"1px\" font-size=\"12px\" font-family=\"sans-serif\" dominant-baseline=\"hanging\"><rect x=\"76\" y=\"384\" width=\"12\" height=\"12\" vector-effect=\"non-scaling-stroke\"/><g stroke=\"black\" fill=\"black\"><text vector-effect=\"non-scaling-stroke\" x=\"92\" y=\"384\" dominant-baseline=\"hanging\" stroke=\"none\">Eval on seeds_test: Mean Loss+Regularization</text></g><g font-family=\"sans-serif\" dominant-baseline=\"hanging\" font-size=\"12px\" fill=\"hsl(152, 76%, 65%)\" stroke-linejoin=\"round\" stroke-width=\"1px\" text-anchor=\"start\" stroke-linecap=\"round\" font-style=\"normal\" font-weight=\"normal\" stroke=\"hsl(152, 76%, 65%)\"><rect width=\"12\" height=\"12\" vector-effect=\"non-scaling-stroke\" x=\"76\" y=\"402\"/><g fill=\"black\" stroke=\"black\"><text vector-effect=\"non-scaling-stroke\" x=\"92\" y=\"402\" dominant-baseline=\"hanging\" stroke=\"none\">Eval on seeds_train: Mean Loss</text></g><g text-anchor=\"start\" font-family=\"sans-serif\" stroke=\"hsl(3, 64%, 65%)\" stroke-width=\"1px\" stroke-linejoin=\"round\" font-size=\"12px\" font-weight=\"normal\" fill=\"hsl(3, 64%, 65%)\" dominant-baseline=\"hanging\" stroke-linecap=\"round\" font-style=\"normal\"><rect width=\"12\" height=\"12\" vector-effect=\"non-scaling-stroke\" x=\"76\" y=\"420\"/><g fill=\"black\" stroke=\"black\"><text stroke=\"none\" vector-effect=\"non-scaling-stroke\" x=\"92\" y=\"420\" dominant-baseline=\"hanging\">Eval on seeds_train: Mean Loss+Regularization</text></g><g stroke=\"hsl(214, 52%, 65%)\" font-size=\"12px\" font-style=\"normal\" text-anchor=\"start\" stroke-linecap=\"round\" font-family=\"sans-serif\" font-weight=\"normal\" fill=\"hsl(214, 52%, 65%)\" stroke-width=\"1px\" stroke-linejoin=\"round\" dominant-baseline=\"hanging\"><rect height=\"12\" vector-effect=\"non-scaling-stroke\" x=\"76\" y=\"438\" width=\"12\"/><g stroke=\"black\" fill=\"black\"><text stroke=\"none\" vector-effect=\"non-scaling-stroke\" x=\"92\" y=\"438\" dominant-baseline=\"hanging\">Eval on seeds_valid: Mean Loss</text></g><g stroke-linecap=\"round\" dominant-baseline=\"hanging\" fill=\"hsl(65, 93%, 65%)\" stroke=\"hsl(65, 93%, 65%)\" stroke-width=\"1px\" stroke-linejoin=\"round\" font-size=\"12px\" font-family=\"sans-serif\" font-style=\"normal\" font-weight=\"normal\" text-anchor=\"start\"><rect y=\"456\" width=\"12\" height=\"12\" vector-effect=\"non-scaling-stroke\" x=\"76\"/><g fill=\"black\" stroke=\"black\"><text vector-effect=\"non-scaling-stroke\" x=\"92\" y=\"456\" dominant-baseline=\"hanging\" stroke=\"none\">Eval on seeds_valid: Mean Loss+Regularization</text></g><g fill=\"hsl(276, 81%, 65%)\" stroke-width=\"1px\" stroke-linejoin=\"round\" font-size=\"12px\" font-weight=\"normal\" stroke-linecap=\"round\" font-family=\"sans-serif\" stroke=\"hsl(276, 81%, 65%)\" font-style=\"normal\" text-anchor=\"start\" dominant-baseline=\"hanging\"><rect vector-effect=\"non-scaling-stroke\" x=\"76\" y=\"474\" width=\"12\" height=\"12\"/><g fill=\"black\" stroke=\"black\"><text stroke=\"none\" vector-effect=\"non-scaling-stroke\" x=\"92\" y=\"474\" dominant-baseline=\"hanging\">Train: Batch Loss+Regularization</text></g><g stroke-linejoin=\"round\" fill=\"hsl(127, 69%, 65%)\" text-anchor=\"start\" dominant-baseline=\"hanging\" font-family=\"sans-serif\" font-size=\"12px\" font-style=\"normal\" font-weight=\"normal\" stroke=\"hsl(127, 69%, 65%)\" stroke-width=\"1px\" stroke-linecap=\"round\"><rect height=\"12\" vector-effect=\"non-scaling-stroke\" x=\"76\" y=\"492\" width=\"12\"/><g fill=\"black\" stroke=\"black\"><text vector-effect=\"non-scaling-stroke\" x=\"92\" y=\"492\" dominant-baseline=\"hanging\" stroke=\"none\">Train: Moving Average Loss</text></g><g fill=\"hsl(338, 57%, 65%)\" stroke=\"hsl(338, 57%, 65%)\" stroke-width=\"1px\" stroke-linejoin=\"round\" text-anchor=\"start\" font-size=\"12px\" font-style=\"normal\" font-weight=\"normal\" stroke-linecap=\"round\" font-family=\"sans-serif\" dominant-baseline=\"hanging\"><rect vector-effect=\"non-scaling-stroke\" x=\"76\" y=\"510\" width=\"12\" height=\"12\"/><g stroke=\"black\" fill=\"black\"><text stroke=\"none\" vector-effect=\"non-scaling-stroke\" x=\"92\" y=\"510\" dominant-baseline=\"hanging\">Train: Moving Average Loss+Regularization</text></g></g></g></g></g></g></g></g></g></g></g></svg>"
      ]
     },
     "metadata": {},
     "output_type": "display_data"
    }
   ],
   "source": [
    "import \"github.com/gomlx/gomlx/examples/ogbnmag/fnn\"\n",
    "\n",
    "%%\n",
    "must.M(mag.Download(*flagDataDir))\n",
    "ctx := config()\n",
    "ctx.SetParam(\"checkpoint\", path.Join(*flagDataDir, \"fnn-baseline\"))\n",
    "ctx.SetParam(\"num_checkpoints\", 10)\n",
    "ctx.SetParam(\"train_steps\", 1000)\n",
    "err := fnn.Train(backend, ctx)\n",
    "if  err != nil {\n",
    "    fmt.Printf(\"%+v\\n\", err)\n",
    "}\n"
   ]
  },
  {
   "cell_type": "markdown",
   "id": "8906d875-13ed-4ebd-af77-33fbec8c66ed",
   "metadata": {},
   "source": [
    "## GNN (Graph Neural Networks)\n",
    "\n",
    "To use GNNs we need first graphs to run the model on. The issue is, generally the graphs in real life are too large (social networks, relational datases, etc.), including OGNB-MAG.\n",
    "\n",
    "So instead we use sampled sub-graphs to train. For inference we can also use sampled subgraphs, but later we show a work around where we can do inference, a layer of nodes at a time, where we don't need sampling.\n",
    "\n",
    "### Sampling Sub-Graphs\n",
    "\n",
    "We follow the same sampling strategy used in [TensorFlow GNN](https://github.com/tensorflow/gnn) library, describe it its [OGBN-MAG notebook](https://github.com/tensorflow/gnn/blob/main/examples/notebooks/ogbn_mag_e2e.ipynb).\n",
    "\n",
    "The `magSampler` variable loads the definition of the data graph: its node and edge sets. The `magStrategy` defines how to sample from those nodes and edges. See it's specification in [gomlx/examples/ogbnmag/sampling.go](https://github.com/gomlx/gomlx/blob/main/examples/ogbnmag/sampling.go), it's only some 20 lines long.\n",
    "\n",
    "The print out of the sampler and the strategy we are using:"
   ]
  },
  {
   "cell_type": "code",
   "execution_count": 4,
   "id": "e343e5fd-27a4-494f-a7d4-babc14dec453",
   "metadata": {},
   "outputs": [
    {
     "name": "stdout",
     "output_type": "stream",
     "text": [
      "Sampler: 4 node types, 8 edge types, Frozen\n",
      "\tNodeType \"papers\": 736,389 items\n",
      "\tNodeType \"authors\": 1,134,649 items\n",
      "\tNodeType \"institutions\": 8,740 items\n",
      "\tNodeType \"fields_of_study\": 59,965 items\n",
      "\tEdgeType \"citedBy\": [\"papers\"]->[\"papers\"], 5,416,271 edges\n",
      "\tEdgeType \"affiliatedWith\": [\"authors\"]->[\"institutions\"], 1,043,998 edges\n",
      "\tEdgeType \"affiliations\": [\"institutions\"]->[\"authors\"], 1,043,998 edges\n",
      "\tEdgeType \"hasTopic\": [\"papers\"]->[\"fields_of_study\"], 7,505,078 edges\n",
      "\tEdgeType \"topicHasPapers\": [\"fields_of_study\"]->[\"papers\"], 7,505,078 edges\n",
      "\tEdgeType \"writes\": [\"authors\"]->[\"papers\"], 7,145,660 edges\n",
      "\tEdgeType \"writtenBy\": [\"papers\"]->[\"authors\"], 7,145,660 edges\n",
      "\tEdgeType \"cites\": [\"papers\"]->[\"papers\"], 5,416,271 edges\n",
      "\n",
      "Sampling strategy: (13 Rules)\n",
      "> Rule \"seeds\": type=Node, nodeType=\"papers\", Shape=(Int32)[128] (size=128), NodeSet.size=629571\n",
      "  > Rule \"citations\": type=Edge, nodeType=\"papers\", Shape=(Int32)[128 8] (size=1024), SourceRule=\"seeds\", EdgeType=\"cites\"\n",
      "    > Rule \"citationsAuthors\": type=Edge, nodeType=\"authors\", Shape=(Int32)[128 8 8] (size=8192), SourceRule=\"citations\", EdgeType=\"writtenBy\"\n",
      "      > Rule \"papersByCitationAuthors\": type=Edge, nodeType=\"papers\", Shape=(Int32)[128 8 8 8] (size=65536), SourceRule=\"citationsAuthors\", EdgeType=\"writes\"\n",
      "        > Rule \"papersByCitationAuthorsTopics\": type=Edge, nodeType=\"fields_of_study\", Shape=(Int32)[128 8 8 8 8] (size=524288), SourceRule=\"papersByCitationAuthors\", EdgeType=\"hasTopic\"\n",
      "      > Rule \"citationAuthorsInstitutions\": type=Edge, nodeType=\"institutions\", Shape=(Int32)[128 8 8 8] (size=65536), SourceRule=\"citationsAuthors\", EdgeType=\"affiliatedWith\"\n",
      "    > Rule \"citationsTopics\": type=Edge, nodeType=\"fields_of_study\", Shape=(Int32)[128 8 8] (size=8192), SourceRule=\"citations\", EdgeType=\"hasTopic\"\n",
      "  > Rule \"seedsBase\": type=Edge, nodeType=\"papers\", Shape=(Int32)[128 1] (size=128), SourceRule=\"seeds\", EdgeType=Identity\n",
      "    > Rule \"seedsAuthors\": type=Edge, nodeType=\"authors\", Shape=(Int32)[128 1 8] (size=1024), SourceRule=\"seedsBase\", EdgeType=\"writtenBy\"\n",
      "      > Rule \"papersByAuthors\": type=Edge, nodeType=\"papers\", Shape=(Int32)[128 1 8 8] (size=8192), SourceRule=\"seedsAuthors\", EdgeType=\"writes\"\n",
      "        > Rule \"papersByAuthorsTopics\": type=Edge, nodeType=\"fields_of_study\", Shape=(Int32)[128 1 8 8 8] (size=65536), SourceRule=\"papersByAuthors\", EdgeType=\"hasTopic\"\n",
      "      > Rule \"authorsInstitutions\": type=Edge, nodeType=\"institutions\", Shape=(Int32)[128 1 8 8] (size=8192), SourceRule=\"seedsAuthors\", EdgeType=\"affiliatedWith\"\n",
      "    > Rule \"seedsTopics\": type=Edge, nodeType=\"fields_of_study\", Shape=(Int32)[128 1 8] (size=1024), SourceRule=\"seedsBase\", EdgeType=\"hasTopic\"\n"
     ]
    }
   ],
   "source": [
    "%%\n",
    "must.M(mag.Download(*flagDataDir))\n",
    "magSampler := must.M1(mag.NewSampler(*flagDataDir))\n",
    "magStrategy := mag.NewSamplerStrategy(magSampler, mag.BatchSize, mag.TrainSplit)\n",
    "fmt.Printf(\"%s\\n\", magSampler)\n",
    "fmt.Printf(\"\\n%s\\n\", magStrategy)"
   ]
  },
  {
   "cell_type": "markdown",
   "id": "9e6e73ab-9617-4ec0-a398-627d6befddb1",
   "metadata": {},
   "source": [
    "### Training Model\n",
    "\n",
    "We use the vanilla GNN trainer and model defined in the `gnn` package."
   ]
  },
  {
   "cell_type": "code",
   "execution_count": 74,
   "id": "99743b12-d5b4-40c4-be48-25749b384c95",
   "metadata": {},
   "outputs": [],
   "source": [
    "import (\n",
    "    \"github.com/gomlx/gomlx/examples/ogbnmag/gnn\"\n",
    ")\n",
    "\n",
    "func configGnn(baseDir string) *context.Context {\n",
    "    must.M(mag.Download(baseDir))\n",
    "    ctx := context.NewContext(manager)\n",
    "    ctx.RngStateReset()\n",
    "    \n",
    "    stepsPerEpoch := mag.TrainSplit.Shape().Size() / mag.BatchSize + 1\n",
    "    numEpochs := 10  // Taken from TF-GNN OGBN-MAG notebook.\n",
    "    numTrainSteps := numEpochs * stepsPerEpoch\n",
    "    \n",
    "    ctx.SetParams(map[string]any{\n",
    "        \"train_steps\": numTrainSteps,\n",
    "        \n",
    "        optimizers.ParamOptimizer: \"adam\", \n",
    "        optimizers.ParamLearningRate: 0.001,\n",
    "        optimizers.ParamCosineScheduleSteps:  numTrainSteps,\n",
    "        \n",
    "        layers.ParamL2Regularization: 1e-5,\n",
    "        layers.ParamDropoutRate: 0.2,\n",
    "\n",
    "        mag.ParamEmbedDropoutRate: 0.0,\n",
    "        \n",
    "        gnn.ParamEdgeDropoutRate: 0.0,\n",
    "        gnn.ParamNumGraphUpdates: 2,\n",
    "        gnn.ParamReadoutHiddenLayers: 2,\n",
    "        gnn.ParamPoolingType: \"mean|sum\",\n",
    "        gnn.ParamUsePathToRootStates: false,\n",
    "        \n",
    "        \"plots\": true,\n",
    "    })\n",
    "    return ctx\n",
    "}\n",
    "\n",
    "%%\n",
    "mag.BatchSize = 128  // Default is 128.\n",
    "ctx := configGnn(*flagDataDir)\n",
    "// ctx.SetParam(\"checkpoint\", path.Join(*flagDataDir, \"gnn-small_batch\"))\n",
    "// ctx.SetParam(\"checkpoint\", path.Join(*flagDataDir, \"gnn-use_path_to_root\"))\n",
    "ctx.SetParam(\"checkpoint\", path.Join(*flagDataDir, \"gnn-reg_2\"))\n",
    "ctx.SetParam(\"num_checkpoints\", 3)\n",
    "ctx.SetParams(map[string]any{\n",
    "    // \"train_steps\": 100,\n",
    "    // \"plots\": false,\n",
    "    // gnn.ParamEdgeDropoutRate: 0.1,\n",
    "    // mag.ParamEmbedDropoutRate: 0.1,\n",
    "    gnn.ParamNumGraphUpdates: 2,\n",
    "    // gnn.ParamUsePathToRootStates: true,\n",
    "    // gnn.ParamReadoutHiddenLayers: 2,\n",
    "    layers.ParamDropoutRate: 0.25,\n",
    "    layers.ParamL2Regularization: 3e-4,\n",
    "})\n",
    "\n",
    "// err := gnn.Train(ctx, *flagDataDir)\n",
    "// if  err != nil {\n",
    "//     fmt.Printf(\"%+v\\n\", err)\n",
    "// }"
   ]
  },
  {
   "cell_type": "code",
   "execution_count": 14,
   "id": "ee7239da-bb04-4cb6-b41c-662ed80436b5",
   "metadata": {},
   "outputs": [
    {
     "name": "stdout",
     "output_type": "stream",
     "text": [
      "loading: \"checkpoint-n0000171-20240229-012409-step-00049190\"\n",
      "Model in \"/home/janpf/work/ogbnmag/gnn-baseline_5\" trained for 49190 steps.\n",
      "Results on train:\n",
      "\tMean Loss+Regularization (#loss+): 1.542\n",
      "\tMean Loss (#loss): 1.457\n",
      "\tMean Accuracy (#acc): 57.49%\n",
      "\telapsed 1m37.457905276s (train)\n",
      "Results on valid:\n",
      "\tMean Loss+Regularization (#loss+): 1.927\n",
      "\tMean Loss (#loss): 1.841\n",
      "\tMean Accuracy (#acc): 48.60%\n",
      "\telapsed 11.140775268s (valid)\n",
      "Results on test:\n",
      "\tMean Loss+Regularization (#loss+): 1.922\n",
      "\tMean Loss (#loss): 1.837\n",
      "\tMean Accuracy (#acc): 48.10%\n",
      "\telapsed 7.647081029s (test)\n"
     ]
    }
   ],
   "source": [
    "%%\n",
    "ctx := configGnn(*flagDataDir)\n",
    "ctx.SetParam(\"checkpoint\", path.Join(*flagDataDir, \"gnn-baseline_5\"))\n",
    "\n",
    "_, trainEvalDS, validEvalDS, testEvalDS := must.M4(gnn.MakeDatasets(*flagDataDir))\n",
    "_, _, _ = trainEvalDS, validEvalDS, testEvalDS\n",
    "must.M(gnn.Eval(ctx, *flagDataDir, trainEvalDS, validEvalDS, testEvalDS))"
   ]
  },
  {
   "cell_type": "code",
   "execution_count": 122,
   "id": "abfe4a9b-0c47-4f01-a69b-88daf0029b3b",
   "metadata": {},
   "outputs": [
    {
     "name": "stdout",
     "output_type": "stream",
     "text": [
      "loading: \"checkpoint-n0000142-20240305-235708-step-00049190\"\n",
      "Model in \"/home/janpf/work/ogbnmag/gnn-baseline_17\" trained for 49190 steps.\n",
      "Results on valid:\n",
      "\tMean Loss+Regularization (#loss+): 1.920\n",
      "\tMean Loss (#loss): 1.834\n",
      "\tMean Accuracy (#acc): 48.64%\n",
      "\telapsed 9.335698266s (valid)\n",
      "Results on test:\n",
      "\tMean Loss+Regularization (#loss+): 1.917\n",
      "\tMean Loss (#loss): 1.830\n",
      "\tMean Accuracy (#acc): 48.38%\n",
      "\telapsed 5.863748141s (test)\n"
     ]
    }
   ],
   "source": [
    "%%\n",
    "ctx := configGnn(*flagDataDir)\n",
    "ctx.SetParam(\"checkpoint\", path.Join(*flagDataDir, \"gnn-baseline_17\"))\n",
    "\n",
    "_, trainEvalDS, validEvalDS, testEvalDS := must.M4(mag.MakeDatasets(*flagDataDir))\n",
    "_, _, _ = trainEvalDS, validEvalDS, testEvalDS\n",
    "must.M(mag.Eval(ctx, *flagDataDir, validEvalDS, testEvalDS))"
   ]
  },
  {
   "cell_type": "code",
   "execution_count": 7,
   "id": "22fcf866-2682-4296-bf5b-4cc896db3bc2",
   "metadata": {
    "scrolled": true
   },
   "outputs": [
    {
     "data": {
      "text/html": [
       "<p><b>Metric: accuracy</b></p>\n"
      ]
     },
     "metadata": {},
     "output_type": "display_data"
    },
    {
     "data": {
      "text/html": [
       "<div id=\"a327da6a\"></div>"
      ]
     },
     "metadata": {},
     "output_type": "display_data"
    },
    {
     "data": {
      "text/html": [
       "<script charset=\"UTF-8\">\n",
       "(() => {\n",
       "\tconst src=\"https://cdn.plot.ly/plotly-2.29.1.min.js\";\n",
       "\tvar runJSFn = function(module) {\n",
       "\t\t\n",
       "\tif (!module) {\n",
       "\t\tmodule = window.Plotly;\n",
       "\t}\n",
       "\tlet data = JSON.parse('{\"data\":[{\"type\":\"scatter\",\"line\":{\"shape\":\"linear\"},\"mode\":\"lines+markers\",\"name\":\"(81) train:#acc\",\"x\":[200,440,728,1074,1489,1987,2585,3303,4165,4918,5199,6440,7929,9716,9837,11860,14433,14756,17521,19675,21227,24594,25674,29513,31010,34432,37413,39351,44270,45097,49189,49190],\"y\":[0.14023835278308563,0.22449255127698067,0.2655363731811027,0.29292962985906273,0.3255216647526649,0.3434322737229002,0.36635582007430456,0.38735265760335214,0.4004361700268913,0.40937717906320337,0.42101367439097415,0.43278041714119614,0.4516249954333983,0.46329484680838223,0.4642049903823397,0.4772599119082677,0.49074528528156475,0.4952038769257161,0.5047961230742839,0.5100012548227285,0.5178065698705944,0.526537912324424,0.5282978409107154,0.5393688718190641,0.5402933108418272,0.54806526984248,0.5517534956343287,0.5534737146406045,0.5571190540860363,0.5570428116924064,0.5571937080964657,0.5571937080964657]},{\"type\":\"scatter\",\"line\":{\"shape\":\"linear\"},\"mode\":\"lines+markers\",\"name\":\"(81) valid:#acc\",\"x\":[200,440,728,1074,1489,1987,2585,3303,4165,4918,5199,6440,7929,9716,9837,11860,14433,14756,17521,19675,21227,24594,25674,29513,31010,34432,37413,39351,44270,45097,49189,49190],\"y\":[0.09358960526518596,0.2007737480540699,0.25573760384716165,0.2845604895266573,0.32975230814285056,0.33781346814839935,0.3614420690824458,0.36282926678894556,0.3823887544505926,0.393409269563341,0.4010234436412399,0.40557036945698915,0.42249418147628665,0.426655774595786,0.43024707532483547,0.4317884061098352,0.4480340325837328,0.4476024599639329,0.44342545353658347,0.4554324203517317,0.4547542348063318,0.46423341913408034,0.45555572681453166,0.4620755560350807,0.46489619137163024,0.4679171997102298,0.46782471986312985,0.46554355030133016,0.47013671604062945,0.4705991152761294,0.46965890349727957,0.46965890349727957]},{\"type\":\"scatter\",\"line\":{\"shape\":\"linear\"},\"mode\":\"lines+markers\",\"name\":\"(81) test:#acc\",\"x\":[200,440,728,1074,1489,1987,2585,3303,4165,4918,5199,6440,7929,9716,9837,11860,14433,14756,17521,19675,21227,24594,25674,29513,31010,34432,37413,39351,44270,45097,49189,49190],\"y\":[0.12308352607358305,0.2140012875843487,0.2641217005651065,0.2912563485061637,0.3395407615822981,0.34531104699682874,0.3660316173490069,0.36522091609241997,0.3814587853787644,0.39612294046114593,0.40172631679343807,0.4052552516750519,0.4204916664679654,0.42254226376403825,0.42599966618183555,0.43179379575097165,0.44943847015904054,0.4407115095734281,0.43770714609313527,0.4540165478432962,0.45005841817878345,0.46116979422494575,0.4514175349912969,0.4603590929683588,0.4607644435966523,0.4622427811821932,0.46550943036314646,0.4606929111328358,0.46734543026776987,0.46796537828751283,0.4674646510407974,0.4674646510407974]},{\"type\":\"scatter\",\"line\":{\"shape\":\"linear\"},\"mode\":\"lines+markers\",\"name\":\"(81) train:~acc\",\"x\":[200,440,728,1074,1489,1987,2585,3303,4165,4918,5199,6440,7929,9716,9837,11860,14433,14756,17521,19675,21227,24594,25674,29513,31010,34432,37413,39351,44270,45097,49189,49190],\"y\":[0.0923939049243927,0.1741478145122528,0.23376131057739258,0.269742488861084,0.2897125780582428,0.30884259939193726,0.3290688693523407,0.340726763010025,0.3556983768939972,0.3661079704761505,0.3787955641746521,0.38522276282310486,0.3956083655357361,0.4125228524208069,0.4080027937889099,0.4265553653240204,0.43158382177352905,0.43741121888160706,0.4420183300971985,0.4537088871002197,0.4612806737422943,0.4724980294704437,0.48075345158576965,0.4767076075077057,0.48481473326683044,0.48722338676452637,0.4992702007293701,0.4959866404533386,0.5002992749214172,0.5071849226951599,0.4996989667415619,0.4996989667415619]},{\"type\":\"scatter\",\"line\":{\"shape\":\"linear\"},\"mode\":\"lines+markers\",\"name\":\"(82) train:#acc\",\"x\":[200,440,728,1074,1489,1987,2585,3303,4165,4918,5199,6440,7929,9716,9837,11860,14433,14756,17521,19675,21227,24594,25674,29513,31010,34432,37413,39351,44270,45097,49189,49190],\"y\":[0.1822685606547951,0.25599654367815544,0.28944948226649575,0.31455229036915616,0.34870094079936975,0.36860655906958867,0.38850264704060383,0.40389725702105084,0.4332045154557627,0.4418818528807712,0.4471838760044538,0.4630184681314737,0.4741720949662548,0.4895190534506831,0.49146958802104923,0.5053965319241197,0.5141548768923601,0.5178065698705944,0.5278260911001301,0.5378837335264808,0.5438687614264317,0.5510418999604493,0.5577559957494865,0.5674641938716999,0.5712445458891848,0.5775678994108687,0.5818136477061364,0.5827380867288995,0.5877827917740811,0.587922569495736,0.588737410077656,0.588737410077656]},{\"type\":\"scatter\",\"line\":{\"shape\":\"linear\"},\"mode\":\"lines+markers\",\"name\":\"(82) valid:#acc\",\"x\":[200,440,728,1074,1489,1987,2585,3303,4165,4918,5199,6440,7929,9716,9837,11860,14433,14756,17521,19675,21227,24594,25674,29513,31010,34432,37413,39351,44270,45097,49189,49190],\"y\":[0.15276129410132708,0.2910649054393563,0.30011251714730497,0.32112085574685184,0.32036560366220196,0.3508222999737974,0.373449035897594,0.3840996316219424,0.41504955378473773,0.4092079101095886,0.41888746743938715,0.4293685167773856,0.44230028206353367,0.45436890211008185,0.440142418964534,0.4513478937714823,0.4572203640623314,0.4586383883845312,0.47286487153007906,0.47166263351777926,0.4672852540883799,0.4841474128762774,0.4720942061375792,0.4819433098537277,0.48120347107692785,0.4886943386920267,0.49260931888592613,0.49091385502242635,0.4939965165924259,0.49185406680127625,0.49354953066477597,0.49354953066477597]},{\"type\":\"scatter\",\"line\":{\"shape\":\"linear\"},\"mode\":\"lines+markers\",\"name\":\"(82) test:#acc\",\"x\":[200,440,728,1074,1489,1987,2585,3303,4165,4918,5199,6440,7929,9716,9837,11860,14433,14756,17521,19675,21227,24594,25674,29513,31010,34432,37413,39351,44270,45097,49189,49190],\"y\":[0.17172560146879992,0.3113569708385989,0.31352678890769925,0.3209184768354038,0.31989317818736734,0.35079520255609337,0.37428169484250934,0.3763084479839767,0.41140704356327046,0.4009394596914566,0.41212236820143544,0.4237583156489187,0.4326283411621641,0.4454564963399223,0.4349173800042919,0.4465056391425642,0.4541119244617182,0.45249052194854433,0.4693483392546317,0.4634111447578626,0.46429337847826607,0.48141348148501395,0.47099358592241114,0.4746894298862634,0.47461789742244687,0.4821526502777844,0.4871360785903336,0.48475166312978374,0.4869214811988841,0.48484703974820575,0.48592002670545315,0.48592002670545315]},{\"type\":\"scatter\",\"line\":{\"shape\":\"linear\"},\"mode\":\"lines+markers\",\"name\":\"(82) train:~acc\",\"x\":[200,440,728,1074,1489,1987,2585,3303,4165,4918,5199,6440,7929,9716,9837,11860,14433,14756,17521,19675,21227,24594,25674,29513,31010,34432,37413,39351,44270,45097,49189,49190],\"y\":[0.12776021659374237,0.21088115870952606,0.2548511326313019,0.28552547097206116,0.3151654005050659,0.334867000579834,0.34420934319496155,0.36771607398986816,0.3882007896900177,0.3943401277065277,0.4103657603263855,0.41614168882369995,0.4300278425216675,0.43826156854629517,0.4382134675979614,0.4523680806159973,0.4559232294559479,0.46090227365493774,0.4741823673248291,0.4776058495044708,0.4874690771102905,0.4930162727832794,0.5011693239212036,0.5104051828384399,0.5119450092315674,0.5162369608879089,0.530666172504425,0.5322320461273193,0.5366436839103699,0.5359376668930054,0.5436166524887085,0.5436166524887085]}],\"layout\":{\"legend\":{},\"title\":{\"text\":\"accuracy\"},\"xaxis\":{\"showgrid\":true,\"type\":\"log\"},\"yaxis\":{\"showgrid\":true,\"type\":\"log\"}}}');\n",
       "\tmodule.newPlot('a327da6a', data);\n",
       "\n",
       "\t}\n",
       "\t\n",
       "    if (typeof requirejs === \"function\") {\n",
       "        // Use RequireJS to load module.\n",
       "\t\tlet srcWithoutExtension = src.substring(0, src.lastIndexOf(\".js\"));\n",
       "        requirejs.config({\n",
       "            paths: {\n",
       "                'plotly': srcWithoutExtension\n",
       "            }\n",
       "        });\n",
       "        require(['plotly'], function(plotly) {\n",
       "            runJSFn(plotly)\n",
       "        });\n",
       "        return\n",
       "    }\n",
       "\n",
       "\tvar currentScripts = document.head.getElementsByTagName(\"script\");\n",
       "\tfor (const idx in currentScripts) {\n",
       "\t\tlet script = currentScripts[idx];\n",
       "\t\tif (script.src == src) {\n",
       "\t\t\trunJSFn(null);\n",
       "\t\t\treturn;\n",
       "\t\t}\n",
       "\t}\n",
       "\n",
       "\tvar script = document.createElement(\"script\");\n",
       "\n",
       "\tscript.charset = \"utf-8\";\n",
       "\t\n",
       "\tscript.src = src;\n",
       "\tscript.onload = script.onreadystatechange = function () { runJSFn(null); };\n",
       "\tdocument.head.appendChild(script);\t\n",
       "})();\n",
       "</script>"
      ]
     },
     "metadata": {},
     "output_type": "display_data"
    },
    {
     "data": {
      "text/html": [
       "<p><b>Metric: loss</b></p>\n"
      ]
     },
     "metadata": {},
     "output_type": "display_data"
    },
    {
     "data": {
      "text/html": [
       "<div id=\"23dd27d6\"></div>"
      ]
     },
     "metadata": {},
     "output_type": "display_data"
    },
    {
     "data": {
      "text/html": [
       "<script charset=\"UTF-8\">\n",
       "(() => {\n",
       "\tconst src=\"https://cdn.plot.ly/plotly-2.29.1.min.js\";\n",
       "\tvar runJSFn = function(module) {\n",
       "\t\t\n",
       "\tif (!module) {\n",
       "\t\tmodule = window.Plotly;\n",
       "\t}\n",
       "\tlet data = JSON.parse('{\"data\":[{\"type\":\"scatter\",\"line\":{\"shape\":\"linear\"},\"mode\":\"lines+markers\",\"name\":\"(81) train:~loss\",\"x\":[200,440,728,1074,1489,1987,2585,3303,4165,4918,5199,6440,7929,9716,9837,11860,14433,14756,17521,19675,21227,24594,25674,29513,31010,34432,37413,39351,44270,45097,49189,49190],\"y\":[4.9117231369018555,3.9613046646118164,3.3920164108276367,3.084035873413086,2.880213975906372,2.7372663021087646,2.6221933364868164,2.541952133178711,2.4857726097106934,2.422252893447876,2.3696935176849365,2.3284120559692383,2.287005662918091,2.2090892791748047,2.222545862197876,2.1377522945404053,2.1233115196228027,2.0876996517181396,2.059360980987549,2.003631830215454,1.9763233661651611,1.9307252168655396,1.9058812856674194,1.9060614109039307,1.8773444890975952,1.8470205068588257,1.8261984586715698,1.8252078294754028,1.7880278825759888,1.8007527589797974,1.7778609991073608,1.7778609991073608]},{\"type\":\"scatter\",\"line\":{\"shape\":\"linear\"},\"mode\":\"lines+markers\",\"name\":\"(82) train:~loss\",\"x\":[200,440,728,1074,1489,1987,2585,3303,4165,4918,5199,6440,7929,9716,9837,11860,14433,14756,17521,19675,21227,24594,25674,29513,31010,34432,37413,39351,44270,45097,49189,49190],\"y\":[4.474365234375,3.5718984603881836,3.1486268043518066,2.8984782695770264,2.714951276779175,2.599757671356201,2.5068233013153076,2.420628309249878,2.3306710720062256,2.2848548889160156,2.220475196838379,2.1747941970825195,2.1210761070251465,2.087707757949829,2.079582452774048,2.015742063522339,1.980765700340271,1.959712266921997,1.915971279144287,1.8850421905517578,1.8437047004699707,1.814437985420227,1.788384199142456,1.741392970085144,1.7304532527923584,1.7099418640136719,1.6598256826400757,1.6511164903640747,1.6311211585998535,1.6248159408569336,1.5999643802642822,1.5999643802642822]}],\"layout\":{\"legend\":{},\"title\":{\"text\":\"loss\"},\"xaxis\":{\"showgrid\":true,\"type\":\"log\"},\"yaxis\":{\"showgrid\":true,\"type\":\"log\"}}}');\n",
       "\tmodule.newPlot('23dd27d6', data);\n",
       "\n",
       "\t}\n",
       "\t\n",
       "    if (typeof requirejs === \"function\") {\n",
       "        // Use RequireJS to load module.\n",
       "\t\tlet srcWithoutExtension = src.substring(0, src.lastIndexOf(\".js\"));\n",
       "        requirejs.config({\n",
       "            paths: {\n",
       "                'plotly': srcWithoutExtension\n",
       "            }\n",
       "        });\n",
       "        require(['plotly'], function(plotly) {\n",
       "            runJSFn(plotly)\n",
       "        });\n",
       "        return\n",
       "    }\n",
       "\n",
       "\tvar currentScripts = document.head.getElementsByTagName(\"script\");\n",
       "\tfor (const idx in currentScripts) {\n",
       "\t\tlet script = currentScripts[idx];\n",
       "\t\tif (script.src == src) {\n",
       "\t\t\trunJSFn(null);\n",
       "\t\t\treturn;\n",
       "\t\t}\n",
       "\t}\n",
       "\n",
       "\tvar script = document.createElement(\"script\");\n",
       "\n",
       "\tscript.charset = \"utf-8\";\n",
       "\t\n",
       "\tscript.src = src;\n",
       "\tscript.onload = script.onreadystatechange = function () { runJSFn(null); };\n",
       "\tdocument.head.appendChild(script);\t\n",
       "})();\n",
       "</script>"
      ]
     },
     "metadata": {},
     "output_type": "display_data"
    }
   ],
   "source": [
    "import (\n",
    "    stdplots \"github.com/gomlx/gomlx/examples/notebook/gonb/plots\"\n",
    "    \"github.com/gomlx/gomlx/examples/notebook/gonb/plotly\"\n",
    ")\n",
    "\n",
    "func filterPoints(pt *stdplots.Point) bool {\n",
    "    // Remove substrings\n",
    "    for _, s := range []string{\"Eval on \"} {\n",
    "        pt.MetricName = strings.Replace(pt.MetricName, s, \"\", -1)\n",
    "    }\n",
    "    // Replace substrings\n",
    "    for _, pair := range [][2]string{\n",
    "        {\"Accuracy\", \"acc\"}, {\"Loss+Regularization\", \"loss+\"}, {\"Loss\", \"loss\"}, {\" Mean \", \"#\"}, {\" Moving Average \", \"~\"}, \n",
    "        {\"Train\", \"train\"}, {\"Validation\", \"valid\"}, {\"Test\", \"test\"}, {\": layer-wise eval\", \":#acc\"}} {\n",
    "        pt.MetricName = strings.Replace(pt.MetricName, pair[0], pair[1], -1)\n",
    "    }\n",
    "    for _, exclude := range []string{ \"Batch\", \"Train:~loss\", \"Train:~acc\", \"loss+\" } {\n",
    "        if strings.Index(pt.MetricName, exclude) != -1 { return false }\n",
    "    }\n",
    "    return true\n",
    "}\n",
    "\n",
    "func plotVersions(versions ...int) {\n",
    "    plots := plotly.New()\n",
    "    for _, version := range versions {\n",
    "        // checkpoint := fmt.Sprintf(\"gnn-baseline_%d\", version)\n",
    "        checkpoint := fmt.Sprintf(\"small_%d\", version)\n",
    "        prefix := fmt.Sprintf(\"(%d) \", version)\n",
    "        must.M(plots.LoadCheckpointData(path.Join(*flagDataDir, checkpoint),\n",
    "            func (pt *stdplots.Point) bool {\n",
    "                if !filterPoints(pt) { return false }\n",
    "                pt.MetricName = prefix+pt.MetricName\n",
    "                return true\n",
    "            }))\n",
    "    }\n",
    "    plots.Plot()\n",
    "}\n",
    "\n",
    "%%\n",
    "plotVersions(81, 82)"
   ]
  }
 ],
 "metadata": {
  "kernelspec": {
   "display_name": "Go (gonb)",
   "language": "go",
   "name": "gonb"
  },
  "language_info": {
   "codemirror_mode": "",
   "file_extension": ".go",
   "mimetype": "",
   "name": "go",
   "nbconvert_exporter": "",
   "pygments_lexer": "",
   "version": "go1.22.4"
  }
 },
 "nbformat": 4,
 "nbformat_minor": 5
}
