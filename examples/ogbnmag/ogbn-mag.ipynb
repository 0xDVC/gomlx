{
 "cells": [
  {
   "cell_type": "code",
   "execution_count": 2,
   "id": "b357050e-2756-465f-9e81-c83c49b6a84b",
   "metadata": {},
   "outputs": [
    {
     "name": "stdout",
     "output_type": "stream",
     "text": [
      "\t- Added replace rule for module \"github.com/gomlx/gomlx\" to local directory \"/home/janpf/Projects/gomlx\".\n"
     ]
    }
   ],
   "source": [
    "!*rm -f go.work && go work init && go work use . \"${HOME}/Projects/gomlx\"\n",
    "%goworkfix"
   ]
  },
  {
   "cell_type": "markdown",
   "id": "598ddc21-be30-4883-ad85-e0f9199ef0d7",
   "metadata": {},
   "source": [
    "## Downloading Dataset\n",
    "\n",
    "The method `mag.Download()` will download the dataset to the data directory, if not yet downloaded.\n",
    "It then converts the dataset to tensors, which are then available for use.\n",
    "\n",
    "The tensor is then saved for faster access. After saved, the next call to `mag.Download()` will take 1/2s."
   ]
  },
  {
   "cell_type": "code",
   "execution_count": 3,
   "id": "ef9f12a9-040c-462d-a5ed-61b1f59dc5f9",
   "metadata": {},
   "outputs": [
    {
     "name": "stdout",
     "output_type": "stream",
     "text": [
      "Set: GOMLX_PLATFORM=\"GPU\"\n"
     ]
    }
   ],
   "source": [
    "%env GOMLX_PLATFORM=GPU"
   ]
  },
  {
   "cell_type": "code",
   "execution_count": 4,
   "id": "fb544cc2-b70b-4975-acda-fd39ccfb0f94",
   "metadata": {},
   "outputs": [
    {
     "name": "stdout",
     "output_type": "stream",
     "text": [
      "Elapsed: 1.050133099s\n",
      "Sampler: 4 node types, 8 edge types\n",
      "\tNodeType \"fields_of_study\": 59,965 items\n",
      "\tNodeType \"papers\": 736,389 items\n",
      "\tNodeType \"authors\": 1,134,649 items\n",
      "\tNodeType \"institutions\": 8,740 items\n",
      "\tEdgeType \"cites\": [\"papers\"]->[\"papers\"], 5,416,271 edges\n",
      "\tEdgeType \"citedBy\": [\"papers\"]->[\"papers\"], 5,416,271 edges\n",
      "\tEdgeType \"affiliatedWith\": [\"authors\"]->[\"institutions\"], 1,043,998 edges\n",
      "\tEdgeType \"affiliations\": [\"institutions\"]->[\"authors\"], 1,043,998 edges\n",
      "\tEdgeType \"hasTopic\": [\"papers\"]->[\"fields_of_study\"], 7,505,078 edges\n",
      "\tEdgeType \"topicHasPapers\": [\"fields_of_study\"]->[\"papers\"], 7,505,078 edges\n",
      "\tEdgeType \"writes\": [\"authors\"]->[\"papers\"], 7,145,660 edges\n",
      "\tEdgeType \"writtenBy\": [\"papers\"]->[\"authors\"], 7,145,660 edges\n"
     ]
    }
   ],
   "source": [
    "import (\n",
    "    \"flag\"\n",
    "    mag \"github.com/gomlx/gomlx/examples/ogbnmag\"\n",
    "    \"github.com/janpfeifer/must\"\n",
    ")\n",
    "\n",
    "var (\n",
    "    flagDataDir   = flag.String(\"data\", \"~/work/ogbnmag\", \"Directory to cache downloaded and generated dataset files.\")\n",
    ")\n",
    "\n",
    "%%\n",
    "start := time.Now()\n",
    "must.M(mag.Download(*flagDataDir))\n",
    "magSampler := must.M1(mag.NewSampler(*flagDataDir))\n",
    "\n",
    "fmt.Printf(\"Elapsed: %s\\n\", time.Since(start))\n",
    "fmt.Printf(\"%s\\n\", magSampler.String())"
   ]
  },
  {
   "cell_type": "markdown",
   "id": "13ed15ef-e36f-4bf8-a360-ff5bbc047b90",
   "metadata": {},
   "source": [
    "## FNN model, No Graph\n",
    "\n",
    "The first model will only use the paper features, and no relations. It serves as a baseline.\n",
    "\n",
    "In a quick experiment, without much hyperparameter tuning, we got 27.27% on test accuracy, which is inline with the corresponding results in [the leaderboard](https://ogb.stanford.edu/docs/leader_nodeprop/#ogbn-mag) (the Multi Layer Perceptron MLP entry in the bottom)."
   ]
  },
  {
   "cell_type": "code",
   "execution_count": 40,
   "id": "f99dda4b-4bc6-493d-a02c-a936e510828a",
   "metadata": {},
   "outputs": [],
   "source": [
    "import (\n",
    "\t. \"github.com/gomlx/gomlx/graph\"\n",
    "\t\"github.com/gomlx/gomlx/ml/context\"\n",
    ")\n",
    "var manager = NewManager()\n",
    "\n",
    "func config() (ctx *context.Context) {\n",
    "    ctx = context.NewContext(manager)\n",
    "    ctx.RngStateReset()\n",
    "    ctx.SetParams(map[string]any{\n",
    "        \"train_steps\": 2_000_000, \n",
    "        \"batch_size\": 128,\n",
    "        \"optimizer\": \"adamw\", \n",
    "        optimizers.LearningRateKey: 0.0001,\n",
    "        layers.L2RegularizationKey: 1e-4,\n",
    "        \"normalization\": \"layer\",\n",
    "        \"dropout\": 0.1,\n",
    "        \"hidden_layers\": 2,\n",
    "        \"num_nodes\": 256,\n",
    "        \"plots\": true,\n",
    "    })\n",
    "    return\n",
    "}"
   ]
  },
  {
   "cell_type": "code",
   "execution_count": 41,
   "id": "f2bc12d5-dd9b-47a0-a6eb-0e97ebbb6511",
   "metadata": {},
   "outputs": [
    {
     "data": {
      "text/html": [
       "<svg preserveAspectRatio=\"xMidYMid meet\" xmlns=\"http://www.w3.org/2000/svg\" width=\"1024\" height=\"472\" viewbox=\"0 0 1024 400\" style=\"background-color:#f8f8f8\"><defs><marker id=\"circle\" viewBox=\"0 0 10 10 \" refX=\"5\" refY=\"5\" markerUnits=\"userSpaceOnUse\" markerWidth=\"2%\" markerHeight=\"2%\"><circle stroke=\"black\" cx=\"5\" cy=\"5\" r=\"3\" fill=\"none\"/></marker><marker refY=\"5\" markerUnits=\"userSpaceOnUse\" markerWidth=\"2%\" markerHeight=\"2%\" id=\"filled-circle\" viewBox=\"0 0 10 10 \" refX=\"5\"><circle stroke=\"none\" cx=\"5\" cy=\"5\" r=\"3\" fill=\"black\"/></marker><marker markerHeight=\"2%\" id=\"square\" viewBox=\"0 0 10 10 \" refX=\"5\" refY=\"5\" markerUnits=\"userSpaceOnUse\" markerWidth=\"2%\"><rect y=\"2\" width=\"6\" height=\"6\" fill=\"none\" stroke=\"black\" x=\"2\"/></marker><marker refY=\"5\" markerUnits=\"userSpaceOnUse\" markerWidth=\"2%\" markerHeight=\"2%\" id=\"filled-square\" viewBox=\"0 0 10 10 \" refX=\"5\"><rect height=\"6\" fill=\"black\" stroke=\"none\" x=\"2\" y=\"2\" width=\"6\"/></marker></defs><g stroke=\"hsl(90, 47%, 65%)\" stroke-linecap=\"round\" marker-end=\"url(#square)\" fill=\"none\" stroke-linejoin=\"round\" stroke-width=\"2px\" marker-start=\"url(#square)\" marker-mid=\"url(#square)\" transform=\"translate(70 330 )scale(1 -1 )\"><path vector-effect=\"non-scaling-stroke\" d=\"M1.768000e+01,6.106156e+00 L9.804988e+01,1.564710e+01 L1.473386e+02,4.211405e+01 L1.839269e+02,7.153961e+01 L2.135617e+02,1.098639e+02 L2.389345e+02,1.193361e+02 L2.613214e+02,1.045660e+02 L2.815843e+02,1.456425e+02 L3.002547e+02,1.383950e+02 L3.176798e+02,1.373630e+02 L3.340964e+02,1.463076e+02 L3.496716e+02,1.457113e+02 L3.645714e+02,1.441288e+02 L3.789094e+02,1.483947e+02 L3.927645e+02,1.471103e+02 L4.061928e+02,1.565366e+02 L4.192612e+02,1.511698e+02 L4.320140e+02,1.442434e+02 L4.445019e+02,1.565366e+02 L4.567564e+02,1.569953e+02 L4.688127e+02,1.588989e+02 L4.806910e+02,1.624768e+02 L4.924143e+02,1.703205e+02 L5.039938e+02,1.653436e+02 L5.154434e+02,1.680729e+02 L5.267777e+02,1.621557e+02 L5.380103e+02,1.732332e+02 L5.491530e+02,1.797238e+02 L5.602152e+02,1.733938e+02 L5.712041e+02,1.791963e+02 L5.821303e+02,1.799303e+02 L5.929999e+02,1.738066e+02 L6.038156e+02,1.829347e+02 L6.145861e+02,1.816963e+02 L6.253144e+02,1.802284e+02 L6.360033e+02,1.770863e+02 L6.466577e+02,1.907097e+02 L6.572800e+02,1.872695e+02 L6.678758e+02,1.899987e+02 L6.784469e+02,1.908244e+02 L6.889962e+02,1.965810e+02 L6.995246e+02,1.948150e+02 L7.100349e+02,1.968333e+02 L7.205283e+02,1.920629e+02 L7.310061e+02,2.012139e+02 L7.414703e+02,1.972232e+02 L7.519221e+02,2.047000e+02 L7.623623e+02,2.011222e+02 L7.727920e+02,2.089659e+02 L7.832123e+02,2.067183e+02 L7.936243e+02,2.053193e+02 L8.040282e+02,2.106172e+02 L8.144245e+02,2.116264e+02 L8.248145e+02,2.070394e+02 L8.351988e+02,2.073146e+02 L8.455774e+02,2.100668e+02 L8.559509e+02,2.040349e+02 L8.663200e+02,2.097687e+02 \"/></g><g fill=\"none\" stroke-linejoin=\"round\" stroke-linecap=\"round\" marker-end=\"url(#square)\" marker-start=\"url(#square)\" marker-mid=\"url(#square)\" transform=\"translate(70 330 )scale(1 -1 )\" stroke=\"hsl(301, 88%, 65%)\" stroke-width=\"2px\"><path vector-effect=\"non-scaling-stroke\" d=\"M1.768000e+01,1.656091e+01 L9.804988e+01,5.587929e+01 L1.473386e+02,7.048981e+01 L1.839269e+02,9.179369e+01 L2.135617e+02,9.879721e+01 L2.389345e+02,1.148011e+02 L2.613214e+02,1.212928e+02 L2.815843e+02,1.301297e+02 L3.002547e+02,1.341891e+02 L3.176798e+02,1.414829e+02 L3.340964e+02,1.474047e+02 L3.496716e+02,1.539529e+02 L3.645714e+02,1.578718e+02 L3.789094e+02,1.645866e+02 L3.927645e+02,1.676636e+02 L4.061928e+02,1.708766e+02 L4.192612e+02,1.757671e+02 L4.320140e+02,1.792154e+02 L4.445019e+02,1.836293e+02 L4.567564e+02,1.871264e+02 L4.688127e+02,1.889720e+02 L4.806910e+02,1.932835e+02 L4.924143e+02,1.952055e+02 L5.039938e+02,1.977585e+02 L5.154434e+02,1.992817e+02 L5.267777e+02,2.021479e+02 L5.380103e+02,2.051043e+02 L5.491530e+02,2.070003e+02 L5.602152e+02,2.074357e+02 L5.712041e+02,2.112232e+02 L5.821303e+02,2.120558e+02 L5.929999e+02,2.138403e+02 L6.038156e+02,2.156752e+02 L6.145861e+02,2.191067e+02 L6.253144e+02,2.204054e+02 L6.360033e+02,2.213220e+02 L6.466577e+02,2.231478e+02 L6.572800e+02,2.254563e+02 L6.678758e+02,2.263211e+02 L6.784469e+02,2.274853e+02 L6.889962e+02,2.308327e+02 L6.995246e+02,2.316394e+02 L7.100349e+02,2.327089e+02 L7.205283e+02,2.339311e+02 L7.310061e+02,2.363909e+02 L7.414703e+02,2.378744e+02 L7.519221e+02,2.395795e+02 L7.623623e+02,2.392785e+02 L7.727920e+02,2.420270e+02 L7.832123e+02,2.433272e+02 L7.936243e+02,2.445112e+02 L8.040282e+02,2.448856e+02 L8.144245e+02,2.467617e+02 L8.248145e+02,2.480237e+02 L8.351988e+02,2.492078e+02 L8.455774e+02,2.498082e+02 L8.559509e+02,2.511863e+02 L8.663200e+02,2.524529e+02 \"/></g><g stroke-width=\"2px\" transform=\"translate(70 330 )scale(1 -1 )\" fill=\"none\" stroke-linejoin=\"round\" stroke=\"hsl(152, 76%, 65%)\" marker-start=\"url(#square)\" marker-mid=\"url(#square)\" stroke-linecap=\"round\" marker-end=\"url(#square)\"><path vector-effect=\"non-scaling-stroke\" d=\"M1.768000e+01,5.200000e+00 L9.804988e+01,2.346513e+01 L1.473386e+02,3.115961e+01 L1.839269e+02,4.681543e+01 L2.135617e+02,7.751923e+01 L2.389345e+02,8.900907e+01 L2.613214e+02,8.321226e+01 L2.815843e+02,1.209137e+02 L3.002547e+02,1.196536e+02 L3.176798e+02,1.188678e+02 L3.340964e+02,1.293643e+02 L3.496716e+02,1.345829e+02 L3.645714e+02,1.298536e+02 L3.789094e+02,1.370588e+02 L3.927645e+02,1.389417e+02 L4.061928e+02,1.473626e+02 L4.192612e+02,1.450053e+02 L4.320140e+02,1.444568e+02 L4.445019e+02,1.535449e+02 L4.567564e+02,1.541972e+02 L4.688127e+02,1.575774e+02 L4.806910e+02,1.608242e+02 L4.924143e+02,1.692007e+02 L5.039938e+02,1.653312e+02 L5.154434e+02,1.697789e+02 L5.267777e+02,1.648123e+02 L5.380103e+02,1.752050e+02 L5.491530e+02,1.825734e+02 L5.602152e+02,1.745972e+02 L5.712041e+02,1.816838e+02 L5.821303e+02,1.837891e+02 L5.929999e+02,1.777847e+02 L6.038156e+02,1.871841e+02 L6.145861e+02,1.883998e+02 L6.253144e+02,1.864280e+02 L6.360033e+02,1.809574e+02 L6.466577e+02,1.949379e+02 L6.572800e+02,1.962426e+02 L6.678758e+02,1.929068e+02 L6.784469e+02,1.985998e+02 L6.889962e+02,2.000972e+02 L6.995246e+02,2.013426e+02 L7.100349e+02,1.977399e+02 L7.205283e+02,1.998304e+02 L7.310061e+02,2.040408e+02 L7.414703e+02,2.060275e+02 L7.519221e+02,2.099266e+02 L7.623623e+02,2.049748e+02 L7.727920e+02,2.138406e+02 L7.832123e+02,2.106827e+02 L7.936243e+02,2.132179e+02 L8.040282e+02,2.140778e+02 L8.144245e+02,2.134699e+02 L8.248145e+02,2.104603e+02 L8.351988e+02,2.130993e+02 L8.455774e+02,2.138257e+02 L8.559509e+02,2.136923e+02 L8.663200e+02,2.169836e+02 \"/></g><g marker-start=\"url(#square)\" stroke-linecap=\"round\" marker-end=\"url(#square)\" stroke-width=\"2px\" fill=\"none\" stroke-linejoin=\"round\" stroke=\"hsl(3, 64%, 65%)\" marker-mid=\"url(#square)\" transform=\"translate(70 330 )scale(1 -1 )\"><path d=\"M1.768000e+01,7.577192e+00 L9.804988e+01,3.708004e+01 L1.473386e+02,6.075730e+01 L1.839269e+02,7.776927e+01 L2.135617e+02,9.314059e+01 L2.389345e+02,1.079758e+02 L2.613214e+02,1.172985e+02 L2.815843e+02,1.253682e+02 L3.002547e+02,1.343708e+02 L3.176798e+02,1.354781e+02 L3.340964e+02,1.413954e+02 L3.496716e+02,1.458122e+02 L3.645714e+02,1.593335e+02 L3.789094e+02,1.622537e+02 L3.927645e+02,1.692787e+02 L4.061928e+02,1.721764e+02 L4.192612e+02,1.774449e+02 L4.320140e+02,1.821151e+02 L4.445019e+02,1.819309e+02 L4.567564e+02,1.859593e+02 L4.688127e+02,1.865131e+02 L4.806910e+02,1.943068e+02 L4.924143e+02,1.981972e+02 L5.039938e+02,1.961841e+02 L5.154434e+02,1.991754e+02 L5.267777e+02,2.039803e+02 L5.380103e+02,2.022884e+02 L5.491530e+02,2.047108e+02 L5.602152e+02,2.094529e+02 L5.712041e+02,2.086700e+02 L5.821303e+02,2.116480e+02 L5.929999e+02,2.159737e+02 L6.038156e+02,2.149779e+02 L6.145861e+02,2.177833e+02 L6.253144e+02,2.159194e+02 L6.360033e+02,2.220860e+02 L6.466577e+02,2.242944e+02 L6.572800e+02,2.283386e+02 L6.678758e+02,2.291807e+02 L6.784469e+02,2.263665e+02 L6.889962e+02,2.331781e+02 L6.995246e+02,2.307379e+02 L7.100349e+02,2.381918e+02 L7.205283e+02,2.342224e+02 L7.310061e+02,2.328189e+02 L7.414703e+02,2.305706e+02 L7.519221e+02,2.421526e+02 L7.623623e+02,2.348919e+02 L7.727920e+02,2.417696e+02 L7.832123e+02,2.410394e+02 L7.936243e+02,2.438249e+02 L8.040282e+02,2.484196e+02 L8.144245e+02,2.429251e+02 L8.248145e+02,2.504125e+02 L8.351988e+02,2.452077e+02 L8.455774e+02,2.516571e+02 L8.559509e+02,2.469999e+02 L8.663200e+02,2.548000e+02 \" vector-effect=\"non-scaling-stroke\"/></g><g transform=\"translate(70 330 )scale(1 -1 )\" fill=\"none\" stroke-linejoin=\"round\" stroke-linecap=\"round\" stroke=\"black\" stroke-width=\"2px\"><path vector-effect=\"non-scaling-stroke\" d=\"M1.768000e+01,0 L1.768000e+01,-6 M9.276472e+01,0 L9.276472e+01,-6 M1.366865e+02,0 L1.366865e+02,-6 M1.678494e+02,0 L1.678494e+02,-6 M1.920213e+02,0 L1.920213e+02,-6 M2.117712e+02,0 L2.117712e+02,-6 M2.284694e+02,0 L2.284694e+02,-6 M2.429341e+02,0 L2.429341e+02,-6 M2.556929e+02,0 L2.556929e+02,-6 M2.671060e+02,0 L2.671060e+02,-6 M2.774304e+02,0 L2.774304e+02,-6 M3.421907e+02,0 L3.421907e+02,-6 M3.861125e+02,0 L3.861125e+02,-6 M4.172755e+02,0 L4.172755e+02,-6 M4.414473e+02,0 L4.414473e+02,-6 M4.611972e+02,0 L4.611972e+02,-6 M4.778955e+02,0 L4.778955e+02,-6 M4.923602e+02,0 L4.923602e+02,-6 M5.051189e+02,0 L5.051189e+02,-6 M5.165321e+02,0 L5.165321e+02,-6 M5.916168e+02,0 L5.916168e+02,-6 M6.355385e+02,0 L6.355385e+02,-6 M6.667015e+02,0 L6.667015e+02,-6 M6.908734e+02,0 L6.908734e+02,-6 M7.106232e+02,0 L7.106232e+02,-6 M7.273215e+02,0 L7.273215e+02,-6 M7.417862e+02,0 L7.417862e+02,-6 M7.545450e+02,0 L7.545450e+02,-6 M7.659581e+02,0 L7.659581e+02,-6 M8.410428e+02,0 L8.410428e+02,-6 \"/></g><g stroke=\"black\" stroke-linejoin=\"round\" font-weight=\"normal\" fill=\"black\" text-anchor=\"middle\" stroke-linecap=\"round\" font-family=\"sans-serif\" dominant-baseline=\"hanging\" transform=\"translate(70 330 )scale(1 1 )\" font-size=\"12px\" font-style=\"normal\" stroke-width=\"2px\"><text dominant-baseline=\"hanging\" stroke=\"none\" vector-effect=\"non-scaling-stroke\" x=\"1.768000e+01\" y=\"10\">100</text><text stroke=\"none\" vector-effect=\"non-scaling-stroke\" x=\"9.276472e+01\" y=\"10\" dominant-baseline=\"hanging\">200</text><text y=\"10\" dominant-baseline=\"hanging\" stroke=\"none\" vector-effect=\"non-scaling-stroke\" x=\"1.366865e+02\">300</text><text vector-effect=\"non-scaling-stroke\" x=\"1.678494e+02\" y=\"10\" dominant-baseline=\"hanging\" stroke=\"none\">400</text><text y=\"10\" dominant-baseline=\"hanging\" stroke=\"none\" vector-effect=\"non-scaling-stroke\" x=\"1.920213e+02\">500</text><text stroke=\"none\" vector-effect=\"non-scaling-stroke\" x=\"2.117712e+02\" y=\"10\" dominant-baseline=\"hanging\">600</text><text stroke=\"none\" vector-effect=\"non-scaling-stroke\" x=\"2.284694e+02\" y=\"10\" dominant-baseline=\"hanging\">700</text><text x=\"2.429341e+02\" y=\"10\" dominant-baseline=\"hanging\" stroke=\"none\" vector-effect=\"non-scaling-stroke\">800</text><text x=\"2.556929e+02\" y=\"10\" dominant-baseline=\"hanging\" stroke=\"none\" vector-effect=\"non-scaling-stroke\">900</text><text dominant-baseline=\"hanging\" stroke=\"none\" vector-effect=\"non-scaling-stroke\" x=\"2.774304e+02\" y=\"10\">1100</text><text dominant-baseline=\"hanging\" stroke=\"none\" vector-effect=\"non-scaling-stroke\" x=\"3.421907e+02\" y=\"10\">2000</text><text vector-effect=\"non-scaling-stroke\" x=\"3.861125e+02\" y=\"10\" dominant-baseline=\"hanging\" stroke=\"none\">3000</text><text x=\"4.172755e+02\" y=\"10\" dominant-baseline=\"hanging\" stroke=\"none\" vector-effect=\"non-scaling-stroke\">4000</text><text stroke=\"none\" vector-effect=\"non-scaling-stroke\" x=\"4.414473e+02\" y=\"10\" dominant-baseline=\"hanging\">5000</text><text stroke=\"none\" vector-effect=\"non-scaling-stroke\" x=\"4.611972e+02\" y=\"10\" dominant-baseline=\"hanging\">6000</text><text stroke=\"none\" vector-effect=\"non-scaling-stroke\" x=\"4.778955e+02\" y=\"10\" dominant-baseline=\"hanging\">7000</text><text stroke=\"none\" vector-effect=\"non-scaling-stroke\" x=\"4.923602e+02\" y=\"10\" dominant-baseline=\"hanging\">8000</text><text stroke=\"none\" vector-effect=\"non-scaling-stroke\" x=\"5.051189e+02\" y=\"10\" dominant-baseline=\"hanging\">9000</text><text stroke=\"none\" vector-effect=\"non-scaling-stroke\" x=\"5.916168e+02\" y=\"10\" dominant-baseline=\"hanging\">20000</text><text x=\"6.355385e+02\" y=\"10\" dominant-baseline=\"hanging\" stroke=\"none\" vector-effect=\"non-scaling-stroke\">30000</text><text x=\"6.667015e+02\" y=\"10\" dominant-baseline=\"hanging\" stroke=\"none\" vector-effect=\"non-scaling-stroke\">40000</text><text stroke=\"none\" vector-effect=\"non-scaling-stroke\" x=\"6.908734e+02\" y=\"10\" dominant-baseline=\"hanging\">50000</text><text x=\"7.106232e+02\" y=\"10\" dominant-baseline=\"hanging\" stroke=\"none\" vector-effect=\"non-scaling-stroke\">60000</text><text stroke=\"none\" vector-effect=\"non-scaling-stroke\" x=\"7.273215e+02\" y=\"10\" dominant-baseline=\"hanging\">70000</text><text vector-effect=\"non-scaling-stroke\" x=\"7.417862e+02\" y=\"10\" dominant-baseline=\"hanging\" stroke=\"none\">80000</text><text stroke=\"none\" vector-effect=\"non-scaling-stroke\" x=\"7.545450e+02\" y=\"10\" dominant-baseline=\"hanging\">90000</text><text stroke=\"none\" vector-effect=\"non-scaling-stroke\" x=\"8.410428e+02\" y=\"10\" dominant-baseline=\"hanging\">200000</text></g><g font-family=\"sans-serif\" font-size=\"12px\" font-style=\"normal\" stroke=\"black\" stroke-width=\"2px\" stroke-linecap=\"round\" text-anchor=\"middle\" dominant-baseline=\"baseline\" fill=\"black\" stroke-linejoin=\"round\" transform=\"translate(70 330 )scale(1 1 )rotate(0 0 0 )\" font-weight=\"bold\"><text x=\"442\" y=\"-6\" dominant-baseline=\"baseline\" stroke=\"none\" vector-effect=\"non-scaling-stroke\">Steps</text></g><g font-style=\"normal\" font-weight=\"bold\" fill=\"black\" stroke-linecap=\"round\" font-family=\"sans-serif\" text-anchor=\"middle\" stroke=\"black\" stroke-linejoin=\"round\" transform=\"translate(70 330 )scale(1 -1 )\" font-size=\"12px\" stroke-width=\"2px\" dominant-baseline=\"baseline\"><path vector-effect=\"non-scaling-stroke\" d=\"M0,7.050524e+01 L-6,7.050524e+01 M0,1.666922e+02 L-6,1.666922e+02 \"/></g><g fill=\"black\" stroke-linecap=\"round\" font-family=\"sans-serif\" dominant-baseline=\"middle\" transform=\"translate(70 330 )scale(1 1 )\" font-size=\"12px\" font-weight=\"normal\" stroke-width=\"2px\" text-anchor=\"end\" stroke=\"black\" stroke-linejoin=\"round\" font-style=\"normal\"><text stroke=\"none\" vector-effect=\"non-scaling-stroke\" x=\"-10\" y=\"-7.050524e+01\" dominant-baseline=\"middle\">0.100</text><text stroke=\"none\" vector-effect=\"non-scaling-stroke\" x=\"-10\" y=\"-1.666922e+02\" dominant-baseline=\"middle\">0.200</text></g><g transform=\"translate(70 330 )scale(1 1 )rotate(-90 0 0 )\" font-size=\"12px\" font-style=\"normal\" stroke=\"black\" stroke-linecap=\"round\" text-anchor=\"middle\" fill=\"black\" stroke-linejoin=\"round\" font-weight=\"bold\" stroke-width=\"2px\" font-family=\"sans-serif\" dominant-baseline=\"hanging\"><text y=\"6\" dominant-baseline=\"hanging\" stroke=\"none\" vector-effect=\"non-scaling-stroke\" x=\"130\">accuracy</text></g><g transform=\"translate(70 330 )scale(1 -1 )\" font-weight=\"bold\" text-anchor=\"middle\" dominant-baseline=\"hanging\" stroke-width=\"0.5px\" font-size=\"12px\" font-style=\"normal\" fill=\"black\" stroke-linejoin=\"round\" stroke-linecap=\"round\" font-family=\"sans-serif\" stroke=\"gray\"><path vector-effect=\"non-scaling-stroke\" d=\"M0,7.050524e+01 L884,7.050524e+01 M0,1.666922e+02 L884,1.666922e+02 \"/></g><g stroke-linecap=\"round\" font-weight=\"bold\" fill=\"none\" stroke-linejoin=\"round\" font-size=\"12px\" font-style=\"normal\" dominant-baseline=\"hanging\" stroke=\"black\" stroke-width=\"2px\" font-family=\"sans-serif\" text-anchor=\"middle\"><rect x=\"70\" y=\"70\" width=\"884\" height=\"260\" vector-effect=\"non-scaling-stroke\"/><g font-size=\"18px\" dominant-baseline=\"middle\" fill=\"black\"><text stroke=\"none\" vector-effect=\"non-scaling-stroke\" x=\"512\" y=\"35\" dominant-baseline=\"middle\">accuracy metrics</text></g><g font-weight=\"normal\" fill=\"hsl(90, 47%, 65%)\" stroke-linejoin=\"round\" stroke-linecap=\"round\" font-family=\"sans-serif\" font-style=\"normal\" stroke-width=\"1px\" font-size=\"12px\" text-anchor=\"start\" dominant-baseline=\"hanging\" stroke=\"hsl(90, 47%, 65%)\"><rect height=\"12\" vector-effect=\"non-scaling-stroke\" x=\"76\" y=\"366\" width=\"12\"/><g fill=\"black\" stroke=\"black\"><text vector-effect=\"non-scaling-stroke\" x=\"92\" y=\"366\" dominant-baseline=\"hanging\" stroke=\"none\">Eval on seeds_test: Mean Accuracy</text></g><g dominant-baseline=\"hanging\" fill=\"hsl(301, 88%, 65%)\" stroke-linejoin=\"round\" font-size=\"12px\" stroke=\"hsl(301, 88%, 65%)\" stroke-linecap=\"round\" text-anchor=\"start\" font-style=\"normal\" font-weight=\"normal\" stroke-width=\"1px\" font-family=\"sans-serif\"><rect vector-effect=\"non-scaling-stroke\" x=\"76\" y=\"384\" width=\"12\" height=\"12\"/><g fill=\"black\" stroke=\"black\"><text vector-effect=\"non-scaling-stroke\" x=\"92\" y=\"384\" dominant-baseline=\"hanging\" stroke=\"none\">Eval on seeds_train: Mean Accuracy</text></g><g stroke=\"hsl(152, 76%, 65%)\" stroke-linecap=\"round\" text-anchor=\"start\" stroke-linejoin=\"round\" font-size=\"12px\" font-style=\"normal\" font-weight=\"normal\" stroke-width=\"1px\" font-family=\"sans-serif\" dominant-baseline=\"hanging\" fill=\"hsl(152, 76%, 65%)\"><rect height=\"12\" vector-effect=\"non-scaling-stroke\" x=\"76\" y=\"402\" width=\"12\"/><g fill=\"black\" stroke=\"black\"><text stroke=\"none\" vector-effect=\"non-scaling-stroke\" x=\"92\" y=\"402\" dominant-baseline=\"hanging\">Eval on seeds_valid: Mean Accuracy</text></g><g font-weight=\"normal\" text-anchor=\"start\" dominant-baseline=\"hanging\" fill=\"hsl(3, 64%, 65%)\" stroke-linejoin=\"round\" font-size=\"12px\" font-style=\"normal\" stroke=\"hsl(3, 64%, 65%)\" stroke-width=\"1px\" stroke-linecap=\"round\" font-family=\"sans-serif\"><rect y=\"420\" width=\"12\" height=\"12\" vector-effect=\"non-scaling-stroke\" x=\"76\"/><g stroke=\"black\" fill=\"black\"><text y=\"420\" dominant-baseline=\"hanging\" stroke=\"none\" vector-effect=\"non-scaling-stroke\" x=\"92\">Train: Moving Average Accuracy</text></g></g></g></g></g></g></svg>\n",
       "<svg xmlns=\"http://www.w3.org/2000/svg\" width=\"1024\" height=\"454\" viewbox=\"0 0 1024 400\" style=\"background-color:#f8f8f8\" preserveAspectRatio=\"xMidYMid meet\"><defs><marker refX=\"5\" refY=\"5\" markerUnits=\"userSpaceOnUse\" markerWidth=\"2%\" markerHeight=\"2%\" id=\"circle\" viewBox=\"0 0 10 10 \"><circle cx=\"5\" cy=\"5\" r=\"3\" fill=\"none\" stroke=\"black\"/></marker><marker markerUnits=\"userSpaceOnUse\" markerWidth=\"2%\" markerHeight=\"2%\" id=\"filled-circle\" viewBox=\"0 0 10 10 \" refX=\"5\" refY=\"5\"><circle cx=\"5\" cy=\"5\" r=\"3\" fill=\"black\" stroke=\"none\"/></marker><marker viewBox=\"0 0 10 10 \" refX=\"5\" refY=\"5\" markerUnits=\"userSpaceOnUse\" markerWidth=\"2%\" markerHeight=\"2%\" id=\"square\"><rect height=\"6\" fill=\"none\" stroke=\"black\" x=\"2\" y=\"2\" width=\"6\"/></marker><marker markerHeight=\"2%\" id=\"filled-square\" viewBox=\"0 0 10 10 \" refX=\"5\" refY=\"5\" markerUnits=\"userSpaceOnUse\" markerWidth=\"2%\"><rect x=\"2\" y=\"2\" width=\"6\" height=\"6\" fill=\"black\" stroke=\"none\"/></marker></defs><g stroke-linecap=\"round\" fill=\"none\" marker-mid=\"url(#square)\" marker-end=\"url(#square)\" stroke=\"hsl(90, 47%, 65%)\" marker-start=\"url(#square)\" transform=\"translate(70 330 )scale(1 -1 )\" stroke-width=\"2px\" stroke-linejoin=\"round\"><path vector-effect=\"non-scaling-stroke\" d=\"M1.768000e+01,2.442932e+02 L9.804988e+01,2.200459e+02 L1.473386e+02,2.078914e+02 L1.839269e+02,1.893424e+02 L2.135617e+02,1.706651e+02 L2.389345e+02,1.557759e+02 L2.613214e+02,1.427674e+02 L2.815843e+02,1.275131e+02 L3.002547e+02,1.188754e+02 L3.176798e+02,1.148701e+02 L3.340964e+02,1.077157e+02 L3.496716e+02,1.015680e+02 L3.645714e+02,9.718687e+01 L3.789094e+02,9.805467e+01 L3.927645e+02,9.381952e+01 L4.061928e+02,8.865204e+01 L4.192612e+02,8.613098e+01 L4.320140e+02,9.046861e+01 L4.445019e+02,8.309480e+01 L4.567564e+02,8.298157e+01 L4.688127e+02,8.121042e+01 L4.806910e+02,7.656560e+01 L4.924143e+02,7.324583e+01 L5.039938e+02,7.489843e+01 L5.154434e+02,7.045497e+01 L5.267777e+02,7.272002e+01 L5.380103e+02,6.541158e+01 L5.491530e+02,6.290774e+01 L5.602152e+02,6.561634e+01 L5.712041e+02,6.385429e+01 L5.821303e+02,5.870945e+01 L5.929999e+02,5.823046e+01 L6.038156e+02,5.843903e+01 L6.145861e+02,5.548046e+01 L6.253144e+02,5.796386e+01 L6.360033e+02,5.612628e+01 L6.466577e+02,5.200821e+01 L6.572800e+02,5.288652e+01 L6.678758e+02,5.007466e+01 L6.784469e+02,4.929550e+01 L6.889962e+02,4.772342e+01 L6.995246e+02,4.860413e+01 L7.100349e+02,4.790712e+01 L7.205283e+02,4.579300e+01 L7.310061e+02,4.518391e+01 L7.414703e+02,4.380652e+01 L7.519221e+02,4.214895e+01 L7.623623e+02,4.520376e+01 L7.727920e+02,4.232082e+01 L7.832123e+02,4.170355e+01 L7.936243e+02,4.149295e+01 L8.040282e+02,3.856560e+01 L8.144245e+02,4.024307e+01 L8.248145e+02,3.985417e+01 L8.351988e+02,4.182180e+01 L8.455774e+02,4.147405e+01 L8.559509e+02,4.007193e+01 L8.663200e+02,3.841859e+01 \"/></g><g marker-mid=\"url(#square)\" marker-end=\"url(#square)\" stroke-width=\"2px\" fill=\"none\" stroke=\"hsl(301, 88%, 65%)\" stroke-linejoin=\"round\" stroke-linecap=\"round\" marker-start=\"url(#square)\" transform=\"translate(70 330 )scale(1 -1 )\"><path d=\"M1.768000e+01,2.496220e+02 L9.804988e+01,2.274816e+02 L1.473386e+02,2.124630e+02 L1.839269e+02,1.950432e+02 L2.135617e+02,1.782652e+02 L2.389345e+02,1.613873e+02 L2.613214e+02,1.458742e+02 L2.815843e+02,1.318495e+02 L3.002547e+02,1.194756e+02 L3.176798e+02,1.092625e+02 L3.340964e+02,1.003132e+02 L3.496716e+02,9.323603e+01 L3.645714e+02,8.676958e+01 L3.789094e+02,8.100717e+01 L3.927645e+02,7.617345e+01 L4.061928e+02,7.165049e+01 L4.192612e+02,6.754487e+01 L4.320140e+02,6.423010e+01 L4.445019e+02,6.022704e+01 L4.567564e+02,5.724230e+01 L4.688127e+02,5.470571e+01 L4.806910e+02,5.121927e+01 L4.924143e+02,4.898742e+01 L5.039938e+02,4.635354e+01 L5.154434e+02,4.420112e+01 L5.267777e+02,4.188853e+01 L5.380103e+02,3.945590e+01 L5.491530e+02,3.751452e+01 L5.602152e+02,3.593193e+01 L5.712041e+02,3.404123e+01 L5.821303e+02,3.232976e+01 L5.929999e+02,3.061386e+01 L6.038156e+02,2.896411e+01 L6.145861e+02,2.720147e+01 L6.253144e+02,2.579540e+01 L6.360033e+02,2.434086e+01 L6.466577e+02,2.291260e+01 L6.572800e+02,2.159111e+01 L6.678758e+02,2.028938e+01 L6.784469e+02,1.927673e+01 L6.889962e+02,1.788849e+01 L6.995246e+02,1.674057e+01 L7.100349e+02,1.587922e+01 L7.205283e+02,1.506558e+01 L7.310061e+02,1.394224e+01 L7.414703e+02,1.297487e+01 L7.519221e+02,1.199853e+01 L7.623623e+02,1.135269e+01 L7.727920e+02,1.059395e+01 L7.832123e+02,9.688637e+00 L7.936243e+02,9.049494e+00 L8.040282e+02,8.417777e+00 L8.144245e+02,7.603139e+00 L8.248145e+02,6.968776e+00 L8.351988e+02,6.807727e+00 L8.455774e+02,6.015637e+00 L8.559509e+02,5.314224e+00 L8.663200e+02,5.200000e+00 \" vector-effect=\"non-scaling-stroke\"/></g><g marker-start=\"url(#square)\" fill=\"none\" stroke=\"hsl(152, 76%, 65%)\" marker-mid=\"url(#square)\" marker-end=\"url(#square)\" stroke-width=\"2px\" stroke-linecap=\"round\" transform=\"translate(70 330 )scale(1 -1 )\" stroke-linejoin=\"round\"><path vector-effect=\"non-scaling-stroke\" d=\"M1.768000e+01,2.548000e+02 L9.804988e+01,2.327090e+02 L1.473386e+02,2.215176e+02 L1.839269e+02,2.040529e+02 L2.135617e+02,1.852780e+02 L2.389345e+02,1.684376e+02 L2.613214e+02,1.545804e+02 L2.815843e+02,1.376951e+02 L3.002547e+02,1.266179e+02 L3.176798e+02,1.209286e+02 L3.340964e+02,1.122809e+02 L3.496716e+02,1.042111e+02 L3.645714e+02,9.945812e+01 L3.789094e+02,9.831682e+01 L3.927645e+02,9.260223e+01 L4.061928e+02,8.716561e+01 L4.192612e+02,8.394214e+01 L4.320140e+02,8.530983e+01 L4.445019e+02,7.954577e+01 L4.567564e+02,7.796248e+01 L4.688127e+02,7.534818e+01 L4.806910e+02,7.163518e+01 L4.924143e+02,6.775164e+01 L5.039938e+02,6.859079e+01 L5.154434e+02,6.340971e+01 L5.267777e+02,6.574140e+01 L5.380103e+02,5.927293e+01 L5.491530e+02,5.642050e+01 L5.602152e+02,5.788703e+01 L5.712041e+02,5.572333e+01 L5.821303e+02,5.174287e+01 L5.929999e+02,5.208352e+01 L6.038156e+02,5.060608e+01 L6.145861e+02,4.678680e+01 L6.253144e+02,4.847565e+01 L6.360033e+02,4.764567e+01 L6.466577e+02,4.317961e+01 L6.572800e+02,4.215337e+01 L6.678758e+02,4.223182e+01 L6.784469e+02,4.037769e+01 L6.889962e+02,3.893706e+01 L6.995246e+02,3.909956e+01 L7.100349e+02,3.930951e+01 L7.205283e+02,3.627539e+01 L7.310061e+02,3.632213e+01 L7.414703e+02,3.382518e+01 L7.519221e+02,3.346169e+01 L7.623623e+02,3.435950e+01 L7.727920e+02,3.241393e+01 L7.832123e+02,3.234407e+01 L7.936243e+02,3.111418e+01 L8.040282e+02,3.031039e+01 L8.144245e+02,3.175316e+01 L8.248145e+02,3.060619e+01 L8.351988e+02,3.123245e+01 L8.455774e+02,3.134913e+01 L8.559509e+02,3.009126e+01 L8.663200e+02,2.913809e+01 \"/></g><g stroke=\"black\" transform=\"translate(70 330 )scale(1 -1 )\" stroke-width=\"2px\" stroke-linecap=\"round\" stroke-linejoin=\"round\" fill=\"none\"><path vector-effect=\"non-scaling-stroke\" d=\"M1.768000e+01,0 L1.768000e+01,-6 M9.276472e+01,0 L9.276472e+01,-6 M1.366865e+02,0 L1.366865e+02,-6 M1.678494e+02,0 L1.678494e+02,-6 M1.920213e+02,0 L1.920213e+02,-6 M2.117712e+02,0 L2.117712e+02,-6 M2.284694e+02,0 L2.284694e+02,-6 M2.429341e+02,0 L2.429341e+02,-6 M2.556929e+02,0 L2.556929e+02,-6 M2.671060e+02,0 L2.671060e+02,-6 M2.774304e+02,0 L2.774304e+02,-6 M3.421907e+02,0 L3.421907e+02,-6 M3.861125e+02,0 L3.861125e+02,-6 M4.172755e+02,0 L4.172755e+02,-6 M4.414473e+02,0 L4.414473e+02,-6 M4.611972e+02,0 L4.611972e+02,-6 M4.778955e+02,0 L4.778955e+02,-6 M4.923602e+02,0 L4.923602e+02,-6 M5.051189e+02,0 L5.051189e+02,-6 M5.165321e+02,0 L5.165321e+02,-6 M5.916168e+02,0 L5.916168e+02,-6 M6.355385e+02,0 L6.355385e+02,-6 M6.667015e+02,0 L6.667015e+02,-6 M6.908734e+02,0 L6.908734e+02,-6 M7.106232e+02,0 L7.106232e+02,-6 M7.273215e+02,0 L7.273215e+02,-6 M7.417862e+02,0 L7.417862e+02,-6 M7.545450e+02,0 L7.545450e+02,-6 M7.659581e+02,0 L7.659581e+02,-6 M8.410428e+02,0 L8.410428e+02,-6 \"/></g><g text-anchor=\"middle\" transform=\"translate(70 330 )scale(1 1 )\" font-family=\"sans-serif\" font-size=\"12px\" stroke-linejoin=\"round\" font-weight=\"normal\" fill=\"black\" stroke=\"black\" dominant-baseline=\"hanging\" stroke-width=\"2px\" stroke-linecap=\"round\" font-style=\"normal\"><text dominant-baseline=\"hanging\" stroke=\"none\" vector-effect=\"non-scaling-stroke\" x=\"1.768000e+01\" y=\"10\">100</text><text x=\"9.276472e+01\" y=\"10\" dominant-baseline=\"hanging\" stroke=\"none\" vector-effect=\"non-scaling-stroke\">200</text><text vector-effect=\"non-scaling-stroke\" x=\"1.366865e+02\" y=\"10\" dominant-baseline=\"hanging\" stroke=\"none\">300</text><text vector-effect=\"non-scaling-stroke\" x=\"1.678494e+02\" y=\"10\" dominant-baseline=\"hanging\" stroke=\"none\">400</text><text stroke=\"none\" vector-effect=\"non-scaling-stroke\" x=\"1.920213e+02\" y=\"10\" dominant-baseline=\"hanging\">500</text><text stroke=\"none\" vector-effect=\"non-scaling-stroke\" x=\"2.117712e+02\" y=\"10\" dominant-baseline=\"hanging\">600</text><text y=\"10\" dominant-baseline=\"hanging\" stroke=\"none\" vector-effect=\"non-scaling-stroke\" x=\"2.284694e+02\">700</text><text y=\"10\" dominant-baseline=\"hanging\" stroke=\"none\" vector-effect=\"non-scaling-stroke\" x=\"2.429341e+02\">800</text><text stroke=\"none\" vector-effect=\"non-scaling-stroke\" x=\"2.556929e+02\" y=\"10\" dominant-baseline=\"hanging\">900</text><text vector-effect=\"non-scaling-stroke\" x=\"2.774304e+02\" y=\"10\" dominant-baseline=\"hanging\" stroke=\"none\">1100</text><text dominant-baseline=\"hanging\" stroke=\"none\" vector-effect=\"non-scaling-stroke\" x=\"3.421907e+02\" y=\"10\">2000</text><text stroke=\"none\" vector-effect=\"non-scaling-stroke\" x=\"3.861125e+02\" y=\"10\" dominant-baseline=\"hanging\">3000</text><text stroke=\"none\" vector-effect=\"non-scaling-stroke\" x=\"4.172755e+02\" y=\"10\" dominant-baseline=\"hanging\">4000</text><text y=\"10\" dominant-baseline=\"hanging\" stroke=\"none\" vector-effect=\"non-scaling-stroke\" x=\"4.414473e+02\">5000</text><text vector-effect=\"non-scaling-stroke\" x=\"4.611972e+02\" y=\"10\" dominant-baseline=\"hanging\" stroke=\"none\">6000</text><text dominant-baseline=\"hanging\" stroke=\"none\" vector-effect=\"non-scaling-stroke\" x=\"4.778955e+02\" y=\"10\">7000</text><text stroke=\"none\" vector-effect=\"non-scaling-stroke\" x=\"4.923602e+02\" y=\"10\" dominant-baseline=\"hanging\">8000</text><text dominant-baseline=\"hanging\" stroke=\"none\" vector-effect=\"non-scaling-stroke\" x=\"5.051189e+02\" y=\"10\">9000</text><text dominant-baseline=\"hanging\" stroke=\"none\" vector-effect=\"non-scaling-stroke\" x=\"5.916168e+02\" y=\"10\">20000</text><text y=\"10\" dominant-baseline=\"hanging\" stroke=\"none\" vector-effect=\"non-scaling-stroke\" x=\"6.355385e+02\">30000</text><text x=\"6.667015e+02\" y=\"10\" dominant-baseline=\"hanging\" stroke=\"none\" vector-effect=\"non-scaling-stroke\">40000</text><text stroke=\"none\" vector-effect=\"non-scaling-stroke\" x=\"6.908734e+02\" y=\"10\" dominant-baseline=\"hanging\">50000</text><text vector-effect=\"non-scaling-stroke\" x=\"7.106232e+02\" y=\"10\" dominant-baseline=\"hanging\" stroke=\"none\">60000</text><text vector-effect=\"non-scaling-stroke\" x=\"7.273215e+02\" y=\"10\" dominant-baseline=\"hanging\" stroke=\"none\">70000</text><text vector-effect=\"non-scaling-stroke\" x=\"7.417862e+02\" y=\"10\" dominant-baseline=\"hanging\" stroke=\"none\">80000</text><text vector-effect=\"non-scaling-stroke\" x=\"7.545450e+02\" y=\"10\" dominant-baseline=\"hanging\" stroke=\"none\">90000</text><text dominant-baseline=\"hanging\" stroke=\"none\" vector-effect=\"non-scaling-stroke\" x=\"8.410428e+02\" y=\"10\">200000</text></g><g stroke-linecap=\"round\" font-family=\"sans-serif\" font-weight=\"bold\" text-anchor=\"middle\" stroke=\"black\" stroke-linejoin=\"round\" font-style=\"normal\" font-size=\"12px\" dominant-baseline=\"baseline\" stroke-width=\"2px\" transform=\"translate(70 330 )scale(1 1 )rotate(0 0 0 )\" fill=\"black\"><text x=\"442\" y=\"-6\" dominant-baseline=\"baseline\" stroke=\"none\" vector-effect=\"non-scaling-stroke\">Steps</text></g><g fill=\"black\" stroke=\"black\" font-style=\"normal\" font-size=\"12px\" stroke-width=\"2px\" font-family=\"sans-serif\" font-weight=\"bold\" text-anchor=\"middle\" stroke-linejoin=\"round\" dominant-baseline=\"baseline\" stroke-linecap=\"round\" transform=\"translate(70 330 )scale(1 -1 )\"><path vector-effect=\"non-scaling-stroke\" d=\"M0,6.353477e+00 L-6,6.353477e+00 M0,1.196139e+02 L-6,1.196139e+02 M0,2.328743e+02 L-6,2.328743e+02 \"/></g><g font-size=\"12px\" stroke-linecap=\"round\" text-anchor=\"end\" stroke-linejoin=\"round\" font-style=\"normal\" font-weight=\"normal\" fill=\"black\" stroke=\"black\" font-family=\"sans-serif\" dominant-baseline=\"middle\" stroke-width=\"2px\" transform=\"translate(70 330 )scale(1 1 )\"><text vector-effect=\"non-scaling-stroke\" x=\"-10\" y=\"-6.353477e+00\" dominant-baseline=\"middle\" stroke=\"none\">3.000</text><text vector-effect=\"non-scaling-stroke\" x=\"-10\" y=\"-1.196139e+02\" dominant-baseline=\"middle\" stroke=\"none\">4.000</text><text dominant-baseline=\"middle\" stroke=\"none\" vector-effect=\"non-scaling-stroke\" x=\"-10\" y=\"-2.328743e+02\">5.000</text></g><g font-style=\"normal\" font-weight=\"bold\" text-anchor=\"middle\" stroke-linecap=\"round\" transform=\"translate(70 330 )scale(1 1 )rotate(-90 0 0 )\" font-size=\"12px\" fill=\"black\" stroke-linejoin=\"round\" stroke-width=\"2px\" font-family=\"sans-serif\" dominant-baseline=\"hanging\" stroke=\"black\"><text vector-effect=\"non-scaling-stroke\" x=\"130\" y=\"6\" dominant-baseline=\"hanging\" stroke=\"none\">eval-loss</text></g><g stroke-width=\"0.5px\" stroke-linecap=\"round\" dominant-baseline=\"hanging\" font-style=\"normal\" font-weight=\"bold\" text-anchor=\"middle\" transform=\"translate(70 330 )scale(1 -1 )\" font-family=\"sans-serif\" fill=\"black\" stroke=\"gray\" stroke-linejoin=\"round\" font-size=\"12px\"><path vector-effect=\"non-scaling-stroke\" d=\"M0,6.353477e+00 L884,6.353477e+00 M0,1.196139e+02 L884,1.196139e+02 M0,2.328743e+02 L884,2.328743e+02 \"/></g><g font-family=\"sans-serif\" dominant-baseline=\"hanging\" stroke-linecap=\"round\" fill=\"none\" font-weight=\"bold\" text-anchor=\"middle\" stroke=\"black\" font-size=\"12px\" stroke-width=\"2px\" stroke-linejoin=\"round\" font-style=\"normal\"><rect vector-effect=\"non-scaling-stroke\" x=\"70\" y=\"70\" width=\"884\" height=\"260\"/><g font-size=\"18px\" dominant-baseline=\"middle\" fill=\"black\"><text x=\"512\" y=\"35\" dominant-baseline=\"middle\" stroke=\"none\" vector-effect=\"non-scaling-stroke\">eval-loss metrics</text></g><g stroke-linecap=\"round\" font-weight=\"normal\" text-anchor=\"start\" stroke=\"hsl(90, 47%, 65%)\" font-family=\"sans-serif\" dominant-baseline=\"hanging\" stroke-width=\"1px\" font-style=\"normal\" fill=\"hsl(90, 47%, 65%)\" stroke-linejoin=\"round\" font-size=\"12px\"><rect x=\"76\" y=\"366\" width=\"12\" height=\"12\" vector-effect=\"non-scaling-stroke\"/><g fill=\"black\" stroke=\"black\"><text vector-effect=\"non-scaling-stroke\" x=\"92\" y=\"366\" dominant-baseline=\"hanging\" stroke=\"none\">Eval on seeds_test: Mean Loss</text></g><g text-anchor=\"start\" stroke-width=\"1px\" stroke-linecap=\"round\" dominant-baseline=\"hanging\" fill=\"hsl(301, 88%, 65%)\" stroke=\"hsl(301, 88%, 65%)\" stroke-linejoin=\"round\" font-style=\"normal\" font-weight=\"normal\" font-family=\"sans-serif\" font-size=\"12px\"><rect height=\"12\" vector-effect=\"non-scaling-stroke\" x=\"76\" y=\"384\" width=\"12\"/><g fill=\"black\" stroke=\"black\"><text stroke=\"none\" vector-effect=\"non-scaling-stroke\" x=\"92\" y=\"384\" dominant-baseline=\"hanging\">Eval on seeds_train: Mean Loss</text></g><g stroke=\"hsl(152, 76%, 65%)\" font-weight=\"normal\" font-family=\"sans-serif\" font-size=\"12px\" dominant-baseline=\"hanging\" stroke-linejoin=\"round\" font-style=\"normal\" text-anchor=\"start\" stroke-width=\"1px\" stroke-linecap=\"round\" fill=\"hsl(152, 76%, 65%)\"><rect width=\"12\" height=\"12\" vector-effect=\"non-scaling-stroke\" x=\"76\" y=\"402\"/><g fill=\"black\" stroke=\"black\"><text vector-effect=\"non-scaling-stroke\" x=\"92\" y=\"402\" dominant-baseline=\"hanging\" stroke=\"none\">Eval on seeds_valid: Mean Loss</text></g></g></g></g></g></svg>\n",
       "<svg viewbox=\"0 0 1024 400\" style=\"background-color:#f8f8f8\" preserveAspectRatio=\"xMidYMid meet\" xmlns=\"http://www.w3.org/2000/svg\" width=\"1024\" height=\"418\"><defs><marker id=\"circle\" viewBox=\"0 0 10 10 \" refX=\"5\" refY=\"5\" markerUnits=\"userSpaceOnUse\" markerWidth=\"2%\" markerHeight=\"2%\"><circle cx=\"5\" cy=\"5\" r=\"3\" fill=\"none\" stroke=\"black\"/></marker><marker markerHeight=\"2%\" id=\"filled-circle\" viewBox=\"0 0 10 10 \" refX=\"5\" refY=\"5\" markerUnits=\"userSpaceOnUse\" markerWidth=\"2%\"><circle stroke=\"none\" cx=\"5\" cy=\"5\" r=\"3\" fill=\"black\"/></marker><marker refY=\"5\" markerUnits=\"userSpaceOnUse\" markerWidth=\"2%\" markerHeight=\"2%\" id=\"square\" viewBox=\"0 0 10 10 \" refX=\"5\"><rect fill=\"none\" stroke=\"black\" x=\"2\" y=\"2\" width=\"6\" height=\"6\"/></marker><marker refX=\"5\" refY=\"5\" markerUnits=\"userSpaceOnUse\" markerWidth=\"2%\" markerHeight=\"2%\" id=\"filled-square\" viewBox=\"0 0 10 10 \"><rect x=\"2\" y=\"2\" width=\"6\" height=\"6\" fill=\"black\" stroke=\"none\"/></marker></defs><g fill=\"none\" marker-mid=\"url(#square)\" marker-end=\"url(#square)\" transform=\"translate(70 330 )scale(1 -1 )\" stroke=\"hsl(90, 47%, 65%)\" marker-start=\"url(#square)\" stroke-width=\"2px\" stroke-linecap=\"round\" stroke-linejoin=\"round\"><path vector-effect=\"non-scaling-stroke\" d=\"M1.768000e+01,2.548000e+02 L9.804988e+01,2.179280e+02 L1.473386e+02,1.956522e+02 L1.839269e+02,1.780250e+02 L2.135617e+02,1.627192e+02 L2.389345e+02,1.467595e+02 L2.613214e+02,1.327551e+02 L2.815843e+02,1.198300e+02 L3.002547e+02,1.083464e+02 L3.176798e+02,9.881373e+01 L3.340964e+02,9.133251e+01 L3.496716e+02,8.430783e+01 L3.645714e+02,7.615776e+01 L3.789094e+02,7.125093e+01 L3.927645e+02,6.632065e+01 L4.061928e+02,6.205448e+01 L4.192612e+02,5.764977e+01 L4.320140e+02,5.576186e+01 L4.445019e+02,5.281451e+01 L4.567564e+02,4.968842e+01 L4.688127e+02,4.939152e+01 L4.806910e+02,4.528077e+01 L4.924143e+02,4.226724e+01 L5.039938e+02,4.040091e+01 L5.154434e+02,3.836704e+01 L5.267777e+02,3.717110e+01 L5.380103e+02,3.706891e+01 L5.491530e+02,3.415523e+01 L5.602152e+02,3.140218e+01 L5.712041e+02,3.104257e+01 L5.821303e+02,2.893454e+01 L5.929999e+02,2.600867e+01 L6.038156e+02,2.652446e+01 L6.145861e+02,2.301399e+01 L6.253144e+02,2.485007e+01 L6.360033e+02,2.097907e+01 L6.466577e+02,2.084121e+01 L6.572800e+02,2.004491e+01 L6.678758e+02,1.736983e+01 L6.784469e+02,1.830468e+01 L6.889962e+02,1.592906e+01 L6.995246e+02,1.554562e+01 L7.100349e+02,1.309978e+01 L7.205283e+02,1.490457e+01 L7.310061e+02,1.541832e+01 L7.414703e+02,1.465082e+01 L7.519221e+02,1.121727e+01 L7.623623e+02,1.210300e+01 L7.727920e+02,1.134843e+01 L7.832123e+02,1.026376e+01 L7.936243e+02,9.068980e+00 L8.040282e+02,7.413961e+00 L8.144245e+02,7.128419e+00 L8.248145e+02,6.724781e+00 L8.351988e+02,7.947264e+00 L8.455774e+02,5.706699e+00 L8.559509e+02,7.578056e+00 L8.663200e+02,5.200000e+00 \"/></g><g fill=\"none\" stroke-linecap=\"round\" stroke-linejoin=\"round\" transform=\"translate(70 330 )scale(1 -1 )\" stroke=\"black\" stroke-width=\"2px\"><path vector-effect=\"non-scaling-stroke\" d=\"M1.768000e+01,0 L1.768000e+01,-6 M9.276472e+01,0 L9.276472e+01,-6 M1.366865e+02,0 L1.366865e+02,-6 M1.678494e+02,0 L1.678494e+02,-6 M1.920213e+02,0 L1.920213e+02,-6 M2.117712e+02,0 L2.117712e+02,-6 M2.284694e+02,0 L2.284694e+02,-6 M2.429341e+02,0 L2.429341e+02,-6 M2.556929e+02,0 L2.556929e+02,-6 M2.671060e+02,0 L2.671060e+02,-6 M2.774304e+02,0 L2.774304e+02,-6 M3.421907e+02,0 L3.421907e+02,-6 M3.861125e+02,0 L3.861125e+02,-6 M4.172755e+02,0 L4.172755e+02,-6 M4.414473e+02,0 L4.414473e+02,-6 M4.611972e+02,0 L4.611972e+02,-6 M4.778955e+02,0 L4.778955e+02,-6 M4.923602e+02,0 L4.923602e+02,-6 M5.051189e+02,0 L5.051189e+02,-6 M5.165321e+02,0 L5.165321e+02,-6 M5.916168e+02,0 L5.916168e+02,-6 M6.355385e+02,0 L6.355385e+02,-6 M6.667015e+02,0 L6.667015e+02,-6 M6.908734e+02,0 L6.908734e+02,-6 M7.106232e+02,0 L7.106232e+02,-6 M7.273215e+02,0 L7.273215e+02,-6 M7.417862e+02,0 L7.417862e+02,-6 M7.545450e+02,0 L7.545450e+02,-6 M7.659581e+02,0 L7.659581e+02,-6 M8.410428e+02,0 L8.410428e+02,-6 \"/></g><g font-size=\"12px\" stroke=\"black\" stroke-linecap=\"round\" fill=\"black\" font-family=\"sans-serif\" font-weight=\"normal\" font-style=\"normal\" dominant-baseline=\"hanging\" stroke-width=\"2px\" stroke-linejoin=\"round\" transform=\"translate(70 330 )scale(1 1 )\" text-anchor=\"middle\"><text stroke=\"none\" vector-effect=\"non-scaling-stroke\" x=\"1.768000e+01\" y=\"10\" dominant-baseline=\"hanging\">100</text><text vector-effect=\"non-scaling-stroke\" x=\"9.276472e+01\" y=\"10\" dominant-baseline=\"hanging\" stroke=\"none\">200</text><text y=\"10\" dominant-baseline=\"hanging\" stroke=\"none\" vector-effect=\"non-scaling-stroke\" x=\"1.366865e+02\">300</text><text x=\"1.678494e+02\" y=\"10\" dominant-baseline=\"hanging\" stroke=\"none\" vector-effect=\"non-scaling-stroke\">400</text><text stroke=\"none\" vector-effect=\"non-scaling-stroke\" x=\"1.920213e+02\" y=\"10\" dominant-baseline=\"hanging\">500</text><text y=\"10\" dominant-baseline=\"hanging\" stroke=\"none\" vector-effect=\"non-scaling-stroke\" x=\"2.117712e+02\">600</text><text stroke=\"none\" vector-effect=\"non-scaling-stroke\" x=\"2.284694e+02\" y=\"10\" dominant-baseline=\"hanging\">700</text><text stroke=\"none\" vector-effect=\"non-scaling-stroke\" x=\"2.429341e+02\" y=\"10\" dominant-baseline=\"hanging\">800</text><text y=\"10\" dominant-baseline=\"hanging\" stroke=\"none\" vector-effect=\"non-scaling-stroke\" x=\"2.556929e+02\">900</text><text stroke=\"none\" vector-effect=\"non-scaling-stroke\" x=\"2.774304e+02\" y=\"10\" dominant-baseline=\"hanging\">1100</text><text stroke=\"none\" vector-effect=\"non-scaling-stroke\" x=\"3.421907e+02\" y=\"10\" dominant-baseline=\"hanging\">2000</text><text y=\"10\" dominant-baseline=\"hanging\" stroke=\"none\" vector-effect=\"non-scaling-stroke\" x=\"3.861125e+02\">3000</text><text vector-effect=\"non-scaling-stroke\" x=\"4.172755e+02\" y=\"10\" dominant-baseline=\"hanging\" stroke=\"none\">4000</text><text x=\"4.414473e+02\" y=\"10\" dominant-baseline=\"hanging\" stroke=\"none\" vector-effect=\"non-scaling-stroke\">5000</text><text stroke=\"none\" vector-effect=\"non-scaling-stroke\" x=\"4.611972e+02\" y=\"10\" dominant-baseline=\"hanging\">6000</text><text x=\"4.778955e+02\" y=\"10\" dominant-baseline=\"hanging\" stroke=\"none\" vector-effect=\"non-scaling-stroke\">7000</text><text y=\"10\" dominant-baseline=\"hanging\" stroke=\"none\" vector-effect=\"non-scaling-stroke\" x=\"4.923602e+02\">8000</text><text stroke=\"none\" vector-effect=\"non-scaling-stroke\" x=\"5.051189e+02\" y=\"10\" dominant-baseline=\"hanging\">9000</text><text vector-effect=\"non-scaling-stroke\" x=\"5.916168e+02\" y=\"10\" dominant-baseline=\"hanging\" stroke=\"none\">20000</text><text dominant-baseline=\"hanging\" stroke=\"none\" vector-effect=\"non-scaling-stroke\" x=\"6.355385e+02\" y=\"10\">30000</text><text vector-effect=\"non-scaling-stroke\" x=\"6.667015e+02\" y=\"10\" dominant-baseline=\"hanging\" stroke=\"none\">40000</text><text dominant-baseline=\"hanging\" stroke=\"none\" vector-effect=\"non-scaling-stroke\" x=\"6.908734e+02\" y=\"10\">50000</text><text dominant-baseline=\"hanging\" stroke=\"none\" vector-effect=\"non-scaling-stroke\" x=\"7.106232e+02\" y=\"10\">60000</text><text x=\"7.273215e+02\" y=\"10\" dominant-baseline=\"hanging\" stroke=\"none\" vector-effect=\"non-scaling-stroke\">70000</text><text dominant-baseline=\"hanging\" stroke=\"none\" vector-effect=\"non-scaling-stroke\" x=\"7.417862e+02\" y=\"10\">80000</text><text x=\"7.545450e+02\" y=\"10\" dominant-baseline=\"hanging\" stroke=\"none\" vector-effect=\"non-scaling-stroke\">90000</text><text stroke=\"none\" vector-effect=\"non-scaling-stroke\" x=\"8.410428e+02\" y=\"10\" dominant-baseline=\"hanging\">200000</text></g><g fill=\"black\" font-family=\"sans-serif\" font-weight=\"bold\" text-anchor=\"middle\" font-size=\"12px\" font-style=\"normal\" dominant-baseline=\"baseline\" transform=\"translate(70 330 )scale(1 1 )rotate(0 0 0 )\" stroke=\"black\" stroke-width=\"2px\" stroke-linecap=\"round\" stroke-linejoin=\"round\"><text y=\"-6\" dominant-baseline=\"baseline\" stroke=\"none\" vector-effect=\"non-scaling-stroke\" x=\"442\">Steps</text></g><g stroke-linecap=\"round\" stroke-linejoin=\"round\" transform=\"translate(70 330 )scale(1 -1 )\" font-style=\"normal\" stroke-width=\"2px\" font-size=\"12px\" fill=\"black\" font-family=\"sans-serif\" font-weight=\"bold\" text-anchor=\"middle\" dominant-baseline=\"baseline\" stroke=\"black\"><path vector-effect=\"non-scaling-stroke\" d=\"M0,6.359383e+00 L-6,6.359383e+00 M0,1.026335e+02 L-6,1.026335e+02 M0,1.989077e+02 L-6,1.989077e+02 \"/></g><g font-weight=\"normal\" text-anchor=\"end\" dominant-baseline=\"middle\" stroke=\"black\" stroke-linecap=\"round\" stroke-linejoin=\"round\" font-size=\"12px\" font-family=\"sans-serif\" font-style=\"normal\" stroke-width=\"2px\" transform=\"translate(70 330 )scale(1 1 )\" fill=\"black\"><text stroke=\"none\" vector-effect=\"non-scaling-stroke\" x=\"-10\" y=\"-6.359383e+00\" dominant-baseline=\"middle\">3.000</text><text stroke=\"none\" vector-effect=\"non-scaling-stroke\" x=\"-10\" y=\"-1.026335e+02\" dominant-baseline=\"middle\">4.000</text><text x=\"-10\" y=\"-1.989077e+02\" dominant-baseline=\"middle\" stroke=\"none\" vector-effect=\"non-scaling-stroke\">5.000</text></g><g font-family=\"sans-serif\" font-weight=\"bold\" stroke=\"black\" transform=\"translate(70 330 )scale(1 1 )rotate(-90 0 0 )\" dominant-baseline=\"hanging\" stroke-width=\"2px\" stroke-linecap=\"round\" stroke-linejoin=\"round\" fill=\"black\" text-anchor=\"middle\" font-size=\"12px\" font-style=\"normal\"><text stroke=\"none\" vector-effect=\"non-scaling-stroke\" x=\"130\" y=\"6\" dominant-baseline=\"hanging\">loss</text></g><g font-size=\"12px\" font-weight=\"bold\" text-anchor=\"middle\" stroke=\"gray\" stroke-width=\"0.5px\" stroke-linecap=\"round\" stroke-linejoin=\"round\" fill=\"black\" font-family=\"sans-serif\" dominant-baseline=\"hanging\" transform=\"translate(70 330 )scale(1 -1 )\" font-style=\"normal\"><path vector-effect=\"non-scaling-stroke\" d=\"M0,6.359383e+00 L884,6.359383e+00 M0,1.026335e+02 L884,1.026335e+02 M0,1.989077e+02 L884,1.989077e+02 \"/></g><g font-style=\"normal\" stroke-linecap=\"round\" stroke-linejoin=\"round\" font-size=\"12px\" dominant-baseline=\"hanging\" stroke=\"black\" stroke-width=\"2px\" fill=\"none\" font-family=\"sans-serif\" font-weight=\"bold\" text-anchor=\"middle\"><rect vector-effect=\"non-scaling-stroke\" x=\"70\" y=\"70\" width=\"884\" height=\"260\"/><g fill=\"black\" dominant-baseline=\"middle\" font-size=\"18px\"><text y=\"35\" dominant-baseline=\"middle\" stroke=\"none\" vector-effect=\"non-scaling-stroke\" x=\"512\">loss metrics</text></g><g stroke-width=\"1px\" font-style=\"normal\" dominant-baseline=\"hanging\" fill=\"hsl(90, 47%, 65%)\" font-family=\"sans-serif\" font-weight=\"normal\" text-anchor=\"start\" stroke-linecap=\"round\" stroke-linejoin=\"round\" font-size=\"12px\" stroke=\"hsl(90, 47%, 65%)\"><rect y=\"366\" width=\"12\" height=\"12\" vector-effect=\"non-scaling-stroke\" x=\"76\"/><g fill=\"black\" stroke=\"black\"><text vector-effect=\"non-scaling-stroke\" x=\"92\" y=\"366\" dominant-baseline=\"hanging\" stroke=\"none\">Train: Moving Average Loss</text></g></g></g></svg>"
      ]
     },
     "metadata": {},
     "output_type": "display_data"
    },
    {
     "name": "stdout",
     "output_type": "stream",
     "text": [
      "> papers features input shape: (Float32)[128 132]\n",
      "Training (2000000 steps):   13% [\u001b[32m=\u001b[0m\u001b[32m=\u001b[0m\u001b[32m=\u001b[0m\u001b[32m=\u001b[0m\u001b[32m>\u001b[0m...................................] (2069 steps/s) [2m19s:13m58s]\u001b[0m [loss=3.070] [~loss=2.987] [~acc=29.03%]        "
     ]
    },
    {
     "name": "stderr",
     "output_type": "stream",
     "text": [
      "^C\n",
      "signal: interrupt\n"
     ]
    }
   ],
   "source": [
    "import \"github.com/gomlx/gomlx/examples/ogbnmag/fnn\"\n",
    "\n",
    "%%\n",
    "must.M(mag.Download(*flagDataDir))\n",
    "ctx := config()\n",
    "ctx.SetParam(\"checkpoint\", path.Join(*flagDataDir, \"fnn-baseline\"))\n",
    "ctx.SetParam(\"num_checkpoints\", 10)\n",
    "err := fnn.Train(ctx)\n",
    "if  err != nil {\n",
    "    fmt.Printf(\"%+v\\n\", err)\n",
    "}\n"
   ]
  },
  {
   "cell_type": "markdown",
   "id": "8906d875-13ed-4ebd-af77-33fbec8c66ed",
   "metadata": {},
   "source": [
    "## GNN (Graph Neural Networks)\n",
    "\n",
    "To use GNNs we need first graphs to run the model on. The issue is, generally the graphs in real life are too large (social networks, relational datases, etc.), including OGNB-MAG.\n",
    "\n",
    "So instead we use sampled sub-graphs to train. For inference we can also use sampled subgraphs, but later we show a work around where we can do inference, a node type at a time, where we don't need sampling.\n",
    "\n",
    "### Sampling Sub-Graphs\n",
    "\n",
    "We follow the same sampling strategy used in [TensorFlow GNN](https://github.com/tensorflow/gnn) library, describe it its [OGBN-MAG notebook](https://github.com/tensorflow/gnn/blob/main/examples/notebooks/ogbn_mag_e2e.ipynb)."
   ]
  },
  {
   "cell_type": "code",
   "execution_count": 6,
   "id": "e343e5fd-27a4-494f-a7d4-babc14dec453",
   "metadata": {},
   "outputs": [
    {
     "name": "stdout",
     "output_type": "stream",
     "text": [
      "Sampling strategy: (12 rules)\n",
      "> Rule \"seeds\": type=Node, nodeType=\"papers\", shape=(Int32)[32] (size=32), nodeSet.size=629571\n",
      "  > Rule \"citations\": type=Edge, nodeType=\"papers\", shape=(Int32)[32 8] (size=256), sourceRule=\"seeds\", edgeType=\"cites\"\n",
      "    > Rule \"citationsAuthors\": type=Edge, nodeType=\"authors\", shape=(Int32)[32 8 8] (size=2048), sourceRule=\"citations\", edgeType=\"writtenBy\"\n",
      "      > Rule \"coauthoredFromCitations\": type=Edge, nodeType=\"papers\", shape=(Int32)[32 8 8 8] (size=16384), sourceRule=\"citationsAuthors\", edgeType=\"writes\"\n",
      "        > Rule \"coauthoredFromCitationsTopics\": type=Edge, nodeType=\"fields_of_study\", shape=(Int32)[32 8 8 8 8] (size=131072), sourceRule=\"coauthoredFromCitations\", edgeType=\"hasTopic\"\n",
      "      > Rule \"citationAuthorsInstitutions\": type=Edge, nodeType=\"institutions\", shape=(Int32)[32 8 8 8] (size=16384), sourceRule=\"citationsAuthors\", edgeType=\"affiliatedWith\"\n",
      "    > Rule \"citationsTopics\": type=Edge, nodeType=\"fields_of_study\", shape=(Int32)[32 8 8] (size=2048), sourceRule=\"citations\", edgeType=\"hasTopic\"\n",
      "  > Rule \"seedsAuthors\": type=Edge, nodeType=\"authors\", shape=(Int32)[32 8] (size=256), sourceRule=\"seeds\", edgeType=\"writtenBy\"\n",
      "    > Rule \"coauthoredPapers\": type=Edge, nodeType=\"papers\", shape=(Int32)[32 8 8] (size=2048), sourceRule=\"seedsAuthors\", edgeType=\"writes\"\n",
      "      > Rule \"coauthoredTopics\": type=Edge, nodeType=\"fields_of_study\", shape=(Int32)[32 8 8 8] (size=16384), sourceRule=\"coauthoredPapers\", edgeType=\"hasTopic\"\n",
      "    > Rule \"authorsInstitutions\": type=Edge, nodeType=\"institutions\", shape=(Int32)[32 8 8] (size=2048), sourceRule=\"seedsAuthors\", edgeType=\"affiliatedWith\"\n",
      "  > Rule \"seedsTopics\": type=Edge, nodeType=\"fields_of_study\", shape=(Int32)[32 8] (size=256), sourceRule=\"seeds\", edgeType=\"hasTopic\"\n"
     ]
    }
   ],
   "source": [
    "import \"github.com/gomlx/gomlx/examples/ogbnmag/sampler\"\n",
    "\n",
    "func GnnStrategy(magSampler *sampler.Sampler, batchSize int, seedIdsCandidates []int32) *sampler.Strategy {\n",
    "    strategy := magSampler.NewStrategy()\n",
    "    var seeds *sampler.Rule\n",
    "    if seedIdsCandidates == nil {\n",
    "        seeds = strategy.Nodes(\"seeds\", \"papers\", batchSize)\n",
    "    } else {\n",
    "        seeds = strategy.NodesFromSet(\"seeds\", \"papers\", batchSize, seedIdsCandidates)\n",
    "    }    \n",
    "    citations := seeds.FromEdges(\"citations\", \"cites\", 8)\n",
    "\n",
    "    // Authors\n",
    "    seedsAuthors := seeds.FromEdges(\"seedsAuthors\", \"writtenBy\", 8)\n",
    "    citationsAuthors := citations.FromEdges(\"citationsAuthors\", \"writtenBy\", 8)\n",
    "\n",
    "    // Co-authored papers\n",
    "    coauthoredPapers := seedsAuthors.FromEdges(\"coauthoredPapers\", \"writes\", 8)\n",
    "    coauthoredFromCitations := citationsAuthors.FromEdges(\"coauthoredFromCitations\", \"writes\", 8)\n",
    "    \n",
    "     // Affiliations\n",
    "    _ = seedsAuthors.FromEdges(\"authorsInstitutions\", \"affiliatedWith\", 8)\n",
    "    _ = citationsAuthors.FromEdges(\"citationAuthorsInstitutions\", \"affiliatedWith\", 8)\n",
    "\n",
    "    // Topics\n",
    "    _ = seeds.FromEdges(\"seedsTopics\", \"hasTopic\", 8)\n",
    "    _ = coauthoredPapers.FromEdges(\"coauthoredTopics\", \"hasTopic\", 8)\n",
    "    _ = citations.FromEdges(\"citationsTopics\", \"hasTopic\", 8)\n",
    "    _ = coauthoredFromCitations.FromEdges(\"coauthoredFromCitationsTopics\", \"hasTopic\", 8)\n",
    "    \n",
    "    return strategy\n",
    "}\n",
    "\n",
    "%%\n",
    "must.M(mag.Download(*flagDataDir))\n",
    "magSampler := must.M1(mag.NewSampler(*flagDataDir))\n",
    "strategy := GnnStrategy(magSampler, 32, mag.TrainSplit.Local().FlatCopy().([]int32))\n",
    "fmt.Printf(\"%s\\n\", strategy)\n"
   ]
  },
  {
   "cell_type": "markdown",
   "id": "d497782d-5016-4690-8b24-d367818076f3",
   "metadata": {},
   "source": [
    "### Benchmarking Sampling\n",
    "\n",
    "Let's get some benchmarking on the sampler, to make sure it's not slowing training:\n",
    "\n",
    "1. Benchmark sequential the sampling of one sub-graph: `BenchmarkSequentialMagSampler`\n",
    "2. Benchmark parallel sampling of one sub-graph: `BenchmarkParallelMagSampler`\n",
    "3. Benchmark parallel sampling of one epoch (using parallel sampler): `BenchmarkOneEpochMagSampler`"
   ]
  },
  {
   "cell_type": "code",
   "execution_count": 38,
   "id": "8a1e961e-463a-4273-b25e-3f7455a5eb23",
   "metadata": {},
   "outputs": [
    {
     "name": "stdout",
     "output_type": "stream",
     "text": [
      "goos: linux\n",
      "goarch: amd64\n",
      "pkg: gonb_e851bff2\n",
      "cpu: 12th Gen Intel(R) Core(TM) i9-12900K\n",
      "BenchmarkOneEpochMagSampler-24      \t       3\t1829138955 ns/op\n",
      "BenchmarkParallelMagSampler-24      \t   69396\t     89149 ns/op\n",
      "BenchmarkSequentialMagSampler-24    \t   12021\t    520495 ns/op\n",
      "PASS\n"
     ]
    }
   ],
   "source": [
    "import (\n",
    "    mldata \"github.com/gomlx/gomlx/ml/data\"\n",
    ")\n",
    "\n",
    "func BenchmarkSequentialMagSampler(b *testing.B) {\n",
    "    must.M(mag.Download(*flagDataDir))\n",
    "    magSampler := must.M1(mag.NewSampler(*flagDataDir))\n",
    "    strategy := GnnStrategy(magSampler, 32, mag.TrainSplit.Local().FlatCopy().([]int32))\n",
    "    \n",
    "    ds := strategy.NewDataset(\"train\").Infinite().Shuffle()\n",
    "    b.ResetTimer()\n",
    "    for _ = range b.N {\n",
    "        _, inputs, _, err := ds.Yield()\n",
    "        if err != nil {\n",
    "            b.Fatalf(\"Failed to sample: %+v\", err)\n",
    "        }\n",
    "        _ = inputs\n",
    "    }\n",
    "}\n",
    "\n",
    "func BenchmarkParallelMagSampler(b *testing.B) {\n",
    "    must.M(mag.Download(*flagDataDir))\n",
    "    magSampler := must.M1(mag.NewSampler(*flagDataDir))\n",
    "    strategy := GnnStrategy(magSampler, 32, mag.TrainSplit.Local().FlatCopy().([]int32))\n",
    "    \n",
    "    ds := strategy.NewDataset(\"train\").Infinite().Shuffle()\n",
    "    parallelDS := mldata.Parallel(ds)\n",
    "    b.ResetTimer()\n",
    "    for _ = range b.N {\n",
    "        _, inputs, _, err := parallelDS.Yield()\n",
    "        if err != nil {\n",
    "            b.Fatalf(\"Failed to sample: %+v\", err)\n",
    "        }\n",
    "        _ = inputs\n",
    "    }\n",
    "}\n",
    "\n",
    "func BenchmarkOneEpochMagSampler(b *testing.B) {\n",
    "    must.M(mag.Download(*flagDataDir))\n",
    "    magSampler := must.M1(mag.NewSampler(*flagDataDir))\n",
    "    strategy := GnnStrategy(magSampler, 32, mag.TrainSplit.Local().FlatCopy().([]int32))\n",
    "    \n",
    "    ds := strategy.NewDataset(\"train\").Shuffle()\n",
    "    parallelDS := mldata.Parallel(ds)\n",
    "    b.ResetTimer()\n",
    "    var count int\n",
    "    for _ = range b.N {\n",
    "        count = 0\n",
    "        for {\n",
    "            _, inputs, _, err := parallelDS.Yield()\n",
    "            if err == io.EOF {\n",
    "                break\n",
    "            }\n",
    "            if err != nil {\n",
    "                b.Fatalf(\"Failed to sample: %+v\", err)\n",
    "            }\n",
    "            _ = inputs\n",
    "            count ++\n",
    "        }\n",
    "        parallelDS.Reset()\n",
    "    }\n",
    "}\n",
    "\n",
    "%%\n",
    "%test -test.bench=. -test.run=Benchmark -test.benchtime=5s"
   ]
  }
 ],
 "metadata": {
  "kernelspec": {
   "display_name": "Go (gonb)",
   "language": "go",
   "name": "gonb"
  },
  "language_info": {
   "codemirror_mode": "",
   "file_extension": ".go",
   "mimetype": "",
   "name": "go",
   "nbconvert_exporter": "",
   "pygments_lexer": "",
   "version": "go1.22.0"
  }
 },
 "nbformat": 4,
 "nbformat_minor": 5
}
