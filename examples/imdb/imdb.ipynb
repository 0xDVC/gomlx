{
 "cells": [
  {
   "cell_type": "markdown",
   "id": "f431da81-4d94-4fd1-8a51-952ef824cb46",
   "metadata": {},
   "source": [
    "# IMDB Movie Review Dataset\n",
    "\n",
    "This is a library to download and parse the [IMDB's Large Movie Review Dataset](http://ai.stanford.edu/~amaas/data/sentiment/) dataset and a demo of a transformer based model. The dataset has 25K training, and 25K test dataset, plus 50K unlabeled examples.\n",
    "\n",
    "It's inspired on [Keras' Text classification with Transformer](https://keras.io/examples/nlp/text_classification_with_transformer/) demo.\n",
    "\n",
    "\n"
   ]
  },
  {
   "cell_type": "markdown",
   "id": "392f19ad-caa7-4d7d-8078-cbca680f2be2",
   "metadata": {},
   "source": [
    "## Environment Set Up\n",
    "\n",
    "Let's set up `go.mod` to use the local copy of GoMLX, so it can be developed jointly the dataset code with the model. That's often how data pre-processing and model code is developed together with experimentation.\n",
    "\n",
    "If you are not changing code, feel free to simply skip this cell. Or if you used a different directory for you projects, change it below.\n",
    "\n",
    "Notice the directory `${HOME}/Projects/gomlx` is where the GoMLX code is copied by default in [its Docker](https://hub.docker.com/repository/docker/janpfeifer/gomlx_jupyterlab/general)."
   ]
  },
  {
   "cell_type": "code",
   "execution_count": 1,
   "id": "32600e05-745d-4c38-999a-3b96ca1502cc",
   "metadata": {
    "tags": []
   },
   "outputs": [],
   "source": [
    "!*go mod edit -replace github.com/gomlx/gomlx=\"${HOME}/Projects/gomlx\""
   ]
  },
  {
   "cell_type": "markdown",
   "id": "443e9e56-ef12-4d04-b7bb-99478fa2b662",
   "metadata": {},
   "source": [
    "## Data Preparation\n",
    "\n",
    "### Downloading data files\n",
    "\n",
    "To download, uncompress and untar to the local directory, simply do the following. Notice if it's already downloaded in the given `--data` directory, it returns immediately."
   ]
  },
  {
   "cell_type": "code",
   "execution_count": 2,
   "id": "e98ca191-0d4b-4e7c-ab24-ded6991b9671",
   "metadata": {
    "tags": []
   },
   "outputs": [
    {
     "name": "stdout",
     "output_type": "stream",
     "text": [
      "> Loading previously generated preprocessed binary file.\n",
      "Loaded data from \"aclImdb.bin\": 100000 examples, 141088 unique tokens, 23727054 tokens in total.\n"
     ]
    }
   ],
   "source": [
    "import (\n",
    "    \"github.com/gomlx/gomlx/examples/imdb\"\n",
    "    \"github.com/gomlx/gomlx/ml/data\"\n",
    ")\n",
    "\n",
    "var flagDataDir = flag.String(\"data\", \"~/work/imdb\", \"Directory to cache downloaded and generated dataset files.\")\n",
    "\n",
    "func AssertNoError(err error) {\n",
    "    if err != nil {\n",
    "        log.Fatalf(\"Failed: %+v\", err)\n",
    "    }\n",
    "}\n",
    "\n",
    "func AssertDownloaded() {\n",
    "    *flagDataDir = data.ReplaceTildeInDir(*flagDataDir)\n",
    "    if !data.FileExists(*flagDataDir) {\n",
    "        AssertNoError(os.MkdirAll(*flagDataDir, 0777))\n",
    "    }\n",
    "\n",
    "    AssertNoError(imdb.Download(*flagDataDir))\n",
    "}\n",
    "\n",
    "%%\n",
    "AssertDownloaded()"
   ]
  },
  {
   "cell_type": "markdown",
   "id": "41a415e2-8a29-4aeb-8809-b8d6b7ede5ad",
   "metadata": {},
   "source": [
    "### Sampling some examples\n",
    "\n",
    "It creates a small dataset and print out some random examples.\n",
    "\n",
    "It also defines the `DType`, used for all internal representations of the model, and the flag `--max_len` that defines the maximum number of tokens used per observation. This will beused in the modeling later."
   ]
  },
  {
   "cell_type": "code",
   "execution_count": 4,
   "id": "f2bf2aab-7d50-4110-a8e3-bbee08063521",
   "metadata": {
    "tags": []
   },
   "outputs": [
    {
     "name": "stdout",
     "output_type": "stream",
     "text": [
      "> Loading previously generated preprocessed binary file.\n",
      "Loaded data from \"aclImdb.bin\": 100000 examples, 141088 unique tokens, 23727054 tokens in total.\n",
      "\n",
      "label=0, input=\"<START> this is supposed to be based on wilkie collins but the only resemblance it bore to that story were the characters names the time period and the settings if they were going to change the story so thoroughly i don t understand why they needed to keep up the pretense that it came from wilkie collins go read the book it s much better\"\n",
      "\n",
      "label=0, input=\"<START> a blatant rip off of air bud this movie is really about parents worrying too much about parenting all the foibles of the characters eg adult coaches who dont know the game are taken to the extreme so much so that they are totally unbelievable not funny there is no semblance of reality here folks and you ll not develop sympathy for any of the characters the best thing about the movie is the good looking kits uniforms of the opposing team in the first game the dog plays perhaps chosen because the setting is supposedly near arlington heights il the home of the columbus crew s franchise player brian mcbride\"\n",
      "\n",
      "label=0, input=\"next guy i also can take just plain stupid comedy and actually sit back and laugh with it but this film had nothing to laugh at or with i like nearly all of the actors in this film so i thought i d overlook what many people told me about it my fault for not listening i was just mortified at how stupid this script was just ridiculous and not even in a funny way the only funny scenes were in the previews that everyone saw in the theater when seeing other movies or on tv i was very disappointed and i really would like to know why these otherwise relatively good actors would read this script and then still sign up to be in it bad decision on their parts major spoiler okay here s my biggest question on this film if the characters are looking back on this story of jewel liv tyler after the fact then how can paul reiser have gone to a therapist remembering the past he dies in the last scene by being crushed by the dumpster can anyone answer me that major goof on the part of the film makers nobody noticed this\"\n",
      "\n"
     ]
    }
   ],
   "source": [
    "import (\n",
    "    \"github.com/gomlx/gomlx/examples/imdb\"\n",
    ")\n",
    "\n",
    "// DType used for the models.\n",
    "const DType = shapes.Float32\n",
    "\n",
    "var (\n",
    "    flagMaxLen              = flag.Int(\"max_len\", 200, \"Maximum number of tokens to take from observation.\")\n",
    ")\n",
    "\n",
    "func Sample() {\n",
    "    ds := imdb.NewDataset(\"Test\", imdb.Test, *flagMaxLen, 3, DType, true, nil)\n",
    "    _, inputs, labels, err := ds.Yield()\n",
    "    AssertNoError(err)\n",
    "    labelsData := shapes.CastAsDType(labels[0].Local().Flat(), shapes.Int64).([]int)\n",
    "    for ii := 0; ii < 3; ii++ {\n",
    "        fmt.Printf(\"\\nlabel=%v, input=%q\\n\", labelsData[ii], imdb.InputToString(inputs[0], ii))\n",
    "    }\n",
    "    fmt.Println()\n",
    "}\n",
    "\n",
    "%% --max_len=200\n",
    "AssertDownloaded()\n",
    "Sample()\n"
   ]
  },
  {
   "cell_type": "markdown",
   "id": "3cb8ca01-2c8f-4cd8-a644-850e928f64e1",
   "metadata": {},
   "source": [
    "## Training\n",
    "\n",
    "We will create 3 different types of models for this demo: **Bag of Words** (or simply **bow**), **CNNs** and **Transformers**.\n",
    "\n",
    "### Model Support\n",
    "\n",
    "We first define here a few componens shared among all models:\n",
    "\n",
    "* `Normalize` according to flag, works for sequence nodes (shaped `[batch_size, sequence_len, embedding_dim]`) and feature nodes (shaped `[batch_size, embedding_dim]`).\n",
    "* `EmbedTokensGraph` that embeds the tokens, before being consumed by the models.\n",
    "* `ReadoutGraph` that takes the embeddings after they are pooled on the sequence axis (so shaped `[batch_size, embedding_dim]` it adds a FNN (feed-forward neural network) with a few layers and convert to the final logits.\n",
    "\n",
    "We also define the corresponding hyperparameters."
   ]
  },
  {
   "cell_type": "code",
   "execution_count": 9,
   "id": "ad068f5e-46d9-411b-823c-0eae905da41c",
   "metadata": {
    "tags": []
   },
   "outputs": [],
   "source": [
    "import (\n",
    "    . \"github.com/gomlx/gomlx/graph\"\n",
    "    \n",
    "    \"github.com/gomlx/gomlx/ml/context\"\n",
    "    \"github.com/gomlx/gomlx/types/shapes\"\n",
    ")\n",
    "\n",
    "var (\n",
    "    flagNormalization    = flag.String(\"norm\", \"layer\", \"Type of normalization to use. Valid values are \\\"none\\\", \\\"batch\\\", \\\"layer\\\".\")\n",
    "    flagDropoutRate      = flag.Float64(\"dropout\", 0.15, \"Dropout rate\")\n",
    "    flagMaxVocab            = flag.Int(\"max_vocab\", 20000, \"Top most frequent words to consider, the rest is considered unknown.\")\n",
    "    flagTokenEmbeddingSize  = flag.Int(\"token_embed\", 32, \"Size of token embedding table. There are ~140K unique tokens\")\n",
    "    flagNumHiddenLayers     = flag.Int(\"hidden_layers\", 2, \"Number of output hidden layers, stacked with residual connection.\")\n",
    "    flagNumNodes            = flag.Int(\"num_nodes\", 32, \"Number of nodes in output hidden layers.\")\n",
    "    flagWordDropoutRate  = flag.Float64(\"word_dropout\", 0, \"Dropout rate for whole words of the input\")\n",
    ")\n",
    "\n",
    "// Normalize `x` according to `--norm` flag. Works for sequence nodes (rank-3) or plain feature nodes (rank-2).\n",
    "func Normalize(ctx *context.Context, x *Node) *Node {\n",
    "    switch *flagNormalization {\n",
    "    case \"layer\":\n",
    "        if x.Rank() == 3 {\n",
    "            // Normalize sequence.\n",
    "            return layers.LayerNormalization(ctx, x, -2, -1).\n",
    "                LearnedOffset(true).LearnedScale(true).ScaleNormalization(true).Done()\n",
    "        } else {\n",
    "            // Normalize features only.\n",
    "            return layers.LayerNormalization(ctx, x, -1).Done()\n",
    "        }\n",
    "    case \"batch\":\n",
    "        return layers.BatchNormalization(ctx, x, -1).Done()\n",
    "    case \"none\":\n",
    "        return x\n",
    "    }\n",
    "    exceptions.Panicf(\"invalid normalization selected %q -- valid values are batch, layer, none\", *flagNormalization)\n",
    "    return nil\n",
    "}\n",
    "\n",
    "// EmbedTokensGraph creates embeddings for tokens and returns them along with the mask of used tokens --\n",
    "// set to false where padding was used.\n",
    "func EmbedTokensGraph(ctx *context.Context, tokens *Node) (embed, mask *Node) {\n",
    "    g := tokens.Graph()\n",
    "    mask = NotEqual(tokens, ZerosLike(tokens)) // Mask of tokens actually used.\n",
    "\n",
    "    // The token ids are indexed by frequency. Truncate to the vocabulary size considered, replacing\n",
    "    // ids higher than that by 0.\n",
    "    maxVocab := len(imdb.LoadedVocab.ListEntries)\n",
    "    if maxVocab > *flagMaxVocab {\n",
    "        maxVocab = *flagMaxVocab\n",
    "    }\n",
    "\n",
    "    // Limits tokens to the maxVocab.\n",
    "    tokens = Where(GreaterOrEqual(tokens, Const(g, maxVocab)),\n",
    "        MulScalar(OnesLike(tokens), float64(maxVocab-1)),\n",
    "        tokens)\n",
    "\n",
    "    // Embed tokens: shape=[batchSize, maxLen, embedDim]\n",
    "    embed = layers.Embedding(ctx.In(\"tokens\"), tokens, DType, maxVocab, *flagTokenEmbeddingSize)\n",
    "    embed = Where(mask, embed, ZerosLike(embed))\n",
    "    \n",
    "    if *flagWordDropoutRate > 0 {\n",
    "        dims := embed.Shape().Dimensions[:len(embed.Shape().Dimensions)-1]\n",
    "        dropoutMask := Ones(g, shapes.Make(DType, dims...))\n",
    "        dropoutMask = layers.Dropout(ctx, dropoutMask, ConstAsDType(g, DType, *flagWordDropoutRate))\n",
    "        dropoutMask = ExpandDims(dropoutMask, -1)\n",
    "        embed = Mul(embed, dropoutMask)\n",
    "    }    \n",
    "    return\n",
    "}\n",
    "\n",
    "// Activation function used for models.\n",
    "func Activation(x *Node) *Node {\n",
    "    return layers.Relu(x)\n",
    "}\n",
    "\n",
    "// ReadoutGraph takes the embeddings after they have been pooled on the sequence axis, so shaped `[batch_size, embed_dim]`\n",
    "// adds a FNN on top and readout the final logit.\n",
    "func ReadoutGraph(ctx *context.Context, embed *Node) *Node {\n",
    "    g := embed.Graph()\n",
    "    var dropoutRate *Node\n",
    "    if *flagDropoutRate > 0 {\n",
    "        dropoutRate = ConstAsDType(g, DType, *flagDropoutRate)\n",
    "    }\n",
    "\n",
    "    // Output layers.\n",
    "    for ii := 0; ii < *flagNumHiddenLayers; ii++ {\n",
    "        ctx := ctx.In(fmt.Sprintf(\"output_dense_%d\", ii))\n",
    "        residual := embed\n",
    "        if *flagDropoutRate > 0 {\n",
    "            embed = layers.Dropout(ctx, embed, dropoutRate)\n",
    "        }\n",
    "        //embed = Tanh(embed)\n",
    "        embed = Activation(embed)\n",
    "        embed = layers.DenseWithBias(ctx, embed, *flagNumNodes)\n",
    "        embed = Normalize(ctx, embed)\n",
    "        if ii > 0 {\n",
    "            // Add residual connection.\n",
    "            embed = Add(embed, residual)\n",
    "        }\n",
    "    }\n",
    "\n",
    "    // Final embed layer with dimension 1.\n",
    "    {\n",
    "        ctx := ctx.In(\"readout\")\n",
    "        if *flagDropoutRate > 0 {\n",
    "            embed = layers.Dropout(ctx, embed, dropoutRate)\n",
    "        }\n",
    "        embed = Activation(embed)\n",
    "        embed = layers.DenseWithBias(ctx, embed, 1)\n",
    "    }\n",
    "    return embed\n",
    "}\n",
    "\n",
    "%%"
   ]
  },
  {
   "cell_type": "markdown",
   "id": "9b9eb816-6caf-46ea-805c-bd375834c55b",
   "metadata": {},
   "source": [
    "### Bag Of Words Model\n",
    "\n",
    "This is the simples model we are going to train. It's basically a no-op that connects the embedding table we defined above with the `ReadoutGraph` FNN afterwards.\n",
    "\n",
    "We define here placeholders for our future *CNN* and *Transformer* models.\n",
    "\n",
    "Finally we test that the shape is correct. To actually train and evaluate we still need to define the training loop, what we do in the following section."
   ]
  },
  {
   "cell_type": "code",
   "execution_count": 12,
   "id": "50cd517a-f592-4319-a9fd-acb8ab78124c",
   "metadata": {
    "tags": []
   },
   "outputs": [
    {
     "name": "stdout",
     "output_type": "stream",
     "text": [
      "> Loading previously generated preprocessed binary file.\n",
      "Loaded data from \"aclImdb.bin\": 100000 examples, 141088 unique tokens, 23727054 tokens in total.\n",
      "Logits shape for batch_size=3: (Float32)[3 1]\n"
     ]
    }
   ],
   "source": [
    "import (\n",
    "    . \"github.com/gomlx/gomlx/graph\"\n",
    "    \n",
    "    \"github.com/gomlx/gomlx/ml/context\"\n",
    ")\n",
    "\n",
    "var (\n",
    "    flagModel = flag.String(\"model\", \"transformer\", \"Model type: bow or transformer.\")\n",
    ")\n",
    "\n",
    "// ModelGraph builds the model for our demo. It returns the logits, not the predictions, which works with most losses.\n",
    "func ModelGraph(ctx *context.Context, spec any, inputs []*Node) []*Node {\n",
    "    _ = spec // Not used.\n",
    "    tokens := inputs[0]\n",
    "    embed, mask := EmbedTokensGraph(ctx, tokens)\n",
    "\n",
    "    // Normalization function.\n",
    "    if *flagModel == \"bow\" {\n",
    "        // Bag-Of-Words model doesn't do anything, it's just the embedding table for each token.\n",
    "    } else if *flagModel == \"cnn\" {\n",
    "        embed = Conv1DGraph(ctx, embed, mask)\n",
    "    } else if *flagModel == \"transformer\" {\n",
    "        embed = TransformerGraph(ctx, tokens, embed, mask)\n",
    "    } else {\n",
    "        exceptions.Panicf(\"unknown model type %q, only types \\\"bow\\\", \\\"cnn\\\" and \\\"transformer\\\" are implemented\", *flagModel)\n",
    "    }\n",
    "\n",
    "    // Sum-up per-token embeddings and do a FNN on the output. From now on, the dimensions are `[batch_dim, embed_dim]`\n",
    "    // Notice we are not using mask.\n",
    "    embed = ReduceMax(embed, 1)\n",
    "    logits := ReadoutGraph(ctx, embed)\n",
    "    return []*Node{logits}\n",
    "}\n",
    "\n",
    "func Conv1DGraph(ctx *context.Context, embed, mask *Node) *Node {\n",
    "    panic(\"Not implemented.\")\n",
    "    return nil\n",
    "}\n",
    "\n",
    "func TransformerGraph(ctx *context.Context, tokens, embed, mask *Node) *Node {\n",
    "    panic(\"Not implemented.\")\n",
    "    return nil\n",
    "}\n",
    "\n",
    "%% --model=bow\n",
    "\n",
    "// Let's test that the logits are coming out with the right shape: we want [batch_size, 10], since there are 10 classes.\n",
    "AssertDownloaded()\n",
    "manager := NewManager()\n",
    "ds := imdb.NewDataset(\"Test\", imdb.Test, *flagMaxLen, 3, DType, true, nil)\n",
    "_, inputs, _, err := ds.Yield()\n",
    "AssertNoError(err)\n",
    "\n",
    "g := manager.NewGraph(\"test\")\n",
    "ctx := context.NewContext(manager)\n",
    "logits := ModelGraph(ctx, nil, []*Node{Const(g, inputs[0])})\n",
    "fmt.Printf(\"Logits shape for batch_size=%d: %s\\n\", 3, logits[0].Shape())"
   ]
  },
  {
   "cell_type": "markdown",
   "id": "f1227119-6990-488b-83fc-f2551653ae24",
   "metadata": {},
   "source": [
    "### Training Loop\n",
    "\n",
    "Training loop, with the usual bells and whistles. We also do a quick test with 100 steps to check things are working."
   ]
  },
  {
   "cell_type": "code",
   "execution_count": 16,
   "id": "71243cc9-3831-4f6e-86e2-f2e55dce97b3",
   "metadata": {
    "tags": []
   },
   "outputs": [
    {
     "name": "stdout",
     "output_type": "stream",
     "text": [
      "> Loading previously generated preprocessed binary file.\n",
      "Loaded data from \"aclImdb.bin\": 100000 examples, 141088 unique tokens, 23727054 tokens in total.\n",
      "Platform: CUDA\n",
      "Training (100 steps):  100% [\u001b[32m=\u001b[0m\u001b[32m=\u001b[0m\u001b[32m=\u001b[0m\u001b[32m=\u001b[0m\u001b[32m=\u001b[0m\u001b[32m=\u001b[0m\u001b[32m=\u001b[0m\u001b[32m=\u001b[0m\u001b[32m=\u001b[0m\u001b[32m=\u001b[0m\u001b[32m=\u001b[0m\u001b[32m=\u001b[0m\u001b[32m=\u001b[0m\u001b[32m=\u001b[0m\u001b[32m=\u001b[0m\u001b[32m=\u001b[0m\u001b[32m=\u001b[0m\u001b[32m=\u001b[0m\u001b[32m=\u001b[0m\u001b[32m=\u001b[0m\u001b[32m=\u001b[0m\u001b[32m=\u001b[0m\u001b[32m=\u001b[0m\u001b[32m=\u001b[0m\u001b[32m=\u001b[0m\u001b[32m=\u001b[0m\u001b[32m=\u001b[0m\u001b[32m=\u001b[0m\u001b[32m=\u001b[0m\u001b[32m=\u001b[0m\u001b[32m=\u001b[0m\u001b[32m=\u001b[0m\u001b[32m=\u001b[0m\u001b[32m=\u001b[0m\u001b[32m=\u001b[0m\u001b[32m=\u001b[0m\u001b[32m=\u001b[0m\u001b[32m=\u001b[0m\u001b[32m=\u001b[0m\u001b[32m=\u001b[0m] (49 steps/s)\u001b[0m [loss=0.718] [~loss=0.686] [~acc=55.91%]         \n",
      "\t[Step 100] median train step: 883 microseconds\n",
      "\n",
      "Results on train-eval [Parallelized]:\n",
      "\tMean Loss (#loss): 0.707\n",
      "\tMean Accuracy (#acc): 50.00%\n",
      "Results on test-eval [Parallelized]:\n",
      "\tMean Loss (#loss): 0.707\n",
      "\tMean Accuracy (#acc): 50.00%\n"
     ]
    }
   ],
   "source": [
    "import (\n",
    "    . \"github.com/gomlx/gomlx/graph\"\n",
    "    \n",
    "    \"github.com/gomlx/gomlx/ml/context\"\n",
    "    \"github.com/gomlx/gomlx/ml/train\"\n",
    ")\n",
    "\n",
    "var (\n",
    "    flagOptimizer        = flag.String(\"optimizer\", \"adam\", \"Optimizer, options: adam or sgd.\")\n",
    "    flagNumSteps         = flag.Int(\"steps\", 5000, \"Number of gradient descent steps to perform\")\n",
    "    flagBatchSize        = flag.Int(\"batch\", 32, \"Batch size for training\")\n",
    "    flagLearningRate     = flag.Float64(\"learning_rate\", 0.0001, \"Initial learning rate.\")\n",
    "    flagL2Regularization = flag.Float64(\"l2_reg\", 0, \"L2 regularization on kernels. It doesn't interact well with --batch_norm or with --optimizer=adam.\")\n",
    "    \n",
    "    flagCheckpoint       = flag.String(\"checkpoint\", \"\", \"Directory save and load checkpoints from. If left empty, no checkpoints are created.\")\n",
    "    flagCheckpointKeep   = flag.Int(\"checkpoint_keep\", 10, \"Number of checkpoints to keep, if --checkpoint is set.\")\n",
    "    flagPlots            = flag.Bool(\"plots\", true, \"Plots during training: perform periodic evaluations, \"+\n",
    "                                     \"save results if --checkpoint is set and draw plots, if in a Jupyter notebook.\")\n",
    ")\n",
    "\n",
    "func trainModel() {\n",
    "    // Make sure data is downloaded.\n",
    "    AssertDownloaded()\n",
    "\n",
    "    // Manager handles creation of ML computation graphs, accelerator resources, etc.\n",
    "    manager := NewManager()\n",
    "    fmt.Printf(\"Platform: %s\\n\", manager.Platform())\n",
    "\n",
    "    // Datasets.\n",
    "    var trainDS, trainEvalDS, testEvalDS train.Dataset\n",
    "    trainDS = imdb.NewDataset(\"train\", imdb.Train, *flagMaxLen, *flagBatchSize, DType, true, nil)\n",
    "    trainEvalDS = imdb.NewDataset(\"train-eval\", imdb.Train, *flagMaxLen, *flagBatchSize, DType, false, nil)\n",
    "    testEvalDS = imdb.NewDataset(\"test-eval\", imdb.Test, *flagMaxLen, *flagBatchSize, DType, false, nil)\n",
    "\n",
    "    // Parallelize generation of batches, to prevent the dataset from being a bottleneck to the acceleartor (GPU/TPU).\n",
    "    trainDS = data.Parallel(trainDS)\n",
    "    trainEvalDS = data.Parallel(trainEvalDS)\n",
    "    testEvalDS = data.Parallel(testEvalDS)\n",
    "\n",
    "    // Metrics we are interested.\n",
    "    meanAccuracyMetric := metrics.NewMeanBinaryLogitsAccuracy(\"Mean Accuracy\", \"#acc\")\n",
    "    movingAccuracyMetric := metrics.NewMovingAverageBinaryLogitsAccuracy(\"Moving Average Accuracy\", \"~acc\", 0.01)\n",
    "\n",
    "    // Context holds the variables and hyperparameters for the model.\n",
    "    ctx := context.NewContext(manager)\n",
    "    ctx.SetParam(optimizers.LearningRateKey, *flagLearningRate)\n",
    "    ctx.SetParam(layers.L2RegularizationKey, *flagL2Regularization)\n",
    "\n",
    "    // Checkpoints saving.\n",
    "    var checkpoint *checkpoints.Handler\n",
    "    if *flagCheckpoint != \"\" {\n",
    "        var err error\n",
    "        checkpoint, err = checkpoints.Build(ctx).DirFromBase(*flagCheckpoint, *flagDataDir).Keep(*flagCheckpointKeep).Done()\n",
    "        AssertNoError(err)\n",
    "    }\n",
    "\n",
    "    // Create a train.Trainer: this object will orchestrate running the model, feeding\n",
    "    // results to the optimizer, evaluating the metrics, etc. (all happens in trainer.TrainStep)\n",
    "    loss := losses.BinaryCrossentropyLogits\n",
    "    trainer := train.NewTrainer(\n",
    "        manager, ctx, ModelGraph, loss,\n",
    "        optimizers.MustOptimizerByName(*flagOptimizer),\n",
    "        []metrics.Interface{movingAccuracyMetric}, // trainMetrics\n",
    "        []metrics.Interface{meanAccuracyMetric})   // evalMetrics\n",
    "\n",
    "    // Use standard training loop.\n",
    "    loop := train.NewLoop(trainer)\n",
    "    commandline.AttachProgressBar(loop) // Attaches a progress bar to the loop.\n",
    "\n",
    "    // Attach a checkpoint: checkpoint every 1 minute of training.\n",
    "    if checkpoint != nil {\n",
    "        period := time.Minute * 1\n",
    "        train.PeriodicCallback(loop, period, true, \"saving checkpoint\", 100,\n",
    "            func(loop *train.Loop, metrics []tensor.Tensor) error {\n",
    "                fmt.Printf(\"\\n[saving checkpoint@%d] [median train step (ms): %d]\\n\", loop.LoopStep, loop.MedianTrainStepDuration().Milliseconds())\n",
    "                return checkpoint.Save()\n",
    "            })\n",
    "    }\n",
    "\n",
    "    // Attach a margaid plots: plot points at exponential steps.\n",
    "    // The points generated are saved along the checkpoint directory (if one is given).\n",
    "    if *flagPlots {\n",
    "        _ = margaid.NewDefault(loop, checkpoint.Dir(), 100, 1.1, trainEvalDS, testEvalDS)\n",
    "    }\n",
    "\n",
    "    // Loop for given number of steps.\n",
    "    _, err := loop.RunSteps(trainDS, *flagNumSteps)\n",
    "    AssertNoError(err)\n",
    "    fmt.Printf(\"\\t[Step %d] median train step: %d microseconds\\n\",\n",
    "        loop.LoopStep, loop.MedianTrainStepDuration().Microseconds())\n",
    "\n",
    "\n",
    "    // Report final evaluation.\n",
    "    fmt.Println()\n",
    "    err = commandline.ReportEval(trainer, trainEvalDS, testEvalDS)\n",
    "    AssertNoError(err)\n",
    "}\n",
    "\n",
    "%% --model=bow --steps=100 --plots=false\n",
    "trainModel()\n"
   ]
  },
  {
   "cell_type": "markdown",
   "id": "9351949f-53a5-4354-a69a-59348a48915a",
   "metadata": {},
   "source": [
    "### Training Bag-Of-Words (\"bow\") Model\n",
    "\n",
    "A proper run of our *bow* model."
   ]
  },
  {
   "cell_type": "code",
   "execution_count": 17,
   "id": "8f9eb10c-e668-40fb-9725-51ac465cc4cf",
   "metadata": {
    "tags": []
   },
   "outputs": [
    {
     "name": "stdout",
     "output_type": "stream",
     "text": [
      "> Loading previously generated preprocessed binary file.\n",
      "Loaded data from \"aclImdb.bin\": 100000 examples, 141088 unique tokens, 23727054 tokens in total.\n",
      "Platform: CUDA\n"
     ]
    },
    {
     "data": {
      "text/html": [
       "<svg height=\"454\" viewbox=\"0 0 1024 400\" style=\"background-color:#f8f8f8\" preserveAspectRatio=\"xMidYMid meet\" xmlns=\"http://www.w3.org/2000/svg\" width=\"1024\"><defs><marker markerWidth=\"2%\" markerHeight=\"2%\" id=\"circle\" viewBox=\"0 0 10 10 \" refX=\"5\" refY=\"5\" markerUnits=\"userSpaceOnUse\"><circle cy=\"5\" r=\"3\" fill=\"none\" stroke=\"black\" cx=\"5\"/></marker><marker refY=\"5\" markerUnits=\"userSpaceOnUse\" markerWidth=\"2%\" markerHeight=\"2%\" id=\"filled-circle\" viewBox=\"0 0 10 10 \" refX=\"5\"><circle fill=\"black\" stroke=\"none\" cx=\"5\" cy=\"5\" r=\"3\"/></marker><marker id=\"square\" viewBox=\"0 0 10 10 \" refX=\"5\" refY=\"5\" markerUnits=\"userSpaceOnUse\" markerWidth=\"2%\" markerHeight=\"2%\"><rect width=\"6\" height=\"6\" fill=\"none\" stroke=\"black\" x=\"2\" y=\"2\"/></marker><marker markerHeight=\"2%\" id=\"filled-square\" viewBox=\"0 0 10 10 \" refX=\"5\" refY=\"5\" markerUnits=\"userSpaceOnUse\" markerWidth=\"2%\"><rect width=\"6\" height=\"6\" fill=\"black\" stroke=\"none\" x=\"2\" y=\"2\"/></marker></defs><g stroke-linecap=\"round\" marker-start=\"url(#square)\" transform=\"translate(70 330 )scale(1 -1 )\" fill=\"none\" stroke-linejoin=\"round\" marker-end=\"url(#square)\" stroke=\"hsl(90, 47%, 65%)\" stroke-width=\"2px\" marker-mid=\"url(#square)\"><path vector-effect=\"non-scaling-stroke\" d=\"M1.768000e+01,5.230743e+00 L1.365173e+02,5.322910e+00 L2.093971e+02,5.936918e+00 L2.634977e+02,5.353666e+00 L3.073165e+02,1.286629e+02 L3.448334e+02,9.376518e+01 L3.779355e+02,1.461736e+02 L4.078967e+02,1.649938e+02 L4.355033e+02,1.735736e+02 L4.612687e+02,1.766145e+02 L4.855427e+02,1.830699e+02 L5.085726e+02,1.874733e+02 L5.306039e+02,1.908616e+02 L5.518045e+02,1.937690e+02 L5.722912e+02,1.947271e+02 L5.921466e+02,1.976055e+02 L6.114698e+02,1.987769e+02 L6.303266e+02,1.972888e+02 L6.487916e+02,2.012565e+02 L6.669114e+02,2.040316e+02 L6.847383e+02,2.048731e+02 L7.023018e+02,2.065686e+02 L7.196363e+02,2.060225e+02 L7.367580e+02,2.076042e+02 L7.536877e+02,2.085826e+02 L7.704470e+02,2.089806e+02 L7.870558e+02,2.093058e+02 L8.035318e+02,2.097932e+02 L8.198887e+02,2.097571e+02 L8.361372e+02,2.093780e+02 L8.522929e+02,2.104781e+02 L8.663200e+02,2.096669e+02 \"/></g><g marker-mid=\"url(#square)\" transform=\"translate(70 330 )scale(1 -1 )\" marker-end=\"url(#square)\" fill=\"none\" stroke-width=\"2px\" stroke-linecap=\"round\" stroke=\"hsl(301, 88%, 65%)\" stroke-linejoin=\"round\" marker-start=\"url(#square)\"><path vector-effect=\"non-scaling-stroke\" d=\"M1.768000e+01,5.292198e+00 L1.365173e+02,5.353666e+00 L2.093971e+02,6.090290e+00 L2.634977e+02,5.200000e+00 L3.073165e+02,1.362967e+02 L3.448334e+02,9.772254e+01 L3.779355e+02,1.569431e+02 L4.078967e+02,1.730579e+02 L4.355033e+02,1.839778e+02 L4.612687e+02,1.890379e+02 L4.855427e+02,1.953831e+02 L5.085726e+02,2.005180e+02 L5.306039e+02,2.040316e+02 L5.518045e+02,2.088178e+02 L5.722912e+02,2.108560e+02 L5.921466e+02,2.151495e+02 L6.114698e+02,2.177380e+02 L6.303266e+02,2.168181e+02 L6.487916e+02,2.224097e+02 L6.669114e+02,2.264730e+02 L6.847383e+02,2.289007e+02 L7.023018e+02,2.318927e+02 L7.196363e+02,2.323522e+02 L7.367580e+02,2.364973e+02 L7.536877e+02,2.385615e+02 L7.704470e+02,2.413964e+02 L7.870558e+02,2.440455e+02 L8.035318e+02,2.471023e+02 L8.198887e+02,2.477075e+02 L8.361372e+02,2.509786e+02 L8.522929e+02,2.530955e+02 L8.663200e+02,2.548000e+02 \"/></g><g marker-mid=\"url(#square)\" marker-start=\"url(#square)\" stroke-linecap=\"round\" stroke-width=\"2px\" transform=\"translate(70 330 )scale(1 -1 )\" stroke=\"hsl(152, 76%, 65%)\" stroke-linejoin=\"round\" marker-end=\"url(#square)\" fill=\"none\"><path vector-effect=\"non-scaling-stroke\" d=\"M1.768000e+01,4.627053e+01 L1.365173e+02,3.263880e+01 L2.093971e+02,1.662802e+01 L2.634977e+02,2.338888e+01 L3.073165e+02,2.547410e+01 L3.448334e+02,3.752164e+01 L3.779355e+02,5.781325e+01 L4.078967e+02,8.324734e+01 L4.355033e+02,1.061429e+02 L4.612687e+02,1.207399e+02 L4.855427e+02,1.373233e+02 L5.085726e+02,1.421898e+02 L5.306039e+02,1.527413e+02 L5.518045e+02,1.612523e+02 L5.722912e+02,1.669566e+02 L5.921466e+02,1.709211e+02 L6.114698e+02,1.771074e+02 L6.303266e+02,1.883450e+02 L6.487916e+02,1.871794e+02 L6.669114e+02,1.935328e+02 L6.847383e+02,1.986585e+02 L7.023018e+02,2.037629e+02 L7.196363e+02,2.039623e+02 L7.367580e+02,2.099810e+02 L7.536877e+02,2.106877e+02 L7.704470e+02,2.155102e+02 L7.870558e+02,2.211055e+02 L8.035318e+02,2.279073e+02 L8.198887e+02,2.289123e+02 L8.361372e+02,2.300145e+02 L8.522929e+02,2.347873e+02 L8.663200e+02,2.334268e+02 \"/></g><g stroke-width=\"2px\" stroke-linecap=\"round\" stroke=\"black\" stroke-linejoin=\"round\" transform=\"translate(70 330 )scale(1 -1 )\" fill=\"none\"><path vector-effect=\"non-scaling-stroke\" d=\"M1.768000e+01,0 L1.768000e+01,-6 M1.287025e+02,0 L1.287025e+02,-6 M1.936465e+02,0 L1.936465e+02,-6 M2.397250e+02,0 L2.397250e+02,-6 M2.754663e+02,0 L2.754663e+02,-6 M3.046690e+02,0 L3.046690e+02,-6 M3.293596e+02,0 L3.293596e+02,-6 M3.507475e+02,0 L3.507475e+02,-6 M3.696130e+02,0 L3.696130e+02,-6 M3.864888e+02,0 L3.864888e+02,-6 M4.017547e+02,0 L4.017547e+02,-6 M4.975112e+02,0 L4.975112e+02,-6 M5.624552e+02,0 L5.624552e+02,-6 M6.085337e+02,0 L6.085337e+02,-6 M6.442750e+02,0 L6.442750e+02,-6 M6.734777e+02,0 L6.734777e+02,-6 M6.981683e+02,0 L6.981683e+02,-6 M7.195562e+02,0 L7.195562e+02,-6 M7.384217e+02,0 L7.384217e+02,-6 M7.552975e+02,0 L7.552975e+02,-6 M8.663200e+02,0 L8.663200e+02,-6 \"/></g><g dominant-baseline=\"hanging\" stroke=\"black\" stroke-linejoin=\"round\" font-weight=\"normal\" fill=\"black\" stroke-width=\"2px\" stroke-linecap=\"round\" transform=\"translate(70 330 )scale(1 1 )\" font-family=\"sans-serif\" font-size=\"12px\" font-style=\"normal\" text-anchor=\"middle\"><text stroke=\"none\" vector-effect=\"non-scaling-stroke\" x=\"1.768000e+01\" y=\"10\" dominant-baseline=\"hanging\">100</text><text dominant-baseline=\"hanging\" stroke=\"none\" vector-effect=\"non-scaling-stroke\" x=\"1.287025e+02\" y=\"10\">200</text><text y=\"10\" dominant-baseline=\"hanging\" stroke=\"none\" vector-effect=\"non-scaling-stroke\" x=\"1.936465e+02\">300</text><text vector-effect=\"non-scaling-stroke\" x=\"2.397250e+02\" y=\"10\" dominant-baseline=\"hanging\" stroke=\"none\">400</text><text dominant-baseline=\"hanging\" stroke=\"none\" vector-effect=\"non-scaling-stroke\" x=\"2.754663e+02\" y=\"10\">500</text><text x=\"3.046690e+02\" y=\"10\" dominant-baseline=\"hanging\" stroke=\"none\" vector-effect=\"non-scaling-stroke\">600</text><text y=\"10\" dominant-baseline=\"hanging\" stroke=\"none\" vector-effect=\"non-scaling-stroke\" x=\"3.293596e+02\">700</text><text y=\"10\" dominant-baseline=\"hanging\" stroke=\"none\" vector-effect=\"non-scaling-stroke\" x=\"3.507475e+02\">800</text><text dominant-baseline=\"hanging\" stroke=\"none\" vector-effect=\"non-scaling-stroke\" x=\"3.696130e+02\" y=\"10\">900</text><text stroke=\"none\" vector-effect=\"non-scaling-stroke\" x=\"3.864888e+02\" y=\"10\" dominant-baseline=\"hanging\">1000</text><text dominant-baseline=\"hanging\" stroke=\"none\" vector-effect=\"non-scaling-stroke\" x=\"4.017547e+02\" y=\"10\">1100</text><text stroke=\"none\" vector-effect=\"non-scaling-stroke\" x=\"4.975112e+02\" y=\"10\" dominant-baseline=\"hanging\">2000</text><text stroke=\"none\" vector-effect=\"non-scaling-stroke\" x=\"5.624552e+02\" y=\"10\" dominant-baseline=\"hanging\">3000</text><text vector-effect=\"non-scaling-stroke\" x=\"6.085337e+02\" y=\"10\" dominant-baseline=\"hanging\" stroke=\"none\">4000</text><text y=\"10\" dominant-baseline=\"hanging\" stroke=\"none\" vector-effect=\"non-scaling-stroke\" x=\"6.442750e+02\">5000</text><text dominant-baseline=\"hanging\" stroke=\"none\" vector-effect=\"non-scaling-stroke\" x=\"6.734777e+02\" y=\"10\">6000</text><text stroke=\"none\" vector-effect=\"non-scaling-stroke\" x=\"6.981683e+02\" y=\"10\" dominant-baseline=\"hanging\">7000</text><text x=\"7.195562e+02\" y=\"10\" dominant-baseline=\"hanging\" stroke=\"none\" vector-effect=\"non-scaling-stroke\">8000</text><text x=\"7.384217e+02\" y=\"10\" dominant-baseline=\"hanging\" stroke=\"none\" vector-effect=\"non-scaling-stroke\">9000</text><text x=\"7.552975e+02\" y=\"10\" dominant-baseline=\"hanging\" stroke=\"none\" vector-effect=\"non-scaling-stroke\">10000</text><text stroke=\"none\" vector-effect=\"non-scaling-stroke\" x=\"8.663200e+02\" y=\"10\" dominant-baseline=\"hanging\">20000</text></g><g transform=\"translate(70 330 )scale(1 1 )rotate(0 0 0 )\" font-family=\"sans-serif\" font-size=\"12px\" text-anchor=\"middle\" stroke-linejoin=\"round\" stroke=\"black\" stroke-width=\"2px\" stroke-linecap=\"round\" font-style=\"normal\" font-weight=\"bold\" fill=\"black\" dominant-baseline=\"baseline\"><text x=\"442\" y=\"-6\" dominant-baseline=\"baseline\" stroke=\"none\" vector-effect=\"non-scaling-stroke\">Steps</text></g><g font-family=\"sans-serif\" font-size=\"12px\" stroke=\"black\" font-style=\"normal\" fill=\"black\" stroke-width=\"2px\" transform=\"translate(70 330 )scale(1 1 )rotate(-90 0 0 )\" text-anchor=\"middle\" stroke-linejoin=\"round\" dominant-baseline=\"hanging\" font-weight=\"bold\" stroke-linecap=\"round\"><text y=\"6\" dominant-baseline=\"hanging\" stroke=\"none\" vector-effect=\"non-scaling-stroke\" x=\"130\">accuracy</text></g><g font-style=\"normal\" text-anchor=\"middle\" stroke=\"black\" stroke-linejoin=\"round\" dominant-baseline=\"hanging\" font-weight=\"bold\" stroke-width=\"2px\" font-size=\"12px\" fill=\"none\" stroke-linecap=\"round\" font-family=\"sans-serif\"><rect height=\"260\" vector-effect=\"non-scaling-stroke\" x=\"70\" y=\"70\" width=\"884\"/><g fill=\"black\" font-size=\"18px\" dominant-baseline=\"middle\"><text x=\"512\" y=\"35\" dominant-baseline=\"middle\" stroke=\"none\" vector-effect=\"non-scaling-stroke\">accuracy metrics</text></g><g stroke=\"hsl(90, 47%, 65%)\" font-size=\"12px\" font-style=\"normal\" fill=\"hsl(90, 47%, 65%)\" stroke-width=\"1px\" dominant-baseline=\"hanging\" stroke-linecap=\"round\" font-family=\"sans-serif\" font-weight=\"normal\" text-anchor=\"start\" stroke-linejoin=\"round\"><rect vector-effect=\"non-scaling-stroke\" x=\"76\" y=\"366\" width=\"12\" height=\"12\"/><g stroke=\"black\" fill=\"black\"><text stroke=\"none\" vector-effect=\"non-scaling-stroke\" x=\"92\" y=\"366\" dominant-baseline=\"hanging\">Eval on test-eval [Parallelized]: Mean Accuracy</text></g><g font-weight=\"normal\" stroke-width=\"1px\" stroke-linecap=\"round\" text-anchor=\"start\" stroke-linejoin=\"round\" font-family=\"sans-serif\" font-size=\"12px\" font-style=\"normal\" fill=\"hsl(301, 88%, 65%)\" stroke=\"hsl(301, 88%, 65%)\" dominant-baseline=\"hanging\"><rect vector-effect=\"non-scaling-stroke\" x=\"76\" y=\"384\" width=\"12\" height=\"12\"/><g fill=\"black\" stroke=\"black\"><text vector-effect=\"non-scaling-stroke\" x=\"92\" y=\"384\" dominant-baseline=\"hanging\" stroke=\"none\">Eval on train-eval [Parallelized]: Mean Accuracy</text></g><g dominant-baseline=\"hanging\" stroke=\"hsl(152, 76%, 65%)\" stroke-linecap=\"round\" font-weight=\"normal\" fill=\"hsl(152, 76%, 65%)\" text-anchor=\"start\" stroke-linejoin=\"round\" stroke-width=\"1px\" font-family=\"sans-serif\" font-size=\"12px\" font-style=\"normal\"><rect x=\"76\" y=\"402\" width=\"12\" height=\"12\" vector-effect=\"non-scaling-stroke\"/><g stroke=\"black\" fill=\"black\"><text stroke=\"none\" vector-effect=\"non-scaling-stroke\" x=\"92\" y=\"402\" dominant-baseline=\"hanging\">Train: Moving Average Accuracy</text></g></g></g></g></g></svg>\n",
       "<svg height=\"454\" viewbox=\"0 0 1024 400\" style=\"background-color:#f8f8f8\" preserveAspectRatio=\"xMidYMid meet\" xmlns=\"http://www.w3.org/2000/svg\" width=\"1024\"><defs><marker refX=\"5\" refY=\"5\" markerUnits=\"userSpaceOnUse\" markerWidth=\"2%\" markerHeight=\"2%\" id=\"circle\" viewBox=\"0 0 10 10 \"><circle cy=\"5\" r=\"3\" fill=\"none\" stroke=\"black\" cx=\"5\"/></marker><marker id=\"filled-circle\" viewBox=\"0 0 10 10 \" refX=\"5\" refY=\"5\" markerUnits=\"userSpaceOnUse\" markerWidth=\"2%\" markerHeight=\"2%\"><circle r=\"3\" fill=\"black\" stroke=\"none\" cx=\"5\" cy=\"5\"/></marker><marker id=\"square\" viewBox=\"0 0 10 10 \" refX=\"5\" refY=\"5\" markerUnits=\"userSpaceOnUse\" markerWidth=\"2%\" markerHeight=\"2%\"><rect x=\"2\" y=\"2\" width=\"6\" height=\"6\" fill=\"none\" stroke=\"black\"/></marker><marker refY=\"5\" markerUnits=\"userSpaceOnUse\" markerWidth=\"2%\" markerHeight=\"2%\" id=\"filled-square\" viewBox=\"0 0 10 10 \" refX=\"5\"><rect x=\"2\" y=\"2\" width=\"6\" height=\"6\" fill=\"black\" stroke=\"none\"/></marker></defs><g stroke=\"hsl(90, 47%, 65%)\" stroke-width=\"2px\" marker-start=\"url(#square)\" marker-mid=\"url(#square)\" fill=\"none\" stroke-linejoin=\"round\" transform=\"translate(70 330 )scale(1 -1 )\" stroke-linecap=\"round\" marker-end=\"url(#square)\"><path vector-effect=\"non-scaling-stroke\" d=\"M1.768000e+01,2.548000e+02 L1.365173e+02,2.518830e+02 L2.093971e+02,2.511231e+02 L2.634977e+02,2.514230e+02 L3.073165e+02,2.501835e+02 L3.448334e+02,2.489326e+02 L3.779355e+02,2.438323e+02 L4.078967e+02,2.318153e+02 L4.355033e+02,2.178303e+02 L4.612687e+02,2.063704e+02 L4.855427e+02,1.975001e+02 L5.085726e+02,1.916104e+02 L5.306039e+02,1.836413e+02 L5.518045e+02,1.801180e+02 L5.722912e+02,1.761320e+02 L5.921466e+02,1.725100e+02 L6.114698e+02,1.694592e+02 L6.303266e+02,1.688326e+02 L6.487916e+02,1.649595e+02 L6.669114e+02,1.597755e+02 L6.847383e+02,1.571386e+02 L7.023018e+02,1.542686e+02 L7.196363e+02,1.530313e+02 L7.367580e+02,1.508668e+02 L7.536877e+02,1.487454e+02 L7.704470e+02,1.483108e+02 L7.870558e+02,1.479165e+02 L8.035318e+02,1.497649e+02 L8.198887e+02,1.477021e+02 L8.361372e+02,1.479714e+02 L8.522929e+02,1.484666e+02 L8.663200e+02,1.505587e+02 \"/></g><g stroke-width=\"2px\" marker-mid=\"url(#square)\" stroke=\"hsl(301, 88%, 65%)\" marker-start=\"url(#square)\" transform=\"translate(70 330 )scale(1 -1 )\" fill=\"none\" stroke-linecap=\"round\" marker-end=\"url(#square)\" stroke-linejoin=\"round\"><path d=\"M1.768000e+01,2.547740e+02 L1.365173e+02,2.518389e+02 L2.093971e+02,2.510560e+02 L2.634977e+02,2.513347e+02 L3.073165e+02,2.500431e+02 L3.448334e+02,2.486887e+02 L3.779355e+02,2.431954e+02 L4.078967e+02,2.300535e+02 L4.355033e+02,2.142616e+02 L4.612687e+02,2.002458e+02 L4.855427e+02,1.893022e+02 L5.085726e+02,1.813199e+02 L5.306039e+02,1.705537e+02 L5.518045e+02,1.652156e+02 L5.722912e+02,1.588596e+02 L5.921466e+02,1.518219e+02 L6.114698e+02,1.460116e+02 L6.303266e+02,1.423520e+02 L6.487916e+02,1.347852e+02 L6.669114e+02,1.246719e+02 L6.847383e+02,1.177622e+02 L7.023018e+02,1.076745e+02 L7.196363e+02,1.049924e+02 L7.367580e+02,9.317559e+01 L7.536877e+02,8.566984e+01 L7.704470e+02,7.591418e+01 L7.870558e+02,6.437083e+01 L8.035318e+02,4.723936e+01 L8.198887e+02,4.178177e+01 L8.361372e+02,3.138887e+01 L8.522929e+02,1.471584e+01 L8.663200e+02,5.200000e+00 \" vector-effect=\"non-scaling-stroke\"/></g><g marker-start=\"url(#square)\" marker-mid=\"url(#square)\" fill=\"none\" stroke-linecap=\"round\" marker-end=\"url(#square)\" stroke=\"hsl(152, 76%, 65%)\" stroke-width=\"2px\" stroke-linejoin=\"round\" transform=\"translate(70 330 )scale(1 -1 )\"><path vector-effect=\"non-scaling-stroke\" d=\"M1.768000e+01,2.511039e+02 L1.365173e+02,2.515379e+02 L2.093971e+02,2.520546e+02 L2.634977e+02,2.513993e+02 L3.073165e+02,2.514013e+02 L3.448334e+02,2.504661e+02 L3.779355e+02,2.489452e+02 L4.078967e+02,2.447521e+02 L4.355033e+02,2.373033e+02 L4.612687e+02,2.315698e+02 L4.855427e+02,2.248668e+02 L5.085726e+02,2.196812e+02 L5.306039e+02,2.115073e+02 L5.518045e+02,2.090428e+02 L5.722912e+02,2.033390e+02 L5.921466e+02,2.002861e+02 L6.114698e+02,1.925377e+02 L6.303266e+02,1.843520e+02 L6.487916e+02,1.834252e+02 L6.669114e+02,1.748434e+02 L6.847383e+02,1.683733e+02 L7.023018e+02,1.612265e+02 L7.196363e+02,1.577413e+02 L7.367580e+02,1.486916e+02 L7.536877e+02,1.474546e+02 L7.704470e+02,1.341600e+02 L7.870558e+02,1.272858e+02 L8.035318e+02,1.099277e+02 L8.198887e+02,1.068083e+02 L8.361372e+02,1.052527e+02 L8.522929e+02,9.151550e+01 L8.663200e+02,8.782419e+01 \"/></g><g transform=\"translate(70 330 )scale(1 -1 )\" stroke=\"black\" stroke-width=\"2px\" fill=\"none\" stroke-linecap=\"round\" stroke-linejoin=\"round\"><path vector-effect=\"non-scaling-stroke\" d=\"M1.768000e+01,0 L1.768000e+01,-6 M1.287025e+02,0 L1.287025e+02,-6 M1.936465e+02,0 L1.936465e+02,-6 M2.397250e+02,0 L2.397250e+02,-6 M2.754663e+02,0 L2.754663e+02,-6 M3.046690e+02,0 L3.046690e+02,-6 M3.293596e+02,0 L3.293596e+02,-6 M3.507475e+02,0 L3.507475e+02,-6 M3.696130e+02,0 L3.696130e+02,-6 M3.864888e+02,0 L3.864888e+02,-6 M4.017547e+02,0 L4.017547e+02,-6 M4.975112e+02,0 L4.975112e+02,-6 M5.624552e+02,0 L5.624552e+02,-6 M6.085337e+02,0 L6.085337e+02,-6 M6.442750e+02,0 L6.442750e+02,-6 M6.734777e+02,0 L6.734777e+02,-6 M6.981683e+02,0 L6.981683e+02,-6 M7.195562e+02,0 L7.195562e+02,-6 M7.384217e+02,0 L7.384217e+02,-6 M7.552975e+02,0 L7.552975e+02,-6 M8.663200e+02,0 L8.663200e+02,-6 \"/></g><g text-anchor=\"middle\" font-style=\"normal\" stroke=\"black\" stroke-width=\"2px\" transform=\"translate(70 330 )scale(1 1 )\" font-size=\"12px\" fill=\"black\" stroke-linecap=\"round\" font-family=\"sans-serif\" font-weight=\"normal\" dominant-baseline=\"hanging\" stroke-linejoin=\"round\"><text x=\"1.768000e+01\" y=\"10\" dominant-baseline=\"hanging\" stroke=\"none\" vector-effect=\"non-scaling-stroke\">100</text><text x=\"1.287025e+02\" y=\"10\" dominant-baseline=\"hanging\" stroke=\"none\" vector-effect=\"non-scaling-stroke\">200</text><text dominant-baseline=\"hanging\" stroke=\"none\" vector-effect=\"non-scaling-stroke\" x=\"1.936465e+02\" y=\"10\">300</text><text stroke=\"none\" vector-effect=\"non-scaling-stroke\" x=\"2.397250e+02\" y=\"10\" dominant-baseline=\"hanging\">400</text><text stroke=\"none\" vector-effect=\"non-scaling-stroke\" x=\"2.754663e+02\" y=\"10\" dominant-baseline=\"hanging\">500</text><text y=\"10\" dominant-baseline=\"hanging\" stroke=\"none\" vector-effect=\"non-scaling-stroke\" x=\"3.046690e+02\">600</text><text y=\"10\" dominant-baseline=\"hanging\" stroke=\"none\" vector-effect=\"non-scaling-stroke\" x=\"3.293596e+02\">700</text><text y=\"10\" dominant-baseline=\"hanging\" stroke=\"none\" vector-effect=\"non-scaling-stroke\" x=\"3.507475e+02\">800</text><text stroke=\"none\" vector-effect=\"non-scaling-stroke\" x=\"3.696130e+02\" y=\"10\" dominant-baseline=\"hanging\">900</text><text dominant-baseline=\"hanging\" stroke=\"none\" vector-effect=\"non-scaling-stroke\" x=\"3.864888e+02\" y=\"10\">1000</text><text x=\"4.017547e+02\" y=\"10\" dominant-baseline=\"hanging\" stroke=\"none\" vector-effect=\"non-scaling-stroke\">1100</text><text vector-effect=\"non-scaling-stroke\" x=\"4.975112e+02\" y=\"10\" dominant-baseline=\"hanging\" stroke=\"none\">2000</text><text stroke=\"none\" vector-effect=\"non-scaling-stroke\" x=\"5.624552e+02\" y=\"10\" dominant-baseline=\"hanging\">3000</text><text vector-effect=\"non-scaling-stroke\" x=\"6.085337e+02\" y=\"10\" dominant-baseline=\"hanging\" stroke=\"none\">4000</text><text vector-effect=\"non-scaling-stroke\" x=\"6.442750e+02\" y=\"10\" dominant-baseline=\"hanging\" stroke=\"none\">5000</text><text stroke=\"none\" vector-effect=\"non-scaling-stroke\" x=\"6.734777e+02\" y=\"10\" dominant-baseline=\"hanging\">6000</text><text vector-effect=\"non-scaling-stroke\" x=\"6.981683e+02\" y=\"10\" dominant-baseline=\"hanging\" stroke=\"none\">7000</text><text x=\"7.195562e+02\" y=\"10\" dominant-baseline=\"hanging\" stroke=\"none\" vector-effect=\"non-scaling-stroke\">8000</text><text vector-effect=\"non-scaling-stroke\" x=\"7.384217e+02\" y=\"10\" dominant-baseline=\"hanging\" stroke=\"none\">9000</text><text dominant-baseline=\"hanging\" stroke=\"none\" vector-effect=\"non-scaling-stroke\" x=\"7.552975e+02\" y=\"10\">10000</text><text dominant-baseline=\"hanging\" stroke=\"none\" vector-effect=\"non-scaling-stroke\" x=\"8.663200e+02\" y=\"10\">20000</text></g><g font-size=\"12px\" font-style=\"normal\" font-weight=\"bold\" dominant-baseline=\"baseline\" stroke=\"black\" transform=\"translate(70 330 )scale(1 1 )rotate(0 0 0 )\" font-family=\"sans-serif\" text-anchor=\"middle\" stroke-width=\"2px\" stroke-linejoin=\"round\" fill=\"black\" stroke-linecap=\"round\"><text dominant-baseline=\"baseline\" stroke=\"none\" vector-effect=\"non-scaling-stroke\" x=\"442\" y=\"-6\">Steps</text></g><g fill=\"black\" stroke-linecap=\"round\" font-weight=\"bold\" stroke=\"black\" transform=\"translate(70 330 )scale(1 -1 )\" stroke-linejoin=\"round\" font-family=\"sans-serif\" text-anchor=\"middle\" font-size=\"12px\" font-style=\"normal\" dominant-baseline=\"baseline\" stroke-width=\"2px\"><path vector-effect=\"non-scaling-stroke\" d=\"M0,6.772252e+01 L-6,6.772252e+01 M0,1.278052e+02 L-6,1.278052e+02 M0,1.704345e+02 L-6,1.704345e+02 M0,2.035003e+02 L-6,2.035003e+02 M0,2.305171e+02 L-6,2.305171e+02 M0,2.533595e+02 L-6,2.533595e+02 \"/></g><g dominant-baseline=\"middle\" stroke-width=\"2px\" stroke-linejoin=\"round\" transform=\"translate(70 330 )scale(1 1 )\" fill=\"black\" stroke-linecap=\"round\" font-family=\"sans-serif\" font-style=\"normal\" text-anchor=\"end\" font-weight=\"normal\" stroke=\"black\" font-size=\"12px\"><text y=\"-6.772252e+01\" dominant-baseline=\"middle\" stroke=\"none\" vector-effect=\"non-scaling-stroke\" x=\"-10\">0.200</text><text y=\"-1.278052e+02\" dominant-baseline=\"middle\" stroke=\"none\" vector-effect=\"non-scaling-stroke\" x=\"-10\">0.300</text><text y=\"-1.704345e+02\" dominant-baseline=\"middle\" stroke=\"none\" vector-effect=\"non-scaling-stroke\" x=\"-10\">0.400</text><text y=\"-2.035003e+02\" dominant-baseline=\"middle\" stroke=\"none\" vector-effect=\"non-scaling-stroke\" x=\"-10\">0.500</text><text y=\"-2.305171e+02\" dominant-baseline=\"middle\" stroke=\"none\" vector-effect=\"non-scaling-stroke\" x=\"-10\">0.600</text><text vector-effect=\"non-scaling-stroke\" x=\"-10\" y=\"-2.533595e+02\" dominant-baseline=\"middle\" stroke=\"none\">0.700</text></g><g dominant-baseline=\"hanging\" fill=\"black\" stroke-linecap=\"round\" text-anchor=\"middle\" stroke=\"black\" stroke-width=\"2px\" font-size=\"12px\" font-weight=\"bold\" stroke-linejoin=\"round\" transform=\"translate(70 330 )scale(1 1 )rotate(-90 0 0 )\" font-style=\"normal\" font-family=\"sans-serif\"><text stroke=\"none\" vector-effect=\"non-scaling-stroke\" x=\"130\" y=\"6\" dominant-baseline=\"hanging\">loss</text></g><g font-style=\"normal\" font-weight=\"bold\" stroke-width=\"0.5px\" stroke-linejoin=\"round\" fill=\"black\" font-family=\"sans-serif\" font-size=\"12px\" dominant-baseline=\"hanging\" stroke=\"gray\" transform=\"translate(70 330 )scale(1 -1 )\" stroke-linecap=\"round\" text-anchor=\"middle\"><path vector-effect=\"non-scaling-stroke\" d=\"M0,6.772252e+01 L884,6.772252e+01 M0,1.278052e+02 L884,1.278052e+02 M0,1.704345e+02 L884,1.704345e+02 M0,2.035003e+02 L884,2.035003e+02 M0,2.305171e+02 L884,2.305171e+02 M0,2.533595e+02 L884,2.533595e+02 \"/></g><g fill=\"none\" stroke-linecap=\"round\" font-family=\"sans-serif\" font-weight=\"bold\" stroke-width=\"2px\" font-size=\"12px\" text-anchor=\"middle\" font-style=\"normal\" dominant-baseline=\"hanging\" stroke=\"black\" stroke-linejoin=\"round\"><rect y=\"70\" width=\"884\" height=\"260\" vector-effect=\"non-scaling-stroke\" x=\"70\"/><g font-size=\"18px\" dominant-baseline=\"middle\" fill=\"black\"><text stroke=\"none\" vector-effect=\"non-scaling-stroke\" x=\"512\" y=\"35\" dominant-baseline=\"middle\">loss metrics</text></g><g stroke-linejoin=\"round\" font-size=\"12px\" fill=\"hsl(90, 47%, 65%)\" stroke-linecap=\"round\" font-family=\"sans-serif\" stroke=\"hsl(90, 47%, 65%)\" dominant-baseline=\"hanging\" stroke-width=\"1px\" font-style=\"normal\" text-anchor=\"start\" font-weight=\"normal\"><rect y=\"366\" width=\"12\" height=\"12\" vector-effect=\"non-scaling-stroke\" x=\"76\"/><g stroke=\"black\" fill=\"black\"><text x=\"92\" y=\"366\" dominant-baseline=\"hanging\" stroke=\"none\" vector-effect=\"non-scaling-stroke\">Eval on test-eval [Parallelized]: Mean Loss</text></g><g fill=\"hsl(301, 88%, 65%)\" font-family=\"sans-serif\" text-anchor=\"start\" font-style=\"normal\" stroke-width=\"1px\" dominant-baseline=\"hanging\" stroke=\"hsl(301, 88%, 65%)\" stroke-linejoin=\"round\" stroke-linecap=\"round\" font-size=\"12px\" font-weight=\"normal\"><rect y=\"384\" width=\"12\" height=\"12\" vector-effect=\"non-scaling-stroke\" x=\"76\"/><g stroke=\"black\" fill=\"black\"><text y=\"384\" dominant-baseline=\"hanging\" stroke=\"none\" vector-effect=\"non-scaling-stroke\" x=\"92\">Eval on train-eval [Parallelized]: Mean Loss</text></g><g font-size=\"12px\" font-style=\"normal\" dominant-baseline=\"hanging\" stroke-width=\"1px\" fill=\"hsl(152, 76%, 65%)\" stroke-linejoin=\"round\" stroke=\"hsl(152, 76%, 65%)\" font-family=\"sans-serif\" text-anchor=\"start\" stroke-linecap=\"round\" font-weight=\"normal\"><rect height=\"12\" vector-effect=\"non-scaling-stroke\" x=\"76\" y=\"402\" width=\"12\"/><g fill=\"black\" stroke=\"black\"><text y=\"402\" dominant-baseline=\"hanging\" stroke=\"none\" vector-effect=\"non-scaling-stroke\" x=\"92\">Train: Moving Average Loss</text></g></g></g></g></g></svg>"
      ]
     },
     "metadata": {},
     "output_type": "display_data"
    },
    {
     "name": "stdout",
     "output_type": "stream",
     "text": [
      "Training (20000 steps):  100% [\u001b[32m=\u001b[0m\u001b[32m=\u001b[0m\u001b[32m=\u001b[0m\u001b[32m=\u001b[0m\u001b[32m=\u001b[0m\u001b[32m=\u001b[0m\u001b[32m=\u001b[0m\u001b[32m=\u001b[0m\u001b[32m=\u001b[0m\u001b[32m=\u001b[0m\u001b[32m=\u001b[0m\u001b[32m=\u001b[0m\u001b[32m=\u001b[0m\u001b[32m=\u001b[0m\u001b[32m=\u001b[0m\u001b[32m=\u001b[0m\u001b[32m=\u001b[0m\u001b[32m=\u001b[0m\u001b[32m=\u001b[0m\u001b[32m=\u001b[0m\u001b[32m=\u001b[0m\u001b[32m=\u001b[0m\u001b[32m=\u001b[0m\u001b[32m=\u001b[0m\u001b[32m=\u001b[0m\u001b[32m=\u001b[0m\u001b[32m=\u001b[0m\u001b[32m=\u001b[0m\u001b[32m=\u001b[0m\u001b[32m=\u001b[0m\u001b[32m=\u001b[0m\u001b[32m=\u001b[0m\u001b[32m=\u001b[0m\u001b[32m=\u001b[0m\u001b[32m=\u001b[0m\u001b[32m=\u001b[0m\u001b[32m=\u001b[0m\u001b[32m=\u001b[0m\u001b[32m=\u001b[0m\u001b[32m=\u001b[0m] (841 steps/s)\u001b[0m [loss=0.246] [~loss=0.229] [~acc=90.57%]         \n",
      "\t[Step 20000] median train step: 786 microseconds\n",
      "\n",
      "Results on train-eval [Parallelized]:\n",
      "\tMean Loss (#loss): 0.131\n",
      "\tMean Accuracy (#acc): 95.76%\n",
      "Results on test-eval [Parallelized]:\n",
      "\tMean Loss (#loss): 0.350\n",
      "\tMean Accuracy (#acc): 85.13%\n"
     ]
    }
   ],
   "source": [
    "%% --model=bow --steps=20000 --optimizer=adamw\n",
    "trainModel()"
   ]
  },
  {
   "cell_type": "markdown",
   "id": "62e0d8ed-31ed-49ba-8b6f-1518d3df8a8d",
   "metadata": {},
   "source": [
    "### CNN Model\n",
    "\n",
    "Below we redefine our CNN model function, with 2 convolution layers, and train on it.\n",
    "\n",
    "Notice how well it can overfit to the training data ... but it doesn't help the test results. To improve this one needs some careful regularization."
   ]
  },
  {
   "cell_type": "code",
   "execution_count": 18,
   "id": "2fc49c16-714c-483c-92a9-9e4fda9514d5",
   "metadata": {
    "tags": []
   },
   "outputs": [
    {
     "name": "stdout",
     "output_type": "stream",
     "text": [
      "> Loading previously generated preprocessed binary file.\n",
      "Loaded data from \"aclImdb.bin\": 100000 examples, 141088 unique tokens, 23727054 tokens in total.\n",
      "Platform: CUDA\n"
     ]
    },
    {
     "data": {
      "text/html": [
       "<svg preserveAspectRatio=\"xMidYMid meet\" xmlns=\"http://www.w3.org/2000/svg\" width=\"1024\" height=\"454\" viewbox=\"0 0 1024 400\" style=\"background-color:#f8f8f8\"><defs><marker markerWidth=\"2%\" markerHeight=\"2%\" id=\"circle\" viewBox=\"0 0 10 10 \" refX=\"5\" refY=\"5\" markerUnits=\"userSpaceOnUse\"><circle stroke=\"black\" cx=\"5\" cy=\"5\" r=\"3\" fill=\"none\"/></marker><marker refY=\"5\" markerUnits=\"userSpaceOnUse\" markerWidth=\"2%\" markerHeight=\"2%\" id=\"filled-circle\" viewBox=\"0 0 10 10 \" refX=\"5\"><circle stroke=\"none\" cx=\"5\" cy=\"5\" r=\"3\" fill=\"black\"/></marker><marker markerHeight=\"2%\" id=\"square\" viewBox=\"0 0 10 10 \" refX=\"5\" refY=\"5\" markerUnits=\"userSpaceOnUse\" markerWidth=\"2%\"><rect width=\"6\" height=\"6\" fill=\"none\" stroke=\"black\" x=\"2\" y=\"2\"/></marker><marker refY=\"5\" markerUnits=\"userSpaceOnUse\" markerWidth=\"2%\" markerHeight=\"2%\" id=\"filled-square\" viewBox=\"0 0 10 10 \" refX=\"5\"><rect height=\"6\" fill=\"black\" stroke=\"none\" x=\"2\" y=\"2\" width=\"6\"/></marker></defs><g stroke=\"hsl(90, 47%, 65%)\" stroke-linejoin=\"round\" marker-mid=\"url(#square)\" stroke-width=\"2px\" marker-end=\"url(#square)\" fill=\"none\" stroke-linecap=\"round\" marker-start=\"url(#square)\" transform=\"translate(70 330 )scale(1 -1 )\"><path vector-effect=\"non-scaling-stroke\" d=\"M1.768000e+01,7.249695e+00 L1.365173e+02,6.961713e+00 L2.093971e+02,5.200000e+00 L2.634977e+02,7.163320e+00 L3.073165e+02,7.220920e+00 L3.448334e+02,7.336049e+00 L3.779355e+02,8.341957e+00 L4.078967e+02,6.961713e+00 L4.355033e+02,1.281978e+01 L4.612687e+02,1.502391e+01 L4.855427e+02,1.729860e+01 L5.085726e+02,3.815346e+01 L5.306039e+02,8.439659e+01 L5.518045e+02,1.162342e+02 L5.722912e+02,1.393729e+02 L5.921466e+02,1.517966e+02 L6.114698e+02,1.635818e+02 L6.303266e+02,1.696078e+02 L6.487916e+02,1.746138e+02 L6.669114e+02,1.709435e+02 L6.847383e+02,1.810102e+02 L7.023018e+02,1.833643e+02 L7.196363e+02,1.750474e+02 L7.367580e+02,1.850892e+02 L7.536877e+02,1.856682e+02 L7.704470e+02,1.834702e+02 L7.870558e+02,1.819147e+02 L8.035318e+02,1.854928e+02 L8.198887e+02,1.874169e+02 L8.361372e+02,1.874344e+02 L8.522929e+02,1.859836e+02 L8.663200e+02,1.856156e+02 \"/></g><g marker-end=\"url(#square)\" fill=\"none\" stroke-linejoin=\"round\" marker-mid=\"url(#square)\" stroke-width=\"2px\" stroke-linecap=\"round\" marker-start=\"url(#square)\" stroke=\"hsl(301, 88%, 65%)\" transform=\"translate(70 330 )scale(1 -1 )\"><path vector-effect=\"non-scaling-stroke\" d=\"M1.768000e+01,7.278468e+00 L1.365173e+02,7.249695e+00 L2.093971e+02,6.327343e+00 L2.634977e+02,7.278468e+00 L3.073165e+02,7.249695e+00 L3.448334e+02,7.566197e+00 L3.779355e+02,3.333991e+01 L4.078967e+02,8.141009e+00 L4.355033e+02,4.632840e+01 L4.612687e+02,2.827106e+01 L4.855427e+02,4.779736e+01 L5.085726e+02,8.634268e+01 L5.306039e+02,1.360479e+02 L5.518045e+02,1.649771e+02 L5.722912e+02,1.848960e+02 L5.921466e+02,1.885317e+02 L6.114698e+02,2.058804e+02 L6.303266e+02,2.083413e+02 L6.487916e+02,2.189638e+02 L6.669114e+02,2.219240e+02 L6.847383e+02,2.260058e+02 L7.023018e+02,2.338797e+02 L7.196363e+02,2.330201e+02 L7.367580e+02,2.407135e+02 L7.536877e+02,2.440674e+02 L7.704470e+02,2.457030e+02 L7.870558e+02,2.469619e+02 L8.035318e+02,2.499066e+02 L8.198887e+02,2.517202e+02 L8.361372e+02,2.528564e+02 L8.522929e+02,2.540325e+02 L8.663200e+02,2.548000e+02 \"/></g><g marker-mid=\"url(#square)\" fill=\"none\" stroke=\"hsl(152, 76%, 65%)\" marker-start=\"url(#square)\" marker-end=\"url(#square)\" stroke-linejoin=\"round\" transform=\"translate(70 330 )scale(1 -1 )\" stroke-width=\"2px\" stroke-linecap=\"round\"><path vector-effect=\"non-scaling-stroke\" d=\"M1.768000e+01,1.929224e+01 L1.365173e+02,2.216516e+01 L2.093971e+02,1.781474e+01 L2.634977e+02,1.933599e+01 L3.073165e+02,2.073318e+01 L3.448334e+02,9.036989e+00 L3.779355e+02,8.828659e+00 L4.078967e+02,1.125722e+01 L4.355033e+02,1.341658e+01 L4.612687e+02,1.934370e+01 L4.855427e+02,2.639070e+01 L5.085726e+02,4.004590e+01 L5.306039e+02,7.598544e+01 L5.518045e+02,1.276456e+02 L5.722912e+02,1.524033e+02 L5.921466e+02,1.729521e+02 L6.114698e+02,1.826706e+02 L6.303266e+02,1.886588e+02 L6.487916e+02,2.022906e+02 L6.669114e+02,2.059001e+02 L6.847383e+02,2.142888e+02 L7.023018e+02,2.177302e+02 L7.196363e+02,2.220671e+02 L7.367580e+02,2.261456e+02 L7.536877e+02,2.276294e+02 L7.704470e+02,2.305487e+02 L7.870558e+02,2.333430e+02 L8.035318e+02,2.368156e+02 L8.198887e+02,2.386001e+02 L8.361372e+02,2.410942e+02 L8.522929e+02,2.447700e+02 L8.663200e+02,2.447960e+02 \"/></g><g stroke-linejoin=\"round\" transform=\"translate(70 330 )scale(1 -1 )\" stroke-width=\"2px\" stroke-linecap=\"round\" fill=\"none\" stroke=\"black\"><path d=\"M1.768000e+01,0 L1.768000e+01,-6 M1.287025e+02,0 L1.287025e+02,-6 M1.936465e+02,0 L1.936465e+02,-6 M2.397250e+02,0 L2.397250e+02,-6 M2.754663e+02,0 L2.754663e+02,-6 M3.046690e+02,0 L3.046690e+02,-6 M3.293596e+02,0 L3.293596e+02,-6 M3.507475e+02,0 L3.507475e+02,-6 M3.696130e+02,0 L3.696130e+02,-6 M3.864888e+02,0 L3.864888e+02,-6 M4.017547e+02,0 L4.017547e+02,-6 M4.975112e+02,0 L4.975112e+02,-6 M5.624552e+02,0 L5.624552e+02,-6 M6.085337e+02,0 L6.085337e+02,-6 M6.442750e+02,0 L6.442750e+02,-6 M6.734777e+02,0 L6.734777e+02,-6 M6.981683e+02,0 L6.981683e+02,-6 M7.195562e+02,0 L7.195562e+02,-6 M7.384217e+02,0 L7.384217e+02,-6 M7.552975e+02,0 L7.552975e+02,-6 M8.663200e+02,0 L8.663200e+02,-6 \" vector-effect=\"non-scaling-stroke\"/></g><g font-size=\"12px\" stroke=\"black\" stroke-linejoin=\"round\" font-family=\"sans-serif\" font-weight=\"normal\" font-style=\"normal\" dominant-baseline=\"hanging\" stroke-width=\"2px\" transform=\"translate(70 330 )scale(1 1 )\" text-anchor=\"middle\" fill=\"black\" stroke-linecap=\"round\"><text x=\"1.768000e+01\" y=\"10\" dominant-baseline=\"hanging\" stroke=\"none\" vector-effect=\"non-scaling-stroke\">100</text><text dominant-baseline=\"hanging\" stroke=\"none\" vector-effect=\"non-scaling-stroke\" x=\"1.287025e+02\" y=\"10\">200</text><text stroke=\"none\" vector-effect=\"non-scaling-stroke\" x=\"1.936465e+02\" y=\"10\" dominant-baseline=\"hanging\">300</text><text x=\"2.397250e+02\" y=\"10\" dominant-baseline=\"hanging\" stroke=\"none\" vector-effect=\"non-scaling-stroke\">400</text><text dominant-baseline=\"hanging\" stroke=\"none\" vector-effect=\"non-scaling-stroke\" x=\"2.754663e+02\" y=\"10\">500</text><text stroke=\"none\" vector-effect=\"non-scaling-stroke\" x=\"3.046690e+02\" y=\"10\" dominant-baseline=\"hanging\">600</text><text x=\"3.293596e+02\" y=\"10\" dominant-baseline=\"hanging\" stroke=\"none\" vector-effect=\"non-scaling-stroke\">700</text><text stroke=\"none\" vector-effect=\"non-scaling-stroke\" x=\"3.507475e+02\" y=\"10\" dominant-baseline=\"hanging\">800</text><text stroke=\"none\" vector-effect=\"non-scaling-stroke\" x=\"3.696130e+02\" y=\"10\" dominant-baseline=\"hanging\">900</text><text dominant-baseline=\"hanging\" stroke=\"none\" vector-effect=\"non-scaling-stroke\" x=\"3.864888e+02\" y=\"10\">1000</text><text stroke=\"none\" vector-effect=\"non-scaling-stroke\" x=\"4.017547e+02\" y=\"10\" dominant-baseline=\"hanging\">1100</text><text stroke=\"none\" vector-effect=\"non-scaling-stroke\" x=\"4.975112e+02\" y=\"10\" dominant-baseline=\"hanging\">2000</text><text stroke=\"none\" vector-effect=\"non-scaling-stroke\" x=\"5.624552e+02\" y=\"10\" dominant-baseline=\"hanging\">3000</text><text dominant-baseline=\"hanging\" stroke=\"none\" vector-effect=\"non-scaling-stroke\" x=\"6.085337e+02\" y=\"10\">4000</text><text stroke=\"none\" vector-effect=\"non-scaling-stroke\" x=\"6.442750e+02\" y=\"10\" dominant-baseline=\"hanging\">5000</text><text stroke=\"none\" vector-effect=\"non-scaling-stroke\" x=\"6.734777e+02\" y=\"10\" dominant-baseline=\"hanging\">6000</text><text x=\"6.981683e+02\" y=\"10\" dominant-baseline=\"hanging\" stroke=\"none\" vector-effect=\"non-scaling-stroke\">7000</text><text vector-effect=\"non-scaling-stroke\" x=\"7.195562e+02\" y=\"10\" dominant-baseline=\"hanging\" stroke=\"none\">8000</text><text stroke=\"none\" vector-effect=\"non-scaling-stroke\" x=\"7.384217e+02\" y=\"10\" dominant-baseline=\"hanging\">9000</text><text y=\"10\" dominant-baseline=\"hanging\" stroke=\"none\" vector-effect=\"non-scaling-stroke\" x=\"7.552975e+02\">10000</text><text x=\"8.663200e+02\" y=\"10\" dominant-baseline=\"hanging\" stroke=\"none\" vector-effect=\"non-scaling-stroke\">20000</text></g><g stroke-linecap=\"round\" dominant-baseline=\"baseline\" stroke=\"black\" font-family=\"sans-serif\" stroke-width=\"2px\" font-size=\"12px\" font-style=\"normal\" font-weight=\"bold\" text-anchor=\"middle\" fill=\"black\" stroke-linejoin=\"round\" transform=\"translate(70 330 )scale(1 1 )rotate(0 0 0 )\"><text dominant-baseline=\"baseline\" stroke=\"none\" vector-effect=\"non-scaling-stroke\" x=\"442\" y=\"-6\">Steps</text></g><g font-size=\"12px\" font-style=\"normal\" text-anchor=\"middle\" stroke=\"black\" transform=\"translate(70 330 )scale(1 1 )rotate(-90 0 0 )\" font-family=\"sans-serif\" font-weight=\"bold\" fill=\"black\" stroke-linejoin=\"round\" stroke-width=\"2px\" stroke-linecap=\"round\" dominant-baseline=\"hanging\"><text stroke=\"none\" vector-effect=\"non-scaling-stroke\" x=\"130\" y=\"6\" dominant-baseline=\"hanging\">accuracy</text></g><g stroke-linejoin=\"round\" font-family=\"sans-serif\" stroke-width=\"2px\" stroke-linecap=\"round\" stroke=\"black\" text-anchor=\"middle\" fill=\"none\" font-weight=\"bold\" font-size=\"12px\" font-style=\"normal\" dominant-baseline=\"hanging\"><rect height=\"260\" vector-effect=\"non-scaling-stroke\" x=\"70\" y=\"70\" width=\"884\"/><g fill=\"black\" dominant-baseline=\"middle\" font-size=\"18px\"><text dominant-baseline=\"middle\" stroke=\"none\" vector-effect=\"non-scaling-stroke\" x=\"512\" y=\"35\">accuracy metrics</text></g><g font-family=\"sans-serif\" stroke-width=\"1px\" font-style=\"normal\" text-anchor=\"start\" stroke-linecap=\"round\" font-size=\"12px\" dominant-baseline=\"hanging\" fill=\"hsl(90, 47%, 65%)\" stroke=\"hsl(90, 47%, 65%)\" stroke-linejoin=\"round\" font-weight=\"normal\"><rect x=\"76\" y=\"366\" width=\"12\" height=\"12\" vector-effect=\"non-scaling-stroke\"/><g fill=\"black\" stroke=\"black\"><text stroke=\"none\" vector-effect=\"non-scaling-stroke\" x=\"92\" y=\"366\" dominant-baseline=\"hanging\">Eval on test-eval [Parallelized]: Mean Accuracy</text></g><g font-size=\"12px\" font-style=\"normal\" dominant-baseline=\"hanging\" fill=\"hsl(301, 88%, 65%)\" font-family=\"sans-serif\" font-weight=\"normal\" text-anchor=\"start\" stroke=\"hsl(301, 88%, 65%)\" stroke-linejoin=\"round\" stroke-width=\"1px\" stroke-linecap=\"round\"><rect vector-effect=\"non-scaling-stroke\" x=\"76\" y=\"384\" width=\"12\" height=\"12\"/><g fill=\"black\" stroke=\"black\"><text x=\"92\" y=\"384\" dominant-baseline=\"hanging\" stroke=\"none\" vector-effect=\"non-scaling-stroke\">Eval on train-eval [Parallelized]: Mean Accuracy</text></g><g dominant-baseline=\"hanging\" font-size=\"12px\" text-anchor=\"start\" stroke=\"hsl(152, 76%, 65%)\" font-weight=\"normal\" fill=\"hsl(152, 76%, 65%)\" stroke-linejoin=\"round\" font-style=\"normal\" stroke-width=\"1px\" stroke-linecap=\"round\" font-family=\"sans-serif\"><rect y=\"402\" width=\"12\" height=\"12\" vector-effect=\"non-scaling-stroke\" x=\"76\"/><g fill=\"black\" stroke=\"black\"><text y=\"402\" dominant-baseline=\"hanging\" stroke=\"none\" vector-effect=\"non-scaling-stroke\" x=\"92\">Train: Moving Average Accuracy</text></g></g></g></g></g></svg>\n",
       "<svg preserveAspectRatio=\"xMidYMid meet\" xmlns=\"http://www.w3.org/2000/svg\" width=\"1024\" height=\"454\" viewbox=\"0 0 1024 400\" style=\"background-color:#f8f8f8\"><defs><marker refX=\"5\" refY=\"5\" markerUnits=\"userSpaceOnUse\" markerWidth=\"2%\" markerHeight=\"2%\" id=\"circle\" viewBox=\"0 0 10 10 \"><circle cx=\"5\" cy=\"5\" r=\"3\" fill=\"none\" stroke=\"black\"/></marker><marker markerWidth=\"2%\" markerHeight=\"2%\" id=\"filled-circle\" viewBox=\"0 0 10 10 \" refX=\"5\" refY=\"5\" markerUnits=\"userSpaceOnUse\"><circle stroke=\"none\" cx=\"5\" cy=\"5\" r=\"3\" fill=\"black\"/></marker><marker markerUnits=\"userSpaceOnUse\" markerWidth=\"2%\" markerHeight=\"2%\" id=\"square\" viewBox=\"0 0 10 10 \" refX=\"5\" refY=\"5\"><rect width=\"6\" height=\"6\" fill=\"none\" stroke=\"black\" x=\"2\" y=\"2\"/></marker><marker markerHeight=\"2%\" id=\"filled-square\" viewBox=\"0 0 10 10 \" refX=\"5\" refY=\"5\" markerUnits=\"userSpaceOnUse\" markerWidth=\"2%\"><rect x=\"2\" y=\"2\" width=\"6\" height=\"6\" fill=\"black\" stroke=\"none\"/></marker></defs><g marker-mid=\"url(#square)\" transform=\"translate(70 330 )scale(1 -1 )\" stroke-linecap=\"round\" stroke=\"hsl(90, 47%, 65%)\" stroke-width=\"2px\" stroke-linejoin=\"round\" marker-end=\"url(#square)\" fill=\"none\" marker-start=\"url(#square)\"><path vector-effect=\"non-scaling-stroke\" d=\"M1.768000e+01,2.548000e+02 L1.365173e+02,2.540590e+02 L2.093971e+02,2.539387e+02 L2.634977e+02,2.541807e+02 L3.073165e+02,2.540658e+02 L3.448334e+02,2.539066e+02 L3.779355e+02,2.538798e+02 L4.078967e+02,2.539164e+02 L4.355033e+02,2.538631e+02 L4.612687e+02,2.538341e+02 L4.855427e+02,2.537125e+02 L5.085726e+02,2.531176e+02 L5.306039e+02,2.493681e+02 L5.518045e+02,2.445073e+02 L5.722912e+02,2.391265e+02 L5.921466e+02,2.349607e+02 L6.114698e+02,2.301199e+02 L6.303266e+02,2.268323e+02 L6.487916e+02,2.273934e+02 L6.669114e+02,2.321902e+02 L6.847383e+02,2.242392e+02 L7.023018e+02,2.244724e+02 L7.196363e+02,2.347717e+02 L7.367580e+02,2.269937e+02 L7.536877e+02,2.276379e+02 L7.704470e+02,2.309269e+02 L7.870558e+02,2.347031e+02 L8.035318e+02,2.351878e+02 L8.198887e+02,2.346397e+02 L8.361372e+02,2.389954e+02 L8.522929e+02,2.465106e+02 L8.663200e+02,2.450643e+02 \"/></g><g marker-mid=\"url(#square)\" marker-start=\"url(#square)\" stroke-linecap=\"round\" fill=\"none\" transform=\"translate(70 330 )scale(1 -1 )\" stroke-linejoin=\"round\" marker-end=\"url(#square)\" stroke=\"hsl(301, 88%, 65%)\" stroke-width=\"2px\"><path vector-effect=\"non-scaling-stroke\" d=\"M1.768000e+01,2.547613e+02 L1.365173e+02,2.540306e+02 L2.093971e+02,2.539015e+02 L2.634977e+02,2.541432e+02 L3.073165e+02,2.540180e+02 L3.448334e+02,2.538561e+02 L3.779355e+02,2.537942e+02 L4.078967e+02,2.538020e+02 L4.355033e+02,2.537016e+02 L4.612687e+02,2.536192e+02 L4.855427e+02,2.532374e+02 L5.085726e+02,2.517613e+02 L5.306039e+02,2.422037e+02 L5.518045e+02,2.284168e+02 L5.722912e+02,2.171789e+02 L5.921466e+02,2.130489e+02 L6.114698e+02,1.982903e+02 L6.303266e+02,1.941500e+02 L6.487916e+02,1.820636e+02 L6.669114e+02,1.771684e+02 L6.847383e+02,1.687964e+02 L7.023018e+02,1.524555e+02 L7.196363e+02,1.537919e+02 L7.367580e+02,1.309367e+02 L7.536877e+02,1.187980e+02 L7.704470e+02,1.090640e+02 L7.870558e+02,9.911240e+01 L8.035318e+02,7.699304e+01 L8.198887e+02,5.940762e+01 L8.361372e+02,4.338525e+01 L8.522929e+02,1.980532e+01 L8.663200e+02,5.200000e+00 \"/></g><g transform=\"translate(70 330 )scale(1 -1 )\" fill=\"none\" stroke-linejoin=\"round\" marker-mid=\"url(#square)\" marker-end=\"url(#square)\" marker-start=\"url(#square)\" stroke-width=\"2px\" stroke-linecap=\"round\" stroke=\"hsl(152, 76%, 65%)\"><path vector-effect=\"non-scaling-stroke\" d=\"M1.768000e+01,2.543567e+02 L1.365173e+02,2.541299e+02 L2.093971e+02,2.540628e+02 L2.634977e+02,2.538780e+02 L3.073165e+02,2.539605e+02 L3.448334e+02,2.540526e+02 L3.779355e+02,2.540078e+02 L4.078967e+02,2.539999e+02 L4.355033e+02,2.539329e+02 L4.612687e+02,2.538461e+02 L4.855427e+02,2.536884e+02 L5.085726e+02,2.532418e+02 L5.306039e+02,2.502088e+02 L5.518045e+02,2.407013e+02 L5.722912e+02,2.325077e+02 L5.921466e+02,2.233736e+02 L6.114698e+02,2.180402e+02 L6.303266e+02,2.131310e+02 L6.487916e+02,2.030936e+02 L6.669114e+02,1.968545e+02 L6.847383e+02,1.876791e+02 L7.023018e+02,1.835438e+02 L7.196363e+02,1.747178e+02 L7.367580e+02,1.687039e+02 L7.536877e+02,1.631850e+02 L7.704470e+02,1.577691e+02 L7.870558e+02,1.520188e+02 L8.035318e+02,1.398731e+02 L8.198887e+02,1.316287e+02 L8.361372e+02,1.223724e+02 L8.522929e+02,1.093965e+02 L8.663200e+02,1.051415e+02 \"/></g><g stroke-width=\"2px\" stroke-linecap=\"round\" stroke-linejoin=\"round\" fill=\"none\" transform=\"translate(70 330 )scale(1 -1 )\" stroke=\"black\"><path vector-effect=\"non-scaling-stroke\" d=\"M1.768000e+01,0 L1.768000e+01,-6 M1.287025e+02,0 L1.287025e+02,-6 M1.936465e+02,0 L1.936465e+02,-6 M2.397250e+02,0 L2.397250e+02,-6 M2.754663e+02,0 L2.754663e+02,-6 M3.046690e+02,0 L3.046690e+02,-6 M3.293596e+02,0 L3.293596e+02,-6 M3.507475e+02,0 L3.507475e+02,-6 M3.696130e+02,0 L3.696130e+02,-6 M3.864888e+02,0 L3.864888e+02,-6 M4.017547e+02,0 L4.017547e+02,-6 M4.975112e+02,0 L4.975112e+02,-6 M5.624552e+02,0 L5.624552e+02,-6 M6.085337e+02,0 L6.085337e+02,-6 M6.442750e+02,0 L6.442750e+02,-6 M6.734777e+02,0 L6.734777e+02,-6 M6.981683e+02,0 L6.981683e+02,-6 M7.195562e+02,0 L7.195562e+02,-6 M7.384217e+02,0 L7.384217e+02,-6 M7.552975e+02,0 L7.552975e+02,-6 M8.663200e+02,0 L8.663200e+02,-6 \"/></g><g font-family=\"sans-serif\" dominant-baseline=\"hanging\" stroke=\"black\" stroke-width=\"2px\" text-anchor=\"middle\" fill=\"black\" transform=\"translate(70 330 )scale(1 1 )\" stroke-linejoin=\"round\" font-size=\"12px\" stroke-linecap=\"round\" font-weight=\"normal\" font-style=\"normal\"><text y=\"10\" dominant-baseline=\"hanging\" stroke=\"none\" vector-effect=\"non-scaling-stroke\" x=\"1.768000e+01\">100</text><text x=\"1.287025e+02\" y=\"10\" dominant-baseline=\"hanging\" stroke=\"none\" vector-effect=\"non-scaling-stroke\">200</text><text x=\"1.936465e+02\" y=\"10\" dominant-baseline=\"hanging\" stroke=\"none\" vector-effect=\"non-scaling-stroke\">300</text><text vector-effect=\"non-scaling-stroke\" x=\"2.397250e+02\" y=\"10\" dominant-baseline=\"hanging\" stroke=\"none\">400</text><text y=\"10\" dominant-baseline=\"hanging\" stroke=\"none\" vector-effect=\"non-scaling-stroke\" x=\"2.754663e+02\">500</text><text dominant-baseline=\"hanging\" stroke=\"none\" vector-effect=\"non-scaling-stroke\" x=\"3.046690e+02\" y=\"10\">600</text><text stroke=\"none\" vector-effect=\"non-scaling-stroke\" x=\"3.293596e+02\" y=\"10\" dominant-baseline=\"hanging\">700</text><text stroke=\"none\" vector-effect=\"non-scaling-stroke\" x=\"3.507475e+02\" y=\"10\" dominant-baseline=\"hanging\">800</text><text stroke=\"none\" vector-effect=\"non-scaling-stroke\" x=\"3.696130e+02\" y=\"10\" dominant-baseline=\"hanging\">900</text><text dominant-baseline=\"hanging\" stroke=\"none\" vector-effect=\"non-scaling-stroke\" x=\"3.864888e+02\" y=\"10\">1000</text><text y=\"10\" dominant-baseline=\"hanging\" stroke=\"none\" vector-effect=\"non-scaling-stroke\" x=\"4.017547e+02\">1100</text><text y=\"10\" dominant-baseline=\"hanging\" stroke=\"none\" vector-effect=\"non-scaling-stroke\" x=\"4.975112e+02\">2000</text><text x=\"5.624552e+02\" y=\"10\" dominant-baseline=\"hanging\" stroke=\"none\" vector-effect=\"non-scaling-stroke\">3000</text><text dominant-baseline=\"hanging\" stroke=\"none\" vector-effect=\"non-scaling-stroke\" x=\"6.085337e+02\" y=\"10\">4000</text><text stroke=\"none\" vector-effect=\"non-scaling-stroke\" x=\"6.442750e+02\" y=\"10\" dominant-baseline=\"hanging\">5000</text><text dominant-baseline=\"hanging\" stroke=\"none\" vector-effect=\"non-scaling-stroke\" x=\"6.734777e+02\" y=\"10\">6000</text><text stroke=\"none\" vector-effect=\"non-scaling-stroke\" x=\"6.981683e+02\" y=\"10\" dominant-baseline=\"hanging\">7000</text><text stroke=\"none\" vector-effect=\"non-scaling-stroke\" x=\"7.195562e+02\" y=\"10\" dominant-baseline=\"hanging\">8000</text><text vector-effect=\"non-scaling-stroke\" x=\"7.384217e+02\" y=\"10\" dominant-baseline=\"hanging\" stroke=\"none\">9000</text><text stroke=\"none\" vector-effect=\"non-scaling-stroke\" x=\"7.552975e+02\" y=\"10\" dominant-baseline=\"hanging\">10000</text><text x=\"8.663200e+02\" y=\"10\" dominant-baseline=\"hanging\" stroke=\"none\" vector-effect=\"non-scaling-stroke\">20000</text></g><g font-weight=\"bold\" text-anchor=\"middle\" stroke-linecap=\"round\" font-style=\"normal\" stroke=\"black\" stroke-width=\"2px\" font-size=\"12px\" fill=\"black\" transform=\"translate(70 330 )scale(1 1 )rotate(0 0 0 )\" stroke-linejoin=\"round\" font-family=\"sans-serif\" dominant-baseline=\"baseline\"><text dominant-baseline=\"baseline\" stroke=\"none\" vector-effect=\"non-scaling-stroke\" x=\"442\" y=\"-6\">Steps</text></g><g text-anchor=\"middle\" stroke=\"black\" stroke-width=\"2px\" stroke-linejoin=\"round\" fill=\"black\" transform=\"translate(70 330 )scale(1 -1 )\" font-size=\"12px\" font-weight=\"bold\" dominant-baseline=\"baseline\" stroke-linecap=\"round\" font-family=\"sans-serif\" font-style=\"normal\"><path vector-effect=\"non-scaling-stroke\" d=\"M0,2.152714e+01 L-6,2.152714e+01 M0,4.281510e+01 L-6,4.281510e+01 M0,5.932732e+01 L-6,5.932732e+01 M0,7.281879e+01 L-6,7.281879e+01 M0,8.422566e+01 L-6,8.422566e+01 M0,9.410675e+01 L-6,9.410675e+01 M0,1.028225e+02 L-6,1.028225e+02 M0,1.106190e+02 L-6,1.106190e+02 M0,1.619106e+02 L-6,1.619106e+02 M0,1.919143e+02 L-6,1.919143e+02 M0,2.132023e+02 L-6,2.132023e+02 M0,2.297145e+02 L-6,2.297145e+02 M0,2.432060e+02 L-6,2.432060e+02 M0,2.546128e+02 L-6,2.546128e+02 \"/></g><g font-style=\"normal\" stroke=\"black\" stroke-linejoin=\"round\" font-family=\"sans-serif\" stroke-linecap=\"round\" fill=\"black\" transform=\"translate(70 330 )scale(1 1 )\" font-size=\"12px\" font-weight=\"normal\" text-anchor=\"end\" dominant-baseline=\"middle\" stroke-width=\"2px\"><text dominant-baseline=\"middle\" stroke=\"none\" vector-effect=\"non-scaling-stroke\" x=\"-10\" y=\"-2.152714e+01\">0.030</text><text stroke=\"none\" vector-effect=\"non-scaling-stroke\" x=\"-10\" y=\"-4.281510e+01\" dominant-baseline=\"middle\">0.040</text><text stroke=\"none\" vector-effect=\"non-scaling-stroke\" x=\"-10\" y=\"-5.932732e+01\" dominant-baseline=\"middle\">0.050</text><text stroke=\"none\" vector-effect=\"non-scaling-stroke\" x=\"-10\" y=\"-7.281879e+01\" dominant-baseline=\"middle\">0.060</text><text y=\"-9.410675e+01\" dominant-baseline=\"middle\" stroke=\"none\" vector-effect=\"non-scaling-stroke\" x=\"-10\">0.080</text><text x=\"-10\" y=\"-1.106190e+02\" dominant-baseline=\"middle\" stroke=\"none\" vector-effect=\"non-scaling-stroke\">0.100</text><text x=\"-10\" y=\"-1.619106e+02\" dominant-baseline=\"middle\" stroke=\"none\" vector-effect=\"non-scaling-stroke\">0.200</text><text x=\"-10\" y=\"-1.919143e+02\" dominant-baseline=\"middle\" stroke=\"none\" vector-effect=\"non-scaling-stroke\">0.300</text><text y=\"-2.132023e+02\" dominant-baseline=\"middle\" stroke=\"none\" vector-effect=\"non-scaling-stroke\" x=\"-10\">0.400</text><text stroke=\"none\" vector-effect=\"non-scaling-stroke\" x=\"-10\" y=\"-2.297145e+02\" dominant-baseline=\"middle\">0.500</text><text dominant-baseline=\"middle\" stroke=\"none\" vector-effect=\"non-scaling-stroke\" x=\"-10\" y=\"-2.432060e+02\">0.600</text></g><g stroke-width=\"2px\" stroke-linecap=\"round\" transform=\"translate(70 330 )scale(1 1 )rotate(-90 0 0 )\" font-weight=\"bold\" stroke=\"black\" font-size=\"12px\" text-anchor=\"middle\" fill=\"black\" stroke-linejoin=\"round\" font-family=\"sans-serif\" font-style=\"normal\" dominant-baseline=\"hanging\"><text y=\"6\" dominant-baseline=\"hanging\" stroke=\"none\" vector-effect=\"non-scaling-stroke\" x=\"130\">loss</text></g><g text-anchor=\"middle\" stroke=\"gray\" stroke-linecap=\"round\" font-family=\"sans-serif\" fill=\"black\" font-weight=\"bold\" font-size=\"12px\" stroke-width=\"0.5px\" stroke-linejoin=\"round\" font-style=\"normal\" dominant-baseline=\"hanging\" transform=\"translate(70 330 )scale(1 -1 )\"><path vector-effect=\"non-scaling-stroke\" d=\"M0,2.152714e+01 L884,2.152714e+01 M0,4.281510e+01 L884,4.281510e+01 M0,5.932732e+01 L884,5.932732e+01 M0,7.281879e+01 L884,7.281879e+01 M0,8.422566e+01 L884,8.422566e+01 M0,9.410675e+01 L884,9.410675e+01 M0,1.028225e+02 L884,1.028225e+02 M0,1.106190e+02 L884,1.106190e+02 M0,1.619106e+02 L884,1.619106e+02 M0,1.919143e+02 L884,1.919143e+02 M0,2.132023e+02 L884,2.132023e+02 M0,2.297145e+02 L884,2.297145e+02 M0,2.432060e+02 L884,2.432060e+02 M0,2.546128e+02 L884,2.546128e+02 \"/></g><g stroke-width=\"2px\" font-style=\"normal\" font-size=\"12px\" font-weight=\"bold\" text-anchor=\"middle\" stroke=\"black\" stroke-linejoin=\"round\" font-family=\"sans-serif\" dominant-baseline=\"hanging\" fill=\"none\" stroke-linecap=\"round\"><rect vector-effect=\"non-scaling-stroke\" x=\"70\" y=\"70\" width=\"884\" height=\"260\"/><g font-size=\"18px\" fill=\"black\" dominant-baseline=\"middle\"><text stroke=\"none\" vector-effect=\"non-scaling-stroke\" x=\"512\" y=\"35\" dominant-baseline=\"middle\">loss metrics</text></g><g text-anchor=\"start\" dominant-baseline=\"hanging\" stroke=\"hsl(90, 47%, 65%)\" stroke-linecap=\"round\" stroke-linejoin=\"round\" font-family=\"sans-serif\" font-size=\"12px\" font-style=\"normal\" stroke-width=\"1px\" fill=\"hsl(90, 47%, 65%)\" font-weight=\"normal\"><rect vector-effect=\"non-scaling-stroke\" x=\"76\" y=\"366\" width=\"12\" height=\"12\"/><g stroke=\"black\" fill=\"black\"><text y=\"366\" dominant-baseline=\"hanging\" stroke=\"none\" vector-effect=\"non-scaling-stroke\" x=\"92\">Eval on test-eval [Parallelized]: Mean Loss</text></g><g font-size=\"12px\" font-weight=\"normal\" stroke-linecap=\"round\" stroke-linejoin=\"round\" font-family=\"sans-serif\" font-style=\"normal\" dominant-baseline=\"hanging\" text-anchor=\"start\" fill=\"hsl(301, 88%, 65%)\" stroke=\"hsl(301, 88%, 65%)\" stroke-width=\"1px\"><rect height=\"12\" vector-effect=\"non-scaling-stroke\" x=\"76\" y=\"384\" width=\"12\"/><g stroke=\"black\" fill=\"black\"><text y=\"384\" dominant-baseline=\"hanging\" stroke=\"none\" vector-effect=\"non-scaling-stroke\" x=\"92\">Eval on train-eval [Parallelized]: Mean Loss</text></g><g fill=\"hsl(152, 76%, 65%)\" font-weight=\"normal\" stroke-width=\"1px\" stroke-linejoin=\"round\" font-family=\"sans-serif\" font-style=\"normal\" font-size=\"12px\" text-anchor=\"start\" dominant-baseline=\"hanging\" stroke=\"hsl(152, 76%, 65%)\" stroke-linecap=\"round\"><rect y=\"402\" width=\"12\" height=\"12\" vector-effect=\"non-scaling-stroke\" x=\"76\"/><g stroke=\"black\" fill=\"black\"><text x=\"92\" y=\"402\" dominant-baseline=\"hanging\" stroke=\"none\" vector-effect=\"non-scaling-stroke\">Train: Moving Average Loss</text></g></g></g></g></g></svg>"
      ]
     },
     "metadata": {},
     "output_type": "display_data"
    },
    {
     "name": "stdout",
     "output_type": "stream",
     "text": [
      "Training (20000 steps):  100% [\u001b[32m=\u001b[0m\u001b[32m=\u001b[0m\u001b[32m=\u001b[0m\u001b[32m=\u001b[0m\u001b[32m=\u001b[0m\u001b[32m=\u001b[0m\u001b[32m=\u001b[0m\u001b[32m=\u001b[0m\u001b[32m=\u001b[0m\u001b[32m=\u001b[0m\u001b[32m=\u001b[0m\u001b[32m=\u001b[0m\u001b[32m=\u001b[0m\u001b[32m=\u001b[0m\u001b[32m=\u001b[0m\u001b[32m=\u001b[0m\u001b[32m=\u001b[0m\u001b[32m=\u001b[0m\u001b[32m=\u001b[0m\u001b[32m=\u001b[0m\u001b[32m=\u001b[0m\u001b[32m=\u001b[0m\u001b[32m=\u001b[0m\u001b[32m=\u001b[0m\u001b[32m=\u001b[0m\u001b[32m=\u001b[0m\u001b[32m=\u001b[0m\u001b[32m=\u001b[0m\u001b[32m=\u001b[0m\u001b[32m=\u001b[0m\u001b[32m=\u001b[0m\u001b[32m=\u001b[0m\u001b[32m=\u001b[0m\u001b[32m=\u001b[0m\u001b[32m=\u001b[0m\u001b[32m=\u001b[0m\u001b[32m=\u001b[0m\u001b[32m=\u001b[0m\u001b[32m=\u001b[0m\u001b[32m=\u001b[0m] (514 steps/s)\u001b[0m [loss=0.036] [~loss=0.093] [~acc=96.77%]        \n",
      "\t[Step 20000] median train step: 1179 microseconds\n",
      "\n",
      "Results on train-eval [Parallelized]:\n",
      "\tMean Loss (#loss): 0.024\n",
      "\tMean Accuracy (#acc): 99.50%\n",
      "Results on test-eval [Parallelized]:\n",
      "\tMean Loss (#loss): 0.615\n",
      "\tMean Accuracy (#acc): 82.09%\n"
     ]
    }
   ],
   "source": [
    "// Conv1DGraph stacks two 1D convolution layers on top of the sequence embeddings (shaped `[batch_size, sequence_len, embed_dim]`).\n",
    "func Conv1DGraph(ctx *context.Context, embed, mask *Node) *Node {\n",
    "    g := embed.Graph()\n",
    "    // 1D Convolution:\n",
    "    {\n",
    "        ctx := ctx.In(\"conv1\")\n",
    "        embed = Activation(embed)\n",
    "        embed = layers.Dropout(ctx, embed, ConstAsDType(g, DType, *flagDropoutRate))\n",
    "        embed = layers.Convolution(ctx, embed).KernelSize(7).Filters(*flagTokenEmbeddingSize).Strides(3).Done()\n",
    "        embed = Normalize(ctx, embed)\n",
    "    }\n",
    "    {\n",
    "        ctx := ctx.In(\"conv2\")\n",
    "        embed = Activation(embed)\n",
    "        embed = layers.Convolution(ctx, embed).KernelSize(7).Filters(*flagTokenEmbeddingSize).Strides(3).Done()\n",
    "        embed = Normalize(ctx, embed)\n",
    "    }\n",
    "    return embed\n",
    "}\n",
    "\n",
    "%% --model=cnn --steps=20000 --optimizer=adamw\n",
    "trainModel()"
   ]
  },
  {
   "cell_type": "markdown",
   "id": "c9adcb51-2190-4cfc-9224-07f7331bae41",
   "metadata": {},
   "source": [
    "### Transformer Model\n",
    "\n",
    "Finally a Transformer version of the model. \n",
    "\n",
    "Notice it's not significantly better than our previous simple Bag-Of-Words model. Likely because there is not enough data for the transformer to make any difference. The success of transformers in large-language-models is in large part due to the training with huge amounts of unsupervised (or self-supervised) data.\n"
   ]
  },
  {
   "cell_type": "code",
   "execution_count": 19,
   "id": "40e919bd-7029-4522-9b2f-fc64c308b671",
   "metadata": {
    "tags": []
   },
   "outputs": [
    {
     "name": "stdout",
     "output_type": "stream",
     "text": [
      "> Loading previously generated preprocessed binary file.\n",
      "Loaded data from \"aclImdb.bin\": 100000 examples, 141088 unique tokens, 23727054 tokens in total.\n",
      "Platform: CUDA\n"
     ]
    },
    {
     "data": {
      "text/html": [
       "<svg style=\"background-color:#f8f8f8\" preserveAspectRatio=\"xMidYMid meet\" xmlns=\"http://www.w3.org/2000/svg\" width=\"1024\" height=\"454\" viewbox=\"0 0 1024 400\"><defs><marker markerWidth=\"2%\" markerHeight=\"2%\" id=\"circle\" viewBox=\"0 0 10 10 \" refX=\"5\" refY=\"5\" markerUnits=\"userSpaceOnUse\"><circle cx=\"5\" cy=\"5\" r=\"3\" fill=\"none\" stroke=\"black\"/></marker><marker refX=\"5\" refY=\"5\" markerUnits=\"userSpaceOnUse\" markerWidth=\"2%\" markerHeight=\"2%\" id=\"filled-circle\" viewBox=\"0 0 10 10 \"><circle cy=\"5\" r=\"3\" fill=\"black\" stroke=\"none\" cx=\"5\"/></marker><marker markerUnits=\"userSpaceOnUse\" markerWidth=\"2%\" markerHeight=\"2%\" id=\"square\" viewBox=\"0 0 10 10 \" refX=\"5\" refY=\"5\"><rect x=\"2\" y=\"2\" width=\"6\" height=\"6\" fill=\"none\" stroke=\"black\"/></marker><marker markerWidth=\"2%\" markerHeight=\"2%\" id=\"filled-square\" viewBox=\"0 0 10 10 \" refX=\"5\" refY=\"5\" markerUnits=\"userSpaceOnUse\"><rect fill=\"black\" stroke=\"none\" x=\"2\" y=\"2\" width=\"6\" height=\"6\"/></marker></defs><g marker-end=\"url(#square)\" fill=\"none\" stroke-width=\"2px\" stroke-linecap=\"round\" stroke=\"hsl(90, 47%, 65%)\" stroke-linejoin=\"round\" marker-mid=\"url(#square)\" transform=\"translate(70 330 )scale(1 -1 )\" marker-start=\"url(#square)\"><path d=\"M1.768000e+01,5.200000e+00 L2.028024e+02,5.200000e+00 L3.163331e+02,9.872922e+01 L4.006098e+02,1.743875e+02 L4.688700e+02,1.902368e+02 L5.273131e+02,1.951170e+02 L5.788788e+02,1.837844e+02 L6.255518e+02,2.041321e+02 L6.685569e+02,2.092152e+02 L7.086936e+02,2.120872e+02 L7.465071e+02,2.137010e+02 L7.823827e+02,2.096447e+02 L8.167026e+02,2.132229e+02 L8.497284e+02,2.119450e+02 L8.663200e+02,2.102880e+02 \" vector-effect=\"non-scaling-stroke\"/></g><g transform=\"translate(70 330 )scale(1 -1 )\" stroke-width=\"2px\" marker-mid=\"url(#square)\" marker-end=\"url(#square)\" stroke-linejoin=\"round\" stroke=\"hsl(301, 88%, 65%)\" stroke-linecap=\"round\" marker-start=\"url(#square)\" fill=\"none\"><path vector-effect=\"non-scaling-stroke\" d=\"M1.768000e+01,5.200000e+00 L2.028024e+02,5.200000e+00 L3.163331e+02,1.324666e+02 L4.006098e+02,1.979306e+02 L4.688700e+02,2.147260e+02 L5.273131e+02,2.208538e+02 L5.788788e+02,2.108768e+02 L6.255518e+02,2.325190e+02 L6.685569e+02,2.384860e+02 L7.086936e+02,2.425442e+02 L7.465071e+02,2.456004e+02 L7.823827e+02,2.462348e+02 L8.167026e+02,2.521849e+02 L8.497284e+02,2.547682e+02 L8.663200e+02,2.548000e+02 \"/></g><g marker-end=\"url(#square)\" stroke-width=\"2px\" stroke-linecap=\"round\" marker-start=\"url(#square)\" marker-mid=\"url(#square)\" stroke=\"hsl(152, 76%, 65%)\" stroke-linejoin=\"round\" transform=\"translate(70 330 )scale(1 -1 )\" fill=\"none\"><path vector-effect=\"non-scaling-stroke\" d=\"M1.768000e+01,2.572847e+01 L2.028024e+02,2.302037e+01 L3.163331e+02,4.653409e+01 L4.006098e+02,1.412423e+02 L4.688700e+02,1.895651e+02 L5.273131e+02,2.111866e+02 L5.788788e+02,2.196510e+02 L6.255518e+02,2.274567e+02 L6.685569e+02,2.316097e+02 L7.086936e+02,2.376136e+02 L7.465071e+02,2.414499e+02 L7.823827e+02,2.431452e+02 L8.167026e+02,2.465363e+02 L8.497284e+02,2.514867e+02 L8.663200e+02,2.512975e+02 \"/></g><g fill=\"none\" stroke-width=\"2px\" stroke-linecap=\"round\" stroke=\"black\" stroke-linejoin=\"round\" transform=\"translate(70 330 )scale(1 -1 )\"><path vector-effect=\"non-scaling-stroke\" d=\"M1.768000e+01,0 L1.768000e+01,-6 M1.906286e+02,0 L1.906286e+02,-6 M2.917971e+02,0 L2.917971e+02,-6 M3.635773e+02,0 L3.635773e+02,-6 M4.192543e+02,0 L4.192543e+02,-6 M4.647457e+02,0 L4.647457e+02,-6 M5.032082e+02,0 L5.032082e+02,-6 M5.365259e+02,0 L5.365259e+02,-6 M5.659142e+02,0 L5.659142e+02,-6 M5.922029e+02,0 L5.922029e+02,-6 M6.159840e+02,0 L6.159840e+02,-6 M7.651515e+02,0 L7.651515e+02,-6 M8.663200e+02,0 L8.663200e+02,-6 \"/></g><g font-size=\"12px\" text-anchor=\"middle\" stroke-width=\"2px\" stroke-linecap=\"round\" font-family=\"sans-serif\" font-weight=\"normal\" stroke-linejoin=\"round\" transform=\"translate(70 330 )scale(1 1 )\" fill=\"black\" font-style=\"normal\" dominant-baseline=\"hanging\" stroke=\"black\"><text stroke=\"none\" vector-effect=\"non-scaling-stroke\" x=\"1.768000e+01\" y=\"10\" dominant-baseline=\"hanging\">100</text><text stroke=\"none\" vector-effect=\"non-scaling-stroke\" x=\"1.906286e+02\" y=\"10\" dominant-baseline=\"hanging\">200</text><text y=\"10\" dominant-baseline=\"hanging\" stroke=\"none\" vector-effect=\"non-scaling-stroke\" x=\"2.917971e+02\">300</text><text vector-effect=\"non-scaling-stroke\" x=\"3.635773e+02\" y=\"10\" dominant-baseline=\"hanging\" stroke=\"none\">400</text><text stroke=\"none\" vector-effect=\"non-scaling-stroke\" x=\"4.192543e+02\" y=\"10\" dominant-baseline=\"hanging\">500</text><text dominant-baseline=\"hanging\" stroke=\"none\" vector-effect=\"non-scaling-stroke\" x=\"4.647457e+02\" y=\"10\">600</text><text y=\"10\" dominant-baseline=\"hanging\" stroke=\"none\" vector-effect=\"non-scaling-stroke\" x=\"5.032082e+02\">700</text><text y=\"10\" dominant-baseline=\"hanging\" stroke=\"none\" vector-effect=\"non-scaling-stroke\" x=\"5.365259e+02\">800</text><text x=\"5.659142e+02\" y=\"10\" dominant-baseline=\"hanging\" stroke=\"none\" vector-effect=\"non-scaling-stroke\">900</text><text stroke=\"none\" vector-effect=\"non-scaling-stroke\" x=\"5.922029e+02\" y=\"10\" dominant-baseline=\"hanging\">1000</text><text dominant-baseline=\"hanging\" stroke=\"none\" vector-effect=\"non-scaling-stroke\" x=\"6.159840e+02\" y=\"10\">1100</text><text stroke=\"none\" vector-effect=\"non-scaling-stroke\" x=\"7.651515e+02\" y=\"10\" dominant-baseline=\"hanging\">2000</text><text x=\"8.663200e+02\" y=\"10\" dominant-baseline=\"hanging\" stroke=\"none\" vector-effect=\"non-scaling-stroke\">3000</text></g><g stroke-width=\"2px\" stroke-linecap=\"round\" font-family=\"sans-serif\" fill=\"black\" font-size=\"12px\" font-style=\"normal\" font-weight=\"bold\" stroke-linejoin=\"round\" transform=\"translate(70 330 )scale(1 1 )rotate(0 0 0 )\" text-anchor=\"middle\" dominant-baseline=\"baseline\" stroke=\"black\"><text vector-effect=\"non-scaling-stroke\" x=\"442\" y=\"-6\" dominant-baseline=\"baseline\" stroke=\"none\">Steps</text></g><g stroke-linecap=\"round\" stroke-linejoin=\"round\" transform=\"translate(70 330 )scale(1 1 )rotate(-90 0 0 )\" font-style=\"normal\" fill=\"black\" stroke-width=\"2px\" text-anchor=\"middle\" dominant-baseline=\"hanging\" stroke=\"black\" font-family=\"sans-serif\" font-weight=\"bold\" font-size=\"12px\"><text x=\"130\" y=\"6\" dominant-baseline=\"hanging\" stroke=\"none\" vector-effect=\"non-scaling-stroke\">accuracy</text></g><g font-style=\"normal\" text-anchor=\"middle\" stroke=\"black\" stroke-linejoin=\"round\" font-family=\"sans-serif\" fill=\"none\" stroke-width=\"2px\" stroke-linecap=\"round\" font-size=\"12px\" dominant-baseline=\"hanging\" font-weight=\"bold\"><rect y=\"70\" width=\"884\" height=\"260\" vector-effect=\"non-scaling-stroke\" x=\"70\"/><g fill=\"black\" font-size=\"18px\" dominant-baseline=\"middle\"><text stroke=\"none\" vector-effect=\"non-scaling-stroke\" x=\"512\" y=\"35\" dominant-baseline=\"middle\">accuracy metrics</text></g><g fill=\"hsl(90, 47%, 65%)\" stroke-width=\"1px\" stroke-linecap=\"round\" font-style=\"normal\" font-size=\"12px\" font-weight=\"normal\" dominant-baseline=\"hanging\" stroke=\"hsl(90, 47%, 65%)\" stroke-linejoin=\"round\" text-anchor=\"start\" font-family=\"sans-serif\"><rect height=\"12\" vector-effect=\"non-scaling-stroke\" x=\"76\" y=\"366\" width=\"12\"/><g stroke=\"black\" fill=\"black\"><text vector-effect=\"non-scaling-stroke\" x=\"92\" y=\"366\" dominant-baseline=\"hanging\" stroke=\"none\">Eval on test-eval [Parallelized]: Mean Accuracy</text></g><g font-style=\"normal\" stroke-linejoin=\"round\" stroke-width=\"1px\" stroke-linecap=\"round\" font-family=\"sans-serif\" dominant-baseline=\"hanging\" stroke=\"hsl(301, 88%, 65%)\" font-size=\"12px\" font-weight=\"normal\" fill=\"hsl(301, 88%, 65%)\" text-anchor=\"start\"><rect vector-effect=\"non-scaling-stroke\" x=\"76\" y=\"384\" width=\"12\" height=\"12\"/><g stroke=\"black\" fill=\"black\"><text stroke=\"none\" vector-effect=\"non-scaling-stroke\" x=\"92\" y=\"384\" dominant-baseline=\"hanging\">Eval on train-eval [Parallelized]: Mean Accuracy</text></g><g stroke=\"hsl(152, 76%, 65%)\" stroke-linejoin=\"round\" font-family=\"sans-serif\" font-style=\"normal\" fill=\"hsl(152, 76%, 65%)\" stroke-width=\"1px\" font-size=\"12px\" dominant-baseline=\"hanging\" font-weight=\"normal\" stroke-linecap=\"round\" text-anchor=\"start\"><rect y=\"402\" width=\"12\" height=\"12\" vector-effect=\"non-scaling-stroke\" x=\"76\"/><g stroke=\"black\" fill=\"black\"><text stroke=\"none\" vector-effect=\"non-scaling-stroke\" x=\"92\" y=\"402\" dominant-baseline=\"hanging\">Train: Moving Average Accuracy</text></g></g></g></g></g></svg>\n",
       "<svg viewbox=\"0 0 1024 400\" style=\"background-color:#f8f8f8\" preserveAspectRatio=\"xMidYMid meet\" xmlns=\"http://www.w3.org/2000/svg\" width=\"1024\" height=\"454\"><defs><marker viewBox=\"0 0 10 10 \" refX=\"5\" refY=\"5\" markerUnits=\"userSpaceOnUse\" markerWidth=\"2%\" markerHeight=\"2%\" id=\"circle\"><circle fill=\"none\" stroke=\"black\" cx=\"5\" cy=\"5\" r=\"3\"/></marker><marker id=\"filled-circle\" viewBox=\"0 0 10 10 \" refX=\"5\" refY=\"5\" markerUnits=\"userSpaceOnUse\" markerWidth=\"2%\" markerHeight=\"2%\"><circle fill=\"black\" stroke=\"none\" cx=\"5\" cy=\"5\" r=\"3\"/></marker><marker markerWidth=\"2%\" markerHeight=\"2%\" id=\"square\" viewBox=\"0 0 10 10 \" refX=\"5\" refY=\"5\" markerUnits=\"userSpaceOnUse\"><rect fill=\"none\" stroke=\"black\" x=\"2\" y=\"2\" width=\"6\" height=\"6\"/></marker><marker viewBox=\"0 0 10 10 \" refX=\"5\" refY=\"5\" markerUnits=\"userSpaceOnUse\" markerWidth=\"2%\" markerHeight=\"2%\" id=\"filled-square\"><rect x=\"2\" y=\"2\" width=\"6\" height=\"6\" fill=\"black\" stroke=\"none\"/></marker></defs><g stroke-linejoin=\"round\" marker-mid=\"url(#square)\" transform=\"translate(70 330 )scale(1 -1 )\" stroke=\"hsl(90, 47%, 65%)\" stroke-width=\"2px\" stroke-linecap=\"round\" marker-start=\"url(#square)\" fill=\"none\" marker-end=\"url(#square)\"><path vector-effect=\"non-scaling-stroke\" d=\"M1.768000e+01,2.535556e+02 L2.028024e+02,2.548000e+02 L3.163331e+02,2.438111e+02 L4.006098e+02,2.040658e+02 L4.688700e+02,1.869143e+02 L5.273131e+02,1.852906e+02 L5.788788e+02,2.003880e+02 L6.255518e+02,1.650924e+02 L6.685569e+02,1.530993e+02 L7.086936e+02,1.576898e+02 L7.465071e+02,1.545672e+02 L7.823827e+02,1.646014e+02 L8.167026e+02,1.679431e+02 L8.497284e+02,1.754176e+02 L8.663200e+02,1.708994e+02 \"/></g><g stroke=\"hsl(301, 88%, 65%)\" stroke-linecap=\"round\" marker-start=\"url(#square)\" marker-end=\"url(#square)\" marker-mid=\"url(#square)\" stroke-width=\"2px\" transform=\"translate(70 330 )scale(1 -1 )\" fill=\"none\" stroke-linejoin=\"round\"><path vector-effect=\"non-scaling-stroke\" d=\"M1.768000e+01,2.532732e+02 L2.028024e+02,2.544017e+02 L3.163331e+02,2.377030e+02 L4.006098e+02,1.816580e+02 L4.688700e+02,1.509058e+02 L5.273131e+02,1.398082e+02 L5.788788e+02,1.506116e+02 L6.255518e+02,1.020264e+02 L6.685569e+02,8.142697e+01 L7.086936e+02,7.020556e+01 L7.465071e+02,5.602917e+01 L7.823827e+02,4.873159e+01 L8.167026e+02,2.362936e+01 L8.497284e+02,5.825039e+00 L8.663200e+02,5.200000e+00 \"/></g><g stroke-linecap=\"round\" stroke=\"hsl(152, 76%, 65%)\" stroke-width=\"2px\" stroke-linejoin=\"round\" marker-mid=\"url(#square)\" marker-start=\"url(#square)\" marker-end=\"url(#square)\" transform=\"translate(70 330 )scale(1 -1 )\" fill=\"none\"><path vector-effect=\"non-scaling-stroke\" d=\"M1.768000e+01,2.534999e+02 L2.028024e+02,2.533131e+02 L3.163331e+02,2.514819e+02 L4.006098e+02,2.225785e+02 L4.688700e+02,1.872331e+02 L5.273131e+02,1.559425e+02 L5.788788e+02,1.366366e+02 L6.255518e+02,1.193926e+02 L6.685569e+02,1.059822e+02 L7.086936e+02,9.023644e+01 L7.465071e+02,7.493950e+01 L7.823827e+02,6.638106e+01 L8.167026e+02,5.085554e+01 L8.497284e+02,2.652232e+01 L8.663200e+02,3.071126e+01 \"/></g><g fill=\"none\" stroke=\"black\" stroke-width=\"2px\" stroke-linecap=\"round\" transform=\"translate(70 330 )scale(1 -1 )\" stroke-linejoin=\"round\"><path vector-effect=\"non-scaling-stroke\" d=\"M1.768000e+01,0 L1.768000e+01,-6 M1.906286e+02,0 L1.906286e+02,-6 M2.917971e+02,0 L2.917971e+02,-6 M3.635773e+02,0 L3.635773e+02,-6 M4.192543e+02,0 L4.192543e+02,-6 M4.647457e+02,0 L4.647457e+02,-6 M5.032082e+02,0 L5.032082e+02,-6 M5.365259e+02,0 L5.365259e+02,-6 M5.659142e+02,0 L5.659142e+02,-6 M5.922029e+02,0 L5.922029e+02,-6 M6.159840e+02,0 L6.159840e+02,-6 M7.651515e+02,0 L7.651515e+02,-6 M8.663200e+02,0 L8.663200e+02,-6 \"/></g><g stroke=\"black\" stroke-width=\"2px\" stroke-linecap=\"round\" stroke-linejoin=\"round\" text-anchor=\"middle\" dominant-baseline=\"hanging\" fill=\"black\" font-size=\"12px\" font-family=\"sans-serif\" font-style=\"normal\" font-weight=\"normal\" transform=\"translate(70 330 )scale(1 1 )\"><text y=\"10\" dominant-baseline=\"hanging\" stroke=\"none\" vector-effect=\"non-scaling-stroke\" x=\"1.768000e+01\">100</text><text dominant-baseline=\"hanging\" stroke=\"none\" vector-effect=\"non-scaling-stroke\" x=\"1.906286e+02\" y=\"10\">200</text><text vector-effect=\"non-scaling-stroke\" x=\"2.917971e+02\" y=\"10\" dominant-baseline=\"hanging\" stroke=\"none\">300</text><text vector-effect=\"non-scaling-stroke\" x=\"3.635773e+02\" y=\"10\" dominant-baseline=\"hanging\" stroke=\"none\">400</text><text x=\"4.192543e+02\" y=\"10\" dominant-baseline=\"hanging\" stroke=\"none\" vector-effect=\"non-scaling-stroke\">500</text><text dominant-baseline=\"hanging\" stroke=\"none\" vector-effect=\"non-scaling-stroke\" x=\"4.647457e+02\" y=\"10\">600</text><text y=\"10\" dominant-baseline=\"hanging\" stroke=\"none\" vector-effect=\"non-scaling-stroke\" x=\"5.032082e+02\">700</text><text x=\"5.365259e+02\" y=\"10\" dominant-baseline=\"hanging\" stroke=\"none\" vector-effect=\"non-scaling-stroke\">800</text><text x=\"5.659142e+02\" y=\"10\" dominant-baseline=\"hanging\" stroke=\"none\" vector-effect=\"non-scaling-stroke\">900</text><text dominant-baseline=\"hanging\" stroke=\"none\" vector-effect=\"non-scaling-stroke\" x=\"5.922029e+02\" y=\"10\">1000</text><text x=\"6.159840e+02\" y=\"10\" dominant-baseline=\"hanging\" stroke=\"none\" vector-effect=\"non-scaling-stroke\">1100</text><text dominant-baseline=\"hanging\" stroke=\"none\" vector-effect=\"non-scaling-stroke\" x=\"7.651515e+02\" y=\"10\">2000</text><text x=\"8.663200e+02\" y=\"10\" dominant-baseline=\"hanging\" stroke=\"none\" vector-effect=\"non-scaling-stroke\">3000</text></g><g font-weight=\"bold\" stroke-width=\"2px\" stroke-linecap=\"round\" fill=\"black\" stroke=\"black\" transform=\"translate(70 330 )scale(1 1 )rotate(0 0 0 )\" stroke-linejoin=\"round\" font-family=\"sans-serif\" font-style=\"normal\" text-anchor=\"middle\" dominant-baseline=\"baseline\" font-size=\"12px\"><text dominant-baseline=\"baseline\" stroke=\"none\" vector-effect=\"non-scaling-stroke\" x=\"442\" y=\"-6\">Steps</text></g><g stroke=\"black\" font-weight=\"bold\" font-family=\"sans-serif\" stroke-width=\"2px\" fill=\"black\" font-size=\"12px\" text-anchor=\"middle\" dominant-baseline=\"baseline\" font-style=\"normal\" stroke-linejoin=\"round\" stroke-linecap=\"round\" transform=\"translate(70 330 )scale(1 -1 )\"><path vector-effect=\"non-scaling-stroke\" d=\"M0,6.584387e+01 L-6,6.584387e+01 M0,1.270883e+02 L-6,1.270883e+02 M0,1.705420e+02 L-6,1.705420e+02 M0,2.042472e+02 L-6,2.042472e+02 M0,2.317865e+02 L-6,2.317865e+02 \"/></g><g font-size=\"12px\" text-anchor=\"end\" font-style=\"normal\" font-weight=\"normal\" dominant-baseline=\"middle\" fill=\"black\" stroke=\"black\" stroke-width=\"2px\" stroke-linejoin=\"round\" font-family=\"sans-serif\" stroke-linecap=\"round\" transform=\"translate(70 330 )scale(1 1 )\"><text x=\"-10\" y=\"-6.584387e+01\" dominant-baseline=\"middle\" stroke=\"none\" vector-effect=\"non-scaling-stroke\">0.200</text><text stroke=\"none\" vector-effect=\"non-scaling-stroke\" x=\"-10\" y=\"-1.270883e+02\" dominant-baseline=\"middle\">0.300</text><text vector-effect=\"non-scaling-stroke\" x=\"-10\" y=\"-1.705420e+02\" dominant-baseline=\"middle\" stroke=\"none\">0.400</text><text dominant-baseline=\"middle\" stroke=\"none\" vector-effect=\"non-scaling-stroke\" x=\"-10\" y=\"-2.042472e+02\">0.500</text><text stroke=\"none\" vector-effect=\"non-scaling-stroke\" x=\"-10\" y=\"-2.317865e+02\" dominant-baseline=\"middle\">0.600</text></g><g font-style=\"normal\" font-weight=\"bold\" font-size=\"12px\" text-anchor=\"middle\" dominant-baseline=\"hanging\" stroke-linecap=\"round\" font-family=\"sans-serif\" fill=\"black\" stroke=\"black\" stroke-width=\"2px\" transform=\"translate(70 330 )scale(1 1 )rotate(-90 0 0 )\" stroke-linejoin=\"round\"><text y=\"6\" dominant-baseline=\"hanging\" stroke=\"none\" vector-effect=\"non-scaling-stroke\" x=\"130\">loss</text></g><g text-anchor=\"middle\" fill=\"black\" stroke=\"gray\" transform=\"translate(70 330 )scale(1 -1 )\" font-size=\"12px\" stroke-width=\"0.5px\" font-weight=\"bold\" stroke-linejoin=\"round\" font-family=\"sans-serif\" font-style=\"normal\" stroke-linecap=\"round\" dominant-baseline=\"hanging\"><path d=\"M0,6.584387e+01 L884,6.584387e+01 M0,1.270883e+02 L884,1.270883e+02 M0,1.705420e+02 L884,1.705420e+02 M0,2.042472e+02 L884,2.042472e+02 M0,2.317865e+02 L884,2.317865e+02 \" vector-effect=\"non-scaling-stroke\"/></g><g dominant-baseline=\"hanging\" fill=\"none\" stroke-linejoin=\"round\" font-family=\"sans-serif\" font-style=\"normal\" font-weight=\"bold\" font-size=\"12px\" text-anchor=\"middle\" stroke-width=\"2px\" stroke-linecap=\"round\" stroke=\"black\"><rect width=\"884\" height=\"260\" vector-effect=\"non-scaling-stroke\" x=\"70\" y=\"70\"/><g fill=\"black\" font-size=\"18px\" dominant-baseline=\"middle\"><text y=\"35\" dominant-baseline=\"middle\" stroke=\"none\" vector-effect=\"non-scaling-stroke\" x=\"512\">loss metrics</text></g><g stroke-width=\"1px\" font-size=\"12px\" font-weight=\"normal\" stroke-linejoin=\"round\" stroke-linecap=\"round\" text-anchor=\"start\" dominant-baseline=\"hanging\" fill=\"hsl(90, 47%, 65%)\" stroke=\"hsl(90, 47%, 65%)\" font-style=\"normal\" font-family=\"sans-serif\"><rect x=\"76\" y=\"366\" width=\"12\" height=\"12\" vector-effect=\"non-scaling-stroke\"/><g fill=\"black\" stroke=\"black\"><text x=\"92\" y=\"366\" dominant-baseline=\"hanging\" stroke=\"none\" vector-effect=\"non-scaling-stroke\">Eval on test-eval [Parallelized]: Mean Loss</text></g><g font-weight=\"normal\" font-family=\"sans-serif\" font-style=\"normal\" stroke-linecap=\"round\" stroke=\"hsl(301, 88%, 65%)\" stroke-width=\"1px\" stroke-linejoin=\"round\" font-size=\"12px\" text-anchor=\"start\" dominant-baseline=\"hanging\" fill=\"hsl(301, 88%, 65%)\"><rect y=\"384\" width=\"12\" height=\"12\" vector-effect=\"non-scaling-stroke\" x=\"76\"/><g fill=\"black\" stroke=\"black\"><text y=\"384\" dominant-baseline=\"hanging\" stroke=\"none\" vector-effect=\"non-scaling-stroke\" x=\"92\">Eval on train-eval [Parallelized]: Mean Loss</text></g><g font-weight=\"normal\" font-style=\"normal\" stroke-linecap=\"round\" stroke=\"hsl(152, 76%, 65%)\" fill=\"hsl(152, 76%, 65%)\" stroke-width=\"1px\" stroke-linejoin=\"round\" font-family=\"sans-serif\" font-size=\"12px\" text-anchor=\"start\" dominant-baseline=\"hanging\"><rect x=\"76\" y=\"402\" width=\"12\" height=\"12\" vector-effect=\"non-scaling-stroke\"/><g fill=\"black\" stroke=\"black\"><text dominant-baseline=\"hanging\" stroke=\"none\" vector-effect=\"non-scaling-stroke\" x=\"92\" y=\"402\">Train: Moving Average Loss</text></g></g></g></g></g></svg>"
      ]
     },
     "metadata": {},
     "output_type": "display_data"
    },
    {
     "name": "stdout",
     "output_type": "stream",
     "text": [
      "Training (3000 steps):  100% [\u001b[32m=\u001b[0m\u001b[32m=\u001b[0m\u001b[32m=\u001b[0m\u001b[32m=\u001b[0m\u001b[32m=\u001b[0m\u001b[32m=\u001b[0m\u001b[32m=\u001b[0m\u001b[32m=\u001b[0m\u001b[32m=\u001b[0m\u001b[32m=\u001b[0m\u001b[32m=\u001b[0m\u001b[32m=\u001b[0m\u001b[32m=\u001b[0m\u001b[32m=\u001b[0m\u001b[32m=\u001b[0m\u001b[32m=\u001b[0m\u001b[32m=\u001b[0m\u001b[32m=\u001b[0m\u001b[32m=\u001b[0m\u001b[32m=\u001b[0m\u001b[32m=\u001b[0m\u001b[32m=\u001b[0m\u001b[32m=\u001b[0m\u001b[32m=\u001b[0m\u001b[32m=\u001b[0m\u001b[32m=\u001b[0m\u001b[32m=\u001b[0m\u001b[32m=\u001b[0m\u001b[32m=\u001b[0m\u001b[32m=\u001b[0m\u001b[32m=\u001b[0m\u001b[32m=\u001b[0m\u001b[32m=\u001b[0m\u001b[32m=\u001b[0m\u001b[32m=\u001b[0m\u001b[32m=\u001b[0m\u001b[32m=\u001b[0m\u001b[32m=\u001b[0m\u001b[32m=\u001b[0m\u001b[32m=\u001b[0m] (9 steps/s)\u001b[0m [loss=0.286] [~loss=0.158] [~acc=95.25%]           \n",
      "\t[Step 3000] median train step: 100427 microseconds\n",
      "\n",
      "Results on train-eval [Parallelized]:\n",
      "\tMean Loss (#loss): 0.134\n",
      "\tMean Accuracy (#acc): 96.12%\n",
      "Results on test-eval [Parallelized]:\n",
      "\tMean Loss (#loss): 0.401\n",
      "\tMean Accuracy (#acc): 85.55%\n"
     ]
    }
   ],
   "source": [
    "var (\n",
    "    flagMaxAttLen           = flag.Int(\"max_att_len\", 200, \"Maximum attention length: input will be split in ranges of this size.\")\n",
    "    flagNumAttHeads         = flag.Int(\"att_heads\", 2, \"Number of attention heads, if --model=transformer.\")\n",
    "    flagNumAttLayers        = flag.Int(\"att_layers\", 1, \"Number of stacked attention layers, if --model=transformer.\")\n",
    "    flagAttKeyQueryEmbedDim = flag.Int(\"att_key_dim\", 8, \"Dimension of the Key/Query attention embedding.\")    \n",
    ")\n",
    "\n",
    "// TransformerGraph is the part of the model that takes the word/token embeddings to a tranformed\n",
    "// embedding through attention ready to be pooled and read out.\n",
    "func TransformerGraph(ctx *context.Context, input, embed, mask *Node) *Node {\n",
    "    var newEmbed *Node\n",
    "    if *flagMaxAttLen >= *flagMaxLen {\n",
    "        // One transformer window covers the whole length, which makes it trivial.\n",
    "        newEmbed = TransformerLayers(ctx.In(\"transformer\"), embed, mask)\n",
    "        embed = Add(embed, newEmbed)\n",
    "        return embed\n",
    "    }\n",
    "\n",
    "    // Split embedding in multiple split embeddings and apply transformer in each of them.\n",
    "    attLen := *flagMaxAttLen\n",
    "    sequenceFrom := 0\n",
    "    for {\n",
    "        // x.shape = [batchSize, sequence, embedding]\n",
    "        sequenceTo := sequenceFrom + attLen\n",
    "        if sequenceTo > *flagMaxLen {\n",
    "            sequenceTo = *flagMaxLen\n",
    "            sequenceFrom = sequenceTo - attLen\n",
    "        }\n",
    "        // part = x[:, sequenceFrom:sequenceTo, :]\n",
    "        residual := Slice(embed, AxisRange(), AxisRange(sequenceFrom, sequenceTo), AxisRange())\n",
    "        partMask := Slice(mask, AxisRange(), AxisRange(sequenceFrom, sequenceTo))\n",
    "        // Reuse \"transformer\" scope.\n",
    "        part := TransformerLayers(ctx.In(\"transformer\").Checked(false), residual, partMask)\n",
    "        part = Add(residual, part)\n",
    "        if newEmbed == nil {\n",
    "            newEmbed = part\n",
    "        } else {\n",
    "            newEmbed = Add(newEmbed, part)\n",
    "        }\n",
    "\n",
    "        if sequenceTo == *flagMaxLen {\n",
    "            // Reached end of parts.\n",
    "            break\n",
    "        }\n",
    "        sequenceFrom += attLen - 20 // Attention window overlap 10 tokens among themselves.\n",
    "    }\n",
    "    embed = newEmbed // Notice shape changed to `[batchSize, maxAttLen, embedDim]`\n",
    "    return embed\n",
    "}\n",
    "\n",
    "// TransformerLayers builds the stacked transformer layers for the model.\n",
    "func TransformerLayers(ctx *context.Context, embed, mask *Node) *Node {\n",
    "    g := embed.Graph()\n",
    "    shape := embed.Shape()\n",
    "    embedDim := shape.Dimensions[2]\n",
    "\n",
    "    var dropoutRate *Node\n",
    "    if *flagDropoutRate > 0 {\n",
    "        dropoutRate = ConstAsDType(g, DType, *flagDropoutRate)\n",
    "    }\n",
    "\n",
    "    // Create positional embedding variable: it is 1 in every axis, but for the\n",
    "    // sequence dimension -- there will be one embedding per position.\n",
    "    // Shape: [1, maxLen, embedDim]\n",
    "    posEmbedShape := shape.Copy()\n",
    "    posEmbedShape.Dimensions[0] = 1\n",
    "    posEmbedVar := ctx.VariableWithShape(\"positional\", posEmbedShape)\n",
    "    posEmbed := posEmbedVar.ValueGraph(g)\n",
    "    embed = Add(embed, posEmbed) // Just add the embeddings, seems to work well.\n",
    "\n",
    "    // Add the requested number of attention layers.\n",
    "    for ii := 0; ii < *flagNumAttLayers; ii++ {\n",
    "        // Each layer in its own scope.\n",
    "        ctx := ctx.In(fmt.Sprintf(\"AttLayer_%d\", ii))\n",
    "        residual := embed\n",
    "        embed = layers.MultiHeadAttention(ctx, embed, embed, embed, *flagNumAttHeads, *flagAttKeyQueryEmbedDim).\n",
    "            SetKeyMask(mask).SetQueryMask(mask).\n",
    "            SetOutputDim(embedDim).\n",
    "            SetValueHeadDim(embedDim).Done()\n",
    "        if *flagDropoutRate > 0 {\n",
    "            embed = layers.Dropout(ctx.In(\"dropout_1\"), embed, dropoutRate)\n",
    "        }\n",
    "        embed = Normalize(ctx.In(\"normalization_1\"), embed)\n",
    "        attentionOutput := embed\n",
    "\n",
    "        // Transformers recipe: 2 dense layers after attention.\n",
    "        embed = layers.Dense(ctx.In(\"ffn_1\"), embed, true, embedDim)\n",
    "        embed = Tanh(embed)\n",
    "        embed = layers.Dense(ctx.In(\"ffn_2\"), embed, true, embedDim)\n",
    "        if *flagDropoutRate > 0 {\n",
    "            embed = layers.Dropout(ctx.In(\"dropout_1\"), embed, dropoutRate)\n",
    "        }\n",
    "        embed = Add(embed, attentionOutput)\n",
    "        embed = Normalize(ctx.In(\"normalization_2\"), embed)\n",
    "\n",
    "        // Residual connection: not part of the usual transfomer layer ...\n",
    "        if ii > 0 {\n",
    "            embed = Add(residual, embed)\n",
    "        }\n",
    "    }\n",
    "    return embed\n",
    "}\n",
    "\n",
    "%% --model=transformer --steps=3000 --batch=100 --optimizer=adamw --max_len=200 --max_att_len=200 --att_heads=4 --att_layers=3 --att_key_dim=32 --max_vocab=10000\n",
    "trainModel()"
   ]
  }
 ],
 "metadata": {
  "kernelspec": {
   "display_name": "Go (gonb)",
   "language": "go",
   "name": "gonb"
  },
  "language_info": {
   "codemirror_mode": "",
   "file_extension": ".go",
   "mimetype": "",
   "name": "go",
   "nbconvert_exporter": "",
   "pygments_lexer": "",
   "version": "go1.20.5"
  }
 },
 "nbformat": 4,
 "nbformat_minor": 5
}
