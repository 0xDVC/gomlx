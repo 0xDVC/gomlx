{
 "cells": [
  {
   "cell_type": "markdown",
   "id": "f431da81-4d94-4fd1-8a51-952ef824cb46",
   "metadata": {},
   "source": [
    "# IMDB Movie Review Dataset\n",
    "\n",
    "This is a library to download and parse the [IMDB's Large Movie Review Dataset](http://ai.stanford.edu/~amaas/data/sentiment/) dataset and a demo of a transformer based model. The dataset has 25K training, and 25K test dataset, plus 50K unlabeled examples.\n",
    "\n",
    "It's inspired on [Keras' Text classification with Transformer](https://keras.io/examples/nlp/text_classification_with_transformer/) demo.\n",
    "\n",
    "\n"
   ]
  },
  {
   "cell_type": "markdown",
   "id": "392f19ad-caa7-4d7d-8078-cbca680f2be2",
   "metadata": {},
   "source": [
    "## Environment Set Up\n",
    "\n",
    "Let's set up `go.mod` to use the local copy of GoMLX, so it can be developed jointly the dataset code with the model. That's often how data pre-processing and model code is developed together with experimentation.\n",
    "\n",
    "If you are not changing code, feel free to simply skip this cell. Or if you used a different directory for you projects, change it below.\n",
    "\n",
    "Notice the directory `${HOME}/Projects/gomlx` is where the GoMLX code is copied by default in [its Docker](https://hub.docker.com/repository/docker/janpfeifer/gomlx_jupyterlab/general)."
   ]
  },
  {
   "cell_type": "code",
   "execution_count": 1,
   "id": "32600e05-745d-4c38-999a-3b96ca1502cc",
   "metadata": {
    "tags": []
   },
   "outputs": [],
   "source": [
    "!*go mod edit -replace github.com/gomlx/gomlx=\"${HOME}/Projects/gomlx\""
   ]
  },
  {
   "cell_type": "markdown",
   "id": "443e9e56-ef12-4d04-b7bb-99478fa2b662",
   "metadata": {},
   "source": [
    "## Data Preparation\n",
    "\n",
    "### Downloading data files\n",
    "\n",
    "To download, uncompress and untar to the local directory, simply do the following. Notice if it's already downloaded in the given `--data` directory, it returns immediately."
   ]
  },
  {
   "cell_type": "code",
   "execution_count": 2,
   "id": "e98ca191-0d4b-4e7c-ab24-ded6991b9671",
   "metadata": {
    "tags": []
   },
   "outputs": [
    {
     "name": "stdout",
     "output_type": "stream",
     "text": [
      "> Loading previously generated preprocessed binary file.\n",
      "Loaded data from \"aclImdb.bin\": 100000 examples, 141088 unique tokens, 23727054 tokens in total.\n"
     ]
    }
   ],
   "source": [
    "import (\n",
    "    \"github.com/gomlx/gomlx/examples/imdb\"\n",
    "    \"github.com/gomlx/gomlx/ml/data\"\n",
    ")\n",
    "\n",
    "var flagDataDir = flag.String(\"data\", \"~/work/imdb\", \"Directory to cache downloaded and generated dataset files.\")\n",
    "\n",
    "func AssertNoError(err error) {\n",
    "    if err != nil {\n",
    "        log.Fatalf(\"Failed: %+v\", err)\n",
    "    }\n",
    "}\n",
    "\n",
    "func AssertDownloaded() {\n",
    "    *flagDataDir = data.ReplaceTildeInDir(*flagDataDir)\n",
    "    if !data.FileExists(*flagDataDir) {\n",
    "        AssertNoError(os.MkdirAll(*flagDataDir, 0777))\n",
    "    }\n",
    "\n",
    "    AssertNoError(imdb.Download(*flagDataDir))\n",
    "}\n",
    "\n",
    "%%\n",
    "AssertDownloaded()"
   ]
  },
  {
   "cell_type": "markdown",
   "id": "41a415e2-8a29-4aeb-8809-b8d6b7ede5ad",
   "metadata": {},
   "source": [
    "### Sampling some examples\n",
    "\n",
    "It creates a small dataset and print out some random examples.\n",
    "\n",
    "It also defines the `DType`, used for all internal representations of the model, and the flag `--max_len` that defines the maximum number of tokens used per observation. This will beused in the modeling later."
   ]
  },
  {
   "cell_type": "code",
   "execution_count": 3,
   "id": "f2bf2aab-7d50-4110-a8e3-bbee08063521",
   "metadata": {
    "tags": []
   },
   "outputs": [
    {
     "name": "stdout",
     "output_type": "stream",
     "text": [
      "> Loading previously generated preprocessed binary file.\n",
      "Loaded data from \"aclImdb.bin\": 100000 examples, 141088 unique tokens, 23727054 tokens in total.\n",
      "\n",
      "label=0, input=\"a babysitting job and during the reading of jack the beanstalk as a bedtime story with the kid reading it to costello costello s jack falls asleep and dreams himself into the story there s a wizard of oz kind of feel to the story in that the characters in the dream are all the equivalents of real life acquaintances of jack and the movie opens in black white and shifts to colour during the dream sequence the fight scenes between jack and the giant and the dance scene between jack and polly dorothy ford are among the amusing parts of the movie polly of course also leads to one of the questions of the movie what happened to her jack and gang apparently left her behind in the giant s castle i know it was just a dream so who cares still i wondered there were also a couple of cute song and dance routines my 4 year old giggled a bit during this so she was able to appreciate some of the humour i found it to be an acceptable timewaster but certainly not anything that would convince you of abbott and costello as comic geniuses 4 10\"\n",
      "\n",
      "label=1, input=\"never does neither actor is recognizable from any previous work and i didn t see either of them as an actor playing a part during the entire 90 minutes in addition harry treadaway s performance as the son just on the cusp of starting his own life in university was fantastic throughout the piece he shows the torn nature of a teenage boy thrown into the unwilling role as man of the house at times nearly every character in the drama is unsympathetic as the viewer i wanted to give each of them a good smack to wake up to reality stop moping and start adjusting to the rotten but very present change in their lives but under the same circumstances i see myself acting like any of them switching between trying to show the stiff upper lip to desperation to escape to anything including behavior that is completely unlike myself it s the show s greatest strength truth without sugar coating to force us all to think what we d be able to do under the same circumstances this is a difficult but must watch show i hope that it somehow manages to be shown in the u s\"\n",
      "\n",
      "label=0, input=\"<START> this movie was awful ashley rose orr while a talented tap dancer and singer actually a little better than temple was in terms of the latter is a terrible actress she plays the character as the shirley that we saw on screen in her movies whether she s playing her onscreen or offscreen persona so what we get is an overly cutesy and wholly unrealistic not to mention uninteresting portrait if one wants to see that side of her one can just rent one of her movies the only bright light here is connie britton s portrayal of gertrude temple i don t think it was terribly realistic but at least it was well acted save yourself the trouble and rent the poor little rich girl\"\n",
      "\n"
     ]
    }
   ],
   "source": [
    "import (\n",
    "    \"github.com/gomlx/gomlx/examples/imdb\"\n",
    ")\n",
    "\n",
    "// DType used for the models.\n",
    "const DType = shapes.Float32\n",
    "\n",
    "var (\n",
    "    flagMaxLen              = flag.Int(\"max_len\", 200, \"Maximum number of tokens to take from observation.\")\n",
    ")\n",
    "\n",
    "func Sample() {\n",
    "    ds := imdb.NewDataset(\"Test\", imdb.Test, *flagMaxLen, 3, DType, true, nil)\n",
    "    _, inputs, labels, err := ds.Yield()\n",
    "    AssertNoError(err)\n",
    "    labelsData := shapes.CastAsDType(labels[0].Local().Data(), shapes.Int64).([]int)\n",
    "    for ii := 0; ii < 3; ii++ {\n",
    "        fmt.Printf(\"\\nlabel=%v, input=%q\\n\", labelsData[ii], imdb.InputToString(inputs[0], ii))\n",
    "    }\n",
    "    fmt.Println()\n",
    "}\n",
    "\n",
    "%% --max_len=200\n",
    "AssertDownloaded()\n",
    "Sample()\n"
   ]
  },
  {
   "cell_type": "markdown",
   "id": "3cb8ca01-2c8f-4cd8-a644-850e928f64e1",
   "metadata": {},
   "source": [
    "## Training\n",
    "\n",
    "We will create 3 different types of models for this demo: **Bag of Words** (or simply **bow**), **CNNs** and **Transformers**.\n",
    "\n",
    "### Model Support\n",
    "\n",
    "We first define here a few componens shared among all models:\n",
    "\n",
    "* `Normalize` according to flag, works for sequence nodes (shaped `[batch_size, sequence_len, embedding_dim]`) and feature nodes (shaped `[batch_size, embedding_dim]`).\n",
    "* `EmbedTokensGraph` that embeds the tokens, before being consumed by the models.\n",
    "* `ReadoutGraph` that takes the embeddings after they are pooled on the sequence axis (so shaped `[batch_size, embedding_dim]` it adds a FNN (feed-forward neural network) with a few layers and convert to the final logits.\n",
    "\n",
    "We also define the corresponding hyperparameters."
   ]
  },
  {
   "cell_type": "code",
   "execution_count": 4,
   "id": "ad068f5e-46d9-411b-823c-0eae905da41c",
   "metadata": {
    "tags": []
   },
   "outputs": [],
   "source": [
    "import (\n",
    "    . \"github.com/gomlx/gomlx/graph\"\n",
    "    \n",
    "    \"github.com/gomlx/gomlx/ml/context\"\n",
    "    \"github.com/gomlx/gomlx/types/shapes\"\n",
    ")\n",
    "\n",
    "var (\n",
    "    flagNormalization    = flag.String(\"norm\", \"layer\", \"Type of normalization to use. Valid values are \\\"none\\\", \\\"batch\\\", \\\"layer\\\".\")\n",
    "    flagDropoutRate      = flag.Float64(\"dropout\", 0.15, \"Dropout rate\")\n",
    "    flagMaxVocab            = flag.Int(\"max_vocab\", 20000, \"Top most frequent words to consider, the rest is considered unknown.\")\n",
    "    flagTokenEmbeddingSize  = flag.Int(\"token_embed\", 32, \"Size of token embedding table. There are ~140K unique tokens\")\n",
    "    flagNumHiddenLayers     = flag.Int(\"hidden_layers\", 2, \"Number of output hidden layers, stacked with residual connection.\")\n",
    "    flagNumNodes            = flag.Int(\"num_nodes\", 32, \"Number of nodes in output hidden layers.\")\n",
    "    flagWordDropoutRate  = flag.Float64(\"word_dropout\", 0, \"Dropout rate for whole words of the input\")\n",
    ")\n",
    "\n",
    "// Normalize x according to --norm flag. Works for sequence nodes (rank-3) or plain feature nodes (rank-2).\n",
    "func Normalize(ctx *context.Context, x *Node) *Node {\n",
    "    switch *flagNormalization {\n",
    "    case \"layer\":\n",
    "        if x.Rank() == 3 {\n",
    "            // Normalize sequence.\n",
    "            return layers.LayerNormalization(ctx, x, -2, -1).\n",
    "                LearnedOffset(true).LearnedScale(true).ScaleNormalization(true).Done()\n",
    "        } else {\n",
    "            // Normalize features only.\n",
    "            return layers.LayerNormalization(ctx, x, -1).Done()\n",
    "        }\n",
    "    case \"batch\":\n",
    "        return layers.BatchNormalization(ctx, x, -1).Done()\n",
    "    case \"none\":\n",
    "        return x\n",
    "    }\n",
    "    g := x.Graph()\n",
    "    g.SetErrorf(\"invalid normalization selected %q -- valid values are batch, layer, none\", *flagNormalization)\n",
    "    return g.InvalidNode()\n",
    "}\n",
    "\n",
    "// EmbedTokensGraph creates embeddings for tokens and returns them along with the mask of used tokens --\n",
    "// set to false where padding was used.\n",
    "func EmbedTokensGraph(ctx *context.Context, tokens *Node) (embed, mask *Node) {\n",
    "    g := tokens.Graph()\n",
    "    mask = NotEqual(tokens, ZerosLike(tokens)) // Mask of tokens actually used.\n",
    "\n",
    "    // The token ids are indexed by frequency. Truncate to the vocabulary size considered, replacing\n",
    "    // ids higher than that by 0.\n",
    "    maxVocab := len(imdb.LoadedVocab.ListEntries)\n",
    "    if maxVocab > *flagMaxVocab {\n",
    "        maxVocab = *flagMaxVocab\n",
    "    }\n",
    "\n",
    "    // Limits tokens to the maxVocab.\n",
    "    tokens = Where(GreaterOrEqual(tokens, Const(g, maxVocab)),\n",
    "        MulScalar(OnesLike(tokens), float64(maxVocab-1)),\n",
    "        tokens)\n",
    "\n",
    "    // Embed tokens: shape=[batchSize, maxLen, embedDim]\n",
    "    embed = layers.Embedding(ctx.In(\"tokens\"), tokens, DType, maxVocab, *flagTokenEmbeddingSize)\n",
    "    embed = Where(mask, embed, ZerosLike(embed))\n",
    "    \n",
    "    if *flagWordDropoutRate > 0 {\n",
    "        dims := embed.Shape().Dimensions[:len(embed.Shape().Dimensions)-1]\n",
    "        dropoutMask := Ones(g, shapes.Make(DType, dims...))\n",
    "        dropoutMask = layers.Dropout(ctx, dropoutMask, ConstAsDType(g, DType, *flagWordDropoutRate))\n",
    "        dropoutMask = ExpandDims(dropoutMask, -1)\n",
    "        embed = Mul(embed, dropoutMask)\n",
    "    }    \n",
    "    return\n",
    "}\n",
    "\n",
    "// Activation function used for models.\n",
    "func Activation(x *Node) *Node {\n",
    "    return layers.Relu(x)\n",
    "}\n",
    "\n",
    "// ReadoutGraph takes the embeddings after they have been pooled on the sequence axis, so shaped `[batch_size, embed_dim]`\n",
    "// adds a FNN on top and readout the final logit.\n",
    "func ReadoutGraph(ctx *context.Context, embed *Node) *Node {\n",
    "    g := embed.Graph()\n",
    "    if !g.Ok() {\n",
    "        return g.InvalidNode()\n",
    "    }\n",
    "    var dropoutRate *Node\n",
    "    if *flagDropoutRate > 0 {\n",
    "        dropoutRate = ConstAsDType(g, DType, *flagDropoutRate)\n",
    "    }\n",
    "\n",
    "    // Output layers.\n",
    "    for ii := 0; ii < *flagNumHiddenLayers; ii++ {\n",
    "        ctx := ctx.In(fmt.Sprintf(\"output_dense_%d\", ii))\n",
    "        residual := embed\n",
    "        if *flagDropoutRate > 0 {\n",
    "            embed = layers.Dropout(ctx, embed, dropoutRate)\n",
    "        }\n",
    "        //embed = Tanh(embed)\n",
    "        embed = Activation(embed)\n",
    "        embed = layers.DenseWithBias(ctx, embed, *flagNumNodes)\n",
    "        embed = Normalize(ctx, embed)\n",
    "        if ii > 0 {\n",
    "            // Add residual connection.\n",
    "            embed = Add(embed, residual)\n",
    "        }\n",
    "    }\n",
    "\n",
    "    // Final embed layer with dimension 1.\n",
    "    {\n",
    "        ctx := ctx.In(\"readout\")\n",
    "        if *flagDropoutRate > 0 {\n",
    "            embed = layers.Dropout(ctx, embed, dropoutRate)\n",
    "        }\n",
    "        embed = Activation(embed)\n",
    "        embed = layers.DenseWithBias(ctx, embed, 1)\n",
    "    }\n",
    "    return embed\n",
    "}"
   ]
  },
  {
   "cell_type": "markdown",
   "id": "9b9eb816-6caf-46ea-805c-bd375834c55b",
   "metadata": {},
   "source": [
    "### Bag Of Words Model\n",
    "\n",
    "This is the simples model we are going to train. It's basically a no-op that connects the embedding table we defined above with the `ReadoutGraph` FNN afterwards.\n",
    "\n",
    "We define here placeholders for our future *CNN* and *Transformer* models.\n",
    "\n",
    "Finally we test that the shape is correct. To actually train and evaluate we still need to define the training loop, what we do in the following section."
   ]
  },
  {
   "cell_type": "code",
   "execution_count": 5,
   "id": "50cd517a-f592-4319-a9fd-acb8ab78124c",
   "metadata": {
    "tags": []
   },
   "outputs": [
    {
     "name": "stdout",
     "output_type": "stream",
     "text": [
      "> Loading previously generated preprocessed binary file.\n",
      "Loaded data from \"aclImdb.bin\": 100000 examples, 141088 unique tokens, 23727054 tokens in total.\n",
      "Logits shape for batch_size=3: (Float32)[3 1]\n"
     ]
    }
   ],
   "source": [
    "import (\n",
    "    . \"github.com/gomlx/gomlx/graph\"\n",
    "    \n",
    "    \"github.com/gomlx/gomlx/ml/context\"\n",
    ")\n",
    "\n",
    "var (\n",
    "    // ML Manager creation flags.\n",
    "    flagNumThreads  = flag.Int(\"num_threads\", -1, \"Number of threads. Leave as -1 to use as many as there are cores.\")\n",
    "    flagNumReplicas = flag.Int(\"num_replicas\", 1, \"Number of replicas.\")\n",
    "    flagPlatform    = flag.String(\"platform\", \"\", \"Platform to use, if empty uses the default one.\")\n",
    "\n",
    "    // Model type.\n",
    "    flagModel            = flag.String(\"model\", \"transformer\", \"Model type: bow or transformer.\")\n",
    ")\n",
    "\n",
    "// ModelGraph builds the model for our demo. It returns the logits, not the predictions, which works with most losses.\n",
    "func ModelGraph(ctx *context.Context, spec any, inputs []*Node) []*Node {\n",
    "    _ = spec // Not used.\n",
    "    tokens := inputs[0]\n",
    "    g := tokens.Graph()\n",
    "    if !g.Ok() {\n",
    "        return nil\n",
    "    }\n",
    "    embed, mask := EmbedTokensGraph(ctx, tokens)\n",
    "\n",
    "    // Normalization function.\n",
    "    if *flagModel == \"bow\" {\n",
    "        // Bag-Of-Words model doesn't do anything, it's just the embedding table for each token.\n",
    "    } else if *flagModel == \"cnn\" {\n",
    "        embed = Conv1DGraph(ctx, embed, mask)\n",
    "    } else if *flagModel == \"transformer\" {\n",
    "        embed = TransformerGraph(ctx, tokens, embed, mask)\n",
    "    } else {\n",
    "        g.SetErrorf(\"unknown model type %q, only types \\\"bow\\\", \\\"cnn\\\" and \\\"transformer\\\" are implemented\", *flagModel)\n",
    "        return nil\n",
    "    }\n",
    "\n",
    "    // Sum-up per-token embeddings and do a FNN on the output. From now on, the dimensions are `[batch_dim, embed_dim]`\n",
    "    // Notice we are not using mask.\n",
    "    embed = ReduceMax(embed, 1)\n",
    "    logits := ReadoutGraph(ctx, embed)\n",
    "    return []*Node{logits}\n",
    "}\n",
    "\n",
    "func Conv1DGraph(ctx *context.Context, embed, mask *Node) *Node {\n",
    "    log.Panic(\"Not implemented.\")\n",
    "    return nil\n",
    "}\n",
    "\n",
    "func TransformerGraph(ctx *context.Context, tokens, embed, mask *Node) *Node {\n",
    "    log.Panic(\"Not implemented.\")\n",
    "    return nil\n",
    "}\n",
    "\n",
    "%% --model=bow --platform=Host\n",
    "\n",
    "// Let's test that the logits are coming out with the right shape: we want [batch_size, 10], since there are 10 classes.\n",
    "AssertDownloaded()\n",
    "manager := BuildManager().NumThreads(*flagNumThreads).NumReplicas(*flagNumReplicas).Platform(*flagPlatform).MustDone()\n",
    "ds := imdb.NewDataset(\"Test\", imdb.Test, *flagMaxLen, 3, DType, true, nil)\n",
    "_, inputs, _, err := ds.Yield()\n",
    "AssertNoError(err)\n",
    "\n",
    "g := manager.NewGraph(\"test\")\n",
    "ctx := context.NewContext(manager)\n",
    "logits := ModelGraph(ctx, nil, []*Node{Const(g, inputs[0])})\n",
    "AssertNoError(g.Error())\n",
    "AssertNoError(ctx.Error())\n",
    "fmt.Printf(\"Logits shape for batch_size=%d: %s\\n\", 3, logits[0].Shape())"
   ]
  },
  {
   "cell_type": "markdown",
   "id": "f1227119-6990-488b-83fc-f2551653ae24",
   "metadata": {},
   "source": [
    "### Training Loop\n",
    "\n",
    "Training loop, with the usual bells and whistles. We also do a quick test with 100 steps to check things are working."
   ]
  },
  {
   "cell_type": "code",
   "execution_count": 6,
   "id": "71243cc9-3831-4f6e-86e2-f2e55dce97b3",
   "metadata": {
    "tags": []
   },
   "outputs": [
    {
     "name": "stdout",
     "output_type": "stream",
     "text": [
      "> Loading previously generated preprocessed binary file.\n",
      "Loaded data from \"aclImdb.bin\": 100000 examples, 141088 unique tokens, 23727054 tokens in total.\n",
      "Platform: Host\n",
      "Training (100 steps):  100% [\u001b[32m=\u001b[0m\u001b[32m=\u001b[0m\u001b[32m=\u001b[0m\u001b[32m=\u001b[0m\u001b[32m=\u001b[0m\u001b[32m=\u001b[0m\u001b[32m=\u001b[0m\u001b[32m=\u001b[0m\u001b[32m=\u001b[0m\u001b[32m=\u001b[0m\u001b[32m=\u001b[0m\u001b[32m=\u001b[0m\u001b[32m=\u001b[0m\u001b[32m=\u001b[0m\u001b[32m=\u001b[0m\u001b[32m=\u001b[0m\u001b[32m=\u001b[0m\u001b[32m=\u001b[0m\u001b[32m=\u001b[0m\u001b[32m=\u001b[0m\u001b[32m=\u001b[0m\u001b[32m=\u001b[0m\u001b[32m=\u001b[0m\u001b[32m=\u001b[0m\u001b[32m=\u001b[0m\u001b[32m=\u001b[0m\u001b[32m=\u001b[0m\u001b[32m=\u001b[0m\u001b[32m=\u001b[0m\u001b[32m=\u001b[0m\u001b[32m=\u001b[0m\u001b[32m=\u001b[0m\u001b[32m=\u001b[0m\u001b[32m=\u001b[0m\u001b[32m=\u001b[0m\u001b[32m=\u001b[0m\u001b[32m=\u001b[0m\u001b[32m=\u001b[0m\u001b[32m=\u001b[0m\u001b[32m=\u001b[0m] (156 steps/s)\u001b[0m [loss=0.671] [~loss=0.685] [~acc=56.34%]        \n",
      "\n",
      "Results on train-eval [Parallelized]:\n",
      "\tMean Loss (#loss): 0.700\n",
      "\tMean Accuracy (#acc): 50.00%\n",
      "Results on test-eval [Parallelized]:\n",
      "\tMean Loss (#loss): 0.700\n",
      "\tMean Accuracy (#acc): 50.00%\n"
     ]
    }
   ],
   "source": [
    "import (\n",
    "    . \"github.com/gomlx/gomlx/graph\"\n",
    "    \n",
    "    \"github.com/gomlx/gomlx/ml/context\"\n",
    "    \"github.com/gomlx/gomlx/ml/train\"\n",
    ")\n",
    "\n",
    "var (\n",
    "    flagOptimizer        = flag.String(\"optimizer\", \"adam\", \"Optimizer, options: adam or sgd.\")\n",
    "    flagNumSteps         = flag.Int(\"steps\", 5000, \"Number of gradient descent steps to perform\")\n",
    "    flagBatchSize        = flag.Int(\"batch\", 32, \"Batch size for training\")\n",
    "    flagLearningRate     = flag.Float64(\"learning_rate\", 0.0001, \"Initial learning rate.\")\n",
    "    flagL2Regularization = flag.Float64(\"l2_reg\", 0, \"L2 regularization on kernels. It doesn't interact well with --batch_norm or with --optimizer=adam.\")\n",
    "    \n",
    "    flagCheckpoint       = flag.String(\"checkpoint\", \"\", \"Directory save and load checkpoints from. If left empty, no checkpoints are created.\")\n",
    "    flagCheckpointKeep   = flag.Int(\"checkpoint_keep\", 10, \"Number of checkpoints to keep, if --checkpoint is set.\")\n",
    "\n",
    "    // Training UI:\n",
    "    flagUseProgressBar = flag.Bool(\"bar\", true, \"If to display a progress bar during training\")\n",
    "    flagNumPlotPoints  = flag.Int(\"plot_points\", 50, \"Number points to plot.\")\n",
    ")\n",
    "\n",
    "func trainModel() {\n",
    "    // Make sure data is downloaded.\n",
    "    AssertDownloaded()\n",
    "\n",
    "    // Manager handles creation of ML computation graphs, accelerator resources, etc.\n",
    "    manager := BuildManager().NumThreads(*flagNumThreads).NumReplicas(*flagNumReplicas).Platform(*flagPlatform).MustDone()\n",
    "    fmt.Printf(\"Platform: %s\\n\", manager.Platform())\n",
    "\n",
    "    // Datasets.\n",
    "    var trainDS, trainEvalDS, testEvalDS train.Dataset\n",
    "    trainDS = imdb.NewDataset(\"train\", imdb.Train, *flagMaxLen, *flagBatchSize, DType, true, nil)\n",
    "    trainEvalDS = imdb.NewDataset(\"train-eval\", imdb.Train, *flagMaxLen, *flagBatchSize, DType, false, nil)\n",
    "    testEvalDS = imdb.NewDataset(\"test-eval\", imdb.Test, *flagMaxLen, *flagBatchSize, DType, false, nil)\n",
    "\n",
    "    // Parallelize generation of batches, to prevent the dataset from being a bottleneck to the acceleartor (GPU/TPU).\n",
    "    trainDS = data.Parallel(trainDS)\n",
    "    trainEvalDS = data.Parallel(trainEvalDS)\n",
    "    testEvalDS = data.Parallel(testEvalDS)\n",
    "\n",
    "    // Metrics we are interested.\n",
    "    meanAccuracyMetric := metrics.NewMeanBinaryLogitsAccuracy(\"Mean Accuracy\", \"#acc\")\n",
    "    movingAccuracyMetric := metrics.NewMovingAverageBinaryLogitsAccuracy(\"Moving Average Accuracy\", \"~acc\", 0.01)\n",
    "\n",
    "    // Context holds the variables and hyperparameters for the model.\n",
    "    ctx := context.NewContext(manager)\n",
    "    ctx.SetParam(optimizers.LearningRateKey, *flagLearningRate)\n",
    "    ctx.SetParam(layers.L2RegularizationKey, *flagL2Regularization)\n",
    "\n",
    "    // Checkpoints saving.\n",
    "    var checkpoint *checkpoints.Handler\n",
    "    if *flagCheckpoint != \"\" {\n",
    "        checkpointPath := data.ReplaceTildeInDir(*flagCheckpoint)\n",
    "        if !path.IsAbs(checkpointPath) {\n",
    "            checkpointPath = path.Join(*flagDataDir, checkpointPath)\n",
    "        }\n",
    "        var err error\n",
    "        checkpoint, err = checkpoints.Build(ctx).Dir(checkpointPath).Keep(*flagCheckpointKeep).Done()\n",
    "        AssertNoError(err)\n",
    "    }\n",
    "\n",
    "    // Create a train.Trainer: this object will orchestrate running the model, feeding\n",
    "    // results to the optimizer, evaluating the metrics, etc. (all happens in trainer.TrainStep)\n",
    "    loss := losses.BinaryCrossentropyLogits\n",
    "    trainer := train.NewTrainer(\n",
    "        manager, ctx, ModelGraph, loss,\n",
    "        optimizers.MustOptimizerByName(*flagOptimizer),\n",
    "        []metrics.Interface{movingAccuracyMetric}, // trainMetrics\n",
    "        []metrics.Interface{meanAccuracyMetric})   // evalMetrics\n",
    "\n",
    "    // Use standard training loop.\n",
    "    loop := train.NewLoop(trainer)\n",
    "    if *flagUseProgressBar {\n",
    "        commandline.AttachProgressBar(loop) // Attaches a progress bar to the loop.\n",
    "    }\n",
    "\n",
    "    if checkpoint != nil {\n",
    "        train.NTimesDuringLoop(loop, 2*(*flagCheckpointKeep), \"checkpointing\", 100, func(_ *train.Loop, _ []tensor.Tensor) error {\n",
    "            return checkpoint.Save()\n",
    "        })\n",
    "    }\n",
    "\n",
    "    // Attach a margaid plots.\n",
    "    if *flagNumPlotPoints > 0 {\n",
    "        margaid.New(1024, 400, trainEvalDS, testEvalDS).DynamicUpdates().Attach(loop, *flagNumPlotPoints)\n",
    "    }\n",
    "\n",
    "    // Loop for given number of steps.\n",
    "    _, err := loop.RunSteps(trainDS, *flagNumSteps)\n",
    "    AssertNoError(err)\n",
    "\n",
    "    // Report final evaluation.\n",
    "    fmt.Println()\n",
    "    err = commandline.ReportEval(trainer, trainEvalDS, testEvalDS)\n",
    "    AssertNoError(err)\n",
    "}\n",
    "\n",
    "%% --platform=Host --model=bow --steps=100 --plot_points=0\n",
    "trainModel()\n"
   ]
  },
  {
   "cell_type": "markdown",
   "id": "9351949f-53a5-4354-a69a-59348a48915a",
   "metadata": {},
   "source": [
    "### Training Bag-Of-Words (\"bow\") Model\n",
    "\n",
    "A proper run of our *bow* model."
   ]
  },
  {
   "cell_type": "code",
   "execution_count": 7,
   "id": "8f9eb10c-e668-40fb-9725-51ac465cc4cf",
   "metadata": {
    "tags": []
   },
   "outputs": [
    {
     "name": "stdout",
     "output_type": "stream",
     "text": [
      "> Loading previously generated preprocessed binary file.\n",
      "Loaded data from \"aclImdb.bin\": 100000 examples, 141088 unique tokens, 23727054 tokens in total.\n",
      "Platform: CUDA\n"
     ]
    },
    {
     "data": {
      "text/html": []
     },
     "metadata": {},
     "output_type": "display_data"
    },
    {
     "name": "stdout",
     "output_type": "stream",
     "text": [
      "Training (20000 steps):  100% [\u001b[32m=\u001b[0m\u001b[32m=\u001b[0m\u001b[32m=\u001b[0m\u001b[32m=\u001b[0m\u001b[32m=\u001b[0m\u001b[32m=\u001b[0m\u001b[32m=\u001b[0m\u001b[32m=\u001b[0m\u001b[32m=\u001b[0m\u001b[32m=\u001b[0m\u001b[32m=\u001b[0m\u001b[32m=\u001b[0m\u001b[32m=\u001b[0m\u001b[32m=\u001b[0m\u001b[32m=\u001b[0m\u001b[32m=\u001b[0m\u001b[32m=\u001b[0m\u001b[32m=\u001b[0m\u001b[32m=\u001b[0m\u001b[32m=\u001b[0m\u001b[32m=\u001b[0m\u001b[32m=\u001b[0m\u001b[32m=\u001b[0m\u001b[32m=\u001b[0m\u001b[32m=\u001b[0m\u001b[32m=\u001b[0m\u001b[32m=\u001b[0m\u001b[32m=\u001b[0m\u001b[32m=\u001b[0m\u001b[32m=\u001b[0m\u001b[32m=\u001b[0m\u001b[32m=\u001b[0m\u001b[32m=\u001b[0m\u001b[32m=\u001b[0m\u001b[32m=\u001b[0m\u001b[32m=\u001b[0m\u001b[32m=\u001b[0m\u001b[32m=\u001b[0m\u001b[32m=\u001b[0m\u001b[32m=\u001b[0m] (746 steps/s)\u001b[0m [loss=0.373] [~loss=0.233] [~acc=91.08%]        \n"
     ]
    },
    {
     "data": {
      "text/html": [
       "<svg width=\"1024\" height=\"454\" viewbox=\"0 0 1024 400\" style=\"background-color:#f8f8f8\" preserveAspectRatio=\"xMidYMid meet\" xmlns=\"http://www.w3.org/2000/svg\"><defs><marker viewBox=\"0 0 10 10 \" refX=\"5\" refY=\"5\" markerUnits=\"userSpaceOnUse\" markerWidth=\"2%\" markerHeight=\"2%\" id=\"circle\"><circle cx=\"5\" cy=\"5\" r=\"3\" fill=\"none\" stroke=\"black\"/></marker><marker refX=\"5\" refY=\"5\" markerUnits=\"userSpaceOnUse\" markerWidth=\"2%\" markerHeight=\"2%\" id=\"filled-circle\" viewBox=\"0 0 10 10 \"><circle cx=\"5\" cy=\"5\" r=\"3\" fill=\"black\" stroke=\"none\"/></marker><marker markerWidth=\"2%\" markerHeight=\"2%\" id=\"square\" viewBox=\"0 0 10 10 \" refX=\"5\" refY=\"5\" markerUnits=\"userSpaceOnUse\"><rect x=\"2\" y=\"2\" width=\"6\" height=\"6\" fill=\"none\" stroke=\"black\"/></marker><marker refX=\"5\" refY=\"5\" markerUnits=\"userSpaceOnUse\" markerWidth=\"2%\" markerHeight=\"2%\" id=\"filled-square\" viewBox=\"0 0 10 10 \"><rect height=\"6\" fill=\"black\" stroke=\"none\" x=\"2\" y=\"2\" width=\"6\"/></marker></defs><g stroke-width=\"2px\" transform=\"translate(70 330 )scale(1 -1 )\" fill=\"none\" stroke-linecap=\"round\" marker-end=\"url(#square)\" stroke=\"hsl(90, 47%, 65%)\" marker-start=\"url(#square)\" marker-mid=\"url(#square)\" stroke-linejoin=\"round\"><path vector-effect=\"non-scaling-stroke\" d=\"M1.768000e+01,5.200000e+00 L3.461121e+01,5.222336e+00 L5.158486e+01,5.617841e+01 L6.855851e+01,1.599663e+02 L8.553216e+01,1.588051e+02 L1.025058e+02,1.689651e+02 L1.194795e+02,1.646555e+02 L1.364531e+02,1.764008e+02 L1.534268e+02,1.780756e+02 L1.704004e+02,1.770931e+02 L1.873741e+02,1.788571e+02 L2.043477e+02,1.856230e+02 L2.213214e+02,1.880122e+02 L2.382950e+02,1.834570e+02 L2.552686e+02,1.916073e+02 L2.722423e+02,1.860026e+02 L2.892159e+02,1.906471e+02 L3.061896e+02,1.883918e+02 L3.231632e+02,1.876326e+02 L3.401369e+02,1.968101e+02 L3.571105e+02,1.976586e+02 L3.740842e+02,1.932374e+02 L3.910578e+02,1.968771e+02 L4.080315e+02,1.989091e+02 L4.250051e+02,1.920539e+02 L4.419788e+02,1.941528e+02 L4.589524e+02,1.961179e+02 L4.759261e+02,1.974353e+02 L4.928997e+02,1.961179e+02 L5.098734e+02,1.961625e+02 L5.268470e+02,1.962965e+02 L5.438207e+02,1.914956e+02 L5.607943e+02,1.940412e+02 L5.777680e+02,1.989761e+02 L5.947416e+02,1.991324e+02 L6.117153e+02,1.946664e+02 L6.286889e+02,1.966984e+02 L6.456626e+02,1.993333e+02 L6.626362e+02,1.994003e+02 L6.796099e+02,1.949567e+02 L6.965835e+02,2.000032e+02 L7.135572e+02,1.940635e+02 L7.305308e+02,1.956266e+02 L7.475045e+02,1.984625e+02 L7.644781e+02,1.983732e+02 L7.814518e+02,1.989984e+02 L7.984254e+02,1.999809e+02 L8.153991e+02,1.963188e+02 L8.323727e+02,1.989761e+02 L8.493464e+02,1.980159e+02 L8.663200e+02,1.981052e+02 \"/></g><g marker-start=\"url(#square)\" marker-mid=\"url(#square)\" marker-end=\"url(#square)\" stroke-linecap=\"round\" stroke-linejoin=\"round\" transform=\"translate(70 330 )scale(1 -1 )\" fill=\"none\" stroke=\"hsl(301, 88%, 65%)\" stroke-width=\"2px\"><path vector-effect=\"non-scaling-stroke\" d=\"M1.768000e+01,5.200000e+00 L3.461121e+01,5.289328e+00 L5.158486e+01,5.861233e+01 L6.855851e+01,1.699476e+02 L8.553216e+01,1.663526e+02 L1.025058e+02,1.783882e+02 L1.194795e+02,1.756193e+02 L1.364531e+02,1.869404e+02 L1.534268e+02,1.904908e+02 L1.704004e+02,1.916073e+02 L1.873741e+02,1.938402e+02 L2.043477e+02,2.040225e+02 L2.213214e+02,2.074836e+02 L2.382950e+02,2.045584e+02 L2.552686e+02,2.132447e+02 L2.722423e+02,2.090244e+02 L2.892159e+02,2.148300e+02 L3.061896e+02,2.137136e+02 L3.231632e+02,2.140932e+02 L3.401369e+02,2.238959e+02 L3.571105e+02,2.259278e+02 L3.740842e+02,2.234716e+02 L3.910578e+02,2.264414e+02 L4.080315e+02,2.309073e+02 L4.250051e+02,2.253026e+02 L4.419788e+02,2.286967e+02 L4.589524e+02,2.317335e+02 L4.759261e+02,2.334976e+02 L4.928997e+02,2.323364e+02 L5.098734e+02,2.330287e+02 L5.268470e+02,2.347927e+02 L5.438207e+02,2.297239e+02 L5.607943e+02,2.347034e+02 L5.777680e+02,2.405760e+02 L5.947416e+02,2.424294e+02 L6.117153e+02,2.383208e+02 L6.286889e+02,2.402188e+02 L6.456626e+02,2.470740e+02 L6.626362e+02,2.456895e+02 L6.796099e+02,2.402634e+02 L6.965835e+02,2.486370e+02 L7.135572e+02,2.422731e+02 L7.305308e+02,2.452206e+02 L7.475045e+02,2.500661e+02 L7.644781e+02,2.489050e+02 L7.814518e+02,2.511379e+02 L7.984254e+02,2.548000e+02 L8.153991e+02,2.508253e+02 L8.323727e+02,2.540185e+02 L8.493464e+02,2.525000e+02 L8.663200e+02,2.537058e+02 \"/></g><g marker-end=\"url(#square)\" fill=\"none\" stroke-linecap=\"round\" marker-start=\"url(#square)\" marker-mid=\"url(#square)\" stroke=\"hsl(152, 76%, 65%)\" stroke-width=\"2px\" stroke-linejoin=\"round\" transform=\"translate(70 330 )scale(1 -1 )\"><path d=\"M1.768000e+01,5.756285e+01 L3.461121e+01,1.542746e+01 L5.158486e+01,2.043358e+01 L6.855851e+01,5.395128e+01 L8.553216e+01,1.088780e+02 L1.025058e+02,1.265000e+02 L1.194795e+02,1.455137e+02 L1.364531e+02,1.483933e+02 L1.534268e+02,1.532828e+02 L1.704004e+02,1.570681e+02 L1.873741e+02,1.666989e+02 L2.043477e+02,1.654691e+02 L2.213214e+02,1.686452e+02 L2.382950e+02,1.724526e+02 L2.552686e+02,1.831011e+02 L2.722423e+02,1.794205e+02 L2.892159e+02,1.855713e+02 L3.061896e+02,1.844825e+02 L3.231632e+02,1.884681e+02 L3.401369e+02,1.908511e+02 L3.571105e+02,1.944630e+02 L3.740842e+02,1.966993e+02 L3.910578e+02,1.981850e+02 L4.080315e+02,1.954416e+02 L4.250051e+02,1.995468e+02 L4.419788e+02,2.038600e+02 L4.589524e+02,2.065744e+02 L4.759261e+02,2.060306e+02 L4.928997e+02,2.052350e+02 L5.098734e+02,2.052668e+02 L5.268470e+02,2.102871e+02 L5.438207e+02,2.099136e+02 L5.607943e+02,2.125930e+02 L5.777680e+02,2.157002e+02 L5.947416e+02,2.177420e+02 L6.117153e+02,2.164611e+02 L6.286889e+02,2.162730e+02 L6.456626e+02,2.184580e+02 L6.626362e+02,2.214571e+02 L6.796099e+02,2.220977e+02 L6.965835e+02,2.214837e+02 L7.135572e+02,2.211038e+02 L7.305308e+02,2.253216e+02 L7.475045e+02,2.265899e+02 L7.644781e+02,2.278111e+02 L7.814518e+02,2.276814e+02 L7.984254e+02,2.304089e+02 L8.153991e+02,2.288935e+02 L8.323727e+02,2.310919e+02 L8.493464e+02,2.340214e+02 L8.663200e+02,2.345112e+02 \" vector-effect=\"non-scaling-stroke\"/></g><g fill=\"none\" stroke-linecap=\"round\" stroke=\"black\" stroke-width=\"2px\" stroke-linejoin=\"round\" transform=\"translate(70 330 )scale(1 -1 )\"><path d=\"M1.768000e+01,0 L1.768000e+01,-6 M1.025482e+02,0 L1.025482e+02,-6 M1.874165e+02,0 L1.874165e+02,-6 M2.722847e+02,0 L2.722847e+02,-6 M3.571530e+02,0 L3.571530e+02,-6 M4.420212e+02,0 L4.420212e+02,-6 M5.268895e+02,0 L5.268895e+02,-6 M6.117577e+02,0 L6.117577e+02,-6 M6.966259e+02,0 L6.966259e+02,-6 M7.814942e+02,0 L7.814942e+02,-6 \" vector-effect=\"non-scaling-stroke\"/></g><g fill=\"black\" stroke-linecap=\"round\" font-size=\"12px\" font-weight=\"normal\" font-family=\"sans-serif\" dominant-baseline=\"hanging\" font-style=\"normal\" text-anchor=\"middle\" stroke=\"black\" stroke-width=\"2px\" stroke-linejoin=\"round\" transform=\"translate(70 330 )scale(1 1 )\"><text vector-effect=\"non-scaling-stroke\" x=\"1.768000e+01\" y=\"10\" dominant-baseline=\"hanging\" stroke=\"none\">0</text><text stroke=\"none\" vector-effect=\"non-scaling-stroke\" x=\"1.025482e+02\" y=\"10\" dominant-baseline=\"hanging\">2000</text><text stroke=\"none\" vector-effect=\"non-scaling-stroke\" x=\"1.874165e+02\" y=\"10\" dominant-baseline=\"hanging\">4000</text><text vector-effect=\"non-scaling-stroke\" x=\"2.722847e+02\" y=\"10\" dominant-baseline=\"hanging\" stroke=\"none\">6000</text><text stroke=\"none\" vector-effect=\"non-scaling-stroke\" x=\"3.571530e+02\" y=\"10\" dominant-baseline=\"hanging\">8000</text><text x=\"4.420212e+02\" y=\"10\" dominant-baseline=\"hanging\" stroke=\"none\" vector-effect=\"non-scaling-stroke\">10000</text><text y=\"10\" dominant-baseline=\"hanging\" stroke=\"none\" vector-effect=\"non-scaling-stroke\" x=\"5.268895e+02\">12000</text><text dominant-baseline=\"hanging\" stroke=\"none\" vector-effect=\"non-scaling-stroke\" x=\"6.117577e+02\" y=\"10\">14000</text><text stroke=\"none\" vector-effect=\"non-scaling-stroke\" x=\"6.966259e+02\" y=\"10\" dominant-baseline=\"hanging\">16000</text><text stroke=\"none\" vector-effect=\"non-scaling-stroke\" x=\"7.814942e+02\" y=\"10\" dominant-baseline=\"hanging\">18000</text></g><g font-family=\"sans-serif\" font-weight=\"bold\" font-style=\"normal\" text-anchor=\"middle\" fill=\"black\" dominant-baseline=\"baseline\" stroke=\"black\" stroke-width=\"2px\" stroke-linejoin=\"round\" transform=\"translate(70 330 )scale(1 1 )rotate(0 0 0 )\" stroke-linecap=\"round\" font-size=\"12px\"><text vector-effect=\"non-scaling-stroke\" x=\"442\" y=\"-6\" dominant-baseline=\"baseline\" stroke=\"none\">Steps</text></g><g transform=\"translate(70 330 )scale(1 -1 )\" font-family=\"sans-serif\" text-anchor=\"middle\" stroke-linecap=\"round\" font-size=\"12px\" font-weight=\"bold\" fill=\"black\" stroke-width=\"2px\" dominant-baseline=\"baseline\" stroke-linejoin=\"round\" font-style=\"normal\" stroke=\"black\"><path vector-effect=\"non-scaling-stroke\" d=\"M0,5.244656e+00 L-6,5.244656e+00 M0,6.105073e+01 L-6,6.105073e+01 M0,1.168568e+02 L-6,1.168568e+02 M0,1.726629e+02 L-6,1.726629e+02 M0,2.284689e+02 L-6,2.284689e+02 \"/></g><g stroke-linejoin=\"round\" transform=\"translate(70 330 )scale(1 1 )\" font-size=\"12px\" font-weight=\"normal\" font-family=\"sans-serif\" text-anchor=\"end\" dominant-baseline=\"middle\" stroke=\"black\" stroke-width=\"2px\" fill=\"black\" stroke-linecap=\"round\" font-style=\"normal\"><text dominant-baseline=\"middle\" stroke=\"none\" vector-effect=\"non-scaling-stroke\" x=\"-10\" y=\"-5.244656e+00\">0.500</text><text stroke=\"none\" vector-effect=\"non-scaling-stroke\" x=\"-10\" y=\"-6.105073e+01\" dominant-baseline=\"middle\">0.600</text><text x=\"-10\" y=\"-1.168568e+02\" dominant-baseline=\"middle\" stroke=\"none\" vector-effect=\"non-scaling-stroke\">0.700</text><text stroke=\"none\" vector-effect=\"non-scaling-stroke\" x=\"-10\" y=\"-1.726629e+02\" dominant-baseline=\"middle\">0.800</text><text dominant-baseline=\"middle\" stroke=\"none\" vector-effect=\"non-scaling-stroke\" x=\"-10\" y=\"-2.284689e+02\">0.900</text></g><g font-family=\"sans-serif\" fill=\"black\" stroke-linecap=\"round\" dominant-baseline=\"hanging\" stroke=\"black\" stroke-linejoin=\"round\" transform=\"translate(70 330 )scale(1 1 )rotate(-90 0 0 )\" font-size=\"12px\" font-weight=\"bold\" text-anchor=\"middle\" stroke-width=\"2px\" font-style=\"normal\"><text vector-effect=\"non-scaling-stroke\" x=\"130\" y=\"6\" dominant-baseline=\"hanging\" stroke=\"none\">accuracy</text></g><g text-anchor=\"middle\" font-size=\"12px\" font-weight=\"bold\" dominant-baseline=\"hanging\" stroke=\"gray\" stroke-width=\"0.5px\" font-family=\"sans-serif\" fill=\"black\" stroke-linecap=\"round\" stroke-linejoin=\"round\" transform=\"translate(70 330 )scale(1 -1 )\" font-style=\"normal\"><path d=\"M0,5.244656e+00 L884,5.244656e+00 M0,6.105073e+01 L884,6.105073e+01 M0,1.168568e+02 L884,1.168568e+02 M0,1.726629e+02 L884,1.726629e+02 M0,2.284689e+02 L884,2.284689e+02 \" vector-effect=\"non-scaling-stroke\"/></g><g fill=\"none\" dominant-baseline=\"hanging\" stroke-linejoin=\"round\" stroke-linecap=\"round\" font-size=\"12px\" font-weight=\"bold\" font-family=\"sans-serif\" font-style=\"normal\" text-anchor=\"middle\" stroke=\"black\" stroke-width=\"2px\"><rect vector-effect=\"non-scaling-stroke\" x=\"70\" y=\"70\" width=\"884\" height=\"260\"/><g dominant-baseline=\"middle\" font-size=\"18px\" fill=\"black\"><text x=\"512\" y=\"35\" dominant-baseline=\"middle\" stroke=\"none\" vector-effect=\"non-scaling-stroke\">accuracy metrics</text></g><g stroke-linecap=\"round\" font-size=\"12px\" font-weight=\"normal\" stroke-linejoin=\"round\" font-family=\"sans-serif\" font-style=\"normal\" dominant-baseline=\"hanging\" fill=\"hsl(90, 47%, 65%)\" stroke-width=\"1px\" text-anchor=\"start\" stroke=\"hsl(90, 47%, 65%)\"><rect height=\"12\" vector-effect=\"non-scaling-stroke\" x=\"76\" y=\"366\" width=\"12\"/><g stroke=\"black\" fill=\"black\"><text dominant-baseline=\"hanging\" stroke=\"none\" vector-effect=\"non-scaling-stroke\" x=\"92\" y=\"366\">Eval on test-eval [Parallelized]: Mean Accuracy</text></g><g font-family=\"sans-serif\" stroke-linecap=\"round\" font-size=\"12px\" font-weight=\"normal\" stroke-width=\"1px\" stroke=\"hsl(301, 88%, 65%)\" stroke-linejoin=\"round\" font-style=\"normal\" text-anchor=\"start\" fill=\"hsl(301, 88%, 65%)\" dominant-baseline=\"hanging\"><rect width=\"12\" height=\"12\" vector-effect=\"non-scaling-stroke\" x=\"76\" y=\"384\"/><g fill=\"black\" stroke=\"black\"><text vector-effect=\"non-scaling-stroke\" x=\"92\" y=\"384\" dominant-baseline=\"hanging\" stroke=\"none\">Eval on train-eval [Parallelized]: Mean Accuracy</text></g><g dominant-baseline=\"hanging\" stroke=\"hsl(152, 76%, 65%)\" stroke-linejoin=\"round\" stroke-linecap=\"round\" font-size=\"12px\" font-family=\"sans-serif\" font-style=\"normal\" text-anchor=\"start\" stroke-width=\"1px\" font-weight=\"normal\" fill=\"hsl(152, 76%, 65%)\"><rect height=\"12\" vector-effect=\"non-scaling-stroke\" x=\"76\" y=\"402\" width=\"12\"/><g stroke=\"black\" fill=\"black\"><text y=\"402\" dominant-baseline=\"hanging\" stroke=\"none\" vector-effect=\"non-scaling-stroke\" x=\"92\">Train: Moving Average Accuracy</text></g></g></g></g></g></svg>"
      ]
     },
     "metadata": {},
     "output_type": "display_data"
    },
    {
     "name": "stdout",
     "output_type": "stream",
     "text": [
      "\n",
      "Results on train-eval [Parallelized]:\n"
     ]
    },
    {
     "data": {
      "text/html": [
       "<svg viewbox=\"0 0 1024 400\" style=\"background-color:#f8f8f8\" preserveAspectRatio=\"xMidYMid meet\" xmlns=\"http://www.w3.org/2000/svg\" width=\"1024\" height=\"454\"><defs><marker markerWidth=\"2%\" markerHeight=\"2%\" id=\"circle\" viewBox=\"0 0 10 10 \" refX=\"5\" refY=\"5\" markerUnits=\"userSpaceOnUse\"><circle r=\"3\" fill=\"none\" stroke=\"black\" cx=\"5\" cy=\"5\"/></marker><marker markerHeight=\"2%\" id=\"filled-circle\" viewBox=\"0 0 10 10 \" refX=\"5\" refY=\"5\" markerUnits=\"userSpaceOnUse\" markerWidth=\"2%\"><circle r=\"3\" fill=\"black\" stroke=\"none\" cx=\"5\" cy=\"5\"/></marker><marker refY=\"5\" markerUnits=\"userSpaceOnUse\" markerWidth=\"2%\" markerHeight=\"2%\" id=\"square\" viewBox=\"0 0 10 10 \" refX=\"5\"><rect fill=\"none\" stroke=\"black\" x=\"2\" y=\"2\" width=\"6\" height=\"6\"/></marker><marker markerHeight=\"2%\" id=\"filled-square\" viewBox=\"0 0 10 10 \" refX=\"5\" refY=\"5\" markerUnits=\"userSpaceOnUse\" markerWidth=\"2%\"><rect stroke=\"none\" x=\"2\" y=\"2\" width=\"6\" height=\"6\" fill=\"black\"/></marker></defs><g stroke=\"hsl(90, 47%, 65%)\" marker-start=\"url(#square)\" marker-mid=\"url(#square)\" marker-end=\"url(#square)\" transform=\"translate(70 330 )scale(1 -1 )\" fill=\"none\" stroke-linecap=\"round\" stroke-linejoin=\"round\" stroke-width=\"2px\"><path d=\"M1.768000e+01,2.548000e+02 L3.461121e+01,2.539523e+02 L5.158486e+01,2.514733e+02 L6.855851e+01,2.366617e+02 L8.553216e+01,1.682559e+02 L1.025058e+02,1.496578e+02 L1.194795e+02,1.484039e+02 L1.364531e+02,1.363072e+02 L1.534268e+02,1.317326e+02 L1.704004e+02,1.317533e+02 L1.873741e+02,1.280395e+02 L2.043477e+02,1.192378e+02 L2.213214e+02,1.176621e+02 L2.382950e+02,1.206397e+02 L2.552686e+02,1.111124e+02 L2.722423e+02,1.171848e+02 L2.892159e+02,1.106248e+02 L3.061896e+02,1.134435e+02 L3.231632e+02,1.144904e+02 L3.401369e+02,1.033035e+02 L3.571105e+02,1.031584e+02 L3.740842e+02,1.071697e+02 L3.910578e+02,1.031376e+02 L4.080315e+02,1.004165e+02 L4.250051e+02,1.092497e+02 L4.419788e+02,1.060497e+02 L4.589524e+02,1.028269e+02 L4.759261e+02,1.004745e+02 L4.928997e+02,1.027169e+02 L5.098734e+02,1.043333e+02 L5.268470e+02,1.039060e+02 L5.438207e+02,1.113925e+02 L5.607943e+02,1.084549e+02 L5.777680e+02,1.010275e+02 L5.947416e+02,1.014267e+02 L6.117153e+02,1.073203e+02 L6.286889e+02,1.053251e+02 L6.456626e+02,1.009960e+02 L6.626362e+02,1.018561e+02 L6.796099e+02,1.071621e+02 L6.965835e+02,1.017170e+02 L7.135572e+02,1.085032e+02 L7.305308e+02,1.087145e+02 L7.475045e+02,1.054784e+02 L7.644781e+02,1.063610e+02 L7.814518e+02,1.050951e+02 L7.984254e+02,1.030438e+02 L8.153991e+02,1.090830e+02 L8.323727e+02,1.038399e+02 L8.493464e+02,1.075805e+02 L8.663200e+02,1.095527e+02 \" vector-effect=\"non-scaling-stroke\"/></g><g stroke-width=\"2px\" stroke-linejoin=\"round\" fill=\"none\" stroke=\"hsl(301, 88%, 65%)\" stroke-linecap=\"round\" marker-start=\"url(#square)\" marker-mid=\"url(#square)\" marker-end=\"url(#square)\" transform=\"translate(70 330 )scale(1 -1 )\"><path vector-effect=\"non-scaling-stroke\" d=\"M1.768000e+01,2.547875e+02 L3.461121e+01,2.538408e+02 L5.158486e+01,2.512180e+02 L6.855851e+01,2.353676e+02 L8.553216e+01,1.619847e+02 L1.025058e+02,1.401628e+02 L1.194795e+02,1.365226e+02 L1.364531e+02,1.219833e+02 L1.534268e+02,1.153574e+02 L1.704004e+02,1.133216e+02 L1.873741e+02,1.076296e+02 L2.043477e+02,9.577565e+01 L2.213214e+02,9.193062e+01 L2.382950e+02,9.329784e+01 L2.552686e+02,8.005187e+01 L2.722423e+02,8.568585e+01 L2.892159e+02,7.668089e+01 L3.061896e+02,7.650301e+01 L3.231632e+02,7.731944e+01 L3.401369e+02,6.279031e+01 L3.571105e+02,5.912067e+01 L3.740842e+02,6.122273e+01 L3.910578e+02,5.593792e+01 L4.080315e+02,5.264182e+01 L4.250051e+02,5.750962e+01 L4.419788e+02,5.336155e+01 L4.589524e+02,4.786382e+01 L4.759261e+02,4.435303e+01 L4.928997e+02,4.650060e+01 L5.098734e+02,4.446289e+01 L5.268470e+02,4.192915e+01 L5.438207e+02,4.694987e+01 L5.607943e+02,4.038000e+01 L5.777680e+02,3.151718e+01 L5.947416e+02,2.903503e+01 L6.117153e+02,3.390418e+01 L6.286889e+02,3.080470e+01 L6.456626e+02,2.234082e+01 L6.626362e+02,2.291706e+01 L6.796099e+02,2.942135e+01 L6.965835e+02,1.737438e+01 L7.135572e+02,2.483699e+01 L7.305308e+02,2.115445e+01 L7.475045e+02,1.408821e+01 L7.644781e+02,1.454903e+01 L7.814518e+02,1.101033e+01 L7.984254e+02,5.365623e+00 L8.153991e+02,1.179469e+01 L8.323727e+02,7.262949e+00 L8.493464e+02,8.006054e+00 L8.663200e+02,5.200000e+00 \"/></g><g stroke-linejoin=\"round\" stroke=\"hsl(152, 76%, 65%)\" marker-mid=\"url(#square)\" stroke-width=\"2px\" stroke-linecap=\"round\" fill=\"none\" marker-start=\"url(#square)\" marker-end=\"url(#square)\" transform=\"translate(70 330 )scale(1 -1 )\"><path vector-effect=\"non-scaling-stroke\" d=\"M1.768000e+01,2.491734e+02 L3.461121e+01,2.545125e+02 L5.158486e+01,2.533895e+02 L6.855851e+01,2.465955e+02 L8.553216e+01,2.114666e+02 L1.025058e+02,1.954333e+02 L1.194795e+02,1.762972e+02 L1.364531e+02,1.686350e+02 L1.534268e+02,1.646586e+02 L1.704004e+02,1.584968e+02 L1.873741e+02,1.466183e+02 L2.043477e+02,1.489424e+02 L2.213214e+02,1.455937e+02 L2.382950e+02,1.379558e+02 L2.552686e+02,1.273279e+02 L2.722423e+02,1.322356e+02 L2.892159e+02,1.242750e+02 L3.061896e+02,1.205840e+02 L3.231632e+02,1.175008e+02 L3.401369e+02,1.117229e+02 L3.571105e+02,1.054531e+02 L3.740842e+02,1.054713e+02 L3.910578e+02,1.017499e+02 L4.080315e+02,1.066890e+02 L4.250051e+02,9.981562e+01 L4.419788e+02,9.624753e+01 L4.589524e+02,8.897542e+01 L4.759261e+02,9.010807e+01 L4.928997e+02,8.950521e+01 L5.098734e+02,8.814677e+01 L5.268470e+02,8.411271e+01 L5.438207e+02,8.253470e+01 L5.607943e+02,7.624499e+01 L5.777680e+02,7.418234e+01 L5.947416e+02,7.071107e+01 L6.117153e+02,7.422574e+01 L6.286889e+02,6.936834e+01 L6.456626e+02,6.970940e+01 L6.626362e+02,6.285100e+01 L6.796099e+02,6.632482e+01 L6.965835e+02,6.207170e+01 L7.135572e+02,6.212036e+01 L7.305308e+02,5.692461e+01 L7.475045e+02,5.754562e+01 L7.644781e+02,5.446913e+01 L7.814518e+02,5.153983e+01 L7.984254e+02,4.948612e+01 L8.153991e+02,5.228919e+01 L8.323727e+02,4.825734e+01 L8.493464e+02,4.071666e+01 L8.663200e+02,4.319929e+01 \"/></g><g fill=\"none\" stroke-linecap=\"round\" stroke-linejoin=\"round\" stroke-width=\"2px\" stroke=\"black\" transform=\"translate(70 330 )scale(1 -1 )\"><path vector-effect=\"non-scaling-stroke\" d=\"M1.768000e+01,0 L1.768000e+01,-6 M1.025482e+02,0 L1.025482e+02,-6 M1.874165e+02,0 L1.874165e+02,-6 M2.722847e+02,0 L2.722847e+02,-6 M3.571530e+02,0 L3.571530e+02,-6 M4.420212e+02,0 L4.420212e+02,-6 M5.268895e+02,0 L5.268895e+02,-6 M6.117577e+02,0 L6.117577e+02,-6 M6.966259e+02,0 L6.966259e+02,-6 M7.814942e+02,0 L7.814942e+02,-6 \"/></g><g font-size=\"12px\" stroke-width=\"2px\" font-style=\"normal\" font-weight=\"normal\" text-anchor=\"middle\" stroke-linecap=\"round\" stroke-linejoin=\"round\" font-family=\"sans-serif\" fill=\"black\" dominant-baseline=\"hanging\" stroke=\"black\" transform=\"translate(70 330 )scale(1 1 )\"><text x=\"1.768000e+01\" y=\"10\" dominant-baseline=\"hanging\" stroke=\"none\" vector-effect=\"non-scaling-stroke\">0</text><text vector-effect=\"non-scaling-stroke\" x=\"1.025482e+02\" y=\"10\" dominant-baseline=\"hanging\" stroke=\"none\">2000</text><text stroke=\"none\" vector-effect=\"non-scaling-stroke\" x=\"1.874165e+02\" y=\"10\" dominant-baseline=\"hanging\">4000</text><text y=\"10\" dominant-baseline=\"hanging\" stroke=\"none\" vector-effect=\"non-scaling-stroke\" x=\"2.722847e+02\">6000</text><text x=\"3.571530e+02\" y=\"10\" dominant-baseline=\"hanging\" stroke=\"none\" vector-effect=\"non-scaling-stroke\">8000</text><text stroke=\"none\" vector-effect=\"non-scaling-stroke\" x=\"4.420212e+02\" y=\"10\" dominant-baseline=\"hanging\">10000</text><text stroke=\"none\" vector-effect=\"non-scaling-stroke\" x=\"5.268895e+02\" y=\"10\" dominant-baseline=\"hanging\">12000</text><text stroke=\"none\" vector-effect=\"non-scaling-stroke\" x=\"6.117577e+02\" y=\"10\" dominant-baseline=\"hanging\">14000</text><text vector-effect=\"non-scaling-stroke\" x=\"6.966259e+02\" y=\"10\" dominant-baseline=\"hanging\" stroke=\"none\">16000</text><text stroke=\"none\" vector-effect=\"non-scaling-stroke\" x=\"7.814942e+02\" y=\"10\" dominant-baseline=\"hanging\">18000</text></g><g text-anchor=\"middle\" font-family=\"sans-serif\" font-size=\"12px\" stroke-width=\"2px\" stroke-linejoin=\"round\" font-weight=\"bold\" transform=\"translate(70 330 )scale(1 1 )rotate(0 0 0 )\" dominant-baseline=\"baseline\" stroke-linecap=\"round\" font-style=\"normal\" fill=\"black\" stroke=\"black\"><text y=\"-6\" dominant-baseline=\"baseline\" stroke=\"none\" vector-effect=\"non-scaling-stroke\" x=\"442\">Steps</text></g><g stroke-linejoin=\"round\" font-size=\"12px\" stroke=\"black\" text-anchor=\"middle\" stroke-width=\"2px\" stroke-linecap=\"round\" fill=\"black\" transform=\"translate(70 330 )scale(1 -1 )\" font-style=\"normal\" font-weight=\"bold\" font-family=\"sans-serif\" dominant-baseline=\"baseline\"><path d=\"M0,2.830511e+01 L-6,2.830511e+01 M0,1.199204e+02 L-6,1.199204e+02 M0,2.115357e+02 L-6,2.115357e+02 \" vector-effect=\"non-scaling-stroke\"/></g><g font-weight=\"normal\" fill=\"black\" stroke=\"black\" font-style=\"normal\" stroke-linecap=\"round\" stroke-linejoin=\"round\" font-family=\"sans-serif\" text-anchor=\"end\" transform=\"translate(70 330 )scale(1 1 )\" font-size=\"12px\" dominant-baseline=\"middle\" stroke-width=\"2px\"><text vector-effect=\"non-scaling-stroke\" x=\"-10\" y=\"-2.830511e+01\" dominant-baseline=\"middle\" stroke=\"none\">0.200</text><text y=\"-1.199204e+02\" dominant-baseline=\"middle\" stroke=\"none\" vector-effect=\"non-scaling-stroke\" x=\"-10\">0.400</text><text dominant-baseline=\"middle\" stroke=\"none\" vector-effect=\"non-scaling-stroke\" x=\"-10\" y=\"-2.115357e+02\">0.600</text></g><g stroke-linejoin=\"round\" font-family=\"sans-serif\" text-anchor=\"middle\" fill=\"black\" stroke=\"black\" transform=\"translate(70 330 )scale(1 1 )rotate(-90 0 0 )\" font-style=\"normal\" stroke-width=\"2px\" font-weight=\"bold\" font-size=\"12px\" dominant-baseline=\"hanging\" stroke-linecap=\"round\"><text y=\"6\" dominant-baseline=\"hanging\" stroke=\"none\" vector-effect=\"non-scaling-stroke\" x=\"130\">loss</text></g><g fill=\"black\" stroke-linejoin=\"round\" font-family=\"sans-serif\" dominant-baseline=\"hanging\" text-anchor=\"middle\" stroke-width=\"0.5px\" stroke-linecap=\"round\" font-size=\"12px\" stroke=\"gray\" transform=\"translate(70 330 )scale(1 -1 )\" font-style=\"normal\" font-weight=\"bold\"><path vector-effect=\"non-scaling-stroke\" d=\"M0,2.830511e+01 L884,2.830511e+01 M0,1.199204e+02 L884,1.199204e+02 M0,2.115357e+02 L884,2.115357e+02 \"/></g><g stroke=\"black\" font-style=\"normal\" font-weight=\"bold\" text-anchor=\"middle\" stroke-width=\"2px\" font-family=\"sans-serif\" fill=\"none\" dominant-baseline=\"hanging\" stroke-linecap=\"round\" stroke-linejoin=\"round\" font-size=\"12px\"><rect width=\"884\" height=\"260\" vector-effect=\"non-scaling-stroke\" x=\"70\" y=\"70\"/><g dominant-baseline=\"middle\" font-size=\"18px\" fill=\"black\"><text stroke=\"none\" vector-effect=\"non-scaling-stroke\" x=\"512\" y=\"35\" dominant-baseline=\"middle\">loss metrics</text></g><g dominant-baseline=\"hanging\" stroke-linejoin=\"round\" font-family=\"sans-serif\" font-size=\"12px\" font-style=\"normal\" font-weight=\"normal\" text-anchor=\"start\" fill=\"hsl(90, 47%, 65%)\" stroke-linecap=\"round\" stroke-width=\"1px\" stroke=\"hsl(90, 47%, 65%)\"><rect height=\"12\" vector-effect=\"non-scaling-stroke\" x=\"76\" y=\"366\" width=\"12\"/><g stroke=\"black\" fill=\"black\"><text x=\"92\" y=\"366\" dominant-baseline=\"hanging\" stroke=\"none\" vector-effect=\"non-scaling-stroke\">Eval on test-eval [Parallelized]: Mean Loss</text></g><g stroke-width=\"1px\" font-family=\"sans-serif\" font-size=\"12px\" fill=\"hsl(301, 88%, 65%)\" font-weight=\"normal\" stroke-linecap=\"round\" stroke-linejoin=\"round\" dominant-baseline=\"hanging\" stroke=\"hsl(301, 88%, 65%)\" font-style=\"normal\" text-anchor=\"start\"><rect height=\"12\" vector-effect=\"non-scaling-stroke\" x=\"76\" y=\"384\" width=\"12\"/><g fill=\"black\" stroke=\"black\"><text y=\"384\" dominant-baseline=\"hanging\" stroke=\"none\" vector-effect=\"non-scaling-stroke\" x=\"92\">Eval on train-eval [Parallelized]: Mean Loss</text></g><g font-weight=\"normal\" stroke=\"hsl(152, 76%, 65%)\" font-family=\"sans-serif\" stroke-linejoin=\"round\" font-style=\"normal\" fill=\"hsl(152, 76%, 65%)\" font-size=\"12px\" dominant-baseline=\"hanging\" stroke-width=\"1px\" stroke-linecap=\"round\" text-anchor=\"start\"><rect y=\"402\" width=\"12\" height=\"12\" vector-effect=\"non-scaling-stroke\" x=\"76\"/><g fill=\"black\" stroke=\"black\"><text stroke=\"none\" vector-effect=\"non-scaling-stroke\" x=\"92\" y=\"402\" dominant-baseline=\"hanging\">Train: Moving Average Loss</text></g></g></g></g></g></svg>"
      ]
     },
     "metadata": {},
     "output_type": "display_data"
    },
    {
     "name": "stdout",
     "output_type": "stream",
     "text": [
      "\tMean Loss (#loss): 0.150\n",
      "\tMean Accuracy (#acc): 94.52%\n",
      "Results on test-eval [Parallelized]:\n",
      "\tMean Loss (#loss): 0.377\n",
      "\tMean Accuracy (#acc): 84.56%\n"
     ]
    }
   ],
   "source": [
    "%% --model=bow --steps=20000 --optimizer=adamw\n",
    "trainModel()"
   ]
  },
  {
   "cell_type": "markdown",
   "id": "62e0d8ed-31ed-49ba-8b6f-1518d3df8a8d",
   "metadata": {},
   "source": [
    "### CNN Model\n",
    "\n",
    "Below we redefine our CNN model function, with 2 convolution layers, and train on it.\n",
    "\n",
    "Notice how well it can overfit to the training data ... but it doesn't help the test results. To improve this one needs some careful regularization."
   ]
  },
  {
   "cell_type": "code",
   "execution_count": 8,
   "id": "2fc49c16-714c-483c-92a9-9e4fda9514d5",
   "metadata": {
    "tags": []
   },
   "outputs": [
    {
     "name": "stdout",
     "output_type": "stream",
     "text": [
      "> Loading previously generated preprocessed binary file.\n",
      "Loaded data from \"aclImdb.bin\": 100000 examples, 141088 unique tokens, 23727054 tokens in total.\n",
      "Platform: CUDA\n"
     ]
    },
    {
     "data": {
      "text/html": []
     },
     "metadata": {},
     "output_type": "display_data"
    },
    {
     "name": "stdout",
     "output_type": "stream",
     "text": [
      "Training (20000 steps):  100% [\u001b[32m=\u001b[0m\u001b[32m=\u001b[0m\u001b[32m=\u001b[0m\u001b[32m=\u001b[0m\u001b[32m=\u001b[0m\u001b[32m=\u001b[0m\u001b[32m=\u001b[0m\u001b[32m=\u001b[0m\u001b[32m=\u001b[0m\u001b[32m=\u001b[0m\u001b[32m=\u001b[0m\u001b[32m=\u001b[0m\u001b[32m=\u001b[0m\u001b[32m=\u001b[0m\u001b[32m=\u001b[0m\u001b[32m=\u001b[0m\u001b[32m=\u001b[0m\u001b[32m=\u001b[0m\u001b[32m=\u001b[0m\u001b[32m=\u001b[0m\u001b[32m=\u001b[0m\u001b[32m=\u001b[0m\u001b[32m=\u001b[0m\u001b[32m=\u001b[0m\u001b[32m=\u001b[0m\u001b[32m=\u001b[0m\u001b[32m=\u001b[0m\u001b[32m=\u001b[0m\u001b[32m=\u001b[0m\u001b[32m=\u001b[0m\u001b[32m=\u001b[0m\u001b[32m=\u001b[0m\u001b[32m=\u001b[0m\u001b[32m=\u001b[0m\u001b[32m=\u001b[0m\u001b[32m=\u001b[0m\u001b[32m=\u001b[0m\u001b[32m=\u001b[0m\u001b[32m=\u001b[0m\u001b[32m=\u001b[0m] (430 steps/s)\u001b[0m [loss=0.158] [~loss=0.093] [~acc=96.88%]        \n"
     ]
    },
    {
     "data": {
      "text/html": [
       "<svg xmlns=\"http://www.w3.org/2000/svg\" width=\"1024\" height=\"454\" viewbox=\"0 0 1024 400\" style=\"background-color:#f8f8f8\" preserveAspectRatio=\"xMidYMid meet\"><defs><marker markerHeight=\"2%\" id=\"circle\" viewBox=\"0 0 10 10 \" refX=\"5\" refY=\"5\" markerUnits=\"userSpaceOnUse\" markerWidth=\"2%\"><circle cx=\"5\" cy=\"5\" r=\"3\" fill=\"none\" stroke=\"black\"/></marker><marker markerWidth=\"2%\" markerHeight=\"2%\" id=\"filled-circle\" viewBox=\"0 0 10 10 \" refX=\"5\" refY=\"5\" markerUnits=\"userSpaceOnUse\"><circle stroke=\"none\" cx=\"5\" cy=\"5\" r=\"3\" fill=\"black\"/></marker><marker viewBox=\"0 0 10 10 \" refX=\"5\" refY=\"5\" markerUnits=\"userSpaceOnUse\" markerWidth=\"2%\" markerHeight=\"2%\" id=\"square\"><rect fill=\"none\" stroke=\"black\" x=\"2\" y=\"2\" width=\"6\" height=\"6\"/></marker><marker markerWidth=\"2%\" markerHeight=\"2%\" id=\"filled-square\" viewBox=\"0 0 10 10 \" refX=\"5\" refY=\"5\" markerUnits=\"userSpaceOnUse\"><rect width=\"6\" height=\"6\" fill=\"black\" stroke=\"none\" x=\"2\" y=\"2\"/></marker></defs><g stroke-linejoin=\"round\" marker-start=\"url(#square)\" stroke-linecap=\"round\" stroke=\"hsl(90, 47%, 65%)\" stroke-width=\"2px\" marker-end=\"url(#square)\" marker-mid=\"url(#square)\" transform=\"translate(70 330 )scale(1 -1 )\" fill=\"none\"><path vector-effect=\"non-scaling-stroke\" d=\"M1.768000e+01,4.505511e+01 L3.461121e+01,4.500412e+01 L5.158486e+01,4.502111e+01 L6.855851e+01,4.629580e+01 L8.553216e+01,5.854976e+01 L1.025058e+02,5.812485e+01 L1.194795e+02,7.758503e+01 L1.364531e+02,1.099620e+02 L1.534268e+02,1.316146e+02 L1.704004e+02,1.480835e+02 L1.873741e+02,1.598616e+02 L2.043477e+02,1.673057e+02 L2.213214e+02,1.703650e+02 L2.382950e+02,1.736112e+02 L2.552686e+02,1.755487e+02 L2.722423e+02,1.789478e+02 L2.892159e+02,1.810213e+02 L3.061896e+02,1.791178e+02 L3.231632e+02,1.821091e+02 L3.401369e+02,1.784550e+02 L3.571105e+02,1.803075e+02 L3.740842e+02,1.840636e+02 L3.910578e+02,1.763645e+02 L4.080315e+02,1.871908e+02 L4.250051e+02,1.826189e+02 L4.419788e+02,1.865449e+02 L4.589524e+02,1.865449e+02 L4.759261e+02,1.836727e+02 L4.928997e+02,1.796447e+02 L5.098734e+02,1.794917e+02 L5.268470e+02,1.846414e+02 L5.438207e+02,1.877856e+02 L5.607943e+02,1.828909e+02 L5.777680e+02,1.878536e+02 L5.947416e+02,1.874457e+02 L6.117153e+02,1.858991e+02 L6.286889e+02,1.860521e+02 L6.456626e+02,1.862560e+02 L6.626362e+02,1.875307e+02 L6.796099e+02,1.881256e+02 L6.965835e+02,1.866469e+02 L7.135572e+02,1.869699e+02 L7.305308e+02,1.818711e+02 L7.475045e+02,1.856782e+02 L7.644781e+02,1.797296e+02 L7.814518e+02,1.851343e+02 L7.984254e+02,1.832138e+02 L8.153991e+02,1.871568e+02 L8.323727e+02,1.833837e+02 L8.493464e+02,1.835707e+02 L8.663200e+02,1.860861e+02 \"/></g><g stroke-linejoin=\"round\" stroke-width=\"2px\" marker-mid=\"url(#square)\" marker-end=\"url(#square)\" fill=\"none\" marker-start=\"url(#square)\" stroke-linecap=\"round\" transform=\"translate(70 330 )scale(1 -1 )\" stroke=\"hsl(301, 88%, 65%)\"><path vector-effect=\"non-scaling-stroke\" d=\"M1.768000e+01,4.500412e+01 L3.461121e+01,4.503809e+01 L5.158486e+01,4.500412e+01 L6.855851e+01,4.758747e+01 L8.553216e+01,6.959701e+01 L1.025058e+02,7.447479e+01 L1.194795e+02,1.063759e+02 L1.364531e+02,1.355236e+02 L1.534268e+02,1.638216e+02 L1.704004e+02,1.741890e+02 L1.873741e+02,1.951618e+02 L2.043477e+02,2.035577e+02 L2.213214e+02,2.092003e+02 L2.382950e+02,2.146390e+02 L2.552686e+02,2.180551e+02 L2.722423e+02,2.222361e+02 L2.892159e+02,2.260092e+02 L3.061896e+02,2.269609e+02 L3.231632e+02,2.310399e+02 L3.401369e+02,2.287965e+02 L3.571105e+02,2.320426e+02 L3.740842e+02,2.357817e+02 L3.910578e+02,2.300372e+02 L4.080315e+02,2.395888e+02 L4.250051e+02,2.382801e+02 L4.419788e+02,2.419002e+02 L4.589524e+02,2.430729e+02 L4.759261e+02,2.419512e+02 L4.928997e+02,2.349149e+02 L5.098734e+02,2.407105e+02 L5.268470e+02,2.451634e+02 L5.438207e+02,2.476448e+02 L5.607943e+02,2.457072e+02 L5.777680e+02,2.485286e+02 L5.947416e+02,2.496333e+02 L6.117153e+02,2.498032e+02 L6.286889e+02,2.501601e+02 L6.456626e+02,2.506700e+02 L6.626362e+02,2.515708e+02 L6.796099e+02,2.523696e+02 L6.965835e+02,2.526075e+02 L7.135572e+02,2.530494e+02 L7.305308e+02,2.514008e+02 L7.475045e+02,2.534233e+02 L7.644781e+02,2.515198e+02 L7.814518e+02,2.540862e+02 L7.984254e+02,2.538312e+02 L8.153991e+02,2.546300e+02 L8.323727e+02,2.543411e+02 L8.493464e+02,2.545960e+02 L8.663200e+02,2.548000e+02 \"/></g><g stroke=\"hsl(152, 76%, 65%)\" marker-end=\"url(#square)\" stroke-linecap=\"round\" stroke-linejoin=\"round\" marker-start=\"url(#square)\" fill=\"none\" stroke-width=\"2px\" marker-mid=\"url(#square)\" transform=\"translate(70 330 )scale(1 -1 )\"><path vector-effect=\"non-scaling-stroke\" d=\"M1.768000e+01,5.200000e+00 L3.461121e+01,4.991525e+01 L5.158486e+01,4.738116e+01 L6.855851e+01,4.454072e+01 L8.553216e+01,4.922463e+01 L1.025058e+02,5.089266e+01 L1.194795e+02,6.452660e+01 L1.364531e+02,9.806424e+01 L1.534268e+02,1.329468e+02 L1.704004e+02,1.603937e+02 L1.873741e+02,1.736627e+02 L2.043477e+02,1.825605e+02 L2.213214e+02,1.899518e+02 L2.382950e+02,1.930174e+02 L2.552686e+02,1.958561e+02 L2.722423e+02,1.985437e+02 L2.892159e+02,2.111434e+02 L3.061896e+02,2.076130e+02 L3.231632e+02,2.119558e+02 L3.401369e+02,2.144422e+02 L3.571105e+02,2.177250e+02 L3.740842e+02,2.181715e+02 L3.910578e+02,2.208817e+02 L4.080315e+02,2.227800e+02 L4.250051e+02,2.235637e+02 L4.419788e+02,2.247315e+02 L4.589524e+02,2.259453e+02 L4.759261e+02,2.310325e+02 L4.928997e+02,2.253001e+02 L5.098734e+02,2.289568e+02 L5.268470e+02,2.328535e+02 L5.438207e+02,2.316419e+02 L5.607943e+02,2.347840e+02 L5.777680e+02,2.318668e+02 L5.947416e+02,2.330331e+02 L6.117153e+02,2.337795e+02 L6.286889e+02,2.389528e+02 L6.456626e+02,2.359945e+02 L6.626362e+02,2.369745e+02 L6.796099e+02,2.378437e+02 L6.965835e+02,2.391245e+02 L7.135572e+02,2.386994e+02 L7.305308e+02,2.401738e+02 L7.475045e+02,2.405585e+02 L7.644781e+02,2.440738e+02 L7.814518e+02,2.413566e+02 L7.984254e+02,2.435532e+02 L8.153991e+02,2.430080e+02 L8.323727e+02,2.438994e+02 L8.493464e+02,2.456323e+02 L8.663200e+02,2.441627e+02 \"/></g><g stroke-linecap=\"round\" stroke-linejoin=\"round\" stroke-width=\"2px\" transform=\"translate(70 330 )scale(1 -1 )\" fill=\"none\" stroke=\"black\"><path vector-effect=\"non-scaling-stroke\" d=\"M1.768000e+01,0 L1.768000e+01,-6 M1.025482e+02,0 L1.025482e+02,-6 M1.874165e+02,0 L1.874165e+02,-6 M2.722847e+02,0 L2.722847e+02,-6 M3.571530e+02,0 L3.571530e+02,-6 M4.420212e+02,0 L4.420212e+02,-6 M5.268895e+02,0 L5.268895e+02,-6 M6.117577e+02,0 L6.117577e+02,-6 M6.966259e+02,0 L6.966259e+02,-6 M7.814942e+02,0 L7.814942e+02,-6 \"/></g><g font-size=\"12px\" font-style=\"normal\" dominant-baseline=\"hanging\" fill=\"black\" stroke=\"black\" stroke-linecap=\"round\" stroke-linejoin=\"round\" font-family=\"sans-serif\" font-weight=\"normal\" text-anchor=\"middle\" stroke-width=\"2px\" transform=\"translate(70 330 )scale(1 1 )\"><text x=\"1.768000e+01\" y=\"10\" dominant-baseline=\"hanging\" stroke=\"none\" vector-effect=\"non-scaling-stroke\">0</text><text dominant-baseline=\"hanging\" stroke=\"none\" vector-effect=\"non-scaling-stroke\" x=\"1.025482e+02\" y=\"10\">2000</text><text x=\"1.874165e+02\" y=\"10\" dominant-baseline=\"hanging\" stroke=\"none\" vector-effect=\"non-scaling-stroke\">4000</text><text x=\"2.722847e+02\" y=\"10\" dominant-baseline=\"hanging\" stroke=\"none\" vector-effect=\"non-scaling-stroke\">6000</text><text dominant-baseline=\"hanging\" stroke=\"none\" vector-effect=\"non-scaling-stroke\" x=\"3.571530e+02\" y=\"10\">8000</text><text stroke=\"none\" vector-effect=\"non-scaling-stroke\" x=\"4.420212e+02\" y=\"10\" dominant-baseline=\"hanging\">10000</text><text vector-effect=\"non-scaling-stroke\" x=\"5.268895e+02\" y=\"10\" dominant-baseline=\"hanging\" stroke=\"none\">12000</text><text dominant-baseline=\"hanging\" stroke=\"none\" vector-effect=\"non-scaling-stroke\" x=\"6.117577e+02\" y=\"10\">14000</text><text stroke=\"none\" vector-effect=\"non-scaling-stroke\" x=\"6.966259e+02\" y=\"10\" dominant-baseline=\"hanging\">16000</text><text vector-effect=\"non-scaling-stroke\" x=\"7.814942e+02\" y=\"10\" dominant-baseline=\"hanging\" stroke=\"none\">18000</text></g><g font-style=\"normal\" dominant-baseline=\"baseline\" fill=\"black\" stroke-linecap=\"round\" font-family=\"sans-serif\" font-size=\"12px\" stroke=\"black\" stroke-width=\"2px\" transform=\"translate(70 330 )scale(1 1 )rotate(0 0 0 )\" font-weight=\"bold\" text-anchor=\"middle\" stroke-linejoin=\"round\"><text stroke=\"none\" vector-effect=\"non-scaling-stroke\" x=\"442\" y=\"-6\" dominant-baseline=\"baseline\">Steps</text></g><g stroke=\"black\" stroke-width=\"2px\" font-style=\"normal\" text-anchor=\"middle\" stroke-linecap=\"round\" font-family=\"sans-serif\" font-size=\"12px\" fill=\"black\" font-weight=\"bold\" dominant-baseline=\"baseline\" stroke-linejoin=\"round\" transform=\"translate(70 330 )scale(1 -1 )\"><path d=\"M0,8.749695e+01 L-6,8.749695e+01 M0,1.724486e+02 L-6,1.724486e+02 \" vector-effect=\"non-scaling-stroke\"/></g><g font-weight=\"normal\" text-anchor=\"end\" dominant-baseline=\"middle\" font-family=\"sans-serif\" font-size=\"12px\" stroke-linecap=\"round\" stroke-linejoin=\"round\" stroke-width=\"2px\" transform=\"translate(70 330 )scale(1 1 )\" font-style=\"normal\" fill=\"black\" stroke=\"black\"><text y=\"-8.749695e+01\" dominant-baseline=\"middle\" stroke=\"none\" vector-effect=\"non-scaling-stroke\" x=\"-10\">0.600</text><text vector-effect=\"non-scaling-stroke\" x=\"-10\" y=\"-1.724486e+02\" dominant-baseline=\"middle\" stroke=\"none\">0.800</text></g><g text-anchor=\"middle\" stroke=\"black\" stroke-width=\"2px\" font-weight=\"bold\" stroke-linejoin=\"round\" font-size=\"12px\" dominant-baseline=\"hanging\" fill=\"black\" transform=\"translate(70 330 )scale(1 1 )rotate(-90 0 0 )\" font-style=\"normal\" stroke-linecap=\"round\" font-family=\"sans-serif\"><text vector-effect=\"non-scaling-stroke\" x=\"130\" y=\"6\" dominant-baseline=\"hanging\" stroke=\"none\">accuracy</text></g><g stroke-width=\"0.5px\" transform=\"translate(70 330 )scale(1 -1 )\" stroke-linejoin=\"round\" font-family=\"sans-serif\" stroke=\"gray\" stroke-linecap=\"round\" font-size=\"12px\" font-style=\"normal\" font-weight=\"bold\" text-anchor=\"middle\" dominant-baseline=\"hanging\" fill=\"black\"><path d=\"M0,8.749695e+01 L884,8.749695e+01 M0,1.724486e+02 L884,1.724486e+02 \" vector-effect=\"non-scaling-stroke\"/></g><g font-style=\"normal\" stroke-linecap=\"round\" stroke-linejoin=\"round\" font-size=\"12px\" stroke=\"black\" stroke-width=\"2px\" font-weight=\"bold\" font-family=\"sans-serif\" text-anchor=\"middle\" dominant-baseline=\"hanging\" fill=\"none\"><rect x=\"70\" y=\"70\" width=\"884\" height=\"260\" vector-effect=\"non-scaling-stroke\"/><g fill=\"black\" font-size=\"18px\" dominant-baseline=\"middle\"><text x=\"512\" y=\"35\" dominant-baseline=\"middle\" stroke=\"none\" vector-effect=\"non-scaling-stroke\">accuracy metrics</text></g><g fill=\"hsl(90, 47%, 65%)\" font-family=\"sans-serif\" font-size=\"12px\" stroke=\"hsl(90, 47%, 65%)\" font-weight=\"normal\" text-anchor=\"start\" dominant-baseline=\"hanging\" stroke-linejoin=\"round\" stroke-linecap=\"round\" stroke-width=\"1px\" font-style=\"normal\"><rect y=\"366\" width=\"12\" height=\"12\" vector-effect=\"non-scaling-stroke\" x=\"76\"/><g stroke=\"black\" fill=\"black\"><text x=\"92\" y=\"366\" dominant-baseline=\"hanging\" stroke=\"none\" vector-effect=\"non-scaling-stroke\">Eval on test-eval [Parallelized]: Mean Accuracy</text></g><g stroke-width=\"1px\" stroke-linejoin=\"round\" font-size=\"12px\" dominant-baseline=\"hanging\" stroke=\"hsl(301, 88%, 65%)\" text-anchor=\"start\" fill=\"hsl(301, 88%, 65%)\" stroke-linecap=\"round\" font-family=\"sans-serif\" font-style=\"normal\" font-weight=\"normal\"><rect vector-effect=\"non-scaling-stroke\" x=\"76\" y=\"384\" width=\"12\" height=\"12\"/><g stroke=\"black\" fill=\"black\"><text y=\"384\" dominant-baseline=\"hanging\" stroke=\"none\" vector-effect=\"non-scaling-stroke\" x=\"92\">Eval on train-eval [Parallelized]: Mean Accuracy</text></g><g stroke-linecap=\"round\" font-family=\"sans-serif\" dominant-baseline=\"hanging\" fill=\"hsl(152, 76%, 65%)\" stroke-width=\"1px\" font-style=\"normal\" font-weight=\"normal\" stroke-linejoin=\"round\" font-size=\"12px\" text-anchor=\"start\" stroke=\"hsl(152, 76%, 65%)\"><rect vector-effect=\"non-scaling-stroke\" x=\"76\" y=\"402\" width=\"12\" height=\"12\"/><g fill=\"black\" stroke=\"black\"><text y=\"402\" dominant-baseline=\"hanging\" stroke=\"none\" vector-effect=\"non-scaling-stroke\" x=\"92\">Train: Moving Average Accuracy</text></g></g></g></g></g></svg>"
      ]
     },
     "metadata": {},
     "output_type": "display_data"
    },
    {
     "name": "stdout",
     "output_type": "stream",
     "text": [
      "\n",
      "Results on train-eval [Parallelized]:\n"
     ]
    },
    {
     "data": {
      "text/html": [
       "<svg viewbox=\"0 0 1024 400\" style=\"background-color:#f8f8f8\" preserveAspectRatio=\"xMidYMid meet\" xmlns=\"http://www.w3.org/2000/svg\" width=\"1024\" height=\"454\"><defs><marker id=\"circle\" viewBox=\"0 0 10 10 \" refX=\"5\" refY=\"5\" markerUnits=\"userSpaceOnUse\" markerWidth=\"2%\" markerHeight=\"2%\"><circle fill=\"none\" stroke=\"black\" cx=\"5\" cy=\"5\" r=\"3\"/></marker><marker refX=\"5\" refY=\"5\" markerUnits=\"userSpaceOnUse\" markerWidth=\"2%\" markerHeight=\"2%\" id=\"filled-circle\" viewBox=\"0 0 10 10 \"><circle fill=\"black\" stroke=\"none\" cx=\"5\" cy=\"5\" r=\"3\"/></marker><marker id=\"square\" viewBox=\"0 0 10 10 \" refX=\"5\" refY=\"5\" markerUnits=\"userSpaceOnUse\" markerWidth=\"2%\" markerHeight=\"2%\"><rect fill=\"none\" stroke=\"black\" x=\"2\" y=\"2\" width=\"6\" height=\"6\"/></marker><marker markerWidth=\"2%\" markerHeight=\"2%\" id=\"filled-square\" viewBox=\"0 0 10 10 \" refX=\"5\" refY=\"5\" markerUnits=\"userSpaceOnUse\"><rect fill=\"black\" stroke=\"none\" x=\"2\" y=\"2\" width=\"6\" height=\"6\"/></marker></defs><g stroke=\"hsl(90, 47%, 65%)\" marker-end=\"url(#square)\" marker-mid=\"url(#square)\" fill=\"none\" stroke-linejoin=\"round\" transform=\"translate(70 330 )scale(1 -1 )\" stroke-width=\"2px\" stroke-linecap=\"round\" marker-start=\"url(#square)\"><path vector-effect=\"non-scaling-stroke\" d=\"M1.768000e+01,2.398636e+02 L3.461121e+01,2.395259e+02 L5.158486e+01,2.347734e+02 L6.855851e+01,2.344833e+02 L8.553216e+01,2.342684e+02 L1.025058e+02,2.340470e+02 L1.194795e+02,2.320613e+02 L1.364531e+02,2.112140e+02 L1.534268e+02,1.948614e+02 L1.704004e+02,1.818587e+02 L1.873741e+02,1.699345e+02 L2.043477e+02,1.606397e+02 L2.213214e+02,1.584812e+02 L2.382950e+02,1.544476e+02 L2.552686e+02,1.531060e+02 L2.722423e+02,1.455820e+02 L2.892159e+02,1.486444e+02 L3.061896e+02,1.537765e+02 L3.231632e+02,1.503401e+02 L3.401369e+02,1.624070e+02 L3.571105e+02,1.601683e+02 L3.740842e+02,1.519292e+02 L3.910578e+02,1.750724e+02 L4.080315e+02,1.483346e+02 L4.250051e+02,1.580635e+02 L4.419788e+02,1.515566e+02 L4.589524e+02,1.561011e+02 L4.759261e+02,1.664676e+02 L4.928997e+02,1.703661e+02 L5.098734e+02,1.821730e+02 L5.268470e+02,1.689895e+02 L5.438207e+02,1.598698e+02 L5.607943e+02,1.784582e+02 L5.777680e+02,1.652228e+02 L5.947416e+02,1.598191e+02 L6.117153e+02,1.722631e+02 L6.286889e+02,1.771708e+02 L6.456626e+02,1.739733e+02 L6.626362e+02,1.693501e+02 L6.796099e+02,1.741469e+02 L6.965835e+02,1.728408e+02 L7.135572e+02,1.734143e+02 L7.305308e+02,1.993738e+02 L7.475045e+02,1.797178e+02 L7.644781e+02,2.211414e+02 L7.814518e+02,1.967045e+02 L7.984254e+02,2.067284e+02 L8.153991e+02,1.920824e+02 L8.323727e+02,2.088062e+02 L8.493464e+02,2.100442e+02 L8.663200e+02,1.953941e+02 \"/></g><g transform=\"translate(70 330 )scale(1 -1 )\" stroke-linecap=\"round\" stroke-linejoin=\"round\" marker-start=\"url(#square)\" marker-mid=\"url(#square)\" fill=\"none\" marker-end=\"url(#square)\" stroke=\"hsl(301, 88%, 65%)\" stroke-width=\"2px\"><path vector-effect=\"non-scaling-stroke\" d=\"M1.768000e+01,2.400140e+02 L3.461121e+01,2.393565e+02 L5.158486e+01,2.346363e+02 L6.855851e+01,2.343103e+02 L8.553216e+01,2.338840e+02 L1.025058e+02,2.334131e+02 L1.194795e+02,2.295718e+02 L1.364531e+02,1.946793e+02 L1.534268e+02,1.618868e+02 L1.704004e+02,1.467313e+02 L1.873741e+02,1.184209e+02 L2.043477e+02,1.060912e+02 L2.213214e+02,9.520281e+01 L2.382950e+02,8.656636e+01 L2.552686e+02,8.031523e+01 L2.722423e+02,7.403385e+01 L2.892159e+02,6.710905e+01 L3.061896e+02,6.469449e+01 L3.231632e+02,5.773223e+01 L3.401369e+02,5.970144e+01 L3.571105e+02,5.456558e+01 L3.740842e+02,4.767674e+01 L3.910578e+02,5.710199e+01 L4.080315e+02,4.053902e+01 L4.250051e+02,4.231262e+01 L4.419788e+02,3.529819e+01 L4.589524e+02,3.296709e+01 L4.759261e+02,3.400515e+01 L4.928997e+02,4.547432e+01 L5.098734e+02,3.650455e+01 L5.268470e+02,2.723137e+01 L5.438207e+02,2.271173e+01 L5.607943e+02,2.518675e+01 L5.777680e+02,1.999265e+01 L5.947416e+02,1.824233e+01 L6.117153e+02,1.734975e+01 L6.286889e+02,1.616084e+01 L6.456626e+02,1.510014e+01 L6.626362e+02,1.313717e+01 L6.796099e+02,1.148676e+01 L6.965835e+02,1.098009e+01 L7.135572e+02,1.033914e+01 L7.305308e+02,1.327897e+01 L7.475045e+02,9.664015e+00 L7.644781e+02,1.214961e+01 L7.814518e+02,7.420032e+00 L7.984254e+02,7.585543e+00 L8.153991e+02,5.655403e+00 L8.323727e+02,5.956744e+00 L8.493464e+02,5.290376e+00 L8.663200e+02,5.200000e+00 \"/></g><g stroke-linecap=\"round\" stroke-linejoin=\"round\" fill=\"none\" stroke-width=\"2px\" stroke=\"hsl(152, 76%, 65%)\" marker-end=\"url(#square)\" marker-start=\"url(#square)\" marker-mid=\"url(#square)\" transform=\"translate(70 330 )scale(1 -1 )\"><path vector-effect=\"non-scaling-stroke\" d=\"M1.768000e+01,2.548000e+02 L3.461121e+01,2.349535e+02 L5.158486e+01,2.355006e+02 L6.855851e+01,2.351799e+02 L8.553216e+01,2.346035e+02 L1.025058e+02,2.345253e+02 L1.194795e+02,2.322820e+02 L1.364531e+02,2.187854e+02 L1.534268e+02,1.944421e+02 L1.704004e+02,1.674363e+02 L1.873741e+02,1.491192e+02 L2.043477e+02,1.386437e+02 L2.213214e+02,1.259838e+02 L2.382950e+02,1.210887e+02 L2.552686e+02,1.168667e+02 L2.722423e+02,1.091820e+02 L2.892159e+02,9.353220e+01 L3.061896e+02,9.671721e+01 L3.231632e+02,8.902827e+01 L3.401369e+02,8.778151e+01 L3.571105e+02,8.093332e+01 L3.740842e+02,7.842821e+01 L3.910578e+02,7.462785e+01 L4.080315e+02,7.279030e+01 L4.250051e+02,7.004676e+01 L4.419788e+02,6.660369e+01 L4.589524e+02,6.566080e+01 L4.759261e+02,5.669504e+01 L4.928997e+02,6.526197e+01 L5.098734e+02,5.811495e+01 L5.268470e+02,4.993285e+01 L5.438207e+02,5.272051e+01 L5.607943e+02,4.937814e+01 L5.777680e+02,5.141263e+01 L5.947416e+02,5.030329e+01 L6.117153e+02,4.793418e+01 L6.286889e+02,4.025948e+01 L6.456626e+02,4.720784e+01 L6.626362e+02,4.329128e+01 L6.796099e+02,3.937139e+01 L6.965835e+02,3.800425e+01 L7.135572e+02,3.876030e+01 L7.305308e+02,3.545950e+01 L7.475045e+02,3.705051e+01 L7.644781e+02,2.737348e+01 L7.814518e+02,3.359804e+01 L7.984254e+02,3.008364e+01 L8.153991e+02,2.894863e+01 L8.323727e+02,2.784375e+01 L8.493464e+02,2.604156e+01 L8.663200e+02,2.771056e+01 \"/></g><g stroke-width=\"2px\" stroke-linecap=\"round\" stroke-linejoin=\"round\" transform=\"translate(70 330 )scale(1 -1 )\" stroke=\"black\" fill=\"none\"><path d=\"M1.768000e+01,0 L1.768000e+01,-6 M1.025482e+02,0 L1.025482e+02,-6 M1.874165e+02,0 L1.874165e+02,-6 M2.722847e+02,0 L2.722847e+02,-6 M3.571530e+02,0 L3.571530e+02,-6 M4.420212e+02,0 L4.420212e+02,-6 M5.268895e+02,0 L5.268895e+02,-6 M6.117577e+02,0 L6.117577e+02,-6 M6.966259e+02,0 L6.966259e+02,-6 M7.814942e+02,0 L7.814942e+02,-6 \" vector-effect=\"non-scaling-stroke\"/></g><g transform=\"translate(70 330 )scale(1 1 )\" dominant-baseline=\"hanging\" stroke=\"black\" font-size=\"12px\" font-style=\"normal\" fill=\"black\" stroke-linecap=\"round\" stroke-linejoin=\"round\" font-family=\"sans-serif\" stroke-width=\"2px\" font-weight=\"normal\" text-anchor=\"middle\"><text vector-effect=\"non-scaling-stroke\" x=\"1.768000e+01\" y=\"10\" dominant-baseline=\"hanging\" stroke=\"none\">0</text><text vector-effect=\"non-scaling-stroke\" x=\"1.025482e+02\" y=\"10\" dominant-baseline=\"hanging\" stroke=\"none\">2000</text><text y=\"10\" dominant-baseline=\"hanging\" stroke=\"none\" vector-effect=\"non-scaling-stroke\" x=\"1.874165e+02\">4000</text><text y=\"10\" dominant-baseline=\"hanging\" stroke=\"none\" vector-effect=\"non-scaling-stroke\" x=\"2.722847e+02\">6000</text><text stroke=\"none\" vector-effect=\"non-scaling-stroke\" x=\"3.571530e+02\" y=\"10\" dominant-baseline=\"hanging\">8000</text><text x=\"4.420212e+02\" y=\"10\" dominant-baseline=\"hanging\" stroke=\"none\" vector-effect=\"non-scaling-stroke\">10000</text><text x=\"5.268895e+02\" y=\"10\" dominant-baseline=\"hanging\" stroke=\"none\" vector-effect=\"non-scaling-stroke\">12000</text><text vector-effect=\"non-scaling-stroke\" x=\"6.117577e+02\" y=\"10\" dominant-baseline=\"hanging\" stroke=\"none\">14000</text><text dominant-baseline=\"hanging\" stroke=\"none\" vector-effect=\"non-scaling-stroke\" x=\"6.966259e+02\" y=\"10\">16000</text><text x=\"7.814942e+02\" y=\"10\" dominant-baseline=\"hanging\" stroke=\"none\" vector-effect=\"non-scaling-stroke\">18000</text></g><g transform=\"translate(70 330 )scale(1 1 )rotate(0 0 0 )\" font-family=\"sans-serif\" font-weight=\"bold\" dominant-baseline=\"baseline\" stroke=\"black\" font-size=\"12px\" font-style=\"normal\" fill=\"black\" text-anchor=\"middle\" stroke-width=\"2px\" stroke-linecap=\"round\" stroke-linejoin=\"round\"><text x=\"442\" y=\"-6\" dominant-baseline=\"baseline\" stroke=\"none\" vector-effect=\"non-scaling-stroke\">Steps</text></g><g font-weight=\"bold\" stroke-linejoin=\"round\" transform=\"translate(70 330 )scale(1 -1 )\" font-size=\"12px\" font-style=\"normal\" text-anchor=\"middle\" dominant-baseline=\"baseline\" stroke=\"black\" fill=\"black\" stroke-width=\"2px\" stroke-linecap=\"round\" font-family=\"sans-serif\"><path vector-effect=\"non-scaling-stroke\" d=\"M0,6.461957e+01 L-6,6.461957e+01 M0,1.335226e+02 L-6,1.335226e+02 M0,2.024256e+02 L-6,2.024256e+02 \"/></g><g font-size=\"12px\" fill=\"black\" stroke-width=\"2px\" stroke-linecap=\"round\" font-weight=\"normal\" text-anchor=\"end\" font-family=\"sans-serif\" font-style=\"normal\" stroke-linejoin=\"round\" transform=\"translate(70 330 )scale(1 1 )\" dominant-baseline=\"middle\" stroke=\"black\"><text x=\"-10\" y=\"-6.461957e+01\" dominant-baseline=\"middle\" stroke=\"none\" vector-effect=\"non-scaling-stroke\">0.200</text><text stroke=\"none\" vector-effect=\"non-scaling-stroke\" x=\"-10\" y=\"-1.335226e+02\" dominant-baseline=\"middle\">0.400</text><text dominant-baseline=\"middle\" stroke=\"none\" vector-effect=\"non-scaling-stroke\" x=\"-10\" y=\"-2.024256e+02\">0.600</text></g><g stroke=\"black\" transform=\"translate(70 330 )scale(1 1 )rotate(-90 0 0 )\" font-size=\"12px\" fill=\"black\" font-weight=\"bold\" text-anchor=\"middle\" font-family=\"sans-serif\" font-style=\"normal\" stroke-width=\"2px\" stroke-linecap=\"round\" stroke-linejoin=\"round\" dominant-baseline=\"hanging\"><text x=\"130\" y=\"6\" dominant-baseline=\"hanging\" stroke=\"none\" vector-effect=\"non-scaling-stroke\">loss</text></g><g font-weight=\"bold\" text-anchor=\"middle\" transform=\"translate(70 330 )scale(1 -1 )\" font-family=\"sans-serif\" font-size=\"12px\" font-style=\"normal\" stroke-width=\"0.5px\" dominant-baseline=\"hanging\" stroke=\"gray\" stroke-linecap=\"round\" stroke-linejoin=\"round\" fill=\"black\"><path vector-effect=\"non-scaling-stroke\" d=\"M0,6.461957e+01 L884,6.461957e+01 M0,1.335226e+02 L884,1.335226e+02 M0,2.024256e+02 L884,2.024256e+02 \"/></g><g font-family=\"sans-serif\" dominant-baseline=\"hanging\" font-size=\"12px\" stroke-width=\"2px\" stroke-linecap=\"round\" stroke-linejoin=\"round\" font-weight=\"bold\" text-anchor=\"middle\" stroke=\"black\" font-style=\"normal\" fill=\"none\"><rect vector-effect=\"non-scaling-stroke\" x=\"70\" y=\"70\" width=\"884\" height=\"260\"/><g dominant-baseline=\"middle\" font-size=\"18px\" fill=\"black\"><text x=\"512\" y=\"35\" dominant-baseline=\"middle\" stroke=\"none\" vector-effect=\"non-scaling-stroke\">loss metrics</text></g><g font-family=\"sans-serif\" fill=\"hsl(90, 47%, 65%)\" stroke-width=\"1px\" text-anchor=\"start\" font-style=\"normal\" dominant-baseline=\"hanging\" font-weight=\"normal\" stroke=\"hsl(90, 47%, 65%)\" stroke-linecap=\"round\" stroke-linejoin=\"round\" font-size=\"12px\"><rect y=\"366\" width=\"12\" height=\"12\" vector-effect=\"non-scaling-stroke\" x=\"76\"/><g stroke=\"black\" fill=\"black\"><text vector-effect=\"non-scaling-stroke\" x=\"92\" y=\"366\" dominant-baseline=\"hanging\" stroke=\"none\">Eval on test-eval [Parallelized]: Mean Loss</text></g><g dominant-baseline=\"hanging\" stroke=\"hsl(301, 88%, 65%)\" font-style=\"normal\" fill=\"hsl(301, 88%, 65%)\" stroke-width=\"1px\" stroke-linecap=\"round\" font-weight=\"normal\" text-anchor=\"start\" stroke-linejoin=\"round\" font-family=\"sans-serif\" font-size=\"12px\"><rect x=\"76\" y=\"384\" width=\"12\" height=\"12\" vector-effect=\"non-scaling-stroke\"/><g stroke=\"black\" fill=\"black\"><text x=\"92\" y=\"384\" dominant-baseline=\"hanging\" stroke=\"none\" vector-effect=\"non-scaling-stroke\">Eval on train-eval [Parallelized]: Mean Loss</text></g><g font-style=\"normal\" stroke-linejoin=\"round\" font-family=\"sans-serif\" dominant-baseline=\"hanging\" font-size=\"12px\" fill=\"hsl(152, 76%, 65%)\" stroke-width=\"1px\" stroke-linecap=\"round\" font-weight=\"normal\" text-anchor=\"start\" stroke=\"hsl(152, 76%, 65%)\"><rect width=\"12\" height=\"12\" vector-effect=\"non-scaling-stroke\" x=\"76\" y=\"402\"/><g fill=\"black\" stroke=\"black\"><text y=\"402\" dominant-baseline=\"hanging\" stroke=\"none\" vector-effect=\"non-scaling-stroke\" x=\"92\">Train: Moving Average Loss</text></g></g></g></g></g></svg>"
      ]
     },
     "metadata": {},
     "output_type": "display_data"
    },
    {
     "name": "stdout",
     "output_type": "stream",
     "text": [
      "\tMean Loss (#loss): 0.028\n",
      "\tMean Accuracy (#acc): 99.38%\n",
      "Results on test-eval [Parallelized]:\n",
      "\tMean Loss (#loss): 0.580\n",
      "\tMean Accuracy (#acc): 83.21%\n"
     ]
    }
   ],
   "source": [
    "// Conv1DGraph stacks two 1D convolution layers on top of the sequence embeddings (shaped `[batch_size, sequence_len, embed_dim]`).\n",
    "func Conv1DGraph(ctx *context.Context, embed, mask *Node) *Node {\n",
    "    g := embed.Graph()\n",
    "    // 1D Convolution:\n",
    "    {\n",
    "        ctx := ctx.In(\"conv1\")\n",
    "        embed = Activation(embed)\n",
    "        embed = layers.Dropout(ctx, embed, ConstAsDType(g, DType, *flagDropoutRate))\n",
    "        embed = layers.Convolution(ctx, embed).KernelSize(7).Filters(*flagTokenEmbeddingSize).Strides(3).Done()\n",
    "        AssertNoError(g.Error())\n",
    "        embed = Normalize(ctx, embed)\n",
    "    }\n",
    "    {\n",
    "        ctx := ctx.In(\"conv2\")\n",
    "        embed = Activation(embed)\n",
    "        embed = layers.Convolution(ctx, embed).KernelSize(7).Filters(*flagTokenEmbeddingSize).Strides(3).Done()\n",
    "        AssertNoError(g.Error())\n",
    "        embed = Normalize(ctx, embed)\n",
    "    }\n",
    "    return embed\n",
    "}\n",
    "\n",
    "%% --model=cnn --steps=20000 --optimizer=adamw\n",
    "trainModel()"
   ]
  },
  {
   "cell_type": "markdown",
   "id": "c9adcb51-2190-4cfc-9224-07f7331bae41",
   "metadata": {},
   "source": [
    "### Transformer Model\n",
    "\n",
    "Finally a Transformer version of the model. \n",
    "\n",
    "Notice it's not significantly better than our previous simple Bag-Of-Words model. Likely because there is not enough data for the transformer to make any difference. The success of transformers in large-language-models is in large part due to the training with huge amounts of unsupervised (or self-supervised) data.\n"
   ]
  },
  {
   "cell_type": "code",
   "execution_count": 9,
   "id": "40e919bd-7029-4522-9b2f-fc64c308b671",
   "metadata": {
    "tags": []
   },
   "outputs": [
    {
     "name": "stdout",
     "output_type": "stream",
     "text": [
      "> Loading previously generated preprocessed binary file.\n",
      "Loaded data from \"aclImdb.bin\": 100000 examples, 141088 unique tokens, 23727054 tokens in total.\n",
      "Platform: CUDA\n"
     ]
    },
    {
     "data": {
      "text/html": []
     },
     "metadata": {},
     "output_type": "display_data"
    },
    {
     "name": "stdout",
     "output_type": "stream",
     "text": [
      "Training (3000 steps):  100% [\u001b[32m=\u001b[0m\u001b[32m=\u001b[0m\u001b[32m=\u001b[0m\u001b[32m=\u001b[0m\u001b[32m=\u001b[0m\u001b[32m=\u001b[0m\u001b[32m=\u001b[0m\u001b[32m=\u001b[0m\u001b[32m=\u001b[0m\u001b[32m=\u001b[0m\u001b[32m=\u001b[0m\u001b[32m=\u001b[0m\u001b[32m=\u001b[0m\u001b[32m=\u001b[0m\u001b[32m=\u001b[0m\u001b[32m=\u001b[0m\u001b[32m=\u001b[0m\u001b[32m=\u001b[0m\u001b[32m=\u001b[0m\u001b[32m=\u001b[0m\u001b[32m=\u001b[0m\u001b[32m=\u001b[0m\u001b[32m=\u001b[0m\u001b[32m=\u001b[0m\u001b[32m=\u001b[0m\u001b[32m=\u001b[0m\u001b[32m=\u001b[0m\u001b[32m=\u001b[0m\u001b[32m=\u001b[0m\u001b[32m=\u001b[0m\u001b[32m=\u001b[0m\u001b[32m=\u001b[0m\u001b[32m=\u001b[0m\u001b[32m=\u001b[0m\u001b[32m=\u001b[0m\u001b[32m=\u001b[0m\u001b[32m=\u001b[0m\u001b[32m=\u001b[0m\u001b[32m=\u001b[0m\u001b[32m=\u001b[0m] (7 steps/s)\u001b[0m [loss=0.100] [~loss=0.156] [~acc=95.01%]          \n"
     ]
    },
    {
     "data": {
      "text/html": [
       "<svg xmlns=\"http://www.w3.org/2000/svg\" width=\"1024\" height=\"454\" viewbox=\"0 0 1024 400\" style=\"background-color:#f8f8f8\" preserveAspectRatio=\"xMidYMid meet\"><defs><marker refY=\"5\" markerUnits=\"userSpaceOnUse\" markerWidth=\"2%\" markerHeight=\"2%\" id=\"circle\" viewBox=\"0 0 10 10 \" refX=\"5\"><circle cx=\"5\" cy=\"5\" r=\"3\" fill=\"none\" stroke=\"black\"/></marker><marker refY=\"5\" markerUnits=\"userSpaceOnUse\" markerWidth=\"2%\" markerHeight=\"2%\" id=\"filled-circle\" viewBox=\"0 0 10 10 \" refX=\"5\"><circle cx=\"5\" cy=\"5\" r=\"3\" fill=\"black\" stroke=\"none\"/></marker><marker viewBox=\"0 0 10 10 \" refX=\"5\" refY=\"5\" markerUnits=\"userSpaceOnUse\" markerWidth=\"2%\" markerHeight=\"2%\" id=\"square\"><rect x=\"2\" y=\"2\" width=\"6\" height=\"6\" fill=\"none\" stroke=\"black\"/></marker><marker markerHeight=\"2%\" id=\"filled-square\" viewBox=\"0 0 10 10 \" refX=\"5\" refY=\"5\" markerUnits=\"userSpaceOnUse\" markerWidth=\"2%\"><rect fill=\"black\" stroke=\"none\" x=\"2\" y=\"2\" width=\"6\" height=\"6\"/></marker></defs><g stroke=\"hsl(90, 47%, 65%)\" marker-start=\"url(#square)\" marker-mid=\"url(#square)\" marker-end=\"url(#square)\" fill=\"none\" stroke-width=\"2px\" stroke-linecap=\"round\" transform=\"translate(70 330 )scale(1 -1 )\" stroke-linejoin=\"round\"><path vector-effect=\"non-scaling-stroke\" d=\"M1.768000e+01,5.007436e+01 L3.437549e+01,4.597839e+01 L5.135394e+01,4.597839e+01 L6.833240e+01,4.597839e+01 L8.531086e+01,5.505837e+01 L1.022893e+02,4.420226e+01 L1.192678e+02,1.156097e+02 L1.362462e+02,1.585449e+02 L1.532247e+02,1.761611e+02 L1.702032e+02,1.858211e+02 L1.871816e+02,1.888840e+02 L2.041601e+02,1.937411e+02 L2.211385e+02,1.955716e+02 L2.381170e+02,1.988158e+02 L2.550955e+02,1.990333e+02 L2.720739e+02,1.783541e+02 L2.890524e+02,1.973659e+02 L3.060308e+02,1.982540e+02 L3.230093e+02,2.012625e+02 L3.399878e+02,1.962966e+02 L3.569662e+02,2.040354e+02 L3.739447e+02,1.948830e+02 L3.909231e+02,2.033830e+02 L4.079016e+02,1.989970e+02 L4.248801e+02,1.975290e+02 L4.418585e+02,2.049416e+02 L4.588370e+02,2.062647e+02 L4.758154e+02,2.076964e+02 L4.927939e+02,2.035461e+02 L5.097724e+02,2.044704e+02 L5.267508e+02,2.091282e+02 L5.437293e+02,2.083670e+02 L5.607077e+02,2.060290e+02 L5.776862e+02,2.020781e+02 L5.946646e+02,2.038361e+02 L6.116431e+02,2.057391e+02 L6.286216e+02,2.034736e+02 L6.456000e+02,2.075152e+02 L6.625785e+02,2.057028e+02 L6.795569e+02,2.051772e+02 L6.965354e+02,2.061921e+02 L7.135139e+02,2.026580e+02 L7.304923e+02,2.050685e+02 L7.474708e+02,2.043979e+02 L7.644492e+02,2.057028e+02 L7.814277e+02,2.063371e+02 L7.984062e+02,2.058297e+02 L8.153846e+02,2.048691e+02 L8.323631e+02,2.071708e+02 L8.493415e+02,2.035461e+02 L8.663200e+02,1.977646e+02 \"/></g><g fill=\"none\" stroke-width=\"2px\" stroke-linecap=\"round\" stroke-linejoin=\"round\" marker-end=\"url(#square)\" stroke=\"hsl(301, 88%, 65%)\" transform=\"translate(70 330 )scale(1 -1 )\" marker-start=\"url(#square)\" marker-mid=\"url(#square)\"><path vector-effect=\"non-scaling-stroke\" d=\"M1.768000e+01,5.059993e+01 L3.437549e+01,4.597839e+01 L5.135394e+01,4.597839e+01 L6.833240e+01,4.597839e+01 L8.531086e+01,5.360848e+01 L1.022893e+02,6.683881e+01 L1.192678e+02,1.277345e+02 L1.362462e+02,1.736057e+02 L1.532247e+02,1.976559e+02 L1.702032e+02,2.036911e+02 L1.871816e+02,2.107593e+02 L2.041601e+02,2.159608e+02 L2.211385e+02,2.163777e+02 L2.381170e+02,2.224129e+02 L2.550955e+02,2.246421e+02 L2.720739e+02,2.068446e+02 L2.890524e+02,2.252765e+02 L3.060308e+02,2.272519e+02 L3.230093e+02,2.302605e+02 L3.399878e+02,2.279044e+02 L3.569662e+02,2.335409e+02 L3.739447e+02,2.284300e+02 L3.909231e+02,2.355707e+02 L4.079016e+02,2.332327e+02 L4.248801e+02,2.342296e+02 L4.418585e+02,2.387605e+02 L4.588370e+02,2.403735e+02 L4.758154e+02,2.418959e+02 L4.927939e+02,2.411709e+02 L5.097724e+02,2.420590e+02 L5.267508e+02,2.446688e+02 L5.437293e+02,2.453213e+02 L5.607077e+02,2.461369e+02 L5.776862e+02,2.432189e+02 L5.946646e+02,2.427658e+02 L6.116431e+02,2.455750e+02 L6.286216e+02,2.453213e+02 L6.456000e+02,2.494173e+02 L6.625785e+02,2.469343e+02 L6.795569e+02,2.481123e+02 L6.965354e+02,2.500516e+02 L7.135139e+02,2.472243e+02 L7.304923e+02,2.493991e+02 L7.474708e+02,2.481123e+02 L7.644492e+02,2.521721e+02 L7.814277e+02,2.543107e+02 L7.984062e+02,2.532776e+02 L8.153846e+02,2.518277e+02 L8.323631e+02,2.548000e+02 L8.493415e+02,2.438895e+02 L8.663200e+02,2.416422e+02 \"/></g><g stroke-linecap=\"round\" fill=\"none\" stroke-width=\"2px\" stroke-linejoin=\"round\" marker-start=\"url(#square)\" transform=\"translate(70 330 )scale(1 -1 )\" stroke=\"hsl(152, 76%, 65%)\" marker-end=\"url(#square)\" marker-mid=\"url(#square)\"><path vector-effect=\"non-scaling-stroke\" d=\"M1.768000e+01,5.200000e+00 L3.437549e+01,6.500834e+01 L5.135394e+01,5.425255e+01 L6.833240e+01,5.575020e+01 L8.531086e+01,5.701864e+01 L1.022893e+02,5.902854e+01 L1.192678e+02,7.200031e+01 L1.362462e+02,1.080677e+02 L1.532247e+02,1.403431e+02 L1.702032e+02,1.631510e+02 L1.871816e+02,1.832972e+02 L2.041601e+02,1.957751e+02 L2.211385e+02,2.011245e+02 L2.381170e+02,2.061243e+02 L2.550955e+02,2.105062e+02 L2.720739e+02,2.123726e+02 L2.890524e+02,2.150753e+02 L3.060308e+02,2.190480e+02 L3.230093e+02,2.228384e+02 L3.399878e+02,2.242765e+02 L3.569662e+02,2.259290e+02 L3.739447e+02,2.263707e+02 L3.909231e+02,2.295381e+02 L4.079016e+02,2.311053e+02 L4.248801e+02,2.319233e+02 L4.418585e+02,2.304701e+02 L4.588370e+02,2.340389e+02 L4.758154e+02,2.348556e+02 L4.927939e+02,2.355303e+02 L5.097724e+02,2.374146e+02 L5.267508e+02,2.391440e+02 L5.437293e+02,2.402761e+02 L5.607077e+02,2.385771e+02 L5.776862e+02,2.396321e+02 L5.946646e+02,2.416140e+02 L6.116431e+02,2.417526e+02 L6.286216e+02,2.421201e+02 L6.456000e+02,2.430999e+02 L6.625785e+02,2.446716e+02 L6.795569e+02,2.451958e+02 L6.965354e+02,2.466139e+02 L7.135139e+02,2.468620e+02 L7.304923e+02,2.457331e+02 L7.474708e+02,2.476764e+02 L7.644492e+02,2.486785e+02 L7.814277e+02,2.492620e+02 L7.984062e+02,2.480444e+02 L8.153846e+02,2.483162e+02 L8.323631e+02,2.499528e+02 L8.493415e+02,2.509319e+02 L8.663200e+02,2.499380e+02 \"/></g><g stroke-width=\"2px\" stroke-linecap=\"round\" transform=\"translate(70 330 )scale(1 -1 )\" stroke-linejoin=\"round\" fill=\"none\" stroke=\"black\"><path vector-effect=\"non-scaling-stroke\" d=\"M1.768000e+01,0 L1.768000e+01,-6 M7.427486e+01,0 L7.427486e+01,-6 M1.308697e+02,0 L1.308697e+02,-6 M1.874646e+02,0 L1.874646e+02,-6 M2.440595e+02,0 L2.440595e+02,-6 M3.006543e+02,0 L3.006543e+02,-6 M3.572492e+02,0 L3.572492e+02,-6 M4.138441e+02,0 L4.138441e+02,-6 M4.704389e+02,0 L4.704389e+02,-6 M5.270338e+02,0 L5.270338e+02,-6 M5.836286e+02,0 L5.836286e+02,-6 M6.402235e+02,0 L6.402235e+02,-6 M6.968184e+02,0 L6.968184e+02,-6 M7.534132e+02,0 L7.534132e+02,-6 M8.100081e+02,0 L8.100081e+02,-6 \"/></g><g transform=\"translate(70 330 )scale(1 1 )\" font-size=\"12px\" font-weight=\"normal\" fill=\"black\" stroke=\"black\" stroke-linecap=\"round\" stroke-width=\"2px\" text-anchor=\"middle\" stroke-linejoin=\"round\" font-family=\"sans-serif\" dominant-baseline=\"hanging\" font-style=\"normal\"><text stroke=\"none\" vector-effect=\"non-scaling-stroke\" x=\"1.768000e+01\" y=\"10\" dominant-baseline=\"hanging\">0</text><text stroke=\"none\" vector-effect=\"non-scaling-stroke\" x=\"7.427486e+01\" y=\"10\" dominant-baseline=\"hanging\">200</text><text vector-effect=\"non-scaling-stroke\" x=\"1.308697e+02\" y=\"10\" dominant-baseline=\"hanging\" stroke=\"none\">400</text><text stroke=\"none\" vector-effect=\"non-scaling-stroke\" x=\"1.874646e+02\" y=\"10\" dominant-baseline=\"hanging\">600</text><text stroke=\"none\" vector-effect=\"non-scaling-stroke\" x=\"2.440595e+02\" y=\"10\" dominant-baseline=\"hanging\">800</text><text stroke=\"none\" vector-effect=\"non-scaling-stroke\" x=\"3.006543e+02\" y=\"10\" dominant-baseline=\"hanging\">1000</text><text y=\"10\" dominant-baseline=\"hanging\" stroke=\"none\" vector-effect=\"non-scaling-stroke\" x=\"3.572492e+02\">1200</text><text x=\"4.138441e+02\" y=\"10\" dominant-baseline=\"hanging\" stroke=\"none\" vector-effect=\"non-scaling-stroke\">1400</text><text y=\"10\" dominant-baseline=\"hanging\" stroke=\"none\" vector-effect=\"non-scaling-stroke\" x=\"4.704389e+02\">1600</text><text vector-effect=\"non-scaling-stroke\" x=\"5.270338e+02\" y=\"10\" dominant-baseline=\"hanging\" stroke=\"none\">1800</text><text x=\"5.836286e+02\" y=\"10\" dominant-baseline=\"hanging\" stroke=\"none\" vector-effect=\"non-scaling-stroke\">2000</text><text x=\"6.402235e+02\" y=\"10\" dominant-baseline=\"hanging\" stroke=\"none\" vector-effect=\"non-scaling-stroke\">2200</text><text dominant-baseline=\"hanging\" stroke=\"none\" vector-effect=\"non-scaling-stroke\" x=\"6.968184e+02\" y=\"10\">2400</text><text dominant-baseline=\"hanging\" stroke=\"none\" vector-effect=\"non-scaling-stroke\" x=\"7.534132e+02\" y=\"10\">2600</text><text dominant-baseline=\"hanging\" stroke=\"none\" vector-effect=\"non-scaling-stroke\" x=\"8.100081e+02\" y=\"10\">2800</text></g><g font-size=\"12px\" font-weight=\"bold\" text-anchor=\"middle\" dominant-baseline=\"baseline\" stroke=\"black\" stroke-width=\"2px\" stroke-linecap=\"round\" transform=\"translate(70 330 )scale(1 1 )rotate(0 0 0 )\" font-family=\"sans-serif\" stroke-linejoin=\"round\" font-style=\"normal\" fill=\"black\"><text x=\"442\" y=\"-6\" dominant-baseline=\"baseline\" stroke=\"none\" vector-effect=\"non-scaling-stroke\">Steps</text></g><g font-style=\"normal\" stroke=\"black\" text-anchor=\"middle\" stroke-linecap=\"round\" transform=\"translate(70 330 )scale(1 -1 )\" font-size=\"12px\" font-weight=\"bold\" dominant-baseline=\"baseline\" stroke-linejoin=\"round\" font-family=\"sans-serif\" stroke-width=\"2px\" fill=\"black\"><path vector-effect=\"non-scaling-stroke\" d=\"M0,9.128772e+01 L-6,9.128772e+01 M0,1.819064e+02 L-6,1.819064e+02 \"/></g><g transform=\"translate(70 330 )scale(1 1 )\" stroke-linejoin=\"round\" font-family=\"sans-serif\" dominant-baseline=\"middle\" font-size=\"12px\" font-style=\"normal\" font-weight=\"normal\" stroke-linecap=\"round\" text-anchor=\"end\" fill=\"black\" stroke=\"black\" stroke-width=\"2px\"><text stroke=\"none\" vector-effect=\"non-scaling-stroke\" x=\"-10\" y=\"-9.128772e+01\" dominant-baseline=\"middle\">0.600</text><text dominant-baseline=\"middle\" stroke=\"none\" vector-effect=\"non-scaling-stroke\" x=\"-10\" y=\"-1.819064e+02\">0.800</text></g><g font-weight=\"bold\" fill=\"black\" text-anchor=\"middle\" stroke-linejoin=\"round\" font-family=\"sans-serif\" font-style=\"normal\" transform=\"translate(70 330 )scale(1 1 )rotate(-90 0 0 )\" font-size=\"12px\" stroke=\"black\" dominant-baseline=\"hanging\" stroke-width=\"2px\" stroke-linecap=\"round\"><text vector-effect=\"non-scaling-stroke\" x=\"130\" y=\"6\" dominant-baseline=\"hanging\" stroke=\"none\">accuracy</text></g><g stroke-linecap=\"round\" stroke-linejoin=\"round\" font-family=\"sans-serif\" dominant-baseline=\"hanging\" transform=\"translate(70 330 )scale(1 -1 )\" font-size=\"12px\" font-style=\"normal\" font-weight=\"bold\" text-anchor=\"middle\" fill=\"black\" stroke=\"gray\" stroke-width=\"0.5px\"><path d=\"M0,9.128772e+01 L884,9.128772e+01 M0,1.819064e+02 L884,1.819064e+02 \" vector-effect=\"non-scaling-stroke\"/></g><g font-family=\"sans-serif\" font-weight=\"bold\" fill=\"none\" font-style=\"normal\" stroke=\"black\" text-anchor=\"middle\" dominant-baseline=\"hanging\" stroke-linejoin=\"round\" stroke-width=\"2px\" stroke-linecap=\"round\" font-size=\"12px\"><rect x=\"70\" y=\"70\" width=\"884\" height=\"260\" vector-effect=\"non-scaling-stroke\"/><g font-size=\"18px\" fill=\"black\" dominant-baseline=\"middle\"><text x=\"512\" y=\"35\" dominant-baseline=\"middle\" stroke=\"none\" vector-effect=\"non-scaling-stroke\">accuracy metrics</text></g><g stroke-linejoin=\"round\" font-family=\"sans-serif\" dominant-baseline=\"hanging\" fill=\"hsl(90, 47%, 65%)\" stroke=\"hsl(90, 47%, 65%)\" stroke-linecap=\"round\" font-style=\"normal\" stroke-width=\"1px\" font-size=\"12px\" font-weight=\"normal\" text-anchor=\"start\"><rect y=\"366\" width=\"12\" height=\"12\" vector-effect=\"non-scaling-stroke\" x=\"76\"/><g stroke=\"black\" fill=\"black\"><text stroke=\"none\" vector-effect=\"non-scaling-stroke\" x=\"92\" y=\"366\" dominant-baseline=\"hanging\">Eval on test-eval [Parallelized]: Mean Accuracy</text></g><g font-size=\"12px\" font-weight=\"normal\" font-family=\"sans-serif\" stroke-linejoin=\"round\" stroke=\"hsl(301, 88%, 65%)\" stroke-width=\"1px\" fill=\"hsl(301, 88%, 65%)\" text-anchor=\"start\" dominant-baseline=\"hanging\" stroke-linecap=\"round\" font-style=\"normal\"><rect vector-effect=\"non-scaling-stroke\" x=\"76\" y=\"384\" width=\"12\" height=\"12\"/><g fill=\"black\" stroke=\"black\"><text x=\"92\" y=\"384\" dominant-baseline=\"hanging\" stroke=\"none\" vector-effect=\"non-scaling-stroke\">Eval on train-eval [Parallelized]: Mean Accuracy</text></g><g stroke-linejoin=\"round\" font-weight=\"normal\" fill=\"hsl(152, 76%, 65%)\" stroke=\"hsl(152, 76%, 65%)\" stroke-width=\"1px\" stroke-linecap=\"round\" text-anchor=\"start\" font-family=\"sans-serif\" dominant-baseline=\"hanging\" font-style=\"normal\" font-size=\"12px\"><rect vector-effect=\"non-scaling-stroke\" x=\"76\" y=\"402\" width=\"12\" height=\"12\"/><g fill=\"black\" stroke=\"black\"><text y=\"402\" dominant-baseline=\"hanging\" stroke=\"none\" vector-effect=\"non-scaling-stroke\" x=\"92\">Train: Moving Average Accuracy</text></g></g></g></g></g></svg>"
      ]
     },
     "metadata": {},
     "output_type": "display_data"
    },
    {
     "data": {
      "text/html": [
       "<svg xmlns=\"http://www.w3.org/2000/svg\" width=\"1024\" height=\"454\" viewbox=\"0 0 1024 400\" style=\"background-color:#f8f8f8\" preserveAspectRatio=\"xMidYMid meet\"><defs><marker viewBox=\"0 0 10 10 \" refX=\"5\" refY=\"5\" markerUnits=\"userSpaceOnUse\" markerWidth=\"2%\" markerHeight=\"2%\" id=\"circle\"><circle stroke=\"black\" cx=\"5\" cy=\"5\" r=\"3\" fill=\"none\"/></marker><marker refY=\"5\" markerUnits=\"userSpaceOnUse\" markerWidth=\"2%\" markerHeight=\"2%\" id=\"filled-circle\" viewBox=\"0 0 10 10 \" refX=\"5\"><circle r=\"3\" fill=\"black\" stroke=\"none\" cx=\"5\" cy=\"5\"/></marker><marker markerHeight=\"2%\" id=\"square\" viewBox=\"0 0 10 10 \" refX=\"5\" refY=\"5\" markerUnits=\"userSpaceOnUse\" markerWidth=\"2%\"><rect fill=\"none\" stroke=\"black\" x=\"2\" y=\"2\" width=\"6\" height=\"6\"/></marker><marker refY=\"5\" markerUnits=\"userSpaceOnUse\" markerWidth=\"2%\" markerHeight=\"2%\" id=\"filled-square\" viewBox=\"0 0 10 10 \" refX=\"5\"><rect fill=\"black\" stroke=\"none\" x=\"2\" y=\"2\" width=\"6\" height=\"6\"/></marker></defs><g fill=\"none\" stroke-linecap=\"round\" marker-mid=\"url(#square)\" transform=\"translate(70 330 )scale(1 -1 )\" stroke-linejoin=\"round\" marker-start=\"url(#square)\" marker-end=\"url(#square)\" stroke=\"hsl(90, 47%, 65%)\" stroke-width=\"2px\"><path d=\"M1.768000e+01,2.419523e+02 L3.437549e+01,2.422503e+02 L5.135394e+01,2.430361e+02 L6.833240e+01,2.426466e+02 L8.531086e+01,2.422361e+02 L1.022893e+02,2.431965e+02 L1.192678e+02,2.229813e+02 L1.362462e+02,1.748712e+02 L1.532247e+02,1.559296e+02 L1.702032e+02,1.376258e+02 L1.871816e+02,1.383891e+02 L2.041601e+02,1.211722e+02 L2.211385e+02,1.162501e+02 L2.381170e+02,1.121135e+02 L2.550955e+02,1.082906e+02 L2.720739e+02,1.369469e+02 L2.890524e+02,1.095590e+02 L3.060308e+02,1.107309e+02 L3.230093e+02,1.054677e+02 L3.399878e+02,1.142984e+02 L3.569662e+02,9.848454e+01 L3.739447e+02,1.107189e+02 L3.909231e+02,9.832093e+01 L4.079016e+02,1.030026e+02 L4.248801e+02,1.040363e+02 L4.418585e+02,9.298591e+01 L4.588370e+02,9.943880e+01 L4.758154e+02,9.514068e+01 L4.927939e+02,9.582459e+01 L5.097724e+02,1.006575e+02 L5.267508e+02,9.877368e+01 L5.437293e+02,9.821070e+01 L5.607077e+02,9.744154e+01 L5.776862e+02,1.051939e+02 L5.946646e+02,1.022924e+02 L6.116431e+02,1.013172e+02 L6.286216e+02,1.097179e+02 L6.456000e+02,1.032743e+02 L6.625785e+02,1.191537e+02 L6.795569e+02,1.084348e+02 L6.965354e+02,1.148004e+02 L7.135139e+02,1.123337e+02 L7.304923e+02,1.150215e+02 L7.474708e+02,1.209057e+02 L7.644492e+02,1.144077e+02 L7.814277e+02,1.136645e+02 L7.984062e+02,1.108075e+02 L8.153846e+02,1.249443e+02 L8.323631e+02,1.221108e+02 L8.493415e+02,1.350320e+02 L8.663200e+02,1.448155e+02 \" vector-effect=\"non-scaling-stroke\"/></g><g marker-end=\"url(#square)\" stroke-linecap=\"round\" marker-start=\"url(#square)\" marker-mid=\"url(#square)\" transform=\"translate(70 330 )scale(1 -1 )\" stroke=\"hsl(301, 88%, 65%)\" stroke-linejoin=\"round\" fill=\"none\" stroke-width=\"2px\"><path vector-effect=\"non-scaling-stroke\" d=\"M1.768000e+01,2.421320e+02 L3.437549e+01,2.421897e+02 L5.135394e+01,2.427960e+02 L6.833240e+01,2.414564e+02 L8.531086e+01,2.407119e+02 L1.022893e+02,2.407862e+02 L1.192678e+02,2.182518e+02 L1.362462e+02,1.581251e+02 L1.532247e+02,1.266425e+02 L1.702032e+02,1.115424e+02 L1.871816e+02,1.012854e+02 L2.041601e+02,8.745112e+01 L2.211385e+02,8.980373e+01 L2.381170e+02,7.593345e+01 L2.550955e+02,7.058481e+01 L2.720739e+02,8.871194e+01 L2.890524e+02,6.398125e+01 L3.060308e+02,6.051080e+01 L3.230093e+02,5.538951e+01 L3.399878e+02,5.700097e+01 L3.569662e+02,5.005526e+01 L3.739447e+02,5.362352e+01 L3.909231e+02,4.534999e+01 L4.079016e+02,4.651801e+01 L4.248801e+02,4.510779e+01 L4.418585e+02,3.947913e+01 L4.588370e+02,3.469810e+01 L4.758154e+02,3.292294e+01 L4.927939e+02,3.520156e+01 L5.097724e+02,3.077351e+01 L5.267508e+02,2.703743e+01 L5.437293e+02,2.755898e+01 L5.607077e+02,2.619488e+01 L5.776862e+02,2.724448e+01 L5.946646e+02,2.703480e+01 L6.116431e+02,2.308080e+01 L6.286216e+02,2.231119e+01 L6.456000e+02,1.949713e+01 L6.625785e+02,1.891537e+01 L6.795569e+02,1.714317e+01 L6.965354e+02,1.469923e+01 L7.135139e+02,1.792955e+01 L7.304923e+02,1.370940e+01 L7.474708e+02,1.428216e+01 L7.644492e+02,1.094021e+01 L7.814277e+02,8.214343e+00 L7.984062e+02,1.042383e+01 L8.153846e+02,8.933833e+00 L8.323631e+02,5.200000e+00 L8.493415e+02,2.472776e+01 L8.663200e+02,2.259024e+01 \"/></g><g fill=\"none\" marker-mid=\"url(#square)\" transform=\"translate(70 330 )scale(1 -1 )\" stroke=\"hsl(152, 76%, 65%)\" stroke-linejoin=\"round\" marker-start=\"url(#square)\" marker-end=\"url(#square)\" stroke-width=\"2px\" stroke-linecap=\"round\"><path vector-effect=\"non-scaling-stroke\" d=\"M1.768000e+01,2.548000e+02 L3.437549e+01,2.411600e+02 L5.135394e+01,2.422309e+02 L6.833240e+01,2.417564e+02 L8.531086e+01,2.413374e+02 L1.022893e+02,2.410639e+02 L1.192678e+02,2.376869e+02 L1.362462e+02,2.161804e+02 L1.532247e+02,1.875996e+02 L1.702032e+02,1.641345e+02 L1.871816e+02,1.383605e+02 L2.041601e+02,1.215505e+02 L2.211385e+02,1.132092e+02 L2.381170e+02,1.053283e+02 L2.550955e+02,9.680983e+01 L2.720739e+02,9.167487e+01 L2.890524e+02,8.704630e+01 L3.060308e+02,7.883634e+01 L3.230093e+02,7.200112e+01 L3.399878e+02,6.827655e+01 L3.569662e+02,6.644677e+01 L3.739447e+02,6.501678e+01 L3.909231e+02,5.899399e+01 L4.079016e+02,5.455620e+01 L4.248801e+02,5.237708e+01 L4.418585e+02,5.396906e+01 L4.588370e+02,4.824574e+01 L4.758154e+02,4.706173e+01 L4.927939e+02,4.593958e+01 L5.097724e+02,4.135253e+01 L5.267508e+02,3.770884e+01 L5.437293e+02,3.527813e+01 L5.607077e+02,3.659473e+01 L5.776862e+02,3.676736e+01 L5.946646e+02,3.334754e+01 L6.116431e+02,3.230271e+01 L6.286216e+02,3.056621e+01 L6.456000e+02,2.989693e+01 L6.625785e+02,2.625337e+01 L6.795569e+02,2.494737e+01 L6.965354e+02,2.335853e+01 L7.135139e+02,2.284511e+01 L7.304923e+02,2.458513e+01 L7.474708e+02,2.122034e+01 L7.644492e+02,1.933012e+01 L7.814277e+02,1.740922e+01 L7.984062e+02,1.946824e+01 L8.153846e+02,1.919767e+01 L8.323631e+02,1.603476e+01 L8.493415e+02,1.354347e+01 L8.663200e+02,1.356062e+01 \"/></g><g fill=\"none\" stroke-width=\"2px\" transform=\"translate(70 330 )scale(1 -1 )\" stroke=\"black\" stroke-linecap=\"round\" stroke-linejoin=\"round\"><path vector-effect=\"non-scaling-stroke\" d=\"M1.768000e+01,0 L1.768000e+01,-6 M7.427486e+01,0 L7.427486e+01,-6 M1.308697e+02,0 L1.308697e+02,-6 M1.874646e+02,0 L1.874646e+02,-6 M2.440595e+02,0 L2.440595e+02,-6 M3.006543e+02,0 L3.006543e+02,-6 M3.572492e+02,0 L3.572492e+02,-6 M4.138441e+02,0 L4.138441e+02,-6 M4.704389e+02,0 L4.704389e+02,-6 M5.270338e+02,0 L5.270338e+02,-6 M5.836286e+02,0 L5.836286e+02,-6 M6.402235e+02,0 L6.402235e+02,-6 M6.968184e+02,0 L6.968184e+02,-6 M7.534132e+02,0 L7.534132e+02,-6 M8.100081e+02,0 L8.100081e+02,-6 \"/></g><g fill=\"black\" font-family=\"sans-serif\" font-style=\"normal\" stroke=\"black\" stroke-linecap=\"round\" stroke-linejoin=\"round\" font-size=\"12px\" dominant-baseline=\"hanging\" font-weight=\"normal\" stroke-width=\"2px\" transform=\"translate(70 330 )scale(1 1 )\" text-anchor=\"middle\"><text dominant-baseline=\"hanging\" stroke=\"none\" vector-effect=\"non-scaling-stroke\" x=\"1.768000e+01\" y=\"10\">0</text><text y=\"10\" dominant-baseline=\"hanging\" stroke=\"none\" vector-effect=\"non-scaling-stroke\" x=\"7.427486e+01\">200</text><text x=\"1.308697e+02\" y=\"10\" dominant-baseline=\"hanging\" stroke=\"none\" vector-effect=\"non-scaling-stroke\">400</text><text vector-effect=\"non-scaling-stroke\" x=\"1.874646e+02\" y=\"10\" dominant-baseline=\"hanging\" stroke=\"none\">600</text><text x=\"2.440595e+02\" y=\"10\" dominant-baseline=\"hanging\" stroke=\"none\" vector-effect=\"non-scaling-stroke\">800</text><text vector-effect=\"non-scaling-stroke\" x=\"3.006543e+02\" y=\"10\" dominant-baseline=\"hanging\" stroke=\"none\">1000</text><text y=\"10\" dominant-baseline=\"hanging\" stroke=\"none\" vector-effect=\"non-scaling-stroke\" x=\"3.572492e+02\">1200</text><text stroke=\"none\" vector-effect=\"non-scaling-stroke\" x=\"4.138441e+02\" y=\"10\" dominant-baseline=\"hanging\">1400</text><text y=\"10\" dominant-baseline=\"hanging\" stroke=\"none\" vector-effect=\"non-scaling-stroke\" x=\"4.704389e+02\">1600</text><text x=\"5.270338e+02\" y=\"10\" dominant-baseline=\"hanging\" stroke=\"none\" vector-effect=\"non-scaling-stroke\">1800</text><text y=\"10\" dominant-baseline=\"hanging\" stroke=\"none\" vector-effect=\"non-scaling-stroke\" x=\"5.836286e+02\">2000</text><text y=\"10\" dominant-baseline=\"hanging\" stroke=\"none\" vector-effect=\"non-scaling-stroke\" x=\"6.402235e+02\">2200</text><text stroke=\"none\" vector-effect=\"non-scaling-stroke\" x=\"6.968184e+02\" y=\"10\" dominant-baseline=\"hanging\">2400</text><text y=\"10\" dominant-baseline=\"hanging\" stroke=\"none\" vector-effect=\"non-scaling-stroke\" x=\"7.534132e+02\">2600</text><text dominant-baseline=\"hanging\" stroke=\"none\" vector-effect=\"non-scaling-stroke\" x=\"8.100081e+02\" y=\"10\">2800</text></g><g font-size=\"12px\" text-anchor=\"middle\" stroke-width=\"2px\" font-style=\"normal\" stroke=\"black\" stroke-linecap=\"round\" stroke-linejoin=\"round\" dominant-baseline=\"baseline\" fill=\"black\" transform=\"translate(70 330 )scale(1 1 )rotate(0 0 0 )\" font-family=\"sans-serif\" font-weight=\"bold\"><text dominant-baseline=\"baseline\" stroke=\"none\" vector-effect=\"non-scaling-stroke\" x=\"442\" y=\"-6\">Steps</text></g><g stroke-width=\"2px\" font-style=\"normal\" stroke=\"black\" dominant-baseline=\"baseline\" stroke-linecap=\"round\" stroke-linejoin=\"round\" font-size=\"12px\" fill=\"black\" transform=\"translate(70 330 )scale(1 -1 )\" font-family=\"sans-serif\" font-weight=\"bold\" text-anchor=\"middle\"><path vector-effect=\"non-scaling-stroke\" d=\"M0,3.235483e+01 L-6,3.235483e+01 M0,1.173958e+02 L-6,1.173958e+02 M0,2.024368e+02 L-6,2.024368e+02 \"/></g><g stroke=\"black\" stroke-linecap=\"round\" stroke-linejoin=\"round\" font-size=\"12px\" dominant-baseline=\"middle\" fill=\"black\" stroke-width=\"2px\" font-style=\"normal\" font-weight=\"normal\" text-anchor=\"end\" transform=\"translate(70 330 )scale(1 1 )\" font-family=\"sans-serif\"><text stroke=\"none\" vector-effect=\"non-scaling-stroke\" x=\"-10\" y=\"-3.235483e+01\" dominant-baseline=\"middle\">0.200</text><text stroke=\"none\" vector-effect=\"non-scaling-stroke\" x=\"-10\" y=\"-1.173958e+02\" dominant-baseline=\"middle\">0.400</text><text x=\"-10\" y=\"-2.024368e+02\" dominant-baseline=\"middle\" stroke=\"none\" vector-effect=\"non-scaling-stroke\">0.600</text></g><g stroke=\"black\" font-size=\"12px\" dominant-baseline=\"hanging\" fill=\"black\" stroke-width=\"2px\" font-style=\"normal\" font-weight=\"bold\" stroke-linecap=\"round\" stroke-linejoin=\"round\" transform=\"translate(70 330 )scale(1 1 )rotate(-90 0 0 )\" font-family=\"sans-serif\" text-anchor=\"middle\"><text stroke=\"none\" vector-effect=\"non-scaling-stroke\" x=\"130\" y=\"6\" dominant-baseline=\"hanging\">loss</text></g><g fill=\"black\" stroke-width=\"0.5px\" transform=\"translate(70 330 )scale(1 -1 )\" font-family=\"sans-serif\" stroke=\"gray\" font-size=\"12px\" dominant-baseline=\"hanging\" text-anchor=\"middle\" stroke-linecap=\"round\" stroke-linejoin=\"round\" font-weight=\"bold\" font-style=\"normal\"><path vector-effect=\"non-scaling-stroke\" d=\"M0,3.235483e+01 L884,3.235483e+01 M0,1.173958e+02 L884,1.173958e+02 M0,2.024368e+02 L884,2.024368e+02 \"/></g><g fill=\"none\" stroke-linejoin=\"round\" stroke-width=\"2px\" font-size=\"12px\" dominant-baseline=\"hanging\" stroke=\"black\" font-family=\"sans-serif\" font-style=\"normal\" font-weight=\"bold\" text-anchor=\"middle\" stroke-linecap=\"round\"><rect vector-effect=\"non-scaling-stroke\" x=\"70\" y=\"70\" width=\"884\" height=\"260\"/><g fill=\"black\" font-size=\"18px\" dominant-baseline=\"middle\"><text stroke=\"none\" vector-effect=\"non-scaling-stroke\" x=\"512\" y=\"35\" dominant-baseline=\"middle\">loss metrics</text></g><g stroke=\"hsl(90, 47%, 65%)\" stroke-linejoin=\"round\" fill=\"hsl(90, 47%, 65%)\" stroke-width=\"1px\" font-family=\"sans-serif\" stroke-linecap=\"round\" font-size=\"12px\" dominant-baseline=\"hanging\" font-weight=\"normal\" text-anchor=\"start\" font-style=\"normal\"><rect height=\"12\" vector-effect=\"non-scaling-stroke\" x=\"76\" y=\"366\" width=\"12\"/><g stroke=\"black\" fill=\"black\"><text dominant-baseline=\"hanging\" stroke=\"none\" vector-effect=\"non-scaling-stroke\" x=\"92\" y=\"366\">Eval on test-eval [Parallelized]: Mean Loss</text></g><g dominant-baseline=\"hanging\" stroke=\"hsl(301, 88%, 65%)\" stroke-width=\"1px\" font-family=\"sans-serif\" font-style=\"normal\" text-anchor=\"start\" stroke-linecap=\"round\" stroke-linejoin=\"round\" fill=\"hsl(301, 88%, 65%)\" font-size=\"12px\" font-weight=\"normal\"><rect height=\"12\" vector-effect=\"non-scaling-stroke\" x=\"76\" y=\"384\" width=\"12\"/><g stroke=\"black\" fill=\"black\"><text vector-effect=\"non-scaling-stroke\" x=\"92\" y=\"384\" dominant-baseline=\"hanging\" stroke=\"none\">Eval on train-eval [Parallelized]: Mean Loss</text></g><g font-weight=\"normal\" stroke-width=\"1px\" stroke=\"hsl(152, 76%, 65%)\" font-size=\"12px\" font-style=\"normal\" fill=\"hsl(152, 76%, 65%)\" font-family=\"sans-serif\" dominant-baseline=\"hanging\" stroke-linecap=\"round\" stroke-linejoin=\"round\" text-anchor=\"start\"><rect y=\"402\" width=\"12\" height=\"12\" vector-effect=\"non-scaling-stroke\" x=\"76\"/><g stroke=\"black\" fill=\"black\"><text vector-effect=\"non-scaling-stroke\" x=\"92\" y=\"402\" dominant-baseline=\"hanging\" stroke=\"none\">Train: Moving Average Loss</text></g></g></g></g></g></svg>"
      ]
     },
     "metadata": {},
     "output_type": "display_data"
    },
    {
     "name": "stdout",
     "output_type": "stream",
     "text": [
      "\n",
      "Results on train-eval [Parallelized]:\n",
      "\tMean Loss (#loss): 0.177\n",
      "\tMean Accuracy (#acc): 93.18%\n",
      "Results on test-eval [Parallelized]:\n",
      "\tMean Loss (#loss): 0.464\n",
      "\tMean Accuracy (#acc): 83.50%\n"
     ]
    }
   ],
   "source": [
    "var (\n",
    "    flagMaxAttLen           = flag.Int(\"max_att_len\", 200, \"Maximum attention length: input will be split in ranges of this size.\")\n",
    "    flagNumAttHeads         = flag.Int(\"att_heads\", 2, \"Number of attention heads, if --model=transformer.\")\n",
    "    flagNumAttLayers        = flag.Int(\"att_layers\", 1, \"Number of stacked attention layers, if --model=transformer.\")\n",
    "    flagAttKeyQueryEmbedDim = flag.Int(\"att_key_dim\", 8, \"Dimension of the Key/Query attention embedding.\")    \n",
    ")\n",
    "\n",
    "// TransformerGraph is the part of the model that takes the word/token embeddings to a tranformed\n",
    "// embedding through attention ready to be pooled and read out.\n",
    "func TransformerGraph(ctx *context.Context, input, embed, mask *Node) *Node {\n",
    "    var newEmbed *Node\n",
    "    if *flagMaxAttLen >= *flagMaxLen {\n",
    "        // One transformer window covers the whole length, which makes it trivial.\n",
    "        newEmbed = TransformerLayers(ctx.In(\"transformer\"), embed, mask)\n",
    "        embed = Add(embed, newEmbed)\n",
    "        return embed\n",
    "    }\n",
    "\n",
    "    // Split embedding in multiple split embeddings and apply transformer in each of them.\n",
    "    attLen := *flagMaxAttLen\n",
    "    sequenceFrom := 0\n",
    "    for {\n",
    "        // x.shape = [batchSize, sequence, embedding]\n",
    "        sequenceTo := sequenceFrom + attLen\n",
    "        if sequenceTo > *flagMaxLen {\n",
    "            sequenceTo = *flagMaxLen\n",
    "            sequenceFrom = sequenceTo - attLen\n",
    "        }\n",
    "        // part = x[:, sequenceFrom:sequenceTo, :]\n",
    "        residual := Slice(embed, AxisRange(), AxisRange(sequenceFrom, sequenceTo), AxisRange())\n",
    "        partMask := Slice(mask, AxisRange(), AxisRange(sequenceFrom, sequenceTo))\n",
    "        // Reuse \"transformer\" scope.\n",
    "        part := TransformerLayers(ctx.In(\"transformer\").Checked(false), residual, partMask)\n",
    "        part = Add(residual, part)\n",
    "        if newEmbed == nil {\n",
    "            newEmbed = part\n",
    "        } else {\n",
    "            newEmbed = Add(newEmbed, part)\n",
    "        }\n",
    "\n",
    "        if sequenceTo == *flagMaxLen {\n",
    "            // Reached end of parts.\n",
    "            break\n",
    "        }\n",
    "        sequenceFrom += attLen - 20 // Attention window overlap 10 tokens among themselves.\n",
    "    }\n",
    "    embed = newEmbed // Notice shape changed to `[batchSize, maxAttLen, embedDim]`\n",
    "    return embed\n",
    "}\n",
    "\n",
    "// TransformerLayers builds the stacked transformer layers for the model.\n",
    "func TransformerLayers(ctx *context.Context, embed, mask *Node) *Node {\n",
    "    g := embed.Graph()\n",
    "    shape := embed.Shape()\n",
    "    embedDim := shape.Dimensions[2]\n",
    "\n",
    "    var dropoutRate *Node\n",
    "    if *flagDropoutRate > 0 {\n",
    "        dropoutRate = ConstAsDType(g, DType, *flagDropoutRate)\n",
    "    }\n",
    "\n",
    "    // Create positional embedding variable: it is 1 in every axis, but for the\n",
    "    // sequence dimension -- there will be one embedding per position.\n",
    "    // Shape: [1, maxLen, embedDim]\n",
    "    posEmbedShape := shape.Copy()\n",
    "    posEmbedShape.Dimensions[0] = 1\n",
    "    posEmbedVar := ctx.VariableWithShape(\"positional\", posEmbedShape)\n",
    "    posEmbed := posEmbedVar.ValueGraph(g)\n",
    "    embed = Add(embed, posEmbed) // Just add the embeddings, seems to work well.\n",
    "\n",
    "    // Add the requested number of attention layers.\n",
    "    for ii := 0; ii < *flagNumAttLayers; ii++ {\n",
    "        // Each layer in its own scope.\n",
    "        ctx := ctx.In(fmt.Sprintf(\"AttLayer_%d\", ii))\n",
    "        residual := embed\n",
    "        embed = layers.MultiHeadAttention(ctx, embed, embed, embed, *flagNumAttHeads, *flagAttKeyQueryEmbedDim).\n",
    "            SetKeyMask(mask).SetQueryMask(mask).\n",
    "            SetOutputDim(embedDim).\n",
    "            SetValueHeadDim(embedDim).Done()\n",
    "        if *flagDropoutRate > 0 {\n",
    "            embed = layers.Dropout(ctx.In(\"dropout_1\"), embed, dropoutRate)\n",
    "        }\n",
    "        embed = Normalize(ctx.In(\"normalization_1\"), embed)\n",
    "        attentionOutput := embed\n",
    "\n",
    "        // Transformers recipe: 2 dense layers after attention.\n",
    "        embed = layers.Dense(ctx.In(\"ffn_1\"), embed, true, embedDim)\n",
    "        embed = Tanh(embed)\n",
    "        embed = layers.Dense(ctx.In(\"ffn_2\"), embed, true, embedDim)\n",
    "        if *flagDropoutRate > 0 {\n",
    "            embed = layers.Dropout(ctx.In(\"dropout_1\"), embed, dropoutRate)\n",
    "        }\n",
    "        embed = Add(embed, attentionOutput)\n",
    "        embed = Normalize(ctx.In(\"normalization_2\"), embed)\n",
    "\n",
    "        // Residual connection: not part of the usual transfomer layer ...\n",
    "        if ii > 0 {\n",
    "            embed = Add(residual, embed)\n",
    "        }\n",
    "    }\n",
    "    return embed\n",
    "}\n",
    "\n",
    "%% --model=transformer --steps=3000 --batch=100 --optimizer=adamw --max_len=200 --max_att_len=200 --att_heads=4 --att_layers=3 --att_key_dim=32 --max_vocab=10000\n",
    "trainModel()"
   ]
  }
 ],
 "metadata": {
  "kernelspec": {
   "display_name": "Go (gonb)",
   "language": "go",
   "name": "gonb"
  },
  "language_info": {
   "codemirror_mode": "",
   "file_extension": ".go",
   "mimetype": "",
   "name": "go",
   "nbconvert_exporter": "",
   "pygments_lexer": "",
   "version": "go1.20.4"
  }
 },
 "nbformat": 4,
 "nbformat_minor": 5
}
