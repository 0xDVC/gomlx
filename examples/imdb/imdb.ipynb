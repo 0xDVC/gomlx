{
 "cells": [
  {
   "cell_type": "markdown",
   "id": "f431da81-4d94-4fd1-8a51-952ef824cb46",
   "metadata": {},
   "source": [
    "# IMDB Movie Review Dataset\n",
    "\n",
    "This is a library to download and parse the [IMDB's Large Movie Review Dataset](http://ai.stanford.edu/~amaas/data/sentiment/) dataset and a demo of a transformer based model. The dataset has 25K training, and 25K test dataset, plus 50K unlabeled examples.\n",
    "\n",
    "It's inspired on [Keras' Text classification with Transformer](https://keras.io/examples/nlp/text_classification_with_transformer/) demo.\n",
    "\n",
    "\n"
   ]
  },
  {
   "cell_type": "markdown",
   "id": "392f19ad-caa7-4d7d-8078-cbca680f2be2",
   "metadata": {},
   "source": [
    "## Environment Set Up\n",
    "\n",
    "Let's set up `go.mod` to use the local copy of GoMLX, so it can be developed jointly the dataset code with the model. That's often how data pre-processing and model code is developed together with experimentation.\n",
    "\n",
    "If you are not changing code, feel free to simply skip this cell. Or if you used a different directory for you projects, change it below.\n",
    "\n",
    "Notice the directory `${HOME}/Projects/gomlx` is where the GoMLX code is copied by default in [its Docker](https://hub.docker.com/repository/docker/janpfeifer/gomlx_jupyterlab/general)."
   ]
  },
  {
   "cell_type": "code",
   "execution_count": 1,
   "id": "32600e05-745d-4c38-999a-3b96ca1502cc",
   "metadata": {
    "tags": []
   },
   "outputs": [],
   "source": [
    "!*go mod edit -replace github.com/gomlx/gomlx=\"${HOME}/Projects/gomlx\""
   ]
  },
  {
   "cell_type": "markdown",
   "id": "443e9e56-ef12-4d04-b7bb-99478fa2b662",
   "metadata": {},
   "source": [
    "## Data Preparation\n",
    "\n",
    "### Downloading data files\n",
    "\n",
    "To download, uncompress and untar to the local directory, simply do the following. Notice if it's already downloaded in the given `--data` directory, it returns immediately."
   ]
  },
  {
   "cell_type": "code",
   "execution_count": 2,
   "id": "e98ca191-0d4b-4e7c-ab24-ded6991b9671",
   "metadata": {
    "tags": []
   },
   "outputs": [
    {
     "name": "stdout",
     "output_type": "stream",
     "text": [
      "> Loading previously generated preprocessed binary file.\n",
      "Loaded data from \"aclImdb.bin\": 100000 examples, 141088 unique tokens, 23727054 tokens in total.\n"
     ]
    }
   ],
   "source": [
    "import (\n",
    "    \"github.com/gomlx/gomlx/examples/imdb\"\n",
    "    \"github.com/gomlx/gomlx/ml/data\"\n",
    ")\n",
    "\n",
    "var flagDataDir = flag.String(\"data\", \"~/work/imdb\", \"Directory to cache downloaded and generated dataset files.\")\n",
    "\n",
    "func AssertNoError(err error) {\n",
    "    if err != nil {\n",
    "        log.Fatalf(\"Failed: %+v\", err)\n",
    "    }\n",
    "}\n",
    "\n",
    "func AssertDownloaded() {\n",
    "    *flagDataDir = data.ReplaceTildeInDir(*flagDataDir)\n",
    "    if !data.FileExists(*flagDataDir) {\n",
    "        AssertNoError(os.MkdirAll(*flagDataDir, 0777))\n",
    "    }\n",
    "\n",
    "    AssertNoError(imdb.Download(*flagDataDir))\n",
    "}\n",
    "\n",
    "%%\n",
    "AssertDownloaded()"
   ]
  },
  {
   "cell_type": "markdown",
   "id": "41a415e2-8a29-4aeb-8809-b8d6b7ede5ad",
   "metadata": {},
   "source": [
    "### Sampling some examples\n",
    "\n",
    "It creates a small dataset and print out some random examples.\n",
    "\n",
    "It also defines the `DType`, used for all internal representations of the model, and the flag `--max_len` that defines the maximum number of tokens used per observation. This will beused in the modeling later."
   ]
  },
  {
   "cell_type": "code",
   "execution_count": 3,
   "id": "f2bf2aab-7d50-4110-a8e3-bbee08063521",
   "metadata": {
    "tags": []
   },
   "outputs": [
    {
     "name": "stdout",
     "output_type": "stream",
     "text": [
      "> Loading previously generated preprocessed binary file.\n",
      "Loaded data from \"aclImdb.bin\": 100000 examples, 141088 unique tokens, 23727054 tokens in total.\n",
      "\n",
      "label=0, input=\"<START> tim curry was the reason i wanted to see this film and while of course his appearance is always entertaining he s basically wasted in it the rest of the cast doesn t fare too well either in this remake of an early zombie movie that has extremely graphic effects that are totally unnecessary to quote a popular axiom sometimes less is more\"\n",
      "\n",
      "label=1, input=\"good 1970s movie about mob operations in new jersey when a maverick gangster doesn t play by the rules of the neighborhood sooner or later it s time for elimination joe pesci was true to his character smooth and funny he only gets better with age his face and present day fame should not have been used on the dvd cover to sell this b grade movie as he was only the third billed star dated 1970 s printed wide lapel shirts and lesser quality background music make for a distraction nice to see the 1970 s big cars however the acting is good nakedness on the part of anne johns was not needed to make this mob story work and she does not show up in the database as every acting again in any film other than this one too bad she did a good job moral of the story don t get your don upset with you if you are wanting to see something different when you wake up in the middle of the night then check out this dvd it was part of a three movie on one dvd 5 88 special at the local discount store\"\n",
      "\n",
      "label=0, input=\"<START> evan almighty 2007 steve carell morgan freeman lauren graham johnny simmons graham phillips jimmy bennett john goodman wanda sykes john michael higgins jonah hill molly shannon ed helms cameo jon stewart as himself strained sequel to bruce almighty with carell s jerk anchorman evan baxter leaving tv to begin his stint as a freshman congressional rep has his hands full when god freeman reprising his holy role jim carrey wisely avoided the calling demands he build an ark like noah and the hilarity ensues or should have the godforsaken sitcom y script by steve oedekerk joel cohen alec is absolutely lame and only carell s amiable persona transcends his vain evan into something resembling a human being the end result is a lot of bird poop gags and overall bloat reportedly costing 175 m for the cgi f x sykes steals the show as evan s sarcastic assistant sacrilegiously unfunny dir tom shadyac\"\n",
      "\n"
     ]
    }
   ],
   "source": [
    "import (\n",
    "    \"github.com/gomlx/gomlx/examples/imdb\"\n",
    ")\n",
    "\n",
    "// DType used for the models.\n",
    "const DType = shapes.Float32\n",
    "\n",
    "var (\n",
    "    flagMaxLen              = flag.Int(\"max_len\", 200, \"Maximum number of tokens to take from observation.\")\n",
    ")\n",
    "\n",
    "func Sample() {\n",
    "    ds := imdb.NewDataset(\"Test\", imdb.Test, *flagMaxLen, 3, DType, true, nil)\n",
    "    _, inputs, labels, err := ds.Yield()\n",
    "    AssertNoError(err)\n",
    "    labelsData := shapes.CastAsDType(labels[0].Local().Data(), shapes.Int64).([]int)\n",
    "    for ii := 0; ii < 3; ii++ {\n",
    "        fmt.Printf(\"\\nlabel=%v, input=%q\\n\", labelsData[ii], imdb.InputToString(inputs[0], ii))\n",
    "    }\n",
    "    fmt.Println()\n",
    "}\n",
    "\n",
    "%% --max_len=200\n",
    "AssertDownloaded()\n",
    "Sample()\n"
   ]
  },
  {
   "cell_type": "markdown",
   "id": "3cb8ca01-2c8f-4cd8-a644-850e928f64e1",
   "metadata": {},
   "source": [
    "## Training\n",
    "\n",
    "We will create 3 different types of models for this demo: **Bag of Words** (or simply **bow**), **CNNs** and **Transformers**.\n",
    "\n",
    "### Model Support\n",
    "\n",
    "We first define here a few componens shared among all models:\n",
    "\n",
    "* `Normalize` according to flag, works for sequence nodes (shaped `[batch_size, sequence_len, embedding_dim]`) and feature nodes (shaped `[batch_size, embedding_dim]`).\n",
    "* `EmbedTokensGraph` that embeds the tokens, before being consumed by the models.\n",
    "* `ReadoutGraph` that takes the embeddings after they are pooled on the sequence axis (so shaped `[batch_size, embedding_dim]` it adds a FNN (feed-forward neural network) with a few layers and convert to the final logits.\n",
    "\n",
    "We also define the corresponding hyperparameters."
   ]
  },
  {
   "cell_type": "code",
   "execution_count": 4,
   "id": "ad068f5e-46d9-411b-823c-0eae905da41c",
   "metadata": {
    "tags": []
   },
   "outputs": [],
   "source": [
    "import (\n",
    "    . \"github.com/gomlx/gomlx/graph\"\n",
    "    \n",
    "    \"github.com/gomlx/gomlx/ml/context\"\n",
    "    \"github.com/gomlx/gomlx/types/shapes\"\n",
    ")\n",
    "\n",
    "var (\n",
    "    flagNormalization    = flag.String(\"norm\", \"layer\", \"Type of normalization to use. Valid values are \\\"none\\\", \\\"batch\\\", \\\"layer\\\".\")\n",
    "    flagDropoutRate      = flag.Float64(\"dropout\", 0.15, \"Dropout rate\")\n",
    "    flagMaxVocab            = flag.Int(\"max_vocab\", 20000, \"Top most frequent words to consider, the rest is considered unknown.\")\n",
    "    flagTokenEmbeddingSize  = flag.Int(\"token_embed\", 32, \"Size of token embedding table. There are ~140K unique tokens\")\n",
    "    flagNumHiddenLayers     = flag.Int(\"hidden_layers\", 2, \"Number of output hidden layers, stacked with residual connection.\")\n",
    "    flagNumNodes            = flag.Int(\"num_nodes\", 32, \"Number of nodes in output hidden layers.\")\n",
    "    flagWordDropoutRate  = flag.Float64(\"word_dropout\", 0, \"Dropout rate for whole words of the input\")\n",
    ")\n",
    "\n",
    "// Normalize x according to --norm flag. Works for sequence nodes (rank-3) or plain feature nodes (rank-2).\n",
    "func Normalize(ctx *context.Context, x *Node) *Node {\n",
    "    switch *flagNormalization {\n",
    "    case \"layer\":\n",
    "        if x.Rank() == 3 {\n",
    "            // Normalize sequence.\n",
    "            return layers.LayerNormalization(ctx, x, -2, -1).\n",
    "                LearnedOffset(true).LearnedScale(true).ScaleNormalization(true).Done()\n",
    "        } else {\n",
    "            // Normalize features only.\n",
    "            return layers.LayerNormalization(ctx, x, -1).Done()\n",
    "        }\n",
    "    case \"batch\":\n",
    "        return layers.BatchNormalization(ctx, x, -1).Done()\n",
    "    case \"none\":\n",
    "        return x\n",
    "    }\n",
    "    g := x.Graph()\n",
    "    g.SetErrorf(\"invalid normalization selected %q -- valid values are batch, layer, none\", *flagNormalization)\n",
    "    return g.InvalidNode()\n",
    "}\n",
    "\n",
    "// EmbedTokensGraph creates embeddings for tokens and returns them along with the mask of used tokens --\n",
    "// set to false where padding was used.\n",
    "func EmbedTokensGraph(ctx *context.Context, tokens *Node) (embed, mask *Node) {\n",
    "    g := tokens.Graph()\n",
    "    mask = NotEqual(tokens, ZerosLike(tokens)) // Mask of tokens actually used.\n",
    "\n",
    "    // The token ids are indexed by frequency. Truncate to the vocabulary size considered, replacing\n",
    "    // ids higher than that by 0.\n",
    "    maxVocab := len(imdb.LoadedVocab.ListEntries)\n",
    "    if maxVocab > *flagMaxVocab {\n",
    "        maxVocab = *flagMaxVocab\n",
    "    }\n",
    "\n",
    "    // Limits tokens to the maxVocab.\n",
    "    tokens = Where(GreaterOrEqual(tokens, Const(g, maxVocab)),\n",
    "        MulScalar(OnesLike(tokens), float64(maxVocab-1)),\n",
    "        tokens)\n",
    "\n",
    "    // Embed tokens: shape=[batchSize, maxLen, embedDim]\n",
    "    embed = layers.Embedding(ctx.In(\"tokens\"), tokens, DType, maxVocab, *flagTokenEmbeddingSize)\n",
    "    embed = Where(mask, embed, ZerosLike(embed))\n",
    "    \n",
    "    if *flagWordDropoutRate > 0 {\n",
    "        dims := embed.Shape().Dimensions[:len(embed.Shape().Dimensions)-1]\n",
    "        dropoutMask := Ones(g, shapes.Make(DType, dims...))\n",
    "        dropoutMask = layers.Dropout(ctx, dropoutMask, ConstAsDType(g, DType, *flagWordDropoutRate))\n",
    "        dropoutMask = ExpandDims(dropoutMask, -1)\n",
    "        embed = Mul(embed, dropoutMask)\n",
    "    }    \n",
    "    return\n",
    "}\n",
    "\n",
    "// Activation function used for models.\n",
    "func Activation(x *Node) *Node {\n",
    "    return layers.Relu(x)\n",
    "}\n",
    "\n",
    "// ReadoutGraph takes the embeddings after they have been pooled on the sequence axis, so shaped `[batch_size, embed_dim]`\n",
    "// adds a FNN on top and readout the final logit.\n",
    "func ReadoutGraph(ctx *context.Context, embed *Node) *Node {\n",
    "    g := embed.Graph()\n",
    "    if !g.Ok() {\n",
    "        return g.InvalidNode()\n",
    "    }\n",
    "    var dropoutRate *Node\n",
    "    if *flagDropoutRate > 0 {\n",
    "        dropoutRate = ConstAsDType(g, DType, *flagDropoutRate)\n",
    "    }\n",
    "\n",
    "    // Output layers.\n",
    "    for ii := 0; ii < *flagNumHiddenLayers; ii++ {\n",
    "        ctx := ctx.In(fmt.Sprintf(\"output_dense_%d\", ii))\n",
    "        residual := embed\n",
    "        if *flagDropoutRate > 0 {\n",
    "            embed = layers.Dropout(ctx, embed, dropoutRate)\n",
    "        }\n",
    "        //embed = Tanh(embed)\n",
    "        embed = Activation(embed)\n",
    "        embed = layers.DenseWithBias(ctx, embed, *flagNumNodes)\n",
    "        embed = Normalize(ctx, embed)\n",
    "        if ii > 0 {\n",
    "            // Add residual connection.\n",
    "            embed = Add(embed, residual)\n",
    "        }\n",
    "    }\n",
    "\n",
    "    // Final embed layer with dimension 1.\n",
    "    {\n",
    "        ctx := ctx.In(\"readout\")\n",
    "        if *flagDropoutRate > 0 {\n",
    "            embed = layers.Dropout(ctx, embed, dropoutRate)\n",
    "        }\n",
    "        embed = Activation(embed)\n",
    "        embed = layers.DenseWithBias(ctx, embed, 1)\n",
    "    }\n",
    "    return embed\n",
    "}"
   ]
  },
  {
   "cell_type": "markdown",
   "id": "9b9eb816-6caf-46ea-805c-bd375834c55b",
   "metadata": {},
   "source": [
    "### Bag Of Words Model\n",
    "\n",
    "This is the simples model we are going to train. It's basically a no-op that connects the embedding table we defined above with the `ReadoutGraph` FNN afterwards.\n",
    "\n",
    "We define here placeholders for our future *CNN* and *Transformer* models.\n",
    "\n",
    "Finally we test that the shape is correct. To actually train and evaluate we still need to define the training loop, what we do in the following section."
   ]
  },
  {
   "cell_type": "code",
   "execution_count": 5,
   "id": "50cd517a-f592-4319-a9fd-acb8ab78124c",
   "metadata": {
    "tags": []
   },
   "outputs": [
    {
     "name": "stdout",
     "output_type": "stream",
     "text": [
      "> Loading previously generated preprocessed binary file.\n",
      "Loaded data from \"aclImdb.bin\": 100000 examples, 141088 unique tokens, 23727054 tokens in total.\n",
      "Logits shape for batch_size=3: (Float32)[3 1]\n"
     ]
    }
   ],
   "source": [
    "import (\n",
    "    . \"github.com/gomlx/gomlx/graph\"\n",
    "    \n",
    "    \"github.com/gomlx/gomlx/ml/context\"\n",
    ")\n",
    "\n",
    "var (\n",
    "    // ML Manager creation flags.\n",
    "    flagNumThreads  = flag.Int(\"num_threads\", -1, \"Number of threads. Leave as -1 to use as many as there are cores.\")\n",
    "    flagNumReplicas = flag.Int(\"num_replicas\", 1, \"Number of replicas.\")\n",
    "    flagPlatform    = flag.String(\"platform\", \"\", \"Platform to use, if empty uses the default one.\")\n",
    "\n",
    "    // Model type.\n",
    "    flagModel            = flag.String(\"model\", \"transformer\", \"Model type: bow or transformer.\")\n",
    ")\n",
    "\n",
    "// ModelGraph builds the model for our demo. It returns the logits, not the predictions, which works with most losses.\n",
    "func ModelGraph(ctx *context.Context, spec any, inputs []*Node) []*Node {\n",
    "\t_ = spec // Not used.\n",
    "\ttokens := inputs[0]\n",
    "\tg := tokens.Graph()\n",
    "\tif !g.Ok() {\n",
    "\t\treturn nil\n",
    "\t}\n",
    "\tembed, mask := EmbedTokensGraph(ctx, tokens)\n",
    "\n",
    "\t// Normalization function.\n",
    "\tif *flagModel == \"bow\" {\n",
    "\t\t// Bag-Of-Words model doesn't do anything, it's just the embedding table for each token.\n",
    "\t} else if *flagModel == \"cnn\" {\n",
    "\t\tembed = Conv1DGraph(ctx, embed, mask)\n",
    "\t} else if *flagModel == \"transformer\" {\n",
    "\t\tembed = TransformerGraph(ctx, tokens, embed, mask)\n",
    "\t} else {\n",
    "\t\tg.SetErrorf(\"unknown model type %q, only types \\\"bow\\\", \\\"cnn\\\" and \\\"transformer\\\" are implemented\", *flagModel)\n",
    "\t\treturn nil\n",
    "\t}\n",
    "\n",
    "\t// Sum-up per-token embeddings and do a FNN on the output. From now on, the dimensions are `[batch_dim, embed_dim]`\n",
    "\t// Notice we are not using mask.\n",
    "\tembed = ReduceMax(embed, 1)\n",
    "\tlogits := ReadoutGraph(ctx, embed)\n",
    "\treturn []*Node{logits}\n",
    "}\n",
    "\n",
    "func Conv1DGraph(ctx *context.Context, embed, mask *Node) *Node {\n",
    "    log.Panic(\"Not implemented.\")\n",
    "    return nil\n",
    "}\n",
    "\n",
    "func TransformerGraph(ctx *context.Context, tokens, embed, mask *Node) *Node {\n",
    "    log.Panic(\"Not implemented.\")\n",
    "    return nil\n",
    "}\n",
    "\n",
    "%% --model=bow --platform=Host\n",
    "\n",
    "// Let's test that the logits are coming out with the right shape: we want [batch_size, 10], since there are 10 classes.\n",
    "AssertDownloaded()\n",
    "manager := BuildManager().NumThreads(*flagNumThreads).NumReplicas(*flagNumReplicas).Platform(*flagPlatform).MustDone()\n",
    "ds := imdb.NewDataset(\"Test\", imdb.Test, *flagMaxLen, 3, DType, true, nil)\n",
    "_, inputs, _, err := ds.Yield()\n",
    "AssertNoError(err)\n",
    "\n",
    "g := manager.NewGraph(\"test\")\n",
    "ctx := context.NewContext(manager)\n",
    "logits := ModelGraph(ctx, nil, []*Node{Const(g, inputs[0])})\n",
    "AssertNoError(g.Error())\n",
    "AssertNoError(ctx.Error())\n",
    "fmt.Printf(\"Logits shape for batch_size=%d: %s\\n\", 3, logits[0].Shape())"
   ]
  },
  {
   "cell_type": "markdown",
   "id": "f1227119-6990-488b-83fc-f2551653ae24",
   "metadata": {},
   "source": [
    "### Training Loop\n",
    "\n",
    "Training loop, with the usual bells and whistles. We also do a quick test with 100 steps to check things are working."
   ]
  },
  {
   "cell_type": "code",
   "execution_count": 6,
   "id": "71243cc9-3831-4f6e-86e2-f2e55dce97b3",
   "metadata": {
    "tags": []
   },
   "outputs": [
    {
     "name": "stdout",
     "output_type": "stream",
     "text": [
      "> Loading previously generated preprocessed binary file.\n",
      "Loaded data from \"aclImdb.bin\": 100000 examples, 141088 unique tokens, 23727054 tokens in total.\n",
      "Platform: Host\n",
      "Training (100 steps):  100% [\u001b[32m=\u001b[0m\u001b[32m=\u001b[0m\u001b[32m=\u001b[0m\u001b[32m=\u001b[0m\u001b[32m=\u001b[0m\u001b[32m=\u001b[0m\u001b[32m=\u001b[0m\u001b[32m=\u001b[0m\u001b[32m=\u001b[0m\u001b[32m=\u001b[0m\u001b[32m=\u001b[0m\u001b[32m=\u001b[0m\u001b[32m=\u001b[0m\u001b[32m=\u001b[0m\u001b[32m=\u001b[0m\u001b[32m=\u001b[0m\u001b[32m=\u001b[0m\u001b[32m=\u001b[0m\u001b[32m=\u001b[0m\u001b[32m=\u001b[0m\u001b[32m=\u001b[0m\u001b[32m=\u001b[0m\u001b[32m=\u001b[0m\u001b[32m=\u001b[0m\u001b[32m=\u001b[0m\u001b[32m=\u001b[0m\u001b[32m=\u001b[0m\u001b[32m=\u001b[0m\u001b[32m=\u001b[0m\u001b[32m=\u001b[0m\u001b[32m=\u001b[0m\u001b[32m=\u001b[0m\u001b[32m=\u001b[0m\u001b[32m=\u001b[0m\u001b[32m=\u001b[0m\u001b[32m=\u001b[0m\u001b[32m=\u001b[0m\u001b[32m=\u001b[0m\u001b[32m=\u001b[0m\u001b[32m=\u001b[0m] (146 steps/s)\u001b[0m [loss=0.710] [~loss=0.687] [~acc=55.72%]        \n",
      "\n",
      "Results on train-eval:\n",
      "\tMean Loss (#loss): 0.700\n",
      "\tMean Accuracy (#acc): 50.01%\n",
      "Results on test-eval:\n",
      "\tMean Loss (#loss): 0.700\n",
      "\tMean Accuracy (#acc): 50.00%\n"
     ]
    }
   ],
   "source": [
    "import (\n",
    "    . \"github.com/gomlx/gomlx/graph\"\n",
    "    \n",
    "    \"github.com/gomlx/gomlx/ml/context\"\n",
    "    \"github.com/gomlx/gomlx/ml/train\"\n",
    ")\n",
    "\n",
    "var (\n",
    "    flagOptimizer        = flag.String(\"optimizer\", \"adam\", \"Optimizer, options: adam or sgd.\")\n",
    "    flagNumSteps         = flag.Int(\"steps\", 5000, \"Number of gradient descent steps to perform\")\n",
    "    flagBatchSize        = flag.Int(\"batch\", 32, \"Batch size for training\")\n",
    "    flagLearningRate     = flag.Float64(\"learning_rate\", 0.0001, \"Initial learning rate.\")\n",
    "    flagL2Regularization = flag.Float64(\"l2_reg\", 0, \"L2 regularization on kernels. It doesn't interact well with --batch_norm or with --optimizer=adam.\")\n",
    "    \n",
    "    flagCheckpoint       = flag.String(\"checkpoint\", \"\", \"Directory save and load checkpoints from. If left empty, no checkpoints are created.\")\n",
    "    flagCheckpointKeep   = flag.Int(\"checkpoint_keep\", 10, \"Number of checkpoints to keep, if --checkpoint is set.\")\n",
    "\n",
    "    // Training UI:\n",
    "    flagUseProgressBar = flag.Bool(\"bar\", true, \"If to display a progress bar during training\")\n",
    "    flagNumPlotPoints  = flag.Int(\"plot_points\", 50, \"Number points to plot.\")\n",
    ")\n",
    "\n",
    "func trainModel() {\n",
    "    // Make sure data is downloaded.\n",
    "    AssertDownloaded()\n",
    "\n",
    "    // Manager handles creation of ML computation graphs, accelerator resources, etc.\n",
    "    manager := BuildManager().NumThreads(*flagNumThreads).NumReplicas(*flagNumReplicas).Platform(*flagPlatform).MustDone()\n",
    "    fmt.Printf(\"Platform: %s\\n\", manager.Platform())\n",
    "\n",
    "    // Datasets.\n",
    "    var trainDS, trainEvalDS, testEvalDS train.Dataset\n",
    "    trainDS = imdb.NewDataset(\"train\", imdb.Train, *flagMaxLen, *flagBatchSize, DType, true, nil)\n",
    "    trainEvalDS = imdb.NewDataset(\"train-eval\", imdb.Train, *flagMaxLen, *flagBatchSize, DType, false, nil)\n",
    "    testEvalDS = imdb.NewDataset(\"test-eval\", imdb.Test, *flagMaxLen, *flagBatchSize, DType, false, nil)\n",
    "\n",
    "    // Parallelize generation of batches, to prevent the dataset from being a bottleneck to the acceleartor (GPU/TPU).\n",
    "    trainDS = data.NewParallelDataset(trainDS, 0, 0)\n",
    "    trainEvalDS = data.NewParallelDataset(trainEvalDS, 0, 0)\n",
    "    testEvalDS = data.NewParallelDataset(testEvalDS, 0, 0)\n",
    "\n",
    "    // Metrics we are interested.\n",
    "    meanAccuracyMetric := metrics.NewMeanBinaryLogitsAccuracy(\"Mean Accuracy\", \"#acc\")\n",
    "    movingAccuracyMetric := metrics.NewMovingAverageBinaryLogitsAccuracy(\"Moving Average Accuracy\", \"~acc\", 0.01)\n",
    "\n",
    "    // Context holds the variables and hyperparameters for the model.\n",
    "    ctx := context.NewContext(manager)\n",
    "    ctx.SetParam(optimizers.LearningRateKey, *flagLearningRate)\n",
    "    ctx.SetParam(layers.L2RegularizationKey, *flagL2Regularization)\n",
    "\n",
    "    // Checkpoints saving.\n",
    "    var checkpoint *checkpoints.Handler\n",
    "    if *flagCheckpoint != \"\" {\n",
    "        checkpointPath := data.ReplaceTildeInDir(*flagCheckpoint)\n",
    "        if !path.IsAbs(checkpointPath) {\n",
    "            checkpointPath = path.Join(*flagDataDir, checkpointPath)\n",
    "        }\n",
    "        var err error\n",
    "        checkpoint, err = checkpoints.Build(ctx).Dir(checkpointPath).Keep(*flagCheckpointKeep).Done()\n",
    "        AssertNoError(err)\n",
    "    }\n",
    "\n",
    "    // Create a train.Trainer: this object will orchestrate running the model, feeding\n",
    "    // results to the optimizer, evaluating the metrics, etc. (all happens in trainer.TrainStep)\n",
    "    loss := losses.BinaryCrossentropyLogits\n",
    "    trainer := train.NewTrainer(\n",
    "        manager, ctx, ModelGraph, loss,\n",
    "        optimizers.MustOptimizerByName(*flagOptimizer),\n",
    "        []metrics.Interface{movingAccuracyMetric}, // trainMetrics\n",
    "        []metrics.Interface{meanAccuracyMetric})   // evalMetrics\n",
    "\n",
    "    // Use standard training loop.\n",
    "    loop := train.NewLoop(trainer)\n",
    "    if *flagUseProgressBar {\n",
    "        commandline.AttachProgressBar(loop) // Attaches a progress bar to the loop.\n",
    "    }\n",
    "\n",
    "    if checkpoint != nil {\n",
    "        train.NTimesDuringLoop(loop, 2*(*flagCheckpointKeep), \"checkpointing\", 100, func(_ *train.Loop, _ []tensor.Tensor) error {\n",
    "            return checkpoint.Save()\n",
    "        })\n",
    "    }\n",
    "\n",
    "    // Attach a margaid plots.\n",
    "    if *flagNumPlotPoints > 0 {\n",
    "        margaid.New(1024, 400, trainEvalDS, testEvalDS).DynamicUpdates().Attach(loop, *flagNumPlotPoints)\n",
    "    }\n",
    "\n",
    "    // Loop for given number of steps.\n",
    "    _, err := loop.RunSteps(trainDS, *flagNumSteps)\n",
    "    AssertNoError(err)\n",
    "\n",
    "    // Report final evaluation.\n",
    "    fmt.Println()\n",
    "    err = commandline.ReportEval(trainer, trainEvalDS, testEvalDS)\n",
    "    AssertNoError(err)\n",
    "}\n",
    "\n",
    "%% --platform=Host --model=bow --steps=100 --plot_points=0\n",
    "trainModel()\n"
   ]
  },
  {
   "cell_type": "markdown",
   "id": "9351949f-53a5-4354-a69a-59348a48915a",
   "metadata": {},
   "source": [
    "### Training Bag-Of-Words (\"bow\") Model\n",
    "\n",
    "A proper run of our *bow* model."
   ]
  },
  {
   "cell_type": "code",
   "execution_count": 7,
   "id": "8f9eb10c-e668-40fb-9725-51ac465cc4cf",
   "metadata": {
    "tags": []
   },
   "outputs": [
    {
     "name": "stdout",
     "output_type": "stream",
     "text": [
      "> Loading previously generated preprocessed binary file.\n",
      "Loaded data from \"aclImdb.bin\": 100000 examples, 141088 unique tokens, 23727054 tokens in total.\n",
      "Platform: CUDA\n"
     ]
    },
    {
     "data": {
      "text/html": []
     },
     "metadata": {},
     "output_type": "display_data"
    },
    {
     "name": "stdout",
     "output_type": "stream",
     "text": [
      "Training (20000 steps):  100% [\u001b[32m=\u001b[0m\u001b[32m=\u001b[0m\u001b[32m=\u001b[0m\u001b[32m=\u001b[0m\u001b[32m=\u001b[0m\u001b[32m=\u001b[0m\u001b[32m=\u001b[0m\u001b[32m=\u001b[0m\u001b[32m=\u001b[0m\u001b[32m=\u001b[0m\u001b[32m=\u001b[0m\u001b[32m=\u001b[0m\u001b[32m=\u001b[0m\u001b[32m=\u001b[0m\u001b[32m=\u001b[0m\u001b[32m=\u001b[0m\u001b[32m=\u001b[0m\u001b[32m=\u001b[0m\u001b[32m=\u001b[0m\u001b[32m=\u001b[0m\u001b[32m=\u001b[0m\u001b[32m=\u001b[0m\u001b[32m=\u001b[0m\u001b[32m=\u001b[0m\u001b[32m=\u001b[0m\u001b[32m=\u001b[0m\u001b[32m=\u001b[0m\u001b[32m=\u001b[0m\u001b[32m=\u001b[0m\u001b[32m=\u001b[0m\u001b[32m=\u001b[0m\u001b[32m=\u001b[0m\u001b[32m=\u001b[0m\u001b[32m=\u001b[0m\u001b[32m=\u001b[0m\u001b[32m=\u001b[0m\u001b[32m=\u001b[0m\u001b[32m=\u001b[0m\u001b[32m=\u001b[0m\u001b[32m=\u001b[0m] (707 steps/s)\u001b[0m [loss=0.218] [~loss=0.232] [~acc=91.03%]        \n"
     ]
    },
    {
     "data": {
      "text/html": [
       "<svg preserveAspectRatio=\"xMidYMid meet\" xmlns=\"http://www.w3.org/2000/svg\" width=\"1024\" height=\"454\" viewbox=\"0 0 1024 400\" style=\"background-color:#f8f8f8\"><defs><marker refX=\"5\" refY=\"5\" markerUnits=\"userSpaceOnUse\" markerWidth=\"2%\" markerHeight=\"2%\" id=\"circle\" viewBox=\"0 0 10 10 \"><circle stroke=\"black\" cx=\"5\" cy=\"5\" r=\"3\" fill=\"none\"/></marker><marker id=\"filled-circle\" viewBox=\"0 0 10 10 \" refX=\"5\" refY=\"5\" markerUnits=\"userSpaceOnUse\" markerWidth=\"2%\" markerHeight=\"2%\"><circle stroke=\"none\" cx=\"5\" cy=\"5\" r=\"3\" fill=\"black\"/></marker><marker markerWidth=\"2%\" markerHeight=\"2%\" id=\"square\" viewBox=\"0 0 10 10 \" refX=\"5\" refY=\"5\" markerUnits=\"userSpaceOnUse\"><rect stroke=\"black\" x=\"2\" y=\"2\" width=\"6\" height=\"6\" fill=\"none\"/></marker><marker refX=\"5\" refY=\"5\" markerUnits=\"userSpaceOnUse\" markerWidth=\"2%\" markerHeight=\"2%\" id=\"filled-square\" viewBox=\"0 0 10 10 \"><rect fill=\"black\" stroke=\"none\" x=\"2\" y=\"2\" width=\"6\" height=\"6\"/></marker></defs><g marker-mid=\"url(#square)\" stroke=\"hsl(90, 47%, 65%)\" marker-end=\"url(#square)\" stroke-linecap=\"round\" marker-start=\"url(#square)\" fill=\"none\" transform=\"translate(70 330 )scale(1 -1 )\" stroke-width=\"2px\" stroke-linejoin=\"round\"><path vector-effect=\"non-scaling-stroke\" d=\"M1.768000e+01,5.200000e+00 L3.461121e+01,5.200000e+00 L5.158486e+01,1.178466e+02 L6.855851e+01,1.322440e+02 L8.553216e+01,1.652826e+02 L1.025058e+02,1.684154e+02 L1.194795e+02,1.682821e+02 L1.364531e+02,1.767472e+02 L1.534268e+02,1.812131e+02 L1.704004e+02,1.812131e+02 L1.873741e+02,1.859678e+02 L2.043477e+02,1.865677e+02 L2.213214e+02,1.871009e+02 L2.382950e+02,1.873898e+02 L2.552686e+02,1.866788e+02 L2.722423e+02,1.871898e+02 L2.892159e+02,1.899449e+02 L3.061896e+02,1.930999e+02 L3.231632e+02,1.914779e+02 L3.401369e+02,1.934109e+02 L3.571105e+02,1.940330e+02 L3.740842e+02,1.943219e+02 L3.910578e+02,1.912558e+02 L4.080315e+02,1.948774e+02 L4.250051e+02,1.937887e+02 L4.419788e+02,1.958327e+02 L4.589524e+02,1.945441e+02 L4.759261e+02,1.980768e+02 L4.928997e+02,1.955217e+02 L5.098734e+02,1.988988e+02 L5.268470e+02,1.978990e+02 L5.438207e+02,1.982545e+02 L5.607943e+02,1.979434e+02 L5.777680e+02,1.988100e+02 L5.947416e+02,1.981879e+02 L6.117153e+02,1.930332e+02 L6.286889e+02,1.954328e+02 L6.456626e+02,1.960771e+02 L6.626362e+02,1.983878e+02 L6.796099e+02,1.965215e+02 L6.965835e+02,1.988544e+02 L7.135572e+02,1.964326e+02 L7.305308e+02,1.975657e+02 L7.475045e+02,1.913446e+02 L7.644781e+02,1.973880e+02 L7.814518e+02,1.973213e+02 L7.984254e+02,1.941886e+02 L8.153991e+02,1.956106e+02 L8.323727e+02,1.958105e+02 L8.493464e+02,1.995432e+02 L8.663200e+02,1.955217e+02 \"/></g><g stroke-linejoin=\"round\" marker-start=\"url(#square)\" marker-end=\"url(#square)\" stroke=\"hsl(301, 88%, 65%)\" marker-mid=\"url(#square)\" transform=\"translate(70 330 )scale(1 -1 )\" stroke-width=\"2px\" stroke-linecap=\"round\" fill=\"none\"><path vector-effect=\"non-scaling-stroke\" d=\"M1.768000e+01,5.222208e+00 L3.461121e+01,5.222208e+00 L5.158486e+01,1.226458e+02 L6.855851e+01,1.352435e+02 L8.553216e+01,1.735478e+02 L1.025058e+02,1.767472e+02 L1.194795e+02,1.774138e+02 L1.364531e+02,1.897227e+02 L1.534268e+02,1.975213e+02 L1.704004e+02,1.960771e+02 L1.873741e+02,2.064531e+02 L2.043477e+02,2.052533e+02 L2.213214e+02,2.060976e+02 L2.382950e+02,2.070307e+02 L2.552686e+02,2.069418e+02 L2.722423e+02,2.082305e+02 L2.892159e+02,2.123631e+02 L3.061896e+02,2.176733e+02 L3.231632e+02,2.165179e+02 L3.401369e+02,2.201617e+02 L3.571105e+02,2.221392e+02 L3.740842e+02,2.235167e+02 L3.910578e+02,2.210949e+02 L4.080315e+02,2.244721e+02 L4.250051e+02,2.259607e+02 L4.419788e+02,2.286269e+02 L4.589524e+02,2.280936e+02 L4.759261e+02,2.339148e+02 L4.928997e+02,2.313153e+02 L5.098734e+02,2.363144e+02 L5.268470e+02,2.362922e+02 L5.438207e+02,2.382029e+02 L5.607943e+02,2.389139e+02 L5.777680e+02,2.413135e+02 L5.947416e+02,2.406914e+02 L6.117153e+02,2.337815e+02 L6.286889e+02,2.370698e+02 L6.456626e+02,2.393139e+02 L6.626362e+02,2.435798e+02 L6.796099e+02,2.418912e+02 L6.965835e+02,2.465348e+02 L7.135572e+02,2.445129e+02 L7.305308e+02,2.472680e+02 L7.475045e+02,2.400693e+02 L7.644781e+02,2.492899e+02 L7.814518e+02,2.486011e+02 L7.984254e+02,2.447573e+02 L8.153991e+02,2.486455e+02 L8.323727e+02,2.485567e+02 L8.493464e+02,2.548000e+02 L8.663200e+02,2.514228e+02 \"/></g><g stroke=\"hsl(152, 76%, 65%)\" stroke-linejoin=\"round\" marker-start=\"url(#square)\" marker-end=\"url(#square)\" stroke-linecap=\"round\" marker-mid=\"url(#square)\" fill=\"none\" transform=\"translate(70 330 )scale(1 -1 )\" stroke-width=\"2px\"><path vector-effect=\"non-scaling-stroke\" d=\"M1.768000e+01,2.257467e+01 L3.461121e+01,9.914862e+00 L5.158486e+01,2.184895e+01 L6.855851e+01,5.572410e+01 L8.553216e+01,1.131721e+02 L1.025058e+02,1.302958e+02 L1.194795e+02,1.456957e+02 L1.364531e+02,1.451414e+02 L1.534268e+02,1.546292e+02 L1.704004e+02,1.581200e+02 L1.873741e+02,1.673895e+02 L2.043477e+02,1.667235e+02 L2.213214e+02,1.729198e+02 L2.382950e+02,1.726124e+02 L2.552686e+02,1.789105e+02 L2.722423e+02,1.806479e+02 L2.892159e+02,1.808205e+02 L3.061896e+02,1.877836e+02 L3.231632e+02,1.888142e+02 L3.401369e+02,1.950412e+02 L3.571105e+02,1.992844e+02 L3.740842e+02,1.977700e+02 L3.910578e+02,2.018441e+02 L4.080315e+02,1.990708e+02 L4.250051e+02,2.014368e+02 L4.419788e+02,2.028730e+02 L4.589524e+02,2.020081e+02 L4.759261e+02,2.030280e+02 L4.928997e+02,2.058773e+02 L5.098734e+02,2.088824e+02 L5.268470e+02,2.088254e+02 L5.438207e+02,2.079642e+02 L5.607943e+02,2.134199e+02 L5.777680e+02,2.134245e+02 L5.947416e+02,2.149332e+02 L6.117153e+02,2.122781e+02 L6.286889e+02,2.168310e+02 L6.456626e+02,2.178427e+02 L6.626362e+02,2.180574e+02 L6.796099e+02,2.205919e+02 L6.965835e+02,2.237183e+02 L7.135572e+02,2.222719e+02 L7.305308e+02,2.231587e+02 L7.475045e+02,2.249726e+02 L7.644781e+02,2.238070e+02 L7.814518e+02,2.276325e+02 L7.984254e+02,2.280013e+02 L8.153991e+02,2.296145e+02 L8.323727e+02,2.295799e+02 L8.493464e+02,2.290132e+02 L8.663200e+02,2.330410e+02 \"/></g><g stroke=\"black\" stroke-linecap=\"round\" transform=\"translate(70 330 )scale(1 -1 )\" fill=\"none\" stroke-width=\"2px\" stroke-linejoin=\"round\"><path vector-effect=\"non-scaling-stroke\" d=\"M1.768000e+01,0 L1.768000e+01,-6 M1.025482e+02,0 L1.025482e+02,-6 M1.874165e+02,0 L1.874165e+02,-6 M2.722847e+02,0 L2.722847e+02,-6 M3.571530e+02,0 L3.571530e+02,-6 M4.420212e+02,0 L4.420212e+02,-6 M5.268895e+02,0 L5.268895e+02,-6 M6.117577e+02,0 L6.117577e+02,-6 M6.966259e+02,0 L6.966259e+02,-6 M7.814942e+02,0 L7.814942e+02,-6 \"/></g><g stroke-linecap=\"round\" transform=\"translate(70 330 )scale(1 1 )\" stroke-width=\"2px\" stroke-linejoin=\"round\" font-size=\"12px\" font-style=\"normal\" text-anchor=\"middle\" fill=\"black\" font-family=\"sans-serif\" dominant-baseline=\"hanging\" font-weight=\"normal\" stroke=\"black\"><text x=\"1.768000e+01\" y=\"10\" dominant-baseline=\"hanging\" stroke=\"none\" vector-effect=\"non-scaling-stroke\">0</text><text stroke=\"none\" vector-effect=\"non-scaling-stroke\" x=\"1.025482e+02\" y=\"10\" dominant-baseline=\"hanging\">2000</text><text stroke=\"none\" vector-effect=\"non-scaling-stroke\" x=\"1.874165e+02\" y=\"10\" dominant-baseline=\"hanging\">4000</text><text dominant-baseline=\"hanging\" stroke=\"none\" vector-effect=\"non-scaling-stroke\" x=\"2.722847e+02\" y=\"10\">6000</text><text y=\"10\" dominant-baseline=\"hanging\" stroke=\"none\" vector-effect=\"non-scaling-stroke\" x=\"3.571530e+02\">8000</text><text stroke=\"none\" vector-effect=\"non-scaling-stroke\" x=\"4.420212e+02\" y=\"10\" dominant-baseline=\"hanging\">10000</text><text stroke=\"none\" vector-effect=\"non-scaling-stroke\" x=\"5.268895e+02\" y=\"10\" dominant-baseline=\"hanging\">12000</text><text stroke=\"none\" vector-effect=\"non-scaling-stroke\" x=\"6.117577e+02\" y=\"10\" dominant-baseline=\"hanging\">14000</text><text dominant-baseline=\"hanging\" stroke=\"none\" vector-effect=\"non-scaling-stroke\" x=\"6.966259e+02\" y=\"10\">16000</text><text stroke=\"none\" vector-effect=\"non-scaling-stroke\" x=\"7.814942e+02\" y=\"10\" dominant-baseline=\"hanging\">18000</text></g><g stroke-linejoin=\"round\" font-family=\"sans-serif\" transform=\"translate(70 330 )scale(1 1 )rotate(0 0 0 )\" font-style=\"normal\" fill=\"black\" stroke-width=\"2px\" text-anchor=\"middle\" font-weight=\"bold\" dominant-baseline=\"baseline\" stroke=\"black\" stroke-linecap=\"round\" font-size=\"12px\"><text x=\"442\" y=\"-6\" dominant-baseline=\"baseline\" stroke=\"none\" vector-effect=\"non-scaling-stroke\">Steps</text></g><g dominant-baseline=\"baseline\" stroke=\"black\" stroke-linecap=\"round\" font-size=\"12px\" font-style=\"normal\" text-anchor=\"middle\" fill=\"black\" font-weight=\"bold\" transform=\"translate(70 330 )scale(1 -1 )\" stroke-width=\"2px\" stroke-linejoin=\"round\" font-family=\"sans-serif\"><path d=\"M0,5.222208e+00 L-6,5.222208e+00 M0,6.075010e+01 L-6,6.075010e+01 M0,1.162780e+02 L-6,1.162780e+02 M0,1.718059e+02 L-6,1.718059e+02 M0,2.273338e+02 L-6,2.273338e+02 \" vector-effect=\"non-scaling-stroke\"/></g><g fill=\"black\" stroke-width=\"2px\" font-weight=\"normal\" dominant-baseline=\"middle\" transform=\"translate(70 330 )scale(1 1 )\" font-family=\"sans-serif\" font-style=\"normal\" text-anchor=\"end\" stroke-linejoin=\"round\" font-size=\"12px\" stroke=\"black\" stroke-linecap=\"round\"><text y=\"-5.222208e+00\" dominant-baseline=\"middle\" stroke=\"none\" vector-effect=\"non-scaling-stroke\" x=\"-10\">0.500</text><text x=\"-10\" y=\"-6.075010e+01\" dominant-baseline=\"middle\" stroke=\"none\" vector-effect=\"non-scaling-stroke\">0.600</text><text stroke=\"none\" vector-effect=\"non-scaling-stroke\" x=\"-10\" y=\"-1.162780e+02\" dominant-baseline=\"middle\">0.700</text><text y=\"-1.718059e+02\" dominant-baseline=\"middle\" stroke=\"none\" vector-effect=\"non-scaling-stroke\" x=\"-10\">0.800</text><text stroke=\"none\" vector-effect=\"non-scaling-stroke\" x=\"-10\" y=\"-2.273338e+02\" dominant-baseline=\"middle\">0.900</text></g><g stroke-linejoin=\"round\" font-size=\"12px\" font-weight=\"bold\" stroke-linecap=\"round\" stroke-width=\"2px\" font-family=\"sans-serif\" font-style=\"normal\" text-anchor=\"middle\" fill=\"black\" dominant-baseline=\"hanging\" stroke=\"black\" transform=\"translate(70 330 )scale(1 1 )rotate(-90 0 0 )\"><text stroke=\"none\" vector-effect=\"non-scaling-stroke\" x=\"130\" y=\"6\" dominant-baseline=\"hanging\">accuracy</text></g><g stroke-linejoin=\"round\" font-family=\"sans-serif\" dominant-baseline=\"hanging\" stroke=\"gray\" stroke-linecap=\"round\" transform=\"translate(70 330 )scale(1 -1 )\" fill=\"black\" font-weight=\"bold\" font-size=\"12px\" font-style=\"normal\" text-anchor=\"middle\" stroke-width=\"0.5px\"><path vector-effect=\"non-scaling-stroke\" d=\"M0,5.222208e+00 L884,5.222208e+00 M0,6.075010e+01 L884,6.075010e+01 M0,1.162780e+02 L884,1.162780e+02 M0,1.718059e+02 L884,1.718059e+02 M0,2.273338e+02 L884,2.273338e+02 \"/></g><g font-weight=\"bold\" dominant-baseline=\"hanging\" fill=\"none\" stroke-width=\"2px\" font-size=\"12px\" font-family=\"sans-serif\" stroke-linecap=\"round\" stroke-linejoin=\"round\" font-style=\"normal\" text-anchor=\"middle\" stroke=\"black\"><rect vector-effect=\"non-scaling-stroke\" x=\"70\" y=\"70\" width=\"884\" height=\"260\"/><g font-size=\"18px\" fill=\"black\" dominant-baseline=\"middle\"><text y=\"35\" dominant-baseline=\"middle\" stroke=\"none\" vector-effect=\"non-scaling-stroke\" x=\"512\">accuracy metrics</text></g><g font-style=\"normal\" stroke-linecap=\"round\" font-family=\"sans-serif\" font-weight=\"normal\" fill=\"hsl(90, 47%, 65%)\" font-size=\"12px\" text-anchor=\"start\" stroke=\"hsl(90, 47%, 65%)\" dominant-baseline=\"hanging\" stroke-width=\"1px\" stroke-linejoin=\"round\"><rect height=\"12\" vector-effect=\"non-scaling-stroke\" x=\"76\" y=\"366\" width=\"12\"/><g stroke=\"black\" fill=\"black\"><text vector-effect=\"non-scaling-stroke\" x=\"92\" y=\"366\" dominant-baseline=\"hanging\" stroke=\"none\">Eval on test-eval: Mean Accuracy</text></g><g fill=\"hsl(301, 88%, 65%)\" stroke-width=\"1px\" stroke-linejoin=\"round\" font-family=\"sans-serif\" font-weight=\"normal\" font-size=\"12px\" font-style=\"normal\" text-anchor=\"start\" dominant-baseline=\"hanging\" stroke=\"hsl(301, 88%, 65%)\" stroke-linecap=\"round\"><rect y=\"384\" width=\"12\" height=\"12\" vector-effect=\"non-scaling-stroke\" x=\"76\"/><g fill=\"black\" stroke=\"black\"><text x=\"92\" y=\"384\" dominant-baseline=\"hanging\" stroke=\"none\" vector-effect=\"non-scaling-stroke\">Eval on train-eval: Mean Accuracy</text></g><g font-size=\"12px\" font-style=\"normal\" text-anchor=\"start\" stroke-linecap=\"round\" stroke-linejoin=\"round\" fill=\"hsl(152, 76%, 65%)\" stroke-width=\"1px\" font-family=\"sans-serif\" font-weight=\"normal\" dominant-baseline=\"hanging\" stroke=\"hsl(152, 76%, 65%)\"><rect vector-effect=\"non-scaling-stroke\" x=\"76\" y=\"402\" width=\"12\" height=\"12\"/><g stroke=\"black\" fill=\"black\"><text x=\"92\" y=\"402\" dominant-baseline=\"hanging\" stroke=\"none\" vector-effect=\"non-scaling-stroke\">Train: Moving Average Accuracy</text></g></g></g></g></g></svg>"
      ]
     },
     "metadata": {},
     "output_type": "display_data"
    },
    {
     "name": "stdout",
     "output_type": "stream",
     "text": [
      "\n",
      "Results on train-eval:\n"
     ]
    },
    {
     "data": {
      "text/html": [
       "<svg preserveAspectRatio=\"xMidYMid meet\" xmlns=\"http://www.w3.org/2000/svg\" width=\"1024\" height=\"472\" viewbox=\"0 0 1024 400\" style=\"background-color:#f8f8f8\"><defs><marker refX=\"5\" refY=\"5\" markerUnits=\"userSpaceOnUse\" markerWidth=\"2%\" markerHeight=\"2%\" id=\"circle\" viewBox=\"0 0 10 10 \"><circle cx=\"5\" cy=\"5\" r=\"3\" fill=\"none\" stroke=\"black\"/></marker><marker id=\"filled-circle\" viewBox=\"0 0 10 10 \" refX=\"5\" refY=\"5\" markerUnits=\"userSpaceOnUse\" markerWidth=\"2%\" markerHeight=\"2%\"><circle fill=\"black\" stroke=\"none\" cx=\"5\" cy=\"5\" r=\"3\"/></marker><marker markerHeight=\"2%\" id=\"square\" viewBox=\"0 0 10 10 \" refX=\"5\" refY=\"5\" markerUnits=\"userSpaceOnUse\" markerWidth=\"2%\"><rect stroke=\"black\" x=\"2\" y=\"2\" width=\"6\" height=\"6\" fill=\"none\"/></marker><marker markerHeight=\"2%\" id=\"filled-square\" viewBox=\"0 0 10 10 \" refX=\"5\" refY=\"5\" markerUnits=\"userSpaceOnUse\" markerWidth=\"2%\"><rect x=\"2\" y=\"2\" width=\"6\" height=\"6\" fill=\"black\" stroke=\"none\"/></marker></defs><g transform=\"translate(70 330 )scale(1 -1 )\" marker-start=\"url(#square)\" stroke-linecap=\"round\" stroke-linejoin=\"round\" marker-mid=\"url(#square)\" marker-end=\"url(#square)\" fill=\"none\" stroke-width=\"2px\" stroke=\"hsl(90, 47%, 65%)\"><path vector-effect=\"non-scaling-stroke\" d=\"M1.768000e+01,2.496787e+02 L3.461121e+01,2.488093e+02 L5.158486e+01,2.458779e+02 L6.855851e+01,2.246729e+02 L8.553216e+01,1.637043e+02 L1.025058e+02,1.520574e+02 L1.194795e+02,1.497707e+02 L1.364531e+02,1.399343e+02 L1.534268e+02,1.321936e+02 L1.704004e+02,1.322097e+02 L1.873741e+02,1.247612e+02 L2.043477e+02,1.233603e+02 L2.213214e+02,1.221928e+02 L2.382950e+02,1.211980e+02 L2.552686e+02,1.223525e+02 L2.722423e+02,1.210924e+02 L2.892159e+02,1.174039e+02 L3.061896e+02,1.126759e+02 L3.231632e+02,1.150953e+02 L3.401369e+02,1.117842e+02 L3.571105e+02,1.113836e+02 L3.740842e+02,1.112307e+02 L3.910578e+02,1.151750e+02 L4.080315e+02,1.105155e+02 L4.250051e+02,1.114456e+02 L4.419788e+02,1.104627e+02 L4.589524e+02,1.099787e+02 L4.759261e+02,1.051457e+02 L4.928997e+02,1.101854e+02 L5.098734e+02,1.060719e+02 L5.268470e+02,1.065351e+02 L5.438207e+02,1.057456e+02 L5.607943e+02,1.073233e+02 L5.777680e+02,1.051671e+02 L5.947416e+02,1.072211e+02 L6.117153e+02,1.139843e+02 L6.286889e+02,1.132968e+02 L6.456626e+02,1.113512e+02 L6.626362e+02,1.062254e+02 L6.796099e+02,1.117278e+02 L6.965835e+02,1.079483e+02 L7.135572e+02,1.131209e+02 L7.305308e+02,1.123220e+02 L7.475045e+02,1.187866e+02 L7.644781e+02,1.100888e+02 L7.814518e+02,1.096240e+02 L7.984254e+02,1.165923e+02 L8.153991e+02,1.156982e+02 L8.323727e+02,1.159297e+02 L8.493464e+02,1.081170e+02 L8.663200e+02,1.181250e+02 \"/></g><g transform=\"translate(70 330 )scale(1 -1 )\" fill=\"none\" stroke-width=\"2px\" stroke-linecap=\"round\" stroke-linejoin=\"round\" marker-start=\"url(#square)\" stroke=\"hsl(301, 88%, 65%)\" marker-mid=\"url(#square)\" marker-end=\"url(#square)\"><path vector-effect=\"non-scaling-stroke\" d=\"M1.768000e+01,2.496641e+02 L3.461121e+01,2.487300e+02 L5.158486e+01,2.456606e+02 L6.855851e+01,2.233620e+02 L8.553216e+01,1.580733e+02 L1.025058e+02,1.438085e+02 L1.194795e+02,1.391099e+02 L1.364531e+02,1.269016e+02 L1.534268e+02,1.160361e+02 L1.704004e+02,1.151225e+02 L1.873741e+02,1.029607e+02 L2.043477e+02,1.021585e+02 L2.213214e+02,9.888995e+01 L2.382950e+02,9.678128e+01 L2.552686e+02,9.457965e+01 L2.722423e+02,9.268474e+01 L2.892159e+02,8.739012e+01 L3.061896e+02,8.026744e+01 L3.231632e+02,8.182804e+01 L3.401369e+02,7.618851e+01 L3.571105e+02,7.178461e+01 L3.740842e+02,7.012819e+01 L3.910578e+02,7.255743e+01 L4.080315e+02,6.777719e+01 L4.250051e+02,6.578806e+01 L4.419788e+02,6.238358e+01 L4.589524e+02,6.190063e+01 L4.759261e+02,5.509803e+01 L4.928997e+02,5.791028e+01 L5.098734e+02,5.032907e+01 L5.268470e+02,5.073747e+01 L5.438207e+02,4.815916e+01 L5.607943e+02,4.551200e+01 L5.777680e+02,4.328997e+01 L5.947416e+02,4.283033e+01 L6.117153e+02,5.202358e+01 L6.286889e+02,4.596901e+01 L6.456626e+02,4.215263e+01 L6.626362e+02,3.813808e+01 L6.796099e+02,3.854887e+01 L6.965835e+02,3.345072e+01 L7.135572e+02,3.527740e+01 L7.305308e+02,3.151061e+01 L7.475045e+02,3.906295e+01 L7.644781e+02,2.873540e+01 L7.814518e+02,2.864543e+01 L7.984254e+02,3.250033e+01 L8.153991e+02,2.657871e+01 L8.323727e+02,2.633184e+01 L8.493464e+02,2.010891e+01 L8.663200e+02,2.230533e+01 \"/></g><g fill=\"none\" stroke-linecap=\"round\" stroke-linejoin=\"round\" marker-end=\"url(#square)\" stroke-width=\"2px\" marker-start=\"url(#square)\" stroke=\"hsl(152, 76%, 65%)\" marker-mid=\"url(#square)\" transform=\"translate(70 330 )scale(1 -1 )\"><path d=\"M1.768000e+01,2.548000e+02 L3.461121e+01,2.523718e+02 L5.158486e+01,2.427551e+02 L6.855851e+01,2.127093e+02 L8.553216e+01,1.730220e+02 L1.025058e+02,1.937740e+02 L1.194795e+02,2.134202e+02 L1.364531e+02,1.416539e+02 L1.534268e+02,1.190785e+02 L1.704004e+02,1.677888e+02 L1.873741e+02,1.891450e+02 L2.043477e+02,1.489364e+02 L2.213214e+02,1.079832e+02 L2.382950e+02,1.767679e+02 L2.552686e+02,1.482311e+02 L2.722423e+02,1.691437e+02 L2.892159e+02,8.788236e+01 L3.061896e+02,7.563612e+01 L3.231632e+02,1.281884e+02 L3.401369e+02,1.189454e+02 L3.571105e+02,2.067755e+02 L3.740842e+02,1.186703e+02 L3.910578e+02,8.252262e+01 L4.080315e+02,6.781376e+01 L4.250051e+02,8.183106e+01 L4.419788e+02,1.270668e+02 L4.589524e+02,1.494359e+02 L4.759261e+02,9.854346e+01 L4.928997e+02,8.515869e+01 L5.098734e+02,1.750925e+02 L5.268470e+02,8.056359e+01 L5.438207e+02,1.522597e+02 L5.607943e+02,1.327977e+01 L5.777680e+02,1.099301e+02 L5.947416e+02,1.010897e+02 L6.117153e+02,1.375023e+02 L6.286889e+02,1.473044e+02 L6.456626e+02,1.248314e+01 L6.626362e+02,4.227524e+01 L6.796099e+02,1.059114e+02 L6.965835e+02,3.762680e+01 L7.135572e+02,6.771518e+01 L7.305308e+02,1.439820e+01 L7.475045e+02,2.124951e+01 L7.644781e+02,3.030613e+01 L7.814518e+02,5.092064e+01 L7.984254e+02,6.966755e+01 L8.153991e+02,6.014323e+01 L8.323727e+02,2.211263e+01 L8.493464e+02,5.200000e+00 L8.663200e+02,4.909715e+01 \" vector-effect=\"non-scaling-stroke\"/></g><g marker-start=\"url(#square)\" marker-mid=\"url(#square)\" fill=\"none\" stroke-width=\"2px\" stroke-linecap=\"round\" stroke=\"hsl(3, 64%, 65%)\" transform=\"translate(70 330 )scale(1 -1 )\" stroke-linejoin=\"round\" marker-end=\"url(#square)\"><path vector-effect=\"non-scaling-stroke\" d=\"M1.768000e+01,2.548000e+02 L3.461121e+01,2.493207e+02 L5.158486e+01,2.475400e+02 L6.855851e+01,2.397636e+02 L8.553216e+01,2.053201e+02 L1.025058e+02,1.885256e+02 L1.194795e+02,1.766372e+02 L1.364531e+02,1.733407e+02 L1.534268e+02,1.639905e+02 L1.704004e+02,1.608842e+02 L1.873741e+02,1.506897e+02 L2.043477e+02,1.481284e+02 L2.213214e+02,1.427490e+02 L2.382950e+02,1.410683e+02 L2.552686e+02,1.327140e+02 L2.722423e+02,1.327135e+02 L2.892159e+02,1.303259e+02 L3.061896e+02,1.232073e+02 L3.231632e+02,1.222026e+02 L3.401369e+02,1.138910e+02 L3.571105e+02,1.086310e+02 L3.740842e+02,1.079540e+02 L3.910578e+02,1.026734e+02 L4.080315e+02,1.088226e+02 L4.250051e+02,1.032203e+02 L4.419788e+02,1.007728e+02 L4.589524e+02,1.019228e+02 L4.759261e+02,1.009526e+02 L4.928997e+02,9.956356e+01 L5.098734e+02,9.313981e+01 L5.268470e+02,8.960955e+01 L5.438207e+02,9.325120e+01 L5.607943e+02,8.516823e+01 L5.777680e+02,8.801951e+01 L5.947416e+02,8.440892e+01 L6.117153e+02,8.727509e+01 L6.286889e+02,7.947413e+01 L6.456626e+02,7.881597e+01 L6.626362e+02,7.863571e+01 L6.796099e+02,7.261160e+01 L6.965835e+02,7.297853e+01 L7.135572e+02,7.225444e+01 L7.305308e+02,6.769965e+01 L7.475045e+02,6.794227e+01 L7.644781e+02,6.943147e+01 L7.814518e+02,6.441622e+01 L7.984254e+02,6.157152e+01 L8.153991e+02,6.061147e+01 L8.323727e+02,6.155823e+01 L8.493464e+02,6.135626e+01 L8.663200e+02,5.508462e+01 \"/></g><g stroke-width=\"2px\" stroke-linecap=\"round\" stroke-linejoin=\"round\" stroke=\"black\" transform=\"translate(70 330 )scale(1 -1 )\" fill=\"none\"><path d=\"M1.768000e+01,0 L1.768000e+01,-6 M1.025482e+02,0 L1.025482e+02,-6 M1.874165e+02,0 L1.874165e+02,-6 M2.722847e+02,0 L2.722847e+02,-6 M3.571530e+02,0 L3.571530e+02,-6 M4.420212e+02,0 L4.420212e+02,-6 M5.268895e+02,0 L5.268895e+02,-6 M6.117577e+02,0 L6.117577e+02,-6 M6.966259e+02,0 L6.966259e+02,-6 M7.814942e+02,0 L7.814942e+02,-6 \" vector-effect=\"non-scaling-stroke\"/></g><g text-anchor=\"middle\" transform=\"translate(70 330 )scale(1 1 )\" font-weight=\"normal\" font-style=\"normal\" stroke-width=\"2px\" stroke-linecap=\"round\" stroke-linejoin=\"round\" font-family=\"sans-serif\" font-size=\"12px\" dominant-baseline=\"hanging\" fill=\"black\" stroke=\"black\"><text x=\"1.768000e+01\" y=\"10\" dominant-baseline=\"hanging\" stroke=\"none\" vector-effect=\"non-scaling-stroke\">0</text><text stroke=\"none\" vector-effect=\"non-scaling-stroke\" x=\"1.025482e+02\" y=\"10\" dominant-baseline=\"hanging\">2000</text><text vector-effect=\"non-scaling-stroke\" x=\"1.874165e+02\" y=\"10\" dominant-baseline=\"hanging\" stroke=\"none\">4000</text><text stroke=\"none\" vector-effect=\"non-scaling-stroke\" x=\"2.722847e+02\" y=\"10\" dominant-baseline=\"hanging\">6000</text><text stroke=\"none\" vector-effect=\"non-scaling-stroke\" x=\"3.571530e+02\" y=\"10\" dominant-baseline=\"hanging\">8000</text><text stroke=\"none\" vector-effect=\"non-scaling-stroke\" x=\"4.420212e+02\" y=\"10\" dominant-baseline=\"hanging\">10000</text><text y=\"10\" dominant-baseline=\"hanging\" stroke=\"none\" vector-effect=\"non-scaling-stroke\" x=\"5.268895e+02\">12000</text><text y=\"10\" dominant-baseline=\"hanging\" stroke=\"none\" vector-effect=\"non-scaling-stroke\" x=\"6.117577e+02\">14000</text><text stroke=\"none\" vector-effect=\"non-scaling-stroke\" x=\"6.966259e+02\" y=\"10\" dominant-baseline=\"hanging\">16000</text><text stroke=\"none\" vector-effect=\"non-scaling-stroke\" x=\"7.814942e+02\" y=\"10\" dominant-baseline=\"hanging\">18000</text></g><g stroke-width=\"2px\" stroke-linecap=\"round\" font-family=\"sans-serif\" font-size=\"12px\" fill=\"black\" stroke-linejoin=\"round\" text-anchor=\"middle\" dominant-baseline=\"baseline\" transform=\"translate(70 330 )scale(1 1 )rotate(0 0 0 )\" font-style=\"normal\" font-weight=\"bold\" stroke=\"black\"><text x=\"442\" y=\"-6\" dominant-baseline=\"baseline\" stroke=\"none\" vector-effect=\"non-scaling-stroke\">Steps</text></g><g stroke=\"black\" font-weight=\"bold\" font-family=\"sans-serif\" dominant-baseline=\"baseline\" stroke-width=\"2px\" stroke-linecap=\"round\" stroke-linejoin=\"round\" transform=\"translate(70 330 )scale(1 -1 )\" font-style=\"normal\" font-size=\"12px\" text-anchor=\"middle\" fill=\"black\"><path d=\"M0,4.153639e+01 L-6,4.153639e+01 M0,1.256298e+02 L-6,1.256298e+02 M0,2.097232e+02 L-6,2.097232e+02 \" vector-effect=\"non-scaling-stroke\"/></g><g text-anchor=\"end\" stroke-width=\"2px\" stroke-linecap=\"round\" stroke-linejoin=\"round\" stroke=\"black\" transform=\"translate(70 330 )scale(1 1 )\" font-style=\"normal\" font-size=\"12px\" dominant-baseline=\"middle\" fill=\"black\" font-family=\"sans-serif\" font-weight=\"normal\"><text dominant-baseline=\"middle\" stroke=\"none\" vector-effect=\"non-scaling-stroke\" x=\"-10\" y=\"-4.153639e+01\">0.200</text><text x=\"-10\" y=\"-1.256298e+02\" dominant-baseline=\"middle\" stroke=\"none\" vector-effect=\"non-scaling-stroke\">0.400</text><text stroke=\"none\" vector-effect=\"non-scaling-stroke\" x=\"-10\" y=\"-2.097232e+02\" dominant-baseline=\"middle\">0.600</text></g><g stroke=\"black\" font-style=\"normal\" stroke-linejoin=\"round\" font-size=\"12px\" stroke-linecap=\"round\" font-weight=\"bold\" transform=\"translate(70 330 )scale(1 1 )rotate(-90 0 0 )\" font-family=\"sans-serif\" text-anchor=\"middle\" dominant-baseline=\"hanging\" fill=\"black\" stroke-width=\"2px\"><text stroke=\"none\" vector-effect=\"non-scaling-stroke\" x=\"130\" y=\"6\" dominant-baseline=\"hanging\">loss</text></g><g font-size=\"12px\" dominant-baseline=\"hanging\" stroke-linejoin=\"round\" stroke=\"gray\" font-weight=\"bold\" text-anchor=\"middle\" fill=\"black\" stroke-width=\"0.5px\" stroke-linecap=\"round\" font-family=\"sans-serif\" transform=\"translate(70 330 )scale(1 -1 )\" font-style=\"normal\"><path vector-effect=\"non-scaling-stroke\" d=\"M0,4.153639e+01 L884,4.153639e+01 M0,1.256298e+02 L884,1.256298e+02 M0,2.097232e+02 L884,2.097232e+02 \"/></g><g stroke-width=\"2px\" stroke-linecap=\"round\" stroke-linejoin=\"round\" font-size=\"12px\" text-anchor=\"middle\" dominant-baseline=\"hanging\" font-style=\"normal\" font-weight=\"bold\" stroke=\"black\" font-family=\"sans-serif\" fill=\"none\"><rect vector-effect=\"non-scaling-stroke\" x=\"70\" y=\"70\" width=\"884\" height=\"260\"/><g dominant-baseline=\"middle\" fill=\"black\" font-size=\"18px\"><text y=\"35\" dominant-baseline=\"middle\" stroke=\"none\" vector-effect=\"non-scaling-stroke\" x=\"512\">loss metrics</text></g><g fill=\"hsl(90, 47%, 65%)\" stroke-width=\"1px\" stroke-linecap=\"round\" stroke-linejoin=\"round\" font-family=\"sans-serif\" font-style=\"normal\" font-size=\"12px\" text-anchor=\"start\" dominant-baseline=\"hanging\" stroke=\"hsl(90, 47%, 65%)\" font-weight=\"normal\"><rect x=\"76\" y=\"366\" width=\"12\" height=\"12\" vector-effect=\"non-scaling-stroke\"/><g fill=\"black\" stroke=\"black\"><text vector-effect=\"non-scaling-stroke\" x=\"92\" y=\"366\" dominant-baseline=\"hanging\" stroke=\"none\">Eval on test-eval: Mean Loss</text></g><g fill=\"hsl(301, 88%, 65%)\" font-size=\"12px\" text-anchor=\"start\" dominant-baseline=\"hanging\" stroke=\"hsl(301, 88%, 65%)\" font-style=\"normal\" font-weight=\"normal\" font-family=\"sans-serif\" stroke-width=\"1px\" stroke-linecap=\"round\" stroke-linejoin=\"round\"><rect vector-effect=\"non-scaling-stroke\" x=\"76\" y=\"384\" width=\"12\" height=\"12\"/><g stroke=\"black\" fill=\"black\"><text stroke=\"none\" vector-effect=\"non-scaling-stroke\" x=\"92\" y=\"384\" dominant-baseline=\"hanging\">Eval on train-eval: Mean Loss</text></g><g stroke-linecap=\"round\" font-family=\"sans-serif\" text-anchor=\"start\" fill=\"hsl(152, 76%, 65%)\" stroke-width=\"1px\" font-style=\"normal\" stroke=\"hsl(152, 76%, 65%)\" stroke-linejoin=\"round\" font-size=\"12px\" dominant-baseline=\"hanging\" font-weight=\"normal\"><rect width=\"12\" height=\"12\" vector-effect=\"non-scaling-stroke\" x=\"76\" y=\"402\"/><g fill=\"black\" stroke=\"black\"><text vector-effect=\"non-scaling-stroke\" x=\"92\" y=\"402\" dominant-baseline=\"hanging\" stroke=\"none\">Train: Batch Loss</text></g><g text-anchor=\"start\" dominant-baseline=\"hanging\" stroke=\"hsl(3, 64%, 65%)\" stroke-linejoin=\"round\" stroke-linecap=\"round\" font-family=\"sans-serif\" font-size=\"12px\" fill=\"hsl(3, 64%, 65%)\" font-style=\"normal\" font-weight=\"normal\" stroke-width=\"1px\"><rect y=\"420\" width=\"12\" height=\"12\" vector-effect=\"non-scaling-stroke\" x=\"76\"/><g stroke=\"black\" fill=\"black\"><text dominant-baseline=\"hanging\" stroke=\"none\" vector-effect=\"non-scaling-stroke\" x=\"92\" y=\"420\">Train: Moving Average Loss</text></g></g></g></g></g></g></svg>"
      ]
     },
     "metadata": {},
     "output_type": "display_data"
    },
    {
     "name": "stdout",
     "output_type": "stream",
     "text": [
      "\tMean Loss (#loss): 0.154\n",
      "\tMean Accuracy (#acc): 94.35%\n",
      "Results on test-eval:\n",
      "\tMean Loss (#loss): 0.382\n",
      "\tMean Accuracy (#acc): 84.26%\n"
     ]
    }
   ],
   "source": [
    "%% --model=bow --steps=20000 --optimizer=adamw\n",
    "trainModel()"
   ]
  },
  {
   "cell_type": "markdown",
   "id": "62e0d8ed-31ed-49ba-8b6f-1518d3df8a8d",
   "metadata": {},
   "source": [
    "### CNN Model\n",
    "\n",
    "Below we redefine our CNN model function, with 2 convolution layers, and train on it.\n",
    "\n",
    "Notice how well it can overfit to the training data ... but it doesn't help the test results. To improve this one needs some careful regularization."
   ]
  },
  {
   "cell_type": "code",
   "execution_count": 8,
   "id": "2fc49c16-714c-483c-92a9-9e4fda9514d5",
   "metadata": {
    "tags": []
   },
   "outputs": [
    {
     "name": "stdout",
     "output_type": "stream",
     "text": [
      "> Loading previously generated preprocessed binary file.\n",
      "Loaded data from \"aclImdb.bin\": 100000 examples, 141088 unique tokens, 23727054 tokens in total.\n",
      "Platform: CUDA\n"
     ]
    },
    {
     "data": {
      "text/html": []
     },
     "metadata": {},
     "output_type": "display_data"
    },
    {
     "name": "stdout",
     "output_type": "stream",
     "text": [
      "Training (20000 steps):  100% [\u001b[32m=\u001b[0m\u001b[32m=\u001b[0m\u001b[32m=\u001b[0m\u001b[32m=\u001b[0m\u001b[32m=\u001b[0m\u001b[32m=\u001b[0m\u001b[32m=\u001b[0m\u001b[32m=\u001b[0m\u001b[32m=\u001b[0m\u001b[32m=\u001b[0m\u001b[32m=\u001b[0m\u001b[32m=\u001b[0m\u001b[32m=\u001b[0m\u001b[32m=\u001b[0m\u001b[32m=\u001b[0m\u001b[32m=\u001b[0m\u001b[32m=\u001b[0m\u001b[32m=\u001b[0m\u001b[32m=\u001b[0m\u001b[32m=\u001b[0m\u001b[32m=\u001b[0m\u001b[32m=\u001b[0m\u001b[32m=\u001b[0m\u001b[32m=\u001b[0m\u001b[32m=\u001b[0m\u001b[32m=\u001b[0m\u001b[32m=\u001b[0m\u001b[32m=\u001b[0m\u001b[32m=\u001b[0m\u001b[32m=\u001b[0m\u001b[32m=\u001b[0m\u001b[32m=\u001b[0m\u001b[32m=\u001b[0m\u001b[32m=\u001b[0m\u001b[32m=\u001b[0m\u001b[32m=\u001b[0m\u001b[32m=\u001b[0m\u001b[32m=\u001b[0m\u001b[32m=\u001b[0m\u001b[32m=\u001b[0m] (459 steps/s)\u001b[0m [loss=0.134] [~loss=0.091] [~acc=96.88%]        \n"
     ]
    },
    {
     "data": {
      "text/html": [
       "<svg width=\"1024\" height=\"454\" viewbox=\"0 0 1024 400\" style=\"background-color:#f8f8f8\" preserveAspectRatio=\"xMidYMid meet\" xmlns=\"http://www.w3.org/2000/svg\"><defs><marker viewBox=\"0 0 10 10 \" refX=\"5\" refY=\"5\" markerUnits=\"userSpaceOnUse\" markerWidth=\"2%\" markerHeight=\"2%\" id=\"circle\"><circle fill=\"none\" stroke=\"black\" cx=\"5\" cy=\"5\" r=\"3\"/></marker><marker refX=\"5\" refY=\"5\" markerUnits=\"userSpaceOnUse\" markerWidth=\"2%\" markerHeight=\"2%\" id=\"filled-circle\" viewBox=\"0 0 10 10 \"><circle stroke=\"none\" cx=\"5\" cy=\"5\" r=\"3\" fill=\"black\"/></marker><marker markerUnits=\"userSpaceOnUse\" markerWidth=\"2%\" markerHeight=\"2%\" id=\"square\" viewBox=\"0 0 10 10 \" refX=\"5\" refY=\"5\"><rect width=\"6\" height=\"6\" fill=\"none\" stroke=\"black\" x=\"2\" y=\"2\"/></marker><marker markerHeight=\"2%\" id=\"filled-square\" viewBox=\"0 0 10 10 \" refX=\"5\" refY=\"5\" markerUnits=\"userSpaceOnUse\" markerWidth=\"2%\"><rect stroke=\"none\" x=\"2\" y=\"2\" width=\"6\" height=\"6\" fill=\"black\"/></marker></defs><g fill=\"none\" stroke=\"hsl(90, 47%, 65%)\" marker-end=\"url(#square)\" stroke-linecap=\"round\" transform=\"translate(70 330 )scale(1 -1 )\" stroke-width=\"2px\" marker-mid=\"url(#square)\" stroke-linejoin=\"round\" marker-start=\"url(#square)\"><path vector-effect=\"non-scaling-stroke\" d=\"M1.768000e+01,5.560403e+01 L3.461121e+01,5.562016e+01 L5.158486e+01,5.565244e+01 L6.855851e+01,6.528470e+01 L8.553216e+01,5.879865e+01 L1.025058e+02,7.109310e+01 L1.194795e+02,9.192268e+01 L1.364531e+02,1.337754e+02 L1.534268e+02,1.471186e+02 L1.704004e+02,1.578481e+02 L1.873741e+02,1.673513e+02 L2.043477e+02,1.638662e+02 L2.213214e+02,1.759025e+02 L2.382950e+02,1.789519e+02 L2.552686e+02,1.810494e+02 L2.722423e+02,1.829533e+02 L2.892159e+02,1.833728e+02 L3.061896e+02,1.852605e+02 L3.231632e+02,1.817755e+02 L3.401369e+02,1.875838e+02 L3.571105e+02,1.874064e+02 L3.740842e+02,1.852121e+02 L3.910578e+02,1.857445e+02 L4.080315e+02,1.879549e+02 L4.250051e+02,1.879711e+02 L4.419788e+02,1.858091e+02 L4.589524e+02,1.894071e+02 L4.759261e+02,1.888585e+02 L4.928997e+02,1.875032e+02 L5.098734e+02,1.882292e+02 L5.268470e+02,1.886326e+02 L5.438207e+02,1.889069e+02 L5.607943e+02,1.889876e+02 L5.777680e+02,1.883744e+02 L5.947416e+02,1.876968e+02 L6.117153e+02,1.883583e+02 L6.286889e+02,1.879872e+02 L6.456626e+02,1.848733e+02 L6.626362e+02,1.873903e+02 L6.796099e+02,1.855832e+02 L6.965835e+02,1.877291e+02 L7.135572e+02,1.874225e+02 L7.305308e+02,1.875193e+02 L7.475045e+02,1.867933e+02 L7.644781e+02,1.854380e+02 L7.814518e+02,1.873741e+02 L7.984254e+02,1.863415e+02 L8.153991e+02,1.697714e+02 L8.323727e+02,1.872289e+02 L8.493464e+02,1.880033e+02 L8.663200e+02,1.875355e+02 \"/></g><g transform=\"translate(70 330 )scale(1 -1 )\" marker-mid=\"url(#square)\" stroke-linejoin=\"round\" marker-end=\"url(#square)\" fill=\"none\" stroke=\"hsl(301, 88%, 65%)\" stroke-width=\"2px\" stroke-linecap=\"round\" marker-start=\"url(#square)\"><path vector-effect=\"non-scaling-stroke\" d=\"M1.768000e+01,5.562016e+01 L3.461121e+01,5.558790e+01 L5.158486e+01,5.565244e+01 L6.855851e+01,6.994757e+01 L8.553216e+01,6.123496e+01 L1.025058e+02,8.506554e+01 L1.194795e+02,1.151079e+02 L1.364531e+02,1.576383e+02 L1.534268e+02,1.768383e+02 L1.704004e+02,1.905203e+02 L1.873741e+02,2.007980e+02 L2.043477e+02,1.984101e+02 L2.213214e+02,2.138185e+02 L2.382950e+02,2.161257e+02 L2.552686e+02,2.210951e+02 L2.722423e+02,2.249028e+02 L2.892159e+02,2.248061e+02 L3.061896e+02,2.289203e+02 L3.231632e+02,2.281136e+02 L3.401369e+02,2.341156e+02 L3.571105e+02,2.352773e+02 L3.740842e+02,2.344544e+02 L3.910578e+02,2.355193e+02 L4.080315e+02,2.391657e+02 L4.250051e+02,2.400531e+02 L4.419788e+02,2.400047e+02 L4.589524e+02,2.435704e+02 L4.759261e+02,2.446030e+02 L4.928997e+02,2.439899e+02 L5.098734e+02,2.453613e+02 L5.268470e+02,2.463455e+02 L5.438207e+02,2.481203e+02 L5.607943e+02,2.487012e+02 L5.777680e+02,2.493304e+02 L5.947416e+02,2.489432e+02 L6.117153e+02,2.504760e+02 L6.286889e+02,2.507986e+02 L6.456626e+02,2.488141e+02 L6.626362e+02,2.509761e+02 L6.796099e+02,2.510407e+02 L6.965835e+02,2.523476e+02 L7.135572e+02,2.527187e+02 L7.305308e+02,2.531220e+02 L7.475045e+02,2.527509e+02 L7.644781e+02,2.527025e+02 L7.814518e+02,2.538481e+02 L7.984254e+02,2.538158e+02 L8.153991e+02,2.403919e+02 L8.323727e+02,2.538965e+02 L8.493464e+02,2.546387e+02 L8.663200e+02,2.548000e+02 \"/></g><g fill=\"none\" stroke-linejoin=\"round\" marker-start=\"url(#square)\" stroke=\"hsl(152, 76%, 65%)\" stroke-width=\"2px\" marker-mid=\"url(#square)\" marker-end=\"url(#square)\" transform=\"translate(70 330 )scale(1 -1 )\" stroke-linecap=\"round\"><path vector-effect=\"non-scaling-stroke\" d=\"M1.768000e+01,5.200000e+00 L3.461121e+01,6.173617e+01 L5.158486e+01,5.432729e+01 L6.855851e+01,5.517047e+01 L8.553216e+01,5.707427e+01 L1.025058e+02,6.374654e+01 L1.194795e+02,9.284080e+01 L1.364531e+02,1.229025e+02 L1.534268e+02,1.495686e+02 L1.704004e+02,1.676641e+02 L1.873741e+02,1.845649e+02 L2.043477e+02,1.871872e+02 L2.213214e+02,1.921725e+02 L2.382950e+02,1.994514e+02 L2.552686e+02,2.019785e+02 L2.722423e+02,2.084576e+02 L2.892159e+02,2.104708e+02 L3.061896e+02,2.129985e+02 L3.231632e+02,2.141438e+02 L3.401369e+02,2.157001e+02 L3.571105e+02,2.166136e+02 L3.740842e+02,2.193370e+02 L3.910578e+02,2.237934e+02 L4.080315e+02,2.221473e+02 L4.250051e+02,2.250739e+02 L4.419788e+02,2.260791e+02 L4.589524e+02,2.294295e+02 L4.759261e+02,2.274457e+02 L4.928997e+02,2.304763e+02 L5.098734e+02,2.319998e+02 L5.268470e+02,2.318090e+02 L5.438207e+02,2.314306e+02 L5.607943e+02,2.348319e+02 L5.777680e+02,2.315715e+02 L5.947416e+02,2.342980e+02 L6.117153e+02,2.372734e+02 L6.286889e+02,2.382629e+02 L6.456626e+02,2.366937e+02 L6.626362e+02,2.401874e+02 L6.796099e+02,2.377645e+02 L6.965835e+02,2.382938e+02 L7.135572e+02,2.371404e+02 L7.305308e+02,2.408769e+02 L7.475045e+02,2.424035e+02 L7.644781e+02,2.414692e+02 L7.814518e+02,2.422554e+02 L7.984254e+02,2.424941e+02 L8.153991e+02,2.427000e+02 L8.323727e+02,2.431155e+02 L8.493464e+02,2.445486e+02 L8.663200e+02,2.446251e+02 \"/></g><g fill=\"none\" stroke=\"black\" stroke-width=\"2px\" transform=\"translate(70 330 )scale(1 -1 )\" stroke-linecap=\"round\" stroke-linejoin=\"round\"><path d=\"M1.768000e+01,0 L1.768000e+01,-6 M1.025482e+02,0 L1.025482e+02,-6 M1.874165e+02,0 L1.874165e+02,-6 M2.722847e+02,0 L2.722847e+02,-6 M3.571530e+02,0 L3.571530e+02,-6 M4.420212e+02,0 L4.420212e+02,-6 M5.268895e+02,0 L5.268895e+02,-6 M6.117577e+02,0 L6.117577e+02,-6 M6.966259e+02,0 L6.966259e+02,-6 M7.814942e+02,0 L7.814942e+02,-6 \" vector-effect=\"non-scaling-stroke\"/></g><g stroke-linecap=\"round\" stroke=\"black\" stroke-width=\"2px\" transform=\"translate(70 330 )scale(1 1 )\" font-family=\"sans-serif\" font-size=\"12px\" fill=\"black\" font-style=\"normal\" dominant-baseline=\"hanging\" stroke-linejoin=\"round\" font-weight=\"normal\" text-anchor=\"middle\"><text x=\"1.768000e+01\" y=\"10\" dominant-baseline=\"hanging\" stroke=\"none\" vector-effect=\"non-scaling-stroke\">0</text><text dominant-baseline=\"hanging\" stroke=\"none\" vector-effect=\"non-scaling-stroke\" x=\"1.025482e+02\" y=\"10\">2000</text><text dominant-baseline=\"hanging\" stroke=\"none\" vector-effect=\"non-scaling-stroke\" x=\"1.874165e+02\" y=\"10\">4000</text><text vector-effect=\"non-scaling-stroke\" x=\"2.722847e+02\" y=\"10\" dominant-baseline=\"hanging\" stroke=\"none\">6000</text><text dominant-baseline=\"hanging\" stroke=\"none\" vector-effect=\"non-scaling-stroke\" x=\"3.571530e+02\" y=\"10\">8000</text><text dominant-baseline=\"hanging\" stroke=\"none\" vector-effect=\"non-scaling-stroke\" x=\"4.420212e+02\" y=\"10\">10000</text><text stroke=\"none\" vector-effect=\"non-scaling-stroke\" x=\"5.268895e+02\" y=\"10\" dominant-baseline=\"hanging\">12000</text><text x=\"6.117577e+02\" y=\"10\" dominant-baseline=\"hanging\" stroke=\"none\" vector-effect=\"non-scaling-stroke\">14000</text><text x=\"6.966259e+02\" y=\"10\" dominant-baseline=\"hanging\" stroke=\"none\" vector-effect=\"non-scaling-stroke\">16000</text><text vector-effect=\"non-scaling-stroke\" x=\"7.814942e+02\" y=\"10\" dominant-baseline=\"hanging\" stroke=\"none\">18000</text></g><g font-size=\"12px\" dominant-baseline=\"baseline\" transform=\"translate(70 330 )scale(1 1 )rotate(0 0 0 )\" font-family=\"sans-serif\" font-weight=\"bold\" stroke-linejoin=\"round\" text-anchor=\"middle\" font-style=\"normal\" fill=\"black\" stroke=\"black\" stroke-width=\"2px\" stroke-linecap=\"round\"><text stroke=\"none\" vector-effect=\"non-scaling-stroke\" x=\"442\" y=\"-6\" dominant-baseline=\"baseline\">Steps</text></g><g stroke=\"black\" transform=\"translate(70 330 )scale(1 -1 )\" font-family=\"sans-serif\" stroke-linejoin=\"round\" font-weight=\"bold\" stroke-width=\"2px\" font-size=\"12px\" font-style=\"normal\" dominant-baseline=\"baseline\" fill=\"black\" text-anchor=\"middle\" stroke-linecap=\"round\"><path vector-effect=\"non-scaling-stroke\" d=\"M0,1.528081e+01 L-6,1.528081e+01 M0,9.592726e+01 L-6,9.592726e+01 M0,1.765737e+02 L-6,1.765737e+02 \"/></g><g font-size=\"12px\" dominant-baseline=\"middle\" fill=\"black\" stroke-linecap=\"round\" stroke-linejoin=\"round\" font-weight=\"normal\" text-anchor=\"end\" font-family=\"sans-serif\" stroke=\"black\" font-style=\"normal\" stroke-width=\"2px\" transform=\"translate(70 330 )scale(1 1 )\"><text stroke=\"none\" vector-effect=\"non-scaling-stroke\" x=\"-10\" y=\"-1.528081e+01\" dominant-baseline=\"middle\">0.400</text><text y=\"-9.592726e+01\" dominant-baseline=\"middle\" stroke=\"none\" vector-effect=\"non-scaling-stroke\" x=\"-10\">0.600</text><text x=\"-10\" y=\"-1.765737e+02\" dominant-baseline=\"middle\" stroke=\"none\" vector-effect=\"non-scaling-stroke\">0.800</text></g><g transform=\"translate(70 330 )scale(1 1 )rotate(-90 0 0 )\" font-family=\"sans-serif\" font-size=\"12px\" stroke-linecap=\"round\" stroke-linejoin=\"round\" text-anchor=\"middle\" fill=\"black\" stroke=\"black\" font-weight=\"bold\" dominant-baseline=\"hanging\" stroke-width=\"2px\" font-style=\"normal\"><text stroke=\"none\" vector-effect=\"non-scaling-stroke\" x=\"130\" y=\"6\" dominant-baseline=\"hanging\">accuracy</text></g><g font-style=\"normal\" dominant-baseline=\"hanging\" font-family=\"sans-serif\" font-weight=\"bold\" stroke-linecap=\"round\" stroke-linejoin=\"round\" text-anchor=\"middle\" font-size=\"12px\" fill=\"black\" stroke=\"gray\" stroke-width=\"0.5px\" transform=\"translate(70 330 )scale(1 -1 )\"><path vector-effect=\"non-scaling-stroke\" d=\"M0,1.528081e+01 L884,1.528081e+01 M0,9.592726e+01 L884,9.592726e+01 M0,1.765737e+02 L884,1.765737e+02 \"/></g><g font-family=\"sans-serif\" stroke=\"black\" stroke-linejoin=\"round\" font-weight=\"bold\" font-size=\"12px\" font-style=\"normal\" dominant-baseline=\"hanging\" fill=\"none\" text-anchor=\"middle\" stroke-linecap=\"round\" stroke-width=\"2px\"><rect height=\"260\" vector-effect=\"non-scaling-stroke\" x=\"70\" y=\"70\" width=\"884\"/><g font-size=\"18px\" dominant-baseline=\"middle\" fill=\"black\"><text y=\"35\" dominant-baseline=\"middle\" stroke=\"none\" vector-effect=\"non-scaling-stroke\" x=\"512\">accuracy metrics</text></g><g font-size=\"12px\" stroke-linejoin=\"round\" font-weight=\"normal\" dominant-baseline=\"hanging\" fill=\"hsl(90, 47%, 65%)\" text-anchor=\"start\" stroke-linecap=\"round\" stroke=\"hsl(90, 47%, 65%)\" stroke-width=\"1px\" font-family=\"sans-serif\" font-style=\"normal\"><rect width=\"12\" height=\"12\" vector-effect=\"non-scaling-stroke\" x=\"76\" y=\"366\"/><g fill=\"black\" stroke=\"black\"><text dominant-baseline=\"hanging\" stroke=\"none\" vector-effect=\"non-scaling-stroke\" x=\"92\" y=\"366\">Eval on test-eval: Mean Accuracy</text></g><g font-size=\"12px\" dominant-baseline=\"hanging\" stroke=\"hsl(301, 88%, 65%)\" text-anchor=\"start\" stroke-linejoin=\"round\" font-family=\"sans-serif\" fill=\"hsl(301, 88%, 65%)\" stroke-width=\"1px\" stroke-linecap=\"round\" font-weight=\"normal\" font-style=\"normal\"><rect vector-effect=\"non-scaling-stroke\" x=\"76\" y=\"384\" width=\"12\" height=\"12\"/><g stroke=\"black\" fill=\"black\"><text vector-effect=\"non-scaling-stroke\" x=\"92\" y=\"384\" dominant-baseline=\"hanging\" stroke=\"none\">Eval on train-eval: Mean Accuracy</text></g><g font-family=\"sans-serif\" stroke-linejoin=\"round\" font-weight=\"normal\" font-style=\"normal\" stroke-width=\"1px\" fill=\"hsl(152, 76%, 65%)\" stroke=\"hsl(152, 76%, 65%)\" stroke-linecap=\"round\" text-anchor=\"start\" font-size=\"12px\" dominant-baseline=\"hanging\"><rect height=\"12\" vector-effect=\"non-scaling-stroke\" x=\"76\" y=\"402\" width=\"12\"/><g fill=\"black\" stroke=\"black\"><text x=\"92\" y=\"402\" dominant-baseline=\"hanging\" stroke=\"none\" vector-effect=\"non-scaling-stroke\">Train: Moving Average Accuracy</text></g></g></g></g></g></svg>"
      ]
     },
     "metadata": {},
     "output_type": "display_data"
    },
    {
     "name": "stdout",
     "output_type": "stream",
     "text": [
      "\n",
      "Results on train-eval:\n"
     ]
    },
    {
     "data": {
      "text/html": [
       "<svg style=\"background-color:#f8f8f8\" preserveAspectRatio=\"xMidYMid meet\" xmlns=\"http://www.w3.org/2000/svg\" width=\"1024\" height=\"472\" viewbox=\"0 0 1024 400\"><defs><marker refX=\"5\" refY=\"5\" markerUnits=\"userSpaceOnUse\" markerWidth=\"2%\" markerHeight=\"2%\" id=\"circle\" viewBox=\"0 0 10 10 \"><circle stroke=\"black\" cx=\"5\" cy=\"5\" r=\"3\" fill=\"none\"/></marker><marker markerUnits=\"userSpaceOnUse\" markerWidth=\"2%\" markerHeight=\"2%\" id=\"filled-circle\" viewBox=\"0 0 10 10 \" refX=\"5\" refY=\"5\"><circle cx=\"5\" cy=\"5\" r=\"3\" fill=\"black\" stroke=\"none\"/></marker><marker id=\"square\" viewBox=\"0 0 10 10 \" refX=\"5\" refY=\"5\" markerUnits=\"userSpaceOnUse\" markerWidth=\"2%\" markerHeight=\"2%\"><rect stroke=\"black\" x=\"2\" y=\"2\" width=\"6\" height=\"6\" fill=\"none\"/></marker><marker id=\"filled-square\" viewBox=\"0 0 10 10 \" refX=\"5\" refY=\"5\" markerUnits=\"userSpaceOnUse\" markerWidth=\"2%\" markerHeight=\"2%\"><rect x=\"2\" y=\"2\" width=\"6\" height=\"6\" fill=\"black\" stroke=\"none\"/></marker></defs><g stroke-width=\"2px\" marker-start=\"url(#square)\" marker-mid=\"url(#square)\" fill=\"none\" transform=\"translate(70 330 )scale(1 -1 )\" stroke-linejoin=\"round\" stroke=\"hsl(90, 47%, 65%)\" stroke-linecap=\"round\" marker-end=\"url(#square)\"><path vector-effect=\"non-scaling-stroke\" d=\"M1.768000e+01,2.179125e+02 L3.461121e+01,2.148834e+02 L5.158486e+01,2.135134e+02 L6.855851e+01,2.129344e+02 L8.553216e+01,2.128363e+02 L1.025058e+02,2.119353e+02 L1.194795e+02,2.046206e+02 L1.364531e+02,1.807237e+02 L1.534268e+02,1.704838e+02 L1.704004e+02,1.614137e+02 L1.873741e+02,1.535064e+02 L2.043477e+02,1.601846e+02 L2.213214e+02,1.407561e+02 L2.382950e+02,1.401457e+02 L2.552686e+02,1.366965e+02 L2.722423e+02,1.401846e+02 L2.892159e+02,1.355259e+02 L3.061896e+02,1.350859e+02 L3.231632e+02,1.438698e+02 L3.401369e+02,1.353174e+02 L3.571105e+02,1.343065e+02 L3.740842e+02,1.431523e+02 L3.910578e+02,1.468578e+02 L4.080315e+02,1.365824e+02 L4.250051e+02,1.449692e+02 L4.419788e+02,1.509114e+02 L4.589524e+02,1.458756e+02 L4.759261e+02,1.417342e+02 L4.928997e+02,1.516517e+02 L5.098734e+02,1.510966e+02 L5.268470e+02,1.578192e+02 L5.438207e+02,1.474788e+02 L5.607943e+02,1.500222e+02 L5.777680e+02,1.476339e+02 L5.947416e+02,1.524933e+02 L6.117153e+02,1.585817e+02 L6.286889e+02,1.647486e+02 L6.456626e+02,1.784689e+02 L6.626362e+02,1.683109e+02 L6.796099e+02,1.701275e+02 L6.965835e+02,1.681005e+02 L7.135572e+02,1.631469e+02 L7.305308e+02,1.661234e+02 L7.475045e+02,1.827275e+02 L7.644781e+02,1.879965e+02 L7.814518e+02,1.796628e+02 L7.984254e+02,1.749607e+02 L8.153991e+02,2.548000e+02 L8.323727e+02,1.829690e+02 L8.493464e+02,1.827399e+02 L8.663200e+02,1.837096e+02 \"/></g><g stroke-linejoin=\"round\" marker-mid=\"url(#square)\" transform=\"translate(70 330 )scale(1 -1 )\" fill=\"none\" marker-start=\"url(#square)\" marker-end=\"url(#square)\" stroke=\"hsl(301, 88%, 65%)\" stroke-linecap=\"round\" stroke-width=\"2px\"><path d=\"M1.768000e+01,2.180263e+02 L3.461121e+01,2.148285e+02 L5.158486e+01,2.133252e+02 L6.855851e+01,2.126689e+02 L8.553216e+01,2.124306e+02 L1.025058e+02,2.106136e+02 L1.194795e+02,1.969095e+02 L1.364531e+02,1.617155e+02 L1.534268e+02,1.386992e+02 L1.704004e+02,1.209620e+02 L1.873741e+02,1.055763e+02 L2.043477e+02,1.065153e+02 L2.213214e+02,8.728948e+01 L2.382950e+02,8.149682e+01 L2.552686e+02,7.494129e+01 L2.722423e+02,6.856006e+01 L2.892159e+02,6.600216e+01 L3.061896e+02,6.021444e+01 L3.231632e+02,6.136479e+01 L3.401369e+02,5.210852e+01 L3.571105e+02,5.008939e+01 L3.740842e+02,5.047928e+01 L3.910578e+02,4.823589e+01 L4.080315e+02,4.234205e+01 L4.250051e+02,4.013979e+01 L4.419788e+02,3.983593e+01 L4.589524e+02,3.347075e+01 L4.759261e+02,3.222497e+01 L4.928997e+02,3.230609e+01 L5.098734e+02,2.945392e+01 L5.268470e+02,2.753742e+01 L5.438207e+02,2.495037e+01 L5.607943e+02,2.357405e+01 L5.777680e+02,2.244846e+01 L5.947416e+02,2.241439e+01 L6.117153e+02,1.977090e+01 L6.286889e+02,1.858086e+01 L6.456626e+02,2.162653e+01 L6.626362e+02,1.731867e+01 L6.796099e+02,1.773130e+01 L6.965835e+02,1.445358e+01 L7.135572e+02,1.436009e+01 L7.305308e+02,1.291003e+01 L7.475045e+02,1.321864e+01 L7.644781e+02,1.321530e+01 L7.814518e+02,1.099968e+01 L7.984254e+02,1.176555e+01 L8.153991e+02,3.451607e+01 L8.323727e+02,1.054193e+01 L8.493464e+02,9.107655e+00 L8.663200e+02,8.746524e+00 \" vector-effect=\"non-scaling-stroke\"/></g><g transform=\"translate(70 330 )scale(1 -1 )\" stroke-width=\"2px\" marker-start=\"url(#square)\" marker-mid=\"url(#square)\" stroke-linejoin=\"round\" marker-end=\"url(#square)\" fill=\"none\" stroke=\"hsl(152, 76%, 65%)\" stroke-linecap=\"round\"><path vector-effect=\"non-scaling-stroke\" d=\"M1.768000e+01,2.353856e+02 L3.461121e+01,2.057216e+02 L5.158486e+01,2.176943e+02 L6.855851e+01,2.139907e+02 L8.553216e+01,2.150657e+02 L1.025058e+02,2.200149e+02 L1.194795e+02,2.072368e+02 L1.364531e+02,1.912339e+02 L1.534268e+02,1.594811e+02 L1.704004e+02,1.379080e+02 L1.873741e+02,1.514182e+02 L2.043477e+02,7.047324e+01 L2.213214e+02,1.658757e+02 L2.382950e+02,6.068332e+01 L2.552686e+02,1.060019e+02 L2.722423e+02,7.742411e+01 L2.892159e+02,1.047113e+02 L3.061896e+02,8.850834e+01 L3.231632e+02,3.126729e+01 L3.401369e+02,1.531863e+02 L3.571105e+02,1.043607e+02 L3.740842e+02,8.524780e+01 L3.910578e+02,6.685830e+01 L4.080315e+02,3.351854e+01 L4.250051e+02,8.113557e+01 L4.419788e+02,6.854980e+01 L4.589524e+02,2.200292e+01 L4.759261e+02,7.966917e+01 L4.928997e+02,3.482626e+01 L5.098734e+02,4.558780e+01 L5.268470e+02,6.506591e+01 L5.438207e+02,4.400525e+01 L5.607943e+02,5.434063e+01 L5.777680e+02,3.175552e+01 L5.947416e+02,1.494802e+01 L6.117153e+02,1.019438e+02 L6.286889e+02,2.162287e+01 L6.456626e+02,9.710454e+01 L6.626362e+02,3.934267e+01 L6.796099e+02,4.365786e+01 L6.965835e+02,5.436977e+01 L7.135572e+02,7.106658e+01 L7.305308e+02,1.295634e+01 L7.475045e+02,2.858624e+01 L7.644781e+02,4.249740e+01 L7.814518e+02,5.200000e+00 L7.984254e+02,4.490821e+01 L8.153991e+02,5.318462e+01 L8.323727e+02,1.655128e+01 L8.493464e+02,1.044924e+02 L8.663200e+02,4.160853e+01 \"/></g><g stroke-linejoin=\"round\" fill=\"none\" stroke-linecap=\"round\" marker-end=\"url(#square)\" transform=\"translate(70 330 )scale(1 -1 )\" stroke-width=\"2px\" stroke=\"hsl(3, 64%, 65%)\" marker-start=\"url(#square)\" marker-mid=\"url(#square)\"><path d=\"M1.768000e+01,2.353856e+02 L3.461121e+01,2.143156e+02 L5.158486e+01,2.142894e+02 L6.855851e+01,2.137814e+02 L8.553216e+01,2.132425e+02 L1.025058e+02,2.126370e+02 L1.194795e+02,2.064039e+02 L1.364531e+02,1.880729e+02 L1.534268e+02,1.673271e+02 L1.704004e+02,1.500488e+02 L1.873741e+02,1.292298e+02 L2.043477e+02,1.236224e+02 L2.213214e+02,1.175191e+02 L2.382950e+02,1.057724e+02 L2.552686e+02,1.040882e+02 L2.722423e+02,9.414737e+01 L2.892159e+02,9.104774e+01 L3.061896e+02,8.725043e+01 L3.231632e+02,8.366705e+01 L3.401369e+02,8.056594e+01 L3.571105e+02,7.723219e+01 L3.740842e+02,7.773578e+01 L3.910578e+02,7.086018e+01 L4.080315e+02,6.975806e+01 L4.250051e+02,6.639006e+01 L4.419788e+02,6.396883e+01 L4.589524e+02,5.838752e+01 L4.759261e+02,5.973916e+01 L4.928997e+02,5.700422e+01 L5.098734e+02,5.556359e+01 L5.268470e+02,5.154355e+01 L5.438207e+02,5.337348e+01 L5.607943e+02,4.857938e+01 L5.777680e+02,5.422305e+01 L5.947416e+02,4.791402e+01 L6.117153e+02,4.461082e+01 L6.286889e+02,4.179483e+01 L6.456626e+02,4.181437e+01 L6.626362e+02,3.787819e+01 L6.796099e+02,4.178164e+01 L6.965835e+02,3.836884e+01 L7.135572e+02,4.257955e+01 L7.305308e+02,3.518767e+01 L7.475045e+02,3.181233e+01 L7.644781e+02,3.475948e+01 L7.814518e+02,3.193006e+01 L7.984254e+02,3.376385e+01 L8.153991e+02,3.161426e+01 L8.323727e+02,3.195099e+01 L8.493464e+02,2.872660e+01 L8.663200e+02,2.827873e+01 \" vector-effect=\"non-scaling-stroke\"/></g><g stroke-width=\"2px\" stroke-linejoin=\"round\" fill=\"none\" stroke=\"black\" stroke-linecap=\"round\" transform=\"translate(70 330 )scale(1 -1 )\"><path d=\"M1.768000e+01,0 L1.768000e+01,-6 M1.025482e+02,0 L1.025482e+02,-6 M1.874165e+02,0 L1.874165e+02,-6 M2.722847e+02,0 L2.722847e+02,-6 M3.571530e+02,0 L3.571530e+02,-6 M4.420212e+02,0 L4.420212e+02,-6 M5.268895e+02,0 L5.268895e+02,-6 M6.117577e+02,0 L6.117577e+02,-6 M6.966259e+02,0 L6.966259e+02,-6 M7.814942e+02,0 L7.814942e+02,-6 \" vector-effect=\"non-scaling-stroke\"/></g><g transform=\"translate(70 330 )scale(1 1 )\" font-family=\"sans-serif\" font-size=\"12px\" font-style=\"normal\" dominant-baseline=\"hanging\" stroke-width=\"2px\" stroke-linejoin=\"round\" font-weight=\"normal\" text-anchor=\"middle\" fill=\"black\" stroke=\"black\" stroke-linecap=\"round\"><text vector-effect=\"non-scaling-stroke\" x=\"1.768000e+01\" y=\"10\" dominant-baseline=\"hanging\" stroke=\"none\">0</text><text vector-effect=\"non-scaling-stroke\" x=\"1.025482e+02\" y=\"10\" dominant-baseline=\"hanging\" stroke=\"none\">2000</text><text x=\"1.874165e+02\" y=\"10\" dominant-baseline=\"hanging\" stroke=\"none\" vector-effect=\"non-scaling-stroke\">4000</text><text stroke=\"none\" vector-effect=\"non-scaling-stroke\" x=\"2.722847e+02\" y=\"10\" dominant-baseline=\"hanging\">6000</text><text stroke=\"none\" vector-effect=\"non-scaling-stroke\" x=\"3.571530e+02\" y=\"10\" dominant-baseline=\"hanging\">8000</text><text stroke=\"none\" vector-effect=\"non-scaling-stroke\" x=\"4.420212e+02\" y=\"10\" dominant-baseline=\"hanging\">10000</text><text y=\"10\" dominant-baseline=\"hanging\" stroke=\"none\" vector-effect=\"non-scaling-stroke\" x=\"5.268895e+02\">12000</text><text y=\"10\" dominant-baseline=\"hanging\" stroke=\"none\" vector-effect=\"non-scaling-stroke\" x=\"6.117577e+02\">14000</text><text vector-effect=\"non-scaling-stroke\" x=\"6.966259e+02\" y=\"10\" dominant-baseline=\"hanging\" stroke=\"none\">16000</text><text stroke=\"none\" vector-effect=\"non-scaling-stroke\" x=\"7.814942e+02\" y=\"10\" dominant-baseline=\"hanging\">18000</text></g><g font-weight=\"bold\" font-size=\"12px\" text-anchor=\"middle\" stroke=\"black\" stroke-linecap=\"round\" transform=\"translate(70 330 )scale(1 1 )rotate(0 0 0 )\" font-family=\"sans-serif\" dominant-baseline=\"baseline\" font-style=\"normal\" fill=\"black\" stroke-width=\"2px\" stroke-linejoin=\"round\"><text stroke=\"none\" vector-effect=\"non-scaling-stroke\" x=\"442\" y=\"-6\" dominant-baseline=\"baseline\">Steps</text></g><g font-style=\"normal\" text-anchor=\"middle\" fill=\"black\" stroke=\"black\" stroke-linecap=\"round\" font-weight=\"bold\" font-family=\"sans-serif\" font-size=\"12px\" transform=\"translate(70 330 )scale(1 -1 )\" stroke-width=\"2px\" stroke-linejoin=\"round\" dominant-baseline=\"baseline\"><path d=\"M0,6.174500e+01 L-6,6.174500e+01 M0,1.231891e+02 L-6,1.231891e+02 M0,1.846333e+02 L-6,1.846333e+02 M0,2.460775e+02 L-6,2.460775e+02 \" vector-effect=\"non-scaling-stroke\"/></g><g stroke-linecap=\"round\" font-family=\"sans-serif\" font-size=\"12px\" text-anchor=\"end\" fill=\"black\" dominant-baseline=\"middle\" transform=\"translate(70 330 )scale(1 1 )\" font-style=\"normal\" stroke=\"black\" font-weight=\"normal\" stroke-width=\"2px\" stroke-linejoin=\"round\"><text vector-effect=\"non-scaling-stroke\" x=\"-10\" y=\"-6.174500e+01\" dominant-baseline=\"middle\" stroke=\"none\">0.200</text><text stroke=\"none\" vector-effect=\"non-scaling-stroke\" x=\"-10\" y=\"-1.231891e+02\" dominant-baseline=\"middle\">0.400</text><text dominant-baseline=\"middle\" stroke=\"none\" vector-effect=\"non-scaling-stroke\" x=\"-10\" y=\"-1.846333e+02\">0.600</text><text y=\"-2.460775e+02\" dominant-baseline=\"middle\" stroke=\"none\" vector-effect=\"non-scaling-stroke\" x=\"-10\">0.800</text></g><g font-family=\"sans-serif\" stroke-width=\"2px\" stroke-linejoin=\"round\" font-weight=\"bold\" fill=\"black\" stroke=\"black\" transform=\"translate(70 330 )scale(1 1 )rotate(-90 0 0 )\" font-style=\"normal\" text-anchor=\"middle\" stroke-linecap=\"round\" font-size=\"12px\" dominant-baseline=\"hanging\"><text x=\"130\" y=\"6\" dominant-baseline=\"hanging\" stroke=\"none\" vector-effect=\"non-scaling-stroke\">loss</text></g><g stroke-linejoin=\"round\" font-weight=\"bold\" fill=\"black\" stroke-linecap=\"round\" font-family=\"sans-serif\" stroke-width=\"0.5px\" font-style=\"normal\" dominant-baseline=\"hanging\" text-anchor=\"middle\" stroke=\"gray\" transform=\"translate(70 330 )scale(1 -1 )\" font-size=\"12px\"><path vector-effect=\"non-scaling-stroke\" d=\"M0,6.174500e+01 L884,6.174500e+01 M0,1.231891e+02 L884,1.231891e+02 M0,1.846333e+02 L884,1.846333e+02 M0,2.460775e+02 L884,2.460775e+02 \"/></g><g fill=\"none\" stroke=\"black\" stroke-width=\"2px\" stroke-linejoin=\"round\" font-weight=\"bold\" font-family=\"sans-serif\" font-style=\"normal\" text-anchor=\"middle\" font-size=\"12px\" stroke-linecap=\"round\" dominant-baseline=\"hanging\"><rect height=\"260\" vector-effect=\"non-scaling-stroke\" x=\"70\" y=\"70\" width=\"884\"/><g fill=\"black\" font-size=\"18px\" dominant-baseline=\"middle\"><text vector-effect=\"non-scaling-stroke\" x=\"512\" y=\"35\" dominant-baseline=\"middle\" stroke=\"none\">loss metrics</text></g><g stroke-linecap=\"round\" dominant-baseline=\"hanging\" stroke-width=\"1px\" stroke-linejoin=\"round\" font-family=\"sans-serif\" font-style=\"normal\" stroke=\"hsl(90, 47%, 65%)\" font-weight=\"normal\" font-size=\"12px\" text-anchor=\"start\" fill=\"hsl(90, 47%, 65%)\"><rect y=\"366\" width=\"12\" height=\"12\" vector-effect=\"non-scaling-stroke\" x=\"76\"/><g fill=\"black\" stroke=\"black\"><text y=\"366\" dominant-baseline=\"hanging\" stroke=\"none\" vector-effect=\"non-scaling-stroke\" x=\"92\">Eval on test-eval: Mean Loss</text></g><g stroke=\"hsl(301, 88%, 65%)\" stroke-linecap=\"round\" dominant-baseline=\"hanging\" font-weight=\"normal\" font-family=\"sans-serif\" font-size=\"12px\" fill=\"hsl(301, 88%, 65%)\" stroke-width=\"1px\" stroke-linejoin=\"round\" font-style=\"normal\" text-anchor=\"start\"><rect x=\"76\" y=\"384\" width=\"12\" height=\"12\" vector-effect=\"non-scaling-stroke\"/><g stroke=\"black\" fill=\"black\"><text dominant-baseline=\"hanging\" stroke=\"none\" vector-effect=\"non-scaling-stroke\" x=\"92\" y=\"384\">Eval on train-eval: Mean Loss</text></g><g fill=\"hsl(152, 76%, 65%)\" font-family=\"sans-serif\" font-size=\"12px\" dominant-baseline=\"hanging\" stroke-width=\"1px\" stroke-linejoin=\"round\" font-weight=\"normal\" font-style=\"normal\" text-anchor=\"start\" stroke=\"hsl(152, 76%, 65%)\" stroke-linecap=\"round\"><rect vector-effect=\"non-scaling-stroke\" x=\"76\" y=\"402\" width=\"12\" height=\"12\"/><g fill=\"black\" stroke=\"black\"><text x=\"92\" y=\"402\" dominant-baseline=\"hanging\" stroke=\"none\" vector-effect=\"non-scaling-stroke\">Train: Batch Loss</text></g><g stroke-width=\"1px\" stroke-linejoin=\"round\" stroke=\"hsl(3, 64%, 65%)\" font-family=\"sans-serif\" dominant-baseline=\"hanging\" font-weight=\"normal\" text-anchor=\"start\" fill=\"hsl(3, 64%, 65%)\" stroke-linecap=\"round\" font-size=\"12px\" font-style=\"normal\"><rect y=\"420\" width=\"12\" height=\"12\" vector-effect=\"non-scaling-stroke\" x=\"76\"/><g fill=\"black\" stroke=\"black\"><text y=\"420\" dominant-baseline=\"hanging\" stroke=\"none\" vector-effect=\"non-scaling-stroke\" x=\"92\">Train: Moving Average Loss</text></g></g></g></g></g></g></svg>"
      ]
     },
     "metadata": {},
     "output_type": "display_data"
    },
    {
     "name": "stdout",
     "output_type": "stream",
     "text": [
      "\tMean Loss (#loss): 0.027\n",
      "\tMean Accuracy (#acc): 99.40%\n",
      "Results on test-eval:\n",
      "\tMean Loss (#loss): 0.597\n",
      "\tMean Accuracy (#acc): 82.71%\n"
     ]
    }
   ],
   "source": [
    "// Conv1DGraph stacks two 1D convolution layers on top of the sequence embeddings (shaped `[batch_size, sequence_len, embed_dim]`).\n",
    "func Conv1DGraph(ctx *context.Context, embed, mask *Node) *Node {\n",
    "    g := embed.Graph()\n",
    "    // 1D Convolution:\n",
    "    {\n",
    "        ctx := ctx.In(\"conv1\")\n",
    "        embed = Activation(embed)\n",
    "        embed = layers.Dropout(ctx, embed, ConstAsDType(g, DType, *flagDropoutRate))\n",
    "        embed = layers.Convolution(ctx, embed).ChannelsAfter().KernelSize(7).Filters(*flagTokenEmbeddingSize).Strides(3).Done()\n",
    "        AssertNoError(g.Error())\n",
    "        embed = Normalize(ctx, embed)\n",
    "    }\n",
    "    {\n",
    "        ctx := ctx.In(\"conv2\")\n",
    "        embed = Activation(embed)\n",
    "        embed = layers.Convolution(ctx, embed).ChannelsAfter().KernelSize(7).Filters(*flagTokenEmbeddingSize).Strides(3).Done()\n",
    "        AssertNoError(g.Error())\n",
    "        embed = Normalize(ctx, embed)\n",
    "    }\n",
    "    return embed\n",
    "}\n",
    "\n",
    "%% --model=cnn --steps=20000 --optimizer=adamw\n",
    "trainModel()"
   ]
  },
  {
   "cell_type": "markdown",
   "id": "c9adcb51-2190-4cfc-9224-07f7331bae41",
   "metadata": {},
   "source": [
    "### Transformer Model\n",
    "\n",
    "Finally a Transformer version of the model. \n",
    "\n",
    "Notice it's not significantly better than our previous simple Bag-Of-Words model. Likely because there is not enough data for the transformer to make any difference. The success of transformers in large-language-models is in large part due to the training with huge amounts of unsupervised (or self-supervised) data.\n"
   ]
  },
  {
   "cell_type": "code",
   "execution_count": 10,
   "id": "40e919bd-7029-4522-9b2f-fc64c308b671",
   "metadata": {
    "tags": []
   },
   "outputs": [
    {
     "name": "stdout",
     "output_type": "stream",
     "text": [
      "> Loading previously generated preprocessed binary file.\n",
      "Loaded data from \"aclImdb.bin\": 100000 examples, 141088 unique tokens, 23727054 tokens in total.\n",
      "Platform: CUDA\n"
     ]
    },
    {
     "data": {
      "text/html": []
     },
     "metadata": {},
     "output_type": "display_data"
    },
    {
     "name": "stdout",
     "output_type": "stream",
     "text": [
      "Training (3000 steps):  100% [\u001b[32m=\u001b[0m\u001b[32m=\u001b[0m\u001b[32m=\u001b[0m\u001b[32m=\u001b[0m\u001b[32m=\u001b[0m\u001b[32m=\u001b[0m\u001b[32m=\u001b[0m\u001b[32m=\u001b[0m\u001b[32m=\u001b[0m\u001b[32m=\u001b[0m\u001b[32m=\u001b[0m\u001b[32m=\u001b[0m\u001b[32m=\u001b[0m\u001b[32m=\u001b[0m\u001b[32m=\u001b[0m\u001b[32m=\u001b[0m\u001b[32m=\u001b[0m\u001b[32m=\u001b[0m\u001b[32m=\u001b[0m\u001b[32m=\u001b[0m\u001b[32m=\u001b[0m\u001b[32m=\u001b[0m\u001b[32m=\u001b[0m\u001b[32m=\u001b[0m\u001b[32m=\u001b[0m\u001b[32m=\u001b[0m\u001b[32m=\u001b[0m\u001b[32m=\u001b[0m\u001b[32m=\u001b[0m\u001b[32m=\u001b[0m\u001b[32m=\u001b[0m\u001b[32m=\u001b[0m\u001b[32m=\u001b[0m\u001b[32m=\u001b[0m\u001b[32m=\u001b[0m\u001b[32m=\u001b[0m\u001b[32m=\u001b[0m\u001b[32m=\u001b[0m\u001b[32m=\u001b[0m\u001b[32m=\u001b[0m] (7 steps/s)\u001b[0m [loss=0.327] [~loss=0.166] [~acc=94.78%]          \n"
     ]
    },
    {
     "data": {
      "text/html": [
       "<svg height=\"454\" viewbox=\"0 0 1024 400\" style=\"background-color:#f8f8f8\" preserveAspectRatio=\"xMidYMid meet\" xmlns=\"http://www.w3.org/2000/svg\" width=\"1024\"><defs><marker refX=\"5\" refY=\"5\" markerUnits=\"userSpaceOnUse\" markerWidth=\"2%\" markerHeight=\"2%\" id=\"circle\" viewBox=\"0 0 10 10 \"><circle r=\"3\" fill=\"none\" stroke=\"black\" cx=\"5\" cy=\"5\"/></marker><marker id=\"filled-circle\" viewBox=\"0 0 10 10 \" refX=\"5\" refY=\"5\" markerUnits=\"userSpaceOnUse\" markerWidth=\"2%\" markerHeight=\"2%\"><circle stroke=\"none\" cx=\"5\" cy=\"5\" r=\"3\" fill=\"black\"/></marker><marker markerUnits=\"userSpaceOnUse\" markerWidth=\"2%\" markerHeight=\"2%\" id=\"square\" viewBox=\"0 0 10 10 \" refX=\"5\" refY=\"5\"><rect stroke=\"black\" x=\"2\" y=\"2\" width=\"6\" height=\"6\" fill=\"none\"/></marker><marker refY=\"5\" markerUnits=\"userSpaceOnUse\" markerWidth=\"2%\" markerHeight=\"2%\" id=\"filled-square\" viewBox=\"0 0 10 10 \" refX=\"5\"><rect width=\"6\" height=\"6\" fill=\"black\" stroke=\"none\" x=\"2\" y=\"2\"/></marker></defs><g fill=\"none\" marker-mid=\"url(#square)\" stroke=\"hsl(90, 47%, 65%)\" stroke-linejoin=\"round\" transform=\"translate(70 330 )scale(1 -1 )\" stroke-linecap=\"round\" marker-start=\"url(#square)\" marker-end=\"url(#square)\" stroke-width=\"2px\"><path vector-effect=\"non-scaling-stroke\" d=\"M1.768000e+01,1.308731e+01 L3.437549e+01,7.392128e+00 L5.135394e+01,7.392128e+00 L6.833240e+01,1.345268e+01 L8.531086e+01,5.200000e+00 L1.022893e+02,6.274567e+00 L1.192678e+02,5.985239e+01 L1.362462e+02,9.640910e+01 L1.532247e+02,1.611194e+02 L1.702032e+02,1.636339e+02 L1.871816e+02,1.771949e+02 L2.041601e+02,1.816866e+02 L2.211385e+02,1.822024e+02 L2.381170e+02,1.829546e+02 L2.550955e+02,1.870379e+02 L2.720739e+02,1.869519e+02 L2.890524e+02,1.820090e+02 L3.060308e+02,1.912502e+02 L3.230093e+02,1.919809e+02 L3.399878e+02,1.916371e+02 L3.569662e+02,1.909064e+02 L3.739447e+02,1.932059e+02 L3.909231e+02,1.943235e+02 L4.079016e+02,1.938077e+02 L4.248801e+02,1.973967e+02 L4.418585e+02,1.936358e+02 L4.588370e+02,1.963222e+02 L4.758154e+02,1.955270e+02 L4.927939e+02,1.980844e+02 L5.097724e+02,1.976761e+02 L5.267508e+02,1.988152e+02 L5.437293e+02,1.963007e+02 L5.607077e+02,1.970099e+02 L5.776862e+02,1.989871e+02 L5.946646e+02,1.984283e+02 L6.116431e+02,1.956774e+02 L6.286216e+02,1.981274e+02 L6.456000e+02,1.976976e+02 L6.625785e+02,1.981274e+02 L6.795569e+02,1.965371e+02 L6.965354e+02,1.978910e+02 L7.135139e+02,1.968809e+02 L7.304923e+02,1.964081e+02 L7.474708e+02,1.963651e+02 L7.644492e+02,1.950542e+02 L7.814277e+02,1.984283e+02 L7.984062e+02,1.968165e+02 L8.153846e+02,1.898748e+02 L8.323631e+02,1.979340e+02 L8.493415e+02,1.965801e+02 L8.663200e+02,1.944094e+02 \"/></g><g stroke=\"hsl(301, 88%, 65%)\" stroke-linejoin=\"round\" fill=\"none\" stroke-linecap=\"round\" marker-mid=\"url(#square)\" marker-end=\"url(#square)\" stroke-width=\"2px\" transform=\"translate(70 330 )scale(1 -1 )\" marker-start=\"url(#square)\"><path vector-effect=\"non-scaling-stroke\" d=\"M1.768000e+01,1.123908e+01 L3.437549e+01,7.392128e+00 L5.135394e+01,7.392128e+00 L6.833240e+01,1.431231e+01 L8.531086e+01,3.406284e+01 L1.022893e+02,3.492247e+01 L1.192678e+02,1.068754e+02 L1.362462e+02,1.238965e+02 L1.532247e+02,1.831265e+02 L1.702032e+02,1.889506e+02 L1.871816e+02,1.987722e+02 L2.041601e+02,2.044029e+02 L2.211385e+02,2.090880e+02 L2.381170e+02,2.122902e+02 L2.550955e+02,2.157288e+02 L2.720739e+02,2.186516e+02 L2.890524e+02,2.145898e+02 L3.060308e+02,2.212521e+02 L3.230093e+02,2.251205e+02 L3.399878e+02,2.272481e+02 L3.569662e+02,2.270762e+02 L3.739447e+02,2.247981e+02 L3.909231e+02,2.278284e+02 L4.079016e+02,2.307512e+02 L4.248801e+02,2.343833e+02 L4.418585e+02,2.347486e+02 L4.588370e+02,2.357157e+02 L4.758154e+02,2.372631e+02 L4.927939e+02,2.400999e+02 L5.097724e+02,2.397131e+02 L5.267508e+02,2.417763e+02 L5.437293e+02,2.410456e+02 L5.607077e+02,2.408951e+02 L5.776862e+02,2.433237e+02 L5.946646e+02,2.442908e+02 L6.116431e+02,2.362530e+02 L6.286216e+02,2.468912e+02 L6.456000e+02,2.453438e+02 L6.625785e+02,2.474070e+02 L6.795569e+02,2.488899e+02 L6.965354e+02,2.496206e+02 L7.135139e+02,2.500289e+02 L7.304923e+02,2.509531e+02 L7.474708e+02,2.484601e+02 L7.644492e+02,2.509960e+02 L7.814277e+02,2.527798e+02 L7.984062e+02,2.520921e+02 L8.153846e+02,2.413249e+02 L8.323631e+02,2.532311e+02 L8.493415e+02,2.548000e+02 L8.663200e+02,2.512109e+02 \"/></g><g transform=\"translate(70 330 )scale(1 -1 )\" stroke=\"hsl(152, 76%, 65%)\" stroke-width=\"2px\" fill=\"none\" stroke-linecap=\"round\" marker-start=\"url(#square)\" stroke-linejoin=\"round\" marker-mid=\"url(#square)\" marker-end=\"url(#square)\"><path vector-effect=\"non-scaling-stroke\" d=\"M1.768000e+01,1.276495e+01 L3.437549e+01,3.183851e+01 L5.135394e+01,2.211099e+01 L6.833240e+01,2.372198e+01 L8.531086e+01,2.222689e+01 L1.022893e+02,2.257112e+01 L1.192678e+02,3.182941e+01 L1.362462e+02,6.992167e+01 L1.532247e+02,1.096124e+02 L1.702032e+02,1.377364e+02 L1.871816e+02,1.588245e+02 L2.041601e+02,1.748726e+02 L2.211385e+02,1.855009e+02 L2.381170e+02,1.923912e+02 L2.550955e+02,1.985957e+02 L2.720739e+02,2.043888e+02 L2.890524e+02,2.078204e+02 L3.060308e+02,2.096311e+02 L3.230093e+02,2.158932e+02 L3.399878e+02,2.186026e+02 L3.569662e+02,2.193720e+02 L3.739447e+02,2.206484e+02 L3.909231e+02,2.247332e+02 L4.079016e+02,2.245812e+02 L4.248801e+02,2.262981e+02 L4.418585e+02,2.281385e+02 L4.588370e+02,2.306016e+02 L4.758154e+02,2.321302e+02 L4.927939e+02,2.330102e+02 L5.097724e+02,2.319493e+02 L5.267508e+02,2.337143e+02 L5.437293e+02,2.364630e+02 L5.607077e+02,2.363771e+02 L5.776862e+02,2.353635e+02 L5.946646e+02,2.361096e+02 L6.116431e+02,2.383462e+02 L6.286216e+02,2.389335e+02 L6.456000e+02,2.408816e+02 L6.625785e+02,2.413149e+02 L6.795569e+02,2.418067e+02 L6.965354e+02,2.421099e+02 L7.135139e+02,2.435267e+02 L7.304923e+02,2.445551e+02 L7.474708e+02,2.464498e+02 L7.644492e+02,2.468672e+02 L7.814277e+02,2.453861e+02 L7.984062e+02,2.466858e+02 L8.153846e+02,2.474089e+02 L8.323631e+02,2.481782e+02 L8.493415e+02,2.492724e+02 L8.663200e+02,2.479658e+02 \"/></g><g transform=\"translate(70 330 )scale(1 -1 )\" stroke=\"black\" stroke-width=\"2px\" stroke-linejoin=\"round\" fill=\"none\" stroke-linecap=\"round\"><path vector-effect=\"non-scaling-stroke\" d=\"M1.768000e+01,0 L1.768000e+01,-6 M7.427486e+01,0 L7.427486e+01,-6 M1.308697e+02,0 L1.308697e+02,-6 M1.874646e+02,0 L1.874646e+02,-6 M2.440595e+02,0 L2.440595e+02,-6 M3.006543e+02,0 L3.006543e+02,-6 M3.572492e+02,0 L3.572492e+02,-6 M4.138441e+02,0 L4.138441e+02,-6 M4.704389e+02,0 L4.704389e+02,-6 M5.270338e+02,0 L5.270338e+02,-6 M5.836286e+02,0 L5.836286e+02,-6 M6.402235e+02,0 L6.402235e+02,-6 M6.968184e+02,0 L6.968184e+02,-6 M7.534132e+02,0 L7.534132e+02,-6 M8.100081e+02,0 L8.100081e+02,-6 \"/></g><g stroke=\"black\" stroke-linejoin=\"round\" transform=\"translate(70 330 )scale(1 1 )\" font-weight=\"normal\" dominant-baseline=\"hanging\" fill=\"black\" stroke-linecap=\"round\" font-size=\"12px\" font-family=\"sans-serif\" stroke-width=\"2px\" font-style=\"normal\" text-anchor=\"middle\"><text dominant-baseline=\"hanging\" stroke=\"none\" vector-effect=\"non-scaling-stroke\" x=\"1.768000e+01\" y=\"10\">0</text><text stroke=\"none\" vector-effect=\"non-scaling-stroke\" x=\"7.427486e+01\" y=\"10\" dominant-baseline=\"hanging\">200</text><text y=\"10\" dominant-baseline=\"hanging\" stroke=\"none\" vector-effect=\"non-scaling-stroke\" x=\"1.308697e+02\">400</text><text x=\"1.874646e+02\" y=\"10\" dominant-baseline=\"hanging\" stroke=\"none\" vector-effect=\"non-scaling-stroke\">600</text><text stroke=\"none\" vector-effect=\"non-scaling-stroke\" x=\"2.440595e+02\" y=\"10\" dominant-baseline=\"hanging\">800</text><text y=\"10\" dominant-baseline=\"hanging\" stroke=\"none\" vector-effect=\"non-scaling-stroke\" x=\"3.006543e+02\">1000</text><text stroke=\"none\" vector-effect=\"non-scaling-stroke\" x=\"3.572492e+02\" y=\"10\" dominant-baseline=\"hanging\">1200</text><text x=\"4.138441e+02\" y=\"10\" dominant-baseline=\"hanging\" stroke=\"none\" vector-effect=\"non-scaling-stroke\">1400</text><text x=\"4.704389e+02\" y=\"10\" dominant-baseline=\"hanging\" stroke=\"none\" vector-effect=\"non-scaling-stroke\">1600</text><text stroke=\"none\" vector-effect=\"non-scaling-stroke\" x=\"5.270338e+02\" y=\"10\" dominant-baseline=\"hanging\">1800</text><text dominant-baseline=\"hanging\" stroke=\"none\" vector-effect=\"non-scaling-stroke\" x=\"5.836286e+02\" y=\"10\">2000</text><text stroke=\"none\" vector-effect=\"non-scaling-stroke\" x=\"6.402235e+02\" y=\"10\" dominant-baseline=\"hanging\">2200</text><text stroke=\"none\" vector-effect=\"non-scaling-stroke\" x=\"6.968184e+02\" y=\"10\" dominant-baseline=\"hanging\">2400</text><text x=\"7.534132e+02\" y=\"10\" dominant-baseline=\"hanging\" stroke=\"none\" vector-effect=\"non-scaling-stroke\">2600</text><text dominant-baseline=\"hanging\" stroke=\"none\" vector-effect=\"non-scaling-stroke\" x=\"8.100081e+02\" y=\"10\">2800</text></g><g stroke=\"black\" font-family=\"sans-serif\" stroke-linecap=\"round\" font-size=\"12px\" stroke-width=\"2px\" stroke-linejoin=\"round\" transform=\"translate(70 330 )scale(1 1 )rotate(0 0 0 )\" font-weight=\"bold\" fill=\"black\" font-style=\"normal\" text-anchor=\"middle\" dominant-baseline=\"baseline\"><text dominant-baseline=\"baseline\" stroke=\"none\" vector-effect=\"non-scaling-stroke\" x=\"442\" y=\"-6\">Steps</text></g><g dominant-baseline=\"baseline\" stroke-width=\"2px\" stroke-linejoin=\"round\" transform=\"translate(70 330 )scale(1 -1 )\" font-family=\"sans-serif\" stroke=\"black\" stroke-linecap=\"round\" font-size=\"12px\" font-style=\"normal\" text-anchor=\"middle\" fill=\"black\" font-weight=\"bold\"><path d=\"M0,7.392128e+00 L-6,7.392128e+00 M0,6.112039e+01 L-6,6.112039e+01 M0,1.148486e+02 L-6,1.148486e+02 M0,1.685769e+02 L-6,1.685769e+02 M0,2.223052e+02 L-6,2.223052e+02 \" vector-effect=\"non-scaling-stroke\"/></g><g stroke-linecap=\"round\" font-weight=\"normal\" stroke=\"black\" stroke-width=\"2px\" transform=\"translate(70 330 )scale(1 1 )\" font-family=\"sans-serif\" dominant-baseline=\"middle\" fill=\"black\" font-size=\"12px\" font-style=\"normal\" text-anchor=\"end\" stroke-linejoin=\"round\"><text x=\"-10\" y=\"-7.392128e+00\" dominant-baseline=\"middle\" stroke=\"none\" vector-effect=\"non-scaling-stroke\">0.500</text><text vector-effect=\"non-scaling-stroke\" x=\"-10\" y=\"-6.112039e+01\" dominant-baseline=\"middle\" stroke=\"none\">0.600</text><text y=\"-1.148486e+02\" dominant-baseline=\"middle\" stroke=\"none\" vector-effect=\"non-scaling-stroke\" x=\"-10\">0.700</text><text stroke=\"none\" vector-effect=\"non-scaling-stroke\" x=\"-10\" y=\"-1.685769e+02\" dominant-baseline=\"middle\">0.800</text><text stroke=\"none\" vector-effect=\"non-scaling-stroke\" x=\"-10\" y=\"-2.223052e+02\" dominant-baseline=\"middle\">0.900</text></g><g text-anchor=\"middle\" dominant-baseline=\"hanging\" stroke-linecap=\"round\" font-style=\"normal\" font-weight=\"bold\" transform=\"translate(70 330 )scale(1 1 )rotate(-90 0 0 )\" stroke-width=\"2px\" stroke-linejoin=\"round\" fill=\"black\" font-size=\"12px\" font-family=\"sans-serif\" stroke=\"black\"><text dominant-baseline=\"hanging\" stroke=\"none\" vector-effect=\"non-scaling-stroke\" x=\"130\" y=\"6\">accuracy</text></g><g stroke-linecap=\"round\" font-style=\"normal\" stroke-width=\"0.5px\" transform=\"translate(70 330 )scale(1 -1 )\" font-weight=\"bold\" fill=\"black\" font-size=\"12px\" text-anchor=\"middle\" dominant-baseline=\"hanging\" stroke=\"gray\" stroke-linejoin=\"round\" font-family=\"sans-serif\"><path vector-effect=\"non-scaling-stroke\" d=\"M0,7.392128e+00 L884,7.392128e+00 M0,6.112039e+01 L884,6.112039e+01 M0,1.148486e+02 L884,1.148486e+02 M0,1.685769e+02 L884,1.685769e+02 M0,2.223052e+02 L884,2.223052e+02 \"/></g><g font-weight=\"bold\" text-anchor=\"middle\" dominant-baseline=\"hanging\" stroke-linecap=\"round\" font-family=\"sans-serif\" stroke=\"black\" stroke-width=\"2px\" stroke-linejoin=\"round\" font-style=\"normal\" fill=\"none\" font-size=\"12px\"><rect height=\"260\" vector-effect=\"non-scaling-stroke\" x=\"70\" y=\"70\" width=\"884\"/><g dominant-baseline=\"middle\" fill=\"black\" font-size=\"18px\"><text stroke=\"none\" vector-effect=\"non-scaling-stroke\" x=\"512\" y=\"35\" dominant-baseline=\"middle\">accuracy metrics</text></g><g font-style=\"normal\" fill=\"hsl(90, 47%, 65%)\" stroke-linecap=\"round\" font-weight=\"normal\" stroke-linejoin=\"round\" stroke-width=\"1px\" text-anchor=\"start\" dominant-baseline=\"hanging\" font-size=\"12px\" font-family=\"sans-serif\" stroke=\"hsl(90, 47%, 65%)\"><rect vector-effect=\"non-scaling-stroke\" x=\"76\" y=\"366\" width=\"12\" height=\"12\"/><g stroke=\"black\" fill=\"black\"><text dominant-baseline=\"hanging\" stroke=\"none\" vector-effect=\"non-scaling-stroke\" x=\"92\" y=\"366\">Eval on test-eval: Mean Accuracy</text></g><g font-size=\"12px\" text-anchor=\"start\" dominant-baseline=\"hanging\" font-family=\"sans-serif\" stroke-width=\"1px\" stroke-linejoin=\"round\" font-weight=\"normal\" fill=\"hsl(301, 88%, 65%)\" stroke-linecap=\"round\" font-style=\"normal\" stroke=\"hsl(301, 88%, 65%)\"><rect height=\"12\" vector-effect=\"non-scaling-stroke\" x=\"76\" y=\"384\" width=\"12\"/><g fill=\"black\" stroke=\"black\"><text stroke=\"none\" vector-effect=\"non-scaling-stroke\" x=\"92\" y=\"384\" dominant-baseline=\"hanging\">Eval on train-eval: Mean Accuracy</text></g><g text-anchor=\"start\" stroke-linejoin=\"round\" font-weight=\"normal\" stroke-linecap=\"round\" font-family=\"sans-serif\" stroke=\"hsl(152, 76%, 65%)\" stroke-width=\"1px\" font-size=\"12px\" font-style=\"normal\" dominant-baseline=\"hanging\" fill=\"hsl(152, 76%, 65%)\"><rect height=\"12\" vector-effect=\"non-scaling-stroke\" x=\"76\" y=\"402\" width=\"12\"/><g fill=\"black\" stroke=\"black\"><text x=\"92\" y=\"402\" dominant-baseline=\"hanging\" stroke=\"none\" vector-effect=\"non-scaling-stroke\">Train: Moving Average Accuracy</text></g></g></g></g></g></svg>"
      ]
     },
     "metadata": {},
     "output_type": "display_data"
    },
    {
     "name": "stdout",
     "output_type": "stream",
     "text": [
      "\n",
      "Results on train-eval:\n"
     ]
    },
    {
     "data": {
      "text/html": [
       "<svg width=\"1024\" height=\"472\" viewbox=\"0 0 1024 400\" style=\"background-color:#f8f8f8\" preserveAspectRatio=\"xMidYMid meet\" xmlns=\"http://www.w3.org/2000/svg\"><defs><marker markerWidth=\"2%\" markerHeight=\"2%\" id=\"circle\" viewBox=\"0 0 10 10 \" refX=\"5\" refY=\"5\" markerUnits=\"userSpaceOnUse\"><circle r=\"3\" fill=\"none\" stroke=\"black\" cx=\"5\" cy=\"5\"/></marker><marker id=\"filled-circle\" viewBox=\"0 0 10 10 \" refX=\"5\" refY=\"5\" markerUnits=\"userSpaceOnUse\" markerWidth=\"2%\" markerHeight=\"2%\"><circle cx=\"5\" cy=\"5\" r=\"3\" fill=\"black\" stroke=\"none\"/></marker><marker markerUnits=\"userSpaceOnUse\" markerWidth=\"2%\" markerHeight=\"2%\" id=\"square\" viewBox=\"0 0 10 10 \" refX=\"5\" refY=\"5\"><rect fill=\"none\" stroke=\"black\" x=\"2\" y=\"2\" width=\"6\" height=\"6\"/></marker><marker id=\"filled-square\" viewBox=\"0 0 10 10 \" refX=\"5\" refY=\"5\" markerUnits=\"userSpaceOnUse\" markerWidth=\"2%\" markerHeight=\"2%\"><rect width=\"6\" height=\"6\" fill=\"black\" stroke=\"none\" x=\"2\" y=\"2\"/></marker></defs><g stroke-linejoin=\"round\" marker-end=\"url(#square)\" stroke=\"hsl(90, 47%, 65%)\" transform=\"translate(70 330 )scale(1 -1 )\" stroke-linecap=\"round\" marker-start=\"url(#square)\" marker-mid=\"url(#square)\" fill=\"none\" stroke-width=\"2px\"><path vector-effect=\"non-scaling-stroke\" d=\"M1.768000e+01,2.518296e+02 L3.437549e+01,2.520187e+02 L5.135394e+01,2.523458e+02 L6.833240e+01,2.518219e+02 L8.531086e+01,2.521485e+02 L1.022893e+02,2.522214e+02 L1.192678e+02,2.481480e+02 L1.362462e+02,2.231399e+02 L1.532247e+02,1.728121e+02 L1.702032e+02,1.633404e+02 L1.871816e+02,1.473213e+02 L2.041601e+02,1.407138e+02 L2.211385e+02,1.379356e+02 L2.381170e+02,1.364091e+02 L2.550955e+02,1.307615e+02 L2.720739e+02,1.308669e+02 L2.890524e+02,1.374108e+02 L3.060308e+02,1.244048e+02 L3.230093e+02,1.256852e+02 L3.399878e+02,1.255797e+02 L3.569662e+02,1.256030e+02 L3.739447e+02,1.230227e+02 L3.909231e+02,1.214190e+02 L4.079016e+02,1.170186e+02 L4.248801e+02,1.242368e+02 L4.418585e+02,1.242076e+02 L4.588370e+02,1.250894e+02 L4.758154e+02,1.190463e+02 L4.927939e+02,1.166800e+02 L5.097724e+02,1.161927e+02 L5.267508e+02,1.250306e+02 L5.437293e+02,1.254862e+02 L5.607077e+02,1.301114e+02 L5.776862e+02,1.219040e+02 L5.946646e+02,1.271220e+02 L6.116431e+02,1.325633e+02 L6.286216e+02,1.217024e+02 L6.456000e+02,1.231343e+02 L6.625785e+02,1.323628e+02 L6.795569e+02,1.225145e+02 L6.965354e+02,1.277690e+02 L7.135139e+02,1.288430e+02 L7.304923e+02,1.276525e+02 L7.474708e+02,1.381114e+02 L7.644492e+02,1.300047e+02 L7.814277e+02,1.257756e+02 L7.984062e+02,1.313672e+02 L8.153846e+02,1.566850e+02 L8.323631e+02,1.477614e+02 L8.493415e+02,1.422373e+02 L8.663200e+02,1.486071e+02 \"/></g><g marker-start=\"url(#square)\" marker-end=\"url(#square)\" fill=\"none\" stroke-linecap=\"round\" stroke-width=\"2px\" transform=\"translate(70 330 )scale(1 -1 )\" marker-mid=\"url(#square)\" stroke=\"hsl(301, 88%, 65%)\" stroke-linejoin=\"round\"><path vector-effect=\"non-scaling-stroke\" d=\"M1.768000e+01,2.519584e+02 L3.437549e+01,2.519677e+02 L5.135394e+01,2.519120e+02 L6.833240e+01,2.512733e+02 L8.531086e+01,2.504751e+02 L1.022893e+02,2.498179e+02 L1.192678e+02,2.424358e+02 L1.362462e+02,2.017861e+02 L1.532247e+02,1.502956e+02 L1.702032e+02,1.384985e+02 L1.871816e+02,1.251966e+02 L2.041601e+02,1.170675e+02 L2.211385e+02,1.094173e+02 L2.381170e+02,1.035031e+02 L2.550955e+02,9.873648e+01 L2.720739e+02,9.333899e+01 L2.890524e+02,9.626639e+01 L3.060308e+02,8.730844e+01 L3.230093e+02,8.231245e+01 L3.399878e+02,7.886278e+01 L3.569662e+02,7.751521e+01 L3.739447e+02,8.139599e+01 L3.909231e+02,7.409092e+01 L4.079016e+02,7.186149e+01 L4.248801e+02,6.643312e+01 L4.418585e+02,6.566948e+01 L4.588370e+02,6.416074e+01 L4.758154e+02,6.441688e+01 L4.927939e+02,6.049821e+01 L5.097724e+02,5.979095e+01 L5.267508e+02,5.511873e+01 L5.437293e+02,5.470033e+01 L5.607077e+02,5.409491e+01 L5.776862e+02,5.214476e+01 L5.946646e+02,5.139589e+01 L6.116431e+02,6.293744e+01 L6.286216e+02,4.834216e+01 L6.456000e+02,5.012286e+01 L6.625785e+02,4.534142e+01 L6.795569e+02,4.554270e+01 L6.965354e+02,4.360538e+01 L7.135139e+02,4.231143e+01 L7.304923e+02,4.102879e+01 L7.474708e+02,4.266514e+01 L7.644492e+02,4.138905e+01 L7.814277e+02,4.113882e+01 L7.984062e+02,3.928023e+01 L8.153846e+02,4.991826e+01 L8.323631e+02,3.807195e+01 L8.493415e+02,3.556967e+01 L8.663200e+02,3.802682e+01 \"/></g><g transform=\"translate(70 330 )scale(1 -1 )\" marker-mid=\"url(#square)\" marker-end=\"url(#square)\" fill=\"none\" stroke=\"hsl(152, 76%, 65%)\" stroke-width=\"2px\" stroke-linecap=\"round\" stroke-linejoin=\"round\" marker-start=\"url(#square)\"><path vector-effect=\"non-scaling-stroke\" d=\"M1.768000e+01,2.548000e+02 L3.437549e+01,2.493059e+02 L5.135394e+01,2.483765e+02 L6.833240e+01,2.480077e+02 L8.531086e+01,2.532145e+02 L1.022893e+02,2.523015e+02 L1.192678e+02,2.419460e+02 L1.362462e+02,2.119904e+02 L1.532247e+02,1.430053e+02 L1.702032e+02,1.450059e+02 L1.871816e+02,1.366942e+02 L2.041601e+02,1.090064e+02 L2.211385e+02,1.321441e+02 L2.381170e+02,1.219338e+02 L2.550955e+02,1.133116e+02 L2.720739e+02,9.375723e+01 L2.890524e+02,1.076350e+02 L3.060308e+02,1.022890e+02 L3.230093e+02,9.172398e+01 L3.399878e+02,1.217370e+02 L3.569662e+02,8.690090e+01 L3.739447e+02,5.197982e+01 L3.909231e+02,4.943265e+01 L4.079016e+02,1.031499e+02 L4.248801e+02,6.951271e+01 L4.418585e+02,3.420414e+01 L4.588370e+02,9.465873e+01 L4.758154e+02,7.575688e+01 L4.927939e+02,7.044972e+01 L5.097724e+02,4.188760e+01 L5.267508e+02,5.045926e+01 L5.437293e+02,6.636493e+01 L5.607077e+02,3.899050e+01 L5.776862e+02,9.352333e+01 L5.946646e+02,6.965100e+01 L6.116431e+02,2.717566e+01 L6.286216e+02,6.602989e+01 L6.456000e+02,5.133402e+01 L6.625785e+02,5.396882e+01 L6.795569e+02,4.646746e+01 L6.965354e+02,3.326324e+01 L7.135139e+02,7.143654e+01 L7.304923e+02,7.455797e+01 L7.474708e+02,5.656956e+01 L7.644492e+02,3.508342e+01 L7.814277e+02,4.801150e+01 L7.984062e+02,5.200000e+00 L8.153846e+02,2.241459e+01 L8.323631e+02,2.370719e+01 L8.493415e+02,4.197610e+01 L8.663200e+02,1.087074e+02 \"/></g><g marker-start=\"url(#square)\" marker-mid=\"url(#square)\" stroke-linecap=\"round\" stroke=\"hsl(3, 64%, 65%)\" stroke-linejoin=\"round\" stroke-width=\"2px\" transform=\"translate(70 330 )scale(1 -1 )\" marker-end=\"url(#square)\" fill=\"none\"><path d=\"M1.768000e+01,2.548000e+02 L3.437549e+01,2.504010e+02 L5.135394e+01,2.513687e+02 L6.833240e+01,2.512205e+02 L8.531086e+01,2.514130e+02 L1.022893e+02,2.513307e+02 L1.192678e+02,2.496930e+02 L1.362462e+02,2.354587e+02 L1.532247e+02,2.097104e+02 L1.702032e+02,1.882787e+02 L1.871816e+02,1.683250e+02 L2.041601e+02,1.521578e+02 L2.211385e+02,1.396734e+02 L2.381170e+02,1.313901e+02 L2.550955e+02,1.231433e+02 L2.720739e+02,1.153470e+02 L2.890524e+02,1.096401e+02 L3.060308e+02,1.070373e+02 L3.230093e+02,9.839941e+01 L3.399878e+02,9.391945e+01 L3.569662e+02,9.211963e+01 L3.739447e+02,8.820104e+01 L3.909231e+02,8.403921e+01 L4.079016e+02,8.383012e+01 L4.248801e+02,7.975145e+01 L4.418585e+02,7.731461e+01 L4.588370e+02,7.274744e+01 L4.758154e+02,7.012897e+01 L4.927939e+02,6.969614e+01 L5.097724e+02,7.160268e+01 L5.267508e+02,6.828827e+01 L5.437293e+02,6.434277e+01 L5.607077e+02,6.359866e+01 L5.776862e+02,6.391620e+01 L5.946646e+02,6.344235e+01 L6.116431e+02,6.014499e+01 L6.286216e+02,5.876789e+01 L6.456000e+02,5.751654e+01 L6.625785e+02,5.668676e+01 L6.795569e+02,5.509358e+01 L6.965354e+02,5.468498e+01 L7.135139e+02,5.353604e+01 L7.304923e+02,5.179433e+01 L7.474708e+02,4.923405e+01 L7.644492e+02,4.809717e+01 L7.814277e+02,4.923715e+01 L7.984062e+02,4.897277e+01 L8.153846e+02,4.608870e+01 L8.323631e+02,4.437151e+01 L8.493415e+02,4.285527e+01 L8.663200e+02,4.567943e+01 \" vector-effect=\"non-scaling-stroke\"/></g><g stroke-linecap=\"round\" stroke-linejoin=\"round\" fill=\"none\" stroke=\"black\" stroke-width=\"2px\" transform=\"translate(70 330 )scale(1 -1 )\"><path vector-effect=\"non-scaling-stroke\" d=\"M1.768000e+01,0 L1.768000e+01,-6 M7.427486e+01,0 L7.427486e+01,-6 M1.308697e+02,0 L1.308697e+02,-6 M1.874646e+02,0 L1.874646e+02,-6 M2.440595e+02,0 L2.440595e+02,-6 M3.006543e+02,0 L3.006543e+02,-6 M3.572492e+02,0 L3.572492e+02,-6 M4.138441e+02,0 L4.138441e+02,-6 M4.704389e+02,0 L4.704389e+02,-6 M5.270338e+02,0 L5.270338e+02,-6 M5.836286e+02,0 L5.836286e+02,-6 M6.402235e+02,0 L6.402235e+02,-6 M6.968184e+02,0 L6.968184e+02,-6 M7.534132e+02,0 L7.534132e+02,-6 M8.100081e+02,0 L8.100081e+02,-6 \"/></g><g font-family=\"sans-serif\" font-style=\"normal\" stroke=\"black\" stroke-linecap=\"round\" stroke-linejoin=\"round\" font-weight=\"normal\" text-anchor=\"middle\" transform=\"translate(70 330 )scale(1 1 )\" fill=\"black\" font-size=\"12px\" dominant-baseline=\"hanging\" stroke-width=\"2px\"><text dominant-baseline=\"hanging\" stroke=\"none\" vector-effect=\"non-scaling-stroke\" x=\"1.768000e+01\" y=\"10\">0</text><text y=\"10\" dominant-baseline=\"hanging\" stroke=\"none\" vector-effect=\"non-scaling-stroke\" x=\"7.427486e+01\">200</text><text dominant-baseline=\"hanging\" stroke=\"none\" vector-effect=\"non-scaling-stroke\" x=\"1.308697e+02\" y=\"10\">400</text><text y=\"10\" dominant-baseline=\"hanging\" stroke=\"none\" vector-effect=\"non-scaling-stroke\" x=\"1.874646e+02\">600</text><text x=\"2.440595e+02\" y=\"10\" dominant-baseline=\"hanging\" stroke=\"none\" vector-effect=\"non-scaling-stroke\">800</text><text dominant-baseline=\"hanging\" stroke=\"none\" vector-effect=\"non-scaling-stroke\" x=\"3.006543e+02\" y=\"10\">1000</text><text vector-effect=\"non-scaling-stroke\" x=\"3.572492e+02\" y=\"10\" dominant-baseline=\"hanging\" stroke=\"none\">1200</text><text vector-effect=\"non-scaling-stroke\" x=\"4.138441e+02\" y=\"10\" dominant-baseline=\"hanging\" stroke=\"none\">1400</text><text vector-effect=\"non-scaling-stroke\" x=\"4.704389e+02\" y=\"10\" dominant-baseline=\"hanging\" stroke=\"none\">1600</text><text y=\"10\" dominant-baseline=\"hanging\" stroke=\"none\" vector-effect=\"non-scaling-stroke\" x=\"5.270338e+02\">1800</text><text dominant-baseline=\"hanging\" stroke=\"none\" vector-effect=\"non-scaling-stroke\" x=\"5.836286e+02\" y=\"10\">2000</text><text stroke=\"none\" vector-effect=\"non-scaling-stroke\" x=\"6.402235e+02\" y=\"10\" dominant-baseline=\"hanging\">2200</text><text stroke=\"none\" vector-effect=\"non-scaling-stroke\" x=\"6.968184e+02\" y=\"10\" dominant-baseline=\"hanging\">2400</text><text y=\"10\" dominant-baseline=\"hanging\" stroke=\"none\" vector-effect=\"non-scaling-stroke\" x=\"7.534132e+02\">2600</text><text stroke=\"none\" vector-effect=\"non-scaling-stroke\" x=\"8.100081e+02\" y=\"10\" dominant-baseline=\"hanging\">2800</text></g><g font-size=\"12px\" font-style=\"normal\" dominant-baseline=\"baseline\" transform=\"translate(70 330 )scale(1 1 )rotate(0 0 0 )\" font-family=\"sans-serif\" stroke-linejoin=\"round\" text-anchor=\"middle\" stroke=\"black\" stroke-linecap=\"round\" stroke-width=\"2px\" font-weight=\"bold\" fill=\"black\"><text vector-effect=\"non-scaling-stroke\" x=\"442\" y=\"-6\" dominant-baseline=\"baseline\" stroke=\"none\">Steps</text></g><g transform=\"translate(70 330 )scale(1 -1 )\" font-family=\"sans-serif\" stroke=\"black\" font-size=\"12px\" dominant-baseline=\"baseline\" stroke-width=\"2px\" text-anchor=\"middle\" fill=\"black\" stroke-linecap=\"round\" font-style=\"normal\" stroke-linejoin=\"round\" font-weight=\"bold\"><path d=\"M0,5.888116e+01 L-6,5.888116e+01 M0,1.371699e+02 L-6,1.371699e+02 M0,2.154586e+02 L-6,2.154586e+02 \" vector-effect=\"non-scaling-stroke\"/></g><g dominant-baseline=\"middle\" stroke=\"black\" stroke-linecap=\"round\" stroke-width=\"2px\" transform=\"translate(70 330 )scale(1 1 )\" font-family=\"sans-serif\" font-style=\"normal\" fill=\"black\" stroke-linejoin=\"round\" font-weight=\"normal\" text-anchor=\"end\" font-size=\"12px\"><text vector-effect=\"non-scaling-stroke\" x=\"-10\" y=\"-5.888116e+01\" dominant-baseline=\"middle\" stroke=\"none\">0.200</text><text x=\"-10\" y=\"-1.371699e+02\" dominant-baseline=\"middle\" stroke=\"none\" vector-effect=\"non-scaling-stroke\">0.400</text><text dominant-baseline=\"middle\" stroke=\"none\" vector-effect=\"non-scaling-stroke\" x=\"-10\" y=\"-2.154586e+02\">0.600</text></g><g fill=\"black\" stroke=\"black\" dominant-baseline=\"hanging\" stroke-width=\"2px\" transform=\"translate(70 330 )scale(1 1 )rotate(-90 0 0 )\" font-size=\"12px\" text-anchor=\"middle\" font-family=\"sans-serif\" font-style=\"normal\" stroke-linecap=\"round\" stroke-linejoin=\"round\" font-weight=\"bold\"><text y=\"6\" dominant-baseline=\"hanging\" stroke=\"none\" vector-effect=\"non-scaling-stroke\" x=\"130\">loss</text></g><g stroke-width=\"0.5px\" font-family=\"sans-serif\" font-style=\"normal\" dominant-baseline=\"hanging\" stroke=\"gray\" text-anchor=\"middle\" transform=\"translate(70 330 )scale(1 -1 )\" font-size=\"12px\" fill=\"black\" stroke-linecap=\"round\" stroke-linejoin=\"round\" font-weight=\"bold\"><path vector-effect=\"non-scaling-stroke\" d=\"M0,5.888116e+01 L884,5.888116e+01 M0,1.371699e+02 L884,1.371699e+02 M0,2.154586e+02 L884,2.154586e+02 \"/></g><g font-family=\"sans-serif\" dominant-baseline=\"hanging\" stroke=\"black\" font-weight=\"bold\" stroke-width=\"2px\" font-size=\"12px\" font-style=\"normal\" fill=\"none\" stroke-linecap=\"round\" stroke-linejoin=\"round\" text-anchor=\"middle\"><rect vector-effect=\"non-scaling-stroke\" x=\"70\" y=\"70\" width=\"884\" height=\"260\"/><g fill=\"black\" dominant-baseline=\"middle\" font-size=\"18px\"><text y=\"35\" dominant-baseline=\"middle\" stroke=\"none\" vector-effect=\"non-scaling-stroke\" x=\"512\">loss metrics</text></g><g font-weight=\"normal\" stroke-linejoin=\"round\" stroke-width=\"1px\" font-family=\"sans-serif\" font-size=\"12px\" text-anchor=\"start\" fill=\"hsl(90, 47%, 65%)\" stroke=\"hsl(90, 47%, 65%)\" stroke-linecap=\"round\" font-style=\"normal\" dominant-baseline=\"hanging\"><rect width=\"12\" height=\"12\" vector-effect=\"non-scaling-stroke\" x=\"76\" y=\"366\"/><g fill=\"black\" stroke=\"black\"><text y=\"366\" dominant-baseline=\"hanging\" stroke=\"none\" vector-effect=\"non-scaling-stroke\" x=\"92\">Eval on test-eval: Mean Loss</text></g><g stroke=\"hsl(301, 88%, 65%)\" stroke-linecap=\"round\" font-size=\"12px\" font-style=\"normal\" dominant-baseline=\"hanging\" stroke-width=\"1px\" font-family=\"sans-serif\" stroke-linejoin=\"round\" font-weight=\"normal\" text-anchor=\"start\" fill=\"hsl(301, 88%, 65%)\"><rect width=\"12\" height=\"12\" vector-effect=\"non-scaling-stroke\" x=\"76\" y=\"384\"/><g fill=\"black\" stroke=\"black\"><text stroke=\"none\" vector-effect=\"non-scaling-stroke\" x=\"92\" y=\"384\" dominant-baseline=\"hanging\">Eval on train-eval: Mean Loss</text></g><g font-style=\"normal\" dominant-baseline=\"hanging\" fill=\"hsl(152, 76%, 65%)\" stroke=\"hsl(152, 76%, 65%)\" stroke-linecap=\"round\" stroke-linejoin=\"round\" stroke-width=\"1px\" font-size=\"12px\" font-weight=\"normal\" text-anchor=\"start\" font-family=\"sans-serif\"><rect x=\"76\" y=\"402\" width=\"12\" height=\"12\" vector-effect=\"non-scaling-stroke\"/><g fill=\"black\" stroke=\"black\"><text y=\"402\" dominant-baseline=\"hanging\" stroke=\"none\" vector-effect=\"non-scaling-stroke\" x=\"92\">Train: Batch Loss</text></g><g font-family=\"sans-serif\" dominant-baseline=\"hanging\" stroke-linecap=\"round\" text-anchor=\"start\" stroke-width=\"1px\" font-size=\"12px\" font-style=\"normal\" fill=\"hsl(3, 64%, 65%)\" stroke=\"hsl(3, 64%, 65%)\" stroke-linejoin=\"round\" font-weight=\"normal\"><rect height=\"12\" vector-effect=\"non-scaling-stroke\" x=\"76\" y=\"420\" width=\"12\"/><g fill=\"black\" stroke=\"black\"><text x=\"92\" y=\"420\" dominant-baseline=\"hanging\" stroke=\"none\" vector-effect=\"non-scaling-stroke\">Train: Moving Average Loss</text></g></g></g></g></g></g></svg>"
      ]
     },
     "metadata": {},
     "output_type": "display_data"
    },
    {
     "name": "stdout",
     "output_type": "stream",
     "text": [
      "\tMean Loss (#loss): 0.147\n",
      "\tMean Accuracy (#acc): 95.38%\n",
      "Results on test-eval:\n",
      "\tMean Loss (#loss): 0.429\n",
      "\tMean Accuracy (#acc): 84.81%\n"
     ]
    }
   ],
   "source": [
    "var (\n",
    "\tflagMaxAttLen           = flag.Int(\"max_att_len\", 200, \"Maximum attention length: input will be split in ranges of this size.\")\n",
    "\tflagNumAttHeads         = flag.Int(\"att_heads\", 2, \"Number of attention heads, if --model=transformer.\")\n",
    "\tflagNumAttLayers        = flag.Int(\"att_layers\", 1, \"Number of stacked attention layers, if --model=transformer.\")\n",
    "\tflagAttKeyQueryEmbedDim = flag.Int(\"att_key_dim\", 8, \"Dimension of the Key/Query attention embedding.\")    \n",
    ")\n",
    "\n",
    "// TransformerGraph is the part of the model that takes the word/token embeddings to a tranformed\n",
    "// embedding through attention ready to be pooled and read out.\n",
    "func TransformerGraph(ctx *context.Context, input, embed, mask *Node) *Node {\n",
    "    var newEmbed *Node\n",
    "    if *flagMaxAttLen >= *flagMaxLen {\n",
    "        // One transformer window covers the whole length, which makes it trivial.\n",
    "        newEmbed = TransformerLayers(ctx.In(\"transformer\"), embed, mask)\n",
    "        embed = Add(embed, newEmbed)\n",
    "        return embed\n",
    "    }\n",
    "\n",
    "    // Split embedding in multiple split embeddings and apply transformer in each of them.\n",
    "    attLen := *flagMaxAttLen\n",
    "    sequenceFrom := 0\n",
    "    for {\n",
    "        // x.shape = [batchSize, sequence, embedding]\n",
    "        sequenceTo := sequenceFrom + attLen\n",
    "        if sequenceTo > *flagMaxLen {\n",
    "            sequenceTo = *flagMaxLen\n",
    "            sequenceFrom = sequenceTo - attLen\n",
    "        }\n",
    "        // part = x[:, sequenceFrom:sequenceTo, :]\n",
    "        residual := Slice(embed, AxisRange(), AxisRange(sequenceFrom, sequenceTo), AxisRange())\n",
    "        partMask := Slice(mask, AxisRange(), AxisRange(sequenceFrom, sequenceTo))\n",
    "        // Reuse \"transformer\" scope.\n",
    "        part := TransformerLayers(ctx.In(\"transformer\").Checked(false), residual, partMask)\n",
    "        part = Add(residual, part)\n",
    "        if newEmbed == nil {\n",
    "            newEmbed = part\n",
    "        } else {\n",
    "            newEmbed = Add(newEmbed, part)\n",
    "        }\n",
    "\n",
    "        if sequenceTo == *flagMaxLen {\n",
    "            // Reached end of parts.\n",
    "            break\n",
    "        }\n",
    "        sequenceFrom += attLen - 20 // Attention window overlap 10 tokens among themselves.\n",
    "    }\n",
    "    embed = newEmbed // Notice shape changed to `[batchSize, maxAttLen, embedDim]`\n",
    "    return embed\n",
    "}\n",
    "\n",
    "// TransformerLayers builds the stacked transformer layers for the model.\n",
    "func TransformerLayers(ctx *context.Context, embed, mask *Node) *Node {\n",
    "    g := embed.Graph()\n",
    "    shape := embed.Shape()\n",
    "    embedDim := shape.Dimensions[2]\n",
    "\n",
    "    var dropoutRate *Node\n",
    "    if *flagDropoutRate > 0 {\n",
    "        dropoutRate = ConstAsDType(g, DType, *flagDropoutRate)\n",
    "    }\n",
    "\n",
    "    // Create positional embedding variable: it is 1 in every axis, but for the\n",
    "    // sequence dimension -- there will be one embedding per position.\n",
    "    // Shape: [1, maxLen, embedDim]\n",
    "    posEmbedShape := shape.Copy()\n",
    "    posEmbedShape.Dimensions[0] = 1\n",
    "    posEmbedVar := ctx.VariableWithShape(\"positional\", posEmbedShape)\n",
    "    posEmbed := posEmbedVar.ValueGraph(g)\n",
    "    embed = Add(embed, posEmbed) // Just add the embeddings, seems to work well.\n",
    "\n",
    "    // Add the requested number of attention layers.\n",
    "    for ii := 0; ii < *flagNumAttLayers; ii++ {\n",
    "        // Each layer in its own scope.\n",
    "        ctx := ctx.In(fmt.Sprintf(\"AttLayer_%d\", ii))\n",
    "        residual := embed\n",
    "        embed = layers.MultiHeadAttention(ctx, embed, embed, embed, *flagNumAttHeads, *flagAttKeyQueryEmbedDim).\n",
    "            SetKeyMask(mask).SetQueryMask(mask).\n",
    "            SetOutputDim(embedDim).\n",
    "            SetValueHeadDim(embedDim).Done()\n",
    "        if *flagDropoutRate > 0 {\n",
    "            embed = layers.Dropout(ctx.In(\"dropout_1\"), embed, dropoutRate)\n",
    "        }\n",
    "        embed = Normalize(ctx.In(\"normalization_1\"), embed)\n",
    "        attentionOutput := embed\n",
    "\n",
    "        // Transformers recipe: 2 dense layers after attention.\n",
    "        embed = layers.Dense(ctx.In(\"ffn_1\"), embed, true, embedDim)\n",
    "        embed = Tanh(embed)\n",
    "        embed = layers.Dense(ctx.In(\"ffn_2\"), embed, true, embedDim)\n",
    "        if *flagDropoutRate > 0 {\n",
    "            embed = layers.Dropout(ctx.In(\"dropout_1\"), embed, dropoutRate)\n",
    "        }\n",
    "        embed = Add(embed, attentionOutput)\n",
    "        embed = Normalize(ctx.In(\"normalization_2\"), embed)\n",
    "\n",
    "        // Residual connection: not part of the usual transfomer layer ...\n",
    "        if ii > 0 {\n",
    "            embed = Add(residual, embed)\n",
    "        }\n",
    "    }\n",
    "    return embed\n",
    "}\n",
    "\n",
    "%% --model=transformer --steps=3000 --batch=100 --optimizer=adamw --max_len=200 --max_att_len=200 --att_heads=4 --att_layers=3 --att_key_dim=32 --max_vocab=10000\n",
    "trainModel()"
   ]
  }
 ],
 "metadata": {
  "kernelspec": {
   "display_name": "Go (gonb)",
   "language": "go",
   "name": "gonb"
  },
  "language_info": {
   "codemirror_mode": "",
   "file_extension": ".go",
   "mimetype": "",
   "name": "go",
   "nbconvert_exporter": "",
   "pygments_lexer": "",
   "version": "go1.20.1"
  }
 },
 "nbformat": 4,
 "nbformat_minor": 5
}
