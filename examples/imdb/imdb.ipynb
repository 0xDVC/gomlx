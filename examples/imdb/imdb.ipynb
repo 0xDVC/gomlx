{
 "cells": [
  {
   "cell_type": "markdown",
   "id": "f431da81-4d94-4fd1-8a51-952ef824cb46",
   "metadata": {},
   "source": [
    "# IMDB Movie Review Dataset\n",
    "\n",
    "This is a library to download and parse the [IMDB's Large Movie Review Dataset](http://ai.stanford.edu/~amaas/data/sentiment/) dataset and a demo of a transformer based model. The dataset has 25K training, and 25K test dataset, plus 50K unlabeled examples.\n",
    "\n",
    "It's inspired on [Keras' Text classification with Transformer](https://keras.io/examples/nlp/text_classification_with_transformer/) demo.\n",
    "\n",
    "\n"
   ]
  },
  {
   "cell_type": "code",
   "execution_count": 1,
   "id": "32600e05-745d-4c38-999a-3b96ca1502cc",
   "metadata": {
    "tags": []
   },
   "outputs": [],
   "source": [
    "!*go mod edit -replace gomlx=${HOME}/Projects/gomlx"
   ]
  },
  {
   "cell_type": "markdown",
   "id": "443e9e56-ef12-4d04-b7bb-99478fa2b662",
   "metadata": {},
   "source": [
    "## Data Preparation\n",
    "\n",
    "### Downloading data files\n",
    "\n",
    "To download, uncompress and untar to the local directory, simply do the following. Notice if it's already downloaded in the given `--data` directory, it returns immediately."
   ]
  },
  {
   "cell_type": "code",
   "execution_count": 2,
   "id": "e98ca191-0d4b-4e7c-ab24-ded6991b9671",
   "metadata": {
    "tags": []
   },
   "outputs": [
    {
     "name": "stdout",
     "output_type": "stream",
     "text": [
      "> Loading previously generated preprocessed binary file.\n",
      "Loaded data from \"aclImdb.bin\": 100000 examples, 141088 unique tokens, 23727054 tokens in total.\n"
     ]
    }
   ],
   "source": [
    "import (\n",
    "    \"github.com/gomlx/gomlx/examples/imdb\"\n",
    "    \"github.com/gomlx/gomlx/ml/data\"\n",
    ")\n",
    "\n",
    "var flagDataDir = flag.String(\"data\", \"~/tmp/imdb\", \"Directory to cache downloaded and generated dataset files.\")\n",
    "\n",
    "func AssertNoError(err error) {\n",
    "    if err != nil {\n",
    "        log.Fatalf(\"Failed: %+v\", err)\n",
    "    }\n",
    "}\n",
    "\n",
    "func AssertDownloaded() {\n",
    "    *flagDataDir = data.ReplaceTildeInDir(*flagDataDir)\n",
    "    if !data.FileExists(*flagDataDir) {\n",
    "        AssertNoError(os.MkdirAll(*flagDataDir, 0777))\n",
    "    }\n",
    "\n",
    "    AssertNoError(imdb.Download(*flagDataDir))\n",
    "}\n",
    "\n",
    "%%\n",
    "AssertDownloaded()"
   ]
  },
  {
   "cell_type": "markdown",
   "id": "41a415e2-8a29-4aeb-8809-b8d6b7ede5ad",
   "metadata": {},
   "source": [
    "### Sampling some examples\n",
    "\n",
    "It creates a small dataset and print out some random examples.\n",
    "\n",
    "It also defines the `DType`, used for all internal representations of the model, and the flag `--max_len` that defines the maximum number of tokens used per observation. This will beused in the modeling later."
   ]
  },
  {
   "cell_type": "code",
   "execution_count": 3,
   "id": "f2bf2aab-7d50-4110-a8e3-bbee08063521",
   "metadata": {
    "tags": []
   },
   "outputs": [
    {
     "name": "stdout",
     "output_type": "stream",
     "text": [
      "> Loading previously generated preprocessed binary file.\n",
      "Loaded data from \"aclImdb.bin\": 100000 examples, 141088 unique tokens, 23727054 tokens in total.\n",
      "\n",
      "label=0, input=\"that is the case it could have been done better much better this film does not know what it wants to be a drama a comedy a teenage wasteland film or a gamut of other things i say this not as a single genre oriented person but as a person who loves multi genre pieces such as those mastered by stanley kubrick the reason i feel it does not work for garden state is because rather than blending the genres together it jumps around one scene is one genre the next another and back again so on i have heard many people tell me to cut zach braff some slack after all it was his first feature film and he debuted as director writer and lead actor impressive as it was a first film i should think that with as much money as he has he could do better there have been much better first time feature film directors michel gondry human nature david gordon green george washington maybe if he stuck to writing or directing or acting it would have been better zach braff is a talented performer maybe his second attempt won t be so tedious and disjointed\"\n",
      "\n",
      "label=0, input=\"<START> it s a long time ago i saw this movie and still it s one of the worst i ve ever seen i like lots of kind of movies sci fi action drama thrillers and sometimes even horror not a combination of two this could have been a wonderful movie but they all blew it up i didn t want to see this movie but friends of mine insisted to watch it i didn t know it was such a crap i loved the first part in which clooney and tarantino drove through texas killing everybody on their way especially the scene with the liquor shooting was excellent but at its turning point in the titty twister bar everything changed stupid vampires took over the place and what could have been a perfect gangster movie became a stupid horror movie like nightmare on if you like horror watch a real horror movie and when you love thrillers don t watch it at all you will be very disappointed at the end\"\n",
      "\n",
      "label=1, input=\"<START> i read the other comments here about this movie before watching it if you ve read them you will know that they are almost all negative i really don t understand that i admit that it is far too long it needs about a half hour cut out to speed it up a bit the music is often inappropriate but strong performances by ford and thomas are indeed enough to carry this with all his fame as a movie star i d forgotten that harrison ford really can act this role as a man who has defined himself based upon a lie is remarkable i find it completely believable that he wants all the details he can get so he can see what was real and what was deception thomas is always wonderful and this is no exception her initial denial which leads to confusion and then to inner calm is tremendous this movie is never going to be on anybody s list of great flicks but it isn t that bad i m glad that i waited to see it on video but it is worth the 3 or 4\"\n",
      "\n"
     ]
    }
   ],
   "source": [
    "import (\n",
    "    \"github.com/gomlx/gomlx/examples/imdb\"\n",
    ")\n",
    "\n",
    "// DType used for the models.\n",
    "const DType = shapes.Float32\n",
    "\n",
    "var (\n",
    "    flagMaxLen              = flag.Int(\"max_len\", 200, \"Maximum number of tokens to take from observation.\")\n",
    ")\n",
    "\n",
    "func Sample() {\n",
    "    ds := imdb.NewDataset(\"Test\", imdb.Test, *flagMaxLen, 3, DType, true, nil)\n",
    "    _, inputs, labels, err := ds.Yield()\n",
    "    AssertNoError(err)\n",
    "    labelsData := shapes.CastAsDType(labels[0].Local().Data(), shapes.Int64).([]int)\n",
    "    for ii := 0; ii < 3; ii++ {\n",
    "        fmt.Printf(\"\\nlabel=%v, input=%q\\n\", labelsData[ii], imdb.InputToString(inputs[0], ii))\n",
    "    }\n",
    "    fmt.Println()\n",
    "}\n",
    "\n",
    "%% --max_len=200\n",
    "AssertDownloaded()\n",
    "Sample()\n"
   ]
  },
  {
   "cell_type": "markdown",
   "id": "3cb8ca01-2c8f-4cd8-a644-850e928f64e1",
   "metadata": {},
   "source": [
    "## Training\n",
    "\n",
    "We will create 3 different types of models for this demo: **Bag of Words** (or simply **bow**), **CNNs** and **Transformers**.\n",
    "\n",
    "### Model Support\n",
    "\n",
    "We first define here a few componens shared among all models:\n",
    "\n",
    "* `Normalize` according to flag, works for sequence nodes (shaped `[batch_size, sequence_len, embedding_dim]`) and feature nodes (shaped `[batch_size, embedding_dim]`).\n",
    "* `EmbedTokensGraph` that embeds the tokens, before being consumed by the models.\n",
    "* `ReadoutGraph` that takes the embeddings after they are pooled on the sequence axis (so shaped `[batch_size, embedding_dim]` it adds a FNN (feed-forward neural network) with a few layers and convert to the final logits.\n",
    "\n",
    "We also define the corresponding hyperparameters."
   ]
  },
  {
   "cell_type": "code",
   "execution_count": 6,
   "id": "ad068f5e-46d9-411b-823c-0eae905da41c",
   "metadata": {
    "tags": []
   },
   "outputs": [],
   "source": [
    "import (\n",
    "    . \"github.com/gomlx/gomlx/graph\"\n",
    "    \n",
    "    \"github.com/gomlx/gomlx/ml/context\"\n",
    "    \"github.com/gomlx/gomlx/types/shapes\"\n",
    ")\n",
    "\n",
    "var (\n",
    "    flagNormalization    = flag.String(\"norm\", \"layer\", \"Type of normalization to use. Valid values are \\\"none\\\", \\\"batch\\\", \\\"layer\\\".\")\n",
    "    flagDropoutRate      = flag.Float64(\"dropout\", 0.15, \"Dropout rate\")\n",
    "    flagMaxVocab            = flag.Int(\"max_vocab\", 20000, \"Top most frequent words to consider, the rest is considered unknown.\")\n",
    "    flagTokenEmbeddingSize  = flag.Int(\"token_embed\", 32, \"Size of token embedding table. There are ~140K unique tokens\")\n",
    "    flagNumHiddenLayers     = flag.Int(\"hidden_layers\", 2, \"Number of output hidden layers, stacked with residual connection.\")\n",
    "    flagNumNodes            = flag.Int(\"num_nodes\", 32, \"Number of nodes in output hidden layers.\")\n",
    "    flagWordDropoutRate  = flag.Float64(\"word_dropout\", 0, \"Dropout rate for whole words of the input\")\n",
    ")\n",
    "\n",
    "// Normalize x according to --norm flag. Works for sequence nodes (rank-3) or plain feature nodes (rank-2).\n",
    "func Normalize(ctx *context.Context, x *Node) *Node {\n",
    "    switch *flagNormalization {\n",
    "    case \"layer\":\n",
    "        if x.Rank() == 3 {\n",
    "            // Normalize sequence.\n",
    "            return layers.LayerNormalization(ctx, x, -2, -1).\n",
    "                LearnedOffset(true).LearnedScale(true).ScaleNormalization(true).Done()\n",
    "        } else {\n",
    "            // Normalize features only.\n",
    "            return layers.LayerNormalization(ctx, x, -1).Done()\n",
    "        }\n",
    "    case \"batch\":\n",
    "        return layers.BatchNormalization(ctx, x, -1).Done()\n",
    "    case \"none\":\n",
    "        return x\n",
    "    }\n",
    "    g := x.Graph()\n",
    "    g.SetErrorf(\"invalid normalization selected %q -- valid values are batch, layer, none\", *flagNormalization)\n",
    "    return g.InvalidNode()\n",
    "}\n",
    "\n",
    "// EmbedTokensGraph creates embeddings for tokens and returns them along with the mask of used tokens --\n",
    "// set to false where padding was used.\n",
    "func EmbedTokensGraph(ctx *context.Context, tokens *Node) (embed, mask *Node) {\n",
    "    g := tokens.Graph()\n",
    "    mask = NotEqual(tokens, ZerosLike(tokens)) // Mask of tokens actually used.\n",
    "\n",
    "    // The token ids are indexed by frequency. Truncate to the vocabulary size considered, replacing\n",
    "    // ids higher than that by 0.\n",
    "    maxVocab := len(imdb.LoadedVocab.ListEntries)\n",
    "    if maxVocab > *flagMaxVocab {\n",
    "        maxVocab = *flagMaxVocab\n",
    "    }\n",
    "\n",
    "    // Limits tokens to the maxVocab.\n",
    "    tokens = Where(GreaterOrEqual(tokens, Const(g, maxVocab)),\n",
    "        MulScalar(OnesLike(tokens), float64(maxVocab-1)),\n",
    "        tokens)\n",
    "\n",
    "    // Embed tokens: shape=[batchSize, maxLen, embedDim]\n",
    "    embed = layers.Embedding(ctx.In(\"tokens\"), tokens, DType, maxVocab, *flagTokenEmbeddingSize)\n",
    "    embed = Where(mask, embed, ZerosLike(embed))\n",
    "    \n",
    "    if *flagWordDropoutRate > 0 {\n",
    "        dims := embed.Shape().Dimensions[:len(embed.Shape().Dimensions)-1]\n",
    "        dropoutMask := Ones(g, shapes.Make(DType, dims...))\n",
    "        dropoutMask = layers.Dropout(ctx, dropoutMask, ConstAsDType(g, DType, *flagWordDropoutRate))\n",
    "        dropoutMask = ExpandDims(dropoutMask, -1)\n",
    "        embed = Mul(embed, dropoutMask)\n",
    "    }    \n",
    "    return\n",
    "}\n",
    "\n",
    "// Activation function used for models.\n",
    "func Activation(x *Node) *Node {\n",
    "    return layers.Relu(x)\n",
    "}\n",
    "\n",
    "// ReadoutGraph takes the embeddings after they have been pooled on the sequence axis, so shaped `[batch_size, embed_dim]`\n",
    "// adds a FNN on top and readout the final logit.\n",
    "func ReadoutGraph(ctx *context.Context, embed *Node) *Node {\n",
    "    g := embed.Graph()\n",
    "    if !g.Ok() {\n",
    "        return g.InvalidNode()\n",
    "    }\n",
    "    var dropoutRate *Node\n",
    "    if *flagDropoutRate > 0 {\n",
    "        dropoutRate = ConstAsDType(g, DType, *flagDropoutRate)\n",
    "    }\n",
    "\n",
    "    // Output layers.\n",
    "    for ii := 0; ii < *flagNumHiddenLayers; ii++ {\n",
    "        ctx := ctx.In(fmt.Sprintf(\"output_dense_%d\", ii))\n",
    "        residual := embed\n",
    "        if *flagDropoutRate > 0 {\n",
    "            embed = layers.Dropout(ctx, embed, dropoutRate)\n",
    "        }\n",
    "        //embed = Tanh(embed)\n",
    "        embed = Activation(embed)\n",
    "        embed = layers.DenseWithBias(ctx, embed, *flagNumNodes)\n",
    "        embed = Normalize(ctx, embed)\n",
    "        if ii > 0 {\n",
    "            // Add residual connection.\n",
    "            embed = Add(embed, residual)\n",
    "        }\n",
    "    }\n",
    "\n",
    "    // Final embed layer with dimension 1.\n",
    "    {\n",
    "        ctx := ctx.In(\"readout\")\n",
    "        if *flagDropoutRate > 0 {\n",
    "            embed = layers.Dropout(ctx, embed, dropoutRate)\n",
    "        }\n",
    "        embed = Activation(embed)\n",
    "        embed = layers.DenseWithBias(ctx, embed, 1)\n",
    "    }\n",
    "    return embed\n",
    "}"
   ]
  },
  {
   "cell_type": "markdown",
   "id": "9b9eb816-6caf-46ea-805c-bd375834c55b",
   "metadata": {},
   "source": [
    "### Bag Of Words Model\n",
    "\n",
    "This is the simples model we are going to train. It's basically a no-op that connects the embedding table we defined above with the `ReadoutGraph` FNN afterwards.\n",
    "\n",
    "We define here placeholders for our future *CNN* and *Transformer* models.\n",
    "\n",
    "Finally we test that the shape is correct. To actually train and evaluate we still need to define the training loop, what we do in the following section."
   ]
  },
  {
   "cell_type": "code",
   "execution_count": 7,
   "id": "50cd517a-f592-4319-a9fd-acb8ab78124c",
   "metadata": {
    "tags": []
   },
   "outputs": [
    {
     "name": "stdout",
     "output_type": "stream",
     "text": [
      "> Loading previously generated preprocessed binary file.\n",
      "Loaded data from \"aclImdb.bin\": 100000 examples, 141088 unique tokens, 23727054 tokens in total.\n",
      "Logits shape for batch_size=3: (Float32)[3 1]\n"
     ]
    }
   ],
   "source": [
    "import (\n",
    "    . \"github.com/gomlx/gomlx/graph\"\n",
    "    \n",
    "    \"github.com/gomlx/gomlx/ml/context\"\n",
    ")\n",
    "\n",
    "var (\n",
    "    // ML Manager creation flags.\n",
    "    flagNumThreads  = flag.Int(\"num_threads\", -1, \"Number of threads. Leave as -1 to use as many as there are cores.\")\n",
    "    flagNumReplicas = flag.Int(\"num_replicas\", 1, \"Number of replicas.\")\n",
    "    flagPlatform    = flag.String(\"platform\", \"\", \"Platform to use, if empty uses the default one.\")\n",
    "\n",
    "    // Model type.\n",
    "    flagModel            = flag.String(\"model\", \"transformer\", \"Model type: bow or transformer.\")\n",
    ")\n",
    "\n",
    "// ModelGraph builds the model for our demo. It returns the logits, not the predictions, which works with most losses.\n",
    "func ModelGraph(ctx *context.Context, spec any, inputs []*Node) []*Node {\n",
    "\t_ = spec // Not used.\n",
    "\ttokens := inputs[0]\n",
    "\tg := tokens.Graph()\n",
    "\tif !g.Ok() {\n",
    "\t\treturn nil\n",
    "\t}\n",
    "\tembed, mask := EmbedTokensGraph(ctx, tokens)\n",
    "\n",
    "\t// Normalization function.\n",
    "\tif *flagModel == \"bow\" {\n",
    "\t\t// Bag-Of-Words model doesn't do anything, it's just the embedding table for each token.\n",
    "\t} else if *flagModel == \"cnn\" {\n",
    "\t\tembed = Conv1DGraph(ctx, embed, mask)\n",
    "\t} else if *flagModel == \"transformer\" {\n",
    "\t\tembed = TransformerGraph(ctx, tokens, embed, mask)\n",
    "\t} else {\n",
    "\t\tg.SetErrorf(\"unknown model type %q, only types \\\"bow\\\", \\\"cnn\\\" and \\\"transformer\\\" are implemented\", *flagModel)\n",
    "\t\treturn nil\n",
    "\t}\n",
    "\n",
    "\t// Sum-up per-token embeddings and do a FNN on the output. From now on, the dimensions are `[batch_dim, embed_dim]`\n",
    "\t// Notice we are not using mask.\n",
    "\tembed = ReduceMax(embed, 1)\n",
    "\tlogits := ReadoutGraph(ctx, embed)\n",
    "\treturn []*Node{logits}\n",
    "}\n",
    "\n",
    "func Conv1DGraph(ctx *context.Context, embed, mask *Node) *Node {\n",
    "    log.Panic(\"Not implemented.\")\n",
    "    return nil\n",
    "}\n",
    "\n",
    "func TransformerGraph(ctx *context.Context, tokens, embed, mask *Node) *Node {\n",
    "    log.Panic(\"Not implemented.\")\n",
    "    return nil\n",
    "}\n",
    "\n",
    "%% --model=bow --platform=Host\n",
    "\n",
    "// Let's test that the logits are coming out with the right shape: we want [batch_size, 10], since there are 10 classes.\n",
    "AssertDownloaded()\n",
    "manager := BuildManager().NumThreads(*flagNumThreads).NumReplicas(*flagNumReplicas).Platform(*flagPlatform).MustDone()\n",
    "ds := imdb.NewDataset(\"Test\", imdb.Test, *flagMaxLen, 3, DType, true, nil)\n",
    "_, inputs, _, err := ds.Yield()\n",
    "AssertNoError(err)\n",
    "\n",
    "g := manager.NewGraph(\"test\")\n",
    "ctx := context.NewContext(manager)\n",
    "logits := ModelGraph(ctx, nil, []*Node{Const(g, inputs[0])})\n",
    "AssertNoError(g.Error())\n",
    "AssertNoError(ctx.Error())\n",
    "fmt.Printf(\"Logits shape for batch_size=%d: %s\\n\", 3, logits[0].Shape())"
   ]
  },
  {
   "cell_type": "markdown",
   "id": "f1227119-6990-488b-83fc-f2551653ae24",
   "metadata": {},
   "source": [
    "### Training Loop\n",
    "\n",
    "Training loop, with the usual bells and whistles. We also do a quick test with 100 steps to check things are working."
   ]
  },
  {
   "cell_type": "code",
   "execution_count": 8,
   "id": "71243cc9-3831-4f6e-86e2-f2e55dce97b3",
   "metadata": {
    "tags": []
   },
   "outputs": [
    {
     "name": "stdout",
     "output_type": "stream",
     "text": [
      "> Loading previously generated preprocessed binary file.\n",
      "Loaded data from \"aclImdb.bin\": 100000 examples, 141088 unique tokens, 23727054 tokens in total.\n",
      "Platform: Host\n",
      "Training (100 steps):  100% [\u001b[32m=\u001b[0m\u001b[32m=\u001b[0m\u001b[32m=\u001b[0m\u001b[32m=\u001b[0m\u001b[32m=\u001b[0m\u001b[32m=\u001b[0m\u001b[32m=\u001b[0m\u001b[32m=\u001b[0m\u001b[32m=\u001b[0m\u001b[32m=\u001b[0m\u001b[32m=\u001b[0m\u001b[32m=\u001b[0m\u001b[32m=\u001b[0m\u001b[32m=\u001b[0m\u001b[32m=\u001b[0m\u001b[32m=\u001b[0m\u001b[32m=\u001b[0m\u001b[32m=\u001b[0m\u001b[32m=\u001b[0m\u001b[32m=\u001b[0m\u001b[32m=\u001b[0m\u001b[32m=\u001b[0m\u001b[32m=\u001b[0m\u001b[32m=\u001b[0m\u001b[32m=\u001b[0m\u001b[32m=\u001b[0m\u001b[32m=\u001b[0m\u001b[32m=\u001b[0m\u001b[32m=\u001b[0m\u001b[32m=\u001b[0m\u001b[32m=\u001b[0m\u001b[32m=\u001b[0m\u001b[32m=\u001b[0m\u001b[32m=\u001b[0m\u001b[32m=\u001b[0m\u001b[32m=\u001b[0m\u001b[32m=\u001b[0m\u001b[32m=\u001b[0m\u001b[32m=\u001b[0m\u001b[32m=\u001b[0m] (141 steps/s)\u001b[0m [loss=0.674] [~loss=0.685] [~acc=57.16%]        \n",
      "\n",
      "Results on train-eval:\n",
      "\tMean Loss (#loss): 0.702\n",
      "\tMean Accuracy (#acc): 49.99%\n",
      "Results on test-eval:\n",
      "\tMean Loss (#loss): 0.702\n",
      "\tMean Accuracy (#acc): 50.00%\n"
     ]
    }
   ],
   "source": [
    "import (\n",
    "    . \"github.com/gomlx/gomlx/graph\"\n",
    "    \n",
    "    \"github.com/gomlx/gomlx/ml/context\"\n",
    "    \"github.com/gomlx/gomlx/ml/train\"\n",
    ")\n",
    "\n",
    "var (\n",
    "    flagOptimizer        = flag.String(\"optimizer\", \"adam\", \"Optimizer, options: adam or sgd.\")\n",
    "    flagNumSteps         = flag.Int(\"steps\", 5000, \"Number of gradient descent steps to perform\")\n",
    "    flagBatchSize        = flag.Int(\"batch\", 32, \"Batch size for training\")\n",
    "    flagLearningRate     = flag.Float64(\"learning_rate\", 0.0001, \"Initial learning rate.\")\n",
    "    flagL2Regularization = flag.Float64(\"l2_reg\", 0, \"L2 regularization on kernels. It doesn't interact well with --batch_norm or with --optimizer=adam.\")\n",
    "    \n",
    "    flagCheckpoint       = flag.String(\"checkpoint\", \"\", \"Directory save and load checkpoints from. If left empty, no checkpoints are created.\")\n",
    "    flagCheckpointKeep   = flag.Int(\"checkpoint_keep\", 10, \"Number of checkpoints to keep, if --checkpoint is set.\")\n",
    "\n",
    "    // Training UI:\n",
    "    flagUseProgressBar = flag.Bool(\"bar\", true, \"If to display a progress bar during training\")\n",
    "    flagNumPlotPoints  = flag.Int(\"plot_points\", 50, \"Number points to plot.\")\n",
    ")\n",
    "\n",
    "func trainModel() {\n",
    "    // Make sure data is downloaded.\n",
    "    AssertDownloaded()\n",
    "\n",
    "    // Manager handles creation of ML computation graphs, accelerator resources, etc.\n",
    "    manager := BuildManager().NumThreads(*flagNumThreads).NumReplicas(*flagNumReplicas).Platform(*flagPlatform).MustDone()\n",
    "    fmt.Printf(\"Platform: %s\\n\", manager.Platform())\n",
    "\n",
    "    // Datasets.\n",
    "    var trainDS, trainEvalDS, testEvalDS train.Dataset\n",
    "    trainDS = imdb.NewDataset(\"train\", imdb.Train, *flagMaxLen, *flagBatchSize, DType, true, nil)\n",
    "    trainEvalDS = imdb.NewDataset(\"train-eval\", imdb.Train, *flagMaxLen, *flagBatchSize, DType, false, nil)\n",
    "    testEvalDS = imdb.NewDataset(\"test-eval\", imdb.Test, *flagMaxLen, *flagBatchSize, DType, false, nil)\n",
    "\n",
    "    // Parallelize generation of batches, to prevent the dataset from being a bottleneck to the acceleartor (GPU/TPU).\n",
    "    trainDS = data.NewParallelDataset(trainDS, 0, 0)\n",
    "    trainEvalDS = data.NewParallelDataset(trainEvalDS, 0, 0)\n",
    "    testEvalDS = data.NewParallelDataset(testEvalDS, 0, 0)\n",
    "\n",
    "    // Metrics we are interested.\n",
    "    meanAccuracyMetric := metrics.NewMeanBinaryLogitsAccuracy(\"Mean Accuracy\", \"#acc\")\n",
    "    movingAccuracyMetric := metrics.NewMovingAverageBinaryLogitsAccuracy(\"Moving Average Accuracy\", \"~acc\", 0.01)\n",
    "\n",
    "    // Context holds the variables and hyperparameters for the model.\n",
    "    ctx := context.NewContext(manager)\n",
    "    ctx.SetParam(optimizers.LearningRateKey, *flagLearningRate)\n",
    "    ctx.SetParam(layers.L2RegularizationKey, *flagL2Regularization)\n",
    "\n",
    "    // Checkpoints saving.\n",
    "    var checkpoint *checkpoints.Handler\n",
    "    if *flagCheckpoint != \"\" {\n",
    "        checkpointPath := data.ReplaceTildeInDir(*flagCheckpoint)\n",
    "        if !path.IsAbs(checkpointPath) {\n",
    "            checkpointPath = path.Join(*flagDataDir, checkpointPath)\n",
    "        }\n",
    "        var err error\n",
    "        checkpoint, err = checkpoints.Build(ctx).Dir(checkpointPath).Keep(*flagCheckpointKeep).Done()\n",
    "        AssertNoError(err)\n",
    "    }\n",
    "\n",
    "    // Create a train.Trainer: this object will orchestrate running the model, feeding\n",
    "    // results to the optimizer, evaluating the metrics, etc. (all happens in trainer.TrainStep)\n",
    "    loss := losses.BinaryCrossentropyLogits\n",
    "    trainer := train.NewTrainer(\n",
    "        manager, ctx, ModelGraph, loss,\n",
    "        optimizers.MustOptimizerByName(*flagOptimizer),\n",
    "        []metrics.Interface{movingAccuracyMetric}, // trainMetrics\n",
    "        []metrics.Interface{meanAccuracyMetric})   // evalMetrics\n",
    "\n",
    "    // Use standard training loop.\n",
    "    loop := train.NewLoop(trainer)\n",
    "    if *flagUseProgressBar {\n",
    "        commandline.AttachProgressBar(loop) // Attaches a progress bar to the loop.\n",
    "    }\n",
    "\n",
    "    if checkpoint != nil {\n",
    "        train.NTimesDuringLoop(loop, 2*(*flagCheckpointKeep), \"checkpointing\", 100, func(_ *train.Loop, _ []tensor.Tensor) error {\n",
    "            return checkpoint.Save()\n",
    "        })\n",
    "    }\n",
    "\n",
    "    // Attach a margaid plots.\n",
    "    if *flagNumPlotPoints > 0 {\n",
    "        margaid.New(1024, 400, trainEvalDS, testEvalDS).DynamicUpdates().Attach(loop, *flagNumPlotPoints)\n",
    "    }\n",
    "\n",
    "    // Loop for given number of steps.\n",
    "    _, err := loop.RunSteps(trainDS, *flagNumSteps)\n",
    "    AssertNoError(err)\n",
    "\n",
    "    // Report final evaluation.\n",
    "    fmt.Println()\n",
    "    err = commandline.ReportEval(trainer, trainEvalDS, testEvalDS)\n",
    "    AssertNoError(err)\n",
    "}\n",
    "\n",
    "%% --platform=Host --model=bow --steps=100 --plot_points=0\n",
    "trainModel()\n"
   ]
  },
  {
   "cell_type": "markdown",
   "id": "9351949f-53a5-4354-a69a-59348a48915a",
   "metadata": {},
   "source": [
    "### Training Bag-Of-Words (\"bow\") Model\n",
    "\n",
    "A proper run of our *bow* model."
   ]
  },
  {
   "cell_type": "code",
   "execution_count": 9,
   "id": "8f9eb10c-e668-40fb-9725-51ac465cc4cf",
   "metadata": {
    "tags": []
   },
   "outputs": [
    {
     "name": "stdout",
     "output_type": "stream",
     "text": [
      "> Loading previously generated preprocessed binary file.\n",
      "Loaded data from \"aclImdb.bin\": 100000 examples, 141088 unique tokens, 23727054 tokens in total.\n",
      "Platform: CUDA\n"
     ]
    },
    {
     "data": {
      "text/html": []
     },
     "metadata": {},
     "output_type": "display_data"
    },
    {
     "name": "stdout",
     "output_type": "stream",
     "text": [
      "Training (20000 steps):  100% [\u001b[32m=\u001b[0m\u001b[32m=\u001b[0m\u001b[32m=\u001b[0m\u001b[32m=\u001b[0m\u001b[32m=\u001b[0m\u001b[32m=\u001b[0m\u001b[32m=\u001b[0m\u001b[32m=\u001b[0m\u001b[32m=\u001b[0m\u001b[32m=\u001b[0m\u001b[32m=\u001b[0m\u001b[32m=\u001b[0m\u001b[32m=\u001b[0m\u001b[32m=\u001b[0m\u001b[32m=\u001b[0m\u001b[32m=\u001b[0m\u001b[32m=\u001b[0m\u001b[32m=\u001b[0m\u001b[32m=\u001b[0m\u001b[32m=\u001b[0m\u001b[32m=\u001b[0m\u001b[32m=\u001b[0m\u001b[32m=\u001b[0m\u001b[32m=\u001b[0m\u001b[32m=\u001b[0m\u001b[32m=\u001b[0m\u001b[32m=\u001b[0m\u001b[32m=\u001b[0m\u001b[32m=\u001b[0m\u001b[32m=\u001b[0m\u001b[32m=\u001b[0m\u001b[32m=\u001b[0m\u001b[32m=\u001b[0m\u001b[32m=\u001b[0m\u001b[32m=\u001b[0m\u001b[32m=\u001b[0m\u001b[32m=\u001b[0m\u001b[32m=\u001b[0m\u001b[32m=\u001b[0m\u001b[32m=\u001b[0m] (701 steps/s)\u001b[0m [loss=0.157] [~loss=0.231] [~acc=91.06%]        \n"
     ]
    },
    {
     "data": {
      "text/html": [
       "<svg width=\"1024\" height=\"454\" viewbox=\"0 0 1024 400\" style=\"background-color:#f8f8f8\" preserveAspectRatio=\"xMidYMid meet\" xmlns=\"http://www.w3.org/2000/svg\"><defs><marker markerWidth=\"2%\" markerHeight=\"2%\" id=\"circle\" viewBox=\"0 0 10 10 \" refX=\"5\" refY=\"5\" markerUnits=\"userSpaceOnUse\"><circle fill=\"none\" stroke=\"black\" cx=\"5\" cy=\"5\" r=\"3\"/></marker><marker viewBox=\"0 0 10 10 \" refX=\"5\" refY=\"5\" markerUnits=\"userSpaceOnUse\" markerWidth=\"2%\" markerHeight=\"2%\" id=\"filled-circle\"><circle stroke=\"none\" cx=\"5\" cy=\"5\" r=\"3\" fill=\"black\"/></marker><marker refX=\"5\" refY=\"5\" markerUnits=\"userSpaceOnUse\" markerWidth=\"2%\" markerHeight=\"2%\" id=\"square\" viewBox=\"0 0 10 10 \"><rect fill=\"none\" stroke=\"black\" x=\"2\" y=\"2\" width=\"6\" height=\"6\"/></marker><marker markerWidth=\"2%\" markerHeight=\"2%\" id=\"filled-square\" viewBox=\"0 0 10 10 \" refX=\"5\" refY=\"5\" markerUnits=\"userSpaceOnUse\"><rect y=\"2\" width=\"6\" height=\"6\" fill=\"black\" stroke=\"none\" x=\"2\"/></marker></defs><g fill=\"none\" stroke-width=\"2px\" marker-mid=\"url(#square)\" marker-start=\"url(#square)\" stroke-linecap=\"round\" stroke-linejoin=\"round\" marker-end=\"url(#square)\" transform=\"translate(70 330 )scale(1 -1 )\" stroke=\"hsl(90, 47%, 65%)\"><path d=\"M1.768000e+01,5.222363e+00 L3.461121e+01,5.222363e+00 L5.158486e+01,5.334248e+00 L6.855851e+01,1.040019e+02 L8.553216e+01,1.598911e+02 L1.025058e+02,1.570944e+02 L1.194795e+02,1.595332e+02 L1.364531e+02,1.698698e+02 L1.534268e+02,1.752842e+02 L1.704004e+02,1.749262e+02 L1.873741e+02,1.823766e+02 L2.043477e+02,1.853076e+02 L2.213214e+02,1.858222e+02 L2.382950e+02,1.829360e+02 L2.552686e+02,1.893348e+02 L2.722423e+02,1.907443e+02 L2.892159e+02,1.909905e+02 L3.061896e+02,1.928027e+02 L3.231632e+02,1.867618e+02 L3.401369e+02,1.966510e+02 L3.571105e+02,1.953086e+02 L3.740842e+02,1.923552e+02 L3.910578e+02,1.981053e+02 L4.080315e+02,1.991792e+02 L4.250051e+02,1.921763e+02 L4.419788e+02,1.934963e+02 L4.589524e+02,1.954876e+02 L4.759261e+02,1.979934e+02 L4.928997e+02,1.986646e+02 L5.098734e+02,1.983066e+02 L5.268470e+02,1.962706e+02 L5.438207e+02,2.020206e+02 L5.607943e+02,1.997385e+02 L5.777680e+02,1.991345e+02 L5.947416e+02,2.016403e+02 L6.117153e+02,1.943241e+02 L6.286889e+02,1.926461e+02 L6.456626e+02,2.008796e+02 L6.626362e+02,2.006559e+02 L6.796099e+02,1.993582e+02 L6.965835e+02,1.993135e+02 L7.135572e+02,1.993135e+02 L7.305308e+02,2.015732e+02 L7.475045e+02,2.026471e+02 L7.644781e+02,2.006111e+02 L7.814518e+02,2.007677e+02 L7.984254e+02,2.018417e+02 L8.153991e+02,1.957337e+02 L8.323727e+02,1.986423e+02 L8.493464e+02,2.002755e+02 L8.663200e+02,1.998728e+02 \" vector-effect=\"non-scaling-stroke\"/></g><g marker-end=\"url(#square)\" transform=\"translate(70 330 )scale(1 -1 )\" stroke-width=\"2px\" stroke=\"hsl(301, 88%, 65%)\" marker-start=\"url(#square)\" stroke-linejoin=\"round\" marker-mid=\"url(#square)\" fill=\"none\" stroke-linecap=\"round\"><path vector-effect=\"non-scaling-stroke\" d=\"M1.768000e+01,5.200000e+00 L3.461121e+01,5.200000e+00 L5.158486e+01,5.468462e+00 L6.855851e+01,1.088122e+02 L8.553216e+01,1.683036e+02 L1.025058e+02,1.632696e+02 L1.194795e+02,1.672521e+02 L1.364531e+02,1.814817e+02 L1.534268e+02,1.893572e+02 L1.704004e+02,1.902745e+02 L1.873741e+02,1.995819e+02 L2.043477e+02,2.044594e+02 L2.213214e+02,2.046831e+02 L2.382950e+02,2.030275e+02 L2.552686e+02,2.117979e+02 L2.722423e+02,2.128942e+02 L2.892159e+02,2.142814e+02 L3.061896e+02,2.172347e+02 L3.231632e+02,2.115742e+02 L3.401369e+02,2.232085e+02 L3.571105e+02,2.224030e+02 L3.740842e+02,2.204118e+02 L3.910578e+02,2.272133e+02 L4.080315e+02,2.297639e+02 L4.250051e+02,2.224254e+02 L4.419788e+02,2.244166e+02 L4.589524e+02,2.271462e+02 L4.759261e+02,2.311735e+02 L4.928997e+02,2.333661e+02 L5.098734e+02,2.335674e+02 L5.268470e+02,2.321132e+02 L5.438207e+02,2.401005e+02 L5.607943e+02,2.383330e+02 L5.777680e+02,2.393622e+02 L5.947416e+02,2.424274e+02 L6.117153e+02,2.340149e+02 L6.286889e+02,2.325607e+02 L6.456626e+02,2.435685e+02 L6.626362e+02,2.438593e+02 L6.796099e+02,2.429867e+02 L6.965835e+02,2.456045e+02 L7.135572e+02,2.454702e+02 L7.305308e+02,2.488710e+02 L7.475045e+02,2.513097e+02 L7.644781e+02,2.490947e+02 L7.814518e+02,2.514663e+02 L7.984254e+02,2.542630e+02 L8.153991e+02,2.456940e+02 L8.323727e+02,2.508399e+02 L8.493464e+02,2.548000e+02 L8.663200e+02,2.544644e+02 \"/></g><g stroke=\"hsl(152, 76%, 65%)\" marker-start=\"url(#square)\" fill=\"none\" transform=\"translate(70 330 )scale(1 -1 )\" stroke-width=\"2px\" stroke-linecap=\"round\" stroke-linejoin=\"round\" marker-mid=\"url(#square)\" marker-end=\"url(#square)\"><path vector-effect=\"non-scaling-stroke\" d=\"M1.768000e+01,4.016994e+01 L3.461121e+01,1.412180e+01 L5.158486e+01,1.806404e+01 L6.855851e+01,4.032986e+01 L8.553216e+01,1.037123e+02 L1.025058e+02,1.267975e+02 L1.194795e+02,1.426188e+02 L1.364531e+02,1.406405e+02 L1.534268e+02,1.498781e+02 L1.704004e+02,1.601274e+02 L1.873741e+02,1.675366e+02 L2.043477e+02,1.669375e+02 L2.213214e+02,1.711165e+02 L2.382950e+02,1.747295e+02 L2.552686e+02,1.798200e+02 L2.722423e+02,1.845764e+02 L2.892159e+02,1.791738e+02 L3.061896e+02,1.865675e+02 L3.231632e+02,1.892510e+02 L3.401369e+02,1.916215e+02 L3.571105e+02,1.957265e+02 L3.740842e+02,1.987298e+02 L3.910578e+02,1.975202e+02 L4.080315e+02,2.007573e+02 L4.250051e+02,2.026894e+02 L4.419788e+02,2.041735e+02 L4.589524e+02,2.070303e+02 L4.759261e+02,2.072989e+02 L4.928997e+02,2.070914e+02 L5.098734e+02,2.084090e+02 L5.268470e+02,2.122601e+02 L5.438207e+02,2.114010e+02 L5.607943e+02,2.149750e+02 L5.777680e+02,2.116493e+02 L5.947416e+02,2.145258e+02 L6.117153e+02,2.113922e+02 L6.286889e+02,2.182973e+02 L6.456626e+02,2.190615e+02 L6.626362e+02,2.196856e+02 L6.796099e+02,2.202338e+02 L6.965835e+02,2.218646e+02 L7.135572e+02,2.226077e+02 L7.305308e+02,2.249155e+02 L7.475045e+02,2.242819e+02 L7.644781e+02,2.257117e+02 L7.814518e+02,2.231334e+02 L7.984254e+02,2.312889e+02 L8.153991e+02,2.248436e+02 L8.323727e+02,2.329620e+02 L8.493464e+02,2.300524e+02 L8.663200e+02,2.348404e+02 \"/></g><g stroke-linejoin=\"round\" transform=\"translate(70 330 )scale(1 -1 )\" stroke=\"black\" fill=\"none\" stroke-width=\"2px\" stroke-linecap=\"round\"><path vector-effect=\"non-scaling-stroke\" d=\"M1.768000e+01,0 L1.768000e+01,-6 M1.025482e+02,0 L1.025482e+02,-6 M1.874165e+02,0 L1.874165e+02,-6 M2.722847e+02,0 L2.722847e+02,-6 M3.571530e+02,0 L3.571530e+02,-6 M4.420212e+02,0 L4.420212e+02,-6 M5.268895e+02,0 L5.268895e+02,-6 M6.117577e+02,0 L6.117577e+02,-6 M6.966259e+02,0 L6.966259e+02,-6 M7.814942e+02,0 L7.814942e+02,-6 \"/></g><g transform=\"translate(70 330 )scale(1 1 )\" dominant-baseline=\"hanging\" stroke-linecap=\"round\" font-style=\"normal\" stroke-linejoin=\"round\" font-family=\"sans-serif\" text-anchor=\"middle\" fill=\"black\" font-weight=\"normal\" stroke=\"black\" font-size=\"12px\" stroke-width=\"2px\"><text y=\"10\" dominant-baseline=\"hanging\" stroke=\"none\" vector-effect=\"non-scaling-stroke\" x=\"1.768000e+01\">0</text><text y=\"10\" dominant-baseline=\"hanging\" stroke=\"none\" vector-effect=\"non-scaling-stroke\" x=\"1.025482e+02\">2000</text><text stroke=\"none\" vector-effect=\"non-scaling-stroke\" x=\"1.874165e+02\" y=\"10\" dominant-baseline=\"hanging\">4000</text><text dominant-baseline=\"hanging\" stroke=\"none\" vector-effect=\"non-scaling-stroke\" x=\"2.722847e+02\" y=\"10\">6000</text><text vector-effect=\"non-scaling-stroke\" x=\"3.571530e+02\" y=\"10\" dominant-baseline=\"hanging\" stroke=\"none\">8000</text><text x=\"4.420212e+02\" y=\"10\" dominant-baseline=\"hanging\" stroke=\"none\" vector-effect=\"non-scaling-stroke\">10000</text><text y=\"10\" dominant-baseline=\"hanging\" stroke=\"none\" vector-effect=\"non-scaling-stroke\" x=\"5.268895e+02\">12000</text><text stroke=\"none\" vector-effect=\"non-scaling-stroke\" x=\"6.117577e+02\" y=\"10\" dominant-baseline=\"hanging\">14000</text><text dominant-baseline=\"hanging\" stroke=\"none\" vector-effect=\"non-scaling-stroke\" x=\"6.966259e+02\" y=\"10\">16000</text><text stroke=\"none\" vector-effect=\"non-scaling-stroke\" x=\"7.814942e+02\" y=\"10\" dominant-baseline=\"hanging\">18000</text></g><g stroke-linejoin=\"round\" stroke=\"black\" font-style=\"normal\" font-family=\"sans-serif\" text-anchor=\"middle\" dominant-baseline=\"baseline\" fill=\"black\" stroke-linecap=\"round\" stroke-width=\"2px\" transform=\"translate(70 330 )scale(1 1 )rotate(0 0 0 )\" font-size=\"12px\" font-weight=\"bold\"><text vector-effect=\"non-scaling-stroke\" x=\"442\" y=\"-6\" dominant-baseline=\"baseline\" stroke=\"none\">Steps</text></g><g font-weight=\"bold\" text-anchor=\"middle\" transform=\"translate(70 330 )scale(1 -1 )\" font-family=\"sans-serif\" stroke-linecap=\"round\" stroke-linejoin=\"round\" stroke=\"black\" font-size=\"12px\" font-style=\"normal\" dominant-baseline=\"baseline\" fill=\"black\" stroke-width=\"2px\"><path vector-effect=\"non-scaling-stroke\" d=\"M0,5.222363e+00 L-6,5.222363e+00 M0,6.113849e+01 L-6,6.113849e+01 M0,1.170546e+02 L-6,1.170546e+02 M0,1.729708e+02 L-6,1.729708e+02 M0,2.288869e+02 L-6,2.288869e+02 \"/></g><g stroke-linecap=\"round\" stroke-linejoin=\"round\" transform=\"translate(70 330 )scale(1 1 )\" dominant-baseline=\"middle\" fill=\"black\" font-size=\"12px\" font-weight=\"normal\" stroke-width=\"2px\" font-family=\"sans-serif\" text-anchor=\"end\" font-style=\"normal\" stroke=\"black\"><text y=\"-5.222363e+00\" dominant-baseline=\"middle\" stroke=\"none\" vector-effect=\"non-scaling-stroke\" x=\"-10\">0.500</text><text dominant-baseline=\"middle\" stroke=\"none\" vector-effect=\"non-scaling-stroke\" x=\"-10\" y=\"-6.113849e+01\">0.600</text><text x=\"-10\" y=\"-1.170546e+02\" dominant-baseline=\"middle\" stroke=\"none\" vector-effect=\"non-scaling-stroke\">0.700</text><text vector-effect=\"non-scaling-stroke\" x=\"-10\" y=\"-1.729708e+02\" dominant-baseline=\"middle\" stroke=\"none\">0.800</text><text vector-effect=\"non-scaling-stroke\" x=\"-10\" y=\"-2.288869e+02\" dominant-baseline=\"middle\" stroke=\"none\">0.900</text></g><g font-family=\"sans-serif\" text-anchor=\"middle\" stroke-linecap=\"round\" stroke-linejoin=\"round\" font-size=\"12px\" font-style=\"normal\" font-weight=\"bold\" transform=\"translate(70 330 )scale(1 1 )rotate(-90 0 0 )\" dominant-baseline=\"hanging\" fill=\"black\" stroke-width=\"2px\" stroke=\"black\"><text x=\"130\" y=\"6\" dominant-baseline=\"hanging\" stroke=\"none\" vector-effect=\"non-scaling-stroke\">accuracy</text></g><g dominant-baseline=\"hanging\" fill=\"black\" font-weight=\"bold\" transform=\"translate(70 330 )scale(1 -1 )\" text-anchor=\"middle\" stroke-linejoin=\"round\" font-family=\"sans-serif\" stroke-width=\"0.5px\" stroke-linecap=\"round\" stroke=\"gray\" font-size=\"12px\" font-style=\"normal\"><path vector-effect=\"non-scaling-stroke\" d=\"M0,5.222363e+00 L884,5.222363e+00 M0,6.113849e+01 L884,6.113849e+01 M0,1.170546e+02 L884,1.170546e+02 M0,1.729708e+02 L884,1.729708e+02 M0,2.288869e+02 L884,2.288869e+02 \"/></g><g text-anchor=\"middle\" stroke=\"black\" font-style=\"normal\" font-weight=\"bold\" fill=\"none\" stroke-linecap=\"round\" stroke-linejoin=\"round\" font-size=\"12px\" dominant-baseline=\"hanging\" stroke-width=\"2px\" font-family=\"sans-serif\"><rect vector-effect=\"non-scaling-stroke\" x=\"70\" y=\"70\" width=\"884\" height=\"260\"/><g dominant-baseline=\"middle\" fill=\"black\" font-size=\"18px\"><text stroke=\"none\" vector-effect=\"non-scaling-stroke\" x=\"512\" y=\"35\" dominant-baseline=\"middle\">accuracy metrics</text></g><g font-size=\"12px\" stroke-linejoin=\"round\" stroke-width=\"1px\" stroke-linecap=\"round\" font-weight=\"normal\" stroke=\"hsl(90, 47%, 65%)\" font-style=\"normal\" font-family=\"sans-serif\" text-anchor=\"start\" dominant-baseline=\"hanging\" fill=\"hsl(90, 47%, 65%)\"><rect vector-effect=\"non-scaling-stroke\" x=\"76\" y=\"366\" width=\"12\" height=\"12\"/><g stroke=\"black\" fill=\"black\"><text stroke=\"none\" vector-effect=\"non-scaling-stroke\" x=\"92\" y=\"366\" dominant-baseline=\"hanging\">Eval on test-eval: Mean Accuracy</text></g><g text-anchor=\"start\" dominant-baseline=\"hanging\" stroke-width=\"1px\" stroke=\"hsl(301, 88%, 65%)\" font-size=\"12px\" font-style=\"normal\" font-family=\"sans-serif\" fill=\"hsl(301, 88%, 65%)\" stroke-linecap=\"round\" stroke-linejoin=\"round\" font-weight=\"normal\"><rect vector-effect=\"non-scaling-stroke\" x=\"76\" y=\"384\" width=\"12\" height=\"12\"/><g stroke=\"black\" fill=\"black\"><text vector-effect=\"non-scaling-stroke\" x=\"92\" y=\"384\" dominant-baseline=\"hanging\" stroke=\"none\">Eval on train-eval: Mean Accuracy</text></g><g stroke-linecap=\"round\" stroke=\"hsl(152, 76%, 65%)\" stroke-linejoin=\"round\" text-anchor=\"start\" fill=\"hsl(152, 76%, 65%)\" stroke-width=\"1px\" font-style=\"normal\" font-family=\"sans-serif\" dominant-baseline=\"hanging\" font-weight=\"normal\" font-size=\"12px\"><rect vector-effect=\"non-scaling-stroke\" x=\"76\" y=\"402\" width=\"12\" height=\"12\"/><g fill=\"black\" stroke=\"black\"><text stroke=\"none\" vector-effect=\"non-scaling-stroke\" x=\"92\" y=\"402\" dominant-baseline=\"hanging\">Train: Moving Average Accuracy</text></g></g></g></g></g></svg>"
      ]
     },
     "metadata": {},
     "output_type": "display_data"
    },
    {
     "name": "stdout",
     "output_type": "stream",
     "text": [
      "\n",
      "Results on train-eval:\n"
     ]
    },
    {
     "data": {
      "text/html": [
       "<svg preserveAspectRatio=\"xMidYMid meet\" xmlns=\"http://www.w3.org/2000/svg\" width=\"1024\" height=\"472\" viewbox=\"0 0 1024 400\" style=\"background-color:#f8f8f8\"><defs><marker markerHeight=\"2%\" id=\"circle\" viewBox=\"0 0 10 10 \" refX=\"5\" refY=\"5\" markerUnits=\"userSpaceOnUse\" markerWidth=\"2%\"><circle cx=\"5\" cy=\"5\" r=\"3\" fill=\"none\" stroke=\"black\"/></marker><marker markerWidth=\"2%\" markerHeight=\"2%\" id=\"filled-circle\" viewBox=\"0 0 10 10 \" refX=\"5\" refY=\"5\" markerUnits=\"userSpaceOnUse\"><circle cx=\"5\" cy=\"5\" r=\"3\" fill=\"black\" stroke=\"none\"/></marker><marker markerHeight=\"2%\" id=\"square\" viewBox=\"0 0 10 10 \" refX=\"5\" refY=\"5\" markerUnits=\"userSpaceOnUse\" markerWidth=\"2%\"><rect y=\"2\" width=\"6\" height=\"6\" fill=\"none\" stroke=\"black\" x=\"2\"/></marker><marker refY=\"5\" markerUnits=\"userSpaceOnUse\" markerWidth=\"2%\" markerHeight=\"2%\" id=\"filled-square\" viewBox=\"0 0 10 10 \" refX=\"5\"><rect y=\"2\" width=\"6\" height=\"6\" fill=\"black\" stroke=\"none\" x=\"2\"/></marker></defs><g stroke-width=\"2px\" transform=\"translate(70 330 )scale(1 -1 )\" stroke-linejoin=\"round\" marker-start=\"url(#square)\" stroke=\"hsl(90, 47%, 65%)\" fill=\"none\" stroke-linecap=\"round\" marker-mid=\"url(#square)\" marker-end=\"url(#square)\"><path vector-effect=\"non-scaling-stroke\" d=\"M1.768000e+01,2.533708e+02 L3.461121e+01,2.548000e+02 L5.158486e+01,2.504302e+02 L6.855851e+01,2.392624e+02 L8.553216e+01,1.706577e+02 L1.025058e+02,1.604292e+02 L1.194795e+02,1.538591e+02 L1.364531e+02,1.411338e+02 L1.534268e+02,1.332840e+02 L1.704004e+02,1.313557e+02 L1.873741e+02,1.229594e+02 L2.043477e+02,1.189157e+02 L2.213214e+02,1.175806e+02 L2.382950e+02,1.204254e+02 L2.552686e+02,1.127202e+02 L2.722423e+02,1.115007e+02 L2.892159e+02,1.103799e+02 L3.061896e+02,1.077605e+02 L3.231632e+02,1.155808e+02 L3.401369e+02,1.026467e+02 L3.571105e+02,1.046702e+02 L3.740842e+02,1.091341e+02 L3.910578e+02,1.007152e+02 L4.080315e+02,9.900802e+01 L4.250051e+02,1.087975e+02 L4.419788e+02,1.073079e+02 L4.589524e+02,1.050386e+02 L4.759261e+02,1.009785e+02 L4.928997e+02,9.925271e+01 L5.098734e+02,9.966842e+01 L5.268470e+02,1.053659e+02 L5.438207e+02,9.648987e+01 L5.607943e+02,9.867854e+01 L5.777680e+02,1.002412e+02 L5.947416e+02,9.623806e+01 L6.117153e+02,1.062985e+02 L6.286889e+02,1.115959e+02 L6.456626e+02,9.764226e+01 L6.626362e+02,9.790117e+01 L6.796099e+02,9.974611e+01 L6.965835e+02,1.001680e+02 L7.135572e+02,1.008847e+02 L7.305308e+02,9.962736e+01 L7.475045e+02,9.600494e+01 L7.644781e+02,9.974344e+01 L7.814518e+02,9.700590e+01 L7.984254e+02,9.787213e+01 L8.153991e+02,1.076990e+02 L8.323727e+02,1.091760e+02 L8.493464e+02,1.011230e+02 L8.663200e+02,1.046420e+02 \"/></g><g marker-mid=\"url(#square)\" transform=\"translate(70 330 )scale(1 -1 )\" fill=\"none\" stroke-linejoin=\"round\" marker-start=\"url(#square)\" stroke-width=\"2px\" stroke-linecap=\"round\" marker-end=\"url(#square)\" stroke=\"hsl(301, 88%, 65%)\"><path vector-effect=\"non-scaling-stroke\" d=\"M1.768000e+01,2.533588e+02 L3.461121e+01,2.547230e+02 L5.158486e+01,2.501910e+02 L6.855851e+01,2.381337e+02 L8.553216e+01,1.646437e+02 L1.025058e+02,1.527594e+02 L1.194795e+02,1.434807e+02 L1.364531e+02,1.282210e+02 L1.534268e+02,1.167705e+02 L1.704004e+02,1.131783e+02 L1.873741e+02,1.015165e+02 L2.043477e+02,9.531974e+01 L2.213214e+02,9.291846e+01 L2.382950e+02,9.385593e+01 L2.552686e+02,8.262005e+01 L2.722423e+02,8.151630e+01 L2.892159e+02,7.942152e+01 L3.061896e+02,7.321379e+01 L3.231632e+02,7.912593e+01 L3.401369e+02,6.387751e+01 L3.571105e+02,6.397841e+01 L3.740842e+02,6.547319e+01 L3.910578e+02,5.631191e+01 L4.080315e+02,5.287983e+01 L4.250051e+02,6.128636e+01 L4.419788e+02,5.867134e+01 L4.589524e+02,5.508710e+01 L4.759261e+02,4.737149e+01 L4.928997e+02,4.483194e+01 L5.098734e+02,4.406999e+01 L5.268470e+02,4.657029e+01 L5.438207e+02,3.361724e+01 L5.607943e+02,3.570610e+01 L5.777680e+02,3.482903e+01 L5.947416e+02,2.926303e+01 L6.117153e+02,4.018457e+01 L6.286889e+02,4.045108e+01 L6.456626e+02,2.528090e+01 L6.626362e+02,2.570575e+01 L6.796099e+02,2.549952e+01 L6.965835e+02,2.229596e+01 L7.135572e+02,2.138829e+01 L7.305308e+02,1.655666e+01 L7.475045e+02,1.425212e+01 L7.644781e+02,1.570460e+01 L7.814518e+02,1.501638e+01 L7.984254e+02,8.125490e+00 L8.153991e+02,1.956125e+01 L8.323727e+02,1.150194e+01 L8.493464e+02,6.990772e+00 L8.663200e+02,5.200000e+00 \"/></g><g marker-start=\"url(#square)\" marker-end=\"url(#square)\" stroke=\"hsl(152, 76%, 65%)\" stroke-linecap=\"round\" stroke-linejoin=\"round\" marker-mid=\"url(#square)\" stroke-width=\"2px\" transform=\"translate(70 330 )scale(1 -1 )\" fill=\"none\"><path vector-effect=\"non-scaling-stroke\" d=\"M1.768000e+01,2.537503e+02 L3.461121e+01,2.473296e+02 L5.158486e+01,2.525123e+02 L6.855851e+01,2.496131e+02 L8.553216e+01,1.622988e+02 L1.025058e+02,2.163431e+02 L1.194795e+02,1.655028e+02 L1.364531e+02,2.054395e+02 L1.534268e+02,1.558318e+02 L1.704004e+02,1.012990e+02 L1.873741e+02,8.924353e+01 L2.043477e+02,8.759756e+01 L2.213214e+02,1.095173e+02 L2.382950e+02,1.544389e+02 L2.552686e+02,1.046849e+02 L2.722423e+02,7.070779e+01 L2.892159e+02,1.930257e+02 L3.061896e+02,1.082868e+02 L3.231632e+02,5.602326e+01 L3.401369e+02,9.217462e+01 L3.571105e+02,4.205497e+01 L3.740842e+02,4.766723e+01 L3.910578e+02,8.070806e+01 L4.080315e+02,1.189528e+02 L4.250051e+02,1.054223e+02 L4.419788e+02,6.636345e+01 L4.589524e+02,1.339921e+02 L4.759261e+02,5.496560e+01 L4.928997e+02,8.449727e+01 L5.098734e+02,1.282648e+02 L5.268470e+02,6.263175e+01 L5.438207e+02,1.292627e+02 L5.607943e+02,1.254287e+02 L5.777680e+02,3.773471e+01 L5.947416e+02,3.027861e+01 L6.117153e+02,9.861816e+01 L6.286889e+02,8.379324e+01 L6.456626e+02,1.147264e+02 L6.626362e+02,7.649096e+01 L6.796099e+02,7.338602e+00 L6.965835e+02,7.607846e+01 L7.135572e+02,8.597343e+01 L7.305308e+02,4.847083e+01 L7.475045e+02,2.777768e+01 L7.644781e+02,1.718428e+01 L7.814518e+02,1.075710e+01 L7.984254e+02,2.845834e+01 L8.153991e+02,5.621269e+01 L8.323727e+02,7.090641e+01 L8.493464e+02,1.131916e+02 L8.663200e+02,8.839096e+00 \"/></g><g stroke-width=\"2px\" transform=\"translate(70 330 )scale(1 -1 )\" marker-start=\"url(#square)\" marker-mid=\"url(#square)\" fill=\"none\" stroke-linejoin=\"round\" stroke=\"hsl(3, 64%, 65%)\" marker-end=\"url(#square)\" stroke-linecap=\"round\"><path vector-effect=\"non-scaling-stroke\" d=\"M1.768000e+01,2.537503e+02 L3.461121e+01,2.531437e+02 L5.158486e+01,2.518952e+02 L6.855851e+01,2.470595e+02 L8.553216e+01,2.143752e+02 L1.025058e+02,1.922152e+02 L1.194795e+02,1.758961e+02 L1.364531e+02,1.755027e+02 L1.534268e+02,1.656005e+02 L1.704004e+02,1.561141e+02 L1.873741e+02,1.453847e+02 L2.043477e+02,1.465322e+02 L2.213214e+02,1.412021e+02 L2.382950e+02,1.376129e+02 L2.552686e+02,1.302030e+02 L2.722423e+02,1.247377e+02 L2.892159e+02,1.253681e+02 L3.061896e+02,1.187234e+02 L3.231632e+02,1.139210e+02 L3.401369e+02,1.105509e+02 L3.571105e+02,1.055141e+02 L3.740842e+02,9.803606e+01 L3.910578e+02,1.033275e+02 L4.080315e+02,1.015583e+02 L4.250051e+02,9.636289e+01 L4.419788e+02,9.578309e+01 L4.589524e+02,9.184003e+01 L4.759261e+02,9.110185e+01 L4.928997e+02,8.738076e+01 L5.098734e+02,8.772908e+01 L5.268470e+02,8.097856e+01 L5.438207e+02,8.319901e+01 L5.607943e+02,7.824756e+01 L5.777680e+02,7.795774e+01 L5.947416e+02,7.581423e+01 L6.117153e+02,7.797852e+01 L6.286889e+02,6.887872e+01 L6.456626e+02,6.700261e+01 L6.626362e+02,6.874607e+01 L6.796099e+02,6.485111e+01 L6.965835e+02,6.448118e+01 L7.135572e+02,6.307405e+01 L7.305308e+02,5.923643e+01 L7.475045e+02,5.860192e+01 L7.644781e+02,5.930259e+01 L7.814518e+02,6.011627e+01 L7.984254e+02,5.056788e+01 L8.153991e+02,5.979869e+01 L8.323727e+02,4.964334e+01 L8.493464e+02,4.786350e+01 L8.663200e+02,4.240881e+01 \"/></g><g fill=\"none\" stroke-linecap=\"round\" stroke-linejoin=\"round\" stroke=\"black\" stroke-width=\"2px\" transform=\"translate(70 330 )scale(1 -1 )\"><path vector-effect=\"non-scaling-stroke\" d=\"M1.768000e+01,0 L1.768000e+01,-6 M1.025482e+02,0 L1.025482e+02,-6 M1.874165e+02,0 L1.874165e+02,-6 M2.722847e+02,0 L2.722847e+02,-6 M3.571530e+02,0 L3.571530e+02,-6 M4.420212e+02,0 L4.420212e+02,-6 M5.268895e+02,0 L5.268895e+02,-6 M6.117577e+02,0 L6.117577e+02,-6 M6.966259e+02,0 L6.966259e+02,-6 M7.814942e+02,0 L7.814942e+02,-6 \"/></g><g stroke-linejoin=\"round\" font-size=\"12px\" font-weight=\"normal\" text-anchor=\"middle\" font-family=\"sans-serif\" font-style=\"normal\" stroke-linecap=\"round\" fill=\"black\" stroke=\"black\" stroke-width=\"2px\" transform=\"translate(70 330 )scale(1 1 )\" dominant-baseline=\"hanging\"><text vector-effect=\"non-scaling-stroke\" x=\"1.768000e+01\" y=\"10\" dominant-baseline=\"hanging\" stroke=\"none\">0</text><text vector-effect=\"non-scaling-stroke\" x=\"1.025482e+02\" y=\"10\" dominant-baseline=\"hanging\" stroke=\"none\">2000</text><text stroke=\"none\" vector-effect=\"non-scaling-stroke\" x=\"1.874165e+02\" y=\"10\" dominant-baseline=\"hanging\">4000</text><text vector-effect=\"non-scaling-stroke\" x=\"2.722847e+02\" y=\"10\" dominant-baseline=\"hanging\" stroke=\"none\">6000</text><text y=\"10\" dominant-baseline=\"hanging\" stroke=\"none\" vector-effect=\"non-scaling-stroke\" x=\"3.571530e+02\">8000</text><text dominant-baseline=\"hanging\" stroke=\"none\" vector-effect=\"non-scaling-stroke\" x=\"4.420212e+02\" y=\"10\">10000</text><text dominant-baseline=\"hanging\" stroke=\"none\" vector-effect=\"non-scaling-stroke\" x=\"5.268895e+02\" y=\"10\">12000</text><text y=\"10\" dominant-baseline=\"hanging\" stroke=\"none\" vector-effect=\"non-scaling-stroke\" x=\"6.117577e+02\">14000</text><text stroke=\"none\" vector-effect=\"non-scaling-stroke\" x=\"6.966259e+02\" y=\"10\" dominant-baseline=\"hanging\">16000</text><text stroke=\"none\" vector-effect=\"non-scaling-stroke\" x=\"7.814942e+02\" y=\"10\" dominant-baseline=\"hanging\">18000</text></g><g font-size=\"12px\" dominant-baseline=\"baseline\" stroke-linecap=\"round\" stroke-linejoin=\"round\" font-family=\"sans-serif\" font-style=\"normal\" stroke-width=\"2px\" font-weight=\"bold\" text-anchor=\"middle\" fill=\"black\" stroke=\"black\" transform=\"translate(70 330 )scale(1 1 )rotate(0 0 0 )\"><text stroke=\"none\" vector-effect=\"non-scaling-stroke\" x=\"442\" y=\"-6\" dominant-baseline=\"baseline\">Steps</text></g><g stroke-width=\"2px\" font-style=\"normal\" fill=\"black\" stroke-linejoin=\"round\" font-size=\"12px\" text-anchor=\"middle\" dominant-baseline=\"baseline\" stroke-linecap=\"round\" font-weight=\"bold\" stroke=\"black\" transform=\"translate(70 330 )scale(1 -1 )\" font-family=\"sans-serif\"><path vector-effect=\"non-scaling-stroke\" d=\"M0,2.846050e+01 L-6,2.846050e+01 M0,1.193475e+02 L-6,1.193475e+02 M0,2.102344e+02 L-6,2.102344e+02 \"/></g><g font-style=\"normal\" stroke-linecap=\"round\" font-weight=\"normal\" text-anchor=\"end\" dominant-baseline=\"middle\" stroke=\"black\" stroke-width=\"2px\" transform=\"translate(70 330 )scale(1 1 )\" font-size=\"12px\" font-family=\"sans-serif\" fill=\"black\" stroke-linejoin=\"round\"><text vector-effect=\"non-scaling-stroke\" x=\"-10\" y=\"-2.846050e+01\" dominant-baseline=\"middle\" stroke=\"none\">0.200</text><text vector-effect=\"non-scaling-stroke\" x=\"-10\" y=\"-1.193475e+02\" dominant-baseline=\"middle\" stroke=\"none\">0.400</text><text vector-effect=\"non-scaling-stroke\" x=\"-10\" y=\"-2.102344e+02\" dominant-baseline=\"middle\" stroke=\"none\">0.600</text></g><g font-style=\"normal\" stroke=\"black\" stroke-linecap=\"round\" font-weight=\"bold\" font-size=\"12px\" text-anchor=\"middle\" dominant-baseline=\"hanging\" fill=\"black\" stroke-width=\"2px\" transform=\"translate(70 330 )scale(1 1 )rotate(-90 0 0 )\" font-family=\"sans-serif\" stroke-linejoin=\"round\"><text stroke=\"none\" vector-effect=\"non-scaling-stroke\" x=\"130\" y=\"6\" dominant-baseline=\"hanging\">loss</text></g><g font-size=\"12px\" text-anchor=\"middle\" fill=\"black\" font-family=\"sans-serif\" stroke=\"gray\" stroke-width=\"0.5px\" transform=\"translate(70 330 )scale(1 -1 )\" font-weight=\"bold\" dominant-baseline=\"hanging\" stroke-linecap=\"round\" stroke-linejoin=\"round\" font-style=\"normal\"><path vector-effect=\"non-scaling-stroke\" d=\"M0,2.846050e+01 L884,2.846050e+01 M0,1.193475e+02 L884,1.193475e+02 M0,2.102344e+02 L884,2.102344e+02 \"/></g><g dominant-baseline=\"hanging\" stroke-linecap=\"round\" stroke-linejoin=\"round\" stroke=\"black\" stroke-width=\"2px\" font-family=\"sans-serif\" font-style=\"normal\" fill=\"none\" font-size=\"12px\" font-weight=\"bold\" text-anchor=\"middle\"><rect vector-effect=\"non-scaling-stroke\" x=\"70\" y=\"70\" width=\"884\" height=\"260\"/><g dominant-baseline=\"middle\" fill=\"black\" font-size=\"18px\"><text vector-effect=\"non-scaling-stroke\" x=\"512\" y=\"35\" dominant-baseline=\"middle\" stroke=\"none\">loss metrics</text></g><g font-size=\"12px\" font-weight=\"normal\" stroke=\"hsl(90, 47%, 65%)\" font-family=\"sans-serif\" font-style=\"normal\" stroke-linejoin=\"round\" dominant-baseline=\"hanging\" stroke-width=\"1px\" fill=\"hsl(90, 47%, 65%)\" stroke-linecap=\"round\" text-anchor=\"start\"><rect height=\"12\" vector-effect=\"non-scaling-stroke\" x=\"76\" y=\"366\" width=\"12\"/><g fill=\"black\" stroke=\"black\"><text y=\"366\" dominant-baseline=\"hanging\" stroke=\"none\" vector-effect=\"non-scaling-stroke\" x=\"92\">Eval on test-eval: Mean Loss</text></g><g fill=\"hsl(301, 88%, 65%)\" font-size=\"12px\" font-weight=\"normal\" stroke-width=\"1px\" font-family=\"sans-serif\" stroke-linecap=\"round\" stroke-linejoin=\"round\" text-anchor=\"start\" dominant-baseline=\"hanging\" stroke=\"hsl(301, 88%, 65%)\" font-style=\"normal\"><rect x=\"76\" y=\"384\" width=\"12\" height=\"12\" vector-effect=\"non-scaling-stroke\"/><g fill=\"black\" stroke=\"black\"><text dominant-baseline=\"hanging\" stroke=\"none\" vector-effect=\"non-scaling-stroke\" x=\"92\" y=\"384\">Eval on train-eval: Mean Loss</text></g><g text-anchor=\"start\" font-style=\"normal\" stroke-linejoin=\"round\" font-size=\"12px\" font-weight=\"normal\" stroke=\"hsl(152, 76%, 65%)\" stroke-width=\"1px\" font-family=\"sans-serif\" fill=\"hsl(152, 76%, 65%)\" stroke-linecap=\"round\" dominant-baseline=\"hanging\"><rect width=\"12\" height=\"12\" vector-effect=\"non-scaling-stroke\" x=\"76\" y=\"402\"/><g stroke=\"black\" fill=\"black\"><text y=\"402\" dominant-baseline=\"hanging\" stroke=\"none\" vector-effect=\"non-scaling-stroke\" x=\"92\">Train: Batch Loss</text></g><g font-size=\"12px\" text-anchor=\"start\" dominant-baseline=\"hanging\" stroke=\"hsl(3, 64%, 65%)\" font-family=\"sans-serif\" fill=\"hsl(3, 64%, 65%)\" stroke-linecap=\"round\" stroke-width=\"1px\" font-style=\"normal\" stroke-linejoin=\"round\" font-weight=\"normal\"><rect y=\"420\" width=\"12\" height=\"12\" vector-effect=\"non-scaling-stroke\" x=\"76\"/><g stroke=\"black\" fill=\"black\"><text stroke=\"none\" vector-effect=\"non-scaling-stroke\" x=\"92\" y=\"420\" dominant-baseline=\"hanging\">Train: Moving Average Loss</text></g></g></g></g></g></g></svg>"
      ]
     },
     "metadata": {},
     "output_type": "display_data"
    },
    {
     "name": "stdout",
     "output_type": "stream",
     "text": [
      "\tMean Loss (#loss): 0.149\n",
      "\tMean Accuracy (#acc): 94.57%\n",
      "Results on test-eval:\n",
      "\tMean Loss (#loss): 0.368\n",
      "\tMean Accuracy (#acc): 84.81%\n"
     ]
    }
   ],
   "source": [
    "%% --model=bow --steps=20000 --optimizer=adamw\n",
    "trainModel()"
   ]
  },
  {
   "cell_type": "markdown",
   "id": "62e0d8ed-31ed-49ba-8b6f-1518d3df8a8d",
   "metadata": {},
   "source": [
    "### CNN Model\n",
    "\n",
    "Below we redefine our CNN model function, with 2 convolution layers, and train on it.\n",
    "\n",
    "Notice how well it can overfit to the training data ... but it doesn't help the test results. To improve this one needs some careful regularization."
   ]
  },
  {
   "cell_type": "code",
   "execution_count": 10,
   "id": "2fc49c16-714c-483c-92a9-9e4fda9514d5",
   "metadata": {
    "tags": []
   },
   "outputs": [
    {
     "name": "stdout",
     "output_type": "stream",
     "text": [
      "> Loading previously generated preprocessed binary file.\n",
      "Loaded data from \"aclImdb.bin\": 100000 examples, 141088 unique tokens, 23727054 tokens in total.\n",
      "Platform: CUDA\n"
     ]
    },
    {
     "data": {
      "text/html": []
     },
     "metadata": {},
     "output_type": "display_data"
    },
    {
     "name": "stdout",
     "output_type": "stream",
     "text": [
      "Training (20000 steps):  100% [\u001b[32m=\u001b[0m\u001b[32m=\u001b[0m\u001b[32m=\u001b[0m\u001b[32m=\u001b[0m\u001b[32m=\u001b[0m\u001b[32m=\u001b[0m\u001b[32m=\u001b[0m\u001b[32m=\u001b[0m\u001b[32m=\u001b[0m\u001b[32m=\u001b[0m\u001b[32m=\u001b[0m\u001b[32m=\u001b[0m\u001b[32m=\u001b[0m\u001b[32m=\u001b[0m\u001b[32m=\u001b[0m\u001b[32m=\u001b[0m\u001b[32m=\u001b[0m\u001b[32m=\u001b[0m\u001b[32m=\u001b[0m\u001b[32m=\u001b[0m\u001b[32m=\u001b[0m\u001b[32m=\u001b[0m\u001b[32m=\u001b[0m\u001b[32m=\u001b[0m\u001b[32m=\u001b[0m\u001b[32m=\u001b[0m\u001b[32m=\u001b[0m\u001b[32m=\u001b[0m\u001b[32m=\u001b[0m\u001b[32m=\u001b[0m\u001b[32m=\u001b[0m\u001b[32m=\u001b[0m\u001b[32m=\u001b[0m\u001b[32m=\u001b[0m\u001b[32m=\u001b[0m\u001b[32m=\u001b[0m\u001b[32m=\u001b[0m\u001b[32m=\u001b[0m\u001b[32m=\u001b[0m\u001b[32m=\u001b[0m] (461 steps/s)\u001b[0m [loss=0.085] [~loss=0.095] [~acc=96.84%]        \n"
     ]
    },
    {
     "data": {
      "text/html": [
       "<svg viewbox=\"0 0 1024 400\" style=\"background-color:#f8f8f8\" preserveAspectRatio=\"xMidYMid meet\" xmlns=\"http://www.w3.org/2000/svg\" width=\"1024\" height=\"454\"><defs><marker refY=\"5\" markerUnits=\"userSpaceOnUse\" markerWidth=\"2%\" markerHeight=\"2%\" id=\"circle\" viewBox=\"0 0 10 10 \" refX=\"5\"><circle r=\"3\" fill=\"none\" stroke=\"black\" cx=\"5\" cy=\"5\"/></marker><marker markerUnits=\"userSpaceOnUse\" markerWidth=\"2%\" markerHeight=\"2%\" id=\"filled-circle\" viewBox=\"0 0 10 10 \" refX=\"5\" refY=\"5\"><circle fill=\"black\" stroke=\"none\" cx=\"5\" cy=\"5\" r=\"3\"/></marker><marker viewBox=\"0 0 10 10 \" refX=\"5\" refY=\"5\" markerUnits=\"userSpaceOnUse\" markerWidth=\"2%\" markerHeight=\"2%\" id=\"square\"><rect stroke=\"black\" x=\"2\" y=\"2\" width=\"6\" height=\"6\" fill=\"none\"/></marker><marker id=\"filled-square\" viewBox=\"0 0 10 10 \" refX=\"5\" refY=\"5\" markerUnits=\"userSpaceOnUse\" markerWidth=\"2%\" markerHeight=\"2%\"><rect fill=\"black\" stroke=\"none\" x=\"2\" y=\"2\" width=\"6\" height=\"6\"/></marker></defs><g stroke-linejoin=\"round\" transform=\"translate(70 330 )scale(1 -1 )\" stroke-linecap=\"round\" marker-start=\"url(#square)\" marker-mid=\"url(#square)\" fill=\"none\" stroke=\"hsl(90, 47%, 65%)\" marker-end=\"url(#square)\" stroke-width=\"2px\"><path vector-effect=\"non-scaling-stroke\" d=\"M1.768000e+01,2.011800e+01 L3.461121e+01,2.006078e+01 L5.158486e+01,2.099553e+01 L6.855851e+01,2.910314e+01 L8.553216e+01,2.006078e+01 L1.025058e+02,2.280782e+01 L1.194795e+02,5.024018e+01 L1.364531e+02,6.517725e+01 L1.534268e+02,9.623417e+01 L1.704004e+02,1.354941e+02 L1.873741e+02,1.432011e+02 L2.043477e+02,1.507173e+02 L2.213214e+02,1.605228e+02 L2.382950e+02,1.542847e+02 L2.552686e+02,1.637849e+02 L2.722423e+02,1.681726e+02 L2.892159e+02,1.684587e+02 L3.061896e+02,1.690882e+02 L3.231632e+02,1.691264e+02 L3.401369e+02,1.698894e+02 L3.571105e+02,1.711485e+02 L3.740842e+02,1.684969e+02 L3.910578e+02,1.624304e+02 L4.080315e+02,1.745632e+02 L4.250051e+02,1.760322e+02 L4.419788e+02,1.713774e+02 L4.589524e+02,1.748303e+02 L4.759261e+02,1.756125e+02 L4.928997e+02,1.709577e+02 L5.098734e+02,1.755362e+02 L5.268470e+02,1.749448e+02 L5.438207e+02,1.736666e+02 L5.607943e+02,1.724076e+02 L5.777680e+02,1.642237e+02 L5.947416e+02,1.747349e+02 L6.117153e+02,1.733233e+02 L6.286889e+02,1.736476e+02 L6.456626e+02,1.731706e+02 L6.626362e+02,1.763374e+02 L6.796099e+02,1.765663e+02 L6.965835e+02,1.723885e+02 L7.135572e+02,1.709196e+02 L7.305308e+02,1.744679e+02 L7.475045e+02,1.685922e+02 L7.644781e+02,1.696224e+02 L7.814518e+02,1.744297e+02 L7.984254e+02,1.765472e+02 L8.153991e+02,1.645480e+02 L8.323727e+02,1.757651e+02 L8.493464e+02,1.701947e+02 L8.663200e+02,1.705380e+02 \"/></g><g marker-start=\"url(#square)\" marker-mid=\"url(#square)\" stroke-linejoin=\"round\" transform=\"translate(70 330 )scale(1 -1 )\" stroke-width=\"2px\" stroke-linecap=\"round\" fill=\"none\" stroke=\"hsl(301, 88%, 65%)\" marker-end=\"url(#square)\"><path d=\"M1.768000e+01,2.007986e+01 L3.461121e+01,2.011800e+01 L5.158486e+01,2.368535e+01 L6.855851e+01,3.997688e+01 L8.553216e+01,2.019433e+01 L1.025058e+02,2.410505e+01 L1.194795e+02,7.643252e+01 L1.364531e+02,8.385337e+01 L1.534268e+02,1.258604e+02 L1.704004e+02,1.674095e+02 L1.873741e+02,1.819841e+02 L2.043477e+02,1.916942e+02 L2.213214e+02,2.012516e+02 L2.382950e+02,1.980658e+02 L2.552686e+02,2.105610e+02 L2.722423e+02,2.172379e+02 L2.892159e+02,2.192028e+02 L3.061896e+02,2.212631e+02 L3.231632e+02,2.224840e+02 L3.401369e+02,2.248877e+02 L3.571105e+02,2.282070e+02 L3.740842e+02,2.274249e+02 L3.910578e+02,2.204428e+02 L4.080315e+02,2.361429e+02 L4.250051e+02,2.380125e+02 L4.419788e+02,2.357423e+02 L4.589524e+02,2.405497e+02 L4.759261e+02,2.425146e+02 L4.928997e+02,2.386611e+02 L5.098734e+02,2.442506e+02 L5.268470e+02,2.454333e+02 L5.438207e+02,2.449182e+02 L5.607943e+02,2.453952e+02 L5.777680e+02,2.374211e+02 L5.947416e+02,2.484284e+02 L6.117153e+02,2.483711e+02 L6.286889e+02,2.497828e+02 L6.456626e+02,2.500499e+02 L6.626362e+02,2.516523e+02 L6.796099e+02,2.521292e+02 L6.965835e+02,2.505840e+02 L7.135572e+02,2.506413e+02 L7.305308e+02,2.524917e+02 L7.475045e+02,2.493631e+02 L7.644781e+02,2.502788e+02 L7.814518e+02,2.539797e+02 L7.984254e+02,2.543803e+02 L8.153991e+02,2.484665e+02 L8.323727e+02,2.548000e+02 L8.493464e+02,2.535028e+02 L8.663200e+02,2.536172e+02 \" vector-effect=\"non-scaling-stroke\"/></g><g stroke-width=\"2px\" stroke-linecap=\"round\" marker-mid=\"url(#square)\" stroke=\"hsl(152, 76%, 65%)\" marker-start=\"url(#square)\" transform=\"translate(70 330 )scale(1 -1 )\" fill=\"none\" stroke-linejoin=\"round\" marker-end=\"url(#square)\"><path vector-effect=\"non-scaling-stroke\" d=\"M1.768000e+01,5.200000e+00 L3.461121e+01,2.724228e+01 L5.158486e+01,2.303667e+01 L6.855851e+01,1.843693e+01 L8.553216e+01,2.026389e+01 L1.025058e+02,2.826392e+01 L1.194795e+02,2.849970e+01 L1.364531e+02,5.308761e+01 L1.534268e+02,1.088253e+02 L1.704004e+02,1.364523e+02 L1.873741e+02,1.548724e+02 L2.043477e+02,1.709578e+02 L2.213214e+02,1.805582e+02 L2.382950e+02,1.848202e+02 L2.552686e+02,1.904003e+02 L2.722423e+02,1.944073e+02 L2.892159e+02,2.005617e+02 L3.061896e+02,1.977869e+02 L3.231632e+02,2.077879e+02 L3.401369e+02,2.086590e+02 L3.571105e+02,2.099818e+02 L3.740842e+02,2.125433e+02 L3.910578e+02,2.175634e+02 L4.080315e+02,2.126551e+02 L4.250051e+02,2.185679e+02 L4.419788e+02,2.179140e+02 L4.589524e+02,2.203257e+02 L4.759261e+02,2.233215e+02 L4.928997e+02,2.260679e+02 L5.098734e+02,2.258657e+02 L5.268470e+02,2.285906e+02 L5.438207e+02,2.256114e+02 L5.607943e+02,2.309598e+02 L5.777680e+02,2.286230e+02 L5.947416e+02,2.312750e+02 L6.117153e+02,2.311705e+02 L6.286889e+02,2.314447e+02 L6.456626e+02,2.330832e+02 L6.626362e+02,2.351043e+02 L6.796099e+02,2.355631e+02 L6.965835e+02,2.347531e+02 L7.135572e+02,2.369800e+02 L7.305308e+02,2.383949e+02 L7.475045e+02,2.374025e+02 L7.644781e+02,2.391001e+02 L7.814518e+02,2.397156e+02 L7.984254e+02,2.394399e+02 L8.153991e+02,2.421697e+02 L8.323727e+02,2.415803e+02 L8.493464e+02,2.415307e+02 L8.663200e+02,2.434010e+02 \"/></g><g stroke=\"black\" stroke-linejoin=\"round\" transform=\"translate(70 330 )scale(1 -1 )\" stroke-width=\"2px\" stroke-linecap=\"round\" fill=\"none\"><path vector-effect=\"non-scaling-stroke\" d=\"M1.768000e+01,0 L1.768000e+01,-6 M1.025482e+02,0 L1.025482e+02,-6 M1.874165e+02,0 L1.874165e+02,-6 M2.722847e+02,0 L2.722847e+02,-6 M3.571530e+02,0 L3.571530e+02,-6 M4.420212e+02,0 L4.420212e+02,-6 M5.268895e+02,0 L5.268895e+02,-6 M6.117577e+02,0 L6.117577e+02,-6 M6.966259e+02,0 L6.966259e+02,-6 M7.814942e+02,0 L7.814942e+02,-6 \"/></g><g font-family=\"sans-serif\" stroke-width=\"2px\" font-size=\"12px\" font-style=\"normal\" stroke-linejoin=\"round\" stroke=\"black\" transform=\"translate(70 330 )scale(1 1 )\" text-anchor=\"middle\" stroke-linecap=\"round\" font-weight=\"normal\" dominant-baseline=\"hanging\" fill=\"black\"><text stroke=\"none\" vector-effect=\"non-scaling-stroke\" x=\"1.768000e+01\" y=\"10\" dominant-baseline=\"hanging\">0</text><text y=\"10\" dominant-baseline=\"hanging\" stroke=\"none\" vector-effect=\"non-scaling-stroke\" x=\"1.025482e+02\">2000</text><text stroke=\"none\" vector-effect=\"non-scaling-stroke\" x=\"1.874165e+02\" y=\"10\" dominant-baseline=\"hanging\">4000</text><text x=\"2.722847e+02\" y=\"10\" dominant-baseline=\"hanging\" stroke=\"none\" vector-effect=\"non-scaling-stroke\">6000</text><text stroke=\"none\" vector-effect=\"non-scaling-stroke\" x=\"3.571530e+02\" y=\"10\" dominant-baseline=\"hanging\">8000</text><text stroke=\"none\" vector-effect=\"non-scaling-stroke\" x=\"4.420212e+02\" y=\"10\" dominant-baseline=\"hanging\">10000</text><text y=\"10\" dominant-baseline=\"hanging\" stroke=\"none\" vector-effect=\"non-scaling-stroke\" x=\"5.268895e+02\">12000</text><text x=\"6.117577e+02\" y=\"10\" dominant-baseline=\"hanging\" stroke=\"none\" vector-effect=\"non-scaling-stroke\">14000</text><text x=\"6.966259e+02\" y=\"10\" dominant-baseline=\"hanging\" stroke=\"none\" vector-effect=\"non-scaling-stroke\">16000</text><text x=\"7.814942e+02\" y=\"10\" dominant-baseline=\"hanging\" stroke=\"none\" vector-effect=\"non-scaling-stroke\">18000</text></g><g font-family=\"sans-serif\" font-style=\"normal\" font-weight=\"bold\" stroke-linecap=\"round\" font-size=\"12px\" transform=\"translate(70 330 )scale(1 1 )rotate(0 0 0 )\" text-anchor=\"middle\" fill=\"black\" stroke=\"black\" stroke-linejoin=\"round\" dominant-baseline=\"baseline\" stroke-width=\"2px\"><text stroke=\"none\" vector-effect=\"non-scaling-stroke\" x=\"442\" y=\"-6\" dominant-baseline=\"baseline\">Steps</text></g><g stroke-linecap=\"round\" stroke-linejoin=\"round\" font-family=\"sans-serif\" fill=\"black\" font-size=\"12px\" font-style=\"normal\" stroke-width=\"2px\" text-anchor=\"middle\" stroke=\"black\" font-weight=\"bold\" dominant-baseline=\"baseline\" transform=\"translate(70 330 )scale(1 -1 )\"><path d=\"M0,6.777550e+01 L-6,6.777550e+01 M0,1.631286e+02 L-6,1.631286e+02 \" vector-effect=\"non-scaling-stroke\"/></g><g stroke-linejoin=\"round\" font-weight=\"normal\" dominant-baseline=\"middle\" stroke-linecap=\"round\" font-style=\"normal\" text-anchor=\"end\" transform=\"translate(70 330 )scale(1 1 )\" stroke-width=\"2px\" font-size=\"12px\" font-family=\"sans-serif\" fill=\"black\" stroke=\"black\"><text stroke=\"none\" vector-effect=\"non-scaling-stroke\" x=\"-10\" y=\"-6.777550e+01\" dominant-baseline=\"middle\">0.600</text><text y=\"-1.631286e+02\" dominant-baseline=\"middle\" stroke=\"none\" vector-effect=\"non-scaling-stroke\" x=\"-10\">0.800</text></g><g font-size=\"12px\" font-weight=\"bold\" fill=\"black\" stroke=\"black\" stroke-linejoin=\"round\" transform=\"translate(70 330 )scale(1 1 )rotate(-90 0 0 )\" text-anchor=\"middle\" stroke-linecap=\"round\" font-style=\"normal\" dominant-baseline=\"hanging\" font-family=\"sans-serif\" stroke-width=\"2px\"><text stroke=\"none\" vector-effect=\"non-scaling-stroke\" x=\"130\" y=\"6\" dominant-baseline=\"hanging\">accuracy</text></g><g dominant-baseline=\"hanging\" stroke=\"gray\" font-size=\"12px\" font-weight=\"bold\" stroke-width=\"0.5px\" stroke-linejoin=\"round\" transform=\"translate(70 330 )scale(1 -1 )\" font-family=\"sans-serif\" text-anchor=\"middle\" fill=\"black\" stroke-linecap=\"round\" font-style=\"normal\"><path vector-effect=\"non-scaling-stroke\" d=\"M0,6.777550e+01 L884,6.777550e+01 M0,1.631286e+02 L884,1.631286e+02 \"/></g><g font-weight=\"bold\" stroke=\"black\" font-family=\"sans-serif\" stroke-linecap=\"round\" font-style=\"normal\" dominant-baseline=\"hanging\" fill=\"none\" stroke-linejoin=\"round\" text-anchor=\"middle\" stroke-width=\"2px\" font-size=\"12px\"><rect width=\"884\" height=\"260\" vector-effect=\"non-scaling-stroke\" x=\"70\" y=\"70\"/><g fill=\"black\" dominant-baseline=\"middle\" font-size=\"18px\"><text y=\"35\" dominant-baseline=\"middle\" stroke=\"none\" vector-effect=\"non-scaling-stroke\" x=\"512\">accuracy metrics</text></g><g stroke=\"hsl(90, 47%, 65%)\" font-size=\"12px\" font-style=\"normal\" dominant-baseline=\"hanging\" stroke-linecap=\"round\" stroke-width=\"1px\" stroke-linejoin=\"round\" font-family=\"sans-serif\" text-anchor=\"start\" fill=\"hsl(90, 47%, 65%)\" font-weight=\"normal\"><rect y=\"366\" width=\"12\" height=\"12\" vector-effect=\"non-scaling-stroke\" x=\"76\"/><g fill=\"black\" stroke=\"black\"><text x=\"92\" y=\"366\" dominant-baseline=\"hanging\" stroke=\"none\" vector-effect=\"non-scaling-stroke\">Eval on test-eval: Mean Accuracy</text></g><g stroke=\"hsl(301, 88%, 65%)\" stroke-linejoin=\"round\" font-style=\"normal\" dominant-baseline=\"hanging\" stroke-width=\"1px\" stroke-linecap=\"round\" fill=\"hsl(301, 88%, 65%)\" font-weight=\"normal\" font-size=\"12px\" font-family=\"sans-serif\" text-anchor=\"start\"><rect y=\"384\" width=\"12\" height=\"12\" vector-effect=\"non-scaling-stroke\" x=\"76\"/><g fill=\"black\" stroke=\"black\"><text y=\"384\" dominant-baseline=\"hanging\" stroke=\"none\" vector-effect=\"non-scaling-stroke\" x=\"92\">Eval on train-eval: Mean Accuracy</text></g><g font-family=\"sans-serif\" stroke-linecap=\"round\" font-style=\"normal\" font-weight=\"normal\" stroke=\"hsl(152, 76%, 65%)\" stroke-linejoin=\"round\" text-anchor=\"start\" stroke-width=\"1px\" font-size=\"12px\" dominant-baseline=\"hanging\" fill=\"hsl(152, 76%, 65%)\"><rect width=\"12\" height=\"12\" vector-effect=\"non-scaling-stroke\" x=\"76\" y=\"402\"/><g fill=\"black\" stroke=\"black\"><text vector-effect=\"non-scaling-stroke\" x=\"92\" y=\"402\" dominant-baseline=\"hanging\" stroke=\"none\">Train: Moving Average Accuracy</text></g></g></g></g></g></svg>"
      ]
     },
     "metadata": {},
     "output_type": "display_data"
    },
    {
     "name": "stdout",
     "output_type": "stream",
     "text": [
      "\n",
      "Results on train-eval:\n"
     ]
    },
    {
     "data": {
      "text/html": [
       "<svg height=\"472\" viewbox=\"0 0 1024 400\" style=\"background-color:#f8f8f8\" preserveAspectRatio=\"xMidYMid meet\" xmlns=\"http://www.w3.org/2000/svg\" width=\"1024\"><defs><marker markerUnits=\"userSpaceOnUse\" markerWidth=\"2%\" markerHeight=\"2%\" id=\"circle\" viewBox=\"0 0 10 10 \" refX=\"5\" refY=\"5\"><circle r=\"3\" fill=\"none\" stroke=\"black\" cx=\"5\" cy=\"5\"/></marker><marker refY=\"5\" markerUnits=\"userSpaceOnUse\" markerWidth=\"2%\" markerHeight=\"2%\" id=\"filled-circle\" viewBox=\"0 0 10 10 \" refX=\"5\"><circle stroke=\"none\" cx=\"5\" cy=\"5\" r=\"3\" fill=\"black\"/></marker><marker refY=\"5\" markerUnits=\"userSpaceOnUse\" markerWidth=\"2%\" markerHeight=\"2%\" id=\"square\" viewBox=\"0 0 10 10 \" refX=\"5\"><rect stroke=\"black\" x=\"2\" y=\"2\" width=\"6\" height=\"6\" fill=\"none\"/></marker><marker id=\"filled-square\" viewBox=\"0 0 10 10 \" refX=\"5\" refY=\"5\" markerUnits=\"userSpaceOnUse\" markerWidth=\"2%\" markerHeight=\"2%\"><rect width=\"6\" height=\"6\" fill=\"black\" stroke=\"none\" x=\"2\" y=\"2\"/></marker></defs><g marker-end=\"url(#square)\" stroke-linejoin=\"round\" marker-start=\"url(#square)\" marker-mid=\"url(#square)\" fill=\"none\" stroke-width=\"2px\" stroke-linecap=\"round\" transform=\"translate(70 330 )scale(1 -1 )\" stroke=\"hsl(90, 47%, 65%)\"><path vector-effect=\"non-scaling-stroke\" d=\"M1.768000e+01,2.494666e+02 L3.461121e+01,2.470866e+02 L5.158486e+01,2.440103e+02 L6.855851e+01,2.438453e+02 L8.553216e+01,2.440388e+02 L1.025058e+02,2.437163e+02 L1.194795e+02,2.429047e+02 L1.364531e+02,2.358334e+02 L1.534268e+02,2.218264e+02 L1.704004e+02,1.895872e+02 L1.873741e+02,1.832833e+02 L2.043477e+02,1.771548e+02 L2.213214e+02,1.656264e+02 L2.382950e+02,1.829458e+02 L2.552686e+02,1.633205e+02 L2.722423e+02,1.590012e+02 L2.892159e+02,1.602683e+02 L3.061896e+02,1.586635e+02 L3.231632e+02,1.675297e+02 L3.401369e+02,1.660547e+02 L3.571105e+02,1.641729e+02 L3.740842e+02,1.712483e+02 L3.910578e+02,1.953207e+02 L4.080315e+02,1.560244e+02 L4.250051e+02,1.598726e+02 L4.419788e+02,1.726502e+02 L4.589524e+02,1.671295e+02 L4.759261e+02,1.677907e+02 L4.928997e+02,1.844051e+02 L5.098734e+02,1.700779e+02 L5.268470e+02,1.722311e+02 L5.438207e+02,1.757676e+02 L5.607943e+02,1.939691e+02 L5.777680e+02,2.155657e+02 L5.947416e+02,1.873686e+02 L6.117153e+02,1.848468e+02 L6.286889e+02,1.870599e+02 L6.456626e+02,1.923739e+02 L6.626362e+02,1.900778e+02 L6.796099e+02,1.856261e+02 L6.965835e+02,2.034714e+02 L7.135572e+02,2.090451e+02 L7.305308e+02,2.029836e+02 L7.475045e+02,2.183409e+02 L7.644781e+02,2.261047e+02 L7.814518e+02,2.041946e+02 L7.984254e+02,1.973789e+02 L8.153991e+02,2.548000e+02 L8.323727e+02,1.969629e+02 L8.493464e+02,2.293023e+02 L8.663200e+02,2.261958e+02 \"/></g><g stroke=\"hsl(301, 88%, 65%)\" stroke-linecap=\"round\" stroke-linejoin=\"round\" transform=\"translate(70 330 )scale(1 -1 )\" fill=\"none\" stroke-width=\"2px\" marker-start=\"url(#square)\" marker-end=\"url(#square)\" marker-mid=\"url(#square)\"><path vector-effect=\"non-scaling-stroke\" d=\"M1.768000e+01,2.496178e+02 L3.461121e+01,2.469387e+02 L5.158486e+01,2.438790e+02 L6.855851e+01,2.436342e+02 L8.553216e+01,2.437147e+02 L1.025058e+02,2.432637e+02 L1.194795e+02,2.419096e+02 L1.364531e+02,2.306655e+02 L1.534268e+02,1.952250e+02 L1.704004e+02,1.540683e+02 L1.873741e+02,1.337481e+02 L2.043477e+02,1.205123e+02 L2.213214e+02,1.063001e+02 L2.382950e+02,1.103934e+02 L2.552686e+02,9.206557e+01 L2.722423e+02,8.228090e+01 L2.892159e+02,7.815116e+01 L3.061896e+02,7.494832e+01 L3.231632e+02,7.293414e+01 L3.401369e+02,6.850103e+01 L3.571105e+02,6.331104e+01 L3.740842e+02,6.366948e+01 L3.910578e+02,7.505992e+01 L4.080315e+02,5.064982e+01 L4.250051e+02,4.694809e+01 L4.419788e+02,4.950497e+01 L4.589524e+02,4.195150e+01 L4.759261e+02,3.837211e+01 L4.928997e+02,4.362888e+01 L5.098734e+02,3.504479e+01 L5.268470e+02,3.334511e+01 L5.438207e+02,3.338212e+01 L5.607943e+02,3.194629e+01 L5.777680e+02,4.386774e+01 L5.947416e+02,2.591403e+01 L6.117153e+02,2.672184e+01 L6.286889e+02,2.408881e+01 L6.456626e+02,2.328816e+01 L6.626362e+02,1.935350e+01 L6.796099e+02,1.860584e+01 L6.965835e+02,2.117557e+01 L7.135572e+02,2.094654e+01 L7.305308e+02,1.721395e+01 L7.475045e+02,2.323954e+01 L7.644781e+02,2.041266e+01 L7.814518e+02,1.424598e+01 L7.984254e+02,1.308780e+01 L8.153991e+02,2.397611e+01 L8.323727e+02,1.256465e+01 L8.493464e+02,1.459349e+01 L8.663200e+02,1.456794e+01 \"/></g><g stroke-width=\"2px\" stroke-linecap=\"round\" stroke-linejoin=\"round\" stroke=\"hsl(152, 76%, 65%)\" transform=\"translate(70 330 )scale(1 -1 )\" fill=\"none\" marker-start=\"url(#square)\" marker-end=\"url(#square)\" marker-mid=\"url(#square)\"><path vector-effect=\"non-scaling-stroke\" d=\"M1.768000e+01,2.502973e+02 L3.461121e+01,2.395633e+02 L5.158486e+01,2.422632e+02 L6.855851e+01,2.470445e+02 L8.553216e+01,2.435411e+02 L1.025058e+02,2.398745e+02 L1.194795e+02,2.462290e+02 L1.364531e+02,2.396286e+02 L1.534268e+02,2.264111e+02 L1.704004e+02,1.527183e+02 L1.873741e+02,1.519939e+02 L2.043477e+02,1.000025e+02 L2.213214e+02,1.041206e+02 L2.382950e+02,1.896802e+02 L2.552686e+02,1.501695e+02 L2.722423e+02,8.985004e+01 L2.892159e+02,1.060147e+02 L3.061896e+02,1.302393e+02 L3.231632e+02,8.205105e+01 L3.401369e+02,7.187207e+01 L3.571105e+02,7.116645e+01 L3.740842e+02,8.590687e+01 L3.910578e+02,2.916411e+01 L4.080315e+02,8.208030e+01 L4.250051e+02,5.678016e+01 L4.419788e+02,8.191981e+01 L4.589524e+02,7.222045e+01 L4.759261e+02,6.064449e+01 L4.928997e+02,8.766622e+01 L5.098734e+02,7.627867e+01 L5.268470e+02,6.827964e+01 L5.438207e+02,3.709332e+01 L5.607943e+02,4.020911e+01 L5.777680e+02,1.600236e+02 L5.947416e+02,4.426914e+01 L6.117153e+02,2.936928e+01 L6.286889e+02,2.203271e+01 L6.456626e+02,6.790196e+01 L6.626362e+02,8.287797e+01 L6.796099e+02,5.368493e+01 L6.965835e+02,5.977852e+01 L7.135572e+02,4.858192e+01 L7.305308e+02,2.233729e+01 L7.475045e+02,3.430780e+01 L7.644781e+02,4.545799e+01 L7.814518e+02,4.654256e+01 L7.984254e+02,6.210178e+01 L8.153991e+02,3.356572e+01 L8.323727e+02,5.024732e+01 L8.493464e+02,5.200000e+00 L8.663200e+02,3.044859e+01 \"/></g><g stroke-linecap=\"round\" fill=\"none\" marker-end=\"url(#square)\" stroke-linejoin=\"round\" marker-start=\"url(#square)\" marker-mid=\"url(#square)\" transform=\"translate(70 330 )scale(1 -1 )\" stroke=\"hsl(3, 64%, 65%)\" stroke-width=\"2px\"><path vector-effect=\"non-scaling-stroke\" d=\"M1.768000e+01,2.502973e+02 L3.461121e+01,2.450418e+02 L5.158486e+01,2.444321e+02 L6.855851e+01,2.446858e+02 L8.553216e+01,2.442596e+02 L1.025058e+02,2.438827e+02 L1.194795e+02,2.436547e+02 L1.364531e+02,2.397281e+02 L1.534268e+02,2.121603e+02 L1.704004e+02,1.881868e+02 L1.873741e+02,1.657887e+02 L2.043477e+02,1.499004e+02 L2.213214e+02,1.366863e+02 L2.382950e+02,1.318866e+02 L2.552686e+02,1.215549e+02 L2.722423e+02,1.163253e+02 L2.892159e+02,1.077500e+02 L3.061896e+02,1.092679e+02 L3.231632e+02,9.944802e+01 L3.401369e+02,9.521987e+01 L3.571105e+02,9.355048e+01 L3.740842e+02,8.856525e+01 L3.910578e+02,8.139232e+01 L4.080315e+02,8.822173e+01 L4.250051e+02,7.905079e+01 L4.419788e+02,7.657266e+01 L4.589524e+02,7.350252e+01 L4.759261e+02,6.972006e+01 L4.928997e+02,6.557973e+01 L5.098734e+02,6.391447e+01 L5.268470e+02,6.310448e+01 L5.438207e+02,6.664625e+01 L5.607943e+02,5.732260e+01 L5.777680e+02,6.081301e+01 L5.947416e+02,5.443906e+01 L6.117153e+02,5.725393e+01 L6.286889e+02,5.356931e+01 L6.456626e+02,5.284782e+01 L6.626362e+02,4.833957e+01 L6.796099e+02,4.766895e+01 L6.965835e+02,4.914369e+01 L7.135572e+02,4.467639e+01 L7.305308e+02,4.212296e+01 L7.475045e+02,4.426320e+01 L7.644781e+02,4.205739e+01 L7.814518e+02,4.156347e+01 L7.984254e+02,4.108534e+01 L8.153991e+02,3.467924e+01 L8.323727e+02,3.728982e+01 L8.493464e+02,3.731163e+01 L8.663200e+02,3.395462e+01 \"/></g><g stroke-linejoin=\"round\" transform=\"translate(70 330 )scale(1 -1 )\" fill=\"none\" stroke=\"black\" stroke-width=\"2px\" stroke-linecap=\"round\"><path vector-effect=\"non-scaling-stroke\" d=\"M1.768000e+01,0 L1.768000e+01,-6 M1.025482e+02,0 L1.025482e+02,-6 M1.874165e+02,0 L1.874165e+02,-6 M2.722847e+02,0 L2.722847e+02,-6 M3.571530e+02,0 L3.571530e+02,-6 M4.420212e+02,0 L4.420212e+02,-6 M5.268895e+02,0 L5.268895e+02,-6 M6.117577e+02,0 L6.117577e+02,-6 M6.966259e+02,0 L6.966259e+02,-6 M7.814942e+02,0 L7.814942e+02,-6 \"/></g><g stroke=\"black\" stroke-width=\"2px\" stroke-linecap=\"round\" font-family=\"sans-serif\" text-anchor=\"middle\" dominant-baseline=\"hanging\" font-style=\"normal\" font-weight=\"normal\" fill=\"black\" stroke-linejoin=\"round\" transform=\"translate(70 330 )scale(1 1 )\" font-size=\"12px\"><text dominant-baseline=\"hanging\" stroke=\"none\" vector-effect=\"non-scaling-stroke\" x=\"1.768000e+01\" y=\"10\">0</text><text y=\"10\" dominant-baseline=\"hanging\" stroke=\"none\" vector-effect=\"non-scaling-stroke\" x=\"1.025482e+02\">2000</text><text stroke=\"none\" vector-effect=\"non-scaling-stroke\" x=\"1.874165e+02\" y=\"10\" dominant-baseline=\"hanging\">4000</text><text vector-effect=\"non-scaling-stroke\" x=\"2.722847e+02\" y=\"10\" dominant-baseline=\"hanging\" stroke=\"none\">6000</text><text vector-effect=\"non-scaling-stroke\" x=\"3.571530e+02\" y=\"10\" dominant-baseline=\"hanging\" stroke=\"none\">8000</text><text vector-effect=\"non-scaling-stroke\" x=\"4.420212e+02\" y=\"10\" dominant-baseline=\"hanging\" stroke=\"none\">10000</text><text vector-effect=\"non-scaling-stroke\" x=\"5.268895e+02\" y=\"10\" dominant-baseline=\"hanging\" stroke=\"none\">12000</text><text x=\"6.117577e+02\" y=\"10\" dominant-baseline=\"hanging\" stroke=\"none\" vector-effect=\"non-scaling-stroke\">14000</text><text x=\"6.966259e+02\" y=\"10\" dominant-baseline=\"hanging\" stroke=\"none\" vector-effect=\"non-scaling-stroke\">16000</text><text stroke=\"none\" vector-effect=\"non-scaling-stroke\" x=\"7.814942e+02\" y=\"10\" dominant-baseline=\"hanging\">18000</text></g><g font-family=\"sans-serif\" fill=\"black\" stroke=\"black\" text-anchor=\"middle\" stroke-linecap=\"round\" stroke-linejoin=\"round\" transform=\"translate(70 330 )scale(1 1 )rotate(0 0 0 )\" font-size=\"12px\" stroke-width=\"2px\" dominant-baseline=\"baseline\" font-style=\"normal\" font-weight=\"bold\"><text stroke=\"none\" vector-effect=\"non-scaling-stroke\" x=\"442\" y=\"-6\" dominant-baseline=\"baseline\">Steps</text></g><g font-weight=\"bold\" stroke-width=\"2px\" font-family=\"sans-serif\" font-size=\"12px\" dominant-baseline=\"baseline\" transform=\"translate(70 330 )scale(1 -1 )\" text-anchor=\"middle\" font-style=\"normal\" fill=\"black\" stroke=\"black\" stroke-linecap=\"round\" stroke-linejoin=\"round\"><path d=\"M0,7.073785e+01 L-6,7.073785e+01 M0,1.410188e+02 L-6,1.410188e+02 M0,2.112997e+02 L-6,2.112997e+02 \" vector-effect=\"non-scaling-stroke\"/></g><g transform=\"translate(70 330 )scale(1 1 )\" font-size=\"12px\" fill=\"black\" font-style=\"normal\" font-weight=\"normal\" stroke-width=\"2px\" stroke-linejoin=\"round\" font-family=\"sans-serif\" stroke=\"black\" text-anchor=\"end\" dominant-baseline=\"middle\" stroke-linecap=\"round\"><text stroke=\"none\" vector-effect=\"non-scaling-stroke\" x=\"-10\" y=\"-7.073785e+01\" dominant-baseline=\"middle\">0.200</text><text x=\"-10\" y=\"-1.410188e+02\" dominant-baseline=\"middle\" stroke=\"none\" vector-effect=\"non-scaling-stroke\">0.400</text><text dominant-baseline=\"middle\" stroke=\"none\" vector-effect=\"non-scaling-stroke\" x=\"-10\" y=\"-2.112997e+02\">0.600</text></g><g font-style=\"normal\" transform=\"translate(70 330 )scale(1 1 )rotate(-90 0 0 )\" font-family=\"sans-serif\" font-size=\"12px\" stroke=\"black\" stroke-width=\"2px\" text-anchor=\"middle\" font-weight=\"bold\" stroke-linejoin=\"round\" fill=\"black\" stroke-linecap=\"round\" dominant-baseline=\"hanging\"><text y=\"6\" dominant-baseline=\"hanging\" stroke=\"none\" vector-effect=\"non-scaling-stroke\" x=\"130\">loss</text></g><g font-size=\"12px\" stroke-width=\"0.5px\" font-weight=\"bold\" stroke-linecap=\"round\" transform=\"translate(70 330 )scale(1 -1 )\" font-family=\"sans-serif\" fill=\"black\" stroke=\"gray\" text-anchor=\"middle\" dominant-baseline=\"hanging\" font-style=\"normal\" stroke-linejoin=\"round\"><path vector-effect=\"non-scaling-stroke\" d=\"M0,7.073785e+01 L884,7.073785e+01 M0,1.410188e+02 L884,1.410188e+02 M0,2.112997e+02 L884,2.112997e+02 \"/></g><g font-family=\"sans-serif\" fill=\"none\" stroke-width=\"2px\" stroke-linecap=\"round\" stroke-linejoin=\"round\" font-size=\"12px\" stroke=\"black\" text-anchor=\"middle\" dominant-baseline=\"hanging\" font-style=\"normal\" font-weight=\"bold\"><rect vector-effect=\"non-scaling-stroke\" x=\"70\" y=\"70\" width=\"884\" height=\"260\"/><g font-size=\"18px\" fill=\"black\" dominant-baseline=\"middle\"><text vector-effect=\"non-scaling-stroke\" x=\"512\" y=\"35\" dominant-baseline=\"middle\" stroke=\"none\">loss metrics</text></g><g font-style=\"normal\" stroke-linecap=\"round\" stroke-linejoin=\"round\" font-size=\"12px\" fill=\"hsl(90, 47%, 65%)\" stroke-width=\"1px\" dominant-baseline=\"hanging\" font-family=\"sans-serif\" stroke=\"hsl(90, 47%, 65%)\" text-anchor=\"start\" font-weight=\"normal\"><rect y=\"366\" width=\"12\" height=\"12\" vector-effect=\"non-scaling-stroke\" x=\"76\"/><g fill=\"black\" stroke=\"black\"><text y=\"366\" dominant-baseline=\"hanging\" stroke=\"none\" vector-effect=\"non-scaling-stroke\" x=\"92\">Eval on test-eval: Mean Loss</text></g><g stroke=\"hsl(301, 88%, 65%)\" stroke-width=\"1px\" stroke-linecap=\"round\" font-family=\"sans-serif\" dominant-baseline=\"hanging\" text-anchor=\"start\" font-weight=\"normal\" stroke-linejoin=\"round\" font-size=\"12px\" fill=\"hsl(301, 88%, 65%)\" font-style=\"normal\"><rect width=\"12\" height=\"12\" vector-effect=\"non-scaling-stroke\" x=\"76\" y=\"384\"/><g stroke=\"black\" fill=\"black\"><text x=\"92\" y=\"384\" dominant-baseline=\"hanging\" stroke=\"none\" vector-effect=\"non-scaling-stroke\">Eval on train-eval: Mean Loss</text></g><g stroke-linejoin=\"round\" font-size=\"12px\" text-anchor=\"start\" font-style=\"normal\" font-weight=\"normal\" fill=\"hsl(152, 76%, 65%)\" stroke=\"hsl(152, 76%, 65%)\" stroke-linecap=\"round\" stroke-width=\"1px\" font-family=\"sans-serif\" dominant-baseline=\"hanging\"><rect height=\"12\" vector-effect=\"non-scaling-stroke\" x=\"76\" y=\"402\" width=\"12\"/><g stroke=\"black\" fill=\"black\"><text vector-effect=\"non-scaling-stroke\" x=\"92\" y=\"402\" dominant-baseline=\"hanging\" stroke=\"none\">Train: Batch Loss</text></g><g stroke-linecap=\"round\" font-family=\"sans-serif\" font-size=\"12px\" fill=\"hsl(3, 64%, 65%)\" stroke=\"hsl(3, 64%, 65%)\" text-anchor=\"start\" dominant-baseline=\"hanging\" font-weight=\"normal\" stroke-width=\"1px\" stroke-linejoin=\"round\" font-style=\"normal\"><rect vector-effect=\"non-scaling-stroke\" x=\"76\" y=\"420\" width=\"12\" height=\"12\"/><g stroke=\"black\" fill=\"black\"><text stroke=\"none\" vector-effect=\"non-scaling-stroke\" x=\"92\" y=\"420\" dominant-baseline=\"hanging\">Train: Moving Average Loss</text></g></g></g></g></g></g></svg>"
      ]
     },
     "metadata": {},
     "output_type": "display_data"
    },
    {
     "name": "stdout",
     "output_type": "stream",
     "text": [
      "\tMean Loss (#loss): 0.040\n",
      "\tMean Accuracy (#acc): 98.98%\n",
      "Results on test-eval:\n",
      "\tMean Loss (#loss): 0.642\n",
      "\tMean Accuracy (#acc): 81.56%\n"
     ]
    }
   ],
   "source": [
    "// Conv1DGraph stacks two 1D convolution layers on top of the sequence embeddings (shaped `[batch_size, sequence_len, embed_dim]`).\n",
    "func Conv1DGraph(ctx *context.Context, embed, mask *Node) *Node {\n",
    "    g := embed.Graph()\n",
    "    // 1D Convolution:\n",
    "    {\n",
    "        ctx := ctx.In(\"conv1\")\n",
    "        embed = Activation(embed)\n",
    "        embed = layers.Dropout(ctx, embed, ConstAsDType(g, DType, *flagDropoutRate))\n",
    "        embed = layers.Convolution(ctx, embed).ChannelsAfter().KernelSize(7).Filters(*flagTokenEmbeddingSize).Strides(3).Done()\n",
    "        AssertNoError(g.Error())\n",
    "        embed = Normalize(ctx, embed)\n",
    "    }\n",
    "    {\n",
    "        ctx := ctx.In(\"conv2\")\n",
    "        embed = Activation(embed)\n",
    "        embed = layers.Convolution(ctx, embed).ChannelsAfter().KernelSize(7).Filters(*flagTokenEmbeddingSize).Strides(3).Done()\n",
    "        AssertNoError(g.Error())\n",
    "        embed = Normalize(ctx, embed)\n",
    "    }\n",
    "    return embed\n",
    "}\n",
    "\n",
    "%% --model=cnn --steps=20000 --optimizer=adamw\n",
    "trainModel()"
   ]
  },
  {
   "cell_type": "markdown",
   "id": "c9adcb51-2190-4cfc-9224-07f7331bae41",
   "metadata": {},
   "source": [
    "### Transformer Model\n",
    "\n",
    "Finally a Transformer version of the model. \n",
    "\n",
    "Notice it's not significantly better than our previous simple Bag-Of-Words model. Likely because there is not enough data for the transformer to make any difference. The success of transformers in large-language-models is in large part due to the training with huge amounts of unsupervised (or self-supervised) data.\n"
   ]
  },
  {
   "cell_type": "code",
   "execution_count": 11,
   "id": "40e919bd-7029-4522-9b2f-fc64c308b671",
   "metadata": {
    "tags": []
   },
   "outputs": [
    {
     "name": "stdout",
     "output_type": "stream",
     "text": [
      "> Loading previously generated preprocessed binary file.\n",
      "Loaded data from \"aclImdb.bin\": 100000 examples, 141088 unique tokens, 23727054 tokens in total.\n",
      "Platform: CUDA\n"
     ]
    },
    {
     "data": {
      "text/html": []
     },
     "metadata": {},
     "output_type": "display_data"
    },
    {
     "name": "stdout",
     "output_type": "stream",
     "text": [
      "Training (30000 steps):  100% [\u001b[32m=\u001b[0m\u001b[32m=\u001b[0m\u001b[32m=\u001b[0m\u001b[32m=\u001b[0m\u001b[32m=\u001b[0m\u001b[32m=\u001b[0m\u001b[32m=\u001b[0m\u001b[32m=\u001b[0m\u001b[32m=\u001b[0m\u001b[32m=\u001b[0m\u001b[32m=\u001b[0m\u001b[32m=\u001b[0m\u001b[32m=\u001b[0m\u001b[32m=\u001b[0m\u001b[32m=\u001b[0m\u001b[32m=\u001b[0m\u001b[32m=\u001b[0m\u001b[32m=\u001b[0m\u001b[32m=\u001b[0m\u001b[32m=\u001b[0m\u001b[32m=\u001b[0m\u001b[32m=\u001b[0m\u001b[32m=\u001b[0m\u001b[32m=\u001b[0m\u001b[32m=\u001b[0m\u001b[32m=\u001b[0m\u001b[32m=\u001b[0m\u001b[32m=\u001b[0m\u001b[32m=\u001b[0m\u001b[32m=\u001b[0m\u001b[32m=\u001b[0m\u001b[32m=\u001b[0m\u001b[32m=\u001b[0m\u001b[32m=\u001b[0m\u001b[32m=\u001b[0m\u001b[32m=\u001b[0m\u001b[32m=\u001b[0m\u001b[32m=\u001b[0m\u001b[32m=\u001b[0m\u001b[32m=\u001b[0m] (23 steps/s)\u001b[0m [loss=0.023] [~loss=0.087] [~acc=98.27%]            \n"
     ]
    },
    {
     "data": {
      "text/html": [
       "<svg xmlns=\"http://www.w3.org/2000/svg\" width=\"1024\" height=\"454\" viewbox=\"0 0 1024 400\" style=\"background-color:#f8f8f8\" preserveAspectRatio=\"xMidYMid meet\"><defs><marker markerHeight=\"2%\" id=\"circle\" viewBox=\"0 0 10 10 \" refX=\"5\" refY=\"5\" markerUnits=\"userSpaceOnUse\" markerWidth=\"2%\"><circle stroke=\"black\" cx=\"5\" cy=\"5\" r=\"3\" fill=\"none\"/></marker><marker markerHeight=\"2%\" id=\"filled-circle\" viewBox=\"0 0 10 10 \" refX=\"5\" refY=\"5\" markerUnits=\"userSpaceOnUse\" markerWidth=\"2%\"><circle cx=\"5\" cy=\"5\" r=\"3\" fill=\"black\" stroke=\"none\"/></marker><marker markerUnits=\"userSpaceOnUse\" markerWidth=\"2%\" markerHeight=\"2%\" id=\"square\" viewBox=\"0 0 10 10 \" refX=\"5\" refY=\"5\"><rect stroke=\"black\" x=\"2\" y=\"2\" width=\"6\" height=\"6\" fill=\"none\"/></marker><marker id=\"filled-square\" viewBox=\"0 0 10 10 \" refX=\"5\" refY=\"5\" markerUnits=\"userSpaceOnUse\" markerWidth=\"2%\" markerHeight=\"2%\"><rect height=\"6\" fill=\"black\" stroke=\"none\" x=\"2\" y=\"2\" width=\"6\"/></marker></defs><g marker-mid=\"url(#square)\" stroke-width=\"2px\" stroke-linecap=\"round\" stroke-linejoin=\"round\" marker-start=\"url(#square)\" transform=\"translate(70 330 )scale(1 -1 )\" fill=\"none\" stroke=\"hsl(90, 47%, 65%)\" marker-end=\"url(#square)\"><path vector-effect=\"non-scaling-stroke\" d=\"M1.768000e+01,5.200000e+00 L3.462508e+01,5.241065e+00 L5.159844e+01,3.483045e+01 L6.857181e+01,1.753441e+02 L8.554517e+01,1.860218e+02 L1.025185e+02,1.843175e+02 L1.194919e+02,1.815864e+02 L1.364653e+02,1.872333e+02 L1.534386e+02,1.939890e+02 L1.704120e+02,1.876850e+02 L1.873854e+02,1.935167e+02 L2.043587e+02,1.893894e+02 L2.213321e+02,1.910526e+02 L2.383055e+02,1.904160e+02 L2.552788e+02,1.909705e+02 L2.722522e+02,1.904982e+02 L2.892256e+02,1.908473e+02 L3.061989e+02,1.873359e+02 L3.231723e+02,1.900259e+02 L3.401457e+02,1.882600e+02 L3.571190e+02,1.898616e+02 L3.740924e+02,1.886912e+02 L3.910658e+02,1.875618e+02 L4.080391e+02,1.861244e+02 L4.250125e+02,1.871101e+02 L4.419859e+02,1.869253e+02 L4.589592e+02,1.857959e+02 L4.759326e+02,1.863709e+02 L4.929060e+02,1.857138e+02 L5.098793e+02,1.878493e+02 L5.268527e+02,1.866583e+02 L5.438261e+02,1.853647e+02 L5.607994e+02,1.844407e+02 L5.777728e+02,1.860628e+02 L5.947461e+02,1.858575e+02 L6.117195e+02,1.846665e+02 L6.286929e+02,1.849745e+02 L6.456662e+02,1.837220e+02 L6.626396e+02,1.842559e+02 L6.796130e+02,1.835783e+02 L6.965863e+02,1.830444e+02 L7.135597e+02,1.837836e+02 L7.305331e+02,1.831265e+02 L7.475064e+02,1.821819e+02 L7.644798e+02,1.835783e+02 L7.814532e+02,1.833524e+02 L7.984265e+02,1.818329e+02 L8.153999e+02,1.834756e+02 L8.323733e+02,1.819355e+02 L8.493466e+02,1.821614e+02 L8.663200e+02,1.832908e+02 \"/></g><g marker-start=\"url(#square)\" marker-mid=\"url(#square)\" transform=\"translate(70 330 )scale(1 -1 )\" marker-end=\"url(#square)\" stroke-linecap=\"round\" stroke-linejoin=\"round\" fill=\"none\" stroke=\"hsl(301, 88%, 65%)\" stroke-width=\"2px\"><path vector-effect=\"non-scaling-stroke\" d=\"M1.768000e+01,5.241065e+00 L3.462508e+01,5.241065e+00 L5.159844e+01,4.090850e+01 L6.857181e+01,1.932087e+02 L8.554517e+01,2.071923e+02 L1.025185e+02,2.088145e+02 L1.194919e+02,2.054469e+02 L1.364653e+02,2.159192e+02 L1.534386e+02,2.260835e+02 L1.704120e+02,2.205188e+02 L1.873854e+02,2.330650e+02 L2.043587e+02,2.306215e+02 L2.213321e+02,2.305188e+02 L2.383055e+02,2.352211e+02 L2.552788e+02,2.371718e+02 L2.722522e+02,2.409295e+02 L2.892256e+02,2.442560e+02 L3.061989e+02,2.325516e+02 L3.231723e+02,2.444408e+02 L3.401457e+02,2.403135e+02 L3.571190e+02,2.464326e+02 L3.740924e+02,2.454675e+02 L3.910658e+02,2.447899e+02 L4.080391e+02,2.415661e+02 L4.250125e+02,2.483833e+02 L4.419859e+02,2.508474e+02 L4.589592e+02,2.485476e+02 L4.759326e+02,2.492047e+02 L4.929060e+02,2.498002e+02 L5.098793e+02,2.504162e+02 L5.268527e+02,2.515661e+02 L5.438261e+02,2.512581e+02 L5.607994e+02,2.479316e+02 L5.777728e+02,2.513402e+02 L5.947461e+02,2.526338e+02 L6.117195e+02,2.523875e+02 L6.286929e+02,2.527981e+02 L6.456662e+02,2.518536e+02 L6.626396e+02,2.525517e+02 L6.796130e+02,2.512376e+02 L6.965863e+02,2.517920e+02 L7.135597e+02,2.526544e+02 L7.305331e+02,2.508269e+02 L7.475064e+02,2.446256e+02 L7.644798e+02,2.532704e+02 L7.814532e+02,2.533731e+02 L7.984265e+02,2.494716e+02 L8.153999e+02,2.528597e+02 L8.323733e+02,2.484860e+02 L8.493466e+02,2.519562e+02 L8.663200e+02,2.529008e+02 \"/></g><g marker-end=\"url(#square)\" transform=\"translate(70 330 )scale(1 -1 )\" fill=\"none\" stroke-width=\"2px\" stroke-linecap=\"round\" marker-mid=\"url(#square)\" stroke=\"hsl(152, 76%, 65%)\" stroke-linejoin=\"round\" marker-start=\"url(#square)\"><path vector-effect=\"non-scaling-stroke\" d=\"M1.768000e+01,6.938906e+01 L3.462508e+01,1.491894e+01 L5.159844e+01,1.047344e+01 L6.857181e+01,1.726257e+02 L8.554517e+01,2.007656e+02 L1.025185e+02,2.088351e+02 L1.194919e+02,2.154236e+02 L1.364653e+02,2.193154e+02 L1.534386e+02,2.214969e+02 L1.704120e+02,2.229109e+02 L1.873854e+02,2.302505e+02 L2.043587e+02,2.292012e+02 L2.213321e+02,2.340020e+02 L2.383055e+02,2.324504e+02 L2.552788e+02,2.355357e+02 L2.722522e+02,2.399573e+02 L2.892256e+02,2.387097e+02 L3.061989e+02,2.415706e+02 L3.231723e+02,2.410529e+02 L3.401457e+02,2.445408e+02 L3.571190e+02,2.461541e+02 L3.740924e+02,2.481752e+02 L3.910658e+02,2.456847e+02 L4.080391e+02,2.473223e+02 L4.250125e+02,2.500164e+02 L4.419859e+02,2.501026e+02 L4.589592e+02,2.469712e+02 L4.759326e+02,2.498376e+02 L4.929060e+02,2.500460e+02 L5.098793e+02,2.505035e+02 L5.268527e+02,2.501575e+02 L5.438261e+02,2.504089e+02 L5.607994e+02,2.500496e+02 L5.777728e+02,2.504306e+02 L5.947461e+02,2.516071e+02 L6.117195e+02,2.514852e+02 L6.286929e+02,2.524340e+02 L6.456662e+02,2.513150e+02 L6.626396e+02,2.516686e+02 L6.796130e+02,2.502891e+02 L6.965863e+02,2.512679e+02 L7.135597e+02,2.521037e+02 L7.305331e+02,2.537557e+02 L7.475064e+02,2.500326e+02 L7.644798e+02,2.526219e+02 L7.814532e+02,2.528093e+02 L7.984265e+02,2.548000e+02 L8.153999e+02,2.519706e+02 L8.323733e+02,2.536820e+02 L8.493466e+02,2.547641e+02 L8.663200e+02,2.529500e+02 \"/></g><g fill=\"none\" stroke=\"black\" stroke-width=\"2px\" stroke-linecap=\"round\" stroke-linejoin=\"round\" transform=\"translate(70 330 )scale(1 -1 )\"><path vector-effect=\"non-scaling-stroke\" d=\"M1.768000e+01,0 L1.768000e+01,-6 M7.425789e+01,0 L7.425789e+01,-6 M1.308358e+02,0 L1.308358e+02,-6 M1.874137e+02,0 L1.874137e+02,-6 M2.439915e+02,0 L2.439915e+02,-6 M3.005694e+02,0 L3.005694e+02,-6 M3.571473e+02,0 L3.571473e+02,-6 M4.137252e+02,0 L4.137252e+02,-6 M4.703031e+02,0 L4.703031e+02,-6 M5.268810e+02,0 L5.268810e+02,-6 M5.834589e+02,0 L5.834589e+02,-6 M6.400367e+02,0 L6.400367e+02,-6 M6.966146e+02,0 L6.966146e+02,-6 M7.531925e+02,0 L7.531925e+02,-6 M8.097704e+02,0 L8.097704e+02,-6 \"/></g><g font-size=\"12px\" stroke-linecap=\"round\" transform=\"translate(70 330 )scale(1 1 )\" font-weight=\"normal\" stroke=\"black\" font-style=\"normal\" dominant-baseline=\"hanging\" font-family=\"sans-serif\" stroke-width=\"2px\" stroke-linejoin=\"round\" fill=\"black\" text-anchor=\"middle\"><text dominant-baseline=\"hanging\" stroke=\"none\" vector-effect=\"non-scaling-stroke\" x=\"1.768000e+01\" y=\"10\">0</text><text stroke=\"none\" vector-effect=\"non-scaling-stroke\" x=\"7.425789e+01\" y=\"10\" dominant-baseline=\"hanging\">2000</text><text dominant-baseline=\"hanging\" stroke=\"none\" vector-effect=\"non-scaling-stroke\" x=\"1.308358e+02\" y=\"10\">4000</text><text y=\"10\" dominant-baseline=\"hanging\" stroke=\"none\" vector-effect=\"non-scaling-stroke\" x=\"1.874137e+02\">6000</text><text stroke=\"none\" vector-effect=\"non-scaling-stroke\" x=\"2.439915e+02\" y=\"10\" dominant-baseline=\"hanging\">8000</text><text stroke=\"none\" vector-effect=\"non-scaling-stroke\" x=\"3.005694e+02\" y=\"10\" dominant-baseline=\"hanging\">10000</text><text y=\"10\" dominant-baseline=\"hanging\" stroke=\"none\" vector-effect=\"non-scaling-stroke\" x=\"3.571473e+02\">12000</text><text dominant-baseline=\"hanging\" stroke=\"none\" vector-effect=\"non-scaling-stroke\" x=\"4.137252e+02\" y=\"10\">14000</text><text dominant-baseline=\"hanging\" stroke=\"none\" vector-effect=\"non-scaling-stroke\" x=\"4.703031e+02\" y=\"10\">16000</text><text dominant-baseline=\"hanging\" stroke=\"none\" vector-effect=\"non-scaling-stroke\" x=\"5.268810e+02\" y=\"10\">18000</text><text dominant-baseline=\"hanging\" stroke=\"none\" vector-effect=\"non-scaling-stroke\" x=\"5.834589e+02\" y=\"10\">20000</text><text stroke=\"none\" vector-effect=\"non-scaling-stroke\" x=\"6.400367e+02\" y=\"10\" dominant-baseline=\"hanging\">22000</text><text y=\"10\" dominant-baseline=\"hanging\" stroke=\"none\" vector-effect=\"non-scaling-stroke\" x=\"6.966146e+02\">24000</text><text y=\"10\" dominant-baseline=\"hanging\" stroke=\"none\" vector-effect=\"non-scaling-stroke\" x=\"7.531925e+02\">26000</text><text vector-effect=\"non-scaling-stroke\" x=\"8.097704e+02\" y=\"10\" dominant-baseline=\"hanging\" stroke=\"none\">28000</text></g><g dominant-baseline=\"baseline\" transform=\"translate(70 330 )scale(1 1 )rotate(0 0 0 )\" stroke-width=\"2px\" stroke-linejoin=\"round\" font-family=\"sans-serif\" font-size=\"12px\" font-weight=\"bold\" fill=\"black\" stroke=\"black\" stroke-linecap=\"round\" font-style=\"normal\" text-anchor=\"middle\"><text y=\"-6\" dominant-baseline=\"baseline\" stroke=\"none\" vector-effect=\"non-scaling-stroke\" x=\"442\">Steps</text></g><g stroke-linejoin=\"round\" font-weight=\"bold\" fill=\"black\" text-anchor=\"middle\" font-family=\"sans-serif\" font-style=\"normal\" stroke-linecap=\"round\" transform=\"translate(70 330 )scale(1 -1 )\" stroke=\"black\" stroke-width=\"2px\" dominant-baseline=\"baseline\" font-size=\"12px\"><path vector-effect=\"non-scaling-stroke\" d=\"M0,5.241065e+00 L-6,5.241065e+00 M0,5.655946e+01 L-6,5.655946e+01 M0,1.078779e+02 L-6,1.078779e+02 M0,1.591963e+02 L-6,1.591963e+02 M0,2.105146e+02 L-6,2.105146e+02 \"/></g><g stroke-linecap=\"round\" transform=\"translate(70 330 )scale(1 1 )\" font-family=\"sans-serif\" text-anchor=\"end\" fill=\"black\" stroke=\"black\" stroke-width=\"2px\" font-size=\"12px\" font-style=\"normal\" dominant-baseline=\"middle\" stroke-linejoin=\"round\" font-weight=\"normal\"><text dominant-baseline=\"middle\" stroke=\"none\" vector-effect=\"non-scaling-stroke\" x=\"-10\" y=\"-5.241065e+00\">0.500</text><text stroke=\"none\" vector-effect=\"non-scaling-stroke\" x=\"-10\" y=\"-5.655946e+01\" dominant-baseline=\"middle\">0.600</text><text x=\"-10\" y=\"-1.078779e+02\" dominant-baseline=\"middle\" stroke=\"none\" vector-effect=\"non-scaling-stroke\">0.700</text><text stroke=\"none\" vector-effect=\"non-scaling-stroke\" x=\"-10\" y=\"-1.591963e+02\" dominant-baseline=\"middle\">0.800</text><text stroke=\"none\" vector-effect=\"non-scaling-stroke\" x=\"-10\" y=\"-2.105146e+02\" dominant-baseline=\"middle\">0.900</text></g><g font-weight=\"bold\" dominant-baseline=\"hanging\" font-family=\"sans-serif\" font-size=\"12px\" stroke-width=\"2px\" stroke-linecap=\"round\" stroke-linejoin=\"round\" font-style=\"normal\" text-anchor=\"middle\" transform=\"translate(70 330 )scale(1 1 )rotate(-90 0 0 )\" fill=\"black\" stroke=\"black\"><text y=\"6\" dominant-baseline=\"hanging\" stroke=\"none\" vector-effect=\"non-scaling-stroke\" x=\"130\">accuracy</text></g><g transform=\"translate(70 330 )scale(1 -1 )\" font-style=\"normal\" text-anchor=\"middle\" dominant-baseline=\"hanging\" stroke-width=\"0.5px\" stroke-linecap=\"round\" stroke-linejoin=\"round\" font-weight=\"bold\" font-family=\"sans-serif\" font-size=\"12px\" fill=\"black\" stroke=\"gray\"><path vector-effect=\"non-scaling-stroke\" d=\"M0,5.241065e+00 L884,5.241065e+00 M0,5.655946e+01 L884,5.655946e+01 M0,1.078779e+02 L884,1.078779e+02 M0,1.591963e+02 L884,1.591963e+02 M0,2.105146e+02 L884,2.105146e+02 \"/></g><g text-anchor=\"middle\" font-family=\"sans-serif\" stroke=\"black\" stroke-width=\"2px\" stroke-linecap=\"round\" font-size=\"12px\" font-style=\"normal\" font-weight=\"bold\" fill=\"none\" dominant-baseline=\"hanging\" stroke-linejoin=\"round\"><rect y=\"70\" width=\"884\" height=\"260\" vector-effect=\"non-scaling-stroke\" x=\"70\"/><g font-size=\"18px\" dominant-baseline=\"middle\" fill=\"black\"><text x=\"512\" y=\"35\" dominant-baseline=\"middle\" stroke=\"none\" vector-effect=\"non-scaling-stroke\">accuracy metrics</text></g><g text-anchor=\"start\" font-style=\"normal\" stroke-width=\"1px\" stroke-linecap=\"round\" stroke-linejoin=\"round\" font-weight=\"normal\" fill=\"hsl(90, 47%, 65%)\" font-size=\"12px\" dominant-baseline=\"hanging\" stroke=\"hsl(90, 47%, 65%)\" font-family=\"sans-serif\"><rect height=\"12\" vector-effect=\"non-scaling-stroke\" x=\"76\" y=\"366\" width=\"12\"/><g stroke=\"black\" fill=\"black\"><text stroke=\"none\" vector-effect=\"non-scaling-stroke\" x=\"92\" y=\"366\" dominant-baseline=\"hanging\">Eval on test-eval: Mean Accuracy</text></g><g fill=\"hsl(301, 88%, 65%)\" stroke=\"hsl(301, 88%, 65%)\" stroke-width=\"1px\" stroke-linecap=\"round\" stroke-linejoin=\"round\" font-weight=\"normal\" text-anchor=\"start\" dominant-baseline=\"hanging\" font-family=\"sans-serif\" font-size=\"12px\" font-style=\"normal\"><rect y=\"384\" width=\"12\" height=\"12\" vector-effect=\"non-scaling-stroke\" x=\"76\"/><g stroke=\"black\" fill=\"black\"><text stroke=\"none\" vector-effect=\"non-scaling-stroke\" x=\"92\" y=\"384\" dominant-baseline=\"hanging\">Eval on train-eval: Mean Accuracy</text></g><g dominant-baseline=\"hanging\" stroke-linejoin=\"round\" stroke=\"hsl(152, 76%, 65%)\" stroke-width=\"1px\" fill=\"hsl(152, 76%, 65%)\" text-anchor=\"start\" font-family=\"sans-serif\" font-size=\"12px\" font-style=\"normal\" stroke-linecap=\"round\" font-weight=\"normal\"><rect vector-effect=\"non-scaling-stroke\" x=\"76\" y=\"402\" width=\"12\" height=\"12\"/><g fill=\"black\" stroke=\"black\"><text vector-effect=\"non-scaling-stroke\" x=\"92\" y=\"402\" dominant-baseline=\"hanging\" stroke=\"none\">Train: Moving Average Accuracy</text></g></g></g></g></g></svg>"
      ]
     },
     "metadata": {},
     "output_type": "display_data"
    },
    {
     "name": "stdout",
     "output_type": "stream",
     "text": [
      "\n",
      "Results on train-eval:\n"
     ]
    },
    {
     "data": {
      "text/html": [
       "<svg height=\"472\" viewbox=\"0 0 1024 400\" style=\"background-color:#f8f8f8\" preserveAspectRatio=\"xMidYMid meet\" xmlns=\"http://www.w3.org/2000/svg\" width=\"1024\"><defs><marker markerUnits=\"userSpaceOnUse\" markerWidth=\"2%\" markerHeight=\"2%\" id=\"circle\" viewBox=\"0 0 10 10 \" refX=\"5\" refY=\"5\"><circle fill=\"none\" stroke=\"black\" cx=\"5\" cy=\"5\" r=\"3\"/></marker><marker viewBox=\"0 0 10 10 \" refX=\"5\" refY=\"5\" markerUnits=\"userSpaceOnUse\" markerWidth=\"2%\" markerHeight=\"2%\" id=\"filled-circle\"><circle cy=\"5\" r=\"3\" fill=\"black\" stroke=\"none\" cx=\"5\"/></marker><marker viewBox=\"0 0 10 10 \" refX=\"5\" refY=\"5\" markerUnits=\"userSpaceOnUse\" markerWidth=\"2%\" markerHeight=\"2%\" id=\"square\"><rect height=\"6\" fill=\"none\" stroke=\"black\" x=\"2\" y=\"2\" width=\"6\"/></marker><marker viewBox=\"0 0 10 10 \" refX=\"5\" refY=\"5\" markerUnits=\"userSpaceOnUse\" markerWidth=\"2%\" markerHeight=\"2%\" id=\"filled-square\"><rect fill=\"black\" stroke=\"none\" x=\"2\" y=\"2\" width=\"6\" height=\"6\"/></marker></defs><g marker-mid=\"url(#square)\" stroke-linejoin=\"round\" marker-start=\"url(#square)\" transform=\"translate(70 330 )scale(1 -1 )\" fill=\"none\" stroke-width=\"2px\" stroke-linecap=\"round\" marker-end=\"url(#square)\" stroke=\"hsl(90, 47%, 65%)\"><path vector-effect=\"non-scaling-stroke\" d=\"M1.768000e+01,2.546691e+02 L3.462508e+01,2.509594e+02 L5.159844e+01,2.490550e+02 L6.857181e+01,1.519335e+02 L8.554517e+01,1.350942e+02 L1.025185e+02,1.370872e+02 L1.194919e+02,1.426035e+02 L1.364653e+02,1.238971e+02 L1.534386e+02,1.221257e+02 L1.704120e+02,1.215279e+02 L1.873854e+02,1.217639e+02 L2.043587e+02,1.201424e+02 L2.213321e+02,1.253255e+02 L2.383055e+02,1.257104e+02 L2.552788e+02,1.302402e+02 L2.722522e+02,1.348380e+02 L2.892256e+02,1.332912e+02 L3.061989e+02,1.385259e+02 L3.231723e+02,1.349604e+02 L3.401457e+02,1.388744e+02 L3.571190e+02,1.475435e+02 L3.740924e+02,1.629102e+02 L3.910658e+02,1.515261e+02 L4.080391e+02,1.551518e+02 L4.250125e+02,1.764419e+02 L4.419859e+02,1.807417e+02 L4.589592e+02,1.628384e+02 L4.759326e+02,1.734808e+02 L4.929060e+02,1.819694e+02 L5.098793e+02,1.754086e+02 L5.268527e+02,1.827150e+02 L5.438261e+02,1.818229e+02 L5.607994e+02,1.741491e+02 L5.777728e+02,1.768389e+02 L5.947461e+02,1.916228e+02 L6.117195e+02,1.876691e+02 L6.286929e+02,1.978711e+02 L6.456662e+02,2.000640e+02 L6.626396e+02,1.955366e+02 L6.796130e+02,1.948869e+02 L6.965863e+02,1.972863e+02 L7.135597e+02,2.106780e+02 L7.305331e+02,2.062032e+02 L7.475064e+02,2.143088e+02 L7.644798e+02,2.102236e+02 L7.814532e+02,2.048415e+02 L7.984265e+02,2.130007e+02 L8.153999e+02,2.061916e+02 L8.323733e+02,2.197878e+02 L8.493466e+02,2.188065e+02 L8.663200e+02,2.068364e+02 \"/></g><g stroke-width=\"2px\" stroke-linejoin=\"round\" fill=\"none\" marker-mid=\"url(#square)\" stroke=\"hsl(301, 88%, 65%)\" marker-end=\"url(#square)\" transform=\"translate(70 330 )scale(1 -1 )\" stroke-linecap=\"round\" marker-start=\"url(#square)\"><path vector-effect=\"non-scaling-stroke\" d=\"M1.768000e+01,2.548000e+02 L3.462508e+01,2.507542e+02 L5.159844e+01,2.483291e+02 L6.857181e+01,1.297273e+02 L8.554517e+01,1.057583e+02 L1.025185e+02,1.038841e+02 L1.194919e+02,1.049168e+02 L1.364653e+02,8.810819e+01 L1.534386e+02,7.903648e+01 L1.704120e+02,7.875669e+01 L1.873854e+02,6.904733e+01 L2.043587e+02,7.253468e+01 L2.213321e+02,6.719601e+01 L2.383055e+02,6.467111e+01 L2.552788e+02,6.053024e+01 L2.722522e+02,5.815182e+01 L2.892256e+02,5.532026e+01 L3.061989e+02,5.825434e+01 L3.231723e+02,5.293361e+01 L3.401457e+02,5.269416e+01 L3.571190e+02,4.619931e+01 L3.740924e+02,4.495543e+01 L3.910658e+02,4.764400e+01 L4.080391e+02,4.849726e+01 L4.250125e+02,4.033200e+01 L4.419859e+02,3.736763e+01 L4.589592e+02,4.270838e+01 L4.759326e+02,4.389778e+01 L4.929060e+02,3.755304e+01 L5.098793e+02,3.759189e+01 L5.268527e+02,3.497593e+01 L5.438261e+02,3.576125e+01 L5.607994e+02,4.279896e+01 L5.777728e+02,3.678888e+01 L5.947461e+02,3.260446e+01 L6.117195e+02,3.590394e+01 L6.286929e+02,3.276669e+01 L6.456662e+02,3.268631e+01 L6.626396e+02,3.386625e+01 L6.796130e+02,3.380376e+01 L6.965863e+02,3.295620e+01 L7.135597e+02,3.058032e+01 L7.305331e+02,3.280060e+01 L7.475064e+02,4.176090e+01 L7.644798e+02,2.960538e+01 L7.814532e+02,3.037213e+01 L7.984265e+02,3.341565e+01 L8.153999e+02,2.971872e+01 L8.323733e+02,3.481089e+01 L8.493466e+02,3.045259e+01 L8.663200e+02,2.960029e+01 \"/></g><g transform=\"translate(70 330 )scale(1 -1 )\" fill=\"none\" stroke=\"hsl(152, 76%, 65%)\" stroke-width=\"2px\" marker-mid=\"url(#square)\" marker-end=\"url(#square)\" stroke-linecap=\"round\" stroke-linejoin=\"round\" marker-start=\"url(#square)\"><path vector-effect=\"non-scaling-stroke\" d=\"M1.768000e+01,2.478347e+02 L3.462508e+01,2.457026e+02 L5.159844e+01,2.504178e+02 L6.857181e+01,1.244030e+02 L8.554517e+01,1.624105e+02 L1.025185e+02,1.138184e+02 L1.194919e+02,8.778619e+01 L1.364653e+02,5.579185e+01 L1.534386e+02,9.045705e+01 L1.704120e+02,9.538129e+01 L1.873854e+02,2.641159e+01 L2.043587e+02,4.798566e+01 L2.213321e+02,5.839820e+01 L2.383055e+02,7.014200e+01 L2.552788e+02,5.277667e+01 L2.722522e+02,1.551337e+01 L2.892256e+02,1.567419e+01 L3.061989e+02,8.332889e+01 L3.231723e+02,4.532461e+01 L3.401457e+02,1.830046e+01 L3.571190e+02,1.125533e+01 L3.740924e+02,8.912841e+00 L3.910658e+02,2.410318e+01 L4.080391e+02,1.342063e+01 L4.250125e+02,8.697318e+00 L4.419859e+02,5.361299e+01 L4.589592e+02,3.945452e+01 L4.759326e+02,1.095591e+02 L4.929060e+02,8.535801e+00 L5.098793e+02,9.038528e+01 L5.268527e+02,9.428448e+00 L5.438261e+02,4.658799e+01 L5.607994e+02,8.310600e+00 L5.777728e+02,8.997530e+00 L5.947461e+02,6.061855e+01 L6.117195e+02,4.149010e+01 L6.286929e+02,6.250611e+01 L6.456662e+02,5.571452e+01 L6.626396e+02,5.865915e+00 L6.796130e+02,5.650797e+01 L6.965863e+02,8.176560e+00 L7.135597e+02,5.507436e+01 L7.305331e+02,5.910957e+00 L7.475064e+02,4.508862e+01 L7.644798e+02,6.883901e+00 L7.814532e+02,7.053761e+00 L7.984265e+02,5.747195e+00 L8.153999e+02,6.533230e+01 L8.323733e+02,5.455917e+00 L8.493466e+02,5.200000e+00 L8.663200e+02,8.125487e+00 \"/></g><g fill=\"none\" stroke=\"hsl(3, 64%, 65%)\" stroke-width=\"2px\" marker-end=\"url(#square)\" transform=\"translate(70 330 )scale(1 -1 )\" stroke-linecap=\"round\" stroke-linejoin=\"round\" marker-start=\"url(#square)\" marker-mid=\"url(#square)\"><path vector-effect=\"non-scaling-stroke\" d=\"M1.768000e+01,2.478347e+02 L3.462508e+01,2.509810e+02 L5.159844e+01,2.508532e+02 L6.857181e+01,1.570832e+02 L8.554517e+01,1.170438e+02 L1.025185e+02,1.057692e+02 L1.194919e+02,9.295568e+01 L1.364653e+02,8.920888e+01 L1.534386e+02,8.444691e+01 L1.704120e+02,8.181658e+01 L1.873854e+02,7.363376e+01 L2.043587e+02,7.315642e+01 L2.213321e+02,6.821959e+01 L2.383055e+02,6.743344e+01 L2.552788e+02,6.129345e+01 L2.722522e+02,5.637874e+01 L2.892256e+02,5.800704e+01 L3.061989e+02,5.564596e+01 L3.231723e+02,5.534485e+01 L3.401457e+02,4.939329e+01 L3.571190e+02,4.543730e+01 L3.740924e+02,4.285999e+01 L3.910658e+02,4.544834e+01 L4.080391e+02,4.119105e+01 L4.250125e+02,3.660463e+01 L4.419859e+02,3.568663e+01 L4.589592e+02,4.350883e+01 L4.759326e+02,3.920828e+01 L4.929060e+02,3.882603e+01 L5.098793e+02,3.682567e+01 L5.268527e+02,3.700556e+01 L5.438261e+02,3.781624e+01 L5.607994e+02,3.665102e+01 L5.777728e+02,3.681543e+01 L5.947461e+02,3.447385e+01 L6.117195e+02,3.454102e+01 L6.286929e+02,3.353340e+01 L6.456662e+02,3.546155e+01 L6.626396e+02,3.387054e+01 L6.796130e+02,3.697247e+01 L6.965863e+02,3.546127e+01 L7.135597e+02,3.266834e+01 L7.305331e+02,2.780608e+01 L7.475064e+02,3.732762e+01 L7.644798e+02,3.061079e+01 L7.814532e+02,3.236201e+01 L7.984265e+02,2.576748e+01 L8.153999e+02,3.380382e+01 L8.323733e+02,2.867290e+01 L8.493466e+02,2.647928e+01 L8.663200e+02,3.162621e+01 \"/></g><g stroke-linecap=\"round\" stroke-linejoin=\"round\" fill=\"none\" stroke=\"black\" stroke-width=\"2px\" transform=\"translate(70 330 )scale(1 -1 )\"><path vector-effect=\"non-scaling-stroke\" d=\"M1.768000e+01,0 L1.768000e+01,-6 M7.425789e+01,0 L7.425789e+01,-6 M1.308358e+02,0 L1.308358e+02,-6 M1.874137e+02,0 L1.874137e+02,-6 M2.439915e+02,0 L2.439915e+02,-6 M3.005694e+02,0 L3.005694e+02,-6 M3.571473e+02,0 L3.571473e+02,-6 M4.137252e+02,0 L4.137252e+02,-6 M4.703031e+02,0 L4.703031e+02,-6 M5.268810e+02,0 L5.268810e+02,-6 M5.834589e+02,0 L5.834589e+02,-6 M6.400367e+02,0 L6.400367e+02,-6 M6.966146e+02,0 L6.966146e+02,-6 M7.531925e+02,0 L7.531925e+02,-6 M8.097704e+02,0 L8.097704e+02,-6 \"/></g><g fill=\"black\" stroke=\"black\" font-family=\"sans-serif\" text-anchor=\"middle\" stroke-linecap=\"round\" stroke-linejoin=\"round\" font-size=\"12px\" dominant-baseline=\"hanging\" stroke-width=\"2px\" transform=\"translate(70 330 )scale(1 1 )\" font-style=\"normal\" font-weight=\"normal\"><text x=\"1.768000e+01\" y=\"10\" dominant-baseline=\"hanging\" stroke=\"none\" vector-effect=\"non-scaling-stroke\">0</text><text dominant-baseline=\"hanging\" stroke=\"none\" vector-effect=\"non-scaling-stroke\" x=\"7.425789e+01\" y=\"10\">2000</text><text vector-effect=\"non-scaling-stroke\" x=\"1.308358e+02\" y=\"10\" dominant-baseline=\"hanging\" stroke=\"none\">4000</text><text y=\"10\" dominant-baseline=\"hanging\" stroke=\"none\" vector-effect=\"non-scaling-stroke\" x=\"1.874137e+02\">6000</text><text y=\"10\" dominant-baseline=\"hanging\" stroke=\"none\" vector-effect=\"non-scaling-stroke\" x=\"2.439915e+02\">8000</text><text stroke=\"none\" vector-effect=\"non-scaling-stroke\" x=\"3.005694e+02\" y=\"10\" dominant-baseline=\"hanging\">10000</text><text stroke=\"none\" vector-effect=\"non-scaling-stroke\" x=\"3.571473e+02\" y=\"10\" dominant-baseline=\"hanging\">12000</text><text x=\"4.137252e+02\" y=\"10\" dominant-baseline=\"hanging\" stroke=\"none\" vector-effect=\"non-scaling-stroke\">14000</text><text y=\"10\" dominant-baseline=\"hanging\" stroke=\"none\" vector-effect=\"non-scaling-stroke\" x=\"4.703031e+02\">16000</text><text dominant-baseline=\"hanging\" stroke=\"none\" vector-effect=\"non-scaling-stroke\" x=\"5.268810e+02\" y=\"10\">18000</text><text dominant-baseline=\"hanging\" stroke=\"none\" vector-effect=\"non-scaling-stroke\" x=\"5.834589e+02\" y=\"10\">20000</text><text vector-effect=\"non-scaling-stroke\" x=\"6.400367e+02\" y=\"10\" dominant-baseline=\"hanging\" stroke=\"none\">22000</text><text dominant-baseline=\"hanging\" stroke=\"none\" vector-effect=\"non-scaling-stroke\" x=\"6.966146e+02\" y=\"10\">24000</text><text x=\"7.531925e+02\" y=\"10\" dominant-baseline=\"hanging\" stroke=\"none\" vector-effect=\"non-scaling-stroke\">26000</text><text vector-effect=\"non-scaling-stroke\" x=\"8.097704e+02\" y=\"10\" dominant-baseline=\"hanging\" stroke=\"none\">28000</text></g><g stroke-linejoin=\"round\" font-size=\"12px\" font-weight=\"bold\" font-family=\"sans-serif\" font-style=\"normal\" text-anchor=\"middle\" stroke-linecap=\"round\" fill=\"black\" stroke=\"black\" stroke-width=\"2px\" transform=\"translate(70 330 )scale(1 1 )rotate(0 0 0 )\" dominant-baseline=\"baseline\"><text y=\"-6\" dominant-baseline=\"baseline\" stroke=\"none\" vector-effect=\"non-scaling-stroke\" x=\"442\">Steps</text></g><g stroke=\"black\" font-family=\"sans-serif\" font-style=\"normal\" font-size=\"12px\" font-weight=\"bold\" text-anchor=\"middle\" dominant-baseline=\"baseline\" transform=\"translate(70 330 )scale(1 -1 )\" stroke-linecap=\"round\" stroke-linejoin=\"round\" fill=\"black\" stroke-width=\"2px\"><path vector-effect=\"non-scaling-stroke\" d=\"M0,7.238400e+01 L-6,7.238400e+01 M0,1.448215e+02 L-6,1.448215e+02 M0,2.172590e+02 L-6,2.172590e+02 \"/></g><g transform=\"translate(70 330 )scale(1 1 )\" font-family=\"sans-serif\" text-anchor=\"end\" dominant-baseline=\"middle\" fill=\"black\" stroke=\"black\" stroke-linejoin=\"round\" stroke-width=\"2px\" font-size=\"12px\" font-weight=\"normal\" stroke-linecap=\"round\" font-style=\"normal\"><text y=\"-7.238400e+01\" dominant-baseline=\"middle\" stroke=\"none\" vector-effect=\"non-scaling-stroke\" x=\"-10\">0.200</text><text y=\"-1.448215e+02\" dominant-baseline=\"middle\" stroke=\"none\" vector-effect=\"non-scaling-stroke\" x=\"-10\">0.400</text><text y=\"-2.172590e+02\" dominant-baseline=\"middle\" stroke=\"none\" vector-effect=\"non-scaling-stroke\" x=\"-10\">0.600</text></g><g font-family=\"sans-serif\" font-style=\"normal\" fill=\"black\" stroke=\"black\" stroke-width=\"2px\" transform=\"translate(70 330 )scale(1 1 )rotate(-90 0 0 )\" stroke-linecap=\"round\" text-anchor=\"middle\" dominant-baseline=\"hanging\" stroke-linejoin=\"round\" font-size=\"12px\" font-weight=\"bold\"><text vector-effect=\"non-scaling-stroke\" x=\"130\" y=\"6\" dominant-baseline=\"hanging\" stroke=\"none\">loss</text></g><g font-family=\"sans-serif\" font-style=\"normal\" text-anchor=\"middle\" stroke=\"gray\" stroke-width=\"0.5px\" transform=\"translate(70 330 )scale(1 -1 )\" stroke-linecap=\"round\" stroke-linejoin=\"round\" font-weight=\"bold\" dominant-baseline=\"hanging\" fill=\"black\" font-size=\"12px\"><path vector-effect=\"non-scaling-stroke\" d=\"M0,7.238400e+01 L884,7.238400e+01 M0,1.448215e+02 L884,1.448215e+02 M0,2.172590e+02 L884,2.172590e+02 \"/></g><g stroke=\"black\" stroke-width=\"2px\" stroke-linejoin=\"round\" font-size=\"12px\" font-weight=\"bold\" font-family=\"sans-serif\" dominant-baseline=\"hanging\" stroke-linecap=\"round\" font-style=\"normal\" text-anchor=\"middle\" fill=\"none\"><rect y=\"70\" width=\"884\" height=\"260\" vector-effect=\"non-scaling-stroke\" x=\"70\"/><g dominant-baseline=\"middle\" fill=\"black\" font-size=\"18px\"><text stroke=\"none\" vector-effect=\"non-scaling-stroke\" x=\"512\" y=\"35\" dominant-baseline=\"middle\">loss metrics</text></g><g dominant-baseline=\"hanging\" fill=\"hsl(90, 47%, 65%)\" stroke=\"hsl(90, 47%, 65%)\" stroke-linejoin=\"round\" font-size=\"12px\" text-anchor=\"start\" font-family=\"sans-serif\" font-style=\"normal\" stroke-linecap=\"round\" font-weight=\"normal\" stroke-width=\"1px\"><rect y=\"366\" width=\"12\" height=\"12\" vector-effect=\"non-scaling-stroke\" x=\"76\"/><g fill=\"black\" stroke=\"black\"><text stroke=\"none\" vector-effect=\"non-scaling-stroke\" x=\"92\" y=\"366\" dominant-baseline=\"hanging\">Eval on test-eval: Mean Loss</text></g><g font-size=\"12px\" font-weight=\"normal\" stroke-linejoin=\"round\" stroke-width=\"1px\" font-family=\"sans-serif\" dominant-baseline=\"hanging\" stroke-linecap=\"round\" font-style=\"normal\" text-anchor=\"start\" fill=\"hsl(301, 88%, 65%)\" stroke=\"hsl(301, 88%, 65%)\"><rect vector-effect=\"non-scaling-stroke\" x=\"76\" y=\"384\" width=\"12\" height=\"12\"/><g stroke=\"black\" fill=\"black\"><text stroke=\"none\" vector-effect=\"non-scaling-stroke\" x=\"92\" y=\"384\" dominant-baseline=\"hanging\">Eval on train-eval: Mean Loss</text></g><g font-style=\"normal\" dominant-baseline=\"hanging\" stroke=\"hsl(152, 76%, 65%)\" font-weight=\"normal\" font-size=\"12px\" stroke-linejoin=\"round\" font-family=\"sans-serif\" text-anchor=\"start\" fill=\"hsl(152, 76%, 65%)\" stroke-width=\"1px\" stroke-linecap=\"round\"><rect y=\"402\" width=\"12\" height=\"12\" vector-effect=\"non-scaling-stroke\" x=\"76\"/><g fill=\"black\" stroke=\"black\"><text dominant-baseline=\"hanging\" stroke=\"none\" vector-effect=\"non-scaling-stroke\" x=\"92\" y=\"402\">Train: Batch Loss</text></g><g font-family=\"sans-serif\" font-style=\"normal\" fill=\"hsl(3, 64%, 65%)\" stroke-width=\"1px\" font-weight=\"normal\" stroke-linecap=\"round\" stroke-linejoin=\"round\" font-size=\"12px\" text-anchor=\"start\" dominant-baseline=\"hanging\" stroke=\"hsl(3, 64%, 65%)\"><rect y=\"420\" width=\"12\" height=\"12\" vector-effect=\"non-scaling-stroke\" x=\"76\"/><g fill=\"black\" stroke=\"black\"><text vector-effect=\"non-scaling-stroke\" x=\"92\" y=\"420\" dominant-baseline=\"hanging\" stroke=\"none\">Train: Moving Average Loss</text></g></g></g></g></g></g></svg>"
      ]
     },
     "metadata": {},
     "output_type": "display_data"
    },
    {
     "name": "stdout",
     "output_type": "stream",
     "text": [
      "\tMean Loss (#loss): 0.082\n",
      "\tMean Accuracy (#acc): 98.26%\n",
      "Results on test-eval:\n",
      "\tMean Loss (#loss): 0.571\n",
      "\tMean Accuracy (#acc): 84.70%\n"
     ]
    }
   ],
   "source": [
    "var (\n",
    "\tflagMaxAttLen           = flag.Int(\"max_att_len\", 200, \"Maximum attention length: input will be split in ranges of this size.\")\n",
    "\tflagNumAttHeads         = flag.Int(\"att_heads\", 2, \"Number of attention heads, if --model=transformer.\")\n",
    "\tflagNumAttLayers        = flag.Int(\"att_layers\", 1, \"Number of stacked attention layers, if --model=transformer.\")\n",
    "\tflagAttKeyQueryEmbedDim = flag.Int(\"att_key_dim\", 8, \"Dimension of the Key/Query attention embedding.\")    \n",
    ")\n",
    "\n",
    "// TransformerGraph is the part of the model that takes the word/token embeddings to a tranformed\n",
    "// embedding through attention ready to be pooled and read out.\n",
    "func TransformerGraph(ctx *context.Context, input, embed, mask *Node) *Node {\n",
    "    var newEmbed *Node\n",
    "    if *flagMaxAttLen >= *flagMaxLen {\n",
    "        // One transformer window covers the whole length, which makes it trivial.\n",
    "        newEmbed = TransformerLayers(ctx.In(\"transformer\"), embed, mask)\n",
    "        embed = Add(embed, newEmbed)\n",
    "        return embed\n",
    "    }\n",
    "\n",
    "    // Split embedding in multiple split embeddings and apply transformer in each of them.\n",
    "    attLen := *flagMaxAttLen\n",
    "    sequenceFrom := 0\n",
    "    for {\n",
    "        // x.shape = [batchSize, sequence, embedding]\n",
    "        sequenceTo := sequenceFrom + attLen\n",
    "        if sequenceTo > *flagMaxLen {\n",
    "            sequenceTo = *flagMaxLen\n",
    "            sequenceFrom = sequenceTo - attLen\n",
    "        }\n",
    "        // part = x[:, sequenceFrom:sequenceTo, :]\n",
    "        residual := Slice(embed, AxisRange(), AxisRange(sequenceFrom, sequenceTo), AxisRange())\n",
    "        partMask := Slice(mask, AxisRange(), AxisRange(sequenceFrom, sequenceTo))\n",
    "        // Reuse \"transformer\" scope.\n",
    "        part := TransformerLayers(ctx.In(\"transformer\").Checked(false), residual, partMask)\n",
    "        part = Add(residual, part)\n",
    "        if newEmbed == nil {\n",
    "            newEmbed = part\n",
    "        } else {\n",
    "            newEmbed = Add(newEmbed, part)\n",
    "        }\n",
    "\n",
    "        if sequenceTo == *flagMaxLen {\n",
    "            // Reached end of parts.\n",
    "            break\n",
    "        }\n",
    "        sequenceFrom += attLen - 20 // Attention window overlap 10 tokens among themselves.\n",
    "    }\n",
    "    embed = newEmbed // Notice shape changed to `[batchSize, maxAttLen, embedDim]`\n",
    "    return embed\n",
    "}\n",
    "\n",
    "// TransformerLayers builds the stacked transformer layers for the model.\n",
    "func TransformerLayers(ctx *context.Context, embed, mask *Node) *Node {\n",
    "    g := embed.Graph()\n",
    "    shape := embed.Shape()\n",
    "    embedDim := shape.Dimensions[2]\n",
    "\n",
    "    var dropoutRate *Node\n",
    "    if *flagDropoutRate > 0 {\n",
    "        dropoutRate = ConstAsDType(g, DType, *flagDropoutRate)\n",
    "    }\n",
    "\n",
    "    // Create positional embedding variable: it is 1 in every axis, but for the\n",
    "    // sequence dimension -- there will be one embedding per position.\n",
    "    // Shape: [1, maxLen, embedDim]\n",
    "    posEmbedShape := shape.Copy()\n",
    "    posEmbedShape.Dimensions[0] = 1\n",
    "    posEmbedVar := ctx.VariableWithShape(\"positional\", posEmbedShape)\n",
    "    posEmbed := posEmbedVar.ValueGraph(g)\n",
    "    embed = Add(embed, posEmbed) // Just add the embeddings, seems to work well.\n",
    "\n",
    "    // Add the requested number of attention layers.\n",
    "    for ii := 0; ii < *flagNumAttLayers; ii++ {\n",
    "        // Each layer in its own scope.\n",
    "        ctx := ctx.In(fmt.Sprintf(\"AttLayer_%d\", ii))\n",
    "        residual := embed\n",
    "        embed = layers.MultiHeadAttention(ctx, embed, embed, embed, *flagNumAttHeads, *flagAttKeyQueryEmbedDim).\n",
    "            SetKeyMask(mask).SetQueryMask(mask).\n",
    "            SetOutputDim(embedDim).\n",
    "            SetValueHeadDim(embedDim).Done()\n",
    "        if *flagDropoutRate > 0 {\n",
    "            embed = layers.Dropout(ctx.In(\"dropout_1\"), embed, dropoutRate)\n",
    "        }\n",
    "        embed = Normalize(ctx.In(\"normalization_1\"), embed)\n",
    "        attentionOutput := embed\n",
    "\n",
    "        // Transformers recipe: 2 dense layers after attention.\n",
    "        embed = layers.Dense(ctx.In(\"ffn_1\"), embed, true, embedDim)\n",
    "        embed = Tanh(embed)\n",
    "        embed = layers.Dense(ctx.In(\"ffn_2\"), embed, true, embedDim)\n",
    "        if *flagDropoutRate > 0 {\n",
    "            embed = layers.Dropout(ctx.In(\"dropout_1\"), embed, dropoutRate)\n",
    "        }\n",
    "        embed = Add(embed, attentionOutput)\n",
    "        embed = Normalize(ctx.In(\"normalization_2\"), embed)\n",
    "\n",
    "        // Residual connection: not part of the usual transfomer layer ...\n",
    "        if ii > 0 {\n",
    "            embed = Add(residual, embed)\n",
    "        }\n",
    "    }\n",
    "    return embed\n",
    "}\n",
    "\n",
    "%% --model=transformer --steps=30000 --optimizer=adamw --max_len=1000 --max_att_len=200 --dropout=0.2 --max_vocab=10000\n",
    "trainModel()"
   ]
  },
  {
   "cell_type": "code",
   "execution_count": 13,
   "id": "29e47c14-72cc-4c3d-8c9a-8f09071d0184",
   "metadata": {
    "tags": []
   },
   "outputs": [
    {
     "name": "stdout",
     "output_type": "stream",
     "text": [
      "> Loading previously generated preprocessed binary file.\n",
      "Loaded data from \"aclImdb.bin\": 100000 examples, 141088 unique tokens, 23727054 tokens in total.\n",
      "Platform: CUDA\n"
     ]
    },
    {
     "data": {
      "text/html": []
     },
     "metadata": {},
     "output_type": "display_data"
    },
    {
     "name": "stdout",
     "output_type": "stream",
     "text": [
      "Training (3000 steps):  100% [\u001b[32m=\u001b[0m\u001b[32m=\u001b[0m\u001b[32m=\u001b[0m\u001b[32m=\u001b[0m\u001b[32m=\u001b[0m\u001b[32m=\u001b[0m\u001b[32m=\u001b[0m\u001b[32m=\u001b[0m\u001b[32m=\u001b[0m\u001b[32m=\u001b[0m\u001b[32m=\u001b[0m\u001b[32m=\u001b[0m\u001b[32m=\u001b[0m\u001b[32m=\u001b[0m\u001b[32m=\u001b[0m\u001b[32m=\u001b[0m\u001b[32m=\u001b[0m\u001b[32m=\u001b[0m\u001b[32m=\u001b[0m\u001b[32m=\u001b[0m\u001b[32m=\u001b[0m\u001b[32m=\u001b[0m\u001b[32m=\u001b[0m\u001b[32m=\u001b[0m\u001b[32m=\u001b[0m\u001b[32m=\u001b[0m\u001b[32m=\u001b[0m\u001b[32m=\u001b[0m\u001b[32m=\u001b[0m\u001b[32m=\u001b[0m\u001b[32m=\u001b[0m\u001b[32m=\u001b[0m\u001b[32m=\u001b[0m\u001b[32m=\u001b[0m\u001b[32m=\u001b[0m\u001b[32m=\u001b[0m\u001b[32m=\u001b[0m\u001b[32m=\u001b[0m\u001b[32m=\u001b[0m\u001b[32m=\u001b[0m] (7 steps/s)\u001b[0m [loss=0.134] [~loss=0.159] [~acc=95.15%]          \n"
     ]
    },
    {
     "data": {
      "text/html": [
       "<svg width=\"1024\" height=\"454\" viewbox=\"0 0 1024 400\" style=\"background-color:#f8f8f8\" preserveAspectRatio=\"xMidYMid meet\" xmlns=\"http://www.w3.org/2000/svg\"><defs><marker markerWidth=\"2%\" markerHeight=\"2%\" id=\"circle\" viewBox=\"0 0 10 10 \" refX=\"5\" refY=\"5\" markerUnits=\"userSpaceOnUse\"><circle cy=\"5\" r=\"3\" fill=\"none\" stroke=\"black\" cx=\"5\"/></marker><marker id=\"filled-circle\" viewBox=\"0 0 10 10 \" refX=\"5\" refY=\"5\" markerUnits=\"userSpaceOnUse\" markerWidth=\"2%\" markerHeight=\"2%\"><circle cx=\"5\" cy=\"5\" r=\"3\" fill=\"black\" stroke=\"none\"/></marker><marker viewBox=\"0 0 10 10 \" refX=\"5\" refY=\"5\" markerUnits=\"userSpaceOnUse\" markerWidth=\"2%\" markerHeight=\"2%\" id=\"square\"><rect width=\"6\" height=\"6\" fill=\"none\" stroke=\"black\" x=\"2\" y=\"2\"/></marker><marker id=\"filled-square\" viewBox=\"0 0 10 10 \" refX=\"5\" refY=\"5\" markerUnits=\"userSpaceOnUse\" markerWidth=\"2%\" markerHeight=\"2%\"><rect y=\"2\" width=\"6\" height=\"6\" fill=\"black\" stroke=\"none\" x=\"2\"/></marker></defs><g marker-end=\"url(#square)\" stroke-width=\"2px\" stroke-linejoin=\"round\" marker-mid=\"url(#square)\" stroke=\"hsl(90, 47%, 65%)\" stroke-linecap=\"round\" marker-start=\"url(#square)\" transform=\"translate(70 330 )scale(1 -1 )\" fill=\"none\"><path vector-effect=\"non-scaling-stroke\" d=\"M1.768000e+01,1.941732e+01 L3.437549e+01,1.401598e+01 L5.135394e+01,1.484378e+01 L6.833240e+01,1.484378e+01 L8.531086e+01,1.484378e+01 L1.022893e+02,2.113501e+01 L1.192678e+02,1.370557e+01 L1.362462e+02,5.294291e+01 L1.532247e+02,1.376881e+02 L1.702032e+02,1.649639e+02 L1.871816e+02,1.754562e+02 L2.041601e+02,1.783741e+02 L2.211385e+02,1.676542e+02 L2.381170e+02,1.916602e+02 L2.550955e+02,1.925707e+02 L2.720739e+02,1.943091e+02 L2.890524e+02,1.931295e+02 L3.060308e+02,1.969994e+02 L3.230093e+02,1.971443e+02 L3.399878e+02,1.985515e+02 L3.569662e+02,1.995242e+02 L3.739447e+02,1.932537e+02 L3.909231e+02,1.998760e+02 L4.079016e+02,2.005796e+02 L4.248801e+02,1.999381e+02 L4.418585e+02,1.989447e+02 L4.588370e+02,1.938952e+02 L4.758154e+02,2.008693e+02 L4.927939e+02,2.009315e+02 L5.097724e+02,1.980342e+02 L5.267508e+02,2.003313e+02 L5.437293e+02,2.013867e+02 L5.607077e+02,2.012212e+02 L5.776862e+02,2.005589e+02 L5.946646e+02,2.015937e+02 L6.116431e+02,2.018006e+02 L6.286216e+02,2.009728e+02 L6.456000e+02,2.019041e+02 L6.625785e+02,2.019248e+02 L6.795569e+02,2.007038e+02 L6.965354e+02,1.987999e+02 L7.135139e+02,2.018627e+02 L7.304923e+02,1.977031e+02 L7.474708e+02,1.977651e+02 L7.644492e+02,1.991517e+02 L7.814277e+02,1.981583e+02 L7.984062e+02,2.015109e+02 L8.153846e+02,2.004762e+02 L8.323631e+02,2.006624e+02 L8.493415e+02,2.011591e+02 L8.663200e+02,1.982618e+02 \"/></g><g fill=\"none\" stroke=\"hsl(301, 88%, 65%)\" stroke-linecap=\"round\" marker-end=\"url(#square)\" stroke-width=\"2px\" stroke-linejoin=\"round\" marker-mid=\"url(#square)\" transform=\"translate(70 330 )scale(1 -1 )\" marker-start=\"url(#square)\"><path vector-effect=\"non-scaling-stroke\" d=\"M1.768000e+01,1.983122e+01 L3.437549e+01,5.200000e+00 L5.135394e+01,1.484378e+01 L6.833240e+01,1.484378e+01 L8.531086e+01,1.484378e+01 L1.022893e+02,4.770714e+01 L1.192678e+02,4.182979e+01 L1.362462e+02,8.601322e+01 L1.532247e+02,1.597488e+02 L1.702032e+02,1.846653e+02 L1.871816e+02,1.954059e+02 L2.041601e+02,1.939159e+02 L2.211385e+02,1.913083e+02 L2.381170e+02,2.145486e+02 L2.550955e+02,2.184806e+02 L2.720739e+02,2.157696e+02 L2.890524e+02,2.151488e+02 L3.060308e+02,2.249581e+02 L3.230093e+02,2.261791e+02 L3.399878e+02,2.270483e+02 L3.569662e+02,2.292833e+02 L3.739447e+02,2.251237e+02 L3.909231e+02,2.300490e+02 L4.079016e+02,2.333809e+02 L4.248801e+02,2.329256e+02 L4.418585e+02,2.349951e+02 L4.588370e+02,2.310217e+02 L4.758154e+02,2.385339e+02 L4.927939e+02,2.379544e+02 L5.097724e+02,2.374785e+02 L5.267508e+02,2.372508e+02 L5.437293e+02,2.422797e+02 L5.607077e+02,2.431695e+02 L5.776862e+02,2.400239e+02 L5.946646e+02,2.445147e+02 L6.116431e+02,2.455288e+02 L6.286216e+02,2.450321e+02 L6.456000e+02,2.461082e+02 L6.625785e+02,2.472878e+02 L6.795569e+02,2.479914e+02 L6.965354e+02,2.468739e+02 L7.135139e+02,2.502679e+02 L7.304923e+02,2.468532e+02 L7.474708e+02,2.470395e+02 L7.644492e+02,2.493573e+02 L7.814277e+02,2.463772e+02 L7.984062e+02,2.527926e+02 L8.153846e+02,2.537653e+02 L8.323631e+02,2.546138e+02 L8.493415e+02,2.548000e+02 L8.663200e+02,2.507024e+02 \"/></g><g stroke-width=\"2px\" stroke-linejoin=\"round\" marker-mid=\"url(#square)\" transform=\"translate(70 330 )scale(1 -1 )\" fill=\"none\" stroke-linecap=\"round\" marker-start=\"url(#square)\" marker-end=\"url(#square)\" stroke=\"hsl(152, 76%, 65%)\"><path vector-effect=\"non-scaling-stroke\" d=\"M1.768000e+01,3.036487e+01 L3.437549e+01,3.183071e+01 L5.135394e+01,2.546625e+01 L6.833240e+01,2.473845e+01 L8.531086e+01,2.367547e+01 L1.022893e+02,2.431936e+01 L1.192678e+02,2.464683e+01 L1.362462e+02,3.218861e+01 L1.532247e+02,5.724128e+01 L1.702032e+02,1.041301e+02 L1.871816e+02,1.388510e+02 L2.041601e+02,1.646608e+02 L2.211385e+02,1.813729e+02 L2.381170e+02,1.906740e+02 L2.550955e+02,1.994780e+02 L2.720739e+02,2.022661e+02 L2.890524e+02,2.087750e+02 L3.060308e+02,2.117509e+02 L3.230093e+02,2.161072e+02 L3.399878e+02,2.165965e+02 L3.569662e+02,2.180662e+02 L3.739447e+02,2.206107e+02 L3.909231e+02,2.224250e+02 L4.079016e+02,2.249325e+02 L4.248801e+02,2.262720e+02 L4.418585e+02,2.247316e+02 L4.588370e+02,2.276409e+02 L4.758154e+02,2.305469e+02 L4.927939e+02,2.309713e+02 L5.097724e+02,2.315509e+02 L5.267508e+02,2.321784e+02 L5.437293e+02,2.343414e+02 L5.607077e+02,2.358705e+02 L5.776862e+02,2.346040e+02 L5.946646e+02,2.377157e+02 L6.116431e+02,2.390858e+02 L6.286216e+02,2.399727e+02 L6.456000e+02,2.400763e+02 L6.625785e+02,2.377405e+02 L6.795569e+02,2.415287e+02 L6.965354e+02,2.436913e+02 L7.135139e+02,2.434458e+02 L7.304923e+02,2.448792e+02 L7.474708e+02,2.465959e+02 L7.644492e+02,2.452484e+02 L7.814277e+02,2.451979e+02 L7.984062e+02,2.462640e+02 L8.153846e+02,2.480631e+02 L8.323631e+02,2.480145e+02 L8.493415e+02,2.475577e+02 L8.663200e+02,2.484547e+02 \"/></g><g stroke-width=\"2px\" stroke-linejoin=\"round\" transform=\"translate(70 330 )scale(1 -1 )\" fill=\"none\" stroke-linecap=\"round\" stroke=\"black\"><path vector-effect=\"non-scaling-stroke\" d=\"M1.768000e+01,0 L1.768000e+01,-6 M7.427486e+01,0 L7.427486e+01,-6 M1.308697e+02,0 L1.308697e+02,-6 M1.874646e+02,0 L1.874646e+02,-6 M2.440595e+02,0 L2.440595e+02,-6 M3.006543e+02,0 L3.006543e+02,-6 M3.572492e+02,0 L3.572492e+02,-6 M4.138441e+02,0 L4.138441e+02,-6 M4.704389e+02,0 L4.704389e+02,-6 M5.270338e+02,0 L5.270338e+02,-6 M5.836286e+02,0 L5.836286e+02,-6 M6.402235e+02,0 L6.402235e+02,-6 M6.968184e+02,0 L6.968184e+02,-6 M7.534132e+02,0 L7.534132e+02,-6 M8.100081e+02,0 L8.100081e+02,-6 \"/></g><g fill=\"black\" font-style=\"normal\" font-weight=\"normal\" stroke-linecap=\"round\" font-size=\"12px\" text-anchor=\"middle\" stroke-width=\"2px\" stroke-linejoin=\"round\" transform=\"translate(70 330 )scale(1 1 )\" font-family=\"sans-serif\" dominant-baseline=\"hanging\" stroke=\"black\"><text stroke=\"none\" vector-effect=\"non-scaling-stroke\" x=\"1.768000e+01\" y=\"10\" dominant-baseline=\"hanging\">0</text><text stroke=\"none\" vector-effect=\"non-scaling-stroke\" x=\"7.427486e+01\" y=\"10\" dominant-baseline=\"hanging\">200</text><text vector-effect=\"non-scaling-stroke\" x=\"1.308697e+02\" y=\"10\" dominant-baseline=\"hanging\" stroke=\"none\">400</text><text x=\"1.874646e+02\" y=\"10\" dominant-baseline=\"hanging\" stroke=\"none\" vector-effect=\"non-scaling-stroke\">600</text><text vector-effect=\"non-scaling-stroke\" x=\"2.440595e+02\" y=\"10\" dominant-baseline=\"hanging\" stroke=\"none\">800</text><text stroke=\"none\" vector-effect=\"non-scaling-stroke\" x=\"3.006543e+02\" y=\"10\" dominant-baseline=\"hanging\">1000</text><text stroke=\"none\" vector-effect=\"non-scaling-stroke\" x=\"3.572492e+02\" y=\"10\" dominant-baseline=\"hanging\">1200</text><text vector-effect=\"non-scaling-stroke\" x=\"4.138441e+02\" y=\"10\" dominant-baseline=\"hanging\" stroke=\"none\">1400</text><text y=\"10\" dominant-baseline=\"hanging\" stroke=\"none\" vector-effect=\"non-scaling-stroke\" x=\"4.704389e+02\">1600</text><text x=\"5.270338e+02\" y=\"10\" dominant-baseline=\"hanging\" stroke=\"none\" vector-effect=\"non-scaling-stroke\">1800</text><text vector-effect=\"non-scaling-stroke\" x=\"5.836286e+02\" y=\"10\" dominant-baseline=\"hanging\" stroke=\"none\">2000</text><text dominant-baseline=\"hanging\" stroke=\"none\" vector-effect=\"non-scaling-stroke\" x=\"6.402235e+02\" y=\"10\">2200</text><text y=\"10\" dominant-baseline=\"hanging\" stroke=\"none\" vector-effect=\"non-scaling-stroke\" x=\"6.968184e+02\">2400</text><text y=\"10\" dominant-baseline=\"hanging\" stroke=\"none\" vector-effect=\"non-scaling-stroke\" x=\"7.534132e+02\">2600</text><text vector-effect=\"non-scaling-stroke\" x=\"8.100081e+02\" y=\"10\" dominant-baseline=\"hanging\" stroke=\"none\">2800</text></g><g stroke-width=\"2px\" stroke-linejoin=\"round\" dominant-baseline=\"baseline\" stroke-linecap=\"round\" font-family=\"sans-serif\" font-style=\"normal\" fill=\"black\" stroke=\"black\" font-size=\"12px\" transform=\"translate(70 330 )scale(1 1 )rotate(0 0 0 )\" font-weight=\"bold\" text-anchor=\"middle\"><text dominant-baseline=\"baseline\" stroke=\"none\" vector-effect=\"non-scaling-stroke\" x=\"442\" y=\"-6\">Steps</text></g><g font-family=\"sans-serif\" dominant-baseline=\"baseline\" stroke=\"black\" stroke-linecap=\"round\" font-size=\"12px\" font-weight=\"bold\" text-anchor=\"middle\" fill=\"black\" stroke-width=\"2px\" stroke-linejoin=\"round\" transform=\"translate(70 330 )scale(1 -1 )\" font-style=\"normal\"><path vector-effect=\"non-scaling-stroke\" d=\"M0,1.484378e+01 L-6,1.484378e+01 M0,6.658079e+01 L-6,6.658079e+01 M0,1.183178e+02 L-6,1.183178e+02 M0,1.700548e+02 L-6,1.700548e+02 M0,2.217918e+02 L-6,2.217918e+02 \"/></g><g font-size=\"12px\" font-family=\"sans-serif\" font-weight=\"normal\" text-anchor=\"end\" stroke-width=\"2px\" dominant-baseline=\"middle\" stroke=\"black\" stroke-linecap=\"round\" stroke-linejoin=\"round\" transform=\"translate(70 330 )scale(1 1 )\" font-style=\"normal\" fill=\"black\"><text dominant-baseline=\"middle\" stroke=\"none\" vector-effect=\"non-scaling-stroke\" x=\"-10\" y=\"-1.484378e+01\">0.500</text><text stroke=\"none\" vector-effect=\"non-scaling-stroke\" x=\"-10\" y=\"-6.658079e+01\" dominant-baseline=\"middle\">0.600</text><text x=\"-10\" y=\"-1.183178e+02\" dominant-baseline=\"middle\" stroke=\"none\" vector-effect=\"non-scaling-stroke\">0.700</text><text x=\"-10\" y=\"-1.700548e+02\" dominant-baseline=\"middle\" stroke=\"none\" vector-effect=\"non-scaling-stroke\">0.800</text><text stroke=\"none\" vector-effect=\"non-scaling-stroke\" x=\"-10\" y=\"-2.217918e+02\" dominant-baseline=\"middle\">0.900</text></g><g fill=\"black\" stroke-linejoin=\"round\" transform=\"translate(70 330 )scale(1 1 )rotate(-90 0 0 )\" font-family=\"sans-serif\" dominant-baseline=\"hanging\" stroke=\"black\" font-style=\"normal\" font-weight=\"bold\" stroke-linecap=\"round\" font-size=\"12px\" text-anchor=\"middle\" stroke-width=\"2px\"><text y=\"6\" dominant-baseline=\"hanging\" stroke=\"none\" vector-effect=\"non-scaling-stroke\" x=\"130\">accuracy</text></g><g font-family=\"sans-serif\" dominant-baseline=\"hanging\" fill=\"black\" transform=\"translate(70 330 )scale(1 -1 )\" font-size=\"12px\" text-anchor=\"middle\" stroke-width=\"0.5px\" stroke-linejoin=\"round\" font-style=\"normal\" font-weight=\"bold\" stroke=\"gray\" stroke-linecap=\"round\"><path vector-effect=\"non-scaling-stroke\" d=\"M0,1.484378e+01 L884,1.484378e+01 M0,6.658079e+01 L884,6.658079e+01 M0,1.183178e+02 L884,1.183178e+02 M0,1.700548e+02 L884,1.700548e+02 M0,2.217918e+02 L884,2.217918e+02 \"/></g><g font-weight=\"bold\" text-anchor=\"middle\" dominant-baseline=\"hanging\" stroke-linecap=\"round\" font-size=\"12px\" fill=\"none\" stroke-width=\"2px\" stroke-linejoin=\"round\" font-family=\"sans-serif\" font-style=\"normal\" stroke=\"black\"><rect y=\"70\" width=\"884\" height=\"260\" vector-effect=\"non-scaling-stroke\" x=\"70\"/><g fill=\"black\" dominant-baseline=\"middle\" font-size=\"18px\"><text stroke=\"none\" vector-effect=\"non-scaling-stroke\" x=\"512\" y=\"35\" dominant-baseline=\"middle\">accuracy metrics</text></g><g font-weight=\"normal\" text-anchor=\"start\" fill=\"hsl(90, 47%, 65%)\" dominant-baseline=\"hanging\" stroke=\"hsl(90, 47%, 65%)\" stroke-linecap=\"round\" stroke-width=\"1px\" stroke-linejoin=\"round\" font-family=\"sans-serif\" font-style=\"normal\" font-size=\"12px\"><rect width=\"12\" height=\"12\" vector-effect=\"non-scaling-stroke\" x=\"76\" y=\"366\"/><g stroke=\"black\" fill=\"black\"><text stroke=\"none\" vector-effect=\"non-scaling-stroke\" x=\"92\" y=\"366\" dominant-baseline=\"hanging\">Eval on test-eval: Mean Accuracy</text></g><g font-weight=\"normal\" text-anchor=\"start\" fill=\"hsl(301, 88%, 65%)\" font-size=\"12px\" stroke=\"hsl(301, 88%, 65%)\" stroke-linejoin=\"round\" font-family=\"sans-serif\" font-style=\"normal\" stroke-linecap=\"round\" stroke-width=\"1px\" dominant-baseline=\"hanging\"><rect vector-effect=\"non-scaling-stroke\" x=\"76\" y=\"384\" width=\"12\" height=\"12\"/><g fill=\"black\" stroke=\"black\"><text stroke=\"none\" vector-effect=\"non-scaling-stroke\" x=\"92\" y=\"384\" dominant-baseline=\"hanging\">Eval on train-eval: Mean Accuracy</text></g><g font-style=\"normal\" font-weight=\"normal\" text-anchor=\"start\" stroke-width=\"1px\" dominant-baseline=\"hanging\" stroke-linecap=\"round\" font-size=\"12px\" font-family=\"sans-serif\" stroke=\"hsl(152, 76%, 65%)\" fill=\"hsl(152, 76%, 65%)\" stroke-linejoin=\"round\"><rect y=\"402\" width=\"12\" height=\"12\" vector-effect=\"non-scaling-stroke\" x=\"76\"/><g fill=\"black\" stroke=\"black\"><text stroke=\"none\" vector-effect=\"non-scaling-stroke\" x=\"92\" y=\"402\" dominant-baseline=\"hanging\">Train: Moving Average Accuracy</text></g></g></g></g></g></svg>"
      ]
     },
     "metadata": {},
     "output_type": "display_data"
    },
    {
     "data": {
      "text/html": [
       "<svg style=\"background-color:#f8f8f8\" preserveAspectRatio=\"xMidYMid meet\" xmlns=\"http://www.w3.org/2000/svg\" width=\"1024\" height=\"472\" viewbox=\"0 0 1024 400\"><defs><marker markerUnits=\"userSpaceOnUse\" markerWidth=\"2%\" markerHeight=\"2%\" id=\"circle\" viewBox=\"0 0 10 10 \" refX=\"5\" refY=\"5\"><circle cx=\"5\" cy=\"5\" r=\"3\" fill=\"none\" stroke=\"black\"/></marker><marker id=\"filled-circle\" viewBox=\"0 0 10 10 \" refX=\"5\" refY=\"5\" markerUnits=\"userSpaceOnUse\" markerWidth=\"2%\" markerHeight=\"2%\"><circle fill=\"black\" stroke=\"none\" cx=\"5\" cy=\"5\" r=\"3\"/></marker><marker markerHeight=\"2%\" id=\"square\" viewBox=\"0 0 10 10 \" refX=\"5\" refY=\"5\" markerUnits=\"userSpaceOnUse\" markerWidth=\"2%\"><rect stroke=\"black\" x=\"2\" y=\"2\" width=\"6\" height=\"6\" fill=\"none\"/></marker><marker refY=\"5\" markerUnits=\"userSpaceOnUse\" markerWidth=\"2%\" markerHeight=\"2%\" id=\"filled-square\" viewBox=\"0 0 10 10 \" refX=\"5\"><rect x=\"2\" y=\"2\" width=\"6\" height=\"6\" fill=\"black\" stroke=\"none\"/></marker></defs><g marker-start=\"url(#square)\" fill=\"none\" stroke-linejoin=\"round\" marker-end=\"url(#square)\" stroke=\"hsl(90, 47%, 65%)\" stroke-linecap=\"round\" marker-mid=\"url(#square)\" transform=\"translate(70 330 )scale(1 -1 )\" stroke-width=\"2px\"><path d=\"M1.768000e+01,2.525075e+02 L3.437549e+01,2.525385e+02 L5.135394e+01,2.545864e+02 L6.833240e+01,2.548000e+02 L8.531086e+01,2.529626e+02 L1.022893e+02,2.523414e+02 L1.192678e+02,2.526492e+02 L1.362462e+02,2.502518e+02 L1.532247e+02,2.084959e+02 L1.702032e+02,1.635702e+02 L1.871816e+02,1.444163e+02 L2.041601e+02,1.381631e+02 L2.211385e+02,1.469262e+02 L2.381170e+02,1.159018e+02 L2.550955e+02,1.110371e+02 L2.720739e+02,1.110799e+02 L2.890524e+02,1.146647e+02 L3.060308e+02,1.060318e+02 L3.230093e+02,1.049266e+02 L3.399878e+02,9.969507e+01 L3.569662e+02,1.025531e+02 L3.739447e+02,1.101798e+02 L3.909231e+02,1.042641e+02 L4.079016e+02,1.037671e+02 L4.248801e+02,1.064128e+02 L4.418585e+02,1.020589e+02 L4.588370e+02,1.105001e+02 L4.758154e+02,1.017577e+02 L4.927939e+02,1.032145e+02 L5.097724e+02,1.038845e+02 L5.267508e+02,1.069930e+02 L5.437293e+02,1.090477e+02 L5.607077e+02,1.022441e+02 L5.776862e+02,1.044120e+02 L5.946646e+02,1.169058e+02 L6.116431e+02,1.105009e+02 L6.286216e+02,1.126024e+02 L6.456000e+02,1.149531e+02 L6.625785e+02,1.092011e+02 L6.795569e+02,1.111259e+02 L6.965354e+02,1.261159e+02 L7.135139e+02,1.149960e+02 L7.304923e+02,1.284114e+02 L7.474708e+02,1.308043e+02 L7.644492e+02,1.212009e+02 L7.814277e+02,1.256799e+02 L7.984062e+02,1.228600e+02 L8.153846e+02,1.280231e+02 L8.323631e+02,1.280222e+02 L8.493415e+02,1.285333e+02 L8.663200e+02,1.431096e+02 \" vector-effect=\"non-scaling-stroke\"/></g><g transform=\"translate(70 330 )scale(1 -1 )\" stroke-width=\"2px\" stroke-linejoin=\"round\" marker-end=\"url(#square)\" fill=\"none\" stroke=\"hsl(301, 88%, 65%)\" marker-mid=\"url(#square)\" stroke-linecap=\"round\" marker-start=\"url(#square)\"><path vector-effect=\"non-scaling-stroke\" d=\"M1.768000e+01,2.527217e+02 L3.437549e+01,2.526603e+02 L5.135394e+01,2.544351e+02 L6.833240e+01,2.541414e+02 L8.531086e+01,2.519029e+02 L1.022893e+02,2.506882e+02 L1.192678e+02,2.509613e+02 L1.362462e+02,2.469892e+02 L1.532247e+02,1.969789e+02 L1.702032e+02,1.422321e+02 L1.871816e+02,1.187834e+02 L2.041601e+02,1.191609e+02 L2.211385e+02,1.110435e+02 L2.381170e+02,8.463703e+01 L2.550955e+02,7.851679e+01 L2.720739e+02,8.086064e+01 L2.890524e+02,8.247368e+01 L3.060308e+02,6.408413e+01 L3.230093e+02,6.109675e+01 L3.399878e+02,6.010005e+01 L3.569662e+02,5.554302e+01 L3.739447e+02,5.775561e+01 L3.909231e+02,5.560259e+01 L4.079016e+02,4.946860e+01 L4.248801e+02,5.217992e+01 L4.418585e+02,4.556523e+01 L4.588370e+02,4.763794e+01 L4.758154e+02,4.058763e+01 L4.927939e+02,3.938613e+01 L5.097724e+02,4.000182e+01 L5.267508e+02,4.265004e+01 L5.437293e+02,3.502068e+01 L5.607077e+02,3.515296e+01 L5.776862e+02,4.063571e+01 L5.946646e+02,2.965593e+01 L6.116431e+02,2.896104e+01 L6.286216e+02,2.720647e+01 L6.456000e+02,2.477151e+01 L6.625785e+02,2.370385e+01 L6.795569e+02,2.353669e+01 L6.965354e+02,2.345084e+01 L7.135139e+02,2.033549e+01 L7.304923e+02,2.235837e+01 L7.474708e+02,2.076047e+01 L7.644492e+02,1.852220e+01 L7.814277e+02,2.066217e+01 L7.984062e+02,1.365467e+01 L8.153846e+02,1.229911e+01 L8.323631e+02,1.130958e+01 L8.493415e+02,1.169968e+01 L8.663200e+02,1.577241e+01 \"/></g><g fill=\"none\" stroke-linecap=\"round\" transform=\"translate(70 330 )scale(1 -1 )\" stroke-linejoin=\"round\" marker-end=\"url(#square)\" stroke=\"hsl(152, 76%, 65%)\" marker-start=\"url(#square)\" marker-mid=\"url(#square)\" stroke-width=\"2px\"><path vector-effect=\"non-scaling-stroke\" d=\"M1.768000e+01,2.480221e+02 L3.437549e+01,2.496108e+02 L5.135394e+01,2.502985e+02 L6.833240e+01,2.526460e+02 L8.531086e+01,2.490620e+02 L1.022893e+02,2.505799e+02 L1.192678e+02,2.503131e+02 L1.362462e+02,2.497770e+02 L1.532247e+02,2.027357e+02 L1.702032e+02,1.385278e+02 L1.871816e+02,1.303090e+02 L2.041601e+02,1.091494e+02 L2.211385e+02,8.732586e+01 L2.381170e+02,1.028203e+02 L2.550955e+02,8.950318e+01 L2.720739e+02,5.140055e+01 L2.890524e+02,6.936852e+01 L3.060308e+02,1.171119e+02 L3.230093e+02,7.315102e+01 L3.399878e+02,6.894750e+01 L3.569662e+02,5.992039e+01 L3.739447e+02,8.549176e+01 L3.909231e+02,9.245955e+01 L4.079016e+02,1.408147e+02 L4.248801e+02,7.261443e+01 L4.418585e+02,9.404018e+01 L4.588370e+02,6.715228e+01 L4.758154e+02,6.204595e+01 L4.927939e+02,1.044877e+02 L5.097724e+02,8.295873e+01 L5.267508e+02,5.388994e+01 L5.437293e+02,4.142290e+01 L5.607077e+02,8.247322e+00 L5.776862e+02,4.612393e+01 L5.946646e+02,5.200000e+00 L6.116431e+02,1.943506e+01 L6.286216e+02,3.738670e+01 L6.456000e+02,4.228367e+01 L6.625785e+02,2.411150e+01 L6.795569e+02,2.616034e+01 L6.965354e+02,2.054285e+01 L7.135139e+02,1.195017e+01 L7.304923e+02,2.320927e+01 L7.474708e+02,3.720617e+01 L7.644492e+02,7.330277e+01 L7.814277e+02,3.773632e+01 L7.984062e+02,1.838458e+01 L8.153846e+02,1.150532e+01 L8.323631e+02,1.775888e+01 L8.493415e+02,1.380608e+01 L8.663200e+02,1.174643e+01 \"/></g><g marker-end=\"url(#square)\" fill=\"none\" stroke=\"hsl(3, 64%, 65%)\" stroke-width=\"2px\" stroke-linejoin=\"round\" transform=\"translate(70 330 )scale(1 -1 )\" stroke-linecap=\"round\" marker-start=\"url(#square)\" marker-mid=\"url(#square)\"><path vector-effect=\"non-scaling-stroke\" d=\"M1.768000e+01,2.480221e+02 L3.437549e+01,2.524684e+02 L5.135394e+01,2.533256e+02 L6.833240e+01,2.528785e+02 L8.531086e+01,2.527715e+02 L1.022893e+02,2.526243e+02 L1.192678e+02,2.523058e+02 L1.362462e+02,2.512926e+02 L1.532247e+02,2.439460e+02 L1.702032e+02,2.144636e+02 L1.871816e+02,1.828845e+02 L2.041601e+02,1.543308e+02 L2.211385e+02,1.348091e+02 L2.381170e+02,1.214680e+02 L2.550955e+02,1.085937e+02 L2.720739e+02,1.034394e+02 L2.890524e+02,9.467182e+01 L3.060308e+02,8.838695e+01 L3.230093e+02,8.197503e+01 L3.399878e+02,8.087689e+01 L3.569662e+02,7.700934e+01 L3.739447e+02,7.153941e+01 L3.909231e+02,6.891483e+01 L4.079016e+02,6.420479e+01 L4.248801e+02,6.194814e+01 L4.418585e+02,6.369663e+01 L4.588370e+02,5.978156e+01 L4.758154e+02,5.396514e+01 L4.927939e+02,5.364116e+01 L5.097724e+02,5.394352e+01 L5.267508e+02,5.191011e+01 L5.437293e+02,4.866272e+01 L5.607077e+02,4.677713e+01 L5.776862e+02,4.775538e+01 L5.946646e+02,4.228883e+01 L6.116431e+02,4.082364e+01 L6.286216e+02,3.813498e+01 L6.456000e+02,3.689160e+01 L6.625785e+02,4.069509e+01 L6.795569e+02,3.532388e+01 L6.965354e+02,3.105331e+01 L7.135139e+02,3.090815e+01 L7.304923e+02,2.867030e+01 L7.474708e+02,2.516455e+01 L7.644492e+02,2.642943e+01 L7.814277e+02,2.759455e+01 L7.984062e+02,2.616069e+01 L8.153846e+02,2.276376e+01 L8.323631e+02,2.285644e+01 L8.493415e+02,2.379914e+01 L8.663200e+02,2.234321e+01 \"/></g><g transform=\"translate(70 330 )scale(1 -1 )\" stroke-width=\"2px\" stroke-linejoin=\"round\" fill=\"none\" stroke=\"black\" stroke-linecap=\"round\"><path vector-effect=\"non-scaling-stroke\" d=\"M1.768000e+01,0 L1.768000e+01,-6 M7.427486e+01,0 L7.427486e+01,-6 M1.308697e+02,0 L1.308697e+02,-6 M1.874646e+02,0 L1.874646e+02,-6 M2.440595e+02,0 L2.440595e+02,-6 M3.006543e+02,0 L3.006543e+02,-6 M3.572492e+02,0 L3.572492e+02,-6 M4.138441e+02,0 L4.138441e+02,-6 M4.704389e+02,0 L4.704389e+02,-6 M5.270338e+02,0 L5.270338e+02,-6 M5.836286e+02,0 L5.836286e+02,-6 M6.402235e+02,0 L6.402235e+02,-6 M6.968184e+02,0 L6.968184e+02,-6 M7.534132e+02,0 L7.534132e+02,-6 M8.100081e+02,0 L8.100081e+02,-6 \"/></g><g stroke-linejoin=\"round\" dominant-baseline=\"hanging\" stroke=\"black\" stroke-linecap=\"round\" transform=\"translate(70 330 )scale(1 1 )\" font-family=\"sans-serif\" font-weight=\"normal\" fill=\"black\" text-anchor=\"middle\" stroke-width=\"2px\" font-size=\"12px\" font-style=\"normal\"><text stroke=\"none\" vector-effect=\"non-scaling-stroke\" x=\"1.768000e+01\" y=\"10\" dominant-baseline=\"hanging\">0</text><text y=\"10\" dominant-baseline=\"hanging\" stroke=\"none\" vector-effect=\"non-scaling-stroke\" x=\"7.427486e+01\">200</text><text y=\"10\" dominant-baseline=\"hanging\" stroke=\"none\" vector-effect=\"non-scaling-stroke\" x=\"1.308697e+02\">400</text><text vector-effect=\"non-scaling-stroke\" x=\"1.874646e+02\" y=\"10\" dominant-baseline=\"hanging\" stroke=\"none\">600</text><text y=\"10\" dominant-baseline=\"hanging\" stroke=\"none\" vector-effect=\"non-scaling-stroke\" x=\"2.440595e+02\">800</text><text stroke=\"none\" vector-effect=\"non-scaling-stroke\" x=\"3.006543e+02\" y=\"10\" dominant-baseline=\"hanging\">1000</text><text vector-effect=\"non-scaling-stroke\" x=\"3.572492e+02\" y=\"10\" dominant-baseline=\"hanging\" stroke=\"none\">1200</text><text x=\"4.138441e+02\" y=\"10\" dominant-baseline=\"hanging\" stroke=\"none\" vector-effect=\"non-scaling-stroke\">1400</text><text stroke=\"none\" vector-effect=\"non-scaling-stroke\" x=\"4.704389e+02\" y=\"10\" dominant-baseline=\"hanging\">1600</text><text dominant-baseline=\"hanging\" stroke=\"none\" vector-effect=\"non-scaling-stroke\" x=\"5.270338e+02\" y=\"10\">1800</text><text x=\"5.836286e+02\" y=\"10\" dominant-baseline=\"hanging\" stroke=\"none\" vector-effect=\"non-scaling-stroke\">2000</text><text vector-effect=\"non-scaling-stroke\" x=\"6.402235e+02\" y=\"10\" dominant-baseline=\"hanging\" stroke=\"none\">2200</text><text vector-effect=\"non-scaling-stroke\" x=\"6.968184e+02\" y=\"10\" dominant-baseline=\"hanging\" stroke=\"none\">2400</text><text dominant-baseline=\"hanging\" stroke=\"none\" vector-effect=\"non-scaling-stroke\" x=\"7.534132e+02\" y=\"10\">2600</text><text stroke=\"none\" vector-effect=\"non-scaling-stroke\" x=\"8.100081e+02\" y=\"10\" dominant-baseline=\"hanging\">2800</text></g><g font-weight=\"bold\" stroke=\"black\" transform=\"translate(70 330 )scale(1 1 )rotate(0 0 0 )\" font-family=\"sans-serif\" stroke-linejoin=\"round\" dominant-baseline=\"baseline\" font-size=\"12px\" font-style=\"normal\" fill=\"black\" stroke-linecap=\"round\" text-anchor=\"middle\" stroke-width=\"2px\"><text vector-effect=\"non-scaling-stroke\" x=\"442\" y=\"-6\" dominant-baseline=\"baseline\" stroke=\"none\">Steps</text></g><g font-size=\"12px\" font-weight=\"bold\" stroke-linecap=\"round\" text-anchor=\"middle\" stroke-linejoin=\"round\" dominant-baseline=\"baseline\" transform=\"translate(70 330 )scale(1 -1 )\" font-family=\"sans-serif\" stroke=\"black\" stroke-width=\"2px\" font-style=\"normal\" fill=\"black\"><path vector-effect=\"non-scaling-stroke\" d=\"M0,4.017536e+01 L-6,4.017536e+01 M0,1.263231e+02 L-6,1.263231e+02 M0,2.124709e+02 L-6,2.124709e+02 \"/></g><g font-style=\"normal\" fill=\"black\" font-family=\"sans-serif\" stroke-width=\"2px\" stroke-linejoin=\"round\" font-size=\"12px\" stroke=\"black\" stroke-linecap=\"round\" transform=\"translate(70 330 )scale(1 1 )\" text-anchor=\"end\" dominant-baseline=\"middle\" font-weight=\"normal\"><text x=\"-10\" y=\"-4.017536e+01\" dominant-baseline=\"middle\" stroke=\"none\" vector-effect=\"non-scaling-stroke\">0.200</text><text vector-effect=\"non-scaling-stroke\" x=\"-10\" y=\"-1.263231e+02\" dominant-baseline=\"middle\" stroke=\"none\">0.400</text><text dominant-baseline=\"middle\" stroke=\"none\" vector-effect=\"non-scaling-stroke\" x=\"-10\" y=\"-2.124709e+02\">0.600</text></g><g font-family=\"sans-serif\" font-size=\"12px\" stroke-linejoin=\"round\" font-style=\"normal\" font-weight=\"bold\" fill=\"black\" stroke=\"black\" transform=\"translate(70 330 )scale(1 1 )rotate(-90 0 0 )\" dominant-baseline=\"hanging\" stroke-linecap=\"round\" text-anchor=\"middle\" stroke-width=\"2px\"><text dominant-baseline=\"hanging\" stroke=\"none\" vector-effect=\"non-scaling-stroke\" x=\"130\" y=\"6\">loss</text></g><g font-style=\"normal\" font-weight=\"bold\" stroke=\"gray\" text-anchor=\"middle\" stroke-width=\"0.5px\" stroke-linejoin=\"round\" font-family=\"sans-serif\" transform=\"translate(70 330 )scale(1 -1 )\" font-size=\"12px\" fill=\"black\" dominant-baseline=\"hanging\" stroke-linecap=\"round\"><path d=\"M0,4.017536e+01 L884,4.017536e+01 M0,1.263231e+02 L884,1.263231e+02 M0,2.124709e+02 L884,2.124709e+02 \" vector-effect=\"non-scaling-stroke\"/></g><g stroke-linejoin=\"round\" dominant-baseline=\"hanging\" fill=\"none\" stroke=\"black\" stroke-width=\"2px\" font-size=\"12px\" font-style=\"normal\" font-weight=\"bold\" stroke-linecap=\"round\" font-family=\"sans-serif\" text-anchor=\"middle\"><rect y=\"70\" width=\"884\" height=\"260\" vector-effect=\"non-scaling-stroke\" x=\"70\"/><g dominant-baseline=\"middle\" fill=\"black\" font-size=\"18px\"><text dominant-baseline=\"middle\" stroke=\"none\" vector-effect=\"non-scaling-stroke\" x=\"512\" y=\"35\">loss metrics</text></g><g font-size=\"12px\" font-weight=\"normal\" fill=\"hsl(90, 47%, 65%)\" stroke-linecap=\"round\" font-family=\"sans-serif\" font-style=\"normal\" stroke=\"hsl(90, 47%, 65%)\" text-anchor=\"start\" stroke-width=\"1px\" stroke-linejoin=\"round\" dominant-baseline=\"hanging\"><rect x=\"76\" y=\"366\" width=\"12\" height=\"12\" vector-effect=\"non-scaling-stroke\"/><g stroke=\"black\" fill=\"black\"><text vector-effect=\"non-scaling-stroke\" x=\"92\" y=\"366\" dominant-baseline=\"hanging\" stroke=\"none\">Eval on test-eval: Mean Loss</text></g><g fill=\"hsl(301, 88%, 65%)\" text-anchor=\"start\" stroke-width=\"1px\" stroke=\"hsl(301, 88%, 65%)\" font-family=\"sans-serif\" font-style=\"normal\" stroke-linejoin=\"round\" dominant-baseline=\"hanging\" stroke-linecap=\"round\" font-size=\"12px\" font-weight=\"normal\"><rect width=\"12\" height=\"12\" vector-effect=\"non-scaling-stroke\" x=\"76\" y=\"384\"/><g fill=\"black\" stroke=\"black\"><text x=\"92\" y=\"384\" dominant-baseline=\"hanging\" stroke=\"none\" vector-effect=\"non-scaling-stroke\">Eval on train-eval: Mean Loss</text></g><g text-anchor=\"start\" stroke-linejoin=\"round\" dominant-baseline=\"hanging\" font-size=\"12px\" font-style=\"normal\" fill=\"hsl(152, 76%, 65%)\" stroke=\"hsl(152, 76%, 65%)\" stroke-width=\"1px\" font-weight=\"normal\" stroke-linecap=\"round\" font-family=\"sans-serif\"><rect x=\"76\" y=\"402\" width=\"12\" height=\"12\" vector-effect=\"non-scaling-stroke\"/><g fill=\"black\" stroke=\"black\"><text y=\"402\" dominant-baseline=\"hanging\" stroke=\"none\" vector-effect=\"non-scaling-stroke\" x=\"92\">Train: Batch Loss</text></g><g stroke-width=\"1px\" font-style=\"normal\" stroke-linecap=\"round\" font-weight=\"normal\" fill=\"hsl(3, 64%, 65%)\" stroke=\"hsl(3, 64%, 65%)\" text-anchor=\"start\" stroke-linejoin=\"round\" dominant-baseline=\"hanging\" font-family=\"sans-serif\" font-size=\"12px\"><rect height=\"12\" vector-effect=\"non-scaling-stroke\" x=\"76\" y=\"420\" width=\"12\"/><g stroke=\"black\" fill=\"black\"><text vector-effect=\"non-scaling-stroke\" x=\"92\" y=\"420\" dominant-baseline=\"hanging\" stroke=\"none\">Train: Moving Average Loss</text></g></g></g></g></g></g></svg>"
      ]
     },
     "metadata": {},
     "output_type": "display_data"
    },
    {
     "name": "stdout",
     "output_type": "stream",
     "text": [
      "\n",
      "Results on train-eval:\n",
      "\tMean Loss (#loss): 0.143\n",
      "\tMean Accuracy (#acc): 95.59%\n",
      "Results on test-eval:\n",
      "\tMean Loss (#loss): 0.439\n",
      "\tMean Accuracy (#acc): 85.45%\n"
     ]
    }
   ],
   "source": [
    "%% --model=transformer --steps=3000 --batch=100 --optimizer=adamw --max_len=200 --max_att_len=200 --max_vocab=10000 --att_heads=4 --att_layers=3 --att_key_dim=32\n",
    "trainModel()"
   ]
  }
 ],
 "metadata": {
  "kernelspec": {
   "display_name": "Go (gonb)",
   "language": "go",
   "name": "gonb"
  },
  "language_info": {
   "codemirror_mode": "",
   "file_extension": ".go",
   "mimetype": "",
   "name": "go",
   "nbconvert_exporter": "",
   "pygments_lexer": "",
   "version": "go1.20.1"
  }
 },
 "nbformat": 4,
 "nbformat_minor": 5
}
