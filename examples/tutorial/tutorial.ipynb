{
 "cells": [
  {
   "cell_type": "markdown",
   "id": "1be69dd2-b703-459e-980c-b91e34784402",
   "metadata": {},
   "source": [
    "<img alt=\"[GoMLX Mascot]\" src=\"gomlx_gopher.jpg\" style=\"height:10em; float:left; margin:1em;\"/>\n",
    "\n",
    "# GoMLX Tutorial \n",
    "\n",
    "If you want just to quickly look at an working example, checkout [examples/cifar/demo/adult.ipynb](https://github.com/gomlx/gomlx/blob/main/examples/cifar/cifar.ipynb), for model trained on the UCI Adult Income dataset. More examples in [examples/](https://github.com/gomlx/gomlx/tree/main/examples) subdirectory. \n",
    "\n",
    "The tutorial won't detail the whole API, but should present all important concepts. Everything else is\n",
    "well documented in godoc (in the code), also available in [pkg.go.dev](https://pkg.go.dev/github.com/gomlx/gomlx#section-readme).\n",
    "\n",
    "The tutorial was written using a Jupyter notebook with [GoNB](https://github.com/janpfeifer/gonb), a kernel for Go that was co-developed with **GoMLX**. It has its own [short tutorial](https://github.com/janpfeifer/gonb/blob/main/examples/tutorial.ipynb) for those interested.\n",
    "\n",
    "If you are seeing this tutorial from [github](https://github.com/gomlx/gomlx/blob/main/examples/tutorial/tutorial.ipynb) snapshop, you won't be able to interact with it. To be able to play with it, try **installing GoMLX**, see its [README Installation section](https://github.com/gomlx/gomlx#installation). The easiest way is to start the pre-generated docker and use the Jupyter notebook there -- this tutorial can be opened from there in an interactive way.\n",
    "\n",
    "\n",
    "\n"
   ]
  },
  {
   "cell_type": "markdown",
   "id": "53d4a4b5-7d5b-4293-b9d4-88bb00c26abf",
   "metadata": {},
   "source": [
    "## Computation Graphs\n",
    "\n",
    "> [Package `graph` reference documentation](https://pkg.go.dev/github.com/gomlx/gomlx/graph)\n",
    "\n",
    "To do machine learning based on neural networks and gradient descent one of most important\n",
    "requirements is the ability to do mathematical computations (mostly matrix multiplications)\n",
    "fast.\n",
    "\n",
    "GoMLX is built on the concept of building \"computation graphs\", just-in-time compiling them \n",
    "and only then executing them to get the desired results. That means one has to write code\n",
    "that generates other type of code (computation graph) so to say. We do this because then we are\n",
    "able to execute it really fast using [XLA](https://github.com/openxla/xla).\n",
    "\n",
    "For example, let's create a computation graph to sum two values:\n",
    "\n",
    "> **Note**\n",
    "> - If executing this on a notebook, notice the very first cell execution takes a few seconds for Go to fetch the required dependencies."
   ]
  },
  {
   "cell_type": "code",
   "execution_count": 26,
   "id": "e6c58651-25bb-47ab-ab60-6e8a7beeebe6",
   "metadata": {
    "tags": []
   },
   "outputs": [],
   "source": [
    "!*go mod edit --replace github.com/gomlx/gomlx=${HOME}/Projects/gomlx\n",
    "import . \"github.com/gomlx/gomlx/graph\"\n",
    "\n",
    "func SumGraph(a, b *Node) *Node {\n",
    "    return Add(a, b)\n",
    "}"
   ]
  },
  {
   "cell_type": "markdown",
   "id": "2631ec80-f864-4743-8124-757f430ed221",
   "metadata": {},
   "source": [
    "> **Note**\n",
    "> \n",
    "> - The `import . \"github.com/gomlx/gomlx/graph\"` import all definitions in computation to the current scope. Usually,\n",
    ">   it's easier to work like this on go files that are going to implement graph building functions.\n",
    "> - Our function is named `SumGraph`: the suffix `Graph` is just a convention, but it helps identifying functions \n",
    ">   that do graph building.\n",
    "> - The type `*Node` represents a node in the computation graph. All graph operations either take a\n",
    ">   `*Graph` object to start with, or a `*Node`, and create new nodes with the corresponding operations.\n",
    ">   So our example will create an `Add` node that will take the nodes pointed by `a` and `b`, build a node \n",
    ">   that represent their summation and then return this `*Node`. \n",
    "> - Every node contains a reference to the `*Graph` it's part of (see [`Node.Graph()`](https://pkg.go.dev/github.com/gomlx/gomlx/graph#Node.Graph)).\n",
    "> - There is a rich set of operations available in GoMLX, see [`Node` documentation](https://pkg.go.dev/github.com/gomlx/gomlx/graph#Node).\n",
    "\n",
    "Ok, but this won't tell us what is 1+1 yet. We need to compile and then execute this graph with\n",
    "some input values."
   ]
  },
  {
   "cell_type": "markdown",
   "id": "41235bcc-8acb-478a-86ae-bd67f9ab0766",
   "metadata": {},
   "source": [
    "## Executing Graphs with `Exec`\n",
    "\n",
    "[`Exec`](https://pkg.go.dev/github.com/gomlx/gomlx/graph#Exec) is the easiest way to compile and execute computation graphs in GoMLX. \n",
    "To run our `SumGraph` function above we can do:\n",
    "\n",
    "> **Note**: if you have a GPU and this is the very first time you run, NVidia/XLA take a couple of minutes pre-caching \"stuff\" (only happens once)."
   ]
  },
  {
   "cell_type": "code",
   "execution_count": 28,
   "id": "9f99a97a-6d64-4cad-9981-43b784d569b7",
   "metadata": {
    "tags": []
   },
   "outputs": [
    {
     "name": "stdout",
     "output_type": "stream",
     "text": [
      "1+1=2\n"
     ]
    }
   ],
   "source": [
    "var manager = NewManager()\n",
    "\n",
    "%%\n",
    "exec := NewExec(manager, SumGraph)  \n",
    "two := exec.Call(1, 1)[0]\n",
    "fmt.Printf(\"1+1=%v\\n\", two.Value())"
   ]
  },
  {
   "cell_type": "markdown",
   "id": "329b3b41-b814-4e57-8968-bde0de4dccaa",
   "metadata": {
    "tags": []
   },
   "source": [
    "> **Note**\n",
    ">\n",
    "> - `%%` is a shortcut for `func main()`: everything after it is put inside a `main` function by **GoNB**, the Go Notebook kernel.\n",
    "> - `NewManager()` creates a `Manager` object, which connects to an accelerator if present. \n",
    ">   Usually one creates one at the beginning of the program and passes it around.\n",
    ">   Here **GoNB** will keep the global variable `manager` available to all cells, so we don't need\n",
    ">   to define it again.\n",
    ">   - The API also offers `BuildManager` method, that allows fine-grained control on which accelerator (or not)\n",
    ">     to use, number of threads, etc.\n",
    "> - The `Exec` object created is associated with a graph building function (`SumGraph` in this case). It lazily \n",
    ">   compiles and executes the compiled computation as needed. Naturally the first time `Call()` is invoked\n",
    ">   it is slow: it has to build the graph and *just-in-time* (JIT) compile it. But the compiled graph afterwards \n",
    ">   is optimized and very fast to execute, which is what we want for machine learning.\n",
    "> - The `Exec.Call(1, 1)` method always returns a slice of results, along with an optional error (ignored here), \n",
    ">   independent of the number of outputs of the Graph building function. That's why we use `[0]` to access the\n",
    ">   first result.\n",
    "> - The results of graph execution are always **tensors** (see section below). They can be converted to Go types\n",
    ">   using `.Value()` method.\n",
    "\n",
    "Something important to understand is that **Graphs have static (fixed) shapes for its inputs and outputs**. What\n",
    "it means is that, for example, if you are going to sum floats instead of ints, `Exec` would have to rebuild the graph\n",
    "to take as input two floats. Or if you want to sum a vector or matrix or ints, or any different `shapes.Shape`.\n",
    "\n",
    "> For a detailed explanation of `Shape` and the associate concepts of Axis, Dimensions and `DType` (the underlying data type), \n",
    "see [package `shapes` documentation](https://pkg.go.dev/github.com/gomlx/gomlx/types/shapes).\n",
    "\n",
    "To exemplify, let's expand our code a bit:"
   ]
  },
  {
   "cell_type": "code",
   "execution_count": 30,
   "id": "8b1a61bf-f902-43db-a2f0-8c8ddf61375d",
   "metadata": {
    "tags": []
   },
   "outputs": [
    {
     "name": "stdout",
     "output_type": "stream",
     "text": [
      "* building graph for a.shape=(Int64)[] and b.shape=(Int64)[]\n",
      "1+1=2\n",
      "0+0=0\n",
      "1+1=2\n",
      "2+2=4\n",
      "3+3=6\n",
      "4+4=8\n",
      "* building graph for a.shape=(Float64)[] and b.shape=(Float64)[]\n",
      "3.5+1.5=5\n",
      "* building graph for a.shape=(Float32)[3] and b.shape=(Float32)[3]\n",
      "[1.1, 2.2, 3.3] + [10, 10, 10] = [11.1 12.2 13.3]\n"
     ]
    }
   ],
   "source": [
    "import (\n",
    "    \"fmt\"\n",
    "    . \"github.com/gomlx/gomlx/graph\"\n",
    ")\n",
    "\n",
    "func SumGraph(a, b *Node) *Node {\n",
    "    fmt.Printf(\"* building graph for a.shape=%s and b.shape=%s\\n\", a.Shape(), b.Shape())\n",
    "    return Add(a, b)\n",
    "}\n",
    "\n",
    "\n",
    "func main() {\n",
    "    sumExec := NewExec(manager, SumGraph)\n",
    "    two := sumExec.Call(1, 1)[0]\n",
    "    fmt.Printf(\"1+1=%v\\n\", two.Value())\n",
    "\n",
    "    for ii := 0; ii < 5; ii++ {\n",
    "        sumInts := sumExec.Call(ii, ii)[0]\n",
    "        fmt.Printf(\"%d+%d=%v\\n\", ii, ii, sumInts.Value())\n",
    "    }\n",
    "\n",
    "    five := sumExec.Call(3.5, 1.5)[0]\n",
    "    fmt.Printf(\"3.5+1.5=%v\\n\", five.Value())\n",
    "\n",
    "    many := sumExec.Call([]float32{1.1, 2.2, 3.3}, []float32{10, 10, 10})[0]\n",
    "    fmt.Printf(\"[1.1, 2.2, 3.3] + [10, 10, 10] = %v\\n\", many.Value())\n",
    "}"
   ]
  },
  {
   "cell_type": "markdown",
   "id": "22a1073e-bc4e-4278-a982-758bd5be4200",
   "metadata": {},
   "source": [
    "> **Note**\n",
    ">   - Each time a new graph is created, we added a `fmt.Printf` to tell us\n",
    ">     the shape of the graph operands. Notice that `fmt.Printf` is not included in the graph,\n",
    ">     it's only part of the graph building function. We'll see later how to print\n",
    ">     intermediary results in the middle of the execution of the graph.\n",
    ">   - Every `Node` has an associated shape (`shapes.Shape` type). A shape is defined by its underlying data type \n",
    ">     `shapes.DType` and its axes dimensions. For scalars, the shape has zero axes (dimensions). E.g.: `(Int64)[]` represents\n",
    ">     a scalar `int` value, and `(Float32)[3]` represents a vector with 3 `float32` values. More details\n",
    ">     and the list of type supported in the package `gomlx/types`.\n",
    ">   - `Exec` automatically calls `SumGraph` whenever the `Call()` method sees parameters of shapes\n",
    ">     different from it has seen before (there is a cache of pre-compiled graphs kept in memory with limited size).\n",
    "\n",
    "In general the graph operations only work with the same `shapes.DType` (\"data type\"). \n",
    "If they are different, they are reported back with a `panic` (works like an exception, and can be caught) with an error with a full stack-trace in the returned result. \n",
    "\n",
    "Let's create an example with an error to see how this goes:\n"
   ]
  },
  {
   "cell_type": "code",
   "execution_count": 35,
   "id": "dce20082-e817-47a4-ac3e-9eec27a6e3a5",
   "metadata": {
    "tags": []
   },
   "outputs": [
    {
     "name": "stdout",
     "output_type": "stream",
     "text": [
      "* building graph for a.shape=(Float64)[] and b.shape=(Int64)[]\n"
     ]
    },
    {
     "name": "stderr",
     "output_type": "stream",
     "text": [
      "panic: operands of AddNode have different dtypes (Float64 and Int64)\n",
      "\n",
      "goroutine 1 [running]:\n",
      "github.com/gomlx/gomlx/types/exceptions.Panicf(...)\n",
      "\t/home/janpf/Projects/gomlx/types/exceptions/exceptions.go:69\n",
      "github.com/gomlx/gomlx/graph.twoArgsNode(0x2f, 0xc0000e00a0, 0xc0000e01e0)\n",
      "\t/home/janpf/Projects/gomlx/graph/node.go:426 +0x1a5\n",
      "github.com/gomlx/gomlx/graph.Add(...)\n",
      "\t/home/janpf/Projects/gomlx/graph/node.go:433\n",
      "main.SumGraph(0xc0000e00a0, 0xc0000e01e0)\n",
      "\t \u001b[7m[[ Cell [30] Line 8 ]]\u001b[0m /tmp/gonb_7be75428/main.go:15 +0x171\n",
      "reflect.Value.call({0x523760?, 0x552a50?, 0xc0000cd8d0?}, {0x544cb5, 0x4}, {0xc0000aca80, 0x2, 0xc0000cda98?})\n",
      "\t/home/janpf/src/golang/go/src/reflect/value.go:586 +0xb0b\n",
      "reflect.Value.Call({0x523760?, 0x552a50?, 0x0?}, {0xc0000aca80?, 0x0?, 0x0?})\n",
      "\t/home/janpf/src/golang/go/src/reflect/value.go:370 +0xbc\n",
      "github.com/gomlx/gomlx/graph.(*Exec).createAndCacheGraph(0xc0000dc000, {0xc0000be150, 0x2, 0x0?})\n",
      "\t/home/janpf/Projects/gomlx/graph/exec.go:450 +0x854\n",
      "github.com/gomlx/gomlx/graph.(*Exec).findCacheEntry(0xc0000dc000, {0xc0000be150?, 0x2, 0x2})\n",
      "\t/home/janpf/Projects/gomlx/graph/exec.go:504 +0x187\n",
      "github.com/gomlx/gomlx/graph.(*Exec).CallWithGraph(0xc0000dc000, {0xc0000cdf50, 0x2, 0x2})\n",
      "\t/home/janpf/Projects/gomlx/graph/exec.go:358 +0x385\n",
      "github.com/gomlx/gomlx/graph.(*Exec).Call(...)\n",
      "\t/home/janpf/Projects/gomlx/graph/exec.go:323\n",
      "main.main()\n",
      "\t \u001b[7m[[ Cell [35] Line 3 ]]\u001b[0m /tmp/gonb_7be75428/main.go:26 +0xc5\n",
      "exit status 2\n"
     ]
    }
   ],
   "source": [
    "%%\n",
    "sumExec := NewExec(manager, SumGraph)\n",
    "_ = sumExec.Call(1.1, 2) // Error: arguments have different dtypes float64 and int.\n"
   ]
  },
  {
   "cell_type": "markdown",
   "id": "1622fe6c-cbc8-46fd-8d56-eaec55e3fc9d",
   "metadata": {},
   "source": [
    "> **Note**\n",
    "> - In the stack-trace above there are 2 lines of interest, that typically help to debug such issues:\n",
    ">   1. Where in the graph building function `main.SumGraph` function the invalid operation was created: **Line 8 of the previous cell**.\n",
    ">   2. Where in the `main` function, the graph was attempted to be executed: **Line 3 of this cell**.\n",
    "> - You can enable displaying line-numbers in the JupyterLab with \"ESC+L\" (upper-case L).\n",
    "\n",
    "If you want to catch errors, **GoMLX** provides a small `exceptions` library, that defines `TryCatch[E]`, that will catch arbitrary `panic` (thrown) exceptions. **GoMLX** only throws `error` type of exceptions. So you could do:\n",
    "\n",
    "```go\n",
    "err := TryCatch[error](func() {_ = exec.Call(1.1, 2)}) // Error: different types (float64 and int) !?\n",
    "if err != nil { … }\n",
    "```\n"
   ]
  },
  {
   "cell_type": "markdown",
   "id": "52564b67-ae23-4545-b853-9a5c1fe384e2",
   "metadata": {},
   "source": [
    "## Tensors\n",
    "\n",
    "Tensors are multidimensional arrays of a given data type (`shapes.DType`) defined in the package `gomlx/types/tensor`. \n",
    "\n",
    "For GoMLX tensors work as **containers of data** that are used as concrete inputs and outputs for the\n",
    "execution of computational graphs. There is only basic support to manipulate tensors directly (it includes access directly to its data)\n",
    "because one expects to do that with the computational graphs.  Tensors have a shape (`shapes.Shape`)\n",
    "just like `Node`.\n",
    "\n",
    "The package includes a generic `tensor.Tensor` interface, that is implemented by two types of tensors:\n",
    "`tensor.Local` and `tensor.Device`, that differ where their data is stored. \n",
    "\n",
    "The `tensor.Device` have the data in the accelerator device that is going to run the computation \n",
    "(even if it is \"Host\", which represents the CPU). These are used as input and output of the\n",
    "computation graph.\n",
    "\n",
    "`Local` means a tensor stored in local memory, and it can be directly mutated -- but generally\n",
    "we only use it to input or output data.\n",
    "\n",
    "The generic `Tensor` interface includes methods to transfer the tensor from `Local` to `Device` and vice-versa.\n",
    "It includes a cache to avoid transfering the same data multiple times. Most APIs will use `Tensor` as\n",
    "parameters and transfer as needed. \n",
    "\n",
    "There is a **cost in transferring** between `Local` and `Device`, be mindful when handling \n",
    "large data values. The API include `Finalize` to force immediate _finalization_ of a tensor, \n",
    "to free it's memory, as opposed to wait for the GC (for those very large models where GPU\n",
    "memory is at a premium).\n",
    "\n",
    "Graph execution only consumes (input) and outputs `Device` tensors, but the library provide\n",
    "all the conversion tools needed to make that simple.\n",
    "\n",
    "Example:"
   ]
  },
  {
   "cell_type": "code",
   "execution_count": 20,
   "id": "6acb053e-13e3-4d79-8cc5-5cb134d0e78a",
   "metadata": {
    "tags": []
   },
   "outputs": [
    {
     "name": "stdout",
     "output_type": "stream",
     "text": [
      "counter.type=*tensor.Device, counter.shape=(Int64)[], counter=1\n",
      "counter=11\n"
     ]
    }
   ],
   "source": [
    "%%\n",
    "manager := BuildManager().Platform(\"Host\").MustDone()\n",
    "onePlusExec := NewExec(manager, func (x *Node) *Node {\n",
    "    return OnePlus(x) \n",
    "})\n",
    "// exec.Call will return a tensor.Device.\n",
    "counter := onePlusExec.Call(0)[0]\n",
    "// counter.Value() will first transfer counter to local with counter.Local().\n",
    "fmt.Printf(\"counter.type=%s, counter.shape=%s, counter=%v\\n\", reflect.TypeOf(counter), counter.Shape(), counter.Value())\n",
    "for ii := 0; ii < 10; ii++ {\n",
    "    // exec.Call will use counter.Device(): which uses the current value (no need to transfer) that is already\n",
    "    // on Device.\n",
    "    counter = onePlusExec.Call(counter)[0]\n",
    "}\n",
    "// counter.Value() will first convert counter to local with counter.Local().\n",
    "fmt.Printf(\"counter=%v\\n\", counter.Value())"
   ]
  },
  {
   "cell_type": "markdown",
   "id": "8ea8aeee-e88d-43c5-8a91-362099fce822",
   "metadata": {},
   "source": [
    "> **Note**:\n",
    "> - In the first call to `onePlusExec.Call(0)`, the Go constant `0` is automatically converted to a `*tensor.Device`\n",
    ">   by `Exec` and fed to the graph. It returns a `[]tensor.Tensor` with one element, containing `0+1=1`.\n",
    "> - The returned tensor is actually a `*tensor.Device` (that implements a `tensor.Tensor` interface), but the\n",
    ">   storage of the data in on device.\n",
    "> - When we loop the counter, note that we never move `counter` to a `*tensor.Local`. If we were to execute this on a \n",
    ">   GPU or TPU, the data would not have been moved back to the CPU while executing the loop -- making it faster.\n",
    "> - When we print the final result in `counter.Value()` the actual data is converted to a `tensor.Local`\n",
    ">   and its content automatically converted back to a Go `int` type.\n",
    "\n",
    "There are several ways to create `Local` tensors, the most common:\n",
    "\n",
    " - `FromValue[S](value S)`: Generics conversion, works with any supported `DType` scalar\n",
    "   as well as with any arbitrary multidimensional slice. Slices of rank > 1 must be regular, that is\n",
    "   all the sub-slices must have the same shape. E.g: `FromValue([][]float{{1,2}, {3, 5}, {7, 11}})`\n",
    " - `FromShape(shape shapes.Shape)`: creates a Local tensor with the given shape, and uninitialized values. See\n",
    "   documentation on how to mutate `Local` tensors in place with `Local.AcquireData()`.\n",
    " - `FromScalarAndDimensions[T](value T, dimensions ...int)`: creates a Local tensor with the\n",
    "   given dimensions, filled with the scalar value given. `T` must be one of the supported types.\n",
    "\n",
    "`Local` tensors provide also functions to serialize/deserialize in binary format.\n",
    "\n",
    "`Device` tensors are created only by transferring local tensors to the device, or if they are returned by the execution of a graph. \n",
    "\n",
    "See more documentation in [pkg.go](https://pkg.go.dev/github.com/gomlx/gomlx/types/tensor).\n",
    "\n",
    "Errors in the manipulation of Tensors (e.g. invalid values) are reported back with `panic`, with full stack-traces, just as\n",
    "with the `graph` package described in the previous package. The errors can easily be caught (with `recover()` or with `exceptions.TryCatch` helper) when needed."
   ]
  },
  {
   "cell_type": "markdown",
   "id": "bd1593dc-b621-4307-b9fb-06376ccf1940",
   "metadata": {
    "tags": []
   },
   "source": [
    "## Gradients\n",
    "\n",
    "Another important functionality required to train machine learning models based on gradient descent is calculating \n",
    "the gradients of some value being optimized with respect to some variable / quantity. \n",
    "\n",
    "GoMLX does this statically, during graph building time. It adds to the graph the computation for the gradient.\n",
    "\n",
    "Example: let's calculate the gradient of the function $f(x, y) = x^2 + xy$ for a few values of $x$ and $y$.\n",
    "Algebraically we have $df/dx(x,y) = 2x + y$ and $df/dy(x,y) = x$.\n"
   ]
  },
  {
   "cell_type": "code",
   "execution_count": 36,
   "id": "a1736ccc-df7c-4b8f-a6c2-312719547f69",
   "metadata": {
    "tags": []
   },
   "outputs": [
    {
     "name": "stdout",
     "output_type": "stream",
     "text": [
      "f=[0 21 64], df/dx=[10 22 34], df/dy=[0 1 2]\n"
     ]
    }
   ],
   "source": [
    "func f(x, y *Node) *Node {\n",
    "    return Add(Square(x), Mul(x, y))\n",
    "}\n",
    "\n",
    "%%\n",
    "gradOfFExec := NewExec(manager, func(x, y *Node) (output, gradX, gradY *Node) {\n",
    "    output = f(x, y)\n",
    "    sum := ReduceAllSum(output) // In case x and y are not scalars.\n",
    "    grads := Gradient(sum, x, y)\n",
    "    gradX, gradY = grads[0], grads[1] // df/dx, df/dy\n",
    "    return output, gradX, gradY\n",
    "})\n",
    "\n",
    "results := gradOfFExec.Call([]float64{0, 1, 2}, []float64{10, 20, 30})\n",
    "fmt.Printf(\"f=%v, df/dx=%v, df/dy=%v\\n\", results[0].Value(), results[1].Value(), results[2].Value())\n"
   ]
  },
  {
   "cell_type": "markdown",
   "id": "4afbd1b1-d53f-45be-8b95-8aab31bd3de2",
   "metadata": {},
   "source": [
    "> **Note**:\n",
    "> - For now GoMLX only calculates gradients of a scalar (typically a model loss) with respect to arbitrary tensors.\n",
    ">   It does not yet calculate **jacobians**, that is, if the value we are deriving is not a scalar. That's the reason\n",
    ">   of the `ReduceAllSum` in the example, the result is the derivative of the sum of all the 3 inputs.\n",
    "> - A question that may arise is whether it calculates the second derivative (*hessian*). In principle the machinery\n",
    ">   to do that is in place, but there are 2 limitations: (1) not all operations have their derivative implemented,\n",
    ">   in particular some of the operations that are only used when calculating the first derivative; (2) it only \n",
    ">   calculates the gradient with respect to a scalar, in most cases the hessian will be the gradient of a gradient,\n",
    ">   usually of higher rank -- Btw, contributions to the project here are welcome ;)  \n"
   ]
  },
  {
   "cell_type": "markdown",
   "id": "c1bc04a1-30df-4a5a-aede-07dedf2a3798",
   "metadata": {},
   "source": [
    "## Variables and Context\n",
    "\n",
    "Computation graphs are [pure functions](https://en.wikipedia.org/wiki/Pure_function): they have no state,\n",
    "they take inputs, return outputs and everything in between is transient[^1].\n",
    "\n",
    "[^1]: With a few exceptions, like the random number generator.\n",
    "\n",
    "For Machine Learning as well as many types of computations, it's convenient to store intermediary results\n",
    "(the model parameters for ML) in between the execution of the computation graphs.\n",
    "\n",
    "For that GoMLX offers the `context.Context` object (completely unrelated to the usual Go's `context` package), \n",
    "and a corresponding `context.Exec`. It is a container of\n",
    "variables (whose values are tensors on device), and it manages automatically its updates, passing it as extra\n",
    "inputs and taking them out (if changed) as extra outputs of the computation graph.\n",
    "\n",
    "This may sound more complex than it is in practice. Let's see an example, where we try to find $argmin_{x}{f(x)}$ where\n",
    "$f(x) = ax^2 + bx + c$. If we solve it literally we should get, for $a > 0$, $argmin_{x}{f(x)} = \\frac{-b}{2a}$. Instead\n",
    "we solve it numerically, by gradient descent:"
   ]
  },
  {
   "cell_type": "code",
   "execution_count": 38,
   "id": "610daa58-952e-4d8e-8769-c2d8609baa14",
   "metadata": {
    "tags": []
   },
   "outputs": [],
   "source": [
    "import \"flag\"\n",
    "\n",
    "var (\n",
    "    flagA = flag.Float64(\"a\", 1.0, \"Value of a in the equation ax^2+bx+c\")\n",
    "    flagB = flag.Float64(\"b\", 2.0, \"Value of b in the equation ax^2+bx+c\")\n",
    "    flagC = flag.Float64(\"c\", 4.0, \"Value of c in the equation ax^2+bx+c\")\n",
    "    flagNumSteps = flag.Int(\"steps\", 10, \"Number of gradient descent steps to perform\")\n",
    "    flagLearningRate    = flag.Float64(\"lr\", 0.1, \"Initial learning rate.\")\n",
    ")\n",
    "\n",
    "// f(x) = ax^2 + bx + c\n",
    "func fGraph(x *Node) *Node {\n",
    "    f := MulScalar(Square(x), *flagA)\n",
    "    f = Add(f, MulScalar(x, *flagB))\n",
    "    f = AddScalar(f, *flagC)\n",
    "    return f\n",
    "}\n",
    "\n",
    "// minimizeF does one gradient descent on F by moving a variable \"x\",\n",
    "// and returns the value of the function at the current \"x\".\n",
    "func minimizeF(ctx *context.Context, graph *Graph) *Node {\n",
    "    xVar := ctx.VariableWithValue(\"x\", 0.0) // Variable reference.\n",
    "    x := xVar.ValueGraph(graph)             // Read variable for the current graph.\n",
    "    f := fGraph(x)                          // Value of f(x).\n",
    "    \n",
    "    // Gradient always return a slice, we take the first element for grad of X.\n",
    "    gradX := Gradient(f, x)[0] \n",
    "    \n",
    "    // stepNum += 1\n",
    "    stepNumVar := ctx.VariableWithValue(\"stepNum\", 0.0)\n",
    "    stepNum := stepNumVar.ValueGraph(graph)\n",
    "    stepNum = OnePlus(stepNum)\n",
    "    stepNumVar.SetValueGraph(stepNum)\n",
    "    \n",
    "    // step = -learningRate * gradX / Sqrt(stepNum)\n",
    "    step := Div(gradX, Sqrt(stepNum))\n",
    "    step = MulScalar(step, -*flagLearningRate)\n",
    "    \n",
    "    // x += step\n",
    "    x = Add(x, step)\n",
    "    xVar.SetValueGraph(x)\n",
    "    return f  // f(x)\n",
    "}\n",
    "\n",
    "func Solve() {\n",
    "    ctx := context.NewContext(manager)\n",
    "    exec := context.NewExec(manager, ctx, minimizeF)\n",
    "    \n",
    "    for ii := 0; ii < *flagNumSteps-1; ii++ {\n",
    "        _ = exec.Call()\n",
    "    }\n",
    "    f := exec.Call()[0]\n",
    "    x := ctx.InspectVariable(ctx.Scope(), \"x\").Value()\n",
    "    stepNum := ctx.InspectVariable(ctx.Scope(), \"stepNum\").Value()\n",
    "    fmt.Printf(\"Minimum found at x=%g, f(x)=%g after %f steps.\\n\", x.Value(), f.Value(), stepNum.Value())\n",
    "}"
   ]
  },
  {
   "cell_type": "markdown",
   "id": "14d308a2-582b-49ce-b1e4-d55997b66f97",
   "metadata": {},
   "source": [
    "The code above created `Solve()` that will solve for the values set by the flags `a`, `b`, and `c`.\n",
    "\n",
    "Let's try a few values:\n",
    "\n",
    "> **Note**: `%%` in GoNB automatically creates a `func main()` and passes the extra arguments to the Go program."
   ]
  },
  {
   "cell_type": "code",
   "execution_count": 40,
   "id": "f7ba4841-21a4-4715-ac9e-6dba59b97218",
   "metadata": {
    "tags": []
   },
   "outputs": [
    {
     "name": "stdout",
     "output_type": "stream",
     "text": [
      "Minimum found at x=-1, f(x)=2 after 10.000000 steps.\n"
     ]
    }
   ],
   "source": [
    "%% --a=1 --b=2 --c=3 --steps=10 --lr=0.5\n",
    "Solve()"
   ]
  },
  {
   "cell_type": "code",
   "execution_count": 41,
   "id": "9ff74708-1bed-49ce-b3c8-b02e9278d8fc",
   "metadata": {
    "tags": []
   },
   "outputs": [
    {
     "name": "stdout",
     "output_type": "stream",
     "text": [
      "Minimum found at x=-3, f(x)=2 after 10.000000 steps.\n"
     ]
    }
   ],
   "source": [
    "%% --a=2 --b=12 --c=20 --steps=10 --lr=0.5\n",
    "Solve()"
   ]
  },
  {
   "cell_type": "markdown",
   "id": "082674a7-937d-48e0-8f29-77c5bb3eee83",
   "metadata": {},
   "source": [
    "> **Note**:\n",
    "> - We are using `context.Exec`, while before we were using `computation.Exec`. The main difference is that\n",
    ">   `context.Exec` compiles and executes graph functions that take a context as its first parameter, and it \n",
    ">   automatically handles the passing of variables as side inputs and outputs (for those variables updated)\n",
    ">   of the computation graph.\n",
    "> - During graph building, we access and set the variables with `Variable.ValueGraph` and `VariableSetValueGraph`: \n",
    ">   They return/take `*Node` types, that can be used in the graph.\n",
    "> - Outside graph building, we can access the last value set to a variable by using `Variable.Value()` and \n",
    ">   `Variable.SetValue`. They return/take concrete `tensor.Tensor` types. Usually a `*tensor.Device`, the\n",
    ">   value actually being stored in the accelerator.\n",
    "> - We created two variables, one for \"x\" that we were optimizing to minimize $f(x)$, and one variable \"stepNum\",\n",
    ">   used to keep track how many steps were already executed. \n",
    "> - Yes, if we set `--lr=1` (the learning rate), it will get to the minimum in one step for the quadratic f(x). 😉\n",
    "\n",
    "There is more to `context.Context`, some we'll present on the next section on *Machine Learning*, others can\n",
    "be found in its documentation. A few things worth advancing:\n",
    "\n",
    "* `Context` is always configured at a certain *scope*, and variables are unique within its scope. Scope\n",
    "  is easily changed with `ctx.In(\"new_scope\")`. So the `Context` object is a scope (a string) and a pointer to \n",
    "  the actual data (variables, graph and model parameters).\n",
    "* `Context` also holds model parameters (concrete Go values), which are also scoped. \n",
    "  Those can be hyperparameters for the models (learning rate, regularization, etc.) or anything the user or\n",
    "  any library may create a convention for.\n",
    "* Similarly `Context` also holds \"Graph parameters\". Those are very similar to model parameters, but they\n",
    "  have one value per Graph. So if a model is created with parameters of different shape (or for training/evaluation),\n",
    "  each version will have its own Graph parameters. Don't worry about this now -- if you need it later\n",
    "  when building complex graphs, the funcitonality will be there."
   ]
  },
  {
   "cell_type": "markdown",
   "id": "ee9edc1e-c79c-4a8e-b570-b20c0195db44",
   "metadata": {},
   "source": [
    "## Machine Learning (ML)\n",
    "\n",
    "The previous sections presented the fundamentals of what is needed to implement machine learning. This section\n",
    "we present various sub-packages that provide high level ML layers and tools that make building, training and \n",
    "evaluating a model trivial.\n",
    "\n",
    "First is the package `layers` (see code in [ml/layers](../../../tree/main/ml/layers/). It provides several composable ML layers. \n",
    "These are graph building functions, most of which take a `*context.Context` as first parameter, where they store \n",
    "variables or access hyperparameters. \n",
    "There are several such layers, for example: `layers.Dense`, \n",
    "`layers.Dropout`, `layers.PiecewiseLinearCalibration` (very good for normalization of inputs), `layers.BatchNorm`, \n",
    "`layers.LayerNorm`, `layers.Convolution`, `layers.MultiHeadAttention` (for [Transformers](https://arxiv.org/abs/1706.03762) \n",
    "layers), etc.\n",
    "\n",
    "The package `train` offers two main functionalities: `train.Trainer` will build a *train step* and an *eval step*\n",
    "graph, given a model graph building function and an optimizer. This graph can be executed in sequence to train a model.\n",
    "The package also provides `train.Loop` that simply loop over a `train.Dataset` interface, reading data and feeding\n",
    "it to `Trainer.TrainStep` or `Trainer.EvalStep`, along with executing configurable hooks on the training loop. One\n",
    "such hooks is provided by `gomlx/train/commandline.AttachProgressBar(loop)`, it pretty prints the progress during\n",
    "training on the command line.\n",
    "\n",
    "There are also a collection of optimizers, loss functions, metrics, etc. For any functionality there is always an\n",
    "example under the [examples/](../../../tree/main/examples/) subdirectory.\n",
    "\n",
    "Let's look at the simplest ML example: [`linear`](../../../tree/main/examples/linear/linear.go), \n",
    "which trains a linear model on nosiy generated data.\n",
    "\n",
    "Here are the constants of our problem:"
   ]
  },
  {
   "cell_type": "code",
   "execution_count": 43,
   "id": "d82352a6-2c89-4c00-b483-522f7c067f25",
   "metadata": {
    "tags": []
   },
   "outputs": [],
   "source": [
    "const (\n",
    "    CoefficientMu    = 0.0\n",
    "    CoefficientSigma = 5.0\n",
    "    BiasMu           = 1.0\n",
    "    BiasSigma        = 10.0\n",
    ")"
   ]
  },
  {
   "cell_type": "markdown",
   "id": "6a176818-1ad3-416c-8de9-c52bc3a83c97",
   "metadata": {},
   "source": [
    "To generate synthetic data it first randomly chose some random coefficients and bias based on which data is \n",
    "generated. These selected coefficients is the ones we want to try to learn using ML. The coefficients could\n",
    "have been selected in Go directly using `math/random`, but just for fun, we do it using a computation graph."
   ]
  },
  {
   "cell_type": "code",
   "execution_count": 47,
   "id": "83231803-576d-4504-9978-b32175ee7cc6",
   "metadata": {
    "tags": []
   },
   "outputs": [
    {
     "name": "stdout",
     "output_type": "stream",
     "text": [
      "Example of target: coefficients=[-8.83 2.06 5.73], bias=-1.16\n"
     ]
    }
   ],
   "source": [
    "import (\n",
    "    \"github.com/gomlx/gomlx/types/shapes\"\n",
    "    \"github.com/gomlx/gomlx/types/tensor\"\n",
    ")\n",
    "\n",
    "// initCoefficients chooses random coefficients and bias. These are the true values the model will\n",
    "// attempt to learn.\n",
    "func initCoefficients(manager *Manager, numVariables int) (coefficients, bias tensor.Tensor) {\n",
    "    e := NewExec(manager, func(g *Graph) (coefficients, bias *Node) {\n",
    "        rngState := Const(g, RngState())\n",
    "        rngState, coefficients = RandomNormal(rngState, shapes.Make(shapes.F64, numVariables))\n",
    "        coefficients = AddScalar(MulScalar(coefficients, CoefficientSigma), CoefficientMu)\n",
    "        rngState, bias = RandomNormal(rngState, shapes.Make(shapes.F64))\n",
    "        bias = AddScalar(MulScalar(bias, BiasSigma), BiasMu)\n",
    "        return\n",
    "    })\n",
    "    results := e.Call()\n",
    "    coefficients, bias = results[0], results[1]\n",
    "    return\n",
    "}\n",
    "\n",
    "%%\n",
    "coef, bias := initCoefficients(manager, 3)\n",
    "fmt.Printf(\"Example of target: coefficients=%0.3v, bias=%0.3v\\n\", coef.Value(), bias.Value()) "
   ]
  },
  {
   "cell_type": "markdown",
   "id": "92557ffc-7c1a-414d-9efe-f9eb0e2f4a07",
   "metadata": {
    "tags": []
   },
   "source": [
    "> **Note**\n",
    "> - This code should look familiar, using things we presented earlier in the tutorial. It creates a computation\n",
    ">   graph to generate randomly the `coefficients` and `bias`. Then it executes it and returns the result. \n",
    "> - Notice that since the *computation graph is functional*: we need to pass around the random number\n",
    ">   generator state, which gets updated at each call to `RandomUniform` or `RandomNormal`.\n",
    ">   - Alternatively the `context.Context` introduced early can keep the state\n",
    ">     as a variable, and provides a simpler interface: see `Context.RandomUniform` and `Context.RandomNormal`.\n",
    "\n",
    "Next, we want to generate the data (examples): we generate random inputs, and then the label using the\n",
    "selected coefficients plus some normal noise.\n"
   ]
  },
  {
   "cell_type": "code",
   "execution_count": 51,
   "id": "1ee57593-a9dd-4038-a704-694a120840fa",
   "metadata": {
    "tags": []
   },
   "outputs": [
    {
     "name": "stdout",
     "output_type": "stream",
     "text": [
      "Target: coefficients=[-2.12 0.37 11.2], bias=-25.7\n",
      "5 dataset examples:\n",
      "\tx=[0.73 0.976 1.4]; label=[-11.4]\n",
      "\tx=[2.18 -1.06 -0.082]; label=[-31.7]\n",
      "\tx=[-0.335 0.113 -0.313]; label=[-28.7]\n",
      "\tx=[0.623 0.269 -0.979]; label=[-37.8]\n",
      "\tx=[1.87 0.309 -0.419]; label=[-34.3]\n"
     ]
    }
   ],
   "source": [
    "func buildExamples(manager *Manager, coef, bias tensor.Tensor, numExamples int, noise float64) (inputs, labels tensor.Tensor) {\n",
    "    e := NewExec(manager, func(coef, bias *Node) (inputs, labels *Node) {\n",
    "        g := coef.Graph()\n",
    "        numFeatures := coef.Shape().Dimensions[0]\n",
    "\n",
    "        // Random inputs (observations).\n",
    "        rngState := Const(g, RngState())\n",
    "        rngState, inputs = RandomNormal(rngState, shapes.Make(shapes.F64, numExamples, numFeatures))\n",
    "        coef = ExpandDims(coef, 0)\n",
    "\n",
    "        // Calculate perfect labels.\n",
    "        labels = ReduceAndKeep(Mul(inputs, coef), ReduceSum, -1)\n",
    "        labels = Add(labels, bias)\n",
    "        if noise > 0 {\n",
    "            // Add some noise to the labels.\n",
    "            var noiseVector *Node\n",
    "            rngState, noiseVector = RandomNormal(rngState, labels.Shape())\n",
    "            noiseVector = MulScalar(noiseVector, noise)\n",
    "            labels = Add(labels, noiseVector)\n",
    "        }\n",
    "        return\n",
    "    })\n",
    "    examples := e.Call(coef, bias)\n",
    "    inputs, labels = examples[0], examples[1]\n",
    "    return\n",
    "}\n",
    "\n",
    "%%\n",
    "coef, bias := initCoefficients(manager, 3)\n",
    "numExamples := 5\n",
    "inputsTensor, labelsTensor := buildExamples(manager, coef, bias, numExamples, 0.2)\n",
    "fmt.Printf(\"Target: coefficients=%0.3v, bias=%0.3v\\n\", coef.Value(), bias.Value()) \n",
    "\n",
    "fmt.Printf(\"%d dataset examples:\\n\", numExamples)\n",
    "inputs := inputsTensor.Local().Value().([][]float64)\n",
    "labels := labelsTensor.Local().Value().([][]float64)\n",
    "for ii := 0; ii < numExamples; ii ++ {\n",
    "    fmt.Printf(\"\\tx=%0.3v; label=%0.3v\\n\", inputs[ii], labels[ii])\n",
    "}"
   ]
  },
  {
   "cell_type": "markdown",
   "id": "4c2ef923-f7cb-4011-ab84-901e0747cd68",
   "metadata": {},
   "source": [
    "### Dataset\n",
    "\n",
    "Now the first new concept of this section: `train.Dataset` is the interface that is used to feed data to\n",
    "during a training loop or evaluation. \n",
    "\n",
    "There are three methods: `Dataset.Yield` that returns the next batch of examples; \n",
    "`Dataset.Reset` restarts the dataset, for datasets that don't loop indefinitely; \n",
    "Finally `Dataset.Name` returns the dataset name, usually used for metric names, logging and printing.\n",
    "\n",
    "Datasets also yield a `spec`, an opaque type for GoMLX (defined as `any`), that allows the dataset to communicate\n",
    "to the model which type of data it is generating. In our case, since it's always the same data, we don't need it, \n",
    "so we keep it set to `nil`. \n",
    "If one would implement a dataset like a generic CSV file, one may want to communicate \n",
    "to the model the field names to the Model throught the `spec`, for instance. See the documentation for more details.\n",
    "\n",
    "For our linear synthetic data we implement the simplest `train.Dataset`: the whole data is pre-generated, and we return a giant batch with the full data every time:"
   ]
  },
  {
   "cell_type": "code",
   "execution_count": 52,
   "id": "2cadb18d-ef0e-4036-b450-a64f8286a65b",
   "metadata": {
    "tags": []
   },
   "outputs": [],
   "source": [
    "import \"github.com/gomlx/gomlx/ml/train\"\n",
    "\n",
    "// TrivialDataset always returns the whole data.\n",
    "type TrivialDataset struct {\n",
    "    name string\n",
    "    inputs, labels []tensor.Tensor\n",
    "}\n",
    "\n",
    "var (\n",
    "    // Assert Dataset implements train.Dataset.\n",
    "    _ train.Dataset = &TrivialDataset{}\n",
    ")\n",
    "// Name implements train.Dataset.\n",
    "func (ds *TrivialDataset) Name() string { return ds.name }\n",
    "\n",
    "// Yield implements train.Dataset.\n",
    "func (ds *TrivialDataset) Yield() (spec any, inputs, labels []tensor.Tensor, err error) {\n",
    "    return nil, ds.inputs, ds.labels, nil\n",
    "}\n",
    "\n",
    "// Reset implements train.Dataset.\n",
    "func (ds *TrivialDataset) Reset() {}"
   ]
  },
  {
   "cell_type": "markdown",
   "id": "b1647e85-76c8-4adc-b317-2c50356231c4",
   "metadata": {},
   "source": [
    "> **Note**:\n",
    "> * More often it is more work pre-processing data than actually building an ML model ... that's life 🙁\n",
    "> * In the [examples/](../../../tree/main/examples/) subdirectory we implement `train.Dataset` for some\n",
    ">   well known data sets: UCI Adult, Cifar-10, Cifar-100, IMDB Reviews, Kaggle's Dogs vs Cats, Oxford Flowers 102.\n",
    ">   These can be used as libraries to easily try different models. \n",
    ">   If you are workig on public datasets, please consider contributing similar libraries.\n",
    "> * **GoMLX** also include the `data.InMemoryDataset`, which can be created from tensors in one line -- we could\n",
    ">   have used that instead of defining `TrivialDataset`, but we left it because often \n",
    "\n",
    "The package [github.com/gomlx/gomlx/ml/data](https://pkg.go.dev/github.com/gomlx/gomlx/ml/data) provides several\n",
    "tools to facilitate the work here:\n",
    "\n",
    "* `Parallel`: parallelizes any dataset, includes some buffer.\n",
    "* `InMemory`: reads a dataset into (accelerator) memory, and then serves it from there -- greatly accelerates training.\n",
    "* Downloading (with progress-bar) and checksum functions.\n",
    "\n",
    "\n",
    "### ModelFn\n",
    "\n",
    "Next we build a model, that for our `train` package means implementing a function with the following signature:\n",
    "\n",
    "```go\n",
    "type ModelFn func(ctx *context.Context, spec any, inputs []*graph.Node) (predictions []*graph.Node)\n",
    "```\n",
    "\n",
    "It takes a `context.Context` for the variables and hyperparameters, the `spec`  and a slice of `inputs` --\n",
    "the last two are fed by `Dataset.Yield` above. It returns a slice of `predictions` -- is most cases there \n",
    "is just one value in the slice (only one prediction). During training `predictions` fed to the loss function,\n",
    "and during inference they can be returned directly.\n",
    "\n",
    "Our linear example has the simplest model possible:"
   ]
  },
  {
   "cell_type": "code",
   "execution_count": 14,
   "id": "40eb46ee-4850-4c5f-8422-9273529a2c04",
   "metadata": {
    "tags": []
   },
   "outputs": [],
   "source": [
    "func modelGraph(ctx *context.Context, spec any, inputs []*Node) ([]*Node) {\n",
    "    _ = spec  // Not needed here, we know the dataset.\n",
    "    logits := layers.Dense(ctx, inputs[0], /* useBias= */ true, /* outputDim= */ 1)\n",
    "    return []*Node{logits}\n",
    "}"
   ]
  },
  {
   "cell_type": "markdown",
   "id": "a7c60a04-0eac-4ec9-8c91-888368802f30",
   "metadata": {},
   "source": [
    "> **Note**\n",
    "> - It uses the `layers.Dense` layer, which simply multiplies the input by a learnable matrix (weights)\n",
    ">   and optionally add a learnable bias. It's the most basic building block of neural networks (NNs).\n",
    ">   The implementation of `layers.Dense` is pretty simple, and worth checking out to refresh how\n",
    ">   variables from the `Context` are used.\n",
    "> - Since it's a linear model, we don't use an activation function. The usual are available for NNs (`Relu`,\n",
    ">   `Sigmoid`, `Tanh` and more to come).\n",
    "> - The `spec` parameter allows the creation of a `ModelFn` that can be used for different types of data. The dataset\n",
    ">   can Yield also a `spec` about the type of data it is reading. Each different value of `spec` will trigger the\n",
    ">   the creation of a different computation graph, so ideally there would be at most a few types of different data\n",
    ">   source `spec`. Most commonly there is only one, like in this example, and the parameter can be ignored.\n",
    "\n",
    "### Trainer and Loop\n",
    "\n",
    "The last part is put together a `train.Trainer` and `train.Loop` objects in our `main()` function. The\n",
    "first stitches together the model, the optimizer and the loss function, and is able to run training\n",
    "steps and evaluations. The second, `train.Loop`, loops over the dataset executing a training step at\n",
    "a time and supporst a subscription (hooking) system, where one attaches things like a progress bar,\n",
    "or plotting of a graph."
   ]
  },
  {
   "cell_type": "code",
   "execution_count": 15,
   "id": "37642e67-c2c7-4ab8-a65b-9f196372efbf",
   "metadata": {
    "tags": []
   },
   "outputs": [
    {
     "name": "stdout",
     "output_type": "stream",
     "text": [
      "Coefficients: [-1.8218 5.2781 -0.99633]\n",
      "Bias: 17.422\n",
      "\n",
      "Training data (inputs, labels): ((Float64)[10000 3], (Float64)[10000 1])\n",
      "\n",
      "Training (10 steps):  100% [\u001b[32m=\u001b[0m\u001b[32m=\u001b[0m\u001b[32m=\u001b[0m\u001b[32m=\u001b[0m\u001b[32m=\u001b[0m\u001b[32m=\u001b[0m\u001b[32m=\u001b[0m\u001b[32m=\u001b[0m\u001b[32m=\u001b[0m\u001b[32m=\u001b[0m\u001b[32m=\u001b[0m\u001b[32m=\u001b[0m\u001b[32m=\u001b[0m\u001b[32m=\u001b[0m\u001b[32m=\u001b[0m\u001b[32m=\u001b[0m\u001b[32m=\u001b[0m\u001b[32m=\u001b[0m\u001b[32m=\u001b[0m\u001b[32m=\u001b[0m\u001b[32m=\u001b[0m\u001b[32m=\u001b[0m\u001b[32m=\u001b[0m\u001b[32m=\u001b[0m\u001b[32m=\u001b[0m\u001b[32m=\u001b[0m\u001b[32m=\u001b[0m\u001b[32m=\u001b[0m\u001b[32m=\u001b[0m\u001b[32m=\u001b[0m\u001b[32m=\u001b[0m\u001b[32m=\u001b[0m\u001b[32m=\u001b[0m\u001b[32m=\u001b[0m\u001b[32m=\u001b[0m\u001b[32m=\u001b[0m\u001b[32m=\u001b[0m\u001b[32m=\u001b[0m\u001b[32m=\u001b[0m\u001b[32m=\u001b[0m] (151 steps/s)\u001b[0m [loss=44.794] [~loss=125.460]        \n",
      "\n",
      "Learned coefficients: [[-1.2449] [3.5755] [-0.73268]]\n",
      "Learned bias: [11.466]\n"
     ]
    }
   ],
   "source": [
    "import \"github.com/gomlx/gomlx/ml/train/commandline\"\n",
    "\n",
    "var (\n",
    "    flagNumExamples  = flag.Int(\"num_examples\", 10000, \"Number of examples to generate\")\n",
    "    flagNumFeatures  = flag.Int(\"num_features\", 3, \"Number of features\")\n",
    "    flagNoise        = flag.Float64(\"noise\", 0.2, \"Noise in synthetic data generation\")\n",
    ")\n",
    "\n",
    "// AttachToLoop is a hook to allow one to attach different functionality to the loop.\n",
    "func AttachToLoop(loop *train.Loop) {\n",
    "    commandline.AttachProgressBar(loop) // Attaches a progress bar to the loop.\n",
    "}\n",
    "\n",
    "// TrainMain() does everything to train the linear model.\n",
    "func TrainMain() {\n",
    "    flag.Parse()\n",
    "    manager := BuildManager().Platform(\"Host\").MustDone()\n",
    "\n",
    "    // Select coefficients that we will try to predic.\n",
    "    trueCoefficients, trueBias := initCoefficients(manager, *flagNumFeatures)\n",
    "    fmt.Printf(\"Coefficients: %0.5v\\n\", trueCoefficients.Value())\n",
    "    fmt.Printf(\"Bias: %0.5v\\n\\n\", trueBias.Value())\n",
    "\n",
    "    // Generate training data with noise.\n",
    "    inputs, labels := buildExamples(manager, trueCoefficients, trueBias, *flagNumExamples, *flagNoise)\n",
    "    fmt.Printf(\"Training data (inputs, labels): (%s, %s)\\n\\n\", inputs.Shape(), labels.Shape())\n",
    "    dataset := &TrivialDataset{\"linear\", []tensor.Tensor{inputs}, []tensor.Tensor{labels}}\n",
    "\n",
    "    // Creates Context with learned weights and bias.\n",
    "    ctx := context.NewContext(manager)\n",
    "    ctx.SetParam(optimizers.LearningRateKey, *flagLearningRate)\n",
    "\n",
    "    // train.Trainer executes a training step.\n",
    "    trainer := train.NewTrainer(manager, ctx, modelGraph,\n",
    "        losses.MeanSquaredError,\n",
    "        optimizers.StochasticGradientDescent(),\n",
    "        nil, nil) // trainMetrics, evalMetrics\n",
    "    loop := train.NewLoop(trainer)\n",
    "    AttachToLoop(loop)\n",
    "\n",
    "    // Loop for given number of steps.\n",
    "    _, err := loop.RunSteps(dataset, *flagNumSteps)\n",
    "    AssertNoError(err)\n",
    "\n",
    "    // Print learned coefficients and bias -- from the weights in the dense layer.\n",
    "    fmt.Println()\n",
    "    coefVar, biasVar := ctx.InspectVariable(\"/dense\", \"weights\"), ctx.InspectVariable(\"/dense\", \"biases\")\n",
    "    learnedCoef, learnedBias := coefVar.Value(), biasVar.Value()\n",
    "    fmt.Printf(\"Learned coefficients: %0.5v\\n\", learnedCoef.Value())\n",
    "    fmt.Printf(\"Learned bias: %0.5v\\n\", learnedBias.Value())\n",
    "}\n",
    "\n",
    "%%\n",
    "TrainMain()"
   ]
  },
  {
   "cell_type": "markdown",
   "id": "03efed68-cfa3-42a6-af40-e8c6d7aac87d",
   "metadata": {},
   "source": [
    "> **Note**:\n",
    "> - Hyperparameters are set on the context. Layers and optimizers can define their own\n",
    ">   hyperparemeters independently. `Context` uses a scoping system (like directories), \n",
    ">   and hyperparameters can take specialized values under specific scopes -- e.g.: \n",
    ">   doing `ctx.In(\"dense_5\").SetParam(layers.L2RegularizationKey, 0.1)` would set\n",
    ">   L2 regularization only for the layer `dense_5` of the model to `0.1`.\n",
    "> - The `trainer` constructor also takes as input arbitrary metrics (for training and evaluation).\n",
    ">   The metric of the loss of the last batch, and a moving average of the loss are always included\n",
    ">   automatically. There are many others, that can be means or moving averages, etc.\n",
    "> - The 'Loop' object is very flexible. One can attach any functionality with `OnStart`, `OnStep`,\n",
    ">   `OnEnd`, `EveryNSteps` or `NTimesDuringLoop`. The most common such functionality is the\n",
    ">   `commandline.AttachProgressBar`. There is also a plotting of any arbitrary metric or any\n",
    ">   arbitrary `Node` in the computation graph.\n",
    "> - `Loop.RunSteps()` returns also the final metrics from the training, usually printed out.\n",
    "\n",
    "### Training and Plotting\n",
    "\n",
    "As our last example, let's train it \"for real\", that is, with more steps.\n",
    "\n",
    "And to make things prettier, let's attach also a plot of the metrics registered. In our example\n",
    "the only metrics are the default ones, the batch and mean of the loss -- the mean squared error."
   ]
  },
  {
   "cell_type": "code",
   "execution_count": 16,
   "id": "e6514ede-c84e-4259-96ee-8d6eea196815",
   "metadata": {
    "tags": []
   },
   "outputs": [
    {
     "name": "stdout",
     "output_type": "stream",
     "text": [
      "Coefficients: [-4.3234 3.3146 0.12164]\n",
      "Bias: 6.2798\n",
      "\n",
      "Training data (inputs, labels): ((Float64)[10000 3], (Float64)[10000 1])\n",
      "\n"
     ]
    },
    {
     "data": {
      "text/html": []
     },
     "metadata": {},
     "output_type": "display_data"
    },
    {
     "name": "stdout",
     "output_type": "stream",
     "text": [
      "Training (100 steps):  100% [\u001b[32m=\u001b[0m\u001b[32m=\u001b[0m\u001b[32m=\u001b[0m\u001b[32m=\u001b[0m\u001b[32m=\u001b[0m\u001b[32m=\u001b[0m\u001b[32m=\u001b[0m\u001b[32m=\u001b[0m\u001b[32m=\u001b[0m\u001b[32m=\u001b[0m\u001b[32m=\u001b[0m\u001b[32m=\u001b[0m\u001b[32m=\u001b[0m\u001b[32m=\u001b[0m\u001b[32m=\u001b[0m\u001b[32m=\u001b[0m\u001b[32m=\u001b[0m\u001b[32m=\u001b[0m\u001b[32m=\u001b[0m\u001b[32m=\u001b[0m\u001b[32m=\u001b[0m\u001b[32m=\u001b[0m\u001b[32m=\u001b[0m\u001b[32m=\u001b[0m\u001b[32m=\u001b[0m\u001b[32m=\u001b[0m\u001b[32m=\u001b[0m\u001b[32m=\u001b[0m\u001b[32m=\u001b[0m\u001b[32m=\u001b[0m\u001b[32m=\u001b[0m\u001b[32m=\u001b[0m\u001b[32m=\u001b[0m\u001b[32m=\u001b[0m\u001b[32m=\u001b[0m\u001b[32m=\u001b[0m\u001b[32m=\u001b[0m\u001b[32m=\u001b[0m\u001b[32m=\u001b[0m\u001b[32m=\u001b[0m] (994 steps/s)\u001b[0m [loss=0.073] [~loss=3.528]        \n",
      "\n"
     ]
    },
    {
     "data": {
      "text/html": [
       "<svg style=\"background-color:#f8f8f8\" preserveAspectRatio=\"xMidYMid meet\" xmlns=\"http://www.w3.org/2000/svg\" width=\"1024\" height=\"418\" viewbox=\"0 0 1024 400\"><defs><marker markerUnits=\"userSpaceOnUse\" markerWidth=\"2%\" markerHeight=\"2%\" id=\"circle\" viewBox=\"0 0 10 10 \" refX=\"5\" refY=\"5\"><circle fill=\"none\" stroke=\"black\" cx=\"5\" cy=\"5\" r=\"3\"/></marker><marker markerUnits=\"userSpaceOnUse\" markerWidth=\"2%\" markerHeight=\"2%\" id=\"filled-circle\" viewBox=\"0 0 10 10 \" refX=\"5\" refY=\"5\"><circle stroke=\"none\" cx=\"5\" cy=\"5\" r=\"3\" fill=\"black\"/></marker><marker refY=\"5\" markerUnits=\"userSpaceOnUse\" markerWidth=\"2%\" markerHeight=\"2%\" id=\"square\" viewBox=\"0 0 10 10 \" refX=\"5\"><rect x=\"2\" y=\"2\" width=\"6\" height=\"6\" fill=\"none\" stroke=\"black\"/></marker><marker viewBox=\"0 0 10 10 \" refX=\"5\" refY=\"5\" markerUnits=\"userSpaceOnUse\" markerWidth=\"2%\" markerHeight=\"2%\" id=\"filled-square\"><rect height=\"6\" fill=\"black\" stroke=\"none\" x=\"2\" y=\"2\" width=\"6\"/></marker></defs><g marker-start=\"url(#square)\" transform=\"translate(70 330 )scale(1 -1 )\" fill=\"none\" stroke-width=\"2px\" stroke-linecap=\"round\" marker-mid=\"url(#square)\" stroke-linejoin=\"round\" marker-end=\"url(#square)\" stroke=\"hsl(90, 47%, 65%)\"><path vector-effect=\"non-scaling-stroke\" d=\"M1.768000e+01,2.548000e+02 L2.625212e+01,2.070397e+02 L3.482424e+01,1.763249e+02 L4.339636e+01,1.542211e+02 L5.196848e+01,1.372828e+02 L6.054061e+01,1.237646e+02 L6.911273e+01,1.126619e+02 L7.768485e+01,1.033454e+02 L8.625697e+01,9.539559e+01 L9.482909e+01,8.851998e+01 L1.034012e+02,8.250693e+01 L1.119733e+02,7.719882e+01 L1.205455e+02,7.247541e+01 L1.291176e+02,6.824309e+01 L1.376897e+02,6.442773e+01 L1.462618e+02,6.096977e+01 L1.548339e+02,5.782070e+01 L1.634061e+02,5.494058e+01 L1.719782e+02,5.229619e+01 L1.805503e+02,4.985963e+01 L1.891224e+02,4.760733e+01 L1.976945e+02,4.551916e+01 L2.062667e+02,4.357787e+01 L2.148388e+02,4.176856e+01 L2.234109e+02,4.007829e+01 L2.319830e+02,3.849577e+01 L2.405552e+02,3.701111e+01 L2.491273e+02,3.561559e+01 L2.576994e+02,3.430149e+01 L2.662715e+02,3.306198e+01 L2.748436e+02,3.189096e+01 L2.834158e+02,3.078298e+01 L2.919879e+02,2.973314e+01 L3.005600e+02,2.873706e+01 L3.091321e+02,2.779077e+01 L3.177042e+02,2.689068e+01 L3.262764e+02,2.603354e+01 L3.348485e+02,2.521640e+01 L3.434206e+02,2.443657e+01 L3.519927e+02,2.369160e+01 L3.605648e+02,2.297923e+01 L3.691370e+02,2.229740e+01 L3.777091e+02,2.164424e+01 L3.862812e+02,2.101799e+01 L3.948533e+02,2.041706e+01 L4.034255e+02,1.983997e+01 L4.119976e+02,1.928535e+01 L4.205697e+02,1.875194e+01 L4.291418e+02,1.823857e+01 L4.377139e+02,1.774414e+01 L4.462861e+02,1.726765e+01 L4.548582e+02,1.680816e+01 L4.634303e+02,1.636479e+01 L4.720024e+02,1.593671e+01 L4.805745e+02,1.552317e+01 L4.891467e+02,1.512345e+01 L4.977188e+02,1.473687e+01 L5.062909e+02,1.436283e+01 L5.148630e+02,1.400071e+01 L5.234352e+02,1.364998e+01 L5.320073e+02,1.331011e+01 L5.405794e+02,1.298061e+01 L5.491515e+02,1.266103e+01 L5.577236e+02,1.235092e+01 L5.662958e+02,1.204989e+01 L5.748679e+02,1.175755e+01 L5.834400e+02,1.147352e+01 L5.920121e+02,1.119748e+01 L6.005842e+02,1.092908e+01 L6.091564e+02,1.066803e+01 L6.177285e+02,1.041402e+01 L6.263006e+02,1.016678e+01 L6.348727e+02,9.926058e+00 L6.434448e+02,9.691591e+00 L6.520170e+02,9.463145e+00 L6.605891e+02,9.240494e+00 L6.691612e+02,9.023425e+00 L6.777333e+02,8.811732e+00 L6.863055e+02,8.605221e+00 L6.948776e+02,8.403707e+00 L7.034497e+02,8.207013e+00 L7.120218e+02,8.014970e+00 L7.205939e+02,7.827418e+00 L7.291661e+02,7.644203e+00 L7.377382e+02,7.465178e+00 L7.463103e+02,7.290202e+00 L7.548824e+02,7.119143e+00 L7.634545e+02,6.951870e+00 L7.720267e+02,6.788263e+00 L7.805988e+02,6.628201e+00 L7.891709e+02,6.471574e+00 L7.977430e+02,6.318273e+00 L8.063152e+02,6.168194e+00 L8.148873e+02,6.021239e+00 L8.234594e+02,5.877310e+00 L8.320315e+02,5.736318e+00 L8.406036e+02,5.598174e+00 L8.491758e+02,5.462793e+00 L8.577479e+02,5.330094e+00 L8.663200e+02,5.200000e+00 \"/></g><g stroke-width=\"2px\" stroke-linejoin=\"round\" stroke=\"black\" stroke-linecap=\"round\" transform=\"translate(70 330 )scale(1 -1 )\" fill=\"none\"><path vector-effect=\"non-scaling-stroke\" d=\"M1.768000e+01,0 L1.768000e+01,-6 M1.034012e+02,0 L1.034012e+02,-6 M1.891224e+02,0 L1.891224e+02,-6 M2.748436e+02,0 L2.748436e+02,-6 M3.605648e+02,0 L3.605648e+02,-6 M4.462861e+02,0 L4.462861e+02,-6 M5.320073e+02,0 L5.320073e+02,-6 M6.177285e+02,0 L6.177285e+02,-6 M7.034497e+02,0 L7.034497e+02,-6 M7.891709e+02,0 L7.891709e+02,-6 \"/></g><g stroke-linejoin=\"round\" stroke-width=\"2px\" font-family=\"sans-serif\" font-size=\"12px\" text-anchor=\"middle\" stroke=\"black\" dominant-baseline=\"hanging\" fill=\"black\" transform=\"translate(70 330 )scale(1 1 )\" font-weight=\"normal\" stroke-linecap=\"round\" font-style=\"normal\"><text dominant-baseline=\"hanging\" stroke=\"none\" vector-effect=\"non-scaling-stroke\" x=\"1.768000e+01\" y=\"10\">0</text><text x=\"1.034012e+02\" y=\"10\" dominant-baseline=\"hanging\" stroke=\"none\" vector-effect=\"non-scaling-stroke\">10</text><text dominant-baseline=\"hanging\" stroke=\"none\" vector-effect=\"non-scaling-stroke\" x=\"1.891224e+02\" y=\"10\">20</text><text y=\"10\" dominant-baseline=\"hanging\" stroke=\"none\" vector-effect=\"non-scaling-stroke\" x=\"2.748436e+02\">30</text><text vector-effect=\"non-scaling-stroke\" x=\"3.605648e+02\" y=\"10\" dominant-baseline=\"hanging\" stroke=\"none\">40</text><text stroke=\"none\" vector-effect=\"non-scaling-stroke\" x=\"4.462861e+02\" y=\"10\" dominant-baseline=\"hanging\">50</text><text x=\"5.320073e+02\" y=\"10\" dominant-baseline=\"hanging\" stroke=\"none\" vector-effect=\"non-scaling-stroke\">60</text><text x=\"6.177285e+02\" y=\"10\" dominant-baseline=\"hanging\" stroke=\"none\" vector-effect=\"non-scaling-stroke\">70</text><text y=\"10\" dominant-baseline=\"hanging\" stroke=\"none\" vector-effect=\"non-scaling-stroke\" x=\"7.034497e+02\">80</text><text dominant-baseline=\"hanging\" stroke=\"none\" vector-effect=\"non-scaling-stroke\" x=\"7.891709e+02\" y=\"10\">90</text></g><g font-size=\"12px\" stroke-linejoin=\"round\" dominant-baseline=\"baseline\" text-anchor=\"middle\" fill=\"black\" stroke-width=\"2px\" transform=\"translate(70 330 )scale(1 1 )rotate(0 0 0 )\" stroke=\"black\" stroke-linecap=\"round\" font-style=\"normal\" font-family=\"sans-serif\" font-weight=\"bold\"><text dominant-baseline=\"baseline\" stroke=\"none\" vector-effect=\"non-scaling-stroke\" x=\"442\" y=\"-6\">Steps</text></g><g stroke-width=\"2px\" font-family=\"sans-serif\" font-size=\"12px\" stroke-linecap=\"round\" dominant-baseline=\"baseline\" font-style=\"normal\" font-weight=\"bold\" text-anchor=\"middle\" fill=\"black\" transform=\"translate(70 330 )scale(1 -1 )\" stroke=\"black\" stroke-linejoin=\"round\"><path vector-effect=\"non-scaling-stroke\" d=\"M0,6.660017e+01 L-6,6.660017e+01 M0,1.411522e+02 L-6,1.411522e+02 M0,2.157042e+02 L-6,2.157042e+02 \"/></g><g stroke-linejoin=\"round\" font-style=\"normal\" font-weight=\"normal\" text-anchor=\"end\" fill=\"black\" stroke-width=\"2px\" transform=\"translate(70 330 )scale(1 1 )\" font-family=\"sans-serif\" dominant-baseline=\"middle\" font-size=\"12px\" stroke=\"black\" stroke-linecap=\"round\"><text y=\"-6.660017e+01\" dominant-baseline=\"middle\" stroke=\"none\" vector-effect=\"non-scaling-stroke\" x=\"-10\">20.000</text><text x=\"-10\" y=\"-1.411522e+02\" dominant-baseline=\"middle\" stroke=\"none\" vector-effect=\"non-scaling-stroke\">40.000</text><text y=\"-2.157042e+02\" dominant-baseline=\"middle\" stroke=\"none\" vector-effect=\"non-scaling-stroke\" x=\"-10\">60.000</text></g><g stroke-linecap=\"round\" stroke-linejoin=\"round\" dominant-baseline=\"hanging\" stroke=\"black\" transform=\"translate(70 330 )scale(1 1 )rotate(-90 0 0 )\" font-weight=\"bold\" text-anchor=\"middle\" font-style=\"normal\" stroke-width=\"2px\" font-family=\"sans-serif\" font-size=\"12px\" fill=\"black\"><text dominant-baseline=\"hanging\" stroke=\"none\" vector-effect=\"non-scaling-stroke\" x=\"130\" y=\"6\">loss</text></g><g fill=\"black\" stroke-width=\"0.5px\" dominant-baseline=\"hanging\" stroke=\"gray\" stroke-linecap=\"round\" stroke-linejoin=\"round\" font-style=\"normal\" text-anchor=\"middle\" font-weight=\"bold\" transform=\"translate(70 330 )scale(1 -1 )\" font-family=\"sans-serif\" font-size=\"12px\"><path vector-effect=\"non-scaling-stroke\" d=\"M0,6.660017e+01 L884,6.660017e+01 M0,1.411522e+02 L884,1.411522e+02 M0,2.157042e+02 L884,2.157042e+02 \"/></g><g text-anchor=\"middle\" font-family=\"sans-serif\" dominant-baseline=\"hanging\" stroke-linecap=\"round\" stroke-linejoin=\"round\" font-style=\"normal\" font-size=\"12px\" font-weight=\"bold\" fill=\"none\" stroke-width=\"2px\" stroke=\"black\"><rect width=\"884\" height=\"260\" vector-effect=\"non-scaling-stroke\" x=\"70\" y=\"70\"/><g fill=\"black\" font-size=\"18px\" dominant-baseline=\"middle\"><text x=\"512\" y=\"35\" dominant-baseline=\"middle\" stroke=\"none\" vector-effect=\"non-scaling-stroke\">loss metrics</text></g><g stroke-linecap=\"round\" font-style=\"normal\" dominant-baseline=\"hanging\" text-anchor=\"start\" font-weight=\"normal\" stroke=\"hsl(90, 47%, 65%)\" fill=\"hsl(90, 47%, 65%)\" stroke-width=\"1px\" font-family=\"sans-serif\" font-size=\"12px\" stroke-linejoin=\"round\"><rect vector-effect=\"non-scaling-stroke\" x=\"76\" y=\"366\" width=\"12\" height=\"12\"/><g stroke=\"black\" fill=\"black\"><text y=\"366\" dominant-baseline=\"hanging\" stroke=\"none\" vector-effect=\"non-scaling-stroke\" x=\"92\">Train: Moving Average Loss</text></g></g></g></svg>"
      ]
     },
     "metadata": {},
     "output_type": "display_data"
    },
    {
     "name": "stdout",
     "output_type": "stream",
     "text": [
      "Learned coefficients: [[-4.2297] [3.2544] [0.11925]]\n",
      "Learned bias: [6.1451]\n"
     ]
    }
   ],
   "source": [
    "import (\n",
    "    \"github.com/gomlx/gomlx/examples/notebook/gonb/margaid\"\n",
    "    \"github.com/gomlx/gomlx/ml/train\"\n",
    "    \"github.com/gomlx/gomlx/ml/train/commandline\"\n",
    ")\n",
    "\n",
    "func AttachToLoop(loop *train.Loop) {\n",
    "    commandline.AttachProgressBar(loop) // Attaches a progress bar to the loop. \n",
    "    margaid.New(1024, 400).DynamicUpdates().Attach(loop, /* num plot points: */ *flagNumSteps)  // Generates a new plot point at every step.\n",
    "}\n",
    "\n",
    "%% --steps=100\n",
    "TrainMain()"
   ]
  },
  {
   "cell_type": "markdown",
   "id": "8268a8d3-148d-4db5-9289-573d36b73412",
   "metadata": {},
   "source": [
    "> **Note**:\n",
    "> The `gomlx/examples/notebook/gonb/margaid` package will automatically plot all the metrics registered in the trainer. When it attaches itself to \n",
    "> `loop` it collects the metric values (and run evaluation on any requested datasets), and at the end of it, plot it. Optionally, with `Plots.DynamicUpdates()`\n",
    "> it also plots intermediary results, displaying the progress of the training as it happens -- it's too fast here to notice.\n",
    "\n",
    "There is much more in the libraries. Mostly it's well documented, and the implementation is\n",
    "generally simple. We highly recommend looking at it when trying to understand, for instance, how a layer works.\n"
   ]
  },
  {
   "cell_type": "markdown",
   "id": "a71408a0-1763-4ebe-b7f7-912de9866863",
   "metadata": {
    "tags": []
   },
   "source": [
    "## Debugging\n",
    "\n",
    "Unfortunately, the computers just \"don't get it\": they do exactly what we tell them to do,\n",
    "as opposed to what we want them to do, and thus programs fail or crash. \n",
    "GoMLX provides different ways to track down various types of errors. The most commonly used below:\n",
    "\n",
    "### Good old \"printf\"\n",
    "\n",
    "It's convenient because of Go fast compilation (change something and run to see what one gets is\n",
    "almost instant). Logging results to stdout is a valid way of developing. During graph building development,\n",
    "often one prints the shape of the `Node` being operated to confirm (or not) one's expectations.\n",
    "\n",
    "### Delayed Errors\n",
    "\n",
    "Errors during the building of the graph are reported to the `Graph` or the `Context` or both. They,\n",
    "as well as `Node` and tensors, implement the methods `Ok()` and `Error()` to check if there has been \n",
    "an error, and what it is. The errors always include a stack-trace -- print error with `\"%+v\"` to get \n",
    "full stack-trace output.\n",
    "\n",
    "To avoid error checking at every step (it would make the code too cumbersome), the idea is to check for errors\n",
    "only sporadically. The suggestion is to do it in the start of a graph function. If an error happens in between,\n",
    "most operations and layers are able to handle invalid `Node`, by returning invalid nodes themselves. The \n",
    "error stored is always the first one that happened.\n",
    "\n",
    "This scheme has proven very effective during the development of the various operations. \n",
    "\n",
    "Tensors also support delayed error, and can be similarly checked. `Exec` objects report failure\n",
    "in execution through the returned tensors and `Context` object.\n",
    "\n",
    "More discussion on [error handling here](error_handling.go).\n",
    "\n",
    "### Node Shape Asserts\n",
    "\n",
    "During the writing of complex models, it's very common to add comments on the expected shapes of the graph nodes, to\n",
    "facilitate the reader (and developer) of the code to have the right mental model of what is going on.\n",
    "\n",
    "GoMLX provides a series of _assert_ methods that can be used instead. They serve both as documentation, and an early\n",
    "exit in case of some unexpected results. They will set the appropriate error in the Graph if they fail to check the\n",
    "condition.\n",
    "\n",
    "For example, a `modelGraph` function could contain:\n",
    "\n",
    "```go\n",
    "    batch_size := inputs[0].Shape().Dimensions[0]\n",
    "    ...\n",
    "    layer := Concatenate(allEmbeddings, -1)\n",
    "    if !layer.AssertDims(batchSize, -1) {  // 2D tensor, with batch size as the leading dimension.\n",
    "        return nil\n",
    "    }\n",
    "```\n",
    "\n",
    "Although using these when building graphs is the most common case, there are similar assert functions for tensors and shapes themselves in the package `gomlx/types/shapes`.\n",
    "\n",
    "\n",
    "### Graph Execution Logging\n",
    "\n",
    "Every `Node` of the graph can be flagged with `SetLogged(msg)`.\n",
    "The executor (`Exec`) will at the end of the execution log all these values. The default logger \n",
    "(set with `Exec.SetLogger`) will simply print the message `msg` along with the value of the `Node` of\n",
    "interest. \n",
    "\n",
    "In package [`github.com/gomlx/gomlx/experimeantal/collector`](https://github.com/gomlx/gomlx/blob/main/experimental/collector/collector.go) there is also a specialized logger that will collect \n",
    "these values for plotting later. Creating a new specialized logger of any type is trivial.\n",
    "\n",
    "### More Debugging\n",
    "\n",
    "Tests and these methods have been enough to develop most of GoMLX so far. But there are other\n",
    "debugging tools that could be made, see discussion in the [Debugging](https://github.com/gomlx/gomlx/blob/main/docs/debugging.md) document. Let us know if you need something specialized.\n",
    "\n",
    "---\n",
    "\n",
    "Happy coding and [good luck](https://arxiv.org/abs/1803.03635) on modeling!!"
   ]
  },
  {
   "cell_type": "markdown",
   "id": "aeb81912-1bcb-4e28-a397-52e96b20744b",
   "metadata": {
    "tags": []
   },
   "source": [
    "<img alt=\"[Zürich See]\" src=\"zurich_see.jpg\" style=\"width:100%;\"/>\n"
   ]
  }
 ],
 "metadata": {
  "kernelspec": {
   "display_name": "Go (gonb)",
   "language": "go",
   "name": "gonb"
  },
  "language_info": {
   "codemirror_mode": "",
   "file_extension": ".go",
   "mimetype": "",
   "name": "go",
   "nbconvert_exporter": "",
   "pygments_lexer": "",
   "version": "go1.20.4"
  }
 },
 "nbformat": 4,
 "nbformat_minor": 5
}
